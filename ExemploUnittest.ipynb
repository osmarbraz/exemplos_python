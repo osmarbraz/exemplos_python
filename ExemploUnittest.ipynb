{
  "nbformat": 4,
  "nbformat_minor": 0,
  "metadata": {
    "colab": {
      "provenance": [],
      "toc_visible": true,
      "authorship_tag": "ABX9TyPkUD6WF3PvfZlyWx9THDCL",
      "include_colab_link": true
    },
    "kernelspec": {
      "name": "python3",
      "display_name": "Python 3"
    },
    "language_info": {
      "name": "python"
    }
  },
  "cells": [
    {
      "cell_type": "markdown",
      "metadata": {
        "id": "view-in-github",
        "colab_type": "text"
      },
      "source": [
        "<a href=\"https://colab.research.google.com/github/osmarbraz/exemplos_python/blob/master/ExemploUnittest.ipynb\" target=\"_parent\"><img src=\"https://colab.research.google.com/assets/colab-badge.svg\" alt=\"Open In Colab\"/></a>"
      ]
    },
    {
      "cell_type": "markdown",
      "source": [
        "# Exemplos Unittest em Python no Google Colaboratory\n",
        "\n",
        "\n",
        "\n",
        "https://docs.python.org/3/library/unittest.html\n",
        "\n",
        "https://colab.research.google.com/github/damorimRG/practical_testing_book/blob/master/testgranularity/unittesting.ipynb#scrollTo=m_9AnKez-E-h\n",
        "\n",
        "https://www.youtube.com/watch?v=ibVSPVz2LAA"
      ],
      "metadata": {
        "id": "EH9mu6ycbSNU"
      }
    },
    {
      "cell_type": "markdown",
      "source": [
        "## Teste unitário de função"
      ],
      "metadata": {
        "id": "BGYG9GB7bpX1"
      }
    },
    {
      "cell_type": "markdown",
      "source": [
        "### Função a ser testada"
      ],
      "metadata": {
        "id": "icKKYYL4bnJL"
      }
    },
    {
      "cell_type": "code",
      "source": [
        "def areaQuadrado(base, altura):\n",
        "    \n",
        "    area = base * altura\n",
        "    \n",
        "    return area"
      ],
      "metadata": {
        "id": "KPMW6i_vbYKe"
      },
      "execution_count": 1,
      "outputs": []
    },
    {
      "cell_type": "markdown",
      "source": [
        "### Classe de teste"
      ],
      "metadata": {
        "id": "M3i_oONbcsHq"
      }
    },
    {
      "cell_type": "code",
      "execution_count": 2,
      "metadata": {
        "id": "AdGrgXaEa26m"
      },
      "outputs": [],
      "source": [
        "import unittest\n",
        "\n",
        "class TesteAreaQuadrado(unittest.TestCase):\n",
        "    def test_list_int(self):\n",
        "        \"\"\"\n",
        "        Teste unitário da função de cálculo da area\n",
        "        \"\"\"\n",
        "        \n",
        "        # Chama a função\n",
        "        resultado = areaQuadrado(2,2)\n",
        "\n",
        "        # Verifica o resultado\n",
        "        self.assertEqual(resultado, 4)"
      ]
    },
    {
      "cell_type": "markdown",
      "source": [
        "rodando o teste"
      ],
      "metadata": {
        "id": "7kvh8XZCct-r"
      }
    },
    {
      "cell_type": "code",
      "source": [
        "unittest.main(argv=[''], verbosity=2, exit=False)"
      ],
      "metadata": {
        "colab": {
          "base_uri": "https://localhost:8080/"
        },
        "id": "cTeV3aCxchyt",
        "outputId": "415a0b7e-0cd9-4095-da60-71487469bb05"
      },
      "execution_count": 3,
      "outputs": [
        {
          "output_type": "stream",
          "name": "stderr",
          "text": [
            "test_list_int (__main__.TesteAreaQuadrado)\n",
            "Teste unitário da função de cálculo da area ... ok\n",
            "\n",
            "----------------------------------------------------------------------\n",
            "Ran 1 test in 0.010s\n",
            "\n",
            "OK\n"
          ]
        },
        {
          "output_type": "execute_result",
          "data": {
            "text/plain": [
              "<unittest.main.TestProgram at 0x7f4c12c72cd0>"
            ]
          },
          "metadata": {},
          "execution_count": 3
        }
      ]
    },
    {
      "cell_type": "markdown",
      "source": [
        "## Teste unitário de classe"
      ],
      "metadata": {
        "id": "W3oNXFuBcv_a"
      }
    },
    {
      "cell_type": "markdown",
      "source": [
        "### Classe a ser testada"
      ],
      "metadata": {
        "id": "p9Yqbv7Uc8wy"
      }
    },
    {
      "cell_type": "code",
      "source": [
        "class Calculadora:\n",
        "    def __init__(self):\n",
        "        pass\n",
        "\n",
        "    def adicao(self, a, b):\n",
        "        return a + b\n",
        "\n",
        "    def subtracao(self, a, b):\n",
        "        return a - b\n",
        "  \n",
        "    def produto(self, a, b):\n",
        "        return a * b\n",
        "\n",
        "    def divisao(self, a, b):\n",
        "        if b != 0:\n",
        "            return a / b"
      ],
      "metadata": {
        "id": "OINudRr3cx8D"
      },
      "execution_count": 4,
      "outputs": []
    },
    {
      "cell_type": "markdown",
      "source": [
        "### Classe de teste"
      ],
      "metadata": {
        "id": "365eW-zOc_P8"
      }
    },
    {
      "cell_type": "code",
      "source": [
        "import unittest\n",
        "\n",
        "class TestCalculadora(unittest.TestCase):\n",
        "  \n",
        "    def test_add(self):\n",
        "        '''Teste unitário da função de adição'''\n",
        "        self.calc = Calculadora()\n",
        "\n",
        "        resultado = self.calc.adicao(4, 7)\n",
        "        \n",
        "        esperado = 11\n",
        "        self.assertEqual(resultado, esperado)\n",
        "\n",
        "    def test_sub(self):\n",
        "        '''Teste unitário da função de subtração'''\n",
        "        self.calc = Calculadora()\n",
        "        \n",
        "        resultado = self.calc.subtracao(10, 5)\n",
        "        \n",
        "        esperado = 5\n",
        "        self.assertEqual(resultado, esperado)\n",
        "    \n",
        "    def test_mul(self):\n",
        "        '''Teste unitário da função de produto'''\n",
        "        self.calc = Calculadora()\n",
        "        \n",
        "        resultado = self.calc.produto(3, 7)\n",
        "        \n",
        "        esperado = 21\n",
        "        self.assertEqual(resultado, esperado)\n",
        "\n",
        "    def test_div(self):\n",
        "        '''Teste unitário da função de divisão'''\n",
        "        self.calc = Calculadora()\n",
        "        \n",
        "        resultado = self.calc.divisao(10, 2)\n",
        "        \n",
        "        esperado = 5\n",
        "        self.assertEqual(resultado, esperado)"
      ],
      "metadata": {
        "id": "qo2du_RydDiO"
      },
      "execution_count": 5,
      "outputs": []
    },
    {
      "cell_type": "markdown",
      "source": [
        "rodando o teste"
      ],
      "metadata": {
        "id": "L-UCKa3_dnEx"
      }
    },
    {
      "cell_type": "code",
      "source": [
        "unittest.main(argv=[''], verbosity=2, exit=False)"
      ],
      "metadata": {
        "colab": {
          "base_uri": "https://localhost:8080/"
        },
        "outputId": "0d0aa819-0934-43ee-9e82-9fc83cbba010",
        "id": "XFZnolzNdnE3"
      },
      "execution_count": 6,
      "outputs": [
        {
          "output_type": "stream",
          "name": "stderr",
          "text": [
            "test_add (__main__.TestCalculadora)\n",
            "Teste unitário da função de adição ... ok\n",
            "test_div (__main__.TestCalculadora)\n",
            "Teste unitário da função de divisão ... ok\n",
            "test_mul (__main__.TestCalculadora)\n",
            "Teste unitário da função de produto ... ok\n",
            "test_sub (__main__.TestCalculadora)\n",
            "Teste unitário da função de subtração ... ok\n",
            "test_list_int (__main__.TesteAreaQuadrado)\n",
            "Teste unitário da função de cálculo da area ... ok\n",
            "\n",
            "----------------------------------------------------------------------\n",
            "Ran 5 tests in 0.016s\n",
            "\n",
            "OK\n"
          ]
        },
        {
          "output_type": "execute_result",
          "data": {
            "text/plain": [
              "<unittest.main.TestProgram at 0x7f4c12c87d90>"
            ]
          },
          "metadata": {},
          "execution_count": 6
        }
      ]
    }
  ]
}