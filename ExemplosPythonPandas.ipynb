{
  "nbformat": 4,
  "nbformat_minor": 0,
  "metadata": {
    "colab": {
      "name": "ExemplosPythonPandas.ipynb",
      "provenance": [],
      "collapsed_sections": [
        "X8OzOqxH0nHB",
        "pxfq1sjzzayS",
        "eQ1Ii_7TzfN3",
        "00xmFmQU03lk",
        "tEQD9qWktiZG",
        "7shpO-ETuPC4",
        "lPGVN8p_FTd7",
        "9Mj7PgMCkpY0",
        "Fxd_E6b_od2C",
        "KQGxwi1_2op9"
      ],
      "toc_visible": true,
      "include_colab_link": true
    },
    "kernelspec": {
      "display_name": "Python 3",
      "name": "python3"
    }
  },
  "cells": [
    {
      "cell_type": "markdown",
      "metadata": {
        "id": "view-in-github",
        "colab_type": "text"
      },
      "source": [
        "<a href=\"https://colab.research.google.com/github/osmarbraz/exemplos_python/blob/master/ExemplosPythonPandas.ipynb\" target=\"_parent\"><img src=\"https://colab.research.google.com/assets/colab-badge.svg\" alt=\"Open In Colab\"/></a>"
      ]
    },
    {
      "cell_type": "markdown",
      "metadata": {
        "id": "xY84ChCNzmQQ"
      },
      "source": [
        "# Exemplos de Manipulação de dados com Pandas DataFrame em Python no Google Colaboratory\n",
        "\n",
        "-----------------------------------------\n",
        "**Guia Colab Iniciante:**\n",
        "\n",
        "https://medium.com/machina-sapiens/google-colab-guia-do-iniciante-334d70aad531\n",
        "\n",
        "**Documentação oficial:**\n",
        "\n",
        "https://colab.research.google.com/github/jakevdp/PythonDataScienceHandbook/blob/master/notebooks/01.01-Help-And-Documentation.ipynb\n",
        "\n",
        "**Características :**\n",
        "\n",
        "https://colab.research.google.com/notebooks/basic_features_overview.ipynb"
      ]
    },
    {
      "cell_type": "markdown",
      "metadata": {
        "id": "wy7dHEmLmngK"
      },
      "source": [
        "# Arquivo CSV"
      ]
    },
    {
      "cell_type": "markdown",
      "metadata": {
        "id": "y83g4uXZUAf_"
      },
      "source": [
        "## Criando arquivo csv para os exemplos\n",
        "\n",
        "Crie o arquivo **dados.csv** com os dados abaixo:\n",
        "\n",
        "```\n",
        "nome,idade,email,salario,uf\n",
        "Joao,33,joao@gmail.com,1750.0,SC\n",
        "Pedro,35,pedro@gmail.com,3250.0,RS\n",
        "Maria,21,maria@gmail.com,3500.0,SC\n",
        "Jose,25,jose@gmail.com,3000.0,RS\n",
        "Marco,26,marco@gmail.com,4000.0,RS\n",
        "Andre,27,andre@gmail.com,2500.0,SC\n",
        "Fernando,21,fernando@gmail.com,2000.0,SC\n",
        "Luiz,22,luiz@gmail.com,1500.0,PR\n",
        "Guilherme,20, guilherme@gmail.com,3500.0,SC\n",
        "Antonio,19, antonio@gmail.com,2000.0,PR\n",
        "```\n"
      ]
    },
    {
      "cell_type": "code",
      "metadata": {
        "id": "fJ8lFNkfUCpu"
      },
      "source": [
        "# Cria e abre o arquivo \"dados.csv\" para escrita\n",
        "arquivo = open('dados.csv', 'w')\n",
        "\n",
        "# Escreve no arquivo\n",
        "arquivo.write(\"nome,idade,email,salario,uf\\n\")\n",
        "arquivo.write(\"Joao,33,joao@gmail.com,1750.0,SC\\n\")\n",
        "arquivo.write(\"Pedro,35,pedro@gmail.com,3250.0,RS\\n\")\n",
        "arquivo.write(\"Maria,21,maria@gmail.com,3500.0,SC\\n\")\n",
        "arquivo.write(\"Jose,25,jose@gmail.com,3000.0,RS\\n\")\n",
        "arquivo.write(\"Marco,26,marco@gmail.com,4000.0,RS\\n\")\n",
        "arquivo.write(\"Andre,27,andre@gmail.com,2500.0,SC\\n\")\n",
        "arquivo.write(\"Fernando,21,fernando@gmail.com,2000.0,SC\\n\")\n",
        "arquivo.write(\"Luiz,22,luiz@gmail.com,1500.0,PR\\n\")\n",
        "arquivo.write(\"Guilherme,20, guilherme@gmail.com,3500.0,SC\\n\")\n",
        "arquivo.write(\"Antonio,19, antonio@gmail.com,2000.0,PR\\n\")\n",
        "\n",
        "# Fecha o arquivo\n",
        "arquivo.close()"
      ],
      "execution_count": 1,
      "outputs": []
    },
    {
      "cell_type": "markdown",
      "metadata": {
        "id": "xIboDGmi2ai1"
      },
      "source": [
        "## Usando a biblioteca pandas\n",
        "\n",
        "É uma biblioteca de processamento de dados:\n",
        "- I/O em arquivo json (ex. pd.read_json)\n",
        "- I/O em arquivo csv (ex. pd.read_csv)\n",
        "\n",
        "\n",
        "API:\n",
        "https://pandas.pydata.org/docs/reference/index.html\n",
        "\n",
        "Exemplos:\n",
        "https://medium.com/data-hackers/uma-introdu%C3%A7%C3%A3o-simples-ao-pandas-1e15eea37fa1\n",
        "\n",
        "Artigo original:\n",
        "https://pandas.pydata.org/pandas-docs/stable/getting_started/10min.html\n",
        "\n",
        "Escolhendo colunas:\n",
        "https://medium.com/@kasiarachuta/choosing-columns-in-pandas-dataframe-d0677b34a6ca\n",
        "\n",
        "Os métodos retornam um DataFrame. DataFrame é uma estrutura bidimensional de dados, como uma planilha. São objetos extremamentes flexíveis, podem armazenar listas, vetores e até outros dataframes."
      ]
    },
    {
      "cell_type": "markdown",
      "metadata": {
        "id": "UxSCs7f22ftf"
      },
      "source": [
        "### Exemplo 1 - Abrindo arquivo e retornando um DataFrame\n",
        "\n",
        "O separador padrão é ',' mas pode ser modificado pelo parâmetro \"**sep=';'**\" em read_csv."
      ]
    },
    {
      "cell_type": "code",
      "metadata": {
        "colab": {
          "base_uri": "https://localhost:8080/"
        },
        "id": "VlCY-XCT2gEC",
        "outputId": "180fe96f-88cb-402c-f26b-e668ebef04ed"
      },
      "source": [
        "# Biblioteca de processamento de dados, I/O em arquivo csv (ex. pd.read_csv)\n",
        "import pandas as pd\n",
        "\n",
        "# Caminho e nome do arquivo\n",
        "nomearquivo = '/content/dados.csv'\n",
        "\n",
        "# Abre o arquivo e retorna o DataFrame\n",
        "df = pd.read_csv(nomearquivo, encoding='UTF-8')\n",
        "\n",
        "# Mostra os dados do DataFrame\n",
        "print (df)"
      ],
      "execution_count": 2,
      "outputs": [
        {
          "output_type": "stream",
          "text": [
            "        nome  idade                 email  salario  uf\n",
            "0       Joao     33        joao@gmail.com   1750.0  SC\n",
            "1      Pedro     35       pedro@gmail.com   3250.0  RS\n",
            "2      Maria     21       maria@gmail.com   3500.0  SC\n",
            "3       Jose     25        jose@gmail.com   3000.0  RS\n",
            "4      Marco     26       marco@gmail.com   4000.0  RS\n",
            "5      Andre     27       andre@gmail.com   2500.0  SC\n",
            "6   Fernando     21    fernando@gmail.com   2000.0  SC\n",
            "7       Luiz     22        luiz@gmail.com   1500.0  PR\n",
            "8  Guilherme     20   guilherme@gmail.com   3500.0  SC\n",
            "9    Antonio     19     antonio@gmail.com   2000.0  PR\n"
          ],
          "name": "stdout"
        }
      ]
    },
    {
      "cell_type": "markdown",
      "metadata": {
        "id": "bI2K0Ecnp8Jb"
      },
      "source": [
        "### Exemplo 2 - Informações do DataFrame\n",
        "\n"
      ]
    },
    {
      "cell_type": "code",
      "metadata": {
        "colab": {
          "base_uri": "https://localhost:8080/"
        },
        "id": "11Tx3URhp8Jc",
        "outputId": "3d2d0ab2-78eb-48bd-f6dd-459d729e88c7"
      },
      "source": [
        "# Biblioteca de processamento de dados, I/O em arquivo csv (ex. pd.read_csv)\n",
        "import pandas as pd\n",
        "\n",
        "# Caminho e nome do arquivo\n",
        "nomearquivo = '/content/dados.csv'\n",
        "\n",
        "# Mostra as informações do DataFrame\n",
        "print (df.info())"
      ],
      "execution_count": 3,
      "outputs": [
        {
          "output_type": "stream",
          "text": [
            "<class 'pandas.core.frame.DataFrame'>\n",
            "RangeIndex: 10 entries, 0 to 9\n",
            "Data columns (total 5 columns):\n",
            " #   Column   Non-Null Count  Dtype  \n",
            "---  ------   --------------  -----  \n",
            " 0   nome     10 non-null     object \n",
            " 1   idade    10 non-null     int64  \n",
            " 2   email    10 non-null     object \n",
            " 3   salario  10 non-null     float64\n",
            " 4   uf       10 non-null     object \n",
            "dtypes: float64(1), int64(1), object(3)\n",
            "memory usage: 528.0+ bytes\n",
            "None\n"
          ],
          "name": "stdout"
        }
      ]
    },
    {
      "cell_type": "markdown",
      "metadata": {
        "id": "E3yUHakZDNCk"
      },
      "source": [
        "### Exemplo 3 - Mostrando todos os dados percorrendo o dataframe\n",
        "\n",
        "\n",
        "\n"
      ]
    },
    {
      "cell_type": "code",
      "metadata": {
        "colab": {
          "base_uri": "https://localhost:8080/"
        },
        "id": "qzQoWmFfDbMy",
        "outputId": "c3b2c2b4-2203-4cd0-940f-246549d2900f"
      },
      "source": [
        "# Biblioteca de processamento de dados, I/O em arquivo csv (ex. pd.read_csv)\n",
        "import pandas as pd\n",
        "\n",
        "# Caminho e nome do arquivo\n",
        "nomearquivo = '/content/dados.csv'\n",
        "\n",
        "# Abre o arquivo e retorna o DataFrame\n",
        "df = pd.read_csv(nomearquivo, encoding='UTF-8')\n",
        "\n",
        "# Mostra os dados\n",
        "print(df)\n",
        "\n",
        "# Percorre os dados\n",
        "for i, linha in df.iterrows():\n",
        "    print(linha)"
      ],
      "execution_count": 4,
      "outputs": [
        {
          "output_type": "stream",
          "text": [
            "        nome  idade                 email  salario  uf\n",
            "0       Joao     33        joao@gmail.com   1750.0  SC\n",
            "1      Pedro     35       pedro@gmail.com   3250.0  RS\n",
            "2      Maria     21       maria@gmail.com   3500.0  SC\n",
            "3       Jose     25        jose@gmail.com   3000.0  RS\n",
            "4      Marco     26       marco@gmail.com   4000.0  RS\n",
            "5      Andre     27       andre@gmail.com   2500.0  SC\n",
            "6   Fernando     21    fernando@gmail.com   2000.0  SC\n",
            "7       Luiz     22        luiz@gmail.com   1500.0  PR\n",
            "8  Guilherme     20   guilherme@gmail.com   3500.0  SC\n",
            "9    Antonio     19     antonio@gmail.com   2000.0  PR\n",
            "nome                 Joao\n",
            "idade                  33\n",
            "email      joao@gmail.com\n",
            "salario              1750\n",
            "uf                     SC\n",
            "Name: 0, dtype: object\n",
            "nome                 Pedro\n",
            "idade                   35\n",
            "email      pedro@gmail.com\n",
            "salario               3250\n",
            "uf                      RS\n",
            "Name: 1, dtype: object\n",
            "nome                 Maria\n",
            "idade                   21\n",
            "email      maria@gmail.com\n",
            "salario               3500\n",
            "uf                      SC\n",
            "Name: 2, dtype: object\n",
            "nome                 Jose\n",
            "idade                  25\n",
            "email      jose@gmail.com\n",
            "salario              3000\n",
            "uf                     RS\n",
            "Name: 3, dtype: object\n",
            "nome                 Marco\n",
            "idade                   26\n",
            "email      marco@gmail.com\n",
            "salario               4000\n",
            "uf                      RS\n",
            "Name: 4, dtype: object\n",
            "nome                 Andre\n",
            "idade                   27\n",
            "email      andre@gmail.com\n",
            "salario               2500\n",
            "uf                      SC\n",
            "Name: 5, dtype: object\n",
            "nome                 Fernando\n",
            "idade                      21\n",
            "email      fernando@gmail.com\n",
            "salario                  2000\n",
            "uf                         SC\n",
            "Name: 6, dtype: object\n",
            "nome                 Luiz\n",
            "idade                  22\n",
            "email      luiz@gmail.com\n",
            "salario              1500\n",
            "uf                     PR\n",
            "Name: 7, dtype: object\n",
            "nome                  Guilherme\n",
            "idade                        20\n",
            "email       guilherme@gmail.com\n",
            "salario                    3500\n",
            "uf                           SC\n",
            "Name: 8, dtype: object\n",
            "nome                  Antonio\n",
            "idade                      19\n",
            "email       antonio@gmail.com\n",
            "salario                  2000\n",
            "uf                         PR\n",
            "Name: 9, dtype: object\n"
          ],
          "name": "stdout"
        }
      ]
    },
    {
      "cell_type": "markdown",
      "metadata": {
        "id": "EL7mU0d3CCcZ"
      },
      "source": [
        "### Exemplo 4 - Mostrando os dados de uma coluna"
      ]
    },
    {
      "cell_type": "code",
      "metadata": {
        "colab": {
          "base_uri": "https://localhost:8080/"
        },
        "id": "mLowpdrIB6EA",
        "outputId": "0fd02046-5d81-493d-fa48-1324f502790e"
      },
      "source": [
        "# Biblioteca de processamento de dados, I/O em arquivo csv (ex. pd.read_csv)\n",
        "import pandas as pd\n",
        "\n",
        "# Caminho e nome do arquivo\n",
        "nomearquivo = '/content/dados.csv'\n",
        "\n",
        "# Abre o arquivo e retorna o DataFrame\n",
        "df = pd.read_csv(nomearquivo, encoding='UTF-8')\n",
        "\n",
        "# Mostra os dados do DataFrame de uma coluna\n",
        "print(df['nome'])"
      ],
      "execution_count": 5,
      "outputs": [
        {
          "output_type": "stream",
          "text": [
            "0         Joao\n",
            "1        Pedro\n",
            "2        Maria\n",
            "3         Jose\n",
            "4        Marco\n",
            "5        Andre\n",
            "6     Fernando\n",
            "7         Luiz\n",
            "8    Guilherme\n",
            "9      Antonio\n",
            "Name: nome, dtype: object\n"
          ],
          "name": "stdout"
        }
      ]
    },
    {
      "cell_type": "markdown",
      "metadata": {
        "id": "UonB-AsGV-hy"
      },
      "source": [
        "### Exemplo 5 - Mostrando os dados de uma linha"
      ]
    },
    {
      "cell_type": "code",
      "metadata": {
        "colab": {
          "base_uri": "https://localhost:8080/"
        },
        "id": "dwbJWwYDV-h2",
        "outputId": "4864c5e5-5d23-46a0-959f-810dfd2f7ff4"
      },
      "source": [
        "# Biblioteca de processamento de dados, I/O em arquivo csv (ex. pd.read_csv)\n",
        "import pandas as pd\n",
        "\n",
        "# Caminho e nome do arquivo\n",
        "nomearquivo = '/content/dados.csv'\n",
        "\n",
        "# Abre o arquivo e retorna o DataFrame\n",
        "df = pd.read_csv(nomearquivo, encoding='UTF-8')\n",
        "\n",
        "# Mostra os dados do DataFrame de uma linha e coluna\n",
        "print(df.iloc[0][0])"
      ],
      "execution_count": 6,
      "outputs": [
        {
          "output_type": "stream",
          "text": [
            "Joao\n"
          ],
          "name": "stdout"
        }
      ]
    },
    {
      "cell_type": "markdown",
      "metadata": {
        "id": "j62hPp6xNCTs"
      },
      "source": [
        "### Exemplo 5 - Tamanho do DataFrame\n",
        "\n",
        "O atributo **shape** retorna a quantidade de linhas e colunas"
      ]
    },
    {
      "cell_type": "code",
      "metadata": {
        "colab": {
          "base_uri": "https://localhost:8080/"
        },
        "id": "MDfKrHeFNHni",
        "outputId": "e0f276e7-f86a-4bca-8b99-85eb4187a440"
      },
      "source": [
        "# Biblioteca de processamento de dados, I/O em arquivo csv (ex. pd.read_csv)\n",
        "import pandas as pd\n",
        "\n",
        "# Caminho e nome do arquivo\n",
        "nomearquivo = '/content/dados.csv'\n",
        "\n",
        "# Abre o arquivo e retorna o DataFrame\n",
        "df = pd.read_csv(nomearquivo, encoding='UTF-8')\n",
        "\n",
        "# Retorna uma tupla com a quantidade de linhas e colunas\n",
        "print(\"Linha e colunas = \", df.shape)\n",
        "\n",
        "# Retorna a quantidade de linhas\n",
        "print(\"Linhas          = \",df.shape[0])\n",
        "\n",
        "# Retorna a quantidade de colunas\n",
        "print(\"Colunas         = \", df.shape[1])"
      ],
      "execution_count": 7,
      "outputs": [
        {
          "output_type": "stream",
          "text": [
            "Linha e colunas =  (10, 5)\n",
            "Linhas          =  10\n",
            "Colunas         =  5\n"
          ],
          "name": "stdout"
        }
      ]
    },
    {
      "cell_type": "markdown",
      "metadata": {
        "id": "lf_6fxQeMJ5I"
      },
      "source": [
        "### Exemplo 6 - Mostra os dados formatados\n",
        "\n",
        "A operação **head()** realiza uma exibição das 5 primeiras linhas do arquivo"
      ]
    },
    {
      "cell_type": "code",
      "metadata": {
        "colab": {
          "base_uri": "https://localhost:8080/",
          "height": 204
        },
        "id": "Skh-r8YLMOKS",
        "outputId": "ec20eb8d-9717-41bd-ba87-5d6362fdf195"
      },
      "source": [
        "# Biblioteca de processamento de dados, I/O em arquivo csv (ex. pd.read_csv)\n",
        "import pandas as pd\n",
        "\n",
        "# Caminho e nome do arquivo\n",
        "nomearquivo = '/content/dados.csv'\n",
        "\n",
        "# Abre o arquivo e retorna o DataFrame\n",
        "df = pd.read_csv(nomearquivo, encoding='UTF-8')\n",
        "\n",
        "# Mostra os dados\n",
        "df.head()"
      ],
      "execution_count": 8,
      "outputs": [
        {
          "output_type": "execute_result",
          "data": {
            "text/html": [
              "<div>\n",
              "<style scoped>\n",
              "    .dataframe tbody tr th:only-of-type {\n",
              "        vertical-align: middle;\n",
              "    }\n",
              "\n",
              "    .dataframe tbody tr th {\n",
              "        vertical-align: top;\n",
              "    }\n",
              "\n",
              "    .dataframe thead th {\n",
              "        text-align: right;\n",
              "    }\n",
              "</style>\n",
              "<table border=\"1\" class=\"dataframe\">\n",
              "  <thead>\n",
              "    <tr style=\"text-align: right;\">\n",
              "      <th></th>\n",
              "      <th>nome</th>\n",
              "      <th>idade</th>\n",
              "      <th>email</th>\n",
              "      <th>salario</th>\n",
              "      <th>uf</th>\n",
              "    </tr>\n",
              "  </thead>\n",
              "  <tbody>\n",
              "    <tr>\n",
              "      <th>0</th>\n",
              "      <td>Joao</td>\n",
              "      <td>33</td>\n",
              "      <td>joao@gmail.com</td>\n",
              "      <td>1750.0</td>\n",
              "      <td>SC</td>\n",
              "    </tr>\n",
              "    <tr>\n",
              "      <th>1</th>\n",
              "      <td>Pedro</td>\n",
              "      <td>35</td>\n",
              "      <td>pedro@gmail.com</td>\n",
              "      <td>3250.0</td>\n",
              "      <td>RS</td>\n",
              "    </tr>\n",
              "    <tr>\n",
              "      <th>2</th>\n",
              "      <td>Maria</td>\n",
              "      <td>21</td>\n",
              "      <td>maria@gmail.com</td>\n",
              "      <td>3500.0</td>\n",
              "      <td>SC</td>\n",
              "    </tr>\n",
              "    <tr>\n",
              "      <th>3</th>\n",
              "      <td>Jose</td>\n",
              "      <td>25</td>\n",
              "      <td>jose@gmail.com</td>\n",
              "      <td>3000.0</td>\n",
              "      <td>RS</td>\n",
              "    </tr>\n",
              "    <tr>\n",
              "      <th>4</th>\n",
              "      <td>Marco</td>\n",
              "      <td>26</td>\n",
              "      <td>marco@gmail.com</td>\n",
              "      <td>4000.0</td>\n",
              "      <td>RS</td>\n",
              "    </tr>\n",
              "  </tbody>\n",
              "</table>\n",
              "</div>"
            ],
            "text/plain": [
              "    nome  idade            email  salario  uf\n",
              "0   Joao     33   joao@gmail.com   1750.0  SC\n",
              "1  Pedro     35  pedro@gmail.com   3250.0  RS\n",
              "2  Maria     21  maria@gmail.com   3500.0  SC\n",
              "3   Jose     25   jose@gmail.com   3000.0  RS\n",
              "4  Marco     26  marco@gmail.com   4000.0  RS"
            ]
          },
          "metadata": {
            "tags": []
          },
          "execution_count": 8
        }
      ]
    },
    {
      "cell_type": "markdown",
      "metadata": {
        "id": "1K3DBn7tKq2F"
      },
      "source": [
        "### Exemplo 7 - Mostra uma certa quantidade de linhas\n",
        "\n",
        "Use o parâmetros **nrows** para especificar a quantidade de linhas a ser retornado."
      ]
    },
    {
      "cell_type": "code",
      "metadata": {
        "colab": {
          "base_uri": "https://localhost:8080/"
        },
        "id": "mbmHevQGKzT5",
        "outputId": "a805a6ce-4acd-4d52-f84f-c864bb1cb7a9"
      },
      "source": [
        "# Biblioteca de processamento de dados, I/O em arquivo csv (ex. pd.read_csv)\n",
        "import pandas as pd\n",
        "\n",
        "# Caminho e nome do arquivo\n",
        "nomearquivo = '/content/dados.csv'\n",
        "\n",
        "# Abre o arquivo e retorna o DataFrame\n",
        "df = pd.read_csv(nomearquivo, encoding='UTF-8')\n",
        "\n",
        "# Mostra os dados\n",
        "print(df)"
      ],
      "execution_count": 9,
      "outputs": [
        {
          "output_type": "stream",
          "text": [
            "        nome  idade                 email  salario  uf\n",
            "0       Joao     33        joao@gmail.com   1750.0  SC\n",
            "1      Pedro     35       pedro@gmail.com   3250.0  RS\n",
            "2      Maria     21       maria@gmail.com   3500.0  SC\n",
            "3       Jose     25        jose@gmail.com   3000.0  RS\n",
            "4      Marco     26       marco@gmail.com   4000.0  RS\n",
            "5      Andre     27       andre@gmail.com   2500.0  SC\n",
            "6   Fernando     21    fernando@gmail.com   2000.0  SC\n",
            "7       Luiz     22        luiz@gmail.com   1500.0  PR\n",
            "8  Guilherme     20   guilherme@gmail.com   3500.0  SC\n",
            "9    Antonio     19     antonio@gmail.com   2000.0  PR\n"
          ],
          "name": "stdout"
        }
      ]
    },
    {
      "cell_type": "markdown",
      "metadata": {
        "id": "sZ5MuAZ0Ljut"
      },
      "source": [
        "### Exemplo 8  - Mostra o cabeçalho\n",
        "\n",
        "Parâmetro `header = 0` retorna o cabeçalho do arquivo csv. Especifique a linha que contêm o cabeçalho."
      ]
    },
    {
      "cell_type": "code",
      "metadata": {
        "colab": {
          "base_uri": "https://localhost:8080/",
          "height": 204
        },
        "id": "XpimNgdgLmyR",
        "outputId": "e5d883c2-5b32-46db-80e3-08bb4984841f"
      },
      "source": [
        "# Biblioteca de processamento de dados, I/O em arquivo csv (ex. pd.read_csv)\n",
        "import pandas as pd\n",
        "\n",
        "# Caminho e nome do arquivo\n",
        "nomearquivo = '/content/dados.csv'\n",
        "\n",
        "# Abre o arquivo e retorna o DataFrame\n",
        "df = pd.read_csv(nomearquivo, encoding='UTF-8', header=0)\n",
        "\n",
        "# Mostra os dados\n",
        "df.head()"
      ],
      "execution_count": 10,
      "outputs": [
        {
          "output_type": "execute_result",
          "data": {
            "text/html": [
              "<div>\n",
              "<style scoped>\n",
              "    .dataframe tbody tr th:only-of-type {\n",
              "        vertical-align: middle;\n",
              "    }\n",
              "\n",
              "    .dataframe tbody tr th {\n",
              "        vertical-align: top;\n",
              "    }\n",
              "\n",
              "    .dataframe thead th {\n",
              "        text-align: right;\n",
              "    }\n",
              "</style>\n",
              "<table border=\"1\" class=\"dataframe\">\n",
              "  <thead>\n",
              "    <tr style=\"text-align: right;\">\n",
              "      <th></th>\n",
              "      <th>nome</th>\n",
              "      <th>idade</th>\n",
              "      <th>email</th>\n",
              "      <th>salario</th>\n",
              "      <th>uf</th>\n",
              "    </tr>\n",
              "  </thead>\n",
              "  <tbody>\n",
              "    <tr>\n",
              "      <th>0</th>\n",
              "      <td>Joao</td>\n",
              "      <td>33</td>\n",
              "      <td>joao@gmail.com</td>\n",
              "      <td>1750.0</td>\n",
              "      <td>SC</td>\n",
              "    </tr>\n",
              "    <tr>\n",
              "      <th>1</th>\n",
              "      <td>Pedro</td>\n",
              "      <td>35</td>\n",
              "      <td>pedro@gmail.com</td>\n",
              "      <td>3250.0</td>\n",
              "      <td>RS</td>\n",
              "    </tr>\n",
              "    <tr>\n",
              "      <th>2</th>\n",
              "      <td>Maria</td>\n",
              "      <td>21</td>\n",
              "      <td>maria@gmail.com</td>\n",
              "      <td>3500.0</td>\n",
              "      <td>SC</td>\n",
              "    </tr>\n",
              "    <tr>\n",
              "      <th>3</th>\n",
              "      <td>Jose</td>\n",
              "      <td>25</td>\n",
              "      <td>jose@gmail.com</td>\n",
              "      <td>3000.0</td>\n",
              "      <td>RS</td>\n",
              "    </tr>\n",
              "    <tr>\n",
              "      <th>4</th>\n",
              "      <td>Marco</td>\n",
              "      <td>26</td>\n",
              "      <td>marco@gmail.com</td>\n",
              "      <td>4000.0</td>\n",
              "      <td>RS</td>\n",
              "    </tr>\n",
              "  </tbody>\n",
              "</table>\n",
              "</div>"
            ],
            "text/plain": [
              "    nome  idade            email  salario  uf\n",
              "0   Joao     33   joao@gmail.com   1750.0  SC\n",
              "1  Pedro     35  pedro@gmail.com   3250.0  RS\n",
              "2  Maria     21  maria@gmail.com   3500.0  SC\n",
              "3   Jose     25   jose@gmail.com   3000.0  RS\n",
              "4  Marco     26  marco@gmail.com   4000.0  RS"
            ]
          },
          "metadata": {
            "tags": []
          },
          "execution_count": 10
        }
      ]
    },
    {
      "cell_type": "markdown",
      "metadata": {
        "id": "vlkHP7cqOg9t"
      },
      "source": [
        "### Exemplo 9  - Exibindo determinadas colunas\n",
        "\n",
        "Especifique o parâmetro **`usecols`** para retornar determinadas colunas do arquivo. Pode ser combinado com o nrows."
      ]
    },
    {
      "cell_type": "code",
      "metadata": {
        "colab": {
          "base_uri": "https://localhost:8080/",
          "height": 204
        },
        "id": "UPwbN1otOzCL",
        "outputId": "dbdefdc7-c1b8-40e5-c328-375091319f0f"
      },
      "source": [
        "# Biblioteca de processamento de dados, I/O em arquivo csv (ex. pd.read_csv)\n",
        "import pandas as pd\n",
        "\n",
        "# Caminho e nome do arquivo\n",
        "nomearquivo = '/content/dados.csv'\n",
        "\n",
        "# Abre o arquivo e retorna o DataFrame\n",
        "df = pd.read_csv(nomearquivo, encoding='UTF-8', usecols=['nome','idade'])\n",
        "\n",
        "# Mostra os dados\n",
        "df.head()"
      ],
      "execution_count": 11,
      "outputs": [
        {
          "output_type": "execute_result",
          "data": {
            "text/html": [
              "<div>\n",
              "<style scoped>\n",
              "    .dataframe tbody tr th:only-of-type {\n",
              "        vertical-align: middle;\n",
              "    }\n",
              "\n",
              "    .dataframe tbody tr th {\n",
              "        vertical-align: top;\n",
              "    }\n",
              "\n",
              "    .dataframe thead th {\n",
              "        text-align: right;\n",
              "    }\n",
              "</style>\n",
              "<table border=\"1\" class=\"dataframe\">\n",
              "  <thead>\n",
              "    <tr style=\"text-align: right;\">\n",
              "      <th></th>\n",
              "      <th>nome</th>\n",
              "      <th>idade</th>\n",
              "    </tr>\n",
              "  </thead>\n",
              "  <tbody>\n",
              "    <tr>\n",
              "      <th>0</th>\n",
              "      <td>Joao</td>\n",
              "      <td>33</td>\n",
              "    </tr>\n",
              "    <tr>\n",
              "      <th>1</th>\n",
              "      <td>Pedro</td>\n",
              "      <td>35</td>\n",
              "    </tr>\n",
              "    <tr>\n",
              "      <th>2</th>\n",
              "      <td>Maria</td>\n",
              "      <td>21</td>\n",
              "    </tr>\n",
              "    <tr>\n",
              "      <th>3</th>\n",
              "      <td>Jose</td>\n",
              "      <td>25</td>\n",
              "    </tr>\n",
              "    <tr>\n",
              "      <th>4</th>\n",
              "      <td>Marco</td>\n",
              "      <td>26</td>\n",
              "    </tr>\n",
              "  </tbody>\n",
              "</table>\n",
              "</div>"
            ],
            "text/plain": [
              "    nome  idade\n",
              "0   Joao     33\n",
              "1  Pedro     35\n",
              "2  Maria     21\n",
              "3   Jose     25\n",
              "4  Marco     26"
            ]
          },
          "metadata": {
            "tags": []
          },
          "execution_count": 11
        }
      ]
    },
    {
      "cell_type": "markdown",
      "metadata": {
        "id": "_-jMwStotskL"
      },
      "source": [
        "### Exemplo 10 - Converte DataFrame para lista de dicionários\n",
        "\n",
        "Converte o dataframe para uma lista de dicionário.\n",
        "\n",
        "```\n",
        "<class 'list'> <class 'dict'> \n",
        "```"
      ]
    },
    {
      "cell_type": "code",
      "metadata": {
        "colab": {
          "base_uri": "https://localhost:8080/"
        },
        "id": "_aNCY3gRtskM",
        "outputId": "b203e860-b023-44ec-e776-85a4f9662ae7"
      },
      "source": [
        "# Biblioteca de processamento de dados, I/O em arquivo csv (ex. pd.read_csv)\n",
        "import pandas as pd\n",
        "\n",
        "# Caminho e nome do arquivo\n",
        "nomearquivo = '/content/dados.csv'\n",
        "\n",
        "# Abre o arquivo e retorna o DataFrame\n",
        "df = pd.read_csv(nomearquivo, encoding='UTF-8', usecols=['nome','idade'])\n",
        "\n",
        "# Mostra os dados\n",
        "df.head()\n",
        "\n",
        "# Declara a lista\n",
        "lista = list()\n",
        "\n",
        "# Percorre as questões carregadas do arquivo\n",
        "for (indice, linha) in df.iterrows():\n",
        "    dicionario = dict()\n",
        "    dicionario['nome'] =  str(linha[0])\n",
        "    dicionario['idade'] = str(linha[1])\n",
        "    lista.append(dicionario)\n",
        "\n",
        "print(type(lista),len(lista), type(lista[0]), lista[0])\n",
        "df = lista"
      ],
      "execution_count": 12,
      "outputs": [
        {
          "output_type": "stream",
          "text": [
            "<class 'list'> 10 <class 'dict'> {'nome': 'Joao', 'idade': '33'}\n"
          ],
          "name": "stdout"
        }
      ]
    },
    {
      "cell_type": "markdown",
      "metadata": {
        "id": "0kK96XTt-Qcz"
      },
      "source": [
        "### Exemplo 11 - Adicionando colunas calculadas ao DataFrame\n",
        "\n",
        "Adiciona uma coluna no dataframe a partir de um cálculo.\n",
        "\n",
        "https://datatofish.com/if-condition-in-pandas-dataframe/"
      ]
    },
    {
      "cell_type": "code",
      "metadata": {
        "colab": {
          "base_uri": "https://localhost:8080/"
        },
        "id": "QGQjeZAf-Qva",
        "outputId": "dba76e2d-ccf6-4b3f-adf6-f3ea02263994"
      },
      "source": [
        "# Biblioteca de processamento de dados, I/O em arquivo csv (ex. pd.read_csv)\n",
        "import pandas as pd\n",
        "\n",
        "# Caminho e nome do arquivo\n",
        "nomearquivo = '/content/dados.csv'\n",
        "\n",
        "# Abre o arquivo e retorna o DataFrame\n",
        "df = pd.read_csv(nomearquivo, encoding='UTF-8')\n",
        "\n",
        "# Mostra os dados\n",
        "print(df)\n",
        "\n",
        "# Adiciona a nova coluna\n",
        "df['nova_idade'] = df['idade'] + 10\n",
        "\n",
        "# Mostra os dados\n",
        "print(df)"
      ],
      "execution_count": 13,
      "outputs": [
        {
          "output_type": "stream",
          "text": [
            "        nome  idade                 email  salario  uf\n",
            "0       Joao     33        joao@gmail.com   1750.0  SC\n",
            "1      Pedro     35       pedro@gmail.com   3250.0  RS\n",
            "2      Maria     21       maria@gmail.com   3500.0  SC\n",
            "3       Jose     25        jose@gmail.com   3000.0  RS\n",
            "4      Marco     26       marco@gmail.com   4000.0  RS\n",
            "5      Andre     27       andre@gmail.com   2500.0  SC\n",
            "6   Fernando     21    fernando@gmail.com   2000.0  SC\n",
            "7       Luiz     22        luiz@gmail.com   1500.0  PR\n",
            "8  Guilherme     20   guilherme@gmail.com   3500.0  SC\n",
            "9    Antonio     19     antonio@gmail.com   2000.0  PR\n",
            "        nome  idade                 email  salario  uf  nova_idade\n",
            "0       Joao     33        joao@gmail.com   1750.0  SC          43\n",
            "1      Pedro     35       pedro@gmail.com   3250.0  RS          45\n",
            "2      Maria     21       maria@gmail.com   3500.0  SC          31\n",
            "3       Jose     25        jose@gmail.com   3000.0  RS          35\n",
            "4      Marco     26       marco@gmail.com   4000.0  RS          36\n",
            "5      Andre     27       andre@gmail.com   2500.0  SC          37\n",
            "6   Fernando     21    fernando@gmail.com   2000.0  SC          31\n",
            "7       Luiz     22        luiz@gmail.com   1500.0  PR          32\n",
            "8  Guilherme     20   guilherme@gmail.com   3500.0  SC          30\n",
            "9    Antonio     19     antonio@gmail.com   2000.0  PR          29\n"
          ],
          "name": "stdout"
        }
      ]
    },
    {
      "cell_type": "markdown",
      "metadata": {
        "id": "Amcg5iKeALL3"
      },
      "source": [
        "### Exemplo 12 - Adicionando colunas condicionadas(if) ao DataFrame\n",
        "\n",
        "Adiciona uma coluna no dataframe a partir de uma condição.\n",
        "\n",
        "https://datatofish.com/if-condition-in-pandas-dataframe/"
      ]
    },
    {
      "cell_type": "code",
      "metadata": {
        "colab": {
          "base_uri": "https://localhost:8080/"
        },
        "id": "dgXMBPhWALL4",
        "outputId": "3978cf0f-fbaa-4978-bb8e-c7138662e733"
      },
      "source": [
        "# Biblioteca de processamento de dados, I/O em arquivo csv (ex. pd.read_csv)\n",
        "import pandas as pd\n",
        "import numpy as np\n",
        "\n",
        "# Caminho e nome do arquivo\n",
        "nomearquivo = '/content/dados.csv'\n",
        "\n",
        "# Abre o arquivo e retorna o DataFrame\n",
        "df = pd.read_csv(nomearquivo, encoding='UTF-8')\n",
        "\n",
        "# Mostra os dados\n",
        "print(df)\n",
        "\n",
        "# Adiciona a nova coluna\n",
        "df['nova_idade'] = np.where(df['idade']> 30, 'Adulto', 'Jovem')\n",
        "\n",
        "# Mostra os dados\n",
        "print(df)"
      ],
      "execution_count": 14,
      "outputs": [
        {
          "output_type": "stream",
          "text": [
            "        nome  idade                 email  salario  uf\n",
            "0       Joao     33        joao@gmail.com   1750.0  SC\n",
            "1      Pedro     35       pedro@gmail.com   3250.0  RS\n",
            "2      Maria     21       maria@gmail.com   3500.0  SC\n",
            "3       Jose     25        jose@gmail.com   3000.0  RS\n",
            "4      Marco     26       marco@gmail.com   4000.0  RS\n",
            "5      Andre     27       andre@gmail.com   2500.0  SC\n",
            "6   Fernando     21    fernando@gmail.com   2000.0  SC\n",
            "7       Luiz     22        luiz@gmail.com   1500.0  PR\n",
            "8  Guilherme     20   guilherme@gmail.com   3500.0  SC\n",
            "9    Antonio     19     antonio@gmail.com   2000.0  PR\n",
            "        nome  idade                 email  salario  uf nova_idade\n",
            "0       Joao     33        joao@gmail.com   1750.0  SC     Adulto\n",
            "1      Pedro     35       pedro@gmail.com   3250.0  RS     Adulto\n",
            "2      Maria     21       maria@gmail.com   3500.0  SC      Jovem\n",
            "3       Jose     25        jose@gmail.com   3000.0  RS      Jovem\n",
            "4      Marco     26       marco@gmail.com   4000.0  RS      Jovem\n",
            "5      Andre     27       andre@gmail.com   2500.0  SC      Jovem\n",
            "6   Fernando     21    fernando@gmail.com   2000.0  SC      Jovem\n",
            "7       Luiz     22        luiz@gmail.com   1500.0  PR      Jovem\n",
            "8  Guilherme     20   guilherme@gmail.com   3500.0  SC      Jovem\n",
            "9    Antonio     19     antonio@gmail.com   2000.0  PR      Jovem\n"
          ],
          "name": "stdout"
        }
      ]
    },
    {
      "cell_type": "markdown",
      "metadata": {
        "id": "N6WCxZsBBTmG"
      },
      "source": [
        "### Exemplo 13 - Renomeando uma coluna no DataFrame\n",
        "\n"
      ]
    },
    {
      "cell_type": "code",
      "metadata": {
        "colab": {
          "base_uri": "https://localhost:8080/"
        },
        "id": "kpZchyThBd0s",
        "outputId": "7599b8c3-fb3f-4692-d2e4-f7b344cea398"
      },
      "source": [
        "# Biblioteca de processamento de dados, I/O em arquivo csv (ex. pd.read_csv)\n",
        "import pandas as pd\n",
        "\n",
        "# Caminho e nome do arquivo\n",
        "nomearquivo = '/content/dados.csv'\n",
        "\n",
        "# Abre o arquivo e retorna o DataFrame\n",
        "df = pd.read_csv(nomearquivo, encoding='UTF-8')\n",
        "\n",
        "# Mostra os dados\n",
        "print(df)\n",
        "\n",
        "# Renomeia uma coluna\n",
        "df = df.rename(columns={'nome': 'nome_completo', 'idade':'idade_pessoa'})\n",
        "\n",
        "# Mostra os dados\n",
        "print(df)"
      ],
      "execution_count": 15,
      "outputs": [
        {
          "output_type": "stream",
          "text": [
            "        nome  idade                 email  salario  uf\n",
            "0       Joao     33        joao@gmail.com   1750.0  SC\n",
            "1      Pedro     35       pedro@gmail.com   3250.0  RS\n",
            "2      Maria     21       maria@gmail.com   3500.0  SC\n",
            "3       Jose     25        jose@gmail.com   3000.0  RS\n",
            "4      Marco     26       marco@gmail.com   4000.0  RS\n",
            "5      Andre     27       andre@gmail.com   2500.0  SC\n",
            "6   Fernando     21    fernando@gmail.com   2000.0  SC\n",
            "7       Luiz     22        luiz@gmail.com   1500.0  PR\n",
            "8  Guilherme     20   guilherme@gmail.com   3500.0  SC\n",
            "9    Antonio     19     antonio@gmail.com   2000.0  PR\n",
            "  nome_completo  idade_pessoa                 email  salario  uf\n",
            "0          Joao            33        joao@gmail.com   1750.0  SC\n",
            "1         Pedro            35       pedro@gmail.com   3250.0  RS\n",
            "2         Maria            21       maria@gmail.com   3500.0  SC\n",
            "3          Jose            25        jose@gmail.com   3000.0  RS\n",
            "4         Marco            26       marco@gmail.com   4000.0  RS\n",
            "5         Andre            27       andre@gmail.com   2500.0  SC\n",
            "6      Fernando            21    fernando@gmail.com   2000.0  SC\n",
            "7          Luiz            22        luiz@gmail.com   1500.0  PR\n",
            "8     Guilherme            20   guilherme@gmail.com   3500.0  SC\n",
            "9       Antonio            19     antonio@gmail.com   2000.0  PR\n"
          ],
          "name": "stdout"
        }
      ]
    },
    {
      "cell_type": "markdown",
      "metadata": {
        "id": "_FEKKOlLjNPl"
      },
      "source": [
        "### Exemplo 14 - Removendo uma coluna no DataFrame\n"
      ]
    },
    {
      "cell_type": "code",
      "metadata": {
        "colab": {
          "base_uri": "https://localhost:8080/"
        },
        "id": "3vmAHAUAjNn8",
        "outputId": "f4d9f5c5-027e-4b22-8ebb-60f23278dfd4"
      },
      "source": [
        "# Biblioteca de processamento de dados, I/O em arquivo csv (ex. pd.read_csv)\n",
        "import pandas as pd\n",
        "\n",
        "# Caminho e nome do arquivo\n",
        "nomearquivo = '/content/dados.csv'\n",
        "\n",
        "# Abre o arquivo e retorna o DataFrame\n",
        "df = pd.read_csv(nomearquivo, encoding='UTF-8')\n",
        "\n",
        "# Mostra os dados\n",
        "print(df)\n",
        "\n",
        "# Remove uma coluna\n",
        "#df = df.drop(['idade'], axis=1)\n",
        "#ou\n",
        "df = df.drop(columns=['idade'])\n",
        "\n",
        "# Mostra os dados\n",
        "print(df)"
      ],
      "execution_count": 16,
      "outputs": [
        {
          "output_type": "stream",
          "text": [
            "        nome  idade                 email  salario  uf\n",
            "0       Joao     33        joao@gmail.com   1750.0  SC\n",
            "1      Pedro     35       pedro@gmail.com   3250.0  RS\n",
            "2      Maria     21       maria@gmail.com   3500.0  SC\n",
            "3       Jose     25        jose@gmail.com   3000.0  RS\n",
            "4      Marco     26       marco@gmail.com   4000.0  RS\n",
            "5      Andre     27       andre@gmail.com   2500.0  SC\n",
            "6   Fernando     21    fernando@gmail.com   2000.0  SC\n",
            "7       Luiz     22        luiz@gmail.com   1500.0  PR\n",
            "8  Guilherme     20   guilherme@gmail.com   3500.0  SC\n",
            "9    Antonio     19     antonio@gmail.com   2000.0  PR\n",
            "        nome                 email  salario  uf\n",
            "0       Joao        joao@gmail.com   1750.0  SC\n",
            "1      Pedro       pedro@gmail.com   3250.0  RS\n",
            "2      Maria       maria@gmail.com   3500.0  SC\n",
            "3       Jose        jose@gmail.com   3000.0  RS\n",
            "4      Marco       marco@gmail.com   4000.0  RS\n",
            "5      Andre       andre@gmail.com   2500.0  SC\n",
            "6   Fernando    fernando@gmail.com   2000.0  SC\n",
            "7       Luiz        luiz@gmail.com   1500.0  PR\n",
            "8  Guilherme   guilherme@gmail.com   3500.0  SC\n",
            "9    Antonio     antonio@gmail.com   2000.0  PR\n"
          ],
          "name": "stdout"
        }
      ]
    },
    {
      "cell_type": "markdown",
      "metadata": {
        "id": "CuRJcA8l1C29"
      },
      "source": [
        "### Exemplo 15 - Dividindo um DataFrame utilizando train_text_split\n",
        "\n",
        "https://scikit-learn.org/stable/modules/generated/sklearn.model_selection.train_test_split.html\n"
      ]
    },
    {
      "cell_type": "code",
      "metadata": {
        "colab": {
          "base_uri": "https://localhost:8080/"
        },
        "id": "20i3IGGO1C2-",
        "outputId": "2771319e-2a11-4025-947d-29d26ea1c9c9"
      },
      "source": [
        "# Biblioteca de processamento de dados, I/O em arquivo csv (ex. pd.read_csv)\n",
        "import pandas as pd\n",
        "\n",
        "# Caminho e nome do arquivo\n",
        "nomearquivo = '/content/dados.csv'\n",
        "\n",
        "# Abre o arquivo e retorna o DataFrame\n",
        "df = pd.read_csv(nomearquivo, encoding='UTF-8')\n",
        "\n",
        "# Adiciona a nova coluna para classe da divisão\n",
        "df['classe'] = np.where(df['idade']> 30, 'Adulto', 'Jovem')\n",
        "\n",
        "# Mostra os dados\n",
        "print(df)\n",
        "\n",
        "# Biblioteca que realiza a divisão\n",
        "from sklearn.model_selection import train_test_split\n",
        "\n",
        "#Recupera a quantidade de registros e calcula 20% do total ou pode ser utilizado diretamente o percentual\n",
        "qtde = int(0.4*df.shape[0])\n",
        "#ou\n",
        "#percentual = 0.2\n",
        "\n",
        "# Divide o conjunto pelo quantidade\n",
        "# O parâmetro stratify  faz uma divisão de modo que a proporção dos valores na amostra \n",
        "# produzida seja a mesma que a proporção dos valores fornecidos ao parâmetro.\n",
        "# Por exemplo, se a variável y é uma variável de classificação binária com valores 0 e 1 e \n",
        "# há 25% de zeros e 75% de 1 nos dados, stratify=y vai se certificar de que a sua divisão aleatória tem 25% de 0's e 75% de 1' s.\n",
        "# O parâmetro random_state(valor qualquer, semente do gerador de número aleatório) garante que a divisão será sempre a mesma\n",
        "treino, teste = train_test_split(df, test_size=qtde, random_state=0, stratify=df['classe'])\n",
        "\n",
        "# Mostra o resultado da divisão\n",
        "print('Total de registros :', df.shape[0])\n",
        "print('Total de treino    :', treino.shape[0])\n",
        "print('Total de validação : ', teste.shape[0])\n",
        "\n",
        "# Mostra os dados de treino\n",
        "print(\"Dados treino:\\n\", treino)\n",
        "\n",
        "# Mostra os dados de teste\n",
        "print(\"Dados teste:\\n\", teste)"
      ],
      "execution_count": 17,
      "outputs": [
        {
          "output_type": "stream",
          "text": [
            "        nome  idade                 email  salario  uf  classe\n",
            "0       Joao     33        joao@gmail.com   1750.0  SC  Adulto\n",
            "1      Pedro     35       pedro@gmail.com   3250.0  RS  Adulto\n",
            "2      Maria     21       maria@gmail.com   3500.0  SC   Jovem\n",
            "3       Jose     25        jose@gmail.com   3000.0  RS   Jovem\n",
            "4      Marco     26       marco@gmail.com   4000.0  RS   Jovem\n",
            "5      Andre     27       andre@gmail.com   2500.0  SC   Jovem\n",
            "6   Fernando     21    fernando@gmail.com   2000.0  SC   Jovem\n",
            "7       Luiz     22        luiz@gmail.com   1500.0  PR   Jovem\n",
            "8  Guilherme     20   guilherme@gmail.com   3500.0  SC   Jovem\n",
            "9    Antonio     19     antonio@gmail.com   2000.0  PR   Jovem\n",
            "Total de registros : 10\n",
            "Total de treino    : 6\n",
            "Total de validação :  4\n",
            "Dados treino:\n",
            "         nome  idade                 email  salario  uf  classe\n",
            "8  Guilherme     20   guilherme@gmail.com   3500.0  SC   Jovem\n",
            "3       Jose     25        jose@gmail.com   3000.0  RS   Jovem\n",
            "6   Fernando     21    fernando@gmail.com   2000.0  SC   Jovem\n",
            "1      Pedro     35       pedro@gmail.com   3250.0  RS  Adulto\n",
            "4      Marco     26       marco@gmail.com   4000.0  RS   Jovem\n",
            "5      Andre     27       andre@gmail.com   2500.0  SC   Jovem\n",
            "Dados teste:\n",
            "       nome  idade               email  salario  uf  classe\n",
            "2    Maria     21     maria@gmail.com   3500.0  SC   Jovem\n",
            "7     Luiz     22      luiz@gmail.com   1500.0  PR   Jovem\n",
            "9  Antonio     19   antonio@gmail.com   2000.0  PR   Jovem\n",
            "0     Joao     33      joao@gmail.com   1750.0  SC  Adulto\n"
          ],
          "name": "stdout"
        }
      ]
    },
    {
      "cell_type": "markdown",
      "metadata": {
        "id": "KAD8Ir1SaIfa"
      },
      "source": [
        "### Exemplo 16 - Barra de progresso tqdm e pandas\n",
        "\n",
        "O tdqm é um pacote que posibilita criar barra de progressos e estimar o tempo para funções e laços.\n",
        "\n",
        "https://github.com/tqdm/tqdm\n",
        "\n",
        "Em um laço itere sobre `tqdm` ou `tqdm_notebook`(caso esteja executando um Notebook).\n",
        "\n",
        "Uma vez que importou tqdm você deve iniciar o método `tqdm.pandas()`. \n",
        "\n",
        "Depois substituir o método `apply()` por `progress_apply()`"
      ]
    },
    {
      "cell_type": "code",
      "metadata": {
        "colab": {
          "base_uri": "https://localhost:8080/"
        },
        "id": "jqs168yBaN03",
        "outputId": "c9f78c9d-30f8-49ad-b3ff-393c3225f86d"
      },
      "source": [
        "# Import da biblioteca\n",
        "from tqdm import tqdm, tqdm_notebook\n",
        "\n",
        "# Habilita a barra de progresso e troca o método apply() por progress_apply() no pandas.\n",
        "tqdm.pandas()\n",
        "\n",
        "# Biblioteca de processamento de dados, I/O em arquivo csv (ex. pd.read_csv)\n",
        "import pandas as pd\n",
        "import numpy as np\n",
        "\n",
        "# Gera um data frame de tamanho 10000 x 10000\n",
        "df = pd.DataFrame(np.random.randint(0,100,(10000,10000)))\n",
        "\n",
        "# Calcula cada célula ao quadrado do dataframe\n",
        "quadrado = df.progress_apply(lambda x: x**2)"
      ],
      "execution_count": 18,
      "outputs": [
        {
          "output_type": "stream",
          "text": [
            "/usr/local/lib/python3.7/dist-packages/tqdm/std.py:658: FutureWarning: The Panel class is removed from pandas. Accessing it from the top-level namespace will also be removed in the next version\n",
            "  from pandas import Panel\n",
            "100%|██████████| 10000/10000 [00:05<00:00, 1986.00it/s]\n"
          ],
          "name": "stderr"
        }
      ]
    },
    {
      "cell_type": "markdown",
      "metadata": {
        "id": "l6DKjQA2rjrN"
      },
      "source": [
        "### Exemplo 17 - Converte um dataframe para uma lista de dicionário\n",
        "\n",
        "Usa o método `to_dic` para converte o dataframe para dicionário de acordo com uma orientação.\n",
        "\n",
        "Opções de orientação:\n",
        "- **dict**  - **padrão**: nomes de coluna são chaves, valores são dicionários de índice: pares de dados\n",
        "- **list** - chaves são nomes de colunas, valores são listas de dados de colunas\n",
        "- **series** - como 'list', mas os valores são séries\n",
        "- **split** - divide colunas/dados/índice como chaves com os valores sendo nomes de colunas, valores de dados por rótulos de linha e índice, respectivamente\n",
        "- **records** - cada linha se torna um dicionário onde a chave é o nome da coluna e o valor são os dados da célula\n",
        "- **index** - como 'record', mas um dicionário de dicionários com chaves como rótulos de índice (em vez de uma lista)\n"
      ]
    },
    {
      "cell_type": "code",
      "metadata": {
        "colab": {
          "base_uri": "https://localhost:8080/"
        },
        "id": "X1wdD_eprj56",
        "outputId": "746c4da3-f6f5-4894-c8e0-1aa1d80ee549"
      },
      "source": [
        "# Biblioteca de processamento de dados, I/O em arquivo csv (ex. pd.read_csv)\n",
        "import pandas as pd\n",
        "\n",
        "# Caminho e nome do arquivo\n",
        "nomearquivo = '/content/dados.csv'\n",
        "\n",
        "# Abre o arquivo e retorna o DataFrame\n",
        "df = pd.read_csv(nomearquivo, encoding='UTF-8')\n",
        "\n",
        "# Mostra os dados\n",
        "print(df)\n",
        "\n",
        "# Converte todas as colunas do dataframe e converte para um dicionário de acordo com a orientação\n",
        "print(\"Orientação dict para todas as colunas = \", df.to_dict(orient='dict'))\n",
        "\n",
        "# Seleciona as colunas do dataframe e converte para um dicionário de acordo com a orientação\n",
        "print(\"\\nOrientação dict = \", df[['nome','idade']].to_dict(orient='dict'))\n",
        "\n",
        "print(\"Orientação list = \", df[['nome','idade']].to_dict(orient='list'))\n",
        "\n",
        "print(\"Orientação series = \", df[['nome','idade']].to_dict(orient='series'))\n",
        "\n",
        "print(\"Orientação split = \", df[['nome','idade']].to_dict(orient='split'))\n",
        "\n",
        "print(\"Orientação records = \", df[['nome','idade']].to_dict(orient='records'))\n",
        "\n",
        "print(\"Orientação index = \", df[['nome','idade']].to_dict(orient='index'))"
      ],
      "execution_count": 19,
      "outputs": [
        {
          "output_type": "stream",
          "text": [
            "        nome  idade                 email  salario  uf\n",
            "0       Joao     33        joao@gmail.com   1750.0  SC\n",
            "1      Pedro     35       pedro@gmail.com   3250.0  RS\n",
            "2      Maria     21       maria@gmail.com   3500.0  SC\n",
            "3       Jose     25        jose@gmail.com   3000.0  RS\n",
            "4      Marco     26       marco@gmail.com   4000.0  RS\n",
            "5      Andre     27       andre@gmail.com   2500.0  SC\n",
            "6   Fernando     21    fernando@gmail.com   2000.0  SC\n",
            "7       Luiz     22        luiz@gmail.com   1500.0  PR\n",
            "8  Guilherme     20   guilherme@gmail.com   3500.0  SC\n",
            "9    Antonio     19     antonio@gmail.com   2000.0  PR\n",
            "Orientação dict para todas as colunas =  {'nome': {0: 'Joao', 1: 'Pedro', 2: 'Maria', 3: 'Jose', 4: 'Marco', 5: 'Andre', 6: 'Fernando', 7: 'Luiz', 8: 'Guilherme', 9: 'Antonio'}, 'idade': {0: 33, 1: 35, 2: 21, 3: 25, 4: 26, 5: 27, 6: 21, 7: 22, 8: 20, 9: 19}, 'email': {0: 'joao@gmail.com', 1: 'pedro@gmail.com', 2: 'maria@gmail.com', 3: 'jose@gmail.com', 4: 'marco@gmail.com', 5: 'andre@gmail.com', 6: 'fernando@gmail.com', 7: 'luiz@gmail.com', 8: ' guilherme@gmail.com', 9: ' antonio@gmail.com'}, 'salario': {0: 1750.0, 1: 3250.0, 2: 3500.0, 3: 3000.0, 4: 4000.0, 5: 2500.0, 6: 2000.0, 7: 1500.0, 8: 3500.0, 9: 2000.0}, 'uf': {0: 'SC', 1: 'RS', 2: 'SC', 3: 'RS', 4: 'RS', 5: 'SC', 6: 'SC', 7: 'PR', 8: 'SC', 9: 'PR'}}\n",
            "\n",
            "Orientação dict =  {'nome': {0: 'Joao', 1: 'Pedro', 2: 'Maria', 3: 'Jose', 4: 'Marco', 5: 'Andre', 6: 'Fernando', 7: 'Luiz', 8: 'Guilherme', 9: 'Antonio'}, 'idade': {0: 33, 1: 35, 2: 21, 3: 25, 4: 26, 5: 27, 6: 21, 7: 22, 8: 20, 9: 19}}\n",
            "Orientação list =  {'nome': ['Joao', 'Pedro', 'Maria', 'Jose', 'Marco', 'Andre', 'Fernando', 'Luiz', 'Guilherme', 'Antonio'], 'idade': [33, 35, 21, 25, 26, 27, 21, 22, 20, 19]}\n",
            "Orientação series =  {'nome': 0         Joao\n",
            "1        Pedro\n",
            "2        Maria\n",
            "3         Jose\n",
            "4        Marco\n",
            "5        Andre\n",
            "6     Fernando\n",
            "7         Luiz\n",
            "8    Guilherme\n",
            "9      Antonio\n",
            "Name: nome, dtype: object, 'idade': 0    33\n",
            "1    35\n",
            "2    21\n",
            "3    25\n",
            "4    26\n",
            "5    27\n",
            "6    21\n",
            "7    22\n",
            "8    20\n",
            "9    19\n",
            "Name: idade, dtype: int64}\n",
            "Orientação split =  {'index': [0, 1, 2, 3, 4, 5, 6, 7, 8, 9], 'columns': ['nome', 'idade'], 'data': [['Joao', 33], ['Pedro', 35], ['Maria', 21], ['Jose', 25], ['Marco', 26], ['Andre', 27], ['Fernando', 21], ['Luiz', 22], ['Guilherme', 20], ['Antonio', 19]]}\n",
            "Orientação records =  [{'nome': 'Joao', 'idade': 33}, {'nome': 'Pedro', 'idade': 35}, {'nome': 'Maria', 'idade': 21}, {'nome': 'Jose', 'idade': 25}, {'nome': 'Marco', 'idade': 26}, {'nome': 'Andre', 'idade': 27}, {'nome': 'Fernando', 'idade': 21}, {'nome': 'Luiz', 'idade': 22}, {'nome': 'Guilherme', 'idade': 20}, {'nome': 'Antonio', 'idade': 19}]\n",
            "Orientação index =  {0: {'nome': 'Joao', 'idade': 33}, 1: {'nome': 'Pedro', 'idade': 35}, 2: {'nome': 'Maria', 'idade': 21}, 3: {'nome': 'Jose', 'idade': 25}, 4: {'nome': 'Marco', 'idade': 26}, 5: {'nome': 'Andre', 'idade': 27}, 6: {'nome': 'Fernando', 'idade': 21}, 7: {'nome': 'Luiz', 'idade': 22}, 8: {'nome': 'Guilherme', 'idade': 20}, 9: {'nome': 'Antonio', 'idade': 19}}\n"
          ],
          "name": "stdout"
        }
      ]
    },
    {
      "cell_type": "markdown",
      "metadata": {
        "id": "EoYNsgX71WIa"
      },
      "source": [
        "### Exemplo 18 - Retornando uma lista dos valores de uma coluna do DataFrame\n",
        "\n",
        "Retorna uma lista com os valores de uma coluna do DataFrame"
      ]
    },
    {
      "cell_type": "code",
      "metadata": {
        "colab": {
          "base_uri": "https://localhost:8080/"
        },
        "id": "NxMa-4A61bee",
        "outputId": "cb67e79c-1229-494b-9a22-c8aed7f44073"
      },
      "source": [
        "# Biblioteca de processamento de dados, I/O em arquivo csv (ex. pd.read_csv)\n",
        "import pandas as pd\n",
        "\n",
        "# Caminho e nome do arquivo\n",
        "nomearquivo = '/content/dados.csv'\n",
        "\n",
        "# Abre o arquivo e retorna o DataFrame\n",
        "df = pd.read_csv(nomearquivo, encoding='UTF-8')\n",
        "\n",
        "# Mostra os dados\n",
        "print(df)\n",
        "\n",
        "# Retorna uma lista da coluna nomes\n",
        "listaNomes = df.nome.values\n",
        "\n",
        "# Mostra a lista recuperada\n",
        "print(listaNomes)"
      ],
      "execution_count": 20,
      "outputs": [
        {
          "output_type": "stream",
          "text": [
            "        nome  idade                 email  salario  uf\n",
            "0       Joao     33        joao@gmail.com   1750.0  SC\n",
            "1      Pedro     35       pedro@gmail.com   3250.0  RS\n",
            "2      Maria     21       maria@gmail.com   3500.0  SC\n",
            "3       Jose     25        jose@gmail.com   3000.0  RS\n",
            "4      Marco     26       marco@gmail.com   4000.0  RS\n",
            "5      Andre     27       andre@gmail.com   2500.0  SC\n",
            "6   Fernando     21    fernando@gmail.com   2000.0  SC\n",
            "7       Luiz     22        luiz@gmail.com   1500.0  PR\n",
            "8  Guilherme     20   guilherme@gmail.com   3500.0  SC\n",
            "9    Antonio     19     antonio@gmail.com   2000.0  PR\n",
            "['Joao' 'Pedro' 'Maria' 'Jose' 'Marco' 'Andre' 'Fernando' 'Luiz'\n",
            " 'Guilherme' 'Antonio']\n"
          ],
          "name": "stdout"
        }
      ]
    },
    {
      "cell_type": "markdown",
      "metadata": {
        "id": "JDrBP7IE2IS_"
      },
      "source": [
        "### Exemplo 19 - Criando Histograma de coluna do DataFrame\n",
        "\n",
        "Cria um histograma contando a quantidade de letras da coluna do DataFrame"
      ]
    },
    {
      "cell_type": "code",
      "metadata": {
        "colab": {
          "base_uri": "https://localhost:8080/",
          "height": 469
        },
        "id": "WagG_FvN2If9",
        "outputId": "b500403f-88b2-4963-b746-e3af6906fee1"
      },
      "source": [
        "# Biblioteca de processamento de dados, I/O em arquivo csv (ex. pd.read_csv)\n",
        "import pandas as pd\n",
        "\n",
        "# Caminho e nome do arquivo\n",
        "nomearquivo = '/content/dados.csv'\n",
        "\n",
        "# Abre o arquivo e retorna o DataFrame\n",
        "df = pd.read_csv(nomearquivo, encoding='UTF-8')\n",
        "\n",
        "# Mostra os dados\n",
        "print(df)\n",
        "\n",
        "# Mostra o histograma contando a quantidade de letras da coluna 'nome'a lista recuperada\n",
        "# o método apply aplica o método len(tamanho) a coluna 'nome' do DataFrame\n",
        "df['nome'].apply(len).hist()"
      ],
      "execution_count": 21,
      "outputs": [
        {
          "output_type": "stream",
          "text": [
            "        nome  idade                 email  salario  uf\n",
            "0       Joao     33        joao@gmail.com   1750.0  SC\n",
            "1      Pedro     35       pedro@gmail.com   3250.0  RS\n",
            "2      Maria     21       maria@gmail.com   3500.0  SC\n",
            "3       Jose     25        jose@gmail.com   3000.0  RS\n",
            "4      Marco     26       marco@gmail.com   4000.0  RS\n",
            "5      Andre     27       andre@gmail.com   2500.0  SC\n",
            "6   Fernando     21    fernando@gmail.com   2000.0  SC\n",
            "7       Luiz     22        luiz@gmail.com   1500.0  PR\n",
            "8  Guilherme     20   guilherme@gmail.com   3500.0  SC\n",
            "9    Antonio     19     antonio@gmail.com   2000.0  PR\n"
          ],
          "name": "stdout"
        },
        {
          "output_type": "execute_result",
          "data": {
            "text/plain": [
              "<matplotlib.axes._subplots.AxesSubplot at 0x7f0772bb0310>"
            ]
          },
          "metadata": {
            "tags": []
          },
          "execution_count": 21
        },
        {
          "output_type": "display_data",
          "data": {
            "image/png": "[encoded data removed]",
            "text/plain": [
              "<Figure size 432x288 with 1 Axes>"
            ]
          },
          "metadata": {
            "tags": [],
            "needs_background": "light"
          }
        }
      ]
    },
    {
      "cell_type": "markdown",
      "metadata": {
        "id": "wP_oONNm3BUn"
      },
      "source": [
        "### Exemplo 20 - Agrupando e contando os dados por uma coluna do DataFrame\n",
        "\n",
        "Agrupa os dados contando os elementos de uma coluna do DataFrame"
      ]
    },
    {
      "cell_type": "code",
      "metadata": {
        "colab": {
          "base_uri": "https://localhost:8080/",
          "height": 360
        },
        "id": "r3cIq2GV3Bjb",
        "outputId": "7ef35ce8-cb8a-4981-acf7-e519ed1452e9"
      },
      "source": [
        "# Biblioteca de processamento de dados, I/O em arquivo csv (ex. pd.read_csv)\n",
        "import pandas as pd\n",
        "\n",
        "# Caminho e nome do arquivo\n",
        "nomearquivo = '/content/dados.csv'\n",
        "\n",
        "# Abre o arquivo e retorna o DataFrame\n",
        "df = pd.read_csv(nomearquivo, encoding='UTF-8')\n",
        "\n",
        "# Mostra os dados\n",
        "print(df)\n",
        "\n",
        "# Mostra o agrupamento dos dados contando as quantidades da coluna idade\n",
        "# o método 'count()' retorna a quantidade de registros agrupado pela coluna 'idade'\n",
        "df.groupby('uf').count()"
      ],
      "execution_count": 22,
      "outputs": [
        {
          "output_type": "stream",
          "text": [
            "        nome  idade                 email  salario  uf\n",
            "0       Joao     33        joao@gmail.com   1750.0  SC\n",
            "1      Pedro     35       pedro@gmail.com   3250.0  RS\n",
            "2      Maria     21       maria@gmail.com   3500.0  SC\n",
            "3       Jose     25        jose@gmail.com   3000.0  RS\n",
            "4      Marco     26       marco@gmail.com   4000.0  RS\n",
            "5      Andre     27       andre@gmail.com   2500.0  SC\n",
            "6   Fernando     21    fernando@gmail.com   2000.0  SC\n",
            "7       Luiz     22        luiz@gmail.com   1500.0  PR\n",
            "8  Guilherme     20   guilherme@gmail.com   3500.0  SC\n",
            "9    Antonio     19     antonio@gmail.com   2000.0  PR\n"
          ],
          "name": "stdout"
        },
        {
          "output_type": "execute_result",
          "data": {
            "text/html": [
              "<div>\n",
              "<style scoped>\n",
              "    .dataframe tbody tr th:only-of-type {\n",
              "        vertical-align: middle;\n",
              "    }\n",
              "\n",
              "    .dataframe tbody tr th {\n",
              "        vertical-align: top;\n",
              "    }\n",
              "\n",
              "    .dataframe thead th {\n",
              "        text-align: right;\n",
              "    }\n",
              "</style>\n",
              "<table border=\"1\" class=\"dataframe\">\n",
              "  <thead>\n",
              "    <tr style=\"text-align: right;\">\n",
              "      <th></th>\n",
              "      <th>nome</th>\n",
              "      <th>idade</th>\n",
              "      <th>email</th>\n",
              "      <th>salario</th>\n",
              "    </tr>\n",
              "    <tr>\n",
              "      <th>uf</th>\n",
              "      <th></th>\n",
              "      <th></th>\n",
              "      <th></th>\n",
              "      <th></th>\n",
              "    </tr>\n",
              "  </thead>\n",
              "  <tbody>\n",
              "    <tr>\n",
              "      <th>PR</th>\n",
              "      <td>2</td>\n",
              "      <td>2</td>\n",
              "      <td>2</td>\n",
              "      <td>2</td>\n",
              "    </tr>\n",
              "    <tr>\n",
              "      <th>RS</th>\n",
              "      <td>3</td>\n",
              "      <td>3</td>\n",
              "      <td>3</td>\n",
              "      <td>3</td>\n",
              "    </tr>\n",
              "    <tr>\n",
              "      <th>SC</th>\n",
              "      <td>5</td>\n",
              "      <td>5</td>\n",
              "      <td>5</td>\n",
              "      <td>5</td>\n",
              "    </tr>\n",
              "  </tbody>\n",
              "</table>\n",
              "</div>"
            ],
            "text/plain": [
              "    nome  idade  email  salario\n",
              "uf                             \n",
              "PR     2      2      2        2\n",
              "RS     3      3      3        3\n",
              "SC     5      5      5        5"
            ]
          },
          "metadata": {
            "tags": []
          },
          "execution_count": 22
        }
      ]
    },
    {
      "cell_type": "markdown",
      "metadata": {
        "id": "N3oxApzfhzUy"
      },
      "source": [
        "### Exemplo 21 - Criando uma coluna com percentual\n",
        "\n",
        "Cria uma coluna com o percentual dos dados em relação ao total."
      ]
    },
    {
      "cell_type": "code",
      "metadata": {
        "colab": {
          "base_uri": "https://localhost:8080/"
        },
        "id": "ZvoP88MshzUy",
        "outputId": "439644fb-0a6d-4968-e97b-b1a04e344a7c"
      },
      "source": [
        "# Biblioteca de processamento de dados, I/O em arquivo csv (ex. pd.read_csv)\n",
        "import pandas as pd\n",
        "\n",
        "# Caminho e nome do arquivo\n",
        "nomearquivo = '/content/dados.csv'\n",
        "\n",
        "#Mostra somente com duas casas decimais os números reais\n",
        "pd.set_option('precision', 2)\n",
        "\n",
        "# Abre o arquivo e retorna o DataFrame\n",
        "df = pd.read_csv(nomearquivo, encoding='UTF-8')\n",
        "\n",
        "# Mostra os dados\n",
        "print(df)\n",
        "\n",
        "# Cria a coluna com o percentual do salário em relação ao total\n",
        "df['percentual'] = (df['salario'] / df['salario'].sum()) * 100\n",
        "\n",
        "# Mostra os dados\n",
        "print(df)"
      ],
      "execution_count": 23,
      "outputs": [
        {
          "output_type": "stream",
          "text": [
            "        nome  idade                 email  salario  uf\n",
            "0       Joao     33        joao@gmail.com   1750.0  SC\n",
            "1      Pedro     35       pedro@gmail.com   3250.0  RS\n",
            "2      Maria     21       maria@gmail.com   3500.0  SC\n",
            "3       Jose     25        jose@gmail.com   3000.0  RS\n",
            "4      Marco     26       marco@gmail.com   4000.0  RS\n",
            "5      Andre     27       andre@gmail.com   2500.0  SC\n",
            "6   Fernando     21    fernando@gmail.com   2000.0  SC\n",
            "7       Luiz     22        luiz@gmail.com   1500.0  PR\n",
            "8  Guilherme     20   guilherme@gmail.com   3500.0  SC\n",
            "9    Antonio     19     antonio@gmail.com   2000.0  PR\n",
            "        nome  idade                 email  salario  uf  percentual\n",
            "0       Joao     33        joao@gmail.com   1750.0  SC        6.48\n",
            "1      Pedro     35       pedro@gmail.com   3250.0  RS       12.04\n",
            "2      Maria     21       maria@gmail.com   3500.0  SC       12.96\n",
            "3       Jose     25        jose@gmail.com   3000.0  RS       11.11\n",
            "4      Marco     26       marco@gmail.com   4000.0  RS       14.81\n",
            "5      Andre     27       andre@gmail.com   2500.0  SC        9.26\n",
            "6   Fernando     21    fernando@gmail.com   2000.0  SC        7.41\n",
            "7       Luiz     22        luiz@gmail.com   1500.0  PR        5.56\n",
            "8  Guilherme     20   guilherme@gmail.com   3500.0  SC       12.96\n",
            "9    Antonio     19     antonio@gmail.com   2000.0  PR        7.41\n"
          ],
          "name": "stdout"
        }
      ]
    },
    {
      "cell_type": "markdown",
      "metadata": {
        "id": "iPnle4ZZETJp"
      },
      "source": [
        "### Exemplo 22 - Exibindo as estatísticas (describe)\n",
        "\n",
        "Exibe as estatísticas de um dataframe."
      ]
    },
    {
      "cell_type": "markdown",
      "metadata": {
        "id": "z5ifvXyWGQYz"
      },
      "source": [
        "#### Simples"
      ]
    },
    {
      "cell_type": "code",
      "metadata": {
        "colab": {
          "base_uri": "https://localhost:8080/",
          "height": 577
        },
        "id": "Fej3_mcjETJp",
        "outputId": "dfc8f4c7-478d-4527-f972-8ef93cdbe79f"
      },
      "source": [
        "# Biblioteca de processamento de dados, I/O em arquivo csv (ex. pd.read_csv)\n",
        "import pandas as pd\n",
        "\n",
        "# Caminho e nome do arquivo\n",
        "nomearquivo = '/content/dados.csv'\n",
        "\n",
        "# Mostra somente com duas casas decimais os números reais\n",
        "pd.set_option('precision', 2)\n",
        "\n",
        "# Exibe todas as linhas\n",
        "pd.set_option('display.max_rows', None)\n",
        "\n",
        "# Exibe todas as linhas\n",
        "pd.set_option('display.max_columns', None)\n",
        "\n",
        "# Abre o arquivo e retorna o DataFrame\n",
        "df = pd.read_csv(nomearquivo, encoding='UTF-8')\n",
        "\n",
        "# Mostra os dados\n",
        "print(df)\n",
        "\n",
        "# Inclui todas as colunas\n",
        "df.describe(include='all')"
      ],
      "execution_count": 24,
      "outputs": [
        {
          "output_type": "stream",
          "text": [
            "        nome  idade                 email  salario  uf\n",
            "0       Joao     33        joao@gmail.com   1750.0  SC\n",
            "1      Pedro     35       pedro@gmail.com   3250.0  RS\n",
            "2      Maria     21       maria@gmail.com   3500.0  SC\n",
            "3       Jose     25        jose@gmail.com   3000.0  RS\n",
            "4      Marco     26       marco@gmail.com   4000.0  RS\n",
            "5      Andre     27       andre@gmail.com   2500.0  SC\n",
            "6   Fernando     21    fernando@gmail.com   2000.0  SC\n",
            "7       Luiz     22        luiz@gmail.com   1500.0  PR\n",
            "8  Guilherme     20   guilherme@gmail.com   3500.0  SC\n",
            "9    Antonio     19     antonio@gmail.com   2000.0  PR\n"
          ],
          "name": "stdout"
        },
        {
          "output_type": "execute_result",
          "data": {
            "text/html": [
              "<div>\n",
              "<style scoped>\n",
              "    .dataframe tbody tr th:only-of-type {\n",
              "        vertical-align: middle;\n",
              "    }\n",
              "\n",
              "    .dataframe tbody tr th {\n",
              "        vertical-align: top;\n",
              "    }\n",
              "\n",
              "    .dataframe thead th {\n",
              "        text-align: right;\n",
              "    }\n",
              "</style>\n",
              "<table border=\"1\" class=\"dataframe\">\n",
              "  <thead>\n",
              "    <tr style=\"text-align: right;\">\n",
              "      <th></th>\n",
              "      <th>nome</th>\n",
              "      <th>idade</th>\n",
              "      <th>email</th>\n",
              "      <th>salario</th>\n",
              "      <th>uf</th>\n",
              "    </tr>\n",
              "  </thead>\n",
              "  <tbody>\n",
              "    <tr>\n",
              "      <th>count</th>\n",
              "      <td>10</td>\n",
              "      <td>10.00</td>\n",
              "      <td>10</td>\n",
              "      <td>10.00</td>\n",
              "      <td>10</td>\n",
              "    </tr>\n",
              "    <tr>\n",
              "      <th>unique</th>\n",
              "      <td>10</td>\n",
              "      <td>NaN</td>\n",
              "      <td>10</td>\n",
              "      <td>NaN</td>\n",
              "      <td>3</td>\n",
              "    </tr>\n",
              "    <tr>\n",
              "      <th>top</th>\n",
              "      <td>Luiz</td>\n",
              "      <td>NaN</td>\n",
              "      <td>joao@gmail.com</td>\n",
              "      <td>NaN</td>\n",
              "      <td>SC</td>\n",
              "    </tr>\n",
              "    <tr>\n",
              "      <th>freq</th>\n",
              "      <td>1</td>\n",
              "      <td>NaN</td>\n",
              "      <td>1</td>\n",
              "      <td>NaN</td>\n",
              "      <td>5</td>\n",
              "    </tr>\n",
              "    <tr>\n",
              "      <th>mean</th>\n",
              "      <td>NaN</td>\n",
              "      <td>24.90</td>\n",
              "      <td>NaN</td>\n",
              "      <td>2700.00</td>\n",
              "      <td>NaN</td>\n",
              "    </tr>\n",
              "    <tr>\n",
              "      <th>std</th>\n",
              "      <td>NaN</td>\n",
              "      <td>5.49</td>\n",
              "      <td>NaN</td>\n",
              "      <td>864.42</td>\n",
              "      <td>NaN</td>\n",
              "    </tr>\n",
              "    <tr>\n",
              "      <th>min</th>\n",
              "      <td>NaN</td>\n",
              "      <td>19.00</td>\n",
              "      <td>NaN</td>\n",
              "      <td>1500.00</td>\n",
              "      <td>NaN</td>\n",
              "    </tr>\n",
              "    <tr>\n",
              "      <th>25%</th>\n",
              "      <td>NaN</td>\n",
              "      <td>21.00</td>\n",
              "      <td>NaN</td>\n",
              "      <td>2000.00</td>\n",
              "      <td>NaN</td>\n",
              "    </tr>\n",
              "    <tr>\n",
              "      <th>50%</th>\n",
              "      <td>NaN</td>\n",
              "      <td>23.50</td>\n",
              "      <td>NaN</td>\n",
              "      <td>2750.00</td>\n",
              "      <td>NaN</td>\n",
              "    </tr>\n",
              "    <tr>\n",
              "      <th>75%</th>\n",
              "      <td>NaN</td>\n",
              "      <td>26.75</td>\n",
              "      <td>NaN</td>\n",
              "      <td>3437.50</td>\n",
              "      <td>NaN</td>\n",
              "    </tr>\n",
              "    <tr>\n",
              "      <th>max</th>\n",
              "      <td>NaN</td>\n",
              "      <td>35.00</td>\n",
              "      <td>NaN</td>\n",
              "      <td>4000.00</td>\n",
              "      <td>NaN</td>\n",
              "    </tr>\n",
              "  </tbody>\n",
              "</table>\n",
              "</div>"
            ],
            "text/plain": [
              "        nome  idade           email  salario   uf\n",
              "count     10  10.00              10    10.00   10\n",
              "unique    10    NaN              10      NaN    3\n",
              "top     Luiz    NaN  joao@gmail.com      NaN   SC\n",
              "freq       1    NaN               1      NaN    5\n",
              "mean     NaN  24.90             NaN  2700.00  NaN\n",
              "std      NaN   5.49             NaN   864.42  NaN\n",
              "min      NaN  19.00             NaN  1500.00  NaN\n",
              "25%      NaN  21.00             NaN  2000.00  NaN\n",
              "50%      NaN  23.50             NaN  2750.00  NaN\n",
              "75%      NaN  26.75             NaN  3437.50  NaN\n",
              "max      NaN  35.00             NaN  4000.00  NaN"
            ]
          },
          "metadata": {
            "tags": []
          },
          "execution_count": 24
        }
      ]
    },
    {
      "cell_type": "markdown",
      "metadata": {
        "id": "8NECWeA1GcH1"
      },
      "source": [
        "#### Especificando o tipo de dados das colunas"
      ]
    },
    {
      "cell_type": "code",
      "metadata": {
        "colab": {
          "base_uri": "https://localhost:8080/",
          "height": 484
        },
        "id": "fnVvJA0XFnGK",
        "outputId": "292de049-d6e2-413d-9230-d99e28a5d634"
      },
      "source": [
        "# Biblioteca de processamento de dados, I/O em arquivo csv (ex. pd.read_csv)\n",
        "import pandas as pd\n",
        "\n",
        "# Caminho e nome do arquivo\n",
        "nomearquivo = '/content/dados.csv'\n",
        "\n",
        "# Mostra somente com duas casas decimais os números reais\n",
        "pd.set_option('precision', 2)\n",
        "\n",
        "# Exibe todas as linhas\n",
        "pd.set_option('display.max_rows', None)\n",
        "\n",
        "# Exibe todas as linhas\n",
        "pd.set_option('display.max_columns', None)\n",
        "\n",
        "# Abre o arquivo e retorna o DataFrame\n",
        "df = pd.read_csv(nomearquivo, encoding='UTF-8')\n",
        "\n",
        "# Mostra os dados\n",
        "print(df)\n",
        "\n",
        "# Inclui os tipos das as colunas\n",
        "df.describe(include=['float', 'int'])\n"
      ],
      "execution_count": 25,
      "outputs": [
        {
          "output_type": "stream",
          "text": [
            "        nome  idade                 email  salario  uf\n",
            "0       Joao     33        joao@gmail.com   1750.0  SC\n",
            "1      Pedro     35       pedro@gmail.com   3250.0  RS\n",
            "2      Maria     21       maria@gmail.com   3500.0  SC\n",
            "3       Jose     25        jose@gmail.com   3000.0  RS\n",
            "4      Marco     26       marco@gmail.com   4000.0  RS\n",
            "5      Andre     27       andre@gmail.com   2500.0  SC\n",
            "6   Fernando     21    fernando@gmail.com   2000.0  SC\n",
            "7       Luiz     22        luiz@gmail.com   1500.0  PR\n",
            "8  Guilherme     20   guilherme@gmail.com   3500.0  SC\n",
            "9    Antonio     19     antonio@gmail.com   2000.0  PR\n"
          ],
          "name": "stdout"
        },
        {
          "output_type": "execute_result",
          "data": {
            "text/html": [
              "<div>\n",
              "<style scoped>\n",
              "    .dataframe tbody tr th:only-of-type {\n",
              "        vertical-align: middle;\n",
              "    }\n",
              "\n",
              "    .dataframe tbody tr th {\n",
              "        vertical-align: top;\n",
              "    }\n",
              "\n",
              "    .dataframe thead th {\n",
              "        text-align: right;\n",
              "    }\n",
              "</style>\n",
              "<table border=\"1\" class=\"dataframe\">\n",
              "  <thead>\n",
              "    <tr style=\"text-align: right;\">\n",
              "      <th></th>\n",
              "      <th>idade</th>\n",
              "      <th>salario</th>\n",
              "    </tr>\n",
              "  </thead>\n",
              "  <tbody>\n",
              "    <tr>\n",
              "      <th>count</th>\n",
              "      <td>10.00</td>\n",
              "      <td>10.00</td>\n",
              "    </tr>\n",
              "    <tr>\n",
              "      <th>mean</th>\n",
              "      <td>24.90</td>\n",
              "      <td>2700.00</td>\n",
              "    </tr>\n",
              "    <tr>\n",
              "      <th>std</th>\n",
              "      <td>5.49</td>\n",
              "      <td>864.42</td>\n",
              "    </tr>\n",
              "    <tr>\n",
              "      <th>min</th>\n",
              "      <td>19.00</td>\n",
              "      <td>1500.00</td>\n",
              "    </tr>\n",
              "    <tr>\n",
              "      <th>25%</th>\n",
              "      <td>21.00</td>\n",
              "      <td>2000.00</td>\n",
              "    </tr>\n",
              "    <tr>\n",
              "      <th>50%</th>\n",
              "      <td>23.50</td>\n",
              "      <td>2750.00</td>\n",
              "    </tr>\n",
              "    <tr>\n",
              "      <th>75%</th>\n",
              "      <td>26.75</td>\n",
              "      <td>3437.50</td>\n",
              "    </tr>\n",
              "    <tr>\n",
              "      <th>max</th>\n",
              "      <td>35.00</td>\n",
              "      <td>4000.00</td>\n",
              "    </tr>\n",
              "  </tbody>\n",
              "</table>\n",
              "</div>"
            ],
            "text/plain": [
              "       idade  salario\n",
              "count  10.00    10.00\n",
              "mean   24.90  2700.00\n",
              "std     5.49   864.42\n",
              "min    19.00  1500.00\n",
              "25%    21.00  2000.00\n",
              "50%    23.50  2750.00\n",
              "75%    26.75  3437.50\n",
              "max    35.00  4000.00"
            ]
          },
          "metadata": {
            "tags": []
          },
          "execution_count": 25
        }
      ]
    },
    {
      "cell_type": "markdown",
      "metadata": {
        "id": "aUBrX9kFGgLh"
      },
      "source": [
        "#### Especifica o tipo das colunas e gera a transposta"
      ]
    },
    {
      "cell_type": "code",
      "metadata": {
        "colab": {
          "base_uri": "https://localhost:8080/",
          "height": 298
        },
        "id": "ZHU7Fa1hFbh2",
        "outputId": "b1eececc-c17f-4db3-db99-04bdcba9d009"
      },
      "source": [
        "# Biblioteca de processamento de dados, I/O em arquivo csv (ex. pd.read_csv)\n",
        "import pandas as pd\n",
        "\n",
        "# Caminho e nome do arquivo\n",
        "nomearquivo = '/content/dados.csv'\n",
        "\n",
        "# Mostra somente com duas casas decimais os números reais\n",
        "pd.set_option('precision', 2)\n",
        "\n",
        "# Exibe todas as linhas\n",
        "pd.set_option('display.max_rows', None)\n",
        "\n",
        "# Exibe todas as linhas\n",
        "pd.set_option('display.max_columns', None)\n",
        "\n",
        "# Abre o arquivo e retorna o DataFrame\n",
        "df = pd.read_csv(nomearquivo, encoding='UTF-8')\n",
        "\n",
        "# Mostra os dados\n",
        "print(df)\n",
        "\n",
        "# Inclui todas as colunas e gera a transposta dos dados\n",
        "df.describe(include=['float', 'int']).transpose()\n"
      ],
      "execution_count": 26,
      "outputs": [
        {
          "output_type": "stream",
          "text": [
            "        nome  idade                 email  salario  uf\n",
            "0       Joao     33        joao@gmail.com   1750.0  SC\n",
            "1      Pedro     35       pedro@gmail.com   3250.0  RS\n",
            "2      Maria     21       maria@gmail.com   3500.0  SC\n",
            "3       Jose     25        jose@gmail.com   3000.0  RS\n",
            "4      Marco     26       marco@gmail.com   4000.0  RS\n",
            "5      Andre     27       andre@gmail.com   2500.0  SC\n",
            "6   Fernando     21    fernando@gmail.com   2000.0  SC\n",
            "7       Luiz     22        luiz@gmail.com   1500.0  PR\n",
            "8  Guilherme     20   guilherme@gmail.com   3500.0  SC\n",
            "9    Antonio     19     antonio@gmail.com   2000.0  PR\n"
          ],
          "name": "stdout"
        },
        {
          "output_type": "execute_result",
          "data": {
            "text/html": [
              "<div>\n",
              "<style scoped>\n",
              "    .dataframe tbody tr th:only-of-type {\n",
              "        vertical-align: middle;\n",
              "    }\n",
              "\n",
              "    .dataframe tbody tr th {\n",
              "        vertical-align: top;\n",
              "    }\n",
              "\n",
              "    .dataframe thead th {\n",
              "        text-align: right;\n",
              "    }\n",
              "</style>\n",
              "<table border=\"1\" class=\"dataframe\">\n",
              "  <thead>\n",
              "    <tr style=\"text-align: right;\">\n",
              "      <th></th>\n",
              "      <th>count</th>\n",
              "      <th>mean</th>\n",
              "      <th>std</th>\n",
              "      <th>min</th>\n",
              "      <th>25%</th>\n",
              "      <th>50%</th>\n",
              "      <th>75%</th>\n",
              "      <th>max</th>\n",
              "    </tr>\n",
              "  </thead>\n",
              "  <tbody>\n",
              "    <tr>\n",
              "      <th>idade</th>\n",
              "      <td>10.0</td>\n",
              "      <td>24.9</td>\n",
              "      <td>5.49</td>\n",
              "      <td>19.0</td>\n",
              "      <td>21.0</td>\n",
              "      <td>23.5</td>\n",
              "      <td>26.75</td>\n",
              "      <td>35.0</td>\n",
              "    </tr>\n",
              "    <tr>\n",
              "      <th>salario</th>\n",
              "      <td>10.0</td>\n",
              "      <td>2700.0</td>\n",
              "      <td>864.42</td>\n",
              "      <td>1500.0</td>\n",
              "      <td>2000.0</td>\n",
              "      <td>2750.0</td>\n",
              "      <td>3437.50</td>\n",
              "      <td>4000.0</td>\n",
              "    </tr>\n",
              "  </tbody>\n",
              "</table>\n",
              "</div>"
            ],
            "text/plain": [
              "         count    mean     std     min     25%     50%      75%     max\n",
              "idade     10.0    24.9    5.49    19.0    21.0    23.5    26.75    35.0\n",
              "salario   10.0  2700.0  864.42  1500.0  2000.0  2750.0  3437.50  4000.0"
            ]
          },
          "metadata": {
            "tags": []
          },
          "execution_count": 26
        }
      ]
    },
    {
      "cell_type": "markdown",
      "metadata": {
        "id": "3EMF6g4FIE6N"
      },
      "source": [
        "#### Com dados agrupados"
      ]
    },
    {
      "cell_type": "code",
      "metadata": {
        "colab": {
          "base_uri": "https://localhost:8080/",
          "height": 732
        },
        "id": "g29PJg79Hoiz",
        "outputId": "0978590f-71df-4996-8240-400b68b03ecf"
      },
      "source": [
        "# Biblioteca de processamento de dados, I/O em arquivo csv (ex. pd.read_csv)\n",
        "import pandas as pd\n",
        "\n",
        "# Caminho e nome do arquivo\n",
        "nomearquivo = '/content/dados.csv'\n",
        "\n",
        "# Mostra somente com duas casas decimais os números reais\n",
        "pd.set_option('precision', 2)\n",
        "\n",
        "# Exibe todas as linhas\n",
        "pd.set_option('display.max_rows', None)\n",
        "\n",
        "# Exibe todas as linhas\n",
        "pd.set_option('display.max_columns', None)\n",
        "\n",
        "# Abre o arquivo e retorna o DataFrame\n",
        "df = pd.read_csv(nomearquivo, encoding='UTF-8')\n",
        "\n",
        "# Mostra os dados\n",
        "print(df)\n",
        "\n",
        "# Agrupa pelos estados\n",
        "grupo = df[['idade','salario', 'uf']].groupby('uf')\n",
        "\n",
        "# Inclui todas as colunas e gera a transposta dos dados\n",
        "grupo.describe(include=['float', 'int']).transpose()"
      ],
      "execution_count": 27,
      "outputs": [
        {
          "output_type": "stream",
          "text": [
            "        nome  idade                 email  salario  uf\n",
            "0       Joao     33        joao@gmail.com   1750.0  SC\n",
            "1      Pedro     35       pedro@gmail.com   3250.0  RS\n",
            "2      Maria     21       maria@gmail.com   3500.0  SC\n",
            "3       Jose     25        jose@gmail.com   3000.0  RS\n",
            "4      Marco     26       marco@gmail.com   4000.0  RS\n",
            "5      Andre     27       andre@gmail.com   2500.0  SC\n",
            "6   Fernando     21    fernando@gmail.com   2000.0  SC\n",
            "7       Luiz     22        luiz@gmail.com   1500.0  PR\n",
            "8  Guilherme     20   guilherme@gmail.com   3500.0  SC\n",
            "9    Antonio     19     antonio@gmail.com   2000.0  PR\n"
          ],
          "name": "stdout"
        },
        {
          "output_type": "execute_result",
          "data": {
            "text/html": [
              "<div>\n",
              "<style scoped>\n",
              "    .dataframe tbody tr th:only-of-type {\n",
              "        vertical-align: middle;\n",
              "    }\n",
              "\n",
              "    .dataframe tbody tr th {\n",
              "        vertical-align: top;\n",
              "    }\n",
              "\n",
              "    .dataframe thead th {\n",
              "        text-align: right;\n",
              "    }\n",
              "</style>\n",
              "<table border=\"1\" class=\"dataframe\">\n",
              "  <thead>\n",
              "    <tr style=\"text-align: right;\">\n",
              "      <th></th>\n",
              "      <th>uf</th>\n",
              "      <th>PR</th>\n",
              "      <th>RS</th>\n",
              "      <th>SC</th>\n",
              "    </tr>\n",
              "  </thead>\n",
              "  <tbody>\n",
              "    <tr>\n",
              "      <th rowspan=\"8\" valign=\"top\">idade</th>\n",
              "      <th>count</th>\n",
              "      <td>2.00</td>\n",
              "      <td>3.00</td>\n",
              "      <td>5.00</td>\n",
              "    </tr>\n",
              "    <tr>\n",
              "      <th>mean</th>\n",
              "      <td>20.50</td>\n",
              "      <td>28.67</td>\n",
              "      <td>24.40</td>\n",
              "    </tr>\n",
              "    <tr>\n",
              "      <th>std</th>\n",
              "      <td>2.12</td>\n",
              "      <td>5.51</td>\n",
              "      <td>5.55</td>\n",
              "    </tr>\n",
              "    <tr>\n",
              "      <th>min</th>\n",
              "      <td>19.00</td>\n",
              "      <td>25.00</td>\n",
              "      <td>20.00</td>\n",
              "    </tr>\n",
              "    <tr>\n",
              "      <th>25%</th>\n",
              "      <td>19.75</td>\n",
              "      <td>25.50</td>\n",
              "      <td>21.00</td>\n",
              "    </tr>\n",
              "    <tr>\n",
              "      <th>50%</th>\n",
              "      <td>20.50</td>\n",
              "      <td>26.00</td>\n",
              "      <td>21.00</td>\n",
              "    </tr>\n",
              "    <tr>\n",
              "      <th>75%</th>\n",
              "      <td>21.25</td>\n",
              "      <td>30.50</td>\n",
              "      <td>27.00</td>\n",
              "    </tr>\n",
              "    <tr>\n",
              "      <th>max</th>\n",
              "      <td>22.00</td>\n",
              "      <td>35.00</td>\n",
              "      <td>33.00</td>\n",
              "    </tr>\n",
              "    <tr>\n",
              "      <th rowspan=\"8\" valign=\"top\">salario</th>\n",
              "      <th>count</th>\n",
              "      <td>2.00</td>\n",
              "      <td>3.00</td>\n",
              "      <td>5.00</td>\n",
              "    </tr>\n",
              "    <tr>\n",
              "      <th>mean</th>\n",
              "      <td>1750.00</td>\n",
              "      <td>3416.67</td>\n",
              "      <td>2650.00</td>\n",
              "    </tr>\n",
              "    <tr>\n",
              "      <th>std</th>\n",
              "      <td>353.55</td>\n",
              "      <td>520.42</td>\n",
              "      <td>821.58</td>\n",
              "    </tr>\n",
              "    <tr>\n",
              "      <th>min</th>\n",
              "      <td>1500.00</td>\n",
              "      <td>3000.00</td>\n",
              "      <td>1750.00</td>\n",
              "    </tr>\n",
              "    <tr>\n",
              "      <th>25%</th>\n",
              "      <td>1625.00</td>\n",
              "      <td>3125.00</td>\n",
              "      <td>2000.00</td>\n",
              "    </tr>\n",
              "    <tr>\n",
              "      <th>50%</th>\n",
              "      <td>1750.00</td>\n",
              "      <td>3250.00</td>\n",
              "      <td>2500.00</td>\n",
              "    </tr>\n",
              "    <tr>\n",
              "      <th>75%</th>\n",
              "      <td>1875.00</td>\n",
              "      <td>3625.00</td>\n",
              "      <td>3500.00</td>\n",
              "    </tr>\n",
              "    <tr>\n",
              "      <th>max</th>\n",
              "      <td>2000.00</td>\n",
              "      <td>4000.00</td>\n",
              "      <td>3500.00</td>\n",
              "    </tr>\n",
              "  </tbody>\n",
              "</table>\n",
              "</div>"
            ],
            "text/plain": [
              "uf                  PR       RS       SC\n",
              "idade   count     2.00     3.00     5.00\n",
              "        mean     20.50    28.67    24.40\n",
              "        std       2.12     5.51     5.55\n",
              "        min      19.00    25.00    20.00\n",
              "        25%      19.75    25.50    21.00\n",
              "        50%      20.50    26.00    21.00\n",
              "        75%      21.25    30.50    27.00\n",
              "        max      22.00    35.00    33.00\n",
              "salario count     2.00     3.00     5.00\n",
              "        mean   1750.00  3416.67  2650.00\n",
              "        std     353.55   520.42   821.58\n",
              "        min    1500.00  3000.00  1750.00\n",
              "        25%    1625.00  3125.00  2000.00\n",
              "        50%    1750.00  3250.00  2500.00\n",
              "        75%    1875.00  3625.00  3500.00\n",
              "        max    2000.00  4000.00  3500.00"
            ]
          },
          "metadata": {
            "tags": []
          },
          "execution_count": 27
        }
      ]
    },
    {
      "cell_type": "markdown",
      "metadata": {
        "id": "D7wa8L7y5i7t"
      },
      "source": [
        "### Exemplo 23 - Diferença entre dataframes\n",
        "\n",
        "Exibe as diferenças entre dois dataframes\n",
        "\n",
        "https://kanoki.org/2019/07/04/pandas-difference-between-two-dataframes/"
      ]
    },
    {
      "cell_type": "code",
      "metadata": {
        "colab": {
          "base_uri": "https://localhost:8080/"
        },
        "id": "XmhVK-2s5pki",
        "outputId": "3d7e29fa-4219-4629-b5a7-fcbaf673f6a9"
      },
      "source": [
        "# Biblioteca de processamento de dados, I/O em arquivo csv (ex. pd.read_csv)\n",
        "import pandas as pd\n",
        "\n",
        "# Caminho e nome do arquivo\n",
        "nomearquivo = '/content/dados.csv'\n",
        "\n",
        "# Abre o arquivo e retorna o DataFrame\n",
        "df1 = pd.read_csv(nomearquivo, encoding='UTF-8')\n",
        "\n",
        "# Apaga algumas linhas\n",
        "df1 = df1[df1['uf'] != 'RS']\n",
        "\n",
        "# Mostra os dados\n",
        "print(\"df1\")\n",
        "print(df1)\n",
        "\n",
        "# Abre o arquivo e retorna o DataFrame\n",
        "df2 = pd.read_csv(nomearquivo, encoding='UTF-8')\n",
        "\n",
        "# Mostra os dados\n",
        "print(\"df2\")\n",
        "print(df2)\n",
        "\n",
        "# Procura a diferença\n",
        "dif = df2.merge(df1, how = 'outer' ,indicator=True).loc[lambda x : x['_merge']=='left_only']\n",
        "\n",
        "# Mostra a diferença\n",
        "print(\"Diferença\")\n",
        "print(dif)"
      ],
      "execution_count": 28,
      "outputs": [
        {
          "output_type": "stream",
          "text": [
            "df1\n",
            "        nome  idade                 email  salario  uf\n",
            "0       Joao     33        joao@gmail.com   1750.0  SC\n",
            "2      Maria     21       maria@gmail.com   3500.0  SC\n",
            "5      Andre     27       andre@gmail.com   2500.0  SC\n",
            "6   Fernando     21    fernando@gmail.com   2000.0  SC\n",
            "7       Luiz     22        luiz@gmail.com   1500.0  PR\n",
            "8  Guilherme     20   guilherme@gmail.com   3500.0  SC\n",
            "9    Antonio     19     antonio@gmail.com   2000.0  PR\n",
            "df2\n",
            "        nome  idade                 email  salario  uf\n",
            "0       Joao     33        joao@gmail.com   1750.0  SC\n",
            "1      Pedro     35       pedro@gmail.com   3250.0  RS\n",
            "2      Maria     21       maria@gmail.com   3500.0  SC\n",
            "3       Jose     25        jose@gmail.com   3000.0  RS\n",
            "4      Marco     26       marco@gmail.com   4000.0  RS\n",
            "5      Andre     27       andre@gmail.com   2500.0  SC\n",
            "6   Fernando     21    fernando@gmail.com   2000.0  SC\n",
            "7       Luiz     22        luiz@gmail.com   1500.0  PR\n",
            "8  Guilherme     20   guilherme@gmail.com   3500.0  SC\n",
            "9    Antonio     19     antonio@gmail.com   2000.0  PR\n",
            "Diferença\n",
            "    nome  idade            email  salario  uf     _merge\n",
            "1  Pedro     35  pedro@gmail.com   3250.0  RS  left_only\n",
            "3   Jose     25   jose@gmail.com   3000.0  RS  left_only\n",
            "4  Marco     26  marco@gmail.com   4000.0  RS  left_only\n"
          ],
          "name": "stdout"
        }
      ]
    },
    {
      "cell_type": "markdown",
      "metadata": {
        "id": "F9uTPXSW8Ryf"
      },
      "source": [
        "### Exemplo 24 - Apagando linha\n",
        "\n",
        "https://www.alura.com.br/artigos/como-remover-linhas-e-colunas-no-pandas"
      ]
    },
    {
      "cell_type": "code",
      "metadata": {
        "colab": {
          "base_uri": "https://localhost:8080/"
        },
        "id": "a5trN7st8Ryq",
        "outputId": "d6a36ba8-4784-4c2b-c5c5-5d23c7951679"
      },
      "source": [
        "# Biblioteca de processamento de dados, I/O em arquivo csv (ex. pd.read_csv)\n",
        "import pandas as pd\n",
        "\n",
        "# Caminho e nome do arquivo\n",
        "nomearquivo = '/content/dados.csv'\n",
        "\n",
        "# Abre o arquivo e retorna o DataFrame\n",
        "df1 = pd.read_csv(nomearquivo, encoding='UTF-8')\n",
        "\n",
        "# Mostra os dados\n",
        "print(\"Antes\")\n",
        "print(df1)\n",
        "\n",
        "# Apaga a linha 1\n",
        "df1 = df1.drop(1)\n",
        "\n",
        "# Mostra os dados\n",
        "print(\"Depois\")\n",
        "print(df1)\n"
      ],
      "execution_count": 29,
      "outputs": [
        {
          "output_type": "stream",
          "text": [
            "Antes\n",
            "        nome  idade                 email  salario  uf\n",
            "0       Joao     33        joao@gmail.com   1750.0  SC\n",
            "1      Pedro     35       pedro@gmail.com   3250.0  RS\n",
            "2      Maria     21       maria@gmail.com   3500.0  SC\n",
            "3       Jose     25        jose@gmail.com   3000.0  RS\n",
            "4      Marco     26       marco@gmail.com   4000.0  RS\n",
            "5      Andre     27       andre@gmail.com   2500.0  SC\n",
            "6   Fernando     21    fernando@gmail.com   2000.0  SC\n",
            "7       Luiz     22        luiz@gmail.com   1500.0  PR\n",
            "8  Guilherme     20   guilherme@gmail.com   3500.0  SC\n",
            "9    Antonio     19     antonio@gmail.com   2000.0  PR\n",
            "Depois\n",
            "        nome  idade                 email  salario  uf\n",
            "0       Joao     33        joao@gmail.com   1750.0  SC\n",
            "2      Maria     21       maria@gmail.com   3500.0  SC\n",
            "3       Jose     25        jose@gmail.com   3000.0  RS\n",
            "4      Marco     26       marco@gmail.com   4000.0  RS\n",
            "5      Andre     27       andre@gmail.com   2500.0  SC\n",
            "6   Fernando     21    fernando@gmail.com   2000.0  SC\n",
            "7       Luiz     22        luiz@gmail.com   1500.0  PR\n",
            "8  Guilherme     20   guilherme@gmail.com   3500.0  SC\n",
            "9    Antonio     19     antonio@gmail.com   2000.0  PR\n"
          ],
          "name": "stdout"
        }
      ]
    },
    {
      "cell_type": "markdown",
      "metadata": {
        "id": "-LGN51Ot8cfK"
      },
      "source": [
        "### Exemplo 25 - Apagando linha condicionada\n",
        "\n",
        "https://www.alura.com.br/artigos/como-remover-linhas-e-colunas-no-pandas"
      ]
    },
    {
      "cell_type": "code",
      "metadata": {
        "colab": {
          "base_uri": "https://localhost:8080/"
        },
        "id": "-pAFGmB68cwE",
        "outputId": "b17a23fb-35db-4684-a35a-d95258c6bc17"
      },
      "source": [
        "# Biblioteca de processamento de dados, I/O em arquivo csv (ex. pd.read_csv)\n",
        "import pandas as pd\n",
        "\n",
        "# Caminho e nome do arquivo\n",
        "nomearquivo = '/content/dados.csv'\n",
        "\n",
        "# Abre o arquivo e retorna o DataFrame\n",
        "df1 = pd.read_csv(nomearquivo, encoding='UTF-8')\n",
        "\n",
        "# Mostra os dados\n",
        "print(\"Antes\")\n",
        "print(df1)\n",
        "\n",
        "# Apaga algumas linhas\n",
        "df1 = df1[df1['uf'] != 'RS']\n",
        "\n",
        "# Mostra os dados\n",
        "print(\"Depois\")\n",
        "print(df1)\n"
      ],
      "execution_count": 30,
      "outputs": [
        {
          "output_type": "stream",
          "text": [
            "Antes\n",
            "        nome  idade                 email  salario  uf\n",
            "0       Joao     33        joao@gmail.com   1750.0  SC\n",
            "1      Pedro     35       pedro@gmail.com   3250.0  RS\n",
            "2      Maria     21       maria@gmail.com   3500.0  SC\n",
            "3       Jose     25        jose@gmail.com   3000.0  RS\n",
            "4      Marco     26       marco@gmail.com   4000.0  RS\n",
            "5      Andre     27       andre@gmail.com   2500.0  SC\n",
            "6   Fernando     21    fernando@gmail.com   2000.0  SC\n",
            "7       Luiz     22        luiz@gmail.com   1500.0  PR\n",
            "8  Guilherme     20   guilherme@gmail.com   3500.0  SC\n",
            "9    Antonio     19     antonio@gmail.com   2000.0  PR\n",
            "Depois\n",
            "        nome  idade                 email  salario  uf\n",
            "0       Joao     33        joao@gmail.com   1750.0  SC\n",
            "2      Maria     21       maria@gmail.com   3500.0  SC\n",
            "5      Andre     27       andre@gmail.com   2500.0  SC\n",
            "6   Fernando     21    fernando@gmail.com   2000.0  SC\n",
            "7       Luiz     22        luiz@gmail.com   1500.0  PR\n",
            "8  Guilherme     20   guilherme@gmail.com   3500.0  SC\n",
            "9    Antonio     19     antonio@gmail.com   2000.0  PR\n"
          ],
          "name": "stdout"
        }
      ]
    },
    {
      "cell_type": "markdown",
      "metadata": {
        "id": "GwxxeuTQ82Ni"
      },
      "source": [
        "### Exemplo 26 - Remove linhas duplicadas"
      ]
    },
    {
      "cell_type": "code",
      "metadata": {
        "colab": {
          "base_uri": "https://localhost:8080/"
        },
        "id": "SCzg7lCn82Z_",
        "outputId": "994e0fe5-8ab7-4e68-c61f-580fd17c67b3"
      },
      "source": [
        "# Biblioteca de processamento de dados, I/O em arquivo csv (ex. pd.read_csv)\n",
        "import pandas as pd\n",
        "\n",
        "# Caminho e nome do arquivo\n",
        "nomearquivo = '/content/dados.csv'\n",
        "\n",
        "# Abre o arquivo e retorna o DataFrame\n",
        "df1 = pd.read_csv(nomearquivo, encoding='UTF-8')\n",
        "\n",
        "# Mostra os dados\n",
        "print(\"Antes\")\n",
        "print(df1)\n",
        "\n",
        "# Remove os duplicados\n",
        "df2 = df1.drop_duplicates(subset=['salario'])\n",
        "\n",
        "print(\"Depois\")\n",
        "print(df2)\n"
      ],
      "execution_count": 31,
      "outputs": [
        {
          "output_type": "stream",
          "text": [
            "Antes\n",
            "        nome  idade                 email  salario  uf\n",
            "0       Joao     33        joao@gmail.com   1750.0  SC\n",
            "1      Pedro     35       pedro@gmail.com   3250.0  RS\n",
            "2      Maria     21       maria@gmail.com   3500.0  SC\n",
            "3       Jose     25        jose@gmail.com   3000.0  RS\n",
            "4      Marco     26       marco@gmail.com   4000.0  RS\n",
            "5      Andre     27       andre@gmail.com   2500.0  SC\n",
            "6   Fernando     21    fernando@gmail.com   2000.0  SC\n",
            "7       Luiz     22        luiz@gmail.com   1500.0  PR\n",
            "8  Guilherme     20   guilherme@gmail.com   3500.0  SC\n",
            "9    Antonio     19     antonio@gmail.com   2000.0  PR\n",
            "Depois\n",
            "       nome  idade               email  salario  uf\n",
            "0      Joao     33      joao@gmail.com   1750.0  SC\n",
            "1     Pedro     35     pedro@gmail.com   3250.0  RS\n",
            "2     Maria     21     maria@gmail.com   3500.0  SC\n",
            "3      Jose     25      jose@gmail.com   3000.0  RS\n",
            "4     Marco     26     marco@gmail.com   4000.0  RS\n",
            "5     Andre     27     andre@gmail.com   2500.0  SC\n",
            "6  Fernando     21  fernando@gmail.com   2000.0  SC\n",
            "7      Luiz     22      luiz@gmail.com   1500.0  PR\n"
          ],
          "name": "stdout"
        }
      ]
    },
    {
      "cell_type": "markdown",
      "metadata": {
        "id": "m-R1C5UC9ton"
      },
      "source": [
        "### Exemplo 27 - Selecionado linhas para outro dataframe\n"
      ]
    },
    {
      "cell_type": "code",
      "metadata": {
        "colab": {
          "base_uri": "https://localhost:8080/"
        },
        "id": "myT2uKS19xp2",
        "outputId": "3206574f-d92c-4451-9024-568f242864a0"
      },
      "source": [
        "# Biblioteca de processamento de dados, I/O em arquivo csv (ex. pd.read_csv)\n",
        "import pandas as pd\n",
        "\n",
        "# Caminho e nome do arquivo\n",
        "nomearquivo = '/content/dados.csv'\n",
        "\n",
        "# Abre o arquivo e retorna o DataFrame\n",
        "df1 = pd.read_csv(nomearquivo, encoding='UTF-8')\n",
        "\n",
        "# Mostra os dados\n",
        "print(\"Antes\")\n",
        "print(df1)\n",
        "\n",
        "# Seleciona os dados com uma condição Verdadeira. O nome deve conter \"dro\" \n",
        "df2 = df1.loc[df1['nome'].str.contains('dro')==True]\n",
        "\n",
        "print(\"Depois\")\n",
        "print(df2)"
      ],
      "execution_count": 32,
      "outputs": [
        {
          "output_type": "stream",
          "text": [
            "Antes\n",
            "        nome  idade                 email  salario  uf\n",
            "0       Joao     33        joao@gmail.com   1750.0  SC\n",
            "1      Pedro     35       pedro@gmail.com   3250.0  RS\n",
            "2      Maria     21       maria@gmail.com   3500.0  SC\n",
            "3       Jose     25        jose@gmail.com   3000.0  RS\n",
            "4      Marco     26       marco@gmail.com   4000.0  RS\n",
            "5      Andre     27       andre@gmail.com   2500.0  SC\n",
            "6   Fernando     21    fernando@gmail.com   2000.0  SC\n",
            "7       Luiz     22        luiz@gmail.com   1500.0  PR\n",
            "8  Guilherme     20   guilherme@gmail.com   3500.0  SC\n",
            "9    Antonio     19     antonio@gmail.com   2000.0  PR\n",
            "Depois\n",
            "    nome  idade            email  salario  uf\n",
            "1  Pedro     35  pedro@gmail.com   3250.0  RS\n"
          ],
          "name": "stdout"
        }
      ]
    },
    {
      "cell_type": "markdown",
      "metadata": {
        "id": "SUnyZ7g8IWJn"
      },
      "source": [
        "### Exemplo 28 - Criando um dataFrame vazio"
      ]
    },
    {
      "cell_type": "code",
      "metadata": {
        "id": "mk1-xUIsIWTG",
        "colab": {
          "base_uri": "https://localhost:8080/",
          "height": 32
        },
        "outputId": "ea4ff250-8b01-4c3f-e654-a668b867f03b"
      },
      "source": [
        "# Biblioteca de processamento de dados, I/O em arquivo csv (ex. pd.read_csv)\n",
        "import pandas as pd\n",
        "\n",
        "df1 = pd.DataFrame()\n",
        "df1"
      ],
      "execution_count": 33,
      "outputs": [
        {
          "output_type": "execute_result",
          "data": {
            "text/html": [
              "<div>\n",
              "<style scoped>\n",
              "    .dataframe tbody tr th:only-of-type {\n",
              "        vertical-align: middle;\n",
              "    }\n",
              "\n",
              "    .dataframe tbody tr th {\n",
              "        vertical-align: top;\n",
              "    }\n",
              "\n",
              "    .dataframe thead th {\n",
              "        text-align: right;\n",
              "    }\n",
              "</style>\n",
              "<table border=\"1\" class=\"dataframe\">\n",
              "  <thead>\n",
              "    <tr style=\"text-align: right;\">\n",
              "      <th></th>\n",
              "    </tr>\n",
              "  </thead>\n",
              "  <tbody>\n",
              "  </tbody>\n",
              "</table>\n",
              "</div>"
            ],
            "text/plain": [
              "Empty DataFrame\n",
              "Columns: []\n",
              "Index: []"
            ]
          },
          "metadata": {
            "tags": []
          },
          "execution_count": 33
        }
      ]
    },
    {
      "cell_type": "markdown",
      "metadata": {
        "id": "uE_nvIOzrZMI"
      },
      "source": [
        "##Usando a biblioteca csv\n",
        "\n",
        "https://docs.python.org/3/library/csv.html\n"
      ]
    },
    {
      "cell_type": "markdown",
      "metadata": {
        "id": "X8OzOqxH0nHB"
      },
      "source": [
        "#### Exemplo 1 - Abrindo o arquivo de forma simples"
      ]
    },
    {
      "cell_type": "code",
      "metadata": {
        "colab": {
          "base_uri": "https://localhost:8080/"
        },
        "id": "XsULUN6E0Lwj",
        "outputId": "917b847d-24cf-4bfd-c4e5-e5e42c60da6c"
      },
      "source": [
        "# Biblioteca para manipular csv\n",
        "import csv\n",
        "\n",
        "# Caminho e nome do arquivo\n",
        "nomearquivo = '/content/dados.csv'\n",
        "\n",
        "# Abre o arquivo\n",
        "arquivo_csv = open(nomearquivo, encoding='UTF-8')\n",
        "\n",
        "# Cria o leito para o arquivo\n",
        "leitor_csv = csv.reader(arquivo_csv, delimiter=',')\n",
        "\n",
        "# Avança o leitor para pular o cabeçalho\n",
        "leitor_csv.__next__()\n",
        "\n",
        "# O leitor percorre o arquivo e armazena na variável linha\n",
        "for linha in leitor_csv:\n",
        "    print(linha)"
      ],
      "execution_count": 34,
      "outputs": [
        {
          "output_type": "stream",
          "text": [
            "['Joao', '33', 'joao@gmail.com', '1750.0', 'SC']\n",
            "['Pedro', '35', 'pedro@gmail.com', '3250.0', 'RS']\n",
            "['Maria', '21', 'maria@gmail.com', '3500.0', 'SC']\n",
            "['Jose', '25', 'jose@gmail.com', '3000.0', 'RS']\n",
            "['Marco', '26', 'marco@gmail.com', '4000.0', 'RS']\n",
            "['Andre', '27', 'andre@gmail.com', '2500.0', 'SC']\n",
            "['Fernando', '21', 'fernando@gmail.com', '2000.0', 'SC']\n",
            "['Luiz', '22', 'luiz@gmail.com', '1500.0', 'PR']\n",
            "['Guilherme', '20', ' guilherme@gmail.com', '3500.0', 'SC']\n",
            "['Antonio', '19', ' antonio@gmail.com', '2000.0', 'PR']\n"
          ],
          "name": "stdout"
        }
      ]
    },
    {
      "cell_type": "markdown",
      "metadata": {
        "id": "pxfq1sjzzayS"
      },
      "source": [
        "#### Exemplo 2 - Abrindo o arquivo de forma usual com with"
      ]
    },
    {
      "cell_type": "code",
      "metadata": {
        "colab": {
          "base_uri": "https://localhost:8080/"
        },
        "id": "RzJ_VDtarbdO",
        "outputId": "d12c9635-ed1c-4ce7-e885-9a5bfc5d46b2"
      },
      "source": [
        "# Biblioteca para manipular csv\n",
        "import csv\n",
        "\n",
        "# Caminho e nome do arquivo\n",
        "nomearquivo = '/content/dados.csv'\n",
        "\n",
        "# Abre o arquivo\n",
        "with open(nomearquivo, encoding='UTF-8') as arquivo_csv:\n",
        "\n",
        "    # Cria o leito para o arquivo\n",
        "    leitor_csv = csv.reader(arquivo_csv, delimiter=',')\n",
        "\n",
        "    # Avança o leitor para pular o cabeçalho\n",
        "    leitor_csv.__next__()\n",
        "\n",
        "    # O leitor percorre o arquivo e armazena na variável linha\n",
        "    for linha in leitor_csv:\n",
        "        print(linha)"
      ],
      "execution_count": 35,
      "outputs": [
        {
          "output_type": "stream",
          "text": [
            "['Joao', '33', 'joao@gmail.com', '1750.0', 'SC']\n",
            "['Pedro', '35', 'pedro@gmail.com', '3250.0', 'RS']\n",
            "['Maria', '21', 'maria@gmail.com', '3500.0', 'SC']\n",
            "['Jose', '25', 'jose@gmail.com', '3000.0', 'RS']\n",
            "['Marco', '26', 'marco@gmail.com', '4000.0', 'RS']\n",
            "['Andre', '27', 'andre@gmail.com', '2500.0', 'SC']\n",
            "['Fernando', '21', 'fernando@gmail.com', '2000.0', 'SC']\n",
            "['Luiz', '22', 'luiz@gmail.com', '1500.0', 'PR']\n",
            "['Guilherme', '20', ' guilherme@gmail.com', '3500.0', 'SC']\n",
            "['Antonio', '19', ' antonio@gmail.com', '2000.0', 'PR']\n"
          ],
          "name": "stdout"
        }
      ]
    },
    {
      "cell_type": "markdown",
      "metadata": {
        "id": "eQ1Ii_7TzfN3"
      },
      "source": [
        "#### Exemplo 3 - Acesso específico\n"
      ]
    },
    {
      "cell_type": "code",
      "metadata": {
        "colab": {
          "base_uri": "https://localhost:8080/"
        },
        "id": "qEMrXlT_zfgH",
        "outputId": "d07cf6e8-9dda-4ac2-defb-846c35069398"
      },
      "source": [
        "# Biblioteca para manipular csv\n",
        "import csv\n",
        "\n",
        "# Caminho e nome do arquivo\n",
        "nomearquivo = '/content/dados.csv'\n",
        "\n",
        "# Abre o arquivo\n",
        "with open(nomearquivo, encoding='UTF-8') as arquivo_csv:\n",
        "\n",
        "    # Cria o leito para o arquivo\n",
        "    leitor_csv = csv.reader(arquivo_csv, delimiter=',')\n",
        "\n",
        "    # Avança o leitor para pular o cabeçalho\n",
        "    leitor_csv.__next__()\n",
        "\n",
        "    # O leitor percorre o arquivo e armazena na variável linha\n",
        "    for linha in leitor_csv:\n",
        "        # Acessa cada dado especificamente\n",
        "        print(linha[0] + ', ' + linha[1] + ', ' + linha[2])"
      ],
      "execution_count": 36,
      "outputs": [
        {
          "output_type": "stream",
          "text": [
            "Joao, 33, joao@gmail.com\n",
            "Pedro, 35, pedro@gmail.com\n",
            "Maria, 21, maria@gmail.com\n",
            "Jose, 25, jose@gmail.com\n",
            "Marco, 26, marco@gmail.com\n",
            "Andre, 27, andre@gmail.com\n",
            "Fernando, 21, fernando@gmail.com\n",
            "Luiz, 22, luiz@gmail.com\n",
            "Guilherme, 20,  guilherme@gmail.com\n",
            "Antonio, 19,  antonio@gmail.com\n"
          ],
          "name": "stdout"
        }
      ]
    },
    {
      "cell_type": "markdown",
      "metadata": {
        "id": "00xmFmQU03lk"
      },
      "source": [
        "#### Exemplo 4 - Tratando possíveis erros"
      ]
    },
    {
      "cell_type": "code",
      "metadata": {
        "colab": {
          "base_uri": "https://localhost:8080/"
        },
        "id": "kg90XHOz0320",
        "outputId": "947eb940-2eb9-48bb-ba3c-7e50b8d1ee65"
      },
      "source": [
        "# Biblioteca para manipular csv\n",
        "import csv\n",
        "\n",
        "# Caminho e nome do arquivo\n",
        "nomearquivo = '/content/dados.csv'\n",
        "\n",
        "# Abre o arquivo\n",
        "with open(nomearquivo, encoding='UTF-8') as arquivo_csv:\n",
        "\n",
        "    # Cria o leito para o arquivo\n",
        "    leitor_csv = csv.reader(arquivo_csv, delimiter=',')\n",
        "\n",
        "    # Início bloco protegido\n",
        "    try:\n",
        "      # Avança o leitor para pular o cabeçalho\n",
        "      leitor_csv.__next__()\n",
        "\n",
        "      # O leitor percorre o arquivo e armazena na variável linha\n",
        "      for linha in leitor_csv:\n",
        "          print(linha)\n",
        "    # Trata possíveis erros    \n",
        "    except csv.Error as e:\n",
        "        sys.exit('arquivo {}, linha {}: {}'.format(nomearquivo, leitor_csv.line_num, e))"
      ],
      "execution_count": 37,
      "outputs": [
        {
          "output_type": "stream",
          "text": [
            "['Joao', '33', 'joao@gmail.com', '1750.0', 'SC']\n",
            "['Pedro', '35', 'pedro@gmail.com', '3250.0', 'RS']\n",
            "['Maria', '21', 'maria@gmail.com', '3500.0', 'SC']\n",
            "['Jose', '25', 'jose@gmail.com', '3000.0', 'RS']\n",
            "['Marco', '26', 'marco@gmail.com', '4000.0', 'RS']\n",
            "['Andre', '27', 'andre@gmail.com', '2500.0', 'SC']\n",
            "['Fernando', '21', 'fernando@gmail.com', '2000.0', 'SC']\n",
            "['Luiz', '22', 'luiz@gmail.com', '1500.0', 'PR']\n",
            "['Guilherme', '20', ' guilherme@gmail.com', '3500.0', 'SC']\n",
            "['Antonio', '19', ' antonio@gmail.com', '2000.0', 'PR']\n"
          ],
          "name": "stdout"
        }
      ]
    },
    {
      "cell_type": "markdown",
      "metadata": {
        "id": "rBFl9-ww3Uh0"
      },
      "source": [
        "#### Exemplo 5 - Tratando como um dicionário\n",
        "\n",
        "Tratando o arquivo csv como um dicionário"
      ]
    },
    {
      "cell_type": "code",
      "metadata": {
        "colab": {
          "base_uri": "https://localhost:8080/"
        },
        "id": "h3cK-HiH3ZCy",
        "outputId": "e68392ee-5f9d-413a-a8ce-dac8be148f10"
      },
      "source": [
        "# Biblioteca para manipular csv\n",
        "import csv\n",
        "\n",
        "# Caminho e nome do arquivo\n",
        "nomearquivo = '/content/dados.csv'\n",
        "\n",
        "# Abre o arquivo\"\n",
        "# cada primeira linha do arquivo tem o caracter \"\\ufeff\" \n",
        "# para evitar este caracter usar encoding='utf-8-sig' na abertura do arquivo\n",
        "with open(nomearquivo, encoding='utf-8-sig') as arquivo_csv:\n",
        "\n",
        "  # Abre o arquivo e retorna o dicionário\n",
        "  leitor_dic = csv.DictReader(arquivo_csv, delimiter=',')\n",
        "\n",
        " # O leitor percorre o arquivo e armazena na variável linha\n",
        "  for linha in leitor_dic:\n",
        "      # Recupera os valores da linha chave(nome da coluna)\n",
        "      print(\"Nome:\", linha['nome'], \" - Idade:\", linha['idade'], \" - Email:\", linha['email'])"
      ],
      "execution_count": 38,
      "outputs": [
        {
          "output_type": "stream",
          "text": [
            "Nome: Joao  - Idade: 33  - Email: joao@gmail.com\n",
            "Nome: Pedro  - Idade: 35  - Email: pedro@gmail.com\n",
            "Nome: Maria  - Idade: 21  - Email: maria@gmail.com\n",
            "Nome: Jose  - Idade: 25  - Email: jose@gmail.com\n",
            "Nome: Marco  - Idade: 26  - Email: marco@gmail.com\n",
            "Nome: Andre  - Idade: 27  - Email: andre@gmail.com\n",
            "Nome: Fernando  - Idade: 21  - Email: fernando@gmail.com\n",
            "Nome: Luiz  - Idade: 22  - Email: luiz@gmail.com\n",
            "Nome: Guilherme  - Idade: 20  - Email:  guilherme@gmail.com\n",
            "Nome: Antonio  - Idade: 19  - Email:  antonio@gmail.com\n"
          ],
          "name": "stdout"
        }
      ]
    },
    {
      "cell_type": "markdown",
      "metadata": {
        "id": "GmfDWZNiXhmQ"
      },
      "source": [
        "# Arquivo JSON"
      ]
    },
    {
      "cell_type": "markdown",
      "metadata": {
        "id": "lvBRjOmeVMQH"
      },
      "source": [
        "## Criando arquivo json para os exemplos\n",
        "\n",
        "Crie o arquivo **dados.json** com os dados abaixo:\n",
        "\n",
        "```\n",
        "[\n",
        "  {\n",
        "    \"id\": \"1\", \n",
        "    \"nome\": \"joao\",\n",
        "    \"genero\": \"M\", \n",
        "    \"idade\": 33,\n",
        "    \"salario\": 10.5\n",
        "  },\n",
        "  {\n",
        "    \"id\": \"2\", \n",
        "    \"nome\": \"maria\", \n",
        "    \"genero\": \"F\",\n",
        "    \"idade\": 51,\n",
        "    \"salario\": 12.7\n",
        "  },\n",
        "  {\n",
        "    \"id\": \"3\", \n",
        "    \"nome\": \"pedro\", \n",
        "    \"genero\": \"M\",\n",
        "    \"idade\": 35,\n",
        "    \"salario\": 14.9\n",
        "\n",
        "  }\n",
        "]\n",
        "```"
      ]
    },
    {
      "cell_type": "markdown",
      "metadata": {
        "id": "oG52WbYqc2dC"
      },
      "source": [
        "Criando através de arquivo texto"
      ]
    },
    {
      "cell_type": "code",
      "metadata": {
        "id": "r9h4i-o1VMQI"
      },
      "source": [
        "# Cria e abre o arquivo \"dados.json\" para escrita\n",
        "arquivo = open('dados.json', 'w')\n",
        "\n",
        "# Escreve no arquivo\n",
        "arquivo.write(\"[{ \\\"id\\\": \\\"1\\\", \\\"nome\\\": \\\"joao\\\", \\\"genero\\\": \\\"M\\\", \\\"idade\\\": 33, \\\"salario\\\": 10.5 },\")\n",
        "arquivo.write(\" { \\\"id\\\": \\\"2\\\", \\\"nome\\\": \\\"maria\\\", \\\"genero\\\": \\\"F\\\", \\\"idade\\\": 51, \\\"salario\\\": 12.7 },\")\n",
        "arquivo.write(\" { \\\"id\\\": \\\"3\\\", \\\"nome\\\": \\\"pedro\\\", \\\"genero\\\": \\\"M\\\", \\\"idade\\\": 35, \\\"salario\\\": 14.9 }]\")\n",
        "\n",
        "# Fecha o arquivo\n",
        "arquivo.close()"
      ],
      "execution_count": 39,
      "outputs": []
    },
    {
      "cell_type": "markdown",
      "metadata": {
        "id": "9SJf_bItc5jh"
      },
      "source": [
        "Criando através do método dump de json"
      ]
    },
    {
      "cell_type": "code",
      "metadata": {
        "id": "eQ2S197FXWqG"
      },
      "source": [
        "# Biblioteca para manipular json\n",
        "import json\n",
        "\n",
        "# Dados do arquivo json\n",
        "dados = [\n",
        "  {\n",
        "    \"id\": \"1\",\n",
        "    \"nome\": \"joao\",\n",
        "    \"genero\": \"M\",\n",
        "    \"idade\": 33,\n",
        "    \"salario\": 10.5\n",
        "  },\n",
        "  {\n",
        "    \"id\": \"2\",\n",
        "    \"nome\": \"maria\",\n",
        "    \"genero\": \"F\",\n",
        "    \"idade\": 51,\n",
        "    \"salario\": 12.7\n",
        "  }, \n",
        "  { \n",
        "    \"id\": \"3\", \n",
        "    \"nome\": \"pedro\", \n",
        "    \"genero\": \"M\",\n",
        "    \"idade\": 35,\n",
        "    \"salario\": 14.9 } \n",
        "]\n",
        "\n",
        "# Abre o arquivo\n",
        "with open('dados.json', 'w') as arquivo:\n",
        "\n",
        "  # Salva os dados no arquivo\n",
        "  json.dump(dados, arquivo)"
      ],
      "execution_count": 40,
      "outputs": []
    },
    {
      "cell_type": "markdown",
      "metadata": {
        "id": "GAt_pTzUB1a1"
      },
      "source": [
        "##Usando a biblioteca pandas\n",
        "\n",
        "API:\n",
        "https://pandas.pydata.org/docs/reference/index.html\n",
        "\n",
        "Exemplos:\n",
        "https://medium.com/data-hackers/uma-introdu%C3%A7%C3%A3o-simples-ao-pandas-1e15eea37fa1\n",
        "\n",
        "Artigo original:\n",
        "https://pandas.pydata.org/pandas-docs/stable/getting_started/10min.html"
      ]
    },
    {
      "cell_type": "markdown",
      "metadata": {
        "id": "3cgmQqTyB7Pu"
      },
      "source": [
        "### Lendo json de arquivo"
      ]
    },
    {
      "cell_type": "code",
      "metadata": {
        "colab": {
          "base_uri": "https://localhost:8080/"
        },
        "id": "j92kYbUHCD7S",
        "outputId": "66914b95-1067-46d9-b158-85c50853a8d6"
      },
      "source": [
        "# Biblioteca de processamento de dados, I/O em arquivo json (ex. pd.read_json)\n",
        "import pandas as pd\n",
        "\n",
        "# Caminho e nome do arquivo\n",
        "nomearquivo = \"/content/dados.json\"\n",
        "\n",
        "# Abre o arquivo e retorna o leitor\n",
        "df = pd.read_json(nomearquivo)\n",
        "\n",
        "# Mostra os dados do cabeçalho do arquivo\n",
        "print(df.head())"
      ],
      "execution_count": 41,
      "outputs": [
        {
          "output_type": "stream",
          "text": [
            "   id   nome genero  idade  salario\n",
            "0   1   joao      M     33     10.5\n",
            "1   2  maria      F     51     12.7\n",
            "2   3  pedro      M     35     14.9\n"
          ],
          "name": "stdout"
        }
      ]
    },
    {
      "cell_type": "markdown",
      "metadata": {
        "id": "tEQD9qWktiZG"
      },
      "source": [
        "### Mostrando as colunas do arquivo json"
      ]
    },
    {
      "cell_type": "code",
      "metadata": {
        "colab": {
          "base_uri": "https://localhost:8080/"
        },
        "id": "lI5CEO8ZtiZH",
        "outputId": "36047bdc-2c9a-4849-f6d6-a70ee78df6f5"
      },
      "source": [
        "# Biblioteca de processamento de dados, I/O em arquivo json (ex. pd.read_json)\n",
        "import pandas as pd\n",
        "\n",
        "# Caminho e nome do arquivo\n",
        "nomearquivo = \"/content/dados.json\"\n",
        "\n",
        "# Abre o arquivo e retorna o leitor\n",
        "df = pd.read_json(nomearquivo)\n",
        "\n",
        "# Mostra os colunas arquivo\n",
        "print(df.columns)"
      ],
      "execution_count": 42,
      "outputs": [
        {
          "output_type": "stream",
          "text": [
            "Index(['id', 'nome', 'genero', 'idade', 'salario'], dtype='object')\n"
          ],
          "name": "stdout"
        }
      ]
    },
    {
      "cell_type": "markdown",
      "metadata": {
        "id": "7shpO-ETuPC4"
      },
      "source": [
        "### Mostrando a soma das colunas do arquivo json"
      ]
    },
    {
      "cell_type": "code",
      "metadata": {
        "colab": {
          "base_uri": "https://localhost:8080/"
        },
        "id": "DwLlDDmduPC5",
        "outputId": "2972c506-306c-4cef-8a16-49bc16b39ac4"
      },
      "source": [
        "# Biblioteca de processamento de dados, I/O em arquivo json (ex. pd.read_json)\n",
        "import pandas as pd\n",
        "\n",
        "# Caminho e nome do arquivo\n",
        "nomearquivo = \"/content/dados.json\"\n",
        "\n",
        "# Abre o arquivo e retorna o leitor\n",
        "df = pd.read_json(nomearquivo)\n",
        "\n",
        "# Mostra os colunas arquivo\n",
        "print(df.isna().sum())"
      ],
      "execution_count": 43,
      "outputs": [
        {
          "output_type": "stream",
          "text": [
            "id         0\n",
            "nome       0\n",
            "genero     0\n",
            "idade      0\n",
            "salario    0\n",
            "dtype: int64\n"
          ],
          "name": "stdout"
        }
      ]
    },
    {
      "cell_type": "markdown",
      "metadata": {
        "id": "lPGVN8p_FTd7"
      },
      "source": [
        "### Criando listas de propriedades do arquivo json\n",
        "\n",
        "O arquivo possui as propriedades:\n",
        "* \"id\"\n",
        "* \"nome\"\n",
        "* \"idade\""
      ]
    },
    {
      "cell_type": "code",
      "metadata": {
        "colab": {
          "base_uri": "https://localhost:8080/"
        },
        "id": "PD7AaQK6FZ0_",
        "outputId": "e0198e15-9420-416d-ba67-c4ee2b8b4153"
      },
      "source": [
        "# Biblioteca de processamento de dados, I/O em arquivo json (ex. pd.read_json)\n",
        "import pandas as pd\n",
        "\n",
        "# Caminho e nome do arquivo\n",
        "nomearquivo = \"/content/dados.json\"\n",
        "\n",
        "# Abre o arquivo e retorna o leitor\n",
        "df = pd.read_json(nomearquivo)\n",
        "\n",
        "# Cria listas dos valores do arquivo json lido para a propriedade id\n",
        "ids = df.id.values\n",
        "print(ids)\n",
        "\n",
        "# Cria listas dos valores do arquivo json lido para a propriedade nome\n",
        "nomes = df.nome.values\n",
        "print(nomes)"
      ],
      "execution_count": 44,
      "outputs": [
        {
          "output_type": "stream",
          "text": [
            "[1 2 3]\n",
            "['joao' 'maria' 'pedro']\n"
          ],
          "name": "stdout"
        }
      ]
    },
    {
      "cell_type": "markdown",
      "metadata": {
        "id": "9Mj7PgMCkpY0"
      },
      "source": [
        "###Propriedades do json\n"
      ]
    },
    {
      "cell_type": "code",
      "metadata": {
        "colab": {
          "base_uri": "https://localhost:8080/"
        },
        "id": "B5mxxDM-kpY2",
        "outputId": "d1da7f67-497c-4926-fdb4-f313e00da8dd"
      },
      "source": [
        "# Biblioteca de processamento de dados, I/O em arquivo json (ex. pd.read_json)\n",
        "import pandas as pd\n",
        "\n",
        "# Caminho e nome do arquivo\n",
        "nomearquivo = \"/content/dados.json\"\n",
        "\n",
        "# Abre o arquivo e retorna o leitor\n",
        "df = pd.read_json(nomearquivo)\n",
        "\n",
        "# Mostra as colunas\n",
        "print(df.columns)\n",
        "\n",
        "# Mostra os tipos das colunas\n",
        "print(df.dtypes)\n",
        "\n",
        "# Mostra um determinado registro do json pelo indice\n",
        "print(df.loc[0])\n",
        "\n",
        "# Mostra um determinado registro do json pelo indice e determinada coluna pelo indice\n",
        "print(df.loc[0][0])\n",
        "print(df.loc[0][1])\n",
        "print(df.loc[0][2])\n",
        "\n",
        "# Mostra um determinado registro do json pelo indice e determinada coluna pelo nome da coluna\n",
        "print(df.loc[0]['id'])"
      ],
      "execution_count": 45,
      "outputs": [
        {
          "output_type": "stream",
          "text": [
            "Index(['id', 'nome', 'genero', 'idade', 'salario'], dtype='object')\n",
            "id           int64\n",
            "nome        object\n",
            "genero      object\n",
            "idade        int64\n",
            "salario    float64\n",
            "dtype: object\n",
            "id            1\n",
            "nome       joao\n",
            "genero        M\n",
            "idade        33\n",
            "salario      10\n",
            "Name: 0, dtype: object\n",
            "1\n",
            "joao\n",
            "M\n",
            "1\n"
          ],
          "name": "stdout"
        }
      ]
    },
    {
      "cell_type": "markdown",
      "metadata": {
        "id": "Fxd_E6b_od2C"
      },
      "source": [
        "###Iterando sobre json \n",
        "\n",
        "https://thispointer.com/pandas-6-different-ways-to-iterate-over-rows-in-a-dataframe-update-while-iterating-row-by-row/"
      ]
    },
    {
      "cell_type": "code",
      "metadata": {
        "colab": {
          "base_uri": "https://localhost:8080/"
        },
        "id": "OUGZefMVoeIa",
        "outputId": "84465669-d6f7-4c9f-e4eb-8de6dc408a51"
      },
      "source": [
        "# Biblioteca de processamento de dados, I/O em arquivo json (ex. pd.read_json)\n",
        "import pandas as pd\n",
        "\n",
        "# Declara um array de 3 objetos json em memória\n",
        "json_memoria = '[ { \"id\": \"1\", \"nome\": \"joao\", \"idade\": \"33\" }, { \"id\": \"2\", \"nome\": \"maria\", \"idade\": \"34\" }, { \"id\": \"3\", \"nome\": \"pedro\", \"idade\": \"35\" } ]'\n",
        "\n",
        "# Carrega o json\n",
        "df = pd.read_json(json_memoria)\n",
        "\n",
        "# Percorre os dados recuperando um índice e uma linha\n",
        "for (indice, linha) in df.iterrows():\n",
        "  print('Índice da linha : ', indice)\n",
        "  print('Conteúdo da linha : ', linha.values)\n",
        "  print(linha.values[0], linha.values[1], linha.values[2])\n",
        "\n",
        "# Percorre os dados linha[0] é o índice\n",
        "for linha in df.itertuples():\n",
        "   print('Conteúdo da linha : ', linha)\n",
        "   print(linha[0], linha[1], linha[2], linha[3])"
      ],
      "execution_count": 46,
      "outputs": [
        {
          "output_type": "stream",
          "text": [
            "Índice da linha :  0\n",
            "Conteúdo da linha :  [1 'joao' 33]\n",
            "1 joao 33\n",
            "Índice da linha :  1\n",
            "Conteúdo da linha :  [2 'maria' 34]\n",
            "2 maria 34\n",
            "Índice da linha :  2\n",
            "Conteúdo da linha :  [3 'pedro' 35]\n",
            "3 pedro 35\n",
            "Conteúdo da linha :  Pandas(Index=0, id=1, nome='joao', idade=33)\n",
            "0 1 joao 33\n",
            "Conteúdo da linha :  Pandas(Index=1, id=2, nome='maria', idade=34)\n",
            "1 2 maria 34\n",
            "Conteúdo da linha :  Pandas(Index=2, id=3, nome='pedro', idade=35)\n",
            "2 3 pedro 35\n"
          ],
          "name": "stdout"
        }
      ]
    },
    {
      "cell_type": "markdown",
      "metadata": {
        "id": "KQGxwi1_2op9"
      },
      "source": [
        "### Concatenando dataFrames"
      ]
    },
    {
      "cell_type": "code",
      "metadata": {
        "colab": {
          "base_uri": "https://localhost:8080/"
        },
        "id": "VJJTljJB2sy6",
        "outputId": "9d26d7c7-f409-47ff-9f68-b9731c0eff8d"
      },
      "source": [
        "# Biblioteca de processamento de dados, I/O em arquivo json (ex. pd.read_json)\n",
        "import pandas as pd\n",
        "\n",
        "# Declara um array de 3 objetos json em memória\n",
        "json_memoria = '[ { \"id\": \"1\", \"nome\": \"joao\", \"idade\": \"33\" }, { \"id\": \"2\", \"nome\": \"maria\", \"idade\": \"34\" }, { \"id\": \"3\", \"nome\": \"pedro\", \"idade\": \"35\" } ]'\n",
        "\n",
        "# Carrega o json\n",
        "df = pd.read_json(json_memoria)\n",
        "\n",
        "# Cria o df1 e df2 com parte dos dados\n",
        "df1 = df[:1]\n",
        "df2 = df[-1:]\n",
        "\n",
        "# Concatena df1 e df2 em df3\n",
        "df3 = pd.concat([df1,df2])\n",
        "\n",
        "print(df3)"
      ],
      "execution_count": 47,
      "outputs": [
        {
          "output_type": "stream",
          "text": [
            "   id   nome  idade\n",
            "0   1   joao     33\n",
            "2   3  pedro     35\n"
          ],
          "name": "stdout"
        }
      ]
    },
    {
      "cell_type": "markdown",
      "metadata": {
        "id": "K022Tjl73gWL"
      },
      "source": [
        "###Contando ocorrência de valores"
      ]
    },
    {
      "cell_type": "code",
      "metadata": {
        "colab": {
          "base_uri": "https://localhost:8080/"
        },
        "id": "k_MJKqKi3j1z",
        "outputId": "7a7106f3-53c0-4911-8ade-78bd73314400"
      },
      "source": [
        "# Biblioteca de processamento de dados, I/O em arquivo json (ex. pd.read_json)\n",
        "import pandas as pd\n",
        "\n",
        "# Declara um array de 3 objetos json em memória\n",
        "json_memoria = '[ { \"id\": \"1\", \"nome\": \"joao\", \"idade\": \"33\" }, { \"id\": \"2\", \"nome\": \"maria\", \"idade\": \"34\" }, { \"id\": \"3\", \"nome\": \"pedro\", \"idade\": \"35\" } ]'\n",
        "\n",
        "# Carrega o json\n",
        "df = pd.read_json(json_memoria)\n",
        "\n",
        "# Conta as ocorrências de determinado atributo do json\n",
        "print(df.idade.value_counts())"
      ],
      "execution_count": 48,
      "outputs": [
        {
          "output_type": "stream",
          "text": [
            "35    1\n",
            "34    1\n",
            "33    1\n",
            "Name: idade, dtype: int64\n"
          ],
          "name": "stdout"
        }
      ]
    },
    {
      "cell_type": "markdown",
      "metadata": {
        "id": "pE8YHqKysddn"
      },
      "source": [
        "### Manipulando dados JSON com Pandas"
      ]
    },
    {
      "cell_type": "markdown",
      "metadata": {
        "id": "s7_qwpoEzTKe"
      },
      "source": [
        "#### Criando o arquivo json"
      ]
    },
    {
      "cell_type": "code",
      "metadata": {
        "id": "l38xRXPWzTKf"
      },
      "source": [
        "# Biblioteca para manipular json\n",
        "import json\n",
        "\n",
        "# Dados do arquivo json\n",
        "dados = [\n",
        "  {\n",
        "    \"id\": \"1\",\n",
        "    \"nome\": \"joao da silva\",\n",
        "    \"estado_civil\": \"casado\",\n",
        "    \"genero\": \"M\",\n",
        "    \"idade\": 33,\n",
        "    \"salario\": 16.5, \n",
        "    \"tempo_estudo\" : 10\n",
        "  },\n",
        "  {\n",
        "    \"id\": \"2\",\n",
        "    \"nome\": \"maria da silva\",\n",
        "    \"estado_civil\": \"casado\",\n",
        "    \"genero\": \"F\",\n",
        "    \"idade\": 51,\n",
        "    \"salario\": 21.7, \n",
        "    \"tempo_estudo\" : 12\n",
        "  }, \n",
        "  { \n",
        "    \"id\": \"3\", \n",
        "    \"nome\": \"pedro pereira\", \n",
        "    \"estado_civil\": \"solteiro\",\n",
        "    \"genero\": \"M\",\n",
        "    \"idade\": 35,\n",
        "    \"salario\": 14.9, \n",
        "    \"tempo_estudo\" : 9 \n",
        "   },\n",
        "   { \n",
        "    \"id\": \"4\", \n",
        "    \"nome\": \"carlos pereira\", \n",
        "    \"estado_civil\": \"solteiro\",\n",
        "    \"genero\": \"M\",\n",
        "    \"idade\": 12,\n",
        "    \"salario\": 1.5, \n",
        "    \"tempo_estudo\" : 6    \n",
        "   },\n",
        "   { \n",
        "    \"id\": \"5\", \n",
        "    \"nome\": \"fernando da silva\", \n",
        "    \"estado_civil\": \"solteiro\",\n",
        "    \"genero\": \"M\",\n",
        "    \"idade\": 21,\n",
        "    \"salario\": 7.0, \n",
        "    \"tempo_estudo\" : 8 \n",
        "   },\n",
        "   { \n",
        "    \"id\": \"6\", \n",
        "    \"nome\": \"guilherme da silva\", \n",
        "    \"estado_civil\": \"solteiro\",\n",
        "    \"genero\": \"M\",\n",
        "    \"idade\": 16,\n",
        "    \"salario\": 3.0, \n",
        "    \"tempo_estudo\" : 6 \n",
        "   },\n",
        "   { \n",
        "    \"id\": \"7\", \n",
        "    \"nome\": \"marcia pereira\", \n",
        "    \"estado_civil\": \"casado\",\n",
        "    \"genero\": \"F\",\n",
        "    \"idade\": 24,\n",
        "    \"salario\": 10.3, \n",
        "    \"tempo_estudo\" : 9 \n",
        "   },\n",
        "   { \n",
        "    \"id\": \"8\", \n",
        "    \"nome\": \"antônio pereira\", \n",
        "    \"estado_civil\": \"casado\",\n",
        "    \"genero\": \"M\",\n",
        "    \"idade\": 25,\n",
        "    \"salario\": 9.2, \n",
        "    \"tempo_estudo\" : 11 \n",
        "   },\n",
        "   { \n",
        "    \"id\": \"9\", \n",
        "    \"nome\": \"isabel pereira\", \n",
        "    \"estado_civil\": \"solteiro\",\n",
        "    \"genero\": \"F\",\n",
        "    \"idade\": 24,\n",
        "    \"salario\": 9.2, \n",
        "    \"tempo_estudo\" : 11 \n",
        "   },\n",
        "   { \n",
        "    \"id\": \"10\", \n",
        "    \"nome\": \"julia pereira\", \n",
        "    \"estado_civil\": \"solteiro\",\n",
        "    \"genero\": \"F\",\n",
        "    \"idade\": 16,\n",
        "    \"salario\": 4.0, \n",
        "    \"tempo_estudo\" : 7 \n",
        "   },\n",
        "   { \n",
        "    \"id\": \"11\", \n",
        "    \"nome\": \"ana oliveira\", \n",
        "    \"estado_civil\": \"solteiro\",\n",
        "    \"genero\": \"F\",\n",
        "    \"idade\": 15,\n",
        "    \"salario\": 3.2, \n",
        "    \"tempo_estudo\" : 6 \n",
        "   },\n",
        "   { \n",
        "    \"id\": \"12\", \n",
        "    \"nome\": \"carla silveira\", \n",
        "    \"estado_civil\": \"solteiro\",\n",
        "    \"genero\": \"F\",\n",
        "    \"idade\": 18,\n",
        "    \"salario\": 6.4, \n",
        "    \"tempo_estudo\" : 9 \n",
        "   },\n",
        "   { \n",
        "    \"id\": \"13\", \n",
        "    \"nome\": \"julio silveira\", \n",
        "    \"estado_civil\": \"solteiro\",\n",
        "    \"genero\": \"M\",\n",
        "    \"idade\": 23,\n",
        "    \"salario\": 8.6, \n",
        "    \"tempo_estudo\" : 12 \n",
        "   },\n",
        "   { \n",
        "    \"id\": \"14\", \n",
        "    \"nome\": \"tiago silveira\", \n",
        "    \"estado_civil\": \"solteiro\",\n",
        "    \"genero\": \"M\",\n",
        "    \"idade\": 25,\n",
        "    \"salario\": 12.6, \n",
        "    \"tempo_estudo\" : 11 \n",
        "   },\n",
        "   { \n",
        "    \"id\": \"15\", \n",
        "    \"nome\": \"marcos silveira\", \n",
        "    \"estado_civil\": \"casado\",\n",
        "    \"genero\": \"F\",\n",
        "    \"idade\": 25,\n",
        "    \"salario\": 14.7, \n",
        "    \"tempo_estudo\" : 11\n",
        "   }\n",
        "]\n",
        "\n",
        "# Abre o arquivo\n",
        "with open('pessoas.json', 'w') as arquivo:\n",
        "\n",
        "  # Salva os dados no arquivo\n",
        "  json.dump(dados, arquivo)"
      ],
      "execution_count": 49,
      "outputs": []
    },
    {
      "cell_type": "markdown",
      "metadata": {
        "id": "2JtdEgdp0Y5A"
      },
      "source": [
        "#### Carrega os dados"
      ]
    },
    {
      "cell_type": "code",
      "metadata": {
        "colab": {
          "base_uri": "https://localhost:8080/"
        },
        "id": "RexKN1Eu0Z-G",
        "outputId": "43e7ee41-12a2-4202-caa2-cefb9c073c7b"
      },
      "source": [
        "# Nome do arquivo\n",
        "nomearquivo = \"pessoas.json\"\n",
        "\n",
        "# Abre o arquivo e retorna o leitor\n",
        "df = pd.read_json(nomearquivo)\n",
        "\n",
        "# Mostra o arquivo\n",
        "print(df.head())\n",
        "\n",
        "# Formato do arquivo\n",
        "print(df.shape)\n",
        "\n",
        "# Colunas do arquivo\n",
        "print(df.columns)\n",
        "\n",
        "# Imprime os tipos das colunas\n",
        "print(df.dtypes)"
      ],
      "execution_count": 50,
      "outputs": [
        {
          "output_type": "stream",
          "text": [
            "   id               nome estado_civil genero  idade  salario  tempo_estudo\n",
            "0   1      joao da silva       casado      M     33     16.5            10\n",
            "1   2     maria da silva       casado      F     51     21.7            12\n",
            "2   3      pedro pereira     solteiro      M     35     14.9             9\n",
            "3   4     carlos pereira     solteiro      M     12      1.5             6\n",
            "4   5  fernando da silva     solteiro      M     21      7.0             8\n",
            "(15, 7)\n",
            "Index(['id', 'nome', 'estado_civil', 'genero', 'idade', 'salario',\n",
            "       'tempo_estudo'],\n",
            "      dtype='object')\n",
            "id                int64\n",
            "nome             object\n",
            "estado_civil     object\n",
            "genero           object\n",
            "idade             int64\n",
            "salario         float64\n",
            "tempo_estudo      int64\n",
            "dtype: object\n"
          ],
          "name": "stdout"
        }
      ]
    },
    {
      "cell_type": "markdown",
      "metadata": {
        "id": "Jz9rycgO_Ue-"
      },
      "source": [
        "#### Gráficos"
      ]
    },
    {
      "cell_type": "markdown",
      "metadata": {
        "id": "UDJniMWi0JSG"
      },
      "source": [
        "Qual o gênero e estado civil da maioria das pessoas?\n"
      ]
    },
    {
      "cell_type": "code",
      "metadata": {
        "colab": {
          "base_uri": "https://localhost:8080/",
          "height": 312
        },
        "id": "tadk3L_bshPd",
        "outputId": "6acb7255-7d28-4cee-9b6f-10f6361809dc"
      },
      "source": [
        "# Bibliotecas\n",
        "import pandas as pd\n",
        "import numpy as np\n",
        "import matplotlib.pyplot as plt\n",
        "import seaborn as sns\n",
        "from sklearn.preprocessing import MinMaxScaler\n",
        "from sklearn.preprocessing import StandardScaler\n",
        "import warnings\n",
        "warnings.filterwarnings('ignore')\n",
        "\n",
        "# Título do relatório\n",
        "plt.title('Pessoas por genêro e estado civil');\n",
        "# Seleciona as colunas\n",
        "estadocivil_genero = df[['genero', 'estado_civil']]\n",
        "\n",
        "# Substitui M e F por Masculino e Feminino\n",
        "estadocivil_genero['genero'].replace(to_replace = [\"M\", \"F\"], value = ['Masculino', 'Feminino'], inplace=True)\n",
        "\n",
        "sns.set(style='whitegrid', palette = 'Paired', font_scale=1.1, rc={\"figure.figsize\": [12, 5]})\n",
        "sns.countplot(x='estado_civil', hue='genero', data=estadocivil_genero);\n",
        "\n",
        "# Rótulo dos eixos\n",
        "plt.xlabel('Estado Civil')\n",
        "plt.ylabel('Quantidades')\n"
      ],
      "execution_count": 51,
      "outputs": [
        {
          "output_type": "execute_result",
          "data": {
            "text/plain": [
              "Text(0, 0.5, 'Quantidades')"
            ]
          },
          "metadata": {
            "tags": []
          },
          "execution_count": 51
        },
        {
          "output_type": "display_data",
          "data": {
            "image/png": "[encoded data removed]",
            "text/plain": [
              "<Figure size 432x288 with 1 Axes>"
            ]
          },
          "metadata": {
            "tags": [],
            "needs_background": "light"
          }
        }
      ]
    },
    {
      "cell_type": "markdown",
      "metadata": {
        "id": "hSIPs_xr2fyR"
      },
      "source": [
        "Quatidade de pessoas pela faixa etária?"
      ]
    },
    {
      "cell_type": "code",
      "metadata": {
        "colab": {
          "base_uri": "https://localhost:8080/",
          "height": 375
        },
        "id": "zg0jpMjO2geu",
        "outputId": "5f540d10-c600-40f8-92e5-1f8c7bd02039"
      },
      "source": [
        "# Bibliotecas\n",
        "import pandas as pd\n",
        "import numpy as np\n",
        "import matplotlib.pyplot as plt\n",
        "import seaborn as sns\n",
        "from sklearn.preprocessing import MinMaxScaler\n",
        "from sklearn.preprocessing import StandardScaler\n",
        "import warnings\n",
        "warnings.filterwarnings('ignore')\n",
        "\n",
        "# Título do relatório\n",
        "plt.title('Pessoas por faixa etária');\n",
        "\n",
        "# Seleciona as idades unicas e ordenadas\n",
        "idade = sorted(df['idade'].unique())\n",
        "\n",
        "sns.countplot(x='idade', order=idade, data=df);\n",
        "plt.xlabel('Faixa etária')\n",
        "plt.ylabel('Quantidades')\n",
        "\n"
      ],
      "execution_count": 52,
      "outputs": [
        {
          "output_type": "execute_result",
          "data": {
            "text/plain": [
              "Text(0, 0.5, 'Quantidades')"
            ]
          },
          "metadata": {
            "tags": []
          },
          "execution_count": 52
        },
        {
          "output_type": "display_data",
          "data": {
            "image/png": "[encoded data removed]",
            "text/plain": [
              "<Figure size 864x360 with 1 Axes>"
            ]
          },
          "metadata": {
            "tags": []
          }
        }
      ]
    },
    {
      "cell_type": "markdown",
      "metadata": {
        "id": "GERY-AbV4T3a"
      },
      "source": [
        "Qual a faixa etária das pessoas que possuem o salário maior que o maior salário?\n"
      ]
    },
    {
      "cell_type": "code",
      "metadata": {
        "colab": {
          "base_uri": "https://localhost:8080/",
          "height": 375
        },
        "id": "2N0UF8Bk4UZ4",
        "outputId": "4136afcc-c0c0-4a95-c05e-df234d69caeb"
      },
      "source": [
        "# Título do relatório\n",
        "plt.title('Salário médio por faixa etária');\n",
        "\n",
        "# Agrupamento da idade pela média do salário\n",
        "idade_salario = df.groupby('idade')['salario'].mean()\n",
        "\n",
        "idade_salario = pd.DataFrame({'idade':idade_salario.index, 'media_salario':idade_salario.values})\n",
        "plt.plot('idade', 'media_salario', 'go-', data=idade_salario, );\n",
        "plt.xlabel('Faixa etária')\n",
        "plt.ylabel('Salário médio (R$)')\n"
      ],
      "execution_count": 53,
      "outputs": [
        {
          "output_type": "execute_result",
          "data": {
            "text/plain": [
              "Text(0, 0.5, 'Salário médio (R$)')"
            ]
          },
          "metadata": {
            "tags": []
          },
          "execution_count": 53
        },
        {
          "output_type": "display_data",
          "data": {
            "image/png": "[encoded data removed]",
            "text/plain": [
              "<Figure size 864x360 with 1 Axes>"
            ]
          },
          "metadata": {
            "tags": []
          }
        }
      ]
    },
    {
      "cell_type": "markdown",
      "metadata": {
        "id": "hfbEhlnx7a7d"
      },
      "source": [
        "Qual a relação entre as pessoas e tempo de estudo?\n"
      ]
    },
    {
      "cell_type": "code",
      "metadata": {
        "colab": {
          "base_uri": "https://localhost:8080/",
          "height": 375
        },
        "id": "rNt1l75h7bm4",
        "outputId": "12b1464d-a5dd-4acb-f076-e539cefce2d3"
      },
      "source": [
        "# Bibliotecas\n",
        "import pandas as pd\n",
        "import numpy as np\n",
        "import matplotlib.pyplot as plt\n",
        "import seaborn as sns\n",
        "from sklearn.preprocessing import MinMaxScaler\n",
        "from sklearn.preprocessing import StandardScaler\n",
        "import warnings\n",
        "warnings.filterwarnings('ignore')\n",
        "\n",
        "# Título do relatório\n",
        "plt.title('Pessoas por tempo de estudo');\n",
        "\n",
        "# Carrega a lista de tempo de estudo único e ordenado\n",
        "tempo_estudo = sorted(df['tempo_estudo'].unique())\n",
        "\n",
        "sns.countplot(x='tempo_estudo', order=tempo_estudo, data=df);\n",
        "\n",
        "plt.xlabel('Tempo de estudo (anos)')\n",
        "plt.ylabel('Quantidades')"
      ],
      "execution_count": 54,
      "outputs": [
        {
          "output_type": "execute_result",
          "data": {
            "text/plain": [
              "Text(0, 0.5, 'Quantidades')"
            ]
          },
          "metadata": {
            "tags": []
          },
          "execution_count": 54
        },
        {
          "output_type": "display_data",
          "data": {
            "image/png": "[encoded data removed]",
            "text/plain": [
              "<Figure size 864x360 with 1 Axes>"
            ]
          },
          "metadata": {
            "tags": []
          }
        }
      ]
    },
    {
      "cell_type": "markdown",
      "metadata": {
        "id": "SZobKWSp9hJK"
      },
      "source": [
        "Qual o salário médio por tempo de estudo?"
      ]
    },
    {
      "cell_type": "code",
      "metadata": {
        "colab": {
          "base_uri": "https://localhost:8080/",
          "height": 375
        },
        "id": "eYECdqkb89Rv",
        "outputId": "aa9ae186-a69f-4d3d-8f20-1ce6b29a87b6"
      },
      "source": [
        "# Bibliotecas\n",
        "import pandas as pd\n",
        "import numpy as np\n",
        "import matplotlib.pyplot as plt\n",
        "import seaborn as sns\n",
        "from sklearn.preprocessing import MinMaxScaler\n",
        "from sklearn.preprocessing import StandardScaler\n",
        "import warnings\n",
        "warnings.filterwarnings('ignore')\n",
        "\n",
        "# Carrega a lista de tempo de estudo unico e ordenado\n",
        "tempo_estudo = df.groupby('tempo_estudo')['salario'].mean()\n",
        "\n",
        "tempo_estudo = pd.DataFrame({'tempo_estudo':tempo_estudo.index, 'media_salario':tempo_estudo.values})\n",
        "plt.plot('tempo_estudo', 'media_salario', 'bo-', data=tempo_estudo);\n",
        "\n",
        "# Título do relatório\n",
        "plt.title('Salário médio por tempo de estudo');\n",
        "\n",
        "plt.xlabel('Tempo de estudro (anos)')\n",
        "plt.ylabel('Salário médio(R$)')"
      ],
      "execution_count": 55,
      "outputs": [
        {
          "output_type": "execute_result",
          "data": {
            "text/plain": [
              "Text(0, 0.5, 'Salário médio(R$)')"
            ]
          },
          "metadata": {
            "tags": []
          },
          "execution_count": 55
        },
        {
          "output_type": "display_data",
          "data": {
            "image/png": "[encoded data removed]",
            "text/plain": [
              "<Figure size 864x360 with 1 Axes>"
            ]
          },
          "metadata": {
            "tags": []
          }
        }
      ]
    },
    {
      "cell_type": "markdown",
      "metadata": {
        "id": "tSdGTs4i_Xdh"
      },
      "source": [
        "#### Consultas"
      ]
    },
    {
      "cell_type": "markdown",
      "metadata": {
        "id": "P67wDHGV_YfT"
      },
      "source": [
        "Quantas observações e quantas colunas há no dataset? \n",
        "Formato de uma tupla (n_obs, n_colun)"
      ]
    },
    {
      "cell_type": "code",
      "metadata": {
        "colab": {
          "base_uri": "https://localhost:8080/"
        },
        "id": "K_YL6eQT_iX5",
        "outputId": "68c85d58-e885-47d0-8f2a-2ffc94697360"
      },
      "source": [
        "print(df.shape)"
      ],
      "execution_count": 56,
      "outputs": [
        {
          "output_type": "stream",
          "text": [
            "(15, 7)\n"
          ],
          "name": "stdout"
        }
      ]
    },
    {
      "cell_type": "markdown",
      "metadata": {
        "id": "GISIGjTv_nLy"
      },
      "source": [
        "Mulheres com idade entre 15 e 25 anos no dataset?"
      ]
    },
    {
      "cell_type": "code",
      "metadata": {
        "colab": {
          "base_uri": "https://localhost:8080/"
        },
        "id": "iNtNrkFI_qy_",
        "outputId": "82627d7b-d41b-42ca-9a17-08b76477e6e6"
      },
      "source": [
        "print(df.query(\"genero == 'F' & idade > 15 & idade < 25\").shape[0])"
      ],
      "execution_count": 57,
      "outputs": [
        {
          "output_type": "stream",
          "text": [
            "4\n"
          ],
          "name": "stdout"
        }
      ]
    },
    {
      "cell_type": "markdown",
      "metadata": {
        "id": "mheSuKdXHsOP"
      },
      "source": [
        "Quantas pessoas únicas há no dataset?"
      ]
    },
    {
      "cell_type": "code",
      "metadata": {
        "colab": {
          "base_uri": "https://localhost:8080/"
        },
        "id": "0OyL3R5THuu8",
        "outputId": "7706ee91-3ae8-4b37-ee70-31c062a9f829"
      },
      "source": [
        "print(len(df['id'].unique()))"
      ],
      "execution_count": 58,
      "outputs": [
        {
          "output_type": "stream",
          "text": [
            "15\n"
          ],
          "name": "stdout"
        }
      ]
    },
    {
      "cell_type": "markdown",
      "metadata": {
        "id": "_X9Vp6icH6xF"
      },
      "source": [
        "Quantos tipos de dados diferentes existem no dataset?"
      ]
    },
    {
      "cell_type": "code",
      "metadata": {
        "colab": {
          "base_uri": "https://localhost:8080/"
        },
        "id": "bdu8w7X1H7Wu",
        "outputId": "d242f70c-f103-4bbb-c4f9-d0ed62372485"
      },
      "source": [
        "print(len(df.dtypes.unique()))"
      ],
      "execution_count": 59,
      "outputs": [
        {
          "output_type": "stream",
          "text": [
            "3\n"
          ],
          "name": "stdout"
        }
      ]
    },
    {
      "cell_type": "markdown",
      "metadata": {
        "id": "_Zanpwq_IFEE"
      },
      "source": [
        "Qual porcentagem dos registros possui ao menos um valor null (None, ǸaN etc)? Responda como um único escalar entre 0 e 1."
      ]
    },
    {
      "cell_type": "code",
      "metadata": {
        "colab": {
          "base_uri": "https://localhost:8080/"
        },
        "id": "IEQRy2VsIFuH",
        "outputId": "54fe5382-226d-440b-a960-5143b31ed3a3"
      },
      "source": [
        "print(df.isnull().sum().max() / df.shape[0])"
      ],
      "execution_count": 60,
      "outputs": [
        {
          "output_type": "stream",
          "text": [
            "0.0\n"
          ],
          "name": "stdout"
        }
      ]
    },
    {
      "cell_type": "markdown",
      "metadata": {
        "id": "tdP7_4KSI6bY"
      },
      "source": [
        "Qual o valor mais frequente (sem contar nulls) em idade? "
      ]
    },
    {
      "cell_type": "code",
      "metadata": {
        "colab": {
          "base_uri": "https://localhost:8080/"
        },
        "id": "G1UNpBCqIzsv",
        "outputId": "aed95a93-7a36-47f2-c5cd-7869cd425b80"
      },
      "source": [
        "print(df['idade'].mode().values[0])"
      ],
      "execution_count": 61,
      "outputs": [
        {
          "output_type": "stream",
          "text": [
            "25\n"
          ],
          "name": "stdout"
        }
      ]
    },
    {
      "cell_type": "markdown",
      "metadata": {
        "id": "9taTvgWuI_Tu"
      },
      "source": [
        "Qual a maior idade de pessoa?"
      ]
    },
    {
      "cell_type": "code",
      "metadata": {
        "colab": {
          "base_uri": "https://localhost:8080/"
        },
        "id": "NwcyGYBRI_ga",
        "outputId": "1482cfc7-680e-46ca-b469-45f380094ddb"
      },
      "source": [
        "print(df['idade'].max())"
      ],
      "execution_count": 62,
      "outputs": [
        {
          "output_type": "stream",
          "text": [
            "51\n"
          ],
          "name": "stdout"
        }
      ]
    },
    {
      "cell_type": "markdown",
      "metadata": {
        "id": "2YNpelUcJMpz"
      },
      "source": [
        "Qual a menor idade de pessoa?"
      ]
    },
    {
      "cell_type": "code",
      "metadata": {
        "colab": {
          "base_uri": "https://localhost:8080/"
        },
        "id": "0T2vSf3WJPna",
        "outputId": "306adcff-7094-49dc-d0a3-d4604cb78af5"
      },
      "source": [
        "print(df['idade'].min())"
      ],
      "execution_count": 63,
      "outputs": [
        {
          "output_type": "stream",
          "text": [
            "12\n"
          ],
          "name": "stdout"
        }
      ]
    },
    {
      "cell_type": "markdown",
      "metadata": {
        "id": "LxxYKFBNJSzM"
      },
      "source": [
        "Qual a soma dos salários pessoa?"
      ]
    },
    {
      "cell_type": "code",
      "metadata": {
        "colab": {
          "base_uri": "https://localhost:8080/"
        },
        "id": "yP64EU_cJSzN",
        "outputId": "029e2ed0-b986-4f10-88ae-ad2bf3c6f60a"
      },
      "source": [
        "print(df['salario'].sum())"
      ],
      "execution_count": 64,
      "outputs": [
        {
          "output_type": "stream",
          "text": [
            "142.79999999999998\n"
          ],
          "name": "stdout"
        }
      ]
    },
    {
      "cell_type": "markdown",
      "metadata": {
        "id": "6LevXJhSBtsR"
      },
      "source": [
        "## Usando biblioteca JSON"
      ]
    },
    {
      "cell_type": "markdown",
      "metadata": {
        "id": "Ji44ApkWXoWq"
      },
      "source": [
        "###Lendo json de Memória - simples\n",
        "Um objeto."
      ]
    },
    {
      "cell_type": "code",
      "metadata": {
        "colab": {
          "base_uri": "https://localhost:8080/"
        },
        "id": "qL47P9zNXqDa",
        "outputId": "310933d1-4b93-49b6-dbb5-49ca299a45d3"
      },
      "source": [
        "# Biblioteca para manipular json\n",
        "import json\n",
        "\n",
        "# Declara um objeto json em memória\n",
        "json_memoria = '{ \"id\": \"1\", \"nome\": \"joao\", \"genero\": \"M\", \"idade\": 33, \"salario\": 10.5 }'\n",
        "\n",
        "# Carrega o json\n",
        "json_decodificado = json.loads(json_memoria)\n",
        "\n",
        "# Recupera os dados dos campos\n",
        "id = json_decodificado['id']\n",
        "nome = json_decodificado['nome']\n",
        "genero = json_decodificado['genero']\n",
        "idade = json_decodificado['idade']\n",
        "salario = json_decodificado['salario']\n",
        "\n",
        "# Mostra os dados\n",
        "print(id, nome, genero, idade, salario)"
      ],
      "execution_count": 65,
      "outputs": [
        {
          "output_type": "stream",
          "text": [
            "1 joao M 33 10.5\n"
          ],
          "name": "stdout"
        }
      ]
    },
    {
      "cell_type": "markdown",
      "metadata": {
        "id": "fhlO0F3AEPvc"
      },
      "source": [
        "###Lendo json de Memória - array\n",
        "Array de objetos"
      ]
    },
    {
      "cell_type": "code",
      "metadata": {
        "colab": {
          "base_uri": "https://localhost:8080/"
        },
        "id": "5yPsKDACEVI0",
        "outputId": "e2e56120-2d11-48af-a941-e718b7ed99a7"
      },
      "source": [
        "# Biblioteca para manipular json\n",
        "import json\n",
        "\n",
        "# Declara um array de 3 objetos json em memória\n",
        "json_memoria = '[ { \"id\": \"1\", \"nome\": \"joao\", \"genero\": \"M\", \"idade\": 33, \"salario\": 10.5 }, { \"id\": \"2\", \"nome\": \"maria\", \"genero\": \"F\", \"idade\": 34, \"salario\": 12.7 }, { \"id\": \"3\", \"nome\": \"pedro\", \"genero\": \"M\", \"idade\": 35, \"salario\": 14.9 } ]'\n",
        "\n",
        "# Carrega o json\n",
        "json_decodificado = json.loads(json_memoria)\n",
        "\n",
        "# Percorre os dados\n",
        "for item in json_decodificado: \n",
        "  \n",
        "  # Recupera os dados dos campos\n",
        "  id = item['id']\n",
        "  nome = item['nome']\n",
        "  genero = item['genero']\n",
        "  idade = item['idade']\n",
        "  salario = item['salario']\n",
        "\n",
        "  # Mostra os dados\n",
        "  print(id, nome, genero, idade, salario)"
      ],
      "execution_count": 66,
      "outputs": [
        {
          "output_type": "stream",
          "text": [
            "1 joao M 33 10.5\n",
            "2 maria F 34 12.7\n",
            "3 pedro M 35 14.9\n"
          ],
          "name": "stdout"
        }
      ]
    },
    {
      "cell_type": "markdown",
      "metadata": {
        "id": "zDFJZK3-X0aL"
      },
      "source": [
        "### Cria uma lista de um atributo\n",
        "Forma curta.\n",
        "Serve para JSON ou CSV."
      ]
    },
    {
      "cell_type": "code",
      "metadata": {
        "colab": {
          "base_uri": "https://localhost:8080/"
        },
        "id": "TOD2T0phW6gN",
        "outputId": "a7d6d995-52af-4dee-b1fe-f75bd5cd3d68"
      },
      "source": [
        "# Biblioteca para manipular json\n",
        "import json\n",
        "\n",
        "# Declara um array de 3 objetos json em memória\n",
        "json_memoria = '[ { \"id\": \"1\", \"nome\": \"joao\", \"genero\": \"M\", \"idade\": 33, \"salario\": 10.5 }, { \"id\": \"2\", \"nome\": \"maria\", \"genero\": \"F\", \"idade\": 34, \"salario\": 12.7 }, { \"id\": \"3\", \"nome\": \"pedro\", \"genero\": \"M\", \"idade\": 35, \"salario\": 14.9 } ]'\n",
        "\n",
        "# Carrega o json\n",
        "json_decodificado = json.loads(json_memoria)\n",
        "\n",
        "# Cria a lista\n",
        "lista = [json_dict['nome'] for json_dict in json_decodificado]\n",
        "\n",
        "# Mostra a lista\n",
        "print (lista)"
      ],
      "execution_count": 67,
      "outputs": [
        {
          "output_type": "stream",
          "text": [
            "['joao', 'maria', 'pedro']\n"
          ],
          "name": "stdout"
        }
      ]
    },
    {
      "cell_type": "markdown",
      "metadata": {
        "id": "tKhDDPUpYaY4"
      },
      "source": [
        "### Cria uma lista de um atributo\n",
        "Forma longa.\n",
        "Serve para JSON ou CSV."
      ]
    },
    {
      "cell_type": "code",
      "metadata": {
        "colab": {
          "base_uri": "https://localhost:8080/"
        },
        "id": "9wWZW5ndYPB4",
        "outputId": "cc806144-25c2-433f-a300-55d5526a34ad"
      },
      "source": [
        "# Biblioteca para manipular json\n",
        "import json\n",
        "\n",
        "# Declara um array de 3 objetos json em memória\n",
        "json_memoria = '[ { \"id\": \"1\", \"nome\": \"joao\", \"genero\": \"M\", \"idade\": 33, \"salario\": 10.5 }, { \"id\": \"2\", \"nome\": \"maria\", \"genero\": \"F\", \"idade\": 34, \"salario\": 12.7 }, { \"id\": \"3\", \"nome\": \"pedro\", \"genero\": \"M\", \"idade\": 35, \"salario\": 14.9 } ]'\n",
        "\n",
        "# Carrega o json\n",
        "json_decodificado = json.loads(json_memoria)\n",
        "\n",
        "# Cria a lista vazia\n",
        "lista = []\n",
        "\n",
        "# Percorre a lista adicionando o atributo\n",
        "for item in json_decodificado:    \n",
        "   lista.append(item['nome'])\n",
        "\n",
        "# Mostra a lista\n",
        "print(lista)"
      ],
      "execution_count": 68,
      "outputs": [
        {
          "output_type": "stream",
          "text": [
            "['joao', 'maria', 'pedro']\n"
          ],
          "name": "stdout"
        }
      ]
    },
    {
      "cell_type": "markdown",
      "metadata": {
        "id": "EEVOeyDOc56v"
      },
      "source": [
        "### Abrindo arquivo e lendo json do arquivo\n",
        "\n"
      ]
    },
    {
      "cell_type": "code",
      "metadata": {
        "colab": {
          "base_uri": "https://localhost:8080/"
        },
        "id": "_2s9kVcpdFQQ",
        "outputId": "4badd89d-332e-4e1d-9698-100af66aec68"
      },
      "source": [
        "# Biblioteca para manipular json\n",
        "import json\n",
        "\n",
        "# Caminho e nome do arquivo\n",
        "nomearquivo = '/content/dados.json'\n",
        "\n",
        "# Carrega o json\n",
        "#json_decodificado = json.load(open(nomearquivo, 'r').read())\n",
        "\n",
        "json_decodificado = {}\n",
        "with open(nomearquivo) as arquivo:\n",
        "   json_decodificado = json.load(arquivo)\n",
        "\n",
        "# Recupera os dados dos campos\n",
        "for linha in json_decodificado:\n",
        "  id = linha['id']\n",
        "  nome = linha['nome']\n",
        "  genero = linha['genero']\n",
        "  idade = linha['idade']\n",
        "  salario = linha['salario']\n",
        "\n",
        "  # Mostra os dados\n",
        "  print(id, nome, genero, idade, salario)"
      ],
      "execution_count": 69,
      "outputs": [
        {
          "output_type": "stream",
          "text": [
            "1 joao M 33 10.5\n",
            "2 maria F 51 12.7\n",
            "3 pedro M 35 14.9\n"
          ],
          "name": "stdout"
        }
      ]
    },
    {
      "cell_type": "markdown",
      "metadata": {
        "id": "8qjLRCrFvNDm"
      },
      "source": [
        "###Lendo json de um request - não formatado\n",
        "\n",
        "Saída não formatada\n",
        "\n",
        "https://www.dataquest.io/blog/python-api-tutorial/"
      ]
    },
    {
      "cell_type": "code",
      "metadata": {
        "colab": {
          "base_uri": "https://localhost:8080/"
        },
        "id": "34RDYa80vQj5",
        "outputId": "283a0277-ffe4-4197-c7e6-bad4c14f32b9"
      },
      "source": [
        "import requests\n",
        "\n",
        "# Requisição de url\n",
        "response = requests.get(\"http://api.open-notify.org/astros.json\")\n",
        "\n",
        "# Exibe os dados\n",
        "print(response.json())"
      ],
      "execution_count": 70,
      "outputs": [
        {
          "output_type": "stream",
          "text": [
            "{'number': 7, 'message': 'success', 'people': [{'name': 'Mark Vande Hei', 'craft': 'ISS'}, {'name': 'Oleg Novitskiy', 'craft': 'ISS'}, {'name': 'Pyotr Dubrov', 'craft': 'ISS'}, {'name': 'Thomas Pesquet', 'craft': 'ISS'}, {'name': 'Megan McArthur', 'craft': 'ISS'}, {'name': 'Shane Kimbrough', 'craft': 'ISS'}, {'name': 'Akihiko Hoshide', 'craft': 'ISS'}]}\n"
          ],
          "name": "stdout"
        }
      ]
    },
    {
      "cell_type": "markdown",
      "metadata": {
        "id": "zzKHF2pqvelu"
      },
      "source": [
        "###Lendo json de um request - não formatado\n",
        "\n",
        "Saída não formatada"
      ]
    },
    {
      "cell_type": "code",
      "metadata": {
        "colab": {
          "base_uri": "https://localhost:8080/"
        },
        "id": "-eYbPVlUvjXe",
        "outputId": "f3a810d9-eed1-4cb8-aca4-7c64ecf91fd9"
      },
      "source": [
        "import requests\n",
        "\n",
        "def jprint(obj):\n",
        "    # Cria uma string formatada de um object JSON\n",
        "    text = json.dumps(obj, sort_keys=True, indent=4)\n",
        "    print(text)\n",
        "\n",
        "# Requisição de url\n",
        "response = requests.get(\"http://api.open-notify.org/astros.json\")\n",
        "\n",
        "# Exibe os dados\n",
        "jprint(response.json())\n"
      ],
      "execution_count": 71,
      "outputs": [
        {
          "output_type": "stream",
          "text": [
            "{\n",
            "    \"message\": \"success\",\n",
            "    \"number\": 7,\n",
            "    \"people\": [\n",
            "        {\n",
            "            \"craft\": \"ISS\",\n",
            "            \"name\": \"Mark Vande Hei\"\n",
            "        },\n",
            "        {\n",
            "            \"craft\": \"ISS\",\n",
            "            \"name\": \"Oleg Novitskiy\"\n",
            "        },\n",
            "        {\n",
            "            \"craft\": \"ISS\",\n",
            "            \"name\": \"Pyotr Dubrov\"\n",
            "        },\n",
            "        {\n",
            "            \"craft\": \"ISS\",\n",
            "            \"name\": \"Thomas Pesquet\"\n",
            "        },\n",
            "        {\n",
            "            \"craft\": \"ISS\",\n",
            "            \"name\": \"Megan McArthur\"\n",
            "        },\n",
            "        {\n",
            "            \"craft\": \"ISS\",\n",
            "            \"name\": \"Shane Kimbrough\"\n",
            "        },\n",
            "        {\n",
            "            \"craft\": \"ISS\",\n",
            "            \"name\": \"Akihiko Hoshide\"\n",
            "        }\n",
            "    ]\n",
            "}\n"
          ],
          "name": "stdout"
        }
      ]
    }
  ]
}