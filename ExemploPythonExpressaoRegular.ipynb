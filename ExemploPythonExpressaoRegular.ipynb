{
  "nbformat": 4,
  "nbformat_minor": 0,
  "metadata": {
    "colab": {
      "provenance": [],
      "collapsed_sections": [],
      "toc_visible": true,
      "authorship_tag": "ABX9TyPFv3pKb8qMpakWsvL4pb6b",
      "include_colab_link": true
    },
    "kernelspec": {
      "name": "python3",
      "display_name": "Python 3"
    },
    "language_info": {
      "name": "python"
    }
  },
  "cells": [
    {
      "cell_type": "markdown",
      "metadata": {
        "id": "view-in-github",
        "colab_type": "text"
      },
      "source": [
        "<a href=\"https://colab.research.google.com/github/osmarbraz/exemplos_python/blob/master/ExemploPythonExpressaoRegular.ipynb\" target=\"_parent\"><img src=\"https://colab.research.google.com/assets/colab-badge.svg\" alt=\"Open In Colab\"/></a>"
      ]
    },
    {
      "cell_type": "markdown",
      "metadata": {
        "id": "1gAMw42-hBzo"
      },
      "source": [
        "# Exemplos Expressões Regulares em Python no Google Colaboratory\n"
      ]
    },
    {
      "cell_type": "markdown",
      "metadata": {
        "id": "wLOtQoPpcxEK"
      },
      "source": [
        "## Procura\n",
        "\n",
        "https://docs.python.org/3/library/re.html"
      ]
    },
    {
      "cell_type": "code",
      "metadata": {
        "id": "1S-iISGKczfT",
        "colab": {
          "base_uri": "https://localhost:8080/"
        },
        "outputId": "d105a229-0ec5-45dd-a0dd-d013eb79fc8a"
      },
      "source": [
        "# Importa da biblioteca\n",
        "import re\n",
        "\n",
        "texto = \"Florianópolis, 10 de novembro de 2022. Uma da como 10/11/2022 é um formato abreviado\"\n",
        "\n",
        "# Procura da palavra novemmbro no texto\n",
        "resultado = re.search('novembro', texto)\n",
        "\n",
        "# Tipo do resultado\n",
        "print(type(resultado))\n",
        "\n",
        "# Resultado da substring da procura \n",
        "print(\"Resutado:\", resultado.group())\n",
        "\n",
        "# Resultado do segmento(span) da procura\n",
        "print(\"Segmento:\", resultado.span())\n",
        "\n",
        "# Procura de 0 enquanto existir um caracter alfanumérico [a-zA-Z0-9] (\\w)\n",
        "print(re.search('^\\w*', texto))\n",
        "\n",
        "# Procura do fim enquanto existir um caracter alfanumérico [a-zA-Z0-9] (\\w)\n",
        "print(re.search('\\w*$', texto))\n",
        "\n",
        "# Procura palavras que tenha de br letras\n",
        "print(re.search('(\\w*)br(\\w*)', texto))"
      ],
      "execution_count": 1,
      "outputs": [
        {
          "output_type": "stream",
          "name": "stdout",
          "text": [
            "<class 're.Match'>\n",
            "Resutado: novembro\n",
            "Segmento: (21, 29)\n",
            "<re.Match object; span=(0, 13), match='Florianópolis'>\n",
            "<re.Match object; span=(75, 84), match='abreviado'>\n",
            "<re.Match object; span=(21, 29), match='novembro'>\n"
          ]
        }
      ]
    },
    {
      "cell_type": "markdown",
      "metadata": {
        "id": "iw_D1d3uhns5"
      },
      "source": [
        "## Procura tudo"
      ]
    },
    {
      "cell_type": "code",
      "metadata": {
        "id": "Vzq99GRwhn5q",
        "colab": {
          "base_uri": "https://localhost:8080/"
        },
        "outputId": "fcf8b844-5ebb-456c-d924-f090248d0ef3"
      },
      "source": [
        "# Importa da biblioteca\n",
        "import re\n",
        "\n",
        "texto = \"Florianópolis, 10 de novembro de 2022. Uma da como 10/11/2022 é um formato abreviado\"\n",
        "\n",
        "# Procura palavras que tenha de br letras\n",
        "print(re.findall(r'(\\w*)br(\\w*)', texto))"
      ],
      "execution_count": 2,
      "outputs": [
        {
          "output_type": "stream",
          "name": "stdout",
          "text": [
            "[('novem', 'o'), ('a', 'eviado')]\n"
          ]
        }
      ]
    },
    {
      "cell_type": "markdown",
      "source": [
        "## Atualizando datas"
      ],
      "metadata": {
        "id": "uvdHYgWoyp8w"
      }
    },
    {
      "cell_type": "code",
      "source": [
        "# Importa da biblioteca\n",
        "import re\n",
        "\n",
        "# Texto base\n",
        "texto = \"Em 23/06/1912 nasceu Alan Turing o pai da Computação. Ele foi um dos responsáveis por descobrir o local exato onde as tropas nazistas estariam em 06/06/1944, permitindo o Dia D e o desembarque na Normandia. Morreu em 07/06/1954 devido a ingestão de cianeto. Em 24/12/2013 recebeu o perdão real póstumo. O Turing Award desde 13/11/2014 premia com o valor de 1 milhão de dólares as pessoas que contribuem para os avanços na computação. Wikipedia acesso 10/11/2022.\"\n",
        "\n",
        "# Padrão da data\n",
        "padrao = '([0-9]{2})\\/([0-9]{2})\\/([0-9]{4})'\n",
        "\n",
        "# Muda o padrão 1\n",
        "novopadrao1 = r'\\1-\\2-\\3'\n",
        "texto1 = re.sub(padrao, novopadrao1, texto)\n",
        "print(texto1)\n",
        "\n",
        "# Muda o padrão\n",
        "novopadrao2 = r'\\3/\\2/\\1'\n",
        "texto2 = re.sub(padrao, novopadrao2, texto)\n",
        "print(texto2)"
      ],
      "metadata": {
        "colab": {
          "base_uri": "https://localhost:8080/"
        },
        "id": "3yJZLom9yt2w",
        "outputId": "dae48ec6-0664-4eec-ba0d-9d506738ccee"
      },
      "execution_count": 3,
      "outputs": [
        {
          "output_type": "stream",
          "name": "stdout",
          "text": [
            "Em 23-06-1912 nasceu Alan Turing o pai da Computação. Ele foi um dos responsáveis por descobrir o local exato onde as tropas nazistas estariam em 06-06-1944, permitindo o Dia D e o desembarque na Normandia. Morreu em 07-06-1954 devido a ingestão de cianeto. Em 24-12-2013 recebeu o perdão real póstumo. O Turing Award desde 13-11-2014 premia com o valor de 1 milhão de dólares as pessoas que contribuem para os avanços na computação. Wikipedia acesso 10-11-2022.\n",
            "Em 1912/06/23 nasceu Alan Turing o pai da Computação. Ele foi um dos responsáveis por descobrir o local exato onde as tropas nazistas estariam em 1944/06/06, permitindo o Dia D e o desembarque na Normandia. Morreu em 1954/06/07 devido a ingestão de cianeto. Em 2013/12/24 recebeu o perdão real póstumo. O Turing Award desde 2014/11/13 premia com o valor de 1 milhão de dólares as pessoas que contribuem para os avanços na computação. Wikipedia acesso 2022/11/10.\n"
          ]
        }
      ]
    },
    {
      "cell_type": "markdown",
      "source": [
        "## Procura números inteiros ou reais"
      ],
      "metadata": {
        "id": "VD5Qw8M-0VjA"
      }
    },
    {
      "cell_type": "code",
      "source": [
        "# Importa da biblioteca\n",
        "import re\n",
        "\n",
        "# regexp = '^[+-]?[0-9]+(\\.[0-9]+)?$'\n",
        "\n",
        "regexp = '^(\\+|-)?[0-9]+(\\.[0-9]+)?$'\n",
        "\n",
        "texto = \"10\"\n",
        "\n",
        "if re.search(regexp, texto):\n",
        "  print(\"OK\")\n",
        "else:\n",
        " print(\"ERRO\")"
      ],
      "metadata": {
        "colab": {
          "base_uri": "https://localhost:8080/"
        },
        "id": "4tqZ-5Y_0b3o",
        "outputId": "4dcfeec3-3dc9-41ac-a032-c2edcec2cacd"
      },
      "execution_count": 4,
      "outputs": [
        {
          "output_type": "stream",
          "name": "stdout",
          "text": [
            "OK\n"
          ]
        }
      ]
    }
  ]
}