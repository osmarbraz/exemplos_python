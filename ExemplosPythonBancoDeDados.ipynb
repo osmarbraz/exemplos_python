{
  "nbformat": 4,
  "nbformat_minor": 0,
  "metadata": {
    "colab": {
      "name": "ExemplosPythonBancoDeDados.ipynb",
      "provenance": [],
      "collapsed_sections": [],
      "toc_visible": true,
      "include_colab_link": true
    },
    "kernelspec": {
      "name": "python3",
      "display_name": "Python 3"
    },
    "accelerator": "GPU"
  },
  "cells": [
    {
      "cell_type": "markdown",
      "metadata": {
        "id": "view-in-github",
        "colab_type": "text"
      },
      "source": [
        "<a href=\"https://colab.research.google.com/github/osmarbraz/exemplos_python/blob/master/ExemplosPythonBancoDeDados.ipynb\" target=\"_parent\"><img src=\"https://colab.research.google.com/assets/colab-badge.svg\" alt=\"Open In Colab\"/></a>"
      ]
    },
    {
      "cell_type": "markdown",
      "metadata": {
        "id": "xY84ChCNzmQQ"
      },
      "source": [
        "# Exemplos Banco de dados em Python no Google Colaboratory\n",
        "\n",
        "-----------------------------------------\n",
        "**Guia Colab Iniciante:**\n",
        "\n",
        "https://medium.com/machina-sapiens/google-colab-guia-do-iniciante-334d70aad531\n",
        "\n",
        "**Documentação oficial:**\n",
        "\n",
        "https://colab.research.google.com/github/jakevdp/PythonDataScienceHandbook/blob/master/notebooks/01.01-Help-And-Documentation.ipynb\n",
        "\n",
        "**Características :**\n",
        "\n",
        "https://colab.research.google.com/notebooks/basic_features_overview.ipynb"
      ]
    },
    {
      "cell_type": "markdown",
      "metadata": {
        "id": "2r8qPqSQsdIM"
      },
      "source": [
        "## Banco de Dados\n",
        "\n",
        "https://www.betterdatascience.com/python-has-a-built-in-database-heres-how-to-use-it/"
      ]
    },
    {
      "cell_type": "markdown",
      "metadata": {
        "id": "Zh3b63EC9_n8"
      },
      "source": [
        "## Criando o Banco de Dados"
      ]
    },
    {
      "cell_type": "code",
      "metadata": {
        "id": "bDW1s63w9-9G",
        "colab": {
          "base_uri": "https://localhost:8080/"
        },
        "outputId": "afaf3eec-ff57-42ff-e0e4-daac3a5a58f5"
      },
      "source": [
        "# Importando a biblioteca do SQLite3\n",
        "import sqlite3\n",
        "\n",
        "# Cria o banco de dados 'clientes.db' no diretório corrente\n",
        "bd = sqlite3.connect('clientes.db')\n",
        "\n",
        "# Cria a conexão com o banco de dados\n",
        "con = bd.cursor()\n",
        "\n",
        "# Lista o diretório do arquivo com o banco de dados\n",
        "!ls -la"
      ],
      "execution_count": 1,
      "outputs": [
        {
          "output_type": "stream",
          "text": [
            "total 24\n",
            "drwxr-xr-x 1 root root 4096 Nov 29 11:30 .\n",
            "drwxr-xr-x 1 root root 4096 Nov 29 11:23 ..\n",
            "-rw-r--r-- 1 root root 8192 Nov 29 11:24 clientes.db\n",
            "drwxr-xr-x 1 root root 4096 Nov 20 17:15 .config\n",
            "drwxr-xr-x 1 root root 4096 Nov 13 17:33 sample_data\n"
          ],
          "name": "stdout"
        }
      ]
    },
    {
      "cell_type": "markdown",
      "metadata": {
        "id": "1O3nlz-P9xHe"
      },
      "source": [
        "## Criar Tabela"
      ]
    },
    {
      "cell_type": "markdown",
      "metadata": {
        "id": "VjQemPWy-xBW"
      },
      "source": [
        "## Função para verificar se tabela existe"
      ]
    },
    {
      "cell_type": "code",
      "metadata": {
        "id": "wSCwE6GF9zEG"
      },
      "source": [
        "def tabelaExiste(nome_tabela, con):\n",
        "    con.execute('''SELECT count(name) FROM sqlite_master WHERE TYPE = 'table' AND name = '{}' '''.format(nome_tabela))\n",
        "    if con.fetchone()[0] == 1:\n",
        "        return True\n",
        "    return False"
      ],
      "execution_count": 2,
      "outputs": []
    },
    {
      "cell_type": "markdown",
      "metadata": {
        "id": "h03uytbI-0Sh"
      },
      "source": [
        "## Criando a tabela cliente"
      ]
    },
    {
      "cell_type": "code",
      "metadata": {
        "id": "i0c2gb8y-2fu"
      },
      "source": [
        "if not tabelaExiste('cliente', con):\n",
        "    con.execute('''\n",
        "        CREATE TABLE cliente(\n",
        "            clienteId INTEGER PRIMARY KEY,\n",
        "            nome TEXT,\n",
        "            cpf TEXT,\n",
        "            salario REAL\n",
        "        )\n",
        "    ''')"
      ],
      "execution_count": 3,
      "outputs": []
    },
    {
      "cell_type": "markdown",
      "metadata": {
        "id": "XFaJawwz9z1A"
      },
      "source": [
        "## Inserir Dados"
      ]
    },
    {
      "cell_type": "code",
      "metadata": {
        "id": "5-SoaeVF92g2",
        "colab": {
          "base_uri": "https://localhost:8080/"
        },
        "outputId": "f5eae733-ef80-4042-ff43-a2aa5293e3a3"
      },
      "source": [
        "con.execute('''\n",
        "        INSERT INTO cliente (clienteId, nome, cpf, salario)\n",
        "        VALUES(?, ?, ?, ?)\n",
        "    ''', (1, 'Joao da silva', '111111', 100.0))"
      ],
      "execution_count": 4,
      "outputs": [
        {
          "output_type": "execute_result",
          "data": {
            "text/plain": [
              "<sqlite3.Cursor at 0x7fd486f0d960>"
            ]
          },
          "metadata": {
            "tags": []
          },
          "execution_count": 4
        }
      ]
    },
    {
      "cell_type": "code",
      "metadata": {
        "id": "s8ykRCgKAbM6",
        "colab": {
          "base_uri": "https://localhost:8080/"
        },
        "outputId": "53899ddd-7146-496d-da26-00771fa1a06a"
      },
      "source": [
        "con.execute('''\n",
        "        INSERT INTO cliente (clienteId, nome, cpf, salario)\n",
        "        VALUES(?, ?, ?, ?)\n",
        "    ''', (2, 'Maria da silva', '222222', 200.0))"
      ],
      "execution_count": 5,
      "outputs": [
        {
          "output_type": "execute_result",
          "data": {
            "text/plain": [
              "<sqlite3.Cursor at 0x7fd486f0d960>"
            ]
          },
          "metadata": {
            "tags": []
          },
          "execution_count": 5
        }
      ]
    },
    {
      "cell_type": "code",
      "metadata": {
        "id": "G31leRfxBeeR",
        "colab": {
          "base_uri": "https://localhost:8080/"
        },
        "outputId": "6972a88c-4a41-4b02-c914-6cd4ca755921"
      },
      "source": [
        "x = con.execute('''\n",
        "        INSERT INTO cliente (clienteId, nome, cpf, salario)\n",
        "        VALUES(?, ?, ?, ?)\n",
        "    ''', (3, 'José da silva', '333333', 300.0))\n",
        "\n",
        "if x.rowcount == 1:\n",
        "  print(\"Registro incluido\")"
      ],
      "execution_count": 6,
      "outputs": [
        {
          "output_type": "stream",
          "text": [
            "Registro incluido\n"
          ],
          "name": "stdout"
        }
      ]
    },
    {
      "cell_type": "markdown",
      "metadata": {
        "id": "8TmBQmfC_6vp"
      },
      "source": [
        "## Consulta de dados"
      ]
    },
    {
      "cell_type": "markdown",
      "metadata": {
        "id": "Zr-UF1VkANiS"
      },
      "source": [
        "### Consultando todos os registros"
      ]
    },
    {
      "cell_type": "code",
      "metadata": {
        "id": "vV-9TkYL__R_",
        "colab": {
          "base_uri": "https://localhost:8080/"
        },
        "outputId": "2ab9d42f-d0a9-4c22-ac0e-e19a401946c3"
      },
      "source": [
        "con.execute('''SELECT * FROM cliente''')\n",
        "    \n",
        "for tupla in con.fetchall():\n",
        "    print(tupla)   "
      ],
      "execution_count": 7,
      "outputs": [
        {
          "output_type": "stream",
          "text": [
            "(1, 'Joao da silva', '111111', 100.0)\n",
            "(2, 'Maria da silva', '222222', 200.0)\n",
            "(3, 'José da silva', '333333', 300.0)\n"
          ],
          "name": "stdout"
        }
      ]
    },
    {
      "cell_type": "markdown",
      "metadata": {
        "id": "5d99oJpLAhfs"
      },
      "source": [
        "### Consultando registro específico"
      ]
    },
    {
      "cell_type": "code",
      "metadata": {
        "id": "_236QNnXAkiY",
        "colab": {
          "base_uri": "https://localhost:8080/"
        },
        "outputId": "f7243948-bdb8-48d8-9508-e0ea82469409"
      },
      "source": [
        "# Id do cliente a ser consultado\n",
        "clienteId = 1\n",
        "\n",
        "x = con.execute('''SELECT * FROM cliente WHERE clienteId = {}'''.format(clienteId))\n",
        "\n",
        "if x.rowcount != -1:\n",
        "  for tupla in con.fetchall():\n",
        "    print(tupla)   \n",
        "else:\n",
        "  print(\"Registro não encontrado!\")"
      ],
      "execution_count": 8,
      "outputs": [
        {
          "output_type": "stream",
          "text": [
            "Registro não encontrado!\n"
          ],
          "name": "stdout"
        }
      ]
    },
    {
      "cell_type": "markdown",
      "metadata": {
        "id": "vIiaV9tgBNeG"
      },
      "source": [
        "## Apagando registro específico"
      ]
    },
    {
      "cell_type": "markdown",
      "metadata": {
        "id": "V1b_kUHdEueI"
      },
      "source": [
        "### Com parâmetros(?)"
      ]
    },
    {
      "cell_type": "code",
      "metadata": {
        "id": "lquDI0ovEhAb",
        "colab": {
          "base_uri": "https://localhost:8080/"
        },
        "outputId": "0ff6a976-309a-46f6-c783-3c58e6bc874f"
      },
      "source": [
        "# Id do cliente a ser apagado\n",
        "clienteId = 1\n",
        "\n",
        "consulta = 'DELETE FROM cliente WHERE clienteId = ?'\n",
        "parametros =  (clienteId,)\n",
        " \n",
        "x = con.execute(consulta, parametros)\n",
        "\n",
        "if x.rowcount != 0:\n",
        "  print(\"Registro excluído!\")\n",
        "else:\n",
        "  print(\"Registro não excluído!\")"
      ],
      "execution_count": 9,
      "outputs": [
        {
          "output_type": "stream",
          "text": [
            "Registro excluído!\n"
          ],
          "name": "stdout"
        }
      ]
    },
    {
      "cell_type": "markdown",
      "metadata": {
        "id": "V99Yu5ylEyMK"
      },
      "source": [
        "### Com formatação do texto"
      ]
    },
    {
      "cell_type": "code",
      "metadata": {
        "id": "SbPrBG9KBNeI",
        "colab": {
          "base_uri": "https://localhost:8080/"
        },
        "outputId": "aa48095e-2d50-4c47-9f49-8261d19fafee"
      },
      "source": [
        "# Id do cliente a ser apagado\n",
        "clienteId = 1\n",
        "\n",
        "x = con.execute('''DELETE FROM cliente WHERE clienteId = {}'''.format(clienteId))\n",
        "if x.rowcount != 0:\n",
        "  print(\"Registro excluído!\")\n",
        "else:\n",
        "  print(\"Registro não excluído!\")"
      ],
      "execution_count": 10,
      "outputs": [
        {
          "output_type": "stream",
          "text": [
            "Registro não excluído!\n"
          ],
          "name": "stdout"
        }
      ]
    },
    {
      "cell_type": "markdown",
      "metadata": {
        "id": "029ZyYguCcEr"
      },
      "source": [
        "## Atualizando um registro"
      ]
    },
    {
      "cell_type": "code",
      "metadata": {
        "id": "_sTpMnMRCgG_",
        "colab": {
          "base_uri": "https://localhost:8080/"
        },
        "outputId": "5056664e-41a0-4b52-a10c-a307e2015379"
      },
      "source": [
        " consulta = ('''UPDATE cliente SET clienteId = ?, nome = ?, cpf = ?, salario = ?  WHERE clienteId = ?''')\n",
        " parametros =  (1,'Joao', '1',1000.0 , 2)\n",
        "\n",
        " x =  con.execute(consulta,parametros)\n",
        "\n",
        "if x.rowcount != 0:\n",
        "  print(\"Registro atualizado!\")\n",
        "else:\n",
        "  print(\"Registro não atualizado!\")"
      ],
      "execution_count": 11,
      "outputs": [
        {
          "output_type": "stream",
          "text": [
            "Registro atualizado!\n"
          ],
          "name": "stdout"
        }
      ]
    }
  ]
}