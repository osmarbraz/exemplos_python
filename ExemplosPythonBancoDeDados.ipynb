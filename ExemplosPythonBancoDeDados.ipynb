{
  "nbformat": 4,
  "nbformat_minor": 0,
  "metadata": {
    "colab": {
      "name": "ExemplosPythonBancoDeDados.ipynb",
      "provenance": [],
      "collapsed_sections": [],
      "toc_visible": true,
      "include_colab_link": true
    },
    "kernelspec": {
      "name": "python3",
      "display_name": "Python 3"
    },
    "accelerator": "GPU"
  },
  "cells": [
    {
      "cell_type": "markdown",
      "metadata": {
        "id": "view-in-github",
        "colab_type": "text"
      },
      "source": [
        "<a href=\"https://colab.research.google.com/github/osmarbraz/exemplos_python/blob/master/ExemplosPythonBancoDeDados.ipynb\" target=\"_parent\"><img src=\"https://colab.research.google.com/assets/colab-badge.svg\" alt=\"Open In Colab\"/></a>"
      ]
    },
    {
      "cell_type": "markdown",
      "metadata": {
        "id": "xY84ChCNzmQQ"
      },
      "source": [
        "# Exemplos Banco de dados em Python no Google Colaboratory\n",
        "\n",
        "-----------------------------------------\n",
        "**Guia Colab Iniciante:**\n",
        "\n",
        "https://medium.com/machina-sapiens/google-colab-guia-do-iniciante-334d70aad531\n",
        "\n",
        "**Documentação oficial:**\n",
        "\n",
        "https://colab.research.google.com/github/jakevdp/PythonDataScienceHandbook/blob/master/notebooks/01.01-Help-And-Documentation.ipynb\n",
        "\n",
        "**Características :**\n",
        "\n",
        "https://colab.research.google.com/notebooks/basic_features_overview.ipynb"
      ]
    },
    {
      "cell_type": "markdown",
      "metadata": {
        "id": "2r8qPqSQsdIM"
      },
      "source": [
        "## Banco de Dados\n",
        "\n",
        "https://www.betterdatascience.com/python-has-a-built-in-database-heres-how-to-use-it/"
      ]
    },
    {
      "cell_type": "markdown",
      "metadata": {
        "id": "Zh3b63EC9_n8"
      },
      "source": [
        "## Criando o Banco de Dados"
      ]
    },
    {
      "cell_type": "code",
      "metadata": {
        "id": "bDW1s63w9-9G",
        "outputId": "0eb8fe75-deb1-4140-ef31-93ec4159b37f",
        "colab": {
          "base_uri": "https://localhost:8080/",
          "height": 119
        }
      },
      "source": [
        "# Importando a biblioteca do SQLite3\n",
        "import sqlite3\n",
        "\n",
        "# Cria o banco de dados 'clientes.db' no diretório corrente\n",
        "bd = sqlite3.connect('clientes.db')\n",
        "\n",
        "# Cria a conexão com o banco de dados\n",
        "con = bd.cursor()\n",
        "\n",
        "# Lista o diretório do arquivo com o banco de dados\n",
        "!ls -la"
      ],
      "execution_count": null,
      "outputs": [
        {
          "output_type": "stream",
          "text": [
            "total 16\n",
            "drwxr-xr-x 1 root root 4096 Oct  3 15:35 .\n",
            "drwxr-xr-x 1 root root 4096 Oct  3 15:34 ..\n",
            "-rw-r--r-- 1 root root    0 Oct  3 15:35 clientes.db\n",
            "drwxr-xr-x 1 root root 4096 Oct  1 16:28 .config\n",
            "drwxr-xr-x 1 root root 4096 Oct  1 16:28 sample_data\n"
          ],
          "name": "stdout"
        }
      ]
    },
    {
      "cell_type": "markdown",
      "metadata": {
        "id": "1O3nlz-P9xHe"
      },
      "source": [
        "## Criar Tabela"
      ]
    },
    {
      "cell_type": "markdown",
      "metadata": {
        "id": "VjQemPWy-xBW"
      },
      "source": [
        "## Função para verificar se tabela existe"
      ]
    },
    {
      "cell_type": "code",
      "metadata": {
        "id": "wSCwE6GF9zEG"
      },
      "source": [
        "def tabelaExiste(nome_tabela, con):\n",
        "    con.execute('''SELECT count(name) FROM sqlite_master WHERE TYPE = 'table' AND name = '{}' '''.format(nome_tabela))\n",
        "    if con.fetchone()[0] == 1:\n",
        "        return True\n",
        "    return False"
      ],
      "execution_count": null,
      "outputs": []
    },
    {
      "cell_type": "markdown",
      "metadata": {
        "id": "h03uytbI-0Sh"
      },
      "source": [
        "## Criando a tabela cliente"
      ]
    },
    {
      "cell_type": "code",
      "metadata": {
        "id": "i0c2gb8y-2fu"
      },
      "source": [
        "if not tabelaExiste('cliente', con):\n",
        "    con.execute('''\n",
        "        CREATE TABLE cliente(\n",
        "            clienteId INTEGER PRIMARY KEY,\n",
        "            nome TEXT,\n",
        "            cpf TEXT,\n",
        "            salario REAL\n",
        "        )\n",
        "    ''')"
      ],
      "execution_count": null,
      "outputs": []
    },
    {
      "cell_type": "markdown",
      "metadata": {
        "id": "XFaJawwz9z1A"
      },
      "source": [
        "## Inserir Dados"
      ]
    },
    {
      "cell_type": "code",
      "metadata": {
        "id": "5-SoaeVF92g2",
        "outputId": "478ae161-0de6-4eeb-969c-5ac48ae1f781",
        "colab": {
          "base_uri": "https://localhost:8080/",
          "height": 34
        }
      },
      "source": [
        "con.execute('''\n",
        "        INSERT INTO cliente (clienteId, nome, cpf, salario)\n",
        "        VALUES(?, ?, ?, ?)\n",
        "    ''', (1, 'Joao da silva', '111111', 100.0))"
      ],
      "execution_count": null,
      "outputs": [
        {
          "output_type": "execute_result",
          "data": {
            "text/plain": [
              "<sqlite3.Cursor at 0x7fa27cfa4ce0>"
            ]
          },
          "metadata": {
            "tags": []
          },
          "execution_count": 4
        }
      ]
    },
    {
      "cell_type": "code",
      "metadata": {
        "id": "s8ykRCgKAbM6",
        "outputId": "2d00c8b5-a566-415a-f417-47c6e852a4bd",
        "colab": {
          "base_uri": "https://localhost:8080/",
          "height": 34
        }
      },
      "source": [
        "con.execute('''\n",
        "        INSERT INTO cliente (clienteId, nome, cpf, salario)\n",
        "        VALUES(?, ?, ?, ?)\n",
        "    ''', (2, 'Maria da silva', '222222', 200.0))"
      ],
      "execution_count": null,
      "outputs": [
        {
          "output_type": "execute_result",
          "data": {
            "text/plain": [
              "<sqlite3.Cursor at 0x7fa27cfa4ce0>"
            ]
          },
          "metadata": {
            "tags": []
          },
          "execution_count": 5
        }
      ]
    },
    {
      "cell_type": "code",
      "metadata": {
        "id": "G31leRfxBeeR",
        "outputId": "466280d3-415a-4876-a7f5-4b48d2b80212",
        "colab": {
          "base_uri": "https://localhost:8080/",
          "height": 34
        }
      },
      "source": [
        "x = con.execute('''\n",
        "        INSERT INTO cliente (clienteId, nome, cpf, salario)\n",
        "        VALUES(?, ?, ?, ?)\n",
        "    ''', (3, 'José da silva', '333333', 300.0))\n",
        "\n",
        "if x.rowcount == 1:\n",
        "  print(\"Registro incluido\")"
      ],
      "execution_count": null,
      "outputs": [
        {
          "output_type": "stream",
          "text": [
            "Registro incluido\n"
          ],
          "name": "stdout"
        }
      ]
    },
    {
      "cell_type": "markdown",
      "metadata": {
        "id": "8TmBQmfC_6vp"
      },
      "source": [
        "## Consulta de dados"
      ]
    },
    {
      "cell_type": "markdown",
      "metadata": {
        "id": "Zr-UF1VkANiS"
      },
      "source": [
        "### Consultando todos os registros"
      ]
    },
    {
      "cell_type": "code",
      "metadata": {
        "id": "vV-9TkYL__R_",
        "outputId": "01fd6300-9f52-419f-b65b-bd81b152d79f",
        "colab": {
          "base_uri": "https://localhost:8080/",
          "height": 68
        }
      },
      "source": [
        "con.execute('''SELECT * FROM cliente''')\n",
        "    \n",
        "for tupla in con.fetchall():\n",
        "    print(tupla)   "
      ],
      "execution_count": null,
      "outputs": [
        {
          "output_type": "stream",
          "text": [
            "(1, 'Joao da silva', '111111', 100.0)\n",
            "(2, 'Maria da silva', '222222', 200.0)\n",
            "(3, 'José da silva', '333333', 300.0)\n"
          ],
          "name": "stdout"
        }
      ]
    },
    {
      "cell_type": "markdown",
      "metadata": {
        "id": "5d99oJpLAhfs"
      },
      "source": [
        "### Consultando registro específico"
      ]
    },
    {
      "cell_type": "code",
      "metadata": {
        "id": "_236QNnXAkiY",
        "outputId": "16fb10c7-0126-4fad-fcb5-763292114d3c",
        "colab": {
          "base_uri": "https://localhost:8080/",
          "height": 34
        }
      },
      "source": [
        "# Id do cliente a ser consultado\n",
        "clienteId = 1\n",
        "\n",
        "x = con.execute('''SELECT * FROM cliente WHERE clienteId = {}'''.format(clienteId))\n",
        "\n",
        "if x.rowcount != -1:\n",
        "  for tupla in con.fetchall():\n",
        "    print(tupla)   \n",
        "else:\n",
        "  print(\"Registro não encontrado!\")"
      ],
      "execution_count": null,
      "outputs": [
        {
          "output_type": "stream",
          "text": [
            "Registro não encontrado!\n"
          ],
          "name": "stdout"
        }
      ]
    },
    {
      "cell_type": "markdown",
      "metadata": {
        "id": "vIiaV9tgBNeG"
      },
      "source": [
        "## Apagando registro específico"
      ]
    },
    {
      "cell_type": "markdown",
      "metadata": {
        "id": "V1b_kUHdEueI"
      },
      "source": [
        "### Com parâmetros(?)"
      ]
    },
    {
      "cell_type": "code",
      "metadata": {
        "id": "lquDI0ovEhAb",
        "outputId": "ab655079-aa7b-40db-b806-af7e04e855a7",
        "colab": {
          "base_uri": "https://localhost:8080/",
          "height": 34
        }
      },
      "source": [
        "# Id do cliente a ser apagado\n",
        "clienteId = 1\n",
        "\n",
        "consulta = 'DELETE FROM cliente WHERE clienteId = ?'\n",
        "parametros =  (clienteId,)\n",
        " \n",
        "x = con.execute(consulta, parametros)\n",
        "\n",
        "if x.rowcount != 0:\n",
        "  print(\"Registro excluído!\")\n",
        "else:\n",
        "  print(\"Registro não excluído!\")"
      ],
      "execution_count": null,
      "outputs": [
        {
          "output_type": "stream",
          "text": [
            "Registro excluído!\n"
          ],
          "name": "stdout"
        }
      ]
    },
    {
      "cell_type": "markdown",
      "metadata": {
        "id": "V99Yu5ylEyMK"
      },
      "source": [
        "### Com formatação do texto"
      ]
    },
    {
      "cell_type": "code",
      "metadata": {
        "id": "SbPrBG9KBNeI",
        "outputId": "5354d415-c80f-4986-9fe6-bbd2d0617a5e",
        "colab": {
          "base_uri": "https://localhost:8080/",
          "height": 34
        }
      },
      "source": [
        "# Id do cliente a ser apagado\n",
        "clienteId = 1\n",
        "\n",
        "x = con.execute('''DELETE FROM cliente WHERE clienteId = {}'''.format(clienteId))\n",
        "if x.rowcount != 0:\n",
        "  print(\"Registro excluído!\")\n",
        "else:\n",
        "  print(\"Registro não excluído!\")"
      ],
      "execution_count": null,
      "outputs": [
        {
          "output_type": "stream",
          "text": [
            "Registro não excluído!\n"
          ],
          "name": "stdout"
        }
      ]
    },
    {
      "cell_type": "markdown",
      "metadata": {
        "id": "029ZyYguCcEr"
      },
      "source": [
        "## Atualizando um registro"
      ]
    },
    {
      "cell_type": "code",
      "metadata": {
        "id": "_sTpMnMRCgG_",
        "outputId": "cb199328-9e09-4f93-bf7b-8d37ebe63102",
        "colab": {
          "base_uri": "https://localhost:8080/",
          "height": 34
        }
      },
      "source": [
        " consulta = ('''UPDATE cliente SET clienteId = ?, nome = ?, cpf = ?, salario = ?  WHERE clienteId = ?''')\n",
        " parametros =  (1,'Joao', '1',1000.0 , 2)\n",
        "\n",
        " x =  con.execute(consulta,parametros)\n",
        "\n",
        "if x.rowcount != 0:\n",
        "  print(\"Registro atualizado!\")\n",
        "else:\n",
        "  print(\"Registro não atualizado!\")"
      ],
      "execution_count": null,
      "outputs": [
        {
          "output_type": "stream",
          "text": [
            "Registro atualizado!\n"
          ],
          "name": "stdout"
        }
      ]
    }
  ]
}