{
  "nbformat": 4,
  "nbformat_minor": 0,
  "metadata": {
    "colab": {
      "provenance": [],
      "toc_visible": true,
      "authorship_tag": "ABX9TyPhJBYoawetp+hZMpgVkn38",
      "include_colab_link": true
    },
    "kernelspec": {
      "name": "python3",
      "display_name": "Python 3"
    },
    "language_info": {
      "name": "python"
    }
  },
  "cells": [
    {
      "cell_type": "markdown",
      "metadata": {
        "id": "view-in-github",
        "colab_type": "text"
      },
      "source": [
        "<a href=\"https://colab.research.google.com/github/osmarbraz/exemplos_python/blob/master/ExemplosJanelaDeslizante.ipynb\" target=\"_parent\"><img src=\"https://colab.research.google.com/assets/colab-badge.svg\" alt=\"Open In Colab\"/></a>"
      ]
    },
    {
      "cell_type": "markdown",
      "source": [
        "# Testes com Janela deslizante"
      ],
      "metadata": {
        "id": "Eo9lbNcEGAc6"
      }
    },
    {
      "cell_type": "markdown",
      "source": [
        "## Código internet\n",
        "\n",
        "https://dock2learn.com/tech/implement-a-sliding-window-using-python/\n",
        "\n",
        "Funciona bem, mas não considera os elementos do inicio e fim e o passo."
      ],
      "metadata": {
        "id": "7Baau8gW1YqI"
      }
    },
    {
      "cell_type": "code",
      "source": [
        "def getJanela(lista, tamanho_janela):\n",
        "    if len(lista) <= tamanho_janela:\n",
        "        return lista\n",
        "    qtdePassos = len(lista) - tamanho_janela + 1\n",
        "\n",
        "    print(\"qtdePassos:\",qtdePassos)\n",
        "    for i in range(0, qtdePassos):\n",
        "\n",
        "        centro = int((i+i+tamanho_janela)/2)\n",
        "        print(i, \" = centro:\", centro, \" valor:\", lista[centro], \" \" , lista[i:i+tamanho_janela])"
      ],
      "metadata": {
        "id": "2YuCEjki1voB"
      },
      "execution_count": null,
      "outputs": []
    },
    {
      "cell_type": "code",
      "source": [
        "tamanho_janela = 5 # (2, 1 , 2)\n",
        "lista = [1,2,3,4,5,6,7,8,9,10]\n",
        "\n",
        "print(\"Conjunto:\", lista)\n",
        "print(\"Tamanho janela mínima:\", tamanho_janela, \" e máxima:\", tamanho_janela)\n",
        "\n",
        "getJanela(lista, tamanho_janela)"
      ],
      "metadata": {
        "colab": {
          "base_uri": "https://localhost:8080/"
        },
        "id": "r7F9Fn9w1pXX",
        "outputId": "2e7d6212-d260-4838-f5a2-0e48a5a33625"
      },
      "execution_count": null,
      "outputs": [
        {
          "output_type": "stream",
          "name": "stdout",
          "text": [
            "Conjunto: [1, 2, 3, 4, 5, 6, 7, 8, 9, 10]\n",
            "Tamanho janela mínima: 5  e máxima: 5\n",
            "qtdePassos: 6\n",
            "0  = centro: 2  valor: 3   [1, 2, 3, 4, 5]\n",
            "1  = centro: 3  valor: 4   [2, 3, 4, 5, 6]\n",
            "2  = centro: 4  valor: 5   [3, 4, 5, 6, 7]\n",
            "3  = centro: 5  valor: 6   [4, 5, 6, 7, 8]\n",
            "4  = centro: 6  valor: 7   [5, 6, 7, 8, 9]\n",
            "5  = centro: 7  valor: 8   [6, 7, 8, 9, 10]\n"
          ]
        }
      ]
    },
    {
      "cell_type": "markdown",
      "source": [
        "## Função janela deslizante sem passo\n",
        "\n",
        "Este tem problema, pois não considera o passo"
      ],
      "metadata": {
        "id": "Ead4dOEG1ZTe"
      }
    },
    {
      "cell_type": "code",
      "execution_count": null,
      "metadata": {
        "id": "L2d-Pnyh0_tM"
      },
      "outputs": [],
      "source": [
        "def getJanelaSentenca(lista, tamanho_janela, indice_passo):\n",
        "  \"\"\"\n",
        "     Cria janelas de itens de uma lista\n",
        "\n",
        "     Parâmetros:\n",
        "       `lista` - Um dataframe com os documentos.\n",
        "       `tamanho_janela` - Tamanho da janela a ser montada.\n",
        "       `indice_passo` - Índice do passo que se deseja da janela.\n",
        "\n",
        "     Retorno:\n",
        "       `lista_janela` - Lista com os documentos em janelas.\n",
        "       `string_janela` - String com os documentos em janelas.\n",
        "  \"\"\"\n",
        "  # Percorre a lista\n",
        "  # Dentro do intervalo dos passos\n",
        "  #if indice_sentenca >= 0 and indice_sentenca < len(lista):\n",
        "  if indice_passo >= 0 and indice_passo < len(lista):\n",
        "      # Seleciona o passo que se deseja a janela de\n",
        "      #i = indice_passo\n",
        "      #print(\"\\nPasso :\", i)\n",
        "\n",
        "      # Guarda os itens da janela\n",
        "      lista_janela = []\n",
        "\n",
        "      # Inicio da lista sem janelas completas antes do passo\n",
        "      if indice_passo < tamanho_janela:\n",
        "\n",
        "        #print(\"Inicio da lista\")\n",
        "        # Sentenças anteriores\n",
        "        #Evita estourar o início da lista\n",
        "        inicio = 0\n",
        "        fim = indice_passo\n",
        "        for j in range(inicio, fim):\n",
        "          documento_original = lista.iloc[j]\n",
        "          documento = documento_original['documento']\n",
        "          lista_janela.append(\"A:\" + documento)\n",
        "\n",
        "        # Sentença central\n",
        "        documento_original = lista.iloc[indice_passo]\n",
        "        documento = documento_original['documento']\n",
        "        lista_janela.append(\"C:\" + documento)\n",
        "\n",
        "        # Sentenças posteriores\n",
        "        inicio = indice_passo + 1\n",
        "        fim = indice_passo + tamanho_janela + 1\n",
        "        for j in range(inicio,fim):\n",
        "          documento_original = lista.iloc[j]\n",
        "          documento = documento_original['documento']\n",
        "          lista_janela.append(\"P:\" + documento)\n",
        "\n",
        "      else:\n",
        "        # Meio da lista com janelas completas antes e depois\n",
        "        if indice_passo < len(lista)-tamanho_janela:\n",
        "          #print(\" Meio da lista\")\n",
        "\n",
        "          # Sentenças anteriores\n",
        "          inicio = indice_passo - tamanho_janela\n",
        "          fim = indice_passo\n",
        "          for j in range(inicio, fim):\n",
        "            documento_original = lista.iloc[j]\n",
        "            documento = documento_original['documento']\n",
        "            lista_janela.append(\"A:\" + documento)\n",
        "\n",
        "          # Sentença central\n",
        "          documento_original = lista.iloc[indice_passo]\n",
        "          documento = documento_original['documento']\n",
        "          lista_janela.append(\"C:\" + documento)\n",
        "\n",
        "          # Sentenças posteriores\n",
        "          inicio = indice_passo + 1\n",
        "          fim = indice_passo + 1 + tamanho_janela\n",
        "          for j in range(inicio,fim):\n",
        "            documento_original = lista.iloc[j]\n",
        "            documento = documento_original['documento']\n",
        "            lista_janela.append(\"P:\" + documento)\n",
        "\n",
        "        else:\n",
        "          # Fim da lista sem janelas completas depois\n",
        "          if indice_passo >= len(lista)-tamanho_janela:\n",
        "            #print(\"Fim da lista\")\n",
        "\n",
        "            # Sentenças anteriores\n",
        "            inicio = i - tamanho_janela\n",
        "            fim = i\n",
        "            for j in range(inicio, fim):\n",
        "              documento_original = lista.iloc[j]\n",
        "              documento = documento_original['documento']\n",
        "              lista_janela.append(\"A:\" + documento)\n",
        "\n",
        "            # Sentença central\n",
        "            documento_original = lista.iloc[indice_passo]\n",
        "            documento = documento_original['documento']\n",
        "            lista_janela.append(\"C:\" + documento)\n",
        "\n",
        "            # Sentenças posteriores\n",
        "            inicio = indice_passo + 1\n",
        "            fim = indice_passo + 1 + tamanho_janela\n",
        "            # Evita o extrapolar o limite da lista de sentenças\n",
        "            if fim > len(lista):\n",
        "              fim = len(lista)\n",
        "            for j in range(inicio,fim):\n",
        "              documento_original = lista.iloc[j]\n",
        "              documento = documento_original['documento']\n",
        "              lista_janela.append(\"P:\" + documento)\n",
        "\n",
        "  else:\n",
        "    print(\"Índice fora do intervalo da lista de passos.\")\n",
        "\n",
        "  return lista_janela, \" \".join(lista_janela)"
      ]
    },
    {
      "cell_type": "code",
      "source": [
        "# Import das bibliotecas.\n",
        "import pandas as pd\n",
        "\n",
        "tamanho_janela = 2\n",
        "lista = ['sentenca 0 ','sentenca 1 ','sentenca 2 ','sentenca 3 ','sentenca 4 ',\n",
        "         'sentenca 5 ','sentenca 6 ','sentenca 7 ','sentenca 8 ','sentenca 9 ',]\n",
        "\n",
        "print(\"Conjunto: \", lista)\n",
        "print(\"A-anterior ao centro, P-posterior ao centro.\")\n",
        "print(\"Tamanho janela mínima:\", (tamanho_janela+1), \" e máxima:\", (tamanho_janela*2+1))\n",
        "\n",
        "lista = pd.DataFrame(lista, columns = [\"documento\"])\n",
        "\n",
        "for i, x in lista.iterrows():\n",
        "\n",
        "  lista_janela, string_janela = getJanelaSentenca(lista, tamanho_janela, i)\n",
        "  print(i, lista_janela)\n",
        "  #print(string_janela)"
      ],
      "metadata": {
        "colab": {
          "base_uri": "https://localhost:8080/"
        },
        "id": "QU_g3-c31H3A",
        "outputId": "bfdbed07-78bc-450f-aac8-ae28820a937a"
      },
      "execution_count": null,
      "outputs": [
        {
          "output_type": "stream",
          "name": "stdout",
          "text": [
            "Conjunto:  ['sentenca 0 ', 'sentenca 1 ', 'sentenca 2 ', 'sentenca 3 ', 'sentenca 4 ', 'sentenca 5 ', 'sentenca 6 ', 'sentenca 7 ', 'sentenca 8 ', 'sentenca 9 ']\n",
            "A-anterior ao centro, P-posterior ao centro.\n",
            "Tamanho janela mínima: 3  e máxima: 5\n",
            "0 ['C:sentenca 0 ', 'P:sentenca 1 ', 'P:sentenca 2 ']\n",
            "1 ['A:sentenca 0 ', 'C:sentenca 1 ', 'P:sentenca 2 ', 'P:sentenca 3 ']\n",
            "2 ['A:sentenca 0 ', 'A:sentenca 1 ', 'C:sentenca 2 ', 'P:sentenca 3 ', 'P:sentenca 4 ']\n",
            "3 ['A:sentenca 1 ', 'A:sentenca 2 ', 'C:sentenca 3 ', 'P:sentenca 4 ', 'P:sentenca 5 ']\n",
            "4 ['A:sentenca 2 ', 'A:sentenca 3 ', 'C:sentenca 4 ', 'P:sentenca 5 ', 'P:sentenca 6 ']\n",
            "5 ['A:sentenca 3 ', 'A:sentenca 4 ', 'C:sentenca 5 ', 'P:sentenca 6 ', 'P:sentenca 7 ']\n",
            "6 ['A:sentenca 4 ', 'A:sentenca 5 ', 'C:sentenca 6 ', 'P:sentenca 7 ', 'P:sentenca 8 ']\n",
            "7 ['A:sentenca 5 ', 'A:sentenca 6 ', 'C:sentenca 7 ', 'P:sentenca 8 ', 'P:sentenca 9 ']\n",
            "8 ['A:sentenca 6 ', 'A:sentenca 7 ', 'C:sentenca 8 ', 'P:sentenca 9 ']\n",
            "9 ['A:sentenca 7 ', 'A:sentenca 8 ', 'C:sentenca 9 ']\n"
          ]
        }
      ]
    },
    {
      "cell_type": "markdown",
      "source": [
        "## Função janela deslizante\n",
        "\n",
        "\n",
        "Este código com base no anterior constroi a janela, mas não considera o passo.\n",
        "\n",
        "**Adicionar o passo**\n",
        "\n",
        "O exemplo abaixo possui:\n",
        "- janela = 5\n",
        "- passo = 1 //Será necessário testar com valores diferentes de 1\n",
        "\n",
        "\n",
        "Saida desejada\n",
        "\n",
        "- antes\n",
        "  - se for o primeiro elemento(1) vai existir 0 elementos antes e 2 elementos depois(2,3)\n",
        "    - centro: 0  valor: 1   [1, 2, 3]\n",
        "  - se for o segundo elemento(2) vai existir 1 elemento antes(1) e 2 elementos depois(3,4)\n",
        "    - centro: 1  valor: 2   [1, 2, 3, 4]\n",
        "\n",
        "- central\n",
        "  - se não for o primeiro ou o segundo elemento vai existir sempre dois elementos antes e depois.\n",
        "  - se não for o ultimo ou o penultimo elemento vai existir sempre dois elementos antes e depois.\n",
        "\n",
        "  - centro: 2  valor: 3   [1, 2, 3, 4, 5]\n",
        "  - centro: 3  valor: 4   [2, 3, 4, 5, 6]\n",
        "  - centro: 4  valor: 5   [3, 4, 5, 6, 7]\n",
        "  - centro: 5  valor: 6   [4, 5, 6, 7, 8]\n",
        "  - centro: 6  valor: 7   [5, 6, 7, 8, 9]\n",
        "  - centro: 7  valor: 8   [6, 7, 8, 9, 10]\n",
        "\n",
        "- depois\n",
        "  - se for o penultimo elemento(9) vai existir 1 elementos antes(8) e 2 elementos depois(9,10)\n",
        "    - centro: 8  valor: 9   [7, 8, 9, 10]\n",
        "  - se for o ultimo elemento(10) vai existir 2 elementos antes(8,9) e 0 elementos depois\n",
        "    - centro: 9  valor: 10  [8, 9, 10]\n",
        "\n",
        "  Resultado\n",
        "  - centro: 0  valor: 1   [**1**, 2, 3]\n",
        "  - centro: 1  valor: 2   [1, **2**, 3, 4]\n",
        "  - centro: 2  valor: 3   [1, 2, **3**, 4, 5]\n",
        "  - centro: 3  valor: 4   [2, 3, **4**, 5, 6]\n",
        "  - centro: 4  valor: 5   [3, 4, **5**, 6, 7]\n",
        "  - centro: 5  valor: 6   [4, 5, **6**, 7, 8]\n",
        "  - centro: 6  valor: 7   [5, 6, **7**, 8, 9]\n",
        "  - centro: 7  valor: 8   [6, 7, **8**, 9, 10]\n",
        "  - centro: 8  valor: 9   [7, 8, **9**, 10]\n",
        "  - centro: 9  valor: 10  [8, 9, **10**]"
      ],
      "metadata": {
        "id": "Jfx29EDi1-6u"
      }
    },
    {
      "cell_type": "code",
      "source": [
        "def gerarJanela1(lista, tamanho_janela):\n",
        "  \"\"\"\n",
        "    passo ainda não está sendo utilizado.\n",
        "  \"\"\"\n",
        "  janela_resultante = []\n",
        "\n",
        "  if len(lista) <= tamanho_janela:\n",
        "    return lista\n",
        "\n",
        "  qtdePassos = len(lista) - tamanho_janela + 1\n",
        "\n",
        "  for i in range(0, qtdePassos):\n",
        "\n",
        "    centro = int((i+i+tamanho_janela)/2)\n",
        "    # print(i, \"= centro:\", centro, \" valor:\", lista[centro], \" \" , lista[i:i+tamanho_janela])\n",
        "    janela_resultante.append(lista[i:i+tamanho_janela])\n",
        "\n",
        "  return janela_resultante"
      ],
      "metadata": {
        "id": "2MwBl_Lav9At"
      },
      "execution_count": null,
      "outputs": []
    },
    {
      "cell_type": "code",
      "source": [
        "lista = [1,2,3,4,5,6,7,8,9,10]\n",
        "tamanho_janela = 3\n",
        "\n",
        "print(\"Documento:\", lista)\n",
        "print(\"Tamanho janela mínima:\", (tamanho_janela), \" máxima:\", (tamanho_janela))\n",
        "print(\"Janelas:\")\n",
        "\n",
        "lista_janela = gerarJanela1(lista, tamanho_janela)\n",
        "\n",
        "for janela in lista_janela:\n",
        "  print(janela)"
      ],
      "metadata": {
        "colab": {
          "base_uri": "https://localhost:8080/"
        },
        "id": "qyg-owIsP3i4",
        "outputId": "6f7d12b6-3981-4347-e463-ca5f7d99b0e4"
      },
      "execution_count": null,
      "outputs": [
        {
          "output_type": "stream",
          "name": "stdout",
          "text": [
            "Documento: [1, 2, 3, 4, 5, 6, 7, 8, 9, 10]\n",
            "Tamanho janela mínima: 3  máxima: 3\n",
            "Janelas:\n",
            "[1, 2, 3]\n",
            "[2, 3, 4]\n",
            "[3, 4, 5]\n",
            "[4, 5, 6]\n",
            "[5, 6, 7]\n",
            "[6, 7, 8]\n",
            "[7, 8, 9]\n",
            "[8, 9, 10]\n"
          ]
        }
      ]
    },
    {
      "cell_type": "markdown",
      "source": [
        "## Função janela deslizante"
      ],
      "metadata": {
        "id": "pC4O7loNhGM5"
      }
    },
    {
      "cell_type": "code",
      "source": [
        "# Com janela\n",
        "def gerarJanela2(lista, tamanho_janela=2):\n",
        "\n",
        "    if len(lista) <= tamanho_janela:\n",
        "      return lista\n",
        "\n",
        "    janela_resultante = []\n",
        "\n",
        "    for i in range(len(lista)):\n",
        "        # Recupera a janela\n",
        "        janela = lista[i: i + tamanho_janela]\n",
        "\n",
        "        # Guarda somente janelas de um mesmo tamanho\n",
        "        if len(janela) == tamanho_janela:\n",
        "          janela_resultante.append(janela)\n",
        "\n",
        "    return janela_resultante"
      ],
      "metadata": {
        "id": "7x5YZ0jIhJ2f"
      },
      "execution_count": null,
      "outputs": []
    },
    {
      "cell_type": "code",
      "source": [
        "tamanho_janela = 3\n",
        "lista = [1,2,3,4,5,6,7,8,9,10]\n",
        "lista_janela = gerarJanela2(lista, tamanho_janela)\n",
        "\n",
        "print(\"Documento: \", lista)\n",
        "print(\"Tamanho janela mínima:\", (tamanho_janela+1), \" máxima:\", (tamanho_janela*2+1))\n",
        "print(\"Janelas:\")\n",
        "\n",
        "for janela in lista_janela:\n",
        "  print(janela)"
      ],
      "metadata": {
        "colab": {
          "base_uri": "https://localhost:8080/"
        },
        "id": "l7yNsoaXhNbP",
        "outputId": "9e776825-934d-4ba0-9ad1-45953286c4a0"
      },
      "execution_count": null,
      "outputs": [
        {
          "output_type": "stream",
          "name": "stdout",
          "text": [
            "Documento:  [1, 2, 3, 4, 5, 6, 7, 8, 9, 10]\n",
            "Tamanho janela mínima: 4  máxima: 7\n",
            "Janelas:\n",
            "[1, 2, 3]\n",
            "[2, 3, 4]\n",
            "[3, 4, 5]\n",
            "[4, 5, 6]\n",
            "[5, 6, 7]\n",
            "[6, 7, 8]\n",
            "[7, 8, 9]\n",
            "[8, 9, 10]\n"
          ]
        }
      ]
    }
  ]
}