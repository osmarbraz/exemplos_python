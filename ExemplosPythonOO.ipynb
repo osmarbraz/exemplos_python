{
  "nbformat": 4,
  "nbformat_minor": 0,
  "metadata": {
    "colab": {
      "provenance": [],
      "toc_visible": true,
      "authorship_tag": "ABX9TyOZFRO3MwwCo+BUGebF2n3/",
      "include_colab_link": true
    },
    "kernelspec": {
      "name": "python3",
      "display_name": "Python 3"
    },
    "language_info": {
      "name": "python"
    }
  },
  "cells": [
    {
      "cell_type": "markdown",
      "metadata": {
        "id": "view-in-github",
        "colab_type": "text"
      },
      "source": [
        "<a href=\"https://colab.research.google.com/github/osmarbraz/exemplos_python/blob/master/ExemplosPythonOO.ipynb\" target=\"_parent\"><img src=\"https://colab.research.google.com/assets/colab-badge.svg\" alt=\"Open In Colab\"/></a>"
      ]
    },
    {
      "cell_type": "markdown",
      "source": [
        "# Orientação a objetos em Python"
      ],
      "metadata": {
        "id": "a4lQRXH8sq0J"
      }
    },
    {
      "cell_type": "markdown",
      "source": [
        "## Classes Simples"
      ],
      "metadata": {
        "id": "5_rOYXQ7w5hE"
      }
    },
    {
      "cell_type": "markdown",
      "source": [
        "### Com atributos públicos"
      ],
      "metadata": {
        "id": "Wa3x3Znboq4H"
      }
    },
    {
      "cell_type": "code",
      "execution_count": 1,
      "metadata": {
        "id": "kJhpLYAxTAlx"
      },
      "outputs": [],
      "source": [
        "class Triangulo:\n",
        "\n",
        "    # Construtor da classe sem parâmetros\n",
        "    def __init__(self):\n",
        "        self.base = 0.0\n",
        "        self.altura = 0.0\n",
        "\n",
        "    # Construtor da classe com parâmetros\n",
        "    def __init__(self, base, altura):\n",
        "        self.base = base\n",
        "        self.altura = altura\n",
        "\n",
        "    def getArea(self):\n",
        "        return (self.base * self.altura)/2.0\n",
        "\n",
        "    #def __del__ (self):\n",
        "      # corpo do destruidor"
      ]
    },
    {
      "cell_type": "markdown",
      "source": [
        "Programa principal"
      ],
      "metadata": {
        "id": "Dakau6hHs8wW"
      }
    },
    {
      "cell_type": "code",
      "source": [
        "# Declara e instância um objeto da classe Triângulo\n",
        "tri1 = Triangulo(5, 7)\n",
        "\n",
        "print(\"Base do triângulo:\", tri1.base)\n",
        "print(\"Altura do triângulo:\", tri1.altura)\n",
        "print(\"Area do triangulo :\", tri1.getArea())"
      ],
      "metadata": {
        "colab": {
          "base_uri": "https://localhost:8080/"
        },
        "id": "HEMkh9udTVU8",
        "outputId": "1bd0dccd-20d0-4cc8-fd9d-60632997ade3"
      },
      "execution_count": 2,
      "outputs": [
        {
          "output_type": "stream",
          "name": "stdout",
          "text": [
            "Base do triângulo: 5\n",
            "Altura do triângulo: 7\n",
            "Area do triangulo : 17.5\n"
          ]
        }
      ]
    },
    {
      "cell_type": "markdown",
      "source": [
        "### Com atributos privados usando \"__\""
      ],
      "metadata": {
        "id": "6UdKM6rEoux0"
      }
    },
    {
      "cell_type": "code",
      "execution_count": 3,
      "metadata": {
        "id": "dQWCkCVlowVy"
      },
      "outputs": [],
      "source": [
        "class Triangulo:\n",
        "\n",
        "    # Construtor da classe sem parâmetros\n",
        "    def __init__(self):\n",
        "        self.__base = 0.0\n",
        "        self.__altura = 0.0\n",
        "\n",
        "    # Construtor da classe com parâmetros\n",
        "    def __init__(self, base, altura):\n",
        "        self.__base = base\n",
        "        self.__altura = altura\n",
        "\n",
        "    # Get's e set's\n",
        "    def getBase(self):\n",
        "        return self.__base\n",
        "\n",
        "    def setBase(self, base):\n",
        "        self.__base = base\n",
        "\n",
        "    def getAltura(self):\n",
        "        return self.__altura\n",
        "\n",
        "    def setAltura(self, altura):\n",
        "        self.__altura = altura\n",
        "\n",
        "    def getArea(self):\n",
        "        return (self.__base * self.__altura)/2.0\n",
        "\n",
        "    #def __del__ (self):\n",
        "      # corpo do destruidor"
      ]
    },
    {
      "cell_type": "markdown",
      "source": [
        "Programa principal"
      ],
      "metadata": {
        "id": "I9-fbpRXtCrG"
      }
    },
    {
      "cell_type": "code",
      "source": [
        "# Declara e instância um objeto da classe Triângulo\n",
        "tri1 = Triangulo(5, 7)\n",
        "\n",
        "print(\"Base do triângulo:\", tri1.getBase())\n",
        "print(\"Altura do triângulo:\", tri1.getAltura())\n",
        "print(\"Area do triangulo :\", tri1.getArea())"
      ],
      "metadata": {
        "colab": {
          "base_uri": "https://localhost:8080/"
        },
        "outputId": "33438dd9-934c-4136-cabe-8979a2940603",
        "id": "40wlHcJOowV0"
      },
      "execution_count": 4,
      "outputs": [
        {
          "output_type": "stream",
          "name": "stdout",
          "text": [
            "Base do triângulo: 5\n",
            "Altura do triângulo: 7\n",
            "Area do triangulo : 17.5\n"
          ]
        }
      ]
    },
    {
      "cell_type": "markdown",
      "source": [
        "### Fazendo get's e set's com @property"
      ],
      "metadata": {
        "id": "ha9ptiRepqGa"
      }
    },
    {
      "cell_type": "code",
      "execution_count": 5,
      "metadata": {
        "id": "lO5iV_MxpqGe"
      },
      "outputs": [],
      "source": [
        "class Triangulo:\n",
        "\n",
        "    # Construtor da classe sem parâmetros\n",
        "    def __init__(self):\n",
        "        self._base = 0.0\n",
        "        self._altura = 0.0\n",
        "\n",
        "    # Construtor da classe com parâmetros\n",
        "    def __init__(self, base, altura):\n",
        "        self._base = base\n",
        "        self._altura = altura\n",
        "\n",
        "    # Get's e set's\n",
        "    @property\n",
        "    def base(self):\n",
        "        return self._base\n",
        "\n",
        "    @base.setter\n",
        "    def base(self, base):\n",
        "        self._base = base\n",
        "\n",
        "    @property\n",
        "    def altura(self):\n",
        "        return self._altura\n",
        "\n",
        "    @altura.setter\n",
        "    def altura(self, altura):\n",
        "        self._altura = altura\n",
        "\n",
        "    @property\n",
        "    def area(self):\n",
        "        return (self._base * self._altura)/2.0\n",
        "\n",
        "    #def __del__ (self):\n",
        "      # corpo do destruidor"
      ]
    },
    {
      "cell_type": "markdown",
      "source": [
        "Programa principal"
      ],
      "metadata": {
        "id": "rCFU3ILAtNet"
      }
    },
    {
      "cell_type": "code",
      "source": [
        "# Declara e instância um objeto da classe Triângulo\n",
        "tri1 = Triangulo(5, 7)\n",
        "\n",
        "print(\"Base do triângulo:\", tri1.base)\n",
        "print(\"Altura do triângulo:\", tri1.altura)\n",
        "print(\"Area do triangulo :\", tri1.area)"
      ],
      "metadata": {
        "colab": {
          "base_uri": "https://localhost:8080/"
        },
        "outputId": "99af178e-920b-45bf-e0b3-d16e1eb58518",
        "id": "mz8m9HTCpqGe"
      },
      "execution_count": 6,
      "outputs": [
        {
          "output_type": "stream",
          "name": "stdout",
          "text": [
            "Base do triângulo: 5\n",
            "Altura do triângulo: 7\n",
            "Area do triangulo : 17.5\n"
          ]
        }
      ]
    },
    {
      "cell_type": "markdown",
      "source": [
        "## Herança"
      ],
      "metadata": {
        "id": "79bcFjXXst81"
      }
    },
    {
      "cell_type": "markdown",
      "source": [
        "Superclasse"
      ],
      "metadata": {
        "id": "hqexKuHIunHA"
      }
    },
    {
      "cell_type": "code",
      "source": [
        "class FiguraGeometrica:\n",
        "\n",
        "    # Construtor da classe sem parâmetros\n",
        "    def __init__(self):\n",
        "        self.__cor = \"\"\n",
        "\n",
        "    # Construtor da classe com parâmetros\n",
        "    def __init__(self, cor):\n",
        "        self.__cor = cor\n",
        "\n",
        "    # Get's e set's\n",
        "    def getCor(self):\n",
        "        return self.__cor\n",
        "\n",
        "    def setCor(self, cor):\n",
        "        self.__cor = cor\n",
        "\n",
        "    def getArea(self):\n",
        "        return 0\n",
        "\n",
        "    #def __del__ (self):\n",
        "      # corpo do destruidor"
      ],
      "metadata": {
        "id": "8v80AVEfupfJ"
      },
      "execution_count": 7,
      "outputs": []
    },
    {
      "cell_type": "markdown",
      "source": [
        "Subclasse Triângulo"
      ],
      "metadata": {
        "id": "hef9hOveup1X"
      }
    },
    {
      "cell_type": "code",
      "source": [
        "class Triangulo(FiguraGeometrica):\n",
        "\n",
        "    # Construtor da classe sem parâmetros\n",
        "    def __init__(self):\n",
        "        # Chama o construtor da superclasse\n",
        "        super().__init__()\n",
        "        self.__base = 0.0\n",
        "        self.__altura = 0.0\n",
        "\n",
        "    # Construtor da classe com parâmetros\n",
        "    def __init__(self, cor, base, altura):\n",
        "        # Chama o construtor da superclasse\n",
        "        super().__init__(cor)\n",
        "        self.__base = base\n",
        "        self.__altura = altura\n",
        "\n",
        "    # Get's e set's\n",
        "    def getBase(self):\n",
        "        return self.__base\n",
        "\n",
        "    def setBase(self, base):\n",
        "        self.__base = base\n",
        "\n",
        "    def getAltura(self):\n",
        "        return self.__altura\n",
        "\n",
        "    def setAltura(self, altura):\n",
        "        self.__altura = altura\n",
        "\n",
        "    def getArea(self):\n",
        "        return (self.__base * self.__altura)/2.0\n",
        "\n",
        "    #def __del__ (self):\n",
        "      # corpo do destruidor"
      ],
      "metadata": {
        "id": "LoRMpxOwunXB"
      },
      "execution_count": 8,
      "outputs": []
    },
    {
      "cell_type": "markdown",
      "source": [
        "Subclasse Círculo"
      ],
      "metadata": {
        "id": "aFYHtAVeurcp"
      }
    },
    {
      "cell_type": "code",
      "source": [
        "import math\n",
        "\n",
        "class Circulo(FiguraGeometrica):\n",
        "\n",
        "    # Construtor da classe sem parâmetros\n",
        "    def __init__(self):\n",
        "        # Chama o construtor da superclasse\n",
        "        super().__init__()\n",
        "        self.__raio = 0.0\n",
        "\n",
        "    # Construtor da classe com parâmetros\n",
        "    def __init__(self, cor, raio):\n",
        "        # Chama o construtor da superclasse\n",
        "        super().__init__(cor)\n",
        "        self.__raio = raio\n",
        "\n",
        "    # Get's e set's\n",
        "    def getRaio(self):\n",
        "        return self.__raio\n",
        "\n",
        "    def setRaio(self, raio):\n",
        "        self.__raio = raio\n",
        "\n",
        "    def getArea(self):\n",
        "        return (math.pi * self.__raio ** 2)\n",
        "\n",
        "    #def __del__ (self):\n",
        "      # corpo do destruidor"
      ],
      "metadata": {
        "id": "C29J9u61urlI"
      },
      "execution_count": 9,
      "outputs": []
    },
    {
      "cell_type": "markdown",
      "source": [
        "Programa principal"
      ],
      "metadata": {
        "id": "0wsVKJIewBg5"
      }
    },
    {
      "cell_type": "code",
      "source": [
        "# Declara e instância um objeto da classe Triângulo\n",
        "tri1 = Triangulo(\"branco\", 5, 7)\n",
        "\n",
        "print(\"Cor do triângulo:\", tri1.getCor())\n",
        "print(\"Base do triângulo:\", tri1.getBase())\n",
        "print(\"Altura do triângulo:\", tri1.getAltura())\n",
        "print(\"Area do triangulo :\", tri1.getArea())\n",
        "\n",
        "# Declara e instância um objeto da classe Círculo\n",
        "cir1 = Circulo(\"amarelo\", 5)\n",
        "\n",
        "print(\"Cor do círculo:\", cir1.getCor())\n",
        "print(\"Raio do círculo:\", cir1.getRaio())\n",
        "print(\"Area do círculo :\", cir1.getArea())"
      ],
      "metadata": {
        "colab": {
          "base_uri": "https://localhost:8080/"
        },
        "id": "TYNnxgGBwCxb",
        "outputId": "cddf86a5-c13e-4c90-92db-b02304ee3b35"
      },
      "execution_count": 10,
      "outputs": [
        {
          "output_type": "stream",
          "name": "stdout",
          "text": [
            "Cor do triângulo: branco\n",
            "Base do triângulo: 5\n",
            "Altura do triângulo: 7\n",
            "Area do triangulo : 17.5\n",
            "Cor do círculo: amarelo\n",
            "Raio do círculo: 5\n",
            "Area do círculo : 78.53981633974483\n"
          ]
        }
      ]
    },
    {
      "cell_type": "markdown",
      "source": [
        "## Polimorfismo"
      ],
      "metadata": {
        "id": "daypivdTx2IQ"
      }
    },
    {
      "cell_type": "markdown",
      "source": [
        "Superclasse\n",
        "\n",
        "Detalhes\n",
        "- ABC: é uma classe do módulo abc (Abstract Base Classes) que serve como base para a definição de classes abstratas em Python.\n",
        "- abstractmethod: é um decorador que indica que o método que o segue é abstrato e deve ser implementado pelas classes filhas.\n",
        "- metodo_abstrato: é um método abstrato que deve ser implementado pelas classes filhas. O corpo do método é vazio, já que a implementação deve ser feita pelas classes filhas."
      ],
      "metadata": {
        "id": "JX8Lt3_xx7KZ"
      }
    },
    {
      "cell_type": "code",
      "source": [
        "from abc import ABC, abstractmethod\n",
        "\n",
        "class FiguraGeometrica(ABC):\n",
        "\n",
        "    # Construtor da classe sem parâmetros\n",
        "    def __init__(self):\n",
        "        self.__cor = \"\"\n",
        "\n",
        "    # Construtor da classe com parâmetros\n",
        "    def __init__(self, cor):\n",
        "        self.__cor = cor\n",
        "\n",
        "    # Get's e set's\n",
        "    def getCor(self):\n",
        "        return self.__cor\n",
        "\n",
        "    def setCor(self, cor):\n",
        "        self.__cor = cor\n",
        "\n",
        "    @abstractmethod\n",
        "    def getArea(self):\n",
        "        pass\n",
        "\n",
        "    #def __del__ (self):\n",
        "      # corpo do destruidor"
      ],
      "metadata": {
        "id": "OMxmsbsQx7KZ"
      },
      "execution_count": 11,
      "outputs": []
    },
    {
      "cell_type": "markdown",
      "source": [
        "Subclasse Triângulo"
      ],
      "metadata": {
        "id": "U_lUDHSnx7Ka"
      }
    },
    {
      "cell_type": "code",
      "source": [
        "class Triangulo(FiguraGeometrica):\n",
        "\n",
        "    # Construtor da classe sem parâmetros\n",
        "    def __init__(self):\n",
        "        # Chama o construtor da superclasse\n",
        "        super().__init__()\n",
        "        self.__base = 0.0\n",
        "        self.__altura = 0.0\n",
        "\n",
        "    # Construtor da classe com parâmetros\n",
        "    def __init__(self, cor, base, altura):\n",
        "        # Chama o construtor da superclasse\n",
        "        super().__init__(cor)\n",
        "        self.__base = base\n",
        "        self.__altura = altura\n",
        "\n",
        "    # Get's e set's\n",
        "    def getBase(self):\n",
        "        return self.__base\n",
        "\n",
        "    def setBase(self, base):\n",
        "        self.__base = base\n",
        "\n",
        "    def getAltura(self):\n",
        "        return self.__altura\n",
        "\n",
        "    def setAltura(self, altura):\n",
        "        self.__altura = altura\n",
        "\n",
        "    def getArea(self):\n",
        "        return (self.__base * self.__altura)/2.0\n",
        "\n",
        "    #def __del__ (self):\n",
        "      # corpo do destruidor"
      ],
      "metadata": {
        "id": "NTqmTiK2x7Ka"
      },
      "execution_count": 12,
      "outputs": []
    },
    {
      "cell_type": "markdown",
      "source": [
        "Subclasse Círculo"
      ],
      "metadata": {
        "id": "deITxFbrx7Ka"
      }
    },
    {
      "cell_type": "code",
      "source": [
        "import math\n",
        "\n",
        "class Circulo(FiguraGeometrica):\n",
        "\n",
        "    # Construtor da classe sem parâmetros\n",
        "    def __init__(self):\n",
        "        # Chama o construtor da superclasse\n",
        "        super().__init__()\n",
        "        self.__raio = 0.0\n",
        "\n",
        "    # Construtor da classe com parâmetros\n",
        "    def __init__(self, cor, raio):\n",
        "        # Chama o construtor da superclasse\n",
        "        super().__init__(cor)\n",
        "        self.__raio = raio\n",
        "\n",
        "    # Get's e set's\n",
        "    def getRaio(self):\n",
        "        return self.__raio\n",
        "\n",
        "    def setRaio(self, raio):\n",
        "        self.__raio = raio\n",
        "\n",
        "    def getArea(self):\n",
        "        return (math.pi * self.__raio ** 2)\n",
        "\n",
        "    #def __del__ (self):\n",
        "      # corpo do destruidor"
      ],
      "metadata": {
        "id": "RsQRLvjYx7Ka"
      },
      "execution_count": 13,
      "outputs": []
    },
    {
      "cell_type": "markdown",
      "source": [
        "Programa principal"
      ],
      "metadata": {
        "id": "isEOhTJQx7Kb"
      }
    },
    {
      "cell_type": "code",
      "source": [
        "# Declara e instância um objeto da classe Triângulo\n",
        "tri1 = Triangulo(\"branco\", 5, 7)\n",
        "\n",
        "print(\"Cor do triângulo:\", tri1.getCor())\n",
        "print(\"Base do triângulo:\", tri1.getBase())\n",
        "print(\"Altura do triângulo:\", tri1.getAltura())\n",
        "print(\"Area do triangulo :\", tri1.getArea())\n",
        "\n",
        "# Declara e instância um objeto da classe Círculo\n",
        "cir1 = Circulo(\"amarelo\", 5)\n",
        "\n",
        "print(\"Cor do círculo:\", cir1.getCor())\n",
        "print(\"Raio do círculo:\", cir1.getRaio())\n",
        "print(\"Area do círculo :\", cir1.getArea())"
      ],
      "metadata": {
        "colab": {
          "base_uri": "https://localhost:8080/"
        },
        "outputId": "e2777d68-169a-4a8d-ff9a-bd6833c2c307",
        "id": "wPKYDyLBx7Kb"
      },
      "execution_count": 14,
      "outputs": [
        {
          "output_type": "stream",
          "name": "stdout",
          "text": [
            "Cor do triângulo: branco\n",
            "Base do triângulo: 5\n",
            "Altura do triângulo: 7\n",
            "Area do triangulo : 17.5\n",
            "Cor do círculo: amarelo\n",
            "Raio do círculo: 5\n",
            "Area do círculo : 78.53981633974483\n"
          ]
        }
      ]
    }
  ]
}