{
  "nbformat": 4,
  "nbformat_minor": 0,
  "metadata": {
    "colab": {
      "provenance": [],
      "toc_visible": true,
      "authorship_tag": "ABX9TyNKkaTxOBy4o+wpqPAEf09x",
      "include_colab_link": true
    },
    "kernelspec": {
      "name": "python3",
      "display_name": "Python 3"
    },
    "language_info": {
      "name": "python"
    }
  },
  "cells": [
    {
      "cell_type": "markdown",
      "metadata": {
        "id": "view-in-github",
        "colab_type": "text"
      },
      "source": [
        "<a href=\"https://colab.research.google.com/github/osmarbraz/exemplos_python/blob/master/ExemploPythonOutrasLinguagens.ipynb\" target=\"_parent\"><img src=\"https://colab.research.google.com/assets/colab-badge.svg\" alt=\"Open In Colab\"/></a>"
      ]
    },
    {
      "cell_type": "markdown",
      "metadata": {
        "id": "bMCusnNZdDeO"
      },
      "source": [
        "# Compilando usando git no Colab em liguagens de programação\n",
        "\n",
        "Originalmente, um Jupyter notebook foi desenvolvido para executar as linguagens Julia, Python e R. Nesta seção serão apresentados alguns exemplos de como podemos configurar o Colab para outras linguagens de programação  (C/C++, Java).\n",
        "\n",
        "Para compilar e executar é necessário instalar uma extensão executando os comandos a seguir."
      ]
    },
    {
      "cell_type": "markdown",
      "metadata": {
        "id": "OwIsdemibf3p"
      },
      "source": [
        "## **Configurando o Google Lab (colab)**\n",
        "O comando abaixo irá configurar esta seção do Colab para permitir executar outras linguagens de programação. Primeiro, execute a próxima célula. Posteriormente iremos mostrar como uma célula de código será configurada para uma determinada linguagem. Os padrões foram definidos pela a extensão proposta."
      ]
    },
    {
      "cell_type": "code",
      "metadata": {
        "id": "y_ZWVHXlY5cp",
        "colab": {
          "base_uri": "https://localhost:8080/"
        },
        "outputId": "f1245ed2-ebcb-425f-ad0d-de5776155ec4"
      },
      "source": [
        "!pip install git+git://github.com/canesche/nvcc4jupyter.git\n",
        "!git clone https://github.com/canesche/nvcc4jupyter\n",
        "%load_ext nvcc_plugin"
      ],
      "execution_count": null,
      "outputs": [
        {
          "output_type": "stream",
          "text": [
            "Collecting git+git://github.com/canesche/nvcc4jupyter.git\n",
            "  Cloning git://github.com/canesche/nvcc4jupyter.git to /tmp/pip-req-build-z3ptcewo\n",
            "  Running command git clone -q git://github.com/canesche/nvcc4jupyter.git /tmp/pip-req-build-z3ptcewo\n",
            "Building wheels for collected packages: ColabPlugin\n",
            "  Building wheel for ColabPlugin (setup.py) ... \u001b[?25l\u001b[?25hdone\n",
            "  Created wheel for ColabPlugin: filename=ColabPlugin-blind-cp37-none-any.whl size=12726 sha256=26a5d35a6b914d2264d46a4845430be7ac49c69a893bc48d5bee78fa3389f356\n",
            "  Stored in directory: /tmp/pip-ephem-wheel-cache-lnm815ls/wheels/87/ae/09/21c6e192181a0472e20ddd1d5212e2cbb113f00ebe14330d0d\n",
            "Successfully built ColabPlugin\n",
            "Installing collected packages: ColabPlugin\n",
            "Successfully installed ColabPlugin-blind\n",
            "Cloning into 'nvcc4jupyter'...\n",
            "remote: Enumerating objects: 1147, done.\u001b[K\n",
            "remote: Counting objects: 100% (362/362), done.\u001b[K\n",
            "remote: Compressing objects: 100% (271/271), done.\u001b[K\n",
            "remote: Total 1147 (delta 100), reused 328 (delta 74), pack-reused 785\u001b[K\n",
            "Receiving objects: 100% (1147/1147), 35.71 MiB | 20.21 MiB/s, done.\n",
            "Resolving deltas: 100% (554/554), done.\n"
          ],
          "name": "stdout"
        }
      ]
    },
    {
      "cell_type": "markdown",
      "metadata": {
        "id": "Zcs12fHBv-Dc"
      },
      "source": [
        "# Linguagens\n",
        "\n",
        "O Google Colaboratory é amplamente utilizado para executar código em Python\n",
        "com as bibliotecas e as ferramentas de aprendizado de máquina. O ambiente têm dois\n",
        "tipos de células: texto e código. Nativamente, a célula de código\n",
        "interpreta e executa Python. Os resultados podem ser visualizados logo abaixo da célula\n",
        "ao usar o comando print. Iremos começar nossas atividades, executando e compilando em C, C++ e Java. Nas próximas células iremos ilustrar como codificar, compilar e executar o produto escalar nas três linguagens. A primeira linha da célula de código deverá conter um comando que irá configurar a célula para C, C++ ou Java. A extensão utilizada neste laboratório introduz algumas palavras chaves para fazer uso dos compiladores já instalados no ambiente."
      ]
    },
    {
      "cell_type": "markdown",
      "metadata": {
        "id": "_odZntyFWjdD"
      },
      "source": [
        "## Linguagem C\n",
        "\n",
        "\n",
        "A primeira linha deve conter a palavra chave **%%gcc**. O código em C, a seguir, será compilado e o resultado será exibido logo a seguir."
      ]
    },
    {
      "cell_type": "code",
      "metadata": {
        "id": "EE5fPFoXWgx3",
        "colab": {
          "base_uri": "https://localhost:8080/"
        },
        "outputId": "2a68ef0c-ced5-4fe1-bc39-ee8099ba2fec"
      },
      "source": [
        "%%gcc\n",
        "#include <stdio.h>\n",
        "\n",
        "int scalar_product(int *v1, int *v2, int size)\n",
        "{\n",
        "    int sum = 0;\n",
        "    for (int i = 0; i < size; ++i)\n",
        "      sum += v1[i] * v2[i];\n",
        "    return sum;\n",
        "}\n",
        "\n",
        "int main()\n",
        "{\n",
        "    int n = 9;\n",
        "    int v1[n], v2[n];\n",
        "\n",
        "    for (int i = 0; i < n; ++i) {\n",
        "        v1[i] = i;\n",
        "        v2[i] = n-i;\n",
        "    }\n",
        "\n",
        "    printf(\"Results %d\", scalar_product(v1, v2, n));\n",
        "\n",
        "    return 0;\n",
        "}"
      ],
      "execution_count": null,
      "outputs": [
        {
          "output_type": "stream",
          "text": [
            "Results 120\n"
          ],
          "name": "stdout"
        }
      ]
    },
    {
      "cell_type": "markdown",
      "metadata": {
        "id": "cY3gb3XEZw7S"
      },
      "source": [
        "##Linguagem C++\n",
        "\n",
        "\n",
        "\n",
        "Para C++, a primeira linha deve conter a palavra chave %%cpp.\n"
      ]
    },
    {
      "cell_type": "code",
      "metadata": {
        "id": "LgFVrU2Oc-k4",
        "colab": {
          "base_uri": "https://localhost:8080/"
        },
        "outputId": "e131cdc8-c8c4-4e1a-e846-f0b808e41c53"
      },
      "source": [
        "%%cpp\n",
        "#include <iostream>\n",
        "using namespace std;\n",
        "\n",
        "int scalar_product(int *v1, int *v2, int size)\n",
        "{\n",
        "    int sum = 0;\n",
        "    for (int i = 0; i < size; ++i)\n",
        "      sum += v1[i] * v2[i];\n",
        "    return sum;\n",
        "}\n",
        "\n",
        "int main()\n",
        "{\n",
        "    int n = 10;\n",
        "    int v1[n], v2[n];\n",
        "\n",
        "    for (int i = 0; i < n; ++i) {\n",
        "        v1[i] = i;\n",
        "        v2[i] = n-i;\n",
        "    }\n",
        "\n",
        "    cout << \"Results \" << scalar_product(v1, v2, n) << endl;\n",
        "\n",
        "    return 0;\n",
        "}"
      ],
      "execution_count": null,
      "outputs": [
        {
          "output_type": "stream",
          "text": [
            "Results 165\n",
            "\n"
          ],
          "name": "stdout"
        }
      ]
    },
    {
      "cell_type": "markdown",
      "metadata": {
        "id": "jBtR5gWckPmj"
      },
      "source": [
        "## Linguagem Java\n",
        "\n",
        "\n",
        "\n",
        "Para Java, a primeira linha deve conter a palavra chave %%java."
      ]
    },
    {
      "cell_type": "code",
      "metadata": {
        "id": "UiwxfdOZkPz4",
        "colab": {
          "base_uri": "https://localhost:8080/"
        },
        "outputId": "ccbcd508-b4fe-43eb-fe3f-3b815aa2cf4e"
      },
      "source": [
        "%%java\n",
        "\n",
        "public class Scalar {\n",
        "    public static void scalar_product(int []v1, int []v2, int size){\n",
        "        int sum = 0;\n",
        "        for (int i = 0; i < size; ++i)\n",
        "          sum += v1[i] * v2[i];\n",
        "        System.out.println(\"Results \" + sum);\n",
        "    }\n",
        "\n",
        "    public static void main(String[] args) {\n",
        "        int n = 10;\n",
        "        int v1[] = new int[n];\n",
        "        int v2[] = new int[n];\n",
        "\n",
        "        for (int i = 0; i < n; ++i) {\n",
        "            v1[i] = i;\n",
        "            v2[i] = n-i;\n",
        "        }\n",
        "        scalar_product(v1, v2, n);\n",
        "    }\n",
        "}"
      ],
      "execution_count": null,
      "outputs": [
        {
          "output_type": "stream",
          "text": [
            "Results 165\n",
            "\n"
          ],
          "name": "stdout"
        }
      ]
    }
  ]
}