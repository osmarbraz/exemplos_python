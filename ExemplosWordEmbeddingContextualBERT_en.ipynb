{
  "nbformat": 4,
  "nbformat_minor": 0,
  "metadata": {
    "colab": {
      "name": "ExemplosWordEmbeddingContextualBERT_en.ipynb",
      "provenance": [],
      "collapsed_sections": [
        "mR7zTxeIk2ml"
      ],
      "toc_visible": true,
      "include_colab_link": true
    },
    "kernelspec": {
      "name": "python3",
      "display_name": "Python 3"
    },
    "widgets": {
      "application/vnd.jupyter.widget-state+json": {
        "21f24b3a539c48358ea8ba08853ab82c": {
          "model_module": "@jupyter-widgets/controls",
          "model_name": "HBoxModel",
          "state": {
            "_view_name": "HBoxView",
            "_dom_classes": [],
            "_model_name": "HBoxModel",
            "_view_module": "@jupyter-widgets/controls",
            "_model_module_version": "1.5.0",
            "_view_count": null,
            "_view_module_version": "1.5.0",
            "box_style": "",
            "layout": "IPY_MODEL_95708599a25e4fafb98fa4af293a33a6",
            "_model_module": "@jupyter-widgets/controls",
            "children": [
              "IPY_MODEL_827a4c4cdff7479fb3b732b6499cbc3d",
              "IPY_MODEL_3f0c885b2a324a02a34499d6daeb9352"
            ]
          }
        },
        "95708599a25e4fafb98fa4af293a33a6": {
          "model_module": "@jupyter-widgets/base",
          "model_name": "LayoutModel",
          "state": {
            "_view_name": "LayoutView",
            "grid_template_rows": null,
            "right": null,
            "justify_content": null,
            "_view_module": "@jupyter-widgets/base",
            "overflow": null,
            "_model_module_version": "1.2.0",
            "_view_count": null,
            "flex_flow": null,
            "width": null,
            "min_width": null,
            "border": null,
            "align_items": null,
            "bottom": null,
            "_model_module": "@jupyter-widgets/base",
            "top": null,
            "grid_column": null,
            "overflow_y": null,
            "overflow_x": null,
            "grid_auto_flow": null,
            "grid_area": null,
            "grid_template_columns": null,
            "flex": null,
            "_model_name": "LayoutModel",
            "justify_items": null,
            "grid_row": null,
            "max_height": null,
            "align_content": null,
            "visibility": null,
            "align_self": null,
            "height": null,
            "min_height": null,
            "padding": null,
            "grid_auto_rows": null,
            "grid_gap": null,
            "max_width": null,
            "order": null,
            "_view_module_version": "1.2.0",
            "grid_template_areas": null,
            "object_position": null,
            "object_fit": null,
            "grid_auto_columns": null,
            "margin": null,
            "display": null,
            "left": null
          }
        },
        "827a4c4cdff7479fb3b732b6499cbc3d": {
          "model_module": "@jupyter-widgets/controls",
          "model_name": "FloatProgressModel",
          "state": {
            "_view_name": "ProgressView",
            "style": "IPY_MODEL_6b7552f144394c42b4871882447811d5",
            "_dom_classes": [],
            "description": "Downloading: 100%",
            "_model_name": "FloatProgressModel",
            "bar_style": "success",
            "max": 231508,
            "_view_module": "@jupyter-widgets/controls",
            "_model_module_version": "1.5.0",
            "value": 231508,
            "_view_count": null,
            "_view_module_version": "1.5.0",
            "orientation": "horizontal",
            "min": 0,
            "description_tooltip": null,
            "_model_module": "@jupyter-widgets/controls",
            "layout": "IPY_MODEL_168d7fd1fc9c42fd88e45536621f642d"
          }
        },
        "3f0c885b2a324a02a34499d6daeb9352": {
          "model_module": "@jupyter-widgets/controls",
          "model_name": "HTMLModel",
          "state": {
            "_view_name": "HTMLView",
            "style": "IPY_MODEL_e45edcc90dc24f89b9cc1a4da66b23ff",
            "_dom_classes": [],
            "description": "",
            "_model_name": "HTMLModel",
            "placeholder": "​",
            "_view_module": "@jupyter-widgets/controls",
            "_model_module_version": "1.5.0",
            "value": " 232k/232k [00:00&lt;00:00, 590kB/s]",
            "_view_count": null,
            "_view_module_version": "1.5.0",
            "description_tooltip": null,
            "_model_module": "@jupyter-widgets/controls",
            "layout": "IPY_MODEL_91cbffb6c7d943f18e0de48cb749f084"
          }
        },
        "6b7552f144394c42b4871882447811d5": {
          "model_module": "@jupyter-widgets/controls",
          "model_name": "ProgressStyleModel",
          "state": {
            "_view_name": "StyleView",
            "_model_name": "ProgressStyleModel",
            "description_width": "initial",
            "_view_module": "@jupyter-widgets/base",
            "_model_module_version": "1.5.0",
            "_view_count": null,
            "_view_module_version": "1.2.0",
            "bar_color": null,
            "_model_module": "@jupyter-widgets/controls"
          }
        },
        "168d7fd1fc9c42fd88e45536621f642d": {
          "model_module": "@jupyter-widgets/base",
          "model_name": "LayoutModel",
          "state": {
            "_view_name": "LayoutView",
            "grid_template_rows": null,
            "right": null,
            "justify_content": null,
            "_view_module": "@jupyter-widgets/base",
            "overflow": null,
            "_model_module_version": "1.2.0",
            "_view_count": null,
            "flex_flow": null,
            "width": null,
            "min_width": null,
            "border": null,
            "align_items": null,
            "bottom": null,
            "_model_module": "@jupyter-widgets/base",
            "top": null,
            "grid_column": null,
            "overflow_y": null,
            "overflow_x": null,
            "grid_auto_flow": null,
            "grid_area": null,
            "grid_template_columns": null,
            "flex": null,
            "_model_name": "LayoutModel",
            "justify_items": null,
            "grid_row": null,
            "max_height": null,
            "align_content": null,
            "visibility": null,
            "align_self": null,
            "height": null,
            "min_height": null,
            "padding": null,
            "grid_auto_rows": null,
            "grid_gap": null,
            "max_width": null,
            "order": null,
            "_view_module_version": "1.2.0",
            "grid_template_areas": null,
            "object_position": null,
            "object_fit": null,
            "grid_auto_columns": null,
            "margin": null,
            "display": null,
            "left": null
          }
        },
        "e45edcc90dc24f89b9cc1a4da66b23ff": {
          "model_module": "@jupyter-widgets/controls",
          "model_name": "DescriptionStyleModel",
          "state": {
            "_view_name": "StyleView",
            "_model_name": "DescriptionStyleModel",
            "description_width": "",
            "_view_module": "@jupyter-widgets/base",
            "_model_module_version": "1.5.0",
            "_view_count": null,
            "_view_module_version": "1.2.0",
            "_model_module": "@jupyter-widgets/controls"
          }
        },
        "91cbffb6c7d943f18e0de48cb749f084": {
          "model_module": "@jupyter-widgets/base",
          "model_name": "LayoutModel",
          "state": {
            "_view_name": "LayoutView",
            "grid_template_rows": null,
            "right": null,
            "justify_content": null,
            "_view_module": "@jupyter-widgets/base",
            "overflow": null,
            "_model_module_version": "1.2.0",
            "_view_count": null,
            "flex_flow": null,
            "width": null,
            "min_width": null,
            "border": null,
            "align_items": null,
            "bottom": null,
            "_model_module": "@jupyter-widgets/base",
            "top": null,
            "grid_column": null,
            "overflow_y": null,
            "overflow_x": null,
            "grid_auto_flow": null,
            "grid_area": null,
            "grid_template_columns": null,
            "flex": null,
            "_model_name": "LayoutModel",
            "justify_items": null,
            "grid_row": null,
            "max_height": null,
            "align_content": null,
            "visibility": null,
            "align_self": null,
            "height": null,
            "min_height": null,
            "padding": null,
            "grid_auto_rows": null,
            "grid_gap": null,
            "max_width": null,
            "order": null,
            "_view_module_version": "1.2.0",
            "grid_template_areas": null,
            "object_position": null,
            "object_fit": null,
            "grid_auto_columns": null,
            "margin": null,
            "display": null,
            "left": null
          }
        },
        "eba8bfad8ac841149c7d5d40bf34b5c3": {
          "model_module": "@jupyter-widgets/controls",
          "model_name": "HBoxModel",
          "state": {
            "_view_name": "HBoxView",
            "_dom_classes": [],
            "_model_name": "HBoxModel",
            "_view_module": "@jupyter-widgets/controls",
            "_model_module_version": "1.5.0",
            "_view_count": null,
            "_view_module_version": "1.5.0",
            "box_style": "",
            "layout": "IPY_MODEL_87d5386a7c124d4c85a931cf4fb84671",
            "_model_module": "@jupyter-widgets/controls",
            "children": [
              "IPY_MODEL_6ff0e22a7d094f55837782c640658269",
              "IPY_MODEL_17516e4c39854567bc0238a63d6e262b"
            ]
          }
        },
        "87d5386a7c124d4c85a931cf4fb84671": {
          "model_module": "@jupyter-widgets/base",
          "model_name": "LayoutModel",
          "state": {
            "_view_name": "LayoutView",
            "grid_template_rows": null,
            "right": null,
            "justify_content": null,
            "_view_module": "@jupyter-widgets/base",
            "overflow": null,
            "_model_module_version": "1.2.0",
            "_view_count": null,
            "flex_flow": null,
            "width": null,
            "min_width": null,
            "border": null,
            "align_items": null,
            "bottom": null,
            "_model_module": "@jupyter-widgets/base",
            "top": null,
            "grid_column": null,
            "overflow_y": null,
            "overflow_x": null,
            "grid_auto_flow": null,
            "grid_area": null,
            "grid_template_columns": null,
            "flex": null,
            "_model_name": "LayoutModel",
            "justify_items": null,
            "grid_row": null,
            "max_height": null,
            "align_content": null,
            "visibility": null,
            "align_self": null,
            "height": null,
            "min_height": null,
            "padding": null,
            "grid_auto_rows": null,
            "grid_gap": null,
            "max_width": null,
            "order": null,
            "_view_module_version": "1.2.0",
            "grid_template_areas": null,
            "object_position": null,
            "object_fit": null,
            "grid_auto_columns": null,
            "margin": null,
            "display": null,
            "left": null
          }
        },
        "6ff0e22a7d094f55837782c640658269": {
          "model_module": "@jupyter-widgets/controls",
          "model_name": "FloatProgressModel",
          "state": {
            "_view_name": "ProgressView",
            "style": "IPY_MODEL_2428c732f9ee42608ea982c639aa43e8",
            "_dom_classes": [],
            "description": "Downloading: 100%",
            "_model_name": "FloatProgressModel",
            "bar_style": "success",
            "max": 434,
            "_view_module": "@jupyter-widgets/controls",
            "_model_module_version": "1.5.0",
            "value": 434,
            "_view_count": null,
            "_view_module_version": "1.5.0",
            "orientation": "horizontal",
            "min": 0,
            "description_tooltip": null,
            "_model_module": "@jupyter-widgets/controls",
            "layout": "IPY_MODEL_eb904e4b5f6c4ed388bed052e5f0a61a"
          }
        },
        "17516e4c39854567bc0238a63d6e262b": {
          "model_module": "@jupyter-widgets/controls",
          "model_name": "HTMLModel",
          "state": {
            "_view_name": "HTMLView",
            "style": "IPY_MODEL_7b726cfedbd148b286fa88e2639fff23",
            "_dom_classes": [],
            "description": "",
            "_model_name": "HTMLModel",
            "placeholder": "​",
            "_view_module": "@jupyter-widgets/controls",
            "_model_module_version": "1.5.0",
            "value": " 434/434 [00:00&lt;00:00, 873B/s]",
            "_view_count": null,
            "_view_module_version": "1.5.0",
            "description_tooltip": null,
            "_model_module": "@jupyter-widgets/controls",
            "layout": "IPY_MODEL_d721bdccf7f749c2ab6ca46751d851c9"
          }
        },
        "2428c732f9ee42608ea982c639aa43e8": {
          "model_module": "@jupyter-widgets/controls",
          "model_name": "ProgressStyleModel",
          "state": {
            "_view_name": "StyleView",
            "_model_name": "ProgressStyleModel",
            "description_width": "initial",
            "_view_module": "@jupyter-widgets/base",
            "_model_module_version": "1.5.0",
            "_view_count": null,
            "_view_module_version": "1.2.0",
            "bar_color": null,
            "_model_module": "@jupyter-widgets/controls"
          }
        },
        "eb904e4b5f6c4ed388bed052e5f0a61a": {
          "model_module": "@jupyter-widgets/base",
          "model_name": "LayoutModel",
          "state": {
            "_view_name": "LayoutView",
            "grid_template_rows": null,
            "right": null,
            "justify_content": null,
            "_view_module": "@jupyter-widgets/base",
            "overflow": null,
            "_model_module_version": "1.2.0",
            "_view_count": null,
            "flex_flow": null,
            "width": null,
            "min_width": null,
            "border": null,
            "align_items": null,
            "bottom": null,
            "_model_module": "@jupyter-widgets/base",
            "top": null,
            "grid_column": null,
            "overflow_y": null,
            "overflow_x": null,
            "grid_auto_flow": null,
            "grid_area": null,
            "grid_template_columns": null,
            "flex": null,
            "_model_name": "LayoutModel",
            "justify_items": null,
            "grid_row": null,
            "max_height": null,
            "align_content": null,
            "visibility": null,
            "align_self": null,
            "height": null,
            "min_height": null,
            "padding": null,
            "grid_auto_rows": null,
            "grid_gap": null,
            "max_width": null,
            "order": null,
            "_view_module_version": "1.2.0",
            "grid_template_areas": null,
            "object_position": null,
            "object_fit": null,
            "grid_auto_columns": null,
            "margin": null,
            "display": null,
            "left": null
          }
        },
        "7b726cfedbd148b286fa88e2639fff23": {
          "model_module": "@jupyter-widgets/controls",
          "model_name": "DescriptionStyleModel",
          "state": {
            "_view_name": "StyleView",
            "_model_name": "DescriptionStyleModel",
            "description_width": "",
            "_view_module": "@jupyter-widgets/base",
            "_model_module_version": "1.5.0",
            "_view_count": null,
            "_view_module_version": "1.2.0",
            "_model_module": "@jupyter-widgets/controls"
          }
        },
        "d721bdccf7f749c2ab6ca46751d851c9": {
          "model_module": "@jupyter-widgets/base",
          "model_name": "LayoutModel",
          "state": {
            "_view_name": "LayoutView",
            "grid_template_rows": null,
            "right": null,
            "justify_content": null,
            "_view_module": "@jupyter-widgets/base",
            "overflow": null,
            "_model_module_version": "1.2.0",
            "_view_count": null,
            "flex_flow": null,
            "width": null,
            "min_width": null,
            "border": null,
            "align_items": null,
            "bottom": null,
            "_model_module": "@jupyter-widgets/base",
            "top": null,
            "grid_column": null,
            "overflow_y": null,
            "overflow_x": null,
            "grid_auto_flow": null,
            "grid_area": null,
            "grid_template_columns": null,
            "flex": null,
            "_model_name": "LayoutModel",
            "justify_items": null,
            "grid_row": null,
            "max_height": null,
            "align_content": null,
            "visibility": null,
            "align_self": null,
            "height": null,
            "min_height": null,
            "padding": null,
            "grid_auto_rows": null,
            "grid_gap": null,
            "max_width": null,
            "order": null,
            "_view_module_version": "1.2.0",
            "grid_template_areas": null,
            "object_position": null,
            "object_fit": null,
            "grid_auto_columns": null,
            "margin": null,
            "display": null,
            "left": null
          }
        },
        "6fd1b8583b3c4a418fc2e9fcb239d0c2": {
          "model_module": "@jupyter-widgets/controls",
          "model_name": "HBoxModel",
          "state": {
            "_view_name": "HBoxView",
            "_dom_classes": [],
            "_model_name": "HBoxModel",
            "_view_module": "@jupyter-widgets/controls",
            "_model_module_version": "1.5.0",
            "_view_count": null,
            "_view_module_version": "1.5.0",
            "box_style": "",
            "layout": "IPY_MODEL_3b97a004035d4d2da039b6badf7c3abc",
            "_model_module": "@jupyter-widgets/controls",
            "children": [
              "IPY_MODEL_11eb18dc3e564ace809d638b82baeee4",
              "IPY_MODEL_69f272ed8dbd462ba0591cbf66abf381"
            ]
          }
        },
        "3b97a004035d4d2da039b6badf7c3abc": {
          "model_module": "@jupyter-widgets/base",
          "model_name": "LayoutModel",
          "state": {
            "_view_name": "LayoutView",
            "grid_template_rows": null,
            "right": null,
            "justify_content": null,
            "_view_module": "@jupyter-widgets/base",
            "overflow": null,
            "_model_module_version": "1.2.0",
            "_view_count": null,
            "flex_flow": null,
            "width": null,
            "min_width": null,
            "border": null,
            "align_items": null,
            "bottom": null,
            "_model_module": "@jupyter-widgets/base",
            "top": null,
            "grid_column": null,
            "overflow_y": null,
            "overflow_x": null,
            "grid_auto_flow": null,
            "grid_area": null,
            "grid_template_columns": null,
            "flex": null,
            "_model_name": "LayoutModel",
            "justify_items": null,
            "grid_row": null,
            "max_height": null,
            "align_content": null,
            "visibility": null,
            "align_self": null,
            "height": null,
            "min_height": null,
            "padding": null,
            "grid_auto_rows": null,
            "grid_gap": null,
            "max_width": null,
            "order": null,
            "_view_module_version": "1.2.0",
            "grid_template_areas": null,
            "object_position": null,
            "object_fit": null,
            "grid_auto_columns": null,
            "margin": null,
            "display": null,
            "left": null
          }
        },
        "11eb18dc3e564ace809d638b82baeee4": {
          "model_module": "@jupyter-widgets/controls",
          "model_name": "FloatProgressModel",
          "state": {
            "_view_name": "ProgressView",
            "style": "IPY_MODEL_a302bf68d2e24066955d5cef6540ab47",
            "_dom_classes": [],
            "description": "Downloading: 100%",
            "_model_name": "FloatProgressModel",
            "bar_style": "success",
            "max": 1344997306,
            "_view_module": "@jupyter-widgets/controls",
            "_model_module_version": "1.5.0",
            "value": 1344997306,
            "_view_count": null,
            "_view_module_version": "1.5.0",
            "orientation": "horizontal",
            "min": 0,
            "description_tooltip": null,
            "_model_module": "@jupyter-widgets/controls",
            "layout": "IPY_MODEL_c2ed16a4d6af4f5ead41dc41bde85061"
          }
        },
        "69f272ed8dbd462ba0591cbf66abf381": {
          "model_module": "@jupyter-widgets/controls",
          "model_name": "HTMLModel",
          "state": {
            "_view_name": "HTMLView",
            "style": "IPY_MODEL_232b0fbee8414d67a8da9de85417b57e",
            "_dom_classes": [],
            "description": "",
            "_model_name": "HTMLModel",
            "placeholder": "​",
            "_view_module": "@jupyter-widgets/controls",
            "_model_module_version": "1.5.0",
            "value": " 1.34G/1.34G [00:21&lt;00:00, 61.9MB/s]",
            "_view_count": null,
            "_view_module_version": "1.5.0",
            "description_tooltip": null,
            "_model_module": "@jupyter-widgets/controls",
            "layout": "IPY_MODEL_6ecd2b23b6a6463e9e771ebd63bb65e4"
          }
        },
        "a302bf68d2e24066955d5cef6540ab47": {
          "model_module": "@jupyter-widgets/controls",
          "model_name": "ProgressStyleModel",
          "state": {
            "_view_name": "StyleView",
            "_model_name": "ProgressStyleModel",
            "description_width": "initial",
            "_view_module": "@jupyter-widgets/base",
            "_model_module_version": "1.5.0",
            "_view_count": null,
            "_view_module_version": "1.2.0",
            "bar_color": null,
            "_model_module": "@jupyter-widgets/controls"
          }
        },
        "c2ed16a4d6af4f5ead41dc41bde85061": {
          "model_module": "@jupyter-widgets/base",
          "model_name": "LayoutModel",
          "state": {
            "_view_name": "LayoutView",
            "grid_template_rows": null,
            "right": null,
            "justify_content": null,
            "_view_module": "@jupyter-widgets/base",
            "overflow": null,
            "_model_module_version": "1.2.0",
            "_view_count": null,
            "flex_flow": null,
            "width": null,
            "min_width": null,
            "border": null,
            "align_items": null,
            "bottom": null,
            "_model_module": "@jupyter-widgets/base",
            "top": null,
            "grid_column": null,
            "overflow_y": null,
            "overflow_x": null,
            "grid_auto_flow": null,
            "grid_area": null,
            "grid_template_columns": null,
            "flex": null,
            "_model_name": "LayoutModel",
            "justify_items": null,
            "grid_row": null,
            "max_height": null,
            "align_content": null,
            "visibility": null,
            "align_self": null,
            "height": null,
            "min_height": null,
            "padding": null,
            "grid_auto_rows": null,
            "grid_gap": null,
            "max_width": null,
            "order": null,
            "_view_module_version": "1.2.0",
            "grid_template_areas": null,
            "object_position": null,
            "object_fit": null,
            "grid_auto_columns": null,
            "margin": null,
            "display": null,
            "left": null
          }
        },
        "232b0fbee8414d67a8da9de85417b57e": {
          "model_module": "@jupyter-widgets/controls",
          "model_name": "DescriptionStyleModel",
          "state": {
            "_view_name": "StyleView",
            "_model_name": "DescriptionStyleModel",
            "description_width": "",
            "_view_module": "@jupyter-widgets/base",
            "_model_module_version": "1.5.0",
            "_view_count": null,
            "_view_module_version": "1.2.0",
            "_model_module": "@jupyter-widgets/controls"
          }
        },
        "6ecd2b23b6a6463e9e771ebd63bb65e4": {
          "model_module": "@jupyter-widgets/base",
          "model_name": "LayoutModel",
          "state": {
            "_view_name": "LayoutView",
            "grid_template_rows": null,
            "right": null,
            "justify_content": null,
            "_view_module": "@jupyter-widgets/base",
            "overflow": null,
            "_model_module_version": "1.2.0",
            "_view_count": null,
            "flex_flow": null,
            "width": null,
            "min_width": null,
            "border": null,
            "align_items": null,
            "bottom": null,
            "_model_module": "@jupyter-widgets/base",
            "top": null,
            "grid_column": null,
            "overflow_y": null,
            "overflow_x": null,
            "grid_auto_flow": null,
            "grid_area": null,
            "grid_template_columns": null,
            "flex": null,
            "_model_name": "LayoutModel",
            "justify_items": null,
            "grid_row": null,
            "max_height": null,
            "align_content": null,
            "visibility": null,
            "align_self": null,
            "height": null,
            "min_height": null,
            "padding": null,
            "grid_auto_rows": null,
            "grid_gap": null,
            "max_width": null,
            "order": null,
            "_view_module_version": "1.2.0",
            "grid_template_areas": null,
            "object_position": null,
            "object_fit": null,
            "grid_auto_columns": null,
            "margin": null,
            "display": null,
            "left": null
          }
        }
      }
    }
  },
  "cells": [
    {
      "cell_type": "markdown",
      "metadata": {
        "id": "view-in-github",
        "colab_type": "text"
      },
      "source": [
        "<a href=\"https://colab.research.google.com/github/osmarbraz/exemplos_python/blob/master/ExemplosWordEmbeddingContextualBERT_en.ipynb\" target=\"_parent\"><img src=\"https://colab.research.google.com/assets/colab-badge.svg\" alt=\"Open In Colab\"/></a>"
      ]
    },
    {
      "cell_type": "markdown",
      "metadata": {
        "id": "78HE8FLsKN9Q"
      },
      "source": [
        "#Exemplo de Word Embeddings(en) Contextual usando BERT Transformers by HuggingFace\n",
        "\n",
        "## **A execução pode ser feita através do menu Ambiente de Execução opção Executar tudo.**\n",
        "\n",
        "Exemplos de uso de **Word Embeddings Contextuais** para **desambiguação** de palavras em frases. No final do notebook  estão os exemplos com as palavras:\n",
        "\n",
        "*   bank\n",
        "*   letter\n",
        "*   bass\n",
        "*   sign\n",
        "\n",
        "**Link biblioteca Huggingface:**\n",
        "https://github.com/huggingface/transformers\n",
        "\n",
        "\n",
        "**Artigo original BERT Jacob Devlin:**\n",
        "https://arxiv.org/pdf/1506.06724.pdf"
      ]
    },
    {
      "cell_type": "markdown",
      "metadata": {
        "id": "xyxb5Px3p1-e"
      },
      "source": [
        "## 0 - Preparação do ambiente\n",
        "Preparação do ambiente para execução do exemplo."
      ]
    },
    {
      "cell_type": "markdown",
      "metadata": {
        "id": "iAPVtRXQqDim"
      },
      "source": [
        "###Tratamento de logs\n",
        "\n",
        "Método para tratamento dos logs."
      ]
    },
    {
      "cell_type": "code",
      "metadata": {
        "id": "DcopxbGZqDip"
      },
      "source": [
        "#biblioteca de logging\n",
        "import logging\n",
        "\n",
        "#formatando a mensagem de logging\n",
        "logging.basicConfig(format='%(asctime)s : %(levelname)s : %(message)s', level=logging.INFO)"
      ],
      "execution_count": null,
      "outputs": []
    },
    {
      "cell_type": "markdown",
      "metadata": {
        "id": "_GjYtXcMnSAe"
      },
      "source": [
        "### Identificando o ambiente Colab\n",
        "\n",
        "Cria uma variável para identificar que o notebook está sendo executado no Google Colaboratory."
      ]
    },
    {
      "cell_type": "code",
      "metadata": {
        "id": "YMiH0E3OnRa1"
      },
      "source": [
        "#se estiver executando no Google Colaboratory\n",
        "import sys\n",
        "#retorna true ou false se estiver no Google Colaboratory\n",
        "IN_COLAB = 'google.colab' in sys.modules"
      ],
      "execution_count": null,
      "outputs": []
    },
    {
      "cell_type": "markdown",
      "metadata": {
        "id": "Pqa-7WXBAw8q"
      },
      "source": [
        "## 1 - Instalação BERT da Hugging Face"
      ]
    },
    {
      "cell_type": "markdown",
      "metadata": {
        "id": "eCdqJCtQN52l"
      },
      "source": [
        "Instala a interface pytorch para o BERT by Hugging Face. "
      ]
    },
    {
      "cell_type": "code",
      "metadata": {
        "id": "1RfUN_KolV-f",
        "colab": {
          "base_uri": "https://localhost:8080/"
        },
        "outputId": "34bff7df-ab61-4451-d29f-4d1b3995010b"
      },
      "source": [
        "!pip install transformers"
      ],
      "execution_count": null,
      "outputs": [
        {
          "output_type": "stream",
          "text": [
            "Collecting transformers\n",
            "\u001b[?25l  Downloading https://files.pythonhosted.org/packages/99/84/7bc03215279f603125d844bf81c3fb3f2d50fe8e511546eb4897e4be2067/transformers-4.0.0-py3-none-any.whl (1.4MB)\n",
            "\u001b[K     |████████████████████████████████| 1.4MB 13.0MB/s \n",
            "\u001b[?25hRequirement already satisfied: tqdm>=4.27 in /usr/local/lib/python3.6/dist-packages (from transformers) (4.41.1)\n",
            "Requirement already satisfied: dataclasses; python_version < \"3.7\" in /usr/local/lib/python3.6/dist-packages (from transformers) (0.8)\n",
            "Collecting sacremoses\n",
            "\u001b[?25l  Downloading https://files.pythonhosted.org/packages/7d/34/09d19aff26edcc8eb2a01bed8e98f13a1537005d31e95233fd48216eed10/sacremoses-0.0.43.tar.gz (883kB)\n",
            "\u001b[K     |████████████████████████████████| 890kB 46.2MB/s \n",
            "\u001b[?25hRequirement already satisfied: filelock in /usr/local/lib/python3.6/dist-packages (from transformers) (3.0.12)\n",
            "Requirement already satisfied: requests in /usr/local/lib/python3.6/dist-packages (from transformers) (2.23.0)\n",
            "Requirement already satisfied: packaging in /usr/local/lib/python3.6/dist-packages (from transformers) (20.4)\n",
            "Requirement already satisfied: regex!=2019.12.17 in /usr/local/lib/python3.6/dist-packages (from transformers) (2019.12.20)\n",
            "Requirement already satisfied: numpy in /usr/local/lib/python3.6/dist-packages (from transformers) (1.18.5)\n",
            "Collecting tokenizers==0.9.4\n",
            "\u001b[?25l  Downloading https://files.pythonhosted.org/packages/0f/1c/e789a8b12e28be5bc1ce2156cf87cb522b379be9cadc7ad8091a4cc107c4/tokenizers-0.9.4-cp36-cp36m-manylinux2010_x86_64.whl (2.9MB)\n",
            "\u001b[K     |████████████████████████████████| 2.9MB 24.6MB/s \n",
            "\u001b[?25hRequirement already satisfied: six in /usr/local/lib/python3.6/dist-packages (from sacremoses->transformers) (1.15.0)\n",
            "Requirement already satisfied: click in /usr/local/lib/python3.6/dist-packages (from sacremoses->transformers) (7.1.2)\n",
            "Requirement already satisfied: joblib in /usr/local/lib/python3.6/dist-packages (from sacremoses->transformers) (0.17.0)\n",
            "Requirement already satisfied: chardet<4,>=3.0.2 in /usr/local/lib/python3.6/dist-packages (from requests->transformers) (3.0.4)\n",
            "Requirement already satisfied: idna<3,>=2.5 in /usr/local/lib/python3.6/dist-packages (from requests->transformers) (2.10)\n",
            "Requirement already satisfied: urllib3!=1.25.0,!=1.25.1,<1.26,>=1.21.1 in /usr/local/lib/python3.6/dist-packages (from requests->transformers) (1.24.3)\n",
            "Requirement already satisfied: certifi>=2017.4.17 in /usr/local/lib/python3.6/dist-packages (from requests->transformers) (2020.11.8)\n",
            "Requirement already satisfied: pyparsing>=2.0.2 in /usr/local/lib/python3.6/dist-packages (from packaging->transformers) (2.4.7)\n",
            "Building wheels for collected packages: sacremoses\n",
            "  Building wheel for sacremoses (setup.py) ... \u001b[?25l\u001b[?25hdone\n",
            "  Created wheel for sacremoses: filename=sacremoses-0.0.43-cp36-none-any.whl size=893257 sha256=92fade54f0674ce1741dd59eb81a98c89f120cee3e0d83ba71af7bc2452d45f5\n",
            "  Stored in directory: /root/.cache/pip/wheels/29/3c/fd/7ce5c3f0666dab31a50123635e6fb5e19ceb42ce38d4e58f45\n",
            "Successfully built sacremoses\n",
            "Installing collected packages: sacremoses, tokenizers, transformers\n",
            "Successfully installed sacremoses-0.0.43 tokenizers-0.9.4 transformers-4.0.0\n"
          ],
          "name": "stdout"
        }
      ]
    },
    {
      "cell_type": "markdown",
      "metadata": {
        "id": "uQj2wmKDpkrH"
      },
      "source": [
        "## 2 - Download do arquivo do PyTorch Checkpoint\n",
        "\n",
        "Lista de modelos da comunidade:\n",
        "* https://huggingface.co/models\n",
        "\n",
        "Inglês:  \n",
        "* **'bert-base-uncased'**\n",
        "* **'bert-large-uncased'**"
      ]
    },
    {
      "cell_type": "code",
      "metadata": {
        "id": "ajrTjZzapkrK",
        "colab": {
          "base_uri": "https://localhost:8080/"
        },
        "outputId": "894d2ac1-a91b-49cc-9e23-d0b84bc6eb4b"
      },
      "source": [
        "# Importando as bibliotecas\n",
        "import os\n",
        "\n",
        "# Variável para setar o arquivo\n",
        "url = None\n",
        "\n",
        "# Comente uma das urls para carregar modelos de tamanhos diferentes(base/large)\n",
        "# url do arquivo do modelo tensorflow\n",
        "# arquivo menor(base) 389 Mbytes\n",
        "#url = \"https://storage.googleapis.com/bert_models/2020_02_20/uncased_L-12_H-768_A-12.zip\"\n",
        "\n",
        "# arquivo grande(large) 1.2 Gbytes\n",
        "#url = \"https://storage.googleapis.com/bert_models/2019_05_30/wwm_uncased_L-24_H-1024_A-16.zip\"\n",
        "\n",
        "# Se a variável foi setada\n",
        "if url:\n",
        "\n",
        "    # Diretório descompactação\n",
        "    diretorio = '/content/modelo'\n",
        "\n",
        "    # Recupera o nome do arquivo do modelo da url\n",
        "    arquivo = url.split(\"/\")[-1]\n",
        "\n",
        "    # Nome do arquivo do vocabulário\n",
        "    arquivo_vocab = \"vocab.txt\"\n",
        "\n",
        "    # Caminho do arquivo na url\n",
        "    caminho = url[0:len(url)-len(arquivo)]\n",
        "\n",
        "    # Verifica se a pasta de descompactação existe no pasta corrente\n",
        "    if not os.path.exists(diretorio):\n",
        "   \n",
        "        # Baixa o arquivo do modelo\n",
        "        !wget $url\n",
        "    \n",
        "        # Descompacta o arquivo na pasta de descompactação\n",
        "        !unzip -o $arquivo -d $diretorio\n",
        "\n",
        "        # Baixa o arquivo do vocabulário. Na versão em inglês está dentro do arquivo do modelo.\n",
        "        # O vocabulário não está no arquivo compactado acima, mesma url mas arquivo diferente\n",
        "        #url_vocab = caminho + arquivo_vocab\n",
        "        #!wget $url_vocab\n",
        "    \n",
        "        # Coloca o arquivo do vocabulário no diretório de descompactação\n",
        "        !mv $arquivo_vocab $diretorio\n",
        "            \n",
        "        # Move o arquivo para pasta de descompactação\n",
        "        !mv $arquivo $diretorio\n",
        "\n",
        "        print('Pasta do ' + diretorio + ' pronta!')\n",
        "    else:\n",
        "      print('Pasta do ' + diretorio + ' já existe!')\n",
        "\n",
        "    # Lista a pasta corrente\n",
        "    !ls -la $diretorio\n",
        "else:\n",
        "    print('Variável url não setada!')"
      ],
      "execution_count": null,
      "outputs": [
        {
          "output_type": "stream",
          "text": [
            "Variável url não setada!\n"
          ],
          "name": "stdout"
        }
      ]
    },
    {
      "cell_type": "markdown",
      "metadata": {
        "id": "Bcpd9t9PpkrX"
      },
      "source": [
        "## 3 - Carregando o Tokenizador BERT\n",
        "\n",
        "O tokenizador utiliza WordPiece, veja em [artigo original](https://arxiv.org/pdf/1609.08144.pdf).\n",
        "\n",
        "Carregando o tokenizador da pasta '/content/modelo/' do diretório padrão se variável `url` setada.\n",
        "\n",
        "**Caso contrário carrega da comunidade**\n",
        "\n",
        "Por default(`do_lower_case=True`) todas as letras são colocadas para minúsculas. Para ignorar a conversão para minúsculo use o parâmetro `do_lower_case=False`. Esta opção também considera as letras acentuadas(ãçéí...), que são necessárias a língua portuguesa."
      ]
    },
    {
      "cell_type": "code",
      "metadata": {
        "id": "Z8cKVs4fpkrY",
        "colab": {
          "base_uri": "https://localhost:8080/",
          "height": 137,
          "referenced_widgets": [
            "21f24b3a539c48358ea8ba08853ab82c",
            "95708599a25e4fafb98fa4af293a33a6",
            "827a4c4cdff7479fb3b732b6499cbc3d",
            "3f0c885b2a324a02a34499d6daeb9352",
            "6b7552f144394c42b4871882447811d5",
            "168d7fd1fc9c42fd88e45536621f642d",
            "e45edcc90dc24f89b9cc1a4da66b23ff",
            "91cbffb6c7d943f18e0de48cb749f084"
          ]
        },
        "outputId": "aee04ffa-1d08-4e36-8b91-a59cd2e0776c"
      },
      "source": [
        "# Importando as bibliotecas do tokenizador\n",
        "from transformers import BertTokenizer\n",
        "\n",
        "# Se a variável url foi setada\n",
        "if url:\n",
        "    # Carregando o Tokenizador\n",
        "    print('Carrgando o tokenizador BERT do diretório ' + diretorio + '...')\n",
        "\n",
        "    tokenizer = BertTokenizer.from_pretrained(diretorio, do_lower_case=False)\n",
        "    #tokenizer = BertTokenizer.from_pretrained(diretorio)\n",
        "else:\n",
        "    # Carregando o Tokenizador da comunidade\n",
        "    print('Carregando o tokenizador da comunidade...')\n",
        "    \n",
        "    #tokenizer = BertTokenizer.from_pretrained('bert-base-uncased')\n",
        "    tokenizer = BertTokenizer.from_pretrained('bert-large-uncased')"
      ],
      "execution_count": null,
      "outputs": [
        {
          "output_type": "stream",
          "text": [
            "Carregando o tokenizador da comunidade...\n"
          ],
          "name": "stdout"
        },
        {
          "output_type": "stream",
          "text": [
            "2020-11-30 18:30:17,300 : INFO : Lock 140497062206208 acquired on /root/.cache/huggingface/transformers/e12f02d630da91a0982ce6db1ad595231d155a2b725ab106971898276d842ecc.d789d64ebfe299b0e416afc4a169632f903f693095b4629a7ea271d5a0cf2c99.lock\n"
          ],
          "name": "stderr"
        },
        {
          "output_type": "display_data",
          "data": {
            "application/vnd.jupyter.widget-view+json": {
              "model_id": "21f24b3a539c48358ea8ba08853ab82c",
              "version_minor": 0,
              "version_major": 2
            },
            "text/plain": [
              "HBox(children=(FloatProgress(value=0.0, description='Downloading', max=231508.0, style=ProgressStyle(descripti…"
            ]
          },
          "metadata": {
            "tags": []
          }
        },
        {
          "output_type": "stream",
          "text": [
            "2020-11-30 18:30:18,037 : INFO : Lock 140497062206208 released on /root/.cache/huggingface/transformers/e12f02d630da91a0982ce6db1ad595231d155a2b725ab106971898276d842ecc.d789d64ebfe299b0e416afc4a169632f903f693095b4629a7ea271d5a0cf2c99.lock\n"
          ],
          "name": "stderr"
        },
        {
          "output_type": "stream",
          "text": [
            "\n"
          ],
          "name": "stdout"
        }
      ]
    },
    {
      "cell_type": "markdown",
      "metadata": {
        "id": "m__On2g1a--K"
      },
      "source": [
        "## 4 - Carregando o Modelo BERT\n",
        "\n",
        "Se a variável `url` estiver setada carrega o modelo do diretório `content/modelo`.\n",
        "\n",
        "Caso contrário carrega da comunidade.\n",
        "\n",
        "Carregando o modelo da pasta '/content/modelo/' do diretório padrão.\n",
        "\n",
        "A implementação do huggingface pytorch inclui um conjunto de interfaces projetadas para uma variedade de tarefas de PNL. Embora essas interfaces sejam todas construídas sobre um modelo treinado de BERT, cada uma possui diferentes camadas superiores e tipos de saída projetados para acomodar suas tarefas específicas de PNL.\n",
        "\n",
        "A documentação para estas pode ser encontrada em [aqui](https://huggingface.co/transformers/v2.2.0/model_doc/bert.html).\n",
        "\n",
        "Por default o modelo está em modo avaliação ou seja `model.eval()`.\n",
        "\n",
        "-----------------------\n",
        "\n",
        "Durante a avaliação do modelo, este retorna um número de diferentes objetos com base em como é configurado na chamada do método `from_pretrained`. \n",
        "\n",
        "Quando definimos `output_hidden_states = True` na chamada do método `from_pretrained`, retorno do modelo possui no terceiro item os estados ocultos(**hidden_states**) de todas as camadas.  Veja a documentação para mais detalhes: https://huggingface.co/transformers/model_doc/bert.html#bertmodel\n",
        "\n",
        "Quando **`output_hidden_states = True`** model retorna:\n",
        "- outputs[0] = last_hidden_state;\n",
        "- outputs[1] = pooler_output; \n",
        "- outputs[2] = hidden_states.\n",
        "\n",
        "Quando **`output_hidden_states = False`** ou não especificado model retorna:\n",
        "- outputs[0] = last_hidden_state;\n",
        "- outputs[1] = pooler_output.\n",
        "\n",
        "\n",
        "**ATENÇÃO**: O parâmetro ´**output_hidden_states = True**´ habilita gerar as camadas ocultas do modelo. Caso contrário somente a última camada é mantida. Este parâmetro otimiza a memória mas não os resultados.\n"
      ]
    },
    {
      "cell_type": "code",
      "metadata": {
        "id": "zRV6l_I-qg9s",
        "colab": {
          "base_uri": "https://localhost:8080/",
          "height": 220,
          "referenced_widgets": [
            "eba8bfad8ac841149c7d5d40bf34b5c3",
            "87d5386a7c124d4c85a931cf4fb84671",
            "6ff0e22a7d094f55837782c640658269",
            "17516e4c39854567bc0238a63d6e262b",
            "2428c732f9ee42608ea982c639aa43e8",
            "eb904e4b5f6c4ed388bed052e5f0a61a",
            "7b726cfedbd148b286fa88e2639fff23",
            "d721bdccf7f749c2ab6ca46751d851c9",
            "6fd1b8583b3c4a418fc2e9fcb239d0c2",
            "3b97a004035d4d2da039b6badf7c3abc",
            "11eb18dc3e564ace809d638b82baeee4",
            "69f272ed8dbd462ba0591cbf66abf381",
            "a302bf68d2e24066955d5cef6540ab47",
            "c2ed16a4d6af4f5ead41dc41bde85061",
            "232b0fbee8414d67a8da9de85417b57e",
            "6ecd2b23b6a6463e9e771ebd63bb65e4"
          ]
        },
        "outputId": "d4f1f815-22b5-4b2d-e266-c1cf2710a9a6"
      },
      "source": [
        "# Importando as bibliotecas do Modelo\n",
        "from transformers import BertModel\n",
        "\n",
        "# Se a variável url1 foi setada\n",
        "if url:\n",
        "    # Carregando o Tokenizador\n",
        "    print('Carregando o modelo BERT do diretório ' + diretorio + '...')    \n",
        "    model = BertModel.from_pretrained(diretorio, \n",
        "                                      output_hidden_states = True)\n",
        "else:\n",
        "    # Carregando o Tokenizador da comunidade\n",
        "    print('Carregando o modelo BERT da comunidade ...')\n",
        "\n",
        "    #model = BertModel.from_pretrained('bert-large-uncased')  \n",
        "    model = BertModel.from_pretrained('bert-large-uncased', \n",
        "                                       output_hidden_states = True)"
      ],
      "execution_count": null,
      "outputs": [
        {
          "output_type": "stream",
          "text": [
            "Carregando o modelo BERT da comunidade ...\n"
          ],
          "name": "stdout"
        },
        {
          "output_type": "stream",
          "text": [
            "2020-11-30 18:30:18,464 : INFO : Lock 140497061576600 acquired on /root/.cache/huggingface/transformers/1cf090f220f9674b67b3434decfe4d40a6532d7849653eac435ff94d31a4904c.d4d29047141693194a1c377423a9a58b3ffdd39ed177b3a9b2ac9bce9e6638d9.lock\n"
          ],
          "name": "stderr"
        },
        {
          "output_type": "display_data",
          "data": {
            "application/vnd.jupyter.widget-view+json": {
              "model_id": "eba8bfad8ac841149c7d5d40bf34b5c3",
              "version_minor": 0,
              "version_major": 2
            },
            "text/plain": [
              "HBox(children=(FloatProgress(value=0.0, description='Downloading', max=434.0, style=ProgressStyle(description_…"
            ]
          },
          "metadata": {
            "tags": []
          }
        },
        {
          "output_type": "stream",
          "text": [
            "2020-11-30 18:30:18,869 : INFO : Lock 140497061576600 released on /root/.cache/huggingface/transformers/1cf090f220f9674b67b3434decfe4d40a6532d7849653eac435ff94d31a4904c.d4d29047141693194a1c377423a9a58b3ffdd39ed177b3a9b2ac9bce9e6638d9.lock\n"
          ],
          "name": "stderr"
        },
        {
          "output_type": "stream",
          "text": [
            "\n"
          ],
          "name": "stdout"
        },
        {
          "output_type": "stream",
          "text": [
            "2020-11-30 18:30:19,246 : INFO : Lock 140497061242304 acquired on /root/.cache/huggingface/transformers/1d959166dd7e047e57ea1b2d9b7b9669938a7e90c5e37a03961ad9f15eaea17f.fea64cd906e3766b04c92397f9ad3ff45271749cbe49829a079dd84e34c1697d.lock\n"
          ],
          "name": "stderr"
        },
        {
          "output_type": "display_data",
          "data": {
            "application/vnd.jupyter.widget-view+json": {
              "model_id": "6fd1b8583b3c4a418fc2e9fcb239d0c2",
              "version_minor": 0,
              "version_major": 2
            },
            "text/plain": [
              "HBox(children=(FloatProgress(value=0.0, description='Downloading', max=1344997306.0, style=ProgressStyle(descr…"
            ]
          },
          "metadata": {
            "tags": []
          }
        },
        {
          "output_type": "stream",
          "text": [
            "2020-11-30 18:30:39,400 : INFO : Lock 140497061242304 released on /root/.cache/huggingface/transformers/1d959166dd7e047e57ea1b2d9b7b9669938a7e90c5e37a03961ad9f15eaea17f.fea64cd906e3766b04c92397f9ad3ff45271749cbe49829a079dd84e34c1697d.lock\n"
          ],
          "name": "stderr"
        },
        {
          "output_type": "stream",
          "text": [
            "\n"
          ],
          "name": "stdout"
        }
      ]
    },
    {
      "cell_type": "markdown",
      "metadata": {
        "id": "oU3wHzNUmmBP"
      },
      "source": [
        "## 5 - Funções auxiliares"
      ]
    },
    {
      "cell_type": "code",
      "metadata": {
        "id": "pm98RoojJcqP"
      },
      "source": [
        "# Import das bibliotecas\n",
        "import numpy as np\n",
        "import torch\n",
        "\n",
        "import matplotlib.pyplot as plt\n",
        "%matplotlib inline"
      ],
      "execution_count": null,
      "outputs": []
    },
    {
      "cell_type": "markdown",
      "metadata": {
        "id": "q7nx_eZ8hSlr"
      },
      "source": [
        "### getEmbeddingsVisual\n",
        "\n",
        "Função para gerar as coordenadas de plotagem a partir das sentenças de embeddings."
      ]
    },
    {
      "cell_type": "code",
      "metadata": {
        "id": "TPQOKYT3hSlr"
      },
      "source": [
        "def getEmbeddingsVisual(texto, modelo, tokenizador):\n",
        "    \n",
        "    # Adiciona os tokens especiais\n",
        "    texto_marcado = \"[CLS] \" + texto + \" [SEP]\"\n",
        "\n",
        "    # Divide a sentença em tokens\n",
        "    texto_tokenizado = tokenizador.tokenize(texto_marcado)\n",
        "\n",
        "    # Mapeia as strings dos tokens em seus índices do vocabuário    \n",
        "    tokens_indexados = tokenizador.convert_tokens_to_ids(texto_tokenizado)\n",
        "    \n",
        "    # Marca cada um dos tokens como pertencentes à frase \"1\".\n",
        "    segmentos_ids = [1] * len(texto_tokenizado)\n",
        "\n",
        "    # Converte a entrada em tensores\n",
        "    tokens_tensores = torch.as_tensor([tokens_indexados])\n",
        "    segmentos_tensores = torch.as_tensor([segmentos_ids])\n",
        "    \n",
        "    # Prediz os atributos dos estados ocultos para cada camada\n",
        "    with torch.no_grad():        \n",
        "        # Retorno de model quando ´output_hidden_states=True´ é setado:  \n",
        "        #outputs[0] = last_hidden_state, outputs[1] = pooler_output, outputs[2] = hidden_states\n",
        "        outputs = modelo(tokens_tensores, segmentos_tensores)\n",
        "\n",
        "    # Camada embedding\n",
        "    last_hidden_states = outputs[0]\n",
        "\n",
        "    # Remove a dimensão 1, o lote \"batches\".\n",
        "    token_embeddings = torch.squeeze(last_hidden_states, dim=0)\n",
        "\n",
        "    # Recupera os embeddings dos tokens como um vetor\n",
        "    embeddings = token_embeddings.numpy()\n",
        "\n",
        "    # Converte para um array\n",
        "    W = np.array(embeddings)\n",
        "    # Transforma em um array\n",
        "    B = np.array([embeddings[0], embeddings[-1]])\n",
        "    # Inverte B.T\n",
        "    Bi = np.linalg.pinv(B.T)\n",
        "\n",
        "    # Projeta a palavra no espaço\n",
        "    Wp = np.matmul(Bi,W.T)\n",
        "\n",
        "    return Wp, texto_tokenizado"
      ],
      "execution_count": null,
      "outputs": []
    },
    {
      "cell_type": "markdown",
      "metadata": {
        "id": "V4Pd6-h0YD8U"
      },
      "source": [
        "## 6 - Exemplo palavra \"bank\""
      ]
    },
    {
      "cell_type": "code",
      "metadata": {
        "id": "8QP-2tC8YOFW",
        "colab": {
          "base_uri": "https://localhost:8080/"
        },
        "outputId": "154cfc5f-c486-4938-d85b-7d37d8a13eea"
      },
      "source": [
        "# Define um sentença de exemplo com diversos siginificados da palavra  \"bank\"\n",
        "textopt_br = \"Depois de roubar o cofre do banco,\"\\\n",
        "        \" o ladrão de banco foi visto \" \\\n",
        "        \"sentado no banco da praça central.\"\n",
        "\n",
        "texto  = \"After stealing money from the bank vault, \"\\\n",
        "        \"the bank robber was seen \" \\\n",
        "        \"fishing on the Amazonas river bank.\"\n",
        "\n",
        "# Adiciona os tokens especiais\n",
        "texto_marcado = \"[CLS] \" + texto + \" [SEP]\"\n",
        "\n",
        "# Divide a sentença em tokens\n",
        "texto_tokenizado = tokenizer.tokenize(texto_marcado)\n",
        "\n",
        "# Mapeia os tokens em seus índices do vocabulário\n",
        "tokens_indexados = tokenizer.convert_tokens_to_ids(texto_tokenizado)\n",
        "\n",
        "# Mostra os tokens com seus índices\n",
        "i = 0\n",
        "for tup in zip(texto_tokenizado, tokens_indexados):\n",
        "    print('{:>3} {:<12} {:>6,}'.format(i, tup[0], tup[1]))\n",
        "    i= i + 1"
      ],
      "execution_count": null,
      "outputs": [
        {
          "output_type": "stream",
          "text": [
            "  0 [CLS]           101\n",
            "  1 after         2,044\n",
            "  2 stealing     11,065\n",
            "  3 money         2,769\n",
            "  4 from          2,013\n",
            "  5 the           1,996\n",
            "  6 bank          2,924\n",
            "  7 vault        11,632\n",
            "  8 ,             1,010\n",
            "  9 the           1,996\n",
            " 10 bank          2,924\n",
            " 11 robber       27,307\n",
            " 12 was           2,001\n",
            " 13 seen          2,464\n",
            " 14 fishing       5,645\n",
            " 15 on            2,006\n",
            " 16 the           1,996\n",
            " 17 amazon        9,733\n",
            " 18 ##as          3,022\n",
            " 19 river         2,314\n",
            " 20 bank          2,924\n",
            " 21 .             1,012\n",
            " 22 [SEP]           102\n"
          ],
          "name": "stdout"
        }
      ]
    },
    {
      "cell_type": "markdown",
      "metadata": {
        "id": "xPrsUwhlYs5y"
      },
      "source": [
        "O BERT é treinado e espera pares de frases, usando 1s e 0s para distinguir entre as duas frases. Ou seja, para cada token em \"texto_tokenizado\", devemos especificar a qual frase pertence: sentença 0 (uma série de 0s) ou sentença 1 (uma série de 1s). Para nossos propósitos, as entradas de sentença única requerem apenas uma série de 1s; portanto, criaremos um vetor de 1s para cada token em nossa frase de entrada.\n",
        "\n",
        "Se você deseja processar duas frases, atribua cada palavra na primeira frase mais o token '[SEP]' a 0 e todos os tokens da segunda frase a 1."
      ]
    },
    {
      "cell_type": "code",
      "metadata": {
        "id": "b6RqhuI0Ys51",
        "colab": {
          "base_uri": "https://localhost:8080/"
        },
        "outputId": "10164105-6053-45d7-b681-5d85c5c9d7ea"
      },
      "source": [
        "# Marca cada um dos tokens como pertencentes à frase \"1\", pois só iremos analisar uma.\n",
        "segmentos_ids = [1] * len(texto_tokenizado)\n",
        "\n",
        "print (segmentos_ids)\n",
        "print (len(segmentos_ids))"
      ],
      "execution_count": null,
      "outputs": [
        {
          "output_type": "stream",
          "text": [
            "[1, 1, 1, 1, 1, 1, 1, 1, 1, 1, 1, 1, 1, 1, 1, 1, 1, 1, 1, 1, 1, 1, 1]\n",
            "23\n"
          ],
          "name": "stdout"
        }
      ]
    },
    {
      "cell_type": "markdown",
      "metadata": {
        "id": "MCUCjJzKYs57"
      },
      "source": [
        "Converte 'tokens_indexados' e 'semegmentos_ids' em  listas em tensores."
      ]
    },
    {
      "cell_type": "code",
      "metadata": {
        "id": "fUU1BIGiYs58"
      },
      "source": [
        "# Importa a bibliteca\n",
        "import torch\n",
        "\n",
        "# Converte as entradas de listas para tensores do torch\n",
        "tokens_tensores = torch.as_tensor([tokens_indexados])\n",
        "segmentos_tensores = torch.as_tensor([segmentos_ids])"
      ],
      "execution_count": null,
      "outputs": []
    },
    {
      "cell_type": "markdown",
      "metadata": {
        "id": "PG5DPYmuYs6A"
      },
      "source": [
        "Gera os embeddings para a frase e retorna a saída em  `outputs`.\n"
      ]
    },
    {
      "cell_type": "code",
      "metadata": {
        "id": "1-hYiWnRYs6B"
      },
      "source": [
        "# Prediz os atributos dos estados ocultos para cada camada\n",
        "with torch.no_grad():    \n",
        "  \n",
        "    # Retorno de model quando ´last_hidden_state=True´ é setado:    \n",
        "    #outputs[0] = last_hidden_state, outputs[1] = pooler_output, outputs[2] = hidden_states\n",
        "    outputs = model(tokens_tensores, segmentos_tensores)"
      ],
      "execution_count": null,
      "outputs": []
    },
    {
      "cell_type": "markdown",
      "metadata": {
        "id": "5qpl6dS5Ys6E"
      },
      "source": [
        "Recupera a última camada."
      ]
    },
    {
      "cell_type": "code",
      "metadata": {
        "id": "7SgPmDP7Ys6E",
        "colab": {
          "base_uri": "https://localhost:8080/"
        },
        "outputId": "b880596d-4aea-4158-df53-295fe3b71b4a"
      },
      "source": [
        "# Recupera a última camada oculta da saída\n",
        "last_hidden_states = outputs[0]\n",
        "\n",
        "print (\"O vetor da última camada oculta tem o formato:\", last_hidden_states.size())"
      ],
      "execution_count": null,
      "outputs": [
        {
          "output_type": "stream",
          "text": [
            "O vetor da última camada oculta tem o formato: torch.Size([1, 23, 1024])\n"
          ],
          "name": "stdout"
        }
      ]
    },
    {
      "cell_type": "markdown",
      "metadata": {
        "id": "Ejt5Ty9RYs6G"
      },
      "source": [
        "Intervalo de valores para uma determinada camada e token."
      ]
    },
    {
      "cell_type": "code",
      "metadata": {
        "id": "sj2l1MIbYs6H",
        "colab": {
          "base_uri": "https://localhost:8080/",
          "height": 609
        },
        "outputId": "36dcb417-340d-478d-85a5-84fe3f5b5f37"
      },
      "source": [
        "# Import da biblioteca gráfica\n",
        "import matplotlib.pyplot as plt\n",
        "%matplotlib inline\n",
        "\n",
        "# Plota os tokens da sentença\n",
        "token_i = 8\n",
        "layer_i = 0\n",
        "\n",
        "# Recupera o vetor de embeddings da última camada para o token\n",
        "vec = last_hidden_states[layer_i][token_i]\n",
        "\n",
        "# Mostra a palavra do token_i\n",
        "print((texto_tokenizado[token_i], tokens_indexados[token_i]))\n",
        "\n",
        "# Aumenta o tamanho da plotagem do gráfico\n",
        "plt.figure(figsize=(15,10))\n",
        "\n",
        "# Cria o histograma com 200 classes\n",
        "plt.hist(vec, bins=200)\n",
        "\n",
        "# Mostra o gráfico\n",
        "plt.show()"
      ],
      "execution_count": null,
      "outputs": [
        {
          "output_type": "stream",
          "text": [
            "(',', 1010)\n"
          ],
          "name": "stdout"
        },
        {
          "output_type": "display_data",
          "data": {
            "image/png": "[encoded data removed]",
            "text/plain": [
              "<Figure size 1080x720 with 1 Axes>"
            ]
          },
          "metadata": {
            "tags": [],
            "needs_background": "light"
          }
        }
      ]
    },
    {
      "cell_type": "markdown",
      "metadata": {
        "id": "VfxvUL24Ys6J"
      },
      "source": [
        "Vamos nos livrar da dimensão lotes \"batches\", pois não precisamos dela."
      ]
    },
    {
      "cell_type": "code",
      "metadata": {
        "id": "22_WYRIPYs6J",
        "colab": {
          "base_uri": "https://localhost:8080/"
        },
        "outputId": "fd9733dd-8ddf-44e7-f525-6a750151642f"
      },
      "source": [
        "print (\"O vetor da última camada oculta tem o formato:\", last_hidden_states.size())\n",
        "\n",
        "# Remove a dimensão 1, o lote \"batches\".\n",
        "# O método ´squeeze´ remove a primeira dimensão(0) pois possui tamanho 1\n",
        "token_embeddings = torch.squeeze(last_hidden_states, dim=0)\n",
        "\n",
        "print (\"O vetor de tokens de embedding da senteça tem o formato:\", token_embeddings.size())"
      ],
      "execution_count": null,
      "outputs": [
        {
          "output_type": "stream",
          "text": [
            "O vetor da última camada oculta tem o formato: torch.Size([1, 23, 1024])\n",
            "O vetor de tokens de embedding da senteça tem o formato: torch.Size([23, 1024])\n"
          ],
          "name": "stdout"
        }
      ]
    },
    {
      "cell_type": "markdown",
      "metadata": {
        "id": "S6gogy9DYs6O"
      },
      "source": [
        "Confirmando vetores dependentes do contexto\n"
      ]
    },
    {
      "cell_type": "code",
      "metadata": {
        "id": "_oB4-pjiYs6O",
        "colab": {
          "base_uri": "https://localhost:8080/"
        },
        "outputId": "731c8da0-4946-4b68-f2ae-a983b7330d80"
      },
      "source": [
        "for i, token_str in enumerate(texto_tokenizado):\n",
        "  print (i, token_str)"
      ],
      "execution_count": null,
      "outputs": [
        {
          "output_type": "stream",
          "text": [
            "0 [CLS]\n",
            "1 after\n",
            "2 stealing\n",
            "3 money\n",
            "4 from\n",
            "5 the\n",
            "6 bank\n",
            "7 vault\n",
            "8 ,\n",
            "9 the\n",
            "10 bank\n",
            "11 robber\n",
            "12 was\n",
            "13 seen\n",
            "14 fishing\n",
            "15 on\n",
            "16 the\n",
            "17 amazon\n",
            "18 ##as\n",
            "19 river\n",
            "20 bank\n",
            "21 .\n",
            "22 [SEP]\n"
          ],
          "name": "stdout"
        }
      ]
    },
    {
      "cell_type": "markdown",
      "metadata": {
        "id": "-TysEHsOZaij"
      },
      "source": [
        "Exibe os embenddings das palavras"
      ]
    },
    {
      "cell_type": "markdown",
      "metadata": {
        "id": "VXZFKHQBZIFk"
      },
      "source": [
        "A bank aparece nos índices 6, 10 e 20.\n"
      ]
    },
    {
      "cell_type": "code",
      "metadata": {
        "id": "2hrWa-RzZIFl",
        "colab": {
          "base_uri": "https://localhost:8080/"
        },
        "outputId": "c9370553-2c60-466c-d620-5552ae1ccf32"
      },
      "source": [
        "# Índice das palavras a serem comparadas\n",
        "palavra1 = 6\n",
        "palavra2 = 10\n",
        "palavra3 = 20\n",
        "\n",
        "print('Os primeiros 5 valores de cada instância de \"banco\".')\n",
        "print('')\n",
        "print(texto_tokenizado[palavra1], str(token_embeddings[palavra1][:5]))\n",
        "print(texto_tokenizado[palavra2], str(token_embeddings[palavra2][:5]))\n",
        "print(texto_tokenizado[palavra3], str(token_embeddings[palavra3][:5]))"
      ],
      "execution_count": null,
      "outputs": [
        {
          "output_type": "stream",
          "text": [
            "Os primeiros 5 valores de cada instância de \"banco\".\n",
            "\n",
            "bank tensor([-0.5037, -0.3933,  0.0985, -0.0255, -0.5467])\n",
            "bank tensor([-0.8993, -0.5849, -0.0178, -0.0673, -0.7716])\n",
            "bank tensor([-0.7540, -0.0489, -0.1291,  0.0397, -0.2409])\n"
          ],
          "name": "stdout"
        }
      ]
    },
    {
      "cell_type": "markdown",
      "metadata": {
        "id": "-GgdLD3lZIFp"
      },
      "source": [
        "### Comparando as palavras das frases\n",
        "Podemos ver que os valores diferem, mas vamos calcular a semelhança de cosseno entre os vetores para fazer uma comparação mais precisa."
      ]
    },
    {
      "cell_type": "code",
      "metadata": {
        "id": "_0Wz7anjZIFp",
        "colab": {
          "base_uri": "https://localhost:8080/"
        },
        "outputId": "ce947e8b-4e62-4cda-cfe7-05494aa72757"
      },
      "source": [
        "from scipy.spatial.distance import cosine\n",
        "\n",
        "print(\"Período:\", texto)\n",
        "print(\"Palavra1=\", palavra1, \"=\", texto_tokenizado[palavra1], \"(instituição financeira)\")\n",
        "print(\"Palavra2=\", palavra2, \"=\", texto_tokenizado[palavra2], \"(instituição financeira)\")\n",
        "print(\"Palavra3=\", palavra3, \"=\", texto_tokenizado[palavra3], \"(margem do rio)\")\n",
        "\n",
        "# Calcula a similaridade de coseno entre as palavras banco\n",
        "# Em \"ladrão de banco\" versus \"margem do rio\" (diferentes significados).\n",
        "banco_diferente = 1 - cosine(token_embeddings[palavra2], token_embeddings[palavra3])\n",
        "\n",
        "print('Vetor de similaridade  para diferentes significados(',palavra2,',',palavra3,'):  %.2f' % banco_diferente)\n",
        "\n",
        "# Calcula a similaridade de coseno entre as palavras banco\n",
        "# Em \"ladrão de banco\" versus \"cofre do banco\" (mesmo significado).\n",
        "mesmo_banco = 1 - cosine(token_embeddings[palavra2], token_embeddings[palavra1])\n",
        "\n",
        "print('Vetor de similaridade  para mesmo significado(',palavra2,',',palavra1,'):  %.2f' % mesmo_banco)\n",
        "\n",
        "# Calcula a similaridade de coseno entre as palavras banco\n",
        "# Em \"cofre do banco\" versus \"margem do rio\" (diferente significados).\n",
        "banco_diferente2 = 1 - cosine(token_embeddings[palavra3], token_embeddings[palavra1])\n",
        "\n",
        "print('Vetor de similaridade  para diferentes significados(',palavra3,',',palavra1,'):  %.2f' % banco_diferente2)"
      ],
      "execution_count": null,
      "outputs": [
        {
          "output_type": "stream",
          "text": [
            "Período: After stealing money from the bank vault, the bank robber was seen fishing on the Amazonas river bank.\n",
            "Palavra1= 6 = bank (instituição financeira)\n",
            "Palavra2= 10 = bank (instituição financeira)\n",
            "Palavra3= 20 = bank (margem do rio)\n",
            "Vetor de similaridade  para diferentes significados( 10 , 20 ):  0.61\n",
            "Vetor de similaridade  para mesmo significado( 10 , 6 ):  0.94\n",
            "Vetor de similaridade  para diferentes significados( 20 , 6 ):  0.59\n"
          ],
          "name": "stdout"
        }
      ]
    },
    {
      "cell_type": "markdown",
      "metadata": {
        "id": "3OwnIPA8a2-E"
      },
      "source": [
        "### Visualizando a Frase\n",
        "\n",
        "Aqui, queremos mostrar a conexão entre os tokens de uma frase usando a incorporação do BERT. Plotamos as inserções dos tokens em um subespaço, onde (0,1) e (1,0) são os marcadores de partida [CLS] e [SEP] e marcadores finais e finais da frase."
      ]
    },
    {
      "cell_type": "code",
      "metadata": {
        "id": "frxCW7XYa2-F"
      },
      "source": [
        "# Import das bibliotecas\n",
        "import numpy as np\n",
        "import torch\n",
        "\n",
        "import matplotlib.pyplot as plt\n",
        "%matplotlib inline"
      ],
      "execution_count": null,
      "outputs": []
    },
    {
      "cell_type": "markdown",
      "metadata": {
        "id": "83oC5Q6na2-K"
      },
      "source": [
        "Transforma  o vetor de embendings em um array."
      ]
    },
    {
      "cell_type": "code",
      "metadata": {
        "id": "TGm-CmYya2-L"
      },
      "source": [
        "# Transforma tokens embeddings em um array\n",
        "embeddings = token_embeddings.numpy()"
      ],
      "execution_count": null,
      "outputs": []
    },
    {
      "cell_type": "markdown",
      "metadata": {
        "id": "dUEejZ8ja2-P"
      },
      "source": [
        "Base selecionada para que o [CLS] e o [SEP] passem para (0,1) e (1,0)"
      ]
    },
    {
      "cell_type": "code",
      "metadata": {
        "id": "V9lYmngTa2-P"
      },
      "source": [
        "# Converte para um array\n",
        "W = np.array(embeddings)\n",
        "# Transforma em um array\n",
        "B = np.array([embeddings[0], embeddings[-1]])\n",
        "# Inverte B.T\n",
        "Bi = np.linalg.pinv(B.T)"
      ],
      "execution_count": null,
      "outputs": []
    },
    {
      "cell_type": "markdown",
      "metadata": {
        "id": "jxy3Ii79a2-S"
      },
      "source": [
        "Projeta os tokens da palavra no subespaço"
      ]
    },
    {
      "cell_type": "code",
      "metadata": {
        "id": "6XLcqxbla2-T"
      },
      "source": [
        "Wp = np.matmul(Bi,W.T)"
      ],
      "execution_count": null,
      "outputs": []
    },
    {
      "cell_type": "markdown",
      "metadata": {
        "id": "Ulz18MGca2-a"
      },
      "source": [
        "Plota o gráfico da frase"
      ]
    },
    {
      "cell_type": "code",
      "metadata": {
        "id": "HogpH9Nla2-a",
        "colab": {
          "base_uri": "https://localhost:8080/",
          "height": 428
        },
        "outputId": "fa1ecd5c-9108-4931-84f1-ed1178f9045f"
      },
      "source": [
        "# Aumenta o tamanho da plotagem do gráfico\n",
        "plt.figure(figsize=(12,7))\n",
        "plt.axhline(color='black')\n",
        "plt.axvline(color='black')\n",
        "plt.scatter(Wp[0,:], Wp[1,:], label=texto)\n",
        "rX = max(Wp[0,:])-min(Wp[0,:])\n",
        "rY = max(Wp[1,:])-min(Wp[1,:])\n",
        "rM = max(rX, rY)\n",
        "eps = 0.005\n",
        "for i, token in enumerate(texto_tokenizado):\n",
        "    if token in ['[CLS]', '[SEP]']:\n",
        "        plt.annotate(token, (Wp[0,i]+rX*eps, Wp[1,i]+rX*eps))\n",
        "    if token == 'bank':\n",
        "        plt.annotate(token, (Wp[0,i]+rX*eps*-6, Wp[1,i]+rX*eps*3))\n",
        "    if i>0:\n",
        "        plt.arrow(Wp[0,i-1],Wp[1,i-1], Wp[0,i]-Wp[0,i-1], Wp[1,i]-Wp[1,i-1], color='lightblue', head_length=rM*eps*3, head_width=rM*eps*2, length_includes_head=True)\n",
        "plt.legend()\n",
        "\n",
        "# Mostra o gráfico\n",
        "plt.show()"
      ],
      "execution_count": null,
      "outputs": [
        {
          "output_type": "display_data",
          "data": {
            "image/png": "[encoded data removed]",
            "text/plain": [
              "<Figure size 864x504 with 1 Axes>"
            ]
          },
          "metadata": {
            "tags": [],
            "needs_background": "light"
          }
        }
      ]
    },
    {
      "cell_type": "markdown",
      "metadata": {
        "id": "QlA3hB59E0y4"
      },
      "source": [
        "### Comparando as frases\n",
        "\n",
        "Dividindo o texto em três frase."
      ]
    },
    {
      "cell_type": "code",
      "metadata": {
        "id": "NpcbPE3Y-OgE",
        "colab": {
          "base_uri": "https://localhost:8080/",
          "height": 479
        },
        "outputId": "7755a165-ad4f-4a51-e21c-5885db9fcaae"
      },
      "source": [
        "textopt_br = [\"Depois de roubar o cofre do banco\",\"o ladrão de banco foi visto\",\"sentado no banco da praça central.\"]\n",
        "texto = [\"After stealing money from the bank vault\",\"the bank robber was seen\",\"fishing on the Mississippi river bank.\"]\n",
        "\n",
        "colors = ['blue', 'red', 'green']\n",
        "\n",
        "# Aumenta o tamanho da plotagem do gráfico\n",
        "plt.figure(figsize=(12,7))\n",
        "plt.axhline(color='black')\n",
        "plt.axvline(color='black')\n",
        "for n,frase in enumerate(texto):\n",
        "    Wp, tokens = getEmbeddingsVisual(frase, model, tokenizer)\n",
        "    print(tokens)    \n",
        "    plt.scatter(Wp[0,:], Wp[1,:], color=colors[n], marker='x', label=frase)\n",
        "    rX = max(Wp[0,:])-min(Wp[0,:])\n",
        "    rY = max(Wp[1,:])-min(Wp[1,:])\n",
        "    rM = max(rX, rY)\n",
        "    eps = 0.005\n",
        "    eps2 = 0.005\n",
        "    for i, token in enumerate(tokens):\n",
        "        if token in ['[CLS]', '[SEP]']:\n",
        "            plt.annotate(token, (Wp[0,i]+rX*eps, Wp[1,i]+rX*eps))\n",
        "        if token == 'bank':\n",
        "            plt.annotate(token, (Wp[0,i]+rX*eps*-6, Wp[1,i]+rX*eps*3))\n",
        "        if i>0:\n",
        "            plt.arrow(Wp[0,i-1],Wp[1,i-1], Wp[0,i]-Wp[0,i-1], Wp[1,i]-Wp[1,i-1], color=colors[n], head_length=rM*eps2*4, head_width=rM*eps2*2, length_includes_head=True)\n",
        "plt.legend()\n",
        "\n",
        "# Mostra o gráfico\n",
        "plt.show()       "
      ],
      "execution_count": null,
      "outputs": [
        {
          "output_type": "stream",
          "text": [
            "['[CLS]', 'after', 'stealing', 'money', 'from', 'the', 'bank', 'vault', '[SEP]']\n",
            "['[CLS]', 'the', 'bank', 'robber', 'was', 'seen', '[SEP]']\n",
            "['[CLS]', 'fishing', 'on', 'the', 'mississippi', 'river', 'bank', '.', '[SEP]']\n"
          ],
          "name": "stdout"
        },
        {
          "output_type": "display_data",
          "data": {
            "image/png": "[encoded data removed]",
            "text/plain": [
              "<Figure size 864x504 with 1 Axes>"
            ]
          },
          "metadata": {
            "tags": [],
            "needs_background": "light"
          }
        }
      ]
    },
    {
      "cell_type": "markdown",
      "metadata": {
        "id": "mR7zTxeIk2ml"
      },
      "source": [
        "## 7 - Exemplo palavra \"embedding\" (3 tokens ##)"
      ]
    },
    {
      "cell_type": "code",
      "metadata": {
        "colab": {
          "base_uri": "https://localhost:8080/"
        },
        "id": "upbEZkaFk2ml",
        "outputId": "3e2ad333-3513-417d-fd6c-ad63452b9f57"
      },
      "source": [
        "# Define um sentença de exemplo com diversos siginificados da palavra  \"embedding\"\n",
        "textopt_br = \"Uma palavra pode ser contextualizada ou não contextualizando usando embeddings.\" \\\n",
        "            \"O uso de embeddings expande o uso da linguagem na computação.\" \\\n",
        "            \"A comissão apoia a incorporação das empresas.\"\n",
        "\n",
        "texto = \"A word can be contextualized or not contextualized using embeddings.\" \\\n",
        "        \"The use of embeddings expands the use of language in computing.\" \\\n",
        "        \"The commission supports the embedding of  companies.\"\n",
        "\n",
        "# Adiciona os tokens especiais\n",
        "texto_marcado = \"[CLS] \" + texto + \" [SEP]\"\n",
        "\n",
        "# Divide a sentença em tokens\n",
        "texto_tokenizado = tokenizer.tokenize(texto_marcado)\n",
        "\n",
        "# Mapeia os tokens em seus índices do vocabulário\n",
        "tokens_indexados = tokenizer.convert_tokens_to_ids(texto_tokenizado)\n",
        "\n",
        "# Mostra os tokens com seus índices\n",
        "i = 0\n",
        "for tup in zip(texto_tokenizado, tokens_indexados):\n",
        "    print('{:>3} {:<12} {:>6,}'.format(i, tup[0], tup[1]))\n",
        "    i= i + 1"
      ],
      "execution_count": null,
      "outputs": [
        {
          "output_type": "stream",
          "text": [
            "  0 [CLS]           101\n",
            "  1 a             1,037\n",
            "  2 word          2,773\n",
            "  3 can           2,064\n",
            "  4 be            2,022\n",
            "  5 context       6,123\n",
            "  6 ##ual         8,787\n",
            "  7 ##ized        3,550\n",
            "  8 or            2,030\n",
            "  9 not           2,025\n",
            " 10 context       6,123\n",
            " 11 ##ual         8,787\n",
            " 12 ##ized        3,550\n",
            " 13 using         2,478\n",
            " 14 em            7,861\n",
            " 15 ##bed         8,270\n",
            " 16 ##ding        4,667\n",
            " 17 ##s           2,015\n",
            " 18 .             1,012\n",
            " 19 the           1,996\n",
            " 20 use           2,224\n",
            " 21 of            1,997\n",
            " 22 em            7,861\n",
            " 23 ##bed         8,270\n",
            " 24 ##ding        4,667\n",
            " 25 ##s           2,015\n",
            " 26 expands      24,545\n",
            " 27 the           1,996\n",
            " 28 use           2,224\n",
            " 29 of            1,997\n",
            " 30 language      2,653\n",
            " 31 in            1,999\n",
            " 32 computing     9,798\n",
            " 33 .             1,012\n",
            " 34 the           1,996\n",
            " 35 commission    3,222\n",
            " 36 supports      6,753\n",
            " 37 the           1,996\n",
            " 38 em            7,861\n",
            " 39 ##bed         8,270\n",
            " 40 ##ding        4,667\n",
            " 41 of            1,997\n",
            " 42 companies     3,316\n",
            " 43 .             1,012\n",
            " 44 [SEP]           102\n"
          ],
          "name": "stdout"
        }
      ]
    },
    {
      "cell_type": "markdown",
      "metadata": {
        "id": "W5VYzRAgk2mm"
      },
      "source": [
        "O BERT é treinado e espera pares de frases, usando 1s e 0s para distinguir entre as duas frases. Ou seja, para cada token em \"texto_tokenizado\", devemos especificar a qual frase pertence: sentença 0 (uma série de 0s) ou sentença 1 (uma série de 1s). Para nossos propósitos, as entradas de sentença única requerem apenas uma série de 1s; portanto, criaremos um vetor de 1s para cada token em nossa frase de entrada.\n",
        "\n",
        "Se você deseja processar duas frases, atribua cada palavra na primeira frase mais o token '[SEP]' a 0 e todos os tokens da segunda frase a 1."
      ]
    },
    {
      "cell_type": "code",
      "metadata": {
        "colab": {
          "base_uri": "https://localhost:8080/"
        },
        "id": "-flJQbEzk2mm",
        "outputId": "47b5fa5d-9a78-4caf-ea63-243e562981f2"
      },
      "source": [
        "# Marca cada um dos tokens como pertencentes à frase \"1\", pois só iremos analisar uma.\n",
        "segmentos_ids = [1] * len(texto_tokenizado)\n",
        "\n",
        "print (segmentos_ids)\n",
        "print (len(segmentos_ids))"
      ],
      "execution_count": null,
      "outputs": [
        {
          "output_type": "stream",
          "text": [
            "[1, 1, 1, 1, 1, 1, 1, 1, 1, 1, 1, 1, 1, 1, 1, 1, 1, 1, 1, 1, 1, 1, 1, 1, 1, 1, 1, 1, 1, 1, 1, 1, 1, 1, 1, 1, 1, 1, 1, 1, 1, 1, 1, 1, 1]\n",
            "45\n"
          ],
          "name": "stdout"
        }
      ]
    },
    {
      "cell_type": "markdown",
      "metadata": {
        "id": "DVmkf_Sak2mm"
      },
      "source": [
        "Converte 'tokens_indexados' e 'semegmentos_ids' em  listas em tensores."
      ]
    },
    {
      "cell_type": "code",
      "metadata": {
        "id": "DF6AvGROk2mm"
      },
      "source": [
        "# Importa a bibliteca\n",
        "import torch\n",
        "\n",
        "# Converte as entradas de listas para tensores do torch\n",
        "tokens_tensores = torch.as_tensor([tokens_indexados])\n",
        "segmentos_tensores = torch.as_tensor([segmentos_ids])"
      ],
      "execution_count": null,
      "outputs": []
    },
    {
      "cell_type": "markdown",
      "metadata": {
        "id": "4H4ES_eCk2mn"
      },
      "source": [
        "Gera os embeddings para a frase e retorna a saída em  `outputs`.\n"
      ]
    },
    {
      "cell_type": "code",
      "metadata": {
        "id": "JVmnORlWk2mn"
      },
      "source": [
        "# Prediz os atributos dos estados ocultos para cada camada\n",
        "with torch.no_grad():    \n",
        "  \n",
        "    # Retorno de model quando ´last_hidden_state=True´ é setado:    \n",
        "    #outputs[0] = last_hidden_state, outputs[1] = pooler_output, outputs[2] = hidden_states\n",
        "    outputs = model(tokens_tensores, segmentos_tensores)"
      ],
      "execution_count": null,
      "outputs": []
    },
    {
      "cell_type": "markdown",
      "metadata": {
        "id": "pcbFRhNgk2mn"
      },
      "source": [
        "Recupera a última camada."
      ]
    },
    {
      "cell_type": "code",
      "metadata": {
        "colab": {
          "base_uri": "https://localhost:8080/"
        },
        "id": "rllBDSq0k2mn",
        "outputId": "fb147335-7605-4751-c978-f2311604d71b"
      },
      "source": [
        "# Recupera a última camada oculta da saída\n",
        "last_hidden_states = outputs[0]\n",
        "\n",
        "print (\"O vetor da última camada oculta tem o formato:\", last_hidden_states.size())"
      ],
      "execution_count": null,
      "outputs": [
        {
          "output_type": "stream",
          "text": [
            "O vetor da última camada oculta tem o formato: torch.Size([1, 45, 1024])\n"
          ],
          "name": "stdout"
        }
      ]
    },
    {
      "cell_type": "markdown",
      "metadata": {
        "id": "BlRKoHyWk2mn"
      },
      "source": [
        "Plota a distribuição dos valores dos embeddings de 3 tokens como um histograma."
      ]
    },
    {
      "cell_type": "code",
      "metadata": {
        "colab": {
          "base_uri": "https://localhost:8080/"
        },
        "id": "gywzsg1ck2mn",
        "outputId": "7ba96fa9-19c2-49b9-80db-81402ef08c07"
      },
      "source": [
        "# Import da biblioteca gráfica\n",
        "import matplotlib.pyplot as plt\n",
        "%matplotlib inline\n",
        "\n",
        "# Plota os tokens da sentença\n",
        "token_i = 14\n",
        "layer_i = 0\n",
        "\n",
        "# Recupera o vetor de embeddings da última camada para o token\n",
        "vec = last_hidden_states[layer_i][token_i]\n",
        "\n",
        "# Mostra a palavra do token_i\n",
        "print((texto_tokenizado[token_i], tokens_indexados[token_i]))\n",
        "\n",
        "# Aumenta o tamanho da plotagem do gráfico\n",
        "plt.figure(figsize=(15,10))\n",
        "\n",
        "# Cria o histograma com 200 classes\n",
        "plt.hist(vec, bins=200, color='blue')\n",
        "\n",
        "# Plota os tokens da sentença\n",
        "token_i = 15\n",
        "layer_i = 0\n",
        "\n",
        "# Recupera o vetor de embeddings da última camada para o token\n",
        "vec = last_hidden_states[layer_i][token_i]\n",
        "\n",
        "# Mostra a palavra do token_i\n",
        "print((texto_tokenizado[token_i], tokens_indexados[token_i]))\n",
        "\n",
        "# Aumenta o tamanho da plotagem do gráfico\n",
        "plt.hist(vec, bins=200, color='green')\n",
        "\n",
        "# Plota os tokens da sentença\n",
        "token_i = 16\n",
        "layer_i = 0\n",
        "\n",
        "# Recupera o vetor de embeddings da última camada para o token\n",
        "vec = last_hidden_states[layer_i][token_i]\n",
        "\n",
        "# Mostra a palavra do token_i\n",
        "print((texto_tokenizado[token_i], tokens_indexados[token_i]))\n",
        "\n",
        "# Cria o histograma com 200 classes\n",
        "plt.hist(vec, bins=200, color='red')\n",
        "\n",
        "# Mostra o gráfico\n",
        "plt.show()"
      ],
      "execution_count": null,
      "outputs": [
        {
          "output_type": "stream",
          "text": [
            "('em', 7861)\n",
            "('##bed', 8270)\n",
            "('##ding', 4667)\n"
          ],
          "name": "stdout"
        },
        {
          "output_type": "display_data",
          "data": {
            "image/png": "[encoded data removed]",
            "text/plain": [
              "<Figure size 1080x720 with 1 Axes>"
            ]
          },
          "metadata": {
            "tags": [],
            "needs_background": "light"
          }
        }
      ]
    },
    {
      "cell_type": "markdown",
      "metadata": {
        "id": "L4nCjo4Gk2mn"
      },
      "source": [
        "Vamos nos livrar da dimensão lotes \"batches\", pois não precisamos dela."
      ]
    },
    {
      "cell_type": "code",
      "metadata": {
        "colab": {
          "base_uri": "https://localhost:8080/"
        },
        "id": "cDUaiktBk2mn",
        "outputId": "6063505f-acfd-419b-eed2-7af7c93052c9"
      },
      "source": [
        "print (\"O vetor da última camada oculta tem o formato:\", last_hidden_states.size())\n",
        "\n",
        "# Remove a dimensão 1, o lote \"batches\".\n",
        "# O método ´squeeze´ remove a primeira dimensão(0) pois possui tamanho 1\n",
        "token_embeddings = torch.squeeze(last_hidden_states, dim=0)\n",
        "\n",
        "print (\"O vetor de tokens de embedding da senteça tem o formato:\", token_embeddings.size())"
      ],
      "execution_count": null,
      "outputs": [
        {
          "output_type": "stream",
          "text": [
            "O vetor da última camada oculta tem o formato: torch.Size([1, 45, 1024])\n",
            "O vetor de tokens de embedding da senteça tem o formato: torch.Size([45, 1024])\n"
          ],
          "name": "stdout"
        }
      ]
    },
    {
      "cell_type": "markdown",
      "metadata": {
        "id": "TuCtLaX-k2mn"
      },
      "source": [
        "Confirmando vetores dependentes do contexto\n"
      ]
    },
    {
      "cell_type": "code",
      "metadata": {
        "colab": {
          "base_uri": "https://localhost:8080/"
        },
        "id": "jbK5BLh6k2mn",
        "outputId": "2189c3e9-e0f8-4eee-eaf3-15100a772b24"
      },
      "source": [
        "for i, token_str in enumerate(texto_tokenizado):\n",
        "  print (i, token_str)"
      ],
      "execution_count": null,
      "outputs": [
        {
          "output_type": "stream",
          "text": [
            "0 [CLS]\n",
            "1 a\n",
            "2 word\n",
            "3 can\n",
            "4 be\n",
            "5 context\n",
            "6 ##ual\n",
            "7 ##ized\n",
            "8 or\n",
            "9 not\n",
            "10 context\n",
            "11 ##ual\n",
            "12 ##ized\n",
            "13 using\n",
            "14 em\n",
            "15 ##bed\n",
            "16 ##ding\n",
            "17 ##s\n",
            "18 .\n",
            "19 the\n",
            "20 use\n",
            "21 of\n",
            "22 em\n",
            "23 ##bed\n",
            "24 ##ding\n",
            "25 ##s\n",
            "26 expands\n",
            "27 the\n",
            "28 use\n",
            "29 of\n",
            "30 language\n",
            "31 in\n",
            "32 computing\n",
            "33 .\n",
            "34 the\n",
            "35 commission\n",
            "36 supports\n",
            "37 the\n",
            "38 em\n",
            "39 ##bed\n",
            "40 ##ding\n",
            "41 of\n",
            "42 companies\n",
            "43 .\n",
            "44 [SEP]\n"
          ],
          "name": "stdout"
        }
      ]
    },
    {
      "cell_type": "markdown",
      "metadata": {
        "id": "Tsf_10JZSQ0O"
      },
      "source": [
        "Concatenando as subpalavras"
      ]
    },
    {
      "cell_type": "code",
      "metadata": {
        "id": "e1MNvsvRQsHq",
        "colab": {
          "base_uri": "https://localhost:8080/"
        },
        "outputId": "9f044280-1b26-4114-f3e6-dbdeb9b45971"
      },
      "source": [
        "#Indíce início e fim do token\n",
        "tokenInicio = 14\n",
        "tokenFim = 16\n",
        "\n",
        "#Inicia com o primeiro token.\n",
        "token_unificado = texto_tokenizado[tokenInicio]\n",
        "\n",
        "# Seleciona o restante dos tokens e junta com espaços.\n",
        "for i in range(tokenInicio + 1, tokenFim + 1):\n",
        "    \n",
        "    # Se for um token de subpalavra, combina com o token anterior.\n",
        "    if texto_tokenizado[i][0:2] == '##':\n",
        "        token_unificado += texto_tokenizado[i][2:]\n",
        "    \n",
        "    # Caso contrário adiciona um espaço ao token.\n",
        "    else:\n",
        "        token_unificado += ' ' + texto_tokenizado[i]\n",
        "\n",
        "print('token: \"' + token_unificado + '\"')"
      ],
      "execution_count": null,
      "outputs": [
        {
          "output_type": "stream",
          "text": [
            "token: \"embedding\"\n"
          ],
          "name": "stdout"
        }
      ]
    },
    {
      "cell_type": "code",
      "metadata": {
        "id": "5JRj9pcCMUaU",
        "colab": {
          "base_uri": "https://localhost:8080/"
        },
        "outputId": "b32e67ef-17bf-48be-f98a-8034187d73a8"
      },
      "source": [
        "print(texto_tokenizado[14], str(token_embeddings[4][:5]))\n",
        "print(texto_tokenizado[15], str(token_embeddings[4][:5]))\n",
        "print(texto_tokenizado[16], str(token_embeddings[4][:5]))"
      ],
      "execution_count": null,
      "outputs": [
        {
          "output_type": "stream",
          "text": [
            "em tensor([-0.0361, -1.3936, -0.7377,  0.1916,  0.1901])\n",
            "##bed tensor([-0.0361, -1.3936, -0.7377,  0.1916,  0.1901])\n",
            "##ding tensor([-0.0361, -1.3936, -0.7377,  0.1916,  0.1901])\n"
          ],
          "name": "stdout"
        }
      ]
    },
    {
      "cell_type": "markdown",
      "metadata": {
        "id": "4LgR5VmLk2mn"
      },
      "source": [
        "Exibe os embenddings das palavras"
      ]
    },
    {
      "cell_type": "markdown",
      "metadata": {
        "id": "8FDXv5FUk2mn"
      },
      "source": [
        "A letter aparece nos índices 14, 22 e 38.\n"
      ]
    },
    {
      "cell_type": "code",
      "metadata": {
        "colab": {
          "base_uri": "https://localhost:8080/"
        },
        "id": "Dkt26DRFk2mn",
        "outputId": "fd4c77b8-352c-4645-f60a-a092a1d82c05"
      },
      "source": [
        "# Índice das palavras a serem comparadas\n",
        "palavra1 = 14\n",
        "palavra2 = 22\n",
        "palavra3 = 38\n",
        "\n",
        "print('Os primeiros 5 valores de cada instância de \"embedding\".')\n",
        "print('Primeira ocorrência:')\n",
        "print(texto_tokenizado[palavra1], str(token_embeddings[palavra1][:5]))\n",
        "print(texto_tokenizado[palavra1+1], str(token_embeddings[palavra1+1][:5]))\n",
        "print(texto_tokenizado[palavra1+2], str(token_embeddings[palavra1+2][:5]))\n",
        "\n",
        "print('\\nSegunda ocorrência:')\n",
        "print(texto_tokenizado[palavra2], str(token_embeddings[palavra2][:5]))\n",
        "print(texto_tokenizado[palavra2+1], str(token_embeddings[palavra2+1][:5]))\n",
        "print(texto_tokenizado[palavra2+2], str(token_embeddings[palavra2+2][:5]))\n",
        "\n",
        "print('\\nTerceira ocorrência:')\n",
        "print(texto_tokenizado[palavra3], str(token_embeddings[palavra3][:5]))\n",
        "print(texto_tokenizado[palavra3+1], str(token_embeddings[palavra3+1][:5]))\n",
        "print(texto_tokenizado[palavra3+2], str(token_embeddings[palavra3+2][:5]))\n"
      ],
      "execution_count": null,
      "outputs": [
        {
          "output_type": "stream",
          "text": [
            "Os primeiros 5 valores de cada instância de \"embedding\".\n",
            "Primeira ocorrência:\n",
            "em tensor([-0.9927, -0.0458, -0.5320, -0.7997, -0.4275])\n",
            "##bed tensor([-0.0803, -0.5647, -0.2167, -0.3267,  0.2514])\n",
            "##ding tensor([-0.7342, -0.4752, -0.2634, -0.0746, -0.0647])\n",
            "\n",
            "Segunda ocorrência:\n",
            "em tensor([-1.4474, -0.5326, -0.5481, -0.5629, -0.1175])\n",
            "##bed tensor([-0.4111, -0.7831, -0.0166, -0.2769,  0.4590])\n",
            "##ding tensor([-0.7655, -0.6910, -0.3633, -0.0998,  0.1103])\n",
            "\n",
            "Terceira ocorrência:\n",
            "em tensor([-1.2394, -0.7792, -0.3866, -0.4078, -0.2815])\n",
            "##bed tensor([ 0.0018, -0.5129,  0.1483,  0.0428,  0.5552])\n",
            "##ding tensor([-0.5821, -0.5726,  0.1456,  0.1368, -0.0397])\n"
          ],
          "name": "stdout"
        }
      ]
    },
    {
      "cell_type": "markdown",
      "metadata": {
        "id": "BDrpVcP7k2mn"
      },
      "source": [
        "### Comparando as palavras das frases 1 token\n",
        "\n",
        "Podemos ver que os valores diferem, mas vamos calcular a semelhança de cosseno entre os vetores para fazer uma comparação mais precisa."
      ]
    },
    {
      "cell_type": "code",
      "metadata": {
        "colab": {
          "base_uri": "https://localhost:8080/"
        },
        "id": "90Bwk5FXk2mn",
        "outputId": "51f1f174-c0b1-41c4-a099-5e973de23666"
      },
      "source": [
        "from scipy.spatial.distance import cosine\n",
        "\n",
        "print(\"Período:\", texto)\n",
        "print(\"Palavra1=\", palavra1, \"=\", texto_tokenizado[palavra1], \"(embedding)\")\n",
        "print(\"Palavra2=\", palavra2, \"=\", texto_tokenizado[palavra2], \"(embedding)\")\n",
        "print(\"Palavra3=\", palavra3, \"=\", texto_tokenizado[palavra3], \"(incorporação)\")\n",
        "\n",
        "# Calcula a similaridade de coseno entre as palavras embedding\n",
        "# Em \"embedding\" versus \"incorporaçao\" (diferentes significados).\n",
        "diferente1 = 1 - cosine(token_embeddings[palavra2][:5], token_embeddings[palavra3][:5])\n",
        "\n",
        "print('Vetor de similaridade para diferentes significados(',palavra2,',',palavra3,'):  %.2f' % diferente1)\n",
        "\n",
        "# Calcula a similaridade de coseno entre as palavras embedding\n",
        "# Em \"embedding\" versus \"embedding\" (mesmo significado).\n",
        "mesmo = 1 - cosine(token_embeddings[palavra2][:5], token_embeddings[palavra1][:5])\n",
        "\n",
        "print('Vetor de similaridade para mesmo significado(',palavra2,',',palavra1,')      :  %.2f' % mesmo)\n",
        "\n",
        "# Calcula a similaridade de coseno entre as palavras embedding\n",
        "# Em \"embedding\" incorporação\" (diferente significados).\n",
        "diferente2 = 1 - cosine(token_embeddings[palavra1][:5], token_embeddings[palavra3][:5])\n",
        "\n",
        "print('Vetor de similaridade para diferentes significados(',palavra1,',',palavra3,'):  %.2f' % diferente2)"
      ],
      "execution_count": null,
      "outputs": [
        {
          "output_type": "stream",
          "text": [
            "Período: A word can be contextualized or not contextualized using embeddings.The use of embeddings expands the use of language in computing.The commission supports the embedding of  companies.\n",
            "Palavra1= 14 = em (embedding)\n",
            "Palavra2= 22 = em (embedding)\n",
            "Palavra3= 38 = em (incorporação)\n",
            "Vetor de similaridade para diferentes significados( 22 , 38 ):  0.97\n",
            "Vetor de similaridade para mesmo significado( 22 , 14 )      :  0.90\n",
            "Vetor de similaridade para diferentes significados( 14 , 38 ):  0.83\n"
          ],
          "name": "stdout"
        }
      ]
    },
    {
      "cell_type": "markdown",
      "metadata": {
        "id": "-G4Ou80lm_p6"
      },
      "source": [
        "### Comparando as palavras das frases 2 tokens\n",
        "\n",
        "Podemos ver que os valores diferem, mas vamos calcular a semelhança de cosseno entre os vetores para fazer uma comparação mais precisa.\n",
        "\n",
        "Calcula a média dos embeddings dos tokens que forma a palavra."
      ]
    },
    {
      "cell_type": "code",
      "metadata": {
        "colab": {
          "base_uri": "https://localhost:8080/"
        },
        "id": "Su_-ovtcnC3S",
        "outputId": "e0c42d1f-0565-469e-bfe8-f4d72e63c4f3"
      },
      "source": [
        "from scipy.spatial.distance import cosine\n",
        "\n",
        "print(\"Período:\", texto)\n",
        "print(\"Palavra1=\", palavra1, \" e \", palavra1 + 1, \"=\", texto_tokenizado[palavra1], texto_tokenizado[palavra1+1], \"(embedding)\")\n",
        "print(\"Palavra2=\", palavra2, \" e \", palavra2 + 1, \"=\", texto_tokenizado[palavra2], texto_tokenizado[palavra2+1], \"(embedding)\")\n",
        "print(\"Palavra3=\", palavra3, \" e \", palavra3 + 1, \"=\", texto_tokenizado[palavra3], texto_tokenizado[palavra3+1], \"(incorporação)\")\n",
        "\n",
        "# Calcula a similaridade de coseno entre as palavras embedding\n",
        "# Em \"embedding\" versus \"incorporaçao\" (diferentes significados).\n",
        "#diferente1 = 1 - cosine(token_embeddings[palavra2:palavra2+1][:5], token_embeddings[palavra3:palavra3+1][:5])\n",
        "diferente1 = 1 - cosine(\n",
        "                        (token_embeddings[palavra2][:5]+token_embeddings[palavra2+1][:5])/2, \n",
        "                        (token_embeddings[palavra3][:5]+token_embeddings[palavra3+1][:5])/2\n",
        "                        )\n",
        "\n",
        "print('Vetor de similaridade para diferentes significados(',palavra2,'e', palavra2+1,',',palavra3,'e',palavra3+1,'):  %.2f' % diferente1)\n",
        "\n",
        "# Calcula a similaridade de coseno entre as palavras embedding\n",
        "# Em \"embedding\" versus \"embedding\" (mesmo significado).\n",
        "#mesmo = 1 - cosine(token_embeddings[palavra2:palavra2+1][:5], token_embeddings[palavra1:palavra1+1][:5])\n",
        "mesmo = 1 - cosine(\n",
        "                        (token_embeddings[palavra2][:5]+token_embeddings[palavra2+1][:5])/2, \n",
        "                        (token_embeddings[palavra1][:5]+token_embeddings[palavra1+1][:5])/2\n",
        "                  )\n",
        "\n",
        "\n",
        "print('Vetor de similaridade para mesmo significado(',palavra2,'e', palavra2+1,',',palavra1,'e',palavra1+1,')      :  %.2f' % mesmo)\n",
        "\n",
        "# Calcula a similaridade de coseno entre as palavras embedding\n",
        "# Em \"embedding\" incorporação\" (diferente significados).\n",
        "#diferente2 = 1 - cosine(token_embeddings[palavra1:palavra1+1][:5], token_embeddings[palavra3:palavra3+1][:5])\n",
        "diferente2 = 1 - cosine(\n",
        "                        (token_embeddings[palavra1][:5]+token_embeddings[palavra1+1][:5])/2, \n",
        "                        (token_embeddings[palavra3][:5]+token_embeddings[palavra3+1][:5])/2\n",
        "                        )\n",
        "\n",
        "print('Vetor de similaridade para diferentes significados(',palavra1,'e', palavra1+1,',',palavra3,'e',palavra3+1,'):  %.2f' % diferente2)"
      ],
      "execution_count": null,
      "outputs": [
        {
          "output_type": "stream",
          "text": [
            "Período: A word can be contextualized or not contextualized using embeddings.The use of embeddings expands the use of language in computing.The commission supports the embedding of  companies.\n",
            "Palavra1= 14  e  15 = em ##bed (embedding)\n",
            "Palavra2= 22  e  23 = em ##bed (embedding)\n",
            "Palavra3= 38  e  39 = em ##bed (incorporação)\n",
            "Vetor de similaridade para diferentes significados( 22 e 23 , 38 e 39 ):  0.97\n",
            "Vetor de similaridade para mesmo significado( 22 e 23 , 14 e 15 )      :  0.89\n",
            "Vetor de similaridade para diferentes significados( 14 e 15 , 38 e 39 ):  0.78\n"
          ],
          "name": "stdout"
        }
      ]
    },
    {
      "cell_type": "markdown",
      "metadata": {
        "id": "eZZnBOCFnhQQ"
      },
      "source": [
        "### Comparando as palavras das frases 3 tokens\n",
        "\n",
        "Podemos ver que os valores diferem, mas vamos calcular a semelhança de cosseno entre os vetores para fazer uma comparação mais precisa.\n",
        "\n",
        "Calcula a média dos embeddings dos tokens que forma a palavra."
      ]
    },
    {
      "cell_type": "code",
      "metadata": {
        "colab": {
          "base_uri": "https://localhost:8080/"
        },
        "id": "qB8erI3BnhQR",
        "outputId": "95c34a4e-94d7-412a-db92-c17c6e62c6fe"
      },
      "source": [
        "from scipy.spatial.distance import cosine\n",
        "\n",
        "print(\"Período:\", texto)\n",
        "print(\"Palavra1=\", palavra1, \" e \", palavra1 + 1, \" e \", palavra1 + 2, \"=\", texto_tokenizado[palavra1], texto_tokenizado[palavra1+1], texto_tokenizado[palavra1+2], \"(embedding)\")\n",
        "print(\"Palavra2=\", palavra2, \" e \", palavra2 + 1, \" e \", palavra2 + 2, \"=\", texto_tokenizado[palavra2], texto_tokenizado[palavra2+1], texto_tokenizado[palavra2+2], \"(embedding)\")\n",
        "print(\"Palavra3=\", palavra3, \" e \", palavra3 + 1, \" e \", palavra3 + 2, \"=\", texto_tokenizado[palavra3], texto_tokenizado[palavra3+1], texto_tokenizado[palavra2+2], \"(incorporação)\")\n",
        "\n",
        "# Calcula a similaridade de coseno entre as palavras embedding\n",
        "# Em \"embedding\" versus \"incorporaçao\" (diferentes significados).\n",
        "diferente1 = 1 - cosine((token_embeddings[palavra2][:5] +\n",
        "                         token_embeddings[palavra2+1][:5]+\n",
        "                         token_embeddings[palavra2+2][:5])/2, \n",
        "                        (token_embeddings[palavra3][:5]+ \n",
        "                         token_embeddings[palavra3+1][:5]+\n",
        "                         token_embeddings[palavra3+2][:5])/2)\n",
        "\n",
        "print('Vetor de similaridade para diferentes significados(',palavra2,'e', palavra2+1,'e',palavra2+2,',',palavra3,'e',palavra3+1,'e',palavra3+2,')  :  %.2f' % diferente1)\n",
        "\n",
        "# Calcula a similaridade de coseno entre as palavras embedding\n",
        "# Em \"embedding\" versus \"embedding\" (mesmo significado).\n",
        "mesmo = 1 - cosine((token_embeddings[palavra2][:5] +\n",
        "                         token_embeddings[palavra2+1][:5]+\n",
        "                         token_embeddings[palavra2+2][:5])/2, \n",
        "                        (token_embeddings[palavra1][:5]+ \n",
        "                         token_embeddings[palavra1+1][:5]+\n",
        "                         token_embeddings[palavra1+2][:5])/2)\n",
        "\n",
        "print('Vetor de similaridade para diferentes significados(',palavra2,'e', palavra2+1,'e',palavra2+2,',',palavra1,'e',palavra1+1,'e',palavra2+2,')  :  %.2f' % mesmo)\n",
        "\n",
        "# Calcula a similaridade de coseno entre as palavras embedding\n",
        "# Em \"embedding\" incorporação\" (diferente significados).\n",
        "#diferente2 = 1 - cosine(token_embeddings[palavra1:palavra1+2][:5], token_embeddings[palavra3:palavra3+2][:5])\n",
        "diferente2 = 1 - cosine((token_embeddings[palavra1][:5] +\n",
        "                         token_embeddings[palavra1+1][:5]+\n",
        "                         token_embeddings[palavra1+2][:5])/2, \n",
        "                        (token_embeddings[palavra3][:5]+ \n",
        "                         token_embeddings[palavra3+1][:5]+\n",
        "                         token_embeddings[palavra3+2][:5])/2)\n",
        "\n",
        "print('Vetor de similaridade para diferentes significados(',palavra1,'e', palavra1+1,'e',palavra1+2,',',palavra3,'e',palavra3+1,'e',palavra3+2,')  :  %.2f' % diferente2)"
      ],
      "execution_count": null,
      "outputs": [
        {
          "output_type": "stream",
          "text": [
            "Período: A word can be contextualized or not contextualized using embeddings.The use of embeddings expands the use of language in computing.The commission supports the embedding of  companies.\n",
            "Palavra1= 14  e  15  e  16 = em ##bed ##ding (embedding)\n",
            "Palavra2= 22  e  23  e  24 = em ##bed ##ding (embedding)\n",
            "Palavra3= 38  e  39  e  40 = em ##bed ##ding (incorporação)\n",
            "Vetor de similaridade para diferentes significados( 22 e 23 e 24 , 38 e 39 e 40 )  :  0.95\n",
            "Vetor de similaridade para diferentes significados( 22 e 23 e 24 , 14 e 15 e 24 )  :  0.94\n",
            "Vetor de similaridade para diferentes significados( 14 e 15 e 16 , 38 e 39 e 40 )  :  0.81\n"
          ],
          "name": "stdout"
        }
      ]
    },
    {
      "cell_type": "markdown",
      "metadata": {
        "id": "xg5_G2bHk2mq"
      },
      "source": [
        "### Visualizando a Frase\n",
        "\n",
        "Aqui, queremos mostrar a conexão entre os tokens de uma frase usando a incorporação do BERT. Plotamos as inserções dos tokens em um subespaço, onde (0,1) e (1,0) são os marcadores de partida [CLS] e [SEP] e marcadores finais e finais da frase."
      ]
    },
    {
      "cell_type": "code",
      "metadata": {
        "id": "x2kZ86eak2mq"
      },
      "source": [
        "# Import das bibliotecas\n",
        "import numpy as np\n",
        "import torch\n",
        "\n",
        "import matplotlib.pyplot as plt\n",
        "%matplotlib inline"
      ],
      "execution_count": null,
      "outputs": []
    },
    {
      "cell_type": "markdown",
      "metadata": {
        "id": "qlZ3dyGSk2mq"
      },
      "source": [
        "Transforma  o vetor de embendings em um array."
      ]
    },
    {
      "cell_type": "code",
      "metadata": {
        "id": "g5M0n-6yk2mq"
      },
      "source": [
        "# Transforma tokens embeddings em um array\n",
        "embeddings = token_embeddings.numpy()"
      ],
      "execution_count": null,
      "outputs": []
    },
    {
      "cell_type": "markdown",
      "metadata": {
        "id": "JpSMwnB5k2mq"
      },
      "source": [
        "Base selecionada para que o [CLS] e o [SEP] passem para (0,1) e (1,0)"
      ]
    },
    {
      "cell_type": "code",
      "metadata": {
        "id": "txQsUk5Fk2mq"
      },
      "source": [
        "# Converte para um array\n",
        "W = np.array(embeddings)\n",
        "# Transforma em um array\n",
        "B = np.array([embeddings[0], embeddings[-1]])\n",
        "# Inverte B.T\n",
        "Bi = np.linalg.pinv(B.T)"
      ],
      "execution_count": null,
      "outputs": []
    },
    {
      "cell_type": "markdown",
      "metadata": {
        "id": "nr7_wDQZk2mq"
      },
      "source": [
        "Projeta os tokens da palavra no subespaço"
      ]
    },
    {
      "cell_type": "code",
      "metadata": {
        "id": "qL33XCawk2mq"
      },
      "source": [
        "Wp = np.matmul(Bi,W.T)"
      ],
      "execution_count": null,
      "outputs": []
    },
    {
      "cell_type": "markdown",
      "metadata": {
        "id": "M2VckCC9k2mr"
      },
      "source": [
        "Plota o gráfico da frase"
      ]
    },
    {
      "cell_type": "code",
      "metadata": {
        "colab": {
          "base_uri": "https://localhost:8080/"
        },
        "id": "V5bbCV3Qk2mr",
        "outputId": "b335e54a-b96d-4094-9e3a-a2e729cefb4a"
      },
      "source": [
        "# Aumenta o tamanho da plotagem do gráfico\n",
        "plt.figure(figsize=(12,7))\n",
        "plt.axhline(color='black')\n",
        "plt.axvline(color='black')\n",
        "plt.scatter(Wp[0,:], Wp[1,:], label=texto)\n",
        "rX = max(Wp[0,:])-min(Wp[0,:])\n",
        "rY = max(Wp[1,:])-min(Wp[1,:])\n",
        "rM = max(rX, rY)\n",
        "eps = 0.005\n",
        "for i, token in enumerate(texto_tokenizado):\n",
        "    if token in ['[CLS]', '[SEP]']:\n",
        "        plt.annotate(token, (Wp[0,i]+rX*eps, Wp[1,i]+rX*eps))\n",
        "    if token in ['em', '##bed', '##ding' ]:\n",
        "        plt.annotate(token, (Wp[0,i]+rX*eps*-6, Wp[1,i]+rX*eps*3))\n",
        "    if i>0:\n",
        "        plt.arrow(Wp[0,i-1],Wp[1,i-1], Wp[0,i]-Wp[0,i-1], Wp[1,i]-Wp[1,i-1], color='lightblue', head_length=rM*eps*3, head_width=rM*eps*2, length_includes_head=True)\n",
        "plt.legend()\n",
        "\n",
        "# Mostra o gráfico\n",
        "plt.show()"
      ],
      "execution_count": null,
      "outputs": [
        {
          "output_type": "display_data",
          "data": {
            "image/png": "[encoded data removed]",
            "text/plain": [
              "<Figure size 864x504 with 1 Axes>"
            ]
          },
          "metadata": {
            "tags": [],
            "needs_background": "light"
          }
        }
      ]
    },
    {
      "cell_type": "markdown",
      "metadata": {
        "id": "Q462ytjnk2mr"
      },
      "source": [
        "### Comparando as frases\n",
        "\n",
        "Dividindo o texto em três frases."
      ]
    },
    {
      "cell_type": "code",
      "metadata": {
        "colab": {
          "base_uri": "https://localhost:8080/"
        },
        "id": "ILmeJplEk2mr",
        "outputId": "0f5d410e-f913-4227-f492-67b753e8de9f"
      },
      "source": [
        "textopt_br = [\"Uma palavra pode ser contextualizada ou não contextualizando usando embeddings.\",\n",
        "            \"O uso de embeddings expande o uso da linguagem na computação.\",\n",
        "            \"A comissão apoia a incorporação das empresas.\"]\n",
        "\n",
        "texto = [\"A word can be contextualized or not contextualized using embeddings.\",\n",
        "        \"The use of embeddings expands the use of language in computing.\",\n",
        "        \"The commission supports the embedding of  companies.\"]\n",
        "\n",
        "colors = ['blue', 'red', 'green']\n",
        "\n",
        "# Aumenta o tamanho da plotagem do gráfico\n",
        "plt.figure(figsize=(12,7))\n",
        "plt.axhline(color='black')\n",
        "plt.axvline(color='black')\n",
        "for n,frase in enumerate(texto):\n",
        "    Wp, tokens = getEmbeddingsVisual(frase, model, tokenizer)\n",
        "    print(tokens)    \n",
        "    plt.scatter(Wp[0,:], Wp[1,:], color=colors[n], marker='x', label=frase)\n",
        "    rX = max(Wp[0,:])-min(Wp[0,:])\n",
        "    rY = max(Wp[1,:])-min(Wp[1,:])\n",
        "    rM = max(rX, rY)\n",
        "    eps = 0.005\n",
        "    eps2 = 0.005\n",
        "    for i, token in enumerate(tokens):\n",
        "        if token in ['[CLS]', '[SEP]']:\n",
        "            plt.annotate(token, (Wp[0,i]+rX*eps, Wp[1,i]+rX*eps))\n",
        "        if token in ['em', '##bed', '##ding' ]:\n",
        "            plt.annotate(token, (Wp[0,i]+rX*eps*-6, Wp[1,i]+rX*eps*3))\n",
        "        if i>0:\n",
        "            plt.arrow(Wp[0,i-1],Wp[1,i-1], Wp[0,i]-Wp[0,i-1], Wp[1,i]-Wp[1,i-1], color=colors[n], head_length=rM*eps2*4, head_width=rM*eps2*2, length_includes_head=True)\n",
        "plt.legend()\n",
        "\n",
        "# Mostra o gráfico\n",
        "plt.show()       "
      ],
      "execution_count": null,
      "outputs": [
        {
          "output_type": "stream",
          "text": [
            "['[CLS]', 'a', 'word', 'can', 'be', 'context', '##ual', '##ized', 'or', 'not', 'context', '##ual', '##ized', 'using', 'em', '##bed', '##ding', '##s', '.', '[SEP]']\n",
            "['[CLS]', 'the', 'use', 'of', 'em', '##bed', '##ding', '##s', 'expands', 'the', 'use', 'of', 'language', 'in', 'computing', '.', '[SEP]']\n",
            "['[CLS]', 'the', 'commission', 'supports', 'the', 'em', '##bed', '##ding', 'of', 'companies', '.', '[SEP]']\n"
          ],
          "name": "stdout"
        },
        {
          "output_type": "display_data",
          "data": {
            "image/png": "[encoded data removed]",
            "text/plain": [
              "<Figure size 864x504 with 1 Axes>"
            ]
          },
          "metadata": {
            "tags": [],
            "needs_background": "light"
          }
        }
      ]
    },
    {
      "cell_type": "markdown",
      "metadata": {
        "id": "8eQFJRU3E9Dh"
      },
      "source": [
        "## 8 - Exemplo palavra \"letter\""
      ]
    },
    {
      "cell_type": "code",
      "metadata": {
        "colab": {
          "base_uri": "https://localhost:8080/"
        },
        "id": "zY-JpumVE9Dh",
        "outputId": "62eef7cc-ca7d-4728-c93c-6aa54deca4c7"
      },
      "source": [
        "# Define um sentença de exemplo com diversos siginificados da palavra  \"letter\"\n",
        "textopt_br = \"O A é a primeira letra do alfabeto.\" \\\n",
        "            \"Nome próprio possui primeira letra em maiúsculo.\" \\\n",
        "            \"Eu escrevi uma carta para a minha mãe neste final de semana.\"\n",
        "\n",
        "texto = \"The A is the first letter of the alphabet.\" \\\n",
        "        \"First name has first letter in capital.\" \\\n",
        "        \"I wrote a letter to my mother this weekend.\"\n",
        "\n",
        "# Adiciona os tokens especiais\n",
        "texto_marcado = \"[CLS] \" + texto + \" [SEP]\"\n",
        "\n",
        "# Divide a sentença em tokens\n",
        "texto_tokenizado = tokenizer.tokenize(texto_marcado)\n",
        "\n",
        "# Mapeia os tokens em seus índices do vocabulário\n",
        "tokens_indexados = tokenizer.convert_tokens_to_ids(texto_tokenizado)\n",
        "\n",
        "# Mostra os tokens com seus índices\n",
        "i = 0\n",
        "for tup in zip(texto_tokenizado, tokens_indexados):\n",
        "    print('{:>3} {:<12} {:>6,}'.format(i, tup[0], tup[1]))\n",
        "    i= i + 1"
      ],
      "execution_count": null,
      "outputs": [
        {
          "output_type": "stream",
          "text": [
            "  0 [CLS]           101\n",
            "  1 the           1,996\n",
            "  2 a             1,037\n",
            "  3 is            2,003\n",
            "  4 the           1,996\n",
            "  5 first         2,034\n",
            "  6 letter        3,661\n",
            "  7 of            1,997\n",
            "  8 the           1,996\n",
            "  9 alphabet     12,440\n",
            " 10 .             1,012\n",
            " 11 first         2,034\n",
            " 12 name          2,171\n",
            " 13 has           2,038\n",
            " 14 first         2,034\n",
            " 15 letter        3,661\n",
            " 16 in            1,999\n",
            " 17 capital       3,007\n",
            " 18 .             1,012\n",
            " 19 i             1,045\n",
            " 20 wrote         2,626\n",
            " 21 a             1,037\n",
            " 22 letter        3,661\n",
            " 23 to            2,000\n",
            " 24 my            2,026\n",
            " 25 mother        2,388\n",
            " 26 this          2,023\n",
            " 27 weekend       5,353\n",
            " 28 .             1,012\n",
            " 29 [SEP]           102\n"
          ],
          "name": "stdout"
        }
      ]
    },
    {
      "cell_type": "markdown",
      "metadata": {
        "id": "gEVM9evTE9Di"
      },
      "source": [
        "O BERT é treinado e espera pares de frases, usando 1s e 0s para distinguir entre as duas frases. Ou seja, para cada token em \"texto_tokenizado\", devemos especificar a qual frase pertence: sentença 0 (uma série de 0s) ou sentença 1 (uma série de 1s). Para nossos propósitos, as entradas de sentença única requerem apenas uma série de 1s; portanto, criaremos um vetor de 1s para cada token em nossa frase de entrada.\n",
        "\n",
        "Se você deseja processar duas frases, atribua cada palavra na primeira frase mais o token '[SEP]' a 0 e todos os tokens da segunda frase a 1."
      ]
    },
    {
      "cell_type": "code",
      "metadata": {
        "colab": {
          "base_uri": "https://localhost:8080/"
        },
        "id": "7hi80ueUE9Di",
        "outputId": "47efcdd2-6861-4c52-80d9-bd40524a0a23"
      },
      "source": [
        "# Marca cada um dos tokens como pertencentes à frase \"1\", pois só iremos analisar uma.\n",
        "segmentos_ids = [1] * len(texto_tokenizado)\n",
        "\n",
        "print (segmentos_ids)\n",
        "print (len(segmentos_ids))"
      ],
      "execution_count": null,
      "outputs": [
        {
          "output_type": "stream",
          "text": [
            "[1, 1, 1, 1, 1, 1, 1, 1, 1, 1, 1, 1, 1, 1, 1, 1, 1, 1, 1, 1, 1, 1, 1, 1, 1, 1, 1, 1, 1, 1]\n",
            "30\n"
          ],
          "name": "stdout"
        }
      ]
    },
    {
      "cell_type": "markdown",
      "metadata": {
        "id": "eio80TGIE9Di"
      },
      "source": [
        "Converte 'tokens_indexados' e 'semegmentos_ids' em  listas em tensores."
      ]
    },
    {
      "cell_type": "code",
      "metadata": {
        "id": "BauRYZZWE9Di"
      },
      "source": [
        "# Importa a bibliteca\n",
        "import torch\n",
        "\n",
        "# Converte as entradas de listas para tensores do torch\n",
        "tokens_tensores = torch.as_tensor([tokens_indexados])\n",
        "segmentos_tensores = torch.as_tensor([segmentos_ids])"
      ],
      "execution_count": null,
      "outputs": []
    },
    {
      "cell_type": "markdown",
      "metadata": {
        "id": "5vhUGOMFE9Di"
      },
      "source": [
        "Gera os embeddings para a frase e retorna a saída em  `outputs`.\n"
      ]
    },
    {
      "cell_type": "code",
      "metadata": {
        "id": "mzJ8EtphE9Di"
      },
      "source": [
        "# Prediz os atributos dos estados ocultos para cada camada\n",
        "with torch.no_grad():    \n",
        "  \n",
        "    # Retorno de model quando ´last_hidden_state=True´ é setado:    \n",
        "    #outputs[0] = last_hidden_state, outputs[1] = pooler_output, outputs[2] = hidden_states\n",
        "    outputs = model(tokens_tensores, segmentos_tensores)"
      ],
      "execution_count": null,
      "outputs": []
    },
    {
      "cell_type": "markdown",
      "metadata": {
        "id": "q20FtWHSE9Di"
      },
      "source": [
        "Recupera a última camada."
      ]
    },
    {
      "cell_type": "code",
      "metadata": {
        "colab": {
          "base_uri": "https://localhost:8080/"
        },
        "id": "V-kqpLpeE9Di",
        "outputId": "e8aed6a6-af4c-4299-bb80-5a5b75534196"
      },
      "source": [
        "# Recupera a última camada oculta da saída\n",
        "last_hidden_states = outputs[0]\n",
        "\n",
        "print (\"O vetor da última camada oculta tem o formato:\", last_hidden_states.size())"
      ],
      "execution_count": null,
      "outputs": [
        {
          "output_type": "stream",
          "text": [
            "O vetor da última camada oculta tem o formato: torch.Size([1, 30, 1024])\n"
          ],
          "name": "stdout"
        }
      ]
    },
    {
      "cell_type": "markdown",
      "metadata": {
        "id": "X32PXv_CE9Di"
      },
      "source": [
        "Intervalo de valores para uma determinada camada e token."
      ]
    },
    {
      "cell_type": "code",
      "metadata": {
        "colab": {
          "base_uri": "https://localhost:8080/",
          "height": 609
        },
        "id": "UJ6iZceYE9Di",
        "outputId": "fdd9c1c9-73ee-4001-e9fc-355df480910c"
      },
      "source": [
        "# Import da biblioteca gráfica\n",
        "import matplotlib.pyplot as plt\n",
        "%matplotlib inline\n",
        "\n",
        "# Plota os tokens da sentença\n",
        "token_i = 6\n",
        "layer_i = 0\n",
        "\n",
        "# Recupera o vetor de embeddings da última camada para o token\n",
        "vec = last_hidden_states[layer_i][token_i]\n",
        "\n",
        "# Mostra a palavra do token_i\n",
        "print((texto_tokenizado[token_i], tokens_indexados[token_i]))\n",
        "\n",
        "# Aumenta o tamanho da plotagem do gráfico\n",
        "plt.figure(figsize=(15,10))\n",
        "\n",
        "# Cria o histograma com 200 classes\n",
        "plt.hist(vec, bins=200)\n",
        "\n",
        "# Mostra o gráfico\n",
        "plt.show()"
      ],
      "execution_count": null,
      "outputs": [
        {
          "output_type": "stream",
          "text": [
            "('letter', 3661)\n"
          ],
          "name": "stdout"
        },
        {
          "output_type": "display_data",
          "data": {
            "image/png": "[encoded data removed]",
            "text/plain": [
              "<Figure size 1080x720 with 1 Axes>"
            ]
          },
          "metadata": {
            "tags": [],
            "needs_background": "light"
          }
        }
      ]
    },
    {
      "cell_type": "markdown",
      "metadata": {
        "id": "1fguaP8qE9Di"
      },
      "source": [
        "Vamos nos livrar da dimensão lotes \"batches\", pois não precisamos dela."
      ]
    },
    {
      "cell_type": "code",
      "metadata": {
        "colab": {
          "base_uri": "https://localhost:8080/"
        },
        "id": "QY1ETzBfE9Di",
        "outputId": "e9a4cc19-24ba-4fd6-df33-ca2ff522eb26"
      },
      "source": [
        "print (\"O vetor da última camada oculta tem o formato:\", last_hidden_states.size())\n",
        "\n",
        "# Remove a dimensão 1, o lote \"batches\".\n",
        "# O método ´squeeze´ remove a primeira dimensão(0) pois possui tamanho 1\n",
        "token_embeddings = torch.squeeze(last_hidden_states, dim=0)\n",
        "\n",
        "print (\"O vetor de tokens de embedding da senteça tem o formato:\", token_embeddings.size())"
      ],
      "execution_count": null,
      "outputs": [
        {
          "output_type": "stream",
          "text": [
            "O vetor da última camada oculta tem o formato: torch.Size([1, 30, 1024])\n",
            "O vetor de tokens de embedding da senteça tem o formato: torch.Size([30, 1024])\n"
          ],
          "name": "stdout"
        }
      ]
    },
    {
      "cell_type": "markdown",
      "metadata": {
        "id": "3-2Vb5FcE9Dj"
      },
      "source": [
        "Confirmando vetores dependentes do contexto\n"
      ]
    },
    {
      "cell_type": "code",
      "metadata": {
        "colab": {
          "base_uri": "https://localhost:8080/"
        },
        "id": "ToACQkq1E9Dj",
        "outputId": "9f3a9ea3-7e81-4eb6-b87a-8809da7761aa"
      },
      "source": [
        "for i, token_str in enumerate(texto_tokenizado):\n",
        "  print (i, token_str)"
      ],
      "execution_count": null,
      "outputs": [
        {
          "output_type": "stream",
          "text": [
            "0 [CLS]\n",
            "1 the\n",
            "2 a\n",
            "3 is\n",
            "4 the\n",
            "5 first\n",
            "6 letter\n",
            "7 of\n",
            "8 the\n",
            "9 alphabet\n",
            "10 .\n",
            "11 first\n",
            "12 name\n",
            "13 has\n",
            "14 first\n",
            "15 letter\n",
            "16 in\n",
            "17 capital\n",
            "18 .\n",
            "19 i\n",
            "20 wrote\n",
            "21 a\n",
            "22 letter\n",
            "23 to\n",
            "24 my\n",
            "25 mother\n",
            "26 this\n",
            "27 weekend\n",
            "28 .\n",
            "29 [SEP]\n"
          ],
          "name": "stdout"
        }
      ]
    },
    {
      "cell_type": "markdown",
      "metadata": {
        "id": "s76XO4jQE9Dj"
      },
      "source": [
        "Exibe os embenddings das palavras"
      ]
    },
    {
      "cell_type": "markdown",
      "metadata": {
        "id": "jm7zZM59E9Dj"
      },
      "source": [
        "A bank aparece nos índices 6, 15 e 22.\n"
      ]
    },
    {
      "cell_type": "code",
      "metadata": {
        "colab": {
          "base_uri": "https://localhost:8080/"
        },
        "id": "lkPEjDiaE9Dj",
        "outputId": "c1bf9261-f9ae-4573-ca6f-c95894e1840a"
      },
      "source": [
        "# Índice das palavras a serem comparadas\n",
        "palavra1 = 6\n",
        "palavra2 = 15\n",
        "palavra3 = 22\n",
        "\n",
        "print('Os primeiros 5 valores de cada instância de \"letter\".')\n",
        "print('')\n",
        "print(texto_tokenizado[palavra1], str(token_embeddings[palavra1][:5]))\n",
        "print(texto_tokenizado[palavra2], str(token_embeddings[palavra2][:5]))\n",
        "print(texto_tokenizado[palavra3], str(token_embeddings[palavra3][:5]))"
      ],
      "execution_count": null,
      "outputs": [
        {
          "output_type": "stream",
          "text": [
            "Os primeiros 5 valores de cada instância de \"letter\".\n",
            "\n",
            "letter tensor([-0.2523, -0.0994,  0.3474, -0.7908, -0.7231])\n",
            "letter tensor([-0.2816, -0.1069,  0.1347, -0.5971, -0.4354])\n",
            "letter tensor([-0.8484, -0.3777, -0.0684,  0.0664, -0.3315])\n"
          ],
          "name": "stdout"
        }
      ]
    },
    {
      "cell_type": "markdown",
      "metadata": {
        "id": "O8i1NpZEE9Dj"
      },
      "source": [
        "### Comparando as palavras das frases\n",
        "Podemos ver que os valores diferem, mas vamos calcular a semelhança de cosseno entre os vetores para fazer uma comparação mais precisa."
      ]
    },
    {
      "cell_type": "code",
      "metadata": {
        "colab": {
          "base_uri": "https://localhost:8080/"
        },
        "id": "wFv_tgcTE9Dj",
        "outputId": "3da81c56-3e30-400f-b5f3-67dd886cc7fd"
      },
      "source": [
        "from scipy.spatial.distance import cosine\n",
        "\n",
        "print(\"Período:\", texto)\n",
        "print(\"Palavra1=\", palavra1, \"=\", texto_tokenizado[palavra1], \"(letra)\")\n",
        "print(\"Palavra2=\", palavra2, \"=\", texto_tokenizado[palavra2], \"(letra)\")\n",
        "print(\"Palavra3=\", palavra3, \"=\", texto_tokenizado[palavra3], \"(carta)\")\n",
        "\n",
        "# Calcula a similaridade de coseno entre as palavras letter\n",
        "# Em \"first letter capital\" versus \"wrote a letter\" (diferentes significados).\n",
        "diferente1 = 1 - cosine(token_embeddings[palavra2][:5], token_embeddings[palavra3][:5])\n",
        "\n",
        "print('Vetor de similaridade para diferentes significados(',palavra2,',',palavra3,'):  %.2f' % diferente1)\n",
        "\n",
        "# Calcula a similaridade de coseno entre as palavras letter\n",
        "# Em \"first letter capital\" versus \"first letter alphabet\" (mesmo significado).\n",
        "mesmo = 1 - cosine(token_embeddings[palavra2][:5], token_embeddings[palavra1][:5])\n",
        "\n",
        "print('Vetor de similaridade para mesmo significado(',palavra2,',',palavra1,'):  %.2f' % mesmo)\n",
        "\n",
        "# Calcula a similaridade de coseno entre as palavras letter\n",
        "# Em \"first letter alphabet\" versus \"wrote a leter\" (diferente significados).\n",
        "diferente2 = 1 - cosine(token_embeddings[palavra1][:5], token_embeddings[palavra3][:5])\n",
        "\n",
        "print('Vetor de similaridade para diferentes significados(',palavra1,',',palavra3,'):  %.2f' % diferente2)"
      ],
      "execution_count": null,
      "outputs": [
        {
          "output_type": "stream",
          "text": [
            "Período: The A is the first letter of the alphabet.First name has first letter in capital.I wrote a letter to my mother this weekend.\n",
            "Palavra1= 6 = letter (letra)\n",
            "Palavra2= 15 = letter (letra)\n",
            "Palavra3= 22 = letter (carta)\n",
            "Vetor de similaridade para diferentes significados( 15 , 22 ):  0.47\n",
            "Vetor de similaridade para mesmo significado( 15 , 6 ):  0.98\n",
            "Vetor de similaridade para diferentes significados( 6 , 22 ):  0.36\n"
          ],
          "name": "stdout"
        }
      ]
    },
    {
      "cell_type": "markdown",
      "metadata": {
        "id": "98UAtkwNE9Dj"
      },
      "source": [
        "### Visualizando a Frase\n",
        "\n",
        "Aqui, queremos mostrar a conexão entre os tokens de uma frase usando a incorporação do BERT. Plotamos as inserções dos tokens em um subespaço, onde (0,1) e (1,0) são os marcadores de partida [CLS] e [SEP] e marcadores finais e finais da frase."
      ]
    },
    {
      "cell_type": "code",
      "metadata": {
        "id": "3KrXEQANE9Dj"
      },
      "source": [
        "# Import das bibliotecas\n",
        "import numpy as np\n",
        "import torch\n",
        "\n",
        "import matplotlib.pyplot as plt\n",
        "%matplotlib inline"
      ],
      "execution_count": null,
      "outputs": []
    },
    {
      "cell_type": "markdown",
      "metadata": {
        "id": "soFVr8lcE9Dj"
      },
      "source": [
        "Transforma  o vetor de embendings em um array."
      ]
    },
    {
      "cell_type": "code",
      "metadata": {
        "id": "azCT0f-uE9Dj"
      },
      "source": [
        "# Transforma tokens embeddings em um array\n",
        "embeddings = token_embeddings.numpy()"
      ],
      "execution_count": null,
      "outputs": []
    },
    {
      "cell_type": "markdown",
      "metadata": {
        "id": "wfEj2FYZE9Dj"
      },
      "source": [
        "Base selecionada para que o [CLS] e o [SEP] passem para (0,1) e (1,0)"
      ]
    },
    {
      "cell_type": "code",
      "metadata": {
        "id": "ElhK7HaQE9Dj"
      },
      "source": [
        "# Converte para um array\n",
        "W = np.array(embeddings)\n",
        "# Transforma em um array\n",
        "B = np.array([embeddings[0], embeddings[-1]])\n",
        "# Inverte B.T\n",
        "Bi = np.linalg.pinv(B.T)"
      ],
      "execution_count": null,
      "outputs": []
    },
    {
      "cell_type": "markdown",
      "metadata": {
        "id": "jhzvsMn9E9Dj"
      },
      "source": [
        "Projeta os tokens da palavra no subespaço"
      ]
    },
    {
      "cell_type": "code",
      "metadata": {
        "id": "6r3KVC_RE9Dj"
      },
      "source": [
        "Wp = np.matmul(Bi,W.T)"
      ],
      "execution_count": null,
      "outputs": []
    },
    {
      "cell_type": "markdown",
      "metadata": {
        "id": "epRYizkYE9Dj"
      },
      "source": [
        "Plota o gráfico da frase"
      ]
    },
    {
      "cell_type": "code",
      "metadata": {
        "colab": {
          "base_uri": "https://localhost:8080/",
          "height": 428
        },
        "id": "FClyCg4_E9Dj",
        "outputId": "3f6c1df8-6d29-431a-bb9f-2bb8cf821f01"
      },
      "source": [
        "# Aumenta o tamanho da plotagem do gráfico\n",
        "plt.figure(figsize=(12,7))\n",
        "plt.axhline(color='black')\n",
        "plt.axvline(color='black')\n",
        "plt.scatter(Wp[0,:], Wp[1,:], label=texto)\n",
        "rX = max(Wp[0,:])-min(Wp[0,:])\n",
        "rY = max(Wp[1,:])-min(Wp[1,:])\n",
        "rM = max(rX, rY)\n",
        "eps = 0.005\n",
        "for i, token in enumerate(texto_tokenizado):\n",
        "    if token in ['[CLS]', '[SEP]']:\n",
        "        plt.annotate(token, (Wp[0,i]+rX*eps, Wp[1,i]+rX*eps))\n",
        "    if token == 'letter':\n",
        "        plt.annotate(token, (Wp[0,i]+rX*eps*-6, Wp[1,i]+rX*eps*3))\n",
        "    if i>0:\n",
        "        plt.arrow(Wp[0,i-1],Wp[1,i-1], Wp[0,i]-Wp[0,i-1], Wp[1,i]-Wp[1,i-1], color='lightblue', head_length=rM*eps*3, head_width=rM*eps*2, length_includes_head=True)\n",
        "plt.legend()\n",
        "\n",
        "# Mostra o gráfico\n",
        "plt.show()"
      ],
      "execution_count": null,
      "outputs": [
        {
          "output_type": "display_data",
          "data": {
            "image/png": "[encoded data removed]",
            "text/plain": [
              "<Figure size 864x504 with 1 Axes>"
            ]
          },
          "metadata": {
            "tags": [],
            "needs_background": "light"
          }
        }
      ]
    },
    {
      "cell_type": "markdown",
      "metadata": {
        "id": "Ewj0Vny2E9Dj"
      },
      "source": [
        "### Comparando as frases\n",
        "\n",
        "Dividindo o texto em três frases."
      ]
    },
    {
      "cell_type": "code",
      "metadata": {
        "colab": {
          "base_uri": "https://localhost:8080/",
          "height": 479
        },
        "id": "l9sIpDZUE9Dj",
        "outputId": "9946e8f3-c92c-4817-cb40-80c18db1a75a"
      },
      "source": [
        "textopt_br = [\"O A é a primeira letra do alfabeto.\",\"Nome próprio possui primeira letra em maiúsculo.\",\"Eu escrevi uma carta para a minha mãe neste final de semana.\"]\n",
        "texto = [\"The A is the first letter of the alphabet.\",\"First name has first letter in capital.\",\"I wrote a letter to my mother this weekend.\"]\n",
        "\n",
        "colors = ['blue', 'red', 'green']\n",
        "\n",
        "# Aumenta o tamanho da plotagem do gráfico\n",
        "plt.figure(figsize=(12,7))\n",
        "plt.axhline(color='black')\n",
        "plt.axvline(color='black')\n",
        "for n,frase in enumerate(texto):\n",
        "    Wp, tokens = getEmbeddingsVisual(frase, model, tokenizer)\n",
        "    print(tokens)    \n",
        "    plt.scatter(Wp[0,:], Wp[1,:], color=colors[n], marker='x', label=frase)\n",
        "    rX = max(Wp[0,:])-min(Wp[0,:])\n",
        "    rY = max(Wp[1,:])-min(Wp[1,:])\n",
        "    rM = max(rX, rY)\n",
        "    eps = 0.005\n",
        "    eps2 = 0.005\n",
        "    for i, token in enumerate(tokens):\n",
        "        if token in ['[CLS]', '[SEP]']:\n",
        "            plt.annotate(token, (Wp[0,i]+rX*eps, Wp[1,i]+rX*eps))\n",
        "        if token == 'letter':\n",
        "            plt.annotate(token, (Wp[0,i]+rX*eps*-6, Wp[1,i]+rX*eps*3))\n",
        "        if i>0:\n",
        "            plt.arrow(Wp[0,i-1],Wp[1,i-1], Wp[0,i]-Wp[0,i-1], Wp[1,i]-Wp[1,i-1], color=colors[n], head_length=rM*eps2*4, head_width=rM*eps2*2, length_includes_head=True)\n",
        "plt.legend()\n",
        "\n",
        "# Mostra o gráfico\n",
        "plt.show()       "
      ],
      "execution_count": null,
      "outputs": [
        {
          "output_type": "stream",
          "text": [
            "['[CLS]', 'the', 'a', 'is', 'the', 'first', 'letter', 'of', 'the', 'alphabet', '.', '[SEP]']\n",
            "['[CLS]', 'first', 'name', 'has', 'first', 'letter', 'in', 'capital', '.', '[SEP]']\n",
            "['[CLS]', 'i', 'wrote', 'a', 'letter', 'to', 'my', 'mother', 'this', 'weekend', '.', '[SEP]']\n"
          ],
          "name": "stdout"
        },
        {
          "output_type": "display_data",
          "data": {
            "image/png": "[encoded data removed]",
            "text/plain": [
              "<Figure size 864x504 with 1 Axes>"
            ]
          },
          "metadata": {
            "tags": [],
            "needs_background": "light"
          }
        }
      ]
    },
    {
      "cell_type": "markdown",
      "metadata": {
        "id": "KyQXv6mG7VfD"
      },
      "source": [
        "## 9 - Exemplo palavra \"bass\""
      ]
    },
    {
      "cell_type": "markdown",
      "metadata": {
        "id": "s2nTT3yN7VfG"
      },
      "source": [
        "Outro exemplo"
      ]
    },
    {
      "cell_type": "code",
      "metadata": {
        "id": "bLqis5377VfH",
        "colab": {
          "base_uri": "https://localhost:8080/"
        },
        "outputId": "4def060a-9d6b-44c1-8c99-d948b4c42622"
      },
      "source": [
        "# Define um sentença de exemplo com diversos siginificados da palavra \"bass\"\"\n",
        "textopt_br = \"Robalo fresco é uma grande iguaria.\" \\\n",
        "             \"Pesquei um robalo no rio ontem.\" \\\n",
        "             \"Eu toco baixo em uma banda de jazz.\"\n",
        "             \n",
        "texto = \"Fresh sea bass is a great delicacy.\" \\\n",
        "        \"I fished for a bass in the river yesterday.\" \\\n",
        "        \"I play bass in a jazz band.\"\n",
        "\n",
        "# Adiciona os tokens especiais\n",
        "texto_marcado = \"[CLS] \" + texto + \" [SEP]\"\n",
        "\n",
        "# Divide a sentença em tokens\n",
        "texto_tokenizado = tokenizer.tokenize(texto_marcado)\n",
        "\n",
        "# Mapeia os tokens em seus índices do vocabulário\n",
        "tokens_indexados = tokenizer.convert_tokens_to_ids(texto_tokenizado)\n",
        "\n",
        "# Mostra os tokens com seus índices\n",
        "i = 0\n",
        "for tup in zip(texto_tokenizado, tokens_indexados):\n",
        "    print('{:>3} {:<12} {:>6,}'.format(i, tup[0], tup[1]))\n",
        "    i= i + 1"
      ],
      "execution_count": null,
      "outputs": [
        {
          "output_type": "stream",
          "text": [
            "  0 [CLS]           101\n",
            "  1 fresh         4,840\n",
            "  2 sea           2,712\n",
            "  3 bass          3,321\n",
            "  4 is            2,003\n",
            "  5 a             1,037\n",
            "  6 great         2,307\n",
            "  7 del           3,972\n",
            "  8 ##ica         5,555\n",
            "  9 ##cy          5,666\n",
            " 10 .             1,012\n",
            " 11 i             1,045\n",
            " 12 fished       26,281\n",
            " 13 for           2,005\n",
            " 14 a             1,037\n",
            " 15 bass          3,321\n",
            " 16 in            1,999\n",
            " 17 the           1,996\n",
            " 18 river         2,314\n",
            " 19 yesterday     7,483\n",
            " 20 .             1,012\n",
            " 21 i             1,045\n",
            " 22 play          2,377\n",
            " 23 bass          3,321\n",
            " 24 in            1,999\n",
            " 25 a             1,037\n",
            " 26 jazz          4,166\n",
            " 27 band          2,316\n",
            " 28 .             1,012\n",
            " 29 [SEP]           102\n"
          ],
          "name": "stdout"
        }
      ]
    },
    {
      "cell_type": "markdown",
      "metadata": {
        "id": "GHkrhgbx7VfM"
      },
      "source": [
        "Segmentos"
      ]
    },
    {
      "cell_type": "code",
      "metadata": {
        "id": "1sdYdNXc7VfN",
        "colab": {
          "base_uri": "https://localhost:8080/"
        },
        "outputId": "48d8222f-9e61-490a-e1a8-784c4117f937"
      },
      "source": [
        "# Marca cada um dos tokens como pertencentes à frase \"1\".\n",
        "segmentos_ids = [1] * len(texto_tokenizado)\n",
        "\n",
        "print (segmentos_ids)\n",
        "print (len(segmentos_ids))"
      ],
      "execution_count": null,
      "outputs": [
        {
          "output_type": "stream",
          "text": [
            "[1, 1, 1, 1, 1, 1, 1, 1, 1, 1, 1, 1, 1, 1, 1, 1, 1, 1, 1, 1, 1, 1, 1, 1, 1, 1, 1, 1, 1, 1]\n",
            "30\n"
          ],
          "name": "stdout"
        }
      ]
    },
    {
      "cell_type": "markdown",
      "metadata": {
        "id": "U1aaKMqI7VfT"
      },
      "source": [
        "Convertendo as listas em tensores"
      ]
    },
    {
      "cell_type": "code",
      "metadata": {
        "id": "xQRRfwND7VfU"
      },
      "source": [
        "# Importa a bibliteca\n",
        "import torch\n",
        "\n",
        "# Converte as entradas de listas para tensores do torch\n",
        "tokens_tensores = torch.as_tensor([tokens_indexados])\n",
        "segmentos_tensores = torch.as_tensor([segmentos_ids])"
      ],
      "execution_count": null,
      "outputs": []
    },
    {
      "cell_type": "markdown",
      "metadata": {
        "id": "1yLa54Dd7VfY"
      },
      "source": [
        "Gera os embeddings para a frase. Guarda somente a última camada da rede em `outputs`.\n"
      ]
    },
    {
      "cell_type": "code",
      "metadata": {
        "id": "avyuAWJq7VfY"
      },
      "source": [
        "# Prediz os atributos dos estados ocultos para cada camada\n",
        "with torch.no_grad():\n",
        "    #output[0] contém last_hidden_states\n",
        "    outputs = model(tokens_tensores, segmentos_tensores)"
      ],
      "execution_count": null,
      "outputs": []
    },
    {
      "cell_type": "markdown",
      "metadata": {
        "id": "nXM0O1HI7Vfc"
      },
      "source": [
        "Recupera a saída"
      ]
    },
    {
      "cell_type": "code",
      "metadata": {
        "id": "7ask9T177Vfd",
        "colab": {
          "base_uri": "https://localhost:8080/"
        },
        "outputId": "787162a0-20ee-4312-e971-7501f2ee0601"
      },
      "source": [
        "# Recupera a última e única camada da saída\n",
        "last_hidden_states = outputs[0]\n",
        "\n",
        "print (\"O vetor da última camada oculta tem o formato:\", last_hidden_states.size())"
      ],
      "execution_count": null,
      "outputs": [
        {
          "output_type": "stream",
          "text": [
            "O vetor da última camada oculta tem o formato: torch.Size([1, 30, 1024])\n"
          ],
          "name": "stdout"
        }
      ]
    },
    {
      "cell_type": "markdown",
      "metadata": {
        "id": "giaBjsjY7Vfh"
      },
      "source": [
        "intervalo de valores para uma determinada camada e token."
      ]
    },
    {
      "cell_type": "code",
      "metadata": {
        "id": "xKNlV1IU7Vfh",
        "colab": {
          "base_uri": "https://localhost:8080/",
          "height": 609
        },
        "outputId": "f5062f40-6815-4651-9ab7-0764435ad995"
      },
      "source": [
        "# Import da biblioteca gráfica\n",
        "import matplotlib.pyplot as plt\n",
        "%matplotlib inline\n",
        "\n",
        "# Plota os tokens da sentenca\n",
        "token_i = 3\n",
        "layer_i = 0\n",
        "\n",
        "# Recupera o vetor de embeddings da última camada para o token\n",
        "vec = last_hidden_states[layer_i][token_i]\n",
        "\n",
        "# Mostra a palavra do token_i\n",
        "print((texto_tokenizado[token_i], tokens_indexados[token_i]))\n",
        "\n",
        "# Aumenta o tamanho da plotagem do gráfico\n",
        "plt.figure(figsize=(15,10))\n",
        "\n",
        "# Cria o histograma com 200 classes\n",
        "plt.hist(vec, bins=200)\n",
        "\n",
        "# Mostra o gráfico\n",
        "plt.show()"
      ],
      "execution_count": null,
      "outputs": [
        {
          "output_type": "stream",
          "text": [
            "('bass', 3321)\n"
          ],
          "name": "stdout"
        },
        {
          "output_type": "display_data",
          "data": {
            "image/png": "[encoded data removed]",
            "text/plain": [
              "<Figure size 1080x720 with 1 Axes>"
            ]
          },
          "metadata": {
            "tags": [],
            "needs_background": "light"
          }
        }
      ]
    },
    {
      "cell_type": "markdown",
      "metadata": {
        "id": "5zL9St9e7Vfl"
      },
      "source": [
        "Vamos nos livrar da dimensão lotes \"batches\", pois não precisamos dela."
      ]
    },
    {
      "cell_type": "code",
      "metadata": {
        "id": "cP4Ez1Y57Vfm",
        "colab": {
          "base_uri": "https://localhost:8080/"
        },
        "outputId": "7b11a064-1ef9-41fa-f97b-be6500b35d1a"
      },
      "source": [
        "# Remove a dimensão 1, o lote \"batches\".\n",
        "#O método squeeze remove a primeira dimensão(0) pois possui tamanho 1\n",
        "token_embeddings = torch.squeeze(last_hidden_states, dim=0)\n",
        "\n",
        "print (\"O vetor de tokens de embedding da senteça tem o formato:\", token_embeddings.size())"
      ],
      "execution_count": null,
      "outputs": [
        {
          "output_type": "stream",
          "text": [
            "O vetor de tokens de embedding da senteça tem o formato: torch.Size([30, 1024])\n"
          ],
          "name": "stdout"
        }
      ]
    },
    {
      "cell_type": "markdown",
      "metadata": {
        "id": "Hw4a6L2O7Vfx"
      },
      "source": [
        "Confirmando vetores dependentes do contexto\n"
      ]
    },
    {
      "cell_type": "code",
      "metadata": {
        "id": "Rl6MPKS-7Vfx",
        "colab": {
          "base_uri": "https://localhost:8080/"
        },
        "outputId": "fce4f1f5-f22e-44d1-db41-bffc62aaed53"
      },
      "source": [
        "for i, token_str in enumerate(texto_tokenizado):\n",
        "  print (i, token_str)"
      ],
      "execution_count": null,
      "outputs": [
        {
          "output_type": "stream",
          "text": [
            "0 [CLS]\n",
            "1 fresh\n",
            "2 sea\n",
            "3 bass\n",
            "4 is\n",
            "5 a\n",
            "6 great\n",
            "7 del\n",
            "8 ##ica\n",
            "9 ##cy\n",
            "10 .\n",
            "11 i\n",
            "12 fished\n",
            "13 for\n",
            "14 a\n",
            "15 bass\n",
            "16 in\n",
            "17 the\n",
            "18 river\n",
            "19 yesterday\n",
            "20 .\n",
            "21 i\n",
            "22 play\n",
            "23 bass\n",
            "24 in\n",
            "25 a\n",
            "26 jazz\n",
            "27 band\n",
            "28 .\n",
            "29 [SEP]\n"
          ],
          "name": "stdout"
        }
      ]
    },
    {
      "cell_type": "markdown",
      "metadata": {
        "id": "iaEqCWhiZSIh"
      },
      "source": [
        "Exibe os embenddings das palavras"
      ]
    },
    {
      "cell_type": "code",
      "metadata": {
        "id": "69Y9F5tS7Vf1",
        "colab": {
          "base_uri": "https://localhost:8080/"
        },
        "outputId": "7d41b807-603f-4b5d-c1ee-bf2b279995f9"
      },
      "source": [
        "# Índice das palavras a serem comparadas\n",
        "palavra1 = 3\n",
        "palavra2 = 15\n",
        "palavra3 = 23\n",
        "\n",
        "print('Os primeiros 5 valores de cada instância de bass.')\n",
        "print('')\n",
        "print(texto_tokenizado[palavra1], str(token_embeddings[palavra1][:5]))\n",
        "print(texto_tokenizado[palavra2], str(token_embeddings[palavra2][:5]))\n",
        "print(texto_tokenizado[palavra3], str(token_embeddings[palavra3][:5]))"
      ],
      "execution_count": null,
      "outputs": [
        {
          "output_type": "stream",
          "text": [
            "Os primeiros 5 valores de cada instância de bass.\n",
            "\n",
            "bass tensor([-0.3520, -0.3751, -0.3609, -0.0845,  0.0282])\n",
            "bass tensor([-0.8277, -0.5793, -0.3422, -0.1853,  0.1016])\n",
            "bass tensor([-0.6883, -0.5420,  0.0162, -0.3369, -0.2213])\n"
          ],
          "name": "stdout"
        }
      ]
    },
    {
      "cell_type": "markdown",
      "metadata": {
        "id": "Ch_AqNoQl6WJ"
      },
      "source": [
        "### Comparando as palavras das frases\n",
        "\n",
        "Podemos ver que os valores diferem, mas vamos calcular a semelhança de cosseno entre os vetores para fazer uma comparação mais precisa."
      ]
    },
    {
      "cell_type": "code",
      "metadata": {
        "id": "gUIA2Ep87Vf5",
        "colab": {
          "base_uri": "https://localhost:8080/"
        },
        "outputId": "eb63554f-380a-4d10-970e-cebcab5ca9f6"
      },
      "source": [
        "from scipy.spatial.distance import cosine\n",
        "\n",
        "print(\"Período:\", texto)\n",
        "print(\"Palavra1=\", palavra1, \"=\", texto_tokenizado[palavra1], \"(peixe)\")\n",
        "print(\"Palavra2=\", palavra2, \"=\", texto_tokenizado[palavra2], \"(peixe)\")\n",
        "print(\"Palavra3=\", palavra3, \"=\", texto_tokenizado[palavra3], \"(baixo)\")\n",
        "\n",
        "# Calcula a similaridade de coseno entre as palavras bass\n",
        "# Em \"peixe\" versus \"baixo\" (diferentes significados).\n",
        "diferente1 = 1 - cosine(token_embeddings[palavra2], token_embeddings[palavra3])\n",
        "\n",
        "print('Vetor de similaridade para diferentes significados(',palavra2,',',palavra3,'):  %.2f' % diferente1)\n",
        "\n",
        "# Calcula a similaridade de coseno entre as palavras bass\n",
        "# Em \"peixe\" versus \"peixe\" (mesmo significado).\n",
        "mesmo = 1 - cosine(token_embeddings[palavra2], token_embeddings[palavra1])\n",
        "\n",
        "print('Vetor de similaridade para mesmo significado(',palavra2,',',palavra1,'):  %.2f' % mesmo)\n",
        "\n",
        "# Calcula a similaridade de coseno entre as palavras bass\n",
        "# Em \"peixe\" versus \"baixo\" (diferente significados).\n",
        "diferente2 = 1 - cosine(token_embeddings[palavra1], token_embeddings[palavra3])\n",
        "\n",
        "print('Vetor de similaridade para diferentes significados(',palavra1,',',palavra3,'):  %.2f' % diferente2)"
      ],
      "execution_count": null,
      "outputs": [
        {
          "output_type": "stream",
          "text": [
            "Período: Fresh sea bass is a great delicacy.I fished for a bass in the river yesterday.I play bass in a jazz band.\n",
            "Palavra1= 3 = bass (peixe)\n",
            "Palavra2= 15 = bass (peixe)\n",
            "Palavra3= 23 = bass (baixo)\n",
            "Vetor de similaridade para diferentes significados( 15 , 23 ):  0.84\n",
            "Vetor de similaridade para mesmo significado( 15 , 3 ):  0.88\n",
            "Vetor de similaridade para diferentes significados( 3 , 23 ):  0.75\n"
          ],
          "name": "stdout"
        }
      ]
    },
    {
      "cell_type": "markdown",
      "metadata": {
        "id": "kgmVMAMtehKo"
      },
      "source": [
        "### Visualizando a Frase\n",
        "\n",
        "Aqui, queremos mostrar a conexão entre os tokens de uma frase usando a incorporação do BERT. Plotamos as inserções dos tokens em um subespaço, onde (0,1) e (1,0) são os marcadores de partida [CLS] e [SEP] e marcadores finais e finais da frase."
      ]
    },
    {
      "cell_type": "code",
      "metadata": {
        "id": "iZcGwGAvehKr"
      },
      "source": [
        "# bibliotecas\n",
        "import numpy as np\n",
        "import torch\n",
        "\n",
        "import matplotlib.pyplot as plt\n",
        "%matplotlib inline"
      ],
      "execution_count": null,
      "outputs": []
    },
    {
      "cell_type": "markdown",
      "metadata": {
        "id": "3E7lNVtwehK1"
      },
      "source": [
        "Transforma  o vetor de embendings em um array."
      ]
    },
    {
      "cell_type": "code",
      "metadata": {
        "id": "SfHIqgySehK2"
      },
      "source": [
        "# Transforma tokens embeddings em um array\n",
        "embeddings = token_embeddings.numpy()"
      ],
      "execution_count": null,
      "outputs": []
    },
    {
      "cell_type": "markdown",
      "metadata": {
        "id": "iaVi8UqLehK6"
      },
      "source": [
        "Base selecionada para que o [CLS] e o [SEP] passem para (0,1) e (1,0)"
      ]
    },
    {
      "cell_type": "code",
      "metadata": {
        "id": "PgePXuN-ehK6"
      },
      "source": [
        "# Converte para um array\n",
        "W = np.array(embeddings)\n",
        "# Transforma em um array\n",
        "B = np.array([embeddings[0], embeddings[-1]])\n",
        "# Inverte B.T\n",
        "Bi = np.linalg.pinv(B.T)"
      ],
      "execution_count": null,
      "outputs": []
    },
    {
      "cell_type": "markdown",
      "metadata": {
        "id": "B9r2VEeaehK-"
      },
      "source": [
        "Projeta os tokens da palavra no subespaço"
      ]
    },
    {
      "cell_type": "code",
      "metadata": {
        "id": "eTweFZtbehK_"
      },
      "source": [
        "Wp = np.matmul(Bi,W.T)"
      ],
      "execution_count": null,
      "outputs": []
    },
    {
      "cell_type": "markdown",
      "metadata": {
        "id": "ZSkg8nl-ehLC"
      },
      "source": [
        "Plota o gráfico da frase"
      ]
    },
    {
      "cell_type": "code",
      "metadata": {
        "id": "n06aXdYaehLD",
        "colab": {
          "base_uri": "https://localhost:8080/",
          "height": 428
        },
        "outputId": "416d73b3-3249-4488-ac2a-4776f8ecac5d"
      },
      "source": [
        "# Aumenta o tamanho da plotagem do gráfico\n",
        "plt.figure(figsize=(12,7))\n",
        "plt.axhline(color='black')\n",
        "plt.axvline(color='black')\n",
        "plt.scatter(Wp[0,:], Wp[1,:], label=texto)\n",
        "rX = max(Wp[0,:])-min(Wp[0,:])\n",
        "rY = max(Wp[1,:])-min(Wp[1,:])\n",
        "rM = max(rX, rY)\n",
        "eps = 0.005\n",
        "for i, token in enumerate(texto_tokenizado):\n",
        "    if token in ['[CLS]', '[SEP]']:\n",
        "        plt.annotate(token, (Wp[0,i]+rX*eps, Wp[1,i]+rX*eps))\n",
        "    if token == 'bass':\n",
        "        plt.annotate(token, (Wp[0,i]+rX*eps*-6, Wp[1,i]+rX*eps*3))\n",
        "    if i>0:\n",
        "        plt.arrow(Wp[0,i-1],Wp[1,i-1], Wp[0,i]-Wp[0,i-1], Wp[1,i]-Wp[1,i-1], color='lightblue', head_length=rM*eps*3, head_width=rM*eps*2, length_includes_head=True)\n",
        "plt.legend()\n",
        "\n",
        "# Mostra o gráfico\n",
        "plt.show()"
      ],
      "execution_count": null,
      "outputs": [
        {
          "output_type": "display_data",
          "data": {
            "image/png": "[encoded data removed]",
            "text/plain": [
              "<Figure size 864x504 with 1 Axes>"
            ]
          },
          "metadata": {
            "tags": [],
            "needs_background": "light"
          }
        }
      ]
    },
    {
      "cell_type": "markdown",
      "metadata": {
        "id": "jMMgoYhxehLI"
      },
      "source": [
        "### Comparando as orações\n",
        "\n",
        "Dividindo a frase em três orações."
      ]
    },
    {
      "cell_type": "code",
      "metadata": {
        "id": "X75z4mJTehLI",
        "colab": {
          "base_uri": "https://localhost:8080/",
          "height": 479
        },
        "outputId": "f3e4cf27-c91a-4c70-d444-95a9cd209878"
      },
      "source": [
        "texto = [\"Fresh sea bass is a great delicacy.\",\"I fished for a bass in the river yesterday.\", \"I play bass in a jazz band.\"]\n",
        "colors = ['blue', 'red', 'green']\n",
        "\n",
        "# Aumenta o tamanho da plotagem do gráfico\n",
        "plt.figure(figsize=(12,7))\n",
        "plt.axhline(color='black')\n",
        "plt.axvline(color='black')\n",
        "for n,frase in enumerate(texto):\n",
        "    Wp, tokens = getEmbeddingsVisual(frase, model, tokenizer)\n",
        "    print(tokens)\n",
        "    plt.scatter(Wp[0,:], Wp[1,:], color=colors[n], marker='x', label=frase)\n",
        "    rX = max(Wp[0,:])-min(Wp[0,:])\n",
        "    rY = max(Wp[1,:])-min(Wp[1,:])\n",
        "    rM = max(rX, rY)\n",
        "    eps = 0.005\n",
        "    eps2 = 0.005\n",
        "    for i, token in enumerate(tokens):\n",
        "        if token in ['[CLS]', '[SEP]']:\n",
        "            plt.annotate(token, (Wp[0,i]+rX*eps, Wp[1,i]+rX*eps))\n",
        "        if token == 'bass':\n",
        "            plt.annotate(token, (Wp[0,i]+rX*eps*-6, Wp[1,i]+rX*eps*3))\n",
        "        if i>0:\n",
        "            plt.arrow(Wp[0,i-1],Wp[1,i-1], Wp[0,i]-Wp[0,i-1], Wp[1,i]-Wp[1,i-1], color=colors[n], head_length=rM*eps2*4, head_width=rM*eps2*2, length_includes_head=True)\n",
        "plt.legend()\n",
        "\n",
        "# Mostra o gráfico\n",
        "plt.show()       "
      ],
      "execution_count": null,
      "outputs": [
        {
          "output_type": "stream",
          "text": [
            "['[CLS]', 'fresh', 'sea', 'bass', 'is', 'a', 'great', 'del', '##ica', '##cy', '.', '[SEP]']\n",
            "['[CLS]', 'i', 'fished', 'for', 'a', 'bass', 'in', 'the', 'river', 'yesterday', '.', '[SEP]']\n",
            "['[CLS]', 'i', 'play', 'bass', 'in', 'a', 'jazz', 'band', '.', '[SEP]']\n"
          ],
          "name": "stdout"
        },
        {
          "output_type": "display_data",
          "data": {
            "image/png": "[encoded data removed]",
            "text/plain": [
              "<Figure size 864x504 with 1 Axes>"
            ]
          },
          "metadata": {
            "tags": [],
            "needs_background": "light"
          }
        }
      ]
    },
    {
      "cell_type": "markdown",
      "metadata": {
        "id": "WqfyR0iac8z-"
      },
      "source": [
        "## 10 - Exemplo palavra \"sign\""
      ]
    },
    {
      "cell_type": "markdown",
      "metadata": {
        "id": "hZv9zGpRc8z_"
      },
      "source": [
        "Outro exemplo"
      ]
    },
    {
      "cell_type": "code",
      "metadata": {
        "id": "xLvUd0doc80A",
        "colab": {
          "base_uri": "https://localhost:8080/"
        },
        "outputId": "dc8f83ac-8b4a-486a-c5b1-1e2b724977d7"
      },
      "source": [
        "# Define um sentença de exemplo com diversos siginificados da palavra  \"sign\"\n",
        "textopt_br =  \"Fui no cartório assinar assinar o documento.\" \\\n",
        "              \"Você esqueceu de assinar o cheque.\" \\\n",
        "              \"Dores de cabeça pode ser um sinal de stress.\" \\\n",
        "              \"A luz verde é o sinal para avançar.\"\n",
        "\n",
        "texto = \"I went to the registry office to sign the document.\" \\\n",
        "        \"You forgot to sign the cheque.\" \\\n",
        "        \"Headches may be a sign of stress.\" \\\n",
        "        \"The green light is the sign to move forward.\"\n",
        "\n",
        "# Adiciona os tokens especiais\n",
        "texto_marcado = \"[CLS] \" + texto + \" [SEP]\"\n",
        "\n",
        "# Divide a sentença em tokens\n",
        "texto_tokenizado = tokenizer.tokenize(texto_marcado)\n",
        "\n",
        "# Mapeia os tokens em seus índices do vocabulário\n",
        "tokens_indexados = tokenizer.convert_tokens_to_ids(texto_tokenizado)\n",
        "\n",
        "# Mostra os tokens com seus índices\n",
        "i = 0\n",
        "for tup in zip(texto_tokenizado, tokens_indexados):\n",
        "    print('{:>3} {:<12} {:>6,}'.format(i, tup[0], tup[1]))\n",
        "    i= i + 1"
      ],
      "execution_count": null,
      "outputs": [
        {
          "output_type": "stream",
          "text": [
            "  0 [CLS]           101\n",
            "  1 i             1,045\n",
            "  2 went          2,253\n",
            "  3 to            2,000\n",
            "  4 the           1,996\n",
            "  5 registry     15,584\n",
            "  6 office        2,436\n",
            "  7 to            2,000\n",
            "  8 sign          3,696\n",
            "  9 the           1,996\n",
            " 10 document      6,254\n",
            " 11 .             1,012\n",
            " 12 you           2,017\n",
            " 13 forgot        9,471\n",
            " 14 to            2,000\n",
            " 15 sign          3,696\n",
            " 16 the           1,996\n",
            " 17 che          18,178\n",
            " 18 ##que         4,226\n",
            " 19 .             1,012\n",
            " 20 head          2,132\n",
            " 21 ##ches        8,376\n",
            " 22 may           2,089\n",
            " 23 be            2,022\n",
            " 24 a             1,037\n",
            " 25 sign          3,696\n",
            " 26 of            1,997\n",
            " 27 stress        6,911\n",
            " 28 .             1,012\n",
            " 29 the           1,996\n",
            " 30 green         2,665\n",
            " 31 light         2,422\n",
            " 32 is            2,003\n",
            " 33 the           1,996\n",
            " 34 sign          3,696\n",
            " 35 to            2,000\n",
            " 36 move          2,693\n",
            " 37 forward       2,830\n",
            " 38 .             1,012\n",
            " 39 [SEP]           102\n"
          ],
          "name": "stdout"
        }
      ]
    },
    {
      "cell_type": "markdown",
      "metadata": {
        "id": "BxApTzY3c80E"
      },
      "source": [
        "Segmentos"
      ]
    },
    {
      "cell_type": "code",
      "metadata": {
        "id": "S0bv5xWBc80E",
        "colab": {
          "base_uri": "https://localhost:8080/"
        },
        "outputId": "e16494a2-d777-40df-9319-df58890cdddb"
      },
      "source": [
        "# Marca cada um dos tokens como pertencentes à frase \"1\".\n",
        "segmentos_ids = [1] * len(texto_tokenizado)\n",
        "\n",
        "print (segmentos_ids)\n",
        "print (len(segmentos_ids))"
      ],
      "execution_count": null,
      "outputs": [
        {
          "output_type": "stream",
          "text": [
            "[1, 1, 1, 1, 1, 1, 1, 1, 1, 1, 1, 1, 1, 1, 1, 1, 1, 1, 1, 1, 1, 1, 1, 1, 1, 1, 1, 1, 1, 1, 1, 1, 1, 1, 1, 1, 1, 1, 1, 1]\n",
            "40\n"
          ],
          "name": "stdout"
        }
      ]
    },
    {
      "cell_type": "markdown",
      "metadata": {
        "id": "6ZvedV-oc80H"
      },
      "source": [
        "Convertendo as listas em tensores"
      ]
    },
    {
      "cell_type": "code",
      "metadata": {
        "id": "NfbaIhjIc80H"
      },
      "source": [
        "# Importa a bibliteca\n",
        "import torch\n",
        "\n",
        "# Converte as entradas de listas para tensores do torch\n",
        "tokens_tensores = torch.as_tensor([tokens_indexados])\n",
        "segmentos_tensores = torch.as_tensor([segmentos_ids])"
      ],
      "execution_count": null,
      "outputs": []
    },
    {
      "cell_type": "markdown",
      "metadata": {
        "id": "yi-h0cLbc80J"
      },
      "source": [
        "Gera os embeddings para a frase. Guarda somente a última camada da rede em `outputs`.\n"
      ]
    },
    {
      "cell_type": "code",
      "metadata": {
        "id": "7cMY8UGXc80K"
      },
      "source": [
        "# Prediz os atributos dos estados ocultos para cada camada\n",
        "with torch.no_grad():\n",
        "    # output[0] contém last_hidden_states\n",
        "    outputs = model(tokens_tensores, segmentos_tensores)"
      ],
      "execution_count": null,
      "outputs": []
    },
    {
      "cell_type": "markdown",
      "metadata": {
        "id": "blAKE5mFc80M"
      },
      "source": [
        "Recupera a saída"
      ]
    },
    {
      "cell_type": "code",
      "metadata": {
        "id": "4etDevSLc80M",
        "colab": {
          "base_uri": "https://localhost:8080/"
        },
        "outputId": "cb6bec34-7132-4698-f52d-2449cdfb66da"
      },
      "source": [
        "# Recupera a última e única camada da saída\n",
        "last_hidden_states = outputs[0]\n",
        "\n",
        "print (\"O vetor da última camada oculta tem o formato:\", last_hidden_states.size())"
      ],
      "execution_count": null,
      "outputs": [
        {
          "output_type": "stream",
          "text": [
            "O vetor da última camada oculta tem o formato: torch.Size([1, 40, 1024])\n"
          ],
          "name": "stdout"
        }
      ]
    },
    {
      "cell_type": "markdown",
      "metadata": {
        "id": "HbOk27Zxc80O"
      },
      "source": [
        "intervalo de valores para uma determinada camada e token."
      ]
    },
    {
      "cell_type": "code",
      "metadata": {
        "id": "OJzwETMEc80P",
        "colab": {
          "base_uri": "https://localhost:8080/",
          "height": 609
        },
        "outputId": "076e9424-9a2b-48dd-fc3c-3bae748ce28d"
      },
      "source": [
        "# import da biblioteca gráfica\n",
        "import matplotlib.pyplot as plt\n",
        "%matplotlib inline\n",
        "\n",
        "# Plota os tokens da sentenca\n",
        "token_i = 8\n",
        "layer_i = 0\n",
        "\n",
        "# Recupera o vetor de embeddings da última camada para o token\n",
        "vec = last_hidden_states[layer_i][token_i]\n",
        "\n",
        "# Mostra a palavra do token_i\n",
        "print((texto_tokenizado[token_i], tokens_indexados[token_i]))\n",
        "\n",
        "# Aumenta o tamanho da plotagem do gráfico\n",
        "plt.figure(figsize=(15,10))\n",
        "\n",
        "# Cria o histograma com 200 classes\n",
        "plt.hist(vec, bins=200)\n",
        "\n",
        "# Mostra o gráfico\n",
        "plt.show()"
      ],
      "execution_count": null,
      "outputs": [
        {
          "output_type": "stream",
          "text": [
            "('sign', 3696)\n"
          ],
          "name": "stdout"
        },
        {
          "output_type": "display_data",
          "data": {
            "image/png": "[encoded data removed]",
            "text/plain": [
              "<Figure size 1080x720 with 1 Axes>"
            ]
          },
          "metadata": {
            "tags": [],
            "needs_background": "light"
          }
        }
      ]
    },
    {
      "cell_type": "markdown",
      "metadata": {
        "id": "wi501jSUc80R"
      },
      "source": [
        "Vamos nos livrar da dimensão lotes \"batches\", pois não precisamos dela."
      ]
    },
    {
      "cell_type": "code",
      "metadata": {
        "id": "gcDcKVnXc80R",
        "colab": {
          "base_uri": "https://localhost:8080/"
        },
        "outputId": "17127353-1eab-4b55-93f1-e93b44aa3326"
      },
      "source": [
        "# Remove a dimensão 1, o lote \"batches\".\n",
        "# O método squeeze remove a primeira dimensão(0) pois possui tamanho 1\n",
        "token_embeddings = torch.squeeze(last_hidden_states, dim=0)\n",
        "\n",
        "print (\"O vetor de tokens de embedding da senteça tem o formato:\", token_embeddings.size())"
      ],
      "execution_count": null,
      "outputs": [
        {
          "output_type": "stream",
          "text": [
            "O vetor de tokens de embedding da senteça tem o formato: torch.Size([40, 1024])\n"
          ],
          "name": "stdout"
        }
      ]
    },
    {
      "cell_type": "markdown",
      "metadata": {
        "id": "1wGUTzlsc80W"
      },
      "source": [
        "Confirmando vetores dependentes do contexto\n"
      ]
    },
    {
      "cell_type": "code",
      "metadata": {
        "id": "tmH3SJjQc80X",
        "colab": {
          "base_uri": "https://localhost:8080/"
        },
        "outputId": "361174ae-1884-42e3-db77-5b4891225dd4"
      },
      "source": [
        "for i, token_str in enumerate(texto_tokenizado):\n",
        "  print (i, token_str)"
      ],
      "execution_count": null,
      "outputs": [
        {
          "output_type": "stream",
          "text": [
            "0 [CLS]\n",
            "1 i\n",
            "2 went\n",
            "3 to\n",
            "4 the\n",
            "5 registry\n",
            "6 office\n",
            "7 to\n",
            "8 sign\n",
            "9 the\n",
            "10 document\n",
            "11 .\n",
            "12 you\n",
            "13 forgot\n",
            "14 to\n",
            "15 sign\n",
            "16 the\n",
            "17 che\n",
            "18 ##que\n",
            "19 .\n",
            "20 head\n",
            "21 ##ches\n",
            "22 may\n",
            "23 be\n",
            "24 a\n",
            "25 sign\n",
            "26 of\n",
            "27 stress\n",
            "28 .\n",
            "29 the\n",
            "30 green\n",
            "31 light\n",
            "32 is\n",
            "33 the\n",
            "34 sign\n",
            "35 to\n",
            "36 move\n",
            "37 forward\n",
            "38 .\n",
            "39 [SEP]\n"
          ],
          "name": "stdout"
        }
      ]
    },
    {
      "cell_type": "markdown",
      "metadata": {
        "id": "Lf1TiQUoc80Z"
      },
      "source": [
        "Exibe os embenddings das palavras"
      ]
    },
    {
      "cell_type": "code",
      "metadata": {
        "id": "h1sN04WVc80Z",
        "colab": {
          "base_uri": "https://localhost:8080/"
        },
        "outputId": "c94089a7-5f01-4f5c-bcfd-3c68c33f30d0"
      },
      "source": [
        "# Índice das palavras a serem comparadas\n",
        "palavra1 = 8\n",
        "palavra2 = 15\n",
        "palavra3 = 25\n",
        "palavra4 = 34\n",
        "\n",
        "print('Os primeiros 5 valores de cada instância de sign.')\n",
        "print('')\n",
        "print(texto_tokenizado[palavra1], str(token_embeddings[palavra1][:5]))\n",
        "print(texto_tokenizado[palavra2], str(token_embeddings[palavra2][:5]))\n",
        "print(texto_tokenizado[palavra3], str(token_embeddings[palavra3][:5]))\n",
        "print(texto_tokenizado[palavra4], str(token_embeddings[palavra4][:5]))"
      ],
      "execution_count": null,
      "outputs": [
        {
          "output_type": "stream",
          "text": [
            "Os primeiros 5 valores de cada instância de sign.\n",
            "\n",
            "sign tensor([-0.5262, -0.4979,  0.0928, -0.6459, -0.0247])\n",
            "sign tensor([-0.5747, -0.4921, -0.0161, -0.7143,  0.2109])\n",
            "sign tensor([-0.3124, -0.4715,  0.7956, -0.7879,  0.6323])\n",
            "sign tensor([-0.7508, -0.1667,  0.1614, -0.3941,  0.3635])\n"
          ],
          "name": "stdout"
        }
      ]
    },
    {
      "cell_type": "markdown",
      "metadata": {
        "id": "PDZ2bZxFmDHb"
      },
      "source": [
        "### Comparando as palavras das frases\n",
        "\n",
        "Podemos ver que os valores diferem, mas vamos calcular a semelhança de cosseno entre os vetores para fazer uma comparação mais precisa."
      ]
    },
    {
      "cell_type": "code",
      "metadata": {
        "id": "HjIvNZQ1FzzR",
        "colab": {
          "base_uri": "https://localhost:8080/"
        },
        "outputId": "73cfac16-7327-464b-864d-9705e7a22906"
      },
      "source": [
        "from scipy.spatial.distance import cosine\n",
        "\n",
        "print(\"Período:\", texto)\n",
        "print(\"Palavra1=\", palavra1, \"=\", texto_tokenizado[palavra1], \"(assinatura)\")\n",
        "print(\"Palavra2=\", palavra2, \"=\", texto_tokenizado[palavra2], \"(assinatura)\")\n",
        "print(\"Palavra3=\", palavra3, \"=\", texto_tokenizado[palavra3], \"(sinal)\")\n",
        "print(\"Palavra4=\", palavra4, \"=\", texto_tokenizado[palavra4], \"(sinal)\")\n",
        "\n",
        "# Calcula a similaridade de coseno entre as palavras sign\n",
        "# Em \"assinatura\" versus \"sinal\" (diferentes significados).\n",
        "diferente1 = 1- cosine(token_embeddings[palavra2], token_embeddings[palavra3])\n",
        "\n",
        "print('Vetor de similaridade para diferentes significados(',palavra2,',',palavra3,'):  %.2f' % diferente1)\n",
        "\n",
        "# Calcula a similaridade de coseno entre as palavras sign\n",
        "# Em \"assinatura\" versus \"assinatura\" (mesmo significado).\n",
        "diferente2 = 1- cosine(token_embeddings[palavra2], token_embeddings[palavra1])\n",
        "\n",
        "print('Vetor de similaridade para mesmo      significados(',palavra2,',',palavra1,'):  %.2f' % diferente2)\n",
        "\n",
        "# Calcula a similaridade de coseno entre as palavras sign\n",
        "# Em \"assinatura\" versus \"sinal\" (diferente significados).\n",
        "diferente3 = 1- cosine(token_embeddings[palavra1], token_embeddings[palavra3])\n",
        "\n",
        "print('Vetor de similaridade para diferentes significados(',palavra1,',',palavra3,'):  %.2f' % diferente3)\n",
        "\n",
        "# Calcula a similaridade de coseno entre as palavras sign\n",
        "# Em \"sinal\" versus \"sinal\" (mesmo significados).\n",
        "diferente4 = 1- cosine(token_embeddings[palavra3], token_embeddings[palavra4])\n",
        "\n",
        "print('Vetor de similaridade para mesmo      significados(',palavra3,',',palavra4,'):  %.2f' % diferente4)\n",
        "\n",
        "# Calcula a similaridade de coseno entre as palavras sign\n",
        "# Em \"assinatura\" versus \"sinal\" (mesmo significados).\n",
        "diferente5 = 1- cosine(token_embeddings[palavra1], token_embeddings[palavra4])\n",
        "\n",
        "print('Vetor de similaridade para diferentes significados(',palavra1,',',palavra4,'):  %.2f' % diferente5)"
      ],
      "execution_count": null,
      "outputs": [
        {
          "output_type": "stream",
          "text": [
            "Período: I went to the registry office to sign the document.You forgot to sign the cheque.Headches may be a sign of stress.The green light is the sign to move forward.\n",
            "Palavra1= 8 = sign (assinatura)\n",
            "Palavra2= 15 = sign (assinatura)\n",
            "Palavra3= 25 = sign (sinal)\n",
            "Palavra4= 34 = sign (sinal)\n",
            "Vetor de similaridade para diferentes significados( 15 , 25 ):  0.57\n",
            "Vetor de similaridade para mesmo      significados( 15 , 8 ):  0.92\n",
            "Vetor de similaridade para diferentes significados( 8 , 25 ):  0.54\n",
            "Vetor de similaridade para mesmo      significados( 25 , 34 ):  0.76\n",
            "Vetor de similaridade para diferentes significados( 8 , 34 ):  0.51\n"
          ],
          "name": "stdout"
        }
      ]
    },
    {
      "cell_type": "markdown",
      "metadata": {
        "id": "X7ek3qahc80f"
      },
      "source": [
        "### Visualizando a Frase\n",
        "\n",
        "Aqui, queremos mostrar a conexão entre os tokens de uma frase usando a incorporação do BERT. Plotamos as inserções dos tokens em um subespaço, onde (0,1) e (1,0) são os marcadores de partida [CLS] e [SEP] e marcadores finais e finais da frase."
      ]
    },
    {
      "cell_type": "code",
      "metadata": {
        "id": "VGeu870mc80f"
      },
      "source": [
        "# Import das bibliotecas\n",
        "import numpy as np\n",
        "import torch\n",
        "\n",
        "import matplotlib.pyplot as plt\n",
        "%matplotlib inline"
      ],
      "execution_count": null,
      "outputs": []
    },
    {
      "cell_type": "markdown",
      "metadata": {
        "id": "JAbE5dd5c80h"
      },
      "source": [
        "Transforma  o vetor de embendings em um array."
      ]
    },
    {
      "cell_type": "code",
      "metadata": {
        "id": "7gvhIT74c80i"
      },
      "source": [
        "# Transforma tokens embeddings em um array\n",
        "embeddings = token_embeddings.numpy()"
      ],
      "execution_count": null,
      "outputs": []
    },
    {
      "cell_type": "markdown",
      "metadata": {
        "id": "9OlZc9X5c80k"
      },
      "source": [
        "Base selecionada para que o [CLS] e o [SEP] passem para (0,1) e (1,0)"
      ]
    },
    {
      "cell_type": "code",
      "metadata": {
        "id": "C4mLT5d_c80k"
      },
      "source": [
        "# Converte para um array\n",
        "W = np.array(embeddings)\n",
        "# Transforma em um array\n",
        "B = np.array([embeddings[0], embeddings[-1]])\n",
        "# Inverte B.T\n",
        "Bi = np.linalg.pinv(B.T)"
      ],
      "execution_count": null,
      "outputs": []
    },
    {
      "cell_type": "markdown",
      "metadata": {
        "id": "qUpxJbV4c80m"
      },
      "source": [
        "Projeta os tokens da palavra no subespaço"
      ]
    },
    {
      "cell_type": "code",
      "metadata": {
        "id": "nu8i10vtc80m"
      },
      "source": [
        "Wp = np.matmul(Bi,W.T)"
      ],
      "execution_count": null,
      "outputs": []
    },
    {
      "cell_type": "markdown",
      "metadata": {
        "id": "GSPnpiZKc80o"
      },
      "source": [
        "Plota o gráfico da frase"
      ]
    },
    {
      "cell_type": "code",
      "metadata": {
        "id": "CjdJTcslc80p",
        "colab": {
          "base_uri": "https://localhost:8080/",
          "height": 465
        },
        "outputId": "18d49f55-c6a8-4827-b5b1-87853dff9f02"
      },
      "source": [
        "print(texto)\n",
        "# Aumenta o tamanho da plotagem do gráfico\n",
        "plt.figure(figsize=(12,7))\n",
        "plt.axhline(color='black')\n",
        "plt.axvline(color='black')\n",
        "plt.scatter(Wp[0,:], Wp[1,:], label=\"sign\")\n",
        "rX = max(Wp[0,:])-min(Wp[0,:])\n",
        "rY = max(Wp[1,:])-min(Wp[1,:])\n",
        "rM = max(rX, rY)\n",
        "eps = 0.005\n",
        "for i, token in enumerate(texto_tokenizado):\n",
        "    if token in ['[CLS]', '[SEP]']:\n",
        "        plt.annotate(token, (Wp[0,i]+rX*eps, Wp[1,i]+rX*eps))\n",
        "    if token == 'sign':\n",
        "        plt.annotate(token, (Wp[0,i]+rX*eps*-6, Wp[1,i]+rX*eps*3))\n",
        "    if i>0:\n",
        "        plt.arrow(Wp[0,i-1],Wp[1,i-1], Wp[0,i]-Wp[0,i-1], Wp[1,i]-Wp[1,i-1], color='lightblue', head_length=rM*eps*3, head_width=rM*eps*2, length_includes_head=True)\n",
        "plt.legend()\n",
        "\n",
        "# Mostra o gráfico\n",
        "plt.show()"
      ],
      "execution_count": null,
      "outputs": [
        {
          "output_type": "stream",
          "text": [
            "I went to the registry office to sign the document.You forgot to sign the cheque.Headches may be a sign of stress.The green light is the sign to move forward.\n"
          ],
          "name": "stdout"
        },
        {
          "output_type": "display_data",
          "data": {
            "image/png": "[encoded data removed]",
            "text/plain": [
              "<Figure size 864x504 with 1 Axes>"
            ]
          },
          "metadata": {
            "tags": [],
            "needs_background": "light"
          }
        }
      ]
    },
    {
      "cell_type": "markdown",
      "metadata": {
        "id": "4JgOvygHc80r"
      },
      "source": [
        "### Comparando as frases\n",
        "\n",
        "Dividindo a frase em três orações."
      ]
    },
    {
      "cell_type": "code",
      "metadata": {
        "id": "VE6V9MXzc80s",
        "colab": {
          "base_uri": "https://localhost:8080/",
          "height": 496
        },
        "outputId": "0ccf8927-1600-48bf-b633-31c01994c200"
      },
      "source": [
        "texto = [\"I went to the registry office to sign the document.\",\n",
        "        \"You forgot to sign the cheque.\",\n",
        "        \"Headches may be a sign of stress.\",\n",
        "        \"The green light is the sign to move forward.\"]\n",
        "\n",
        "colors = ['blue', 'red', 'green', 'cyan']\n",
        "# Aumenta o tamanho da plotagem do gráfico\n",
        "plt.figure(figsize=(12,7))\n",
        "plt.axhline(color='black')\n",
        "plt.axvline(color='black')\n",
        "for n,frase in enumerate(texto):\n",
        "    Wp, tokens = getEmbeddingsVisual(frase, model, tokenizer)\n",
        "    print(tokens)\n",
        "    plt.scatter(Wp[0,:], Wp[1,:], color=colors[n], marker='x', label=frase)\n",
        "    rX = max(Wp[0,:])-min(Wp[0,:])\n",
        "    rY = max(Wp[1,:])-min(Wp[1,:])\n",
        "    rM = max(rX, rY)\n",
        "    eps = 0.005\n",
        "    eps2 = 0.005\n",
        "    for i, token in enumerate(tokens):\n",
        "        if token in ['[CLS]', '[SEP]']:\n",
        "            plt.annotate(token, (Wp[0,i]+rX*eps, Wp[1,i]+rX*eps))\n",
        "        if token == 'sign':\n",
        "            plt.annotate(token, (Wp[0,i]+rX*eps*-6, Wp[1,i]+rX*eps*3))\n",
        "        if i>0:\n",
        "            plt.arrow(Wp[0,i-1],Wp[1,i-1], Wp[0,i]-Wp[0,i-1], Wp[1,i]-Wp[1,i-1], color=colors[n], head_length=rM*eps2*4, head_width=rM*eps2*2, length_includes_head=True)\n",
        "plt.legend()\n",
        "\n",
        "# Mostra o gráfico\n",
        "plt.show()       "
      ],
      "execution_count": null,
      "outputs": [
        {
          "output_type": "stream",
          "text": [
            "['[CLS]', 'i', 'went', 'to', 'the', 'registry', 'office', 'to', 'sign', 'the', 'document', '.', '[SEP]']\n",
            "['[CLS]', 'you', 'forgot', 'to', 'sign', 'the', 'che', '##que', '.', '[SEP]']\n",
            "['[CLS]', 'head', '##ches', 'may', 'be', 'a', 'sign', 'of', 'stress', '.', '[SEP]']\n",
            "['[CLS]', 'the', 'green', 'light', 'is', 'the', 'sign', 'to', 'move', 'forward', '.', '[SEP]']\n"
          ],
          "name": "stdout"
        },
        {
          "output_type": "display_data",
          "data": {
            "image/png": "[encoded data removed]",
            "text/plain": [
              "<Figure size 864x504 with 1 Axes>"
            ]
          },
          "metadata": {
            "tags": [],
            "needs_background": "light"
          }
        }
      ]
    }
  ]
}