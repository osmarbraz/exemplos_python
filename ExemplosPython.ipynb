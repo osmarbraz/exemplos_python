{
  "nbformat": 4,
  "nbformat_minor": 0,
  "metadata": {
    "colab": {
      "name": "ExemplosPython.ipynb",
      "provenance": [],
      "collapsed_sections": [],
      "toc_visible": true,
      "include_colab_link": true
    },
    "kernelspec": {
      "display_name": "Python 3",
      "name": "python3"
    },
    "widgets": {
      "application/vnd.jupyter.widget-state+json": {
        "4d2021307ce94295941cb83e2d98f172": {
          "model_module": "@jupyter-widgets/controls",
          "model_name": "HBoxModel",
          "model_module_version": "1.5.0",
          "state": {
            "_view_name": "HBoxView",
            "_dom_classes": [],
            "_model_name": "HBoxModel",
            "_view_module": "@jupyter-widgets/controls",
            "_model_module_version": "1.5.0",
            "_view_count": null,
            "_view_module_version": "1.5.0",
            "box_style": "",
            "layout": "IPY_MODEL_7f2544eee48e4d5086afcd58de3e4ca6",
            "_model_module": "@jupyter-widgets/controls",
            "children": [
              "IPY_MODEL_4c7d12e228fd4cfb89bf949d3bbbb175",
              "IPY_MODEL_c5f1ecd81b64492890a58b940e48d761",
              "IPY_MODEL_975c166bc68749a3ba39a56487dec46b"
            ]
          }
        },
        "7f2544eee48e4d5086afcd58de3e4ca6": {
          "model_module": "@jupyter-widgets/base",
          "model_name": "LayoutModel",
          "model_module_version": "1.2.0",
          "state": {
            "_view_name": "LayoutView",
            "grid_template_rows": null,
            "right": null,
            "justify_content": null,
            "_view_module": "@jupyter-widgets/base",
            "overflow": null,
            "_model_module_version": "1.2.0",
            "_view_count": null,
            "flex_flow": null,
            "width": null,
            "min_width": null,
            "border": null,
            "align_items": null,
            "bottom": null,
            "_model_module": "@jupyter-widgets/base",
            "top": null,
            "grid_column": null,
            "overflow_y": null,
            "overflow_x": null,
            "grid_auto_flow": null,
            "grid_area": null,
            "grid_template_columns": null,
            "flex": null,
            "_model_name": "LayoutModel",
            "justify_items": null,
            "grid_row": null,
            "max_height": null,
            "align_content": null,
            "visibility": null,
            "align_self": null,
            "height": null,
            "min_height": null,
            "padding": null,
            "grid_auto_rows": null,
            "grid_gap": null,
            "max_width": null,
            "order": null,
            "_view_module_version": "1.2.0",
            "grid_template_areas": null,
            "object_position": null,
            "object_fit": null,
            "grid_auto_columns": null,
            "margin": null,
            "display": null,
            "left": null
          }
        },
        "4c7d12e228fd4cfb89bf949d3bbbb175": {
          "model_module": "@jupyter-widgets/controls",
          "model_name": "HTMLModel",
          "model_module_version": "1.5.0",
          "state": {
            "_view_name": "HTMLView",
            "style": "IPY_MODEL_110e0d68aa2c46ffae6800a291aff566",
            "_dom_classes": [],
            "description": "",
            "_model_name": "HTMLModel",
            "placeholder": "​",
            "_view_module": "@jupyter-widgets/controls",
            "_model_module_version": "1.5.0",
            "value": "100%",
            "_view_count": null,
            "_view_module_version": "1.5.0",
            "description_tooltip": null,
            "_model_module": "@jupyter-widgets/controls",
            "layout": "IPY_MODEL_94526bbe60fe47fc888d78990b97d028"
          }
        },
        "c5f1ecd81b64492890a58b940e48d761": {
          "model_module": "@jupyter-widgets/controls",
          "model_name": "FloatProgressModel",
          "model_module_version": "1.5.0",
          "state": {
            "_view_name": "ProgressView",
            "style": "IPY_MODEL_feb5faf9f69e4ee8910125e1ce6a2f49",
            "_dom_classes": [],
            "description": "",
            "_model_name": "FloatProgressModel",
            "bar_style": "success",
            "max": 10000,
            "_view_module": "@jupyter-widgets/controls",
            "_model_module_version": "1.5.0",
            "value": 10000,
            "_view_count": null,
            "_view_module_version": "1.5.0",
            "orientation": "horizontal",
            "min": 0,
            "description_tooltip": null,
            "_model_module": "@jupyter-widgets/controls",
            "layout": "IPY_MODEL_338eab0f70f84841a09610dd3da393fa"
          }
        },
        "975c166bc68749a3ba39a56487dec46b": {
          "model_module": "@jupyter-widgets/controls",
          "model_name": "HTMLModel",
          "model_module_version": "1.5.0",
          "state": {
            "_view_name": "HTMLView",
            "style": "IPY_MODEL_acb89e32f851459ea1a47d4f236ed152",
            "_dom_classes": [],
            "description": "",
            "_model_name": "HTMLModel",
            "placeholder": "​",
            "_view_module": "@jupyter-widgets/controls",
            "_model_module_version": "1.5.0",
            "value": " 10000/10000 [00:06&lt;00:00, 519.23it/s]",
            "_view_count": null,
            "_view_module_version": "1.5.0",
            "description_tooltip": null,
            "_model_module": "@jupyter-widgets/controls",
            "layout": "IPY_MODEL_b89815c655ba40d3b5e38d14587aa38f"
          }
        },
        "110e0d68aa2c46ffae6800a291aff566": {
          "model_module": "@jupyter-widgets/controls",
          "model_name": "DescriptionStyleModel",
          "model_module_version": "1.5.0",
          "state": {
            "_view_name": "StyleView",
            "_model_name": "DescriptionStyleModel",
            "description_width": "",
            "_view_module": "@jupyter-widgets/base",
            "_model_module_version": "1.5.0",
            "_view_count": null,
            "_view_module_version": "1.2.0",
            "_model_module": "@jupyter-widgets/controls"
          }
        },
        "94526bbe60fe47fc888d78990b97d028": {
          "model_module": "@jupyter-widgets/base",
          "model_name": "LayoutModel",
          "model_module_version": "1.2.0",
          "state": {
            "_view_name": "LayoutView",
            "grid_template_rows": null,
            "right": null,
            "justify_content": null,
            "_view_module": "@jupyter-widgets/base",
            "overflow": null,
            "_model_module_version": "1.2.0",
            "_view_count": null,
            "flex_flow": null,
            "width": null,
            "min_width": null,
            "border": null,
            "align_items": null,
            "bottom": null,
            "_model_module": "@jupyter-widgets/base",
            "top": null,
            "grid_column": null,
            "overflow_y": null,
            "overflow_x": null,
            "grid_auto_flow": null,
            "grid_area": null,
            "grid_template_columns": null,
            "flex": null,
            "_model_name": "LayoutModel",
            "justify_items": null,
            "grid_row": null,
            "max_height": null,
            "align_content": null,
            "visibility": null,
            "align_self": null,
            "height": null,
            "min_height": null,
            "padding": null,
            "grid_auto_rows": null,
            "grid_gap": null,
            "max_width": null,
            "order": null,
            "_view_module_version": "1.2.0",
            "grid_template_areas": null,
            "object_position": null,
            "object_fit": null,
            "grid_auto_columns": null,
            "margin": null,
            "display": null,
            "left": null
          }
        },
        "feb5faf9f69e4ee8910125e1ce6a2f49": {
          "model_module": "@jupyter-widgets/controls",
          "model_name": "ProgressStyleModel",
          "model_module_version": "1.5.0",
          "state": {
            "_view_name": "StyleView",
            "_model_name": "ProgressStyleModel",
            "description_width": "",
            "_view_module": "@jupyter-widgets/base",
            "_model_module_version": "1.5.0",
            "_view_count": null,
            "_view_module_version": "1.2.0",
            "bar_color": null,
            "_model_module": "@jupyter-widgets/controls"
          }
        },
        "338eab0f70f84841a09610dd3da393fa": {
          "model_module": "@jupyter-widgets/base",
          "model_name": "LayoutModel",
          "model_module_version": "1.2.0",
          "state": {
            "_view_name": "LayoutView",
            "grid_template_rows": null,
            "right": null,
            "justify_content": null,
            "_view_module": "@jupyter-widgets/base",
            "overflow": null,
            "_model_module_version": "1.2.0",
            "_view_count": null,
            "flex_flow": null,
            "width": null,
            "min_width": null,
            "border": null,
            "align_items": null,
            "bottom": null,
            "_model_module": "@jupyter-widgets/base",
            "top": null,
            "grid_column": null,
            "overflow_y": null,
            "overflow_x": null,
            "grid_auto_flow": null,
            "grid_area": null,
            "grid_template_columns": null,
            "flex": null,
            "_model_name": "LayoutModel",
            "justify_items": null,
            "grid_row": null,
            "max_height": null,
            "align_content": null,
            "visibility": null,
            "align_self": null,
            "height": null,
            "min_height": null,
            "padding": null,
            "grid_auto_rows": null,
            "grid_gap": null,
            "max_width": null,
            "order": null,
            "_view_module_version": "1.2.0",
            "grid_template_areas": null,
            "object_position": null,
            "object_fit": null,
            "grid_auto_columns": null,
            "margin": null,
            "display": null,
            "left": null
          }
        },
        "acb89e32f851459ea1a47d4f236ed152": {
          "model_module": "@jupyter-widgets/controls",
          "model_name": "DescriptionStyleModel",
          "model_module_version": "1.5.0",
          "state": {
            "_view_name": "StyleView",
            "_model_name": "DescriptionStyleModel",
            "description_width": "",
            "_view_module": "@jupyter-widgets/base",
            "_model_module_version": "1.5.0",
            "_view_count": null,
            "_view_module_version": "1.2.0",
            "_model_module": "@jupyter-widgets/controls"
          }
        },
        "b89815c655ba40d3b5e38d14587aa38f": {
          "model_module": "@jupyter-widgets/base",
          "model_name": "LayoutModel",
          "model_module_version": "1.2.0",
          "state": {
            "_view_name": "LayoutView",
            "grid_template_rows": null,
            "right": null,
            "justify_content": null,
            "_view_module": "@jupyter-widgets/base",
            "overflow": null,
            "_model_module_version": "1.2.0",
            "_view_count": null,
            "flex_flow": null,
            "width": null,
            "min_width": null,
            "border": null,
            "align_items": null,
            "bottom": null,
            "_model_module": "@jupyter-widgets/base",
            "top": null,
            "grid_column": null,
            "overflow_y": null,
            "overflow_x": null,
            "grid_auto_flow": null,
            "grid_area": null,
            "grid_template_columns": null,
            "flex": null,
            "_model_name": "LayoutModel",
            "justify_items": null,
            "grid_row": null,
            "max_height": null,
            "align_content": null,
            "visibility": null,
            "align_self": null,
            "height": null,
            "min_height": null,
            "padding": null,
            "grid_auto_rows": null,
            "grid_gap": null,
            "max_width": null,
            "order": null,
            "_view_module_version": "1.2.0",
            "grid_template_areas": null,
            "object_position": null,
            "object_fit": null,
            "grid_auto_columns": null,
            "margin": null,
            "display": null,
            "left": null
          }
        },
        "9a3ede1475564d179be0aff32160c8e2": {
          "model_module": "@jupyter-widgets/controls",
          "model_name": "HBoxModel",
          "model_module_version": "1.5.0",
          "state": {
            "_view_name": "HBoxView",
            "_dom_classes": [],
            "_model_name": "HBoxModel",
            "_view_module": "@jupyter-widgets/controls",
            "_model_module_version": "1.5.0",
            "_view_count": null,
            "_view_module_version": "1.5.0",
            "box_style": "",
            "layout": "IPY_MODEL_1b74b0d6877144b1bd29b2d42a55479e",
            "_model_module": "@jupyter-widgets/controls",
            "children": [
              "IPY_MODEL_55f7083434684cd9b2b9b0d342705f2b",
              "IPY_MODEL_7a6a75824bfb46458c6787a546fc2743",
              "IPY_MODEL_84d89ee2e8e64a2986d86b693082e9f5"
            ]
          }
        },
        "1b74b0d6877144b1bd29b2d42a55479e": {
          "model_module": "@jupyter-widgets/base",
          "model_name": "LayoutModel",
          "model_module_version": "1.2.0",
          "state": {
            "_view_name": "LayoutView",
            "grid_template_rows": null,
            "right": null,
            "justify_content": null,
            "_view_module": "@jupyter-widgets/base",
            "overflow": null,
            "_model_module_version": "1.2.0",
            "_view_count": null,
            "flex_flow": null,
            "width": null,
            "min_width": null,
            "border": null,
            "align_items": null,
            "bottom": null,
            "_model_module": "@jupyter-widgets/base",
            "top": null,
            "grid_column": null,
            "overflow_y": null,
            "overflow_x": null,
            "grid_auto_flow": null,
            "grid_area": null,
            "grid_template_columns": null,
            "flex": null,
            "_model_name": "LayoutModel",
            "justify_items": null,
            "grid_row": null,
            "max_height": null,
            "align_content": null,
            "visibility": null,
            "align_self": null,
            "height": null,
            "min_height": null,
            "padding": null,
            "grid_auto_rows": null,
            "grid_gap": null,
            "max_width": null,
            "order": null,
            "_view_module_version": "1.2.0",
            "grid_template_areas": null,
            "object_position": null,
            "object_fit": null,
            "grid_auto_columns": null,
            "margin": null,
            "display": null,
            "left": null
          }
        },
        "55f7083434684cd9b2b9b0d342705f2b": {
          "model_module": "@jupyter-widgets/controls",
          "model_name": "HTMLModel",
          "model_module_version": "1.5.0",
          "state": {
            "_view_name": "HTMLView",
            "style": "IPY_MODEL_41e0fad90d7b4f72a4719267b90a1dd4",
            "_dom_classes": [],
            "description": "",
            "_model_name": "HTMLModel",
            "placeholder": "​",
            "_view_module": "@jupyter-widgets/controls",
            "_model_module_version": "1.5.0",
            "value": "100%",
            "_view_count": null,
            "_view_module_version": "1.5.0",
            "description_tooltip": null,
            "_model_module": "@jupyter-widgets/controls",
            "layout": "IPY_MODEL_24bc48cd59b64a13a5e5a49a87998ae5"
          }
        },
        "7a6a75824bfb46458c6787a546fc2743": {
          "model_module": "@jupyter-widgets/controls",
          "model_name": "FloatProgressModel",
          "model_module_version": "1.5.0",
          "state": {
            "_view_name": "ProgressView",
            "style": "IPY_MODEL_05828e47f2004c35bd9a588c61ed46b5",
            "_dom_classes": [],
            "description": "",
            "_model_name": "FloatProgressModel",
            "bar_style": "success",
            "max": 10000,
            "_view_module": "@jupyter-widgets/controls",
            "_model_module_version": "1.5.0",
            "value": 10000,
            "_view_count": null,
            "_view_module_version": "1.5.0",
            "orientation": "horizontal",
            "min": 0,
            "description_tooltip": null,
            "_model_module": "@jupyter-widgets/controls",
            "layout": "IPY_MODEL_ea69f0ad4f8e4753a5553235f7d5c545"
          }
        },
        "84d89ee2e8e64a2986d86b693082e9f5": {
          "model_module": "@jupyter-widgets/controls",
          "model_name": "HTMLModel",
          "model_module_version": "1.5.0",
          "state": {
            "_view_name": "HTMLView",
            "style": "IPY_MODEL_55afa1e6eddf4be2b84dc88e90221372",
            "_dom_classes": [],
            "description": "",
            "_model_name": "HTMLModel",
            "placeholder": "​",
            "_view_module": "@jupyter-widgets/controls",
            "_model_module_version": "1.5.0",
            "value": " 10000/10000 [00:06&lt;00:00, 519.35it/s]",
            "_view_count": null,
            "_view_module_version": "1.5.0",
            "description_tooltip": null,
            "_model_module": "@jupyter-widgets/controls",
            "layout": "IPY_MODEL_9c2b5277225c42628f1250a5870edd3a"
          }
        },
        "41e0fad90d7b4f72a4719267b90a1dd4": {
          "model_module": "@jupyter-widgets/controls",
          "model_name": "DescriptionStyleModel",
          "model_module_version": "1.5.0",
          "state": {
            "_view_name": "StyleView",
            "_model_name": "DescriptionStyleModel",
            "description_width": "",
            "_view_module": "@jupyter-widgets/base",
            "_model_module_version": "1.5.0",
            "_view_count": null,
            "_view_module_version": "1.2.0",
            "_model_module": "@jupyter-widgets/controls"
          }
        },
        "24bc48cd59b64a13a5e5a49a87998ae5": {
          "model_module": "@jupyter-widgets/base",
          "model_name": "LayoutModel",
          "model_module_version": "1.2.0",
          "state": {
            "_view_name": "LayoutView",
            "grid_template_rows": null,
            "right": null,
            "justify_content": null,
            "_view_module": "@jupyter-widgets/base",
            "overflow": null,
            "_model_module_version": "1.2.0",
            "_view_count": null,
            "flex_flow": null,
            "width": null,
            "min_width": null,
            "border": null,
            "align_items": null,
            "bottom": null,
            "_model_module": "@jupyter-widgets/base",
            "top": null,
            "grid_column": null,
            "overflow_y": null,
            "overflow_x": null,
            "grid_auto_flow": null,
            "grid_area": null,
            "grid_template_columns": null,
            "flex": null,
            "_model_name": "LayoutModel",
            "justify_items": null,
            "grid_row": null,
            "max_height": null,
            "align_content": null,
            "visibility": null,
            "align_self": null,
            "height": null,
            "min_height": null,
            "padding": null,
            "grid_auto_rows": null,
            "grid_gap": null,
            "max_width": null,
            "order": null,
            "_view_module_version": "1.2.0",
            "grid_template_areas": null,
            "object_position": null,
            "object_fit": null,
            "grid_auto_columns": null,
            "margin": null,
            "display": null,
            "left": null
          }
        },
        "05828e47f2004c35bd9a588c61ed46b5": {
          "model_module": "@jupyter-widgets/controls",
          "model_name": "ProgressStyleModel",
          "model_module_version": "1.5.0",
          "state": {
            "_view_name": "StyleView",
            "_model_name": "ProgressStyleModel",
            "description_width": "",
            "_view_module": "@jupyter-widgets/base",
            "_model_module_version": "1.5.0",
            "_view_count": null,
            "_view_module_version": "1.2.0",
            "bar_color": null,
            "_model_module": "@jupyter-widgets/controls"
          }
        },
        "ea69f0ad4f8e4753a5553235f7d5c545": {
          "model_module": "@jupyter-widgets/base",
          "model_name": "LayoutModel",
          "model_module_version": "1.2.0",
          "state": {
            "_view_name": "LayoutView",
            "grid_template_rows": null,
            "right": null,
            "justify_content": null,
            "_view_module": "@jupyter-widgets/base",
            "overflow": null,
            "_model_module_version": "1.2.0",
            "_view_count": null,
            "flex_flow": null,
            "width": null,
            "min_width": null,
            "border": null,
            "align_items": null,
            "bottom": null,
            "_model_module": "@jupyter-widgets/base",
            "top": null,
            "grid_column": null,
            "overflow_y": null,
            "overflow_x": null,
            "grid_auto_flow": null,
            "grid_area": null,
            "grid_template_columns": null,
            "flex": null,
            "_model_name": "LayoutModel",
            "justify_items": null,
            "grid_row": null,
            "max_height": null,
            "align_content": null,
            "visibility": null,
            "align_self": null,
            "height": null,
            "min_height": null,
            "padding": null,
            "grid_auto_rows": null,
            "grid_gap": null,
            "max_width": null,
            "order": null,
            "_view_module_version": "1.2.0",
            "grid_template_areas": null,
            "object_position": null,
            "object_fit": null,
            "grid_auto_columns": null,
            "margin": null,
            "display": null,
            "left": null
          }
        },
        "55afa1e6eddf4be2b84dc88e90221372": {
          "model_module": "@jupyter-widgets/controls",
          "model_name": "DescriptionStyleModel",
          "model_module_version": "1.5.0",
          "state": {
            "_view_name": "StyleView",
            "_model_name": "DescriptionStyleModel",
            "description_width": "",
            "_view_module": "@jupyter-widgets/base",
            "_model_module_version": "1.5.0",
            "_view_count": null,
            "_view_module_version": "1.2.0",
            "_model_module": "@jupyter-widgets/controls"
          }
        },
        "9c2b5277225c42628f1250a5870edd3a": {
          "model_module": "@jupyter-widgets/base",
          "model_name": "LayoutModel",
          "model_module_version": "1.2.0",
          "state": {
            "_view_name": "LayoutView",
            "grid_template_rows": null,
            "right": null,
            "justify_content": null,
            "_view_module": "@jupyter-widgets/base",
            "overflow": null,
            "_model_module_version": "1.2.0",
            "_view_count": null,
            "flex_flow": null,
            "width": null,
            "min_width": null,
            "border": null,
            "align_items": null,
            "bottom": null,
            "_model_module": "@jupyter-widgets/base",
            "top": null,
            "grid_column": null,
            "overflow_y": null,
            "overflow_x": null,
            "grid_auto_flow": null,
            "grid_area": null,
            "grid_template_columns": null,
            "flex": null,
            "_model_name": "LayoutModel",
            "justify_items": null,
            "grid_row": null,
            "max_height": null,
            "align_content": null,
            "visibility": null,
            "align_self": null,
            "height": null,
            "min_height": null,
            "padding": null,
            "grid_auto_rows": null,
            "grid_gap": null,
            "max_width": null,
            "order": null,
            "_view_module_version": "1.2.0",
            "grid_template_areas": null,
            "object_position": null,
            "object_fit": null,
            "grid_auto_columns": null,
            "margin": null,
            "display": null,
            "left": null
          }
        },
        "b65129741db24d8abc6881f93f29374d": {
          "model_module": "@jupyter-widgets/controls",
          "model_name": "HBoxModel",
          "model_module_version": "1.5.0",
          "state": {
            "_view_name": "HBoxView",
            "_dom_classes": [],
            "_model_name": "HBoxModel",
            "_view_module": "@jupyter-widgets/controls",
            "_model_module_version": "1.5.0",
            "_view_count": null,
            "_view_module_version": "1.5.0",
            "box_style": "",
            "layout": "IPY_MODEL_4e8ccbfdddc84d4aa074539d8290d91b",
            "_model_module": "@jupyter-widgets/controls",
            "children": [
              "IPY_MODEL_f092d69f339745c290fde1276d1dc2ef",
              "IPY_MODEL_012713cec10d4e55a58a82baf4120752",
              "IPY_MODEL_de9f2d0726824f588a3e591e585f3e53"
            ]
          }
        },
        "4e8ccbfdddc84d4aa074539d8290d91b": {
          "model_module": "@jupyter-widgets/base",
          "model_name": "LayoutModel",
          "model_module_version": "1.2.0",
          "state": {
            "_view_name": "LayoutView",
            "grid_template_rows": null,
            "right": null,
            "justify_content": null,
            "_view_module": "@jupyter-widgets/base",
            "overflow": null,
            "_model_module_version": "1.2.0",
            "_view_count": null,
            "flex_flow": null,
            "width": null,
            "min_width": null,
            "border": null,
            "align_items": null,
            "bottom": null,
            "_model_module": "@jupyter-widgets/base",
            "top": null,
            "grid_column": null,
            "overflow_y": null,
            "overflow_x": null,
            "grid_auto_flow": null,
            "grid_area": null,
            "grid_template_columns": null,
            "flex": null,
            "_model_name": "LayoutModel",
            "justify_items": null,
            "grid_row": null,
            "max_height": null,
            "align_content": null,
            "visibility": null,
            "align_self": null,
            "height": null,
            "min_height": null,
            "padding": null,
            "grid_auto_rows": null,
            "grid_gap": null,
            "max_width": null,
            "order": null,
            "_view_module_version": "1.2.0",
            "grid_template_areas": null,
            "object_position": null,
            "object_fit": null,
            "grid_auto_columns": null,
            "margin": null,
            "display": null,
            "left": null
          }
        },
        "f092d69f339745c290fde1276d1dc2ef": {
          "model_module": "@jupyter-widgets/controls",
          "model_name": "HTMLModel",
          "model_module_version": "1.5.0",
          "state": {
            "_view_name": "HTMLView",
            "style": "IPY_MODEL_4bd772a54b4e495989675da54f178aa1",
            "_dom_classes": [],
            "description": "",
            "_model_name": "HTMLModel",
            "placeholder": "​",
            "_view_module": "@jupyter-widgets/controls",
            "_model_module_version": "1.5.0",
            "value": "Contando: 100%",
            "_view_count": null,
            "_view_module_version": "1.5.0",
            "description_tooltip": null,
            "_model_module": "@jupyter-widgets/controls",
            "layout": "IPY_MODEL_d40f5aa8b802491b969888e47a06fef0"
          }
        },
        "012713cec10d4e55a58a82baf4120752": {
          "model_module": "@jupyter-widgets/controls",
          "model_name": "FloatProgressModel",
          "model_module_version": "1.5.0",
          "state": {
            "_view_name": "ProgressView",
            "style": "IPY_MODEL_680ea496a61749d2a54a8810f3939759",
            "_dom_classes": [],
            "description": "",
            "_model_name": "FloatProgressModel",
            "bar_style": "success",
            "max": 10000,
            "_view_module": "@jupyter-widgets/controls",
            "_model_module_version": "1.5.0",
            "value": 10000,
            "_view_count": null,
            "_view_module_version": "1.5.0",
            "orientation": "horizontal",
            "min": 0,
            "description_tooltip": null,
            "_model_module": "@jupyter-widgets/controls",
            "layout": "IPY_MODEL_5ce0f23dc3a44386b12b266d1037915e"
          }
        },
        "de9f2d0726824f588a3e591e585f3e53": {
          "model_module": "@jupyter-widgets/controls",
          "model_name": "HTMLModel",
          "model_module_version": "1.5.0",
          "state": {
            "_view_name": "HTMLView",
            "style": "IPY_MODEL_351de18b95e04f75830439f80a416119",
            "_dom_classes": [],
            "description": "",
            "_model_name": "HTMLModel",
            "placeholder": "​",
            "_view_module": "@jupyter-widgets/controls",
            "_model_module_version": "1.5.0",
            "value": " 10000/10000 [00:06&lt;00:00, 517.94vezes/s]",
            "_view_count": null,
            "_view_module_version": "1.5.0",
            "description_tooltip": null,
            "_model_module": "@jupyter-widgets/controls",
            "layout": "IPY_MODEL_9979d3d6e92b45e684bde30809cfca4a"
          }
        },
        "4bd772a54b4e495989675da54f178aa1": {
          "model_module": "@jupyter-widgets/controls",
          "model_name": "DescriptionStyleModel",
          "model_module_version": "1.5.0",
          "state": {
            "_view_name": "StyleView",
            "_model_name": "DescriptionStyleModel",
            "description_width": "",
            "_view_module": "@jupyter-widgets/base",
            "_model_module_version": "1.5.0",
            "_view_count": null,
            "_view_module_version": "1.2.0",
            "_model_module": "@jupyter-widgets/controls"
          }
        },
        "d40f5aa8b802491b969888e47a06fef0": {
          "model_module": "@jupyter-widgets/base",
          "model_name": "LayoutModel",
          "model_module_version": "1.2.0",
          "state": {
            "_view_name": "LayoutView",
            "grid_template_rows": null,
            "right": null,
            "justify_content": null,
            "_view_module": "@jupyter-widgets/base",
            "overflow": null,
            "_model_module_version": "1.2.0",
            "_view_count": null,
            "flex_flow": null,
            "width": null,
            "min_width": null,
            "border": null,
            "align_items": null,
            "bottom": null,
            "_model_module": "@jupyter-widgets/base",
            "top": null,
            "grid_column": null,
            "overflow_y": null,
            "overflow_x": null,
            "grid_auto_flow": null,
            "grid_area": null,
            "grid_template_columns": null,
            "flex": null,
            "_model_name": "LayoutModel",
            "justify_items": null,
            "grid_row": null,
            "max_height": null,
            "align_content": null,
            "visibility": null,
            "align_self": null,
            "height": null,
            "min_height": null,
            "padding": null,
            "grid_auto_rows": null,
            "grid_gap": null,
            "max_width": null,
            "order": null,
            "_view_module_version": "1.2.0",
            "grid_template_areas": null,
            "object_position": null,
            "object_fit": null,
            "grid_auto_columns": null,
            "margin": null,
            "display": null,
            "left": null
          }
        },
        "680ea496a61749d2a54a8810f3939759": {
          "model_module": "@jupyter-widgets/controls",
          "model_name": "ProgressStyleModel",
          "model_module_version": "1.5.0",
          "state": {
            "_view_name": "StyleView",
            "_model_name": "ProgressStyleModel",
            "description_width": "",
            "_view_module": "@jupyter-widgets/base",
            "_model_module_version": "1.5.0",
            "_view_count": null,
            "_view_module_version": "1.2.0",
            "bar_color": null,
            "_model_module": "@jupyter-widgets/controls"
          }
        },
        "5ce0f23dc3a44386b12b266d1037915e": {
          "model_module": "@jupyter-widgets/base",
          "model_name": "LayoutModel",
          "model_module_version": "1.2.0",
          "state": {
            "_view_name": "LayoutView",
            "grid_template_rows": null,
            "right": null,
            "justify_content": null,
            "_view_module": "@jupyter-widgets/base",
            "overflow": null,
            "_model_module_version": "1.2.0",
            "_view_count": null,
            "flex_flow": null,
            "width": null,
            "min_width": null,
            "border": null,
            "align_items": null,
            "bottom": null,
            "_model_module": "@jupyter-widgets/base",
            "top": null,
            "grid_column": null,
            "overflow_y": null,
            "overflow_x": null,
            "grid_auto_flow": null,
            "grid_area": null,
            "grid_template_columns": null,
            "flex": null,
            "_model_name": "LayoutModel",
            "justify_items": null,
            "grid_row": null,
            "max_height": null,
            "align_content": null,
            "visibility": null,
            "align_self": null,
            "height": null,
            "min_height": null,
            "padding": null,
            "grid_auto_rows": null,
            "grid_gap": null,
            "max_width": null,
            "order": null,
            "_view_module_version": "1.2.0",
            "grid_template_areas": null,
            "object_position": null,
            "object_fit": null,
            "grid_auto_columns": null,
            "margin": null,
            "display": null,
            "left": null
          }
        },
        "351de18b95e04f75830439f80a416119": {
          "model_module": "@jupyter-widgets/controls",
          "model_name": "DescriptionStyleModel",
          "model_module_version": "1.5.0",
          "state": {
            "_view_name": "StyleView",
            "_model_name": "DescriptionStyleModel",
            "description_width": "",
            "_view_module": "@jupyter-widgets/base",
            "_model_module_version": "1.5.0",
            "_view_count": null,
            "_view_module_version": "1.2.0",
            "_model_module": "@jupyter-widgets/controls"
          }
        },
        "9979d3d6e92b45e684bde30809cfca4a": {
          "model_module": "@jupyter-widgets/base",
          "model_name": "LayoutModel",
          "model_module_version": "1.2.0",
          "state": {
            "_view_name": "LayoutView",
            "grid_template_rows": null,
            "right": null,
            "justify_content": null,
            "_view_module": "@jupyter-widgets/base",
            "overflow": null,
            "_model_module_version": "1.2.0",
            "_view_count": null,
            "flex_flow": null,
            "width": null,
            "min_width": null,
            "border": null,
            "align_items": null,
            "bottom": null,
            "_model_module": "@jupyter-widgets/base",
            "top": null,
            "grid_column": null,
            "overflow_y": null,
            "overflow_x": null,
            "grid_auto_flow": null,
            "grid_area": null,
            "grid_template_columns": null,
            "flex": null,
            "_model_name": "LayoutModel",
            "justify_items": null,
            "grid_row": null,
            "max_height": null,
            "align_content": null,
            "visibility": null,
            "align_self": null,
            "height": null,
            "min_height": null,
            "padding": null,
            "grid_auto_rows": null,
            "grid_gap": null,
            "max_width": null,
            "order": null,
            "_view_module_version": "1.2.0",
            "grid_template_areas": null,
            "object_position": null,
            "object_fit": null,
            "grid_auto_columns": null,
            "margin": null,
            "display": null,
            "left": null
          }
        },
        "8d948c368dfc4a8985d1f3fbec1ad33e": {
          "model_module": "@jupyter-widgets/controls",
          "model_name": "HBoxModel",
          "model_module_version": "1.5.0",
          "state": {
            "_view_name": "HBoxView",
            "_dom_classes": [],
            "_model_name": "HBoxModel",
            "_view_module": "@jupyter-widgets/controls",
            "_model_module_version": "1.5.0",
            "_view_count": null,
            "_view_module_version": "1.5.0",
            "box_style": "",
            "layout": "IPY_MODEL_03d93d4d170844f49f4fde0a5b0136fb",
            "_model_module": "@jupyter-widgets/controls",
            "children": [
              "IPY_MODEL_6a8c50d00a304934a9390f08732d8da4",
              "IPY_MODEL_84df9709d4754d04b95e12de2d73905e",
              "IPY_MODEL_7849a557ed8a47ad8bc743a31589065a"
            ]
          }
        },
        "03d93d4d170844f49f4fde0a5b0136fb": {
          "model_module": "@jupyter-widgets/base",
          "model_name": "LayoutModel",
          "model_module_version": "1.2.0",
          "state": {
            "_view_name": "LayoutView",
            "grid_template_rows": null,
            "right": null,
            "justify_content": null,
            "_view_module": "@jupyter-widgets/base",
            "overflow": null,
            "_model_module_version": "1.2.0",
            "_view_count": null,
            "flex_flow": null,
            "width": null,
            "min_width": null,
            "border": null,
            "align_items": null,
            "bottom": null,
            "_model_module": "@jupyter-widgets/base",
            "top": null,
            "grid_column": null,
            "overflow_y": null,
            "overflow_x": null,
            "grid_auto_flow": null,
            "grid_area": null,
            "grid_template_columns": null,
            "flex": null,
            "_model_name": "LayoutModel",
            "justify_items": null,
            "grid_row": null,
            "max_height": null,
            "align_content": null,
            "visibility": null,
            "align_self": null,
            "height": null,
            "min_height": null,
            "padding": null,
            "grid_auto_rows": null,
            "grid_gap": null,
            "max_width": null,
            "order": null,
            "_view_module_version": "1.2.0",
            "grid_template_areas": null,
            "object_position": null,
            "object_fit": null,
            "grid_auto_columns": null,
            "margin": null,
            "display": null,
            "left": null
          }
        },
        "6a8c50d00a304934a9390f08732d8da4": {
          "model_module": "@jupyter-widgets/controls",
          "model_name": "HTMLModel",
          "model_module_version": "1.5.0",
          "state": {
            "_view_name": "HTMLView",
            "style": "IPY_MODEL_db6882b17c3749cb93095c33590f8492",
            "_dom_classes": [],
            "description": "",
            "_model_name": "HTMLModel",
            "placeholder": "​",
            "_view_module": "@jupyter-widgets/controls",
            "_model_module_version": "1.5.0",
            "value": "Contando: 100%",
            "_view_count": null,
            "_view_module_version": "1.5.0",
            "description_tooltip": null,
            "_model_module": "@jupyter-widgets/controls",
            "layout": "IPY_MODEL_2da2622a6f294538af285f8c06b60f89"
          }
        },
        "84df9709d4754d04b95e12de2d73905e": {
          "model_module": "@jupyter-widgets/controls",
          "model_name": "FloatProgressModel",
          "model_module_version": "1.5.0",
          "state": {
            "_view_name": "ProgressView",
            "style": "IPY_MODEL_a887e9f734bf48178e0f274ceed2f1c5",
            "_dom_classes": [],
            "description": "",
            "_model_name": "FloatProgressModel",
            "bar_style": "success",
            "max": 1000,
            "_view_module": "@jupyter-widgets/controls",
            "_model_module_version": "1.5.0",
            "value": 1000,
            "_view_count": null,
            "_view_module_version": "1.5.0",
            "orientation": "horizontal",
            "min": 0,
            "description_tooltip": null,
            "_model_module": "@jupyter-widgets/controls",
            "layout": "IPY_MODEL_b4f6a262ba1b4c6cbfe3598312cb005f"
          }
        },
        "7849a557ed8a47ad8bc743a31589065a": {
          "model_module": "@jupyter-widgets/controls",
          "model_name": "HTMLModel",
          "model_module_version": "1.5.0",
          "state": {
            "_view_name": "HTMLView",
            "style": "IPY_MODEL_7253ebd47dd047d98f8a22d3cf657e66",
            "_dom_classes": [],
            "description": "",
            "_model_name": "HTMLModel",
            "placeholder": "​",
            "_view_module": "@jupyter-widgets/controls",
            "_model_module_version": "1.5.0",
            "value": " 1000/1000 [00:01&lt;00:00, 672.40vezes/s, tamanho=1000]",
            "_view_count": null,
            "_view_module_version": "1.5.0",
            "description_tooltip": null,
            "_model_module": "@jupyter-widgets/controls",
            "layout": "IPY_MODEL_a4e26842522641479ee28b154273cf94"
          }
        },
        "db6882b17c3749cb93095c33590f8492": {
          "model_module": "@jupyter-widgets/controls",
          "model_name": "DescriptionStyleModel",
          "model_module_version": "1.5.0",
          "state": {
            "_view_name": "StyleView",
            "_model_name": "DescriptionStyleModel",
            "description_width": "",
            "_view_module": "@jupyter-widgets/base",
            "_model_module_version": "1.5.0",
            "_view_count": null,
            "_view_module_version": "1.2.0",
            "_model_module": "@jupyter-widgets/controls"
          }
        },
        "2da2622a6f294538af285f8c06b60f89": {
          "model_module": "@jupyter-widgets/base",
          "model_name": "LayoutModel",
          "model_module_version": "1.2.0",
          "state": {
            "_view_name": "LayoutView",
            "grid_template_rows": null,
            "right": null,
            "justify_content": null,
            "_view_module": "@jupyter-widgets/base",
            "overflow": null,
            "_model_module_version": "1.2.0",
            "_view_count": null,
            "flex_flow": null,
            "width": null,
            "min_width": null,
            "border": null,
            "align_items": null,
            "bottom": null,
            "_model_module": "@jupyter-widgets/base",
            "top": null,
            "grid_column": null,
            "overflow_y": null,
            "overflow_x": null,
            "grid_auto_flow": null,
            "grid_area": null,
            "grid_template_columns": null,
            "flex": null,
            "_model_name": "LayoutModel",
            "justify_items": null,
            "grid_row": null,
            "max_height": null,
            "align_content": null,
            "visibility": null,
            "align_self": null,
            "height": null,
            "min_height": null,
            "padding": null,
            "grid_auto_rows": null,
            "grid_gap": null,
            "max_width": null,
            "order": null,
            "_view_module_version": "1.2.0",
            "grid_template_areas": null,
            "object_position": null,
            "object_fit": null,
            "grid_auto_columns": null,
            "margin": null,
            "display": null,
            "left": null
          }
        },
        "a887e9f734bf48178e0f274ceed2f1c5": {
          "model_module": "@jupyter-widgets/controls",
          "model_name": "ProgressStyleModel",
          "model_module_version": "1.5.0",
          "state": {
            "_view_name": "StyleView",
            "_model_name": "ProgressStyleModel",
            "description_width": "",
            "_view_module": "@jupyter-widgets/base",
            "_model_module_version": "1.5.0",
            "_view_count": null,
            "_view_module_version": "1.2.0",
            "bar_color": null,
            "_model_module": "@jupyter-widgets/controls"
          }
        },
        "b4f6a262ba1b4c6cbfe3598312cb005f": {
          "model_module": "@jupyter-widgets/base",
          "model_name": "LayoutModel",
          "model_module_version": "1.2.0",
          "state": {
            "_view_name": "LayoutView",
            "grid_template_rows": null,
            "right": null,
            "justify_content": null,
            "_view_module": "@jupyter-widgets/base",
            "overflow": null,
            "_model_module_version": "1.2.0",
            "_view_count": null,
            "flex_flow": null,
            "width": null,
            "min_width": null,
            "border": null,
            "align_items": null,
            "bottom": null,
            "_model_module": "@jupyter-widgets/base",
            "top": null,
            "grid_column": null,
            "overflow_y": null,
            "overflow_x": null,
            "grid_auto_flow": null,
            "grid_area": null,
            "grid_template_columns": null,
            "flex": null,
            "_model_name": "LayoutModel",
            "justify_items": null,
            "grid_row": null,
            "max_height": null,
            "align_content": null,
            "visibility": null,
            "align_self": null,
            "height": null,
            "min_height": null,
            "padding": null,
            "grid_auto_rows": null,
            "grid_gap": null,
            "max_width": null,
            "order": null,
            "_view_module_version": "1.2.0",
            "grid_template_areas": null,
            "object_position": null,
            "object_fit": null,
            "grid_auto_columns": null,
            "margin": null,
            "display": null,
            "left": null
          }
        },
        "7253ebd47dd047d98f8a22d3cf657e66": {
          "model_module": "@jupyter-widgets/controls",
          "model_name": "DescriptionStyleModel",
          "model_module_version": "1.5.0",
          "state": {
            "_view_name": "StyleView",
            "_model_name": "DescriptionStyleModel",
            "description_width": "",
            "_view_module": "@jupyter-widgets/base",
            "_model_module_version": "1.5.0",
            "_view_count": null,
            "_view_module_version": "1.2.0",
            "_model_module": "@jupyter-widgets/controls"
          }
        },
        "a4e26842522641479ee28b154273cf94": {
          "model_module": "@jupyter-widgets/base",
          "model_name": "LayoutModel",
          "model_module_version": "1.2.0",
          "state": {
            "_view_name": "LayoutView",
            "grid_template_rows": null,
            "right": null,
            "justify_content": null,
            "_view_module": "@jupyter-widgets/base",
            "overflow": null,
            "_model_module_version": "1.2.0",
            "_view_count": null,
            "flex_flow": null,
            "width": null,
            "min_width": null,
            "border": null,
            "align_items": null,
            "bottom": null,
            "_model_module": "@jupyter-widgets/base",
            "top": null,
            "grid_column": null,
            "overflow_y": null,
            "overflow_x": null,
            "grid_auto_flow": null,
            "grid_area": null,
            "grid_template_columns": null,
            "flex": null,
            "_model_name": "LayoutModel",
            "justify_items": null,
            "grid_row": null,
            "max_height": null,
            "align_content": null,
            "visibility": null,
            "align_self": null,
            "height": null,
            "min_height": null,
            "padding": null,
            "grid_auto_rows": null,
            "grid_gap": null,
            "max_width": null,
            "order": null,
            "_view_module_version": "1.2.0",
            "grid_template_areas": null,
            "object_position": null,
            "object_fit": null,
            "grid_auto_columns": null,
            "margin": null,
            "display": null,
            "left": null
          }
        },
        "583b304218324e3ab4ea55fa99af7cc5": {
          "model_module": "@jupyter-widgets/controls",
          "model_name": "HBoxModel",
          "model_module_version": "1.5.0",
          "state": {
            "_view_name": "HBoxView",
            "_dom_classes": [],
            "_model_name": "HBoxModel",
            "_view_module": "@jupyter-widgets/controls",
            "_model_module_version": "1.5.0",
            "_view_count": null,
            "_view_module_version": "1.5.0",
            "box_style": "",
            "layout": "IPY_MODEL_1b24fe560dea45e89d9055be61c87e91",
            "_model_module": "@jupyter-widgets/controls",
            "children": [
              "IPY_MODEL_1ae2bdbfd548487b9dd0e9f5a96d321d",
              "IPY_MODEL_0f32576f01e749389a94b3125f4f8078",
              "IPY_MODEL_feaa5b66104d4991968a3d9ece33b49d"
            ]
          }
        },
        "1b24fe560dea45e89d9055be61c87e91": {
          "model_module": "@jupyter-widgets/base",
          "model_name": "LayoutModel",
          "model_module_version": "1.2.0",
          "state": {
            "_view_name": "LayoutView",
            "grid_template_rows": null,
            "right": null,
            "justify_content": null,
            "_view_module": "@jupyter-widgets/base",
            "overflow": null,
            "_model_module_version": "1.2.0",
            "_view_count": null,
            "flex_flow": null,
            "width": null,
            "min_width": null,
            "border": null,
            "align_items": null,
            "bottom": null,
            "_model_module": "@jupyter-widgets/base",
            "top": null,
            "grid_column": null,
            "overflow_y": null,
            "overflow_x": null,
            "grid_auto_flow": null,
            "grid_area": null,
            "grid_template_columns": null,
            "flex": null,
            "_model_name": "LayoutModel",
            "justify_items": null,
            "grid_row": null,
            "max_height": null,
            "align_content": null,
            "visibility": null,
            "align_self": null,
            "height": null,
            "min_height": null,
            "padding": null,
            "grid_auto_rows": null,
            "grid_gap": null,
            "max_width": null,
            "order": null,
            "_view_module_version": "1.2.0",
            "grid_template_areas": null,
            "object_position": null,
            "object_fit": null,
            "grid_auto_columns": null,
            "margin": null,
            "display": null,
            "left": null
          }
        },
        "1ae2bdbfd548487b9dd0e9f5a96d321d": {
          "model_module": "@jupyter-widgets/controls",
          "model_name": "HTMLModel",
          "model_module_version": "1.5.0",
          "state": {
            "_view_name": "HTMLView",
            "style": "IPY_MODEL_36f2999aa0204f3680fd9fd2836d9b1d",
            "_dom_classes": [],
            "description": "",
            "_model_name": "HTMLModel",
            "placeholder": "​",
            "_view_module": "@jupyter-widgets/controls",
            "_model_module_version": "1.5.0",
            "value": "1o Laço: 100%",
            "_view_count": null,
            "_view_module_version": "1.5.0",
            "description_tooltip": null,
            "_model_module": "@jupyter-widgets/controls",
            "layout": "IPY_MODEL_b0bb72f6765e4a64bda2fd3ae208c244"
          }
        },
        "0f32576f01e749389a94b3125f4f8078": {
          "model_module": "@jupyter-widgets/controls",
          "model_name": "FloatProgressModel",
          "model_module_version": "1.5.0",
          "state": {
            "_view_name": "ProgressView",
            "style": "IPY_MODEL_c0ab696b8eda4f86854085e133a55245",
            "_dom_classes": [],
            "description": "",
            "_model_name": "FloatProgressModel",
            "bar_style": "success",
            "max": 5,
            "_view_module": "@jupyter-widgets/controls",
            "_model_module_version": "1.5.0",
            "value": 5,
            "_view_count": null,
            "_view_module_version": "1.5.0",
            "orientation": "horizontal",
            "min": 0,
            "description_tooltip": null,
            "_model_module": "@jupyter-widgets/controls",
            "layout": "IPY_MODEL_cee08869790b4370a75c3564862169eb"
          }
        },
        "feaa5b66104d4991968a3d9ece33b49d": {
          "model_module": "@jupyter-widgets/controls",
          "model_name": "HTMLModel",
          "model_module_version": "1.5.0",
          "state": {
            "_view_name": "HTMLView",
            "style": "IPY_MODEL_24cf61cc83f8467894f3ed103f988f5b",
            "_dom_classes": [],
            "description": "",
            "_model_name": "HTMLModel",
            "placeholder": "​",
            "_view_module": "@jupyter-widgets/controls",
            "_model_module_version": "1.5.0",
            "value": " 5/5 [00:10&lt;00:00,  2.14s/it]",
            "_view_count": null,
            "_view_module_version": "1.5.0",
            "description_tooltip": null,
            "_model_module": "@jupyter-widgets/controls",
            "layout": "IPY_MODEL_692e7b56f76044208e23198b7348d887"
          }
        },
        "36f2999aa0204f3680fd9fd2836d9b1d": {
          "model_module": "@jupyter-widgets/controls",
          "model_name": "DescriptionStyleModel",
          "model_module_version": "1.5.0",
          "state": {
            "_view_name": "StyleView",
            "_model_name": "DescriptionStyleModel",
            "description_width": "",
            "_view_module": "@jupyter-widgets/base",
            "_model_module_version": "1.5.0",
            "_view_count": null,
            "_view_module_version": "1.2.0",
            "_model_module": "@jupyter-widgets/controls"
          }
        },
        "b0bb72f6765e4a64bda2fd3ae208c244": {
          "model_module": "@jupyter-widgets/base",
          "model_name": "LayoutModel",
          "model_module_version": "1.2.0",
          "state": {
            "_view_name": "LayoutView",
            "grid_template_rows": null,
            "right": null,
            "justify_content": null,
            "_view_module": "@jupyter-widgets/base",
            "overflow": null,
            "_model_module_version": "1.2.0",
            "_view_count": null,
            "flex_flow": null,
            "width": null,
            "min_width": null,
            "border": null,
            "align_items": null,
            "bottom": null,
            "_model_module": "@jupyter-widgets/base",
            "top": null,
            "grid_column": null,
            "overflow_y": null,
            "overflow_x": null,
            "grid_auto_flow": null,
            "grid_area": null,
            "grid_template_columns": null,
            "flex": null,
            "_model_name": "LayoutModel",
            "justify_items": null,
            "grid_row": null,
            "max_height": null,
            "align_content": null,
            "visibility": null,
            "align_self": null,
            "height": null,
            "min_height": null,
            "padding": null,
            "grid_auto_rows": null,
            "grid_gap": null,
            "max_width": null,
            "order": null,
            "_view_module_version": "1.2.0",
            "grid_template_areas": null,
            "object_position": null,
            "object_fit": null,
            "grid_auto_columns": null,
            "margin": null,
            "display": null,
            "left": null
          }
        },
        "c0ab696b8eda4f86854085e133a55245": {
          "model_module": "@jupyter-widgets/controls",
          "model_name": "ProgressStyleModel",
          "model_module_version": "1.5.0",
          "state": {
            "_view_name": "StyleView",
            "_model_name": "ProgressStyleModel",
            "description_width": "",
            "_view_module": "@jupyter-widgets/base",
            "_model_module_version": "1.5.0",
            "_view_count": null,
            "_view_module_version": "1.2.0",
            "bar_color": null,
            "_model_module": "@jupyter-widgets/controls"
          }
        },
        "cee08869790b4370a75c3564862169eb": {
          "model_module": "@jupyter-widgets/base",
          "model_name": "LayoutModel",
          "model_module_version": "1.2.0",
          "state": {
            "_view_name": "LayoutView",
            "grid_template_rows": null,
            "right": null,
            "justify_content": null,
            "_view_module": "@jupyter-widgets/base",
            "overflow": null,
            "_model_module_version": "1.2.0",
            "_view_count": null,
            "flex_flow": null,
            "width": null,
            "min_width": null,
            "border": null,
            "align_items": null,
            "bottom": null,
            "_model_module": "@jupyter-widgets/base",
            "top": null,
            "grid_column": null,
            "overflow_y": null,
            "overflow_x": null,
            "grid_auto_flow": null,
            "grid_area": null,
            "grid_template_columns": null,
            "flex": null,
            "_model_name": "LayoutModel",
            "justify_items": null,
            "grid_row": null,
            "max_height": null,
            "align_content": null,
            "visibility": null,
            "align_self": null,
            "height": null,
            "min_height": null,
            "padding": null,
            "grid_auto_rows": null,
            "grid_gap": null,
            "max_width": null,
            "order": null,
            "_view_module_version": "1.2.0",
            "grid_template_areas": null,
            "object_position": null,
            "object_fit": null,
            "grid_auto_columns": null,
            "margin": null,
            "display": null,
            "left": null
          }
        },
        "24cf61cc83f8467894f3ed103f988f5b": {
          "model_module": "@jupyter-widgets/controls",
          "model_name": "DescriptionStyleModel",
          "model_module_version": "1.5.0",
          "state": {
            "_view_name": "StyleView",
            "_model_name": "DescriptionStyleModel",
            "description_width": "",
            "_view_module": "@jupyter-widgets/base",
            "_model_module_version": "1.5.0",
            "_view_count": null,
            "_view_module_version": "1.2.0",
            "_model_module": "@jupyter-widgets/controls"
          }
        },
        "692e7b56f76044208e23198b7348d887": {
          "model_module": "@jupyter-widgets/base",
          "model_name": "LayoutModel",
          "model_module_version": "1.2.0",
          "state": {
            "_view_name": "LayoutView",
            "grid_template_rows": null,
            "right": null,
            "justify_content": null,
            "_view_module": "@jupyter-widgets/base",
            "overflow": null,
            "_model_module_version": "1.2.0",
            "_view_count": null,
            "flex_flow": null,
            "width": null,
            "min_width": null,
            "border": null,
            "align_items": null,
            "bottom": null,
            "_model_module": "@jupyter-widgets/base",
            "top": null,
            "grid_column": null,
            "overflow_y": null,
            "overflow_x": null,
            "grid_auto_flow": null,
            "grid_area": null,
            "grid_template_columns": null,
            "flex": null,
            "_model_name": "LayoutModel",
            "justify_items": null,
            "grid_row": null,
            "max_height": null,
            "align_content": null,
            "visibility": null,
            "align_self": null,
            "height": null,
            "min_height": null,
            "padding": null,
            "grid_auto_rows": null,
            "grid_gap": null,
            "max_width": null,
            "order": null,
            "_view_module_version": "1.2.0",
            "grid_template_areas": null,
            "object_position": null,
            "object_fit": null,
            "grid_auto_columns": null,
            "margin": null,
            "display": null,
            "left": null
          }
        },
        "43c1c1ec440a491189596946e36da4a3": {
          "model_module": "@jupyter-widgets/controls",
          "model_name": "HBoxModel",
          "model_module_version": "1.5.0",
          "state": {
            "_view_name": "HBoxView",
            "_dom_classes": [],
            "_model_name": "HBoxModel",
            "_view_module": "@jupyter-widgets/controls",
            "_model_module_version": "1.5.0",
            "_view_count": null,
            "_view_module_version": "1.5.0",
            "box_style": "",
            "layout": "IPY_MODEL_dbf12d1890934115bc3952a3aa9f9873",
            "_model_module": "@jupyter-widgets/controls",
            "children": [
              "IPY_MODEL_05102650fccf4e528bc8e48209785b4d",
              "IPY_MODEL_0beaeba7c5734c8c8ada6087af5d54a7",
              "IPY_MODEL_61c97702af6f4f0591997008cb6ab9f5"
            ]
          }
        },
        "dbf12d1890934115bc3952a3aa9f9873": {
          "model_module": "@jupyter-widgets/base",
          "model_name": "LayoutModel",
          "model_module_version": "1.2.0",
          "state": {
            "_view_name": "LayoutView",
            "grid_template_rows": null,
            "right": null,
            "justify_content": null,
            "_view_module": "@jupyter-widgets/base",
            "overflow": null,
            "_model_module_version": "1.2.0",
            "_view_count": null,
            "flex_flow": null,
            "width": null,
            "min_width": null,
            "border": null,
            "align_items": null,
            "bottom": null,
            "_model_module": "@jupyter-widgets/base",
            "top": null,
            "grid_column": null,
            "overflow_y": null,
            "overflow_x": null,
            "grid_auto_flow": null,
            "grid_area": null,
            "grid_template_columns": null,
            "flex": null,
            "_model_name": "LayoutModel",
            "justify_items": null,
            "grid_row": null,
            "max_height": null,
            "align_content": null,
            "visibility": null,
            "align_self": null,
            "height": null,
            "min_height": null,
            "padding": null,
            "grid_auto_rows": null,
            "grid_gap": null,
            "max_width": null,
            "order": null,
            "_view_module_version": "1.2.0",
            "grid_template_areas": null,
            "object_position": null,
            "object_fit": null,
            "grid_auto_columns": null,
            "margin": null,
            "display": null,
            "left": null
          }
        },
        "05102650fccf4e528bc8e48209785b4d": {
          "model_module": "@jupyter-widgets/controls",
          "model_name": "HTMLModel",
          "model_module_version": "1.5.0",
          "state": {
            "_view_name": "HTMLView",
            "style": "IPY_MODEL_792582749a3341f8b7b278bf13e51596",
            "_dom_classes": [],
            "description": "",
            "_model_name": "HTMLModel",
            "placeholder": "​",
            "_view_module": "@jupyter-widgets/controls",
            "_model_module_version": "1.5.0",
            "value": "2o Laço:  98%",
            "_view_count": null,
            "_view_module_version": "1.5.0",
            "description_tooltip": null,
            "_model_module": "@jupyter-widgets/controls",
            "layout": "IPY_MODEL_af179dc5165f42129657c4b4e190be25"
          }
        },
        "0beaeba7c5734c8c8ada6087af5d54a7": {
          "model_module": "@jupyter-widgets/controls",
          "model_name": "FloatProgressModel",
          "model_module_version": "1.5.0",
          "state": {
            "_view_name": "ProgressView",
            "style": "IPY_MODEL_77864907c436417695bdd1da74d273bb",
            "_dom_classes": [],
            "description": "",
            "_model_name": "FloatProgressModel",
            "bar_style": "",
            "max": 100,
            "_view_module": "@jupyter-widgets/controls",
            "_model_module_version": "1.5.0",
            "value": 100,
            "_view_count": null,
            "_view_module_version": "1.5.0",
            "orientation": "horizontal",
            "min": 0,
            "description_tooltip": null,
            "_model_module": "@jupyter-widgets/controls",
            "layout": "IPY_MODEL_9ea7cd99d74b483ba886e1efdfcf4996"
          }
        },
        "61c97702af6f4f0591997008cb6ab9f5": {
          "model_module": "@jupyter-widgets/controls",
          "model_name": "HTMLModel",
          "model_module_version": "1.5.0",
          "state": {
            "_view_name": "HTMLView",
            "style": "IPY_MODEL_df4ef24475bd42a1a55de5952dba637c",
            "_dom_classes": [],
            "description": "",
            "_model_name": "HTMLModel",
            "placeholder": "​",
            "_view_module": "@jupyter-widgets/controls",
            "_model_module_version": "1.5.0",
            "value": " 98/100 [00:02&lt;00:00, 47.92it/s]",
            "_view_count": null,
            "_view_module_version": "1.5.0",
            "description_tooltip": null,
            "_model_module": "@jupyter-widgets/controls",
            "layout": "IPY_MODEL_325f21cbe90646b9948b5af853c59908"
          }
        },
        "792582749a3341f8b7b278bf13e51596": {
          "model_module": "@jupyter-widgets/controls",
          "model_name": "DescriptionStyleModel",
          "model_module_version": "1.5.0",
          "state": {
            "_view_name": "StyleView",
            "_model_name": "DescriptionStyleModel",
            "description_width": "",
            "_view_module": "@jupyter-widgets/base",
            "_model_module_version": "1.5.0",
            "_view_count": null,
            "_view_module_version": "1.2.0",
            "_model_module": "@jupyter-widgets/controls"
          }
        },
        "af179dc5165f42129657c4b4e190be25": {
          "model_module": "@jupyter-widgets/base",
          "model_name": "LayoutModel",
          "model_module_version": "1.2.0",
          "state": {
            "_view_name": "LayoutView",
            "grid_template_rows": null,
            "right": null,
            "justify_content": null,
            "_view_module": "@jupyter-widgets/base",
            "overflow": null,
            "_model_module_version": "1.2.0",
            "_view_count": null,
            "flex_flow": null,
            "width": null,
            "min_width": null,
            "border": null,
            "align_items": null,
            "bottom": null,
            "_model_module": "@jupyter-widgets/base",
            "top": null,
            "grid_column": null,
            "overflow_y": null,
            "overflow_x": null,
            "grid_auto_flow": null,
            "grid_area": null,
            "grid_template_columns": null,
            "flex": null,
            "_model_name": "LayoutModel",
            "justify_items": null,
            "grid_row": null,
            "max_height": null,
            "align_content": null,
            "visibility": null,
            "align_self": null,
            "height": null,
            "min_height": null,
            "padding": null,
            "grid_auto_rows": null,
            "grid_gap": null,
            "max_width": null,
            "order": null,
            "_view_module_version": "1.2.0",
            "grid_template_areas": null,
            "object_position": null,
            "object_fit": null,
            "grid_auto_columns": null,
            "margin": null,
            "display": null,
            "left": null
          }
        },
        "77864907c436417695bdd1da74d273bb": {
          "model_module": "@jupyter-widgets/controls",
          "model_name": "ProgressStyleModel",
          "model_module_version": "1.5.0",
          "state": {
            "_view_name": "StyleView",
            "_model_name": "ProgressStyleModel",
            "description_width": "",
            "_view_module": "@jupyter-widgets/base",
            "_model_module_version": "1.5.0",
            "_view_count": null,
            "_view_module_version": "1.2.0",
            "bar_color": null,
            "_model_module": "@jupyter-widgets/controls"
          }
        },
        "9ea7cd99d74b483ba886e1efdfcf4996": {
          "model_module": "@jupyter-widgets/base",
          "model_name": "LayoutModel",
          "model_module_version": "1.2.0",
          "state": {
            "_view_name": "LayoutView",
            "grid_template_rows": null,
            "right": null,
            "justify_content": null,
            "_view_module": "@jupyter-widgets/base",
            "overflow": null,
            "_model_module_version": "1.2.0",
            "_view_count": null,
            "flex_flow": null,
            "width": null,
            "min_width": null,
            "border": null,
            "align_items": null,
            "bottom": null,
            "_model_module": "@jupyter-widgets/base",
            "top": null,
            "grid_column": null,
            "overflow_y": null,
            "overflow_x": null,
            "grid_auto_flow": null,
            "grid_area": null,
            "grid_template_columns": null,
            "flex": null,
            "_model_name": "LayoutModel",
            "justify_items": null,
            "grid_row": null,
            "max_height": null,
            "align_content": null,
            "visibility": null,
            "align_self": null,
            "height": null,
            "min_height": null,
            "padding": null,
            "grid_auto_rows": null,
            "grid_gap": null,
            "max_width": null,
            "order": null,
            "_view_module_version": "1.2.0",
            "grid_template_areas": null,
            "object_position": null,
            "object_fit": null,
            "grid_auto_columns": null,
            "margin": null,
            "display": null,
            "left": null
          }
        },
        "df4ef24475bd42a1a55de5952dba637c": {
          "model_module": "@jupyter-widgets/controls",
          "model_name": "DescriptionStyleModel",
          "model_module_version": "1.5.0",
          "state": {
            "_view_name": "StyleView",
            "_model_name": "DescriptionStyleModel",
            "description_width": "",
            "_view_module": "@jupyter-widgets/base",
            "_model_module_version": "1.5.0",
            "_view_count": null,
            "_view_module_version": "1.2.0",
            "_model_module": "@jupyter-widgets/controls"
          }
        },
        "325f21cbe90646b9948b5af853c59908": {
          "model_module": "@jupyter-widgets/base",
          "model_name": "LayoutModel",
          "model_module_version": "1.2.0",
          "state": {
            "_view_name": "LayoutView",
            "grid_template_rows": null,
            "right": null,
            "justify_content": null,
            "_view_module": "@jupyter-widgets/base",
            "overflow": null,
            "_model_module_version": "1.2.0",
            "_view_count": null,
            "flex_flow": null,
            "width": null,
            "min_width": null,
            "border": null,
            "align_items": null,
            "bottom": null,
            "_model_module": "@jupyter-widgets/base",
            "top": null,
            "grid_column": null,
            "overflow_y": null,
            "overflow_x": null,
            "grid_auto_flow": null,
            "grid_area": null,
            "grid_template_columns": null,
            "flex": null,
            "_model_name": "LayoutModel",
            "justify_items": null,
            "grid_row": null,
            "max_height": null,
            "align_content": null,
            "visibility": null,
            "align_self": null,
            "height": null,
            "min_height": null,
            "padding": null,
            "grid_auto_rows": null,
            "grid_gap": null,
            "max_width": null,
            "order": null,
            "_view_module_version": "1.2.0",
            "grid_template_areas": null,
            "object_position": null,
            "object_fit": null,
            "grid_auto_columns": null,
            "margin": null,
            "display": null,
            "left": null
          }
        },
        "6d6fab0ea63848cdaf8aefc078fe97d7": {
          "model_module": "@jupyter-widgets/controls",
          "model_name": "HBoxModel",
          "model_module_version": "1.5.0",
          "state": {
            "_view_name": "HBoxView",
            "_dom_classes": [],
            "_model_name": "HBoxModel",
            "_view_module": "@jupyter-widgets/controls",
            "_model_module_version": "1.5.0",
            "_view_count": null,
            "_view_module_version": "1.5.0",
            "box_style": "",
            "layout": "IPY_MODEL_7abd25cb53064ce1806c0b5e08da3193",
            "_model_module": "@jupyter-widgets/controls",
            "children": [
              "IPY_MODEL_583775ee47ea4bdda3470f51739e4207",
              "IPY_MODEL_17554d03793e411fb8a0edbe3383aa29",
              "IPY_MODEL_6ef795f28dcc49e5bf9dbf503204562a"
            ]
          }
        },
        "7abd25cb53064ce1806c0b5e08da3193": {
          "model_module": "@jupyter-widgets/base",
          "model_name": "LayoutModel",
          "model_module_version": "1.2.0",
          "state": {
            "_view_name": "LayoutView",
            "grid_template_rows": null,
            "right": null,
            "justify_content": null,
            "_view_module": "@jupyter-widgets/base",
            "overflow": null,
            "_model_module_version": "1.2.0",
            "_view_count": null,
            "flex_flow": null,
            "width": null,
            "min_width": null,
            "border": null,
            "align_items": null,
            "bottom": null,
            "_model_module": "@jupyter-widgets/base",
            "top": null,
            "grid_column": null,
            "overflow_y": null,
            "overflow_x": null,
            "grid_auto_flow": null,
            "grid_area": null,
            "grid_template_columns": null,
            "flex": null,
            "_model_name": "LayoutModel",
            "justify_items": null,
            "grid_row": null,
            "max_height": null,
            "align_content": null,
            "visibility": null,
            "align_self": null,
            "height": null,
            "min_height": null,
            "padding": null,
            "grid_auto_rows": null,
            "grid_gap": null,
            "max_width": null,
            "order": null,
            "_view_module_version": "1.2.0",
            "grid_template_areas": null,
            "object_position": null,
            "object_fit": null,
            "grid_auto_columns": null,
            "margin": null,
            "display": null,
            "left": null
          }
        },
        "583775ee47ea4bdda3470f51739e4207": {
          "model_module": "@jupyter-widgets/controls",
          "model_name": "HTMLModel",
          "model_module_version": "1.5.0",
          "state": {
            "_view_name": "HTMLView",
            "style": "IPY_MODEL_5e1b91b0cdac44f88938fb6102917d0d",
            "_dom_classes": [],
            "description": "",
            "_model_name": "HTMLModel",
            "placeholder": "​",
            "_view_module": "@jupyter-widgets/controls",
            "_model_module_version": "1.5.0",
            "value": "2o Laço:  97%",
            "_view_count": null,
            "_view_module_version": "1.5.0",
            "description_tooltip": null,
            "_model_module": "@jupyter-widgets/controls",
            "layout": "IPY_MODEL_c39535288ac247d09b224f0e27c39a1f"
          }
        },
        "17554d03793e411fb8a0edbe3383aa29": {
          "model_module": "@jupyter-widgets/controls",
          "model_name": "FloatProgressModel",
          "model_module_version": "1.5.0",
          "state": {
            "_view_name": "ProgressView",
            "style": "IPY_MODEL_370c512d63914d5abd35ce3d00bf15ac",
            "_dom_classes": [],
            "description": "",
            "_model_name": "FloatProgressModel",
            "bar_style": "",
            "max": 100,
            "_view_module": "@jupyter-widgets/controls",
            "_model_module_version": "1.5.0",
            "value": 100,
            "_view_count": null,
            "_view_module_version": "1.5.0",
            "orientation": "horizontal",
            "min": 0,
            "description_tooltip": null,
            "_model_module": "@jupyter-widgets/controls",
            "layout": "IPY_MODEL_93013765370d4e8d8b673cfd2ed8e4b5"
          }
        },
        "6ef795f28dcc49e5bf9dbf503204562a": {
          "model_module": "@jupyter-widgets/controls",
          "model_name": "HTMLModel",
          "model_module_version": "1.5.0",
          "state": {
            "_view_name": "HTMLView",
            "style": "IPY_MODEL_3004f744dabe46fca1497d251d72f6b6",
            "_dom_classes": [],
            "description": "",
            "_model_name": "HTMLModel",
            "placeholder": "​",
            "_view_module": "@jupyter-widgets/controls",
            "_model_module_version": "1.5.0",
            "value": " 97/100 [00:02&lt;00:00, 47.73it/s]",
            "_view_count": null,
            "_view_module_version": "1.5.0",
            "description_tooltip": null,
            "_model_module": "@jupyter-widgets/controls",
            "layout": "IPY_MODEL_500485568ab24ad891ce997182b5a9af"
          }
        },
        "5e1b91b0cdac44f88938fb6102917d0d": {
          "model_module": "@jupyter-widgets/controls",
          "model_name": "DescriptionStyleModel",
          "model_module_version": "1.5.0",
          "state": {
            "_view_name": "StyleView",
            "_model_name": "DescriptionStyleModel",
            "description_width": "",
            "_view_module": "@jupyter-widgets/base",
            "_model_module_version": "1.5.0",
            "_view_count": null,
            "_view_module_version": "1.2.0",
            "_model_module": "@jupyter-widgets/controls"
          }
        },
        "c39535288ac247d09b224f0e27c39a1f": {
          "model_module": "@jupyter-widgets/base",
          "model_name": "LayoutModel",
          "model_module_version": "1.2.0",
          "state": {
            "_view_name": "LayoutView",
            "grid_template_rows": null,
            "right": null,
            "justify_content": null,
            "_view_module": "@jupyter-widgets/base",
            "overflow": null,
            "_model_module_version": "1.2.0",
            "_view_count": null,
            "flex_flow": null,
            "width": null,
            "min_width": null,
            "border": null,
            "align_items": null,
            "bottom": null,
            "_model_module": "@jupyter-widgets/base",
            "top": null,
            "grid_column": null,
            "overflow_y": null,
            "overflow_x": null,
            "grid_auto_flow": null,
            "grid_area": null,
            "grid_template_columns": null,
            "flex": null,
            "_model_name": "LayoutModel",
            "justify_items": null,
            "grid_row": null,
            "max_height": null,
            "align_content": null,
            "visibility": null,
            "align_self": null,
            "height": null,
            "min_height": null,
            "padding": null,
            "grid_auto_rows": null,
            "grid_gap": null,
            "max_width": null,
            "order": null,
            "_view_module_version": "1.2.0",
            "grid_template_areas": null,
            "object_position": null,
            "object_fit": null,
            "grid_auto_columns": null,
            "margin": null,
            "display": null,
            "left": null
          }
        },
        "370c512d63914d5abd35ce3d00bf15ac": {
          "model_module": "@jupyter-widgets/controls",
          "model_name": "ProgressStyleModel",
          "model_module_version": "1.5.0",
          "state": {
            "_view_name": "StyleView",
            "_model_name": "ProgressStyleModel",
            "description_width": "",
            "_view_module": "@jupyter-widgets/base",
            "_model_module_version": "1.5.0",
            "_view_count": null,
            "_view_module_version": "1.2.0",
            "bar_color": null,
            "_model_module": "@jupyter-widgets/controls"
          }
        },
        "93013765370d4e8d8b673cfd2ed8e4b5": {
          "model_module": "@jupyter-widgets/base",
          "model_name": "LayoutModel",
          "model_module_version": "1.2.0",
          "state": {
            "_view_name": "LayoutView",
            "grid_template_rows": null,
            "right": null,
            "justify_content": null,
            "_view_module": "@jupyter-widgets/base",
            "overflow": null,
            "_model_module_version": "1.2.0",
            "_view_count": null,
            "flex_flow": null,
            "width": null,
            "min_width": null,
            "border": null,
            "align_items": null,
            "bottom": null,
            "_model_module": "@jupyter-widgets/base",
            "top": null,
            "grid_column": null,
            "overflow_y": null,
            "overflow_x": null,
            "grid_auto_flow": null,
            "grid_area": null,
            "grid_template_columns": null,
            "flex": null,
            "_model_name": "LayoutModel",
            "justify_items": null,
            "grid_row": null,
            "max_height": null,
            "align_content": null,
            "visibility": null,
            "align_self": null,
            "height": null,
            "min_height": null,
            "padding": null,
            "grid_auto_rows": null,
            "grid_gap": null,
            "max_width": null,
            "order": null,
            "_view_module_version": "1.2.0",
            "grid_template_areas": null,
            "object_position": null,
            "object_fit": null,
            "grid_auto_columns": null,
            "margin": null,
            "display": null,
            "left": null
          }
        },
        "3004f744dabe46fca1497d251d72f6b6": {
          "model_module": "@jupyter-widgets/controls",
          "model_name": "DescriptionStyleModel",
          "model_module_version": "1.5.0",
          "state": {
            "_view_name": "StyleView",
            "_model_name": "DescriptionStyleModel",
            "description_width": "",
            "_view_module": "@jupyter-widgets/base",
            "_model_module_version": "1.5.0",
            "_view_count": null,
            "_view_module_version": "1.2.0",
            "_model_module": "@jupyter-widgets/controls"
          }
        },
        "500485568ab24ad891ce997182b5a9af": {
          "model_module": "@jupyter-widgets/base",
          "model_name": "LayoutModel",
          "model_module_version": "1.2.0",
          "state": {
            "_view_name": "LayoutView",
            "grid_template_rows": null,
            "right": null,
            "justify_content": null,
            "_view_module": "@jupyter-widgets/base",
            "overflow": null,
            "_model_module_version": "1.2.0",
            "_view_count": null,
            "flex_flow": null,
            "width": null,
            "min_width": null,
            "border": null,
            "align_items": null,
            "bottom": null,
            "_model_module": "@jupyter-widgets/base",
            "top": null,
            "grid_column": null,
            "overflow_y": null,
            "overflow_x": null,
            "grid_auto_flow": null,
            "grid_area": null,
            "grid_template_columns": null,
            "flex": null,
            "_model_name": "LayoutModel",
            "justify_items": null,
            "grid_row": null,
            "max_height": null,
            "align_content": null,
            "visibility": null,
            "align_self": null,
            "height": null,
            "min_height": null,
            "padding": null,
            "grid_auto_rows": null,
            "grid_gap": null,
            "max_width": null,
            "order": null,
            "_view_module_version": "1.2.0",
            "grid_template_areas": null,
            "object_position": null,
            "object_fit": null,
            "grid_auto_columns": null,
            "margin": null,
            "display": null,
            "left": null
          }
        },
        "5570d5d6749046aabb49657e8b76abea": {
          "model_module": "@jupyter-widgets/controls",
          "model_name": "HBoxModel",
          "model_module_version": "1.5.0",
          "state": {
            "_view_name": "HBoxView",
            "_dom_classes": [],
            "_model_name": "HBoxModel",
            "_view_module": "@jupyter-widgets/controls",
            "_model_module_version": "1.5.0",
            "_view_count": null,
            "_view_module_version": "1.5.0",
            "box_style": "",
            "layout": "IPY_MODEL_5e15562bf96847d98c338846c04f6b46",
            "_model_module": "@jupyter-widgets/controls",
            "children": [
              "IPY_MODEL_7a51ec48515248d78f73eeec0531cc47",
              "IPY_MODEL_28b7e202f1d94b73bd8c6b95ecedede3",
              "IPY_MODEL_52607afef7ad4eb8aafa4a103414dd92"
            ]
          }
        },
        "5e15562bf96847d98c338846c04f6b46": {
          "model_module": "@jupyter-widgets/base",
          "model_name": "LayoutModel",
          "model_module_version": "1.2.0",
          "state": {
            "_view_name": "LayoutView",
            "grid_template_rows": null,
            "right": null,
            "justify_content": null,
            "_view_module": "@jupyter-widgets/base",
            "overflow": null,
            "_model_module_version": "1.2.0",
            "_view_count": null,
            "flex_flow": null,
            "width": null,
            "min_width": null,
            "border": null,
            "align_items": null,
            "bottom": null,
            "_model_module": "@jupyter-widgets/base",
            "top": null,
            "grid_column": null,
            "overflow_y": null,
            "overflow_x": null,
            "grid_auto_flow": null,
            "grid_area": null,
            "grid_template_columns": null,
            "flex": null,
            "_model_name": "LayoutModel",
            "justify_items": null,
            "grid_row": null,
            "max_height": null,
            "align_content": null,
            "visibility": null,
            "align_self": null,
            "height": null,
            "min_height": null,
            "padding": null,
            "grid_auto_rows": null,
            "grid_gap": null,
            "max_width": null,
            "order": null,
            "_view_module_version": "1.2.0",
            "grid_template_areas": null,
            "object_position": null,
            "object_fit": null,
            "grid_auto_columns": null,
            "margin": null,
            "display": null,
            "left": null
          }
        },
        "7a51ec48515248d78f73eeec0531cc47": {
          "model_module": "@jupyter-widgets/controls",
          "model_name": "HTMLModel",
          "model_module_version": "1.5.0",
          "state": {
            "_view_name": "HTMLView",
            "style": "IPY_MODEL_bb642dae30d04eeca42ebb21ccbca734",
            "_dom_classes": [],
            "description": "",
            "_model_name": "HTMLModel",
            "placeholder": "​",
            "_view_module": "@jupyter-widgets/controls",
            "_model_module_version": "1.5.0",
            "value": "2o Laço:  97%",
            "_view_count": null,
            "_view_module_version": "1.5.0",
            "description_tooltip": null,
            "_model_module": "@jupyter-widgets/controls",
            "layout": "IPY_MODEL_8ea71eb239474dbf96b64ee9fc470c9d"
          }
        },
        "28b7e202f1d94b73bd8c6b95ecedede3": {
          "model_module": "@jupyter-widgets/controls",
          "model_name": "FloatProgressModel",
          "model_module_version": "1.5.0",
          "state": {
            "_view_name": "ProgressView",
            "style": "IPY_MODEL_ffb8d2276cb64cd6a80be325d5b38caf",
            "_dom_classes": [],
            "description": "",
            "_model_name": "FloatProgressModel",
            "bar_style": "",
            "max": 100,
            "_view_module": "@jupyter-widgets/controls",
            "_model_module_version": "1.5.0",
            "value": 100,
            "_view_count": null,
            "_view_module_version": "1.5.0",
            "orientation": "horizontal",
            "min": 0,
            "description_tooltip": null,
            "_model_module": "@jupyter-widgets/controls",
            "layout": "IPY_MODEL_389cf3dcc59b4015908b7183ae45261b"
          }
        },
        "52607afef7ad4eb8aafa4a103414dd92": {
          "model_module": "@jupyter-widgets/controls",
          "model_name": "HTMLModel",
          "model_module_version": "1.5.0",
          "state": {
            "_view_name": "HTMLView",
            "style": "IPY_MODEL_912bc588fae44eb9b4e20f77e170c1ca",
            "_dom_classes": [],
            "description": "",
            "_model_name": "HTMLModel",
            "placeholder": "​",
            "_view_module": "@jupyter-widgets/controls",
            "_model_module_version": "1.5.0",
            "value": " 97/100 [00:02&lt;00:00, 48.35it/s]",
            "_view_count": null,
            "_view_module_version": "1.5.0",
            "description_tooltip": null,
            "_model_module": "@jupyter-widgets/controls",
            "layout": "IPY_MODEL_d9053d26873c4f9390076151527b91e9"
          }
        },
        "bb642dae30d04eeca42ebb21ccbca734": {
          "model_module": "@jupyter-widgets/controls",
          "model_name": "DescriptionStyleModel",
          "model_module_version": "1.5.0",
          "state": {
            "_view_name": "StyleView",
            "_model_name": "DescriptionStyleModel",
            "description_width": "",
            "_view_module": "@jupyter-widgets/base",
            "_model_module_version": "1.5.0",
            "_view_count": null,
            "_view_module_version": "1.2.0",
            "_model_module": "@jupyter-widgets/controls"
          }
        },
        "8ea71eb239474dbf96b64ee9fc470c9d": {
          "model_module": "@jupyter-widgets/base",
          "model_name": "LayoutModel",
          "model_module_version": "1.2.0",
          "state": {
            "_view_name": "LayoutView",
            "grid_template_rows": null,
            "right": null,
            "justify_content": null,
            "_view_module": "@jupyter-widgets/base",
            "overflow": null,
            "_model_module_version": "1.2.0",
            "_view_count": null,
            "flex_flow": null,
            "width": null,
            "min_width": null,
            "border": null,
            "align_items": null,
            "bottom": null,
            "_model_module": "@jupyter-widgets/base",
            "top": null,
            "grid_column": null,
            "overflow_y": null,
            "overflow_x": null,
            "grid_auto_flow": null,
            "grid_area": null,
            "grid_template_columns": null,
            "flex": null,
            "_model_name": "LayoutModel",
            "justify_items": null,
            "grid_row": null,
            "max_height": null,
            "align_content": null,
            "visibility": null,
            "align_self": null,
            "height": null,
            "min_height": null,
            "padding": null,
            "grid_auto_rows": null,
            "grid_gap": null,
            "max_width": null,
            "order": null,
            "_view_module_version": "1.2.0",
            "grid_template_areas": null,
            "object_position": null,
            "object_fit": null,
            "grid_auto_columns": null,
            "margin": null,
            "display": null,
            "left": null
          }
        },
        "ffb8d2276cb64cd6a80be325d5b38caf": {
          "model_module": "@jupyter-widgets/controls",
          "model_name": "ProgressStyleModel",
          "model_module_version": "1.5.0",
          "state": {
            "_view_name": "StyleView",
            "_model_name": "ProgressStyleModel",
            "description_width": "",
            "_view_module": "@jupyter-widgets/base",
            "_model_module_version": "1.5.0",
            "_view_count": null,
            "_view_module_version": "1.2.0",
            "bar_color": null,
            "_model_module": "@jupyter-widgets/controls"
          }
        },
        "389cf3dcc59b4015908b7183ae45261b": {
          "model_module": "@jupyter-widgets/base",
          "model_name": "LayoutModel",
          "model_module_version": "1.2.0",
          "state": {
            "_view_name": "LayoutView",
            "grid_template_rows": null,
            "right": null,
            "justify_content": null,
            "_view_module": "@jupyter-widgets/base",
            "overflow": null,
            "_model_module_version": "1.2.0",
            "_view_count": null,
            "flex_flow": null,
            "width": null,
            "min_width": null,
            "border": null,
            "align_items": null,
            "bottom": null,
            "_model_module": "@jupyter-widgets/base",
            "top": null,
            "grid_column": null,
            "overflow_y": null,
            "overflow_x": null,
            "grid_auto_flow": null,
            "grid_area": null,
            "grid_template_columns": null,
            "flex": null,
            "_model_name": "LayoutModel",
            "justify_items": null,
            "grid_row": null,
            "max_height": null,
            "align_content": null,
            "visibility": null,
            "align_self": null,
            "height": null,
            "min_height": null,
            "padding": null,
            "grid_auto_rows": null,
            "grid_gap": null,
            "max_width": null,
            "order": null,
            "_view_module_version": "1.2.0",
            "grid_template_areas": null,
            "object_position": null,
            "object_fit": null,
            "grid_auto_columns": null,
            "margin": null,
            "display": null,
            "left": null
          }
        },
        "912bc588fae44eb9b4e20f77e170c1ca": {
          "model_module": "@jupyter-widgets/controls",
          "model_name": "DescriptionStyleModel",
          "model_module_version": "1.5.0",
          "state": {
            "_view_name": "StyleView",
            "_model_name": "DescriptionStyleModel",
            "description_width": "",
            "_view_module": "@jupyter-widgets/base",
            "_model_module_version": "1.5.0",
            "_view_count": null,
            "_view_module_version": "1.2.0",
            "_model_module": "@jupyter-widgets/controls"
          }
        },
        "d9053d26873c4f9390076151527b91e9": {
          "model_module": "@jupyter-widgets/base",
          "model_name": "LayoutModel",
          "model_module_version": "1.2.0",
          "state": {
            "_view_name": "LayoutView",
            "grid_template_rows": null,
            "right": null,
            "justify_content": null,
            "_view_module": "@jupyter-widgets/base",
            "overflow": null,
            "_model_module_version": "1.2.0",
            "_view_count": null,
            "flex_flow": null,
            "width": null,
            "min_width": null,
            "border": null,
            "align_items": null,
            "bottom": null,
            "_model_module": "@jupyter-widgets/base",
            "top": null,
            "grid_column": null,
            "overflow_y": null,
            "overflow_x": null,
            "grid_auto_flow": null,
            "grid_area": null,
            "grid_template_columns": null,
            "flex": null,
            "_model_name": "LayoutModel",
            "justify_items": null,
            "grid_row": null,
            "max_height": null,
            "align_content": null,
            "visibility": null,
            "align_self": null,
            "height": null,
            "min_height": null,
            "padding": null,
            "grid_auto_rows": null,
            "grid_gap": null,
            "max_width": null,
            "order": null,
            "_view_module_version": "1.2.0",
            "grid_template_areas": null,
            "object_position": null,
            "object_fit": null,
            "grid_auto_columns": null,
            "margin": null,
            "display": null,
            "left": null
          }
        },
        "e4ac5daf093947a1a0b5a1a9a3e426c3": {
          "model_module": "@jupyter-widgets/controls",
          "model_name": "HBoxModel",
          "model_module_version": "1.5.0",
          "state": {
            "_view_name": "HBoxView",
            "_dom_classes": [],
            "_model_name": "HBoxModel",
            "_view_module": "@jupyter-widgets/controls",
            "_model_module_version": "1.5.0",
            "_view_count": null,
            "_view_module_version": "1.5.0",
            "box_style": "",
            "layout": "IPY_MODEL_0e4e51fa9f78495faaedb7fb1b44e62a",
            "_model_module": "@jupyter-widgets/controls",
            "children": [
              "IPY_MODEL_8c4d69e231b1456c9193467ce5e1327c",
              "IPY_MODEL_829a8e76f2934acb85f766b51cb607fd",
              "IPY_MODEL_1cffb879293245d1ae88977340d4d73d"
            ]
          }
        },
        "0e4e51fa9f78495faaedb7fb1b44e62a": {
          "model_module": "@jupyter-widgets/base",
          "model_name": "LayoutModel",
          "model_module_version": "1.2.0",
          "state": {
            "_view_name": "LayoutView",
            "grid_template_rows": null,
            "right": null,
            "justify_content": null,
            "_view_module": "@jupyter-widgets/base",
            "overflow": null,
            "_model_module_version": "1.2.0",
            "_view_count": null,
            "flex_flow": null,
            "width": null,
            "min_width": null,
            "border": null,
            "align_items": null,
            "bottom": null,
            "_model_module": "@jupyter-widgets/base",
            "top": null,
            "grid_column": null,
            "overflow_y": null,
            "overflow_x": null,
            "grid_auto_flow": null,
            "grid_area": null,
            "grid_template_columns": null,
            "flex": null,
            "_model_name": "LayoutModel",
            "justify_items": null,
            "grid_row": null,
            "max_height": null,
            "align_content": null,
            "visibility": null,
            "align_self": null,
            "height": null,
            "min_height": null,
            "padding": null,
            "grid_auto_rows": null,
            "grid_gap": null,
            "max_width": null,
            "order": null,
            "_view_module_version": "1.2.0",
            "grid_template_areas": null,
            "object_position": null,
            "object_fit": null,
            "grid_auto_columns": null,
            "margin": null,
            "display": null,
            "left": null
          }
        },
        "8c4d69e231b1456c9193467ce5e1327c": {
          "model_module": "@jupyter-widgets/controls",
          "model_name": "HTMLModel",
          "model_module_version": "1.5.0",
          "state": {
            "_view_name": "HTMLView",
            "style": "IPY_MODEL_dc71f5e260b74aeca23175a221c6f36f",
            "_dom_classes": [],
            "description": "",
            "_model_name": "HTMLModel",
            "placeholder": "​",
            "_view_module": "@jupyter-widgets/controls",
            "_model_module_version": "1.5.0",
            "value": "2o Laço:  99%",
            "_view_count": null,
            "_view_module_version": "1.5.0",
            "description_tooltip": null,
            "_model_module": "@jupyter-widgets/controls",
            "layout": "IPY_MODEL_e6abe5f472db48b8a3f66dabded04dc3"
          }
        },
        "829a8e76f2934acb85f766b51cb607fd": {
          "model_module": "@jupyter-widgets/controls",
          "model_name": "FloatProgressModel",
          "model_module_version": "1.5.0",
          "state": {
            "_view_name": "ProgressView",
            "style": "IPY_MODEL_799af11365dd478c8b33f76b506d75d3",
            "_dom_classes": [],
            "description": "",
            "_model_name": "FloatProgressModel",
            "bar_style": "",
            "max": 100,
            "_view_module": "@jupyter-widgets/controls",
            "_model_module_version": "1.5.0",
            "value": 100,
            "_view_count": null,
            "_view_module_version": "1.5.0",
            "orientation": "horizontal",
            "min": 0,
            "description_tooltip": null,
            "_model_module": "@jupyter-widgets/controls",
            "layout": "IPY_MODEL_6656f8284f474e3eb4fb75f1668cd130"
          }
        },
        "1cffb879293245d1ae88977340d4d73d": {
          "model_module": "@jupyter-widgets/controls",
          "model_name": "HTMLModel",
          "model_module_version": "1.5.0",
          "state": {
            "_view_name": "HTMLView",
            "style": "IPY_MODEL_4bb2dccc93a54e799458b2476cb54873",
            "_dom_classes": [],
            "description": "",
            "_model_name": "HTMLModel",
            "placeholder": "​",
            "_view_module": "@jupyter-widgets/controls",
            "_model_module_version": "1.5.0",
            "value": " 99/100 [00:02&lt;00:00, 48.53it/s]",
            "_view_count": null,
            "_view_module_version": "1.5.0",
            "description_tooltip": null,
            "_model_module": "@jupyter-widgets/controls",
            "layout": "IPY_MODEL_72ac1a0db31e4ad483dc782e31182315"
          }
        },
        "dc71f5e260b74aeca23175a221c6f36f": {
          "model_module": "@jupyter-widgets/controls",
          "model_name": "DescriptionStyleModel",
          "model_module_version": "1.5.0",
          "state": {
            "_view_name": "StyleView",
            "_model_name": "DescriptionStyleModel",
            "description_width": "",
            "_view_module": "@jupyter-widgets/base",
            "_model_module_version": "1.5.0",
            "_view_count": null,
            "_view_module_version": "1.2.0",
            "_model_module": "@jupyter-widgets/controls"
          }
        },
        "e6abe5f472db48b8a3f66dabded04dc3": {
          "model_module": "@jupyter-widgets/base",
          "model_name": "LayoutModel",
          "model_module_version": "1.2.0",
          "state": {
            "_view_name": "LayoutView",
            "grid_template_rows": null,
            "right": null,
            "justify_content": null,
            "_view_module": "@jupyter-widgets/base",
            "overflow": null,
            "_model_module_version": "1.2.0",
            "_view_count": null,
            "flex_flow": null,
            "width": null,
            "min_width": null,
            "border": null,
            "align_items": null,
            "bottom": null,
            "_model_module": "@jupyter-widgets/base",
            "top": null,
            "grid_column": null,
            "overflow_y": null,
            "overflow_x": null,
            "grid_auto_flow": null,
            "grid_area": null,
            "grid_template_columns": null,
            "flex": null,
            "_model_name": "LayoutModel",
            "justify_items": null,
            "grid_row": null,
            "max_height": null,
            "align_content": null,
            "visibility": null,
            "align_self": null,
            "height": null,
            "min_height": null,
            "padding": null,
            "grid_auto_rows": null,
            "grid_gap": null,
            "max_width": null,
            "order": null,
            "_view_module_version": "1.2.0",
            "grid_template_areas": null,
            "object_position": null,
            "object_fit": null,
            "grid_auto_columns": null,
            "margin": null,
            "display": null,
            "left": null
          }
        },
        "799af11365dd478c8b33f76b506d75d3": {
          "model_module": "@jupyter-widgets/controls",
          "model_name": "ProgressStyleModel",
          "model_module_version": "1.5.0",
          "state": {
            "_view_name": "StyleView",
            "_model_name": "ProgressStyleModel",
            "description_width": "",
            "_view_module": "@jupyter-widgets/base",
            "_model_module_version": "1.5.0",
            "_view_count": null,
            "_view_module_version": "1.2.0",
            "bar_color": null,
            "_model_module": "@jupyter-widgets/controls"
          }
        },
        "6656f8284f474e3eb4fb75f1668cd130": {
          "model_module": "@jupyter-widgets/base",
          "model_name": "LayoutModel",
          "model_module_version": "1.2.0",
          "state": {
            "_view_name": "LayoutView",
            "grid_template_rows": null,
            "right": null,
            "justify_content": null,
            "_view_module": "@jupyter-widgets/base",
            "overflow": null,
            "_model_module_version": "1.2.0",
            "_view_count": null,
            "flex_flow": null,
            "width": null,
            "min_width": null,
            "border": null,
            "align_items": null,
            "bottom": null,
            "_model_module": "@jupyter-widgets/base",
            "top": null,
            "grid_column": null,
            "overflow_y": null,
            "overflow_x": null,
            "grid_auto_flow": null,
            "grid_area": null,
            "grid_template_columns": null,
            "flex": null,
            "_model_name": "LayoutModel",
            "justify_items": null,
            "grid_row": null,
            "max_height": null,
            "align_content": null,
            "visibility": null,
            "align_self": null,
            "height": null,
            "min_height": null,
            "padding": null,
            "grid_auto_rows": null,
            "grid_gap": null,
            "max_width": null,
            "order": null,
            "_view_module_version": "1.2.0",
            "grid_template_areas": null,
            "object_position": null,
            "object_fit": null,
            "grid_auto_columns": null,
            "margin": null,
            "display": null,
            "left": null
          }
        },
        "4bb2dccc93a54e799458b2476cb54873": {
          "model_module": "@jupyter-widgets/controls",
          "model_name": "DescriptionStyleModel",
          "model_module_version": "1.5.0",
          "state": {
            "_view_name": "StyleView",
            "_model_name": "DescriptionStyleModel",
            "description_width": "",
            "_view_module": "@jupyter-widgets/base",
            "_model_module_version": "1.5.0",
            "_view_count": null,
            "_view_module_version": "1.2.0",
            "_model_module": "@jupyter-widgets/controls"
          }
        },
        "72ac1a0db31e4ad483dc782e31182315": {
          "model_module": "@jupyter-widgets/base",
          "model_name": "LayoutModel",
          "model_module_version": "1.2.0",
          "state": {
            "_view_name": "LayoutView",
            "grid_template_rows": null,
            "right": null,
            "justify_content": null,
            "_view_module": "@jupyter-widgets/base",
            "overflow": null,
            "_model_module_version": "1.2.0",
            "_view_count": null,
            "flex_flow": null,
            "width": null,
            "min_width": null,
            "border": null,
            "align_items": null,
            "bottom": null,
            "_model_module": "@jupyter-widgets/base",
            "top": null,
            "grid_column": null,
            "overflow_y": null,
            "overflow_x": null,
            "grid_auto_flow": null,
            "grid_area": null,
            "grid_template_columns": null,
            "flex": null,
            "_model_name": "LayoutModel",
            "justify_items": null,
            "grid_row": null,
            "max_height": null,
            "align_content": null,
            "visibility": null,
            "align_self": null,
            "height": null,
            "min_height": null,
            "padding": null,
            "grid_auto_rows": null,
            "grid_gap": null,
            "max_width": null,
            "order": null,
            "_view_module_version": "1.2.0",
            "grid_template_areas": null,
            "object_position": null,
            "object_fit": null,
            "grid_auto_columns": null,
            "margin": null,
            "display": null,
            "left": null
          }
        },
        "ba8555da48ad40bba5bee384e8d77aa6": {
          "model_module": "@jupyter-widgets/controls",
          "model_name": "HBoxModel",
          "model_module_version": "1.5.0",
          "state": {
            "_view_name": "HBoxView",
            "_dom_classes": [],
            "_model_name": "HBoxModel",
            "_view_module": "@jupyter-widgets/controls",
            "_model_module_version": "1.5.0",
            "_view_count": null,
            "_view_module_version": "1.5.0",
            "box_style": "",
            "layout": "IPY_MODEL_0b255e68a6ed43e1b8f660ee87c37265",
            "_model_module": "@jupyter-widgets/controls",
            "children": [
              "IPY_MODEL_7ddf91c2eacb498c87327ea01ffde75f",
              "IPY_MODEL_811e7d932b30457298c644173a34f357",
              "IPY_MODEL_13501314dc8646dd83dcb66a7c9e34d6"
            ]
          }
        },
        "0b255e68a6ed43e1b8f660ee87c37265": {
          "model_module": "@jupyter-widgets/base",
          "model_name": "LayoutModel",
          "model_module_version": "1.2.0",
          "state": {
            "_view_name": "LayoutView",
            "grid_template_rows": null,
            "right": null,
            "justify_content": null,
            "_view_module": "@jupyter-widgets/base",
            "overflow": null,
            "_model_module_version": "1.2.0",
            "_view_count": null,
            "flex_flow": null,
            "width": null,
            "min_width": null,
            "border": null,
            "align_items": null,
            "bottom": null,
            "_model_module": "@jupyter-widgets/base",
            "top": null,
            "grid_column": null,
            "overflow_y": null,
            "overflow_x": null,
            "grid_auto_flow": null,
            "grid_area": null,
            "grid_template_columns": null,
            "flex": null,
            "_model_name": "LayoutModel",
            "justify_items": null,
            "grid_row": null,
            "max_height": null,
            "align_content": null,
            "visibility": null,
            "align_self": null,
            "height": null,
            "min_height": null,
            "padding": null,
            "grid_auto_rows": null,
            "grid_gap": null,
            "max_width": null,
            "order": null,
            "_view_module_version": "1.2.0",
            "grid_template_areas": null,
            "object_position": null,
            "object_fit": null,
            "grid_auto_columns": null,
            "margin": null,
            "display": null,
            "left": null
          }
        },
        "7ddf91c2eacb498c87327ea01ffde75f": {
          "model_module": "@jupyter-widgets/controls",
          "model_name": "HTMLModel",
          "model_module_version": "1.5.0",
          "state": {
            "_view_name": "HTMLView",
            "style": "IPY_MODEL_cca948241e26444c87ced596cf1c1c79",
            "_dom_classes": [],
            "description": "",
            "_model_name": "HTMLModel",
            "placeholder": "​",
            "_view_module": "@jupyter-widgets/controls",
            "_model_module_version": "1.5.0",
            "value": "2o Laço:  97%",
            "_view_count": null,
            "_view_module_version": "1.5.0",
            "description_tooltip": null,
            "_model_module": "@jupyter-widgets/controls",
            "layout": "IPY_MODEL_310048278b034d5c808a2e685826a31a"
          }
        },
        "811e7d932b30457298c644173a34f357": {
          "model_module": "@jupyter-widgets/controls",
          "model_name": "FloatProgressModel",
          "model_module_version": "1.5.0",
          "state": {
            "_view_name": "ProgressView",
            "style": "IPY_MODEL_8ced352bfe78488abd0474acf3ed9ccd",
            "_dom_classes": [],
            "description": "",
            "_model_name": "FloatProgressModel",
            "bar_style": "",
            "max": 100,
            "_view_module": "@jupyter-widgets/controls",
            "_model_module_version": "1.5.0",
            "value": 100,
            "_view_count": null,
            "_view_module_version": "1.5.0",
            "orientation": "horizontal",
            "min": 0,
            "description_tooltip": null,
            "_model_module": "@jupyter-widgets/controls",
            "layout": "IPY_MODEL_ffcbbf4e0fb0430189920c53928218dd"
          }
        },
        "13501314dc8646dd83dcb66a7c9e34d6": {
          "model_module": "@jupyter-widgets/controls",
          "model_name": "HTMLModel",
          "model_module_version": "1.5.0",
          "state": {
            "_view_name": "HTMLView",
            "style": "IPY_MODEL_fe703b8546d745afa9e352b54c750484",
            "_dom_classes": [],
            "description": "",
            "_model_name": "HTMLModel",
            "placeholder": "​",
            "_view_module": "@jupyter-widgets/controls",
            "_model_module_version": "1.5.0",
            "value": " 97/100 [00:02&lt;00:00, 48.41it/s]",
            "_view_count": null,
            "_view_module_version": "1.5.0",
            "description_tooltip": null,
            "_model_module": "@jupyter-widgets/controls",
            "layout": "IPY_MODEL_bfea9d1a3c024c76852aa2f40d37028c"
          }
        },
        "cca948241e26444c87ced596cf1c1c79": {
          "model_module": "@jupyter-widgets/controls",
          "model_name": "DescriptionStyleModel",
          "model_module_version": "1.5.0",
          "state": {
            "_view_name": "StyleView",
            "_model_name": "DescriptionStyleModel",
            "description_width": "",
            "_view_module": "@jupyter-widgets/base",
            "_model_module_version": "1.5.0",
            "_view_count": null,
            "_view_module_version": "1.2.0",
            "_model_module": "@jupyter-widgets/controls"
          }
        },
        "310048278b034d5c808a2e685826a31a": {
          "model_module": "@jupyter-widgets/base",
          "model_name": "LayoutModel",
          "model_module_version": "1.2.0",
          "state": {
            "_view_name": "LayoutView",
            "grid_template_rows": null,
            "right": null,
            "justify_content": null,
            "_view_module": "@jupyter-widgets/base",
            "overflow": null,
            "_model_module_version": "1.2.0",
            "_view_count": null,
            "flex_flow": null,
            "width": null,
            "min_width": null,
            "border": null,
            "align_items": null,
            "bottom": null,
            "_model_module": "@jupyter-widgets/base",
            "top": null,
            "grid_column": null,
            "overflow_y": null,
            "overflow_x": null,
            "grid_auto_flow": null,
            "grid_area": null,
            "grid_template_columns": null,
            "flex": null,
            "_model_name": "LayoutModel",
            "justify_items": null,
            "grid_row": null,
            "max_height": null,
            "align_content": null,
            "visibility": null,
            "align_self": null,
            "height": null,
            "min_height": null,
            "padding": null,
            "grid_auto_rows": null,
            "grid_gap": null,
            "max_width": null,
            "order": null,
            "_view_module_version": "1.2.0",
            "grid_template_areas": null,
            "object_position": null,
            "object_fit": null,
            "grid_auto_columns": null,
            "margin": null,
            "display": null,
            "left": null
          }
        },
        "8ced352bfe78488abd0474acf3ed9ccd": {
          "model_module": "@jupyter-widgets/controls",
          "model_name": "ProgressStyleModel",
          "model_module_version": "1.5.0",
          "state": {
            "_view_name": "StyleView",
            "_model_name": "ProgressStyleModel",
            "description_width": "",
            "_view_module": "@jupyter-widgets/base",
            "_model_module_version": "1.5.0",
            "_view_count": null,
            "_view_module_version": "1.2.0",
            "bar_color": null,
            "_model_module": "@jupyter-widgets/controls"
          }
        },
        "ffcbbf4e0fb0430189920c53928218dd": {
          "model_module": "@jupyter-widgets/base",
          "model_name": "LayoutModel",
          "model_module_version": "1.2.0",
          "state": {
            "_view_name": "LayoutView",
            "grid_template_rows": null,
            "right": null,
            "justify_content": null,
            "_view_module": "@jupyter-widgets/base",
            "overflow": null,
            "_model_module_version": "1.2.0",
            "_view_count": null,
            "flex_flow": null,
            "width": null,
            "min_width": null,
            "border": null,
            "align_items": null,
            "bottom": null,
            "_model_module": "@jupyter-widgets/base",
            "top": null,
            "grid_column": null,
            "overflow_y": null,
            "overflow_x": null,
            "grid_auto_flow": null,
            "grid_area": null,
            "grid_template_columns": null,
            "flex": null,
            "_model_name": "LayoutModel",
            "justify_items": null,
            "grid_row": null,
            "max_height": null,
            "align_content": null,
            "visibility": null,
            "align_self": null,
            "height": null,
            "min_height": null,
            "padding": null,
            "grid_auto_rows": null,
            "grid_gap": null,
            "max_width": null,
            "order": null,
            "_view_module_version": "1.2.0",
            "grid_template_areas": null,
            "object_position": null,
            "object_fit": null,
            "grid_auto_columns": null,
            "margin": null,
            "display": null,
            "left": null
          }
        },
        "fe703b8546d745afa9e352b54c750484": {
          "model_module": "@jupyter-widgets/controls",
          "model_name": "DescriptionStyleModel",
          "model_module_version": "1.5.0",
          "state": {
            "_view_name": "StyleView",
            "_model_name": "DescriptionStyleModel",
            "description_width": "",
            "_view_module": "@jupyter-widgets/base",
            "_model_module_version": "1.5.0",
            "_view_count": null,
            "_view_module_version": "1.2.0",
            "_model_module": "@jupyter-widgets/controls"
          }
        },
        "bfea9d1a3c024c76852aa2f40d37028c": {
          "model_module": "@jupyter-widgets/base",
          "model_name": "LayoutModel",
          "model_module_version": "1.2.0",
          "state": {
            "_view_name": "LayoutView",
            "grid_template_rows": null,
            "right": null,
            "justify_content": null,
            "_view_module": "@jupyter-widgets/base",
            "overflow": null,
            "_model_module_version": "1.2.0",
            "_view_count": null,
            "flex_flow": null,
            "width": null,
            "min_width": null,
            "border": null,
            "align_items": null,
            "bottom": null,
            "_model_module": "@jupyter-widgets/base",
            "top": null,
            "grid_column": null,
            "overflow_y": null,
            "overflow_x": null,
            "grid_auto_flow": null,
            "grid_area": null,
            "grid_template_columns": null,
            "flex": null,
            "_model_name": "LayoutModel",
            "justify_items": null,
            "grid_row": null,
            "max_height": null,
            "align_content": null,
            "visibility": null,
            "align_self": null,
            "height": null,
            "min_height": null,
            "padding": null,
            "grid_auto_rows": null,
            "grid_gap": null,
            "max_width": null,
            "order": null,
            "_view_module_version": "1.2.0",
            "grid_template_areas": null,
            "object_position": null,
            "object_fit": null,
            "grid_auto_columns": null,
            "margin": null,
            "display": null,
            "left": null
          }
        },
        "0c8817df99714265b74e7758be449505": {
          "model_module": "@jupyter-widgets/controls",
          "model_name": "HBoxModel",
          "model_module_version": "1.5.0",
          "state": {
            "_view_name": "HBoxView",
            "_dom_classes": [],
            "_model_name": "HBoxModel",
            "_view_module": "@jupyter-widgets/controls",
            "_model_module_version": "1.5.0",
            "_view_count": null,
            "_view_module_version": "1.5.0",
            "box_style": "",
            "layout": "IPY_MODEL_8e78f2cc164a4850a1fce164378fc54d",
            "_model_module": "@jupyter-widgets/controls",
            "children": [
              "IPY_MODEL_7ac16882c36840eaba7ae75582efbd76",
              "IPY_MODEL_5a3b48bf570d416499e766704bcd5320",
              "IPY_MODEL_5dd6ab50303f46d3b88ef9a47ff385b8"
            ]
          }
        },
        "8e78f2cc164a4850a1fce164378fc54d": {
          "model_module": "@jupyter-widgets/base",
          "model_name": "LayoutModel",
          "model_module_version": "1.2.0",
          "state": {
            "_view_name": "LayoutView",
            "grid_template_rows": null,
            "right": null,
            "justify_content": null,
            "_view_module": "@jupyter-widgets/base",
            "overflow": null,
            "_model_module_version": "1.2.0",
            "_view_count": null,
            "flex_flow": null,
            "width": null,
            "min_width": null,
            "border": null,
            "align_items": null,
            "bottom": null,
            "_model_module": "@jupyter-widgets/base",
            "top": null,
            "grid_column": null,
            "overflow_y": null,
            "overflow_x": null,
            "grid_auto_flow": null,
            "grid_area": null,
            "grid_template_columns": null,
            "flex": null,
            "_model_name": "LayoutModel",
            "justify_items": null,
            "grid_row": null,
            "max_height": null,
            "align_content": null,
            "visibility": null,
            "align_self": null,
            "height": null,
            "min_height": null,
            "padding": null,
            "grid_auto_rows": null,
            "grid_gap": null,
            "max_width": null,
            "order": null,
            "_view_module_version": "1.2.0",
            "grid_template_areas": null,
            "object_position": null,
            "object_fit": null,
            "grid_auto_columns": null,
            "margin": null,
            "display": null,
            "left": null
          }
        },
        "7ac16882c36840eaba7ae75582efbd76": {
          "model_module": "@jupyter-widgets/controls",
          "model_name": "HTMLModel",
          "model_module_version": "1.5.0",
          "state": {
            "_view_name": "HTMLView",
            "style": "IPY_MODEL_6f7bc980daef4a84b6b23f78ba918b31",
            "_dom_classes": [],
            "description": "",
            "_model_name": "HTMLModel",
            "placeholder": "​",
            "_view_module": "@jupyter-widgets/controls",
            "_model_module_version": "1.5.0",
            "value": "Clientes: 100%",
            "_view_count": null,
            "_view_module_version": "1.5.0",
            "description_tooltip": null,
            "_model_module": "@jupyter-widgets/controls",
            "layout": "IPY_MODEL_33c8b0a4176544d19877da4d2d9366a1"
          }
        },
        "5a3b48bf570d416499e766704bcd5320": {
          "model_module": "@jupyter-widgets/controls",
          "model_name": "FloatProgressModel",
          "model_module_version": "1.5.0",
          "state": {
            "_view_name": "ProgressView",
            "style": "IPY_MODEL_61f024d2bbfd48cfb68e1301ebf29e08",
            "_dom_classes": [],
            "description": "",
            "_model_name": "FloatProgressModel",
            "bar_style": "success",
            "max": 5,
            "_view_module": "@jupyter-widgets/controls",
            "_model_module_version": "1.5.0",
            "value": 5,
            "_view_count": null,
            "_view_module_version": "1.5.0",
            "orientation": "horizontal",
            "min": 0,
            "description_tooltip": null,
            "_model_module": "@jupyter-widgets/controls",
            "layout": "IPY_MODEL_546be423bd3d47c4a323806db855cdf9"
          }
        },
        "5dd6ab50303f46d3b88ef9a47ff385b8": {
          "model_module": "@jupyter-widgets/controls",
          "model_name": "HTMLModel",
          "model_module_version": "1.5.0",
          "state": {
            "_view_name": "HTMLView",
            "style": "IPY_MODEL_ac6fd27cf2e1413abd4399efbbfa97d3",
            "_dom_classes": [],
            "description": "",
            "_model_name": "HTMLModel",
            "placeholder": "​",
            "_view_module": "@jupyter-widgets/controls",
            "_model_module_version": "1.5.0",
            "value": " 5/5 [00:05&lt;00:00,  1.01s/cliente]",
            "_view_count": null,
            "_view_module_version": "1.5.0",
            "description_tooltip": null,
            "_model_module": "@jupyter-widgets/controls",
            "layout": "IPY_MODEL_92294daa605a4da2aff9c45697f4cd9c"
          }
        },
        "6f7bc980daef4a84b6b23f78ba918b31": {
          "model_module": "@jupyter-widgets/controls",
          "model_name": "DescriptionStyleModel",
          "model_module_version": "1.5.0",
          "state": {
            "_view_name": "StyleView",
            "_model_name": "DescriptionStyleModel",
            "description_width": "",
            "_view_module": "@jupyter-widgets/base",
            "_model_module_version": "1.5.0",
            "_view_count": null,
            "_view_module_version": "1.2.0",
            "_model_module": "@jupyter-widgets/controls"
          }
        },
        "33c8b0a4176544d19877da4d2d9366a1": {
          "model_module": "@jupyter-widgets/base",
          "model_name": "LayoutModel",
          "model_module_version": "1.2.0",
          "state": {
            "_view_name": "LayoutView",
            "grid_template_rows": null,
            "right": null,
            "justify_content": null,
            "_view_module": "@jupyter-widgets/base",
            "overflow": null,
            "_model_module_version": "1.2.0",
            "_view_count": null,
            "flex_flow": null,
            "width": null,
            "min_width": null,
            "border": null,
            "align_items": null,
            "bottom": null,
            "_model_module": "@jupyter-widgets/base",
            "top": null,
            "grid_column": null,
            "overflow_y": null,
            "overflow_x": null,
            "grid_auto_flow": null,
            "grid_area": null,
            "grid_template_columns": null,
            "flex": null,
            "_model_name": "LayoutModel",
            "justify_items": null,
            "grid_row": null,
            "max_height": null,
            "align_content": null,
            "visibility": null,
            "align_self": null,
            "height": null,
            "min_height": null,
            "padding": null,
            "grid_auto_rows": null,
            "grid_gap": null,
            "max_width": null,
            "order": null,
            "_view_module_version": "1.2.0",
            "grid_template_areas": null,
            "object_position": null,
            "object_fit": null,
            "grid_auto_columns": null,
            "margin": null,
            "display": null,
            "left": null
          }
        },
        "61f024d2bbfd48cfb68e1301ebf29e08": {
          "model_module": "@jupyter-widgets/controls",
          "model_name": "ProgressStyleModel",
          "model_module_version": "1.5.0",
          "state": {
            "_view_name": "StyleView",
            "_model_name": "ProgressStyleModel",
            "description_width": "",
            "_view_module": "@jupyter-widgets/base",
            "_model_module_version": "1.5.0",
            "_view_count": null,
            "_view_module_version": "1.2.0",
            "bar_color": null,
            "_model_module": "@jupyter-widgets/controls"
          }
        },
        "546be423bd3d47c4a323806db855cdf9": {
          "model_module": "@jupyter-widgets/base",
          "model_name": "LayoutModel",
          "model_module_version": "1.2.0",
          "state": {
            "_view_name": "LayoutView",
            "grid_template_rows": null,
            "right": null,
            "justify_content": null,
            "_view_module": "@jupyter-widgets/base",
            "overflow": null,
            "_model_module_version": "1.2.0",
            "_view_count": null,
            "flex_flow": null,
            "width": null,
            "min_width": null,
            "border": null,
            "align_items": null,
            "bottom": null,
            "_model_module": "@jupyter-widgets/base",
            "top": null,
            "grid_column": null,
            "overflow_y": null,
            "overflow_x": null,
            "grid_auto_flow": null,
            "grid_area": null,
            "grid_template_columns": null,
            "flex": null,
            "_model_name": "LayoutModel",
            "justify_items": null,
            "grid_row": null,
            "max_height": null,
            "align_content": null,
            "visibility": null,
            "align_self": null,
            "height": null,
            "min_height": null,
            "padding": null,
            "grid_auto_rows": null,
            "grid_gap": null,
            "max_width": null,
            "order": null,
            "_view_module_version": "1.2.0",
            "grid_template_areas": null,
            "object_position": null,
            "object_fit": null,
            "grid_auto_columns": null,
            "margin": null,
            "display": null,
            "left": null
          }
        },
        "ac6fd27cf2e1413abd4399efbbfa97d3": {
          "model_module": "@jupyter-widgets/controls",
          "model_name": "DescriptionStyleModel",
          "model_module_version": "1.5.0",
          "state": {
            "_view_name": "StyleView",
            "_model_name": "DescriptionStyleModel",
            "description_width": "",
            "_view_module": "@jupyter-widgets/base",
            "_model_module_version": "1.5.0",
            "_view_count": null,
            "_view_module_version": "1.2.0",
            "_model_module": "@jupyter-widgets/controls"
          }
        },
        "92294daa605a4da2aff9c45697f4cd9c": {
          "model_module": "@jupyter-widgets/base",
          "model_name": "LayoutModel",
          "model_module_version": "1.2.0",
          "state": {
            "_view_name": "LayoutView",
            "grid_template_rows": null,
            "right": null,
            "justify_content": null,
            "_view_module": "@jupyter-widgets/base",
            "overflow": null,
            "_model_module_version": "1.2.0",
            "_view_count": null,
            "flex_flow": null,
            "width": null,
            "min_width": null,
            "border": null,
            "align_items": null,
            "bottom": null,
            "_model_module": "@jupyter-widgets/base",
            "top": null,
            "grid_column": null,
            "overflow_y": null,
            "overflow_x": null,
            "grid_auto_flow": null,
            "grid_area": null,
            "grid_template_columns": null,
            "flex": null,
            "_model_name": "LayoutModel",
            "justify_items": null,
            "grid_row": null,
            "max_height": null,
            "align_content": null,
            "visibility": null,
            "align_self": null,
            "height": null,
            "min_height": null,
            "padding": null,
            "grid_auto_rows": null,
            "grid_gap": null,
            "max_width": null,
            "order": null,
            "_view_module_version": "1.2.0",
            "grid_template_areas": null,
            "object_position": null,
            "object_fit": null,
            "grid_auto_columns": null,
            "margin": null,
            "display": null,
            "left": null
          }
        }
      }
    }
  },
  "cells": [
    {
      "cell_type": "markdown",
      "metadata": {
        "id": "view-in-github",
        "colab_type": "text"
      },
      "source": [
        "<a href=\"https://colab.research.google.com/github/osmarbraz/exemplos_python/blob/master/ExemplosPython.ipynb\" target=\"_parent\"><img src=\"https://colab.research.google.com/assets/colab-badge.svg\" alt=\"Open In Colab\"/></a>"
      ]
    },
    {
      "cell_type": "markdown",
      "metadata": {
        "id": "xY84ChCNzmQQ"
      },
      "source": [
        "# Exemplos Python no Google Colaboratory"
      ]
    },
    {
      "cell_type": "markdown",
      "metadata": {
        "id": "KoMscP0Jo5rw"
      },
      "source": [
        "Exemplos básicos em python:\n",
        "- Tipos primitivos;\n",
        "- Operadores;\n",
        "- Funções Matemáticas;\n",
        "- Saída de dados\n",
        "- Estruturas condicionais;\n",
        "- Estruturas de repetição;\n",
        "- Tratamento de mensagens;\n",
        "- Comandos Bash;\n",
        "- Tradução de textos;\n",
        "- Remoção de Tags HTML;\n",
        "- Funções;\n",
        "- Aritmética binária;\n",
        "- Mensagem e barra de progresso;\n",
        "- Funções de tempo;\n",
        "- Roleta;\n",
        "- Versão Python;\n",
        "- Previnir desconexão sessão;\n",
        "-----------------------------------------\n",
        "**Guia Colab Iniciante:**\n",
        "\n",
        "https://medium.com/machina-sapiens/google-colab-guia-do-iniciante-334d70aad531\n",
        "\n",
        "**Documentação oficial:**\n",
        "\n",
        "https://colab.research.google.com/github/jakevdp/PythonDataScienceHandbook/blob/master/notebooks/01.01-Help-And-Documentation.ipynb\n",
        "\n",
        "**Características :**\n",
        "\n",
        "https://colab.research.google.com/notebooks/basic_features_overview.ipynb\n"
      ]
    },
    {
      "cell_type": "markdown",
      "metadata": {
        "id": "IAQcH7kh3cmD"
      },
      "source": [
        "# Tipos primitivos"
      ]
    },
    {
      "cell_type": "markdown",
      "metadata": {
        "id": "eK55gNwoRrBC"
      },
      "source": [
        "##Tipos de dados\n",
        "Existem 4 tipos numéricos:\n",
        "*  inteiro (int)\n",
        "*  ponto flutuante (float)\n",
        "*  booleano (bool)\n",
        "*  complexo (complex)"
      ]
    },
    {
      "cell_type": "code",
      "metadata": {
        "colab": {
          "base_uri": "https://localhost:8080/"
        },
        "id": "v8W6YPbURtbx",
        "outputId": "7a89f90e-3022-4a52-ed51-f21549c1e44f"
      },
      "source": [
        "# Inteiros\n",
        "inteiro = 28\n",
        "print(inteiro)\n",
        "\n",
        "# type mostra o tipo de uma variável\n",
        "print(type(inteiro))\n",
        "\n",
        "# Ponto flutuante\n",
        "real = 3.1415\n",
        "print(real)\n",
        "\n",
        "#type mostra o tipo de uma variável\n",
        "print(type(real))\n",
        "\n",
        "# String\n",
        "nome = 'Pedro'\n",
        "print(nome)\n",
        "# type mostra o tipo de uma variável\n",
        "print(type(nome))\n",
        "\n",
        "# Boolean\n",
        "chave = True\n",
        "print(chave)\n",
        "\n",
        "# type mostra o tipo de uma variável\n",
        "print(type(chave))\n",
        "\n",
        "# Complexo\n",
        "complexo = 4+3j\n",
        "print(complexo)\n",
        "\n",
        "# type mostra o tipo de uma variável\n",
        "print(type(complexo))\n"
      ],
      "execution_count": 1,
      "outputs": [
        {
          "output_type": "stream",
          "name": "stdout",
          "text": [
            "28\n",
            "<class 'int'>\n",
            "3.1415\n",
            "<class 'float'>\n",
            "Pedro\n",
            "<class 'str'>\n",
            "True\n",
            "<class 'bool'>\n",
            "(4+3j)\n",
            "<class 'complex'>\n"
          ]
        }
      ]
    },
    {
      "cell_type": "markdown",
      "metadata": {
        "id": "FFyCLoRDNBN5"
      },
      "source": [
        "## Conversão de Tipo\n",
        "\n",
        "https://www.digitalocean.com/community/tutorials/how-to-convert-data-types-in-python-3"
      ]
    },
    {
      "cell_type": "markdown",
      "metadata": {
        "id": "nk3O9-gbUFrk"
      },
      "source": [
        "int para float"
      ]
    },
    {
      "cell_type": "code",
      "metadata": {
        "colab": {
          "base_uri": "https://localhost:8080/"
        },
        "id": "o-PkSCYkUFBz",
        "outputId": "2958beb9-ec87-400e-d0c5-d7e415636e47"
      },
      "source": [
        "numero = 10\n",
        "\n",
        "real = float(numero)\n",
        "\n",
        "print(real)"
      ],
      "execution_count": 2,
      "outputs": [
        {
          "output_type": "stream",
          "name": "stdout",
          "text": [
            "10.0\n"
          ]
        }
      ]
    },
    {
      "cell_type": "markdown",
      "metadata": {
        "id": "Ea3JlQiPUTn1"
      },
      "source": [
        "float para int"
      ]
    },
    {
      "cell_type": "code",
      "metadata": {
        "colab": {
          "base_uri": "https://localhost:8080/"
        },
        "id": "c0gIL7FRUTn3",
        "outputId": "e21ae518-f4ff-4351-b03b-10ec8b1d8e38"
      },
      "source": [
        "real = 10.0\n",
        "\n",
        "numero = int(real)\n",
        "\n",
        "print(numero)"
      ],
      "execution_count": 3,
      "outputs": [
        {
          "output_type": "stream",
          "name": "stdout",
          "text": [
            "10\n"
          ]
        }
      ]
    },
    {
      "cell_type": "markdown",
      "metadata": {
        "id": "-0dKcWaLNTaU"
      },
      "source": [
        "int para string"
      ]
    },
    {
      "cell_type": "code",
      "metadata": {
        "colab": {
          "base_uri": "https://localhost:8080/",
          "height": 35
        },
        "id": "FTiM5w34ND_Q",
        "outputId": "7f408cb3-0632-4bad-fb62-e910a2580a6c"
      },
      "source": [
        "numero = 123\n",
        "\n",
        "literal = str(numero)\n",
        "\n",
        "literal"
      ],
      "execution_count": 4,
      "outputs": [
        {
          "output_type": "execute_result",
          "data": {
            "application/vnd.google.colaboratory.intrinsic+json": {
              "type": "string"
            },
            "text/plain": [
              "'123'"
            ]
          },
          "metadata": {},
          "execution_count": 4
        }
      ]
    },
    {
      "cell_type": "markdown",
      "metadata": {
        "id": "aOktXtrdNWNP"
      },
      "source": [
        "Concatenando int com string"
      ]
    },
    {
      "cell_type": "code",
      "metadata": {
        "colab": {
          "base_uri": "https://localhost:8080/"
        },
        "id": "e4NyCSIFNYwq",
        "outputId": "bf5e2fe8-5efb-4e60-867e-f1d54a8baeff"
      },
      "source": [
        "numero = 123\n",
        "\n",
        "literal = \"O numero é \" + str(numero)\n",
        "\n",
        "print(literal)"
      ],
      "execution_count": 5,
      "outputs": [
        {
          "output_type": "stream",
          "name": "stdout",
          "text": [
            "O numero é 123\n"
          ]
        }
      ]
    },
    {
      "cell_type": "markdown",
      "metadata": {
        "id": "5TJ0WelPTCOL"
      },
      "source": [
        "## Tipo Nulo / None"
      ]
    },
    {
      "cell_type": "code",
      "metadata": {
        "colab": {
          "base_uri": "https://localhost:8080/"
        },
        "id": "bkE00XeuTDpl",
        "outputId": "f1eea112-8937-4634-d9e9-33e6d8e0d077"
      },
      "source": [
        "# Valor vazio ou dado do tipo nulo\n",
        "vazio = None\n",
        "print(vazio)\n",
        "\n",
        "# type mostra o tipo de uma variável\n",
        "print(type(vazio))"
      ],
      "execution_count": 6,
      "outputs": [
        {
          "output_type": "stream",
          "name": "stdout",
          "text": [
            "None\n",
            "<class 'NoneType'>\n"
          ]
        }
      ]
    },
    {
      "cell_type": "markdown",
      "metadata": {
        "id": "Ai4yFTXqdcuw"
      },
      "source": [
        "##String"
      ]
    },
    {
      "cell_type": "markdown",
      "metadata": {
        "id": "AnFhd5MFcSZ3"
      },
      "source": [
        "### Exemplo 1 - Existência substring\n",
        "\n",
        "Verifica se uma substring existe em string"
      ]
    },
    {
      "cell_type": "code",
      "metadata": {
        "colab": {
          "base_uri": "https://localhost:8080/"
        },
        "id": "psZTKUS5cWZG",
        "outputId": "ddbbe6c6-fe3a-4d00-dfa4-16a3a97740a7"
      },
      "source": [
        "frase = \"bom dia!\"\n",
        "\n",
        "if \"dia\" in frase:\n",
        "    print(\"dia existe em frase\")\n",
        "else:\n",
        "   print(\"dia não existe em frase\")"
      ],
      "execution_count": 7,
      "outputs": [
        {
          "output_type": "stream",
          "name": "stdout",
          "text": [
            "dia existe em frase\n"
          ]
        }
      ]
    },
    {
      "cell_type": "markdown",
      "metadata": {
        "id": "m47Uq0H0j7mZ"
      },
      "source": [
        "### Exemplo 2 - Posição substring\n",
        "\n",
        "Retorna a posição onde se encontra a substring"
      ]
    },
    {
      "cell_type": "code",
      "metadata": {
        "colab": {
          "base_uri": "https://localhost:8080/"
        },
        "id": "0Mtd1neJj90X",
        "outputId": "d09effd1-d5a9-4282-82f9-f8217d957994"
      },
      "source": [
        "frase = \"bom dia!\"\n",
        "\n",
        "x = frase.find(\"dia\")\n",
        "\n",
        "print(x)"
      ],
      "execution_count": 8,
      "outputs": [
        {
          "output_type": "stream",
          "name": "stdout",
          "text": [
            "4\n"
          ]
        }
      ]
    },
    {
      "cell_type": "markdown",
      "metadata": {
        "id": "3EK92Ex6eACY"
      },
      "source": [
        "### Exemplo 3 - Uso trim(strip, lstrip, rstrip)"
      ]
    },
    {
      "cell_type": "code",
      "metadata": {
        "colab": {
          "base_uri": "https://localhost:8080/"
        },
        "id": "DAagAUYveEMY",
        "outputId": "23976b03-fb17-466a-af03-eacae83bee83"
      },
      "source": [
        "frase = '  bom dia !  '\n",
        "\n",
        "# Saída dos dados\n",
        "print('frase =' + '\\'' + frase + '\\'')\n",
        "print('Após remover espacos a esquerda = \\'' + frase.lstrip() + '\\'')\n",
        "print('Após remover espaços a direita  = \\'' + frase.rstrip() +'\\'')\n",
        "print('Após trim esquerda e direita    = \\'' + frase.strip() +'\\'')"
      ],
      "execution_count": 9,
      "outputs": [
        {
          "output_type": "stream",
          "name": "stdout",
          "text": [
            "frase ='  bom dia !  '\n",
            "Após remover espacos a esquerda = 'bom dia !  '\n",
            "Após remover espaços a direita  = '  bom dia !'\n",
            "Após trim esquerda e direita    = 'bom dia !'\n"
          ]
        }
      ]
    },
    {
      "cell_type": "markdown",
      "metadata": {
        "id": "D6JE_nHvYEZ7"
      },
      "source": [
        "### Exemplo 4 - Testa string vazia ou nula"
      ]
    },
    {
      "cell_type": "code",
      "metadata": {
        "colab": {
          "base_uri": "https://localhost:8080/"
        },
        "id": "1Qrh3kMEYI7v",
        "outputId": "06fb6bfe-e897-4e09-816d-094e89e6412b"
      },
      "source": [
        "palavra = ''\n",
        "\n",
        "# Forma 1\n",
        "if not palavra.strip():\n",
        "  print ('string nula!')\n",
        "else:\n",
        "  print ('string não nula!')\n",
        "\n",
        "# Forma 2\n",
        "if not palavra:\n",
        "   print ('string nula!')\n",
        "else:\n",
        "   print ('string não nula!')\n",
        "\n",
        "# Forma 3\n",
        "if len(palavra)==0:\n",
        "   print ('string nula!')\n",
        "else:\n",
        "   print ('string não nula!')\n",
        "\n",
        "# Forma 4\n",
        "if palavra == '':\n",
        "   print ('string nula!')\n",
        "else:\n",
        "   print ('string não nula!')"
      ],
      "execution_count": 10,
      "outputs": [
        {
          "output_type": "stream",
          "name": "stdout",
          "text": [
            "string nula!\n",
            "string nula!\n",
            "string nula!\n",
            "string nula!\n"
          ]
        }
      ]
    },
    {
      "cell_type": "markdown",
      "metadata": {
        "id": "UvTP_bMqbHRH"
      },
      "source": [
        "### Exemplo 5 - Remove caracter de String"
      ]
    },
    {
      "cell_type": "code",
      "metadata": {
        "colab": {
          "base_uri": "https://localhost:8080/"
        },
        "id": "hFMyz2SqbLNs",
        "outputId": "13d6614e-b2c1-4109-e71e-5d4fcde4a90f"
      },
      "source": [
        "palavra = '  bom     dia !   '\n",
        "\n",
        "print('\\'' + palavra.replace('  ', '') + '\\'')"
      ],
      "execution_count": 11,
      "outputs": [
        {
          "output_type": "stream",
          "name": "stdout",
          "text": [
            "'bom dia ! '\n"
          ]
        }
      ]
    },
    {
      "cell_type": "markdown",
      "metadata": {
        "id": "ORROZhyO7WaB"
      },
      "source": [
        "### Exemplo 6 - Remove '\\n' de String"
      ]
    },
    {
      "cell_type": "code",
      "metadata": {
        "colab": {
          "base_uri": "https://localhost:8080/"
        },
        "id": "wLQA9tha7ZXb",
        "outputId": "7f26e170-7da9-4729-f318-33b2b2a49266"
      },
      "source": [
        "palavra = 'bom\\n'\n",
        "\n",
        "print(palavra)\n",
        "print(len(palavra))\n",
        "\n",
        "palavra = palavra.rstrip(\"\\n\")\n",
        "\n",
        "print(palavra)\n",
        "print(len(palavra))"
      ],
      "execution_count": 12,
      "outputs": [
        {
          "output_type": "stream",
          "name": "stdout",
          "text": [
            "bom\n",
            "\n",
            "4\n",
            "bom\n",
            "3\n"
          ]
        }
      ]
    },
    {
      "cell_type": "markdown",
      "metadata": {
        "id": "1QWOvA-w_liD"
      },
      "source": [
        "### Exemplo 7 - contar letra de *String*"
      ]
    },
    {
      "cell_type": "code",
      "metadata": {
        "colab": {
          "base_uri": "https://localhost:8080/"
        },
        "id": "vWo1ogQx_l76",
        "outputId": "00a4b27e-8c46-460a-eefd-21a0f1d6f4f7"
      },
      "source": [
        "palavra = 'casa'\n",
        "print(palavra)\n",
        "\n",
        "qtde = palavra.count('a')\n",
        "\n",
        "# Saída dos dados\n",
        "print(qtde)"
      ],
      "execution_count": 13,
      "outputs": [
        {
          "output_type": "stream",
          "name": "stdout",
          "text": [
            "casa\n",
            "2\n"
          ]
        }
      ]
    },
    {
      "cell_type": "markdown",
      "metadata": {
        "id": "evOpb10jE9yE"
      },
      "source": [
        "### Exemplo 8 - Remove vários espaços em branco e substitui por somente um.\n",
        "\n",
        "Utiliza expressões regulares."
      ]
    },
    {
      "cell_type": "code",
      "metadata": {
        "colab": {
          "base_uri": "https://localhost:8080/"
        },
        "id": "xCbbljKzE9yK",
        "outputId": "d7382509-c5cf-4fb3-cab2-c220b2672459"
      },
      "source": [
        "# Biblioteca para expressões regulares\n",
        "import re\n",
        "\n",
        "frase1 = 'O    dia   está     bonito.'\n",
        "print(frase1)\n",
        "\n",
        "frase2  = re.sub(\"\\s+\", \" \", frase1)\n",
        "\n",
        "# Saída dos dados\n",
        "print(frase2)"
      ],
      "execution_count": 14,
      "outputs": [
        {
          "output_type": "stream",
          "name": "stdout",
          "text": [
            "O    dia   está     bonito.\n",
            "O dia está bonito.\n"
          ]
        }
      ]
    },
    {
      "cell_type": "markdown",
      "metadata": {
        "id": "FqgMjhMhnjdA"
      },
      "source": [
        "### Exemplo 9 - Encontra a quantidade de palavras da frase"
      ]
    },
    {
      "cell_type": "code",
      "metadata": {
        "colab": {
          "base_uri": "https://localhost:8080/"
        },
        "id": "mZDgvqfwnkI5",
        "outputId": "be089266-9715-4284-bb8b-d049237145b0"
      },
      "source": [
        "# Frases de exemplo\n",
        "frase = 'O céu está azul.'\n",
        "\n",
        "# Mostra a frase\n",
        "print(frase)\n",
        "\n",
        "# split() cria uma lista das palavras das frase\n",
        "print(frase.split())\n",
        "\n",
        "# Retorna o tamanho da lista de palavras da frase\n",
        "qtde = len(frase.split())\n",
        "\n",
        "# Mostra a quantidade\n",
        "print(\"Quantidade de palavas:\", qtde)"
      ],
      "execution_count": 15,
      "outputs": [
        {
          "output_type": "stream",
          "name": "stdout",
          "text": [
            "O céu está azul.\n",
            "['O', 'céu', 'está', 'azul.']\n",
            "Quantidade de palavas: 4\n"
          ]
        }
      ]
    },
    {
      "cell_type": "markdown",
      "metadata": {
        "id": "8DGKJ0Og7_j6"
      },
      "source": [
        "### Exemplo 19 - Encontra a quantidade de palavras da maior frase"
      ]
    },
    {
      "cell_type": "code",
      "metadata": {
        "colab": {
          "base_uri": "https://localhost:8080/"
        },
        "id": "DWE3sgG178Nt",
        "outputId": "25ae6cf0-75d6-4e2d-e4f9-fa25272c4dee"
      },
      "source": [
        "# Frases de exemplo\n",
        "frases = ['O gato no tapete.', 'O cachorro comeu minha tarefa.']\n",
        "\n",
        "# Procura a frase com o maior número de palavras\n",
        "maior_frase = len(max(frases, key=lambda k: len(k.split())).split())\n",
        "\n",
        "# Mostra a quantidade\n",
        "print(\"Tamanho maior frase:\", maior_frase)"
      ],
      "execution_count": 16,
      "outputs": [
        {
          "output_type": "stream",
          "name": "stdout",
          "text": [
            "Tamanho maior frase: 5\n"
          ]
        }
      ]
    },
    {
      "cell_type": "markdown",
      "metadata": {
        "id": "cBaB4AF1GRwH"
      },
      "source": [
        "### Exemplo 11 - Encontra o último caracter de uma frase\n",
        "\n",
        "Não considera espaço em branco."
      ]
    },
    {
      "cell_type": "code",
      "metadata": {
        "colab": {
          "base_uri": "https://localhost:8080/"
        },
        "id": "qhe0nfVxGR_P",
        "outputId": "aafc3418-141f-4065-fb6e-ecf707dfe4cc"
      },
      "source": [
        "# Frase de exemplo\n",
        "frase = \"  Que dia bonito  \"\n",
        "print(\"[\", frase,\"]\")\n",
        "\n",
        "# Retira os espaços antes de depois da frase\n",
        "frase = frase.strip()\n",
        "print(\"[\", frase,\"]\")\n",
        "\n",
        "# Recupera o último caracter\n",
        "ultimo_caracter = frase[-1]\n",
        "\n",
        "# Saída dos dados\n",
        "print (\"Último caracter:\", ultimo_caracter)"
      ],
      "execution_count": 17,
      "outputs": [
        {
          "output_type": "stream",
          "name": "stdout",
          "text": [
            "[   Que dia bonito   ]\n",
            "[ Que dia bonito ]\n",
            "Último caracter: o\n"
          ]
        }
      ]
    },
    {
      "cell_type": "markdown",
      "metadata": {
        "id": "yzfg-I1HQaUo"
      },
      "source": [
        "### Exemplo 12 - Exibe número percentual formatado"
      ]
    },
    {
      "cell_type": "code",
      "metadata": {
        "colab": {
          "base_uri": "https://localhost:8080/"
        },
        "id": "rbzIyYV0QfhH",
        "outputId": "25cc4258-f2f5-45ca-c901-3e55c50a33ab"
      },
      "source": [
        "x = 16\n",
        "total = 150\n",
        "percentual = x/total\n",
        "print(\"Percentual de X(\",x,\") no total(\",total,\") = \", \"{:.2%}\".format(percentual))"
      ],
      "execution_count": 18,
      "outputs": [
        {
          "output_type": "stream",
          "name": "stdout",
          "text": [
            "Percentual de X( 16 ) no total( 150 ) =  10.67%\n"
          ]
        }
      ]
    },
    {
      "cell_type": "markdown",
      "metadata": {
        "id": "LQ_r-Dsi8Qx3"
      },
      "source": [
        "### Exemplo 13 - Iníciais em maiúsculo"
      ]
    },
    {
      "cell_type": "code",
      "metadata": {
        "colab": {
          "base_uri": "https://localhost:8080/"
        },
        "id": "lG4X8gVl8TGp",
        "outputId": "668c5105-e471-42ce-ff54-cdbcaa95a043"
      },
      "source": [
        "# Frase de exemplo1\n",
        "frase1 = 'que dia bonito.'\n",
        "\n",
        "# Frase de exemplo2\n",
        "frase2 = frase1.capitalize()\n",
        "\n",
        "# Saída dos dados\n",
        "print(frase1)\n",
        "print(frase2)"
      ],
      "execution_count": 19,
      "outputs": [
        {
          "output_type": "stream",
          "name": "stdout",
          "text": [
            "que dia bonito.\n",
            "Que dia bonito.\n"
          ]
        }
      ]
    },
    {
      "cell_type": "markdown",
      "metadata": {
        "id": "25qFHSFmG6-w"
      },
      "source": [
        "### Exemplo 14 - Função para tratar literal"
      ]
    },
    {
      "cell_type": "code",
      "metadata": {
        "id": "Wo1V1MfrG9xg"
      },
      "source": [
        "import re\n",
        "\n",
        "def preProcessamento(mensagem):\n",
        "    \"\"\"\n",
        "    Esta função recebe uma string como entrada e, em seguida, executa estas operações:\n",
        "         - converte para minúsculas\n",
        "         - remove URLs\n",
        "         - remove símbolos de ação\n",
        "         - remove pontuação\n",
        "         - remove todos os tokens de um único caractere\n",
        "     Parâmetros\n",
        "     ----------\n",
        "         mensagem: a mensagem de texto a ser pré-processada\n",
        "     Retorno\n",
        "     -------\n",
        "         texto: o texto pré-processado\n",
        "    \"\"\"\n",
        "    # Coloque a mensagem  em letras minúsculas\n",
        "    texto = mensagem.lower()\n",
        "    # Substitui as URLs por um espaço na mensagem\n",
        "    texto = re.sub('https?:\\/\\/[a-zA-Z0-9@:%._\\/+~#=?&;-]*', ' ', texto)    \n",
        "    # Substitui os símbolos de ticker por um espaço. Os símbolos de ticker são qualquer símbolo que comece com $.\n",
        "    texto = re.sub('\\$[a-zA-Z0-9]*', ' ', texto)    \n",
        "    # Substitui os nomes de usuário por um espaço. Os nomes de usuário são qualquer palavra que comece com @.\n",
        "    texto = re.sub('\\@[a-zA-Z0-9]*', ' ', texto)    \n",
        "    # Substitui tudo que não for uma letra ou apóstrofo por um espaço\n",
        "    texto = re.sub('[^a-zA-Z\\']', ' ', texto)\n",
        "    # Remove palavras de uma letra\n",
        "    texto = ' '.join( [w for w in texto.split() if len(w)>1] )\n",
        "    \n",
        "    return texto"
      ],
      "execution_count": 20,
      "outputs": []
    },
    {
      "cell_type": "code",
      "metadata": {
        "colab": {
          "base_uri": "https://localhost:8080/"
        },
        "id": "EXpQCOz1IbMu",
        "outputId": "35e52aa1-232f-444a-dd9b-d925fa5c9b16"
      },
      "source": [
        "mensagem = \"$Joao bom dia. @Hoje será muito frio. E ai Olhou http://www.google.com.br hoje?\"\n",
        "\n",
        "print(preProcessamento(mensagem))"
      ],
      "execution_count": 21,
      "outputs": [
        {
          "output_type": "stream",
          "name": "stdout",
          "text": [
            "bom dia ser muito frio ai olhou hoje\n"
          ]
        }
      ]
    },
    {
      "cell_type": "markdown",
      "metadata": {
        "id": "tnkmUVm4tnJZ"
      },
      "source": [
        "### Exemplo 15 - Conta a ocorrências de palavras em um texto"
      ]
    },
    {
      "cell_type": "code",
      "metadata": {
        "colab": {
          "base_uri": "https://localhost:8080/"
        },
        "id": "OZxbU3q7tnJZ",
        "outputId": "640fa64c-c605-4a6d-f67b-affe6185492e"
      },
      "source": [
        "# Import das bibliotecas\n",
        "from collections import Counter\n",
        "\n",
        "# Texto de exemplo\n",
        "texto = \"Olá, tudo bem? Que dia é hoje ? Que dia bonito. Que céu está limpo hoje.\"\n",
        "\n",
        "# Divide o texto em uma lista de palavras\n",
        "listaPalavras = texto.split(\" \") \n",
        "\n",
        "contador = Counter()\n",
        "for i, palavra in enumerate(listaPalavras):\n",
        "     contador[palavra] += 1\n",
        "\n",
        "# Lista as ocorrências das palavras\n",
        "for i, item in enumerate(sorted(contador, key = contador.get, reverse=True)):\n",
        "    print (i, item, contador[item])     "
      ],
      "execution_count": 22,
      "outputs": [
        {
          "output_type": "stream",
          "name": "stdout",
          "text": [
            "0 Que 3\n",
            "1 dia 2\n",
            "2 Olá, 1\n",
            "3 tudo 1\n",
            "4 bem? 1\n",
            "5 é 1\n",
            "6 hoje 1\n",
            "7 ? 1\n",
            "8 bonito. 1\n",
            "9 céu 1\n",
            "10 está 1\n",
            "11 limpo 1\n",
            "12 hoje. 1\n"
          ]
        }
      ]
    },
    {
      "cell_type": "markdown",
      "metadata": {
        "id": "Iy1yctgxJyDp"
      },
      "source": [
        "##Inicialização de variáveis\n",
        "Inicialização de múltiplas variáveis"
      ]
    },
    {
      "cell_type": "code",
      "metadata": {
        "colab": {
          "base_uri": "https://localhost:8080/"
        },
        "id": "4JPdmPAsJ1QA",
        "outputId": "8b48a735-a8d4-469e-ec94-55602c69de83"
      },
      "source": [
        "# Declaração e inicialização\n",
        "a, b, c, d = 1, 2, 3, 4\n",
        "\n",
        "# Saída dos dados\n",
        "print(a)\n",
        "print(b)\n",
        "print(c)\n",
        "print(d)"
      ],
      "execution_count": 23,
      "outputs": [
        {
          "output_type": "stream",
          "name": "stdout",
          "text": [
            "1\n",
            "2\n",
            "3\n",
            "4\n"
          ]
        }
      ]
    },
    {
      "cell_type": "markdown",
      "metadata": {
        "id": "IziPWVaeGlWk"
      },
      "source": [
        "## Trocar conteúdo de variáveis\n",
        "Como trocar o conteúdo das variáveis de a e b e de b para a:\n",
        "\n",
        "\n"
      ]
    },
    {
      "cell_type": "markdown",
      "metadata": {
        "id": "COG413OYyx7D"
      },
      "source": [
        "### Método 1 - com auxiliar\n",
        "Troca de conteúdo de variáveis com variável auxiliar."
      ]
    },
    {
      "cell_type": "code",
      "metadata": {
        "colab": {
          "base_uri": "https://localhost:8080/"
        },
        "id": "_8dfes3tzEfz",
        "outputId": "56490724-1bdf-4347-c9d9-38f8453e12b1"
      },
      "source": [
        "# Inicialização das variáveis\n",
        "a = 10\n",
        "b = 30\n",
        "\n",
        "# Processamento\n",
        "aux = a\n",
        "a = b\n",
        "b = aux\n",
        "\n",
        "# Saída dos dados\n",
        "print(\"a = \" + str(a))\n",
        "print(\"b = \" + str(b))"
      ],
      "execution_count": 24,
      "outputs": [
        {
          "output_type": "stream",
          "name": "stdout",
          "text": [
            "a = 30\n",
            "b = 10\n"
          ]
        }
      ]
    },
    {
      "cell_type": "markdown",
      "metadata": {
        "id": "zIIhrgdYyrrD"
      },
      "source": [
        "### Método 2 - sem auxiliar\n",
        "Sem o uso de uma variável auxiliar."
      ]
    },
    {
      "cell_type": "code",
      "metadata": {
        "colab": {
          "base_uri": "https://localhost:8080/"
        },
        "id": "BGFVnIzQGrEH",
        "outputId": "d021c5b9-cbd2-449c-83d0-4478ae74d4cf"
      },
      "source": [
        "# Inicialização das variáveis\n",
        "a = 10\n",
        "b = 30\n",
        "\n",
        "# Processamento\n",
        "a , b = b , a\n",
        "\n",
        "# Saída dos dados\n",
        "print(\"a = \" + str(a))\n",
        "print(\"b = \" + str(b))"
      ],
      "execution_count": 25,
      "outputs": [
        {
          "output_type": "stream",
          "name": "stdout",
          "text": [
            "a = 30\n",
            "b = 10\n"
          ]
        }
      ]
    },
    {
      "cell_type": "markdown",
      "metadata": {
        "id": "Mk7CV_tfTUNl"
      },
      "source": [
        "# Operadores\n",
        "\n",
        "https://www.w3schools.com/python/python_operators.asp"
      ]
    },
    {
      "cell_type": "markdown",
      "metadata": {
        "id": "OjtxtOC4TY_p"
      },
      "source": [
        "## Operadores aritméticos \n",
        "\n",
        "(+, -, *, /, %, **, +=, -=, *=, /=, %=, **=):"
      ]
    },
    {
      "cell_type": "code",
      "metadata": {
        "colab": {
          "base_uri": "https://localhost:8080/"
        },
        "id": "oNC6OhoETVeF",
        "outputId": "46545bf7-c58c-4008-f7e2-ee81143ae8ac"
      },
      "source": [
        "a = 2\n",
        "b = 1\n",
        "\n",
        "# Saída dos dados\n",
        "print (\"soma =\",a + b)\n",
        "print (\"subtração =\",a - b)\n",
        "print (\"produto =\",a * b)\n",
        "print (\"divisão =\",a / b)"
      ],
      "execution_count": 26,
      "outputs": [
        {
          "output_type": "stream",
          "name": "stdout",
          "text": [
            "soma = 3\n",
            "subtração = 1\n",
            "produto = 2\n",
            "divisão = 2.0\n"
          ]
        }
      ]
    },
    {
      "cell_type": "markdown",
      "metadata": {
        "id": "a2hZUv2KkSK-"
      },
      "source": [
        "Exponencial (**)"
      ]
    },
    {
      "cell_type": "code",
      "metadata": {
        "colab": {
          "base_uri": "https://localhost:8080/"
        },
        "id": "LfdgCJQ3kVqP",
        "outputId": "b4cac904-5510-417e-8490-0d9dae9ee91b"
      },
      "source": [
        "a = 4\n",
        "\n",
        "# Saída dos dados\n",
        "print (a**2)"
      ],
      "execution_count": 27,
      "outputs": [
        {
          "output_type": "stream",
          "name": "stdout",
          "text": [
            "16\n"
          ]
        }
      ]
    },
    {
      "cell_type": "markdown",
      "metadata": {
        "id": "3yGXUsyNj_OD"
      },
      "source": [
        "Divisão inteira (//)"
      ]
    },
    {
      "cell_type": "code",
      "metadata": {
        "colab": {
          "base_uri": "https://localhost:8080/"
        },
        "id": "DiixULgakAh5",
        "outputId": "f97b153b-2ef5-4d82-90b4-b69370f76c66"
      },
      "source": [
        "a = 5\n",
        "b = 2\n",
        "\n",
        "# Mostra o resultado da divisão sem a parte fracioná(somente a parte inteira)\n",
        "print (5 // 2)\n",
        "\n",
        "# Mostra o resultado da divisão com a parte fracionária\n",
        "print (5 / 2)"
      ],
      "execution_count": 28,
      "outputs": [
        {
          "output_type": "stream",
          "name": "stdout",
          "text": [
            "2\n",
            "2.5\n"
          ]
        }
      ]
    },
    {
      "cell_type": "markdown",
      "metadata": {
        "id": "f96rzB9akKO5"
      },
      "source": [
        "Resto divisão (%)"
      ]
    },
    {
      "cell_type": "code",
      "metadata": {
        "colab": {
          "base_uri": "https://localhost:8080/"
        },
        "id": "Jzv_-awikMT6",
        "outputId": "5f8fe2b5-c075-4a30-a757-60b04b856a13"
      },
      "source": [
        "a = 5\n",
        "b = 2\n",
        "\n",
        "# Resto da divisão\n",
        "print (5 % 2)\n",
        "\n",
        "# Mostra a parte inteira\n",
        "print (5 // 2)"
      ],
      "execution_count": 29,
      "outputs": [
        {
          "output_type": "stream",
          "name": "stdout",
          "text": [
            "1\n",
            "2\n"
          ]
        }
      ]
    },
    {
      "cell_type": "markdown",
      "metadata": {
        "id": "c3W0MGc5kbse"
      },
      "source": [
        "Raiz quadrada (** 0.5)"
      ]
    },
    {
      "cell_type": "code",
      "metadata": {
        "colab": {
          "base_uri": "https://localhost:8080/"
        },
        "id": "f_GjzLUMkeL5",
        "outputId": "285648f5-97b3-4579-bbfa-e4c1109dc409"
      },
      "source": [
        "a = 4\n",
        "\n",
        "# Calcula a raiz quadrada a**1/2\n",
        "raiz = a ** 0.5\n",
        "\n",
        "print(raiz)"
      ],
      "execution_count": 30,
      "outputs": [
        {
          "output_type": "stream",
          "name": "stdout",
          "text": [
            "2.0\n"
          ]
        }
      ]
    },
    {
      "cell_type": "markdown",
      "metadata": {
        "id": "CSF3xkW7kjEb"
      },
      "source": [
        "Raiz quadrada (math)"
      ]
    },
    {
      "cell_type": "code",
      "metadata": {
        "colab": {
          "base_uri": "https://localhost:8080/"
        },
        "id": "IGnLGs5ikfih",
        "outputId": "0735c2a3-62ba-4be3-baf5-7e6527c1a480"
      },
      "source": [
        "import math\n",
        "\n",
        "math.sqrt(16)"
      ],
      "execution_count": 31,
      "outputs": [
        {
          "output_type": "execute_result",
          "data": {
            "text/plain": [
              "4.0"
            ]
          },
          "metadata": {},
          "execution_count": 31
        }
      ]
    },
    {
      "cell_type": "markdown",
      "metadata": {
        "id": "MjWlQ17XknYn"
      },
      "source": [
        "PI"
      ]
    },
    {
      "cell_type": "code",
      "metadata": {
        "colab": {
          "base_uri": "https://localhost:8080/"
        },
        "id": "1UVhfcJEkngl",
        "outputId": "01df2e84-97c4-480e-d507-758713e2f79f"
      },
      "source": [
        "import math\n",
        "\n",
        "print(math.pi)"
      ],
      "execution_count": 32,
      "outputs": [
        {
          "output_type": "stream",
          "name": "stdout",
          "text": [
            "3.141592653589793\n"
          ]
        }
      ]
    },
    {
      "cell_type": "markdown",
      "metadata": {
        "id": "XbXT5yfSTo6y"
      },
      "source": [
        "Operadores de comparação (>, <, ==, >=, <=, <>, !=, is, in):"
      ]
    },
    {
      "cell_type": "code",
      "metadata": {
        "colab": {
          "base_uri": "https://localhost:8080/"
        },
        "id": "9ftYsWQZTsPV",
        "outputId": "24fcfb9b-c6a8-4beb-d564-810fb7929c2e"
      },
      "source": [
        "a = 1\n",
        "b = 2\n",
        "\n",
        "print(a == b)\n",
        "\n",
        "print (a < b)"
      ],
      "execution_count": 33,
      "outputs": [
        {
          "output_type": "stream",
          "name": "stdout",
          "text": [
            "False\n",
            "True\n"
          ]
        }
      ]
    },
    {
      "cell_type": "markdown",
      "metadata": {
        "id": "QftIogc_hPxX"
      },
      "source": [
        "##Operadores lógicos\n",
        "\n",
        "and, or, not, !="
      ]
    },
    {
      "cell_type": "code",
      "metadata": {
        "colab": {
          "base_uri": "https://localhost:8080/"
        },
        "id": "i8rxndpvhl-n",
        "outputId": "279939e2-2088-4051-d084-3efc225c3e0e"
      },
      "source": [
        "# Valores iniciais\n",
        "a = True\n",
        "b = False\n",
        "\n",
        "print(a and b) # Lógico AND;\n",
        "print(a or b)  # Lógico  OR;\n",
        "print(not a)   # Lógico  NOT;\n",
        "print(a != b)  # Lógico  XOR;"
      ],
      "execution_count": 34,
      "outputs": [
        {
          "output_type": "stream",
          "name": "stdout",
          "text": [
            "False\n",
            "True\n",
            "False\n",
            "True\n"
          ]
        }
      ]
    },
    {
      "cell_type": "markdown",
      "metadata": {
        "id": "RdVoeqUmhVRt"
      },
      "source": [
        "##Operadores de identidade\n",
        "\n",
        "is, is not"
      ]
    },
    {
      "cell_type": "code",
      "metadata": {
        "colab": {
          "base_uri": "https://localhost:8080/"
        },
        "id": "PaEUz9T5jxoI",
        "outputId": "1074f403-690a-4842-e9ef-e15639cb17cf"
      },
      "source": [
        "# Valores iniciais\n",
        "a = True\n",
        "b = False\n",
        "\n",
        "print(a is b) # Identidade é;\n",
        "print(a is not b)  # Identidade não é"
      ],
      "execution_count": 35,
      "outputs": [
        {
          "output_type": "stream",
          "name": "stdout",
          "text": [
            "False\n",
            "True\n"
          ]
        }
      ]
    },
    {
      "cell_type": "markdown",
      "metadata": {
        "id": "fkioKBU4hab0"
      },
      "source": [
        "##Operadores de conjunto\n",
        "in, not in"
      ]
    },
    {
      "cell_type": "code",
      "metadata": {
        "colab": {
          "base_uri": "https://localhost:8080/"
        },
        "id": "PBHH1iXtj7-P",
        "outputId": "1c435932-3024-4d4b-e606-c4f210e77bb8"
      },
      "source": [
        "# Conjunto\n",
        "a = {1, 2, 3, 4}\n",
        "\n",
        "print(1 in a)     # Pertençe ao conjunto;\n",
        "print(1 not in a) # Não pertençe ao conjunto;"
      ],
      "execution_count": 36,
      "outputs": [
        {
          "output_type": "stream",
          "name": "stdout",
          "text": [
            "True\n",
            "False\n"
          ]
        }
      ]
    },
    {
      "cell_type": "markdown",
      "metadata": {
        "id": "FbL31jLo7wnx"
      },
      "source": [
        "# Funções matemáticas\n",
        "\n",
        "Exemplo de uso de divesas funções matemáticas"
      ]
    },
    {
      "cell_type": "markdown",
      "metadata": {
        "id": "I3KG2LnL7cqt"
      },
      "source": [
        "Valor absoluto\n"
      ]
    },
    {
      "cell_type": "code",
      "metadata": {
        "colab": {
          "base_uri": "https://localhost:8080/"
        },
        "id": "z5sPo0sA7cBj",
        "outputId": "ffb58ff3-4535-45ea-86ad-74071840a3c1"
      },
      "source": [
        "# abs retorna o valor absoluto\n",
        "absoluto = abs(-8)\n",
        "\n",
        "print(absoluto)"
      ],
      "execution_count": 37,
      "outputs": [
        {
          "output_type": "stream",
          "name": "stdout",
          "text": [
            "8\n"
          ]
        }
      ]
    },
    {
      "cell_type": "markdown",
      "metadata": {
        "id": "gnipxdw_71Ji"
      },
      "source": [
        "Potência de x elevado a y\n",
        "pow(2, 8)"
      ]
    },
    {
      "cell_type": "code",
      "metadata": {
        "colab": {
          "base_uri": "https://localhost:8080/"
        },
        "id": "XnSHVL9r71wE",
        "outputId": "885e4558-b462-4766-cad9-e832242afa6d"
      },
      "source": [
        "# pow(x, y) retorna a potência de x elevado a y\n",
        "resultado = pow(2, 8)\n",
        "\n",
        "print(resultado)"
      ],
      "execution_count": 38,
      "outputs": [
        {
          "output_type": "stream",
          "name": "stdout",
          "text": [
            "256\n"
          ]
        }
      ]
    },
    {
      "cell_type": "markdown",
      "metadata": {
        "id": "S9SlXX-67_TQ"
      },
      "source": [
        "Arredondamento"
      ]
    },
    {
      "cell_type": "code",
      "metadata": {
        "colab": {
          "base_uri": "https://localhost:8080/"
        },
        "id": "OSJeLNTK8A_8",
        "outputId": "8d7d901e-7cd3-45d5-e935-444d1e254d4d"
      },
      "source": [
        "# Arredondamento\n",
        "arredondado = round(3.1415926)\n",
        "\n",
        "print(arredondado)\n",
        "\n",
        "# Arredondamento com duas casas decimais\n",
        "arredondado = round(1.61834, 2)\n",
        "\n",
        "print(arredondado)"
      ],
      "execution_count": 39,
      "outputs": [
        {
          "output_type": "stream",
          "name": "stdout",
          "text": [
            "3\n",
            "1.62\n"
          ]
        }
      ]
    },
    {
      "cell_type": "markdown",
      "metadata": {
        "id": "WMrGz_ISArGm"
      },
      "source": [
        "# Saída de Dados\n",
        "\n",
        "https://pyformat.info/"
      ]
    },
    {
      "cell_type": "markdown",
      "metadata": {
        "id": "wJzRhIckA0zY"
      },
      "source": [
        "## Número inteiro(d)"
      ]
    },
    {
      "cell_type": "code",
      "metadata": {
        "colab": {
          "base_uri": "https://localhost:8080/"
        },
        "id": "jeQYdc3fAzq3",
        "outputId": "fcd4db63-7cc0-4843-caf9-9900fbffe409"
      },
      "source": [
        "print('Idade :{:d}'.format(42))"
      ],
      "execution_count": 40,
      "outputs": [
        {
          "output_type": "stream",
          "name": "stdout",
          "text": [
            "Idade :42\n"
          ]
        }
      ]
    },
    {
      "cell_type": "markdown",
      "metadata": {
        "id": "Nf_5teSZBFhR"
      },
      "source": [
        "## Número real(f)"
      ]
    },
    {
      "cell_type": "code",
      "metadata": {
        "colab": {
          "base_uri": "https://localhost:8080/"
        },
        "id": "ohLRXeXYBFhU",
        "outputId": "9593598d-8a22-4c5e-a7cf-52cd62c1b64d"
      },
      "source": [
        "print('Pi :{:f}'.format(3.1415926))"
      ],
      "execution_count": 41,
      "outputs": [
        {
          "output_type": "stream",
          "name": "stdout",
          "text": [
            "Pi :3.141593\n"
          ]
        }
      ]
    },
    {
      "cell_type": "markdown",
      "metadata": {
        "id": "raBzE7WjBV9r"
      },
      "source": [
        "## Preenchimento número inteiro"
      ]
    },
    {
      "cell_type": "code",
      "metadata": {
        "colab": {
          "base_uri": "https://localhost:8080/"
        },
        "id": "Aep1FJA5BWH8",
        "outputId": "d7dab64f-8e58-46dd-e37d-858c9bbb7f54"
      },
      "source": [
        "# Reserva espaço para 4 dígitos e preenche com ' '\n",
        "print('Idade 1:{:4d}'.format(42))\n",
        "# Reserva espaço para 4 dígitos e preenche com  0\n",
        "print('Idade 2:{:04d}'.format(4))"
      ],
      "execution_count": 42,
      "outputs": [
        {
          "output_type": "stream",
          "name": "stdout",
          "text": [
            "Idade 1:  42\n",
            "Idade 2:0004\n"
          ]
        }
      ]
    },
    {
      "cell_type": "markdown",
      "metadata": {
        "id": "O5RQsiM-Bs37"
      },
      "source": [
        "### Preenchimento número real"
      ]
    },
    {
      "cell_type": "code",
      "metadata": {
        "colab": {
          "base_uri": "https://localhost:8080/"
        },
        "id": "r3ymyTboBs3-",
        "outputId": "bfb0cab4-30f7-4912-ad06-94c4ad52b3df"
      },
      "source": [
        "# Reserva espaço para 8 dígitos se 2 para a parte decimal preenche com ' '\n",
        "print('Pi 1:{:8.2f}'.format(3.1415926))\n",
        "# Reserva espaço para 6 dígitos se 2 para a parte decimal preenche com '0'\n",
        "print('Pi 2:{:06.2f}'.format(3.1415926))"
      ],
      "execution_count": 43,
      "outputs": [
        {
          "output_type": "stream",
          "name": "stdout",
          "text": [
            "Pi 1:    3.14\n",
            "Pi 2:003.14\n"
          ]
        }
      ]
    },
    {
      "cell_type": "markdown",
      "metadata": {
        "id": "jAOEYrGxKAxp"
      },
      "source": [
        "#Estruturas Condicionais\n",
        "\n",
        "Estrutura se:\n",
        "* if \\<condição\\>:\n",
        "* if \\<condição\\>: else:\n",
        "* if \\<condição1\\>: elif <condição>: else:\n"
      ]
    },
    {
      "cell_type": "markdown",
      "metadata": {
        "id": "dJSVrlVM4WH8"
      },
      "source": [
        "###Exemplo if / se"
      ]
    },
    {
      "cell_type": "markdown",
      "metadata": {
        "id": "sR5sP9TJjYW2"
      },
      "source": [
        ""
      ]
    },
    {
      "cell_type": "code",
      "metadata": {
        "colab": {
          "base_uri": "https://localhost:8080/"
        },
        "id": "PL68HgJe4WH9",
        "outputId": "b2930c6f-bf91-4a29-bff3-0f354726601e"
      },
      "source": [
        "x = 10\n",
        "\n",
        "if (x == 10):\n",
        "   print(\"Número é igual a 10\")"
      ],
      "execution_count": 44,
      "outputs": [
        {
          "output_type": "stream",
          "name": "stdout",
          "text": [
            "Número é igual a 10\n"
          ]
        }
      ]
    },
    {
      "cell_type": "markdown",
      "metadata": {
        "id": "J9xDSQK81lbL"
      },
      "source": [
        "###Exemplo if else / se  senão"
      ]
    },
    {
      "cell_type": "code",
      "metadata": {
        "colab": {
          "base_uri": "https://localhost:8080/"
        },
        "id": "f8CbTprj1k9u",
        "outputId": "20c22301-1c62-432a-d2d1-659a7affceb0"
      },
      "source": [
        "x = 10\n",
        "\n",
        "if (x%2 == 0):\n",
        "   print(\"Número é par\")\n",
        "else:\n",
        "   print(\"Número é impar\")\n"
      ],
      "execution_count": 45,
      "outputs": [
        {
          "output_type": "stream",
          "name": "stdout",
          "text": [
            "Número é par\n"
          ]
        }
      ]
    },
    {
      "cell_type": "markdown",
      "metadata": {
        "id": "akRvIWEY17SD"
      },
      "source": [
        "###Exemplo if elif else / se senãose senão"
      ]
    },
    {
      "cell_type": "code",
      "metadata": {
        "colab": {
          "base_uri": "https://localhost:8080/"
        },
        "id": "OsAUTZWu17SG",
        "outputId": "49147aff-d0f1-4afa-be8f-4c20291c6654"
      },
      "source": [
        "x = 1\n",
        "\n",
        "if (x == 1):\n",
        "   print(\"Número é um\")\n",
        "elif (x == 2):\n",
        "   print(\"Número é dois\")\n",
        "elif (x == 3):\n",
        "     print(\"Número é três\")   \n",
        "else:\n",
        "     print(\"Não é nenhum dos três\")"
      ],
      "execution_count": 46,
      "outputs": [
        {
          "output_type": "stream",
          "name": "stdout",
          "text": [
            "Número é um\n"
          ]
        }
      ]
    },
    {
      "cell_type": "markdown",
      "metadata": {
        "id": "qekx79Xk24nr"
      },
      "source": [
        "###Operador ternário"
      ]
    },
    {
      "cell_type": "code",
      "metadata": {
        "colab": {
          "base_uri": "https://localhost:8080/"
        },
        "id": "3ae3gjXe26WL",
        "outputId": "7058f32b-a23e-4f68-9fac-797885af3661"
      },
      "source": [
        "x = 10\n",
        "\n",
        "saida =  \"Número é par\" if x % 2 == 0 else \"Número é ímpar\"\n",
        "\n",
        "print(saida)"
      ],
      "execution_count": 47,
      "outputs": [
        {
          "output_type": "stream",
          "name": "stdout",
          "text": [
            "Número é par\n"
          ]
        }
      ]
    },
    {
      "cell_type": "markdown",
      "metadata": {
        "id": "UWtJh5RTKHMl"
      },
      "source": [
        "###Exemplo 1\n",
        "https://leportella.com/pt-br/2018/05/07/pytricks-I.html"
      ]
    },
    {
      "cell_type": "code",
      "metadata": {
        "colab": {
          "base_uri": "https://localhost:8080/"
        },
        "id": "hyvgRNAiKGJ5",
        "outputId": "b954412d-28dd-4975-95de-40117dae94bd"
      },
      "source": [
        "# Declaração e inicialização de diversas variáveis\n",
        "a, b, c, d = 1, 2, 3, 4\n",
        "\n",
        "if a == 1 and b == 2 and c == 3 and d == 4:\n",
        "    print('Tudo verdadeiro!')"
      ],
      "execution_count": 48,
      "outputs": [
        {
          "output_type": "stream",
          "name": "stdout",
          "text": [
            "Tudo verdadeiro!\n"
          ]
        }
      ]
    },
    {
      "cell_type": "markdown",
      "metadata": {
        "id": "6PRgsXBcKMIU"
      },
      "source": [
        "### Exemplo 2"
      ]
    },
    {
      "cell_type": "code",
      "metadata": {
        "colab": {
          "base_uri": "https://localhost:8080/"
        },
        "id": "PAXDOHY9KNpJ",
        "outputId": "59c55b1a-d75f-4e9d-b667-88a062d2ddba"
      },
      "source": [
        "# Declaração\n",
        "condicoes = [a==1, b==2, c==3, d==4]\n",
        "\n",
        "if all(condicoes):\n",
        "    print('Tudo verdadeiro!')"
      ],
      "execution_count": 49,
      "outputs": [
        {
          "output_type": "stream",
          "name": "stdout",
          "text": [
            "Tudo verdadeiro!\n"
          ]
        }
      ]
    },
    {
      "cell_type": "markdown",
      "metadata": {
        "id": "ZKW07-qtN9Bi"
      },
      "source": [
        "### Exemplo 3 - Verificar o tipo de uma variável\n",
        "\n",
        "A função `type` retorna o tipo da variável e `is` compara com o tipo."
      ]
    },
    {
      "cell_type": "code",
      "metadata": {
        "colab": {
          "base_uri": "https://localhost:8080/"
        },
        "id": "GydSAt1DN9Bm",
        "outputId": "bc92c071-4898-4ee7-d96f-5133a28d5cc9"
      },
      "source": [
        "# Declaração\n",
        "a = 10\n",
        "\n",
        "# Mostra o retorno\n",
        "print(type(a))\n",
        "\n",
        "# Mostra o nome\n",
        "print(type(a).__name__)\n",
        "\n",
        "# Avalia um tipo\n",
        "if type(a) is int:\n",
        "    print('É um inteiro!')\n",
        "else:\n",
        "    print('Não é um inteiro')"
      ],
      "execution_count": 50,
      "outputs": [
        {
          "output_type": "stream",
          "name": "stdout",
          "text": [
            "<class 'int'>\n",
            "int\n",
            "É um inteiro!\n"
          ]
        }
      ]
    },
    {
      "cell_type": "markdown",
      "metadata": {
        "id": "btM8ZZeHOWpm"
      },
      "source": [
        "### Exemplo 4 - Verificar o tipo de uma variável\n",
        "\n",
        "A função `isinstance` retorna o tipo da variável e `is` compara com o tipo ou um conjunto de tipos."
      ]
    },
    {
      "cell_type": "code",
      "metadata": {
        "colab": {
          "base_uri": "https://localhost:8080/"
        },
        "id": "zeFnNlJfOWpn",
        "outputId": "2a342d39-d162-424c-b12b-e89b3d37bd9a"
      },
      "source": [
        "# Declaração\n",
        "a = 10\n",
        "\n",
        "# Mostra o retorno\n",
        "print(isinstance(a, int))\n",
        "\n",
        "# Avalia um tipo\n",
        "if isinstance(a, int):\n",
        "    print('É um inteiro!')\n",
        "else:\n",
        "    print('Não é um inteiro')\n",
        "\n",
        "# Avalia diversos tipos\n",
        "if isinstance(a, (int, float)):\n",
        "    print('É um inteiro!')\n",
        "else:\n",
        "    print('Não é um inteiro')    "
      ],
      "execution_count": 51,
      "outputs": [
        {
          "output_type": "stream",
          "name": "stdout",
          "text": [
            "True\n",
            "É um inteiro!\n",
            "É um inteiro!\n"
          ]
        }
      ]
    },
    {
      "cell_type": "markdown",
      "metadata": {
        "id": "Fsm7trhrLjXr"
      },
      "source": [
        "#Estruturas de Repetição"
      ]
    },
    {
      "cell_type": "markdown",
      "metadata": {
        "id": "_nCWw-mF6Ypf"
      },
      "source": [
        "###Exemplo while / enquanto"
      ]
    },
    {
      "cell_type": "code",
      "metadata": {
        "colab": {
          "base_uri": "https://localhost:8080/"
        },
        "id": "YuLuxlb_6Ypg",
        "outputId": "43763ff5-115b-4356-bc9b-49aaba2eebba"
      },
      "source": [
        "x = 1\n",
        "while (x < 10):\n",
        "    print(x)\n",
        "    x = x + 1"
      ],
      "execution_count": 52,
      "outputs": [
        {
          "output_type": "stream",
          "name": "stdout",
          "text": [
            "1\n",
            "2\n",
            "3\n",
            "4\n",
            "5\n",
            "6\n",
            "7\n",
            "8\n",
            "9\n"
          ]
        }
      ]
    },
    {
      "cell_type": "markdown",
      "metadata": {
        "id": "OZZwXfkz6Pxn"
      },
      "source": [
        "### Exemplo for / para"
      ]
    },
    {
      "cell_type": "code",
      "metadata": {
        "colab": {
          "base_uri": "https://localhost:8080/"
        },
        "id": "huXSTwS-6TZG",
        "outputId": "8fbf2515-716a-4914-a6a4-34a1b60a3b59"
      },
      "source": [
        "for x in range(1,10):\n",
        "  print(x)"
      ],
      "execution_count": 53,
      "outputs": [
        {
          "output_type": "stream",
          "name": "stdout",
          "text": [
            "1\n",
            "2\n",
            "3\n",
            "4\n",
            "5\n",
            "6\n",
            "7\n",
            "8\n",
            "9\n"
          ]
        }
      ]
    },
    {
      "cell_type": "markdown",
      "metadata": {
        "id": "doYOc7FFTn9u"
      },
      "source": [
        "### Exemplo for aninhado"
      ]
    },
    {
      "cell_type": "code",
      "metadata": {
        "colab": {
          "base_uri": "https://localhost:8080/"
        },
        "id": "ASZeAaoKToI_",
        "outputId": "4349b8c2-8a56-4d3c-bbe0-71554ec627db"
      },
      "source": [
        "# Primeiro for\n",
        "for i in range(10):\n",
        "    # Segundo for\n",
        "    for j in range(i):\n",
        "        print (i, end=' ')\n",
        "    print()"
      ],
      "execution_count": 54,
      "outputs": [
        {
          "output_type": "stream",
          "name": "stdout",
          "text": [
            "\n",
            "1 \n",
            "2 2 \n",
            "3 3 3 \n",
            "4 4 4 4 \n",
            "5 5 5 5 5 \n",
            "6 6 6 6 6 6 \n",
            "7 7 7 7 7 7 7 \n",
            "8 8 8 8 8 8 8 8 \n",
            "9 9 9 9 9 9 9 9 9 \n"
          ]
        }
      ]
    },
    {
      "cell_type": "markdown",
      "metadata": {
        "id": "nNVK4NjtjOn6"
      },
      "source": [
        "###Exemplo for / para List Comprehension com condicional"
      ]
    },
    {
      "cell_type": "markdown",
      "metadata": {
        "id": "DrxUdhjhj6Je"
      },
      "source": [
        "Lista sem comprehension\n",
        "\n",
        "Ao programar, frequentemente queremos transformar um tipo de dado em outro. Como um exemplo simples, considere o seguinte código que localiza os nomes pares."
      ]
    },
    {
      "cell_type": "code",
      "metadata": {
        "colab": {
          "base_uri": "https://localhost:8080/"
        },
        "id": "bvZyOfo1jOn6",
        "outputId": "7b4011c3-7d7a-423c-b242-dfeec04a8d02"
      },
      "source": [
        "for x in range(1,10):\n",
        "  if x%2==0:\n",
        "    print(x)"
      ],
      "execution_count": 55,
      "outputs": [
        {
          "output_type": "stream",
          "name": "stdout",
          "text": [
            "2\n",
            "4\n",
            "6\n",
            "8\n"
          ]
        }
      ]
    },
    {
      "cell_type": "markdown",
      "metadata": {
        "id": "RCvDddIPj-fN"
      },
      "source": [
        "Lista com comprehension\n",
        "\n"
      ]
    },
    {
      "cell_type": "code",
      "metadata": {
        "colab": {
          "base_uri": "https://localhost:8080/"
        },
        "id": "Avk4ccAujm5l",
        "outputId": "a7919224-cc61-4451-8b60-894818019080"
      },
      "source": [
        "numerosPares = [x for x in range(1,10) if x%2==0]\n",
        "print(numerosPares)"
      ],
      "execution_count": 56,
      "outputs": [
        {
          "output_type": "stream",
          "name": "stdout",
          "text": [
            "[2, 4, 6, 8]\n"
          ]
        }
      ]
    },
    {
      "cell_type": "markdown",
      "metadata": {
        "id": "zhAeH6TJLp-5"
      },
      "source": [
        "##For com else (lista vazia)\n",
        "\n",
        "Quando a lista está vazia entra no else."
      ]
    },
    {
      "cell_type": "code",
      "metadata": {
        "colab": {
          "base_uri": "https://localhost:8080/"
        },
        "id": "KM1Iv5ioLrqm",
        "outputId": "fbf9eaa0-6be9-467b-b951-c9ea1c6d00b4"
      },
      "source": [
        "lista = []\n",
        "\n",
        "for x in lista:\n",
        "    print('dentro do loop')\n",
        "else:\n",
        "    print('dentro do else')"
      ],
      "execution_count": 57,
      "outputs": [
        {
          "output_type": "stream",
          "name": "stdout",
          "text": [
            "dentro do else\n"
          ]
        }
      ]
    },
    {
      "cell_type": "markdown",
      "metadata": {
        "id": "zF2nR0vHLwXk"
      },
      "source": [
        "##For com else (lista cheia)"
      ]
    },
    {
      "cell_type": "code",
      "metadata": {
        "colab": {
          "base_uri": "https://localhost:8080/"
        },
        "id": "GD_lwF1tL3ne",
        "outputId": "bf9f12bb-f2e9-44c0-f7cd-ec2ffd8406cd"
      },
      "source": [
        "lista = [1, 2]\n",
        "\n",
        "for x in lista:\n",
        "    print('dentro do loop')\n",
        "else:\n",
        "    print('dentro do else')"
      ],
      "execution_count": 58,
      "outputs": [
        {
          "output_type": "stream",
          "name": "stdout",
          "text": [
            "dentro do loop\n",
            "dentro do loop\n",
            "dentro do else\n"
          ]
        }
      ]
    },
    {
      "cell_type": "markdown",
      "metadata": {
        "id": "SNxml-n9wYvX"
      },
      "source": [
        "# Tratamento de mensagens"
      ]
    },
    {
      "cell_type": "code",
      "metadata": {
        "colab": {
          "base_uri": "https://localhost:8080/"
        },
        "id": "uP3uiJ4bwbEO",
        "outputId": "6eb3dd7a-f1ef-4921-dada-20baadd616b1"
      },
      "source": [
        "# Biblioteca de logging\n",
        "import logging\n",
        "\n",
        "# Formata a mensagem de login\n",
        "logging.basicConfig(format='%(asctime)s : %(levelname)s : %(message)s', level=logging.INFO)\n",
        "\n",
        "#uso da mensagem sem parâmetro\n",
        "logging.info('Função criada!')\n",
        "\n",
        "#uso da mensagem com parâmetro\n",
        "logging.info('Arquivo {0} baixado'.format('teste.txt'))"
      ],
      "execution_count": 59,
      "outputs": [
        {
          "output_type": "stream",
          "name": "stderr",
          "text": [
            "2021-12-10 20:37:21,029 : INFO : Função criada!\n",
            "2021-12-10 20:37:21,032 : INFO : Arquivo teste.txt baixado\n"
          ]
        }
      ]
    },
    {
      "cell_type": "markdown",
      "metadata": {
        "id": "ph1Lv7dFpUpm"
      },
      "source": [
        "#Comandos Bash\n",
        "\n",
        "Para executar uma linha de comando basta adicionar o caracter **'!'**(ponto de exclamação) no início. \n",
        "Como por exemplo \"!ls\", \"!pwd\" ou \"!echo\".\n",
        "\n",
        "Entretanto, ao usar o caracter **'!'**, a linha de comando é executada em uma sessão de terminal temporária. Alguns comandos como a navegação nos diretórios com o comando \"cd\" não surgem efeito se usados apenas localmente. Para esta situação devemos usar o caracter \"%\" no início com \"%cd\".\n",
        "\n",
        "Considere o sistema operacional onde será executado o comando."
      ]
    },
    {
      "cell_type": "markdown",
      "metadata": {
        "id": "fi1PA_yqrTbj"
      },
      "source": [
        "Jupyter inclue atralhos para as operações mais comuns, como os ls:"
      ]
    },
    {
      "cell_type": "code",
      "metadata": {
        "colab": {
          "base_uri": "https://localhost:8080/"
        },
        "id": "ob15HRD4raDj",
        "outputId": "d92d781d-8076-4165-916f-975527c5dc5d"
      },
      "source": [
        "!ls /bin"
      ],
      "execution_count": 60,
      "outputs": [
        {
          "output_type": "stream",
          "name": "stdout",
          "text": [
            "bash\t       hostname       su\n",
            "bunzip2        journalctl     sync\n",
            "bzcat\t       kill\t      systemctl\n",
            "bzcmp\t       kmod\t      systemd\n",
            "bzdiff\t       less\t      systemd-ask-password\n",
            "bzegrep        lessecho       systemd-escape\n",
            "bzexe\t       lessfile       systemd-hwdb\n",
            "bzfgrep        lesskey\t      systemd-inhibit\n",
            "bzgrep\t       lesspipe       systemd-machine-id-setup\n",
            "bzip2\t       ln\t      systemd-notify\n",
            "bzip2recover   login\t      systemd-sysusers\n",
            "bzless\t       loginctl       systemd-tmpfiles\n",
            "bzmore\t       ls\t      systemd-tty-ask-password-agent\n",
            "cat\t       lsblk\t      tar\n",
            "chgrp\t       lsmod\t      tempfile\n",
            "chmod\t       mkdir\t      touch\n",
            "chown\t       mknod\t      true\n",
            "cp\t       mktemp\t      udevadm\n",
            "dash\t       more\t      ulockmgr_server\n",
            "date\t       mount\t      umount\n",
            "dd\t       mountpoint     uname\n",
            "df\t       mv\t      uncompress\n",
            "dir\t       networkctl     vdir\n",
            "dmesg\t       nisdomainname  wdctl\n",
            "dnsdomainname  pidof\t      which\n",
            "domainname     ps\t      ypdomainname\n",
            "echo\t       pwd\t      zcat\n",
            "egrep\t       rbash\t      zcmp\n",
            "false\t       readlink       zdiff\n",
            "fgrep\t       rm\t      zegrep\n",
            "findmnt        rmdir\t      zfgrep\n",
            "fuser\t       run-parts      zforce\n",
            "fusermount     sed\t      zgrep\n",
            "grep\t       sh\t      zless\n",
            "gunzip\t       sh.distrib     zmore\n",
            "gzexe\t       sleep\t      znew\n",
            "gzip\t       stty\n"
          ]
        }
      ]
    },
    {
      "cell_type": "markdown",
      "metadata": {
        "id": "mtN0U84-vIwj"
      },
      "source": [
        "## Informações da máquina\n",
        "https://medium.com/@italojs/gpu-tpu-de-gra%C3%A7a-na-web-onde-como-e511780294c7"
      ]
    },
    {
      "cell_type": "markdown",
      "metadata": {
        "id": "_pq3FkFR3O6X"
      },
      "source": [
        "Dados da CPU"
      ]
    },
    {
      "cell_type": "code",
      "metadata": {
        "colab": {
          "base_uri": "https://localhost:8080/"
        },
        "id": "AEWISUG_3Rdr",
        "outputId": "9b41da25-ed24-4afa-ce13-8bccf08dfe82"
      },
      "source": [
        "!lscpu"
      ],
      "execution_count": 61,
      "outputs": [
        {
          "output_type": "stream",
          "name": "stdout",
          "text": [
            "Architecture:        x86_64\n",
            "CPU op-mode(s):      32-bit, 64-bit\n",
            "Byte Order:          Little Endian\n",
            "CPU(s):              2\n",
            "On-line CPU(s) list: 0,1\n",
            "Thread(s) per core:  2\n",
            "Core(s) per socket:  1\n",
            "Socket(s):           1\n",
            "NUMA node(s):        1\n",
            "Vendor ID:           GenuineIntel\n",
            "CPU family:          6\n",
            "Model:               79\n",
            "Model name:          Intel(R) Xeon(R) CPU @ 2.20GHz\n",
            "Stepping:            0\n",
            "CPU MHz:             2199.998\n",
            "BogoMIPS:            4399.99\n",
            "Hypervisor vendor:   KVM\n",
            "Virtualization type: full\n",
            "L1d cache:           32K\n",
            "L1i cache:           32K\n",
            "L2 cache:            256K\n",
            "L3 cache:            56320K\n",
            "NUMA node0 CPU(s):   0,1\n",
            "Flags:               fpu vme de pse tsc msr pae mce cx8 apic sep mtrr pge mca cmov pat pse36 clflush mmx fxsr sse sse2 ss ht syscall nx pdpe1gb rdtscp lm constant_tsc rep_good nopl xtopology nonstop_tsc cpuid tsc_known_freq pni pclmulqdq ssse3 fma cx16 pcid sse4_1 sse4_2 x2apic movbe popcnt aes xsave avx f16c rdrand hypervisor lahf_lm abm 3dnowprefetch invpcid_single ssbd ibrs ibpb stibp fsgsbase tsc_adjust bmi1 hle avx2 smep bmi2 erms invpcid rtm rdseed adx smap xsaveopt arat md_clear arch_capabilities\n"
          ]
        }
      ]
    },
    {
      "cell_type": "markdown",
      "metadata": {
        "id": "pGVepIwH0PMp"
      },
      "source": [
        "Dados das CPUs"
      ]
    },
    {
      "cell_type": "code",
      "metadata": {
        "colab": {
          "base_uri": "https://localhost:8080/"
        },
        "id": "pPdf46960QqZ",
        "outputId": "69d747dc-1057-4718-b98a-ebaad069241f"
      },
      "source": [
        "!cat /proc/cpuinfo"
      ],
      "execution_count": 62,
      "outputs": [
        {
          "output_type": "stream",
          "name": "stdout",
          "text": [
            "processor\t: 0\n",
            "vendor_id\t: GenuineIntel\n",
            "cpu family\t: 6\n",
            "model\t\t: 79\n",
            "model name\t: Intel(R) Xeon(R) CPU @ 2.20GHz\n",
            "stepping\t: 0\n",
            "microcode\t: 0x1\n",
            "cpu MHz\t\t: 2199.998\n",
            "cache size\t: 56320 KB\n",
            "physical id\t: 0\n",
            "siblings\t: 2\n",
            "core id\t\t: 0\n",
            "cpu cores\t: 1\n",
            "apicid\t\t: 0\n",
            "initial apicid\t: 0\n",
            "fpu\t\t: yes\n",
            "fpu_exception\t: yes\n",
            "cpuid level\t: 13\n",
            "wp\t\t: yes\n",
            "flags\t\t: fpu vme de pse tsc msr pae mce cx8 apic sep mtrr pge mca cmov pat pse36 clflush mmx fxsr sse sse2 ss ht syscall nx pdpe1gb rdtscp lm constant_tsc rep_good nopl xtopology nonstop_tsc cpuid tsc_known_freq pni pclmulqdq ssse3 fma cx16 pcid sse4_1 sse4_2 x2apic movbe popcnt aes xsave avx f16c rdrand hypervisor lahf_lm abm 3dnowprefetch invpcid_single ssbd ibrs ibpb stibp fsgsbase tsc_adjust bmi1 hle avx2 smep bmi2 erms invpcid rtm rdseed adx smap xsaveopt arat md_clear arch_capabilities\n",
            "bugs\t\t: cpu_meltdown spectre_v1 spectre_v2 spec_store_bypass l1tf mds swapgs taa\n",
            "bogomips\t: 4399.99\n",
            "clflush size\t: 64\n",
            "cache_alignment\t: 64\n",
            "address sizes\t: 46 bits physical, 48 bits virtual\n",
            "power management:\n",
            "\n",
            "processor\t: 1\n",
            "vendor_id\t: GenuineIntel\n",
            "cpu family\t: 6\n",
            "model\t\t: 79\n",
            "model name\t: Intel(R) Xeon(R) CPU @ 2.20GHz\n",
            "stepping\t: 0\n",
            "microcode\t: 0x1\n",
            "cpu MHz\t\t: 2199.998\n",
            "cache size\t: 56320 KB\n",
            "physical id\t: 0\n",
            "siblings\t: 2\n",
            "core id\t\t: 0\n",
            "cpu cores\t: 1\n",
            "apicid\t\t: 1\n",
            "initial apicid\t: 1\n",
            "fpu\t\t: yes\n",
            "fpu_exception\t: yes\n",
            "cpuid level\t: 13\n",
            "wp\t\t: yes\n",
            "flags\t\t: fpu vme de pse tsc msr pae mce cx8 apic sep mtrr pge mca cmov pat pse36 clflush mmx fxsr sse sse2 ss ht syscall nx pdpe1gb rdtscp lm constant_tsc rep_good nopl xtopology nonstop_tsc cpuid tsc_known_freq pni pclmulqdq ssse3 fma cx16 pcid sse4_1 sse4_2 x2apic movbe popcnt aes xsave avx f16c rdrand hypervisor lahf_lm abm 3dnowprefetch invpcid_single ssbd ibrs ibpb stibp fsgsbase tsc_adjust bmi1 hle avx2 smep bmi2 erms invpcid rtm rdseed adx smap xsaveopt arat md_clear arch_capabilities\n",
            "bugs\t\t: cpu_meltdown spectre_v1 spectre_v2 spec_store_bypass l1tf mds swapgs taa\n",
            "bogomips\t: 4399.99\n",
            "clflush size\t: 64\n",
            "cache_alignment\t: 64\n",
            "address sizes\t: 46 bits physical, 48 bits virtual\n",
            "power management:\n",
            "\n"
          ]
        }
      ]
    },
    {
      "cell_type": "markdown",
      "metadata": {
        "id": "aTs1kdPTyYTP"
      },
      "source": [
        "Qual GPU está sendo utilizada.<br>\n",
        "https://medium.com/deep-learning-turkey/google-colab-free-gpu-tutorial-e113627b9f5d\n"
      ]
    },
    {
      "cell_type": "code",
      "metadata": {
        "colab": {
          "base_uri": "https://localhost:8080/"
        },
        "id": "yT5-lyWkybd0",
        "outputId": "14fcc104-fc01-410f-8c31-67a58e0aa45b"
      },
      "source": [
        "#seleciona a versão do tensorflow\n",
        "%tensorflow_version 2.x\n",
        "\n",
        "#exibe as informações da gpu\n",
        "from tensorflow.python.client import device_lib\n",
        "device_lib.list_local_devices()"
      ],
      "execution_count": 63,
      "outputs": [
        {
          "output_type": "execute_result",
          "data": {
            "text/plain": [
              "[name: \"/device:CPU:0\"\n",
              " device_type: \"CPU\"\n",
              " memory_limit: 268435456\n",
              " locality {\n",
              " }\n",
              " incarnation: 8979983570299557668\n",
              " xla_global_id: -1]"
            ]
          },
          "metadata": {},
          "execution_count": 63
        }
      ]
    },
    {
      "cell_type": "code",
      "metadata": {
        "colab": {
          "base_uri": "https://localhost:8080/",
          "height": 35
        },
        "id": "dE5GXR6XiriH",
        "outputId": "b6dea433-9062-43cb-acc1-2cb8bc8da6ae"
      },
      "source": [
        "import tensorflow as tf\n",
        "tf.__version__"
      ],
      "execution_count": 64,
      "outputs": [
        {
          "output_type": "execute_result",
          "data": {
            "application/vnd.google.colaboratory.intrinsic+json": {
              "type": "string"
            },
            "text/plain": [
              "'2.7.0'"
            ]
          },
          "metadata": {},
          "execution_count": 64
        }
      ]
    },
    {
      "cell_type": "markdown",
      "metadata": {
        "id": "jizdOi1bz0Cr"
      },
      "source": [
        "Quantidade de memória"
      ]
    },
    {
      "cell_type": "code",
      "metadata": {
        "colab": {
          "base_uri": "https://localhost:8080/"
        },
        "id": "kF1eDgNqz10N",
        "outputId": "73ad6c8f-d442-4182-e0f0-200ae3cc0f1c"
      },
      "source": [
        "!cat /proc/meminfo"
      ],
      "execution_count": 65,
      "outputs": [
        {
          "output_type": "stream",
          "name": "stdout",
          "text": [
            "MemTotal:       13302924 kB\n",
            "MemFree:        10673620 kB\n",
            "MemAvailable:   12347304 kB\n",
            "Buffers:          119640 kB\n",
            "Cached:          1693348 kB\n",
            "SwapCached:            0 kB\n",
            "Active:          1102156 kB\n",
            "Inactive:        1321168 kB\n",
            "Active(anon):     563684 kB\n",
            "Inactive(anon):      468 kB\n",
            "Active(file):     538472 kB\n",
            "Inactive(file):  1320700 kB\n",
            "Unevictable:           0 kB\n",
            "Mlocked:               0 kB\n",
            "SwapTotal:             0 kB\n",
            "SwapFree:              0 kB\n",
            "Dirty:             14988 kB\n",
            "Writeback:             0 kB\n",
            "AnonPages:        610320 kB\n",
            "Mapped:           442068 kB\n",
            "Shmem:              1172 kB\n",
            "KReclaimable:     111972 kB\n",
            "Slab:             154248 kB\n",
            "SReclaimable:     111972 kB\n",
            "SUnreclaim:        42276 kB\n",
            "KernelStack:        4784 kB\n",
            "PageTables:         7844 kB\n",
            "NFS_Unstable:          0 kB\n",
            "Bounce:                0 kB\n",
            "WritebackTmp:          0 kB\n",
            "CommitLimit:     6651460 kB\n",
            "Committed_AS:    3299280 kB\n",
            "VmallocTotal:   34359738367 kB\n",
            "VmallocUsed:        7196 kB\n",
            "VmallocChunk:          0 kB\n",
            "Percpu:             1424 kB\n",
            "AnonHugePages:         0 kB\n",
            "ShmemHugePages:        0 kB\n",
            "ShmemPmdMapped:        0 kB\n",
            "FileHugePages:         0 kB\n",
            "FilePmdMapped:         0 kB\n",
            "CmaTotal:              0 kB\n",
            "CmaFree:               0 kB\n",
            "HugePages_Total:       0\n",
            "HugePages_Free:        0\n",
            "HugePages_Rsvd:        0\n",
            "HugePages_Surp:        0\n",
            "Hugepagesize:       2048 kB\n",
            "Hugetlb:               0 kB\n",
            "DirectMap4k:       84800 kB\n",
            "DirectMap2M:     5154816 kB\n",
            "DirectMap1G:    10485760 kB\n"
          ]
        }
      ]
    },
    {
      "cell_type": "markdown",
      "metadata": {
        "id": "-9Q36nbXv37R"
      },
      "source": [
        "Dados do Sistema Operacional"
      ]
    },
    {
      "cell_type": "code",
      "metadata": {
        "colab": {
          "base_uri": "https://localhost:8080/"
        },
        "id": "_kVoPBb-v6uB",
        "outputId": "ac7cdfa6-03b7-4684-823e-26aa9607dc04"
      },
      "source": [
        "!cat /etc/os-release"
      ],
      "execution_count": 66,
      "outputs": [
        {
          "output_type": "stream",
          "name": "stdout",
          "text": [
            "NAME=\"Ubuntu\"\n",
            "VERSION=\"18.04.5 LTS (Bionic Beaver)\"\n",
            "ID=ubuntu\n",
            "ID_LIKE=debian\n",
            "PRETTY_NAME=\"Ubuntu 18.04.5 LTS\"\n",
            "VERSION_ID=\"18.04\"\n",
            "HOME_URL=\"https://www.ubuntu.com/\"\n",
            "SUPPORT_URL=\"https://help.ubuntu.com/\"\n",
            "BUG_REPORT_URL=\"https://bugs.launchpad.net/ubuntu/\"\n",
            "PRIVACY_POLICY_URL=\"https://www.ubuntu.com/legal/terms-and-policies/privacy-policy\"\n",
            "VERSION_CODENAME=bionic\n",
            "UBUNTU_CODENAME=bionic\n"
          ]
        }
      ]
    },
    {
      "cell_type": "markdown",
      "metadata": {
        "id": "sEgR7FQIu1x1"
      },
      "source": [
        "Tamanho do disco"
      ]
    },
    {
      "cell_type": "code",
      "metadata": {
        "colab": {
          "base_uri": "https://localhost:8080/"
        },
        "id": "xnG2d1n2u-ll",
        "outputId": "730e19bc-f12e-4443-ecb3-c5eb84f599fb"
      },
      "source": [
        "!df -k ."
      ],
      "execution_count": 67,
      "outputs": [
        {
          "output_type": "stream",
          "name": "stdout",
          "text": [
            "Filesystem     1K-blocks     Used Available Use% Mounted on\n",
            "overlay        112947452 43709636  69221432  39% /\n"
          ]
        }
      ]
    },
    {
      "cell_type": "markdown",
      "metadata": {
        "id": "UnONs-014Emq"
      },
      "source": [
        "Tamanho dos diretórios"
      ]
    },
    {
      "cell_type": "code",
      "metadata": {
        "colab": {
          "base_uri": "https://localhost:8080/"
        },
        "id": "fP7QDSIH4GkF",
        "outputId": "2508a4b1-6f32-435d-b928-214eb2f9ff18"
      },
      "source": [
        "!df -h"
      ],
      "execution_count": 68,
      "outputs": [
        {
          "output_type": "stream",
          "name": "stdout",
          "text": [
            "Filesystem      Size  Used Avail Use% Mounted on\n",
            "overlay         108G   42G   67G  39% /\n",
            "tmpfs            64M     0   64M   0% /dev\n",
            "shm             5.8G     0  5.8G   0% /dev/shm\n",
            "/dev/root       2.0G  1.2G  821M  59% /sbin/docker-init\n",
            "tmpfs           6.4G   28K  6.4G   1% /var/colab\n",
            "/dev/sda1        81G   46G   36G  57% /etc/hosts\n",
            "tmpfs           6.4G     0  6.4G   0% /proc/acpi\n",
            "tmpfs           6.4G     0  6.4G   0% /proc/scsi\n",
            "tmpfs           6.4G     0  6.4G   0% /sys/firmware\n"
          ]
        }
      ]
    },
    {
      "cell_type": "markdown",
      "metadata": {
        "id": "9NZh26yI-Zt2"
      },
      "source": [
        "shell interativo\n",
        "\n",
        "Não há terminal interativo embutido no Colab. Mas você pode usar o comando bash para experimentar comandos shell interativamente. Basta executar este comando e você obterá uma entrada interativa.\n",
        "\n",
        "Descomente a linha da célula para usar o shel interativo.\n",
        "\n"
      ]
    },
    {
      "cell_type": "code",
      "metadata": {
        "id": "14Koj0ha-Z6G"
      },
      "source": [
        "#!bash"
      ],
      "execution_count": 69,
      "outputs": []
    },
    {
      "cell_type": "markdown",
      "metadata": {
        "id": "_rR4E0gVcMP-"
      },
      "source": [
        "Lista o conteúdo de um diretório"
      ]
    },
    {
      "cell_type": "code",
      "metadata": {
        "colab": {
          "base_uri": "https://localhost:8080/"
        },
        "id": "DfALVqDHcOzP",
        "outputId": "d17739b0-9b56-4b51-961b-f88f0145cac7"
      },
      "source": [
        "!ls"
      ],
      "execution_count": 70,
      "outputs": [
        {
          "output_type": "stream",
          "name": "stdout",
          "text": [
            "sample_data\n"
          ]
        }
      ]
    },
    {
      "cell_type": "markdown",
      "metadata": {
        "id": "FX63sT_HcP24"
      },
      "source": [
        "Entrando em um diretório\n",
        "\n",
        "1- Vai para o diretório raiz.\n",
        "\n",
        "2 - Lista o diretório\n",
        "\n",
        "3- Entra no diretório `content`.\n"
      ]
    },
    {
      "cell_type": "code",
      "metadata": {
        "colab": {
          "base_uri": "https://localhost:8080/"
        },
        "id": "7eXB8mC-c9Ze",
        "outputId": "4083576c-f470-4e09-b683-dc86924ff0bf"
      },
      "source": [
        "%cd /\n",
        "!ls\n",
        "%cd /content/"
      ],
      "execution_count": 71,
      "outputs": [
        {
          "output_type": "stream",
          "name": "stdout",
          "text": [
            "/\n",
            "bin\t datalab  home\t lib64\topt\t    root  srv\t\t     tmp    var\n",
            "boot\t dev\t  lib\t media\tproc\t    run   sys\t\t     tools\n",
            "content  etc\t  lib32  mnt\tpython-apt  sbin  tensorflow-1.15.2  usr\n",
            "/content\n"
          ]
        }
      ]
    },
    {
      "cell_type": "markdown",
      "metadata": {
        "id": "7riyQA9wdLUs"
      },
      "source": [
        "O comando \"%%writefile nomeArquivo\" no início da célula salva o conteúdo no arquivo nomeArquivo."
      ]
    },
    {
      "cell_type": "code",
      "metadata": {
        "colab": {
          "base_uri": "https://localhost:8080/"
        },
        "id": "ZHMqoLEBdN8c",
        "outputId": "6e9be07a-3315-451b-9b97-e9fd1f0e468b"
      },
      "source": [
        "%%writefile arquivo.txt\n",
        "Alo Mundo!"
      ],
      "execution_count": 72,
      "outputs": [
        {
          "output_type": "stream",
          "name": "stdout",
          "text": [
            "Writing arquivo.txt\n"
          ]
        }
      ]
    },
    {
      "cell_type": "code",
      "metadata": {
        "colab": {
          "base_uri": "https://localhost:8080/"
        },
        "id": "9PbyMDZCfhtK",
        "outputId": "8b4a5cdc-8f52-4728-e541-e1944002d86b"
      },
      "source": [
        "!cat arquivo.txt"
      ],
      "execution_count": 73,
      "outputs": [
        {
          "output_type": "stream",
          "name": "stdout",
          "text": [
            "Alo Mundo!"
          ]
        }
      ]
    },
    {
      "cell_type": "markdown",
      "metadata": {
        "id": "p4xA41jV_O27"
      },
      "source": [
        "# Traduzindo Texto\n",
        "\n"
      ]
    },
    {
      "cell_type": "markdown",
      "metadata": {
        "id": "JGJFuBkxP3si"
      },
      "source": [
        "## Google Translator\n",
        "https://pypi.org/project/googletrans/\n"
      ]
    },
    {
      "cell_type": "code",
      "metadata": {
        "colab": {
          "base_uri": "https://localhost:8080/"
        },
        "id": "5YXOnnF9F-Bb",
        "outputId": "339235c8-9e45-4842-aa01-49112f04182c"
      },
      "source": [
        "#!pip install googletrans \n",
        "!pip install googletrans==3.1.0a0 #Versão específica que funciona"
      ],
      "execution_count": 74,
      "outputs": [
        {
          "output_type": "stream",
          "name": "stdout",
          "text": [
            "Collecting googletrans==3.1.0a0\n",
            "  Downloading googletrans-3.1.0a0.tar.gz (19 kB)\n",
            "Collecting httpx==0.13.3\n",
            "  Downloading httpx-0.13.3-py3-none-any.whl (55 kB)\n",
            "\u001b[K     |████████████████████████████████| 55 kB 3.0 MB/s \n",
            "\u001b[?25hRequirement already satisfied: certifi in /usr/local/lib/python3.7/dist-packages (from httpx==0.13.3->googletrans==3.1.0a0) (2021.10.8)\n",
            "Collecting sniffio\n",
            "  Downloading sniffio-1.2.0-py3-none-any.whl (10 kB)\n",
            "Requirement already satisfied: idna==2.* in /usr/local/lib/python3.7/dist-packages (from httpx==0.13.3->googletrans==3.1.0a0) (2.10)\n",
            "Collecting httpcore==0.9.*\n",
            "  Downloading httpcore-0.9.1-py3-none-any.whl (42 kB)\n",
            "\u001b[K     |████████████████████████████████| 42 kB 1.1 MB/s \n",
            "\u001b[?25hCollecting hstspreload\n",
            "  Downloading hstspreload-2021.12.1-py3-none-any.whl (1.3 MB)\n",
            "\u001b[K     |████████████████████████████████| 1.3 MB 22.3 MB/s \n",
            "\u001b[?25hCollecting rfc3986<2,>=1.3\n",
            "  Downloading rfc3986-1.5.0-py2.py3-none-any.whl (31 kB)\n",
            "Requirement already satisfied: chardet==3.* in /usr/local/lib/python3.7/dist-packages (from httpx==0.13.3->googletrans==3.1.0a0) (3.0.4)\n",
            "Collecting h11<0.10,>=0.8\n",
            "  Downloading h11-0.9.0-py2.py3-none-any.whl (53 kB)\n",
            "\u001b[K     |████████████████████████████████| 53 kB 1.9 MB/s \n",
            "\u001b[?25hCollecting h2==3.*\n",
            "  Downloading h2-3.2.0-py2.py3-none-any.whl (65 kB)\n",
            "\u001b[K     |████████████████████████████████| 65 kB 3.3 MB/s \n",
            "\u001b[?25hCollecting hyperframe<6,>=5.2.0\n",
            "  Downloading hyperframe-5.2.0-py2.py3-none-any.whl (12 kB)\n",
            "Collecting hpack<4,>=3.0\n",
            "  Downloading hpack-3.0.0-py2.py3-none-any.whl (38 kB)\n",
            "Building wheels for collected packages: googletrans\n",
            "  Building wheel for googletrans (setup.py) ... \u001b[?25l\u001b[?25hdone\n",
            "  Created wheel for googletrans: filename=googletrans-3.1.0a0-py3-none-any.whl size=16367 sha256=c845390e5af04bfb3ba17e2e428c4d0b0c0aaceb153f30bbeb2fff3a0f103fc7\n",
            "  Stored in directory: /root/.cache/pip/wheels/0c/be/fe/93a6a40ffe386e16089e44dad9018ebab9dc4cb9eb7eab65ae\n",
            "Successfully built googletrans\n",
            "Installing collected packages: hyperframe, hpack, sniffio, h2, h11, rfc3986, httpcore, hstspreload, httpx, googletrans\n",
            "Successfully installed googletrans-3.1.0a0 h11-0.9.0 h2-3.2.0 hpack-3.0.0 hstspreload-2021.12.1 httpcore-0.9.1 httpx-0.13.3 hyperframe-5.2.0 rfc3986-1.5.0 sniffio-1.2.0\n"
          ]
        }
      ]
    },
    {
      "cell_type": "markdown",
      "metadata": {
        "id": "HWM6F3-u1-t2"
      },
      "source": [
        "Traduzindo lista de frases"
      ]
    },
    {
      "cell_type": "code",
      "metadata": {
        "colab": {
          "base_uri": "https://localhost:8080/"
        },
        "id": "r00hvXf4luYJ",
        "outputId": "9ddd9923-70a9-4eef-e2c8-787f69bd995d"
      },
      "source": [
        "from googletrans import Translator\n",
        "\n",
        "tradutor = Translator()\n",
        "\n",
        "fraseEn = ['The sky is blue.','The book is on the table.']\n",
        "\n",
        "traducoes = tradutor.translate(fraseEn, src='en', dest='pt')  \n",
        "\n",
        "for traducao in traducoes:\n",
        "    print(traducao.origin, ' -> ', traducao.text)"
      ],
      "execution_count": 75,
      "outputs": [
        {
          "output_type": "stream",
          "name": "stdout",
          "text": [
            "The sky is blue.  ->  O céu é azul.\n",
            "The book is on the table.  ->  O livro está sobre a mesa.\n"
          ]
        }
      ]
    },
    {
      "cell_type": "markdown",
      "metadata": {
        "id": "m1qZn4w_2Cpu"
      },
      "source": [
        "Traduzindo uma frase"
      ]
    },
    {
      "cell_type": "code",
      "metadata": {
        "colab": {
          "base_uri": "https://localhost:8080/"
        },
        "id": "OU7MViWB0q7m",
        "outputId": "93ea6d80-e040-4b97-eafc-e4c30b96e99b"
      },
      "source": [
        "from googletrans import Translator\n",
        "\n",
        "tradutor = Translator()\n",
        "\n",
        "fraseEn = 'The sky is blue.'\n",
        "\n",
        "traducao = tradutor.translate(fraseEn, src='en', dest='pt')  \n",
        "\n",
        "print(fraseEn)\n",
        "print(traducao)\n",
        "print(traducao.src)\n",
        "print(traducao.dest)\n",
        "if traducao.src == traducao.dest:\n",
        "    print(\"Não foi traduzido\")"
      ],
      "execution_count": 76,
      "outputs": [
        {
          "output_type": "stream",
          "name": "stdout",
          "text": [
            "The sky is blue.\n",
            "Translated(src=en, dest=pt, text=O céu é azul., pronunciation=The sky is blue., extra_data=\"{'translat...\")\n",
            "en\n",
            "pt\n"
          ]
        }
      ]
    },
    {
      "cell_type": "markdown",
      "metadata": {
        "id": "uSQmwK50GQT8"
      },
      "source": [
        "### Versão alternativa\n",
        "\n",
        "https://pypi.org/project/google-trans-new/"
      ]
    },
    {
      "cell_type": "code",
      "metadata": {
        "colab": {
          "base_uri": "https://localhost:8080/"
        },
        "id": "aTVQoxuF_kbP",
        "outputId": "debec4bc-a872-4ffd-82cc-8c3bd48232f8"
      },
      "source": [
        "!pip install google_trans_new"
      ],
      "execution_count": 77,
      "outputs": [
        {
          "output_type": "stream",
          "name": "stdout",
          "text": [
            "Collecting google_trans_new\n",
            "  Downloading google_trans_new-1.1.9-py3-none-any.whl (9.2 kB)\n",
            "Installing collected packages: google-trans-new\n",
            "Successfully installed google-trans-new-1.1.9\n"
          ]
        }
      ]
    },
    {
      "cell_type": "code",
      "metadata": {
        "id": "_3YjFRoxsfid"
      },
      "source": [
        "from google_trans_new import google_translator  \n",
        "\n",
        "translator = google_translator()  \n",
        "\n",
        "fraseEn = \"The sky is blue.\"\n",
        "\n",
        "# Erro \n",
        "#frasePtBr = translator.translate(fraseEn,lang_tgt='pt')  \n",
        "\n",
        "#print(frasePtBr)"
      ],
      "execution_count": 78,
      "outputs": []
    },
    {
      "cell_type": "markdown",
      "metadata": {
        "id": "h3XCRcKvpDNE"
      },
      "source": [
        "### Outra versão"
      ]
    },
    {
      "cell_type": "code",
      "metadata": {
        "id": "MwTGtNhbnmg9",
        "colab": {
          "base_uri": "https://localhost:8080/"
        },
        "outputId": "98061f0c-da9c-4d98-f935-afbe8eb4da98"
      },
      "source": [
        "!pip install translate"
      ],
      "execution_count": 79,
      "outputs": [
        {
          "output_type": "stream",
          "name": "stdout",
          "text": [
            "Collecting translate\n",
            "  Downloading translate-3.6.1-py2.py3-none-any.whl (12 kB)\n",
            "Requirement already satisfied: click in /usr/local/lib/python3.7/dist-packages (from translate) (7.1.2)\n",
            "Requirement already satisfied: requests in /usr/local/lib/python3.7/dist-packages (from translate) (2.23.0)\n",
            "Requirement already satisfied: lxml in /usr/local/lib/python3.7/dist-packages (from translate) (4.2.6)\n",
            "Collecting libretranslatepy==2.1.1\n",
            "  Downloading libretranslatepy-2.1.1-py3-none-any.whl (3.2 kB)\n",
            "Requirement already satisfied: urllib3!=1.25.0,!=1.25.1,<1.26,>=1.21.1 in /usr/local/lib/python3.7/dist-packages (from requests->translate) (1.24.3)\n",
            "Requirement already satisfied: idna<3,>=2.5 in /usr/local/lib/python3.7/dist-packages (from requests->translate) (2.10)\n",
            "Requirement already satisfied: chardet<4,>=3.0.2 in /usr/local/lib/python3.7/dist-packages (from requests->translate) (3.0.4)\n",
            "Requirement already satisfied: certifi>=2017.4.17 in /usr/local/lib/python3.7/dist-packages (from requests->translate) (2021.10.8)\n",
            "Installing collected packages: libretranslatepy, translate\n",
            "Successfully installed libretranslatepy-2.1.1 translate-3.6.1\n"
          ]
        }
      ]
    },
    {
      "cell_type": "code",
      "metadata": {
        "id": "D5DzX76cnjpm",
        "colab": {
          "base_uri": "https://localhost:8080/"
        },
        "outputId": "16ddc94f-48e2-464f-8fd9-eadf8bdff916"
      },
      "source": [
        "from translate import Translator\n",
        "\n",
        "tradutor = Translator(from_lang=\"english\", to_lang=\"pt-br\")\n",
        "\n",
        "fraseEn = 'The sky is blue.'\n",
        "\n",
        "frasePtBR = tradutor.translate(fraseEn)\n",
        "\n",
        "print(frasePtBR)"
      ],
      "execution_count": 80,
      "outputs": [
        {
          "output_type": "stream",
          "name": "stdout",
          "text": [
            "O céu é azul.\n"
          ]
        }
      ]
    },
    {
      "cell_type": "markdown",
      "metadata": {
        "id": "_-uC2Yk7yQur"
      },
      "source": [
        "#Remove Tags HTML do texto\n",
        "\n",
        "https://code.launchpad.net/beautifulsoup/\n"
      ]
    },
    {
      "cell_type": "code",
      "metadata": {
        "id": "modQjr4AyUpn",
        "colab": {
          "base_uri": "https://localhost:8080/"
        },
        "outputId": "792a8562-9ccc-4319-f6c4-4e06fec929dd"
      },
      "source": [
        "from bs4 import BeautifulSoup\n",
        "\n",
        "mensagemhtml = \"<html><p>Mensagem do HTML</p></html>\"\n",
        "\n",
        "soup = BeautifulSoup(mensagemhtml)\n",
        "\n",
        "mensagemlimpa = soup.get_text()\n",
        "\n",
        "print(mensagemhtml)\n",
        "\n",
        "print(mensagemlimpa)"
      ],
      "execution_count": 81,
      "outputs": [
        {
          "output_type": "stream",
          "name": "stdout",
          "text": [
            "<html><p>Mensagem do HTML</p></html>\n",
            "Mensagem do HTML\n"
          ]
        }
      ]
    },
    {
      "cell_type": "markdown",
      "metadata": {
        "id": "KPkDUbfeg9H7"
      },
      "source": [
        "#Funções\n",
        "\n",
        "Artigo sobre parâmetros, argumentos, *args e \\***kwargs.\n",
        "\n",
        "https://medium.com/luizalabs/fun%C3%A7%C3%B5es-em-python-entendendo-par%C3%A2metros-argumentos-args-e-kwargs-4291b1f817f6"
      ]
    },
    {
      "cell_type": "markdown",
      "metadata": {
        "id": "8U4rSmgUf30l"
      },
      "source": [
        "##Funções com quantidade de parâmetros indeterminados\n",
        "\n",
        "Com o uso de um * (asterisco) podemos criar funções com números indeterminados de parâmetros.\n"
      ]
    },
    {
      "cell_type": "code",
      "metadata": {
        "id": "1l7Kpy-wf30m",
        "colab": {
          "base_uri": "https://localhost:8080/"
        },
        "outputId": "bea5a835-33fd-444f-db63-765ebb8e8304"
      },
      "source": [
        "# Declara a função\n",
        "def soma(*valores):\n",
        "    soma = 0 \n",
        "    for i in valores:\n",
        "        soma += i\n",
        "    return soma\n",
        "\n",
        "\n",
        "# Utiliza a função\n",
        "print(soma(1,2,3))\n",
        "print(soma(1,2,3,4))"
      ],
      "execution_count": 82,
      "outputs": [
        {
          "output_type": "stream",
          "name": "stdout",
          "text": [
            "6\n",
            "10\n"
          ]
        }
      ]
    },
    {
      "cell_type": "markdown",
      "metadata": {
        "id": "fIP4lbqu9Z0z"
      },
      "source": [
        "##Funções como parâmetros de funções"
      ]
    },
    {
      "cell_type": "code",
      "metadata": {
        "id": "cpUNK-rc9cxo"
      },
      "source": [
        "# Função a ser usada como argumento\n",
        "def fatorial(n):\n",
        "  fat = 1\n",
        "  for x in range(1,n+1):\n",
        "      fat = fat * x\n",
        "  return fat"
      ],
      "execution_count": 83,
      "outputs": []
    },
    {
      "cell_type": "code",
      "metadata": {
        "id": "vm9jnvB89-Jk"
      },
      "source": [
        "# Chama a função passada como argumento e especifica o argumento\n",
        "def chamada(funcao, argumento):\n",
        "  return funcao(argumento)"
      ],
      "execution_count": 84,
      "outputs": []
    },
    {
      "cell_type": "code",
      "metadata": {
        "id": "3SpFetlB9nLH",
        "colab": {
          "base_uri": "https://localhost:8080/"
        },
        "outputId": "a74db448-514e-4815-e0f3-d9d1b1d26409"
      },
      "source": [
        "# Chama a função passando a função fatorial e o argumento 3\n",
        "print(chamada(fatorial,3))"
      ],
      "execution_count": 85,
      "outputs": [
        {
          "output_type": "stream",
          "name": "stdout",
          "text": [
            "6\n"
          ]
        }
      ]
    },
    {
      "cell_type": "markdown",
      "metadata": {
        "id": "PMn9AwJNgJQm"
      },
      "source": [
        "##Funções Lambda\n",
        "\n",
        "Também conhecida como funções anônimas, as funções lambdas permite implementar uma função específica em um único bloco de instrução, sem a necessidade de definir uma função usando a palavra def. A diferença entre as funções são que:\n",
        "\n",
        "* def - cria um objeto internamente colocando o nome da função apontando para ele.\n",
        "* lambda - cria um objeto, porém o retorno é efetuado em tempo de execução.\n",
        "\n",
        "Sintaxe: lambda arg1,...,argN:expressão\n",
        "\n",
        "Exemplos de função utilizando a expressão lambda:"
      ]
    },
    {
      "cell_type": "code",
      "metadata": {
        "id": "ZG82UpBxgT4n",
        "colab": {
          "base_uri": "https://localhost:8080/"
        },
        "outputId": "5078cf50-6256-47ce-bb0d-9ea222c4ebd8"
      },
      "source": [
        "# Declaração\n",
        "exponencial = lambda x:x*2\n",
        "\n",
        "# Utiliza a função\n",
        "exponencial(8)"
      ],
      "execution_count": 86,
      "outputs": [
        {
          "output_type": "execute_result",
          "data": {
            "text/plain": [
              "16"
            ]
          },
          "metadata": {},
          "execution_count": 86
        }
      ]
    },
    {
      "cell_type": "code",
      "metadata": {
        "id": "bQMl20WagYB3",
        "colab": {
          "base_uri": "https://localhost:8080/"
        },
        "outputId": "980fbdd3-3f4a-43b2-c566-f49cf2da1364"
      },
      "source": [
        "# Declaração\n",
        "situacao = lambda nota:nota >= 6\n",
        "\n",
        "# Utiliza a função\n",
        "situacao(7)"
      ],
      "execution_count": 87,
      "outputs": [
        {
          "output_type": "execute_result",
          "data": {
            "text/plain": [
              "True"
            ]
          },
          "metadata": {},
          "execution_count": 87
        }
      ]
    },
    {
      "cell_type": "code",
      "metadata": {
        "id": "pORa0WrNglxE",
        "colab": {
          "base_uri": "https://localhost:8080/",
          "height": 35
        },
        "outputId": "e0575328-2767-45bc-91ec-e67188e9d876"
      },
      "source": [
        "# Declaração\n",
        "invertido = lambda palavra:palavra[::-1]\n",
        "\n",
        "# Utiliza a função\n",
        "invertido('Python')"
      ],
      "execution_count": 88,
      "outputs": [
        {
          "output_type": "execute_result",
          "data": {
            "application/vnd.google.colaboratory.intrinsic+json": {
              "type": "string"
            },
            "text/plain": [
              "'nohtyP'"
            ]
          },
          "metadata": {},
          "execution_count": 88
        }
      ]
    },
    {
      "cell_type": "code",
      "metadata": {
        "id": "UmrUGgJigsVI",
        "colab": {
          "base_uri": "https://localhost:8080/"
        },
        "outputId": "c4bbf507-bf28-479a-f0f0-ad43ae0a3b28"
      },
      "source": [
        "# Declaração\n",
        "produto = lambda x,y,z:x*y*z\n",
        "\n",
        "# Utiliza a função\n",
        "produto(3,9,18)"
      ],
      "execution_count": 89,
      "outputs": [
        {
          "output_type": "execute_result",
          "data": {
            "text/plain": [
              "486"
            ]
          },
          "metadata": {},
          "execution_count": 89
        }
      ]
    },
    {
      "cell_type": "markdown",
      "metadata": {
        "id": "GM-MnEYKhFgS"
      },
      "source": [
        "## Função Map\n",
        "A função map aplica uma função a todos os elementos de uma lista sem a necessidade de utilizar um loop for, retornando uma nova lista com os elementos alterados pela função escolhida.\n",
        "\n",
        "Sintaxe: map(fun, seq)"
      ]
    },
    {
      "cell_type": "markdown",
      "metadata": {
        "id": "6sTGPKQfhjaV"
      },
      "source": [
        "Soma de 2 listas"
      ]
    },
    {
      "cell_type": "code",
      "metadata": {
        "id": "f6rdYblNhvS2",
        "colab": {
          "base_uri": "https://localhost:8080/"
        },
        "outputId": "349d0b23-50b2-44b7-8419-bb98ea51d2a8"
      },
      "source": [
        "# Declaração\n",
        "L1 = [10, 20, 30, 40, 50]\n",
        "L2 = [1, 2, 3, 4, 5]\n",
        "\n",
        "# Utiliza a função\n",
        "soma = list(map(lambda a,b:a+b, L1, L2))\n",
        "\n",
        "print(soma)"
      ],
      "execution_count": 90,
      "outputs": [
        {
          "output_type": "stream",
          "name": "stdout",
          "text": [
            "[11, 22, 33, 44, 55]\n"
          ]
        }
      ]
    },
    {
      "cell_type": "markdown",
      "metadata": {
        "id": "qOAjikQYhh0V"
      },
      "source": [
        "Soma de 3 listas"
      ]
    },
    {
      "cell_type": "code",
      "metadata": {
        "id": "iNJ52TyQhhRZ",
        "colab": {
          "base_uri": "https://localhost:8080/"
        },
        "outputId": "ed4a2698-28ce-4e95-fcd8-ee90a540a06d"
      },
      "source": [
        "# Declaração\n",
        "L1 = [10, 20, 30, 40, 50]\n",
        "L2 = [1, 2, 3, 4, 5]\n",
        "L3 = [11, 22, 33, 44, 55]\n",
        "\n",
        "# Utiliza a função\n",
        "soma = list(map(lambda a,b,c:a+b+c, L1, L2, L3))\n",
        "\n",
        "print(soma)"
      ],
      "execution_count": 91,
      "outputs": [
        {
          "output_type": "stream",
          "name": "stdout",
          "text": [
            "[22, 44, 66, 88, 110]\n"
          ]
        }
      ]
    },
    {
      "cell_type": "markdown",
      "metadata": {
        "id": "LxaFpeJNh8oP"
      },
      "source": [
        "## Função Reduce\n",
        "\n",
        "Aplica uma função em todos os elementos da lista, retornando um único valor. É necessário importar a biblioteca functools para utilizar a função reduce.\n",
        "\n",
        "Sintaxe: reduce(fun, seq)"
      ]
    },
    {
      "cell_type": "code",
      "metadata": {
        "id": "F1_VrxAMiBL-",
        "colab": {
          "base_uri": "https://localhost:8080/"
        },
        "outputId": "b6dc73e7-bee8-4fab-ab90-0fface8e0b52"
      },
      "source": [
        "from functools import reduce\n",
        "\n",
        "# Declaração\n",
        "L1 = [1, 2, 3, 4, 5]\n",
        "\n",
        "# Utiliza a função\n",
        "soma = reduce((lambda x,y:x+y), L1) #((((1+2)+3)+4)+5)\n",
        "\n",
        "print(soma)"
      ],
      "execution_count": 92,
      "outputs": [
        {
          "output_type": "stream",
          "name": "stdout",
          "text": [
            "15\n"
          ]
        }
      ]
    },
    {
      "cell_type": "markdown",
      "metadata": {
        "id": "WUKwvSaxiKfK"
      },
      "source": [
        "## Função Filter\n",
        "\n",
        "A função filter nos permite filtrar elementos de uma sequência de valores.\n",
        "\n",
        "Sintaxe: filter(fun, seq)"
      ]
    },
    {
      "cell_type": "code",
      "metadata": {
        "id": "LjbBn49qiOQw",
        "colab": {
          "base_uri": "https://localhost:8080/"
        },
        "outputId": "dd07d537-4b6e-4a69-f0e2-5d00dde396e7"
      },
      "source": [
        "# Declaração\n",
        "L1 = [1, 2, 3, 4, 5, 6, 7, 8, 9, 10]\n",
        "\n",
        "# Utiliza a função\n",
        "filtro = list(filter(lambda x: x%2==0, L1)) #fitra os pares\n",
        "\n",
        "print(filtro)"
      ],
      "execution_count": 93,
      "outputs": [
        {
          "output_type": "stream",
          "name": "stdout",
          "text": [
            "[2, 4, 6, 8, 10]\n"
          ]
        }
      ]
    },
    {
      "cell_type": "markdown",
      "metadata": {
        "id": "-VluuxMbiXqN"
      },
      "source": [
        "## Função Zip\n",
        "\n",
        "A função zip nos retorna o agrupamento de duas sequências em uma tupla. Ao ser aplicado em sequências com tamanhos diferentes, o número de tuplas será igual ao número da menor sequência de valores.\n",
        "\n",
        "Sintaxe: zip(seq,seq)"
      ]
    },
    {
      "cell_type": "code",
      "metadata": {
        "id": "92DJXz_DiaNk",
        "colab": {
          "base_uri": "https://localhost:8080/"
        },
        "outputId": "acfa0700-ce8f-48b2-e02e-3a362c3da2ca"
      },
      "source": [
        "# Declaração\n",
        "L1 = [1, 3, 5, 7, 9]\n",
        "L2 = [2, 4, 6, 8, 10]\n",
        "\n",
        "# Utiliza a função\n",
        "LZIP = zip(L1,L2)\n",
        "\n",
        "print(LZIP)"
      ],
      "execution_count": 94,
      "outputs": [
        {
          "output_type": "stream",
          "name": "stdout",
          "text": [
            "<zip object at 0x7f1f0aeebaa0>\n"
          ]
        }
      ]
    },
    {
      "cell_type": "markdown",
      "metadata": {
        "id": "tMJ0zkTyilOt"
      },
      "source": [
        "O retorno da zip é um iterador, precisamos usar a função list() para obter uma lista."
      ]
    },
    {
      "cell_type": "code",
      "metadata": {
        "id": "H2o7_n4rilzL",
        "colab": {
          "base_uri": "https://localhost:8080/"
        },
        "outputId": "8e823ac4-706b-4819-af8e-51986966f121"
      },
      "source": [
        "print(list(LZIP))"
      ],
      "execution_count": 95,
      "outputs": [
        {
          "output_type": "stream",
          "name": "stdout",
          "text": [
            "[(1, 2), (3, 4), (5, 6), (7, 8), (9, 10)]\n"
          ]
        }
      ]
    },
    {
      "cell_type": "markdown",
      "metadata": {
        "id": "u4vcAQXmisl-"
      },
      "source": [
        "Exemplo com listas de tamanhos diferentes."
      ]
    },
    {
      "cell_type": "code",
      "metadata": {
        "id": "Y7K5i8GTiuqo",
        "colab": {
          "base_uri": "https://localhost:8080/"
        },
        "outputId": "8efe2d7d-cd18-4966-a69f-c6aee9112d30"
      },
      "source": [
        "# Declaração\n",
        "L3 = [1, 2, 3, 4, 5]\n",
        "L4 = [22, 11]\n",
        "\n",
        "# Utiliza a função\n",
        "LZIP = list(zip(L3,L4))\n",
        "\n",
        "print(list(LZIP))"
      ],
      "execution_count": 96,
      "outputs": [
        {
          "output_type": "stream",
          "name": "stdout",
          "text": [
            "[(1, 22), (2, 11)]\n"
          ]
        }
      ]
    },
    {
      "cell_type": "markdown",
      "metadata": {
        "id": "-vnZtDA7jG9p"
      },
      "source": [
        "Em dicionários"
      ]
    },
    {
      "cell_type": "code",
      "metadata": {
        "id": "uIplscX4jIct",
        "colab": {
          "base_uri": "https://localhost:8080/"
        },
        "outputId": "8df8300f-dcd1-47c7-86d9-6a068b6c7ea0"
      },
      "source": [
        "# Dicionários\n",
        "dic1 = {'a':1, 'b':2, 'c':3, 'd':4}\n",
        "dic2 = {'aa':11, 'bb':22, 'cc':33, 'dd':44}\n",
        "\n",
        "# A função zip faz a união pelas chaves\n",
        "print(list(zip(dic1,dic2)))\n",
        "\n",
        "# Unindo pelos valores\n",
        "print(list(zip(dic1.values(),dic2.values())))\n",
        "\n",
        "# Unindo chaves com valores\n",
        "print(list(zip(dic1,dic2.values())))"
      ],
      "execution_count": 97,
      "outputs": [
        {
          "output_type": "stream",
          "name": "stdout",
          "text": [
            "[('a', 'aa'), ('b', 'bb'), ('c', 'cc'), ('d', 'dd')]\n",
            "[(1, 11), (2, 22), (3, 33), (4, 44)]\n",
            "[('a', 11), ('b', 22), ('c', 33), ('d', 44)]\n"
          ]
        }
      ]
    },
    {
      "cell_type": "markdown",
      "metadata": {
        "id": "qSZNWrpMjbxo"
      },
      "source": [
        "## Função Enumerate\n",
        "A função enumerate retorna um par índice valor de uma sequência definida.\n",
        "\n",
        "Sintaxe: enumerate(seq)"
      ]
    },
    {
      "cell_type": "code",
      "metadata": {
        "id": "ogK90wkPjdzE",
        "colab": {
          "base_uri": "https://localhost:8080/"
        },
        "outputId": "188b1f42-4eb6-476e-a303-a5c23b01822b"
      },
      "source": [
        "# Lista sem índice\n",
        "lista = ['a', 'b', 'c', 'd']\n",
        "\n",
        "# Mostra a lista indexada\n",
        "print(list(enumerate(lista)))\n",
        "\n",
        "# Percorre a lista indexada\n",
        "for i, elemento in enumerate(lista):\n",
        "    print(i,elemento)"
      ],
      "execution_count": 98,
      "outputs": [
        {
          "output_type": "stream",
          "name": "stdout",
          "text": [
            "[(0, 'a'), (1, 'b'), (2, 'c'), (3, 'd')]\n",
            "0 a\n",
            "1 b\n",
            "2 c\n",
            "3 d\n"
          ]
        }
      ]
    },
    {
      "cell_type": "markdown",
      "metadata": {
        "id": "g7rhEbeJOdBr"
      },
      "source": [
        "## Função que retorna mais de um valor\n",
        "\n",
        "Uma função pode retornar mais de um valor, basta usar `return` com mais de um parâmetro. Também é possível retornar somente um determinado valor, basta ignorar retorna não desejando especificando `_` no lugar da variável de retorno.\n"
      ]
    },
    {
      "cell_type": "code",
      "metadata": {
        "id": "oqIYsonWOdni"
      },
      "source": [
        "# Declaração\n",
        "def calculadora(numero1, numero2):\n",
        "  \n",
        "    # Processamento da função\n",
        "    soma = numero1 + numero2\n",
        "    diferenca = numero2 + numero1\n",
        "    produto = numero1 * numero2\n",
        "    divisao = numero2 / numero1\n",
        "\n",
        "    # Retornando mais de um valor\n",
        "    return soma, diferenca, produto, divisao"
      ],
      "execution_count": 99,
      "outputs": []
    },
    {
      "cell_type": "code",
      "metadata": {
        "id": "v9wAWvJfO9zU",
        "colab": {
          "base_uri": "https://localhost:8080/"
        },
        "outputId": "3eb34917-9628-455e-ad80-bf505b37b57c"
      },
      "source": [
        "# Usando a função\n",
        "numero1 = 2\n",
        "numero2 = 10\n",
        "\n",
        "# Recuperando todos os resultados\n",
        "rsoma, rdiferenca, rproduto, rdivisao = calculadora(numero1, numero2)\n",
        "\n",
        "print(rsoma, rdiferenca, rproduto, rdivisao)\n",
        "\n",
        "# Recuperando somente um resultado\n",
        "_, rdif, _, _ = calculadora(numero1, numero2)\n",
        "\n",
        "print(rdif)"
      ],
      "execution_count": 100,
      "outputs": [
        {
          "output_type": "stream",
          "name": "stdout",
          "text": [
            "12 12 20 5.0\n",
            "12\n"
          ]
        }
      ]
    },
    {
      "cell_type": "markdown",
      "metadata": {
        "id": "CZXDOTptymKY"
      },
      "source": [
        "## Função com uso do ´yield´\n",
        "\n",
        "O `yield` só pode ser utilizando de funções. Dentro de uma função funciona como um `return`, só que retorna um objeto **generator** que é iterável. Para iterar sobre a função é necessário chamar a função `next()` ou utilizar um `for`.\n",
        "\n",
        "O `yield` marca a posição da última chamada da função `next()` de forma explicita ou implicita(`for`)."
      ]
    },
    {
      "cell_type": "markdown",
      "metadata": {
        "id": "Id1h-zE40QpT"
      },
      "source": [
        "### Exemplo 1 yield"
      ]
    },
    {
      "cell_type": "code",
      "metadata": {
        "id": "iyTSP_h8ymYR"
      },
      "source": [
        "# Declaração\n",
        "def funcao():\n",
        "    yield 10\n",
        "    yield 20\n",
        "    yield 30  "
      ],
      "execution_count": 101,
      "outputs": []
    },
    {
      "cell_type": "code",
      "metadata": {
        "id": "0mtM2GEo0Zty",
        "colab": {
          "base_uri": "https://localhost:8080/"
        },
        "outputId": "f76d2259-c404-42f5-e385-93c8b4653853"
      },
      "source": [
        "# Recupera o iterador da função para a variável conjunto\n",
        "conjunto = funcao()\n",
        "\n",
        "# O comando 'next()' retorna o número da primeira declaração de yield na variável conjunto\n",
        "print(next(conjunto))\n",
        "\n",
        "# O comando 'next()' retorna o número da segunda declaração de yield na variável conjunto\n",
        "print(next(conjunto))\n",
        "\n",
        "# O comando 'next()' retorna o número da terceira declaração de yield na variável conjunto\n",
        "print(next(conjunto))\n",
        "\n",
        "# A função next só pode ser chamada 3 vezes, pois existe somente 3 declarações!\n",
        "# Mas o yield pode ser declarado dentro de um laço(for)"
      ],
      "execution_count": 102,
      "outputs": [
        {
          "output_type": "stream",
          "name": "stdout",
          "text": [
            "10\n",
            "20\n",
            "30\n"
          ]
        }
      ]
    },
    {
      "cell_type": "markdown",
      "metadata": {
        "id": "1BYmE9aa02Hf"
      },
      "source": [
        "### Exemplo 2 yield"
      ]
    },
    {
      "cell_type": "code",
      "metadata": {
        "id": "D83pEDzF02Hg"
      },
      "source": [
        "# Declaração\n",
        "def funcao():\n",
        "    yield 10\n",
        "    yield 20  \n",
        "    yield 30  "
      ],
      "execution_count": 103,
      "outputs": []
    },
    {
      "cell_type": "code",
      "metadata": {
        "id": "SxXEYFap04VT",
        "colab": {
          "base_uri": "https://localhost:8080/"
        },
        "outputId": "db920c60-1084-4e64-95a4-860e217d8209"
      },
      "source": [
        "# Recupera o iterador da função para a variável conjunto\n",
        "conjunto = funcao()\n",
        "\n",
        "# O comando 'for' chama o next implicitamente retornando o número a medida que vai iterando a variável conjunto\n",
        "for x in conjunto:\n",
        "    print(x)\n",
        "\n",
        "# A função next só pode ser chamada 3 vezes, pois existe somente 3 declarações!\n",
        "# Mas o yield pode ser declarado dentro de um laço(for)"
      ],
      "execution_count": 104,
      "outputs": [
        {
          "output_type": "stream",
          "name": "stdout",
          "text": [
            "10\n",
            "20\n",
            "30\n"
          ]
        }
      ]
    },
    {
      "cell_type": "markdown",
      "metadata": {
        "id": "H1Oza3DI2nC2"
      },
      "source": [
        "### Exemplo 3 yield"
      ]
    },
    {
      "cell_type": "code",
      "metadata": {
        "id": "1zIBDaQz2nC2"
      },
      "source": [
        "# Declaração\n",
        "def geraNumero(inicio = 1, fim = 100):\n",
        "    '''\n",
        "    Gera os números no intervalo de número inicio até fim passado por parâmetro\n",
        "    '''\n",
        "    for numero in range(inicio, fim + 1):\n",
        "        yield numero"
      ],
      "execution_count": 105,
      "outputs": []
    },
    {
      "cell_type": "code",
      "metadata": {
        "id": "xohojoNy2nC4",
        "colab": {
          "base_uri": "https://localhost:8080/"
        },
        "outputId": "212c5137-0c0c-444d-bc44-ea110e774603"
      },
      "source": [
        "# Recupera o iterador da função para a variável conjunto\n",
        "conjunto = geraNumero(5, 10)\n",
        "\n",
        "# Sem o uso do yield na função geraNumero o for gera todos os números do intervalo\n",
        "\n",
        "# O comando 'for' chama o next implicitamente gerando cada número a medida que vai iterando a variável conjunto\n",
        "for x in conjunto:\n",
        "    print(x)"
      ],
      "execution_count": 106,
      "outputs": [
        {
          "output_type": "stream",
          "name": "stdout",
          "text": [
            "5\n",
            "6\n",
            "7\n",
            "8\n",
            "9\n",
            "10\n"
          ]
        }
      ]
    },
    {
      "cell_type": "markdown",
      "metadata": {
        "id": "cLpubXN0-sMk"
      },
      "source": [
        "### Exemplo 4 yield\n",
        "\n",
        "Função com retorno"
      ]
    },
    {
      "cell_type": "code",
      "metadata": {
        "id": "XGwJdu0n-sMl"
      },
      "source": [
        "# Declaração\n",
        "def geraNumero(inicio = 1, fim = 100):\n",
        "    '''\n",
        "    Gera os números no intervalo de número inicio até fim passado por parâmetro\n",
        "    '''\n",
        "    for numero in range(inicio, fim + 1):\n",
        "        yield numero"
      ],
      "execution_count": 107,
      "outputs": []
    },
    {
      "cell_type": "code",
      "metadata": {
        "id": "p-plQ3bh-sMo",
        "colab": {
          "base_uri": "https://localhost:8080/"
        },
        "outputId": "da803a59-bee5-4233-f3eb-a0b25837bac3"
      },
      "source": [
        "# Recupera o iterador da função para a variável conjunto\n",
        "conjunto = geraNumero(5, 10)\n",
        "\n",
        "# Sem o uso do yield na função geraNumero o for gera todos os números do intervalo\n",
        "\n",
        "# O comando 'for' chama o next implicitamente gerando cada número a medida que vai iterando a variável conjunto\n",
        "for x in conjunto:\n",
        "    print(x)"
      ],
      "execution_count": 108,
      "outputs": [
        {
          "output_type": "stream",
          "name": "stdout",
          "text": [
            "5\n",
            "6\n",
            "7\n",
            "8\n",
            "9\n",
            "10\n"
          ]
        }
      ]
    },
    {
      "cell_type": "markdown",
      "metadata": {
        "id": "xPVtpRBpPPuD"
      },
      "source": [
        "## Função com especificação de tipos de dados para os parâmetros e retorno\n",
        "\n",
        "Para especificar o tipo de dados dos parâmetos coloque o nome da variávei seguido de dois pontos(:) e o tipo de dado.\n",
        "\n",
        "Para especificar o retorno coloque logo depois da lista de parâmetros o símbolo \"->\" e o tipo de dado seguido por dois pontos(:)."
      ]
    },
    {
      "cell_type": "code",
      "metadata": {
        "id": "ryr97DigPXe3",
        "colab": {
          "base_uri": "https://localhost:8080/"
        },
        "outputId": "d9891091-37c1-42cb-e4d2-e3a024ef69fe"
      },
      "source": [
        "# Declara a função\n",
        "def soma(num1 : int, num2 : int) -> int:\n",
        "    total = 0 \n",
        "    total = num1 + num2        \n",
        "    return total\n",
        "\n",
        "resultado = soma(10,20)\n",
        "\n",
        "# Utiliza a função\n",
        "print(resultado)"
      ],
      "execution_count": 109,
      "outputs": [
        {
          "output_type": "stream",
          "name": "stdout",
          "text": [
            "30\n"
          ]
        }
      ]
    },
    {
      "cell_type": "markdown",
      "metadata": {
        "id": "1gAMw42-hBzo"
      },
      "source": [
        "# Aritmética Binária"
      ]
    },
    {
      "cell_type": "markdown",
      "metadata": {
        "id": "wLOtQoPpcxEK"
      },
      "source": [
        "## Operações bit-a-bit\n",
        "\n",
        "Operadores bitwise são utilizados quando precisamos realizar operações na representação binária de números inteiros. Caso ambos os operandos sejam strings, esses operadores irão trabalhar com os valores ASCII de seus caracteres\n",
        "\n",
        "- Deslocamento para esquerda ( << ).\n",
        "- Deslocamento para direita ( >> ).\n",
        "- Inversão ( ~ )."
      ]
    },
    {
      "cell_type": "code",
      "metadata": {
        "id": "1S-iISGKczfT",
        "colab": {
          "base_uri": "https://localhost:8080/"
        },
        "outputId": "ed23dcf5-2987-451a-a952-a185d082c47d"
      },
      "source": [
        "a = 42  # 0b101010 em binário\n",
        "b = -42 #-0b101010 em binário\n",
        "\n",
        "print(\"Valores iniciais\")\n",
        "print(\"a = \", bin(a) , \" -> \", a)\n",
        "print(\"b = \", bin(b) ,\" -> \",  b)\n",
        "print(\"ou\")\n",
        "print(\"a = \", \"{0:b}\".format(a) , \" -> \", a)\n",
        "print(\"b = \", \"{0:b}\".format(b) ,\" -> \",  b)\n",
        "\n",
        "print(\"\")\n",
        "print(\"Deslocamento para a esquerda preenchendo com zero\")\n",
        "lefta1 = a << 1\n",
        "lefta2 = a << 2\n",
        "print(\"a << 1 = \", bin(lefta1), \" -> \", lefta1)\n",
        "print(\"a << 2 = \", bin(lefta2), \" -> \", lefta2)\n",
        "\n",
        "print(\"\")\n",
        "print(\"Deslocamento para a esquerda preenchendo com zero\")\n",
        "leftb1 = b << 1\n",
        "leftb2 = b << 2\n",
        "print(\"b << 1 = \", bin(leftb1), \" -> \", leftb1)\n",
        "print(\"b << 2 = \", bin(leftb2), \" -> \", leftb2)\n",
        "\n",
        "print(\"\")\n",
        "print(\"Deslocamento para direita preenchedo com o bit do sinal\")\n",
        "righta1 = a >> 1\n",
        "righta2 = a >> 2\n",
        "print(\"a >> 1 = \", bin(righta1), \" -> \", righta1)\n",
        "print(\"a >> 2 = \", bin(righta2), \" -> \", righta2)        \n",
        "\n",
        "print(\"\")\n",
        "print(\"Deslocamento para direita preenchedo com o bit do sinal\")\n",
        "rightb1 = b >> 1\n",
        "rightb2 = b >> 2\n",
        "print(\"b >> 1 = \", bin(rightb1), \" -> \", rightb1)\n",
        "print(\"b >> 2 = \", bin(rightb2), \" -> \", rightb2)\n",
        "\n",
        "print(\"\")\n",
        "print(\"Inversão (~) (Bitwise NOT)\")\n",
        "ainvertido = ~a\n",
        "binvertido = ~b\n",
        "print(\"a >> ~a = \", bin(ainvertido), \" -> \", ainvertido)\n",
        "print(\"b >> ~b = \", bin(binvertido), \" -> \", binvertido)"
      ],
      "execution_count": 110,
      "outputs": [
        {
          "output_type": "stream",
          "name": "stdout",
          "text": [
            "Valores iniciais\n",
            "a =  0b101010  ->  42\n",
            "b =  -0b101010  ->  -42\n",
            "ou\n",
            "a =  101010  ->  42\n",
            "b =  -101010  ->  -42\n",
            "\n",
            "Deslocamento para a esquerda preenchendo com zero\n",
            "a << 1 =  0b1010100  ->  84\n",
            "a << 2 =  0b10101000  ->  168\n",
            "\n",
            "Deslocamento para a esquerda preenchendo com zero\n",
            "b << 1 =  -0b1010100  ->  -84\n",
            "b << 2 =  -0b10101000  ->  -168\n",
            "\n",
            "Deslocamento para direita preenchedo com o bit do sinal\n",
            "a >> 1 =  0b10101  ->  21\n",
            "a >> 2 =  0b1010  ->  10\n",
            "\n",
            "Deslocamento para direita preenchedo com o bit do sinal\n",
            "b >> 1 =  -0b10101  ->  -21\n",
            "b >> 2 =  -0b1011  ->  -11\n",
            "\n",
            "Inversão (~) (Bitwise NOT)\n",
            "a >> ~a =  -0b101011  ->  -43\n",
            "b >> ~b =  0b101001  ->  41\n"
          ]
        }
      ]
    },
    {
      "cell_type": "markdown",
      "metadata": {
        "id": "iw_D1d3uhns5"
      },
      "source": [
        "## Operador E bit-a-bit (&)\n",
        "\n",
        "Compara dois valores utilizando suas representações binárias e retorna um novo valor, para formar esse valor de retorno, cada bit é comparado, retornando 1(True) quando ambos os bits forem iguais a 1(True), caso contrário retorna 0 (False)."
      ]
    },
    {
      "cell_type": "code",
      "metadata": {
        "id": "Vzq99GRwhn5q",
        "colab": {
          "base_uri": "https://localhost:8080/"
        },
        "outputId": "99df7086-0f41-46e3-f1d4-9af5263b8176"
      },
      "source": [
        "print(\"Operador e (&)\")\n",
        "a = 5 \n",
        "b = 3 \n",
        "\n",
        "c = a | b\n",
        "\n",
        "print(\"a = \", bin(a), \" -> \", a)\n",
        "print(\"b = \", bin(b), \" -> \", b)\n",
        "print(\"c = \", bin(c), \" -> \", c)"
      ],
      "execution_count": 111,
      "outputs": [
        {
          "output_type": "stream",
          "name": "stdout",
          "text": [
            "Operador e (&)\n",
            "a =  0b101  ->  5\n",
            "b =  0b11  ->  3\n",
            "c =  0b111  ->  7\n"
          ]
        }
      ]
    },
    {
      "cell_type": "markdown",
      "metadata": {
        "id": "HUkrySKThohx"
      },
      "source": [
        "## Operador Ou bit-a-bit (|)\n",
        "\n",
        "Compara dois valores utilizando suas representações binárias e retorna um novo valor, para formar esse valor de retorno, cada bit é comparado, retornando 1(True) se um dos bits comparados forem iguais a 1(True, caso contrário retorna 0 (False)."
      ]
    },
    {
      "cell_type": "code",
      "metadata": {
        "id": "HLxO_7oKhosm",
        "colab": {
          "base_uri": "https://localhost:8080/"
        },
        "outputId": "34500894-0600-466e-8381-f24c215398d2"
      },
      "source": [
        "print(\"Operador ou (|)\")\n",
        "a = 5 \n",
        "b = 3 \n",
        "\n",
        "c = a & b\n",
        "\n",
        "print(\"a = \", bin(a), \" -> \", a)\n",
        "print(\"b = \", bin(b), \" -> \", b)\n",
        "print(\"c = \", bin(c), \" -> \", c)"
      ],
      "execution_count": 112,
      "outputs": [
        {
          "output_type": "stream",
          "name": "stdout",
          "text": [
            "Operador ou (|)\n",
            "a =  0b101  ->  5\n",
            "b =  0b11  ->  3\n",
            "c =  0b1  ->  1\n"
          ]
        }
      ]
    },
    {
      "cell_type": "markdown",
      "metadata": {
        "id": "PKn1_F0Ch5RR"
      },
      "source": [
        "## Operador Ou exclusivo bit-a-bit (^) (Bitwise XOR)\n",
        "\n",
        "Compara dois valores utilizando suas representações binárias e retorna um novo valor, para formar esse valor de retorno, cada bit é comparado, retornando 1(True) quando os bits comparados forem diferentes, caso contrário retorna 0 (False)."
      ]
    },
    {
      "cell_type": "code",
      "metadata": {
        "id": "hsTw6TCKh5b8",
        "colab": {
          "base_uri": "https://localhost:8080/"
        },
        "outputId": "e332bf7b-f2ac-4d54-8b2e-db23b7843e99"
      },
      "source": [
        "print(\"Operador ou exclusivo (^)\")\n",
        "a = 5 \n",
        "b = 3 \n",
        "\n",
        "c = a ^ b\n",
        "\n",
        "print(\"a = \", bin(a), \" -> \", a)\n",
        "print(\"b = \", bin(b), \" -> \", b)\n",
        "print(\"c = \", bin(c), \" -> \", c)"
      ],
      "execution_count": 113,
      "outputs": [
        {
          "output_type": "stream",
          "name": "stdout",
          "text": [
            "Operador ou exclusivo (^)\n",
            "a =  0b101  ->  5\n",
            "b =  0b11  ->  3\n",
            "c =  0b110  ->  6\n"
          ]
        }
      ]
    },
    {
      "cell_type": "markdown",
      "metadata": {
        "id": "hq5BfazeHGJn"
      },
      "source": [
        "# Mensagem de Progresso"
      ]
    },
    {
      "cell_type": "markdown",
      "metadata": {
        "id": "QjI0bn4LHUM9"
      },
      "source": [
        "## Exemplo mensagem de um nível com lista"
      ]
    },
    {
      "cell_type": "code",
      "metadata": {
        "id": "qPf0rRa4HUM-",
        "colab": {
          "base_uri": "https://localhost:8080/"
        },
        "outputId": "624e49e9-2e4a-4c3a-9934-bb5e957966c0"
      },
      "source": [
        "# Import da biblioteca\n",
        "from IPython.display import clear_output\n",
        "\n",
        "lista = []\n",
        "\n",
        "qtde = 1000\n",
        "\n",
        "for x in range(qtde):\n",
        "    lista.append(x**x)\n",
        "\n",
        "    clear_output(wait=True)\n",
        "    print(\"Teste: \", x + 1, \"/\", qtde)"
      ],
      "execution_count": 114,
      "outputs": [
        {
          "output_type": "stream",
          "name": "stdout",
          "text": [
            "Teste:  1000 / 1000\n"
          ]
        }
      ]
    },
    {
      "cell_type": "markdown",
      "metadata": {
        "id": "RUTFXBBuIUVN"
      },
      "source": [
        "## Exemplo mensagem com 2 níveis com lista"
      ]
    },
    {
      "cell_type": "code",
      "metadata": {
        "id": "9qPsM1_6IUVN",
        "colab": {
          "base_uri": "https://localhost:8080/"
        },
        "outputId": "915dfd08-ff51-49b8-e6d2-b92ce42bd1d6"
      },
      "source": [
        "# Import da biblioteca\n",
        "from IPython.display import clear_output\n",
        "from time import sleep\n",
        "\n",
        "qtde1 = 5\n",
        "qtde2 = 100\n",
        "\n",
        "for x in range(qtde1):\n",
        "    for y in range(qtde2):\n",
        "        # Retarda o laço em 0.01 segundos\n",
        "        sleep(0.02)\n",
        "\n",
        "        clear_output(wait=True)\n",
        "        print(\"Teste: \", x + 1, \"/\", qtde1, \" de \", y + 1, \"/\", qtde2)                "
      ],
      "execution_count": 115,
      "outputs": [
        {
          "output_type": "stream",
          "name": "stdout",
          "text": [
            "Teste:  5 / 5  de  100 / 100\n"
          ]
        }
      ]
    },
    {
      "cell_type": "markdown",
      "metadata": {
        "id": "U3fqY5AqX1tN"
      },
      "source": [
        "# Barra de Progresso\n",
        "\n",
        "O tdqm é um pacote que posibilita criar barra de progressos e estimar o tempo para funções e laços.\n",
        "\n",
        "https://github.com/tqdm/tqdm\n",
        "\n",
        "Em um laço itere sobre `tqdm` ou `tqdm_notebook`(caso esteja executando um Notebook)."
      ]
    },
    {
      "cell_type": "markdown",
      "metadata": {
        "id": "7F8jtwpZYLkA"
      },
      "source": [
        "## Exemplo barra de um nível com lista"
      ]
    },
    {
      "cell_type": "code",
      "metadata": {
        "id": "sTAX64dHX0qm",
        "colab": {
          "base_uri": "https://localhost:8080/",
          "height": 49,
          "referenced_widgets": [
            "4d2021307ce94295941cb83e2d98f172",
            "7f2544eee48e4d5086afcd58de3e4ca6",
            "4c7d12e228fd4cfb89bf949d3bbbb175",
            "c5f1ecd81b64492890a58b940e48d761",
            "975c166bc68749a3ba39a56487dec46b",
            "110e0d68aa2c46ffae6800a291aff566",
            "94526bbe60fe47fc888d78990b97d028",
            "feb5faf9f69e4ee8910125e1ce6a2f49",
            "338eab0f70f84841a09610dd3da393fa",
            "acb89e32f851459ea1a47d4f236ed152",
            "b89815c655ba40d3b5e38d14587aa38f"
          ]
        },
        "outputId": "18df48e3-c9b1-41e9-edab-49080510bad0"
      },
      "source": [
        "# Import da biblioteca\n",
        "from tqdm.notebook import tqdm\n",
        "\n",
        "QTDE = 10000\n",
        "\n",
        "lista = []\n",
        "\n",
        "for x in tqdm(range(QTDE)):\n",
        "    lista.append(x**x)"
      ],
      "execution_count": 116,
      "outputs": [
        {
          "output_type": "display_data",
          "data": {
            "application/vnd.jupyter.widget-view+json": {
              "model_id": "4d2021307ce94295941cb83e2d98f172",
              "version_minor": 0,
              "version_major": 2
            },
            "text/plain": [
              "  0%|          | 0/10000 [00:00<?, ?it/s]"
            ]
          },
          "metadata": {}
        }
      ]
    },
    {
      "cell_type": "markdown",
      "metadata": {
        "id": "Yh2b79LTobBm"
      },
      "source": [
        "Usando trange"
      ]
    },
    {
      "cell_type": "code",
      "metadata": {
        "id": "fCp3dwH6oTrq",
        "colab": {
          "base_uri": "https://localhost:8080/",
          "height": 49,
          "referenced_widgets": [
            "9a3ede1475564d179be0aff32160c8e2",
            "1b74b0d6877144b1bd29b2d42a55479e",
            "55f7083434684cd9b2b9b0d342705f2b",
            "7a6a75824bfb46458c6787a546fc2743",
            "84d89ee2e8e64a2986d86b693082e9f5",
            "41e0fad90d7b4f72a4719267b90a1dd4",
            "24bc48cd59b64a13a5e5a49a87998ae5",
            "05828e47f2004c35bd9a588c61ed46b5",
            "ea69f0ad4f8e4753a5553235f7d5c545",
            "55afa1e6eddf4be2b84dc88e90221372",
            "9c2b5277225c42628f1250a5870edd3a"
          ]
        },
        "outputId": "df99a1fb-2681-498d-919e-a5c6c9af5fa2"
      },
      "source": [
        "# Import da biblioteca\n",
        "from tqdm.notebook import trange\n",
        "\n",
        "QTDE = 10000\n",
        "\n",
        "lista = []\n",
        "\n",
        "for x in trange(QTDE):\n",
        "    lista.append(x**x)"
      ],
      "execution_count": 117,
      "outputs": [
        {
          "output_type": "display_data",
          "data": {
            "application/vnd.jupyter.widget-view+json": {
              "model_id": "9a3ede1475564d179be0aff32160c8e2",
              "version_minor": 0,
              "version_major": 2
            },
            "text/plain": [
              "  0%|          | 0/10000 [00:00<?, ?it/s]"
            ]
          },
          "metadata": {}
        }
      ]
    },
    {
      "cell_type": "markdown",
      "metadata": {
        "id": "X_GDSzZunI6B"
      },
      "source": [
        "Adicionando detalhes a barra de progresso"
      ]
    },
    {
      "cell_type": "code",
      "metadata": {
        "id": "kOkWyRyWm0Sl",
        "colab": {
          "base_uri": "https://localhost:8080/",
          "height": 49,
          "referenced_widgets": [
            "b65129741db24d8abc6881f93f29374d",
            "4e8ccbfdddc84d4aa074539d8290d91b",
            "f092d69f339745c290fde1276d1dc2ef",
            "012713cec10d4e55a58a82baf4120752",
            "de9f2d0726824f588a3e591e585f3e53",
            "4bd772a54b4e495989675da54f178aa1",
            "d40f5aa8b802491b969888e47a06fef0",
            "680ea496a61749d2a54a8810f3939759",
            "5ce0f23dc3a44386b12b266d1037915e",
            "351de18b95e04f75830439f80a416119",
            "9979d3d6e92b45e684bde30809cfca4a"
          ]
        },
        "outputId": "3f32ab4b-cd20-4587-f468-1e6fd714a7bc"
      },
      "source": [
        "# Import da biblioteca\n",
        "from tqdm.notebook import tqdm\n",
        "\n",
        "QTDE = 10000\n",
        "\n",
        "lista = []\n",
        "\n",
        "for x in tqdm(range(QTDE), desc=f'Contando', unit=f'vezes', total=QTDE):\n",
        "    lista.append(x**x)"
      ],
      "execution_count": 118,
      "outputs": [
        {
          "output_type": "display_data",
          "data": {
            "application/vnd.jupyter.widget-view+json": {
              "model_id": "b65129741db24d8abc6881f93f29374d",
              "version_minor": 0,
              "version_major": 2
            },
            "text/plain": [
              "Contando:   0%|          | 0/10000 [00:00<?, ?vezes/s]"
            ]
          },
          "metadata": {}
        }
      ]
    },
    {
      "cell_type": "markdown",
      "metadata": {
        "id": "Dvsc1uEjz9HL"
      },
      "source": [
        "Atualizando a barra de progresso."
      ]
    },
    {
      "cell_type": "code",
      "metadata": {
        "id": "RJIMZab4ojDA",
        "colab": {
          "base_uri": "https://localhost:8080/",
          "height": 49,
          "referenced_widgets": [
            "8d948c368dfc4a8985d1f3fbec1ad33e",
            "03d93d4d170844f49f4fde0a5b0136fb",
            "6a8c50d00a304934a9390f08732d8da4",
            "84df9709d4754d04b95e12de2d73905e",
            "7849a557ed8a47ad8bc743a31589065a",
            "db6882b17c3749cb93095c33590f8492",
            "2da2622a6f294538af285f8c06b60f89",
            "a887e9f734bf48178e0f274ceed2f1c5",
            "b4f6a262ba1b4c6cbfe3598312cb005f",
            "7253ebd47dd047d98f8a22d3cf657e66",
            "a4e26842522641479ee28b154273cf94"
          ]
        },
        "outputId": "52f53570-6ba9-424f-c02d-3400e3b21a67"
      },
      "source": [
        "# Import da biblioteca\n",
        "from tqdm.notebook import tqdm\n",
        "\n",
        "QTDE = 1000\n",
        "\n",
        "lista = []\n",
        "\n",
        "barra_progresso = tqdm(range(QTDE), desc=f'Contando', unit=f'vezes', total=QTDE)\n",
        "\n",
        "for x in barra_progresso:\n",
        "    lista.append(x**x)\n",
        "    \n",
        "    # Mostra detalhes na barra de progresso \n",
        "    barra_progresso.set_postfix(tamanho=len(lista))"
      ],
      "execution_count": 119,
      "outputs": [
        {
          "output_type": "display_data",
          "data": {
            "application/vnd.jupyter.widget-view+json": {
              "model_id": "8d948c368dfc4a8985d1f3fbec1ad33e",
              "version_minor": 0,
              "version_major": 2
            },
            "text/plain": [
              "Contando:   0%|          | 0/1000 [00:00<?, ?vezes/s]"
            ]
          },
          "metadata": {}
        }
      ]
    },
    {
      "cell_type": "markdown",
      "metadata": {
        "id": "2nhj0MdnYZW8"
      },
      "source": [
        "## Exemplo barras com 2 níveis com lista"
      ]
    },
    {
      "cell_type": "code",
      "metadata": {
        "id": "Ec5ekCupYZW9",
        "colab": {
          "base_uri": "https://localhost:8080/",
          "height": 49,
          "referenced_widgets": [
            "583b304218324e3ab4ea55fa99af7cc5",
            "1b24fe560dea45e89d9055be61c87e91",
            "1ae2bdbfd548487b9dd0e9f5a96d321d",
            "0f32576f01e749389a94b3125f4f8078",
            "feaa5b66104d4991968a3d9ece33b49d",
            "36f2999aa0204f3680fd9fd2836d9b1d",
            "b0bb72f6765e4a64bda2fd3ae208c244",
            "c0ab696b8eda4f86854085e133a55245",
            "cee08869790b4370a75c3564862169eb",
            "24cf61cc83f8467894f3ed103f988f5b",
            "692e7b56f76044208e23198b7348d887",
            "43c1c1ec440a491189596946e36da4a3",
            "dbf12d1890934115bc3952a3aa9f9873",
            "05102650fccf4e528bc8e48209785b4d",
            "0beaeba7c5734c8c8ada6087af5d54a7",
            "61c97702af6f4f0591997008cb6ab9f5",
            "792582749a3341f8b7b278bf13e51596",
            "af179dc5165f42129657c4b4e190be25",
            "77864907c436417695bdd1da74d273bb",
            "9ea7cd99d74b483ba886e1efdfcf4996",
            "df4ef24475bd42a1a55de5952dba637c",
            "325f21cbe90646b9948b5af853c59908",
            "6d6fab0ea63848cdaf8aefc078fe97d7",
            "7abd25cb53064ce1806c0b5e08da3193",
            "583775ee47ea4bdda3470f51739e4207",
            "17554d03793e411fb8a0edbe3383aa29",
            "6ef795f28dcc49e5bf9dbf503204562a",
            "5e1b91b0cdac44f88938fb6102917d0d",
            "c39535288ac247d09b224f0e27c39a1f",
            "370c512d63914d5abd35ce3d00bf15ac",
            "93013765370d4e8d8b673cfd2ed8e4b5",
            "3004f744dabe46fca1497d251d72f6b6",
            "500485568ab24ad891ce997182b5a9af",
            "5570d5d6749046aabb49657e8b76abea",
            "5e15562bf96847d98c338846c04f6b46",
            "7a51ec48515248d78f73eeec0531cc47",
            "28b7e202f1d94b73bd8c6b95ecedede3",
            "52607afef7ad4eb8aafa4a103414dd92",
            "bb642dae30d04eeca42ebb21ccbca734",
            "8ea71eb239474dbf96b64ee9fc470c9d",
            "ffb8d2276cb64cd6a80be325d5b38caf",
            "389cf3dcc59b4015908b7183ae45261b",
            "912bc588fae44eb9b4e20f77e170c1ca",
            "d9053d26873c4f9390076151527b91e9",
            "e4ac5daf093947a1a0b5a1a9a3e426c3",
            "0e4e51fa9f78495faaedb7fb1b44e62a",
            "8c4d69e231b1456c9193467ce5e1327c",
            "829a8e76f2934acb85f766b51cb607fd",
            "1cffb879293245d1ae88977340d4d73d",
            "dc71f5e260b74aeca23175a221c6f36f",
            "e6abe5f472db48b8a3f66dabded04dc3",
            "799af11365dd478c8b33f76b506d75d3",
            "6656f8284f474e3eb4fb75f1668cd130",
            "4bb2dccc93a54e799458b2476cb54873",
            "72ac1a0db31e4ad483dc782e31182315",
            "ba8555da48ad40bba5bee384e8d77aa6",
            "0b255e68a6ed43e1b8f660ee87c37265",
            "7ddf91c2eacb498c87327ea01ffde75f",
            "811e7d932b30457298c644173a34f357",
            "13501314dc8646dd83dcb66a7c9e34d6",
            "cca948241e26444c87ced596cf1c1c79",
            "310048278b034d5c808a2e685826a31a",
            "8ced352bfe78488abd0474acf3ed9ccd",
            "ffcbbf4e0fb0430189920c53928218dd",
            "fe703b8546d745afa9e352b54c750484",
            "bfea9d1a3c024c76852aa2f40d37028c"
          ]
        },
        "outputId": "4eb02208-06e2-4c99-f1fd-151f60a38506"
      },
      "source": [
        "# Import da biblioteca\n",
        "from tqdm.notebook import tqdm\n",
        "from time import sleep\n",
        "\n",
        "for x in tqdm(range(5), desc=f'1o Laço'):\n",
        "    for y in tqdm(range(100), desc=f'2o Laço', leave=False):\n",
        "        # Retarda o laço em 0.01 segundos\n",
        "        sleep(0.02)"
      ],
      "execution_count": 120,
      "outputs": [
        {
          "output_type": "display_data",
          "data": {
            "application/vnd.jupyter.widget-view+json": {
              "model_id": "583b304218324e3ab4ea55fa99af7cc5",
              "version_minor": 0,
              "version_major": 2
            },
            "text/plain": [
              "1o Laço:   0%|          | 0/5 [00:00<?, ?it/s]"
            ]
          },
          "metadata": {}
        },
        {
          "output_type": "display_data",
          "data": {
            "application/vnd.jupyter.widget-view+json": {
              "model_id": "43c1c1ec440a491189596946e36da4a3",
              "version_minor": 0,
              "version_major": 2
            },
            "text/plain": [
              "2o Laço:   0%|          | 0/100 [00:00<?, ?it/s]"
            ]
          },
          "metadata": {}
        },
        {
          "output_type": "display_data",
          "data": {
            "application/vnd.jupyter.widget-view+json": {
              "model_id": "6d6fab0ea63848cdaf8aefc078fe97d7",
              "version_minor": 0,
              "version_major": 2
            },
            "text/plain": [
              "2o Laço:   0%|          | 0/100 [00:00<?, ?it/s]"
            ]
          },
          "metadata": {}
        },
        {
          "output_type": "display_data",
          "data": {
            "application/vnd.jupyter.widget-view+json": {
              "model_id": "5570d5d6749046aabb49657e8b76abea",
              "version_minor": 0,
              "version_major": 2
            },
            "text/plain": [
              "2o Laço:   0%|          | 0/100 [00:00<?, ?it/s]"
            ]
          },
          "metadata": {}
        },
        {
          "output_type": "display_data",
          "data": {
            "application/vnd.jupyter.widget-view+json": {
              "model_id": "e4ac5daf093947a1a0b5a1a9a3e426c3",
              "version_minor": 0,
              "version_major": 2
            },
            "text/plain": [
              "2o Laço:   0%|          | 0/100 [00:00<?, ?it/s]"
            ]
          },
          "metadata": {}
        },
        {
          "output_type": "display_data",
          "data": {
            "application/vnd.jupyter.widget-view+json": {
              "model_id": "ba8555da48ad40bba5bee384e8d77aa6",
              "version_minor": 0,
              "version_major": 2
            },
            "text/plain": [
              "2o Laço:   0%|          | 0/100 [00:00<?, ?it/s]"
            ]
          },
          "metadata": {}
        }
      ]
    },
    {
      "cell_type": "markdown",
      "metadata": {
        "id": "40_b4jIFf9kP"
      },
      "source": [
        "## Exemplo barras com pandas"
      ]
    },
    {
      "cell_type": "code",
      "metadata": {
        "id": "xz59Og8_f9kQ",
        "colab": {
          "base_uri": "https://localhost:8080/",
          "height": 309,
          "referenced_widgets": [
            "0c8817df99714265b74e7758be449505",
            "8e78f2cc164a4850a1fce164378fc54d",
            "7ac16882c36840eaba7ae75582efbd76",
            "5a3b48bf570d416499e766704bcd5320",
            "5dd6ab50303f46d3b88ef9a47ff385b8",
            "6f7bc980daef4a84b6b23f78ba918b31",
            "33c8b0a4176544d19877da4d2d9366a1",
            "61f024d2bbfd48cfb68e1301ebf29e08",
            "546be423bd3d47c4a323806db855cdf9",
            "ac6fd27cf2e1413abd4399efbbfa97d3",
            "92294daa605a4da2aff9c45697f4cd9c"
          ]
        },
        "outputId": "e7fb46b0-15cb-4d55-d5b5-081a3a9c7445"
      },
      "source": [
        "# Import da biblioteca\n",
        "from tqdm.notebook import tqdm\n",
        "from time import sleep\n",
        "import pandas as pd\n",
        "\n",
        "# Lista utilizada \n",
        "lista = [[1, 'Joao'],\n",
        "         [2, 'Maria'],\n",
        "         [3, 'Pedro'],\n",
        "         [4, 'Luiz'],\n",
        "         [5, 'José']]\n",
        "\n",
        "# Converte em um dataframe\n",
        "dfdados = pd.DataFrame(lista, columns=('codigo', 'nome')) \n",
        "\n",
        "for index, linha in tqdm(dfdados.iterrows(), desc=f'Clientes', unit=f'cliente', total=dfdados.shape[0]):\n",
        "   # Retarda o laço em 0.01 segundos\n",
        "   sleep(1)\n",
        "   # Mostra os dados\n",
        "   print(index, linha)"
      ],
      "execution_count": 121,
      "outputs": [
        {
          "output_type": "display_data",
          "data": {
            "application/vnd.jupyter.widget-view+json": {
              "model_id": "0c8817df99714265b74e7758be449505",
              "version_minor": 0,
              "version_major": 2
            },
            "text/plain": [
              "Clientes:   0%|          | 0/5 [00:00<?, ?cliente/s]"
            ]
          },
          "metadata": {}
        },
        {
          "output_type": "stream",
          "name": "stdout",
          "text": [
            "0 codigo       1\n",
            "nome      Joao\n",
            "Name: 0, dtype: object\n",
            "1 codigo        2\n",
            "nome      Maria\n",
            "Name: 1, dtype: object\n",
            "2 codigo        3\n",
            "nome      Pedro\n",
            "Name: 2, dtype: object\n",
            "3 codigo       4\n",
            "nome      Luiz\n",
            "Name: 3, dtype: object\n",
            "4 codigo       5\n",
            "nome      José\n",
            "Name: 4, dtype: object\n"
          ]
        }
      ]
    },
    {
      "cell_type": "markdown",
      "metadata": {
        "id": "A8bamUWrJG3j"
      },
      "source": [
        "# Funções de tempo."
      ]
    },
    {
      "cell_type": "markdown",
      "metadata": {
        "id": "Mw8KyNOJJLwf"
      },
      "source": [
        "## Soma de tempo\n",
        "\n",
        "Calcula a soma de uma lista de tempo string no formato hh:mm:ss"
      ]
    },
    {
      "cell_type": "code",
      "metadata": {
        "id": "V4gekVLwJIcD"
      },
      "source": [
        "def somaTempo(tempos):\n",
        "    '''\n",
        "    Calcula a soma de uma lista de tempo string no formato hh:mm:ss\n",
        "    '''\n",
        "    t = (tempo.split(':') for tempo in tempos)\n",
        "    # Converte para segundos\n",
        "    segundos = ((float(s) + int(m) * 60 + int(h) * 3600) for h, m, s in t)\n",
        "    # Soma os segundos\n",
        "    soma_segundos = sum([s * 1. for s in segundos])\n",
        "    # Recupera as horas e os minutos   \n",
        "    h, m = divmod(soma_segundos, 3600)\n",
        "    # Recupera os minutos e os segundos\n",
        "    m, s = divmod(m, 60)    \n",
        "    return '{:02d}:{:02d}:{:02d}'.format(int(h), int(m), int(s))"
      ],
      "execution_count": 122,
      "outputs": []
    },
    {
      "cell_type": "code",
      "metadata": {
        "id": "DX_9PW3rJTC8",
        "colab": {
          "base_uri": "https://localhost:8080/"
        },
        "outputId": "7f04f973-c465-4dd5-b02c-2801aca4d111"
      },
      "source": [
        "listaTempo = []\n",
        "\n",
        "listaTempo.append('1:10:00')\n",
        "listaTempo.append('1:15:00')\n",
        "\n",
        "print(somaTempo(listaTempo))"
      ],
      "execution_count": 123,
      "outputs": [
        {
          "output_type": "stream",
          "name": "stdout",
          "text": [
            "02:25:00\n"
          ]
        }
      ]
    },
    {
      "cell_type": "markdown",
      "metadata": {
        "id": "VQuuyq8-JkdK"
      },
      "source": [
        "## Média de tempo\n",
        "\n",
        "Calcula a média de uma lista de tempo string no formato hh:mm:ss"
      ]
    },
    {
      "cell_type": "code",
      "metadata": {
        "id": "XfCOca1uJkdZ"
      },
      "source": [
        "# Import das bibliotecas.\n",
        "from cmath import rect, phase\n",
        "from math import radians, degrees\n",
        "  \n",
        "def mediaAngulo(deg):\n",
        "    return degrees(phase(sum(rect(1, radians(d)) for d in deg)/len(deg)))\n",
        " \n",
        "def mediaTempo(tempos):\n",
        "    '''\n",
        "    Calcula a média de uma lista de tempo string no formato hh:mm:ss\n",
        "    '''\n",
        "    t = (tempo.split(':') for tempo in tempos)\n",
        "    # Converte para segundos\n",
        "    segundos = ((float(s) + int(m) * 60 + int(h) * 3600) for h, m, s in t)\n",
        "    # Verifica se deu algum dia\n",
        "    dia = 24 * 60 * 60\n",
        "    # Converte para angulos\n",
        "    paraAngulos = [s * 360. / dia for s in segundos]\n",
        "    # Calcula a média dos angulos\n",
        "    mediaComoAngulo = mediaAngulo(paraAngulos)\n",
        "    media_segundos = mediaComoAngulo * dia / 360.\n",
        "    if media_segundos < 0:\n",
        "        media_segundos += dia\n",
        "    # Recupera as horas e os minutos  \n",
        "    h, m = divmod(media_segundos, 3600)\n",
        "    # Recupera os minutos e os segundos\n",
        "    m, s = divmod(m, 60)    \n",
        "    return '{:02d}:{:02d}:{:02d}'.format(int(h), int(m), int(s))"
      ],
      "execution_count": 124,
      "outputs": []
    },
    {
      "cell_type": "code",
      "metadata": {
        "id": "70LONLkuJkda",
        "colab": {
          "base_uri": "https://localhost:8080/"
        },
        "outputId": "da5820d1-35f8-4cb9-dd54-c9551d8eacc4"
      },
      "source": [
        "listaTempo = []\n",
        "\n",
        "listaTempo.append('1:30:00')\n",
        "listaTempo.append('1:45:00')\n",
        "\n",
        "print(mediaTempo(listaTempo))"
      ],
      "execution_count": 125,
      "outputs": [
        {
          "output_type": "stream",
          "name": "stdout",
          "text": [
            "01:37:30\n"
          ]
        }
      ]
    },
    {
      "cell_type": "markdown",
      "metadata": {
        "id": "6BeOki83y6pL"
      },
      "source": [
        "# Roleta"
      ]
    },
    {
      "cell_type": "markdown",
      "metadata": {
        "id": "2EOMFMyiy_BA"
      },
      "source": [
        "## Roleta **com** repetição do element sorteado\n",
        "\n",
        "Um elemento pode ser sorteado mais de uma vez."
      ]
    },
    {
      "cell_type": "code",
      "metadata": {
        "id": "VIEFvfXozD9F",
        "colab": {
          "base_uri": "https://localhost:8080/"
        },
        "outputId": "cb25197a-09ec-4a49-d824-d0871ffba60e"
      },
      "source": [
        "# Import das bibliotecas\n",
        "from random import randint\n",
        "\n",
        "# Lista dos elementos a serem sorteados\n",
        "lista = ['João','Maria','Pedro','Jose','André','Fernando']\n",
        "\n",
        "for i in range(len(lista)):\n",
        "  # Sorteio de um número da roleta\n",
        "  sorteio = randint(1,len(lista))\n",
        "\n",
        "  # Os índices da lista começam em 0, portanto se desconta 1\n",
        "  sorteio = sorteio -1\n",
        "      \n",
        "  # Recupera a frase sorteada\n",
        "  texto_sorteado = lista[sorteio]\n",
        "       \n",
        "  # Mostra o elemento sorteado\n",
        "  print(i,\"-\",texto_sorteado)"
      ],
      "execution_count": 126,
      "outputs": [
        {
          "output_type": "stream",
          "name": "stdout",
          "text": [
            "0 - Fernando\n",
            "1 - André\n",
            "2 - André\n",
            "3 - João\n",
            "4 - Jose\n",
            "5 - João\n"
          ]
        }
      ]
    },
    {
      "cell_type": "markdown",
      "metadata": {
        "id": "-h5_tg7mzEJc"
      },
      "source": [
        "## Roleta **sem** repetição dos números sorteados\n",
        "\n",
        "Um elemento só pode ser sorteado uma vez."
      ]
    },
    {
      "cell_type": "code",
      "metadata": {
        "id": "rX9MAf4qzIbs",
        "colab": {
          "base_uri": "https://localhost:8080/"
        },
        "outputId": "a570570b-52d4-45d0-b34f-609b22f524f5"
      },
      "source": [
        "# Import das bibliotecas\n",
        "from random import randint\n",
        "\n",
        "# Lista dos elementos a serem sorteados\n",
        "lista = ['João','Maria','Pedro','Jose','André','Fernando']\n",
        "\n",
        "for i in range(len(lista)):\n",
        "  # Sorteio de um número da roleta\n",
        "  sorteio = randint(1,len(lista))\n",
        "\n",
        "  # Os índices da lista começam em 0, portanto se desconta 1\n",
        "  sorteio = sorteio -1\n",
        "      \n",
        "  # Recupera o elemento sorteado\n",
        "  texto_sorteado = lista[sorteio]\n",
        "\n",
        "  # Remove a frase sorteada, para que a oração não seja mais sorteada\n",
        "  del lista[sorteio]\n",
        "        \n",
        "  # Mostra o elemento sorteado\n",
        "  print(i,\"-\",texto_sorteado)"
      ],
      "execution_count": 127,
      "outputs": [
        {
          "output_type": "stream",
          "name": "stdout",
          "text": [
            "0 - André\n",
            "1 - Pedro\n",
            "2 - Jose\n",
            "3 - João\n",
            "4 - Maria\n",
            "5 - Fernando\n"
          ]
        }
      ]
    },
    {
      "cell_type": "markdown",
      "metadata": {
        "id": "O4CF_vAclai-"
      },
      "source": [
        "# Comparando pares diferentes de 0\n",
        "\n",
        "Percorre o vetor de valores comparando pares sucessivos desde que o valor seja diferente 0."
      ]
    },
    {
      "cell_type": "code",
      "metadata": {
        "id": "pE9e1_k9lavz",
        "colab": {
          "base_uri": "https://localhost:8080/"
        },
        "outputId": "74a3b6c3-9bf7-4730-c1dd-f6f5ae87c79b"
      },
      "source": [
        "# Lista dos valores\n",
        "valores = [1,0,1,1,0,1]\n",
        "n = len(valores)\n",
        "divisor = n - 1\n",
        "\n",
        "# Aculama a soma dos valores\n",
        "soma = 0\n",
        "\n",
        "# Indíces dos pares iniciais\n",
        "pos1 = 0\n",
        "pos2 = pos1 + 1\n",
        "\n",
        "#Enquanto o índice do 2o valor não chegou ao final da listta de valores\n",
        "while pos2 <= (n -1):\n",
        "\n",
        "  # Recupera os valores\n",
        "  val1 = valores[pos1]  \n",
        "  val2 = valores[pos2]\n",
        "\n",
        "  if val1 != 0 and val2 != 0:\n",
        "      print(\"Par:\", pos1, pos2, \" valores:\", val1, val2)      \n",
        "      soma = soma + (val1  + val2)\n",
        "      # avança para o próximo par\n",
        "      pos1 = pos2\n",
        "      pos2 = pos2 + 1\n",
        "  else:\n",
        "    divisor = divisor - 1\n",
        "    # Se pos1 igual a 0 avanca pos1 e pos2\n",
        "    if val1 == 0:\n",
        "        pos1 = pos2\n",
        "        pos2 = pos2 + 1        \n",
        "    else:\n",
        "      # Se pos2 = 0 avança pos2\n",
        "      if val2 == 0:\n",
        "        pos2 = pos2 + 1\n",
        "            \n",
        "# Calcula a média da comparação dos pares            \n",
        "print(\"soma:\",soma)\n",
        "if (divisor != 0):\n",
        "  print(\"media:\",soma/divisor)\n",
        "else:\n",
        "  print(\"media:\",0)"
      ],
      "execution_count": 128,
      "outputs": [
        {
          "output_type": "stream",
          "name": "stdout",
          "text": [
            "Par: 0 2  valores: 1 1\n",
            "Par: 2 3  valores: 1 1\n",
            "Par: 3 5  valores: 1 1\n",
            "soma: 6\n",
            "media: 2.0\n"
          ]
        }
      ]
    },
    {
      "cell_type": "markdown",
      "metadata": {
        "id": "opphp_nBzPO3"
      },
      "source": [
        "# Versão Python"
      ]
    },
    {
      "cell_type": "code",
      "metadata": {
        "id": "A6cmlG0ezSI-",
        "colab": {
          "base_uri": "https://localhost:8080/"
        },
        "outputId": "5f3a0a3d-e76d-42d3-b029-77b0762f8907"
      },
      "source": [
        "!python --version"
      ],
      "execution_count": 129,
      "outputs": [
        {
          "output_type": "stream",
          "name": "stdout",
          "text": [
            "Python 3.7.12\n"
          ]
        }
      ]
    },
    {
      "cell_type": "markdown",
      "metadata": {
        "id": "BtMU-XVKJibN"
      },
      "source": [
        "# Previnir que a sessão seja desconectada\n",
        "\n",
        "\n",
        "https://medium.com/@shivamrawat_756/how-to-prevent-google-colab-from-disconnecting-717b88a128c0\n",
        "\n",
        "Pressione:\n",
        "```\n",
        "Ctrl+Shift+i\n",
        "```\n",
        "\n",
        "Insira o código abaixo no console e de enter:\n",
        "```\n",
        "função  ClickConnect () { \n",
        "console.log (\"Funcionando\"); \n",
        "document.querySelector (\"colab-toolbar-button\"). click () \n",
        "} setInterval (ClickConnect, 60000)\n",
        "```\n",
        "\n"
      ]
    },
    {
      "cell_type": "markdown",
      "metadata": {
        "id": "iGRe2RsijK84"
      },
      "source": [
        "# Formatar célula de texto\n",
        "\n",
        "https://ichi.pro/pt/folha-de-referencias-do-google-colab-109423812460691"
      ]
    },
    {
      "cell_type": "markdown",
      "metadata": {
        "id": "kh3TuNb2zDnY"
      },
      "source": [
        "# Rodando Notebook do Google Colaboratory no Jupyter Notebook pelo Anaconda\n",
        "\n",
        "https://medium.com/analytics-vidhya/getting-started-with-python-anaconda-google-colab-and-virtual-environments-1ce8fc3286f9\n",
        "\n",
        "Configuração da  máquina local:\n",
        "\n",
        "**1)   Instalar o Jupyter** (instalar o Jupyter Notebook pelo Anaconda Toolkit)\n",
        "\n",
        "https://www.anaconda.com/products/individual\n",
        "\n",
        "**2) Instalar e Habilitar a extensão `jupyter_http_over_ws`**\n",
        "\n",
        "`pip install jupyter_http_over_ws`\n",
        "\n",
        "`jupyter serverextension enable --py jupyter_http_over_ws`\n",
        "\n",
        "**3) Rodar o Jupyter Notebook e permitir acesso ao Google Colaboratory**\n",
        "\n",
        "`jupyter notebook --NotebookApp.allow_origin='https://colab.research.google.com' --port=8888 --NotebookApp.port_retries=0`\n",
        "\n",
        "**4) Conectar a uma execução local (RunTime Local)**\n",
        "\n",
        "No Google Colaboratory, clique no botão \"Connect\" e selecione \"Connect to local runtime\" Digite o URL da etapa anterior na caixa de diálogo exibida e clique no botão \"Connect\"."
      ]
    }
  ]
}