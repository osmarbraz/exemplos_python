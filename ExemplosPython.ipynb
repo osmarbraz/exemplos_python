{
  "nbformat": 4,
  "nbformat_minor": 0,
  "metadata": {
    "colab": {
      "name": "ExemplosPython.ipynb",
      "provenance": [],
      "collapsed_sections": [],
      "toc_visible": true,
      "include_colab_link": true
    },
    "kernelspec": {
      "display_name": "Python 3",
      "name": "python3"
    },
    "widgets": {
      "application/vnd.jupyter.widget-state+json": {
        "e77a9cb6861e4910ad814490297d27c4": {
          "model_module": "@jupyter-widgets/controls",
          "model_name": "HBoxModel",
          "state": {
            "_view_name": "HBoxView",
            "_dom_classes": [],
            "_model_name": "HBoxModel",
            "_view_module": "@jupyter-widgets/controls",
            "_model_module_version": "1.5.0",
            "_view_count": null,
            "_view_module_version": "1.5.0",
            "box_style": "",
            "layout": "IPY_MODEL_aedd86e53db344e981d4c4534361e01f",
            "_model_module": "@jupyter-widgets/controls",
            "children": [
              "IPY_MODEL_6e16b586f96a44ef981bfedb7fc62c13",
              "IPY_MODEL_0f0b892201024a168577e3f714cf1248"
            ]
          }
        },
        "aedd86e53db344e981d4c4534361e01f": {
          "model_module": "@jupyter-widgets/base",
          "model_name": "LayoutModel",
          "state": {
            "_view_name": "LayoutView",
            "grid_template_rows": null,
            "right": null,
            "justify_content": null,
            "_view_module": "@jupyter-widgets/base",
            "overflow": null,
            "_model_module_version": "1.2.0",
            "_view_count": null,
            "flex_flow": null,
            "width": null,
            "min_width": null,
            "border": null,
            "align_items": null,
            "bottom": null,
            "_model_module": "@jupyter-widgets/base",
            "top": null,
            "grid_column": null,
            "overflow_y": null,
            "overflow_x": null,
            "grid_auto_flow": null,
            "grid_area": null,
            "grid_template_columns": null,
            "flex": null,
            "_model_name": "LayoutModel",
            "justify_items": null,
            "grid_row": null,
            "max_height": null,
            "align_content": null,
            "visibility": null,
            "align_self": null,
            "height": null,
            "min_height": null,
            "padding": null,
            "grid_auto_rows": null,
            "grid_gap": null,
            "max_width": null,
            "order": null,
            "_view_module_version": "1.2.0",
            "grid_template_areas": null,
            "object_position": null,
            "object_fit": null,
            "grid_auto_columns": null,
            "margin": null,
            "display": null,
            "left": null
          }
        },
        "6e16b586f96a44ef981bfedb7fc62c13": {
          "model_module": "@jupyter-widgets/controls",
          "model_name": "FloatProgressModel",
          "state": {
            "_view_name": "ProgressView",
            "style": "IPY_MODEL_04f9d44ef273472e866860948f875ab6",
            "_dom_classes": [],
            "description": "100%",
            "_model_name": "FloatProgressModel",
            "bar_style": "success",
            "max": 10000,
            "_view_module": "@jupyter-widgets/controls",
            "_model_module_version": "1.5.0",
            "value": 10000,
            "_view_count": null,
            "_view_module_version": "1.5.0",
            "orientation": "horizontal",
            "min": 0,
            "description_tooltip": null,
            "_model_module": "@jupyter-widgets/controls",
            "layout": "IPY_MODEL_1f0db9049a8a4880b80005944e565d38"
          }
        },
        "0f0b892201024a168577e3f714cf1248": {
          "model_module": "@jupyter-widgets/controls",
          "model_name": "HTMLModel",
          "state": {
            "_view_name": "HTMLView",
            "style": "IPY_MODEL_91c3d998d3784557b8e14338eb9d4ad9",
            "_dom_classes": [],
            "description": "",
            "_model_name": "HTMLModel",
            "placeholder": "​",
            "_view_module": "@jupyter-widgets/controls",
            "_model_module_version": "1.5.0",
            "value": " 10000/10000 [00:33&lt;00:00, 296.65it/s]",
            "_view_count": null,
            "_view_module_version": "1.5.0",
            "description_tooltip": null,
            "_model_module": "@jupyter-widgets/controls",
            "layout": "IPY_MODEL_89c321cba10348fa9e900fed65807459"
          }
        },
        "04f9d44ef273472e866860948f875ab6": {
          "model_module": "@jupyter-widgets/controls",
          "model_name": "ProgressStyleModel",
          "state": {
            "_view_name": "StyleView",
            "_model_name": "ProgressStyleModel",
            "description_width": "initial",
            "_view_module": "@jupyter-widgets/base",
            "_model_module_version": "1.5.0",
            "_view_count": null,
            "_view_module_version": "1.2.0",
            "bar_color": null,
            "_model_module": "@jupyter-widgets/controls"
          }
        },
        "1f0db9049a8a4880b80005944e565d38": {
          "model_module": "@jupyter-widgets/base",
          "model_name": "LayoutModel",
          "state": {
            "_view_name": "LayoutView",
            "grid_template_rows": null,
            "right": null,
            "justify_content": null,
            "_view_module": "@jupyter-widgets/base",
            "overflow": null,
            "_model_module_version": "1.2.0",
            "_view_count": null,
            "flex_flow": null,
            "width": null,
            "min_width": null,
            "border": null,
            "align_items": null,
            "bottom": null,
            "_model_module": "@jupyter-widgets/base",
            "top": null,
            "grid_column": null,
            "overflow_y": null,
            "overflow_x": null,
            "grid_auto_flow": null,
            "grid_area": null,
            "grid_template_columns": null,
            "flex": null,
            "_model_name": "LayoutModel",
            "justify_items": null,
            "grid_row": null,
            "max_height": null,
            "align_content": null,
            "visibility": null,
            "align_self": null,
            "height": null,
            "min_height": null,
            "padding": null,
            "grid_auto_rows": null,
            "grid_gap": null,
            "max_width": null,
            "order": null,
            "_view_module_version": "1.2.0",
            "grid_template_areas": null,
            "object_position": null,
            "object_fit": null,
            "grid_auto_columns": null,
            "margin": null,
            "display": null,
            "left": null
          }
        },
        "91c3d998d3784557b8e14338eb9d4ad9": {
          "model_module": "@jupyter-widgets/controls",
          "model_name": "DescriptionStyleModel",
          "state": {
            "_view_name": "StyleView",
            "_model_name": "DescriptionStyleModel",
            "description_width": "",
            "_view_module": "@jupyter-widgets/base",
            "_model_module_version": "1.5.0",
            "_view_count": null,
            "_view_module_version": "1.2.0",
            "_model_module": "@jupyter-widgets/controls"
          }
        },
        "89c321cba10348fa9e900fed65807459": {
          "model_module": "@jupyter-widgets/base",
          "model_name": "LayoutModel",
          "state": {
            "_view_name": "LayoutView",
            "grid_template_rows": null,
            "right": null,
            "justify_content": null,
            "_view_module": "@jupyter-widgets/base",
            "overflow": null,
            "_model_module_version": "1.2.0",
            "_view_count": null,
            "flex_flow": null,
            "width": null,
            "min_width": null,
            "border": null,
            "align_items": null,
            "bottom": null,
            "_model_module": "@jupyter-widgets/base",
            "top": null,
            "grid_column": null,
            "overflow_y": null,
            "overflow_x": null,
            "grid_auto_flow": null,
            "grid_area": null,
            "grid_template_columns": null,
            "flex": null,
            "_model_name": "LayoutModel",
            "justify_items": null,
            "grid_row": null,
            "max_height": null,
            "align_content": null,
            "visibility": null,
            "align_self": null,
            "height": null,
            "min_height": null,
            "padding": null,
            "grid_auto_rows": null,
            "grid_gap": null,
            "max_width": null,
            "order": null,
            "_view_module_version": "1.2.0",
            "grid_template_areas": null,
            "object_position": null,
            "object_fit": null,
            "grid_auto_columns": null,
            "margin": null,
            "display": null,
            "left": null
          }
        },
        "1ac4c0fe31d044be9b0acf973e2825aa": {
          "model_module": "@jupyter-widgets/controls",
          "model_name": "HBoxModel",
          "state": {
            "_view_name": "HBoxView",
            "_dom_classes": [],
            "_model_name": "HBoxModel",
            "_view_module": "@jupyter-widgets/controls",
            "_model_module_version": "1.5.0",
            "_view_count": null,
            "_view_module_version": "1.5.0",
            "box_style": "",
            "layout": "IPY_MODEL_1092a02601074bbd8e1da77ecc973e89",
            "_model_module": "@jupyter-widgets/controls",
            "children": [
              "IPY_MODEL_3639825ef05644d2b576e2feef90966e",
              "IPY_MODEL_10817f12076f485d8a7861c4896214ef"
            ]
          }
        },
        "1092a02601074bbd8e1da77ecc973e89": {
          "model_module": "@jupyter-widgets/base",
          "model_name": "LayoutModel",
          "state": {
            "_view_name": "LayoutView",
            "grid_template_rows": null,
            "right": null,
            "justify_content": null,
            "_view_module": "@jupyter-widgets/base",
            "overflow": null,
            "_model_module_version": "1.2.0",
            "_view_count": null,
            "flex_flow": null,
            "width": null,
            "min_width": null,
            "border": null,
            "align_items": null,
            "bottom": null,
            "_model_module": "@jupyter-widgets/base",
            "top": null,
            "grid_column": null,
            "overflow_y": null,
            "overflow_x": null,
            "grid_auto_flow": null,
            "grid_area": null,
            "grid_template_columns": null,
            "flex": null,
            "_model_name": "LayoutModel",
            "justify_items": null,
            "grid_row": null,
            "max_height": null,
            "align_content": null,
            "visibility": null,
            "align_self": null,
            "height": null,
            "min_height": null,
            "padding": null,
            "grid_auto_rows": null,
            "grid_gap": null,
            "max_width": null,
            "order": null,
            "_view_module_version": "1.2.0",
            "grid_template_areas": null,
            "object_position": null,
            "object_fit": null,
            "grid_auto_columns": null,
            "margin": null,
            "display": null,
            "left": null
          }
        },
        "3639825ef05644d2b576e2feef90966e": {
          "model_module": "@jupyter-widgets/controls",
          "model_name": "FloatProgressModel",
          "state": {
            "_view_name": "ProgressView",
            "style": "IPY_MODEL_7ed257a9a6f14e66863034620b7371c0",
            "_dom_classes": [],
            "description": "100%",
            "_model_name": "FloatProgressModel",
            "bar_style": "success",
            "max": 10000,
            "_view_module": "@jupyter-widgets/controls",
            "_model_module_version": "1.5.0",
            "value": 10000,
            "_view_count": null,
            "_view_module_version": "1.5.0",
            "orientation": "horizontal",
            "min": 0,
            "description_tooltip": null,
            "_model_module": "@jupyter-widgets/controls",
            "layout": "IPY_MODEL_f518c57f3397436e88e46e44038e43c0"
          }
        },
        "10817f12076f485d8a7861c4896214ef": {
          "model_module": "@jupyter-widgets/controls",
          "model_name": "HTMLModel",
          "state": {
            "_view_name": "HTMLView",
            "style": "IPY_MODEL_473c47946b8344b98b12b894d55ebbf7",
            "_dom_classes": [],
            "description": "",
            "_model_name": "HTMLModel",
            "placeholder": "​",
            "_view_module": "@jupyter-widgets/controls",
            "_model_module_version": "1.5.0",
            "value": " 10000/10000 [00:05&lt;00:00, 1797.14it/s]",
            "_view_count": null,
            "_view_module_version": "1.5.0",
            "description_tooltip": null,
            "_model_module": "@jupyter-widgets/controls",
            "layout": "IPY_MODEL_31155e48bb214cd1aa8e01c40b3beb8d"
          }
        },
        "7ed257a9a6f14e66863034620b7371c0": {
          "model_module": "@jupyter-widgets/controls",
          "model_name": "ProgressStyleModel",
          "state": {
            "_view_name": "StyleView",
            "_model_name": "ProgressStyleModel",
            "description_width": "initial",
            "_view_module": "@jupyter-widgets/base",
            "_model_module_version": "1.5.0",
            "_view_count": null,
            "_view_module_version": "1.2.0",
            "bar_color": null,
            "_model_module": "@jupyter-widgets/controls"
          }
        },
        "f518c57f3397436e88e46e44038e43c0": {
          "model_module": "@jupyter-widgets/base",
          "model_name": "LayoutModel",
          "state": {
            "_view_name": "LayoutView",
            "grid_template_rows": null,
            "right": null,
            "justify_content": null,
            "_view_module": "@jupyter-widgets/base",
            "overflow": null,
            "_model_module_version": "1.2.0",
            "_view_count": null,
            "flex_flow": null,
            "width": null,
            "min_width": null,
            "border": null,
            "align_items": null,
            "bottom": null,
            "_model_module": "@jupyter-widgets/base",
            "top": null,
            "grid_column": null,
            "overflow_y": null,
            "overflow_x": null,
            "grid_auto_flow": null,
            "grid_area": null,
            "grid_template_columns": null,
            "flex": null,
            "_model_name": "LayoutModel",
            "justify_items": null,
            "grid_row": null,
            "max_height": null,
            "align_content": null,
            "visibility": null,
            "align_self": null,
            "height": null,
            "min_height": null,
            "padding": null,
            "grid_auto_rows": null,
            "grid_gap": null,
            "max_width": null,
            "order": null,
            "_view_module_version": "1.2.0",
            "grid_template_areas": null,
            "object_position": null,
            "object_fit": null,
            "grid_auto_columns": null,
            "margin": null,
            "display": null,
            "left": null
          }
        },
        "473c47946b8344b98b12b894d55ebbf7": {
          "model_module": "@jupyter-widgets/controls",
          "model_name": "DescriptionStyleModel",
          "state": {
            "_view_name": "StyleView",
            "_model_name": "DescriptionStyleModel",
            "description_width": "",
            "_view_module": "@jupyter-widgets/base",
            "_model_module_version": "1.5.0",
            "_view_count": null,
            "_view_module_version": "1.2.0",
            "_model_module": "@jupyter-widgets/controls"
          }
        },
        "31155e48bb214cd1aa8e01c40b3beb8d": {
          "model_module": "@jupyter-widgets/base",
          "model_name": "LayoutModel",
          "state": {
            "_view_name": "LayoutView",
            "grid_template_rows": null,
            "right": null,
            "justify_content": null,
            "_view_module": "@jupyter-widgets/base",
            "overflow": null,
            "_model_module_version": "1.2.0",
            "_view_count": null,
            "flex_flow": null,
            "width": null,
            "min_width": null,
            "border": null,
            "align_items": null,
            "bottom": null,
            "_model_module": "@jupyter-widgets/base",
            "top": null,
            "grid_column": null,
            "overflow_y": null,
            "overflow_x": null,
            "grid_auto_flow": null,
            "grid_area": null,
            "grid_template_columns": null,
            "flex": null,
            "_model_name": "LayoutModel",
            "justify_items": null,
            "grid_row": null,
            "max_height": null,
            "align_content": null,
            "visibility": null,
            "align_self": null,
            "height": null,
            "min_height": null,
            "padding": null,
            "grid_auto_rows": null,
            "grid_gap": null,
            "max_width": null,
            "order": null,
            "_view_module_version": "1.2.0",
            "grid_template_areas": null,
            "object_position": null,
            "object_fit": null,
            "grid_auto_columns": null,
            "margin": null,
            "display": null,
            "left": null
          }
        },
        "6cfb48c306b84759a75fdace661deff5": {
          "model_module": "@jupyter-widgets/controls",
          "model_name": "HBoxModel",
          "state": {
            "_view_name": "HBoxView",
            "_dom_classes": [],
            "_model_name": "HBoxModel",
            "_view_module": "@jupyter-widgets/controls",
            "_model_module_version": "1.5.0",
            "_view_count": null,
            "_view_module_version": "1.5.0",
            "box_style": "",
            "layout": "IPY_MODEL_67035668626e4bdaa85912b10c70ff31",
            "_model_module": "@jupyter-widgets/controls",
            "children": [
              "IPY_MODEL_98520dee45ef4faf8c8f802a23c0e72b",
              "IPY_MODEL_db616423bc084185bc2bb31f084b7ed1"
            ]
          }
        },
        "67035668626e4bdaa85912b10c70ff31": {
          "model_module": "@jupyter-widgets/base",
          "model_name": "LayoutModel",
          "state": {
            "_view_name": "LayoutView",
            "grid_template_rows": null,
            "right": null,
            "justify_content": null,
            "_view_module": "@jupyter-widgets/base",
            "overflow": null,
            "_model_module_version": "1.2.0",
            "_view_count": null,
            "flex_flow": null,
            "width": null,
            "min_width": null,
            "border": null,
            "align_items": null,
            "bottom": null,
            "_model_module": "@jupyter-widgets/base",
            "top": null,
            "grid_column": null,
            "overflow_y": null,
            "overflow_x": null,
            "grid_auto_flow": null,
            "grid_area": null,
            "grid_template_columns": null,
            "flex": null,
            "_model_name": "LayoutModel",
            "justify_items": null,
            "grid_row": null,
            "max_height": null,
            "align_content": null,
            "visibility": null,
            "align_self": null,
            "height": null,
            "min_height": null,
            "padding": null,
            "grid_auto_rows": null,
            "grid_gap": null,
            "max_width": null,
            "order": null,
            "_view_module_version": "1.2.0",
            "grid_template_areas": null,
            "object_position": null,
            "object_fit": null,
            "grid_auto_columns": null,
            "margin": null,
            "display": null,
            "left": null
          }
        },
        "98520dee45ef4faf8c8f802a23c0e72b": {
          "model_module": "@jupyter-widgets/controls",
          "model_name": "FloatProgressModel",
          "state": {
            "_view_name": "ProgressView",
            "style": "IPY_MODEL_4a9909349e324064b9f03182a520bbef",
            "_dom_classes": [],
            "description": "Contando: 100%",
            "_model_name": "FloatProgressModel",
            "bar_style": "success",
            "max": 10000,
            "_view_module": "@jupyter-widgets/controls",
            "_model_module_version": "1.5.0",
            "value": 10000,
            "_view_count": null,
            "_view_module_version": "1.5.0",
            "orientation": "horizontal",
            "min": 0,
            "description_tooltip": null,
            "_model_module": "@jupyter-widgets/controls",
            "layout": "IPY_MODEL_ee79841201614f7ba45fa991e108f0f5"
          }
        },
        "db616423bc084185bc2bb31f084b7ed1": {
          "model_module": "@jupyter-widgets/controls",
          "model_name": "HTMLModel",
          "state": {
            "_view_name": "HTMLView",
            "style": "IPY_MODEL_fc06047c092f4c34b3f869d3c6c2d980",
            "_dom_classes": [],
            "description": "",
            "_model_name": "HTMLModel",
            "placeholder": "​",
            "_view_module": "@jupyter-widgets/controls",
            "_model_module_version": "1.5.0",
            "value": " 10000/10000 [00:22&lt;00:00, 441.36vezes/s]",
            "_view_count": null,
            "_view_module_version": "1.5.0",
            "description_tooltip": null,
            "_model_module": "@jupyter-widgets/controls",
            "layout": "IPY_MODEL_be1daa7839de4709b2c5dca430f0243e"
          }
        },
        "4a9909349e324064b9f03182a520bbef": {
          "model_module": "@jupyter-widgets/controls",
          "model_name": "ProgressStyleModel",
          "state": {
            "_view_name": "StyleView",
            "_model_name": "ProgressStyleModel",
            "description_width": "initial",
            "_view_module": "@jupyter-widgets/base",
            "_model_module_version": "1.5.0",
            "_view_count": null,
            "_view_module_version": "1.2.0",
            "bar_color": null,
            "_model_module": "@jupyter-widgets/controls"
          }
        },
        "ee79841201614f7ba45fa991e108f0f5": {
          "model_module": "@jupyter-widgets/base",
          "model_name": "LayoutModel",
          "state": {
            "_view_name": "LayoutView",
            "grid_template_rows": null,
            "right": null,
            "justify_content": null,
            "_view_module": "@jupyter-widgets/base",
            "overflow": null,
            "_model_module_version": "1.2.0",
            "_view_count": null,
            "flex_flow": null,
            "width": null,
            "min_width": null,
            "border": null,
            "align_items": null,
            "bottom": null,
            "_model_module": "@jupyter-widgets/base",
            "top": null,
            "grid_column": null,
            "overflow_y": null,
            "overflow_x": null,
            "grid_auto_flow": null,
            "grid_area": null,
            "grid_template_columns": null,
            "flex": null,
            "_model_name": "LayoutModel",
            "justify_items": null,
            "grid_row": null,
            "max_height": null,
            "align_content": null,
            "visibility": null,
            "align_self": null,
            "height": null,
            "min_height": null,
            "padding": null,
            "grid_auto_rows": null,
            "grid_gap": null,
            "max_width": null,
            "order": null,
            "_view_module_version": "1.2.0",
            "grid_template_areas": null,
            "object_position": null,
            "object_fit": null,
            "grid_auto_columns": null,
            "margin": null,
            "display": null,
            "left": null
          }
        },
        "fc06047c092f4c34b3f869d3c6c2d980": {
          "model_module": "@jupyter-widgets/controls",
          "model_name": "DescriptionStyleModel",
          "state": {
            "_view_name": "StyleView",
            "_model_name": "DescriptionStyleModel",
            "description_width": "",
            "_view_module": "@jupyter-widgets/base",
            "_model_module_version": "1.5.0",
            "_view_count": null,
            "_view_module_version": "1.2.0",
            "_model_module": "@jupyter-widgets/controls"
          }
        },
        "be1daa7839de4709b2c5dca430f0243e": {
          "model_module": "@jupyter-widgets/base",
          "model_name": "LayoutModel",
          "state": {
            "_view_name": "LayoutView",
            "grid_template_rows": null,
            "right": null,
            "justify_content": null,
            "_view_module": "@jupyter-widgets/base",
            "overflow": null,
            "_model_module_version": "1.2.0",
            "_view_count": null,
            "flex_flow": null,
            "width": null,
            "min_width": null,
            "border": null,
            "align_items": null,
            "bottom": null,
            "_model_module": "@jupyter-widgets/base",
            "top": null,
            "grid_column": null,
            "overflow_y": null,
            "overflow_x": null,
            "grid_auto_flow": null,
            "grid_area": null,
            "grid_template_columns": null,
            "flex": null,
            "_model_name": "LayoutModel",
            "justify_items": null,
            "grid_row": null,
            "max_height": null,
            "align_content": null,
            "visibility": null,
            "align_self": null,
            "height": null,
            "min_height": null,
            "padding": null,
            "grid_auto_rows": null,
            "grid_gap": null,
            "max_width": null,
            "order": null,
            "_view_module_version": "1.2.0",
            "grid_template_areas": null,
            "object_position": null,
            "object_fit": null,
            "grid_auto_columns": null,
            "margin": null,
            "display": null,
            "left": null
          }
        },
        "3a892d55d5014451999da58bd1583d51": {
          "model_module": "@jupyter-widgets/controls",
          "model_name": "HBoxModel",
          "state": {
            "_view_name": "HBoxView",
            "_dom_classes": [],
            "_model_name": "HBoxModel",
            "_view_module": "@jupyter-widgets/controls",
            "_model_module_version": "1.5.0",
            "_view_count": null,
            "_view_module_version": "1.5.0",
            "box_style": "",
            "layout": "IPY_MODEL_cf41c52677a049edb6bbba02d22e55bf",
            "_model_module": "@jupyter-widgets/controls",
            "children": [
              "IPY_MODEL_9ab4829504fe4590adac102c528ab7da",
              "IPY_MODEL_e4804ea2c7954f0083a20e1b505af871"
            ]
          }
        },
        "cf41c52677a049edb6bbba02d22e55bf": {
          "model_module": "@jupyter-widgets/base",
          "model_name": "LayoutModel",
          "state": {
            "_view_name": "LayoutView",
            "grid_template_rows": null,
            "right": null,
            "justify_content": null,
            "_view_module": "@jupyter-widgets/base",
            "overflow": null,
            "_model_module_version": "1.2.0",
            "_view_count": null,
            "flex_flow": null,
            "width": null,
            "min_width": null,
            "border": null,
            "align_items": null,
            "bottom": null,
            "_model_module": "@jupyter-widgets/base",
            "top": null,
            "grid_column": null,
            "overflow_y": null,
            "overflow_x": null,
            "grid_auto_flow": null,
            "grid_area": null,
            "grid_template_columns": null,
            "flex": null,
            "_model_name": "LayoutModel",
            "justify_items": null,
            "grid_row": null,
            "max_height": null,
            "align_content": null,
            "visibility": null,
            "align_self": null,
            "height": null,
            "min_height": null,
            "padding": null,
            "grid_auto_rows": null,
            "grid_gap": null,
            "max_width": null,
            "order": null,
            "_view_module_version": "1.2.0",
            "grid_template_areas": null,
            "object_position": null,
            "object_fit": null,
            "grid_auto_columns": null,
            "margin": null,
            "display": null,
            "left": null
          }
        },
        "9ab4829504fe4590adac102c528ab7da": {
          "model_module": "@jupyter-widgets/controls",
          "model_name": "FloatProgressModel",
          "state": {
            "_view_name": "ProgressView",
            "style": "IPY_MODEL_30983620b9804e85a341fef892ed99ee",
            "_dom_classes": [],
            "description": "Contando: 100%",
            "_model_name": "FloatProgressModel",
            "bar_style": "success",
            "max": 1000,
            "_view_module": "@jupyter-widgets/controls",
            "_model_module_version": "1.5.0",
            "value": 1000,
            "_view_count": null,
            "_view_module_version": "1.5.0",
            "orientation": "horizontal",
            "min": 0,
            "description_tooltip": null,
            "_model_module": "@jupyter-widgets/controls",
            "layout": "IPY_MODEL_9e397408d57d4f85b5bf5c9b7d2e97cb"
          }
        },
        "e4804ea2c7954f0083a20e1b505af871": {
          "model_module": "@jupyter-widgets/controls",
          "model_name": "HTMLModel",
          "state": {
            "_view_name": "HTMLView",
            "style": "IPY_MODEL_bd5cd1d698954839a27c7412d8fba925",
            "_dom_classes": [],
            "description": "",
            "_model_name": "HTMLModel",
            "placeholder": "​",
            "_view_module": "@jupyter-widgets/controls",
            "_model_module_version": "1.5.0",
            "value": " 1000/1000 [00:01&lt;00:00, 986.37vezes/s, tamanho=1000]",
            "_view_count": null,
            "_view_module_version": "1.5.0",
            "description_tooltip": null,
            "_model_module": "@jupyter-widgets/controls",
            "layout": "IPY_MODEL_fb2164c9e40b4bec9d6740716802ef43"
          }
        },
        "30983620b9804e85a341fef892ed99ee": {
          "model_module": "@jupyter-widgets/controls",
          "model_name": "ProgressStyleModel",
          "state": {
            "_view_name": "StyleView",
            "_model_name": "ProgressStyleModel",
            "description_width": "initial",
            "_view_module": "@jupyter-widgets/base",
            "_model_module_version": "1.5.0",
            "_view_count": null,
            "_view_module_version": "1.2.0",
            "bar_color": null,
            "_model_module": "@jupyter-widgets/controls"
          }
        },
        "9e397408d57d4f85b5bf5c9b7d2e97cb": {
          "model_module": "@jupyter-widgets/base",
          "model_name": "LayoutModel",
          "state": {
            "_view_name": "LayoutView",
            "grid_template_rows": null,
            "right": null,
            "justify_content": null,
            "_view_module": "@jupyter-widgets/base",
            "overflow": null,
            "_model_module_version": "1.2.0",
            "_view_count": null,
            "flex_flow": null,
            "width": null,
            "min_width": null,
            "border": null,
            "align_items": null,
            "bottom": null,
            "_model_module": "@jupyter-widgets/base",
            "top": null,
            "grid_column": null,
            "overflow_y": null,
            "overflow_x": null,
            "grid_auto_flow": null,
            "grid_area": null,
            "grid_template_columns": null,
            "flex": null,
            "_model_name": "LayoutModel",
            "justify_items": null,
            "grid_row": null,
            "max_height": null,
            "align_content": null,
            "visibility": null,
            "align_self": null,
            "height": null,
            "min_height": null,
            "padding": null,
            "grid_auto_rows": null,
            "grid_gap": null,
            "max_width": null,
            "order": null,
            "_view_module_version": "1.2.0",
            "grid_template_areas": null,
            "object_position": null,
            "object_fit": null,
            "grid_auto_columns": null,
            "margin": null,
            "display": null,
            "left": null
          }
        },
        "bd5cd1d698954839a27c7412d8fba925": {
          "model_module": "@jupyter-widgets/controls",
          "model_name": "DescriptionStyleModel",
          "state": {
            "_view_name": "StyleView",
            "_model_name": "DescriptionStyleModel",
            "description_width": "",
            "_view_module": "@jupyter-widgets/base",
            "_model_module_version": "1.5.0",
            "_view_count": null,
            "_view_module_version": "1.2.0",
            "_model_module": "@jupyter-widgets/controls"
          }
        },
        "fb2164c9e40b4bec9d6740716802ef43": {
          "model_module": "@jupyter-widgets/base",
          "model_name": "LayoutModel",
          "state": {
            "_view_name": "LayoutView",
            "grid_template_rows": null,
            "right": null,
            "justify_content": null,
            "_view_module": "@jupyter-widgets/base",
            "overflow": null,
            "_model_module_version": "1.2.0",
            "_view_count": null,
            "flex_flow": null,
            "width": null,
            "min_width": null,
            "border": null,
            "align_items": null,
            "bottom": null,
            "_model_module": "@jupyter-widgets/base",
            "top": null,
            "grid_column": null,
            "overflow_y": null,
            "overflow_x": null,
            "grid_auto_flow": null,
            "grid_area": null,
            "grid_template_columns": null,
            "flex": null,
            "_model_name": "LayoutModel",
            "justify_items": null,
            "grid_row": null,
            "max_height": null,
            "align_content": null,
            "visibility": null,
            "align_self": null,
            "height": null,
            "min_height": null,
            "padding": null,
            "grid_auto_rows": null,
            "grid_gap": null,
            "max_width": null,
            "order": null,
            "_view_module_version": "1.2.0",
            "grid_template_areas": null,
            "object_position": null,
            "object_fit": null,
            "grid_auto_columns": null,
            "margin": null,
            "display": null,
            "left": null
          }
        },
        "155b8313c21f4b2c86918c88c137ddef": {
          "model_module": "@jupyter-widgets/controls",
          "model_name": "HBoxModel",
          "state": {
            "_view_name": "HBoxView",
            "_dom_classes": [],
            "_model_name": "HBoxModel",
            "_view_module": "@jupyter-widgets/controls",
            "_model_module_version": "1.5.0",
            "_view_count": null,
            "_view_module_version": "1.5.0",
            "box_style": "",
            "layout": "IPY_MODEL_259545d0a5ca4715a286aee95de187d6",
            "_model_module": "@jupyter-widgets/controls",
            "children": [
              "IPY_MODEL_d534bf94598242c5990b5f52c02d0630",
              "IPY_MODEL_885641e5c1ae4ae2baf705c6277b4a45"
            ]
          }
        },
        "259545d0a5ca4715a286aee95de187d6": {
          "model_module": "@jupyter-widgets/base",
          "model_name": "LayoutModel",
          "state": {
            "_view_name": "LayoutView",
            "grid_template_rows": null,
            "right": null,
            "justify_content": null,
            "_view_module": "@jupyter-widgets/base",
            "overflow": null,
            "_model_module_version": "1.2.0",
            "_view_count": null,
            "flex_flow": null,
            "width": null,
            "min_width": null,
            "border": null,
            "align_items": null,
            "bottom": null,
            "_model_module": "@jupyter-widgets/base",
            "top": null,
            "grid_column": null,
            "overflow_y": null,
            "overflow_x": null,
            "grid_auto_flow": null,
            "grid_area": null,
            "grid_template_columns": null,
            "flex": null,
            "_model_name": "LayoutModel",
            "justify_items": null,
            "grid_row": null,
            "max_height": null,
            "align_content": null,
            "visibility": null,
            "align_self": null,
            "height": null,
            "min_height": null,
            "padding": null,
            "grid_auto_rows": null,
            "grid_gap": null,
            "max_width": null,
            "order": null,
            "_view_module_version": "1.2.0",
            "grid_template_areas": null,
            "object_position": null,
            "object_fit": null,
            "grid_auto_columns": null,
            "margin": null,
            "display": null,
            "left": null
          }
        },
        "d534bf94598242c5990b5f52c02d0630": {
          "model_module": "@jupyter-widgets/controls",
          "model_name": "FloatProgressModel",
          "state": {
            "_view_name": "ProgressView",
            "style": "IPY_MODEL_5e2f9bde91324c14a2e5d9c6686b9341",
            "_dom_classes": [],
            "description": "1o Laço: 100%",
            "_model_name": "FloatProgressModel",
            "bar_style": "success",
            "max": 5,
            "_view_module": "@jupyter-widgets/controls",
            "_model_module_version": "1.5.0",
            "value": 5,
            "_view_count": null,
            "_view_module_version": "1.5.0",
            "orientation": "horizontal",
            "min": 0,
            "description_tooltip": null,
            "_model_module": "@jupyter-widgets/controls",
            "layout": "IPY_MODEL_180c3f5c46024bb8aa0e66c00c0fdefe"
          }
        },
        "885641e5c1ae4ae2baf705c6277b4a45": {
          "model_module": "@jupyter-widgets/controls",
          "model_name": "HTMLModel",
          "state": {
            "_view_name": "HTMLView",
            "style": "IPY_MODEL_2d1caa7a022c4268a00372ae64eb6b14",
            "_dom_classes": [],
            "description": "",
            "_model_name": "HTMLModel",
            "placeholder": "​",
            "_view_module": "@jupyter-widgets/controls",
            "_model_module_version": "1.5.0",
            "value": " 5/5 [00:16&lt;00:00,  3.24s/it]",
            "_view_count": null,
            "_view_module_version": "1.5.0",
            "description_tooltip": null,
            "_model_module": "@jupyter-widgets/controls",
            "layout": "IPY_MODEL_6073cbb29bfb489ea9e68a52f49b79af"
          }
        },
        "5e2f9bde91324c14a2e5d9c6686b9341": {
          "model_module": "@jupyter-widgets/controls",
          "model_name": "ProgressStyleModel",
          "state": {
            "_view_name": "StyleView",
            "_model_name": "ProgressStyleModel",
            "description_width": "initial",
            "_view_module": "@jupyter-widgets/base",
            "_model_module_version": "1.5.0",
            "_view_count": null,
            "_view_module_version": "1.2.0",
            "bar_color": null,
            "_model_module": "@jupyter-widgets/controls"
          }
        },
        "180c3f5c46024bb8aa0e66c00c0fdefe": {
          "model_module": "@jupyter-widgets/base",
          "model_name": "LayoutModel",
          "state": {
            "_view_name": "LayoutView",
            "grid_template_rows": null,
            "right": null,
            "justify_content": null,
            "_view_module": "@jupyter-widgets/base",
            "overflow": null,
            "_model_module_version": "1.2.0",
            "_view_count": null,
            "flex_flow": null,
            "width": null,
            "min_width": null,
            "border": null,
            "align_items": null,
            "bottom": null,
            "_model_module": "@jupyter-widgets/base",
            "top": null,
            "grid_column": null,
            "overflow_y": null,
            "overflow_x": null,
            "grid_auto_flow": null,
            "grid_area": null,
            "grid_template_columns": null,
            "flex": null,
            "_model_name": "LayoutModel",
            "justify_items": null,
            "grid_row": null,
            "max_height": null,
            "align_content": null,
            "visibility": null,
            "align_self": null,
            "height": null,
            "min_height": null,
            "padding": null,
            "grid_auto_rows": null,
            "grid_gap": null,
            "max_width": null,
            "order": null,
            "_view_module_version": "1.2.0",
            "grid_template_areas": null,
            "object_position": null,
            "object_fit": null,
            "grid_auto_columns": null,
            "margin": null,
            "display": null,
            "left": null
          }
        },
        "2d1caa7a022c4268a00372ae64eb6b14": {
          "model_module": "@jupyter-widgets/controls",
          "model_name": "DescriptionStyleModel",
          "state": {
            "_view_name": "StyleView",
            "_model_name": "DescriptionStyleModel",
            "description_width": "",
            "_view_module": "@jupyter-widgets/base",
            "_model_module_version": "1.5.0",
            "_view_count": null,
            "_view_module_version": "1.2.0",
            "_model_module": "@jupyter-widgets/controls"
          }
        },
        "6073cbb29bfb489ea9e68a52f49b79af": {
          "model_module": "@jupyter-widgets/base",
          "model_name": "LayoutModel",
          "state": {
            "_view_name": "LayoutView",
            "grid_template_rows": null,
            "right": null,
            "justify_content": null,
            "_view_module": "@jupyter-widgets/base",
            "overflow": null,
            "_model_module_version": "1.2.0",
            "_view_count": null,
            "flex_flow": null,
            "width": null,
            "min_width": null,
            "border": null,
            "align_items": null,
            "bottom": null,
            "_model_module": "@jupyter-widgets/base",
            "top": null,
            "grid_column": null,
            "overflow_y": null,
            "overflow_x": null,
            "grid_auto_flow": null,
            "grid_area": null,
            "grid_template_columns": null,
            "flex": null,
            "_model_name": "LayoutModel",
            "justify_items": null,
            "grid_row": null,
            "max_height": null,
            "align_content": null,
            "visibility": null,
            "align_self": null,
            "height": null,
            "min_height": null,
            "padding": null,
            "grid_auto_rows": null,
            "grid_gap": null,
            "max_width": null,
            "order": null,
            "_view_module_version": "1.2.0",
            "grid_template_areas": null,
            "object_position": null,
            "object_fit": null,
            "grid_auto_columns": null,
            "margin": null,
            "display": null,
            "left": null
          }
        },
        "689b57de51b54d69860d6f7659ff46f6": {
          "model_module": "@jupyter-widgets/controls",
          "model_name": "HBoxModel",
          "state": {
            "_view_name": "HBoxView",
            "_dom_classes": [],
            "_model_name": "HBoxModel",
            "_view_module": "@jupyter-widgets/controls",
            "_model_module_version": "1.5.0",
            "_view_count": null,
            "_view_module_version": "1.5.0",
            "box_style": "",
            "layout": "IPY_MODEL_6c63ab6ce47a44ee9202f6a2cb60525e",
            "_model_module": "@jupyter-widgets/controls",
            "children": [
              "IPY_MODEL_418d673c12764ddd829e1f4058257960",
              "IPY_MODEL_a0d7d5e306e3410e8cfc6e697e0c4414"
            ]
          }
        },
        "6c63ab6ce47a44ee9202f6a2cb60525e": {
          "model_module": "@jupyter-widgets/base",
          "model_name": "LayoutModel",
          "state": {
            "_view_name": "LayoutView",
            "grid_template_rows": null,
            "right": null,
            "justify_content": null,
            "_view_module": "@jupyter-widgets/base",
            "overflow": null,
            "_model_module_version": "1.2.0",
            "_view_count": null,
            "flex_flow": null,
            "width": null,
            "min_width": null,
            "border": null,
            "align_items": null,
            "bottom": null,
            "_model_module": "@jupyter-widgets/base",
            "top": null,
            "grid_column": null,
            "overflow_y": null,
            "overflow_x": null,
            "grid_auto_flow": null,
            "grid_area": null,
            "grid_template_columns": null,
            "flex": null,
            "_model_name": "LayoutModel",
            "justify_items": null,
            "grid_row": null,
            "max_height": null,
            "align_content": null,
            "visibility": null,
            "align_self": null,
            "height": null,
            "min_height": null,
            "padding": null,
            "grid_auto_rows": null,
            "grid_gap": null,
            "max_width": null,
            "order": null,
            "_view_module_version": "1.2.0",
            "grid_template_areas": null,
            "object_position": null,
            "object_fit": null,
            "grid_auto_columns": null,
            "margin": null,
            "display": null,
            "left": null
          }
        },
        "418d673c12764ddd829e1f4058257960": {
          "model_module": "@jupyter-widgets/controls",
          "model_name": "FloatProgressModel",
          "state": {
            "_view_name": "ProgressView",
            "style": "IPY_MODEL_5c4af51aba1f40538f82d205f0fae416",
            "_dom_classes": [],
            "description": "2o Laço: 100%",
            "_model_name": "FloatProgressModel",
            "bar_style": "",
            "max": 100,
            "_view_module": "@jupyter-widgets/controls",
            "_model_module_version": "1.5.0",
            "value": 100,
            "_view_count": null,
            "_view_module_version": "1.5.0",
            "orientation": "horizontal",
            "min": 0,
            "description_tooltip": null,
            "_model_module": "@jupyter-widgets/controls",
            "layout": "IPY_MODEL_1737d56454724db8bf973e5f9ab0473b"
          }
        },
        "a0d7d5e306e3410e8cfc6e697e0c4414": {
          "model_module": "@jupyter-widgets/controls",
          "model_name": "HTMLModel",
          "state": {
            "_view_name": "HTMLView",
            "style": "IPY_MODEL_9586b99ba20743539aed2090b4bf44a8",
            "_dom_classes": [],
            "description": "",
            "_model_name": "HTMLModel",
            "placeholder": "​",
            "_view_module": "@jupyter-widgets/controls",
            "_model_module_version": "1.5.0",
            "value": " 100/100 [00:02&lt;00:00, 48.56it/s]",
            "_view_count": null,
            "_view_module_version": "1.5.0",
            "description_tooltip": null,
            "_model_module": "@jupyter-widgets/controls",
            "layout": "IPY_MODEL_9b708c683ee640eca179cf661235acb7"
          }
        },
        "5c4af51aba1f40538f82d205f0fae416": {
          "model_module": "@jupyter-widgets/controls",
          "model_name": "ProgressStyleModel",
          "state": {
            "_view_name": "StyleView",
            "_model_name": "ProgressStyleModel",
            "description_width": "initial",
            "_view_module": "@jupyter-widgets/base",
            "_model_module_version": "1.5.0",
            "_view_count": null,
            "_view_module_version": "1.2.0",
            "bar_color": null,
            "_model_module": "@jupyter-widgets/controls"
          }
        },
        "1737d56454724db8bf973e5f9ab0473b": {
          "model_module": "@jupyter-widgets/base",
          "model_name": "LayoutModel",
          "state": {
            "_view_name": "LayoutView",
            "grid_template_rows": null,
            "right": null,
            "justify_content": null,
            "_view_module": "@jupyter-widgets/base",
            "overflow": null,
            "_model_module_version": "1.2.0",
            "_view_count": null,
            "flex_flow": null,
            "width": null,
            "min_width": null,
            "border": null,
            "align_items": null,
            "bottom": null,
            "_model_module": "@jupyter-widgets/base",
            "top": null,
            "grid_column": null,
            "overflow_y": null,
            "overflow_x": null,
            "grid_auto_flow": null,
            "grid_area": null,
            "grid_template_columns": null,
            "flex": null,
            "_model_name": "LayoutModel",
            "justify_items": null,
            "grid_row": null,
            "max_height": null,
            "align_content": null,
            "visibility": null,
            "align_self": null,
            "height": null,
            "min_height": null,
            "padding": null,
            "grid_auto_rows": null,
            "grid_gap": null,
            "max_width": null,
            "order": null,
            "_view_module_version": "1.2.0",
            "grid_template_areas": null,
            "object_position": null,
            "object_fit": null,
            "grid_auto_columns": null,
            "margin": null,
            "display": null,
            "left": null
          }
        },
        "9586b99ba20743539aed2090b4bf44a8": {
          "model_module": "@jupyter-widgets/controls",
          "model_name": "DescriptionStyleModel",
          "state": {
            "_view_name": "StyleView",
            "_model_name": "DescriptionStyleModel",
            "description_width": "",
            "_view_module": "@jupyter-widgets/base",
            "_model_module_version": "1.5.0",
            "_view_count": null,
            "_view_module_version": "1.2.0",
            "_model_module": "@jupyter-widgets/controls"
          }
        },
        "9b708c683ee640eca179cf661235acb7": {
          "model_module": "@jupyter-widgets/base",
          "model_name": "LayoutModel",
          "state": {
            "_view_name": "LayoutView",
            "grid_template_rows": null,
            "right": null,
            "justify_content": null,
            "_view_module": "@jupyter-widgets/base",
            "overflow": null,
            "_model_module_version": "1.2.0",
            "_view_count": null,
            "flex_flow": null,
            "width": null,
            "min_width": null,
            "border": null,
            "align_items": null,
            "bottom": null,
            "_model_module": "@jupyter-widgets/base",
            "top": null,
            "grid_column": null,
            "overflow_y": null,
            "overflow_x": null,
            "grid_auto_flow": null,
            "grid_area": null,
            "grid_template_columns": null,
            "flex": null,
            "_model_name": "LayoutModel",
            "justify_items": null,
            "grid_row": null,
            "max_height": null,
            "align_content": null,
            "visibility": null,
            "align_self": null,
            "height": null,
            "min_height": null,
            "padding": null,
            "grid_auto_rows": null,
            "grid_gap": null,
            "max_width": null,
            "order": null,
            "_view_module_version": "1.2.0",
            "grid_template_areas": null,
            "object_position": null,
            "object_fit": null,
            "grid_auto_columns": null,
            "margin": null,
            "display": null,
            "left": null
          }
        },
        "7da2240f65104c3f8fd7f033b1a39af1": {
          "model_module": "@jupyter-widgets/controls",
          "model_name": "HBoxModel",
          "state": {
            "_view_name": "HBoxView",
            "_dom_classes": [],
            "_model_name": "HBoxModel",
            "_view_module": "@jupyter-widgets/controls",
            "_model_module_version": "1.5.0",
            "_view_count": null,
            "_view_module_version": "1.5.0",
            "box_style": "",
            "layout": "IPY_MODEL_849ed19ec66c4824b1fda9c1050fc09d",
            "_model_module": "@jupyter-widgets/controls",
            "children": [
              "IPY_MODEL_1d6927f81e9943d8841e0dc394daf8ac",
              "IPY_MODEL_fe656a2daec34be3866eb354393156d0"
            ]
          }
        },
        "849ed19ec66c4824b1fda9c1050fc09d": {
          "model_module": "@jupyter-widgets/base",
          "model_name": "LayoutModel",
          "state": {
            "_view_name": "LayoutView",
            "grid_template_rows": null,
            "right": null,
            "justify_content": null,
            "_view_module": "@jupyter-widgets/base",
            "overflow": null,
            "_model_module_version": "1.2.0",
            "_view_count": null,
            "flex_flow": null,
            "width": null,
            "min_width": null,
            "border": null,
            "align_items": null,
            "bottom": null,
            "_model_module": "@jupyter-widgets/base",
            "top": null,
            "grid_column": null,
            "overflow_y": null,
            "overflow_x": null,
            "grid_auto_flow": null,
            "grid_area": null,
            "grid_template_columns": null,
            "flex": null,
            "_model_name": "LayoutModel",
            "justify_items": null,
            "grid_row": null,
            "max_height": null,
            "align_content": null,
            "visibility": null,
            "align_self": null,
            "height": null,
            "min_height": null,
            "padding": null,
            "grid_auto_rows": null,
            "grid_gap": null,
            "max_width": null,
            "order": null,
            "_view_module_version": "1.2.0",
            "grid_template_areas": null,
            "object_position": null,
            "object_fit": null,
            "grid_auto_columns": null,
            "margin": null,
            "display": null,
            "left": null
          }
        },
        "1d6927f81e9943d8841e0dc394daf8ac": {
          "model_module": "@jupyter-widgets/controls",
          "model_name": "FloatProgressModel",
          "state": {
            "_view_name": "ProgressView",
            "style": "IPY_MODEL_e0d9774d0a474a2fbd138b3756f4bcc2",
            "_dom_classes": [],
            "description": "2o Laço: 100%",
            "_model_name": "FloatProgressModel",
            "bar_style": "",
            "max": 100,
            "_view_module": "@jupyter-widgets/controls",
            "_model_module_version": "1.5.0",
            "value": 100,
            "_view_count": null,
            "_view_module_version": "1.5.0",
            "orientation": "horizontal",
            "min": 0,
            "description_tooltip": null,
            "_model_module": "@jupyter-widgets/controls",
            "layout": "IPY_MODEL_2a2db23b0cc543318f5c3fea639a4533"
          }
        },
        "fe656a2daec34be3866eb354393156d0": {
          "model_module": "@jupyter-widgets/controls",
          "model_name": "HTMLModel",
          "state": {
            "_view_name": "HTMLView",
            "style": "IPY_MODEL_c88e358e9fb348cea57e8ba86994d4f6",
            "_dom_classes": [],
            "description": "",
            "_model_name": "HTMLModel",
            "placeholder": "​",
            "_view_module": "@jupyter-widgets/controls",
            "_model_module_version": "1.5.0",
            "value": " 100/100 [00:02&lt;00:00, 48.79it/s]",
            "_view_count": null,
            "_view_module_version": "1.5.0",
            "description_tooltip": null,
            "_model_module": "@jupyter-widgets/controls",
            "layout": "IPY_MODEL_251f8835f5344ef09fbcf5bdb4a8f571"
          }
        },
        "e0d9774d0a474a2fbd138b3756f4bcc2": {
          "model_module": "@jupyter-widgets/controls",
          "model_name": "ProgressStyleModel",
          "state": {
            "_view_name": "StyleView",
            "_model_name": "ProgressStyleModel",
            "description_width": "initial",
            "_view_module": "@jupyter-widgets/base",
            "_model_module_version": "1.5.0",
            "_view_count": null,
            "_view_module_version": "1.2.0",
            "bar_color": null,
            "_model_module": "@jupyter-widgets/controls"
          }
        },
        "2a2db23b0cc543318f5c3fea639a4533": {
          "model_module": "@jupyter-widgets/base",
          "model_name": "LayoutModel",
          "state": {
            "_view_name": "LayoutView",
            "grid_template_rows": null,
            "right": null,
            "justify_content": null,
            "_view_module": "@jupyter-widgets/base",
            "overflow": null,
            "_model_module_version": "1.2.0",
            "_view_count": null,
            "flex_flow": null,
            "width": null,
            "min_width": null,
            "border": null,
            "align_items": null,
            "bottom": null,
            "_model_module": "@jupyter-widgets/base",
            "top": null,
            "grid_column": null,
            "overflow_y": null,
            "overflow_x": null,
            "grid_auto_flow": null,
            "grid_area": null,
            "grid_template_columns": null,
            "flex": null,
            "_model_name": "LayoutModel",
            "justify_items": null,
            "grid_row": null,
            "max_height": null,
            "align_content": null,
            "visibility": null,
            "align_self": null,
            "height": null,
            "min_height": null,
            "padding": null,
            "grid_auto_rows": null,
            "grid_gap": null,
            "max_width": null,
            "order": null,
            "_view_module_version": "1.2.0",
            "grid_template_areas": null,
            "object_position": null,
            "object_fit": null,
            "grid_auto_columns": null,
            "margin": null,
            "display": null,
            "left": null
          }
        },
        "c88e358e9fb348cea57e8ba86994d4f6": {
          "model_module": "@jupyter-widgets/controls",
          "model_name": "DescriptionStyleModel",
          "state": {
            "_view_name": "StyleView",
            "_model_name": "DescriptionStyleModel",
            "description_width": "",
            "_view_module": "@jupyter-widgets/base",
            "_model_module_version": "1.5.0",
            "_view_count": null,
            "_view_module_version": "1.2.0",
            "_model_module": "@jupyter-widgets/controls"
          }
        },
        "251f8835f5344ef09fbcf5bdb4a8f571": {
          "model_module": "@jupyter-widgets/base",
          "model_name": "LayoutModel",
          "state": {
            "_view_name": "LayoutView",
            "grid_template_rows": null,
            "right": null,
            "justify_content": null,
            "_view_module": "@jupyter-widgets/base",
            "overflow": null,
            "_model_module_version": "1.2.0",
            "_view_count": null,
            "flex_flow": null,
            "width": null,
            "min_width": null,
            "border": null,
            "align_items": null,
            "bottom": null,
            "_model_module": "@jupyter-widgets/base",
            "top": null,
            "grid_column": null,
            "overflow_y": null,
            "overflow_x": null,
            "grid_auto_flow": null,
            "grid_area": null,
            "grid_template_columns": null,
            "flex": null,
            "_model_name": "LayoutModel",
            "justify_items": null,
            "grid_row": null,
            "max_height": null,
            "align_content": null,
            "visibility": null,
            "align_self": null,
            "height": null,
            "min_height": null,
            "padding": null,
            "grid_auto_rows": null,
            "grid_gap": null,
            "max_width": null,
            "order": null,
            "_view_module_version": "1.2.0",
            "grid_template_areas": null,
            "object_position": null,
            "object_fit": null,
            "grid_auto_columns": null,
            "margin": null,
            "display": null,
            "left": null
          }
        },
        "5aef7c85dc64454b8e094d29830955d6": {
          "model_module": "@jupyter-widgets/controls",
          "model_name": "HBoxModel",
          "state": {
            "_view_name": "HBoxView",
            "_dom_classes": [],
            "_model_name": "HBoxModel",
            "_view_module": "@jupyter-widgets/controls",
            "_model_module_version": "1.5.0",
            "_view_count": null,
            "_view_module_version": "1.5.0",
            "box_style": "",
            "layout": "IPY_MODEL_05b1d104bada44e7bf8d0762d0c33d89",
            "_model_module": "@jupyter-widgets/controls",
            "children": [
              "IPY_MODEL_be58c93685654b3eaf642026540471f0",
              "IPY_MODEL_ff872c1a26c0492a9c26b7af9ca4f2e0"
            ]
          }
        },
        "05b1d104bada44e7bf8d0762d0c33d89": {
          "model_module": "@jupyter-widgets/base",
          "model_name": "LayoutModel",
          "state": {
            "_view_name": "LayoutView",
            "grid_template_rows": null,
            "right": null,
            "justify_content": null,
            "_view_module": "@jupyter-widgets/base",
            "overflow": null,
            "_model_module_version": "1.2.0",
            "_view_count": null,
            "flex_flow": null,
            "width": null,
            "min_width": null,
            "border": null,
            "align_items": null,
            "bottom": null,
            "_model_module": "@jupyter-widgets/base",
            "top": null,
            "grid_column": null,
            "overflow_y": null,
            "overflow_x": null,
            "grid_auto_flow": null,
            "grid_area": null,
            "grid_template_columns": null,
            "flex": null,
            "_model_name": "LayoutModel",
            "justify_items": null,
            "grid_row": null,
            "max_height": null,
            "align_content": null,
            "visibility": null,
            "align_self": null,
            "height": null,
            "min_height": null,
            "padding": null,
            "grid_auto_rows": null,
            "grid_gap": null,
            "max_width": null,
            "order": null,
            "_view_module_version": "1.2.0",
            "grid_template_areas": null,
            "object_position": null,
            "object_fit": null,
            "grid_auto_columns": null,
            "margin": null,
            "display": null,
            "left": null
          }
        },
        "be58c93685654b3eaf642026540471f0": {
          "model_module": "@jupyter-widgets/controls",
          "model_name": "FloatProgressModel",
          "state": {
            "_view_name": "ProgressView",
            "style": "IPY_MODEL_169aba7b5e3045618330ff793bffe32c",
            "_dom_classes": [],
            "description": "2o Laço: 100%",
            "_model_name": "FloatProgressModel",
            "bar_style": "",
            "max": 100,
            "_view_module": "@jupyter-widgets/controls",
            "_model_module_version": "1.5.0",
            "value": 100,
            "_view_count": null,
            "_view_module_version": "1.5.0",
            "orientation": "horizontal",
            "min": 0,
            "description_tooltip": null,
            "_model_module": "@jupyter-widgets/controls",
            "layout": "IPY_MODEL_d602bb121fc94b7aa52f2f286daf6692"
          }
        },
        "ff872c1a26c0492a9c26b7af9ca4f2e0": {
          "model_module": "@jupyter-widgets/controls",
          "model_name": "HTMLModel",
          "state": {
            "_view_name": "HTMLView",
            "style": "IPY_MODEL_72beb1b7fafc4c21969b68861a071979",
            "_dom_classes": [],
            "description": "",
            "_model_name": "HTMLModel",
            "placeholder": "​",
            "_view_module": "@jupyter-widgets/controls",
            "_model_module_version": "1.5.0",
            "value": " 100/100 [00:02&lt;00:00, 48.41it/s]",
            "_view_count": null,
            "_view_module_version": "1.5.0",
            "description_tooltip": null,
            "_model_module": "@jupyter-widgets/controls",
            "layout": "IPY_MODEL_0ede4f58523f44639655ee5b48f39462"
          }
        },
        "169aba7b5e3045618330ff793bffe32c": {
          "model_module": "@jupyter-widgets/controls",
          "model_name": "ProgressStyleModel",
          "state": {
            "_view_name": "StyleView",
            "_model_name": "ProgressStyleModel",
            "description_width": "initial",
            "_view_module": "@jupyter-widgets/base",
            "_model_module_version": "1.5.0",
            "_view_count": null,
            "_view_module_version": "1.2.0",
            "bar_color": null,
            "_model_module": "@jupyter-widgets/controls"
          }
        },
        "d602bb121fc94b7aa52f2f286daf6692": {
          "model_module": "@jupyter-widgets/base",
          "model_name": "LayoutModel",
          "state": {
            "_view_name": "LayoutView",
            "grid_template_rows": null,
            "right": null,
            "justify_content": null,
            "_view_module": "@jupyter-widgets/base",
            "overflow": null,
            "_model_module_version": "1.2.0",
            "_view_count": null,
            "flex_flow": null,
            "width": null,
            "min_width": null,
            "border": null,
            "align_items": null,
            "bottom": null,
            "_model_module": "@jupyter-widgets/base",
            "top": null,
            "grid_column": null,
            "overflow_y": null,
            "overflow_x": null,
            "grid_auto_flow": null,
            "grid_area": null,
            "grid_template_columns": null,
            "flex": null,
            "_model_name": "LayoutModel",
            "justify_items": null,
            "grid_row": null,
            "max_height": null,
            "align_content": null,
            "visibility": null,
            "align_self": null,
            "height": null,
            "min_height": null,
            "padding": null,
            "grid_auto_rows": null,
            "grid_gap": null,
            "max_width": null,
            "order": null,
            "_view_module_version": "1.2.0",
            "grid_template_areas": null,
            "object_position": null,
            "object_fit": null,
            "grid_auto_columns": null,
            "margin": null,
            "display": null,
            "left": null
          }
        },
        "72beb1b7fafc4c21969b68861a071979": {
          "model_module": "@jupyter-widgets/controls",
          "model_name": "DescriptionStyleModel",
          "state": {
            "_view_name": "StyleView",
            "_model_name": "DescriptionStyleModel",
            "description_width": "",
            "_view_module": "@jupyter-widgets/base",
            "_model_module_version": "1.5.0",
            "_view_count": null,
            "_view_module_version": "1.2.0",
            "_model_module": "@jupyter-widgets/controls"
          }
        },
        "0ede4f58523f44639655ee5b48f39462": {
          "model_module": "@jupyter-widgets/base",
          "model_name": "LayoutModel",
          "state": {
            "_view_name": "LayoutView",
            "grid_template_rows": null,
            "right": null,
            "justify_content": null,
            "_view_module": "@jupyter-widgets/base",
            "overflow": null,
            "_model_module_version": "1.2.0",
            "_view_count": null,
            "flex_flow": null,
            "width": null,
            "min_width": null,
            "border": null,
            "align_items": null,
            "bottom": null,
            "_model_module": "@jupyter-widgets/base",
            "top": null,
            "grid_column": null,
            "overflow_y": null,
            "overflow_x": null,
            "grid_auto_flow": null,
            "grid_area": null,
            "grid_template_columns": null,
            "flex": null,
            "_model_name": "LayoutModel",
            "justify_items": null,
            "grid_row": null,
            "max_height": null,
            "align_content": null,
            "visibility": null,
            "align_self": null,
            "height": null,
            "min_height": null,
            "padding": null,
            "grid_auto_rows": null,
            "grid_gap": null,
            "max_width": null,
            "order": null,
            "_view_module_version": "1.2.0",
            "grid_template_areas": null,
            "object_position": null,
            "object_fit": null,
            "grid_auto_columns": null,
            "margin": null,
            "display": null,
            "left": null
          }
        },
        "b5cc4afa661f463394b8f0e47504f4bd": {
          "model_module": "@jupyter-widgets/controls",
          "model_name": "HBoxModel",
          "state": {
            "_view_name": "HBoxView",
            "_dom_classes": [],
            "_model_name": "HBoxModel",
            "_view_module": "@jupyter-widgets/controls",
            "_model_module_version": "1.5.0",
            "_view_count": null,
            "_view_module_version": "1.5.0",
            "box_style": "",
            "layout": "IPY_MODEL_3ba2d3a662d34f409fc0252327577542",
            "_model_module": "@jupyter-widgets/controls",
            "children": [
              "IPY_MODEL_14009942485849908a50e68bbbff3970",
              "IPY_MODEL_9d9646ad78b54eefaaba316f5275b674"
            ]
          }
        },
        "3ba2d3a662d34f409fc0252327577542": {
          "model_module": "@jupyter-widgets/base",
          "model_name": "LayoutModel",
          "state": {
            "_view_name": "LayoutView",
            "grid_template_rows": null,
            "right": null,
            "justify_content": null,
            "_view_module": "@jupyter-widgets/base",
            "overflow": null,
            "_model_module_version": "1.2.0",
            "_view_count": null,
            "flex_flow": null,
            "width": null,
            "min_width": null,
            "border": null,
            "align_items": null,
            "bottom": null,
            "_model_module": "@jupyter-widgets/base",
            "top": null,
            "grid_column": null,
            "overflow_y": null,
            "overflow_x": null,
            "grid_auto_flow": null,
            "grid_area": null,
            "grid_template_columns": null,
            "flex": null,
            "_model_name": "LayoutModel",
            "justify_items": null,
            "grid_row": null,
            "max_height": null,
            "align_content": null,
            "visibility": null,
            "align_self": null,
            "height": null,
            "min_height": null,
            "padding": null,
            "grid_auto_rows": null,
            "grid_gap": null,
            "max_width": null,
            "order": null,
            "_view_module_version": "1.2.0",
            "grid_template_areas": null,
            "object_position": null,
            "object_fit": null,
            "grid_auto_columns": null,
            "margin": null,
            "display": null,
            "left": null
          }
        },
        "14009942485849908a50e68bbbff3970": {
          "model_module": "@jupyter-widgets/controls",
          "model_name": "FloatProgressModel",
          "state": {
            "_view_name": "ProgressView",
            "style": "IPY_MODEL_fea3c5816e1945b197523d3332998d8f",
            "_dom_classes": [],
            "description": "2o Laço: 100%",
            "_model_name": "FloatProgressModel",
            "bar_style": "",
            "max": 100,
            "_view_module": "@jupyter-widgets/controls",
            "_model_module_version": "1.5.0",
            "value": 100,
            "_view_count": null,
            "_view_module_version": "1.5.0",
            "orientation": "horizontal",
            "min": 0,
            "description_tooltip": null,
            "_model_module": "@jupyter-widgets/controls",
            "layout": "IPY_MODEL_391011fe912d427c993142eab40d84f6"
          }
        },
        "9d9646ad78b54eefaaba316f5275b674": {
          "model_module": "@jupyter-widgets/controls",
          "model_name": "HTMLModel",
          "state": {
            "_view_name": "HTMLView",
            "style": "IPY_MODEL_3eb2133ed45b4b369cf13c68642a45e9",
            "_dom_classes": [],
            "description": "",
            "_model_name": "HTMLModel",
            "placeholder": "​",
            "_view_module": "@jupyter-widgets/controls",
            "_model_module_version": "1.5.0",
            "value": " 100/100 [00:02&lt;00:00, 48.66it/s]",
            "_view_count": null,
            "_view_module_version": "1.5.0",
            "description_tooltip": null,
            "_model_module": "@jupyter-widgets/controls",
            "layout": "IPY_MODEL_a3454470ff1e42e3af90667f106d7b81"
          }
        },
        "fea3c5816e1945b197523d3332998d8f": {
          "model_module": "@jupyter-widgets/controls",
          "model_name": "ProgressStyleModel",
          "state": {
            "_view_name": "StyleView",
            "_model_name": "ProgressStyleModel",
            "description_width": "initial",
            "_view_module": "@jupyter-widgets/base",
            "_model_module_version": "1.5.0",
            "_view_count": null,
            "_view_module_version": "1.2.0",
            "bar_color": null,
            "_model_module": "@jupyter-widgets/controls"
          }
        },
        "391011fe912d427c993142eab40d84f6": {
          "model_module": "@jupyter-widgets/base",
          "model_name": "LayoutModel",
          "state": {
            "_view_name": "LayoutView",
            "grid_template_rows": null,
            "right": null,
            "justify_content": null,
            "_view_module": "@jupyter-widgets/base",
            "overflow": null,
            "_model_module_version": "1.2.0",
            "_view_count": null,
            "flex_flow": null,
            "width": null,
            "min_width": null,
            "border": null,
            "align_items": null,
            "bottom": null,
            "_model_module": "@jupyter-widgets/base",
            "top": null,
            "grid_column": null,
            "overflow_y": null,
            "overflow_x": null,
            "grid_auto_flow": null,
            "grid_area": null,
            "grid_template_columns": null,
            "flex": null,
            "_model_name": "LayoutModel",
            "justify_items": null,
            "grid_row": null,
            "max_height": null,
            "align_content": null,
            "visibility": null,
            "align_self": null,
            "height": null,
            "min_height": null,
            "padding": null,
            "grid_auto_rows": null,
            "grid_gap": null,
            "max_width": null,
            "order": null,
            "_view_module_version": "1.2.0",
            "grid_template_areas": null,
            "object_position": null,
            "object_fit": null,
            "grid_auto_columns": null,
            "margin": null,
            "display": null,
            "left": null
          }
        },
        "3eb2133ed45b4b369cf13c68642a45e9": {
          "model_module": "@jupyter-widgets/controls",
          "model_name": "DescriptionStyleModel",
          "state": {
            "_view_name": "StyleView",
            "_model_name": "DescriptionStyleModel",
            "description_width": "",
            "_view_module": "@jupyter-widgets/base",
            "_model_module_version": "1.5.0",
            "_view_count": null,
            "_view_module_version": "1.2.0",
            "_model_module": "@jupyter-widgets/controls"
          }
        },
        "a3454470ff1e42e3af90667f106d7b81": {
          "model_module": "@jupyter-widgets/base",
          "model_name": "LayoutModel",
          "state": {
            "_view_name": "LayoutView",
            "grid_template_rows": null,
            "right": null,
            "justify_content": null,
            "_view_module": "@jupyter-widgets/base",
            "overflow": null,
            "_model_module_version": "1.2.0",
            "_view_count": null,
            "flex_flow": null,
            "width": null,
            "min_width": null,
            "border": null,
            "align_items": null,
            "bottom": null,
            "_model_module": "@jupyter-widgets/base",
            "top": null,
            "grid_column": null,
            "overflow_y": null,
            "overflow_x": null,
            "grid_auto_flow": null,
            "grid_area": null,
            "grid_template_columns": null,
            "flex": null,
            "_model_name": "LayoutModel",
            "justify_items": null,
            "grid_row": null,
            "max_height": null,
            "align_content": null,
            "visibility": null,
            "align_self": null,
            "height": null,
            "min_height": null,
            "padding": null,
            "grid_auto_rows": null,
            "grid_gap": null,
            "max_width": null,
            "order": null,
            "_view_module_version": "1.2.0",
            "grid_template_areas": null,
            "object_position": null,
            "object_fit": null,
            "grid_auto_columns": null,
            "margin": null,
            "display": null,
            "left": null
          }
        },
        "0c11e86df8a44ba28f17509e3820bf97": {
          "model_module": "@jupyter-widgets/controls",
          "model_name": "HBoxModel",
          "state": {
            "_view_name": "HBoxView",
            "_dom_classes": [],
            "_model_name": "HBoxModel",
            "_view_module": "@jupyter-widgets/controls",
            "_model_module_version": "1.5.0",
            "_view_count": null,
            "_view_module_version": "1.5.0",
            "box_style": "",
            "layout": "IPY_MODEL_daa3e94831634210b79ea4abd95293dd",
            "_model_module": "@jupyter-widgets/controls",
            "children": [
              "IPY_MODEL_643cdd407bfc4172bd04933563f153b7",
              "IPY_MODEL_1eb7bbfca47941eab5e229d7ace4094a"
            ]
          }
        },
        "daa3e94831634210b79ea4abd95293dd": {
          "model_module": "@jupyter-widgets/base",
          "model_name": "LayoutModel",
          "state": {
            "_view_name": "LayoutView",
            "grid_template_rows": null,
            "right": null,
            "justify_content": null,
            "_view_module": "@jupyter-widgets/base",
            "overflow": null,
            "_model_module_version": "1.2.0",
            "_view_count": null,
            "flex_flow": null,
            "width": null,
            "min_width": null,
            "border": null,
            "align_items": null,
            "bottom": null,
            "_model_module": "@jupyter-widgets/base",
            "top": null,
            "grid_column": null,
            "overflow_y": null,
            "overflow_x": null,
            "grid_auto_flow": null,
            "grid_area": null,
            "grid_template_columns": null,
            "flex": null,
            "_model_name": "LayoutModel",
            "justify_items": null,
            "grid_row": null,
            "max_height": null,
            "align_content": null,
            "visibility": null,
            "align_self": null,
            "height": null,
            "min_height": null,
            "padding": null,
            "grid_auto_rows": null,
            "grid_gap": null,
            "max_width": null,
            "order": null,
            "_view_module_version": "1.2.0",
            "grid_template_areas": null,
            "object_position": null,
            "object_fit": null,
            "grid_auto_columns": null,
            "margin": null,
            "display": null,
            "left": null
          }
        },
        "643cdd407bfc4172bd04933563f153b7": {
          "model_module": "@jupyter-widgets/controls",
          "model_name": "FloatProgressModel",
          "state": {
            "_view_name": "ProgressView",
            "style": "IPY_MODEL_0eefbf8e88284251a9237c7806be4e7b",
            "_dom_classes": [],
            "description": "2o Laço: 100%",
            "_model_name": "FloatProgressModel",
            "bar_style": "",
            "max": 100,
            "_view_module": "@jupyter-widgets/controls",
            "_model_module_version": "1.5.0",
            "value": 100,
            "_view_count": null,
            "_view_module_version": "1.5.0",
            "orientation": "horizontal",
            "min": 0,
            "description_tooltip": null,
            "_model_module": "@jupyter-widgets/controls",
            "layout": "IPY_MODEL_1e49724ed0664ff1a9a8179cb7bc1b7b"
          }
        },
        "1eb7bbfca47941eab5e229d7ace4094a": {
          "model_module": "@jupyter-widgets/controls",
          "model_name": "HTMLModel",
          "state": {
            "_view_name": "HTMLView",
            "style": "IPY_MODEL_8be1a2c1edeb496593de5c70bed47a9c",
            "_dom_classes": [],
            "description": "",
            "_model_name": "HTMLModel",
            "placeholder": "​",
            "_view_module": "@jupyter-widgets/controls",
            "_model_module_version": "1.5.0",
            "value": " 100/100 [00:02&lt;00:00, 48.51it/s]",
            "_view_count": null,
            "_view_module_version": "1.5.0",
            "description_tooltip": null,
            "_model_module": "@jupyter-widgets/controls",
            "layout": "IPY_MODEL_30f86c3fe1cb46fdac6d12789d9926bc"
          }
        },
        "0eefbf8e88284251a9237c7806be4e7b": {
          "model_module": "@jupyter-widgets/controls",
          "model_name": "ProgressStyleModel",
          "state": {
            "_view_name": "StyleView",
            "_model_name": "ProgressStyleModel",
            "description_width": "initial",
            "_view_module": "@jupyter-widgets/base",
            "_model_module_version": "1.5.0",
            "_view_count": null,
            "_view_module_version": "1.2.0",
            "bar_color": null,
            "_model_module": "@jupyter-widgets/controls"
          }
        },
        "1e49724ed0664ff1a9a8179cb7bc1b7b": {
          "model_module": "@jupyter-widgets/base",
          "model_name": "LayoutModel",
          "state": {
            "_view_name": "LayoutView",
            "grid_template_rows": null,
            "right": null,
            "justify_content": null,
            "_view_module": "@jupyter-widgets/base",
            "overflow": null,
            "_model_module_version": "1.2.0",
            "_view_count": null,
            "flex_flow": null,
            "width": null,
            "min_width": null,
            "border": null,
            "align_items": null,
            "bottom": null,
            "_model_module": "@jupyter-widgets/base",
            "top": null,
            "grid_column": null,
            "overflow_y": null,
            "overflow_x": null,
            "grid_auto_flow": null,
            "grid_area": null,
            "grid_template_columns": null,
            "flex": null,
            "_model_name": "LayoutModel",
            "justify_items": null,
            "grid_row": null,
            "max_height": null,
            "align_content": null,
            "visibility": null,
            "align_self": null,
            "height": null,
            "min_height": null,
            "padding": null,
            "grid_auto_rows": null,
            "grid_gap": null,
            "max_width": null,
            "order": null,
            "_view_module_version": "1.2.0",
            "grid_template_areas": null,
            "object_position": null,
            "object_fit": null,
            "grid_auto_columns": null,
            "margin": null,
            "display": null,
            "left": null
          }
        },
        "8be1a2c1edeb496593de5c70bed47a9c": {
          "model_module": "@jupyter-widgets/controls",
          "model_name": "DescriptionStyleModel",
          "state": {
            "_view_name": "StyleView",
            "_model_name": "DescriptionStyleModel",
            "description_width": "",
            "_view_module": "@jupyter-widgets/base",
            "_model_module_version": "1.5.0",
            "_view_count": null,
            "_view_module_version": "1.2.0",
            "_model_module": "@jupyter-widgets/controls"
          }
        },
        "30f86c3fe1cb46fdac6d12789d9926bc": {
          "model_module": "@jupyter-widgets/base",
          "model_name": "LayoutModel",
          "state": {
            "_view_name": "LayoutView",
            "grid_template_rows": null,
            "right": null,
            "justify_content": null,
            "_view_module": "@jupyter-widgets/base",
            "overflow": null,
            "_model_module_version": "1.2.0",
            "_view_count": null,
            "flex_flow": null,
            "width": null,
            "min_width": null,
            "border": null,
            "align_items": null,
            "bottom": null,
            "_model_module": "@jupyter-widgets/base",
            "top": null,
            "grid_column": null,
            "overflow_y": null,
            "overflow_x": null,
            "grid_auto_flow": null,
            "grid_area": null,
            "grid_template_columns": null,
            "flex": null,
            "_model_name": "LayoutModel",
            "justify_items": null,
            "grid_row": null,
            "max_height": null,
            "align_content": null,
            "visibility": null,
            "align_self": null,
            "height": null,
            "min_height": null,
            "padding": null,
            "grid_auto_rows": null,
            "grid_gap": null,
            "max_width": null,
            "order": null,
            "_view_module_version": "1.2.0",
            "grid_template_areas": null,
            "object_position": null,
            "object_fit": null,
            "grid_auto_columns": null,
            "margin": null,
            "display": null,
            "left": null
          }
        },
        "d1d1cb989c3f40c4af22d6c0ba6aad99": {
          "model_module": "@jupyter-widgets/controls",
          "model_name": "HBoxModel",
          "state": {
            "_view_name": "HBoxView",
            "_dom_classes": [],
            "_model_name": "HBoxModel",
            "_view_module": "@jupyter-widgets/controls",
            "_model_module_version": "1.5.0",
            "_view_count": null,
            "_view_module_version": "1.5.0",
            "box_style": "",
            "layout": "IPY_MODEL_f090fd0bf4f5403eb787d23c60f90504",
            "_model_module": "@jupyter-widgets/controls",
            "children": [
              "IPY_MODEL_b205048dab4e4a9595b5c88c9624ebd8",
              "IPY_MODEL_9ca15cd7ccb64966ad218d92e3b2bbd4"
            ]
          }
        },
        "f090fd0bf4f5403eb787d23c60f90504": {
          "model_module": "@jupyter-widgets/base",
          "model_name": "LayoutModel",
          "state": {
            "_view_name": "LayoutView",
            "grid_template_rows": null,
            "right": null,
            "justify_content": null,
            "_view_module": "@jupyter-widgets/base",
            "overflow": null,
            "_model_module_version": "1.2.0",
            "_view_count": null,
            "flex_flow": null,
            "width": null,
            "min_width": null,
            "border": null,
            "align_items": null,
            "bottom": null,
            "_model_module": "@jupyter-widgets/base",
            "top": null,
            "grid_column": null,
            "overflow_y": null,
            "overflow_x": null,
            "grid_auto_flow": null,
            "grid_area": null,
            "grid_template_columns": null,
            "flex": null,
            "_model_name": "LayoutModel",
            "justify_items": null,
            "grid_row": null,
            "max_height": null,
            "align_content": null,
            "visibility": null,
            "align_self": null,
            "height": null,
            "min_height": null,
            "padding": null,
            "grid_auto_rows": null,
            "grid_gap": null,
            "max_width": null,
            "order": null,
            "_view_module_version": "1.2.0",
            "grid_template_areas": null,
            "object_position": null,
            "object_fit": null,
            "grid_auto_columns": null,
            "margin": null,
            "display": null,
            "left": null
          }
        },
        "b205048dab4e4a9595b5c88c9624ebd8": {
          "model_module": "@jupyter-widgets/controls",
          "model_name": "FloatProgressModel",
          "state": {
            "_view_name": "ProgressView",
            "style": "IPY_MODEL_f6b4cb74af1444afb53fc399a7564db6",
            "_dom_classes": [],
            "description": "Clientes: 100%",
            "_model_name": "FloatProgressModel",
            "bar_style": "success",
            "max": 5,
            "_view_module": "@jupyter-widgets/controls",
            "_model_module_version": "1.5.0",
            "value": 5,
            "_view_count": null,
            "_view_module_version": "1.5.0",
            "orientation": "horizontal",
            "min": 0,
            "description_tooltip": null,
            "_model_module": "@jupyter-widgets/controls",
            "layout": "IPY_MODEL_b24c061bd4024970b060f53adca73093"
          }
        },
        "9ca15cd7ccb64966ad218d92e3b2bbd4": {
          "model_module": "@jupyter-widgets/controls",
          "model_name": "HTMLModel",
          "state": {
            "_view_name": "HTMLView",
            "style": "IPY_MODEL_9916fb8deda847a3a2cee02661b7e6b6",
            "_dom_classes": [],
            "description": "",
            "_model_name": "HTMLModel",
            "placeholder": "​",
            "_view_module": "@jupyter-widgets/controls",
            "_model_module_version": "1.5.0",
            "value": " 5/5 [00:05&lt;00:00,  1.02s/cliente]",
            "_view_count": null,
            "_view_module_version": "1.5.0",
            "description_tooltip": null,
            "_model_module": "@jupyter-widgets/controls",
            "layout": "IPY_MODEL_4c4afbea621540bd967dde14b5e68517"
          }
        },
        "f6b4cb74af1444afb53fc399a7564db6": {
          "model_module": "@jupyter-widgets/controls",
          "model_name": "ProgressStyleModel",
          "state": {
            "_view_name": "StyleView",
            "_model_name": "ProgressStyleModel",
            "description_width": "initial",
            "_view_module": "@jupyter-widgets/base",
            "_model_module_version": "1.5.0",
            "_view_count": null,
            "_view_module_version": "1.2.0",
            "bar_color": null,
            "_model_module": "@jupyter-widgets/controls"
          }
        },
        "b24c061bd4024970b060f53adca73093": {
          "model_module": "@jupyter-widgets/base",
          "model_name": "LayoutModel",
          "state": {
            "_view_name": "LayoutView",
            "grid_template_rows": null,
            "right": null,
            "justify_content": null,
            "_view_module": "@jupyter-widgets/base",
            "overflow": null,
            "_model_module_version": "1.2.0",
            "_view_count": null,
            "flex_flow": null,
            "width": null,
            "min_width": null,
            "border": null,
            "align_items": null,
            "bottom": null,
            "_model_module": "@jupyter-widgets/base",
            "top": null,
            "grid_column": null,
            "overflow_y": null,
            "overflow_x": null,
            "grid_auto_flow": null,
            "grid_area": null,
            "grid_template_columns": null,
            "flex": null,
            "_model_name": "LayoutModel",
            "justify_items": null,
            "grid_row": null,
            "max_height": null,
            "align_content": null,
            "visibility": null,
            "align_self": null,
            "height": null,
            "min_height": null,
            "padding": null,
            "grid_auto_rows": null,
            "grid_gap": null,
            "max_width": null,
            "order": null,
            "_view_module_version": "1.2.0",
            "grid_template_areas": null,
            "object_position": null,
            "object_fit": null,
            "grid_auto_columns": null,
            "margin": null,
            "display": null,
            "left": null
          }
        },
        "9916fb8deda847a3a2cee02661b7e6b6": {
          "model_module": "@jupyter-widgets/controls",
          "model_name": "DescriptionStyleModel",
          "state": {
            "_view_name": "StyleView",
            "_model_name": "DescriptionStyleModel",
            "description_width": "",
            "_view_module": "@jupyter-widgets/base",
            "_model_module_version": "1.5.0",
            "_view_count": null,
            "_view_module_version": "1.2.0",
            "_model_module": "@jupyter-widgets/controls"
          }
        },
        "4c4afbea621540bd967dde14b5e68517": {
          "model_module": "@jupyter-widgets/base",
          "model_name": "LayoutModel",
          "state": {
            "_view_name": "LayoutView",
            "grid_template_rows": null,
            "right": null,
            "justify_content": null,
            "_view_module": "@jupyter-widgets/base",
            "overflow": null,
            "_model_module_version": "1.2.0",
            "_view_count": null,
            "flex_flow": null,
            "width": null,
            "min_width": null,
            "border": null,
            "align_items": null,
            "bottom": null,
            "_model_module": "@jupyter-widgets/base",
            "top": null,
            "grid_column": null,
            "overflow_y": null,
            "overflow_x": null,
            "grid_auto_flow": null,
            "grid_area": null,
            "grid_template_columns": null,
            "flex": null,
            "_model_name": "LayoutModel",
            "justify_items": null,
            "grid_row": null,
            "max_height": null,
            "align_content": null,
            "visibility": null,
            "align_self": null,
            "height": null,
            "min_height": null,
            "padding": null,
            "grid_auto_rows": null,
            "grid_gap": null,
            "max_width": null,
            "order": null,
            "_view_module_version": "1.2.0",
            "grid_template_areas": null,
            "object_position": null,
            "object_fit": null,
            "grid_auto_columns": null,
            "margin": null,
            "display": null,
            "left": null
          }
        }
      }
    }
  },
  "cells": [
    {
      "cell_type": "markdown",
      "metadata": {
        "id": "view-in-github",
        "colab_type": "text"
      },
      "source": [
        "<a href=\"https://colab.research.google.com/github/osmarbraz/exemplos_python/blob/master/ExemplosPython.ipynb\" target=\"_parent\"><img src=\"https://colab.research.google.com/assets/colab-badge.svg\" alt=\"Open In Colab\"/></a>"
      ]
    },
    {
      "cell_type": "markdown",
      "metadata": {
        "id": "xY84ChCNzmQQ"
      },
      "source": [
        "# Exemplos Python no Google Colaboratory"
      ]
    },
    {
      "cell_type": "markdown",
      "metadata": {
        "id": "KoMscP0Jo5rw"
      },
      "source": [
        "Exemplos básicos em python:\n",
        "- Tipos primitivos;\n",
        "- Operadores;\n",
        "- Funções Matemáticas;\n",
        "- Saída de dados\n",
        "- Estruturas condicionais;\n",
        "- Estruturas de repetição;\n",
        "- Tratamento de mensagens;\n",
        "- Comandos Bash;\n",
        "- Tradução de textos;\n",
        "- Remoção de Tags HTML;\n",
        "- Funções;\n",
        "- Aritmética binária;\n",
        "- Mensagem e barra de progresso;\n",
        "- Funções de tempo;\n",
        "- Roleta;\n",
        "- Versão Python;\n",
        "- Previnir desconexão sessão;\n",
        "-----------------------------------------\n",
        "**Guia Colab Iniciante:**\n",
        "\n",
        "https://medium.com/machina-sapiens/google-colab-guia-do-iniciante-334d70aad531\n",
        "\n",
        "**Documentação oficial:**\n",
        "\n",
        "https://colab.research.google.com/github/jakevdp/PythonDataScienceHandbook/blob/master/notebooks/01.01-Help-And-Documentation.ipynb\n",
        "\n",
        "**Características :**\n",
        "\n",
        "https://colab.research.google.com/notebooks/basic_features_overview.ipynb\n"
      ]
    },
    {
      "cell_type": "markdown",
      "metadata": {
        "id": "IAQcH7kh3cmD"
      },
      "source": [
        "# Tipos primitivos"
      ]
    },
    {
      "cell_type": "markdown",
      "metadata": {
        "id": "eK55gNwoRrBC"
      },
      "source": [
        "##Tipos de dados\n",
        "Existem 4 tipos numéricos:\n",
        "*  inteiro (int)\n",
        "*  ponto flutuante (float)\n",
        "*  booleano (bool)\n",
        "*  complexo (complex)"
      ]
    },
    {
      "cell_type": "code",
      "metadata": {
        "colab": {
          "base_uri": "https://localhost:8080/"
        },
        "id": "v8W6YPbURtbx",
        "outputId": "211932c7-088a-4b84-af2b-b484d904c5ea"
      },
      "source": [
        "# Inteiros\n",
        "inteiro = 28\n",
        "print(inteiro)\n",
        "\n",
        "# type mostra o tipo de uma variável\n",
        "print(type(inteiro))\n",
        "\n",
        "# Ponto flutuante\n",
        "real = 3.1415\n",
        "print(real)\n",
        "\n",
        "#type mostra o tipo de uma variável\n",
        "print(type(real))\n",
        "\n",
        "# String\n",
        "nome = 'Pedro'\n",
        "print(nome)\n",
        "# type mostra o tipo de uma variável\n",
        "print(type(nome))\n",
        "\n",
        "# Boolean\n",
        "chave = True\n",
        "print(chave)\n",
        "\n",
        "# type mostra o tipo de uma variável\n",
        "print(type(chave))\n",
        "\n",
        "# Complexo\n",
        "complexo = 4+3j\n",
        "print(complexo)\n",
        "\n",
        "# type mostra o tipo de uma variável\n",
        "print(type(complexo))\n"
      ],
      "execution_count": 1,
      "outputs": [
        {
          "output_type": "stream",
          "text": [
            "28\n",
            "<class 'int'>\n",
            "3.1415\n",
            "<class 'float'>\n",
            "Pedro\n",
            "<class 'str'>\n",
            "True\n",
            "<class 'bool'>\n",
            "(4+3j)\n",
            "<class 'complex'>\n"
          ],
          "name": "stdout"
        }
      ]
    },
    {
      "cell_type": "markdown",
      "metadata": {
        "id": "FFyCLoRDNBN5"
      },
      "source": [
        "## Conversão de Tipo\n",
        "\n",
        "https://www.digitalocean.com/community/tutorials/how-to-convert-data-types-in-python-3"
      ]
    },
    {
      "cell_type": "markdown",
      "metadata": {
        "id": "nk3O9-gbUFrk"
      },
      "source": [
        "int para float"
      ]
    },
    {
      "cell_type": "code",
      "metadata": {
        "colab": {
          "base_uri": "https://localhost:8080/"
        },
        "id": "o-PkSCYkUFBz",
        "outputId": "2389a7fb-9e52-4655-a34a-3cf16341469f"
      },
      "source": [
        "numero = 10\n",
        "\n",
        "real = float(numero)\n",
        "\n",
        "print(real)"
      ],
      "execution_count": 2,
      "outputs": [
        {
          "output_type": "stream",
          "text": [
            "10.0\n"
          ],
          "name": "stdout"
        }
      ]
    },
    {
      "cell_type": "markdown",
      "metadata": {
        "id": "Ea3JlQiPUTn1"
      },
      "source": [
        "float para int"
      ]
    },
    {
      "cell_type": "code",
      "metadata": {
        "colab": {
          "base_uri": "https://localhost:8080/"
        },
        "id": "c0gIL7FRUTn3",
        "outputId": "b0ef4a0e-e55d-4421-c546-d7a3df0c6ba4"
      },
      "source": [
        "real = 10.0\n",
        "\n",
        "numero = int(real)\n",
        "\n",
        "print(numero)"
      ],
      "execution_count": 3,
      "outputs": [
        {
          "output_type": "stream",
          "text": [
            "10\n"
          ],
          "name": "stdout"
        }
      ]
    },
    {
      "cell_type": "markdown",
      "metadata": {
        "id": "-0dKcWaLNTaU"
      },
      "source": [
        "int para string"
      ]
    },
    {
      "cell_type": "code",
      "metadata": {
        "colab": {
          "base_uri": "https://localhost:8080/",
          "height": 35
        },
        "id": "FTiM5w34ND_Q",
        "outputId": "4c078ec1-778c-4c6d-d2ff-9f6f2db45d12"
      },
      "source": [
        "numero = 123\n",
        "\n",
        "literal = str(numero)\n",
        "\n",
        "literal"
      ],
      "execution_count": 4,
      "outputs": [
        {
          "output_type": "execute_result",
          "data": {
            "application/vnd.google.colaboratory.intrinsic+json": {
              "type": "string"
            },
            "text/plain": [
              "'123'"
            ]
          },
          "metadata": {
            "tags": []
          },
          "execution_count": 4
        }
      ]
    },
    {
      "cell_type": "markdown",
      "metadata": {
        "id": "aOktXtrdNWNP"
      },
      "source": [
        "Concatenando int com string"
      ]
    },
    {
      "cell_type": "code",
      "metadata": {
        "colab": {
          "base_uri": "https://localhost:8080/"
        },
        "id": "e4NyCSIFNYwq",
        "outputId": "dd187b8a-2723-4ec8-8c03-82717aa95fe4"
      },
      "source": [
        "numero = 123\n",
        "\n",
        "literal = \"O numero é \" + str(numero)\n",
        "\n",
        "print(literal)"
      ],
      "execution_count": 5,
      "outputs": [
        {
          "output_type": "stream",
          "text": [
            "O numero é 123\n"
          ],
          "name": "stdout"
        }
      ]
    },
    {
      "cell_type": "markdown",
      "metadata": {
        "id": "5TJ0WelPTCOL"
      },
      "source": [
        "## Tipo Nulo / None"
      ]
    },
    {
      "cell_type": "code",
      "metadata": {
        "colab": {
          "base_uri": "https://localhost:8080/"
        },
        "id": "bkE00XeuTDpl",
        "outputId": "370c9dc1-5e70-464b-df54-1715895824dc"
      },
      "source": [
        "# Valor vazio ou dado do tipo nulo\n",
        "vazio = None\n",
        "print(vazio)\n",
        "\n",
        "# type mostra o tipo de uma variável\n",
        "print(type(vazio))"
      ],
      "execution_count": 6,
      "outputs": [
        {
          "output_type": "stream",
          "text": [
            "None\n",
            "<class 'NoneType'>\n"
          ],
          "name": "stdout"
        }
      ]
    },
    {
      "cell_type": "markdown",
      "metadata": {
        "id": "Ai4yFTXqdcuw"
      },
      "source": [
        "##String"
      ]
    },
    {
      "cell_type": "markdown",
      "metadata": {
        "id": "AnFhd5MFcSZ3"
      },
      "source": [
        "### Exemplo 1 - Existência substring\n",
        "\n",
        "Verifica se uma substring existe em string"
      ]
    },
    {
      "cell_type": "code",
      "metadata": {
        "colab": {
          "base_uri": "https://localhost:8080/"
        },
        "id": "psZTKUS5cWZG",
        "outputId": "84389c65-9f1a-42d0-8c31-6ef9ada4bf73"
      },
      "source": [
        "frase = \"bom dia!\"\n",
        "\n",
        "if \"dia\" in frase:\n",
        "    print(\"dia existe em frase\")\n",
        "else:\n",
        "   print(\"dia não existe em frase\")"
      ],
      "execution_count": 7,
      "outputs": [
        {
          "output_type": "stream",
          "text": [
            "dia existe em frase\n"
          ],
          "name": "stdout"
        }
      ]
    },
    {
      "cell_type": "markdown",
      "metadata": {
        "id": "m47Uq0H0j7mZ"
      },
      "source": [
        "### Exemplo 2 - Posição substring\n",
        "\n",
        "Retorna a posição onde se encontra a substring"
      ]
    },
    {
      "cell_type": "code",
      "metadata": {
        "colab": {
          "base_uri": "https://localhost:8080/"
        },
        "id": "0Mtd1neJj90X",
        "outputId": "d686a794-c745-43b1-94b4-9d0784c3abc4"
      },
      "source": [
        "frase = \"bom dia!\"\n",
        "\n",
        "x = frase.find(\"dia\")\n",
        "\n",
        "print(x)"
      ],
      "execution_count": 8,
      "outputs": [
        {
          "output_type": "stream",
          "text": [
            "4\n"
          ],
          "name": "stdout"
        }
      ]
    },
    {
      "cell_type": "markdown",
      "metadata": {
        "id": "3EK92Ex6eACY"
      },
      "source": [
        "### Exemplo 3 - Uso trim(strip, lstrip, rstrip)"
      ]
    },
    {
      "cell_type": "code",
      "metadata": {
        "colab": {
          "base_uri": "https://localhost:8080/"
        },
        "id": "DAagAUYveEMY",
        "outputId": "5110db8f-a37d-4222-e844-c3db72d2606c"
      },
      "source": [
        "frase = '  bom dia !  '\n",
        "\n",
        "# Saída dos dados\n",
        "print('frase =' + '\\'' + frase + '\\'')\n",
        "print('Após remover espacos a esquerda = \\'' + frase.lstrip() + '\\'')\n",
        "print('Após remover espaços a direita  = \\'' + frase.rstrip() +'\\'')\n",
        "print('Após trim esquerda e direita    = \\'' + frase.strip() +'\\'')"
      ],
      "execution_count": 9,
      "outputs": [
        {
          "output_type": "stream",
          "text": [
            "frase ='  bom dia !  '\n",
            "Após remover espacos a esquerda = 'bom dia !  '\n",
            "Após remover espaços a direita  = '  bom dia !'\n",
            "Após trim esquerda e direita    = 'bom dia !'\n"
          ],
          "name": "stdout"
        }
      ]
    },
    {
      "cell_type": "markdown",
      "metadata": {
        "id": "D6JE_nHvYEZ7"
      },
      "source": [
        "### Exemplo 4 - Testa string vazia ou nula"
      ]
    },
    {
      "cell_type": "code",
      "metadata": {
        "colab": {
          "base_uri": "https://localhost:8080/"
        },
        "id": "1Qrh3kMEYI7v",
        "outputId": "652882b5-0b3a-464f-916a-8f85f1935962"
      },
      "source": [
        "palavra = ''\n",
        "\n",
        "# Forma 1\n",
        "if not palavra.strip():\n",
        "  print ('string nula!')\n",
        "else:\n",
        "  print ('string não nula!')\n",
        "\n",
        "# Forma 2\n",
        "if not palavra:\n",
        "   print ('string nula!')\n",
        "else:\n",
        "   print ('string não nula!')\n",
        "\n",
        "# Forma 3\n",
        "if len(palavra)==0:\n",
        "   print ('string nula!')\n",
        "else:\n",
        "   print ('string não nula!')\n",
        "\n",
        "# Forma 4\n",
        "if palavra == '':\n",
        "   print ('string nula!')\n",
        "else:\n",
        "   print ('string não nula!')"
      ],
      "execution_count": 10,
      "outputs": [
        {
          "output_type": "stream",
          "text": [
            "string nula!\n",
            "string nula!\n",
            "string nula!\n",
            "string nula!\n"
          ],
          "name": "stdout"
        }
      ]
    },
    {
      "cell_type": "markdown",
      "metadata": {
        "id": "UvTP_bMqbHRH"
      },
      "source": [
        "### Exemplo 5 - Remove caracter de String"
      ]
    },
    {
      "cell_type": "code",
      "metadata": {
        "colab": {
          "base_uri": "https://localhost:8080/"
        },
        "id": "hFMyz2SqbLNs",
        "outputId": "ecec7f67-b189-4799-ce2f-5e6f98785e44"
      },
      "source": [
        "palavra = '  bom     dia !   '\n",
        "\n",
        "print('\\'' + palavra.replace('  ', '') + '\\'')"
      ],
      "execution_count": 11,
      "outputs": [
        {
          "output_type": "stream",
          "text": [
            "'bom dia ! '\n"
          ],
          "name": "stdout"
        }
      ]
    },
    {
      "cell_type": "markdown",
      "metadata": {
        "id": "ORROZhyO7WaB"
      },
      "source": [
        "### Exemplo 6 - Remove '\\n' de String"
      ]
    },
    {
      "cell_type": "code",
      "metadata": {
        "colab": {
          "base_uri": "https://localhost:8080/"
        },
        "id": "wLQA9tha7ZXb",
        "outputId": "b9d11bbe-5ed9-498d-a708-298e2513676f"
      },
      "source": [
        "palavra = 'bom\\n'\n",
        "\n",
        "print(palavra)\n",
        "print(len(palavra))\n",
        "\n",
        "palavra = palavra.rstrip(\"\\n\")\n",
        "\n",
        "print(palavra)\n",
        "print(len(palavra))"
      ],
      "execution_count": 12,
      "outputs": [
        {
          "output_type": "stream",
          "text": [
            "bom\n",
            "\n",
            "4\n",
            "bom\n",
            "3\n"
          ],
          "name": "stdout"
        }
      ]
    },
    {
      "cell_type": "markdown",
      "metadata": {
        "id": "1QWOvA-w_liD"
      },
      "source": [
        "### Exemplo 7 - contar letra de *String*"
      ]
    },
    {
      "cell_type": "code",
      "metadata": {
        "colab": {
          "base_uri": "https://localhost:8080/"
        },
        "id": "vWo1ogQx_l76",
        "outputId": "aebc8a8b-36f7-445f-a042-b681ebf97d33"
      },
      "source": [
        "palavra = 'casa'\n",
        "print(palavra)\n",
        "\n",
        "qtde = palavra.count('a')\n",
        "\n",
        "# Saída dos dados\n",
        "print(qtde)"
      ],
      "execution_count": 13,
      "outputs": [
        {
          "output_type": "stream",
          "text": [
            "casa\n",
            "2\n"
          ],
          "name": "stdout"
        }
      ]
    },
    {
      "cell_type": "markdown",
      "metadata": {
        "id": "evOpb10jE9yE"
      },
      "source": [
        "### Exemplo 8 - Remove vários espaços em branco e substitui por somente um.\n",
        "\n",
        "Utiliza expressões regulares."
      ]
    },
    {
      "cell_type": "code",
      "metadata": {
        "colab": {
          "base_uri": "https://localhost:8080/"
        },
        "id": "xCbbljKzE9yK",
        "outputId": "7459de01-9d93-49e2-a55e-50d5b0182566"
      },
      "source": [
        "# Biblioteca para expressões regulares\n",
        "import re\n",
        "\n",
        "frase1 = 'O    dia   está     bonito.'\n",
        "print(frase1)\n",
        "\n",
        "frase2  = re.sub(\"\\s+\", \" \", frase1)\n",
        "\n",
        "# Saída dos dados\n",
        "print(frase2)"
      ],
      "execution_count": 14,
      "outputs": [
        {
          "output_type": "stream",
          "text": [
            "O    dia   está     bonito.\n",
            "O dia está bonito.\n"
          ],
          "name": "stdout"
        }
      ]
    },
    {
      "cell_type": "markdown",
      "metadata": {
        "id": "FqgMjhMhnjdA"
      },
      "source": [
        "### Exemplo 9 - Encontra a quantidade de palavras da frase"
      ]
    },
    {
      "cell_type": "code",
      "metadata": {
        "colab": {
          "base_uri": "https://localhost:8080/"
        },
        "id": "mZDgvqfwnkI5",
        "outputId": "8e89ba74-fe49-4f5c-841e-e2d768931ff0"
      },
      "source": [
        "# Frases de exemplo\n",
        "frase = 'O céu está azul.'\n",
        "\n",
        "# Mostra a frase\n",
        "print(frase)\n",
        "\n",
        "# split() cria uma lista das palavras das frase\n",
        "print(frase.split())\n",
        "\n",
        "# Retorna o tamanho da lista de palavras da frase\n",
        "qtde = len(frase.split())\n",
        "\n",
        "# Mostra a quantidade\n",
        "print(\"Quantidade de palavas:\", qtde)"
      ],
      "execution_count": 15,
      "outputs": [
        {
          "output_type": "stream",
          "text": [
            "O céu está azul.\n",
            "['O', 'céu', 'está', 'azul.']\n",
            "Quantidade de palavas: 4\n"
          ],
          "name": "stdout"
        }
      ]
    },
    {
      "cell_type": "markdown",
      "metadata": {
        "id": "8DGKJ0Og7_j6"
      },
      "source": [
        "### Exemplo 19 - Encontra a quantidade de palavras da maior frase"
      ]
    },
    {
      "cell_type": "code",
      "metadata": {
        "colab": {
          "base_uri": "https://localhost:8080/"
        },
        "id": "DWE3sgG178Nt",
        "outputId": "a7663536-19d1-4dce-feb9-2384187cdbed"
      },
      "source": [
        "# Frases de exemplo\n",
        "frases = ['O gato no tapete.', 'O cachorro comeu minha tarefa.']\n",
        "\n",
        "# Procura a frase com o maior número de palavras\n",
        "maior_frase = len(max(frases, key=lambda k: len(k.split())).split())\n",
        "\n",
        "# Mostra a quantidade\n",
        "print(\"Tamanho maior frase:\", maior_frase)"
      ],
      "execution_count": 16,
      "outputs": [
        {
          "output_type": "stream",
          "text": [
            "Tamanho maior frase: 5\n"
          ],
          "name": "stdout"
        }
      ]
    },
    {
      "cell_type": "markdown",
      "metadata": {
        "id": "cBaB4AF1GRwH"
      },
      "source": [
        "### Exemplo 11 - Encontra o último caracter de uma frase\n",
        "\n",
        "Não considera espaço em branco."
      ]
    },
    {
      "cell_type": "code",
      "metadata": {
        "colab": {
          "base_uri": "https://localhost:8080/"
        },
        "id": "qhe0nfVxGR_P",
        "outputId": "d24ae46b-72bf-41b4-d27e-304bdbe26267"
      },
      "source": [
        "# Frase de exemplo\n",
        "frase = \"  Que dia bonito  \"\n",
        "print(\"[\", frase,\"]\")\n",
        "\n",
        "# Retira os espaços antes de depois da frase\n",
        "frase = frase.strip()\n",
        "print(\"[\", frase,\"]\")\n",
        "\n",
        "# Recupera o último caracter\n",
        "ultimo_caracter = frase[-1]\n",
        "\n",
        "# Saída dos dados\n",
        "print (\"Último caracter:\", ultimo_caracter)"
      ],
      "execution_count": 17,
      "outputs": [
        {
          "output_type": "stream",
          "text": [
            "[   Que dia bonito   ]\n",
            "[ Que dia bonito ]\n",
            "Último caracter: o\n"
          ],
          "name": "stdout"
        }
      ]
    },
    {
      "cell_type": "markdown",
      "metadata": {
        "id": "yzfg-I1HQaUo"
      },
      "source": [
        "### Exemplo 12 - Exibe número percentual formatado"
      ]
    },
    {
      "cell_type": "code",
      "metadata": {
        "colab": {
          "base_uri": "https://localhost:8080/"
        },
        "id": "rbzIyYV0QfhH",
        "outputId": "1b15e50c-d6f0-430d-8e8d-2d73d0ac7cd0"
      },
      "source": [
        "x = 16\n",
        "total = 150\n",
        "percentual = x/total\n",
        "print(\"Percentual de X(\",x,\") no total(\",total,\") = \", \"{:.2%}\".format(percentual))"
      ],
      "execution_count": 18,
      "outputs": [
        {
          "output_type": "stream",
          "text": [
            "Percentual de X( 16 ) no total( 150 ) =  10.67%\n"
          ],
          "name": "stdout"
        }
      ]
    },
    {
      "cell_type": "markdown",
      "metadata": {
        "id": "LQ_r-Dsi8Qx3"
      },
      "source": [
        "### Exemplo 13 - Iníciais em maiúsculo"
      ]
    },
    {
      "cell_type": "code",
      "metadata": {
        "colab": {
          "base_uri": "https://localhost:8080/"
        },
        "id": "lG4X8gVl8TGp",
        "outputId": "fcb28618-ee43-44b1-db8b-0470c41b019c"
      },
      "source": [
        "frase1 = 'que dia bonito.'\n",
        "\n",
        "frase2 = frase1.capitalize()\n",
        "\n",
        "# Saída dos dados\n",
        "print(frase1)\n",
        "print(frase2)"
      ],
      "execution_count": 19,
      "outputs": [
        {
          "output_type": "stream",
          "text": [
            "que dia bonito.\n",
            "Que dia bonito.\n"
          ],
          "name": "stdout"
        }
      ]
    },
    {
      "cell_type": "markdown",
      "metadata": {
        "id": "Iy1yctgxJyDp"
      },
      "source": [
        "##Inicialização de variáveis\n",
        "Inicialização de múltiplas variáveis"
      ]
    },
    {
      "cell_type": "code",
      "metadata": {
        "colab": {
          "base_uri": "https://localhost:8080/"
        },
        "id": "4JPdmPAsJ1QA",
        "outputId": "1c7ba594-0874-40a5-90e3-a5d48b981263"
      },
      "source": [
        "# Declaração e inicialização\n",
        "a, b, c, d = 1, 2, 3, 4\n",
        "\n",
        "# Saída dos dados\n",
        "print(a)\n",
        "print(b)\n",
        "print(c)\n",
        "print(d)"
      ],
      "execution_count": 20,
      "outputs": [
        {
          "output_type": "stream",
          "text": [
            "1\n",
            "2\n",
            "3\n",
            "4\n"
          ],
          "name": "stdout"
        }
      ]
    },
    {
      "cell_type": "markdown",
      "metadata": {
        "id": "IziPWVaeGlWk"
      },
      "source": [
        "## Trocar conteúdo de variáveis\n",
        "Como trocar o conteúdo das variáveis de a e b e de b para a:\n",
        "\n",
        "\n"
      ]
    },
    {
      "cell_type": "markdown",
      "metadata": {
        "id": "COG413OYyx7D"
      },
      "source": [
        "### Método 1 - com auxiliar\n",
        "Troca de conteúdo de variáveis com variável auxiliar."
      ]
    },
    {
      "cell_type": "code",
      "metadata": {
        "colab": {
          "base_uri": "https://localhost:8080/"
        },
        "id": "_8dfes3tzEfz",
        "outputId": "43602f4a-db90-4e18-9ccb-600b8be5d530"
      },
      "source": [
        "# Inicialização das variáveis\n",
        "a = 10\n",
        "b = 30\n",
        "\n",
        "# Processamento\n",
        "aux = a\n",
        "a = b\n",
        "b = aux\n",
        "\n",
        "# Saída dos dados\n",
        "print(\"a = \" + str(a))\n",
        "print(\"b = \" + str(b))"
      ],
      "execution_count": 21,
      "outputs": [
        {
          "output_type": "stream",
          "text": [
            "a = 30\n",
            "b = 10\n"
          ],
          "name": "stdout"
        }
      ]
    },
    {
      "cell_type": "markdown",
      "metadata": {
        "id": "zIIhrgdYyrrD"
      },
      "source": [
        "### Método 2 - sem auxiliar\n",
        "Sem o uso de uma variável auxiliar."
      ]
    },
    {
      "cell_type": "code",
      "metadata": {
        "colab": {
          "base_uri": "https://localhost:8080/"
        },
        "id": "BGFVnIzQGrEH",
        "outputId": "1adcb880-b0c2-46de-8858-9d01b29f1b6b"
      },
      "source": [
        "# Inicialização das variáveis\n",
        "a = 10\n",
        "b = 30\n",
        "\n",
        "# Processamento\n",
        "a , b = b , a\n",
        "\n",
        "# Saída dos dados\n",
        "print(\"a = \" + str(a))\n",
        "print(\"b = \" + str(b))"
      ],
      "execution_count": 22,
      "outputs": [
        {
          "output_type": "stream",
          "text": [
            "a = 30\n",
            "b = 10\n"
          ],
          "name": "stdout"
        }
      ]
    },
    {
      "cell_type": "markdown",
      "metadata": {
        "id": "Mk7CV_tfTUNl"
      },
      "source": [
        "# Operadores\n",
        "\n",
        "https://www.w3schools.com/python/python_operators.asp"
      ]
    },
    {
      "cell_type": "markdown",
      "metadata": {
        "id": "OjtxtOC4TY_p"
      },
      "source": [
        "## Operadores aritméticos \n",
        "\n",
        "(+, -, *, /, %, **, +=, -=, *=, /=, %=, **=):"
      ]
    },
    {
      "cell_type": "code",
      "metadata": {
        "colab": {
          "base_uri": "https://localhost:8080/"
        },
        "id": "oNC6OhoETVeF",
        "outputId": "f3236784-583a-497f-bee8-d34ebb28f131"
      },
      "source": [
        "a = 2\n",
        "b = 1\n",
        "\n",
        "# Saída dos dados\n",
        "print (\"soma =\",a + b)\n",
        "print (\"subtração =\",a - b)\n",
        "print (\"produto =\",a * b)\n",
        "print (\"divisão =\",a / b)"
      ],
      "execution_count": 23,
      "outputs": [
        {
          "output_type": "stream",
          "text": [
            "soma = 3\n",
            "subtração = 1\n",
            "produto = 2\n",
            "divisão = 2.0\n"
          ],
          "name": "stdout"
        }
      ]
    },
    {
      "cell_type": "markdown",
      "metadata": {
        "id": "a2hZUv2KkSK-"
      },
      "source": [
        "Exponencial (**)"
      ]
    },
    {
      "cell_type": "code",
      "metadata": {
        "colab": {
          "base_uri": "https://localhost:8080/"
        },
        "id": "LfdgCJQ3kVqP",
        "outputId": "6a2a0066-118a-4dbc-eef7-6bcc1842bdcb"
      },
      "source": [
        "a = 4\n",
        "\n",
        "# Saída dos dados\n",
        "print (a**2)"
      ],
      "execution_count": 24,
      "outputs": [
        {
          "output_type": "stream",
          "text": [
            "16\n"
          ],
          "name": "stdout"
        }
      ]
    },
    {
      "cell_type": "markdown",
      "metadata": {
        "id": "3yGXUsyNj_OD"
      },
      "source": [
        "Divisão inteira (//)"
      ]
    },
    {
      "cell_type": "code",
      "metadata": {
        "colab": {
          "base_uri": "https://localhost:8080/"
        },
        "id": "DiixULgakAh5",
        "outputId": "0ac66d8d-9b98-4a0a-be6e-f3406235a38a"
      },
      "source": [
        "a = 5\n",
        "b = 2\n",
        "\n",
        "# Mostra o resultado da divisão sem a parte fracioná(somente a parte inteira)\n",
        "print (5 // 2)\n",
        "\n",
        "# Mostra o resultado da divisão com a parte fracionária\n",
        "print (5 / 2)"
      ],
      "execution_count": 25,
      "outputs": [
        {
          "output_type": "stream",
          "text": [
            "2\n",
            "2.5\n"
          ],
          "name": "stdout"
        }
      ]
    },
    {
      "cell_type": "markdown",
      "metadata": {
        "id": "f96rzB9akKO5"
      },
      "source": [
        "Resto divisão (%)"
      ]
    },
    {
      "cell_type": "code",
      "metadata": {
        "colab": {
          "base_uri": "https://localhost:8080/"
        },
        "id": "Jzv_-awikMT6",
        "outputId": "2479378d-662f-4d0d-f47e-adf4c3b580c8"
      },
      "source": [
        "a = 5\n",
        "b = 2\n",
        "\n",
        "# Resto da divisão\n",
        "print (5 % 2)\n",
        "\n",
        "# Mostra a parte inteira\n",
        "print (5 // 2)"
      ],
      "execution_count": 26,
      "outputs": [
        {
          "output_type": "stream",
          "text": [
            "1\n",
            "2\n"
          ],
          "name": "stdout"
        }
      ]
    },
    {
      "cell_type": "markdown",
      "metadata": {
        "id": "c3W0MGc5kbse"
      },
      "source": [
        "Raiz quadrada (** 0.5)"
      ]
    },
    {
      "cell_type": "code",
      "metadata": {
        "colab": {
          "base_uri": "https://localhost:8080/"
        },
        "id": "f_GjzLUMkeL5",
        "outputId": "ea35ab30-d2bf-4e98-d472-9d8a7197a464"
      },
      "source": [
        "a = 4\n",
        "\n",
        "# Calcula a raiz quadrada a**1/2\n",
        "raiz = a ** 0.5\n",
        "\n",
        "print(raiz)"
      ],
      "execution_count": 27,
      "outputs": [
        {
          "output_type": "stream",
          "text": [
            "2.0\n"
          ],
          "name": "stdout"
        }
      ]
    },
    {
      "cell_type": "markdown",
      "metadata": {
        "id": "CSF3xkW7kjEb"
      },
      "source": [
        "Raiz quadrada (math)"
      ]
    },
    {
      "cell_type": "code",
      "metadata": {
        "colab": {
          "base_uri": "https://localhost:8080/"
        },
        "id": "IGnLGs5ikfih",
        "outputId": "c04177e1-7cff-4fad-bba2-3e8d21d78dd5"
      },
      "source": [
        "import math\n",
        "\n",
        "math.sqrt(16)"
      ],
      "execution_count": 28,
      "outputs": [
        {
          "output_type": "execute_result",
          "data": {
            "text/plain": [
              "4.0"
            ]
          },
          "metadata": {
            "tags": []
          },
          "execution_count": 28
        }
      ]
    },
    {
      "cell_type": "markdown",
      "metadata": {
        "id": "MjWlQ17XknYn"
      },
      "source": [
        "PI"
      ]
    },
    {
      "cell_type": "code",
      "metadata": {
        "colab": {
          "base_uri": "https://localhost:8080/"
        },
        "id": "1UVhfcJEkngl",
        "outputId": "e9759137-bea0-49f8-840f-5b5e3cc52803"
      },
      "source": [
        "import math\n",
        "\n",
        "print(math.pi)"
      ],
      "execution_count": 29,
      "outputs": [
        {
          "output_type": "stream",
          "text": [
            "3.141592653589793\n"
          ],
          "name": "stdout"
        }
      ]
    },
    {
      "cell_type": "markdown",
      "metadata": {
        "id": "XbXT5yfSTo6y"
      },
      "source": [
        "Operadores de comparação (>, <, ==, >=, <=, <>, !=, is, in):"
      ]
    },
    {
      "cell_type": "code",
      "metadata": {
        "colab": {
          "base_uri": "https://localhost:8080/"
        },
        "id": "9ftYsWQZTsPV",
        "outputId": "a679be46-6691-4d26-b210-1f1560a9db09"
      },
      "source": [
        "a = 1\n",
        "b = 2\n",
        "\n",
        "print(a == b)\n",
        "\n",
        "print (a < b)"
      ],
      "execution_count": 30,
      "outputs": [
        {
          "output_type": "stream",
          "text": [
            "False\n",
            "True\n"
          ],
          "name": "stdout"
        }
      ]
    },
    {
      "cell_type": "markdown",
      "metadata": {
        "id": "QftIogc_hPxX"
      },
      "source": [
        "##Operadores lógicos\n",
        "\n",
        "and, or, not"
      ]
    },
    {
      "cell_type": "markdown",
      "metadata": {
        "id": "RdVoeqUmhVRt"
      },
      "source": [
        "##Operadores de identidade\n",
        "\n",
        "is, is not"
      ]
    },
    {
      "cell_type": "markdown",
      "metadata": {
        "id": "fkioKBU4hab0"
      },
      "source": [
        "##Operadores de conjunto\n",
        "in, not in"
      ]
    },
    {
      "cell_type": "markdown",
      "metadata": {
        "id": "FbL31jLo7wnx"
      },
      "source": [
        "# Funções matemáticas\n",
        "\n",
        "Exemplo de uso de divesas funções matemáticas"
      ]
    },
    {
      "cell_type": "markdown",
      "metadata": {
        "id": "I3KG2LnL7cqt"
      },
      "source": [
        "Valor absoluto\n"
      ]
    },
    {
      "cell_type": "code",
      "metadata": {
        "colab": {
          "base_uri": "https://localhost:8080/"
        },
        "id": "z5sPo0sA7cBj",
        "outputId": "8ab095a1-f73d-415d-f6b3-4c7e0c606c22"
      },
      "source": [
        "# abs retorna o valor absoluto\n",
        "absoluto = abs(-8)\n",
        "\n",
        "print(absoluto)"
      ],
      "execution_count": 31,
      "outputs": [
        {
          "output_type": "stream",
          "text": [
            "8\n"
          ],
          "name": "stdout"
        }
      ]
    },
    {
      "cell_type": "markdown",
      "metadata": {
        "id": "gnipxdw_71Ji"
      },
      "source": [
        "Potência de x elevado a y\n",
        "pow(2, 8)"
      ]
    },
    {
      "cell_type": "code",
      "metadata": {
        "colab": {
          "base_uri": "https://localhost:8080/"
        },
        "id": "XnSHVL9r71wE",
        "outputId": "f1b1648f-770f-43a5-e117-de4b1f690eda"
      },
      "source": [
        "# pow(x, y) retorna a potência de x elevado a y\n",
        "resultado = pow(2, 8)\n",
        "\n",
        "print(resultado)"
      ],
      "execution_count": 32,
      "outputs": [
        {
          "output_type": "stream",
          "text": [
            "256\n"
          ],
          "name": "stdout"
        }
      ]
    },
    {
      "cell_type": "markdown",
      "metadata": {
        "id": "S9SlXX-67_TQ"
      },
      "source": [
        "Arredondamento"
      ]
    },
    {
      "cell_type": "code",
      "metadata": {
        "colab": {
          "base_uri": "https://localhost:8080/"
        },
        "id": "OSJeLNTK8A_8",
        "outputId": "a8c6b78f-0b26-4027-ee24-5fcb3b1188e5"
      },
      "source": [
        "# Arredondamento\n",
        "arredondado = round(3.1415926)\n",
        "\n",
        "print(arredondado)\n",
        "\n",
        "# Arredondamento com duas casas decimais\n",
        "arredondado = round(1.61834, 2)\n",
        "\n",
        "print(arredondado)"
      ],
      "execution_count": 33,
      "outputs": [
        {
          "output_type": "stream",
          "text": [
            "3\n",
            "1.62\n"
          ],
          "name": "stdout"
        }
      ]
    },
    {
      "cell_type": "markdown",
      "metadata": {
        "id": "WMrGz_ISArGm"
      },
      "source": [
        "# Saída de Dados\n",
        "\n",
        "https://pyformat.info/"
      ]
    },
    {
      "cell_type": "markdown",
      "metadata": {
        "id": "wJzRhIckA0zY"
      },
      "source": [
        "## Número inteiro(d)"
      ]
    },
    {
      "cell_type": "code",
      "metadata": {
        "colab": {
          "base_uri": "https://localhost:8080/"
        },
        "id": "jeQYdc3fAzq3",
        "outputId": "5578786c-1b0f-4032-e765-8ee11ffb2ca9"
      },
      "source": [
        "print('Idade :{:d}'.format(42))"
      ],
      "execution_count": 34,
      "outputs": [
        {
          "output_type": "stream",
          "text": [
            "Idade :42\n"
          ],
          "name": "stdout"
        }
      ]
    },
    {
      "cell_type": "markdown",
      "metadata": {
        "id": "Nf_5teSZBFhR"
      },
      "source": [
        "## Número real(f)"
      ]
    },
    {
      "cell_type": "code",
      "metadata": {
        "colab": {
          "base_uri": "https://localhost:8080/"
        },
        "id": "ohLRXeXYBFhU",
        "outputId": "64dbcbd3-3b80-4852-9d5f-ee8ffab6d993"
      },
      "source": [
        "print('Pi :{:f}'.format(3.1415926))"
      ],
      "execution_count": 35,
      "outputs": [
        {
          "output_type": "stream",
          "text": [
            "Pi :3.141593\n"
          ],
          "name": "stdout"
        }
      ]
    },
    {
      "cell_type": "markdown",
      "metadata": {
        "id": "raBzE7WjBV9r"
      },
      "source": [
        "## Preenchimento número inteiro"
      ]
    },
    {
      "cell_type": "code",
      "metadata": {
        "colab": {
          "base_uri": "https://localhost:8080/"
        },
        "id": "Aep1FJA5BWH8",
        "outputId": "15c08c7b-54e0-4cc1-d95b-a239c7665a6a"
      },
      "source": [
        "# Reserva espaço para 4 dígitos e preenche com ' '\n",
        "print('Idade 1:{:4d}'.format(42))\n",
        "# Reserva espaço para 4 dígitos e preenche com  0\n",
        "print('Idade 2:{:04d}'.format(4))"
      ],
      "execution_count": 36,
      "outputs": [
        {
          "output_type": "stream",
          "text": [
            "Idade 1:  42\n",
            "Idade 2:0004\n"
          ],
          "name": "stdout"
        }
      ]
    },
    {
      "cell_type": "markdown",
      "metadata": {
        "id": "O5RQsiM-Bs37"
      },
      "source": [
        "### Preenchimento número real"
      ]
    },
    {
      "cell_type": "code",
      "metadata": {
        "colab": {
          "base_uri": "https://localhost:8080/"
        },
        "id": "r3ymyTboBs3-",
        "outputId": "4292ca88-f09e-4127-a310-31f2f3add69f"
      },
      "source": [
        "# Reserva espaço para 8 dígitos se 2 para a parte decimal preenche com ' '\n",
        "print('Pi 1:{:8.2f}'.format(3.1415926))\n",
        "# Reserva espaço para 6 dígitos se 2 para a parte decimal preenche com '0'\n",
        "print('Pi 2:{:06.2f}'.format(3.1415926))"
      ],
      "execution_count": 37,
      "outputs": [
        {
          "output_type": "stream",
          "text": [
            "Pi 1:    3.14\n",
            "Pi 2:003.14\n"
          ],
          "name": "stdout"
        }
      ]
    },
    {
      "cell_type": "markdown",
      "metadata": {
        "id": "jAOEYrGxKAxp"
      },
      "source": [
        "#Estruturas Condicionais\n",
        "\n",
        "Estrutura se:\n",
        "* if \\<condição\\>:\n",
        "* if \\<condição\\>: else:\n",
        "* if \\<condição1\\>: elif <condição>: else:\n"
      ]
    },
    {
      "cell_type": "markdown",
      "metadata": {
        "id": "dJSVrlVM4WH8"
      },
      "source": [
        "###Exemplo if / se"
      ]
    },
    {
      "cell_type": "markdown",
      "metadata": {
        "id": "sR5sP9TJjYW2"
      },
      "source": [
        ""
      ]
    },
    {
      "cell_type": "code",
      "metadata": {
        "colab": {
          "base_uri": "https://localhost:8080/"
        },
        "id": "PL68HgJe4WH9",
        "outputId": "09d523a8-8bd9-4efc-c4b1-842297f5b6d5"
      },
      "source": [
        "x = 10\n",
        "\n",
        "if (x == 10):\n",
        "   print(\"Número é igual a 10\")"
      ],
      "execution_count": 38,
      "outputs": [
        {
          "output_type": "stream",
          "text": [
            "Número é igual a 10\n"
          ],
          "name": "stdout"
        }
      ]
    },
    {
      "cell_type": "markdown",
      "metadata": {
        "id": "J9xDSQK81lbL"
      },
      "source": [
        "###Exemplo if else / se  senão"
      ]
    },
    {
      "cell_type": "code",
      "metadata": {
        "colab": {
          "base_uri": "https://localhost:8080/"
        },
        "id": "f8CbTprj1k9u",
        "outputId": "a4f6e22e-b021-490c-e26f-4093c182fef0"
      },
      "source": [
        "x = 10\n",
        "\n",
        "if (x%2 == 0):\n",
        "   print(\"Número é par\")\n",
        "else:\n",
        "   print(\"Número é impar\")\n"
      ],
      "execution_count": 39,
      "outputs": [
        {
          "output_type": "stream",
          "text": [
            "Número é par\n"
          ],
          "name": "stdout"
        }
      ]
    },
    {
      "cell_type": "markdown",
      "metadata": {
        "id": "akRvIWEY17SD"
      },
      "source": [
        "###Exemplo if elif else / se senãose senão"
      ]
    },
    {
      "cell_type": "code",
      "metadata": {
        "colab": {
          "base_uri": "https://localhost:8080/"
        },
        "id": "OsAUTZWu17SG",
        "outputId": "ea4d1f9b-ce69-4024-cf4a-3b9b4059f016"
      },
      "source": [
        "x = 1\n",
        "\n",
        "if (x == 1):\n",
        "   print(\"Número é um\")\n",
        "elif (x == 2):\n",
        "   print(\"Número é dois\")\n",
        "elif (x == 3):\n",
        "     print(\"Número é três\")   \n",
        "else:\n",
        "     print(\"Não é nenhum dos três\")"
      ],
      "execution_count": 40,
      "outputs": [
        {
          "output_type": "stream",
          "text": [
            "Número é um\n"
          ],
          "name": "stdout"
        }
      ]
    },
    {
      "cell_type": "markdown",
      "metadata": {
        "id": "qekx79Xk24nr"
      },
      "source": [
        "###Operador ternário"
      ]
    },
    {
      "cell_type": "code",
      "metadata": {
        "colab": {
          "base_uri": "https://localhost:8080/"
        },
        "id": "3ae3gjXe26WL",
        "outputId": "ed3fb90f-4d8f-4a86-ae5c-a3cf5ac47a4b"
      },
      "source": [
        "x = 10\n",
        "\n",
        "saida =  \"Número é par\" if x % 2 == 0 else \"Número é ímpar\"\n",
        "\n",
        "print(saida)"
      ],
      "execution_count": 41,
      "outputs": [
        {
          "output_type": "stream",
          "text": [
            "Número é par\n"
          ],
          "name": "stdout"
        }
      ]
    },
    {
      "cell_type": "markdown",
      "metadata": {
        "id": "UWtJh5RTKHMl"
      },
      "source": [
        "###Exemplo 1\n",
        "https://leportella.com/pt-br/2018/05/07/pytricks-I.html"
      ]
    },
    {
      "cell_type": "code",
      "metadata": {
        "colab": {
          "base_uri": "https://localhost:8080/"
        },
        "id": "hyvgRNAiKGJ5",
        "outputId": "6e281c8e-e542-459b-b30a-be0a73086074"
      },
      "source": [
        "# Declaração e inicialização de diversas variáveis\n",
        "a, b, c, d = 1, 2, 3, 4\n",
        "\n",
        "if a == 1 and b == 2 and c == 3 and d == 4:\n",
        "    print('Tudo verdadeiro!')"
      ],
      "execution_count": 42,
      "outputs": [
        {
          "output_type": "stream",
          "text": [
            "Tudo verdadeiro!\n"
          ],
          "name": "stdout"
        }
      ]
    },
    {
      "cell_type": "markdown",
      "metadata": {
        "id": "6PRgsXBcKMIU"
      },
      "source": [
        "### Exemplo 2"
      ]
    },
    {
      "cell_type": "code",
      "metadata": {
        "colab": {
          "base_uri": "https://localhost:8080/"
        },
        "id": "PAXDOHY9KNpJ",
        "outputId": "269e6e83-ce52-4c76-ea62-b347edcb0f7a"
      },
      "source": [
        "# Declaração\n",
        "condicoes = [a==1, b==2, c==3, d==4]\n",
        "\n",
        "if all(condicoes):\n",
        "    print('Tudo verdadeiro!')"
      ],
      "execution_count": 43,
      "outputs": [
        {
          "output_type": "stream",
          "text": [
            "Tudo verdadeiro!\n"
          ],
          "name": "stdout"
        }
      ]
    },
    {
      "cell_type": "markdown",
      "metadata": {
        "id": "Fsm7trhrLjXr"
      },
      "source": [
        "#Estruturas de Repetição"
      ]
    },
    {
      "cell_type": "markdown",
      "metadata": {
        "id": "_nCWw-mF6Ypf"
      },
      "source": [
        "###Exemplo while / enquanto"
      ]
    },
    {
      "cell_type": "code",
      "metadata": {
        "colab": {
          "base_uri": "https://localhost:8080/"
        },
        "id": "YuLuxlb_6Ypg",
        "outputId": "7c18f1fe-0f87-4d0c-a131-adc60a692f3d"
      },
      "source": [
        "x = 1\n",
        "while (x < 10):\n",
        "    print(x)\n",
        "    x = x + 1"
      ],
      "execution_count": 44,
      "outputs": [
        {
          "output_type": "stream",
          "text": [
            "1\n",
            "2\n",
            "3\n",
            "4\n",
            "5\n",
            "6\n",
            "7\n",
            "8\n",
            "9\n"
          ],
          "name": "stdout"
        }
      ]
    },
    {
      "cell_type": "markdown",
      "metadata": {
        "id": "OZZwXfkz6Pxn"
      },
      "source": [
        "###Exemplo for / para"
      ]
    },
    {
      "cell_type": "code",
      "metadata": {
        "colab": {
          "base_uri": "https://localhost:8080/"
        },
        "id": "huXSTwS-6TZG",
        "outputId": "971a1140-7ea4-4b2f-bea0-eb41196a28ec"
      },
      "source": [
        "for x in range(1,10):\n",
        "  print(x)"
      ],
      "execution_count": 45,
      "outputs": [
        {
          "output_type": "stream",
          "text": [
            "1\n",
            "2\n",
            "3\n",
            "4\n",
            "5\n",
            "6\n",
            "7\n",
            "8\n",
            "9\n"
          ],
          "name": "stdout"
        }
      ]
    },
    {
      "cell_type": "markdown",
      "metadata": {
        "id": "nNVK4NjtjOn6"
      },
      "source": [
        "###Exemplo for / para List Comprehension com condicional"
      ]
    },
    {
      "cell_type": "markdown",
      "metadata": {
        "id": "DrxUdhjhj6Je"
      },
      "source": [
        "Lista sem comprehension"
      ]
    },
    {
      "cell_type": "code",
      "metadata": {
        "colab": {
          "base_uri": "https://localhost:8080/"
        },
        "id": "bvZyOfo1jOn6",
        "outputId": "6875058b-8b4b-47f0-f1c2-672abe11d658"
      },
      "source": [
        "for x in range(1,10):\n",
        "  if x%2==0:\n",
        "    print(x)"
      ],
      "execution_count": 46,
      "outputs": [
        {
          "output_type": "stream",
          "text": [
            "2\n",
            "4\n",
            "6\n",
            "8\n"
          ],
          "name": "stdout"
        }
      ]
    },
    {
      "cell_type": "markdown",
      "metadata": {
        "id": "RCvDddIPj-fN"
      },
      "source": [
        "Lista com comprehension"
      ]
    },
    {
      "cell_type": "code",
      "metadata": {
        "colab": {
          "base_uri": "https://localhost:8080/"
        },
        "id": "Avk4ccAujm5l",
        "outputId": "9633838a-e8b8-46f3-dfb0-174a04f6bcb2"
      },
      "source": [
        "numerosPares = [x for x in range(1,10) if x%2==0]\n",
        "print(numerosPares)"
      ],
      "execution_count": 47,
      "outputs": [
        {
          "output_type": "stream",
          "text": [
            "[2, 4, 6, 8]\n"
          ],
          "name": "stdout"
        }
      ]
    },
    {
      "cell_type": "markdown",
      "metadata": {
        "id": "zhAeH6TJLp-5"
      },
      "source": [
        "##For com else (lista vazia)\n",
        "\n",
        "Quando a lista está vazia entra no else."
      ]
    },
    {
      "cell_type": "code",
      "metadata": {
        "colab": {
          "base_uri": "https://localhost:8080/"
        },
        "id": "KM1Iv5ioLrqm",
        "outputId": "189f468b-9425-4b2f-c7bd-b19c6c2437f7"
      },
      "source": [
        "lista = []\n",
        "\n",
        "for x in lista:\n",
        "    print('dentro do loop')\n",
        "else:\n",
        "    print('dentro do else')"
      ],
      "execution_count": 48,
      "outputs": [
        {
          "output_type": "stream",
          "text": [
            "dentro do else\n"
          ],
          "name": "stdout"
        }
      ]
    },
    {
      "cell_type": "markdown",
      "metadata": {
        "id": "zF2nR0vHLwXk"
      },
      "source": [
        "##For com else (lista cheia)"
      ]
    },
    {
      "cell_type": "code",
      "metadata": {
        "colab": {
          "base_uri": "https://localhost:8080/"
        },
        "id": "GD_lwF1tL3ne",
        "outputId": "75593827-5072-4910-dea7-8e57c15592a2"
      },
      "source": [
        "lista = [1, 2]\n",
        "\n",
        "for x in lista:\n",
        "    print('dentro do loop')\n",
        "else:\n",
        "    print('dentro do else')"
      ],
      "execution_count": 49,
      "outputs": [
        {
          "output_type": "stream",
          "text": [
            "dentro do loop\n",
            "dentro do loop\n",
            "dentro do else\n"
          ],
          "name": "stdout"
        }
      ]
    },
    {
      "cell_type": "markdown",
      "metadata": {
        "id": "SNxml-n9wYvX"
      },
      "source": [
        "# Tratamento de mensagens"
      ]
    },
    {
      "cell_type": "code",
      "metadata": {
        "colab": {
          "base_uri": "https://localhost:8080/"
        },
        "id": "uP3uiJ4bwbEO",
        "outputId": "c194c911-dd85-4930-8c5a-afb376c5222b"
      },
      "source": [
        "# Biblioteca de logging\n",
        "import logging\n",
        "\n",
        "# Formata a mensagem de login\n",
        "logging.basicConfig(format='%(asctime)s : %(levelname)s : %(message)s', level=logging.INFO)\n",
        "\n",
        "#uso da mensagem sem parâmetro\n",
        "logging.info('Função criada!')\n",
        "\n",
        "#uso da mensagem com parâmetro\n",
        "logging.info('Arquivo {0} baixado'.format('teste.txt'))"
      ],
      "execution_count": 50,
      "outputs": [
        {
          "output_type": "stream",
          "text": [
            "2021-06-08 17:26:14,052 : INFO : Função criada!\n",
            "2021-06-08 17:26:14,054 : INFO : Arquivo teste.txt baixado\n"
          ],
          "name": "stderr"
        }
      ]
    },
    {
      "cell_type": "markdown",
      "metadata": {
        "id": "ph1Lv7dFpUpm"
      },
      "source": [
        "#Comandos Bash\n",
        "\n",
        "Para executar uma linha de comando basta adicionar o caracter **'!'**(ponto de exclamação) no início. \n",
        "Como por exemplo \"!ls\", \"!pwd\" ou \"!echo\".\n",
        "\n",
        "Entretanto, ao usar o caracter **'!'**, a linha de comando é executada em uma sessão de terminal temporária. Alguns comandos como a navegação nos diretórios com o comando \"cd\" não surgem efeito se usados apenas localmente. Para esta situação devemos usar o caracter \"%\" no início com \"%cd\".\n",
        "\n",
        "Considere o sistema operacional onde será executado o comando."
      ]
    },
    {
      "cell_type": "markdown",
      "metadata": {
        "id": "fi1PA_yqrTbj"
      },
      "source": [
        "Jupyter inclue atralhos para as operações mais comuns, como os ls:"
      ]
    },
    {
      "cell_type": "code",
      "metadata": {
        "colab": {
          "base_uri": "https://localhost:8080/"
        },
        "id": "ob15HRD4raDj",
        "outputId": "98112d10-d6e6-4522-8257-a6954bf39451"
      },
      "source": [
        "!ls /bin"
      ],
      "execution_count": 51,
      "outputs": [
        {
          "output_type": "stream",
          "text": [
            "bash\t       hostname       su\n",
            "bunzip2        journalctl     sync\n",
            "bzcat\t       kill\t      systemctl\n",
            "bzcmp\t       kmod\t      systemd\n",
            "bzdiff\t       less\t      systemd-ask-password\n",
            "bzegrep        lessecho       systemd-escape\n",
            "bzexe\t       lessfile       systemd-hwdb\n",
            "bzfgrep        lesskey\t      systemd-inhibit\n",
            "bzgrep\t       lesspipe       systemd-machine-id-setup\n",
            "bzip2\t       ln\t      systemd-notify\n",
            "bzip2recover   login\t      systemd-sysusers\n",
            "bzless\t       loginctl       systemd-tmpfiles\n",
            "bzmore\t       ls\t      systemd-tty-ask-password-agent\n",
            "cat\t       lsblk\t      tar\n",
            "chgrp\t       lsmod\t      tempfile\n",
            "chmod\t       mkdir\t      touch\n",
            "chown\t       mknod\t      true\n",
            "cp\t       mktemp\t      udevadm\n",
            "dash\t       more\t      ulockmgr_server\n",
            "date\t       mount\t      umount\n",
            "dd\t       mountpoint     uname\n",
            "df\t       mv\t      uncompress\n",
            "dir\t       networkctl     vdir\n",
            "dmesg\t       nisdomainname  wdctl\n",
            "dnsdomainname  pidof\t      which\n",
            "domainname     ps\t      ypdomainname\n",
            "echo\t       pwd\t      zcat\n",
            "egrep\t       rbash\t      zcmp\n",
            "false\t       readlink       zdiff\n",
            "fgrep\t       rm\t      zegrep\n",
            "findmnt        rmdir\t      zfgrep\n",
            "fuser\t       run-parts      zforce\n",
            "fusermount     sed\t      zgrep\n",
            "grep\t       sh\t      zless\n",
            "gunzip\t       sh.distrib     zmore\n",
            "gzexe\t       sleep\t      znew\n",
            "gzip\t       stty\n"
          ],
          "name": "stdout"
        }
      ]
    },
    {
      "cell_type": "markdown",
      "metadata": {
        "id": "mtN0U84-vIwj"
      },
      "source": [
        "## Informações da máquina\n",
        "https://medium.com/@italojs/gpu-tpu-de-gra%C3%A7a-na-web-onde-como-e511780294c7"
      ]
    },
    {
      "cell_type": "markdown",
      "metadata": {
        "id": "_pq3FkFR3O6X"
      },
      "source": [
        "Dados da CPU"
      ]
    },
    {
      "cell_type": "code",
      "metadata": {
        "colab": {
          "base_uri": "https://localhost:8080/"
        },
        "id": "AEWISUG_3Rdr",
        "outputId": "fe128855-5170-4ebd-8543-940a9653072f"
      },
      "source": [
        "!lscpu"
      ],
      "execution_count": 52,
      "outputs": [
        {
          "output_type": "stream",
          "text": [
            "Architecture:        x86_64\n",
            "CPU op-mode(s):      32-bit, 64-bit\n",
            "Byte Order:          Little Endian\n",
            "CPU(s):              2\n",
            "On-line CPU(s) list: 0,1\n",
            "Thread(s) per core:  2\n",
            "Core(s) per socket:  1\n",
            "Socket(s):           1\n",
            "NUMA node(s):        1\n",
            "Vendor ID:           AuthenticAMD\n",
            "CPU family:          23\n",
            "Model:               49\n",
            "Model name:          AMD EPYC 7B12\n",
            "Stepping:            0\n",
            "CPU MHz:             2250.000\n",
            "BogoMIPS:            4500.00\n",
            "Hypervisor vendor:   KVM\n",
            "Virtualization type: full\n",
            "L1d cache:           32K\n",
            "L1i cache:           32K\n",
            "L2 cache:            512K\n",
            "L3 cache:            16384K\n",
            "NUMA node0 CPU(s):   0,1\n",
            "Flags:               fpu vme de pse tsc msr pae mce cx8 apic sep mtrr pge mca cmov pat pse36 clflush mmx fxsr sse sse2 ht syscall nx mmxext fxsr_opt pdpe1gb rdtscp lm constant_tsc rep_good nopl nonstop_tsc cpuid extd_apicid tsc_known_freq pni pclmulqdq ssse3 fma cx16 sse4_1 sse4_2 movbe popcnt aes xsave avx f16c rdrand hypervisor lahf_lm cmp_legacy cr8_legacy abm sse4a misalignsse 3dnowprefetch osvw topoext ssbd ibrs ibpb stibp vmmcall fsgsbase tsc_adjust bmi1 avx2 smep bmi2 rdseed adx smap clflushopt clwb sha_ni xsaveopt xsavec xgetbv1 clzero xsaveerptr arat npt nrip_save umip rdpid\n"
          ],
          "name": "stdout"
        }
      ]
    },
    {
      "cell_type": "markdown",
      "metadata": {
        "id": "pGVepIwH0PMp"
      },
      "source": [
        "Dados das CPUs"
      ]
    },
    {
      "cell_type": "code",
      "metadata": {
        "colab": {
          "base_uri": "https://localhost:8080/"
        },
        "id": "pPdf46960QqZ",
        "outputId": "3f9ac812-9d37-4532-dbe2-f09aceb0f155"
      },
      "source": [
        "!cat /proc/cpuinfo"
      ],
      "execution_count": 53,
      "outputs": [
        {
          "output_type": "stream",
          "text": [
            "processor\t: 0\n",
            "vendor_id\t: AuthenticAMD\n",
            "cpu family\t: 23\n",
            "model\t\t: 49\n",
            "model name\t: AMD EPYC 7B12\n",
            "stepping\t: 0\n",
            "microcode\t: 0x1000065\n",
            "cpu MHz\t\t: 2250.000\n",
            "cache size\t: 512 KB\n",
            "physical id\t: 0\n",
            "siblings\t: 2\n",
            "core id\t\t: 0\n",
            "cpu cores\t: 1\n",
            "apicid\t\t: 0\n",
            "initial apicid\t: 0\n",
            "fpu\t\t: yes\n",
            "fpu_exception\t: yes\n",
            "cpuid level\t: 13\n",
            "wp\t\t: yes\n",
            "flags\t\t: fpu vme de pse tsc msr pae mce cx8 apic sep mtrr pge mca cmov pat pse36 clflush mmx fxsr sse sse2 ht syscall nx mmxext fxsr_opt pdpe1gb rdtscp lm constant_tsc rep_good nopl nonstop_tsc cpuid extd_apicid tsc_known_freq pni pclmulqdq ssse3 fma cx16 sse4_1 sse4_2 movbe popcnt aes xsave avx f16c rdrand hypervisor lahf_lm cmp_legacy cr8_legacy abm sse4a misalignsse 3dnowprefetch osvw topoext ssbd ibrs ibpb stibp vmmcall fsgsbase tsc_adjust bmi1 avx2 smep bmi2 rdseed adx smap clflushopt clwb sha_ni xsaveopt xsavec xgetbv1 clzero xsaveerptr arat npt nrip_save umip rdpid\n",
            "bugs\t\t: sysret_ss_attrs spectre_v1 spectre_v2 spec_store_bypass\n",
            "bogomips\t: 4500.00\n",
            "TLB size\t: 3072 4K pages\n",
            "clflush size\t: 64\n",
            "cache_alignment\t: 64\n",
            "address sizes\t: 48 bits physical, 48 bits virtual\n",
            "power management:\n",
            "\n",
            "processor\t: 1\n",
            "vendor_id\t: AuthenticAMD\n",
            "cpu family\t: 23\n",
            "model\t\t: 49\n",
            "model name\t: AMD EPYC 7B12\n",
            "stepping\t: 0\n",
            "microcode\t: 0x1000065\n",
            "cpu MHz\t\t: 2250.000\n",
            "cache size\t: 512 KB\n",
            "physical id\t: 0\n",
            "siblings\t: 2\n",
            "core id\t\t: 0\n",
            "cpu cores\t: 1\n",
            "apicid\t\t: 1\n",
            "initial apicid\t: 1\n",
            "fpu\t\t: yes\n",
            "fpu_exception\t: yes\n",
            "cpuid level\t: 13\n",
            "wp\t\t: yes\n",
            "flags\t\t: fpu vme de pse tsc msr pae mce cx8 apic sep mtrr pge mca cmov pat pse36 clflush mmx fxsr sse sse2 ht syscall nx mmxext fxsr_opt pdpe1gb rdtscp lm constant_tsc rep_good nopl nonstop_tsc cpuid extd_apicid tsc_known_freq pni pclmulqdq ssse3 fma cx16 sse4_1 sse4_2 movbe popcnt aes xsave avx f16c rdrand hypervisor lahf_lm cmp_legacy cr8_legacy abm sse4a misalignsse 3dnowprefetch osvw topoext ssbd ibrs ibpb stibp vmmcall fsgsbase tsc_adjust bmi1 avx2 smep bmi2 rdseed adx smap clflushopt clwb sha_ni xsaveopt xsavec xgetbv1 clzero xsaveerptr arat npt nrip_save umip rdpid\n",
            "bugs\t\t: sysret_ss_attrs spectre_v1 spectre_v2 spec_store_bypass\n",
            "bogomips\t: 4500.00\n",
            "TLB size\t: 3072 4K pages\n",
            "clflush size\t: 64\n",
            "cache_alignment\t: 64\n",
            "address sizes\t: 48 bits physical, 48 bits virtual\n",
            "power management:\n",
            "\n"
          ],
          "name": "stdout"
        }
      ]
    },
    {
      "cell_type": "markdown",
      "metadata": {
        "id": "aTs1kdPTyYTP"
      },
      "source": [
        "Qual GPU está sendo utilizada.<br>\n",
        "https://medium.com/deep-learning-turkey/google-colab-free-gpu-tutorial-e113627b9f5d\n"
      ]
    },
    {
      "cell_type": "code",
      "metadata": {
        "colab": {
          "base_uri": "https://localhost:8080/"
        },
        "id": "yT5-lyWkybd0",
        "outputId": "7bee2e52-ed22-4a62-d880-2f437946cb03"
      },
      "source": [
        "#seleciona a versão do tensorflow\n",
        "%tensorflow_version 2.x\n",
        "\n",
        "#exibe as informações da gpu\n",
        "from tensorflow.python.client import device_lib\n",
        "device_lib.list_local_devices()"
      ],
      "execution_count": 54,
      "outputs": [
        {
          "output_type": "execute_result",
          "data": {
            "text/plain": [
              "[name: \"/device:CPU:0\"\n",
              " device_type: \"CPU\"\n",
              " memory_limit: 268435456\n",
              " locality {\n",
              " }\n",
              " incarnation: 12025827747116506304]"
            ]
          },
          "metadata": {
            "tags": []
          },
          "execution_count": 54
        }
      ]
    },
    {
      "cell_type": "code",
      "metadata": {
        "colab": {
          "base_uri": "https://localhost:8080/",
          "height": 35
        },
        "id": "dE5GXR6XiriH",
        "outputId": "c2222b30-7002-4bb9-e443-886da36dfdbd"
      },
      "source": [
        "import tensorflow as tf\n",
        "tf.__version__"
      ],
      "execution_count": 55,
      "outputs": [
        {
          "output_type": "execute_result",
          "data": {
            "application/vnd.google.colaboratory.intrinsic+json": {
              "type": "string"
            },
            "text/plain": [
              "'2.5.0'"
            ]
          },
          "metadata": {
            "tags": []
          },
          "execution_count": 55
        }
      ]
    },
    {
      "cell_type": "markdown",
      "metadata": {
        "id": "jizdOi1bz0Cr"
      },
      "source": [
        "Quantidade de memória"
      ]
    },
    {
      "cell_type": "code",
      "metadata": {
        "colab": {
          "base_uri": "https://localhost:8080/"
        },
        "id": "kF1eDgNqz10N",
        "outputId": "d1af43c4-3829-4243-9cc5-56ff8c118cba"
      },
      "source": [
        "!cat /proc/meminfo"
      ],
      "execution_count": 56,
      "outputs": [
        {
          "output_type": "stream",
          "text": [
            "MemTotal:       13305324 kB\n",
            "MemFree:        10305636 kB\n",
            "MemAvailable:   12355432 kB\n",
            "Buffers:          111580 kB\n",
            "Cached:          2060476 kB\n",
            "SwapCached:            0 kB\n",
            "Active:          1166588 kB\n",
            "Inactive:        1569196 kB\n",
            "Active(anon):     521592 kB\n",
            "Inactive(anon):      456 kB\n",
            "Active(file):     644996 kB\n",
            "Inactive(file):  1568740 kB\n",
            "Unevictable:           0 kB\n",
            "Mlocked:               0 kB\n",
            "SwapTotal:             0 kB\n",
            "SwapFree:              0 kB\n",
            "Dirty:              3676 kB\n",
            "Writeback:             0 kB\n",
            "AnonPages:        563744 kB\n",
            "Mapped:           368592 kB\n",
            "Shmem:              1144 kB\n",
            "KReclaimable:     155268 kB\n",
            "Slab:             202004 kB\n",
            "SReclaimable:     155268 kB\n",
            "SUnreclaim:        46736 kB\n",
            "KernelStack:        4576 kB\n",
            "PageTables:         7092 kB\n",
            "NFS_Unstable:          0 kB\n",
            "Bounce:                0 kB\n",
            "WritebackTmp:          0 kB\n",
            "CommitLimit:     6652660 kB\n",
            "Committed_AS:    3431712 kB\n",
            "VmallocTotal:   34359738367 kB\n",
            "VmallocUsed:        6908 kB\n",
            "VmallocChunk:          0 kB\n",
            "Percpu:             1400 kB\n",
            "AnonHugePages:         0 kB\n",
            "ShmemHugePages:        0 kB\n",
            "ShmemPmdMapped:        0 kB\n",
            "FileHugePages:         0 kB\n",
            "FilePmdMapped:         0 kB\n",
            "HugePages_Total:       0\n",
            "HugePages_Free:        0\n",
            "HugePages_Rsvd:        0\n",
            "HugePages_Surp:        0\n",
            "Hugepagesize:       2048 kB\n",
            "Hugetlb:               0 kB\n",
            "DirectMap4k:       89288 kB\n",
            "DirectMap2M:     4104192 kB\n",
            "DirectMap1G:    11534336 kB\n"
          ],
          "name": "stdout"
        }
      ]
    },
    {
      "cell_type": "markdown",
      "metadata": {
        "id": "-9Q36nbXv37R"
      },
      "source": [
        "Dados do Sistema Operacional"
      ]
    },
    {
      "cell_type": "code",
      "metadata": {
        "colab": {
          "base_uri": "https://localhost:8080/"
        },
        "id": "_kVoPBb-v6uB",
        "outputId": "e4a397ef-0040-4e94-f659-604807dcaeea"
      },
      "source": [
        "!cat /etc/os-release"
      ],
      "execution_count": 57,
      "outputs": [
        {
          "output_type": "stream",
          "text": [
            "NAME=\"Ubuntu\"\n",
            "VERSION=\"18.04.5 LTS (Bionic Beaver)\"\n",
            "ID=ubuntu\n",
            "ID_LIKE=debian\n",
            "PRETTY_NAME=\"Ubuntu 18.04.5 LTS\"\n",
            "VERSION_ID=\"18.04\"\n",
            "HOME_URL=\"https://www.ubuntu.com/\"\n",
            "SUPPORT_URL=\"https://help.ubuntu.com/\"\n",
            "BUG_REPORT_URL=\"https://bugs.launchpad.net/ubuntu/\"\n",
            "PRIVACY_POLICY_URL=\"https://www.ubuntu.com/legal/terms-and-policies/privacy-policy\"\n",
            "VERSION_CODENAME=bionic\n",
            "UBUNTU_CODENAME=bionic\n"
          ],
          "name": "stdout"
        }
      ]
    },
    {
      "cell_type": "markdown",
      "metadata": {
        "id": "sEgR7FQIu1x1"
      },
      "source": [
        "Tamanho do disco"
      ]
    },
    {
      "cell_type": "code",
      "metadata": {
        "colab": {
          "base_uri": "https://localhost:8080/"
        },
        "id": "xnG2d1n2u-ll",
        "outputId": "94686a61-956c-43b7-8cca-c16dce00dae1"
      },
      "source": [
        "!df -k ."
      ],
      "execution_count": 58,
      "outputs": [
        {
          "output_type": "stream",
          "text": [
            "Filesystem     1K-blocks     Used Available Use% Mounted on\n",
            "overlay        236863352 40632460 196214508  18% /\n"
          ],
          "name": "stdout"
        }
      ]
    },
    {
      "cell_type": "markdown",
      "metadata": {
        "id": "UnONs-014Emq"
      },
      "source": [
        "Tamanho dos diretórios"
      ]
    },
    {
      "cell_type": "code",
      "metadata": {
        "colab": {
          "base_uri": "https://localhost:8080/"
        },
        "id": "fP7QDSIH4GkF",
        "outputId": "3f5e69e4-b9ac-43ac-abf7-fd815dd22721"
      },
      "source": [
        "!df -h"
      ],
      "execution_count": 59,
      "outputs": [
        {
          "output_type": "stream",
          "text": [
            "Filesystem      Size  Used Avail Use% Mounted on\n",
            "overlay         226G   39G  188G  18% /\n",
            "tmpfs            64M     0   64M   0% /dev\n",
            "tmpfs           6.4G     0  6.4G   0% /sys/fs/cgroup\n",
            "shm             5.9G     0  5.9G   0% /dev/shm\n",
            "tmpfs           6.4G   24K  6.4G   1% /var/colab\n",
            "/dev/sda1       233G   41G  192G  18% /etc/hosts\n",
            "tmpfs           6.4G     0  6.4G   0% /proc/acpi\n",
            "tmpfs           6.4G     0  6.4G   0% /proc/scsi\n",
            "tmpfs           6.4G     0  6.4G   0% /sys/firmware\n"
          ],
          "name": "stdout"
        }
      ]
    },
    {
      "cell_type": "markdown",
      "metadata": {
        "id": "9NZh26yI-Zt2"
      },
      "source": [
        "shell interativo\n",
        "\n",
        "Não há terminal interativo embutido no Colab. Mas você pode usar o comando bash para experimentar comandos shell interativamente. Basta executar este comando e você obterá uma entrada interativa.\n",
        "\n",
        "Descomente a linha da célula para usar o shel interativo.\n",
        "\n"
      ]
    },
    {
      "cell_type": "code",
      "metadata": {
        "id": "14Koj0ha-Z6G"
      },
      "source": [
        "#!bash"
      ],
      "execution_count": 60,
      "outputs": []
    },
    {
      "cell_type": "markdown",
      "metadata": {
        "id": "_rR4E0gVcMP-"
      },
      "source": [
        "Lista o conteúdo de um diretório"
      ]
    },
    {
      "cell_type": "code",
      "metadata": {
        "colab": {
          "base_uri": "https://localhost:8080/"
        },
        "id": "DfALVqDHcOzP",
        "outputId": "2c3aae65-9d6b-450c-fc8e-916104b63c1e"
      },
      "source": [
        "!ls"
      ],
      "execution_count": 61,
      "outputs": [
        {
          "output_type": "stream",
          "text": [
            "sample_data\n"
          ],
          "name": "stdout"
        }
      ]
    },
    {
      "cell_type": "markdown",
      "metadata": {
        "id": "FX63sT_HcP24"
      },
      "source": [
        "Entrando em um diretório\n",
        "\n",
        "1- Vai para o diretório raiz.\n",
        "\n",
        "2 - Lista o diretório\n",
        "\n",
        "3- Entra no diretório `content`.\n"
      ]
    },
    {
      "cell_type": "code",
      "metadata": {
        "colab": {
          "base_uri": "https://localhost:8080/"
        },
        "id": "7eXB8mC-c9Ze",
        "outputId": "ac67d821-6e8a-40a0-f462-686d804fb870"
      },
      "source": [
        "%cd /\n",
        "!ls\n",
        "%cd /content/"
      ],
      "execution_count": 62,
      "outputs": [
        {
          "output_type": "stream",
          "text": [
            "/\n",
            "bin\t datalab  home\t lib64\topt   run   sys\t\t       tools\n",
            "boot\t dev\t  lib\t media\tproc  sbin  tensorflow-1.15.2  usr\n",
            "content  etc\t  lib32  mnt\troot  srv   tmp\t\t       var\n",
            "/content\n"
          ],
          "name": "stdout"
        }
      ]
    },
    {
      "cell_type": "markdown",
      "metadata": {
        "id": "7riyQA9wdLUs"
      },
      "source": [
        "O comando \"%%writefile nomeArquivo\" no início da célula salva o conteúdo no arquivo nomeArquivo."
      ]
    },
    {
      "cell_type": "code",
      "metadata": {
        "colab": {
          "base_uri": "https://localhost:8080/"
        },
        "id": "ZHMqoLEBdN8c",
        "outputId": "83cd8666-b152-412a-bd2b-7abe149f702d"
      },
      "source": [
        "%%writefile arquivo.txt\n",
        "Alo Mundo!"
      ],
      "execution_count": 63,
      "outputs": [
        {
          "output_type": "stream",
          "text": [
            "Writing arquivo.txt\n"
          ],
          "name": "stdout"
        }
      ]
    },
    {
      "cell_type": "code",
      "metadata": {
        "colab": {
          "base_uri": "https://localhost:8080/"
        },
        "id": "9PbyMDZCfhtK",
        "outputId": "d633e98e-3144-46b6-9bc2-af2ef65214ea"
      },
      "source": [
        "!cat arquivo.txt"
      ],
      "execution_count": 64,
      "outputs": [
        {
          "output_type": "stream",
          "text": [
            "Alo Mundo!"
          ],
          "name": "stdout"
        }
      ]
    },
    {
      "cell_type": "markdown",
      "metadata": {
        "id": "p4xA41jV_O27"
      },
      "source": [
        "# Traduzindo Texto\n",
        "\n"
      ]
    },
    {
      "cell_type": "markdown",
      "metadata": {
        "id": "JGJFuBkxP3si"
      },
      "source": [
        "## Google Translator\n",
        "https://pypi.org/project/googletrans/\n"
      ]
    },
    {
      "cell_type": "code",
      "metadata": {
        "colab": {
          "base_uri": "https://localhost:8080/"
        },
        "id": "5YXOnnF9F-Bb",
        "outputId": "ced3155d-8268-43d9-de3a-34956a9f24e5"
      },
      "source": [
        "#pip install googletrans #apresenta problemas\n",
        "!pip install googletrans==3.1.0a0"
      ],
      "execution_count": 65,
      "outputs": [
        {
          "output_type": "stream",
          "text": [
            "Requirement already satisfied: googletrans==3.1.0a0 in /usr/local/lib/python3.7/dist-packages (3.1.0a0)\n",
            "Requirement already satisfied: httpx==0.13.3 in /usr/local/lib/python3.7/dist-packages (from googletrans==3.1.0a0) (0.13.3)\n",
            "Requirement already satisfied: hstspreload in /usr/local/lib/python3.7/dist-packages (from httpx==0.13.3->googletrans==3.1.0a0) (2020.12.22)\n",
            "Requirement already satisfied: sniffio in /usr/local/lib/python3.7/dist-packages (from httpx==0.13.3->googletrans==3.1.0a0) (1.2.0)\n",
            "Requirement already satisfied: rfc3986<2,>=1.3 in /usr/local/lib/python3.7/dist-packages (from httpx==0.13.3->googletrans==3.1.0a0) (1.5.0)\n",
            "Requirement already satisfied: idna==2.* in /usr/local/lib/python3.7/dist-packages (from httpx==0.13.3->googletrans==3.1.0a0) (2.10)\n",
            "Requirement already satisfied: chardet==3.* in /usr/local/lib/python3.7/dist-packages (from httpx==0.13.3->googletrans==3.1.0a0) (3.0.4)\n",
            "Requirement already satisfied: certifi in /usr/local/lib/python3.7/dist-packages (from httpx==0.13.3->googletrans==3.1.0a0) (2020.12.5)\n",
            "Requirement already satisfied: httpcore==0.9.* in /usr/local/lib/python3.7/dist-packages (from httpx==0.13.3->googletrans==3.1.0a0) (0.9.1)\n",
            "Requirement already satisfied: h11<0.10,>=0.8 in /usr/local/lib/python3.7/dist-packages (from httpcore==0.9.*->httpx==0.13.3->googletrans==3.1.0a0) (0.9.0)\n",
            "Requirement already satisfied: h2==3.* in /usr/local/lib/python3.7/dist-packages (from httpcore==0.9.*->httpx==0.13.3->googletrans==3.1.0a0) (3.2.0)\n",
            "Requirement already satisfied: hpack<4,>=3.0 in /usr/local/lib/python3.7/dist-packages (from h2==3.*->httpcore==0.9.*->httpx==0.13.3->googletrans==3.1.0a0) (3.0.0)\n",
            "Requirement already satisfied: hyperframe<6,>=5.2.0 in /usr/local/lib/python3.7/dist-packages (from h2==3.*->httpcore==0.9.*->httpx==0.13.3->googletrans==3.1.0a0) (5.2.0)\n"
          ],
          "name": "stdout"
        }
      ]
    },
    {
      "cell_type": "code",
      "metadata": {
        "colab": {
          "base_uri": "https://localhost:8080/"
        },
        "id": "2PG4hpZcFc5b",
        "outputId": "fc87ee77-251b-4d5b-c2b9-731968ef250f"
      },
      "source": [
        "from googletrans import Translator\n",
        "\n",
        "tradudor = Translator()\n",
        "\n",
        "fraseEn = 'The sky is blue.'\n",
        "\n",
        "frasePtBR = tradudor.translate(fraseEn, dest='pt')  \n",
        "\n",
        "print(frasePtBR)"
      ],
      "execution_count": 66,
      "outputs": [
        {
          "output_type": "stream",
          "text": [
            "Translated(src=en, dest=pt, text=O céu é azul., pronunciation=The sky is blue., extra_data=\"{'translat...\")\n"
          ],
          "name": "stdout"
        }
      ]
    },
    {
      "cell_type": "markdown",
      "metadata": {
        "id": "uSQmwK50GQT8"
      },
      "source": [
        "### Versão alternativa\n",
        "\n",
        "https://pypi.org/project/google-trans-new/"
      ]
    },
    {
      "cell_type": "code",
      "metadata": {
        "colab": {
          "base_uri": "https://localhost:8080/"
        },
        "id": "aTVQoxuF_kbP",
        "outputId": "e1535f90-419d-4610-b579-503811edef64"
      },
      "source": [
        "!pip install google_trans_new"
      ],
      "execution_count": 67,
      "outputs": [
        {
          "output_type": "stream",
          "text": [
            "Requirement already satisfied: google_trans_new in /usr/local/lib/python3.7/dist-packages (1.1.9)\n"
          ],
          "name": "stdout"
        }
      ]
    },
    {
      "cell_type": "code",
      "metadata": {
        "colab": {
          "base_uri": "https://localhost:8080/"
        },
        "id": "VN_WDVHyASEd",
        "outputId": "9ef67434-34e4-41cc-da22-868123c0537b"
      },
      "source": [
        "from google_trans_new import google_translator  \n",
        "\n",
        "tradudor = google_translator()  \n",
        "\n",
        "fraseEn = 'The sky is blue.'\n",
        "\n",
        "frasePtBR = tradudor.translate(fraseEn, lang_tgt='pt')  \n",
        "\n",
        "print(frasePtBR)"
      ],
      "execution_count": 68,
      "outputs": [
        {
          "output_type": "stream",
          "text": [
            "O céu é azul. \n"
          ],
          "name": "stdout"
        }
      ]
    },
    {
      "cell_type": "markdown",
      "metadata": {
        "id": "h3XCRcKvpDNE"
      },
      "source": [
        "### outra versão"
      ]
    },
    {
      "cell_type": "code",
      "metadata": {
        "colab": {
          "base_uri": "https://localhost:8080/"
        },
        "id": "MwTGtNhbnmg9",
        "outputId": "ba131499-ee75-4bda-8118-da00d221941c"
      },
      "source": [
        "!pip install translate"
      ],
      "execution_count": 69,
      "outputs": [
        {
          "output_type": "stream",
          "text": [
            "Requirement already satisfied: translate in /usr/local/lib/python3.7/dist-packages (3.5.0)\n",
            "Requirement already satisfied: tox in /usr/local/lib/python3.7/dist-packages (from translate) (3.23.1)\n",
            "Requirement already satisfied: requests in /usr/local/lib/python3.7/dist-packages (from translate) (2.23.0)\n",
            "Requirement already satisfied: click in /usr/local/lib/python3.7/dist-packages (from translate) (7.1.2)\n",
            "Requirement already satisfied: pre-commit in /usr/local/lib/python3.7/dist-packages (from translate) (2.13.0)\n",
            "Requirement already satisfied: lxml in /usr/local/lib/python3.7/dist-packages (from translate) (4.2.6)\n",
            "Requirement already satisfied: packaging>=14 in /usr/local/lib/python3.7/dist-packages (from tox->translate) (20.9)\n",
            "Requirement already satisfied: pluggy>=0.12.0 in /usr/local/lib/python3.7/dist-packages (from tox->translate) (0.13.1)\n",
            "Requirement already satisfied: filelock>=3.0.0 in /usr/local/lib/python3.7/dist-packages (from tox->translate) (3.0.12)\n",
            "Requirement already satisfied: py>=1.4.17 in /usr/local/lib/python3.7/dist-packages (from tox->translate) (1.10.0)\n",
            "Requirement already satisfied: virtualenv!=20.0.0,!=20.0.1,!=20.0.2,!=20.0.3,!=20.0.4,!=20.0.5,!=20.0.6,!=20.0.7,>=16.0.0 in /usr/local/lib/python3.7/dist-packages (from tox->translate) (20.4.7)\n",
            "Requirement already satisfied: six>=1.14.0 in /usr/local/lib/python3.7/dist-packages (from tox->translate) (1.15.0)\n",
            "Requirement already satisfied: toml>=0.9.4 in /usr/local/lib/python3.7/dist-packages (from tox->translate) (0.10.2)\n",
            "Requirement already satisfied: importlib-metadata>=0.12; python_version < \"3.8\" in /usr/local/lib/python3.7/dist-packages (from tox->translate) (4.0.1)\n",
            "Requirement already satisfied: urllib3!=1.25.0,!=1.25.1,<1.26,>=1.21.1 in /usr/local/lib/python3.7/dist-packages (from requests->translate) (1.24.3)\n",
            "Requirement already satisfied: idna<3,>=2.5 in /usr/local/lib/python3.7/dist-packages (from requests->translate) (2.10)\n",
            "Requirement already satisfied: certifi>=2017.4.17 in /usr/local/lib/python3.7/dist-packages (from requests->translate) (2020.12.5)\n",
            "Requirement already satisfied: chardet<4,>=3.0.2 in /usr/local/lib/python3.7/dist-packages (from requests->translate) (3.0.4)\n",
            "Requirement already satisfied: cfgv>=2.0.0 in /usr/local/lib/python3.7/dist-packages (from pre-commit->translate) (3.3.0)\n",
            "Requirement already satisfied: identify>=1.0.0 in /usr/local/lib/python3.7/dist-packages (from pre-commit->translate) (2.2.10)\n",
            "Requirement already satisfied: pyyaml>=5.1 in /usr/local/lib/python3.7/dist-packages (from pre-commit->translate) (5.4.1)\n",
            "Requirement already satisfied: nodeenv>=0.11.1 in /usr/local/lib/python3.7/dist-packages (from pre-commit->translate) (1.6.0)\n",
            "Requirement already satisfied: pyparsing>=2.0.2 in /usr/local/lib/python3.7/dist-packages (from packaging>=14->tox->translate) (2.4.7)\n",
            "Requirement already satisfied: distlib<1,>=0.3.1 in /usr/local/lib/python3.7/dist-packages (from virtualenv!=20.0.0,!=20.0.1,!=20.0.2,!=20.0.3,!=20.0.4,!=20.0.5,!=20.0.6,!=20.0.7,>=16.0.0->tox->translate) (0.3.2)\n",
            "Requirement already satisfied: appdirs<2,>=1.4.3 in /usr/local/lib/python3.7/dist-packages (from virtualenv!=20.0.0,!=20.0.1,!=20.0.2,!=20.0.3,!=20.0.4,!=20.0.5,!=20.0.6,!=20.0.7,>=16.0.0->tox->translate) (1.4.4)\n",
            "Requirement already satisfied: zipp>=0.5 in /usr/local/lib/python3.7/dist-packages (from importlib-metadata>=0.12; python_version < \"3.8\"->tox->translate) (3.4.1)\n",
            "Requirement already satisfied: typing-extensions>=3.6.4; python_version < \"3.8\" in /usr/local/lib/python3.7/dist-packages (from importlib-metadata>=0.12; python_version < \"3.8\"->tox->translate) (3.7.4.3)\n"
          ],
          "name": "stdout"
        }
      ]
    },
    {
      "cell_type": "code",
      "metadata": {
        "colab": {
          "base_uri": "https://localhost:8080/"
        },
        "id": "D5DzX76cnjpm",
        "outputId": "4fab6fa5-dfd3-4bce-d6e7-c3cc9f3f90d6"
      },
      "source": [
        "from translate import Translator\n",
        "\n",
        "tradutor = Translator(from_lang=\"english\", to_lang=\"pt-br\")\n",
        "\n",
        "fraseEn = 'The sky is blue.'\n",
        "\n",
        "frasePtBR = tradutor.translate(fraseEn)\n",
        "\n",
        "print(frasePtBR)"
      ],
      "execution_count": 70,
      "outputs": [
        {
          "output_type": "stream",
          "text": [
            "O céu é azul.\n"
          ],
          "name": "stdout"
        }
      ]
    },
    {
      "cell_type": "markdown",
      "metadata": {
        "id": "YP61G0BtQNlj"
      },
      "source": [
        "## TextBlob\n",
        "\n",
        "Traduzindo texto de textblob"
      ]
    },
    {
      "cell_type": "code",
      "metadata": {
        "colab": {
          "base_uri": "https://localhost:8080/"
        },
        "id": "qbanD21ZQTML",
        "outputId": "9c11966d-1135-4c51-e107-7ec277dd8157"
      },
      "source": [
        "from textblob import TextBlob\n",
        "\n",
        "fraseEn = 'The sky is blue.'\n",
        "\n",
        "translation = TextBlob(fraseEn)\n",
        "\n",
        "frasePtBR = translation.translate(from_lang='en', to='pt')\n",
        "\n",
        "print(frasePtBR)\n"
      ],
      "execution_count": 71,
      "outputs": [
        {
          "output_type": "stream",
          "text": [
            "O céu é azul.\n"
          ],
          "name": "stdout"
        }
      ]
    },
    {
      "cell_type": "markdown",
      "metadata": {
        "id": "_-uC2Yk7yQur"
      },
      "source": [
        "#Remove Tags HTML do texto\n",
        "\n",
        "https://code.launchpad.net/beautifulsoup/\n"
      ]
    },
    {
      "cell_type": "code",
      "metadata": {
        "colab": {
          "base_uri": "https://localhost:8080/"
        },
        "id": "modQjr4AyUpn",
        "outputId": "bdcc3202-5147-4f72-f34a-660ef7911962"
      },
      "source": [
        "from bs4 import BeautifulSoup\n",
        "\n",
        "mensagemhtml = \"<html><p>Mensagem do HTML</p></html>\"\n",
        "\n",
        "soup = BeautifulSoup(mensagemhtml)\n",
        "\n",
        "mensagemlimpa = soup.get_text()\n",
        "\n",
        "print(mensagemhtml)\n",
        "\n",
        "print(mensagemlimpa)"
      ],
      "execution_count": 72,
      "outputs": [
        {
          "output_type": "stream",
          "text": [
            "<html><p>Mensagem do HTML</p></html>\n",
            "Mensagem do HTML\n"
          ],
          "name": "stdout"
        }
      ]
    },
    {
      "cell_type": "markdown",
      "metadata": {
        "id": "KPkDUbfeg9H7"
      },
      "source": [
        "#Funções\n",
        "\n",
        "Artigo sobre parâmetros, argumentos, *args e \\***kwargs.\n",
        "\n",
        "https://medium.com/luizalabs/fun%C3%A7%C3%B5es-em-python-entendendo-par%C3%A2metros-argumentos-args-e-kwargs-4291b1f817f6"
      ]
    },
    {
      "cell_type": "markdown",
      "metadata": {
        "id": "8U4rSmgUf30l"
      },
      "source": [
        "##Funções com quantidade de parâmetros indeterminados\n",
        "\n",
        "Com o uso de um * (asterisco) podemos criar funções com números indeterminados de parâmetros.\n"
      ]
    },
    {
      "cell_type": "code",
      "metadata": {
        "colab": {
          "base_uri": "https://localhost:8080/"
        },
        "id": "1l7Kpy-wf30m",
        "outputId": "0f329a6e-fe38-4c95-dfb0-2604ec728c14"
      },
      "source": [
        "# Declara a função\n",
        "def soma(*valores):\n",
        "    soma = 0 \n",
        "    for i in valores:\n",
        "        soma += i\n",
        "    return soma\n",
        "\n",
        "\n",
        "# Utiliza a função\n",
        "print(soma(1,2,3))\n",
        "print(soma(1,2,3,4))"
      ],
      "execution_count": 73,
      "outputs": [
        {
          "output_type": "stream",
          "text": [
            "6\n",
            "10\n"
          ],
          "name": "stdout"
        }
      ]
    },
    {
      "cell_type": "markdown",
      "metadata": {
        "id": "fIP4lbqu9Z0z"
      },
      "source": [
        "##Funções como parâmetros de funções"
      ]
    },
    {
      "cell_type": "code",
      "metadata": {
        "id": "cpUNK-rc9cxo"
      },
      "source": [
        "# Função a ser usada como argumento\n",
        "def fatorial(n):\n",
        "  fat = 1\n",
        "  for x in range(1,n+1):\n",
        "      fat = fat * x\n",
        "  return fat"
      ],
      "execution_count": 74,
      "outputs": []
    },
    {
      "cell_type": "code",
      "metadata": {
        "id": "vm9jnvB89-Jk"
      },
      "source": [
        "# Chama a função passada como argumento e especifica o argumento\n",
        "def chamada(funcao, argumento):\n",
        "  return funcao(argumento)"
      ],
      "execution_count": 75,
      "outputs": []
    },
    {
      "cell_type": "code",
      "metadata": {
        "colab": {
          "base_uri": "https://localhost:8080/"
        },
        "id": "3SpFetlB9nLH",
        "outputId": "a1f80de4-9102-49a8-fa7c-769c7ab3d0f2"
      },
      "source": [
        "# Chama a função passando a função fatorial e o argumento 3\n",
        "print(chamada(fatorial,3))"
      ],
      "execution_count": 76,
      "outputs": [
        {
          "output_type": "stream",
          "text": [
            "6\n"
          ],
          "name": "stdout"
        }
      ]
    },
    {
      "cell_type": "markdown",
      "metadata": {
        "id": "PMn9AwJNgJQm"
      },
      "source": [
        "##Funções Lambda\n",
        "\n",
        "Também conhecida como funções anônimas, as funções lambdas permite implementar uma função específica em um único bloco de instrução, sem a necessidade de definir uma função usando a palavra def. A diferença entre as funções são que:\n",
        "\n",
        "* def - cria um objeto internamente colocando o nome da função apontando para ele.\n",
        "* lambda - cria um objeto, porém o retorno é efetuado em tempo de execução.\n",
        "\n",
        "Sintaxe: lambda arg1,...,argN:expressão\n",
        "\n",
        "Exemplos de função utilizando a expressão lambda:"
      ]
    },
    {
      "cell_type": "code",
      "metadata": {
        "colab": {
          "base_uri": "https://localhost:8080/"
        },
        "id": "ZG82UpBxgT4n",
        "outputId": "a4899110-7988-40f9-81ae-5d1aca7d0b89"
      },
      "source": [
        "# Declaração\n",
        "exponencial = lambda x:x*2\n",
        "\n",
        "# Utiliza a função\n",
        "exponencial(8)"
      ],
      "execution_count": 77,
      "outputs": [
        {
          "output_type": "execute_result",
          "data": {
            "text/plain": [
              "16"
            ]
          },
          "metadata": {
            "tags": []
          },
          "execution_count": 77
        }
      ]
    },
    {
      "cell_type": "code",
      "metadata": {
        "colab": {
          "base_uri": "https://localhost:8080/"
        },
        "id": "bQMl20WagYB3",
        "outputId": "1b083eb0-cefd-45f7-9006-6204ee0fe851"
      },
      "source": [
        "# Declaração\n",
        "situacao = lambda nota:nota >= 6\n",
        "\n",
        "# Utiliza a função\n",
        "situacao(7)"
      ],
      "execution_count": 78,
      "outputs": [
        {
          "output_type": "execute_result",
          "data": {
            "text/plain": [
              "True"
            ]
          },
          "metadata": {
            "tags": []
          },
          "execution_count": 78
        }
      ]
    },
    {
      "cell_type": "code",
      "metadata": {
        "colab": {
          "base_uri": "https://localhost:8080/",
          "height": 35
        },
        "id": "pORa0WrNglxE",
        "outputId": "dbce5258-0721-4d06-bcc6-987c14177b09"
      },
      "source": [
        "# Declaração\n",
        "invertido = lambda palavra:palavra[::-1]\n",
        "\n",
        "# Utiliza a função\n",
        "invertido('Python')"
      ],
      "execution_count": 79,
      "outputs": [
        {
          "output_type": "execute_result",
          "data": {
            "application/vnd.google.colaboratory.intrinsic+json": {
              "type": "string"
            },
            "text/plain": [
              "'nohtyP'"
            ]
          },
          "metadata": {
            "tags": []
          },
          "execution_count": 79
        }
      ]
    },
    {
      "cell_type": "code",
      "metadata": {
        "colab": {
          "base_uri": "https://localhost:8080/"
        },
        "id": "UmrUGgJigsVI",
        "outputId": "4ef3d259-03a5-499c-bb2d-ca91f6caabd9"
      },
      "source": [
        "# Declaração\n",
        "produto = lambda x,y,z:x*y*z\n",
        "\n",
        "# Utiliza a função\n",
        "produto(3,9,18)"
      ],
      "execution_count": 80,
      "outputs": [
        {
          "output_type": "execute_result",
          "data": {
            "text/plain": [
              "486"
            ]
          },
          "metadata": {
            "tags": []
          },
          "execution_count": 80
        }
      ]
    },
    {
      "cell_type": "markdown",
      "metadata": {
        "id": "GM-MnEYKhFgS"
      },
      "source": [
        "## Função Map\n",
        "A função map aplica uma função a todos os elementos de uma lista sem a necessidade de utilizar um loop for, retornando uma nova lista com os elementos alterados pela função escolhida.\n",
        "\n",
        "Sintaxe: map(fun, seq)"
      ]
    },
    {
      "cell_type": "markdown",
      "metadata": {
        "id": "6sTGPKQfhjaV"
      },
      "source": [
        "Soma de 2 listas"
      ]
    },
    {
      "cell_type": "code",
      "metadata": {
        "colab": {
          "base_uri": "https://localhost:8080/"
        },
        "id": "f6rdYblNhvS2",
        "outputId": "90b0ffc4-fb12-40e7-b43e-158336f11d61"
      },
      "source": [
        "# Declaração\n",
        "L1 = [10, 20, 30, 40, 50]\n",
        "L2 = [1, 2, 3, 4, 5]\n",
        "\n",
        "# Utiliza a função\n",
        "soma = list(map(lambda a,b:a+b, L1, L2))\n",
        "\n",
        "print(soma)"
      ],
      "execution_count": 81,
      "outputs": [
        {
          "output_type": "stream",
          "text": [
            "[11, 22, 33, 44, 55]\n"
          ],
          "name": "stdout"
        }
      ]
    },
    {
      "cell_type": "markdown",
      "metadata": {
        "id": "qOAjikQYhh0V"
      },
      "source": [
        "Soma de 3 listas"
      ]
    },
    {
      "cell_type": "code",
      "metadata": {
        "colab": {
          "base_uri": "https://localhost:8080/"
        },
        "id": "iNJ52TyQhhRZ",
        "outputId": "9b63b389-57b0-4e7e-d8dc-752e985f41f4"
      },
      "source": [
        "# Declaração\n",
        "L1 = [10, 20, 30, 40, 50]\n",
        "L2 = [1, 2, 3, 4, 5]\n",
        "L3 = [11, 22, 33, 44, 55]\n",
        "\n",
        "# Utiliza a função\n",
        "soma = list(map(lambda a,b,c:a+b+c, L1, L2, L3))\n",
        "\n",
        "print(soma)"
      ],
      "execution_count": 82,
      "outputs": [
        {
          "output_type": "stream",
          "text": [
            "[22, 44, 66, 88, 110]\n"
          ],
          "name": "stdout"
        }
      ]
    },
    {
      "cell_type": "markdown",
      "metadata": {
        "id": "LxaFpeJNh8oP"
      },
      "source": [
        "## Função Reduce\n",
        "\n",
        "Aplica uma função em todos os elementos da lista, retornando um único valor. É necessário importar a biblioteca functools para utilizar a função reduce.\n",
        "\n",
        "Sintaxe: reduce(fun, seq)"
      ]
    },
    {
      "cell_type": "code",
      "metadata": {
        "colab": {
          "base_uri": "https://localhost:8080/"
        },
        "id": "F1_VrxAMiBL-",
        "outputId": "fcdc2bc2-c3a9-4f02-fac8-34f2d8834277"
      },
      "source": [
        "from functools import reduce\n",
        "\n",
        "# Declaração\n",
        "L1 = [1, 2, 3, 4, 5]\n",
        "\n",
        "# Utiliza a função\n",
        "soma = reduce((lambda x,y:x+y), L1) #((((1+2)+3)+4)+5)\n",
        "\n",
        "print(soma)"
      ],
      "execution_count": 83,
      "outputs": [
        {
          "output_type": "stream",
          "text": [
            "15\n"
          ],
          "name": "stdout"
        }
      ]
    },
    {
      "cell_type": "markdown",
      "metadata": {
        "id": "WUKwvSaxiKfK"
      },
      "source": [
        "## Função Filter\n",
        "\n",
        "A função filter nos permite filtrar elementos de uma sequência de valores.\n",
        "\n",
        "Sintaxe: filter(fun, seq)"
      ]
    },
    {
      "cell_type": "code",
      "metadata": {
        "colab": {
          "base_uri": "https://localhost:8080/"
        },
        "id": "LjbBn49qiOQw",
        "outputId": "26f60e4f-d889-4992-fec2-e0898e767ecc"
      },
      "source": [
        "# Declaração\n",
        "L1 = [1, 2, 3, 4, 5, 6, 7, 8, 9, 10]\n",
        "\n",
        "# Utiliza a função\n",
        "filtro = list(filter(lambda x: x%2==0, L1)) #fitra os pares\n",
        "\n",
        "print(filtro)"
      ],
      "execution_count": 84,
      "outputs": [
        {
          "output_type": "stream",
          "text": [
            "[2, 4, 6, 8, 10]\n"
          ],
          "name": "stdout"
        }
      ]
    },
    {
      "cell_type": "markdown",
      "metadata": {
        "id": "-VluuxMbiXqN"
      },
      "source": [
        "## Função Zip\n",
        "\n",
        "A função zip nos retorna o agrupamento de duas sequências em uma tupla. Ao ser aplicado em sequências com tamanhos diferentes, o número de tuplas será igual ao número da menor sequência de valores.\n",
        "\n",
        "Sintaxe: zip(seq,seq)"
      ]
    },
    {
      "cell_type": "code",
      "metadata": {
        "colab": {
          "base_uri": "https://localhost:8080/"
        },
        "id": "92DJXz_DiaNk",
        "outputId": "d48b1658-fc14-4950-dc5d-6a7036f917c1"
      },
      "source": [
        "# Declaração\n",
        "L1 = [1, 3, 5, 7, 9]\n",
        "L2 = [2, 4, 6, 8, 10]\n",
        "\n",
        "# Utiliza a função\n",
        "LZIP = zip(L1,L2)\n",
        "\n",
        "print(LZIP)"
      ],
      "execution_count": 85,
      "outputs": [
        {
          "output_type": "stream",
          "text": [
            "<zip object at 0x7f08061ef690>\n"
          ],
          "name": "stdout"
        }
      ]
    },
    {
      "cell_type": "markdown",
      "metadata": {
        "id": "tMJ0zkTyilOt"
      },
      "source": [
        "O retorno da zip é um iterador, precisamos usar a função list() para obter uma lista."
      ]
    },
    {
      "cell_type": "code",
      "metadata": {
        "colab": {
          "base_uri": "https://localhost:8080/"
        },
        "id": "H2o7_n4rilzL",
        "outputId": "3e4dbe4a-76ce-4baf-ddd2-a254ec5cff5d"
      },
      "source": [
        "print(list(LZIP))"
      ],
      "execution_count": 86,
      "outputs": [
        {
          "output_type": "stream",
          "text": [
            "[(1, 2), (3, 4), (5, 6), (7, 8), (9, 10)]\n"
          ],
          "name": "stdout"
        }
      ]
    },
    {
      "cell_type": "markdown",
      "metadata": {
        "id": "u4vcAQXmisl-"
      },
      "source": [
        "Exemplo com listas de tamanhos diferentes."
      ]
    },
    {
      "cell_type": "code",
      "metadata": {
        "colab": {
          "base_uri": "https://localhost:8080/"
        },
        "id": "Y7K5i8GTiuqo",
        "outputId": "21128987-91d7-4dea-9291-d4ba7a7fe37b"
      },
      "source": [
        "# Declaração\n",
        "L3 = [1, 2, 3, 4, 5]\n",
        "L4 = [22, 11]\n",
        "\n",
        "# Utiliza a função\n",
        "LZIP = list(zip(L3,L4))\n",
        "\n",
        "print(list(LZIP))"
      ],
      "execution_count": 87,
      "outputs": [
        {
          "output_type": "stream",
          "text": [
            "[(1, 22), (2, 11)]\n"
          ],
          "name": "stdout"
        }
      ]
    },
    {
      "cell_type": "markdown",
      "metadata": {
        "id": "-vnZtDA7jG9p"
      },
      "source": [
        "Em dicionários"
      ]
    },
    {
      "cell_type": "code",
      "metadata": {
        "colab": {
          "base_uri": "https://localhost:8080/"
        },
        "id": "uIplscX4jIct",
        "outputId": "7517ecf1-3eb0-4ee2-d25b-603ddb0c2396"
      },
      "source": [
        "# Dicionários\n",
        "dic1 = {'a':1, 'b':2, 'c':3, 'd':4}\n",
        "dic2 = {'aa':11, 'bb':22, 'cc':33, 'dd':44}\n",
        "\n",
        "# A função zip faz a união pelas chaves\n",
        "print(list(zip(dic1,dic2)))\n",
        "\n",
        "# Unindo pelos valores\n",
        "print(list(zip(dic1.values(),dic2.values())))\n",
        "\n",
        "# Unindo chaves com valores\n",
        "print(list(zip(dic1,dic2.values())))"
      ],
      "execution_count": 88,
      "outputs": [
        {
          "output_type": "stream",
          "text": [
            "[('a', 'aa'), ('b', 'bb'), ('c', 'cc'), ('d', 'dd')]\n",
            "[(1, 11), (2, 22), (3, 33), (4, 44)]\n",
            "[('a', 11), ('b', 22), ('c', 33), ('d', 44)]\n"
          ],
          "name": "stdout"
        }
      ]
    },
    {
      "cell_type": "markdown",
      "metadata": {
        "id": "qSZNWrpMjbxo"
      },
      "source": [
        "## Função Enumerate\n",
        "A função enumerate retorna um par índice valor de uma sequência definida.\n",
        "\n",
        "Sintaxe: enumerate(seq)"
      ]
    },
    {
      "cell_type": "code",
      "metadata": {
        "colab": {
          "base_uri": "https://localhost:8080/"
        },
        "id": "ogK90wkPjdzE",
        "outputId": "6a0eb6fa-432c-488a-819c-a9c3e5c4fe93"
      },
      "source": [
        "# Lista sem índice\n",
        "lista = ['a', 'b', 'c', 'd']\n",
        "\n",
        "# Mostra a lista indexada\n",
        "print(list(enumerate(lista)))\n",
        "\n",
        "# Percorre a lista indexada\n",
        "for i, elemento in enumerate(lista):\n",
        "    print(i,elemento)"
      ],
      "execution_count": 89,
      "outputs": [
        {
          "output_type": "stream",
          "text": [
            "[(0, 'a'), (1, 'b'), (2, 'c'), (3, 'd')]\n",
            "0 a\n",
            "1 b\n",
            "2 c\n",
            "3 d\n"
          ],
          "name": "stdout"
        }
      ]
    },
    {
      "cell_type": "markdown",
      "metadata": {
        "id": "g7rhEbeJOdBr"
      },
      "source": [
        "## Função que retorna mais de um valor\n",
        "\n",
        "Uma função pode retornar mais de um valor, basta usar `return` com mais de um parâmetro. Também é possível retornar somente um determinado valor, basta ignorar retorna não desejando especificando `_` no lugar da variável de retorno.\n"
      ]
    },
    {
      "cell_type": "code",
      "metadata": {
        "id": "oqIYsonWOdni"
      },
      "source": [
        "# Declaração\n",
        "def calculadora(numero1, numero2):\n",
        "  \n",
        "    # Processamento da função\n",
        "    soma = numero1 + numero2\n",
        "    diferenca = numero2 + numero1\n",
        "    produto = numero1 * numero2\n",
        "    divisao = numero2 / numero1\n",
        "\n",
        "    # Retornando mais de um valor\n",
        "    return soma, diferenca, produto, divisao\n"
      ],
      "execution_count": 90,
      "outputs": []
    },
    {
      "cell_type": "code",
      "metadata": {
        "colab": {
          "base_uri": "https://localhost:8080/"
        },
        "id": "v9wAWvJfO9zU",
        "outputId": "84055582-2364-439e-c418-1881a81ce2d9"
      },
      "source": [
        "# Usando a função\n",
        "numero1 = 2\n",
        "numero2 = 10\n",
        "\n",
        "# Recuperando todos os resultados\n",
        "rsoma, rdiferenca, rproduto, rdivisao = calculadora(numero1, numero2)\n",
        "\n",
        "print(rsoma, rdiferenca, rproduto, rdivisao)\n",
        "\n",
        "# Recuperando somente um resultado\n",
        "_, rdif, _, _ = calculadora(numero1, numero2)\n",
        "\n",
        "print(rdif)"
      ],
      "execution_count": 91,
      "outputs": [
        {
          "output_type": "stream",
          "text": [
            "12 12 20 5.0\n",
            "12\n"
          ],
          "name": "stdout"
        }
      ]
    },
    {
      "cell_type": "markdown",
      "metadata": {
        "id": "CZXDOTptymKY"
      },
      "source": [
        "## Função com uso do ´yield´\n",
        "\n",
        "O `yield` só pode ser utilizando de funções. Dentro de uma função funciona como um `return`, só que retorna um objeto **generator** que é iterável. Para iterar sobre a função é necessário chamar a função `next()` ou utilizar um `for`.\n",
        "\n",
        "O `yield` marca a posição da última chamada da função `next()` de forma explicita ou implicita(`for`)."
      ]
    },
    {
      "cell_type": "markdown",
      "metadata": {
        "id": "Id1h-zE40QpT"
      },
      "source": [
        "### Exemplo 1 yield"
      ]
    },
    {
      "cell_type": "code",
      "metadata": {
        "id": "iyTSP_h8ymYR"
      },
      "source": [
        "# Declaração\n",
        "def funcao():\n",
        "    yield 10\n",
        "    yield 20\n",
        "    yield 30  "
      ],
      "execution_count": 92,
      "outputs": []
    },
    {
      "cell_type": "code",
      "metadata": {
        "colab": {
          "base_uri": "https://localhost:8080/"
        },
        "id": "0mtM2GEo0Zty",
        "outputId": "f2ba59d8-21cb-4a13-dfdd-300f905e7495"
      },
      "source": [
        "# Recupera o iterador da função para a variável conjunto\n",
        "conjunto = funcao()\n",
        "\n",
        "# O comando 'next()' retorna o número da primeira declaração de yield na variável conjunto\n",
        "print(next(conjunto))\n",
        "\n",
        "# O comando 'next()' retorna o número da segunda declaração de yield na variável conjunto\n",
        "print(next(conjunto))\n",
        "\n",
        "# O comando 'next()' retorna o número da terceira declaração de yield na variável conjunto\n",
        "print(next(conjunto))\n",
        "\n",
        "# A função next só pode ser chamada 3 vezes, pois existe somente 3 declarações!\n",
        "# Mas o yield pode ser declarado dentro de um laço(for)"
      ],
      "execution_count": 93,
      "outputs": [
        {
          "output_type": "stream",
          "text": [
            "10\n",
            "20\n",
            "30\n"
          ],
          "name": "stdout"
        }
      ]
    },
    {
      "cell_type": "markdown",
      "metadata": {
        "id": "1BYmE9aa02Hf"
      },
      "source": [
        "### Exemplo 2 yield"
      ]
    },
    {
      "cell_type": "code",
      "metadata": {
        "id": "D83pEDzF02Hg"
      },
      "source": [
        "# Declaração\n",
        "def funcao():\n",
        "    yield 10\n",
        "    yield 20  \n",
        "    yield 30  "
      ],
      "execution_count": 94,
      "outputs": []
    },
    {
      "cell_type": "code",
      "metadata": {
        "colab": {
          "base_uri": "https://localhost:8080/"
        },
        "id": "SxXEYFap04VT",
        "outputId": "44021ca9-ca86-440a-9877-5bbfdda9e32a"
      },
      "source": [
        "# Recupera o iterador da função para a variável conjunto\n",
        "conjunto = funcao()\n",
        "\n",
        "# O comando 'for' chama o next implicitamente retornando o número a medida que vai iterando a variável conjunto\n",
        "for x in conjunto:\n",
        "    print(x)\n",
        "\n",
        "# A função next só pode ser chamada 3 vezes, pois existe somente 3 declarações!\n",
        "# Mas o yield pode ser declarado dentro de um laço(for)"
      ],
      "execution_count": 95,
      "outputs": [
        {
          "output_type": "stream",
          "text": [
            "10\n",
            "20\n",
            "30\n"
          ],
          "name": "stdout"
        }
      ]
    },
    {
      "cell_type": "markdown",
      "metadata": {
        "id": "H1Oza3DI2nC2"
      },
      "source": [
        "### Exemplo 3 yield"
      ]
    },
    {
      "cell_type": "code",
      "metadata": {
        "id": "1zIBDaQz2nC2"
      },
      "source": [
        "# Declaração\n",
        "def geraNumero(inicio = 1, fim = 100):\n",
        "    '''\n",
        "    Gera os números no intervalo de número inicio até fim passado por parâmetro\n",
        "    '''\n",
        "    for numero in range(inicio, fim + 1):\n",
        "        yield numero"
      ],
      "execution_count": 96,
      "outputs": []
    },
    {
      "cell_type": "code",
      "metadata": {
        "colab": {
          "base_uri": "https://localhost:8080/"
        },
        "id": "xohojoNy2nC4",
        "outputId": "b04502dc-9ce6-4bbd-97fe-fdb9f4b92f9f"
      },
      "source": [
        "# Recupera o iterador da função para a variável conjunto\n",
        "conjunto = geraNumero(5, 10)\n",
        "\n",
        "# Sem o uso do yield na função geraNumero o for gera todos os números do intervalo\n",
        "\n",
        "# O comando 'for' chama o next implicitamente gerando cada número a medida que vai iterando a variável conjunto\n",
        "for x in conjunto:\n",
        "    print(x)"
      ],
      "execution_count": 97,
      "outputs": [
        {
          "output_type": "stream",
          "text": [
            "5\n",
            "6\n",
            "7\n",
            "8\n",
            "9\n",
            "10\n"
          ],
          "name": "stdout"
        }
      ]
    },
    {
      "cell_type": "markdown",
      "metadata": {
        "id": "cLpubXN0-sMk"
      },
      "source": [
        "### Exemplo 4 yield\n",
        "\n",
        "Função com retorno"
      ]
    },
    {
      "cell_type": "code",
      "metadata": {
        "id": "XGwJdu0n-sMl"
      },
      "source": [
        "# Declaração\n",
        "def geraNumero(inicio = 1, fim = 100):\n",
        "    '''\n",
        "    Gera os números no intervalo de número inicio até fim passado por parâmetro\n",
        "    '''\n",
        "    for numero in range(inicio, fim + 1):\n",
        "        yield numero"
      ],
      "execution_count": 98,
      "outputs": []
    },
    {
      "cell_type": "code",
      "metadata": {
        "colab": {
          "base_uri": "https://localhost:8080/"
        },
        "id": "p-plQ3bh-sMo",
        "outputId": "c371fc78-64ce-415e-bad9-fad4e8a8c7d1"
      },
      "source": [
        "# Recupera o iterador da função para a variável conjunto\n",
        "conjunto = geraNumero(5, 10)\n",
        "\n",
        "# Sem o uso do yield na função geraNumero o for gera todos os números do intervalo\n",
        "\n",
        "# O comando 'for' chama o next implicitamente gerando cada número a medida que vai iterando a variável conjunto\n",
        "for x in conjunto:\n",
        "    print(x)"
      ],
      "execution_count": 99,
      "outputs": [
        {
          "output_type": "stream",
          "text": [
            "5\n",
            "6\n",
            "7\n",
            "8\n",
            "9\n",
            "10\n"
          ],
          "name": "stdout"
        }
      ]
    },
    {
      "cell_type": "markdown",
      "metadata": {
        "id": "xPVtpRBpPPuD"
      },
      "source": [
        "## Função com especificação de tipos de dados para os parâmetros e retorno\n",
        "\n",
        "Para especificar o tipo de dados dos parâmetos coloque o nome da variávei seguido de dois pontos(:) e o tipo de dado.\n",
        "\n",
        "Para especificar o retorno coloque logo depois da lista de parâmetros o símbolo \"->\" e o tipo de dado seguido por dois pontos(:)."
      ]
    },
    {
      "cell_type": "code",
      "metadata": {
        "colab": {
          "base_uri": "https://localhost:8080/"
        },
        "id": "ryr97DigPXe3",
        "outputId": "451d7981-ada8-4e9f-ffb2-6510f2f6c35f"
      },
      "source": [
        "# Declara a função\n",
        "def soma(num1 : int, num2 : int) -> int:\n",
        "    total = 0 \n",
        "    total = num1 + num2        \n",
        "    return total\n",
        "\n",
        "resultado = soma(10,20)\n",
        "\n",
        "# Utiliza a função\n",
        "print(resultado)"
      ],
      "execution_count": 100,
      "outputs": [
        {
          "output_type": "stream",
          "text": [
            "30\n"
          ],
          "name": "stdout"
        }
      ]
    },
    {
      "cell_type": "markdown",
      "metadata": {
        "id": "1gAMw42-hBzo"
      },
      "source": [
        "# Aritmética Binária"
      ]
    },
    {
      "cell_type": "markdown",
      "metadata": {
        "id": "wLOtQoPpcxEK"
      },
      "source": [
        "## Operações bit-a-bit\n",
        "\n",
        "Operadores bitwise são utilizados quando precisamos realizar operações na representação binária de números inteiros. Caso ambos os operandos sejam strings, esses operadores irão trabalhar com os valores ASCII de seus caracteres\n",
        "\n",
        "- Deslocamento para esquerda ( << ).\n",
        "- Deslocamento para direita ( >> ).\n",
        "- Inversão ( ~ )."
      ]
    },
    {
      "cell_type": "code",
      "metadata": {
        "colab": {
          "base_uri": "https://localhost:8080/"
        },
        "id": "1S-iISGKczfT",
        "outputId": "28e23349-1061-4131-ed35-36dfa9a7221e"
      },
      "source": [
        "a = 42  # 0b101010 em binário\n",
        "b = -42 #-0b101010 em binário\n",
        "\n",
        "print(\"Valores iniciais\")\n",
        "print(\"a = \", bin(a) , \" -> \", a)\n",
        "print(\"b = \", bin(b) ,\" -> \",  b)\n",
        "print(\"ou\")\n",
        "print(\"a = \", \"{0:b}\".format(a) , \" -> \", a)\n",
        "print(\"b = \", \"{0:b}\".format(b) ,\" -> \",  b)\n",
        "\n",
        "print(\"\")\n",
        "print(\"Deslocamento para a esquerda preenchendo com zero\")\n",
        "lefta1 = a << 1\n",
        "lefta2 = a << 2\n",
        "print(\"a << 1 = \", bin(lefta1), \" -> \", lefta1)\n",
        "print(\"a << 2 = \", bin(lefta2), \" -> \", lefta2)\n",
        "\n",
        "print(\"\")\n",
        "print(\"Deslocamento para a esquerda preenchendo com zero\")\n",
        "leftb1 = b << 1\n",
        "leftb2 = b << 2\n",
        "print(\"b << 1 = \", bin(leftb1), \" -> \", leftb1)\n",
        "print(\"b << 2 = \", bin(leftb2), \" -> \", leftb2)\n",
        "\n",
        "print(\"\")\n",
        "print(\"Deslocamento para direita preenchedo com o bit do sinal\")\n",
        "righta1 = a >> 1\n",
        "righta2 = a >> 2\n",
        "print(\"a >> 1 = \", bin(righta1), \" -> \", righta1)\n",
        "print(\"a >> 2 = \", bin(righta2), \" -> \", righta2)        \n",
        "\n",
        "print(\"\")\n",
        "print(\"Deslocamento para direita preenchedo com o bit do sinal\")\n",
        "rightb1 = b >> 1\n",
        "rightb2 = b >> 2\n",
        "print(\"b >> 1 = \", bin(rightb1), \" -> \", rightb1)\n",
        "print(\"b >> 2 = \", bin(rightb2), \" -> \", rightb2)\n",
        "\n",
        "print(\"\")\n",
        "print(\"Inversão (~) (Bitwise NOT)\")\n",
        "ainvertido = ~a\n",
        "binvertido = ~b\n",
        "print(\"a >> ~a = \", bin(ainvertido), \" -> \", ainvertido)\n",
        "print(\"b >> ~b = \", bin(binvertido), \" -> \", binvertido)"
      ],
      "execution_count": 101,
      "outputs": [
        {
          "output_type": "stream",
          "text": [
            "Valores iniciais\n",
            "a =  0b101010  ->  42\n",
            "b =  -0b101010  ->  -42\n",
            "ou\n",
            "a =  101010  ->  42\n",
            "b =  -101010  ->  -42\n",
            "\n",
            "Deslocamento para a esquerda preenchendo com zero\n",
            "a << 1 =  0b1010100  ->  84\n",
            "a << 2 =  0b10101000  ->  168\n",
            "\n",
            "Deslocamento para a esquerda preenchendo com zero\n",
            "b << 1 =  -0b1010100  ->  -84\n",
            "b << 2 =  -0b10101000  ->  -168\n",
            "\n",
            "Deslocamento para direita preenchedo com o bit do sinal\n",
            "a >> 1 =  0b10101  ->  21\n",
            "a >> 2 =  0b1010  ->  10\n",
            "\n",
            "Deslocamento para direita preenchedo com o bit do sinal\n",
            "b >> 1 =  -0b10101  ->  -21\n",
            "b >> 2 =  -0b1011  ->  -11\n",
            "\n",
            "Inversão (~) (Bitwise NOT)\n",
            "a >> ~a =  -0b101011  ->  -43\n",
            "b >> ~b =  0b101001  ->  41\n"
          ],
          "name": "stdout"
        }
      ]
    },
    {
      "cell_type": "markdown",
      "metadata": {
        "id": "iw_D1d3uhns5"
      },
      "source": [
        "## Operador E bit-a-bit (&)\n",
        "\n",
        "Compara dois valores utilizando suas representações binárias e retorna um novo valor, para formar esse valor de retorno, cada bit é comparado, retornando 1(True) quando ambos os bits forem iguais a 1(True), caso contrário retorna 0 (False)."
      ]
    },
    {
      "cell_type": "code",
      "metadata": {
        "colab": {
          "base_uri": "https://localhost:8080/"
        },
        "id": "Vzq99GRwhn5q",
        "outputId": "9939404a-2c10-45dc-c1f7-2b415637282d"
      },
      "source": [
        "print(\"Operador e (&)\")\n",
        "a = 5 \n",
        "b = 3 \n",
        "\n",
        "c = a | b\n",
        "\n",
        "print(\"a = \", bin(a), \" -> \", a)\n",
        "print(\"b = \", bin(b), \" -> \", b)\n",
        "print(\"c = \", bin(c), \" -> \", c)"
      ],
      "execution_count": 102,
      "outputs": [
        {
          "output_type": "stream",
          "text": [
            "Operador e (&)\n",
            "a =  0b101  ->  5\n",
            "b =  0b11  ->  3\n",
            "c =  0b111  ->  7\n"
          ],
          "name": "stdout"
        }
      ]
    },
    {
      "cell_type": "markdown",
      "metadata": {
        "id": "HUkrySKThohx"
      },
      "source": [
        "## Operador Ou bit-a-bit (|)\n",
        "\n",
        "Compara dois valores utilizando suas representações binárias e retorna um novo valor, para formar esse valor de retorno, cada bit é comparado, retornando 1(True) se um dos bits comparados forem iguais a 1(True, caso contrário retorna 0 (False)."
      ]
    },
    {
      "cell_type": "code",
      "metadata": {
        "colab": {
          "base_uri": "https://localhost:8080/"
        },
        "id": "HLxO_7oKhosm",
        "outputId": "7c2d4f72-19ff-459e-9bf6-98f3b40f1197"
      },
      "source": [
        "print(\"Operador ou (|)\")\n",
        "a = 5 \n",
        "b = 3 \n",
        "\n",
        "c = a & b\n",
        "\n",
        "print(\"a = \", bin(a), \" -> \", a)\n",
        "print(\"b = \", bin(b), \" -> \", b)\n",
        "print(\"c = \", bin(c), \" -> \", c)"
      ],
      "execution_count": 103,
      "outputs": [
        {
          "output_type": "stream",
          "text": [
            "Operador ou (|)\n",
            "a =  0b101  ->  5\n",
            "b =  0b11  ->  3\n",
            "c =  0b1  ->  1\n"
          ],
          "name": "stdout"
        }
      ]
    },
    {
      "cell_type": "markdown",
      "metadata": {
        "id": "PKn1_F0Ch5RR"
      },
      "source": [
        "## Operador Ou exclusivo bit-a-bit (^) (Bitwise XOR)\n",
        "\n",
        "Compara dois valores utilizando suas representações binárias e retorna um novo valor, para formar esse valor de retorno, cada bit é comparado, retornando 1(True) quando os bits comparados forem diferentes, caso contrário retorna 0 (False)."
      ]
    },
    {
      "cell_type": "code",
      "metadata": {
        "colab": {
          "base_uri": "https://localhost:8080/"
        },
        "id": "hsTw6TCKh5b8",
        "outputId": "7319fb93-acb1-4133-ce3f-92c027021076"
      },
      "source": [
        "print(\"Operador ou exclusivo (^)\")\n",
        "a = 5 \n",
        "b = 3 \n",
        "\n",
        "c = a ^ b\n",
        "\n",
        "print(\"a = \", bin(a), \" -> \", a)\n",
        "print(\"b = \", bin(b), \" -> \", b)\n",
        "print(\"c = \", bin(c), \" -> \", c)"
      ],
      "execution_count": 104,
      "outputs": [
        {
          "output_type": "stream",
          "text": [
            "Operador ou exclusivo (^)\n",
            "a =  0b101  ->  5\n",
            "b =  0b11  ->  3\n",
            "c =  0b110  ->  6\n"
          ],
          "name": "stdout"
        }
      ]
    },
    {
      "cell_type": "markdown",
      "metadata": {
        "id": "hq5BfazeHGJn"
      },
      "source": [
        "# Mensagem de Progresso"
      ]
    },
    {
      "cell_type": "markdown",
      "metadata": {
        "id": "QjI0bn4LHUM9"
      },
      "source": [
        "## Exemplo mensagem de um nível com lista"
      ]
    },
    {
      "cell_type": "code",
      "metadata": {
        "colab": {
          "base_uri": "https://localhost:8080/"
        },
        "id": "qPf0rRa4HUM-",
        "outputId": "68c43cc6-f0c5-4459-fe23-9e038859e912"
      },
      "source": [
        "# Import da biblioteca\n",
        "from IPython.display import clear_output\n",
        "\n",
        "lista = []\n",
        "\n",
        "qtde = 1000\n",
        "\n",
        "for x in range(qtde):\n",
        "    lista.append(x**x)\n",
        "\n",
        "    clear_output(wait=True)\n",
        "    print(\"Teste: \", x + 1, \"/\", qtde)"
      ],
      "execution_count": 105,
      "outputs": [
        {
          "output_type": "stream",
          "text": [
            "Teste:  1000 / 1000\n"
          ],
          "name": "stdout"
        }
      ]
    },
    {
      "cell_type": "markdown",
      "metadata": {
        "id": "RUTFXBBuIUVN"
      },
      "source": [
        "## Exemplo mensagem com 2 níveis com lista"
      ]
    },
    {
      "cell_type": "code",
      "metadata": {
        "colab": {
          "base_uri": "https://localhost:8080/"
        },
        "id": "9qPsM1_6IUVN",
        "outputId": "580e07e3-36b4-441e-c771-80157764bf48"
      },
      "source": [
        "# Import da biblioteca\n",
        "from IPython.display import clear_output\n",
        "from time import sleep\n",
        "\n",
        "qtde1 = 5\n",
        "qtde2 = 100\n",
        "\n",
        "for x in range(qtde1):\n",
        "    for y in range(qtde2):\n",
        "        # Retarda o laço em 0.01 segundos\n",
        "        sleep(0.02)\n",
        "\n",
        "        clear_output(wait=True)\n",
        "        print(\"Teste: \", x + 1, \"/\", qtde1, \" de \", y + 1, \"/\", qtde2)                "
      ],
      "execution_count": 106,
      "outputs": [
        {
          "output_type": "stream",
          "text": [
            "Teste:  5 / 5  de  100 / 100\n"
          ],
          "name": "stdout"
        }
      ]
    },
    {
      "cell_type": "markdown",
      "metadata": {
        "id": "U3fqY5AqX1tN"
      },
      "source": [
        "# Barra de Progresso\n",
        "\n",
        "O tdqm é um pacote que posibilita criar barra de progressos e estimar o tempo para funções e laços.\n",
        "\n",
        "https://github.com/tqdm/tqdm\n",
        "\n",
        "Em um laço itere sobre `tqdm` ou `tqdm_notebook`(caso esteja executando um Notebook)."
      ]
    },
    {
      "cell_type": "markdown",
      "metadata": {
        "id": "7F8jtwpZYLkA"
      },
      "source": [
        "## Exemplo barra de um nível com lista"
      ]
    },
    {
      "cell_type": "code",
      "metadata": {
        "colab": {
          "base_uri": "https://localhost:8080/",
          "height": 66,
          "referenced_widgets": [
            "e77a9cb6861e4910ad814490297d27c4",
            "aedd86e53db344e981d4c4534361e01f",
            "6e16b586f96a44ef981bfedb7fc62c13",
            "0f0b892201024a168577e3f714cf1248",
            "04f9d44ef273472e866860948f875ab6",
            "1f0db9049a8a4880b80005944e565d38",
            "91c3d998d3784557b8e14338eb9d4ad9",
            "89c321cba10348fa9e900fed65807459"
          ]
        },
        "id": "sTAX64dHX0qm",
        "outputId": "c224d41b-2c87-4837-b302-c1a0c1b47456"
      },
      "source": [
        "# Import da biblioteca\n",
        "from tqdm.notebook import tqdm\n",
        "\n",
        "QTDE = 10000\n",
        "\n",
        "lista = []\n",
        "\n",
        "for x in tqdm(range(QTDE)):\n",
        "    lista.append(x**x)"
      ],
      "execution_count": 107,
      "outputs": [
        {
          "output_type": "display_data",
          "data": {
            "application/vnd.jupyter.widget-view+json": {
              "model_id": "e77a9cb6861e4910ad814490297d27c4",
              "version_minor": 0,
              "version_major": 2
            },
            "text/plain": [
              "HBox(children=(FloatProgress(value=0.0, max=10000.0), HTML(value='')))"
            ]
          },
          "metadata": {
            "tags": []
          }
        },
        {
          "output_type": "stream",
          "text": [
            "\n"
          ],
          "name": "stdout"
        }
      ]
    },
    {
      "cell_type": "markdown",
      "metadata": {
        "id": "Yh2b79LTobBm"
      },
      "source": [
        "Usando trange"
      ]
    },
    {
      "cell_type": "code",
      "metadata": {
        "colab": {
          "base_uri": "https://localhost:8080/",
          "height": 66,
          "referenced_widgets": [
            "1ac4c0fe31d044be9b0acf973e2825aa",
            "1092a02601074bbd8e1da77ecc973e89",
            "3639825ef05644d2b576e2feef90966e",
            "10817f12076f485d8a7861c4896214ef",
            "7ed257a9a6f14e66863034620b7371c0",
            "f518c57f3397436e88e46e44038e43c0",
            "473c47946b8344b98b12b894d55ebbf7",
            "31155e48bb214cd1aa8e01c40b3beb8d"
          ]
        },
        "id": "fCp3dwH6oTrq",
        "outputId": "32a58414-a08e-4a93-f9f9-46d4c16f4686"
      },
      "source": [
        "# Import da biblioteca\n",
        "from tqdm.notebook import trange\n",
        "\n",
        "QTDE = 10000\n",
        "\n",
        "lista = []\n",
        "\n",
        "for x in trange(QTDE):\n",
        "    lista.append(x**x)"
      ],
      "execution_count": 108,
      "outputs": [
        {
          "output_type": "display_data",
          "data": {
            "application/vnd.jupyter.widget-view+json": {
              "model_id": "1ac4c0fe31d044be9b0acf973e2825aa",
              "version_minor": 0,
              "version_major": 2
            },
            "text/plain": [
              "HBox(children=(FloatProgress(value=0.0, max=10000.0), HTML(value='')))"
            ]
          },
          "metadata": {
            "tags": []
          }
        },
        {
          "output_type": "stream",
          "text": [
            "\n"
          ],
          "name": "stdout"
        }
      ]
    },
    {
      "cell_type": "markdown",
      "metadata": {
        "id": "X_GDSzZunI6B"
      },
      "source": [
        "Adicionando detalhes a barra de progresso"
      ]
    },
    {
      "cell_type": "code",
      "metadata": {
        "colab": {
          "base_uri": "https://localhost:8080/",
          "height": 66,
          "referenced_widgets": [
            "6cfb48c306b84759a75fdace661deff5",
            "67035668626e4bdaa85912b10c70ff31",
            "98520dee45ef4faf8c8f802a23c0e72b",
            "db616423bc084185bc2bb31f084b7ed1",
            "4a9909349e324064b9f03182a520bbef",
            "ee79841201614f7ba45fa991e108f0f5",
            "fc06047c092f4c34b3f869d3c6c2d980",
            "be1daa7839de4709b2c5dca430f0243e"
          ]
        },
        "id": "kOkWyRyWm0Sl",
        "outputId": "2617f958-261b-4cae-d4d7-78366f3a689c"
      },
      "source": [
        "# Import da biblioteca\n",
        "from tqdm.notebook import tqdm\n",
        "\n",
        "QTDE = 10000\n",
        "\n",
        "lista = []\n",
        "\n",
        "for x in tqdm(range(QTDE), desc=f'Contando', unit=f'vezes', total=QTDE):\n",
        "    lista.append(x**x)"
      ],
      "execution_count": 109,
      "outputs": [
        {
          "output_type": "display_data",
          "data": {
            "application/vnd.jupyter.widget-view+json": {
              "model_id": "6cfb48c306b84759a75fdace661deff5",
              "version_minor": 0,
              "version_major": 2
            },
            "text/plain": [
              "HBox(children=(FloatProgress(value=0.0, description='Contando', max=10000.0, style=ProgressStyle(description_w…"
            ]
          },
          "metadata": {
            "tags": []
          }
        },
        {
          "output_type": "stream",
          "text": [
            "\n"
          ],
          "name": "stdout"
        }
      ]
    },
    {
      "cell_type": "markdown",
      "metadata": {
        "id": "Dvsc1uEjz9HL"
      },
      "source": [
        "Atualizando a barra de progresso."
      ]
    },
    {
      "cell_type": "code",
      "metadata": {
        "colab": {
          "base_uri": "https://localhost:8080/",
          "height": 66,
          "referenced_widgets": [
            "3a892d55d5014451999da58bd1583d51",
            "cf41c52677a049edb6bbba02d22e55bf",
            "9ab4829504fe4590adac102c528ab7da",
            "e4804ea2c7954f0083a20e1b505af871",
            "30983620b9804e85a341fef892ed99ee",
            "9e397408d57d4f85b5bf5c9b7d2e97cb",
            "bd5cd1d698954839a27c7412d8fba925",
            "fb2164c9e40b4bec9d6740716802ef43"
          ]
        },
        "id": "RJIMZab4ojDA",
        "outputId": "2d15588c-d76f-41b9-e20f-4bc8b29cabce"
      },
      "source": [
        "# Import da biblioteca\n",
        "from tqdm.notebook import tqdm\n",
        "\n",
        "QTDE = 1000\n",
        "\n",
        "lista = []\n",
        "\n",
        "barra_progresso = tqdm(range(QTDE), desc=f'Contando', unit=f'vezes', total=QTDE)\n",
        "\n",
        "for x in barra_progresso:\n",
        "    lista.append(x**x)\n",
        "    \n",
        "    # Mostra detalhes na barra de progresso \n",
        "    barra_progresso.set_postfix(tamanho=len(lista))"
      ],
      "execution_count": 110,
      "outputs": [
        {
          "output_type": "display_data",
          "data": {
            "application/vnd.jupyter.widget-view+json": {
              "model_id": "3a892d55d5014451999da58bd1583d51",
              "version_minor": 0,
              "version_major": 2
            },
            "text/plain": [
              "HBox(children=(FloatProgress(value=0.0, description='Contando', max=1000.0, style=ProgressStyle(description_wi…"
            ]
          },
          "metadata": {
            "tags": []
          }
        },
        {
          "output_type": "stream",
          "text": [
            "\n"
          ],
          "name": "stdout"
        }
      ]
    },
    {
      "cell_type": "markdown",
      "metadata": {
        "id": "2nhj0MdnYZW8"
      },
      "source": [
        "## Exemplo barras com 2 níveis com lista"
      ]
    },
    {
      "cell_type": "code",
      "metadata": {
        "id": "Ec5ekCupYZW9",
        "colab": {
          "base_uri": "https://localhost:8080/",
          "height": 66,
          "referenced_widgets": [
            "155b8313c21f4b2c86918c88c137ddef",
            "259545d0a5ca4715a286aee95de187d6",
            "d534bf94598242c5990b5f52c02d0630",
            "885641e5c1ae4ae2baf705c6277b4a45",
            "5e2f9bde91324c14a2e5d9c6686b9341",
            "180c3f5c46024bb8aa0e66c00c0fdefe",
            "2d1caa7a022c4268a00372ae64eb6b14",
            "6073cbb29bfb489ea9e68a52f49b79af",
            "689b57de51b54d69860d6f7659ff46f6",
            "6c63ab6ce47a44ee9202f6a2cb60525e",
            "418d673c12764ddd829e1f4058257960",
            "a0d7d5e306e3410e8cfc6e697e0c4414",
            "5c4af51aba1f40538f82d205f0fae416",
            "1737d56454724db8bf973e5f9ab0473b",
            "9586b99ba20743539aed2090b4bf44a8",
            "9b708c683ee640eca179cf661235acb7",
            "7da2240f65104c3f8fd7f033b1a39af1",
            "849ed19ec66c4824b1fda9c1050fc09d",
            "1d6927f81e9943d8841e0dc394daf8ac",
            "fe656a2daec34be3866eb354393156d0",
            "e0d9774d0a474a2fbd138b3756f4bcc2",
            "2a2db23b0cc543318f5c3fea639a4533",
            "c88e358e9fb348cea57e8ba86994d4f6",
            "251f8835f5344ef09fbcf5bdb4a8f571",
            "5aef7c85dc64454b8e094d29830955d6",
            "05b1d104bada44e7bf8d0762d0c33d89",
            "be58c93685654b3eaf642026540471f0",
            "ff872c1a26c0492a9c26b7af9ca4f2e0",
            "169aba7b5e3045618330ff793bffe32c",
            "d602bb121fc94b7aa52f2f286daf6692",
            "72beb1b7fafc4c21969b68861a071979",
            "0ede4f58523f44639655ee5b48f39462",
            "b5cc4afa661f463394b8f0e47504f4bd",
            "3ba2d3a662d34f409fc0252327577542",
            "14009942485849908a50e68bbbff3970",
            "9d9646ad78b54eefaaba316f5275b674",
            "fea3c5816e1945b197523d3332998d8f",
            "391011fe912d427c993142eab40d84f6",
            "3eb2133ed45b4b369cf13c68642a45e9",
            "a3454470ff1e42e3af90667f106d7b81",
            "0c11e86df8a44ba28f17509e3820bf97",
            "daa3e94831634210b79ea4abd95293dd",
            "643cdd407bfc4172bd04933563f153b7",
            "1eb7bbfca47941eab5e229d7ace4094a",
            "0eefbf8e88284251a9237c7806be4e7b",
            "1e49724ed0664ff1a9a8179cb7bc1b7b",
            "8be1a2c1edeb496593de5c70bed47a9c",
            "30f86c3fe1cb46fdac6d12789d9926bc"
          ]
        },
        "outputId": "895bbefc-f428-44e5-d70c-3433e4bca999"
      },
      "source": [
        "# Import da biblioteca\n",
        "from tqdm.notebook import tqdm\n",
        "from time import sleep\n",
        "\n",
        "for x in tqdm(range(5), desc=f'1o Laço'):\n",
        "    for y in tqdm(range(100), desc=f'2o Laço', leave=False):\n",
        "        # Retarda o laço em 0.01 segundos\n",
        "        sleep(0.02)"
      ],
      "execution_count": 111,
      "outputs": [
        {
          "output_type": "display_data",
          "data": {
            "application/vnd.jupyter.widget-view+json": {
              "model_id": "155b8313c21f4b2c86918c88c137ddef",
              "version_minor": 0,
              "version_major": 2
            },
            "text/plain": [
              "HBox(children=(FloatProgress(value=0.0, description='1o Laço', max=5.0, style=ProgressStyle(description_width=…"
            ]
          },
          "metadata": {
            "tags": []
          }
        },
        {
          "output_type": "display_data",
          "data": {
            "application/vnd.jupyter.widget-view+json": {
              "model_id": "689b57de51b54d69860d6f7659ff46f6",
              "version_minor": 0,
              "version_major": 2
            },
            "text/plain": [
              "HBox(children=(FloatProgress(value=0.0, description='2o Laço', style=ProgressStyle(description_width='initial'…"
            ]
          },
          "metadata": {
            "tags": []
          }
        },
        {
          "output_type": "display_data",
          "data": {
            "application/vnd.jupyter.widget-view+json": {
              "model_id": "7da2240f65104c3f8fd7f033b1a39af1",
              "version_minor": 0,
              "version_major": 2
            },
            "text/plain": [
              "HBox(children=(FloatProgress(value=0.0, description='2o Laço', style=ProgressStyle(description_width='initial'…"
            ]
          },
          "metadata": {
            "tags": []
          }
        },
        {
          "output_type": "display_data",
          "data": {
            "application/vnd.jupyter.widget-view+json": {
              "model_id": "5aef7c85dc64454b8e094d29830955d6",
              "version_minor": 0,
              "version_major": 2
            },
            "text/plain": [
              "HBox(children=(FloatProgress(value=0.0, description='2o Laço', style=ProgressStyle(description_width='initial'…"
            ]
          },
          "metadata": {
            "tags": []
          }
        },
        {
          "output_type": "display_data",
          "data": {
            "application/vnd.jupyter.widget-view+json": {
              "model_id": "b5cc4afa661f463394b8f0e47504f4bd",
              "version_minor": 0,
              "version_major": 2
            },
            "text/plain": [
              "HBox(children=(FloatProgress(value=0.0, description='2o Laço', style=ProgressStyle(description_width='initial'…"
            ]
          },
          "metadata": {
            "tags": []
          }
        },
        {
          "output_type": "display_data",
          "data": {
            "application/vnd.jupyter.widget-view+json": {
              "model_id": "0c11e86df8a44ba28f17509e3820bf97",
              "version_minor": 0,
              "version_major": 2
            },
            "text/plain": [
              "HBox(children=(FloatProgress(value=0.0, description='2o Laço', style=ProgressStyle(description_width='initial'…"
            ]
          },
          "metadata": {
            "tags": []
          }
        },
        {
          "output_type": "stream",
          "text": [
            "\n"
          ],
          "name": "stdout"
        }
      ]
    },
    {
      "cell_type": "markdown",
      "metadata": {
        "id": "40_b4jIFf9kP"
      },
      "source": [
        "## Exemplo barras com pandas"
      ]
    },
    {
      "cell_type": "code",
      "metadata": {
        "colab": {
          "base_uri": "https://localhost:8080/",
          "height": 321,
          "referenced_widgets": [
            "d1d1cb989c3f40c4af22d6c0ba6aad99",
            "f090fd0bf4f5403eb787d23c60f90504",
            "b205048dab4e4a9595b5c88c9624ebd8",
            "9ca15cd7ccb64966ad218d92e3b2bbd4",
            "f6b4cb74af1444afb53fc399a7564db6",
            "b24c061bd4024970b060f53adca73093",
            "9916fb8deda847a3a2cee02661b7e6b6",
            "4c4afbea621540bd967dde14b5e68517"
          ]
        },
        "id": "xz59Og8_f9kQ",
        "outputId": "bc59f208-2f63-4794-ab12-d3f7f6e2bd9d"
      },
      "source": [
        "# Import da biblioteca\n",
        "from tqdm.notebook import tqdm\n",
        "from time import sleep\n",
        "import pandas as pd\n",
        "\n",
        "# Lista utilizada \n",
        "lista = [[1, 'Joao'],\n",
        "         [2, 'Maria'],\n",
        "         [3, 'Pedro'],\n",
        "         [4, 'Luiz'],\n",
        "         [5, 'José']]\n",
        "\n",
        "# Converte em um dataframe\n",
        "dfdados = pd.DataFrame(lista, columns=('codigo', 'nome')) \n",
        "\n",
        "for index, linha in tqdm(dfdados.iterrows(), desc=f'Clientes', unit=f'cliente', total=dfdados.shape[0]):\n",
        "   # Retarda o laço em 0.01 segundos\n",
        "   sleep(1)\n",
        "   # Mostra os dados\n",
        "   print(index, linha)"
      ],
      "execution_count": 112,
      "outputs": [
        {
          "output_type": "display_data",
          "data": {
            "application/vnd.jupyter.widget-view+json": {
              "model_id": "d1d1cb989c3f40c4af22d6c0ba6aad99",
              "version_minor": 0,
              "version_major": 2
            },
            "text/plain": [
              "HBox(children=(FloatProgress(value=0.0, description='Clientes', max=5.0, style=ProgressStyle(description_width…"
            ]
          },
          "metadata": {
            "tags": []
          }
        },
        {
          "output_type": "stream",
          "text": [
            "0 codigo       1\n",
            "nome      Joao\n",
            "Name: 0, dtype: object\n",
            "1 codigo        2\n",
            "nome      Maria\n",
            "Name: 1, dtype: object\n",
            "2 codigo        3\n",
            "nome      Pedro\n",
            "Name: 2, dtype: object\n",
            "3 codigo       4\n",
            "nome      Luiz\n",
            "Name: 3, dtype: object\n",
            "4 codigo       5\n",
            "nome      José\n",
            "Name: 4, dtype: object\n",
            "\n"
          ],
          "name": "stdout"
        }
      ]
    },
    {
      "cell_type": "markdown",
      "metadata": {
        "id": "A8bamUWrJG3j"
      },
      "source": [
        "# Funções de tempo."
      ]
    },
    {
      "cell_type": "markdown",
      "metadata": {
        "id": "Mw8KyNOJJLwf"
      },
      "source": [
        "## Soma de tempo\n",
        "\n",
        "Calcula a soma de uma lista de tempo string no formato hh:mm:ss"
      ]
    },
    {
      "cell_type": "code",
      "metadata": {
        "id": "V4gekVLwJIcD"
      },
      "source": [
        "def somaTempo(tempos):\n",
        "    '''\n",
        "    Calcula a soma de uma lista de tempo string no formato hh:mm:ss\n",
        "    '''\n",
        "    t = (tempo.split(':') for tempo in tempos)\n",
        "    # Converte para segundos\n",
        "    segundos = ((float(s) + int(m) * 60 + int(h) * 3600) for h, m, s in t)\n",
        "    # Soma os segundos\n",
        "    soma_segundos = sum([s * 1. for s in segundos])\n",
        "    # Recupera as horas e os minutos   \n",
        "    h, m = divmod(soma_segundos, 3600)\n",
        "    # Recupera os minutos e os segundos\n",
        "    m, s = divmod(m, 60)    \n",
        "    return '{:02d}:{:02d}:{:02d}'.format(int(h), int(m), int(s))"
      ],
      "execution_count": 113,
      "outputs": []
    },
    {
      "cell_type": "code",
      "metadata": {
        "colab": {
          "base_uri": "https://localhost:8080/"
        },
        "id": "DX_9PW3rJTC8",
        "outputId": "c5a28453-7045-4bb6-c0fc-538fdf82c14b"
      },
      "source": [
        "listaTempo = []\n",
        "\n",
        "listaTempo.append('1:10:00')\n",
        "listaTempo.append('1:15:00')\n",
        "\n",
        "print(somaTempo(listaTempo))"
      ],
      "execution_count": 114,
      "outputs": [
        {
          "output_type": "stream",
          "text": [
            "02:25:00\n"
          ],
          "name": "stdout"
        }
      ]
    },
    {
      "cell_type": "markdown",
      "metadata": {
        "id": "VQuuyq8-JkdK"
      },
      "source": [
        "## Média de tempo\n",
        "\n",
        "Calcula a média de uma lista de tempo string no formato hh:mm:ss"
      ]
    },
    {
      "cell_type": "code",
      "metadata": {
        "id": "XfCOca1uJkdZ"
      },
      "source": [
        "# Import das bibliotecas.\n",
        "from cmath import rect, phase\n",
        "from math import radians, degrees\n",
        "  \n",
        "def mediaAngulo(deg):\n",
        "    return degrees(phase(sum(rect(1, radians(d)) for d in deg)/len(deg)))\n",
        " \n",
        "def mediaTempo(tempos):\n",
        "    '''\n",
        "    Calcula a média de uma lista de tempo string no formato hh:mm:ss\n",
        "    '''\n",
        "    t = (tempo.split(':') for tempo in tempos)\n",
        "    # Converte para segundos\n",
        "    segundos = ((float(s) + int(m) * 60 + int(h) * 3600) for h, m, s in t)\n",
        "    # Verifica se deu algum dia\n",
        "    dia = 24 * 60 * 60\n",
        "    # Converte para angulos\n",
        "    paraAngulos = [s * 360. / dia for s in segundos]\n",
        "    # Calcula a média dos angulos\n",
        "    mediaComoAngulo = mediaAngulo(paraAngulos)\n",
        "    media_segundos = mediaComoAngulo * dia / 360.\n",
        "    if media_segundos < 0:\n",
        "        media_segundos += dia\n",
        "    # Recupera as horas e os minutos  \n",
        "    h, m = divmod(media_segundos, 3600)\n",
        "    # Recupera os minutos e os segundos\n",
        "    m, s = divmod(m, 60)    \n",
        "    return '{:02d}:{:02d}:{:02d}'.format(int(h), int(m), int(s))"
      ],
      "execution_count": 115,
      "outputs": []
    },
    {
      "cell_type": "code",
      "metadata": {
        "colab": {
          "base_uri": "https://localhost:8080/"
        },
        "id": "70LONLkuJkda",
        "outputId": "bf44812f-33f1-457c-bf56-d8ef221ba898"
      },
      "source": [
        "listaTempo = []\n",
        "\n",
        "listaTempo.append('1:30:00')\n",
        "listaTempo.append('1:45:00')\n",
        "\n",
        "print(mediaTempo(listaTempo))"
      ],
      "execution_count": 116,
      "outputs": [
        {
          "output_type": "stream",
          "text": [
            "01:37:30\n"
          ],
          "name": "stdout"
        }
      ]
    },
    {
      "cell_type": "markdown",
      "metadata": {
        "id": "6BeOki83y6pL"
      },
      "source": [
        "# Roleta"
      ]
    },
    {
      "cell_type": "markdown",
      "metadata": {
        "id": "2EOMFMyiy_BA"
      },
      "source": [
        "## Roleta **com** repetição do element sorteado\n",
        "\n",
        "Um elemento pode ser sorteado mais de uma vez."
      ]
    },
    {
      "cell_type": "code",
      "metadata": {
        "colab": {
          "base_uri": "https://localhost:8080/"
        },
        "id": "VIEFvfXozD9F",
        "outputId": "f57472ab-3ec6-4b2e-a964-f816120a818a"
      },
      "source": [
        "# Import das bibliotecas\n",
        "from random import randint\n",
        "\n",
        "# Lista dos elementos a serem sorteados\n",
        "lista = ['João','Maria','Pedro','Jose','André','Fernando']\n",
        "\n",
        "for i in range(len(lista)):\n",
        "  # Sorteio de um número da roleta\n",
        "  sorteio = randint(1,len(lista))\n",
        "\n",
        "  # Os índices da lista começam em 0, portanto se desconta 1\n",
        "  sorteio = sorteio -1\n",
        "      \n",
        "  # Recupera a frase sorteada\n",
        "  texto_sorteado = lista[sorteio]\n",
        "       \n",
        "  # Mostra o elemento sorteado\n",
        "  print(i,\"-\",texto_sorteado)"
      ],
      "execution_count": 117,
      "outputs": [
        {
          "output_type": "stream",
          "text": [
            "0 - Fernando\n",
            "1 - Maria\n",
            "2 - Jose\n",
            "3 - Jose\n",
            "4 - Fernando\n",
            "5 - Pedro\n"
          ],
          "name": "stdout"
        }
      ]
    },
    {
      "cell_type": "markdown",
      "metadata": {
        "id": "-h5_tg7mzEJc"
      },
      "source": [
        "## Roleta **sem** repetição dos números sorteados\n",
        "\n",
        "Um elemento só pode ser sorteado uma vez."
      ]
    },
    {
      "cell_type": "code",
      "metadata": {
        "colab": {
          "base_uri": "https://localhost:8080/"
        },
        "id": "rX9MAf4qzIbs",
        "outputId": "78760cee-6a4b-44b3-a78c-c6a5483851a8"
      },
      "source": [
        "# Import das bibliotecas\n",
        "from random import randint\n",
        "\n",
        "# Lista dos elementos a serem sorteados\n",
        "lista = ['João','Maria','Pedro','Jose','André','Fernando']\n",
        "\n",
        "for i in range(len(lista)):\n",
        "  # Sorteio de um número da roleta\n",
        "  sorteio = randint(1,len(lista))\n",
        "\n",
        "  # Os índices da lista começam em 0, portanto se desconta 1\n",
        "  sorteio = sorteio -1\n",
        "      \n",
        "  # Recupera o elemento sorteado\n",
        "  texto_sorteado = lista[sorteio]\n",
        "\n",
        "  # Remove a frase sorteada, para que a oração não seja mais sorteada\n",
        "  del lista[sorteio]\n",
        "        \n",
        "  # Mostra o elemento sorteado\n",
        "  print(i,\"-\",texto_sorteado)"
      ],
      "execution_count": 118,
      "outputs": [
        {
          "output_type": "stream",
          "text": [
            "0 - João\n",
            "1 - Jose\n",
            "2 - Fernando\n",
            "3 - Pedro\n",
            "4 - Maria\n",
            "5 - André\n"
          ],
          "name": "stdout"
        }
      ]
    },
    {
      "cell_type": "markdown",
      "metadata": {
        "id": "O4CF_vAclai-"
      },
      "source": [
        "# Comparando pares diferentes de 0\n",
        "\n",
        "Percorre o vetor de valores comparando pares sucessivos desde que o valor seja diferente 0."
      ]
    },
    {
      "cell_type": "code",
      "metadata": {
        "colab": {
          "base_uri": "https://localhost:8080/"
        },
        "id": "pE9e1_k9lavz",
        "outputId": "140c94e0-82d8-40a6-b0fb-10bbd8f647f2"
      },
      "source": [
        "# Lista dos valores\n",
        "valores = [1,0,1,1,0,1]\n",
        "n = len(valores)\n",
        "divisor = n - 1\n",
        "\n",
        "# Aculama a soma dos valores\n",
        "soma = 0\n",
        "\n",
        "# Indíces dos pares iniciais\n",
        "pos1 = 0\n",
        "pos2 = pos1 + 1\n",
        "\n",
        "#Enquanto o índice do 2o valor não chegou ao final da listta de valores\n",
        "while pos2 <= (n -1):\n",
        "\n",
        "  # Recupera os valores\n",
        "  val1 = valores[pos1]  \n",
        "  val2 = valores[pos2]\n",
        "\n",
        "  if val1 != 0 and val2 != 0:\n",
        "      print(\"Par:\", pos1, pos2, \" valores:\", val1, val2)      \n",
        "      soma = soma + (val1  + val2)\n",
        "      # avança para o próximo par\n",
        "      pos1 = pos2\n",
        "      pos2 = pos2 + 1\n",
        "  else:\n",
        "    divisor = divisor - 1\n",
        "    # Se pos1 igual a 0 avanca pos1 e pos2\n",
        "    if val1 == 0:\n",
        "        pos1 = pos2\n",
        "        pos2 = pos2 + 1        \n",
        "    else:\n",
        "      # Se pos2 = 0 avança pos2\n",
        "      if val2 == 0:\n",
        "        pos2 = pos2 + 1\n",
        "            \n",
        "# Calcula a média da comparação dos pares            \n",
        "print(\"soma:\",soma)\n",
        "if (divisor != 0):\n",
        "  print(\"media:\",soma/divisor)\n",
        "else:\n",
        "  print(\"media:\",0)"
      ],
      "execution_count": 119,
      "outputs": [
        {
          "output_type": "stream",
          "text": [
            "Par: 0 2  valores: 1 1\n",
            "Par: 2 3  valores: 1 1\n",
            "Par: 3 5  valores: 1 1\n",
            "soma: 6\n",
            "media: 2.0\n"
          ],
          "name": "stdout"
        }
      ]
    },
    {
      "cell_type": "markdown",
      "metadata": {
        "id": "opphp_nBzPO3"
      },
      "source": [
        "# Versão Python"
      ]
    },
    {
      "cell_type": "code",
      "metadata": {
        "colab": {
          "base_uri": "https://localhost:8080/"
        },
        "id": "A6cmlG0ezSI-",
        "outputId": "917f5a71-ab42-43f7-8823-9b2b69ea1eb5"
      },
      "source": [
        "!python --version"
      ],
      "execution_count": 120,
      "outputs": [
        {
          "output_type": "stream",
          "text": [
            "Python 3.7.10\n"
          ],
          "name": "stdout"
        }
      ]
    },
    {
      "cell_type": "markdown",
      "metadata": {
        "id": "BtMU-XVKJibN"
      },
      "source": [
        "# Previnir que a sessão seja desconectada\n",
        "\n",
        "\n",
        "https://medium.com/@shivamrawat_756/how-to-prevent-google-colab-from-disconnecting-717b88a128c0\n",
        "\n",
        "Pressione:\n",
        "```\n",
        "Ctrl+Shift+i\n",
        "```\n",
        "\n",
        "Insira o código abaixo no console e de enter:\n",
        "```\n",
        "função  ClickConnect () { \n",
        "console.log (\"Funcionando\"); \n",
        "document.querySelector (\"colab-toolbar-button\"). click () \n",
        "} setInterval (ClickConnect, 60000)\n",
        "```\n",
        "\n"
      ]
    },
    {
      "cell_type": "markdown",
      "metadata": {
        "id": "iGRe2RsijK84"
      },
      "source": [
        "# Formatar célula de texto\n",
        "\n",
        "https://ichi.pro/pt/folha-de-referencias-do-google-colab-109423812460691"
      ]
    }
  ]
}