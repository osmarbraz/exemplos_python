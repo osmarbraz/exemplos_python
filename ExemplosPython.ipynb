{
  "nbformat": 4,
  "nbformat_minor": 0,
  "metadata": {
    "colab": {
      "provenance": [],
      "toc_visible": true,
      "include_colab_link": true
    },
    "kernelspec": {
      "display_name": "Python 3",
      "name": "python3"
    },
    "widgets": {
      "application/vnd.jupyter.widget-state+json": {
        "04682e6e7cfe49d39336dbc209ac4bc5": {
          "model_module": "@jupyter-widgets/controls",
          "model_name": "HBoxModel",
          "model_module_version": "1.5.0",
          "state": {
            "_dom_classes": [],
            "_model_module": "@jupyter-widgets/controls",
            "_model_module_version": "1.5.0",
            "_model_name": "HBoxModel",
            "_view_count": null,
            "_view_module": "@jupyter-widgets/controls",
            "_view_module_version": "1.5.0",
            "_view_name": "HBoxView",
            "box_style": "",
            "children": [
              "IPY_MODEL_1949c714d69543cc9d93889bbc6778b6",
              "IPY_MODEL_44feff7fd8134c1eb899e829144d3a77",
              "IPY_MODEL_b596345b95394f61a2452b5d4186973e"
            ],
            "layout": "IPY_MODEL_3e6552b6e2104341ab460a9abf70a406"
          }
        },
        "1949c714d69543cc9d93889bbc6778b6": {
          "model_module": "@jupyter-widgets/controls",
          "model_name": "HTMLModel",
          "model_module_version": "1.5.0",
          "state": {
            "_dom_classes": [],
            "_model_module": "@jupyter-widgets/controls",
            "_model_module_version": "1.5.0",
            "_model_name": "HTMLModel",
            "_view_count": null,
            "_view_module": "@jupyter-widgets/controls",
            "_view_module_version": "1.5.0",
            "_view_name": "HTMLView",
            "description": "",
            "description_tooltip": null,
            "layout": "IPY_MODEL_b195374a702c457b81d2420442990a9b",
            "placeholder": "​",
            "style": "IPY_MODEL_88b5b8efcefe413f839839a3fe3a094e",
            "value": "100%"
          }
        },
        "44feff7fd8134c1eb899e829144d3a77": {
          "model_module": "@jupyter-widgets/controls",
          "model_name": "FloatProgressModel",
          "model_module_version": "1.5.0",
          "state": {
            "_dom_classes": [],
            "_model_module": "@jupyter-widgets/controls",
            "_model_module_version": "1.5.0",
            "_model_name": "FloatProgressModel",
            "_view_count": null,
            "_view_module": "@jupyter-widgets/controls",
            "_view_module_version": "1.5.0",
            "_view_name": "ProgressView",
            "bar_style": "success",
            "description": "",
            "description_tooltip": null,
            "layout": "IPY_MODEL_ce466ecd7c0345608463658e1d23d51b",
            "max": 10000,
            "min": 0,
            "orientation": "horizontal",
            "style": "IPY_MODEL_0377d0746f5f4ced9ed8062b2d03e6b5",
            "value": 10000
          }
        },
        "b596345b95394f61a2452b5d4186973e": {
          "model_module": "@jupyter-widgets/controls",
          "model_name": "HTMLModel",
          "model_module_version": "1.5.0",
          "state": {
            "_dom_classes": [],
            "_model_module": "@jupyter-widgets/controls",
            "_model_module_version": "1.5.0",
            "_model_name": "HTMLModel",
            "_view_count": null,
            "_view_module": "@jupyter-widgets/controls",
            "_view_module_version": "1.5.0",
            "_view_name": "HTMLView",
            "description": "",
            "description_tooltip": null,
            "layout": "IPY_MODEL_7cd37c07c3c8495aa7770f088c00d455",
            "placeholder": "​",
            "style": "IPY_MODEL_15d50f17f2214b6d828eb0e7a21d91d5",
            "value": " 10000/10000 [00:09&lt;00:00, 611.03it/s]"
          }
        },
        "3e6552b6e2104341ab460a9abf70a406": {
          "model_module": "@jupyter-widgets/base",
          "model_name": "LayoutModel",
          "model_module_version": "1.2.0",
          "state": {
            "_model_module": "@jupyter-widgets/base",
            "_model_module_version": "1.2.0",
            "_model_name": "LayoutModel",
            "_view_count": null,
            "_view_module": "@jupyter-widgets/base",
            "_view_module_version": "1.2.0",
            "_view_name": "LayoutView",
            "align_content": null,
            "align_items": null,
            "align_self": null,
            "border": null,
            "bottom": null,
            "display": null,
            "flex": null,
            "flex_flow": null,
            "grid_area": null,
            "grid_auto_columns": null,
            "grid_auto_flow": null,
            "grid_auto_rows": null,
            "grid_column": null,
            "grid_gap": null,
            "grid_row": null,
            "grid_template_areas": null,
            "grid_template_columns": null,
            "grid_template_rows": null,
            "height": null,
            "justify_content": null,
            "justify_items": null,
            "left": null,
            "margin": null,
            "max_height": null,
            "max_width": null,
            "min_height": null,
            "min_width": null,
            "object_fit": null,
            "object_position": null,
            "order": null,
            "overflow": null,
            "overflow_x": null,
            "overflow_y": null,
            "padding": null,
            "right": null,
            "top": null,
            "visibility": null,
            "width": null
          }
        },
        "b195374a702c457b81d2420442990a9b": {
          "model_module": "@jupyter-widgets/base",
          "model_name": "LayoutModel",
          "model_module_version": "1.2.0",
          "state": {
            "_model_module": "@jupyter-widgets/base",
            "_model_module_version": "1.2.0",
            "_model_name": "LayoutModel",
            "_view_count": null,
            "_view_module": "@jupyter-widgets/base",
            "_view_module_version": "1.2.0",
            "_view_name": "LayoutView",
            "align_content": null,
            "align_items": null,
            "align_self": null,
            "border": null,
            "bottom": null,
            "display": null,
            "flex": null,
            "flex_flow": null,
            "grid_area": null,
            "grid_auto_columns": null,
            "grid_auto_flow": null,
            "grid_auto_rows": null,
            "grid_column": null,
            "grid_gap": null,
            "grid_row": null,
            "grid_template_areas": null,
            "grid_template_columns": null,
            "grid_template_rows": null,
            "height": null,
            "justify_content": null,
            "justify_items": null,
            "left": null,
            "margin": null,
            "max_height": null,
            "max_width": null,
            "min_height": null,
            "min_width": null,
            "object_fit": null,
            "object_position": null,
            "order": null,
            "overflow": null,
            "overflow_x": null,
            "overflow_y": null,
            "padding": null,
            "right": null,
            "top": null,
            "visibility": null,
            "width": null
          }
        },
        "88b5b8efcefe413f839839a3fe3a094e": {
          "model_module": "@jupyter-widgets/controls",
          "model_name": "DescriptionStyleModel",
          "model_module_version": "1.5.0",
          "state": {
            "_model_module": "@jupyter-widgets/controls",
            "_model_module_version": "1.5.0",
            "_model_name": "DescriptionStyleModel",
            "_view_count": null,
            "_view_module": "@jupyter-widgets/base",
            "_view_module_version": "1.2.0",
            "_view_name": "StyleView",
            "description_width": ""
          }
        },
        "ce466ecd7c0345608463658e1d23d51b": {
          "model_module": "@jupyter-widgets/base",
          "model_name": "LayoutModel",
          "model_module_version": "1.2.0",
          "state": {
            "_model_module": "@jupyter-widgets/base",
            "_model_module_version": "1.2.0",
            "_model_name": "LayoutModel",
            "_view_count": null,
            "_view_module": "@jupyter-widgets/base",
            "_view_module_version": "1.2.0",
            "_view_name": "LayoutView",
            "align_content": null,
            "align_items": null,
            "align_self": null,
            "border": null,
            "bottom": null,
            "display": null,
            "flex": null,
            "flex_flow": null,
            "grid_area": null,
            "grid_auto_columns": null,
            "grid_auto_flow": null,
            "grid_auto_rows": null,
            "grid_column": null,
            "grid_gap": null,
            "grid_row": null,
            "grid_template_areas": null,
            "grid_template_columns": null,
            "grid_template_rows": null,
            "height": null,
            "justify_content": null,
            "justify_items": null,
            "left": null,
            "margin": null,
            "max_height": null,
            "max_width": null,
            "min_height": null,
            "min_width": null,
            "object_fit": null,
            "object_position": null,
            "order": null,
            "overflow": null,
            "overflow_x": null,
            "overflow_y": null,
            "padding": null,
            "right": null,
            "top": null,
            "visibility": null,
            "width": null
          }
        },
        "0377d0746f5f4ced9ed8062b2d03e6b5": {
          "model_module": "@jupyter-widgets/controls",
          "model_name": "ProgressStyleModel",
          "model_module_version": "1.5.0",
          "state": {
            "_model_module": "@jupyter-widgets/controls",
            "_model_module_version": "1.5.0",
            "_model_name": "ProgressStyleModel",
            "_view_count": null,
            "_view_module": "@jupyter-widgets/base",
            "_view_module_version": "1.2.0",
            "_view_name": "StyleView",
            "bar_color": null,
            "description_width": ""
          }
        },
        "7cd37c07c3c8495aa7770f088c00d455": {
          "model_module": "@jupyter-widgets/base",
          "model_name": "LayoutModel",
          "model_module_version": "1.2.0",
          "state": {
            "_model_module": "@jupyter-widgets/base",
            "_model_module_version": "1.2.0",
            "_model_name": "LayoutModel",
            "_view_count": null,
            "_view_module": "@jupyter-widgets/base",
            "_view_module_version": "1.2.0",
            "_view_name": "LayoutView",
            "align_content": null,
            "align_items": null,
            "align_self": null,
            "border": null,
            "bottom": null,
            "display": null,
            "flex": null,
            "flex_flow": null,
            "grid_area": null,
            "grid_auto_columns": null,
            "grid_auto_flow": null,
            "grid_auto_rows": null,
            "grid_column": null,
            "grid_gap": null,
            "grid_row": null,
            "grid_template_areas": null,
            "grid_template_columns": null,
            "grid_template_rows": null,
            "height": null,
            "justify_content": null,
            "justify_items": null,
            "left": null,
            "margin": null,
            "max_height": null,
            "max_width": null,
            "min_height": null,
            "min_width": null,
            "object_fit": null,
            "object_position": null,
            "order": null,
            "overflow": null,
            "overflow_x": null,
            "overflow_y": null,
            "padding": null,
            "right": null,
            "top": null,
            "visibility": null,
            "width": null
          }
        },
        "15d50f17f2214b6d828eb0e7a21d91d5": {
          "model_module": "@jupyter-widgets/controls",
          "model_name": "DescriptionStyleModel",
          "model_module_version": "1.5.0",
          "state": {
            "_model_module": "@jupyter-widgets/controls",
            "_model_module_version": "1.5.0",
            "_model_name": "DescriptionStyleModel",
            "_view_count": null,
            "_view_module": "@jupyter-widgets/base",
            "_view_module_version": "1.2.0",
            "_view_name": "StyleView",
            "description_width": ""
          }
        },
        "3fc5082b7a264bab9710d351b47b01c1": {
          "model_module": "@jupyter-widgets/controls",
          "model_name": "HBoxModel",
          "model_module_version": "1.5.0",
          "state": {
            "_dom_classes": [],
            "_model_module": "@jupyter-widgets/controls",
            "_model_module_version": "1.5.0",
            "_model_name": "HBoxModel",
            "_view_count": null,
            "_view_module": "@jupyter-widgets/controls",
            "_view_module_version": "1.5.0",
            "_view_name": "HBoxView",
            "box_style": "",
            "children": [
              "IPY_MODEL_d996129c8d83449aa4e922eda8c1b8eb",
              "IPY_MODEL_effdd5137c904c988123fb782db046e5",
              "IPY_MODEL_e93e766582fd4b85a306cd0fb9eae66e"
            ],
            "layout": "IPY_MODEL_0b155b39b8f44e7aa73b0c662fc61ce2"
          }
        },
        "d996129c8d83449aa4e922eda8c1b8eb": {
          "model_module": "@jupyter-widgets/controls",
          "model_name": "HTMLModel",
          "model_module_version": "1.5.0",
          "state": {
            "_dom_classes": [],
            "_model_module": "@jupyter-widgets/controls",
            "_model_module_version": "1.5.0",
            "_model_name": "HTMLModel",
            "_view_count": null,
            "_view_module": "@jupyter-widgets/controls",
            "_view_module_version": "1.5.0",
            "_view_name": "HTMLView",
            "description": "",
            "description_tooltip": null,
            "layout": "IPY_MODEL_3fa19d6b295f4db1863a3d01ce6f7bce",
            "placeholder": "​",
            "style": "IPY_MODEL_d7e23c239d454585b67fd2996043dcf7",
            "value": "100%"
          }
        },
        "effdd5137c904c988123fb782db046e5": {
          "model_module": "@jupyter-widgets/controls",
          "model_name": "FloatProgressModel",
          "model_module_version": "1.5.0",
          "state": {
            "_dom_classes": [],
            "_model_module": "@jupyter-widgets/controls",
            "_model_module_version": "1.5.0",
            "_model_name": "FloatProgressModel",
            "_view_count": null,
            "_view_module": "@jupyter-widgets/controls",
            "_view_module_version": "1.5.0",
            "_view_name": "ProgressView",
            "bar_style": "success",
            "description": "",
            "description_tooltip": null,
            "layout": "IPY_MODEL_35d4915ba99f4019943e1447265cb620",
            "max": 10000,
            "min": 0,
            "orientation": "horizontal",
            "style": "IPY_MODEL_ed6cd0a14711423aa28fcd5f2752a8e2",
            "value": 10000
          }
        },
        "e93e766582fd4b85a306cd0fb9eae66e": {
          "model_module": "@jupyter-widgets/controls",
          "model_name": "HTMLModel",
          "model_module_version": "1.5.0",
          "state": {
            "_dom_classes": [],
            "_model_module": "@jupyter-widgets/controls",
            "_model_module_version": "1.5.0",
            "_model_name": "HTMLModel",
            "_view_count": null,
            "_view_module": "@jupyter-widgets/controls",
            "_view_module_version": "1.5.0",
            "_view_name": "HTMLView",
            "description": "",
            "description_tooltip": null,
            "layout": "IPY_MODEL_6cb0d2d1891640e0a244e1f44b57bffd",
            "placeholder": "​",
            "style": "IPY_MODEL_d333bf28e1bf424c867fea4995897f58",
            "value": " 10000/10000 [00:07&lt;00:00, 621.79it/s]"
          }
        },
        "0b155b39b8f44e7aa73b0c662fc61ce2": {
          "model_module": "@jupyter-widgets/base",
          "model_name": "LayoutModel",
          "model_module_version": "1.2.0",
          "state": {
            "_model_module": "@jupyter-widgets/base",
            "_model_module_version": "1.2.0",
            "_model_name": "LayoutModel",
            "_view_count": null,
            "_view_module": "@jupyter-widgets/base",
            "_view_module_version": "1.2.0",
            "_view_name": "LayoutView",
            "align_content": null,
            "align_items": null,
            "align_self": null,
            "border": null,
            "bottom": null,
            "display": null,
            "flex": null,
            "flex_flow": null,
            "grid_area": null,
            "grid_auto_columns": null,
            "grid_auto_flow": null,
            "grid_auto_rows": null,
            "grid_column": null,
            "grid_gap": null,
            "grid_row": null,
            "grid_template_areas": null,
            "grid_template_columns": null,
            "grid_template_rows": null,
            "height": null,
            "justify_content": null,
            "justify_items": null,
            "left": null,
            "margin": null,
            "max_height": null,
            "max_width": null,
            "min_height": null,
            "min_width": null,
            "object_fit": null,
            "object_position": null,
            "order": null,
            "overflow": null,
            "overflow_x": null,
            "overflow_y": null,
            "padding": null,
            "right": null,
            "top": null,
            "visibility": null,
            "width": null
          }
        },
        "3fa19d6b295f4db1863a3d01ce6f7bce": {
          "model_module": "@jupyter-widgets/base",
          "model_name": "LayoutModel",
          "model_module_version": "1.2.0",
          "state": {
            "_model_module": "@jupyter-widgets/base",
            "_model_module_version": "1.2.0",
            "_model_name": "LayoutModel",
            "_view_count": null,
            "_view_module": "@jupyter-widgets/base",
            "_view_module_version": "1.2.0",
            "_view_name": "LayoutView",
            "align_content": null,
            "align_items": null,
            "align_self": null,
            "border": null,
            "bottom": null,
            "display": null,
            "flex": null,
            "flex_flow": null,
            "grid_area": null,
            "grid_auto_columns": null,
            "grid_auto_flow": null,
            "grid_auto_rows": null,
            "grid_column": null,
            "grid_gap": null,
            "grid_row": null,
            "grid_template_areas": null,
            "grid_template_columns": null,
            "grid_template_rows": null,
            "height": null,
            "justify_content": null,
            "justify_items": null,
            "left": null,
            "margin": null,
            "max_height": null,
            "max_width": null,
            "min_height": null,
            "min_width": null,
            "object_fit": null,
            "object_position": null,
            "order": null,
            "overflow": null,
            "overflow_x": null,
            "overflow_y": null,
            "padding": null,
            "right": null,
            "top": null,
            "visibility": null,
            "width": null
          }
        },
        "d7e23c239d454585b67fd2996043dcf7": {
          "model_module": "@jupyter-widgets/controls",
          "model_name": "DescriptionStyleModel",
          "model_module_version": "1.5.0",
          "state": {
            "_model_module": "@jupyter-widgets/controls",
            "_model_module_version": "1.5.0",
            "_model_name": "DescriptionStyleModel",
            "_view_count": null,
            "_view_module": "@jupyter-widgets/base",
            "_view_module_version": "1.2.0",
            "_view_name": "StyleView",
            "description_width": ""
          }
        },
        "35d4915ba99f4019943e1447265cb620": {
          "model_module": "@jupyter-widgets/base",
          "model_name": "LayoutModel",
          "model_module_version": "1.2.0",
          "state": {
            "_model_module": "@jupyter-widgets/base",
            "_model_module_version": "1.2.0",
            "_model_name": "LayoutModel",
            "_view_count": null,
            "_view_module": "@jupyter-widgets/base",
            "_view_module_version": "1.2.0",
            "_view_name": "LayoutView",
            "align_content": null,
            "align_items": null,
            "align_self": null,
            "border": null,
            "bottom": null,
            "display": null,
            "flex": null,
            "flex_flow": null,
            "grid_area": null,
            "grid_auto_columns": null,
            "grid_auto_flow": null,
            "grid_auto_rows": null,
            "grid_column": null,
            "grid_gap": null,
            "grid_row": null,
            "grid_template_areas": null,
            "grid_template_columns": null,
            "grid_template_rows": null,
            "height": null,
            "justify_content": null,
            "justify_items": null,
            "left": null,
            "margin": null,
            "max_height": null,
            "max_width": null,
            "min_height": null,
            "min_width": null,
            "object_fit": null,
            "object_position": null,
            "order": null,
            "overflow": null,
            "overflow_x": null,
            "overflow_y": null,
            "padding": null,
            "right": null,
            "top": null,
            "visibility": null,
            "width": null
          }
        },
        "ed6cd0a14711423aa28fcd5f2752a8e2": {
          "model_module": "@jupyter-widgets/controls",
          "model_name": "ProgressStyleModel",
          "model_module_version": "1.5.0",
          "state": {
            "_model_module": "@jupyter-widgets/controls",
            "_model_module_version": "1.5.0",
            "_model_name": "ProgressStyleModel",
            "_view_count": null,
            "_view_module": "@jupyter-widgets/base",
            "_view_module_version": "1.2.0",
            "_view_name": "StyleView",
            "bar_color": null,
            "description_width": ""
          }
        },
        "6cb0d2d1891640e0a244e1f44b57bffd": {
          "model_module": "@jupyter-widgets/base",
          "model_name": "LayoutModel",
          "model_module_version": "1.2.0",
          "state": {
            "_model_module": "@jupyter-widgets/base",
            "_model_module_version": "1.2.0",
            "_model_name": "LayoutModel",
            "_view_count": null,
            "_view_module": "@jupyter-widgets/base",
            "_view_module_version": "1.2.0",
            "_view_name": "LayoutView",
            "align_content": null,
            "align_items": null,
            "align_self": null,
            "border": null,
            "bottom": null,
            "display": null,
            "flex": null,
            "flex_flow": null,
            "grid_area": null,
            "grid_auto_columns": null,
            "grid_auto_flow": null,
            "grid_auto_rows": null,
            "grid_column": null,
            "grid_gap": null,
            "grid_row": null,
            "grid_template_areas": null,
            "grid_template_columns": null,
            "grid_template_rows": null,
            "height": null,
            "justify_content": null,
            "justify_items": null,
            "left": null,
            "margin": null,
            "max_height": null,
            "max_width": null,
            "min_height": null,
            "min_width": null,
            "object_fit": null,
            "object_position": null,
            "order": null,
            "overflow": null,
            "overflow_x": null,
            "overflow_y": null,
            "padding": null,
            "right": null,
            "top": null,
            "visibility": null,
            "width": null
          }
        },
        "d333bf28e1bf424c867fea4995897f58": {
          "model_module": "@jupyter-widgets/controls",
          "model_name": "DescriptionStyleModel",
          "model_module_version": "1.5.0",
          "state": {
            "_model_module": "@jupyter-widgets/controls",
            "_model_module_version": "1.5.0",
            "_model_name": "DescriptionStyleModel",
            "_view_count": null,
            "_view_module": "@jupyter-widgets/base",
            "_view_module_version": "1.2.0",
            "_view_name": "StyleView",
            "description_width": ""
          }
        },
        "022f741953954625a19a6e6cbe293fcd": {
          "model_module": "@jupyter-widgets/controls",
          "model_name": "HBoxModel",
          "model_module_version": "1.5.0",
          "state": {
            "_dom_classes": [],
            "_model_module": "@jupyter-widgets/controls",
            "_model_module_version": "1.5.0",
            "_model_name": "HBoxModel",
            "_view_count": null,
            "_view_module": "@jupyter-widgets/controls",
            "_view_module_version": "1.5.0",
            "_view_name": "HBoxView",
            "box_style": "",
            "children": [
              "IPY_MODEL_ac67ee7e37ac41d3ac3b983980442c94",
              "IPY_MODEL_59ec280abf9043f09caa81b97a4f7daf",
              "IPY_MODEL_abc32001653b43ac938c786adabcc43b"
            ],
            "layout": "IPY_MODEL_976c536012974bad8997e2ed0c754784"
          }
        },
        "ac67ee7e37ac41d3ac3b983980442c94": {
          "model_module": "@jupyter-widgets/controls",
          "model_name": "HTMLModel",
          "model_module_version": "1.5.0",
          "state": {
            "_dom_classes": [],
            "_model_module": "@jupyter-widgets/controls",
            "_model_module_version": "1.5.0",
            "_model_name": "HTMLModel",
            "_view_count": null,
            "_view_module": "@jupyter-widgets/controls",
            "_view_module_version": "1.5.0",
            "_view_name": "HTMLView",
            "description": "",
            "description_tooltip": null,
            "layout": "IPY_MODEL_74d12ec706ce469ebb91714af208e977",
            "placeholder": "​",
            "style": "IPY_MODEL_9cff095e70cd4d8f8642b94002b28640",
            "value": "Contando: 100%"
          }
        },
        "59ec280abf9043f09caa81b97a4f7daf": {
          "model_module": "@jupyter-widgets/controls",
          "model_name": "FloatProgressModel",
          "model_module_version": "1.5.0",
          "state": {
            "_dom_classes": [],
            "_model_module": "@jupyter-widgets/controls",
            "_model_module_version": "1.5.0",
            "_model_name": "FloatProgressModel",
            "_view_count": null,
            "_view_module": "@jupyter-widgets/controls",
            "_view_module_version": "1.5.0",
            "_view_name": "ProgressView",
            "bar_style": "success",
            "description": "",
            "description_tooltip": null,
            "layout": "IPY_MODEL_2d166deff497433ebf0929d2ec05ecd3",
            "max": 10000,
            "min": 0,
            "orientation": "horizontal",
            "style": "IPY_MODEL_429207c3840d496da7dbce222a1605bd",
            "value": 10000
          }
        },
        "abc32001653b43ac938c786adabcc43b": {
          "model_module": "@jupyter-widgets/controls",
          "model_name": "HTMLModel",
          "model_module_version": "1.5.0",
          "state": {
            "_dom_classes": [],
            "_model_module": "@jupyter-widgets/controls",
            "_model_module_version": "1.5.0",
            "_model_name": "HTMLModel",
            "_view_count": null,
            "_view_module": "@jupyter-widgets/controls",
            "_view_module_version": "1.5.0",
            "_view_name": "HTMLView",
            "description": "",
            "description_tooltip": null,
            "layout": "IPY_MODEL_3de94c782569481d837d8a490be5dbb0",
            "placeholder": "​",
            "style": "IPY_MODEL_15a819cd28844f94871ccac737413754",
            "value": " 10000/10000 [00:05&lt;00:00, 641.57vezes/s]"
          }
        },
        "976c536012974bad8997e2ed0c754784": {
          "model_module": "@jupyter-widgets/base",
          "model_name": "LayoutModel",
          "model_module_version": "1.2.0",
          "state": {
            "_model_module": "@jupyter-widgets/base",
            "_model_module_version": "1.2.0",
            "_model_name": "LayoutModel",
            "_view_count": null,
            "_view_module": "@jupyter-widgets/base",
            "_view_module_version": "1.2.0",
            "_view_name": "LayoutView",
            "align_content": null,
            "align_items": null,
            "align_self": null,
            "border": null,
            "bottom": null,
            "display": null,
            "flex": null,
            "flex_flow": null,
            "grid_area": null,
            "grid_auto_columns": null,
            "grid_auto_flow": null,
            "grid_auto_rows": null,
            "grid_column": null,
            "grid_gap": null,
            "grid_row": null,
            "grid_template_areas": null,
            "grid_template_columns": null,
            "grid_template_rows": null,
            "height": null,
            "justify_content": null,
            "justify_items": null,
            "left": null,
            "margin": null,
            "max_height": null,
            "max_width": null,
            "min_height": null,
            "min_width": null,
            "object_fit": null,
            "object_position": null,
            "order": null,
            "overflow": null,
            "overflow_x": null,
            "overflow_y": null,
            "padding": null,
            "right": null,
            "top": null,
            "visibility": null,
            "width": null
          }
        },
        "74d12ec706ce469ebb91714af208e977": {
          "model_module": "@jupyter-widgets/base",
          "model_name": "LayoutModel",
          "model_module_version": "1.2.0",
          "state": {
            "_model_module": "@jupyter-widgets/base",
            "_model_module_version": "1.2.0",
            "_model_name": "LayoutModel",
            "_view_count": null,
            "_view_module": "@jupyter-widgets/base",
            "_view_module_version": "1.2.0",
            "_view_name": "LayoutView",
            "align_content": null,
            "align_items": null,
            "align_self": null,
            "border": null,
            "bottom": null,
            "display": null,
            "flex": null,
            "flex_flow": null,
            "grid_area": null,
            "grid_auto_columns": null,
            "grid_auto_flow": null,
            "grid_auto_rows": null,
            "grid_column": null,
            "grid_gap": null,
            "grid_row": null,
            "grid_template_areas": null,
            "grid_template_columns": null,
            "grid_template_rows": null,
            "height": null,
            "justify_content": null,
            "justify_items": null,
            "left": null,
            "margin": null,
            "max_height": null,
            "max_width": null,
            "min_height": null,
            "min_width": null,
            "object_fit": null,
            "object_position": null,
            "order": null,
            "overflow": null,
            "overflow_x": null,
            "overflow_y": null,
            "padding": null,
            "right": null,
            "top": null,
            "visibility": null,
            "width": null
          }
        },
        "9cff095e70cd4d8f8642b94002b28640": {
          "model_module": "@jupyter-widgets/controls",
          "model_name": "DescriptionStyleModel",
          "model_module_version": "1.5.0",
          "state": {
            "_model_module": "@jupyter-widgets/controls",
            "_model_module_version": "1.5.0",
            "_model_name": "DescriptionStyleModel",
            "_view_count": null,
            "_view_module": "@jupyter-widgets/base",
            "_view_module_version": "1.2.0",
            "_view_name": "StyleView",
            "description_width": ""
          }
        },
        "2d166deff497433ebf0929d2ec05ecd3": {
          "model_module": "@jupyter-widgets/base",
          "model_name": "LayoutModel",
          "model_module_version": "1.2.0",
          "state": {
            "_model_module": "@jupyter-widgets/base",
            "_model_module_version": "1.2.0",
            "_model_name": "LayoutModel",
            "_view_count": null,
            "_view_module": "@jupyter-widgets/base",
            "_view_module_version": "1.2.0",
            "_view_name": "LayoutView",
            "align_content": null,
            "align_items": null,
            "align_self": null,
            "border": null,
            "bottom": null,
            "display": null,
            "flex": null,
            "flex_flow": null,
            "grid_area": null,
            "grid_auto_columns": null,
            "grid_auto_flow": null,
            "grid_auto_rows": null,
            "grid_column": null,
            "grid_gap": null,
            "grid_row": null,
            "grid_template_areas": null,
            "grid_template_columns": null,
            "grid_template_rows": null,
            "height": null,
            "justify_content": null,
            "justify_items": null,
            "left": null,
            "margin": null,
            "max_height": null,
            "max_width": null,
            "min_height": null,
            "min_width": null,
            "object_fit": null,
            "object_position": null,
            "order": null,
            "overflow": null,
            "overflow_x": null,
            "overflow_y": null,
            "padding": null,
            "right": null,
            "top": null,
            "visibility": null,
            "width": null
          }
        },
        "429207c3840d496da7dbce222a1605bd": {
          "model_module": "@jupyter-widgets/controls",
          "model_name": "ProgressStyleModel",
          "model_module_version": "1.5.0",
          "state": {
            "_model_module": "@jupyter-widgets/controls",
            "_model_module_version": "1.5.0",
            "_model_name": "ProgressStyleModel",
            "_view_count": null,
            "_view_module": "@jupyter-widgets/base",
            "_view_module_version": "1.2.0",
            "_view_name": "StyleView",
            "bar_color": null,
            "description_width": ""
          }
        },
        "3de94c782569481d837d8a490be5dbb0": {
          "model_module": "@jupyter-widgets/base",
          "model_name": "LayoutModel",
          "model_module_version": "1.2.0",
          "state": {
            "_model_module": "@jupyter-widgets/base",
            "_model_module_version": "1.2.0",
            "_model_name": "LayoutModel",
            "_view_count": null,
            "_view_module": "@jupyter-widgets/base",
            "_view_module_version": "1.2.0",
            "_view_name": "LayoutView",
            "align_content": null,
            "align_items": null,
            "align_self": null,
            "border": null,
            "bottom": null,
            "display": null,
            "flex": null,
            "flex_flow": null,
            "grid_area": null,
            "grid_auto_columns": null,
            "grid_auto_flow": null,
            "grid_auto_rows": null,
            "grid_column": null,
            "grid_gap": null,
            "grid_row": null,
            "grid_template_areas": null,
            "grid_template_columns": null,
            "grid_template_rows": null,
            "height": null,
            "justify_content": null,
            "justify_items": null,
            "left": null,
            "margin": null,
            "max_height": null,
            "max_width": null,
            "min_height": null,
            "min_width": null,
            "object_fit": null,
            "object_position": null,
            "order": null,
            "overflow": null,
            "overflow_x": null,
            "overflow_y": null,
            "padding": null,
            "right": null,
            "top": null,
            "visibility": null,
            "width": null
          }
        },
        "15a819cd28844f94871ccac737413754": {
          "model_module": "@jupyter-widgets/controls",
          "model_name": "DescriptionStyleModel",
          "model_module_version": "1.5.0",
          "state": {
            "_model_module": "@jupyter-widgets/controls",
            "_model_module_version": "1.5.0",
            "_model_name": "DescriptionStyleModel",
            "_view_count": null,
            "_view_module": "@jupyter-widgets/base",
            "_view_module_version": "1.2.0",
            "_view_name": "StyleView",
            "description_width": ""
          }
        },
        "a0b058c972e04272be628ac0bd64e33e": {
          "model_module": "@jupyter-widgets/controls",
          "model_name": "HBoxModel",
          "model_module_version": "1.5.0",
          "state": {
            "_dom_classes": [],
            "_model_module": "@jupyter-widgets/controls",
            "_model_module_version": "1.5.0",
            "_model_name": "HBoxModel",
            "_view_count": null,
            "_view_module": "@jupyter-widgets/controls",
            "_view_module_version": "1.5.0",
            "_view_name": "HBoxView",
            "box_style": "",
            "children": [
              "IPY_MODEL_fe266c8ece5944269a04765247be72a0",
              "IPY_MODEL_04c74da769694b4bb2b007603e02c06f",
              "IPY_MODEL_1ca14fb6a4e84b44b288160a0a2291ea"
            ],
            "layout": "IPY_MODEL_da942cdc0de14025ac91d8a104e1f835"
          }
        },
        "fe266c8ece5944269a04765247be72a0": {
          "model_module": "@jupyter-widgets/controls",
          "model_name": "HTMLModel",
          "model_module_version": "1.5.0",
          "state": {
            "_dom_classes": [],
            "_model_module": "@jupyter-widgets/controls",
            "_model_module_version": "1.5.0",
            "_model_name": "HTMLModel",
            "_view_count": null,
            "_view_module": "@jupyter-widgets/controls",
            "_view_module_version": "1.5.0",
            "_view_name": "HTMLView",
            "description": "",
            "description_tooltip": null,
            "layout": "IPY_MODEL_e5293434ddff46fd8088fd084818ad39",
            "placeholder": "​",
            "style": "IPY_MODEL_29d97a79e0874632b812856cfbdfdb8f",
            "value": "Contando: 100%"
          }
        },
        "04c74da769694b4bb2b007603e02c06f": {
          "model_module": "@jupyter-widgets/controls",
          "model_name": "FloatProgressModel",
          "model_module_version": "1.5.0",
          "state": {
            "_dom_classes": [],
            "_model_module": "@jupyter-widgets/controls",
            "_model_module_version": "1.5.0",
            "_model_name": "FloatProgressModel",
            "_view_count": null,
            "_view_module": "@jupyter-widgets/controls",
            "_view_module_version": "1.5.0",
            "_view_name": "ProgressView",
            "bar_style": "success",
            "description": "",
            "description_tooltip": null,
            "layout": "IPY_MODEL_2dc9bcb3bf374ce4ba58ab7c49bc6e42",
            "max": 100,
            "min": 0,
            "orientation": "horizontal",
            "style": "IPY_MODEL_de7de41a7a1e420cbf5c01574d3a0e10",
            "value": 100
          }
        },
        "1ca14fb6a4e84b44b288160a0a2291ea": {
          "model_module": "@jupyter-widgets/controls",
          "model_name": "HTMLModel",
          "model_module_version": "1.5.0",
          "state": {
            "_dom_classes": [],
            "_model_module": "@jupyter-widgets/controls",
            "_model_module_version": "1.5.0",
            "_model_name": "HTMLModel",
            "_view_count": null,
            "_view_module": "@jupyter-widgets/controls",
            "_view_module_version": "1.5.0",
            "_view_name": "HTMLView",
            "description": "",
            "description_tooltip": null,
            "layout": "IPY_MODEL_c3aaaefd3bbe4a3cb248847e7587646a",
            "placeholder": "​",
            "style": "IPY_MODEL_3a6689a250ef47ea942d1545fd285259",
            "value": " 100/100 [00:25&lt;00:00,  3.96vezes/s, tamanho=100]"
          }
        },
        "da942cdc0de14025ac91d8a104e1f835": {
          "model_module": "@jupyter-widgets/base",
          "model_name": "LayoutModel",
          "model_module_version": "1.2.0",
          "state": {
            "_model_module": "@jupyter-widgets/base",
            "_model_module_version": "1.2.0",
            "_model_name": "LayoutModel",
            "_view_count": null,
            "_view_module": "@jupyter-widgets/base",
            "_view_module_version": "1.2.0",
            "_view_name": "LayoutView",
            "align_content": null,
            "align_items": null,
            "align_self": null,
            "border": null,
            "bottom": null,
            "display": null,
            "flex": null,
            "flex_flow": null,
            "grid_area": null,
            "grid_auto_columns": null,
            "grid_auto_flow": null,
            "grid_auto_rows": null,
            "grid_column": null,
            "grid_gap": null,
            "grid_row": null,
            "grid_template_areas": null,
            "grid_template_columns": null,
            "grid_template_rows": null,
            "height": null,
            "justify_content": null,
            "justify_items": null,
            "left": null,
            "margin": null,
            "max_height": null,
            "max_width": null,
            "min_height": null,
            "min_width": null,
            "object_fit": null,
            "object_position": null,
            "order": null,
            "overflow": null,
            "overflow_x": null,
            "overflow_y": null,
            "padding": null,
            "right": null,
            "top": null,
            "visibility": null,
            "width": null
          }
        },
        "e5293434ddff46fd8088fd084818ad39": {
          "model_module": "@jupyter-widgets/base",
          "model_name": "LayoutModel",
          "model_module_version": "1.2.0",
          "state": {
            "_model_module": "@jupyter-widgets/base",
            "_model_module_version": "1.2.0",
            "_model_name": "LayoutModel",
            "_view_count": null,
            "_view_module": "@jupyter-widgets/base",
            "_view_module_version": "1.2.0",
            "_view_name": "LayoutView",
            "align_content": null,
            "align_items": null,
            "align_self": null,
            "border": null,
            "bottom": null,
            "display": null,
            "flex": null,
            "flex_flow": null,
            "grid_area": null,
            "grid_auto_columns": null,
            "grid_auto_flow": null,
            "grid_auto_rows": null,
            "grid_column": null,
            "grid_gap": null,
            "grid_row": null,
            "grid_template_areas": null,
            "grid_template_columns": null,
            "grid_template_rows": null,
            "height": null,
            "justify_content": null,
            "justify_items": null,
            "left": null,
            "margin": null,
            "max_height": null,
            "max_width": null,
            "min_height": null,
            "min_width": null,
            "object_fit": null,
            "object_position": null,
            "order": null,
            "overflow": null,
            "overflow_x": null,
            "overflow_y": null,
            "padding": null,
            "right": null,
            "top": null,
            "visibility": null,
            "width": null
          }
        },
        "29d97a79e0874632b812856cfbdfdb8f": {
          "model_module": "@jupyter-widgets/controls",
          "model_name": "DescriptionStyleModel",
          "model_module_version": "1.5.0",
          "state": {
            "_model_module": "@jupyter-widgets/controls",
            "_model_module_version": "1.5.0",
            "_model_name": "DescriptionStyleModel",
            "_view_count": null,
            "_view_module": "@jupyter-widgets/base",
            "_view_module_version": "1.2.0",
            "_view_name": "StyleView",
            "description_width": ""
          }
        },
        "2dc9bcb3bf374ce4ba58ab7c49bc6e42": {
          "model_module": "@jupyter-widgets/base",
          "model_name": "LayoutModel",
          "model_module_version": "1.2.0",
          "state": {
            "_model_module": "@jupyter-widgets/base",
            "_model_module_version": "1.2.0",
            "_model_name": "LayoutModel",
            "_view_count": null,
            "_view_module": "@jupyter-widgets/base",
            "_view_module_version": "1.2.0",
            "_view_name": "LayoutView",
            "align_content": null,
            "align_items": null,
            "align_self": null,
            "border": null,
            "bottom": null,
            "display": null,
            "flex": null,
            "flex_flow": null,
            "grid_area": null,
            "grid_auto_columns": null,
            "grid_auto_flow": null,
            "grid_auto_rows": null,
            "grid_column": null,
            "grid_gap": null,
            "grid_row": null,
            "grid_template_areas": null,
            "grid_template_columns": null,
            "grid_template_rows": null,
            "height": null,
            "justify_content": null,
            "justify_items": null,
            "left": null,
            "margin": null,
            "max_height": null,
            "max_width": null,
            "min_height": null,
            "min_width": null,
            "object_fit": null,
            "object_position": null,
            "order": null,
            "overflow": null,
            "overflow_x": null,
            "overflow_y": null,
            "padding": null,
            "right": null,
            "top": null,
            "visibility": null,
            "width": null
          }
        },
        "de7de41a7a1e420cbf5c01574d3a0e10": {
          "model_module": "@jupyter-widgets/controls",
          "model_name": "ProgressStyleModel",
          "model_module_version": "1.5.0",
          "state": {
            "_model_module": "@jupyter-widgets/controls",
            "_model_module_version": "1.5.0",
            "_model_name": "ProgressStyleModel",
            "_view_count": null,
            "_view_module": "@jupyter-widgets/base",
            "_view_module_version": "1.2.0",
            "_view_name": "StyleView",
            "bar_color": null,
            "description_width": ""
          }
        },
        "c3aaaefd3bbe4a3cb248847e7587646a": {
          "model_module": "@jupyter-widgets/base",
          "model_name": "LayoutModel",
          "model_module_version": "1.2.0",
          "state": {
            "_model_module": "@jupyter-widgets/base",
            "_model_module_version": "1.2.0",
            "_model_name": "LayoutModel",
            "_view_count": null,
            "_view_module": "@jupyter-widgets/base",
            "_view_module_version": "1.2.0",
            "_view_name": "LayoutView",
            "align_content": null,
            "align_items": null,
            "align_self": null,
            "border": null,
            "bottom": null,
            "display": null,
            "flex": null,
            "flex_flow": null,
            "grid_area": null,
            "grid_auto_columns": null,
            "grid_auto_flow": null,
            "grid_auto_rows": null,
            "grid_column": null,
            "grid_gap": null,
            "grid_row": null,
            "grid_template_areas": null,
            "grid_template_columns": null,
            "grid_template_rows": null,
            "height": null,
            "justify_content": null,
            "justify_items": null,
            "left": null,
            "margin": null,
            "max_height": null,
            "max_width": null,
            "min_height": null,
            "min_width": null,
            "object_fit": null,
            "object_position": null,
            "order": null,
            "overflow": null,
            "overflow_x": null,
            "overflow_y": null,
            "padding": null,
            "right": null,
            "top": null,
            "visibility": null,
            "width": null
          }
        },
        "3a6689a250ef47ea942d1545fd285259": {
          "model_module": "@jupyter-widgets/controls",
          "model_name": "DescriptionStyleModel",
          "model_module_version": "1.5.0",
          "state": {
            "_model_module": "@jupyter-widgets/controls",
            "_model_module_version": "1.5.0",
            "_model_name": "DescriptionStyleModel",
            "_view_count": null,
            "_view_module": "@jupyter-widgets/base",
            "_view_module_version": "1.2.0",
            "_view_name": "StyleView",
            "description_width": ""
          }
        },
        "d344b6c96cc8423791be3889290608e9": {
          "model_module": "@jupyter-widgets/controls",
          "model_name": "HBoxModel",
          "model_module_version": "1.5.0",
          "state": {
            "_dom_classes": [],
            "_model_module": "@jupyter-widgets/controls",
            "_model_module_version": "1.5.0",
            "_model_name": "HBoxModel",
            "_view_count": null,
            "_view_module": "@jupyter-widgets/controls",
            "_view_module_version": "1.5.0",
            "_view_name": "HBoxView",
            "box_style": "",
            "children": [
              "IPY_MODEL_10e5b3982cc84a10b0ca8404a23e1582",
              "IPY_MODEL_74d4be4b5dfb48c389b28ac3b11ac17d",
              "IPY_MODEL_11f49805488749ce9770460ea30af0a6"
            ],
            "layout": "IPY_MODEL_14cde86c21a44997bd7e66d4366eee11"
          }
        },
        "10e5b3982cc84a10b0ca8404a23e1582": {
          "model_module": "@jupyter-widgets/controls",
          "model_name": "HTMLModel",
          "model_module_version": "1.5.0",
          "state": {
            "_dom_classes": [],
            "_model_module": "@jupyter-widgets/controls",
            "_model_module_version": "1.5.0",
            "_model_name": "HTMLModel",
            "_view_count": null,
            "_view_module": "@jupyter-widgets/controls",
            "_view_module_version": "1.5.0",
            "_view_name": "HTMLView",
            "description": "",
            "description_tooltip": null,
            "layout": "IPY_MODEL_f7ec81bb8ded45be92d981e92082274b",
            "placeholder": "​",
            "style": "IPY_MODEL_509aa2f56bd4448bab9b7e71560c184d",
            "value": "Contando: 100%"
          }
        },
        "74d4be4b5dfb48c389b28ac3b11ac17d": {
          "model_module": "@jupyter-widgets/controls",
          "model_name": "FloatProgressModel",
          "model_module_version": "1.5.0",
          "state": {
            "_dom_classes": [],
            "_model_module": "@jupyter-widgets/controls",
            "_model_module_version": "1.5.0",
            "_model_name": "FloatProgressModel",
            "_view_count": null,
            "_view_module": "@jupyter-widgets/controls",
            "_view_module_version": "1.5.0",
            "_view_name": "ProgressView",
            "bar_style": "",
            "description": "",
            "description_tooltip": null,
            "layout": "IPY_MODEL_7263c8c9723547c2828cf4fd0d720271",
            "max": 100,
            "min": 0,
            "orientation": "horizontal",
            "style": "IPY_MODEL_5d9f8ba2595d4ba48c0174b24f1db9bf",
            "value": 100
          }
        },
        "11f49805488749ce9770460ea30af0a6": {
          "model_module": "@jupyter-widgets/controls",
          "model_name": "HTMLModel",
          "model_module_version": "1.5.0",
          "state": {
            "_dom_classes": [],
            "_model_module": "@jupyter-widgets/controls",
            "_model_module_version": "1.5.0",
            "_model_name": "HTMLModel",
            "_view_count": null,
            "_view_module": "@jupyter-widgets/controls",
            "_view_module_version": "1.5.0",
            "_view_name": "HTMLView",
            "description": "",
            "description_tooltip": null,
            "layout": "IPY_MODEL_bd33ff9faeeb4b9aad7b808fe554523a",
            "placeholder": "​",
            "style": "IPY_MODEL_3923aec6d6e0433b8e526c6086650c98",
            "value": " 100/100 [00:25&lt;00:00,  3.93vezes/s, tamanho=100]"
          }
        },
        "14cde86c21a44997bd7e66d4366eee11": {
          "model_module": "@jupyter-widgets/base",
          "model_name": "LayoutModel",
          "model_module_version": "1.2.0",
          "state": {
            "_model_module": "@jupyter-widgets/base",
            "_model_module_version": "1.2.0",
            "_model_name": "LayoutModel",
            "_view_count": null,
            "_view_module": "@jupyter-widgets/base",
            "_view_module_version": "1.2.0",
            "_view_name": "LayoutView",
            "align_content": null,
            "align_items": null,
            "align_self": null,
            "border": null,
            "bottom": null,
            "display": null,
            "flex": null,
            "flex_flow": null,
            "grid_area": null,
            "grid_auto_columns": null,
            "grid_auto_flow": null,
            "grid_auto_rows": null,
            "grid_column": null,
            "grid_gap": null,
            "grid_row": null,
            "grid_template_areas": null,
            "grid_template_columns": null,
            "grid_template_rows": null,
            "height": null,
            "justify_content": null,
            "justify_items": null,
            "left": null,
            "margin": null,
            "max_height": null,
            "max_width": null,
            "min_height": null,
            "min_width": null,
            "object_fit": null,
            "object_position": null,
            "order": null,
            "overflow": null,
            "overflow_x": null,
            "overflow_y": null,
            "padding": null,
            "right": null,
            "top": null,
            "visibility": null,
            "width": null
          }
        },
        "f7ec81bb8ded45be92d981e92082274b": {
          "model_module": "@jupyter-widgets/base",
          "model_name": "LayoutModel",
          "model_module_version": "1.2.0",
          "state": {
            "_model_module": "@jupyter-widgets/base",
            "_model_module_version": "1.2.0",
            "_model_name": "LayoutModel",
            "_view_count": null,
            "_view_module": "@jupyter-widgets/base",
            "_view_module_version": "1.2.0",
            "_view_name": "LayoutView",
            "align_content": null,
            "align_items": null,
            "align_self": null,
            "border": null,
            "bottom": null,
            "display": null,
            "flex": null,
            "flex_flow": null,
            "grid_area": null,
            "grid_auto_columns": null,
            "grid_auto_flow": null,
            "grid_auto_rows": null,
            "grid_column": null,
            "grid_gap": null,
            "grid_row": null,
            "grid_template_areas": null,
            "grid_template_columns": null,
            "grid_template_rows": null,
            "height": null,
            "justify_content": null,
            "justify_items": null,
            "left": null,
            "margin": null,
            "max_height": null,
            "max_width": null,
            "min_height": null,
            "min_width": null,
            "object_fit": null,
            "object_position": null,
            "order": null,
            "overflow": null,
            "overflow_x": null,
            "overflow_y": null,
            "padding": null,
            "right": null,
            "top": null,
            "visibility": null,
            "width": null
          }
        },
        "509aa2f56bd4448bab9b7e71560c184d": {
          "model_module": "@jupyter-widgets/controls",
          "model_name": "DescriptionStyleModel",
          "model_module_version": "1.5.0",
          "state": {
            "_model_module": "@jupyter-widgets/controls",
            "_model_module_version": "1.5.0",
            "_model_name": "DescriptionStyleModel",
            "_view_count": null,
            "_view_module": "@jupyter-widgets/base",
            "_view_module_version": "1.2.0",
            "_view_name": "StyleView",
            "description_width": ""
          }
        },
        "7263c8c9723547c2828cf4fd0d720271": {
          "model_module": "@jupyter-widgets/base",
          "model_name": "LayoutModel",
          "model_module_version": "1.2.0",
          "state": {
            "_model_module": "@jupyter-widgets/base",
            "_model_module_version": "1.2.0",
            "_model_name": "LayoutModel",
            "_view_count": null,
            "_view_module": "@jupyter-widgets/base",
            "_view_module_version": "1.2.0",
            "_view_name": "LayoutView",
            "align_content": null,
            "align_items": null,
            "align_self": null,
            "border": null,
            "bottom": null,
            "display": null,
            "flex": null,
            "flex_flow": null,
            "grid_area": null,
            "grid_auto_columns": null,
            "grid_auto_flow": null,
            "grid_auto_rows": null,
            "grid_column": null,
            "grid_gap": null,
            "grid_row": null,
            "grid_template_areas": null,
            "grid_template_columns": null,
            "grid_template_rows": null,
            "height": null,
            "justify_content": null,
            "justify_items": null,
            "left": null,
            "margin": null,
            "max_height": null,
            "max_width": null,
            "min_height": null,
            "min_width": null,
            "object_fit": null,
            "object_position": null,
            "order": null,
            "overflow": null,
            "overflow_x": null,
            "overflow_y": null,
            "padding": null,
            "right": null,
            "top": null,
            "visibility": null,
            "width": null
          }
        },
        "5d9f8ba2595d4ba48c0174b24f1db9bf": {
          "model_module": "@jupyter-widgets/controls",
          "model_name": "ProgressStyleModel",
          "model_module_version": "1.5.0",
          "state": {
            "_model_module": "@jupyter-widgets/controls",
            "_model_module_version": "1.5.0",
            "_model_name": "ProgressStyleModel",
            "_view_count": null,
            "_view_module": "@jupyter-widgets/base",
            "_view_module_version": "1.2.0",
            "_view_name": "StyleView",
            "bar_color": null,
            "description_width": ""
          }
        },
        "bd33ff9faeeb4b9aad7b808fe554523a": {
          "model_module": "@jupyter-widgets/base",
          "model_name": "LayoutModel",
          "model_module_version": "1.2.0",
          "state": {
            "_model_module": "@jupyter-widgets/base",
            "_model_module_version": "1.2.0",
            "_model_name": "LayoutModel",
            "_view_count": null,
            "_view_module": "@jupyter-widgets/base",
            "_view_module_version": "1.2.0",
            "_view_name": "LayoutView",
            "align_content": null,
            "align_items": null,
            "align_self": null,
            "border": null,
            "bottom": null,
            "display": null,
            "flex": null,
            "flex_flow": null,
            "grid_area": null,
            "grid_auto_columns": null,
            "grid_auto_flow": null,
            "grid_auto_rows": null,
            "grid_column": null,
            "grid_gap": null,
            "grid_row": null,
            "grid_template_areas": null,
            "grid_template_columns": null,
            "grid_template_rows": null,
            "height": null,
            "justify_content": null,
            "justify_items": null,
            "left": null,
            "margin": null,
            "max_height": null,
            "max_width": null,
            "min_height": null,
            "min_width": null,
            "object_fit": null,
            "object_position": null,
            "order": null,
            "overflow": null,
            "overflow_x": null,
            "overflow_y": null,
            "padding": null,
            "right": null,
            "top": null,
            "visibility": null,
            "width": null
          }
        },
        "3923aec6d6e0433b8e526c6086650c98": {
          "model_module": "@jupyter-widgets/controls",
          "model_name": "DescriptionStyleModel",
          "model_module_version": "1.5.0",
          "state": {
            "_model_module": "@jupyter-widgets/controls",
            "_model_module_version": "1.5.0",
            "_model_name": "DescriptionStyleModel",
            "_view_count": null,
            "_view_module": "@jupyter-widgets/base",
            "_view_module_version": "1.2.0",
            "_view_name": "StyleView",
            "description_width": ""
          }
        },
        "e038e975089c4cfa8209eb0ad84b4685": {
          "model_module": "@jupyter-widgets/controls",
          "model_name": "HBoxModel",
          "model_module_version": "1.5.0",
          "state": {
            "_dom_classes": [],
            "_model_module": "@jupyter-widgets/controls",
            "_model_module_version": "1.5.0",
            "_model_name": "HBoxModel",
            "_view_count": null,
            "_view_module": "@jupyter-widgets/controls",
            "_view_module_version": "1.5.0",
            "_view_name": "HBoxView",
            "box_style": "",
            "children": [
              "IPY_MODEL_8b77818e5b27487f9c4b1c4271b63662",
              "IPY_MODEL_0b231d40f48441b9bf5af6b908404aed",
              "IPY_MODEL_d9cab0dcd63849619c651b2e92900519"
            ],
            "layout": "IPY_MODEL_072fa3c2307445369957790a94e89fbc"
          }
        },
        "8b77818e5b27487f9c4b1c4271b63662": {
          "model_module": "@jupyter-widgets/controls",
          "model_name": "HTMLModel",
          "model_module_version": "1.5.0",
          "state": {
            "_dom_classes": [],
            "_model_module": "@jupyter-widgets/controls",
            "_model_module_version": "1.5.0",
            "_model_name": "HTMLModel",
            "_view_count": null,
            "_view_module": "@jupyter-widgets/controls",
            "_view_module_version": "1.5.0",
            "_view_name": "HTMLView",
            "description": "",
            "description_tooltip": null,
            "layout": "IPY_MODEL_8e59d73d9c0f4579b2c5c6b06a90622c",
            "placeholder": "​",
            "style": "IPY_MODEL_2cbf98d624d448ffa47aa95a7ab2bad0",
            "value": "1o Laço: 100%"
          }
        },
        "0b231d40f48441b9bf5af6b908404aed": {
          "model_module": "@jupyter-widgets/controls",
          "model_name": "FloatProgressModel",
          "model_module_version": "1.5.0",
          "state": {
            "_dom_classes": [],
            "_model_module": "@jupyter-widgets/controls",
            "_model_module_version": "1.5.0",
            "_model_name": "FloatProgressModel",
            "_view_count": null,
            "_view_module": "@jupyter-widgets/controls",
            "_view_module_version": "1.5.0",
            "_view_name": "ProgressView",
            "bar_style": "success",
            "description": "",
            "description_tooltip": null,
            "layout": "IPY_MODEL_e35452225fb74dc1aa72c7f72c8f52ff",
            "max": 5,
            "min": 0,
            "orientation": "horizontal",
            "style": "IPY_MODEL_ee502306895c4c85bbd5e16c7080c381",
            "value": 5
          }
        },
        "d9cab0dcd63849619c651b2e92900519": {
          "model_module": "@jupyter-widgets/controls",
          "model_name": "HTMLModel",
          "model_module_version": "1.5.0",
          "state": {
            "_dom_classes": [],
            "_model_module": "@jupyter-widgets/controls",
            "_model_module_version": "1.5.0",
            "_model_name": "HTMLModel",
            "_view_count": null,
            "_view_module": "@jupyter-widgets/controls",
            "_view_module_version": "1.5.0",
            "_view_name": "HTMLView",
            "description": "",
            "description_tooltip": null,
            "layout": "IPY_MODEL_d75a010e992f47edae9da18238dcf36d",
            "placeholder": "​",
            "style": "IPY_MODEL_fd7f749b903d44c0ac582540f692f32c",
            "value": " 5/5 [00:10&lt;00:00,  2.11s/it]"
          }
        },
        "072fa3c2307445369957790a94e89fbc": {
          "model_module": "@jupyter-widgets/base",
          "model_name": "LayoutModel",
          "model_module_version": "1.2.0",
          "state": {
            "_model_module": "@jupyter-widgets/base",
            "_model_module_version": "1.2.0",
            "_model_name": "LayoutModel",
            "_view_count": null,
            "_view_module": "@jupyter-widgets/base",
            "_view_module_version": "1.2.0",
            "_view_name": "LayoutView",
            "align_content": null,
            "align_items": null,
            "align_self": null,
            "border": null,
            "bottom": null,
            "display": null,
            "flex": null,
            "flex_flow": null,
            "grid_area": null,
            "grid_auto_columns": null,
            "grid_auto_flow": null,
            "grid_auto_rows": null,
            "grid_column": null,
            "grid_gap": null,
            "grid_row": null,
            "grid_template_areas": null,
            "grid_template_columns": null,
            "grid_template_rows": null,
            "height": null,
            "justify_content": null,
            "justify_items": null,
            "left": null,
            "margin": null,
            "max_height": null,
            "max_width": null,
            "min_height": null,
            "min_width": null,
            "object_fit": null,
            "object_position": null,
            "order": null,
            "overflow": null,
            "overflow_x": null,
            "overflow_y": null,
            "padding": null,
            "right": null,
            "top": null,
            "visibility": null,
            "width": null
          }
        },
        "8e59d73d9c0f4579b2c5c6b06a90622c": {
          "model_module": "@jupyter-widgets/base",
          "model_name": "LayoutModel",
          "model_module_version": "1.2.0",
          "state": {
            "_model_module": "@jupyter-widgets/base",
            "_model_module_version": "1.2.0",
            "_model_name": "LayoutModel",
            "_view_count": null,
            "_view_module": "@jupyter-widgets/base",
            "_view_module_version": "1.2.0",
            "_view_name": "LayoutView",
            "align_content": null,
            "align_items": null,
            "align_self": null,
            "border": null,
            "bottom": null,
            "display": null,
            "flex": null,
            "flex_flow": null,
            "grid_area": null,
            "grid_auto_columns": null,
            "grid_auto_flow": null,
            "grid_auto_rows": null,
            "grid_column": null,
            "grid_gap": null,
            "grid_row": null,
            "grid_template_areas": null,
            "grid_template_columns": null,
            "grid_template_rows": null,
            "height": null,
            "justify_content": null,
            "justify_items": null,
            "left": null,
            "margin": null,
            "max_height": null,
            "max_width": null,
            "min_height": null,
            "min_width": null,
            "object_fit": null,
            "object_position": null,
            "order": null,
            "overflow": null,
            "overflow_x": null,
            "overflow_y": null,
            "padding": null,
            "right": null,
            "top": null,
            "visibility": null,
            "width": null
          }
        },
        "2cbf98d624d448ffa47aa95a7ab2bad0": {
          "model_module": "@jupyter-widgets/controls",
          "model_name": "DescriptionStyleModel",
          "model_module_version": "1.5.0",
          "state": {
            "_model_module": "@jupyter-widgets/controls",
            "_model_module_version": "1.5.0",
            "_model_name": "DescriptionStyleModel",
            "_view_count": null,
            "_view_module": "@jupyter-widgets/base",
            "_view_module_version": "1.2.0",
            "_view_name": "StyleView",
            "description_width": ""
          }
        },
        "e35452225fb74dc1aa72c7f72c8f52ff": {
          "model_module": "@jupyter-widgets/base",
          "model_name": "LayoutModel",
          "model_module_version": "1.2.0",
          "state": {
            "_model_module": "@jupyter-widgets/base",
            "_model_module_version": "1.2.0",
            "_model_name": "LayoutModel",
            "_view_count": null,
            "_view_module": "@jupyter-widgets/base",
            "_view_module_version": "1.2.0",
            "_view_name": "LayoutView",
            "align_content": null,
            "align_items": null,
            "align_self": null,
            "border": null,
            "bottom": null,
            "display": null,
            "flex": null,
            "flex_flow": null,
            "grid_area": null,
            "grid_auto_columns": null,
            "grid_auto_flow": null,
            "grid_auto_rows": null,
            "grid_column": null,
            "grid_gap": null,
            "grid_row": null,
            "grid_template_areas": null,
            "grid_template_columns": null,
            "grid_template_rows": null,
            "height": null,
            "justify_content": null,
            "justify_items": null,
            "left": null,
            "margin": null,
            "max_height": null,
            "max_width": null,
            "min_height": null,
            "min_width": null,
            "object_fit": null,
            "object_position": null,
            "order": null,
            "overflow": null,
            "overflow_x": null,
            "overflow_y": null,
            "padding": null,
            "right": null,
            "top": null,
            "visibility": null,
            "width": null
          }
        },
        "ee502306895c4c85bbd5e16c7080c381": {
          "model_module": "@jupyter-widgets/controls",
          "model_name": "ProgressStyleModel",
          "model_module_version": "1.5.0",
          "state": {
            "_model_module": "@jupyter-widgets/controls",
            "_model_module_version": "1.5.0",
            "_model_name": "ProgressStyleModel",
            "_view_count": null,
            "_view_module": "@jupyter-widgets/base",
            "_view_module_version": "1.2.0",
            "_view_name": "StyleView",
            "bar_color": null,
            "description_width": ""
          }
        },
        "d75a010e992f47edae9da18238dcf36d": {
          "model_module": "@jupyter-widgets/base",
          "model_name": "LayoutModel",
          "model_module_version": "1.2.0",
          "state": {
            "_model_module": "@jupyter-widgets/base",
            "_model_module_version": "1.2.0",
            "_model_name": "LayoutModel",
            "_view_count": null,
            "_view_module": "@jupyter-widgets/base",
            "_view_module_version": "1.2.0",
            "_view_name": "LayoutView",
            "align_content": null,
            "align_items": null,
            "align_self": null,
            "border": null,
            "bottom": null,
            "display": null,
            "flex": null,
            "flex_flow": null,
            "grid_area": null,
            "grid_auto_columns": null,
            "grid_auto_flow": null,
            "grid_auto_rows": null,
            "grid_column": null,
            "grid_gap": null,
            "grid_row": null,
            "grid_template_areas": null,
            "grid_template_columns": null,
            "grid_template_rows": null,
            "height": null,
            "justify_content": null,
            "justify_items": null,
            "left": null,
            "margin": null,
            "max_height": null,
            "max_width": null,
            "min_height": null,
            "min_width": null,
            "object_fit": null,
            "object_position": null,
            "order": null,
            "overflow": null,
            "overflow_x": null,
            "overflow_y": null,
            "padding": null,
            "right": null,
            "top": null,
            "visibility": null,
            "width": null
          }
        },
        "fd7f749b903d44c0ac582540f692f32c": {
          "model_module": "@jupyter-widgets/controls",
          "model_name": "DescriptionStyleModel",
          "model_module_version": "1.5.0",
          "state": {
            "_model_module": "@jupyter-widgets/controls",
            "_model_module_version": "1.5.0",
            "_model_name": "DescriptionStyleModel",
            "_view_count": null,
            "_view_module": "@jupyter-widgets/base",
            "_view_module_version": "1.2.0",
            "_view_name": "StyleView",
            "description_width": ""
          }
        },
        "c53035a5997143a98b5d5eeffc4b7a3f": {
          "model_module": "@jupyter-widgets/controls",
          "model_name": "HBoxModel",
          "model_module_version": "1.5.0",
          "state": {
            "_dom_classes": [],
            "_model_module": "@jupyter-widgets/controls",
            "_model_module_version": "1.5.0",
            "_model_name": "HBoxModel",
            "_view_count": null,
            "_view_module": "@jupyter-widgets/controls",
            "_view_module_version": "1.5.0",
            "_view_name": "HBoxView",
            "box_style": "",
            "children": [
              "IPY_MODEL_e2ed70743f9f437092bfa7213ad4558a",
              "IPY_MODEL_8518596ea0ef425ab8f6b522071a49df",
              "IPY_MODEL_60381b9302134258bbc9d940c42157e3"
            ],
            "layout": "IPY_MODEL_ffca2780c291420e9863f97861f7797a"
          }
        },
        "e2ed70743f9f437092bfa7213ad4558a": {
          "model_module": "@jupyter-widgets/controls",
          "model_name": "HTMLModel",
          "model_module_version": "1.5.0",
          "state": {
            "_dom_classes": [],
            "_model_module": "@jupyter-widgets/controls",
            "_model_module_version": "1.5.0",
            "_model_name": "HTMLModel",
            "_view_count": null,
            "_view_module": "@jupyter-widgets/controls",
            "_view_module_version": "1.5.0",
            "_view_name": "HTMLView",
            "description": "",
            "description_tooltip": null,
            "layout": "IPY_MODEL_408c5aad4bdf470cad3b148f9297f6c2",
            "placeholder": "​",
            "style": "IPY_MODEL_e823aa8498dc483491d60b3e340daf3e",
            "value": "2o Laço:  99%"
          }
        },
        "8518596ea0ef425ab8f6b522071a49df": {
          "model_module": "@jupyter-widgets/controls",
          "model_name": "FloatProgressModel",
          "model_module_version": "1.5.0",
          "state": {
            "_dom_classes": [],
            "_model_module": "@jupyter-widgets/controls",
            "_model_module_version": "1.5.0",
            "_model_name": "FloatProgressModel",
            "_view_count": null,
            "_view_module": "@jupyter-widgets/controls",
            "_view_module_version": "1.5.0",
            "_view_name": "ProgressView",
            "bar_style": "",
            "description": "",
            "description_tooltip": null,
            "layout": "IPY_MODEL_bd2a04d2f3e347029ff827e31fd0af53",
            "max": 100,
            "min": 0,
            "orientation": "horizontal",
            "style": "IPY_MODEL_55d68deccbda4108901dac01a5cf8e25",
            "value": 100
          }
        },
        "60381b9302134258bbc9d940c42157e3": {
          "model_module": "@jupyter-widgets/controls",
          "model_name": "HTMLModel",
          "model_module_version": "1.5.0",
          "state": {
            "_dom_classes": [],
            "_model_module": "@jupyter-widgets/controls",
            "_model_module_version": "1.5.0",
            "_model_name": "HTMLModel",
            "_view_count": null,
            "_view_module": "@jupyter-widgets/controls",
            "_view_module_version": "1.5.0",
            "_view_name": "HTMLView",
            "description": "",
            "description_tooltip": null,
            "layout": "IPY_MODEL_d4cb576775f245fa9bfcd16f661005cc",
            "placeholder": "​",
            "style": "IPY_MODEL_da5104eafadc42c1a675f9d9e494c06c",
            "value": " 99/100 [00:02&lt;00:00, 48.44it/s]"
          }
        },
        "ffca2780c291420e9863f97861f7797a": {
          "model_module": "@jupyter-widgets/base",
          "model_name": "LayoutModel",
          "model_module_version": "1.2.0",
          "state": {
            "_model_module": "@jupyter-widgets/base",
            "_model_module_version": "1.2.0",
            "_model_name": "LayoutModel",
            "_view_count": null,
            "_view_module": "@jupyter-widgets/base",
            "_view_module_version": "1.2.0",
            "_view_name": "LayoutView",
            "align_content": null,
            "align_items": null,
            "align_self": null,
            "border": null,
            "bottom": null,
            "display": null,
            "flex": null,
            "flex_flow": null,
            "grid_area": null,
            "grid_auto_columns": null,
            "grid_auto_flow": null,
            "grid_auto_rows": null,
            "grid_column": null,
            "grid_gap": null,
            "grid_row": null,
            "grid_template_areas": null,
            "grid_template_columns": null,
            "grid_template_rows": null,
            "height": null,
            "justify_content": null,
            "justify_items": null,
            "left": null,
            "margin": null,
            "max_height": null,
            "max_width": null,
            "min_height": null,
            "min_width": null,
            "object_fit": null,
            "object_position": null,
            "order": null,
            "overflow": null,
            "overflow_x": null,
            "overflow_y": null,
            "padding": null,
            "right": null,
            "top": null,
            "visibility": "hidden",
            "width": null
          }
        },
        "408c5aad4bdf470cad3b148f9297f6c2": {
          "model_module": "@jupyter-widgets/base",
          "model_name": "LayoutModel",
          "model_module_version": "1.2.0",
          "state": {
            "_model_module": "@jupyter-widgets/base",
            "_model_module_version": "1.2.0",
            "_model_name": "LayoutModel",
            "_view_count": null,
            "_view_module": "@jupyter-widgets/base",
            "_view_module_version": "1.2.0",
            "_view_name": "LayoutView",
            "align_content": null,
            "align_items": null,
            "align_self": null,
            "border": null,
            "bottom": null,
            "display": null,
            "flex": null,
            "flex_flow": null,
            "grid_area": null,
            "grid_auto_columns": null,
            "grid_auto_flow": null,
            "grid_auto_rows": null,
            "grid_column": null,
            "grid_gap": null,
            "grid_row": null,
            "grid_template_areas": null,
            "grid_template_columns": null,
            "grid_template_rows": null,
            "height": null,
            "justify_content": null,
            "justify_items": null,
            "left": null,
            "margin": null,
            "max_height": null,
            "max_width": null,
            "min_height": null,
            "min_width": null,
            "object_fit": null,
            "object_position": null,
            "order": null,
            "overflow": null,
            "overflow_x": null,
            "overflow_y": null,
            "padding": null,
            "right": null,
            "top": null,
            "visibility": null,
            "width": null
          }
        },
        "e823aa8498dc483491d60b3e340daf3e": {
          "model_module": "@jupyter-widgets/controls",
          "model_name": "DescriptionStyleModel",
          "model_module_version": "1.5.0",
          "state": {
            "_model_module": "@jupyter-widgets/controls",
            "_model_module_version": "1.5.0",
            "_model_name": "DescriptionStyleModel",
            "_view_count": null,
            "_view_module": "@jupyter-widgets/base",
            "_view_module_version": "1.2.0",
            "_view_name": "StyleView",
            "description_width": ""
          }
        },
        "bd2a04d2f3e347029ff827e31fd0af53": {
          "model_module": "@jupyter-widgets/base",
          "model_name": "LayoutModel",
          "model_module_version": "1.2.0",
          "state": {
            "_model_module": "@jupyter-widgets/base",
            "_model_module_version": "1.2.0",
            "_model_name": "LayoutModel",
            "_view_count": null,
            "_view_module": "@jupyter-widgets/base",
            "_view_module_version": "1.2.0",
            "_view_name": "LayoutView",
            "align_content": null,
            "align_items": null,
            "align_self": null,
            "border": null,
            "bottom": null,
            "display": null,
            "flex": null,
            "flex_flow": null,
            "grid_area": null,
            "grid_auto_columns": null,
            "grid_auto_flow": null,
            "grid_auto_rows": null,
            "grid_column": null,
            "grid_gap": null,
            "grid_row": null,
            "grid_template_areas": null,
            "grid_template_columns": null,
            "grid_template_rows": null,
            "height": null,
            "justify_content": null,
            "justify_items": null,
            "left": null,
            "margin": null,
            "max_height": null,
            "max_width": null,
            "min_height": null,
            "min_width": null,
            "object_fit": null,
            "object_position": null,
            "order": null,
            "overflow": null,
            "overflow_x": null,
            "overflow_y": null,
            "padding": null,
            "right": null,
            "top": null,
            "visibility": null,
            "width": null
          }
        },
        "55d68deccbda4108901dac01a5cf8e25": {
          "model_module": "@jupyter-widgets/controls",
          "model_name": "ProgressStyleModel",
          "model_module_version": "1.5.0",
          "state": {
            "_model_module": "@jupyter-widgets/controls",
            "_model_module_version": "1.5.0",
            "_model_name": "ProgressStyleModel",
            "_view_count": null,
            "_view_module": "@jupyter-widgets/base",
            "_view_module_version": "1.2.0",
            "_view_name": "StyleView",
            "bar_color": null,
            "description_width": ""
          }
        },
        "d4cb576775f245fa9bfcd16f661005cc": {
          "model_module": "@jupyter-widgets/base",
          "model_name": "LayoutModel",
          "model_module_version": "1.2.0",
          "state": {
            "_model_module": "@jupyter-widgets/base",
            "_model_module_version": "1.2.0",
            "_model_name": "LayoutModel",
            "_view_count": null,
            "_view_module": "@jupyter-widgets/base",
            "_view_module_version": "1.2.0",
            "_view_name": "LayoutView",
            "align_content": null,
            "align_items": null,
            "align_self": null,
            "border": null,
            "bottom": null,
            "display": null,
            "flex": null,
            "flex_flow": null,
            "grid_area": null,
            "grid_auto_columns": null,
            "grid_auto_flow": null,
            "grid_auto_rows": null,
            "grid_column": null,
            "grid_gap": null,
            "grid_row": null,
            "grid_template_areas": null,
            "grid_template_columns": null,
            "grid_template_rows": null,
            "height": null,
            "justify_content": null,
            "justify_items": null,
            "left": null,
            "margin": null,
            "max_height": null,
            "max_width": null,
            "min_height": null,
            "min_width": null,
            "object_fit": null,
            "object_position": null,
            "order": null,
            "overflow": null,
            "overflow_x": null,
            "overflow_y": null,
            "padding": null,
            "right": null,
            "top": null,
            "visibility": null,
            "width": null
          }
        },
        "da5104eafadc42c1a675f9d9e494c06c": {
          "model_module": "@jupyter-widgets/controls",
          "model_name": "DescriptionStyleModel",
          "model_module_version": "1.5.0",
          "state": {
            "_model_module": "@jupyter-widgets/controls",
            "_model_module_version": "1.5.0",
            "_model_name": "DescriptionStyleModel",
            "_view_count": null,
            "_view_module": "@jupyter-widgets/base",
            "_view_module_version": "1.2.0",
            "_view_name": "StyleView",
            "description_width": ""
          }
        },
        "a4d19b3fa5804d03b867f29dc795ed99": {
          "model_module": "@jupyter-widgets/controls",
          "model_name": "HBoxModel",
          "model_module_version": "1.5.0",
          "state": {
            "_dom_classes": [],
            "_model_module": "@jupyter-widgets/controls",
            "_model_module_version": "1.5.0",
            "_model_name": "HBoxModel",
            "_view_count": null,
            "_view_module": "@jupyter-widgets/controls",
            "_view_module_version": "1.5.0",
            "_view_name": "HBoxView",
            "box_style": "",
            "children": [
              "IPY_MODEL_d20557de19d14c48957ad1359d7a4d95",
              "IPY_MODEL_72dc6d7114e64e7f8b4bfe25a81eae6b",
              "IPY_MODEL_6d945a5e80194cf086174f1846cd59b0"
            ],
            "layout": "IPY_MODEL_3cfabe6d8ea44fb487fb790c15a6f233"
          }
        },
        "d20557de19d14c48957ad1359d7a4d95": {
          "model_module": "@jupyter-widgets/controls",
          "model_name": "HTMLModel",
          "model_module_version": "1.5.0",
          "state": {
            "_dom_classes": [],
            "_model_module": "@jupyter-widgets/controls",
            "_model_module_version": "1.5.0",
            "_model_name": "HTMLModel",
            "_view_count": null,
            "_view_module": "@jupyter-widgets/controls",
            "_view_module_version": "1.5.0",
            "_view_name": "HTMLView",
            "description": "",
            "description_tooltip": null,
            "layout": "IPY_MODEL_962c98bcde0a4472ae00b5868e96d8b5",
            "placeholder": "​",
            "style": "IPY_MODEL_b1ac0ab0d12d473e8bafd757d7716b51",
            "value": "2o Laço:  99%"
          }
        },
        "72dc6d7114e64e7f8b4bfe25a81eae6b": {
          "model_module": "@jupyter-widgets/controls",
          "model_name": "FloatProgressModel",
          "model_module_version": "1.5.0",
          "state": {
            "_dom_classes": [],
            "_model_module": "@jupyter-widgets/controls",
            "_model_module_version": "1.5.0",
            "_model_name": "FloatProgressModel",
            "_view_count": null,
            "_view_module": "@jupyter-widgets/controls",
            "_view_module_version": "1.5.0",
            "_view_name": "ProgressView",
            "bar_style": "",
            "description": "",
            "description_tooltip": null,
            "layout": "IPY_MODEL_694d9263a7624bd6a0e57d152d4398ff",
            "max": 100,
            "min": 0,
            "orientation": "horizontal",
            "style": "IPY_MODEL_08205902fe414e49a9ecb0c623129892",
            "value": 100
          }
        },
        "6d945a5e80194cf086174f1846cd59b0": {
          "model_module": "@jupyter-widgets/controls",
          "model_name": "HTMLModel",
          "model_module_version": "1.5.0",
          "state": {
            "_dom_classes": [],
            "_model_module": "@jupyter-widgets/controls",
            "_model_module_version": "1.5.0",
            "_model_name": "HTMLModel",
            "_view_count": null,
            "_view_module": "@jupyter-widgets/controls",
            "_view_module_version": "1.5.0",
            "_view_name": "HTMLView",
            "description": "",
            "description_tooltip": null,
            "layout": "IPY_MODEL_c174c2b3c0b24f0685d7329413e18054",
            "placeholder": "​",
            "style": "IPY_MODEL_e4b6ef9503e34e22a7a5564ff078390a",
            "value": " 99/100 [00:02&lt;00:00, 47.95it/s]"
          }
        },
        "3cfabe6d8ea44fb487fb790c15a6f233": {
          "model_module": "@jupyter-widgets/base",
          "model_name": "LayoutModel",
          "model_module_version": "1.2.0",
          "state": {
            "_model_module": "@jupyter-widgets/base",
            "_model_module_version": "1.2.0",
            "_model_name": "LayoutModel",
            "_view_count": null,
            "_view_module": "@jupyter-widgets/base",
            "_view_module_version": "1.2.0",
            "_view_name": "LayoutView",
            "align_content": null,
            "align_items": null,
            "align_self": null,
            "border": null,
            "bottom": null,
            "display": null,
            "flex": null,
            "flex_flow": null,
            "grid_area": null,
            "grid_auto_columns": null,
            "grid_auto_flow": null,
            "grid_auto_rows": null,
            "grid_column": null,
            "grid_gap": null,
            "grid_row": null,
            "grid_template_areas": null,
            "grid_template_columns": null,
            "grid_template_rows": null,
            "height": null,
            "justify_content": null,
            "justify_items": null,
            "left": null,
            "margin": null,
            "max_height": null,
            "max_width": null,
            "min_height": null,
            "min_width": null,
            "object_fit": null,
            "object_position": null,
            "order": null,
            "overflow": null,
            "overflow_x": null,
            "overflow_y": null,
            "padding": null,
            "right": null,
            "top": null,
            "visibility": "hidden",
            "width": null
          }
        },
        "962c98bcde0a4472ae00b5868e96d8b5": {
          "model_module": "@jupyter-widgets/base",
          "model_name": "LayoutModel",
          "model_module_version": "1.2.0",
          "state": {
            "_model_module": "@jupyter-widgets/base",
            "_model_module_version": "1.2.0",
            "_model_name": "LayoutModel",
            "_view_count": null,
            "_view_module": "@jupyter-widgets/base",
            "_view_module_version": "1.2.0",
            "_view_name": "LayoutView",
            "align_content": null,
            "align_items": null,
            "align_self": null,
            "border": null,
            "bottom": null,
            "display": null,
            "flex": null,
            "flex_flow": null,
            "grid_area": null,
            "grid_auto_columns": null,
            "grid_auto_flow": null,
            "grid_auto_rows": null,
            "grid_column": null,
            "grid_gap": null,
            "grid_row": null,
            "grid_template_areas": null,
            "grid_template_columns": null,
            "grid_template_rows": null,
            "height": null,
            "justify_content": null,
            "justify_items": null,
            "left": null,
            "margin": null,
            "max_height": null,
            "max_width": null,
            "min_height": null,
            "min_width": null,
            "object_fit": null,
            "object_position": null,
            "order": null,
            "overflow": null,
            "overflow_x": null,
            "overflow_y": null,
            "padding": null,
            "right": null,
            "top": null,
            "visibility": null,
            "width": null
          }
        },
        "b1ac0ab0d12d473e8bafd757d7716b51": {
          "model_module": "@jupyter-widgets/controls",
          "model_name": "DescriptionStyleModel",
          "model_module_version": "1.5.0",
          "state": {
            "_model_module": "@jupyter-widgets/controls",
            "_model_module_version": "1.5.0",
            "_model_name": "DescriptionStyleModel",
            "_view_count": null,
            "_view_module": "@jupyter-widgets/base",
            "_view_module_version": "1.2.0",
            "_view_name": "StyleView",
            "description_width": ""
          }
        },
        "694d9263a7624bd6a0e57d152d4398ff": {
          "model_module": "@jupyter-widgets/base",
          "model_name": "LayoutModel",
          "model_module_version": "1.2.0",
          "state": {
            "_model_module": "@jupyter-widgets/base",
            "_model_module_version": "1.2.0",
            "_model_name": "LayoutModel",
            "_view_count": null,
            "_view_module": "@jupyter-widgets/base",
            "_view_module_version": "1.2.0",
            "_view_name": "LayoutView",
            "align_content": null,
            "align_items": null,
            "align_self": null,
            "border": null,
            "bottom": null,
            "display": null,
            "flex": null,
            "flex_flow": null,
            "grid_area": null,
            "grid_auto_columns": null,
            "grid_auto_flow": null,
            "grid_auto_rows": null,
            "grid_column": null,
            "grid_gap": null,
            "grid_row": null,
            "grid_template_areas": null,
            "grid_template_columns": null,
            "grid_template_rows": null,
            "height": null,
            "justify_content": null,
            "justify_items": null,
            "left": null,
            "margin": null,
            "max_height": null,
            "max_width": null,
            "min_height": null,
            "min_width": null,
            "object_fit": null,
            "object_position": null,
            "order": null,
            "overflow": null,
            "overflow_x": null,
            "overflow_y": null,
            "padding": null,
            "right": null,
            "top": null,
            "visibility": null,
            "width": null
          }
        },
        "08205902fe414e49a9ecb0c623129892": {
          "model_module": "@jupyter-widgets/controls",
          "model_name": "ProgressStyleModel",
          "model_module_version": "1.5.0",
          "state": {
            "_model_module": "@jupyter-widgets/controls",
            "_model_module_version": "1.5.0",
            "_model_name": "ProgressStyleModel",
            "_view_count": null,
            "_view_module": "@jupyter-widgets/base",
            "_view_module_version": "1.2.0",
            "_view_name": "StyleView",
            "bar_color": null,
            "description_width": ""
          }
        },
        "c174c2b3c0b24f0685d7329413e18054": {
          "model_module": "@jupyter-widgets/base",
          "model_name": "LayoutModel",
          "model_module_version": "1.2.0",
          "state": {
            "_model_module": "@jupyter-widgets/base",
            "_model_module_version": "1.2.0",
            "_model_name": "LayoutModel",
            "_view_count": null,
            "_view_module": "@jupyter-widgets/base",
            "_view_module_version": "1.2.0",
            "_view_name": "LayoutView",
            "align_content": null,
            "align_items": null,
            "align_self": null,
            "border": null,
            "bottom": null,
            "display": null,
            "flex": null,
            "flex_flow": null,
            "grid_area": null,
            "grid_auto_columns": null,
            "grid_auto_flow": null,
            "grid_auto_rows": null,
            "grid_column": null,
            "grid_gap": null,
            "grid_row": null,
            "grid_template_areas": null,
            "grid_template_columns": null,
            "grid_template_rows": null,
            "height": null,
            "justify_content": null,
            "justify_items": null,
            "left": null,
            "margin": null,
            "max_height": null,
            "max_width": null,
            "min_height": null,
            "min_width": null,
            "object_fit": null,
            "object_position": null,
            "order": null,
            "overflow": null,
            "overflow_x": null,
            "overflow_y": null,
            "padding": null,
            "right": null,
            "top": null,
            "visibility": null,
            "width": null
          }
        },
        "e4b6ef9503e34e22a7a5564ff078390a": {
          "model_module": "@jupyter-widgets/controls",
          "model_name": "DescriptionStyleModel",
          "model_module_version": "1.5.0",
          "state": {
            "_model_module": "@jupyter-widgets/controls",
            "_model_module_version": "1.5.0",
            "_model_name": "DescriptionStyleModel",
            "_view_count": null,
            "_view_module": "@jupyter-widgets/base",
            "_view_module_version": "1.2.0",
            "_view_name": "StyleView",
            "description_width": ""
          }
        },
        "cd6687c708834da297f81c73829838e1": {
          "model_module": "@jupyter-widgets/controls",
          "model_name": "HBoxModel",
          "model_module_version": "1.5.0",
          "state": {
            "_dom_classes": [],
            "_model_module": "@jupyter-widgets/controls",
            "_model_module_version": "1.5.0",
            "_model_name": "HBoxModel",
            "_view_count": null,
            "_view_module": "@jupyter-widgets/controls",
            "_view_module_version": "1.5.0",
            "_view_name": "HBoxView",
            "box_style": "",
            "children": [
              "IPY_MODEL_2205d0aad1274539a1e0adda412377d7",
              "IPY_MODEL_edd14e582d634fccb4584fcf25edea41",
              "IPY_MODEL_f2a9619d54c6421caf793d5f826fa03c"
            ],
            "layout": "IPY_MODEL_8bfd212f87854a369e3d97ed46ec9add"
          }
        },
        "2205d0aad1274539a1e0adda412377d7": {
          "model_module": "@jupyter-widgets/controls",
          "model_name": "HTMLModel",
          "model_module_version": "1.5.0",
          "state": {
            "_dom_classes": [],
            "_model_module": "@jupyter-widgets/controls",
            "_model_module_version": "1.5.0",
            "_model_name": "HTMLModel",
            "_view_count": null,
            "_view_module": "@jupyter-widgets/controls",
            "_view_module_version": "1.5.0",
            "_view_name": "HTMLView",
            "description": "",
            "description_tooltip": null,
            "layout": "IPY_MODEL_5b42cac637314c1ba17bdc5954c6be69",
            "placeholder": "​",
            "style": "IPY_MODEL_dff771d88b55425991b9cf1e79fa37f5",
            "value": "2o Laço:  98%"
          }
        },
        "edd14e582d634fccb4584fcf25edea41": {
          "model_module": "@jupyter-widgets/controls",
          "model_name": "FloatProgressModel",
          "model_module_version": "1.5.0",
          "state": {
            "_dom_classes": [],
            "_model_module": "@jupyter-widgets/controls",
            "_model_module_version": "1.5.0",
            "_model_name": "FloatProgressModel",
            "_view_count": null,
            "_view_module": "@jupyter-widgets/controls",
            "_view_module_version": "1.5.0",
            "_view_name": "ProgressView",
            "bar_style": "",
            "description": "",
            "description_tooltip": null,
            "layout": "IPY_MODEL_c43b22e0d7c6417e9b1ebdc1951fb412",
            "max": 100,
            "min": 0,
            "orientation": "horizontal",
            "style": "IPY_MODEL_8073fd08744c497081f3d04986354c73",
            "value": 100
          }
        },
        "f2a9619d54c6421caf793d5f826fa03c": {
          "model_module": "@jupyter-widgets/controls",
          "model_name": "HTMLModel",
          "model_module_version": "1.5.0",
          "state": {
            "_dom_classes": [],
            "_model_module": "@jupyter-widgets/controls",
            "_model_module_version": "1.5.0",
            "_model_name": "HTMLModel",
            "_view_count": null,
            "_view_module": "@jupyter-widgets/controls",
            "_view_module_version": "1.5.0",
            "_view_name": "HTMLView",
            "description": "",
            "description_tooltip": null,
            "layout": "IPY_MODEL_e9512576b6c9486193ac3e1c8b5b133f",
            "placeholder": "​",
            "style": "IPY_MODEL_4855547293cc489995fda28837bc4f6b",
            "value": " 98/100 [00:02&lt;00:00, 47.85it/s]"
          }
        },
        "8bfd212f87854a369e3d97ed46ec9add": {
          "model_module": "@jupyter-widgets/base",
          "model_name": "LayoutModel",
          "model_module_version": "1.2.0",
          "state": {
            "_model_module": "@jupyter-widgets/base",
            "_model_module_version": "1.2.0",
            "_model_name": "LayoutModel",
            "_view_count": null,
            "_view_module": "@jupyter-widgets/base",
            "_view_module_version": "1.2.0",
            "_view_name": "LayoutView",
            "align_content": null,
            "align_items": null,
            "align_self": null,
            "border": null,
            "bottom": null,
            "display": null,
            "flex": null,
            "flex_flow": null,
            "grid_area": null,
            "grid_auto_columns": null,
            "grid_auto_flow": null,
            "grid_auto_rows": null,
            "grid_column": null,
            "grid_gap": null,
            "grid_row": null,
            "grid_template_areas": null,
            "grid_template_columns": null,
            "grid_template_rows": null,
            "height": null,
            "justify_content": null,
            "justify_items": null,
            "left": null,
            "margin": null,
            "max_height": null,
            "max_width": null,
            "min_height": null,
            "min_width": null,
            "object_fit": null,
            "object_position": null,
            "order": null,
            "overflow": null,
            "overflow_x": null,
            "overflow_y": null,
            "padding": null,
            "right": null,
            "top": null,
            "visibility": "hidden",
            "width": null
          }
        },
        "5b42cac637314c1ba17bdc5954c6be69": {
          "model_module": "@jupyter-widgets/base",
          "model_name": "LayoutModel",
          "model_module_version": "1.2.0",
          "state": {
            "_model_module": "@jupyter-widgets/base",
            "_model_module_version": "1.2.0",
            "_model_name": "LayoutModel",
            "_view_count": null,
            "_view_module": "@jupyter-widgets/base",
            "_view_module_version": "1.2.0",
            "_view_name": "LayoutView",
            "align_content": null,
            "align_items": null,
            "align_self": null,
            "border": null,
            "bottom": null,
            "display": null,
            "flex": null,
            "flex_flow": null,
            "grid_area": null,
            "grid_auto_columns": null,
            "grid_auto_flow": null,
            "grid_auto_rows": null,
            "grid_column": null,
            "grid_gap": null,
            "grid_row": null,
            "grid_template_areas": null,
            "grid_template_columns": null,
            "grid_template_rows": null,
            "height": null,
            "justify_content": null,
            "justify_items": null,
            "left": null,
            "margin": null,
            "max_height": null,
            "max_width": null,
            "min_height": null,
            "min_width": null,
            "object_fit": null,
            "object_position": null,
            "order": null,
            "overflow": null,
            "overflow_x": null,
            "overflow_y": null,
            "padding": null,
            "right": null,
            "top": null,
            "visibility": null,
            "width": null
          }
        },
        "dff771d88b55425991b9cf1e79fa37f5": {
          "model_module": "@jupyter-widgets/controls",
          "model_name": "DescriptionStyleModel",
          "model_module_version": "1.5.0",
          "state": {
            "_model_module": "@jupyter-widgets/controls",
            "_model_module_version": "1.5.0",
            "_model_name": "DescriptionStyleModel",
            "_view_count": null,
            "_view_module": "@jupyter-widgets/base",
            "_view_module_version": "1.2.0",
            "_view_name": "StyleView",
            "description_width": ""
          }
        },
        "c43b22e0d7c6417e9b1ebdc1951fb412": {
          "model_module": "@jupyter-widgets/base",
          "model_name": "LayoutModel",
          "model_module_version": "1.2.0",
          "state": {
            "_model_module": "@jupyter-widgets/base",
            "_model_module_version": "1.2.0",
            "_model_name": "LayoutModel",
            "_view_count": null,
            "_view_module": "@jupyter-widgets/base",
            "_view_module_version": "1.2.0",
            "_view_name": "LayoutView",
            "align_content": null,
            "align_items": null,
            "align_self": null,
            "border": null,
            "bottom": null,
            "display": null,
            "flex": null,
            "flex_flow": null,
            "grid_area": null,
            "grid_auto_columns": null,
            "grid_auto_flow": null,
            "grid_auto_rows": null,
            "grid_column": null,
            "grid_gap": null,
            "grid_row": null,
            "grid_template_areas": null,
            "grid_template_columns": null,
            "grid_template_rows": null,
            "height": null,
            "justify_content": null,
            "justify_items": null,
            "left": null,
            "margin": null,
            "max_height": null,
            "max_width": null,
            "min_height": null,
            "min_width": null,
            "object_fit": null,
            "object_position": null,
            "order": null,
            "overflow": null,
            "overflow_x": null,
            "overflow_y": null,
            "padding": null,
            "right": null,
            "top": null,
            "visibility": null,
            "width": null
          }
        },
        "8073fd08744c497081f3d04986354c73": {
          "model_module": "@jupyter-widgets/controls",
          "model_name": "ProgressStyleModel",
          "model_module_version": "1.5.0",
          "state": {
            "_model_module": "@jupyter-widgets/controls",
            "_model_module_version": "1.5.0",
            "_model_name": "ProgressStyleModel",
            "_view_count": null,
            "_view_module": "@jupyter-widgets/base",
            "_view_module_version": "1.2.0",
            "_view_name": "StyleView",
            "bar_color": null,
            "description_width": ""
          }
        },
        "e9512576b6c9486193ac3e1c8b5b133f": {
          "model_module": "@jupyter-widgets/base",
          "model_name": "LayoutModel",
          "model_module_version": "1.2.0",
          "state": {
            "_model_module": "@jupyter-widgets/base",
            "_model_module_version": "1.2.0",
            "_model_name": "LayoutModel",
            "_view_count": null,
            "_view_module": "@jupyter-widgets/base",
            "_view_module_version": "1.2.0",
            "_view_name": "LayoutView",
            "align_content": null,
            "align_items": null,
            "align_self": null,
            "border": null,
            "bottom": null,
            "display": null,
            "flex": null,
            "flex_flow": null,
            "grid_area": null,
            "grid_auto_columns": null,
            "grid_auto_flow": null,
            "grid_auto_rows": null,
            "grid_column": null,
            "grid_gap": null,
            "grid_row": null,
            "grid_template_areas": null,
            "grid_template_columns": null,
            "grid_template_rows": null,
            "height": null,
            "justify_content": null,
            "justify_items": null,
            "left": null,
            "margin": null,
            "max_height": null,
            "max_width": null,
            "min_height": null,
            "min_width": null,
            "object_fit": null,
            "object_position": null,
            "order": null,
            "overflow": null,
            "overflow_x": null,
            "overflow_y": null,
            "padding": null,
            "right": null,
            "top": null,
            "visibility": null,
            "width": null
          }
        },
        "4855547293cc489995fda28837bc4f6b": {
          "model_module": "@jupyter-widgets/controls",
          "model_name": "DescriptionStyleModel",
          "model_module_version": "1.5.0",
          "state": {
            "_model_module": "@jupyter-widgets/controls",
            "_model_module_version": "1.5.0",
            "_model_name": "DescriptionStyleModel",
            "_view_count": null,
            "_view_module": "@jupyter-widgets/base",
            "_view_module_version": "1.2.0",
            "_view_name": "StyleView",
            "description_width": ""
          }
        },
        "1f9af5d5400e4cf197ba4a74450ca2a7": {
          "model_module": "@jupyter-widgets/controls",
          "model_name": "HBoxModel",
          "model_module_version": "1.5.0",
          "state": {
            "_dom_classes": [],
            "_model_module": "@jupyter-widgets/controls",
            "_model_module_version": "1.5.0",
            "_model_name": "HBoxModel",
            "_view_count": null,
            "_view_module": "@jupyter-widgets/controls",
            "_view_module_version": "1.5.0",
            "_view_name": "HBoxView",
            "box_style": "",
            "children": [
              "IPY_MODEL_1e8382b86efc449789c05f6720dee952",
              "IPY_MODEL_f02953ddb0c94ed8a9adad32fe57eac2",
              "IPY_MODEL_d02864544c304ca2b705298f48f71e5e"
            ],
            "layout": "IPY_MODEL_ee68ff42d94645f583ae74bf03f6f4fb"
          }
        },
        "1e8382b86efc449789c05f6720dee952": {
          "model_module": "@jupyter-widgets/controls",
          "model_name": "HTMLModel",
          "model_module_version": "1.5.0",
          "state": {
            "_dom_classes": [],
            "_model_module": "@jupyter-widgets/controls",
            "_model_module_version": "1.5.0",
            "_model_name": "HTMLModel",
            "_view_count": null,
            "_view_module": "@jupyter-widgets/controls",
            "_view_module_version": "1.5.0",
            "_view_name": "HTMLView",
            "description": "",
            "description_tooltip": null,
            "layout": "IPY_MODEL_83dfecc7840440a4afba18f88e344434",
            "placeholder": "​",
            "style": "IPY_MODEL_7829d3dc934f4743acf41198fed5dc7b",
            "value": "2o Laço:  98%"
          }
        },
        "f02953ddb0c94ed8a9adad32fe57eac2": {
          "model_module": "@jupyter-widgets/controls",
          "model_name": "FloatProgressModel",
          "model_module_version": "1.5.0",
          "state": {
            "_dom_classes": [],
            "_model_module": "@jupyter-widgets/controls",
            "_model_module_version": "1.5.0",
            "_model_name": "FloatProgressModel",
            "_view_count": null,
            "_view_module": "@jupyter-widgets/controls",
            "_view_module_version": "1.5.0",
            "_view_name": "ProgressView",
            "bar_style": "",
            "description": "",
            "description_tooltip": null,
            "layout": "IPY_MODEL_434225149e734169ab3bcbaf5d3e268f",
            "max": 100,
            "min": 0,
            "orientation": "horizontal",
            "style": "IPY_MODEL_ef17222daedc44e18e0ebb48f1f88788",
            "value": 100
          }
        },
        "d02864544c304ca2b705298f48f71e5e": {
          "model_module": "@jupyter-widgets/controls",
          "model_name": "HTMLModel",
          "model_module_version": "1.5.0",
          "state": {
            "_dom_classes": [],
            "_model_module": "@jupyter-widgets/controls",
            "_model_module_version": "1.5.0",
            "_model_name": "HTMLModel",
            "_view_count": null,
            "_view_module": "@jupyter-widgets/controls",
            "_view_module_version": "1.5.0",
            "_view_name": "HTMLView",
            "description": "",
            "description_tooltip": null,
            "layout": "IPY_MODEL_69fd8c24ada649fd89fa3f37525e94c7",
            "placeholder": "​",
            "style": "IPY_MODEL_e013fae83f7f4e82a0c5b7a582f38d96",
            "value": " 98/100 [00:02&lt;00:00, 48.86it/s]"
          }
        },
        "ee68ff42d94645f583ae74bf03f6f4fb": {
          "model_module": "@jupyter-widgets/base",
          "model_name": "LayoutModel",
          "model_module_version": "1.2.0",
          "state": {
            "_model_module": "@jupyter-widgets/base",
            "_model_module_version": "1.2.0",
            "_model_name": "LayoutModel",
            "_view_count": null,
            "_view_module": "@jupyter-widgets/base",
            "_view_module_version": "1.2.0",
            "_view_name": "LayoutView",
            "align_content": null,
            "align_items": null,
            "align_self": null,
            "border": null,
            "bottom": null,
            "display": null,
            "flex": null,
            "flex_flow": null,
            "grid_area": null,
            "grid_auto_columns": null,
            "grid_auto_flow": null,
            "grid_auto_rows": null,
            "grid_column": null,
            "grid_gap": null,
            "grid_row": null,
            "grid_template_areas": null,
            "grid_template_columns": null,
            "grid_template_rows": null,
            "height": null,
            "justify_content": null,
            "justify_items": null,
            "left": null,
            "margin": null,
            "max_height": null,
            "max_width": null,
            "min_height": null,
            "min_width": null,
            "object_fit": null,
            "object_position": null,
            "order": null,
            "overflow": null,
            "overflow_x": null,
            "overflow_y": null,
            "padding": null,
            "right": null,
            "top": null,
            "visibility": "hidden",
            "width": null
          }
        },
        "83dfecc7840440a4afba18f88e344434": {
          "model_module": "@jupyter-widgets/base",
          "model_name": "LayoutModel",
          "model_module_version": "1.2.0",
          "state": {
            "_model_module": "@jupyter-widgets/base",
            "_model_module_version": "1.2.0",
            "_model_name": "LayoutModel",
            "_view_count": null,
            "_view_module": "@jupyter-widgets/base",
            "_view_module_version": "1.2.0",
            "_view_name": "LayoutView",
            "align_content": null,
            "align_items": null,
            "align_self": null,
            "border": null,
            "bottom": null,
            "display": null,
            "flex": null,
            "flex_flow": null,
            "grid_area": null,
            "grid_auto_columns": null,
            "grid_auto_flow": null,
            "grid_auto_rows": null,
            "grid_column": null,
            "grid_gap": null,
            "grid_row": null,
            "grid_template_areas": null,
            "grid_template_columns": null,
            "grid_template_rows": null,
            "height": null,
            "justify_content": null,
            "justify_items": null,
            "left": null,
            "margin": null,
            "max_height": null,
            "max_width": null,
            "min_height": null,
            "min_width": null,
            "object_fit": null,
            "object_position": null,
            "order": null,
            "overflow": null,
            "overflow_x": null,
            "overflow_y": null,
            "padding": null,
            "right": null,
            "top": null,
            "visibility": null,
            "width": null
          }
        },
        "7829d3dc934f4743acf41198fed5dc7b": {
          "model_module": "@jupyter-widgets/controls",
          "model_name": "DescriptionStyleModel",
          "model_module_version": "1.5.0",
          "state": {
            "_model_module": "@jupyter-widgets/controls",
            "_model_module_version": "1.5.0",
            "_model_name": "DescriptionStyleModel",
            "_view_count": null,
            "_view_module": "@jupyter-widgets/base",
            "_view_module_version": "1.2.0",
            "_view_name": "StyleView",
            "description_width": ""
          }
        },
        "434225149e734169ab3bcbaf5d3e268f": {
          "model_module": "@jupyter-widgets/base",
          "model_name": "LayoutModel",
          "model_module_version": "1.2.0",
          "state": {
            "_model_module": "@jupyter-widgets/base",
            "_model_module_version": "1.2.0",
            "_model_name": "LayoutModel",
            "_view_count": null,
            "_view_module": "@jupyter-widgets/base",
            "_view_module_version": "1.2.0",
            "_view_name": "LayoutView",
            "align_content": null,
            "align_items": null,
            "align_self": null,
            "border": null,
            "bottom": null,
            "display": null,
            "flex": null,
            "flex_flow": null,
            "grid_area": null,
            "grid_auto_columns": null,
            "grid_auto_flow": null,
            "grid_auto_rows": null,
            "grid_column": null,
            "grid_gap": null,
            "grid_row": null,
            "grid_template_areas": null,
            "grid_template_columns": null,
            "grid_template_rows": null,
            "height": null,
            "justify_content": null,
            "justify_items": null,
            "left": null,
            "margin": null,
            "max_height": null,
            "max_width": null,
            "min_height": null,
            "min_width": null,
            "object_fit": null,
            "object_position": null,
            "order": null,
            "overflow": null,
            "overflow_x": null,
            "overflow_y": null,
            "padding": null,
            "right": null,
            "top": null,
            "visibility": null,
            "width": null
          }
        },
        "ef17222daedc44e18e0ebb48f1f88788": {
          "model_module": "@jupyter-widgets/controls",
          "model_name": "ProgressStyleModel",
          "model_module_version": "1.5.0",
          "state": {
            "_model_module": "@jupyter-widgets/controls",
            "_model_module_version": "1.5.0",
            "_model_name": "ProgressStyleModel",
            "_view_count": null,
            "_view_module": "@jupyter-widgets/base",
            "_view_module_version": "1.2.0",
            "_view_name": "StyleView",
            "bar_color": null,
            "description_width": ""
          }
        },
        "69fd8c24ada649fd89fa3f37525e94c7": {
          "model_module": "@jupyter-widgets/base",
          "model_name": "LayoutModel",
          "model_module_version": "1.2.0",
          "state": {
            "_model_module": "@jupyter-widgets/base",
            "_model_module_version": "1.2.0",
            "_model_name": "LayoutModel",
            "_view_count": null,
            "_view_module": "@jupyter-widgets/base",
            "_view_module_version": "1.2.0",
            "_view_name": "LayoutView",
            "align_content": null,
            "align_items": null,
            "align_self": null,
            "border": null,
            "bottom": null,
            "display": null,
            "flex": null,
            "flex_flow": null,
            "grid_area": null,
            "grid_auto_columns": null,
            "grid_auto_flow": null,
            "grid_auto_rows": null,
            "grid_column": null,
            "grid_gap": null,
            "grid_row": null,
            "grid_template_areas": null,
            "grid_template_columns": null,
            "grid_template_rows": null,
            "height": null,
            "justify_content": null,
            "justify_items": null,
            "left": null,
            "margin": null,
            "max_height": null,
            "max_width": null,
            "min_height": null,
            "min_width": null,
            "object_fit": null,
            "object_position": null,
            "order": null,
            "overflow": null,
            "overflow_x": null,
            "overflow_y": null,
            "padding": null,
            "right": null,
            "top": null,
            "visibility": null,
            "width": null
          }
        },
        "e013fae83f7f4e82a0c5b7a582f38d96": {
          "model_module": "@jupyter-widgets/controls",
          "model_name": "DescriptionStyleModel",
          "model_module_version": "1.5.0",
          "state": {
            "_model_module": "@jupyter-widgets/controls",
            "_model_module_version": "1.5.0",
            "_model_name": "DescriptionStyleModel",
            "_view_count": null,
            "_view_module": "@jupyter-widgets/base",
            "_view_module_version": "1.2.0",
            "_view_name": "StyleView",
            "description_width": ""
          }
        },
        "b44afa059e5b4caebeec04b29ab23477": {
          "model_module": "@jupyter-widgets/controls",
          "model_name": "HBoxModel",
          "model_module_version": "1.5.0",
          "state": {
            "_dom_classes": [],
            "_model_module": "@jupyter-widgets/controls",
            "_model_module_version": "1.5.0",
            "_model_name": "HBoxModel",
            "_view_count": null,
            "_view_module": "@jupyter-widgets/controls",
            "_view_module_version": "1.5.0",
            "_view_name": "HBoxView",
            "box_style": "",
            "children": [
              "IPY_MODEL_d18ceb4a5ef046aaa513805afdfacce5",
              "IPY_MODEL_698bbeb9f7ea4af0b26b7f340019e64d",
              "IPY_MODEL_b17f9374eb084cb4a621eb4900895df3"
            ],
            "layout": "IPY_MODEL_dcc9a37e1c714556ace2bf7ec20a11b9"
          }
        },
        "d18ceb4a5ef046aaa513805afdfacce5": {
          "model_module": "@jupyter-widgets/controls",
          "model_name": "HTMLModel",
          "model_module_version": "1.5.0",
          "state": {
            "_dom_classes": [],
            "_model_module": "@jupyter-widgets/controls",
            "_model_module_version": "1.5.0",
            "_model_name": "HTMLModel",
            "_view_count": null,
            "_view_module": "@jupyter-widgets/controls",
            "_view_module_version": "1.5.0",
            "_view_name": "HTMLView",
            "description": "",
            "description_tooltip": null,
            "layout": "IPY_MODEL_61a15431267843fd90bca3272c968287",
            "placeholder": "​",
            "style": "IPY_MODEL_a03b13f639f544359419dc3a29f939e5",
            "value": "2o Laço:  99%"
          }
        },
        "698bbeb9f7ea4af0b26b7f340019e64d": {
          "model_module": "@jupyter-widgets/controls",
          "model_name": "FloatProgressModel",
          "model_module_version": "1.5.0",
          "state": {
            "_dom_classes": [],
            "_model_module": "@jupyter-widgets/controls",
            "_model_module_version": "1.5.0",
            "_model_name": "FloatProgressModel",
            "_view_count": null,
            "_view_module": "@jupyter-widgets/controls",
            "_view_module_version": "1.5.0",
            "_view_name": "ProgressView",
            "bar_style": "",
            "description": "",
            "description_tooltip": null,
            "layout": "IPY_MODEL_1ea3d5f7f2214a5d89fa358ea4720cec",
            "max": 100,
            "min": 0,
            "orientation": "horizontal",
            "style": "IPY_MODEL_e589ad8bf9fa4347bde4d20bb93a2a9d",
            "value": 100
          }
        },
        "b17f9374eb084cb4a621eb4900895df3": {
          "model_module": "@jupyter-widgets/controls",
          "model_name": "HTMLModel",
          "model_module_version": "1.5.0",
          "state": {
            "_dom_classes": [],
            "_model_module": "@jupyter-widgets/controls",
            "_model_module_version": "1.5.0",
            "_model_name": "HTMLModel",
            "_view_count": null,
            "_view_module": "@jupyter-widgets/controls",
            "_view_module_version": "1.5.0",
            "_view_name": "HTMLView",
            "description": "",
            "description_tooltip": null,
            "layout": "IPY_MODEL_cdcadea830754ad780cc52280c2986fb",
            "placeholder": "​",
            "style": "IPY_MODEL_e73d4ce125fb4ab19b6dcd058ffdc4ae",
            "value": " 99/100 [00:02&lt;00:00, 48.42it/s]"
          }
        },
        "dcc9a37e1c714556ace2bf7ec20a11b9": {
          "model_module": "@jupyter-widgets/base",
          "model_name": "LayoutModel",
          "model_module_version": "1.2.0",
          "state": {
            "_model_module": "@jupyter-widgets/base",
            "_model_module_version": "1.2.0",
            "_model_name": "LayoutModel",
            "_view_count": null,
            "_view_module": "@jupyter-widgets/base",
            "_view_module_version": "1.2.0",
            "_view_name": "LayoutView",
            "align_content": null,
            "align_items": null,
            "align_self": null,
            "border": null,
            "bottom": null,
            "display": null,
            "flex": null,
            "flex_flow": null,
            "grid_area": null,
            "grid_auto_columns": null,
            "grid_auto_flow": null,
            "grid_auto_rows": null,
            "grid_column": null,
            "grid_gap": null,
            "grid_row": null,
            "grid_template_areas": null,
            "grid_template_columns": null,
            "grid_template_rows": null,
            "height": null,
            "justify_content": null,
            "justify_items": null,
            "left": null,
            "margin": null,
            "max_height": null,
            "max_width": null,
            "min_height": null,
            "min_width": null,
            "object_fit": null,
            "object_position": null,
            "order": null,
            "overflow": null,
            "overflow_x": null,
            "overflow_y": null,
            "padding": null,
            "right": null,
            "top": null,
            "visibility": "hidden",
            "width": null
          }
        },
        "61a15431267843fd90bca3272c968287": {
          "model_module": "@jupyter-widgets/base",
          "model_name": "LayoutModel",
          "model_module_version": "1.2.0",
          "state": {
            "_model_module": "@jupyter-widgets/base",
            "_model_module_version": "1.2.0",
            "_model_name": "LayoutModel",
            "_view_count": null,
            "_view_module": "@jupyter-widgets/base",
            "_view_module_version": "1.2.0",
            "_view_name": "LayoutView",
            "align_content": null,
            "align_items": null,
            "align_self": null,
            "border": null,
            "bottom": null,
            "display": null,
            "flex": null,
            "flex_flow": null,
            "grid_area": null,
            "grid_auto_columns": null,
            "grid_auto_flow": null,
            "grid_auto_rows": null,
            "grid_column": null,
            "grid_gap": null,
            "grid_row": null,
            "grid_template_areas": null,
            "grid_template_columns": null,
            "grid_template_rows": null,
            "height": null,
            "justify_content": null,
            "justify_items": null,
            "left": null,
            "margin": null,
            "max_height": null,
            "max_width": null,
            "min_height": null,
            "min_width": null,
            "object_fit": null,
            "object_position": null,
            "order": null,
            "overflow": null,
            "overflow_x": null,
            "overflow_y": null,
            "padding": null,
            "right": null,
            "top": null,
            "visibility": null,
            "width": null
          }
        },
        "a03b13f639f544359419dc3a29f939e5": {
          "model_module": "@jupyter-widgets/controls",
          "model_name": "DescriptionStyleModel",
          "model_module_version": "1.5.0",
          "state": {
            "_model_module": "@jupyter-widgets/controls",
            "_model_module_version": "1.5.0",
            "_model_name": "DescriptionStyleModel",
            "_view_count": null,
            "_view_module": "@jupyter-widgets/base",
            "_view_module_version": "1.2.0",
            "_view_name": "StyleView",
            "description_width": ""
          }
        },
        "1ea3d5f7f2214a5d89fa358ea4720cec": {
          "model_module": "@jupyter-widgets/base",
          "model_name": "LayoutModel",
          "model_module_version": "1.2.0",
          "state": {
            "_model_module": "@jupyter-widgets/base",
            "_model_module_version": "1.2.0",
            "_model_name": "LayoutModel",
            "_view_count": null,
            "_view_module": "@jupyter-widgets/base",
            "_view_module_version": "1.2.0",
            "_view_name": "LayoutView",
            "align_content": null,
            "align_items": null,
            "align_self": null,
            "border": null,
            "bottom": null,
            "display": null,
            "flex": null,
            "flex_flow": null,
            "grid_area": null,
            "grid_auto_columns": null,
            "grid_auto_flow": null,
            "grid_auto_rows": null,
            "grid_column": null,
            "grid_gap": null,
            "grid_row": null,
            "grid_template_areas": null,
            "grid_template_columns": null,
            "grid_template_rows": null,
            "height": null,
            "justify_content": null,
            "justify_items": null,
            "left": null,
            "margin": null,
            "max_height": null,
            "max_width": null,
            "min_height": null,
            "min_width": null,
            "object_fit": null,
            "object_position": null,
            "order": null,
            "overflow": null,
            "overflow_x": null,
            "overflow_y": null,
            "padding": null,
            "right": null,
            "top": null,
            "visibility": null,
            "width": null
          }
        },
        "e589ad8bf9fa4347bde4d20bb93a2a9d": {
          "model_module": "@jupyter-widgets/controls",
          "model_name": "ProgressStyleModel",
          "model_module_version": "1.5.0",
          "state": {
            "_model_module": "@jupyter-widgets/controls",
            "_model_module_version": "1.5.0",
            "_model_name": "ProgressStyleModel",
            "_view_count": null,
            "_view_module": "@jupyter-widgets/base",
            "_view_module_version": "1.2.0",
            "_view_name": "StyleView",
            "bar_color": null,
            "description_width": ""
          }
        },
        "cdcadea830754ad780cc52280c2986fb": {
          "model_module": "@jupyter-widgets/base",
          "model_name": "LayoutModel",
          "model_module_version": "1.2.0",
          "state": {
            "_model_module": "@jupyter-widgets/base",
            "_model_module_version": "1.2.0",
            "_model_name": "LayoutModel",
            "_view_count": null,
            "_view_module": "@jupyter-widgets/base",
            "_view_module_version": "1.2.0",
            "_view_name": "LayoutView",
            "align_content": null,
            "align_items": null,
            "align_self": null,
            "border": null,
            "bottom": null,
            "display": null,
            "flex": null,
            "flex_flow": null,
            "grid_area": null,
            "grid_auto_columns": null,
            "grid_auto_flow": null,
            "grid_auto_rows": null,
            "grid_column": null,
            "grid_gap": null,
            "grid_row": null,
            "grid_template_areas": null,
            "grid_template_columns": null,
            "grid_template_rows": null,
            "height": null,
            "justify_content": null,
            "justify_items": null,
            "left": null,
            "margin": null,
            "max_height": null,
            "max_width": null,
            "min_height": null,
            "min_width": null,
            "object_fit": null,
            "object_position": null,
            "order": null,
            "overflow": null,
            "overflow_x": null,
            "overflow_y": null,
            "padding": null,
            "right": null,
            "top": null,
            "visibility": null,
            "width": null
          }
        },
        "e73d4ce125fb4ab19b6dcd058ffdc4ae": {
          "model_module": "@jupyter-widgets/controls",
          "model_name": "DescriptionStyleModel",
          "model_module_version": "1.5.0",
          "state": {
            "_model_module": "@jupyter-widgets/controls",
            "_model_module_version": "1.5.0",
            "_model_name": "DescriptionStyleModel",
            "_view_count": null,
            "_view_module": "@jupyter-widgets/base",
            "_view_module_version": "1.2.0",
            "_view_name": "StyleView",
            "description_width": ""
          }
        },
        "eb0f03d353b549a4b84918178a33abdf": {
          "model_module": "@jupyter-widgets/controls",
          "model_name": "HBoxModel",
          "model_module_version": "1.5.0",
          "state": {
            "_dom_classes": [],
            "_model_module": "@jupyter-widgets/controls",
            "_model_module_version": "1.5.0",
            "_model_name": "HBoxModel",
            "_view_count": null,
            "_view_module": "@jupyter-widgets/controls",
            "_view_module_version": "1.5.0",
            "_view_name": "HBoxView",
            "box_style": "",
            "children": [
              "IPY_MODEL_ac4bc808813a4045b0f54006e67f1748",
              "IPY_MODEL_a7ffbf2e49dd44f580d6689507191abb",
              "IPY_MODEL_8527d675e2ad4dbc9aa1a64072e48f67"
            ],
            "layout": "IPY_MODEL_fd760d1f80e845b788975185b79e34bb"
          }
        },
        "ac4bc808813a4045b0f54006e67f1748": {
          "model_module": "@jupyter-widgets/controls",
          "model_name": "HTMLModel",
          "model_module_version": "1.5.0",
          "state": {
            "_dom_classes": [],
            "_model_module": "@jupyter-widgets/controls",
            "_model_module_version": "1.5.0",
            "_model_name": "HTMLModel",
            "_view_count": null,
            "_view_module": "@jupyter-widgets/controls",
            "_view_module_version": "1.5.0",
            "_view_name": "HTMLView",
            "description": "",
            "description_tooltip": null,
            "layout": "IPY_MODEL_6446400a6e17406887120b8154a4d54f",
            "placeholder": "​",
            "style": "IPY_MODEL_fb642bf78dec43979b8fb8f80d8c9764",
            "value": "Clientes: 100%"
          }
        },
        "a7ffbf2e49dd44f580d6689507191abb": {
          "model_module": "@jupyter-widgets/controls",
          "model_name": "FloatProgressModel",
          "model_module_version": "1.5.0",
          "state": {
            "_dom_classes": [],
            "_model_module": "@jupyter-widgets/controls",
            "_model_module_version": "1.5.0",
            "_model_name": "FloatProgressModel",
            "_view_count": null,
            "_view_module": "@jupyter-widgets/controls",
            "_view_module_version": "1.5.0",
            "_view_name": "ProgressView",
            "bar_style": "success",
            "description": "",
            "description_tooltip": null,
            "layout": "IPY_MODEL_e657ef14b8e945479d71d096dfab347a",
            "max": 5,
            "min": 0,
            "orientation": "horizontal",
            "style": "IPY_MODEL_7723b1a62967402e8641112d38e07424",
            "value": 5
          }
        },
        "8527d675e2ad4dbc9aa1a64072e48f67": {
          "model_module": "@jupyter-widgets/controls",
          "model_name": "HTMLModel",
          "model_module_version": "1.5.0",
          "state": {
            "_dom_classes": [],
            "_model_module": "@jupyter-widgets/controls",
            "_model_module_version": "1.5.0",
            "_model_name": "HTMLModel",
            "_view_count": null,
            "_view_module": "@jupyter-widgets/controls",
            "_view_module_version": "1.5.0",
            "_view_name": "HTMLView",
            "description": "",
            "description_tooltip": null,
            "layout": "IPY_MODEL_b5d930e694ae4edab49a808564167e01",
            "placeholder": "​",
            "style": "IPY_MODEL_c44bf0e4dc66483b9b2acbdf40487b39",
            "value": " 5/5 [00:05&lt;00:00,  1.01s/cliente]"
          }
        },
        "fd760d1f80e845b788975185b79e34bb": {
          "model_module": "@jupyter-widgets/base",
          "model_name": "LayoutModel",
          "model_module_version": "1.2.0",
          "state": {
            "_model_module": "@jupyter-widgets/base",
            "_model_module_version": "1.2.0",
            "_model_name": "LayoutModel",
            "_view_count": null,
            "_view_module": "@jupyter-widgets/base",
            "_view_module_version": "1.2.0",
            "_view_name": "LayoutView",
            "align_content": null,
            "align_items": null,
            "align_self": null,
            "border": null,
            "bottom": null,
            "display": null,
            "flex": null,
            "flex_flow": null,
            "grid_area": null,
            "grid_auto_columns": null,
            "grid_auto_flow": null,
            "grid_auto_rows": null,
            "grid_column": null,
            "grid_gap": null,
            "grid_row": null,
            "grid_template_areas": null,
            "grid_template_columns": null,
            "grid_template_rows": null,
            "height": null,
            "justify_content": null,
            "justify_items": null,
            "left": null,
            "margin": null,
            "max_height": null,
            "max_width": null,
            "min_height": null,
            "min_width": null,
            "object_fit": null,
            "object_position": null,
            "order": null,
            "overflow": null,
            "overflow_x": null,
            "overflow_y": null,
            "padding": null,
            "right": null,
            "top": null,
            "visibility": null,
            "width": null
          }
        },
        "6446400a6e17406887120b8154a4d54f": {
          "model_module": "@jupyter-widgets/base",
          "model_name": "LayoutModel",
          "model_module_version": "1.2.0",
          "state": {
            "_model_module": "@jupyter-widgets/base",
            "_model_module_version": "1.2.0",
            "_model_name": "LayoutModel",
            "_view_count": null,
            "_view_module": "@jupyter-widgets/base",
            "_view_module_version": "1.2.0",
            "_view_name": "LayoutView",
            "align_content": null,
            "align_items": null,
            "align_self": null,
            "border": null,
            "bottom": null,
            "display": null,
            "flex": null,
            "flex_flow": null,
            "grid_area": null,
            "grid_auto_columns": null,
            "grid_auto_flow": null,
            "grid_auto_rows": null,
            "grid_column": null,
            "grid_gap": null,
            "grid_row": null,
            "grid_template_areas": null,
            "grid_template_columns": null,
            "grid_template_rows": null,
            "height": null,
            "justify_content": null,
            "justify_items": null,
            "left": null,
            "margin": null,
            "max_height": null,
            "max_width": null,
            "min_height": null,
            "min_width": null,
            "object_fit": null,
            "object_position": null,
            "order": null,
            "overflow": null,
            "overflow_x": null,
            "overflow_y": null,
            "padding": null,
            "right": null,
            "top": null,
            "visibility": null,
            "width": null
          }
        },
        "fb642bf78dec43979b8fb8f80d8c9764": {
          "model_module": "@jupyter-widgets/controls",
          "model_name": "DescriptionStyleModel",
          "model_module_version": "1.5.0",
          "state": {
            "_model_module": "@jupyter-widgets/controls",
            "_model_module_version": "1.5.0",
            "_model_name": "DescriptionStyleModel",
            "_view_count": null,
            "_view_module": "@jupyter-widgets/base",
            "_view_module_version": "1.2.0",
            "_view_name": "StyleView",
            "description_width": ""
          }
        },
        "e657ef14b8e945479d71d096dfab347a": {
          "model_module": "@jupyter-widgets/base",
          "model_name": "LayoutModel",
          "model_module_version": "1.2.0",
          "state": {
            "_model_module": "@jupyter-widgets/base",
            "_model_module_version": "1.2.0",
            "_model_name": "LayoutModel",
            "_view_count": null,
            "_view_module": "@jupyter-widgets/base",
            "_view_module_version": "1.2.0",
            "_view_name": "LayoutView",
            "align_content": null,
            "align_items": null,
            "align_self": null,
            "border": null,
            "bottom": null,
            "display": null,
            "flex": null,
            "flex_flow": null,
            "grid_area": null,
            "grid_auto_columns": null,
            "grid_auto_flow": null,
            "grid_auto_rows": null,
            "grid_column": null,
            "grid_gap": null,
            "grid_row": null,
            "grid_template_areas": null,
            "grid_template_columns": null,
            "grid_template_rows": null,
            "height": null,
            "justify_content": null,
            "justify_items": null,
            "left": null,
            "margin": null,
            "max_height": null,
            "max_width": null,
            "min_height": null,
            "min_width": null,
            "object_fit": null,
            "object_position": null,
            "order": null,
            "overflow": null,
            "overflow_x": null,
            "overflow_y": null,
            "padding": null,
            "right": null,
            "top": null,
            "visibility": null,
            "width": null
          }
        },
        "7723b1a62967402e8641112d38e07424": {
          "model_module": "@jupyter-widgets/controls",
          "model_name": "ProgressStyleModel",
          "model_module_version": "1.5.0",
          "state": {
            "_model_module": "@jupyter-widgets/controls",
            "_model_module_version": "1.5.0",
            "_model_name": "ProgressStyleModel",
            "_view_count": null,
            "_view_module": "@jupyter-widgets/base",
            "_view_module_version": "1.2.0",
            "_view_name": "StyleView",
            "bar_color": null,
            "description_width": ""
          }
        },
        "b5d930e694ae4edab49a808564167e01": {
          "model_module": "@jupyter-widgets/base",
          "model_name": "LayoutModel",
          "model_module_version": "1.2.0",
          "state": {
            "_model_module": "@jupyter-widgets/base",
            "_model_module_version": "1.2.0",
            "_model_name": "LayoutModel",
            "_view_count": null,
            "_view_module": "@jupyter-widgets/base",
            "_view_module_version": "1.2.0",
            "_view_name": "LayoutView",
            "align_content": null,
            "align_items": null,
            "align_self": null,
            "border": null,
            "bottom": null,
            "display": null,
            "flex": null,
            "flex_flow": null,
            "grid_area": null,
            "grid_auto_columns": null,
            "grid_auto_flow": null,
            "grid_auto_rows": null,
            "grid_column": null,
            "grid_gap": null,
            "grid_row": null,
            "grid_template_areas": null,
            "grid_template_columns": null,
            "grid_template_rows": null,
            "height": null,
            "justify_content": null,
            "justify_items": null,
            "left": null,
            "margin": null,
            "max_height": null,
            "max_width": null,
            "min_height": null,
            "min_width": null,
            "object_fit": null,
            "object_position": null,
            "order": null,
            "overflow": null,
            "overflow_x": null,
            "overflow_y": null,
            "padding": null,
            "right": null,
            "top": null,
            "visibility": null,
            "width": null
          }
        },
        "c44bf0e4dc66483b9b2acbdf40487b39": {
          "model_module": "@jupyter-widgets/controls",
          "model_name": "DescriptionStyleModel",
          "model_module_version": "1.5.0",
          "state": {
            "_model_module": "@jupyter-widgets/controls",
            "_model_module_version": "1.5.0",
            "_model_name": "DescriptionStyleModel",
            "_view_count": null,
            "_view_module": "@jupyter-widgets/base",
            "_view_module_version": "1.2.0",
            "_view_name": "StyleView",
            "description_width": ""
          }
        }
      }
    }
  },
  "cells": [
    {
      "cell_type": "markdown",
      "metadata": {
        "id": "view-in-github",
        "colab_type": "text"
      },
      "source": [
        "<a href=\"https://colab.research.google.com/github/osmarbraz/exemplos_python/blob/master/ExemplosPython.ipynb\" target=\"_parent\"><img src=\"https://colab.research.google.com/assets/colab-badge.svg\" alt=\"Open In Colab\"/></a>"
      ]
    },
    {
      "cell_type": "markdown",
      "metadata": {
        "id": "xY84ChCNzmQQ"
      },
      "source": [
        "# Exemplos Python no Google Colaboratory"
      ]
    },
    {
      "cell_type": "markdown",
      "metadata": {
        "id": "KoMscP0Jo5rw"
      },
      "source": [
        "Exemplos básicos em python:\n",
        "- Tipos primitivos;\n",
        "- Operadores;\n",
        "- Funções Matemáticas;\n",
        "- Saída de dados\n",
        "- Estruturas condicionais;\n",
        "- Estruturas de repetição;\n",
        "- Tratamento de mensagens;\n",
        "- Comandos Bash;\n",
        "- Tradução de textos;\n",
        "- Remoção de Tags HTML;\n",
        "- Funções;\n",
        "- Mensagem e barra de progresso;\n",
        "- Funções de tempo;\n",
        "- Roleta;\n",
        "- Versão Python;\n",
        "- Previnir desconexão sessão;\n",
        "-----------------------------------------\n",
        "**Guia Colab Iniciante:**\n",
        "\n",
        "https://medium.com/machina-sapiens/google-colab-guia-do-iniciante-334d70aad531\n",
        "\n",
        "**Documentação oficial:**\n",
        "\n",
        "https://colab.research.google.com/github/jakevdp/PythonDataScienceHandbook/blob/master/notebooks/01.01-Help-And-Documentation.ipynb\n",
        "\n",
        "**Características :**\n",
        "\n",
        "https://colab.research.google.com/notebooks/basic_features_overview.ipynb\n"
      ]
    },
    {
      "cell_type": "markdown",
      "source": [
        "# Ambiente\n",
        "\n",
        "Células do tipo `Código` (*Code*) executam código e células do tipo `texto` (*Markdown*) permitem escrever texto;\n",
        "\n",
        "Comandos:\n",
        "\n",
        "|Comando |  Descrição |\n",
        "|-|-|\n",
        "| `Enter`        | Entrar no *modo de Edição*  |\n",
        "| `Esc`          | Entrar no *modo de Comando* |\n",
        "| `Ctrl + Enter` | Executar célula selecionada                |\n",
        "\n",
        "\n",
        "\n",
        "| **No Modo de Comando**|  |\n",
        "|-|-|\n",
        "| `a`            | Adicionar célula acima    |\n",
        "| `b`            | Adicionar célula abaixo    |\n",
        "\n"
      ],
      "metadata": {
        "id": "W8FfJTdKlbfn"
      }
    },
    {
      "cell_type": "markdown",
      "metadata": {
        "id": "IAQcH7kh3cmD"
      },
      "source": [
        "# Tipos primitivos"
      ]
    },
    {
      "cell_type": "markdown",
      "metadata": {
        "id": "eK55gNwoRrBC"
      },
      "source": [
        "##Tipos de dados\n",
        "Existem 4 tipos numéricos:\n",
        "*  inteiro (int)\n",
        "*  ponto flutuante (float)\n",
        "*  booleano (bool)\n",
        "*  complexo (complex)"
      ]
    },
    {
      "cell_type": "code",
      "metadata": {
        "colab": {
          "base_uri": "https://localhost:8080/"
        },
        "id": "v8W6YPbURtbx",
        "outputId": "8cf353dc-8283-458b-de79-6110ac290087"
      },
      "source": [
        "# Inteiros\n",
        "inteiro = 28\n",
        "print(inteiro)\n",
        "\n",
        "# type mostra o tipo de uma variável\n",
        "print(type(inteiro))\n",
        "\n",
        "# Ponto flutuante\n",
        "real = 3.1415\n",
        "print(real)\n",
        "\n",
        "#type mostra o tipo de uma variável\n",
        "print(type(real))\n",
        "\n",
        "# String\n",
        "nome = \"Pedro\"\n",
        "print(nome)\n",
        "# type mostra o tipo de uma variável\n",
        "print(type(nome))\n",
        "\n",
        "# Boolean\n",
        "chave = True\n",
        "print(chave)\n",
        "\n",
        "# type mostra o tipo de uma variável\n",
        "print(type(chave))\n",
        "\n",
        "# Complexo\n",
        "complexo = 4+3j\n",
        "print(complexo)\n",
        "\n",
        "# type mostra o tipo de uma variável\n",
        "print(type(complexo))"
      ],
      "execution_count": 1,
      "outputs": [
        {
          "output_type": "stream",
          "name": "stdout",
          "text": [
            "28\n",
            "<class 'int'>\n",
            "3.1415\n",
            "<class 'float'>\n",
            "Pedro\n",
            "<class 'str'>\n",
            "True\n",
            "<class 'bool'>\n",
            "(4+3j)\n",
            "<class 'complex'>\n"
          ]
        }
      ]
    },
    {
      "cell_type": "markdown",
      "metadata": {
        "id": "FFyCLoRDNBN5"
      },
      "source": [
        "## Conversão de Tipo\n",
        "\n",
        "https://www.digitalocean.com/community/tutorials/how-to-convert-data-types-in-python-3"
      ]
    },
    {
      "cell_type": "markdown",
      "metadata": {
        "id": "nk3O9-gbUFrk"
      },
      "source": [
        "int para float"
      ]
    },
    {
      "cell_type": "code",
      "metadata": {
        "colab": {
          "base_uri": "https://localhost:8080/"
        },
        "id": "o-PkSCYkUFBz",
        "outputId": "f88d1695-300a-48c5-9bdd-0e7652bf923c"
      },
      "source": [
        "variavel_int = 10\n",
        "print(type(variavel_int))\n",
        "print(variavel_int)\n",
        "\n",
        "#conversão\n",
        "variavel_real = float(variavel_int)\n",
        "print(type(variavel_real))\n",
        "print(variavel_real)"
      ],
      "execution_count": 2,
      "outputs": [
        {
          "output_type": "stream",
          "name": "stdout",
          "text": [
            "<class 'int'>\n",
            "10\n",
            "<class 'float'>\n",
            "10.0\n"
          ]
        }
      ]
    },
    {
      "cell_type": "markdown",
      "metadata": {
        "id": "Ea3JlQiPUTn1"
      },
      "source": [
        "float para int"
      ]
    },
    {
      "cell_type": "code",
      "metadata": {
        "colab": {
          "base_uri": "https://localhost:8080/"
        },
        "id": "c0gIL7FRUTn3",
        "outputId": "0e4d85e9-9122-498f-db6e-6da73e91486a"
      },
      "source": [
        "variavel_real = 10.0\n",
        "print(type(variavel_real))\n",
        "print(variavel_real)\n",
        "\n",
        "#conversão\n",
        "variavel_int = int(variavel_real)\n",
        "print(type(variavel_int))\n",
        "print(variavel_int)\n"
      ],
      "execution_count": 3,
      "outputs": [
        {
          "output_type": "stream",
          "name": "stdout",
          "text": [
            "<class 'float'>\n",
            "10.0\n",
            "<class 'int'>\n",
            "10\n"
          ]
        }
      ]
    },
    {
      "cell_type": "markdown",
      "metadata": {
        "id": "-0dKcWaLNTaU"
      },
      "source": [
        "int para string"
      ]
    },
    {
      "cell_type": "code",
      "metadata": {
        "colab": {
          "base_uri": "https://localhost:8080/"
        },
        "id": "FTiM5w34ND_Q",
        "outputId": "4dff1fed-fab2-4cf3-c642-d04d78c03c4b"
      },
      "source": [
        "variavel_int = 123\n",
        "print(type(variavel_int))\n",
        "print(variavel_int)\n",
        "\n",
        "#conversão\n",
        "variavel_str = str(variavel_int)\n",
        "print(type(variavel_str))\n",
        "print(variavel_str)"
      ],
      "execution_count": 4,
      "outputs": [
        {
          "output_type": "stream",
          "name": "stdout",
          "text": [
            "<class 'int'>\n",
            "123\n",
            "<class 'str'>\n",
            "123\n"
          ]
        }
      ]
    },
    {
      "cell_type": "markdown",
      "source": [
        "bool para int"
      ],
      "metadata": {
        "id": "IDAEFxYa7Ysv"
      }
    },
    {
      "cell_type": "code",
      "source": [
        "variavel_booleana = True\n",
        "print(type(variavel_booleana))\n",
        "print(variavel_booleana)\n",
        "\n",
        "#conversão\n",
        "variavel_int = int(variavel_booleana)\n",
        "print(type(variavel_int))\n",
        "print(variavel_int)"
      ],
      "metadata": {
        "colab": {
          "base_uri": "https://localhost:8080/"
        },
        "id": "hKhiLXNE7bsG",
        "outputId": "89bd5129-af65-4cf8-9db3-6b56c0ab1cf7"
      },
      "execution_count": 5,
      "outputs": [
        {
          "output_type": "stream",
          "name": "stdout",
          "text": [
            "<class 'bool'>\n",
            "True\n",
            "<class 'int'>\n",
            "1\n"
          ]
        }
      ]
    },
    {
      "cell_type": "markdown",
      "source": [
        "bool para string"
      ],
      "metadata": {
        "id": "dh525j9Z7-p-"
      }
    },
    {
      "cell_type": "code",
      "source": [
        "variavel_booleana = True\n",
        "print(type(variavel_booleana))\n",
        "print(variavel_booleana)\n",
        "\n",
        "#conversão\n",
        "variavel_str = str(variavel_booleana)\n",
        "print(type(variavel_str))\n",
        "print(variavel_str)"
      ],
      "metadata": {
        "colab": {
          "base_uri": "https://localhost:8080/"
        },
        "id": "zmvGo1TM797b",
        "outputId": "90bf4588-892c-42e4-a00a-2c6dbbde6bd2"
      },
      "execution_count": 6,
      "outputs": [
        {
          "output_type": "stream",
          "name": "stdout",
          "text": [
            "<class 'bool'>\n",
            "True\n",
            "<class 'str'>\n",
            "True\n"
          ]
        }
      ]
    },
    {
      "cell_type": "markdown",
      "metadata": {
        "id": "aOktXtrdNWNP"
      },
      "source": [
        "Concatenando int com string"
      ]
    },
    {
      "cell_type": "code",
      "metadata": {
        "colab": {
          "base_uri": "https://localhost:8080/"
        },
        "id": "e4NyCSIFNYwq",
        "outputId": "6970b606-65cd-493f-95d0-e0bf9d53b5e7"
      },
      "source": [
        "numero = 123\n",
        "\n",
        "literal = \"O numero é \" + str(numero)\n",
        "\n",
        "print(literal)"
      ],
      "execution_count": 7,
      "outputs": [
        {
          "output_type": "stream",
          "name": "stdout",
          "text": [
            "O numero é 123\n"
          ]
        }
      ]
    },
    {
      "cell_type": "markdown",
      "metadata": {
        "id": "5TJ0WelPTCOL"
      },
      "source": [
        "## Tipo Nulo / None"
      ]
    },
    {
      "cell_type": "code",
      "metadata": {
        "colab": {
          "base_uri": "https://localhost:8080/"
        },
        "id": "bkE00XeuTDpl",
        "outputId": "467d7294-34b3-43f7-a680-84037d5da8f2"
      },
      "source": [
        "# Valor vazio ou dado do tipo nulo\n",
        "vazio = None\n",
        "print(vazio)\n",
        "\n",
        "# type mostra o tipo de uma variável\n",
        "print(type(vazio))"
      ],
      "execution_count": 8,
      "outputs": [
        {
          "output_type": "stream",
          "name": "stdout",
          "text": [
            "None\n",
            "<class 'NoneType'>\n"
          ]
        }
      ]
    },
    {
      "cell_type": "markdown",
      "metadata": {
        "id": "Ai4yFTXqdcuw"
      },
      "source": [
        "##String"
      ]
    },
    {
      "cell_type": "markdown",
      "metadata": {
        "id": "AnFhd5MFcSZ3"
      },
      "source": [
        "### Exemplo 1 - Existência substring\n",
        "\n",
        "Verifica se uma substring existe em string"
      ]
    },
    {
      "cell_type": "code",
      "metadata": {
        "colab": {
          "base_uri": "https://localhost:8080/"
        },
        "id": "psZTKUS5cWZG",
        "outputId": "f1524725-a62c-4574-f263-611337d3e7a6"
      },
      "source": [
        "frase = \"bom dia!\"\n",
        "\n",
        "if \"dia\" in frase:\n",
        "    print(\"dia existe em frase\")\n",
        "else:\n",
        "   print(\"dia não existe em frase\")"
      ],
      "execution_count": 9,
      "outputs": [
        {
          "output_type": "stream",
          "name": "stdout",
          "text": [
            "dia existe em frase\n"
          ]
        }
      ]
    },
    {
      "cell_type": "markdown",
      "metadata": {
        "id": "m47Uq0H0j7mZ"
      },
      "source": [
        "### Exemplo 2 - Posição substring\n",
        "\n",
        "Retorna a posição onde se encontra a substring"
      ]
    },
    {
      "cell_type": "code",
      "metadata": {
        "colab": {
          "base_uri": "https://localhost:8080/"
        },
        "id": "0Mtd1neJj90X",
        "outputId": "2253d9a5-b36a-44ab-e76b-e573e6d96c8d"
      },
      "source": [
        "frase = \"bom dia!\"\n",
        "\n",
        "x = frase.find(\"dia\")\n",
        "\n",
        "print(x)"
      ],
      "execution_count": 10,
      "outputs": [
        {
          "output_type": "stream",
          "name": "stdout",
          "text": [
            "4\n"
          ]
        }
      ]
    },
    {
      "cell_type": "markdown",
      "metadata": {
        "id": "3EK92Ex6eACY"
      },
      "source": [
        "### Exemplo 3 - Uso trim(strip, lstrip, rstrip)"
      ]
    },
    {
      "cell_type": "code",
      "metadata": {
        "colab": {
          "base_uri": "https://localhost:8080/"
        },
        "id": "DAagAUYveEMY",
        "outputId": "f1bddd3f-c848-4b61-9fd1-4fa12d1c1f54"
      },
      "source": [
        "frase = \"  bom dia !  \"\n",
        "\n",
        "# Saída dos dados\n",
        "print(\"frase =\" + \"\\\"\" + frase + \"\\\"\")\n",
        "print(\"Após remover espacos a esquerda = \\\"\" + frase.lstrip() + \"\\\"\")\n",
        "print(\"Após remover espaços a direita  = \\\"\" + frase.rstrip() +\"\\\"\")\n",
        "print(\"Após trim esquerda e direita    = \\\"\" + frase.strip() +\"\\\"\")"
      ],
      "execution_count": 11,
      "outputs": [
        {
          "output_type": "stream",
          "name": "stdout",
          "text": [
            "frase =\"  bom dia !  \"\n",
            "Após remover espacos a esquerda = \"bom dia !  \"\n",
            "Após remover espaços a direita  = \"  bom dia !\"\n",
            "Após trim esquerda e direita    = \"bom dia !\"\n"
          ]
        }
      ]
    },
    {
      "cell_type": "markdown",
      "metadata": {
        "id": "D6JE_nHvYEZ7"
      },
      "source": [
        "### Exemplo 4 - Testa string vazia ou nula"
      ]
    },
    {
      "cell_type": "code",
      "metadata": {
        "colab": {
          "base_uri": "https://localhost:8080/"
        },
        "id": "1Qrh3kMEYI7v",
        "outputId": "fc6b5d3d-bf80-4f1d-ee0d-beacca07b9be"
      },
      "source": [
        "palavra = \"\"\n",
        "\n",
        "# Forma 1\n",
        "if not palavra.strip():\n",
        "  print (\"string nula!\")\n",
        "else:\n",
        "  print (\"string não nula!\")\n",
        "\n",
        "# Forma 2\n",
        "if not palavra:\n",
        "   print (\"string nula!\")\n",
        "else:\n",
        "   print (\"string não nula!\")\n",
        "\n",
        "# Forma 3\n",
        "if len(palavra)==0:\n",
        "   print (\"string nula!\")\n",
        "else:\n",
        "   print (\"string não nula!\")\n",
        "\n",
        "# Forma 4\n",
        "if palavra == \"\":\n",
        "   print (\"string nula!\")\n",
        "else:\n",
        "   print (\"string não nula!\")"
      ],
      "execution_count": 12,
      "outputs": [
        {
          "output_type": "stream",
          "name": "stdout",
          "text": [
            "string nula!\n",
            "string nula!\n",
            "string nula!\n",
            "string nula!\n"
          ]
        }
      ]
    },
    {
      "cell_type": "markdown",
      "metadata": {
        "id": "UvTP_bMqbHRH"
      },
      "source": [
        "### Exemplo 5 - Remove caracter de String"
      ]
    },
    {
      "cell_type": "code",
      "metadata": {
        "colab": {
          "base_uri": "https://localhost:8080/"
        },
        "id": "hFMyz2SqbLNs",
        "outputId": "aec3d0f9-87c6-41f0-f227-8a100e5cdd1e"
      },
      "source": [
        "palavra = \"  bom     dia !   \"\n",
        "\n",
        "print(\"\\\"\" + palavra.replace(\"  \", \"\") + \"\\\"\")"
      ],
      "execution_count": 13,
      "outputs": [
        {
          "output_type": "stream",
          "name": "stdout",
          "text": [
            "\"bom dia ! \"\n"
          ]
        }
      ]
    },
    {
      "cell_type": "markdown",
      "metadata": {
        "id": "ORROZhyO7WaB"
      },
      "source": [
        "### Exemplo 6 - Remove \"\\n\" de String"
      ]
    },
    {
      "cell_type": "code",
      "metadata": {
        "colab": {
          "base_uri": "https://localhost:8080/"
        },
        "id": "wLQA9tha7ZXb",
        "outputId": "88a97103-ad27-4a82-d182-8f9311fad54c"
      },
      "source": [
        "palavra = \"bom\\n\"\n",
        "\n",
        "print(palavra)\n",
        "print(len(palavra))\n",
        "\n",
        "palavra = palavra.rstrip(\"\\n\")\n",
        "\n",
        "print(palavra)\n",
        "print(len(palavra))"
      ],
      "execution_count": 14,
      "outputs": [
        {
          "output_type": "stream",
          "name": "stdout",
          "text": [
            "bom\n",
            "\n",
            "4\n",
            "bom\n",
            "3\n"
          ]
        }
      ]
    },
    {
      "cell_type": "markdown",
      "metadata": {
        "id": "1QWOvA-w_liD"
      },
      "source": [
        "### Exemplo 7 - contar letra de *String*"
      ]
    },
    {
      "cell_type": "code",
      "metadata": {
        "colab": {
          "base_uri": "https://localhost:8080/"
        },
        "id": "vWo1ogQx_l76",
        "outputId": "c1404c27-2b9c-45ec-b9a6-58f88e6e58ac"
      },
      "source": [
        "palavra = \"casa\"\n",
        "print(palavra)\n",
        "\n",
        "qtde = palavra.count(\"a\")\n",
        "\n",
        "# Saída dos dados\n",
        "print(qtde)"
      ],
      "execution_count": 15,
      "outputs": [
        {
          "output_type": "stream",
          "name": "stdout",
          "text": [
            "casa\n",
            "2\n"
          ]
        }
      ]
    },
    {
      "cell_type": "markdown",
      "metadata": {
        "id": "evOpb10jE9yE"
      },
      "source": [
        "### Exemplo 8 - Remove vários espaços em branco e substitui por somente um.\n",
        "\n",
        "Utiliza expressões regulares."
      ]
    },
    {
      "cell_type": "code",
      "metadata": {
        "colab": {
          "base_uri": "https://localhost:8080/"
        },
        "id": "xCbbljKzE9yK",
        "outputId": "c564f756-359a-4c9d-d73a-29c5316710b4"
      },
      "source": [
        "# Biblioteca para expressões regulares\n",
        "import re\n",
        "\n",
        "frase1 = \"O    dia   está     bonito.\"\n",
        "print(frase1)\n",
        "\n",
        "frase2  = re.sub(\"\\s+\", \" \", frase1)\n",
        "\n",
        "# Saída dos dados\n",
        "print(frase2)"
      ],
      "execution_count": 16,
      "outputs": [
        {
          "output_type": "stream",
          "name": "stdout",
          "text": [
            "O    dia   está     bonito.\n",
            "O dia está bonito.\n"
          ]
        }
      ]
    },
    {
      "cell_type": "markdown",
      "metadata": {
        "id": "FqgMjhMhnjdA"
      },
      "source": [
        "### Exemplo 9 - Encontra a quantidade de palavras da frase"
      ]
    },
    {
      "cell_type": "code",
      "metadata": {
        "colab": {
          "base_uri": "https://localhost:8080/"
        },
        "id": "mZDgvqfwnkI5",
        "outputId": "8aeeab1c-9483-4baa-ad8c-d24467adff7e"
      },
      "source": [
        "# Frases de exemplo\n",
        "frase = \"O céu está azul.\"\n",
        "\n",
        "# Mostra a frase\n",
        "print(frase)\n",
        "\n",
        "# split() cria uma lista das palavras das frase\n",
        "print(frase.split())\n",
        "\n",
        "# Retorna o tamanho da lista de palavras da frase\n",
        "qtde = len(frase.split())\n",
        "\n",
        "# Mostra a quantidade\n",
        "print(\"Quantidade de palavas:\", qtde)"
      ],
      "execution_count": 17,
      "outputs": [
        {
          "output_type": "stream",
          "name": "stdout",
          "text": [
            "O céu está azul.\n",
            "['O', 'céu', 'está', 'azul.']\n",
            "Quantidade de palavas: 4\n"
          ]
        }
      ]
    },
    {
      "cell_type": "markdown",
      "metadata": {
        "id": "8DGKJ0Og7_j6"
      },
      "source": [
        "### Exemplo 19 - Encontra a quantidade de palavras da maior frase"
      ]
    },
    {
      "cell_type": "code",
      "metadata": {
        "colab": {
          "base_uri": "https://localhost:8080/"
        },
        "id": "DWE3sgG178Nt",
        "outputId": "17c2f112-27dd-4bd6-93a8-947e3e377a11"
      },
      "source": [
        "# Frases de exemplo\n",
        "frases = [\"O gato no tapete.\", \"O cachorro comeu minha tarefa.\"]\n",
        "\n",
        "# Procura a frase com o maior número de palavras\n",
        "maior_frase = len(max(frases, key=lambda k: len(k.split())).split())\n",
        "\n",
        "# Mostra a quantidade\n",
        "print(\"Tamanho maior frase:\", maior_frase)"
      ],
      "execution_count": 18,
      "outputs": [
        {
          "output_type": "stream",
          "name": "stdout",
          "text": [
            "Tamanho maior frase: 5\n"
          ]
        }
      ]
    },
    {
      "cell_type": "markdown",
      "metadata": {
        "id": "cBaB4AF1GRwH"
      },
      "source": [
        "### Exemplo 11 - Encontra o último caracter de uma frase\n",
        "\n",
        "Não considera espaço em branco."
      ]
    },
    {
      "cell_type": "code",
      "metadata": {
        "colab": {
          "base_uri": "https://localhost:8080/"
        },
        "id": "qhe0nfVxGR_P",
        "outputId": "71cf0dcb-02f0-4036-a548-5e0b343250dd"
      },
      "source": [
        "# Frase de exemplo\n",
        "frase = \"  Que dia bonito  \"\n",
        "print(\"[\", frase,\"]\")\n",
        "\n",
        "# Retira os espaços antes de depois da frase\n",
        "frase = frase.strip()\n",
        "print(\"[\", frase,\"]\")\n",
        "\n",
        "# Recupera o último caracter\n",
        "ultimo_caracter = frase[-1]\n",
        "\n",
        "# Saída dos dados\n",
        "print (\"Último caracter:\", ultimo_caracter)"
      ],
      "execution_count": 19,
      "outputs": [
        {
          "output_type": "stream",
          "name": "stdout",
          "text": [
            "[   Que dia bonito   ]\n",
            "[ Que dia bonito ]\n",
            "Último caracter: o\n"
          ]
        }
      ]
    },
    {
      "cell_type": "markdown",
      "metadata": {
        "id": "yzfg-I1HQaUo"
      },
      "source": [
        "### Exemplo 12 - Exibe número percentual formatado"
      ]
    },
    {
      "cell_type": "code",
      "metadata": {
        "colab": {
          "base_uri": "https://localhost:8080/"
        },
        "id": "rbzIyYV0QfhH",
        "outputId": "45630b5a-c57e-469e-ac90-d71d1462c645"
      },
      "source": [
        "x = 16\n",
        "total = 150\n",
        "percentual = x/total\n",
        "print(\"Percentual de X(\",x,\") no total(\",total,\") = \", \"{:.2%}\".format(percentual))"
      ],
      "execution_count": 20,
      "outputs": [
        {
          "output_type": "stream",
          "name": "stdout",
          "text": [
            "Percentual de X( 16 ) no total( 150 ) =  10.67%\n"
          ]
        }
      ]
    },
    {
      "cell_type": "markdown",
      "metadata": {
        "id": "LQ_r-Dsi8Qx3"
      },
      "source": [
        "### Exemplo 13 - Iníciais em maiúsculo"
      ]
    },
    {
      "cell_type": "code",
      "metadata": {
        "colab": {
          "base_uri": "https://localhost:8080/"
        },
        "id": "lG4X8gVl8TGp",
        "outputId": "5da2323a-884e-480d-aab4-640a8690669d"
      },
      "source": [
        "# Frase de exemplo1\n",
        "frase1 = \"que dia bonito.\"\n",
        "\n",
        "# Frase de exemplo2\n",
        "frase2 = frase1.capitalize()\n",
        "\n",
        "# Saída dos dados\n",
        "print(frase1)\n",
        "print(frase2)"
      ],
      "execution_count": 21,
      "outputs": [
        {
          "output_type": "stream",
          "name": "stdout",
          "text": [
            "que dia bonito.\n",
            "Que dia bonito.\n"
          ]
        }
      ]
    },
    {
      "cell_type": "markdown",
      "metadata": {
        "id": "25qFHSFmG6-w"
      },
      "source": [
        "### Exemplo 14 - Função para tratar literal"
      ]
    },
    {
      "cell_type": "code",
      "metadata": {
        "id": "Wo1V1MfrG9xg"
      },
      "source": [
        "import re\n",
        "\n",
        "def preProcessamento(mensagem):\n",
        "    \"\"\"\n",
        "    Esta função recebe uma string como entrada e, em seguida, executa estas operações:\n",
        "         - converte para minúsculas\n",
        "         - remove URLs\n",
        "         - remove símbolos de ação\n",
        "         - remove pontuação\n",
        "         - remove todos os tokens de um único caractere\n",
        "     Parâmetros\n",
        "     ----------\n",
        "         mensagem: a mensagem de texto a ser pré-processada\n",
        "     Retorno\n",
        "     -------\n",
        "         texto: o texto pré-processado\n",
        "    \"\"\"\n",
        "    # Coloque a mensagem  em letras minúsculas\n",
        "    texto = mensagem.lower()\n",
        "    # Substitui as URLs por um espaço na mensagem\n",
        "    texto = re.sub(\"https?:\\/\\/[a-zA-Z0-9@:%._\\/+~#=?&;-]*\", \" \", texto)    \n",
        "    # Substitui os símbolos de ticker por um espaço. Os símbolos de ticker são qualquer símbolo que comece com $.\n",
        "    texto = re.sub(\"\\$[a-zA-Z0-9]*\", \" \", texto)    \n",
        "    # Substitui os nomes de usuário por um espaço. Os nomes de usuário são qualquer palavra que comece com @.\n",
        "    texto = re.sub(\"\\@[a-zA-Z0-9]*\", \" \", texto)    \n",
        "    # Substitui tudo que não for uma letra ou apóstrofo por um espaço\n",
        "    texto = re.sub(\"[^a-zA-Z\\\"]\", \" \", texto)\n",
        "    # Remove palavras de uma letra\n",
        "    texto = \" \".join( [w for w in texto.split() if len(w)>1] )\n",
        "    \n",
        "    return texto"
      ],
      "execution_count": 22,
      "outputs": []
    },
    {
      "cell_type": "code",
      "metadata": {
        "colab": {
          "base_uri": "https://localhost:8080/"
        },
        "id": "EXpQCOz1IbMu",
        "outputId": "11cf3fb6-5dcb-49f3-fca6-bdc18cce467a"
      },
      "source": [
        "mensagem = \"$Joao bom dia. @Hoje será muito frio. E ai Olhou http://www.google.com.br hoje?\"\n",
        "\n",
        "print(preProcessamento(mensagem))"
      ],
      "execution_count": 23,
      "outputs": [
        {
          "output_type": "stream",
          "name": "stdout",
          "text": [
            "bom dia ser muito frio ai olhou hoje\n"
          ]
        }
      ]
    },
    {
      "cell_type": "markdown",
      "metadata": {
        "id": "tnkmUVm4tnJZ"
      },
      "source": [
        "### Exemplo 15 - Conta a ocorrências de palavras em um texto"
      ]
    },
    {
      "cell_type": "code",
      "metadata": {
        "colab": {
          "base_uri": "https://localhost:8080/"
        },
        "id": "OZxbU3q7tnJZ",
        "outputId": "90c648da-4f8e-4397-cde3-4b231e192ed6"
      },
      "source": [
        "# Import das bibliotecas\n",
        "from collections import Counter\n",
        "\n",
        "# Texto de exemplo\n",
        "texto = \"Olá, tudo bem? Que dia é hoje ? Que dia bonito. Que céu está limpo hoje.\"\n",
        "\n",
        "# Divide o texto em uma lista de palavras\n",
        "listaPalavras = texto.split(\" \") \n",
        "\n",
        "contador = Counter()\n",
        "for i, palavra in enumerate(listaPalavras):\n",
        "     contador[palavra] += 1\n",
        "\n",
        "# Lista as ocorrências das palavras\n",
        "for i, item in enumerate(sorted(contador, key = contador.get, reverse=True)):\n",
        "    print (i, item, contador[item])     "
      ],
      "execution_count": 24,
      "outputs": [
        {
          "output_type": "stream",
          "name": "stdout",
          "text": [
            "0 Que 3\n",
            "1 dia 2\n",
            "2 Olá, 1\n",
            "3 tudo 1\n",
            "4 bem? 1\n",
            "5 é 1\n",
            "6 hoje 1\n",
            "7 ? 1\n",
            "8 bonito. 1\n",
            "9 céu 1\n",
            "10 está 1\n",
            "11 limpo 1\n",
            "12 hoje. 1\n"
          ]
        }
      ]
    },
    {
      "cell_type": "markdown",
      "metadata": {
        "id": "Iy1yctgxJyDp"
      },
      "source": [
        "##Inicialização de variáveis\n",
        "Inicialização de múltiplas variáveis"
      ]
    },
    {
      "cell_type": "code",
      "metadata": {
        "colab": {
          "base_uri": "https://localhost:8080/"
        },
        "id": "4JPdmPAsJ1QA",
        "outputId": "dd67c47d-8539-4b1e-e3ea-5741f556ae71"
      },
      "source": [
        "# Declaração e inicialização\n",
        "a, b, c, d = 1, 2, 3, 4\n",
        "\n",
        "# Saída dos dados\n",
        "print(a)\n",
        "print(b)\n",
        "print(c)\n",
        "print(d)"
      ],
      "execution_count": 25,
      "outputs": [
        {
          "output_type": "stream",
          "name": "stdout",
          "text": [
            "1\n",
            "2\n",
            "3\n",
            "4\n"
          ]
        }
      ]
    },
    {
      "cell_type": "markdown",
      "metadata": {
        "id": "IziPWVaeGlWk"
      },
      "source": [
        "## Trocar conteúdo de variáveis\n",
        "Como trocar o conteúdo das variáveis de a e b e de b para a:\n",
        "\n",
        "\n"
      ]
    },
    {
      "cell_type": "markdown",
      "metadata": {
        "id": "COG413OYyx7D"
      },
      "source": [
        "### Método 1 - com auxiliar\n",
        "Troca de conteúdo de variáveis com variável auxiliar."
      ]
    },
    {
      "cell_type": "code",
      "metadata": {
        "colab": {
          "base_uri": "https://localhost:8080/"
        },
        "id": "_8dfes3tzEfz",
        "outputId": "06c67ea4-c95a-43f2-dcf8-e3b7fdf8d1c2"
      },
      "source": [
        "# Inicialização das variáveis\n",
        "a = 10\n",
        "b = 30\n",
        "\n",
        "# Processamento\n",
        "aux = a\n",
        "a = b\n",
        "b = aux\n",
        "\n",
        "# Saída dos dados\n",
        "print(\"a = \" + str(a))\n",
        "print(\"b = \" + str(b))"
      ],
      "execution_count": 26,
      "outputs": [
        {
          "output_type": "stream",
          "name": "stdout",
          "text": [
            "a = 30\n",
            "b = 10\n"
          ]
        }
      ]
    },
    {
      "cell_type": "markdown",
      "metadata": {
        "id": "zIIhrgdYyrrD"
      },
      "source": [
        "### Método 2 - sem auxiliar\n",
        "Sem o uso de uma variável auxiliar."
      ]
    },
    {
      "cell_type": "code",
      "metadata": {
        "colab": {
          "base_uri": "https://localhost:8080/"
        },
        "id": "BGFVnIzQGrEH",
        "outputId": "1733a6c5-a818-4a5f-8a58-78688354f228"
      },
      "source": [
        "# Inicialização das variáveis\n",
        "a = 10\n",
        "b = 30\n",
        "\n",
        "# Processamento\n",
        "a , b = b , a\n",
        "\n",
        "# Saída dos dados\n",
        "print(\"a = \" + str(a))\n",
        "print(\"b = \" + str(b))"
      ],
      "execution_count": 27,
      "outputs": [
        {
          "output_type": "stream",
          "name": "stdout",
          "text": [
            "a = 30\n",
            "b = 10\n"
          ]
        }
      ]
    },
    {
      "cell_type": "markdown",
      "metadata": {
        "id": "Mk7CV_tfTUNl"
      },
      "source": [
        "# Operadores\n",
        "\n",
        "https://www.w3schools.com/python/python_operators.asp\n",
        "\n",
        " \n"
      ]
    },
    {
      "cell_type": "markdown",
      "metadata": {
        "id": "OjtxtOC4TY_p"
      },
      "source": [
        "## Operadores aritméticos \n",
        "\n",
        "(+, -, *, /, //, %, **, +=, -=, *=, /=, %=, **=):\n",
        "\n",
        "| Operador | Descrição |\n",
        "| -------- | --------- |\n",
        "|     `+`  |    Soma               |\n",
        "|     `-`  |    Subtração          |\n",
        "|     `*`  |    Multiplicação      |\n",
        "|     `/`  |    Divisão            |\n",
        "|    `//`  |    Divisão inteira    |\n",
        "|      `%` |    Módulo             |\n",
        "|    `**`  |    Exponenciação      |\n",
        "| | |\n"
      ]
    },
    {
      "cell_type": "code",
      "metadata": {
        "colab": {
          "base_uri": "https://localhost:8080/"
        },
        "id": "oNC6OhoETVeF",
        "outputId": "aa3e754c-7cab-4f82-f75f-1a299f1cf9ca"
      },
      "source": [
        "a = 2\n",
        "b = 1\n",
        "\n",
        "# Saída dos dados\n",
        "print (\"soma =\",a + b)\n",
        "print (\"subtração =\",a - b)\n",
        "print (\"produto =\",a * b)\n",
        "print (\"divisão =\",a / b)"
      ],
      "execution_count": 28,
      "outputs": [
        {
          "output_type": "stream",
          "name": "stdout",
          "text": [
            "soma = 3\n",
            "subtração = 1\n",
            "produto = 2\n",
            "divisão = 2.0\n"
          ]
        }
      ]
    },
    {
      "cell_type": "markdown",
      "metadata": {
        "id": "a2hZUv2KkSK-"
      },
      "source": [
        "Exponencial (**)"
      ]
    },
    {
      "cell_type": "code",
      "metadata": {
        "colab": {
          "base_uri": "https://localhost:8080/"
        },
        "id": "LfdgCJQ3kVqP",
        "outputId": "380ee57b-e39f-445b-a394-3057259037d0"
      },
      "source": [
        "a = 4\n",
        "\n",
        "# Saída dos dados\n",
        "print (a**2)"
      ],
      "execution_count": 29,
      "outputs": [
        {
          "output_type": "stream",
          "name": "stdout",
          "text": [
            "16\n"
          ]
        }
      ]
    },
    {
      "cell_type": "markdown",
      "metadata": {
        "id": "3yGXUsyNj_OD"
      },
      "source": [
        "Divisão inteira (//)"
      ]
    },
    {
      "cell_type": "code",
      "metadata": {
        "colab": {
          "base_uri": "https://localhost:8080/"
        },
        "id": "DiixULgakAh5",
        "outputId": "2ea540f6-1273-4176-ea80-d6bc135cd625"
      },
      "source": [
        "a = 5\n",
        "b = 2\n",
        "\n",
        "# Mostra o resultado da divisão sem a parte fracioná(somente a parte inteira)\n",
        "print (5 // 2)\n",
        "\n",
        "# Mostra o resultado da divisão com a parte fracionária\n",
        "print (5 / 2)"
      ],
      "execution_count": 30,
      "outputs": [
        {
          "output_type": "stream",
          "name": "stdout",
          "text": [
            "2\n",
            "2.5\n"
          ]
        }
      ]
    },
    {
      "cell_type": "markdown",
      "metadata": {
        "id": "f96rzB9akKO5"
      },
      "source": [
        "Resto divisão (%)"
      ]
    },
    {
      "cell_type": "code",
      "metadata": {
        "colab": {
          "base_uri": "https://localhost:8080/"
        },
        "id": "Jzv_-awikMT6",
        "outputId": "28cca6c6-d9e0-4da0-d861-1b2350fb8796"
      },
      "source": [
        "a = 5\n",
        "b = 2\n",
        "\n",
        "# Resto da divisão\n",
        "print (5 % 2)\n",
        "\n",
        "# Mostra a parte inteira\n",
        "print (5 // 2)"
      ],
      "execution_count": 31,
      "outputs": [
        {
          "output_type": "stream",
          "name": "stdout",
          "text": [
            "1\n",
            "2\n"
          ]
        }
      ]
    },
    {
      "cell_type": "markdown",
      "metadata": {
        "id": "c3W0MGc5kbse"
      },
      "source": [
        "Raiz quadrada (** 0.5)"
      ]
    },
    {
      "cell_type": "code",
      "metadata": {
        "colab": {
          "base_uri": "https://localhost:8080/"
        },
        "id": "f_GjzLUMkeL5",
        "outputId": "1a34daa9-ec86-466a-9c33-e27b988d975b"
      },
      "source": [
        "a = 4\n",
        "\n",
        "# Calcula a raiz quadrada a**1/2\n",
        "raiz = a ** 0.5\n",
        "\n",
        "print(raiz)"
      ],
      "execution_count": 32,
      "outputs": [
        {
          "output_type": "stream",
          "name": "stdout",
          "text": [
            "2.0\n"
          ]
        }
      ]
    },
    {
      "cell_type": "markdown",
      "metadata": {
        "id": "CSF3xkW7kjEb"
      },
      "source": [
        "Raiz quadrada (math)"
      ]
    },
    {
      "cell_type": "code",
      "metadata": {
        "colab": {
          "base_uri": "https://localhost:8080/"
        },
        "id": "IGnLGs5ikfih",
        "outputId": "504f07d8-9b1f-4df3-8402-2181f6c60ff6"
      },
      "source": [
        "import math\n",
        "\n",
        "math.sqrt(16)"
      ],
      "execution_count": 33,
      "outputs": [
        {
          "output_type": "execute_result",
          "data": {
            "text/plain": [
              "4.0"
            ]
          },
          "metadata": {},
          "execution_count": 33
        }
      ]
    },
    {
      "cell_type": "markdown",
      "metadata": {
        "id": "MjWlQ17XknYn"
      },
      "source": [
        "PI"
      ]
    },
    {
      "cell_type": "code",
      "metadata": {
        "colab": {
          "base_uri": "https://localhost:8080/"
        },
        "id": "1UVhfcJEkngl",
        "outputId": "872d4dcb-fb85-4874-809f-971a2f09f49a"
      },
      "source": [
        "import math\n",
        "\n",
        "print(math.pi)"
      ],
      "execution_count": 34,
      "outputs": [
        {
          "output_type": "stream",
          "name": "stdout",
          "text": [
            "3.141592653589793\n"
          ]
        }
      ]
    },
    {
      "cell_type": "markdown",
      "metadata": {
        "id": "XbXT5yfSTo6y"
      },
      "source": [
        "Operadores de comparação (>, <, ==, >=, <=, <>, !=, is, in):"
      ]
    },
    {
      "cell_type": "code",
      "metadata": {
        "colab": {
          "base_uri": "https://localhost:8080/"
        },
        "id": "9ftYsWQZTsPV",
        "outputId": "dcf89168-91be-417b-9dce-442e51de8fa1"
      },
      "source": [
        "a = 1\n",
        "b = 2\n",
        "\n",
        "print(a == b)\n",
        "\n",
        "print (a < b)"
      ],
      "execution_count": 35,
      "outputs": [
        {
          "output_type": "stream",
          "name": "stdout",
          "text": [
            "False\n",
            "True\n"
          ]
        }
      ]
    },
    {
      "cell_type": "markdown",
      "metadata": {
        "id": "QftIogc_hPxX"
      },
      "source": [
        "##Operadores lógicos\n",
        "\n",
        "==, !=, <, <=, >, >=, and, or, not\n",
        "\n",
        "| Operador | Descrição |\n",
        "| -------- | --------- |\n",
        "|    `==`  | Igualdade, True se valores de dois operandos são iguais |\n",
        "|    `!=`  | Diferente, True se valores de dois operandos são diferentes |\n",
        "|    `<`  | True se valor do operando à esquerda é menor que o da direita |\n",
        "|    `<=`  | True se valor do operando à esquerda é menor ou igual ao da direita|\n",
        "|    `>`  | True se valor do operando à esquerda é maior que o da direita |\n",
        "|    `>=`  | True se valor do operando à esquerda é maior ou igual ao da direita |\n",
        "|     `and`  |    Operador lógico \"e\"               |\n",
        "|     `or`   |    Operador lógico \"ou\"         |\n",
        "|     `not`  |    Operador lógico de negação \"não\"      |\n",
        "\n",
        "\n",
        "\n",
        "   "
      ]
    },
    {
      "cell_type": "code",
      "metadata": {
        "colab": {
          "base_uri": "https://localhost:8080/"
        },
        "id": "i8rxndpvhl-n",
        "outputId": "a4c7da45-b42c-4d44-ce28-6e237cd6245a"
      },
      "source": [
        "# Valores iniciais\n",
        "a = True\n",
        "b = False\n",
        "\n",
        "print(a and b) # Lógico AND;\n",
        "print(a or b)  # Lógico  OR;\n",
        "print(not a)   # Lógico  NOT;\n",
        "print(a != b)  # Lógico  XOR;"
      ],
      "execution_count": 36,
      "outputs": [
        {
          "output_type": "stream",
          "name": "stdout",
          "text": [
            "False\n",
            "True\n",
            "False\n",
            "True\n"
          ]
        }
      ]
    },
    {
      "cell_type": "markdown",
      "metadata": {
        "id": "RdVoeqUmhVRt"
      },
      "source": [
        "##Operadores de identidade\n",
        "\n",
        "is, is not\n",
        "\n",
        "| Operador | Descrição |\n",
        "| -------- | --------- |\n",
        "|    is  | \ttesta a identidade de objetos |\n",
        "|    `is not`  | testa a não identidade de objetos |\n"
      ]
    },
    {
      "cell_type": "code",
      "metadata": {
        "colab": {
          "base_uri": "https://localhost:8080/"
        },
        "id": "PaEUz9T5jxoI",
        "outputId": "5513ccde-09dc-4070-c593-a404bb6fa7e7"
      },
      "source": [
        "# Valores iniciais\n",
        "a = True\n",
        "b = False\n",
        "\n",
        "print(a is b) # Identidade é;\n",
        "print(a is not b)  # Identidade não é"
      ],
      "execution_count": 37,
      "outputs": [
        {
          "output_type": "stream",
          "name": "stdout",
          "text": [
            "False\n",
            "True\n"
          ]
        }
      ]
    },
    {
      "cell_type": "markdown",
      "metadata": {
        "id": "fkioKBU4hab0"
      },
      "source": [
        "##Operadores de conjunto\n",
        "in, not in\n",
        "\n",
        "| Operador | Descrição |\n",
        "| -------- | --------- |\n",
        "|    in  | \ttesta se elemento está contido em outro |\n",
        "|    `not in`  | testa se elemento não está contido em outro |"
      ]
    },
    {
      "cell_type": "code",
      "metadata": {
        "colab": {
          "base_uri": "https://localhost:8080/"
        },
        "id": "PBHH1iXtj7-P",
        "outputId": "5d3dd111-eb43-459e-bf75-4312c487f634"
      },
      "source": [
        "# Conjunto\n",
        "a = {1, 2, 3, 4}\n",
        "\n",
        "print(1 in a)     # Pertençe ao conjunto;\n",
        "print(1 not in a) # Não pertençe ao conjunto;"
      ],
      "execution_count": 38,
      "outputs": [
        {
          "output_type": "stream",
          "name": "stdout",
          "text": [
            "True\n",
            "False\n"
          ]
        }
      ]
    },
    {
      "cell_type": "markdown",
      "metadata": {
        "id": "FbL31jLo7wnx"
      },
      "source": [
        "# Funções matemáticas\n",
        "\n",
        "Exemplo de uso de divesas funções matemáticas"
      ]
    },
    {
      "cell_type": "markdown",
      "metadata": {
        "id": "I3KG2LnL7cqt"
      },
      "source": [
        "Valor absoluto\n"
      ]
    },
    {
      "cell_type": "code",
      "metadata": {
        "colab": {
          "base_uri": "https://localhost:8080/"
        },
        "id": "z5sPo0sA7cBj",
        "outputId": "d113cacc-afa1-4c25-829f-5b16a8a3c3aa"
      },
      "source": [
        "# abs retorna o valor absoluto\n",
        "absoluto = abs(-8)\n",
        "\n",
        "print(absoluto)"
      ],
      "execution_count": 39,
      "outputs": [
        {
          "output_type": "stream",
          "name": "stdout",
          "text": [
            "8\n"
          ]
        }
      ]
    },
    {
      "cell_type": "markdown",
      "metadata": {
        "id": "gnipxdw_71Ji"
      },
      "source": [
        "Potência de x elevado a y\n",
        "pow(2, 8)"
      ]
    },
    {
      "cell_type": "code",
      "metadata": {
        "colab": {
          "base_uri": "https://localhost:8080/"
        },
        "id": "XnSHVL9r71wE",
        "outputId": "f63e9aaf-0662-4386-dca9-a08401280549"
      },
      "source": [
        "# pow(x, y) retorna a potência de x elevado a y\n",
        "resultado = pow(2, 8)\n",
        "\n",
        "print(resultado)"
      ],
      "execution_count": 40,
      "outputs": [
        {
          "output_type": "stream",
          "name": "stdout",
          "text": [
            "256\n"
          ]
        }
      ]
    },
    {
      "cell_type": "markdown",
      "metadata": {
        "id": "S9SlXX-67_TQ"
      },
      "source": [
        "Arredondamento"
      ]
    },
    {
      "cell_type": "code",
      "metadata": {
        "colab": {
          "base_uri": "https://localhost:8080/"
        },
        "id": "OSJeLNTK8A_8",
        "outputId": "c67b2c8d-3d3b-4be1-ba24-8ceea218ab05"
      },
      "source": [
        "# Arredondamento\n",
        "arredondado = round(3.1415926)\n",
        "\n",
        "print(arredondado)\n",
        "\n",
        "# Arredondamento com duas casas decimais\n",
        "arredondado = round(1.61834, 2)\n",
        "\n",
        "print(arredondado)"
      ],
      "execution_count": 41,
      "outputs": [
        {
          "output_type": "stream",
          "name": "stdout",
          "text": [
            "3\n",
            "1.62\n"
          ]
        }
      ]
    },
    {
      "cell_type": "markdown",
      "metadata": {
        "id": "WMrGz_ISArGm"
      },
      "source": [
        "# Saída de Dados\n",
        "\n",
        "https://pyformat.info/"
      ]
    },
    {
      "cell_type": "markdown",
      "source": [
        "## Saída simples"
      ],
      "metadata": {
        "id": "ziKnhIZaqIbs"
      }
    },
    {
      "cell_type": "markdown",
      "source": [
        "### Texto"
      ],
      "metadata": {
        "id": "X05wfTF0qadG"
      }
    },
    {
      "cell_type": "code",
      "source": [
        "print(\"Alo mundo\")"
      ],
      "metadata": {
        "colab": {
          "base_uri": "https://localhost:8080/"
        },
        "id": "TO4ZiYjmqKD-",
        "outputId": "d9f09048-204c-49f6-e7d8-50de8a7c839b"
      },
      "execution_count": 42,
      "outputs": [
        {
          "output_type": "stream",
          "name": "stdout",
          "text": [
            "Alo mundo\n"
          ]
        }
      ]
    },
    {
      "cell_type": "markdown",
      "source": [
        "### Texto com variáveis e vírgulas"
      ],
      "metadata": {
        "id": "A5dyy-NXqhSc"
      }
    },
    {
      "cell_type": "code",
      "source": [
        "numero = 33\n",
        "print(\"Número :\", numero)"
      ],
      "metadata": {
        "colab": {
          "base_uri": "https://localhost:8080/"
        },
        "id": "HMv1g-Ssqixl",
        "outputId": "deec89ba-714b-424a-cb90-2b2d8f1e35d5"
      },
      "execution_count": 43,
      "outputs": [
        {
          "output_type": "stream",
          "name": "stdout",
          "text": [
            "Número : 33\n"
          ]
        }
      ]
    },
    {
      "cell_type": "code",
      "source": [
        "numero1 = 33\n",
        "numero2 = 34\n",
        "print(\"Número1:\", numero1, \" Numero 2:\", numero2)"
      ],
      "metadata": {
        "colab": {
          "base_uri": "https://localhost:8080/"
        },
        "id": "kH0bZbp2q07E",
        "outputId": "a0ff4fa0-081d-4bbb-a650-9e43080274d0"
      },
      "execution_count": 44,
      "outputs": [
        {
          "output_type": "stream",
          "name": "stdout",
          "text": [
            "Número1: 33  Numero 2: 34\n"
          ]
        }
      ]
    },
    {
      "cell_type": "markdown",
      "source": [
        "Texto com variáveis concatenadas"
      ],
      "metadata": {
        "id": "jKjQd6oFqrXI"
      }
    },
    {
      "cell_type": "code",
      "source": [
        "numero = 33\n",
        "print(\"Número :\" + str(numero))"
      ],
      "metadata": {
        "colab": {
          "base_uri": "https://localhost:8080/"
        },
        "id": "pa5lxavZqrf8",
        "outputId": "bb23eb4e-80e2-4279-b41e-7c3cd261bbee"
      },
      "execution_count": 45,
      "outputs": [
        {
          "output_type": "stream",
          "name": "stdout",
          "text": [
            "Número :33\n"
          ]
        }
      ]
    },
    {
      "cell_type": "code",
      "source": [
        "numero1 = 33\n",
        "numero2 = 34\n",
        "print(\"Número1:\" +  str(numero1) + \" Numero 2:\" + str(numero2))"
      ],
      "metadata": {
        "colab": {
          "base_uri": "https://localhost:8080/"
        },
        "id": "uWHdJHgrrAQ0",
        "outputId": "0c51f82a-60ec-4d6b-f25e-81b873d2b870"
      },
      "execution_count": 46,
      "outputs": [
        {
          "output_type": "stream",
          "name": "stdout",
          "text": [
            "Número1:33 Numero 2:34\n"
          ]
        }
      ]
    },
    {
      "cell_type": "markdown",
      "source": [
        "## Saída formatada"
      ],
      "metadata": {
        "id": "Tpr78h7fqRYn"
      }
    },
    {
      "cell_type": "markdown",
      "metadata": {
        "id": "wJzRhIckA0zY"
      },
      "source": [
        "### Número inteiro(d)"
      ]
    },
    {
      "cell_type": "code",
      "metadata": {
        "colab": {
          "base_uri": "https://localhost:8080/"
        },
        "id": "jeQYdc3fAzq3",
        "outputId": "f48a6282-fb9d-44d3-b076-33199aa91428"
      },
      "source": [
        "idade = 42\n",
        "print(\"Idade :{:d}\".format(idade))"
      ],
      "execution_count": 47,
      "outputs": [
        {
          "output_type": "stream",
          "name": "stdout",
          "text": [
            "Idade :42\n"
          ]
        }
      ]
    },
    {
      "cell_type": "markdown",
      "metadata": {
        "id": "Nf_5teSZBFhR"
      },
      "source": [
        "### Número real(f)"
      ]
    },
    {
      "cell_type": "code",
      "metadata": {
        "colab": {
          "base_uri": "https://localhost:8080/"
        },
        "id": "ohLRXeXYBFhU",
        "outputId": "1e414072-3f4f-46c6-92e6-96d400f1b295"
      },
      "source": [
        "print(\"Pi :{:f}\".format(3.1415926))"
      ],
      "execution_count": 48,
      "outputs": [
        {
          "output_type": "stream",
          "name": "stdout",
          "text": [
            "Pi :3.141593\n"
          ]
        }
      ]
    },
    {
      "cell_type": "markdown",
      "metadata": {
        "id": "raBzE7WjBV9r"
      },
      "source": [
        "### Preenchimento número inteiro"
      ]
    },
    {
      "cell_type": "code",
      "metadata": {
        "colab": {
          "base_uri": "https://localhost:8080/"
        },
        "id": "Aep1FJA5BWH8",
        "outputId": "64040b82-6f07-4e04-b895-8eb01be9eaba"
      },
      "source": [
        "# Reserva espaço para 4 dígitos e preenche com \" \"\n",
        "print(\"Idade 1:{:4d}\".format(42))\n",
        "# Reserva espaço para 4 dígitos e preenche com  0\n",
        "print(\"Idade 2:{:04d}\".format(4))"
      ],
      "execution_count": 49,
      "outputs": [
        {
          "output_type": "stream",
          "name": "stdout",
          "text": [
            "Idade 1:  42\n",
            "Idade 2:0004\n"
          ]
        }
      ]
    },
    {
      "cell_type": "markdown",
      "metadata": {
        "id": "O5RQsiM-Bs37"
      },
      "source": [
        "### Preenchimento número real"
      ]
    },
    {
      "cell_type": "code",
      "metadata": {
        "colab": {
          "base_uri": "https://localhost:8080/"
        },
        "id": "r3ymyTboBs3-",
        "outputId": "ec16f0bb-f6a6-4533-b402-4ee460b81457"
      },
      "source": [
        "# Reserva espaço para 8 dígitos se 2 para a parte decimal preenche com \" \"\n",
        "print(\"Pi 1:{:8.2f}\".format(3.1415926))\n",
        "# Reserva espaço para 6 dígitos se 2 para a parte decimal preenche com \"0\"\n",
        "print(\"Pi 2:{:06.2f}\".format(3.1415926))"
      ],
      "execution_count": 50,
      "outputs": [
        {
          "output_type": "stream",
          "name": "stdout",
          "text": [
            "Pi 1:    3.14\n",
            "Pi 2:003.14\n"
          ]
        }
      ]
    },
    {
      "cell_type": "markdown",
      "metadata": {
        "id": "jAOEYrGxKAxp"
      },
      "source": [
        "#Estruturas Condicionais\n",
        "\n",
        "Estrutura se:\n",
        "* if \\<condição\\>:\n",
        "* if \\<condição\\>: else:\n",
        "* if \\<condição1\\>: elif <condição>: else:\n"
      ]
    },
    {
      "cell_type": "markdown",
      "metadata": {
        "id": "dJSVrlVM4WH8"
      },
      "source": [
        "###Exemplo if / se\n",
        "\n",
        "Estrutura condicional simples.\n",
        "\n",
        "```python\n",
        "if (condição):\n",
        "    comando1\n",
        "    comando2\n",
        "```"
      ]
    },
    {
      "cell_type": "code",
      "metadata": {
        "colab": {
          "base_uri": "https://localhost:8080/"
        },
        "id": "PL68HgJe4WH9",
        "outputId": "5f283fa7-f4a6-4b63-c86e-f860ed6e9bf9"
      },
      "source": [
        "x = 10\n",
        "\n",
        "if (x == 10):\n",
        "   print(\"Número é igual a 10\")"
      ],
      "execution_count": 51,
      "outputs": [
        {
          "output_type": "stream",
          "name": "stdout",
          "text": [
            "Número é igual a 10\n"
          ]
        }
      ]
    },
    {
      "cell_type": "markdown",
      "metadata": {
        "id": "J9xDSQK81lbL"
      },
      "source": [
        "###Exemplo if else / se  senão\n",
        "\n",
        "Estrutura condicional composta.\n",
        "\n",
        "```python\n",
        "if (condição):\n",
        "    comando1\n",
        "else:\n",
        "    comando2\n",
        "```"
      ]
    },
    {
      "cell_type": "code",
      "metadata": {
        "colab": {
          "base_uri": "https://localhost:8080/"
        },
        "id": "f8CbTprj1k9u",
        "outputId": "15e4eb34-dee4-48e6-aec3-22430560131a"
      },
      "source": [
        "x = 10\n",
        "\n",
        "if (x%2 == 0):\n",
        "   print(\"Número é par\")\n",
        "else:\n",
        "   print(\"Número é impar\")\n"
      ],
      "execution_count": 52,
      "outputs": [
        {
          "output_type": "stream",
          "name": "stdout",
          "text": [
            "Número é par\n"
          ]
        }
      ]
    },
    {
      "cell_type": "markdown",
      "source": [
        "## Exemplo if else/se senão aninhado\n",
        "\n",
        "Estrutura condicional composta aninhada.\n",
        "\n",
        "```python\n",
        "if (condição):\n",
        "    comando1\n",
        "else:\n",
        "    if (condição2):\n",
        "       comando2\n",
        "    else:\n",
        "        if (condição3):\n",
        "           comando3\n",
        "```"
      ],
      "metadata": {
        "id": "l-jgwx6H3hrs"
      }
    },
    {
      "cell_type": "code",
      "source": [
        "x = 3\n",
        "\n",
        "if (x == 0):\n",
        "   print(\"Número é zero\")\n",
        "else:\n",
        "  if (x == 1):\n",
        "    print(\"Número é um\")\n",
        "  else:\n",
        "    if (x == 2):\n",
        "      print(\"Número é dois\")\n",
        "    else:\n",
        "      print(\"Outro número\")  "
      ],
      "metadata": {
        "colab": {
          "base_uri": "https://localhost:8080/"
        },
        "id": "YUUPoutx3h1f",
        "outputId": "7263146c-20cf-4c3f-c6dc-02adc05aa7f6"
      },
      "execution_count": 53,
      "outputs": [
        {
          "output_type": "stream",
          "name": "stdout",
          "text": [
            "Outro número\n"
          ]
        }
      ]
    },
    {
      "cell_type": "markdown",
      "metadata": {
        "id": "akRvIWEY17SD"
      },
      "source": [
        "## Exemplo if elif else / se senãose senão\n",
        "\n",
        "```python\n",
        "if (condição1):\n",
        "    comando1\n",
        "elif (condição2):\n",
        "    comando2\n",
        "    comando3\n",
        "...\n",
        "elif (condiçãon):\n",
        "    comandoN\n",
        "else:\n",
        "    comandoX\n",
        "```"
      ]
    },
    {
      "cell_type": "code",
      "metadata": {
        "colab": {
          "base_uri": "https://localhost:8080/"
        },
        "id": "OsAUTZWu17SG",
        "outputId": "bc425bdc-1748-4131-c7a4-e0babf239665"
      },
      "source": [
        "x = 1\n",
        "\n",
        "if (x == 1):\n",
        "   print(\"Número é um\")\n",
        "elif (x == 2):\n",
        "   print(\"Número é dois\")\n",
        "elif (x == 3):\n",
        "     print(\"Número é três\")   \n",
        "else:\n",
        "     print(\"Não é nenhum dos três\")"
      ],
      "execution_count": 54,
      "outputs": [
        {
          "output_type": "stream",
          "name": "stdout",
          "text": [
            "Número é um\n"
          ]
        }
      ]
    },
    {
      "cell_type": "markdown",
      "metadata": {
        "id": "qekx79Xk24nr"
      },
      "source": [
        "###Operador ternário"
      ]
    },
    {
      "cell_type": "code",
      "metadata": {
        "colab": {
          "base_uri": "https://localhost:8080/"
        },
        "id": "3ae3gjXe26WL",
        "outputId": "eeca05a6-2574-4b92-e5c5-adc4ed570db0"
      },
      "source": [
        "x = 10\n",
        "\n",
        "saida =  \"Número é par\" if x % 2 == 0 else \"Número é ímpar\"\n",
        "\n",
        "print(saida)"
      ],
      "execution_count": 55,
      "outputs": [
        {
          "output_type": "stream",
          "name": "stdout",
          "text": [
            "Número é par\n"
          ]
        }
      ]
    },
    {
      "cell_type": "markdown",
      "metadata": {
        "id": "UWtJh5RTKHMl"
      },
      "source": [
        "###Exemplo 1\n",
        "https://leportella.com/pt-br/2018/05/07/pytricks-I.html"
      ]
    },
    {
      "cell_type": "code",
      "metadata": {
        "colab": {
          "base_uri": "https://localhost:8080/"
        },
        "id": "hyvgRNAiKGJ5",
        "outputId": "1cf8355c-b6d1-4781-ce30-6815a2bae788"
      },
      "source": [
        "# Declaração e inicialização de diversas variáveis\n",
        "a, b, c, d = 1, 2, 3, 4\n",
        "\n",
        "if a == 1 and b == 2 and c == 3 and d == 4:\n",
        "    print(\"Tudo verdadeiro!\")"
      ],
      "execution_count": 56,
      "outputs": [
        {
          "output_type": "stream",
          "name": "stdout",
          "text": [
            "Tudo verdadeiro!\n"
          ]
        }
      ]
    },
    {
      "cell_type": "markdown",
      "metadata": {
        "id": "6PRgsXBcKMIU"
      },
      "source": [
        "### Exemplo 2"
      ]
    },
    {
      "cell_type": "code",
      "metadata": {
        "colab": {
          "base_uri": "https://localhost:8080/"
        },
        "id": "PAXDOHY9KNpJ",
        "outputId": "a567b5be-caba-46e1-8c0d-bb783b6489eb"
      },
      "source": [
        "# Declaração\n",
        "condicoes = [a==1, b==2, c==3, d==4]\n",
        "\n",
        "if all(condicoes):\n",
        "    print(\"Tudo verdadeiro!\")"
      ],
      "execution_count": 57,
      "outputs": [
        {
          "output_type": "stream",
          "name": "stdout",
          "text": [
            "Tudo verdadeiro!\n"
          ]
        }
      ]
    },
    {
      "cell_type": "markdown",
      "metadata": {
        "id": "ZKW07-qtN9Bi"
      },
      "source": [
        "### Exemplo 3 - Verificar o tipo de uma variável\n",
        "\n",
        "A função `type` retorna o tipo da variável e `is` compara com o tipo."
      ]
    },
    {
      "cell_type": "code",
      "metadata": {
        "colab": {
          "base_uri": "https://localhost:8080/"
        },
        "id": "GydSAt1DN9Bm",
        "outputId": "153a84c9-7cbb-4795-9fb4-5731e07dcecd"
      },
      "source": [
        "# Declaração\n",
        "a = 10\n",
        "\n",
        "# Mostra o retorno\n",
        "print(type(a))\n",
        "\n",
        "# Mostra o nome\n",
        "print(type(a).__name__)\n",
        "\n",
        "# Avalia um tipo\n",
        "if type(a) is int:\n",
        "    print(\"É um inteiro!\")\n",
        "else:\n",
        "    print(\"Não é um inteiro\")"
      ],
      "execution_count": 58,
      "outputs": [
        {
          "output_type": "stream",
          "name": "stdout",
          "text": [
            "<class 'int'>\n",
            "int\n",
            "É um inteiro!\n"
          ]
        }
      ]
    },
    {
      "cell_type": "markdown",
      "metadata": {
        "id": "btM8ZZeHOWpm"
      },
      "source": [
        "### Exemplo 4 - Verificar o tipo de uma variável\n",
        "\n",
        "A função `isinstance` retorna o tipo da variável e `is` compara com o tipo ou um conjunto de tipos."
      ]
    },
    {
      "cell_type": "code",
      "metadata": {
        "colab": {
          "base_uri": "https://localhost:8080/"
        },
        "id": "zeFnNlJfOWpn",
        "outputId": "f0f1bbb8-7257-4deb-847b-977e76b3f6e3"
      },
      "source": [
        "# Declaração\n",
        "a = 10\n",
        "\n",
        "# Mostra o retorno\n",
        "print(isinstance(a, int))\n",
        "\n",
        "# Avalia um tipo\n",
        "if isinstance(a, int):\n",
        "    print(\"É um inteiro!\")\n",
        "else:\n",
        "    print(\"Não é um inteiro\")\n",
        "\n",
        "# Avalia diversos tipos\n",
        "if isinstance(a, (int, float)):\n",
        "    print(\"É um inteiro!\")\n",
        "else:\n",
        "    print(\"Não é um inteiro\")    "
      ],
      "execution_count": 59,
      "outputs": [
        {
          "output_type": "stream",
          "name": "stdout",
          "text": [
            "True\n",
            "É um inteiro!\n",
            "É um inteiro!\n"
          ]
        }
      ]
    },
    {
      "cell_type": "markdown",
      "metadata": {
        "id": "Fsm7trhrLjXr"
      },
      "source": [
        "#Estruturas de Repetição"
      ]
    },
    {
      "cell_type": "markdown",
      "metadata": {
        "id": "_nCWw-mF6Ypf"
      },
      "source": [
        "###Exemplo while / enquanto\n",
        "\n",
        "O while é o comando utilizado para programar repetições no Python baseadas na avaliação de uma condição. Enquanto a condição for verdadeira, o bloco de comandos interno ao while é repetido. Quando a condição se torna falsa, o bloco de comandos deixa de repetir.\n",
        "\n",
        "```python\n",
        "while (condição):\n",
        "    comando1\n",
        "    comando2\n",
        "    ...\n",
        "    comandoN\n",
        "```"
      ]
    },
    {
      "cell_type": "code",
      "metadata": {
        "colab": {
          "base_uri": "https://localhost:8080/"
        },
        "id": "YuLuxlb_6Ypg",
        "outputId": "29873e20-8e4d-495a-c947-f9c5ed7c9c05"
      },
      "source": [
        "x = 1\n",
        "while (x < 10):\n",
        "    print(x)\n",
        "    x = x + 1"
      ],
      "execution_count": 60,
      "outputs": [
        {
          "output_type": "stream",
          "name": "stdout",
          "text": [
            "1\n",
            "2\n",
            "3\n",
            "4\n",
            "5\n",
            "6\n",
            "7\n",
            "8\n",
            "9\n"
          ]
        }
      ]
    },
    {
      "cell_type": "markdown",
      "metadata": {
        "id": "OZZwXfkz6Pxn"
      },
      "source": [
        "### Exemplo for / para\n",
        "\n",
        "O for é o comando utilizado para programar repetições no Python quando se conhece previamente o número exato de vezes que se deseja executar um determinado conjunto de\n",
        "comandos. \n",
        "\n",
        "```python\n",
        "for <variável> in (valorinicial, valorfinal):\n",
        "    comando1\n",
        "    comando2\n",
        "    ...\n",
        "    comandoN\n",
        "```"
      ]
    },
    {
      "cell_type": "code",
      "metadata": {
        "colab": {
          "base_uri": "https://localhost:8080/"
        },
        "id": "huXSTwS-6TZG",
        "outputId": "02a68433-bde9-4630-ee69-15b7643bd30a"
      },
      "source": [
        "for x in range(1,10):\n",
        "  print(x)"
      ],
      "execution_count": 61,
      "outputs": [
        {
          "output_type": "stream",
          "name": "stdout",
          "text": [
            "1\n",
            "2\n",
            "3\n",
            "4\n",
            "5\n",
            "6\n",
            "7\n",
            "8\n",
            "9\n"
          ]
        }
      ]
    },
    {
      "cell_type": "markdown",
      "metadata": {
        "id": "doYOc7FFTn9u"
      },
      "source": [
        "### Exemplo for aninhado\n",
        "\n",
        "```python\n",
        "for <variável1> in (valorinicial1, valorfinal1):\n",
        "  for <variável2> in (valorinicial2, valorfinal2):\n",
        "     comando1\n",
        "     comando2\n",
        "     ...\n",
        "     comandoN\n",
        "```"
      ]
    },
    {
      "cell_type": "code",
      "metadata": {
        "colab": {
          "base_uri": "https://localhost:8080/"
        },
        "id": "ASZeAaoKToI_",
        "outputId": "09865bea-5231-4580-80f5-2529c7174e5a"
      },
      "source": [
        "# Primeiro for\n",
        "for i in range(10):\n",
        "    # Segundo for\n",
        "    for j in range(i):\n",
        "        print (i, end=\" \")\n",
        "    print()"
      ],
      "execution_count": 62,
      "outputs": [
        {
          "output_type": "stream",
          "name": "stdout",
          "text": [
            "\n",
            "1 \n",
            "2 2 \n",
            "3 3 3 \n",
            "4 4 4 4 \n",
            "5 5 5 5 5 \n",
            "6 6 6 6 6 6 \n",
            "7 7 7 7 7 7 7 \n",
            "8 8 8 8 8 8 8 8 \n",
            "9 9 9 9 9 9 9 9 9 \n"
          ]
        }
      ]
    },
    {
      "cell_type": "markdown",
      "metadata": {
        "id": "nNVK4NjtjOn6"
      },
      "source": [
        "###Exemplo for / para List Comprehension com condicional"
      ]
    },
    {
      "cell_type": "markdown",
      "metadata": {
        "id": "DrxUdhjhj6Je"
      },
      "source": [
        "Lista sem comprehension\n",
        "\n",
        "Ao programar, frequentemente queremos transformar um tipo de dado em outro. Como um exemplo simples, considere o seguinte código que localiza os nomes pares."
      ]
    },
    {
      "cell_type": "code",
      "metadata": {
        "colab": {
          "base_uri": "https://localhost:8080/"
        },
        "id": "bvZyOfo1jOn6",
        "outputId": "bb2828c8-099d-42a5-b079-1322dd931149"
      },
      "source": [
        "for x in range(1,10):\n",
        "  if x%2==0:\n",
        "    print(x)"
      ],
      "execution_count": 63,
      "outputs": [
        {
          "output_type": "stream",
          "name": "stdout",
          "text": [
            "2\n",
            "4\n",
            "6\n",
            "8\n"
          ]
        }
      ]
    },
    {
      "cell_type": "markdown",
      "metadata": {
        "id": "RCvDddIPj-fN"
      },
      "source": [
        "Lista com comprehension\n",
        "\n"
      ]
    },
    {
      "cell_type": "code",
      "metadata": {
        "colab": {
          "base_uri": "https://localhost:8080/"
        },
        "id": "Avk4ccAujm5l",
        "outputId": "e1695e22-b359-4482-fde7-bb6ccbb3956f"
      },
      "source": [
        "numerosPares = [x for x in range(1,10) if x%2==0]\n",
        "print(numerosPares)"
      ],
      "execution_count": 64,
      "outputs": [
        {
          "output_type": "stream",
          "name": "stdout",
          "text": [
            "[2, 4, 6, 8]\n"
          ]
        }
      ]
    },
    {
      "cell_type": "markdown",
      "metadata": {
        "id": "zhAeH6TJLp-5"
      },
      "source": [
        "##For com else (lista vazia)\n",
        "\n",
        "Quando a lista está vazia entra no else."
      ]
    },
    {
      "cell_type": "code",
      "metadata": {
        "colab": {
          "base_uri": "https://localhost:8080/"
        },
        "id": "KM1Iv5ioLrqm",
        "outputId": "ad3a4a01-88e0-40af-b3ca-6d47bdb19958"
      },
      "source": [
        "lista = []\n",
        "\n",
        "for x in lista:\n",
        "    print(\"dentro do loop\")\n",
        "else:\n",
        "    print(\"dentro do else\")"
      ],
      "execution_count": 65,
      "outputs": [
        {
          "output_type": "stream",
          "name": "stdout",
          "text": [
            "dentro do else\n"
          ]
        }
      ]
    },
    {
      "cell_type": "markdown",
      "metadata": {
        "id": "zF2nR0vHLwXk"
      },
      "source": [
        "##For com else (lista cheia)"
      ]
    },
    {
      "cell_type": "code",
      "metadata": {
        "colab": {
          "base_uri": "https://localhost:8080/"
        },
        "id": "GD_lwF1tL3ne",
        "outputId": "dae692ae-0f85-4c5c-8981-e6675dd94c33"
      },
      "source": [
        "lista = [1, 2]\n",
        "\n",
        "for x in lista:\n",
        "    print(\"dentro do loop\")\n",
        "else:\n",
        "    print(\"dentro do else\")"
      ],
      "execution_count": 66,
      "outputs": [
        {
          "output_type": "stream",
          "name": "stdout",
          "text": [
            "dentro do loop\n",
            "dentro do loop\n",
            "dentro do else\n"
          ]
        }
      ]
    },
    {
      "cell_type": "markdown",
      "metadata": {
        "id": "SNxml-n9wYvX"
      },
      "source": [
        "# Tratamento de mensagens de log"
      ]
    },
    {
      "cell_type": "code",
      "metadata": {
        "id": "uP3uiJ4bwbEO"
      },
      "source": [
        "# Biblioteca de logging\n",
        "import logging\n",
        "\n",
        "# Formata a mensagem de login\n",
        "logging.basicConfig(format=\"%(asctime)s : %(levelname)s : %(message)s\", level=logging.INFO)\n",
        "\n",
        "#uso da mensagem sem parâmetro\n",
        "logging.info(\"Função criada!\")\n",
        "\n",
        "#uso da mensagem com parâmetro\n",
        "logging.info(\"Arquivo {0} baixado\".format(\"teste.txt\"))"
      ],
      "execution_count": 67,
      "outputs": []
    },
    {
      "cell_type": "markdown",
      "metadata": {
        "id": "ph1Lv7dFpUpm"
      },
      "source": [
        "#Comandos Bash\n",
        "\n",
        "Para executar uma linha de comando basta adicionar o caracter **\"!\"**(ponto de exclamação) no início. \n",
        "Como por exemplo \"!ls\", \"!pwd\" ou \"!echo\".\n",
        "\n",
        "Entretanto, ao usar o caracter **\"!\"**, a linha de comando é executada em uma sessão de terminal temporária. Alguns comandos como a navegação nos diretórios com o comando \"cd\" não surgem efeito se usados apenas localmente. Para esta situação devemos usar o caracter \"%\" no início com \"%cd\".\n",
        "\n",
        "Considere o sistema operacional onde será executado o comando."
      ]
    },
    {
      "cell_type": "markdown",
      "metadata": {
        "id": "fi1PA_yqrTbj"
      },
      "source": [
        "Jupyter inclue atralhos para as operações mais comuns, como os ls:"
      ]
    },
    {
      "cell_type": "code",
      "metadata": {
        "colab": {
          "base_uri": "https://localhost:8080/"
        },
        "id": "ob15HRD4raDj",
        "outputId": "4b8bbea9-af6a-47b1-d98b-4fe81afea247"
      },
      "source": [
        "!ls /bin"
      ],
      "execution_count": 68,
      "outputs": [
        {
          "output_type": "stream",
          "name": "stdout",
          "text": [
            "'['\t\t\t\t      mpexpand\n",
            " 2to3-2.7\t\t\t      mpic++\n",
            " 7z\t\t\t\t      mpicalc\n",
            " 7za\t\t\t\t      mpicc\n",
            " 7zr\t\t\t\t      mpiCC\n",
            " aclocal\t\t\t      mpicc.openmpi\n",
            " aclocal-1.16\t\t\t      mpiCC.openmpi\n",
            " acyclic\t\t\t      mpic++.openmpi\n",
            " add-apt-repository\t\t      mpicxx\n",
            " addpart\t\t\t      mpicxx.openmpi\n",
            " addr2line\t\t\t      mpiexec\n",
            " apropos\t\t\t      mpiexec.openmpi\n",
            " apt\t\t\t\t      mpif77\n",
            " apt-add-repository\t\t      mpif77.openmpi\n",
            " apt-cache\t\t\t      mpif90\n",
            " apt-cdrom\t\t\t      mpif90.openmpi\n",
            " apt-config\t\t\t      mpifort\n",
            " apt-extracttemplates\t\t      mpifort.openmpi\n",
            " apt-ftparchive\t\t\t      mpirun\n",
            " apt-get\t\t\t      mpirun.openmpi\n",
            " apt-key\t\t\t      mtrace\n",
            " apt-mark\t\t\t      mutter\n",
            " apt-sortpkgs\t\t\t      mv\n",
            " ar\t\t\t\t      mysql_config\n",
            " arch\t\t\t\t      namei\n",
            " as\t\t\t\t      nawk\n",
            " asan_symbolize\t\t\t      ncal\n",
            " asan_symbolize-10\t\t      nc-config\n",
            " assistant\t\t\t      ncurses5-config\n",
            " autoconf\t\t\t      ncurses6-config\n",
            " autoheader\t\t\t      ncursesw5-config\n",
            " autom4te\t\t\t      ncursesw6-config\n",
            " automake\t\t\t      nearblack\n",
            " automake-1.16\t\t\t      neato\n",
            " autoreconf\t\t\t      neqn\n",
            " autoscan\t\t\t      networkctl\n",
            " autoupdate\t\t\t      newgrp\n",
            " awk\t\t\t\t      nice\n",
            " b2\t\t\t\t      nisdomainname\n",
            " b2sum\t\t\t\t      nl\n",
            " base32\t\t\t\t      nm\n",
            " base64\t\t\t\t      nns\n",
            " basename\t\t\t      nnsd\n",
            " bash\t\t\t\t      nnslog\n",
            " bashbug\t\t\t      nohup\n",
            " bcomps\t\t\t\t      nop\n",
            " bcp\t\t\t\t      nproc\n",
            " bjam\t\t\t\t      nroff\n",
            " bootctl\t\t\t      nsenter\n",
            " browse\t\t\t\t      nstat\n",
            " bsd-from\t\t\t      numfmt\n",
            " bsd-write\t\t\t      nvidia-bug-report.sh\n",
            " bunzip2\t\t\t      nvidia-cuda-mps-control\n",
            " busctl\t\t\t\t      nvidia-cuda-mps-server\n",
            " bwrap\t\t\t\t      nvidia-debugdump\n",
            " bzcat\t\t\t\t      nvidia-modprobe\n",
            " bzcmp\t\t\t\t      nvidia-persistenced\n",
            " bzdiff\t\t\t\t      nvidia-powerd\n",
            " bzegrep\t\t\t      nvidia-settings\n",
            " bzexe\t\t\t\t      nvidia-smi\n",
            " bzfgrep\t\t\t      nvidia-xconfig\n",
            " bzgrep\t\t\t\t      objcopy\n",
            " bzip2\t\t\t\t      objdump\n",
            " bzip2recover\t\t\t      od\n",
            " bzless\t\t\t\t      odbcinst\n",
            " bzmore\t\t\t\t      ogdi-config\n",
            " c++\t\t\t\t      ogr2ogr\n",
            " c89\t\t\t\t      ogrinfo\n",
            " c89-gcc\t\t\t      ogrlineref\n",
            " c99\t\t\t\t      ogrmerge.py\n",
            " c99-gcc\t\t\t      ogrtindex\n",
            " cal\t\t\t\t      ompi-clean\n",
            " calendar\t\t\t      ompi_info\n",
            " captoinfo\t\t\t      ompi-server\n",
            " cat\t\t\t\t      opalc++\n",
            " catchsegv\t\t\t      opalcc\n",
            " catman\t\t\t\t      opal_wrapper\n",
            " cautious-launcher\t\t      opencv_annotation\n",
            " cc\t\t\t\t      opencv_interactive-calibration\n",
            " ccomps\t\t\t\t      opencv_version\n",
            " c++filt\t\t\t      opencv_visualisation\n",
            " chage\t\t\t\t      opencv_waldboost_detector\n",
            " chardet3\t\t\t      openssl\n",
            " chardetect3\t\t\t      orte-clean\n",
            " chattr\t\t\t\t      orted\n",
            " chcon\t\t\t\t      orterun\n",
            " chfn\t\t\t\t      orte-server\n",
            " chgrp\t\t\t\t      osage\n",
            " chmod\t\t\t\t      p11-kit\n",
            " choom\t\t\t\t      p7zip\n",
            " chown\t\t\t\t      pack200\n",
            " chronic\t\t\t      page\n",
            " chrt\t\t\t\t      pager\n",
            " chsh\t\t\t\t      pandoc\n",
            " circo\t\t\t\t      paperconf\n",
            " cksum\t\t\t\t      parallel\n",
            " clang\t\t\t\t      partx\n",
            " clang++\t\t\t      passwd\n",
            " clang++-10\t\t\t      paste\n",
            " clang-10\t\t\t      patch\n",
            " clang-cpp-10\t\t\t      patchwork\n",
            " clear\t\t\t\t      pathchk\n",
            " clear_console\t\t\t      pcre2-config\n",
            " clinfo\t\t\t\t      pcre-config\n",
            " cluster\t\t\t      pct2rgb.py\n",
            " cmake\t\t\t\t      pdb2.7\n",
            " cmp\t\t\t\t      pdb3\n",
            " col\t\t\t\t      pdb3.8\n",
            " colcrt\t\t\t\t      pee\n",
            " colrm\t\t\t\t      peekfd\n",
            " column\t\t\t\t      perl\n",
            " combine\t\t\t      perl5.30.0\n",
            " comm\t\t\t\t      perl5.30-x86_64-linux-gnu\n",
            " compile_et\t\t\t      perlbug\n",
            " compose\t\t\t      perldoc\n",
            " corelist\t\t\t      perlivp\n",
            " cp\t\t\t\t      perlthanks\n",
            " cpack\t\t\t\t      pg_config\n",
            " cpan\t\t\t\t      pgrep\n",
            " cpan5.30-x86_64-linux-gnu\t      pic\n",
            " cpp\t\t\t\t      piconv\n",
            " cpp-9\t\t\t\t      pidof\n",
            " c_rehash\t\t\t      pinentry\n",
            " csplit\t\t\t\t      pinentry-curses\n",
            " ctest\t\t\t\t      pinentry-gnome3\n",
            " ctstat\t\t\t\t      pinentry-x11\n",
            " curl\t\t\t\t      pinky\n",
            " curl-config\t\t\t      pixeltool\n",
            " cut\t\t\t\t      pkaction\n",
            " cvt\t\t\t\t      pkcheck\n",
            " cvtsudoers\t\t\t      pkexec\n",
            " dash\t\t\t\t      pkg-config\n",
            " date\t\t\t\t      pkgdata\n",
            " dbus-cleanup-sockets\t\t      pkill\n",
            " dbus-daemon\t\t\t      pkttyagent\n",
            " dbus-monitor\t\t\t      pl2pm\n",
            " dbus-run-session\t\t      pldd\n",
            " dbus-send\t\t\t      pmap\n",
            " dbus-update-activation-environment   pngfix\n",
            " dbus-uuidgen\t\t\t      png-fix-itxt\n",
            " dd\t\t\t\t      pod2html\n",
            " debconf\t\t\t      pod2man\n",
            " debconf-apt-progress\t\t      pod2text\n",
            " debconf-communicate\t\t      pod2usage\n",
            " debconf-copydb\t\t\t      podchecker\n",
            " debconf-escape\t\t\t      podselect\n",
            " debconf-set-selections\t\t      pr\n",
            " debconf-show\t\t\t      preconv\n",
            " deb-systemd-helper\t\t      prename\n",
            " deb-systemd-invoke\t\t      print\n",
            " delpart\t\t\t      printenv\n",
            " derb\t\t\t\t      printerbanner\n",
            " designer\t\t\t      printf\n",
            " df\t\t\t\t      prlimit\n",
            " dh_autotools-dev_restoreconfig       protoc\n",
            " dh_autotools-dev_updateconfig\t      prove\n",
            " dh_dkms\t\t\t      prtstat\n",
            " dh_numpy3\t\t\t      prune\n",
            " diff\t\t\t\t      ps\n",
            " diff3\t\t\t\t      pslog\n",
            " diffimg\t\t\t      pstree\n",
            " dijkstra\t\t\t      pstree.x11\n",
            " dir\t\t\t\t      pt\n",
            " dircolors\t\t\t      ptar\n",
            " dirmngr\t\t\t      ptardiff\n",
            " dirmngr-client\t\t\t      ptargrep\n",
            " dirname\t\t\t      ptx\n",
            " dmesg\t\t\t\t      pwd\n",
            " dnsdomainname\t\t\t      pwdx\n",
            " domainname\t\t\t      py3clean\n",
            " dot\t\t\t\t      py3compile\n",
            " dot2gxl\t\t\t      py3versions\n",
            " dot_builtins\t\t\t      pydoc2.7\n",
            " dotty\t\t\t\t      pydoc3\n",
            " dpkg\t\t\t\t      pydoc3.8\n",
            " dpkg-architecture\t\t      pygettext2.7\n",
            " dpkg-buildflags\t\t      pygettext3\n",
            " dpkg-buildpackage\t\t      pygettext3.8\n",
            " dpkg-checkbuilddeps\t\t      python2.7\n",
            " dpkg-deb\t\t\t      python3\n",
            " dpkg-distaddfile\t\t      python3.8\n",
            " dpkg-divert\t\t\t      python3.8-config\n",
            " dpkg-genbuildinfo\t\t      python3-config\n",
            " dpkg-genchanges\t\t      qcollectiongenerator\n",
            " dpkg-gencontrol\t\t      qdbus\n",
            " dpkg-gensymbols\t\t      qdbuscpp2xml\n",
            " dpkg-maintscript-helper\t      qdbusviewer\n",
            " dpkg-mergechangelogs\t\t      qdbusxml2cpp\n",
            " dpkg-name\t\t\t      qdoc\n",
            " dpkg-parsechangelog\t\t      qdoc3\n",
            " dpkg-query\t\t\t      qgltf\n",
            " dpkg-scanpackages\t\t      qhelpconverter\n",
            " dpkg-scansources\t\t      qhelpgenerator\n",
            " dpkg-shlibdeps\t\t\t      qlalr\n",
            " dpkg-source\t\t\t      qmake\n",
            " dpkg-split\t\t\t      qml\n",
            " dpkg-statoverride\t\t      qml1plugindump\n",
            " dpkg-trigger\t\t\t      qmlbundle\n",
            " dpkg-vendor\t\t\t      qmlcachegen\n",
            " dtplite\t\t\t      qmleasing\n",
            " du\t\t\t\t      qmlimportscanner\n",
            " dumpsexp\t\t\t      qmljs\n",
            " dwp\t\t\t\t      qmllint\n",
            " echo\t\t\t\t      qmlmin\n",
            " edgepaint\t\t\t      qmlplugindump\n",
            " edit\t\t\t\t      qmlprofiler\n",
            " editor\t\t\t\t      qmlscene\n",
            " egrep\t\t\t\t      qmltestrunner\n",
            " elfedit\t\t\t      qmlviewer\n",
            " enc2xs\t\t\t\t      qtattributionsscanner\n",
            " encguess\t\t\t      qtchooser\n",
            " env\t\t\t\t      qtconfig\n",
            " eqn\t\t\t\t      qtdiag\n",
            " errno\t\t\t\t      qt-faststart\n",
            " ex\t\t\t\t      qtpaths\n",
            " expand\t\t\t\t      qtplugininfo\n",
            " expiry\t\t\t\t      quickbook\n",
            " expr\t\t\t\t      qvkgen\n",
            " f77\t\t\t\t      R\n",
            " f95\t\t\t\t      ranlib\n",
            " factor\t\t\t\t      rbash\n",
            " faillog\t\t\t      rcc\n",
            " fallocate\t\t\t      rcp\n",
            " false\t\t\t\t      rdma\n",
            " fc-cache\t\t\t      readelf\n",
            " fc-cat\t\t\t\t      readlink\n",
            " fc-conflist\t\t\t      realpath\n",
            " fc-list\t\t\t      rename\n",
            " fc-match\t\t\t      rename.ul\n",
            " fc-pattern\t\t\t      renice\n",
            " fc-query\t\t\t      repc\n",
            " fc-scan\t\t\t      reset\n",
            " fc-validate\t\t\t      resizepart\n",
            " fdp\t\t\t\t      resolvectl\n",
            " ffmpeg\t\t\t\t      rev\n",
            " ffplay\t\t\t\t      rgb2pct.py\n",
            " ffprobe\t\t\t      rgrep\n",
            " fgrep\t\t\t\t      rlogin\n",
            " file\t\t\t\t      rm\n",
            " file-rename\t\t\t      rmdir\n",
            " fincore\t\t\t      rmic\n",
            " find\t\t\t\t      rmid\n",
            " findmnt\t\t\t      rmiregistry\n",
            " fio\t\t\t\t      routef\n",
            " fio2gnuplot\t\t\t      routel\n",
            " fio-btrace2fio\t\t\t      rpcgen\n",
            " fio-dedupe\t\t\t      rrsync\n",
            " fio_generate_plots\t\t      Rscript\n",
            " fio-genzipf\t\t\t      rsh\n",
            " flock\t\t\t\t      rsync\n",
            " fmt\t\t\t\t      rtstat\n",
            " fold\t\t\t\t      runcon\n",
            " free\t\t\t\t      run-mailcap\n",
            " from\t\t\t\t      run-parts\n",
            " funzip\t\t\t\t      rview\n",
            " fuser\t\t\t\t      rvim\n",
            " fusermount\t\t\t      savelog\n",
            " g++\t\t\t\t      sccmap\n",
            " g++-9\t\t\t\t      scp\n",
            " gapplication\t\t\t      script\n",
            " gc\t\t\t\t      scriptreplay\n",
            " gcc\t\t\t\t      sdiff\n",
            " gcc-9\t\t\t\t      sed\n",
            " gcc-ar\t\t\t\t      see\n",
            " gcc-ar-9\t\t\t      select-default-iwrap\n",
            " gcc-nm\t\t\t\t      select-editor\n",
            " gcc-nm-9\t\t\t      sensible-browser\n",
            " gcc-ranlib\t\t\t      sensible-editor\n",
            " gcc-ranlib-9\t\t\t      sensible-pager\n",
            " gcov\t\t\t\t      seq\n",
            " gcov-9\t\t\t\t      serialver\n",
            " gcov-dump\t\t\t      sessreg\n",
            " gcov-dump-9\t\t\t      setarch\n",
            " gcov-tool\t\t\t      setpriv\n",
            " gcov-tool-9\t\t\t      setsid\n",
            " gcr-viewer\t\t\t      setterm\n",
            " gdal2tiles.py\t\t\t      setxkbmap\n",
            " gdal2xyz.py\t\t\t      sfdp\n",
            " gdaladdo\t\t\t      sftp\n",
            " gdalattachpct.py\t\t      sg\n",
            " gdalbuildvrt\t\t\t      sh\n",
            " gdal_calc.py\t\t\t      sha1sum\n",
            " gdalcompare.py\t\t\t      sha224sum\n",
            " gdal-config\t\t\t      sha256sum\n",
            " gdal_contour\t\t\t      sha384sum\n",
            " gdal_create\t\t\t      sha512sum\n",
            " gdaldem\t\t\t      shasum\n",
            " gdal_edit.py\t\t\t      showrgb\n",
            " gdalenhance\t\t\t      shred\n",
            " gdal_fillnodata.py\t\t      shuf\n",
            " gdal_grid\t\t\t      size\n",
            " gdalinfo\t\t\t      skill\n",
            " gdallocationinfo\t\t      slabtop\n",
            " gdalmanage\t\t\t      sleep\n",
            " gdalmdiminfo\t\t\t      slogin\n",
            " gdalmdimtranslate\t\t      snice\n",
            " gdal_merge.py\t\t\t      soelim\n",
            " gdalmove.py\t\t\t      sort\n",
            " gdal_pansharpen.py\t\t      sort-dctrl\n",
            " gdal_polygonize.py\t\t      sotruss\n",
            " gdal_proximity.py\t\t      splain\n",
            " gdal_rasterize\t\t\t      split\n",
            " gdal_retile.py\t\t\t      sponge\n",
            " gdal_sieve.py\t\t\t      sprof\n",
            " gdalsrsinfo\t\t\t      ss\n",
            " gdaltindex\t\t\t      ssh\n",
            " gdaltransform\t\t\t      ssh-add\n",
            " gdal_translate\t\t\t      ssh-agent\n",
            " gdal_viewshed\t\t\t      ssh-argv0\n",
            " gdalwarp\t\t\t      ssh-copy-id\n",
            " gdbus\t\t\t\t      ssh-keygen\n",
            " gdialog\t\t\t      ssh-keyscan\n",
            " gdmflexiserver\t\t\t      stat\n",
            " genbrk\t\t\t\t      stdbuf\n",
            " gencat\t\t\t\t      strings\n",
            " gencfu\t\t\t\t      strip\n",
            " gencnval\t\t\t      stty\n",
            " gendict\t\t\t      su\n",
            " genfio\t\t\t\t      sudo\n",
            " genrb\t\t\t\t      sudoedit\n",
            " geos-config\t\t\t      sudoreplay\n",
            " geqn\t\t\t\t      sum\n",
            " getconf\t\t\t      symcryptrun\n",
            " getent\t\t\t\t      sync\n",
            " getopt\t\t\t\t      systemctl\n",
            " gfortran\t\t\t      systemd\n",
            " gfortran-9\t\t\t      systemd-analyze\n",
            " gio\t\t\t\t      systemd-ask-password\n",
            " gio-querymodules\t\t      systemd-cat\n",
            " git\t\t\t\t      systemd-cgls\n",
            " git-lfs\t\t\t      systemd-cgtop\n",
            " git-receive-pack\t\t      systemd-delta\n",
            " git-shell\t\t\t      systemd-detect-virt\n",
            " git-upload-archive\t\t      systemd-escape\n",
            " git-upload-pack\t\t      systemd-hwdb\n",
            " gjs\t\t\t\t      systemd-id128\n",
            " gjs-console\t\t\t      systemd-inhibit\n",
            " glib-compile-schemas\t\t      systemd-machine-id-setup\n",
            " gml2gv\t\t\t\t      systemd-mount\n",
            " gnmanalyse\t\t\t      systemd-notify\n",
            " gnmmanage\t\t\t      systemd-path\n",
            " gnome-extensions\t\t      systemd-resolve\n",
            " gnome-keyring\t\t\t      systemd-run\n",
            " gnome-keyring-3\t\t      systemd-socket-activate\n",
            " gnome-keyring-daemon\t\t      systemd-stdio-bridge\n",
            " gnome-shell\t\t\t      systemd-sysusers\n",
            " gnome-shell-extension-tool\t      systemd-tmpfiles\n",
            " gnome-shell-perf-tool\t\t      systemd-tty-ask-password-agent\n",
            " gold\t\t\t\t      systemd-umount\n",
            " google-pprof\t\t\t      tabs\n",
            " gpasswd\t\t\t      tac\n",
            " gpg\t\t\t\t      tail\n",
            " gpg2\t\t\t\t      tar\n",
            " gpg-agent\t\t\t      taskset\n",
            " gpgcompose\t\t\t      tbl\n",
            " gpgconf\t\t\t      tbl-dctrl\n",
            " gpg-connect-agent\t\t      tcldocstrip\n",
            " gpg-error-config\t\t      tclsh\n",
            " gpgparsemail\t\t\t      tclsh8.6\n",
            " gpgrt-config\t\t\t      tcltk-depends\n",
            " gpgsm\t\t\t\t      tee\n",
            " gpgsplit\t\t\t      tempfile\n",
            " gpgtar\t\t\t\t      test\n",
            " gpgv\t\t\t\t      testepsg\n",
            " gpg-wks-server\t\t\t      tic\n",
            " gpg-zip\t\t\t      timedatectl\n",
            " gpic\t\t\t\t      timeout\n",
            " gprof\t\t\t\t      tload\n",
            " graphml2gv\t\t\t      tmux\n",
            " grep\t\t\t\t      toe\n",
            " grep-aptavail\t\t\t      top\n",
            " grep-available\t\t\t      touch\n",
            " grep-dctrl\t\t\t      tput\n",
            " grep-debtags\t\t\t      tr\n",
            " grep-status\t\t\t      tred\n",
            " gresource\t\t\t      troff\n",
            " groff\t\t\t\t      true\n",
            " grog\t\t\t\t      truncate\n",
            " grops\t\t\t\t      trust\n",
            " grotty\t\t\t\t      ts\n",
            " groups\t\t\t\t      tset\n",
            " gsettings\t\t\t      tsort\n",
            " gtbl\t\t\t\t      tty\n",
            " gtf\t\t\t\t      twopi\n",
            " gtk-update-icon-cache\t\t      tzselect\n",
            " gunzip\t\t\t\t      ucf\n",
            " gv2gml\t\t\t\t      ucfq\n",
            " gv2gxl\t\t\t\t      ucfr\n",
            " gvcolor\t\t\t      uconv\n",
            " gvgen\t\t\t\t      udevadm\n",
            " gvmap\t\t\t\t      uic\n",
            " gvmap.sh\t\t\t      uic3\n",
            " gvpack\t\t\t\t      ul\n",
            " gvpr\t\t\t\t      ulockmgr_server\n",
            " gxl2dot\t\t\t      umount\n",
            " gxl2gv\t\t\t\t      uname\n",
            " gzexe\t\t\t\t      uncompress\n",
            " gzip\t\t\t\t      unexpand\n",
            " h2ph\t\t\t\t      unflatten\n",
            " h2xs\t\t\t\t      uniq\n",
            " h5c++\t\t\t\t      unlink\n",
            " h5cc\t\t\t\t      unlzma\n",
            " h5fc\t\t\t\t      unpack200\n",
            " hd\t\t\t\t      unrar\n",
            " head\t\t\t\t      unrar-nonfree\n",
            " helpztags\t\t\t      unshare\n",
            " hexdump\t\t\t      unxz\n",
            " hmac256\t\t\t      unzip\n",
            " hostid\t\t\t\t      unzipsfx\n",
            " hostname\t\t\t      update-alternatives\n",
            " hostnamectl\t\t\t      update-mime-database\n",
            " i386\t\t\t\t      uptime\n",
            " iceauth\t\t\t      users\n",
            " iconv\t\t\t\t      utmpdump\n",
            " icuinfo\t\t\t      vdir\n",
            " id\t\t\t\t      vi\n",
            " ifdata\t\t\t\t      vidir\n",
            " ifnames\t\t\t      view\n",
            " ifne\t\t\t\t      vim\n",
            " infocmp\t\t\t      vim.basic\n",
            " infotocap\t\t\t      vimdiff\n",
            " inspect\t\t\t      vimdot\n",
            " install\t\t\t      vimtutor\n",
            " instmodsh\t\t\t      vipe\n",
            " ionice\t\t\t\t      vmstat\n",
            " ip\t\t\t\t      w\n",
            " ipcmk\t\t\t\t      wall\n",
            " ipcrm\t\t\t\t      watch\n",
            " ipcs\t\t\t\t      watchgnupg\n",
            " ischroot\t\t\t      wc\n",
            " ispell-wrapper\t\t\t      wdctl\n",
            " isutf8\t\t\t\t      wget\n",
            " jaotc\t\t\t\t      whatis\n",
            " jar\t\t\t\t      whereis\n",
            " jarsigner\t\t\t      which\n",
            " java\t\t\t\t      who\n",
            " javac\t\t\t\t      whoami\n",
            " javadoc\t\t\t      wish\n",
            " javap\t\t\t\t      wish8.6\n",
            " jcmd\t\t\t\t      w.procps\n",
            " jdb\t\t\t\t      write\n",
            " jdeprscan\t\t\t      X\n",
            " jdeps\t\t\t\t      X11\n",
            " jexec\t\t\t\t      x86_64\n",
            " jfr\t\t\t\t      x86_64-linux-gnu-addr2line\n",
            " jhsdb\t\t\t\t      x86_64-linux-gnu-ar\n",
            " jimage\t\t\t\t      x86_64-linux-gnu-as\n",
            " jinfo\t\t\t\t      x86_64-linux-gnu-c++filt\n",
            " jjs\t\t\t\t      x86_64-linux-gnu-cpp\n",
            " jlink\t\t\t\t      x86_64-linux-gnu-cpp-9\n",
            " jmap\t\t\t\t      x86_64-linux-gnu-dwp\n",
            " jmod\t\t\t\t      x86_64-linux-gnu-elfedit\n",
            " join\t\t\t\t      x86_64-linux-gnu-g++\n",
            " join-dctrl\t\t\t      x86_64-linux-gnu-g++-9\n",
            " journalctl\t\t\t      x86_64-linux-gnu-gcc\n",
            " jps\t\t\t\t      x86_64-linux-gnu-gcc-9\n",
            " jrunscript\t\t\t      x86_64-linux-gnu-gcc-ar\n",
            " jshell\t\t\t\t      x86_64-linux-gnu-gcc-ar-9\n",
            " json_pp\t\t\t      x86_64-linux-gnu-gcc-nm\n",
            " jstack\t\t\t\t      x86_64-linux-gnu-gcc-nm-9\n",
            " jstat\t\t\t\t      x86_64-linux-gnu-gcc-ranlib\n",
            " jstatd\t\t\t\t      x86_64-linux-gnu-gcc-ranlib-9\n",
            " kbxutil\t\t\t      x86_64-linux-gnu-gcov\n",
            " kernel-install\t\t\t      x86_64-linux-gnu-gcov-9\n",
            " keytool\t\t\t      x86_64-linux-gnu-gcov-dump\n",
            " kill\t\t\t\t      x86_64-linux-gnu-gcov-dump-9\n",
            " killall\t\t\t      x86_64-linux-gnu-gcov-tool\n",
            " kmod\t\t\t\t      x86_64-linux-gnu-gcov-tool-9\n",
            " krb5-config\t\t\t      x86_64-linux-gnu-gfortran\n",
            " krb5-config.mit\t\t      x86_64-linux-gnu-gfortran-9\n",
            " last\t\t\t\t      x86_64-linux-gnu-gold\n",
            " lastb\t\t\t\t      x86_64-linux-gnu-gprof\n",
            " lastlog\t\t\t      x86_64-linux-gnu-ld\n",
            " lcf\t\t\t\t      x86_64-linux-gnu-ld.bfd\n",
            " lckdo\t\t\t\t      x86_64-linux-gnu-ld.gold\n",
            " lconvert\t\t\t      x86_64-linux-gnu-nm\n",
            " ld\t\t\t\t      x86_64-linux-gnu-objcopy\n",
            " ld.bfd\t\t\t\t      x86_64-linux-gnu-objdump\n",
            " ldd\t\t\t\t      x86_64-linux-gnu-pkg-config\n",
            " ld.gold\t\t\t      x86_64-linux-gnu-python3.8-config\n",
            " lefty\t\t\t\t      x86_64-linux-gnu-python3-config\n",
            " less\t\t\t\t      x86_64-linux-gnu-qmake\n",
            " lessecho\t\t\t      x86_64-linux-gnu-ranlib\n",
            " lessfile\t\t\t      x86_64-linux-gnu-readelf\n",
            " lesskey\t\t\t      x86_64-linux-gnu-size\n",
            " lesspipe\t\t\t      x86_64-linux-gnu-strings\n",
            " lexgrog\t\t\t      x86_64-linux-gnu-strip\n",
            " libgcrypt-config\t\t      x86_64-pc-linux-gnu-pkg-config\n",
            " libnetcfg\t\t\t      xargs\n",
            " libpng16-config\t\t      xauth\n",
            " libpng-config\t\t\t      xcmsdb\n",
            " linguist\t\t\t      xdg-dbus-proxy\n",
            " link\t\t\t\t      xdg-desktop-icon\n",
            " linux32\t\t\t      xdg-desktop-menu\n",
            " linux64\t\t\t      xdg-email\n",
            " ln\t\t\t\t      xdg-icon-resource\n",
            " lneato\t\t\t\t      xdg-mime\n",
            " lnstat\t\t\t\t      xdg-open\n",
            " locale\t\t\t\t      xdg-screensaver\n",
            " locale-check\t\t\t      xdg-settings\n",
            " localectl\t\t\t      xgamma\n",
            " localedef\t\t\t      xhost\n",
            " logger\t\t\t\t      xkbbell\n",
            " login\t\t\t\t      xkbcomp\n",
            " loginctl\t\t\t      xkbevd\n",
            " logname\t\t\t      xkbprint\n",
            " look\t\t\t\t      xkbvleds\n",
            " lorder\t\t\t\t      xkbwatch\n",
            " lrelease\t\t\t      xkeystone\n",
            " ls\t\t\t\t      xml2-config\n",
            " lsattr\t\t\t\t      xmlpatterns\n",
            " lsblk\t\t\t\t      xmlpatternsvalidator\n",
            " lsb_release\t\t\t      xmodmap\n",
            " lscpu\t\t\t\t      Xorg\n",
            " lsipc\t\t\t\t      xrandr\n",
            " lslocks\t\t\t      xrdb\n",
            " lslogins\t\t\t      xrefresh\n",
            " lsmem\t\t\t\t      xsel\n",
            " lsmod\t\t\t\t      xset\n",
            " lsns\t\t\t\t      xsetmode\n",
            " lsof\t\t\t\t      xsetpointer\n",
            " lspgpot\t\t\t      xsetroot\n",
            " lupdate\t\t\t      xstdcmap\n",
            " lzcat\t\t\t\t      xsubpp\n",
            " lzcmp\t\t\t\t      xvidtune\n",
            " lzdiff\t\t\t\t      x-window-manager\n",
            " lzegrep\t\t\t      xxd\n",
            " lzfgrep\t\t\t      xz\n",
            " lzgrep\t\t\t\t      xzcat\n",
            " lzless\t\t\t\t      xzcmp\n",
            " lzma\t\t\t\t      xzdiff\n",
            " lzmainfo\t\t\t      xzegrep\n",
            " lzmore\t\t\t\t      xzfgrep\n",
            " m4\t\t\t\t      xzgrep\n",
            " make\t\t\t\t      xzless\n",
            " makeconv\t\t\t      xzmore\n",
            " make-first-existing-target\t      yes\n",
            " man\t\t\t\t      ypdomainname\n",
            " mandb\t\t\t\t      zcat\n",
            " manpath\t\t\t      zcmp\n",
            " man.REAL\t\t\t      zdiff\n",
            " man-recode\t\t\t      zdump\n",
            " mawk\t\t\t\t      zegrep\n",
            " mcookie\t\t\t      zenity\n",
            " md5sum\t\t\t\t      zfgrep\n",
            " md5sum.textutils\t\t      zforce\n",
            " mesg\t\t\t\t      zgrep\n",
            " migrate-pubring-from-classic-gpg     zip\n",
            " mingle\t\t\t\t      zipcloak\n",
            " mispipe\t\t\t      zipdetails\n",
            " mkdir\t\t\t\t      zipgrep\n",
            " mkfifo\t\t\t\t      zipinfo\n",
            " mknod\t\t\t\t      zipnote\n",
            " mktemp\t\t\t\t      zipsplit\n",
            " mm2gv\t\t\t\t      zless\n",
            " moc\t\t\t\t      zmore\n",
            " more\t\t\t\t      znew\n",
            " mount\t\t\t\t      zrun\n",
            " mountpoint\n"
          ]
        }
      ]
    },
    {
      "cell_type": "markdown",
      "metadata": {
        "id": "mtN0U84-vIwj"
      },
      "source": [
        "## Informações da máquina\n",
        "https://medium.com/@italojs/gpu-tpu-de-gra%C3%A7a-na-web-onde-como-e511780294c7"
      ]
    },
    {
      "cell_type": "markdown",
      "metadata": {
        "id": "_pq3FkFR3O6X"
      },
      "source": [
        "Dados da CPU"
      ]
    },
    {
      "cell_type": "code",
      "metadata": {
        "colab": {
          "base_uri": "https://localhost:8080/"
        },
        "id": "AEWISUG_3Rdr",
        "outputId": "30caf74c-2132-440b-9387-727216ee5cb3"
      },
      "source": [
        "!lscpu"
      ],
      "execution_count": 69,
      "outputs": [
        {
          "output_type": "stream",
          "name": "stdout",
          "text": [
            "Architecture:                    x86_64\n",
            "CPU op-mode(s):                  32-bit, 64-bit\n",
            "Byte Order:                      Little Endian\n",
            "Address sizes:                   46 bits physical, 48 bits virtual\n",
            "CPU(s):                          2\n",
            "On-line CPU(s) list:             0,1\n",
            "Thread(s) per core:              2\n",
            "Core(s) per socket:              1\n",
            "Socket(s):                       1\n",
            "NUMA node(s):                    1\n",
            "Vendor ID:                       GenuineIntel\n",
            "CPU family:                      6\n",
            "Model:                           79\n",
            "Model name:                      Intel(R) Xeon(R) CPU @ 2.20GHz\n",
            "Stepping:                        0\n",
            "CPU MHz:                         2199.998\n",
            "BogoMIPS:                        4399.99\n",
            "Hypervisor vendor:               KVM\n",
            "Virtualization type:             full\n",
            "L1d cache:                       32 KiB\n",
            "L1i cache:                       32 KiB\n",
            "L2 cache:                        256 KiB\n",
            "L3 cache:                        55 MiB\n",
            "NUMA node0 CPU(s):               0,1\n",
            "Vulnerability Itlb multihit:     Not affected\n",
            "Vulnerability L1tf:              Mitigation; PTE Inversion\n",
            "Vulnerability Mds:               Vulnerable; SMT Host state unknown\n",
            "Vulnerability Meltdown:          Vulnerable\n",
            "Vulnerability Mmio stale data:   Vulnerable\n",
            "Vulnerability Retbleed:          Vulnerable\n",
            "Vulnerability Spec store bypass: Vulnerable\n",
            "Vulnerability Spectre v1:        Vulnerable: __user pointer sanitization and use\n",
            "                                 rcopy barriers only; no swapgs barriers\n",
            "Vulnerability Spectre v2:        Vulnerable, IBPB: disabled, STIBP: disabled, PB\n",
            "                                 RSB-eIBRS: Not affected\n",
            "Vulnerability Srbds:             Not affected\n",
            "Vulnerability Tsx async abort:   Vulnerable\n",
            "Flags:                           fpu vme de pse tsc msr pae mce cx8 apic sep mtr\n",
            "                                 r pge mca cmov pat pse36 clflush mmx fxsr sse s\n",
            "                                 se2 ss ht syscall nx pdpe1gb rdtscp lm constant\n",
            "                                 _tsc rep_good nopl xtopology nonstop_tsc cpuid \n",
            "                                 tsc_known_freq pni pclmulqdq ssse3 fma cx16 pci\n",
            "                                 d sse4_1 sse4_2 x2apic movbe popcnt aes xsave a\n",
            "                                 vx f16c rdrand hypervisor lahf_lm abm 3dnowpref\n",
            "                                 etch invpcid_single ssbd ibrs ibpb stibp fsgsba\n",
            "                                 se tsc_adjust bmi1 hle avx2 smep bmi2 erms invp\n",
            "                                 cid rtm rdseed adx smap xsaveopt arat md_clear \n",
            "                                 arch_capabilities\n"
          ]
        }
      ]
    },
    {
      "cell_type": "markdown",
      "metadata": {
        "id": "pGVepIwH0PMp"
      },
      "source": [
        "Dados das CPUs"
      ]
    },
    {
      "cell_type": "code",
      "metadata": {
        "colab": {
          "base_uri": "https://localhost:8080/"
        },
        "id": "pPdf46960QqZ",
        "outputId": "6d1d68ce-0366-48f0-cd0d-44e3f5bd55e1"
      },
      "source": [
        "!cat /proc/cpuinfo"
      ],
      "execution_count": 70,
      "outputs": [
        {
          "output_type": "stream",
          "name": "stdout",
          "text": [
            "processor\t: 0\n",
            "vendor_id\t: GenuineIntel\n",
            "cpu family\t: 6\n",
            "model\t\t: 79\n",
            "model name\t: Intel(R) Xeon(R) CPU @ 2.20GHz\n",
            "stepping\t: 0\n",
            "microcode\t: 0xffffffff\n",
            "cpu MHz\t\t: 2199.998\n",
            "cache size\t: 56320 KB\n",
            "physical id\t: 0\n",
            "siblings\t: 2\n",
            "core id\t\t: 0\n",
            "cpu cores\t: 1\n",
            "apicid\t\t: 0\n",
            "initial apicid\t: 0\n",
            "fpu\t\t: yes\n",
            "fpu_exception\t: yes\n",
            "cpuid level\t: 13\n",
            "wp\t\t: yes\n",
            "flags\t\t: fpu vme de pse tsc msr pae mce cx8 apic sep mtrr pge mca cmov pat pse36 clflush mmx fxsr sse sse2 ss ht syscall nx pdpe1gb rdtscp lm constant_tsc rep_good nopl xtopology nonstop_tsc cpuid tsc_known_freq pni pclmulqdq ssse3 fma cx16 pcid sse4_1 sse4_2 x2apic movbe popcnt aes xsave avx f16c rdrand hypervisor lahf_lm abm 3dnowprefetch invpcid_single ssbd ibrs ibpb stibp fsgsbase tsc_adjust bmi1 hle avx2 smep bmi2 erms invpcid rtm rdseed adx smap xsaveopt arat md_clear arch_capabilities\n",
            "bugs\t\t: cpu_meltdown spectre_v1 spectre_v2 spec_store_bypass l1tf mds swapgs taa mmio_stale_data retbleed\n",
            "bogomips\t: 4399.99\n",
            "clflush size\t: 64\n",
            "cache_alignment\t: 64\n",
            "address sizes\t: 46 bits physical, 48 bits virtual\n",
            "power management:\n",
            "\n",
            "processor\t: 1\n",
            "vendor_id\t: GenuineIntel\n",
            "cpu family\t: 6\n",
            "model\t\t: 79\n",
            "model name\t: Intel(R) Xeon(R) CPU @ 2.20GHz\n",
            "stepping\t: 0\n",
            "microcode\t: 0xffffffff\n",
            "cpu MHz\t\t: 2199.998\n",
            "cache size\t: 56320 KB\n",
            "physical id\t: 0\n",
            "siblings\t: 2\n",
            "core id\t\t: 0\n",
            "cpu cores\t: 1\n",
            "apicid\t\t: 1\n",
            "initial apicid\t: 1\n",
            "fpu\t\t: yes\n",
            "fpu_exception\t: yes\n",
            "cpuid level\t: 13\n",
            "wp\t\t: yes\n",
            "flags\t\t: fpu vme de pse tsc msr pae mce cx8 apic sep mtrr pge mca cmov pat pse36 clflush mmx fxsr sse sse2 ss ht syscall nx pdpe1gb rdtscp lm constant_tsc rep_good nopl xtopology nonstop_tsc cpuid tsc_known_freq pni pclmulqdq ssse3 fma cx16 pcid sse4_1 sse4_2 x2apic movbe popcnt aes xsave avx f16c rdrand hypervisor lahf_lm abm 3dnowprefetch invpcid_single ssbd ibrs ibpb stibp fsgsbase tsc_adjust bmi1 hle avx2 smep bmi2 erms invpcid rtm rdseed adx smap xsaveopt arat md_clear arch_capabilities\n",
            "bugs\t\t: cpu_meltdown spectre_v1 spectre_v2 spec_store_bypass l1tf mds swapgs taa mmio_stale_data retbleed\n",
            "bogomips\t: 4399.99\n",
            "clflush size\t: 64\n",
            "cache_alignment\t: 64\n",
            "address sizes\t: 46 bits physical, 48 bits virtual\n",
            "power management:\n",
            "\n"
          ]
        }
      ]
    },
    {
      "cell_type": "markdown",
      "metadata": {
        "id": "aTs1kdPTyYTP"
      },
      "source": [
        "Qual GPU está sendo utilizada.<br>\n",
        "https://medium.com/deep-learning-turkey/google-colab-free-gpu-tutorial-e113627b9f5d\n"
      ]
    },
    {
      "cell_type": "code",
      "metadata": {
        "colab": {
          "base_uri": "https://localhost:8080/"
        },
        "id": "yT5-lyWkybd0",
        "outputId": "71c1a827-f99f-4350-bc9f-e584279f9eca"
      },
      "source": [
        "#seleciona a versão do tensorflow\n",
        "%tensorflow_version 2.x\n",
        "\n",
        "#exibe as informações da gpu\n",
        "from tensorflow.python.client import device_lib\n",
        "device_lib.list_local_devices()"
      ],
      "execution_count": 71,
      "outputs": [
        {
          "output_type": "stream",
          "name": "stdout",
          "text": [
            "Colab only includes TensorFlow 2.x; %tensorflow_version has no effect.\n"
          ]
        },
        {
          "output_type": "execute_result",
          "data": {
            "text/plain": [
              "[name: \"/device:CPU:0\"\n",
              " device_type: \"CPU\"\n",
              " memory_limit: 268435456\n",
              " locality {\n",
              " }\n",
              " incarnation: 14775051541465547462\n",
              " xla_global_id: -1]"
            ]
          },
          "metadata": {},
          "execution_count": 71
        }
      ]
    },
    {
      "cell_type": "code",
      "metadata": {
        "colab": {
          "base_uri": "https://localhost:8080/",
          "height": 35
        },
        "id": "dE5GXR6XiriH",
        "outputId": "85c3a64f-5d29-44d1-8962-41f33dcc0c33"
      },
      "source": [
        "import tensorflow as tf\n",
        "tf.__version__"
      ],
      "execution_count": 72,
      "outputs": [
        {
          "output_type": "execute_result",
          "data": {
            "text/plain": [
              "'2.11.0'"
            ],
            "application/vnd.google.colaboratory.intrinsic+json": {
              "type": "string"
            }
          },
          "metadata": {},
          "execution_count": 72
        }
      ]
    },
    {
      "cell_type": "markdown",
      "metadata": {
        "id": "jizdOi1bz0Cr"
      },
      "source": [
        "Quantidade de memória"
      ]
    },
    {
      "cell_type": "code",
      "metadata": {
        "colab": {
          "base_uri": "https://localhost:8080/"
        },
        "id": "kF1eDgNqz10N",
        "outputId": "ca243701-34d2-4154-9748-8140b4944001"
      },
      "source": [
        "!cat /proc/meminfo"
      ],
      "execution_count": 73,
      "outputs": [
        {
          "output_type": "stream",
          "name": "stdout",
          "text": [
            "MemTotal:       13297192 kB\n",
            "MemFree:         9207040 kB\n",
            "MemAvailable:   12164808 kB\n",
            "Buffers:          333852 kB\n",
            "Cached:          2788020 kB\n",
            "SwapCached:            0 kB\n",
            "Active:           926532 kB\n",
            "Inactive:        2950984 kB\n",
            "Active(anon):       1024 kB\n",
            "Inactive(anon):   735892 kB\n",
            "Active(file):     925508 kB\n",
            "Inactive(file):  2215092 kB\n",
            "Unevictable:           0 kB\n",
            "Mlocked:               0 kB\n",
            "SwapTotal:             0 kB\n",
            "SwapFree:              0 kB\n",
            "Dirty:              4396 kB\n",
            "Writeback:             0 kB\n",
            "AnonPages:        755552 kB\n",
            "Mapped:           491132 kB\n",
            "Shmem:              1308 kB\n",
            "KReclaimable:     117496 kB\n",
            "Slab:             147448 kB\n",
            "SReclaimable:     117496 kB\n",
            "SUnreclaim:        29952 kB\n",
            "KernelStack:        4192 kB\n",
            "PageTables:         9708 kB\n",
            "NFS_Unstable:          0 kB\n",
            "Bounce:                0 kB\n",
            "WritebackTmp:          0 kB\n",
            "CommitLimit:     6648596 kB\n",
            "Committed_AS:    2790628 kB\n",
            "VmallocTotal:   34359738367 kB\n",
            "VmallocUsed:        9060 kB\n",
            "VmallocChunk:          0 kB\n",
            "Percpu:             1352 kB\n",
            "HardwareCorrupted:     0 kB\n",
            "AnonHugePages:         0 kB\n",
            "ShmemHugePages:        0 kB\n",
            "ShmemPmdMapped:        0 kB\n",
            "FileHugePages:         0 kB\n",
            "FilePmdMapped:         0 kB\n",
            "CmaTotal:              0 kB\n",
            "CmaFree:               0 kB\n",
            "HugePages_Total:       0\n",
            "HugePages_Free:        0\n",
            "HugePages_Rsvd:        0\n",
            "HugePages_Surp:        0\n",
            "Hugepagesize:       2048 kB\n",
            "Hugetlb:               0 kB\n",
            "DirectMap4k:       84800 kB\n",
            "DirectMap2M:     3057664 kB\n",
            "DirectMap1G:    12582912 kB\n"
          ]
        }
      ]
    },
    {
      "cell_type": "markdown",
      "metadata": {
        "id": "-9Q36nbXv37R"
      },
      "source": [
        "Dados do Sistema Operacional"
      ]
    },
    {
      "cell_type": "code",
      "metadata": {
        "colab": {
          "base_uri": "https://localhost:8080/"
        },
        "id": "_kVoPBb-v6uB",
        "outputId": "e8f57857-ea74-4fd5-eaff-ff1c700f166a"
      },
      "source": [
        "!cat /etc/os-release"
      ],
      "execution_count": 74,
      "outputs": [
        {
          "output_type": "stream",
          "name": "stdout",
          "text": [
            "NAME=\"Ubuntu\"\n",
            "VERSION=\"20.04.5 LTS (Focal Fossa)\"\n",
            "ID=ubuntu\n",
            "ID_LIKE=debian\n",
            "PRETTY_NAME=\"Ubuntu 20.04.5 LTS\"\n",
            "VERSION_ID=\"20.04\"\n",
            "HOME_URL=\"https://www.ubuntu.com/\"\n",
            "SUPPORT_URL=\"https://help.ubuntu.com/\"\n",
            "BUG_REPORT_URL=\"https://bugs.launchpad.net/ubuntu/\"\n",
            "PRIVACY_POLICY_URL=\"https://www.ubuntu.com/legal/terms-and-policies/privacy-policy\"\n",
            "VERSION_CODENAME=focal\n",
            "UBUNTU_CODENAME=focal\n"
          ]
        }
      ]
    },
    {
      "cell_type": "markdown",
      "metadata": {
        "id": "sEgR7FQIu1x1"
      },
      "source": [
        "Tamanho do disco"
      ]
    },
    {
      "cell_type": "code",
      "metadata": {
        "colab": {
          "base_uri": "https://localhost:8080/"
        },
        "id": "xnG2d1n2u-ll",
        "outputId": "bc4b7355-ff5a-4ef9-ec5d-eea82137cfb7"
      },
      "source": [
        "!df -k ."
      ],
      "execution_count": 75,
      "outputs": [
        {
          "output_type": "stream",
          "name": "stdout",
          "text": [
            "Filesystem     1K-blocks     Used Available Use% Mounted on\n",
            "overlay        112947452 26827476  86103592  24% /\n"
          ]
        }
      ]
    },
    {
      "cell_type": "markdown",
      "metadata": {
        "id": "UnONs-014Emq"
      },
      "source": [
        "Tamanho dos diretórios"
      ]
    },
    {
      "cell_type": "code",
      "metadata": {
        "colab": {
          "base_uri": "https://localhost:8080/"
        },
        "id": "fP7QDSIH4GkF",
        "outputId": "cb40b8e9-c418-4515-8b75-4c4441b573d0"
      },
      "source": [
        "!df -h"
      ],
      "execution_count": 76,
      "outputs": [
        {
          "output_type": "stream",
          "name": "stdout",
          "text": [
            "Filesystem      Size  Used Avail Use% Mounted on\n",
            "overlay         108G   26G   83G  24% /\n",
            "tmpfs            64M     0   64M   0% /dev\n",
            "shm             5.8G     0  5.8G   0% /dev/shm\n",
            "/dev/root       2.0G  1.1G  841M  58% /usr/sbin/docker-init\n",
            "tmpfs           6.4G   44K  6.4G   1% /var/colab\n",
            "/dev/sda1        70G   45G   26G  64% /etc/hosts\n",
            "tmpfs           6.4G     0  6.4G   0% /proc/acpi\n",
            "tmpfs           6.4G     0  6.4G   0% /proc/scsi\n",
            "tmpfs           6.4G     0  6.4G   0% /sys/firmware\n"
          ]
        }
      ]
    },
    {
      "cell_type": "markdown",
      "metadata": {
        "id": "9NZh26yI-Zt2"
      },
      "source": [
        "shell interativo\n",
        "\n",
        "Não há terminal interativo embutido no Colab. Mas você pode usar o comando bash para experimentar comandos shell interativamente. Basta executar este comando e você obterá uma entrada interativa.\n",
        "\n",
        "Descomente a linha da célula para usar o shel interativo.\n",
        "\n"
      ]
    },
    {
      "cell_type": "code",
      "metadata": {
        "id": "14Koj0ha-Z6G"
      },
      "source": [
        "#!bash"
      ],
      "execution_count": 77,
      "outputs": []
    },
    {
      "cell_type": "markdown",
      "metadata": {
        "id": "_rR4E0gVcMP-"
      },
      "source": [
        "Lista o conteúdo de um diretório"
      ]
    },
    {
      "cell_type": "code",
      "metadata": {
        "colab": {
          "base_uri": "https://localhost:8080/"
        },
        "id": "DfALVqDHcOzP",
        "outputId": "87b474fe-107f-4946-8c7a-0f04813ea3b8"
      },
      "source": [
        "!ls"
      ],
      "execution_count": 78,
      "outputs": [
        {
          "output_type": "stream",
          "name": "stdout",
          "text": [
            "arquivo.txt  sample_data\n"
          ]
        }
      ]
    },
    {
      "cell_type": "markdown",
      "metadata": {
        "id": "FX63sT_HcP24"
      },
      "source": [
        "Entrando em um diretório\n",
        "\n",
        "1- Vai para o diretório raiz.\n",
        "\n",
        "2 - Lista o diretório\n",
        "\n",
        "3- Entra no diretório `content`.\n"
      ]
    },
    {
      "cell_type": "code",
      "metadata": {
        "colab": {
          "base_uri": "https://localhost:8080/"
        },
        "id": "7eXB8mC-c9Ze",
        "outputId": "5aad0ed9-21b7-4014-ee34-e6bc597873c1"
      },
      "source": [
        "%cd /\n",
        "!ls\n",
        "%cd /content/"
      ],
      "execution_count": 79,
      "outputs": [
        {
          "output_type": "stream",
          "name": "stdout",
          "text": [
            "/\n",
            "bin\t dev   lib32   mnt\t\t\t root  sys    var\n",
            "boot\t etc   lib64   NGC-DL-CONTAINER-LICENSE  run   tmp\n",
            "content  home  libx32  opt\t\t\t sbin  tools\n",
            "datalab  lib   media   proc\t\t\t srv   usr\n",
            "/content\n"
          ]
        }
      ]
    },
    {
      "cell_type": "markdown",
      "metadata": {
        "id": "7riyQA9wdLUs"
      },
      "source": [
        "O comando \"%%writefile nomeArquivo\" no início da célula salva o conteúdo no arquivo nomeArquivo."
      ]
    },
    {
      "cell_type": "code",
      "metadata": {
        "colab": {
          "base_uri": "https://localhost:8080/"
        },
        "id": "ZHMqoLEBdN8c",
        "outputId": "09091f6a-030c-4bd4-ddc7-1d3bb65685cc"
      },
      "source": [
        "%%writefile arquivo.txt\n",
        "Alo Mundo!"
      ],
      "execution_count": 80,
      "outputs": [
        {
          "output_type": "stream",
          "name": "stdout",
          "text": [
            "Overwriting arquivo.txt\n"
          ]
        }
      ]
    },
    {
      "cell_type": "code",
      "metadata": {
        "colab": {
          "base_uri": "https://localhost:8080/"
        },
        "id": "9PbyMDZCfhtK",
        "outputId": "7d743420-d2de-48f7-d770-ed7c625d3743"
      },
      "source": [
        "!cat arquivo.txt"
      ],
      "execution_count": 81,
      "outputs": [
        {
          "output_type": "stream",
          "name": "stdout",
          "text": [
            "Alo Mundo!\n"
          ]
        }
      ]
    },
    {
      "cell_type": "markdown",
      "metadata": {
        "id": "p4xA41jV_O27"
      },
      "source": [
        "# Traduzindo Texto\n",
        "\n"
      ]
    },
    {
      "cell_type": "markdown",
      "metadata": {
        "id": "JGJFuBkxP3si"
      },
      "source": [
        "## Google Translator\n",
        "https://pypi.org/project/googletrans/\n"
      ]
    },
    {
      "cell_type": "code",
      "metadata": {
        "colab": {
          "base_uri": "https://localhost:8080/"
        },
        "id": "5YXOnnF9F-Bb",
        "outputId": "a61cf021-7ab4-4b30-cae6-629fc0fa1f03"
      },
      "source": [
        "#!pip install googletrans \n",
        "!pip install googletrans==3.1.0a0 #Versão específica que funciona"
      ],
      "execution_count": 82,
      "outputs": [
        {
          "output_type": "stream",
          "name": "stdout",
          "text": [
            "Looking in indexes: https://pypi.org/simple, https://us-python.pkg.dev/colab-wheels/public/simple/\n",
            "Requirement already satisfied: googletrans==3.1.0a0 in /usr/local/lib/python3.8/dist-packages (3.1.0a0)\n",
            "Requirement already satisfied: httpx==0.13.3 in /usr/local/lib/python3.8/dist-packages (from googletrans==3.1.0a0) (0.13.3)\n",
            "Requirement already satisfied: rfc3986<2,>=1.3 in /usr/local/lib/python3.8/dist-packages (from httpx==0.13.3->googletrans==3.1.0a0) (1.5.0)\n",
            "Requirement already satisfied: hstspreload in /usr/local/lib/python3.8/dist-packages (from httpx==0.13.3->googletrans==3.1.0a0) (2023.1.1)\n",
            "Requirement already satisfied: sniffio in /usr/local/lib/python3.8/dist-packages (from httpx==0.13.3->googletrans==3.1.0a0) (1.3.0)\n",
            "Requirement already satisfied: chardet==3.* in /usr/local/lib/python3.8/dist-packages (from httpx==0.13.3->googletrans==3.1.0a0) (3.0.4)\n",
            "Requirement already satisfied: httpcore==0.9.* in /usr/local/lib/python3.8/dist-packages (from httpx==0.13.3->googletrans==3.1.0a0) (0.9.1)\n",
            "Requirement already satisfied: idna==2.* in /usr/local/lib/python3.8/dist-packages (from httpx==0.13.3->googletrans==3.1.0a0) (2.10)\n",
            "Requirement already satisfied: certifi in /usr/local/lib/python3.8/dist-packages (from httpx==0.13.3->googletrans==3.1.0a0) (2022.12.7)\n",
            "Requirement already satisfied: h2==3.* in /usr/local/lib/python3.8/dist-packages (from httpcore==0.9.*->httpx==0.13.3->googletrans==3.1.0a0) (3.2.0)\n",
            "Requirement already satisfied: h11<0.10,>=0.8 in /usr/local/lib/python3.8/dist-packages (from httpcore==0.9.*->httpx==0.13.3->googletrans==3.1.0a0) (0.9.0)\n",
            "Requirement already satisfied: hyperframe<6,>=5.2.0 in /usr/local/lib/python3.8/dist-packages (from h2==3.*->httpcore==0.9.*->httpx==0.13.3->googletrans==3.1.0a0) (5.2.0)\n",
            "Requirement already satisfied: hpack<4,>=3.0 in /usr/local/lib/python3.8/dist-packages (from h2==3.*->httpcore==0.9.*->httpx==0.13.3->googletrans==3.1.0a0) (3.0.0)\n"
          ]
        }
      ]
    },
    {
      "cell_type": "markdown",
      "metadata": {
        "id": "HWM6F3-u1-t2"
      },
      "source": [
        "Traduzindo lista de frases"
      ]
    },
    {
      "cell_type": "code",
      "metadata": {
        "colab": {
          "base_uri": "https://localhost:8080/"
        },
        "id": "r00hvXf4luYJ",
        "outputId": "194d3d41-4f1d-445f-ed28-7e2010129333"
      },
      "source": [
        "from googletrans import Translator\n",
        "\n",
        "tradutor = Translator()\n",
        "\n",
        "fraseEn = [\"The sky is blue.\",\"The book is on the table.\"]\n",
        "\n",
        "traducoes = tradutor.translate(fraseEn, src=\"en\", dest=\"pt\")  \n",
        "\n",
        "for traducao in traducoes:\n",
        "    print(traducao.origin, \" -> \", traducao.text)"
      ],
      "execution_count": 83,
      "outputs": [
        {
          "output_type": "stream",
          "name": "stdout",
          "text": [
            "The sky is blue.  ->  O céu é azul.\n",
            "The book is on the table.  ->  O livro está sobre a mesa.\n"
          ]
        }
      ]
    },
    {
      "cell_type": "markdown",
      "metadata": {
        "id": "m1qZn4w_2Cpu"
      },
      "source": [
        "Traduzindo uma frase"
      ]
    },
    {
      "cell_type": "code",
      "metadata": {
        "colab": {
          "base_uri": "https://localhost:8080/"
        },
        "id": "OU7MViWB0q7m",
        "outputId": "5f0279f6-9305-4ab9-8262-359938dd54a0"
      },
      "source": [
        "from googletrans import Translator\n",
        "\n",
        "tradutor = Translator()\n",
        "\n",
        "fraseEn = \"The sky is blue.\"\n",
        "\n",
        "traducao = tradutor.translate(fraseEn, src=\"en\", dest=\"pt\")  \n",
        "\n",
        "print(fraseEn)\n",
        "print(traducao)\n",
        "print(traducao.src)\n",
        "print(traducao.dest)\n",
        "if traducao.src == traducao.dest:\n",
        "    print(\"Não foi traduzido\")"
      ],
      "execution_count": 84,
      "outputs": [
        {
          "output_type": "stream",
          "name": "stdout",
          "text": [
            "The sky is blue.\n",
            "Translated(src=en, dest=pt, text=O céu é azul., pronunciation=The sky is blue., extra_data=\"{'translat...\")\n",
            "en\n",
            "pt\n"
          ]
        }
      ]
    },
    {
      "cell_type": "markdown",
      "metadata": {
        "id": "uSQmwK50GQT8"
      },
      "source": [
        "### Versão alternativa\n",
        "\n",
        "https://pypi.org/project/google-trans-new/"
      ]
    },
    {
      "cell_type": "code",
      "metadata": {
        "colab": {
          "base_uri": "https://localhost:8080/"
        },
        "id": "aTVQoxuF_kbP",
        "outputId": "56ee8f6c-2a9d-4e89-ab8c-de8dea471970"
      },
      "source": [
        "!pip install google_trans_new"
      ],
      "execution_count": 85,
      "outputs": [
        {
          "output_type": "stream",
          "name": "stdout",
          "text": [
            "Looking in indexes: https://pypi.org/simple, https://us-python.pkg.dev/colab-wheels/public/simple/\n",
            "Requirement already satisfied: google_trans_new in /usr/local/lib/python3.8/dist-packages (1.1.9)\n"
          ]
        }
      ]
    },
    {
      "cell_type": "code",
      "metadata": {
        "id": "_3YjFRoxsfid"
      },
      "source": [
        "from google_trans_new import google_translator  \n",
        "\n",
        "translator = google_translator()  \n",
        "\n",
        "fraseEn = \"The sky is blue.\"\n",
        "\n",
        "# Erro \n",
        "#frasePtBr = translator.translate(fraseEn,lang_tgt=\"pt\")  \n",
        "\n",
        "#print(frasePtBr)"
      ],
      "execution_count": 86,
      "outputs": []
    },
    {
      "cell_type": "markdown",
      "metadata": {
        "id": "h3XCRcKvpDNE"
      },
      "source": [
        "### Outra versão"
      ]
    },
    {
      "cell_type": "code",
      "metadata": {
        "id": "MwTGtNhbnmg9",
        "colab": {
          "base_uri": "https://localhost:8080/"
        },
        "outputId": "6b7e3612-a7dd-4454-931b-785774fa187b"
      },
      "source": [
        "!pip install translate"
      ],
      "execution_count": 87,
      "outputs": [
        {
          "output_type": "stream",
          "name": "stdout",
          "text": [
            "Looking in indexes: https://pypi.org/simple, https://us-python.pkg.dev/colab-wheels/public/simple/\n",
            "Requirement already satisfied: translate in /usr/local/lib/python3.8/dist-packages (3.6.1)\n",
            "Requirement already satisfied: libretranslatepy==2.1.1 in /usr/local/lib/python3.8/dist-packages (from translate) (2.1.1)\n",
            "Requirement already satisfied: click in /usr/local/lib/python3.8/dist-packages (from translate) (8.1.3)\n",
            "Requirement already satisfied: requests in /usr/local/lib/python3.8/dist-packages (from translate) (2.25.1)\n",
            "Requirement already satisfied: lxml in /usr/local/lib/python3.8/dist-packages (from translate) (4.9.2)\n",
            "Requirement already satisfied: idna<3,>=2.5 in /usr/local/lib/python3.8/dist-packages (from requests->translate) (2.10)\n",
            "Requirement already satisfied: urllib3<1.27,>=1.21.1 in /usr/local/lib/python3.8/dist-packages (from requests->translate) (1.26.14)\n",
            "Requirement already satisfied: chardet<5,>=3.0.2 in /usr/local/lib/python3.8/dist-packages (from requests->translate) (3.0.4)\n",
            "Requirement already satisfied: certifi>=2017.4.17 in /usr/local/lib/python3.8/dist-packages (from requests->translate) (2022.12.7)\n"
          ]
        }
      ]
    },
    {
      "cell_type": "code",
      "metadata": {
        "id": "D5DzX76cnjpm",
        "colab": {
          "base_uri": "https://localhost:8080/"
        },
        "outputId": "b30c6c61-ee8d-45d1-fb13-1c146bb88c58"
      },
      "source": [
        "from translate import Translator\n",
        "\n",
        "tradutor = Translator(from_lang=\"english\", to_lang=\"pt-br\")\n",
        "\n",
        "fraseEn = \"The sky is blue.\"\n",
        "\n",
        "frasePtBR = tradutor.translate(fraseEn)\n",
        "\n",
        "print(frasePtBR)"
      ],
      "execution_count": 88,
      "outputs": [
        {
          "output_type": "stream",
          "name": "stdout",
          "text": [
            "E o céu está tão azul.\n"
          ]
        }
      ]
    },
    {
      "cell_type": "markdown",
      "metadata": {
        "id": "_-uC2Yk7yQur"
      },
      "source": [
        "#Remove Tags HTML do texto\n",
        "\n",
        "https://code.launchpad.net/beautifulsoup/\n"
      ]
    },
    {
      "cell_type": "code",
      "metadata": {
        "id": "modQjr4AyUpn",
        "colab": {
          "base_uri": "https://localhost:8080/"
        },
        "outputId": "d6f52659-1dd1-474c-f609-9d0ea1615d6b"
      },
      "source": [
        "from bs4 import BeautifulSoup\n",
        "\n",
        "mensagemhtml = \"<html><p>Mensagem do HTML</p></html>\"\n",
        "\n",
        "soup = BeautifulSoup(mensagemhtml)\n",
        "\n",
        "mensagemlimpa = soup.get_text()\n",
        "\n",
        "print(mensagemhtml)\n",
        "\n",
        "print(mensagemlimpa)"
      ],
      "execution_count": 89,
      "outputs": [
        {
          "output_type": "stream",
          "name": "stdout",
          "text": [
            "<html><p>Mensagem do HTML</p></html>\n",
            "Mensagem do HTML\n"
          ]
        }
      ]
    },
    {
      "cell_type": "markdown",
      "metadata": {
        "id": "KPkDUbfeg9H7"
      },
      "source": [
        "#Funções\n",
        "\n",
        "Em python, so existe uma forma de declarar um procedimento ou função, isso é feito através do comando **def** seguido pelo nome do procedimento ou função e da sua lista de parâmetros.\n",
        "\n",
        "```python\n",
        "def func(lista de parâmetros):\n",
        "    \"\"\"\n",
        "    Documentation String\n",
        "    \"\"\"\n",
        "    bloco de comandos\n",
        "    return # opcional\n",
        "```\n",
        "\n",
        "Artigo sobre parâmetros, argumentos, *args e \\***kwargs.\n",
        "\n",
        "https://medium.com/luizalabs/fun%C3%A7%C3%B5es-em-python-entendendo-par%C3%A2metros-argumentos-args-e-kwargs-4291b1f817f6"
      ]
    },
    {
      "cell_type": "markdown",
      "metadata": {
        "id": "8U4rSmgUf30l"
      },
      "source": [
        "##Funções com quantidade de parâmetros indeterminados\n",
        "\n",
        "Com o uso de um * (asterisco) podemos criar funções com números indeterminados de parâmetros.\n"
      ]
    },
    {
      "cell_type": "code",
      "metadata": {
        "id": "1l7Kpy-wf30m",
        "colab": {
          "base_uri": "https://localhost:8080/"
        },
        "outputId": "97ec5abe-9ee9-4019-9d1c-5e7131f2a20d"
      },
      "source": [
        "# Declara a função\n",
        "def soma(*valores):\n",
        "    soma = 0 \n",
        "    for i in valores:\n",
        "        soma += i\n",
        "    return soma\n",
        "\n",
        "\n",
        "# Utiliza a função\n",
        "print(soma(1,2,3))\n",
        "print(soma(1,2,3,4))"
      ],
      "execution_count": 90,
      "outputs": [
        {
          "output_type": "stream",
          "name": "stdout",
          "text": [
            "6\n",
            "10\n"
          ]
        }
      ]
    },
    {
      "cell_type": "markdown",
      "metadata": {
        "id": "fIP4lbqu9Z0z"
      },
      "source": [
        "##Funções como parâmetros de funções"
      ]
    },
    {
      "cell_type": "code",
      "metadata": {
        "id": "cpUNK-rc9cxo"
      },
      "source": [
        "# Função a ser usada como argumento\n",
        "def fatorial(n):\n",
        "  fat = 1\n",
        "  for x in range(1,n+1):\n",
        "      fat = fat * x\n",
        "  return fat"
      ],
      "execution_count": 91,
      "outputs": []
    },
    {
      "cell_type": "code",
      "metadata": {
        "id": "vm9jnvB89-Jk"
      },
      "source": [
        "# Chama a função passada como argumento e especifica o argumento\n",
        "def chamada(funcao, argumento):\n",
        "  return funcao(argumento)"
      ],
      "execution_count": 92,
      "outputs": []
    },
    {
      "cell_type": "code",
      "metadata": {
        "id": "3SpFetlB9nLH",
        "colab": {
          "base_uri": "https://localhost:8080/"
        },
        "outputId": "5a7687cd-4629-4f70-f98d-ca33f3898ac0"
      },
      "source": [
        "# Chama a função passando a função fatorial e o argumento 3\n",
        "print(chamada(fatorial,3))"
      ],
      "execution_count": 93,
      "outputs": [
        {
          "output_type": "stream",
          "name": "stdout",
          "text": [
            "6\n"
          ]
        }
      ]
    },
    {
      "cell_type": "markdown",
      "metadata": {
        "id": "PMn9AwJNgJQm"
      },
      "source": [
        "##Funções Lambda\n",
        "\n",
        "Também conhecida como funções anônimas, as funções lambdas permite implementar uma função específica em um único bloco de instrução, sem a necessidade de definir uma função usando a palavra def. A diferença entre as funções são que:\n",
        "\n",
        "* def - cria um objeto internamente colocando o nome da função apontando para ele.\n",
        "* lambda - cria um objeto, porém o retorno é efetuado em tempo de execução.\n",
        "\n",
        "Sintaxe: lambda arg1,...,argN:expressão\n",
        "\n",
        "Exemplos de função utilizando a expressão lambda:"
      ]
    },
    {
      "cell_type": "code",
      "metadata": {
        "id": "ZG82UpBxgT4n",
        "colab": {
          "base_uri": "https://localhost:8080/"
        },
        "outputId": "c55951ee-cf51-4d39-e6bf-67b5e740278b"
      },
      "source": [
        "# Declaração\n",
        "exponencial = lambda x:x*2\n",
        "\n",
        "# Utiliza a função\n",
        "exponencial(8)"
      ],
      "execution_count": 94,
      "outputs": [
        {
          "output_type": "execute_result",
          "data": {
            "text/plain": [
              "16"
            ]
          },
          "metadata": {},
          "execution_count": 94
        }
      ]
    },
    {
      "cell_type": "code",
      "metadata": {
        "id": "bQMl20WagYB3",
        "colab": {
          "base_uri": "https://localhost:8080/"
        },
        "outputId": "7c88080d-506b-412c-e5e6-46e6103c3e40"
      },
      "source": [
        "# Declaração\n",
        "situacao = lambda nota:nota >= 6\n",
        "\n",
        "# Utiliza a função\n",
        "situacao(7)"
      ],
      "execution_count": 95,
      "outputs": [
        {
          "output_type": "execute_result",
          "data": {
            "text/plain": [
              "True"
            ]
          },
          "metadata": {},
          "execution_count": 95
        }
      ]
    },
    {
      "cell_type": "code",
      "metadata": {
        "id": "pORa0WrNglxE",
        "colab": {
          "base_uri": "https://localhost:8080/",
          "height": 35
        },
        "outputId": "ee092840-bcbe-4fc2-d979-58ae7a28bd68"
      },
      "source": [
        "# Declaração\n",
        "invertido = lambda palavra:palavra[::-1]\n",
        "\n",
        "# Utiliza a função\n",
        "invertido(\"Python\")"
      ],
      "execution_count": 96,
      "outputs": [
        {
          "output_type": "execute_result",
          "data": {
            "text/plain": [
              "'nohtyP'"
            ],
            "application/vnd.google.colaboratory.intrinsic+json": {
              "type": "string"
            }
          },
          "metadata": {},
          "execution_count": 96
        }
      ]
    },
    {
      "cell_type": "code",
      "metadata": {
        "id": "UmrUGgJigsVI",
        "colab": {
          "base_uri": "https://localhost:8080/"
        },
        "outputId": "304e7746-3c36-41c4-a6b1-1295f0573f10"
      },
      "source": [
        "# Declaração\n",
        "produto = lambda x,y,z:x*y*z\n",
        "\n",
        "# Utiliza a função\n",
        "produto(3,9,18)"
      ],
      "execution_count": 97,
      "outputs": [
        {
          "output_type": "execute_result",
          "data": {
            "text/plain": [
              "486"
            ]
          },
          "metadata": {},
          "execution_count": 97
        }
      ]
    },
    {
      "cell_type": "markdown",
      "metadata": {
        "id": "GM-MnEYKhFgS"
      },
      "source": [
        "## Função Map\n",
        "A função map aplica uma função a todos os elementos de uma lista sem a necessidade de utilizar um loop for, retornando uma nova lista com os elementos alterados pela função escolhida.\n",
        "\n",
        "Sintaxe: map(fun, seq)"
      ]
    },
    {
      "cell_type": "markdown",
      "metadata": {
        "id": "6sTGPKQfhjaV"
      },
      "source": [
        "Soma de 2 listas"
      ]
    },
    {
      "cell_type": "code",
      "metadata": {
        "id": "f6rdYblNhvS2",
        "colab": {
          "base_uri": "https://localhost:8080/"
        },
        "outputId": "1a45061c-8c1a-4b83-f981-2bf01fc17378"
      },
      "source": [
        "# Declaração\n",
        "L1 = [10, 20, 30, 40, 50]\n",
        "L2 = [1, 2, 3, 4, 5]\n",
        "\n",
        "# Utiliza a função\n",
        "soma = list(map(lambda a,b:a+b, L1, L2))\n",
        "\n",
        "print(soma)"
      ],
      "execution_count": 98,
      "outputs": [
        {
          "output_type": "stream",
          "name": "stdout",
          "text": [
            "[11, 22, 33, 44, 55]\n"
          ]
        }
      ]
    },
    {
      "cell_type": "markdown",
      "metadata": {
        "id": "qOAjikQYhh0V"
      },
      "source": [
        "Soma de 3 listas"
      ]
    },
    {
      "cell_type": "code",
      "metadata": {
        "id": "iNJ52TyQhhRZ",
        "colab": {
          "base_uri": "https://localhost:8080/"
        },
        "outputId": "5cc2fd41-9041-4ef5-ad1c-7bf403746c1c"
      },
      "source": [
        "# Declaração\n",
        "L1 = [10, 20, 30, 40, 50]\n",
        "L2 = [1, 2, 3, 4, 5]\n",
        "L3 = [11, 22, 33, 44, 55]\n",
        "\n",
        "# Utiliza a função\n",
        "soma = list(map(lambda a,b,c:a+b+c, L1, L2, L3))\n",
        "\n",
        "print(soma)"
      ],
      "execution_count": 99,
      "outputs": [
        {
          "output_type": "stream",
          "name": "stdout",
          "text": [
            "[22, 44, 66, 88, 110]\n"
          ]
        }
      ]
    },
    {
      "cell_type": "markdown",
      "metadata": {
        "id": "LxaFpeJNh8oP"
      },
      "source": [
        "## Função Reduce\n",
        "\n",
        "Aplica uma função em todos os elementos da lista, retornando um único valor. É necessário importar a biblioteca functools para utilizar a função reduce.\n",
        "\n",
        "Sintaxe: reduce(fun, seq)"
      ]
    },
    {
      "cell_type": "code",
      "metadata": {
        "id": "F1_VrxAMiBL-",
        "colab": {
          "base_uri": "https://localhost:8080/"
        },
        "outputId": "6a721ea0-b6a8-4b93-ceec-66c6386d21ef"
      },
      "source": [
        "from functools import reduce\n",
        "\n",
        "# Declaração\n",
        "L1 = [1, 2, 3, 4, 5]\n",
        "\n",
        "# Utiliza a função\n",
        "soma = reduce((lambda x,y:x+y), L1) #((((1+2)+3)+4)+5)\n",
        "\n",
        "print(soma)"
      ],
      "execution_count": 100,
      "outputs": [
        {
          "output_type": "stream",
          "name": "stdout",
          "text": [
            "15\n"
          ]
        }
      ]
    },
    {
      "cell_type": "markdown",
      "metadata": {
        "id": "WUKwvSaxiKfK"
      },
      "source": [
        "## Função Filter\n",
        "\n",
        "A função filter nos permite filtrar elementos de uma sequência de valores.\n",
        "\n",
        "Sintaxe: filter(fun, seq)"
      ]
    },
    {
      "cell_type": "code",
      "metadata": {
        "id": "LjbBn49qiOQw",
        "colab": {
          "base_uri": "https://localhost:8080/"
        },
        "outputId": "0fa74bf5-72b1-4ef2-db05-1d460060863f"
      },
      "source": [
        "# Declaração\n",
        "L1 = [1, 2, 3, 4, 5, 6, 7, 8, 9, 10]\n",
        "\n",
        "# Utiliza a função\n",
        "filtro = list(filter(lambda x: x%2==0, L1)) #fitra os pares\n",
        "\n",
        "print(filtro)"
      ],
      "execution_count": 101,
      "outputs": [
        {
          "output_type": "stream",
          "name": "stdout",
          "text": [
            "[2, 4, 6, 8, 10]\n"
          ]
        }
      ]
    },
    {
      "cell_type": "markdown",
      "metadata": {
        "id": "-VluuxMbiXqN"
      },
      "source": [
        "## Função Zip\n",
        "\n",
        "A função zip nos retorna o agrupamento de duas sequências em uma tupla. Ao ser aplicado em sequências com tamanhos diferentes, o número de tuplas será igual ao número da menor sequência de valores.\n",
        "\n",
        "Sintaxe: zip(seq,seq)"
      ]
    },
    {
      "cell_type": "code",
      "metadata": {
        "id": "92DJXz_DiaNk",
        "colab": {
          "base_uri": "https://localhost:8080/"
        },
        "outputId": "b3704c1b-99c5-457f-cfe0-dd3327e448e0"
      },
      "source": [
        "# Declaração\n",
        "L1 = [1, 3, 5, 7, 9]\n",
        "L2 = [2, 4, 6, 8, 10]\n",
        "\n",
        "# Utiliza a função\n",
        "LZIP = zip(L1,L2)\n",
        "\n",
        "print(LZIP)"
      ],
      "execution_count": 102,
      "outputs": [
        {
          "output_type": "stream",
          "name": "stdout",
          "text": [
            "<zip object at 0x7f6932bbf900>\n"
          ]
        }
      ]
    },
    {
      "cell_type": "markdown",
      "metadata": {
        "id": "tMJ0zkTyilOt"
      },
      "source": [
        "O retorno da zip é um iterador, precisamos usar a função list() para obter uma lista."
      ]
    },
    {
      "cell_type": "code",
      "metadata": {
        "id": "H2o7_n4rilzL",
        "colab": {
          "base_uri": "https://localhost:8080/"
        },
        "outputId": "a76051f6-7cef-489c-d0a2-1a09ef6760b6"
      },
      "source": [
        "print(list(LZIP))"
      ],
      "execution_count": 103,
      "outputs": [
        {
          "output_type": "stream",
          "name": "stdout",
          "text": [
            "[(1, 2), (3, 4), (5, 6), (7, 8), (9, 10)]\n"
          ]
        }
      ]
    },
    {
      "cell_type": "markdown",
      "metadata": {
        "id": "u4vcAQXmisl-"
      },
      "source": [
        "Exemplo com listas de tamanhos diferentes."
      ]
    },
    {
      "cell_type": "code",
      "metadata": {
        "id": "Y7K5i8GTiuqo",
        "colab": {
          "base_uri": "https://localhost:8080/"
        },
        "outputId": "63c2d914-725d-4697-86ae-37e00279dd23"
      },
      "source": [
        "# Declaração\n",
        "L3 = [1, 2, 3, 4, 5]\n",
        "L4 = [22, 11]\n",
        "\n",
        "# Utiliza a função\n",
        "LZIP = list(zip(L3,L4))\n",
        "\n",
        "print(list(LZIP))"
      ],
      "execution_count": 104,
      "outputs": [
        {
          "output_type": "stream",
          "name": "stdout",
          "text": [
            "[(1, 22), (2, 11)]\n"
          ]
        }
      ]
    },
    {
      "cell_type": "markdown",
      "metadata": {
        "id": "-vnZtDA7jG9p"
      },
      "source": [
        "Em dicionários"
      ]
    },
    {
      "cell_type": "code",
      "metadata": {
        "id": "uIplscX4jIct",
        "colab": {
          "base_uri": "https://localhost:8080/"
        },
        "outputId": "13b015f2-62fe-4fe1-d81a-f393f2da33d7"
      },
      "source": [
        "# Dicionários\n",
        "dic1 = {\"a\":1, \"b\":2, \"c\":3, \"d\":4}\n",
        "dic2 = {\"aa\":11, \"bb\":22, \"cc\":33, \"dd\":44}\n",
        "\n",
        "# A função zip faz a união pelas chaves\n",
        "print(list(zip(dic1,dic2)))\n",
        "\n",
        "# Unindo pelos valores\n",
        "print(list(zip(dic1.values(),dic2.values())))\n",
        "\n",
        "# Unindo chaves com valores\n",
        "print(list(zip(dic1,dic2.values())))"
      ],
      "execution_count": 105,
      "outputs": [
        {
          "output_type": "stream",
          "name": "stdout",
          "text": [
            "[('a', 'aa'), ('b', 'bb'), ('c', 'cc'), ('d', 'dd')]\n",
            "[(1, 11), (2, 22), (3, 33), (4, 44)]\n",
            "[('a', 11), ('b', 22), ('c', 33), ('d', 44)]\n"
          ]
        }
      ]
    },
    {
      "cell_type": "markdown",
      "metadata": {
        "id": "qSZNWrpMjbxo"
      },
      "source": [
        "## Função Enumerate\n",
        "A função enumerate retorna um par índice valor de uma sequência definida.\n",
        "\n",
        "Sintaxe: enumerate(seq)"
      ]
    },
    {
      "cell_type": "code",
      "metadata": {
        "id": "ogK90wkPjdzE",
        "colab": {
          "base_uri": "https://localhost:8080/"
        },
        "outputId": "f53300ac-090e-4dcb-d7d6-f564cbe358a0"
      },
      "source": [
        "# Lista sem índice\n",
        "lista = [\"a\", \"b\", \"c\", \"d\"]\n",
        "\n",
        "# Mostra a lista indexada\n",
        "print(list(enumerate(lista)))\n",
        "\n",
        "# Percorre a lista indexada\n",
        "for i, elemento in enumerate(lista):\n",
        "    print(i,elemento)"
      ],
      "execution_count": 106,
      "outputs": [
        {
          "output_type": "stream",
          "name": "stdout",
          "text": [
            "[(0, 'a'), (1, 'b'), (2, 'c'), (3, 'd')]\n",
            "0 a\n",
            "1 b\n",
            "2 c\n",
            "3 d\n"
          ]
        }
      ]
    },
    {
      "cell_type": "markdown",
      "metadata": {
        "id": "g7rhEbeJOdBr"
      },
      "source": [
        "## Função que retorna mais de um valor\n",
        "\n",
        "Uma função pode retornar mais de um valor, basta usar `return` com mais de um parâmetro. Também é possível retornar somente um determinado valor, basta ignorar retorna não desejando especificando `_` no lugar da variável de retorno.\n"
      ]
    },
    {
      "cell_type": "code",
      "metadata": {
        "id": "oqIYsonWOdni"
      },
      "source": [
        "# Declaração\n",
        "def calculadora(numero1, numero2):\n",
        "  \n",
        "    # Processamento da função\n",
        "    soma = numero1 + numero2\n",
        "    diferenca = numero2 + numero1\n",
        "    produto = numero1 * numero2\n",
        "    divisao = numero2 / numero1\n",
        "\n",
        "    # Retornando mais de um valor\n",
        "    return soma, diferenca, produto, divisao"
      ],
      "execution_count": 107,
      "outputs": []
    },
    {
      "cell_type": "code",
      "metadata": {
        "id": "v9wAWvJfO9zU",
        "colab": {
          "base_uri": "https://localhost:8080/"
        },
        "outputId": "48727742-150b-4a73-9fe4-56fd26223230"
      },
      "source": [
        "# Usando a função\n",
        "numero1 = 2\n",
        "numero2 = 10\n",
        "\n",
        "# Recuperando todos os resultados\n",
        "rsoma, rdiferenca, rproduto, rdivisao = calculadora(numero1, numero2)\n",
        "\n",
        "print(rsoma, rdiferenca, rproduto, rdivisao)\n",
        "\n",
        "# Recuperando somente um resultado\n",
        "_, rdif, _, _ = calculadora(numero1, numero2)\n",
        "\n",
        "print(rdif)"
      ],
      "execution_count": 108,
      "outputs": [
        {
          "output_type": "stream",
          "name": "stdout",
          "text": [
            "12 12 20 5.0\n",
            "12\n"
          ]
        }
      ]
    },
    {
      "cell_type": "markdown",
      "metadata": {
        "id": "CZXDOTptymKY"
      },
      "source": [
        "## Função com uso do ´yield´\n",
        "\n",
        "O `yield` só pode ser utilizando de funções. Dentro de uma função funciona como um `return`, só que retorna um objeto **generator** que é iterável. Para iterar sobre a função é necessário chamar a função `next()` ou utilizar um `for`.\n",
        "\n",
        "O `yield` marca a posição da última chamada da função `next()` de forma explicita ou implicita(`for`)."
      ]
    },
    {
      "cell_type": "markdown",
      "metadata": {
        "id": "Id1h-zE40QpT"
      },
      "source": [
        "### Exemplo 1 yield"
      ]
    },
    {
      "cell_type": "code",
      "metadata": {
        "id": "iyTSP_h8ymYR"
      },
      "source": [
        "# Declaração\n",
        "def funcao():\n",
        "    yield 10\n",
        "    yield 20\n",
        "    yield 30  "
      ],
      "execution_count": 109,
      "outputs": []
    },
    {
      "cell_type": "code",
      "metadata": {
        "id": "0mtM2GEo0Zty",
        "colab": {
          "base_uri": "https://localhost:8080/"
        },
        "outputId": "9653fc93-22bf-4b27-d5a8-be0353e296e0"
      },
      "source": [
        "# Recupera o iterador da função para a variável conjunto\n",
        "conjunto = funcao()\n",
        "\n",
        "# O comando \"next()\" retorna o número da primeira declaração de yield na variável conjunto\n",
        "print(next(conjunto))\n",
        "\n",
        "# O comando \"next()\" retorna o número da segunda declaração de yield na variável conjunto\n",
        "print(next(conjunto))\n",
        "\n",
        "# O comando \"next()\" retorna o número da terceira declaração de yield na variável conjunto\n",
        "print(next(conjunto))\n",
        "\n",
        "# A função next só pode ser chamada 3 vezes, pois existe somente 3 declarações!\n",
        "# Mas o yield pode ser declarado dentro de um laço(for)"
      ],
      "execution_count": 110,
      "outputs": [
        {
          "output_type": "stream",
          "name": "stdout",
          "text": [
            "10\n",
            "20\n",
            "30\n"
          ]
        }
      ]
    },
    {
      "cell_type": "markdown",
      "metadata": {
        "id": "1BYmE9aa02Hf"
      },
      "source": [
        "### Exemplo 2 yield"
      ]
    },
    {
      "cell_type": "code",
      "metadata": {
        "id": "D83pEDzF02Hg"
      },
      "source": [
        "# Declaração\n",
        "def funcao():\n",
        "    yield 10\n",
        "    yield 20  \n",
        "    yield 30  "
      ],
      "execution_count": 111,
      "outputs": []
    },
    {
      "cell_type": "code",
      "metadata": {
        "id": "SxXEYFap04VT",
        "colab": {
          "base_uri": "https://localhost:8080/"
        },
        "outputId": "2c0744e6-97c3-40c0-f8d5-e9fc605330f4"
      },
      "source": [
        "# Recupera o iterador da função para a variável conjunto\n",
        "conjunto = funcao()\n",
        "\n",
        "# O comando \"for\" chama o next implicitamente retornando o número a medida que vai iterando a variável conjunto\n",
        "for x in conjunto:\n",
        "    print(x)\n",
        "\n",
        "# A função next só pode ser chamada 3 vezes, pois existe somente 3 declarações!\n",
        "# Mas o yield pode ser declarado dentro de um laço(for)"
      ],
      "execution_count": 112,
      "outputs": [
        {
          "output_type": "stream",
          "name": "stdout",
          "text": [
            "10\n",
            "20\n",
            "30\n"
          ]
        }
      ]
    },
    {
      "cell_type": "markdown",
      "metadata": {
        "id": "H1Oza3DI2nC2"
      },
      "source": [
        "### Exemplo 3 yield"
      ]
    },
    {
      "cell_type": "code",
      "metadata": {
        "id": "1zIBDaQz2nC2"
      },
      "source": [
        "# Declaração\n",
        "def geraNumero(inicio = 1, fim = 100):\n",
        "    \"\"\"\n",
        "    Gera os números no intervalo de número inicio até fim passado por parâmetro\n",
        "    \"\"\"\n",
        "    for numero in range(inicio, fim + 1):\n",
        "        yield numero"
      ],
      "execution_count": 113,
      "outputs": []
    },
    {
      "cell_type": "code",
      "metadata": {
        "id": "xohojoNy2nC4",
        "colab": {
          "base_uri": "https://localhost:8080/"
        },
        "outputId": "80cd497d-ff7c-4787-f3df-1f3d326f006c"
      },
      "source": [
        "# Recupera o iterador da função para a variável conjunto\n",
        "conjunto = geraNumero(5, 10)\n",
        "\n",
        "# Sem o uso do yield na função geraNumero o for gera todos os números do intervalo\n",
        "\n",
        "# O comando \"for\" chama o next implicitamente gerando cada número a medida que vai iterando a variável conjunto\n",
        "for x in conjunto:\n",
        "    print(x)"
      ],
      "execution_count": 114,
      "outputs": [
        {
          "output_type": "stream",
          "name": "stdout",
          "text": [
            "5\n",
            "6\n",
            "7\n",
            "8\n",
            "9\n",
            "10\n"
          ]
        }
      ]
    },
    {
      "cell_type": "markdown",
      "metadata": {
        "id": "cLpubXN0-sMk"
      },
      "source": [
        "### Exemplo 4 yield\n",
        "\n",
        "Função com retorno"
      ]
    },
    {
      "cell_type": "code",
      "metadata": {
        "id": "XGwJdu0n-sMl"
      },
      "source": [
        "# Declaração\n",
        "def geraNumero(inicio = 1, fim = 100):\n",
        "    \"\"\"\n",
        "    Gera os números no intervalo de número inicio até fim passado por parâmetro\n",
        "    \"\"\"\n",
        "    for numero in range(inicio, fim + 1):\n",
        "        yield numero"
      ],
      "execution_count": 115,
      "outputs": []
    },
    {
      "cell_type": "code",
      "metadata": {
        "id": "p-plQ3bh-sMo",
        "colab": {
          "base_uri": "https://localhost:8080/"
        },
        "outputId": "02530fa2-bb42-43de-ed5a-c505b54acbdc"
      },
      "source": [
        "# Recupera o iterador da função para a variável conjunto\n",
        "conjunto = geraNumero(5, 10)\n",
        "\n",
        "# Sem o uso do yield na função geraNumero o for gera todos os números do intervalo\n",
        "\n",
        "# O comando \"for\" chama o next implicitamente gerando cada número a medida que vai iterando a variável conjunto\n",
        "for x in conjunto:\n",
        "    print(x)"
      ],
      "execution_count": 116,
      "outputs": [
        {
          "output_type": "stream",
          "name": "stdout",
          "text": [
            "5\n",
            "6\n",
            "7\n",
            "8\n",
            "9\n",
            "10\n"
          ]
        }
      ]
    },
    {
      "cell_type": "markdown",
      "metadata": {
        "id": "xPVtpRBpPPuD"
      },
      "source": [
        "## Função com especificação de tipos de dados para os parâmetros e retorno\n",
        "\n",
        "Para especificar o tipo de dados dos parâmetos coloque o nome da variávei seguido de dois pontos(:) e o tipo de dado.\n",
        "\n",
        "Para especificar o retorno coloque logo depois da lista de parâmetros o símbolo \"->\" e o tipo de dado seguido por dois pontos(:)."
      ]
    },
    {
      "cell_type": "code",
      "metadata": {
        "id": "ryr97DigPXe3",
        "colab": {
          "base_uri": "https://localhost:8080/"
        },
        "outputId": "d3e2929b-ab64-4a0d-a090-cec347688cc8"
      },
      "source": [
        "# Declara a função\n",
        "def soma(num1 : int, num2 : int) -> int:\n",
        "    total = 0 \n",
        "    total = num1 + num2        \n",
        "    return total\n",
        "\n",
        "resultado = soma(10,20)\n",
        "\n",
        "# Utiliza a função\n",
        "print(resultado)"
      ],
      "execution_count": 117,
      "outputs": [
        {
          "output_type": "stream",
          "name": "stdout",
          "text": [
            "30\n"
          ]
        }
      ]
    },
    {
      "cell_type": "markdown",
      "metadata": {
        "id": "hq5BfazeHGJn"
      },
      "source": [
        "# Mensagem de Progresso"
      ]
    },
    {
      "cell_type": "markdown",
      "metadata": {
        "id": "QjI0bn4LHUM9"
      },
      "source": [
        "## Exemplo mensagem de um nível com lista"
      ]
    },
    {
      "cell_type": "code",
      "metadata": {
        "id": "qPf0rRa4HUM-",
        "colab": {
          "base_uri": "https://localhost:8080/"
        },
        "outputId": "b7d88842-c4a1-416e-e011-37423314f1c8"
      },
      "source": [
        "# Import da biblioteca\n",
        "from IPython.display import clear_output\n",
        "\n",
        "lista = []\n",
        "\n",
        "qtde = 1000\n",
        "\n",
        "for x in range(qtde):\n",
        "    lista.append(x**x)\n",
        "\n",
        "    clear_output(wait=True)\n",
        "    print(\"Teste: \", x + 1, \"/\", qtde)"
      ],
      "execution_count": 118,
      "outputs": [
        {
          "output_type": "stream",
          "name": "stdout",
          "text": [
            "Teste:  1000 / 1000\n"
          ]
        }
      ]
    },
    {
      "cell_type": "markdown",
      "metadata": {
        "id": "RUTFXBBuIUVN"
      },
      "source": [
        "## Exemplo mensagem com 2 níveis com lista"
      ]
    },
    {
      "cell_type": "code",
      "metadata": {
        "id": "9qPsM1_6IUVN",
        "colab": {
          "base_uri": "https://localhost:8080/"
        },
        "outputId": "faa8a86e-45bd-4e26-c7e3-12c8aff83620"
      },
      "source": [
        "# Import da biblioteca\n",
        "from IPython.display import clear_output\n",
        "from time import sleep\n",
        "\n",
        "qtde1 = 5\n",
        "qtde2 = 100\n",
        "\n",
        "for x in range(qtde1):\n",
        "    for y in range(qtde2):\n",
        "        # Retarda o laço em 0.01 segundos\n",
        "        sleep(0.02)\n",
        "\n",
        "        clear_output(wait=True)\n",
        "        print(\"Teste: \", x + 1, \"/\", qtde1, \" de \", y + 1, \"/\", qtde2)                "
      ],
      "execution_count": 119,
      "outputs": [
        {
          "output_type": "stream",
          "name": "stdout",
          "text": [
            "Teste:  5 / 5  de  100 / 100\n"
          ]
        }
      ]
    },
    {
      "cell_type": "markdown",
      "metadata": {
        "id": "U3fqY5AqX1tN"
      },
      "source": [
        "# Barra de Progresso\n",
        "\n",
        "O tdqm é um pacote que posibilita criar barra de progressos e estimar o tempo para funções e laços.\n",
        "\n",
        "https://github.com/tqdm/tqdm\n",
        "\n",
        "Em um laço itere sobre `tqdm` ou `tqdm_notebook`(caso esteja executando um Notebook)."
      ]
    },
    {
      "cell_type": "markdown",
      "metadata": {
        "id": "7F8jtwpZYLkA"
      },
      "source": [
        "## Exemplo barra de um nível com lista"
      ]
    },
    {
      "cell_type": "code",
      "metadata": {
        "id": "sTAX64dHX0qm",
        "colab": {
          "base_uri": "https://localhost:8080/",
          "height": 49,
          "referenced_widgets": [
            "04682e6e7cfe49d39336dbc209ac4bc5",
            "1949c714d69543cc9d93889bbc6778b6",
            "44feff7fd8134c1eb899e829144d3a77",
            "b596345b95394f61a2452b5d4186973e",
            "3e6552b6e2104341ab460a9abf70a406",
            "b195374a702c457b81d2420442990a9b",
            "88b5b8efcefe413f839839a3fe3a094e",
            "ce466ecd7c0345608463658e1d23d51b",
            "0377d0746f5f4ced9ed8062b2d03e6b5",
            "7cd37c07c3c8495aa7770f088c00d455",
            "15d50f17f2214b6d828eb0e7a21d91d5"
          ]
        },
        "outputId": "36efd039-6b66-4c3f-d155-2e3145f1968c"
      },
      "source": [
        "# Import da biblioteca\n",
        "from tqdm.notebook import tqdm\n",
        "\n",
        "QTDE = 10000\n",
        "\n",
        "lista = []\n",
        "\n",
        "for x in tqdm(range(QTDE)):\n",
        "    lista.append(x**x)"
      ],
      "execution_count": 120,
      "outputs": [
        {
          "output_type": "display_data",
          "data": {
            "text/plain": [
              "  0%|          | 0/10000 [00:00<?, ?it/s]"
            ],
            "application/vnd.jupyter.widget-view+json": {
              "version_major": 2,
              "version_minor": 0,
              "model_id": "04682e6e7cfe49d39336dbc209ac4bc5"
            }
          },
          "metadata": {}
        }
      ]
    },
    {
      "cell_type": "markdown",
      "metadata": {
        "id": "Yh2b79LTobBm"
      },
      "source": [
        "Usando trange"
      ]
    },
    {
      "cell_type": "code",
      "metadata": {
        "id": "fCp3dwH6oTrq",
        "colab": {
          "base_uri": "https://localhost:8080/",
          "height": 49,
          "referenced_widgets": [
            "3fc5082b7a264bab9710d351b47b01c1",
            "d996129c8d83449aa4e922eda8c1b8eb",
            "effdd5137c904c988123fb782db046e5",
            "e93e766582fd4b85a306cd0fb9eae66e",
            "0b155b39b8f44e7aa73b0c662fc61ce2",
            "3fa19d6b295f4db1863a3d01ce6f7bce",
            "d7e23c239d454585b67fd2996043dcf7",
            "35d4915ba99f4019943e1447265cb620",
            "ed6cd0a14711423aa28fcd5f2752a8e2",
            "6cb0d2d1891640e0a244e1f44b57bffd",
            "d333bf28e1bf424c867fea4995897f58"
          ]
        },
        "outputId": "4ba0cc7f-3dbf-4e93-ee7c-bceeb878788a"
      },
      "source": [
        "# Import da biblioteca\n",
        "from tqdm.notebook import trange\n",
        "\n",
        "QTDE = 10000\n",
        "\n",
        "lista = []\n",
        "\n",
        "for x in trange(QTDE):\n",
        "    lista.append(x**x)"
      ],
      "execution_count": 121,
      "outputs": [
        {
          "output_type": "display_data",
          "data": {
            "text/plain": [
              "  0%|          | 0/10000 [00:00<?, ?it/s]"
            ],
            "application/vnd.jupyter.widget-view+json": {
              "version_major": 2,
              "version_minor": 0,
              "model_id": "3fc5082b7a264bab9710d351b47b01c1"
            }
          },
          "metadata": {}
        }
      ]
    },
    {
      "cell_type": "markdown",
      "metadata": {
        "id": "X_GDSzZunI6B"
      },
      "source": [
        "Adicionando detalhes a barra de progresso"
      ]
    },
    {
      "cell_type": "code",
      "metadata": {
        "id": "kOkWyRyWm0Sl",
        "colab": {
          "base_uri": "https://localhost:8080/",
          "height": 49,
          "referenced_widgets": [
            "022f741953954625a19a6e6cbe293fcd",
            "ac67ee7e37ac41d3ac3b983980442c94",
            "59ec280abf9043f09caa81b97a4f7daf",
            "abc32001653b43ac938c786adabcc43b",
            "976c536012974bad8997e2ed0c754784",
            "74d12ec706ce469ebb91714af208e977",
            "9cff095e70cd4d8f8642b94002b28640",
            "2d166deff497433ebf0929d2ec05ecd3",
            "429207c3840d496da7dbce222a1605bd",
            "3de94c782569481d837d8a490be5dbb0",
            "15a819cd28844f94871ccac737413754"
          ]
        },
        "outputId": "1ac8368c-266a-4d00-e723-8d4c8ab32170"
      },
      "source": [
        "# Import da biblioteca\n",
        "from tqdm.notebook import tqdm\n",
        "\n",
        "QTDE = 10000\n",
        "\n",
        "lista = []\n",
        "\n",
        "for x in tqdm(range(QTDE), desc=f\"Contando\", unit=f\"vezes\", total=QTDE):\n",
        "    lista.append(x**x)"
      ],
      "execution_count": 122,
      "outputs": [
        {
          "output_type": "display_data",
          "data": {
            "text/plain": [
              "Contando:   0%|          | 0/10000 [00:00<?, ?vezes/s]"
            ],
            "application/vnd.jupyter.widget-view+json": {
              "version_major": 2,
              "version_minor": 0,
              "model_id": "022f741953954625a19a6e6cbe293fcd"
            }
          },
          "metadata": {}
        }
      ]
    },
    {
      "cell_type": "markdown",
      "metadata": {
        "id": "Dvsc1uEjz9HL"
      },
      "source": [
        "Atualizando a barra de progresso 1."
      ]
    },
    {
      "cell_type": "code",
      "metadata": {
        "id": "RJIMZab4ojDA",
        "colab": {
          "base_uri": "https://localhost:8080/",
          "height": 49,
          "referenced_widgets": [
            "a0b058c972e04272be628ac0bd64e33e",
            "fe266c8ece5944269a04765247be72a0",
            "04c74da769694b4bb2b007603e02c06f",
            "1ca14fb6a4e84b44b288160a0a2291ea",
            "da942cdc0de14025ac91d8a104e1f835",
            "e5293434ddff46fd8088fd084818ad39",
            "29d97a79e0874632b812856cfbdfdb8f",
            "2dc9bcb3bf374ce4ba58ab7c49bc6e42",
            "de7de41a7a1e420cbf5c01574d3a0e10",
            "c3aaaefd3bbe4a3cb248847e7587646a",
            "3a6689a250ef47ea942d1545fd285259"
          ]
        },
        "outputId": "98117b24-672c-4af2-94f2-6c0abc319125"
      },
      "source": [
        "# Import da biblioteca\n",
        "from tqdm.notebook import tqdm\n",
        "import time\n",
        "\n",
        "QTDE = 100\n",
        "\n",
        "lista = []\n",
        "\n",
        "barra_progresso = tqdm(range(QTDE), desc=f\"Contando\", unit=f\"vezes\", total=QTDE)\n",
        "\n",
        "for x in barra_progresso:\n",
        "    lista.append(x**x)\n",
        "\n",
        "    time.sleep(0.25)\n",
        "    \n",
        "    # Mostra detalhes na barra de progresso \n",
        "    barra_progresso.set_postfix(tamanho=len(lista))"
      ],
      "execution_count": 123,
      "outputs": [
        {
          "output_type": "display_data",
          "data": {
            "text/plain": [
              "Contando:   0%|          | 0/100 [00:00<?, ?vezes/s]"
            ],
            "application/vnd.jupyter.widget-view+json": {
              "version_major": 2,
              "version_minor": 0,
              "model_id": "a0b058c972e04272be628ac0bd64e33e"
            }
          },
          "metadata": {}
        }
      ]
    },
    {
      "cell_type": "markdown",
      "metadata": {
        "id": "cngVpd4yHJHv"
      },
      "source": [
        "Atualizando a barra de progresso 2."
      ]
    },
    {
      "cell_type": "code",
      "metadata": {
        "colab": {
          "base_uri": "https://localhost:8080/",
          "height": 49,
          "referenced_widgets": [
            "d344b6c96cc8423791be3889290608e9",
            "10e5b3982cc84a10b0ca8404a23e1582",
            "74d4be4b5dfb48c389b28ac3b11ac17d",
            "11f49805488749ce9770460ea30af0a6",
            "14cde86c21a44997bd7e66d4366eee11",
            "f7ec81bb8ded45be92d981e92082274b",
            "509aa2f56bd4448bab9b7e71560c184d",
            "7263c8c9723547c2828cf4fd0d720271",
            "5d9f8ba2595d4ba48c0174b24f1db9bf",
            "bd33ff9faeeb4b9aad7b808fe554523a",
            "3923aec6d6e0433b8e526c6086650c98"
          ]
        },
        "outputId": "87833236-58ed-43ff-f846-6faf86e29edc",
        "id": "4o_unI4GHJHv"
      },
      "source": [
        "# Import da biblioteca\n",
        "from tqdm.notebook import tqdm\n",
        "import time\n",
        "\n",
        "QTDE = 100\n",
        "\n",
        "lista = []\n",
        "\n",
        "# Cria a barra de progresso\n",
        "barra_progresso = tqdm(desc=f\"Contando\", unit=f\"vezes\", total=QTDE)\n",
        "\n",
        "for x in range(0, QTDE):\n",
        "    lista.append(x**x)\n",
        "\n",
        "    time.sleep(0.25)\n",
        "    \n",
        "    # Atualiza a barra de progresso \n",
        "    barra_progresso.update(1)\n",
        "\n",
        "    # Mostra detalhes na barra de progresso \n",
        "    barra_progresso.set_postfix(tamanho=len(lista))"
      ],
      "execution_count": 124,
      "outputs": [
        {
          "output_type": "display_data",
          "data": {
            "text/plain": [
              "Contando:   0%|          | 0/100 [00:00<?, ?vezes/s]"
            ],
            "application/vnd.jupyter.widget-view+json": {
              "version_major": 2,
              "version_minor": 0,
              "model_id": "d344b6c96cc8423791be3889290608e9"
            }
          },
          "metadata": {}
        }
      ]
    },
    {
      "cell_type": "markdown",
      "metadata": {
        "id": "2nhj0MdnYZW8"
      },
      "source": [
        "## Exemplo barras com 2 níveis com lista"
      ]
    },
    {
      "cell_type": "code",
      "metadata": {
        "id": "Ec5ekCupYZW9",
        "colab": {
          "base_uri": "https://localhost:8080/",
          "height": 49,
          "referenced_widgets": [
            "e038e975089c4cfa8209eb0ad84b4685",
            "8b77818e5b27487f9c4b1c4271b63662",
            "0b231d40f48441b9bf5af6b908404aed",
            "d9cab0dcd63849619c651b2e92900519",
            "072fa3c2307445369957790a94e89fbc",
            "8e59d73d9c0f4579b2c5c6b06a90622c",
            "2cbf98d624d448ffa47aa95a7ab2bad0",
            "e35452225fb74dc1aa72c7f72c8f52ff",
            "ee502306895c4c85bbd5e16c7080c381",
            "d75a010e992f47edae9da18238dcf36d",
            "fd7f749b903d44c0ac582540f692f32c",
            "c53035a5997143a98b5d5eeffc4b7a3f",
            "e2ed70743f9f437092bfa7213ad4558a",
            "8518596ea0ef425ab8f6b522071a49df",
            "60381b9302134258bbc9d940c42157e3",
            "ffca2780c291420e9863f97861f7797a",
            "408c5aad4bdf470cad3b148f9297f6c2",
            "e823aa8498dc483491d60b3e340daf3e",
            "bd2a04d2f3e347029ff827e31fd0af53",
            "55d68deccbda4108901dac01a5cf8e25",
            "d4cb576775f245fa9bfcd16f661005cc",
            "da5104eafadc42c1a675f9d9e494c06c",
            "a4d19b3fa5804d03b867f29dc795ed99",
            "d20557de19d14c48957ad1359d7a4d95",
            "72dc6d7114e64e7f8b4bfe25a81eae6b",
            "6d945a5e80194cf086174f1846cd59b0",
            "3cfabe6d8ea44fb487fb790c15a6f233",
            "962c98bcde0a4472ae00b5868e96d8b5",
            "b1ac0ab0d12d473e8bafd757d7716b51",
            "694d9263a7624bd6a0e57d152d4398ff",
            "08205902fe414e49a9ecb0c623129892",
            "c174c2b3c0b24f0685d7329413e18054",
            "e4b6ef9503e34e22a7a5564ff078390a",
            "cd6687c708834da297f81c73829838e1",
            "2205d0aad1274539a1e0adda412377d7",
            "edd14e582d634fccb4584fcf25edea41",
            "f2a9619d54c6421caf793d5f826fa03c",
            "8bfd212f87854a369e3d97ed46ec9add",
            "5b42cac637314c1ba17bdc5954c6be69",
            "dff771d88b55425991b9cf1e79fa37f5",
            "c43b22e0d7c6417e9b1ebdc1951fb412",
            "8073fd08744c497081f3d04986354c73",
            "e9512576b6c9486193ac3e1c8b5b133f",
            "4855547293cc489995fda28837bc4f6b",
            "1f9af5d5400e4cf197ba4a74450ca2a7",
            "1e8382b86efc449789c05f6720dee952",
            "f02953ddb0c94ed8a9adad32fe57eac2",
            "d02864544c304ca2b705298f48f71e5e",
            "ee68ff42d94645f583ae74bf03f6f4fb",
            "83dfecc7840440a4afba18f88e344434",
            "7829d3dc934f4743acf41198fed5dc7b",
            "434225149e734169ab3bcbaf5d3e268f",
            "ef17222daedc44e18e0ebb48f1f88788",
            "69fd8c24ada649fd89fa3f37525e94c7",
            "e013fae83f7f4e82a0c5b7a582f38d96",
            "b44afa059e5b4caebeec04b29ab23477",
            "d18ceb4a5ef046aaa513805afdfacce5",
            "698bbeb9f7ea4af0b26b7f340019e64d",
            "b17f9374eb084cb4a621eb4900895df3",
            "dcc9a37e1c714556ace2bf7ec20a11b9",
            "61a15431267843fd90bca3272c968287",
            "a03b13f639f544359419dc3a29f939e5",
            "1ea3d5f7f2214a5d89fa358ea4720cec",
            "e589ad8bf9fa4347bde4d20bb93a2a9d",
            "cdcadea830754ad780cc52280c2986fb",
            "e73d4ce125fb4ab19b6dcd058ffdc4ae"
          ]
        },
        "outputId": "1544498f-273f-4276-af47-40ccac402006"
      },
      "source": [
        "# Import da biblioteca\n",
        "from tqdm.notebook import tqdm\n",
        "from time import sleep\n",
        "\n",
        "for x in tqdm(range(5), desc=f\"1o Laço\"):\n",
        "    for y in tqdm(range(100), desc=f\"2o Laço\", leave=False):\n",
        "        # Retarda o laço em 0.01 segundos\n",
        "        sleep(0.02)"
      ],
      "execution_count": 125,
      "outputs": [
        {
          "output_type": "display_data",
          "data": {
            "text/plain": [
              "1o Laço:   0%|          | 0/5 [00:00<?, ?it/s]"
            ],
            "application/vnd.jupyter.widget-view+json": {
              "version_major": 2,
              "version_minor": 0,
              "model_id": "e038e975089c4cfa8209eb0ad84b4685"
            }
          },
          "metadata": {}
        },
        {
          "output_type": "display_data",
          "data": {
            "text/plain": [
              "2o Laço:   0%|          | 0/100 [00:00<?, ?it/s]"
            ],
            "application/vnd.jupyter.widget-view+json": {
              "version_major": 2,
              "version_minor": 0,
              "model_id": "c53035a5997143a98b5d5eeffc4b7a3f"
            }
          },
          "metadata": {}
        },
        {
          "output_type": "display_data",
          "data": {
            "text/plain": [
              "2o Laço:   0%|          | 0/100 [00:00<?, ?it/s]"
            ],
            "application/vnd.jupyter.widget-view+json": {
              "version_major": 2,
              "version_minor": 0,
              "model_id": "a4d19b3fa5804d03b867f29dc795ed99"
            }
          },
          "metadata": {}
        },
        {
          "output_type": "display_data",
          "data": {
            "text/plain": [
              "2o Laço:   0%|          | 0/100 [00:00<?, ?it/s]"
            ],
            "application/vnd.jupyter.widget-view+json": {
              "version_major": 2,
              "version_minor": 0,
              "model_id": "cd6687c708834da297f81c73829838e1"
            }
          },
          "metadata": {}
        },
        {
          "output_type": "display_data",
          "data": {
            "text/plain": [
              "2o Laço:   0%|          | 0/100 [00:00<?, ?it/s]"
            ],
            "application/vnd.jupyter.widget-view+json": {
              "version_major": 2,
              "version_minor": 0,
              "model_id": "1f9af5d5400e4cf197ba4a74450ca2a7"
            }
          },
          "metadata": {}
        },
        {
          "output_type": "display_data",
          "data": {
            "text/plain": [
              "2o Laço:   0%|          | 0/100 [00:00<?, ?it/s]"
            ],
            "application/vnd.jupyter.widget-view+json": {
              "version_major": 2,
              "version_minor": 0,
              "model_id": "b44afa059e5b4caebeec04b29ab23477"
            }
          },
          "metadata": {}
        }
      ]
    },
    {
      "cell_type": "markdown",
      "metadata": {
        "id": "40_b4jIFf9kP"
      },
      "source": [
        "## Exemplo barras com pandas"
      ]
    },
    {
      "cell_type": "code",
      "metadata": {
        "id": "xz59Og8_f9kQ",
        "colab": {
          "base_uri": "https://localhost:8080/",
          "height": 309,
          "referenced_widgets": [
            "eb0f03d353b549a4b84918178a33abdf",
            "ac4bc808813a4045b0f54006e67f1748",
            "a7ffbf2e49dd44f580d6689507191abb",
            "8527d675e2ad4dbc9aa1a64072e48f67",
            "fd760d1f80e845b788975185b79e34bb",
            "6446400a6e17406887120b8154a4d54f",
            "fb642bf78dec43979b8fb8f80d8c9764",
            "e657ef14b8e945479d71d096dfab347a",
            "7723b1a62967402e8641112d38e07424",
            "b5d930e694ae4edab49a808564167e01",
            "c44bf0e4dc66483b9b2acbdf40487b39"
          ]
        },
        "outputId": "85384beb-72fd-4cba-a475-15afdc47063c"
      },
      "source": [
        "# Import da biblioteca\n",
        "from tqdm.notebook import tqdm\n",
        "from time import sleep\n",
        "import pandas as pd\n",
        "\n",
        "# Lista utilizada \n",
        "lista = [[1, \"Joao\"],\n",
        "         [2, \"Maria\"],\n",
        "         [3, \"Pedro\"],\n",
        "         [4, \"Luiz\"],\n",
        "         [5, \"José\"]]\n",
        "\n",
        "# Converte em um dataframe\n",
        "dfdados = pd.DataFrame(lista, columns=(\"codigo\", \"nome\")) \n",
        "\n",
        "for index, linha in tqdm(dfdados.iterrows(), desc=f\"Clientes\", unit=f\"cliente\", total=dfdados.shape[0]):\n",
        "   # Retarda o laço em 0.01 segundos\n",
        "   sleep(1)\n",
        "   # Mostra os dados\n",
        "   print(index, linha)"
      ],
      "execution_count": 126,
      "outputs": [
        {
          "output_type": "display_data",
          "data": {
            "text/plain": [
              "Clientes:   0%|          | 0/5 [00:00<?, ?cliente/s]"
            ],
            "application/vnd.jupyter.widget-view+json": {
              "version_major": 2,
              "version_minor": 0,
              "model_id": "eb0f03d353b549a4b84918178a33abdf"
            }
          },
          "metadata": {}
        },
        {
          "output_type": "stream",
          "name": "stdout",
          "text": [
            "0 codigo       1\n",
            "nome      Joao\n",
            "Name: 0, dtype: object\n",
            "1 codigo        2\n",
            "nome      Maria\n",
            "Name: 1, dtype: object\n",
            "2 codigo        3\n",
            "nome      Pedro\n",
            "Name: 2, dtype: object\n",
            "3 codigo       4\n",
            "nome      Luiz\n",
            "Name: 3, dtype: object\n",
            "4 codigo       5\n",
            "nome      José\n",
            "Name: 4, dtype: object\n"
          ]
        }
      ]
    },
    {
      "cell_type": "markdown",
      "metadata": {
        "id": "A8bamUWrJG3j"
      },
      "source": [
        "# Funções de tempo."
      ]
    },
    {
      "cell_type": "markdown",
      "metadata": {
        "id": "Mw8KyNOJJLwf"
      },
      "source": [
        "## Soma de tempo\n",
        "\n",
        "Calcula a soma de uma lista de tempo string no formato hh:mm:ss"
      ]
    },
    {
      "cell_type": "code",
      "metadata": {
        "id": "V4gekVLwJIcD"
      },
      "source": [
        "def somaTempo(tempos):\n",
        "    \"\"\"\n",
        "    Calcula a soma de uma lista de tempo string no formato hh:mm:ss\n",
        "    \"\"\"\n",
        "    t = (tempo.split(\":\") for tempo in tempos)\n",
        "    # Converte para segundos\n",
        "    segundos = ((float(s) + int(m) * 60 + int(h) * 3600) for h, m, s in t)\n",
        "    # Soma os segundos\n",
        "    soma_segundos = sum([s * 1. for s in segundos])\n",
        "    # Recupera as horas e os minutos   \n",
        "    h, m = divmod(soma_segundos, 3600)\n",
        "    # Recupera os minutos e os segundos\n",
        "    m, s = divmod(m, 60)    \n",
        "    return \"{:02d}:{:02d}:{:02d}\".format(int(h), int(m), int(s))"
      ],
      "execution_count": 127,
      "outputs": []
    },
    {
      "cell_type": "code",
      "metadata": {
        "id": "DX_9PW3rJTC8",
        "colab": {
          "base_uri": "https://localhost:8080/"
        },
        "outputId": "26d82013-502b-4238-d936-4aa9474d0078"
      },
      "source": [
        "listaTempo = []\n",
        "\n",
        "listaTempo.append(\"1:10:00\")\n",
        "listaTempo.append(\"1:15:00\")\n",
        "\n",
        "print(somaTempo(listaTempo))"
      ],
      "execution_count": 128,
      "outputs": [
        {
          "output_type": "stream",
          "name": "stdout",
          "text": [
            "02:25:00\n"
          ]
        }
      ]
    },
    {
      "cell_type": "markdown",
      "metadata": {
        "id": "VQuuyq8-JkdK"
      },
      "source": [
        "## Média de tempo\n",
        "\n",
        "Calcula a média de uma lista de tempo string no formato hh:mm:ss"
      ]
    },
    {
      "cell_type": "code",
      "metadata": {
        "id": "XfCOca1uJkdZ"
      },
      "source": [
        "# Import das bibliotecas.\n",
        "from cmath import rect, phase\n",
        "from math import radians, degrees\n",
        "  \n",
        "def mediaAngulo(deg):\n",
        "    return degrees(phase(sum(rect(1, radians(d)) for d in deg)/len(deg)))\n",
        " \n",
        "def mediaTempo(tempos):\n",
        "    \"\"\"\n",
        "    Calcula a média de uma lista de tempo string no formato hh:mm:ss\n",
        "    \"\"\"\n",
        "    t = (tempo.split(\":\") for tempo in tempos)\n",
        "    # Converte para segundos\n",
        "    segundos = ((float(s) + int(m) * 60 + int(h) * 3600) for h, m, s in t)\n",
        "    # Verifica se deu algum dia\n",
        "    dia = 24 * 60 * 60\n",
        "    # Converte para angulos\n",
        "    paraAngulos = [s * 360. / dia for s in segundos]\n",
        "    # Calcula a média dos angulos\n",
        "    mediaComoAngulo = mediaAngulo(paraAngulos)\n",
        "    media_segundos = mediaComoAngulo * dia / 360.\n",
        "    if media_segundos < 0:\n",
        "        media_segundos += dia\n",
        "    # Recupera as horas e os minutos  \n",
        "    h, m = divmod(media_segundos, 3600)\n",
        "    # Recupera os minutos e os segundos\n",
        "    m, s = divmod(m, 60)    \n",
        "    return \"{:02d}:{:02d}:{:02d}\".format(int(h), int(m), int(s))"
      ],
      "execution_count": 129,
      "outputs": []
    },
    {
      "cell_type": "code",
      "metadata": {
        "id": "70LONLkuJkda",
        "colab": {
          "base_uri": "https://localhost:8080/"
        },
        "outputId": "4b5f2126-d988-4901-9282-cc20d1b6787b"
      },
      "source": [
        "listaTempo = []\n",
        "\n",
        "listaTempo.append(\"1:30:00\")\n",
        "listaTempo.append(\"1:45:00\")\n",
        "\n",
        "print(mediaTempo(listaTempo))"
      ],
      "execution_count": 130,
      "outputs": [
        {
          "output_type": "stream",
          "name": "stdout",
          "text": [
            "01:37:30\n"
          ]
        }
      ]
    },
    {
      "cell_type": "markdown",
      "metadata": {
        "id": "6BeOki83y6pL"
      },
      "source": [
        "# Roleta"
      ]
    },
    {
      "cell_type": "markdown",
      "metadata": {
        "id": "2EOMFMyiy_BA"
      },
      "source": [
        "## Roleta **com** repetição do elemento sorteado\n",
        "\n",
        "Um elemento pode ser sorteado mais de uma vez."
      ]
    },
    {
      "cell_type": "code",
      "metadata": {
        "id": "VIEFvfXozD9F",
        "colab": {
          "base_uri": "https://localhost:8080/"
        },
        "outputId": "a53b7144-855a-4208-dde6-4af0ffd0f27a"
      },
      "source": [
        "# Import das bibliotecas\n",
        "from random import randint\n",
        "\n",
        "# Lista dos elementos a serem sorteados\n",
        "lista = [\"João\",\"Maria\",\"Pedro\",\"Jose\",\"André\",\"Fernando\"]\n",
        "\n",
        "for i in range(len(lista)):\n",
        "  # Sorteio de um número da roleta\n",
        "  sorteio = randint(1,len(lista))\n",
        "\n",
        "  # Os índices da lista começam em 0, portanto se desconta 1\n",
        "  sorteio = sorteio -1\n",
        "      \n",
        "  # Recupera a frase sorteada\n",
        "  texto_sorteado = lista[sorteio]\n",
        "       \n",
        "  # Mostra o elemento sorteado\n",
        "  print(i,\"-\",texto_sorteado)"
      ],
      "execution_count": 131,
      "outputs": [
        {
          "output_type": "stream",
          "name": "stdout",
          "text": [
            "0 - Fernando\n",
            "1 - João\n",
            "2 - João\n",
            "3 - Maria\n",
            "4 - Maria\n",
            "5 - Maria\n"
          ]
        }
      ]
    },
    {
      "cell_type": "markdown",
      "metadata": {
        "id": "-h5_tg7mzEJc"
      },
      "source": [
        "## Roleta **sem** repetição dos números sorteados\n",
        "\n",
        "Um elemento só pode ser sorteado uma vez."
      ]
    },
    {
      "cell_type": "code",
      "metadata": {
        "id": "rX9MAf4qzIbs",
        "colab": {
          "base_uri": "https://localhost:8080/"
        },
        "outputId": "236e1cb3-34a4-4b1f-c03c-874e3003460d"
      },
      "source": [
        "# Import das bibliotecas\n",
        "from random import randint\n",
        "\n",
        "# Lista dos elementos a serem sorteados\n",
        "lista = [\"João\",\"Maria\",\"Pedro\",\"Jose\",\"André\",\"Fernando\"]\n",
        "\n",
        "for i in range(len(lista)):\n",
        "  # Sorteio de um número da roleta\n",
        "  sorteio = randint(1,len(lista))\n",
        "\n",
        "  # Os índices da lista começam em 0, portanto se desconta 1\n",
        "  sorteio = sorteio -1\n",
        "      \n",
        "  # Recupera o elemento sorteado\n",
        "  texto_sorteado = lista[sorteio]\n",
        "\n",
        "  # Remove a frase sorteada, para que a oração não seja mais sorteada\n",
        "  del lista[sorteio]\n",
        "        \n",
        "  # Mostra o elemento sorteado\n",
        "  print(i,\"-\",texto_sorteado)"
      ],
      "execution_count": 132,
      "outputs": [
        {
          "output_type": "stream",
          "name": "stdout",
          "text": [
            "0 - Fernando\n",
            "1 - Jose\n",
            "2 - João\n",
            "3 - Pedro\n",
            "4 - André\n",
            "5 - Maria\n"
          ]
        }
      ]
    },
    {
      "cell_type": "markdown",
      "source": [
        "# Combinação\n",
        "\n",
        "A ordem não é importante.\n",
        "\n",
        "Número de combinações $C_k=\\frac{n!}{k!(n-k)!}$"
      ],
      "metadata": {
        "id": "F_KxKim27YoE"
      }
    },
    {
      "cell_type": "code",
      "source": [
        "# Import das bibliotecas\n",
        "from itertools import combinations\n",
        "\n",
        "# Números que serão combinados\n",
        "numeros = [1,2,3,4]\n",
        "\n",
        "# Realiza a combinação\n",
        "combinacao = combinations(numeros,2)\n",
        "\n",
        "# Converte as combinações em uma lista\n",
        "print(list(combinacao))"
      ],
      "metadata": {
        "colab": {
          "base_uri": "https://localhost:8080/"
        },
        "id": "M0OQWJlu75C_",
        "outputId": "5bb89509-e7c9-48c4-9256-7e03f3d946c4"
      },
      "execution_count": 133,
      "outputs": [
        {
          "output_type": "stream",
          "name": "stdout",
          "text": [
            "[(1, 2), (1, 3), (1, 4), (2, 3), (2, 4), (3, 4)]\n"
          ]
        }
      ]
    },
    {
      "cell_type": "markdown",
      "source": [
        "# Permutação\n",
        "\n",
        "A ordem dos elementos é importante.\n",
        "\n",
        "Número de combinações $P_k=\\frac{n!}{(n-k)!}$"
      ],
      "metadata": {
        "id": "2B-zI8rm8UcK"
      }
    },
    {
      "cell_type": "code",
      "source": [
        "# Import das bibliotecas\n",
        "from itertools import permutations\n",
        "\n",
        "# Números que serão permutados\n",
        "numeros = [1,2,3,4]\n",
        "\n",
        "# Realiza a permutação\n",
        "permutacao = permutations(numeros,2)\n",
        "\n",
        "# Converte as permutações em uma lista\n",
        "print(list(permutacao))"
      ],
      "metadata": {
        "colab": {
          "base_uri": "https://localhost:8080/"
        },
        "id": "O9-SQ7YP8cdq",
        "outputId": "646e70bb-8e1f-44a0-bd7d-54b62afb0d71"
      },
      "execution_count": 134,
      "outputs": [
        {
          "output_type": "stream",
          "name": "stdout",
          "text": [
            "[(1, 2), (1, 3), (1, 4), (2, 1), (2, 3), (2, 4), (3, 1), (3, 2), (3, 4), (4, 1), (4, 2), (4, 3)]\n"
          ]
        }
      ]
    },
    {
      "cell_type": "markdown",
      "metadata": {
        "id": "O4CF_vAclai-"
      },
      "source": [
        "# Comparando pares diferentes de 0\n",
        "\n",
        "Percorre o vetor de valores comparando pares sucessivos desde que o valor seja diferente 0."
      ]
    },
    {
      "cell_type": "code",
      "metadata": {
        "id": "pE9e1_k9lavz",
        "colab": {
          "base_uri": "https://localhost:8080/"
        },
        "outputId": "c9b36952-86fc-4201-aa09-63331aeb007a"
      },
      "source": [
        "# Lista dos valores\n",
        "valores = [1,0,1,1,0,1]\n",
        "n = len(valores)\n",
        "divisor = n - 1\n",
        "\n",
        "# Aculama a soma dos valores\n",
        "soma = 0\n",
        "\n",
        "# Indíces dos pares iniciais\n",
        "pos1 = 0\n",
        "pos2 = pos1 + 1\n",
        "\n",
        "#Enquanto o índice do 2o valor não chegou ao final da listta de valores\n",
        "while pos2 <= (n -1):\n",
        "\n",
        "  # Recupera os valores\n",
        "  val1 = valores[pos1]  \n",
        "  val2 = valores[pos2]\n",
        "\n",
        "  if val1 != 0 and val2 != 0:\n",
        "      print(\"Par:\", pos1, pos2, \" valores:\", val1, val2)      \n",
        "      soma = soma + (val1  + val2)\n",
        "      # avança para o próximo par\n",
        "      pos1 = pos2\n",
        "      pos2 = pos2 + 1\n",
        "  else:\n",
        "    divisor = divisor - 1\n",
        "    # Se pos1 igual a 0 avanca pos1 e pos2\n",
        "    if val1 == 0:\n",
        "        pos1 = pos2\n",
        "        pos2 = pos2 + 1        \n",
        "    else:\n",
        "      # Se pos2 = 0 avança pos2\n",
        "      if val2 == 0:\n",
        "        pos2 = pos2 + 1\n",
        "            \n",
        "# Calcula a média da comparação dos pares            \n",
        "print(\"soma:\",soma)\n",
        "if (divisor != 0):\n",
        "  print(\"media:\",soma/divisor)\n",
        "else:\n",
        "  print(\"media:\",0)"
      ],
      "execution_count": 135,
      "outputs": [
        {
          "output_type": "stream",
          "name": "stdout",
          "text": [
            "Par: 0 2  valores: 1 1\n",
            "Par: 2 3  valores: 1 1\n",
            "Par: 3 5  valores: 1 1\n",
            "soma: 6\n",
            "media: 2.0\n"
          ]
        }
      ]
    },
    {
      "cell_type": "markdown",
      "metadata": {
        "id": "opphp_nBzPO3"
      },
      "source": [
        "# Versão Python"
      ]
    },
    {
      "cell_type": "code",
      "metadata": {
        "id": "A6cmlG0ezSI-",
        "colab": {
          "base_uri": "https://localhost:8080/"
        },
        "outputId": "c4e8b968-f82e-4262-d9b3-815f7885e412"
      },
      "source": [
        "!python --version"
      ],
      "execution_count": 136,
      "outputs": [
        {
          "output_type": "stream",
          "name": "stdout",
          "text": [
            "Python 3.8.10\n"
          ]
        }
      ]
    },
    {
      "cell_type": "markdown",
      "metadata": {
        "id": "BtMU-XVKJibN"
      },
      "source": [
        "# Previnir que a sessão seja desconectada\n",
        "\n",
        "https://medium.com/@shivamrawat_756/how-to-prevent-google-colab-from-disconnecting-717b88a128c0\n",
        "\n",
        "Para garantir que seu colab não seja desconectado por inatividade, você pode colar este código no console desta aba (*clique com o botão direito do mouse -> inspecionar -> aba Console e inserir código*).\n",
        "\n",
        "Ou pressione:\n",
        "```\n",
        "Ctrl+Shift+i\n",
        "```\n",
        "\n",
        "Insira o código abaixo no console e enter:\n",
        "```\n",
        "function ClickConnect(){\n",
        "    console.log(\"ClickConnect pushed\"); \n",
        "    document.querySelector(\"#top-toolbar > colab-connect-button\").shadowRoot.querySelector(\"#connect\").click() \n",
        "}\n",
        "\n",
        "setInterval(ClickConnect,60000);\n",
        "```\n",
        "\n"
      ]
    },
    {
      "cell_type": "markdown",
      "metadata": {
        "id": "iGRe2RsijK84"
      },
      "source": [
        "# Formatar célula de texto\n",
        "\n",
        "https://ichi.pro/pt/folha-de-referencias-do-google-colab-109423812460691"
      ]
    },
    {
      "cell_type": "markdown",
      "metadata": {
        "id": "kh3TuNb2zDnY"
      },
      "source": [
        "# Rodando Notebook do Google Colaboratory no Jupyter Notebook pelo Anaconda\n",
        "\n",
        "https://medium.com/analytics-vidhya/getting-started-with-python-anaconda-google-colab-and-virtual-environments-1ce8fc3286f9\n",
        "\n",
        "Configuração da  máquina local:\n",
        "\n",
        "**1)   Instalar o Jupyter** (instalar o Jupyter Notebook pelo Anaconda Toolkit)\n",
        "\n",
        "https://www.anaconda.com/products/individual\n",
        "\n",
        "**2) Instalar e Habilitar a extensão `jupyter_http_over_ws`**\n",
        "\n",
        "`pip install jupyter_http_over_ws`\n",
        "\n",
        "`jupyter serverextension enable --py jupyter_http_over_ws`\n",
        "\n",
        "**3) Rodar o Jupyter Notebook e permitir acesso ao Google Colaboratory**\n",
        "\n",
        "`jupyter notebook --NotebookApp.allow_origin=\"https://colab.research.google.com\" --port=8888 --NotebookApp.port_retries=0`\n",
        "\n",
        "**4) Conectar a uma execução local (RunTime Local)**\n",
        "\n",
        "No Google Colaboratory, clique no botão \"Connect\" e selecione \"Connect to local runtime\" Digite o URL da etapa anterior na caixa de diálogo exibida e clique no botão \"Connect\"."
      ]
    }
  ]
}