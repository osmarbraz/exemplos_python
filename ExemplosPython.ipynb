{
  "nbformat": 4,
  "nbformat_minor": 0,
  "metadata": {
    "colab": {
      "provenance": [],
      "toc_visible": true,
      "include_colab_link": true
    },
    "kernelspec": {
      "display_name": "Python 3",
      "name": "python3"
    },
    "widgets": {
      "application/vnd.jupyter.widget-state+json": {
        "cf6d35d01d5c4e9288e0dd0df05e1b0d": {
          "model_module": "@jupyter-widgets/controls",
          "model_name": "HBoxModel",
          "model_module_version": "1.5.0",
          "state": {
            "_dom_classes": [],
            "_model_module": "@jupyter-widgets/controls",
            "_model_module_version": "1.5.0",
            "_model_name": "HBoxModel",
            "_view_count": null,
            "_view_module": "@jupyter-widgets/controls",
            "_view_module_version": "1.5.0",
            "_view_name": "HBoxView",
            "box_style": "",
            "children": [
              "IPY_MODEL_d1f3bdf9ca0247fb9da901cc9b8c46eb",
              "IPY_MODEL_5d3348fe9be54a5a9ad19f7f0235b97c",
              "IPY_MODEL_c087e45dd9d94ed2ba09e5d39c01e088"
            ],
            "layout": "IPY_MODEL_7d25b7279ea24ad488faf14ca83f63a1"
          }
        },
        "d1f3bdf9ca0247fb9da901cc9b8c46eb": {
          "model_module": "@jupyter-widgets/controls",
          "model_name": "HTMLModel",
          "model_module_version": "1.5.0",
          "state": {
            "_dom_classes": [],
            "_model_module": "@jupyter-widgets/controls",
            "_model_module_version": "1.5.0",
            "_model_name": "HTMLModel",
            "_view_count": null,
            "_view_module": "@jupyter-widgets/controls",
            "_view_module_version": "1.5.0",
            "_view_name": "HTMLView",
            "description": "",
            "description_tooltip": null,
            "layout": "IPY_MODEL_8930abe61c0b4a19a5ff3f642cb25cdc",
            "placeholder": "​",
            "style": "IPY_MODEL_77b1f505de984d36927c43d9a6ed48b9",
            "value": "100%"
          }
        },
        "5d3348fe9be54a5a9ad19f7f0235b97c": {
          "model_module": "@jupyter-widgets/controls",
          "model_name": "FloatProgressModel",
          "model_module_version": "1.5.0",
          "state": {
            "_dom_classes": [],
            "_model_module": "@jupyter-widgets/controls",
            "_model_module_version": "1.5.0",
            "_model_name": "FloatProgressModel",
            "_view_count": null,
            "_view_module": "@jupyter-widgets/controls",
            "_view_module_version": "1.5.0",
            "_view_name": "ProgressView",
            "bar_style": "success",
            "description": "",
            "description_tooltip": null,
            "layout": "IPY_MODEL_fd3d2de842404c3e9cd12063c8e5d2cb",
            "max": 10000,
            "min": 0,
            "orientation": "horizontal",
            "style": "IPY_MODEL_3cc967f3644a4c61aaffd0d2977dac25",
            "value": 10000
          }
        },
        "c087e45dd9d94ed2ba09e5d39c01e088": {
          "model_module": "@jupyter-widgets/controls",
          "model_name": "HTMLModel",
          "model_module_version": "1.5.0",
          "state": {
            "_dom_classes": [],
            "_model_module": "@jupyter-widgets/controls",
            "_model_module_version": "1.5.0",
            "_model_name": "HTMLModel",
            "_view_count": null,
            "_view_module": "@jupyter-widgets/controls",
            "_view_module_version": "1.5.0",
            "_view_name": "HTMLView",
            "description": "",
            "description_tooltip": null,
            "layout": "IPY_MODEL_ff49148143d044fbb1948e55554411de",
            "placeholder": "​",
            "style": "IPY_MODEL_c1209cb6441e40a6abdae5fd7ac48d0e",
            "value": " 10000/10000 [00:10&lt;00:00, 612.76it/s]"
          }
        },
        "7d25b7279ea24ad488faf14ca83f63a1": {
          "model_module": "@jupyter-widgets/base",
          "model_name": "LayoutModel",
          "model_module_version": "1.2.0",
          "state": {
            "_model_module": "@jupyter-widgets/base",
            "_model_module_version": "1.2.0",
            "_model_name": "LayoutModel",
            "_view_count": null,
            "_view_module": "@jupyter-widgets/base",
            "_view_module_version": "1.2.0",
            "_view_name": "LayoutView",
            "align_content": null,
            "align_items": null,
            "align_self": null,
            "border": null,
            "bottom": null,
            "display": null,
            "flex": null,
            "flex_flow": null,
            "grid_area": null,
            "grid_auto_columns": null,
            "grid_auto_flow": null,
            "grid_auto_rows": null,
            "grid_column": null,
            "grid_gap": null,
            "grid_row": null,
            "grid_template_areas": null,
            "grid_template_columns": null,
            "grid_template_rows": null,
            "height": null,
            "justify_content": null,
            "justify_items": null,
            "left": null,
            "margin": null,
            "max_height": null,
            "max_width": null,
            "min_height": null,
            "min_width": null,
            "object_fit": null,
            "object_position": null,
            "order": null,
            "overflow": null,
            "overflow_x": null,
            "overflow_y": null,
            "padding": null,
            "right": null,
            "top": null,
            "visibility": null,
            "width": null
          }
        },
        "8930abe61c0b4a19a5ff3f642cb25cdc": {
          "model_module": "@jupyter-widgets/base",
          "model_name": "LayoutModel",
          "model_module_version": "1.2.0",
          "state": {
            "_model_module": "@jupyter-widgets/base",
            "_model_module_version": "1.2.0",
            "_model_name": "LayoutModel",
            "_view_count": null,
            "_view_module": "@jupyter-widgets/base",
            "_view_module_version": "1.2.0",
            "_view_name": "LayoutView",
            "align_content": null,
            "align_items": null,
            "align_self": null,
            "border": null,
            "bottom": null,
            "display": null,
            "flex": null,
            "flex_flow": null,
            "grid_area": null,
            "grid_auto_columns": null,
            "grid_auto_flow": null,
            "grid_auto_rows": null,
            "grid_column": null,
            "grid_gap": null,
            "grid_row": null,
            "grid_template_areas": null,
            "grid_template_columns": null,
            "grid_template_rows": null,
            "height": null,
            "justify_content": null,
            "justify_items": null,
            "left": null,
            "margin": null,
            "max_height": null,
            "max_width": null,
            "min_height": null,
            "min_width": null,
            "object_fit": null,
            "object_position": null,
            "order": null,
            "overflow": null,
            "overflow_x": null,
            "overflow_y": null,
            "padding": null,
            "right": null,
            "top": null,
            "visibility": null,
            "width": null
          }
        },
        "77b1f505de984d36927c43d9a6ed48b9": {
          "model_module": "@jupyter-widgets/controls",
          "model_name": "DescriptionStyleModel",
          "model_module_version": "1.5.0",
          "state": {
            "_model_module": "@jupyter-widgets/controls",
            "_model_module_version": "1.5.0",
            "_model_name": "DescriptionStyleModel",
            "_view_count": null,
            "_view_module": "@jupyter-widgets/base",
            "_view_module_version": "1.2.0",
            "_view_name": "StyleView",
            "description_width": ""
          }
        },
        "fd3d2de842404c3e9cd12063c8e5d2cb": {
          "model_module": "@jupyter-widgets/base",
          "model_name": "LayoutModel",
          "model_module_version": "1.2.0",
          "state": {
            "_model_module": "@jupyter-widgets/base",
            "_model_module_version": "1.2.0",
            "_model_name": "LayoutModel",
            "_view_count": null,
            "_view_module": "@jupyter-widgets/base",
            "_view_module_version": "1.2.0",
            "_view_name": "LayoutView",
            "align_content": null,
            "align_items": null,
            "align_self": null,
            "border": null,
            "bottom": null,
            "display": null,
            "flex": null,
            "flex_flow": null,
            "grid_area": null,
            "grid_auto_columns": null,
            "grid_auto_flow": null,
            "grid_auto_rows": null,
            "grid_column": null,
            "grid_gap": null,
            "grid_row": null,
            "grid_template_areas": null,
            "grid_template_columns": null,
            "grid_template_rows": null,
            "height": null,
            "justify_content": null,
            "justify_items": null,
            "left": null,
            "margin": null,
            "max_height": null,
            "max_width": null,
            "min_height": null,
            "min_width": null,
            "object_fit": null,
            "object_position": null,
            "order": null,
            "overflow": null,
            "overflow_x": null,
            "overflow_y": null,
            "padding": null,
            "right": null,
            "top": null,
            "visibility": null,
            "width": null
          }
        },
        "3cc967f3644a4c61aaffd0d2977dac25": {
          "model_module": "@jupyter-widgets/controls",
          "model_name": "ProgressStyleModel",
          "model_module_version": "1.5.0",
          "state": {
            "_model_module": "@jupyter-widgets/controls",
            "_model_module_version": "1.5.0",
            "_model_name": "ProgressStyleModel",
            "_view_count": null,
            "_view_module": "@jupyter-widgets/base",
            "_view_module_version": "1.2.0",
            "_view_name": "StyleView",
            "bar_color": null,
            "description_width": ""
          }
        },
        "ff49148143d044fbb1948e55554411de": {
          "model_module": "@jupyter-widgets/base",
          "model_name": "LayoutModel",
          "model_module_version": "1.2.0",
          "state": {
            "_model_module": "@jupyter-widgets/base",
            "_model_module_version": "1.2.0",
            "_model_name": "LayoutModel",
            "_view_count": null,
            "_view_module": "@jupyter-widgets/base",
            "_view_module_version": "1.2.0",
            "_view_name": "LayoutView",
            "align_content": null,
            "align_items": null,
            "align_self": null,
            "border": null,
            "bottom": null,
            "display": null,
            "flex": null,
            "flex_flow": null,
            "grid_area": null,
            "grid_auto_columns": null,
            "grid_auto_flow": null,
            "grid_auto_rows": null,
            "grid_column": null,
            "grid_gap": null,
            "grid_row": null,
            "grid_template_areas": null,
            "grid_template_columns": null,
            "grid_template_rows": null,
            "height": null,
            "justify_content": null,
            "justify_items": null,
            "left": null,
            "margin": null,
            "max_height": null,
            "max_width": null,
            "min_height": null,
            "min_width": null,
            "object_fit": null,
            "object_position": null,
            "order": null,
            "overflow": null,
            "overflow_x": null,
            "overflow_y": null,
            "padding": null,
            "right": null,
            "top": null,
            "visibility": null,
            "width": null
          }
        },
        "c1209cb6441e40a6abdae5fd7ac48d0e": {
          "model_module": "@jupyter-widgets/controls",
          "model_name": "DescriptionStyleModel",
          "model_module_version": "1.5.0",
          "state": {
            "_model_module": "@jupyter-widgets/controls",
            "_model_module_version": "1.5.0",
            "_model_name": "DescriptionStyleModel",
            "_view_count": null,
            "_view_module": "@jupyter-widgets/base",
            "_view_module_version": "1.2.0",
            "_view_name": "StyleView",
            "description_width": ""
          }
        },
        "fe2ae2190ad440d5b3a5ffa2269d5b1f": {
          "model_module": "@jupyter-widgets/controls",
          "model_name": "HBoxModel",
          "model_module_version": "1.5.0",
          "state": {
            "_dom_classes": [],
            "_model_module": "@jupyter-widgets/controls",
            "_model_module_version": "1.5.0",
            "_model_name": "HBoxModel",
            "_view_count": null,
            "_view_module": "@jupyter-widgets/controls",
            "_view_module_version": "1.5.0",
            "_view_name": "HBoxView",
            "box_style": "",
            "children": [
              "IPY_MODEL_7d3b0e438b424174b9ca94000330d246",
              "IPY_MODEL_7f7cda69c4ed42fdb7b59517603c2318",
              "IPY_MODEL_b451c780f41148fab48e64ab073369f5"
            ],
            "layout": "IPY_MODEL_3e2726b5fa7347d4a73a6488f3cd38e3"
          }
        },
        "7d3b0e438b424174b9ca94000330d246": {
          "model_module": "@jupyter-widgets/controls",
          "model_name": "HTMLModel",
          "model_module_version": "1.5.0",
          "state": {
            "_dom_classes": [],
            "_model_module": "@jupyter-widgets/controls",
            "_model_module_version": "1.5.0",
            "_model_name": "HTMLModel",
            "_view_count": null,
            "_view_module": "@jupyter-widgets/controls",
            "_view_module_version": "1.5.0",
            "_view_name": "HTMLView",
            "description": "",
            "description_tooltip": null,
            "layout": "IPY_MODEL_6f539efcb4524c938c3e9d740deecebf",
            "placeholder": "​",
            "style": "IPY_MODEL_6f71f16b9a3c4f77a006ba049c45c5bb",
            "value": "100%"
          }
        },
        "7f7cda69c4ed42fdb7b59517603c2318": {
          "model_module": "@jupyter-widgets/controls",
          "model_name": "FloatProgressModel",
          "model_module_version": "1.5.0",
          "state": {
            "_dom_classes": [],
            "_model_module": "@jupyter-widgets/controls",
            "_model_module_version": "1.5.0",
            "_model_name": "FloatProgressModel",
            "_view_count": null,
            "_view_module": "@jupyter-widgets/controls",
            "_view_module_version": "1.5.0",
            "_view_name": "ProgressView",
            "bar_style": "success",
            "description": "",
            "description_tooltip": null,
            "layout": "IPY_MODEL_16f84f1d961143168c83b1733a7e3b1a",
            "max": 10000,
            "min": 0,
            "orientation": "horizontal",
            "style": "IPY_MODEL_52eb6c0cdd4f40328bd334734dba379b",
            "value": 10000
          }
        },
        "b451c780f41148fab48e64ab073369f5": {
          "model_module": "@jupyter-widgets/controls",
          "model_name": "HTMLModel",
          "model_module_version": "1.5.0",
          "state": {
            "_dom_classes": [],
            "_model_module": "@jupyter-widgets/controls",
            "_model_module_version": "1.5.0",
            "_model_name": "HTMLModel",
            "_view_count": null,
            "_view_module": "@jupyter-widgets/controls",
            "_view_module_version": "1.5.0",
            "_view_name": "HTMLView",
            "description": "",
            "description_tooltip": null,
            "layout": "IPY_MODEL_081c5d37b01847ebb61d2000bef7e8f8",
            "placeholder": "​",
            "style": "IPY_MODEL_a6897c9dff4f475facba9f6f3b2a2c25",
            "value": " 10000/10000 [00:06&lt;00:00, 602.04it/s]"
          }
        },
        "3e2726b5fa7347d4a73a6488f3cd38e3": {
          "model_module": "@jupyter-widgets/base",
          "model_name": "LayoutModel",
          "model_module_version": "1.2.0",
          "state": {
            "_model_module": "@jupyter-widgets/base",
            "_model_module_version": "1.2.0",
            "_model_name": "LayoutModel",
            "_view_count": null,
            "_view_module": "@jupyter-widgets/base",
            "_view_module_version": "1.2.0",
            "_view_name": "LayoutView",
            "align_content": null,
            "align_items": null,
            "align_self": null,
            "border": null,
            "bottom": null,
            "display": null,
            "flex": null,
            "flex_flow": null,
            "grid_area": null,
            "grid_auto_columns": null,
            "grid_auto_flow": null,
            "grid_auto_rows": null,
            "grid_column": null,
            "grid_gap": null,
            "grid_row": null,
            "grid_template_areas": null,
            "grid_template_columns": null,
            "grid_template_rows": null,
            "height": null,
            "justify_content": null,
            "justify_items": null,
            "left": null,
            "margin": null,
            "max_height": null,
            "max_width": null,
            "min_height": null,
            "min_width": null,
            "object_fit": null,
            "object_position": null,
            "order": null,
            "overflow": null,
            "overflow_x": null,
            "overflow_y": null,
            "padding": null,
            "right": null,
            "top": null,
            "visibility": null,
            "width": null
          }
        },
        "6f539efcb4524c938c3e9d740deecebf": {
          "model_module": "@jupyter-widgets/base",
          "model_name": "LayoutModel",
          "model_module_version": "1.2.0",
          "state": {
            "_model_module": "@jupyter-widgets/base",
            "_model_module_version": "1.2.0",
            "_model_name": "LayoutModel",
            "_view_count": null,
            "_view_module": "@jupyter-widgets/base",
            "_view_module_version": "1.2.0",
            "_view_name": "LayoutView",
            "align_content": null,
            "align_items": null,
            "align_self": null,
            "border": null,
            "bottom": null,
            "display": null,
            "flex": null,
            "flex_flow": null,
            "grid_area": null,
            "grid_auto_columns": null,
            "grid_auto_flow": null,
            "grid_auto_rows": null,
            "grid_column": null,
            "grid_gap": null,
            "grid_row": null,
            "grid_template_areas": null,
            "grid_template_columns": null,
            "grid_template_rows": null,
            "height": null,
            "justify_content": null,
            "justify_items": null,
            "left": null,
            "margin": null,
            "max_height": null,
            "max_width": null,
            "min_height": null,
            "min_width": null,
            "object_fit": null,
            "object_position": null,
            "order": null,
            "overflow": null,
            "overflow_x": null,
            "overflow_y": null,
            "padding": null,
            "right": null,
            "top": null,
            "visibility": null,
            "width": null
          }
        },
        "6f71f16b9a3c4f77a006ba049c45c5bb": {
          "model_module": "@jupyter-widgets/controls",
          "model_name": "DescriptionStyleModel",
          "model_module_version": "1.5.0",
          "state": {
            "_model_module": "@jupyter-widgets/controls",
            "_model_module_version": "1.5.0",
            "_model_name": "DescriptionStyleModel",
            "_view_count": null,
            "_view_module": "@jupyter-widgets/base",
            "_view_module_version": "1.2.0",
            "_view_name": "StyleView",
            "description_width": ""
          }
        },
        "16f84f1d961143168c83b1733a7e3b1a": {
          "model_module": "@jupyter-widgets/base",
          "model_name": "LayoutModel",
          "model_module_version": "1.2.0",
          "state": {
            "_model_module": "@jupyter-widgets/base",
            "_model_module_version": "1.2.0",
            "_model_name": "LayoutModel",
            "_view_count": null,
            "_view_module": "@jupyter-widgets/base",
            "_view_module_version": "1.2.0",
            "_view_name": "LayoutView",
            "align_content": null,
            "align_items": null,
            "align_self": null,
            "border": null,
            "bottom": null,
            "display": null,
            "flex": null,
            "flex_flow": null,
            "grid_area": null,
            "grid_auto_columns": null,
            "grid_auto_flow": null,
            "grid_auto_rows": null,
            "grid_column": null,
            "grid_gap": null,
            "grid_row": null,
            "grid_template_areas": null,
            "grid_template_columns": null,
            "grid_template_rows": null,
            "height": null,
            "justify_content": null,
            "justify_items": null,
            "left": null,
            "margin": null,
            "max_height": null,
            "max_width": null,
            "min_height": null,
            "min_width": null,
            "object_fit": null,
            "object_position": null,
            "order": null,
            "overflow": null,
            "overflow_x": null,
            "overflow_y": null,
            "padding": null,
            "right": null,
            "top": null,
            "visibility": null,
            "width": null
          }
        },
        "52eb6c0cdd4f40328bd334734dba379b": {
          "model_module": "@jupyter-widgets/controls",
          "model_name": "ProgressStyleModel",
          "model_module_version": "1.5.0",
          "state": {
            "_model_module": "@jupyter-widgets/controls",
            "_model_module_version": "1.5.0",
            "_model_name": "ProgressStyleModel",
            "_view_count": null,
            "_view_module": "@jupyter-widgets/base",
            "_view_module_version": "1.2.0",
            "_view_name": "StyleView",
            "bar_color": null,
            "description_width": ""
          }
        },
        "081c5d37b01847ebb61d2000bef7e8f8": {
          "model_module": "@jupyter-widgets/base",
          "model_name": "LayoutModel",
          "model_module_version": "1.2.0",
          "state": {
            "_model_module": "@jupyter-widgets/base",
            "_model_module_version": "1.2.0",
            "_model_name": "LayoutModel",
            "_view_count": null,
            "_view_module": "@jupyter-widgets/base",
            "_view_module_version": "1.2.0",
            "_view_name": "LayoutView",
            "align_content": null,
            "align_items": null,
            "align_self": null,
            "border": null,
            "bottom": null,
            "display": null,
            "flex": null,
            "flex_flow": null,
            "grid_area": null,
            "grid_auto_columns": null,
            "grid_auto_flow": null,
            "grid_auto_rows": null,
            "grid_column": null,
            "grid_gap": null,
            "grid_row": null,
            "grid_template_areas": null,
            "grid_template_columns": null,
            "grid_template_rows": null,
            "height": null,
            "justify_content": null,
            "justify_items": null,
            "left": null,
            "margin": null,
            "max_height": null,
            "max_width": null,
            "min_height": null,
            "min_width": null,
            "object_fit": null,
            "object_position": null,
            "order": null,
            "overflow": null,
            "overflow_x": null,
            "overflow_y": null,
            "padding": null,
            "right": null,
            "top": null,
            "visibility": null,
            "width": null
          }
        },
        "a6897c9dff4f475facba9f6f3b2a2c25": {
          "model_module": "@jupyter-widgets/controls",
          "model_name": "DescriptionStyleModel",
          "model_module_version": "1.5.0",
          "state": {
            "_model_module": "@jupyter-widgets/controls",
            "_model_module_version": "1.5.0",
            "_model_name": "DescriptionStyleModel",
            "_view_count": null,
            "_view_module": "@jupyter-widgets/base",
            "_view_module_version": "1.2.0",
            "_view_name": "StyleView",
            "description_width": ""
          }
        },
        "c95845f977ee4ff7815f829d15886c63": {
          "model_module": "@jupyter-widgets/controls",
          "model_name": "HBoxModel",
          "model_module_version": "1.5.0",
          "state": {
            "_dom_classes": [],
            "_model_module": "@jupyter-widgets/controls",
            "_model_module_version": "1.5.0",
            "_model_name": "HBoxModel",
            "_view_count": null,
            "_view_module": "@jupyter-widgets/controls",
            "_view_module_version": "1.5.0",
            "_view_name": "HBoxView",
            "box_style": "",
            "children": [
              "IPY_MODEL_953e209b0fdb4a489b8f11886313aa66",
              "IPY_MODEL_06610df4f74745f185c049c65668775e",
              "IPY_MODEL_081de1dc348d4340bc9c3c6846094d95"
            ],
            "layout": "IPY_MODEL_fa0eb65819a94659919bf1374e922b72"
          }
        },
        "953e209b0fdb4a489b8f11886313aa66": {
          "model_module": "@jupyter-widgets/controls",
          "model_name": "HTMLModel",
          "model_module_version": "1.5.0",
          "state": {
            "_dom_classes": [],
            "_model_module": "@jupyter-widgets/controls",
            "_model_module_version": "1.5.0",
            "_model_name": "HTMLModel",
            "_view_count": null,
            "_view_module": "@jupyter-widgets/controls",
            "_view_module_version": "1.5.0",
            "_view_name": "HTMLView",
            "description": "",
            "description_tooltip": null,
            "layout": "IPY_MODEL_efd10c6c0f054fe094c4c3624a1b49fc",
            "placeholder": "​",
            "style": "IPY_MODEL_d2aaf492bcee4edba78fdfe86588b13d",
            "value": "Contando: 100%"
          }
        },
        "06610df4f74745f185c049c65668775e": {
          "model_module": "@jupyter-widgets/controls",
          "model_name": "FloatProgressModel",
          "model_module_version": "1.5.0",
          "state": {
            "_dom_classes": [],
            "_model_module": "@jupyter-widgets/controls",
            "_model_module_version": "1.5.0",
            "_model_name": "FloatProgressModel",
            "_view_count": null,
            "_view_module": "@jupyter-widgets/controls",
            "_view_module_version": "1.5.0",
            "_view_name": "ProgressView",
            "bar_style": "success",
            "description": "",
            "description_tooltip": null,
            "layout": "IPY_MODEL_db456edc66594b74accdae6472240157",
            "max": 10000,
            "min": 0,
            "orientation": "horizontal",
            "style": "IPY_MODEL_6ab55b0e249042d9a3c33a2116c71a1c",
            "value": 10000
          }
        },
        "081de1dc348d4340bc9c3c6846094d95": {
          "model_module": "@jupyter-widgets/controls",
          "model_name": "HTMLModel",
          "model_module_version": "1.5.0",
          "state": {
            "_dom_classes": [],
            "_model_module": "@jupyter-widgets/controls",
            "_model_module_version": "1.5.0",
            "_model_name": "HTMLModel",
            "_view_count": null,
            "_view_module": "@jupyter-widgets/controls",
            "_view_module_version": "1.5.0",
            "_view_name": "HTMLView",
            "description": "",
            "description_tooltip": null,
            "layout": "IPY_MODEL_f667435df548415b90e2e97188ab7bb1",
            "placeholder": "​",
            "style": "IPY_MODEL_cc6f819c45504cc6b58d9eef8c665ba0",
            "value": " 10000/10000 [00:05&lt;00:00, 593.25vezes/s]"
          }
        },
        "fa0eb65819a94659919bf1374e922b72": {
          "model_module": "@jupyter-widgets/base",
          "model_name": "LayoutModel",
          "model_module_version": "1.2.0",
          "state": {
            "_model_module": "@jupyter-widgets/base",
            "_model_module_version": "1.2.0",
            "_model_name": "LayoutModel",
            "_view_count": null,
            "_view_module": "@jupyter-widgets/base",
            "_view_module_version": "1.2.0",
            "_view_name": "LayoutView",
            "align_content": null,
            "align_items": null,
            "align_self": null,
            "border": null,
            "bottom": null,
            "display": null,
            "flex": null,
            "flex_flow": null,
            "grid_area": null,
            "grid_auto_columns": null,
            "grid_auto_flow": null,
            "grid_auto_rows": null,
            "grid_column": null,
            "grid_gap": null,
            "grid_row": null,
            "grid_template_areas": null,
            "grid_template_columns": null,
            "grid_template_rows": null,
            "height": null,
            "justify_content": null,
            "justify_items": null,
            "left": null,
            "margin": null,
            "max_height": null,
            "max_width": null,
            "min_height": null,
            "min_width": null,
            "object_fit": null,
            "object_position": null,
            "order": null,
            "overflow": null,
            "overflow_x": null,
            "overflow_y": null,
            "padding": null,
            "right": null,
            "top": null,
            "visibility": null,
            "width": null
          }
        },
        "efd10c6c0f054fe094c4c3624a1b49fc": {
          "model_module": "@jupyter-widgets/base",
          "model_name": "LayoutModel",
          "model_module_version": "1.2.0",
          "state": {
            "_model_module": "@jupyter-widgets/base",
            "_model_module_version": "1.2.0",
            "_model_name": "LayoutModel",
            "_view_count": null,
            "_view_module": "@jupyter-widgets/base",
            "_view_module_version": "1.2.0",
            "_view_name": "LayoutView",
            "align_content": null,
            "align_items": null,
            "align_self": null,
            "border": null,
            "bottom": null,
            "display": null,
            "flex": null,
            "flex_flow": null,
            "grid_area": null,
            "grid_auto_columns": null,
            "grid_auto_flow": null,
            "grid_auto_rows": null,
            "grid_column": null,
            "grid_gap": null,
            "grid_row": null,
            "grid_template_areas": null,
            "grid_template_columns": null,
            "grid_template_rows": null,
            "height": null,
            "justify_content": null,
            "justify_items": null,
            "left": null,
            "margin": null,
            "max_height": null,
            "max_width": null,
            "min_height": null,
            "min_width": null,
            "object_fit": null,
            "object_position": null,
            "order": null,
            "overflow": null,
            "overflow_x": null,
            "overflow_y": null,
            "padding": null,
            "right": null,
            "top": null,
            "visibility": null,
            "width": null
          }
        },
        "d2aaf492bcee4edba78fdfe86588b13d": {
          "model_module": "@jupyter-widgets/controls",
          "model_name": "DescriptionStyleModel",
          "model_module_version": "1.5.0",
          "state": {
            "_model_module": "@jupyter-widgets/controls",
            "_model_module_version": "1.5.0",
            "_model_name": "DescriptionStyleModel",
            "_view_count": null,
            "_view_module": "@jupyter-widgets/base",
            "_view_module_version": "1.2.0",
            "_view_name": "StyleView",
            "description_width": ""
          }
        },
        "db456edc66594b74accdae6472240157": {
          "model_module": "@jupyter-widgets/base",
          "model_name": "LayoutModel",
          "model_module_version": "1.2.0",
          "state": {
            "_model_module": "@jupyter-widgets/base",
            "_model_module_version": "1.2.0",
            "_model_name": "LayoutModel",
            "_view_count": null,
            "_view_module": "@jupyter-widgets/base",
            "_view_module_version": "1.2.0",
            "_view_name": "LayoutView",
            "align_content": null,
            "align_items": null,
            "align_self": null,
            "border": null,
            "bottom": null,
            "display": null,
            "flex": null,
            "flex_flow": null,
            "grid_area": null,
            "grid_auto_columns": null,
            "grid_auto_flow": null,
            "grid_auto_rows": null,
            "grid_column": null,
            "grid_gap": null,
            "grid_row": null,
            "grid_template_areas": null,
            "grid_template_columns": null,
            "grid_template_rows": null,
            "height": null,
            "justify_content": null,
            "justify_items": null,
            "left": null,
            "margin": null,
            "max_height": null,
            "max_width": null,
            "min_height": null,
            "min_width": null,
            "object_fit": null,
            "object_position": null,
            "order": null,
            "overflow": null,
            "overflow_x": null,
            "overflow_y": null,
            "padding": null,
            "right": null,
            "top": null,
            "visibility": null,
            "width": null
          }
        },
        "6ab55b0e249042d9a3c33a2116c71a1c": {
          "model_module": "@jupyter-widgets/controls",
          "model_name": "ProgressStyleModel",
          "model_module_version": "1.5.0",
          "state": {
            "_model_module": "@jupyter-widgets/controls",
            "_model_module_version": "1.5.0",
            "_model_name": "ProgressStyleModel",
            "_view_count": null,
            "_view_module": "@jupyter-widgets/base",
            "_view_module_version": "1.2.0",
            "_view_name": "StyleView",
            "bar_color": null,
            "description_width": ""
          }
        },
        "f667435df548415b90e2e97188ab7bb1": {
          "model_module": "@jupyter-widgets/base",
          "model_name": "LayoutModel",
          "model_module_version": "1.2.0",
          "state": {
            "_model_module": "@jupyter-widgets/base",
            "_model_module_version": "1.2.0",
            "_model_name": "LayoutModel",
            "_view_count": null,
            "_view_module": "@jupyter-widgets/base",
            "_view_module_version": "1.2.0",
            "_view_name": "LayoutView",
            "align_content": null,
            "align_items": null,
            "align_self": null,
            "border": null,
            "bottom": null,
            "display": null,
            "flex": null,
            "flex_flow": null,
            "grid_area": null,
            "grid_auto_columns": null,
            "grid_auto_flow": null,
            "grid_auto_rows": null,
            "grid_column": null,
            "grid_gap": null,
            "grid_row": null,
            "grid_template_areas": null,
            "grid_template_columns": null,
            "grid_template_rows": null,
            "height": null,
            "justify_content": null,
            "justify_items": null,
            "left": null,
            "margin": null,
            "max_height": null,
            "max_width": null,
            "min_height": null,
            "min_width": null,
            "object_fit": null,
            "object_position": null,
            "order": null,
            "overflow": null,
            "overflow_x": null,
            "overflow_y": null,
            "padding": null,
            "right": null,
            "top": null,
            "visibility": null,
            "width": null
          }
        },
        "cc6f819c45504cc6b58d9eef8c665ba0": {
          "model_module": "@jupyter-widgets/controls",
          "model_name": "DescriptionStyleModel",
          "model_module_version": "1.5.0",
          "state": {
            "_model_module": "@jupyter-widgets/controls",
            "_model_module_version": "1.5.0",
            "_model_name": "DescriptionStyleModel",
            "_view_count": null,
            "_view_module": "@jupyter-widgets/base",
            "_view_module_version": "1.2.0",
            "_view_name": "StyleView",
            "description_width": ""
          }
        },
        "0005cc683a2d4a8191a7adb1279d6a91": {
          "model_module": "@jupyter-widgets/controls",
          "model_name": "HBoxModel",
          "model_module_version": "1.5.0",
          "state": {
            "_dom_classes": [],
            "_model_module": "@jupyter-widgets/controls",
            "_model_module_version": "1.5.0",
            "_model_name": "HBoxModel",
            "_view_count": null,
            "_view_module": "@jupyter-widgets/controls",
            "_view_module_version": "1.5.0",
            "_view_name": "HBoxView",
            "box_style": "",
            "children": [
              "IPY_MODEL_f6cdf8f11aca45ddb1063480054828ae",
              "IPY_MODEL_008fe9fc3968429882fa9daf34abfbcb",
              "IPY_MODEL_64583ea67e4f45e09bd262c46f554ede"
            ],
            "layout": "IPY_MODEL_a343851a66ce40d7a7acb1bc0bff9b99"
          }
        },
        "f6cdf8f11aca45ddb1063480054828ae": {
          "model_module": "@jupyter-widgets/controls",
          "model_name": "HTMLModel",
          "model_module_version": "1.5.0",
          "state": {
            "_dom_classes": [],
            "_model_module": "@jupyter-widgets/controls",
            "_model_module_version": "1.5.0",
            "_model_name": "HTMLModel",
            "_view_count": null,
            "_view_module": "@jupyter-widgets/controls",
            "_view_module_version": "1.5.0",
            "_view_name": "HTMLView",
            "description": "",
            "description_tooltip": null,
            "layout": "IPY_MODEL_cb2791a525b34846bf13dc1a036129ed",
            "placeholder": "​",
            "style": "IPY_MODEL_7be71c9dfc78443abc274be10cbdf9d5",
            "value": "Contando: 100%"
          }
        },
        "008fe9fc3968429882fa9daf34abfbcb": {
          "model_module": "@jupyter-widgets/controls",
          "model_name": "FloatProgressModel",
          "model_module_version": "1.5.0",
          "state": {
            "_dom_classes": [],
            "_model_module": "@jupyter-widgets/controls",
            "_model_module_version": "1.5.0",
            "_model_name": "FloatProgressModel",
            "_view_count": null,
            "_view_module": "@jupyter-widgets/controls",
            "_view_module_version": "1.5.0",
            "_view_name": "ProgressView",
            "bar_style": "success",
            "description": "",
            "description_tooltip": null,
            "layout": "IPY_MODEL_2b8ce49a0d6749aa996d2044b4326fd3",
            "max": 100,
            "min": 0,
            "orientation": "horizontal",
            "style": "IPY_MODEL_913abeefb4f14320960d520ff8fb821f",
            "value": 100
          }
        },
        "64583ea67e4f45e09bd262c46f554ede": {
          "model_module": "@jupyter-widgets/controls",
          "model_name": "HTMLModel",
          "model_module_version": "1.5.0",
          "state": {
            "_dom_classes": [],
            "_model_module": "@jupyter-widgets/controls",
            "_model_module_version": "1.5.0",
            "_model_name": "HTMLModel",
            "_view_count": null,
            "_view_module": "@jupyter-widgets/controls",
            "_view_module_version": "1.5.0",
            "_view_name": "HTMLView",
            "description": "",
            "description_tooltip": null,
            "layout": "IPY_MODEL_434d0a8548f54706ace346de190985d1",
            "placeholder": "​",
            "style": "IPY_MODEL_a4d06ef3239648adb5d5194c5376648f",
            "value": " 100/100 [00:25&lt;00:00,  3.97vezes/s, tamanho=100]"
          }
        },
        "a343851a66ce40d7a7acb1bc0bff9b99": {
          "model_module": "@jupyter-widgets/base",
          "model_name": "LayoutModel",
          "model_module_version": "1.2.0",
          "state": {
            "_model_module": "@jupyter-widgets/base",
            "_model_module_version": "1.2.0",
            "_model_name": "LayoutModel",
            "_view_count": null,
            "_view_module": "@jupyter-widgets/base",
            "_view_module_version": "1.2.0",
            "_view_name": "LayoutView",
            "align_content": null,
            "align_items": null,
            "align_self": null,
            "border": null,
            "bottom": null,
            "display": null,
            "flex": null,
            "flex_flow": null,
            "grid_area": null,
            "grid_auto_columns": null,
            "grid_auto_flow": null,
            "grid_auto_rows": null,
            "grid_column": null,
            "grid_gap": null,
            "grid_row": null,
            "grid_template_areas": null,
            "grid_template_columns": null,
            "grid_template_rows": null,
            "height": null,
            "justify_content": null,
            "justify_items": null,
            "left": null,
            "margin": null,
            "max_height": null,
            "max_width": null,
            "min_height": null,
            "min_width": null,
            "object_fit": null,
            "object_position": null,
            "order": null,
            "overflow": null,
            "overflow_x": null,
            "overflow_y": null,
            "padding": null,
            "right": null,
            "top": null,
            "visibility": null,
            "width": null
          }
        },
        "cb2791a525b34846bf13dc1a036129ed": {
          "model_module": "@jupyter-widgets/base",
          "model_name": "LayoutModel",
          "model_module_version": "1.2.0",
          "state": {
            "_model_module": "@jupyter-widgets/base",
            "_model_module_version": "1.2.0",
            "_model_name": "LayoutModel",
            "_view_count": null,
            "_view_module": "@jupyter-widgets/base",
            "_view_module_version": "1.2.0",
            "_view_name": "LayoutView",
            "align_content": null,
            "align_items": null,
            "align_self": null,
            "border": null,
            "bottom": null,
            "display": null,
            "flex": null,
            "flex_flow": null,
            "grid_area": null,
            "grid_auto_columns": null,
            "grid_auto_flow": null,
            "grid_auto_rows": null,
            "grid_column": null,
            "grid_gap": null,
            "grid_row": null,
            "grid_template_areas": null,
            "grid_template_columns": null,
            "grid_template_rows": null,
            "height": null,
            "justify_content": null,
            "justify_items": null,
            "left": null,
            "margin": null,
            "max_height": null,
            "max_width": null,
            "min_height": null,
            "min_width": null,
            "object_fit": null,
            "object_position": null,
            "order": null,
            "overflow": null,
            "overflow_x": null,
            "overflow_y": null,
            "padding": null,
            "right": null,
            "top": null,
            "visibility": null,
            "width": null
          }
        },
        "7be71c9dfc78443abc274be10cbdf9d5": {
          "model_module": "@jupyter-widgets/controls",
          "model_name": "DescriptionStyleModel",
          "model_module_version": "1.5.0",
          "state": {
            "_model_module": "@jupyter-widgets/controls",
            "_model_module_version": "1.5.0",
            "_model_name": "DescriptionStyleModel",
            "_view_count": null,
            "_view_module": "@jupyter-widgets/base",
            "_view_module_version": "1.2.0",
            "_view_name": "StyleView",
            "description_width": ""
          }
        },
        "2b8ce49a0d6749aa996d2044b4326fd3": {
          "model_module": "@jupyter-widgets/base",
          "model_name": "LayoutModel",
          "model_module_version": "1.2.0",
          "state": {
            "_model_module": "@jupyter-widgets/base",
            "_model_module_version": "1.2.0",
            "_model_name": "LayoutModel",
            "_view_count": null,
            "_view_module": "@jupyter-widgets/base",
            "_view_module_version": "1.2.0",
            "_view_name": "LayoutView",
            "align_content": null,
            "align_items": null,
            "align_self": null,
            "border": null,
            "bottom": null,
            "display": null,
            "flex": null,
            "flex_flow": null,
            "grid_area": null,
            "grid_auto_columns": null,
            "grid_auto_flow": null,
            "grid_auto_rows": null,
            "grid_column": null,
            "grid_gap": null,
            "grid_row": null,
            "grid_template_areas": null,
            "grid_template_columns": null,
            "grid_template_rows": null,
            "height": null,
            "justify_content": null,
            "justify_items": null,
            "left": null,
            "margin": null,
            "max_height": null,
            "max_width": null,
            "min_height": null,
            "min_width": null,
            "object_fit": null,
            "object_position": null,
            "order": null,
            "overflow": null,
            "overflow_x": null,
            "overflow_y": null,
            "padding": null,
            "right": null,
            "top": null,
            "visibility": null,
            "width": null
          }
        },
        "913abeefb4f14320960d520ff8fb821f": {
          "model_module": "@jupyter-widgets/controls",
          "model_name": "ProgressStyleModel",
          "model_module_version": "1.5.0",
          "state": {
            "_model_module": "@jupyter-widgets/controls",
            "_model_module_version": "1.5.0",
            "_model_name": "ProgressStyleModel",
            "_view_count": null,
            "_view_module": "@jupyter-widgets/base",
            "_view_module_version": "1.2.0",
            "_view_name": "StyleView",
            "bar_color": null,
            "description_width": ""
          }
        },
        "434d0a8548f54706ace346de190985d1": {
          "model_module": "@jupyter-widgets/base",
          "model_name": "LayoutModel",
          "model_module_version": "1.2.0",
          "state": {
            "_model_module": "@jupyter-widgets/base",
            "_model_module_version": "1.2.0",
            "_model_name": "LayoutModel",
            "_view_count": null,
            "_view_module": "@jupyter-widgets/base",
            "_view_module_version": "1.2.0",
            "_view_name": "LayoutView",
            "align_content": null,
            "align_items": null,
            "align_self": null,
            "border": null,
            "bottom": null,
            "display": null,
            "flex": null,
            "flex_flow": null,
            "grid_area": null,
            "grid_auto_columns": null,
            "grid_auto_flow": null,
            "grid_auto_rows": null,
            "grid_column": null,
            "grid_gap": null,
            "grid_row": null,
            "grid_template_areas": null,
            "grid_template_columns": null,
            "grid_template_rows": null,
            "height": null,
            "justify_content": null,
            "justify_items": null,
            "left": null,
            "margin": null,
            "max_height": null,
            "max_width": null,
            "min_height": null,
            "min_width": null,
            "object_fit": null,
            "object_position": null,
            "order": null,
            "overflow": null,
            "overflow_x": null,
            "overflow_y": null,
            "padding": null,
            "right": null,
            "top": null,
            "visibility": null,
            "width": null
          }
        },
        "a4d06ef3239648adb5d5194c5376648f": {
          "model_module": "@jupyter-widgets/controls",
          "model_name": "DescriptionStyleModel",
          "model_module_version": "1.5.0",
          "state": {
            "_model_module": "@jupyter-widgets/controls",
            "_model_module_version": "1.5.0",
            "_model_name": "DescriptionStyleModel",
            "_view_count": null,
            "_view_module": "@jupyter-widgets/base",
            "_view_module_version": "1.2.0",
            "_view_name": "StyleView",
            "description_width": ""
          }
        },
        "0e2d6e9ac25544a58e02b52e00e9c4b3": {
          "model_module": "@jupyter-widgets/controls",
          "model_name": "HBoxModel",
          "model_module_version": "1.5.0",
          "state": {
            "_dom_classes": [],
            "_model_module": "@jupyter-widgets/controls",
            "_model_module_version": "1.5.0",
            "_model_name": "HBoxModel",
            "_view_count": null,
            "_view_module": "@jupyter-widgets/controls",
            "_view_module_version": "1.5.0",
            "_view_name": "HBoxView",
            "box_style": "",
            "children": [
              "IPY_MODEL_1eccc6d82c644cacb7a11967c2c1dcd2",
              "IPY_MODEL_e14d2a215a87445f98442db9bb457bb8",
              "IPY_MODEL_25b4b93e14304dfeb06bd3dda513b3c5"
            ],
            "layout": "IPY_MODEL_54269889bbd143749481dc007677e4b9"
          }
        },
        "1eccc6d82c644cacb7a11967c2c1dcd2": {
          "model_module": "@jupyter-widgets/controls",
          "model_name": "HTMLModel",
          "model_module_version": "1.5.0",
          "state": {
            "_dom_classes": [],
            "_model_module": "@jupyter-widgets/controls",
            "_model_module_version": "1.5.0",
            "_model_name": "HTMLModel",
            "_view_count": null,
            "_view_module": "@jupyter-widgets/controls",
            "_view_module_version": "1.5.0",
            "_view_name": "HTMLView",
            "description": "",
            "description_tooltip": null,
            "layout": "IPY_MODEL_ccfafbe2538e454cbb5de0609ce38761",
            "placeholder": "​",
            "style": "IPY_MODEL_fd7fa6771e334cf3885581de72a5bc28",
            "value": "Contando: 100%"
          }
        },
        "e14d2a215a87445f98442db9bb457bb8": {
          "model_module": "@jupyter-widgets/controls",
          "model_name": "FloatProgressModel",
          "model_module_version": "1.5.0",
          "state": {
            "_dom_classes": [],
            "_model_module": "@jupyter-widgets/controls",
            "_model_module_version": "1.5.0",
            "_model_name": "FloatProgressModel",
            "_view_count": null,
            "_view_module": "@jupyter-widgets/controls",
            "_view_module_version": "1.5.0",
            "_view_name": "ProgressView",
            "bar_style": "",
            "description": "",
            "description_tooltip": null,
            "layout": "IPY_MODEL_baca2b7b1212440588d06a51c3d06d1d",
            "max": 100,
            "min": 0,
            "orientation": "horizontal",
            "style": "IPY_MODEL_5f31fd73c6334ec0a629d806c12a705d",
            "value": 100
          }
        },
        "25b4b93e14304dfeb06bd3dda513b3c5": {
          "model_module": "@jupyter-widgets/controls",
          "model_name": "HTMLModel",
          "model_module_version": "1.5.0",
          "state": {
            "_dom_classes": [],
            "_model_module": "@jupyter-widgets/controls",
            "_model_module_version": "1.5.0",
            "_model_name": "HTMLModel",
            "_view_count": null,
            "_view_module": "@jupyter-widgets/controls",
            "_view_module_version": "1.5.0",
            "_view_name": "HTMLView",
            "description": "",
            "description_tooltip": null,
            "layout": "IPY_MODEL_13b22bd7f85b4d8d9206bc45b37226d3",
            "placeholder": "​",
            "style": "IPY_MODEL_02beeb50b3cc4496a0c3102bf4a6f053",
            "value": " 100/100 [00:25&lt;00:00,  3.96vezes/s, tamanho=100]"
          }
        },
        "54269889bbd143749481dc007677e4b9": {
          "model_module": "@jupyter-widgets/base",
          "model_name": "LayoutModel",
          "model_module_version": "1.2.0",
          "state": {
            "_model_module": "@jupyter-widgets/base",
            "_model_module_version": "1.2.0",
            "_model_name": "LayoutModel",
            "_view_count": null,
            "_view_module": "@jupyter-widgets/base",
            "_view_module_version": "1.2.0",
            "_view_name": "LayoutView",
            "align_content": null,
            "align_items": null,
            "align_self": null,
            "border": null,
            "bottom": null,
            "display": null,
            "flex": null,
            "flex_flow": null,
            "grid_area": null,
            "grid_auto_columns": null,
            "grid_auto_flow": null,
            "grid_auto_rows": null,
            "grid_column": null,
            "grid_gap": null,
            "grid_row": null,
            "grid_template_areas": null,
            "grid_template_columns": null,
            "grid_template_rows": null,
            "height": null,
            "justify_content": null,
            "justify_items": null,
            "left": null,
            "margin": null,
            "max_height": null,
            "max_width": null,
            "min_height": null,
            "min_width": null,
            "object_fit": null,
            "object_position": null,
            "order": null,
            "overflow": null,
            "overflow_x": null,
            "overflow_y": null,
            "padding": null,
            "right": null,
            "top": null,
            "visibility": null,
            "width": null
          }
        },
        "ccfafbe2538e454cbb5de0609ce38761": {
          "model_module": "@jupyter-widgets/base",
          "model_name": "LayoutModel",
          "model_module_version": "1.2.0",
          "state": {
            "_model_module": "@jupyter-widgets/base",
            "_model_module_version": "1.2.0",
            "_model_name": "LayoutModel",
            "_view_count": null,
            "_view_module": "@jupyter-widgets/base",
            "_view_module_version": "1.2.0",
            "_view_name": "LayoutView",
            "align_content": null,
            "align_items": null,
            "align_self": null,
            "border": null,
            "bottom": null,
            "display": null,
            "flex": null,
            "flex_flow": null,
            "grid_area": null,
            "grid_auto_columns": null,
            "grid_auto_flow": null,
            "grid_auto_rows": null,
            "grid_column": null,
            "grid_gap": null,
            "grid_row": null,
            "grid_template_areas": null,
            "grid_template_columns": null,
            "grid_template_rows": null,
            "height": null,
            "justify_content": null,
            "justify_items": null,
            "left": null,
            "margin": null,
            "max_height": null,
            "max_width": null,
            "min_height": null,
            "min_width": null,
            "object_fit": null,
            "object_position": null,
            "order": null,
            "overflow": null,
            "overflow_x": null,
            "overflow_y": null,
            "padding": null,
            "right": null,
            "top": null,
            "visibility": null,
            "width": null
          }
        },
        "fd7fa6771e334cf3885581de72a5bc28": {
          "model_module": "@jupyter-widgets/controls",
          "model_name": "DescriptionStyleModel",
          "model_module_version": "1.5.0",
          "state": {
            "_model_module": "@jupyter-widgets/controls",
            "_model_module_version": "1.5.0",
            "_model_name": "DescriptionStyleModel",
            "_view_count": null,
            "_view_module": "@jupyter-widgets/base",
            "_view_module_version": "1.2.0",
            "_view_name": "StyleView",
            "description_width": ""
          }
        },
        "baca2b7b1212440588d06a51c3d06d1d": {
          "model_module": "@jupyter-widgets/base",
          "model_name": "LayoutModel",
          "model_module_version": "1.2.0",
          "state": {
            "_model_module": "@jupyter-widgets/base",
            "_model_module_version": "1.2.0",
            "_model_name": "LayoutModel",
            "_view_count": null,
            "_view_module": "@jupyter-widgets/base",
            "_view_module_version": "1.2.0",
            "_view_name": "LayoutView",
            "align_content": null,
            "align_items": null,
            "align_self": null,
            "border": null,
            "bottom": null,
            "display": null,
            "flex": null,
            "flex_flow": null,
            "grid_area": null,
            "grid_auto_columns": null,
            "grid_auto_flow": null,
            "grid_auto_rows": null,
            "grid_column": null,
            "grid_gap": null,
            "grid_row": null,
            "grid_template_areas": null,
            "grid_template_columns": null,
            "grid_template_rows": null,
            "height": null,
            "justify_content": null,
            "justify_items": null,
            "left": null,
            "margin": null,
            "max_height": null,
            "max_width": null,
            "min_height": null,
            "min_width": null,
            "object_fit": null,
            "object_position": null,
            "order": null,
            "overflow": null,
            "overflow_x": null,
            "overflow_y": null,
            "padding": null,
            "right": null,
            "top": null,
            "visibility": null,
            "width": null
          }
        },
        "5f31fd73c6334ec0a629d806c12a705d": {
          "model_module": "@jupyter-widgets/controls",
          "model_name": "ProgressStyleModel",
          "model_module_version": "1.5.0",
          "state": {
            "_model_module": "@jupyter-widgets/controls",
            "_model_module_version": "1.5.0",
            "_model_name": "ProgressStyleModel",
            "_view_count": null,
            "_view_module": "@jupyter-widgets/base",
            "_view_module_version": "1.2.0",
            "_view_name": "StyleView",
            "bar_color": null,
            "description_width": ""
          }
        },
        "13b22bd7f85b4d8d9206bc45b37226d3": {
          "model_module": "@jupyter-widgets/base",
          "model_name": "LayoutModel",
          "model_module_version": "1.2.0",
          "state": {
            "_model_module": "@jupyter-widgets/base",
            "_model_module_version": "1.2.0",
            "_model_name": "LayoutModel",
            "_view_count": null,
            "_view_module": "@jupyter-widgets/base",
            "_view_module_version": "1.2.0",
            "_view_name": "LayoutView",
            "align_content": null,
            "align_items": null,
            "align_self": null,
            "border": null,
            "bottom": null,
            "display": null,
            "flex": null,
            "flex_flow": null,
            "grid_area": null,
            "grid_auto_columns": null,
            "grid_auto_flow": null,
            "grid_auto_rows": null,
            "grid_column": null,
            "grid_gap": null,
            "grid_row": null,
            "grid_template_areas": null,
            "grid_template_columns": null,
            "grid_template_rows": null,
            "height": null,
            "justify_content": null,
            "justify_items": null,
            "left": null,
            "margin": null,
            "max_height": null,
            "max_width": null,
            "min_height": null,
            "min_width": null,
            "object_fit": null,
            "object_position": null,
            "order": null,
            "overflow": null,
            "overflow_x": null,
            "overflow_y": null,
            "padding": null,
            "right": null,
            "top": null,
            "visibility": null,
            "width": null
          }
        },
        "02beeb50b3cc4496a0c3102bf4a6f053": {
          "model_module": "@jupyter-widgets/controls",
          "model_name": "DescriptionStyleModel",
          "model_module_version": "1.5.0",
          "state": {
            "_model_module": "@jupyter-widgets/controls",
            "_model_module_version": "1.5.0",
            "_model_name": "DescriptionStyleModel",
            "_view_count": null,
            "_view_module": "@jupyter-widgets/base",
            "_view_module_version": "1.2.0",
            "_view_name": "StyleView",
            "description_width": ""
          }
        },
        "aad984f175444c1782252fea2a956abb": {
          "model_module": "@jupyter-widgets/controls",
          "model_name": "HBoxModel",
          "model_module_version": "1.5.0",
          "state": {
            "_dom_classes": [],
            "_model_module": "@jupyter-widgets/controls",
            "_model_module_version": "1.5.0",
            "_model_name": "HBoxModel",
            "_view_count": null,
            "_view_module": "@jupyter-widgets/controls",
            "_view_module_version": "1.5.0",
            "_view_name": "HBoxView",
            "box_style": "",
            "children": [
              "IPY_MODEL_58eefd3814e64bf1987385125eb01ec5",
              "IPY_MODEL_d173e1450ffa4ecd92a2469ca88c57d4",
              "IPY_MODEL_549b04e815e547d0b9b55c292825b9ab"
            ],
            "layout": "IPY_MODEL_0429d55d6102482fa815c75edb53e9ae"
          }
        },
        "58eefd3814e64bf1987385125eb01ec5": {
          "model_module": "@jupyter-widgets/controls",
          "model_name": "HTMLModel",
          "model_module_version": "1.5.0",
          "state": {
            "_dom_classes": [],
            "_model_module": "@jupyter-widgets/controls",
            "_model_module_version": "1.5.0",
            "_model_name": "HTMLModel",
            "_view_count": null,
            "_view_module": "@jupyter-widgets/controls",
            "_view_module_version": "1.5.0",
            "_view_name": "HTMLView",
            "description": "",
            "description_tooltip": null,
            "layout": "IPY_MODEL_1c6c7613027f48c8b4513a3ba548b05b",
            "placeholder": "​",
            "style": "IPY_MODEL_da4f20c176804f43a3b584a8319760f6",
            "value": "1o Laço: 100%"
          }
        },
        "d173e1450ffa4ecd92a2469ca88c57d4": {
          "model_module": "@jupyter-widgets/controls",
          "model_name": "FloatProgressModel",
          "model_module_version": "1.5.0",
          "state": {
            "_dom_classes": [],
            "_model_module": "@jupyter-widgets/controls",
            "_model_module_version": "1.5.0",
            "_model_name": "FloatProgressModel",
            "_view_count": null,
            "_view_module": "@jupyter-widgets/controls",
            "_view_module_version": "1.5.0",
            "_view_name": "ProgressView",
            "bar_style": "success",
            "description": "",
            "description_tooltip": null,
            "layout": "IPY_MODEL_aa904e46ce6f4b5b95dc13e6cc4d8539",
            "max": 5,
            "min": 0,
            "orientation": "horizontal",
            "style": "IPY_MODEL_29a3089fa9b44079a72617f5e6c5470b",
            "value": 5
          }
        },
        "549b04e815e547d0b9b55c292825b9ab": {
          "model_module": "@jupyter-widgets/controls",
          "model_name": "HTMLModel",
          "model_module_version": "1.5.0",
          "state": {
            "_dom_classes": [],
            "_model_module": "@jupyter-widgets/controls",
            "_model_module_version": "1.5.0",
            "_model_name": "HTMLModel",
            "_view_count": null,
            "_view_module": "@jupyter-widgets/controls",
            "_view_module_version": "1.5.0",
            "_view_name": "HTMLView",
            "description": "",
            "description_tooltip": null,
            "layout": "IPY_MODEL_63fa80e270334fbcb03650591898f301",
            "placeholder": "​",
            "style": "IPY_MODEL_1c03103b40834664a9046f1affbdc151",
            "value": " 5/5 [00:10&lt;00:00,  2.07s/it]"
          }
        },
        "0429d55d6102482fa815c75edb53e9ae": {
          "model_module": "@jupyter-widgets/base",
          "model_name": "LayoutModel",
          "model_module_version": "1.2.0",
          "state": {
            "_model_module": "@jupyter-widgets/base",
            "_model_module_version": "1.2.0",
            "_model_name": "LayoutModel",
            "_view_count": null,
            "_view_module": "@jupyter-widgets/base",
            "_view_module_version": "1.2.0",
            "_view_name": "LayoutView",
            "align_content": null,
            "align_items": null,
            "align_self": null,
            "border": null,
            "bottom": null,
            "display": null,
            "flex": null,
            "flex_flow": null,
            "grid_area": null,
            "grid_auto_columns": null,
            "grid_auto_flow": null,
            "grid_auto_rows": null,
            "grid_column": null,
            "grid_gap": null,
            "grid_row": null,
            "grid_template_areas": null,
            "grid_template_columns": null,
            "grid_template_rows": null,
            "height": null,
            "justify_content": null,
            "justify_items": null,
            "left": null,
            "margin": null,
            "max_height": null,
            "max_width": null,
            "min_height": null,
            "min_width": null,
            "object_fit": null,
            "object_position": null,
            "order": null,
            "overflow": null,
            "overflow_x": null,
            "overflow_y": null,
            "padding": null,
            "right": null,
            "top": null,
            "visibility": null,
            "width": null
          }
        },
        "1c6c7613027f48c8b4513a3ba548b05b": {
          "model_module": "@jupyter-widgets/base",
          "model_name": "LayoutModel",
          "model_module_version": "1.2.0",
          "state": {
            "_model_module": "@jupyter-widgets/base",
            "_model_module_version": "1.2.0",
            "_model_name": "LayoutModel",
            "_view_count": null,
            "_view_module": "@jupyter-widgets/base",
            "_view_module_version": "1.2.0",
            "_view_name": "LayoutView",
            "align_content": null,
            "align_items": null,
            "align_self": null,
            "border": null,
            "bottom": null,
            "display": null,
            "flex": null,
            "flex_flow": null,
            "grid_area": null,
            "grid_auto_columns": null,
            "grid_auto_flow": null,
            "grid_auto_rows": null,
            "grid_column": null,
            "grid_gap": null,
            "grid_row": null,
            "grid_template_areas": null,
            "grid_template_columns": null,
            "grid_template_rows": null,
            "height": null,
            "justify_content": null,
            "justify_items": null,
            "left": null,
            "margin": null,
            "max_height": null,
            "max_width": null,
            "min_height": null,
            "min_width": null,
            "object_fit": null,
            "object_position": null,
            "order": null,
            "overflow": null,
            "overflow_x": null,
            "overflow_y": null,
            "padding": null,
            "right": null,
            "top": null,
            "visibility": null,
            "width": null
          }
        },
        "da4f20c176804f43a3b584a8319760f6": {
          "model_module": "@jupyter-widgets/controls",
          "model_name": "DescriptionStyleModel",
          "model_module_version": "1.5.0",
          "state": {
            "_model_module": "@jupyter-widgets/controls",
            "_model_module_version": "1.5.0",
            "_model_name": "DescriptionStyleModel",
            "_view_count": null,
            "_view_module": "@jupyter-widgets/base",
            "_view_module_version": "1.2.0",
            "_view_name": "StyleView",
            "description_width": ""
          }
        },
        "aa904e46ce6f4b5b95dc13e6cc4d8539": {
          "model_module": "@jupyter-widgets/base",
          "model_name": "LayoutModel",
          "model_module_version": "1.2.0",
          "state": {
            "_model_module": "@jupyter-widgets/base",
            "_model_module_version": "1.2.0",
            "_model_name": "LayoutModel",
            "_view_count": null,
            "_view_module": "@jupyter-widgets/base",
            "_view_module_version": "1.2.0",
            "_view_name": "LayoutView",
            "align_content": null,
            "align_items": null,
            "align_self": null,
            "border": null,
            "bottom": null,
            "display": null,
            "flex": null,
            "flex_flow": null,
            "grid_area": null,
            "grid_auto_columns": null,
            "grid_auto_flow": null,
            "grid_auto_rows": null,
            "grid_column": null,
            "grid_gap": null,
            "grid_row": null,
            "grid_template_areas": null,
            "grid_template_columns": null,
            "grid_template_rows": null,
            "height": null,
            "justify_content": null,
            "justify_items": null,
            "left": null,
            "margin": null,
            "max_height": null,
            "max_width": null,
            "min_height": null,
            "min_width": null,
            "object_fit": null,
            "object_position": null,
            "order": null,
            "overflow": null,
            "overflow_x": null,
            "overflow_y": null,
            "padding": null,
            "right": null,
            "top": null,
            "visibility": null,
            "width": null
          }
        },
        "29a3089fa9b44079a72617f5e6c5470b": {
          "model_module": "@jupyter-widgets/controls",
          "model_name": "ProgressStyleModel",
          "model_module_version": "1.5.0",
          "state": {
            "_model_module": "@jupyter-widgets/controls",
            "_model_module_version": "1.5.0",
            "_model_name": "ProgressStyleModel",
            "_view_count": null,
            "_view_module": "@jupyter-widgets/base",
            "_view_module_version": "1.2.0",
            "_view_name": "StyleView",
            "bar_color": null,
            "description_width": ""
          }
        },
        "63fa80e270334fbcb03650591898f301": {
          "model_module": "@jupyter-widgets/base",
          "model_name": "LayoutModel",
          "model_module_version": "1.2.0",
          "state": {
            "_model_module": "@jupyter-widgets/base",
            "_model_module_version": "1.2.0",
            "_model_name": "LayoutModel",
            "_view_count": null,
            "_view_module": "@jupyter-widgets/base",
            "_view_module_version": "1.2.0",
            "_view_name": "LayoutView",
            "align_content": null,
            "align_items": null,
            "align_self": null,
            "border": null,
            "bottom": null,
            "display": null,
            "flex": null,
            "flex_flow": null,
            "grid_area": null,
            "grid_auto_columns": null,
            "grid_auto_flow": null,
            "grid_auto_rows": null,
            "grid_column": null,
            "grid_gap": null,
            "grid_row": null,
            "grid_template_areas": null,
            "grid_template_columns": null,
            "grid_template_rows": null,
            "height": null,
            "justify_content": null,
            "justify_items": null,
            "left": null,
            "margin": null,
            "max_height": null,
            "max_width": null,
            "min_height": null,
            "min_width": null,
            "object_fit": null,
            "object_position": null,
            "order": null,
            "overflow": null,
            "overflow_x": null,
            "overflow_y": null,
            "padding": null,
            "right": null,
            "top": null,
            "visibility": null,
            "width": null
          }
        },
        "1c03103b40834664a9046f1affbdc151": {
          "model_module": "@jupyter-widgets/controls",
          "model_name": "DescriptionStyleModel",
          "model_module_version": "1.5.0",
          "state": {
            "_model_module": "@jupyter-widgets/controls",
            "_model_module_version": "1.5.0",
            "_model_name": "DescriptionStyleModel",
            "_view_count": null,
            "_view_module": "@jupyter-widgets/base",
            "_view_module_version": "1.2.0",
            "_view_name": "StyleView",
            "description_width": ""
          }
        },
        "d32762a90cad48bc962b9c65b9db49a0": {
          "model_module": "@jupyter-widgets/controls",
          "model_name": "HBoxModel",
          "model_module_version": "1.5.0",
          "state": {
            "_dom_classes": [],
            "_model_module": "@jupyter-widgets/controls",
            "_model_module_version": "1.5.0",
            "_model_name": "HBoxModel",
            "_view_count": null,
            "_view_module": "@jupyter-widgets/controls",
            "_view_module_version": "1.5.0",
            "_view_name": "HBoxView",
            "box_style": "",
            "children": [
              "IPY_MODEL_df4be506d80a4e96b158d32ae9834e6d",
              "IPY_MODEL_2ffcbb0ebef74af0831611955096bf3a",
              "IPY_MODEL_0be48c34c1514b92bf4af5fc63222455"
            ],
            "layout": "IPY_MODEL_5746e00b5321435a98a3de56d783c234"
          }
        },
        "df4be506d80a4e96b158d32ae9834e6d": {
          "model_module": "@jupyter-widgets/controls",
          "model_name": "HTMLModel",
          "model_module_version": "1.5.0",
          "state": {
            "_dom_classes": [],
            "_model_module": "@jupyter-widgets/controls",
            "_model_module_version": "1.5.0",
            "_model_name": "HTMLModel",
            "_view_count": null,
            "_view_module": "@jupyter-widgets/controls",
            "_view_module_version": "1.5.0",
            "_view_name": "HTMLView",
            "description": "",
            "description_tooltip": null,
            "layout": "IPY_MODEL_4966ac8f8e47421a81e2d795fcb4dbe1",
            "placeholder": "​",
            "style": "IPY_MODEL_26f6903538a4460fb52dbef3db75aace",
            "value": "2o Laço:  99%"
          }
        },
        "2ffcbb0ebef74af0831611955096bf3a": {
          "model_module": "@jupyter-widgets/controls",
          "model_name": "FloatProgressModel",
          "model_module_version": "1.5.0",
          "state": {
            "_dom_classes": [],
            "_model_module": "@jupyter-widgets/controls",
            "_model_module_version": "1.5.0",
            "_model_name": "FloatProgressModel",
            "_view_count": null,
            "_view_module": "@jupyter-widgets/controls",
            "_view_module_version": "1.5.0",
            "_view_name": "ProgressView",
            "bar_style": "",
            "description": "",
            "description_tooltip": null,
            "layout": "IPY_MODEL_fc7b205f1296450badc1d500fcd60423",
            "max": 100,
            "min": 0,
            "orientation": "horizontal",
            "style": "IPY_MODEL_5d8d6d397fbe464b96c6000e62cb13ad",
            "value": 100
          }
        },
        "0be48c34c1514b92bf4af5fc63222455": {
          "model_module": "@jupyter-widgets/controls",
          "model_name": "HTMLModel",
          "model_module_version": "1.5.0",
          "state": {
            "_dom_classes": [],
            "_model_module": "@jupyter-widgets/controls",
            "_model_module_version": "1.5.0",
            "_model_name": "HTMLModel",
            "_view_count": null,
            "_view_module": "@jupyter-widgets/controls",
            "_view_module_version": "1.5.0",
            "_view_name": "HTMLView",
            "description": "",
            "description_tooltip": null,
            "layout": "IPY_MODEL_f075bda3b51a4896b3d26af846277620",
            "placeholder": "​",
            "style": "IPY_MODEL_c753fdf9a9a4476994efa9e7358c44cc",
            "value": " 99/100 [00:02&lt;00:00, 48.91it/s]"
          }
        },
        "5746e00b5321435a98a3de56d783c234": {
          "model_module": "@jupyter-widgets/base",
          "model_name": "LayoutModel",
          "model_module_version": "1.2.0",
          "state": {
            "_model_module": "@jupyter-widgets/base",
            "_model_module_version": "1.2.0",
            "_model_name": "LayoutModel",
            "_view_count": null,
            "_view_module": "@jupyter-widgets/base",
            "_view_module_version": "1.2.0",
            "_view_name": "LayoutView",
            "align_content": null,
            "align_items": null,
            "align_self": null,
            "border": null,
            "bottom": null,
            "display": null,
            "flex": null,
            "flex_flow": null,
            "grid_area": null,
            "grid_auto_columns": null,
            "grid_auto_flow": null,
            "grid_auto_rows": null,
            "grid_column": null,
            "grid_gap": null,
            "grid_row": null,
            "grid_template_areas": null,
            "grid_template_columns": null,
            "grid_template_rows": null,
            "height": null,
            "justify_content": null,
            "justify_items": null,
            "left": null,
            "margin": null,
            "max_height": null,
            "max_width": null,
            "min_height": null,
            "min_width": null,
            "object_fit": null,
            "object_position": null,
            "order": null,
            "overflow": null,
            "overflow_x": null,
            "overflow_y": null,
            "padding": null,
            "right": null,
            "top": null,
            "visibility": "hidden",
            "width": null
          }
        },
        "4966ac8f8e47421a81e2d795fcb4dbe1": {
          "model_module": "@jupyter-widgets/base",
          "model_name": "LayoutModel",
          "model_module_version": "1.2.0",
          "state": {
            "_model_module": "@jupyter-widgets/base",
            "_model_module_version": "1.2.0",
            "_model_name": "LayoutModel",
            "_view_count": null,
            "_view_module": "@jupyter-widgets/base",
            "_view_module_version": "1.2.0",
            "_view_name": "LayoutView",
            "align_content": null,
            "align_items": null,
            "align_self": null,
            "border": null,
            "bottom": null,
            "display": null,
            "flex": null,
            "flex_flow": null,
            "grid_area": null,
            "grid_auto_columns": null,
            "grid_auto_flow": null,
            "grid_auto_rows": null,
            "grid_column": null,
            "grid_gap": null,
            "grid_row": null,
            "grid_template_areas": null,
            "grid_template_columns": null,
            "grid_template_rows": null,
            "height": null,
            "justify_content": null,
            "justify_items": null,
            "left": null,
            "margin": null,
            "max_height": null,
            "max_width": null,
            "min_height": null,
            "min_width": null,
            "object_fit": null,
            "object_position": null,
            "order": null,
            "overflow": null,
            "overflow_x": null,
            "overflow_y": null,
            "padding": null,
            "right": null,
            "top": null,
            "visibility": null,
            "width": null
          }
        },
        "26f6903538a4460fb52dbef3db75aace": {
          "model_module": "@jupyter-widgets/controls",
          "model_name": "DescriptionStyleModel",
          "model_module_version": "1.5.0",
          "state": {
            "_model_module": "@jupyter-widgets/controls",
            "_model_module_version": "1.5.0",
            "_model_name": "DescriptionStyleModel",
            "_view_count": null,
            "_view_module": "@jupyter-widgets/base",
            "_view_module_version": "1.2.0",
            "_view_name": "StyleView",
            "description_width": ""
          }
        },
        "fc7b205f1296450badc1d500fcd60423": {
          "model_module": "@jupyter-widgets/base",
          "model_name": "LayoutModel",
          "model_module_version": "1.2.0",
          "state": {
            "_model_module": "@jupyter-widgets/base",
            "_model_module_version": "1.2.0",
            "_model_name": "LayoutModel",
            "_view_count": null,
            "_view_module": "@jupyter-widgets/base",
            "_view_module_version": "1.2.0",
            "_view_name": "LayoutView",
            "align_content": null,
            "align_items": null,
            "align_self": null,
            "border": null,
            "bottom": null,
            "display": null,
            "flex": null,
            "flex_flow": null,
            "grid_area": null,
            "grid_auto_columns": null,
            "grid_auto_flow": null,
            "grid_auto_rows": null,
            "grid_column": null,
            "grid_gap": null,
            "grid_row": null,
            "grid_template_areas": null,
            "grid_template_columns": null,
            "grid_template_rows": null,
            "height": null,
            "justify_content": null,
            "justify_items": null,
            "left": null,
            "margin": null,
            "max_height": null,
            "max_width": null,
            "min_height": null,
            "min_width": null,
            "object_fit": null,
            "object_position": null,
            "order": null,
            "overflow": null,
            "overflow_x": null,
            "overflow_y": null,
            "padding": null,
            "right": null,
            "top": null,
            "visibility": null,
            "width": null
          }
        },
        "5d8d6d397fbe464b96c6000e62cb13ad": {
          "model_module": "@jupyter-widgets/controls",
          "model_name": "ProgressStyleModel",
          "model_module_version": "1.5.0",
          "state": {
            "_model_module": "@jupyter-widgets/controls",
            "_model_module_version": "1.5.0",
            "_model_name": "ProgressStyleModel",
            "_view_count": null,
            "_view_module": "@jupyter-widgets/base",
            "_view_module_version": "1.2.0",
            "_view_name": "StyleView",
            "bar_color": null,
            "description_width": ""
          }
        },
        "f075bda3b51a4896b3d26af846277620": {
          "model_module": "@jupyter-widgets/base",
          "model_name": "LayoutModel",
          "model_module_version": "1.2.0",
          "state": {
            "_model_module": "@jupyter-widgets/base",
            "_model_module_version": "1.2.0",
            "_model_name": "LayoutModel",
            "_view_count": null,
            "_view_module": "@jupyter-widgets/base",
            "_view_module_version": "1.2.0",
            "_view_name": "LayoutView",
            "align_content": null,
            "align_items": null,
            "align_self": null,
            "border": null,
            "bottom": null,
            "display": null,
            "flex": null,
            "flex_flow": null,
            "grid_area": null,
            "grid_auto_columns": null,
            "grid_auto_flow": null,
            "grid_auto_rows": null,
            "grid_column": null,
            "grid_gap": null,
            "grid_row": null,
            "grid_template_areas": null,
            "grid_template_columns": null,
            "grid_template_rows": null,
            "height": null,
            "justify_content": null,
            "justify_items": null,
            "left": null,
            "margin": null,
            "max_height": null,
            "max_width": null,
            "min_height": null,
            "min_width": null,
            "object_fit": null,
            "object_position": null,
            "order": null,
            "overflow": null,
            "overflow_x": null,
            "overflow_y": null,
            "padding": null,
            "right": null,
            "top": null,
            "visibility": null,
            "width": null
          }
        },
        "c753fdf9a9a4476994efa9e7358c44cc": {
          "model_module": "@jupyter-widgets/controls",
          "model_name": "DescriptionStyleModel",
          "model_module_version": "1.5.0",
          "state": {
            "_model_module": "@jupyter-widgets/controls",
            "_model_module_version": "1.5.0",
            "_model_name": "DescriptionStyleModel",
            "_view_count": null,
            "_view_module": "@jupyter-widgets/base",
            "_view_module_version": "1.2.0",
            "_view_name": "StyleView",
            "description_width": ""
          }
        },
        "90152b295a9b4e4897f96c035219bd61": {
          "model_module": "@jupyter-widgets/controls",
          "model_name": "HBoxModel",
          "model_module_version": "1.5.0",
          "state": {
            "_dom_classes": [],
            "_model_module": "@jupyter-widgets/controls",
            "_model_module_version": "1.5.0",
            "_model_name": "HBoxModel",
            "_view_count": null,
            "_view_module": "@jupyter-widgets/controls",
            "_view_module_version": "1.5.0",
            "_view_name": "HBoxView",
            "box_style": "",
            "children": [
              "IPY_MODEL_c6d5876b8a9c4b52957d23178ab5c540",
              "IPY_MODEL_e7a53e0db3644eeca49e7b50c82008b8",
              "IPY_MODEL_8b8fe062930542899f59c352b43c079d"
            ],
            "layout": "IPY_MODEL_b99209eaabaa47c8917621d5ecf54665"
          }
        },
        "c6d5876b8a9c4b52957d23178ab5c540": {
          "model_module": "@jupyter-widgets/controls",
          "model_name": "HTMLModel",
          "model_module_version": "1.5.0",
          "state": {
            "_dom_classes": [],
            "_model_module": "@jupyter-widgets/controls",
            "_model_module_version": "1.5.0",
            "_model_name": "HTMLModel",
            "_view_count": null,
            "_view_module": "@jupyter-widgets/controls",
            "_view_module_version": "1.5.0",
            "_view_name": "HTMLView",
            "description": "",
            "description_tooltip": null,
            "layout": "IPY_MODEL_9420598534194f1da1a81ee22157a5b5",
            "placeholder": "​",
            "style": "IPY_MODEL_b032e6e10e9d4b699e3e30fd1282aadc",
            "value": "2o Laço:  99%"
          }
        },
        "e7a53e0db3644eeca49e7b50c82008b8": {
          "model_module": "@jupyter-widgets/controls",
          "model_name": "FloatProgressModel",
          "model_module_version": "1.5.0",
          "state": {
            "_dom_classes": [],
            "_model_module": "@jupyter-widgets/controls",
            "_model_module_version": "1.5.0",
            "_model_name": "FloatProgressModel",
            "_view_count": null,
            "_view_module": "@jupyter-widgets/controls",
            "_view_module_version": "1.5.0",
            "_view_name": "ProgressView",
            "bar_style": "",
            "description": "",
            "description_tooltip": null,
            "layout": "IPY_MODEL_a3d3bfc18bb947e89c4c3ec38981dc0b",
            "max": 100,
            "min": 0,
            "orientation": "horizontal",
            "style": "IPY_MODEL_cfe5ce743b414f48951e55f06de0645f",
            "value": 100
          }
        },
        "8b8fe062930542899f59c352b43c079d": {
          "model_module": "@jupyter-widgets/controls",
          "model_name": "HTMLModel",
          "model_module_version": "1.5.0",
          "state": {
            "_dom_classes": [],
            "_model_module": "@jupyter-widgets/controls",
            "_model_module_version": "1.5.0",
            "_model_name": "HTMLModel",
            "_view_count": null,
            "_view_module": "@jupyter-widgets/controls",
            "_view_module_version": "1.5.0",
            "_view_name": "HTMLView",
            "description": "",
            "description_tooltip": null,
            "layout": "IPY_MODEL_f9d805e3c4f940aa8d326aed55a9291a",
            "placeholder": "​",
            "style": "IPY_MODEL_a6e360737ef24e55ae62f0d939998be4",
            "value": " 99/100 [00:02&lt;00:00, 49.10it/s]"
          }
        },
        "b99209eaabaa47c8917621d5ecf54665": {
          "model_module": "@jupyter-widgets/base",
          "model_name": "LayoutModel",
          "model_module_version": "1.2.0",
          "state": {
            "_model_module": "@jupyter-widgets/base",
            "_model_module_version": "1.2.0",
            "_model_name": "LayoutModel",
            "_view_count": null,
            "_view_module": "@jupyter-widgets/base",
            "_view_module_version": "1.2.0",
            "_view_name": "LayoutView",
            "align_content": null,
            "align_items": null,
            "align_self": null,
            "border": null,
            "bottom": null,
            "display": null,
            "flex": null,
            "flex_flow": null,
            "grid_area": null,
            "grid_auto_columns": null,
            "grid_auto_flow": null,
            "grid_auto_rows": null,
            "grid_column": null,
            "grid_gap": null,
            "grid_row": null,
            "grid_template_areas": null,
            "grid_template_columns": null,
            "grid_template_rows": null,
            "height": null,
            "justify_content": null,
            "justify_items": null,
            "left": null,
            "margin": null,
            "max_height": null,
            "max_width": null,
            "min_height": null,
            "min_width": null,
            "object_fit": null,
            "object_position": null,
            "order": null,
            "overflow": null,
            "overflow_x": null,
            "overflow_y": null,
            "padding": null,
            "right": null,
            "top": null,
            "visibility": "hidden",
            "width": null
          }
        },
        "9420598534194f1da1a81ee22157a5b5": {
          "model_module": "@jupyter-widgets/base",
          "model_name": "LayoutModel",
          "model_module_version": "1.2.0",
          "state": {
            "_model_module": "@jupyter-widgets/base",
            "_model_module_version": "1.2.0",
            "_model_name": "LayoutModel",
            "_view_count": null,
            "_view_module": "@jupyter-widgets/base",
            "_view_module_version": "1.2.0",
            "_view_name": "LayoutView",
            "align_content": null,
            "align_items": null,
            "align_self": null,
            "border": null,
            "bottom": null,
            "display": null,
            "flex": null,
            "flex_flow": null,
            "grid_area": null,
            "grid_auto_columns": null,
            "grid_auto_flow": null,
            "grid_auto_rows": null,
            "grid_column": null,
            "grid_gap": null,
            "grid_row": null,
            "grid_template_areas": null,
            "grid_template_columns": null,
            "grid_template_rows": null,
            "height": null,
            "justify_content": null,
            "justify_items": null,
            "left": null,
            "margin": null,
            "max_height": null,
            "max_width": null,
            "min_height": null,
            "min_width": null,
            "object_fit": null,
            "object_position": null,
            "order": null,
            "overflow": null,
            "overflow_x": null,
            "overflow_y": null,
            "padding": null,
            "right": null,
            "top": null,
            "visibility": null,
            "width": null
          }
        },
        "b032e6e10e9d4b699e3e30fd1282aadc": {
          "model_module": "@jupyter-widgets/controls",
          "model_name": "DescriptionStyleModel",
          "model_module_version": "1.5.0",
          "state": {
            "_model_module": "@jupyter-widgets/controls",
            "_model_module_version": "1.5.0",
            "_model_name": "DescriptionStyleModel",
            "_view_count": null,
            "_view_module": "@jupyter-widgets/base",
            "_view_module_version": "1.2.0",
            "_view_name": "StyleView",
            "description_width": ""
          }
        },
        "a3d3bfc18bb947e89c4c3ec38981dc0b": {
          "model_module": "@jupyter-widgets/base",
          "model_name": "LayoutModel",
          "model_module_version": "1.2.0",
          "state": {
            "_model_module": "@jupyter-widgets/base",
            "_model_module_version": "1.2.0",
            "_model_name": "LayoutModel",
            "_view_count": null,
            "_view_module": "@jupyter-widgets/base",
            "_view_module_version": "1.2.0",
            "_view_name": "LayoutView",
            "align_content": null,
            "align_items": null,
            "align_self": null,
            "border": null,
            "bottom": null,
            "display": null,
            "flex": null,
            "flex_flow": null,
            "grid_area": null,
            "grid_auto_columns": null,
            "grid_auto_flow": null,
            "grid_auto_rows": null,
            "grid_column": null,
            "grid_gap": null,
            "grid_row": null,
            "grid_template_areas": null,
            "grid_template_columns": null,
            "grid_template_rows": null,
            "height": null,
            "justify_content": null,
            "justify_items": null,
            "left": null,
            "margin": null,
            "max_height": null,
            "max_width": null,
            "min_height": null,
            "min_width": null,
            "object_fit": null,
            "object_position": null,
            "order": null,
            "overflow": null,
            "overflow_x": null,
            "overflow_y": null,
            "padding": null,
            "right": null,
            "top": null,
            "visibility": null,
            "width": null
          }
        },
        "cfe5ce743b414f48951e55f06de0645f": {
          "model_module": "@jupyter-widgets/controls",
          "model_name": "ProgressStyleModel",
          "model_module_version": "1.5.0",
          "state": {
            "_model_module": "@jupyter-widgets/controls",
            "_model_module_version": "1.5.0",
            "_model_name": "ProgressStyleModel",
            "_view_count": null,
            "_view_module": "@jupyter-widgets/base",
            "_view_module_version": "1.2.0",
            "_view_name": "StyleView",
            "bar_color": null,
            "description_width": ""
          }
        },
        "f9d805e3c4f940aa8d326aed55a9291a": {
          "model_module": "@jupyter-widgets/base",
          "model_name": "LayoutModel",
          "model_module_version": "1.2.0",
          "state": {
            "_model_module": "@jupyter-widgets/base",
            "_model_module_version": "1.2.0",
            "_model_name": "LayoutModel",
            "_view_count": null,
            "_view_module": "@jupyter-widgets/base",
            "_view_module_version": "1.2.0",
            "_view_name": "LayoutView",
            "align_content": null,
            "align_items": null,
            "align_self": null,
            "border": null,
            "bottom": null,
            "display": null,
            "flex": null,
            "flex_flow": null,
            "grid_area": null,
            "grid_auto_columns": null,
            "grid_auto_flow": null,
            "grid_auto_rows": null,
            "grid_column": null,
            "grid_gap": null,
            "grid_row": null,
            "grid_template_areas": null,
            "grid_template_columns": null,
            "grid_template_rows": null,
            "height": null,
            "justify_content": null,
            "justify_items": null,
            "left": null,
            "margin": null,
            "max_height": null,
            "max_width": null,
            "min_height": null,
            "min_width": null,
            "object_fit": null,
            "object_position": null,
            "order": null,
            "overflow": null,
            "overflow_x": null,
            "overflow_y": null,
            "padding": null,
            "right": null,
            "top": null,
            "visibility": null,
            "width": null
          }
        },
        "a6e360737ef24e55ae62f0d939998be4": {
          "model_module": "@jupyter-widgets/controls",
          "model_name": "DescriptionStyleModel",
          "model_module_version": "1.5.0",
          "state": {
            "_model_module": "@jupyter-widgets/controls",
            "_model_module_version": "1.5.0",
            "_model_name": "DescriptionStyleModel",
            "_view_count": null,
            "_view_module": "@jupyter-widgets/base",
            "_view_module_version": "1.2.0",
            "_view_name": "StyleView",
            "description_width": ""
          }
        },
        "b7440cb622df4ea0a46f682e4d8be6f7": {
          "model_module": "@jupyter-widgets/controls",
          "model_name": "HBoxModel",
          "model_module_version": "1.5.0",
          "state": {
            "_dom_classes": [],
            "_model_module": "@jupyter-widgets/controls",
            "_model_module_version": "1.5.0",
            "_model_name": "HBoxModel",
            "_view_count": null,
            "_view_module": "@jupyter-widgets/controls",
            "_view_module_version": "1.5.0",
            "_view_name": "HBoxView",
            "box_style": "",
            "children": [
              "IPY_MODEL_a999de1bbee34a1da9d5b27616ff110f",
              "IPY_MODEL_f0edc182cfe641b3bd6c7d59e0d6296e",
              "IPY_MODEL_a5c49fde31f94366b90e8b1bdf03caa4"
            ],
            "layout": "IPY_MODEL_ac4086b44ff04278a50437f3740edc11"
          }
        },
        "a999de1bbee34a1da9d5b27616ff110f": {
          "model_module": "@jupyter-widgets/controls",
          "model_name": "HTMLModel",
          "model_module_version": "1.5.0",
          "state": {
            "_dom_classes": [],
            "_model_module": "@jupyter-widgets/controls",
            "_model_module_version": "1.5.0",
            "_model_name": "HTMLModel",
            "_view_count": null,
            "_view_module": "@jupyter-widgets/controls",
            "_view_module_version": "1.5.0",
            "_view_name": "HTMLView",
            "description": "",
            "description_tooltip": null,
            "layout": "IPY_MODEL_3979e0f29585444a80c5c5b3b114eaa2",
            "placeholder": "​",
            "style": "IPY_MODEL_51cefdf98151438badfe52a14198d43b",
            "value": "2o Laço: 100%"
          }
        },
        "f0edc182cfe641b3bd6c7d59e0d6296e": {
          "model_module": "@jupyter-widgets/controls",
          "model_name": "FloatProgressModel",
          "model_module_version": "1.5.0",
          "state": {
            "_dom_classes": [],
            "_model_module": "@jupyter-widgets/controls",
            "_model_module_version": "1.5.0",
            "_model_name": "FloatProgressModel",
            "_view_count": null,
            "_view_module": "@jupyter-widgets/controls",
            "_view_module_version": "1.5.0",
            "_view_name": "ProgressView",
            "bar_style": "",
            "description": "",
            "description_tooltip": null,
            "layout": "IPY_MODEL_033a5144f09c4cabb525ec5002b1b0e1",
            "max": 100,
            "min": 0,
            "orientation": "horizontal",
            "style": "IPY_MODEL_ac117384f28d4112846a6e2fc5afdbc6",
            "value": 100
          }
        },
        "a5c49fde31f94366b90e8b1bdf03caa4": {
          "model_module": "@jupyter-widgets/controls",
          "model_name": "HTMLModel",
          "model_module_version": "1.5.0",
          "state": {
            "_dom_classes": [],
            "_model_module": "@jupyter-widgets/controls",
            "_model_module_version": "1.5.0",
            "_model_name": "HTMLModel",
            "_view_count": null,
            "_view_module": "@jupyter-widgets/controls",
            "_view_module_version": "1.5.0",
            "_view_name": "HTMLView",
            "description": "",
            "description_tooltip": null,
            "layout": "IPY_MODEL_3fbd1abde0684c159248beb9bfb26c87",
            "placeholder": "​",
            "style": "IPY_MODEL_af1c2ee5141748cb97745bf45d061bba",
            "value": " 100/100 [00:02&lt;00:00, 48.94it/s]"
          }
        },
        "ac4086b44ff04278a50437f3740edc11": {
          "model_module": "@jupyter-widgets/base",
          "model_name": "LayoutModel",
          "model_module_version": "1.2.0",
          "state": {
            "_model_module": "@jupyter-widgets/base",
            "_model_module_version": "1.2.0",
            "_model_name": "LayoutModel",
            "_view_count": null,
            "_view_module": "@jupyter-widgets/base",
            "_view_module_version": "1.2.0",
            "_view_name": "LayoutView",
            "align_content": null,
            "align_items": null,
            "align_self": null,
            "border": null,
            "bottom": null,
            "display": null,
            "flex": null,
            "flex_flow": null,
            "grid_area": null,
            "grid_auto_columns": null,
            "grid_auto_flow": null,
            "grid_auto_rows": null,
            "grid_column": null,
            "grid_gap": null,
            "grid_row": null,
            "grid_template_areas": null,
            "grid_template_columns": null,
            "grid_template_rows": null,
            "height": null,
            "justify_content": null,
            "justify_items": null,
            "left": null,
            "margin": null,
            "max_height": null,
            "max_width": null,
            "min_height": null,
            "min_width": null,
            "object_fit": null,
            "object_position": null,
            "order": null,
            "overflow": null,
            "overflow_x": null,
            "overflow_y": null,
            "padding": null,
            "right": null,
            "top": null,
            "visibility": "hidden",
            "width": null
          }
        },
        "3979e0f29585444a80c5c5b3b114eaa2": {
          "model_module": "@jupyter-widgets/base",
          "model_name": "LayoutModel",
          "model_module_version": "1.2.0",
          "state": {
            "_model_module": "@jupyter-widgets/base",
            "_model_module_version": "1.2.0",
            "_model_name": "LayoutModel",
            "_view_count": null,
            "_view_module": "@jupyter-widgets/base",
            "_view_module_version": "1.2.0",
            "_view_name": "LayoutView",
            "align_content": null,
            "align_items": null,
            "align_self": null,
            "border": null,
            "bottom": null,
            "display": null,
            "flex": null,
            "flex_flow": null,
            "grid_area": null,
            "grid_auto_columns": null,
            "grid_auto_flow": null,
            "grid_auto_rows": null,
            "grid_column": null,
            "grid_gap": null,
            "grid_row": null,
            "grid_template_areas": null,
            "grid_template_columns": null,
            "grid_template_rows": null,
            "height": null,
            "justify_content": null,
            "justify_items": null,
            "left": null,
            "margin": null,
            "max_height": null,
            "max_width": null,
            "min_height": null,
            "min_width": null,
            "object_fit": null,
            "object_position": null,
            "order": null,
            "overflow": null,
            "overflow_x": null,
            "overflow_y": null,
            "padding": null,
            "right": null,
            "top": null,
            "visibility": null,
            "width": null
          }
        },
        "51cefdf98151438badfe52a14198d43b": {
          "model_module": "@jupyter-widgets/controls",
          "model_name": "DescriptionStyleModel",
          "model_module_version": "1.5.0",
          "state": {
            "_model_module": "@jupyter-widgets/controls",
            "_model_module_version": "1.5.0",
            "_model_name": "DescriptionStyleModel",
            "_view_count": null,
            "_view_module": "@jupyter-widgets/base",
            "_view_module_version": "1.2.0",
            "_view_name": "StyleView",
            "description_width": ""
          }
        },
        "033a5144f09c4cabb525ec5002b1b0e1": {
          "model_module": "@jupyter-widgets/base",
          "model_name": "LayoutModel",
          "model_module_version": "1.2.0",
          "state": {
            "_model_module": "@jupyter-widgets/base",
            "_model_module_version": "1.2.0",
            "_model_name": "LayoutModel",
            "_view_count": null,
            "_view_module": "@jupyter-widgets/base",
            "_view_module_version": "1.2.0",
            "_view_name": "LayoutView",
            "align_content": null,
            "align_items": null,
            "align_self": null,
            "border": null,
            "bottom": null,
            "display": null,
            "flex": null,
            "flex_flow": null,
            "grid_area": null,
            "grid_auto_columns": null,
            "grid_auto_flow": null,
            "grid_auto_rows": null,
            "grid_column": null,
            "grid_gap": null,
            "grid_row": null,
            "grid_template_areas": null,
            "grid_template_columns": null,
            "grid_template_rows": null,
            "height": null,
            "justify_content": null,
            "justify_items": null,
            "left": null,
            "margin": null,
            "max_height": null,
            "max_width": null,
            "min_height": null,
            "min_width": null,
            "object_fit": null,
            "object_position": null,
            "order": null,
            "overflow": null,
            "overflow_x": null,
            "overflow_y": null,
            "padding": null,
            "right": null,
            "top": null,
            "visibility": null,
            "width": null
          }
        },
        "ac117384f28d4112846a6e2fc5afdbc6": {
          "model_module": "@jupyter-widgets/controls",
          "model_name": "ProgressStyleModel",
          "model_module_version": "1.5.0",
          "state": {
            "_model_module": "@jupyter-widgets/controls",
            "_model_module_version": "1.5.0",
            "_model_name": "ProgressStyleModel",
            "_view_count": null,
            "_view_module": "@jupyter-widgets/base",
            "_view_module_version": "1.2.0",
            "_view_name": "StyleView",
            "bar_color": null,
            "description_width": ""
          }
        },
        "3fbd1abde0684c159248beb9bfb26c87": {
          "model_module": "@jupyter-widgets/base",
          "model_name": "LayoutModel",
          "model_module_version": "1.2.0",
          "state": {
            "_model_module": "@jupyter-widgets/base",
            "_model_module_version": "1.2.0",
            "_model_name": "LayoutModel",
            "_view_count": null,
            "_view_module": "@jupyter-widgets/base",
            "_view_module_version": "1.2.0",
            "_view_name": "LayoutView",
            "align_content": null,
            "align_items": null,
            "align_self": null,
            "border": null,
            "bottom": null,
            "display": null,
            "flex": null,
            "flex_flow": null,
            "grid_area": null,
            "grid_auto_columns": null,
            "grid_auto_flow": null,
            "grid_auto_rows": null,
            "grid_column": null,
            "grid_gap": null,
            "grid_row": null,
            "grid_template_areas": null,
            "grid_template_columns": null,
            "grid_template_rows": null,
            "height": null,
            "justify_content": null,
            "justify_items": null,
            "left": null,
            "margin": null,
            "max_height": null,
            "max_width": null,
            "min_height": null,
            "min_width": null,
            "object_fit": null,
            "object_position": null,
            "order": null,
            "overflow": null,
            "overflow_x": null,
            "overflow_y": null,
            "padding": null,
            "right": null,
            "top": null,
            "visibility": null,
            "width": null
          }
        },
        "af1c2ee5141748cb97745bf45d061bba": {
          "model_module": "@jupyter-widgets/controls",
          "model_name": "DescriptionStyleModel",
          "model_module_version": "1.5.0",
          "state": {
            "_model_module": "@jupyter-widgets/controls",
            "_model_module_version": "1.5.0",
            "_model_name": "DescriptionStyleModel",
            "_view_count": null,
            "_view_module": "@jupyter-widgets/base",
            "_view_module_version": "1.2.0",
            "_view_name": "StyleView",
            "description_width": ""
          }
        },
        "c6b27a4eb86c473389793f51a67d7449": {
          "model_module": "@jupyter-widgets/controls",
          "model_name": "HBoxModel",
          "model_module_version": "1.5.0",
          "state": {
            "_dom_classes": [],
            "_model_module": "@jupyter-widgets/controls",
            "_model_module_version": "1.5.0",
            "_model_name": "HBoxModel",
            "_view_count": null,
            "_view_module": "@jupyter-widgets/controls",
            "_view_module_version": "1.5.0",
            "_view_name": "HBoxView",
            "box_style": "",
            "children": [
              "IPY_MODEL_f42b59e214b345f1aa1c73387bbcac8b",
              "IPY_MODEL_9f526c2460c34ffb90cb066389df3c6b",
              "IPY_MODEL_18a2e0407bd94b84931fb48496da0a55"
            ],
            "layout": "IPY_MODEL_d601f7a520174dd6a130f02dbe9060ee"
          }
        },
        "f42b59e214b345f1aa1c73387bbcac8b": {
          "model_module": "@jupyter-widgets/controls",
          "model_name": "HTMLModel",
          "model_module_version": "1.5.0",
          "state": {
            "_dom_classes": [],
            "_model_module": "@jupyter-widgets/controls",
            "_model_module_version": "1.5.0",
            "_model_name": "HTMLModel",
            "_view_count": null,
            "_view_module": "@jupyter-widgets/controls",
            "_view_module_version": "1.5.0",
            "_view_name": "HTMLView",
            "description": "",
            "description_tooltip": null,
            "layout": "IPY_MODEL_81f3844861b34d59adbd376d7abb6270",
            "placeholder": "​",
            "style": "IPY_MODEL_3b5c4b219b6147ff96db21da2fca7c87",
            "value": "2o Laço: 100%"
          }
        },
        "9f526c2460c34ffb90cb066389df3c6b": {
          "model_module": "@jupyter-widgets/controls",
          "model_name": "FloatProgressModel",
          "model_module_version": "1.5.0",
          "state": {
            "_dom_classes": [],
            "_model_module": "@jupyter-widgets/controls",
            "_model_module_version": "1.5.0",
            "_model_name": "FloatProgressModel",
            "_view_count": null,
            "_view_module": "@jupyter-widgets/controls",
            "_view_module_version": "1.5.0",
            "_view_name": "ProgressView",
            "bar_style": "",
            "description": "",
            "description_tooltip": null,
            "layout": "IPY_MODEL_38f55a025bdb4cd8895747dbe18e14fb",
            "max": 100,
            "min": 0,
            "orientation": "horizontal",
            "style": "IPY_MODEL_f1159f4b779b4d3daf9f02173ccd494e",
            "value": 100
          }
        },
        "18a2e0407bd94b84931fb48496da0a55": {
          "model_module": "@jupyter-widgets/controls",
          "model_name": "HTMLModel",
          "model_module_version": "1.5.0",
          "state": {
            "_dom_classes": [],
            "_model_module": "@jupyter-widgets/controls",
            "_model_module_version": "1.5.0",
            "_model_name": "HTMLModel",
            "_view_count": null,
            "_view_module": "@jupyter-widgets/controls",
            "_view_module_version": "1.5.0",
            "_view_name": "HTMLView",
            "description": "",
            "description_tooltip": null,
            "layout": "IPY_MODEL_ba011c81eb8c4d17a55bd9948ce0cccf",
            "placeholder": "​",
            "style": "IPY_MODEL_7edee4db3b6a4838814fd5a2411d0e0a",
            "value": " 100/100 [00:02&lt;00:00, 49.09it/s]"
          }
        },
        "d601f7a520174dd6a130f02dbe9060ee": {
          "model_module": "@jupyter-widgets/base",
          "model_name": "LayoutModel",
          "model_module_version": "1.2.0",
          "state": {
            "_model_module": "@jupyter-widgets/base",
            "_model_module_version": "1.2.0",
            "_model_name": "LayoutModel",
            "_view_count": null,
            "_view_module": "@jupyter-widgets/base",
            "_view_module_version": "1.2.0",
            "_view_name": "LayoutView",
            "align_content": null,
            "align_items": null,
            "align_self": null,
            "border": null,
            "bottom": null,
            "display": null,
            "flex": null,
            "flex_flow": null,
            "grid_area": null,
            "grid_auto_columns": null,
            "grid_auto_flow": null,
            "grid_auto_rows": null,
            "grid_column": null,
            "grid_gap": null,
            "grid_row": null,
            "grid_template_areas": null,
            "grid_template_columns": null,
            "grid_template_rows": null,
            "height": null,
            "justify_content": null,
            "justify_items": null,
            "left": null,
            "margin": null,
            "max_height": null,
            "max_width": null,
            "min_height": null,
            "min_width": null,
            "object_fit": null,
            "object_position": null,
            "order": null,
            "overflow": null,
            "overflow_x": null,
            "overflow_y": null,
            "padding": null,
            "right": null,
            "top": null,
            "visibility": "hidden",
            "width": null
          }
        },
        "81f3844861b34d59adbd376d7abb6270": {
          "model_module": "@jupyter-widgets/base",
          "model_name": "LayoutModel",
          "model_module_version": "1.2.0",
          "state": {
            "_model_module": "@jupyter-widgets/base",
            "_model_module_version": "1.2.0",
            "_model_name": "LayoutModel",
            "_view_count": null,
            "_view_module": "@jupyter-widgets/base",
            "_view_module_version": "1.2.0",
            "_view_name": "LayoutView",
            "align_content": null,
            "align_items": null,
            "align_self": null,
            "border": null,
            "bottom": null,
            "display": null,
            "flex": null,
            "flex_flow": null,
            "grid_area": null,
            "grid_auto_columns": null,
            "grid_auto_flow": null,
            "grid_auto_rows": null,
            "grid_column": null,
            "grid_gap": null,
            "grid_row": null,
            "grid_template_areas": null,
            "grid_template_columns": null,
            "grid_template_rows": null,
            "height": null,
            "justify_content": null,
            "justify_items": null,
            "left": null,
            "margin": null,
            "max_height": null,
            "max_width": null,
            "min_height": null,
            "min_width": null,
            "object_fit": null,
            "object_position": null,
            "order": null,
            "overflow": null,
            "overflow_x": null,
            "overflow_y": null,
            "padding": null,
            "right": null,
            "top": null,
            "visibility": null,
            "width": null
          }
        },
        "3b5c4b219b6147ff96db21da2fca7c87": {
          "model_module": "@jupyter-widgets/controls",
          "model_name": "DescriptionStyleModel",
          "model_module_version": "1.5.0",
          "state": {
            "_model_module": "@jupyter-widgets/controls",
            "_model_module_version": "1.5.0",
            "_model_name": "DescriptionStyleModel",
            "_view_count": null,
            "_view_module": "@jupyter-widgets/base",
            "_view_module_version": "1.2.0",
            "_view_name": "StyleView",
            "description_width": ""
          }
        },
        "38f55a025bdb4cd8895747dbe18e14fb": {
          "model_module": "@jupyter-widgets/base",
          "model_name": "LayoutModel",
          "model_module_version": "1.2.0",
          "state": {
            "_model_module": "@jupyter-widgets/base",
            "_model_module_version": "1.2.0",
            "_model_name": "LayoutModel",
            "_view_count": null,
            "_view_module": "@jupyter-widgets/base",
            "_view_module_version": "1.2.0",
            "_view_name": "LayoutView",
            "align_content": null,
            "align_items": null,
            "align_self": null,
            "border": null,
            "bottom": null,
            "display": null,
            "flex": null,
            "flex_flow": null,
            "grid_area": null,
            "grid_auto_columns": null,
            "grid_auto_flow": null,
            "grid_auto_rows": null,
            "grid_column": null,
            "grid_gap": null,
            "grid_row": null,
            "grid_template_areas": null,
            "grid_template_columns": null,
            "grid_template_rows": null,
            "height": null,
            "justify_content": null,
            "justify_items": null,
            "left": null,
            "margin": null,
            "max_height": null,
            "max_width": null,
            "min_height": null,
            "min_width": null,
            "object_fit": null,
            "object_position": null,
            "order": null,
            "overflow": null,
            "overflow_x": null,
            "overflow_y": null,
            "padding": null,
            "right": null,
            "top": null,
            "visibility": null,
            "width": null
          }
        },
        "f1159f4b779b4d3daf9f02173ccd494e": {
          "model_module": "@jupyter-widgets/controls",
          "model_name": "ProgressStyleModel",
          "model_module_version": "1.5.0",
          "state": {
            "_model_module": "@jupyter-widgets/controls",
            "_model_module_version": "1.5.0",
            "_model_name": "ProgressStyleModel",
            "_view_count": null,
            "_view_module": "@jupyter-widgets/base",
            "_view_module_version": "1.2.0",
            "_view_name": "StyleView",
            "bar_color": null,
            "description_width": ""
          }
        },
        "ba011c81eb8c4d17a55bd9948ce0cccf": {
          "model_module": "@jupyter-widgets/base",
          "model_name": "LayoutModel",
          "model_module_version": "1.2.0",
          "state": {
            "_model_module": "@jupyter-widgets/base",
            "_model_module_version": "1.2.0",
            "_model_name": "LayoutModel",
            "_view_count": null,
            "_view_module": "@jupyter-widgets/base",
            "_view_module_version": "1.2.0",
            "_view_name": "LayoutView",
            "align_content": null,
            "align_items": null,
            "align_self": null,
            "border": null,
            "bottom": null,
            "display": null,
            "flex": null,
            "flex_flow": null,
            "grid_area": null,
            "grid_auto_columns": null,
            "grid_auto_flow": null,
            "grid_auto_rows": null,
            "grid_column": null,
            "grid_gap": null,
            "grid_row": null,
            "grid_template_areas": null,
            "grid_template_columns": null,
            "grid_template_rows": null,
            "height": null,
            "justify_content": null,
            "justify_items": null,
            "left": null,
            "margin": null,
            "max_height": null,
            "max_width": null,
            "min_height": null,
            "min_width": null,
            "object_fit": null,
            "object_position": null,
            "order": null,
            "overflow": null,
            "overflow_x": null,
            "overflow_y": null,
            "padding": null,
            "right": null,
            "top": null,
            "visibility": null,
            "width": null
          }
        },
        "7edee4db3b6a4838814fd5a2411d0e0a": {
          "model_module": "@jupyter-widgets/controls",
          "model_name": "DescriptionStyleModel",
          "model_module_version": "1.5.0",
          "state": {
            "_model_module": "@jupyter-widgets/controls",
            "_model_module_version": "1.5.0",
            "_model_name": "DescriptionStyleModel",
            "_view_count": null,
            "_view_module": "@jupyter-widgets/base",
            "_view_module_version": "1.2.0",
            "_view_name": "StyleView",
            "description_width": ""
          }
        },
        "0bf7a26deeeb47c6afe1fbb7d0453958": {
          "model_module": "@jupyter-widgets/controls",
          "model_name": "HBoxModel",
          "model_module_version": "1.5.0",
          "state": {
            "_dom_classes": [],
            "_model_module": "@jupyter-widgets/controls",
            "_model_module_version": "1.5.0",
            "_model_name": "HBoxModel",
            "_view_count": null,
            "_view_module": "@jupyter-widgets/controls",
            "_view_module_version": "1.5.0",
            "_view_name": "HBoxView",
            "box_style": "",
            "children": [
              "IPY_MODEL_17574dd8c2ca45f0ac69ba9ddb911d48",
              "IPY_MODEL_21f8d34aec0544f187094e9ee0b331ac",
              "IPY_MODEL_0491638d1ce842b7b1d78b47c901807f"
            ],
            "layout": "IPY_MODEL_ef886fcd746948188023748a201d25d8"
          }
        },
        "17574dd8c2ca45f0ac69ba9ddb911d48": {
          "model_module": "@jupyter-widgets/controls",
          "model_name": "HTMLModel",
          "model_module_version": "1.5.0",
          "state": {
            "_dom_classes": [],
            "_model_module": "@jupyter-widgets/controls",
            "_model_module_version": "1.5.0",
            "_model_name": "HTMLModel",
            "_view_count": null,
            "_view_module": "@jupyter-widgets/controls",
            "_view_module_version": "1.5.0",
            "_view_name": "HTMLView",
            "description": "",
            "description_tooltip": null,
            "layout": "IPY_MODEL_a82b43dd162244ec8b8277ac7eb1fa5d",
            "placeholder": "​",
            "style": "IPY_MODEL_fc699b1720fb4ce3b0c3c6ae8846da70",
            "value": "2o Laço: 100%"
          }
        },
        "21f8d34aec0544f187094e9ee0b331ac": {
          "model_module": "@jupyter-widgets/controls",
          "model_name": "FloatProgressModel",
          "model_module_version": "1.5.0",
          "state": {
            "_dom_classes": [],
            "_model_module": "@jupyter-widgets/controls",
            "_model_module_version": "1.5.0",
            "_model_name": "FloatProgressModel",
            "_view_count": null,
            "_view_module": "@jupyter-widgets/controls",
            "_view_module_version": "1.5.0",
            "_view_name": "ProgressView",
            "bar_style": "",
            "description": "",
            "description_tooltip": null,
            "layout": "IPY_MODEL_8bcb35f0378d449188b7771863f35c97",
            "max": 100,
            "min": 0,
            "orientation": "horizontal",
            "style": "IPY_MODEL_4823f84822da45cb8121cadea22990bc",
            "value": 100
          }
        },
        "0491638d1ce842b7b1d78b47c901807f": {
          "model_module": "@jupyter-widgets/controls",
          "model_name": "HTMLModel",
          "model_module_version": "1.5.0",
          "state": {
            "_dom_classes": [],
            "_model_module": "@jupyter-widgets/controls",
            "_model_module_version": "1.5.0",
            "_model_name": "HTMLModel",
            "_view_count": null,
            "_view_module": "@jupyter-widgets/controls",
            "_view_module_version": "1.5.0",
            "_view_name": "HTMLView",
            "description": "",
            "description_tooltip": null,
            "layout": "IPY_MODEL_5d584b6d677f4768bd3068f459b43cbd",
            "placeholder": "​",
            "style": "IPY_MODEL_d452ec7d9a6341e1b02a83c3a8d7ab58",
            "value": " 100/100 [00:02&lt;00:00, 49.12it/s]"
          }
        },
        "ef886fcd746948188023748a201d25d8": {
          "model_module": "@jupyter-widgets/base",
          "model_name": "LayoutModel",
          "model_module_version": "1.2.0",
          "state": {
            "_model_module": "@jupyter-widgets/base",
            "_model_module_version": "1.2.0",
            "_model_name": "LayoutModel",
            "_view_count": null,
            "_view_module": "@jupyter-widgets/base",
            "_view_module_version": "1.2.0",
            "_view_name": "LayoutView",
            "align_content": null,
            "align_items": null,
            "align_self": null,
            "border": null,
            "bottom": null,
            "display": null,
            "flex": null,
            "flex_flow": null,
            "grid_area": null,
            "grid_auto_columns": null,
            "grid_auto_flow": null,
            "grid_auto_rows": null,
            "grid_column": null,
            "grid_gap": null,
            "grid_row": null,
            "grid_template_areas": null,
            "grid_template_columns": null,
            "grid_template_rows": null,
            "height": null,
            "justify_content": null,
            "justify_items": null,
            "left": null,
            "margin": null,
            "max_height": null,
            "max_width": null,
            "min_height": null,
            "min_width": null,
            "object_fit": null,
            "object_position": null,
            "order": null,
            "overflow": null,
            "overflow_x": null,
            "overflow_y": null,
            "padding": null,
            "right": null,
            "top": null,
            "visibility": "hidden",
            "width": null
          }
        },
        "a82b43dd162244ec8b8277ac7eb1fa5d": {
          "model_module": "@jupyter-widgets/base",
          "model_name": "LayoutModel",
          "model_module_version": "1.2.0",
          "state": {
            "_model_module": "@jupyter-widgets/base",
            "_model_module_version": "1.2.0",
            "_model_name": "LayoutModel",
            "_view_count": null,
            "_view_module": "@jupyter-widgets/base",
            "_view_module_version": "1.2.0",
            "_view_name": "LayoutView",
            "align_content": null,
            "align_items": null,
            "align_self": null,
            "border": null,
            "bottom": null,
            "display": null,
            "flex": null,
            "flex_flow": null,
            "grid_area": null,
            "grid_auto_columns": null,
            "grid_auto_flow": null,
            "grid_auto_rows": null,
            "grid_column": null,
            "grid_gap": null,
            "grid_row": null,
            "grid_template_areas": null,
            "grid_template_columns": null,
            "grid_template_rows": null,
            "height": null,
            "justify_content": null,
            "justify_items": null,
            "left": null,
            "margin": null,
            "max_height": null,
            "max_width": null,
            "min_height": null,
            "min_width": null,
            "object_fit": null,
            "object_position": null,
            "order": null,
            "overflow": null,
            "overflow_x": null,
            "overflow_y": null,
            "padding": null,
            "right": null,
            "top": null,
            "visibility": null,
            "width": null
          }
        },
        "fc699b1720fb4ce3b0c3c6ae8846da70": {
          "model_module": "@jupyter-widgets/controls",
          "model_name": "DescriptionStyleModel",
          "model_module_version": "1.5.0",
          "state": {
            "_model_module": "@jupyter-widgets/controls",
            "_model_module_version": "1.5.0",
            "_model_name": "DescriptionStyleModel",
            "_view_count": null,
            "_view_module": "@jupyter-widgets/base",
            "_view_module_version": "1.2.0",
            "_view_name": "StyleView",
            "description_width": ""
          }
        },
        "8bcb35f0378d449188b7771863f35c97": {
          "model_module": "@jupyter-widgets/base",
          "model_name": "LayoutModel",
          "model_module_version": "1.2.0",
          "state": {
            "_model_module": "@jupyter-widgets/base",
            "_model_module_version": "1.2.0",
            "_model_name": "LayoutModel",
            "_view_count": null,
            "_view_module": "@jupyter-widgets/base",
            "_view_module_version": "1.2.0",
            "_view_name": "LayoutView",
            "align_content": null,
            "align_items": null,
            "align_self": null,
            "border": null,
            "bottom": null,
            "display": null,
            "flex": null,
            "flex_flow": null,
            "grid_area": null,
            "grid_auto_columns": null,
            "grid_auto_flow": null,
            "grid_auto_rows": null,
            "grid_column": null,
            "grid_gap": null,
            "grid_row": null,
            "grid_template_areas": null,
            "grid_template_columns": null,
            "grid_template_rows": null,
            "height": null,
            "justify_content": null,
            "justify_items": null,
            "left": null,
            "margin": null,
            "max_height": null,
            "max_width": null,
            "min_height": null,
            "min_width": null,
            "object_fit": null,
            "object_position": null,
            "order": null,
            "overflow": null,
            "overflow_x": null,
            "overflow_y": null,
            "padding": null,
            "right": null,
            "top": null,
            "visibility": null,
            "width": null
          }
        },
        "4823f84822da45cb8121cadea22990bc": {
          "model_module": "@jupyter-widgets/controls",
          "model_name": "ProgressStyleModel",
          "model_module_version": "1.5.0",
          "state": {
            "_model_module": "@jupyter-widgets/controls",
            "_model_module_version": "1.5.0",
            "_model_name": "ProgressStyleModel",
            "_view_count": null,
            "_view_module": "@jupyter-widgets/base",
            "_view_module_version": "1.2.0",
            "_view_name": "StyleView",
            "bar_color": null,
            "description_width": ""
          }
        },
        "5d584b6d677f4768bd3068f459b43cbd": {
          "model_module": "@jupyter-widgets/base",
          "model_name": "LayoutModel",
          "model_module_version": "1.2.0",
          "state": {
            "_model_module": "@jupyter-widgets/base",
            "_model_module_version": "1.2.0",
            "_model_name": "LayoutModel",
            "_view_count": null,
            "_view_module": "@jupyter-widgets/base",
            "_view_module_version": "1.2.0",
            "_view_name": "LayoutView",
            "align_content": null,
            "align_items": null,
            "align_self": null,
            "border": null,
            "bottom": null,
            "display": null,
            "flex": null,
            "flex_flow": null,
            "grid_area": null,
            "grid_auto_columns": null,
            "grid_auto_flow": null,
            "grid_auto_rows": null,
            "grid_column": null,
            "grid_gap": null,
            "grid_row": null,
            "grid_template_areas": null,
            "grid_template_columns": null,
            "grid_template_rows": null,
            "height": null,
            "justify_content": null,
            "justify_items": null,
            "left": null,
            "margin": null,
            "max_height": null,
            "max_width": null,
            "min_height": null,
            "min_width": null,
            "object_fit": null,
            "object_position": null,
            "order": null,
            "overflow": null,
            "overflow_x": null,
            "overflow_y": null,
            "padding": null,
            "right": null,
            "top": null,
            "visibility": null,
            "width": null
          }
        },
        "d452ec7d9a6341e1b02a83c3a8d7ab58": {
          "model_module": "@jupyter-widgets/controls",
          "model_name": "DescriptionStyleModel",
          "model_module_version": "1.5.0",
          "state": {
            "_model_module": "@jupyter-widgets/controls",
            "_model_module_version": "1.5.0",
            "_model_name": "DescriptionStyleModel",
            "_view_count": null,
            "_view_module": "@jupyter-widgets/base",
            "_view_module_version": "1.2.0",
            "_view_name": "StyleView",
            "description_width": ""
          }
        },
        "066df8290b5e478992a6f10933e84628": {
          "model_module": "@jupyter-widgets/controls",
          "model_name": "HBoxModel",
          "model_module_version": "1.5.0",
          "state": {
            "_dom_classes": [],
            "_model_module": "@jupyter-widgets/controls",
            "_model_module_version": "1.5.0",
            "_model_name": "HBoxModel",
            "_view_count": null,
            "_view_module": "@jupyter-widgets/controls",
            "_view_module_version": "1.5.0",
            "_view_name": "HBoxView",
            "box_style": "",
            "children": [
              "IPY_MODEL_96792868fa354f50a56d6609959965e2",
              "IPY_MODEL_754beebd8dd34eb28f2ee2d8f36d5a0c",
              "IPY_MODEL_9d748c50c0e64d0d89ac2af5e913b93b"
            ],
            "layout": "IPY_MODEL_55d6e456fa52443a84b6af8afcf1fbeb"
          }
        },
        "96792868fa354f50a56d6609959965e2": {
          "model_module": "@jupyter-widgets/controls",
          "model_name": "HTMLModel",
          "model_module_version": "1.5.0",
          "state": {
            "_dom_classes": [],
            "_model_module": "@jupyter-widgets/controls",
            "_model_module_version": "1.5.0",
            "_model_name": "HTMLModel",
            "_view_count": null,
            "_view_module": "@jupyter-widgets/controls",
            "_view_module_version": "1.5.0",
            "_view_name": "HTMLView",
            "description": "",
            "description_tooltip": null,
            "layout": "IPY_MODEL_e63c1c00b2af4e9f967172a24f4ddd73",
            "placeholder": "​",
            "style": "IPY_MODEL_ad34d2585d9b40c7a233a8f7124abcc5",
            "value": "Clientes: 100%"
          }
        },
        "754beebd8dd34eb28f2ee2d8f36d5a0c": {
          "model_module": "@jupyter-widgets/controls",
          "model_name": "FloatProgressModel",
          "model_module_version": "1.5.0",
          "state": {
            "_dom_classes": [],
            "_model_module": "@jupyter-widgets/controls",
            "_model_module_version": "1.5.0",
            "_model_name": "FloatProgressModel",
            "_view_count": null,
            "_view_module": "@jupyter-widgets/controls",
            "_view_module_version": "1.5.0",
            "_view_name": "ProgressView",
            "bar_style": "success",
            "description": "",
            "description_tooltip": null,
            "layout": "IPY_MODEL_5ebbe92be04f46bfba612b07cdbca96b",
            "max": 5,
            "min": 0,
            "orientation": "horizontal",
            "style": "IPY_MODEL_0424af0599114d719db21c89cb0e5051",
            "value": 5
          }
        },
        "9d748c50c0e64d0d89ac2af5e913b93b": {
          "model_module": "@jupyter-widgets/controls",
          "model_name": "HTMLModel",
          "model_module_version": "1.5.0",
          "state": {
            "_dom_classes": [],
            "_model_module": "@jupyter-widgets/controls",
            "_model_module_version": "1.5.0",
            "_model_name": "HTMLModel",
            "_view_count": null,
            "_view_module": "@jupyter-widgets/controls",
            "_view_module_version": "1.5.0",
            "_view_name": "HTMLView",
            "description": "",
            "description_tooltip": null,
            "layout": "IPY_MODEL_7f7a1939308f499f982a784086a5d1b7",
            "placeholder": "​",
            "style": "IPY_MODEL_b6d893c27cc34943a27db6c4d1afa00c",
            "value": " 5/5 [00:05&lt;00:00,  1.01s/cliente]"
          }
        },
        "55d6e456fa52443a84b6af8afcf1fbeb": {
          "model_module": "@jupyter-widgets/base",
          "model_name": "LayoutModel",
          "model_module_version": "1.2.0",
          "state": {
            "_model_module": "@jupyter-widgets/base",
            "_model_module_version": "1.2.0",
            "_model_name": "LayoutModel",
            "_view_count": null,
            "_view_module": "@jupyter-widgets/base",
            "_view_module_version": "1.2.0",
            "_view_name": "LayoutView",
            "align_content": null,
            "align_items": null,
            "align_self": null,
            "border": null,
            "bottom": null,
            "display": null,
            "flex": null,
            "flex_flow": null,
            "grid_area": null,
            "grid_auto_columns": null,
            "grid_auto_flow": null,
            "grid_auto_rows": null,
            "grid_column": null,
            "grid_gap": null,
            "grid_row": null,
            "grid_template_areas": null,
            "grid_template_columns": null,
            "grid_template_rows": null,
            "height": null,
            "justify_content": null,
            "justify_items": null,
            "left": null,
            "margin": null,
            "max_height": null,
            "max_width": null,
            "min_height": null,
            "min_width": null,
            "object_fit": null,
            "object_position": null,
            "order": null,
            "overflow": null,
            "overflow_x": null,
            "overflow_y": null,
            "padding": null,
            "right": null,
            "top": null,
            "visibility": null,
            "width": null
          }
        },
        "e63c1c00b2af4e9f967172a24f4ddd73": {
          "model_module": "@jupyter-widgets/base",
          "model_name": "LayoutModel",
          "model_module_version": "1.2.0",
          "state": {
            "_model_module": "@jupyter-widgets/base",
            "_model_module_version": "1.2.0",
            "_model_name": "LayoutModel",
            "_view_count": null,
            "_view_module": "@jupyter-widgets/base",
            "_view_module_version": "1.2.0",
            "_view_name": "LayoutView",
            "align_content": null,
            "align_items": null,
            "align_self": null,
            "border": null,
            "bottom": null,
            "display": null,
            "flex": null,
            "flex_flow": null,
            "grid_area": null,
            "grid_auto_columns": null,
            "grid_auto_flow": null,
            "grid_auto_rows": null,
            "grid_column": null,
            "grid_gap": null,
            "grid_row": null,
            "grid_template_areas": null,
            "grid_template_columns": null,
            "grid_template_rows": null,
            "height": null,
            "justify_content": null,
            "justify_items": null,
            "left": null,
            "margin": null,
            "max_height": null,
            "max_width": null,
            "min_height": null,
            "min_width": null,
            "object_fit": null,
            "object_position": null,
            "order": null,
            "overflow": null,
            "overflow_x": null,
            "overflow_y": null,
            "padding": null,
            "right": null,
            "top": null,
            "visibility": null,
            "width": null
          }
        },
        "ad34d2585d9b40c7a233a8f7124abcc5": {
          "model_module": "@jupyter-widgets/controls",
          "model_name": "DescriptionStyleModel",
          "model_module_version": "1.5.0",
          "state": {
            "_model_module": "@jupyter-widgets/controls",
            "_model_module_version": "1.5.0",
            "_model_name": "DescriptionStyleModel",
            "_view_count": null,
            "_view_module": "@jupyter-widgets/base",
            "_view_module_version": "1.2.0",
            "_view_name": "StyleView",
            "description_width": ""
          }
        },
        "5ebbe92be04f46bfba612b07cdbca96b": {
          "model_module": "@jupyter-widgets/base",
          "model_name": "LayoutModel",
          "model_module_version": "1.2.0",
          "state": {
            "_model_module": "@jupyter-widgets/base",
            "_model_module_version": "1.2.0",
            "_model_name": "LayoutModel",
            "_view_count": null,
            "_view_module": "@jupyter-widgets/base",
            "_view_module_version": "1.2.0",
            "_view_name": "LayoutView",
            "align_content": null,
            "align_items": null,
            "align_self": null,
            "border": null,
            "bottom": null,
            "display": null,
            "flex": null,
            "flex_flow": null,
            "grid_area": null,
            "grid_auto_columns": null,
            "grid_auto_flow": null,
            "grid_auto_rows": null,
            "grid_column": null,
            "grid_gap": null,
            "grid_row": null,
            "grid_template_areas": null,
            "grid_template_columns": null,
            "grid_template_rows": null,
            "height": null,
            "justify_content": null,
            "justify_items": null,
            "left": null,
            "margin": null,
            "max_height": null,
            "max_width": null,
            "min_height": null,
            "min_width": null,
            "object_fit": null,
            "object_position": null,
            "order": null,
            "overflow": null,
            "overflow_x": null,
            "overflow_y": null,
            "padding": null,
            "right": null,
            "top": null,
            "visibility": null,
            "width": null
          }
        },
        "0424af0599114d719db21c89cb0e5051": {
          "model_module": "@jupyter-widgets/controls",
          "model_name": "ProgressStyleModel",
          "model_module_version": "1.5.0",
          "state": {
            "_model_module": "@jupyter-widgets/controls",
            "_model_module_version": "1.5.0",
            "_model_name": "ProgressStyleModel",
            "_view_count": null,
            "_view_module": "@jupyter-widgets/base",
            "_view_module_version": "1.2.0",
            "_view_name": "StyleView",
            "bar_color": null,
            "description_width": ""
          }
        },
        "7f7a1939308f499f982a784086a5d1b7": {
          "model_module": "@jupyter-widgets/base",
          "model_name": "LayoutModel",
          "model_module_version": "1.2.0",
          "state": {
            "_model_module": "@jupyter-widgets/base",
            "_model_module_version": "1.2.0",
            "_model_name": "LayoutModel",
            "_view_count": null,
            "_view_module": "@jupyter-widgets/base",
            "_view_module_version": "1.2.0",
            "_view_name": "LayoutView",
            "align_content": null,
            "align_items": null,
            "align_self": null,
            "border": null,
            "bottom": null,
            "display": null,
            "flex": null,
            "flex_flow": null,
            "grid_area": null,
            "grid_auto_columns": null,
            "grid_auto_flow": null,
            "grid_auto_rows": null,
            "grid_column": null,
            "grid_gap": null,
            "grid_row": null,
            "grid_template_areas": null,
            "grid_template_columns": null,
            "grid_template_rows": null,
            "height": null,
            "justify_content": null,
            "justify_items": null,
            "left": null,
            "margin": null,
            "max_height": null,
            "max_width": null,
            "min_height": null,
            "min_width": null,
            "object_fit": null,
            "object_position": null,
            "order": null,
            "overflow": null,
            "overflow_x": null,
            "overflow_y": null,
            "padding": null,
            "right": null,
            "top": null,
            "visibility": null,
            "width": null
          }
        },
        "b6d893c27cc34943a27db6c4d1afa00c": {
          "model_module": "@jupyter-widgets/controls",
          "model_name": "DescriptionStyleModel",
          "model_module_version": "1.5.0",
          "state": {
            "_model_module": "@jupyter-widgets/controls",
            "_model_module_version": "1.5.0",
            "_model_name": "DescriptionStyleModel",
            "_view_count": null,
            "_view_module": "@jupyter-widgets/base",
            "_view_module_version": "1.2.0",
            "_view_name": "StyleView",
            "description_width": ""
          }
        }
      }
    }
  },
  "cells": [
    {
      "cell_type": "markdown",
      "metadata": {
        "id": "view-in-github",
        "colab_type": "text"
      },
      "source": [
        "<a href=\"https://colab.research.google.com/github/osmarbraz/exemplos_python/blob/master/ExemplosPython.ipynb\" target=\"_parent\"><img src=\"https://colab.research.google.com/assets/colab-badge.svg\" alt=\"Open In Colab\"/></a>"
      ]
    },
    {
      "cell_type": "markdown",
      "metadata": {
        "id": "xY84ChCNzmQQ"
      },
      "source": [
        "# Exemplos Python no Google Colaboratory"
      ]
    },
    {
      "cell_type": "markdown",
      "metadata": {
        "id": "KoMscP0Jo5rw"
      },
      "source": [
        "Exemplos básicos em python:\n",
        "- Tipos primitivos;\n",
        "- Operadores;\n",
        "- Funções Matemáticas;\n",
        "- Saída de dados\n",
        "- Estruturas condicionais;\n",
        "- Estruturas de repetição;\n",
        "- Tratamento de mensagens;\n",
        "- Comandos Bash;\n",
        "- Tradução de textos;\n",
        "- Remoção de Tags HTML;\n",
        "- Funções;\n",
        "- Mensagem e barra de progresso;\n",
        "- Funções de tempo;\n",
        "- Roleta;\n",
        "- Versão Python;\n",
        "- Previnir desconexão sessão;\n",
        "-----------------------------------------\n",
        "**Guia Colab Iniciante:**\n",
        "\n",
        "https://medium.com/machina-sapiens/google-colab-guia-do-iniciante-334d70aad531\n",
        "\n",
        "**Documentação oficial:**\n",
        "\n",
        "https://colab.research.google.com/github/jakevdp/PythonDataScienceHandbook/blob/master/notebooks/01.01-Help-And-Documentation.ipynb\n",
        "\n",
        "**Características :**\n",
        "\n",
        "https://colab.research.google.com/notebooks/basic_features_overview.ipynb\n"
      ]
    },
    {
      "cell_type": "markdown",
      "source": [
        "# Ambiente\n",
        "\n",
        "Células do tipo `Código` (*Code*) executam código e células do tipo `texto` (*Markdown*) permitem escrever texto;\n",
        "\n",
        "Comandos:\n",
        "\n",
        "|Comando |  Descrição |\n",
        "|-|-|\n",
        "| `Enter`        | Entrar no *modo de Edição*  |\n",
        "| `Esc`          | Entrar no *modo de Comando* |\n",
        "| `Ctrl + Enter` | Executar célula selecionada                |\n",
        "\n",
        "\n",
        "\n",
        "| **No Modo de Comando**|  |\n",
        "|-|-|\n",
        "| `a`            | Adicionar célula acima    |\n",
        "| `b`            | Adicionar célula abaixo    |\n",
        "\n"
      ],
      "metadata": {
        "id": "W8FfJTdKlbfn"
      }
    },
    {
      "cell_type": "markdown",
      "metadata": {
        "id": "IAQcH7kh3cmD"
      },
      "source": [
        "# Tipos primitivos"
      ]
    },
    {
      "cell_type": "markdown",
      "metadata": {
        "id": "eK55gNwoRrBC"
      },
      "source": [
        "##Tipos de dados\n",
        "Existem 4 tipos numéricos:\n",
        "*  inteiro (int)\n",
        "*  ponto flutuante (float)\n",
        "*  literal (string)\n",
        "*  booleano (bool)\n",
        "*  complexo (complex)\n",
        "\n",
        "Com tipagem dinâmica, ou seja o tipo é definido no momento da criação da variável e inicialização.\n",
        "\n",
        "Uma vez que uma variável tenha um valor de um tipo, ela não pode ser usado como se fosse de outro tipo."
      ]
    },
    {
      "cell_type": "code",
      "metadata": {
        "colab": {
          "base_uri": "https://localhost:8080/"
        },
        "id": "v8W6YPbURtbx",
        "outputId": "6fdb5082-79b7-4772-eb7f-52f2d6856249"
      },
      "source": [
        "# Inteiros\n",
        "inteiro = 28\n",
        "print(inteiro)\n",
        "\n",
        "# type mostra o tipo de uma variável\n",
        "print(type(inteiro))\n",
        "\n",
        "# Ponto flutuante\n",
        "real = 3.1415\n",
        "print(real)\n",
        "\n",
        "#type mostra o tipo de uma variável\n",
        "print(type(real))\n",
        "\n",
        "# String\n",
        "nome = \"Pedro\"\n",
        "print(nome)\n",
        "# type mostra o tipo de uma variável\n",
        "print(type(nome))\n",
        "\n",
        "# Boolean\n",
        "chave = True\n",
        "print(chave)\n",
        "\n",
        "# type mostra o tipo de uma variável\n",
        "print(type(chave))\n",
        "\n",
        "# Complexo\n",
        "complexo = 4+3j\n",
        "print(complexo)\n",
        "\n",
        "# type mostra o tipo de uma variável\n",
        "print(type(complexo))"
      ],
      "execution_count": 1,
      "outputs": [
        {
          "output_type": "stream",
          "name": "stdout",
          "text": [
            "28\n",
            "<class 'int'>\n",
            "3.1415\n",
            "<class 'float'>\n",
            "Pedro\n",
            "<class 'str'>\n",
            "True\n",
            "<class 'bool'>\n",
            "(4+3j)\n",
            "<class 'complex'>\n"
          ]
        }
      ]
    },
    {
      "cell_type": "markdown",
      "source": [
        "## Nomes de variáveis\n",
        "\n",
        "Os nomes de variáveis devem respeitar algumas regras:\n",
        "* São sensíveis a caixa (case-sensitive)\n",
        "* Podem ter tamanho “ilimitado” (mas evite abusos)\n",
        "* Devem começar com letra ou sublinha/underline ( _ )\n",
        "* Outros caracteres podem ser letras, números ou underline\n",
        "* Não podem ter espaço nem acentos\n",
        "* Não podem ser uma palavra reservada da linguagem"
      ],
      "metadata": {
        "id": "bVRSWcN3Rsa7"
      }
    },
    {
      "cell_type": "markdown",
      "metadata": {
        "id": "FFyCLoRDNBN5"
      },
      "source": [
        "## Conversão de Tipo\n",
        "\n",
        "https://www.digitalocean.com/community/tutorials/how-to-convert-data-types-in-python-3"
      ]
    },
    {
      "cell_type": "markdown",
      "metadata": {
        "id": "nk3O9-gbUFrk"
      },
      "source": [
        "int para float"
      ]
    },
    {
      "cell_type": "code",
      "metadata": {
        "colab": {
          "base_uri": "https://localhost:8080/"
        },
        "id": "o-PkSCYkUFBz",
        "outputId": "1495762e-5c78-4936-a213-15970786c5ab"
      },
      "source": [
        "variavel_int = 10\n",
        "print(type(variavel_int))\n",
        "print(variavel_int)\n",
        "\n",
        "#conversão\n",
        "variavel_real = float(variavel_int)\n",
        "print(type(variavel_real))\n",
        "print(variavel_real)"
      ],
      "execution_count": 2,
      "outputs": [
        {
          "output_type": "stream",
          "name": "stdout",
          "text": [
            "<class 'int'>\n",
            "10\n",
            "<class 'float'>\n",
            "10.0\n"
          ]
        }
      ]
    },
    {
      "cell_type": "markdown",
      "metadata": {
        "id": "Ea3JlQiPUTn1"
      },
      "source": [
        "float para int"
      ]
    },
    {
      "cell_type": "code",
      "metadata": {
        "colab": {
          "base_uri": "https://localhost:8080/"
        },
        "id": "c0gIL7FRUTn3",
        "outputId": "ace89056-39e9-4bcb-c04f-4986dd8b244e"
      },
      "source": [
        "variavel_real = 10.0\n",
        "print(type(variavel_real))\n",
        "print(variavel_real)\n",
        "\n",
        "#conversão\n",
        "variavel_int = int(variavel_real)\n",
        "print(type(variavel_int))\n",
        "print(variavel_int)\n"
      ],
      "execution_count": 3,
      "outputs": [
        {
          "output_type": "stream",
          "name": "stdout",
          "text": [
            "<class 'float'>\n",
            "10.0\n",
            "<class 'int'>\n",
            "10\n"
          ]
        }
      ]
    },
    {
      "cell_type": "markdown",
      "metadata": {
        "id": "-0dKcWaLNTaU"
      },
      "source": [
        "int para string"
      ]
    },
    {
      "cell_type": "code",
      "metadata": {
        "colab": {
          "base_uri": "https://localhost:8080/"
        },
        "id": "FTiM5w34ND_Q",
        "outputId": "09534106-933f-4c8c-836e-638fc0b39326"
      },
      "source": [
        "variavel_int = 123\n",
        "print(type(variavel_int))\n",
        "print(variavel_int)\n",
        "\n",
        "#conversão\n",
        "variavel_str = str(variavel_int)\n",
        "print(type(variavel_str))\n",
        "print(variavel_str)"
      ],
      "execution_count": 4,
      "outputs": [
        {
          "output_type": "stream",
          "name": "stdout",
          "text": [
            "<class 'int'>\n",
            "123\n",
            "<class 'str'>\n",
            "123\n"
          ]
        }
      ]
    },
    {
      "cell_type": "markdown",
      "source": [
        "bool para int"
      ],
      "metadata": {
        "id": "IDAEFxYa7Ysv"
      }
    },
    {
      "cell_type": "code",
      "source": [
        "variavel_booleana = True\n",
        "print(type(variavel_booleana))\n",
        "print(variavel_booleana)\n",
        "\n",
        "#conversão\n",
        "variavel_int = int(variavel_booleana)\n",
        "print(type(variavel_int))\n",
        "print(variavel_int)"
      ],
      "metadata": {
        "colab": {
          "base_uri": "https://localhost:8080/"
        },
        "id": "hKhiLXNE7bsG",
        "outputId": "9ac1363d-d075-4c35-88d5-60a6926ebf4a"
      },
      "execution_count": 5,
      "outputs": [
        {
          "output_type": "stream",
          "name": "stdout",
          "text": [
            "<class 'bool'>\n",
            "True\n",
            "<class 'int'>\n",
            "1\n"
          ]
        }
      ]
    },
    {
      "cell_type": "markdown",
      "source": [
        "bool para string"
      ],
      "metadata": {
        "id": "dh525j9Z7-p-"
      }
    },
    {
      "cell_type": "code",
      "source": [
        "variavel_booleana = True\n",
        "print(type(variavel_booleana))\n",
        "print(variavel_booleana)\n",
        "\n",
        "#conversão\n",
        "variavel_str = str(variavel_booleana)\n",
        "print(type(variavel_str))\n",
        "print(variavel_str)"
      ],
      "metadata": {
        "colab": {
          "base_uri": "https://localhost:8080/"
        },
        "id": "zmvGo1TM797b",
        "outputId": "7ca7322a-0fa1-4b69-b681-08a84e2b5a43"
      },
      "execution_count": 6,
      "outputs": [
        {
          "output_type": "stream",
          "name": "stdout",
          "text": [
            "<class 'bool'>\n",
            "True\n",
            "<class 'str'>\n",
            "True\n"
          ]
        }
      ]
    },
    {
      "cell_type": "markdown",
      "metadata": {
        "id": "aOktXtrdNWNP"
      },
      "source": [
        "Concatenando int com string"
      ]
    },
    {
      "cell_type": "code",
      "metadata": {
        "colab": {
          "base_uri": "https://localhost:8080/"
        },
        "id": "e4NyCSIFNYwq",
        "outputId": "ede0093d-365b-4189-9fb0-2e82494c8209"
      },
      "source": [
        "numero = 123\n",
        "\n",
        "literal = \"O numero é \" + str(numero)\n",
        "\n",
        "print(literal)"
      ],
      "execution_count": 7,
      "outputs": [
        {
          "output_type": "stream",
          "name": "stdout",
          "text": [
            "O numero é 123\n"
          ]
        }
      ]
    },
    {
      "cell_type": "markdown",
      "metadata": {
        "id": "5TJ0WelPTCOL"
      },
      "source": [
        "## Tipo Nulo / None"
      ]
    },
    {
      "cell_type": "code",
      "metadata": {
        "colab": {
          "base_uri": "https://localhost:8080/"
        },
        "id": "bkE00XeuTDpl",
        "outputId": "bd2f12a0-8f64-49f3-bd1f-68f8a6d250d2"
      },
      "source": [
        "# Valor vazio ou dado do tipo nulo\n",
        "vazio = None\n",
        "print(vazio)\n",
        "\n",
        "# type mostra o tipo de uma variável\n",
        "print(type(vazio))"
      ],
      "execution_count": 8,
      "outputs": [
        {
          "output_type": "stream",
          "name": "stdout",
          "text": [
            "None\n",
            "<class 'NoneType'>\n"
          ]
        }
      ]
    },
    {
      "cell_type": "markdown",
      "metadata": {
        "id": "Ai4yFTXqdcuw"
      },
      "source": [
        "##String"
      ]
    },
    {
      "cell_type": "markdown",
      "metadata": {
        "id": "AnFhd5MFcSZ3"
      },
      "source": [
        "### Exemplo 1 - Existência substring\n",
        "\n",
        "Verifica se uma substring existe em string"
      ]
    },
    {
      "cell_type": "code",
      "metadata": {
        "colab": {
          "base_uri": "https://localhost:8080/"
        },
        "id": "psZTKUS5cWZG",
        "outputId": "87ae7279-a68d-42f2-9ff9-c70a875a07d5"
      },
      "source": [
        "frase = \"bom dia!\"\n",
        "\n",
        "if \"dia\" in frase:\n",
        "    print(\"dia existe em frase\")\n",
        "else:\n",
        "   print(\"dia não existe em frase\")"
      ],
      "execution_count": 9,
      "outputs": [
        {
          "output_type": "stream",
          "name": "stdout",
          "text": [
            "dia existe em frase\n"
          ]
        }
      ]
    },
    {
      "cell_type": "markdown",
      "metadata": {
        "id": "m47Uq0H0j7mZ"
      },
      "source": [
        "### Exemplo 2 - Posição substring\n",
        "\n",
        "Retorna a posição onde se encontra a substring"
      ]
    },
    {
      "cell_type": "code",
      "metadata": {
        "colab": {
          "base_uri": "https://localhost:8080/"
        },
        "id": "0Mtd1neJj90X",
        "outputId": "2cca186f-3c62-4666-e961-1c8c485929fb"
      },
      "source": [
        "frase = \"bom dia!\"\n",
        "\n",
        "x = frase.find(\"dia\")\n",
        "\n",
        "print(x)"
      ],
      "execution_count": 10,
      "outputs": [
        {
          "output_type": "stream",
          "name": "stdout",
          "text": [
            "4\n"
          ]
        }
      ]
    },
    {
      "cell_type": "markdown",
      "metadata": {
        "id": "3EK92Ex6eACY"
      },
      "source": [
        "### Exemplo 3 - Uso trim(strip, lstrip, rstrip)"
      ]
    },
    {
      "cell_type": "code",
      "metadata": {
        "colab": {
          "base_uri": "https://localhost:8080/"
        },
        "id": "DAagAUYveEMY",
        "outputId": "7f4b8e0c-f9a1-468c-f0b7-013fc9233188"
      },
      "source": [
        "frase = \"  bom dia !  \"\n",
        "\n",
        "# Saída dos dados\n",
        "print(\"frase =\" + \"\\\"\" + frase + \"\\\"\")\n",
        "print(\"Após remover espacos a esquerda = \\\"\" + frase.lstrip() + \"\\\"\")\n",
        "print(\"Após remover espaços a direita  = \\\"\" + frase.rstrip() +\"\\\"\")\n",
        "print(\"Após trim esquerda e direita    = \\\"\" + frase.strip() +\"\\\"\")"
      ],
      "execution_count": 11,
      "outputs": [
        {
          "output_type": "stream",
          "name": "stdout",
          "text": [
            "frase =\"  bom dia !  \"\n",
            "Após remover espacos a esquerda = \"bom dia !  \"\n",
            "Após remover espaços a direita  = \"  bom dia !\"\n",
            "Após trim esquerda e direita    = \"bom dia !\"\n"
          ]
        }
      ]
    },
    {
      "cell_type": "markdown",
      "metadata": {
        "id": "D6JE_nHvYEZ7"
      },
      "source": [
        "### Exemplo 4 - Testa string vazia ou nula"
      ]
    },
    {
      "cell_type": "code",
      "metadata": {
        "colab": {
          "base_uri": "https://localhost:8080/"
        },
        "id": "1Qrh3kMEYI7v",
        "outputId": "f004d089-2777-471e-b5ab-6fe5f192a194"
      },
      "source": [
        "palavra = \"\"\n",
        "\n",
        "# Forma 1\n",
        "if not palavra.strip():\n",
        "  print (\"string nula!\")\n",
        "else:\n",
        "  print (\"string não nula!\")\n",
        "\n",
        "# Forma 2\n",
        "if not palavra:\n",
        "   print (\"string nula!\")\n",
        "else:\n",
        "   print (\"string não nula!\")\n",
        "\n",
        "# Forma 3\n",
        "if len(palavra)==0:\n",
        "   print (\"string nula!\")\n",
        "else:\n",
        "   print (\"string não nula!\")\n",
        "\n",
        "# Forma 4\n",
        "if palavra == \"\":\n",
        "   print (\"string nula!\")\n",
        "else:\n",
        "   print (\"string não nula!\")"
      ],
      "execution_count": 12,
      "outputs": [
        {
          "output_type": "stream",
          "name": "stdout",
          "text": [
            "string nula!\n",
            "string nula!\n",
            "string nula!\n",
            "string nula!\n"
          ]
        }
      ]
    },
    {
      "cell_type": "markdown",
      "metadata": {
        "id": "UvTP_bMqbHRH"
      },
      "source": [
        "### Exemplo 5 - Remove caracter de String"
      ]
    },
    {
      "cell_type": "code",
      "metadata": {
        "colab": {
          "base_uri": "https://localhost:8080/"
        },
        "id": "hFMyz2SqbLNs",
        "outputId": "ee48accd-aff2-4054-dfd3-c3a72de420dd"
      },
      "source": [
        "palavra = \"  bom     dia !   \"\n",
        "\n",
        "print(\"\\\"\" + palavra.replace(\"  \", \"\") + \"\\\"\")"
      ],
      "execution_count": 13,
      "outputs": [
        {
          "output_type": "stream",
          "name": "stdout",
          "text": [
            "\"bom dia ! \"\n"
          ]
        }
      ]
    },
    {
      "cell_type": "markdown",
      "metadata": {
        "id": "ORROZhyO7WaB"
      },
      "source": [
        "### Exemplo 6 - Remove \"\\n\" de String"
      ]
    },
    {
      "cell_type": "code",
      "metadata": {
        "colab": {
          "base_uri": "https://localhost:8080/"
        },
        "id": "wLQA9tha7ZXb",
        "outputId": "39f08b88-484b-47ff-ef2d-c4cea53d6b17"
      },
      "source": [
        "palavra = \"bom\\n\"\n",
        "\n",
        "print(palavra)\n",
        "print(len(palavra))\n",
        "\n",
        "palavra = palavra.rstrip(\"\\n\")\n",
        "\n",
        "print(palavra)\n",
        "print(len(palavra))"
      ],
      "execution_count": 14,
      "outputs": [
        {
          "output_type": "stream",
          "name": "stdout",
          "text": [
            "bom\n",
            "\n",
            "4\n",
            "bom\n",
            "3\n"
          ]
        }
      ]
    },
    {
      "cell_type": "markdown",
      "metadata": {
        "id": "1QWOvA-w_liD"
      },
      "source": [
        "### Exemplo 7 - contar letra de *String*"
      ]
    },
    {
      "cell_type": "code",
      "metadata": {
        "colab": {
          "base_uri": "https://localhost:8080/"
        },
        "id": "vWo1ogQx_l76",
        "outputId": "cd6c6d19-cc2e-4833-81db-a3ab79389d5c"
      },
      "source": [
        "palavra = \"casa\"\n",
        "print(palavra)\n",
        "\n",
        "qtde = palavra.count(\"a\")\n",
        "\n",
        "# Saída dos dados\n",
        "print(qtde)"
      ],
      "execution_count": 15,
      "outputs": [
        {
          "output_type": "stream",
          "name": "stdout",
          "text": [
            "casa\n",
            "2\n"
          ]
        }
      ]
    },
    {
      "cell_type": "markdown",
      "metadata": {
        "id": "evOpb10jE9yE"
      },
      "source": [
        "### Exemplo 8 - Remove vários espaços em branco e substitui por somente um.\n",
        "\n",
        "Utiliza expressões regulares."
      ]
    },
    {
      "cell_type": "code",
      "metadata": {
        "colab": {
          "base_uri": "https://localhost:8080/"
        },
        "id": "xCbbljKzE9yK",
        "outputId": "9e821383-1649-4a77-db37-9c366fb98958"
      },
      "source": [
        "# Biblioteca para expressões regulares\n",
        "import re\n",
        "\n",
        "frase1 = \"O    dia   está     bonito.\"\n",
        "print(frase1)\n",
        "\n",
        "frase2  = re.sub(\"\\s+\", \" \", frase1)\n",
        "\n",
        "# Saída dos dados\n",
        "print(frase2)"
      ],
      "execution_count": 16,
      "outputs": [
        {
          "output_type": "stream",
          "name": "stdout",
          "text": [
            "O    dia   está     bonito.\n",
            "O dia está bonito.\n"
          ]
        }
      ]
    },
    {
      "cell_type": "markdown",
      "metadata": {
        "id": "FqgMjhMhnjdA"
      },
      "source": [
        "### Exemplo 9 - Encontra a quantidade de palavras da frase"
      ]
    },
    {
      "cell_type": "code",
      "metadata": {
        "colab": {
          "base_uri": "https://localhost:8080/"
        },
        "id": "mZDgvqfwnkI5",
        "outputId": "a75fb38c-4de7-4387-c9f5-358c1a8d44b4"
      },
      "source": [
        "# Frases de exemplo\n",
        "frase = \"O céu está azul.\"\n",
        "\n",
        "# Mostra a frase\n",
        "print(frase)\n",
        "\n",
        "# split() cria uma lista das palavras das frase\n",
        "print(frase.split())\n",
        "\n",
        "# Retorna o tamanho da lista de palavras da frase\n",
        "qtde = len(frase.split())\n",
        "\n",
        "# Mostra a quantidade\n",
        "print(\"Quantidade de palavas:\", qtde)"
      ],
      "execution_count": 17,
      "outputs": [
        {
          "output_type": "stream",
          "name": "stdout",
          "text": [
            "O céu está azul.\n",
            "['O', 'céu', 'está', 'azul.']\n",
            "Quantidade de palavas: 4\n"
          ]
        }
      ]
    },
    {
      "cell_type": "markdown",
      "metadata": {
        "id": "8DGKJ0Og7_j6"
      },
      "source": [
        "### Exemplo 19 - Encontra a quantidade de palavras da maior frase"
      ]
    },
    {
      "cell_type": "code",
      "metadata": {
        "colab": {
          "base_uri": "https://localhost:8080/"
        },
        "id": "DWE3sgG178Nt",
        "outputId": "b78bcae5-0f35-450b-db56-0a1eadcc1473"
      },
      "source": [
        "# Frases de exemplo\n",
        "frases = [\"O gato no tapete.\", \"O cachorro comeu minha tarefa.\"]\n",
        "\n",
        "# Procura a frase com o maior número de palavras\n",
        "maior_frase = len(max(frases, key=lambda k: len(k.split())).split())\n",
        "\n",
        "# Mostra a quantidade\n",
        "print(\"Tamanho maior frase:\", maior_frase)"
      ],
      "execution_count": 18,
      "outputs": [
        {
          "output_type": "stream",
          "name": "stdout",
          "text": [
            "Tamanho maior frase: 5\n"
          ]
        }
      ]
    },
    {
      "cell_type": "markdown",
      "metadata": {
        "id": "cBaB4AF1GRwH"
      },
      "source": [
        "### Exemplo 11 - Encontra o último caracter de uma frase\n",
        "\n",
        "Não considera espaço em branco."
      ]
    },
    {
      "cell_type": "code",
      "metadata": {
        "colab": {
          "base_uri": "https://localhost:8080/"
        },
        "id": "qhe0nfVxGR_P",
        "outputId": "782831f6-f853-4ccc-b5a1-553186d1a860"
      },
      "source": [
        "# Frase de exemplo\n",
        "frase = \"  Que dia bonito  \"\n",
        "print(\"[\", frase,\"]\")\n",
        "\n",
        "# Retira os espaços antes de depois da frase\n",
        "frase = frase.strip()\n",
        "print(\"[\", frase,\"]\")\n",
        "\n",
        "# Recupera o último caracter\n",
        "ultimo_caracter = frase[-1]\n",
        "\n",
        "# Saída dos dados\n",
        "print (\"Último caracter:\", ultimo_caracter)"
      ],
      "execution_count": 19,
      "outputs": [
        {
          "output_type": "stream",
          "name": "stdout",
          "text": [
            "[   Que dia bonito   ]\n",
            "[ Que dia bonito ]\n",
            "Último caracter: o\n"
          ]
        }
      ]
    },
    {
      "cell_type": "markdown",
      "metadata": {
        "id": "yzfg-I1HQaUo"
      },
      "source": [
        "### Exemplo 12 - Exibe número percentual formatado"
      ]
    },
    {
      "cell_type": "code",
      "metadata": {
        "colab": {
          "base_uri": "https://localhost:8080/"
        },
        "id": "rbzIyYV0QfhH",
        "outputId": "959e6b58-4dff-47c9-86db-2b153a717398"
      },
      "source": [
        "x = 16\n",
        "total = 150\n",
        "percentual = x/total\n",
        "print(\"Percentual de X(\",x,\") no total(\",total,\") = \", \"{:.2%}\".format(percentual))"
      ],
      "execution_count": 20,
      "outputs": [
        {
          "output_type": "stream",
          "name": "stdout",
          "text": [
            "Percentual de X( 16 ) no total( 150 ) =  10.67%\n"
          ]
        }
      ]
    },
    {
      "cell_type": "markdown",
      "metadata": {
        "id": "LQ_r-Dsi8Qx3"
      },
      "source": [
        "### Exemplo 13 - Iníciais em maiúsculo"
      ]
    },
    {
      "cell_type": "code",
      "metadata": {
        "colab": {
          "base_uri": "https://localhost:8080/"
        },
        "id": "lG4X8gVl8TGp",
        "outputId": "30ad99ba-999e-4a08-b489-af0860121be6"
      },
      "source": [
        "# Frase de exemplo1\n",
        "frase1 = \"que dia bonito.\"\n",
        "\n",
        "# Frase de exemplo2\n",
        "frase2 = frase1.capitalize()\n",
        "\n",
        "# Saída dos dados\n",
        "print(frase1)\n",
        "print(frase2)"
      ],
      "execution_count": 21,
      "outputs": [
        {
          "output_type": "stream",
          "name": "stdout",
          "text": [
            "que dia bonito.\n",
            "Que dia bonito.\n"
          ]
        }
      ]
    },
    {
      "cell_type": "markdown",
      "metadata": {
        "id": "25qFHSFmG6-w"
      },
      "source": [
        "### Exemplo 14 - Função para tratar literal"
      ]
    },
    {
      "cell_type": "code",
      "metadata": {
        "id": "Wo1V1MfrG9xg"
      },
      "source": [
        "import re\n",
        "\n",
        "def preProcessamento(mensagem):\n",
        "    \"\"\"\n",
        "    Esta função recebe uma string como entrada e, em seguida, executa estas operações:\n",
        "         - converte para minúsculas\n",
        "         - remove URLs\n",
        "         - remove símbolos de ação\n",
        "         - remove pontuação\n",
        "         - remove todos os tokens de um único caractere\n",
        "     Parâmetros\n",
        "     ----------\n",
        "         mensagem: a mensagem de texto a ser pré-processada\n",
        "     Retorno\n",
        "     -------\n",
        "         texto: o texto pré-processado\n",
        "    \"\"\"\n",
        "    # Coloque a mensagem  em letras minúsculas\n",
        "    texto = mensagem.lower()\n",
        "    # Substitui as URLs por um espaço na mensagem\n",
        "    texto = re.sub(\"https?:\\/\\/[a-zA-Z0-9@:%._\\/+~#=?&;-]*\", \" \", texto)\n",
        "    # Substitui os símbolos de ticker por um espaço. Os símbolos de ticker são qualquer símbolo que comece com $.\n",
        "    texto = re.sub(\"\\$[a-zA-Z0-9]*\", \" \", texto)\n",
        "    # Substitui os nomes de usuário por um espaço. Os nomes de usuário são qualquer palavra que comece com @.\n",
        "    texto = re.sub(\"\\@[a-zA-Z0-9]*\", \" \", texto)\n",
        "    # Substitui tudo que não for uma letra ou apóstrofo por um espaço\n",
        "    texto = re.sub(\"[^a-zA-Z\\\"]\", \" \", texto)\n",
        "    # Remove palavras de uma letra\n",
        "    texto = \" \".join( [w for w in texto.split() if len(w)>1] )\n",
        "\n",
        "    return texto"
      ],
      "execution_count": 22,
      "outputs": []
    },
    {
      "cell_type": "code",
      "metadata": {
        "colab": {
          "base_uri": "https://localhost:8080/"
        },
        "id": "EXpQCOz1IbMu",
        "outputId": "cf3086e7-03b8-4363-e14b-cd4f5730de24"
      },
      "source": [
        "mensagem = \"$Joao bom dia. @Hoje será muito frio. E ai Olhou http://www.google.com.br hoje?\"\n",
        "\n",
        "print(preProcessamento(mensagem))"
      ],
      "execution_count": 23,
      "outputs": [
        {
          "output_type": "stream",
          "name": "stdout",
          "text": [
            "bom dia ser muito frio ai olhou hoje\n"
          ]
        }
      ]
    },
    {
      "cell_type": "markdown",
      "metadata": {
        "id": "tnkmUVm4tnJZ"
      },
      "source": [
        "### Exemplo 15 - Conta a ocorrências de palavras em um texto"
      ]
    },
    {
      "cell_type": "code",
      "metadata": {
        "colab": {
          "base_uri": "https://localhost:8080/"
        },
        "id": "OZxbU3q7tnJZ",
        "outputId": "a6ac326d-2999-400d-8023-1e5fc031fdb1"
      },
      "source": [
        "# Import das bibliotecas\n",
        "from collections import Counter\n",
        "\n",
        "# Texto de exemplo\n",
        "texto = \"Olá, tudo bem? Que dia é hoje ? Que dia bonito. Que céu está limpo hoje.\"\n",
        "\n",
        "# Divide o texto em uma lista de palavras\n",
        "listaPalavras = texto.split(\" \")\n",
        "\n",
        "contador = Counter()\n",
        "for i, palavra in enumerate(listaPalavras):\n",
        "     contador[palavra] += 1\n",
        "\n",
        "# Lista as ocorrências das palavras\n",
        "for i, item in enumerate(sorted(contador, key = contador.get, reverse=True)):\n",
        "    print (i, item, contador[item])"
      ],
      "execution_count": 24,
      "outputs": [
        {
          "output_type": "stream",
          "name": "stdout",
          "text": [
            "0 Que 3\n",
            "1 dia 2\n",
            "2 Olá, 1\n",
            "3 tudo 1\n",
            "4 bem? 1\n",
            "5 é 1\n",
            "6 hoje 1\n",
            "7 ? 1\n",
            "8 bonito. 1\n",
            "9 céu 1\n",
            "10 está 1\n",
            "11 limpo 1\n",
            "12 hoje. 1\n"
          ]
        }
      ]
    },
    {
      "cell_type": "markdown",
      "metadata": {
        "id": "Iy1yctgxJyDp"
      },
      "source": [
        "##Inicialização de variáveis\n",
        "Inicialização de múltiplas variáveis"
      ]
    },
    {
      "cell_type": "code",
      "metadata": {
        "colab": {
          "base_uri": "https://localhost:8080/"
        },
        "id": "4JPdmPAsJ1QA",
        "outputId": "a0204c0a-2be2-4c06-e220-1eff5793877e"
      },
      "source": [
        "# Declaração e inicialização\n",
        "a, b, c, d = 1, 2, 3, 4\n",
        "\n",
        "# Saída dos dados\n",
        "print(a)\n",
        "print(b)\n",
        "print(c)\n",
        "print(d)"
      ],
      "execution_count": 25,
      "outputs": [
        {
          "output_type": "stream",
          "name": "stdout",
          "text": [
            "1\n",
            "2\n",
            "3\n",
            "4\n"
          ]
        }
      ]
    },
    {
      "cell_type": "markdown",
      "metadata": {
        "id": "IziPWVaeGlWk"
      },
      "source": [
        "## Trocar conteúdo de variáveis\n",
        "Como trocar o conteúdo das variáveis de a e b e de b para a:\n",
        "\n",
        "\n"
      ]
    },
    {
      "cell_type": "markdown",
      "metadata": {
        "id": "COG413OYyx7D"
      },
      "source": [
        "### Método 1 - com auxiliar\n",
        "Troca de conteúdo de variáveis com variável auxiliar."
      ]
    },
    {
      "cell_type": "code",
      "metadata": {
        "colab": {
          "base_uri": "https://localhost:8080/"
        },
        "id": "_8dfes3tzEfz",
        "outputId": "ffa202f0-dac4-4075-9306-6d99c8c08bff"
      },
      "source": [
        "# Inicialização das variáveis\n",
        "a = 10\n",
        "b = 30\n",
        "\n",
        "# Processamento\n",
        "aux = a\n",
        "a = b\n",
        "b = aux\n",
        "\n",
        "# Saída dos dados\n",
        "print(\"a = \" + str(a))\n",
        "print(\"b = \" + str(b))"
      ],
      "execution_count": 26,
      "outputs": [
        {
          "output_type": "stream",
          "name": "stdout",
          "text": [
            "a = 30\n",
            "b = 10\n"
          ]
        }
      ]
    },
    {
      "cell_type": "markdown",
      "metadata": {
        "id": "zIIhrgdYyrrD"
      },
      "source": [
        "### Método 2 - sem auxiliar\n",
        "Sem o uso de uma variável auxiliar."
      ]
    },
    {
      "cell_type": "code",
      "metadata": {
        "colab": {
          "base_uri": "https://localhost:8080/"
        },
        "id": "BGFVnIzQGrEH",
        "outputId": "5fe4dc4b-3511-487a-ae63-8a3fe9c0d6eb"
      },
      "source": [
        "# Inicialização das variáveis\n",
        "a = 10\n",
        "b = 30\n",
        "\n",
        "# Processamento\n",
        "a , b = b , a\n",
        "\n",
        "# Saída dos dados\n",
        "print(\"a = \" + str(a))\n",
        "print(\"b = \" + str(b))"
      ],
      "execution_count": 27,
      "outputs": [
        {
          "output_type": "stream",
          "name": "stdout",
          "text": [
            "a = 30\n",
            "b = 10\n"
          ]
        }
      ]
    },
    {
      "cell_type": "markdown",
      "metadata": {
        "id": "Mk7CV_tfTUNl"
      },
      "source": [
        "# Operadores\n",
        "\n",
        "https://www.w3schools.com/python/python_operators.asp\n",
        "\n",
        "\n"
      ]
    },
    {
      "cell_type": "markdown",
      "metadata": {
        "id": "OjtxtOC4TY_p"
      },
      "source": [
        "## Operadores aritméticos\n",
        "\n",
        "(+, -, *, /, //, %, **, +=, -=, *=, /=, %=, **=):\n",
        "\n",
        "| Operador | Descrição |\n",
        "| -------- | --------- |\n",
        "|     `+`  |    Soma               |\n",
        "|     `-`  |    Subtração          |\n",
        "|     `*`  |    Multiplicação      |\n",
        "|     `/`  |    Divisão            |\n",
        "|    `//`  |    Divisão inteira    |\n",
        "|      `%` |    Módulo             |\n",
        "|    `**`  |    Exponenciação      |\n",
        "| | |\n"
      ]
    },
    {
      "cell_type": "code",
      "metadata": {
        "colab": {
          "base_uri": "https://localhost:8080/"
        },
        "id": "oNC6OhoETVeF",
        "outputId": "5c6a119e-3ec1-42ee-e272-72d29c1df90e"
      },
      "source": [
        "a = 2\n",
        "b = 1\n",
        "\n",
        "# Saída dos dados\n",
        "print (\"soma =\",a + b)\n",
        "print (\"subtração =\",a - b)\n",
        "print (\"produto =\",a * b)\n",
        "print (\"divisão =\",a / b)"
      ],
      "execution_count": 28,
      "outputs": [
        {
          "output_type": "stream",
          "name": "stdout",
          "text": [
            "soma = 3\n",
            "subtração = 1\n",
            "produto = 2\n",
            "divisão = 2.0\n"
          ]
        }
      ]
    },
    {
      "cell_type": "markdown",
      "metadata": {
        "id": "3yGXUsyNj_OD"
      },
      "source": [
        "Divisão inteira (//)"
      ]
    },
    {
      "cell_type": "code",
      "metadata": {
        "colab": {
          "base_uri": "https://localhost:8080/"
        },
        "id": "DiixULgakAh5",
        "outputId": "97569d90-3319-4930-e812-68156c010de3"
      },
      "source": [
        "a = 5\n",
        "b = 2\n",
        "\n",
        "# Mostra o resultado da divisão sem a parte fracioná(somente a parte inteira)\n",
        "print (5 // 2)\n",
        "\n",
        "# Mostra o resultado da divisão com a parte fracionária\n",
        "print (5 / 2)"
      ],
      "execution_count": 29,
      "outputs": [
        {
          "output_type": "stream",
          "name": "stdout",
          "text": [
            "2\n",
            "2.5\n"
          ]
        }
      ]
    },
    {
      "cell_type": "markdown",
      "metadata": {
        "id": "f96rzB9akKO5"
      },
      "source": [
        "Módulo - Resto divisão (%)"
      ]
    },
    {
      "cell_type": "code",
      "metadata": {
        "colab": {
          "base_uri": "https://localhost:8080/"
        },
        "id": "Jzv_-awikMT6",
        "outputId": "e18d07c4-57cc-4581-b507-6deb0c1f69dc"
      },
      "source": [
        "a = 5\n",
        "b = 2\n",
        "\n",
        "# Resto da divisão\n",
        "print (5 % 2)\n",
        "\n",
        "# Mostra a parte inteira\n",
        "print (5 // 2)"
      ],
      "execution_count": 30,
      "outputs": [
        {
          "output_type": "stream",
          "name": "stdout",
          "text": [
            "1\n",
            "2\n"
          ]
        }
      ]
    },
    {
      "cell_type": "markdown",
      "metadata": {
        "id": "a2hZUv2KkSK-"
      },
      "source": [
        "Exponencial (**)"
      ]
    },
    {
      "cell_type": "code",
      "metadata": {
        "colab": {
          "base_uri": "https://localhost:8080/"
        },
        "id": "LfdgCJQ3kVqP",
        "outputId": "12475bcd-9f73-4031-aba4-6893e5613bf7"
      },
      "source": [
        "a = 4\n",
        "\n",
        "# Saída dos dados\n",
        "print (a**2)"
      ],
      "execution_count": 31,
      "outputs": [
        {
          "output_type": "stream",
          "name": "stdout",
          "text": [
            "16\n"
          ]
        }
      ]
    },
    {
      "cell_type": "markdown",
      "metadata": {
        "id": "c3W0MGc5kbse"
      },
      "source": [
        "Raiz quadrada (** 0.5)"
      ]
    },
    {
      "cell_type": "code",
      "metadata": {
        "colab": {
          "base_uri": "https://localhost:8080/"
        },
        "id": "f_GjzLUMkeL5",
        "outputId": "b7cb8b61-8b8f-41de-ae7e-c56093528a2c"
      },
      "source": [
        "a = 4\n",
        "\n",
        "# Calcula a raiz quadrada a**1/2\n",
        "raiz = a ** 0.5\n",
        "\n",
        "print(raiz)"
      ],
      "execution_count": 32,
      "outputs": [
        {
          "output_type": "stream",
          "name": "stdout",
          "text": [
            "2.0\n"
          ]
        }
      ]
    },
    {
      "cell_type": "markdown",
      "metadata": {
        "id": "XbXT5yfSTo6y"
      },
      "source": [
        "Operadores de comparação (>, <, ==, >=, <=, <>, !=, is, in):"
      ]
    },
    {
      "cell_type": "code",
      "metadata": {
        "colab": {
          "base_uri": "https://localhost:8080/"
        },
        "id": "9ftYsWQZTsPV",
        "outputId": "dd82b597-659a-4a3f-c3c0-ff6b3eea5562"
      },
      "source": [
        "a = 1\n",
        "b = 2\n",
        "\n",
        "print(a == b)\n",
        "\n",
        "print (a < b)"
      ],
      "execution_count": 33,
      "outputs": [
        {
          "output_type": "stream",
          "name": "stdout",
          "text": [
            "False\n",
            "True\n"
          ]
        }
      ]
    },
    {
      "cell_type": "markdown",
      "metadata": {
        "id": "QftIogc_hPxX"
      },
      "source": [
        "##Operadores lógicos\n",
        "\n",
        "==, !=, <, <=, >, >=, and, or, not\n",
        "\n",
        "| Operador | Descrição |\n",
        "| -------- | --------- |\n",
        "|    `==`  | Igualdade, True se valores de dois operandos são iguais |\n",
        "|    `!=`  | Diferente, True se valores de dois operandos são diferentes |\n",
        "|    `<`  | True se valor do operando à esquerda é menor que o da direita |\n",
        "|    `<=`  | True se valor do operando à esquerda é menor ou igual ao da direita|\n",
        "|    `>`  | True se valor do operando à esquerda é maior que o da direita |\n",
        "|    `>=`  | True se valor do operando à esquerda é maior ou igual ao da direita |\n",
        "|     `and`  |    Operador lógico \"e\"               |\n",
        "|     `or`   |    Operador lógico \"ou\"         |\n",
        "|     `not`  |    Operador lógico de negação \"não\"      |\n",
        "\n",
        "\n",
        "\n"
      ]
    },
    {
      "cell_type": "code",
      "source": [
        "# Valores iniciais\n",
        "a = 10\n",
        "b = 20\n",
        "\n",
        "print(a == b)\n",
        "print(a != b)\n",
        "print(a < b)\n",
        "print(a <= b)\n",
        "print(a > b)\n",
        "print(a >= b)"
      ],
      "metadata": {
        "id": "5sdVNX_ycOHk",
        "colab": {
          "base_uri": "https://localhost:8080/"
        },
        "outputId": "0682390c-f00c-4927-fbe1-9a734dbeac2b"
      },
      "execution_count": 34,
      "outputs": [
        {
          "output_type": "stream",
          "name": "stdout",
          "text": [
            "False\n",
            "True\n",
            "True\n",
            "True\n",
            "False\n",
            "False\n"
          ]
        }
      ]
    },
    {
      "cell_type": "code",
      "metadata": {
        "colab": {
          "base_uri": "https://localhost:8080/"
        },
        "id": "i8rxndpvhl-n",
        "outputId": "1a5bcb63-ea55-49be-ff65-5c3401cb02be"
      },
      "source": [
        "# Valores iniciais\n",
        "a = True\n",
        "b = False\n",
        "\n",
        "print(a and b) # Lógico AND;\n",
        "print(a or b)  # Lógico  OR;\n",
        "print(not a)   # Lógico  NOT;\n",
        "print(a != b)  # Lógico  XOR;"
      ],
      "execution_count": 35,
      "outputs": [
        {
          "output_type": "stream",
          "name": "stdout",
          "text": [
            "False\n",
            "True\n",
            "False\n",
            "True\n"
          ]
        }
      ]
    },
    {
      "cell_type": "markdown",
      "metadata": {
        "id": "RdVoeqUmhVRt"
      },
      "source": [
        "##Operadores de identidade\n",
        "\n",
        "is, is not\n",
        "\n",
        "| Operador | Descrição |\n",
        "| -------- | --------- |\n",
        "|    is  | \ttesta a identidade de objetos |\n",
        "|    `is not`  | testa a não identidade de objetos |\n"
      ]
    },
    {
      "cell_type": "code",
      "metadata": {
        "colab": {
          "base_uri": "https://localhost:8080/"
        },
        "id": "PaEUz9T5jxoI",
        "outputId": "fabdadf6-e953-4fa7-e420-b112b713b274"
      },
      "source": [
        "# Valores iniciais\n",
        "a = True\n",
        "b = False\n",
        "\n",
        "print(a is b) # Identidade é;\n",
        "print(a is not b)  # Identidade não é"
      ],
      "execution_count": 36,
      "outputs": [
        {
          "output_type": "stream",
          "name": "stdout",
          "text": [
            "False\n",
            "True\n"
          ]
        }
      ]
    },
    {
      "cell_type": "markdown",
      "metadata": {
        "id": "fkioKBU4hab0"
      },
      "source": [
        "##Operadores de conjunto\n",
        "in, not in\n",
        "\n",
        "| Operador | Descrição |\n",
        "| -------- | --------- |\n",
        "|    in  | \ttesta se elemento está contido em outro |\n",
        "|    `not in`  | testa se elemento não está contido em outro |"
      ]
    },
    {
      "cell_type": "code",
      "metadata": {
        "colab": {
          "base_uri": "https://localhost:8080/"
        },
        "id": "PBHH1iXtj7-P",
        "outputId": "50bb7084-2be4-48a1-c911-b949c9489af6"
      },
      "source": [
        "# Conjunto\n",
        "a = {1, 2, 3, 4}\n",
        "\n",
        "print(1 in a)     # Pertençe ao conjunto;\n",
        "print(1 not in a) # Não pertençe ao conjunto;"
      ],
      "execution_count": 37,
      "outputs": [
        {
          "output_type": "stream",
          "name": "stdout",
          "text": [
            "True\n",
            "False\n"
          ]
        }
      ]
    },
    {
      "cell_type": "markdown",
      "metadata": {
        "id": "FbL31jLo7wnx"
      },
      "source": [
        "# Funções matemáticas\n",
        "\n",
        "Exemplo de uso de divesas funções matemáticas"
      ]
    },
    {
      "cell_type": "markdown",
      "metadata": {
        "id": "v-Ua_bwocepy"
      },
      "source": [
        "PI"
      ]
    },
    {
      "cell_type": "code",
      "metadata": {
        "colab": {
          "base_uri": "https://localhost:8080/"
        },
        "outputId": "5a67344e-707b-4316-d794-213331347fff",
        "id": "vx-WZTtNcep8"
      },
      "source": [
        "import math\n",
        "\n",
        "print(math.pi)"
      ],
      "execution_count": 38,
      "outputs": [
        {
          "output_type": "stream",
          "name": "stdout",
          "text": [
            "3.141592653589793\n"
          ]
        }
      ]
    },
    {
      "cell_type": "markdown",
      "source": [
        "Raiz quadrada"
      ],
      "metadata": {
        "id": "T09soTxwcep8"
      }
    },
    {
      "cell_type": "code",
      "source": [
        "import math\n",
        "\n",
        "# sqrt(x) retorna a raiz quadrada de x\n",
        "resultado = math.sqrt(9)\n",
        "\n",
        "print(resultado)"
      ],
      "metadata": {
        "colab": {
          "base_uri": "https://localhost:8080/"
        },
        "outputId": "44fabe20-f3ba-4355-e3a3-8cad3ceb36e7",
        "id": "_ylCiFE6cep8"
      },
      "execution_count": 39,
      "outputs": [
        {
          "output_type": "stream",
          "name": "stdout",
          "text": [
            "3.0\n"
          ]
        }
      ]
    },
    {
      "cell_type": "markdown",
      "metadata": {
        "id": "I3KG2LnL7cqt"
      },
      "source": [
        "Valor absoluto\n"
      ]
    },
    {
      "cell_type": "code",
      "metadata": {
        "colab": {
          "base_uri": "https://localhost:8080/"
        },
        "id": "z5sPo0sA7cBj",
        "outputId": "8c44abf0-e65e-4ffc-8f42-fd35755b17f9"
      },
      "source": [
        "# abs retorna o valor absoluto\n",
        "absoluto = abs(-8)\n",
        "\n",
        "print(absoluto)"
      ],
      "execution_count": 40,
      "outputs": [
        {
          "output_type": "stream",
          "name": "stdout",
          "text": [
            "8\n"
          ]
        }
      ]
    },
    {
      "cell_type": "markdown",
      "metadata": {
        "id": "gnipxdw_71Ji"
      },
      "source": [
        "Potência de x elevado a y\n",
        "pow(2, 8)"
      ]
    },
    {
      "cell_type": "code",
      "metadata": {
        "colab": {
          "base_uri": "https://localhost:8080/"
        },
        "id": "XnSHVL9r71wE",
        "outputId": "373d4028-22f3-48c3-d1e2-0b52270755b8"
      },
      "source": [
        "# pow(x, y) retorna a potência de x elevado a y\n",
        "resultado = pow(2, 8)\n",
        "\n",
        "print(resultado)"
      ],
      "execution_count": 41,
      "outputs": [
        {
          "output_type": "stream",
          "name": "stdout",
          "text": [
            "256\n"
          ]
        }
      ]
    },
    {
      "cell_type": "markdown",
      "source": [
        "que é igual a **"
      ],
      "metadata": {
        "id": "xOgES9rPa90J"
      }
    },
    {
      "cell_type": "code",
      "source": [
        "# x ** y retorna a potência de x elevado a y\n",
        "resultado = 2**8\n",
        "\n",
        "print(resultado)"
      ],
      "metadata": {
        "id": "QZUSBabra_vw",
        "colab": {
          "base_uri": "https://localhost:8080/"
        },
        "outputId": "e1f67fea-a12b-43b0-d0ac-4f2decb660ff"
      },
      "execution_count": 42,
      "outputs": [
        {
          "output_type": "stream",
          "name": "stdout",
          "text": [
            "256\n"
          ]
        }
      ]
    },
    {
      "cell_type": "markdown",
      "metadata": {
        "id": "S9SlXX-67_TQ"
      },
      "source": [
        "Arredondamento"
      ]
    },
    {
      "cell_type": "code",
      "metadata": {
        "colab": {
          "base_uri": "https://localhost:8080/"
        },
        "id": "OSJeLNTK8A_8",
        "outputId": "e922915e-7e8f-4ce8-a91e-2c6a47426c4a"
      },
      "source": [
        "# Arredondamento\n",
        "arredondado = round(3.1415926)\n",
        "\n",
        "print(arredondado)\n",
        "\n",
        "# Arredondamento com duas casas decimais\n",
        "arredondado = round(1.61834, 2)\n",
        "\n",
        "print(arredondado)"
      ],
      "execution_count": 43,
      "outputs": [
        {
          "output_type": "stream",
          "name": "stdout",
          "text": [
            "3\n",
            "1.62\n"
          ]
        }
      ]
    },
    {
      "cell_type": "markdown",
      "source": [
        "Raiz quadrada"
      ],
      "metadata": {
        "id": "wU0gO6glaMOH"
      }
    },
    {
      "cell_type": "code",
      "source": [
        "import math\n",
        "\n",
        "# sqrt(x) retorna a raiz quadrada de x\n",
        "resultado = math.sqrt(9)\n",
        "\n",
        "print(resultado)"
      ],
      "metadata": {
        "colab": {
          "base_uri": "https://localhost:8080/"
        },
        "id": "g6S45dhKaQAQ",
        "outputId": "3af790c2-8369-4a00-b830-1512e5741458"
      },
      "execution_count": 44,
      "outputs": [
        {
          "output_type": "stream",
          "name": "stdout",
          "text": [
            "3.0\n"
          ]
        }
      ]
    },
    {
      "cell_type": "markdown",
      "metadata": {
        "id": "WMrGz_ISArGm"
      },
      "source": [
        "# Saída de Dados\n",
        "\n",
        "https://pyformat.info/"
      ]
    },
    {
      "cell_type": "markdown",
      "source": [
        "## Saída simples"
      ],
      "metadata": {
        "id": "ziKnhIZaqIbs"
      }
    },
    {
      "cell_type": "markdown",
      "source": [
        "### Texto"
      ],
      "metadata": {
        "id": "X05wfTF0qadG"
      }
    },
    {
      "cell_type": "code",
      "source": [
        "print(\"Alo mundo\")"
      ],
      "metadata": {
        "colab": {
          "base_uri": "https://localhost:8080/"
        },
        "id": "TO4ZiYjmqKD-",
        "outputId": "16235588-857a-4ad1-8507-652d1eb20091"
      },
      "execution_count": 45,
      "outputs": [
        {
          "output_type": "stream",
          "name": "stdout",
          "text": [
            "Alo mundo\n"
          ]
        }
      ]
    },
    {
      "cell_type": "markdown",
      "source": [
        "### Texto com variáveis e vírgulas"
      ],
      "metadata": {
        "id": "A5dyy-NXqhSc"
      }
    },
    {
      "cell_type": "code",
      "source": [
        "numero = 33\n",
        "print(\"Número :\", numero)"
      ],
      "metadata": {
        "colab": {
          "base_uri": "https://localhost:8080/"
        },
        "id": "HMv1g-Ssqixl",
        "outputId": "bdfd43a7-2d37-4dcb-efe4-52339179fcad"
      },
      "execution_count": 46,
      "outputs": [
        {
          "output_type": "stream",
          "name": "stdout",
          "text": [
            "Número : 33\n"
          ]
        }
      ]
    },
    {
      "cell_type": "code",
      "source": [
        "numero1 = 33\n",
        "numero2 = 34\n",
        "print(\"Número1:\", numero1, \" Numero 2:\", numero2)"
      ],
      "metadata": {
        "colab": {
          "base_uri": "https://localhost:8080/"
        },
        "id": "kH0bZbp2q07E",
        "outputId": "a597639c-0228-453a-82a3-91e830f6398d"
      },
      "execution_count": 47,
      "outputs": [
        {
          "output_type": "stream",
          "name": "stdout",
          "text": [
            "Número1: 33  Numero 2: 34\n"
          ]
        }
      ]
    },
    {
      "cell_type": "markdown",
      "source": [
        "Texto com variáveis concatenadas"
      ],
      "metadata": {
        "id": "jKjQd6oFqrXI"
      }
    },
    {
      "cell_type": "code",
      "source": [
        "numero = 33\n",
        "print(\"Número :\" + str(numero))"
      ],
      "metadata": {
        "colab": {
          "base_uri": "https://localhost:8080/"
        },
        "id": "pa5lxavZqrf8",
        "outputId": "91f3d034-582a-482c-da67-358d68fb06db"
      },
      "execution_count": 48,
      "outputs": [
        {
          "output_type": "stream",
          "name": "stdout",
          "text": [
            "Número :33\n"
          ]
        }
      ]
    },
    {
      "cell_type": "code",
      "source": [
        "numero1 = 33\n",
        "numero2 = 34\n",
        "print(\"Número1:\" +  str(numero1) + \" Numero 2:\" + str(numero2))"
      ],
      "metadata": {
        "colab": {
          "base_uri": "https://localhost:8080/"
        },
        "id": "uWHdJHgrrAQ0",
        "outputId": "1b4cfcae-e49f-4dcd-a8cc-d94753b7feb2"
      },
      "execution_count": 49,
      "outputs": [
        {
          "output_type": "stream",
          "name": "stdout",
          "text": [
            "Número1:33 Numero 2:34\n"
          ]
        }
      ]
    },
    {
      "cell_type": "markdown",
      "source": [
        "## Saída formatada"
      ],
      "metadata": {
        "id": "Tpr78h7fqRYn"
      }
    },
    {
      "cell_type": "markdown",
      "metadata": {
        "id": "wJzRhIckA0zY"
      },
      "source": [
        "### Número inteiro(d)"
      ]
    },
    {
      "cell_type": "code",
      "metadata": {
        "colab": {
          "base_uri": "https://localhost:8080/"
        },
        "id": "jeQYdc3fAzq3",
        "outputId": "60bfb0d5-d4cf-4dd3-8932-bd79f8f0cf00"
      },
      "source": [
        "idade = 42\n",
        "print(\"Idade :{:d}\".format(idade))"
      ],
      "execution_count": 50,
      "outputs": [
        {
          "output_type": "stream",
          "name": "stdout",
          "text": [
            "Idade :42\n"
          ]
        }
      ]
    },
    {
      "cell_type": "markdown",
      "metadata": {
        "id": "Nf_5teSZBFhR"
      },
      "source": [
        "### Número real(f)"
      ]
    },
    {
      "cell_type": "code",
      "metadata": {
        "colab": {
          "base_uri": "https://localhost:8080/"
        },
        "id": "ohLRXeXYBFhU",
        "outputId": "dc895246-6abd-4abd-c490-3806d1a6f86d"
      },
      "source": [
        "print(\"Pi :{:f}\".format(3.1415926))"
      ],
      "execution_count": 51,
      "outputs": [
        {
          "output_type": "stream",
          "name": "stdout",
          "text": [
            "Pi :3.141593\n"
          ]
        }
      ]
    },
    {
      "cell_type": "markdown",
      "metadata": {
        "id": "k_NmE4PqeHDn"
      },
      "source": [
        "### Número real(f) com casas decimais"
      ]
    },
    {
      "cell_type": "code",
      "metadata": {
        "colab": {
          "base_uri": "https://localhost:8080/"
        },
        "outputId": "e84690df-96a2-41da-f39a-18bc14a46cf8",
        "id": "s-Jmeat3eHDn"
      },
      "source": [
        "print(\"Pi :{:.2f}\".format(3.1415926))"
      ],
      "execution_count": 52,
      "outputs": [
        {
          "output_type": "stream",
          "name": "stdout",
          "text": [
            "Pi :3.14\n"
          ]
        }
      ]
    },
    {
      "cell_type": "markdown",
      "metadata": {
        "id": "raBzE7WjBV9r"
      },
      "source": [
        "### Preenchimento número inteiro"
      ]
    },
    {
      "cell_type": "code",
      "metadata": {
        "colab": {
          "base_uri": "https://localhost:8080/"
        },
        "id": "Aep1FJA5BWH8",
        "outputId": "5ada4129-b358-4ed6-ddf1-c9f7639144a7"
      },
      "source": [
        "# Reserva espaço para 4 dígitos e preenche com \" \"\n",
        "print(\"Idade 1:{:4d}\".format(42))\n",
        "# Reserva espaço para 4 dígitos e preenche com  0\n",
        "print(\"Idade 2:{:04d}\".format(4))"
      ],
      "execution_count": 53,
      "outputs": [
        {
          "output_type": "stream",
          "name": "stdout",
          "text": [
            "Idade 1:  42\n",
            "Idade 2:0004\n"
          ]
        }
      ]
    },
    {
      "cell_type": "markdown",
      "metadata": {
        "id": "O5RQsiM-Bs37"
      },
      "source": [
        "### Preenchimento número real"
      ]
    },
    {
      "cell_type": "code",
      "metadata": {
        "colab": {
          "base_uri": "https://localhost:8080/"
        },
        "id": "r3ymyTboBs3-",
        "outputId": "225f730f-1352-44c9-985a-0d6e111285f6"
      },
      "source": [
        "# Reserva espaço para 8 dígitos se 2 para a parte decimal preenche com \" \"\n",
        "print(\"Pi 1:{:8.2f}\".format(3.1415926))\n",
        "# Reserva espaço para 6 dígitos se 2 para a parte decimal preenche com \"0\"\n",
        "print(\"Pi 2:{:06.2f}\".format(3.1415926))"
      ],
      "execution_count": 54,
      "outputs": [
        {
          "output_type": "stream",
          "name": "stdout",
          "text": [
            "Pi 1:    3.14\n",
            "Pi 2:003.14\n"
          ]
        }
      ]
    },
    {
      "cell_type": "markdown",
      "source": [
        "# Entrada de Dados"
      ],
      "metadata": {
        "id": "UhFHnApjYg9_"
      }
    },
    {
      "cell_type": "markdown",
      "source": [
        "## Entrada string"
      ],
      "metadata": {
        "id": "PSh2pEJiY-Gg"
      }
    },
    {
      "cell_type": "code",
      "source": [
        "variavel = input(\"Digite um valor para a variável:\")\n",
        "\n",
        "print(\"O número digitado é \",numero)\n",
        "print(\"A variável digitada é do tipo \", type(variavel))"
      ],
      "metadata": {
        "colab": {
          "base_uri": "https://localhost:8080/"
        },
        "id": "l1s7Tp06YkJg",
        "outputId": "e2b9f504-434a-42b3-805d-e77d0b522e5f"
      },
      "execution_count": 55,
      "outputs": [
        {
          "output_type": "stream",
          "name": "stdout",
          "text": [
            "Digite um valor para a variável:1\n",
            "O número digitado é  33\n",
            "A variável digitada é do tipo  <class 'str'>\n"
          ]
        }
      ]
    },
    {
      "cell_type": "markdown",
      "source": [
        "## Entrada int"
      ],
      "metadata": {
        "id": "VF1p8LFwZAYa"
      }
    },
    {
      "cell_type": "code",
      "source": [
        "variavel = int(input(\"Digite um valor para a variável:\"))\n",
        "\n",
        "print(\"O número digitado é \",numero)\n",
        "print(\"A variável digitada é do tipo \", type(variavel))"
      ],
      "metadata": {
        "colab": {
          "base_uri": "https://localhost:8080/"
        },
        "id": "5PJgimM-ZAhB",
        "outputId": "d4d49d7d-9ef9-41ef-ea8f-532b3a881cde"
      },
      "execution_count": 56,
      "outputs": [
        {
          "output_type": "stream",
          "name": "stdout",
          "text": [
            "Digite um valor para a variável:2\n",
            "O número digitado é  33\n",
            "A variável digitada é do tipo  <class 'int'>\n"
          ]
        }
      ]
    },
    {
      "cell_type": "markdown",
      "source": [
        "## Entrada float"
      ],
      "metadata": {
        "id": "-x6-RuzuZJiY"
      }
    },
    {
      "cell_type": "code",
      "source": [
        "variavel = float(input(\"Digite um valor para a variável:\"))\n",
        "\n",
        "print(\"O número digitado é \",numero)\n",
        "print(\"A variável digitada é do tipo \", type(variavel))"
      ],
      "metadata": {
        "colab": {
          "base_uri": "https://localhost:8080/"
        },
        "id": "CN6Pt5E6ZLXo",
        "outputId": "748ee802-e460-46ef-f0c9-73d101b67e74"
      },
      "execution_count": 57,
      "outputs": [
        {
          "output_type": "stream",
          "name": "stdout",
          "text": [
            "Digite um valor para a variável:3\n",
            "O número digitado é  33\n",
            "A variável digitada é do tipo  <class 'float'>\n"
          ]
        }
      ]
    },
    {
      "cell_type": "markdown",
      "metadata": {
        "id": "jAOEYrGxKAxp"
      },
      "source": [
        "#Estruturas Condicionais\n",
        "\n",
        "Estrutura se:\n",
        "* if \\<condição\\>:\n",
        "* if \\<condição\\>: else:\n",
        "* if \\<condição1\\>: elif <condição>: else:\n"
      ]
    },
    {
      "cell_type": "markdown",
      "metadata": {
        "id": "dJSVrlVM4WH8"
      },
      "source": [
        "###Exemplo if / se\n",
        "\n",
        "Estrutura condicional simples.\n",
        "\n",
        "```python\n",
        "if (condição):\n",
        "    comando1\n",
        "    comando2\n",
        "```"
      ]
    },
    {
      "cell_type": "code",
      "metadata": {
        "colab": {
          "base_uri": "https://localhost:8080/"
        },
        "id": "PL68HgJe4WH9",
        "outputId": "b6637844-ae2f-433e-c970-87fbdb2e36a7"
      },
      "source": [
        "x = 10\n",
        "\n",
        "if (x == 10):\n",
        "   print(\"Número é igual a 10\")"
      ],
      "execution_count": 58,
      "outputs": [
        {
          "output_type": "stream",
          "name": "stdout",
          "text": [
            "Número é igual a 10\n"
          ]
        }
      ]
    },
    {
      "cell_type": "markdown",
      "metadata": {
        "id": "J9xDSQK81lbL"
      },
      "source": [
        "###Exemplo if else / se  senão\n",
        "\n",
        "Estrutura condicional composta.\n",
        "\n",
        "```python\n",
        "if (condição):\n",
        "    comando1\n",
        "else:\n",
        "    comando2\n",
        "```"
      ]
    },
    {
      "cell_type": "code",
      "metadata": {
        "colab": {
          "base_uri": "https://localhost:8080/"
        },
        "id": "f8CbTprj1k9u",
        "outputId": "246b32c4-64f4-4d40-c237-fc2245f0ef2f"
      },
      "source": [
        "x = 10\n",
        "\n",
        "if (x%2 == 0):\n",
        "   print(\"Número é par\")\n",
        "else:\n",
        "   print(\"Número é impar\")\n"
      ],
      "execution_count": 59,
      "outputs": [
        {
          "output_type": "stream",
          "name": "stdout",
          "text": [
            "Número é par\n"
          ]
        }
      ]
    },
    {
      "cell_type": "markdown",
      "source": [
        "## Exemplo if else/se senão aninhado\n",
        "\n",
        "Estrutura condicional composta aninhada.\n",
        "\n",
        "```python\n",
        "if (condição):\n",
        "    comando1\n",
        "else:\n",
        "    if (condição2):\n",
        "       comando2\n",
        "    else:\n",
        "        if (condição3):\n",
        "           comando3\n",
        "```"
      ],
      "metadata": {
        "id": "l-jgwx6H3hrs"
      }
    },
    {
      "cell_type": "code",
      "source": [
        "x = 3\n",
        "\n",
        "if (x == 0):\n",
        "   print(\"Número é zero\")\n",
        "else:\n",
        "  if (x == 1):\n",
        "    print(\"Número é um\")\n",
        "  else:\n",
        "    if (x == 2):\n",
        "      print(\"Número é dois\")\n",
        "    else:\n",
        "      print(\"Outro número\")"
      ],
      "metadata": {
        "colab": {
          "base_uri": "https://localhost:8080/"
        },
        "id": "YUUPoutx3h1f",
        "outputId": "ae4e9d0e-3c55-4660-f987-3a116de9776b"
      },
      "execution_count": 60,
      "outputs": [
        {
          "output_type": "stream",
          "name": "stdout",
          "text": [
            "Outro número\n"
          ]
        }
      ]
    },
    {
      "cell_type": "markdown",
      "metadata": {
        "id": "akRvIWEY17SD"
      },
      "source": [
        "## Exemplo if elif else / se senãose senão\n",
        "\n",
        "```python\n",
        "if (condição1):\n",
        "    comando1\n",
        "elif (condição2):\n",
        "    comando2\n",
        "    comando3\n",
        "...\n",
        "elif (condiçãon):\n",
        "    comandoN\n",
        "else:\n",
        "    comandoX\n",
        "```"
      ]
    },
    {
      "cell_type": "code",
      "metadata": {
        "colab": {
          "base_uri": "https://localhost:8080/"
        },
        "id": "OsAUTZWu17SG",
        "outputId": "ddafe6dd-c526-4d2f-fb92-5321804e72ac"
      },
      "source": [
        "x = 1\n",
        "\n",
        "if (x == 1):\n",
        "   print(\"Número é um\")\n",
        "elif (x == 2):\n",
        "   print(\"Número é dois\")\n",
        "elif (x == 3):\n",
        "     print(\"Número é três\")\n",
        "else:\n",
        "     print(\"Não é nenhum dos três\")"
      ],
      "execution_count": 61,
      "outputs": [
        {
          "output_type": "stream",
          "name": "stdout",
          "text": [
            "Número é um\n"
          ]
        }
      ]
    },
    {
      "cell_type": "markdown",
      "metadata": {
        "id": "qekx79Xk24nr"
      },
      "source": [
        "###Operador ternário"
      ]
    },
    {
      "cell_type": "code",
      "metadata": {
        "colab": {
          "base_uri": "https://localhost:8080/"
        },
        "id": "3ae3gjXe26WL",
        "outputId": "9b89667e-b041-47e7-f766-ba2a22e16686"
      },
      "source": [
        "x = 10\n",
        "\n",
        "saida =  \"Número é par\" if x % 2 == 0 else \"Número é ímpar\"\n",
        "\n",
        "print(saida)"
      ],
      "execution_count": 62,
      "outputs": [
        {
          "output_type": "stream",
          "name": "stdout",
          "text": [
            "Número é par\n"
          ]
        }
      ]
    },
    {
      "cell_type": "markdown",
      "metadata": {
        "id": "UWtJh5RTKHMl"
      },
      "source": [
        "###Exemplo 1\n",
        "https://leportella.com/pt-br/2018/05/07/pytricks-I.html"
      ]
    },
    {
      "cell_type": "code",
      "metadata": {
        "colab": {
          "base_uri": "https://localhost:8080/"
        },
        "id": "hyvgRNAiKGJ5",
        "outputId": "d43c4653-f882-40af-a456-d7a010691410"
      },
      "source": [
        "# Declaração e inicialização de diversas variáveis\n",
        "a, b, c, d = 1, 2, 3, 4\n",
        "\n",
        "if a == 1 and b == 2 and c == 3 and d == 4:\n",
        "    print(\"Tudo verdadeiro!\")"
      ],
      "execution_count": 63,
      "outputs": [
        {
          "output_type": "stream",
          "name": "stdout",
          "text": [
            "Tudo verdadeiro!\n"
          ]
        }
      ]
    },
    {
      "cell_type": "markdown",
      "metadata": {
        "id": "6PRgsXBcKMIU"
      },
      "source": [
        "### Exemplo 2"
      ]
    },
    {
      "cell_type": "code",
      "metadata": {
        "colab": {
          "base_uri": "https://localhost:8080/"
        },
        "id": "PAXDOHY9KNpJ",
        "outputId": "518b8de2-2363-4e6e-80f6-9b3c7fed9cf1"
      },
      "source": [
        "# Declaração\n",
        "condicoes = [a==1, b==2, c==3, d==4]\n",
        "\n",
        "if all(condicoes):\n",
        "    print(\"Tudo verdadeiro!\")"
      ],
      "execution_count": 64,
      "outputs": [
        {
          "output_type": "stream",
          "name": "stdout",
          "text": [
            "Tudo verdadeiro!\n"
          ]
        }
      ]
    },
    {
      "cell_type": "markdown",
      "metadata": {
        "id": "ZKW07-qtN9Bi"
      },
      "source": [
        "### Exemplo 3 - Verificar o tipo de uma variável\n",
        "\n",
        "A função `type` retorna o tipo da variável e `is` compara com o tipo."
      ]
    },
    {
      "cell_type": "code",
      "metadata": {
        "colab": {
          "base_uri": "https://localhost:8080/"
        },
        "id": "GydSAt1DN9Bm",
        "outputId": "87a06335-1cb0-4ac8-b791-17e8c1a73f95"
      },
      "source": [
        "# Declaração\n",
        "a = 10\n",
        "\n",
        "# Mostra o retorno\n",
        "print(type(a))\n",
        "\n",
        "# Mostra o nome\n",
        "print(type(a).__name__)\n",
        "\n",
        "# Avalia um tipo\n",
        "if type(a) is int:\n",
        "    print(\"É um inteiro!\")\n",
        "else:\n",
        "    print(\"Não é um inteiro\")"
      ],
      "execution_count": 65,
      "outputs": [
        {
          "output_type": "stream",
          "name": "stdout",
          "text": [
            "<class 'int'>\n",
            "int\n",
            "É um inteiro!\n"
          ]
        }
      ]
    },
    {
      "cell_type": "markdown",
      "metadata": {
        "id": "btM8ZZeHOWpm"
      },
      "source": [
        "### Exemplo 4 - Verificar o tipo de uma variável\n",
        "\n",
        "A função `isinstance` retorna o tipo da variável e `is` compara com o tipo ou um conjunto de tipos."
      ]
    },
    {
      "cell_type": "code",
      "metadata": {
        "colab": {
          "base_uri": "https://localhost:8080/"
        },
        "id": "zeFnNlJfOWpn",
        "outputId": "4a9abecd-c197-43bd-c3b8-aac8f2e22218"
      },
      "source": [
        "# Declaração\n",
        "a = 10\n",
        "\n",
        "# Mostra o retorno\n",
        "print(isinstance(a, int))\n",
        "\n",
        "# Avalia um tipo\n",
        "if isinstance(a, int):\n",
        "    print(\"É um inteiro!\")\n",
        "else:\n",
        "    print(\"Não é um inteiro\")\n",
        "\n",
        "# Avalia diversos tipos\n",
        "if isinstance(a, (int, float)):\n",
        "    print(\"É um inteiro!\")\n",
        "else:\n",
        "    print(\"Não é um inteiro\")"
      ],
      "execution_count": 66,
      "outputs": [
        {
          "output_type": "stream",
          "name": "stdout",
          "text": [
            "True\n",
            "É um inteiro!\n",
            "É um inteiro!\n"
          ]
        }
      ]
    },
    {
      "cell_type": "markdown",
      "metadata": {
        "id": "Fsm7trhrLjXr"
      },
      "source": [
        "#Estruturas de Repetição"
      ]
    },
    {
      "cell_type": "markdown",
      "metadata": {
        "id": "_nCWw-mF6Ypf"
      },
      "source": [
        "###Exemplo while / enquanto\n",
        "\n",
        "O while é o comando utilizado para programar repetições no Python baseadas na avaliação de uma condição. Enquanto a condição for verdadeira, o bloco de comandos interno ao while é repetido. Quando a condição se torna falsa, o bloco de comandos deixa de repetir.\n",
        "\n",
        "```python\n",
        "while (condição):\n",
        "    comando1\n",
        "    comando2\n",
        "    ...\n",
        "    comandoN\n",
        "```"
      ]
    },
    {
      "cell_type": "code",
      "metadata": {
        "colab": {
          "base_uri": "https://localhost:8080/"
        },
        "id": "YuLuxlb_6Ypg",
        "outputId": "05d2bc53-0647-4940-e4d8-3d93913d3334"
      },
      "source": [
        "x = 1\n",
        "while (x < 10):\n",
        "    print(x)\n",
        "    x = x + 1"
      ],
      "execution_count": 67,
      "outputs": [
        {
          "output_type": "stream",
          "name": "stdout",
          "text": [
            "1\n",
            "2\n",
            "3\n",
            "4\n",
            "5\n",
            "6\n",
            "7\n",
            "8\n",
            "9\n"
          ]
        }
      ]
    },
    {
      "cell_type": "markdown",
      "metadata": {
        "id": "OZZwXfkz6Pxn"
      },
      "source": [
        "### Exemplo for / para\n",
        "\n",
        "O for é o comando utilizado para programar repetições no Python quando se conhece previamente o número exato de vezes que se deseja executar um determinado conjunto de\n",
        "comandos.\n",
        "\n",
        "```python\n",
        "for <variável> in (valorinicial, valorfinal):\n",
        "    comando1\n",
        "    comando2\n",
        "    ...\n",
        "    comandoN\n",
        "```"
      ]
    },
    {
      "cell_type": "code",
      "metadata": {
        "colab": {
          "base_uri": "https://localhost:8080/"
        },
        "id": "huXSTwS-6TZG",
        "outputId": "5d4b8f89-452a-4433-b576-d3f2c673e569"
      },
      "source": [
        "for x in range(1,10):\n",
        "  print(x)"
      ],
      "execution_count": 68,
      "outputs": [
        {
          "output_type": "stream",
          "name": "stdout",
          "text": [
            "1\n",
            "2\n",
            "3\n",
            "4\n",
            "5\n",
            "6\n",
            "7\n",
            "8\n",
            "9\n"
          ]
        }
      ]
    },
    {
      "cell_type": "markdown",
      "metadata": {
        "id": "doYOc7FFTn9u"
      },
      "source": [
        "### Exemplo for aninhado\n",
        "\n",
        "```python\n",
        "for <variável1> in (valorinicial1, valorfinal1):\n",
        "  for <variável2> in (valorinicial2, valorfinal2):\n",
        "     comando1\n",
        "     comando2\n",
        "     ...\n",
        "     comandoN\n",
        "```"
      ]
    },
    {
      "cell_type": "code",
      "metadata": {
        "colab": {
          "base_uri": "https://localhost:8080/"
        },
        "id": "ASZeAaoKToI_",
        "outputId": "2dfe29c6-9990-4132-a41c-45c223fe78b3"
      },
      "source": [
        "# Primeiro for\n",
        "for i in range(10):\n",
        "    # Segundo for\n",
        "    for j in range(i):\n",
        "        print (i, end=\" \")\n",
        "    print()"
      ],
      "execution_count": 69,
      "outputs": [
        {
          "output_type": "stream",
          "name": "stdout",
          "text": [
            "\n",
            "1 \n",
            "2 2 \n",
            "3 3 3 \n",
            "4 4 4 4 \n",
            "5 5 5 5 5 \n",
            "6 6 6 6 6 6 \n",
            "7 7 7 7 7 7 7 \n",
            "8 8 8 8 8 8 8 8 \n",
            "9 9 9 9 9 9 9 9 9 \n"
          ]
        }
      ]
    },
    {
      "cell_type": "markdown",
      "metadata": {
        "id": "nNVK4NjtjOn6"
      },
      "source": [
        "###Exemplo for / para List Comprehension com condicional"
      ]
    },
    {
      "cell_type": "markdown",
      "metadata": {
        "id": "DrxUdhjhj6Je"
      },
      "source": [
        "Lista sem comprehension\n",
        "\n",
        "Ao programar, frequentemente queremos transformar um tipo de dado em outro. Como um exemplo simples, considere o seguinte código que localiza os nomes pares."
      ]
    },
    {
      "cell_type": "code",
      "metadata": {
        "colab": {
          "base_uri": "https://localhost:8080/"
        },
        "id": "bvZyOfo1jOn6",
        "outputId": "2e67cf73-bd74-421b-a956-244ddc3f93f7"
      },
      "source": [
        "for x in range(1,10):\n",
        "  if x%2==0:\n",
        "    print(x)"
      ],
      "execution_count": 70,
      "outputs": [
        {
          "output_type": "stream",
          "name": "stdout",
          "text": [
            "2\n",
            "4\n",
            "6\n",
            "8\n"
          ]
        }
      ]
    },
    {
      "cell_type": "markdown",
      "metadata": {
        "id": "RCvDddIPj-fN"
      },
      "source": [
        "Lista com comprehension\n",
        "\n"
      ]
    },
    {
      "cell_type": "code",
      "metadata": {
        "colab": {
          "base_uri": "https://localhost:8080/"
        },
        "id": "Avk4ccAujm5l",
        "outputId": "805e274e-58aa-4dbe-8a6a-f36360924279"
      },
      "source": [
        "numerosPares = [x for x in range(1,10) if x%2==0]\n",
        "print(numerosPares)"
      ],
      "execution_count": 71,
      "outputs": [
        {
          "output_type": "stream",
          "name": "stdout",
          "text": [
            "[2, 4, 6, 8]\n"
          ]
        }
      ]
    },
    {
      "cell_type": "markdown",
      "metadata": {
        "id": "zhAeH6TJLp-5"
      },
      "source": [
        "##For com else (lista vazia)\n",
        "\n",
        "Quando a lista está vazia entra no else."
      ]
    },
    {
      "cell_type": "code",
      "metadata": {
        "colab": {
          "base_uri": "https://localhost:8080/"
        },
        "id": "KM1Iv5ioLrqm",
        "outputId": "a27c792d-ef9c-47d5-9578-0ca43e9e331a"
      },
      "source": [
        "lista = []\n",
        "\n",
        "for x in lista:\n",
        "    print(\"dentro do loop\")\n",
        "else:\n",
        "    print(\"dentro do else\")"
      ],
      "execution_count": 72,
      "outputs": [
        {
          "output_type": "stream",
          "name": "stdout",
          "text": [
            "dentro do else\n"
          ]
        }
      ]
    },
    {
      "cell_type": "markdown",
      "metadata": {
        "id": "zF2nR0vHLwXk"
      },
      "source": [
        "##For com else (lista cheia)"
      ]
    },
    {
      "cell_type": "code",
      "metadata": {
        "colab": {
          "base_uri": "https://localhost:8080/"
        },
        "id": "GD_lwF1tL3ne",
        "outputId": "e6e1e795-6f75-47a2-8735-a90835e67dcb"
      },
      "source": [
        "lista = [1, 2]\n",
        "\n",
        "for x in lista:\n",
        "    print(\"dentro do loop\")\n",
        "else:\n",
        "    print(\"dentro do else\")"
      ],
      "execution_count": 73,
      "outputs": [
        {
          "output_type": "stream",
          "name": "stdout",
          "text": [
            "dentro do loop\n",
            "dentro do loop\n",
            "dentro do else\n"
          ]
        }
      ]
    },
    {
      "cell_type": "markdown",
      "metadata": {
        "id": "QNlFCFkqcBsH"
      },
      "source": [
        "##For com else (break)"
      ]
    },
    {
      "cell_type": "code",
      "metadata": {
        "colab": {
          "base_uri": "https://localhost:8080/"
        },
        "outputId": "0f5d886e-f5e4-49f5-f395-50e5ad4dd7ca",
        "id": "QufLbwKIcBsI"
      },
      "source": [
        "lista = [1, 2, 3, 4, 5, 6, 7, 8, 9, 10]\n",
        "\n",
        "for x in lista:\n",
        "    if x > 10:\n",
        "      print(\"Lista possui valores maiores qe 10\")\n",
        "      # Interrompe o for\n",
        "      break\n",
        "else:\n",
        "    #Depois de executar todo o for(sem break)\n",
        "    print(\"Lista não possui valores maiores qe 10\")"
      ],
      "execution_count": 74,
      "outputs": [
        {
          "output_type": "stream",
          "name": "stdout",
          "text": [
            "Lista não possui valores maiores qe 10\n"
          ]
        }
      ]
    },
    {
      "cell_type": "code",
      "source": [
        "lista = [1, 2, 3, 4, 5, 6, 7, 8, 9, 10]\n",
        "\n",
        "for x in lista:\n",
        "    if x > 5:\n",
        "      print(\"Lista possui valores maiores qe 5\")\n",
        "      # Interrompe o for\n",
        "      break\n",
        "else:\n",
        "    #Depois de executar todo o for(sem break)\n",
        "    print(\"Lista não possui valores maiores qe 5\")"
      ],
      "metadata": {
        "colab": {
          "base_uri": "https://localhost:8080/"
        },
        "id": "xQwkZW5qcX7f",
        "outputId": "de85b7b5-13dd-4d98-f337-514d6285f36f"
      },
      "execution_count": 75,
      "outputs": [
        {
          "output_type": "stream",
          "name": "stdout",
          "text": [
            "Lista possui valores maiores qe 5\n"
          ]
        }
      ]
    },
    {
      "cell_type": "markdown",
      "metadata": {
        "id": "SNxml-n9wYvX"
      },
      "source": [
        "# Tratamento de mensagens de log"
      ]
    },
    {
      "cell_type": "code",
      "metadata": {
        "id": "uP3uiJ4bwbEO"
      },
      "source": [
        "# Biblioteca de logging\n",
        "import logging\n",
        "\n",
        "# Formata a mensagem de login\n",
        "logging.basicConfig(format=\"%(asctime)s : %(levelname)s : %(message)s\", level=logging.INFO)\n",
        "\n",
        "#uso da mensagem sem parâmetro\n",
        "logging.info(\"Função criada!\")\n",
        "\n",
        "#uso da mensagem com parâmetro\n",
        "logging.info(\"Arquivo {0} baixado\".format(\"teste.txt\"))"
      ],
      "execution_count": 76,
      "outputs": []
    },
    {
      "cell_type": "markdown",
      "metadata": {
        "id": "ph1Lv7dFpUpm"
      },
      "source": [
        "#Comandos Bash\n",
        "\n",
        "Para executar uma linha de comando basta adicionar o caracter **\"!\"**(ponto de exclamação) no início.\n",
        "Como por exemplo \"!ls\", \"!pwd\" ou \"!echo\".\n",
        "\n",
        "Entretanto, ao usar o caracter **\"!\"**, a linha de comando é executada em uma sessão de terminal temporária. Alguns comandos como a navegação nos diretórios com o comando \"cd\" não surgem efeito se usados apenas localmente. Para esta situação devemos usar o caracter \"%\" no início com \"%cd\".\n",
        "\n",
        "Considere o sistema operacional onde será executado o comando."
      ]
    },
    {
      "cell_type": "markdown",
      "metadata": {
        "id": "fi1PA_yqrTbj"
      },
      "source": [
        "Jupyter inclue atralhos para as operações mais comuns, como os ls:"
      ]
    },
    {
      "cell_type": "code",
      "metadata": {
        "colab": {
          "base_uri": "https://localhost:8080/"
        },
        "id": "ob15HRD4raDj",
        "outputId": "00d3f0e4-8536-4689-af1e-0d7bb03b85a3"
      },
      "source": [
        "!ls /bin"
      ],
      "execution_count": 77,
      "outputs": [
        {
          "output_type": "stream",
          "name": "stdout",
          "text": [
            "'['\t\t\t\t      mknod\n",
            " 7z\t\t\t\t      mktemp\n",
            " 7za\t\t\t\t      mm2gv\n",
            " 7zr\t\t\t\t      more\n",
            " aclocal\t\t\t      mount\n",
            " aclocal-1.16\t\t\t      mountpoint\n",
            " acyclic\t\t\t      mpexpand\n",
            " add-apt-repository\t\t      mpic++\n",
            " addpart\t\t\t      mpicc\n",
            " addr2line\t\t\t      mpiCC\n",
            " aggregate_profile\t\t      mpicc.openmpi\n",
            " apropos\t\t\t      mpiCC.openmpi\n",
            " apt\t\t\t\t      mpic++.openmpi\n",
            " apt-add-repository\t\t      mpicxx\n",
            " apt-cache\t\t\t      mpicxx.openmpi\n",
            " apt-cdrom\t\t\t      mpiexec\n",
            " apt-config\t\t\t      mpiexec.openmpi\n",
            " apt-extracttemplates\t\t      mpif77\n",
            " apt-ftparchive\t\t\t      mpif77.openmpi\n",
            " apt-get\t\t\t      mpif90\n",
            " apt-key\t\t\t      mpif90.openmpi\n",
            " apt-mark\t\t\t      mpifort\n",
            " apt-sortpkgs\t\t\t      mpifort.openmpi\n",
            " ar\t\t\t\t      mpijavac\n",
            " arch\t\t\t\t      mpijavac.pl\n",
            " as\t\t\t\t      mpirun\n",
            " asan_symbolize\t\t\t      mpirun.openmpi\n",
            " asan_symbolize-14\t\t      mv\n",
            " autoconf\t\t\t      mysql_config\n",
            " autoheader\t\t\t      namei\n",
            " autom4te\t\t\t      nawk\n",
            " automake\t\t\t      nc-config\n",
            " automake-1.16\t\t\t      ncurses5-config\n",
            " autoreconf\t\t\t      ncurses6-config\n",
            " autoscan\t\t\t      ncursesw5-config\n",
            " autoupdate\t\t\t      ncursesw6-config\n",
            " awk\t\t\t\t      neato\n",
            " b2\t\t\t\t      neqn\n",
            " b2sum\t\t\t\t      networkctl\n",
            " base32\t\t\t\t      newgrp\n",
            " base64\t\t\t\t      nice\n",
            " basename\t\t\t      nisdomainname\n",
            " basenc\t\t\t\t      nl\n",
            " bash\t\t\t\t      nm\n",
            " bashbug\t\t\t      nns\n",
            " bcomps\t\t\t\t      nnsd\n",
            " bcp\t\t\t\t      nnslog\n",
            " bjam\t\t\t\t      nohup\n",
            " bootctl\t\t\t      nop\n",
            " browse\t\t\t\t      nproc\n",
            " bunzip2\t\t\t      nroff\n",
            " busctl\t\t\t\t      nsenter\n",
            " bzcat\t\t\t\t      nstat\n",
            " bzcmp\t\t\t\t      numfmt\n",
            " bzdiff\t\t\t\t      objcopy\n",
            " bzegrep\t\t\t      objdump\n",
            " bzexe\t\t\t\t      od\n",
            " bzfgrep\t\t\t      ogdi-config\n",
            " bzgrep\t\t\t\t      ompi-clean\n",
            " bzip2\t\t\t\t      ompi_info\n",
            " bzip2recover\t\t\t      ompi-server\n",
            " bzless\t\t\t\t      opalc++\n",
            " bzmore\t\t\t\t      opalcc\n",
            " c++\t\t\t\t      opal_wrapper\n",
            " c89\t\t\t\t      open\n",
            " c89-gcc\t\t\t      opencv_annotation\n",
            " c99\t\t\t\t      opencv_interactive-calibration\n",
            " c99-gcc\t\t\t      opencv_model_diagnostics\n",
            " captoinfo\t\t\t      opencv_version\n",
            " cat\t\t\t\t      opencv_visualisation\n",
            " catman\t\t\t\t      opencv_waldboost_detector\n",
            " cc\t\t\t\t      openssl\n",
            " ccomps\t\t\t\t      ortecc\n",
            " c++filt\t\t\t      orte-clean\n",
            " chage\t\t\t\t      orted\n",
            " chattr\t\t\t\t      orte-info\n",
            " chcon\t\t\t\t      orterun\n",
            " chfn\t\t\t\t      orte-server\n",
            " chgrp\t\t\t\t      osage\n",
            " chmod\t\t\t\t      oshc++\n",
            " choom\t\t\t\t      oshcc\n",
            " chown\t\t\t\t      oshCC\n",
            " chronic\t\t\t      oshcxx\n",
            " chrt\t\t\t\t      oshfort\n",
            " chsh\t\t\t\t      oshmem_info\n",
            " circo\t\t\t\t      oshrun\n",
            " cksum\t\t\t\t      p7zip\n",
            " clang\t\t\t\t      pack200\n",
            " clang++\t\t\t      page\n",
            " clang++-14\t\t\t      pager\n",
            " clang-14\t\t\t      pandoc\n",
            " clang-cpp-14\t\t\t      paperconf\n",
            " clear\t\t\t\t      parallel\n",
            " clear_console\t\t\t      partx\n",
            " clinfo\t\t\t\t      passwd\n",
            " cluster\t\t\t      paste\n",
            " cmake\t\t\t\t      patch\n",
            " cmp\t\t\t\t      patchwork\n",
            " col\t\t\t\t      pathchk\n",
            " colcrt\t\t\t\t      pcre2-config\n",
            " colrm\t\t\t\t      pcre-config\n",
            " column\t\t\t\t      pdb3\n",
            " combine\t\t\t      pdb3.10\n",
            " comm\t\t\t\t      pee\n",
            " compile_et\t\t\t      peekfd\n",
            " corelist\t\t\t      perl\n",
            " cp\t\t\t\t      perl5.34.0\n",
            " cpack\t\t\t\t      perl5.34-x86_64-linux-gnu\n",
            " cpan\t\t\t\t      perlbug\n",
            " cpan5.34-x86_64-linux-gnu\t      perldoc\n",
            " cpp\t\t\t\t      perlivp\n",
            " cpp-11\t\t\t\t      perlthanks\n",
            " c_rehash\t\t\t      pg_config\n",
            " csplit\t\t\t\t      pgrep\n",
            " ctest\t\t\t\t      pic\n",
            " ctstat\t\t\t\t      piconv\n",
            " curl\t\t\t\t      pidof\n",
            " curl-config\t\t\t      pidwait\n",
            " cut\t\t\t\t      pinentry\n",
            " cvtsudoers\t\t\t      pinentry-curses\n",
            " dash\t\t\t\t      pinky\n",
            " date\t\t\t\t      pkaction\n",
            " dbus-cleanup-sockets\t\t      pkcheck\n",
            " dbus-daemon\t\t\t      pkexec\n",
            " dbus-monitor\t\t\t      pkg-config\n",
            " dbus-run-session\t\t      pkgdata\n",
            " dbus-send\t\t\t      pkill\n",
            " dbus-update-activation-environment   pkttyagent\n",
            " dbus-uuidgen\t\t\t      pl2pm\n",
            " dd\t\t\t\t      pldd\n",
            " debconf\t\t\t      pmap\n",
            " debconf-apt-progress\t\t      pngfix\n",
            " debconf-communicate\t\t      png-fix-itxt\n",
            " debconf-copydb\t\t\t      pod2html\n",
            " debconf-escape\t\t\t      pod2man\n",
            " debconf-set-selections\t\t      pod2text\n",
            " debconf-show\t\t\t      pod2usage\n",
            " deb-systemd-helper\t\t      podchecker\n",
            " deb-systemd-invoke\t\t      pprof-symbolize\n",
            " delpart\t\t\t      pr\n",
            " derb\t\t\t\t      preconv\n",
            " df\t\t\t\t      prename\n",
            " dh_autotools-dev_restoreconfig       printenv\n",
            " dh_autotools-dev_updateconfig\t      printf\n",
            " diff\t\t\t\t      prlimit\n",
            " diff3\t\t\t\t      profile2mat\n",
            " diffimg\t\t\t      protoc\n",
            " dijkstra\t\t\t      prove\n",
            " dir\t\t\t\t      prtstat\n",
            " dircolors\t\t\t      prune\n",
            " dirmngr\t\t\t      ps\n",
            " dirmngr-client\t\t\t      pslog\n",
            " dirname\t\t\t      pstree\n",
            " dmesg\t\t\t\t      pstree.x11\n",
            " dnsdomainname\t\t\t      pt\n",
            " domainname\t\t\t      ptar\n",
            " dot\t\t\t\t      ptardiff\n",
            " dot2gxl\t\t\t      ptargrep\n",
            " dot_builtins\t\t\t      ptx\n",
            " dotty\t\t\t\t      pwd\n",
            " dpkg\t\t\t\t      pwdx\n",
            " dpkg-architecture\t\t      py3clean\n",
            " dpkg-buildflags\t\t      py3compile\n",
            " dpkg-buildpackage\t\t      py3versions\n",
            " dpkg-checkbuilddeps\t\t      pydoc3\n",
            " dpkg-deb\t\t\t      pydoc3.10\n",
            " dpkg-distaddfile\t\t      pygettext3\n",
            " dpkg-divert\t\t\t      pygettext3.10\n",
            " dpkg-genbuildinfo\t\t      python3\n",
            " dpkg-genchanges\t\t      python3.10\n",
            " dpkg-gencontrol\t\t      python3.10-config\n",
            " dpkg-gensymbols\t\t      python3-config\n",
            " dpkg-maintscript-helper\t      qt-faststart\n",
            " dpkg-mergechangelogs\t\t      quickbook\n",
            " dpkg-name\t\t\t      R\n",
            " dpkg-parsechangelog\t\t      ranlib\n",
            " dpkg-query\t\t\t      rbash\n",
            " dpkg-realpath\t\t\t      rcp\n",
            " dpkg-scanpackages\t\t      rdma\n",
            " dpkg-scansources\t\t      readelf\n",
            " dpkg-shlibdeps\t\t\t      readlink\n",
            " dpkg-source\t\t\t      realpath\n",
            " dpkg-split\t\t\t      rename\n",
            " dpkg-statoverride\t\t      renice\n",
            " dpkg-trigger\t\t\t      reset\n",
            " dpkg-vendor\t\t\t      resizepart\n",
            " dtplite\t\t\t      resolvectl\n",
            " du\t\t\t\t      rev\n",
            " dwp\t\t\t\t      rgrep\n",
            " echo\t\t\t\t      rlogin\n",
            " edgepaint\t\t\t      rm\n",
            " editor\t\t\t\t      rmdir\n",
            " egrep\t\t\t\t      rmic\n",
            " elfedit\t\t\t      rmid\n",
            " enc2xs\t\t\t\t      rmiregistry\n",
            " encguess\t\t\t      routef\n",
            " env\t\t\t\t      routel\n",
            " eqn\t\t\t\t      rpcgen\n",
            " errno\t\t\t\t      rrsync\n",
            " ex\t\t\t\t      Rscript\n",
            " expand\t\t\t\t      rsh\n",
            " expiry\t\t\t\t      rsync\n",
            " expr\t\t\t\t      rsync-ssl\n",
            " f77\t\t\t\t      rtstat\n",
            " f95\t\t\t\t      runcon\n",
            " factor\t\t\t\t      run-parts\n",
            " faillog\t\t\t      rview\n",
            " fallocate\t\t\t      rvim\n",
            " false\t\t\t\t      savelog\n",
            " fc-cache\t\t\t      sccmap\n",
            " fc-cat\t\t\t\t      scp\n",
            " fc-conflist\t\t\t      script\n",
            " fc-list\t\t\t      scriptlive\n",
            " fc-match\t\t\t      scriptreplay\n",
            " fc-pattern\t\t\t      sdiff\n",
            " fc-query\t\t\t      sed\n",
            " fc-scan\t\t\t      select-editor\n",
            " fc-validate\t\t\t      sensible-browser\n",
            " fdp\t\t\t\t      sensible-editor\n",
            " ffmpeg\t\t\t\t      sensible-pager\n",
            " ffplay\t\t\t\t      seq\n",
            " ffprobe\t\t\t      serialver\n",
            " fgrep\t\t\t\t      setarch\n",
            " file\t\t\t\t      setpriv\n",
            " file-rename\t\t\t      setsid\n",
            " fincore\t\t\t      setterm\n",
            " find\t\t\t\t      sfdp\n",
            " findmnt\t\t\t      sftp\n",
            " fio\t\t\t\t      sg\n",
            " fio2gnuplot\t\t\t      sh\n",
            " fio-btrace2fio\t\t\t      sha1sum\n",
            " fio-dedupe\t\t\t      sha224sum\n",
            " fio_generate_plots\t\t      sha256sum\n",
            " fio-genzipf\t\t\t      sha384sum\n",
            " fio_jsonplus_clat2csv\t\t      sha512sum\n",
            " fio-verify-state\t\t      shasum\n",
            " flock\t\t\t\t      shmemc++\n",
            " fmt\t\t\t\t      shmemcc\n",
            " fold\t\t\t\t      shmemCC\n",
            " free\t\t\t\t      shmemcxx\n",
            " funzip\t\t\t\t      shmemfort\n",
            " fuser\t\t\t\t      shmemrun\n",
            " fusermount\t\t\t      shred\n",
            " g++\t\t\t\t      shuf\n",
            " g++-11\t\t\t\t      size\n",
            " gapplication\t\t\t      skill\n",
            " gc\t\t\t\t      slabtop\n",
            " gcc\t\t\t\t      sleep\n",
            " gcc-11\t\t\t\t      slogin\n",
            " gcc-ar\t\t\t\t      snice\n",
            " gcc-ar-11\t\t\t      soelim\n",
            " gcc-nm\t\t\t\t      sort\n",
            " gcc-nm-11\t\t\t      splain\n",
            " gcc-ranlib\t\t\t      split\n",
            " gcc-ranlib-11\t\t\t      sponge\n",
            " gcov\t\t\t\t      ss\n",
            " gcov-11\t\t\t      ssh\n",
            " gcov-dump\t\t\t      ssh-add\n",
            " gcov-dump-11\t\t\t      ssh-agent\n",
            " gcov-tool\t\t\t      ssh-argv0\n",
            " gcov-tool-11\t\t\t      ssh-copy-id\n",
            " gdal-config\t\t\t      ssh-keygen\n",
            " gdbus\t\t\t\t      ssh-keyscan\n",
            " genbrk\t\t\t\t      stat\n",
            " gencat\t\t\t\t      stdbuf\n",
            " gencfu\t\t\t\t      streamzip\n",
            " gencnval\t\t\t      strings\n",
            " gendict\t\t\t      strip\n",
            " genfio\t\t\t\t      stty\n",
            " genrb\t\t\t\t      su\n",
            " geos-config\t\t\t      sudo\n",
            " geqn\t\t\t\t      sudoedit\n",
            " getconf\t\t\t      sudoreplay\n",
            " getent\t\t\t\t      sum\n",
            " getopt\t\t\t\t      sync\n",
            " gfortran\t\t\t      systemctl\n",
            " gfortran-11\t\t\t      systemd\n",
            " gio\t\t\t\t      systemd-analyze\n",
            " gio-querymodules\t\t      systemd-ask-password\n",
            " git\t\t\t\t      systemd-cat\n",
            " git-lfs\t\t\t      systemd-cgls\n",
            " git-receive-pack\t\t      systemd-cgtop\n",
            " git-shell\t\t\t      systemd-cryptenroll\n",
            " git-upload-archive\t\t      systemd-delta\n",
            " git-upload-pack\t\t      systemd-detect-virt\n",
            " glib-compile-schemas\t\t      systemd-escape\n",
            " gmake\t\t\t\t      systemd-id128\n",
            " gml2gv\t\t\t\t      systemd-inhibit\n",
            " gold\t\t\t\t      systemd-machine-id-setup\n",
            " google-pprof\t\t\t      systemd-mount\n",
            " gpasswd\t\t\t      systemd-notify\n",
            " gpg\t\t\t\t      systemd-path\n",
            " gpg2\t\t\t\t      systemd-run\n",
            " gpg-agent\t\t\t      systemd-socket-activate\n",
            " gpgcompose\t\t\t      systemd-stdio-bridge\n",
            " gpgconf\t\t\t      systemd-sysext\n",
            " gpg-connect-agent\t\t      systemd-sysusers\n",
            " gpgparsemail\t\t\t      systemd-tmpfiles\n",
            " gpgsm\t\t\t\t      systemd-tty-ask-password-agent\n",
            " gpgsplit\t\t\t      systemd-umount\n",
            " gpgtar\t\t\t\t      tabs\n",
            " gpgv\t\t\t\t      tac\n",
            " gpg-wks-server\t\t\t      tail\n",
            " gpg-zip\t\t\t      tar\n",
            " gpic\t\t\t\t      taskset\n",
            " gprof\t\t\t\t      tbl\n",
            " graphml2gv\t\t\t      tcldocstrip\n",
            " grep\t\t\t\t      tclsh\n",
            " gresource\t\t\t      tclsh8.6\n",
            " groff\t\t\t\t      tcltk-depends\n",
            " grog\t\t\t\t      tee\n",
            " grops\t\t\t\t      tempfile\n",
            " grotty\t\t\t\t      test\n",
            " groups\t\t\t\t      tic\n",
            " gsettings\t\t\t      timedatectl\n",
            " gtbl\t\t\t\t      timeout\n",
            " gtk-update-icon-cache\t\t      tload\n",
            " gunzip\t\t\t\t      tmux\n",
            " gv2gml\t\t\t\t      toe\n",
            " gv2gxl\t\t\t\t      top\n",
            " gvcolor\t\t\t      touch\n",
            " gvgen\t\t\t\t      tput\n",
            " gvmap\t\t\t\t      tr\n",
            " gvmap.sh\t\t\t      tred\n",
            " gvpack\t\t\t\t      troff\n",
            " gvpr\t\t\t\t      true\n",
            " gxl2dot\t\t\t      truncate\n",
            " gxl2gv\t\t\t\t      ts\n",
            " gzexe\t\t\t\t      tset\n",
            " gzip\t\t\t\t      tsort\n",
            " h2ph\t\t\t\t      tty\n",
            " h2xs\t\t\t\t      twopi\n",
            " h5c++\t\t\t\t      tzselect\n",
            " h5cc\t\t\t\t      ucf\n",
            " h5fc\t\t\t\t      ucfq\n",
            " hardlink\t\t\t      ucfr\n",
            " hd\t\t\t\t      uclampset\n",
            " head\t\t\t\t      uconv\n",
            " helpztags\t\t\t      ul\n",
            " hexdump\t\t\t      ulockmgr_server\n",
            " hostid\t\t\t\t      umount\n",
            " hostname\t\t\t      uname\n",
            " hostnamectl\t\t\t      uncompress\n",
            " i386\t\t\t\t      unexpand\n",
            " iconv\t\t\t\t      unflatten\n",
            " icuexportdata\t\t\t      uniq\n",
            " icuinfo\t\t\t      unlink\n",
            " id\t\t\t\t      unlzma\n",
            " ifdata\t\t\t\t      unpack200\n",
            " ifnames\t\t\t      unrar\n",
            " ifne\t\t\t\t      unrar-nonfree\n",
            " infocmp\t\t\t      unshare\n",
            " infotocap\t\t\t      unxz\n",
            " inspect\t\t\t      unzip\n",
            " install\t\t\t      unzipsfx\n",
            " instmodsh\t\t\t      update-alternatives\n",
            " ionice\t\t\t\t      update-mime-database\n",
            " ip\t\t\t\t      uptime\n",
            " ipcmk\t\t\t\t      users\n",
            " ipcrm\t\t\t\t      utmpdump\n",
            " ipcs\t\t\t\t      vdir\n",
            " ischroot\t\t\t      vi\n",
            " isutf8\t\t\t\t      vidir\n",
            " jaotc\t\t\t\t      view\n",
            " jar\t\t\t\t      vim\n",
            " jarsigner\t\t\t      vim.basic\n",
            " java\t\t\t\t      vimdiff\n",
            " javac\t\t\t\t      vimdot\n",
            " javadoc\t\t\t      vimtutor\n",
            " javap\t\t\t\t      vipe\n",
            " jcmd\t\t\t\t      vmstat\n",
            " jdb\t\t\t\t      w\n",
            " jdeprscan\t\t\t      wall\n",
            " jdeps\t\t\t\t      watch\n",
            " jexec\t\t\t\t      watchgnupg\n",
            " jfr\t\t\t\t      wc\n",
            " jhsdb\t\t\t\t      wdctl\n",
            " jimage\t\t\t\t      wget\n",
            " jinfo\t\t\t\t      whatis\n",
            " jjs\t\t\t\t      whereis\n",
            " jlink\t\t\t\t      which\n",
            " jmap\t\t\t\t      which.debianutils\n",
            " jmod\t\t\t\t      who\n",
            " join\t\t\t\t      whoami\n",
            " journalctl\t\t\t      wish\n",
            " jps\t\t\t\t      wish8.6\n",
            " jrunscript\t\t\t      write\n",
            " jshell\t\t\t\t      write.ul\n",
            " json_pp\t\t\t      X11\n",
            " jstack\t\t\t\t      x86_64\n",
            " jstat\t\t\t\t      x86_64-linux-gnu-addr2line\n",
            " jstatd\t\t\t\t      x86_64-linux-gnu-ar\n",
            " kbxutil\t\t\t      x86_64-linux-gnu-as\n",
            " kernel-install\t\t\t      x86_64-linux-gnu-c++filt\n",
            " keyring\t\t\t      x86_64-linux-gnu-cpp\n",
            " keytool\t\t\t      x86_64-linux-gnu-cpp-11\n",
            " kill\t\t\t\t      x86_64-linux-gnu-dwp\n",
            " killall\t\t\t      x86_64-linux-gnu-elfedit\n",
            " kmod\t\t\t\t      x86_64-linux-gnu-g++\n",
            " krb5-config\t\t\t      x86_64-linux-gnu-g++-11\n",
            " krb5-config.mit\t\t      x86_64-linux-gnu-gcc\n",
            " last\t\t\t\t      x86_64-linux-gnu-gcc-11\n",
            " lastb\t\t\t\t      x86_64-linux-gnu-gcc-ar\n",
            " lastlog\t\t\t      x86_64-linux-gnu-gcc-ar-11\n",
            " lcf\t\t\t\t      x86_64-linux-gnu-gcc-nm\n",
            " lckdo\t\t\t\t      x86_64-linux-gnu-gcc-nm-11\n",
            " ld\t\t\t\t      x86_64-linux-gnu-gcc-ranlib\n",
            " ld.bfd\t\t\t\t      x86_64-linux-gnu-gcc-ranlib-11\n",
            " ldd\t\t\t\t      x86_64-linux-gnu-gcov\n",
            " ld.gold\t\t\t      x86_64-linux-gnu-gcov-11\n",
            " lefty\t\t\t\t      x86_64-linux-gnu-gcov-dump\n",
            " less\t\t\t\t      x86_64-linux-gnu-gcov-dump-11\n",
            " lessecho\t\t\t      x86_64-linux-gnu-gcov-tool\n",
            " lessfile\t\t\t      x86_64-linux-gnu-gcov-tool-11\n",
            " lesskey\t\t\t      x86_64-linux-gnu-gfortran\n",
            " lesspipe\t\t\t      x86_64-linux-gnu-gfortran-11\n",
            " lexgrog\t\t\t      x86_64-linux-gnu-gold\n",
            " libnetcfg\t\t\t      x86_64-linux-gnu-gprof\n",
            " libpng16-config\t\t      x86_64-linux-gnu-ld\n",
            " libpng-config\t\t\t      x86_64-linux-gnu-ld.bfd\n",
            " link\t\t\t\t      x86_64-linux-gnu-ld.gold\n",
            " linux32\t\t\t      x86_64-linux-gnu-lto-dump-11\n",
            " linux64\t\t\t      x86_64-linux-gnu-nm\n",
            " ln\t\t\t\t      x86_64-linux-gnu-objcopy\n",
            " lneato\t\t\t\t      x86_64-linux-gnu-objdump\n",
            " lnstat\t\t\t\t      x86_64-linux-gnu-pkg-config\n",
            " locale\t\t\t\t      x86_64-linux-gnu-python3.10-config\n",
            " locale-check\t\t\t      x86_64-linux-gnu-python3-config\n",
            " localectl\t\t\t      x86_64-linux-gnu-ranlib\n",
            " localedef\t\t\t      x86_64-linux-gnu-readelf\n",
            " logger\t\t\t\t      x86_64-linux-gnu-size\n",
            " login\t\t\t\t      x86_64-linux-gnu-strings\n",
            " loginctl\t\t\t      x86_64-linux-gnu-strip\n",
            " logname\t\t\t      x86_64-pc-linux-gnu-pkg-config\n",
            " look\t\t\t\t      xargs\n",
            " ls\t\t\t\t      xauth\n",
            " lsattr\t\t\t\t      xdg-desktop-icon\n",
            " lsblk\t\t\t\t      xdg-desktop-menu\n",
            " lsb_release\t\t\t      xdg-email\n",
            " lscpu\t\t\t\t      xdg-icon-resource\n",
            " lsipc\t\t\t\t      xdg-mime\n",
            " lslocks\t\t\t      xdg-open\n",
            " lslogins\t\t\t      xdg-screensaver\n",
            " lsmem\t\t\t\t      xdg-settings\n",
            " lsmod\t\t\t\t      xml2-config\n",
            " lsns\t\t\t\t      xsel\n",
            " lsof\t\t\t\t      xsubpp\n",
            " lspgpot\t\t\t      xxd\n",
            " lto-dump-11\t\t\t      xz\n",
            " lzcat\t\t\t\t      xzcat\n",
            " lzcmp\t\t\t\t      xzcmp\n",
            " lzdiff\t\t\t\t      xzdiff\n",
            " lzegrep\t\t\t      xzegrep\n",
            " lzfgrep\t\t\t      xzfgrep\n",
            " lzgrep\t\t\t\t      xzgrep\n",
            " lzless\t\t\t\t      xzless\n",
            " lzma\t\t\t\t      xzmore\n",
            " lzmainfo\t\t\t      yes\n",
            " lzmore\t\t\t\t      ypdomainname\n",
            " m4\t\t\t\t      zcat\n",
            " make\t\t\t\t      zcmp\n",
            " makeconv\t\t\t      zdiff\n",
            " make-first-existing-target\t      zdump\n",
            " man\t\t\t\t      zegrep\n",
            " mandb\t\t\t\t      zfgrep\n",
            " manpath\t\t\t      zforce\n",
            " man.REAL\t\t\t      zgrep\n",
            " man-recode\t\t\t      zip\n",
            " mawk\t\t\t\t      zipcloak\n",
            " mcookie\t\t\t      zipdetails\n",
            " md5sum\t\t\t\t      zipgrep\n",
            " md5sum.textutils\t\t      zipinfo\n",
            " mesg\t\t\t\t      zipnote\n",
            " migrate-pubring-from-classic-gpg     zipsplit\n",
            " mingle\t\t\t\t      zless\n",
            " mispipe\t\t\t      zmore\n",
            " mkdir\t\t\t\t      znew\n",
            " mkfifo\t\t\t\t      zrun\n"
          ]
        }
      ]
    },
    {
      "cell_type": "markdown",
      "metadata": {
        "id": "mtN0U84-vIwj"
      },
      "source": [
        "## Informações da máquina\n",
        "https://medium.com/@italojs/gpu-tpu-de-gra%C3%A7a-na-web-onde-como-e511780294c7"
      ]
    },
    {
      "cell_type": "markdown",
      "metadata": {
        "id": "_pq3FkFR3O6X"
      },
      "source": [
        "Dados da CPU"
      ]
    },
    {
      "cell_type": "code",
      "metadata": {
        "colab": {
          "base_uri": "https://localhost:8080/"
        },
        "id": "AEWISUG_3Rdr",
        "outputId": "3c6092ef-1f31-4080-d731-8dc8bec5ba85"
      },
      "source": [
        "!lscpu"
      ],
      "execution_count": 78,
      "outputs": [
        {
          "output_type": "stream",
          "name": "stdout",
          "text": [
            "Architecture:            x86_64\n",
            "  CPU op-mode(s):        32-bit, 64-bit\n",
            "  Address sizes:         46 bits physical, 48 bits virtual\n",
            "  Byte Order:            Little Endian\n",
            "CPU(s):                  2\n",
            "  On-line CPU(s) list:   0,1\n",
            "Vendor ID:               GenuineIntel\n",
            "  Model name:            Intel(R) Xeon(R) CPU @ 2.20GHz\n",
            "    CPU family:          6\n",
            "    Model:               79\n",
            "    Thread(s) per core:  2\n",
            "    Core(s) per socket:  1\n",
            "    Socket(s):           1\n",
            "    Stepping:            0\n",
            "    BogoMIPS:            4399.99\n",
            "    Flags:               fpu vme de pse tsc msr pae mce cx8 apic sep mtrr pge mca cmov pat pse36 clf\n",
            "                         lush mmx fxsr sse sse2 ss ht syscall nx pdpe1gb rdtscp lm constant_tsc rep_\n",
            "                         good nopl xtopology nonstop_tsc cpuid tsc_known_freq pni pclmulqdq ssse3 fm\n",
            "                         a cx16 pcid sse4_1 sse4_2 x2apic movbe popcnt aes xsave avx f16c rdrand hyp\n",
            "                         ervisor lahf_lm abm 3dnowprefetch invpcid_single ssbd ibrs ibpb stibp fsgsb\n",
            "                         ase tsc_adjust bmi1 hle avx2 smep bmi2 erms invpcid rtm rdseed adx smap xsa\n",
            "                         veopt arat md_clear arch_capabilities\n",
            "Virtualization features: \n",
            "  Hypervisor vendor:     KVM\n",
            "  Virtualization type:   full\n",
            "Caches (sum of all):     \n",
            "  L1d:                   32 KiB (1 instance)\n",
            "  L1i:                   32 KiB (1 instance)\n",
            "  L2:                    256 KiB (1 instance)\n",
            "  L3:                    55 MiB (1 instance)\n",
            "NUMA:                    \n",
            "  NUMA node(s):          1\n",
            "  NUMA node0 CPU(s):     0,1\n",
            "Vulnerabilities:         \n",
            "  Gather data sampling:  Not affected\n",
            "  Itlb multihit:         Not affected\n",
            "  L1tf:                  Mitigation; PTE Inversion\n",
            "  Mds:                   Vulnerable; SMT Host state unknown\n",
            "  Meltdown:              Vulnerable\n",
            "  Mmio stale data:       Vulnerable\n",
            "  Retbleed:              Vulnerable\n",
            "  Spec rstack overflow:  Not affected\n",
            "  Spec store bypass:     Vulnerable\n",
            "  Spectre v1:            Vulnerable: __user pointer sanitization and usercopy barriers only; no swap\n",
            "                         gs barriers\n",
            "  Spectre v2:            Vulnerable, IBPB: disabled, STIBP: disabled, PBRSB-eIBRS: Not affected\n",
            "  Srbds:                 Not affected\n",
            "  Tsx async abort:       Vulnerable\n"
          ]
        }
      ]
    },
    {
      "cell_type": "markdown",
      "metadata": {
        "id": "pGVepIwH0PMp"
      },
      "source": [
        "Dados das CPUs"
      ]
    },
    {
      "cell_type": "code",
      "metadata": {
        "colab": {
          "base_uri": "https://localhost:8080/"
        },
        "id": "pPdf46960QqZ",
        "outputId": "4dc9d067-3fda-4c99-9a6e-be0d451a9b52"
      },
      "source": [
        "!cat /proc/cpuinfo"
      ],
      "execution_count": 79,
      "outputs": [
        {
          "output_type": "stream",
          "name": "stdout",
          "text": [
            "processor\t: 0\n",
            "vendor_id\t: GenuineIntel\n",
            "cpu family\t: 6\n",
            "model\t\t: 79\n",
            "model name\t: Intel(R) Xeon(R) CPU @ 2.20GHz\n",
            "stepping\t: 0\n",
            "microcode\t: 0xffffffff\n",
            "cpu MHz\t\t: 2199.998\n",
            "cache size\t: 56320 KB\n",
            "physical id\t: 0\n",
            "siblings\t: 2\n",
            "core id\t\t: 0\n",
            "cpu cores\t: 1\n",
            "apicid\t\t: 0\n",
            "initial apicid\t: 0\n",
            "fpu\t\t: yes\n",
            "fpu_exception\t: yes\n",
            "cpuid level\t: 13\n",
            "wp\t\t: yes\n",
            "flags\t\t: fpu vme de pse tsc msr pae mce cx8 apic sep mtrr pge mca cmov pat pse36 clflush mmx fxsr sse sse2 ss ht syscall nx pdpe1gb rdtscp lm constant_tsc rep_good nopl xtopology nonstop_tsc cpuid tsc_known_freq pni pclmulqdq ssse3 fma cx16 pcid sse4_1 sse4_2 x2apic movbe popcnt aes xsave avx f16c rdrand hypervisor lahf_lm abm 3dnowprefetch invpcid_single ssbd ibrs ibpb stibp fsgsbase tsc_adjust bmi1 hle avx2 smep bmi2 erms invpcid rtm rdseed adx smap xsaveopt arat md_clear arch_capabilities\n",
            "bugs\t\t: cpu_meltdown spectre_v1 spectre_v2 spec_store_bypass l1tf mds swapgs taa mmio_stale_data retbleed\n",
            "bogomips\t: 4399.99\n",
            "clflush size\t: 64\n",
            "cache_alignment\t: 64\n",
            "address sizes\t: 46 bits physical, 48 bits virtual\n",
            "power management:\n",
            "\n",
            "processor\t: 1\n",
            "vendor_id\t: GenuineIntel\n",
            "cpu family\t: 6\n",
            "model\t\t: 79\n",
            "model name\t: Intel(R) Xeon(R) CPU @ 2.20GHz\n",
            "stepping\t: 0\n",
            "microcode\t: 0xffffffff\n",
            "cpu MHz\t\t: 2199.998\n",
            "cache size\t: 56320 KB\n",
            "physical id\t: 0\n",
            "siblings\t: 2\n",
            "core id\t\t: 0\n",
            "cpu cores\t: 1\n",
            "apicid\t\t: 1\n",
            "initial apicid\t: 1\n",
            "fpu\t\t: yes\n",
            "fpu_exception\t: yes\n",
            "cpuid level\t: 13\n",
            "wp\t\t: yes\n",
            "flags\t\t: fpu vme de pse tsc msr pae mce cx8 apic sep mtrr pge mca cmov pat pse36 clflush mmx fxsr sse sse2 ss ht syscall nx pdpe1gb rdtscp lm constant_tsc rep_good nopl xtopology nonstop_tsc cpuid tsc_known_freq pni pclmulqdq ssse3 fma cx16 pcid sse4_1 sse4_2 x2apic movbe popcnt aes xsave avx f16c rdrand hypervisor lahf_lm abm 3dnowprefetch invpcid_single ssbd ibrs ibpb stibp fsgsbase tsc_adjust bmi1 hle avx2 smep bmi2 erms invpcid rtm rdseed adx smap xsaveopt arat md_clear arch_capabilities\n",
            "bugs\t\t: cpu_meltdown spectre_v1 spectre_v2 spec_store_bypass l1tf mds swapgs taa mmio_stale_data retbleed\n",
            "bogomips\t: 4399.99\n",
            "clflush size\t: 64\n",
            "cache_alignment\t: 64\n",
            "address sizes\t: 46 bits physical, 48 bits virtual\n",
            "power management:\n",
            "\n"
          ]
        }
      ]
    },
    {
      "cell_type": "markdown",
      "metadata": {
        "id": "aTs1kdPTyYTP"
      },
      "source": [
        "Qual GPU está sendo utilizada.<br>\n",
        "https://medium.com/deep-learning-turkey/google-colab-free-gpu-tutorial-e113627b9f5d\n"
      ]
    },
    {
      "cell_type": "code",
      "metadata": {
        "colab": {
          "base_uri": "https://localhost:8080/"
        },
        "id": "yT5-lyWkybd0",
        "outputId": "cb662272-1a24-4617-ec43-99cdc34c46b4"
      },
      "source": [
        "#seleciona a versão do tensorflow\n",
        "%tensorflow_version 2.x\n",
        "\n",
        "#exibe as informações da gpu\n",
        "from tensorflow.python.client import device_lib\n",
        "device_lib.list_local_devices()"
      ],
      "execution_count": 80,
      "outputs": [
        {
          "output_type": "stream",
          "name": "stdout",
          "text": [
            "Colab only includes TensorFlow 2.x; %tensorflow_version has no effect.\n"
          ]
        },
        {
          "output_type": "execute_result",
          "data": {
            "text/plain": [
              "[name: \"/device:CPU:0\"\n",
              " device_type: \"CPU\"\n",
              " memory_limit: 268435456\n",
              " locality {\n",
              " }\n",
              " incarnation: 10763156868261745427\n",
              " xla_global_id: -1]"
            ]
          },
          "metadata": {},
          "execution_count": 80
        }
      ]
    },
    {
      "cell_type": "code",
      "metadata": {
        "colab": {
          "base_uri": "https://localhost:8080/",
          "height": 35
        },
        "id": "dE5GXR6XiriH",
        "outputId": "6ffc6d05-779c-4618-f71d-7c599e4a9dc2"
      },
      "source": [
        "import tensorflow as tf\n",
        "tf.__version__"
      ],
      "execution_count": 81,
      "outputs": [
        {
          "output_type": "execute_result",
          "data": {
            "text/plain": [
              "'2.15.0'"
            ],
            "application/vnd.google.colaboratory.intrinsic+json": {
              "type": "string"
            }
          },
          "metadata": {},
          "execution_count": 81
        }
      ]
    },
    {
      "cell_type": "markdown",
      "metadata": {
        "id": "jizdOi1bz0Cr"
      },
      "source": [
        "Quantidade de memória"
      ]
    },
    {
      "cell_type": "code",
      "metadata": {
        "colab": {
          "base_uri": "https://localhost:8080/"
        },
        "id": "kF1eDgNqz10N",
        "outputId": "9856cc00-3eb7-42c7-b7f3-592e89af359d"
      },
      "source": [
        "!cat /proc/meminfo"
      ],
      "execution_count": 82,
      "outputs": [
        {
          "output_type": "stream",
          "name": "stdout",
          "text": [
            "MemTotal:       13290480 kB\n",
            "MemFree:         8448792 kB\n",
            "MemAvailable:   12102128 kB\n",
            "Buffers:          332248 kB\n",
            "Cached:          3506556 kB\n",
            "SwapCached:            0 kB\n",
            "Active:           642080 kB\n",
            "Inactive:        3969060 kB\n",
            "Active(anon):       1044 kB\n",
            "Inactive(anon):   772672 kB\n",
            "Active(file):     641036 kB\n",
            "Inactive(file):  3196388 kB\n",
            "Unevictable:           4 kB\n",
            "Mlocked:               4 kB\n",
            "SwapTotal:             0 kB\n",
            "SwapFree:              0 kB\n",
            "Dirty:              9484 kB\n",
            "Writeback:             0 kB\n",
            "AnonPages:        771428 kB\n",
            "Mapped:           582180 kB\n",
            "Shmem:              1376 kB\n",
            "KReclaimable:     113704 kB\n",
            "Slab:             149588 kB\n",
            "SReclaimable:     113704 kB\n",
            "SUnreclaim:        35884 kB\n",
            "KernelStack:        4540 kB\n",
            "PageTables:        12428 kB\n",
            "SecPageTables:         0 kB\n",
            "NFS_Unstable:          0 kB\n",
            "Bounce:                0 kB\n",
            "WritebackTmp:          0 kB\n",
            "CommitLimit:     6645240 kB\n",
            "Committed_AS:    2355572 kB\n",
            "VmallocTotal:   34359738367 kB\n",
            "VmallocUsed:       10800 kB\n",
            "VmallocChunk:          0 kB\n",
            "Percpu:             1088 kB\n",
            "HardwareCorrupted:     0 kB\n",
            "AnonHugePages:      2048 kB\n",
            "ShmemHugePages:        0 kB\n",
            "ShmemPmdMapped:        0 kB\n",
            "FileHugePages:         0 kB\n",
            "FilePmdMapped:         0 kB\n",
            "CmaTotal:              0 kB\n",
            "CmaFree:               0 kB\n",
            "Unaccepted:            0 kB\n",
            "HugePages_Total:       0\n",
            "HugePages_Free:        0\n",
            "HugePages_Rsvd:        0\n",
            "HugePages_Surp:        0\n",
            "Hugepagesize:       2048 kB\n",
            "Hugetlb:               0 kB\n",
            "DirectMap4k:       56120 kB\n",
            "DirectMap2M:     4134912 kB\n",
            "DirectMap1G:    11534336 kB\n"
          ]
        }
      ]
    },
    {
      "cell_type": "markdown",
      "metadata": {
        "id": "-9Q36nbXv37R"
      },
      "source": [
        "Dados do Sistema Operacional"
      ]
    },
    {
      "cell_type": "code",
      "metadata": {
        "colab": {
          "base_uri": "https://localhost:8080/"
        },
        "id": "_kVoPBb-v6uB",
        "outputId": "6b2aa1a7-b5b4-40fc-ae96-259a55974fd0"
      },
      "source": [
        "!cat /etc/os-release"
      ],
      "execution_count": 83,
      "outputs": [
        {
          "output_type": "stream",
          "name": "stdout",
          "text": [
            "PRETTY_NAME=\"Ubuntu 22.04.3 LTS\"\n",
            "NAME=\"Ubuntu\"\n",
            "VERSION_ID=\"22.04\"\n",
            "VERSION=\"22.04.3 LTS (Jammy Jellyfish)\"\n",
            "VERSION_CODENAME=jammy\n",
            "ID=ubuntu\n",
            "ID_LIKE=debian\n",
            "HOME_URL=\"https://www.ubuntu.com/\"\n",
            "SUPPORT_URL=\"https://help.ubuntu.com/\"\n",
            "BUG_REPORT_URL=\"https://bugs.launchpad.net/ubuntu/\"\n",
            "PRIVACY_POLICY_URL=\"https://www.ubuntu.com/legal/terms-and-policies/privacy-policy\"\n",
            "UBUNTU_CODENAME=jammy\n"
          ]
        }
      ]
    },
    {
      "cell_type": "markdown",
      "metadata": {
        "id": "sEgR7FQIu1x1"
      },
      "source": [
        "Tamanho do disco"
      ]
    },
    {
      "cell_type": "code",
      "metadata": {
        "colab": {
          "base_uri": "https://localhost:8080/"
        },
        "id": "xnG2d1n2u-ll",
        "outputId": "a66b1e2b-99f3-4161-b1f1-daf9eb4f1e27"
      },
      "source": [
        "!df -k ."
      ],
      "execution_count": 84,
      "outputs": [
        {
          "output_type": "stream",
          "name": "stdout",
          "text": [
            "Filesystem     1K-blocks     Used Available Use% Mounted on\n",
            "overlay        112947452 27446700  85484368  25% /\n"
          ]
        }
      ]
    },
    {
      "cell_type": "markdown",
      "metadata": {
        "id": "UnONs-014Emq"
      },
      "source": [
        "Tamanho dos diretórios"
      ]
    },
    {
      "cell_type": "code",
      "metadata": {
        "colab": {
          "base_uri": "https://localhost:8080/"
        },
        "id": "fP7QDSIH4GkF",
        "outputId": "1a459c6c-81ef-4b07-eef3-91f823b7ed86"
      },
      "source": [
        "!df -h"
      ],
      "execution_count": 85,
      "outputs": [
        {
          "output_type": "stream",
          "name": "stdout",
          "text": [
            "Filesystem      Size  Used Avail Use% Mounted on\n",
            "overlay         108G   27G   82G  25% /\n",
            "tmpfs            64M     0   64M   0% /dev\n",
            "shm             5.8G     0  5.8G   0% /dev/shm\n",
            "/dev/root       2.0G  1.1G  849M  57% /usr/sbin/docker-init\n",
            "tmpfs           6.4G  116K  6.4G   1% /var/colab\n",
            "/dev/sda1        70G   43G   28G  62% /kaggle/input\n",
            "tmpfs           6.4G     0  6.4G   0% /proc/acpi\n",
            "tmpfs           6.4G     0  6.4G   0% /proc/scsi\n",
            "tmpfs           6.4G     0  6.4G   0% /sys/firmware\n"
          ]
        }
      ]
    },
    {
      "cell_type": "markdown",
      "metadata": {
        "id": "9NZh26yI-Zt2"
      },
      "source": [
        "shell interativo\n",
        "\n",
        "Não há terminal interativo embutido no Colab. Mas você pode usar o comando bash para experimentar comandos shell interativamente. Basta executar este comando e você obterá uma entrada interativa.\n",
        "\n",
        "Descomente a linha da célula para usar o shel interativo.\n",
        "\n"
      ]
    },
    {
      "cell_type": "code",
      "metadata": {
        "id": "14Koj0ha-Z6G"
      },
      "source": [
        "#!bash"
      ],
      "execution_count": 86,
      "outputs": []
    },
    {
      "cell_type": "markdown",
      "metadata": {
        "id": "_rR4E0gVcMP-"
      },
      "source": [
        "Lista o conteúdo de um diretório"
      ]
    },
    {
      "cell_type": "code",
      "metadata": {
        "colab": {
          "base_uri": "https://localhost:8080/"
        },
        "id": "DfALVqDHcOzP",
        "outputId": "6adace19-d406-4f59-9478-34fac4923c42"
      },
      "source": [
        "!ls"
      ],
      "execution_count": 87,
      "outputs": [
        {
          "output_type": "stream",
          "name": "stdout",
          "text": [
            "sample_data\n"
          ]
        }
      ]
    },
    {
      "cell_type": "markdown",
      "metadata": {
        "id": "FX63sT_HcP24"
      },
      "source": [
        "Entrando em um diretório\n",
        "\n",
        "1- Vai para o diretório raiz.\n",
        "\n",
        "2 - Lista o diretório\n",
        "\n",
        "3- Entra no diretório `content`.\n"
      ]
    },
    {
      "cell_type": "code",
      "metadata": {
        "colab": {
          "base_uri": "https://localhost:8080/"
        },
        "id": "7eXB8mC-c9Ze",
        "outputId": "5c6b4d6d-b52e-48aa-f77d-85cac1cc8c6f"
      },
      "source": [
        "%cd /\n",
        "!ls\n",
        "%cd /content/"
      ],
      "execution_count": 88,
      "outputs": [
        {
          "output_type": "stream",
          "name": "stdout",
          "text": [
            "/\n",
            "bin\t\t\t    datalab  kaggle  libx32\t\t       opt   sbin  tools\n",
            "boot\t\t\t    dev      lib     media\t\t       proc  srv   usr\n",
            "content\t\t\t    etc      lib32   mnt\t\t       root  sys   var\n",
            "cuda-keyring_1.0-1_all.deb  home     lib64   NGC-DL-CONTAINER-LICENSE  run   tmp\n",
            "/content\n"
          ]
        }
      ]
    },
    {
      "cell_type": "markdown",
      "metadata": {
        "id": "7riyQA9wdLUs"
      },
      "source": [
        "O comando \"%%writefile nomeArquivo\" no início da célula salva o conteúdo no arquivo nomeArquivo."
      ]
    },
    {
      "cell_type": "code",
      "metadata": {
        "colab": {
          "base_uri": "https://localhost:8080/"
        },
        "id": "ZHMqoLEBdN8c",
        "outputId": "64d1f123-58de-4187-a3f8-de1b20643f88"
      },
      "source": [
        "%%writefile arquivo.txt\n",
        "Alo Mundo!"
      ],
      "execution_count": 89,
      "outputs": [
        {
          "output_type": "stream",
          "name": "stdout",
          "text": [
            "Writing arquivo.txt\n"
          ]
        }
      ]
    },
    {
      "cell_type": "code",
      "metadata": {
        "colab": {
          "base_uri": "https://localhost:8080/"
        },
        "id": "9PbyMDZCfhtK",
        "outputId": "789d4f30-2f4d-4790-8b2f-440c003037c4"
      },
      "source": [
        "!cat arquivo.txt"
      ],
      "execution_count": 90,
      "outputs": [
        {
          "output_type": "stream",
          "name": "stdout",
          "text": [
            "Alo Mundo!\n"
          ]
        }
      ]
    },
    {
      "cell_type": "markdown",
      "metadata": {
        "id": "p4xA41jV_O27"
      },
      "source": [
        "# Traduzindo Texto\n",
        "\n"
      ]
    },
    {
      "cell_type": "markdown",
      "metadata": {
        "id": "JGJFuBkxP3si"
      },
      "source": [
        "## Google Translator\n",
        "https://pypi.org/project/googletrans/\n"
      ]
    },
    {
      "cell_type": "code",
      "metadata": {
        "colab": {
          "base_uri": "https://localhost:8080/",
          "height": 951
        },
        "id": "5YXOnnF9F-Bb",
        "outputId": "8cb945a1-9c30-4172-a2c0-ae4fc49b6fe6"
      },
      "source": [
        "#!pip install googletrans\n",
        "!pip install googletrans==3.1.0a0 #Versão específica que funciona"
      ],
      "execution_count": 91,
      "outputs": [
        {
          "output_type": "stream",
          "name": "stdout",
          "text": [
            "Collecting googletrans==3.1.0a0\n",
            "  Downloading googletrans-3.1.0a0.tar.gz (19 kB)\n",
            "  Preparing metadata (setup.py) ... \u001b[?25l\u001b[?25hdone\n",
            "Collecting httpx==0.13.3 (from googletrans==3.1.0a0)\n",
            "  Downloading httpx-0.13.3-py3-none-any.whl (55 kB)\n",
            "\u001b[2K     \u001b[90m━━━━━━━━━━━━━━━━━━━━━━━━━━━━━━━━━━━━━━━━\u001b[0m \u001b[32m55.1/55.1 kB\u001b[0m \u001b[31m2.5 MB/s\u001b[0m eta \u001b[36m0:00:00\u001b[0m\n",
            "\u001b[?25hRequirement already satisfied: certifi in /usr/local/lib/python3.10/dist-packages (from httpx==0.13.3->googletrans==3.1.0a0) (2024.2.2)\n",
            "Collecting hstspreload (from httpx==0.13.3->googletrans==3.1.0a0)\n",
            "  Downloading hstspreload-2024.4.1-py3-none-any.whl (1.1 MB)\n",
            "\u001b[2K     \u001b[90m━━━━━━━━━━━━━━━━━━━━━━━━━━━━━━━━━━━━━━━━\u001b[0m \u001b[32m1.1/1.1 MB\u001b[0m \u001b[31m36.8 MB/s\u001b[0m eta \u001b[36m0:00:00\u001b[0m\n",
            "\u001b[?25hRequirement already satisfied: sniffio in /usr/local/lib/python3.10/dist-packages (from httpx==0.13.3->googletrans==3.1.0a0) (1.3.1)\n",
            "Collecting chardet==3.* (from httpx==0.13.3->googletrans==3.1.0a0)\n",
            "  Downloading chardet-3.0.4-py2.py3-none-any.whl (133 kB)\n",
            "\u001b[2K     \u001b[90m━━━━━━━━━━━━━━━━━━━━━━━━━━━━━━━━━━━━━━━━\u001b[0m \u001b[32m133.4/133.4 kB\u001b[0m \u001b[31m14.6 MB/s\u001b[0m eta \u001b[36m0:00:00\u001b[0m\n",
            "\u001b[?25hCollecting idna==2.* (from httpx==0.13.3->googletrans==3.1.0a0)\n",
            "  Downloading idna-2.10-py2.py3-none-any.whl (58 kB)\n",
            "\u001b[2K     \u001b[90m━━━━━━━━━━━━━━━━━━━━━━━━━━━━━━━━━━━━━━━━\u001b[0m \u001b[32m58.8/58.8 kB\u001b[0m \u001b[31m7.1 MB/s\u001b[0m eta \u001b[36m0:00:00\u001b[0m\n",
            "\u001b[?25hCollecting rfc3986<2,>=1.3 (from httpx==0.13.3->googletrans==3.1.0a0)\n",
            "  Downloading rfc3986-1.5.0-py2.py3-none-any.whl (31 kB)\n",
            "Collecting httpcore==0.9.* (from httpx==0.13.3->googletrans==3.1.0a0)\n",
            "  Downloading httpcore-0.9.1-py3-none-any.whl (42 kB)\n",
            "\u001b[2K     \u001b[90m━━━━━━━━━━━━━━━━━━━━━━━━━━━━━━━━━━━━━━━━\u001b[0m \u001b[32m42.6/42.6 kB\u001b[0m \u001b[31m5.2 MB/s\u001b[0m eta \u001b[36m0:00:00\u001b[0m\n",
            "\u001b[?25hCollecting h11<0.10,>=0.8 (from httpcore==0.9.*->httpx==0.13.3->googletrans==3.1.0a0)\n",
            "  Downloading h11-0.9.0-py2.py3-none-any.whl (53 kB)\n",
            "\u001b[2K     \u001b[90m━━━━━━━━━━━━━━━━━━━━━━━━━━━━━━━━━━━━━━━━\u001b[0m \u001b[32m53.6/53.6 kB\u001b[0m \u001b[31m6.6 MB/s\u001b[0m eta \u001b[36m0:00:00\u001b[0m\n",
            "\u001b[?25hCollecting h2==3.* (from httpcore==0.9.*->httpx==0.13.3->googletrans==3.1.0a0)\n",
            "  Downloading h2-3.2.0-py2.py3-none-any.whl (65 kB)\n",
            "\u001b[2K     \u001b[90m━━━━━━━━━━━━━━━━━━━━━━━━━━━━━━━━━━━━━━━━\u001b[0m \u001b[32m65.0/65.0 kB\u001b[0m \u001b[31m8.1 MB/s\u001b[0m eta \u001b[36m0:00:00\u001b[0m\n",
            "\u001b[?25hCollecting hyperframe<6,>=5.2.0 (from h2==3.*->httpcore==0.9.*->httpx==0.13.3->googletrans==3.1.0a0)\n",
            "  Downloading hyperframe-5.2.0-py2.py3-none-any.whl (12 kB)\n",
            "Collecting hpack<4,>=3.0 (from h2==3.*->httpcore==0.9.*->httpx==0.13.3->googletrans==3.1.0a0)\n",
            "  Downloading hpack-3.0.0-py2.py3-none-any.whl (38 kB)\n",
            "Building wheels for collected packages: googletrans\n",
            "  Building wheel for googletrans (setup.py) ... \u001b[?25l\u001b[?25hdone\n",
            "  Created wheel for googletrans: filename=googletrans-3.1.0a0-py3-none-any.whl size=16353 sha256=b8568914ab48d207fe7e21414bfa3966df9d506e31b03521bf7ea4c55290819d\n",
            "  Stored in directory: /root/.cache/pip/wheels/50/5d/3c/8477d0af4ca2b8b1308812c09f1930863caeebc762fe265a95\n",
            "Successfully built googletrans\n",
            "Installing collected packages: rfc3986, hyperframe, hpack, h11, chardet, idna, hstspreload, h2, httpcore, httpx, googletrans\n",
            "  Attempting uninstall: chardet\n",
            "    Found existing installation: chardet 5.2.0\n",
            "    Uninstalling chardet-5.2.0:\n",
            "      Successfully uninstalled chardet-5.2.0\n",
            "  Attempting uninstall: idna\n",
            "    Found existing installation: idna 3.6\n",
            "    Uninstalling idna-3.6:\n",
            "      Successfully uninstalled idna-3.6\n",
            "Successfully installed chardet-3.0.4 googletrans-3.1.0a0 h11-0.9.0 h2-3.2.0 hpack-3.0.0 hstspreload-2024.4.1 httpcore-0.9.1 httpx-0.13.3 hyperframe-5.2.0 idna-2.10 rfc3986-1.5.0\n"
          ]
        },
        {
          "output_type": "display_data",
          "data": {
            "application/vnd.colab-display-data+json": {
              "pip_warning": {
                "packages": [
                  "chardet",
                  "idna"
                ]
              },
              "id": "48670690544444a19312800b3c36d94a"
            }
          },
          "metadata": {}
        }
      ]
    },
    {
      "cell_type": "markdown",
      "metadata": {
        "id": "HWM6F3-u1-t2"
      },
      "source": [
        "Traduzindo lista de frases"
      ]
    },
    {
      "cell_type": "code",
      "metadata": {
        "colab": {
          "base_uri": "https://localhost:8080/"
        },
        "id": "r00hvXf4luYJ",
        "outputId": "923473a4-0f52-4df3-c2d9-f9fd03cad5d9"
      },
      "source": [
        "from googletrans import Translator\n",
        "\n",
        "tradutor = Translator()\n",
        "\n",
        "fraseEn = [\"The sky is blue.\",\"The book is on the table.\"]\n",
        "\n",
        "traducoes = tradutor.translate(fraseEn, src=\"en\", dest=\"pt\")\n",
        "\n",
        "for traducao in traducoes:\n",
        "    print(traducao.origin, \" -> \", traducao.text)"
      ],
      "execution_count": 92,
      "outputs": [
        {
          "output_type": "stream",
          "name": "stdout",
          "text": [
            "The sky is blue.  ->  O céu é azul.\n",
            "The book is on the table.  ->  O livro está sobre a mesa.\n"
          ]
        }
      ]
    },
    {
      "cell_type": "markdown",
      "metadata": {
        "id": "m1qZn4w_2Cpu"
      },
      "source": [
        "Traduzindo uma frase"
      ]
    },
    {
      "cell_type": "code",
      "metadata": {
        "colab": {
          "base_uri": "https://localhost:8080/"
        },
        "id": "OU7MViWB0q7m",
        "outputId": "027f3701-d913-410b-eb6e-2c473f921221"
      },
      "source": [
        "from googletrans import Translator\n",
        "\n",
        "tradutor = Translator()\n",
        "\n",
        "fraseEn = \"The sky is blue.\"\n",
        "\n",
        "traducao = tradutor.translate(fraseEn, src=\"en\", dest=\"pt\")\n",
        "\n",
        "print(fraseEn)\n",
        "print(traducao)\n",
        "print(traducao.src)\n",
        "print(traducao.dest)\n",
        "if traducao.src == traducao.dest:\n",
        "    print(\"Não foi traduzido\")"
      ],
      "execution_count": 93,
      "outputs": [
        {
          "output_type": "stream",
          "name": "stdout",
          "text": [
            "The sky is blue.\n",
            "Translated(src=en, dest=pt, text=O céu é azul., pronunciation=The sky is blue., extra_data=\"{'translat...\")\n",
            "en\n",
            "pt\n"
          ]
        }
      ]
    },
    {
      "cell_type": "markdown",
      "metadata": {
        "id": "uSQmwK50GQT8"
      },
      "source": [
        "### Versão alternativa\n",
        "\n",
        "https://pypi.org/project/google-trans-new/"
      ]
    },
    {
      "cell_type": "code",
      "metadata": {
        "colab": {
          "base_uri": "https://localhost:8080/"
        },
        "id": "aTVQoxuF_kbP",
        "outputId": "794059c3-0f91-45e8-b730-9e4e9d3f3e27"
      },
      "source": [
        "!pip install google_trans_new"
      ],
      "execution_count": 94,
      "outputs": [
        {
          "output_type": "stream",
          "name": "stdout",
          "text": [
            "Collecting google_trans_new\n",
            "  Downloading google_trans_new-1.1.9-py3-none-any.whl (9.2 kB)\n",
            "Installing collected packages: google_trans_new\n",
            "Successfully installed google_trans_new-1.1.9\n"
          ]
        }
      ]
    },
    {
      "cell_type": "code",
      "metadata": {
        "id": "_3YjFRoxsfid"
      },
      "source": [
        "from google_trans_new import google_translator\n",
        "\n",
        "translator = google_translator()\n",
        "\n",
        "fraseEn = \"The sky is blue.\"\n",
        "\n",
        "# Erro\n",
        "#frasePtBr = translator.translate(fraseEn,lang_tgt=\"pt\")\n",
        "\n",
        "#print(frasePtBr)"
      ],
      "execution_count": 95,
      "outputs": []
    },
    {
      "cell_type": "markdown",
      "metadata": {
        "id": "h3XCRcKvpDNE"
      },
      "source": [
        "### Outra versão"
      ]
    },
    {
      "cell_type": "code",
      "metadata": {
        "id": "MwTGtNhbnmg9",
        "colab": {
          "base_uri": "https://localhost:8080/"
        },
        "outputId": "8a77543a-f290-4f45-adda-06c55b49a9ae"
      },
      "source": [
        "!pip install translate"
      ],
      "execution_count": 96,
      "outputs": [
        {
          "output_type": "stream",
          "name": "stdout",
          "text": [
            "Collecting translate\n",
            "  Downloading translate-3.6.1-py2.py3-none-any.whl (12 kB)\n",
            "Requirement already satisfied: click in /usr/local/lib/python3.10/dist-packages (from translate) (8.1.7)\n",
            "Requirement already satisfied: lxml in /usr/local/lib/python3.10/dist-packages (from translate) (4.9.4)\n",
            "Requirement already satisfied: requests in /usr/local/lib/python3.10/dist-packages (from translate) (2.31.0)\n",
            "Collecting libretranslatepy==2.1.1 (from translate)\n",
            "  Downloading libretranslatepy-2.1.1-py3-none-any.whl (3.2 kB)\n",
            "Requirement already satisfied: charset-normalizer<4,>=2 in /usr/local/lib/python3.10/dist-packages (from requests->translate) (3.3.2)\n",
            "Requirement already satisfied: idna<4,>=2.5 in /usr/local/lib/python3.10/dist-packages (from requests->translate) (2.10)\n",
            "Requirement already satisfied: urllib3<3,>=1.21.1 in /usr/local/lib/python3.10/dist-packages (from requests->translate) (2.0.7)\n",
            "Requirement already satisfied: certifi>=2017.4.17 in /usr/local/lib/python3.10/dist-packages (from requests->translate) (2024.2.2)\n",
            "Installing collected packages: libretranslatepy, translate\n",
            "Successfully installed libretranslatepy-2.1.1 translate-3.6.1\n"
          ]
        }
      ]
    },
    {
      "cell_type": "code",
      "metadata": {
        "id": "D5DzX76cnjpm",
        "colab": {
          "base_uri": "https://localhost:8080/"
        },
        "outputId": "1761b5ff-fed7-4584-9b59-a0191f380407"
      },
      "source": [
        "from translate import Translator\n",
        "\n",
        "tradutor = Translator(from_lang=\"english\", to_lang=\"pt-br\")\n",
        "\n",
        "fraseEn = \"The sky is blue.\"\n",
        "\n",
        "frasePtBR = tradutor.translate(fraseEn)\n",
        "\n",
        "print(frasePtBR)"
      ],
      "execution_count": 97,
      "outputs": [
        {
          "output_type": "stream",
          "name": "stdout",
          "text": [
            "E o céu está tão azul.\n"
          ]
        }
      ]
    },
    {
      "cell_type": "markdown",
      "metadata": {
        "id": "_-uC2Yk7yQur"
      },
      "source": [
        "#Remove Tags HTML do texto\n",
        "\n",
        "https://code.launchpad.net/beautifulsoup/\n"
      ]
    },
    {
      "cell_type": "code",
      "metadata": {
        "id": "modQjr4AyUpn",
        "colab": {
          "base_uri": "https://localhost:8080/"
        },
        "outputId": "1d1e276e-f573-4aa0-9f26-7f7d754fe921"
      },
      "source": [
        "from bs4 import BeautifulSoup\n",
        "\n",
        "mensagemhtml = \"<html><p>Mensagem do HTML</p></html>\"\n",
        "\n",
        "soup = BeautifulSoup(mensagemhtml)\n",
        "\n",
        "mensagemlimpa = soup.get_text()\n",
        "\n",
        "print(mensagemhtml)\n",
        "\n",
        "print(mensagemlimpa)"
      ],
      "execution_count": 98,
      "outputs": [
        {
          "output_type": "stream",
          "name": "stdout",
          "text": [
            "<html><p>Mensagem do HTML</p></html>\n",
            "Mensagem do HTML\n"
          ]
        }
      ]
    },
    {
      "cell_type": "markdown",
      "metadata": {
        "id": "KPkDUbfeg9H7"
      },
      "source": [
        "#Funções\n",
        "\n",
        "Em python, so existe uma forma de declarar um procedimento ou função, isso é feito através do comando **def** seguido pelo nome do procedimento ou função e da sua lista de parâmetros.\n",
        "\n",
        "```python\n",
        "def func(lista de parâmetros):\n",
        "    \"\"\"\n",
        "    Documentation String\n",
        "    \"\"\"\n",
        "    bloco de comandos\n",
        "    return # opcional\n",
        "```\n",
        "\n",
        "Artigo sobre parâmetros, argumentos, *args e \\***kwargs.\n",
        "\n",
        "https://medium.com/luizalabs/fun%C3%A7%C3%B5es-em-python-entendendo-par%C3%A2metros-argumentos-args-e-kwargs-4291b1f817f6"
      ]
    },
    {
      "cell_type": "markdown",
      "metadata": {
        "id": "8U4rSmgUf30l"
      },
      "source": [
        "##Funções com quantidade de parâmetros indeterminados\n",
        "\n",
        "Com o uso de um * (asterisco) podemos criar funções com números indeterminados de parâmetros.\n"
      ]
    },
    {
      "cell_type": "code",
      "metadata": {
        "id": "1l7Kpy-wf30m",
        "colab": {
          "base_uri": "https://localhost:8080/"
        },
        "outputId": "267c46e3-2309-4894-8e9d-62392c904e5f"
      },
      "source": [
        "# Declara a função\n",
        "def soma(*valores):\n",
        "    soma = 0\n",
        "    for i in valores:\n",
        "        soma += i\n",
        "    return soma\n",
        "\n",
        "\n",
        "# Utiliza a função\n",
        "print(soma(1,2,3))\n",
        "print(soma(1,2,3,4))"
      ],
      "execution_count": 99,
      "outputs": [
        {
          "output_type": "stream",
          "name": "stdout",
          "text": [
            "6\n",
            "10\n"
          ]
        }
      ]
    },
    {
      "cell_type": "markdown",
      "metadata": {
        "id": "fIP4lbqu9Z0z"
      },
      "source": [
        "##Funções como parâmetros de funções"
      ]
    },
    {
      "cell_type": "code",
      "metadata": {
        "id": "cpUNK-rc9cxo"
      },
      "source": [
        "# Função a ser usada como argumento\n",
        "def fatorial(n):\n",
        "  fat = 1\n",
        "  for x in range(1,n+1):\n",
        "      fat = fat * x\n",
        "  return fat"
      ],
      "execution_count": 100,
      "outputs": []
    },
    {
      "cell_type": "code",
      "metadata": {
        "id": "vm9jnvB89-Jk"
      },
      "source": [
        "# Chama a função passada como argumento e especifica o argumento\n",
        "def chamada(funcao, argumento):\n",
        "  return funcao(argumento)"
      ],
      "execution_count": 101,
      "outputs": []
    },
    {
      "cell_type": "code",
      "metadata": {
        "id": "3SpFetlB9nLH",
        "colab": {
          "base_uri": "https://localhost:8080/"
        },
        "outputId": "acab917f-156a-4e27-f9e0-cbc5a240c45b"
      },
      "source": [
        "# Chama a função passando a função fatorial e o argumento 3\n",
        "print(chamada(fatorial,3))"
      ],
      "execution_count": 102,
      "outputs": [
        {
          "output_type": "stream",
          "name": "stdout",
          "text": [
            "6\n"
          ]
        }
      ]
    },
    {
      "cell_type": "markdown",
      "metadata": {
        "id": "PMn9AwJNgJQm"
      },
      "source": [
        "##Funções Lambda\n",
        "\n",
        "Também conhecida como funções anônimas, as funções lambdas permite implementar uma função específica em um único bloco de instrução, sem a necessidade de definir uma função usando a palavra def. A diferença entre as funções são que:\n",
        "\n",
        "* def - cria um objeto internamente colocando o nome da função apontando para ele.\n",
        "* lambda - cria um objeto, porém o retorno é efetuado em tempo de execução.\n",
        "\n",
        "Sintaxe: lambda arg1,...,argN:expressão\n",
        "\n",
        "Exemplos de função utilizando a expressão lambda:"
      ]
    },
    {
      "cell_type": "code",
      "metadata": {
        "id": "ZG82UpBxgT4n",
        "colab": {
          "base_uri": "https://localhost:8080/"
        },
        "outputId": "8e992548-24a3-426e-d0da-44da3e1da4c8"
      },
      "source": [
        "# Declaração\n",
        "exponencial = lambda x:x*2\n",
        "\n",
        "# Utiliza a função\n",
        "exponencial(8)"
      ],
      "execution_count": 103,
      "outputs": [
        {
          "output_type": "execute_result",
          "data": {
            "text/plain": [
              "16"
            ]
          },
          "metadata": {},
          "execution_count": 103
        }
      ]
    },
    {
      "cell_type": "code",
      "metadata": {
        "id": "bQMl20WagYB3",
        "colab": {
          "base_uri": "https://localhost:8080/"
        },
        "outputId": "3d9a398a-b1d3-448e-d73a-ee8411553bec"
      },
      "source": [
        "# Declaração\n",
        "situacao = lambda nota:nota >= 6\n",
        "\n",
        "# Utiliza a função\n",
        "situacao(7)"
      ],
      "execution_count": 104,
      "outputs": [
        {
          "output_type": "execute_result",
          "data": {
            "text/plain": [
              "True"
            ]
          },
          "metadata": {},
          "execution_count": 104
        }
      ]
    },
    {
      "cell_type": "code",
      "metadata": {
        "id": "pORa0WrNglxE",
        "colab": {
          "base_uri": "https://localhost:8080/",
          "height": 35
        },
        "outputId": "5803eb6e-2b5e-471b-ddbc-92c2a50c36e4"
      },
      "source": [
        "# Declaração\n",
        "invertido = lambda palavra:palavra[::-1]\n",
        "\n",
        "# Utiliza a função\n",
        "invertido(\"Python\")"
      ],
      "execution_count": 105,
      "outputs": [
        {
          "output_type": "execute_result",
          "data": {
            "text/plain": [
              "'nohtyP'"
            ],
            "application/vnd.google.colaboratory.intrinsic+json": {
              "type": "string"
            }
          },
          "metadata": {},
          "execution_count": 105
        }
      ]
    },
    {
      "cell_type": "code",
      "metadata": {
        "id": "UmrUGgJigsVI",
        "colab": {
          "base_uri": "https://localhost:8080/"
        },
        "outputId": "e78af831-8960-40d6-d72a-36d1f91b8150"
      },
      "source": [
        "# Declaração\n",
        "produto = lambda x,y,z:x*y*z\n",
        "\n",
        "# Utiliza a função\n",
        "produto(3,9,18)"
      ],
      "execution_count": 106,
      "outputs": [
        {
          "output_type": "execute_result",
          "data": {
            "text/plain": [
              "486"
            ]
          },
          "metadata": {},
          "execution_count": 106
        }
      ]
    },
    {
      "cell_type": "markdown",
      "metadata": {
        "id": "GM-MnEYKhFgS"
      },
      "source": [
        "## Função Map\n",
        "A função map aplica uma função a todos os elementos de uma lista sem a necessidade de utilizar um loop for, retornando uma nova lista com os elementos alterados pela função escolhida.\n",
        "\n",
        "Sintaxe: map(fun, seq)"
      ]
    },
    {
      "cell_type": "markdown",
      "metadata": {
        "id": "6sTGPKQfhjaV"
      },
      "source": [
        "Soma de 2 listas"
      ]
    },
    {
      "cell_type": "code",
      "metadata": {
        "id": "f6rdYblNhvS2",
        "colab": {
          "base_uri": "https://localhost:8080/"
        },
        "outputId": "ba4759df-ce33-4e7a-b711-924ab9952718"
      },
      "source": [
        "# Declaração\n",
        "L1 = [10, 20, 30, 40, 50]\n",
        "L2 = [1, 2, 3, 4, 5]\n",
        "\n",
        "# Utiliza a função\n",
        "soma = list(map(lambda a,b:a+b, L1, L2))\n",
        "\n",
        "print(soma)"
      ],
      "execution_count": 107,
      "outputs": [
        {
          "output_type": "stream",
          "name": "stdout",
          "text": [
            "[11, 22, 33, 44, 55]\n"
          ]
        }
      ]
    },
    {
      "cell_type": "markdown",
      "metadata": {
        "id": "qOAjikQYhh0V"
      },
      "source": [
        "Soma de 3 listas"
      ]
    },
    {
      "cell_type": "code",
      "metadata": {
        "id": "iNJ52TyQhhRZ",
        "colab": {
          "base_uri": "https://localhost:8080/"
        },
        "outputId": "9a4a69ac-de9c-444f-8d83-131d017ef903"
      },
      "source": [
        "# Declaração\n",
        "L1 = [10, 20, 30, 40, 50]\n",
        "L2 = [1, 2, 3, 4, 5]\n",
        "L3 = [11, 22, 33, 44, 55]\n",
        "\n",
        "# Utiliza a função\n",
        "soma = list(map(lambda a,b,c:a+b+c, L1, L2, L3))\n",
        "\n",
        "print(soma)"
      ],
      "execution_count": 108,
      "outputs": [
        {
          "output_type": "stream",
          "name": "stdout",
          "text": [
            "[22, 44, 66, 88, 110]\n"
          ]
        }
      ]
    },
    {
      "cell_type": "markdown",
      "metadata": {
        "id": "LxaFpeJNh8oP"
      },
      "source": [
        "## Função Reduce\n",
        "\n",
        "Aplica uma função em todos os elementos da lista, retornando um único valor. É necessário importar a biblioteca functools para utilizar a função reduce.\n",
        "\n",
        "Sintaxe: reduce(fun, seq)"
      ]
    },
    {
      "cell_type": "code",
      "metadata": {
        "id": "F1_VrxAMiBL-",
        "colab": {
          "base_uri": "https://localhost:8080/"
        },
        "outputId": "80e0b3c0-4335-4dfc-c0c5-8250c7823282"
      },
      "source": [
        "from functools import reduce\n",
        "\n",
        "# Declaração\n",
        "L1 = [1, 2, 3, 4, 5]\n",
        "\n",
        "# Utiliza a função\n",
        "soma = reduce((lambda x,y:x+y), L1) #((((1+2)+3)+4)+5)\n",
        "\n",
        "print(soma)"
      ],
      "execution_count": 109,
      "outputs": [
        {
          "output_type": "stream",
          "name": "stdout",
          "text": [
            "15\n"
          ]
        }
      ]
    },
    {
      "cell_type": "markdown",
      "metadata": {
        "id": "WUKwvSaxiKfK"
      },
      "source": [
        "## Função Filter\n",
        "\n",
        "A função filter nos permite filtrar elementos de uma sequência de valores.\n",
        "\n",
        "Sintaxe: filter(fun, seq)"
      ]
    },
    {
      "cell_type": "code",
      "metadata": {
        "id": "LjbBn49qiOQw",
        "colab": {
          "base_uri": "https://localhost:8080/"
        },
        "outputId": "4b738d8a-6cb2-44ce-aa97-a24582540ef1"
      },
      "source": [
        "# Declaração\n",
        "L1 = [1, 2, 3, 4, 5, 6, 7, 8, 9, 10]\n",
        "\n",
        "# Utiliza a função\n",
        "filtro = list(filter(lambda x: x%2==0, L1)) #fitra os pares\n",
        "\n",
        "print(filtro)"
      ],
      "execution_count": 110,
      "outputs": [
        {
          "output_type": "stream",
          "name": "stdout",
          "text": [
            "[2, 4, 6, 8, 10]\n"
          ]
        }
      ]
    },
    {
      "cell_type": "markdown",
      "metadata": {
        "id": "-VluuxMbiXqN"
      },
      "source": [
        "## Função Zip\n",
        "\n",
        "A função zip nos retorna o agrupamento de duas sequências em uma tupla. Ao ser aplicado em sequências com tamanhos diferentes, o número de tuplas será igual ao número da menor sequência de valores.\n",
        "\n",
        "Sintaxe: zip(seq,seq)"
      ]
    },
    {
      "cell_type": "code",
      "metadata": {
        "id": "92DJXz_DiaNk",
        "colab": {
          "base_uri": "https://localhost:8080/"
        },
        "outputId": "13109672-6ad9-4996-9352-d253012c9686"
      },
      "source": [
        "# Declaração\n",
        "L1 = [1, 3, 5, 7, 9]\n",
        "L2 = [2, 4, 6, 8, 10]\n",
        "\n",
        "# Utiliza a função\n",
        "LZIP = zip(L1,L2)\n",
        "\n",
        "print(LZIP)"
      ],
      "execution_count": 111,
      "outputs": [
        {
          "output_type": "stream",
          "name": "stdout",
          "text": [
            "<zip object at 0x7982df77a280>\n"
          ]
        }
      ]
    },
    {
      "cell_type": "markdown",
      "metadata": {
        "id": "tMJ0zkTyilOt"
      },
      "source": [
        "O retorno da zip é um iterador, precisamos usar a função list() para obter uma lista."
      ]
    },
    {
      "cell_type": "code",
      "metadata": {
        "id": "H2o7_n4rilzL",
        "colab": {
          "base_uri": "https://localhost:8080/"
        },
        "outputId": "4848f805-7a95-4a8e-844a-3c9d32b6d09c"
      },
      "source": [
        "print(list(LZIP))"
      ],
      "execution_count": 112,
      "outputs": [
        {
          "output_type": "stream",
          "name": "stdout",
          "text": [
            "[(1, 2), (3, 4), (5, 6), (7, 8), (9, 10)]\n"
          ]
        }
      ]
    },
    {
      "cell_type": "markdown",
      "metadata": {
        "id": "u4vcAQXmisl-"
      },
      "source": [
        "Exemplo com listas de tamanhos diferentes."
      ]
    },
    {
      "cell_type": "code",
      "metadata": {
        "id": "Y7K5i8GTiuqo",
        "colab": {
          "base_uri": "https://localhost:8080/"
        },
        "outputId": "f9730353-812d-4cb8-a1ed-77d2ce8cece6"
      },
      "source": [
        "# Declaração\n",
        "L3 = [1, 2, 3, 4, 5]\n",
        "L4 = [22, 11]\n",
        "\n",
        "# Utiliza a função\n",
        "LZIP = list(zip(L3,L4))\n",
        "\n",
        "print(list(LZIP))"
      ],
      "execution_count": 113,
      "outputs": [
        {
          "output_type": "stream",
          "name": "stdout",
          "text": [
            "[(1, 22), (2, 11)]\n"
          ]
        }
      ]
    },
    {
      "cell_type": "markdown",
      "metadata": {
        "id": "-vnZtDA7jG9p"
      },
      "source": [
        "Em dicionários"
      ]
    },
    {
      "cell_type": "code",
      "metadata": {
        "id": "uIplscX4jIct",
        "colab": {
          "base_uri": "https://localhost:8080/"
        },
        "outputId": "df1fdada-5a03-4c14-9c7d-b40285c8ca50"
      },
      "source": [
        "# Dicionários\n",
        "dic1 = {\"a\":1, \"b\":2, \"c\":3, \"d\":4}\n",
        "dic2 = {\"aa\":11, \"bb\":22, \"cc\":33, \"dd\":44}\n",
        "\n",
        "# A função zip faz a união pelas chaves\n",
        "print(list(zip(dic1,dic2)))\n",
        "\n",
        "# Unindo pelos valores\n",
        "print(list(zip(dic1.values(),dic2.values())))\n",
        "\n",
        "# Unindo chaves com valores\n",
        "print(list(zip(dic1,dic2.values())))"
      ],
      "execution_count": 114,
      "outputs": [
        {
          "output_type": "stream",
          "name": "stdout",
          "text": [
            "[('a', 'aa'), ('b', 'bb'), ('c', 'cc'), ('d', 'dd')]\n",
            "[(1, 11), (2, 22), (3, 33), (4, 44)]\n",
            "[('a', 11), ('b', 22), ('c', 33), ('d', 44)]\n"
          ]
        }
      ]
    },
    {
      "cell_type": "markdown",
      "metadata": {
        "id": "qSZNWrpMjbxo"
      },
      "source": [
        "## Função Enumerate\n",
        "A função enumerate retorna um par índice valor de uma sequência definida.\n",
        "\n",
        "Sintaxe: enumerate(seq)"
      ]
    },
    {
      "cell_type": "code",
      "metadata": {
        "id": "ogK90wkPjdzE",
        "colab": {
          "base_uri": "https://localhost:8080/"
        },
        "outputId": "7b42c229-a878-4762-e952-d3d8e22c2900"
      },
      "source": [
        "# Lista sem índice\n",
        "lista = [\"a\", \"b\", \"c\", \"d\"]\n",
        "\n",
        "# Mostra a lista indexada\n",
        "print(list(enumerate(lista)))\n",
        "\n",
        "# Percorre a lista indexada\n",
        "for i, elemento in enumerate(lista):\n",
        "    print(i,elemento)"
      ],
      "execution_count": 115,
      "outputs": [
        {
          "output_type": "stream",
          "name": "stdout",
          "text": [
            "[(0, 'a'), (1, 'b'), (2, 'c'), (3, 'd')]\n",
            "0 a\n",
            "1 b\n",
            "2 c\n",
            "3 d\n"
          ]
        }
      ]
    },
    {
      "cell_type": "markdown",
      "metadata": {
        "id": "g7rhEbeJOdBr"
      },
      "source": [
        "## Função que retorna mais de um valor\n",
        "\n",
        "Uma função pode retornar mais de um valor, basta usar `return` com mais de um parâmetro. Também é possível retornar somente um determinado valor, basta ignorar retorna não desejando especificando `_` no lugar da variável de retorno.\n"
      ]
    },
    {
      "cell_type": "code",
      "metadata": {
        "id": "oqIYsonWOdni"
      },
      "source": [
        "# Declaração\n",
        "def calculadora(numero1, numero2):\n",
        "\n",
        "    # Processamento da função\n",
        "    soma = numero1 + numero2\n",
        "    diferenca = numero2 + numero1\n",
        "    produto = numero1 * numero2\n",
        "    divisao = numero2 / numero1\n",
        "\n",
        "    # Retornando mais de um valor\n",
        "    return soma, diferenca, produto, divisao"
      ],
      "execution_count": 116,
      "outputs": []
    },
    {
      "cell_type": "code",
      "metadata": {
        "id": "v9wAWvJfO9zU",
        "colab": {
          "base_uri": "https://localhost:8080/"
        },
        "outputId": "d30c6541-4277-4c8f-8682-37de407ea5d8"
      },
      "source": [
        "# Usando a função\n",
        "numero1 = 2\n",
        "numero2 = 10\n",
        "\n",
        "# Recuperando todos os resultados\n",
        "rsoma, rdiferenca, rproduto, rdivisao = calculadora(numero1, numero2)\n",
        "\n",
        "print(rsoma, rdiferenca, rproduto, rdivisao)\n",
        "\n",
        "# Recuperando somente um resultado\n",
        "_, rdif, _, _ = calculadora(numero1, numero2)\n",
        "\n",
        "print(rdif)"
      ],
      "execution_count": 117,
      "outputs": [
        {
          "output_type": "stream",
          "name": "stdout",
          "text": [
            "12 12 20 5.0\n",
            "12\n"
          ]
        }
      ]
    },
    {
      "cell_type": "markdown",
      "metadata": {
        "id": "CZXDOTptymKY"
      },
      "source": [
        "## Função com uso do ´yield´\n",
        "\n",
        "O `yield` só pode ser utilizando de funções. Dentro de uma função funciona como um `return`, só que retorna um objeto **generator** que é iterável. Para iterar sobre a função é necessário chamar a função `next()` ou utilizar um `for`.\n",
        "\n",
        "O `yield` marca a posição da última chamada da função `next()` de forma explicita ou implicita(`for`)."
      ]
    },
    {
      "cell_type": "markdown",
      "metadata": {
        "id": "Id1h-zE40QpT"
      },
      "source": [
        "### Exemplo 1 yield"
      ]
    },
    {
      "cell_type": "code",
      "metadata": {
        "id": "iyTSP_h8ymYR"
      },
      "source": [
        "# Declaração\n",
        "def funcao():\n",
        "    yield 10\n",
        "    yield 20\n",
        "    yield 30"
      ],
      "execution_count": 118,
      "outputs": []
    },
    {
      "cell_type": "code",
      "metadata": {
        "id": "0mtM2GEo0Zty",
        "colab": {
          "base_uri": "https://localhost:8080/"
        },
        "outputId": "f4969251-70f6-4911-c2ec-59a10cc1ee7f"
      },
      "source": [
        "# Recupera o iterador da função para a variável conjunto\n",
        "conjunto = funcao()\n",
        "\n",
        "# O comando \"next()\" retorna o número da primeira declaração de yield na variável conjunto\n",
        "print(next(conjunto))\n",
        "\n",
        "# O comando \"next()\" retorna o número da segunda declaração de yield na variável conjunto\n",
        "print(next(conjunto))\n",
        "\n",
        "# O comando \"next()\" retorna o número da terceira declaração de yield na variável conjunto\n",
        "print(next(conjunto))\n",
        "\n",
        "# A função next só pode ser chamada 3 vezes, pois existe somente 3 declarações!\n",
        "# Mas o yield pode ser declarado dentro de um laço(for)"
      ],
      "execution_count": 119,
      "outputs": [
        {
          "output_type": "stream",
          "name": "stdout",
          "text": [
            "10\n",
            "20\n",
            "30\n"
          ]
        }
      ]
    },
    {
      "cell_type": "markdown",
      "metadata": {
        "id": "1BYmE9aa02Hf"
      },
      "source": [
        "### Exemplo 2 yield"
      ]
    },
    {
      "cell_type": "code",
      "metadata": {
        "id": "D83pEDzF02Hg"
      },
      "source": [
        "# Declaração\n",
        "def funcao():\n",
        "    yield 10\n",
        "    yield 20\n",
        "    yield 30"
      ],
      "execution_count": 120,
      "outputs": []
    },
    {
      "cell_type": "code",
      "metadata": {
        "id": "SxXEYFap04VT",
        "colab": {
          "base_uri": "https://localhost:8080/"
        },
        "outputId": "278ccff7-8292-4a4b-de09-e5e3852d6aac"
      },
      "source": [
        "# Recupera o iterador da função para a variável conjunto\n",
        "conjunto = funcao()\n",
        "\n",
        "# O comando \"for\" chama o next implicitamente retornando o número a medida que vai iterando a variável conjunto\n",
        "for x in conjunto:\n",
        "    print(x)\n",
        "\n",
        "# A função next só pode ser chamada 3 vezes, pois existe somente 3 declarações!\n",
        "# Mas o yield pode ser declarado dentro de um laço(for)"
      ],
      "execution_count": 121,
      "outputs": [
        {
          "output_type": "stream",
          "name": "stdout",
          "text": [
            "10\n",
            "20\n",
            "30\n"
          ]
        }
      ]
    },
    {
      "cell_type": "markdown",
      "metadata": {
        "id": "H1Oza3DI2nC2"
      },
      "source": [
        "### Exemplo 3 yield"
      ]
    },
    {
      "cell_type": "code",
      "metadata": {
        "id": "1zIBDaQz2nC2"
      },
      "source": [
        "# Declaração\n",
        "def geraNumero(inicio = 1, fim = 100):\n",
        "    \"\"\"\n",
        "    Gera os números no intervalo de número inicio até fim passado por parâmetro\n",
        "    \"\"\"\n",
        "    for numero in range(inicio, fim + 1):\n",
        "        yield numero"
      ],
      "execution_count": 122,
      "outputs": []
    },
    {
      "cell_type": "code",
      "metadata": {
        "id": "xohojoNy2nC4",
        "colab": {
          "base_uri": "https://localhost:8080/"
        },
        "outputId": "7ce01b08-83d4-4fc0-fba5-123ebcb6fb24"
      },
      "source": [
        "# Recupera o iterador da função para a variável conjunto\n",
        "conjunto = geraNumero(5, 10)\n",
        "\n",
        "# Sem o uso do yield na função geraNumero o for gera todos os números do intervalo\n",
        "\n",
        "# O comando \"for\" chama o next implicitamente gerando cada número a medida que vai iterando a variável conjunto\n",
        "for x in conjunto:\n",
        "    print(x)"
      ],
      "execution_count": 123,
      "outputs": [
        {
          "output_type": "stream",
          "name": "stdout",
          "text": [
            "5\n",
            "6\n",
            "7\n",
            "8\n",
            "9\n",
            "10\n"
          ]
        }
      ]
    },
    {
      "cell_type": "markdown",
      "metadata": {
        "id": "cLpubXN0-sMk"
      },
      "source": [
        "### Exemplo 4 yield\n",
        "\n",
        "Função com retorno"
      ]
    },
    {
      "cell_type": "code",
      "metadata": {
        "id": "XGwJdu0n-sMl"
      },
      "source": [
        "# Declaração\n",
        "def geraNumero(inicio = 1, fim = 100):\n",
        "    \"\"\"\n",
        "    Gera os números no intervalo de número inicio até fim passado por parâmetro\n",
        "    \"\"\"\n",
        "    for numero in range(inicio, fim + 1):\n",
        "        yield numero"
      ],
      "execution_count": 124,
      "outputs": []
    },
    {
      "cell_type": "code",
      "metadata": {
        "id": "p-plQ3bh-sMo",
        "colab": {
          "base_uri": "https://localhost:8080/"
        },
        "outputId": "582b358f-077f-45fa-c489-01fd86fd4c9f"
      },
      "source": [
        "# Recupera o iterador da função para a variável conjunto\n",
        "conjunto = geraNumero(5, 10)\n",
        "\n",
        "# Sem o uso do yield na função geraNumero o for gera todos os números do intervalo\n",
        "\n",
        "# O comando \"for\" chama o next implicitamente gerando cada número a medida que vai iterando a variável conjunto\n",
        "for x in conjunto:\n",
        "    print(x)"
      ],
      "execution_count": 125,
      "outputs": [
        {
          "output_type": "stream",
          "name": "stdout",
          "text": [
            "5\n",
            "6\n",
            "7\n",
            "8\n",
            "9\n",
            "10\n"
          ]
        }
      ]
    },
    {
      "cell_type": "markdown",
      "metadata": {
        "id": "xPVtpRBpPPuD"
      },
      "source": [
        "## Função com especificação de tipos de dados para os parâmetros e retorno\n",
        "\n",
        "Para especificar o tipo de dados dos parâmetos coloque o nome da variávei seguido de dois pontos(:) e o tipo de dado.\n",
        "\n",
        "Para especificar o retorno coloque logo depois da lista de parâmetros o símbolo \"->\" e o tipo de dado seguido por dois pontos(:)."
      ]
    },
    {
      "cell_type": "code",
      "metadata": {
        "id": "ryr97DigPXe3",
        "colab": {
          "base_uri": "https://localhost:8080/"
        },
        "outputId": "22761b55-aef8-4b34-ec2c-0a316ec145fd"
      },
      "source": [
        "# Declara a função\n",
        "def soma(num1 : int, num2 : int) -> int:\n",
        "    total = 0\n",
        "    total = num1 + num2\n",
        "    return total\n",
        "\n",
        "resultado = soma(10,20)\n",
        "\n",
        "# Utiliza a função\n",
        "print(resultado)"
      ],
      "execution_count": 126,
      "outputs": [
        {
          "output_type": "stream",
          "name": "stdout",
          "text": [
            "30\n"
          ]
        }
      ]
    },
    {
      "cell_type": "markdown",
      "metadata": {
        "id": "hq5BfazeHGJn"
      },
      "source": [
        "# Mensagem de Progresso"
      ]
    },
    {
      "cell_type": "markdown",
      "metadata": {
        "id": "QjI0bn4LHUM9"
      },
      "source": [
        "## Exemplo mensagem de um nível com lista"
      ]
    },
    {
      "cell_type": "code",
      "metadata": {
        "id": "qPf0rRa4HUM-",
        "colab": {
          "base_uri": "https://localhost:8080/"
        },
        "outputId": "addd3ffb-fabb-4e4f-cedf-aa97d1f2b0dc"
      },
      "source": [
        "# Import da biblioteca\n",
        "from IPython.display import clear_output\n",
        "\n",
        "lista = []\n",
        "\n",
        "qtde = 1000\n",
        "\n",
        "for x in range(qtde):\n",
        "    lista.append(x**x)\n",
        "\n",
        "    clear_output(wait=True)\n",
        "    print(\"Teste: \", x + 1, \"/\", qtde)"
      ],
      "execution_count": 127,
      "outputs": [
        {
          "output_type": "stream",
          "name": "stdout",
          "text": [
            "Teste:  1000 / 1000\n"
          ]
        }
      ]
    },
    {
      "cell_type": "markdown",
      "metadata": {
        "id": "RUTFXBBuIUVN"
      },
      "source": [
        "## Exemplo mensagem com 2 níveis com lista"
      ]
    },
    {
      "cell_type": "code",
      "metadata": {
        "id": "9qPsM1_6IUVN",
        "colab": {
          "base_uri": "https://localhost:8080/"
        },
        "outputId": "9fe975f6-1eea-4bd7-8c2b-f60a11f60692"
      },
      "source": [
        "# Import da biblioteca\n",
        "from IPython.display import clear_output\n",
        "from time import sleep\n",
        "\n",
        "qtde1 = 5\n",
        "qtde2 = 100\n",
        "\n",
        "for x in range(qtde1):\n",
        "    for y in range(qtde2):\n",
        "        # Retarda o laço em 0.01 segundos\n",
        "        sleep(0.02)\n",
        "\n",
        "        clear_output(wait=True)\n",
        "        print(\"Teste: \", x + 1, \"/\", qtde1, \" de \", y + 1, \"/\", qtde2)"
      ],
      "execution_count": 128,
      "outputs": [
        {
          "output_type": "stream",
          "name": "stdout",
          "text": [
            "Teste:  5 / 5  de  100 / 100\n"
          ]
        }
      ]
    },
    {
      "cell_type": "markdown",
      "metadata": {
        "id": "U3fqY5AqX1tN"
      },
      "source": [
        "# Barra de Progresso\n",
        "\n",
        "O tdqm é um pacote que posibilita criar barra de progressos e estimar o tempo para funções e laços.\n",
        "\n",
        "https://github.com/tqdm/tqdm\n",
        "\n",
        "Em um laço itere sobre `tqdm` ou `tqdm_notebook`(caso esteja executando um Notebook)."
      ]
    },
    {
      "cell_type": "markdown",
      "metadata": {
        "id": "7F8jtwpZYLkA"
      },
      "source": [
        "## Exemplo barra de um nível com lista"
      ]
    },
    {
      "cell_type": "code",
      "metadata": {
        "id": "sTAX64dHX0qm",
        "colab": {
          "base_uri": "https://localhost:8080/",
          "height": 49,
          "referenced_widgets": [
            "cf6d35d01d5c4e9288e0dd0df05e1b0d",
            "d1f3bdf9ca0247fb9da901cc9b8c46eb",
            "5d3348fe9be54a5a9ad19f7f0235b97c",
            "c087e45dd9d94ed2ba09e5d39c01e088",
            "7d25b7279ea24ad488faf14ca83f63a1",
            "8930abe61c0b4a19a5ff3f642cb25cdc",
            "77b1f505de984d36927c43d9a6ed48b9",
            "fd3d2de842404c3e9cd12063c8e5d2cb",
            "3cc967f3644a4c61aaffd0d2977dac25",
            "ff49148143d044fbb1948e55554411de",
            "c1209cb6441e40a6abdae5fd7ac48d0e"
          ]
        },
        "outputId": "911d735d-1ffb-41b6-b120-18049fdc40e0"
      },
      "source": [
        "# Import da biblioteca\n",
        "from tqdm.notebook import tqdm\n",
        "\n",
        "QTDE = 10000\n",
        "\n",
        "lista = []\n",
        "\n",
        "for x in tqdm(range(QTDE)):\n",
        "    lista.append(x**x)"
      ],
      "execution_count": 129,
      "outputs": [
        {
          "output_type": "display_data",
          "data": {
            "text/plain": [
              "  0%|          | 0/10000 [00:00<?, ?it/s]"
            ],
            "application/vnd.jupyter.widget-view+json": {
              "version_major": 2,
              "version_minor": 0,
              "model_id": "cf6d35d01d5c4e9288e0dd0df05e1b0d"
            }
          },
          "metadata": {}
        }
      ]
    },
    {
      "cell_type": "markdown",
      "metadata": {
        "id": "Yh2b79LTobBm"
      },
      "source": [
        "Usando trange"
      ]
    },
    {
      "cell_type": "code",
      "metadata": {
        "id": "fCp3dwH6oTrq",
        "colab": {
          "base_uri": "https://localhost:8080/",
          "height": 49,
          "referenced_widgets": [
            "fe2ae2190ad440d5b3a5ffa2269d5b1f",
            "7d3b0e438b424174b9ca94000330d246",
            "7f7cda69c4ed42fdb7b59517603c2318",
            "b451c780f41148fab48e64ab073369f5",
            "3e2726b5fa7347d4a73a6488f3cd38e3",
            "6f539efcb4524c938c3e9d740deecebf",
            "6f71f16b9a3c4f77a006ba049c45c5bb",
            "16f84f1d961143168c83b1733a7e3b1a",
            "52eb6c0cdd4f40328bd334734dba379b",
            "081c5d37b01847ebb61d2000bef7e8f8",
            "a6897c9dff4f475facba9f6f3b2a2c25"
          ]
        },
        "outputId": "89c502e8-f745-450c-a8d0-26fbc359db05"
      },
      "source": [
        "# Import da biblioteca\n",
        "from tqdm.notebook import trange\n",
        "\n",
        "QTDE = 10000\n",
        "\n",
        "lista = []\n",
        "\n",
        "for x in trange(QTDE):\n",
        "    lista.append(x**x)"
      ],
      "execution_count": 130,
      "outputs": [
        {
          "output_type": "display_data",
          "data": {
            "text/plain": [
              "  0%|          | 0/10000 [00:00<?, ?it/s]"
            ],
            "application/vnd.jupyter.widget-view+json": {
              "version_major": 2,
              "version_minor": 0,
              "model_id": "fe2ae2190ad440d5b3a5ffa2269d5b1f"
            }
          },
          "metadata": {}
        }
      ]
    },
    {
      "cell_type": "markdown",
      "metadata": {
        "id": "X_GDSzZunI6B"
      },
      "source": [
        "Adicionando detalhes a barra de progresso"
      ]
    },
    {
      "cell_type": "code",
      "metadata": {
        "id": "kOkWyRyWm0Sl",
        "colab": {
          "base_uri": "https://localhost:8080/",
          "height": 49,
          "referenced_widgets": [
            "c95845f977ee4ff7815f829d15886c63",
            "953e209b0fdb4a489b8f11886313aa66",
            "06610df4f74745f185c049c65668775e",
            "081de1dc348d4340bc9c3c6846094d95",
            "fa0eb65819a94659919bf1374e922b72",
            "efd10c6c0f054fe094c4c3624a1b49fc",
            "d2aaf492bcee4edba78fdfe86588b13d",
            "db456edc66594b74accdae6472240157",
            "6ab55b0e249042d9a3c33a2116c71a1c",
            "f667435df548415b90e2e97188ab7bb1",
            "cc6f819c45504cc6b58d9eef8c665ba0"
          ]
        },
        "outputId": "594452c2-69a1-43b1-920b-a10e4a8f4620"
      },
      "source": [
        "# Import da biblioteca\n",
        "from tqdm.notebook import tqdm\n",
        "\n",
        "QTDE = 10000\n",
        "\n",
        "lista = []\n",
        "\n",
        "for x in tqdm(range(QTDE), desc=f\"Contando\", unit=f\"vezes\", total=QTDE):\n",
        "    lista.append(x**x)"
      ],
      "execution_count": 131,
      "outputs": [
        {
          "output_type": "display_data",
          "data": {
            "text/plain": [
              "Contando:   0%|          | 0/10000 [00:00<?, ?vezes/s]"
            ],
            "application/vnd.jupyter.widget-view+json": {
              "version_major": 2,
              "version_minor": 0,
              "model_id": "c95845f977ee4ff7815f829d15886c63"
            }
          },
          "metadata": {}
        }
      ]
    },
    {
      "cell_type": "markdown",
      "metadata": {
        "id": "Dvsc1uEjz9HL"
      },
      "source": [
        "Atualizando a barra de progresso 1."
      ]
    },
    {
      "cell_type": "code",
      "metadata": {
        "id": "RJIMZab4ojDA",
        "colab": {
          "base_uri": "https://localhost:8080/",
          "height": 49,
          "referenced_widgets": [
            "0005cc683a2d4a8191a7adb1279d6a91",
            "f6cdf8f11aca45ddb1063480054828ae",
            "008fe9fc3968429882fa9daf34abfbcb",
            "64583ea67e4f45e09bd262c46f554ede",
            "a343851a66ce40d7a7acb1bc0bff9b99",
            "cb2791a525b34846bf13dc1a036129ed",
            "7be71c9dfc78443abc274be10cbdf9d5",
            "2b8ce49a0d6749aa996d2044b4326fd3",
            "913abeefb4f14320960d520ff8fb821f",
            "434d0a8548f54706ace346de190985d1",
            "a4d06ef3239648adb5d5194c5376648f"
          ]
        },
        "outputId": "daa939b4-8c55-44c3-a15c-423dba64d77f"
      },
      "source": [
        "# Import da biblioteca\n",
        "from tqdm.notebook import tqdm\n",
        "import time\n",
        "\n",
        "QTDE = 100\n",
        "\n",
        "lista = []\n",
        "\n",
        "barra_progresso = tqdm(range(QTDE), desc=f\"Contando\", unit=f\"vezes\", total=QTDE)\n",
        "\n",
        "for x in barra_progresso:\n",
        "    lista.append(x**x)\n",
        "\n",
        "    time.sleep(0.25)\n",
        "\n",
        "    # Mostra detalhes na barra de progresso\n",
        "    barra_progresso.set_postfix(tamanho=len(lista))"
      ],
      "execution_count": 132,
      "outputs": [
        {
          "output_type": "display_data",
          "data": {
            "text/plain": [
              "Contando:   0%|          | 0/100 [00:00<?, ?vezes/s]"
            ],
            "application/vnd.jupyter.widget-view+json": {
              "version_major": 2,
              "version_minor": 0,
              "model_id": "0005cc683a2d4a8191a7adb1279d6a91"
            }
          },
          "metadata": {}
        }
      ]
    },
    {
      "cell_type": "markdown",
      "metadata": {
        "id": "cngVpd4yHJHv"
      },
      "source": [
        "Atualizando a barra de progresso 2."
      ]
    },
    {
      "cell_type": "code",
      "metadata": {
        "colab": {
          "base_uri": "https://localhost:8080/",
          "height": 49,
          "referenced_widgets": [
            "0e2d6e9ac25544a58e02b52e00e9c4b3",
            "1eccc6d82c644cacb7a11967c2c1dcd2",
            "e14d2a215a87445f98442db9bb457bb8",
            "25b4b93e14304dfeb06bd3dda513b3c5",
            "54269889bbd143749481dc007677e4b9",
            "ccfafbe2538e454cbb5de0609ce38761",
            "fd7fa6771e334cf3885581de72a5bc28",
            "baca2b7b1212440588d06a51c3d06d1d",
            "5f31fd73c6334ec0a629d806c12a705d",
            "13b22bd7f85b4d8d9206bc45b37226d3",
            "02beeb50b3cc4496a0c3102bf4a6f053"
          ]
        },
        "outputId": "083c7d82-65a3-4bb2-dedb-f6789c178135",
        "id": "4o_unI4GHJHv"
      },
      "source": [
        "# Import da biblioteca\n",
        "from tqdm.notebook import tqdm\n",
        "import time\n",
        "\n",
        "QTDE = 100\n",
        "\n",
        "lista = []\n",
        "\n",
        "# Cria a barra de progresso\n",
        "barra_progresso = tqdm(desc=f\"Contando\", unit=f\"vezes\", total=QTDE)\n",
        "\n",
        "for x in range(0, QTDE):\n",
        "    lista.append(x**x)\n",
        "\n",
        "    time.sleep(0.25)\n",
        "\n",
        "    # Atualiza a barra de progresso\n",
        "    barra_progresso.update(1)\n",
        "\n",
        "    # Mostra detalhes na barra de progresso\n",
        "    barra_progresso.set_postfix(tamanho=len(lista))"
      ],
      "execution_count": 133,
      "outputs": [
        {
          "output_type": "display_data",
          "data": {
            "text/plain": [
              "Contando:   0%|          | 0/100 [00:00<?, ?vezes/s]"
            ],
            "application/vnd.jupyter.widget-view+json": {
              "version_major": 2,
              "version_minor": 0,
              "model_id": "0e2d6e9ac25544a58e02b52e00e9c4b3"
            }
          },
          "metadata": {}
        }
      ]
    },
    {
      "cell_type": "markdown",
      "metadata": {
        "id": "2nhj0MdnYZW8"
      },
      "source": [
        "## Exemplo barras com 2 níveis com lista"
      ]
    },
    {
      "cell_type": "code",
      "metadata": {
        "id": "Ec5ekCupYZW9",
        "colab": {
          "base_uri": "https://localhost:8080/",
          "height": 49,
          "referenced_widgets": [
            "aad984f175444c1782252fea2a956abb",
            "58eefd3814e64bf1987385125eb01ec5",
            "d173e1450ffa4ecd92a2469ca88c57d4",
            "549b04e815e547d0b9b55c292825b9ab",
            "0429d55d6102482fa815c75edb53e9ae",
            "1c6c7613027f48c8b4513a3ba548b05b",
            "da4f20c176804f43a3b584a8319760f6",
            "aa904e46ce6f4b5b95dc13e6cc4d8539",
            "29a3089fa9b44079a72617f5e6c5470b",
            "63fa80e270334fbcb03650591898f301",
            "1c03103b40834664a9046f1affbdc151",
            "d32762a90cad48bc962b9c65b9db49a0",
            "df4be506d80a4e96b158d32ae9834e6d",
            "2ffcbb0ebef74af0831611955096bf3a",
            "0be48c34c1514b92bf4af5fc63222455",
            "5746e00b5321435a98a3de56d783c234",
            "4966ac8f8e47421a81e2d795fcb4dbe1",
            "26f6903538a4460fb52dbef3db75aace",
            "fc7b205f1296450badc1d500fcd60423",
            "5d8d6d397fbe464b96c6000e62cb13ad",
            "f075bda3b51a4896b3d26af846277620",
            "c753fdf9a9a4476994efa9e7358c44cc",
            "90152b295a9b4e4897f96c035219bd61",
            "c6d5876b8a9c4b52957d23178ab5c540",
            "e7a53e0db3644eeca49e7b50c82008b8",
            "8b8fe062930542899f59c352b43c079d",
            "b99209eaabaa47c8917621d5ecf54665",
            "9420598534194f1da1a81ee22157a5b5",
            "b032e6e10e9d4b699e3e30fd1282aadc",
            "a3d3bfc18bb947e89c4c3ec38981dc0b",
            "cfe5ce743b414f48951e55f06de0645f",
            "f9d805e3c4f940aa8d326aed55a9291a",
            "a6e360737ef24e55ae62f0d939998be4",
            "b7440cb622df4ea0a46f682e4d8be6f7",
            "a999de1bbee34a1da9d5b27616ff110f",
            "f0edc182cfe641b3bd6c7d59e0d6296e",
            "a5c49fde31f94366b90e8b1bdf03caa4",
            "ac4086b44ff04278a50437f3740edc11",
            "3979e0f29585444a80c5c5b3b114eaa2",
            "51cefdf98151438badfe52a14198d43b",
            "033a5144f09c4cabb525ec5002b1b0e1",
            "ac117384f28d4112846a6e2fc5afdbc6",
            "3fbd1abde0684c159248beb9bfb26c87",
            "af1c2ee5141748cb97745bf45d061bba",
            "c6b27a4eb86c473389793f51a67d7449",
            "f42b59e214b345f1aa1c73387bbcac8b",
            "9f526c2460c34ffb90cb066389df3c6b",
            "18a2e0407bd94b84931fb48496da0a55",
            "d601f7a520174dd6a130f02dbe9060ee",
            "81f3844861b34d59adbd376d7abb6270",
            "3b5c4b219b6147ff96db21da2fca7c87",
            "38f55a025bdb4cd8895747dbe18e14fb",
            "f1159f4b779b4d3daf9f02173ccd494e",
            "ba011c81eb8c4d17a55bd9948ce0cccf",
            "7edee4db3b6a4838814fd5a2411d0e0a",
            "0bf7a26deeeb47c6afe1fbb7d0453958",
            "17574dd8c2ca45f0ac69ba9ddb911d48",
            "21f8d34aec0544f187094e9ee0b331ac",
            "0491638d1ce842b7b1d78b47c901807f",
            "ef886fcd746948188023748a201d25d8",
            "a82b43dd162244ec8b8277ac7eb1fa5d",
            "fc699b1720fb4ce3b0c3c6ae8846da70",
            "8bcb35f0378d449188b7771863f35c97",
            "4823f84822da45cb8121cadea22990bc",
            "5d584b6d677f4768bd3068f459b43cbd",
            "d452ec7d9a6341e1b02a83c3a8d7ab58"
          ]
        },
        "outputId": "dca76ceb-5b97-40bd-b3a3-b75b779bb739"
      },
      "source": [
        "# Import da biblioteca\n",
        "from tqdm.notebook import tqdm\n",
        "from time import sleep\n",
        "\n",
        "for x in tqdm(range(5), desc=f\"1o Laço\"):\n",
        "    for y in tqdm(range(100), desc=f\"2o Laço\", leave=False):\n",
        "        # Retarda o laço em 0.01 segundos\n",
        "        sleep(0.02)"
      ],
      "execution_count": 134,
      "outputs": [
        {
          "output_type": "display_data",
          "data": {
            "text/plain": [
              "1o Laço:   0%|          | 0/5 [00:00<?, ?it/s]"
            ],
            "application/vnd.jupyter.widget-view+json": {
              "version_major": 2,
              "version_minor": 0,
              "model_id": "aad984f175444c1782252fea2a956abb"
            }
          },
          "metadata": {}
        },
        {
          "output_type": "display_data",
          "data": {
            "text/plain": [
              "2o Laço:   0%|          | 0/100 [00:00<?, ?it/s]"
            ],
            "application/vnd.jupyter.widget-view+json": {
              "version_major": 2,
              "version_minor": 0,
              "model_id": "d32762a90cad48bc962b9c65b9db49a0"
            }
          },
          "metadata": {}
        },
        {
          "output_type": "display_data",
          "data": {
            "text/plain": [
              "2o Laço:   0%|          | 0/100 [00:00<?, ?it/s]"
            ],
            "application/vnd.jupyter.widget-view+json": {
              "version_major": 2,
              "version_minor": 0,
              "model_id": "90152b295a9b4e4897f96c035219bd61"
            }
          },
          "metadata": {}
        },
        {
          "output_type": "display_data",
          "data": {
            "text/plain": [
              "2o Laço:   0%|          | 0/100 [00:00<?, ?it/s]"
            ],
            "application/vnd.jupyter.widget-view+json": {
              "version_major": 2,
              "version_minor": 0,
              "model_id": "b7440cb622df4ea0a46f682e4d8be6f7"
            }
          },
          "metadata": {}
        },
        {
          "output_type": "display_data",
          "data": {
            "text/plain": [
              "2o Laço:   0%|          | 0/100 [00:00<?, ?it/s]"
            ],
            "application/vnd.jupyter.widget-view+json": {
              "version_major": 2,
              "version_minor": 0,
              "model_id": "c6b27a4eb86c473389793f51a67d7449"
            }
          },
          "metadata": {}
        },
        {
          "output_type": "display_data",
          "data": {
            "text/plain": [
              "2o Laço:   0%|          | 0/100 [00:00<?, ?it/s]"
            ],
            "application/vnd.jupyter.widget-view+json": {
              "version_major": 2,
              "version_minor": 0,
              "model_id": "0bf7a26deeeb47c6afe1fbb7d0453958"
            }
          },
          "metadata": {}
        }
      ]
    },
    {
      "cell_type": "markdown",
      "metadata": {
        "id": "40_b4jIFf9kP"
      },
      "source": [
        "## Exemplo barras com pandas"
      ]
    },
    {
      "cell_type": "code",
      "metadata": {
        "id": "xz59Og8_f9kQ",
        "colab": {
          "base_uri": "https://localhost:8080/",
          "height": 309,
          "referenced_widgets": [
            "066df8290b5e478992a6f10933e84628",
            "96792868fa354f50a56d6609959965e2",
            "754beebd8dd34eb28f2ee2d8f36d5a0c",
            "9d748c50c0e64d0d89ac2af5e913b93b",
            "55d6e456fa52443a84b6af8afcf1fbeb",
            "e63c1c00b2af4e9f967172a24f4ddd73",
            "ad34d2585d9b40c7a233a8f7124abcc5",
            "5ebbe92be04f46bfba612b07cdbca96b",
            "0424af0599114d719db21c89cb0e5051",
            "7f7a1939308f499f982a784086a5d1b7",
            "b6d893c27cc34943a27db6c4d1afa00c"
          ]
        },
        "outputId": "585a0e2f-a337-4c50-bb93-bb7469abe491"
      },
      "source": [
        "# Import da biblioteca\n",
        "from tqdm.notebook import tqdm\n",
        "from time import sleep\n",
        "import pandas as pd\n",
        "\n",
        "# Lista utilizada\n",
        "lista = [[1, \"Joao\"],\n",
        "         [2, \"Maria\"],\n",
        "         [3, \"Pedro\"],\n",
        "         [4, \"Luiz\"],\n",
        "         [5, \"José\"]]\n",
        "\n",
        "# Converte em um dataframe\n",
        "dfdados = pd.DataFrame(lista, columns=(\"codigo\", \"nome\"))\n",
        "\n",
        "for index, linha in tqdm(dfdados.iterrows(), desc=f\"Clientes\", unit=f\"cliente\", total=dfdados.shape[0]):\n",
        "   # Retarda o laço em 0.01 segundos\n",
        "   sleep(1)\n",
        "   # Mostra os dados\n",
        "   print(index, linha)"
      ],
      "execution_count": 135,
      "outputs": [
        {
          "output_type": "display_data",
          "data": {
            "text/plain": [
              "Clientes:   0%|          | 0/5 [00:00<?, ?cliente/s]"
            ],
            "application/vnd.jupyter.widget-view+json": {
              "version_major": 2,
              "version_minor": 0,
              "model_id": "066df8290b5e478992a6f10933e84628"
            }
          },
          "metadata": {}
        },
        {
          "output_type": "stream",
          "name": "stdout",
          "text": [
            "0 codigo       1\n",
            "nome      Joao\n",
            "Name: 0, dtype: object\n",
            "1 codigo        2\n",
            "nome      Maria\n",
            "Name: 1, dtype: object\n",
            "2 codigo        3\n",
            "nome      Pedro\n",
            "Name: 2, dtype: object\n",
            "3 codigo       4\n",
            "nome      Luiz\n",
            "Name: 3, dtype: object\n",
            "4 codigo       5\n",
            "nome      José\n",
            "Name: 4, dtype: object\n"
          ]
        }
      ]
    },
    {
      "cell_type": "markdown",
      "metadata": {
        "id": "A8bamUWrJG3j"
      },
      "source": [
        "# Funções de tempo."
      ]
    },
    {
      "cell_type": "markdown",
      "metadata": {
        "id": "Mw8KyNOJJLwf"
      },
      "source": [
        "## Soma de tempo\n",
        "\n",
        "Calcula a soma de uma lista de tempo string no formato hh:mm:ss"
      ]
    },
    {
      "cell_type": "code",
      "metadata": {
        "id": "V4gekVLwJIcD"
      },
      "source": [
        "def somaTempo(tempos):\n",
        "    \"\"\"\n",
        "    Calcula a soma de uma lista de tempo string no formato hh:mm:ss\n",
        "    \"\"\"\n",
        "    t = (tempo.split(\":\") for tempo in tempos)\n",
        "    # Converte para segundos\n",
        "    segundos = ((float(s) + int(m) * 60 + int(h) * 3600) for h, m, s in t)\n",
        "    # Soma os segundos\n",
        "    soma_segundos = sum([s * 1. for s in segundos])\n",
        "    # Recupera as horas e os minutos\n",
        "    h, m = divmod(soma_segundos, 3600)\n",
        "    # Recupera os minutos e os segundos\n",
        "    m, s = divmod(m, 60)\n",
        "    return \"{:02d}:{:02d}:{:02d}\".format(int(h), int(m), int(s))"
      ],
      "execution_count": 136,
      "outputs": []
    },
    {
      "cell_type": "code",
      "metadata": {
        "id": "DX_9PW3rJTC8",
        "colab": {
          "base_uri": "https://localhost:8080/"
        },
        "outputId": "1c74ec52-1039-40ff-882e-74d2fc456202"
      },
      "source": [
        "listaTempo = []\n",
        "\n",
        "listaTempo.append(\"1:10:00\")\n",
        "listaTempo.append(\"1:15:00\")\n",
        "\n",
        "print(somaTempo(listaTempo))"
      ],
      "execution_count": 137,
      "outputs": [
        {
          "output_type": "stream",
          "name": "stdout",
          "text": [
            "02:25:00\n"
          ]
        }
      ]
    },
    {
      "cell_type": "markdown",
      "metadata": {
        "id": "VQuuyq8-JkdK"
      },
      "source": [
        "## Média de tempo\n",
        "\n",
        "Calcula a média de uma lista de tempo string no formato hh:mm:ss"
      ]
    },
    {
      "cell_type": "code",
      "metadata": {
        "id": "XfCOca1uJkdZ"
      },
      "source": [
        "# Import das bibliotecas.\n",
        "from cmath import rect, phase\n",
        "from math import radians, degrees\n",
        "\n",
        "def mediaAngulo(deg):\n",
        "    return degrees(phase(sum(rect(1, radians(d)) for d in deg)/len(deg)))\n",
        "\n",
        "def mediaTempo(tempos):\n",
        "    \"\"\"\n",
        "    Calcula a média de uma lista de tempo string no formato hh:mm:ss\n",
        "    \"\"\"\n",
        "    t = (tempo.split(\":\") for tempo in tempos)\n",
        "    # Converte para segundos\n",
        "    segundos = ((float(s) + int(m) * 60 + int(h) * 3600) for h, m, s in t)\n",
        "    # Verifica se deu algum dia\n",
        "    dia = 24 * 60 * 60\n",
        "    # Converte para angulos\n",
        "    paraAngulos = [s * 360. / dia for s in segundos]\n",
        "    # Calcula a média dos angulos\n",
        "    mediaComoAngulo = mediaAngulo(paraAngulos)\n",
        "    media_segundos = mediaComoAngulo * dia / 360.\n",
        "    if media_segundos < 0:\n",
        "        media_segundos += dia\n",
        "    # Recupera as horas e os minutos\n",
        "    h, m = divmod(media_segundos, 3600)\n",
        "    # Recupera os minutos e os segundos\n",
        "    m, s = divmod(m, 60)\n",
        "    return \"{:02d}:{:02d}:{:02d}\".format(int(h), int(m), int(s))"
      ],
      "execution_count": 138,
      "outputs": []
    },
    {
      "cell_type": "code",
      "metadata": {
        "id": "70LONLkuJkda",
        "colab": {
          "base_uri": "https://localhost:8080/"
        },
        "outputId": "ecaa0ac7-b21a-43f9-c80c-6f9b1b591de5"
      },
      "source": [
        "listaTempo = []\n",
        "\n",
        "listaTempo.append(\"1:30:00\")\n",
        "listaTempo.append(\"1:45:00\")\n",
        "\n",
        "print(mediaTempo(listaTempo))"
      ],
      "execution_count": 139,
      "outputs": [
        {
          "output_type": "stream",
          "name": "stdout",
          "text": [
            "01:37:30\n"
          ]
        }
      ]
    },
    {
      "cell_type": "markdown",
      "metadata": {
        "id": "6BeOki83y6pL"
      },
      "source": [
        "# Roleta"
      ]
    },
    {
      "cell_type": "markdown",
      "metadata": {
        "id": "2EOMFMyiy_BA"
      },
      "source": [
        "## Roleta **com** repetição do elemento sorteado\n",
        "\n",
        "Um elemento pode ser sorteado mais de uma vez."
      ]
    },
    {
      "cell_type": "code",
      "metadata": {
        "id": "VIEFvfXozD9F",
        "colab": {
          "base_uri": "https://localhost:8080/"
        },
        "outputId": "5a9f9882-5303-4f15-8685-86af10d56708"
      },
      "source": [
        "# Import das bibliotecas\n",
        "from random import randint\n",
        "\n",
        "# Lista dos elementos a serem sorteados\n",
        "lista = [\"João\",\"Maria\",\"Pedro\",\"Jose\",\"André\",\"Fernando\"]\n",
        "\n",
        "for i in range(len(lista)):\n",
        "  # Sorteio de um número da roleta\n",
        "  sorteio = randint(1,len(lista))\n",
        "\n",
        "  # Os índices da lista começam em 0, portanto se desconta 1\n",
        "  sorteio = sorteio -1\n",
        "\n",
        "  # Recupera a frase sorteada\n",
        "  texto_sorteado = lista[sorteio]\n",
        "\n",
        "  # Mostra o elemento sorteado\n",
        "  print(i,\"-\",texto_sorteado)"
      ],
      "execution_count": 140,
      "outputs": [
        {
          "output_type": "stream",
          "name": "stdout",
          "text": [
            "0 - Pedro\n",
            "1 - Pedro\n",
            "2 - Jose\n",
            "3 - Jose\n",
            "4 - André\n",
            "5 - André\n"
          ]
        }
      ]
    },
    {
      "cell_type": "markdown",
      "metadata": {
        "id": "-h5_tg7mzEJc"
      },
      "source": [
        "## Roleta **sem** repetição dos números sorteados\n",
        "\n",
        "Um elemento só pode ser sorteado uma vez."
      ]
    },
    {
      "cell_type": "code",
      "metadata": {
        "id": "rX9MAf4qzIbs",
        "colab": {
          "base_uri": "https://localhost:8080/"
        },
        "outputId": "af0d0fc6-2f4f-47ff-f294-aa3ed34d91b7"
      },
      "source": [
        "# Import das bibliotecas\n",
        "from random import randint\n",
        "\n",
        "# Lista dos elementos a serem sorteados\n",
        "lista = [\"João\",\"Maria\",\"Pedro\",\"Jose\",\"André\",\"Fernando\"]\n",
        "\n",
        "for i in range(len(lista)):\n",
        "  # Sorteio de um número da roleta\n",
        "  sorteio = randint(1,len(lista))\n",
        "\n",
        "  # Os índices da lista começam em 0, portanto se desconta 1\n",
        "  sorteio = sorteio -1\n",
        "\n",
        "  # Recupera o elemento sorteado\n",
        "  texto_sorteado = lista[sorteio]\n",
        "\n",
        "  # Remove a frase sorteada, para que a oração não seja mais sorteada\n",
        "  del lista[sorteio]\n",
        "\n",
        "  # Mostra o elemento sorteado\n",
        "  print(i,\"-\",texto_sorteado)"
      ],
      "execution_count": 141,
      "outputs": [
        {
          "output_type": "stream",
          "name": "stdout",
          "text": [
            "0 - Fernando\n",
            "1 - Pedro\n",
            "2 - Maria\n",
            "3 - Jose\n",
            "4 - André\n",
            "5 - João\n"
          ]
        }
      ]
    },
    {
      "cell_type": "markdown",
      "source": [
        "# Combinação\n",
        "\n",
        "A ordem não é importante.\n",
        "\n",
        "Número de combinações $C_k=\\frac{n!}{k!(n-k)!}$"
      ],
      "metadata": {
        "id": "F_KxKim27YoE"
      }
    },
    {
      "cell_type": "code",
      "source": [
        "# Import das bibliotecas\n",
        "from itertools import combinations\n",
        "\n",
        "# Números que serão combinados\n",
        "numeros = [1,2,3,4]\n",
        "\n",
        "# Realiza a combinação\n",
        "combinacao = combinations(numeros,2)\n",
        "\n",
        "# Converte as combinações em uma lista\n",
        "print(list(combinacao))"
      ],
      "metadata": {
        "colab": {
          "base_uri": "https://localhost:8080/"
        },
        "id": "M0OQWJlu75C_",
        "outputId": "b54eb9ce-a7b9-462a-a291-743b9b419c96"
      },
      "execution_count": 142,
      "outputs": [
        {
          "output_type": "stream",
          "name": "stdout",
          "text": [
            "[(1, 2), (1, 3), (1, 4), (2, 3), (2, 4), (3, 4)]\n"
          ]
        }
      ]
    },
    {
      "cell_type": "markdown",
      "source": [
        "# Permutação\n",
        "\n",
        "A ordem dos elementos é importante.\n",
        "\n",
        "Número de combinações $P_k=\\frac{n!}{(n-k)!}$"
      ],
      "metadata": {
        "id": "2B-zI8rm8UcK"
      }
    },
    {
      "cell_type": "code",
      "source": [
        "# Import das bibliotecas\n",
        "from itertools import permutations\n",
        "\n",
        "# Números que serão permutados\n",
        "numeros = [1,2,3,4]\n",
        "\n",
        "# Realiza a permutação\n",
        "permutacao = permutations(numeros,2)\n",
        "\n",
        "# Converte as permutações em uma lista\n",
        "print(list(permutacao))"
      ],
      "metadata": {
        "colab": {
          "base_uri": "https://localhost:8080/"
        },
        "id": "O9-SQ7YP8cdq",
        "outputId": "7e9d8bce-0a3e-4ebf-eef0-0427d96d14e6"
      },
      "execution_count": 143,
      "outputs": [
        {
          "output_type": "stream",
          "name": "stdout",
          "text": [
            "[(1, 2), (1, 3), (1, 4), (2, 1), (2, 3), (2, 4), (3, 1), (3, 2), (3, 4), (4, 1), (4, 2), (4, 3)]\n"
          ]
        }
      ]
    },
    {
      "cell_type": "markdown",
      "metadata": {
        "id": "O4CF_vAclai-"
      },
      "source": [
        "# Comparando pares diferentes de 0\n",
        "\n",
        "Percorre o vetor de valores comparando pares sucessivos desde que o valor seja diferente 0."
      ]
    },
    {
      "cell_type": "code",
      "metadata": {
        "id": "pE9e1_k9lavz",
        "colab": {
          "base_uri": "https://localhost:8080/"
        },
        "outputId": "696b66de-f5e8-4283-f893-6a20c10718ef"
      },
      "source": [
        "# Lista dos valores\n",
        "valores = [1,0,1,1,0,1]\n",
        "n = len(valores)\n",
        "divisor = n - 1\n",
        "\n",
        "# Aculama a soma dos valores\n",
        "soma = 0\n",
        "\n",
        "# Indíces dos pares iniciais\n",
        "pos1 = 0\n",
        "pos2 = pos1 + 1\n",
        "\n",
        "#Enquanto o índice do 2o valor não chegou ao final da listta de valores\n",
        "while pos2 <= (n -1):\n",
        "\n",
        "  # Recupera os valores\n",
        "  val1 = valores[pos1]\n",
        "  val2 = valores[pos2]\n",
        "\n",
        "  if val1 != 0 and val2 != 0:\n",
        "      print(\"Par:\", pos1, pos2, \" valores:\", val1, val2)\n",
        "      soma = soma + (val1  + val2)\n",
        "      # avança para o próximo par\n",
        "      pos1 = pos2\n",
        "      pos2 = pos2 + 1\n",
        "  else:\n",
        "    divisor = divisor - 1\n",
        "    # Se pos1 igual a 0 avanca pos1 e pos2\n",
        "    if val1 == 0:\n",
        "        pos1 = pos2\n",
        "        pos2 = pos2 + 1\n",
        "    else:\n",
        "      # Se pos2 = 0 avança pos2\n",
        "      if val2 == 0:\n",
        "        pos2 = pos2 + 1\n",
        "\n",
        "# Calcula a média da comparação dos pares\n",
        "print(\"soma:\",soma)\n",
        "if (divisor != 0):\n",
        "  print(\"media:\",soma/divisor)\n",
        "else:\n",
        "  print(\"media:\",0)"
      ],
      "execution_count": 144,
      "outputs": [
        {
          "output_type": "stream",
          "name": "stdout",
          "text": [
            "Par: 0 2  valores: 1 1\n",
            "Par: 2 3  valores: 1 1\n",
            "Par: 3 5  valores: 1 1\n",
            "soma: 6\n",
            "media: 2.0\n"
          ]
        }
      ]
    },
    {
      "cell_type": "markdown",
      "metadata": {
        "id": "opphp_nBzPO3"
      },
      "source": [
        "# Versão Python"
      ]
    },
    {
      "cell_type": "code",
      "metadata": {
        "id": "A6cmlG0ezSI-",
        "colab": {
          "base_uri": "https://localhost:8080/"
        },
        "outputId": "253a2571-5832-40b1-fb60-5807638411fe"
      },
      "source": [
        "!python --version"
      ],
      "execution_count": 145,
      "outputs": [
        {
          "output_type": "stream",
          "name": "stdout",
          "text": [
            "Python 3.10.12\n"
          ]
        }
      ]
    },
    {
      "cell_type": "markdown",
      "metadata": {
        "id": "BtMU-XVKJibN"
      },
      "source": [
        "# Previnir que a sessão seja desconectada\n",
        "\n",
        "https://medium.com/@shivamrawat_756/how-to-prevent-google-colab-from-disconnecting-717b88a128c0\n",
        "\n",
        "Para garantir que seu colab não seja desconectado por inatividade, você pode colar este código no console desta aba (*clique com o botão direito do mouse -> inspecionar -> aba Console e inserir código*).\n",
        "\n",
        "Ou pressione:\n",
        "```\n",
        "Ctrl+Shift+i\n",
        "```\n",
        "\n",
        "Insira o código abaixo no console e enter:\n",
        "```\n",
        "function ClickConnect(){\n",
        "    console.log(\"ClickConnect pushed\");\n",
        "    document.querySelector(\"#top-toolbar > colab-connect-button\").shadowRoot.querySelector(\"#connect\").click()\n",
        "}\n",
        "\n",
        "setInterval(ClickConnect,60000);\n",
        "```\n",
        "\n"
      ]
    },
    {
      "cell_type": "markdown",
      "metadata": {
        "id": "iGRe2RsijK84"
      },
      "source": [
        "# Formatar célula de texto\n",
        "\n",
        "https://ichi.pro/pt/folha-de-referencias-do-google-colab-109423812460691"
      ]
    },
    {
      "cell_type": "markdown",
      "metadata": {
        "id": "kh3TuNb2zDnY"
      },
      "source": [
        "# Rodando Notebook do Google Colaboratory no Jupyter Notebook pelo Anaconda\n",
        "\n",
        "https://medium.com/analytics-vidhya/getting-started-with-python-anaconda-google-colab-and-virtual-environments-1ce8fc3286f9\n",
        "\n",
        "Configuração da  máquina local:\n",
        "\n",
        "**1)   Instalar o Jupyter** (instalar o Jupyter Notebook pelo Anaconda Toolkit)\n",
        "\n",
        "https://www.anaconda.com/products/individual\n",
        "\n",
        "**2) Instalar e Habilitar a extensão `jupyter_http_over_ws`**\n",
        "\n",
        "`pip install jupyter_http_over_ws`\n",
        "\n",
        "`jupyter serverextension enable --py jupyter_http_over_ws`\n",
        "\n",
        "**3) Rodar o Jupyter Notebook e permitir acesso ao Google Colaboratory**\n",
        "\n",
        "`jupyter notebook --NotebookApp.allow_origin=\"https://colab.research.google.com\" --port=8888 --NotebookApp.port_retries=0`\n",
        "\n",
        "**4) Conectar a uma execução local (RunTime Local)**\n",
        "\n",
        "No Google Colaboratory, clique no botão \"Connect\" e selecione \"Connect to local runtime\" Digite o URL da etapa anterior na caixa de diálogo exibida e clique no botão \"Connect\"."
      ]
    }
  ]
}