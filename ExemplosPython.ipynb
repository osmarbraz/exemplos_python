{
  "nbformat": 4,
  "nbformat_minor": 0,
  "metadata": {
    "colab": {
      "provenance": [],
      "collapsed_sections": [],
      "include_colab_link": true
    },
    "kernelspec": {
      "display_name": "Python 3",
      "name": "python3"
    },
    "widgets": {
      "application/vnd.jupyter.widget-state+json": {
        "318869aee5734a33a388ea9debdf475c": {
          "model_module": "@jupyter-widgets/controls",
          "model_name": "HBoxModel",
          "model_module_version": "1.5.0",
          "state": {
            "_view_name": "HBoxView",
            "_dom_classes": [],
            "_model_name": "HBoxModel",
            "_view_module": "@jupyter-widgets/controls",
            "_model_module_version": "1.5.0",
            "_view_count": null,
            "_view_module_version": "1.5.0",
            "box_style": "",
            "layout": "IPY_MODEL_8a3d83d4a01d4c5799d37b3ee614190f",
            "_model_module": "@jupyter-widgets/controls",
            "children": [
              "IPY_MODEL_b569638ed1aa4cc5a644bc5940b8bffd",
              "IPY_MODEL_87625df74fe24e5a856ed7f507c68563",
              "IPY_MODEL_453899acd7694170878efa833ec03432"
            ]
          }
        },
        "8a3d83d4a01d4c5799d37b3ee614190f": {
          "model_module": "@jupyter-widgets/base",
          "model_name": "LayoutModel",
          "model_module_version": "1.2.0",
          "state": {
            "_view_name": "LayoutView",
            "grid_template_rows": null,
            "right": null,
            "justify_content": null,
            "_view_module": "@jupyter-widgets/base",
            "overflow": null,
            "_model_module_version": "1.2.0",
            "_view_count": null,
            "flex_flow": null,
            "width": null,
            "min_width": null,
            "border": null,
            "align_items": null,
            "bottom": null,
            "_model_module": "@jupyter-widgets/base",
            "top": null,
            "grid_column": null,
            "overflow_y": null,
            "overflow_x": null,
            "grid_auto_flow": null,
            "grid_area": null,
            "grid_template_columns": null,
            "flex": null,
            "_model_name": "LayoutModel",
            "justify_items": null,
            "grid_row": null,
            "max_height": null,
            "align_content": null,
            "visibility": null,
            "align_self": null,
            "height": null,
            "min_height": null,
            "padding": null,
            "grid_auto_rows": null,
            "grid_gap": null,
            "max_width": null,
            "order": null,
            "_view_module_version": "1.2.0",
            "grid_template_areas": null,
            "object_position": null,
            "object_fit": null,
            "grid_auto_columns": null,
            "margin": null,
            "display": null,
            "left": null
          }
        },
        "b569638ed1aa4cc5a644bc5940b8bffd": {
          "model_module": "@jupyter-widgets/controls",
          "model_name": "HTMLModel",
          "model_module_version": "1.5.0",
          "state": {
            "_view_name": "HTMLView",
            "style": "IPY_MODEL_63dc83dcecac47ccb1b9719251e57a5b",
            "_dom_classes": [],
            "description": "",
            "_model_name": "HTMLModel",
            "placeholder": "​",
            "_view_module": "@jupyter-widgets/controls",
            "_model_module_version": "1.5.0",
            "value": "100%",
            "_view_count": null,
            "_view_module_version": "1.5.0",
            "description_tooltip": null,
            "_model_module": "@jupyter-widgets/controls",
            "layout": "IPY_MODEL_b13d690081b44466805252de1f157b12"
          }
        },
        "87625df74fe24e5a856ed7f507c68563": {
          "model_module": "@jupyter-widgets/controls",
          "model_name": "FloatProgressModel",
          "model_module_version": "1.5.0",
          "state": {
            "_view_name": "ProgressView",
            "style": "IPY_MODEL_1296f5019b1b4b029607e63dd19c7b24",
            "_dom_classes": [],
            "description": "",
            "_model_name": "FloatProgressModel",
            "bar_style": "success",
            "max": 10000,
            "_view_module": "@jupyter-widgets/controls",
            "_model_module_version": "1.5.0",
            "value": 10000,
            "_view_count": null,
            "_view_module_version": "1.5.0",
            "orientation": "horizontal",
            "min": 0,
            "description_tooltip": null,
            "_model_module": "@jupyter-widgets/controls",
            "layout": "IPY_MODEL_322a231054f749a793b813f07c23cd0a"
          }
        },
        "453899acd7694170878efa833ec03432": {
          "model_module": "@jupyter-widgets/controls",
          "model_name": "HTMLModel",
          "model_module_version": "1.5.0",
          "state": {
            "_view_name": "HTMLView",
            "style": "IPY_MODEL_6f70a5161902454b9717cb1ba347ab50",
            "_dom_classes": [],
            "description": "",
            "_model_name": "HTMLModel",
            "placeholder": "​",
            "_view_module": "@jupyter-widgets/controls",
            "_model_module_version": "1.5.0",
            "value": " 10000/10000 [00:09&lt;00:00, 506.16it/s]",
            "_view_count": null,
            "_view_module_version": "1.5.0",
            "description_tooltip": null,
            "_model_module": "@jupyter-widgets/controls",
            "layout": "IPY_MODEL_a50da2bb5447437f903ca9618fec0589"
          }
        },
        "63dc83dcecac47ccb1b9719251e57a5b": {
          "model_module": "@jupyter-widgets/controls",
          "model_name": "DescriptionStyleModel",
          "model_module_version": "1.5.0",
          "state": {
            "_view_name": "StyleView",
            "_model_name": "DescriptionStyleModel",
            "description_width": "",
            "_view_module": "@jupyter-widgets/base",
            "_model_module_version": "1.5.0",
            "_view_count": null,
            "_view_module_version": "1.2.0",
            "_model_module": "@jupyter-widgets/controls"
          }
        },
        "b13d690081b44466805252de1f157b12": {
          "model_module": "@jupyter-widgets/base",
          "model_name": "LayoutModel",
          "model_module_version": "1.2.0",
          "state": {
            "_view_name": "LayoutView",
            "grid_template_rows": null,
            "right": null,
            "justify_content": null,
            "_view_module": "@jupyter-widgets/base",
            "overflow": null,
            "_model_module_version": "1.2.0",
            "_view_count": null,
            "flex_flow": null,
            "width": null,
            "min_width": null,
            "border": null,
            "align_items": null,
            "bottom": null,
            "_model_module": "@jupyter-widgets/base",
            "top": null,
            "grid_column": null,
            "overflow_y": null,
            "overflow_x": null,
            "grid_auto_flow": null,
            "grid_area": null,
            "grid_template_columns": null,
            "flex": null,
            "_model_name": "LayoutModel",
            "justify_items": null,
            "grid_row": null,
            "max_height": null,
            "align_content": null,
            "visibility": null,
            "align_self": null,
            "height": null,
            "min_height": null,
            "padding": null,
            "grid_auto_rows": null,
            "grid_gap": null,
            "max_width": null,
            "order": null,
            "_view_module_version": "1.2.0",
            "grid_template_areas": null,
            "object_position": null,
            "object_fit": null,
            "grid_auto_columns": null,
            "margin": null,
            "display": null,
            "left": null
          }
        },
        "1296f5019b1b4b029607e63dd19c7b24": {
          "model_module": "@jupyter-widgets/controls",
          "model_name": "ProgressStyleModel",
          "model_module_version": "1.5.0",
          "state": {
            "_view_name": "StyleView",
            "_model_name": "ProgressStyleModel",
            "description_width": "",
            "_view_module": "@jupyter-widgets/base",
            "_model_module_version": "1.5.0",
            "_view_count": null,
            "_view_module_version": "1.2.0",
            "bar_color": null,
            "_model_module": "@jupyter-widgets/controls"
          }
        },
        "322a231054f749a793b813f07c23cd0a": {
          "model_module": "@jupyter-widgets/base",
          "model_name": "LayoutModel",
          "model_module_version": "1.2.0",
          "state": {
            "_view_name": "LayoutView",
            "grid_template_rows": null,
            "right": null,
            "justify_content": null,
            "_view_module": "@jupyter-widgets/base",
            "overflow": null,
            "_model_module_version": "1.2.0",
            "_view_count": null,
            "flex_flow": null,
            "width": null,
            "min_width": null,
            "border": null,
            "align_items": null,
            "bottom": null,
            "_model_module": "@jupyter-widgets/base",
            "top": null,
            "grid_column": null,
            "overflow_y": null,
            "overflow_x": null,
            "grid_auto_flow": null,
            "grid_area": null,
            "grid_template_columns": null,
            "flex": null,
            "_model_name": "LayoutModel",
            "justify_items": null,
            "grid_row": null,
            "max_height": null,
            "align_content": null,
            "visibility": null,
            "align_self": null,
            "height": null,
            "min_height": null,
            "padding": null,
            "grid_auto_rows": null,
            "grid_gap": null,
            "max_width": null,
            "order": null,
            "_view_module_version": "1.2.0",
            "grid_template_areas": null,
            "object_position": null,
            "object_fit": null,
            "grid_auto_columns": null,
            "margin": null,
            "display": null,
            "left": null
          }
        },
        "6f70a5161902454b9717cb1ba347ab50": {
          "model_module": "@jupyter-widgets/controls",
          "model_name": "DescriptionStyleModel",
          "model_module_version": "1.5.0",
          "state": {
            "_view_name": "StyleView",
            "_model_name": "DescriptionStyleModel",
            "description_width": "",
            "_view_module": "@jupyter-widgets/base",
            "_model_module_version": "1.5.0",
            "_view_count": null,
            "_view_module_version": "1.2.0",
            "_model_module": "@jupyter-widgets/controls"
          }
        },
        "a50da2bb5447437f903ca9618fec0589": {
          "model_module": "@jupyter-widgets/base",
          "model_name": "LayoutModel",
          "model_module_version": "1.2.0",
          "state": {
            "_view_name": "LayoutView",
            "grid_template_rows": null,
            "right": null,
            "justify_content": null,
            "_view_module": "@jupyter-widgets/base",
            "overflow": null,
            "_model_module_version": "1.2.0",
            "_view_count": null,
            "flex_flow": null,
            "width": null,
            "min_width": null,
            "border": null,
            "align_items": null,
            "bottom": null,
            "_model_module": "@jupyter-widgets/base",
            "top": null,
            "grid_column": null,
            "overflow_y": null,
            "overflow_x": null,
            "grid_auto_flow": null,
            "grid_area": null,
            "grid_template_columns": null,
            "flex": null,
            "_model_name": "LayoutModel",
            "justify_items": null,
            "grid_row": null,
            "max_height": null,
            "align_content": null,
            "visibility": null,
            "align_self": null,
            "height": null,
            "min_height": null,
            "padding": null,
            "grid_auto_rows": null,
            "grid_gap": null,
            "max_width": null,
            "order": null,
            "_view_module_version": "1.2.0",
            "grid_template_areas": null,
            "object_position": null,
            "object_fit": null,
            "grid_auto_columns": null,
            "margin": null,
            "display": null,
            "left": null
          }
        },
        "f01dd763fa584bd6b355c4ef3b101037": {
          "model_module": "@jupyter-widgets/controls",
          "model_name": "HBoxModel",
          "model_module_version": "1.5.0",
          "state": {
            "_view_name": "HBoxView",
            "_dom_classes": [],
            "_model_name": "HBoxModel",
            "_view_module": "@jupyter-widgets/controls",
            "_model_module_version": "1.5.0",
            "_view_count": null,
            "_view_module_version": "1.5.0",
            "box_style": "",
            "layout": "IPY_MODEL_a320c657d9cf44c98bfe6bcc26d193ed",
            "_model_module": "@jupyter-widgets/controls",
            "children": [
              "IPY_MODEL_dcc3b9777bf04aed8827440026399afb",
              "IPY_MODEL_91dfc50bcdc54babb126db1429373585",
              "IPY_MODEL_2f1729fcefa740d5b385a69fcb196a02"
            ]
          }
        },
        "a320c657d9cf44c98bfe6bcc26d193ed": {
          "model_module": "@jupyter-widgets/base",
          "model_name": "LayoutModel",
          "model_module_version": "1.2.0",
          "state": {
            "_view_name": "LayoutView",
            "grid_template_rows": null,
            "right": null,
            "justify_content": null,
            "_view_module": "@jupyter-widgets/base",
            "overflow": null,
            "_model_module_version": "1.2.0",
            "_view_count": null,
            "flex_flow": null,
            "width": null,
            "min_width": null,
            "border": null,
            "align_items": null,
            "bottom": null,
            "_model_module": "@jupyter-widgets/base",
            "top": null,
            "grid_column": null,
            "overflow_y": null,
            "overflow_x": null,
            "grid_auto_flow": null,
            "grid_area": null,
            "grid_template_columns": null,
            "flex": null,
            "_model_name": "LayoutModel",
            "justify_items": null,
            "grid_row": null,
            "max_height": null,
            "align_content": null,
            "visibility": null,
            "align_self": null,
            "height": null,
            "min_height": null,
            "padding": null,
            "grid_auto_rows": null,
            "grid_gap": null,
            "max_width": null,
            "order": null,
            "_view_module_version": "1.2.0",
            "grid_template_areas": null,
            "object_position": null,
            "object_fit": null,
            "grid_auto_columns": null,
            "margin": null,
            "display": null,
            "left": null
          }
        },
        "dcc3b9777bf04aed8827440026399afb": {
          "model_module": "@jupyter-widgets/controls",
          "model_name": "HTMLModel",
          "model_module_version": "1.5.0",
          "state": {
            "_view_name": "HTMLView",
            "style": "IPY_MODEL_d4a433f0087f4b8bbd89b39f5a4cfea8",
            "_dom_classes": [],
            "description": "",
            "_model_name": "HTMLModel",
            "placeholder": "​",
            "_view_module": "@jupyter-widgets/controls",
            "_model_module_version": "1.5.0",
            "value": "100%",
            "_view_count": null,
            "_view_module_version": "1.5.0",
            "description_tooltip": null,
            "_model_module": "@jupyter-widgets/controls",
            "layout": "IPY_MODEL_c44725f5e2234fdb8082a0fd9c90bed2"
          }
        },
        "91dfc50bcdc54babb126db1429373585": {
          "model_module": "@jupyter-widgets/controls",
          "model_name": "FloatProgressModel",
          "model_module_version": "1.5.0",
          "state": {
            "_view_name": "ProgressView",
            "style": "IPY_MODEL_e7e57a3fe7e14cd993386d7599e68106",
            "_dom_classes": [],
            "description": "",
            "_model_name": "FloatProgressModel",
            "bar_style": "success",
            "max": 10000,
            "_view_module": "@jupyter-widgets/controls",
            "_model_module_version": "1.5.0",
            "value": 10000,
            "_view_count": null,
            "_view_module_version": "1.5.0",
            "orientation": "horizontal",
            "min": 0,
            "description_tooltip": null,
            "_model_module": "@jupyter-widgets/controls",
            "layout": "IPY_MODEL_83afcbaaf3dd4c09860bea9cb064dc86"
          }
        },
        "2f1729fcefa740d5b385a69fcb196a02": {
          "model_module": "@jupyter-widgets/controls",
          "model_name": "HTMLModel",
          "model_module_version": "1.5.0",
          "state": {
            "_view_name": "HTMLView",
            "style": "IPY_MODEL_7d6e21c1d2704b15b0fbb4dd04a1aab5",
            "_dom_classes": [],
            "description": "",
            "_model_name": "HTMLModel",
            "placeholder": "​",
            "_view_module": "@jupyter-widgets/controls",
            "_model_module_version": "1.5.0",
            "value": " 10000/10000 [00:07&lt;00:00, 499.54it/s]",
            "_view_count": null,
            "_view_module_version": "1.5.0",
            "description_tooltip": null,
            "_model_module": "@jupyter-widgets/controls",
            "layout": "IPY_MODEL_e17bb7db4d944762be42da49594b7f5c"
          }
        },
        "d4a433f0087f4b8bbd89b39f5a4cfea8": {
          "model_module": "@jupyter-widgets/controls",
          "model_name": "DescriptionStyleModel",
          "model_module_version": "1.5.0",
          "state": {
            "_view_name": "StyleView",
            "_model_name": "DescriptionStyleModel",
            "description_width": "",
            "_view_module": "@jupyter-widgets/base",
            "_model_module_version": "1.5.0",
            "_view_count": null,
            "_view_module_version": "1.2.0",
            "_model_module": "@jupyter-widgets/controls"
          }
        },
        "c44725f5e2234fdb8082a0fd9c90bed2": {
          "model_module": "@jupyter-widgets/base",
          "model_name": "LayoutModel",
          "model_module_version": "1.2.0",
          "state": {
            "_view_name": "LayoutView",
            "grid_template_rows": null,
            "right": null,
            "justify_content": null,
            "_view_module": "@jupyter-widgets/base",
            "overflow": null,
            "_model_module_version": "1.2.0",
            "_view_count": null,
            "flex_flow": null,
            "width": null,
            "min_width": null,
            "border": null,
            "align_items": null,
            "bottom": null,
            "_model_module": "@jupyter-widgets/base",
            "top": null,
            "grid_column": null,
            "overflow_y": null,
            "overflow_x": null,
            "grid_auto_flow": null,
            "grid_area": null,
            "grid_template_columns": null,
            "flex": null,
            "_model_name": "LayoutModel",
            "justify_items": null,
            "grid_row": null,
            "max_height": null,
            "align_content": null,
            "visibility": null,
            "align_self": null,
            "height": null,
            "min_height": null,
            "padding": null,
            "grid_auto_rows": null,
            "grid_gap": null,
            "max_width": null,
            "order": null,
            "_view_module_version": "1.2.0",
            "grid_template_areas": null,
            "object_position": null,
            "object_fit": null,
            "grid_auto_columns": null,
            "margin": null,
            "display": null,
            "left": null
          }
        },
        "e7e57a3fe7e14cd993386d7599e68106": {
          "model_module": "@jupyter-widgets/controls",
          "model_name": "ProgressStyleModel",
          "model_module_version": "1.5.0",
          "state": {
            "_view_name": "StyleView",
            "_model_name": "ProgressStyleModel",
            "description_width": "",
            "_view_module": "@jupyter-widgets/base",
            "_model_module_version": "1.5.0",
            "_view_count": null,
            "_view_module_version": "1.2.0",
            "bar_color": null,
            "_model_module": "@jupyter-widgets/controls"
          }
        },
        "83afcbaaf3dd4c09860bea9cb064dc86": {
          "model_module": "@jupyter-widgets/base",
          "model_name": "LayoutModel",
          "model_module_version": "1.2.0",
          "state": {
            "_view_name": "LayoutView",
            "grid_template_rows": null,
            "right": null,
            "justify_content": null,
            "_view_module": "@jupyter-widgets/base",
            "overflow": null,
            "_model_module_version": "1.2.0",
            "_view_count": null,
            "flex_flow": null,
            "width": null,
            "min_width": null,
            "border": null,
            "align_items": null,
            "bottom": null,
            "_model_module": "@jupyter-widgets/base",
            "top": null,
            "grid_column": null,
            "overflow_y": null,
            "overflow_x": null,
            "grid_auto_flow": null,
            "grid_area": null,
            "grid_template_columns": null,
            "flex": null,
            "_model_name": "LayoutModel",
            "justify_items": null,
            "grid_row": null,
            "max_height": null,
            "align_content": null,
            "visibility": null,
            "align_self": null,
            "height": null,
            "min_height": null,
            "padding": null,
            "grid_auto_rows": null,
            "grid_gap": null,
            "max_width": null,
            "order": null,
            "_view_module_version": "1.2.0",
            "grid_template_areas": null,
            "object_position": null,
            "object_fit": null,
            "grid_auto_columns": null,
            "margin": null,
            "display": null,
            "left": null
          }
        },
        "7d6e21c1d2704b15b0fbb4dd04a1aab5": {
          "model_module": "@jupyter-widgets/controls",
          "model_name": "DescriptionStyleModel",
          "model_module_version": "1.5.0",
          "state": {
            "_view_name": "StyleView",
            "_model_name": "DescriptionStyleModel",
            "description_width": "",
            "_view_module": "@jupyter-widgets/base",
            "_model_module_version": "1.5.0",
            "_view_count": null,
            "_view_module_version": "1.2.0",
            "_model_module": "@jupyter-widgets/controls"
          }
        },
        "e17bb7db4d944762be42da49594b7f5c": {
          "model_module": "@jupyter-widgets/base",
          "model_name": "LayoutModel",
          "model_module_version": "1.2.0",
          "state": {
            "_view_name": "LayoutView",
            "grid_template_rows": null,
            "right": null,
            "justify_content": null,
            "_view_module": "@jupyter-widgets/base",
            "overflow": null,
            "_model_module_version": "1.2.0",
            "_view_count": null,
            "flex_flow": null,
            "width": null,
            "min_width": null,
            "border": null,
            "align_items": null,
            "bottom": null,
            "_model_module": "@jupyter-widgets/base",
            "top": null,
            "grid_column": null,
            "overflow_y": null,
            "overflow_x": null,
            "grid_auto_flow": null,
            "grid_area": null,
            "grid_template_columns": null,
            "flex": null,
            "_model_name": "LayoutModel",
            "justify_items": null,
            "grid_row": null,
            "max_height": null,
            "align_content": null,
            "visibility": null,
            "align_self": null,
            "height": null,
            "min_height": null,
            "padding": null,
            "grid_auto_rows": null,
            "grid_gap": null,
            "max_width": null,
            "order": null,
            "_view_module_version": "1.2.0",
            "grid_template_areas": null,
            "object_position": null,
            "object_fit": null,
            "grid_auto_columns": null,
            "margin": null,
            "display": null,
            "left": null
          }
        },
        "26955a4434e14aa2ba46b1a14de446f1": {
          "model_module": "@jupyter-widgets/controls",
          "model_name": "HBoxModel",
          "model_module_version": "1.5.0",
          "state": {
            "_view_name": "HBoxView",
            "_dom_classes": [],
            "_model_name": "HBoxModel",
            "_view_module": "@jupyter-widgets/controls",
            "_model_module_version": "1.5.0",
            "_view_count": null,
            "_view_module_version": "1.5.0",
            "box_style": "",
            "layout": "IPY_MODEL_2f74b39b518049418e0012f81308331a",
            "_model_module": "@jupyter-widgets/controls",
            "children": [
              "IPY_MODEL_5685fd2b704e43c1a6721ec099bcae19",
              "IPY_MODEL_6d60cbbd27c042b0be53c884c020e481",
              "IPY_MODEL_bfb5efadf0bf4c5692b74c3bb8371394"
            ]
          }
        },
        "2f74b39b518049418e0012f81308331a": {
          "model_module": "@jupyter-widgets/base",
          "model_name": "LayoutModel",
          "model_module_version": "1.2.0",
          "state": {
            "_view_name": "LayoutView",
            "grid_template_rows": null,
            "right": null,
            "justify_content": null,
            "_view_module": "@jupyter-widgets/base",
            "overflow": null,
            "_model_module_version": "1.2.0",
            "_view_count": null,
            "flex_flow": null,
            "width": null,
            "min_width": null,
            "border": null,
            "align_items": null,
            "bottom": null,
            "_model_module": "@jupyter-widgets/base",
            "top": null,
            "grid_column": null,
            "overflow_y": null,
            "overflow_x": null,
            "grid_auto_flow": null,
            "grid_area": null,
            "grid_template_columns": null,
            "flex": null,
            "_model_name": "LayoutModel",
            "justify_items": null,
            "grid_row": null,
            "max_height": null,
            "align_content": null,
            "visibility": null,
            "align_self": null,
            "height": null,
            "min_height": null,
            "padding": null,
            "grid_auto_rows": null,
            "grid_gap": null,
            "max_width": null,
            "order": null,
            "_view_module_version": "1.2.0",
            "grid_template_areas": null,
            "object_position": null,
            "object_fit": null,
            "grid_auto_columns": null,
            "margin": null,
            "display": null,
            "left": null
          }
        },
        "5685fd2b704e43c1a6721ec099bcae19": {
          "model_module": "@jupyter-widgets/controls",
          "model_name": "HTMLModel",
          "model_module_version": "1.5.0",
          "state": {
            "_view_name": "HTMLView",
            "style": "IPY_MODEL_ee5f9fe180af4ffdb46aaf954ab70415",
            "_dom_classes": [],
            "description": "",
            "_model_name": "HTMLModel",
            "placeholder": "​",
            "_view_module": "@jupyter-widgets/controls",
            "_model_module_version": "1.5.0",
            "value": "Contando: 100%",
            "_view_count": null,
            "_view_module_version": "1.5.0",
            "description_tooltip": null,
            "_model_module": "@jupyter-widgets/controls",
            "layout": "IPY_MODEL_21af772c155a49e69ed6862b435750a5"
          }
        },
        "6d60cbbd27c042b0be53c884c020e481": {
          "model_module": "@jupyter-widgets/controls",
          "model_name": "FloatProgressModel",
          "model_module_version": "1.5.0",
          "state": {
            "_view_name": "ProgressView",
            "style": "IPY_MODEL_9a6a7d1333604547bba125e52a16424b",
            "_dom_classes": [],
            "description": "",
            "_model_name": "FloatProgressModel",
            "bar_style": "success",
            "max": 10000,
            "_view_module": "@jupyter-widgets/controls",
            "_model_module_version": "1.5.0",
            "value": 10000,
            "_view_count": null,
            "_view_module_version": "1.5.0",
            "orientation": "horizontal",
            "min": 0,
            "description_tooltip": null,
            "_model_module": "@jupyter-widgets/controls",
            "layout": "IPY_MODEL_564396270ada4963990f277dbb08dafb"
          }
        },
        "bfb5efadf0bf4c5692b74c3bb8371394": {
          "model_module": "@jupyter-widgets/controls",
          "model_name": "HTMLModel",
          "model_module_version": "1.5.0",
          "state": {
            "_view_name": "HTMLView",
            "style": "IPY_MODEL_972875aab37047fa900ce22c23602e73",
            "_dom_classes": [],
            "description": "",
            "_model_name": "HTMLModel",
            "placeholder": "​",
            "_view_module": "@jupyter-widgets/controls",
            "_model_module_version": "1.5.0",
            "value": " 10000/10000 [00:07&lt;00:00, 504.13vezes/s]",
            "_view_count": null,
            "_view_module_version": "1.5.0",
            "description_tooltip": null,
            "_model_module": "@jupyter-widgets/controls",
            "layout": "IPY_MODEL_19fde843fbf04048ad02fd6b279efee2"
          }
        },
        "ee5f9fe180af4ffdb46aaf954ab70415": {
          "model_module": "@jupyter-widgets/controls",
          "model_name": "DescriptionStyleModel",
          "model_module_version": "1.5.0",
          "state": {
            "_view_name": "StyleView",
            "_model_name": "DescriptionStyleModel",
            "description_width": "",
            "_view_module": "@jupyter-widgets/base",
            "_model_module_version": "1.5.0",
            "_view_count": null,
            "_view_module_version": "1.2.0",
            "_model_module": "@jupyter-widgets/controls"
          }
        },
        "21af772c155a49e69ed6862b435750a5": {
          "model_module": "@jupyter-widgets/base",
          "model_name": "LayoutModel",
          "model_module_version": "1.2.0",
          "state": {
            "_view_name": "LayoutView",
            "grid_template_rows": null,
            "right": null,
            "justify_content": null,
            "_view_module": "@jupyter-widgets/base",
            "overflow": null,
            "_model_module_version": "1.2.0",
            "_view_count": null,
            "flex_flow": null,
            "width": null,
            "min_width": null,
            "border": null,
            "align_items": null,
            "bottom": null,
            "_model_module": "@jupyter-widgets/base",
            "top": null,
            "grid_column": null,
            "overflow_y": null,
            "overflow_x": null,
            "grid_auto_flow": null,
            "grid_area": null,
            "grid_template_columns": null,
            "flex": null,
            "_model_name": "LayoutModel",
            "justify_items": null,
            "grid_row": null,
            "max_height": null,
            "align_content": null,
            "visibility": null,
            "align_self": null,
            "height": null,
            "min_height": null,
            "padding": null,
            "grid_auto_rows": null,
            "grid_gap": null,
            "max_width": null,
            "order": null,
            "_view_module_version": "1.2.0",
            "grid_template_areas": null,
            "object_position": null,
            "object_fit": null,
            "grid_auto_columns": null,
            "margin": null,
            "display": null,
            "left": null
          }
        },
        "9a6a7d1333604547bba125e52a16424b": {
          "model_module": "@jupyter-widgets/controls",
          "model_name": "ProgressStyleModel",
          "model_module_version": "1.5.0",
          "state": {
            "_view_name": "StyleView",
            "_model_name": "ProgressStyleModel",
            "description_width": "",
            "_view_module": "@jupyter-widgets/base",
            "_model_module_version": "1.5.0",
            "_view_count": null,
            "_view_module_version": "1.2.0",
            "bar_color": null,
            "_model_module": "@jupyter-widgets/controls"
          }
        },
        "564396270ada4963990f277dbb08dafb": {
          "model_module": "@jupyter-widgets/base",
          "model_name": "LayoutModel",
          "model_module_version": "1.2.0",
          "state": {
            "_view_name": "LayoutView",
            "grid_template_rows": null,
            "right": null,
            "justify_content": null,
            "_view_module": "@jupyter-widgets/base",
            "overflow": null,
            "_model_module_version": "1.2.0",
            "_view_count": null,
            "flex_flow": null,
            "width": null,
            "min_width": null,
            "border": null,
            "align_items": null,
            "bottom": null,
            "_model_module": "@jupyter-widgets/base",
            "top": null,
            "grid_column": null,
            "overflow_y": null,
            "overflow_x": null,
            "grid_auto_flow": null,
            "grid_area": null,
            "grid_template_columns": null,
            "flex": null,
            "_model_name": "LayoutModel",
            "justify_items": null,
            "grid_row": null,
            "max_height": null,
            "align_content": null,
            "visibility": null,
            "align_self": null,
            "height": null,
            "min_height": null,
            "padding": null,
            "grid_auto_rows": null,
            "grid_gap": null,
            "max_width": null,
            "order": null,
            "_view_module_version": "1.2.0",
            "grid_template_areas": null,
            "object_position": null,
            "object_fit": null,
            "grid_auto_columns": null,
            "margin": null,
            "display": null,
            "left": null
          }
        },
        "972875aab37047fa900ce22c23602e73": {
          "model_module": "@jupyter-widgets/controls",
          "model_name": "DescriptionStyleModel",
          "model_module_version": "1.5.0",
          "state": {
            "_view_name": "StyleView",
            "_model_name": "DescriptionStyleModel",
            "description_width": "",
            "_view_module": "@jupyter-widgets/base",
            "_model_module_version": "1.5.0",
            "_view_count": null,
            "_view_module_version": "1.2.0",
            "_model_module": "@jupyter-widgets/controls"
          }
        },
        "19fde843fbf04048ad02fd6b279efee2": {
          "model_module": "@jupyter-widgets/base",
          "model_name": "LayoutModel",
          "model_module_version": "1.2.0",
          "state": {
            "_view_name": "LayoutView",
            "grid_template_rows": null,
            "right": null,
            "justify_content": null,
            "_view_module": "@jupyter-widgets/base",
            "overflow": null,
            "_model_module_version": "1.2.0",
            "_view_count": null,
            "flex_flow": null,
            "width": null,
            "min_width": null,
            "border": null,
            "align_items": null,
            "bottom": null,
            "_model_module": "@jupyter-widgets/base",
            "top": null,
            "grid_column": null,
            "overflow_y": null,
            "overflow_x": null,
            "grid_auto_flow": null,
            "grid_area": null,
            "grid_template_columns": null,
            "flex": null,
            "_model_name": "LayoutModel",
            "justify_items": null,
            "grid_row": null,
            "max_height": null,
            "align_content": null,
            "visibility": null,
            "align_self": null,
            "height": null,
            "min_height": null,
            "padding": null,
            "grid_auto_rows": null,
            "grid_gap": null,
            "max_width": null,
            "order": null,
            "_view_module_version": "1.2.0",
            "grid_template_areas": null,
            "object_position": null,
            "object_fit": null,
            "grid_auto_columns": null,
            "margin": null,
            "display": null,
            "left": null
          }
        },
        "996f275b6e5e48df9cbb36d31a92fb9d": {
          "model_module": "@jupyter-widgets/controls",
          "model_name": "HBoxModel",
          "model_module_version": "1.5.0",
          "state": {
            "_view_name": "HBoxView",
            "_dom_classes": [],
            "_model_name": "HBoxModel",
            "_view_module": "@jupyter-widgets/controls",
            "_model_module_version": "1.5.0",
            "_view_count": null,
            "_view_module_version": "1.5.0",
            "box_style": "",
            "layout": "IPY_MODEL_27dbb70f15f44ab99a0873d1b16644da",
            "_model_module": "@jupyter-widgets/controls",
            "children": [
              "IPY_MODEL_dda4cd62cdb74f3a80efa71aee1077cb",
              "IPY_MODEL_e21aecdac51b4295bf8edf4a11c177c7",
              "IPY_MODEL_0ec0e48e9f294caf8ac7e7346ea64f8b"
            ]
          }
        },
        "27dbb70f15f44ab99a0873d1b16644da": {
          "model_module": "@jupyter-widgets/base",
          "model_name": "LayoutModel",
          "model_module_version": "1.2.0",
          "state": {
            "_view_name": "LayoutView",
            "grid_template_rows": null,
            "right": null,
            "justify_content": null,
            "_view_module": "@jupyter-widgets/base",
            "overflow": null,
            "_model_module_version": "1.2.0",
            "_view_count": null,
            "flex_flow": null,
            "width": null,
            "min_width": null,
            "border": null,
            "align_items": null,
            "bottom": null,
            "_model_module": "@jupyter-widgets/base",
            "top": null,
            "grid_column": null,
            "overflow_y": null,
            "overflow_x": null,
            "grid_auto_flow": null,
            "grid_area": null,
            "grid_template_columns": null,
            "flex": null,
            "_model_name": "LayoutModel",
            "justify_items": null,
            "grid_row": null,
            "max_height": null,
            "align_content": null,
            "visibility": null,
            "align_self": null,
            "height": null,
            "min_height": null,
            "padding": null,
            "grid_auto_rows": null,
            "grid_gap": null,
            "max_width": null,
            "order": null,
            "_view_module_version": "1.2.0",
            "grid_template_areas": null,
            "object_position": null,
            "object_fit": null,
            "grid_auto_columns": null,
            "margin": null,
            "display": null,
            "left": null
          }
        },
        "dda4cd62cdb74f3a80efa71aee1077cb": {
          "model_module": "@jupyter-widgets/controls",
          "model_name": "HTMLModel",
          "model_module_version": "1.5.0",
          "state": {
            "_view_name": "HTMLView",
            "style": "IPY_MODEL_28625a6edc444c60bddfe0fd8eb61815",
            "_dom_classes": [],
            "description": "",
            "_model_name": "HTMLModel",
            "placeholder": "​",
            "_view_module": "@jupyter-widgets/controls",
            "_model_module_version": "1.5.0",
            "value": "Contando: 100%",
            "_view_count": null,
            "_view_module_version": "1.5.0",
            "description_tooltip": null,
            "_model_module": "@jupyter-widgets/controls",
            "layout": "IPY_MODEL_0017a087667f49269283f06a181a602e"
          }
        },
        "e21aecdac51b4295bf8edf4a11c177c7": {
          "model_module": "@jupyter-widgets/controls",
          "model_name": "FloatProgressModel",
          "model_module_version": "1.5.0",
          "state": {
            "_view_name": "ProgressView",
            "style": "IPY_MODEL_bcd09d1a83d7484d9d737f8db6fb874a",
            "_dom_classes": [],
            "description": "",
            "_model_name": "FloatProgressModel",
            "bar_style": "success",
            "max": 1000,
            "_view_module": "@jupyter-widgets/controls",
            "_model_module_version": "1.5.0",
            "value": 1000,
            "_view_count": null,
            "_view_module_version": "1.5.0",
            "orientation": "horizontal",
            "min": 0,
            "description_tooltip": null,
            "_model_module": "@jupyter-widgets/controls",
            "layout": "IPY_MODEL_cbf8817ec376402792757245c2108dce"
          }
        },
        "0ec0e48e9f294caf8ac7e7346ea64f8b": {
          "model_module": "@jupyter-widgets/controls",
          "model_name": "HTMLModel",
          "model_module_version": "1.5.0",
          "state": {
            "_view_name": "HTMLView",
            "style": "IPY_MODEL_fbcc0066fa20477e9a3b3b10fe1d20ad",
            "_dom_classes": [],
            "description": "",
            "_model_name": "HTMLModel",
            "placeholder": "​",
            "_view_module": "@jupyter-widgets/controls",
            "_model_module_version": "1.5.0",
            "value": " 1000/1000 [00:01&lt;00:00, 705.63vezes/s, tamanho=1000]",
            "_view_count": null,
            "_view_module_version": "1.5.0",
            "description_tooltip": null,
            "_model_module": "@jupyter-widgets/controls",
            "layout": "IPY_MODEL_e644e2737a7741e082c4e4b6ae413800"
          }
        },
        "28625a6edc444c60bddfe0fd8eb61815": {
          "model_module": "@jupyter-widgets/controls",
          "model_name": "DescriptionStyleModel",
          "model_module_version": "1.5.0",
          "state": {
            "_view_name": "StyleView",
            "_model_name": "DescriptionStyleModel",
            "description_width": "",
            "_view_module": "@jupyter-widgets/base",
            "_model_module_version": "1.5.0",
            "_view_count": null,
            "_view_module_version": "1.2.0",
            "_model_module": "@jupyter-widgets/controls"
          }
        },
        "0017a087667f49269283f06a181a602e": {
          "model_module": "@jupyter-widgets/base",
          "model_name": "LayoutModel",
          "model_module_version": "1.2.0",
          "state": {
            "_view_name": "LayoutView",
            "grid_template_rows": null,
            "right": null,
            "justify_content": null,
            "_view_module": "@jupyter-widgets/base",
            "overflow": null,
            "_model_module_version": "1.2.0",
            "_view_count": null,
            "flex_flow": null,
            "width": null,
            "min_width": null,
            "border": null,
            "align_items": null,
            "bottom": null,
            "_model_module": "@jupyter-widgets/base",
            "top": null,
            "grid_column": null,
            "overflow_y": null,
            "overflow_x": null,
            "grid_auto_flow": null,
            "grid_area": null,
            "grid_template_columns": null,
            "flex": null,
            "_model_name": "LayoutModel",
            "justify_items": null,
            "grid_row": null,
            "max_height": null,
            "align_content": null,
            "visibility": null,
            "align_self": null,
            "height": null,
            "min_height": null,
            "padding": null,
            "grid_auto_rows": null,
            "grid_gap": null,
            "max_width": null,
            "order": null,
            "_view_module_version": "1.2.0",
            "grid_template_areas": null,
            "object_position": null,
            "object_fit": null,
            "grid_auto_columns": null,
            "margin": null,
            "display": null,
            "left": null
          }
        },
        "bcd09d1a83d7484d9d737f8db6fb874a": {
          "model_module": "@jupyter-widgets/controls",
          "model_name": "ProgressStyleModel",
          "model_module_version": "1.5.0",
          "state": {
            "_view_name": "StyleView",
            "_model_name": "ProgressStyleModel",
            "description_width": "",
            "_view_module": "@jupyter-widgets/base",
            "_model_module_version": "1.5.0",
            "_view_count": null,
            "_view_module_version": "1.2.0",
            "bar_color": null,
            "_model_module": "@jupyter-widgets/controls"
          }
        },
        "cbf8817ec376402792757245c2108dce": {
          "model_module": "@jupyter-widgets/base",
          "model_name": "LayoutModel",
          "model_module_version": "1.2.0",
          "state": {
            "_view_name": "LayoutView",
            "grid_template_rows": null,
            "right": null,
            "justify_content": null,
            "_view_module": "@jupyter-widgets/base",
            "overflow": null,
            "_model_module_version": "1.2.0",
            "_view_count": null,
            "flex_flow": null,
            "width": null,
            "min_width": null,
            "border": null,
            "align_items": null,
            "bottom": null,
            "_model_module": "@jupyter-widgets/base",
            "top": null,
            "grid_column": null,
            "overflow_y": null,
            "overflow_x": null,
            "grid_auto_flow": null,
            "grid_area": null,
            "grid_template_columns": null,
            "flex": null,
            "_model_name": "LayoutModel",
            "justify_items": null,
            "grid_row": null,
            "max_height": null,
            "align_content": null,
            "visibility": null,
            "align_self": null,
            "height": null,
            "min_height": null,
            "padding": null,
            "grid_auto_rows": null,
            "grid_gap": null,
            "max_width": null,
            "order": null,
            "_view_module_version": "1.2.0",
            "grid_template_areas": null,
            "object_position": null,
            "object_fit": null,
            "grid_auto_columns": null,
            "margin": null,
            "display": null,
            "left": null
          }
        },
        "fbcc0066fa20477e9a3b3b10fe1d20ad": {
          "model_module": "@jupyter-widgets/controls",
          "model_name": "DescriptionStyleModel",
          "model_module_version": "1.5.0",
          "state": {
            "_view_name": "StyleView",
            "_model_name": "DescriptionStyleModel",
            "description_width": "",
            "_view_module": "@jupyter-widgets/base",
            "_model_module_version": "1.5.0",
            "_view_count": null,
            "_view_module_version": "1.2.0",
            "_model_module": "@jupyter-widgets/controls"
          }
        },
        "e644e2737a7741e082c4e4b6ae413800": {
          "model_module": "@jupyter-widgets/base",
          "model_name": "LayoutModel",
          "model_module_version": "1.2.0",
          "state": {
            "_view_name": "LayoutView",
            "grid_template_rows": null,
            "right": null,
            "justify_content": null,
            "_view_module": "@jupyter-widgets/base",
            "overflow": null,
            "_model_module_version": "1.2.0",
            "_view_count": null,
            "flex_flow": null,
            "width": null,
            "min_width": null,
            "border": null,
            "align_items": null,
            "bottom": null,
            "_model_module": "@jupyter-widgets/base",
            "top": null,
            "grid_column": null,
            "overflow_y": null,
            "overflow_x": null,
            "grid_auto_flow": null,
            "grid_area": null,
            "grid_template_columns": null,
            "flex": null,
            "_model_name": "LayoutModel",
            "justify_items": null,
            "grid_row": null,
            "max_height": null,
            "align_content": null,
            "visibility": null,
            "align_self": null,
            "height": null,
            "min_height": null,
            "padding": null,
            "grid_auto_rows": null,
            "grid_gap": null,
            "max_width": null,
            "order": null,
            "_view_module_version": "1.2.0",
            "grid_template_areas": null,
            "object_position": null,
            "object_fit": null,
            "grid_auto_columns": null,
            "margin": null,
            "display": null,
            "left": null
          }
        },
        "24cc085fd30548479cf29a6843309561": {
          "model_module": "@jupyter-widgets/controls",
          "model_name": "HBoxModel",
          "model_module_version": "1.5.0",
          "state": {
            "_view_name": "HBoxView",
            "_dom_classes": [],
            "_model_name": "HBoxModel",
            "_view_module": "@jupyter-widgets/controls",
            "_model_module_version": "1.5.0",
            "_view_count": null,
            "_view_module_version": "1.5.0",
            "box_style": "",
            "layout": "IPY_MODEL_53de212cc0044fb4833e337fb5c4fd0a",
            "_model_module": "@jupyter-widgets/controls",
            "children": [
              "IPY_MODEL_987f4da04a5847c988ee0babb3fc0489",
              "IPY_MODEL_8f9f39abb75c425b91a7c007386dc166",
              "IPY_MODEL_b272f78256e54edf8a3c0065c66b849e"
            ]
          }
        },
        "53de212cc0044fb4833e337fb5c4fd0a": {
          "model_module": "@jupyter-widgets/base",
          "model_name": "LayoutModel",
          "model_module_version": "1.2.0",
          "state": {
            "_view_name": "LayoutView",
            "grid_template_rows": null,
            "right": null,
            "justify_content": null,
            "_view_module": "@jupyter-widgets/base",
            "overflow": null,
            "_model_module_version": "1.2.0",
            "_view_count": null,
            "flex_flow": null,
            "width": null,
            "min_width": null,
            "border": null,
            "align_items": null,
            "bottom": null,
            "_model_module": "@jupyter-widgets/base",
            "top": null,
            "grid_column": null,
            "overflow_y": null,
            "overflow_x": null,
            "grid_auto_flow": null,
            "grid_area": null,
            "grid_template_columns": null,
            "flex": null,
            "_model_name": "LayoutModel",
            "justify_items": null,
            "grid_row": null,
            "max_height": null,
            "align_content": null,
            "visibility": null,
            "align_self": null,
            "height": null,
            "min_height": null,
            "padding": null,
            "grid_auto_rows": null,
            "grid_gap": null,
            "max_width": null,
            "order": null,
            "_view_module_version": "1.2.0",
            "grid_template_areas": null,
            "object_position": null,
            "object_fit": null,
            "grid_auto_columns": null,
            "margin": null,
            "display": null,
            "left": null
          }
        },
        "987f4da04a5847c988ee0babb3fc0489": {
          "model_module": "@jupyter-widgets/controls",
          "model_name": "HTMLModel",
          "model_module_version": "1.5.0",
          "state": {
            "_view_name": "HTMLView",
            "style": "IPY_MODEL_504209c8a74145f190448b53f184d789",
            "_dom_classes": [],
            "description": "",
            "_model_name": "HTMLModel",
            "placeholder": "​",
            "_view_module": "@jupyter-widgets/controls",
            "_model_module_version": "1.5.0",
            "value": "1o Laço: 100%",
            "_view_count": null,
            "_view_module_version": "1.5.0",
            "description_tooltip": null,
            "_model_module": "@jupyter-widgets/controls",
            "layout": "IPY_MODEL_b4fb935a0afd4ae88a133337999cb333"
          }
        },
        "8f9f39abb75c425b91a7c007386dc166": {
          "model_module": "@jupyter-widgets/controls",
          "model_name": "FloatProgressModel",
          "model_module_version": "1.5.0",
          "state": {
            "_view_name": "ProgressView",
            "style": "IPY_MODEL_7c47c9ad3ef448ecaeb6242047c54a06",
            "_dom_classes": [],
            "description": "",
            "_model_name": "FloatProgressModel",
            "bar_style": "success",
            "max": 5,
            "_view_module": "@jupyter-widgets/controls",
            "_model_module_version": "1.5.0",
            "value": 5,
            "_view_count": null,
            "_view_module_version": "1.5.0",
            "orientation": "horizontal",
            "min": 0,
            "description_tooltip": null,
            "_model_module": "@jupyter-widgets/controls",
            "layout": "IPY_MODEL_3603ddb247e5422a8b504770a5db1edb"
          }
        },
        "b272f78256e54edf8a3c0065c66b849e": {
          "model_module": "@jupyter-widgets/controls",
          "model_name": "HTMLModel",
          "model_module_version": "1.5.0",
          "state": {
            "_view_name": "HTMLView",
            "style": "IPY_MODEL_5c1963c68d874f4a8f33ac8f67d0e5b7",
            "_dom_classes": [],
            "description": "",
            "_model_name": "HTMLModel",
            "placeholder": "​",
            "_view_module": "@jupyter-widgets/controls",
            "_model_module_version": "1.5.0",
            "value": " 5/5 [00:10&lt;00:00,  2.14s/it]",
            "_view_count": null,
            "_view_module_version": "1.5.0",
            "description_tooltip": null,
            "_model_module": "@jupyter-widgets/controls",
            "layout": "IPY_MODEL_f717f2736aa4428bb9280865bc9bf83b"
          }
        },
        "504209c8a74145f190448b53f184d789": {
          "model_module": "@jupyter-widgets/controls",
          "model_name": "DescriptionStyleModel",
          "model_module_version": "1.5.0",
          "state": {
            "_view_name": "StyleView",
            "_model_name": "DescriptionStyleModel",
            "description_width": "",
            "_view_module": "@jupyter-widgets/base",
            "_model_module_version": "1.5.0",
            "_view_count": null,
            "_view_module_version": "1.2.0",
            "_model_module": "@jupyter-widgets/controls"
          }
        },
        "b4fb935a0afd4ae88a133337999cb333": {
          "model_module": "@jupyter-widgets/base",
          "model_name": "LayoutModel",
          "model_module_version": "1.2.0",
          "state": {
            "_view_name": "LayoutView",
            "grid_template_rows": null,
            "right": null,
            "justify_content": null,
            "_view_module": "@jupyter-widgets/base",
            "overflow": null,
            "_model_module_version": "1.2.0",
            "_view_count": null,
            "flex_flow": null,
            "width": null,
            "min_width": null,
            "border": null,
            "align_items": null,
            "bottom": null,
            "_model_module": "@jupyter-widgets/base",
            "top": null,
            "grid_column": null,
            "overflow_y": null,
            "overflow_x": null,
            "grid_auto_flow": null,
            "grid_area": null,
            "grid_template_columns": null,
            "flex": null,
            "_model_name": "LayoutModel",
            "justify_items": null,
            "grid_row": null,
            "max_height": null,
            "align_content": null,
            "visibility": null,
            "align_self": null,
            "height": null,
            "min_height": null,
            "padding": null,
            "grid_auto_rows": null,
            "grid_gap": null,
            "max_width": null,
            "order": null,
            "_view_module_version": "1.2.0",
            "grid_template_areas": null,
            "object_position": null,
            "object_fit": null,
            "grid_auto_columns": null,
            "margin": null,
            "display": null,
            "left": null
          }
        },
        "7c47c9ad3ef448ecaeb6242047c54a06": {
          "model_module": "@jupyter-widgets/controls",
          "model_name": "ProgressStyleModel",
          "model_module_version": "1.5.0",
          "state": {
            "_view_name": "StyleView",
            "_model_name": "ProgressStyleModel",
            "description_width": "",
            "_view_module": "@jupyter-widgets/base",
            "_model_module_version": "1.5.0",
            "_view_count": null,
            "_view_module_version": "1.2.0",
            "bar_color": null,
            "_model_module": "@jupyter-widgets/controls"
          }
        },
        "3603ddb247e5422a8b504770a5db1edb": {
          "model_module": "@jupyter-widgets/base",
          "model_name": "LayoutModel",
          "model_module_version": "1.2.0",
          "state": {
            "_view_name": "LayoutView",
            "grid_template_rows": null,
            "right": null,
            "justify_content": null,
            "_view_module": "@jupyter-widgets/base",
            "overflow": null,
            "_model_module_version": "1.2.0",
            "_view_count": null,
            "flex_flow": null,
            "width": null,
            "min_width": null,
            "border": null,
            "align_items": null,
            "bottom": null,
            "_model_module": "@jupyter-widgets/base",
            "top": null,
            "grid_column": null,
            "overflow_y": null,
            "overflow_x": null,
            "grid_auto_flow": null,
            "grid_area": null,
            "grid_template_columns": null,
            "flex": null,
            "_model_name": "LayoutModel",
            "justify_items": null,
            "grid_row": null,
            "max_height": null,
            "align_content": null,
            "visibility": null,
            "align_self": null,
            "height": null,
            "min_height": null,
            "padding": null,
            "grid_auto_rows": null,
            "grid_gap": null,
            "max_width": null,
            "order": null,
            "_view_module_version": "1.2.0",
            "grid_template_areas": null,
            "object_position": null,
            "object_fit": null,
            "grid_auto_columns": null,
            "margin": null,
            "display": null,
            "left": null
          }
        },
        "5c1963c68d874f4a8f33ac8f67d0e5b7": {
          "model_module": "@jupyter-widgets/controls",
          "model_name": "DescriptionStyleModel",
          "model_module_version": "1.5.0",
          "state": {
            "_view_name": "StyleView",
            "_model_name": "DescriptionStyleModel",
            "description_width": "",
            "_view_module": "@jupyter-widgets/base",
            "_model_module_version": "1.5.0",
            "_view_count": null,
            "_view_module_version": "1.2.0",
            "_model_module": "@jupyter-widgets/controls"
          }
        },
        "f717f2736aa4428bb9280865bc9bf83b": {
          "model_module": "@jupyter-widgets/base",
          "model_name": "LayoutModel",
          "model_module_version": "1.2.0",
          "state": {
            "_view_name": "LayoutView",
            "grid_template_rows": null,
            "right": null,
            "justify_content": null,
            "_view_module": "@jupyter-widgets/base",
            "overflow": null,
            "_model_module_version": "1.2.0",
            "_view_count": null,
            "flex_flow": null,
            "width": null,
            "min_width": null,
            "border": null,
            "align_items": null,
            "bottom": null,
            "_model_module": "@jupyter-widgets/base",
            "top": null,
            "grid_column": null,
            "overflow_y": null,
            "overflow_x": null,
            "grid_auto_flow": null,
            "grid_area": null,
            "grid_template_columns": null,
            "flex": null,
            "_model_name": "LayoutModel",
            "justify_items": null,
            "grid_row": null,
            "max_height": null,
            "align_content": null,
            "visibility": null,
            "align_self": null,
            "height": null,
            "min_height": null,
            "padding": null,
            "grid_auto_rows": null,
            "grid_gap": null,
            "max_width": null,
            "order": null,
            "_view_module_version": "1.2.0",
            "grid_template_areas": null,
            "object_position": null,
            "object_fit": null,
            "grid_auto_columns": null,
            "margin": null,
            "display": null,
            "left": null
          }
        },
        "403025fca2944ea2a89b37c0b1bc1960": {
          "model_module": "@jupyter-widgets/controls",
          "model_name": "HBoxModel",
          "model_module_version": "1.5.0",
          "state": {
            "_view_name": "HBoxView",
            "_dom_classes": [],
            "_model_name": "HBoxModel",
            "_view_module": "@jupyter-widgets/controls",
            "_model_module_version": "1.5.0",
            "_view_count": null,
            "_view_module_version": "1.5.0",
            "box_style": "",
            "layout": "IPY_MODEL_57d52e61a52d4d79a6918b588cd5adbd",
            "_model_module": "@jupyter-widgets/controls",
            "children": [
              "IPY_MODEL_c32a7add5f2745f4a63d30dc8aea0e02",
              "IPY_MODEL_475fa196b03a4555b4c9ab73c6ff901c",
              "IPY_MODEL_ef9f25072943441faea76732f8005f5e"
            ]
          }
        },
        "57d52e61a52d4d79a6918b588cd5adbd": {
          "model_module": "@jupyter-widgets/base",
          "model_name": "LayoutModel",
          "model_module_version": "1.2.0",
          "state": {
            "_view_name": "LayoutView",
            "grid_template_rows": null,
            "right": null,
            "justify_content": null,
            "_view_module": "@jupyter-widgets/base",
            "overflow": null,
            "_model_module_version": "1.2.0",
            "_view_count": null,
            "flex_flow": null,
            "width": null,
            "min_width": null,
            "border": null,
            "align_items": null,
            "bottom": null,
            "_model_module": "@jupyter-widgets/base",
            "top": null,
            "grid_column": null,
            "overflow_y": null,
            "overflow_x": null,
            "grid_auto_flow": null,
            "grid_area": null,
            "grid_template_columns": null,
            "flex": null,
            "_model_name": "LayoutModel",
            "justify_items": null,
            "grid_row": null,
            "max_height": null,
            "align_content": null,
            "visibility": null,
            "align_self": null,
            "height": null,
            "min_height": null,
            "padding": null,
            "grid_auto_rows": null,
            "grid_gap": null,
            "max_width": null,
            "order": null,
            "_view_module_version": "1.2.0",
            "grid_template_areas": null,
            "object_position": null,
            "object_fit": null,
            "grid_auto_columns": null,
            "margin": null,
            "display": null,
            "left": null
          }
        },
        "c32a7add5f2745f4a63d30dc8aea0e02": {
          "model_module": "@jupyter-widgets/controls",
          "model_name": "HTMLModel",
          "model_module_version": "1.5.0",
          "state": {
            "_view_name": "HTMLView",
            "style": "IPY_MODEL_9141a7f934cb44a195c994c7d61d4fde",
            "_dom_classes": [],
            "description": "",
            "_model_name": "HTMLModel",
            "placeholder": "​",
            "_view_module": "@jupyter-widgets/controls",
            "_model_module_version": "1.5.0",
            "value": "2o Laço:  98%",
            "_view_count": null,
            "_view_module_version": "1.5.0",
            "description_tooltip": null,
            "_model_module": "@jupyter-widgets/controls",
            "layout": "IPY_MODEL_62ac79a61c6641ccaab064b29e90f777"
          }
        },
        "475fa196b03a4555b4c9ab73c6ff901c": {
          "model_module": "@jupyter-widgets/controls",
          "model_name": "FloatProgressModel",
          "model_module_version": "1.5.0",
          "state": {
            "_view_name": "ProgressView",
            "style": "IPY_MODEL_0f21e94c292e479c948db7a78629621a",
            "_dom_classes": [],
            "description": "",
            "_model_name": "FloatProgressModel",
            "bar_style": "",
            "max": 100,
            "_view_module": "@jupyter-widgets/controls",
            "_model_module_version": "1.5.0",
            "value": 100,
            "_view_count": null,
            "_view_module_version": "1.5.0",
            "orientation": "horizontal",
            "min": 0,
            "description_tooltip": null,
            "_model_module": "@jupyter-widgets/controls",
            "layout": "IPY_MODEL_5c84384aa22948a9b6184c7bd7492b76"
          }
        },
        "ef9f25072943441faea76732f8005f5e": {
          "model_module": "@jupyter-widgets/controls",
          "model_name": "HTMLModel",
          "model_module_version": "1.5.0",
          "state": {
            "_view_name": "HTMLView",
            "style": "IPY_MODEL_074448a2cc554e54a9b1b972607b5ab3",
            "_dom_classes": [],
            "description": "",
            "_model_name": "HTMLModel",
            "placeholder": "​",
            "_view_module": "@jupyter-widgets/controls",
            "_model_module_version": "1.5.0",
            "value": " 98/100 [00:02&lt;00:00, 48.06it/s]",
            "_view_count": null,
            "_view_module_version": "1.5.0",
            "description_tooltip": null,
            "_model_module": "@jupyter-widgets/controls",
            "layout": "IPY_MODEL_c086c938c5234939a2d9955e1763e019"
          }
        },
        "9141a7f934cb44a195c994c7d61d4fde": {
          "model_module": "@jupyter-widgets/controls",
          "model_name": "DescriptionStyleModel",
          "model_module_version": "1.5.0",
          "state": {
            "_view_name": "StyleView",
            "_model_name": "DescriptionStyleModel",
            "description_width": "",
            "_view_module": "@jupyter-widgets/base",
            "_model_module_version": "1.5.0",
            "_view_count": null,
            "_view_module_version": "1.2.0",
            "_model_module": "@jupyter-widgets/controls"
          }
        },
        "62ac79a61c6641ccaab064b29e90f777": {
          "model_module": "@jupyter-widgets/base",
          "model_name": "LayoutModel",
          "model_module_version": "1.2.0",
          "state": {
            "_view_name": "LayoutView",
            "grid_template_rows": null,
            "right": null,
            "justify_content": null,
            "_view_module": "@jupyter-widgets/base",
            "overflow": null,
            "_model_module_version": "1.2.0",
            "_view_count": null,
            "flex_flow": null,
            "width": null,
            "min_width": null,
            "border": null,
            "align_items": null,
            "bottom": null,
            "_model_module": "@jupyter-widgets/base",
            "top": null,
            "grid_column": null,
            "overflow_y": null,
            "overflow_x": null,
            "grid_auto_flow": null,
            "grid_area": null,
            "grid_template_columns": null,
            "flex": null,
            "_model_name": "LayoutModel",
            "justify_items": null,
            "grid_row": null,
            "max_height": null,
            "align_content": null,
            "visibility": null,
            "align_self": null,
            "height": null,
            "min_height": null,
            "padding": null,
            "grid_auto_rows": null,
            "grid_gap": null,
            "max_width": null,
            "order": null,
            "_view_module_version": "1.2.0",
            "grid_template_areas": null,
            "object_position": null,
            "object_fit": null,
            "grid_auto_columns": null,
            "margin": null,
            "display": null,
            "left": null
          }
        },
        "0f21e94c292e479c948db7a78629621a": {
          "model_module": "@jupyter-widgets/controls",
          "model_name": "ProgressStyleModel",
          "model_module_version": "1.5.0",
          "state": {
            "_view_name": "StyleView",
            "_model_name": "ProgressStyleModel",
            "description_width": "",
            "_view_module": "@jupyter-widgets/base",
            "_model_module_version": "1.5.0",
            "_view_count": null,
            "_view_module_version": "1.2.0",
            "bar_color": null,
            "_model_module": "@jupyter-widgets/controls"
          }
        },
        "5c84384aa22948a9b6184c7bd7492b76": {
          "model_module": "@jupyter-widgets/base",
          "model_name": "LayoutModel",
          "model_module_version": "1.2.0",
          "state": {
            "_view_name": "LayoutView",
            "grid_template_rows": null,
            "right": null,
            "justify_content": null,
            "_view_module": "@jupyter-widgets/base",
            "overflow": null,
            "_model_module_version": "1.2.0",
            "_view_count": null,
            "flex_flow": null,
            "width": null,
            "min_width": null,
            "border": null,
            "align_items": null,
            "bottom": null,
            "_model_module": "@jupyter-widgets/base",
            "top": null,
            "grid_column": null,
            "overflow_y": null,
            "overflow_x": null,
            "grid_auto_flow": null,
            "grid_area": null,
            "grid_template_columns": null,
            "flex": null,
            "_model_name": "LayoutModel",
            "justify_items": null,
            "grid_row": null,
            "max_height": null,
            "align_content": null,
            "visibility": null,
            "align_self": null,
            "height": null,
            "min_height": null,
            "padding": null,
            "grid_auto_rows": null,
            "grid_gap": null,
            "max_width": null,
            "order": null,
            "_view_module_version": "1.2.0",
            "grid_template_areas": null,
            "object_position": null,
            "object_fit": null,
            "grid_auto_columns": null,
            "margin": null,
            "display": null,
            "left": null
          }
        },
        "074448a2cc554e54a9b1b972607b5ab3": {
          "model_module": "@jupyter-widgets/controls",
          "model_name": "DescriptionStyleModel",
          "model_module_version": "1.5.0",
          "state": {
            "_view_name": "StyleView",
            "_model_name": "DescriptionStyleModel",
            "description_width": "",
            "_view_module": "@jupyter-widgets/base",
            "_model_module_version": "1.5.0",
            "_view_count": null,
            "_view_module_version": "1.2.0",
            "_model_module": "@jupyter-widgets/controls"
          }
        },
        "c086c938c5234939a2d9955e1763e019": {
          "model_module": "@jupyter-widgets/base",
          "model_name": "LayoutModel",
          "model_module_version": "1.2.0",
          "state": {
            "_view_name": "LayoutView",
            "grid_template_rows": null,
            "right": null,
            "justify_content": null,
            "_view_module": "@jupyter-widgets/base",
            "overflow": null,
            "_model_module_version": "1.2.0",
            "_view_count": null,
            "flex_flow": null,
            "width": null,
            "min_width": null,
            "border": null,
            "align_items": null,
            "bottom": null,
            "_model_module": "@jupyter-widgets/base",
            "top": null,
            "grid_column": null,
            "overflow_y": null,
            "overflow_x": null,
            "grid_auto_flow": null,
            "grid_area": null,
            "grid_template_columns": null,
            "flex": null,
            "_model_name": "LayoutModel",
            "justify_items": null,
            "grid_row": null,
            "max_height": null,
            "align_content": null,
            "visibility": null,
            "align_self": null,
            "height": null,
            "min_height": null,
            "padding": null,
            "grid_auto_rows": null,
            "grid_gap": null,
            "max_width": null,
            "order": null,
            "_view_module_version": "1.2.0",
            "grid_template_areas": null,
            "object_position": null,
            "object_fit": null,
            "grid_auto_columns": null,
            "margin": null,
            "display": null,
            "left": null
          }
        },
        "84853efe59eb4c798544d54e0a0a980b": {
          "model_module": "@jupyter-widgets/controls",
          "model_name": "HBoxModel",
          "model_module_version": "1.5.0",
          "state": {
            "_view_name": "HBoxView",
            "_dom_classes": [],
            "_model_name": "HBoxModel",
            "_view_module": "@jupyter-widgets/controls",
            "_model_module_version": "1.5.0",
            "_view_count": null,
            "_view_module_version": "1.5.0",
            "box_style": "",
            "layout": "IPY_MODEL_cf72b252284f47a58b4fd7afed3b022b",
            "_model_module": "@jupyter-widgets/controls",
            "children": [
              "IPY_MODEL_f37cad92f2f74687b4fb780746406db8",
              "IPY_MODEL_6683ee5812244105935ab0a04b5d0d79",
              "IPY_MODEL_c2608af61d90429c85e3af1ac1540af2"
            ]
          }
        },
        "cf72b252284f47a58b4fd7afed3b022b": {
          "model_module": "@jupyter-widgets/base",
          "model_name": "LayoutModel",
          "model_module_version": "1.2.0",
          "state": {
            "_view_name": "LayoutView",
            "grid_template_rows": null,
            "right": null,
            "justify_content": null,
            "_view_module": "@jupyter-widgets/base",
            "overflow": null,
            "_model_module_version": "1.2.0",
            "_view_count": null,
            "flex_flow": null,
            "width": null,
            "min_width": null,
            "border": null,
            "align_items": null,
            "bottom": null,
            "_model_module": "@jupyter-widgets/base",
            "top": null,
            "grid_column": null,
            "overflow_y": null,
            "overflow_x": null,
            "grid_auto_flow": null,
            "grid_area": null,
            "grid_template_columns": null,
            "flex": null,
            "_model_name": "LayoutModel",
            "justify_items": null,
            "grid_row": null,
            "max_height": null,
            "align_content": null,
            "visibility": null,
            "align_self": null,
            "height": null,
            "min_height": null,
            "padding": null,
            "grid_auto_rows": null,
            "grid_gap": null,
            "max_width": null,
            "order": null,
            "_view_module_version": "1.2.0",
            "grid_template_areas": null,
            "object_position": null,
            "object_fit": null,
            "grid_auto_columns": null,
            "margin": null,
            "display": null,
            "left": null
          }
        },
        "f37cad92f2f74687b4fb780746406db8": {
          "model_module": "@jupyter-widgets/controls",
          "model_name": "HTMLModel",
          "model_module_version": "1.5.0",
          "state": {
            "_view_name": "HTMLView",
            "style": "IPY_MODEL_f9c1e87dfc2241728a93c1eb7aeca2a9",
            "_dom_classes": [],
            "description": "",
            "_model_name": "HTMLModel",
            "placeholder": "​",
            "_view_module": "@jupyter-widgets/controls",
            "_model_module_version": "1.5.0",
            "value": "2o Laço:  97%",
            "_view_count": null,
            "_view_module_version": "1.5.0",
            "description_tooltip": null,
            "_model_module": "@jupyter-widgets/controls",
            "layout": "IPY_MODEL_6014880beeed4ac09170110cba5f6e27"
          }
        },
        "6683ee5812244105935ab0a04b5d0d79": {
          "model_module": "@jupyter-widgets/controls",
          "model_name": "FloatProgressModel",
          "model_module_version": "1.5.0",
          "state": {
            "_view_name": "ProgressView",
            "style": "IPY_MODEL_36234232a77c46379e1a648cf9ee334e",
            "_dom_classes": [],
            "description": "",
            "_model_name": "FloatProgressModel",
            "bar_style": "",
            "max": 100,
            "_view_module": "@jupyter-widgets/controls",
            "_model_module_version": "1.5.0",
            "value": 100,
            "_view_count": null,
            "_view_module_version": "1.5.0",
            "orientation": "horizontal",
            "min": 0,
            "description_tooltip": null,
            "_model_module": "@jupyter-widgets/controls",
            "layout": "IPY_MODEL_02a50ba085a94c948d156eb75771b146"
          }
        },
        "c2608af61d90429c85e3af1ac1540af2": {
          "model_module": "@jupyter-widgets/controls",
          "model_name": "HTMLModel",
          "model_module_version": "1.5.0",
          "state": {
            "_view_name": "HTMLView",
            "style": "IPY_MODEL_a5b06e8647b64b52a689dc9bac8af2e4",
            "_dom_classes": [],
            "description": "",
            "_model_name": "HTMLModel",
            "placeholder": "​",
            "_view_module": "@jupyter-widgets/controls",
            "_model_module_version": "1.5.0",
            "value": " 97/100 [00:02&lt;00:00, 48.52it/s]",
            "_view_count": null,
            "_view_module_version": "1.5.0",
            "description_tooltip": null,
            "_model_module": "@jupyter-widgets/controls",
            "layout": "IPY_MODEL_c2d0e3c2846f4cc4a9d1a91202438f98"
          }
        },
        "f9c1e87dfc2241728a93c1eb7aeca2a9": {
          "model_module": "@jupyter-widgets/controls",
          "model_name": "DescriptionStyleModel",
          "model_module_version": "1.5.0",
          "state": {
            "_view_name": "StyleView",
            "_model_name": "DescriptionStyleModel",
            "description_width": "",
            "_view_module": "@jupyter-widgets/base",
            "_model_module_version": "1.5.0",
            "_view_count": null,
            "_view_module_version": "1.2.0",
            "_model_module": "@jupyter-widgets/controls"
          }
        },
        "6014880beeed4ac09170110cba5f6e27": {
          "model_module": "@jupyter-widgets/base",
          "model_name": "LayoutModel",
          "model_module_version": "1.2.0",
          "state": {
            "_view_name": "LayoutView",
            "grid_template_rows": null,
            "right": null,
            "justify_content": null,
            "_view_module": "@jupyter-widgets/base",
            "overflow": null,
            "_model_module_version": "1.2.0",
            "_view_count": null,
            "flex_flow": null,
            "width": null,
            "min_width": null,
            "border": null,
            "align_items": null,
            "bottom": null,
            "_model_module": "@jupyter-widgets/base",
            "top": null,
            "grid_column": null,
            "overflow_y": null,
            "overflow_x": null,
            "grid_auto_flow": null,
            "grid_area": null,
            "grid_template_columns": null,
            "flex": null,
            "_model_name": "LayoutModel",
            "justify_items": null,
            "grid_row": null,
            "max_height": null,
            "align_content": null,
            "visibility": null,
            "align_self": null,
            "height": null,
            "min_height": null,
            "padding": null,
            "grid_auto_rows": null,
            "grid_gap": null,
            "max_width": null,
            "order": null,
            "_view_module_version": "1.2.0",
            "grid_template_areas": null,
            "object_position": null,
            "object_fit": null,
            "grid_auto_columns": null,
            "margin": null,
            "display": null,
            "left": null
          }
        },
        "36234232a77c46379e1a648cf9ee334e": {
          "model_module": "@jupyter-widgets/controls",
          "model_name": "ProgressStyleModel",
          "model_module_version": "1.5.0",
          "state": {
            "_view_name": "StyleView",
            "_model_name": "ProgressStyleModel",
            "description_width": "",
            "_view_module": "@jupyter-widgets/base",
            "_model_module_version": "1.5.0",
            "_view_count": null,
            "_view_module_version": "1.2.0",
            "bar_color": null,
            "_model_module": "@jupyter-widgets/controls"
          }
        },
        "02a50ba085a94c948d156eb75771b146": {
          "model_module": "@jupyter-widgets/base",
          "model_name": "LayoutModel",
          "model_module_version": "1.2.0",
          "state": {
            "_view_name": "LayoutView",
            "grid_template_rows": null,
            "right": null,
            "justify_content": null,
            "_view_module": "@jupyter-widgets/base",
            "overflow": null,
            "_model_module_version": "1.2.0",
            "_view_count": null,
            "flex_flow": null,
            "width": null,
            "min_width": null,
            "border": null,
            "align_items": null,
            "bottom": null,
            "_model_module": "@jupyter-widgets/base",
            "top": null,
            "grid_column": null,
            "overflow_y": null,
            "overflow_x": null,
            "grid_auto_flow": null,
            "grid_area": null,
            "grid_template_columns": null,
            "flex": null,
            "_model_name": "LayoutModel",
            "justify_items": null,
            "grid_row": null,
            "max_height": null,
            "align_content": null,
            "visibility": null,
            "align_self": null,
            "height": null,
            "min_height": null,
            "padding": null,
            "grid_auto_rows": null,
            "grid_gap": null,
            "max_width": null,
            "order": null,
            "_view_module_version": "1.2.0",
            "grid_template_areas": null,
            "object_position": null,
            "object_fit": null,
            "grid_auto_columns": null,
            "margin": null,
            "display": null,
            "left": null
          }
        },
        "a5b06e8647b64b52a689dc9bac8af2e4": {
          "model_module": "@jupyter-widgets/controls",
          "model_name": "DescriptionStyleModel",
          "model_module_version": "1.5.0",
          "state": {
            "_view_name": "StyleView",
            "_model_name": "DescriptionStyleModel",
            "description_width": "",
            "_view_module": "@jupyter-widgets/base",
            "_model_module_version": "1.5.0",
            "_view_count": null,
            "_view_module_version": "1.2.0",
            "_model_module": "@jupyter-widgets/controls"
          }
        },
        "c2d0e3c2846f4cc4a9d1a91202438f98": {
          "model_module": "@jupyter-widgets/base",
          "model_name": "LayoutModel",
          "model_module_version": "1.2.0",
          "state": {
            "_view_name": "LayoutView",
            "grid_template_rows": null,
            "right": null,
            "justify_content": null,
            "_view_module": "@jupyter-widgets/base",
            "overflow": null,
            "_model_module_version": "1.2.0",
            "_view_count": null,
            "flex_flow": null,
            "width": null,
            "min_width": null,
            "border": null,
            "align_items": null,
            "bottom": null,
            "_model_module": "@jupyter-widgets/base",
            "top": null,
            "grid_column": null,
            "overflow_y": null,
            "overflow_x": null,
            "grid_auto_flow": null,
            "grid_area": null,
            "grid_template_columns": null,
            "flex": null,
            "_model_name": "LayoutModel",
            "justify_items": null,
            "grid_row": null,
            "max_height": null,
            "align_content": null,
            "visibility": null,
            "align_self": null,
            "height": null,
            "min_height": null,
            "padding": null,
            "grid_auto_rows": null,
            "grid_gap": null,
            "max_width": null,
            "order": null,
            "_view_module_version": "1.2.0",
            "grid_template_areas": null,
            "object_position": null,
            "object_fit": null,
            "grid_auto_columns": null,
            "margin": null,
            "display": null,
            "left": null
          }
        },
        "206c282bc4504779a4d69941fba50bb7": {
          "model_module": "@jupyter-widgets/controls",
          "model_name": "HBoxModel",
          "model_module_version": "1.5.0",
          "state": {
            "_view_name": "HBoxView",
            "_dom_classes": [],
            "_model_name": "HBoxModel",
            "_view_module": "@jupyter-widgets/controls",
            "_model_module_version": "1.5.0",
            "_view_count": null,
            "_view_module_version": "1.5.0",
            "box_style": "",
            "layout": "IPY_MODEL_ef3d4eca97604489910c40d5282bf3cb",
            "_model_module": "@jupyter-widgets/controls",
            "children": [
              "IPY_MODEL_97c9cf9a0d1e415eaea10d4b1892d3c6",
              "IPY_MODEL_e616356f6a9f45a6abb55847a5961cf5",
              "IPY_MODEL_069df514c5ff4eb0936dcc4e9e0a28aa"
            ]
          }
        },
        "ef3d4eca97604489910c40d5282bf3cb": {
          "model_module": "@jupyter-widgets/base",
          "model_name": "LayoutModel",
          "model_module_version": "1.2.0",
          "state": {
            "_view_name": "LayoutView",
            "grid_template_rows": null,
            "right": null,
            "justify_content": null,
            "_view_module": "@jupyter-widgets/base",
            "overflow": null,
            "_model_module_version": "1.2.0",
            "_view_count": null,
            "flex_flow": null,
            "width": null,
            "min_width": null,
            "border": null,
            "align_items": null,
            "bottom": null,
            "_model_module": "@jupyter-widgets/base",
            "top": null,
            "grid_column": null,
            "overflow_y": null,
            "overflow_x": null,
            "grid_auto_flow": null,
            "grid_area": null,
            "grid_template_columns": null,
            "flex": null,
            "_model_name": "LayoutModel",
            "justify_items": null,
            "grid_row": null,
            "max_height": null,
            "align_content": null,
            "visibility": null,
            "align_self": null,
            "height": null,
            "min_height": null,
            "padding": null,
            "grid_auto_rows": null,
            "grid_gap": null,
            "max_width": null,
            "order": null,
            "_view_module_version": "1.2.0",
            "grid_template_areas": null,
            "object_position": null,
            "object_fit": null,
            "grid_auto_columns": null,
            "margin": null,
            "display": null,
            "left": null
          }
        },
        "97c9cf9a0d1e415eaea10d4b1892d3c6": {
          "model_module": "@jupyter-widgets/controls",
          "model_name": "HTMLModel",
          "model_module_version": "1.5.0",
          "state": {
            "_view_name": "HTMLView",
            "style": "IPY_MODEL_9a2a98027bdc41ee8603372c9265cc84",
            "_dom_classes": [],
            "description": "",
            "_model_name": "HTMLModel",
            "placeholder": "​",
            "_view_module": "@jupyter-widgets/controls",
            "_model_module_version": "1.5.0",
            "value": "2o Laço:  99%",
            "_view_count": null,
            "_view_module_version": "1.5.0",
            "description_tooltip": null,
            "_model_module": "@jupyter-widgets/controls",
            "layout": "IPY_MODEL_aa117f94bd6948a6945fec4bb4481fe4"
          }
        },
        "e616356f6a9f45a6abb55847a5961cf5": {
          "model_module": "@jupyter-widgets/controls",
          "model_name": "FloatProgressModel",
          "model_module_version": "1.5.0",
          "state": {
            "_view_name": "ProgressView",
            "style": "IPY_MODEL_ac93047d679e47fd8c6e65b508af4598",
            "_dom_classes": [],
            "description": "",
            "_model_name": "FloatProgressModel",
            "bar_style": "",
            "max": 100,
            "_view_module": "@jupyter-widgets/controls",
            "_model_module_version": "1.5.0",
            "value": 100,
            "_view_count": null,
            "_view_module_version": "1.5.0",
            "orientation": "horizontal",
            "min": 0,
            "description_tooltip": null,
            "_model_module": "@jupyter-widgets/controls",
            "layout": "IPY_MODEL_9d4738e92c7746babe07a55284729ee7"
          }
        },
        "069df514c5ff4eb0936dcc4e9e0a28aa": {
          "model_module": "@jupyter-widgets/controls",
          "model_name": "HTMLModel",
          "model_module_version": "1.5.0",
          "state": {
            "_view_name": "HTMLView",
            "style": "IPY_MODEL_493f206e197d41d6866de9a11f79612b",
            "_dom_classes": [],
            "description": "",
            "_model_name": "HTMLModel",
            "placeholder": "​",
            "_view_module": "@jupyter-widgets/controls",
            "_model_module_version": "1.5.0",
            "value": " 99/100 [00:02&lt;00:00, 48.01it/s]",
            "_view_count": null,
            "_view_module_version": "1.5.0",
            "description_tooltip": null,
            "_model_module": "@jupyter-widgets/controls",
            "layout": "IPY_MODEL_fdd58a85a82f40a5a09d77f9f232d2a5"
          }
        },
        "9a2a98027bdc41ee8603372c9265cc84": {
          "model_module": "@jupyter-widgets/controls",
          "model_name": "DescriptionStyleModel",
          "model_module_version": "1.5.0",
          "state": {
            "_view_name": "StyleView",
            "_model_name": "DescriptionStyleModel",
            "description_width": "",
            "_view_module": "@jupyter-widgets/base",
            "_model_module_version": "1.5.0",
            "_view_count": null,
            "_view_module_version": "1.2.0",
            "_model_module": "@jupyter-widgets/controls"
          }
        },
        "aa117f94bd6948a6945fec4bb4481fe4": {
          "model_module": "@jupyter-widgets/base",
          "model_name": "LayoutModel",
          "model_module_version": "1.2.0",
          "state": {
            "_view_name": "LayoutView",
            "grid_template_rows": null,
            "right": null,
            "justify_content": null,
            "_view_module": "@jupyter-widgets/base",
            "overflow": null,
            "_model_module_version": "1.2.0",
            "_view_count": null,
            "flex_flow": null,
            "width": null,
            "min_width": null,
            "border": null,
            "align_items": null,
            "bottom": null,
            "_model_module": "@jupyter-widgets/base",
            "top": null,
            "grid_column": null,
            "overflow_y": null,
            "overflow_x": null,
            "grid_auto_flow": null,
            "grid_area": null,
            "grid_template_columns": null,
            "flex": null,
            "_model_name": "LayoutModel",
            "justify_items": null,
            "grid_row": null,
            "max_height": null,
            "align_content": null,
            "visibility": null,
            "align_self": null,
            "height": null,
            "min_height": null,
            "padding": null,
            "grid_auto_rows": null,
            "grid_gap": null,
            "max_width": null,
            "order": null,
            "_view_module_version": "1.2.0",
            "grid_template_areas": null,
            "object_position": null,
            "object_fit": null,
            "grid_auto_columns": null,
            "margin": null,
            "display": null,
            "left": null
          }
        },
        "ac93047d679e47fd8c6e65b508af4598": {
          "model_module": "@jupyter-widgets/controls",
          "model_name": "ProgressStyleModel",
          "model_module_version": "1.5.0",
          "state": {
            "_view_name": "StyleView",
            "_model_name": "ProgressStyleModel",
            "description_width": "",
            "_view_module": "@jupyter-widgets/base",
            "_model_module_version": "1.5.0",
            "_view_count": null,
            "_view_module_version": "1.2.0",
            "bar_color": null,
            "_model_module": "@jupyter-widgets/controls"
          }
        },
        "9d4738e92c7746babe07a55284729ee7": {
          "model_module": "@jupyter-widgets/base",
          "model_name": "LayoutModel",
          "model_module_version": "1.2.0",
          "state": {
            "_view_name": "LayoutView",
            "grid_template_rows": null,
            "right": null,
            "justify_content": null,
            "_view_module": "@jupyter-widgets/base",
            "overflow": null,
            "_model_module_version": "1.2.0",
            "_view_count": null,
            "flex_flow": null,
            "width": null,
            "min_width": null,
            "border": null,
            "align_items": null,
            "bottom": null,
            "_model_module": "@jupyter-widgets/base",
            "top": null,
            "grid_column": null,
            "overflow_y": null,
            "overflow_x": null,
            "grid_auto_flow": null,
            "grid_area": null,
            "grid_template_columns": null,
            "flex": null,
            "_model_name": "LayoutModel",
            "justify_items": null,
            "grid_row": null,
            "max_height": null,
            "align_content": null,
            "visibility": null,
            "align_self": null,
            "height": null,
            "min_height": null,
            "padding": null,
            "grid_auto_rows": null,
            "grid_gap": null,
            "max_width": null,
            "order": null,
            "_view_module_version": "1.2.0",
            "grid_template_areas": null,
            "object_position": null,
            "object_fit": null,
            "grid_auto_columns": null,
            "margin": null,
            "display": null,
            "left": null
          }
        },
        "493f206e197d41d6866de9a11f79612b": {
          "model_module": "@jupyter-widgets/controls",
          "model_name": "DescriptionStyleModel",
          "model_module_version": "1.5.0",
          "state": {
            "_view_name": "StyleView",
            "_model_name": "DescriptionStyleModel",
            "description_width": "",
            "_view_module": "@jupyter-widgets/base",
            "_model_module_version": "1.5.0",
            "_view_count": null,
            "_view_module_version": "1.2.0",
            "_model_module": "@jupyter-widgets/controls"
          }
        },
        "fdd58a85a82f40a5a09d77f9f232d2a5": {
          "model_module": "@jupyter-widgets/base",
          "model_name": "LayoutModel",
          "model_module_version": "1.2.0",
          "state": {
            "_view_name": "LayoutView",
            "grid_template_rows": null,
            "right": null,
            "justify_content": null,
            "_view_module": "@jupyter-widgets/base",
            "overflow": null,
            "_model_module_version": "1.2.0",
            "_view_count": null,
            "flex_flow": null,
            "width": null,
            "min_width": null,
            "border": null,
            "align_items": null,
            "bottom": null,
            "_model_module": "@jupyter-widgets/base",
            "top": null,
            "grid_column": null,
            "overflow_y": null,
            "overflow_x": null,
            "grid_auto_flow": null,
            "grid_area": null,
            "grid_template_columns": null,
            "flex": null,
            "_model_name": "LayoutModel",
            "justify_items": null,
            "grid_row": null,
            "max_height": null,
            "align_content": null,
            "visibility": null,
            "align_self": null,
            "height": null,
            "min_height": null,
            "padding": null,
            "grid_auto_rows": null,
            "grid_gap": null,
            "max_width": null,
            "order": null,
            "_view_module_version": "1.2.0",
            "grid_template_areas": null,
            "object_position": null,
            "object_fit": null,
            "grid_auto_columns": null,
            "margin": null,
            "display": null,
            "left": null
          }
        },
        "33598379b60743c3875725b6e27d2e5a": {
          "model_module": "@jupyter-widgets/controls",
          "model_name": "HBoxModel",
          "model_module_version": "1.5.0",
          "state": {
            "_view_name": "HBoxView",
            "_dom_classes": [],
            "_model_name": "HBoxModel",
            "_view_module": "@jupyter-widgets/controls",
            "_model_module_version": "1.5.0",
            "_view_count": null,
            "_view_module_version": "1.5.0",
            "box_style": "",
            "layout": "IPY_MODEL_7d99279e56394453ac3f2f14e8342756",
            "_model_module": "@jupyter-widgets/controls",
            "children": [
              "IPY_MODEL_60428aa3c2914929a3ddeedb8d59432d",
              "IPY_MODEL_f96cceda1629494aba3074452aa747ec",
              "IPY_MODEL_2834f1a3049a48c89f0ecf602f3bfd2d"
            ]
          }
        },
        "7d99279e56394453ac3f2f14e8342756": {
          "model_module": "@jupyter-widgets/base",
          "model_name": "LayoutModel",
          "model_module_version": "1.2.0",
          "state": {
            "_view_name": "LayoutView",
            "grid_template_rows": null,
            "right": null,
            "justify_content": null,
            "_view_module": "@jupyter-widgets/base",
            "overflow": null,
            "_model_module_version": "1.2.0",
            "_view_count": null,
            "flex_flow": null,
            "width": null,
            "min_width": null,
            "border": null,
            "align_items": null,
            "bottom": null,
            "_model_module": "@jupyter-widgets/base",
            "top": null,
            "grid_column": null,
            "overflow_y": null,
            "overflow_x": null,
            "grid_auto_flow": null,
            "grid_area": null,
            "grid_template_columns": null,
            "flex": null,
            "_model_name": "LayoutModel",
            "justify_items": null,
            "grid_row": null,
            "max_height": null,
            "align_content": null,
            "visibility": null,
            "align_self": null,
            "height": null,
            "min_height": null,
            "padding": null,
            "grid_auto_rows": null,
            "grid_gap": null,
            "max_width": null,
            "order": null,
            "_view_module_version": "1.2.0",
            "grid_template_areas": null,
            "object_position": null,
            "object_fit": null,
            "grid_auto_columns": null,
            "margin": null,
            "display": null,
            "left": null
          }
        },
        "60428aa3c2914929a3ddeedb8d59432d": {
          "model_module": "@jupyter-widgets/controls",
          "model_name": "HTMLModel",
          "model_module_version": "1.5.0",
          "state": {
            "_view_name": "HTMLView",
            "style": "IPY_MODEL_90d2ceea623e42c78a516145c4c7e9f3",
            "_dom_classes": [],
            "description": "",
            "_model_name": "HTMLModel",
            "placeholder": "​",
            "_view_module": "@jupyter-widgets/controls",
            "_model_module_version": "1.5.0",
            "value": "2o Laço:  98%",
            "_view_count": null,
            "_view_module_version": "1.5.0",
            "description_tooltip": null,
            "_model_module": "@jupyter-widgets/controls",
            "layout": "IPY_MODEL_e51df244871c4045af0491444770d670"
          }
        },
        "f96cceda1629494aba3074452aa747ec": {
          "model_module": "@jupyter-widgets/controls",
          "model_name": "FloatProgressModel",
          "model_module_version": "1.5.0",
          "state": {
            "_view_name": "ProgressView",
            "style": "IPY_MODEL_eef192c0764b4bafb5f6a293bbdc342b",
            "_dom_classes": [],
            "description": "",
            "_model_name": "FloatProgressModel",
            "bar_style": "",
            "max": 100,
            "_view_module": "@jupyter-widgets/controls",
            "_model_module_version": "1.5.0",
            "value": 100,
            "_view_count": null,
            "_view_module_version": "1.5.0",
            "orientation": "horizontal",
            "min": 0,
            "description_tooltip": null,
            "_model_module": "@jupyter-widgets/controls",
            "layout": "IPY_MODEL_b27c6378e0fc43aa8bf84873fc69da53"
          }
        },
        "2834f1a3049a48c89f0ecf602f3bfd2d": {
          "model_module": "@jupyter-widgets/controls",
          "model_name": "HTMLModel",
          "model_module_version": "1.5.0",
          "state": {
            "_view_name": "HTMLView",
            "style": "IPY_MODEL_1f07fef3a68748f2b11fd5c619007cc9",
            "_dom_classes": [],
            "description": "",
            "_model_name": "HTMLModel",
            "placeholder": "​",
            "_view_module": "@jupyter-widgets/controls",
            "_model_module_version": "1.5.0",
            "value": " 98/100 [00:02&lt;00:00, 48.65it/s]",
            "_view_count": null,
            "_view_module_version": "1.5.0",
            "description_tooltip": null,
            "_model_module": "@jupyter-widgets/controls",
            "layout": "IPY_MODEL_b681b50abdbe4b5d82296d2fd26c1c9d"
          }
        },
        "90d2ceea623e42c78a516145c4c7e9f3": {
          "model_module": "@jupyter-widgets/controls",
          "model_name": "DescriptionStyleModel",
          "model_module_version": "1.5.0",
          "state": {
            "_view_name": "StyleView",
            "_model_name": "DescriptionStyleModel",
            "description_width": "",
            "_view_module": "@jupyter-widgets/base",
            "_model_module_version": "1.5.0",
            "_view_count": null,
            "_view_module_version": "1.2.0",
            "_model_module": "@jupyter-widgets/controls"
          }
        },
        "e51df244871c4045af0491444770d670": {
          "model_module": "@jupyter-widgets/base",
          "model_name": "LayoutModel",
          "model_module_version": "1.2.0",
          "state": {
            "_view_name": "LayoutView",
            "grid_template_rows": null,
            "right": null,
            "justify_content": null,
            "_view_module": "@jupyter-widgets/base",
            "overflow": null,
            "_model_module_version": "1.2.0",
            "_view_count": null,
            "flex_flow": null,
            "width": null,
            "min_width": null,
            "border": null,
            "align_items": null,
            "bottom": null,
            "_model_module": "@jupyter-widgets/base",
            "top": null,
            "grid_column": null,
            "overflow_y": null,
            "overflow_x": null,
            "grid_auto_flow": null,
            "grid_area": null,
            "grid_template_columns": null,
            "flex": null,
            "_model_name": "LayoutModel",
            "justify_items": null,
            "grid_row": null,
            "max_height": null,
            "align_content": null,
            "visibility": null,
            "align_self": null,
            "height": null,
            "min_height": null,
            "padding": null,
            "grid_auto_rows": null,
            "grid_gap": null,
            "max_width": null,
            "order": null,
            "_view_module_version": "1.2.0",
            "grid_template_areas": null,
            "object_position": null,
            "object_fit": null,
            "grid_auto_columns": null,
            "margin": null,
            "display": null,
            "left": null
          }
        },
        "eef192c0764b4bafb5f6a293bbdc342b": {
          "model_module": "@jupyter-widgets/controls",
          "model_name": "ProgressStyleModel",
          "model_module_version": "1.5.0",
          "state": {
            "_view_name": "StyleView",
            "_model_name": "ProgressStyleModel",
            "description_width": "",
            "_view_module": "@jupyter-widgets/base",
            "_model_module_version": "1.5.0",
            "_view_count": null,
            "_view_module_version": "1.2.0",
            "bar_color": null,
            "_model_module": "@jupyter-widgets/controls"
          }
        },
        "b27c6378e0fc43aa8bf84873fc69da53": {
          "model_module": "@jupyter-widgets/base",
          "model_name": "LayoutModel",
          "model_module_version": "1.2.0",
          "state": {
            "_view_name": "LayoutView",
            "grid_template_rows": null,
            "right": null,
            "justify_content": null,
            "_view_module": "@jupyter-widgets/base",
            "overflow": null,
            "_model_module_version": "1.2.0",
            "_view_count": null,
            "flex_flow": null,
            "width": null,
            "min_width": null,
            "border": null,
            "align_items": null,
            "bottom": null,
            "_model_module": "@jupyter-widgets/base",
            "top": null,
            "grid_column": null,
            "overflow_y": null,
            "overflow_x": null,
            "grid_auto_flow": null,
            "grid_area": null,
            "grid_template_columns": null,
            "flex": null,
            "_model_name": "LayoutModel",
            "justify_items": null,
            "grid_row": null,
            "max_height": null,
            "align_content": null,
            "visibility": null,
            "align_self": null,
            "height": null,
            "min_height": null,
            "padding": null,
            "grid_auto_rows": null,
            "grid_gap": null,
            "max_width": null,
            "order": null,
            "_view_module_version": "1.2.0",
            "grid_template_areas": null,
            "object_position": null,
            "object_fit": null,
            "grid_auto_columns": null,
            "margin": null,
            "display": null,
            "left": null
          }
        },
        "1f07fef3a68748f2b11fd5c619007cc9": {
          "model_module": "@jupyter-widgets/controls",
          "model_name": "DescriptionStyleModel",
          "model_module_version": "1.5.0",
          "state": {
            "_view_name": "StyleView",
            "_model_name": "DescriptionStyleModel",
            "description_width": "",
            "_view_module": "@jupyter-widgets/base",
            "_model_module_version": "1.5.0",
            "_view_count": null,
            "_view_module_version": "1.2.0",
            "_model_module": "@jupyter-widgets/controls"
          }
        },
        "b681b50abdbe4b5d82296d2fd26c1c9d": {
          "model_module": "@jupyter-widgets/base",
          "model_name": "LayoutModel",
          "model_module_version": "1.2.0",
          "state": {
            "_view_name": "LayoutView",
            "grid_template_rows": null,
            "right": null,
            "justify_content": null,
            "_view_module": "@jupyter-widgets/base",
            "overflow": null,
            "_model_module_version": "1.2.0",
            "_view_count": null,
            "flex_flow": null,
            "width": null,
            "min_width": null,
            "border": null,
            "align_items": null,
            "bottom": null,
            "_model_module": "@jupyter-widgets/base",
            "top": null,
            "grid_column": null,
            "overflow_y": null,
            "overflow_x": null,
            "grid_auto_flow": null,
            "grid_area": null,
            "grid_template_columns": null,
            "flex": null,
            "_model_name": "LayoutModel",
            "justify_items": null,
            "grid_row": null,
            "max_height": null,
            "align_content": null,
            "visibility": null,
            "align_self": null,
            "height": null,
            "min_height": null,
            "padding": null,
            "grid_auto_rows": null,
            "grid_gap": null,
            "max_width": null,
            "order": null,
            "_view_module_version": "1.2.0",
            "grid_template_areas": null,
            "object_position": null,
            "object_fit": null,
            "grid_auto_columns": null,
            "margin": null,
            "display": null,
            "left": null
          }
        },
        "6c163e05a2164726bac5a987cc5c6fcc": {
          "model_module": "@jupyter-widgets/controls",
          "model_name": "HBoxModel",
          "model_module_version": "1.5.0",
          "state": {
            "_view_name": "HBoxView",
            "_dom_classes": [],
            "_model_name": "HBoxModel",
            "_view_module": "@jupyter-widgets/controls",
            "_model_module_version": "1.5.0",
            "_view_count": null,
            "_view_module_version": "1.5.0",
            "box_style": "",
            "layout": "IPY_MODEL_9e1b52740ebb4fcab673443298f1d401",
            "_model_module": "@jupyter-widgets/controls",
            "children": [
              "IPY_MODEL_f62050dff29741e0ab514a600b5493cf",
              "IPY_MODEL_e0c01240d7404cf09e836d0676625ca6",
              "IPY_MODEL_f7ae6eabf90444aca94f84e7fad820b9"
            ]
          }
        },
        "9e1b52740ebb4fcab673443298f1d401": {
          "model_module": "@jupyter-widgets/base",
          "model_name": "LayoutModel",
          "model_module_version": "1.2.0",
          "state": {
            "_view_name": "LayoutView",
            "grid_template_rows": null,
            "right": null,
            "justify_content": null,
            "_view_module": "@jupyter-widgets/base",
            "overflow": null,
            "_model_module_version": "1.2.0",
            "_view_count": null,
            "flex_flow": null,
            "width": null,
            "min_width": null,
            "border": null,
            "align_items": null,
            "bottom": null,
            "_model_module": "@jupyter-widgets/base",
            "top": null,
            "grid_column": null,
            "overflow_y": null,
            "overflow_x": null,
            "grid_auto_flow": null,
            "grid_area": null,
            "grid_template_columns": null,
            "flex": null,
            "_model_name": "LayoutModel",
            "justify_items": null,
            "grid_row": null,
            "max_height": null,
            "align_content": null,
            "visibility": null,
            "align_self": null,
            "height": null,
            "min_height": null,
            "padding": null,
            "grid_auto_rows": null,
            "grid_gap": null,
            "max_width": null,
            "order": null,
            "_view_module_version": "1.2.0",
            "grid_template_areas": null,
            "object_position": null,
            "object_fit": null,
            "grid_auto_columns": null,
            "margin": null,
            "display": null,
            "left": null
          }
        },
        "f62050dff29741e0ab514a600b5493cf": {
          "model_module": "@jupyter-widgets/controls",
          "model_name": "HTMLModel",
          "model_module_version": "1.5.0",
          "state": {
            "_view_name": "HTMLView",
            "style": "IPY_MODEL_802035a709084e428075b275f85f03a2",
            "_dom_classes": [],
            "description": "",
            "_model_name": "HTMLModel",
            "placeholder": "​",
            "_view_module": "@jupyter-widgets/controls",
            "_model_module_version": "1.5.0",
            "value": "2o Laço:  98%",
            "_view_count": null,
            "_view_module_version": "1.5.0",
            "description_tooltip": null,
            "_model_module": "@jupyter-widgets/controls",
            "layout": "IPY_MODEL_ac9ed164ca444b69b869567459362a5e"
          }
        },
        "e0c01240d7404cf09e836d0676625ca6": {
          "model_module": "@jupyter-widgets/controls",
          "model_name": "FloatProgressModel",
          "model_module_version": "1.5.0",
          "state": {
            "_view_name": "ProgressView",
            "style": "IPY_MODEL_196d8dc0f9d44330bbf066aec6af1ef0",
            "_dom_classes": [],
            "description": "",
            "_model_name": "FloatProgressModel",
            "bar_style": "",
            "max": 100,
            "_view_module": "@jupyter-widgets/controls",
            "_model_module_version": "1.5.0",
            "value": 100,
            "_view_count": null,
            "_view_module_version": "1.5.0",
            "orientation": "horizontal",
            "min": 0,
            "description_tooltip": null,
            "_model_module": "@jupyter-widgets/controls",
            "layout": "IPY_MODEL_e43a4067dfad483d875d223f6a5cd060"
          }
        },
        "f7ae6eabf90444aca94f84e7fad820b9": {
          "model_module": "@jupyter-widgets/controls",
          "model_name": "HTMLModel",
          "model_module_version": "1.5.0",
          "state": {
            "_view_name": "HTMLView",
            "style": "IPY_MODEL_62a4150460ad439e833864ed4913662e",
            "_dom_classes": [],
            "description": "",
            "_model_name": "HTMLModel",
            "placeholder": "​",
            "_view_module": "@jupyter-widgets/controls",
            "_model_module_version": "1.5.0",
            "value": " 98/100 [00:02&lt;00:00, 47.93it/s]",
            "_view_count": null,
            "_view_module_version": "1.5.0",
            "description_tooltip": null,
            "_model_module": "@jupyter-widgets/controls",
            "layout": "IPY_MODEL_3fedf5045fc14fa9becb8d317c26a97b"
          }
        },
        "802035a709084e428075b275f85f03a2": {
          "model_module": "@jupyter-widgets/controls",
          "model_name": "DescriptionStyleModel",
          "model_module_version": "1.5.0",
          "state": {
            "_view_name": "StyleView",
            "_model_name": "DescriptionStyleModel",
            "description_width": "",
            "_view_module": "@jupyter-widgets/base",
            "_model_module_version": "1.5.0",
            "_view_count": null,
            "_view_module_version": "1.2.0",
            "_model_module": "@jupyter-widgets/controls"
          }
        },
        "ac9ed164ca444b69b869567459362a5e": {
          "model_module": "@jupyter-widgets/base",
          "model_name": "LayoutModel",
          "model_module_version": "1.2.0",
          "state": {
            "_view_name": "LayoutView",
            "grid_template_rows": null,
            "right": null,
            "justify_content": null,
            "_view_module": "@jupyter-widgets/base",
            "overflow": null,
            "_model_module_version": "1.2.0",
            "_view_count": null,
            "flex_flow": null,
            "width": null,
            "min_width": null,
            "border": null,
            "align_items": null,
            "bottom": null,
            "_model_module": "@jupyter-widgets/base",
            "top": null,
            "grid_column": null,
            "overflow_y": null,
            "overflow_x": null,
            "grid_auto_flow": null,
            "grid_area": null,
            "grid_template_columns": null,
            "flex": null,
            "_model_name": "LayoutModel",
            "justify_items": null,
            "grid_row": null,
            "max_height": null,
            "align_content": null,
            "visibility": null,
            "align_self": null,
            "height": null,
            "min_height": null,
            "padding": null,
            "grid_auto_rows": null,
            "grid_gap": null,
            "max_width": null,
            "order": null,
            "_view_module_version": "1.2.0",
            "grid_template_areas": null,
            "object_position": null,
            "object_fit": null,
            "grid_auto_columns": null,
            "margin": null,
            "display": null,
            "left": null
          }
        },
        "196d8dc0f9d44330bbf066aec6af1ef0": {
          "model_module": "@jupyter-widgets/controls",
          "model_name": "ProgressStyleModel",
          "model_module_version": "1.5.0",
          "state": {
            "_view_name": "StyleView",
            "_model_name": "ProgressStyleModel",
            "description_width": "",
            "_view_module": "@jupyter-widgets/base",
            "_model_module_version": "1.5.0",
            "_view_count": null,
            "_view_module_version": "1.2.0",
            "bar_color": null,
            "_model_module": "@jupyter-widgets/controls"
          }
        },
        "e43a4067dfad483d875d223f6a5cd060": {
          "model_module": "@jupyter-widgets/base",
          "model_name": "LayoutModel",
          "model_module_version": "1.2.0",
          "state": {
            "_view_name": "LayoutView",
            "grid_template_rows": null,
            "right": null,
            "justify_content": null,
            "_view_module": "@jupyter-widgets/base",
            "overflow": null,
            "_model_module_version": "1.2.0",
            "_view_count": null,
            "flex_flow": null,
            "width": null,
            "min_width": null,
            "border": null,
            "align_items": null,
            "bottom": null,
            "_model_module": "@jupyter-widgets/base",
            "top": null,
            "grid_column": null,
            "overflow_y": null,
            "overflow_x": null,
            "grid_auto_flow": null,
            "grid_area": null,
            "grid_template_columns": null,
            "flex": null,
            "_model_name": "LayoutModel",
            "justify_items": null,
            "grid_row": null,
            "max_height": null,
            "align_content": null,
            "visibility": null,
            "align_self": null,
            "height": null,
            "min_height": null,
            "padding": null,
            "grid_auto_rows": null,
            "grid_gap": null,
            "max_width": null,
            "order": null,
            "_view_module_version": "1.2.0",
            "grid_template_areas": null,
            "object_position": null,
            "object_fit": null,
            "grid_auto_columns": null,
            "margin": null,
            "display": null,
            "left": null
          }
        },
        "62a4150460ad439e833864ed4913662e": {
          "model_module": "@jupyter-widgets/controls",
          "model_name": "DescriptionStyleModel",
          "model_module_version": "1.5.0",
          "state": {
            "_view_name": "StyleView",
            "_model_name": "DescriptionStyleModel",
            "description_width": "",
            "_view_module": "@jupyter-widgets/base",
            "_model_module_version": "1.5.0",
            "_view_count": null,
            "_view_module_version": "1.2.0",
            "_model_module": "@jupyter-widgets/controls"
          }
        },
        "3fedf5045fc14fa9becb8d317c26a97b": {
          "model_module": "@jupyter-widgets/base",
          "model_name": "LayoutModel",
          "model_module_version": "1.2.0",
          "state": {
            "_view_name": "LayoutView",
            "grid_template_rows": null,
            "right": null,
            "justify_content": null,
            "_view_module": "@jupyter-widgets/base",
            "overflow": null,
            "_model_module_version": "1.2.0",
            "_view_count": null,
            "flex_flow": null,
            "width": null,
            "min_width": null,
            "border": null,
            "align_items": null,
            "bottom": null,
            "_model_module": "@jupyter-widgets/base",
            "top": null,
            "grid_column": null,
            "overflow_y": null,
            "overflow_x": null,
            "grid_auto_flow": null,
            "grid_area": null,
            "grid_template_columns": null,
            "flex": null,
            "_model_name": "LayoutModel",
            "justify_items": null,
            "grid_row": null,
            "max_height": null,
            "align_content": null,
            "visibility": null,
            "align_self": null,
            "height": null,
            "min_height": null,
            "padding": null,
            "grid_auto_rows": null,
            "grid_gap": null,
            "max_width": null,
            "order": null,
            "_view_module_version": "1.2.0",
            "grid_template_areas": null,
            "object_position": null,
            "object_fit": null,
            "grid_auto_columns": null,
            "margin": null,
            "display": null,
            "left": null
          }
        },
        "f94b2d8aedcc4d6e9ae5f7bc99ecd024": {
          "model_module": "@jupyter-widgets/controls",
          "model_name": "HBoxModel",
          "model_module_version": "1.5.0",
          "state": {
            "_view_name": "HBoxView",
            "_dom_classes": [],
            "_model_name": "HBoxModel",
            "_view_module": "@jupyter-widgets/controls",
            "_model_module_version": "1.5.0",
            "_view_count": null,
            "_view_module_version": "1.5.0",
            "box_style": "",
            "layout": "IPY_MODEL_3e3887e50ccd402eada75e8b88e04465",
            "_model_module": "@jupyter-widgets/controls",
            "children": [
              "IPY_MODEL_d22f28b10867486d87e1ee53377363ae",
              "IPY_MODEL_c870e2edc3ab49b28159ce3d96d985a8",
              "IPY_MODEL_0ce6a5eab0cf42c09664bb18a86514b7"
            ]
          }
        },
        "3e3887e50ccd402eada75e8b88e04465": {
          "model_module": "@jupyter-widgets/base",
          "model_name": "LayoutModel",
          "model_module_version": "1.2.0",
          "state": {
            "_view_name": "LayoutView",
            "grid_template_rows": null,
            "right": null,
            "justify_content": null,
            "_view_module": "@jupyter-widgets/base",
            "overflow": null,
            "_model_module_version": "1.2.0",
            "_view_count": null,
            "flex_flow": null,
            "width": null,
            "min_width": null,
            "border": null,
            "align_items": null,
            "bottom": null,
            "_model_module": "@jupyter-widgets/base",
            "top": null,
            "grid_column": null,
            "overflow_y": null,
            "overflow_x": null,
            "grid_auto_flow": null,
            "grid_area": null,
            "grid_template_columns": null,
            "flex": null,
            "_model_name": "LayoutModel",
            "justify_items": null,
            "grid_row": null,
            "max_height": null,
            "align_content": null,
            "visibility": null,
            "align_self": null,
            "height": null,
            "min_height": null,
            "padding": null,
            "grid_auto_rows": null,
            "grid_gap": null,
            "max_width": null,
            "order": null,
            "_view_module_version": "1.2.0",
            "grid_template_areas": null,
            "object_position": null,
            "object_fit": null,
            "grid_auto_columns": null,
            "margin": null,
            "display": null,
            "left": null
          }
        },
        "d22f28b10867486d87e1ee53377363ae": {
          "model_module": "@jupyter-widgets/controls",
          "model_name": "HTMLModel",
          "model_module_version": "1.5.0",
          "state": {
            "_view_name": "HTMLView",
            "style": "IPY_MODEL_d3b8e52e9b84478abb2a293454ec1c38",
            "_dom_classes": [],
            "description": "",
            "_model_name": "HTMLModel",
            "placeholder": "​",
            "_view_module": "@jupyter-widgets/controls",
            "_model_module_version": "1.5.0",
            "value": "Clientes: 100%",
            "_view_count": null,
            "_view_module_version": "1.5.0",
            "description_tooltip": null,
            "_model_module": "@jupyter-widgets/controls",
            "layout": "IPY_MODEL_d4e3880179e2433e87664f4c34deb355"
          }
        },
        "c870e2edc3ab49b28159ce3d96d985a8": {
          "model_module": "@jupyter-widgets/controls",
          "model_name": "FloatProgressModel",
          "model_module_version": "1.5.0",
          "state": {
            "_view_name": "ProgressView",
            "style": "IPY_MODEL_3a50fb24f6d04d4c911188a5829f1f36",
            "_dom_classes": [],
            "description": "",
            "_model_name": "FloatProgressModel",
            "bar_style": "success",
            "max": 5,
            "_view_module": "@jupyter-widgets/controls",
            "_model_module_version": "1.5.0",
            "value": 5,
            "_view_count": null,
            "_view_module_version": "1.5.0",
            "orientation": "horizontal",
            "min": 0,
            "description_tooltip": null,
            "_model_module": "@jupyter-widgets/controls",
            "layout": "IPY_MODEL_9ff2359c0cb54323958859f7aab2c3cb"
          }
        },
        "0ce6a5eab0cf42c09664bb18a86514b7": {
          "model_module": "@jupyter-widgets/controls",
          "model_name": "HTMLModel",
          "model_module_version": "1.5.0",
          "state": {
            "_view_name": "HTMLView",
            "style": "IPY_MODEL_39869fcde5ce49bba0161059db00ce5e",
            "_dom_classes": [],
            "description": "",
            "_model_name": "HTMLModel",
            "placeholder": "​",
            "_view_module": "@jupyter-widgets/controls",
            "_model_module_version": "1.5.0",
            "value": " 5/5 [00:05&lt;00:00,  1.01s/cliente]",
            "_view_count": null,
            "_view_module_version": "1.5.0",
            "description_tooltip": null,
            "_model_module": "@jupyter-widgets/controls",
            "layout": "IPY_MODEL_d858f76dfeca40109d114cce66ca33c2"
          }
        },
        "d3b8e52e9b84478abb2a293454ec1c38": {
          "model_module": "@jupyter-widgets/controls",
          "model_name": "DescriptionStyleModel",
          "model_module_version": "1.5.0",
          "state": {
            "_view_name": "StyleView",
            "_model_name": "DescriptionStyleModel",
            "description_width": "",
            "_view_module": "@jupyter-widgets/base",
            "_model_module_version": "1.5.0",
            "_view_count": null,
            "_view_module_version": "1.2.0",
            "_model_module": "@jupyter-widgets/controls"
          }
        },
        "d4e3880179e2433e87664f4c34deb355": {
          "model_module": "@jupyter-widgets/base",
          "model_name": "LayoutModel",
          "model_module_version": "1.2.0",
          "state": {
            "_view_name": "LayoutView",
            "grid_template_rows": null,
            "right": null,
            "justify_content": null,
            "_view_module": "@jupyter-widgets/base",
            "overflow": null,
            "_model_module_version": "1.2.0",
            "_view_count": null,
            "flex_flow": null,
            "width": null,
            "min_width": null,
            "border": null,
            "align_items": null,
            "bottom": null,
            "_model_module": "@jupyter-widgets/base",
            "top": null,
            "grid_column": null,
            "overflow_y": null,
            "overflow_x": null,
            "grid_auto_flow": null,
            "grid_area": null,
            "grid_template_columns": null,
            "flex": null,
            "_model_name": "LayoutModel",
            "justify_items": null,
            "grid_row": null,
            "max_height": null,
            "align_content": null,
            "visibility": null,
            "align_self": null,
            "height": null,
            "min_height": null,
            "padding": null,
            "grid_auto_rows": null,
            "grid_gap": null,
            "max_width": null,
            "order": null,
            "_view_module_version": "1.2.0",
            "grid_template_areas": null,
            "object_position": null,
            "object_fit": null,
            "grid_auto_columns": null,
            "margin": null,
            "display": null,
            "left": null
          }
        },
        "3a50fb24f6d04d4c911188a5829f1f36": {
          "model_module": "@jupyter-widgets/controls",
          "model_name": "ProgressStyleModel",
          "model_module_version": "1.5.0",
          "state": {
            "_view_name": "StyleView",
            "_model_name": "ProgressStyleModel",
            "description_width": "",
            "_view_module": "@jupyter-widgets/base",
            "_model_module_version": "1.5.0",
            "_view_count": null,
            "_view_module_version": "1.2.0",
            "bar_color": null,
            "_model_module": "@jupyter-widgets/controls"
          }
        },
        "9ff2359c0cb54323958859f7aab2c3cb": {
          "model_module": "@jupyter-widgets/base",
          "model_name": "LayoutModel",
          "model_module_version": "1.2.0",
          "state": {
            "_view_name": "LayoutView",
            "grid_template_rows": null,
            "right": null,
            "justify_content": null,
            "_view_module": "@jupyter-widgets/base",
            "overflow": null,
            "_model_module_version": "1.2.0",
            "_view_count": null,
            "flex_flow": null,
            "width": null,
            "min_width": null,
            "border": null,
            "align_items": null,
            "bottom": null,
            "_model_module": "@jupyter-widgets/base",
            "top": null,
            "grid_column": null,
            "overflow_y": null,
            "overflow_x": null,
            "grid_auto_flow": null,
            "grid_area": null,
            "grid_template_columns": null,
            "flex": null,
            "_model_name": "LayoutModel",
            "justify_items": null,
            "grid_row": null,
            "max_height": null,
            "align_content": null,
            "visibility": null,
            "align_self": null,
            "height": null,
            "min_height": null,
            "padding": null,
            "grid_auto_rows": null,
            "grid_gap": null,
            "max_width": null,
            "order": null,
            "_view_module_version": "1.2.0",
            "grid_template_areas": null,
            "object_position": null,
            "object_fit": null,
            "grid_auto_columns": null,
            "margin": null,
            "display": null,
            "left": null
          }
        },
        "39869fcde5ce49bba0161059db00ce5e": {
          "model_module": "@jupyter-widgets/controls",
          "model_name": "DescriptionStyleModel",
          "model_module_version": "1.5.0",
          "state": {
            "_view_name": "StyleView",
            "_model_name": "DescriptionStyleModel",
            "description_width": "",
            "_view_module": "@jupyter-widgets/base",
            "_model_module_version": "1.5.0",
            "_view_count": null,
            "_view_module_version": "1.2.0",
            "_model_module": "@jupyter-widgets/controls"
          }
        },
        "d858f76dfeca40109d114cce66ca33c2": {
          "model_module": "@jupyter-widgets/base",
          "model_name": "LayoutModel",
          "model_module_version": "1.2.0",
          "state": {
            "_view_name": "LayoutView",
            "grid_template_rows": null,
            "right": null,
            "justify_content": null,
            "_view_module": "@jupyter-widgets/base",
            "overflow": null,
            "_model_module_version": "1.2.0",
            "_view_count": null,
            "flex_flow": null,
            "width": null,
            "min_width": null,
            "border": null,
            "align_items": null,
            "bottom": null,
            "_model_module": "@jupyter-widgets/base",
            "top": null,
            "grid_column": null,
            "overflow_y": null,
            "overflow_x": null,
            "grid_auto_flow": null,
            "grid_area": null,
            "grid_template_columns": null,
            "flex": null,
            "_model_name": "LayoutModel",
            "justify_items": null,
            "grid_row": null,
            "max_height": null,
            "align_content": null,
            "visibility": null,
            "align_self": null,
            "height": null,
            "min_height": null,
            "padding": null,
            "grid_auto_rows": null,
            "grid_gap": null,
            "max_width": null,
            "order": null,
            "_view_module_version": "1.2.0",
            "grid_template_areas": null,
            "object_position": null,
            "object_fit": null,
            "grid_auto_columns": null,
            "margin": null,
            "display": null,
            "left": null
          }
        }
      }
    }
  },
  "cells": [
    {
      "cell_type": "markdown",
      "metadata": {
        "id": "view-in-github",
        "colab_type": "text"
      },
      "source": [
        "<a href=\"https://colab.research.google.com/github/osmarbraz/exemplos_python/blob/master/ExemplosPython.ipynb\" target=\"_parent\"><img src=\"https://colab.research.google.com/assets/colab-badge.svg\" alt=\"Open In Colab\"/></a>"
      ]
    },
    {
      "cell_type": "markdown",
      "metadata": {
        "id": "xY84ChCNzmQQ"
      },
      "source": [
        "# Exemplos Python no Google Colaboratory"
      ]
    },
    {
      "cell_type": "markdown",
      "metadata": {
        "id": "KoMscP0Jo5rw"
      },
      "source": [
        "Exemplos básicos em python:\n",
        "- Tipos primitivos;\n",
        "- Operadores;\n",
        "- Funções Matemáticas;\n",
        "- Saída de dados\n",
        "- Estruturas condicionais;\n",
        "- Estruturas de repetição;\n",
        "- Tratamento de mensagens;\n",
        "- Comandos Bash;\n",
        "- Tradução de textos;\n",
        "- Remoção de Tags HTML;\n",
        "- Funções;\n",
        "- Aritmética binária;\n",
        "- Mensagem e barra de progresso;\n",
        "- Funções de tempo;\n",
        "- Roleta;\n",
        "- Versão Python;\n",
        "- Previnir desconexão sessão;\n",
        "-----------------------------------------\n",
        "**Guia Colab Iniciante:**\n",
        "\n",
        "https://medium.com/machina-sapiens/google-colab-guia-do-iniciante-334d70aad531\n",
        "\n",
        "**Documentação oficial:**\n",
        "\n",
        "https://colab.research.google.com/github/jakevdp/PythonDataScienceHandbook/blob/master/notebooks/01.01-Help-And-Documentation.ipynb\n",
        "\n",
        "**Características :**\n",
        "\n",
        "https://colab.research.google.com/notebooks/basic_features_overview.ipynb\n"
      ]
    },
    {
      "cell_type": "markdown",
      "metadata": {
        "id": "IAQcH7kh3cmD"
      },
      "source": [
        "# Tipos primitivos"
      ]
    },
    {
      "cell_type": "markdown",
      "metadata": {
        "id": "eK55gNwoRrBC"
      },
      "source": [
        "##Tipos de dados\n",
        "Existem 4 tipos numéricos:\n",
        "*  inteiro (int)\n",
        "*  ponto flutuante (float)\n",
        "*  booleano (bool)\n",
        "*  complexo (complex)"
      ]
    },
    {
      "cell_type": "code",
      "metadata": {
        "colab": {
          "base_uri": "https://localhost:8080/"
        },
        "id": "v8W6YPbURtbx",
        "outputId": "d3ec60d0-c5f8-4920-a04e-a8fb6a9233bf"
      },
      "source": [
        "# Inteiros\n",
        "inteiro = 28\n",
        "print(inteiro)\n",
        "\n",
        "# type mostra o tipo de uma variável\n",
        "print(type(inteiro))\n",
        "\n",
        "# Ponto flutuante\n",
        "real = 3.1415\n",
        "print(real)\n",
        "\n",
        "#type mostra o tipo de uma variável\n",
        "print(type(real))\n",
        "\n",
        "# String\n",
        "nome = \"Pedro\"\n",
        "print(nome)\n",
        "# type mostra o tipo de uma variável\n",
        "print(type(nome))\n",
        "\n",
        "# Boolean\n",
        "chave = True\n",
        "print(chave)\n",
        "\n",
        "# type mostra o tipo de uma variável\n",
        "print(type(chave))\n",
        "\n",
        "# Complexo\n",
        "complexo = 4+3j\n",
        "print(complexo)\n",
        "\n",
        "# type mostra o tipo de uma variável\n",
        "print(type(complexo))\n"
      ],
      "execution_count": null,
      "outputs": [
        {
          "output_type": "stream",
          "name": "stdout",
          "text": [
            "28\n",
            "<class 'int'>\n",
            "3.1415\n",
            "<class 'float'>\n",
            "Pedro\n",
            "<class 'str'>\n",
            "True\n",
            "<class 'bool'>\n",
            "(4+3j)\n",
            "<class 'complex'>\n"
          ]
        }
      ]
    },
    {
      "cell_type": "markdown",
      "metadata": {
        "id": "FFyCLoRDNBN5"
      },
      "source": [
        "## Conversão de Tipo\n",
        "\n",
        "https://www.digitalocean.com/community/tutorials/how-to-convert-data-types-in-python-3"
      ]
    },
    {
      "cell_type": "markdown",
      "metadata": {
        "id": "nk3O9-gbUFrk"
      },
      "source": [
        "int para float"
      ]
    },
    {
      "cell_type": "code",
      "metadata": {
        "colab": {
          "base_uri": "https://localhost:8080/"
        },
        "id": "o-PkSCYkUFBz",
        "outputId": "edaf674c-39d5-428d-ac67-b996681f6c87"
      },
      "source": [
        "numero = 10\n",
        "\n",
        "real = float(numero)\n",
        "\n",
        "print(real)"
      ],
      "execution_count": null,
      "outputs": [
        {
          "output_type": "stream",
          "name": "stdout",
          "text": [
            "10.0\n"
          ]
        }
      ]
    },
    {
      "cell_type": "markdown",
      "metadata": {
        "id": "Ea3JlQiPUTn1"
      },
      "source": [
        "float para int"
      ]
    },
    {
      "cell_type": "code",
      "metadata": {
        "colab": {
          "base_uri": "https://localhost:8080/"
        },
        "id": "c0gIL7FRUTn3",
        "outputId": "568cfd37-d66b-483e-ae12-8a45bd9a57ad"
      },
      "source": [
        "real = 10.0\n",
        "\n",
        "numero = int(real)\n",
        "\n",
        "print(numero)"
      ],
      "execution_count": null,
      "outputs": [
        {
          "output_type": "stream",
          "name": "stdout",
          "text": [
            "10\n"
          ]
        }
      ]
    },
    {
      "cell_type": "markdown",
      "metadata": {
        "id": "-0dKcWaLNTaU"
      },
      "source": [
        "int para string"
      ]
    },
    {
      "cell_type": "code",
      "metadata": {
        "colab": {
          "base_uri": "https://localhost:8080/",
          "height": 35
        },
        "id": "FTiM5w34ND_Q",
        "outputId": "4a57061d-81a8-4b8b-ff7e-87105e7ec567"
      },
      "source": [
        "numero = 123\n",
        "\n",
        "literal = str(numero)\n",
        "\n",
        "literal"
      ],
      "execution_count": null,
      "outputs": [
        {
          "output_type": "execute_result",
          "data": {
            "application/vnd.google.colaboratory.intrinsic+json": {
              "type": "string"
            },
            "text/plain": [
              "'123'"
            ]
          },
          "metadata": {},
          "execution_count": 4
        }
      ]
    },
    {
      "cell_type": "markdown",
      "metadata": {
        "id": "aOktXtrdNWNP"
      },
      "source": [
        "Concatenando int com string"
      ]
    },
    {
      "cell_type": "code",
      "metadata": {
        "colab": {
          "base_uri": "https://localhost:8080/"
        },
        "id": "e4NyCSIFNYwq",
        "outputId": "32692254-5a97-4599-ca64-cc80d016ea8b"
      },
      "source": [
        "numero = 123\n",
        "\n",
        "literal = \"O numero é \" + str(numero)\n",
        "\n",
        "print(literal)"
      ],
      "execution_count": null,
      "outputs": [
        {
          "output_type": "stream",
          "name": "stdout",
          "text": [
            "O numero é 123\n"
          ]
        }
      ]
    },
    {
      "cell_type": "markdown",
      "metadata": {
        "id": "5TJ0WelPTCOL"
      },
      "source": [
        "## Tipo Nulo / None"
      ]
    },
    {
      "cell_type": "code",
      "metadata": {
        "colab": {
          "base_uri": "https://localhost:8080/"
        },
        "id": "bkE00XeuTDpl",
        "outputId": "94b98e96-2480-48d6-be28-298165b23b2e"
      },
      "source": [
        "# Valor vazio ou dado do tipo nulo\n",
        "vazio = None\n",
        "print(vazio)\n",
        "\n",
        "# type mostra o tipo de uma variável\n",
        "print(type(vazio))"
      ],
      "execution_count": null,
      "outputs": [
        {
          "output_type": "stream",
          "name": "stdout",
          "text": [
            "None\n",
            "<class 'NoneType'>\n"
          ]
        }
      ]
    },
    {
      "cell_type": "markdown",
      "metadata": {
        "id": "Ai4yFTXqdcuw"
      },
      "source": [
        "##String"
      ]
    },
    {
      "cell_type": "markdown",
      "metadata": {
        "id": "AnFhd5MFcSZ3"
      },
      "source": [
        "### Exemplo 1 - Existência substring\n",
        "\n",
        "Verifica se uma substring existe em string"
      ]
    },
    {
      "cell_type": "code",
      "metadata": {
        "colab": {
          "base_uri": "https://localhost:8080/"
        },
        "id": "psZTKUS5cWZG",
        "outputId": "1688863a-e72e-4292-cfb9-aa1d693ff8af"
      },
      "source": [
        "frase = \"bom dia!\"\n",
        "\n",
        "if \"dia\" in frase:\n",
        "    print(\"dia existe em frase\")\n",
        "else:\n",
        "   print(\"dia não existe em frase\")"
      ],
      "execution_count": null,
      "outputs": [
        {
          "output_type": "stream",
          "name": "stdout",
          "text": [
            "dia existe em frase\n"
          ]
        }
      ]
    },
    {
      "cell_type": "markdown",
      "metadata": {
        "id": "m47Uq0H0j7mZ"
      },
      "source": [
        "### Exemplo 2 - Posição substring\n",
        "\n",
        "Retorna a posição onde se encontra a substring"
      ]
    },
    {
      "cell_type": "code",
      "metadata": {
        "colab": {
          "base_uri": "https://localhost:8080/"
        },
        "id": "0Mtd1neJj90X",
        "outputId": "919b5548-b007-4da4-ba94-4a2578c536fa"
      },
      "source": [
        "frase = \"bom dia!\"\n",
        "\n",
        "x = frase.find(\"dia\")\n",
        "\n",
        "print(x)"
      ],
      "execution_count": null,
      "outputs": [
        {
          "output_type": "stream",
          "name": "stdout",
          "text": [
            "4\n"
          ]
        }
      ]
    },
    {
      "cell_type": "markdown",
      "metadata": {
        "id": "3EK92Ex6eACY"
      },
      "source": [
        "### Exemplo 3 - Uso trim(strip, lstrip, rstrip)"
      ]
    },
    {
      "cell_type": "code",
      "metadata": {
        "colab": {
          "base_uri": "https://localhost:8080/"
        },
        "id": "DAagAUYveEMY",
        "outputId": "84ba3208-ab11-4931-c85f-32648e2d6fb1"
      },
      "source": [
        "frase = \"  bom dia !  \"\n",
        "\n",
        "# Saída dos dados\n",
        "print(\"frase =\" + \"\\\"\" + frase + \"\\\"\")\n",
        "print(\"Após remover espacos a esquerda = \\\"\" + frase.lstrip() + \"\\\"\")\n",
        "print(\"Após remover espaços a direita  = \\\"\" + frase.rstrip() +\"\\\"\")\n",
        "print(\"Após trim esquerda e direita    = \\\"\" + frase.strip() +\"\\\"\")"
      ],
      "execution_count": null,
      "outputs": [
        {
          "output_type": "stream",
          "name": "stdout",
          "text": [
            "frase =\"  bom dia !  \"\n",
            "Após remover espacos a esquerda = \"bom dia !  \"\n",
            "Após remover espaços a direita  = \"  bom dia !\"\n",
            "Após trim esquerda e direita    = \"bom dia !\"\n"
          ]
        }
      ]
    },
    {
      "cell_type": "markdown",
      "metadata": {
        "id": "D6JE_nHvYEZ7"
      },
      "source": [
        "### Exemplo 4 - Testa string vazia ou nula"
      ]
    },
    {
      "cell_type": "code",
      "metadata": {
        "colab": {
          "base_uri": "https://localhost:8080/"
        },
        "id": "1Qrh3kMEYI7v",
        "outputId": "5681b723-9157-475a-cee0-9073bf3a5101"
      },
      "source": [
        "palavra = \"\"\n",
        "\n",
        "# Forma 1\n",
        "if not palavra.strip():\n",
        "  print (\"string nula!\")\n",
        "else:\n",
        "  print (\"string não nula!\")\n",
        "\n",
        "# Forma 2\n",
        "if not palavra:\n",
        "   print (\"string nula!\")\n",
        "else:\n",
        "   print (\"string não nula!\")\n",
        "\n",
        "# Forma 3\n",
        "if len(palavra)==0:\n",
        "   print (\"string nula!\")\n",
        "else:\n",
        "   print (\"string não nula!\")\n",
        "\n",
        "# Forma 4\n",
        "if palavra == \"\":\n",
        "   print (\"string nula!\")\n",
        "else:\n",
        "   print (\"string não nula!\")"
      ],
      "execution_count": null,
      "outputs": [
        {
          "output_type": "stream",
          "name": "stdout",
          "text": [
            "string nula!\n",
            "string nula!\n",
            "string nula!\n",
            "string nula!\n"
          ]
        }
      ]
    },
    {
      "cell_type": "markdown",
      "metadata": {
        "id": "UvTP_bMqbHRH"
      },
      "source": [
        "### Exemplo 5 - Remove caracter de String"
      ]
    },
    {
      "cell_type": "code",
      "metadata": {
        "colab": {
          "base_uri": "https://localhost:8080/"
        },
        "id": "hFMyz2SqbLNs",
        "outputId": "1bd0a11f-ccca-4ae2-c62b-822d85ef65fc"
      },
      "source": [
        "palavra = \"  bom     dia !   \"\n",
        "\n",
        "print(\"\\\"\" + palavra.replace(\"  \", \"\") + \"\\\"\")"
      ],
      "execution_count": null,
      "outputs": [
        {
          "output_type": "stream",
          "name": "stdout",
          "text": [
            "\"bom dia ! \"\n"
          ]
        }
      ]
    },
    {
      "cell_type": "markdown",
      "metadata": {
        "id": "ORROZhyO7WaB"
      },
      "source": [
        "### Exemplo 6 - Remove \"\\n\" de String"
      ]
    },
    {
      "cell_type": "code",
      "metadata": {
        "colab": {
          "base_uri": "https://localhost:8080/"
        },
        "id": "wLQA9tha7ZXb",
        "outputId": "1b3b5b02-920f-43ef-c1a1-947b5dd912f6"
      },
      "source": [
        "palavra = \"bom\\n\"\n",
        "\n",
        "print(palavra)\n",
        "print(len(palavra))\n",
        "\n",
        "palavra = palavra.rstrip(\"\\n\")\n",
        "\n",
        "print(palavra)\n",
        "print(len(palavra))"
      ],
      "execution_count": null,
      "outputs": [
        {
          "output_type": "stream",
          "name": "stdout",
          "text": [
            "bom\n",
            "\n",
            "4\n",
            "bom\n",
            "3\n"
          ]
        }
      ]
    },
    {
      "cell_type": "markdown",
      "metadata": {
        "id": "1QWOvA-w_liD"
      },
      "source": [
        "### Exemplo 7 - contar letra de *String*"
      ]
    },
    {
      "cell_type": "code",
      "metadata": {
        "colab": {
          "base_uri": "https://localhost:8080/"
        },
        "id": "vWo1ogQx_l76",
        "outputId": "75bfcf61-9a64-4e5f-cbdc-f1c5c65789d7"
      },
      "source": [
        "palavra = \"casa\"\n",
        "print(palavra)\n",
        "\n",
        "qtde = palavra.count(\"a\")\n",
        "\n",
        "# Saída dos dados\n",
        "print(qtde)"
      ],
      "execution_count": null,
      "outputs": [
        {
          "output_type": "stream",
          "name": "stdout",
          "text": [
            "casa\n",
            "2\n"
          ]
        }
      ]
    },
    {
      "cell_type": "markdown",
      "metadata": {
        "id": "evOpb10jE9yE"
      },
      "source": [
        "### Exemplo 8 - Remove vários espaços em branco e substitui por somente um.\n",
        "\n",
        "Utiliza expressões regulares."
      ]
    },
    {
      "cell_type": "code",
      "metadata": {
        "colab": {
          "base_uri": "https://localhost:8080/"
        },
        "id": "xCbbljKzE9yK",
        "outputId": "31bc05d6-3eab-4cbe-bc8f-df83720a3168"
      },
      "source": [
        "# Biblioteca para expressões regulares\n",
        "import re\n",
        "\n",
        "frase1 = \"O    dia   está     bonito.\"\n",
        "print(frase1)\n",
        "\n",
        "frase2  = re.sub(\"\\s+\", \" \", frase1)\n",
        "\n",
        "# Saída dos dados\n",
        "print(frase2)"
      ],
      "execution_count": null,
      "outputs": [
        {
          "output_type": "stream",
          "name": "stdout",
          "text": [
            "O    dia   está     bonito.\n",
            "O dia está bonito.\n"
          ]
        }
      ]
    },
    {
      "cell_type": "markdown",
      "metadata": {
        "id": "FqgMjhMhnjdA"
      },
      "source": [
        "### Exemplo 9 - Encontra a quantidade de palavras da frase"
      ]
    },
    {
      "cell_type": "code",
      "metadata": {
        "colab": {
          "base_uri": "https://localhost:8080/"
        },
        "id": "mZDgvqfwnkI5",
        "outputId": "74dbd441-b581-4c49-eb55-585a4ab2dc28"
      },
      "source": [
        "# Frases de exemplo\n",
        "frase = \"O céu está azul.\"\n",
        "\n",
        "# Mostra a frase\n",
        "print(frase)\n",
        "\n",
        "# split() cria uma lista das palavras das frase\n",
        "print(frase.split())\n",
        "\n",
        "# Retorna o tamanho da lista de palavras da frase\n",
        "qtde = len(frase.split())\n",
        "\n",
        "# Mostra a quantidade\n",
        "print(\"Quantidade de palavas:\", qtde)"
      ],
      "execution_count": null,
      "outputs": [
        {
          "output_type": "stream",
          "name": "stdout",
          "text": [
            "O céu está azul.\n",
            "['O', 'céu', 'está', 'azul.']\n",
            "Quantidade de palavas: 4\n"
          ]
        }
      ]
    },
    {
      "cell_type": "markdown",
      "metadata": {
        "id": "8DGKJ0Og7_j6"
      },
      "source": [
        "### Exemplo 19 - Encontra a quantidade de palavras da maior frase"
      ]
    },
    {
      "cell_type": "code",
      "metadata": {
        "colab": {
          "base_uri": "https://localhost:8080/"
        },
        "id": "DWE3sgG178Nt",
        "outputId": "78ed9751-4f43-4923-ed51-d8fd7729b3d7"
      },
      "source": [
        "# Frases de exemplo\n",
        "frases = [\"O gato no tapete.\", \"O cachorro comeu minha tarefa.\"]\n",
        "\n",
        "# Procura a frase com o maior número de palavras\n",
        "maior_frase = len(max(frases, key=lambda k: len(k.split())).split())\n",
        "\n",
        "# Mostra a quantidade\n",
        "print(\"Tamanho maior frase:\", maior_frase)"
      ],
      "execution_count": null,
      "outputs": [
        {
          "output_type": "stream",
          "name": "stdout",
          "text": [
            "Tamanho maior frase: 5\n"
          ]
        }
      ]
    },
    {
      "cell_type": "markdown",
      "metadata": {
        "id": "cBaB4AF1GRwH"
      },
      "source": [
        "### Exemplo 11 - Encontra o último caracter de uma frase\n",
        "\n",
        "Não considera espaço em branco."
      ]
    },
    {
      "cell_type": "code",
      "metadata": {
        "colab": {
          "base_uri": "https://localhost:8080/"
        },
        "id": "qhe0nfVxGR_P",
        "outputId": "3102f7b6-6021-4fc2-f5c4-4634dec60f33"
      },
      "source": [
        "# Frase de exemplo\n",
        "frase = \"  Que dia bonito  \"\n",
        "print(\"[\", frase,\"]\")\n",
        "\n",
        "# Retira os espaços antes de depois da frase\n",
        "frase = frase.strip()\n",
        "print(\"[\", frase,\"]\")\n",
        "\n",
        "# Recupera o último caracter\n",
        "ultimo_caracter = frase[-1]\n",
        "\n",
        "# Saída dos dados\n",
        "print (\"Último caracter:\", ultimo_caracter)"
      ],
      "execution_count": null,
      "outputs": [
        {
          "output_type": "stream",
          "name": "stdout",
          "text": [
            "[   Que dia bonito   ]\n",
            "[ Que dia bonito ]\n",
            "Último caracter: o\n"
          ]
        }
      ]
    },
    {
      "cell_type": "markdown",
      "metadata": {
        "id": "yzfg-I1HQaUo"
      },
      "source": [
        "### Exemplo 12 - Exibe número percentual formatado"
      ]
    },
    {
      "cell_type": "code",
      "metadata": {
        "colab": {
          "base_uri": "https://localhost:8080/"
        },
        "id": "rbzIyYV0QfhH",
        "outputId": "739b0d43-6a38-48d6-ed8a-9d4ef4e586fc"
      },
      "source": [
        "x = 16\n",
        "total = 150\n",
        "percentual = x/total\n",
        "print(\"Percentual de X(\",x,\") no total(\",total,\") = \", \"{:.2%}\".format(percentual))"
      ],
      "execution_count": null,
      "outputs": [
        {
          "output_type": "stream",
          "name": "stdout",
          "text": [
            "Percentual de X( 16 ) no total( 150 ) =  10.67%\n"
          ]
        }
      ]
    },
    {
      "cell_type": "markdown",
      "metadata": {
        "id": "LQ_r-Dsi8Qx3"
      },
      "source": [
        "### Exemplo 13 - Iníciais em maiúsculo"
      ]
    },
    {
      "cell_type": "code",
      "metadata": {
        "colab": {
          "base_uri": "https://localhost:8080/"
        },
        "id": "lG4X8gVl8TGp",
        "outputId": "436545d2-3cd9-404f-f786-6436da2c67b5"
      },
      "source": [
        "# Frase de exemplo1\n",
        "frase1 = \"que dia bonito.\"\n",
        "\n",
        "# Frase de exemplo2\n",
        "frase2 = frase1.capitalize()\n",
        "\n",
        "# Saída dos dados\n",
        "print(frase1)\n",
        "print(frase2)"
      ],
      "execution_count": null,
      "outputs": [
        {
          "output_type": "stream",
          "name": "stdout",
          "text": [
            "que dia bonito.\n",
            "Que dia bonito.\n"
          ]
        }
      ]
    },
    {
      "cell_type": "markdown",
      "metadata": {
        "id": "25qFHSFmG6-w"
      },
      "source": [
        "### Exemplo 14 - Função para tratar literal"
      ]
    },
    {
      "cell_type": "code",
      "metadata": {
        "id": "Wo1V1MfrG9xg"
      },
      "source": [
        "import re\n",
        "\n",
        "def preProcessamento(mensagem):\n",
        "    \"\"\"\n",
        "    Esta função recebe uma string como entrada e, em seguida, executa estas operações:\n",
        "         - converte para minúsculas\n",
        "         - remove URLs\n",
        "         - remove símbolos de ação\n",
        "         - remove pontuação\n",
        "         - remove todos os tokens de um único caractere\n",
        "     Parâmetros\n",
        "     ----------\n",
        "         mensagem: a mensagem de texto a ser pré-processada\n",
        "     Retorno\n",
        "     -------\n",
        "         texto: o texto pré-processado\n",
        "    \"\"\"\n",
        "    # Coloque a mensagem  em letras minúsculas\n",
        "    texto = mensagem.lower()\n",
        "    # Substitui as URLs por um espaço na mensagem\n",
        "    texto = re.sub(\"https?:\\/\\/[a-zA-Z0-9@:%._\\/+~#=?&;-]*\", \" \", texto)    \n",
        "    # Substitui os símbolos de ticker por um espaço. Os símbolos de ticker são qualquer símbolo que comece com $.\n",
        "    texto = re.sub(\"\\$[a-zA-Z0-9]*\", \" \", texto)    \n",
        "    # Substitui os nomes de usuário por um espaço. Os nomes de usuário são qualquer palavra que comece com @.\n",
        "    texto = re.sub(\"\\@[a-zA-Z0-9]*\", \" \", texto)    \n",
        "    # Substitui tudo que não for uma letra ou apóstrofo por um espaço\n",
        "    texto = re.sub(\"[^a-zA-Z\\\"]\", \" \", texto)\n",
        "    # Remove palavras de uma letra\n",
        "    texto = \" \".join( [w for w in texto.split() if len(w)>1] )\n",
        "    \n",
        "    return texto"
      ],
      "execution_count": null,
      "outputs": []
    },
    {
      "cell_type": "code",
      "metadata": {
        "colab": {
          "base_uri": "https://localhost:8080/"
        },
        "id": "EXpQCOz1IbMu",
        "outputId": "a7e7f38f-597b-4742-8de8-5004a4a99ed5"
      },
      "source": [
        "mensagem = \"$Joao bom dia. @Hoje será muito frio. E ai Olhou http://www.google.com.br hoje?\"\n",
        "\n",
        "print(preProcessamento(mensagem))"
      ],
      "execution_count": null,
      "outputs": [
        {
          "output_type": "stream",
          "name": "stdout",
          "text": [
            "bom dia ser muito frio ai olhou hoje\n"
          ]
        }
      ]
    },
    {
      "cell_type": "markdown",
      "metadata": {
        "id": "tnkmUVm4tnJZ"
      },
      "source": [
        "### Exemplo 15 - Conta a ocorrências de palavras em um texto"
      ]
    },
    {
      "cell_type": "code",
      "metadata": {
        "colab": {
          "base_uri": "https://localhost:8080/"
        },
        "id": "OZxbU3q7tnJZ",
        "outputId": "60f1ec82-5096-4084-b6c2-f83ea4a5caad"
      },
      "source": [
        "# Import das bibliotecas\n",
        "from collections import Counter\n",
        "\n",
        "# Texto de exemplo\n",
        "texto = \"Olá, tudo bem? Que dia é hoje ? Que dia bonito. Que céu está limpo hoje.\"\n",
        "\n",
        "# Divide o texto em uma lista de palavras\n",
        "listaPalavras = texto.split(\" \") \n",
        "\n",
        "contador = Counter()\n",
        "for i, palavra in enumerate(listaPalavras):\n",
        "     contador[palavra] += 1\n",
        "\n",
        "# Lista as ocorrências das palavras\n",
        "for i, item in enumerate(sorted(contador, key = contador.get, reverse=True)):\n",
        "    print (i, item, contador[item])     "
      ],
      "execution_count": null,
      "outputs": [
        {
          "output_type": "stream",
          "name": "stdout",
          "text": [
            "0 Que 3\n",
            "1 dia 2\n",
            "2 Olá, 1\n",
            "3 tudo 1\n",
            "4 bem? 1\n",
            "5 é 1\n",
            "6 hoje 1\n",
            "7 ? 1\n",
            "8 bonito. 1\n",
            "9 céu 1\n",
            "10 está 1\n",
            "11 limpo 1\n",
            "12 hoje. 1\n"
          ]
        }
      ]
    },
    {
      "cell_type": "markdown",
      "metadata": {
        "id": "Iy1yctgxJyDp"
      },
      "source": [
        "##Inicialização de variáveis\n",
        "Inicialização de múltiplas variáveis"
      ]
    },
    {
      "cell_type": "code",
      "metadata": {
        "colab": {
          "base_uri": "https://localhost:8080/"
        },
        "id": "4JPdmPAsJ1QA",
        "outputId": "893f07b6-14a2-4bd0-cdc7-7bf2b6cd28e0"
      },
      "source": [
        "# Declaração e inicialização\n",
        "a, b, c, d = 1, 2, 3, 4\n",
        "\n",
        "# Saída dos dados\n",
        "print(a)\n",
        "print(b)\n",
        "print(c)\n",
        "print(d)"
      ],
      "execution_count": null,
      "outputs": [
        {
          "output_type": "stream",
          "name": "stdout",
          "text": [
            "1\n",
            "2\n",
            "3\n",
            "4\n"
          ]
        }
      ]
    },
    {
      "cell_type": "markdown",
      "metadata": {
        "id": "IziPWVaeGlWk"
      },
      "source": [
        "## Trocar conteúdo de variáveis\n",
        "Como trocar o conteúdo das variáveis de a e b e de b para a:\n",
        "\n",
        "\n"
      ]
    },
    {
      "cell_type": "markdown",
      "metadata": {
        "id": "COG413OYyx7D"
      },
      "source": [
        "### Método 1 - com auxiliar\n",
        "Troca de conteúdo de variáveis com variável auxiliar."
      ]
    },
    {
      "cell_type": "code",
      "metadata": {
        "colab": {
          "base_uri": "https://localhost:8080/"
        },
        "id": "_8dfes3tzEfz",
        "outputId": "716f889e-69de-4842-baec-9c0bfef8e99e"
      },
      "source": [
        "# Inicialização das variáveis\n",
        "a = 10\n",
        "b = 30\n",
        "\n",
        "# Processamento\n",
        "aux = a\n",
        "a = b\n",
        "b = aux\n",
        "\n",
        "# Saída dos dados\n",
        "print(\"a = \" + str(a))\n",
        "print(\"b = \" + str(b))"
      ],
      "execution_count": null,
      "outputs": [
        {
          "output_type": "stream",
          "name": "stdout",
          "text": [
            "a = 30\n",
            "b = 10\n"
          ]
        }
      ]
    },
    {
      "cell_type": "markdown",
      "metadata": {
        "id": "zIIhrgdYyrrD"
      },
      "source": [
        "### Método 2 - sem auxiliar\n",
        "Sem o uso de uma variável auxiliar."
      ]
    },
    {
      "cell_type": "code",
      "metadata": {
        "colab": {
          "base_uri": "https://localhost:8080/"
        },
        "id": "BGFVnIzQGrEH",
        "outputId": "9992f0a0-a510-4937-bd48-4d04272e8789"
      },
      "source": [
        "# Inicialização das variáveis\n",
        "a = 10\n",
        "b = 30\n",
        "\n",
        "# Processamento\n",
        "a , b = b , a\n",
        "\n",
        "# Saída dos dados\n",
        "print(\"a = \" + str(a))\n",
        "print(\"b = \" + str(b))"
      ],
      "execution_count": null,
      "outputs": [
        {
          "output_type": "stream",
          "name": "stdout",
          "text": [
            "a = 30\n",
            "b = 10\n"
          ]
        }
      ]
    },
    {
      "cell_type": "markdown",
      "metadata": {
        "id": "Mk7CV_tfTUNl"
      },
      "source": [
        "# Operadores\n",
        "\n",
        "https://www.w3schools.com/python/python_operators.asp"
      ]
    },
    {
      "cell_type": "markdown",
      "metadata": {
        "id": "OjtxtOC4TY_p"
      },
      "source": [
        "## Operadores aritméticos \n",
        "\n",
        "(+, -, *, /, %, **, +=, -=, *=, /=, %=, **=):"
      ]
    },
    {
      "cell_type": "code",
      "metadata": {
        "colab": {
          "base_uri": "https://localhost:8080/"
        },
        "id": "oNC6OhoETVeF",
        "outputId": "b59971c3-a4d4-4890-ba84-0e60a96b2a1a"
      },
      "source": [
        "a = 2\n",
        "b = 1\n",
        "\n",
        "# Saída dos dados\n",
        "print (\"soma =\",a + b)\n",
        "print (\"subtração =\",a - b)\n",
        "print (\"produto =\",a * b)\n",
        "print (\"divisão =\",a / b)"
      ],
      "execution_count": null,
      "outputs": [
        {
          "output_type": "stream",
          "name": "stdout",
          "text": [
            "soma = 3\n",
            "subtração = 1\n",
            "produto = 2\n",
            "divisão = 2.0\n"
          ]
        }
      ]
    },
    {
      "cell_type": "markdown",
      "metadata": {
        "id": "a2hZUv2KkSK-"
      },
      "source": [
        "Exponencial (**)"
      ]
    },
    {
      "cell_type": "code",
      "metadata": {
        "colab": {
          "base_uri": "https://localhost:8080/"
        },
        "id": "LfdgCJQ3kVqP",
        "outputId": "c2b843d5-0f17-4cb8-e5e9-a04144afb5ed"
      },
      "source": [
        "a = 4\n",
        "\n",
        "# Saída dos dados\n",
        "print (a**2)"
      ],
      "execution_count": null,
      "outputs": [
        {
          "output_type": "stream",
          "name": "stdout",
          "text": [
            "16\n"
          ]
        }
      ]
    },
    {
      "cell_type": "markdown",
      "metadata": {
        "id": "3yGXUsyNj_OD"
      },
      "source": [
        "Divisão inteira (//)"
      ]
    },
    {
      "cell_type": "code",
      "metadata": {
        "colab": {
          "base_uri": "https://localhost:8080/"
        },
        "id": "DiixULgakAh5",
        "outputId": "245caddc-9404-487f-831a-af57e731ad7f"
      },
      "source": [
        "a = 5\n",
        "b = 2\n",
        "\n",
        "# Mostra o resultado da divisão sem a parte fracioná(somente a parte inteira)\n",
        "print (5 // 2)\n",
        "\n",
        "# Mostra o resultado da divisão com a parte fracionária\n",
        "print (5 / 2)"
      ],
      "execution_count": null,
      "outputs": [
        {
          "output_type": "stream",
          "name": "stdout",
          "text": [
            "2\n",
            "2.5\n"
          ]
        }
      ]
    },
    {
      "cell_type": "markdown",
      "metadata": {
        "id": "f96rzB9akKO5"
      },
      "source": [
        "Resto divisão (%)"
      ]
    },
    {
      "cell_type": "code",
      "metadata": {
        "colab": {
          "base_uri": "https://localhost:8080/"
        },
        "id": "Jzv_-awikMT6",
        "outputId": "b2543d3e-11d7-4483-f8f3-a5bc2455fb38"
      },
      "source": [
        "a = 5\n",
        "b = 2\n",
        "\n",
        "# Resto da divisão\n",
        "print (5 % 2)\n",
        "\n",
        "# Mostra a parte inteira\n",
        "print (5 // 2)"
      ],
      "execution_count": null,
      "outputs": [
        {
          "output_type": "stream",
          "name": "stdout",
          "text": [
            "1\n",
            "2\n"
          ]
        }
      ]
    },
    {
      "cell_type": "markdown",
      "metadata": {
        "id": "c3W0MGc5kbse"
      },
      "source": [
        "Raiz quadrada (** 0.5)"
      ]
    },
    {
      "cell_type": "code",
      "metadata": {
        "colab": {
          "base_uri": "https://localhost:8080/"
        },
        "id": "f_GjzLUMkeL5",
        "outputId": "9c211f1c-369b-4d12-ecc3-8013a6c9a71f"
      },
      "source": [
        "a = 4\n",
        "\n",
        "# Calcula a raiz quadrada a**1/2\n",
        "raiz = a ** 0.5\n",
        "\n",
        "print(raiz)"
      ],
      "execution_count": null,
      "outputs": [
        {
          "output_type": "stream",
          "name": "stdout",
          "text": [
            "2.0\n"
          ]
        }
      ]
    },
    {
      "cell_type": "markdown",
      "metadata": {
        "id": "CSF3xkW7kjEb"
      },
      "source": [
        "Raiz quadrada (math)"
      ]
    },
    {
      "cell_type": "code",
      "metadata": {
        "colab": {
          "base_uri": "https://localhost:8080/"
        },
        "id": "IGnLGs5ikfih",
        "outputId": "869f9c4b-ddc8-42ec-e6ac-0f98fa98604f"
      },
      "source": [
        "import math\n",
        "\n",
        "math.sqrt(16)"
      ],
      "execution_count": null,
      "outputs": [
        {
          "output_type": "execute_result",
          "data": {
            "text/plain": [
              "4.0"
            ]
          },
          "metadata": {},
          "execution_count": 31
        }
      ]
    },
    {
      "cell_type": "markdown",
      "metadata": {
        "id": "MjWlQ17XknYn"
      },
      "source": [
        "PI"
      ]
    },
    {
      "cell_type": "code",
      "metadata": {
        "colab": {
          "base_uri": "https://localhost:8080/"
        },
        "id": "1UVhfcJEkngl",
        "outputId": "1f18a56a-e044-4336-c80a-7d6034c7304a"
      },
      "source": [
        "import math\n",
        "\n",
        "print(math.pi)"
      ],
      "execution_count": null,
      "outputs": [
        {
          "output_type": "stream",
          "name": "stdout",
          "text": [
            "3.141592653589793\n"
          ]
        }
      ]
    },
    {
      "cell_type": "markdown",
      "metadata": {
        "id": "XbXT5yfSTo6y"
      },
      "source": [
        "Operadores de comparação (>, <, ==, >=, <=, <>, !=, is, in):"
      ]
    },
    {
      "cell_type": "code",
      "metadata": {
        "colab": {
          "base_uri": "https://localhost:8080/"
        },
        "id": "9ftYsWQZTsPV",
        "outputId": "337f0d43-7e85-40a1-f0d0-1528c02457b3"
      },
      "source": [
        "a = 1\n",
        "b = 2\n",
        "\n",
        "print(a == b)\n",
        "\n",
        "print (a < b)"
      ],
      "execution_count": null,
      "outputs": [
        {
          "output_type": "stream",
          "name": "stdout",
          "text": [
            "False\n",
            "True\n"
          ]
        }
      ]
    },
    {
      "cell_type": "markdown",
      "metadata": {
        "id": "QftIogc_hPxX"
      },
      "source": [
        "##Operadores lógicos\n",
        "\n",
        "and, or, not, !="
      ]
    },
    {
      "cell_type": "code",
      "metadata": {
        "colab": {
          "base_uri": "https://localhost:8080/"
        },
        "id": "i8rxndpvhl-n",
        "outputId": "180c86e3-6d0f-4998-d07b-4f70b93169cd"
      },
      "source": [
        "# Valores iniciais\n",
        "a = True\n",
        "b = False\n",
        "\n",
        "print(a and b) # Lógico AND;\n",
        "print(a or b)  # Lógico  OR;\n",
        "print(not a)   # Lógico  NOT;\n",
        "print(a != b)  # Lógico  XOR;"
      ],
      "execution_count": null,
      "outputs": [
        {
          "output_type": "stream",
          "name": "stdout",
          "text": [
            "False\n",
            "True\n",
            "False\n",
            "True\n"
          ]
        }
      ]
    },
    {
      "cell_type": "markdown",
      "metadata": {
        "id": "RdVoeqUmhVRt"
      },
      "source": [
        "##Operadores de identidade\n",
        "\n",
        "is, is not"
      ]
    },
    {
      "cell_type": "code",
      "metadata": {
        "colab": {
          "base_uri": "https://localhost:8080/"
        },
        "id": "PaEUz9T5jxoI",
        "outputId": "e276c81a-df06-4374-b68c-c0f76930ef67"
      },
      "source": [
        "# Valores iniciais\n",
        "a = True\n",
        "b = False\n",
        "\n",
        "print(a is b) # Identidade é;\n",
        "print(a is not b)  # Identidade não é"
      ],
      "execution_count": null,
      "outputs": [
        {
          "output_type": "stream",
          "name": "stdout",
          "text": [
            "False\n",
            "True\n"
          ]
        }
      ]
    },
    {
      "cell_type": "markdown",
      "metadata": {
        "id": "fkioKBU4hab0"
      },
      "source": [
        "##Operadores de conjunto\n",
        "in, not in"
      ]
    },
    {
      "cell_type": "code",
      "metadata": {
        "colab": {
          "base_uri": "https://localhost:8080/"
        },
        "id": "PBHH1iXtj7-P",
        "outputId": "4414e1e9-5e97-4136-ef77-99a185f1a9af"
      },
      "source": [
        "# Conjunto\n",
        "a = {1, 2, 3, 4}\n",
        "\n",
        "print(1 in a)     # Pertençe ao conjunto;\n",
        "print(1 not in a) # Não pertençe ao conjunto;"
      ],
      "execution_count": null,
      "outputs": [
        {
          "output_type": "stream",
          "name": "stdout",
          "text": [
            "True\n",
            "False\n"
          ]
        }
      ]
    },
    {
      "cell_type": "markdown",
      "metadata": {
        "id": "FbL31jLo7wnx"
      },
      "source": [
        "# Funções matemáticas\n",
        "\n",
        "Exemplo de uso de divesas funções matemáticas"
      ]
    },
    {
      "cell_type": "markdown",
      "metadata": {
        "id": "I3KG2LnL7cqt"
      },
      "source": [
        "Valor absoluto\n"
      ]
    },
    {
      "cell_type": "code",
      "metadata": {
        "colab": {
          "base_uri": "https://localhost:8080/"
        },
        "id": "z5sPo0sA7cBj",
        "outputId": "39026941-ac8e-49f9-d7f9-714b4439f9b6"
      },
      "source": [
        "# abs retorna o valor absoluto\n",
        "absoluto = abs(-8)\n",
        "\n",
        "print(absoluto)"
      ],
      "execution_count": null,
      "outputs": [
        {
          "output_type": "stream",
          "name": "stdout",
          "text": [
            "8\n"
          ]
        }
      ]
    },
    {
      "cell_type": "markdown",
      "metadata": {
        "id": "gnipxdw_71Ji"
      },
      "source": [
        "Potência de x elevado a y\n",
        "pow(2, 8)"
      ]
    },
    {
      "cell_type": "code",
      "metadata": {
        "colab": {
          "base_uri": "https://localhost:8080/"
        },
        "id": "XnSHVL9r71wE",
        "outputId": "154e948c-7e64-44e7-94f2-d7813f213a81"
      },
      "source": [
        "# pow(x, y) retorna a potência de x elevado a y\n",
        "resultado = pow(2, 8)\n",
        "\n",
        "print(resultado)"
      ],
      "execution_count": null,
      "outputs": [
        {
          "output_type": "stream",
          "name": "stdout",
          "text": [
            "256\n"
          ]
        }
      ]
    },
    {
      "cell_type": "markdown",
      "metadata": {
        "id": "S9SlXX-67_TQ"
      },
      "source": [
        "Arredondamento"
      ]
    },
    {
      "cell_type": "code",
      "metadata": {
        "colab": {
          "base_uri": "https://localhost:8080/"
        },
        "id": "OSJeLNTK8A_8",
        "outputId": "7d133bbf-0823-4582-f721-7e2c51c1103c"
      },
      "source": [
        "# Arredondamento\n",
        "arredondado = round(3.1415926)\n",
        "\n",
        "print(arredondado)\n",
        "\n",
        "# Arredondamento com duas casas decimais\n",
        "arredondado = round(1.61834, 2)\n",
        "\n",
        "print(arredondado)"
      ],
      "execution_count": null,
      "outputs": [
        {
          "output_type": "stream",
          "name": "stdout",
          "text": [
            "3\n",
            "1.62\n"
          ]
        }
      ]
    },
    {
      "cell_type": "markdown",
      "metadata": {
        "id": "WMrGz_ISArGm"
      },
      "source": [
        "# Saída de Dados\n",
        "\n",
        "https://pyformat.info/"
      ]
    },
    {
      "cell_type": "markdown",
      "metadata": {
        "id": "wJzRhIckA0zY"
      },
      "source": [
        "## Número inteiro(d)"
      ]
    },
    {
      "cell_type": "code",
      "metadata": {
        "colab": {
          "base_uri": "https://localhost:8080/"
        },
        "id": "jeQYdc3fAzq3",
        "outputId": "e67d5b41-bbd0-4d52-bc36-6e574f155cc4"
      },
      "source": [
        "print(\"Idade :{:d}\".format(42))"
      ],
      "execution_count": null,
      "outputs": [
        {
          "output_type": "stream",
          "name": "stdout",
          "text": [
            "Idade :42\n"
          ]
        }
      ]
    },
    {
      "cell_type": "markdown",
      "metadata": {
        "id": "Nf_5teSZBFhR"
      },
      "source": [
        "## Número real(f)"
      ]
    },
    {
      "cell_type": "code",
      "metadata": {
        "colab": {
          "base_uri": "https://localhost:8080/"
        },
        "id": "ohLRXeXYBFhU",
        "outputId": "816e0e38-f416-4a1f-f11f-a8f75f8613fb"
      },
      "source": [
        "print(\"Pi :{:f}\".format(3.1415926))"
      ],
      "execution_count": null,
      "outputs": [
        {
          "output_type": "stream",
          "name": "stdout",
          "text": [
            "Pi :3.141593\n"
          ]
        }
      ]
    },
    {
      "cell_type": "markdown",
      "metadata": {
        "id": "raBzE7WjBV9r"
      },
      "source": [
        "## Preenchimento número inteiro"
      ]
    },
    {
      "cell_type": "code",
      "metadata": {
        "colab": {
          "base_uri": "https://localhost:8080/"
        },
        "id": "Aep1FJA5BWH8",
        "outputId": "5105ec14-f4a7-444e-ada9-c3e9d5019ef9"
      },
      "source": [
        "# Reserva espaço para 4 dígitos e preenche com \" \"\n",
        "print(\"Idade 1:{:4d}\".format(42))\n",
        "# Reserva espaço para 4 dígitos e preenche com  0\n",
        "print(\"Idade 2:{:04d}\".format(4))"
      ],
      "execution_count": null,
      "outputs": [
        {
          "output_type": "stream",
          "name": "stdout",
          "text": [
            "Idade 1:  42\n",
            "Idade 2:0004\n"
          ]
        }
      ]
    },
    {
      "cell_type": "markdown",
      "metadata": {
        "id": "O5RQsiM-Bs37"
      },
      "source": [
        "### Preenchimento número real"
      ]
    },
    {
      "cell_type": "code",
      "metadata": {
        "colab": {
          "base_uri": "https://localhost:8080/"
        },
        "id": "r3ymyTboBs3-",
        "outputId": "f9ffcb92-0ee6-4f1a-de1a-5a61c8dfdb84"
      },
      "source": [
        "# Reserva espaço para 8 dígitos se 2 para a parte decimal preenche com \" \"\n",
        "print(\"Pi 1:{:8.2f}\".format(3.1415926))\n",
        "# Reserva espaço para 6 dígitos se 2 para a parte decimal preenche com \"0\"\n",
        "print(\"Pi 2:{:06.2f}\".format(3.1415926))"
      ],
      "execution_count": null,
      "outputs": [
        {
          "output_type": "stream",
          "name": "stdout",
          "text": [
            "Pi 1:    3.14\n",
            "Pi 2:003.14\n"
          ]
        }
      ]
    },
    {
      "cell_type": "markdown",
      "metadata": {
        "id": "jAOEYrGxKAxp"
      },
      "source": [
        "#Estruturas Condicionais\n",
        "\n",
        "Estrutura se:\n",
        "* if \\<condição\\>:\n",
        "* if \\<condição\\>: else:\n",
        "* if \\<condição1\\>: elif <condição>: else:\n"
      ]
    },
    {
      "cell_type": "markdown",
      "metadata": {
        "id": "dJSVrlVM4WH8"
      },
      "source": [
        "###Exemplo if / se"
      ]
    },
    {
      "cell_type": "markdown",
      "metadata": {
        "id": "sR5sP9TJjYW2"
      },
      "source": []
    },
    {
      "cell_type": "code",
      "metadata": {
        "colab": {
          "base_uri": "https://localhost:8080/"
        },
        "id": "PL68HgJe4WH9",
        "outputId": "443bf8ba-917f-49e2-cd65-85f7bdf6d9c1"
      },
      "source": [
        "x = 10\n",
        "\n",
        "if (x == 10):\n",
        "   print(\"Número é igual a 10\")"
      ],
      "execution_count": null,
      "outputs": [
        {
          "output_type": "stream",
          "name": "stdout",
          "text": [
            "Número é igual a 10\n"
          ]
        }
      ]
    },
    {
      "cell_type": "markdown",
      "metadata": {
        "id": "J9xDSQK81lbL"
      },
      "source": [
        "###Exemplo if else / se  senão"
      ]
    },
    {
      "cell_type": "code",
      "metadata": {
        "colab": {
          "base_uri": "https://localhost:8080/"
        },
        "id": "f8CbTprj1k9u",
        "outputId": "def3e7e1-d25f-44b7-cc68-83a162a5928a"
      },
      "source": [
        "x = 10\n",
        "\n",
        "if (x%2 == 0):\n",
        "   print(\"Número é par\")\n",
        "else:\n",
        "   print(\"Número é impar\")\n"
      ],
      "execution_count": null,
      "outputs": [
        {
          "output_type": "stream",
          "name": "stdout",
          "text": [
            "Número é par\n"
          ]
        }
      ]
    },
    {
      "cell_type": "markdown",
      "metadata": {
        "id": "akRvIWEY17SD"
      },
      "source": [
        "###Exemplo if elif else / se senãose senão"
      ]
    },
    {
      "cell_type": "code",
      "metadata": {
        "colab": {
          "base_uri": "https://localhost:8080/"
        },
        "id": "OsAUTZWu17SG",
        "outputId": "a37a6330-4cab-45e4-d300-b4040ff5f31a"
      },
      "source": [
        "x = 1\n",
        "\n",
        "if (x == 1):\n",
        "   print(\"Número é um\")\n",
        "elif (x == 2):\n",
        "   print(\"Número é dois\")\n",
        "elif (x == 3):\n",
        "     print(\"Número é três\")   \n",
        "else:\n",
        "     print(\"Não é nenhum dos três\")"
      ],
      "execution_count": null,
      "outputs": [
        {
          "output_type": "stream",
          "name": "stdout",
          "text": [
            "Número é um\n"
          ]
        }
      ]
    },
    {
      "cell_type": "markdown",
      "metadata": {
        "id": "qekx79Xk24nr"
      },
      "source": [
        "###Operador ternário"
      ]
    },
    {
      "cell_type": "code",
      "metadata": {
        "colab": {
          "base_uri": "https://localhost:8080/"
        },
        "id": "3ae3gjXe26WL",
        "outputId": "7755883b-e0bc-46e1-92c3-880efbf9b229"
      },
      "source": [
        "x = 10\n",
        "\n",
        "saida =  \"Número é par\" if x % 2 == 0 else \"Número é ímpar\"\n",
        "\n",
        "print(saida)"
      ],
      "execution_count": null,
      "outputs": [
        {
          "output_type": "stream",
          "name": "stdout",
          "text": [
            "Número é par\n"
          ]
        }
      ]
    },
    {
      "cell_type": "markdown",
      "metadata": {
        "id": "UWtJh5RTKHMl"
      },
      "source": [
        "###Exemplo 1\n",
        "https://leportella.com/pt-br/2018/05/07/pytricks-I.html"
      ]
    },
    {
      "cell_type": "code",
      "metadata": {
        "colab": {
          "base_uri": "https://localhost:8080/"
        },
        "id": "hyvgRNAiKGJ5",
        "outputId": "d164daa0-6772-4075-dc97-3e78f30edea8"
      },
      "source": [
        "# Declaração e inicialização de diversas variáveis\n",
        "a, b, c, d = 1, 2, 3, 4\n",
        "\n",
        "if a == 1 and b == 2 and c == 3 and d == 4:\n",
        "    print(\"Tudo verdadeiro!\")"
      ],
      "execution_count": null,
      "outputs": [
        {
          "output_type": "stream",
          "name": "stdout",
          "text": [
            "Tudo verdadeiro!\n"
          ]
        }
      ]
    },
    {
      "cell_type": "markdown",
      "metadata": {
        "id": "6PRgsXBcKMIU"
      },
      "source": [
        "### Exemplo 2"
      ]
    },
    {
      "cell_type": "code",
      "metadata": {
        "colab": {
          "base_uri": "https://localhost:8080/"
        },
        "id": "PAXDOHY9KNpJ",
        "outputId": "afb662ba-1854-4396-95ad-6130d6b1939d"
      },
      "source": [
        "# Declaração\n",
        "condicoes = [a==1, b==2, c==3, d==4]\n",
        "\n",
        "if all(condicoes):\n",
        "    print(\"Tudo verdadeiro!\")"
      ],
      "execution_count": null,
      "outputs": [
        {
          "output_type": "stream",
          "name": "stdout",
          "text": [
            "Tudo verdadeiro!\n"
          ]
        }
      ]
    },
    {
      "cell_type": "markdown",
      "metadata": {
        "id": "ZKW07-qtN9Bi"
      },
      "source": [
        "### Exemplo 3 - Verificar o tipo de uma variável\n",
        "\n",
        "A função `type` retorna o tipo da variável e `is` compara com o tipo."
      ]
    },
    {
      "cell_type": "code",
      "metadata": {
        "colab": {
          "base_uri": "https://localhost:8080/"
        },
        "id": "GydSAt1DN9Bm",
        "outputId": "41c1ff25-5bde-4544-98a6-d063d64e76ca"
      },
      "source": [
        "# Declaração\n",
        "a = 10\n",
        "\n",
        "# Mostra o retorno\n",
        "print(type(a))\n",
        "\n",
        "# Mostra o nome\n",
        "print(type(a).__name__)\n",
        "\n",
        "# Avalia um tipo\n",
        "if type(a) is int:\n",
        "    print(\"É um inteiro!\")\n",
        "else:\n",
        "    print(\"Não é um inteiro\")"
      ],
      "execution_count": null,
      "outputs": [
        {
          "output_type": "stream",
          "name": "stdout",
          "text": [
            "<class 'int'>\n",
            "int\n",
            "É um inteiro!\n"
          ]
        }
      ]
    },
    {
      "cell_type": "markdown",
      "metadata": {
        "id": "btM8ZZeHOWpm"
      },
      "source": [
        "### Exemplo 4 - Verificar o tipo de uma variável\n",
        "\n",
        "A função `isinstance` retorna o tipo da variável e `is` compara com o tipo ou um conjunto de tipos."
      ]
    },
    {
      "cell_type": "code",
      "metadata": {
        "colab": {
          "base_uri": "https://localhost:8080/"
        },
        "id": "zeFnNlJfOWpn",
        "outputId": "34005019-6e55-45ac-daad-ee84864d8713"
      },
      "source": [
        "# Declaração\n",
        "a = 10\n",
        "\n",
        "# Mostra o retorno\n",
        "print(isinstance(a, int))\n",
        "\n",
        "# Avalia um tipo\n",
        "if isinstance(a, int):\n",
        "    print(\"É um inteiro!\")\n",
        "else:\n",
        "    print(\"Não é um inteiro\")\n",
        "\n",
        "# Avalia diversos tipos\n",
        "if isinstance(a, (int, float)):\n",
        "    print(\"É um inteiro!\")\n",
        "else:\n",
        "    print(\"Não é um inteiro\")    "
      ],
      "execution_count": null,
      "outputs": [
        {
          "output_type": "stream",
          "name": "stdout",
          "text": [
            "True\n",
            "É um inteiro!\n",
            "É um inteiro!\n"
          ]
        }
      ]
    },
    {
      "cell_type": "markdown",
      "metadata": {
        "id": "Fsm7trhrLjXr"
      },
      "source": [
        "#Estruturas de Repetição"
      ]
    },
    {
      "cell_type": "markdown",
      "metadata": {
        "id": "_nCWw-mF6Ypf"
      },
      "source": [
        "###Exemplo while / enquanto"
      ]
    },
    {
      "cell_type": "code",
      "metadata": {
        "colab": {
          "base_uri": "https://localhost:8080/"
        },
        "id": "YuLuxlb_6Ypg",
        "outputId": "d7beb7ab-2175-45e8-b5c7-cb1dfa0f4a99"
      },
      "source": [
        "x = 1\n",
        "while (x < 10):\n",
        "    print(x)\n",
        "    x = x + 1"
      ],
      "execution_count": null,
      "outputs": [
        {
          "output_type": "stream",
          "name": "stdout",
          "text": [
            "1\n",
            "2\n",
            "3\n",
            "4\n",
            "5\n",
            "6\n",
            "7\n",
            "8\n",
            "9\n"
          ]
        }
      ]
    },
    {
      "cell_type": "markdown",
      "metadata": {
        "id": "OZZwXfkz6Pxn"
      },
      "source": [
        "### Exemplo for / para"
      ]
    },
    {
      "cell_type": "code",
      "metadata": {
        "colab": {
          "base_uri": "https://localhost:8080/"
        },
        "id": "huXSTwS-6TZG",
        "outputId": "37f47b48-ebd0-4641-9637-4e9dfcfd3768"
      },
      "source": [
        "for x in range(1,10):\n",
        "  print(x)"
      ],
      "execution_count": null,
      "outputs": [
        {
          "output_type": "stream",
          "name": "stdout",
          "text": [
            "1\n",
            "2\n",
            "3\n",
            "4\n",
            "5\n",
            "6\n",
            "7\n",
            "8\n",
            "9\n"
          ]
        }
      ]
    },
    {
      "cell_type": "markdown",
      "metadata": {
        "id": "doYOc7FFTn9u"
      },
      "source": [
        "### Exemplo for aninhado"
      ]
    },
    {
      "cell_type": "code",
      "metadata": {
        "colab": {
          "base_uri": "https://localhost:8080/"
        },
        "id": "ASZeAaoKToI_",
        "outputId": "32b7b284-22ed-45a0-cb48-0e2553e3dc59"
      },
      "source": [
        "# Primeiro for\n",
        "for i in range(10):\n",
        "    # Segundo for\n",
        "    for j in range(i):\n",
        "        print (i, end=\" \")\n",
        "    print()"
      ],
      "execution_count": null,
      "outputs": [
        {
          "output_type": "stream",
          "name": "stdout",
          "text": [
            "\n",
            "1 \n",
            "2 2 \n",
            "3 3 3 \n",
            "4 4 4 4 \n",
            "5 5 5 5 5 \n",
            "6 6 6 6 6 6 \n",
            "7 7 7 7 7 7 7 \n",
            "8 8 8 8 8 8 8 8 \n",
            "9 9 9 9 9 9 9 9 9 \n"
          ]
        }
      ]
    },
    {
      "cell_type": "markdown",
      "metadata": {
        "id": "nNVK4NjtjOn6"
      },
      "source": [
        "###Exemplo for / para List Comprehension com condicional"
      ]
    },
    {
      "cell_type": "markdown",
      "metadata": {
        "id": "DrxUdhjhj6Je"
      },
      "source": [
        "Lista sem comprehension\n",
        "\n",
        "Ao programar, frequentemente queremos transformar um tipo de dado em outro. Como um exemplo simples, considere o seguinte código que localiza os nomes pares."
      ]
    },
    {
      "cell_type": "code",
      "metadata": {
        "colab": {
          "base_uri": "https://localhost:8080/"
        },
        "id": "bvZyOfo1jOn6",
        "outputId": "14c0ffcf-ae2e-463a-8283-c020d85b1c15"
      },
      "source": [
        "for x in range(1,10):\n",
        "  if x%2==0:\n",
        "    print(x)"
      ],
      "execution_count": null,
      "outputs": [
        {
          "output_type": "stream",
          "name": "stdout",
          "text": [
            "2\n",
            "4\n",
            "6\n",
            "8\n"
          ]
        }
      ]
    },
    {
      "cell_type": "markdown",
      "metadata": {
        "id": "RCvDddIPj-fN"
      },
      "source": [
        "Lista com comprehension\n",
        "\n"
      ]
    },
    {
      "cell_type": "code",
      "metadata": {
        "colab": {
          "base_uri": "https://localhost:8080/"
        },
        "id": "Avk4ccAujm5l",
        "outputId": "2e49da8a-01bf-4e0b-88fd-e8d087b39f51"
      },
      "source": [
        "numerosPares = [x for x in range(1,10) if x%2==0]\n",
        "print(numerosPares)"
      ],
      "execution_count": null,
      "outputs": [
        {
          "output_type": "stream",
          "name": "stdout",
          "text": [
            "[2, 4, 6, 8]\n"
          ]
        }
      ]
    },
    {
      "cell_type": "markdown",
      "metadata": {
        "id": "zhAeH6TJLp-5"
      },
      "source": [
        "##For com else (lista vazia)\n",
        "\n",
        "Quando a lista está vazia entra no else."
      ]
    },
    {
      "cell_type": "code",
      "metadata": {
        "colab": {
          "base_uri": "https://localhost:8080/"
        },
        "id": "KM1Iv5ioLrqm",
        "outputId": "15cb6a28-fa28-4564-82b1-5a3a49c4898c"
      },
      "source": [
        "lista = []\n",
        "\n",
        "for x in lista:\n",
        "    print(\"dentro do loop\")\n",
        "else:\n",
        "    print(\"dentro do else\")"
      ],
      "execution_count": null,
      "outputs": [
        {
          "output_type": "stream",
          "name": "stdout",
          "text": [
            "dentro do else\n"
          ]
        }
      ]
    },
    {
      "cell_type": "markdown",
      "metadata": {
        "id": "zF2nR0vHLwXk"
      },
      "source": [
        "##For com else (lista cheia)"
      ]
    },
    {
      "cell_type": "code",
      "metadata": {
        "colab": {
          "base_uri": "https://localhost:8080/"
        },
        "id": "GD_lwF1tL3ne",
        "outputId": "d3a89afb-dc82-4e54-e21f-8795c355be03"
      },
      "source": [
        "lista = [1, 2]\n",
        "\n",
        "for x in lista:\n",
        "    print(\"dentro do loop\")\n",
        "else:\n",
        "    print(\"dentro do else\")"
      ],
      "execution_count": null,
      "outputs": [
        {
          "output_type": "stream",
          "name": "stdout",
          "text": [
            "dentro do loop\n",
            "dentro do loop\n",
            "dentro do else\n"
          ]
        }
      ]
    },
    {
      "cell_type": "markdown",
      "metadata": {
        "id": "SNxml-n9wYvX"
      },
      "source": [
        "# Tratamento de mensagens"
      ]
    },
    {
      "cell_type": "code",
      "metadata": {
        "colab": {
          "base_uri": "https://localhost:8080/"
        },
        "id": "uP3uiJ4bwbEO",
        "outputId": "84ecc22a-22fa-49ca-aa3f-a74fbd4f01bd"
      },
      "source": [
        "# Biblioteca de logging\n",
        "import logging\n",
        "\n",
        "# Formata a mensagem de login\n",
        "logging.basicConfig(format=\"%(asctime)s : %(levelname)s : %(message)s\", level=logging.INFO)\n",
        "\n",
        "#uso da mensagem sem parâmetro\n",
        "logging.info(\"Função criada!\")\n",
        "\n",
        "#uso da mensagem com parâmetro\n",
        "logging.info(\"Arquivo {0} baixado\".format(\"teste.txt\"))"
      ],
      "execution_count": null,
      "outputs": [
        {
          "output_type": "stream",
          "name": "stderr",
          "text": [
            "2021-12-16 08:58:26,816 : INFO : Função criada!\n",
            "2021-12-16 08:58:26,820 : INFO : Arquivo teste.txt baixado\n"
          ]
        }
      ]
    },
    {
      "cell_type": "markdown",
      "metadata": {
        "id": "ph1Lv7dFpUpm"
      },
      "source": [
        "#Comandos Bash\n",
        "\n",
        "Para executar uma linha de comando basta adicionar o caracter **\"!\"**(ponto de exclamação) no início. \n",
        "Como por exemplo \"!ls\", \"!pwd\" ou \"!echo\".\n",
        "\n",
        "Entretanto, ao usar o caracter **\"!\"**, a linha de comando é executada em uma sessão de terminal temporária. Alguns comandos como a navegação nos diretórios com o comando \"cd\" não surgem efeito se usados apenas localmente. Para esta situação devemos usar o caracter \"%\" no início com \"%cd\".\n",
        "\n",
        "Considere o sistema operacional onde será executado o comando."
      ]
    },
    {
      "cell_type": "markdown",
      "metadata": {
        "id": "fi1PA_yqrTbj"
      },
      "source": [
        "Jupyter inclue atralhos para as operações mais comuns, como os ls:"
      ]
    },
    {
      "cell_type": "code",
      "metadata": {
        "colab": {
          "base_uri": "https://localhost:8080/"
        },
        "id": "ob15HRD4raDj",
        "outputId": "e38c31a3-7266-48db-83b2-115d8c33d6a2"
      },
      "source": [
        "!ls /bin"
      ],
      "execution_count": null,
      "outputs": [
        {
          "output_type": "stream",
          "name": "stdout",
          "text": [
            "bash\t       hostname       su\n",
            "bunzip2        journalctl     sync\n",
            "bzcat\t       kill\t      systemctl\n",
            "bzcmp\t       kmod\t      systemd\n",
            "bzdiff\t       less\t      systemd-ask-password\n",
            "bzegrep        lessecho       systemd-escape\n",
            "bzexe\t       lessfile       systemd-hwdb\n",
            "bzfgrep        lesskey\t      systemd-inhibit\n",
            "bzgrep\t       lesspipe       systemd-machine-id-setup\n",
            "bzip2\t       ln\t      systemd-notify\n",
            "bzip2recover   login\t      systemd-sysusers\n",
            "bzless\t       loginctl       systemd-tmpfiles\n",
            "bzmore\t       ls\t      systemd-tty-ask-password-agent\n",
            "cat\t       lsblk\t      tar\n",
            "chgrp\t       lsmod\t      tempfile\n",
            "chmod\t       mkdir\t      touch\n",
            "chown\t       mknod\t      true\n",
            "cp\t       mktemp\t      udevadm\n",
            "dash\t       more\t      ulockmgr_server\n",
            "date\t       mount\t      umount\n",
            "dd\t       mountpoint     uname\n",
            "df\t       mv\t      uncompress\n",
            "dir\t       networkctl     vdir\n",
            "dmesg\t       nisdomainname  wdctl\n",
            "dnsdomainname  pidof\t      which\n",
            "domainname     ps\t      ypdomainname\n",
            "echo\t       pwd\t      zcat\n",
            "egrep\t       rbash\t      zcmp\n",
            "false\t       readlink       zdiff\n",
            "fgrep\t       rm\t      zegrep\n",
            "findmnt        rmdir\t      zfgrep\n",
            "fuser\t       run-parts      zforce\n",
            "fusermount     sed\t      zgrep\n",
            "grep\t       sh\t      zless\n",
            "gunzip\t       sh.distrib     zmore\n",
            "gzexe\t       sleep\t      znew\n",
            "gzip\t       stty\n"
          ]
        }
      ]
    },
    {
      "cell_type": "markdown",
      "metadata": {
        "id": "mtN0U84-vIwj"
      },
      "source": [
        "## Informações da máquina\n",
        "https://medium.com/@italojs/gpu-tpu-de-gra%C3%A7a-na-web-onde-como-e511780294c7"
      ]
    },
    {
      "cell_type": "markdown",
      "metadata": {
        "id": "_pq3FkFR3O6X"
      },
      "source": [
        "Dados da CPU"
      ]
    },
    {
      "cell_type": "code",
      "metadata": {
        "colab": {
          "base_uri": "https://localhost:8080/"
        },
        "id": "AEWISUG_3Rdr",
        "outputId": "55a1db08-3959-4082-8771-695ff675858f"
      },
      "source": [
        "!lscpu"
      ],
      "execution_count": null,
      "outputs": [
        {
          "output_type": "stream",
          "name": "stdout",
          "text": [
            "Architecture:        x86_64\n",
            "CPU op-mode(s):      32-bit, 64-bit\n",
            "Byte Order:          Little Endian\n",
            "CPU(s):              2\n",
            "On-line CPU(s) list: 0,1\n",
            "Thread(s) per core:  2\n",
            "Core(s) per socket:  1\n",
            "Socket(s):           1\n",
            "NUMA node(s):        1\n",
            "Vendor ID:           GenuineIntel\n",
            "CPU family:          6\n",
            "Model:               79\n",
            "Model name:          Intel(R) Xeon(R) CPU @ 2.20GHz\n",
            "Stepping:            0\n",
            "CPU MHz:             2200.156\n",
            "BogoMIPS:            4400.31\n",
            "Hypervisor vendor:   KVM\n",
            "Virtualization type: full\n",
            "L1d cache:           32K\n",
            "L1i cache:           32K\n",
            "L2 cache:            256K\n",
            "L3 cache:            56320K\n",
            "NUMA node0 CPU(s):   0,1\n",
            "Flags:               fpu vme de pse tsc msr pae mce cx8 apic sep mtrr pge mca cmov pat pse36 clflush mmx fxsr sse sse2 ss ht syscall nx pdpe1gb rdtscp lm constant_tsc rep_good nopl xtopology nonstop_tsc cpuid tsc_known_freq pni pclmulqdq ssse3 fma cx16 pcid sse4_1 sse4_2 x2apic movbe popcnt aes xsave avx f16c rdrand hypervisor lahf_lm abm 3dnowprefetch invpcid_single ssbd ibrs ibpb stibp fsgsbase tsc_adjust bmi1 hle avx2 smep bmi2 erms invpcid rtm rdseed adx smap xsaveopt arat md_clear arch_capabilities\n"
          ]
        }
      ]
    },
    {
      "cell_type": "markdown",
      "metadata": {
        "id": "pGVepIwH0PMp"
      },
      "source": [
        "Dados das CPUs"
      ]
    },
    {
      "cell_type": "code",
      "metadata": {
        "colab": {
          "base_uri": "https://localhost:8080/"
        },
        "id": "pPdf46960QqZ",
        "outputId": "648e74f6-ee68-4bb9-a2dd-ad85448feb2f"
      },
      "source": [
        "!cat /proc/cpuinfo"
      ],
      "execution_count": null,
      "outputs": [
        {
          "output_type": "stream",
          "name": "stdout",
          "text": [
            "processor\t: 0\n",
            "vendor_id\t: GenuineIntel\n",
            "cpu family\t: 6\n",
            "model\t\t: 79\n",
            "model name\t: Intel(R) Xeon(R) CPU @ 2.20GHz\n",
            "stepping\t: 0\n",
            "microcode\t: 0x1\n",
            "cpu MHz\t\t: 2200.156\n",
            "cache size\t: 56320 KB\n",
            "physical id\t: 0\n",
            "siblings\t: 2\n",
            "core id\t\t: 0\n",
            "cpu cores\t: 1\n",
            "apicid\t\t: 0\n",
            "initial apicid\t: 0\n",
            "fpu\t\t: yes\n",
            "fpu_exception\t: yes\n",
            "cpuid level\t: 13\n",
            "wp\t\t: yes\n",
            "flags\t\t: fpu vme de pse tsc msr pae mce cx8 apic sep mtrr pge mca cmov pat pse36 clflush mmx fxsr sse sse2 ss ht syscall nx pdpe1gb rdtscp lm constant_tsc rep_good nopl xtopology nonstop_tsc cpuid tsc_known_freq pni pclmulqdq ssse3 fma cx16 pcid sse4_1 sse4_2 x2apic movbe popcnt aes xsave avx f16c rdrand hypervisor lahf_lm abm 3dnowprefetch invpcid_single ssbd ibrs ibpb stibp fsgsbase tsc_adjust bmi1 hle avx2 smep bmi2 erms invpcid rtm rdseed adx smap xsaveopt arat md_clear arch_capabilities\n",
            "bugs\t\t: cpu_meltdown spectre_v1 spectre_v2 spec_store_bypass l1tf mds swapgs taa\n",
            "bogomips\t: 4400.31\n",
            "clflush size\t: 64\n",
            "cache_alignment\t: 64\n",
            "address sizes\t: 46 bits physical, 48 bits virtual\n",
            "power management:\n",
            "\n",
            "processor\t: 1\n",
            "vendor_id\t: GenuineIntel\n",
            "cpu family\t: 6\n",
            "model\t\t: 79\n",
            "model name\t: Intel(R) Xeon(R) CPU @ 2.20GHz\n",
            "stepping\t: 0\n",
            "microcode\t: 0x1\n",
            "cpu MHz\t\t: 2200.156\n",
            "cache size\t: 56320 KB\n",
            "physical id\t: 0\n",
            "siblings\t: 2\n",
            "core id\t\t: 0\n",
            "cpu cores\t: 1\n",
            "apicid\t\t: 1\n",
            "initial apicid\t: 1\n",
            "fpu\t\t: yes\n",
            "fpu_exception\t: yes\n",
            "cpuid level\t: 13\n",
            "wp\t\t: yes\n",
            "flags\t\t: fpu vme de pse tsc msr pae mce cx8 apic sep mtrr pge mca cmov pat pse36 clflush mmx fxsr sse sse2 ss ht syscall nx pdpe1gb rdtscp lm constant_tsc rep_good nopl xtopology nonstop_tsc cpuid tsc_known_freq pni pclmulqdq ssse3 fma cx16 pcid sse4_1 sse4_2 x2apic movbe popcnt aes xsave avx f16c rdrand hypervisor lahf_lm abm 3dnowprefetch invpcid_single ssbd ibrs ibpb stibp fsgsbase tsc_adjust bmi1 hle avx2 smep bmi2 erms invpcid rtm rdseed adx smap xsaveopt arat md_clear arch_capabilities\n",
            "bugs\t\t: cpu_meltdown spectre_v1 spectre_v2 spec_store_bypass l1tf mds swapgs taa\n",
            "bogomips\t: 4400.31\n",
            "clflush size\t: 64\n",
            "cache_alignment\t: 64\n",
            "address sizes\t: 46 bits physical, 48 bits virtual\n",
            "power management:\n",
            "\n"
          ]
        }
      ]
    },
    {
      "cell_type": "markdown",
      "metadata": {
        "id": "aTs1kdPTyYTP"
      },
      "source": [
        "Qual GPU está sendo utilizada.<br>\n",
        "https://medium.com/deep-learning-turkey/google-colab-free-gpu-tutorial-e113627b9f5d\n"
      ]
    },
    {
      "cell_type": "code",
      "metadata": {
        "colab": {
          "base_uri": "https://localhost:8080/"
        },
        "id": "yT5-lyWkybd0",
        "outputId": "5d80d15f-ec83-46ed-e785-d4a992ab68e4"
      },
      "source": [
        "#seleciona a versão do tensorflow\n",
        "%tensorflow_version 2.x\n",
        "\n",
        "#exibe as informações da gpu\n",
        "from tensorflow.python.client import device_lib\n",
        "device_lib.list_local_devices()"
      ],
      "execution_count": null,
      "outputs": [
        {
          "output_type": "execute_result",
          "data": {
            "text/plain": [
              "[name: \"/device:CPU:0\"\n",
              " device_type: \"CPU\"\n",
              " memory_limit: 268435456\n",
              " locality {\n",
              " }\n",
              " incarnation: 12563325909595964526\n",
              " xla_global_id: -1]"
            ]
          },
          "metadata": {},
          "execution_count": 63
        }
      ]
    },
    {
      "cell_type": "code",
      "metadata": {
        "colab": {
          "base_uri": "https://localhost:8080/",
          "height": 35
        },
        "id": "dE5GXR6XiriH",
        "outputId": "c91c119a-19cb-4323-b98f-f6c4494aa7a0"
      },
      "source": [
        "import tensorflow as tf\n",
        "tf.__version__"
      ],
      "execution_count": null,
      "outputs": [
        {
          "output_type": "execute_result",
          "data": {
            "application/vnd.google.colaboratory.intrinsic+json": {
              "type": "string"
            },
            "text/plain": [
              "'2.7.0'"
            ]
          },
          "metadata": {},
          "execution_count": 64
        }
      ]
    },
    {
      "cell_type": "markdown",
      "metadata": {
        "id": "jizdOi1bz0Cr"
      },
      "source": [
        "Quantidade de memória"
      ]
    },
    {
      "cell_type": "code",
      "metadata": {
        "colab": {
          "base_uri": "https://localhost:8080/"
        },
        "id": "kF1eDgNqz10N",
        "outputId": "449a8b57-3748-420d-fb74-edea419d7514"
      },
      "source": [
        "!cat /proc/meminfo"
      ],
      "execution_count": null,
      "outputs": [
        {
          "output_type": "stream",
          "name": "stdout",
          "text": [
            "MemTotal:       13302924 kB\n",
            "MemFree:        10584328 kB\n",
            "MemAvailable:   12278608 kB\n",
            "Buffers:          118716 kB\n",
            "Cached:          1707360 kB\n",
            "SwapCached:            0 kB\n",
            "Active:          1154888 kB\n",
            "Inactive:        1345236 kB\n",
            "Active(anon):     620040 kB\n",
            "Inactive(anon):      464 kB\n",
            "Active(file):     534848 kB\n",
            "Inactive(file):  1344772 kB\n",
            "Unevictable:           0 kB\n",
            "Mlocked:               0 kB\n",
            "SwapTotal:             0 kB\n",
            "SwapFree:              0 kB\n",
            "Dirty:             15392 kB\n",
            "Writeback:             0 kB\n",
            "AnonPages:        673972 kB\n",
            "Mapped:           442764 kB\n",
            "Shmem:              1172 kB\n",
            "KReclaimable:     112272 kB\n",
            "Slab:             153864 kB\n",
            "SReclaimable:     112272 kB\n",
            "SUnreclaim:        41592 kB\n",
            "KernelStack:        5040 kB\n",
            "PageTables:         8676 kB\n",
            "NFS_Unstable:          0 kB\n",
            "Bounce:                0 kB\n",
            "WritebackTmp:          0 kB\n",
            "CommitLimit:     6651460 kB\n",
            "Committed_AS:    3384516 kB\n",
            "VmallocTotal:   34359738367 kB\n",
            "VmallocUsed:        7452 kB\n",
            "VmallocChunk:          0 kB\n",
            "Percpu:             1424 kB\n",
            "AnonHugePages:         0 kB\n",
            "ShmemHugePages:        0 kB\n",
            "ShmemPmdMapped:        0 kB\n",
            "FileHugePages:         0 kB\n",
            "FilePmdMapped:         0 kB\n",
            "CmaTotal:              0 kB\n",
            "CmaFree:               0 kB\n",
            "HugePages_Total:       0\n",
            "HugePages_Free:        0\n",
            "HugePages_Rsvd:        0\n",
            "HugePages_Surp:        0\n",
            "Hugepagesize:       2048 kB\n",
            "Hugetlb:               0 kB\n",
            "DirectMap4k:       90944 kB\n",
            "DirectMap2M:     5148672 kB\n",
            "DirectMap1G:    10485760 kB\n"
          ]
        }
      ]
    },
    {
      "cell_type": "markdown",
      "metadata": {
        "id": "-9Q36nbXv37R"
      },
      "source": [
        "Dados do Sistema Operacional"
      ]
    },
    {
      "cell_type": "code",
      "metadata": {
        "colab": {
          "base_uri": "https://localhost:8080/"
        },
        "id": "_kVoPBb-v6uB",
        "outputId": "63eba5de-1703-4fa7-bfbf-41f521f1b39c"
      },
      "source": [
        "!cat /etc/os-release"
      ],
      "execution_count": null,
      "outputs": [
        {
          "output_type": "stream",
          "name": "stdout",
          "text": [
            "NAME=\"Ubuntu\"\n",
            "VERSION=\"18.04.5 LTS (Bionic Beaver)\"\n",
            "ID=ubuntu\n",
            "ID_LIKE=debian\n",
            "PRETTY_NAME=\"Ubuntu 18.04.5 LTS\"\n",
            "VERSION_ID=\"18.04\"\n",
            "HOME_URL=\"https://www.ubuntu.com/\"\n",
            "SUPPORT_URL=\"https://help.ubuntu.com/\"\n",
            "BUG_REPORT_URL=\"https://bugs.launchpad.net/ubuntu/\"\n",
            "PRIVACY_POLICY_URL=\"https://www.ubuntu.com/legal/terms-and-policies/privacy-policy\"\n",
            "VERSION_CODENAME=bionic\n",
            "UBUNTU_CODENAME=bionic\n"
          ]
        }
      ]
    },
    {
      "cell_type": "markdown",
      "metadata": {
        "id": "sEgR7FQIu1x1"
      },
      "source": [
        "Tamanho do disco"
      ]
    },
    {
      "cell_type": "code",
      "metadata": {
        "colab": {
          "base_uri": "https://localhost:8080/"
        },
        "id": "xnG2d1n2u-ll",
        "outputId": "00f126c7-0564-4761-edc1-767905711c4f"
      },
      "source": [
        "!df -k ."
      ],
      "execution_count": null,
      "outputs": [
        {
          "output_type": "stream",
          "name": "stdout",
          "text": [
            "Filesystem     1K-blocks     Used Available Use% Mounted on\n",
            "overlay        112947452 43709600  69221468  39% /\n"
          ]
        }
      ]
    },
    {
      "cell_type": "markdown",
      "metadata": {
        "id": "UnONs-014Emq"
      },
      "source": [
        "Tamanho dos diretórios"
      ]
    },
    {
      "cell_type": "code",
      "metadata": {
        "colab": {
          "base_uri": "https://localhost:8080/"
        },
        "id": "fP7QDSIH4GkF",
        "outputId": "789d75fb-3ae1-4308-83c9-0587a528f5f8"
      },
      "source": [
        "!df -h"
      ],
      "execution_count": null,
      "outputs": [
        {
          "output_type": "stream",
          "name": "stdout",
          "text": [
            "Filesystem      Size  Used Avail Use% Mounted on\n",
            "overlay         108G   42G   67G  39% /\n",
            "tmpfs            64M     0   64M   0% /dev\n",
            "shm             5.8G     0  5.8G   0% /dev/shm\n",
            "/dev/root       2.0G  1.2G  821M  59% /sbin/docker-init\n",
            "tmpfs           6.4G   28K  6.4G   1% /var/colab\n",
            "/dev/sda1        81G   46G   36G  57% /etc/hosts\n",
            "tmpfs           6.4G     0  6.4G   0% /proc/acpi\n",
            "tmpfs           6.4G     0  6.4G   0% /proc/scsi\n",
            "tmpfs           6.4G     0  6.4G   0% /sys/firmware\n"
          ]
        }
      ]
    },
    {
      "cell_type": "markdown",
      "metadata": {
        "id": "9NZh26yI-Zt2"
      },
      "source": [
        "shell interativo\n",
        "\n",
        "Não há terminal interativo embutido no Colab. Mas você pode usar o comando bash para experimentar comandos shell interativamente. Basta executar este comando e você obterá uma entrada interativa.\n",
        "\n",
        "Descomente a linha da célula para usar o shel interativo.\n",
        "\n"
      ]
    },
    {
      "cell_type": "code",
      "metadata": {
        "id": "14Koj0ha-Z6G"
      },
      "source": [
        "#!bash"
      ],
      "execution_count": null,
      "outputs": []
    },
    {
      "cell_type": "markdown",
      "metadata": {
        "id": "_rR4E0gVcMP-"
      },
      "source": [
        "Lista o conteúdo de um diretório"
      ]
    },
    {
      "cell_type": "code",
      "metadata": {
        "colab": {
          "base_uri": "https://localhost:8080/"
        },
        "id": "DfALVqDHcOzP",
        "outputId": "a5373276-b610-44e9-a7b4-f1a766250790"
      },
      "source": [
        "!ls"
      ],
      "execution_count": null,
      "outputs": [
        {
          "output_type": "stream",
          "name": "stdout",
          "text": [
            "sample_data\n"
          ]
        }
      ]
    },
    {
      "cell_type": "markdown",
      "metadata": {
        "id": "FX63sT_HcP24"
      },
      "source": [
        "Entrando em um diretório\n",
        "\n",
        "1- Vai para o diretório raiz.\n",
        "\n",
        "2 - Lista o diretório\n",
        "\n",
        "3- Entra no diretório `content`.\n"
      ]
    },
    {
      "cell_type": "code",
      "metadata": {
        "colab": {
          "base_uri": "https://localhost:8080/"
        },
        "id": "7eXB8mC-c9Ze",
        "outputId": "59d3ffff-f523-492e-85f2-e27623314bbe"
      },
      "source": [
        "%cd /\n",
        "!ls\n",
        "%cd /content/"
      ],
      "execution_count": null,
      "outputs": [
        {
          "output_type": "stream",
          "name": "stdout",
          "text": [
            "/\n",
            "bin\t datalab  home\t lib64\topt\t    root  srv\t\t     tmp    var\n",
            "boot\t dev\t  lib\t media\tproc\t    run   sys\t\t     tools\n",
            "content  etc\t  lib32  mnt\tpython-apt  sbin  tensorflow-1.15.2  usr\n",
            "/content\n"
          ]
        }
      ]
    },
    {
      "cell_type": "markdown",
      "metadata": {
        "id": "7riyQA9wdLUs"
      },
      "source": [
        "O comando \"%%writefile nomeArquivo\" no início da célula salva o conteúdo no arquivo nomeArquivo."
      ]
    },
    {
      "cell_type": "code",
      "metadata": {
        "colab": {
          "base_uri": "https://localhost:8080/"
        },
        "id": "ZHMqoLEBdN8c",
        "outputId": "a4230202-d2ed-4d50-bbfe-711df747f17f"
      },
      "source": [
        "%%writefile arquivo.txt\n",
        "Alo Mundo!"
      ],
      "execution_count": null,
      "outputs": [
        {
          "output_type": "stream",
          "name": "stdout",
          "text": [
            "Writing arquivo.txt\n"
          ]
        }
      ]
    },
    {
      "cell_type": "code",
      "metadata": {
        "colab": {
          "base_uri": "https://localhost:8080/"
        },
        "id": "9PbyMDZCfhtK",
        "outputId": "5d52453e-70bb-454a-de15-0c916ae6aceb"
      },
      "source": [
        "!cat arquivo.txt"
      ],
      "execution_count": null,
      "outputs": [
        {
          "output_type": "stream",
          "name": "stdout",
          "text": [
            "Alo Mundo!"
          ]
        }
      ]
    },
    {
      "cell_type": "markdown",
      "metadata": {
        "id": "p4xA41jV_O27"
      },
      "source": [
        "# Traduzindo Texto\n",
        "\n"
      ]
    },
    {
      "cell_type": "markdown",
      "metadata": {
        "id": "JGJFuBkxP3si"
      },
      "source": [
        "## Google Translator\n",
        "https://pypi.org/project/googletrans/\n"
      ]
    },
    {
      "cell_type": "code",
      "metadata": {
        "colab": {
          "base_uri": "https://localhost:8080/"
        },
        "id": "5YXOnnF9F-Bb",
        "outputId": "4cf8e353-de43-4f49-e0bc-fd7475173d14"
      },
      "source": [
        "#!pip install googletrans \n",
        "!pip install googletrans==3.1.0a0 #Versão específica que funciona"
      ],
      "execution_count": null,
      "outputs": [
        {
          "output_type": "stream",
          "name": "stdout",
          "text": [
            "Collecting googletrans==3.1.0a0\n",
            "  Downloading googletrans-3.1.0a0.tar.gz (19 kB)\n",
            "Collecting httpx==0.13.3\n",
            "  Downloading httpx-0.13.3-py3-none-any.whl (55 kB)\n",
            "\u001b[K     |████████████████████████████████| 55 kB 3.1 MB/s \n",
            "\u001b[?25hRequirement already satisfied: certifi in /usr/local/lib/python3.7/dist-packages (from httpx==0.13.3->googletrans==3.1.0a0) (2021.10.8)\n",
            "Requirement already satisfied: idna==2.* in /usr/local/lib/python3.7/dist-packages (from httpx==0.13.3->googletrans==3.1.0a0) (2.10)\n",
            "Collecting sniffio\n",
            "  Downloading sniffio-1.2.0-py3-none-any.whl (10 kB)\n",
            "Collecting hstspreload\n",
            "  Downloading hstspreload-2021.12.1-py3-none-any.whl (1.3 MB)\n",
            "\u001b[K     |████████████████████████████████| 1.3 MB 23.0 MB/s \n",
            "\u001b[?25hCollecting httpcore==0.9.*\n",
            "  Downloading httpcore-0.9.1-py3-none-any.whl (42 kB)\n",
            "\u001b[K     |████████████████████████████████| 42 kB 345 kB/s \n",
            "\u001b[?25hCollecting rfc3986<2,>=1.3\n",
            "  Downloading rfc3986-1.5.0-py2.py3-none-any.whl (31 kB)\n",
            "Requirement already satisfied: chardet==3.* in /usr/local/lib/python3.7/dist-packages (from httpx==0.13.3->googletrans==3.1.0a0) (3.0.4)\n",
            "Collecting h11<0.10,>=0.8\n",
            "  Downloading h11-0.9.0-py2.py3-none-any.whl (53 kB)\n",
            "\u001b[K     |████████████████████████████████| 53 kB 2.2 MB/s \n",
            "\u001b[?25hCollecting h2==3.*\n",
            "  Downloading h2-3.2.0-py2.py3-none-any.whl (65 kB)\n",
            "\u001b[K     |████████████████████████████████| 65 kB 1.6 MB/s \n",
            "\u001b[?25hCollecting hyperframe<6,>=5.2.0\n",
            "  Downloading hyperframe-5.2.0-py2.py3-none-any.whl (12 kB)\n",
            "Collecting hpack<4,>=3.0\n",
            "  Downloading hpack-3.0.0-py2.py3-none-any.whl (38 kB)\n",
            "Building wheels for collected packages: googletrans\n",
            "  Building wheel for googletrans (setup.py) ... \u001b[?25l\u001b[?25hdone\n",
            "  Created wheel for googletrans: filename=googletrans-3.1.0a0-py3-none-any.whl size=16367 sha256=e3404b260f5a254bd7073a37d0e5457218d4a1d4f09307aee694e60996fa7ff5\n",
            "  Stored in directory: /root/.cache/pip/wheels/0c/be/fe/93a6a40ffe386e16089e44dad9018ebab9dc4cb9eb7eab65ae\n",
            "Successfully built googletrans\n",
            "Installing collected packages: hyperframe, hpack, sniffio, h2, h11, rfc3986, httpcore, hstspreload, httpx, googletrans\n",
            "Successfully installed googletrans-3.1.0a0 h11-0.9.0 h2-3.2.0 hpack-3.0.0 hstspreload-2021.12.1 httpcore-0.9.1 httpx-0.13.3 hyperframe-5.2.0 rfc3986-1.5.0 sniffio-1.2.0\n"
          ]
        }
      ]
    },
    {
      "cell_type": "markdown",
      "metadata": {
        "id": "HWM6F3-u1-t2"
      },
      "source": [
        "Traduzindo lista de frases"
      ]
    },
    {
      "cell_type": "code",
      "metadata": {
        "colab": {
          "base_uri": "https://localhost:8080/"
        },
        "id": "r00hvXf4luYJ",
        "outputId": "12efba9c-3fc1-4144-a0f5-b4552104bb04"
      },
      "source": [
        "from googletrans import Translator\n",
        "\n",
        "tradutor = Translator()\n",
        "\n",
        "fraseEn = [\"The sky is blue.\",\"The book is on the table.\"]\n",
        "\n",
        "traducoes = tradutor.translate(fraseEn, src=\"en\", dest=\"pt\")  \n",
        "\n",
        "for traducao in traducoes:\n",
        "    print(traducao.origin, \" -> \", traducao.text)"
      ],
      "execution_count": null,
      "outputs": [
        {
          "output_type": "stream",
          "name": "stdout",
          "text": [
            "The sky is blue.  ->  O céu é azul.\n",
            "The book is on the table.  ->  O livro está sobre a mesa.\n"
          ]
        }
      ]
    },
    {
      "cell_type": "markdown",
      "metadata": {
        "id": "m1qZn4w_2Cpu"
      },
      "source": [
        "Traduzindo uma frase"
      ]
    },
    {
      "cell_type": "code",
      "metadata": {
        "colab": {
          "base_uri": "https://localhost:8080/"
        },
        "id": "OU7MViWB0q7m",
        "outputId": "91b7ee2b-2d49-477b-e667-2ec39973e5f3"
      },
      "source": [
        "from googletrans import Translator\n",
        "\n",
        "tradutor = Translator()\n",
        "\n",
        "fraseEn = \"The sky is blue.\"\n",
        "\n",
        "traducao = tradutor.translate(fraseEn, src=\"en\", dest=\"pt\")  \n",
        "\n",
        "print(fraseEn)\n",
        "print(traducao)\n",
        "print(traducao.src)\n",
        "print(traducao.dest)\n",
        "if traducao.src == traducao.dest:\n",
        "    print(\"Não foi traduzido\")"
      ],
      "execution_count": null,
      "outputs": [
        {
          "output_type": "stream",
          "name": "stdout",
          "text": [
            "The sky is blue.\n",
            "Translated(src=en, dest=pt, text=O céu é azul., pronunciation=The sky is blue., extra_data=\"{'translat...\")\n",
            "en\n",
            "pt\n"
          ]
        }
      ]
    },
    {
      "cell_type": "markdown",
      "metadata": {
        "id": "uSQmwK50GQT8"
      },
      "source": [
        "### Versão alternativa\n",
        "\n",
        "https://pypi.org/project/google-trans-new/"
      ]
    },
    {
      "cell_type": "code",
      "metadata": {
        "colab": {
          "base_uri": "https://localhost:8080/"
        },
        "id": "aTVQoxuF_kbP",
        "outputId": "0a34c80d-7c00-4dd5-c3ed-87371f0dfc54"
      },
      "source": [
        "!pip install google_trans_new"
      ],
      "execution_count": null,
      "outputs": [
        {
          "output_type": "stream",
          "name": "stdout",
          "text": [
            "Collecting google_trans_new\n",
            "  Downloading google_trans_new-1.1.9-py3-none-any.whl (9.2 kB)\n",
            "Installing collected packages: google-trans-new\n",
            "Successfully installed google-trans-new-1.1.9\n"
          ]
        }
      ]
    },
    {
      "cell_type": "code",
      "metadata": {
        "id": "_3YjFRoxsfid"
      },
      "source": [
        "from google_trans_new import google_translator  \n",
        "\n",
        "translator = google_translator()  \n",
        "\n",
        "fraseEn = \"The sky is blue.\"\n",
        "\n",
        "# Erro \n",
        "#frasePtBr = translator.translate(fraseEn,lang_tgt=\"pt\")  \n",
        "\n",
        "#print(frasePtBr)"
      ],
      "execution_count": null,
      "outputs": []
    },
    {
      "cell_type": "markdown",
      "metadata": {
        "id": "h3XCRcKvpDNE"
      },
      "source": [
        "### Outra versão"
      ]
    },
    {
      "cell_type": "code",
      "metadata": {
        "id": "MwTGtNhbnmg9",
        "colab": {
          "base_uri": "https://localhost:8080/"
        },
        "outputId": "c8aac37c-1a25-4cea-e787-80bfcd8c45eb"
      },
      "source": [
        "!pip install translate"
      ],
      "execution_count": null,
      "outputs": [
        {
          "output_type": "stream",
          "name": "stdout",
          "text": [
            "Collecting translate\n",
            "  Downloading translate-3.6.1-py2.py3-none-any.whl (12 kB)\n",
            "Requirement already satisfied: click in /usr/local/lib/python3.7/dist-packages (from translate) (7.1.2)\n",
            "Requirement already satisfied: requests in /usr/local/lib/python3.7/dist-packages (from translate) (2.23.0)\n",
            "Collecting libretranslatepy==2.1.1\n",
            "  Downloading libretranslatepy-2.1.1-py3-none-any.whl (3.2 kB)\n",
            "Requirement already satisfied: lxml in /usr/local/lib/python3.7/dist-packages (from translate) (4.2.6)\n",
            "Requirement already satisfied: chardet<4,>=3.0.2 in /usr/local/lib/python3.7/dist-packages (from requests->translate) (3.0.4)\n",
            "Requirement already satisfied: urllib3!=1.25.0,!=1.25.1,<1.26,>=1.21.1 in /usr/local/lib/python3.7/dist-packages (from requests->translate) (1.24.3)\n",
            "Requirement already satisfied: idna<3,>=2.5 in /usr/local/lib/python3.7/dist-packages (from requests->translate) (2.10)\n",
            "Requirement already satisfied: certifi>=2017.4.17 in /usr/local/lib/python3.7/dist-packages (from requests->translate) (2021.10.8)\n",
            "Installing collected packages: libretranslatepy, translate\n",
            "Successfully installed libretranslatepy-2.1.1 translate-3.6.1\n"
          ]
        }
      ]
    },
    {
      "cell_type": "code",
      "metadata": {
        "id": "D5DzX76cnjpm",
        "colab": {
          "base_uri": "https://localhost:8080/"
        },
        "outputId": "6da186db-94fd-46bd-c74c-69cd5cd48393"
      },
      "source": [
        "from translate import Translator\n",
        "\n",
        "tradutor = Translator(from_lang=\"english\", to_lang=\"pt-br\")\n",
        "\n",
        "fraseEn = \"The sky is blue.\"\n",
        "\n",
        "frasePtBR = tradutor.translate(fraseEn)\n",
        "\n",
        "print(frasePtBR)"
      ],
      "execution_count": null,
      "outputs": [
        {
          "output_type": "stream",
          "name": "stdout",
          "text": [
            "O céu é azul.\n"
          ]
        }
      ]
    },
    {
      "cell_type": "markdown",
      "metadata": {
        "id": "_-uC2Yk7yQur"
      },
      "source": [
        "#Remove Tags HTML do texto\n",
        "\n",
        "https://code.launchpad.net/beautifulsoup/\n"
      ]
    },
    {
      "cell_type": "code",
      "metadata": {
        "id": "modQjr4AyUpn",
        "colab": {
          "base_uri": "https://localhost:8080/"
        },
        "outputId": "c8fb4a8c-9be8-4329-8e33-fab8c04518e7"
      },
      "source": [
        "from bs4 import BeautifulSoup\n",
        "\n",
        "mensagemhtml = \"<html><p>Mensagem do HTML</p></html>\"\n",
        "\n",
        "soup = BeautifulSoup(mensagemhtml)\n",
        "\n",
        "mensagemlimpa = soup.get_text()\n",
        "\n",
        "print(mensagemhtml)\n",
        "\n",
        "print(mensagemlimpa)"
      ],
      "execution_count": null,
      "outputs": [
        {
          "output_type": "stream",
          "name": "stdout",
          "text": [
            "<html><p>Mensagem do HTML</p></html>\n",
            "Mensagem do HTML\n"
          ]
        }
      ]
    },
    {
      "cell_type": "markdown",
      "metadata": {
        "id": "KPkDUbfeg9H7"
      },
      "source": [
        "#Funções\n",
        "\n",
        "Artigo sobre parâmetros, argumentos, *args e \\***kwargs.\n",
        "\n",
        "https://medium.com/luizalabs/fun%C3%A7%C3%B5es-em-python-entendendo-par%C3%A2metros-argumentos-args-e-kwargs-4291b1f817f6"
      ]
    },
    {
      "cell_type": "markdown",
      "metadata": {
        "id": "8U4rSmgUf30l"
      },
      "source": [
        "##Funções com quantidade de parâmetros indeterminados\n",
        "\n",
        "Com o uso de um * (asterisco) podemos criar funções com números indeterminados de parâmetros.\n"
      ]
    },
    {
      "cell_type": "code",
      "metadata": {
        "id": "1l7Kpy-wf30m",
        "colab": {
          "base_uri": "https://localhost:8080/"
        },
        "outputId": "9206a638-71e2-46c3-f321-301ceff509d4"
      },
      "source": [
        "# Declara a função\n",
        "def soma(*valores):\n",
        "    soma = 0 \n",
        "    for i in valores:\n",
        "        soma += i\n",
        "    return soma\n",
        "\n",
        "\n",
        "# Utiliza a função\n",
        "print(soma(1,2,3))\n",
        "print(soma(1,2,3,4))"
      ],
      "execution_count": null,
      "outputs": [
        {
          "output_type": "stream",
          "name": "stdout",
          "text": [
            "6\n",
            "10\n"
          ]
        }
      ]
    },
    {
      "cell_type": "markdown",
      "metadata": {
        "id": "fIP4lbqu9Z0z"
      },
      "source": [
        "##Funções como parâmetros de funções"
      ]
    },
    {
      "cell_type": "code",
      "metadata": {
        "id": "cpUNK-rc9cxo"
      },
      "source": [
        "# Função a ser usada como argumento\n",
        "def fatorial(n):\n",
        "  fat = 1\n",
        "  for x in range(1,n+1):\n",
        "      fat = fat * x\n",
        "  return fat"
      ],
      "execution_count": null,
      "outputs": []
    },
    {
      "cell_type": "code",
      "metadata": {
        "id": "vm9jnvB89-Jk"
      },
      "source": [
        "# Chama a função passada como argumento e especifica o argumento\n",
        "def chamada(funcao, argumento):\n",
        "  return funcao(argumento)"
      ],
      "execution_count": null,
      "outputs": []
    },
    {
      "cell_type": "code",
      "metadata": {
        "id": "3SpFetlB9nLH",
        "colab": {
          "base_uri": "https://localhost:8080/"
        },
        "outputId": "433642c4-574c-4468-9729-163b8452f09d"
      },
      "source": [
        "# Chama a função passando a função fatorial e o argumento 3\n",
        "print(chamada(fatorial,3))"
      ],
      "execution_count": null,
      "outputs": [
        {
          "output_type": "stream",
          "name": "stdout",
          "text": [
            "6\n"
          ]
        }
      ]
    },
    {
      "cell_type": "markdown",
      "metadata": {
        "id": "PMn9AwJNgJQm"
      },
      "source": [
        "##Funções Lambda\n",
        "\n",
        "Também conhecida como funções anônimas, as funções lambdas permite implementar uma função específica em um único bloco de instrução, sem a necessidade de definir uma função usando a palavra def. A diferença entre as funções são que:\n",
        "\n",
        "* def - cria um objeto internamente colocando o nome da função apontando para ele.\n",
        "* lambda - cria um objeto, porém o retorno é efetuado em tempo de execução.\n",
        "\n",
        "Sintaxe: lambda arg1,...,argN:expressão\n",
        "\n",
        "Exemplos de função utilizando a expressão lambda:"
      ]
    },
    {
      "cell_type": "code",
      "metadata": {
        "id": "ZG82UpBxgT4n",
        "colab": {
          "base_uri": "https://localhost:8080/"
        },
        "outputId": "d78872f5-8720-4965-fa2b-f3138d848e89"
      },
      "source": [
        "# Declaração\n",
        "exponencial = lambda x:x*2\n",
        "\n",
        "# Utiliza a função\n",
        "exponencial(8)"
      ],
      "execution_count": null,
      "outputs": [
        {
          "output_type": "execute_result",
          "data": {
            "text/plain": [
              "16"
            ]
          },
          "metadata": {},
          "execution_count": 86
        }
      ]
    },
    {
      "cell_type": "code",
      "metadata": {
        "id": "bQMl20WagYB3",
        "colab": {
          "base_uri": "https://localhost:8080/"
        },
        "outputId": "f67158d3-d037-4739-d89c-4a7deaf30667"
      },
      "source": [
        "# Declaração\n",
        "situacao = lambda nota:nota >= 6\n",
        "\n",
        "# Utiliza a função\n",
        "situacao(7)"
      ],
      "execution_count": null,
      "outputs": [
        {
          "output_type": "execute_result",
          "data": {
            "text/plain": [
              "True"
            ]
          },
          "metadata": {},
          "execution_count": 87
        }
      ]
    },
    {
      "cell_type": "code",
      "metadata": {
        "id": "pORa0WrNglxE",
        "colab": {
          "base_uri": "https://localhost:8080/",
          "height": 35
        },
        "outputId": "7d4c70b9-5aba-407c-c1e2-dcc74d7237be"
      },
      "source": [
        "# Declaração\n",
        "invertido = lambda palavra:palavra[::-1]\n",
        "\n",
        "# Utiliza a função\n",
        "invertido(\"Python\")"
      ],
      "execution_count": null,
      "outputs": [
        {
          "output_type": "execute_result",
          "data": {
            "application/vnd.google.colaboratory.intrinsic+json": {
              "type": "string"
            },
            "text/plain": [
              "'nohtyP'"
            ]
          },
          "metadata": {},
          "execution_count": 88
        }
      ]
    },
    {
      "cell_type": "code",
      "metadata": {
        "id": "UmrUGgJigsVI",
        "colab": {
          "base_uri": "https://localhost:8080/"
        },
        "outputId": "bdbc9886-b556-4483-d37f-fa131d17299b"
      },
      "source": [
        "# Declaração\n",
        "produto = lambda x,y,z:x*y*z\n",
        "\n",
        "# Utiliza a função\n",
        "produto(3,9,18)"
      ],
      "execution_count": null,
      "outputs": [
        {
          "output_type": "execute_result",
          "data": {
            "text/plain": [
              "486"
            ]
          },
          "metadata": {},
          "execution_count": 89
        }
      ]
    },
    {
      "cell_type": "markdown",
      "metadata": {
        "id": "GM-MnEYKhFgS"
      },
      "source": [
        "## Função Map\n",
        "A função map aplica uma função a todos os elementos de uma lista sem a necessidade de utilizar um loop for, retornando uma nova lista com os elementos alterados pela função escolhida.\n",
        "\n",
        "Sintaxe: map(fun, seq)"
      ]
    },
    {
      "cell_type": "markdown",
      "metadata": {
        "id": "6sTGPKQfhjaV"
      },
      "source": [
        "Soma de 2 listas"
      ]
    },
    {
      "cell_type": "code",
      "metadata": {
        "id": "f6rdYblNhvS2",
        "colab": {
          "base_uri": "https://localhost:8080/"
        },
        "outputId": "6b7ff689-d3cf-4037-ec98-2976c1ed5c4b"
      },
      "source": [
        "# Declaração\n",
        "L1 = [10, 20, 30, 40, 50]\n",
        "L2 = [1, 2, 3, 4, 5]\n",
        "\n",
        "# Utiliza a função\n",
        "soma = list(map(lambda a,b:a+b, L1, L2))\n",
        "\n",
        "print(soma)"
      ],
      "execution_count": null,
      "outputs": [
        {
          "output_type": "stream",
          "name": "stdout",
          "text": [
            "[11, 22, 33, 44, 55]\n"
          ]
        }
      ]
    },
    {
      "cell_type": "markdown",
      "metadata": {
        "id": "qOAjikQYhh0V"
      },
      "source": [
        "Soma de 3 listas"
      ]
    },
    {
      "cell_type": "code",
      "metadata": {
        "id": "iNJ52TyQhhRZ",
        "colab": {
          "base_uri": "https://localhost:8080/"
        },
        "outputId": "377c15f0-49cd-4e24-bb49-11911c5fabf3"
      },
      "source": [
        "# Declaração\n",
        "L1 = [10, 20, 30, 40, 50]\n",
        "L2 = [1, 2, 3, 4, 5]\n",
        "L3 = [11, 22, 33, 44, 55]\n",
        "\n",
        "# Utiliza a função\n",
        "soma = list(map(lambda a,b,c:a+b+c, L1, L2, L3))\n",
        "\n",
        "print(soma)"
      ],
      "execution_count": null,
      "outputs": [
        {
          "output_type": "stream",
          "name": "stdout",
          "text": [
            "[22, 44, 66, 88, 110]\n"
          ]
        }
      ]
    },
    {
      "cell_type": "markdown",
      "metadata": {
        "id": "LxaFpeJNh8oP"
      },
      "source": [
        "## Função Reduce\n",
        "\n",
        "Aplica uma função em todos os elementos da lista, retornando um único valor. É necessário importar a biblioteca functools para utilizar a função reduce.\n",
        "\n",
        "Sintaxe: reduce(fun, seq)"
      ]
    },
    {
      "cell_type": "code",
      "metadata": {
        "id": "F1_VrxAMiBL-",
        "colab": {
          "base_uri": "https://localhost:8080/"
        },
        "outputId": "f6284120-8292-4dac-a493-2666e0993ab6"
      },
      "source": [
        "from functools import reduce\n",
        "\n",
        "# Declaração\n",
        "L1 = [1, 2, 3, 4, 5]\n",
        "\n",
        "# Utiliza a função\n",
        "soma = reduce((lambda x,y:x+y), L1) #((((1+2)+3)+4)+5)\n",
        "\n",
        "print(soma)"
      ],
      "execution_count": null,
      "outputs": [
        {
          "output_type": "stream",
          "name": "stdout",
          "text": [
            "15\n"
          ]
        }
      ]
    },
    {
      "cell_type": "markdown",
      "metadata": {
        "id": "WUKwvSaxiKfK"
      },
      "source": [
        "## Função Filter\n",
        "\n",
        "A função filter nos permite filtrar elementos de uma sequência de valores.\n",
        "\n",
        "Sintaxe: filter(fun, seq)"
      ]
    },
    {
      "cell_type": "code",
      "metadata": {
        "id": "LjbBn49qiOQw",
        "colab": {
          "base_uri": "https://localhost:8080/"
        },
        "outputId": "f6bc21a6-60a8-45b5-ec01-06154eefacc9"
      },
      "source": [
        "# Declaração\n",
        "L1 = [1, 2, 3, 4, 5, 6, 7, 8, 9, 10]\n",
        "\n",
        "# Utiliza a função\n",
        "filtro = list(filter(lambda x: x%2==0, L1)) #fitra os pares\n",
        "\n",
        "print(filtro)"
      ],
      "execution_count": null,
      "outputs": [
        {
          "output_type": "stream",
          "name": "stdout",
          "text": [
            "[2, 4, 6, 8, 10]\n"
          ]
        }
      ]
    },
    {
      "cell_type": "markdown",
      "metadata": {
        "id": "-VluuxMbiXqN"
      },
      "source": [
        "## Função Zip\n",
        "\n",
        "A função zip nos retorna o agrupamento de duas sequências em uma tupla. Ao ser aplicado em sequências com tamanhos diferentes, o número de tuplas será igual ao número da menor sequência de valores.\n",
        "\n",
        "Sintaxe: zip(seq,seq)"
      ]
    },
    {
      "cell_type": "code",
      "metadata": {
        "id": "92DJXz_DiaNk",
        "colab": {
          "base_uri": "https://localhost:8080/"
        },
        "outputId": "5971afce-46ca-415a-c3b1-be5080e86579"
      },
      "source": [
        "# Declaração\n",
        "L1 = [1, 3, 5, 7, 9]\n",
        "L2 = [2, 4, 6, 8, 10]\n",
        "\n",
        "# Utiliza a função\n",
        "LZIP = zip(L1,L2)\n",
        "\n",
        "print(LZIP)"
      ],
      "execution_count": null,
      "outputs": [
        {
          "output_type": "stream",
          "name": "stdout",
          "text": [
            "<zip object at 0x7f352fff1c80>\n"
          ]
        }
      ]
    },
    {
      "cell_type": "markdown",
      "metadata": {
        "id": "tMJ0zkTyilOt"
      },
      "source": [
        "O retorno da zip é um iterador, precisamos usar a função list() para obter uma lista."
      ]
    },
    {
      "cell_type": "code",
      "metadata": {
        "id": "H2o7_n4rilzL",
        "colab": {
          "base_uri": "https://localhost:8080/"
        },
        "outputId": "d4cfb903-3d9d-4779-b334-057b2fccc27c"
      },
      "source": [
        "print(list(LZIP))"
      ],
      "execution_count": null,
      "outputs": [
        {
          "output_type": "stream",
          "name": "stdout",
          "text": [
            "[(1, 2), (3, 4), (5, 6), (7, 8), (9, 10)]\n"
          ]
        }
      ]
    },
    {
      "cell_type": "markdown",
      "metadata": {
        "id": "u4vcAQXmisl-"
      },
      "source": [
        "Exemplo com listas de tamanhos diferentes."
      ]
    },
    {
      "cell_type": "code",
      "metadata": {
        "id": "Y7K5i8GTiuqo",
        "colab": {
          "base_uri": "https://localhost:8080/"
        },
        "outputId": "fa515991-2afa-4836-e416-ebe2825cccc1"
      },
      "source": [
        "# Declaração\n",
        "L3 = [1, 2, 3, 4, 5]\n",
        "L4 = [22, 11]\n",
        "\n",
        "# Utiliza a função\n",
        "LZIP = list(zip(L3,L4))\n",
        "\n",
        "print(list(LZIP))"
      ],
      "execution_count": null,
      "outputs": [
        {
          "output_type": "stream",
          "name": "stdout",
          "text": [
            "[(1, 22), (2, 11)]\n"
          ]
        }
      ]
    },
    {
      "cell_type": "markdown",
      "metadata": {
        "id": "-vnZtDA7jG9p"
      },
      "source": [
        "Em dicionários"
      ]
    },
    {
      "cell_type": "code",
      "metadata": {
        "id": "uIplscX4jIct",
        "colab": {
          "base_uri": "https://localhost:8080/"
        },
        "outputId": "64ca8a13-2adf-43b1-d3e9-c63c56e309eb"
      },
      "source": [
        "# Dicionários\n",
        "dic1 = {\"a\":1, \"b\":2, \"c\":3, \"d\":4}\n",
        "dic2 = {\"aa\":11, \"bb\":22, \"cc\":33, \"dd\":44}\n",
        "\n",
        "# A função zip faz a união pelas chaves\n",
        "print(list(zip(dic1,dic2)))\n",
        "\n",
        "# Unindo pelos valores\n",
        "print(list(zip(dic1.values(),dic2.values())))\n",
        "\n",
        "# Unindo chaves com valores\n",
        "print(list(zip(dic1,dic2.values())))"
      ],
      "execution_count": null,
      "outputs": [
        {
          "output_type": "stream",
          "name": "stdout",
          "text": [
            "[('a', 'aa'), ('b', 'bb'), ('c', 'cc'), ('d', 'dd')]\n",
            "[(1, 11), (2, 22), (3, 33), (4, 44)]\n",
            "[('a', 11), ('b', 22), ('c', 33), ('d', 44)]\n"
          ]
        }
      ]
    },
    {
      "cell_type": "markdown",
      "metadata": {
        "id": "qSZNWrpMjbxo"
      },
      "source": [
        "## Função Enumerate\n",
        "A função enumerate retorna um par índice valor de uma sequência definida.\n",
        "\n",
        "Sintaxe: enumerate(seq)"
      ]
    },
    {
      "cell_type": "code",
      "metadata": {
        "id": "ogK90wkPjdzE",
        "colab": {
          "base_uri": "https://localhost:8080/"
        },
        "outputId": "d56a5a39-b6c1-4116-b39e-60dc233db174"
      },
      "source": [
        "# Lista sem índice\n",
        "lista = [\"a\", \"b\", \"c\", \"d\"]\n",
        "\n",
        "# Mostra a lista indexada\n",
        "print(list(enumerate(lista)))\n",
        "\n",
        "# Percorre a lista indexada\n",
        "for i, elemento in enumerate(lista):\n",
        "    print(i,elemento)"
      ],
      "execution_count": null,
      "outputs": [
        {
          "output_type": "stream",
          "name": "stdout",
          "text": [
            "[(0, 'a'), (1, 'b'), (2, 'c'), (3, 'd')]\n",
            "0 a\n",
            "1 b\n",
            "2 c\n",
            "3 d\n"
          ]
        }
      ]
    },
    {
      "cell_type": "markdown",
      "metadata": {
        "id": "g7rhEbeJOdBr"
      },
      "source": [
        "## Função que retorna mais de um valor\n",
        "\n",
        "Uma função pode retornar mais de um valor, basta usar `return` com mais de um parâmetro. Também é possível retornar somente um determinado valor, basta ignorar retorna não desejando especificando `_` no lugar da variável de retorno.\n"
      ]
    },
    {
      "cell_type": "code",
      "metadata": {
        "id": "oqIYsonWOdni"
      },
      "source": [
        "# Declaração\n",
        "def calculadora(numero1, numero2):\n",
        "  \n",
        "    # Processamento da função\n",
        "    soma = numero1 + numero2\n",
        "    diferenca = numero2 + numero1\n",
        "    produto = numero1 * numero2\n",
        "    divisao = numero2 / numero1\n",
        "\n",
        "    # Retornando mais de um valor\n",
        "    return soma, diferenca, produto, divisao"
      ],
      "execution_count": null,
      "outputs": []
    },
    {
      "cell_type": "code",
      "metadata": {
        "id": "v9wAWvJfO9zU",
        "colab": {
          "base_uri": "https://localhost:8080/"
        },
        "outputId": "69149785-0287-4f44-b3ba-368d09e2cbba"
      },
      "source": [
        "# Usando a função\n",
        "numero1 = 2\n",
        "numero2 = 10\n",
        "\n",
        "# Recuperando todos os resultados\n",
        "rsoma, rdiferenca, rproduto, rdivisao = calculadora(numero1, numero2)\n",
        "\n",
        "print(rsoma, rdiferenca, rproduto, rdivisao)\n",
        "\n",
        "# Recuperando somente um resultado\n",
        "_, rdif, _, _ = calculadora(numero1, numero2)\n",
        "\n",
        "print(rdif)"
      ],
      "execution_count": null,
      "outputs": [
        {
          "output_type": "stream",
          "name": "stdout",
          "text": [
            "12 12 20 5.0\n",
            "12\n"
          ]
        }
      ]
    },
    {
      "cell_type": "markdown",
      "metadata": {
        "id": "CZXDOTptymKY"
      },
      "source": [
        "## Função com uso do ´yield´\n",
        "\n",
        "O `yield` só pode ser utilizando de funções. Dentro de uma função funciona como um `return`, só que retorna um objeto **generator** que é iterável. Para iterar sobre a função é necessário chamar a função `next()` ou utilizar um `for`.\n",
        "\n",
        "O `yield` marca a posição da última chamada da função `next()` de forma explicita ou implicita(`for`)."
      ]
    },
    {
      "cell_type": "markdown",
      "metadata": {
        "id": "Id1h-zE40QpT"
      },
      "source": [
        "### Exemplo 1 yield"
      ]
    },
    {
      "cell_type": "code",
      "metadata": {
        "id": "iyTSP_h8ymYR"
      },
      "source": [
        "# Declaração\n",
        "def funcao():\n",
        "    yield 10\n",
        "    yield 20\n",
        "    yield 30  "
      ],
      "execution_count": null,
      "outputs": []
    },
    {
      "cell_type": "code",
      "metadata": {
        "id": "0mtM2GEo0Zty",
        "colab": {
          "base_uri": "https://localhost:8080/"
        },
        "outputId": "59b22684-4269-4e41-be56-105e760ef764"
      },
      "source": [
        "# Recupera o iterador da função para a variável conjunto\n",
        "conjunto = funcao()\n",
        "\n",
        "# O comando \"next()\" retorna o número da primeira declaração de yield na variável conjunto\n",
        "print(next(conjunto))\n",
        "\n",
        "# O comando \"next()\" retorna o número da segunda declaração de yield na variável conjunto\n",
        "print(next(conjunto))\n",
        "\n",
        "# O comando \"next()\" retorna o número da terceira declaração de yield na variável conjunto\n",
        "print(next(conjunto))\n",
        "\n",
        "# A função next só pode ser chamada 3 vezes, pois existe somente 3 declarações!\n",
        "# Mas o yield pode ser declarado dentro de um laço(for)"
      ],
      "execution_count": null,
      "outputs": [
        {
          "output_type": "stream",
          "name": "stdout",
          "text": [
            "10\n",
            "20\n",
            "30\n"
          ]
        }
      ]
    },
    {
      "cell_type": "markdown",
      "metadata": {
        "id": "1BYmE9aa02Hf"
      },
      "source": [
        "### Exemplo 2 yield"
      ]
    },
    {
      "cell_type": "code",
      "metadata": {
        "id": "D83pEDzF02Hg"
      },
      "source": [
        "# Declaração\n",
        "def funcao():\n",
        "    yield 10\n",
        "    yield 20  \n",
        "    yield 30  "
      ],
      "execution_count": null,
      "outputs": []
    },
    {
      "cell_type": "code",
      "metadata": {
        "id": "SxXEYFap04VT",
        "colab": {
          "base_uri": "https://localhost:8080/"
        },
        "outputId": "18627766-8a51-4244-ebf8-4b20aa3dab02"
      },
      "source": [
        "# Recupera o iterador da função para a variável conjunto\n",
        "conjunto = funcao()\n",
        "\n",
        "# O comando \"for\" chama o next implicitamente retornando o número a medida que vai iterando a variável conjunto\n",
        "for x in conjunto:\n",
        "    print(x)\n",
        "\n",
        "# A função next só pode ser chamada 3 vezes, pois existe somente 3 declarações!\n",
        "# Mas o yield pode ser declarado dentro de um laço(for)"
      ],
      "execution_count": null,
      "outputs": [
        {
          "output_type": "stream",
          "name": "stdout",
          "text": [
            "10\n",
            "20\n",
            "30\n"
          ]
        }
      ]
    },
    {
      "cell_type": "markdown",
      "metadata": {
        "id": "H1Oza3DI2nC2"
      },
      "source": [
        "### Exemplo 3 yield"
      ]
    },
    {
      "cell_type": "code",
      "metadata": {
        "id": "1zIBDaQz2nC2"
      },
      "source": [
        "# Declaração\n",
        "def geraNumero(inicio = 1, fim = 100):\n",
        "    \"\"\"\n",
        "    Gera os números no intervalo de número inicio até fim passado por parâmetro\n",
        "    \"\"\"\n",
        "    for numero in range(inicio, fim + 1):\n",
        "        yield numero"
      ],
      "execution_count": null,
      "outputs": []
    },
    {
      "cell_type": "code",
      "metadata": {
        "id": "xohojoNy2nC4",
        "colab": {
          "base_uri": "https://localhost:8080/"
        },
        "outputId": "332b110c-c680-409f-e54e-283c096e6260"
      },
      "source": [
        "# Recupera o iterador da função para a variável conjunto\n",
        "conjunto = geraNumero(5, 10)\n",
        "\n",
        "# Sem o uso do yield na função geraNumero o for gera todos os números do intervalo\n",
        "\n",
        "# O comando \"for\" chama o next implicitamente gerando cada número a medida que vai iterando a variável conjunto\n",
        "for x in conjunto:\n",
        "    print(x)"
      ],
      "execution_count": null,
      "outputs": [
        {
          "output_type": "stream",
          "name": "stdout",
          "text": [
            "5\n",
            "6\n",
            "7\n",
            "8\n",
            "9\n",
            "10\n"
          ]
        }
      ]
    },
    {
      "cell_type": "markdown",
      "metadata": {
        "id": "cLpubXN0-sMk"
      },
      "source": [
        "### Exemplo 4 yield\n",
        "\n",
        "Função com retorno"
      ]
    },
    {
      "cell_type": "code",
      "metadata": {
        "id": "XGwJdu0n-sMl"
      },
      "source": [
        "# Declaração\n",
        "def geraNumero(inicio = 1, fim = 100):\n",
        "    \"\"\"\n",
        "    Gera os números no intervalo de número inicio até fim passado por parâmetro\n",
        "    \"\"\"\n",
        "    for numero in range(inicio, fim + 1):\n",
        "        yield numero"
      ],
      "execution_count": null,
      "outputs": []
    },
    {
      "cell_type": "code",
      "metadata": {
        "id": "p-plQ3bh-sMo",
        "colab": {
          "base_uri": "https://localhost:8080/"
        },
        "outputId": "64725149-aaf6-45cc-b538-7c0638a9e7e2"
      },
      "source": [
        "# Recupera o iterador da função para a variável conjunto\n",
        "conjunto = geraNumero(5, 10)\n",
        "\n",
        "# Sem o uso do yield na função geraNumero o for gera todos os números do intervalo\n",
        "\n",
        "# O comando \"for\" chama o next implicitamente gerando cada número a medida que vai iterando a variável conjunto\n",
        "for x in conjunto:\n",
        "    print(x)"
      ],
      "execution_count": null,
      "outputs": [
        {
          "output_type": "stream",
          "name": "stdout",
          "text": [
            "5\n",
            "6\n",
            "7\n",
            "8\n",
            "9\n",
            "10\n"
          ]
        }
      ]
    },
    {
      "cell_type": "markdown",
      "metadata": {
        "id": "xPVtpRBpPPuD"
      },
      "source": [
        "## Função com especificação de tipos de dados para os parâmetros e retorno\n",
        "\n",
        "Para especificar o tipo de dados dos parâmetos coloque o nome da variávei seguido de dois pontos(:) e o tipo de dado.\n",
        "\n",
        "Para especificar o retorno coloque logo depois da lista de parâmetros o símbolo \"->\" e o tipo de dado seguido por dois pontos(:)."
      ]
    },
    {
      "cell_type": "code",
      "metadata": {
        "id": "ryr97DigPXe3",
        "colab": {
          "base_uri": "https://localhost:8080/"
        },
        "outputId": "77a134a5-9168-4706-ea0e-9c853989c2d5"
      },
      "source": [
        "# Declara a função\n",
        "def soma(num1 : int, num2 : int) -> int:\n",
        "    total = 0 \n",
        "    total = num1 + num2        \n",
        "    return total\n",
        "\n",
        "resultado = soma(10,20)\n",
        "\n",
        "# Utiliza a função\n",
        "print(resultado)"
      ],
      "execution_count": null,
      "outputs": [
        {
          "output_type": "stream",
          "name": "stdout",
          "text": [
            "30\n"
          ]
        }
      ]
    },
    {
      "cell_type": "markdown",
      "metadata": {
        "id": "1gAMw42-hBzo"
      },
      "source": [
        "# Aritmética Binária"
      ]
    },
    {
      "cell_type": "markdown",
      "metadata": {
        "id": "wLOtQoPpcxEK"
      },
      "source": [
        "## Operações bit-a-bit\n",
        "\n",
        "Operadores bitwise são utilizados quando precisamos realizar operações na representação binária de números inteiros. Caso ambos os operandos sejam strings, esses operadores irão trabalhar com os valores ASCII de seus caracteres\n",
        "\n",
        "- Deslocamento para esquerda ( << ).\n",
        "- Deslocamento para direita ( >> ).\n",
        "- Inversão ( ~ )."
      ]
    },
    {
      "cell_type": "code",
      "metadata": {
        "id": "1S-iISGKczfT",
        "colab": {
          "base_uri": "https://localhost:8080/"
        },
        "outputId": "838c9614-9511-4d7a-8203-dea001714352"
      },
      "source": [
        "a = 42  # 0b101010 em binário\n",
        "b = -42 #-0b101010 em binário\n",
        "\n",
        "print(\"Valores iniciais\")\n",
        "print(\"a = \", bin(a) , \" -> \", a)\n",
        "print(\"b = \", bin(b) ,\" -> \",  b)\n",
        "print(\"ou\")\n",
        "print(\"a = \", \"{0:b}\".format(a) , \" -> \", a)\n",
        "print(\"b = \", \"{0:b}\".format(b) ,\" -> \",  b)\n",
        "\n",
        "print(\"\")\n",
        "print(\"Deslocamento para a esquerda preenchendo com zero\")\n",
        "lefta1 = a << 1\n",
        "lefta2 = a << 2\n",
        "print(\"a << 1 = \", bin(lefta1), \" -> \", lefta1)\n",
        "print(\"a << 2 = \", bin(lefta2), \" -> \", lefta2)\n",
        "\n",
        "print(\"\")\n",
        "print(\"Deslocamento para a esquerda preenchendo com zero\")\n",
        "leftb1 = b << 1\n",
        "leftb2 = b << 2\n",
        "print(\"b << 1 = \", bin(leftb1), \" -> \", leftb1)\n",
        "print(\"b << 2 = \", bin(leftb2), \" -> \", leftb2)\n",
        "\n",
        "print(\"\")\n",
        "print(\"Deslocamento para direita preenchedo com o bit do sinal\")\n",
        "righta1 = a >> 1\n",
        "righta2 = a >> 2\n",
        "print(\"a >> 1 = \", bin(righta1), \" -> \", righta1)\n",
        "print(\"a >> 2 = \", bin(righta2), \" -> \", righta2)        \n",
        "\n",
        "print(\"\")\n",
        "print(\"Deslocamento para direita preenchedo com o bit do sinal\")\n",
        "rightb1 = b >> 1\n",
        "rightb2 = b >> 2\n",
        "print(\"b >> 1 = \", bin(rightb1), \" -> \", rightb1)\n",
        "print(\"b >> 2 = \", bin(rightb2), \" -> \", rightb2)\n",
        "\n",
        "print(\"\")\n",
        "print(\"Inversão (~) (Bitwise NOT)\")\n",
        "ainvertido = ~a\n",
        "binvertido = ~b\n",
        "print(\"a >> ~a = \", bin(ainvertido), \" -> \", ainvertido)\n",
        "print(\"b >> ~b = \", bin(binvertido), \" -> \", binvertido)"
      ],
      "execution_count": null,
      "outputs": [
        {
          "output_type": "stream",
          "name": "stdout",
          "text": [
            "Valores iniciais\n",
            "a =  0b101010  ->  42\n",
            "b =  -0b101010  ->  -42\n",
            "ou\n",
            "a =  101010  ->  42\n",
            "b =  -101010  ->  -42\n",
            "\n",
            "Deslocamento para a esquerda preenchendo com zero\n",
            "a << 1 =  0b1010100  ->  84\n",
            "a << 2 =  0b10101000  ->  168\n",
            "\n",
            "Deslocamento para a esquerda preenchendo com zero\n",
            "b << 1 =  -0b1010100  ->  -84\n",
            "b << 2 =  -0b10101000  ->  -168\n",
            "\n",
            "Deslocamento para direita preenchedo com o bit do sinal\n",
            "a >> 1 =  0b10101  ->  21\n",
            "a >> 2 =  0b1010  ->  10\n",
            "\n",
            "Deslocamento para direita preenchedo com o bit do sinal\n",
            "b >> 1 =  -0b10101  ->  -21\n",
            "b >> 2 =  -0b1011  ->  -11\n",
            "\n",
            "Inversão (~) (Bitwise NOT)\n",
            "a >> ~a =  -0b101011  ->  -43\n",
            "b >> ~b =  0b101001  ->  41\n"
          ]
        }
      ]
    },
    {
      "cell_type": "markdown",
      "metadata": {
        "id": "iw_D1d3uhns5"
      },
      "source": [
        "## Operador E bit-a-bit (&)\n",
        "\n",
        "Compara dois valores utilizando suas representações binárias e retorna um novo valor, para formar esse valor de retorno, cada bit é comparado, retornando 1(True) quando ambos os bits forem iguais a 1(True), caso contrário retorna 0 (False)."
      ]
    },
    {
      "cell_type": "code",
      "metadata": {
        "id": "Vzq99GRwhn5q",
        "colab": {
          "base_uri": "https://localhost:8080/"
        },
        "outputId": "2ea7167e-f44b-47ed-a2f5-00cc2b65996a"
      },
      "source": [
        "print(\"Operador e (&)\")\n",
        "a = 5 \n",
        "b = 3 \n",
        "\n",
        "c = a | b\n",
        "\n",
        "print(\"a = \", bin(a), \" -> \", a)\n",
        "print(\"b = \", bin(b), \" -> \", b)\n",
        "print(\"c = \", bin(c), \" -> \", c)"
      ],
      "execution_count": null,
      "outputs": [
        {
          "output_type": "stream",
          "name": "stdout",
          "text": [
            "Operador e (&)\n",
            "a =  0b101  ->  5\n",
            "b =  0b11  ->  3\n",
            "c =  0b111  ->  7\n"
          ]
        }
      ]
    },
    {
      "cell_type": "markdown",
      "metadata": {
        "id": "HUkrySKThohx"
      },
      "source": [
        "## Operador Ou bit-a-bit (|)\n",
        "\n",
        "Compara dois valores utilizando suas representações binárias e retorna um novo valor, para formar esse valor de retorno, cada bit é comparado, retornando 1(True) se um dos bits comparados forem iguais a 1(True, caso contrário retorna 0 (False)."
      ]
    },
    {
      "cell_type": "code",
      "metadata": {
        "id": "HLxO_7oKhosm",
        "colab": {
          "base_uri": "https://localhost:8080/"
        },
        "outputId": "84b56e07-5a81-493a-d4e0-fa8841c9b34c"
      },
      "source": [
        "print(\"Operador ou (|)\")\n",
        "a = 5 \n",
        "b = 3 \n",
        "\n",
        "c = a & b\n",
        "\n",
        "print(\"a = \", bin(a), \" -> \", a)\n",
        "print(\"b = \", bin(b), \" -> \", b)\n",
        "print(\"c = \", bin(c), \" -> \", c)"
      ],
      "execution_count": null,
      "outputs": [
        {
          "output_type": "stream",
          "name": "stdout",
          "text": [
            "Operador ou (|)\n",
            "a =  0b101  ->  5\n",
            "b =  0b11  ->  3\n",
            "c =  0b1  ->  1\n"
          ]
        }
      ]
    },
    {
      "cell_type": "markdown",
      "metadata": {
        "id": "PKn1_F0Ch5RR"
      },
      "source": [
        "## Operador Ou exclusivo bit-a-bit (^) (Bitwise XOR)\n",
        "\n",
        "Compara dois valores utilizando suas representações binárias e retorna um novo valor, para formar esse valor de retorno, cada bit é comparado, retornando 1(True) quando os bits comparados forem diferentes, caso contrário retorna 0 (False)."
      ]
    },
    {
      "cell_type": "code",
      "metadata": {
        "id": "hsTw6TCKh5b8",
        "colab": {
          "base_uri": "https://localhost:8080/"
        },
        "outputId": "a6bf8f43-14f8-4d3e-ef97-00c535651ee1"
      },
      "source": [
        "print(\"Operador ou exclusivo (^)\")\n",
        "a = 5 \n",
        "b = 3 \n",
        "\n",
        "c = a ^ b\n",
        "\n",
        "print(\"a = \", bin(a), \" -> \", a)\n",
        "print(\"b = \", bin(b), \" -> \", b)\n",
        "print(\"c = \", bin(c), \" -> \", c)"
      ],
      "execution_count": null,
      "outputs": [
        {
          "output_type": "stream",
          "name": "stdout",
          "text": [
            "Operador ou exclusivo (^)\n",
            "a =  0b101  ->  5\n",
            "b =  0b11  ->  3\n",
            "c =  0b110  ->  6\n"
          ]
        }
      ]
    },
    {
      "cell_type": "markdown",
      "metadata": {
        "id": "hq5BfazeHGJn"
      },
      "source": [
        "# Mensagem de Progresso"
      ]
    },
    {
      "cell_type": "markdown",
      "metadata": {
        "id": "QjI0bn4LHUM9"
      },
      "source": [
        "## Exemplo mensagem de um nível com lista"
      ]
    },
    {
      "cell_type": "code",
      "metadata": {
        "id": "qPf0rRa4HUM-",
        "colab": {
          "base_uri": "https://localhost:8080/"
        },
        "outputId": "26091075-2cbc-4196-dcbb-cf4076a7dc63"
      },
      "source": [
        "# Import da biblioteca\n",
        "from IPython.display import clear_output\n",
        "\n",
        "lista = []\n",
        "\n",
        "qtde = 1000\n",
        "\n",
        "for x in range(qtde):\n",
        "    lista.append(x**x)\n",
        "\n",
        "    clear_output(wait=True)\n",
        "    print(\"Teste: \", x + 1, \"/\", qtde)"
      ],
      "execution_count": null,
      "outputs": [
        {
          "output_type": "stream",
          "name": "stdout",
          "text": [
            "Teste:  1000 / 1000\n"
          ]
        }
      ]
    },
    {
      "cell_type": "markdown",
      "metadata": {
        "id": "RUTFXBBuIUVN"
      },
      "source": [
        "## Exemplo mensagem com 2 níveis com lista"
      ]
    },
    {
      "cell_type": "code",
      "metadata": {
        "id": "9qPsM1_6IUVN",
        "colab": {
          "base_uri": "https://localhost:8080/"
        },
        "outputId": "5f280e96-b778-43d4-f022-adfd9e3304c8"
      },
      "source": [
        "# Import da biblioteca\n",
        "from IPython.display import clear_output\n",
        "from time import sleep\n",
        "\n",
        "qtde1 = 5\n",
        "qtde2 = 100\n",
        "\n",
        "for x in range(qtde1):\n",
        "    for y in range(qtde2):\n",
        "        # Retarda o laço em 0.01 segundos\n",
        "        sleep(0.02)\n",
        "\n",
        "        clear_output(wait=True)\n",
        "        print(\"Teste: \", x + 1, \"/\", qtde1, \" de \", y + 1, \"/\", qtde2)                "
      ],
      "execution_count": null,
      "outputs": [
        {
          "output_type": "stream",
          "name": "stdout",
          "text": [
            "Teste:  5 / 5  de  100 / 100\n"
          ]
        }
      ]
    },
    {
      "cell_type": "markdown",
      "metadata": {
        "id": "U3fqY5AqX1tN"
      },
      "source": [
        "# Barra de Progresso\n",
        "\n",
        "O tdqm é um pacote que posibilita criar barra de progressos e estimar o tempo para funções e laços.\n",
        "\n",
        "https://github.com/tqdm/tqdm\n",
        "\n",
        "Em um laço itere sobre `tqdm` ou `tqdm_notebook`(caso esteja executando um Notebook)."
      ]
    },
    {
      "cell_type": "markdown",
      "metadata": {
        "id": "7F8jtwpZYLkA"
      },
      "source": [
        "## Exemplo barra de um nível com lista"
      ]
    },
    {
      "cell_type": "code",
      "metadata": {
        "id": "sTAX64dHX0qm",
        "colab": {
          "base_uri": "https://localhost:8080/",
          "height": 49,
          "referenced_widgets": [
            "318869aee5734a33a388ea9debdf475c",
            "8a3d83d4a01d4c5799d37b3ee614190f",
            "b569638ed1aa4cc5a644bc5940b8bffd",
            "87625df74fe24e5a856ed7f507c68563",
            "453899acd7694170878efa833ec03432",
            "63dc83dcecac47ccb1b9719251e57a5b",
            "b13d690081b44466805252de1f157b12",
            "1296f5019b1b4b029607e63dd19c7b24",
            "322a231054f749a793b813f07c23cd0a",
            "6f70a5161902454b9717cb1ba347ab50",
            "a50da2bb5447437f903ca9618fec0589"
          ]
        },
        "outputId": "05d6a7ce-8c12-4bd6-87f7-0fb046d13629"
      },
      "source": [
        "# Import da biblioteca\n",
        "from tqdm.notebook import tqdm\n",
        "\n",
        "QTDE = 10000\n",
        "\n",
        "lista = []\n",
        "\n",
        "for x in tqdm(range(QTDE)):\n",
        "    lista.append(x**x)"
      ],
      "execution_count": null,
      "outputs": [
        {
          "output_type": "display_data",
          "data": {
            "application/vnd.jupyter.widget-view+json": {
              "model_id": "318869aee5734a33a388ea9debdf475c",
              "version_minor": 0,
              "version_major": 2
            },
            "text/plain": [
              "  0%|          | 0/10000 [00:00<?, ?it/s]"
            ]
          },
          "metadata": {}
        }
      ]
    },
    {
      "cell_type": "markdown",
      "metadata": {
        "id": "Yh2b79LTobBm"
      },
      "source": [
        "Usando trange"
      ]
    },
    {
      "cell_type": "code",
      "metadata": {
        "id": "fCp3dwH6oTrq",
        "colab": {
          "base_uri": "https://localhost:8080/",
          "height": 49,
          "referenced_widgets": [
            "f01dd763fa584bd6b355c4ef3b101037",
            "a320c657d9cf44c98bfe6bcc26d193ed",
            "dcc3b9777bf04aed8827440026399afb",
            "91dfc50bcdc54babb126db1429373585",
            "2f1729fcefa740d5b385a69fcb196a02",
            "d4a433f0087f4b8bbd89b39f5a4cfea8",
            "c44725f5e2234fdb8082a0fd9c90bed2",
            "e7e57a3fe7e14cd993386d7599e68106",
            "83afcbaaf3dd4c09860bea9cb064dc86",
            "7d6e21c1d2704b15b0fbb4dd04a1aab5",
            "e17bb7db4d944762be42da49594b7f5c"
          ]
        },
        "outputId": "2c7b7a1d-8f91-4d60-e52e-3dfa1a9cfbba"
      },
      "source": [
        "# Import da biblioteca\n",
        "from tqdm.notebook import trange\n",
        "\n",
        "QTDE = 10000\n",
        "\n",
        "lista = []\n",
        "\n",
        "for x in trange(QTDE):\n",
        "    lista.append(x**x)"
      ],
      "execution_count": null,
      "outputs": [
        {
          "output_type": "display_data",
          "data": {
            "application/vnd.jupyter.widget-view+json": {
              "model_id": "f01dd763fa584bd6b355c4ef3b101037",
              "version_minor": 0,
              "version_major": 2
            },
            "text/plain": [
              "  0%|          | 0/10000 [00:00<?, ?it/s]"
            ]
          },
          "metadata": {}
        }
      ]
    },
    {
      "cell_type": "markdown",
      "metadata": {
        "id": "X_GDSzZunI6B"
      },
      "source": [
        "Adicionando detalhes a barra de progresso"
      ]
    },
    {
      "cell_type": "code",
      "metadata": {
        "id": "kOkWyRyWm0Sl",
        "colab": {
          "base_uri": "https://localhost:8080/",
          "height": 49,
          "referenced_widgets": [
            "26955a4434e14aa2ba46b1a14de446f1",
            "2f74b39b518049418e0012f81308331a",
            "5685fd2b704e43c1a6721ec099bcae19",
            "6d60cbbd27c042b0be53c884c020e481",
            "bfb5efadf0bf4c5692b74c3bb8371394",
            "ee5f9fe180af4ffdb46aaf954ab70415",
            "21af772c155a49e69ed6862b435750a5",
            "9a6a7d1333604547bba125e52a16424b",
            "564396270ada4963990f277dbb08dafb",
            "972875aab37047fa900ce22c23602e73",
            "19fde843fbf04048ad02fd6b279efee2"
          ]
        },
        "outputId": "7cf73b15-b042-476c-b5ec-c04df7af2b64"
      },
      "source": [
        "# Import da biblioteca\n",
        "from tqdm.notebook import tqdm\n",
        "\n",
        "QTDE = 10000\n",
        "\n",
        "lista = []\n",
        "\n",
        "for x in tqdm(range(QTDE), desc=f\"Contando\", unit=f\"vezes\", total=QTDE):\n",
        "    lista.append(x**x)"
      ],
      "execution_count": null,
      "outputs": [
        {
          "output_type": "display_data",
          "data": {
            "application/vnd.jupyter.widget-view+json": {
              "model_id": "26955a4434e14aa2ba46b1a14de446f1",
              "version_minor": 0,
              "version_major": 2
            },
            "text/plain": [
              "Contando:   0%|          | 0/10000 [00:00<?, ?vezes/s]"
            ]
          },
          "metadata": {}
        }
      ]
    },
    {
      "cell_type": "markdown",
      "metadata": {
        "id": "Dvsc1uEjz9HL"
      },
      "source": [
        "Atualizando a barra de progresso."
      ]
    },
    {
      "cell_type": "code",
      "metadata": {
        "id": "RJIMZab4ojDA",
        "colab": {
          "base_uri": "https://localhost:8080/",
          "height": 49,
          "referenced_widgets": [
            "996f275b6e5e48df9cbb36d31a92fb9d",
            "27dbb70f15f44ab99a0873d1b16644da",
            "dda4cd62cdb74f3a80efa71aee1077cb",
            "e21aecdac51b4295bf8edf4a11c177c7",
            "0ec0e48e9f294caf8ac7e7346ea64f8b",
            "28625a6edc444c60bddfe0fd8eb61815",
            "0017a087667f49269283f06a181a602e",
            "bcd09d1a83d7484d9d737f8db6fb874a",
            "cbf8817ec376402792757245c2108dce",
            "fbcc0066fa20477e9a3b3b10fe1d20ad",
            "e644e2737a7741e082c4e4b6ae413800"
          ]
        },
        "outputId": "11e5d1b5-1727-4cc9-db1c-5d12b7700437"
      },
      "source": [
        "# Import da biblioteca\n",
        "from tqdm.notebook import tqdm\n",
        "\n",
        "QTDE = 1000\n",
        "\n",
        "lista = []\n",
        "\n",
        "barra_progresso = tqdm(range(QTDE), desc=f\"Contando\", unit=f\"vezes\", total=QTDE)\n",
        "\n",
        "for x in barra_progresso:\n",
        "    lista.append(x**x)\n",
        "    \n",
        "    # Mostra detalhes na barra de progresso \n",
        "    barra_progresso.set_postfix(tamanho=len(lista))"
      ],
      "execution_count": null,
      "outputs": [
        {
          "output_type": "display_data",
          "data": {
            "application/vnd.jupyter.widget-view+json": {
              "model_id": "996f275b6e5e48df9cbb36d31a92fb9d",
              "version_minor": 0,
              "version_major": 2
            },
            "text/plain": [
              "Contando:   0%|          | 0/1000 [00:00<?, ?vezes/s]"
            ]
          },
          "metadata": {}
        }
      ]
    },
    {
      "cell_type": "markdown",
      "metadata": {
        "id": "2nhj0MdnYZW8"
      },
      "source": [
        "## Exemplo barras com 2 níveis com lista"
      ]
    },
    {
      "cell_type": "code",
      "metadata": {
        "id": "Ec5ekCupYZW9",
        "colab": {
          "base_uri": "https://localhost:8080/",
          "height": 49,
          "referenced_widgets": [
            "24cc085fd30548479cf29a6843309561",
            "53de212cc0044fb4833e337fb5c4fd0a",
            "987f4da04a5847c988ee0babb3fc0489",
            "8f9f39abb75c425b91a7c007386dc166",
            "b272f78256e54edf8a3c0065c66b849e",
            "504209c8a74145f190448b53f184d789",
            "b4fb935a0afd4ae88a133337999cb333",
            "7c47c9ad3ef448ecaeb6242047c54a06",
            "3603ddb247e5422a8b504770a5db1edb",
            "5c1963c68d874f4a8f33ac8f67d0e5b7",
            "f717f2736aa4428bb9280865bc9bf83b",
            "403025fca2944ea2a89b37c0b1bc1960",
            "57d52e61a52d4d79a6918b588cd5adbd",
            "c32a7add5f2745f4a63d30dc8aea0e02",
            "475fa196b03a4555b4c9ab73c6ff901c",
            "ef9f25072943441faea76732f8005f5e",
            "9141a7f934cb44a195c994c7d61d4fde",
            "62ac79a61c6641ccaab064b29e90f777",
            "0f21e94c292e479c948db7a78629621a",
            "5c84384aa22948a9b6184c7bd7492b76",
            "074448a2cc554e54a9b1b972607b5ab3",
            "c086c938c5234939a2d9955e1763e019",
            "84853efe59eb4c798544d54e0a0a980b",
            "cf72b252284f47a58b4fd7afed3b022b",
            "f37cad92f2f74687b4fb780746406db8",
            "6683ee5812244105935ab0a04b5d0d79",
            "c2608af61d90429c85e3af1ac1540af2",
            "f9c1e87dfc2241728a93c1eb7aeca2a9",
            "6014880beeed4ac09170110cba5f6e27",
            "36234232a77c46379e1a648cf9ee334e",
            "02a50ba085a94c948d156eb75771b146",
            "a5b06e8647b64b52a689dc9bac8af2e4",
            "c2d0e3c2846f4cc4a9d1a91202438f98",
            "206c282bc4504779a4d69941fba50bb7",
            "ef3d4eca97604489910c40d5282bf3cb",
            "97c9cf9a0d1e415eaea10d4b1892d3c6",
            "e616356f6a9f45a6abb55847a5961cf5",
            "069df514c5ff4eb0936dcc4e9e0a28aa",
            "9a2a98027bdc41ee8603372c9265cc84",
            "aa117f94bd6948a6945fec4bb4481fe4",
            "ac93047d679e47fd8c6e65b508af4598",
            "9d4738e92c7746babe07a55284729ee7",
            "493f206e197d41d6866de9a11f79612b",
            "fdd58a85a82f40a5a09d77f9f232d2a5",
            "33598379b60743c3875725b6e27d2e5a",
            "7d99279e56394453ac3f2f14e8342756",
            "60428aa3c2914929a3ddeedb8d59432d",
            "f96cceda1629494aba3074452aa747ec",
            "2834f1a3049a48c89f0ecf602f3bfd2d",
            "90d2ceea623e42c78a516145c4c7e9f3",
            "e51df244871c4045af0491444770d670",
            "eef192c0764b4bafb5f6a293bbdc342b",
            "b27c6378e0fc43aa8bf84873fc69da53",
            "1f07fef3a68748f2b11fd5c619007cc9",
            "b681b50abdbe4b5d82296d2fd26c1c9d",
            "6c163e05a2164726bac5a987cc5c6fcc",
            "9e1b52740ebb4fcab673443298f1d401",
            "f62050dff29741e0ab514a600b5493cf",
            "e0c01240d7404cf09e836d0676625ca6",
            "f7ae6eabf90444aca94f84e7fad820b9",
            "802035a709084e428075b275f85f03a2",
            "ac9ed164ca444b69b869567459362a5e",
            "196d8dc0f9d44330bbf066aec6af1ef0",
            "e43a4067dfad483d875d223f6a5cd060",
            "62a4150460ad439e833864ed4913662e",
            "3fedf5045fc14fa9becb8d317c26a97b"
          ]
        },
        "outputId": "3db0b8a5-730a-42e4-986a-38fa56ac2144"
      },
      "source": [
        "# Import da biblioteca\n",
        "from tqdm.notebook import tqdm\n",
        "from time import sleep\n",
        "\n",
        "for x in tqdm(range(5), desc=f\"1o Laço\"):\n",
        "    for y in tqdm(range(100), desc=f\"2o Laço\", leave=False):\n",
        "        # Retarda o laço em 0.01 segundos\n",
        "        sleep(0.02)"
      ],
      "execution_count": null,
      "outputs": [
        {
          "output_type": "display_data",
          "data": {
            "application/vnd.jupyter.widget-view+json": {
              "model_id": "24cc085fd30548479cf29a6843309561",
              "version_minor": 0,
              "version_major": 2
            },
            "text/plain": [
              "1o Laço:   0%|          | 0/5 [00:00<?, ?it/s]"
            ]
          },
          "metadata": {}
        },
        {
          "output_type": "display_data",
          "data": {
            "application/vnd.jupyter.widget-view+json": {
              "model_id": "403025fca2944ea2a89b37c0b1bc1960",
              "version_minor": 0,
              "version_major": 2
            },
            "text/plain": [
              "2o Laço:   0%|          | 0/100 [00:00<?, ?it/s]"
            ]
          },
          "metadata": {}
        },
        {
          "output_type": "display_data",
          "data": {
            "application/vnd.jupyter.widget-view+json": {
              "model_id": "84853efe59eb4c798544d54e0a0a980b",
              "version_minor": 0,
              "version_major": 2
            },
            "text/plain": [
              "2o Laço:   0%|          | 0/100 [00:00<?, ?it/s]"
            ]
          },
          "metadata": {}
        },
        {
          "output_type": "display_data",
          "data": {
            "application/vnd.jupyter.widget-view+json": {
              "model_id": "206c282bc4504779a4d69941fba50bb7",
              "version_minor": 0,
              "version_major": 2
            },
            "text/plain": [
              "2o Laço:   0%|          | 0/100 [00:00<?, ?it/s]"
            ]
          },
          "metadata": {}
        },
        {
          "output_type": "display_data",
          "data": {
            "application/vnd.jupyter.widget-view+json": {
              "model_id": "33598379b60743c3875725b6e27d2e5a",
              "version_minor": 0,
              "version_major": 2
            },
            "text/plain": [
              "2o Laço:   0%|          | 0/100 [00:00<?, ?it/s]"
            ]
          },
          "metadata": {}
        },
        {
          "output_type": "display_data",
          "data": {
            "application/vnd.jupyter.widget-view+json": {
              "model_id": "6c163e05a2164726bac5a987cc5c6fcc",
              "version_minor": 0,
              "version_major": 2
            },
            "text/plain": [
              "2o Laço:   0%|          | 0/100 [00:00<?, ?it/s]"
            ]
          },
          "metadata": {}
        }
      ]
    },
    {
      "cell_type": "markdown",
      "metadata": {
        "id": "40_b4jIFf9kP"
      },
      "source": [
        "## Exemplo barras com pandas"
      ]
    },
    {
      "cell_type": "code",
      "metadata": {
        "id": "xz59Og8_f9kQ",
        "colab": {
          "base_uri": "https://localhost:8080/",
          "height": 309,
          "referenced_widgets": [
            "f94b2d8aedcc4d6e9ae5f7bc99ecd024",
            "3e3887e50ccd402eada75e8b88e04465",
            "d22f28b10867486d87e1ee53377363ae",
            "c870e2edc3ab49b28159ce3d96d985a8",
            "0ce6a5eab0cf42c09664bb18a86514b7",
            "d3b8e52e9b84478abb2a293454ec1c38",
            "d4e3880179e2433e87664f4c34deb355",
            "3a50fb24f6d04d4c911188a5829f1f36",
            "9ff2359c0cb54323958859f7aab2c3cb",
            "39869fcde5ce49bba0161059db00ce5e",
            "d858f76dfeca40109d114cce66ca33c2"
          ]
        },
        "outputId": "12ff2697-9388-4623-fa90-4edabe0d8284"
      },
      "source": [
        "# Import da biblioteca\n",
        "from tqdm.notebook import tqdm\n",
        "from time import sleep\n",
        "import pandas as pd\n",
        "\n",
        "# Lista utilizada \n",
        "lista = [[1, \"Joao\"],\n",
        "         [2, \"Maria\"],\n",
        "         [3, \"Pedro\"],\n",
        "         [4, \"Luiz\"],\n",
        "         [5, \"José\"]]\n",
        "\n",
        "# Converte em um dataframe\n",
        "dfdados = pd.DataFrame(lista, columns=(\"codigo\", \"nome\")) \n",
        "\n",
        "for index, linha in tqdm(dfdados.iterrows(), desc=f\"Clientes\", unit=f\"cliente\", total=dfdados.shape[0]):\n",
        "   # Retarda o laço em 0.01 segundos\n",
        "   sleep(1)\n",
        "   # Mostra os dados\n",
        "   print(index, linha)"
      ],
      "execution_count": null,
      "outputs": [
        {
          "output_type": "display_data",
          "data": {
            "application/vnd.jupyter.widget-view+json": {
              "model_id": "f94b2d8aedcc4d6e9ae5f7bc99ecd024",
              "version_minor": 0,
              "version_major": 2
            },
            "text/plain": [
              "Clientes:   0%|          | 0/5 [00:00<?, ?cliente/s]"
            ]
          },
          "metadata": {}
        },
        {
          "output_type": "stream",
          "name": "stdout",
          "text": [
            "0 codigo       1\n",
            "nome      Joao\n",
            "Name: 0, dtype: object\n",
            "1 codigo        2\n",
            "nome      Maria\n",
            "Name: 1, dtype: object\n",
            "2 codigo        3\n",
            "nome      Pedro\n",
            "Name: 2, dtype: object\n",
            "3 codigo       4\n",
            "nome      Luiz\n",
            "Name: 3, dtype: object\n",
            "4 codigo       5\n",
            "nome      José\n",
            "Name: 4, dtype: object\n"
          ]
        }
      ]
    },
    {
      "cell_type": "markdown",
      "metadata": {
        "id": "A8bamUWrJG3j"
      },
      "source": [
        "# Funções de tempo."
      ]
    },
    {
      "cell_type": "markdown",
      "metadata": {
        "id": "Mw8KyNOJJLwf"
      },
      "source": [
        "## Soma de tempo\n",
        "\n",
        "Calcula a soma de uma lista de tempo string no formato hh:mm:ss"
      ]
    },
    {
      "cell_type": "code",
      "metadata": {
        "id": "V4gekVLwJIcD"
      },
      "source": [
        "def somaTempo(tempos):\n",
        "    \"\"\"\n",
        "    Calcula a soma de uma lista de tempo string no formato hh:mm:ss\n",
        "    \"\"\"\n",
        "    t = (tempo.split(\":\") for tempo in tempos)\n",
        "    # Converte para segundos\n",
        "    segundos = ((float(s) + int(m) * 60 + int(h) * 3600) for h, m, s in t)\n",
        "    # Soma os segundos\n",
        "    soma_segundos = sum([s * 1. for s in segundos])\n",
        "    # Recupera as horas e os minutos   \n",
        "    h, m = divmod(soma_segundos, 3600)\n",
        "    # Recupera os minutos e os segundos\n",
        "    m, s = divmod(m, 60)    \n",
        "    return \"{:02d}:{:02d}:{:02d}\".format(int(h), int(m), int(s))"
      ],
      "execution_count": null,
      "outputs": []
    },
    {
      "cell_type": "code",
      "metadata": {
        "id": "DX_9PW3rJTC8",
        "colab": {
          "base_uri": "https://localhost:8080/"
        },
        "outputId": "358becf6-f21c-4712-eb3b-cb1b02c4acd9"
      },
      "source": [
        "listaTempo = []\n",
        "\n",
        "listaTempo.append(\"1:10:00\")\n",
        "listaTempo.append(\"1:15:00\")\n",
        "\n",
        "print(somaTempo(listaTempo))"
      ],
      "execution_count": null,
      "outputs": [
        {
          "output_type": "stream",
          "name": "stdout",
          "text": [
            "02:25:00\n"
          ]
        }
      ]
    },
    {
      "cell_type": "markdown",
      "metadata": {
        "id": "VQuuyq8-JkdK"
      },
      "source": [
        "## Média de tempo\n",
        "\n",
        "Calcula a média de uma lista de tempo string no formato hh:mm:ss"
      ]
    },
    {
      "cell_type": "code",
      "metadata": {
        "id": "XfCOca1uJkdZ"
      },
      "source": [
        "# Import das bibliotecas.\n",
        "from cmath import rect, phase\n",
        "from math import radians, degrees\n",
        "  \n",
        "def mediaAngulo(deg):\n",
        "    return degrees(phase(sum(rect(1, radians(d)) for d in deg)/len(deg)))\n",
        " \n",
        "def mediaTempo(tempos):\n",
        "    \"\"\"\n",
        "    Calcula a média de uma lista de tempo string no formato hh:mm:ss\n",
        "    \"\"\"\n",
        "    t = (tempo.split(\":\") for tempo in tempos)\n",
        "    # Converte para segundos\n",
        "    segundos = ((float(s) + int(m) * 60 + int(h) * 3600) for h, m, s in t)\n",
        "    # Verifica se deu algum dia\n",
        "    dia = 24 * 60 * 60\n",
        "    # Converte para angulos\n",
        "    paraAngulos = [s * 360. / dia for s in segundos]\n",
        "    # Calcula a média dos angulos\n",
        "    mediaComoAngulo = mediaAngulo(paraAngulos)\n",
        "    media_segundos = mediaComoAngulo * dia / 360.\n",
        "    if media_segundos < 0:\n",
        "        media_segundos += dia\n",
        "    # Recupera as horas e os minutos  \n",
        "    h, m = divmod(media_segundos, 3600)\n",
        "    # Recupera os minutos e os segundos\n",
        "    m, s = divmod(m, 60)    \n",
        "    return \"{:02d}:{:02d}:{:02d}\".format(int(h), int(m), int(s))"
      ],
      "execution_count": null,
      "outputs": []
    },
    {
      "cell_type": "code",
      "metadata": {
        "id": "70LONLkuJkda",
        "colab": {
          "base_uri": "https://localhost:8080/"
        },
        "outputId": "8d0a0c9a-2829-4d63-e47b-4df5d3072e37"
      },
      "source": [
        "listaTempo = []\n",
        "\n",
        "listaTempo.append(\"1:30:00\")\n",
        "listaTempo.append(\"1:45:00\")\n",
        "\n",
        "print(mediaTempo(listaTempo))"
      ],
      "execution_count": null,
      "outputs": [
        {
          "output_type": "stream",
          "name": "stdout",
          "text": [
            "01:37:30\n"
          ]
        }
      ]
    },
    {
      "cell_type": "markdown",
      "metadata": {
        "id": "6BeOki83y6pL"
      },
      "source": [
        "# Roleta"
      ]
    },
    {
      "cell_type": "markdown",
      "metadata": {
        "id": "2EOMFMyiy_BA"
      },
      "source": [
        "## Roleta **com** repetição do elemento sorteado\n",
        "\n",
        "Um elemento pode ser sorteado mais de uma vez."
      ]
    },
    {
      "cell_type": "code",
      "metadata": {
        "id": "VIEFvfXozD9F",
        "colab": {
          "base_uri": "https://localhost:8080/"
        },
        "outputId": "37750006-2601-42c1-ab5a-f7c932f051f2"
      },
      "source": [
        "# Import das bibliotecas\n",
        "from random import randint\n",
        "\n",
        "# Lista dos elementos a serem sorteados\n",
        "lista = [\"João\",\"Maria\",\"Pedro\",\"Jose\",\"André\",\"Fernando\"]\n",
        "\n",
        "for i in range(len(lista)):\n",
        "  # Sorteio de um número da roleta\n",
        "  sorteio = randint(1,len(lista))\n",
        "\n",
        "  # Os índices da lista começam em 0, portanto se desconta 1\n",
        "  sorteio = sorteio -1\n",
        "      \n",
        "  # Recupera a frase sorteada\n",
        "  texto_sorteado = lista[sorteio]\n",
        "       \n",
        "  # Mostra o elemento sorteado\n",
        "  print(i,\"-\",texto_sorteado)"
      ],
      "execution_count": null,
      "outputs": [
        {
          "output_type": "stream",
          "name": "stdout",
          "text": [
            "0 - Pedro\n",
            "1 - Jose\n",
            "2 - André\n",
            "3 - Fernando\n",
            "4 - João\n",
            "5 - Pedro\n"
          ]
        }
      ]
    },
    {
      "cell_type": "markdown",
      "metadata": {
        "id": "-h5_tg7mzEJc"
      },
      "source": [
        "## Roleta **sem** repetição dos números sorteados\n",
        "\n",
        "Um elemento só pode ser sorteado uma vez."
      ]
    },
    {
      "cell_type": "code",
      "metadata": {
        "id": "rX9MAf4qzIbs",
        "colab": {
          "base_uri": "https://localhost:8080/"
        },
        "outputId": "ebbcfb63-6b8b-4d8d-b573-47b1d262904e"
      },
      "source": [
        "# Import das bibliotecas\n",
        "from random import randint\n",
        "\n",
        "# Lista dos elementos a serem sorteados\n",
        "lista = [\"João\",\"Maria\",\"Pedro\",\"Jose\",\"André\",\"Fernando\"]\n",
        "\n",
        "for i in range(len(lista)):\n",
        "  # Sorteio de um número da roleta\n",
        "  sorteio = randint(1,len(lista))\n",
        "\n",
        "  # Os índices da lista começam em 0, portanto se desconta 1\n",
        "  sorteio = sorteio -1\n",
        "      \n",
        "  # Recupera o elemento sorteado\n",
        "  texto_sorteado = lista[sorteio]\n",
        "\n",
        "  # Remove a frase sorteada, para que a oração não seja mais sorteada\n",
        "  del lista[sorteio]\n",
        "        \n",
        "  # Mostra o elemento sorteado\n",
        "  print(i,\"-\",texto_sorteado)"
      ],
      "execution_count": null,
      "outputs": [
        {
          "output_type": "stream",
          "name": "stdout",
          "text": [
            "0 - Jose\n",
            "1 - André\n",
            "2 - Fernando\n",
            "3 - João\n",
            "4 - Pedro\n",
            "5 - Maria\n"
          ]
        }
      ]
    },
    {
      "cell_type": "markdown",
      "metadata": {
        "id": "O4CF_vAclai-"
      },
      "source": [
        "# Comparando pares diferentes de 0\n",
        "\n",
        "Percorre o vetor de valores comparando pares sucessivos desde que o valor seja diferente 0."
      ]
    },
    {
      "cell_type": "code",
      "metadata": {
        "id": "pE9e1_k9lavz",
        "colab": {
          "base_uri": "https://localhost:8080/"
        },
        "outputId": "3de2f77d-817b-48af-9038-48fb4af352a2"
      },
      "source": [
        "# Lista dos valores\n",
        "valores = [1,0,1,1,0,1]\n",
        "n = len(valores)\n",
        "divisor = n - 1\n",
        "\n",
        "# Aculama a soma dos valores\n",
        "soma = 0\n",
        "\n",
        "# Indíces dos pares iniciais\n",
        "pos1 = 0\n",
        "pos2 = pos1 + 1\n",
        "\n",
        "#Enquanto o índice do 2o valor não chegou ao final da listta de valores\n",
        "while pos2 <= (n -1):\n",
        "\n",
        "  # Recupera os valores\n",
        "  val1 = valores[pos1]  \n",
        "  val2 = valores[pos2]\n",
        "\n",
        "  if val1 != 0 and val2 != 0:\n",
        "      print(\"Par:\", pos1, pos2, \" valores:\", val1, val2)      \n",
        "      soma = soma + (val1  + val2)\n",
        "      # avança para o próximo par\n",
        "      pos1 = pos2\n",
        "      pos2 = pos2 + 1\n",
        "  else:\n",
        "    divisor = divisor - 1\n",
        "    # Se pos1 igual a 0 avanca pos1 e pos2\n",
        "    if val1 == 0:\n",
        "        pos1 = pos2\n",
        "        pos2 = pos2 + 1        \n",
        "    else:\n",
        "      # Se pos2 = 0 avança pos2\n",
        "      if val2 == 0:\n",
        "        pos2 = pos2 + 1\n",
        "            \n",
        "# Calcula a média da comparação dos pares            \n",
        "print(\"soma:\",soma)\n",
        "if (divisor != 0):\n",
        "  print(\"media:\",soma/divisor)\n",
        "else:\n",
        "  print(\"media:\",0)"
      ],
      "execution_count": null,
      "outputs": [
        {
          "output_type": "stream",
          "name": "stdout",
          "text": [
            "Par: 0 2  valores: 1 1\n",
            "Par: 2 3  valores: 1 1\n",
            "Par: 3 5  valores: 1 1\n",
            "soma: 6\n",
            "media: 2.0\n"
          ]
        }
      ]
    },
    {
      "cell_type": "markdown",
      "metadata": {
        "id": "opphp_nBzPO3"
      },
      "source": [
        "# Versão Python"
      ]
    },
    {
      "cell_type": "code",
      "metadata": {
        "id": "A6cmlG0ezSI-",
        "colab": {
          "base_uri": "https://localhost:8080/"
        },
        "outputId": "a27885f7-edbe-4933-e2a7-b3a3d7c4d74b"
      },
      "source": [
        "!python --version"
      ],
      "execution_count": null,
      "outputs": [
        {
          "output_type": "stream",
          "name": "stdout",
          "text": [
            "Python 3.7.12\n"
          ]
        }
      ]
    },
    {
      "cell_type": "markdown",
      "metadata": {
        "id": "BtMU-XVKJibN"
      },
      "source": [
        "# Previnir que a sessão seja desconectada\n",
        "\n",
        "\n",
        "https://medium.com/@shivamrawat_756/how-to-prevent-google-colab-from-disconnecting-717b88a128c0\n",
        "\n",
        "Pressione:\n",
        "```\n",
        "Ctrl+Shift+i\n",
        "```\n",
        "\n",
        "Insira o código abaixo no console e de enter:\n",
        "```\n",
        "função  ClickConnect () { \n",
        "console.log (\"Funcionando\"); \n",
        "document.querySelector (\"colab-toolbar-button\"). click () \n",
        "} setInterval (ClickConnect, 60000)\n",
        "```\n",
        "\n"
      ]
    },
    {
      "cell_type": "markdown",
      "metadata": {
        "id": "iGRe2RsijK84"
      },
      "source": [
        "# Formatar célula de texto\n",
        "\n",
        "https://ichi.pro/pt/folha-de-referencias-do-google-colab-109423812460691"
      ]
    },
    {
      "cell_type": "markdown",
      "metadata": {
        "id": "kh3TuNb2zDnY"
      },
      "source": [
        "# Rodando Notebook do Google Colaboratory no Jupyter Notebook pelo Anaconda\n",
        "\n",
        "https://medium.com/analytics-vidhya/getting-started-with-python-anaconda-google-colab-and-virtual-environments-1ce8fc3286f9\n",
        "\n",
        "Configuração da  máquina local:\n",
        "\n",
        "**1)   Instalar o Jupyter** (instalar o Jupyter Notebook pelo Anaconda Toolkit)\n",
        "\n",
        "https://www.anaconda.com/products/individual\n",
        "\n",
        "**2) Instalar e Habilitar a extensão `jupyter_http_over_ws`**\n",
        "\n",
        "`pip install jupyter_http_over_ws`\n",
        "\n",
        "`jupyter serverextension enable --py jupyter_http_over_ws`\n",
        "\n",
        "**3) Rodar o Jupyter Notebook e permitir acesso ao Google Colaboratory**\n",
        "\n",
        "`jupyter notebook --NotebookApp.allow_origin=\"https://colab.research.google.com\" --port=8888 --NotebookApp.port_retries=0`\n",
        "\n",
        "**4) Conectar a uma execução local (RunTime Local)**\n",
        "\n",
        "No Google Colaboratory, clique no botão \"Connect\" e selecione \"Connect to local runtime\" Digite o URL da etapa anterior na caixa de diálogo exibida e clique no botão \"Connect\"."
      ]
    }
  ]
}