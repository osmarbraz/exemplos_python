{
  "nbformat": 4,
  "nbformat_minor": 0,
  "metadata": {
    "colab": {
      "name": "ExemplosPython.ipynb",
      "provenance": [],
      "collapsed_sections": [],
      "toc_visible": true,
      "include_colab_link": true
    },
    "kernelspec": {
      "name": "python3",
      "display_name": "Python 3"
    },
    "widgets": {
      "application/vnd.jupyter.widget-state+json": {
        "7f6b78ea11804fe1a562a832f959773c": {
          "model_module": "@jupyter-widgets/controls",
          "model_name": "HBoxModel",
          "state": {
            "_view_name": "HBoxView",
            "_dom_classes": [],
            "_model_name": "HBoxModel",
            "_view_module": "@jupyter-widgets/controls",
            "_model_module_version": "1.5.0",
            "_view_count": null,
            "_view_module_version": "1.5.0",
            "box_style": "",
            "layout": "IPY_MODEL_885d36a47ab34ca2866688ccdbb4d933",
            "_model_module": "@jupyter-widgets/controls",
            "children": [
              "IPY_MODEL_5bd5c13409f945fa92f9af54a3954d52",
              "IPY_MODEL_2d8d0929ee3f40deb494e7a5c2e7b986"
            ]
          }
        },
        "885d36a47ab34ca2866688ccdbb4d933": {
          "model_module": "@jupyter-widgets/base",
          "model_name": "LayoutModel",
          "state": {
            "_view_name": "LayoutView",
            "grid_template_rows": null,
            "right": null,
            "justify_content": null,
            "_view_module": "@jupyter-widgets/base",
            "overflow": null,
            "_model_module_version": "1.2.0",
            "_view_count": null,
            "flex_flow": null,
            "width": null,
            "min_width": null,
            "border": null,
            "align_items": null,
            "bottom": null,
            "_model_module": "@jupyter-widgets/base",
            "top": null,
            "grid_column": null,
            "overflow_y": null,
            "overflow_x": null,
            "grid_auto_flow": null,
            "grid_area": null,
            "grid_template_columns": null,
            "flex": null,
            "_model_name": "LayoutModel",
            "justify_items": null,
            "grid_row": null,
            "max_height": null,
            "align_content": null,
            "visibility": null,
            "align_self": null,
            "height": null,
            "min_height": null,
            "padding": null,
            "grid_auto_rows": null,
            "grid_gap": null,
            "max_width": null,
            "order": null,
            "_view_module_version": "1.2.0",
            "grid_template_areas": null,
            "object_position": null,
            "object_fit": null,
            "grid_auto_columns": null,
            "margin": null,
            "display": null,
            "left": null
          }
        },
        "5bd5c13409f945fa92f9af54a3954d52": {
          "model_module": "@jupyter-widgets/controls",
          "model_name": "FloatProgressModel",
          "state": {
            "_view_name": "ProgressView",
            "style": "IPY_MODEL_bd444533aef045d7a8815ad5a46a80f6",
            "_dom_classes": [],
            "description": "100%",
            "_model_name": "FloatProgressModel",
            "bar_style": "success",
            "max": 10000,
            "_view_module": "@jupyter-widgets/controls",
            "_model_module_version": "1.5.0",
            "value": 10000,
            "_view_count": null,
            "_view_module_version": "1.5.0",
            "orientation": "horizontal",
            "min": 0,
            "description_tooltip": null,
            "_model_module": "@jupyter-widgets/controls",
            "layout": "IPY_MODEL_bd2da04f4591462f8108e2ed34bf627b"
          }
        },
        "2d8d0929ee3f40deb494e7a5c2e7b986": {
          "model_module": "@jupyter-widgets/controls",
          "model_name": "HTMLModel",
          "state": {
            "_view_name": "HTMLView",
            "style": "IPY_MODEL_3a409d556141457eb1fc69e4e81a458f",
            "_dom_classes": [],
            "description": "",
            "_model_name": "HTMLModel",
            "placeholder": "​",
            "_view_module": "@jupyter-widgets/controls",
            "_model_module_version": "1.5.0",
            "value": " 10000/10000 [00:06&lt;00:00, 1538.42it/s]",
            "_view_count": null,
            "_view_module_version": "1.5.0",
            "description_tooltip": null,
            "_model_module": "@jupyter-widgets/controls",
            "layout": "IPY_MODEL_77abcc02f5644ffaba714ae15b9c6926"
          }
        },
        "bd444533aef045d7a8815ad5a46a80f6": {
          "model_module": "@jupyter-widgets/controls",
          "model_name": "ProgressStyleModel",
          "state": {
            "_view_name": "StyleView",
            "_model_name": "ProgressStyleModel",
            "description_width": "initial",
            "_view_module": "@jupyter-widgets/base",
            "_model_module_version": "1.5.0",
            "_view_count": null,
            "_view_module_version": "1.2.0",
            "bar_color": null,
            "_model_module": "@jupyter-widgets/controls"
          }
        },
        "bd2da04f4591462f8108e2ed34bf627b": {
          "model_module": "@jupyter-widgets/base",
          "model_name": "LayoutModel",
          "state": {
            "_view_name": "LayoutView",
            "grid_template_rows": null,
            "right": null,
            "justify_content": null,
            "_view_module": "@jupyter-widgets/base",
            "overflow": null,
            "_model_module_version": "1.2.0",
            "_view_count": null,
            "flex_flow": null,
            "width": null,
            "min_width": null,
            "border": null,
            "align_items": null,
            "bottom": null,
            "_model_module": "@jupyter-widgets/base",
            "top": null,
            "grid_column": null,
            "overflow_y": null,
            "overflow_x": null,
            "grid_auto_flow": null,
            "grid_area": null,
            "grid_template_columns": null,
            "flex": null,
            "_model_name": "LayoutModel",
            "justify_items": null,
            "grid_row": null,
            "max_height": null,
            "align_content": null,
            "visibility": null,
            "align_self": null,
            "height": null,
            "min_height": null,
            "padding": null,
            "grid_auto_rows": null,
            "grid_gap": null,
            "max_width": null,
            "order": null,
            "_view_module_version": "1.2.0",
            "grid_template_areas": null,
            "object_position": null,
            "object_fit": null,
            "grid_auto_columns": null,
            "margin": null,
            "display": null,
            "left": null
          }
        },
        "3a409d556141457eb1fc69e4e81a458f": {
          "model_module": "@jupyter-widgets/controls",
          "model_name": "DescriptionStyleModel",
          "state": {
            "_view_name": "StyleView",
            "_model_name": "DescriptionStyleModel",
            "description_width": "",
            "_view_module": "@jupyter-widgets/base",
            "_model_module_version": "1.5.0",
            "_view_count": null,
            "_view_module_version": "1.2.0",
            "_model_module": "@jupyter-widgets/controls"
          }
        },
        "77abcc02f5644ffaba714ae15b9c6926": {
          "model_module": "@jupyter-widgets/base",
          "model_name": "LayoutModel",
          "state": {
            "_view_name": "LayoutView",
            "grid_template_rows": null,
            "right": null,
            "justify_content": null,
            "_view_module": "@jupyter-widgets/base",
            "overflow": null,
            "_model_module_version": "1.2.0",
            "_view_count": null,
            "flex_flow": null,
            "width": null,
            "min_width": null,
            "border": null,
            "align_items": null,
            "bottom": null,
            "_model_module": "@jupyter-widgets/base",
            "top": null,
            "grid_column": null,
            "overflow_y": null,
            "overflow_x": null,
            "grid_auto_flow": null,
            "grid_area": null,
            "grid_template_columns": null,
            "flex": null,
            "_model_name": "LayoutModel",
            "justify_items": null,
            "grid_row": null,
            "max_height": null,
            "align_content": null,
            "visibility": null,
            "align_self": null,
            "height": null,
            "min_height": null,
            "padding": null,
            "grid_auto_rows": null,
            "grid_gap": null,
            "max_width": null,
            "order": null,
            "_view_module_version": "1.2.0",
            "grid_template_areas": null,
            "object_position": null,
            "object_fit": null,
            "grid_auto_columns": null,
            "margin": null,
            "display": null,
            "left": null
          }
        },
        "122406157d764c4e91ce7639a2acc4b5": {
          "model_module": "@jupyter-widgets/controls",
          "model_name": "HBoxModel",
          "state": {
            "_view_name": "HBoxView",
            "_dom_classes": [],
            "_model_name": "HBoxModel",
            "_view_module": "@jupyter-widgets/controls",
            "_model_module_version": "1.5.0",
            "_view_count": null,
            "_view_module_version": "1.5.0",
            "box_style": "",
            "layout": "IPY_MODEL_2c2388b7f61847189fc4e7455bbc9c57",
            "_model_module": "@jupyter-widgets/controls",
            "children": [
              "IPY_MODEL_2f20caec4b99455882560b3891f42a67",
              "IPY_MODEL_001c6d4bc4d04184b95ab9552abc6989"
            ]
          }
        },
        "2c2388b7f61847189fc4e7455bbc9c57": {
          "model_module": "@jupyter-widgets/base",
          "model_name": "LayoutModel",
          "state": {
            "_view_name": "LayoutView",
            "grid_template_rows": null,
            "right": null,
            "justify_content": null,
            "_view_module": "@jupyter-widgets/base",
            "overflow": null,
            "_model_module_version": "1.2.0",
            "_view_count": null,
            "flex_flow": null,
            "width": null,
            "min_width": null,
            "border": null,
            "align_items": null,
            "bottom": null,
            "_model_module": "@jupyter-widgets/base",
            "top": null,
            "grid_column": null,
            "overflow_y": null,
            "overflow_x": null,
            "grid_auto_flow": null,
            "grid_area": null,
            "grid_template_columns": null,
            "flex": null,
            "_model_name": "LayoutModel",
            "justify_items": null,
            "grid_row": null,
            "max_height": null,
            "align_content": null,
            "visibility": null,
            "align_self": null,
            "height": null,
            "min_height": null,
            "padding": null,
            "grid_auto_rows": null,
            "grid_gap": null,
            "max_width": null,
            "order": null,
            "_view_module_version": "1.2.0",
            "grid_template_areas": null,
            "object_position": null,
            "object_fit": null,
            "grid_auto_columns": null,
            "margin": null,
            "display": null,
            "left": null
          }
        },
        "2f20caec4b99455882560b3891f42a67": {
          "model_module": "@jupyter-widgets/controls",
          "model_name": "FloatProgressModel",
          "state": {
            "_view_name": "ProgressView",
            "style": "IPY_MODEL_7beca3feb964496e86823913e6f93d34",
            "_dom_classes": [],
            "description": "1o Laço: 100%",
            "_model_name": "FloatProgressModel",
            "bar_style": "success",
            "max": 5,
            "_view_module": "@jupyter-widgets/controls",
            "_model_module_version": "1.5.0",
            "value": 5,
            "_view_count": null,
            "_view_module_version": "1.5.0",
            "orientation": "horizontal",
            "min": 0,
            "description_tooltip": null,
            "_model_module": "@jupyter-widgets/controls",
            "layout": "IPY_MODEL_b3d87147717544e69b64dd6a71343974"
          }
        },
        "001c6d4bc4d04184b95ab9552abc6989": {
          "model_module": "@jupyter-widgets/controls",
          "model_name": "HTMLModel",
          "state": {
            "_view_name": "HTMLView",
            "style": "IPY_MODEL_ffb0ca85e5bf405da7295340972f161d",
            "_dom_classes": [],
            "description": "",
            "_model_name": "HTMLModel",
            "placeholder": "​",
            "_view_module": "@jupyter-widgets/controls",
            "_model_module_version": "1.5.0",
            "value": " 5/5 [00:10&lt;00:00,  2.09s/it]",
            "_view_count": null,
            "_view_module_version": "1.5.0",
            "description_tooltip": null,
            "_model_module": "@jupyter-widgets/controls",
            "layout": "IPY_MODEL_8a93202139904a0ba4ff26bcace0fb88"
          }
        },
        "7beca3feb964496e86823913e6f93d34": {
          "model_module": "@jupyter-widgets/controls",
          "model_name": "ProgressStyleModel",
          "state": {
            "_view_name": "StyleView",
            "_model_name": "ProgressStyleModel",
            "description_width": "initial",
            "_view_module": "@jupyter-widgets/base",
            "_model_module_version": "1.5.0",
            "_view_count": null,
            "_view_module_version": "1.2.0",
            "bar_color": null,
            "_model_module": "@jupyter-widgets/controls"
          }
        },
        "b3d87147717544e69b64dd6a71343974": {
          "model_module": "@jupyter-widgets/base",
          "model_name": "LayoutModel",
          "state": {
            "_view_name": "LayoutView",
            "grid_template_rows": null,
            "right": null,
            "justify_content": null,
            "_view_module": "@jupyter-widgets/base",
            "overflow": null,
            "_model_module_version": "1.2.0",
            "_view_count": null,
            "flex_flow": null,
            "width": null,
            "min_width": null,
            "border": null,
            "align_items": null,
            "bottom": null,
            "_model_module": "@jupyter-widgets/base",
            "top": null,
            "grid_column": null,
            "overflow_y": null,
            "overflow_x": null,
            "grid_auto_flow": null,
            "grid_area": null,
            "grid_template_columns": null,
            "flex": null,
            "_model_name": "LayoutModel",
            "justify_items": null,
            "grid_row": null,
            "max_height": null,
            "align_content": null,
            "visibility": null,
            "align_self": null,
            "height": null,
            "min_height": null,
            "padding": null,
            "grid_auto_rows": null,
            "grid_gap": null,
            "max_width": null,
            "order": null,
            "_view_module_version": "1.2.0",
            "grid_template_areas": null,
            "object_position": null,
            "object_fit": null,
            "grid_auto_columns": null,
            "margin": null,
            "display": null,
            "left": null
          }
        },
        "ffb0ca85e5bf405da7295340972f161d": {
          "model_module": "@jupyter-widgets/controls",
          "model_name": "DescriptionStyleModel",
          "state": {
            "_view_name": "StyleView",
            "_model_name": "DescriptionStyleModel",
            "description_width": "",
            "_view_module": "@jupyter-widgets/base",
            "_model_module_version": "1.5.0",
            "_view_count": null,
            "_view_module_version": "1.2.0",
            "_model_module": "@jupyter-widgets/controls"
          }
        },
        "8a93202139904a0ba4ff26bcace0fb88": {
          "model_module": "@jupyter-widgets/base",
          "model_name": "LayoutModel",
          "state": {
            "_view_name": "LayoutView",
            "grid_template_rows": null,
            "right": null,
            "justify_content": null,
            "_view_module": "@jupyter-widgets/base",
            "overflow": null,
            "_model_module_version": "1.2.0",
            "_view_count": null,
            "flex_flow": null,
            "width": null,
            "min_width": null,
            "border": null,
            "align_items": null,
            "bottom": null,
            "_model_module": "@jupyter-widgets/base",
            "top": null,
            "grid_column": null,
            "overflow_y": null,
            "overflow_x": null,
            "grid_auto_flow": null,
            "grid_area": null,
            "grid_template_columns": null,
            "flex": null,
            "_model_name": "LayoutModel",
            "justify_items": null,
            "grid_row": null,
            "max_height": null,
            "align_content": null,
            "visibility": null,
            "align_self": null,
            "height": null,
            "min_height": null,
            "padding": null,
            "grid_auto_rows": null,
            "grid_gap": null,
            "max_width": null,
            "order": null,
            "_view_module_version": "1.2.0",
            "grid_template_areas": null,
            "object_position": null,
            "object_fit": null,
            "grid_auto_columns": null,
            "margin": null,
            "display": null,
            "left": null
          }
        },
        "7af822724d1949cfb12ea6cfabc54c91": {
          "model_module": "@jupyter-widgets/controls",
          "model_name": "HBoxModel",
          "state": {
            "_view_name": "HBoxView",
            "_dom_classes": [],
            "_model_name": "HBoxModel",
            "_view_module": "@jupyter-widgets/controls",
            "_model_module_version": "1.5.0",
            "_view_count": null,
            "_view_module_version": "1.5.0",
            "box_style": "",
            "layout": "IPY_MODEL_5eca6292b51b4f28bfbd95a46eca7eb0",
            "_model_module": "@jupyter-widgets/controls",
            "children": [
              "IPY_MODEL_77464158ae4743f9b386ef0f9a75134a",
              "IPY_MODEL_54ff35d6da2e43d68a784d7353882daf"
            ]
          }
        },
        "5eca6292b51b4f28bfbd95a46eca7eb0": {
          "model_module": "@jupyter-widgets/base",
          "model_name": "LayoutModel",
          "state": {
            "_view_name": "LayoutView",
            "grid_template_rows": null,
            "right": null,
            "justify_content": null,
            "_view_module": "@jupyter-widgets/base",
            "overflow": null,
            "_model_module_version": "1.2.0",
            "_view_count": null,
            "flex_flow": null,
            "width": null,
            "min_width": null,
            "border": null,
            "align_items": null,
            "bottom": null,
            "_model_module": "@jupyter-widgets/base",
            "top": null,
            "grid_column": null,
            "overflow_y": null,
            "overflow_x": null,
            "grid_auto_flow": null,
            "grid_area": null,
            "grid_template_columns": null,
            "flex": null,
            "_model_name": "LayoutModel",
            "justify_items": null,
            "grid_row": null,
            "max_height": null,
            "align_content": null,
            "visibility": null,
            "align_self": null,
            "height": null,
            "min_height": null,
            "padding": null,
            "grid_auto_rows": null,
            "grid_gap": null,
            "max_width": null,
            "order": null,
            "_view_module_version": "1.2.0",
            "grid_template_areas": null,
            "object_position": null,
            "object_fit": null,
            "grid_auto_columns": null,
            "margin": null,
            "display": null,
            "left": null
          }
        },
        "77464158ae4743f9b386ef0f9a75134a": {
          "model_module": "@jupyter-widgets/controls",
          "model_name": "FloatProgressModel",
          "state": {
            "_view_name": "ProgressView",
            "style": "IPY_MODEL_eef63e8cb7c741b987b73ce4e9f0f716",
            "_dom_classes": [],
            "description": "2o Laço: 100%",
            "_model_name": "FloatProgressModel",
            "bar_style": "",
            "max": 100,
            "_view_module": "@jupyter-widgets/controls",
            "_model_module_version": "1.5.0",
            "value": 100,
            "_view_count": null,
            "_view_module_version": "1.5.0",
            "orientation": "horizontal",
            "min": 0,
            "description_tooltip": null,
            "_model_module": "@jupyter-widgets/controls",
            "layout": "IPY_MODEL_a4201f83d0a74987bb77acb0ae1445e7"
          }
        },
        "54ff35d6da2e43d68a784d7353882daf": {
          "model_module": "@jupyter-widgets/controls",
          "model_name": "HTMLModel",
          "state": {
            "_view_name": "HTMLView",
            "style": "IPY_MODEL_c5f24c412c184d64b1a5d8305e61dbd8",
            "_dom_classes": [],
            "description": "",
            "_model_name": "HTMLModel",
            "placeholder": "​",
            "_view_module": "@jupyter-widgets/controls",
            "_model_module_version": "1.5.0",
            "value": " 100/100 [00:02&lt;00:00, 48.79it/s]",
            "_view_count": null,
            "_view_module_version": "1.5.0",
            "description_tooltip": null,
            "_model_module": "@jupyter-widgets/controls",
            "layout": "IPY_MODEL_b729f4c85f6a4aea8c8c3ff293995535"
          }
        },
        "eef63e8cb7c741b987b73ce4e9f0f716": {
          "model_module": "@jupyter-widgets/controls",
          "model_name": "ProgressStyleModel",
          "state": {
            "_view_name": "StyleView",
            "_model_name": "ProgressStyleModel",
            "description_width": "initial",
            "_view_module": "@jupyter-widgets/base",
            "_model_module_version": "1.5.0",
            "_view_count": null,
            "_view_module_version": "1.2.0",
            "bar_color": null,
            "_model_module": "@jupyter-widgets/controls"
          }
        },
        "a4201f83d0a74987bb77acb0ae1445e7": {
          "model_module": "@jupyter-widgets/base",
          "model_name": "LayoutModel",
          "state": {
            "_view_name": "LayoutView",
            "grid_template_rows": null,
            "right": null,
            "justify_content": null,
            "_view_module": "@jupyter-widgets/base",
            "overflow": null,
            "_model_module_version": "1.2.0",
            "_view_count": null,
            "flex_flow": null,
            "width": null,
            "min_width": null,
            "border": null,
            "align_items": null,
            "bottom": null,
            "_model_module": "@jupyter-widgets/base",
            "top": null,
            "grid_column": null,
            "overflow_y": null,
            "overflow_x": null,
            "grid_auto_flow": null,
            "grid_area": null,
            "grid_template_columns": null,
            "flex": null,
            "_model_name": "LayoutModel",
            "justify_items": null,
            "grid_row": null,
            "max_height": null,
            "align_content": null,
            "visibility": null,
            "align_self": null,
            "height": null,
            "min_height": null,
            "padding": null,
            "grid_auto_rows": null,
            "grid_gap": null,
            "max_width": null,
            "order": null,
            "_view_module_version": "1.2.0",
            "grid_template_areas": null,
            "object_position": null,
            "object_fit": null,
            "grid_auto_columns": null,
            "margin": null,
            "display": null,
            "left": null
          }
        },
        "c5f24c412c184d64b1a5d8305e61dbd8": {
          "model_module": "@jupyter-widgets/controls",
          "model_name": "DescriptionStyleModel",
          "state": {
            "_view_name": "StyleView",
            "_model_name": "DescriptionStyleModel",
            "description_width": "",
            "_view_module": "@jupyter-widgets/base",
            "_model_module_version": "1.5.0",
            "_view_count": null,
            "_view_module_version": "1.2.0",
            "_model_module": "@jupyter-widgets/controls"
          }
        },
        "b729f4c85f6a4aea8c8c3ff293995535": {
          "model_module": "@jupyter-widgets/base",
          "model_name": "LayoutModel",
          "state": {
            "_view_name": "LayoutView",
            "grid_template_rows": null,
            "right": null,
            "justify_content": null,
            "_view_module": "@jupyter-widgets/base",
            "overflow": null,
            "_model_module_version": "1.2.0",
            "_view_count": null,
            "flex_flow": null,
            "width": null,
            "min_width": null,
            "border": null,
            "align_items": null,
            "bottom": null,
            "_model_module": "@jupyter-widgets/base",
            "top": null,
            "grid_column": null,
            "overflow_y": null,
            "overflow_x": null,
            "grid_auto_flow": null,
            "grid_area": null,
            "grid_template_columns": null,
            "flex": null,
            "_model_name": "LayoutModel",
            "justify_items": null,
            "grid_row": null,
            "max_height": null,
            "align_content": null,
            "visibility": null,
            "align_self": null,
            "height": null,
            "min_height": null,
            "padding": null,
            "grid_auto_rows": null,
            "grid_gap": null,
            "max_width": null,
            "order": null,
            "_view_module_version": "1.2.0",
            "grid_template_areas": null,
            "object_position": null,
            "object_fit": null,
            "grid_auto_columns": null,
            "margin": null,
            "display": null,
            "left": null
          }
        },
        "e38dd67925e3426ab2f44c3faa043445": {
          "model_module": "@jupyter-widgets/controls",
          "model_name": "HBoxModel",
          "state": {
            "_view_name": "HBoxView",
            "_dom_classes": [],
            "_model_name": "HBoxModel",
            "_view_module": "@jupyter-widgets/controls",
            "_model_module_version": "1.5.0",
            "_view_count": null,
            "_view_module_version": "1.5.0",
            "box_style": "",
            "layout": "IPY_MODEL_83d10fa9e3ab4cd1bba75d855feaa2c9",
            "_model_module": "@jupyter-widgets/controls",
            "children": [
              "IPY_MODEL_7c6237fc03e94b619c5e25ba68680622",
              "IPY_MODEL_178e5a4e4ab64a25bb2645f0643b2fdf"
            ]
          }
        },
        "83d10fa9e3ab4cd1bba75d855feaa2c9": {
          "model_module": "@jupyter-widgets/base",
          "model_name": "LayoutModel",
          "state": {
            "_view_name": "LayoutView",
            "grid_template_rows": null,
            "right": null,
            "justify_content": null,
            "_view_module": "@jupyter-widgets/base",
            "overflow": null,
            "_model_module_version": "1.2.0",
            "_view_count": null,
            "flex_flow": null,
            "width": null,
            "min_width": null,
            "border": null,
            "align_items": null,
            "bottom": null,
            "_model_module": "@jupyter-widgets/base",
            "top": null,
            "grid_column": null,
            "overflow_y": null,
            "overflow_x": null,
            "grid_auto_flow": null,
            "grid_area": null,
            "grid_template_columns": null,
            "flex": null,
            "_model_name": "LayoutModel",
            "justify_items": null,
            "grid_row": null,
            "max_height": null,
            "align_content": null,
            "visibility": null,
            "align_self": null,
            "height": null,
            "min_height": null,
            "padding": null,
            "grid_auto_rows": null,
            "grid_gap": null,
            "max_width": null,
            "order": null,
            "_view_module_version": "1.2.0",
            "grid_template_areas": null,
            "object_position": null,
            "object_fit": null,
            "grid_auto_columns": null,
            "margin": null,
            "display": null,
            "left": null
          }
        },
        "7c6237fc03e94b619c5e25ba68680622": {
          "model_module": "@jupyter-widgets/controls",
          "model_name": "FloatProgressModel",
          "state": {
            "_view_name": "ProgressView",
            "style": "IPY_MODEL_c0b74a1ea4ba43a9be32262fa6047d65",
            "_dom_classes": [],
            "description": "2o Laço: 100%",
            "_model_name": "FloatProgressModel",
            "bar_style": "",
            "max": 100,
            "_view_module": "@jupyter-widgets/controls",
            "_model_module_version": "1.5.0",
            "value": 100,
            "_view_count": null,
            "_view_module_version": "1.5.0",
            "orientation": "horizontal",
            "min": 0,
            "description_tooltip": null,
            "_model_module": "@jupyter-widgets/controls",
            "layout": "IPY_MODEL_6655aa56bc774db0aa80480680e89aa5"
          }
        },
        "178e5a4e4ab64a25bb2645f0643b2fdf": {
          "model_module": "@jupyter-widgets/controls",
          "model_name": "HTMLModel",
          "state": {
            "_view_name": "HTMLView",
            "style": "IPY_MODEL_fb91a1e9123e41e9ac6fbdc9f717379e",
            "_dom_classes": [],
            "description": "",
            "_model_name": "HTMLModel",
            "placeholder": "​",
            "_view_module": "@jupyter-widgets/controls",
            "_model_module_version": "1.5.0",
            "value": " 100/100 [00:02&lt;00:00, 48.81it/s]",
            "_view_count": null,
            "_view_module_version": "1.5.0",
            "description_tooltip": null,
            "_model_module": "@jupyter-widgets/controls",
            "layout": "IPY_MODEL_dba934e126fa4b8ead94535ff2883c60"
          }
        },
        "c0b74a1ea4ba43a9be32262fa6047d65": {
          "model_module": "@jupyter-widgets/controls",
          "model_name": "ProgressStyleModel",
          "state": {
            "_view_name": "StyleView",
            "_model_name": "ProgressStyleModel",
            "description_width": "initial",
            "_view_module": "@jupyter-widgets/base",
            "_model_module_version": "1.5.0",
            "_view_count": null,
            "_view_module_version": "1.2.0",
            "bar_color": null,
            "_model_module": "@jupyter-widgets/controls"
          }
        },
        "6655aa56bc774db0aa80480680e89aa5": {
          "model_module": "@jupyter-widgets/base",
          "model_name": "LayoutModel",
          "state": {
            "_view_name": "LayoutView",
            "grid_template_rows": null,
            "right": null,
            "justify_content": null,
            "_view_module": "@jupyter-widgets/base",
            "overflow": null,
            "_model_module_version": "1.2.0",
            "_view_count": null,
            "flex_flow": null,
            "width": null,
            "min_width": null,
            "border": null,
            "align_items": null,
            "bottom": null,
            "_model_module": "@jupyter-widgets/base",
            "top": null,
            "grid_column": null,
            "overflow_y": null,
            "overflow_x": null,
            "grid_auto_flow": null,
            "grid_area": null,
            "grid_template_columns": null,
            "flex": null,
            "_model_name": "LayoutModel",
            "justify_items": null,
            "grid_row": null,
            "max_height": null,
            "align_content": null,
            "visibility": null,
            "align_self": null,
            "height": null,
            "min_height": null,
            "padding": null,
            "grid_auto_rows": null,
            "grid_gap": null,
            "max_width": null,
            "order": null,
            "_view_module_version": "1.2.0",
            "grid_template_areas": null,
            "object_position": null,
            "object_fit": null,
            "grid_auto_columns": null,
            "margin": null,
            "display": null,
            "left": null
          }
        },
        "fb91a1e9123e41e9ac6fbdc9f717379e": {
          "model_module": "@jupyter-widgets/controls",
          "model_name": "DescriptionStyleModel",
          "state": {
            "_view_name": "StyleView",
            "_model_name": "DescriptionStyleModel",
            "description_width": "",
            "_view_module": "@jupyter-widgets/base",
            "_model_module_version": "1.5.0",
            "_view_count": null,
            "_view_module_version": "1.2.0",
            "_model_module": "@jupyter-widgets/controls"
          }
        },
        "dba934e126fa4b8ead94535ff2883c60": {
          "model_module": "@jupyter-widgets/base",
          "model_name": "LayoutModel",
          "state": {
            "_view_name": "LayoutView",
            "grid_template_rows": null,
            "right": null,
            "justify_content": null,
            "_view_module": "@jupyter-widgets/base",
            "overflow": null,
            "_model_module_version": "1.2.0",
            "_view_count": null,
            "flex_flow": null,
            "width": null,
            "min_width": null,
            "border": null,
            "align_items": null,
            "bottom": null,
            "_model_module": "@jupyter-widgets/base",
            "top": null,
            "grid_column": null,
            "overflow_y": null,
            "overflow_x": null,
            "grid_auto_flow": null,
            "grid_area": null,
            "grid_template_columns": null,
            "flex": null,
            "_model_name": "LayoutModel",
            "justify_items": null,
            "grid_row": null,
            "max_height": null,
            "align_content": null,
            "visibility": null,
            "align_self": null,
            "height": null,
            "min_height": null,
            "padding": null,
            "grid_auto_rows": null,
            "grid_gap": null,
            "max_width": null,
            "order": null,
            "_view_module_version": "1.2.0",
            "grid_template_areas": null,
            "object_position": null,
            "object_fit": null,
            "grid_auto_columns": null,
            "margin": null,
            "display": null,
            "left": null
          }
        },
        "34f62f9fad71437c931b184e0949b8ab": {
          "model_module": "@jupyter-widgets/controls",
          "model_name": "HBoxModel",
          "state": {
            "_view_name": "HBoxView",
            "_dom_classes": [],
            "_model_name": "HBoxModel",
            "_view_module": "@jupyter-widgets/controls",
            "_model_module_version": "1.5.0",
            "_view_count": null,
            "_view_module_version": "1.5.0",
            "box_style": "",
            "layout": "IPY_MODEL_3b82cbd2fa3d480f922e54fee9dfbefa",
            "_model_module": "@jupyter-widgets/controls",
            "children": [
              "IPY_MODEL_f4cc62597a3d4c218d53421cca1782b8",
              "IPY_MODEL_04f6393693ed406080eef0b856139c2c"
            ]
          }
        },
        "3b82cbd2fa3d480f922e54fee9dfbefa": {
          "model_module": "@jupyter-widgets/base",
          "model_name": "LayoutModel",
          "state": {
            "_view_name": "LayoutView",
            "grid_template_rows": null,
            "right": null,
            "justify_content": null,
            "_view_module": "@jupyter-widgets/base",
            "overflow": null,
            "_model_module_version": "1.2.0",
            "_view_count": null,
            "flex_flow": null,
            "width": null,
            "min_width": null,
            "border": null,
            "align_items": null,
            "bottom": null,
            "_model_module": "@jupyter-widgets/base",
            "top": null,
            "grid_column": null,
            "overflow_y": null,
            "overflow_x": null,
            "grid_auto_flow": null,
            "grid_area": null,
            "grid_template_columns": null,
            "flex": null,
            "_model_name": "LayoutModel",
            "justify_items": null,
            "grid_row": null,
            "max_height": null,
            "align_content": null,
            "visibility": null,
            "align_self": null,
            "height": null,
            "min_height": null,
            "padding": null,
            "grid_auto_rows": null,
            "grid_gap": null,
            "max_width": null,
            "order": null,
            "_view_module_version": "1.2.0",
            "grid_template_areas": null,
            "object_position": null,
            "object_fit": null,
            "grid_auto_columns": null,
            "margin": null,
            "display": null,
            "left": null
          }
        },
        "f4cc62597a3d4c218d53421cca1782b8": {
          "model_module": "@jupyter-widgets/controls",
          "model_name": "FloatProgressModel",
          "state": {
            "_view_name": "ProgressView",
            "style": "IPY_MODEL_ea9de6ca68a6465b8393666a72f1761d",
            "_dom_classes": [],
            "description": "2o Laço: 100%",
            "_model_name": "FloatProgressModel",
            "bar_style": "",
            "max": 100,
            "_view_module": "@jupyter-widgets/controls",
            "_model_module_version": "1.5.0",
            "value": 100,
            "_view_count": null,
            "_view_module_version": "1.5.0",
            "orientation": "horizontal",
            "min": 0,
            "description_tooltip": null,
            "_model_module": "@jupyter-widgets/controls",
            "layout": "IPY_MODEL_f159ec895ece47148d33e16041527dc3"
          }
        },
        "04f6393693ed406080eef0b856139c2c": {
          "model_module": "@jupyter-widgets/controls",
          "model_name": "HTMLModel",
          "state": {
            "_view_name": "HTMLView",
            "style": "IPY_MODEL_0a76026c9ffb43efaf9b6c2e54d504a7",
            "_dom_classes": [],
            "description": "",
            "_model_name": "HTMLModel",
            "placeholder": "​",
            "_view_module": "@jupyter-widgets/controls",
            "_model_module_version": "1.5.0",
            "value": " 100/100 [00:02&lt;00:00, 48.78it/s]",
            "_view_count": null,
            "_view_module_version": "1.5.0",
            "description_tooltip": null,
            "_model_module": "@jupyter-widgets/controls",
            "layout": "IPY_MODEL_eeb8b17afad04c5cb5e497bf23d24a5a"
          }
        },
        "ea9de6ca68a6465b8393666a72f1761d": {
          "model_module": "@jupyter-widgets/controls",
          "model_name": "ProgressStyleModel",
          "state": {
            "_view_name": "StyleView",
            "_model_name": "ProgressStyleModel",
            "description_width": "initial",
            "_view_module": "@jupyter-widgets/base",
            "_model_module_version": "1.5.0",
            "_view_count": null,
            "_view_module_version": "1.2.0",
            "bar_color": null,
            "_model_module": "@jupyter-widgets/controls"
          }
        },
        "f159ec895ece47148d33e16041527dc3": {
          "model_module": "@jupyter-widgets/base",
          "model_name": "LayoutModel",
          "state": {
            "_view_name": "LayoutView",
            "grid_template_rows": null,
            "right": null,
            "justify_content": null,
            "_view_module": "@jupyter-widgets/base",
            "overflow": null,
            "_model_module_version": "1.2.0",
            "_view_count": null,
            "flex_flow": null,
            "width": null,
            "min_width": null,
            "border": null,
            "align_items": null,
            "bottom": null,
            "_model_module": "@jupyter-widgets/base",
            "top": null,
            "grid_column": null,
            "overflow_y": null,
            "overflow_x": null,
            "grid_auto_flow": null,
            "grid_area": null,
            "grid_template_columns": null,
            "flex": null,
            "_model_name": "LayoutModel",
            "justify_items": null,
            "grid_row": null,
            "max_height": null,
            "align_content": null,
            "visibility": null,
            "align_self": null,
            "height": null,
            "min_height": null,
            "padding": null,
            "grid_auto_rows": null,
            "grid_gap": null,
            "max_width": null,
            "order": null,
            "_view_module_version": "1.2.0",
            "grid_template_areas": null,
            "object_position": null,
            "object_fit": null,
            "grid_auto_columns": null,
            "margin": null,
            "display": null,
            "left": null
          }
        },
        "0a76026c9ffb43efaf9b6c2e54d504a7": {
          "model_module": "@jupyter-widgets/controls",
          "model_name": "DescriptionStyleModel",
          "state": {
            "_view_name": "StyleView",
            "_model_name": "DescriptionStyleModel",
            "description_width": "",
            "_view_module": "@jupyter-widgets/base",
            "_model_module_version": "1.5.0",
            "_view_count": null,
            "_view_module_version": "1.2.0",
            "_model_module": "@jupyter-widgets/controls"
          }
        },
        "eeb8b17afad04c5cb5e497bf23d24a5a": {
          "model_module": "@jupyter-widgets/base",
          "model_name": "LayoutModel",
          "state": {
            "_view_name": "LayoutView",
            "grid_template_rows": null,
            "right": null,
            "justify_content": null,
            "_view_module": "@jupyter-widgets/base",
            "overflow": null,
            "_model_module_version": "1.2.0",
            "_view_count": null,
            "flex_flow": null,
            "width": null,
            "min_width": null,
            "border": null,
            "align_items": null,
            "bottom": null,
            "_model_module": "@jupyter-widgets/base",
            "top": null,
            "grid_column": null,
            "overflow_y": null,
            "overflow_x": null,
            "grid_auto_flow": null,
            "grid_area": null,
            "grid_template_columns": null,
            "flex": null,
            "_model_name": "LayoutModel",
            "justify_items": null,
            "grid_row": null,
            "max_height": null,
            "align_content": null,
            "visibility": null,
            "align_self": null,
            "height": null,
            "min_height": null,
            "padding": null,
            "grid_auto_rows": null,
            "grid_gap": null,
            "max_width": null,
            "order": null,
            "_view_module_version": "1.2.0",
            "grid_template_areas": null,
            "object_position": null,
            "object_fit": null,
            "grid_auto_columns": null,
            "margin": null,
            "display": null,
            "left": null
          }
        },
        "6339f930fbc0454eb3399e481fc2e4ad": {
          "model_module": "@jupyter-widgets/controls",
          "model_name": "HBoxModel",
          "state": {
            "_view_name": "HBoxView",
            "_dom_classes": [],
            "_model_name": "HBoxModel",
            "_view_module": "@jupyter-widgets/controls",
            "_model_module_version": "1.5.0",
            "_view_count": null,
            "_view_module_version": "1.5.0",
            "box_style": "",
            "layout": "IPY_MODEL_e74fc0f4949f42debb0f5e233db82b2c",
            "_model_module": "@jupyter-widgets/controls",
            "children": [
              "IPY_MODEL_495cc023dada43099dc62747e9f7b618",
              "IPY_MODEL_fd447022d2614f849164a6b1686c6f46"
            ]
          }
        },
        "e74fc0f4949f42debb0f5e233db82b2c": {
          "model_module": "@jupyter-widgets/base",
          "model_name": "LayoutModel",
          "state": {
            "_view_name": "LayoutView",
            "grid_template_rows": null,
            "right": null,
            "justify_content": null,
            "_view_module": "@jupyter-widgets/base",
            "overflow": null,
            "_model_module_version": "1.2.0",
            "_view_count": null,
            "flex_flow": null,
            "width": null,
            "min_width": null,
            "border": null,
            "align_items": null,
            "bottom": null,
            "_model_module": "@jupyter-widgets/base",
            "top": null,
            "grid_column": null,
            "overflow_y": null,
            "overflow_x": null,
            "grid_auto_flow": null,
            "grid_area": null,
            "grid_template_columns": null,
            "flex": null,
            "_model_name": "LayoutModel",
            "justify_items": null,
            "grid_row": null,
            "max_height": null,
            "align_content": null,
            "visibility": null,
            "align_self": null,
            "height": null,
            "min_height": null,
            "padding": null,
            "grid_auto_rows": null,
            "grid_gap": null,
            "max_width": null,
            "order": null,
            "_view_module_version": "1.2.0",
            "grid_template_areas": null,
            "object_position": null,
            "object_fit": null,
            "grid_auto_columns": null,
            "margin": null,
            "display": null,
            "left": null
          }
        },
        "495cc023dada43099dc62747e9f7b618": {
          "model_module": "@jupyter-widgets/controls",
          "model_name": "FloatProgressModel",
          "state": {
            "_view_name": "ProgressView",
            "style": "IPY_MODEL_4b0498c2c29b46068235f4978e9416f3",
            "_dom_classes": [],
            "description": "2o Laço: 100%",
            "_model_name": "FloatProgressModel",
            "bar_style": "",
            "max": 100,
            "_view_module": "@jupyter-widgets/controls",
            "_model_module_version": "1.5.0",
            "value": 100,
            "_view_count": null,
            "_view_module_version": "1.5.0",
            "orientation": "horizontal",
            "min": 0,
            "description_tooltip": null,
            "_model_module": "@jupyter-widgets/controls",
            "layout": "IPY_MODEL_d95aae61a9ef4e51a03845f2ec2ace42"
          }
        },
        "fd447022d2614f849164a6b1686c6f46": {
          "model_module": "@jupyter-widgets/controls",
          "model_name": "HTMLModel",
          "state": {
            "_view_name": "HTMLView",
            "style": "IPY_MODEL_abc2c5c0737642b9bb844ef137afc36d",
            "_dom_classes": [],
            "description": "",
            "_model_name": "HTMLModel",
            "placeholder": "​",
            "_view_module": "@jupyter-widgets/controls",
            "_model_module_version": "1.5.0",
            "value": " 100/100 [00:02&lt;00:00, 48.76it/s]",
            "_view_count": null,
            "_view_module_version": "1.5.0",
            "description_tooltip": null,
            "_model_module": "@jupyter-widgets/controls",
            "layout": "IPY_MODEL_c66020140ac44e99b34de1266561d55d"
          }
        },
        "4b0498c2c29b46068235f4978e9416f3": {
          "model_module": "@jupyter-widgets/controls",
          "model_name": "ProgressStyleModel",
          "state": {
            "_view_name": "StyleView",
            "_model_name": "ProgressStyleModel",
            "description_width": "initial",
            "_view_module": "@jupyter-widgets/base",
            "_model_module_version": "1.5.0",
            "_view_count": null,
            "_view_module_version": "1.2.0",
            "bar_color": null,
            "_model_module": "@jupyter-widgets/controls"
          }
        },
        "d95aae61a9ef4e51a03845f2ec2ace42": {
          "model_module": "@jupyter-widgets/base",
          "model_name": "LayoutModel",
          "state": {
            "_view_name": "LayoutView",
            "grid_template_rows": null,
            "right": null,
            "justify_content": null,
            "_view_module": "@jupyter-widgets/base",
            "overflow": null,
            "_model_module_version": "1.2.0",
            "_view_count": null,
            "flex_flow": null,
            "width": null,
            "min_width": null,
            "border": null,
            "align_items": null,
            "bottom": null,
            "_model_module": "@jupyter-widgets/base",
            "top": null,
            "grid_column": null,
            "overflow_y": null,
            "overflow_x": null,
            "grid_auto_flow": null,
            "grid_area": null,
            "grid_template_columns": null,
            "flex": null,
            "_model_name": "LayoutModel",
            "justify_items": null,
            "grid_row": null,
            "max_height": null,
            "align_content": null,
            "visibility": null,
            "align_self": null,
            "height": null,
            "min_height": null,
            "padding": null,
            "grid_auto_rows": null,
            "grid_gap": null,
            "max_width": null,
            "order": null,
            "_view_module_version": "1.2.0",
            "grid_template_areas": null,
            "object_position": null,
            "object_fit": null,
            "grid_auto_columns": null,
            "margin": null,
            "display": null,
            "left": null
          }
        },
        "abc2c5c0737642b9bb844ef137afc36d": {
          "model_module": "@jupyter-widgets/controls",
          "model_name": "DescriptionStyleModel",
          "state": {
            "_view_name": "StyleView",
            "_model_name": "DescriptionStyleModel",
            "description_width": "",
            "_view_module": "@jupyter-widgets/base",
            "_model_module_version": "1.5.0",
            "_view_count": null,
            "_view_module_version": "1.2.0",
            "_model_module": "@jupyter-widgets/controls"
          }
        },
        "c66020140ac44e99b34de1266561d55d": {
          "model_module": "@jupyter-widgets/base",
          "model_name": "LayoutModel",
          "state": {
            "_view_name": "LayoutView",
            "grid_template_rows": null,
            "right": null,
            "justify_content": null,
            "_view_module": "@jupyter-widgets/base",
            "overflow": null,
            "_model_module_version": "1.2.0",
            "_view_count": null,
            "flex_flow": null,
            "width": null,
            "min_width": null,
            "border": null,
            "align_items": null,
            "bottom": null,
            "_model_module": "@jupyter-widgets/base",
            "top": null,
            "grid_column": null,
            "overflow_y": null,
            "overflow_x": null,
            "grid_auto_flow": null,
            "grid_area": null,
            "grid_template_columns": null,
            "flex": null,
            "_model_name": "LayoutModel",
            "justify_items": null,
            "grid_row": null,
            "max_height": null,
            "align_content": null,
            "visibility": null,
            "align_self": null,
            "height": null,
            "min_height": null,
            "padding": null,
            "grid_auto_rows": null,
            "grid_gap": null,
            "max_width": null,
            "order": null,
            "_view_module_version": "1.2.0",
            "grid_template_areas": null,
            "object_position": null,
            "object_fit": null,
            "grid_auto_columns": null,
            "margin": null,
            "display": null,
            "left": null
          }
        },
        "bf5ab44e611c4f51abb48bb725fbe89b": {
          "model_module": "@jupyter-widgets/controls",
          "model_name": "HBoxModel",
          "state": {
            "_view_name": "HBoxView",
            "_dom_classes": [],
            "_model_name": "HBoxModel",
            "_view_module": "@jupyter-widgets/controls",
            "_model_module_version": "1.5.0",
            "_view_count": null,
            "_view_module_version": "1.5.0",
            "box_style": "",
            "layout": "IPY_MODEL_4b1aa044a2c94431a8f89389c1455a87",
            "_model_module": "@jupyter-widgets/controls",
            "children": [
              "IPY_MODEL_afcc3d5626644f5ea740accecc8df00c",
              "IPY_MODEL_4dd1e9a2a0034c5f9d0c7b7dca9057e5"
            ]
          }
        },
        "4b1aa044a2c94431a8f89389c1455a87": {
          "model_module": "@jupyter-widgets/base",
          "model_name": "LayoutModel",
          "state": {
            "_view_name": "LayoutView",
            "grid_template_rows": null,
            "right": null,
            "justify_content": null,
            "_view_module": "@jupyter-widgets/base",
            "overflow": null,
            "_model_module_version": "1.2.0",
            "_view_count": null,
            "flex_flow": null,
            "width": null,
            "min_width": null,
            "border": null,
            "align_items": null,
            "bottom": null,
            "_model_module": "@jupyter-widgets/base",
            "top": null,
            "grid_column": null,
            "overflow_y": null,
            "overflow_x": null,
            "grid_auto_flow": null,
            "grid_area": null,
            "grid_template_columns": null,
            "flex": null,
            "_model_name": "LayoutModel",
            "justify_items": null,
            "grid_row": null,
            "max_height": null,
            "align_content": null,
            "visibility": null,
            "align_self": null,
            "height": null,
            "min_height": null,
            "padding": null,
            "grid_auto_rows": null,
            "grid_gap": null,
            "max_width": null,
            "order": null,
            "_view_module_version": "1.2.0",
            "grid_template_areas": null,
            "object_position": null,
            "object_fit": null,
            "grid_auto_columns": null,
            "margin": null,
            "display": null,
            "left": null
          }
        },
        "afcc3d5626644f5ea740accecc8df00c": {
          "model_module": "@jupyter-widgets/controls",
          "model_name": "FloatProgressModel",
          "state": {
            "_view_name": "ProgressView",
            "style": "IPY_MODEL_87049041b69841de845be01610e93940",
            "_dom_classes": [],
            "description": "2o Laço: 100%",
            "_model_name": "FloatProgressModel",
            "bar_style": "",
            "max": 100,
            "_view_module": "@jupyter-widgets/controls",
            "_model_module_version": "1.5.0",
            "value": 100,
            "_view_count": null,
            "_view_module_version": "1.5.0",
            "orientation": "horizontal",
            "min": 0,
            "description_tooltip": null,
            "_model_module": "@jupyter-widgets/controls",
            "layout": "IPY_MODEL_b307ccce76e4464580056b426db521dd"
          }
        },
        "4dd1e9a2a0034c5f9d0c7b7dca9057e5": {
          "model_module": "@jupyter-widgets/controls",
          "model_name": "HTMLModel",
          "state": {
            "_view_name": "HTMLView",
            "style": "IPY_MODEL_38dc97c55bff4dfca1070ff1ace17bdf",
            "_dom_classes": [],
            "description": "",
            "_model_name": "HTMLModel",
            "placeholder": "​",
            "_view_module": "@jupyter-widgets/controls",
            "_model_module_version": "1.5.0",
            "value": " 100/100 [00:02&lt;00:00, 48.76it/s]",
            "_view_count": null,
            "_view_module_version": "1.5.0",
            "description_tooltip": null,
            "_model_module": "@jupyter-widgets/controls",
            "layout": "IPY_MODEL_093c0457f7e843b5a4f8779a9bcab019"
          }
        },
        "87049041b69841de845be01610e93940": {
          "model_module": "@jupyter-widgets/controls",
          "model_name": "ProgressStyleModel",
          "state": {
            "_view_name": "StyleView",
            "_model_name": "ProgressStyleModel",
            "description_width": "initial",
            "_view_module": "@jupyter-widgets/base",
            "_model_module_version": "1.5.0",
            "_view_count": null,
            "_view_module_version": "1.2.0",
            "bar_color": null,
            "_model_module": "@jupyter-widgets/controls"
          }
        },
        "b307ccce76e4464580056b426db521dd": {
          "model_module": "@jupyter-widgets/base",
          "model_name": "LayoutModel",
          "state": {
            "_view_name": "LayoutView",
            "grid_template_rows": null,
            "right": null,
            "justify_content": null,
            "_view_module": "@jupyter-widgets/base",
            "overflow": null,
            "_model_module_version": "1.2.0",
            "_view_count": null,
            "flex_flow": null,
            "width": null,
            "min_width": null,
            "border": null,
            "align_items": null,
            "bottom": null,
            "_model_module": "@jupyter-widgets/base",
            "top": null,
            "grid_column": null,
            "overflow_y": null,
            "overflow_x": null,
            "grid_auto_flow": null,
            "grid_area": null,
            "grid_template_columns": null,
            "flex": null,
            "_model_name": "LayoutModel",
            "justify_items": null,
            "grid_row": null,
            "max_height": null,
            "align_content": null,
            "visibility": null,
            "align_self": null,
            "height": null,
            "min_height": null,
            "padding": null,
            "grid_auto_rows": null,
            "grid_gap": null,
            "max_width": null,
            "order": null,
            "_view_module_version": "1.2.0",
            "grid_template_areas": null,
            "object_position": null,
            "object_fit": null,
            "grid_auto_columns": null,
            "margin": null,
            "display": null,
            "left": null
          }
        },
        "38dc97c55bff4dfca1070ff1ace17bdf": {
          "model_module": "@jupyter-widgets/controls",
          "model_name": "DescriptionStyleModel",
          "state": {
            "_view_name": "StyleView",
            "_model_name": "DescriptionStyleModel",
            "description_width": "",
            "_view_module": "@jupyter-widgets/base",
            "_model_module_version": "1.5.0",
            "_view_count": null,
            "_view_module_version": "1.2.0",
            "_model_module": "@jupyter-widgets/controls"
          }
        },
        "093c0457f7e843b5a4f8779a9bcab019": {
          "model_module": "@jupyter-widgets/base",
          "model_name": "LayoutModel",
          "state": {
            "_view_name": "LayoutView",
            "grid_template_rows": null,
            "right": null,
            "justify_content": null,
            "_view_module": "@jupyter-widgets/base",
            "overflow": null,
            "_model_module_version": "1.2.0",
            "_view_count": null,
            "flex_flow": null,
            "width": null,
            "min_width": null,
            "border": null,
            "align_items": null,
            "bottom": null,
            "_model_module": "@jupyter-widgets/base",
            "top": null,
            "grid_column": null,
            "overflow_y": null,
            "overflow_x": null,
            "grid_auto_flow": null,
            "grid_area": null,
            "grid_template_columns": null,
            "flex": null,
            "_model_name": "LayoutModel",
            "justify_items": null,
            "grid_row": null,
            "max_height": null,
            "align_content": null,
            "visibility": null,
            "align_self": null,
            "height": null,
            "min_height": null,
            "padding": null,
            "grid_auto_rows": null,
            "grid_gap": null,
            "max_width": null,
            "order": null,
            "_view_module_version": "1.2.0",
            "grid_template_areas": null,
            "object_position": null,
            "object_fit": null,
            "grid_auto_columns": null,
            "margin": null,
            "display": null,
            "left": null
          }
        }
      }
    }
  },
  "cells": [
    {
      "cell_type": "markdown",
      "metadata": {
        "id": "view-in-github",
        "colab_type": "text"
      },
      "source": [
        "<a href=\"https://colab.research.google.com/github/osmarbraz/exemplos_python/blob/master/ExemplosPython.ipynb\" target=\"_parent\"><img src=\"https://colab.research.google.com/assets/colab-badge.svg\" alt=\"Open In Colab\"/></a>"
      ]
    },
    {
      "cell_type": "markdown",
      "metadata": {
        "id": "xY84ChCNzmQQ"
      },
      "source": [
        "# Exemplos Python no Google Colaboratory"
      ]
    },
    {
      "cell_type": "markdown",
      "metadata": {
        "id": "KoMscP0Jo5rw"
      },
      "source": [
        "Exemplos básicos em python:\n",
        "- Operadores;\n",
        "- Tipos primitivos;\n",
        "- Estruturas condicionais;\n",
        "- Estruturas de repetição;\n",
        "- Tratamento de mensagens;\n",
        "- Comandos Bash;\n",
        "- Tradução de textos;\n",
        "- Remoção de Tags HTML;\n",
        "- Funções;\n",
        "- Aritmética binária;\n",
        "- Mensagem e barra de progresso.\n",
        "-----------------------------------------\n",
        "**Guia Colab Iniciante:**\n",
        "\n",
        "https://medium.com/machina-sapiens/google-colab-guia-do-iniciante-334d70aad531\n",
        "\n",
        "**Documentação oficial:**\n",
        "\n",
        "https://colab.research.google.com/github/jakevdp/PythonDataScienceHandbook/blob/master/notebooks/01.01-Help-And-Documentation.ipynb\n",
        "\n",
        "**Características :**\n",
        "\n",
        "https://colab.research.google.com/notebooks/basic_features_overview.ipynb\n"
      ]
    },
    {
      "cell_type": "markdown",
      "metadata": {
        "id": "IAQcH7kh3cmD"
      },
      "source": [
        "# Tipos primitivos"
      ]
    },
    {
      "cell_type": "markdown",
      "metadata": {
        "id": "eK55gNwoRrBC"
      },
      "source": [
        "##Tipos de dados\n",
        "Existem 4 tipos numéricos:\n",
        "*  inteiro (int)\n",
        "*  ponto flutuante (float)\n",
        "*  booleano (bool)\n",
        "*  complexo (complex)"
      ]
    },
    {
      "cell_type": "code",
      "metadata": {
        "id": "v8W6YPbURtbx",
        "colab": {
          "base_uri": "https://localhost:8080/"
        },
        "outputId": "55b736c0-04a1-4762-b47e-6ebf341bc565"
      },
      "source": [
        "# Inteiros\n",
        "inteiro = 28\n",
        "print(inteiro)\n",
        "\n",
        "# type mostra o tipo de uma variável\n",
        "print(type(inteiro))\n",
        "\n",
        "# Ponto flutuante\n",
        "real = 3.1415\n",
        "print(real)\n",
        "\n",
        "#type mostra o tipo de uma variável\n",
        "print(type(real))\n",
        "\n",
        "# String\n",
        "nome = 'Pedro'\n",
        "print(nome)\n",
        "# type mostra o tipo de uma variável\n",
        "print(type(nome))\n",
        "\n",
        "# Boolean\n",
        "chave = True\n",
        "print(chave)\n",
        "\n",
        "# type mostra o tipo de uma variável\n",
        "print(type(chave))\n",
        "\n",
        "# Complexo\n",
        "complexo = 4+3j\n",
        "print(complexo)\n",
        "\n",
        "# type mostra o tipo de uma variável\n",
        "print(type(complexo))\n"
      ],
      "execution_count": 1,
      "outputs": [
        {
          "output_type": "stream",
          "text": [
            "28\n",
            "<class 'int'>\n",
            "3.1415\n",
            "<class 'float'>\n",
            "Pedro\n",
            "<class 'str'>\n",
            "True\n",
            "<class 'bool'>\n",
            "(4+3j)\n",
            "<class 'complex'>\n"
          ],
          "name": "stdout"
        }
      ]
    },
    {
      "cell_type": "markdown",
      "metadata": {
        "id": "FFyCLoRDNBN5"
      },
      "source": [
        "## Conversão de Tipo\n",
        "\n",
        "https://www.digitalocean.com/community/tutorials/how-to-convert-data-types-in-python-3"
      ]
    },
    {
      "cell_type": "markdown",
      "metadata": {
        "id": "nk3O9-gbUFrk"
      },
      "source": [
        "int para float"
      ]
    },
    {
      "cell_type": "code",
      "metadata": {
        "id": "o-PkSCYkUFBz",
        "colab": {
          "base_uri": "https://localhost:8080/"
        },
        "outputId": "98069805-fe29-4a34-cb85-8dec38723222"
      },
      "source": [
        "numero = 10\n",
        "\n",
        "real = float(numero)\n",
        "\n",
        "print(real)"
      ],
      "execution_count": 2,
      "outputs": [
        {
          "output_type": "stream",
          "text": [
            "10.0\n"
          ],
          "name": "stdout"
        }
      ]
    },
    {
      "cell_type": "markdown",
      "metadata": {
        "id": "Ea3JlQiPUTn1"
      },
      "source": [
        "float para int"
      ]
    },
    {
      "cell_type": "code",
      "metadata": {
        "id": "c0gIL7FRUTn3",
        "colab": {
          "base_uri": "https://localhost:8080/"
        },
        "outputId": "6f1114f2-2548-4bea-e185-5a4f8dc29a0e"
      },
      "source": [
        "real = 10.0\n",
        "\n",
        "numero = int(real)\n",
        "\n",
        "print(numero)"
      ],
      "execution_count": 3,
      "outputs": [
        {
          "output_type": "stream",
          "text": [
            "10\n"
          ],
          "name": "stdout"
        }
      ]
    },
    {
      "cell_type": "markdown",
      "metadata": {
        "id": "-0dKcWaLNTaU"
      },
      "source": [
        "int para string"
      ]
    },
    {
      "cell_type": "code",
      "metadata": {
        "id": "FTiM5w34ND_Q",
        "colab": {
          "base_uri": "https://localhost:8080/",
          "height": 35
        },
        "outputId": "ef6f5603-457e-4654-9ef1-ec08253abbbd"
      },
      "source": [
        "numero = 123\n",
        "\n",
        "literal = str(numero)\n",
        "\n",
        "literal"
      ],
      "execution_count": 4,
      "outputs": [
        {
          "output_type": "execute_result",
          "data": {
            "application/vnd.google.colaboratory.intrinsic+json": {
              "type": "string"
            },
            "text/plain": [
              "'123'"
            ]
          },
          "metadata": {
            "tags": []
          },
          "execution_count": 4
        }
      ]
    },
    {
      "cell_type": "markdown",
      "metadata": {
        "id": "aOktXtrdNWNP"
      },
      "source": [
        "Concatenando int com string"
      ]
    },
    {
      "cell_type": "code",
      "metadata": {
        "id": "e4NyCSIFNYwq",
        "colab": {
          "base_uri": "https://localhost:8080/"
        },
        "outputId": "16219e35-192b-4962-8cf0-b17f6123b479"
      },
      "source": [
        "numero = 123\n",
        "\n",
        "literal = \"O numero é \" + str(numero)\n",
        "\n",
        "print(literal)"
      ],
      "execution_count": 5,
      "outputs": [
        {
          "output_type": "stream",
          "text": [
            "O numero é 123\n"
          ],
          "name": "stdout"
        }
      ]
    },
    {
      "cell_type": "markdown",
      "metadata": {
        "id": "5TJ0WelPTCOL"
      },
      "source": [
        "## Tipo Nulo / None"
      ]
    },
    {
      "cell_type": "code",
      "metadata": {
        "id": "bkE00XeuTDpl",
        "colab": {
          "base_uri": "https://localhost:8080/"
        },
        "outputId": "3928b48e-0dde-4599-8b2f-8583786b6ced"
      },
      "source": [
        "# Valor vazio ou dado do tipo nulo\n",
        "vazio = None\n",
        "print(vazio)\n",
        "\n",
        "# type mostra o tipo de uma variável\n",
        "print(type(vazio))"
      ],
      "execution_count": 6,
      "outputs": [
        {
          "output_type": "stream",
          "text": [
            "None\n",
            "<class 'NoneType'>\n"
          ],
          "name": "stdout"
        }
      ]
    },
    {
      "cell_type": "markdown",
      "metadata": {
        "id": "Ai4yFTXqdcuw"
      },
      "source": [
        "##String"
      ]
    },
    {
      "cell_type": "markdown",
      "metadata": {
        "id": "AnFhd5MFcSZ3"
      },
      "source": [
        "### Exemplo 1 - Existência substring\n",
        "\n",
        "Verifica se uma substring existe em string"
      ]
    },
    {
      "cell_type": "code",
      "metadata": {
        "id": "psZTKUS5cWZG",
        "colab": {
          "base_uri": "https://localhost:8080/"
        },
        "outputId": "97254952-a582-4723-a117-aa37c2e8c2b6"
      },
      "source": [
        "frase = \"bom dia!\"\n",
        "\n",
        "if \"dia\" in frase:\n",
        "    print(\"dia existe em frase\")\n",
        "else:\n",
        "   print(\"dia não existe em frase\")"
      ],
      "execution_count": 7,
      "outputs": [
        {
          "output_type": "stream",
          "text": [
            "dia existe em frase\n"
          ],
          "name": "stdout"
        }
      ]
    },
    {
      "cell_type": "markdown",
      "metadata": {
        "id": "m47Uq0H0j7mZ"
      },
      "source": [
        "### Exemplo 2 - Posição substring\n",
        "\n",
        "Retorna a posição onde se encontra a substring"
      ]
    },
    {
      "cell_type": "code",
      "metadata": {
        "id": "0Mtd1neJj90X",
        "colab": {
          "base_uri": "https://localhost:8080/"
        },
        "outputId": "a5f4a28c-2872-40a7-c14b-1946798f2545"
      },
      "source": [
        "frase = \"bom dia!\"\n",
        "\n",
        "x = frase.find(\"dia\")\n",
        "\n",
        "print(x)"
      ],
      "execution_count": 8,
      "outputs": [
        {
          "output_type": "stream",
          "text": [
            "4\n"
          ],
          "name": "stdout"
        }
      ]
    },
    {
      "cell_type": "markdown",
      "metadata": {
        "id": "3EK92Ex6eACY"
      },
      "source": [
        "### Exemplo 3 - Uso trim(strip, lstrip, rstrip)"
      ]
    },
    {
      "cell_type": "code",
      "metadata": {
        "id": "DAagAUYveEMY",
        "colab": {
          "base_uri": "https://localhost:8080/"
        },
        "outputId": "3bd6da8c-8fe2-4a70-b1b5-5e9bdf51792b"
      },
      "source": [
        "frase = '  bom dia !  '\n",
        "\n",
        "# Saída dos dados\n",
        "print('frase =' + '\\'' + frase + '\\'')\n",
        "print('Após remover espacos a esquerda = \\'' + frase.lstrip() + '\\'')\n",
        "print('Após remover espaços a direita  = \\'' + frase.rstrip() +'\\'')\n",
        "print('Após trim esquerda e direita    = \\'' + frase.strip() +'\\'')"
      ],
      "execution_count": 9,
      "outputs": [
        {
          "output_type": "stream",
          "text": [
            "frase ='  bom dia !  '\n",
            "Após remover espacos a esquerda = 'bom dia !  '\n",
            "Após remover espaços a direita  = '  bom dia !'\n",
            "Após trim esquerda e direita    = 'bom dia !'\n"
          ],
          "name": "stdout"
        }
      ]
    },
    {
      "cell_type": "markdown",
      "metadata": {
        "id": "D6JE_nHvYEZ7"
      },
      "source": [
        "### Exemplo 4 - Testa string vazia ou nula"
      ]
    },
    {
      "cell_type": "code",
      "metadata": {
        "id": "1Qrh3kMEYI7v",
        "colab": {
          "base_uri": "https://localhost:8080/"
        },
        "outputId": "a31d1692-24bc-4aa7-baca-022c8fac9635"
      },
      "source": [
        "palavra = ''\n",
        "\n",
        "# Forma 1\n",
        "if not palavra.strip():\n",
        "  print ('string nula!')\n",
        "else:\n",
        "  print ('string não nula!')\n",
        "\n",
        "# Forma 2\n",
        "if not palavra:\n",
        "   print ('string nula!')\n",
        "else:\n",
        "   print ('string não nula!')\n",
        "\n",
        "# Forma 3\n",
        "if len(palavra)==0:\n",
        "   print ('string nula!')\n",
        "else:\n",
        "   print ('string não nula!')\n",
        "\n",
        "# Forma 4\n",
        "if palavra == '':\n",
        "   print ('string nula!')\n",
        "else:\n",
        "   print ('string não nula!')"
      ],
      "execution_count": 10,
      "outputs": [
        {
          "output_type": "stream",
          "text": [
            "string nula!\n",
            "string nula!\n",
            "string nula!\n",
            "string nula!\n"
          ],
          "name": "stdout"
        }
      ]
    },
    {
      "cell_type": "markdown",
      "metadata": {
        "id": "UvTP_bMqbHRH"
      },
      "source": [
        "### Exemplo 5 - Remove caracter de String"
      ]
    },
    {
      "cell_type": "code",
      "metadata": {
        "id": "hFMyz2SqbLNs",
        "colab": {
          "base_uri": "https://localhost:8080/"
        },
        "outputId": "5e36ff7f-6a3a-4b5f-ccb2-b9567cb35d3a"
      },
      "source": [
        "palavra = '  bom     dia !   '\n",
        "\n",
        "print('\\'' + palavra.replace('  ', '') + '\\'')"
      ],
      "execution_count": 11,
      "outputs": [
        {
          "output_type": "stream",
          "text": [
            "'bom dia ! '\n"
          ],
          "name": "stdout"
        }
      ]
    },
    {
      "cell_type": "markdown",
      "metadata": {
        "id": "ORROZhyO7WaB"
      },
      "source": [
        "### Exemplo 6 - Remove '\\n' de String"
      ]
    },
    {
      "cell_type": "code",
      "metadata": {
        "id": "wLQA9tha7ZXb",
        "colab": {
          "base_uri": "https://localhost:8080/"
        },
        "outputId": "4f64c3c0-2ed0-48e6-8a4d-43b87bca61cb"
      },
      "source": [
        "palavra = 'bom\\n'\n",
        "\n",
        "print(palavra)\n",
        "print(len(palavra))\n",
        "\n",
        "palavra = palavra.rstrip(\"\\n\")\n",
        "\n",
        "print(palavra)\n",
        "print(len(palavra))"
      ],
      "execution_count": 12,
      "outputs": [
        {
          "output_type": "stream",
          "text": [
            "bom\n",
            "\n",
            "4\n",
            "bom\n",
            "3\n"
          ],
          "name": "stdout"
        }
      ]
    },
    {
      "cell_type": "markdown",
      "metadata": {
        "id": "1QWOvA-w_liD"
      },
      "source": [
        "### Exemplo 7 - contar letra de *String*"
      ]
    },
    {
      "cell_type": "code",
      "metadata": {
        "id": "vWo1ogQx_l76",
        "colab": {
          "base_uri": "https://localhost:8080/"
        },
        "outputId": "8543e40e-8e79-4519-905d-a77deb5dc872"
      },
      "source": [
        "palavra = 'casa'\n",
        "print(palavra)\n",
        "\n",
        "qtde = palavra.count('a')\n",
        "\n",
        "# Saída dos dados\n",
        "print(qtde)"
      ],
      "execution_count": 13,
      "outputs": [
        {
          "output_type": "stream",
          "text": [
            "casa\n",
            "2\n"
          ],
          "name": "stdout"
        }
      ]
    },
    {
      "cell_type": "markdown",
      "metadata": {
        "id": "evOpb10jE9yE"
      },
      "source": [
        "### Exemplo 8 - Remove vários espaços em branco e substitui por somente um.\n",
        "\n",
        "Utiliza expressões regulares."
      ]
    },
    {
      "cell_type": "code",
      "metadata": {
        "id": "xCbbljKzE9yK",
        "colab": {
          "base_uri": "https://localhost:8080/"
        },
        "outputId": "4e761acb-cc10-4761-cb77-01cd11107dc4"
      },
      "source": [
        "# Biblioteca para expressões regulares\n",
        "import re\n",
        "\n",
        "frase1 = 'O    dia   está     bonito.'\n",
        "print(frase1)\n",
        "\n",
        "frase2  = re.sub(\"\\s+\", \" \", frase1)\n",
        "\n",
        "# Saída dos dados\n",
        "print(frase2)"
      ],
      "execution_count": 14,
      "outputs": [
        {
          "output_type": "stream",
          "text": [
            "O    dia   está     bonito.\n",
            "O dia está bonito.\n"
          ],
          "name": "stdout"
        }
      ]
    },
    {
      "cell_type": "markdown",
      "metadata": {
        "id": "FqgMjhMhnjdA"
      },
      "source": [
        "### Exemplo 9 - Encontra a quantidade de palavras da frase"
      ]
    },
    {
      "cell_type": "code",
      "metadata": {
        "id": "mZDgvqfwnkI5",
        "colab": {
          "base_uri": "https://localhost:8080/"
        },
        "outputId": "86ae31f6-b7aa-4836-e547-8873408b389c"
      },
      "source": [
        "# Frases de exemplo\n",
        "frase = 'O céu está azul.'\n",
        "\n",
        "# Mostra a frase\n",
        "print(frase)\n",
        "\n",
        "# split() cria uma lista das palavras das frase\n",
        "print(frase.split())\n",
        "\n",
        "# Retorna o tamanho da lista de palavras da frase\n",
        "qtde = len(frase.split())\n",
        "\n",
        "# Mostra a quantidade\n",
        "print(\"Quantidade de palavas:\", qtde)"
      ],
      "execution_count": 15,
      "outputs": [
        {
          "output_type": "stream",
          "text": [
            "O céu está azul.\n",
            "['O', 'céu', 'está', 'azul.']\n",
            "Quantidade de palavas: 4\n"
          ],
          "name": "stdout"
        }
      ]
    },
    {
      "cell_type": "markdown",
      "metadata": {
        "id": "8DGKJ0Og7_j6"
      },
      "source": [
        "### Exemplo 19 - Encontra a quantidade de palavras da maior frase"
      ]
    },
    {
      "cell_type": "code",
      "metadata": {
        "id": "DWE3sgG178Nt",
        "colab": {
          "base_uri": "https://localhost:8080/"
        },
        "outputId": "1775d2e5-322d-421d-fa59-0861ead86f90"
      },
      "source": [
        "# Frases de exemplo\n",
        "frases = ['O gato no tapete.', 'O cachorro comeu minha tarefa.']\n",
        "\n",
        "# Procura a frase com o maior número de palavras\n",
        "maior_frase = len(max(frases, key=lambda k: len(k.split())).split())\n",
        "\n",
        "# Mostra a quantidade\n",
        "print(\"Tamanho maior frase:\", maior_frase)"
      ],
      "execution_count": 16,
      "outputs": [
        {
          "output_type": "stream",
          "text": [
            "Tamanho maior frase: 5\n"
          ],
          "name": "stdout"
        }
      ]
    },
    {
      "cell_type": "markdown",
      "metadata": {
        "id": "cBaB4AF1GRwH"
      },
      "source": [
        "### Exemplo 11 - Encontra o último caracter de uma frase\n",
        "\n",
        "Não considera espaço em branco."
      ]
    },
    {
      "cell_type": "code",
      "metadata": {
        "id": "qhe0nfVxGR_P",
        "colab": {
          "base_uri": "https://localhost:8080/"
        },
        "outputId": "c2988d5b-0e11-4003-ba50-f5a6a8ea7343"
      },
      "source": [
        "# Frase de exemplo\n",
        "frase = \"  Que dia bonito  \"\n",
        "print(\"[\", frase,\"]\")\n",
        "\n",
        "# Retira os espaços antes de depois da frase\n",
        "frase = frase.strip()\n",
        "print(\"[\", frase,\"]\")\n",
        "\n",
        "# Recupera o último caracter\n",
        "ultimo_caracter = frase[-1]\n",
        "\n",
        "# Saída dos dados\n",
        "print (\"Último caracter:\", ultimo_caracter)"
      ],
      "execution_count": 17,
      "outputs": [
        {
          "output_type": "stream",
          "text": [
            "[   Que dia bonito   ]\n",
            "[ Que dia bonito ]\n",
            "Último caracter: o\n"
          ],
          "name": "stdout"
        }
      ]
    },
    {
      "cell_type": "markdown",
      "metadata": {
        "id": "yzfg-I1HQaUo"
      },
      "source": [
        "### Exemplo 12 - Exibe número percentual formatado"
      ]
    },
    {
      "cell_type": "code",
      "metadata": {
        "id": "rbzIyYV0QfhH",
        "colab": {
          "base_uri": "https://localhost:8080/"
        },
        "outputId": "1bd408e9-368f-40a4-80b1-6cd685cd113a"
      },
      "source": [
        "x = 16\n",
        "total = 150\n",
        "percentual = x/total\n",
        "print(\"Percentual de X(\",x,\") no total(\",total,\") = \", \"{:.2%}\".format(percentual))"
      ],
      "execution_count": 18,
      "outputs": [
        {
          "output_type": "stream",
          "text": [
            "Percentual de X( 16 ) no total( 150 ) =  10.67%\n"
          ],
          "name": "stdout"
        }
      ]
    },
    {
      "cell_type": "markdown",
      "metadata": {
        "id": "LQ_r-Dsi8Qx3"
      },
      "source": [
        "### Exemplo 13 - Iníciais em maiúsculo"
      ]
    },
    {
      "cell_type": "code",
      "metadata": {
        "id": "lG4X8gVl8TGp",
        "colab": {
          "base_uri": "https://localhost:8080/"
        },
        "outputId": "0e9c085a-5ce1-4f7a-b77e-1a3d498d4cb7"
      },
      "source": [
        "frase1 = 'que dia bonito.'\n",
        "\n",
        "frase2 = frase1.capitalize()\n",
        "\n",
        "# Saída dos dados\n",
        "print(frase1)\n",
        "print(frase2)"
      ],
      "execution_count": 19,
      "outputs": [
        {
          "output_type": "stream",
          "text": [
            "que dia bonito.\n",
            "Que dia bonito.\n"
          ],
          "name": "stdout"
        }
      ]
    },
    {
      "cell_type": "markdown",
      "metadata": {
        "id": "Iy1yctgxJyDp"
      },
      "source": [
        "##Inicialização de variáveis\n",
        "Inicialização de múltiplas variáveis"
      ]
    },
    {
      "cell_type": "code",
      "metadata": {
        "id": "4JPdmPAsJ1QA",
        "colab": {
          "base_uri": "https://localhost:8080/"
        },
        "outputId": "7492aeef-5215-4a52-e40f-5a5155d83a99"
      },
      "source": [
        "# Declaração e inicialização\n",
        "a, b, c, d = 1, 2, 3, 4\n",
        "\n",
        "# Saída dos dados\n",
        "print(a)\n",
        "print(b)\n",
        "print(c)\n",
        "print(d)"
      ],
      "execution_count": 20,
      "outputs": [
        {
          "output_type": "stream",
          "text": [
            "1\n",
            "2\n",
            "3\n",
            "4\n"
          ],
          "name": "stdout"
        }
      ]
    },
    {
      "cell_type": "markdown",
      "metadata": {
        "id": "IziPWVaeGlWk"
      },
      "source": [
        "## Trocar conteúdo de variáveis\n",
        "Como trocar o conteúdo das variáveis de a e b e de b para a:\n",
        "\n",
        "\n"
      ]
    },
    {
      "cell_type": "markdown",
      "metadata": {
        "id": "COG413OYyx7D"
      },
      "source": [
        "### Método 1 - com auxiliar\n",
        "Troca de conteúdo de variáveis com variável auxiliar."
      ]
    },
    {
      "cell_type": "code",
      "metadata": {
        "id": "_8dfes3tzEfz",
        "colab": {
          "base_uri": "https://localhost:8080/"
        },
        "outputId": "f6f08f15-4867-4fa4-867d-7aefd0a8e909"
      },
      "source": [
        "# Inicialização das variáveis\n",
        "a = 10\n",
        "b = 30\n",
        "\n",
        "# Processamento\n",
        "aux = a\n",
        "a = b\n",
        "b = aux\n",
        "\n",
        "# Saída dos dados\n",
        "print(\"a = \" + str(a))\n",
        "print(\"b = \" + str(b))"
      ],
      "execution_count": 21,
      "outputs": [
        {
          "output_type": "stream",
          "text": [
            "a = 30\n",
            "b = 10\n"
          ],
          "name": "stdout"
        }
      ]
    },
    {
      "cell_type": "markdown",
      "metadata": {
        "id": "zIIhrgdYyrrD"
      },
      "source": [
        "### Método 2 - sem auxiliar\n",
        "Sem o uso de uma variável auxiliar."
      ]
    },
    {
      "cell_type": "code",
      "metadata": {
        "id": "BGFVnIzQGrEH",
        "colab": {
          "base_uri": "https://localhost:8080/"
        },
        "outputId": "5937040b-2f33-4387-dc3e-44955395a3a1"
      },
      "source": [
        "# Inicialização das variáveis\n",
        "a = 10\n",
        "b = 30\n",
        "\n",
        "# Processamento\n",
        "a , b = b , a\n",
        "\n",
        "# Saída dos dados\n",
        "print(\"a = \" + str(a))\n",
        "print(\"b = \" + str(b))"
      ],
      "execution_count": 22,
      "outputs": [
        {
          "output_type": "stream",
          "text": [
            "a = 30\n",
            "b = 10\n"
          ],
          "name": "stdout"
        }
      ]
    },
    {
      "cell_type": "markdown",
      "metadata": {
        "id": "Mk7CV_tfTUNl"
      },
      "source": [
        "# Operadores\n",
        "\n",
        "https://www.w3schools.com/python/python_operators.asp"
      ]
    },
    {
      "cell_type": "markdown",
      "metadata": {
        "id": "OjtxtOC4TY_p"
      },
      "source": [
        "## Operadores aritméticos \n",
        "\n",
        "(+, -, *, /, %, **, +=, -=, *=, /=, %=, **=):"
      ]
    },
    {
      "cell_type": "code",
      "metadata": {
        "id": "oNC6OhoETVeF",
        "colab": {
          "base_uri": "https://localhost:8080/"
        },
        "outputId": "1ce33851-943a-45ad-8f91-269b307fcd14"
      },
      "source": [
        "a = 2\n",
        "b = 1\n",
        "\n",
        "# Saída dos dados\n",
        "print (\"soma =\",a + b)\n",
        "print (\"subtração =\",a - b)\n",
        "print (\"produto =\",a * b)\n",
        "print (\"divisão =\",a / b)"
      ],
      "execution_count": 23,
      "outputs": [
        {
          "output_type": "stream",
          "text": [
            "soma = 3\n",
            "subtração = 1\n",
            "produto = 2\n",
            "divisão = 2.0\n"
          ],
          "name": "stdout"
        }
      ]
    },
    {
      "cell_type": "markdown",
      "metadata": {
        "id": "a2hZUv2KkSK-"
      },
      "source": [
        "Exponencial (**)"
      ]
    },
    {
      "cell_type": "code",
      "metadata": {
        "id": "LfdgCJQ3kVqP",
        "colab": {
          "base_uri": "https://localhost:8080/"
        },
        "outputId": "655a1191-922d-4d08-ad9f-aeca6dcea3a3"
      },
      "source": [
        "a = 4\n",
        "\n",
        "# Saída dos dados\n",
        "print (a**2)"
      ],
      "execution_count": 24,
      "outputs": [
        {
          "output_type": "stream",
          "text": [
            "16\n"
          ],
          "name": "stdout"
        }
      ]
    },
    {
      "cell_type": "markdown",
      "metadata": {
        "id": "3yGXUsyNj_OD"
      },
      "source": [
        "Divisão inteira (//)"
      ]
    },
    {
      "cell_type": "code",
      "metadata": {
        "id": "DiixULgakAh5",
        "colab": {
          "base_uri": "https://localhost:8080/"
        },
        "outputId": "f84288ac-5bde-4318-9212-16fee0280112"
      },
      "source": [
        "a = 5\n",
        "b = 2\n",
        "\n",
        "# Mostra o resultado da divisão sem a parte fracioná(somente a parte inteira)\n",
        "print (5 // 2)\n",
        "\n",
        "# Mostra o resultado da divisão com a parte fracionária\n",
        "print (5 / 2)"
      ],
      "execution_count": 25,
      "outputs": [
        {
          "output_type": "stream",
          "text": [
            "2\n",
            "2.5\n"
          ],
          "name": "stdout"
        }
      ]
    },
    {
      "cell_type": "markdown",
      "metadata": {
        "id": "f96rzB9akKO5"
      },
      "source": [
        "Resto divisão (%)"
      ]
    },
    {
      "cell_type": "code",
      "metadata": {
        "id": "Jzv_-awikMT6",
        "colab": {
          "base_uri": "https://localhost:8080/"
        },
        "outputId": "2ab0f4b8-ae60-4d3e-d71b-aff922d2fc47"
      },
      "source": [
        "a = 5\n",
        "b = 2\n",
        "\n",
        "# Resto da divisão\n",
        "print (5 % 2)\n",
        "\n",
        "# Mostra a parte inteira\n",
        "print (5 // 2)"
      ],
      "execution_count": 26,
      "outputs": [
        {
          "output_type": "stream",
          "text": [
            "1\n",
            "2\n"
          ],
          "name": "stdout"
        }
      ]
    },
    {
      "cell_type": "markdown",
      "metadata": {
        "id": "c3W0MGc5kbse"
      },
      "source": [
        "Raiz quadrada (** 0.5)"
      ]
    },
    {
      "cell_type": "code",
      "metadata": {
        "id": "f_GjzLUMkeL5",
        "colab": {
          "base_uri": "https://localhost:8080/"
        },
        "outputId": "3071613d-0357-40a7-db53-2fae75fa2b0c"
      },
      "source": [
        "a = 4\n",
        "\n",
        "# Calcula a raiz quadrada a**1/2\n",
        "raiz = a ** 0.5\n",
        "\n",
        "print(raiz)"
      ],
      "execution_count": 27,
      "outputs": [
        {
          "output_type": "stream",
          "text": [
            "2.0\n"
          ],
          "name": "stdout"
        }
      ]
    },
    {
      "cell_type": "markdown",
      "metadata": {
        "id": "CSF3xkW7kjEb"
      },
      "source": [
        "Raiz quadrada (math)"
      ]
    },
    {
      "cell_type": "code",
      "metadata": {
        "id": "IGnLGs5ikfih",
        "colab": {
          "base_uri": "https://localhost:8080/"
        },
        "outputId": "42bc5e27-feb6-44de-a2b7-86ad5081978f"
      },
      "source": [
        "import math\n",
        "\n",
        "math.sqrt(16)"
      ],
      "execution_count": 28,
      "outputs": [
        {
          "output_type": "execute_result",
          "data": {
            "text/plain": [
              "4.0"
            ]
          },
          "metadata": {
            "tags": []
          },
          "execution_count": 28
        }
      ]
    },
    {
      "cell_type": "markdown",
      "metadata": {
        "id": "MjWlQ17XknYn"
      },
      "source": [
        "PI"
      ]
    },
    {
      "cell_type": "code",
      "metadata": {
        "id": "1UVhfcJEkngl",
        "colab": {
          "base_uri": "https://localhost:8080/"
        },
        "outputId": "764f6eef-9d63-4e55-e54e-38e960653274"
      },
      "source": [
        "import math\n",
        "\n",
        "print(math.pi)"
      ],
      "execution_count": 29,
      "outputs": [
        {
          "output_type": "stream",
          "text": [
            "3.141592653589793\n"
          ],
          "name": "stdout"
        }
      ]
    },
    {
      "cell_type": "markdown",
      "metadata": {
        "id": "XbXT5yfSTo6y"
      },
      "source": [
        "Operadores de comparação (>, <, ==, >=, <=, <>, !=, is, in):"
      ]
    },
    {
      "cell_type": "code",
      "metadata": {
        "id": "9ftYsWQZTsPV",
        "colab": {
          "base_uri": "https://localhost:8080/"
        },
        "outputId": "b9624567-a791-4e61-df1a-26e5f8767f36"
      },
      "source": [
        "a = 1\n",
        "b = 2\n",
        "\n",
        "print(a == b)\n",
        "\n",
        "print (a < b)"
      ],
      "execution_count": 30,
      "outputs": [
        {
          "output_type": "stream",
          "text": [
            "False\n",
            "True\n"
          ],
          "name": "stdout"
        }
      ]
    },
    {
      "cell_type": "markdown",
      "metadata": {
        "id": "QftIogc_hPxX"
      },
      "source": [
        "##Operadores lógicos\n",
        "\n",
        "and, or, not"
      ]
    },
    {
      "cell_type": "markdown",
      "metadata": {
        "id": "RdVoeqUmhVRt"
      },
      "source": [
        "##Operadores de identidade\n",
        "\n",
        "is, is not"
      ]
    },
    {
      "cell_type": "markdown",
      "metadata": {
        "id": "fkioKBU4hab0"
      },
      "source": [
        "##Operadores de conjunto\n",
        "in, not in"
      ]
    },
    {
      "cell_type": "markdown",
      "metadata": {
        "id": "FbL31jLo7wnx"
      },
      "source": [
        "# Funções matemáticas"
      ]
    },
    {
      "cell_type": "markdown",
      "metadata": {
        "id": "I3KG2LnL7cqt"
      },
      "source": [
        "Valor absoluto\n"
      ]
    },
    {
      "cell_type": "code",
      "metadata": {
        "id": "z5sPo0sA7cBj",
        "colab": {
          "base_uri": "https://localhost:8080/"
        },
        "outputId": "f624790f-8901-44ab-a29d-596c3b6a3951"
      },
      "source": [
        "# abs retorna o valor absoluto\n",
        "absoluto = abs(-8)\n",
        "\n",
        "print(absoluto)"
      ],
      "execution_count": 31,
      "outputs": [
        {
          "output_type": "stream",
          "text": [
            "8\n"
          ],
          "name": "stdout"
        }
      ]
    },
    {
      "cell_type": "markdown",
      "metadata": {
        "id": "gnipxdw_71Ji"
      },
      "source": [
        "Potência de x elevado a y\n",
        "pow(2, 8)"
      ]
    },
    {
      "cell_type": "code",
      "metadata": {
        "id": "XnSHVL9r71wE",
        "colab": {
          "base_uri": "https://localhost:8080/"
        },
        "outputId": "3fb7bdcb-2800-41e4-ac5e-79bbf287a7c4"
      },
      "source": [
        "# pow(x, y) retorna a potência de x elevado a y\n",
        "resultado = pow(2, 8)\n",
        "\n",
        "print(resultado)"
      ],
      "execution_count": 32,
      "outputs": [
        {
          "output_type": "stream",
          "text": [
            "256\n"
          ],
          "name": "stdout"
        }
      ]
    },
    {
      "cell_type": "markdown",
      "metadata": {
        "id": "S9SlXX-67_TQ"
      },
      "source": [
        "Arredondamento"
      ]
    },
    {
      "cell_type": "code",
      "metadata": {
        "id": "OSJeLNTK8A_8",
        "colab": {
          "base_uri": "https://localhost:8080/"
        },
        "outputId": "0d04b78d-49d1-4a9b-a9af-71e8656bdb2c"
      },
      "source": [
        "# Arredondamento\n",
        "arredondado = round(3.1415926)\n",
        "\n",
        "print(arredondado)\n",
        "\n",
        "# Arredondamento com duas casas decimais\n",
        "arredondado = round(1.61834, 2)\n",
        "\n",
        "print(arredondado)"
      ],
      "execution_count": 33,
      "outputs": [
        {
          "output_type": "stream",
          "text": [
            "3\n",
            "1.62\n"
          ],
          "name": "stdout"
        }
      ]
    },
    {
      "cell_type": "markdown",
      "metadata": {
        "id": "jAOEYrGxKAxp"
      },
      "source": [
        "#Estruturas Condicionais\n",
        "\n",
        "Estrutura se:\n",
        "* if \\<condição\\>:\n",
        "* if \\<condição\\>: else:\n",
        "* if \\<condição1\\>: elif <condição>: else:\n"
      ]
    },
    {
      "cell_type": "markdown",
      "metadata": {
        "id": "dJSVrlVM4WH8"
      },
      "source": [
        "###Exemplo if / se"
      ]
    },
    {
      "cell_type": "markdown",
      "metadata": {
        "id": "sR5sP9TJjYW2"
      },
      "source": [
        ""
      ]
    },
    {
      "cell_type": "code",
      "metadata": {
        "id": "PL68HgJe4WH9",
        "colab": {
          "base_uri": "https://localhost:8080/"
        },
        "outputId": "b84287ce-01b1-4bce-d905-c130e03cde50"
      },
      "source": [
        "x = 10\n",
        "\n",
        "if (x == 10):\n",
        "   print(\"Número é igual a 10\")"
      ],
      "execution_count": 34,
      "outputs": [
        {
          "output_type": "stream",
          "text": [
            "Número é igual a 10\n"
          ],
          "name": "stdout"
        }
      ]
    },
    {
      "cell_type": "markdown",
      "metadata": {
        "id": "J9xDSQK81lbL"
      },
      "source": [
        "###Exemplo if else / se  senão"
      ]
    },
    {
      "cell_type": "code",
      "metadata": {
        "id": "f8CbTprj1k9u",
        "colab": {
          "base_uri": "https://localhost:8080/"
        },
        "outputId": "0cde5e2c-99d5-4083-e490-4450ea926e3e"
      },
      "source": [
        "x = 10\n",
        "\n",
        "if (x%2 == 0):\n",
        "   print(\"Número é par\")\n",
        "else:\n",
        "   print(\"Número é impar\")\n"
      ],
      "execution_count": 35,
      "outputs": [
        {
          "output_type": "stream",
          "text": [
            "Número é par\n"
          ],
          "name": "stdout"
        }
      ]
    },
    {
      "cell_type": "markdown",
      "metadata": {
        "id": "akRvIWEY17SD"
      },
      "source": [
        "###Exemplo if elif else / se senãose senão"
      ]
    },
    {
      "cell_type": "code",
      "metadata": {
        "id": "OsAUTZWu17SG",
        "colab": {
          "base_uri": "https://localhost:8080/"
        },
        "outputId": "45f87e86-33c8-43de-c33d-2296f44a2465"
      },
      "source": [
        "x = 1\n",
        "\n",
        "if (x == 1):\n",
        "   print(\"Número é um\")\n",
        "elif (x == 2):\n",
        "   print(\"Número é dois\")\n",
        "elif (x == 3):\n",
        "     print(\"Número é três\")   \n",
        "else:\n",
        "     print(\"Não é nenhum dos três\")"
      ],
      "execution_count": 36,
      "outputs": [
        {
          "output_type": "stream",
          "text": [
            "Número é um\n"
          ],
          "name": "stdout"
        }
      ]
    },
    {
      "cell_type": "markdown",
      "metadata": {
        "id": "qekx79Xk24nr"
      },
      "source": [
        "###Operador ternário"
      ]
    },
    {
      "cell_type": "code",
      "metadata": {
        "id": "3ae3gjXe26WL",
        "colab": {
          "base_uri": "https://localhost:8080/"
        },
        "outputId": "9bfbdd3c-1aac-4e5b-fac3-7ea6e4adc91f"
      },
      "source": [
        "x = 10\n",
        "\n",
        "saida =  \"Número é par\" if x % 2 == 0 else \"Número é ímpar\"\n",
        "\n",
        "print(saida)"
      ],
      "execution_count": 37,
      "outputs": [
        {
          "output_type": "stream",
          "text": [
            "Número é par\n"
          ],
          "name": "stdout"
        }
      ]
    },
    {
      "cell_type": "markdown",
      "metadata": {
        "id": "UWtJh5RTKHMl"
      },
      "source": [
        "###Exemplo 1\n",
        "https://leportella.com/pt-br/2018/05/07/pytricks-I.html"
      ]
    },
    {
      "cell_type": "code",
      "metadata": {
        "id": "hyvgRNAiKGJ5",
        "colab": {
          "base_uri": "https://localhost:8080/"
        },
        "outputId": "5984e8e7-dba5-42bc-8a4f-3df2ac7a5158"
      },
      "source": [
        "# Declaração e inicialização de diversas variáveis\n",
        "a, b, c, d = 1, 2, 3, 4\n",
        "\n",
        "if a == 1 and b == 2 and c == 3 and d == 4:\n",
        "    print('Tudo verdadeiro!')"
      ],
      "execution_count": 38,
      "outputs": [
        {
          "output_type": "stream",
          "text": [
            "Tudo verdadeiro!\n"
          ],
          "name": "stdout"
        }
      ]
    },
    {
      "cell_type": "markdown",
      "metadata": {
        "id": "6PRgsXBcKMIU"
      },
      "source": [
        "### Exemplo 2"
      ]
    },
    {
      "cell_type": "code",
      "metadata": {
        "id": "PAXDOHY9KNpJ",
        "colab": {
          "base_uri": "https://localhost:8080/"
        },
        "outputId": "77d29e4c-51ef-483c-d53c-7f24cba13c08"
      },
      "source": [
        "# Declaração\n",
        "condicoes = [a==1, b==2, c==3, d==4]\n",
        "\n",
        "if all(condicoes):\n",
        "    print('Tudo verdadeiro!')"
      ],
      "execution_count": 39,
      "outputs": [
        {
          "output_type": "stream",
          "text": [
            "Tudo verdadeiro!\n"
          ],
          "name": "stdout"
        }
      ]
    },
    {
      "cell_type": "markdown",
      "metadata": {
        "id": "Fsm7trhrLjXr"
      },
      "source": [
        "#Estruturas de Repetição"
      ]
    },
    {
      "cell_type": "markdown",
      "metadata": {
        "id": "_nCWw-mF6Ypf"
      },
      "source": [
        "###Exemplo while / enquanto"
      ]
    },
    {
      "cell_type": "code",
      "metadata": {
        "id": "YuLuxlb_6Ypg",
        "colab": {
          "base_uri": "https://localhost:8080/"
        },
        "outputId": "d4c354e9-0893-40d8-f05b-3767ba30e39b"
      },
      "source": [
        "x = 1\n",
        "while (x < 10):\n",
        "    print(x)\n",
        "    x = x + 1"
      ],
      "execution_count": 40,
      "outputs": [
        {
          "output_type": "stream",
          "text": [
            "1\n",
            "2\n",
            "3\n",
            "4\n",
            "5\n",
            "6\n",
            "7\n",
            "8\n",
            "9\n"
          ],
          "name": "stdout"
        }
      ]
    },
    {
      "cell_type": "markdown",
      "metadata": {
        "id": "OZZwXfkz6Pxn"
      },
      "source": [
        "###Exemplo for / para"
      ]
    },
    {
      "cell_type": "code",
      "metadata": {
        "id": "huXSTwS-6TZG",
        "colab": {
          "base_uri": "https://localhost:8080/"
        },
        "outputId": "a665c8dd-ee19-4135-8e16-9ff90065a29a"
      },
      "source": [
        "for x in range(1,10):\n",
        "  print(x)"
      ],
      "execution_count": 41,
      "outputs": [
        {
          "output_type": "stream",
          "text": [
            "1\n",
            "2\n",
            "3\n",
            "4\n",
            "5\n",
            "6\n",
            "7\n",
            "8\n",
            "9\n"
          ],
          "name": "stdout"
        }
      ]
    },
    {
      "cell_type": "markdown",
      "metadata": {
        "id": "zhAeH6TJLp-5"
      },
      "source": [
        "##For com else (lista vazia)\n",
        "\n",
        "Quando a lista está vazia entra no else."
      ]
    },
    {
      "cell_type": "code",
      "metadata": {
        "id": "KM1Iv5ioLrqm",
        "colab": {
          "base_uri": "https://localhost:8080/"
        },
        "outputId": "80ede093-358e-4341-fa5e-fc3238a8f405"
      },
      "source": [
        "lista = []\n",
        "\n",
        "for x in lista:\n",
        "    print('dentro do loop')\n",
        "else:\n",
        "    print('dentro do else')"
      ],
      "execution_count": 42,
      "outputs": [
        {
          "output_type": "stream",
          "text": [
            "dentro do else\n"
          ],
          "name": "stdout"
        }
      ]
    },
    {
      "cell_type": "markdown",
      "metadata": {
        "id": "zF2nR0vHLwXk"
      },
      "source": [
        "##For com else (lista cheia)"
      ]
    },
    {
      "cell_type": "code",
      "metadata": {
        "id": "GD_lwF1tL3ne",
        "colab": {
          "base_uri": "https://localhost:8080/"
        },
        "outputId": "474f7ec3-0c27-4c3a-c1e9-63b08b1423de"
      },
      "source": [
        "lista = [1, 2]\n",
        "\n",
        "for x in lista:\n",
        "    print('dentro do loop')\n",
        "else:\n",
        "    print('dentro do else')"
      ],
      "execution_count": 43,
      "outputs": [
        {
          "output_type": "stream",
          "text": [
            "dentro do loop\n",
            "dentro do loop\n",
            "dentro do else\n"
          ],
          "name": "stdout"
        }
      ]
    },
    {
      "cell_type": "markdown",
      "metadata": {
        "id": "SNxml-n9wYvX"
      },
      "source": [
        "# Tratamento de mensagens"
      ]
    },
    {
      "cell_type": "code",
      "metadata": {
        "id": "uP3uiJ4bwbEO",
        "colab": {
          "base_uri": "https://localhost:8080/"
        },
        "outputId": "52cee3ad-d543-4c8c-fdff-9f34ea41161e"
      },
      "source": [
        "# Biblioteca de logging\n",
        "import logging\n",
        "\n",
        "# Formata a mensagem de login\n",
        "logging.basicConfig(format='%(asctime)s : %(levelname)s : %(message)s', level=logging.INFO)\n",
        "\n",
        "#uso da mensagem sem parâmetro\n",
        "logging.info('Função criada!')\n",
        "\n",
        "#uso da mensagem com parâmetro\n",
        "logging.info('Arquivo {0} baixado'.format('teste.txt'))"
      ],
      "execution_count": 44,
      "outputs": [
        {
          "output_type": "stream",
          "text": [
            "2020-11-29 11:44:11,903 : INFO : Função criada!\n",
            "2020-11-29 11:44:11,905 : INFO : Arquivo teste.txt baixado\n"
          ],
          "name": "stderr"
        }
      ]
    },
    {
      "cell_type": "markdown",
      "metadata": {
        "id": "ph1Lv7dFpUpm"
      },
      "source": [
        "#Comandos Bash\n",
        "Os comandos de bash podem ser executados colocando o prefixo **'!'** antes do comando.\n",
        "\n",
        "Considere o sistema operacional onde será executado o comando."
      ]
    },
    {
      "cell_type": "markdown",
      "metadata": {
        "id": "fi1PA_yqrTbj"
      },
      "source": [
        "Jupyter inclue atralhos para as operações mais comuns, como os ls:"
      ]
    },
    {
      "cell_type": "code",
      "metadata": {
        "id": "ob15HRD4raDj",
        "colab": {
          "base_uri": "https://localhost:8080/"
        },
        "outputId": "cdd96fa8-adf1-45e5-f07d-c52b4a93b479"
      },
      "source": [
        "!ls /bin"
      ],
      "execution_count": 45,
      "outputs": [
        {
          "output_type": "stream",
          "text": [
            "bash\t       hostname       su\n",
            "bunzip2        journalctl     sync\n",
            "bzcat\t       kill\t      systemctl\n",
            "bzcmp\t       kmod\t      systemd\n",
            "bzdiff\t       less\t      systemd-ask-password\n",
            "bzegrep        lessecho       systemd-escape\n",
            "bzexe\t       lessfile       systemd-hwdb\n",
            "bzfgrep        lesskey\t      systemd-inhibit\n",
            "bzgrep\t       lesspipe       systemd-machine-id-setup\n",
            "bzip2\t       ln\t      systemd-notify\n",
            "bzip2recover   login\t      systemd-sysusers\n",
            "bzless\t       loginctl       systemd-tmpfiles\n",
            "bzmore\t       ls\t      systemd-tty-ask-password-agent\n",
            "cat\t       lsblk\t      tar\n",
            "chgrp\t       lsmod\t      tempfile\n",
            "chmod\t       mkdir\t      touch\n",
            "chown\t       mknod\t      true\n",
            "cp\t       mktemp\t      udevadm\n",
            "dash\t       more\t      ulockmgr_server\n",
            "date\t       mount\t      umount\n",
            "dd\t       mountpoint     uname\n",
            "df\t       mv\t      uncompress\n",
            "dir\t       networkctl     vdir\n",
            "dmesg\t       nisdomainname  wdctl\n",
            "dnsdomainname  pidof\t      which\n",
            "domainname     ps\t      ypdomainname\n",
            "echo\t       pwd\t      zcat\n",
            "egrep\t       rbash\t      zcmp\n",
            "false\t       readlink       zdiff\n",
            "fgrep\t       rm\t      zegrep\n",
            "findmnt        rmdir\t      zfgrep\n",
            "fuser\t       run-parts      zforce\n",
            "fusermount     sed\t      zgrep\n",
            "grep\t       sh\t      zless\n",
            "gunzip\t       sh.distrib     zmore\n",
            "gzexe\t       sleep\t      znew\n",
            "gzip\t       stty\n"
          ],
          "name": "stdout"
        }
      ]
    },
    {
      "cell_type": "markdown",
      "metadata": {
        "id": "mtN0U84-vIwj"
      },
      "source": [
        "## Informações da máquina\n",
        "https://medium.com/@italojs/gpu-tpu-de-gra%C3%A7a-na-web-onde-como-e511780294c7"
      ]
    },
    {
      "cell_type": "markdown",
      "metadata": {
        "id": "_pq3FkFR3O6X"
      },
      "source": [
        "Dados da CPU"
      ]
    },
    {
      "cell_type": "code",
      "metadata": {
        "id": "AEWISUG_3Rdr",
        "colab": {
          "base_uri": "https://localhost:8080/"
        },
        "outputId": "ccc3fd5f-9e21-41a1-9bcb-6a5a2934d589"
      },
      "source": [
        "!lscpu"
      ],
      "execution_count": 46,
      "outputs": [
        {
          "output_type": "stream",
          "text": [
            "Architecture:        x86_64\n",
            "CPU op-mode(s):      32-bit, 64-bit\n",
            "Byte Order:          Little Endian\n",
            "CPU(s):              2\n",
            "On-line CPU(s) list: 0,1\n",
            "Thread(s) per core:  2\n",
            "Core(s) per socket:  1\n",
            "Socket(s):           1\n",
            "NUMA node(s):        1\n",
            "Vendor ID:           GenuineIntel\n",
            "CPU family:          6\n",
            "Model:               79\n",
            "Model name:          Intel(R) Xeon(R) CPU @ 2.20GHz\n",
            "Stepping:            0\n",
            "CPU MHz:             2200.000\n",
            "BogoMIPS:            4400.00\n",
            "Hypervisor vendor:   KVM\n",
            "Virtualization type: full\n",
            "L1d cache:           32K\n",
            "L1i cache:           32K\n",
            "L2 cache:            256K\n",
            "L3 cache:            56320K\n",
            "NUMA node0 CPU(s):   0,1\n",
            "Flags:               fpu vme de pse tsc msr pae mce cx8 apic sep mtrr pge mca cmov pat pse36 clflush mmx fxsr sse sse2 ss ht syscall nx pdpe1gb rdtscp lm constant_tsc rep_good nopl xtopology nonstop_tsc cpuid tsc_known_freq pni pclmulqdq ssse3 fma cx16 pcid sse4_1 sse4_2 x2apic movbe popcnt aes xsave avx f16c rdrand hypervisor lahf_lm abm 3dnowprefetch invpcid_single ssbd ibrs ibpb stibp fsgsbase tsc_adjust bmi1 hle avx2 smep bmi2 erms invpcid rtm rdseed adx smap xsaveopt arat md_clear arch_capabilities\n"
          ],
          "name": "stdout"
        }
      ]
    },
    {
      "cell_type": "markdown",
      "metadata": {
        "id": "pGVepIwH0PMp"
      },
      "source": [
        "Dados das CPUs"
      ]
    },
    {
      "cell_type": "code",
      "metadata": {
        "id": "pPdf46960QqZ",
        "colab": {
          "base_uri": "https://localhost:8080/"
        },
        "outputId": "7c06f05c-4f49-4c7c-f5a7-2ed27c5eac76"
      },
      "source": [
        "!cat /proc/cpuinfo"
      ],
      "execution_count": 47,
      "outputs": [
        {
          "output_type": "stream",
          "text": [
            "processor\t: 0\n",
            "vendor_id\t: GenuineIntel\n",
            "cpu family\t: 6\n",
            "model\t\t: 79\n",
            "model name\t: Intel(R) Xeon(R) CPU @ 2.20GHz\n",
            "stepping\t: 0\n",
            "microcode\t: 0x1\n",
            "cpu MHz\t\t: 2200.000\n",
            "cache size\t: 56320 KB\n",
            "physical id\t: 0\n",
            "siblings\t: 2\n",
            "core id\t\t: 0\n",
            "cpu cores\t: 1\n",
            "apicid\t\t: 0\n",
            "initial apicid\t: 0\n",
            "fpu\t\t: yes\n",
            "fpu_exception\t: yes\n",
            "cpuid level\t: 13\n",
            "wp\t\t: yes\n",
            "flags\t\t: fpu vme de pse tsc msr pae mce cx8 apic sep mtrr pge mca cmov pat pse36 clflush mmx fxsr sse sse2 ss ht syscall nx pdpe1gb rdtscp lm constant_tsc rep_good nopl xtopology nonstop_tsc cpuid tsc_known_freq pni pclmulqdq ssse3 fma cx16 pcid sse4_1 sse4_2 x2apic movbe popcnt aes xsave avx f16c rdrand hypervisor lahf_lm abm 3dnowprefetch invpcid_single ssbd ibrs ibpb stibp fsgsbase tsc_adjust bmi1 hle avx2 smep bmi2 erms invpcid rtm rdseed adx smap xsaveopt arat md_clear arch_capabilities\n",
            "bugs\t\t: cpu_meltdown spectre_v1 spectre_v2 spec_store_bypass l1tf mds swapgs taa\n",
            "bogomips\t: 4400.00\n",
            "clflush size\t: 64\n",
            "cache_alignment\t: 64\n",
            "address sizes\t: 46 bits physical, 48 bits virtual\n",
            "power management:\n",
            "\n",
            "processor\t: 1\n",
            "vendor_id\t: GenuineIntel\n",
            "cpu family\t: 6\n",
            "model\t\t: 79\n",
            "model name\t: Intel(R) Xeon(R) CPU @ 2.20GHz\n",
            "stepping\t: 0\n",
            "microcode\t: 0x1\n",
            "cpu MHz\t\t: 2200.000\n",
            "cache size\t: 56320 KB\n",
            "physical id\t: 0\n",
            "siblings\t: 2\n",
            "core id\t\t: 0\n",
            "cpu cores\t: 1\n",
            "apicid\t\t: 1\n",
            "initial apicid\t: 1\n",
            "fpu\t\t: yes\n",
            "fpu_exception\t: yes\n",
            "cpuid level\t: 13\n",
            "wp\t\t: yes\n",
            "flags\t\t: fpu vme de pse tsc msr pae mce cx8 apic sep mtrr pge mca cmov pat pse36 clflush mmx fxsr sse sse2 ss ht syscall nx pdpe1gb rdtscp lm constant_tsc rep_good nopl xtopology nonstop_tsc cpuid tsc_known_freq pni pclmulqdq ssse3 fma cx16 pcid sse4_1 sse4_2 x2apic movbe popcnt aes xsave avx f16c rdrand hypervisor lahf_lm abm 3dnowprefetch invpcid_single ssbd ibrs ibpb stibp fsgsbase tsc_adjust bmi1 hle avx2 smep bmi2 erms invpcid rtm rdseed adx smap xsaveopt arat md_clear arch_capabilities\n",
            "bugs\t\t: cpu_meltdown spectre_v1 spectre_v2 spec_store_bypass l1tf mds swapgs taa\n",
            "bogomips\t: 4400.00\n",
            "clflush size\t: 64\n",
            "cache_alignment\t: 64\n",
            "address sizes\t: 46 bits physical, 48 bits virtual\n",
            "power management:\n",
            "\n"
          ],
          "name": "stdout"
        }
      ]
    },
    {
      "cell_type": "markdown",
      "metadata": {
        "id": "aTs1kdPTyYTP"
      },
      "source": [
        "Qual GPU está sendo utilizada.<br>\n",
        "https://medium.com/deep-learning-turkey/google-colab-free-gpu-tutorial-e113627b9f5d\n"
      ]
    },
    {
      "cell_type": "code",
      "metadata": {
        "id": "yT5-lyWkybd0",
        "colab": {
          "base_uri": "https://localhost:8080/"
        },
        "outputId": "62fad9e5-27d7-45dc-eb71-c7b5a2d769a2"
      },
      "source": [
        "#seleciona a versão do tensorflow\n",
        "%tensorflow_version 2.x\n",
        "\n",
        "#exibe as informações da gpu\n",
        "from tensorflow.python.client import device_lib\n",
        "device_lib.list_local_devices()"
      ],
      "execution_count": 48,
      "outputs": [
        {
          "output_type": "execute_result",
          "data": {
            "text/plain": [
              "[name: \"/device:CPU:0\"\n",
              " device_type: \"CPU\"\n",
              " memory_limit: 268435456\n",
              " locality {\n",
              " }\n",
              " incarnation: 14242301807006331819, name: \"/device:XLA_CPU:0\"\n",
              " device_type: \"XLA_CPU\"\n",
              " memory_limit: 17179869184\n",
              " locality {\n",
              " }\n",
              " incarnation: 14617294756693919790\n",
              " physical_device_desc: \"device: XLA_CPU device\"]"
            ]
          },
          "metadata": {
            "tags": []
          },
          "execution_count": 48
        }
      ]
    },
    {
      "cell_type": "code",
      "metadata": {
        "id": "dE5GXR6XiriH",
        "colab": {
          "base_uri": "https://localhost:8080/",
          "height": 35
        },
        "outputId": "5c088378-4a01-4419-8759-645fcd9db36a"
      },
      "source": [
        "import tensorflow as tf\n",
        "tf.__version__"
      ],
      "execution_count": 49,
      "outputs": [
        {
          "output_type": "execute_result",
          "data": {
            "application/vnd.google.colaboratory.intrinsic+json": {
              "type": "string"
            },
            "text/plain": [
              "'2.3.0'"
            ]
          },
          "metadata": {
            "tags": []
          },
          "execution_count": 49
        }
      ]
    },
    {
      "cell_type": "markdown",
      "metadata": {
        "id": "jizdOi1bz0Cr"
      },
      "source": [
        "Quantidade de memória"
      ]
    },
    {
      "cell_type": "code",
      "metadata": {
        "id": "kF1eDgNqz10N",
        "colab": {
          "base_uri": "https://localhost:8080/"
        },
        "outputId": "bf200185-114b-4e53-a660-1839f3c9c634"
      },
      "source": [
        "!cat /proc/meminfo"
      ],
      "execution_count": 50,
      "outputs": [
        {
          "output_type": "stream",
          "text": [
            "MemTotal:       13333596 kB\n",
            "MemFree:        10802916 kB\n",
            "MemAvailable:   12441464 kB\n",
            "Buffers:           71184 kB\n",
            "Cached:          1713084 kB\n",
            "SwapCached:            0 kB\n",
            "Active:           710932 kB\n",
            "Inactive:        1561628 kB\n",
            "Active(anon):     451520 kB\n",
            "Inactive(anon):      344 kB\n",
            "Active(file):     259412 kB\n",
            "Inactive(file):  1561284 kB\n",
            "Unevictable:           0 kB\n",
            "Mlocked:               0 kB\n",
            "SwapTotal:             0 kB\n",
            "SwapFree:              0 kB\n",
            "Dirty:              3352 kB\n",
            "Writeback:             0 kB\n",
            "AnonPages:        488400 kB\n",
            "Mapped:           332564 kB\n",
            "Shmem:               936 kB\n",
            "Slab:             155112 kB\n",
            "SReclaimable:     117380 kB\n",
            "SUnreclaim:        37732 kB\n",
            "KernelStack:        3888 kB\n",
            "PageTables:         6184 kB\n",
            "NFS_Unstable:          0 kB\n",
            "Bounce:                0 kB\n",
            "WritebackTmp:          0 kB\n",
            "CommitLimit:     6666796 kB\n",
            "Committed_AS:    2803288 kB\n",
            "VmallocTotal:   34359738367 kB\n",
            "VmallocUsed:           0 kB\n",
            "VmallocChunk:          0 kB\n",
            "Percpu:              952 kB\n",
            "AnonHugePages:         0 kB\n",
            "ShmemHugePages:        0 kB\n",
            "ShmemPmdMapped:        0 kB\n",
            "HugePages_Total:       0\n",
            "HugePages_Free:        0\n",
            "HugePages_Rsvd:        0\n",
            "HugePages_Surp:        0\n",
            "Hugepagesize:       2048 kB\n",
            "Hugetlb:               0 kB\n",
            "DirectMap4k:       77032 kB\n",
            "DirectMap2M:     4116480 kB\n",
            "DirectMap1G:    11534336 kB\n"
          ],
          "name": "stdout"
        }
      ]
    },
    {
      "cell_type": "markdown",
      "metadata": {
        "id": "-9Q36nbXv37R"
      },
      "source": [
        "Dados do Sistema Operacional"
      ]
    },
    {
      "cell_type": "code",
      "metadata": {
        "id": "_kVoPBb-v6uB",
        "colab": {
          "base_uri": "https://localhost:8080/"
        },
        "outputId": "dea45f6c-96c6-41d3-f757-95887628b0e8"
      },
      "source": [
        "!cat /etc/os-release"
      ],
      "execution_count": 51,
      "outputs": [
        {
          "output_type": "stream",
          "text": [
            "NAME=\"Ubuntu\"\n",
            "VERSION=\"18.04.5 LTS (Bionic Beaver)\"\n",
            "ID=ubuntu\n",
            "ID_LIKE=debian\n",
            "PRETTY_NAME=\"Ubuntu 18.04.5 LTS\"\n",
            "VERSION_ID=\"18.04\"\n",
            "HOME_URL=\"https://www.ubuntu.com/\"\n",
            "SUPPORT_URL=\"https://help.ubuntu.com/\"\n",
            "BUG_REPORT_URL=\"https://bugs.launchpad.net/ubuntu/\"\n",
            "PRIVACY_POLICY_URL=\"https://www.ubuntu.com/legal/terms-and-policies/privacy-policy\"\n",
            "VERSION_CODENAME=bionic\n",
            "UBUNTU_CODENAME=bionic\n"
          ],
          "name": "stdout"
        }
      ]
    },
    {
      "cell_type": "markdown",
      "metadata": {
        "id": "sEgR7FQIu1x1"
      },
      "source": [
        "Tamanho do disco"
      ]
    },
    {
      "cell_type": "code",
      "metadata": {
        "id": "xnG2d1n2u-ll",
        "colab": {
          "base_uri": "https://localhost:8080/"
        },
        "outputId": "d0ebe59e-eb61-46d4-9548-790069ddb04c"
      },
      "source": [
        "!df -k ."
      ],
      "execution_count": 52,
      "outputs": [
        {
          "output_type": "stream",
          "text": [
            "Filesystem     1K-blocks     Used Available Use% Mounted on\n",
            "overlay        113008892 33476224  79516284  30% /\n"
          ],
          "name": "stdout"
        }
      ]
    },
    {
      "cell_type": "markdown",
      "metadata": {
        "id": "UnONs-014Emq"
      },
      "source": [
        "Tamanho dos diretórios"
      ]
    },
    {
      "cell_type": "code",
      "metadata": {
        "id": "fP7QDSIH4GkF",
        "colab": {
          "base_uri": "https://localhost:8080/"
        },
        "outputId": "20242d93-c75d-49f6-f5dc-bf78ea3ab3b8"
      },
      "source": [
        "!df -h"
      ],
      "execution_count": 53,
      "outputs": [
        {
          "output_type": "stream",
          "text": [
            "Filesystem      Size  Used Avail Use% Mounted on\n",
            "overlay         108G   32G   76G  30% /\n",
            "tmpfs            64M     0   64M   0% /dev\n",
            "tmpfs           6.4G     0  6.4G   0% /sys/fs/cgroup\n",
            "shm             5.9G     0  5.9G   0% /dev/shm\n",
            "tmpfs           6.4G   16K  6.4G   1% /var/colab\n",
            "/dev/sda1       114G   34G   81G  30% /etc/hosts\n",
            "tmpfs           6.4G     0  6.4G   0% /proc/acpi\n",
            "tmpfs           6.4G     0  6.4G   0% /proc/scsi\n",
            "tmpfs           6.4G     0  6.4G   0% /sys/firmware\n"
          ],
          "name": "stdout"
        }
      ]
    },
    {
      "cell_type": "markdown",
      "metadata": {
        "id": "p4xA41jV_O27"
      },
      "source": [
        "# Traduzindo Texto\n",
        "\n"
      ]
    },
    {
      "cell_type": "markdown",
      "metadata": {
        "id": "JGJFuBkxP3si"
      },
      "source": [
        "## Google Translator\n",
        "https://pypi.org/project/googletrans/\n"
      ]
    },
    {
      "cell_type": "code",
      "metadata": {
        "id": "aTVQoxuF_kbP",
        "colab": {
          "base_uri": "https://localhost:8080/"
        },
        "outputId": "0cc94406-2c15-4c12-b6f6-e65e14b640ab"
      },
      "source": [
        "!pip install googletrans"
      ],
      "execution_count": 54,
      "outputs": [
        {
          "output_type": "stream",
          "text": [
            "Collecting googletrans\n",
            "  Downloading https://files.pythonhosted.org/packages/71/3a/3b19effdd4c03958b90f40fe01c93de6d5280e03843cc5adf6956bfc9512/googletrans-3.0.0.tar.gz\n",
            "Collecting httpx==0.13.3\n",
            "\u001b[?25l  Downloading https://files.pythonhosted.org/packages/54/b4/698b284c6aed4d7c2b4fe3ba5df1fcf6093612423797e76fbb24890dd22f/httpx-0.13.3-py3-none-any.whl (55kB)\n",
            "\u001b[K     |████████████████████████████████| 61kB 4.6MB/s \n",
            "\u001b[?25hCollecting hstspreload\n",
            "\u001b[?25l  Downloading https://files.pythonhosted.org/packages/d3/3c/cdeaf9ab0404853e77c45d9e8021d0d2c01f70a1bb26e460090926fe2a5e/hstspreload-2020.11.21-py3-none-any.whl (981kB)\n",
            "\u001b[K     |████████████████████████████████| 983kB 11.2MB/s \n",
            "\u001b[?25hCollecting httpcore==0.9.*\n",
            "\u001b[?25l  Downloading https://files.pythonhosted.org/packages/dd/d5/e4ff9318693ac6101a2095e580908b591838c6f33df8d3ee8dd953ba96a8/httpcore-0.9.1-py3-none-any.whl (42kB)\n",
            "\u001b[K     |████████████████████████████████| 51kB 7.1MB/s \n",
            "\u001b[?25hRequirement already satisfied: certifi in /usr/local/lib/python3.6/dist-packages (from httpx==0.13.3->googletrans) (2020.11.8)\n",
            "Requirement already satisfied: idna==2.* in /usr/local/lib/python3.6/dist-packages (from httpx==0.13.3->googletrans) (2.10)\n",
            "Collecting sniffio\n",
            "  Downloading https://files.pythonhosted.org/packages/52/b0/7b2e028b63d092804b6794595871f936aafa5e9322dcaaad50ebf67445b3/sniffio-1.2.0-py3-none-any.whl\n",
            "Requirement already satisfied: chardet==3.* in /usr/local/lib/python3.6/dist-packages (from httpx==0.13.3->googletrans) (3.0.4)\n",
            "Collecting rfc3986<2,>=1.3\n",
            "  Downloading https://files.pythonhosted.org/packages/78/be/7b8b99fd74ff5684225f50dd0e865393d2265656ef3b4ba9eaaaffe622b8/rfc3986-1.4.0-py2.py3-none-any.whl\n",
            "Collecting h2==3.*\n",
            "\u001b[?25l  Downloading https://files.pythonhosted.org/packages/25/de/da019bcc539eeab02f6d45836f23858ac467f584bfec7a526ef200242afe/h2-3.2.0-py2.py3-none-any.whl (65kB)\n",
            "\u001b[K     |████████████████████████████████| 71kB 7.9MB/s \n",
            "\u001b[?25hCollecting h11<0.10,>=0.8\n",
            "\u001b[?25l  Downloading https://files.pythonhosted.org/packages/5a/fd/3dad730b0f95e78aeeb742f96fa7bbecbdd56a58e405d3da440d5bfb90c6/h11-0.9.0-py2.py3-none-any.whl (53kB)\n",
            "\u001b[K     |████████████████████████████████| 61kB 7.8MB/s \n",
            "\u001b[?25hCollecting contextvars>=2.1; python_version < \"3.7\"\n",
            "  Downloading https://files.pythonhosted.org/packages/83/96/55b82d9f13763be9d672622e1b8106c85acb83edd7cc2fa5bc67cd9877e9/contextvars-2.4.tar.gz\n",
            "Collecting hyperframe<6,>=5.2.0\n",
            "  Downloading https://files.pythonhosted.org/packages/19/0c/bf88182bcb5dce3094e2f3e4fe20db28a9928cb7bd5b08024030e4b140db/hyperframe-5.2.0-py2.py3-none-any.whl\n",
            "Collecting hpack<4,>=3.0\n",
            "  Downloading https://files.pythonhosted.org/packages/8a/cc/e53517f4a1e13f74776ca93271caef378dadec14d71c61c949d759d3db69/hpack-3.0.0-py2.py3-none-any.whl\n",
            "Collecting immutables>=0.9\n",
            "\u001b[?25l  Downloading https://files.pythonhosted.org/packages/99/e0/ea6fd4697120327d26773b5a84853f897a68e33d3f9376b00a8ff96e4f63/immutables-0.14-cp36-cp36m-manylinux1_x86_64.whl (98kB)\n",
            "\u001b[K     |████████████████████████████████| 102kB 10.3MB/s \n",
            "\u001b[?25hBuilding wheels for collected packages: googletrans, contextvars\n",
            "  Building wheel for googletrans (setup.py) ... \u001b[?25l\u001b[?25hdone\n",
            "  Created wheel for googletrans: filename=googletrans-3.0.0-cp36-none-any.whl size=15736 sha256=08266647c8186f3441384f2072c79ee42feb6632b0f1fff8caf8f0a4fa7902e7\n",
            "  Stored in directory: /root/.cache/pip/wheels/28/1a/a7/eaf4d7a3417a0c65796c547cff4deb6d79c7d14c2abd29273e\n",
            "  Building wheel for contextvars (setup.py) ... \u001b[?25l\u001b[?25hdone\n",
            "  Created wheel for contextvars: filename=contextvars-2.4-cp36-none-any.whl size=7666 sha256=90d2feb4f62fec3aecb709ab75352fe5b2288610243e0e8e995c473fa7377e21\n",
            "  Stored in directory: /root/.cache/pip/wheels/a5/7d/68/1ebae2668bda2228686e3c1cf16f2c2384cea6e9334ad5f6de\n",
            "Successfully built googletrans contextvars\n",
            "Installing collected packages: hstspreload, hyperframe, hpack, h2, immutables, contextvars, sniffio, h11, httpcore, rfc3986, httpx, googletrans\n",
            "Successfully installed contextvars-2.4 googletrans-3.0.0 h11-0.9.0 h2-3.2.0 hpack-3.0.0 hstspreload-2020.11.21 httpcore-0.9.1 httpx-0.13.3 hyperframe-5.2.0 immutables-0.14 rfc3986-1.4.0 sniffio-1.2.0\n"
          ],
          "name": "stdout"
        }
      ]
    },
    {
      "cell_type": "code",
      "metadata": {
        "id": "VN_WDVHyASEd",
        "colab": {
          "base_uri": "https://localhost:8080/"
        },
        "outputId": "bc0559c0-757d-4ace-ef4c-39e16fb86624"
      },
      "source": [
        "from googletrans import Translator\n",
        "\n",
        "translator = Translator()\n",
        "\n",
        "fraseEn = 'The sky is blue.'\n",
        "\n",
        "frasePtBR = translator.translate(fraseEn, dest='pt').text\n",
        "\n",
        "print(frasePtBR)"
      ],
      "execution_count": 56,
      "outputs": [
        {
          "output_type": "stream",
          "text": [
            "O céu é azul.\n"
          ],
          "name": "stdout"
        }
      ]
    },
    {
      "cell_type": "markdown",
      "metadata": {
        "id": "YP61G0BtQNlj"
      },
      "source": [
        "## TextBlob"
      ]
    },
    {
      "cell_type": "code",
      "metadata": {
        "id": "qbanD21ZQTML",
        "colab": {
          "base_uri": "https://localhost:8080/"
        },
        "outputId": "1c1ed090-f4a5-4504-eec9-5a4181c1b66b"
      },
      "source": [
        "from textblob import TextBlob\n",
        "\n",
        "fraseEn = 'The sky is blue.'\n",
        "\n",
        "translation = TextBlob(fraseEn)\n",
        "\n",
        "frasePtBR = translation.translate(from_lang='en', to='pt')\n",
        "\n",
        "print(frasePtBR)\n"
      ],
      "execution_count": 57,
      "outputs": [
        {
          "output_type": "stream",
          "text": [
            "O céu é azul.\n"
          ],
          "name": "stdout"
        }
      ]
    },
    {
      "cell_type": "markdown",
      "metadata": {
        "id": "_-uC2Yk7yQur"
      },
      "source": [
        "#Remove Tags HTML do texto\n",
        "\n",
        "https://code.launchpad.net/beautifulsoup/\n"
      ]
    },
    {
      "cell_type": "code",
      "metadata": {
        "id": "modQjr4AyUpn",
        "colab": {
          "base_uri": "https://localhost:8080/"
        },
        "outputId": "9f125b68-e14c-4723-a500-00bd95a068db"
      },
      "source": [
        "from bs4 import BeautifulSoup\n",
        "\n",
        "mensagemhtml = \"<html><p>Mensagem do HTML</p></html>\"\n",
        "\n",
        "soup = BeautifulSoup(mensagemhtml)\n",
        "\n",
        "mensagemlimpa = soup.get_text()\n",
        "\n",
        "print(mensagemhtml)\n",
        "\n",
        "print(mensagemlimpa)"
      ],
      "execution_count": 58,
      "outputs": [
        {
          "output_type": "stream",
          "text": [
            "<html><p>Mensagem do HTML</p></html>\n",
            "Mensagem do HTML\n"
          ],
          "name": "stdout"
        }
      ]
    },
    {
      "cell_type": "markdown",
      "metadata": {
        "id": "KPkDUbfeg9H7"
      },
      "source": [
        "#Funções\n",
        "\n",
        "Artigo sobre parâmetros, argumentos, *args e \\***kwargs.\n",
        "\n",
        "https://medium.com/luizalabs/fun%C3%A7%C3%B5es-em-python-entendendo-par%C3%A2metros-argumentos-args-e-kwargs-4291b1f817f6"
      ]
    },
    {
      "cell_type": "markdown",
      "metadata": {
        "id": "8U4rSmgUf30l"
      },
      "source": [
        "##Funções com quantidade de parâmetros indeterminados\n",
        "\n",
        "Com o uso de um * (asterisco) podemos criar funções com números indeterminados de parâmetros.\n"
      ]
    },
    {
      "cell_type": "code",
      "metadata": {
        "id": "1l7Kpy-wf30m",
        "colab": {
          "base_uri": "https://localhost:8080/"
        },
        "outputId": "ba7c78eb-0e77-4c75-b35f-63f09c7d71d3"
      },
      "source": [
        "# Declara a função\n",
        "def soma(*valores):\n",
        "    soma = 0 \n",
        "    for i in valores:\n",
        "        soma += i\n",
        "    return soma\n",
        "\n",
        "\n",
        "# Utiliza a função\n",
        "print(soma(1,2,3))\n",
        "print(soma(1,2,3,4))"
      ],
      "execution_count": 59,
      "outputs": [
        {
          "output_type": "stream",
          "text": [
            "6\n",
            "10\n"
          ],
          "name": "stdout"
        }
      ]
    },
    {
      "cell_type": "markdown",
      "metadata": {
        "id": "fIP4lbqu9Z0z"
      },
      "source": [
        "##Funções como parâmetros de funções"
      ]
    },
    {
      "cell_type": "code",
      "metadata": {
        "id": "cpUNK-rc9cxo"
      },
      "source": [
        "# Função a ser usada como argumento\n",
        "def fatorial(n):\n",
        "  fat = 1\n",
        "  for x in range(1,n+1):\n",
        "      fat = fat * x\n",
        "  return fat"
      ],
      "execution_count": 60,
      "outputs": []
    },
    {
      "cell_type": "code",
      "metadata": {
        "id": "vm9jnvB89-Jk"
      },
      "source": [
        "# Chama a função passada como argumento e especifica o argumento\n",
        "def chamada(funcao, argumento):\n",
        "  return funcao(argumento)"
      ],
      "execution_count": 61,
      "outputs": []
    },
    {
      "cell_type": "code",
      "metadata": {
        "id": "3SpFetlB9nLH",
        "colab": {
          "base_uri": "https://localhost:8080/"
        },
        "outputId": "938ef580-29d7-4bd1-c353-16e25e1340a8"
      },
      "source": [
        "# Chama a função passando a função fatorial e o argumento 3\n",
        "print(chamada(fatorial,3))"
      ],
      "execution_count": 62,
      "outputs": [
        {
          "output_type": "stream",
          "text": [
            "6\n"
          ],
          "name": "stdout"
        }
      ]
    },
    {
      "cell_type": "markdown",
      "metadata": {
        "id": "PMn9AwJNgJQm"
      },
      "source": [
        "##Funções Lambda\n",
        "\n",
        "Também conhecida como funções anônimas, as funções lambdas permite implementar uma função específica em um único bloco de instrução, sem a necessidade de definir uma função usando a palavra def. A diferença entre as funções são que:\n",
        "\n",
        "* def - cria um objeto internamente colocando o nome da função apontando para ele.\n",
        "* lambda - cria um objeto, porém o retorno é efetuado em tempo de execução.\n",
        "\n",
        "Sintaxe: lambda arg1,...,argN:expressão\n",
        "\n",
        "Exemplos de função utilizando a expressão lambda:"
      ]
    },
    {
      "cell_type": "code",
      "metadata": {
        "id": "ZG82UpBxgT4n",
        "colab": {
          "base_uri": "https://localhost:8080/"
        },
        "outputId": "f78f7c7f-9972-4552-82af-36efe87079b8"
      },
      "source": [
        "# Declaração\n",
        "exponencial = lambda x:x*2\n",
        "\n",
        "# Utiliza a função\n",
        "exponencial(8)"
      ],
      "execution_count": 63,
      "outputs": [
        {
          "output_type": "execute_result",
          "data": {
            "text/plain": [
              "16"
            ]
          },
          "metadata": {
            "tags": []
          },
          "execution_count": 63
        }
      ]
    },
    {
      "cell_type": "code",
      "metadata": {
        "id": "bQMl20WagYB3",
        "colab": {
          "base_uri": "https://localhost:8080/"
        },
        "outputId": "d6f2bbb1-6e97-4f1f-94bd-981959d33eb9"
      },
      "source": [
        "# Declaração\n",
        "situacao = lambda nota:nota >= 6\n",
        "\n",
        "# Utiliza a função\n",
        "situacao(7)"
      ],
      "execution_count": 64,
      "outputs": [
        {
          "output_type": "execute_result",
          "data": {
            "text/plain": [
              "True"
            ]
          },
          "metadata": {
            "tags": []
          },
          "execution_count": 64
        }
      ]
    },
    {
      "cell_type": "code",
      "metadata": {
        "id": "pORa0WrNglxE",
        "colab": {
          "base_uri": "https://localhost:8080/",
          "height": 35
        },
        "outputId": "9b5f6fdc-67bb-489d-9610-da4474efc2b3"
      },
      "source": [
        "# Declaração\n",
        "invertido = lambda palavra:palavra[::-1]\n",
        "\n",
        "# Utiliza a função\n",
        "invertido('Python')"
      ],
      "execution_count": 65,
      "outputs": [
        {
          "output_type": "execute_result",
          "data": {
            "application/vnd.google.colaboratory.intrinsic+json": {
              "type": "string"
            },
            "text/plain": [
              "'nohtyP'"
            ]
          },
          "metadata": {
            "tags": []
          },
          "execution_count": 65
        }
      ]
    },
    {
      "cell_type": "code",
      "metadata": {
        "id": "UmrUGgJigsVI",
        "colab": {
          "base_uri": "https://localhost:8080/"
        },
        "outputId": "d8612974-6d1f-4586-cd34-3864a31de9d7"
      },
      "source": [
        "# Declaração\n",
        "produto = lambda x,y,z:x*y*z\n",
        "\n",
        "# Utiliza a função\n",
        "produto(3,9,18)"
      ],
      "execution_count": 66,
      "outputs": [
        {
          "output_type": "execute_result",
          "data": {
            "text/plain": [
              "486"
            ]
          },
          "metadata": {
            "tags": []
          },
          "execution_count": 66
        }
      ]
    },
    {
      "cell_type": "markdown",
      "metadata": {
        "id": "GM-MnEYKhFgS"
      },
      "source": [
        "## Função Map\n",
        "A função map aplica uma função a todos os elementos de uma lista sem a necessidade de utilizar um loop for, retornando uma nova lista com os elementos alterados pela função escolhida.\n",
        "\n",
        "Sintaxe: map(fun, seq)"
      ]
    },
    {
      "cell_type": "markdown",
      "metadata": {
        "id": "6sTGPKQfhjaV"
      },
      "source": [
        "Soma de 2 listas"
      ]
    },
    {
      "cell_type": "code",
      "metadata": {
        "id": "f6rdYblNhvS2",
        "colab": {
          "base_uri": "https://localhost:8080/"
        },
        "outputId": "1a3cf560-afb3-49ed-ec37-4e0c9ff97e96"
      },
      "source": [
        "# Declaração\n",
        "L1 = [10, 20, 30, 40, 50]\n",
        "L2 = [1, 2, 3, 4, 5]\n",
        "\n",
        "# Utiliza a função\n",
        "soma = list(map(lambda a,b:a+b, L1, L2))\n",
        "\n",
        "print(soma)"
      ],
      "execution_count": 67,
      "outputs": [
        {
          "output_type": "stream",
          "text": [
            "[11, 22, 33, 44, 55]\n"
          ],
          "name": "stdout"
        }
      ]
    },
    {
      "cell_type": "markdown",
      "metadata": {
        "id": "qOAjikQYhh0V"
      },
      "source": [
        "Soma de 3 listas"
      ]
    },
    {
      "cell_type": "code",
      "metadata": {
        "id": "iNJ52TyQhhRZ",
        "colab": {
          "base_uri": "https://localhost:8080/"
        },
        "outputId": "d83ae4ae-0342-481e-858f-654bb4b456ae"
      },
      "source": [
        "# Declaração\n",
        "L1 = [10, 20, 30, 40, 50]\n",
        "L2 = [1, 2, 3, 4, 5]\n",
        "L3 = [11, 22, 33, 44, 55]\n",
        "\n",
        "# Utiliza a função\n",
        "soma = list(map(lambda a,b,c:a+b+c, L1, L2, L3))\n",
        "\n",
        "print(soma)"
      ],
      "execution_count": 68,
      "outputs": [
        {
          "output_type": "stream",
          "text": [
            "[22, 44, 66, 88, 110]\n"
          ],
          "name": "stdout"
        }
      ]
    },
    {
      "cell_type": "markdown",
      "metadata": {
        "id": "LxaFpeJNh8oP"
      },
      "source": [
        "## Função Reduce\n",
        "\n",
        "Aplica uma função em todos os elementos da lista, retornando um único valor. É necessário importar a biblioteca functools para utilizar a função reduce.\n",
        "\n",
        "Sintaxe: reduce(fun, seq)"
      ]
    },
    {
      "cell_type": "code",
      "metadata": {
        "id": "F1_VrxAMiBL-",
        "colab": {
          "base_uri": "https://localhost:8080/"
        },
        "outputId": "269ef205-1d38-437d-901c-04cba2af2785"
      },
      "source": [
        "from functools import reduce\n",
        "\n",
        "# Declaração\n",
        "L1 = [1, 2, 3, 4, 5]\n",
        "\n",
        "# Utiliza a função\n",
        "soma = reduce((lambda x,y:x+y), L1) #((((1+2)+3)+4)+5)\n",
        "\n",
        "print(soma)"
      ],
      "execution_count": 69,
      "outputs": [
        {
          "output_type": "stream",
          "text": [
            "15\n"
          ],
          "name": "stdout"
        }
      ]
    },
    {
      "cell_type": "markdown",
      "metadata": {
        "id": "WUKwvSaxiKfK"
      },
      "source": [
        "## Função Filter\n",
        "\n",
        "A função filter nos permite filtrar elementos de uma sequência de valores.\n",
        "\n",
        "Sintaxe: filter(fun, seq)"
      ]
    },
    {
      "cell_type": "code",
      "metadata": {
        "id": "LjbBn49qiOQw",
        "colab": {
          "base_uri": "https://localhost:8080/"
        },
        "outputId": "f262df15-d838-420d-d675-dd2648c14ab8"
      },
      "source": [
        "# Declaração\n",
        "L1 = [1, 2, 3, 4, 5, 6, 7, 8, 9, 10]\n",
        "\n",
        "# Utiliza a função\n",
        "filtro = list(filter(lambda x: x%2==0, L1)) #fitra os pares\n",
        "\n",
        "print(filtro)"
      ],
      "execution_count": 70,
      "outputs": [
        {
          "output_type": "stream",
          "text": [
            "[2, 4, 6, 8, 10]\n"
          ],
          "name": "stdout"
        }
      ]
    },
    {
      "cell_type": "markdown",
      "metadata": {
        "id": "-VluuxMbiXqN"
      },
      "source": [
        "## Função Zip\n",
        "\n",
        "A função zip nos retorna o agrupamento de duas sequências em uma tupla. Ao ser aplicado em sequências com tamanhos diferentes, o número de tuplas será igual ao número da menor sequência de valores.\n",
        "\n",
        "Sintaxe: zip(seq,seq)"
      ]
    },
    {
      "cell_type": "code",
      "metadata": {
        "id": "92DJXz_DiaNk",
        "colab": {
          "base_uri": "https://localhost:8080/"
        },
        "outputId": "e17d2c77-84e6-45a4-e1d6-5d0f715241f9"
      },
      "source": [
        "# Declaração\n",
        "L1 = [1, 3, 5, 7, 9]\n",
        "L2 = [2, 4, 6, 8, 10]\n",
        "\n",
        "# Utiliza a função\n",
        "LZIP = zip(L1,L2)\n",
        "\n",
        "print(LZIP)"
      ],
      "execution_count": 71,
      "outputs": [
        {
          "output_type": "stream",
          "text": [
            "<zip object at 0x7f1ea354ef08>\n"
          ],
          "name": "stdout"
        }
      ]
    },
    {
      "cell_type": "markdown",
      "metadata": {
        "id": "tMJ0zkTyilOt"
      },
      "source": [
        "O retorno da zip é um iterador, precisamos usar a função list() para obter uma lista."
      ]
    },
    {
      "cell_type": "code",
      "metadata": {
        "id": "H2o7_n4rilzL",
        "colab": {
          "base_uri": "https://localhost:8080/"
        },
        "outputId": "b3dd593d-6273-4ccd-a5eb-76d6c4c16ed6"
      },
      "source": [
        "print(list(LZIP))"
      ],
      "execution_count": 72,
      "outputs": [
        {
          "output_type": "stream",
          "text": [
            "[(1, 2), (3, 4), (5, 6), (7, 8), (9, 10)]\n"
          ],
          "name": "stdout"
        }
      ]
    },
    {
      "cell_type": "markdown",
      "metadata": {
        "id": "u4vcAQXmisl-"
      },
      "source": [
        "Exemplo com listas de tamanhos diferentes."
      ]
    },
    {
      "cell_type": "code",
      "metadata": {
        "id": "Y7K5i8GTiuqo",
        "colab": {
          "base_uri": "https://localhost:8080/"
        },
        "outputId": "1594ceb6-abb5-4a88-d95e-9082f2832ca9"
      },
      "source": [
        "# Declaração\n",
        "L3 = [1, 2, 3, 4, 5]\n",
        "L4 = [22, 11]\n",
        "\n",
        "# Utiliza a função\n",
        "LZIP = list(zip(L3,L4))\n",
        "\n",
        "print(list(LZIP))"
      ],
      "execution_count": 73,
      "outputs": [
        {
          "output_type": "stream",
          "text": [
            "[(1, 22), (2, 11)]\n"
          ],
          "name": "stdout"
        }
      ]
    },
    {
      "cell_type": "markdown",
      "metadata": {
        "id": "-vnZtDA7jG9p"
      },
      "source": [
        "Em dicionários"
      ]
    },
    {
      "cell_type": "code",
      "metadata": {
        "id": "uIplscX4jIct",
        "colab": {
          "base_uri": "https://localhost:8080/"
        },
        "outputId": "69587270-9bb9-4f15-9642-6be9c27f5865"
      },
      "source": [
        "# Dicionários\n",
        "dic1 = {'a':1, 'b':2, 'c':3, 'd':4}\n",
        "dic2 = {'aa':11, 'bb':22, 'cc':33, 'dd':44}\n",
        "\n",
        "# A função zip faz a união pelas chaves\n",
        "print(list(zip(dic1,dic2)))\n",
        "\n",
        "# Unindo pelos valores\n",
        "print(list(zip(dic1.values(),dic2.values())))\n",
        "\n",
        "# Unindo chaves com valores\n",
        "print(list(zip(dic1,dic2.values())))"
      ],
      "execution_count": 74,
      "outputs": [
        {
          "output_type": "stream",
          "text": [
            "[('a', 'aa'), ('b', 'bb'), ('c', 'cc'), ('d', 'dd')]\n",
            "[(1, 11), (2, 22), (3, 33), (4, 44)]\n",
            "[('a', 11), ('b', 22), ('c', 33), ('d', 44)]\n"
          ],
          "name": "stdout"
        }
      ]
    },
    {
      "cell_type": "markdown",
      "metadata": {
        "id": "qSZNWrpMjbxo"
      },
      "source": [
        "## Função Enumerate\n",
        "A função enumerate retorna um par índice valor de uma sequência definida.\n",
        "\n",
        "Sintaxe: enumerate(seq)"
      ]
    },
    {
      "cell_type": "code",
      "metadata": {
        "id": "ogK90wkPjdzE",
        "colab": {
          "base_uri": "https://localhost:8080/"
        },
        "outputId": "52fb33b4-a4e7-4aa7-991e-83d2c61d31eb"
      },
      "source": [
        "# Lista sem índice\n",
        "lista = ['a', 'b', 'c', 'd']\n",
        "\n",
        "# Mostra a lista indexada\n",
        "print(list(enumerate(lista)))\n",
        "\n",
        "# Percorre a lista indexada\n",
        "for i, elemento in enumerate(lista):\n",
        "    print(i,elemento)"
      ],
      "execution_count": 75,
      "outputs": [
        {
          "output_type": "stream",
          "text": [
            "[(0, 'a'), (1, 'b'), (2, 'c'), (3, 'd')]\n",
            "0 a\n",
            "1 b\n",
            "2 c\n",
            "3 d\n"
          ],
          "name": "stdout"
        }
      ]
    },
    {
      "cell_type": "markdown",
      "metadata": {
        "id": "g7rhEbeJOdBr"
      },
      "source": [
        "## Função que retorna mais de um valor\n",
        "\n",
        "Uma função pode retornar mais de um valor, basta usar `return` com mais de um parâmetro. Também é possível retornar somente um determinado valor, basta ignorar retorna não desejando especificando `_` no lugar da variável de retorno.\n"
      ]
    },
    {
      "cell_type": "code",
      "metadata": {
        "id": "oqIYsonWOdni"
      },
      "source": [
        "# Declaração\n",
        "def calculadora(numero1, numero2):\n",
        "  \n",
        "    # Processamento da função\n",
        "    soma = numero1 + numero2\n",
        "    diferenca = numero2 + numero1\n",
        "    produto = numero1 * numero2\n",
        "    divisao = numero2 / numero1\n",
        "\n",
        "    # Retornando mais de um valor\n",
        "    return soma, diferenca, produto, divisao\n"
      ],
      "execution_count": 76,
      "outputs": []
    },
    {
      "cell_type": "code",
      "metadata": {
        "id": "v9wAWvJfO9zU",
        "colab": {
          "base_uri": "https://localhost:8080/"
        },
        "outputId": "ba5e3f9c-9399-47e8-8890-b6fc21e9ca40"
      },
      "source": [
        "# Usando a função\n",
        "numero1 = 2\n",
        "numero2 = 10\n",
        "\n",
        "# Recuperando todos os resultados\n",
        "rsoma, rdiferenca, rproduto, rdivisao = calculadora(numero1, numero2)\n",
        "\n",
        "print(rsoma, rdiferenca, rproduto, rdivisao)\n",
        "\n",
        "# Recuperando somente um resultado\n",
        "_, rdif, _, _ = calculadora(numero1, numero2)\n",
        "\n",
        "print(rdif)"
      ],
      "execution_count": 77,
      "outputs": [
        {
          "output_type": "stream",
          "text": [
            "12 12 20 5.0\n",
            "12\n"
          ],
          "name": "stdout"
        }
      ]
    },
    {
      "cell_type": "markdown",
      "metadata": {
        "id": "CZXDOTptymKY"
      },
      "source": [
        "## Função com uso do ´yield´\n",
        "\n",
        "O `yield` só pode ser utilizando de funções. Dentro de uma função funciona como um `return`, só que retorna um objeto **generator** que é iterável. Para iterar sobre a função é necessário chamar a função `next()` ou utilizar um `for`.\n",
        "\n",
        "O `yield` marca a posição da última chamada da função `next()` de forma explicita ou implicita(`for`)."
      ]
    },
    {
      "cell_type": "markdown",
      "metadata": {
        "id": "Id1h-zE40QpT"
      },
      "source": [
        "### Exemplo 1 yield"
      ]
    },
    {
      "cell_type": "code",
      "metadata": {
        "id": "iyTSP_h8ymYR"
      },
      "source": [
        "# Declaração\n",
        "def funcao():\n",
        "    yield 10\n",
        "    yield 20\n",
        "    yield 30  "
      ],
      "execution_count": 78,
      "outputs": []
    },
    {
      "cell_type": "code",
      "metadata": {
        "id": "0mtM2GEo0Zty",
        "colab": {
          "base_uri": "https://localhost:8080/"
        },
        "outputId": "1fcf0630-b381-49f7-c28f-a17817e2754a"
      },
      "source": [
        "# Recupera o iterador da função para a variável conjunto\n",
        "conjunto = funcao()\n",
        "\n",
        "# O comando 'next()' retorna o número da primeira declaração de yield na variável conjunto\n",
        "print(next(conjunto))\n",
        "\n",
        "# O comando 'next()' retorna o número da segunda declaração de yield na variável conjunto\n",
        "print(next(conjunto))\n",
        "\n",
        "# O comando 'next()' retorna o número da terceira declaração de yield na variável conjunto\n",
        "print(next(conjunto))\n",
        "\n",
        "# A função next só pode ser chamada 3 vezes, pois existe somente 3 declarações!\n",
        "# Mas o yield pode ser declarado dentro de um laço(for)"
      ],
      "execution_count": 79,
      "outputs": [
        {
          "output_type": "stream",
          "text": [
            "10\n",
            "20\n",
            "30\n"
          ],
          "name": "stdout"
        }
      ]
    },
    {
      "cell_type": "markdown",
      "metadata": {
        "id": "1BYmE9aa02Hf"
      },
      "source": [
        "### Exemplo 2 yield"
      ]
    },
    {
      "cell_type": "code",
      "metadata": {
        "id": "D83pEDzF02Hg"
      },
      "source": [
        "# Declaração\n",
        "def funcao():\n",
        "    yield 10\n",
        "    yield 20  \n",
        "    yield 30  "
      ],
      "execution_count": 80,
      "outputs": []
    },
    {
      "cell_type": "code",
      "metadata": {
        "id": "SxXEYFap04VT",
        "colab": {
          "base_uri": "https://localhost:8080/"
        },
        "outputId": "9a4a5f33-eb3f-4274-a4e3-6c0dfcf15b0d"
      },
      "source": [
        "# Recupera o iterador da função para a variável conjunto\n",
        "conjunto = funcao()\n",
        "\n",
        "# O comando 'for' chama o next implicitamente retornando o número a medida que vai iterando a variável conjunto\n",
        "for x in conjunto:\n",
        "    print(x)\n",
        "\n",
        "# A função next só pode ser chamada 3 vezes, pois existe somente 3 declarações!\n",
        "# Mas o yield pode ser declarado dentro de um laço(for)"
      ],
      "execution_count": 81,
      "outputs": [
        {
          "output_type": "stream",
          "text": [
            "10\n",
            "20\n",
            "30\n"
          ],
          "name": "stdout"
        }
      ]
    },
    {
      "cell_type": "markdown",
      "metadata": {
        "id": "H1Oza3DI2nC2"
      },
      "source": [
        "### Exemplo 3 yield"
      ]
    },
    {
      "cell_type": "code",
      "metadata": {
        "id": "1zIBDaQz2nC2"
      },
      "source": [
        "# Declaração\n",
        "def geraNumero(inicio = 1, fim = 100):\n",
        "    '''\n",
        "    Gera os números no intervalo de número inicio até fim passado por parâmetro\n",
        "    '''\n",
        "    for numero in range(inicio, fim + 1):\n",
        "        yield numero"
      ],
      "execution_count": 82,
      "outputs": []
    },
    {
      "cell_type": "code",
      "metadata": {
        "id": "xohojoNy2nC4",
        "colab": {
          "base_uri": "https://localhost:8080/"
        },
        "outputId": "6df79d1d-acc6-436b-e350-039995b099ac"
      },
      "source": [
        "# Recupera o iterador da função para a variável conjunto\n",
        "conjunto = geraNumero(5, 10)\n",
        "\n",
        "# Sem o uso do yield na função geraNumero o for gera todos os números do intervalo\n",
        "\n",
        "# O comando 'for' chama o next implicitamente gerando cada número a medida que vai iterando a variável conjunto\n",
        "for x in conjunto:\n",
        "    print(x)"
      ],
      "execution_count": 83,
      "outputs": [
        {
          "output_type": "stream",
          "text": [
            "5\n",
            "6\n",
            "7\n",
            "8\n",
            "9\n",
            "10\n"
          ],
          "name": "stdout"
        }
      ]
    },
    {
      "cell_type": "markdown",
      "metadata": {
        "id": "cLpubXN0-sMk"
      },
      "source": [
        "### Exemplo 4 yield\n",
        "\n",
        "Função com retorno"
      ]
    },
    {
      "cell_type": "code",
      "metadata": {
        "id": "XGwJdu0n-sMl"
      },
      "source": [
        "# Declaração\n",
        "def geraNumero(inicio = 1, fim = 100):\n",
        "    '''\n",
        "    Gera os números no intervalo de número inicio até fim passado por parâmetro\n",
        "    '''\n",
        "    for numero in range(inicio, fim + 1):\n",
        "        yield numero"
      ],
      "execution_count": 84,
      "outputs": []
    },
    {
      "cell_type": "code",
      "metadata": {
        "id": "p-plQ3bh-sMo",
        "colab": {
          "base_uri": "https://localhost:8080/"
        },
        "outputId": "4b177a1c-9e5b-4833-8d15-f75df131d687"
      },
      "source": [
        "# Recupera o iterador da função para a variável conjunto\n",
        "conjunto = geraNumero(5, 10)\n",
        "\n",
        "# Sem o uso do yield na função geraNumero o for gera todos os números do intervalo\n",
        "\n",
        "# O comando 'for' chama o next implicitamente gerando cada número a medida que vai iterando a variável conjunto\n",
        "for x in conjunto:\n",
        "    print(x)"
      ],
      "execution_count": 85,
      "outputs": [
        {
          "output_type": "stream",
          "text": [
            "5\n",
            "6\n",
            "7\n",
            "8\n",
            "9\n",
            "10\n"
          ],
          "name": "stdout"
        }
      ]
    },
    {
      "cell_type": "markdown",
      "metadata": {
        "id": "xPVtpRBpPPuD"
      },
      "source": [
        "## Função com especificação de tipos de dados para os parâmetros e retorno\n",
        "\n",
        "Para especificar o tipo de dados dos parâmetos coloque o nome da variávei seguido de dois pontos(:) e o tipo de dado.\n",
        "\n",
        "Para especificar o retorno coloque logo depois da lista de parâmetros o símbolo \"->\" e o tipo de dado seguido por dois pontos(:)."
      ]
    },
    {
      "cell_type": "code",
      "metadata": {
        "id": "ryr97DigPXe3",
        "colab": {
          "base_uri": "https://localhost:8080/"
        },
        "outputId": "ae52dfae-936a-4d94-a2c8-85138f7322ca"
      },
      "source": [
        "# Declara a função\n",
        "def soma(num1 : int, num2 : int) -> int:\n",
        "    total = 0 \n",
        "    total = num1 + num2        \n",
        "    return total\n",
        "\n",
        "resultado = soma(10,20)\n",
        "\n",
        "# Utiliza a função\n",
        "print(resultado)"
      ],
      "execution_count": 86,
      "outputs": [
        {
          "output_type": "stream",
          "text": [
            "30\n"
          ],
          "name": "stdout"
        }
      ]
    },
    {
      "cell_type": "markdown",
      "metadata": {
        "id": "1gAMw42-hBzo"
      },
      "source": [
        "# Aritmética Binária"
      ]
    },
    {
      "cell_type": "markdown",
      "metadata": {
        "id": "wLOtQoPpcxEK"
      },
      "source": [
        "## Operações bit-a-bit\n",
        "\n",
        "Operadores bitwise são utilizados quando precisamos realizar operações na representação binária de números inteiros. Caso ambos os operandos sejam strings, esses operadores irão trabalhar com os valores ASCII de seus caracteres\n",
        "\n",
        "- Deslocamento para esquerda ( << ).\n",
        "- Deslocamento para direita ( >> ).\n",
        "- Inversão ( ~ )."
      ]
    },
    {
      "cell_type": "code",
      "metadata": {
        "id": "1S-iISGKczfT",
        "colab": {
          "base_uri": "https://localhost:8080/"
        },
        "outputId": "a166e416-0084-4aaf-c90b-c2887be75bea"
      },
      "source": [
        "a = 42  # 0b101010 em binário\n",
        "b = -42 #-0b101010 em binário\n",
        "\n",
        "print(\"Valores iniciais\")\n",
        "print(\"a = \", bin(a) , \" -> \", a)\n",
        "print(\"b = \", bin(b) ,\" -> \",  b)\n",
        "print(\"ou\")\n",
        "print(\"a = \", \"{0:b}\".format(a) , \" -> \", a)\n",
        "print(\"b = \", \"{0:b}\".format(b) ,\" -> \",  b)\n",
        "\n",
        "print(\"\")\n",
        "print(\"Deslocamento para a esquerda preenchendo com zero\")\n",
        "lefta1 = a << 1\n",
        "lefta2 = a << 2\n",
        "print(\"a << 1 = \", bin(lefta1), \" -> \", lefta1)\n",
        "print(\"a << 2 = \", bin(lefta2), \" -> \", lefta2)\n",
        "\n",
        "print(\"\")\n",
        "print(\"Deslocamento para a esquerda preenchendo com zero\")\n",
        "leftb1 = b << 1\n",
        "leftb2 = b << 2\n",
        "print(\"b << 1 = \", bin(leftb1), \" -> \", leftb1)\n",
        "print(\"b << 2 = \", bin(leftb2), \" -> \", leftb2)\n",
        "\n",
        "print(\"\")\n",
        "print(\"Deslocamento para direita preenchedo com o bit do sinal\")\n",
        "righta1 = a >> 1\n",
        "righta2 = a >> 2\n",
        "print(\"a >> 1 = \", bin(righta1), \" -> \", righta1)\n",
        "print(\"a >> 2 = \", bin(righta2), \" -> \", righta2)        \n",
        "\n",
        "print(\"\")\n",
        "print(\"Deslocamento para direita preenchedo com o bit do sinal\")\n",
        "rightb1 = b >> 1\n",
        "rightb2 = b >> 2\n",
        "print(\"b >> 1 = \", bin(rightb1), \" -> \", rightb1)\n",
        "print(\"b >> 2 = \", bin(rightb2), \" -> \", rightb2)\n",
        "\n",
        "print(\"\")\n",
        "print(\"Inversão (~) (Bitwise NOT)\")\n",
        "ainvertido = ~a\n",
        "binvertido = ~b\n",
        "print(\"a >> ~a = \", bin(ainvertido), \" -> \", ainvertido)\n",
        "print(\"b >> ~b = \", bin(binvertido), \" -> \", binvertido)"
      ],
      "execution_count": 87,
      "outputs": [
        {
          "output_type": "stream",
          "text": [
            "Valores iniciais\n",
            "a =  0b101010  ->  42\n",
            "b =  -0b101010  ->  -42\n",
            "ou\n",
            "a =  101010  ->  42\n",
            "b =  -101010  ->  -42\n",
            "\n",
            "Deslocamento para a esquerda preenchendo com zero\n",
            "a << 1 =  0b1010100  ->  84\n",
            "a << 2 =  0b10101000  ->  168\n",
            "\n",
            "Deslocamento para a esquerda preenchendo com zero\n",
            "b << 1 =  -0b1010100  ->  -84\n",
            "b << 2 =  -0b10101000  ->  -168\n",
            "\n",
            "Deslocamento para direita preenchedo com o bit do sinal\n",
            "a >> 1 =  0b10101  ->  21\n",
            "a >> 2 =  0b1010  ->  10\n",
            "\n",
            "Deslocamento para direita preenchedo com o bit do sinal\n",
            "b >> 1 =  -0b10101  ->  -21\n",
            "b >> 2 =  -0b1011  ->  -11\n",
            "\n",
            "Inversão (~) (Bitwise NOT)\n",
            "a >> ~a =  -0b101011  ->  -43\n",
            "b >> ~b =  0b101001  ->  41\n"
          ],
          "name": "stdout"
        }
      ]
    },
    {
      "cell_type": "markdown",
      "metadata": {
        "id": "iw_D1d3uhns5"
      },
      "source": [
        "## Operador E bit-a-bit (&)\n",
        "\n",
        "Compara dois valores utilizando suas representações binárias e retorna um novo valor, para formar esse valor de retorno, cada bit é comparado, retornando 1(True) quando ambos os bits forem iguais a 1(True), caso contrário retorna 0 (False)."
      ]
    },
    {
      "cell_type": "code",
      "metadata": {
        "id": "Vzq99GRwhn5q",
        "colab": {
          "base_uri": "https://localhost:8080/"
        },
        "outputId": "510432c8-b0fb-4f93-f86c-aaa6e8a7c55a"
      },
      "source": [
        "print(\"Operador e (&)\")\n",
        "a = 5 \n",
        "b = 3 \n",
        "\n",
        "c = a | b\n",
        "\n",
        "print(\"a = \", bin(a), \" -> \", a)\n",
        "print(\"b = \", bin(b), \" -> \", b)\n",
        "print(\"c = \", bin(c), \" -> \", c)"
      ],
      "execution_count": 88,
      "outputs": [
        {
          "output_type": "stream",
          "text": [
            "Operador e (&)\n",
            "a =  0b101  ->  5\n",
            "b =  0b11  ->  3\n",
            "c =  0b111  ->  7\n"
          ],
          "name": "stdout"
        }
      ]
    },
    {
      "cell_type": "markdown",
      "metadata": {
        "id": "HUkrySKThohx"
      },
      "source": [
        "## Operador Ou bit-a-bit (|)\n",
        "\n",
        "Compara dois valores utilizando suas representações binárias e retorna um novo valor, para formar esse valor de retorno, cada bit é comparado, retornando 1(True) se um dos bits comparados forem iguais a 1(True, caso contrário retorna 0 (False)."
      ]
    },
    {
      "cell_type": "code",
      "metadata": {
        "id": "HLxO_7oKhosm",
        "colab": {
          "base_uri": "https://localhost:8080/"
        },
        "outputId": "415de9e5-a672-4f97-a6ee-65b15193efcb"
      },
      "source": [
        "print(\"Operador ou (|)\")\n",
        "a = 5 \n",
        "b = 3 \n",
        "\n",
        "c = a & b\n",
        "\n",
        "print(\"a = \", bin(a), \" -> \", a)\n",
        "print(\"b = \", bin(b), \" -> \", b)\n",
        "print(\"c = \", bin(c), \" -> \", c)"
      ],
      "execution_count": 89,
      "outputs": [
        {
          "output_type": "stream",
          "text": [
            "Operador ou (|)\n",
            "a =  0b101  ->  5\n",
            "b =  0b11  ->  3\n",
            "c =  0b1  ->  1\n"
          ],
          "name": "stdout"
        }
      ]
    },
    {
      "cell_type": "markdown",
      "metadata": {
        "id": "PKn1_F0Ch5RR"
      },
      "source": [
        "## Operador Ou exclusivo bit-a-bit (^) (Bitwise XOR)\n",
        "\n",
        "Compara dois valores utilizando suas representações binárias e retorna um novo valor, para formar esse valor de retorno, cada bit é comparado, retornando 1(True) quando os bits comparados forem diferentes, caso contrário retorna 0 (False)."
      ]
    },
    {
      "cell_type": "code",
      "metadata": {
        "id": "hsTw6TCKh5b8",
        "colab": {
          "base_uri": "https://localhost:8080/"
        },
        "outputId": "4c2b2067-ef46-4118-82d3-e95990fc37ec"
      },
      "source": [
        "print(\"Operador ou exclusivo (^)\")\n",
        "a = 5 \n",
        "b = 3 \n",
        "\n",
        "c = a ^ b\n",
        "\n",
        "print(\"a = \", bin(a), \" -> \", a)\n",
        "print(\"b = \", bin(b), \" -> \", b)\n",
        "print(\"c = \", bin(c), \" -> \", c)"
      ],
      "execution_count": 90,
      "outputs": [
        {
          "output_type": "stream",
          "text": [
            "Operador ou exclusivo (^)\n",
            "a =  0b101  ->  5\n",
            "b =  0b11  ->  3\n",
            "c =  0b110  ->  6\n"
          ],
          "name": "stdout"
        }
      ]
    },
    {
      "cell_type": "markdown",
      "metadata": {
        "id": "hq5BfazeHGJn"
      },
      "source": [
        "# Mensagem de Progresso"
      ]
    },
    {
      "cell_type": "markdown",
      "metadata": {
        "id": "QjI0bn4LHUM9"
      },
      "source": [
        "## Exemplo mensagem de um nível com lista"
      ]
    },
    {
      "cell_type": "code",
      "metadata": {
        "colab": {
          "base_uri": "https://localhost:8080/"
        },
        "id": "qPf0rRa4HUM-",
        "outputId": "50dadc67-1868-43f0-84e7-2f3a32369a84"
      },
      "source": [
        "# Import da biblioteca\n",
        "from IPython.display import clear_output\n",
        "\n",
        "lista = []\n",
        "\n",
        "qtde = 1000\n",
        "\n",
        "for x in range(qtde):\n",
        "    lista.append(x**x)\n",
        "\n",
        "    clear_output(wait=True)\n",
        "    print(\"Teste: \", x + 1, \"/\", qtde)"
      ],
      "execution_count": 91,
      "outputs": [
        {
          "output_type": "stream",
          "text": [
            "Teste:  1000 / 1000\n"
          ],
          "name": "stdout"
        }
      ]
    },
    {
      "cell_type": "markdown",
      "metadata": {
        "id": "RUTFXBBuIUVN"
      },
      "source": [
        "## Exemplo mensagem com 2 níveis com lista"
      ]
    },
    {
      "cell_type": "code",
      "metadata": {
        "colab": {
          "base_uri": "https://localhost:8080/"
        },
        "id": "9qPsM1_6IUVN",
        "outputId": "ef2977c0-ffa2-457d-a4d2-07e26b0b3194"
      },
      "source": [
        "# Import da biblioteca\n",
        "from IPython.display import clear_output\n",
        "from time import sleep\n",
        "\n",
        "qtde1 = 5\n",
        "qtde2 = 100\n",
        "\n",
        "for x in range(qtde1):\n",
        "    for y in range(qtde2):\n",
        "        # Retarda o laço em 0.01 segundos\n",
        "        sleep(0.02)\n",
        "\n",
        "        clear_output(wait=True)\n",
        "        print(\"Teste: \", x + 1, \"/\", qtde1, \" de \", y + 1, \"/\", qtde2)                "
      ],
      "execution_count": 92,
      "outputs": [
        {
          "output_type": "stream",
          "text": [
            "Teste:  5 / 5  de  100 / 100\n"
          ],
          "name": "stdout"
        }
      ]
    },
    {
      "cell_type": "markdown",
      "metadata": {
        "id": "U3fqY5AqX1tN"
      },
      "source": [
        "# Barra de Progresso\n",
        "\n",
        "O tdqm é um pacote que posibilita criar barra de progressos e estimar o tempo para funções e laços.\n",
        "\n",
        "https://github.com/tqdm/tqdm\n",
        "\n",
        "Em um laço itere sobre `tqdm` ou `tqdm_notebook`(caso esteja executando um Notebook)."
      ]
    },
    {
      "cell_type": "markdown",
      "metadata": {
        "id": "7F8jtwpZYLkA"
      },
      "source": [
        "## Exemplo barra de um nível com lista"
      ]
    },
    {
      "cell_type": "code",
      "metadata": {
        "id": "sTAX64dHX0qm",
        "colab": {
          "base_uri": "https://localhost:8080/",
          "height": 66,
          "referenced_widgets": [
            "7f6b78ea11804fe1a562a832f959773c",
            "885d36a47ab34ca2866688ccdbb4d933",
            "5bd5c13409f945fa92f9af54a3954d52",
            "2d8d0929ee3f40deb494e7a5c2e7b986",
            "bd444533aef045d7a8815ad5a46a80f6",
            "bd2da04f4591462f8108e2ed34bf627b",
            "3a409d556141457eb1fc69e4e81a458f",
            "77abcc02f5644ffaba714ae15b9c6926"
          ]
        },
        "outputId": "0bb204d6-2c3b-433b-c95e-04611e7b6fa0"
      },
      "source": [
        "# Import da biblioteca\n",
        "from tqdm.notebook import tqdm\n",
        "\n",
        "lista = []\n",
        "\n",
        "for x in tqdm(range(10000)):\n",
        "    lista.append(x**x)"
      ],
      "execution_count": 93,
      "outputs": [
        {
          "output_type": "display_data",
          "data": {
            "application/vnd.jupyter.widget-view+json": {
              "model_id": "7f6b78ea11804fe1a562a832f959773c",
              "version_minor": 0,
              "version_major": 2
            },
            "text/plain": [
              "HBox(children=(FloatProgress(value=0.0, max=10000.0), HTML(value='')))"
            ]
          },
          "metadata": {
            "tags": []
          }
        },
        {
          "output_type": "stream",
          "text": [
            "\n"
          ],
          "name": "stdout"
        }
      ]
    },
    {
      "cell_type": "markdown",
      "metadata": {
        "id": "2nhj0MdnYZW8"
      },
      "source": [
        "## Exemplo barras com 2 níveis com lista"
      ]
    },
    {
      "cell_type": "code",
      "metadata": {
        "id": "Ec5ekCupYZW9",
        "colab": {
          "base_uri": "https://localhost:8080/",
          "height": 66,
          "referenced_widgets": [
            "122406157d764c4e91ce7639a2acc4b5",
            "2c2388b7f61847189fc4e7455bbc9c57",
            "2f20caec4b99455882560b3891f42a67",
            "001c6d4bc4d04184b95ab9552abc6989",
            "7beca3feb964496e86823913e6f93d34",
            "b3d87147717544e69b64dd6a71343974",
            "ffb0ca85e5bf405da7295340972f161d",
            "8a93202139904a0ba4ff26bcace0fb88",
            "7af822724d1949cfb12ea6cfabc54c91",
            "5eca6292b51b4f28bfbd95a46eca7eb0",
            "77464158ae4743f9b386ef0f9a75134a",
            "54ff35d6da2e43d68a784d7353882daf",
            "eef63e8cb7c741b987b73ce4e9f0f716",
            "a4201f83d0a74987bb77acb0ae1445e7",
            "c5f24c412c184d64b1a5d8305e61dbd8",
            "b729f4c85f6a4aea8c8c3ff293995535",
            "e38dd67925e3426ab2f44c3faa043445",
            "83d10fa9e3ab4cd1bba75d855feaa2c9",
            "7c6237fc03e94b619c5e25ba68680622",
            "178e5a4e4ab64a25bb2645f0643b2fdf",
            "c0b74a1ea4ba43a9be32262fa6047d65",
            "6655aa56bc774db0aa80480680e89aa5",
            "fb91a1e9123e41e9ac6fbdc9f717379e",
            "dba934e126fa4b8ead94535ff2883c60",
            "34f62f9fad71437c931b184e0949b8ab",
            "3b82cbd2fa3d480f922e54fee9dfbefa",
            "f4cc62597a3d4c218d53421cca1782b8",
            "04f6393693ed406080eef0b856139c2c",
            "ea9de6ca68a6465b8393666a72f1761d",
            "f159ec895ece47148d33e16041527dc3",
            "0a76026c9ffb43efaf9b6c2e54d504a7",
            "eeb8b17afad04c5cb5e497bf23d24a5a",
            "6339f930fbc0454eb3399e481fc2e4ad",
            "e74fc0f4949f42debb0f5e233db82b2c",
            "495cc023dada43099dc62747e9f7b618",
            "fd447022d2614f849164a6b1686c6f46",
            "4b0498c2c29b46068235f4978e9416f3",
            "d95aae61a9ef4e51a03845f2ec2ace42",
            "abc2c5c0737642b9bb844ef137afc36d",
            "c66020140ac44e99b34de1266561d55d",
            "bf5ab44e611c4f51abb48bb725fbe89b",
            "4b1aa044a2c94431a8f89389c1455a87",
            "afcc3d5626644f5ea740accecc8df00c",
            "4dd1e9a2a0034c5f9d0c7b7dca9057e5",
            "87049041b69841de845be01610e93940",
            "b307ccce76e4464580056b426db521dd",
            "38dc97c55bff4dfca1070ff1ace17bdf",
            "093c0457f7e843b5a4f8779a9bcab019"
          ]
        },
        "outputId": "9ceaa705-20f9-46fb-88e2-ea616ca21d90"
      },
      "source": [
        "# Import da biblioteca\n",
        "from tqdm.notebook import tqdm\n",
        "from time import sleep\n",
        "\n",
        "for x in tqdm(range(5), desc=\"1o Laço\"):\n",
        "    for y in tqdm(range(100), desc=\"2o Laço\", leave=False):\n",
        "        # Retarda o laço em 0.01 segundos\n",
        "        sleep(0.02)"
      ],
      "execution_count": 94,
      "outputs": [
        {
          "output_type": "display_data",
          "data": {
            "application/vnd.jupyter.widget-view+json": {
              "model_id": "122406157d764c4e91ce7639a2acc4b5",
              "version_minor": 0,
              "version_major": 2
            },
            "text/plain": [
              "HBox(children=(FloatProgress(value=0.0, description='1o Laço', max=5.0, style=ProgressStyle(description_width=…"
            ]
          },
          "metadata": {
            "tags": []
          }
        },
        {
          "output_type": "display_data",
          "data": {
            "application/vnd.jupyter.widget-view+json": {
              "model_id": "7af822724d1949cfb12ea6cfabc54c91",
              "version_minor": 0,
              "version_major": 2
            },
            "text/plain": [
              "HBox(children=(FloatProgress(value=0.0, description='2o Laço', style=ProgressStyle(description_width='initial'…"
            ]
          },
          "metadata": {
            "tags": []
          }
        },
        {
          "output_type": "display_data",
          "data": {
            "application/vnd.jupyter.widget-view+json": {
              "model_id": "e38dd67925e3426ab2f44c3faa043445",
              "version_minor": 0,
              "version_major": 2
            },
            "text/plain": [
              "HBox(children=(FloatProgress(value=0.0, description='2o Laço', style=ProgressStyle(description_width='initial'…"
            ]
          },
          "metadata": {
            "tags": []
          }
        },
        {
          "output_type": "display_data",
          "data": {
            "application/vnd.jupyter.widget-view+json": {
              "model_id": "34f62f9fad71437c931b184e0949b8ab",
              "version_minor": 0,
              "version_major": 2
            },
            "text/plain": [
              "HBox(children=(FloatProgress(value=0.0, description='2o Laço', style=ProgressStyle(description_width='initial'…"
            ]
          },
          "metadata": {
            "tags": []
          }
        },
        {
          "output_type": "display_data",
          "data": {
            "application/vnd.jupyter.widget-view+json": {
              "model_id": "6339f930fbc0454eb3399e481fc2e4ad",
              "version_minor": 0,
              "version_major": 2
            },
            "text/plain": [
              "HBox(children=(FloatProgress(value=0.0, description='2o Laço', style=ProgressStyle(description_width='initial'…"
            ]
          },
          "metadata": {
            "tags": []
          }
        },
        {
          "output_type": "display_data",
          "data": {
            "application/vnd.jupyter.widget-view+json": {
              "model_id": "bf5ab44e611c4f51abb48bb725fbe89b",
              "version_minor": 0,
              "version_major": 2
            },
            "text/plain": [
              "HBox(children=(FloatProgress(value=0.0, description='2o Laço', style=ProgressStyle(description_width='initial'…"
            ]
          },
          "metadata": {
            "tags": []
          }
        },
        {
          "output_type": "stream",
          "text": [
            "\n"
          ],
          "name": "stdout"
        }
      ]
    }
  ]
}