{
  "nbformat": 4,
  "nbformat_minor": 0,
  "metadata": {
    "colab": {
      "name": "ExemplosPythonBabelfy.ipynb",
      "provenance": [],
      "collapsed_sections": [],
      "toc_visible": true,
      "authorship_tag": "ABX9TyNkStR/NYSBgRxvsc3CBpZI",
      "include_colab_link": true
    },
    "kernelspec": {
      "name": "python3",
      "display_name": "Python 3"
    }
  },
  "cells": [
    {
      "cell_type": "markdown",
      "metadata": {
        "id": "view-in-github",
        "colab_type": "text"
      },
      "source": [
        "<a href=\"https://colab.research.google.com/github/osmarbraz/exemplos_python/blob/master/ExemplosPythonBabelfy.ipynb\" target=\"_parent\"><img src=\"https://colab.research.google.com/assets/colab-badge.svg\" alt=\"Open In Colab\"/></a>"
      ]
    },
    {
      "cell_type": "markdown",
      "metadata": {
        "id": "hgLBRxBgun0C"
      },
      "source": [
        "# Exemplos de Consultas Babelfy\n",
        "\n",
        "https://babelnet.org\n",
        "\n",
        "\n",
        "https://github.com/aghie/pybabelfy\n",
        "\n",
        "-----------------------------------------\n",
        "**Guia Colab Iniciante:**\n",
        "\n",
        "https://medium.com/machina-sapiens/google-colab-guia-do-iniciante-334d70aad531\n",
        "\n",
        "**Biblioteca:**\n",
        "https://colab.research.google.com/github/jakevdp/PythonDataScienceHandbook/blob/master/notebooks/01.01-Help-And-Documentation.ipynb\n",
        "\n",
        "**Características :**\n",
        "\n",
        "https://colab.research.google.com/notebooks/basic_features_overview.ipynb"
      ]
    },
    {
      "cell_type": "markdown",
      "source": [
        "# babelpy\n",
        "\n",
        "https://pypi.org/project/BabelPy/"
      ],
      "metadata": {
        "id": "hN2UCgmf3wL6"
      }
    },
    {
      "cell_type": "markdown",
      "metadata": {
        "id": "jAxtSWWsxEHS"
      },
      "source": [
        "## Instalação\n",
        "\n",
        "https://github.com/aghie/pybabelfy"
      ]
    },
    {
      "cell_type": "code",
      "metadata": {
        "id": "l0IeT9U0uvfe",
        "colab": {
          "base_uri": "https://localhost:8080/"
        },
        "outputId": "3a89cfb5-838a-46ba-ace0-6855d2fb74c6"
      },
      "source": [
        "!pip install babelpy"
      ],
      "execution_count": null,
      "outputs": [
        {
          "output_type": "stream",
          "name": "stdout",
          "text": [
            "Looking in indexes: https://pypi.org/simple, https://us-python.pkg.dev/colab-wheels/public/simple/\n",
            "Requirement already satisfied: babelpy in /usr/local/lib/python3.7/dist-packages (1.0.1)\n"
          ]
        }
      ]
    },
    {
      "cell_type": "markdown",
      "source": [
        "## Exemplo"
      ],
      "metadata": {
        "id": "2x1vNfSN4WbU"
      }
    },
    {
      "cell_type": "markdown",
      "source": [
        "### Configuração\n",
        "\n",
        "Faça o cadastro em \n",
        "https://babelnet.org e gere uma chave para acesso via API e atualiza a variável API_KEY."
      ],
      "metadata": {
        "id": "hTpSraTYzwGo"
      }
    },
    {
      "cell_type": "code",
      "source": [
        "# Import das bibliotecas\n",
        "from babelpy import babelfy\n",
        "\n",
        "# Texto a ser examinado\n",
        "texto = \"Como empilhar e desempilhar elementos em uma estrutura de dados pilha ?\"\n",
        "\n",
        "# Instancia um cliente BabelFy.\n",
        "params = dict()\n",
        "\n",
        "# Define o idioma\n",
        "params['lang'] = \"pt\"\n",
        "\n",
        "# Chave de conexão\n",
        "API_KEY = \"5d633bf3-426a-4ad7-9916-0dc1cd17e9e2\""
      ],
      "metadata": {
        "id": "_HZ272-b4ZvO"
      },
      "execution_count": null,
      "outputs": []
    },
    {
      "cell_type": "markdown",
      "source": [
        "Utilização"
      ],
      "metadata": {
        "id": "EFfxgIMd0WAK"
      }
    },
    {
      "cell_type": "code",
      "source": [
        "# Recupera um cliente\n",
        "babel_client = babelfy.BabelfyClient(API_KEY, params)\n",
        "\n",
        "# Babelfy sentença.\n",
        "babel_client.babelfy(texto)\n",
        "\n",
        "# Obtêm os dados das entidades\n",
        "print(\"Dados das entidades\")\n",
        "print(babel_client.entities)\n",
        "print()\n",
        "\n",
        "# Obtém dados de entidade e não entidade.\n",
        "print(\"Dados das entidades e não entidades\")\n",
        "print(babel_client.all_entities)\n",
        "print()\n",
        "\n",
        "# Obtém apenas entidades mescladas.\n",
        "print(\"Dados das entidades mescladas\")\n",
        "print(babel_client.merged_entities)\n",
        "print()\n",
        "\n",
        "# Obtém todas as entidades mescladas.\n",
        "print(\"Dados de todas entidades mescladas.\")\n",
        "print(babel_client.all_merged_entities)\n"
      ],
      "metadata": {
        "id": "2FZYiLTR0WPN",
        "colab": {
          "base_uri": "https://localhost:8080/"
        },
        "outputId": "23221fba-7fa4-4ab2-e578-62d059837113"
      },
      "execution_count": null,
      "outputs": [
        {
          "output_type": "stream",
          "name": "stdout",
          "text": [
            "Dados das entidades\n",
            "[{'start': 5, 'end': 12, 'text': 'empilhar', 'isEntity': True, 'tokenFragment': {'start': 1, 'end': 1}, 'charFragment': {'start': 5, 'end': 12}, 'babelSynsetID': 'bn:00082246v', 'DBpediaURL': '', 'BabelNetURL': 'http://babelnet.org/rdf/s00082246v', 'score': 1.0, 'coherenceScore': 0.2, 'globalScore': 0.00392156862745098, 'source': 'BABELFY'}, {'start': 28, 'end': 36, 'text': 'elementos', 'isEntity': True, 'tokenFragment': {'start': 4, 'end': 4}, 'charFragment': {'start': 28, 'end': 36}, 'babelSynsetID': 'bn:00016413n', 'DBpediaURL': 'http://dbpedia.org/resource/Data_type', 'BabelNetURL': 'http://babelnet.org/rdf/s00016413n', 'score': 1.0, 'coherenceScore': 1.0, 'globalScore': 0.2549019607843137, 'source': 'BABELFY'}, {'start': 45, 'end': 53, 'text': 'estrutura', 'isEntity': True, 'tokenFragment': {'start': 7, 'end': 7}, 'charFragment': {'start': 45, 'end': 53}, 'babelSynsetID': 'bn:03830506n', 'DBpediaURL': 'http://dbpedia.org/resource/Structure', 'BabelNetURL': 'http://babelnet.org/rdf/s03830506n', 'score': 0.0, 'coherenceScore': 0.0, 'globalScore': 0.0, 'source': 'MCS'}, {'start': 45, 'end': 62, 'text': 'estrutura de dados', 'isEntity': True, 'tokenFragment': {'start': 7, 'end': 9}, 'charFragment': {'start': 45, 'end': 62}, 'babelSynsetID': 'bn:00025330n', 'DBpediaURL': 'http://dbpedia.org/resource/Data_structure', 'BabelNetURL': 'http://babelnet.org/rdf/s00025330n', 'score': 1.0, 'coherenceScore': 0.8, 'globalScore': 0.20392156862745098, 'source': 'BABELFY'}, {'start': 45, 'end': 68, 'text': 'estrutura de dados pilha', 'isEntity': True, 'tokenFragment': {'start': 7, 'end': 10}, 'charFragment': {'start': 45, 'end': 68}, 'babelSynsetID': 'bn:00050097n', 'DBpediaURL': 'http://dbpedia.org/resource/LIFO_(computing)', 'BabelNetURL': 'http://babelnet.org/rdf/s00050097n', 'score': 1.0, 'coherenceScore': 0.8, 'globalScore': 0.0784313725490196, 'source': 'BABELFY'}, {'start': 58, 'end': 62, 'text': 'dados', 'isEntity': True, 'tokenFragment': {'start': 9, 'end': 9}, 'charFragment': {'start': 58, 'end': 62}, 'babelSynsetID': 'bn:00025314n', 'DBpediaURL': 'http://dbpedia.org/resource/Data', 'BabelNetURL': 'http://babelnet.org/rdf/s00025314n', 'score': 0.7213114754098361, 'coherenceScore': 0.8, 'globalScore': 0.17254901960784313, 'source': 'BABELFY'}, {'start': 64, 'end': 68, 'text': 'pilha', 'isEntity': True, 'tokenFragment': {'start': 10, 'end': 10}, 'charFragment': {'start': 64, 'end': 68}, 'babelSynsetID': 'bn:00086690v', 'DBpediaURL': '', 'BabelNetURL': 'http://babelnet.org/rdf/s00086690v', 'score': 0.0, 'coherenceScore': 0.0, 'globalScore': 0.0, 'source': 'MCS'}]\n",
            "\n",
            "Dados das entidades e não entidades\n",
            "[{'start': 0, 'end': 3, 'text': 'Como', 'isEntity': False}, {'start': 5, 'end': 12, 'text': 'empilhar', 'isEntity': True, 'tokenFragment': {'start': 1, 'end': 1}, 'charFragment': {'start': 5, 'end': 12}, 'babelSynsetID': 'bn:00082246v', 'DBpediaURL': '', 'BabelNetURL': 'http://babelnet.org/rdf/s00082246v', 'score': 1.0, 'coherenceScore': 0.2, 'globalScore': 0.00392156862745098, 'source': 'BABELFY'}, {'start': 14, 'end': 14, 'text': 'e', 'isEntity': False}, {'start': 16, 'end': 26, 'text': 'desempilhar', 'isEntity': False}, {'start': 28, 'end': 36, 'text': 'elementos', 'isEntity': True, 'tokenFragment': {'start': 4, 'end': 4}, 'charFragment': {'start': 28, 'end': 36}, 'babelSynsetID': 'bn:00016413n', 'DBpediaURL': 'http://dbpedia.org/resource/Data_type', 'BabelNetURL': 'http://babelnet.org/rdf/s00016413n', 'score': 1.0, 'coherenceScore': 1.0, 'globalScore': 0.2549019607843137, 'source': 'BABELFY'}, {'start': 38, 'end': 39, 'text': 'em', 'isEntity': False}, {'start': 41, 'end': 43, 'text': 'uma', 'isEntity': False}, {'start': 45, 'end': 53, 'text': 'estrutura', 'isEntity': True, 'tokenFragment': {'start': 7, 'end': 7}, 'charFragment': {'start': 45, 'end': 53}, 'babelSynsetID': 'bn:03830506n', 'DBpediaURL': 'http://dbpedia.org/resource/Structure', 'BabelNetURL': 'http://babelnet.org/rdf/s03830506n', 'score': 0.0, 'coherenceScore': 0.0, 'globalScore': 0.0, 'source': 'MCS'}, {'start': 45, 'end': 62, 'text': 'estrutura de dados', 'isEntity': True, 'tokenFragment': {'start': 7, 'end': 9}, 'charFragment': {'start': 45, 'end': 62}, 'babelSynsetID': 'bn:00025330n', 'DBpediaURL': 'http://dbpedia.org/resource/Data_structure', 'BabelNetURL': 'http://babelnet.org/rdf/s00025330n', 'score': 1.0, 'coherenceScore': 0.8, 'globalScore': 0.20392156862745098, 'source': 'BABELFY'}, {'start': 45, 'end': 68, 'text': 'estrutura de dados pilha', 'isEntity': True, 'tokenFragment': {'start': 7, 'end': 10}, 'charFragment': {'start': 45, 'end': 68}, 'babelSynsetID': 'bn:00050097n', 'DBpediaURL': 'http://dbpedia.org/resource/LIFO_(computing)', 'BabelNetURL': 'http://babelnet.org/rdf/s00050097n', 'score': 1.0, 'coherenceScore': 0.8, 'globalScore': 0.0784313725490196, 'source': 'BABELFY'}, {'start': 55, 'end': 56, 'text': 'de', 'isEntity': False}, {'start': 58, 'end': 62, 'text': 'dados', 'isEntity': True, 'tokenFragment': {'start': 9, 'end': 9}, 'charFragment': {'start': 58, 'end': 62}, 'babelSynsetID': 'bn:00025314n', 'DBpediaURL': 'http://dbpedia.org/resource/Data', 'BabelNetURL': 'http://babelnet.org/rdf/s00025314n', 'score': 0.7213114754098361, 'coherenceScore': 0.8, 'globalScore': 0.17254901960784313, 'source': 'BABELFY'}, {'start': 64, 'end': 68, 'text': 'pilha', 'isEntity': True, 'tokenFragment': {'start': 10, 'end': 10}, 'charFragment': {'start': 64, 'end': 68}, 'babelSynsetID': 'bn:00086690v', 'DBpediaURL': '', 'BabelNetURL': 'http://babelnet.org/rdf/s00086690v', 'score': 0.0, 'coherenceScore': 0.0, 'globalScore': 0.0, 'source': 'MCS'}, {'start': 70, 'end': 70, 'text': '?', 'isEntity': False}]\n",
            "\n",
            "Dados das entidades mescladas\n",
            "[{'start': 5, 'end': 12, 'text': 'empilhar', 'isEntity': True, 'tokenFragment': {'start': 1, 'end': 1}, 'charFragment': {'start': 5, 'end': 12}, 'babelSynsetID': 'bn:00082246v', 'DBpediaURL': '', 'BabelNetURL': 'http://babelnet.org/rdf/s00082246v', 'score': 1.0, 'coherenceScore': 0.2, 'globalScore': 0.00392156862745098, 'source': 'BABELFY'}, {'start': 28, 'end': 36, 'text': 'elementos', 'isEntity': True, 'tokenFragment': {'start': 4, 'end': 4}, 'charFragment': {'start': 28, 'end': 36}, 'babelSynsetID': 'bn:00016413n', 'DBpediaURL': 'http://dbpedia.org/resource/Data_type', 'BabelNetURL': 'http://babelnet.org/rdf/s00016413n', 'score': 1.0, 'coherenceScore': 1.0, 'globalScore': 0.2549019607843137, 'source': 'BABELFY'}, {'start': 45, 'end': 68, 'text': 'estrutura de dados pilha', 'isEntity': True, 'tokenFragment': {'start': 7, 'end': 10}, 'charFragment': {'start': 45, 'end': 68}, 'babelSynsetID': 'bn:00050097n', 'DBpediaURL': 'http://dbpedia.org/resource/LIFO_(computing)', 'BabelNetURL': 'http://babelnet.org/rdf/s00050097n', 'score': 1.0, 'coherenceScore': 0.8, 'globalScore': 0.0784313725490196, 'source': 'BABELFY'}]\n",
            "\n",
            "Dados de todas entidades mescladas.\n",
            "[{'start': 0, 'end': 3, 'text': 'Como', 'isEntity': False}, {'start': 5, 'end': 12, 'text': 'empilhar', 'isEntity': True, 'tokenFragment': {'start': 1, 'end': 1}, 'charFragment': {'start': 5, 'end': 12}, 'babelSynsetID': 'bn:00082246v', 'DBpediaURL': '', 'BabelNetURL': 'http://babelnet.org/rdf/s00082246v', 'score': 1.0, 'coherenceScore': 0.2, 'globalScore': 0.00392156862745098, 'source': 'BABELFY'}, {'start': 14, 'end': 14, 'text': 'e', 'isEntity': False}, {'start': 16, 'end': 26, 'text': 'desempilhar', 'isEntity': False}, {'start': 28, 'end': 36, 'text': 'elementos', 'isEntity': True, 'tokenFragment': {'start': 4, 'end': 4}, 'charFragment': {'start': 28, 'end': 36}, 'babelSynsetID': 'bn:00016413n', 'DBpediaURL': 'http://dbpedia.org/resource/Data_type', 'BabelNetURL': 'http://babelnet.org/rdf/s00016413n', 'score': 1.0, 'coherenceScore': 1.0, 'globalScore': 0.2549019607843137, 'source': 'BABELFY'}, {'start': 38, 'end': 39, 'text': 'em', 'isEntity': False}, {'start': 41, 'end': 43, 'text': 'uma', 'isEntity': False}, {'start': 45, 'end': 68, 'text': 'estrutura de dados pilha', 'isEntity': True, 'tokenFragment': {'start': 7, 'end': 10}, 'charFragment': {'start': 45, 'end': 68}, 'babelSynsetID': 'bn:00050097n', 'DBpediaURL': 'http://dbpedia.org/resource/LIFO_(computing)', 'BabelNetURL': 'http://babelnet.org/rdf/s00050097n', 'score': 1.0, 'coherenceScore': 0.8, 'globalScore': 0.0784313725490196, 'source': 'BABELFY'}, {'start': 70, 'end': 70, 'text': '?', 'isEntity': False}]\n"
          ]
        }
      ]
    },
    {
      "cell_type": "markdown",
      "source": [
        "### Listando entidades"
      ],
      "metadata": {
        "id": "ttNdoQ8K0ZW9"
      }
    },
    {
      "cell_type": "code",
      "source": [
        "# Obtém dados de entidade e não entidade.\n",
        "print(\"Dados das entidades e não entidades\")\n",
        "print(\"Quantidade de entidades:\", len(babel_client.all_entities))\n",
        "print()\n",
        "\n",
        "# Obtém dados de uma entidadetoken.\n",
        "print(\"Obtêm os dados de uma entidade:\", babel_client.all_entities[0])\n",
        "print()\n",
        "\n",
        "# Listados os dados de uma entidade\n",
        "print(\"Listando os valores de um registro:\")\n",
        "for chave, valor in babel_client.all_entities[0].items():\n",
        "    print(\"    \",chave,\"=\", valor)\n",
        "print()\n",
        "\n",
        "# Listando todos os valores das entidades\n",
        "print(\"Listando todos os valores:\")\n",
        "for i, linha in enumerate(babel_client.all_entities):\n",
        "    print(\"token:\", linha['text'], \"/É entidade:\", linha['isEntity'])    \n",
        "    # Verifica se é uma entidade\n",
        "    if linha['isEntity'] == True:\n",
        "        # Mostra os dados de tndiadde.     \n",
        "        for chave, valor in linha.items():\n",
        "          print(\"    \",chave,\"=\", valor)\n"
      ],
      "metadata": {
        "colab": {
          "base_uri": "https://localhost:8080/"
        },
        "id": "scs9BQcR-Z81",
        "outputId": "6fee5360-8a86-41f5-8a6f-56a279693808"
      },
      "execution_count": null,
      "outputs": [
        {
          "output_type": "stream",
          "name": "stdout",
          "text": [
            "Dados das entidades e não entidades\n",
            "Quantidade de entidades: 14\n",
            "\n",
            "Obtêm os dados de uma entidade: {'start': 0, 'end': 3, 'text': 'Como', 'isEntity': False}\n",
            "\n",
            "Listando os valores de um registro:\n",
            "     start = 0\n",
            "     end = 3\n",
            "     text = Como\n",
            "     isEntity = False\n",
            "\n",
            "Listando todos os valores:\n",
            "token: Como /É entidade: False\n",
            "token: empilhar /É entidade: True\n",
            "     start = 5\n",
            "     end = 12\n",
            "     text = empilhar\n",
            "     isEntity = True\n",
            "     tokenFragment = {'start': 1, 'end': 1}\n",
            "     charFragment = {'start': 5, 'end': 12}\n",
            "     babelSynsetID = bn:00082246v\n",
            "     DBpediaURL = \n",
            "     BabelNetURL = http://babelnet.org/rdf/s00082246v\n",
            "     score = 1.0\n",
            "     coherenceScore = 0.2\n",
            "     globalScore = 0.00392156862745098\n",
            "     source = BABELFY\n",
            "token: e /É entidade: False\n",
            "token: desempilhar /É entidade: False\n",
            "token: elementos /É entidade: True\n",
            "     start = 28\n",
            "     end = 36\n",
            "     text = elementos\n",
            "     isEntity = True\n",
            "     tokenFragment = {'start': 4, 'end': 4}\n",
            "     charFragment = {'start': 28, 'end': 36}\n",
            "     babelSynsetID = bn:00016413n\n",
            "     DBpediaURL = http://dbpedia.org/resource/Data_type\n",
            "     BabelNetURL = http://babelnet.org/rdf/s00016413n\n",
            "     score = 1.0\n",
            "     coherenceScore = 1.0\n",
            "     globalScore = 0.2549019607843137\n",
            "     source = BABELFY\n",
            "token: em /É entidade: False\n",
            "token: uma /É entidade: False\n",
            "token: estrutura /É entidade: True\n",
            "     start = 45\n",
            "     end = 53\n",
            "     text = estrutura\n",
            "     isEntity = True\n",
            "     tokenFragment = {'start': 7, 'end': 7}\n",
            "     charFragment = {'start': 45, 'end': 53}\n",
            "     babelSynsetID = bn:03830506n\n",
            "     DBpediaURL = http://dbpedia.org/resource/Structure\n",
            "     BabelNetURL = http://babelnet.org/rdf/s03830506n\n",
            "     score = 0.0\n",
            "     coherenceScore = 0.0\n",
            "     globalScore = 0.0\n",
            "     source = MCS\n",
            "token: estrutura de dados /É entidade: True\n",
            "     start = 45\n",
            "     end = 62\n",
            "     text = estrutura de dados\n",
            "     isEntity = True\n",
            "     tokenFragment = {'start': 7, 'end': 9}\n",
            "     charFragment = {'start': 45, 'end': 62}\n",
            "     babelSynsetID = bn:00025330n\n",
            "     DBpediaURL = http://dbpedia.org/resource/Data_structure\n",
            "     BabelNetURL = http://babelnet.org/rdf/s00025330n\n",
            "     score = 1.0\n",
            "     coherenceScore = 0.8\n",
            "     globalScore = 0.20392156862745098\n",
            "     source = BABELFY\n",
            "token: estrutura de dados pilha /É entidade: True\n",
            "     start = 45\n",
            "     end = 68\n",
            "     text = estrutura de dados pilha\n",
            "     isEntity = True\n",
            "     tokenFragment = {'start': 7, 'end': 10}\n",
            "     charFragment = {'start': 45, 'end': 68}\n",
            "     babelSynsetID = bn:00050097n\n",
            "     DBpediaURL = http://dbpedia.org/resource/LIFO_(computing)\n",
            "     BabelNetURL = http://babelnet.org/rdf/s00050097n\n",
            "     score = 1.0\n",
            "     coherenceScore = 0.8\n",
            "     globalScore = 0.0784313725490196\n",
            "     source = BABELFY\n",
            "token: de /É entidade: False\n",
            "token: dados /É entidade: True\n",
            "     start = 58\n",
            "     end = 62\n",
            "     text = dados\n",
            "     isEntity = True\n",
            "     tokenFragment = {'start': 9, 'end': 9}\n",
            "     charFragment = {'start': 58, 'end': 62}\n",
            "     babelSynsetID = bn:00025314n\n",
            "     DBpediaURL = http://dbpedia.org/resource/Data\n",
            "     BabelNetURL = http://babelnet.org/rdf/s00025314n\n",
            "     score = 0.7213114754098361\n",
            "     coherenceScore = 0.8\n",
            "     globalScore = 0.17254901960784313\n",
            "     source = BABELFY\n",
            "token: pilha /É entidade: True\n",
            "     start = 64\n",
            "     end = 68\n",
            "     text = pilha\n",
            "     isEntity = True\n",
            "     tokenFragment = {'start': 10, 'end': 10}\n",
            "     charFragment = {'start': 64, 'end': 68}\n",
            "     babelSynsetID = bn:00086690v\n",
            "     DBpediaURL = \n",
            "     BabelNetURL = http://babelnet.org/rdf/s00086690v\n",
            "     score = 0.0\n",
            "     coherenceScore = 0.0\n",
            "     globalScore = 0.0\n",
            "     source = MCS\n",
            "token: ? /É entidade: False\n"
          ]
        }
      ]
    },
    {
      "cell_type": "markdown",
      "source": [
        "### Retornando dados de uma sentença"
      ],
      "metadata": {
        "id": "FvLm0JgC2dbB"
      }
    },
    {
      "cell_type": "code",
      "source": [
        "# Import das bibliotecas\n",
        "from babelpy import babelfy\n",
        "\n",
        "def getEntidadesBabelFyTexto(texto):\n",
        "\n",
        "  # Instancia um cliente BabelFy.\n",
        "  params = dict()\n",
        "\n",
        "  # Define o idioma\n",
        "  params['lang'] = \"pt\"\n",
        "\n",
        "  # Chave de conexão\n",
        "  API_KEY = \"5d633bf3-426a-4ad7-9916-0dc1cd17e9e2\"\n",
        "\n",
        "  # Recupera um cliente\n",
        "  babel_client = babelfy.BabelfyClient(API_KEY, params)\n",
        "\n",
        "  # Babelfy sentença.\n",
        "  babel_client.babelfy(texto)\n",
        "\n",
        "  return babel_client.all_entities\n",
        "  "
      ],
      "metadata": {
        "id": "FeRbTPGl2jAJ"
      },
      "execution_count": null,
      "outputs": []
    },
    {
      "cell_type": "code",
      "source": [
        "# Texto a ser examinado\n",
        "texto = \"Como empilhar e desempilhar elementos em uma estrutura de dados pilha ?\"\n",
        "\n",
        "lista_babel = getEntidadesBabelFyTexto(texto)\n",
        "\n",
        "# Listando todos os valores das entidades\n",
        "print(\"Listando todos os valores:\")\n",
        "for i, linha in enumerate(lista_babel):\n",
        "  print(\"token:\", linha['text'], \"/É entidade:\", linha['isEntity'])    \n",
        "  # Verifica se é uma entidade\n",
        "  if linha['isEntity'] == True:\n",
        "    # Mostra os dados de tndiadde.     \n",
        "    for chave, valor in linha.items():\n",
        "      print(\"    \",chave,\"=\", valor)"
      ],
      "metadata": {
        "colab": {
          "base_uri": "https://localhost:8080/"
        },
        "id": "aI7q4qIb2jJW",
        "outputId": "c1cf2726-1587-48b8-d964-6137250bc656"
      },
      "execution_count": null,
      "outputs": [
        {
          "output_type": "stream",
          "name": "stdout",
          "text": [
            "Listando todos os valores:\n",
            "token: Como /É entidade: False\n",
            "token: empilhar /É entidade: True\n",
            "     start = 5\n",
            "     end = 12\n",
            "     text = empilhar\n",
            "     isEntity = True\n",
            "     tokenFragment = {'start': 1, 'end': 1}\n",
            "     charFragment = {'start': 5, 'end': 12}\n",
            "     babelSynsetID = bn:00082246v\n",
            "     DBpediaURL = \n",
            "     BabelNetURL = http://babelnet.org/rdf/s00082246v\n",
            "     score = 1.0\n",
            "     coherenceScore = 0.2\n",
            "     globalScore = 0.00392156862745098\n",
            "     source = BABELFY\n",
            "token: e /É entidade: False\n",
            "token: desempilhar /É entidade: False\n",
            "token: elementos /É entidade: True\n",
            "     start = 28\n",
            "     end = 36\n",
            "     text = elementos\n",
            "     isEntity = True\n",
            "     tokenFragment = {'start': 4, 'end': 4}\n",
            "     charFragment = {'start': 28, 'end': 36}\n",
            "     babelSynsetID = bn:00016413n\n",
            "     DBpediaURL = http://dbpedia.org/resource/Data_type\n",
            "     BabelNetURL = http://babelnet.org/rdf/s00016413n\n",
            "     score = 1.0\n",
            "     coherenceScore = 1.0\n",
            "     globalScore = 0.2549019607843137\n",
            "     source = BABELFY\n",
            "token: em /É entidade: False\n",
            "token: uma /É entidade: False\n",
            "token: estrutura /É entidade: True\n",
            "     start = 45\n",
            "     end = 53\n",
            "     text = estrutura\n",
            "     isEntity = True\n",
            "     tokenFragment = {'start': 7, 'end': 7}\n",
            "     charFragment = {'start': 45, 'end': 53}\n",
            "     babelSynsetID = bn:03830506n\n",
            "     DBpediaURL = http://dbpedia.org/resource/Structure\n",
            "     BabelNetURL = http://babelnet.org/rdf/s03830506n\n",
            "     score = 0.0\n",
            "     coherenceScore = 0.0\n",
            "     globalScore = 0.0\n",
            "     source = MCS\n",
            "token: estrutura de dados /É entidade: True\n",
            "     start = 45\n",
            "     end = 62\n",
            "     text = estrutura de dados\n",
            "     isEntity = True\n",
            "     tokenFragment = {'start': 7, 'end': 9}\n",
            "     charFragment = {'start': 45, 'end': 62}\n",
            "     babelSynsetID = bn:00025330n\n",
            "     DBpediaURL = http://dbpedia.org/resource/Data_structure\n",
            "     BabelNetURL = http://babelnet.org/rdf/s00025330n\n",
            "     score = 1.0\n",
            "     coherenceScore = 0.8\n",
            "     globalScore = 0.20392156862745098\n",
            "     source = BABELFY\n",
            "token: estrutura de dados pilha /É entidade: True\n",
            "     start = 45\n",
            "     end = 68\n",
            "     text = estrutura de dados pilha\n",
            "     isEntity = True\n",
            "     tokenFragment = {'start': 7, 'end': 10}\n",
            "     charFragment = {'start': 45, 'end': 68}\n",
            "     babelSynsetID = bn:00050097n\n",
            "     DBpediaURL = http://dbpedia.org/resource/LIFO_(computing)\n",
            "     BabelNetURL = http://babelnet.org/rdf/s00050097n\n",
            "     score = 1.0\n",
            "     coherenceScore = 0.8\n",
            "     globalScore = 0.0784313725490196\n",
            "     source = BABELFY\n",
            "token: de /É entidade: False\n",
            "token: dados /É entidade: True\n",
            "     start = 58\n",
            "     end = 62\n",
            "     text = dados\n",
            "     isEntity = True\n",
            "     tokenFragment = {'start': 9, 'end': 9}\n",
            "     charFragment = {'start': 58, 'end': 62}\n",
            "     babelSynsetID = bn:00025314n\n",
            "     DBpediaURL = http://dbpedia.org/resource/Data\n",
            "     BabelNetURL = http://babelnet.org/rdf/s00025314n\n",
            "     score = 0.7213114754098361\n",
            "     coherenceScore = 0.8\n",
            "     globalScore = 0.17254901960784313\n",
            "     source = BABELFY\n",
            "token: pilha /É entidade: True\n",
            "     start = 64\n",
            "     end = 68\n",
            "     text = pilha\n",
            "     isEntity = True\n",
            "     tokenFragment = {'start': 10, 'end': 10}\n",
            "     charFragment = {'start': 64, 'end': 68}\n",
            "     babelSynsetID = bn:00086690v\n",
            "     DBpediaURL = \n",
            "     BabelNetURL = http://babelnet.org/rdf/s00086690v\n",
            "     score = 0.0\n",
            "     coherenceScore = 0.0\n",
            "     globalScore = 0.0\n",
            "     source = MCS\n",
            "token: ? /É entidade: False\n"
          ]
        }
      ]
    }
  ]
}