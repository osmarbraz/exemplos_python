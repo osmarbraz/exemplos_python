{
  "nbformat": 4,
  "nbformat_minor": 0,
  "metadata": {
    "colab": {
      "name": "ExemplosPythonManipulacaoArquivo.ipynb",
      "provenance": [],
      "collapsed_sections": [],
      "toc_visible": true,
      "include_colab_link": true
    },
    "kernelspec": {
      "display_name": "Python 3",
      "name": "python3"
    }
  },
  "cells": [
    {
      "cell_type": "markdown",
      "metadata": {
        "id": "view-in-github",
        "colab_type": "text"
      },
      "source": [
        "<a href=\"https://colab.research.google.com/github/osmarbraz/exemplos_python/blob/master/ExemplosPythonManipulacaoArquivo.ipynb\" target=\"_parent\"><img src=\"https://colab.research.google.com/assets/colab-badge.svg\" alt=\"Open In Colab\"/></a>"
      ]
    },
    {
      "cell_type": "markdown",
      "metadata": {
        "id": "xY84ChCNzmQQ"
      },
      "source": [
        "# Exemplos de Manipulação de Arquivo em Python no Google Colaboratory\n",
        "\n",
        "-----------------------------------------\n",
        "**Guia Colab Iniciante:**\n",
        "\n",
        "https://medium.com/machina-sapiens/google-colab-guia-do-iniciante-334d70aad531\n",
        "\n",
        "**Documentação oficial:**\n",
        "\n",
        "https://colab.research.google.com/github/jakevdp/PythonDataScienceHandbook/blob/master/notebooks/01.01-Help-And-Documentation.ipynb\n",
        "\n",
        "**Características :**\n",
        "\n",
        "https://colab.research.google.com/notebooks/basic_features_overview.ipynb"
      ]
    },
    {
      "cell_type": "markdown",
      "metadata": {
        "id": "Vx3NYTcwtaCd"
      },
      "source": [
        "# Sistema de Arquivos\n",
        "Exemplos https://colab.research.google.com/notebooks/io.ipynb<br>\n",
        "https://colab.research.google.com/github/jakevdp/PythonDataScienceHandbook/blob/master/notebooks/01.05-IPython-And-Shell-Commands.ipynb"
      ]
    },
    {
      "cell_type": "markdown",
      "metadata": {
        "id": "aRHsLgt2tk_c"
      },
      "source": [
        "## Diretórios"
      ]
    },
    {
      "cell_type": "markdown",
      "metadata": {
        "id": "yBFd9llAuuoK"
      },
      "source": [
        "Lista o conteúdo do diretório corrente."
      ]
    },
    {
      "cell_type": "code",
      "metadata": {
        "colab": {
          "base_uri": "https://localhost:8080/"
        },
        "id": "cVoju6o7tobP",
        "outputId": "6c3d3ce3-e4c7-4c42-df13-11dd05ff0564"
      },
      "source": [
        "!ls ."
      ],
      "execution_count": 1,
      "outputs": [
        {
          "output_type": "stream",
          "name": "stdout",
          "text": [
            "sample_data\n"
          ]
        }
      ]
    },
    {
      "cell_type": "markdown",
      "metadata": {
        "id": "C3__Ec0Du1uG"
      },
      "source": [
        "Mostrando o diretório corrente"
      ]
    },
    {
      "cell_type": "code",
      "metadata": {
        "colab": {
          "base_uri": "https://localhost:8080/"
        },
        "id": "faijPbGbu4of",
        "outputId": "b1495b83-7808-4b35-eb6a-5a0014306ed4"
      },
      "source": [
        "!pwd"
      ],
      "execution_count": 2,
      "outputs": [
        {
          "output_type": "stream",
          "name": "stdout",
          "text": [
            "/content\n"
          ]
        }
      ]
    },
    {
      "cell_type": "markdown",
      "metadata": {
        "id": "KvrM9PJi42Yf"
      },
      "source": [
        "## Arquivos"
      ]
    },
    {
      "cell_type": "markdown",
      "metadata": {
        "id": "o3OfJ3xCPBBG"
      },
      "source": [
        "Lista os arquivos e pastas do diretório corrente."
      ]
    },
    {
      "cell_type": "code",
      "metadata": {
        "colab": {
          "base_uri": "https://localhost:8080/"
        },
        "id": "ih_CaIpWEkii",
        "outputId": "ced96504-9cbe-4985-9207-e53e06b60d8c"
      },
      "source": [
        "!ls -la"
      ],
      "execution_count": 3,
      "outputs": [
        {
          "output_type": "stream",
          "name": "stdout",
          "text": [
            "total 16\n",
            "drwxr-xr-x 1 root root 4096 Oct  8 13:45 .\n",
            "drwxr-xr-x 1 root root 4096 Oct 19 11:45 ..\n",
            "drwxr-xr-x 4 root root 4096 Oct  8 13:44 .config\n",
            "drwxr-xr-x 1 root root 4096 Oct  8 13:45 sample_data\n"
          ]
        }
      ]
    },
    {
      "cell_type": "markdown",
      "metadata": {
        "id": "AsJ0yS-JPpEG"
      },
      "source": [
        "Lista os arquivos e pastas do diretório corrente incluindo os ocultos."
      ]
    },
    {
      "cell_type": "code",
      "metadata": {
        "colab": {
          "base_uri": "https://localhost:8080/"
        },
        "id": "6MLYidtJF3Y1",
        "outputId": "10c87c0e-fe79-4459-c3c4-ac15a164de11"
      },
      "source": [
        "!ls -lh"
      ],
      "execution_count": 4,
      "outputs": [
        {
          "output_type": "stream",
          "name": "stdout",
          "text": [
            "total 4.0K\n",
            "drwxr-xr-x 1 root root 4.0K Oct  8 13:45 sample_data\n"
          ]
        }
      ]
    },
    {
      "cell_type": "markdown",
      "metadata": {
        "id": "asNVk0KmYXon"
      },
      "source": [
        "## Verificando se um diretório existe"
      ]
    },
    {
      "cell_type": "markdown",
      "metadata": {
        "id": "tLB8G6XMXlWn"
      },
      "source": [
        "Cria um diretório caso ele não exista."
      ]
    },
    {
      "cell_type": "code",
      "metadata": {
        "colab": {
          "base_uri": "https://localhost:8080/"
        },
        "id": "LzlsgPI-XkdL",
        "outputId": "940257e6-8d23-4b44-e898-e3abae413cb4"
      },
      "source": [
        "# Biblioteca para acessar o sistema de arquivos\n",
        "import os\n",
        "\n",
        "# Diretório a ser criado\n",
        "dir = 'diretorio_exemplo'\n",
        "\n",
        "# Verifica se o diretório existe\n",
        "if not os.path.exists(dir):  \n",
        "    # Cria o diretório\n",
        "    os.makedirs(dir)    \n",
        "    print('Diretório criado: {}'.format(dir))\n",
        "else:    \n",
        "    print('Diretório já existe: {}'.format(dir))"
      ],
      "execution_count": 5,
      "outputs": [
        {
          "output_type": "stream",
          "name": "stdout",
          "text": [
            "Diretório criado: diretorio_exemplo\n"
          ]
        }
      ]
    },
    {
      "cell_type": "markdown",
      "metadata": {
        "id": "lr6CZ_Vce_O1"
      },
      "source": [
        "## Verificando se um arquivo existe"
      ]
    },
    {
      "cell_type": "code",
      "metadata": {
        "colab": {
          "base_uri": "https://localhost:8080/"
        },
        "id": "g_2RX0F9fHDu",
        "outputId": "9fd0c0de-672d-409d-d9b4-a746be43e4ef"
      },
      "source": [
        "# Biblioteca para acessar o sistema de arquivos\n",
        "import os\n",
        "\n",
        "# Nome do arquivo\n",
        "arquivo = 'teste.txt'\n",
        "\n",
        "# Verifica se o arquivo existe\n",
        "if not os.path.exists(arquivo):  \n",
        "    print('Arquivo não existe: {}'.format(arquivo))\n",
        "else:\n",
        "    print('Arquivo já existe: {}'.format(arquivo))"
      ],
      "execution_count": 6,
      "outputs": [
        {
          "output_type": "stream",
          "name": "stdout",
          "text": [
            "Arquivo não existe: teste.txt\n"
          ]
        }
      ]
    },
    {
      "cell_type": "markdown",
      "metadata": {
        "id": "Q7ga4y51FHZ8"
      },
      "source": [
        "## Download\n",
        "\n",
        "https://medium.com/@araujo.dionata/google-colab-importando-arquivos-direto-do-google-drive-5c0fc2798480"
      ]
    },
    {
      "cell_type": "markdown",
      "metadata": {
        "id": "OVQywZLUcNeD"
      },
      "source": [
        "### Download de Arquivo com WGET via SO"
      ]
    },
    {
      "cell_type": "markdown",
      "metadata": {
        "id": "rS5N8tCJcSNm"
      },
      "source": [
        "Usa os comandos do SO para realizar o download de um arquivo.\n",
        "\n",
        "Use o parâmetro '-O' para especificar o nome de arquivo a ser salvo.\n",
        "\n",
        "```\n",
        "!wget -O nomearquivodestino url\n",
        "```\n"
      ]
    },
    {
      "cell_type": "code",
      "metadata": {
        "colab": {
          "base_uri": "https://localhost:8080/"
        },
        "id": "BnJfsDjKcVSF",
        "outputId": "13ce357f-b9dd-4983-ecfa-b3ffd7c9db77"
      },
      "source": [
        "# Apaga o arquivo 'cola_public_1.0.zip'\n",
        "!rm cola_public_1.0.zip\n",
        "\n",
        "# Realiza o download do arquivo 'cola_public_1.0.zip' da url especificada\n",
        "!wget https://nyu-mll.github.io/CoLA/cola_public_1.0.zip\n",
        "\n",
        "# Lista o diretório corrente e os arquivos.\n",
        "!pwd\n",
        "!ls -la"
      ],
      "execution_count": 7,
      "outputs": [
        {
          "output_type": "stream",
          "name": "stdout",
          "text": [
            "rm: cannot remove 'cola_public_1.0.zip': No such file or directory\n",
            "--2021-10-19 11:46:44--  https://nyu-mll.github.io/CoLA/cola_public_1.0.zip\n",
            "Resolving nyu-mll.github.io (nyu-mll.github.io)... 185.199.111.153, 185.199.110.153, 185.199.109.153, ...\n",
            "Connecting to nyu-mll.github.io (nyu-mll.github.io)|185.199.111.153|:443... connected.\n",
            "HTTP request sent, awaiting response... 200 OK\n",
            "Length: 260499 (254K) [application/zip]\n",
            "Saving to: ‘cola_public_1.0.zip’\n",
            "\n",
            "cola_public_1.0.zip 100%[===================>] 254.39K  --.-KB/s    in 0.03s   \n",
            "\n",
            "2021-10-19 11:46:44 (8.38 MB/s) - ‘cola_public_1.0.zip’ saved [260499/260499]\n",
            "\n",
            "/content\n",
            "total 276\n",
            "drwxr-xr-x 1 root root   4096 Oct 19 11:46 .\n",
            "drwxr-xr-x 1 root root   4096 Oct 19 11:45 ..\n",
            "-rw-r--r-- 1 root root 260499 Sep 17  2019 cola_public_1.0.zip\n",
            "drwxr-xr-x 4 root root   4096 Oct  8 13:44 .config\n",
            "drwxr-xr-x 2 root root   4096 Oct 19 11:46 diretorio_exemplo\n",
            "drwxr-xr-x 1 root root   4096 Oct  8 13:45 sample_data\n"
          ]
        }
      ]
    },
    {
      "cell_type": "markdown",
      "metadata": {
        "id": "qqoFoPhiCyvg"
      },
      "source": [
        "### Download de Arquivo com WGET biblioteca"
      ]
    },
    {
      "cell_type": "markdown",
      "metadata": {
        "id": "Qv-UoMtkC4Lp"
      },
      "source": [
        "Usa a biblioteca  para realizar o download de um arquivo."
      ]
    },
    {
      "cell_type": "code",
      "metadata": {
        "colab": {
          "base_uri": "https://localhost:8080/"
        },
        "id": "4y76utNHC8_o",
        "outputId": "8f1ef25a-06b9-4329-e223-2d5e9b1a40ae"
      },
      "source": [
        "!pip install wget"
      ],
      "execution_count": 8,
      "outputs": [
        {
          "output_type": "stream",
          "name": "stdout",
          "text": [
            "Collecting wget\n",
            "  Downloading wget-3.2.zip (10 kB)\n",
            "Building wheels for collected packages: wget\n",
            "  Building wheel for wget (setup.py) ... \u001b[?25l\u001b[?25hdone\n",
            "  Created wheel for wget: filename=wget-3.2-py3-none-any.whl size=9672 sha256=6898d75b898607a1353ea656713c570e440fa12c07e242656b442b0b5a1f344e\n",
            "  Stored in directory: /root/.cache/pip/wheels/a1/b6/7c/0e63e34eb06634181c63adacca38b79ff8f35c37e3c13e3c02\n",
            "Successfully built wget\n",
            "Installing collected packages: wget\n",
            "Successfully installed wget-3.2\n"
          ]
        }
      ]
    },
    {
      "cell_type": "code",
      "metadata": {
        "colab": {
          "base_uri": "https://localhost:8080/"
        },
        "id": "T5d6WeQTC9d3",
        "outputId": "5b53505c-2653-4ab2-dd61-e8c4e8ba6143"
      },
      "source": [
        "# Import das bibliotecas\n",
        "import wget\n",
        "import os\n",
        "\n",
        "# Apaga o arquivo 'cola_public_1.0.zip'\n",
        "!rm cola_public_1.0.zip\n",
        "\n",
        "# url para o arquivo a ser feito o download\n",
        "url = 'https://nyu-mll.github.io/CoLA/cola_public_1.0.zip'\n",
        "\n",
        "# Realiza o download do arquivo 'cola_public_1.0.zip' da url especificada\n",
        "wget.download(url, './cola_public_1.1.zip')\n",
        "\n",
        "# Lista o diretório corrente e os arquivos.\n",
        "!pwd\n",
        "!ls -la"
      ],
      "execution_count": 9,
      "outputs": [
        {
          "output_type": "stream",
          "name": "stdout",
          "text": [
            "/content\n",
            "total 276\n",
            "drwxr-xr-x 1 root root   4096 Oct 19 11:46 .\n",
            "drwxr-xr-x 1 root root   4096 Oct 19 11:45 ..\n",
            "-rw-r--r-- 1 root root 260499 Oct 19 11:46 cola_public_1.1.zip\n",
            "drwxr-xr-x 4 root root   4096 Oct  8 13:44 .config\n",
            "drwxr-xr-x 2 root root   4096 Oct 19 11:46 diretorio_exemplo\n",
            "drwxr-xr-x 1 root root   4096 Oct  8 13:45 sample_data\n"
          ]
        }
      ]
    },
    {
      "cell_type": "markdown",
      "metadata": {
        "id": "5vWCAuljnYFO"
      },
      "source": [
        "### Download de Arquivo grande com WGET do GoogleDrive via SO\n",
        "\n",
        "https://gist.github.com/iamtekeste/3cdfd0366ebfd2c0d805"
      ]
    },
    {
      "cell_type": "code",
      "metadata": {
        "colab": {
          "base_uri": "https://localhost:8080/"
        },
        "id": "IMRv_RkdnY_L",
        "outputId": "f133c80d-fe7e-464e-db3f-d1460076c863"
      },
      "source": [
        "# Nome do arquivo a ser criado\n",
        "NOME_ARQUIVO = 'imdb-reviews-pt-br.zip'\n",
        "\n",
        "# Realiza o download do arquivo\n",
        "!wget --load-cookies /tmp/cookies.txt \"https://docs.google.com/uc?export=download&confirm=$(wget --quiet --save-cookies /tmp/cookies.txt --keep-session-cookies --no-check-certificate 'https://docs.google.com/uc?export=download&id=1LFtccnbqO2igtWRNaHXnpiu5_wFG0xVK' -O- | sed -rn 's/.*confirm=([0-9A-Za-z_]+).*/\\1\\n/p')&id=1LFtccnbqO2igtWRNaHXnpiu5_wFG0xVK\" -O '$NOME_ARQUIVO' && rm -rf /tmp/cookies.txt"
      ],
      "execution_count": 10,
      "outputs": [
        {
          "output_type": "stream",
          "name": "stdout",
          "text": [
            "--2021-10-19 11:46:51--  https://docs.google.com/uc?export=download&confirm=&id=1LFtccnbqO2igtWRNaHXnpiu5_wFG0xVK\n",
            "Resolving docs.google.com (docs.google.com)... 172.217.214.139, 172.217.214.101, 172.217.214.100, ...\n",
            "Connecting to docs.google.com (docs.google.com)|172.217.214.139|:443... connected.\n",
            "HTTP request sent, awaiting response... 200 OK\n",
            "Length: unspecified [text/html]\n",
            "Saving to: ‘imdb-reviews-pt-br.zip’\n",
            "\n",
            "\rimdb-reviews-pt-br.     [<=>                 ]       0  --.-KB/s               \rimdb-reviews-pt-br.     [ <=>                ]   3.21K  --.-KB/s    in 0s      \n",
            "\n",
            "2021-10-19 11:46:51 (33.9 MB/s) - ‘imdb-reviews-pt-br.zip’ saved [3291]\n",
            "\n"
          ]
        }
      ]
    },
    {
      "cell_type": "code",
      "metadata": {
        "colab": {
          "base_uri": "https://localhost:8080/"
        },
        "id": "oCk0Y3_lnmkX",
        "outputId": "0c3a5393-f2f0-4ae8-a715-15186a482543"
      },
      "source": [
        "ls -la"
      ],
      "execution_count": 11,
      "outputs": [
        {
          "output_type": "stream",
          "name": "stdout",
          "text": [
            "total 280\n",
            "drwxr-xr-x 1 root root   4096 Oct 19 11:46 \u001b[0m\u001b[01;34m.\u001b[0m/\n",
            "drwxr-xr-x 1 root root   4096 Oct 19 11:45 \u001b[01;34m..\u001b[0m/\n",
            "-rw-r--r-- 1 root root 260499 Oct 19 11:46 cola_public_1.1.zip\n",
            "drwxr-xr-x 4 root root   4096 Oct  8 13:44 \u001b[01;34m.config\u001b[0m/\n",
            "drwxr-xr-x 2 root root   4096 Oct 19 11:46 \u001b[01;34mdiretorio_exemplo\u001b[0m/\n",
            "-rw-r--r-- 1 root root   3291 Oct 19 11:46 imdb-reviews-pt-br.zip\n",
            "drwxr-xr-x 1 root root   4096 Oct  8 13:45 \u001b[01;34msample_data\u001b[0m/\n"
          ]
        }
      ]
    },
    {
      "cell_type": "markdown",
      "metadata": {
        "id": "Ak1stJC3McDu"
      },
      "source": [
        "### Download de Arquivo com WGET do Onedrive via SO\n",
        "\n",
        "Incluir no final da url \"&download=1\""
      ]
    },
    {
      "cell_type": "code",
      "metadata": {
        "colab": {
          "base_uri": "https://localhost:8080/"
        },
        "id": "dznWGlqDMk5-",
        "outputId": "ec502f54-2184-414c-d390-511a4deb25b2"
      },
      "source": [
        "# Nome do arquivo a ser criado\n",
        "NOME_ARQUIVO = \"imdb-reviews-pt-br1.zip\"\n",
        "\n",
        "# Realiza o download do arquivo\n",
        "!wget -O '$NOME_ARQUIVO' --no-check-certificate  \"https://udesc-my.sharepoint.com/:u:/g/personal/91269423991_udesc_br/EclmoWeQxzdEkbGYpvnejU8BsUTQcW9a1ch2oqY9dDa4SA?e=1env2u&download=1\""
      ],
      "execution_count": 12,
      "outputs": [
        {
          "output_type": "stream",
          "name": "stdout",
          "text": [
            "--2021-10-19 11:46:51--  https://udesc-my.sharepoint.com/:u:/g/personal/91269423991_udesc_br/EclmoWeQxzdEkbGYpvnejU8BsUTQcW9a1ch2oqY9dDa4SA?e=1env2u&download=1\n",
            "Resolving udesc-my.sharepoint.com (udesc-my.sharepoint.com)... 13.107.136.9, 13.107.138.9\n",
            "Connecting to udesc-my.sharepoint.com (udesc-my.sharepoint.com)|13.107.136.9|:443... connected.\n",
            "HTTP request sent, awaiting response... 302 Found\n",
            "Location: /personal/91269423991_udesc_br/Documents/DATAPUBLIC/imdb-reviews-pt-br.zip?originalPath=aHR0cHM6Ly91ZGVzYy1teS5zaGFyZXBvaW50LmNvbS86dTovZy9wZXJzb25hbC85MTI2OTQyMzk5MV91ZGVzY19ici9FY2xtb1dlUXh6ZEVrYkdZcHZuZWpVOEJzVVRRY1c5YTFjaDJvcVk5ZERhNFNBP3J0aW1lPUdsUGZKUGFTMlVn [following]\n",
            "--2021-10-19 11:46:52--  https://udesc-my.sharepoint.com/personal/91269423991_udesc_br/Documents/DATAPUBLIC/imdb-reviews-pt-br.zip?originalPath=aHR0cHM6Ly91ZGVzYy1teS5zaGFyZXBvaW50LmNvbS86dTovZy9wZXJzb25hbC85MTI2OTQyMzk5MV91ZGVzY19ici9FY2xtb1dlUXh6ZEVrYkdZcHZuZWpVOEJzVVRRY1c5YTFjaDJvcVk5ZERhNFNBP3J0aW1lPUdsUGZKUGFTMlVn\n",
            "Reusing existing connection to udesc-my.sharepoint.com:443.\n",
            "HTTP request sent, awaiting response... 200 OK\n",
            "Length: 50783959 (48M) [application/x-zip-compressed]\n",
            "Saving to: ‘imdb-reviews-pt-br1.zip’\n",
            "\n",
            "imdb-reviews-pt-br1 100%[===================>]  48.43M  16.5MB/s    in 2.9s    \n",
            "\n",
            "2021-10-19 11:46:56 (16.5 MB/s) - ‘imdb-reviews-pt-br1.zip’ saved [50783959/50783959]\n",
            "\n"
          ]
        }
      ]
    },
    {
      "cell_type": "code",
      "metadata": {
        "colab": {
          "base_uri": "https://localhost:8080/"
        },
        "id": "birRrYtHRD3m",
        "outputId": "194e5594-e813-40e4-ba00-4c1e07343f6a"
      },
      "source": [
        "ls -la"
      ],
      "execution_count": 13,
      "outputs": [
        {
          "output_type": "stream",
          "name": "stdout",
          "text": [
            "total 49876\n",
            "drwxr-xr-x 1 root root     4096 Oct 19 11:46 \u001b[0m\u001b[01;34m.\u001b[0m/\n",
            "drwxr-xr-x 1 root root     4096 Oct 19 11:45 \u001b[01;34m..\u001b[0m/\n",
            "-rw-r--r-- 1 root root   260499 Oct 19 11:46 cola_public_1.1.zip\n",
            "drwxr-xr-x 4 root root     4096 Oct  8 13:44 \u001b[01;34m.config\u001b[0m/\n",
            "drwxr-xr-x 2 root root     4096 Oct 19 11:46 \u001b[01;34mdiretorio_exemplo\u001b[0m/\n",
            "-rw-r--r-- 1 root root 50783959 Dec 16  2020 imdb-reviews-pt-br1.zip\n",
            "-rw-r--r-- 1 root root     3291 Oct 19 11:46 imdb-reviews-pt-br.zip\n",
            "drwxr-xr-x 1 root root     4096 Oct  8 13:45 \u001b[01;34msample_data\u001b[0m/\n"
          ]
        }
      ]
    },
    {
      "cell_type": "markdown",
      "metadata": {
        "id": "Lzcg-5Ooc1CN"
      },
      "source": [
        "## Descompacta um arquivo usando UNZIP"
      ]
    },
    {
      "cell_type": "markdown",
      "metadata": {
        "id": "MCc4gfYXc9Zc"
      },
      "source": [
        "O parâmetro **-o** é para substituir os arquivos existentes de outra descompactação."
      ]
    },
    {
      "cell_type": "code",
      "metadata": {
        "colab": {
          "base_uri": "https://localhost:8080/"
        },
        "id": "zu6xOIqSc5-z",
        "outputId": "938792ba-9980-4b86-9ad4-1e4af9bfcc69"
      },
      "source": [
        "# Lista o diretório corrente e os arquivos.\n",
        "!pwd\n",
        "!ls -la\n",
        "\n",
        "# Apaga o diretório 'cola_public_1.0' e seus arquivos\n",
        "!rm -rf cola_public_1.0\n",
        "\n",
        "# Descompacta o arquivo 'cola_public_1.0.zip'\n",
        "!unzip -o /content/cola_public_1.1.zip\n",
        "\n",
        "# Lista os arquivos do diretório corrente\n",
        "!ls -la"
      ],
      "execution_count": 14,
      "outputs": [
        {
          "output_type": "stream",
          "name": "stdout",
          "text": [
            "/content\n",
            "total 49876\n",
            "drwxr-xr-x 1 root root     4096 Oct 19 11:46 .\n",
            "drwxr-xr-x 1 root root     4096 Oct 19 11:45 ..\n",
            "-rw-r--r-- 1 root root   260499 Oct 19 11:46 cola_public_1.1.zip\n",
            "drwxr-xr-x 4 root root     4096 Oct  8 13:44 .config\n",
            "drwxr-xr-x 2 root root     4096 Oct 19 11:46 diretorio_exemplo\n",
            "-rw-r--r-- 1 root root 50783959 Dec 16  2020 imdb-reviews-pt-br1.zip\n",
            "-rw-r--r-- 1 root root     3291 Oct 19 11:46 imdb-reviews-pt-br.zip\n",
            "drwxr-xr-x 1 root root     4096 Oct  8 13:45 sample_data\n",
            "Archive:  /content/cola_public_1.1.zip\n",
            "   creating: cola_public_1.0/\n",
            "  inflating: cola_public_1.0/.DS_Store  \n",
            "   creating: __MACOSX/\n",
            "   creating: __MACOSX/cola_public_1.0/\n",
            "  inflating: __MACOSX/cola_public_1.0/._.DS_Store  \n",
            "  inflating: cola_public_1.0/README  \n",
            "  inflating: __MACOSX/cola_public_1.0/._README  \n",
            "   creating: cola_public_1.0/tokenized/\n",
            "  inflating: cola_public_1.0/tokenized/in_domain_dev.tsv  \n",
            "   creating: __MACOSX/cola_public_1.0/tokenized/\n",
            "  inflating: __MACOSX/cola_public_1.0/tokenized/._in_domain_dev.tsv  \n",
            "  inflating: cola_public_1.0/tokenized/in_domain_train.tsv  \n",
            "  inflating: __MACOSX/cola_public_1.0/tokenized/._in_domain_train.tsv  \n",
            "  inflating: cola_public_1.0/tokenized/out_of_domain_dev.tsv  \n",
            "  inflating: __MACOSX/cola_public_1.0/tokenized/._out_of_domain_dev.tsv  \n",
            "  inflating: __MACOSX/cola_public_1.0/._tokenized  \n",
            "   creating: cola_public_1.0/raw/\n",
            "  inflating: cola_public_1.0/raw/in_domain_dev.tsv  \n",
            "   creating: __MACOSX/cola_public_1.0/raw/\n",
            "  inflating: __MACOSX/cola_public_1.0/raw/._in_domain_dev.tsv  \n",
            "  inflating: cola_public_1.0/raw/in_domain_train.tsv  \n",
            "  inflating: __MACOSX/cola_public_1.0/raw/._in_domain_train.tsv  \n",
            "  inflating: cola_public_1.0/raw/out_of_domain_dev.tsv  \n",
            "  inflating: __MACOSX/cola_public_1.0/raw/._out_of_domain_dev.tsv  \n",
            "  inflating: __MACOSX/cola_public_1.0/._raw  \n",
            "  inflating: __MACOSX/._cola_public_1.0  \n",
            "total 49884\n",
            "drwxr-xr-x 1 root root     4096 Oct 19 11:46 .\n",
            "drwxr-xr-x 1 root root     4096 Oct 19 11:45 ..\n",
            "drwxr-xr-x 4 root root     4096 Dec 14  2018 cola_public_1.0\n",
            "-rw-r--r-- 1 root root   260499 Oct 19 11:46 cola_public_1.1.zip\n",
            "drwxr-xr-x 4 root root     4096 Oct  8 13:44 .config\n",
            "drwxr-xr-x 2 root root     4096 Oct 19 11:46 diretorio_exemplo\n",
            "-rw-r--r-- 1 root root 50783959 Dec 16  2020 imdb-reviews-pt-br1.zip\n",
            "-rw-r--r-- 1 root root     3291 Oct 19 11:46 imdb-reviews-pt-br.zip\n",
            "drwxrwxr-x 3 root root     4096 Dec 14  2018 __MACOSX\n",
            "drwxr-xr-x 1 root root     4096 Oct  8 13:45 sample_data\n"
          ]
        }
      ]
    },
    {
      "cell_type": "code",
      "metadata": {
        "colab": {
          "base_uri": "https://localhost:8080/"
        },
        "id": "GLM3PmyhOFnH",
        "outputId": "45b4e006-106f-4fa1-9e24-0fed29b92243"
      },
      "source": [
        "!ls -la"
      ],
      "execution_count": 15,
      "outputs": [
        {
          "output_type": "stream",
          "name": "stdout",
          "text": [
            "total 49884\n",
            "drwxr-xr-x 1 root root     4096 Oct 19 11:46 .\n",
            "drwxr-xr-x 1 root root     4096 Oct 19 11:45 ..\n",
            "drwxr-xr-x 4 root root     4096 Dec 14  2018 cola_public_1.0\n",
            "-rw-r--r-- 1 root root   260499 Oct 19 11:46 cola_public_1.1.zip\n",
            "drwxr-xr-x 4 root root     4096 Oct  8 13:44 .config\n",
            "drwxr-xr-x 2 root root     4096 Oct 19 11:46 diretorio_exemplo\n",
            "-rw-r--r-- 1 root root 50783959 Dec 16  2020 imdb-reviews-pt-br1.zip\n",
            "-rw-r--r-- 1 root root     3291 Oct 19 11:46 imdb-reviews-pt-br.zip\n",
            "drwxrwxr-x 3 root root     4096 Dec 14  2018 __MACOSX\n",
            "drwxr-xr-x 1 root root     4096 Oct  8 13:45 sample_data\n"
          ]
        }
      ]
    },
    {
      "cell_type": "markdown",
      "metadata": {
        "id": "Ry045UHNRAhK"
      },
      "source": [
        "## Retornando a lista de arquivos do diretório corrente"
      ]
    },
    {
      "cell_type": "code",
      "metadata": {
        "colab": {
          "base_uri": "https://localhost:8080/"
        },
        "id": "5NvpcRqYRC-f",
        "outputId": "1f9918fb-7631-416e-c25e-16b227a276c4"
      },
      "source": [
        "# Import das bibliotecas\n",
        "import os\n",
        "\n",
        "# Recupera o conteúdo do diretório \n",
        "conteudoDiretorio = os.listdir('/content/')\n",
        "\n",
        "# Percorre a lista do conteúdo do diretório\n",
        "for conteudo in conteudoDiretorio:\n",
        "    print(conteudo)"
      ],
      "execution_count": 16,
      "outputs": [
        {
          "output_type": "stream",
          "name": "stdout",
          "text": [
            ".config\n",
            "imdb-reviews-pt-br.zip\n",
            "cola_public_1.0\n",
            "diretorio_exemplo\n",
            "__MACOSX\n",
            "cola_public_1.1.zip\n",
            "imdb-reviews-pt-br1.zip\n",
            "sample_data\n"
          ]
        }
      ]
    },
    {
      "cell_type": "markdown",
      "metadata": {
        "id": "pvIHc5aMzxIf"
      },
      "source": [
        "## Integração com Drive\n",
        "\n",
        "O Google Colaboratory é integrado ao GoogleDrive. Ele permite que você compartilhe, comente e colabore no mesmo documento com várias pessoas:\n",
        "\n",
        "* O botão **COMPARTILHAR** (canto superior direito da barra de ferramentas) permite que você compartilhe o bloco de anotações e controle as permissões definidas nele.\n",
        "\n",
        "* **Arquivo-> Salvar um cópia no Drive**, cria uma cópia do notebook no Drive.\n",
        "\n",
        "* **Arquivo-> Salvar**, salva as alterações do notebook, apesar de existir o salvamente automático. \n",
        "\n",
        "* **Arquivo-> Salvar e fixar revisão**, salva e fixa a versão para que ela não seja excluída do histórico de revisão.\n",
        "\n",
        "* **Arquivo-> Histórico de revisões** mostra o histórico de revisão do notebook."
      ]
    },
    {
      "cell_type": "markdown",
      "metadata": {
        "id": "3qqF3jjVde15"
      },
      "source": [
        "### Identificando o ambiente Colab"
      ]
    },
    {
      "cell_type": "code",
      "metadata": {
        "colab": {
          "base_uri": "https://localhost:8080/"
        },
        "id": "PH5Ys3HsNCub",
        "outputId": "31c72377-312e-4596-f541-c0009dfc19b9"
      },
      "source": [
        "# Se estiver executando no Google Colaboratory\n",
        "import sys\n",
        "\n",
        "# Retorna true ou false se estiver no Google Colaboratory\n",
        "IN_COLAB = 'google.colab' in sys.modules\n",
        "\n",
        "if IN_COLAB:\n",
        "  print('Executando no Google Colaboratory')\n",
        "else:\n",
        "  print('Não executando no Google Colaboratory!')"
      ],
      "execution_count": 17,
      "outputs": [
        {
          "output_type": "stream",
          "name": "stdout",
          "text": [
            "Executando no Google Colaboratory\n"
          ]
        }
      ]
    },
    {
      "cell_type": "markdown",
      "metadata": {
        "id": "6WQDzt3UqYvc"
      },
      "source": [
        "### Acesso e download de Arquivo Grande com PyDrive do GoogleDrive"
      ]
    },
    {
      "cell_type": "markdown",
      "metadata": {
        "id": "ChjikTc0PVUc"
      },
      "source": [
        "Instando o PyDrive no Google Colaboratory.\n",
        "\n",
        "No Jupiter Notebook executar através \"Anaconda Prompt\".\n",
        "\n",
        "PyDrive é uma biblioteca de manipulação de arquivos para o google drive.<br>\n",
        "\n",
        "https://colab.research.google.com/notebooks/io.ipynb#scrollTo=7taylj9wpsA2"
      ]
    },
    {
      "cell_type": "code",
      "metadata": {
        "colab": {
          "base_uri": "https://localhost:8080/"
        },
        "id": "oS-Euca2PWC2",
        "outputId": "bdc856c4-f546-437b-9cfb-7f77f963e75e"
      },
      "source": [
        " pip install PyDrive"
      ],
      "execution_count": 18,
      "outputs": [
        {
          "output_type": "stream",
          "name": "stdout",
          "text": [
            "Requirement already satisfied: PyDrive in /usr/local/lib/python3.7/dist-packages (1.3.1)\n",
            "Requirement already satisfied: google-api-python-client>=1.2 in /usr/local/lib/python3.7/dist-packages (from PyDrive) (1.12.8)\n",
            "Requirement already satisfied: PyYAML>=3.0 in /usr/local/lib/python3.7/dist-packages (from PyDrive) (3.13)\n",
            "Requirement already satisfied: oauth2client>=4.0.0 in /usr/local/lib/python3.7/dist-packages (from PyDrive) (4.1.3)\n",
            "Requirement already satisfied: google-auth-httplib2>=0.0.3 in /usr/local/lib/python3.7/dist-packages (from google-api-python-client>=1.2->PyDrive) (0.0.4)\n",
            "Requirement already satisfied: google-auth>=1.16.0 in /usr/local/lib/python3.7/dist-packages (from google-api-python-client>=1.2->PyDrive) (1.35.0)\n",
            "Requirement already satisfied: uritemplate<4dev,>=3.0.0 in /usr/local/lib/python3.7/dist-packages (from google-api-python-client>=1.2->PyDrive) (3.0.1)\n",
            "Requirement already satisfied: six<2dev,>=1.13.0 in /usr/local/lib/python3.7/dist-packages (from google-api-python-client>=1.2->PyDrive) (1.15.0)\n",
            "Requirement already satisfied: google-api-core<2dev,>=1.21.0 in /usr/local/lib/python3.7/dist-packages (from google-api-python-client>=1.2->PyDrive) (1.26.3)\n",
            "Requirement already satisfied: httplib2<1dev,>=0.15.0 in /usr/local/lib/python3.7/dist-packages (from google-api-python-client>=1.2->PyDrive) (0.17.4)\n",
            "Requirement already satisfied: googleapis-common-protos<2.0dev,>=1.6.0 in /usr/local/lib/python3.7/dist-packages (from google-api-core<2dev,>=1.21.0->google-api-python-client>=1.2->PyDrive) (1.53.0)\n",
            "Requirement already satisfied: protobuf>=3.12.0 in /usr/local/lib/python3.7/dist-packages (from google-api-core<2dev,>=1.21.0->google-api-python-client>=1.2->PyDrive) (3.17.3)\n",
            "Requirement already satisfied: requests<3.0.0dev,>=2.18.0 in /usr/local/lib/python3.7/dist-packages (from google-api-core<2dev,>=1.21.0->google-api-python-client>=1.2->PyDrive) (2.23.0)\n",
            "Requirement already satisfied: setuptools>=40.3.0 in /usr/local/lib/python3.7/dist-packages (from google-api-core<2dev,>=1.21.0->google-api-python-client>=1.2->PyDrive) (57.4.0)\n",
            "Requirement already satisfied: pytz in /usr/local/lib/python3.7/dist-packages (from google-api-core<2dev,>=1.21.0->google-api-python-client>=1.2->PyDrive) (2018.9)\n",
            "Requirement already satisfied: packaging>=14.3 in /usr/local/lib/python3.7/dist-packages (from google-api-core<2dev,>=1.21.0->google-api-python-client>=1.2->PyDrive) (21.0)\n",
            "Requirement already satisfied: cachetools<5.0,>=2.0.0 in /usr/local/lib/python3.7/dist-packages (from google-auth>=1.16.0->google-api-python-client>=1.2->PyDrive) (4.2.4)\n",
            "Requirement already satisfied: rsa<5,>=3.1.4 in /usr/local/lib/python3.7/dist-packages (from google-auth>=1.16.0->google-api-python-client>=1.2->PyDrive) (4.7.2)\n",
            "Requirement already satisfied: pyasn1-modules>=0.2.1 in /usr/local/lib/python3.7/dist-packages (from google-auth>=1.16.0->google-api-python-client>=1.2->PyDrive) (0.2.8)\n",
            "Requirement already satisfied: pyasn1>=0.1.7 in /usr/local/lib/python3.7/dist-packages (from oauth2client>=4.0.0->PyDrive) (0.4.8)\n",
            "Requirement already satisfied: pyparsing>=2.0.2 in /usr/local/lib/python3.7/dist-packages (from packaging>=14.3->google-api-core<2dev,>=1.21.0->google-api-python-client>=1.2->PyDrive) (2.4.7)\n",
            "Requirement already satisfied: chardet<4,>=3.0.2 in /usr/local/lib/python3.7/dist-packages (from requests<3.0.0dev,>=2.18.0->google-api-core<2dev,>=1.21.0->google-api-python-client>=1.2->PyDrive) (3.0.4)\n",
            "Requirement already satisfied: certifi>=2017.4.17 in /usr/local/lib/python3.7/dist-packages (from requests<3.0.0dev,>=2.18.0->google-api-core<2dev,>=1.21.0->google-api-python-client>=1.2->PyDrive) (2021.5.30)\n",
            "Requirement already satisfied: urllib3!=1.25.0,!=1.25.1,<1.26,>=1.21.1 in /usr/local/lib/python3.7/dist-packages (from requests<3.0.0dev,>=2.18.0->google-api-core<2dev,>=1.21.0->google-api-python-client>=1.2->PyDrive) (1.24.3)\n",
            "Requirement already satisfied: idna<3,>=2.5 in /usr/local/lib/python3.7/dist-packages (from requests<3.0.0dev,>=2.18.0->google-api-core<2dev,>=1.21.0->google-api-python-client>=1.2->PyDrive) (2.10)\n"
          ]
        }
      ]
    },
    {
      "cell_type": "markdown",
      "metadata": {
        "id": "ZH-gurwVPNQj"
      },
      "source": [
        "Importando as bibliotecas de manipulação de dos arquivos pydrive<br>.\n",
        "https://gsuitedevs.github.io/PyDrive/docs/build/html/index.html#"
      ]
    },
    {
      "cell_type": "code",
      "metadata": {
        "colab": {
          "base_uri": "https://localhost:8080/"
        },
        "id": "gEYh-xl5E9VY",
        "outputId": "f2a6fa66-2047-43d0-b948-bf526feeb737"
      },
      "source": [
        "from pydrive.auth import GoogleAuth\n",
        "from pydrive.drive import GoogleDrive\n",
        "from oauth2client.client import GoogleCredentials\n",
        "\n",
        "# Se estiver executando no Google Colaboratory\n",
        "import sys\n",
        "# Retorna true ou false se estiver no Google Colaboratory\n",
        "IN_COLAB = 'google.colab' in sys.modules\n",
        "if IN_COLAB:\n",
        "  # Biblioteca para autenticar o usuário somente no Google Colaboratory\n",
        "  from google.colab import auth\n",
        "\n",
        "print('Import realizado!')"
      ],
      "execution_count": 19,
      "outputs": [
        {
          "output_type": "stream",
          "name": "stdout",
          "text": [
            "Import realizado!\n"
          ]
        }
      ]
    },
    {
      "cell_type": "markdown",
      "metadata": {
        "id": "MiQqJQcbPEE8"
      },
      "source": [
        "Autenticando o usuário"
      ]
    },
    {
      "cell_type": "code",
      "metadata": {
        "id": "AkHNHYBBExy7"
      },
      "source": [
        "# Se estiver executando no Google Colaboratory\n",
        "if IN_COLAB:\n",
        "   auth.authenticate_user()\n",
        "   gauth = GoogleAuth()\n",
        "   gauth.credentials = GoogleCredentials.get_application_default()\n",
        "   drive = GoogleDrive(gauth)"
      ],
      "execution_count": 20,
      "outputs": []
    },
    {
      "cell_type": "markdown",
      "metadata": {
        "id": "rcsTLhGjPfVi"
      },
      "source": [
        "Baixa o arquivo do id especificado em um pasta do google drive."
      ]
    },
    {
      "cell_type": "code",
      "metadata": {
        "colab": {
          "base_uri": "https://localhost:8080/"
        },
        "id": "FlaCGYoH47tf",
        "outputId": "be099b0b-9afc-48d4-8306-9139e1ab2174"
      },
      "source": [
        "# Biblioteca para acessar o sistema de arquivos\n",
        "import os\n",
        "\n",
        "# Id do arquivo do Google Drive\n",
        "# Downloaded = drive.CreateFile({'id':'0B7XkCwpI5KDYNlNUTTlSS21pQmM'})\n",
        "\n",
        "# Download do arquivo para a pasta e arquivos especificados\n",
        "# Downloaded.GetContentFile('GoogleNews-vectors-negative300.bin.gz')\n",
        "\n",
        "# Verifica se o arquivo do modelo existe\n",
        "if not os.path.exists('GoogleNews-vectors-negative300.bin.gz'):  \n",
        "    # Se estiver executando no Google Colaboratory\n",
        "    if IN_COLAB:\n",
        "        # Realiza o download do arquivo\n",
        "        downloaded = drive.CreateFile({'id':'0B7XkCwpI5KDYNlNUTTlSS21pQmM'})\n",
        "\n",
        "        # Salva o arquivo no diretório 'content' do colab\n",
        "        downloaded.GetContentFile('GoogleNews-vectors-negative300.bin.gz')\n",
        "\n",
        "        print(\"Arquivo {} baixado\".format('GoogleNews-vectors-negative300.bin.gz'))\n",
        "else:\n",
        "    print(\"Arquivo {} já existe\".format('GoogleNews-vectors-negative300.bin.gz'))"
      ],
      "execution_count": 21,
      "outputs": [
        {
          "output_type": "stream",
          "name": "stdout",
          "text": [
            "Arquivo GoogleNews-vectors-negative300.bin.gz baixado\n"
          ]
        }
      ]
    },
    {
      "cell_type": "markdown",
      "metadata": {
        "id": "YP5N6uu5N3Iu"
      },
      "source": [
        "Mostra o diretório corrente."
      ]
    },
    {
      "cell_type": "code",
      "metadata": {
        "colab": {
          "base_uri": "https://localhost:8080/"
        },
        "id": "gMVO2c6WN5yX",
        "outputId": "8e70b924-313e-4624-bf14-976f40d99d95"
      },
      "source": [
        "!pwd"
      ],
      "execution_count": 22,
      "outputs": [
        {
          "output_type": "stream",
          "name": "stdout",
          "text": [
            "/content\n"
          ]
        }
      ]
    },
    {
      "cell_type": "markdown",
      "metadata": {
        "id": "9U3Zr4S6NxYu"
      },
      "source": [
        "Lista os arquivos do diretório corrente."
      ]
    },
    {
      "cell_type": "code",
      "metadata": {
        "colab": {
          "base_uri": "https://localhost:8080/"
        },
        "id": "XsB-XFSyNzqT",
        "outputId": "f4055373-e3c0-423c-f6da-b501878c6af1"
      },
      "source": [
        "!ls -la"
      ],
      "execution_count": 23,
      "outputs": [
        {
          "output_type": "stream",
          "name": "stdout",
          "text": [
            "total 1658344\n",
            "drwxr-xr-x 1 root root       4096 Oct 19 12:01 .\n",
            "drwxr-xr-x 1 root root       4096 Oct 19 11:45 ..\n",
            "-rw-r--r-- 1 root root        720 Oct 19 12:01 adc.json\n",
            "drwxr-xr-x 4 root root       4096 Dec 14  2018 cola_public_1.0\n",
            "-rw-r--r-- 1 root root     260499 Oct 19 11:46 cola_public_1.1.zip\n",
            "drwxr-xr-x 1 root root       4096 Oct 19 12:01 .config\n",
            "drwxr-xr-x 2 root root       4096 Oct 19 11:46 diretorio_exemplo\n",
            "-rw-r--r-- 1 root root 1647046227 Oct 19 12:01 GoogleNews-vectors-negative300.bin.gz\n",
            "-rw-r--r-- 1 root root   50783959 Dec 16  2020 imdb-reviews-pt-br1.zip\n",
            "-rw-r--r-- 1 root root       3291 Oct 19 11:46 imdb-reviews-pt-br.zip\n",
            "drwxrwxr-x 3 root root       4096 Dec 14  2018 __MACOSX\n",
            "drwxr-xr-x 1 root root       4096 Oct  8 13:45 sample_data\n"
          ]
        }
      ]
    },
    {
      "cell_type": "markdown",
      "metadata": {
        "id": "415S_PMdYNHo"
      },
      "source": [
        "### Montando uma pasta no GoogleDrive para o Colaboratory"
      ]
    },
    {
      "cell_type": "markdown",
      "metadata": {
        "id": "geucmbQyP54y"
      },
      "source": [
        "Montando uma pasta para um projeto do Google Colaboratory a partir do Google Drive.\n",
        "\n",
        "Para montar a pasta foi utilizada as próprias as ferramentas do Google Colaboratory, que exige a autenticação do usuário em uma outra janela do navegador.<br>\n",
        "\n",
        "O usuário precisar conceder  permissão para o **Google Drive File Stream** acessar o seu Google Drive.\n",
        "\n",
        "Copie o código de autorização da URL apresentada e copie e cole na caixa do código de autorização.\n",
        "\n",
        "https://colab.research.google.com/notebooks/io.ipynb#scrollTo=c2W5A2px3doP\n",
        "\n",
        "**Necessário setar variável IN_COLAB.**"
      ]
    },
    {
      "cell_type": "code",
      "metadata": {
        "colab": {
          "base_uri": "https://localhost:8080/"
        },
        "id": "pcATNcDbQfy1",
        "outputId": "1d3f396a-b6f1-40d0-ae8c-60b6b9c34356"
      },
      "source": [
        "# Se estiver executando no Google Colaboratory\n",
        "if IN_COLAB:\n",
        "    # Import necessário\n",
        "    from google.colab import drive\n",
        "\n",
        "    # Monta o drive na pasta especificada\n",
        "    drive.mount('/content/drive')"
      ],
      "execution_count": 24,
      "outputs": [
        {
          "output_type": "stream",
          "name": "stdout",
          "text": [
            "Mounted at /content/drive\n"
          ]
        }
      ]
    },
    {
      "cell_type": "markdown",
      "metadata": {
        "id": "ExYVdtqwN8jo"
      },
      "source": [
        "Mostra o diretório corrente."
      ]
    },
    {
      "cell_type": "code",
      "metadata": {
        "colab": {
          "base_uri": "https://localhost:8080/"
        },
        "id": "P7t2PnJUN-GI",
        "outputId": "8f74a425-a58a-413c-c1dc-cc198565d3f1"
      },
      "source": [
        "!pwd"
      ],
      "execution_count": 25,
      "outputs": [
        {
          "output_type": "stream",
          "name": "stdout",
          "text": [
            "/content\n"
          ]
        }
      ]
    },
    {
      "cell_type": "markdown",
      "metadata": {
        "id": "f5pNKqq9OFBp"
      },
      "source": [
        "Lista os arquivos do diretório corrente."
      ]
    },
    {
      "cell_type": "code",
      "metadata": {
        "colab": {
          "base_uri": "https://localhost:8080/"
        },
        "id": "JhHRbB3VHq87",
        "outputId": "c1cc0d4d-b141-40f9-acc5-61405b696284"
      },
      "source": [
        "!ls -la"
      ],
      "execution_count": 26,
      "outputs": [
        {
          "output_type": "stream",
          "name": "stdout",
          "text": [
            "total 1658348\n",
            "drwxr-xr-x 1 root root       4096 Oct 19 12:02 .\n",
            "drwxr-xr-x 1 root root       4096 Oct 19 11:45 ..\n",
            "-rw-r--r-- 1 root root        720 Oct 19 12:01 adc.json\n",
            "drwxr-xr-x 4 root root       4096 Dec 14  2018 cola_public_1.0\n",
            "-rw-r--r-- 1 root root     260499 Oct 19 11:46 cola_public_1.1.zip\n",
            "drwxr-xr-x 1 root root       4096 Oct 19 12:01 .config\n",
            "drwxr-xr-x 2 root root       4096 Oct 19 11:46 diretorio_exemplo\n",
            "drwx------ 5 root root       4096 Oct 19 12:02 drive\n",
            "-rw-r--r-- 1 root root 1647046227 Oct 19 12:01 GoogleNews-vectors-negative300.bin.gz\n",
            "-rw-r--r-- 1 root root   50783959 Dec 16  2020 imdb-reviews-pt-br1.zip\n",
            "-rw-r--r-- 1 root root       3291 Oct 19 11:46 imdb-reviews-pt-br.zip\n",
            "drwxrwxr-x 3 root root       4096 Dec 14  2018 __MACOSX\n",
            "drwxr-xr-x 1 root root       4096 Oct  8 13:45 sample_data\n"
          ]
        }
      ]
    },
    {
      "cell_type": "markdown",
      "metadata": {
        "id": "ldOuGR5P5zHU"
      },
      "source": [
        "# Arquivos Padrão\n",
        "\n",
        "Os arquivos podem ser abertos de duas maneiras: para  leitura ('r') ou para escrita ('w').\n",
        "\n",
        "https://aprendacompy.readthedocs.io/pt/latest/capitulo_11.html\n",
        "\n",
        "https://cadernoscicomp.com.br/tutorial/introducao-a-programacao-em-python-3/manipulando-arquivos/"
      ]
    },
    {
      "cell_type": "markdown",
      "metadata": {
        "id": "12z97N5Z60qH"
      },
      "source": [
        "## Criando e abrindo para escrita\n",
        "\n",
        "O argumento do método write tem que ser uma string com o nome do arquivo e o modo de abertura.\n",
        "\n",
        "Modos de abertura:\n",
        "* leitura ('r')\n",
        "* escrita ('w')\n",
        "* append ('a')\n",
        "\n",
        "Tipo do arquivo:\n",
        "* Modo binário ('b')\n",
        "* Modo misto com '+'\n",
        "(leitura e escrita)\n",
        "\n",
        "**O 'w' abre um arquivo para escrita, mas apaga o conteúdo se arquivo já existir.**"
      ]
    },
    {
      "cell_type": "code",
      "metadata": {
        "id": "-OYxiYb351b_"
      },
      "source": [
        "# Cria e abre o arquivo \"arquivo.txt\" para escrita\n",
        "arquivo = open('arquivo.txt', 'w')\n",
        "\n",
        "# Escreve no arquivo\n",
        "linha = \"linha\" + str(1) + \" linha\" + str(2) + \"\\n\"\n",
        "arquivo.write(linha)\n",
        "\n",
        "linha = \"linha\" + str(3) + \" linha\" + str(4) + \"\\n\"\n",
        "arquivo.write(linha)\n",
        "\n",
        "# Fecha o arquivo\n",
        "arquivo.close()"
      ],
      "execution_count": 27,
      "outputs": []
    },
    {
      "cell_type": "markdown",
      "metadata": {
        "id": "YlO1v2nnCe2J"
      },
      "source": [
        "Criando e abrindo o arquivo para a escrita"
      ]
    },
    {
      "cell_type": "code",
      "metadata": {
        "id": "WHhC4GOUChKi"
      },
      "source": [
        "\n",
        "# Cria e abre o arquivo \"arquivo.txt\" para escrita\n",
        "arquivo = open('arquivo.txt', 'w')\n",
        "\n",
        "# Escreve no arquivo\n",
        "arquivo.writelines(\"linha1 linha2\\n\")\n",
        "arquivo.writelines(\"linha3 linha4\")\n",
        "\n",
        "# Fecha o arquivo\n",
        "arquivo.close()"
      ],
      "execution_count": 28,
      "outputs": []
    },
    {
      "cell_type": "markdown",
      "metadata": {
        "id": "OaCzgOUz7PsM"
      },
      "source": [
        "## Abrindo para leitura\n",
        "\n",
        "Se não especificarmos o  parâmetro '\\r', a forma padrão leitura será utilizada."
      ]
    },
    {
      "cell_type": "code",
      "metadata": {
        "colab": {
          "base_uri": "https://localhost:8080/"
        },
        "id": "PuwimZRN9nNA",
        "outputId": "63d98aea-5fa1-49a4-9fdc-c208f74eadca"
      },
      "source": [
        "# Abre o arquivo \"arquivo.txt\" para leitura\n",
        "arquivo = open('arquivo.txt', 'r')\n",
        "\n",
        "# Lê a primeira linha\n",
        "print(arquivo.read())\n",
        "\n",
        "# Lê a segunda linha\n",
        "print(arquivo.read())\n",
        "\n",
        "# Fecha o arquivo\n",
        "arquivo.close()"
      ],
      "execution_count": 29,
      "outputs": [
        {
          "output_type": "stream",
          "name": "stdout",
          "text": [
            "linha1 linha2\n",
            "linha3 linha4\n",
            "\n"
          ]
        }
      ]
    },
    {
      "cell_type": "markdown",
      "metadata": {
        "id": "2h5O1RwV-M2R"
      },
      "source": [
        "## Leitura de linha a linha\n",
        "\n",
        "O método readline lê todos os caracteres e inclui o próximo caractere de nova linha(\\n)."
      ]
    },
    {
      "cell_type": "code",
      "metadata": {
        "colab": {
          "base_uri": "https://localhost:8080/"
        },
        "id": "7t_J0wbA9V2Y",
        "outputId": "fbebf897-c37d-43a0-d24d-be87722db355"
      },
      "source": [
        "# Abre o arquivo \"arquivo.txt\" para leitura\n",
        "arquivo = open('arquivo.txt', 'r')\n",
        "\n",
        "# Lê a primeira linha\n",
        "print(arquivo.readline())\n",
        "\n",
        "# Lê a segunda linha\n",
        "print(arquivo.readline())\n",
        "\n",
        "# Fecha o arquivo\n",
        "arquivo.close()"
      ],
      "execution_count": 30,
      "outputs": [
        {
          "output_type": "stream",
          "name": "stdout",
          "text": [
            "linha1 linha2\n",
            "\n",
            "linha3 linha4\n"
          ]
        }
      ]
    },
    {
      "cell_type": "markdown",
      "metadata": {
        "id": "0-bADk209ytu"
      },
      "source": [
        "## Lendo todas as linhas\n",
        "\n",
        "O método readlines retorna todas as linhas restantes como uma lista de strings."
      ]
    },
    {
      "cell_type": "code",
      "metadata": {
        "colab": {
          "base_uri": "https://localhost:8080/"
        },
        "id": "RTVeu3qm91ZP",
        "outputId": "bfc63640-a9ac-48c4-89b4-1f10d90e16d3"
      },
      "source": [
        "# Abre o arquivo \"arquivo.txt\" para leitura\n",
        "arquivo = open('arquivo.txt', 'r')\n",
        "\n",
        "# Lê todas as linhas\n",
        "print(arquivo.readlines())\n",
        "\n",
        "# Fecha o arquivo\n",
        "arquivo.close()"
      ],
      "execution_count": 31,
      "outputs": [
        {
          "output_type": "stream",
          "name": "stdout",
          "text": [
            "['linha1 linha2\\n', 'linha3 linha4']\n"
          ]
        }
      ]
    },
    {
      "cell_type": "markdown",
      "metadata": {
        "id": "aHOGcu8d9WNM"
      },
      "source": [
        "##Adicinando linhas\n",
        "\n",
        "Lendo todas as linhas e adicionando conteúdo"
      ]
    },
    {
      "cell_type": "code",
      "metadata": {
        "colab": {
          "base_uri": "https://localhost:8080/"
        },
        "id": "_2Cb6STC-nS0",
        "outputId": "78bb631f-7e35-4d62-fefc-234c9c94a8ff"
      },
      "source": [
        "# Abre o arquivo \"arquivo.txt\" para leitura\n",
        "arquivo = open('arquivo.txt', 'r')\n",
        "\n",
        "#lê todas as linhas\n",
        "conteudo = arquivo.readlines()\n",
        "\n",
        "#adiciona o conteúdo\n",
        "#o método append() é proveniente de uma lista\n",
        "conteudo.append(\"\\nlinha5 linha6\")\n",
        "\n",
        "# Fecha o arquivo\n",
        "arquivo.close()\n",
        "\n",
        "#======abre para escrever no arquivo\n",
        "# Abre novamente o arquivo para escrita.\n",
        "arquivo = open('arquivo.txt', 'w')\n",
        "arquivo.writelines(conteudo)\n",
        "\n",
        "# Fecha o arquivo\n",
        "arquivo.close()\n",
        "\n",
        "# ======leitura do arquivo depois da adição\n",
        "# Abre o arquivo \"arquivo.txt\" para leitura\n",
        "arquivo = open('arquivo.txt', 'r')\n",
        "\n",
        "# Lê as linhas\n",
        "print(arquivo.readlines())\n",
        "\n",
        "# Fecha o arquivo\n",
        "arquivo.close()"
      ],
      "execution_count": 32,
      "outputs": [
        {
          "output_type": "stream",
          "name": "stdout",
          "text": [
            "['linha1 linha2\\n', 'linha3 linha4\\n', 'linha5 linha6']\n"
          ]
        }
      ]
    },
    {
      "cell_type": "markdown",
      "metadata": {
        "id": "VP7PqSSa_pDU"
      },
      "source": [
        "## Percorrendo o arquivo com for\n",
        "\n",
        "Sempre tem que lembrar de chamar a função close() "
      ]
    },
    {
      "cell_type": "code",
      "metadata": {
        "colab": {
          "base_uri": "https://localhost:8080/"
        },
        "id": "X9Hg6WlS_9UE",
        "outputId": "f68eb93c-d507-4f0f-c70b-9539fea62011"
      },
      "source": [
        "# Abre o arquivo \"arquivo.txt\" para leitura\n",
        "arquivo = open('arquivo.txt', 'r')\n",
        "\n",
        "# Percorre o arquivo\n",
        "for linha in arquivo:\n",
        "    # .strip() remove o \\n do final da linha)\n",
        "    print(linha.strip())\n",
        "\n",
        "# Fecha o arquivo\n",
        "arquivo.close()"
      ],
      "execution_count": 33,
      "outputs": [
        {
          "output_type": "stream",
          "name": "stdout",
          "text": [
            "linha1 linha2\n",
            "linha3 linha4\n",
            "linha5 linha6\n"
          ]
        }
      ]
    },
    {
      "cell_type": "markdown",
      "metadata": {
        "id": "OOM0yK_iADg8"
      },
      "source": [
        "## Percorrendo o arquivo com with\n",
        "\n",
        "**with** cria um contexto que garante que todos os recursos que estão sendo usados no contexto sejam fechados quando ele termina. Reduz o código deixando mais limpo."
      ]
    },
    {
      "cell_type": "code",
      "metadata": {
        "colab": {
          "base_uri": "https://localhost:8080/"
        },
        "id": "L7l0o0vU7P7l",
        "outputId": "9269785f-8a74-493b-e149-c4727b3ba36f"
      },
      "source": [
        "# Abre o arquivo \"arquivo.txt\" para leitura\n",
        "with open('arquivo.txt', 'r') as arquivo:\n",
        "    print(arquivo.read())"
      ],
      "execution_count": 34,
      "outputs": [
        {
          "output_type": "stream",
          "name": "stdout",
          "text": [
            "linha1 linha2\n",
            "linha3 linha4\n",
            "linha5 linha6\n"
          ]
        }
      ]
    }
  ]
}