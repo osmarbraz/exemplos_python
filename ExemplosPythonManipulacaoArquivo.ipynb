{
  "nbformat": 4,
  "nbformat_minor": 0,
  "metadata": {
    "colab": {
      "name": "ExemplosPythonManipulacaoArquivo.ipynb",
      "provenance": [],
      "collapsed_sections": [],
      "toc_visible": true,
      "include_colab_link": true
    },
    "kernelspec": {
      "display_name": "Python 3",
      "name": "python3"
    }
  },
  "cells": [
    {
      "cell_type": "markdown",
      "metadata": {
        "id": "view-in-github",
        "colab_type": "text"
      },
      "source": [
        "<a href=\"https://colab.research.google.com/github/osmarbraz/exemplos_python/blob/master/ExemplosPythonManipulacaoArquivo.ipynb\" target=\"_parent\"><img src=\"https://colab.research.google.com/assets/colab-badge.svg\" alt=\"Open In Colab\"/></a>"
      ]
    },
    {
      "cell_type": "markdown",
      "metadata": {
        "id": "xY84ChCNzmQQ"
      },
      "source": [
        "# Exemplos de Manipulação de Arquivo em Python no Google Colaboratory\n",
        "\n",
        "-----------------------------------------\n",
        "**Guia Colab Iniciante:**\n",
        "\n",
        "https://medium.com/machina-sapiens/google-colab-guia-do-iniciante-334d70aad531\n",
        "\n",
        "**Documentação oficial:**\n",
        "\n",
        "https://colab.research.google.com/github/jakevdp/PythonDataScienceHandbook/blob/master/notebooks/01.01-Help-And-Documentation.ipynb\n",
        "\n",
        "**Características :**\n",
        "\n",
        "https://colab.research.google.com/notebooks/basic_features_overview.ipynb"
      ]
    },
    {
      "cell_type": "markdown",
      "metadata": {
        "id": "Vx3NYTcwtaCd"
      },
      "source": [
        "# Sistema de Arquivos\n",
        "Exemplos https://colab.research.google.com/notebooks/io.ipynb<br>\n",
        "https://colab.research.google.com/github/jakevdp/PythonDataScienceHandbook/blob/master/notebooks/01.05-IPython-And-Shell-Commands.ipynb"
      ]
    },
    {
      "cell_type": "markdown",
      "metadata": {
        "id": "aRHsLgt2tk_c"
      },
      "source": [
        "## Diretórios"
      ]
    },
    {
      "cell_type": "markdown",
      "metadata": {
        "id": "yBFd9llAuuoK"
      },
      "source": [
        "Lista o conteúdo do diretório corrente."
      ]
    },
    {
      "cell_type": "code",
      "metadata": {
        "colab": {
          "base_uri": "https://localhost:8080/"
        },
        "id": "cVoju6o7tobP",
        "outputId": "ab975961-61f1-4f7b-9766-5c4acab179b9"
      },
      "source": [
        "!ls ."
      ],
      "execution_count": 1,
      "outputs": [
        {
          "output_type": "stream",
          "text": [
            "sample_data\n"
          ],
          "name": "stdout"
        }
      ]
    },
    {
      "cell_type": "markdown",
      "metadata": {
        "id": "C3__Ec0Du1uG"
      },
      "source": [
        "Mostrando o diretório corrente"
      ]
    },
    {
      "cell_type": "code",
      "metadata": {
        "colab": {
          "base_uri": "https://localhost:8080/"
        },
        "id": "faijPbGbu4of",
        "outputId": "6c4d7f30-9fc6-446b-c211-d7ef2b1f79c5"
      },
      "source": [
        "!pwd"
      ],
      "execution_count": 2,
      "outputs": [
        {
          "output_type": "stream",
          "text": [
            "/content\n"
          ],
          "name": "stdout"
        }
      ]
    },
    {
      "cell_type": "markdown",
      "metadata": {
        "id": "KvrM9PJi42Yf"
      },
      "source": [
        "## Arquivos"
      ]
    },
    {
      "cell_type": "markdown",
      "metadata": {
        "id": "o3OfJ3xCPBBG"
      },
      "source": [
        "Lista os arquivos e pastas do diretório corrente."
      ]
    },
    {
      "cell_type": "code",
      "metadata": {
        "colab": {
          "base_uri": "https://localhost:8080/"
        },
        "id": "ih_CaIpWEkii",
        "outputId": "65293cbe-a56c-43ac-9b81-1ec90bf410d8"
      },
      "source": [
        "!ls -la"
      ],
      "execution_count": 3,
      "outputs": [
        {
          "output_type": "stream",
          "text": [
            "total 16\n",
            "drwxr-xr-x 1 root root 4096 May  6 13:44 .\n",
            "drwxr-xr-x 1 root root 4096 May 14 11:28 ..\n",
            "drwxr-xr-x 4 root root 4096 May  6 13:43 .config\n",
            "drwxr-xr-x 1 root root 4096 May  6 13:44 sample_data\n"
          ],
          "name": "stdout"
        }
      ]
    },
    {
      "cell_type": "markdown",
      "metadata": {
        "id": "AsJ0yS-JPpEG"
      },
      "source": [
        "Lista os arquivos e pastas do diretório corrente incluindo os ocultos."
      ]
    },
    {
      "cell_type": "code",
      "metadata": {
        "colab": {
          "base_uri": "https://localhost:8080/"
        },
        "id": "6MLYidtJF3Y1",
        "outputId": "72eca7ab-6745-4be0-f08e-b13c109a469f"
      },
      "source": [
        "!ls -lh"
      ],
      "execution_count": 4,
      "outputs": [
        {
          "output_type": "stream",
          "text": [
            "total 4.0K\n",
            "drwxr-xr-x 1 root root 4.0K May  6 13:44 sample_data\n"
          ],
          "name": "stdout"
        }
      ]
    },
    {
      "cell_type": "markdown",
      "metadata": {
        "id": "asNVk0KmYXon"
      },
      "source": [
        "## Verificando se um diretório existe"
      ]
    },
    {
      "cell_type": "markdown",
      "metadata": {
        "id": "tLB8G6XMXlWn"
      },
      "source": [
        "Cria um diretório caso ele não exista."
      ]
    },
    {
      "cell_type": "code",
      "metadata": {
        "colab": {
          "base_uri": "https://localhost:8080/"
        },
        "id": "LzlsgPI-XkdL",
        "outputId": "e803d8d8-3ea2-44e1-df14-63428635a0dc"
      },
      "source": [
        "# Biblioteca para acessar o sistema de arquivos\n",
        "import os\n",
        "\n",
        "# Diretório a ser criado\n",
        "dir = 'diretorio_exemplo'\n",
        "\n",
        "# Verifica se o diretório existe\n",
        "if not os.path.exists(dir):  \n",
        "    # Cria o diretório\n",
        "    os.makedirs(dir)    \n",
        "    print('Diretório criado: {}'.format(dir))\n",
        "else:    \n",
        "    print('Diretório já existe: {}'.format(dir))"
      ],
      "execution_count": 5,
      "outputs": [
        {
          "output_type": "stream",
          "text": [
            "Diretório criado: diretorio_exemplo\n"
          ],
          "name": "stdout"
        }
      ]
    },
    {
      "cell_type": "markdown",
      "metadata": {
        "id": "lr6CZ_Vce_O1"
      },
      "source": [
        "## Verificando se um arquivo existe"
      ]
    },
    {
      "cell_type": "code",
      "metadata": {
        "colab": {
          "base_uri": "https://localhost:8080/"
        },
        "id": "g_2RX0F9fHDu",
        "outputId": "38d62be8-54cc-4cb2-8c24-93fc74a6fa38"
      },
      "source": [
        "# Biblioteca para acessar o sistema de arquivos\n",
        "import os\n",
        "\n",
        "# Nome do arquivo\n",
        "arquivo = 'teste.txt'\n",
        "\n",
        "# Verifica se o arquivo existe\n",
        "if not os.path.exists(arquivo):  \n",
        "    print('Arquivo não existe: {}'.format(arquivo))\n",
        "else:\n",
        "    print('Arquivo já existe: {}'.format(arquivo))"
      ],
      "execution_count": 6,
      "outputs": [
        {
          "output_type": "stream",
          "text": [
            "Arquivo não existe: teste.txt\n"
          ],
          "name": "stdout"
        }
      ]
    },
    {
      "cell_type": "markdown",
      "metadata": {
        "id": "Q7ga4y51FHZ8"
      },
      "source": [
        "## Download\n",
        "\n",
        "https://medium.com/@araujo.dionata/google-colab-importando-arquivos-direto-do-google-drive-5c0fc2798480"
      ]
    },
    {
      "cell_type": "markdown",
      "metadata": {
        "id": "OVQywZLUcNeD"
      },
      "source": [
        "### Download de Arquivo com WGET via SO"
      ]
    },
    {
      "cell_type": "markdown",
      "metadata": {
        "id": "rS5N8tCJcSNm"
      },
      "source": [
        "Usa os comandos do SO para realizar o download de um arquivo.\n",
        "\n",
        "Use o parâmetro '-O' para especificar o nome de arquivo a ser salvo.\n",
        "\n",
        "```\n",
        "!wget -O nomearquivodestino url\n",
        "```\n"
      ]
    },
    {
      "cell_type": "code",
      "metadata": {
        "colab": {
          "base_uri": "https://localhost:8080/"
        },
        "id": "BnJfsDjKcVSF",
        "outputId": "54d23f4b-352f-4b5d-b0f1-011625442ccc"
      },
      "source": [
        "# Apaga o arquivo 'cola_public_1.0.zip'\n",
        "!rm cola_public_1.0.zip\n",
        "\n",
        "# Realiza o download do arquivo 'cola_public_1.0.zip' da url especificada\n",
        "!wget https://nyu-mll.github.io/CoLA/cola_public_1.0.zip\n",
        "\n",
        "# Lista o diretório corrente e os arquivos.\n",
        "!pwd\n",
        "!ls -la"
      ],
      "execution_count": 7,
      "outputs": [
        {
          "output_type": "stream",
          "text": [
            "rm: cannot remove 'cola_public_1.0.zip': No such file or directory\n",
            "--2021-05-14 11:29:05--  https://nyu-mll.github.io/CoLA/cola_public_1.0.zip\n",
            "Resolving nyu-mll.github.io (nyu-mll.github.io)... 185.199.108.153, 185.199.109.153, 185.199.110.153, ...\n",
            "Connecting to nyu-mll.github.io (nyu-mll.github.io)|185.199.108.153|:443... connected.\n",
            "HTTP request sent, awaiting response... 200 OK\n",
            "Length: 260499 (254K) [application/zip]\n",
            "Saving to: ‘cola_public_1.0.zip’\n",
            "\n",
            "cola_public_1.0.zip 100%[===================>] 254.39K  --.-KB/s    in 0.06s   \n",
            "\n",
            "2021-05-14 11:29:05 (4.48 MB/s) - ‘cola_public_1.0.zip’ saved [260499/260499]\n",
            "\n",
            "/content\n",
            "total 276\n",
            "drwxr-xr-x 1 root root   4096 May 14 11:29 .\n",
            "drwxr-xr-x 1 root root   4096 May 14 11:28 ..\n",
            "-rw-r--r-- 1 root root 260499 Sep 17  2019 cola_public_1.0.zip\n",
            "drwxr-xr-x 4 root root   4096 May  6 13:43 .config\n",
            "drwxr-xr-x 2 root root   4096 May 14 11:29 diretorio_exemplo\n",
            "drwxr-xr-x 1 root root   4096 May  6 13:44 sample_data\n"
          ],
          "name": "stdout"
        }
      ]
    },
    {
      "cell_type": "markdown",
      "metadata": {
        "id": "qqoFoPhiCyvg"
      },
      "source": [
        "### Download de Arquivo com WGET biblioteca"
      ]
    },
    {
      "cell_type": "markdown",
      "metadata": {
        "id": "Qv-UoMtkC4Lp"
      },
      "source": [
        "Usa a biblioteca  para realizar o download de um arquivo."
      ]
    },
    {
      "cell_type": "code",
      "metadata": {
        "colab": {
          "base_uri": "https://localhost:8080/"
        },
        "id": "4y76utNHC8_o",
        "outputId": "1ac41f7b-203e-48e4-8535-63ad6d1e20a6"
      },
      "source": [
        "!pip install wget"
      ],
      "execution_count": 8,
      "outputs": [
        {
          "output_type": "stream",
          "text": [
            "Collecting wget\n",
            "  Downloading https://files.pythonhosted.org/packages/47/6a/62e288da7bcda82b935ff0c6cfe542970f04e29c756b0e147251b2fb251f/wget-3.2.zip\n",
            "Building wheels for collected packages: wget\n",
            "  Building wheel for wget (setup.py) ... \u001b[?25l\u001b[?25hdone\n",
            "  Created wheel for wget: filename=wget-3.2-cp37-none-any.whl size=9681 sha256=ed48658881c20f846aa45873a5ac41177444025e76b71fdcade2ea52a8f5bd6f\n",
            "  Stored in directory: /root/.cache/pip/wheels/40/15/30/7d8f7cea2902b4db79e3fea550d7d7b85ecb27ef992b618f3f\n",
            "Successfully built wget\n",
            "Installing collected packages: wget\n",
            "Successfully installed wget-3.2\n"
          ],
          "name": "stdout"
        }
      ]
    },
    {
      "cell_type": "code",
      "metadata": {
        "colab": {
          "base_uri": "https://localhost:8080/"
        },
        "id": "T5d6WeQTC9d3",
        "outputId": "651bbdeb-d03f-4946-84e4-3ce474022a1e"
      },
      "source": [
        "# Import das bibliotecas\n",
        "import wget\n",
        "import os\n",
        "\n",
        "# Apaga o arquivo 'cola_public_1.0.zip'\n",
        "!rm cola_public_1.0.zip\n",
        "\n",
        "# url para o arquivo a ser feito o download\n",
        "url = 'https://nyu-mll.github.io/CoLA/cola_public_1.0.zip'\n",
        "\n",
        "# Realiza o download do arquivo 'cola_public_1.0.zip' da url especificada\n",
        "wget.download(url, './cola_public_1.1.zip')\n",
        "\n",
        "# Lista o diretório corrente e os arquivos.\n",
        "!pwd\n",
        "!ls -la"
      ],
      "execution_count": 9,
      "outputs": [
        {
          "output_type": "stream",
          "text": [
            "/content\n",
            "total 276\n",
            "drwxr-xr-x 1 root root   4096 May 14 11:29 .\n",
            "drwxr-xr-x 1 root root   4096 May 14 11:28 ..\n",
            "-rw-r--r-- 1 root root 260499 May 14 11:29 cola_public_1.1.zip\n",
            "drwxr-xr-x 4 root root   4096 May  6 13:43 .config\n",
            "drwxr-xr-x 2 root root   4096 May 14 11:29 diretorio_exemplo\n",
            "drwxr-xr-x 1 root root   4096 May  6 13:44 sample_data\n"
          ],
          "name": "stdout"
        }
      ]
    },
    {
      "cell_type": "markdown",
      "metadata": {
        "id": "5vWCAuljnYFO"
      },
      "source": [
        "### Download de Arquivo grande com WGET do GoogleDrive via SO\n",
        "\n",
        "https://gist.github.com/iamtekeste/3cdfd0366ebfd2c0d805"
      ]
    },
    {
      "cell_type": "code",
      "metadata": {
        "colab": {
          "base_uri": "https://localhost:8080/"
        },
        "id": "IMRv_RkdnY_L",
        "outputId": "085f93f3-2ebf-4ff3-e96b-9c7d1c877003"
      },
      "source": [
        "# Nome do arquivo a ser criado\n",
        "NOME_ARQUIVO = 'imdb-reviews-pt-br.zip'\n",
        "\n",
        "# Realiza o download do arquivo\n",
        "!wget --load-cookies /tmp/cookies.txt \"https://docs.google.com/uc?export=download&confirm=$(wget --quiet --save-cookies /tmp/cookies.txt --keep-session-cookies --no-check-certificate 'https://docs.google.com/uc?export=download&id=1LFtccnbqO2igtWRNaHXnpiu5_wFG0xVK' -O- | sed -rn 's/.*confirm=([0-9A-Za-z_]+).*/\\1\\n/p')&id=1LFtccnbqO2igtWRNaHXnpiu5_wFG0xVK\" -O '$NOME_ARQUIVO' && rm -rf /tmp/cookies.txt"
      ],
      "execution_count": 10,
      "outputs": [
        {
          "output_type": "stream",
          "text": [
            "--2021-05-14 11:29:12--  https://docs.google.com/uc?export=download&confirm=8cWz&id=1LFtccnbqO2igtWRNaHXnpiu5_wFG0xVK\n",
            "Resolving docs.google.com (docs.google.com)... 173.194.216.101, 173.194.216.139, 173.194.216.100, ...\n",
            "Connecting to docs.google.com (docs.google.com)|173.194.216.101|:443... connected.\n",
            "HTTP request sent, awaiting response... 302 Moved Temporarily\n",
            "Location: https://doc-00-9o-docs.googleusercontent.com/docs/securesc/vnaibl4v183o87gn96mefoi8r5aqbim7/m3084dbggihe1kinfgttcjkjb5qq1um1/1620991725000/03010865824982624199/08076986606870713613Z/1LFtccnbqO2igtWRNaHXnpiu5_wFG0xVK?e=download [following]\n",
            "--2021-05-14 11:29:12--  https://doc-00-9o-docs.googleusercontent.com/docs/securesc/vnaibl4v183o87gn96mefoi8r5aqbim7/m3084dbggihe1kinfgttcjkjb5qq1um1/1620991725000/03010865824982624199/08076986606870713613Z/1LFtccnbqO2igtWRNaHXnpiu5_wFG0xVK?e=download\n",
            "Resolving doc-00-9o-docs.googleusercontent.com (doc-00-9o-docs.googleusercontent.com)... 173.194.216.132, 2607:f8b0:400c:c12::84\n",
            "Connecting to doc-00-9o-docs.googleusercontent.com (doc-00-9o-docs.googleusercontent.com)|173.194.216.132|:443... connected.\n",
            "HTTP request sent, awaiting response... 302 Found\n",
            "Location: https://docs.google.com/nonceSigner?nonce=a9f6tds4l9i18&continue=https://doc-00-9o-docs.googleusercontent.com/docs/securesc/vnaibl4v183o87gn96mefoi8r5aqbim7/m3084dbggihe1kinfgttcjkjb5qq1um1/1620991725000/03010865824982624199/08076986606870713613Z/1LFtccnbqO2igtWRNaHXnpiu5_wFG0xVK?e%3Ddownload&hash=emgpucbcl9lv6q1mo7nbufpmugr08d4p [following]\n",
            "--2021-05-14 11:29:12--  https://docs.google.com/nonceSigner?nonce=a9f6tds4l9i18&continue=https://doc-00-9o-docs.googleusercontent.com/docs/securesc/vnaibl4v183o87gn96mefoi8r5aqbim7/m3084dbggihe1kinfgttcjkjb5qq1um1/1620991725000/03010865824982624199/08076986606870713613Z/1LFtccnbqO2igtWRNaHXnpiu5_wFG0xVK?e%3Ddownload&hash=emgpucbcl9lv6q1mo7nbufpmugr08d4p\n",
            "Connecting to docs.google.com (docs.google.com)|173.194.216.101|:443... connected.\n",
            "HTTP request sent, awaiting response... 302 Found\n",
            "Location: https://doc-00-9o-docs.googleusercontent.com/docs/securesc/vnaibl4v183o87gn96mefoi8r5aqbim7/m3084dbggihe1kinfgttcjkjb5qq1um1/1620991725000/03010865824982624199/08076986606870713613Z/1LFtccnbqO2igtWRNaHXnpiu5_wFG0xVK?e=download&nonce=a9f6tds4l9i18&user=08076986606870713613Z&hash=rtbh7vdnbgj37qeio5ur9t8d4ifk3tr1 [following]\n",
            "--2021-05-14 11:29:12--  https://doc-00-9o-docs.googleusercontent.com/docs/securesc/vnaibl4v183o87gn96mefoi8r5aqbim7/m3084dbggihe1kinfgttcjkjb5qq1um1/1620991725000/03010865824982624199/08076986606870713613Z/1LFtccnbqO2igtWRNaHXnpiu5_wFG0xVK?e=download&nonce=a9f6tds4l9i18&user=08076986606870713613Z&hash=rtbh7vdnbgj37qeio5ur9t8d4ifk3tr1\n",
            "Connecting to doc-00-9o-docs.googleusercontent.com (doc-00-9o-docs.googleusercontent.com)|173.194.216.132|:443... connected.\n",
            "HTTP request sent, awaiting response... 200 OK\n",
            "Length: unspecified [application/zip]\n",
            "Saving to: ‘imdb-reviews-pt-br.zip’\n",
            "\n",
            "imdb-reviews-pt-br.     [   <=>              ]  48.43M   114MB/s    in 0.4s    \n",
            "\n",
            "2021-05-14 11:29:13 (114 MB/s) - ‘imdb-reviews-pt-br.zip’ saved [50783959]\n",
            "\n"
          ],
          "name": "stdout"
        }
      ]
    },
    {
      "cell_type": "code",
      "metadata": {
        "colab": {
          "base_uri": "https://localhost:8080/"
        },
        "id": "oCk0Y3_lnmkX",
        "outputId": "388d1cf9-a72e-4d19-9493-572235ad59c5"
      },
      "source": [
        "ls -la"
      ],
      "execution_count": 11,
      "outputs": [
        {
          "output_type": "stream",
          "text": [
            "total 49872\n",
            "drwxr-xr-x 1 root root     4096 May 14 11:29 \u001b[0m\u001b[01;34m.\u001b[0m/\n",
            "drwxr-xr-x 1 root root     4096 May 14 11:28 \u001b[01;34m..\u001b[0m/\n",
            "-rw-r--r-- 1 root root   260499 May 14 11:29 cola_public_1.1.zip\n",
            "drwxr-xr-x 4 root root     4096 May  6 13:43 \u001b[01;34m.config\u001b[0m/\n",
            "drwxr-xr-x 2 root root     4096 May 14 11:29 \u001b[01;34mdiretorio_exemplo\u001b[0m/\n",
            "-rw-r--r-- 1 root root 50783959 May 14 11:29 imdb-reviews-pt-br.zip\n",
            "drwxr-xr-x 1 root root     4096 May  6 13:44 \u001b[01;34msample_data\u001b[0m/\n"
          ],
          "name": "stdout"
        }
      ]
    },
    {
      "cell_type": "markdown",
      "metadata": {
        "id": "Ak1stJC3McDu"
      },
      "source": [
        "### Download de Arquivo com WGET do Onedrive via SO\n",
        "\n",
        "Incluir no final da url \"&download=1\""
      ]
    },
    {
      "cell_type": "code",
      "metadata": {
        "colab": {
          "base_uri": "https://localhost:8080/"
        },
        "id": "dznWGlqDMk5-",
        "outputId": "1458868e-d1af-40b9-fd94-eced2e341b3e"
      },
      "source": [
        "# Nome do arquivo a ser criado\n",
        "NOME_ARQUIVO = \"imdb-reviews-pt-br1.zip\"\n",
        "\n",
        "# Realiza o download do arquivo\n",
        "!wget -O '$NOME_ARQUIVO' --no-check-certificate  \"https://udesc-my.sharepoint.com/:u:/g/personal/91269423991_udesc_br/EclmoWeQxzdEkbGYpvnejU8BsUTQcW9a1ch2oqY9dDa4SA?e=1env2u&download=1\""
      ],
      "execution_count": 12,
      "outputs": [
        {
          "output_type": "stream",
          "text": [
            "--2021-05-14 11:29:13--  https://udesc-my.sharepoint.com/:u:/g/personal/91269423991_udesc_br/EclmoWeQxzdEkbGYpvnejU8BsUTQcW9a1ch2oqY9dDa4SA?e=1env2u&download=1\n",
            "Resolving udesc-my.sharepoint.com (udesc-my.sharepoint.com)... 13.107.136.9\n",
            "Connecting to udesc-my.sharepoint.com (udesc-my.sharepoint.com)|13.107.136.9|:443... connected.\n",
            "HTTP request sent, awaiting response... 302 Found\n",
            "Location: /personal/91269423991_udesc_br/Documents/DATAPUBLIC/imdb-reviews-pt-br.zip?originalPath=aHR0cHM6Ly91ZGVzYy1teS5zaGFyZXBvaW50LmNvbS86dTovZy9wZXJzb25hbC85MTI2OTQyMzk5MV91ZGVzY19ici9FY2xtb1dlUXh6ZEVrYkdZcHZuZWpVOEJzVVRRY1c5YTFjaDJvcVk5ZERhNFNBP3J0aW1lPXRkTGNnTXNXMlVn [following]\n",
            "--2021-05-14 11:29:14--  https://udesc-my.sharepoint.com/personal/91269423991_udesc_br/Documents/DATAPUBLIC/imdb-reviews-pt-br.zip?originalPath=aHR0cHM6Ly91ZGVzYy1teS5zaGFyZXBvaW50LmNvbS86dTovZy9wZXJzb25hbC85MTI2OTQyMzk5MV91ZGVzY19ici9FY2xtb1dlUXh6ZEVrYkdZcHZuZWpVOEJzVVRRY1c5YTFjaDJvcVk5ZERhNFNBP3J0aW1lPXRkTGNnTXNXMlVn\n",
            "Reusing existing connection to udesc-my.sharepoint.com:443.\n",
            "HTTP request sent, awaiting response... 200 OK\n",
            "Length: 50783959 (48M) [application/x-zip-compressed]\n",
            "Saving to: ‘imdb-reviews-pt-br1.zip’\n",
            "\n",
            "imdb-reviews-pt-br1 100%[===================>]  48.43M  44.1MB/s    in 1.1s    \n",
            "\n",
            "2021-05-14 11:29:16 (44.1 MB/s) - ‘imdb-reviews-pt-br1.zip’ saved [50783959/50783959]\n",
            "\n"
          ],
          "name": "stdout"
        }
      ]
    },
    {
      "cell_type": "code",
      "metadata": {
        "colab": {
          "base_uri": "https://localhost:8080/"
        },
        "id": "birRrYtHRD3m",
        "outputId": "5d73e3ac-d77e-4de0-d4b0-3866c5eb5b09"
      },
      "source": [
        "ls -la"
      ],
      "execution_count": 13,
      "outputs": [
        {
          "output_type": "stream",
          "text": [
            "total 99468\n",
            "drwxr-xr-x 1 root root     4096 May 14 11:29 \u001b[0m\u001b[01;34m.\u001b[0m/\n",
            "drwxr-xr-x 1 root root     4096 May 14 11:28 \u001b[01;34m..\u001b[0m/\n",
            "-rw-r--r-- 1 root root   260499 May 14 11:29 cola_public_1.1.zip\n",
            "drwxr-xr-x 4 root root     4096 May  6 13:43 \u001b[01;34m.config\u001b[0m/\n",
            "drwxr-xr-x 2 root root     4096 May 14 11:29 \u001b[01;34mdiretorio_exemplo\u001b[0m/\n",
            "-rw-r--r-- 1 root root 50783959 Dec 16 20:37 imdb-reviews-pt-br1.zip\n",
            "-rw-r--r-- 1 root root 50783959 May 14 11:29 imdb-reviews-pt-br.zip\n",
            "drwxr-xr-x 1 root root     4096 May  6 13:44 \u001b[01;34msample_data\u001b[0m/\n"
          ],
          "name": "stdout"
        }
      ]
    },
    {
      "cell_type": "markdown",
      "metadata": {
        "id": "Lzcg-5Ooc1CN"
      },
      "source": [
        "## Descompacta um arquivo usando UNZIP"
      ]
    },
    {
      "cell_type": "markdown",
      "metadata": {
        "id": "MCc4gfYXc9Zc"
      },
      "source": [
        "O parâmetro **-o** é para substituir os arquivos existentes de outra descompactação."
      ]
    },
    {
      "cell_type": "code",
      "metadata": {
        "colab": {
          "base_uri": "https://localhost:8080/"
        },
        "id": "zu6xOIqSc5-z",
        "outputId": "53ba5a28-52ac-49cc-946f-e2751ce87522"
      },
      "source": [
        "# Lista o diretório corrente e os arquivos.\n",
        "!pwd\n",
        "!ls -la\n",
        "\n",
        "# Apaga o diretório 'cola_public_1.0' e seus arquivos\n",
        "!rm -rf cola_public_1.0\n",
        "\n",
        "# Descompacta o arquivo 'cola_public_1.0.zip'\n",
        "!unzip -o /content/cola_public_1.1.zip\n",
        "\n",
        "# Lista os arquivos do diretório corrente\n",
        "!ls -la"
      ],
      "execution_count": 14,
      "outputs": [
        {
          "output_type": "stream",
          "text": [
            "/content\n",
            "total 99468\n",
            "drwxr-xr-x 1 root root     4096 May 14 11:29 .\n",
            "drwxr-xr-x 1 root root     4096 May 14 11:28 ..\n",
            "-rw-r--r-- 1 root root   260499 May 14 11:29 cola_public_1.1.zip\n",
            "drwxr-xr-x 4 root root     4096 May  6 13:43 .config\n",
            "drwxr-xr-x 2 root root     4096 May 14 11:29 diretorio_exemplo\n",
            "-rw-r--r-- 1 root root 50783959 Dec 16 20:37 imdb-reviews-pt-br1.zip\n",
            "-rw-r--r-- 1 root root 50783959 May 14 11:29 imdb-reviews-pt-br.zip\n",
            "drwxr-xr-x 1 root root     4096 May  6 13:44 sample_data\n",
            "Archive:  /content/cola_public_1.1.zip\n",
            "   creating: cola_public_1.0/\n",
            "  inflating: cola_public_1.0/.DS_Store  \n",
            "   creating: __MACOSX/\n",
            "   creating: __MACOSX/cola_public_1.0/\n",
            "  inflating: __MACOSX/cola_public_1.0/._.DS_Store  \n",
            "  inflating: cola_public_1.0/README  \n",
            "  inflating: __MACOSX/cola_public_1.0/._README  \n",
            "   creating: cola_public_1.0/tokenized/\n",
            "  inflating: cola_public_1.0/tokenized/in_domain_dev.tsv  \n",
            "   creating: __MACOSX/cola_public_1.0/tokenized/\n",
            "  inflating: __MACOSX/cola_public_1.0/tokenized/._in_domain_dev.tsv  \n",
            "  inflating: cola_public_1.0/tokenized/in_domain_train.tsv  \n",
            "  inflating: __MACOSX/cola_public_1.0/tokenized/._in_domain_train.tsv  \n",
            "  inflating: cola_public_1.0/tokenized/out_of_domain_dev.tsv  \n",
            "  inflating: __MACOSX/cola_public_1.0/tokenized/._out_of_domain_dev.tsv  \n",
            "  inflating: __MACOSX/cola_public_1.0/._tokenized  \n",
            "   creating: cola_public_1.0/raw/\n",
            "  inflating: cola_public_1.0/raw/in_domain_dev.tsv  \n",
            "   creating: __MACOSX/cola_public_1.0/raw/\n",
            "  inflating: __MACOSX/cola_public_1.0/raw/._in_domain_dev.tsv  \n",
            "  inflating: cola_public_1.0/raw/in_domain_train.tsv  \n",
            "  inflating: __MACOSX/cola_public_1.0/raw/._in_domain_train.tsv  \n",
            "  inflating: cola_public_1.0/raw/out_of_domain_dev.tsv  \n",
            "  inflating: __MACOSX/cola_public_1.0/raw/._out_of_domain_dev.tsv  \n",
            "  inflating: __MACOSX/cola_public_1.0/._raw  \n",
            "  inflating: __MACOSX/._cola_public_1.0  \n",
            "total 99476\n",
            "drwxr-xr-x 1 root root     4096 May 14 11:29 .\n",
            "drwxr-xr-x 1 root root     4096 May 14 11:28 ..\n",
            "drwxr-xr-x 4 root root     4096 Dec 14  2018 cola_public_1.0\n",
            "-rw-r--r-- 1 root root   260499 May 14 11:29 cola_public_1.1.zip\n",
            "drwxr-xr-x 4 root root     4096 May  6 13:43 .config\n",
            "drwxr-xr-x 2 root root     4096 May 14 11:29 diretorio_exemplo\n",
            "-rw-r--r-- 1 root root 50783959 Dec 16 20:37 imdb-reviews-pt-br1.zip\n",
            "-rw-r--r-- 1 root root 50783959 May 14 11:29 imdb-reviews-pt-br.zip\n",
            "drwxrwxr-x 3 root root     4096 Dec 14  2018 __MACOSX\n",
            "drwxr-xr-x 1 root root     4096 May  6 13:44 sample_data\n"
          ],
          "name": "stdout"
        }
      ]
    },
    {
      "cell_type": "code",
      "metadata": {
        "colab": {
          "base_uri": "https://localhost:8080/"
        },
        "id": "GLM3PmyhOFnH",
        "outputId": "eef31b00-3845-4bab-bcf8-d20b0f3ad56d"
      },
      "source": [
        "!ls -la"
      ],
      "execution_count": 15,
      "outputs": [
        {
          "output_type": "stream",
          "text": [
            "total 99476\n",
            "drwxr-xr-x 1 root root     4096 May 14 11:29 .\n",
            "drwxr-xr-x 1 root root     4096 May 14 11:28 ..\n",
            "drwxr-xr-x 4 root root     4096 Dec 14  2018 cola_public_1.0\n",
            "-rw-r--r-- 1 root root   260499 May 14 11:29 cola_public_1.1.zip\n",
            "drwxr-xr-x 4 root root     4096 May  6 13:43 .config\n",
            "drwxr-xr-x 2 root root     4096 May 14 11:29 diretorio_exemplo\n",
            "-rw-r--r-- 1 root root 50783959 Dec 16 20:37 imdb-reviews-pt-br1.zip\n",
            "-rw-r--r-- 1 root root 50783959 May 14 11:29 imdb-reviews-pt-br.zip\n",
            "drwxrwxr-x 3 root root     4096 Dec 14  2018 __MACOSX\n",
            "drwxr-xr-x 1 root root     4096 May  6 13:44 sample_data\n"
          ],
          "name": "stdout"
        }
      ]
    },
    {
      "cell_type": "markdown",
      "metadata": {
        "id": "Ry045UHNRAhK"
      },
      "source": [
        "## Retornando a lista de arquivos do diretório corrente"
      ]
    },
    {
      "cell_type": "code",
      "metadata": {
        "colab": {
          "base_uri": "https://localhost:8080/"
        },
        "id": "5NvpcRqYRC-f",
        "outputId": "bc090ce5-e31e-4066-9671-f3fc989a8f14"
      },
      "source": [
        "# Import das bibliotecas\n",
        "import os\n",
        "\n",
        "# Recupera o conteúdo do diretório \n",
        "conteudoDiretorio = os.listdir('/content/')\n",
        "\n",
        "# Percorre a lista do conteúdo do diretório\n",
        "for conteudo in conteudoDiretorio:\n",
        "    print(conteudo)"
      ],
      "execution_count": 16,
      "outputs": [
        {
          "output_type": "stream",
          "text": [
            ".config\n",
            "cola_public_1.1.zip\n",
            "imdb-reviews-pt-br.zip\n",
            "__MACOSX\n",
            "imdb-reviews-pt-br1.zip\n",
            "diretorio_exemplo\n",
            "cola_public_1.0\n",
            "sample_data\n"
          ],
          "name": "stdout"
        }
      ]
    },
    {
      "cell_type": "markdown",
      "metadata": {
        "id": "pvIHc5aMzxIf"
      },
      "source": [
        "## Integração com Drive\n",
        "\n",
        "O Google Colaboratory é integrado ao GoogleDrive. Ele permite que você compartilhe, comente e colabore no mesmo documento com várias pessoas:\n",
        "\n",
        "* O botão **COMPARTILHAR** (canto superior direito da barra de ferramentas) permite que você compartilhe o bloco de anotações e controle as permissões definidas nele.\n",
        "\n",
        "* **Arquivo-> Salvar um cópia no Drive**, cria uma cópia do notebook no Drive.\n",
        "\n",
        "* **Arquivo-> Salvar**, salva as alterações do notebook, apesar de existir o salvamente automático. \n",
        "\n",
        "* **Arquivo-> Salvar e fixar revisão**, salva e fixa a versão para que ela não seja excluída do histórico de revisão.\n",
        "\n",
        "* **Arquivo-> Histórico de revisões** mostra o histórico de revisão do notebook."
      ]
    },
    {
      "cell_type": "markdown",
      "metadata": {
        "id": "3qqF3jjVde15"
      },
      "source": [
        "### Identificando o ambiente Colab"
      ]
    },
    {
      "cell_type": "code",
      "metadata": {
        "colab": {
          "base_uri": "https://localhost:8080/"
        },
        "id": "PH5Ys3HsNCub",
        "outputId": "7e81e90b-124b-4796-ee28-1bdee039de89"
      },
      "source": [
        "# Se estiver executando no Google Colaboratory\n",
        "import sys\n",
        "\n",
        "# Retorna true ou false se estiver no Google Colaboratory\n",
        "IN_COLAB = 'google.colab' in sys.modules\n",
        "\n",
        "if IN_COLAB:\n",
        "  print('Executando no Google Colaboratory')\n",
        "else:\n",
        "  print('Não executando no Google Colaboratory!')"
      ],
      "execution_count": 17,
      "outputs": [
        {
          "output_type": "stream",
          "text": [
            "Executando no Google Colaboratory\n"
          ],
          "name": "stdout"
        }
      ]
    },
    {
      "cell_type": "markdown",
      "metadata": {
        "id": "6WQDzt3UqYvc"
      },
      "source": [
        "### Acesso e download de Arquivo Grande com PyDrive do GoogleDrive"
      ]
    },
    {
      "cell_type": "markdown",
      "metadata": {
        "id": "ChjikTc0PVUc"
      },
      "source": [
        "Instando o PyDrive no Google Colaboratory.\n",
        "\n",
        "No Jupiter Notebook executar através \"Anaconda Prompt\".\n",
        "\n",
        "PyDrive é uma biblioteca de manipulação de arquivos para o google drive.<br>\n",
        "\n",
        "https://colab.research.google.com/notebooks/io.ipynb#scrollTo=7taylj9wpsA2"
      ]
    },
    {
      "cell_type": "code",
      "metadata": {
        "colab": {
          "base_uri": "https://localhost:8080/"
        },
        "id": "oS-Euca2PWC2",
        "outputId": "79c53383-24dc-4311-c373-bec53ce8ebf8"
      },
      "source": [
        " pip install PyDrive"
      ],
      "execution_count": 18,
      "outputs": [
        {
          "output_type": "stream",
          "text": [
            "Requirement already satisfied: PyDrive in /usr/local/lib/python3.7/dist-packages (1.3.1)\n",
            "Requirement already satisfied: oauth2client>=4.0.0 in /usr/local/lib/python3.7/dist-packages (from PyDrive) (4.1.3)\n",
            "Requirement already satisfied: google-api-python-client>=1.2 in /usr/local/lib/python3.7/dist-packages (from PyDrive) (1.12.8)\n",
            "Requirement already satisfied: PyYAML>=3.0 in /usr/local/lib/python3.7/dist-packages (from PyDrive) (3.13)\n",
            "Requirement already satisfied: pyasn1>=0.1.7 in /usr/local/lib/python3.7/dist-packages (from oauth2client>=4.0.0->PyDrive) (0.4.8)\n",
            "Requirement already satisfied: httplib2>=0.9.1 in /usr/local/lib/python3.7/dist-packages (from oauth2client>=4.0.0->PyDrive) (0.17.4)\n",
            "Requirement already satisfied: six>=1.6.1 in /usr/local/lib/python3.7/dist-packages (from oauth2client>=4.0.0->PyDrive) (1.15.0)\n",
            "Requirement already satisfied: rsa>=3.1.4 in /usr/local/lib/python3.7/dist-packages (from oauth2client>=4.0.0->PyDrive) (4.7.2)\n",
            "Requirement already satisfied: pyasn1-modules>=0.0.5 in /usr/local/lib/python3.7/dist-packages (from oauth2client>=4.0.0->PyDrive) (0.2.8)\n",
            "Requirement already satisfied: google-auth-httplib2>=0.0.3 in /usr/local/lib/python3.7/dist-packages (from google-api-python-client>=1.2->PyDrive) (0.0.4)\n",
            "Requirement already satisfied: google-auth>=1.16.0 in /usr/local/lib/python3.7/dist-packages (from google-api-python-client>=1.2->PyDrive) (1.30.0)\n",
            "Requirement already satisfied: google-api-core<2dev,>=1.21.0 in /usr/local/lib/python3.7/dist-packages (from google-api-python-client>=1.2->PyDrive) (1.26.3)\n",
            "Requirement already satisfied: uritemplate<4dev,>=3.0.0 in /usr/local/lib/python3.7/dist-packages (from google-api-python-client>=1.2->PyDrive) (3.0.1)\n",
            "Requirement already satisfied: setuptools>=40.3.0 in /usr/local/lib/python3.7/dist-packages (from google-auth>=1.16.0->google-api-python-client>=1.2->PyDrive) (56.1.0)\n",
            "Requirement already satisfied: cachetools<5.0,>=2.0.0 in /usr/local/lib/python3.7/dist-packages (from google-auth>=1.16.0->google-api-python-client>=1.2->PyDrive) (4.2.2)\n",
            "Requirement already satisfied: protobuf>=3.12.0 in /usr/local/lib/python3.7/dist-packages (from google-api-core<2dev,>=1.21.0->google-api-python-client>=1.2->PyDrive) (3.12.4)\n",
            "Requirement already satisfied: googleapis-common-protos<2.0dev,>=1.6.0 in /usr/local/lib/python3.7/dist-packages (from google-api-core<2dev,>=1.21.0->google-api-python-client>=1.2->PyDrive) (1.53.0)\n",
            "Requirement already satisfied: requests<3.0.0dev,>=2.18.0 in /usr/local/lib/python3.7/dist-packages (from google-api-core<2dev,>=1.21.0->google-api-python-client>=1.2->PyDrive) (2.23.0)\n",
            "Requirement already satisfied: packaging>=14.3 in /usr/local/lib/python3.7/dist-packages (from google-api-core<2dev,>=1.21.0->google-api-python-client>=1.2->PyDrive) (20.9)\n",
            "Requirement already satisfied: pytz in /usr/local/lib/python3.7/dist-packages (from google-api-core<2dev,>=1.21.0->google-api-python-client>=1.2->PyDrive) (2018.9)\n",
            "Requirement already satisfied: idna<3,>=2.5 in /usr/local/lib/python3.7/dist-packages (from requests<3.0.0dev,>=2.18.0->google-api-core<2dev,>=1.21.0->google-api-python-client>=1.2->PyDrive) (2.10)\n",
            "Requirement already satisfied: certifi>=2017.4.17 in /usr/local/lib/python3.7/dist-packages (from requests<3.0.0dev,>=2.18.0->google-api-core<2dev,>=1.21.0->google-api-python-client>=1.2->PyDrive) (2020.12.5)\n",
            "Requirement already satisfied: chardet<4,>=3.0.2 in /usr/local/lib/python3.7/dist-packages (from requests<3.0.0dev,>=2.18.0->google-api-core<2dev,>=1.21.0->google-api-python-client>=1.2->PyDrive) (3.0.4)\n",
            "Requirement already satisfied: urllib3!=1.25.0,!=1.25.1,<1.26,>=1.21.1 in /usr/local/lib/python3.7/dist-packages (from requests<3.0.0dev,>=2.18.0->google-api-core<2dev,>=1.21.0->google-api-python-client>=1.2->PyDrive) (1.24.3)\n",
            "Requirement already satisfied: pyparsing>=2.0.2 in /usr/local/lib/python3.7/dist-packages (from packaging>=14.3->google-api-core<2dev,>=1.21.0->google-api-python-client>=1.2->PyDrive) (2.4.7)\n"
          ],
          "name": "stdout"
        }
      ]
    },
    {
      "cell_type": "markdown",
      "metadata": {
        "id": "ZH-gurwVPNQj"
      },
      "source": [
        "Importando as bibliotecas de manipulação de dos arquivos pydrive<br>.\n",
        "https://gsuitedevs.github.io/PyDrive/docs/build/html/index.html#"
      ]
    },
    {
      "cell_type": "code",
      "metadata": {
        "colab": {
          "base_uri": "https://localhost:8080/"
        },
        "id": "gEYh-xl5E9VY",
        "outputId": "f2eda1d7-d0af-4182-f236-13ee840ffb56"
      },
      "source": [
        "from pydrive.auth import GoogleAuth\n",
        "from pydrive.drive import GoogleDrive\n",
        "from oauth2client.client import GoogleCredentials\n",
        "\n",
        "# Se estiver executando no Google Colaboratory\n",
        "import sys\n",
        "# Retorna true ou false se estiver no Google Colaboratory\n",
        "IN_COLAB = 'google.colab' in sys.modules\n",
        "if IN_COLAB:\n",
        "  # Biblioteca para autenticar o usuário somente no Google Colaboratory\n",
        "  from google.colab import auth\n",
        "\n",
        "print('Import realizado!')"
      ],
      "execution_count": 19,
      "outputs": [
        {
          "output_type": "stream",
          "text": [
            "Import realizado!\n"
          ],
          "name": "stdout"
        }
      ]
    },
    {
      "cell_type": "markdown",
      "metadata": {
        "id": "MiQqJQcbPEE8"
      },
      "source": [
        "Autenticando o usuário"
      ]
    },
    {
      "cell_type": "code",
      "metadata": {
        "id": "AkHNHYBBExy7"
      },
      "source": [
        "# Se estiver executando no Google Colaboratory\n",
        "if IN_COLAB:\n",
        "   auth.authenticate_user()\n",
        "   gauth = GoogleAuth()\n",
        "   gauth.credentials = GoogleCredentials.get_application_default()\n",
        "   drive = GoogleDrive(gauth)"
      ],
      "execution_count": 20,
      "outputs": []
    },
    {
      "cell_type": "markdown",
      "metadata": {
        "id": "rcsTLhGjPfVi"
      },
      "source": [
        "Baixa o arquivo do id especificado em um pasta do google drive."
      ]
    },
    {
      "cell_type": "code",
      "metadata": {
        "colab": {
          "base_uri": "https://localhost:8080/"
        },
        "id": "FlaCGYoH47tf",
        "outputId": "4816726a-be40-4d21-b708-4e096d31b7d0"
      },
      "source": [
        "# Biblioteca para acessar o sistema de arquivos\n",
        "import os\n",
        "\n",
        "# Id do arquivo do Google Drive\n",
        "# Downloaded = drive.CreateFile({'id':'0B7XkCwpI5KDYNlNUTTlSS21pQmM'})\n",
        "\n",
        "# Download do arquivo para a pasta e arquivos especificados\n",
        "# Downloaded.GetContentFile('GoogleNews-vectors-negative300.bin.gz')\n",
        "\n",
        "# Verifica se o arquivo do modelo existe\n",
        "if not os.path.exists('GoogleNews-vectors-negative300.bin.gz'):  \n",
        "    # Se estiver executando no Google Colaboratory\n",
        "    if IN_COLAB:\n",
        "        # Realiza o download do arquivo\n",
        "        downloaded = drive.CreateFile({'id':'0B7XkCwpI5KDYNlNUTTlSS21pQmM'})\n",
        "\n",
        "        # Salva o arquivo no diretório 'content' do colab\n",
        "        downloaded.GetContentFile('GoogleNews-vectors-negative300.bin.gz')\n",
        "\n",
        "        print(\"Arquivo {} baixado\".format('GoogleNews-vectors-negative300.bin.gz'))\n",
        "else:\n",
        "    print(\"Arquivo {} já existe\".format('GoogleNews-vectors-negative300.bin.gz'))"
      ],
      "execution_count": 21,
      "outputs": [
        {
          "output_type": "stream",
          "text": [
            "Arquivo GoogleNews-vectors-negative300.bin.gz baixado\n"
          ],
          "name": "stdout"
        }
      ]
    },
    {
      "cell_type": "markdown",
      "metadata": {
        "id": "YP5N6uu5N3Iu"
      },
      "source": [
        "Mostra o diretório corrente."
      ]
    },
    {
      "cell_type": "code",
      "metadata": {
        "colab": {
          "base_uri": "https://localhost:8080/"
        },
        "id": "gMVO2c6WN5yX",
        "outputId": "61a169b4-553a-4e9c-fcd7-fedccf449086"
      },
      "source": [
        "!pwd"
      ],
      "execution_count": 22,
      "outputs": [
        {
          "output_type": "stream",
          "text": [
            "/content\n"
          ],
          "name": "stdout"
        }
      ]
    },
    {
      "cell_type": "markdown",
      "metadata": {
        "id": "9U3Zr4S6NxYu"
      },
      "source": [
        "Lista os arquivos do diretório corrente."
      ]
    },
    {
      "cell_type": "code",
      "metadata": {
        "colab": {
          "base_uri": "https://localhost:8080/"
        },
        "id": "XsB-XFSyNzqT",
        "outputId": "b8d4321e-ab13-4d63-9caf-9b5e17f62c81"
      },
      "source": [
        "!ls -la"
      ],
      "execution_count": 23,
      "outputs": [
        {
          "output_type": "stream",
          "text": [
            "total 1707936\n",
            "drwxr-xr-x 1 root root       4096 May 14 11:32 .\n",
            "drwxr-xr-x 1 root root       4096 May 14 11:28 ..\n",
            "-rw-r--r-- 1 root root        720 May 14 11:32 adc.json\n",
            "drwxr-xr-x 4 root root       4096 Dec 14  2018 cola_public_1.0\n",
            "-rw-r--r-- 1 root root     260499 May 14 11:29 cola_public_1.1.zip\n",
            "drwxr-xr-x 1 root root       4096 May 14 11:32 .config\n",
            "drwxr-xr-x 2 root root       4096 May 14 11:29 diretorio_exemplo\n",
            "-rw-r--r-- 1 root root 1647046227 May 14 11:32 GoogleNews-vectors-negative300.bin.gz\n",
            "-rw-r--r-- 1 root root   50783959 Dec 16 20:37 imdb-reviews-pt-br1.zip\n",
            "-rw-r--r-- 1 root root   50783959 May 14 11:29 imdb-reviews-pt-br.zip\n",
            "drwxrwxr-x 3 root root       4096 Dec 14  2018 __MACOSX\n",
            "drwxr-xr-x 1 root root       4096 May  6 13:44 sample_data\n"
          ],
          "name": "stdout"
        }
      ]
    },
    {
      "cell_type": "markdown",
      "metadata": {
        "id": "415S_PMdYNHo"
      },
      "source": [
        "### Montando uma pasta no GoogleDrive para o Colaboratory"
      ]
    },
    {
      "cell_type": "markdown",
      "metadata": {
        "id": "geucmbQyP54y"
      },
      "source": [
        "Montando uma pasta para um projeto do Google Colaboratory a partir do Google Drive.\n",
        "\n",
        "Para montar a pasta foi utilizada as próprias as ferramentas do Google Colaboratory, que exige a autenticação do usuário em uma outra janela do navegador.<br>\n",
        "\n",
        "O usuário precisar conceder  permissão para o **Google Drive File Stream** acessar o seu Google Drive.\n",
        "\n",
        "Copie o código de autorização da URL apresentada e copie e cole na caixa do código de autorização.\n",
        "\n",
        "https://colab.research.google.com/notebooks/io.ipynb#scrollTo=c2W5A2px3doP\n",
        "\n",
        "**Necessário setar variável IN_COLAB.**"
      ]
    },
    {
      "cell_type": "code",
      "metadata": {
        "colab": {
          "base_uri": "https://localhost:8080/"
        },
        "id": "pcATNcDbQfy1",
        "outputId": "808a58f3-f8a3-4eca-dfcc-64ef958f6a34"
      },
      "source": [
        "# Se estiver executando no Google Colaboratory\n",
        "if IN_COLAB:\n",
        "    # Import necessário\n",
        "    from google.colab import drive\n",
        "\n",
        "    # Monta o drive na pasta especificada\n",
        "    drive.mount('/content/drive')"
      ],
      "execution_count": 24,
      "outputs": [
        {
          "output_type": "stream",
          "text": [
            "Mounted at /content/drive\n"
          ],
          "name": "stdout"
        }
      ]
    },
    {
      "cell_type": "markdown",
      "metadata": {
        "id": "ExYVdtqwN8jo"
      },
      "source": [
        "Mostra o diretório corrente."
      ]
    },
    {
      "cell_type": "code",
      "metadata": {
        "colab": {
          "base_uri": "https://localhost:8080/"
        },
        "id": "P7t2PnJUN-GI",
        "outputId": "fb801800-a045-4fba-c2c6-369d28fa99e5"
      },
      "source": [
        "!pwd"
      ],
      "execution_count": 25,
      "outputs": [
        {
          "output_type": "stream",
          "text": [
            "/content\n"
          ],
          "name": "stdout"
        }
      ]
    },
    {
      "cell_type": "markdown",
      "metadata": {
        "id": "f5pNKqq9OFBp"
      },
      "source": [
        "Lista os arquivos do diretório corrente."
      ]
    },
    {
      "cell_type": "code",
      "metadata": {
        "colab": {
          "base_uri": "https://localhost:8080/"
        },
        "id": "JhHRbB3VHq87",
        "outputId": "28766bbe-e260-451e-8e76-32dfaea53a69"
      },
      "source": [
        "!ls -la"
      ],
      "execution_count": 26,
      "outputs": [
        {
          "output_type": "stream",
          "text": [
            "total 1707940\n",
            "drwxr-xr-x 1 root root       4096 May 14 11:33 .\n",
            "drwxr-xr-x 1 root root       4096 May 14 11:28 ..\n",
            "-rw-r--r-- 1 root root        720 May 14 11:32 adc.json\n",
            "drwxr-xr-x 4 root root       4096 Dec 14  2018 cola_public_1.0\n",
            "-rw-r--r-- 1 root root     260499 May 14 11:29 cola_public_1.1.zip\n",
            "drwxr-xr-x 1 root root       4096 May 14 11:32 .config\n",
            "drwxr-xr-x 2 root root       4096 May 14 11:29 diretorio_exemplo\n",
            "drwx------ 5 root root       4096 May 14 11:33 drive\n",
            "-rw-r--r-- 1 root root 1647046227 May 14 11:32 GoogleNews-vectors-negative300.bin.gz\n",
            "-rw-r--r-- 1 root root   50783959 Dec 16 20:37 imdb-reviews-pt-br1.zip\n",
            "-rw-r--r-- 1 root root   50783959 May 14 11:29 imdb-reviews-pt-br.zip\n",
            "drwxrwxr-x 3 root root       4096 Dec 14  2018 __MACOSX\n",
            "drwxr-xr-x 1 root root       4096 May  6 13:44 sample_data\n"
          ],
          "name": "stdout"
        }
      ]
    },
    {
      "cell_type": "markdown",
      "metadata": {
        "id": "ldOuGR5P5zHU"
      },
      "source": [
        "# Arquivos Padrão\n",
        "\n",
        "Os arquivos podem ser abertos de duas maneiras: para  leitura ('r') ou para escrita ('w').\n",
        "\n",
        "https://aprendacompy.readthedocs.io/pt/latest/capitulo_11.html\n",
        "\n",
        "https://cadernoscicomp.com.br/tutorial/introducao-a-programacao-em-python-3/manipulando-arquivos/"
      ]
    },
    {
      "cell_type": "markdown",
      "metadata": {
        "id": "12z97N5Z60qH"
      },
      "source": [
        "## Criando e abrindo para escrita\n",
        "\n",
        "O argumento do método write tem que ser uma string com o nome do arquivo e o modo de abertura.\n",
        "\n",
        "Modos de abertura:\n",
        "* leitura ('r')\n",
        "* escrita ('w')\n",
        "* append ('a')\n",
        "\n",
        "Tipo do arquivo:\n",
        "* Modo binário ('b')\n",
        "* Modo misto com '+'\n",
        "(leitura e escrita)\n",
        "\n",
        "**O 'w' abre um arquivo para escrita, mas apaga o conteúdo se arquivo já existir.**"
      ]
    },
    {
      "cell_type": "code",
      "metadata": {
        "id": "-OYxiYb351b_"
      },
      "source": [
        "# Cria e abre o arquivo \"arquivo.txt\" para escrita\n",
        "arquivo = open('arquivo.txt', 'w')\n",
        "\n",
        "# Escreve no arquivo\n",
        "linha = \"linha\" + str(1) + \" linha\" + str(2) + \"\\n\"\n",
        "arquivo.write(linha)\n",
        "\n",
        "linha = \"linha\" + str(3) + \" linha\" + str(4) + \"\\n\"\n",
        "arquivo.write(linha)\n",
        "\n",
        "# Fecha o arquivo\n",
        "arquivo.close()"
      ],
      "execution_count": 27,
      "outputs": []
    },
    {
      "cell_type": "markdown",
      "metadata": {
        "id": "YlO1v2nnCe2J"
      },
      "source": [
        "Criando e abrindo o arquivo para a escrita"
      ]
    },
    {
      "cell_type": "code",
      "metadata": {
        "id": "WHhC4GOUChKi"
      },
      "source": [
        "\n",
        "# Cria e abre o arquivo \"arquivo.txt\" para escrita\n",
        "arquivo = open('arquivo.txt', 'w')\n",
        "\n",
        "# Escreve no arquivo\n",
        "arquivo.writelines(\"linha1 linha2\\n\")\n",
        "arquivo.writelines(\"linha3 linha4\")\n",
        "\n",
        "# Fecha o arquivo\n",
        "arquivo.close()"
      ],
      "execution_count": 28,
      "outputs": []
    },
    {
      "cell_type": "markdown",
      "metadata": {
        "id": "OaCzgOUz7PsM"
      },
      "source": [
        "## Abrindo para leitura\n",
        "\n",
        "Se não especificarmos o  parâmetro '\\r', a forma padrão leitura será utilizada."
      ]
    },
    {
      "cell_type": "code",
      "metadata": {
        "colab": {
          "base_uri": "https://localhost:8080/"
        },
        "id": "PuwimZRN9nNA",
        "outputId": "07c5c04c-e6e7-4e35-b101-f0f2c12f1281"
      },
      "source": [
        "# Abre o arquivo \"arquivo.txt\" para leitura\n",
        "arquivo = open('arquivo.txt', 'r')\n",
        "\n",
        "# Lê a primeira linha\n",
        "print(arquivo.read())\n",
        "\n",
        "# Lê a segunda linha\n",
        "print(arquivo.read())\n",
        "\n",
        "# Fecha o arquivo\n",
        "arquivo.close()"
      ],
      "execution_count": 29,
      "outputs": [
        {
          "output_type": "stream",
          "text": [
            "linha1 linha2\n",
            "linha3 linha4\n",
            "\n"
          ],
          "name": "stdout"
        }
      ]
    },
    {
      "cell_type": "markdown",
      "metadata": {
        "id": "2h5O1RwV-M2R"
      },
      "source": [
        "## Leitura de linha a linha\n",
        "\n",
        "O método readline lê todos os caracteres e inclui o próximo caractere de nova linha(\\n)."
      ]
    },
    {
      "cell_type": "code",
      "metadata": {
        "colab": {
          "base_uri": "https://localhost:8080/"
        },
        "id": "7t_J0wbA9V2Y",
        "outputId": "c579ed63-a029-4c82-a526-1b1033cddaad"
      },
      "source": [
        "# Abre o arquivo \"arquivo.txt\" para leitura\n",
        "arquivo = open('arquivo.txt', 'r')\n",
        "\n",
        "# Lê a primeira linha\n",
        "print(arquivo.readline())\n",
        "\n",
        "# Lê a segunda linha\n",
        "print(arquivo.readline())\n",
        "\n",
        "# Fecha o arquivo\n",
        "arquivo.close()"
      ],
      "execution_count": 30,
      "outputs": [
        {
          "output_type": "stream",
          "text": [
            "linha1 linha2\n",
            "\n",
            "linha3 linha4\n"
          ],
          "name": "stdout"
        }
      ]
    },
    {
      "cell_type": "markdown",
      "metadata": {
        "id": "0-bADk209ytu"
      },
      "source": [
        "## Lendo todas as linhas\n",
        "\n",
        "O método readlines retorna todas as linhas restantes como uma lista de strings."
      ]
    },
    {
      "cell_type": "code",
      "metadata": {
        "colab": {
          "base_uri": "https://localhost:8080/"
        },
        "id": "RTVeu3qm91ZP",
        "outputId": "b8bc43fe-4bd6-417b-bc38-d02982ea461f"
      },
      "source": [
        "# Abre o arquivo \"arquivo.txt\" para leitura\n",
        "arquivo = open('arquivo.txt', 'r')\n",
        "\n",
        "# Lê todas as linhas\n",
        "print(arquivo.readlines())\n",
        "\n",
        "# Fecha o arquivo\n",
        "arquivo.close()"
      ],
      "execution_count": 31,
      "outputs": [
        {
          "output_type": "stream",
          "text": [
            "['linha1 linha2\\n', 'linha3 linha4']\n"
          ],
          "name": "stdout"
        }
      ]
    },
    {
      "cell_type": "markdown",
      "metadata": {
        "id": "aHOGcu8d9WNM"
      },
      "source": [
        "##Adicinando linhas\n",
        "\n",
        "Lendo todas as linhas e adicionando conteúdo"
      ]
    },
    {
      "cell_type": "code",
      "metadata": {
        "colab": {
          "base_uri": "https://localhost:8080/"
        },
        "id": "_2Cb6STC-nS0",
        "outputId": "39107419-c56f-4cef-e8fa-88525d85d683"
      },
      "source": [
        "# Abre o arquivo \"arquivo.txt\" para leitura\n",
        "arquivo = open('arquivo.txt', 'r')\n",
        "\n",
        "#lê todas as linhas\n",
        "conteudo = arquivo.readlines()\n",
        "\n",
        "#adiciona o conteúdo\n",
        "#o método append() é proveniente de uma lista\n",
        "conteudo.append(\"\\nlinha5 linha6\")\n",
        "\n",
        "# Fecha o arquivo\n",
        "arquivo.close()\n",
        "\n",
        "#======abre para escrever no arquivo\n",
        "# Abre novamente o arquivo para escrita.\n",
        "arquivo = open('arquivo.txt', 'w')\n",
        "arquivo.writelines(conteudo)\n",
        "\n",
        "# Fecha o arquivo\n",
        "arquivo.close()\n",
        "\n",
        "# ======leitura do arquivo depois da adição\n",
        "# Abre o arquivo \"arquivo.txt\" para leitura\n",
        "arquivo = open('arquivo.txt', 'r')\n",
        "\n",
        "# Lê as linhas\n",
        "print(arquivo.readlines())\n",
        "\n",
        "# Fecha o arquivo\n",
        "arquivo.close()"
      ],
      "execution_count": 32,
      "outputs": [
        {
          "output_type": "stream",
          "text": [
            "['linha1 linha2\\n', 'linha3 linha4\\n', 'linha5 linha6']\n"
          ],
          "name": "stdout"
        }
      ]
    },
    {
      "cell_type": "markdown",
      "metadata": {
        "id": "VP7PqSSa_pDU"
      },
      "source": [
        "## Percorrendo o arquivo com for\n",
        "\n",
        "Sempre tem que lembrar de chamar a função close() "
      ]
    },
    {
      "cell_type": "code",
      "metadata": {
        "colab": {
          "base_uri": "https://localhost:8080/"
        },
        "id": "X9Hg6WlS_9UE",
        "outputId": "515438e1-6bc3-48f6-f424-7f93f3671cd5"
      },
      "source": [
        "# Abre o arquivo \"arquivo.txt\" para leitura\n",
        "arquivo = open('arquivo.txt', 'r')\n",
        "\n",
        "# Percorre o arquivo\n",
        "for linha in arquivo:\n",
        "    # .strip() remove o \\n do final da linha)\n",
        "    print(linha.strip())\n",
        "\n",
        "# Fecha o arquivo\n",
        "arquivo.close()"
      ],
      "execution_count": 33,
      "outputs": [
        {
          "output_type": "stream",
          "text": [
            "linha1 linha2\n",
            "linha3 linha4\n",
            "linha5 linha6\n"
          ],
          "name": "stdout"
        }
      ]
    },
    {
      "cell_type": "markdown",
      "metadata": {
        "id": "OOM0yK_iADg8"
      },
      "source": [
        "## Percorrendo o arquivo com with\n",
        "\n",
        "**with** cria um contexto que garante que todos os recursos que estão sendo usados no contexto sejam fechados quando ele termina. Reduz o código deixando mais limpo."
      ]
    },
    {
      "cell_type": "code",
      "metadata": {
        "colab": {
          "base_uri": "https://localhost:8080/"
        },
        "id": "L7l0o0vU7P7l",
        "outputId": "9b1754a8-011c-43de-86e9-4bfa715c33e1"
      },
      "source": [
        "# Abre o arquivo \"arquivo.txt\" para leitura\n",
        "with open('arquivo.txt', 'r') as arquivo:\n",
        "    print(arquivo.read())"
      ],
      "execution_count": 34,
      "outputs": [
        {
          "output_type": "stream",
          "text": [
            "linha1 linha2\n",
            "linha3 linha4\n",
            "linha5 linha6\n"
          ],
          "name": "stdout"
        }
      ]
    }
  ]
}