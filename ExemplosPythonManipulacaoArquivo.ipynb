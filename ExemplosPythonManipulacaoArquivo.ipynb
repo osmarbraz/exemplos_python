{
  "nbformat": 4,
  "nbformat_minor": 0,
  "metadata": {
    "colab": {
      "provenance": [],
      "toc_visible": true,
      "include_colab_link": true
    },
    "kernelspec": {
      "display_name": "Python 3",
      "name": "python3"
    }
  },
  "cells": [
    {
      "cell_type": "markdown",
      "metadata": {
        "id": "view-in-github",
        "colab_type": "text"
      },
      "source": [
        "<a href=\"https://colab.research.google.com/github/osmarbraz/exemplos_python/blob/master/ExemplosPythonManipulacaoArquivo.ipynb\" target=\"_parent\"><img src=\"https://colab.research.google.com/assets/colab-badge.svg\" alt=\"Open In Colab\"/></a>"
      ]
    },
    {
      "cell_type": "markdown",
      "metadata": {
        "id": "xY84ChCNzmQQ"
      },
      "source": [
        "# Exemplos de Manipulação de Arquivo em Python no Google Colaboratory\n",
        "\n",
        "-----------------------------------------\n",
        "**Guia Colab Iniciante:**\n",
        "\n",
        "https://medium.com/machina-sapiens/google-colab-guia-do-iniciante-334d70aad531\n",
        "\n",
        "**Documentação oficial:**\n",
        "\n",
        "https://colab.research.google.com/github/jakevdp/PythonDataScienceHandbook/blob/master/notebooks/01.01-Help-And-Documentation.ipynb\n",
        "\n",
        "**Características :**\n",
        "\n",
        "https://colab.research.google.com/notebooks/basic_features_overview.ipynb"
      ]
    },
    {
      "cell_type": "markdown",
      "metadata": {
        "id": "Vx3NYTcwtaCd"
      },
      "source": [
        "# Sistema de Arquivos\n",
        "Exemplos https://colab.research.google.com/notebooks/io.ipynb<br>\n",
        "https://colab.research.google.com/github/jakevdp/PythonDataScienceHandbook/blob/master/notebooks/01.05-IPython-And-Shell-Commands.ipynb"
      ]
    },
    {
      "cell_type": "markdown",
      "metadata": {
        "id": "aRHsLgt2tk_c"
      },
      "source": [
        "## Diretórios"
      ]
    },
    {
      "cell_type": "markdown",
      "metadata": {
        "id": "yBFd9llAuuoK"
      },
      "source": [
        "Lista o conteúdo do diretório corrente."
      ]
    },
    {
      "cell_type": "code",
      "metadata": {
        "colab": {
          "base_uri": "https://localhost:8080/"
        },
        "id": "cVoju6o7tobP",
        "outputId": "ecdc0715-2c81-45a7-e7cf-390711580127"
      },
      "source": [
        "!ls ."
      ],
      "execution_count": null,
      "outputs": [
        {
          "output_type": "stream",
          "name": "stdout",
          "text": [
            "sample_data\n"
          ]
        }
      ]
    },
    {
      "cell_type": "markdown",
      "metadata": {
        "id": "C3__Ec0Du1uG"
      },
      "source": [
        "Mostrando o diretório corrente"
      ]
    },
    {
      "cell_type": "code",
      "metadata": {
        "colab": {
          "base_uri": "https://localhost:8080/"
        },
        "id": "faijPbGbu4of",
        "outputId": "23e7f2c8-be9c-4882-9479-3a3c740bd03d"
      },
      "source": [
        "!pwd"
      ],
      "execution_count": null,
      "outputs": [
        {
          "output_type": "stream",
          "name": "stdout",
          "text": [
            "/content\n"
          ]
        }
      ]
    },
    {
      "cell_type": "markdown",
      "metadata": {
        "id": "KvrM9PJi42Yf"
      },
      "source": [
        "## Arquivos"
      ]
    },
    {
      "cell_type": "markdown",
      "metadata": {
        "id": "o3OfJ3xCPBBG"
      },
      "source": [
        "Lista os arquivos e pastas do diretório corrente."
      ]
    },
    {
      "cell_type": "code",
      "metadata": {
        "colab": {
          "base_uri": "https://localhost:8080/"
        },
        "id": "ih_CaIpWEkii",
        "outputId": "87417d28-30a5-477d-d958-5aea3d845de0"
      },
      "source": [
        "!ls -la"
      ],
      "execution_count": null,
      "outputs": [
        {
          "output_type": "stream",
          "name": "stdout",
          "text": [
            "total 16\n",
            "drwxr-xr-x 1 root root 4096 Oct 26 13:24 .\n",
            "drwxr-xr-x 1 root root 4096 Oct 29 00:40 ..\n",
            "drwxr-xr-x 4 root root 4096 Oct 26 13:24 .config\n",
            "drwxr-xr-x 1 root root 4096 Oct 26 13:24 sample_data\n"
          ]
        }
      ]
    },
    {
      "cell_type": "markdown",
      "metadata": {
        "id": "AsJ0yS-JPpEG"
      },
      "source": [
        "Lista os arquivos e pastas do diretório corrente incluindo os ocultos."
      ]
    },
    {
      "cell_type": "code",
      "metadata": {
        "colab": {
          "base_uri": "https://localhost:8080/"
        },
        "id": "6MLYidtJF3Y1",
        "outputId": "1dfa81f4-8f34-4b13-c6c1-0d9d5afeee1b"
      },
      "source": [
        "!ls -lh"
      ],
      "execution_count": null,
      "outputs": [
        {
          "output_type": "stream",
          "name": "stdout",
          "text": [
            "total 4.0K\n",
            "drwxr-xr-x 1 root root 4.0K Oct 26 13:24 sample_data\n"
          ]
        }
      ]
    },
    {
      "cell_type": "markdown",
      "metadata": {
        "id": "asNVk0KmYXon"
      },
      "source": [
        "## Verificando se um diretório existe"
      ]
    },
    {
      "cell_type": "markdown",
      "metadata": {
        "id": "tLB8G6XMXlWn"
      },
      "source": [
        "Cria um diretório caso ele não exista."
      ]
    },
    {
      "cell_type": "code",
      "metadata": {
        "colab": {
          "base_uri": "https://localhost:8080/"
        },
        "id": "LzlsgPI-XkdL",
        "outputId": "e7ff5f22-ca69-4683-b51d-e6bc95dd3e20"
      },
      "source": [
        "# Biblioteca para acessar o sistema de arquivos\n",
        "import os\n",
        "\n",
        "# Diretório a ser criado\n",
        "dir = \"diretorio_exemplo\"\n",
        "\n",
        "# Verifica se o diretório existe\n",
        "if not os.path.exists(dir):\n",
        "    # Cria o diretório\n",
        "    os.makedirs(dir)\n",
        "    print(\"Diretório criado: {}\".format(dir))\n",
        "else:\n",
        "    print(\"Diretório já existe: {}\".format(dir))"
      ],
      "execution_count": null,
      "outputs": [
        {
          "output_type": "stream",
          "name": "stdout",
          "text": [
            "Diretório criado: diretorio_exemplo\n"
          ]
        }
      ]
    },
    {
      "cell_type": "markdown",
      "metadata": {
        "id": "lr6CZ_Vce_O1"
      },
      "source": [
        "## Verificando se um arquivo existe"
      ]
    },
    {
      "cell_type": "code",
      "metadata": {
        "colab": {
          "base_uri": "https://localhost:8080/"
        },
        "id": "g_2RX0F9fHDu",
        "outputId": "a0778ad2-3382-49df-a902-fce093325efa"
      },
      "source": [
        "# Biblioteca para acessar o sistema de arquivos\n",
        "import os\n",
        "\n",
        "# Nome do arquivo\n",
        "arquivo = \"teste.txt\"\n",
        "\n",
        "# Verifica se o arquivo existe\n",
        "if not os.path.exists(arquivo):\n",
        "    print(\"Arquivo não existe: {}\".format(arquivo))\n",
        "else:\n",
        "    print(\"Arquivo já existe: {}\".format(arquivo))"
      ],
      "execution_count": null,
      "outputs": [
        {
          "output_type": "stream",
          "name": "stdout",
          "text": [
            "Arquivo não existe: teste.txt\n"
          ]
        }
      ]
    },
    {
      "cell_type": "markdown",
      "metadata": {
        "id": "Q7ga4y51FHZ8"
      },
      "source": [
        "## Download\n",
        "\n",
        "https://medium.com/@araujo.dionata/google-colab-importando-arquivos-direto-do-google-drive-5c0fc2798480"
      ]
    },
    {
      "cell_type": "markdown",
      "metadata": {
        "id": "OVQywZLUcNeD"
      },
      "source": [
        "### Download de Arquivo com WGET via SO"
      ]
    },
    {
      "cell_type": "markdown",
      "metadata": {
        "id": "rS5N8tCJcSNm"
      },
      "source": [
        "Usa os comandos do SO para realizar o download de um arquivo.\n",
        "\n",
        "Use o parâmetro \"-O\" para especificar o nome de arquivo a ser salvo.\n",
        "\n",
        "```\n",
        "!wget -O nomearquivodestino url\n",
        "```\n"
      ]
    },
    {
      "cell_type": "code",
      "metadata": {
        "colab": {
          "base_uri": "https://localhost:8080/"
        },
        "id": "BnJfsDjKcVSF",
        "outputId": "f2a43338-f0d2-4e2e-b87b-26d065fd3746"
      },
      "source": [
        "# Apaga o arquivo \"cola_public_1.0.zip\"\n",
        "!rm cola_public_1.0.zip\n",
        "\n",
        "# Realiza o download do arquivo \"cola_public_1.0.zip\" da url especificada\n",
        "!wget https://nyu-mll.github.io/CoLA/cola_public_1.0.zip\n",
        "\n",
        "# Lista o diretório corrente e os arquivos.\n",
        "!pwd\n",
        "!ls -la"
      ],
      "execution_count": null,
      "outputs": [
        {
          "output_type": "stream",
          "name": "stdout",
          "text": [
            "rm: cannot remove 'cola_public_1.0.zip': No such file or directory\n",
            "--2023-10-29 00:40:35--  https://nyu-mll.github.io/CoLA/cola_public_1.0.zip\n",
            "Resolving nyu-mll.github.io (nyu-mll.github.io)... 185.199.108.153, 185.199.109.153, 185.199.110.153, ...\n",
            "Connecting to nyu-mll.github.io (nyu-mll.github.io)|185.199.108.153|:443... connected.\n",
            "HTTP request sent, awaiting response... 200 OK\n",
            "Length: 260499 (254K) [application/zip]\n",
            "Saving to: ‘cola_public_1.0.zip’\n",
            "\n",
            "cola_public_1.0.zip 100%[===================>] 254.39K  --.-KB/s    in 0.1s    \n",
            "\n",
            "2023-10-29 00:40:37 (2.03 MB/s) - ‘cola_public_1.0.zip’ saved [260499/260499]\n",
            "\n",
            "/content\n",
            "total 276\n",
            "drwxr-xr-x 1 root root   4096 Oct 29 00:40 .\n",
            "drwxr-xr-x 1 root root   4096 Oct 29 00:40 ..\n",
            "-rw-r--r-- 1 root root 260499 Nov 16  2021 cola_public_1.0.zip\n",
            "drwxr-xr-x 4 root root   4096 Oct 26 13:24 .config\n",
            "drwxr-xr-x 2 root root   4096 Oct 29 00:40 diretorio_exemplo\n",
            "drwxr-xr-x 1 root root   4096 Oct 26 13:24 sample_data\n"
          ]
        }
      ]
    },
    {
      "cell_type": "markdown",
      "source": [
        "### Download de arquivo com WGET via subprocesso"
      ],
      "metadata": {
        "id": "rxLznSjq0V9v"
      }
    },
    {
      "cell_type": "code",
      "source": [
        "#Import das bibliotecas\n",
        "import subprocess\n",
        "\n",
        "# URL origem\n",
        "url = 'https://nyu-mll.github.io/CoLA/cola_public_1.0.zip'\n",
        "\n",
        "# Nome destino\n",
        "destino = 'cola_public_1.0.zip'\n",
        "\n",
        "# Executa o comando wbet no prompt\n",
        "subprocess.call([\"wget\", url, \"-O\", destino])"
      ],
      "metadata": {
        "id": "ucVEMvKh0VgO",
        "colab": {
          "base_uri": "https://localhost:8080/"
        },
        "outputId": "e413867b-0c0c-4da1-8622-1f744b808dcb"
      },
      "execution_count": null,
      "outputs": [
        {
          "output_type": "execute_result",
          "data": {
            "text/plain": [
              "0"
            ]
          },
          "metadata": {},
          "execution_count": 8
        }
      ]
    },
    {
      "cell_type": "markdown",
      "metadata": {
        "id": "qqoFoPhiCyvg"
      },
      "source": [
        "### Download de arquivo com WGET biblioteca"
      ]
    },
    {
      "cell_type": "markdown",
      "metadata": {
        "id": "Qv-UoMtkC4Lp"
      },
      "source": [
        "Usa a biblioteca  para realizar o download de um arquivo."
      ]
    },
    {
      "cell_type": "code",
      "metadata": {
        "colab": {
          "base_uri": "https://localhost:8080/"
        },
        "id": "4y76utNHC8_o",
        "outputId": "998f50f9-c89b-4678-bda5-807ed92a4902"
      },
      "source": [
        "!pip install wget"
      ],
      "execution_count": null,
      "outputs": [
        {
          "output_type": "stream",
          "name": "stdout",
          "text": [
            "Collecting wget\n",
            "  Downloading wget-3.2.zip (10 kB)\n",
            "  Preparing metadata (setup.py) ... \u001b[?25l\u001b[?25hdone\n",
            "Building wheels for collected packages: wget\n",
            "  Building wheel for wget (setup.py) ... \u001b[?25l\u001b[?25hdone\n",
            "  Created wheel for wget: filename=wget-3.2-py3-none-any.whl size=9655 sha256=c01b70f294be7e5b1fe0eebbd4b1510ba10440c286c359c3e59ea676a69b9ae1\n",
            "  Stored in directory: /root/.cache/pip/wheels/8b/f1/7f/5c94f0a7a505ca1c81cd1d9208ae2064675d97582078e6c769\n",
            "Successfully built wget\n",
            "Installing collected packages: wget\n",
            "Successfully installed wget-3.2\n"
          ]
        }
      ]
    },
    {
      "cell_type": "code",
      "metadata": {
        "colab": {
          "base_uri": "https://localhost:8080/"
        },
        "id": "T5d6WeQTC9d3",
        "outputId": "f186c824-7965-4600-95ff-d650af83a1d8"
      },
      "source": [
        "# Import das bibliotecas\n",
        "import wget\n",
        "import os\n",
        "\n",
        "# Apaga o arquivo \"cola_public_1.0.zip\"\n",
        "!rm cola_public_1.0.zip\n",
        "\n",
        "# url para o arquivo a ser feito o download\n",
        "url = \"https://nyu-mll.github.io/CoLA/cola_public_1.0.zip\"\n",
        "\n",
        "# Realiza o download do arquivo \"cola_public_1.0.zip\" da url especificada\n",
        "wget.download(url, \"./cola_public_1.1.zip\")\n",
        "\n",
        "# Lista o diretório corrente e os arquivos.\n",
        "!pwd\n",
        "!ls -la"
      ],
      "execution_count": null,
      "outputs": [
        {
          "output_type": "stream",
          "name": "stdout",
          "text": [
            "/content\n",
            "total 276\n",
            "drwxr-xr-x 1 root root   4096 Oct 29 00:40 .\n",
            "drwxr-xr-x 1 root root   4096 Oct 29 00:40 ..\n",
            "-rw-r--r-- 1 root root 260499 Oct 29 00:40 cola_public_1.1.zip\n",
            "drwxr-xr-x 4 root root   4096 Oct 26 13:24 .config\n",
            "drwxr-xr-x 2 root root   4096 Oct 29 00:40 diretorio_exemplo\n",
            "drwxr-xr-x 1 root root   4096 Oct 26 13:24 sample_data\n"
          ]
        }
      ]
    },
    {
      "cell_type": "markdown",
      "metadata": {
        "id": "5vWCAuljnYFO"
      },
      "source": [
        "### Download de arquivo grande com WGET do GoogleDrive via SO\n",
        "\n",
        "https://gist.github.com/iamtekeste/3cdfd0366ebfd2c0d805"
      ]
    },
    {
      "cell_type": "code",
      "metadata": {
        "colab": {
          "base_uri": "https://localhost:8080/"
        },
        "id": "IMRv_RkdnY_L",
        "outputId": "f223ec89-272f-4e66-ab5e-8db4771bc42f"
      },
      "source": [
        "# Nome do arquivo a ser criado\n",
        "NOME_ARQUIVO = \"imdb-reviews-pt-br.zip\"\n",
        "\n",
        "# Realiza o download do arquivo\n",
        "!wget --load-cookies /tmp/cookies.txt \"https://docs.google.com/uc?export=download&confirm=$(wget --quiet --save-cookies /tmp/cookies.txt --keep-session-cookies --no-check-certificate \"https://docs.google.com/uc?export=download&id=1LFtccnbqO2igtWRNaHXnpiu5_wFG0xVK\" -O- | sed -rn \"s/.*confirm=([0-9A-Za-z_]+).*/\\1\\n/p\")&id=1LFtccnbqO2igtWRNaHXnpiu5_wFG0xVK\" -O \"$NOME_ARQUIVO\" && rm -rf /tmp/cookies.txt"
      ],
      "execution_count": null,
      "outputs": [
        {
          "output_type": "stream",
          "name": "stdout",
          "text": [
            "--2023-10-29 00:40:50--  https://docs.google.com/uc?export=download&confirm=&id=1LFtccnbqO2igtWRNaHXnpiu5_wFG0xVK\n",
            "Resolving docs.google.com (docs.google.com)... 64.233.188.102, 64.233.188.113, 64.233.188.100, ...\n",
            "Connecting to docs.google.com (docs.google.com)|64.233.188.102|:443... connected.\n",
            "HTTP request sent, awaiting response... 404 Not Found\n",
            "2023-10-29 00:40:51 ERROR 404: Not Found.\n",
            "\n"
          ]
        }
      ]
    },
    {
      "cell_type": "code",
      "metadata": {
        "colab": {
          "base_uri": "https://localhost:8080/"
        },
        "id": "oCk0Y3_lnmkX",
        "outputId": "06afd06c-2be3-4ea1-f84e-70cc52a87c33"
      },
      "source": [
        "ls -la"
      ],
      "execution_count": null,
      "outputs": [
        {
          "output_type": "stream",
          "name": "stdout",
          "text": [
            "total 276\n",
            "drwxr-xr-x 1 root root   4096 Oct 29 00:40 \u001b[0m\u001b[01;34m.\u001b[0m/\n",
            "drwxr-xr-x 1 root root   4096 Oct 29 00:40 \u001b[01;34m..\u001b[0m/\n",
            "-rw-r--r-- 1 root root 260499 Oct 29 00:40 cola_public_1.1.zip\n",
            "drwxr-xr-x 4 root root   4096 Oct 26 13:24 \u001b[01;34m.config\u001b[0m/\n",
            "drwxr-xr-x 2 root root   4096 Oct 29 00:40 \u001b[01;34mdiretorio_exemplo\u001b[0m/\n",
            "-rw-r--r-- 1 root root      0 Oct 29 00:40 imdb-reviews-pt-br.zip\n",
            "drwxr-xr-x 1 root root   4096 Oct 26 13:24 \u001b[01;34msample_data\u001b[0m/\n"
          ]
        }
      ]
    },
    {
      "cell_type": "markdown",
      "metadata": {
        "id": "Ak1stJC3McDu"
      },
      "source": [
        "### Download de arquivo com WGET do Onedrive via SO\n",
        "\n",
        "Incluir no final da url \"&download=1\""
      ]
    },
    {
      "cell_type": "code",
      "metadata": {
        "colab": {
          "base_uri": "https://localhost:8080/"
        },
        "id": "dznWGlqDMk5-",
        "outputId": "0c851481-6b36-4f12-ccd5-a0b08499a9a6"
      },
      "source": [
        "# Nome do arquivo a ser criado\n",
        "NOME_ARQUIVO = \"imdb-reviews-pt-br1.zip\"\n",
        "\n",
        "# Realiza o download do arquivo\n",
        "!wget -O \"$NOME_ARQUIVO\" --no-check-certificate  \"https://udesc-my.sharepoint.com/:u:/g/personal/91269423991_udesc_br/EclmoWeQxzdEkbGYpvnejU8BsUTQcW9a1ch2oqY9dDa4SA?e=1env2u&download=1\""
      ],
      "execution_count": null,
      "outputs": [
        {
          "output_type": "stream",
          "name": "stdout",
          "text": [
            "--2023-10-29 00:40:51--  https://udesc-my.sharepoint.com/:u:/g/personal/91269423991_udesc_br/EclmoWeQxzdEkbGYpvnejU8BsUTQcW9a1ch2oqY9dDa4SA?e=1env2u&download=1\n",
            "Resolving udesc-my.sharepoint.com (udesc-my.sharepoint.com)... 13.107.136.10, 13.107.138.10, 2603:1061:13f0:301a::, ...\n",
            "Connecting to udesc-my.sharepoint.com (udesc-my.sharepoint.com)|13.107.136.10|:443... connected.\n",
            "HTTP request sent, awaiting response... 302 Found\n",
            "Location: /personal/91269423991_udesc_br/Documents/DATAPUBLIC/imdb-reviews-pt-br.zip?ga=1 [following]\n",
            "--2023-10-29 00:40:53--  https://udesc-my.sharepoint.com/personal/91269423991_udesc_br/Documents/DATAPUBLIC/imdb-reviews-pt-br.zip?ga=1\n",
            "Reusing existing connection to udesc-my.sharepoint.com:443.\n",
            "HTTP request sent, awaiting response... 200 OK\n",
            "Length: 50783959 (48M) [application/x-zip-compressed]\n",
            "Saving to: ‘imdb-reviews-pt-br1.zip’\n",
            "\n",
            "imdb-reviews-pt-br1 100%[===================>]  48.43M  7.91MB/s    in 8.1s    \n",
            "\n",
            "2023-10-29 00:41:02 (6.00 MB/s) - ‘imdb-reviews-pt-br1.zip’ saved [50783959/50783959]\n",
            "\n"
          ]
        }
      ]
    },
    {
      "cell_type": "code",
      "metadata": {
        "colab": {
          "base_uri": "https://localhost:8080/"
        },
        "id": "birRrYtHRD3m",
        "outputId": "1207364d-3796-404e-fc9b-b7c424ccdd73"
      },
      "source": [
        "ls -la"
      ],
      "execution_count": null,
      "outputs": [
        {
          "output_type": "stream",
          "name": "stdout",
          "text": [
            "total 49872\n",
            "drwxr-xr-x 1 root root     4096 Oct 29 00:40 \u001b[0m\u001b[01;34m.\u001b[0m/\n",
            "drwxr-xr-x 1 root root     4096 Oct 29 00:40 \u001b[01;34m..\u001b[0m/\n",
            "-rw-r--r-- 1 root root   260499 Oct 29 00:40 cola_public_1.1.zip\n",
            "drwxr-xr-x 4 root root     4096 Oct 26 13:24 \u001b[01;34m.config\u001b[0m/\n",
            "drwxr-xr-x 2 root root     4096 Oct 29 00:40 \u001b[01;34mdiretorio_exemplo\u001b[0m/\n",
            "-rw-r--r-- 1 root root 50783959 Dec 16  2020 imdb-reviews-pt-br1.zip\n",
            "-rw-r--r-- 1 root root        0 Oct 29 00:40 imdb-reviews-pt-br.zip\n",
            "drwxr-xr-x 1 root root     4096 Oct 26 13:24 \u001b[01;34msample_data\u001b[0m/\n"
          ]
        }
      ]
    },
    {
      "cell_type": "markdown",
      "source": [
        "### Download de arquivo com curl via SO\n",
        "\n",
        "Parâmetro `-o` especifica onde baixar o arquivo.\n",
        "\n",
        "```\n",
        "!curl -O nomearquivodestino url\n",
        "```\n"
      ],
      "metadata": {
        "id": "fkd6DPZe1UDt"
      }
    },
    {
      "cell_type": "code",
      "source": [
        "# Executa o comando curl no prompt\n",
        "!curl -o 'cola_public_1.0.zip' 'https://nyu-mll.github.io/CoLA/cola_public_1.0.zip'"
      ],
      "metadata": {
        "id": "3nLWB4ha1VD2",
        "colab": {
          "base_uri": "https://localhost:8080/"
        },
        "outputId": "e77bbf48-b920-4e93-c56f-f4360ed832dd"
      },
      "execution_count": null,
      "outputs": [
        {
          "output_type": "stream",
          "name": "stdout",
          "text": [
            "  % Total    % Received % Xferd  Average Speed   Time    Time     Time  Current\n",
            "                                 Dload  Upload   Total   Spent    Left  Speed\n",
            "100  254k  100  254k    0     0   342k      0 --:--:-- --:--:-- --:--:--  342k\n"
          ]
        }
      ]
    },
    {
      "cell_type": "markdown",
      "source": [
        "### Download arquivo com curl via subprocesso\n",
        "\n",
        "Parâmetro `-o` especifica onde baixar o arquivo."
      ],
      "metadata": {
        "id": "vSYSK0T604aI"
      }
    },
    {
      "cell_type": "code",
      "source": [
        "#Import das bibliotecas\n",
        "import subprocess\n",
        "\n",
        "# URL origem\n",
        "url = 'https://nyu-mll.github.io/CoLA/cola_public_1.0.zip'\n",
        "\n",
        "# Nome destino\n",
        "destino = 'cola_public_1.0.zip'\n",
        "\n",
        "# Executa o comando curl no prompt\n",
        "subprocess.call([\"curl\", \"-o\", destino, url])"
      ],
      "metadata": {
        "id": "qfY6idFg1ST-",
        "colab": {
          "base_uri": "https://localhost:8080/"
        },
        "outputId": "4d64870c-6a6b-4d37-a7ee-34142dd70f6c"
      },
      "execution_count": null,
      "outputs": [
        {
          "output_type": "execute_result",
          "data": {
            "text/plain": [
              "0"
            ]
          },
          "metadata": {},
          "execution_count": 16
        }
      ]
    },
    {
      "cell_type": "markdown",
      "metadata": {
        "id": "Lzcg-5Ooc1CN"
      },
      "source": [
        "## Descompacta um arquivo usando UNZIP"
      ]
    },
    {
      "cell_type": "markdown",
      "metadata": {
        "id": "MCc4gfYXc9Zc"
      },
      "source": [
        "O parâmetro **-o** é para substituir os arquivos existentes de outra descompactação."
      ]
    },
    {
      "cell_type": "code",
      "metadata": {
        "colab": {
          "base_uri": "https://localhost:8080/"
        },
        "id": "zu6xOIqSc5-z",
        "outputId": "e9fb2644-9943-4e5e-bace-1a04fad1432a"
      },
      "source": [
        "# Lista o diretório corrente e os arquivos.\n",
        "!pwd\n",
        "!ls -la\n",
        "\n",
        "# Apaga o diretório \"cola_public_1.0\" e seus arquivos\n",
        "!rm -rf cola_public_1.0\n",
        "\n",
        "# Descompacta o arquivo \"cola_public_1.0.zip\"\n",
        "!unzip -o /content/cola_public_1.1.zip\n",
        "\n",
        "# Lista os arquivos do diretório corrente\n",
        "!ls -la"
      ],
      "execution_count": null,
      "outputs": [
        {
          "output_type": "stream",
          "name": "stdout",
          "text": [
            "/content\n",
            "total 50128\n",
            "drwxr-xr-x 1 root root     4096 Oct 29 00:41 .\n",
            "drwxr-xr-x 1 root root     4096 Oct 29 00:40 ..\n",
            "-rw-r--r-- 1 root root   260499 Oct 29 00:41 cola_public_1.0.zip\n",
            "-rw-r--r-- 1 root root   260499 Oct 29 00:40 cola_public_1.1.zip\n",
            "drwxr-xr-x 4 root root     4096 Oct 26 13:24 .config\n",
            "drwxr-xr-x 2 root root     4096 Oct 29 00:40 diretorio_exemplo\n",
            "-rw-r--r-- 1 root root 50783959 Dec 16  2020 imdb-reviews-pt-br1.zip\n",
            "-rw-r--r-- 1 root root        0 Oct 29 00:40 imdb-reviews-pt-br.zip\n",
            "drwxr-xr-x 1 root root     4096 Oct 26 13:24 sample_data\n",
            "Archive:  /content/cola_public_1.1.zip\n",
            "   creating: cola_public_1.0/\n",
            "  inflating: cola_public_1.0/.DS_Store  \n",
            "   creating: __MACOSX/\n",
            "   creating: __MACOSX/cola_public_1.0/\n",
            "  inflating: __MACOSX/cola_public_1.0/._.DS_Store  \n",
            "  inflating: cola_public_1.0/README  \n",
            "  inflating: __MACOSX/cola_public_1.0/._README  \n",
            "   creating: cola_public_1.0/tokenized/\n",
            "  inflating: cola_public_1.0/tokenized/in_domain_dev.tsv  \n",
            "   creating: __MACOSX/cola_public_1.0/tokenized/\n",
            "  inflating: __MACOSX/cola_public_1.0/tokenized/._in_domain_dev.tsv  \n",
            "  inflating: cola_public_1.0/tokenized/in_domain_train.tsv  \n",
            "  inflating: __MACOSX/cola_public_1.0/tokenized/._in_domain_train.tsv  \n",
            "  inflating: cola_public_1.0/tokenized/out_of_domain_dev.tsv  \n",
            "  inflating: __MACOSX/cola_public_1.0/tokenized/._out_of_domain_dev.tsv  \n",
            "  inflating: __MACOSX/cola_public_1.0/._tokenized  \n",
            "   creating: cola_public_1.0/raw/\n",
            "  inflating: cola_public_1.0/raw/in_domain_dev.tsv  \n",
            "   creating: __MACOSX/cola_public_1.0/raw/\n",
            "  inflating: __MACOSX/cola_public_1.0/raw/._in_domain_dev.tsv  \n",
            "  inflating: cola_public_1.0/raw/in_domain_train.tsv  \n",
            "  inflating: __MACOSX/cola_public_1.0/raw/._in_domain_train.tsv  \n",
            "  inflating: cola_public_1.0/raw/out_of_domain_dev.tsv  \n",
            "  inflating: __MACOSX/cola_public_1.0/raw/._out_of_domain_dev.tsv  \n",
            "  inflating: __MACOSX/cola_public_1.0/._raw  \n",
            "  inflating: __MACOSX/._cola_public_1.0  \n",
            "total 50136\n",
            "drwxr-xr-x 1 root root     4096 Oct 29 00:41 .\n",
            "drwxr-xr-x 1 root root     4096 Oct 29 00:40 ..\n",
            "drwxr-xr-x 4 root root     4096 Dec 14  2018 cola_public_1.0\n",
            "-rw-r--r-- 1 root root   260499 Oct 29 00:41 cola_public_1.0.zip\n",
            "-rw-r--r-- 1 root root   260499 Oct 29 00:40 cola_public_1.1.zip\n",
            "drwxr-xr-x 4 root root     4096 Oct 26 13:24 .config\n",
            "drwxr-xr-x 2 root root     4096 Oct 29 00:40 diretorio_exemplo\n",
            "-rw-r--r-- 1 root root 50783959 Dec 16  2020 imdb-reviews-pt-br1.zip\n",
            "-rw-r--r-- 1 root root        0 Oct 29 00:40 imdb-reviews-pt-br.zip\n",
            "drwxrwxr-x 3 root root     4096 Dec 14  2018 __MACOSX\n",
            "drwxr-xr-x 1 root root     4096 Oct 26 13:24 sample_data\n"
          ]
        }
      ]
    },
    {
      "cell_type": "code",
      "metadata": {
        "colab": {
          "base_uri": "https://localhost:8080/"
        },
        "id": "GLM3PmyhOFnH",
        "outputId": "f79d64cf-06a5-490d-aedd-05934630fcf8"
      },
      "source": [
        "!ls -la"
      ],
      "execution_count": null,
      "outputs": [
        {
          "output_type": "stream",
          "name": "stdout",
          "text": [
            "total 50136\n",
            "drwxr-xr-x 1 root root     4096 Oct 29 00:41 .\n",
            "drwxr-xr-x 1 root root     4096 Oct 29 00:40 ..\n",
            "drwxr-xr-x 4 root root     4096 Dec 14  2018 cola_public_1.0\n",
            "-rw-r--r-- 1 root root   260499 Oct 29 00:41 cola_public_1.0.zip\n",
            "-rw-r--r-- 1 root root   260499 Oct 29 00:40 cola_public_1.1.zip\n",
            "drwxr-xr-x 4 root root     4096 Oct 26 13:24 .config\n",
            "drwxr-xr-x 2 root root     4096 Oct 29 00:40 diretorio_exemplo\n",
            "-rw-r--r-- 1 root root 50783959 Dec 16  2020 imdb-reviews-pt-br1.zip\n",
            "-rw-r--r-- 1 root root        0 Oct 29 00:40 imdb-reviews-pt-br.zip\n",
            "drwxrwxr-x 3 root root     4096 Dec 14  2018 __MACOSX\n",
            "drwxr-xr-x 1 root root     4096 Oct 26 13:24 sample_data\n"
          ]
        }
      ]
    },
    {
      "cell_type": "markdown",
      "metadata": {
        "id": "Ry045UHNRAhK"
      },
      "source": [
        "## Retornando a lista de arquivos do diretório corrente"
      ]
    },
    {
      "cell_type": "code",
      "metadata": {
        "colab": {
          "base_uri": "https://localhost:8080/"
        },
        "id": "5NvpcRqYRC-f",
        "outputId": "03c867a4-13cd-4f9b-de8d-f6909dbd6944"
      },
      "source": [
        "# Import das bibliotecas\n",
        "import os\n",
        "\n",
        "# Recupera o conteúdo do diretório\n",
        "conteudoDiretorio = os.listdir(\"/content/\")\n",
        "\n",
        "# Percorre a lista do conteúdo do diretório\n",
        "for conteudo in conteudoDiretorio:\n",
        "    print(conteudo)"
      ],
      "execution_count": null,
      "outputs": [
        {
          "output_type": "stream",
          "name": "stdout",
          "text": [
            ".config\n",
            "cola_public_1.0\n",
            "imdb-reviews-pt-br1.zip\n",
            "__MACOSX\n",
            "cola_public_1.1.zip\n",
            "cola_public_1.0.zip\n",
            "imdb-reviews-pt-br.zip\n",
            "diretorio_exemplo\n",
            "sample_data\n"
          ]
        }
      ]
    },
    {
      "cell_type": "markdown",
      "metadata": {
        "id": "pvIHc5aMzxIf"
      },
      "source": [
        "## Integração com Drive\n",
        "\n",
        "O Google Colaboratory é integrado ao GoogleDrive. Ele permite que você compartilhe, comente e colabore no mesmo documento com várias pessoas:\n",
        "\n",
        "* O botão **COMPARTILHAR** (canto superior direito da barra de ferramentas) permite que você compartilhe o bloco de anotações e controle as permissões definidas nele.\n",
        "\n",
        "* **Arquivo-> Salvar um cópia no Drive**, cria uma cópia do notebook no Drive.\n",
        "\n",
        "* **Arquivo-> Salvar**, salva as alterações do notebook, apesar de existir o salvamente automático.\n",
        "\n",
        "* **Arquivo-> Salvar e fixar revisão**, salva e fixa a versão para que ela não seja excluída do histórico de revisão.\n",
        "\n",
        "* **Arquivo-> Histórico de revisões** mostra o histórico de revisão do notebook."
      ]
    },
    {
      "cell_type": "markdown",
      "metadata": {
        "id": "3qqF3jjVde15"
      },
      "source": [
        "### Identificando o ambiente Colab"
      ]
    },
    {
      "cell_type": "code",
      "metadata": {
        "colab": {
          "base_uri": "https://localhost:8080/"
        },
        "id": "PH5Ys3HsNCub",
        "outputId": "b40c4557-ad3f-4e1f-cef3-c0bdf43be6ba"
      },
      "source": [
        "# Se estiver executando no Google Colaboratory\n",
        "import sys\n",
        "\n",
        "# Retorna true ou false se estiver no Google Colaboratory\n",
        "IN_COLAB = \"google.colab\" in sys.modules\n",
        "\n",
        "if IN_COLAB:\n",
        "  print(\"Executando no Google Colaboratory\")\n",
        "else:\n",
        "  print(\"Não executando no Google Colaboratory!\")"
      ],
      "execution_count": null,
      "outputs": [
        {
          "output_type": "stream",
          "name": "stdout",
          "text": [
            "Executando no Google Colaboratory\n"
          ]
        }
      ]
    },
    {
      "cell_type": "markdown",
      "metadata": {
        "id": "6WQDzt3UqYvc"
      },
      "source": [
        "### Acesso e download de Arquivo Grande com PyDrive do GoogleDrive"
      ]
    },
    {
      "cell_type": "markdown",
      "metadata": {
        "id": "ChjikTc0PVUc"
      },
      "source": [
        "Instando o PyDrive no Google Colaboratory.\n",
        "\n",
        "No Jupiter Notebook executar através \"Anaconda Prompt\".\n",
        "\n",
        "PyDrive é uma biblioteca de manipulação de arquivos para o google drive.<br>\n",
        "\n",
        "https://colab.research.google.com/notebooks/io.ipynb#scrollTo=7taylj9wpsA2"
      ]
    },
    {
      "cell_type": "code",
      "metadata": {
        "colab": {
          "base_uri": "https://localhost:8080/"
        },
        "id": "oS-Euca2PWC2",
        "outputId": "1542af82-6e35-41d8-b3c8-ef7fd1f3108d"
      },
      "source": [
        " pip install PyDrive"
      ],
      "execution_count": null,
      "outputs": [
        {
          "output_type": "stream",
          "name": "stdout",
          "text": [
            "Requirement already satisfied: PyDrive in /usr/local/lib/python3.10/dist-packages (1.3.1)\n",
            "Requirement already satisfied: google-api-python-client>=1.2 in /usr/local/lib/python3.10/dist-packages (from PyDrive) (2.84.0)\n",
            "Requirement already satisfied: oauth2client>=4.0.0 in /usr/local/lib/python3.10/dist-packages (from PyDrive) (4.1.3)\n",
            "Requirement already satisfied: PyYAML>=3.0 in /usr/local/lib/python3.10/dist-packages (from PyDrive) (6.0.1)\n",
            "Requirement already satisfied: httplib2<1dev,>=0.15.0 in /usr/local/lib/python3.10/dist-packages (from google-api-python-client>=1.2->PyDrive) (0.22.0)\n",
            "Requirement already satisfied: google-auth<3.0.0dev,>=1.19.0 in /usr/local/lib/python3.10/dist-packages (from google-api-python-client>=1.2->PyDrive) (2.17.3)\n",
            "Requirement already satisfied: google-auth-httplib2>=0.1.0 in /usr/local/lib/python3.10/dist-packages (from google-api-python-client>=1.2->PyDrive) (0.1.1)\n",
            "Requirement already satisfied: google-api-core!=2.0.*,!=2.1.*,!=2.2.*,!=2.3.0,<3.0.0dev,>=1.31.5 in /usr/local/lib/python3.10/dist-packages (from google-api-python-client>=1.2->PyDrive) (2.11.1)\n",
            "Requirement already satisfied: uritemplate<5,>=3.0.1 in /usr/local/lib/python3.10/dist-packages (from google-api-python-client>=1.2->PyDrive) (4.1.1)\n",
            "Requirement already satisfied: pyasn1>=0.1.7 in /usr/local/lib/python3.10/dist-packages (from oauth2client>=4.0.0->PyDrive) (0.5.0)\n",
            "Requirement already satisfied: pyasn1-modules>=0.0.5 in /usr/local/lib/python3.10/dist-packages (from oauth2client>=4.0.0->PyDrive) (0.3.0)\n",
            "Requirement already satisfied: rsa>=3.1.4 in /usr/local/lib/python3.10/dist-packages (from oauth2client>=4.0.0->PyDrive) (4.9)\n",
            "Requirement already satisfied: six>=1.6.1 in /usr/local/lib/python3.10/dist-packages (from oauth2client>=4.0.0->PyDrive) (1.16.0)\n",
            "Requirement already satisfied: googleapis-common-protos<2.0.dev0,>=1.56.2 in /usr/local/lib/python3.10/dist-packages (from google-api-core!=2.0.*,!=2.1.*,!=2.2.*,!=2.3.0,<3.0.0dev,>=1.31.5->google-api-python-client>=1.2->PyDrive) (1.61.0)\n",
            "Requirement already satisfied: protobuf!=3.20.0,!=3.20.1,!=4.21.0,!=4.21.1,!=4.21.2,!=4.21.3,!=4.21.4,!=4.21.5,<5.0.0.dev0,>=3.19.5 in /usr/local/lib/python3.10/dist-packages (from google-api-core!=2.0.*,!=2.1.*,!=2.2.*,!=2.3.0,<3.0.0dev,>=1.31.5->google-api-python-client>=1.2->PyDrive) (3.20.3)\n",
            "Requirement already satisfied: requests<3.0.0.dev0,>=2.18.0 in /usr/local/lib/python3.10/dist-packages (from google-api-core!=2.0.*,!=2.1.*,!=2.2.*,!=2.3.0,<3.0.0dev,>=1.31.5->google-api-python-client>=1.2->PyDrive) (2.31.0)\n",
            "Requirement already satisfied: cachetools<6.0,>=2.0.0 in /usr/local/lib/python3.10/dist-packages (from google-auth<3.0.0dev,>=1.19.0->google-api-python-client>=1.2->PyDrive) (5.3.2)\n",
            "Requirement already satisfied: pyparsing!=3.0.0,!=3.0.1,!=3.0.2,!=3.0.3,<4,>=2.4.2 in /usr/local/lib/python3.10/dist-packages (from httplib2<1dev,>=0.15.0->google-api-python-client>=1.2->PyDrive) (3.1.1)\n",
            "Requirement already satisfied: charset-normalizer<4,>=2 in /usr/local/lib/python3.10/dist-packages (from requests<3.0.0.dev0,>=2.18.0->google-api-core!=2.0.*,!=2.1.*,!=2.2.*,!=2.3.0,<3.0.0dev,>=1.31.5->google-api-python-client>=1.2->PyDrive) (3.3.1)\n",
            "Requirement already satisfied: idna<4,>=2.5 in /usr/local/lib/python3.10/dist-packages (from requests<3.0.0.dev0,>=2.18.0->google-api-core!=2.0.*,!=2.1.*,!=2.2.*,!=2.3.0,<3.0.0dev,>=1.31.5->google-api-python-client>=1.2->PyDrive) (3.4)\n",
            "Requirement already satisfied: urllib3<3,>=1.21.1 in /usr/local/lib/python3.10/dist-packages (from requests<3.0.0.dev0,>=2.18.0->google-api-core!=2.0.*,!=2.1.*,!=2.2.*,!=2.3.0,<3.0.0dev,>=1.31.5->google-api-python-client>=1.2->PyDrive) (2.0.7)\n",
            "Requirement already satisfied: certifi>=2017.4.17 in /usr/local/lib/python3.10/dist-packages (from requests<3.0.0.dev0,>=2.18.0->google-api-core!=2.0.*,!=2.1.*,!=2.2.*,!=2.3.0,<3.0.0dev,>=1.31.5->google-api-python-client>=1.2->PyDrive) (2023.7.22)\n"
          ]
        }
      ]
    },
    {
      "cell_type": "markdown",
      "metadata": {
        "id": "ZH-gurwVPNQj"
      },
      "source": [
        "Importando as bibliotecas de manipulação de dos arquivos pydrive<br>.\n",
        "https://gsuitedevs.github.io/PyDrive/docs/build/html/index.html#"
      ]
    },
    {
      "cell_type": "code",
      "metadata": {
        "colab": {
          "base_uri": "https://localhost:8080/"
        },
        "id": "gEYh-xl5E9VY",
        "outputId": "f0b5425c-3e66-48f2-8b45-14fc5cb370af"
      },
      "source": [
        "from pydrive.auth import GoogleAuth\n",
        "from pydrive.drive import GoogleDrive\n",
        "from oauth2client.client import GoogleCredentials\n",
        "\n",
        "# Se estiver executando no Google Colaboratory\n",
        "import sys\n",
        "# Retorna true ou false se estiver no Google Colaboratory\n",
        "IN_COLAB = \"google.colab\" in sys.modules\n",
        "if IN_COLAB:\n",
        "  # Biblioteca para autenticar o usuário somente no Google Colaboratory\n",
        "  from google.colab import auth\n",
        "\n",
        "print(\"Import realizado!\")"
      ],
      "execution_count": null,
      "outputs": [
        {
          "output_type": "stream",
          "name": "stdout",
          "text": [
            "Import realizado!\n"
          ]
        }
      ]
    },
    {
      "cell_type": "markdown",
      "metadata": {
        "id": "MiQqJQcbPEE8"
      },
      "source": [
        "Autenticando o usuário"
      ]
    },
    {
      "cell_type": "code",
      "metadata": {
        "id": "AkHNHYBBExy7"
      },
      "source": [
        "# Se estiver executando no Google Colaboratory\n",
        "if IN_COLAB:\n",
        "   auth.authenticate_user()\n",
        "   gauth = GoogleAuth()\n",
        "   gauth.credentials = GoogleCredentials.get_application_default()\n",
        "   drive = GoogleDrive(gauth)"
      ],
      "execution_count": null,
      "outputs": []
    },
    {
      "cell_type": "markdown",
      "metadata": {
        "id": "rcsTLhGjPfVi"
      },
      "source": [
        "Baixa o arquivo do id especificado em um pasta do google drive."
      ]
    },
    {
      "cell_type": "code",
      "metadata": {
        "colab": {
          "base_uri": "https://localhost:8080/"
        },
        "id": "FlaCGYoH47tf",
        "outputId": "3a5f180e-d618-4869-ef97-8ada2cd5ecc3"
      },
      "source": [
        "# Biblioteca para acessar o sistema de arquivos\n",
        "import os\n",
        "\n",
        "# Id do arquivo do Google Drive\n",
        "# Downloaded = drive.CreateFile({\"id\":\"0B7XkCwpI5KDYNlNUTTlSS21pQmM\"})\n",
        "\n",
        "# Download do arquivo para a pasta e arquivos especificados\n",
        "# Downloaded.GetContentFile(\"GoogleNews-vectors-negative300.bin.gz\")\n",
        "\n",
        "# Verifica se o arquivo do modelo existe\n",
        "if not os.path.exists(\"GoogleNews-vectors-negative300.bin.gz\"):\n",
        "    # Se estiver executando no Google Colaboratory\n",
        "    if IN_COLAB:\n",
        "        # Realiza o download do arquivo\n",
        "        downloaded = drive.CreateFile({\"id\":\"0B7XkCwpI5KDYNlNUTTlSS21pQmM\"})\n",
        "\n",
        "        # Salva o arquivo no diretório \"content\" do colab\n",
        "        downloaded.GetContentFile(\"GoogleNews-vectors-negative300.bin.gz\")\n",
        "\n",
        "        print(\"Arquivo {} baixado\".format(\"GoogleNews-vectors-negative300.bin.gz\"))\n",
        "else:\n",
        "    print(\"Arquivo {} já existe\".format(\"GoogleNews-vectors-negative300.bin.gz\"))"
      ],
      "execution_count": null,
      "outputs": [
        {
          "output_type": "stream",
          "name": "stdout",
          "text": [
            "Arquivo GoogleNews-vectors-negative300.bin.gz baixado\n"
          ]
        }
      ]
    },
    {
      "cell_type": "markdown",
      "metadata": {
        "id": "YP5N6uu5N3Iu"
      },
      "source": [
        "Mostra o diretório corrente."
      ]
    },
    {
      "cell_type": "code",
      "metadata": {
        "colab": {
          "base_uri": "https://localhost:8080/"
        },
        "id": "gMVO2c6WN5yX",
        "outputId": "76ed27d5-14a0-4498-d18d-6a57ebb648ae"
      },
      "source": [
        "!pwd"
      ],
      "execution_count": null,
      "outputs": [
        {
          "output_type": "stream",
          "name": "stdout",
          "text": [
            "/content\n"
          ]
        }
      ]
    },
    {
      "cell_type": "markdown",
      "metadata": {
        "id": "9U3Zr4S6NxYu"
      },
      "source": [
        "Lista os arquivos do diretório corrente."
      ]
    },
    {
      "cell_type": "code",
      "metadata": {
        "colab": {
          "base_uri": "https://localhost:8080/"
        },
        "id": "XsB-XFSyNzqT",
        "outputId": "bcc7d223-56fa-4cf0-e586-4c2a10652fff"
      },
      "source": [
        "!ls -la"
      ],
      "execution_count": null,
      "outputs": [
        {
          "output_type": "stream",
          "name": "stdout",
          "text": [
            "total 1658592\n",
            "drwxr-xr-x 1 root root       4096 Oct 29 00:41 .\n",
            "drwxr-xr-x 1 root root       4096 Oct 29 00:40 ..\n",
            "drwxr-xr-x 4 root root       4096 Dec 14  2018 cola_public_1.0\n",
            "-rw-r--r-- 1 root root     260499 Oct 29 00:41 cola_public_1.0.zip\n",
            "-rw-r--r-- 1 root root     260499 Oct 29 00:40 cola_public_1.1.zip\n",
            "drwxr-xr-x 1 root root       4096 Oct 29 00:41 .config\n",
            "drwxr-xr-x 2 root root       4096 Oct 29 00:40 diretorio_exemplo\n",
            "-rw-r--r-- 1 root root 1647046227 Oct 29 00:41 GoogleNews-vectors-negative300.bin.gz\n",
            "-rw-r--r-- 1 root root   50783959 Dec 16  2020 imdb-reviews-pt-br1.zip\n",
            "-rw-r--r-- 1 root root          0 Oct 29 00:40 imdb-reviews-pt-br.zip\n",
            "drwxrwxr-x 3 root root       4096 Dec 14  2018 __MACOSX\n",
            "drwxr-xr-x 1 root root       4096 Oct 26 13:24 sample_data\n"
          ]
        }
      ]
    },
    {
      "cell_type": "markdown",
      "metadata": {
        "id": "415S_PMdYNHo"
      },
      "source": [
        "### Montando uma pasta no GoogleDrive para o Colaboratory"
      ]
    },
    {
      "cell_type": "markdown",
      "metadata": {
        "id": "geucmbQyP54y"
      },
      "source": [
        "Montando uma pasta para um projeto do Google Colaboratory a partir do Google Drive.\n",
        "\n",
        "Para montar a pasta foi utilizada as próprias as ferramentas do Google Colaboratory, que exige a autenticação do usuário em uma outra janela do navegador.<br>\n",
        "\n",
        "O usuário precisar conceder  permissão para o **Google Drive File Stream** acessar o seu Google Drive.\n",
        "\n",
        "Copie o código de autorização da URL apresentada e copie e cole na caixa do código de autorização.\n",
        "\n",
        "https://colab.research.google.com/notebooks/io.ipynb#scrollTo=c2W5A2px3doP\n",
        "\n",
        "**Necessário setar variável IN_COLAB.**"
      ]
    },
    {
      "cell_type": "code",
      "metadata": {
        "colab": {
          "base_uri": "https://localhost:8080/"
        },
        "id": "pcATNcDbQfy1",
        "outputId": "a456aebf-0378-4604-f200-2461c04f12a2"
      },
      "source": [
        "# Se estiver executando no Google Colaboratory\n",
        "if IN_COLAB:\n",
        "    # Import necessário\n",
        "    from google.colab import drive\n",
        "\n",
        "    # Monta o drive na pasta especificada\n",
        "    drive.mount(\"/content/drive\")"
      ],
      "execution_count": null,
      "outputs": [
        {
          "output_type": "stream",
          "name": "stdout",
          "text": [
            "Mounted at /content/drive\n"
          ]
        }
      ]
    },
    {
      "cell_type": "markdown",
      "metadata": {
        "id": "ExYVdtqwN8jo"
      },
      "source": [
        "Mostra o diretório corrente."
      ]
    },
    {
      "cell_type": "code",
      "metadata": {
        "colab": {
          "base_uri": "https://localhost:8080/"
        },
        "id": "P7t2PnJUN-GI",
        "outputId": "1409fa14-378a-44cb-d724-ca0874c7c425"
      },
      "source": [
        "!pwd"
      ],
      "execution_count": null,
      "outputs": [
        {
          "output_type": "stream",
          "name": "stdout",
          "text": [
            "/content\n"
          ]
        }
      ]
    },
    {
      "cell_type": "markdown",
      "metadata": {
        "id": "f5pNKqq9OFBp"
      },
      "source": [
        "Lista os arquivos do diretório corrente."
      ]
    },
    {
      "cell_type": "code",
      "metadata": {
        "colab": {
          "base_uri": "https://localhost:8080/"
        },
        "id": "JhHRbB3VHq87",
        "outputId": "b9ab321e-3304-49ca-9ee5-c952ff76b59a"
      },
      "source": [
        "!ls -la"
      ],
      "execution_count": null,
      "outputs": [
        {
          "output_type": "stream",
          "name": "stdout",
          "text": [
            "total 1658596\n",
            "drwxr-xr-x 1 root root       4096 Oct 29 00:42 .\n",
            "drwxr-xr-x 1 root root       4096 Oct 29 00:40 ..\n",
            "drwxr-xr-x 4 root root       4096 Dec 14  2018 cola_public_1.0\n",
            "-rw-r--r-- 1 root root     260499 Oct 29 00:41 cola_public_1.0.zip\n",
            "-rw-r--r-- 1 root root     260499 Oct 29 00:40 cola_public_1.1.zip\n",
            "drwxr-xr-x 1 root root       4096 Oct 29 00:41 .config\n",
            "drwxr-xr-x 2 root root       4096 Oct 29 00:40 diretorio_exemplo\n",
            "drwx------ 5 root root       4096 Oct 29 00:42 drive\n",
            "-rw-r--r-- 1 root root 1647046227 Oct 29 00:41 GoogleNews-vectors-negative300.bin.gz\n",
            "-rw-r--r-- 1 root root   50783959 Dec 16  2020 imdb-reviews-pt-br1.zip\n",
            "-rw-r--r-- 1 root root          0 Oct 29 00:40 imdb-reviews-pt-br.zip\n",
            "drwxrwxr-x 3 root root       4096 Dec 14  2018 __MACOSX\n",
            "drwxr-xr-x 1 root root       4096 Oct 26 13:24 sample_data\n"
          ]
        }
      ]
    },
    {
      "cell_type": "markdown",
      "metadata": {
        "id": "ldOuGR5P5zHU"
      },
      "source": [
        "# Arquivos Padrão\n",
        "\n",
        "Os arquivos podem ser abertos de duas maneiras: para  leitura (\"r\") ou para escrita (\"w\").\n",
        "\n",
        "https://aprendacompy.readthedocs.io/pt/latest/capitulo_11.html\n",
        "\n",
        "https://cadernoscicomp.com.br/tutorial/introducao-a-programacao-em-python-3/manipulando-arquivos/"
      ]
    },
    {
      "cell_type": "markdown",
      "metadata": {
        "id": "12z97N5Z60qH"
      },
      "source": [
        "## Criando e abrindo para escrita\n",
        "\n",
        "O argumento do método write tem que ser uma string com o nome do arquivo e o modo de abertura.\n",
        "\n",
        "Modos de abertura:\n",
        "* leitura (\"r\")\n",
        "* escrita (\"w\")\n",
        "* append (\"a\")\n",
        "\n",
        "Tipo do arquivo:\n",
        "* Modo binário (\"b\")\n",
        "* Modo misto com \"+\"\n",
        "(leitura e escrita)\n",
        "\n",
        "**O \"w\" abre um arquivo para escrita, mas apaga o conteúdo se arquivo já existir.**"
      ]
    },
    {
      "cell_type": "code",
      "metadata": {
        "id": "-OYxiYb351b_"
      },
      "source": [
        "# Cria e abre o arquivo \"arquivo.txt\" para escrita\n",
        "arquivo = open(\"arquivo.txt\", \"w\")\n",
        "\n",
        "# Escreve no arquivo\n",
        "linha = \"linha\" + str(1) + \" linha\" + str(2) + \"\\n\"\n",
        "arquivo.write(linha)\n",
        "\n",
        "linha = \"linha\" + str(3) + \" linha\" + str(4) + \"\\n\"\n",
        "arquivo.write(linha)\n",
        "\n",
        "# Fecha o arquivo\n",
        "arquivo.close()"
      ],
      "execution_count": null,
      "outputs": []
    },
    {
      "cell_type": "markdown",
      "metadata": {
        "id": "YlO1v2nnCe2J"
      },
      "source": [
        "Criando e abrindo o arquivo para a escrita"
      ]
    },
    {
      "cell_type": "code",
      "metadata": {
        "id": "WHhC4GOUChKi"
      },
      "source": [
        "\n",
        "# Cria e abre o arquivo \"arquivo.txt\" para escrita\n",
        "arquivo = open(\"arquivo.txt\", \"w\")\n",
        "\n",
        "# Escreve no arquivo\n",
        "arquivo.writelines(\"linha1 linha2\\n\")\n",
        "arquivo.writelines(\"linha3 linha4\")\n",
        "\n",
        "# Fecha o arquivo\n",
        "arquivo.close()"
      ],
      "execution_count": null,
      "outputs": []
    },
    {
      "cell_type": "markdown",
      "metadata": {
        "id": "OaCzgOUz7PsM"
      },
      "source": [
        "## Abrindo para leitura\n",
        "\n",
        "Se não especificarmos o  parâmetro \"\\r\", a forma padrão leitura será utilizada."
      ]
    },
    {
      "cell_type": "code",
      "metadata": {
        "colab": {
          "base_uri": "https://localhost:8080/"
        },
        "id": "PuwimZRN9nNA",
        "outputId": "129b0892-429b-4cf8-90e7-2d58a3508c2e"
      },
      "source": [
        "# Abre o arquivo \"arquivo.txt\" para leitura\n",
        "arquivo = open(\"arquivo.txt\", \"r\")\n",
        "\n",
        "# Lê a primeira linha\n",
        "print(arquivo.read())\n",
        "\n",
        "# Lê a segunda linha\n",
        "print(arquivo.read())\n",
        "\n",
        "# Fecha o arquivo\n",
        "arquivo.close()"
      ],
      "execution_count": null,
      "outputs": [
        {
          "output_type": "stream",
          "name": "stdout",
          "text": [
            "linha1 linha2\n",
            "linha3 linha4\n",
            "\n"
          ]
        }
      ]
    },
    {
      "cell_type": "markdown",
      "metadata": {
        "id": "2h5O1RwV-M2R"
      },
      "source": [
        "## Leitura de linha a linha\n",
        "\n",
        "O método readline lê todos os caracteres e inclui o próximo caractere de nova linha(\\n)."
      ]
    },
    {
      "cell_type": "code",
      "metadata": {
        "colab": {
          "base_uri": "https://localhost:8080/"
        },
        "id": "7t_J0wbA9V2Y",
        "outputId": "156825be-0cfb-483b-a71d-0c24d99da64a"
      },
      "source": [
        "# Abre o arquivo \"arquivo.txt\" para leitura\n",
        "arquivo = open(\"arquivo.txt\", \"r\")\n",
        "\n",
        "# Lê a primeira linha\n",
        "print(arquivo.readline())\n",
        "\n",
        "# Lê a segunda linha\n",
        "print(arquivo.readline())\n",
        "\n",
        "# Fecha o arquivo\n",
        "arquivo.close()"
      ],
      "execution_count": null,
      "outputs": [
        {
          "output_type": "stream",
          "name": "stdout",
          "text": [
            "linha1 linha2\n",
            "\n",
            "linha3 linha4\n"
          ]
        }
      ]
    },
    {
      "cell_type": "markdown",
      "metadata": {
        "id": "0-bADk209ytu"
      },
      "source": [
        "## Lendo todas as linhas\n",
        "\n",
        "O método readlines retorna todas as linhas restantes como uma lista de strings."
      ]
    },
    {
      "cell_type": "code",
      "metadata": {
        "colab": {
          "base_uri": "https://localhost:8080/"
        },
        "id": "RTVeu3qm91ZP",
        "outputId": "b2ab91b3-1f61-4b9b-bc02-abe948b5689a"
      },
      "source": [
        "# Abre o arquivo \"arquivo.txt\" para leitura\n",
        "arquivo = open(\"arquivo.txt\", \"r\")\n",
        "\n",
        "# Lê todas as linhas\n",
        "print(arquivo.readlines())\n",
        "\n",
        "# Fecha o arquivo\n",
        "arquivo.close()"
      ],
      "execution_count": null,
      "outputs": [
        {
          "output_type": "stream",
          "name": "stdout",
          "text": [
            "['linha1 linha2\\n', 'linha3 linha4']\n"
          ]
        }
      ]
    },
    {
      "cell_type": "markdown",
      "metadata": {
        "id": "aHOGcu8d9WNM"
      },
      "source": [
        "##Adicinando linhas\n",
        "\n",
        "Lendo todas as linhas e adicionando conteúdo"
      ]
    },
    {
      "cell_type": "code",
      "metadata": {
        "colab": {
          "base_uri": "https://localhost:8080/"
        },
        "id": "_2Cb6STC-nS0",
        "outputId": "161835b6-f413-4fea-a000-729421b75a84"
      },
      "source": [
        "# Abre o arquivo \"arquivo.txt\" para leitura\n",
        "arquivo = open(\"arquivo.txt\", \"r\")\n",
        "\n",
        "#lê todas as linhas\n",
        "conteudo = arquivo.readlines()\n",
        "\n",
        "#adiciona o conteúdo\n",
        "#o método append() é proveniente de uma lista\n",
        "conteudo.append(\"\\nlinha5 linha6\")\n",
        "\n",
        "# Fecha o arquivo\n",
        "arquivo.close()\n",
        "\n",
        "#======abre para escrever no arquivo\n",
        "# Abre novamente o arquivo para escrita.\n",
        "arquivo = open(\"arquivo.txt\", \"w\")\n",
        "arquivo.writelines(conteudo)\n",
        "\n",
        "# Fecha o arquivo\n",
        "arquivo.close()\n",
        "\n",
        "# ======leitura do arquivo depois da adição\n",
        "# Abre o arquivo \"arquivo.txt\" para leitura\n",
        "arquivo = open(\"arquivo.txt\", \"r\")\n",
        "\n",
        "# Lê as linhas\n",
        "print(arquivo.readlines())\n",
        "\n",
        "# Fecha o arquivo\n",
        "arquivo.close()"
      ],
      "execution_count": null,
      "outputs": [
        {
          "output_type": "stream",
          "name": "stdout",
          "text": [
            "['linha1 linha2\\n', 'linha3 linha4\\n', 'linha5 linha6']\n"
          ]
        }
      ]
    },
    {
      "cell_type": "markdown",
      "metadata": {
        "id": "VP7PqSSa_pDU"
      },
      "source": [
        "## Percorrendo o arquivo com for\n",
        "\n",
        "Sempre tem que lembrar de chamar a função close()"
      ]
    },
    {
      "cell_type": "code",
      "metadata": {
        "colab": {
          "base_uri": "https://localhost:8080/"
        },
        "id": "X9Hg6WlS_9UE",
        "outputId": "e0df2af0-2897-472b-c184-75630a73dff0"
      },
      "source": [
        "# Abre o arquivo \"arquivo.txt\" para leitura\n",
        "arquivo = open(\"arquivo.txt\", \"r\")\n",
        "\n",
        "# Percorre o arquivo\n",
        "for linha in arquivo:\n",
        "    # .strip() remove o \\n do final da linha)\n",
        "    print(linha.strip())\n",
        "\n",
        "# Fecha o arquivo\n",
        "arquivo.close()"
      ],
      "execution_count": null,
      "outputs": [
        {
          "output_type": "stream",
          "name": "stdout",
          "text": [
            "linha1 linha2\n",
            "linha3 linha4\n",
            "linha5 linha6\n"
          ]
        }
      ]
    },
    {
      "cell_type": "markdown",
      "metadata": {
        "id": "OOM0yK_iADg8"
      },
      "source": [
        "## Percorrendo o arquivo com with\n",
        "\n",
        "**with** cria um contexto que garante que todos os recursos que estão sendo usados no contexto sejam fechados quando ele termina. Reduz o código deixando mais limpo."
      ]
    },
    {
      "cell_type": "code",
      "metadata": {
        "colab": {
          "base_uri": "https://localhost:8080/"
        },
        "id": "L7l0o0vU7P7l",
        "outputId": "c9f870c1-b310-40c0-ec02-cb086ae04852"
      },
      "source": [
        "# Abre o arquivo \"arquivo.txt\" para leitura\n",
        "with open(\"arquivo.txt\", \"r\") as arquivo:\n",
        "    print(arquivo.read())"
      ],
      "execution_count": null,
      "outputs": [
        {
          "output_type": "stream",
          "name": "stdout",
          "text": [
            "linha1 linha2\n",
            "linha3 linha4\n",
            "linha5 linha6\n"
          ]
        }
      ]
    },
    {
      "cell_type": "markdown",
      "source": [
        "## Realiza o download automaticamente de arquivos do diretório"
      ],
      "metadata": {
        "id": "RMGGmPxghxc8"
      }
    },
    {
      "cell_type": "code",
      "source": [
        "try:\n",
        "  from google.colab import files\n",
        "  files.download('/content/arquivo.txt')\n",
        "  # Outros arquivos podem ir aqui\n",
        "except Exception:\n",
        "  pass"
      ],
      "metadata": {
        "id": "4X3sFeINhx7p",
        "colab": {
          "base_uri": "https://localhost:8080/",
          "height": 17
        },
        "outputId": "36bec525-9ae8-4827-f6b1-b6c0e3c63b7e"
      },
      "execution_count": null,
      "outputs": [
        {
          "output_type": "display_data",
          "data": {
            "text/plain": [
              "<IPython.core.display.Javascript object>"
            ],
            "application/javascript": [
              "\n",
              "    async function download(id, filename, size) {\n",
              "      if (!google.colab.kernel.accessAllowed) {\n",
              "        return;\n",
              "      }\n",
              "      const div = document.createElement('div');\n",
              "      const label = document.createElement('label');\n",
              "      label.textContent = `Downloading \"${filename}\": `;\n",
              "      div.appendChild(label);\n",
              "      const progress = document.createElement('progress');\n",
              "      progress.max = size;\n",
              "      div.appendChild(progress);\n",
              "      document.body.appendChild(div);\n",
              "\n",
              "      const buffers = [];\n",
              "      let downloaded = 0;\n",
              "\n",
              "      const channel = await google.colab.kernel.comms.open(id);\n",
              "      // Send a message to notify the kernel that we're ready.\n",
              "      channel.send({})\n",
              "\n",
              "      for await (const message of channel.messages) {\n",
              "        // Send a message to notify the kernel that we're ready.\n",
              "        channel.send({})\n",
              "        if (message.buffers) {\n",
              "          for (const buffer of message.buffers) {\n",
              "            buffers.push(buffer);\n",
              "            downloaded += buffer.byteLength;\n",
              "            progress.value = downloaded;\n",
              "          }\n",
              "        }\n",
              "      }\n",
              "      const blob = new Blob(buffers, {type: 'application/binary'});\n",
              "      const a = document.createElement('a');\n",
              "      a.href = window.URL.createObjectURL(blob);\n",
              "      a.download = filename;\n",
              "      div.appendChild(a);\n",
              "      a.click();\n",
              "      div.remove();\n",
              "    }\n",
              "  "
            ]
          },
          "metadata": {}
        },
        {
          "output_type": "display_data",
          "data": {
            "text/plain": [
              "<IPython.core.display.Javascript object>"
            ],
            "application/javascript": [
              "download(\"download_5ce8fd28-4f11-4e6b-bb90-4fcf29124757\", \"arquivo.txt\", 41)"
            ]
          },
          "metadata": {}
        }
      ]
    }
  ]
}