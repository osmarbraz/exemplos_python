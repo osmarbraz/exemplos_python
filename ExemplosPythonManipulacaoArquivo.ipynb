{
  "nbformat": 4,
  "nbformat_minor": 0,
  "metadata": {
    "colab": {
      "name": "ExemplosPythonManipulacaoArquivo.ipynb",
      "provenance": [],
      "collapsed_sections": [],
      "toc_visible": true,
      "include_colab_link": true
    },
    "kernelspec": {
      "name": "python3",
      "display_name": "Python 3"
    }
  },
  "cells": [
    {
      "cell_type": "markdown",
      "metadata": {
        "id": "view-in-github",
        "colab_type": "text"
      },
      "source": [
        "<a href=\"https://colab.research.google.com/github/osmarbraz/exemplos_python/blob/master/ExemplosPythonManipulacaoArquivo.ipynb\" target=\"_parent\"><img src=\"https://colab.research.google.com/assets/colab-badge.svg\" alt=\"Open In Colab\"/></a>"
      ]
    },
    {
      "cell_type": "markdown",
      "metadata": {
        "id": "xY84ChCNzmQQ"
      },
      "source": [
        "# Exemplos de Manipulação de Arquivo em Python no Google Colaboratory\n",
        "\n",
        "-----------------------------------------\n",
        "**Guia Colab Iniciante:**\n",
        "\n",
        "https://medium.com/machina-sapiens/google-colab-guia-do-iniciante-334d70aad531\n",
        "\n",
        "**Documentação oficial:**\n",
        "\n",
        "https://colab.research.google.com/github/jakevdp/PythonDataScienceHandbook/blob/master/notebooks/01.01-Help-And-Documentation.ipynb\n",
        "\n",
        "**Características :**\n",
        "\n",
        "https://colab.research.google.com/notebooks/basic_features_overview.ipynb"
      ]
    },
    {
      "cell_type": "markdown",
      "metadata": {
        "id": "Vx3NYTcwtaCd"
      },
      "source": [
        "# Sistema de Arquivos\n",
        "Exemplos https://colab.research.google.com/notebooks/io.ipynb<br>\n",
        "https://colab.research.google.com/github/jakevdp/PythonDataScienceHandbook/blob/master/notebooks/01.05-IPython-And-Shell-Commands.ipynb"
      ]
    },
    {
      "cell_type": "markdown",
      "metadata": {
        "id": "aRHsLgt2tk_c"
      },
      "source": [
        "## Diretórios"
      ]
    },
    {
      "cell_type": "markdown",
      "metadata": {
        "id": "yBFd9llAuuoK"
      },
      "source": [
        "Lista o conteúdo do diretório corrente."
      ]
    },
    {
      "cell_type": "code",
      "metadata": {
        "id": "cVoju6o7tobP",
        "colab": {
          "base_uri": "https://localhost:8080/"
        },
        "outputId": "f2835f53-f2f9-4aa4-d409-9b47d85aacf7"
      },
      "source": [
        "!ls ."
      ],
      "execution_count": 97,
      "outputs": [
        {
          "output_type": "stream",
          "text": [
            "adc.json\t     drive\n",
            "arquivo.txt\t     GoogleNews-vectors-negative300.bin.gz\n",
            "cola_public_1.0      imdb-reviews-pt-br.zip\n",
            "cola_public_1.1.zip  __MACOSX\n",
            "dados.csv\t     pessoas.json\n",
            "dados.json\t     sample_data\n"
          ],
          "name": "stdout"
        }
      ]
    },
    {
      "cell_type": "markdown",
      "metadata": {
        "id": "C3__Ec0Du1uG"
      },
      "source": [
        "Mostrando o diretório corrente"
      ]
    },
    {
      "cell_type": "code",
      "metadata": {
        "id": "faijPbGbu4of",
        "colab": {
          "base_uri": "https://localhost:8080/"
        },
        "outputId": "d2c7a63b-8e9d-4160-8a3f-7967aca5924c"
      },
      "source": [
        "!pwd"
      ],
      "execution_count": 98,
      "outputs": [
        {
          "output_type": "stream",
          "text": [
            "/content\n"
          ],
          "name": "stdout"
        }
      ]
    },
    {
      "cell_type": "markdown",
      "metadata": {
        "id": "KvrM9PJi42Yf"
      },
      "source": [
        "## Arquivos"
      ]
    },
    {
      "cell_type": "markdown",
      "metadata": {
        "id": "o3OfJ3xCPBBG"
      },
      "source": [
        "Lista os arquivos e pastas do diretório corrente."
      ]
    },
    {
      "cell_type": "code",
      "metadata": {
        "id": "ih_CaIpWEkii",
        "colab": {
          "base_uri": "https://localhost:8080/"
        },
        "outputId": "050cf99b-b42e-4f09-fa14-4ad8c8f98904"
      },
      "source": [
        "!ls -la"
      ],
      "execution_count": 99,
      "outputs": [
        {
          "output_type": "stream",
          "text": [
            "total 1658356\n",
            "drwxr-xr-x 1 root root       4096 Dec 10 19:08 .\n",
            "drwxr-xr-x 1 root root       4096 Dec 10 19:02 ..\n",
            "-rw-r--r-- 1 root root        720 Dec 10 19:04 adc.json\n",
            "-rw-r--r-- 1 root root         41 Dec 10 19:08 arquivo.txt\n",
            "drwxr-xr-x 4 root root       4096 Dec 14  2018 cola_public_1.0\n",
            "-rw-r--r-- 1 root root     260499 Dec 10 19:04 cola_public_1.1.zip\n",
            "drwxr-xr-x 1 root root       4096 Dec 10 19:04 .config\n",
            "-rw-r--r-- 1 root root        392 Dec 10 19:08 dados.csv\n",
            "-rw-r--r-- 1 root root        224 Dec 10 19:08 dados.json\n",
            "drwx------ 5 root root       4096 Dec 10 19:08 drive\n",
            "-rw-r--r-- 1 root root 1647046227 Dec 10 19:05 GoogleNews-vectors-negative300.bin.gz\n",
            "-rw-r--r-- 1 root root   50783959 Dec 10 19:04 imdb-reviews-pt-br.zip\n",
            "drwxrwxr-x 3 root root       4096 Dec 14  2018 __MACOSX\n",
            "-rw-r--r-- 1 root root       1968 Dec 10 19:08 pessoas.json\n",
            "drwxr-xr-x 1 root root       4096 Dec  2 22:04 sample_data\n"
          ],
          "name": "stdout"
        }
      ]
    },
    {
      "cell_type": "markdown",
      "metadata": {
        "id": "AsJ0yS-JPpEG"
      },
      "source": [
        "Lista os arquivos e pastas do diretório corrente incluindo os ocultos."
      ]
    },
    {
      "cell_type": "code",
      "metadata": {
        "id": "6MLYidtJF3Y1",
        "colab": {
          "base_uri": "https://localhost:8080/"
        },
        "outputId": "215295eb-2e44-4ab9-a068-c77c66e41bc2"
      },
      "source": [
        "!ls -lh"
      ],
      "execution_count": 100,
      "outputs": [
        {
          "output_type": "stream",
          "text": [
            "total 1.6G\n",
            "-rw-r--r-- 1 root root  720 Dec 10 19:04 adc.json\n",
            "-rw-r--r-- 1 root root   41 Dec 10 19:08 arquivo.txt\n",
            "drwxr-xr-x 4 root root 4.0K Dec 14  2018 cola_public_1.0\n",
            "-rw-r--r-- 1 root root 255K Dec 10 19:04 cola_public_1.1.zip\n",
            "-rw-r--r-- 1 root root  392 Dec 10 19:08 dados.csv\n",
            "-rw-r--r-- 1 root root  224 Dec 10 19:08 dados.json\n",
            "drwx------ 5 root root 4.0K Dec 10 19:08 drive\n",
            "-rw-r--r-- 1 root root 1.6G Dec 10 19:05 GoogleNews-vectors-negative300.bin.gz\n",
            "-rw-r--r-- 1 root root  49M Dec 10 19:04 imdb-reviews-pt-br.zip\n",
            "drwxrwxr-x 3 root root 4.0K Dec 14  2018 __MACOSX\n",
            "-rw-r--r-- 1 root root 2.0K Dec 10 19:08 pessoas.json\n",
            "drwxr-xr-x 1 root root 4.0K Dec  2 22:04 sample_data\n"
          ],
          "name": "stdout"
        }
      ]
    },
    {
      "cell_type": "markdown",
      "metadata": {
        "id": "asNVk0KmYXon"
      },
      "source": [
        "## Verificando se um diretório existe"
      ]
    },
    {
      "cell_type": "markdown",
      "metadata": {
        "id": "tLB8G6XMXlWn"
      },
      "source": [
        "Cria um diretório caso ele não exista."
      ]
    },
    {
      "cell_type": "code",
      "metadata": {
        "id": "LzlsgPI-XkdL",
        "colab": {
          "base_uri": "https://localhost:8080/"
        },
        "outputId": "c5948aba-4b9d-485c-ff39-a7ea849c1a1d"
      },
      "source": [
        "# Biblioteca para acessar o sistema de arquivos\n",
        "import os\n",
        "\n",
        "# Diretório a ser criado\n",
        "dir = 'sample_data'\n",
        "\n",
        "# Verifica se o diretório existe\n",
        "if not os.path.exists(dir):  \n",
        "    # Cria o diretório\n",
        "    os.makedirs(dir)\n",
        "    print('Diretório criado: ' + str(dir))\n",
        "else:\n",
        "    print('Diretório já existe: ' + str(dir))"
      ],
      "execution_count": 101,
      "outputs": [
        {
          "output_type": "stream",
          "text": [
            "Diretório já existe: sample_data\n"
          ],
          "name": "stdout"
        }
      ]
    },
    {
      "cell_type": "markdown",
      "metadata": {
        "id": "lr6CZ_Vce_O1"
      },
      "source": [
        "## Verificando se um arquivo existe"
      ]
    },
    {
      "cell_type": "code",
      "metadata": {
        "id": "g_2RX0F9fHDu",
        "colab": {
          "base_uri": "https://localhost:8080/"
        },
        "outputId": "abf55f19-3b0a-44df-acc7-eaca32a448ec"
      },
      "source": [
        "# Biblioteca para acessar o sistema de arquivos\n",
        "import os\n",
        "\n",
        "# Nome do arquivo\n",
        "arquivo = 'teste.txt'\n",
        "\n",
        "# Verifica se o arquivo existe\n",
        "if not os.path.exists(arquivo):  \n",
        "    print('Arquivo não existe:'+arquivo)\n",
        "else:\n",
        "    print('Arquivo já existe:' + arquivo)"
      ],
      "execution_count": 102,
      "outputs": [
        {
          "output_type": "stream",
          "text": [
            "Arquivo não existe:teste.txt\n"
          ],
          "name": "stdout"
        }
      ]
    },
    {
      "cell_type": "markdown",
      "metadata": {
        "id": "Q7ga4y51FHZ8"
      },
      "source": [
        "## Download"
      ]
    },
    {
      "cell_type": "markdown",
      "metadata": {
        "id": "OVQywZLUcNeD"
      },
      "source": [
        "### Download de Arquivo com WGET via SO"
      ]
    },
    {
      "cell_type": "markdown",
      "metadata": {
        "id": "rS5N8tCJcSNm"
      },
      "source": [
        "Usa os comandos do SO para realizar o download de um arquivo.\n",
        "\n",
        "Use o parâmetro '-O' para especificar o nome de arquivo a ser salvo.\n",
        "\n",
        "```\n",
        "!wget -O nomearquivodestino url\n",
        "```\n"
      ]
    },
    {
      "cell_type": "code",
      "metadata": {
        "id": "BnJfsDjKcVSF",
        "colab": {
          "base_uri": "https://localhost:8080/"
        },
        "outputId": "3b6022bc-70d1-459f-fb44-0141c849dcc8"
      },
      "source": [
        "# Apaga o arquivo 'cola_public_1.0.zip'\n",
        "!rm cola_public_1.0.zip\n",
        "\n",
        "# Realiza o download do arquivo 'cola_public_1.0.zip' da url especificada\n",
        "!wget https://nyu-mll.github.io/CoLA/cola_public_1.0.zip\n",
        "\n",
        "# Lista o diretório corrente e os arquivos.\n",
        "!pwd\n",
        "!ls -la"
      ],
      "execution_count": 103,
      "outputs": [
        {
          "output_type": "stream",
          "text": [
            "rm: cannot remove 'cola_public_1.0.zip': No such file or directory\n",
            "--2020-12-10 19:15:43--  https://nyu-mll.github.io/CoLA/cola_public_1.0.zip\n",
            "Resolving nyu-mll.github.io (nyu-mll.github.io)... 185.199.109.153, 185.199.110.153, 185.199.108.153, ...\n",
            "Connecting to nyu-mll.github.io (nyu-mll.github.io)|185.199.109.153|:443... connected.\n",
            "HTTP request sent, awaiting response... 200 OK\n",
            "Length: 260499 (254K) [application/zip]\n",
            "Saving to: ‘cola_public_1.0.zip’\n",
            "\n",
            "cola_public_1.0.zip 100%[===================>] 254.39K  --.-KB/s    in 0.06s   \n",
            "\n",
            "2020-12-10 19:15:43 (4.51 MB/s) - ‘cola_public_1.0.zip’ saved [260499/260499]\n",
            "\n",
            "/content\n",
            "total 1658612\n",
            "drwxr-xr-x 1 root root       4096 Dec 10 19:15 .\n",
            "drwxr-xr-x 1 root root       4096 Dec 10 19:02 ..\n",
            "-rw-r--r-- 1 root root        720 Dec 10 19:04 adc.json\n",
            "-rw-r--r-- 1 root root         41 Dec 10 19:08 arquivo.txt\n",
            "drwxr-xr-x 4 root root       4096 Dec 14  2018 cola_public_1.0\n",
            "-rw-r--r-- 1 root root     260499 Sep 17  2019 cola_public_1.0.zip\n",
            "-rw-r--r-- 1 root root     260499 Dec 10 19:04 cola_public_1.1.zip\n",
            "drwxr-xr-x 1 root root       4096 Dec 10 19:04 .config\n",
            "-rw-r--r-- 1 root root        392 Dec 10 19:08 dados.csv\n",
            "-rw-r--r-- 1 root root        224 Dec 10 19:08 dados.json\n",
            "drwx------ 5 root root       4096 Dec 10 19:08 drive\n",
            "-rw-r--r-- 1 root root 1647046227 Dec 10 19:05 GoogleNews-vectors-negative300.bin.gz\n",
            "-rw-r--r-- 1 root root   50783959 Dec 10 19:04 imdb-reviews-pt-br.zip\n",
            "drwxrwxr-x 3 root root       4096 Dec 14  2018 __MACOSX\n",
            "-rw-r--r-- 1 root root       1968 Dec 10 19:08 pessoas.json\n",
            "drwxr-xr-x 1 root root       4096 Dec  2 22:04 sample_data\n"
          ],
          "name": "stdout"
        }
      ]
    },
    {
      "cell_type": "markdown",
      "metadata": {
        "id": "qqoFoPhiCyvg"
      },
      "source": [
        "### Download de Arquivo com WGET"
      ]
    },
    {
      "cell_type": "markdown",
      "metadata": {
        "id": "Qv-UoMtkC4Lp"
      },
      "source": [
        "Usa a biblioteca  para realizar o download de um arquivo."
      ]
    },
    {
      "cell_type": "code",
      "metadata": {
        "id": "4y76utNHC8_o",
        "colab": {
          "base_uri": "https://localhost:8080/"
        },
        "outputId": "ef449e81-d328-4970-d98e-ae089bbbf41a"
      },
      "source": [
        "!pip install wget"
      ],
      "execution_count": 104,
      "outputs": [
        {
          "output_type": "stream",
          "text": [
            "Requirement already satisfied: wget in /usr/local/lib/python3.6/dist-packages (3.2)\n"
          ],
          "name": "stdout"
        }
      ]
    },
    {
      "cell_type": "code",
      "metadata": {
        "id": "T5d6WeQTC9d3",
        "colab": {
          "base_uri": "https://localhost:8080/"
        },
        "outputId": "b6cc3324-0d06-4d1d-f39b-6167fee674dd"
      },
      "source": [
        "import wget\n",
        "import os\n",
        "\n",
        "# Apaga o arquivo 'cola_public_1.0.zip'\n",
        "!rm cola_public_1.0.zip\n",
        "\n",
        "# url para o arquivo a ser feito o download\n",
        "url = 'https://nyu-mll.github.io/CoLA/cola_public_1.0.zip'\n",
        "\n",
        "# Realiza o download do arquivo 'cola_public_1.0.zip' da url especificada\n",
        "wget.download(url, './cola_public_1.1.zip')\n",
        "\n",
        "# Lista o diretório corrente e os arquivos.\n",
        "!pwd\n",
        "!ls -la"
      ],
      "execution_count": 105,
      "outputs": [
        {
          "output_type": "stream",
          "text": [
            "/content\n",
            "total 1658612\n",
            "drwxr-xr-x 1 root root       4096 Dec 10 19:15  .\n",
            "drwxr-xr-x 1 root root       4096 Dec 10 19:02  ..\n",
            "-rw-r--r-- 1 root root        720 Dec 10 19:04  adc.json\n",
            "-rw-r--r-- 1 root root         41 Dec 10 19:08  arquivo.txt\n",
            "drwxr-xr-x 4 root root       4096 Dec 14  2018  cola_public_1.0\n",
            "-rw-r--r-- 1 root root     260499 Dec 10 19:15 'cola_public_1.1 (1).zip'\n",
            "-rw-r--r-- 1 root root     260499 Dec 10 19:04  cola_public_1.1.zip\n",
            "drwxr-xr-x 1 root root       4096 Dec 10 19:04  .config\n",
            "-rw-r--r-- 1 root root        392 Dec 10 19:08  dados.csv\n",
            "-rw-r--r-- 1 root root        224 Dec 10 19:08  dados.json\n",
            "drwx------ 5 root root       4096 Dec 10 19:08  drive\n",
            "-rw-r--r-- 1 root root 1647046227 Dec 10 19:05  GoogleNews-vectors-negative300.bin.gz\n",
            "-rw-r--r-- 1 root root   50783959 Dec 10 19:04  imdb-reviews-pt-br.zip\n",
            "drwxrwxr-x 3 root root       4096 Dec 14  2018  __MACOSX\n",
            "-rw-r--r-- 1 root root       1968 Dec 10 19:08  pessoas.json\n",
            "drwxr-xr-x 1 root root       4096 Dec  2 22:04  sample_data\n"
          ],
          "name": "stdout"
        }
      ]
    },
    {
      "cell_type": "markdown",
      "metadata": {
        "id": "5vWCAuljnYFO"
      },
      "source": [
        "### Download de Arquivo grande com WGET do GoogleDrive\n",
        "\n",
        "https://gist.github.com/iamtekeste/3cdfd0366ebfd2c0d805"
      ]
    },
    {
      "cell_type": "code",
      "metadata": {
        "colab": {
          "base_uri": "https://localhost:8080/"
        },
        "id": "IMRv_RkdnY_L",
        "outputId": "1e55c0a9-19d0-4ec2-f5a3-a49cb8f246f4"
      },
      "source": [
        "!wget --load-cookies /tmp/cookies.txt \"https://docs.google.com/uc?export=download&confirm=$(wget --quiet --save-cookies /tmp/cookies.txt --keep-session-cookies --no-check-certificate 'https://docs.google.com/uc?export=download&id=1LFtccnbqO2igtWRNaHXnpiu5_wFG0xVK' -O- | sed -rn 's/.*confirm=([0-9A-Za-z_]+).*/\\1\\n/p')&id=1LFtccnbqO2igtWRNaHXnpiu5_wFG0xVK\" -O imdb-reviews-pt-br.zip && rm -rf /tmp/cookies.txt"
      ],
      "execution_count": 106,
      "outputs": [
        {
          "output_type": "stream",
          "text": [
            "--2020-12-10 19:15:47--  https://docs.google.com/uc?export=download&confirm=r8iz&id=1LFtccnbqO2igtWRNaHXnpiu5_wFG0xVK\n",
            "Resolving docs.google.com (docs.google.com)... 173.194.212.101, 173.194.212.113, 173.194.212.138, ...\n",
            "Connecting to docs.google.com (docs.google.com)|173.194.212.101|:443... connected.\n",
            "HTTP request sent, awaiting response... 302 Moved Temporarily\n",
            "Location: https://doc-0k-6g-docs.googleusercontent.com/docs/securesc/qnrct3hv5f9bcdm241v6sl86muvibnkh/orpfvdnncipf6lal9gf1psq1aakik05m/1607627700000/03010865824982624199/15497224523391763208Z/1LFtccnbqO2igtWRNaHXnpiu5_wFG0xVK?e=download [following]\n",
            "--2020-12-10 19:15:47--  https://doc-0k-6g-docs.googleusercontent.com/docs/securesc/qnrct3hv5f9bcdm241v6sl86muvibnkh/orpfvdnncipf6lal9gf1psq1aakik05m/1607627700000/03010865824982624199/15497224523391763208Z/1LFtccnbqO2igtWRNaHXnpiu5_wFG0xVK?e=download\n",
            "Resolving doc-0k-6g-docs.googleusercontent.com (doc-0k-6g-docs.googleusercontent.com)... 172.217.203.132, 2607:f8b0:400c:c07::84\n",
            "Connecting to doc-0k-6g-docs.googleusercontent.com (doc-0k-6g-docs.googleusercontent.com)|172.217.203.132|:443... connected.\n",
            "HTTP request sent, awaiting response... 302 Found\n",
            "Location: https://docs.google.com/nonceSigner?nonce=1ucuvu0gccutc&continue=https://doc-0k-6g-docs.googleusercontent.com/docs/securesc/qnrct3hv5f9bcdm241v6sl86muvibnkh/orpfvdnncipf6lal9gf1psq1aakik05m/1607627700000/03010865824982624199/15497224523391763208Z/1LFtccnbqO2igtWRNaHXnpiu5_wFG0xVK?e%3Ddownload&hash=hf44pqbpi2bl0c193s7g586vj7s08ost [following]\n",
            "--2020-12-10 19:15:47--  https://docs.google.com/nonceSigner?nonce=1ucuvu0gccutc&continue=https://doc-0k-6g-docs.googleusercontent.com/docs/securesc/qnrct3hv5f9bcdm241v6sl86muvibnkh/orpfvdnncipf6lal9gf1psq1aakik05m/1607627700000/03010865824982624199/15497224523391763208Z/1LFtccnbqO2igtWRNaHXnpiu5_wFG0xVK?e%3Ddownload&hash=hf44pqbpi2bl0c193s7g586vj7s08ost\n",
            "Connecting to docs.google.com (docs.google.com)|173.194.212.101|:443... connected.\n",
            "HTTP request sent, awaiting response... 302 Found\n",
            "Location: https://doc-0k-6g-docs.googleusercontent.com/docs/securesc/qnrct3hv5f9bcdm241v6sl86muvibnkh/orpfvdnncipf6lal9gf1psq1aakik05m/1607627700000/03010865824982624199/15497224523391763208Z/1LFtccnbqO2igtWRNaHXnpiu5_wFG0xVK?e=download&nonce=1ucuvu0gccutc&user=15497224523391763208Z&hash=kuhari45vucspgngpurb2pc7oab8ader [following]\n",
            "--2020-12-10 19:15:47--  https://doc-0k-6g-docs.googleusercontent.com/docs/securesc/qnrct3hv5f9bcdm241v6sl86muvibnkh/orpfvdnncipf6lal9gf1psq1aakik05m/1607627700000/03010865824982624199/15497224523391763208Z/1LFtccnbqO2igtWRNaHXnpiu5_wFG0xVK?e=download&nonce=1ucuvu0gccutc&user=15497224523391763208Z&hash=kuhari45vucspgngpurb2pc7oab8ader\n",
            "Connecting to doc-0k-6g-docs.googleusercontent.com (doc-0k-6g-docs.googleusercontent.com)|172.217.203.132|:443... connected.\n",
            "HTTP request sent, awaiting response... 200 OK\n",
            "Length: unspecified [application/zip]\n",
            "Saving to: ‘imdb-reviews-pt-br.zip’\n",
            "\n",
            "imdb-reviews-pt-br.     [   <=>              ]  48.43M   113MB/s    in 0.4s    \n",
            "\n",
            "2020-12-10 19:15:48 (113 MB/s) - ‘imdb-reviews-pt-br.zip’ saved [50783959]\n",
            "\n"
          ],
          "name": "stdout"
        }
      ]
    },
    {
      "cell_type": "code",
      "metadata": {
        "colab": {
          "base_uri": "https://localhost:8080/"
        },
        "id": "oCk0Y3_lnmkX",
        "outputId": "1b6785dd-1b9a-4d1c-ec3a-9000114d232a"
      },
      "source": [
        "ls -la"
      ],
      "execution_count": 107,
      "outputs": [
        {
          "output_type": "stream",
          "text": [
            "total 1658612\n",
            "drwxr-xr-x 1 root root       4096 Dec 10 19:15  \u001b[0m\u001b[01;34m.\u001b[0m/\n",
            "drwxr-xr-x 1 root root       4096 Dec 10 19:02  \u001b[01;34m..\u001b[0m/\n",
            "-rw-r--r-- 1 root root        720 Dec 10 19:04  adc.json\n",
            "-rw-r--r-- 1 root root         41 Dec 10 19:08  arquivo.txt\n",
            "drwxr-xr-x 4 root root       4096 Dec 14  2018  \u001b[01;34mcola_public_1.0\u001b[0m/\n",
            "-rw-r--r-- 1 root root     260499 Dec 10 19:15 'cola_public_1.1 (1).zip'\n",
            "-rw-r--r-- 1 root root     260499 Dec 10 19:04  cola_public_1.1.zip\n",
            "drwxr-xr-x 1 root root       4096 Dec 10 19:04  \u001b[01;34m.config\u001b[0m/\n",
            "-rw-r--r-- 1 root root        392 Dec 10 19:08  dados.csv\n",
            "-rw-r--r-- 1 root root        224 Dec 10 19:08  dados.json\n",
            "drwx------ 5 root root       4096 Dec 10 19:08  \u001b[01;34mdrive\u001b[0m/\n",
            "-rw-r--r-- 1 root root 1647046227 Dec 10 19:05  GoogleNews-vectors-negative300.bin.gz\n",
            "-rw-r--r-- 1 root root   50783959 Dec 10 19:15  imdb-reviews-pt-br.zip\n",
            "drwxrwxr-x 3 root root       4096 Dec 14  2018  \u001b[01;34m__MACOSX\u001b[0m/\n",
            "-rw-r--r-- 1 root root       1968 Dec 10 19:08  pessoas.json\n",
            "drwxr-xr-x 1 root root       4096 Dec  2 22:04  \u001b[01;34msample_data\u001b[0m/\n"
          ],
          "name": "stdout"
        }
      ]
    },
    {
      "cell_type": "markdown",
      "metadata": {
        "id": "Lzcg-5Ooc1CN"
      },
      "source": [
        "## Descompacta um arquivo usando UNZIP"
      ]
    },
    {
      "cell_type": "markdown",
      "metadata": {
        "id": "MCc4gfYXc9Zc"
      },
      "source": [
        "O parâmetro **-o** é para substituir os arquivos existentes de outra descompactação."
      ]
    },
    {
      "cell_type": "code",
      "metadata": {
        "id": "zu6xOIqSc5-z",
        "colab": {
          "base_uri": "https://localhost:8080/"
        },
        "outputId": "21e30efa-befd-43a7-a96d-e4d75eabd65e"
      },
      "source": [
        "# Lista o diretório corrente e os arquivos.\n",
        "!pwd\n",
        "!ls -la\n",
        "\n",
        "# Apaga o diretório 'cola_public_1.0' e seus arquivos\n",
        "!rm -rf cola_public_1.0\n",
        "\n",
        "# Descompacta o arquivo 'cola_public_1.0.zip'\n",
        "!unzip -o /content/cola_public_1.1.zip\n",
        "\n",
        "# Lista os arquivos do diretório corrente\n",
        "!ls -la"
      ],
      "execution_count": 108,
      "outputs": [
        {
          "output_type": "stream",
          "text": [
            "/content\n",
            "total 1658612\n",
            "drwxr-xr-x 1 root root       4096 Dec 10 19:15  .\n",
            "drwxr-xr-x 1 root root       4096 Dec 10 19:02  ..\n",
            "-rw-r--r-- 1 root root        720 Dec 10 19:04  adc.json\n",
            "-rw-r--r-- 1 root root         41 Dec 10 19:08  arquivo.txt\n",
            "drwxr-xr-x 4 root root       4096 Dec 14  2018  cola_public_1.0\n",
            "-rw-r--r-- 1 root root     260499 Dec 10 19:15 'cola_public_1.1 (1).zip'\n",
            "-rw-r--r-- 1 root root     260499 Dec 10 19:04  cola_public_1.1.zip\n",
            "drwxr-xr-x 1 root root       4096 Dec 10 19:04  .config\n",
            "-rw-r--r-- 1 root root        392 Dec 10 19:08  dados.csv\n",
            "-rw-r--r-- 1 root root        224 Dec 10 19:08  dados.json\n",
            "drwx------ 5 root root       4096 Dec 10 19:08  drive\n",
            "-rw-r--r-- 1 root root 1647046227 Dec 10 19:05  GoogleNews-vectors-negative300.bin.gz\n",
            "-rw-r--r-- 1 root root   50783959 Dec 10 19:15  imdb-reviews-pt-br.zip\n",
            "drwxrwxr-x 3 root root       4096 Dec 14  2018  __MACOSX\n",
            "-rw-r--r-- 1 root root       1968 Dec 10 19:08  pessoas.json\n",
            "drwxr-xr-x 1 root root       4096 Dec  2 22:04  sample_data\n",
            "Archive:  /content/cola_public_1.1.zip\n",
            "   creating: cola_public_1.0/\n",
            "  inflating: cola_public_1.0/.DS_Store  \n",
            "  inflating: __MACOSX/cola_public_1.0/._.DS_Store  \n",
            "  inflating: cola_public_1.0/README  \n",
            "  inflating: __MACOSX/cola_public_1.0/._README  \n",
            "   creating: cola_public_1.0/tokenized/\n",
            "  inflating: cola_public_1.0/tokenized/in_domain_dev.tsv  \n",
            "  inflating: __MACOSX/cola_public_1.0/tokenized/._in_domain_dev.tsv  \n",
            "  inflating: cola_public_1.0/tokenized/in_domain_train.tsv  \n",
            "  inflating: __MACOSX/cola_public_1.0/tokenized/._in_domain_train.tsv  \n",
            "  inflating: cola_public_1.0/tokenized/out_of_domain_dev.tsv  \n",
            "  inflating: __MACOSX/cola_public_1.0/tokenized/._out_of_domain_dev.tsv  \n",
            "  inflating: __MACOSX/cola_public_1.0/._tokenized  \n",
            "   creating: cola_public_1.0/raw/\n",
            "  inflating: cola_public_1.0/raw/in_domain_dev.tsv  \n",
            "  inflating: __MACOSX/cola_public_1.0/raw/._in_domain_dev.tsv  \n",
            "  inflating: cola_public_1.0/raw/in_domain_train.tsv  \n",
            "  inflating: __MACOSX/cola_public_1.0/raw/._in_domain_train.tsv  \n",
            "  inflating: cola_public_1.0/raw/out_of_domain_dev.tsv  \n",
            "  inflating: __MACOSX/cola_public_1.0/raw/._out_of_domain_dev.tsv  \n",
            "  inflating: __MACOSX/cola_public_1.0/._raw  \n",
            "  inflating: __MACOSX/._cola_public_1.0  \n",
            "total 1658612\n",
            "drwxr-xr-x 1 root root       4096 Dec 10 19:15  .\n",
            "drwxr-xr-x 1 root root       4096 Dec 10 19:02  ..\n",
            "-rw-r--r-- 1 root root        720 Dec 10 19:04  adc.json\n",
            "-rw-r--r-- 1 root root         41 Dec 10 19:08  arquivo.txt\n",
            "drwxr-xr-x 4 root root       4096 Dec 14  2018  cola_public_1.0\n",
            "-rw-r--r-- 1 root root     260499 Dec 10 19:15 'cola_public_1.1 (1).zip'\n",
            "-rw-r--r-- 1 root root     260499 Dec 10 19:04  cola_public_1.1.zip\n",
            "drwxr-xr-x 1 root root       4096 Dec 10 19:04  .config\n",
            "-rw-r--r-- 1 root root        392 Dec 10 19:08  dados.csv\n",
            "-rw-r--r-- 1 root root        224 Dec 10 19:08  dados.json\n",
            "drwx------ 5 root root       4096 Dec 10 19:08  drive\n",
            "-rw-r--r-- 1 root root 1647046227 Dec 10 19:05  GoogleNews-vectors-negative300.bin.gz\n",
            "-rw-r--r-- 1 root root   50783959 Dec 10 19:15  imdb-reviews-pt-br.zip\n",
            "drwxrwxr-x 3 root root       4096 Dec 10 19:15  __MACOSX\n",
            "-rw-r--r-- 1 root root       1968 Dec 10 19:08  pessoas.json\n",
            "drwxr-xr-x 1 root root       4096 Dec  2 22:04  sample_data\n"
          ],
          "name": "stdout"
        }
      ]
    },
    {
      "cell_type": "code",
      "metadata": {
        "id": "GLM3PmyhOFnH",
        "colab": {
          "base_uri": "https://localhost:8080/"
        },
        "outputId": "154bc781-a4e0-4578-b716-b029fec83dd2"
      },
      "source": [
        "!ls -la"
      ],
      "execution_count": 109,
      "outputs": [
        {
          "output_type": "stream",
          "text": [
            "total 1658612\n",
            "drwxr-xr-x 1 root root       4096 Dec 10 19:15  .\n",
            "drwxr-xr-x 1 root root       4096 Dec 10 19:02  ..\n",
            "-rw-r--r-- 1 root root        720 Dec 10 19:04  adc.json\n",
            "-rw-r--r-- 1 root root         41 Dec 10 19:08  arquivo.txt\n",
            "drwxr-xr-x 4 root root       4096 Dec 14  2018  cola_public_1.0\n",
            "-rw-r--r-- 1 root root     260499 Dec 10 19:15 'cola_public_1.1 (1).zip'\n",
            "-rw-r--r-- 1 root root     260499 Dec 10 19:04  cola_public_1.1.zip\n",
            "drwxr-xr-x 1 root root       4096 Dec 10 19:04  .config\n",
            "-rw-r--r-- 1 root root        392 Dec 10 19:08  dados.csv\n",
            "-rw-r--r-- 1 root root        224 Dec 10 19:08  dados.json\n",
            "drwx------ 5 root root       4096 Dec 10 19:08  drive\n",
            "-rw-r--r-- 1 root root 1647046227 Dec 10 19:05  GoogleNews-vectors-negative300.bin.gz\n",
            "-rw-r--r-- 1 root root   50783959 Dec 10 19:15  imdb-reviews-pt-br.zip\n",
            "drwxrwxr-x 3 root root       4096 Dec 10 19:15  __MACOSX\n",
            "-rw-r--r-- 1 root root       1968 Dec 10 19:08  pessoas.json\n",
            "drwxr-xr-x 1 root root       4096 Dec  2 22:04  sample_data\n"
          ],
          "name": "stdout"
        }
      ]
    },
    {
      "cell_type": "markdown",
      "metadata": {
        "id": "pvIHc5aMzxIf"
      },
      "source": [
        "## Integração com Drive\n",
        "\n",
        "O Google Colaboratory é integrado ao GoogleDrive. Ele permite que você compartilhe, comente e colabore no mesmo documento com várias pessoas:\n",
        "\n",
        "* O botão **COMPARTILHAR** (canto superior direito da barra de ferramentas) permite que você compartilhe o bloco de anotações e controle as permissões definidas nele.\n",
        "\n",
        "* **Arquivo-> Salvar um cópia no Drive**, cria uma cópia do notebook no Drive.\n",
        "\n",
        "* **Arquivo-> Salvar**, salva as alterações do notebook, apesar de existir o salvamente automático. \n",
        "\n",
        "* **Arquivo-> Salvar e fixar revisão**, salva e fixa a versão para que ela não seja excluída do histórico de revisão.\n",
        "\n",
        "* **Arquivo-> Histórico de revisões** mostra o histórico de revisão do notebook."
      ]
    },
    {
      "cell_type": "markdown",
      "metadata": {
        "id": "3qqF3jjVde15"
      },
      "source": [
        "### Identificando o ambiente Colab"
      ]
    },
    {
      "cell_type": "code",
      "metadata": {
        "id": "PH5Ys3HsNCub",
        "colab": {
          "base_uri": "https://localhost:8080/"
        },
        "outputId": "74e21e35-5034-4000-8eb5-a20c5d63769a"
      },
      "source": [
        "# Se estiver executando no Google Colaboratory\n",
        "import sys\n",
        "\n",
        "# Retorna true ou false se estiver no Google Colaboratory\n",
        "IN_COLAB = 'google.colab' in sys.modules\n",
        "\n",
        "if IN_COLAB:\n",
        "  print('Executando no Google Colaboratory')\n",
        "else:\n",
        "  print('Não executando no Google Colaboratory!')"
      ],
      "execution_count": 110,
      "outputs": [
        {
          "output_type": "stream",
          "text": [
            "Executando no Google Colaboratory\n"
          ],
          "name": "stdout"
        }
      ]
    },
    {
      "cell_type": "markdown",
      "metadata": {
        "id": "6WQDzt3UqYvc"
      },
      "source": [
        "### Acesso e download de Arquivo Grande com PyDrive do GoogleDrive"
      ]
    },
    {
      "cell_type": "markdown",
      "metadata": {
        "id": "ChjikTc0PVUc"
      },
      "source": [
        "Instando o PyDrive no Google Colaboratory.\n",
        "\n",
        "No Jupiter Notebook executar através \"Anaconda Prompt\".\n",
        "\n",
        "PyDrive é uma biblioteca de manipulação de arquivos para o google drive.<br>\n",
        "\n",
        "https://colab.research.google.com/notebooks/io.ipynb#scrollTo=7taylj9wpsA2"
      ]
    },
    {
      "cell_type": "code",
      "metadata": {
        "id": "oS-Euca2PWC2",
        "colab": {
          "base_uri": "https://localhost:8080/"
        },
        "outputId": "05fe0014-7e1e-407b-8f93-ddcfba3536bc"
      },
      "source": [
        " pip install PyDrive"
      ],
      "execution_count": 111,
      "outputs": [
        {
          "output_type": "stream",
          "text": [
            "Requirement already satisfied: PyDrive in /usr/local/lib/python3.6/dist-packages (1.3.1)\n",
            "Requirement already satisfied: PyYAML>=3.0 in /usr/local/lib/python3.6/dist-packages (from PyDrive) (3.13)\n",
            "Requirement already satisfied: oauth2client>=4.0.0 in /usr/local/lib/python3.6/dist-packages (from PyDrive) (4.1.3)\n",
            "Requirement already satisfied: google-api-python-client>=1.2 in /usr/local/lib/python3.6/dist-packages (from PyDrive) (1.7.12)\n",
            "Requirement already satisfied: pyasn1-modules>=0.0.5 in /usr/local/lib/python3.6/dist-packages (from oauth2client>=4.0.0->PyDrive) (0.2.8)\n",
            "Requirement already satisfied: httplib2>=0.9.1 in /usr/local/lib/python3.6/dist-packages (from oauth2client>=4.0.0->PyDrive) (0.17.4)\n",
            "Requirement already satisfied: pyasn1>=0.1.7 in /usr/local/lib/python3.6/dist-packages (from oauth2client>=4.0.0->PyDrive) (0.4.8)\n",
            "Requirement already satisfied: six>=1.6.1 in /usr/local/lib/python3.6/dist-packages (from oauth2client>=4.0.0->PyDrive) (1.15.0)\n",
            "Requirement already satisfied: rsa>=3.1.4 in /usr/local/lib/python3.6/dist-packages (from oauth2client>=4.0.0->PyDrive) (4.6)\n",
            "Requirement already satisfied: google-auth>=1.4.1 in /usr/local/lib/python3.6/dist-packages (from google-api-python-client>=1.2->PyDrive) (1.17.2)\n",
            "Requirement already satisfied: uritemplate<4dev,>=3.0.0 in /usr/local/lib/python3.6/dist-packages (from google-api-python-client>=1.2->PyDrive) (3.0.1)\n",
            "Requirement already satisfied: google-auth-httplib2>=0.0.3 in /usr/local/lib/python3.6/dist-packages (from google-api-python-client>=1.2->PyDrive) (0.0.4)\n",
            "Requirement already satisfied: cachetools<5.0,>=2.0.0 in /usr/local/lib/python3.6/dist-packages (from google-auth>=1.4.1->google-api-python-client>=1.2->PyDrive) (4.1.1)\n",
            "Requirement already satisfied: setuptools>=40.3.0 in /usr/local/lib/python3.6/dist-packages (from google-auth>=1.4.1->google-api-python-client>=1.2->PyDrive) (50.3.2)\n"
          ],
          "name": "stdout"
        }
      ]
    },
    {
      "cell_type": "markdown",
      "metadata": {
        "id": "ZH-gurwVPNQj"
      },
      "source": [
        "Importando as bibliotecas de manipulação de dos arquivos pydrive<br>.\n",
        "https://gsuitedevs.github.io/PyDrive/docs/build/html/index.html#"
      ]
    },
    {
      "cell_type": "code",
      "metadata": {
        "id": "gEYh-xl5E9VY",
        "colab": {
          "base_uri": "https://localhost:8080/"
        },
        "outputId": "da3a54d8-46d1-4d7a-e14a-e304b0670d94"
      },
      "source": [
        "from pydrive.auth import GoogleAuth\n",
        "from pydrive.drive import GoogleDrive\n",
        "from oauth2client.client import GoogleCredentials\n",
        "\n",
        "# Se estiver executando no Google Colaboratory\n",
        "import sys\n",
        "# Retorna true ou false se estiver no Google Colaboratory\n",
        "IN_COLAB = 'google.colab' in sys.modules\n",
        "if IN_COLAB:\n",
        "  # Biblioteca para autenticar o usuário somente no Google Colaboratory\n",
        "  from google.colab import auth\n",
        "\n",
        "print('Import realizado!')"
      ],
      "execution_count": 112,
      "outputs": [
        {
          "output_type": "stream",
          "text": [
            "Import realizado!\n"
          ],
          "name": "stdout"
        }
      ]
    },
    {
      "cell_type": "markdown",
      "metadata": {
        "id": "MiQqJQcbPEE8"
      },
      "source": [
        "Autenticando o usuário"
      ]
    },
    {
      "cell_type": "code",
      "metadata": {
        "id": "AkHNHYBBExy7"
      },
      "source": [
        "# Se estiver executando no Google Colaboratory\n",
        "if IN_COLAB:\n",
        "   auth.authenticate_user()\n",
        "   gauth = GoogleAuth()\n",
        "   gauth.credentials = GoogleCredentials.get_application_default()\n",
        "   drive = GoogleDrive(gauth)"
      ],
      "execution_count": 113,
      "outputs": []
    },
    {
      "cell_type": "markdown",
      "metadata": {
        "id": "rcsTLhGjPfVi"
      },
      "source": [
        "Baixa o arquivo do id especificado em um pasta do google drive."
      ]
    },
    {
      "cell_type": "code",
      "metadata": {
        "id": "FlaCGYoH47tf",
        "colab": {
          "base_uri": "https://localhost:8080/"
        },
        "outputId": "8081409b-9443-4f79-a43c-a8b000f3ded5"
      },
      "source": [
        "# Biblioteca para acessar o sistema de arquivos\n",
        "import os\n",
        "\n",
        "# Id do arquivo do Google Drive\n",
        "# Downloaded = drive.CreateFile({'id':'0B7XkCwpI5KDYNlNUTTlSS21pQmM'})\n",
        "\n",
        "# Download do arquivo para a pasta e arquivos especificados\n",
        "# Downloaded.GetContentFile('GoogleNews-vectors-negative300.bin.gz')\n",
        "\n",
        "# Verifica se o arquivo do modelo existe\n",
        "if not os.path.exists('GoogleNews-vectors-negative300.bin.gz'):  \n",
        "    # Se estiver executando no Google Colaboratory\n",
        "    if IN_COLAB:\n",
        "        # Realiza o download do arquivo\n",
        "        downloaded = drive.CreateFile({'id':'0B7XkCwpI5KDYNlNUTTlSS21pQmM'})\n",
        "\n",
        "        # Salva o arquivo no diretório 'content' do colab\n",
        "        downloaded.GetContentFile('GoogleNews-vectors-negative300.bin.gz')\n",
        "\n",
        "        print(\"Arquivo {0} baixado\".format('GoogleNews-vectors-negative300.bin.gz'))\n",
        "else:\n",
        "    print(\"Arquivo {0} já existe\".format('GoogleNews-vectors-negative300.bin.gz'))"
      ],
      "execution_count": 114,
      "outputs": [
        {
          "output_type": "stream",
          "text": [
            "Arquivo GoogleNews-vectors-negative300.bin.gz já existe\n"
          ],
          "name": "stdout"
        }
      ]
    },
    {
      "cell_type": "markdown",
      "metadata": {
        "id": "YP5N6uu5N3Iu"
      },
      "source": [
        "Mostra o diretório corrente."
      ]
    },
    {
      "cell_type": "code",
      "metadata": {
        "id": "gMVO2c6WN5yX",
        "colab": {
          "base_uri": "https://localhost:8080/"
        },
        "outputId": "99c4d573-a196-47a0-8eb7-94c3dcccd5fe"
      },
      "source": [
        "!pwd"
      ],
      "execution_count": 115,
      "outputs": [
        {
          "output_type": "stream",
          "text": [
            "/content\n"
          ],
          "name": "stdout"
        }
      ]
    },
    {
      "cell_type": "markdown",
      "metadata": {
        "id": "9U3Zr4S6NxYu"
      },
      "source": [
        "Lista os arquivos do diretório corrente."
      ]
    },
    {
      "cell_type": "code",
      "metadata": {
        "id": "XsB-XFSyNzqT",
        "colab": {
          "base_uri": "https://localhost:8080/"
        },
        "outputId": "1090edfc-d6a2-4e97-94a0-bb0d02834676"
      },
      "source": [
        "!ls -la"
      ],
      "execution_count": 116,
      "outputs": [
        {
          "output_type": "stream",
          "text": [
            "total 1658612\n",
            "drwxr-xr-x 1 root root       4096 Dec 10 19:15  .\n",
            "drwxr-xr-x 1 root root       4096 Dec 10 19:02  ..\n",
            "-rw-r--r-- 1 root root        720 Dec 10 19:04  adc.json\n",
            "-rw-r--r-- 1 root root         41 Dec 10 19:08  arquivo.txt\n",
            "drwxr-xr-x 4 root root       4096 Dec 14  2018  cola_public_1.0\n",
            "-rw-r--r-- 1 root root     260499 Dec 10 19:15 'cola_public_1.1 (1).zip'\n",
            "-rw-r--r-- 1 root root     260499 Dec 10 19:04  cola_public_1.1.zip\n",
            "drwxr-xr-x 1 root root       4096 Dec 10 19:04  .config\n",
            "-rw-r--r-- 1 root root        392 Dec 10 19:08  dados.csv\n",
            "-rw-r--r-- 1 root root        224 Dec 10 19:08  dados.json\n",
            "drwx------ 5 root root       4096 Dec 10 19:08  drive\n",
            "-rw-r--r-- 1 root root 1647046227 Dec 10 19:05  GoogleNews-vectors-negative300.bin.gz\n",
            "-rw-r--r-- 1 root root   50783959 Dec 10 19:15  imdb-reviews-pt-br.zip\n",
            "drwxrwxr-x 3 root root       4096 Dec 10 19:15  __MACOSX\n",
            "-rw-r--r-- 1 root root       1968 Dec 10 19:08  pessoas.json\n",
            "drwxr-xr-x 1 root root       4096 Dec  2 22:04  sample_data\n"
          ],
          "name": "stdout"
        }
      ]
    },
    {
      "cell_type": "markdown",
      "metadata": {
        "id": "415S_PMdYNHo"
      },
      "source": [
        "### Montando uma pasta no GoogleDrive para o Colaboratory"
      ]
    },
    {
      "cell_type": "markdown",
      "metadata": {
        "id": "geucmbQyP54y"
      },
      "source": [
        "Montando uma pasta para um projeto do Google Colaboratory a partir do Google Drive.\n",
        "\n",
        "Para montar a pasta foi utilizada as próprias as ferramentas do Google Colaboratory, que exige a autenticação do usuário em uma outra janela do navegador.<br>\n",
        "\n",
        "O usuário precisar conceder  permissão para o **Google Drive File Stream** acessar o seu Google Drive.\n",
        "\n",
        "Copie o código de autorização da URL apresentada e copie e cole na caixa do código de autorização.\n",
        "\n",
        "https://colab.research.google.com/notebooks/io.ipynb#scrollTo=c2W5A2px3doP\n",
        "\n",
        "**Necessário setar variável IN_COLAB.**"
      ]
    },
    {
      "cell_type": "code",
      "metadata": {
        "id": "pcATNcDbQfy1",
        "colab": {
          "base_uri": "https://localhost:8080/"
        },
        "outputId": "1dd0868b-110b-4942-b195-947d7afa8e42"
      },
      "source": [
        "# Se estiver executando no Google Colaboratory\n",
        "if IN_COLAB:\n",
        "    # Import necessário\n",
        "    from google.colab import drive\n",
        "\n",
        "    # Monta o drive na pasta especificada\n",
        "    drive.mount('/content/drive')"
      ],
      "execution_count": 117,
      "outputs": [
        {
          "output_type": "stream",
          "text": [
            "Drive already mounted at /content/drive; to attempt to forcibly remount, call drive.mount(\"/content/drive\", force_remount=True).\n"
          ],
          "name": "stdout"
        }
      ]
    },
    {
      "cell_type": "markdown",
      "metadata": {
        "id": "ExYVdtqwN8jo"
      },
      "source": [
        "Mostra o diretório corrente."
      ]
    },
    {
      "cell_type": "code",
      "metadata": {
        "id": "P7t2PnJUN-GI",
        "colab": {
          "base_uri": "https://localhost:8080/"
        },
        "outputId": "bc8459f1-1a10-411f-e6f7-8009fd1e7181"
      },
      "source": [
        "!pwd"
      ],
      "execution_count": 118,
      "outputs": [
        {
          "output_type": "stream",
          "text": [
            "/content\n"
          ],
          "name": "stdout"
        }
      ]
    },
    {
      "cell_type": "markdown",
      "metadata": {
        "id": "f5pNKqq9OFBp"
      },
      "source": [
        "Lista os arquivos do diretório corrente."
      ]
    },
    {
      "cell_type": "code",
      "metadata": {
        "id": "JhHRbB3VHq87",
        "colab": {
          "base_uri": "https://localhost:8080/"
        },
        "outputId": "f421d627-44cf-4eb7-c0c8-1e74bac342c9"
      },
      "source": [
        "!ls -la"
      ],
      "execution_count": 119,
      "outputs": [
        {
          "output_type": "stream",
          "text": [
            "total 1658612\n",
            "drwxr-xr-x 1 root root       4096 Dec 10 19:15  .\n",
            "drwxr-xr-x 1 root root       4096 Dec 10 19:02  ..\n",
            "-rw-r--r-- 1 root root        720 Dec 10 19:04  adc.json\n",
            "-rw-r--r-- 1 root root         41 Dec 10 19:08  arquivo.txt\n",
            "drwxr-xr-x 4 root root       4096 Dec 14  2018  cola_public_1.0\n",
            "-rw-r--r-- 1 root root     260499 Dec 10 19:15 'cola_public_1.1 (1).zip'\n",
            "-rw-r--r-- 1 root root     260499 Dec 10 19:04  cola_public_1.1.zip\n",
            "drwxr-xr-x 1 root root       4096 Dec 10 19:04  .config\n",
            "-rw-r--r-- 1 root root        392 Dec 10 19:08  dados.csv\n",
            "-rw-r--r-- 1 root root        224 Dec 10 19:08  dados.json\n",
            "drwx------ 5 root root       4096 Dec 10 19:08  drive\n",
            "-rw-r--r-- 1 root root 1647046227 Dec 10 19:05  GoogleNews-vectors-negative300.bin.gz\n",
            "-rw-r--r-- 1 root root   50783959 Dec 10 19:15  imdb-reviews-pt-br.zip\n",
            "drwxrwxr-x 3 root root       4096 Dec 10 19:15  __MACOSX\n",
            "-rw-r--r-- 1 root root       1968 Dec 10 19:08  pessoas.json\n",
            "drwxr-xr-x 1 root root       4096 Dec  2 22:04  sample_data\n"
          ],
          "name": "stdout"
        }
      ]
    },
    {
      "cell_type": "markdown",
      "metadata": {
        "id": "ldOuGR5P5zHU"
      },
      "source": [
        "# Arquivos Padrão\n",
        "\n",
        "Os arquivos podem ser abertos de duas maneiras: para  leitura ('r') ou para escrita ('w').\n",
        "\n",
        "https://aprendacompy.readthedocs.io/pt/latest/capitulo_11.html\n",
        "\n",
        "https://cadernoscicomp.com.br/tutorial/introducao-a-programacao-em-python-3/manipulando-arquivos/"
      ]
    },
    {
      "cell_type": "markdown",
      "metadata": {
        "id": "12z97N5Z60qH"
      },
      "source": [
        "## Criando e abrindo para escrita\n",
        "\n",
        "O argumento do método write tem que ser uma string com o nome do arquivo e o modo de abertura.\n",
        "\n",
        "Modos de abertura:\n",
        "* leitura ('r')\n",
        "* escrita ('w')\n",
        "* append ('a')\n",
        "\n",
        "Tipo do arquivo:\n",
        "* Modo binário ('b')\n",
        "* Modo misto com '+'\n",
        "(leitura e escrita)\n",
        "\n",
        "**O 'w' abre um arquivo para escrita, mas apaga o conteúdo se arquivo já existir.**"
      ]
    },
    {
      "cell_type": "code",
      "metadata": {
        "id": "-OYxiYb351b_"
      },
      "source": [
        "# Cria e abre o arquivo \"arquivo.txt\" para escrita\n",
        "arquivo = open('arquivo.txt', 'w')\n",
        "\n",
        "# Escreve no arquivo\n",
        "linha = \"linha\" + str(1) + \" linha\" + str(2) + \"\\n\"\n",
        "arquivo.write(linha)\n",
        "\n",
        "linha = \"linha\" + str(3) + \" linha\" + str(4) + \"\\n\"\n",
        "arquivo.write(linha)\n",
        "\n",
        "# Fecha o arquivo\n",
        "arquivo.close()"
      ],
      "execution_count": 120,
      "outputs": []
    },
    {
      "cell_type": "markdown",
      "metadata": {
        "id": "YlO1v2nnCe2J"
      },
      "source": [
        "Criando e abrindo o arquivo para a escrita"
      ]
    },
    {
      "cell_type": "code",
      "metadata": {
        "id": "WHhC4GOUChKi"
      },
      "source": [
        "\n",
        "# Cria e abre o arquivo \"arquivo.txt\" para escrita\n",
        "arquivo = open('arquivo.txt', 'w')\n",
        "\n",
        "# Escreve no arquivo\n",
        "arquivo.writelines(\"linha1 linha2\\n\")\n",
        "arquivo.writelines(\"linha3 linha4\")\n",
        "\n",
        "# Fecha o arquivo\n",
        "arquivo.close()"
      ],
      "execution_count": 121,
      "outputs": []
    },
    {
      "cell_type": "markdown",
      "metadata": {
        "id": "OaCzgOUz7PsM"
      },
      "source": [
        "## Abrindo para leitura\n",
        "\n",
        "Se não especificarmos o  parâmetro '\\r', a forma padrão leitura será utilizada."
      ]
    },
    {
      "cell_type": "code",
      "metadata": {
        "id": "PuwimZRN9nNA",
        "colab": {
          "base_uri": "https://localhost:8080/"
        },
        "outputId": "0a768722-91d4-497d-8bb5-7cd1c9b3a743"
      },
      "source": [
        "# Abre o arquivo \"arquivo.txt\" para leitura\n",
        "arquivo = open('arquivo.txt', 'r')\n",
        "\n",
        "# Lê a primeira linha\n",
        "print(arquivo.read())\n",
        "\n",
        "# Lê a segunda linha\n",
        "print(arquivo.read())\n",
        "\n",
        "# Fecha o arquivo\n",
        "arquivo.close()"
      ],
      "execution_count": 122,
      "outputs": [
        {
          "output_type": "stream",
          "text": [
            "linha1 linha2\n",
            "linha3 linha4\n",
            "\n"
          ],
          "name": "stdout"
        }
      ]
    },
    {
      "cell_type": "markdown",
      "metadata": {
        "id": "2h5O1RwV-M2R"
      },
      "source": [
        "## Leitura de linha a linha\n",
        "\n",
        "O método readline lê todos os caracteres e inclui o próximo caractere de nova linha(\\n)."
      ]
    },
    {
      "cell_type": "code",
      "metadata": {
        "id": "7t_J0wbA9V2Y",
        "colab": {
          "base_uri": "https://localhost:8080/"
        },
        "outputId": "93e663b6-247a-4f8d-c654-f5756241c9be"
      },
      "source": [
        "# Abre o arquivo \"arquivo.txt\" para leitura\n",
        "arquivo = open('arquivo.txt', 'r')\n",
        "\n",
        "# Lê a primeira linha\n",
        "print(arquivo.readline())\n",
        "\n",
        "# Lê a segunda linha\n",
        "print(arquivo.readline())\n",
        "\n",
        "# Fecha o arquivo\n",
        "arquivo.close()"
      ],
      "execution_count": 123,
      "outputs": [
        {
          "output_type": "stream",
          "text": [
            "linha1 linha2\n",
            "\n",
            "linha3 linha4\n"
          ],
          "name": "stdout"
        }
      ]
    },
    {
      "cell_type": "markdown",
      "metadata": {
        "id": "0-bADk209ytu"
      },
      "source": [
        "## Lendo todas as linhas\n",
        "\n",
        "O método readlines retorna todas as linhas restantes como uma lista de strings."
      ]
    },
    {
      "cell_type": "code",
      "metadata": {
        "id": "RTVeu3qm91ZP",
        "colab": {
          "base_uri": "https://localhost:8080/"
        },
        "outputId": "7a6a77ee-911f-4546-b6f4-ab4abfa3d791"
      },
      "source": [
        "# Abre o arquivo \"arquivo.txt\" para leitura\n",
        "arquivo = open('arquivo.txt', 'r')\n",
        "\n",
        "# Lê todas as linhas\n",
        "print(arquivo.readlines())\n",
        "\n",
        "# Fecha o arquivo\n",
        "arquivo.close()"
      ],
      "execution_count": 124,
      "outputs": [
        {
          "output_type": "stream",
          "text": [
            "['linha1 linha2\\n', 'linha3 linha4']\n"
          ],
          "name": "stdout"
        }
      ]
    },
    {
      "cell_type": "markdown",
      "metadata": {
        "id": "aHOGcu8d9WNM"
      },
      "source": [
        "##Adicinando linhas\n",
        "\n",
        "Lendo todas as linhas e adicionando conteúdo"
      ]
    },
    {
      "cell_type": "code",
      "metadata": {
        "id": "_2Cb6STC-nS0",
        "colab": {
          "base_uri": "https://localhost:8080/"
        },
        "outputId": "709a803e-a9ea-4172-f687-41fd6f05a9ee"
      },
      "source": [
        "# Abre o arquivo \"arquivo.txt\" para leitura\n",
        "arquivo = open('arquivo.txt', 'r')\n",
        "\n",
        "#lê todas as linhas\n",
        "conteudo = arquivo.readlines()\n",
        "\n",
        "#adiciona o conteúdo\n",
        "#o método append() é proveniente de uma lista\n",
        "conteudo.append(\"\\nlinha5 linha6\")\n",
        "\n",
        "# Fecha o arquivo\n",
        "arquivo.close()\n",
        "\n",
        "#======abre para escrever no arquivo\n",
        "# Abre novamente o arquivo para escrita.\n",
        "arquivo = open('arquivo.txt', 'w')\n",
        "arquivo.writelines(conteudo)\n",
        "\n",
        "# Fecha o arquivo\n",
        "arquivo.close()\n",
        "\n",
        "# ======leitura do arquivo depois da adição\n",
        "# Abre o arquivo \"arquivo.txt\" para leitura\n",
        "arquivo = open('arquivo.txt', 'r')\n",
        "\n",
        "# Lê as linhas\n",
        "print(arquivo.readlines())\n",
        "\n",
        "# Fecha o arquivo\n",
        "arquivo.close()"
      ],
      "execution_count": 125,
      "outputs": [
        {
          "output_type": "stream",
          "text": [
            "['linha1 linha2\\n', 'linha3 linha4\\n', 'linha5 linha6']\n"
          ],
          "name": "stdout"
        }
      ]
    },
    {
      "cell_type": "markdown",
      "metadata": {
        "id": "VP7PqSSa_pDU"
      },
      "source": [
        "## Percorrendo o arquivo com for\n",
        "\n",
        "Sempre tem que lembrar de chamar a função close() "
      ]
    },
    {
      "cell_type": "code",
      "metadata": {
        "id": "X9Hg6WlS_9UE",
        "colab": {
          "base_uri": "https://localhost:8080/"
        },
        "outputId": "41e5eb6c-2d9c-491e-fb88-655a2c140f05"
      },
      "source": [
        "# Abre o arquivo \"arquivo.txt\" para leitura\n",
        "arquivo = open('arquivo.txt', 'r')\n",
        "\n",
        "# Percorre o arquivo\n",
        "for linha in arquivo:\n",
        "    # .strip() remove o \\n do final da linha)\n",
        "    print(linha.strip())\n",
        "\n",
        "# Fecha o arquivo\n",
        "arquivo.close()"
      ],
      "execution_count": 126,
      "outputs": [
        {
          "output_type": "stream",
          "text": [
            "linha1 linha2\n",
            "linha3 linha4\n",
            "linha5 linha6\n"
          ],
          "name": "stdout"
        }
      ]
    },
    {
      "cell_type": "markdown",
      "metadata": {
        "id": "OOM0yK_iADg8"
      },
      "source": [
        "## Percorrendo o arquivo com with\n",
        "\n",
        "**with** cria um contexto que garante que todos os recursos que estão sendo usados no contexto sejam fechados quando ele termina. Reduz o código deixando mais limpo."
      ]
    },
    {
      "cell_type": "code",
      "metadata": {
        "id": "L7l0o0vU7P7l",
        "colab": {
          "base_uri": "https://localhost:8080/"
        },
        "outputId": "3e89ff2c-1d7a-4eaf-dcc7-1c7bded61787"
      },
      "source": [
        "# Abre o arquivo \"arquivo.txt\" para leitura\n",
        "with open('arquivo.txt', 'r') as arquivo:\n",
        "    print(arquivo.read())"
      ],
      "execution_count": 127,
      "outputs": [
        {
          "output_type": "stream",
          "text": [
            "linha1 linha2\n",
            "linha3 linha4\n",
            "linha5 linha6\n"
          ],
          "name": "stdout"
        }
      ]
    },
    {
      "cell_type": "markdown",
      "metadata": {
        "id": "iK8rqG7Fkvm3"
      },
      "source": [
        "#Arquivos CSV"
      ]
    },
    {
      "cell_type": "markdown",
      "metadata": {
        "id": "y83g4uXZUAf_"
      },
      "source": [
        "## Criando arquivo csv para os exemplos\n",
        "\n",
        "Crie o arquivo **dados.csv** com os dados abaixo:\n",
        "\n",
        "```\n",
        "nome,idade,email,salario,uf\n",
        "Joao,33,joao@gmail.com,1750.0,SC\n",
        "Pedro,35,pedro@gmail.com,3250.0,RS\n",
        "Maria,21,maria@gmail.com,3500.0,SC\n",
        "Jose,25,jose@gmail.com,3000.0,RS\n",
        "Marco,26,marco@gmail.com,4000.0,RS\n",
        "Andre,27,andre@gmail.com,2500.0,SC\n",
        "Fernando,21,fernando@gmail.com,2000.0,SC\n",
        "Luiz,22,luiz@gmail.com,1500.0,PR\n",
        "Guilherme,20, guilherme@gmail.com,3500.0,SC\n",
        "Antonio,19, antonio@gmail.com,2000.0,PR\n",
        "```\n"
      ]
    },
    {
      "cell_type": "code",
      "metadata": {
        "id": "fJ8lFNkfUCpu"
      },
      "source": [
        "# Cria e abre o arquivo \"dados.csv\" para escrita\n",
        "arquivo = open('dados.csv', 'w')\n",
        "\n",
        "# Escreve no arquivo\n",
        "arquivo.write(\"nome,idade,email,salario,uf\\n\")\n",
        "arquivo.write(\"Joao,33,joao@gmail.com,1750.0,SC\\n\")\n",
        "arquivo.write(\"Pedro,35,pedro@gmail.com,3250.0,RS\\n\")\n",
        "arquivo.write(\"Maria,21,maria@gmail.com,3500.0,SC\\n\")\n",
        "arquivo.write(\"Jose,25,jose@gmail.com,3000.0,RS\\n\")\n",
        "arquivo.write(\"Marco,26,marco@gmail.com,4000.0,RS\\n\")\n",
        "arquivo.write(\"Andre,27,andre@gmail.com,2500.0,SC\\n\")\n",
        "arquivo.write(\"Fernando,21,fernando@gmail.com,2000.0,SC\\n\")\n",
        "arquivo.write(\"Luiz,22,luiz@gmail.com,1500.0,PR\\n\")\n",
        "arquivo.write(\"Guilherme,20, guilherme@gmail.com,3500.0,SC\\n\")\n",
        "arquivo.write(\"Antonio,19, antonio@gmail.com,2000.0,PR\\n\")\n",
        "\n",
        "# Fecha o arquivo\n",
        "arquivo.close()"
      ],
      "execution_count": 128,
      "outputs": []
    },
    {
      "cell_type": "markdown",
      "metadata": {
        "id": "uE_nvIOzrZMI"
      },
      "source": [
        "##Usando a biblioteca csv\n",
        "\n",
        "https://docs.python.org/3/library/csv.html\n"
      ]
    },
    {
      "cell_type": "markdown",
      "metadata": {
        "id": "X8OzOqxH0nHB"
      },
      "source": [
        "### Exemplo 1 - Abrindo o arquivo de forma simples"
      ]
    },
    {
      "cell_type": "code",
      "metadata": {
        "id": "XsULUN6E0Lwj",
        "colab": {
          "base_uri": "https://localhost:8080/"
        },
        "outputId": "ee176ad7-42e3-4918-f2c8-8cd3135f4af6"
      },
      "source": [
        "# Biblioteca para manipular csv\n",
        "import csv\n",
        "\n",
        "# Caminho e nome do arquivo\n",
        "nomearquivo = '/content/dados.csv'\n",
        "\n",
        "# Abre o arquivo\n",
        "arquivo_csv = open(nomearquivo, encoding='UTF-8')\n",
        "\n",
        "# Cria o leito para o arquivo\n",
        "leitor_csv = csv.reader(arquivo_csv, delimiter=',')\n",
        "\n",
        "# Avança o leitor para pular o cabeçalho\n",
        "leitor_csv.__next__()\n",
        "\n",
        "# O leitor percorre o arquivo e armazena na variável linha\n",
        "for linha in leitor_csv:\n",
        "    print(linha)"
      ],
      "execution_count": 129,
      "outputs": [
        {
          "output_type": "stream",
          "text": [
            "['Joao', '33', 'joao@gmail.com', '1750.0', 'SC']\n",
            "['Pedro', '35', 'pedro@gmail.com', '3250.0', 'RS']\n",
            "['Maria', '21', 'maria@gmail.com', '3500.0', 'SC']\n",
            "['Jose', '25', 'jose@gmail.com', '3000.0', 'RS']\n",
            "['Marco', '26', 'marco@gmail.com', '4000.0', 'RS']\n",
            "['Andre', '27', 'andre@gmail.com', '2500.0', 'SC']\n",
            "['Fernando', '21', 'fernando@gmail.com', '2000.0', 'SC']\n",
            "['Luiz', '22', 'luiz@gmail.com', '1500.0', 'PR']\n",
            "['Guilherme', '20', ' guilherme@gmail.com', '3500.0', 'SC']\n",
            "['Antonio', '19', ' antonio@gmail.com', '2000.0', 'PR']\n"
          ],
          "name": "stdout"
        }
      ]
    },
    {
      "cell_type": "markdown",
      "metadata": {
        "id": "pxfq1sjzzayS"
      },
      "source": [
        "### Exemplo 2 - Abrindo o arquivo de forma usual com with"
      ]
    },
    {
      "cell_type": "code",
      "metadata": {
        "id": "RzJ_VDtarbdO",
        "colab": {
          "base_uri": "https://localhost:8080/"
        },
        "outputId": "d118362d-cd42-4ecc-8e7c-03b5ac1c4394"
      },
      "source": [
        "# Biblioteca para manipular csv\n",
        "import csv\n",
        "\n",
        "# Caminho e nome do arquivo\n",
        "nomearquivo = '/content/dados.csv'\n",
        "\n",
        "# Abre o arquivo\n",
        "with open(nomearquivo, encoding='UTF-8') as arquivo_csv:\n",
        "\n",
        "    # Cria o leito para o arquivo\n",
        "    leitor_csv = csv.reader(arquivo_csv, delimiter=',')\n",
        "\n",
        "    # Avança o leitor para pular o cabeçalho\n",
        "    leitor_csv.__next__()\n",
        "\n",
        "    # O leitor percorre o arquivo e armazena na variável linha\n",
        "    for linha in leitor_csv:\n",
        "        print(linha)"
      ],
      "execution_count": 130,
      "outputs": [
        {
          "output_type": "stream",
          "text": [
            "['Joao', '33', 'joao@gmail.com', '1750.0', 'SC']\n",
            "['Pedro', '35', 'pedro@gmail.com', '3250.0', 'RS']\n",
            "['Maria', '21', 'maria@gmail.com', '3500.0', 'SC']\n",
            "['Jose', '25', 'jose@gmail.com', '3000.0', 'RS']\n",
            "['Marco', '26', 'marco@gmail.com', '4000.0', 'RS']\n",
            "['Andre', '27', 'andre@gmail.com', '2500.0', 'SC']\n",
            "['Fernando', '21', 'fernando@gmail.com', '2000.0', 'SC']\n",
            "['Luiz', '22', 'luiz@gmail.com', '1500.0', 'PR']\n",
            "['Guilherme', '20', ' guilherme@gmail.com', '3500.0', 'SC']\n",
            "['Antonio', '19', ' antonio@gmail.com', '2000.0', 'PR']\n"
          ],
          "name": "stdout"
        }
      ]
    },
    {
      "cell_type": "markdown",
      "metadata": {
        "id": "eQ1Ii_7TzfN3"
      },
      "source": [
        "### Exemplo 3 - Acesso específico\n"
      ]
    },
    {
      "cell_type": "code",
      "metadata": {
        "id": "qEMrXlT_zfgH",
        "colab": {
          "base_uri": "https://localhost:8080/"
        },
        "outputId": "f5f06319-abd4-4d77-f5f7-ff8f48882315"
      },
      "source": [
        "# Biblioteca para manipular csv\n",
        "import csv\n",
        "\n",
        "# Caminho e nome do arquivo\n",
        "nomearquivo = '/content/dados.csv'\n",
        "\n",
        "# Abre o arquivo\n",
        "with open(nomearquivo, encoding='UTF-8') as arquivo_csv:\n",
        "\n",
        "    # Cria o leito para o arquivo\n",
        "    leitor_csv = csv.reader(arquivo_csv, delimiter=',')\n",
        "\n",
        "    # Avança o leitor para pular o cabeçalho\n",
        "    leitor_csv.__next__()\n",
        "\n",
        "    # O leitor percorre o arquivo e armazena na variável linha\n",
        "    for linha in leitor_csv:\n",
        "        # Acessa cada dado especificamente\n",
        "        print(linha[0] + ', ' + linha[1] + ', ' + linha[2])"
      ],
      "execution_count": 131,
      "outputs": [
        {
          "output_type": "stream",
          "text": [
            "Joao, 33, joao@gmail.com\n",
            "Pedro, 35, pedro@gmail.com\n",
            "Maria, 21, maria@gmail.com\n",
            "Jose, 25, jose@gmail.com\n",
            "Marco, 26, marco@gmail.com\n",
            "Andre, 27, andre@gmail.com\n",
            "Fernando, 21, fernando@gmail.com\n",
            "Luiz, 22, luiz@gmail.com\n",
            "Guilherme, 20,  guilherme@gmail.com\n",
            "Antonio, 19,  antonio@gmail.com\n"
          ],
          "name": "stdout"
        }
      ]
    },
    {
      "cell_type": "markdown",
      "metadata": {
        "id": "00xmFmQU03lk"
      },
      "source": [
        "### Exemplo 4 - Tratando possíveis erros"
      ]
    },
    {
      "cell_type": "code",
      "metadata": {
        "id": "kg90XHOz0320",
        "colab": {
          "base_uri": "https://localhost:8080/"
        },
        "outputId": "73cc28b4-296f-4d6e-caf1-6efbbd1ee8a9"
      },
      "source": [
        "# Biblioteca para manipular csv\n",
        "import csv\n",
        "\n",
        "# Caminho e nome do arquivo\n",
        "nomearquivo = '/content/dados.csv'\n",
        "\n",
        "# Abre o arquivo\n",
        "with open(nomearquivo, encoding='UTF-8') as arquivo_csv:\n",
        "\n",
        "    # Cria o leito para o arquivo\n",
        "    leitor_csv = csv.reader(arquivo_csv, delimiter=',')\n",
        "\n",
        "    # Início bloco protegido\n",
        "    try:\n",
        "      # Avança o leitor para pular o cabeçalho\n",
        "      leitor_csv.__next__()\n",
        "\n",
        "      # O leitor percorre o arquivo e armazena na variável linha\n",
        "      for linha in leitor_csv:\n",
        "          print(linha)\n",
        "    # Trata possíveis erros    \n",
        "    except csv.Error as e:\n",
        "        sys.exit('arquivo %s, linha %d: %s' % (nomearquivo, leitor_csv.line_num, e))"
      ],
      "execution_count": 132,
      "outputs": [
        {
          "output_type": "stream",
          "text": [
            "['Joao', '33', 'joao@gmail.com', '1750.0', 'SC']\n",
            "['Pedro', '35', 'pedro@gmail.com', '3250.0', 'RS']\n",
            "['Maria', '21', 'maria@gmail.com', '3500.0', 'SC']\n",
            "['Jose', '25', 'jose@gmail.com', '3000.0', 'RS']\n",
            "['Marco', '26', 'marco@gmail.com', '4000.0', 'RS']\n",
            "['Andre', '27', 'andre@gmail.com', '2500.0', 'SC']\n",
            "['Fernando', '21', 'fernando@gmail.com', '2000.0', 'SC']\n",
            "['Luiz', '22', 'luiz@gmail.com', '1500.0', 'PR']\n",
            "['Guilherme', '20', ' guilherme@gmail.com', '3500.0', 'SC']\n",
            "['Antonio', '19', ' antonio@gmail.com', '2000.0', 'PR']\n"
          ],
          "name": "stdout"
        }
      ]
    },
    {
      "cell_type": "markdown",
      "metadata": {
        "id": "rBFl9-ww3Uh0"
      },
      "source": [
        "### Exemplo 5 - Tratando como um dicionário\n",
        "\n",
        "Tratando o arquivo csv como um dicionário"
      ]
    },
    {
      "cell_type": "code",
      "metadata": {
        "id": "h3cK-HiH3ZCy",
        "colab": {
          "base_uri": "https://localhost:8080/"
        },
        "outputId": "3f815a32-c6cf-4414-95d9-b56a9c3e7cff"
      },
      "source": [
        "# Biblioteca para manipular csv\n",
        "import csv\n",
        "\n",
        "# Caminho e nome do arquivo\n",
        "nomearquivo = '/content/dados.csv'\n",
        "\n",
        "# Abre o arquivo\"\n",
        "# cada primeira linha do arquivo tem o caracter \"\\ufeff\" \n",
        "# para evitar este caracter usar encoding='utf-8-sig' na abertura do arquivo\n",
        "with open(nomearquivo, encoding='utf-8-sig') as arquivo_csv:\n",
        "\n",
        "  # Abre o arquivo e retorna o dicionário\n",
        "  leitor_dic = csv.DictReader(arquivo_csv, delimiter=',')\n",
        "\n",
        " # O leitor percorre o arquivo e armazena na variável linha\n",
        "  for linha in leitor_dic:\n",
        "      # Recupera os valores da linha chave(nome da coluna)\n",
        "      print(\"Nome:\", linha['nome'], \" - Idade:\", linha['idade'], \" - Email:\", linha['email'])"
      ],
      "execution_count": 133,
      "outputs": [
        {
          "output_type": "stream",
          "text": [
            "Nome: Joao  - Idade: 33  - Email: joao@gmail.com\n",
            "Nome: Pedro  - Idade: 35  - Email: pedro@gmail.com\n",
            "Nome: Maria  - Idade: 21  - Email: maria@gmail.com\n",
            "Nome: Jose  - Idade: 25  - Email: jose@gmail.com\n",
            "Nome: Marco  - Idade: 26  - Email: marco@gmail.com\n",
            "Nome: Andre  - Idade: 27  - Email: andre@gmail.com\n",
            "Nome: Fernando  - Idade: 21  - Email: fernando@gmail.com\n",
            "Nome: Luiz  - Idade: 22  - Email: luiz@gmail.com\n",
            "Nome: Guilherme  - Idade: 20  - Email:  guilherme@gmail.com\n",
            "Nome: Antonio  - Idade: 19  - Email:  antonio@gmail.com\n"
          ],
          "name": "stdout"
        }
      ]
    },
    {
      "cell_type": "markdown",
      "metadata": {
        "id": "xIboDGmi2ai1"
      },
      "source": [
        "##Usando a biblioteca pandas\n",
        "\n",
        "É uma biblioteca de processamento de dados:\n",
        "- I/O em arquivo json (ex. pd.read_json)\n",
        "- I/O em arquivo csv (ex. pd.read_csv)\n",
        "\n",
        "\n",
        "API:\n",
        "https://pandas.pydata.org/docs/reference/index.html\n",
        "\n",
        "Exemplos:\n",
        "https://medium.com/data-hackers/uma-introdu%C3%A7%C3%A3o-simples-ao-pandas-1e15eea37fa1\n",
        "\n",
        "Artigo original:\n",
        "https://pandas.pydata.org/pandas-docs/stable/getting_started/10min.html\n",
        "\n",
        "\n",
        "Os métodos retornam um DataFrame. DataFrame é uma estrutura bidimensional de dados, como uma planilha. São objetos extremamentes flexíveis, podem armazenar listas, vetores e até outros dataframes."
      ]
    },
    {
      "cell_type": "markdown",
      "metadata": {
        "id": "UxSCs7f22ftf"
      },
      "source": [
        "### Exemplo 1 - Abrindo arquivo e retornando um DataFrame\n",
        "\n",
        "O separador padrão é ',' mas pode ser modificado pelo parâmetro \"**sep=';'**\" em read_csv."
      ]
    },
    {
      "cell_type": "code",
      "metadata": {
        "id": "VlCY-XCT2gEC",
        "colab": {
          "base_uri": "https://localhost:8080/"
        },
        "outputId": "f70518d8-e9ea-4266-d452-f460c3045048"
      },
      "source": [
        "# Biblioteca de processamento de dados, I/O em arquivo csv (ex. pd.read_csv)\n",
        "import pandas as pd\n",
        "\n",
        "# Caminho e nome do arquivo\n",
        "nomearquivo = '/content/dados.csv'\n",
        "\n",
        "# Abre o arquivo e retorna o DataFrame\n",
        "df = pd.read_csv(nomearquivo, encoding='UTF-8')\n",
        "\n",
        "# Mostra os dados do DataFrame\n",
        "print (df)"
      ],
      "execution_count": 134,
      "outputs": [
        {
          "output_type": "stream",
          "text": [
            "        nome  idade                 email  salario  uf\n",
            "0       Joao     33        joao@gmail.com   1750.0  SC\n",
            "1      Pedro     35       pedro@gmail.com   3250.0  RS\n",
            "2      Maria     21       maria@gmail.com   3500.0  SC\n",
            "3       Jose     25        jose@gmail.com   3000.0  RS\n",
            "4      Marco     26       marco@gmail.com   4000.0  RS\n",
            "5      Andre     27       andre@gmail.com   2500.0  SC\n",
            "6   Fernando     21    fernando@gmail.com   2000.0  SC\n",
            "7       Luiz     22        luiz@gmail.com   1500.0  PR\n",
            "8  Guilherme     20   guilherme@gmail.com   3500.0  SC\n",
            "9    Antonio     19     antonio@gmail.com   2000.0  PR\n"
          ],
          "name": "stdout"
        }
      ]
    },
    {
      "cell_type": "markdown",
      "metadata": {
        "id": "bI2K0Ecnp8Jb"
      },
      "source": [
        "### Exemplo 2 - Informações do DataFrame\n",
        "\n"
      ]
    },
    {
      "cell_type": "code",
      "metadata": {
        "id": "11Tx3URhp8Jc",
        "colab": {
          "base_uri": "https://localhost:8080/"
        },
        "outputId": "eaf3c9f2-2fa6-47a5-e2d2-ff0babf158e0"
      },
      "source": [
        "# Biblioteca de processamento de dados, I/O em arquivo csv (ex. pd.read_csv)\n",
        "import pandas as pd\n",
        "\n",
        "# Caminho e nome do arquivo\n",
        "nomearquivo = '/content/dados.csv'\n",
        "\n",
        "# Mostra as informações do DataFrame\n",
        "print (df.info())"
      ],
      "execution_count": 135,
      "outputs": [
        {
          "output_type": "stream",
          "text": [
            "<class 'pandas.core.frame.DataFrame'>\n",
            "RangeIndex: 10 entries, 0 to 9\n",
            "Data columns (total 5 columns):\n",
            " #   Column   Non-Null Count  Dtype  \n",
            "---  ------   --------------  -----  \n",
            " 0   nome     10 non-null     object \n",
            " 1   idade    10 non-null     int64  \n",
            " 2   email    10 non-null     object \n",
            " 3   salario  10 non-null     float64\n",
            " 4   uf       10 non-null     object \n",
            "dtypes: float64(1), int64(1), object(3)\n",
            "memory usage: 528.0+ bytes\n",
            "None\n"
          ],
          "name": "stdout"
        }
      ]
    },
    {
      "cell_type": "markdown",
      "metadata": {
        "id": "E3yUHakZDNCk"
      },
      "source": [
        "### Exemplo 3 - Mostrando todos os dados\n",
        "\n"
      ]
    },
    {
      "cell_type": "code",
      "metadata": {
        "id": "qzQoWmFfDbMy",
        "colab": {
          "base_uri": "https://localhost:8080/"
        },
        "outputId": "48c43bc9-8f96-4d75-c763-37e2af2f8bcc"
      },
      "source": [
        "# Biblioteca de processamento de dados, I/O em arquivo csv (ex. pd.read_csv)\n",
        "import pandas as pd\n",
        "\n",
        "# Caminho e nome do arquivo\n",
        "nomearquivo = '/content/dados.csv'\n",
        "\n",
        "# Abre o arquivo e retorna o DataFrame\n",
        "df = pd.read_csv(nomearquivo, encoding='UTF-8')\n",
        "\n",
        "# Mostra os dados\n",
        "print(df)"
      ],
      "execution_count": 136,
      "outputs": [
        {
          "output_type": "stream",
          "text": [
            "        nome  idade                 email  salario  uf\n",
            "0       Joao     33        joao@gmail.com   1750.0  SC\n",
            "1      Pedro     35       pedro@gmail.com   3250.0  RS\n",
            "2      Maria     21       maria@gmail.com   3500.0  SC\n",
            "3       Jose     25        jose@gmail.com   3000.0  RS\n",
            "4      Marco     26       marco@gmail.com   4000.0  RS\n",
            "5      Andre     27       andre@gmail.com   2500.0  SC\n",
            "6   Fernando     21    fernando@gmail.com   2000.0  SC\n",
            "7       Luiz     22        luiz@gmail.com   1500.0  PR\n",
            "8  Guilherme     20   guilherme@gmail.com   3500.0  SC\n",
            "9    Antonio     19     antonio@gmail.com   2000.0  PR\n"
          ],
          "name": "stdout"
        }
      ]
    },
    {
      "cell_type": "markdown",
      "metadata": {
        "id": "EL7mU0d3CCcZ"
      },
      "source": [
        "### Exemplo 4 - Mostrando os dados de uma coluna"
      ]
    },
    {
      "cell_type": "code",
      "metadata": {
        "id": "mLowpdrIB6EA",
        "colab": {
          "base_uri": "https://localhost:8080/"
        },
        "outputId": "0839d034-3895-4da5-af84-2cf86f8f0cb5"
      },
      "source": [
        "# Biblioteca de processamento de dados, I/O em arquivo csv (ex. pd.read_csv)\n",
        "import pandas as pd\n",
        "\n",
        "# Caminho e nome do arquivo\n",
        "nomearquivo = '/content/dados.csv'\n",
        "\n",
        "# Abre o arquivo e retorna o DataFrame\n",
        "df = pd.read_csv(nomearquivo, encoding='UTF-8')\n",
        "\n",
        "# Mostra os dados do DataFrame de uma coluna\n",
        "print(df['nome'])"
      ],
      "execution_count": 137,
      "outputs": [
        {
          "output_type": "stream",
          "text": [
            "0         Joao\n",
            "1        Pedro\n",
            "2        Maria\n",
            "3         Jose\n",
            "4        Marco\n",
            "5        Andre\n",
            "6     Fernando\n",
            "7         Luiz\n",
            "8    Guilherme\n",
            "9      Antonio\n",
            "Name: nome, dtype: object\n"
          ],
          "name": "stdout"
        }
      ]
    },
    {
      "cell_type": "markdown",
      "metadata": {
        "id": "UonB-AsGV-hy"
      },
      "source": [
        "### Exemplo 5 - Mostrando os dados de uma linha"
      ]
    },
    {
      "cell_type": "code",
      "metadata": {
        "id": "dwbJWwYDV-h2",
        "colab": {
          "base_uri": "https://localhost:8080/"
        },
        "outputId": "a6318dba-369e-4a21-ca40-b11e9068ce3c"
      },
      "source": [
        "# Biblioteca de processamento de dados, I/O em arquivo csv (ex. pd.read_csv)\n",
        "import pandas as pd\n",
        "\n",
        "# Caminho e nome do arquivo\n",
        "nomearquivo = '/content/dados.csv'\n",
        "\n",
        "# Abre o arquivo e retorna o DataFrame\n",
        "df = pd.read_csv(nomearquivo, encoding='UTF-8')\n",
        "\n",
        "# Mostra os dados do DataFrame de uma linha e coluna\n",
        "print(df.iloc[0][0])"
      ],
      "execution_count": 138,
      "outputs": [
        {
          "output_type": "stream",
          "text": [
            "Joao\n"
          ],
          "name": "stdout"
        }
      ]
    },
    {
      "cell_type": "markdown",
      "metadata": {
        "id": "j62hPp6xNCTs"
      },
      "source": [
        "### Exemplo 5 - Tamanho do DataFrame\n",
        "\n",
        "O atributo **shape** retorna a quantidade de linhas e colunas"
      ]
    },
    {
      "cell_type": "code",
      "metadata": {
        "id": "MDfKrHeFNHni",
        "colab": {
          "base_uri": "https://localhost:8080/"
        },
        "outputId": "6c21ff7d-e26a-4df3-e79f-c5221d8b2c4d"
      },
      "source": [
        "# Biblioteca de processamento de dados, I/O em arquivo csv (ex. pd.read_csv)\n",
        "import pandas as pd\n",
        "\n",
        "# Caminho e nome do arquivo\n",
        "nomearquivo = '/content/dados.csv'\n",
        "\n",
        "# Abre o arquivo e retorna o DataFrame\n",
        "df = pd.read_csv(nomearquivo, encoding='UTF-8')\n",
        "\n",
        "# Retorna uma tupla com a quantidade de linhas e colunas\n",
        "print(\"Linha e colunas = \", df.shape)\n",
        "\n",
        "# Retorna a quantidade de linhas\n",
        "print(\"Linhas          = \",df.shape[0])\n",
        "\n",
        "# Retorna a quantidade de colunas\n",
        "print(\"Colunas         = \", df.shape[1])"
      ],
      "execution_count": 139,
      "outputs": [
        {
          "output_type": "stream",
          "text": [
            "Linha e colunas =  (10, 5)\n",
            "Linhas          =  10\n",
            "Colunas         =  5\n"
          ],
          "name": "stdout"
        }
      ]
    },
    {
      "cell_type": "markdown",
      "metadata": {
        "id": "lf_6fxQeMJ5I"
      },
      "source": [
        "### Exemplo 6 - Mostra os dados formatados\n",
        "\n",
        "A operação **head()** realiza uma exibição das 5 primeiras linhas do arquivo"
      ]
    },
    {
      "cell_type": "code",
      "metadata": {
        "id": "Skh-r8YLMOKS",
        "colab": {
          "base_uri": "https://localhost:8080/",
          "height": 204
        },
        "outputId": "60bd91a3-58ec-476a-95e1-7980b46a66a7"
      },
      "source": [
        "# Biblioteca de processamento de dados, I/O em arquivo csv (ex. pd.read_csv)\n",
        "import pandas as pd\n",
        "\n",
        "# Caminho e nome do arquivo\n",
        "nomearquivo = '/content/dados.csv'\n",
        "\n",
        "# Abre o arquivo e retorna o DataFrame\n",
        "df = pd.read_csv(nomearquivo, encoding='UTF-8')\n",
        "\n",
        "# Mostra os dados\n",
        "df.head()"
      ],
      "execution_count": 140,
      "outputs": [
        {
          "output_type": "execute_result",
          "data": {
            "text/html": [
              "<div>\n",
              "<style scoped>\n",
              "    .dataframe tbody tr th:only-of-type {\n",
              "        vertical-align: middle;\n",
              "    }\n",
              "\n",
              "    .dataframe tbody tr th {\n",
              "        vertical-align: top;\n",
              "    }\n",
              "\n",
              "    .dataframe thead th {\n",
              "        text-align: right;\n",
              "    }\n",
              "</style>\n",
              "<table border=\"1\" class=\"dataframe\">\n",
              "  <thead>\n",
              "    <tr style=\"text-align: right;\">\n",
              "      <th></th>\n",
              "      <th>nome</th>\n",
              "      <th>idade</th>\n",
              "      <th>email</th>\n",
              "      <th>salario</th>\n",
              "      <th>uf</th>\n",
              "    </tr>\n",
              "  </thead>\n",
              "  <tbody>\n",
              "    <tr>\n",
              "      <th>0</th>\n",
              "      <td>Joao</td>\n",
              "      <td>33</td>\n",
              "      <td>joao@gmail.com</td>\n",
              "      <td>1750.0</td>\n",
              "      <td>SC</td>\n",
              "    </tr>\n",
              "    <tr>\n",
              "      <th>1</th>\n",
              "      <td>Pedro</td>\n",
              "      <td>35</td>\n",
              "      <td>pedro@gmail.com</td>\n",
              "      <td>3250.0</td>\n",
              "      <td>RS</td>\n",
              "    </tr>\n",
              "    <tr>\n",
              "      <th>2</th>\n",
              "      <td>Maria</td>\n",
              "      <td>21</td>\n",
              "      <td>maria@gmail.com</td>\n",
              "      <td>3500.0</td>\n",
              "      <td>SC</td>\n",
              "    </tr>\n",
              "    <tr>\n",
              "      <th>3</th>\n",
              "      <td>Jose</td>\n",
              "      <td>25</td>\n",
              "      <td>jose@gmail.com</td>\n",
              "      <td>3000.0</td>\n",
              "      <td>RS</td>\n",
              "    </tr>\n",
              "    <tr>\n",
              "      <th>4</th>\n",
              "      <td>Marco</td>\n",
              "      <td>26</td>\n",
              "      <td>marco@gmail.com</td>\n",
              "      <td>4000.0</td>\n",
              "      <td>RS</td>\n",
              "    </tr>\n",
              "  </tbody>\n",
              "</table>\n",
              "</div>"
            ],
            "text/plain": [
              "    nome  idade            email  salario  uf\n",
              "0   Joao     33   joao@gmail.com   1750.0  SC\n",
              "1  Pedro     35  pedro@gmail.com   3250.0  RS\n",
              "2  Maria     21  maria@gmail.com   3500.0  SC\n",
              "3   Jose     25   jose@gmail.com   3000.0  RS\n",
              "4  Marco     26  marco@gmail.com   4000.0  RS"
            ]
          },
          "metadata": {
            "tags": []
          },
          "execution_count": 140
        }
      ]
    },
    {
      "cell_type": "markdown",
      "metadata": {
        "id": "1K3DBn7tKq2F"
      },
      "source": [
        "### Exemplo 7 - Mostra uma certa quantidade de linhas\n",
        "\n",
        "Use o parâmetros **nrows** para especificar a quantidade de linhas a ser retornado."
      ]
    },
    {
      "cell_type": "code",
      "metadata": {
        "id": "mbmHevQGKzT5",
        "colab": {
          "base_uri": "https://localhost:8080/"
        },
        "outputId": "bf81f693-db47-4c11-a55a-e9170880622d"
      },
      "source": [
        "# Biblioteca de processamento de dados, I/O em arquivo csv (ex. pd.read_csv)\n",
        "import pandas as pd\n",
        "\n",
        "# Caminho e nome do arquivo\n",
        "nomearquivo = '/content/dados.csv'\n",
        "\n",
        "# Abre o arquivo e retorna o DataFrame\n",
        "df = pd.read_csv(nomearquivo, encoding='UTF-8')\n",
        "\n",
        "# Mostra os dados\n",
        "print(df)"
      ],
      "execution_count": 141,
      "outputs": [
        {
          "output_type": "stream",
          "text": [
            "        nome  idade                 email  salario  uf\n",
            "0       Joao     33        joao@gmail.com   1750.0  SC\n",
            "1      Pedro     35       pedro@gmail.com   3250.0  RS\n",
            "2      Maria     21       maria@gmail.com   3500.0  SC\n",
            "3       Jose     25        jose@gmail.com   3000.0  RS\n",
            "4      Marco     26       marco@gmail.com   4000.0  RS\n",
            "5      Andre     27       andre@gmail.com   2500.0  SC\n",
            "6   Fernando     21    fernando@gmail.com   2000.0  SC\n",
            "7       Luiz     22        luiz@gmail.com   1500.0  PR\n",
            "8  Guilherme     20   guilherme@gmail.com   3500.0  SC\n",
            "9    Antonio     19     antonio@gmail.com   2000.0  PR\n"
          ],
          "name": "stdout"
        }
      ]
    },
    {
      "cell_type": "markdown",
      "metadata": {
        "id": "sZ5MuAZ0Ljut"
      },
      "source": [
        "### Exemplo 8  - Mostra o cabeçalho\n",
        "\n",
        "Parâmetro `header = 0` retorna o cabeçalho do arquivo csv. Especifique a linha que contêm o cabeçalho."
      ]
    },
    {
      "cell_type": "code",
      "metadata": {
        "id": "XpimNgdgLmyR",
        "colab": {
          "base_uri": "https://localhost:8080/",
          "height": 204
        },
        "outputId": "21d995ae-9581-48a9-f024-6b4eef215585"
      },
      "source": [
        "# Biblioteca de processamento de dados, I/O em arquivo csv (ex. pd.read_csv)\n",
        "import pandas as pd\n",
        "\n",
        "# Caminho e nome do arquivo\n",
        "nomearquivo = '/content/dados.csv'\n",
        "\n",
        "# Abre o arquivo e retorna o DataFrame\n",
        "df = pd.read_csv(nomearquivo, encoding='UTF-8', header=0)\n",
        "\n",
        "# Mostra os dados\n",
        "df.head()"
      ],
      "execution_count": 142,
      "outputs": [
        {
          "output_type": "execute_result",
          "data": {
            "text/html": [
              "<div>\n",
              "<style scoped>\n",
              "    .dataframe tbody tr th:only-of-type {\n",
              "        vertical-align: middle;\n",
              "    }\n",
              "\n",
              "    .dataframe tbody tr th {\n",
              "        vertical-align: top;\n",
              "    }\n",
              "\n",
              "    .dataframe thead th {\n",
              "        text-align: right;\n",
              "    }\n",
              "</style>\n",
              "<table border=\"1\" class=\"dataframe\">\n",
              "  <thead>\n",
              "    <tr style=\"text-align: right;\">\n",
              "      <th></th>\n",
              "      <th>nome</th>\n",
              "      <th>idade</th>\n",
              "      <th>email</th>\n",
              "      <th>salario</th>\n",
              "      <th>uf</th>\n",
              "    </tr>\n",
              "  </thead>\n",
              "  <tbody>\n",
              "    <tr>\n",
              "      <th>0</th>\n",
              "      <td>Joao</td>\n",
              "      <td>33</td>\n",
              "      <td>joao@gmail.com</td>\n",
              "      <td>1750.0</td>\n",
              "      <td>SC</td>\n",
              "    </tr>\n",
              "    <tr>\n",
              "      <th>1</th>\n",
              "      <td>Pedro</td>\n",
              "      <td>35</td>\n",
              "      <td>pedro@gmail.com</td>\n",
              "      <td>3250.0</td>\n",
              "      <td>RS</td>\n",
              "    </tr>\n",
              "    <tr>\n",
              "      <th>2</th>\n",
              "      <td>Maria</td>\n",
              "      <td>21</td>\n",
              "      <td>maria@gmail.com</td>\n",
              "      <td>3500.0</td>\n",
              "      <td>SC</td>\n",
              "    </tr>\n",
              "    <tr>\n",
              "      <th>3</th>\n",
              "      <td>Jose</td>\n",
              "      <td>25</td>\n",
              "      <td>jose@gmail.com</td>\n",
              "      <td>3000.0</td>\n",
              "      <td>RS</td>\n",
              "    </tr>\n",
              "    <tr>\n",
              "      <th>4</th>\n",
              "      <td>Marco</td>\n",
              "      <td>26</td>\n",
              "      <td>marco@gmail.com</td>\n",
              "      <td>4000.0</td>\n",
              "      <td>RS</td>\n",
              "    </tr>\n",
              "  </tbody>\n",
              "</table>\n",
              "</div>"
            ],
            "text/plain": [
              "    nome  idade            email  salario  uf\n",
              "0   Joao     33   joao@gmail.com   1750.0  SC\n",
              "1  Pedro     35  pedro@gmail.com   3250.0  RS\n",
              "2  Maria     21  maria@gmail.com   3500.0  SC\n",
              "3   Jose     25   jose@gmail.com   3000.0  RS\n",
              "4  Marco     26  marco@gmail.com   4000.0  RS"
            ]
          },
          "metadata": {
            "tags": []
          },
          "execution_count": 142
        }
      ]
    },
    {
      "cell_type": "markdown",
      "metadata": {
        "id": "vlkHP7cqOg9t"
      },
      "source": [
        "### Exemplo 9  - Exibindo determinadas colunas\n",
        "\n",
        "Especifique o parâmetro **`usecols`** para retornar determinadas colunas do arquivo. Pode ser combinado com o nrows."
      ]
    },
    {
      "cell_type": "code",
      "metadata": {
        "id": "UPwbN1otOzCL",
        "colab": {
          "base_uri": "https://localhost:8080/",
          "height": 204
        },
        "outputId": "7117292b-da83-4a39-811e-3bfcb6c76075"
      },
      "source": [
        "# Biblioteca de processamento de dados, I/O em arquivo csv (ex. pd.read_csv)\n",
        "import pandas as pd\n",
        "\n",
        "# Caminho e nome do arquivo\n",
        "nomearquivo = '/content/dados.csv'\n",
        "\n",
        "# Abre o arquivo e retorna o DataFrame\n",
        "df = pd.read_csv(nomearquivo, encoding='UTF-8', usecols=['nome','idade'])\n",
        "\n",
        "# Mostra os dados\n",
        "df.head()"
      ],
      "execution_count": 143,
      "outputs": [
        {
          "output_type": "execute_result",
          "data": {
            "text/html": [
              "<div>\n",
              "<style scoped>\n",
              "    .dataframe tbody tr th:only-of-type {\n",
              "        vertical-align: middle;\n",
              "    }\n",
              "\n",
              "    .dataframe tbody tr th {\n",
              "        vertical-align: top;\n",
              "    }\n",
              "\n",
              "    .dataframe thead th {\n",
              "        text-align: right;\n",
              "    }\n",
              "</style>\n",
              "<table border=\"1\" class=\"dataframe\">\n",
              "  <thead>\n",
              "    <tr style=\"text-align: right;\">\n",
              "      <th></th>\n",
              "      <th>nome</th>\n",
              "      <th>idade</th>\n",
              "    </tr>\n",
              "  </thead>\n",
              "  <tbody>\n",
              "    <tr>\n",
              "      <th>0</th>\n",
              "      <td>Joao</td>\n",
              "      <td>33</td>\n",
              "    </tr>\n",
              "    <tr>\n",
              "      <th>1</th>\n",
              "      <td>Pedro</td>\n",
              "      <td>35</td>\n",
              "    </tr>\n",
              "    <tr>\n",
              "      <th>2</th>\n",
              "      <td>Maria</td>\n",
              "      <td>21</td>\n",
              "    </tr>\n",
              "    <tr>\n",
              "      <th>3</th>\n",
              "      <td>Jose</td>\n",
              "      <td>25</td>\n",
              "    </tr>\n",
              "    <tr>\n",
              "      <th>4</th>\n",
              "      <td>Marco</td>\n",
              "      <td>26</td>\n",
              "    </tr>\n",
              "  </tbody>\n",
              "</table>\n",
              "</div>"
            ],
            "text/plain": [
              "    nome  idade\n",
              "0   Joao     33\n",
              "1  Pedro     35\n",
              "2  Maria     21\n",
              "3   Jose     25\n",
              "4  Marco     26"
            ]
          },
          "metadata": {
            "tags": []
          },
          "execution_count": 143
        }
      ]
    },
    {
      "cell_type": "markdown",
      "metadata": {
        "id": "_-jMwStotskL"
      },
      "source": [
        "### Exemplo 10 - Converte DataFrame para lista de dicionários\n",
        "\n",
        "Converte o dataframe para uma lista de dicionário.\n",
        "\n",
        "```\n",
        "<class 'list'> <class 'dict'> \n",
        "```"
      ]
    },
    {
      "cell_type": "code",
      "metadata": {
        "id": "_aNCY3gRtskM",
        "colab": {
          "base_uri": "https://localhost:8080/"
        },
        "outputId": "e9cbbbe4-9054-46bc-c17e-8abaeb713aef"
      },
      "source": [
        "# Biblioteca de processamento de dados, I/O em arquivo csv (ex. pd.read_csv)\n",
        "import pandas as pd\n",
        "\n",
        "# Caminho e nome do arquivo\n",
        "nomearquivo = '/content/dados.csv'\n",
        "\n",
        "# Abre o arquivo e retorna o DataFrame\n",
        "df = pd.read_csv(nomearquivo, encoding='UTF-8', usecols=['nome','idade'])\n",
        "\n",
        "# Mostra os dados\n",
        "df.head()\n",
        "\n",
        "# Declara a lista\n",
        "lista = list()\n",
        "\n",
        "# Percorre as questões carregadas do arquivo\n",
        "for (indice, linha) in df.iterrows():\n",
        "    dicionario = dict()\n",
        "    dicionario['nome'] =  str(linha[0])\n",
        "    dicionario['idade'] = str(linha[1])\n",
        "    lista.append(dicionario)\n",
        "\n",
        "print(type(lista),len(lista), type(lista[0]), lista[0])\n",
        "df = lista"
      ],
      "execution_count": 144,
      "outputs": [
        {
          "output_type": "stream",
          "text": [
            "<class 'list'> 10 <class 'dict'> {'nome': 'Joao', 'idade': '33'}\n"
          ],
          "name": "stdout"
        }
      ]
    },
    {
      "cell_type": "markdown",
      "metadata": {
        "id": "0kK96XTt-Qcz"
      },
      "source": [
        "### Exemplo 11 - Adicionando colunas calculadas ao DataFrame\n",
        "\n",
        "Adiciona uma coluna no dataframe a partir de um cálculo.\n",
        "\n",
        "https://datatofish.com/if-condition-in-pandas-dataframe/"
      ]
    },
    {
      "cell_type": "code",
      "metadata": {
        "id": "QGQjeZAf-Qva",
        "colab": {
          "base_uri": "https://localhost:8080/"
        },
        "outputId": "6863add6-a332-4362-dfed-a911b4dc5c22"
      },
      "source": [
        "# Biblioteca de processamento de dados, I/O em arquivo csv (ex. pd.read_csv)\n",
        "import pandas as pd\n",
        "\n",
        "# Caminho e nome do arquivo\n",
        "nomearquivo = '/content/dados.csv'\n",
        "\n",
        "# Abre o arquivo e retorna o DataFrame\n",
        "df = pd.read_csv(nomearquivo, encoding='UTF-8')\n",
        "\n",
        "# Mostra os dados\n",
        "print(df)\n",
        "\n",
        "# Adiciona a nova coluna\n",
        "df['nova_idade'] = df['idade'] + 10\n",
        "\n",
        "# Mostra os dados\n",
        "print(df)"
      ],
      "execution_count": 145,
      "outputs": [
        {
          "output_type": "stream",
          "text": [
            "        nome  idade                 email  salario  uf\n",
            "0       Joao     33        joao@gmail.com   1750.0  SC\n",
            "1      Pedro     35       pedro@gmail.com   3250.0  RS\n",
            "2      Maria     21       maria@gmail.com   3500.0  SC\n",
            "3       Jose     25        jose@gmail.com   3000.0  RS\n",
            "4      Marco     26       marco@gmail.com   4000.0  RS\n",
            "5      Andre     27       andre@gmail.com   2500.0  SC\n",
            "6   Fernando     21    fernando@gmail.com   2000.0  SC\n",
            "7       Luiz     22        luiz@gmail.com   1500.0  PR\n",
            "8  Guilherme     20   guilherme@gmail.com   3500.0  SC\n",
            "9    Antonio     19     antonio@gmail.com   2000.0  PR\n",
            "        nome  idade                 email  salario  uf  nova_idade\n",
            "0       Joao     33        joao@gmail.com   1750.0  SC          43\n",
            "1      Pedro     35       pedro@gmail.com   3250.0  RS          45\n",
            "2      Maria     21       maria@gmail.com   3500.0  SC          31\n",
            "3       Jose     25        jose@gmail.com   3000.0  RS          35\n",
            "4      Marco     26       marco@gmail.com   4000.0  RS          36\n",
            "5      Andre     27       andre@gmail.com   2500.0  SC          37\n",
            "6   Fernando     21    fernando@gmail.com   2000.0  SC          31\n",
            "7       Luiz     22        luiz@gmail.com   1500.0  PR          32\n",
            "8  Guilherme     20   guilherme@gmail.com   3500.0  SC          30\n",
            "9    Antonio     19     antonio@gmail.com   2000.0  PR          29\n"
          ],
          "name": "stdout"
        }
      ]
    },
    {
      "cell_type": "markdown",
      "metadata": {
        "id": "Amcg5iKeALL3"
      },
      "source": [
        "### Exemplo 12 - Adicionando colunas condicionadas(if) ao DataFrame\n",
        "\n",
        "Adiciona uma coluna no dataframe a partir de uma condição.\n",
        "\n",
        "https://datatofish.com/if-condition-in-pandas-dataframe/"
      ]
    },
    {
      "cell_type": "code",
      "metadata": {
        "id": "dgXMBPhWALL4",
        "colab": {
          "base_uri": "https://localhost:8080/"
        },
        "outputId": "9486e727-c801-474a-d5bf-720f603490d9"
      },
      "source": [
        "# Biblioteca de processamento de dados, I/O em arquivo csv (ex. pd.read_csv)\n",
        "import pandas as pd\n",
        "import numpy as np\n",
        "\n",
        "# Caminho e nome do arquivo\n",
        "nomearquivo = '/content/dados.csv'\n",
        "\n",
        "# Abre o arquivo e retorna o DataFrame\n",
        "df = pd.read_csv(nomearquivo, encoding='UTF-8')\n",
        "\n",
        "# Mostra os dados\n",
        "print(df)\n",
        "\n",
        "# Adiciona a nova coluna\n",
        "df['nova_idade'] = np.where(df['idade']> 30, 'Adulto', 'Jovem')\n",
        "\n",
        "# Mostra os dados\n",
        "print(df)"
      ],
      "execution_count": 146,
      "outputs": [
        {
          "output_type": "stream",
          "text": [
            "        nome  idade                 email  salario  uf\n",
            "0       Joao     33        joao@gmail.com   1750.0  SC\n",
            "1      Pedro     35       pedro@gmail.com   3250.0  RS\n",
            "2      Maria     21       maria@gmail.com   3500.0  SC\n",
            "3       Jose     25        jose@gmail.com   3000.0  RS\n",
            "4      Marco     26       marco@gmail.com   4000.0  RS\n",
            "5      Andre     27       andre@gmail.com   2500.0  SC\n",
            "6   Fernando     21    fernando@gmail.com   2000.0  SC\n",
            "7       Luiz     22        luiz@gmail.com   1500.0  PR\n",
            "8  Guilherme     20   guilherme@gmail.com   3500.0  SC\n",
            "9    Antonio     19     antonio@gmail.com   2000.0  PR\n",
            "        nome  idade                 email  salario  uf nova_idade\n",
            "0       Joao     33        joao@gmail.com   1750.0  SC     Adulto\n",
            "1      Pedro     35       pedro@gmail.com   3250.0  RS     Adulto\n",
            "2      Maria     21       maria@gmail.com   3500.0  SC      Jovem\n",
            "3       Jose     25        jose@gmail.com   3000.0  RS      Jovem\n",
            "4      Marco     26       marco@gmail.com   4000.0  RS      Jovem\n",
            "5      Andre     27       andre@gmail.com   2500.0  SC      Jovem\n",
            "6   Fernando     21    fernando@gmail.com   2000.0  SC      Jovem\n",
            "7       Luiz     22        luiz@gmail.com   1500.0  PR      Jovem\n",
            "8  Guilherme     20   guilherme@gmail.com   3500.0  SC      Jovem\n",
            "9    Antonio     19     antonio@gmail.com   2000.0  PR      Jovem\n"
          ],
          "name": "stdout"
        }
      ]
    },
    {
      "cell_type": "markdown",
      "metadata": {
        "id": "N6WCxZsBBTmG"
      },
      "source": [
        "### Exemplo 13 - Renomeando uma coluna no DataFrame\n",
        "\n"
      ]
    },
    {
      "cell_type": "code",
      "metadata": {
        "id": "kpZchyThBd0s",
        "colab": {
          "base_uri": "https://localhost:8080/"
        },
        "outputId": "5cc5b7e1-406e-4c5f-b873-5095aa2e2ed9"
      },
      "source": [
        "# Biblioteca de processamento de dados, I/O em arquivo csv (ex. pd.read_csv)\n",
        "import pandas as pd\n",
        "\n",
        "# Caminho e nome do arquivo\n",
        "nomearquivo = '/content/dados.csv'\n",
        "\n",
        "# Abre o arquivo e retorna o DataFrame\n",
        "df = pd.read_csv(nomearquivo, encoding='UTF-8')\n",
        "\n",
        "# Mostra os dados\n",
        "print(df)\n",
        "\n",
        "# Renomeia uma coluna\n",
        "df = df.rename(columns={'nome': 'nome_completo', 'idade':'idade_pessoa'})\n",
        "\n",
        "# Mostra os dados\n",
        "print(df)"
      ],
      "execution_count": 147,
      "outputs": [
        {
          "output_type": "stream",
          "text": [
            "        nome  idade                 email  salario  uf\n",
            "0       Joao     33        joao@gmail.com   1750.0  SC\n",
            "1      Pedro     35       pedro@gmail.com   3250.0  RS\n",
            "2      Maria     21       maria@gmail.com   3500.0  SC\n",
            "3       Jose     25        jose@gmail.com   3000.0  RS\n",
            "4      Marco     26       marco@gmail.com   4000.0  RS\n",
            "5      Andre     27       andre@gmail.com   2500.0  SC\n",
            "6   Fernando     21    fernando@gmail.com   2000.0  SC\n",
            "7       Luiz     22        luiz@gmail.com   1500.0  PR\n",
            "8  Guilherme     20   guilherme@gmail.com   3500.0  SC\n",
            "9    Antonio     19     antonio@gmail.com   2000.0  PR\n",
            "  nome_completo  idade_pessoa                 email  salario  uf\n",
            "0          Joao            33        joao@gmail.com   1750.0  SC\n",
            "1         Pedro            35       pedro@gmail.com   3250.0  RS\n",
            "2         Maria            21       maria@gmail.com   3500.0  SC\n",
            "3          Jose            25        jose@gmail.com   3000.0  RS\n",
            "4         Marco            26       marco@gmail.com   4000.0  RS\n",
            "5         Andre            27       andre@gmail.com   2500.0  SC\n",
            "6      Fernando            21    fernando@gmail.com   2000.0  SC\n",
            "7          Luiz            22        luiz@gmail.com   1500.0  PR\n",
            "8     Guilherme            20   guilherme@gmail.com   3500.0  SC\n",
            "9       Antonio            19     antonio@gmail.com   2000.0  PR\n"
          ],
          "name": "stdout"
        }
      ]
    },
    {
      "cell_type": "markdown",
      "metadata": {
        "id": "_FEKKOlLjNPl"
      },
      "source": [
        "### Exemplo 14 - Removendo uma coluna no DataFrame\n"
      ]
    },
    {
      "cell_type": "code",
      "metadata": {
        "id": "3vmAHAUAjNn8",
        "colab": {
          "base_uri": "https://localhost:8080/"
        },
        "outputId": "af4beda3-64aa-4d0a-9422-acfbb5bf21fb"
      },
      "source": [
        "# Biblioteca de processamento de dados, I/O em arquivo csv (ex. pd.read_csv)\n",
        "import pandas as pd\n",
        "\n",
        "# Caminho e nome do arquivo\n",
        "nomearquivo = '/content/dados.csv'\n",
        "\n",
        "# Abre o arquivo e retorna o DataFrame\n",
        "df = pd.read_csv(nomearquivo, encoding='UTF-8')\n",
        "\n",
        "# Mostra os dados\n",
        "print(df)\n",
        "\n",
        "# Remove uma coluna\n",
        "#df = df.drop(['idade'], axis=1)\n",
        "#ou\n",
        "df = df.drop(columns=['idade'])\n",
        "\n",
        "# Mostra os dados\n",
        "print(df)"
      ],
      "execution_count": 148,
      "outputs": [
        {
          "output_type": "stream",
          "text": [
            "        nome  idade                 email  salario  uf\n",
            "0       Joao     33        joao@gmail.com   1750.0  SC\n",
            "1      Pedro     35       pedro@gmail.com   3250.0  RS\n",
            "2      Maria     21       maria@gmail.com   3500.0  SC\n",
            "3       Jose     25        jose@gmail.com   3000.0  RS\n",
            "4      Marco     26       marco@gmail.com   4000.0  RS\n",
            "5      Andre     27       andre@gmail.com   2500.0  SC\n",
            "6   Fernando     21    fernando@gmail.com   2000.0  SC\n",
            "7       Luiz     22        luiz@gmail.com   1500.0  PR\n",
            "8  Guilherme     20   guilherme@gmail.com   3500.0  SC\n",
            "9    Antonio     19     antonio@gmail.com   2000.0  PR\n",
            "        nome                 email  salario  uf\n",
            "0       Joao        joao@gmail.com   1750.0  SC\n",
            "1      Pedro       pedro@gmail.com   3250.0  RS\n",
            "2      Maria       maria@gmail.com   3500.0  SC\n",
            "3       Jose        jose@gmail.com   3000.0  RS\n",
            "4      Marco       marco@gmail.com   4000.0  RS\n",
            "5      Andre       andre@gmail.com   2500.0  SC\n",
            "6   Fernando    fernando@gmail.com   2000.0  SC\n",
            "7       Luiz        luiz@gmail.com   1500.0  PR\n",
            "8  Guilherme   guilherme@gmail.com   3500.0  SC\n",
            "9    Antonio     antonio@gmail.com   2000.0  PR\n"
          ],
          "name": "stdout"
        }
      ]
    },
    {
      "cell_type": "markdown",
      "metadata": {
        "id": "CuRJcA8l1C29"
      },
      "source": [
        "### Exemplo 15 - Dividindo um DataFrame utilizando train_text_split\n",
        "\n",
        "https://scikit-learn.org/stable/modules/generated/sklearn.model_selection.train_test_split.html\n"
      ]
    },
    {
      "cell_type": "code",
      "metadata": {
        "id": "20i3IGGO1C2-",
        "colab": {
          "base_uri": "https://localhost:8080/"
        },
        "outputId": "ee6a0edf-a086-428f-e92e-e788a1c28d9e"
      },
      "source": [
        "# Biblioteca de processamento de dados, I/O em arquivo csv (ex. pd.read_csv)\n",
        "import pandas as pd\n",
        "\n",
        "# Caminho e nome do arquivo\n",
        "nomearquivo = '/content/dados.csv'\n",
        "\n",
        "# Abre o arquivo e retorna o DataFrame\n",
        "df = pd.read_csv(nomearquivo, encoding='UTF-8')\n",
        "\n",
        "# Adiciona a nova coluna para classe da divisão\n",
        "df['classe'] = np.where(df['idade']> 30, 'Adulto', 'Jovem')\n",
        "\n",
        "# Mostra os dados\n",
        "print(df)\n",
        "\n",
        "# Biblioteca que realiza a divisão\n",
        "from sklearn.model_selection import train_test_split\n",
        "\n",
        "#Recupera a quantidade de registros e calcula 20% do total ou pode ser utilizado diretamente o percentual\n",
        "qtde = int(0.4*df.shape[0])\n",
        "#ou\n",
        "#percentual = 0.2\n",
        "\n",
        "# Divide o conjunto pelo quantidade\n",
        "# O parâmetro stratify  faz uma divisão de modo que a proporção dos valores na amostra \n",
        "# produzida seja a mesma que a proporção dos valores fornecidos ao parâmetro.\n",
        "# Por exemplo, se a variável y é uma variável de classificação binária com valores 0 e 1 e \n",
        "# há 25% de zeros e 75% de 1 nos dados, stratify=y vai se certificar de que a sua divisão aleatória tem 25% de 0's e 75% de 1' s.\n",
        "# O parâmetro random_state(valor qualquer, semente do gerador de número aleatório) garante que a divisão será sempre a mesma\n",
        "treino, teste = train_test_split(df, test_size=qtde, random_state=0, stratify=df['classe'])\n",
        "\n",
        "# Mostra o resultado da divisão\n",
        "print('Total de registros :', df.shape[0])\n",
        "print('Total de treino    :', treino.shape[0])\n",
        "print('Total de validação : ', teste.shape[0])\n",
        "\n",
        "# Mostra os dados de treino\n",
        "print(\"Dados treino:\\n\", treino)\n",
        "\n",
        "# Mostra os dados de teste\n",
        "print(\"Dados teste:\\n\", teste)"
      ],
      "execution_count": 149,
      "outputs": [
        {
          "output_type": "stream",
          "text": [
            "        nome  idade                 email  salario  uf  classe\n",
            "0       Joao     33        joao@gmail.com   1750.0  SC  Adulto\n",
            "1      Pedro     35       pedro@gmail.com   3250.0  RS  Adulto\n",
            "2      Maria     21       maria@gmail.com   3500.0  SC   Jovem\n",
            "3       Jose     25        jose@gmail.com   3000.0  RS   Jovem\n",
            "4      Marco     26       marco@gmail.com   4000.0  RS   Jovem\n",
            "5      Andre     27       andre@gmail.com   2500.0  SC   Jovem\n",
            "6   Fernando     21    fernando@gmail.com   2000.0  SC   Jovem\n",
            "7       Luiz     22        luiz@gmail.com   1500.0  PR   Jovem\n",
            "8  Guilherme     20   guilherme@gmail.com   3500.0  SC   Jovem\n",
            "9    Antonio     19     antonio@gmail.com   2000.0  PR   Jovem\n",
            "Total de registros : 10\n",
            "Total de treino    : 6\n",
            "Total de validação :  4\n",
            "Dados treino:\n",
            "         nome  idade                 email  salario  uf  classe\n",
            "8  Guilherme     20   guilherme@gmail.com   3500.0  SC   Jovem\n",
            "3       Jose     25        jose@gmail.com   3000.0  RS   Jovem\n",
            "6   Fernando     21    fernando@gmail.com   2000.0  SC   Jovem\n",
            "1      Pedro     35       pedro@gmail.com   3250.0  RS  Adulto\n",
            "4      Marco     26       marco@gmail.com   4000.0  RS   Jovem\n",
            "5      Andre     27       andre@gmail.com   2500.0  SC   Jovem\n",
            "Dados teste:\n",
            "       nome  idade               email  salario  uf  classe\n",
            "2    Maria     21     maria@gmail.com   3500.0  SC   Jovem\n",
            "7     Luiz     22      luiz@gmail.com   1500.0  PR   Jovem\n",
            "9  Antonio     19   antonio@gmail.com   2000.0  PR   Jovem\n",
            "0     Joao     33      joao@gmail.com   1750.0  SC  Adulto\n"
          ],
          "name": "stdout"
        }
      ]
    },
    {
      "cell_type": "markdown",
      "metadata": {
        "id": "KAD8Ir1SaIfa"
      },
      "source": [
        "### Exemplo 16 - Barra de progresso tqdm e pandas\n",
        "\n",
        "O tdqm é um pacote que posibilita criar barra de progressos e estimar o tempo para funções e laços.\n",
        "\n",
        "https://github.com/tqdm/tqdm\n",
        "\n",
        "Em um laço itere sobre `tqdm` ou `tqdm_notebook`(caso esteja executando um Notebook).\n",
        "\n",
        "Uma vez que importou tqdm você deve iniciar o método `tqdm.pandas()`. \n",
        "\n",
        "Depois substituir o método `apply()` por `progress_apply()`"
      ]
    },
    {
      "cell_type": "code",
      "metadata": {
        "id": "jqs168yBaN03",
        "colab": {
          "base_uri": "https://localhost:8080/"
        },
        "outputId": "d00962af-e099-4edf-cc11-dd55fad1f66e"
      },
      "source": [
        "# Import da biblioteca\n",
        "from tqdm import tqdm, tqdm_notebook\n",
        "\n",
        "# Habilita a barra de progresso e troca o método apply() por progress_apply() no pandas.\n",
        "tqdm.pandas()\n",
        "\n",
        "# Biblioteca de processamento de dados, I/O em arquivo csv (ex. pd.read_csv)\n",
        "import pandas as pd\n",
        "import numpy as np\n",
        "\n",
        "# Gera um data frame de tamanho 10000 x 10000\n",
        "df = pd.DataFrame(np.random.randint(0,100,(10000,10000)))\n",
        "\n",
        "# Calcula cada célula ao quadrado do dataframe\n",
        "quadrado = df.progress_apply(lambda x: x**2)"
      ],
      "execution_count": 150,
      "outputs": [
        {
          "output_type": "stream",
          "text": [
            "100%|██████████| 10000/10000 [00:06<00:00, 1518.10it/s]\n"
          ],
          "name": "stderr"
        }
      ]
    },
    {
      "cell_type": "markdown",
      "metadata": {
        "id": "l6DKjQA2rjrN"
      },
      "source": [
        "### Exemplo 17 - Converte um dataframe para uma lista de dicionário\n",
        "\n",
        "Usa o método `to_dic` para converte o dataframe para dicionário de acordo com uma orientação.\n",
        "\n",
        "Opções de orientação:\n",
        "- **dict**  - **padrão**: nomes de coluna são chaves, valores são dicionários de índice: pares de dados\n",
        "- **list** - chaves são nomes de colunas, valores são listas de dados de colunas\n",
        "- **series** - como 'list', mas os valores são séries\n",
        "- **split** - divide colunas/dados/índice como chaves com os valores sendo nomes de colunas, valores de dados por rótulos de linha e índice, respectivamente\n",
        "- **records** - cada linha se torna um dicionário onde a chave é o nome da coluna e o valor são os dados da célula\n",
        "- **index** - como 'record', mas um dicionário de dicionários com chaves como rótulos de índice (em vez de uma lista)\n"
      ]
    },
    {
      "cell_type": "code",
      "metadata": {
        "id": "X1wdD_eprj56",
        "colab": {
          "base_uri": "https://localhost:8080/"
        },
        "outputId": "f9d69dfa-5f70-4a90-bd3e-1acb4241f565"
      },
      "source": [
        "# Biblioteca de processamento de dados, I/O em arquivo csv (ex. pd.read_csv)\n",
        "import pandas as pd\n",
        "\n",
        "# Caminho e nome do arquivo\n",
        "nomearquivo = '/content/dados.csv'\n",
        "\n",
        "# Abre o arquivo e retorna o DataFrame\n",
        "df = pd.read_csv(nomearquivo, encoding='UTF-8')\n",
        "\n",
        "# Mostra os dados\n",
        "print(df)\n",
        "\n",
        "# Converte todas as colunas do dataframe e converte para um dicionário de acordo com a orientação\n",
        "print(\"Orientação dict para todas as colunas = \", df.to_dict(orient='dict'))\n",
        "\n",
        "# Seleciona as colunas do dataframe e converte para um dicionário de acordo com a orientação\n",
        "print(\"\\nOrientação dict = \", df[['nome','idade']].to_dict(orient='dict'))\n",
        "\n",
        "print(\"Orientação list = \", df[['nome','idade']].to_dict(orient='list'))\n",
        "\n",
        "print(\"Orientação series = \", df[['nome','idade']].to_dict(orient='series'))\n",
        "\n",
        "print(\"Orientação split = \", df[['nome','idade']].to_dict(orient='split'))\n",
        "\n",
        "print(\"Orientação records = \", df[['nome','idade']].to_dict(orient='records'))\n",
        "\n",
        "print(\"Orientação index = \", df[['nome','idade']].to_dict(orient='index'))"
      ],
      "execution_count": 151,
      "outputs": [
        {
          "output_type": "stream",
          "text": [
            "        nome  idade                 email  salario  uf\n",
            "0       Joao     33        joao@gmail.com   1750.0  SC\n",
            "1      Pedro     35       pedro@gmail.com   3250.0  RS\n",
            "2      Maria     21       maria@gmail.com   3500.0  SC\n",
            "3       Jose     25        jose@gmail.com   3000.0  RS\n",
            "4      Marco     26       marco@gmail.com   4000.0  RS\n",
            "5      Andre     27       andre@gmail.com   2500.0  SC\n",
            "6   Fernando     21    fernando@gmail.com   2000.0  SC\n",
            "7       Luiz     22        luiz@gmail.com   1500.0  PR\n",
            "8  Guilherme     20   guilherme@gmail.com   3500.0  SC\n",
            "9    Antonio     19     antonio@gmail.com   2000.0  PR\n",
            "Orientação dict para todas as colunas =  {'nome': {0: 'Joao', 1: 'Pedro', 2: 'Maria', 3: 'Jose', 4: 'Marco', 5: 'Andre', 6: 'Fernando', 7: 'Luiz', 8: 'Guilherme', 9: 'Antonio'}, 'idade': {0: 33, 1: 35, 2: 21, 3: 25, 4: 26, 5: 27, 6: 21, 7: 22, 8: 20, 9: 19}, 'email': {0: 'joao@gmail.com', 1: 'pedro@gmail.com', 2: 'maria@gmail.com', 3: 'jose@gmail.com', 4: 'marco@gmail.com', 5: 'andre@gmail.com', 6: 'fernando@gmail.com', 7: 'luiz@gmail.com', 8: ' guilherme@gmail.com', 9: ' antonio@gmail.com'}, 'salario': {0: 1750.0, 1: 3250.0, 2: 3500.0, 3: 3000.0, 4: 4000.0, 5: 2500.0, 6: 2000.0, 7: 1500.0, 8: 3500.0, 9: 2000.0}, 'uf': {0: 'SC', 1: 'RS', 2: 'SC', 3: 'RS', 4: 'RS', 5: 'SC', 6: 'SC', 7: 'PR', 8: 'SC', 9: 'PR'}}\n",
            "\n",
            "Orientação dict =  {'nome': {0: 'Joao', 1: 'Pedro', 2: 'Maria', 3: 'Jose', 4: 'Marco', 5: 'Andre', 6: 'Fernando', 7: 'Luiz', 8: 'Guilherme', 9: 'Antonio'}, 'idade': {0: 33, 1: 35, 2: 21, 3: 25, 4: 26, 5: 27, 6: 21, 7: 22, 8: 20, 9: 19}}\n",
            "Orientação list =  {'nome': ['Joao', 'Pedro', 'Maria', 'Jose', 'Marco', 'Andre', 'Fernando', 'Luiz', 'Guilherme', 'Antonio'], 'idade': [33, 35, 21, 25, 26, 27, 21, 22, 20, 19]}\n",
            "Orientação series =  {'nome': 0         Joao\n",
            "1        Pedro\n",
            "2        Maria\n",
            "3         Jose\n",
            "4        Marco\n",
            "5        Andre\n",
            "6     Fernando\n",
            "7         Luiz\n",
            "8    Guilherme\n",
            "9      Antonio\n",
            "Name: nome, dtype: object, 'idade': 0    33\n",
            "1    35\n",
            "2    21\n",
            "3    25\n",
            "4    26\n",
            "5    27\n",
            "6    21\n",
            "7    22\n",
            "8    20\n",
            "9    19\n",
            "Name: idade, dtype: int64}\n",
            "Orientação split =  {'index': [0, 1, 2, 3, 4, 5, 6, 7, 8, 9], 'columns': ['nome', 'idade'], 'data': [['Joao', 33], ['Pedro', 35], ['Maria', 21], ['Jose', 25], ['Marco', 26], ['Andre', 27], ['Fernando', 21], ['Luiz', 22], ['Guilherme', 20], ['Antonio', 19]]}\n",
            "Orientação records =  [{'nome': 'Joao', 'idade': 33}, {'nome': 'Pedro', 'idade': 35}, {'nome': 'Maria', 'idade': 21}, {'nome': 'Jose', 'idade': 25}, {'nome': 'Marco', 'idade': 26}, {'nome': 'Andre', 'idade': 27}, {'nome': 'Fernando', 'idade': 21}, {'nome': 'Luiz', 'idade': 22}, {'nome': 'Guilherme', 'idade': 20}, {'nome': 'Antonio', 'idade': 19}]\n",
            "Orientação index =  {0: {'nome': 'Joao', 'idade': 33}, 1: {'nome': 'Pedro', 'idade': 35}, 2: {'nome': 'Maria', 'idade': 21}, 3: {'nome': 'Jose', 'idade': 25}, 4: {'nome': 'Marco', 'idade': 26}, 5: {'nome': 'Andre', 'idade': 27}, 6: {'nome': 'Fernando', 'idade': 21}, 7: {'nome': 'Luiz', 'idade': 22}, 8: {'nome': 'Guilherme', 'idade': 20}, 9: {'nome': 'Antonio', 'idade': 19}}\n"
          ],
          "name": "stdout"
        }
      ]
    },
    {
      "cell_type": "markdown",
      "metadata": {
        "id": "EoYNsgX71WIa"
      },
      "source": [
        "### Exemplo 18 - Retornando uma lista dos valores de uma coluna do DataFrame\n",
        "\n",
        "Retorna uma lista com os valores de uma coluna do DataFrame"
      ]
    },
    {
      "cell_type": "code",
      "metadata": {
        "id": "NxMa-4A61bee",
        "colab": {
          "base_uri": "https://localhost:8080/"
        },
        "outputId": "e0aa1629-e88b-4925-f707-f44a0c9762a0"
      },
      "source": [
        "# Biblioteca de processamento de dados, I/O em arquivo csv (ex. pd.read_csv)\n",
        "import pandas as pd\n",
        "\n",
        "# Caminho e nome do arquivo\n",
        "nomearquivo = '/content/dados.csv'\n",
        "\n",
        "# Abre o arquivo e retorna o DataFrame\n",
        "df = pd.read_csv(nomearquivo, encoding='UTF-8')\n",
        "\n",
        "# Mostra os dados\n",
        "print(df)\n",
        "\n",
        "# Retorna uma lista da coluna nomes\n",
        "listaNomes = df.nome.values\n",
        "\n",
        "# Mostra a lista recuperada\n",
        "print(listaNomes)"
      ],
      "execution_count": 152,
      "outputs": [
        {
          "output_type": "stream",
          "text": [
            "        nome  idade                 email  salario  uf\n",
            "0       Joao     33        joao@gmail.com   1750.0  SC\n",
            "1      Pedro     35       pedro@gmail.com   3250.0  RS\n",
            "2      Maria     21       maria@gmail.com   3500.0  SC\n",
            "3       Jose     25        jose@gmail.com   3000.0  RS\n",
            "4      Marco     26       marco@gmail.com   4000.0  RS\n",
            "5      Andre     27       andre@gmail.com   2500.0  SC\n",
            "6   Fernando     21    fernando@gmail.com   2000.0  SC\n",
            "7       Luiz     22        luiz@gmail.com   1500.0  PR\n",
            "8  Guilherme     20   guilherme@gmail.com   3500.0  SC\n",
            "9    Antonio     19     antonio@gmail.com   2000.0  PR\n",
            "['Joao' 'Pedro' 'Maria' 'Jose' 'Marco' 'Andre' 'Fernando' 'Luiz'\n",
            " 'Guilherme' 'Antonio']\n"
          ],
          "name": "stdout"
        }
      ]
    },
    {
      "cell_type": "markdown",
      "metadata": {
        "id": "JDrBP7IE2IS_"
      },
      "source": [
        "### Exemplo 19 - Criando Histograma de coluna do DataFrame\n",
        "\n",
        "Cria um histograma contando a quantidade de letras da coluna do DataFrame"
      ]
    },
    {
      "cell_type": "code",
      "metadata": {
        "id": "WagG_FvN2If9",
        "colab": {
          "base_uri": "https://localhost:8080/",
          "height": 529
        },
        "outputId": "07dbe274-3c45-47bf-820c-42ce3579dbc3"
      },
      "source": [
        "# Biblioteca de processamento de dados, I/O em arquivo csv (ex. pd.read_csv)\n",
        "import pandas as pd\n",
        "\n",
        "# Caminho e nome do arquivo\n",
        "nomearquivo = '/content/dados.csv'\n",
        "\n",
        "# Abre o arquivo e retorna o DataFrame\n",
        "df = pd.read_csv(nomearquivo, encoding='UTF-8')\n",
        "\n",
        "# Mostra os dados\n",
        "print(df)\n",
        "\n",
        "# Mostra o histograma contando a quantidade de letras da coluna 'nome'a lista recuperada\n",
        "# o método apply aplica o método len(tamanho) a coluna 'nome' do DataFrame\n",
        "df['nome'].apply(len).hist()"
      ],
      "execution_count": 153,
      "outputs": [
        {
          "output_type": "stream",
          "text": [
            "        nome  idade                 email  salario  uf\n",
            "0       Joao     33        joao@gmail.com   1750.0  SC\n",
            "1      Pedro     35       pedro@gmail.com   3250.0  RS\n",
            "2      Maria     21       maria@gmail.com   3500.0  SC\n",
            "3       Jose     25        jose@gmail.com   3000.0  RS\n",
            "4      Marco     26       marco@gmail.com   4000.0  RS\n",
            "5      Andre     27       andre@gmail.com   2500.0  SC\n",
            "6   Fernando     21    fernando@gmail.com   2000.0  SC\n",
            "7       Luiz     22        luiz@gmail.com   1500.0  PR\n",
            "8  Guilherme     20   guilherme@gmail.com   3500.0  SC\n",
            "9    Antonio     19     antonio@gmail.com   2000.0  PR\n"
          ],
          "name": "stdout"
        },
        {
          "output_type": "execute_result",
          "data": {
            "text/plain": [
              "<matplotlib.axes._subplots.AxesSubplot at 0x7f03a6479240>"
            ]
          },
          "metadata": {
            "tags": []
          },
          "execution_count": 153
        },
        {
          "output_type": "display_data",
          "data": {
            "image/png": "[encoded data removed]",
            "text/plain": [
              "<Figure size 864x360 with 1 Axes>"
            ]
          },
          "metadata": {
            "tags": []
          }
        }
      ]
    },
    {
      "cell_type": "markdown",
      "metadata": {
        "id": "wP_oONNm3BUn"
      },
      "source": [
        "### Exemplo 20 - Agrupando e contando os dados por uma coluna do DataFrame\n",
        "\n",
        "Agrupa os dados contando os elementos de uma coluna do DataFrame"
      ]
    },
    {
      "cell_type": "code",
      "metadata": {
        "id": "r3cIq2GV3Bjb",
        "colab": {
          "base_uri": "https://localhost:8080/",
          "height": 360
        },
        "outputId": "90ae565b-4f86-4f84-9d90-19b57025a178"
      },
      "source": [
        "# Biblioteca de processamento de dados, I/O em arquivo csv (ex. pd.read_csv)\n",
        "import pandas as pd\n",
        "\n",
        "# Caminho e nome do arquivo\n",
        "nomearquivo = '/content/dados.csv'\n",
        "\n",
        "# Abre o arquivo e retorna o DataFrame\n",
        "df = pd.read_csv(nomearquivo, encoding='UTF-8')\n",
        "\n",
        "# Mostra os dados\n",
        "print(df)\n",
        "\n",
        "# Mostra o agrupamento dos dados contando as quantidades da coluna idade\n",
        "# o método 'count()' retorna a quantidade de registros agrupado pela coluna 'idade'\n",
        "df.groupby('uf').count()"
      ],
      "execution_count": 154,
      "outputs": [
        {
          "output_type": "stream",
          "text": [
            "        nome  idade                 email  salario  uf\n",
            "0       Joao     33        joao@gmail.com   1750.0  SC\n",
            "1      Pedro     35       pedro@gmail.com   3250.0  RS\n",
            "2      Maria     21       maria@gmail.com   3500.0  SC\n",
            "3       Jose     25        jose@gmail.com   3000.0  RS\n",
            "4      Marco     26       marco@gmail.com   4000.0  RS\n",
            "5      Andre     27       andre@gmail.com   2500.0  SC\n",
            "6   Fernando     21    fernando@gmail.com   2000.0  SC\n",
            "7       Luiz     22        luiz@gmail.com   1500.0  PR\n",
            "8  Guilherme     20   guilherme@gmail.com   3500.0  SC\n",
            "9    Antonio     19     antonio@gmail.com   2000.0  PR\n"
          ],
          "name": "stdout"
        },
        {
          "output_type": "execute_result",
          "data": {
            "text/html": [
              "<div>\n",
              "<style scoped>\n",
              "    .dataframe tbody tr th:only-of-type {\n",
              "        vertical-align: middle;\n",
              "    }\n",
              "\n",
              "    .dataframe tbody tr th {\n",
              "        vertical-align: top;\n",
              "    }\n",
              "\n",
              "    .dataframe thead th {\n",
              "        text-align: right;\n",
              "    }\n",
              "</style>\n",
              "<table border=\"1\" class=\"dataframe\">\n",
              "  <thead>\n",
              "    <tr style=\"text-align: right;\">\n",
              "      <th></th>\n",
              "      <th>nome</th>\n",
              "      <th>idade</th>\n",
              "      <th>email</th>\n",
              "      <th>salario</th>\n",
              "    </tr>\n",
              "    <tr>\n",
              "      <th>uf</th>\n",
              "      <th></th>\n",
              "      <th></th>\n",
              "      <th></th>\n",
              "      <th></th>\n",
              "    </tr>\n",
              "  </thead>\n",
              "  <tbody>\n",
              "    <tr>\n",
              "      <th>PR</th>\n",
              "      <td>2</td>\n",
              "      <td>2</td>\n",
              "      <td>2</td>\n",
              "      <td>2</td>\n",
              "    </tr>\n",
              "    <tr>\n",
              "      <th>RS</th>\n",
              "      <td>3</td>\n",
              "      <td>3</td>\n",
              "      <td>3</td>\n",
              "      <td>3</td>\n",
              "    </tr>\n",
              "    <tr>\n",
              "      <th>SC</th>\n",
              "      <td>5</td>\n",
              "      <td>5</td>\n",
              "      <td>5</td>\n",
              "      <td>5</td>\n",
              "    </tr>\n",
              "  </tbody>\n",
              "</table>\n",
              "</div>"
            ],
            "text/plain": [
              "    nome  idade  email  salario\n",
              "uf                             \n",
              "PR     2      2      2        2\n",
              "RS     3      3      3        3\n",
              "SC     5      5      5        5"
            ]
          },
          "metadata": {
            "tags": []
          },
          "execution_count": 154
        }
      ]
    },
    {
      "cell_type": "markdown",
      "metadata": {
        "id": "N3oxApzfhzUy"
      },
      "source": [
        "### Exemplo 21 - Criando uma coluna com percentual\n",
        "\n",
        "Cria uma coluna com o percentual dos dados em relação ao total."
      ]
    },
    {
      "cell_type": "code",
      "metadata": {
        "colab": {
          "base_uri": "https://localhost:8080/"
        },
        "id": "ZvoP88MshzUy",
        "outputId": "ecc011e6-a11e-4a66-8094-075f96276138"
      },
      "source": [
        "# Biblioteca de processamento de dados, I/O em arquivo csv (ex. pd.read_csv)\n",
        "import pandas as pd\n",
        "\n",
        "# Caminho e nome do arquivo\n",
        "nomearquivo = '/content/dados.csv'\n",
        "\n",
        "#Mostra somente com duas casas decimais os números reais\n",
        "pd.set_option('precision', 2)\n",
        "\n",
        "# Abre o arquivo e retorna o DataFrame\n",
        "df = pd.read_csv(nomearquivo, encoding='UTF-8')\n",
        "\n",
        "# Mostra os dados\n",
        "print(df)\n",
        "\n",
        "# Cria a coluna com o percentual do salário em relação ao total\n",
        "df['percentual'] = (df['salario'] / df['salario'].sum()) * 100\n",
        "\n",
        "# Mostra os dados\n",
        "print(df)"
      ],
      "execution_count": 155,
      "outputs": [
        {
          "output_type": "stream",
          "text": [
            "        nome  idade                 email  salario  uf\n",
            "0       Joao     33        joao@gmail.com   1750.0  SC\n",
            "1      Pedro     35       pedro@gmail.com   3250.0  RS\n",
            "2      Maria     21       maria@gmail.com   3500.0  SC\n",
            "3       Jose     25        jose@gmail.com   3000.0  RS\n",
            "4      Marco     26       marco@gmail.com   4000.0  RS\n",
            "5      Andre     27       andre@gmail.com   2500.0  SC\n",
            "6   Fernando     21    fernando@gmail.com   2000.0  SC\n",
            "7       Luiz     22        luiz@gmail.com   1500.0  PR\n",
            "8  Guilherme     20   guilherme@gmail.com   3500.0  SC\n",
            "9    Antonio     19     antonio@gmail.com   2000.0  PR\n",
            "        nome  idade                 email  salario  uf  percentual\n",
            "0       Joao     33        joao@gmail.com   1750.0  SC        6.48\n",
            "1      Pedro     35       pedro@gmail.com   3250.0  RS       12.04\n",
            "2      Maria     21       maria@gmail.com   3500.0  SC       12.96\n",
            "3       Jose     25        jose@gmail.com   3000.0  RS       11.11\n",
            "4      Marco     26       marco@gmail.com   4000.0  RS       14.81\n",
            "5      Andre     27       andre@gmail.com   2500.0  SC        9.26\n",
            "6   Fernando     21    fernando@gmail.com   2000.0  SC        7.41\n",
            "7       Luiz     22        luiz@gmail.com   1500.0  PR        5.56\n",
            "8  Guilherme     20   guilherme@gmail.com   3500.0  SC       12.96\n",
            "9    Antonio     19     antonio@gmail.com   2000.0  PR        7.41\n"
          ],
          "name": "stdout"
        }
      ]
    },
    {
      "cell_type": "markdown",
      "metadata": {
        "id": "iPnle4ZZETJp"
      },
      "source": [
        "### Exemplo 22 - Exibindo as estatísticas (describe)\n",
        "\n",
        "Exibe as estatísticas de um dataframe."
      ]
    },
    {
      "cell_type": "markdown",
      "metadata": {
        "id": "z5ifvXyWGQYz"
      },
      "source": [
        "#### Simples"
      ]
    },
    {
      "cell_type": "code",
      "metadata": {
        "colab": {
          "base_uri": "https://localhost:8080/",
          "height": 577
        },
        "id": "Fej3_mcjETJp",
        "outputId": "ad1a7a9e-c8d6-4b39-f9cd-f86cbf0887c5"
      },
      "source": [
        "# Biblioteca de processamento de dados, I/O em arquivo csv (ex. pd.read_csv)\n",
        "import pandas as pd\n",
        "\n",
        "# Caminho e nome do arquivo\n",
        "nomearquivo = '/content/dados.csv'\n",
        "\n",
        "# Mostra somente com duas casas decimais os números reais\n",
        "pd.set_option('precision', 2)\n",
        "\n",
        "# Exibe todas as linhas\n",
        "pd.set_option('display.max_rows', None)\n",
        "\n",
        "# Exibe todas as linhas\n",
        "pd.set_option('display.max_columns', None)\n",
        "\n",
        "# Abre o arquivo e retorna o DataFrame\n",
        "df = pd.read_csv(nomearquivo, encoding='UTF-8')\n",
        "\n",
        "# Mostra os dados\n",
        "print(df)\n",
        "\n",
        "# Inclui todas as colunas\n",
        "df.describe(include='all')"
      ],
      "execution_count": 156,
      "outputs": [
        {
          "output_type": "stream",
          "text": [
            "        nome  idade                 email  salario  uf\n",
            "0       Joao     33        joao@gmail.com   1750.0  SC\n",
            "1      Pedro     35       pedro@gmail.com   3250.0  RS\n",
            "2      Maria     21       maria@gmail.com   3500.0  SC\n",
            "3       Jose     25        jose@gmail.com   3000.0  RS\n",
            "4      Marco     26       marco@gmail.com   4000.0  RS\n",
            "5      Andre     27       andre@gmail.com   2500.0  SC\n",
            "6   Fernando     21    fernando@gmail.com   2000.0  SC\n",
            "7       Luiz     22        luiz@gmail.com   1500.0  PR\n",
            "8  Guilherme     20   guilherme@gmail.com   3500.0  SC\n",
            "9    Antonio     19     antonio@gmail.com   2000.0  PR\n"
          ],
          "name": "stdout"
        },
        {
          "output_type": "execute_result",
          "data": {
            "text/html": [
              "<div>\n",
              "<style scoped>\n",
              "    .dataframe tbody tr th:only-of-type {\n",
              "        vertical-align: middle;\n",
              "    }\n",
              "\n",
              "    .dataframe tbody tr th {\n",
              "        vertical-align: top;\n",
              "    }\n",
              "\n",
              "    .dataframe thead th {\n",
              "        text-align: right;\n",
              "    }\n",
              "</style>\n",
              "<table border=\"1\" class=\"dataframe\">\n",
              "  <thead>\n",
              "    <tr style=\"text-align: right;\">\n",
              "      <th></th>\n",
              "      <th>nome</th>\n",
              "      <th>idade</th>\n",
              "      <th>email</th>\n",
              "      <th>salario</th>\n",
              "      <th>uf</th>\n",
              "    </tr>\n",
              "  </thead>\n",
              "  <tbody>\n",
              "    <tr>\n",
              "      <th>count</th>\n",
              "      <td>10</td>\n",
              "      <td>10.00</td>\n",
              "      <td>10</td>\n",
              "      <td>10.00</td>\n",
              "      <td>10</td>\n",
              "    </tr>\n",
              "    <tr>\n",
              "      <th>unique</th>\n",
              "      <td>10</td>\n",
              "      <td>NaN</td>\n",
              "      <td>10</td>\n",
              "      <td>NaN</td>\n",
              "      <td>3</td>\n",
              "    </tr>\n",
              "    <tr>\n",
              "      <th>top</th>\n",
              "      <td>Jose</td>\n",
              "      <td>NaN</td>\n",
              "      <td>antonio@gmail.com</td>\n",
              "      <td>NaN</td>\n",
              "      <td>SC</td>\n",
              "    </tr>\n",
              "    <tr>\n",
              "      <th>freq</th>\n",
              "      <td>1</td>\n",
              "      <td>NaN</td>\n",
              "      <td>1</td>\n",
              "      <td>NaN</td>\n",
              "      <td>5</td>\n",
              "    </tr>\n",
              "    <tr>\n",
              "      <th>mean</th>\n",
              "      <td>NaN</td>\n",
              "      <td>24.90</td>\n",
              "      <td>NaN</td>\n",
              "      <td>2700.00</td>\n",
              "      <td>NaN</td>\n",
              "    </tr>\n",
              "    <tr>\n",
              "      <th>std</th>\n",
              "      <td>NaN</td>\n",
              "      <td>5.49</td>\n",
              "      <td>NaN</td>\n",
              "      <td>864.42</td>\n",
              "      <td>NaN</td>\n",
              "    </tr>\n",
              "    <tr>\n",
              "      <th>min</th>\n",
              "      <td>NaN</td>\n",
              "      <td>19.00</td>\n",
              "      <td>NaN</td>\n",
              "      <td>1500.00</td>\n",
              "      <td>NaN</td>\n",
              "    </tr>\n",
              "    <tr>\n",
              "      <th>25%</th>\n",
              "      <td>NaN</td>\n",
              "      <td>21.00</td>\n",
              "      <td>NaN</td>\n",
              "      <td>2000.00</td>\n",
              "      <td>NaN</td>\n",
              "    </tr>\n",
              "    <tr>\n",
              "      <th>50%</th>\n",
              "      <td>NaN</td>\n",
              "      <td>23.50</td>\n",
              "      <td>NaN</td>\n",
              "      <td>2750.00</td>\n",
              "      <td>NaN</td>\n",
              "    </tr>\n",
              "    <tr>\n",
              "      <th>75%</th>\n",
              "      <td>NaN</td>\n",
              "      <td>26.75</td>\n",
              "      <td>NaN</td>\n",
              "      <td>3437.50</td>\n",
              "      <td>NaN</td>\n",
              "    </tr>\n",
              "    <tr>\n",
              "      <th>max</th>\n",
              "      <td>NaN</td>\n",
              "      <td>35.00</td>\n",
              "      <td>NaN</td>\n",
              "      <td>4000.00</td>\n",
              "      <td>NaN</td>\n",
              "    </tr>\n",
              "  </tbody>\n",
              "</table>\n",
              "</div>"
            ],
            "text/plain": [
              "        nome  idade               email  salario   uf\n",
              "count     10  10.00                  10    10.00   10\n",
              "unique    10    NaN                  10      NaN    3\n",
              "top     Jose    NaN   antonio@gmail.com      NaN   SC\n",
              "freq       1    NaN                   1      NaN    5\n",
              "mean     NaN  24.90                 NaN  2700.00  NaN\n",
              "std      NaN   5.49                 NaN   864.42  NaN\n",
              "min      NaN  19.00                 NaN  1500.00  NaN\n",
              "25%      NaN  21.00                 NaN  2000.00  NaN\n",
              "50%      NaN  23.50                 NaN  2750.00  NaN\n",
              "75%      NaN  26.75                 NaN  3437.50  NaN\n",
              "max      NaN  35.00                 NaN  4000.00  NaN"
            ]
          },
          "metadata": {
            "tags": []
          },
          "execution_count": 156
        }
      ]
    },
    {
      "cell_type": "markdown",
      "metadata": {
        "id": "8NECWeA1GcH1"
      },
      "source": [
        "#### Especificando o tipo de dados das colunas"
      ]
    },
    {
      "cell_type": "code",
      "metadata": {
        "colab": {
          "base_uri": "https://localhost:8080/",
          "height": 484
        },
        "id": "fnVvJA0XFnGK",
        "outputId": "fa183b73-355f-4f6c-8002-c475c4d908e2"
      },
      "source": [
        "# Biblioteca de processamento de dados, I/O em arquivo csv (ex. pd.read_csv)\n",
        "import pandas as pd\n",
        "\n",
        "# Caminho e nome do arquivo\n",
        "nomearquivo = '/content/dados.csv'\n",
        "\n",
        "# Mostra somente com duas casas decimais os números reais\n",
        "pd.set_option('precision', 2)\n",
        "\n",
        "# Exibe todas as linhas\n",
        "pd.set_option('display.max_rows', None)\n",
        "\n",
        "# Exibe todas as linhas\n",
        "pd.set_option('display.max_columns', None)\n",
        "\n",
        "# Abre o arquivo e retorna o DataFrame\n",
        "df = pd.read_csv(nomearquivo, encoding='UTF-8')\n",
        "\n",
        "# Mostra os dados\n",
        "print(df)\n",
        "\n",
        "# Inclui os tipos das as colunas\n",
        "df.describe(include=['float', 'int'])\n"
      ],
      "execution_count": 157,
      "outputs": [
        {
          "output_type": "stream",
          "text": [
            "        nome  idade                 email  salario  uf\n",
            "0       Joao     33        joao@gmail.com   1750.0  SC\n",
            "1      Pedro     35       pedro@gmail.com   3250.0  RS\n",
            "2      Maria     21       maria@gmail.com   3500.0  SC\n",
            "3       Jose     25        jose@gmail.com   3000.0  RS\n",
            "4      Marco     26       marco@gmail.com   4000.0  RS\n",
            "5      Andre     27       andre@gmail.com   2500.0  SC\n",
            "6   Fernando     21    fernando@gmail.com   2000.0  SC\n",
            "7       Luiz     22        luiz@gmail.com   1500.0  PR\n",
            "8  Guilherme     20   guilherme@gmail.com   3500.0  SC\n",
            "9    Antonio     19     antonio@gmail.com   2000.0  PR\n"
          ],
          "name": "stdout"
        },
        {
          "output_type": "execute_result",
          "data": {
            "text/html": [
              "<div>\n",
              "<style scoped>\n",
              "    .dataframe tbody tr th:only-of-type {\n",
              "        vertical-align: middle;\n",
              "    }\n",
              "\n",
              "    .dataframe tbody tr th {\n",
              "        vertical-align: top;\n",
              "    }\n",
              "\n",
              "    .dataframe thead th {\n",
              "        text-align: right;\n",
              "    }\n",
              "</style>\n",
              "<table border=\"1\" class=\"dataframe\">\n",
              "  <thead>\n",
              "    <tr style=\"text-align: right;\">\n",
              "      <th></th>\n",
              "      <th>idade</th>\n",
              "      <th>salario</th>\n",
              "    </tr>\n",
              "  </thead>\n",
              "  <tbody>\n",
              "    <tr>\n",
              "      <th>count</th>\n",
              "      <td>10.00</td>\n",
              "      <td>10.00</td>\n",
              "    </tr>\n",
              "    <tr>\n",
              "      <th>mean</th>\n",
              "      <td>24.90</td>\n",
              "      <td>2700.00</td>\n",
              "    </tr>\n",
              "    <tr>\n",
              "      <th>std</th>\n",
              "      <td>5.49</td>\n",
              "      <td>864.42</td>\n",
              "    </tr>\n",
              "    <tr>\n",
              "      <th>min</th>\n",
              "      <td>19.00</td>\n",
              "      <td>1500.00</td>\n",
              "    </tr>\n",
              "    <tr>\n",
              "      <th>25%</th>\n",
              "      <td>21.00</td>\n",
              "      <td>2000.00</td>\n",
              "    </tr>\n",
              "    <tr>\n",
              "      <th>50%</th>\n",
              "      <td>23.50</td>\n",
              "      <td>2750.00</td>\n",
              "    </tr>\n",
              "    <tr>\n",
              "      <th>75%</th>\n",
              "      <td>26.75</td>\n",
              "      <td>3437.50</td>\n",
              "    </tr>\n",
              "    <tr>\n",
              "      <th>max</th>\n",
              "      <td>35.00</td>\n",
              "      <td>4000.00</td>\n",
              "    </tr>\n",
              "  </tbody>\n",
              "</table>\n",
              "</div>"
            ],
            "text/plain": [
              "       idade  salario\n",
              "count  10.00    10.00\n",
              "mean   24.90  2700.00\n",
              "std     5.49   864.42\n",
              "min    19.00  1500.00\n",
              "25%    21.00  2000.00\n",
              "50%    23.50  2750.00\n",
              "75%    26.75  3437.50\n",
              "max    35.00  4000.00"
            ]
          },
          "metadata": {
            "tags": []
          },
          "execution_count": 157
        }
      ]
    },
    {
      "cell_type": "markdown",
      "metadata": {
        "id": "aUBrX9kFGgLh"
      },
      "source": [
        "#### Especifica o tipo das colunas e gera a transposta"
      ]
    },
    {
      "cell_type": "code",
      "metadata": {
        "colab": {
          "base_uri": "https://localhost:8080/",
          "height": 298
        },
        "id": "ZHU7Fa1hFbh2",
        "outputId": "2fd07e44-c4cb-4756-ad8e-d53cdba4ad57"
      },
      "source": [
        "# Biblioteca de processamento de dados, I/O em arquivo csv (ex. pd.read_csv)\n",
        "import pandas as pd\n",
        "\n",
        "# Caminho e nome do arquivo\n",
        "nomearquivo = '/content/dados.csv'\n",
        "\n",
        "# Mostra somente com duas casas decimais os números reais\n",
        "pd.set_option('precision', 2)\n",
        "\n",
        "# Exibe todas as linhas\n",
        "pd.set_option('display.max_rows', None)\n",
        "\n",
        "# Exibe todas as linhas\n",
        "pd.set_option('display.max_columns', None)\n",
        "\n",
        "# Abre o arquivo e retorna o DataFrame\n",
        "df = pd.read_csv(nomearquivo, encoding='UTF-8')\n",
        "\n",
        "# Mostra os dados\n",
        "print(df)\n",
        "\n",
        "# Inclui todas as colunas e gera a transposta dos dados\n",
        "df.describe(include=['float', 'int']).transpose()\n"
      ],
      "execution_count": 158,
      "outputs": [
        {
          "output_type": "stream",
          "text": [
            "        nome  idade                 email  salario  uf\n",
            "0       Joao     33        joao@gmail.com   1750.0  SC\n",
            "1      Pedro     35       pedro@gmail.com   3250.0  RS\n",
            "2      Maria     21       maria@gmail.com   3500.0  SC\n",
            "3       Jose     25        jose@gmail.com   3000.0  RS\n",
            "4      Marco     26       marco@gmail.com   4000.0  RS\n",
            "5      Andre     27       andre@gmail.com   2500.0  SC\n",
            "6   Fernando     21    fernando@gmail.com   2000.0  SC\n",
            "7       Luiz     22        luiz@gmail.com   1500.0  PR\n",
            "8  Guilherme     20   guilherme@gmail.com   3500.0  SC\n",
            "9    Antonio     19     antonio@gmail.com   2000.0  PR\n"
          ],
          "name": "stdout"
        },
        {
          "output_type": "execute_result",
          "data": {
            "text/html": [
              "<div>\n",
              "<style scoped>\n",
              "    .dataframe tbody tr th:only-of-type {\n",
              "        vertical-align: middle;\n",
              "    }\n",
              "\n",
              "    .dataframe tbody tr th {\n",
              "        vertical-align: top;\n",
              "    }\n",
              "\n",
              "    .dataframe thead th {\n",
              "        text-align: right;\n",
              "    }\n",
              "</style>\n",
              "<table border=\"1\" class=\"dataframe\">\n",
              "  <thead>\n",
              "    <tr style=\"text-align: right;\">\n",
              "      <th></th>\n",
              "      <th>count</th>\n",
              "      <th>mean</th>\n",
              "      <th>std</th>\n",
              "      <th>min</th>\n",
              "      <th>25%</th>\n",
              "      <th>50%</th>\n",
              "      <th>75%</th>\n",
              "      <th>max</th>\n",
              "    </tr>\n",
              "  </thead>\n",
              "  <tbody>\n",
              "    <tr>\n",
              "      <th>idade</th>\n",
              "      <td>10.0</td>\n",
              "      <td>24.9</td>\n",
              "      <td>5.49</td>\n",
              "      <td>19.0</td>\n",
              "      <td>21.0</td>\n",
              "      <td>23.5</td>\n",
              "      <td>26.75</td>\n",
              "      <td>35.0</td>\n",
              "    </tr>\n",
              "    <tr>\n",
              "      <th>salario</th>\n",
              "      <td>10.0</td>\n",
              "      <td>2700.0</td>\n",
              "      <td>864.42</td>\n",
              "      <td>1500.0</td>\n",
              "      <td>2000.0</td>\n",
              "      <td>2750.0</td>\n",
              "      <td>3437.50</td>\n",
              "      <td>4000.0</td>\n",
              "    </tr>\n",
              "  </tbody>\n",
              "</table>\n",
              "</div>"
            ],
            "text/plain": [
              "         count    mean     std     min     25%     50%      75%     max\n",
              "idade     10.0    24.9    5.49    19.0    21.0    23.5    26.75    35.0\n",
              "salario   10.0  2700.0  864.42  1500.0  2000.0  2750.0  3437.50  4000.0"
            ]
          },
          "metadata": {
            "tags": []
          },
          "execution_count": 158
        }
      ]
    },
    {
      "cell_type": "markdown",
      "metadata": {
        "id": "3EMF6g4FIE6N"
      },
      "source": [
        "#### Com dados agrupados"
      ]
    },
    {
      "cell_type": "code",
      "metadata": {
        "colab": {
          "base_uri": "https://localhost:8080/",
          "height": 732
        },
        "id": "g29PJg79Hoiz",
        "outputId": "04dd08d8-ff76-405d-902f-d3f1b5cf1a09"
      },
      "source": [
        "# Biblioteca de processamento de dados, I/O em arquivo csv (ex. pd.read_csv)\n",
        "import pandas as pd\n",
        "\n",
        "# Caminho e nome do arquivo\n",
        "nomearquivo = '/content/dados.csv'\n",
        "\n",
        "# Mostra somente com duas casas decimais os números reais\n",
        "pd.set_option('precision', 2)\n",
        "\n",
        "# Exibe todas as linhas\n",
        "pd.set_option('display.max_rows', None)\n",
        "\n",
        "# Exibe todas as linhas\n",
        "pd.set_option('display.max_columns', None)\n",
        "\n",
        "# Abre o arquivo e retorna o DataFrame\n",
        "df = pd.read_csv(nomearquivo, encoding='UTF-8')\n",
        "\n",
        "# Mostra os dados\n",
        "print(df)\n",
        "\n",
        "# Agrupa pelos estados\n",
        "grupo = df[['idade','salario', 'uf']].groupby('uf')\n",
        "\n",
        "# Inclui todas as colunas e gera a transposta dos dados\n",
        "grupo.describe(include=['float', 'int']).transpose()"
      ],
      "execution_count": 159,
      "outputs": [
        {
          "output_type": "stream",
          "text": [
            "        nome  idade                 email  salario  uf\n",
            "0       Joao     33        joao@gmail.com   1750.0  SC\n",
            "1      Pedro     35       pedro@gmail.com   3250.0  RS\n",
            "2      Maria     21       maria@gmail.com   3500.0  SC\n",
            "3       Jose     25        jose@gmail.com   3000.0  RS\n",
            "4      Marco     26       marco@gmail.com   4000.0  RS\n",
            "5      Andre     27       andre@gmail.com   2500.0  SC\n",
            "6   Fernando     21    fernando@gmail.com   2000.0  SC\n",
            "7       Luiz     22        luiz@gmail.com   1500.0  PR\n",
            "8  Guilherme     20   guilherme@gmail.com   3500.0  SC\n",
            "9    Antonio     19     antonio@gmail.com   2000.0  PR\n"
          ],
          "name": "stdout"
        },
        {
          "output_type": "execute_result",
          "data": {
            "text/html": [
              "<div>\n",
              "<style scoped>\n",
              "    .dataframe tbody tr th:only-of-type {\n",
              "        vertical-align: middle;\n",
              "    }\n",
              "\n",
              "    .dataframe tbody tr th {\n",
              "        vertical-align: top;\n",
              "    }\n",
              "\n",
              "    .dataframe thead th {\n",
              "        text-align: right;\n",
              "    }\n",
              "</style>\n",
              "<table border=\"1\" class=\"dataframe\">\n",
              "  <thead>\n",
              "    <tr style=\"text-align: right;\">\n",
              "      <th></th>\n",
              "      <th>uf</th>\n",
              "      <th>PR</th>\n",
              "      <th>RS</th>\n",
              "      <th>SC</th>\n",
              "    </tr>\n",
              "  </thead>\n",
              "  <tbody>\n",
              "    <tr>\n",
              "      <th rowspan=\"8\" valign=\"top\">idade</th>\n",
              "      <th>count</th>\n",
              "      <td>2.00</td>\n",
              "      <td>3.00</td>\n",
              "      <td>5.00</td>\n",
              "    </tr>\n",
              "    <tr>\n",
              "      <th>mean</th>\n",
              "      <td>20.50</td>\n",
              "      <td>28.67</td>\n",
              "      <td>24.40</td>\n",
              "    </tr>\n",
              "    <tr>\n",
              "      <th>std</th>\n",
              "      <td>2.12</td>\n",
              "      <td>5.51</td>\n",
              "      <td>5.55</td>\n",
              "    </tr>\n",
              "    <tr>\n",
              "      <th>min</th>\n",
              "      <td>19.00</td>\n",
              "      <td>25.00</td>\n",
              "      <td>20.00</td>\n",
              "    </tr>\n",
              "    <tr>\n",
              "      <th>25%</th>\n",
              "      <td>19.75</td>\n",
              "      <td>25.50</td>\n",
              "      <td>21.00</td>\n",
              "    </tr>\n",
              "    <tr>\n",
              "      <th>50%</th>\n",
              "      <td>20.50</td>\n",
              "      <td>26.00</td>\n",
              "      <td>21.00</td>\n",
              "    </tr>\n",
              "    <tr>\n",
              "      <th>75%</th>\n",
              "      <td>21.25</td>\n",
              "      <td>30.50</td>\n",
              "      <td>27.00</td>\n",
              "    </tr>\n",
              "    <tr>\n",
              "      <th>max</th>\n",
              "      <td>22.00</td>\n",
              "      <td>35.00</td>\n",
              "      <td>33.00</td>\n",
              "    </tr>\n",
              "    <tr>\n",
              "      <th rowspan=\"8\" valign=\"top\">salario</th>\n",
              "      <th>count</th>\n",
              "      <td>2.00</td>\n",
              "      <td>3.00</td>\n",
              "      <td>5.00</td>\n",
              "    </tr>\n",
              "    <tr>\n",
              "      <th>mean</th>\n",
              "      <td>1750.00</td>\n",
              "      <td>3416.67</td>\n",
              "      <td>2650.00</td>\n",
              "    </tr>\n",
              "    <tr>\n",
              "      <th>std</th>\n",
              "      <td>353.55</td>\n",
              "      <td>520.42</td>\n",
              "      <td>821.58</td>\n",
              "    </tr>\n",
              "    <tr>\n",
              "      <th>min</th>\n",
              "      <td>1500.00</td>\n",
              "      <td>3000.00</td>\n",
              "      <td>1750.00</td>\n",
              "    </tr>\n",
              "    <tr>\n",
              "      <th>25%</th>\n",
              "      <td>1625.00</td>\n",
              "      <td>3125.00</td>\n",
              "      <td>2000.00</td>\n",
              "    </tr>\n",
              "    <tr>\n",
              "      <th>50%</th>\n",
              "      <td>1750.00</td>\n",
              "      <td>3250.00</td>\n",
              "      <td>2500.00</td>\n",
              "    </tr>\n",
              "    <tr>\n",
              "      <th>75%</th>\n",
              "      <td>1875.00</td>\n",
              "      <td>3625.00</td>\n",
              "      <td>3500.00</td>\n",
              "    </tr>\n",
              "    <tr>\n",
              "      <th>max</th>\n",
              "      <td>2000.00</td>\n",
              "      <td>4000.00</td>\n",
              "      <td>3500.00</td>\n",
              "    </tr>\n",
              "  </tbody>\n",
              "</table>\n",
              "</div>"
            ],
            "text/plain": [
              "uf                  PR       RS       SC\n",
              "idade   count     2.00     3.00     5.00\n",
              "        mean     20.50    28.67    24.40\n",
              "        std       2.12     5.51     5.55\n",
              "        min      19.00    25.00    20.00\n",
              "        25%      19.75    25.50    21.00\n",
              "        50%      20.50    26.00    21.00\n",
              "        75%      21.25    30.50    27.00\n",
              "        max      22.00    35.00    33.00\n",
              "salario count     2.00     3.00     5.00\n",
              "        mean   1750.00  3416.67  2650.00\n",
              "        std     353.55   520.42   821.58\n",
              "        min    1500.00  3000.00  1750.00\n",
              "        25%    1625.00  3125.00  2000.00\n",
              "        50%    1750.00  3250.00  2500.00\n",
              "        75%    1875.00  3625.00  3500.00\n",
              "        max    2000.00  4000.00  3500.00"
            ]
          },
          "metadata": {
            "tags": []
          },
          "execution_count": 159
        }
      ]
    },
    {
      "cell_type": "markdown",
      "metadata": {
        "id": "GmfDWZNiXhmQ"
      },
      "source": [
        "#Arquivo JSON"
      ]
    },
    {
      "cell_type": "markdown",
      "metadata": {
        "id": "lvBRjOmeVMQH"
      },
      "source": [
        "## Criando arquivo json para os exemplos\n",
        "\n",
        "Crie o arquivo **dados.json** com os dados abaixo:\n",
        "\n",
        "```\n",
        "[\n",
        "  {\n",
        "    \"id\": \"1\", \n",
        "    \"nome\": \"joao\",\n",
        "    \"genero\": \"M\", \n",
        "    \"idade\": 33,\n",
        "    \"salario\": 10.5\n",
        "  },\n",
        "  {\n",
        "    \"id\": \"2\", \n",
        "    \"nome\": \"maria\", \n",
        "    \"genero\": \"F\",\n",
        "    \"idade\": 51,\n",
        "    \"salario\": 12.7\n",
        "  },\n",
        "  {\n",
        "    \"id\": \"3\", \n",
        "    \"nome\": \"pedro\", \n",
        "    \"genero\": \"M\",\n",
        "    \"idade\": 35,\n",
        "    \"salario\": 14.9\n",
        "\n",
        "  }\n",
        "]\n",
        "```"
      ]
    },
    {
      "cell_type": "markdown",
      "metadata": {
        "id": "oG52WbYqc2dC"
      },
      "source": [
        "Criando através de arquivo texto"
      ]
    },
    {
      "cell_type": "code",
      "metadata": {
        "id": "r9h4i-o1VMQI"
      },
      "source": [
        "# Cria e abre o arquivo \"dados.json\" para escrita\n",
        "arquivo = open('dados.json', 'w')\n",
        "\n",
        "# Escreve no arquivo\n",
        "arquivo.write(\"[{ \\\"id\\\": \\\"1\\\", \\\"nome\\\": \\\"joao\\\", \\\"genero\\\": \\\"M\\\", \\\"idade\\\": 33, \\\"salario\\\": 10.5 },\")\n",
        "arquivo.write(\" { \\\"id\\\": \\\"2\\\", \\\"nome\\\": \\\"maria\\\", \\\"genero\\\": \\\"F\\\", \\\"idade\\\": 51, \\\"salario\\\": 12.7 },\")\n",
        "arquivo.write(\" { \\\"id\\\": \\\"3\\\", \\\"nome\\\": \\\"pedro\\\", \\\"genero\\\": \\\"M\\\", \\\"idade\\\": 35, \\\"salario\\\": 14.9 }]\")\n",
        "\n",
        "# Fecha o arquivo\n",
        "arquivo.close()"
      ],
      "execution_count": 160,
      "outputs": []
    },
    {
      "cell_type": "markdown",
      "metadata": {
        "id": "9SJf_bItc5jh"
      },
      "source": [
        "Criando através do método dump de json"
      ]
    },
    {
      "cell_type": "code",
      "metadata": {
        "id": "eQ2S197FXWqG"
      },
      "source": [
        "# Biblioteca para manipular json\n",
        "import json\n",
        "\n",
        "# Dados do arquivo json\n",
        "dados = [\n",
        "  {\n",
        "    \"id\": \"1\",\n",
        "    \"nome\": \"joao\",\n",
        "    \"genero\": \"M\",\n",
        "    \"idade\": 33,\n",
        "    \"salario\": 10.5\n",
        "  },\n",
        "  {\n",
        "    \"id\": \"2\",\n",
        "    \"nome\": \"maria\",\n",
        "    \"genero\": \"F\",\n",
        "    \"idade\": 51,\n",
        "    \"salario\": 12.7\n",
        "  }, \n",
        "  { \n",
        "    \"id\": \"3\", \n",
        "    \"nome\": \"pedro\", \n",
        "    \"genero\": \"M\",\n",
        "    \"idade\": 35,\n",
        "    \"salario\": 14.9 } \n",
        "]\n",
        "\n",
        "# Abre o arquivo\n",
        "with open('dados.json', 'w') as arquivo:\n",
        "\n",
        "  # Salva os dados no arquivo\n",
        "  json.dump(dados, arquivo)"
      ],
      "execution_count": 161,
      "outputs": []
    },
    {
      "cell_type": "markdown",
      "metadata": {
        "id": "6LevXJhSBtsR"
      },
      "source": [
        "## Usando biblioteca JSON"
      ]
    },
    {
      "cell_type": "markdown",
      "metadata": {
        "id": "Ji44ApkWXoWq"
      },
      "source": [
        "###Lendo json de Memória - simples\n",
        "Um objeto."
      ]
    },
    {
      "cell_type": "code",
      "metadata": {
        "id": "qL47P9zNXqDa",
        "colab": {
          "base_uri": "https://localhost:8080/"
        },
        "outputId": "fac9e242-929a-4919-aa22-1355053eba1e"
      },
      "source": [
        "# Biblioteca para manipular json\n",
        "import json\n",
        "\n",
        "# Declara um objeto json em memória\n",
        "json_memoria = '{ \"id\": \"1\", \"nome\": \"joao\", \"genero\": \"M\", \"idade\": 33, \"salario\": 10.5 }'\n",
        "\n",
        "# Carrega o json\n",
        "json_decodificado = json.loads(json_memoria)\n",
        "\n",
        "# Recupera os dados dos campos\n",
        "id = json_decodificado['id']\n",
        "nome = json_decodificado['nome']\n",
        "genero = json_decodificado['genero']\n",
        "idade = json_decodificado['idade']\n",
        "salario = json_decodificado['salario']\n",
        "\n",
        "# Mostra os dados\n",
        "print(id, nome, genero, idade, salario)"
      ],
      "execution_count": 162,
      "outputs": [
        {
          "output_type": "stream",
          "text": [
            "1 joao M 33 10.5\n"
          ],
          "name": "stdout"
        }
      ]
    },
    {
      "cell_type": "markdown",
      "metadata": {
        "id": "fhlO0F3AEPvc"
      },
      "source": [
        "###Lendo json de Memória - array\n",
        "Array de objetos"
      ]
    },
    {
      "cell_type": "code",
      "metadata": {
        "id": "5yPsKDACEVI0",
        "colab": {
          "base_uri": "https://localhost:8080/"
        },
        "outputId": "8eb69d3f-180d-473a-a5b9-b66381d44df5"
      },
      "source": [
        "# Biblioteca para manipular json\n",
        "import json\n",
        "\n",
        "# Declara um array de 3 objetos json em memória\n",
        "json_memoria = '[ { \"id\": \"1\", \"nome\": \"joao\", \"genero\": \"M\", \"idade\": 33, \"salario\": 10.5 }, { \"id\": \"2\", \"nome\": \"maria\", \"genero\": \"F\", \"idade\": 34, \"salario\": 12.7 }, { \"id\": \"3\", \"nome\": \"pedro\", \"genero\": \"M\", \"idade\": 35, \"salario\": 14.9 } ]'\n",
        "\n",
        "# Carrega o json\n",
        "json_decodificado = json.loads(json_memoria)\n",
        "\n",
        "# Percorre os dados\n",
        "for item in json_decodificado: \n",
        "  \n",
        "  # Recupera os dados dos campos\n",
        "  id = item['id']\n",
        "  nome = item['nome']\n",
        "  genero = item['genero']\n",
        "  idade = item['idade']\n",
        "  salario = item['salario']\n",
        "\n",
        "  # Mostra os dados\n",
        "  print(id, nome, genero, idade, salario)"
      ],
      "execution_count": 163,
      "outputs": [
        {
          "output_type": "stream",
          "text": [
            "1 joao M 33 10.5\n",
            "2 maria F 34 12.7\n",
            "3 pedro M 35 14.9\n"
          ],
          "name": "stdout"
        }
      ]
    },
    {
      "cell_type": "markdown",
      "metadata": {
        "id": "zDFJZK3-X0aL"
      },
      "source": [
        "### Cria uma lista de um atributo\n",
        "Forma curta.\n",
        "Serve para JSON ou CSV."
      ]
    },
    {
      "cell_type": "code",
      "metadata": {
        "id": "TOD2T0phW6gN",
        "colab": {
          "base_uri": "https://localhost:8080/"
        },
        "outputId": "d7d3a0e7-e1bc-4575-8302-5f511a21deb2"
      },
      "source": [
        "# Biblioteca para manipular json\n",
        "import json\n",
        "\n",
        "# Declara um array de 3 objetos json em memória\n",
        "json_memoria = '[ { \"id\": \"1\", \"nome\": \"joao\", \"genero\": \"M\", \"idade\": 33, \"salario\": 10.5 }, { \"id\": \"2\", \"nome\": \"maria\", \"genero\": \"F\", \"idade\": 34, \"salario\": 12.7 }, { \"id\": \"3\", \"nome\": \"pedro\", \"genero\": \"M\", \"idade\": 35, \"salario\": 14.9 } ]'\n",
        "\n",
        "# Carrega o json\n",
        "json_decodificado = json.loads(json_memoria)\n",
        "\n",
        "# Cria a lista\n",
        "lista = [json_dict['nome'] for json_dict in json_decodificado]\n",
        "\n",
        "# Mostra a lista\n",
        "print (lista)"
      ],
      "execution_count": 164,
      "outputs": [
        {
          "output_type": "stream",
          "text": [
            "['joao', 'maria', 'pedro']\n"
          ],
          "name": "stdout"
        }
      ]
    },
    {
      "cell_type": "markdown",
      "metadata": {
        "id": "tKhDDPUpYaY4"
      },
      "source": [
        "### Cria uma lista de um atributo\n",
        "Forma longa.\n",
        "Serve para JSON ou CSV."
      ]
    },
    {
      "cell_type": "code",
      "metadata": {
        "id": "9wWZW5ndYPB4",
        "colab": {
          "base_uri": "https://localhost:8080/"
        },
        "outputId": "0ef366c1-621e-4539-e013-14cc89e0eced"
      },
      "source": [
        "# Biblioteca para manipular json\n",
        "import json\n",
        "\n",
        "# Declara um array de 3 objetos json em memória\n",
        "json_memoria = '[ { \"id\": \"1\", \"nome\": \"joao\", \"genero\": \"M\", \"idade\": 33, \"salario\": 10.5 }, { \"id\": \"2\", \"nome\": \"maria\", \"genero\": \"F\", \"idade\": 34, \"salario\": 12.7 }, { \"id\": \"3\", \"nome\": \"pedro\", \"genero\": \"M\", \"idade\": 35, \"salario\": 14.9 } ]'\n",
        "\n",
        "# Carrega o json\n",
        "json_decodificado = json.loads(json_memoria)\n",
        "\n",
        "# Cria a lista vazia\n",
        "lista = []\n",
        "\n",
        "# Percorre a lista adicionando o atributo\n",
        "for item in json_decodificado:    \n",
        "   lista.append(item['nome'])\n",
        "\n",
        "# Mostra a lista\n",
        "print(lista)"
      ],
      "execution_count": 165,
      "outputs": [
        {
          "output_type": "stream",
          "text": [
            "['joao', 'maria', 'pedro']\n"
          ],
          "name": "stdout"
        }
      ]
    },
    {
      "cell_type": "markdown",
      "metadata": {
        "id": "EEVOeyDOc56v"
      },
      "source": [
        "###Lendo json de arquivo\n",
        "\n"
      ]
    },
    {
      "cell_type": "code",
      "metadata": {
        "id": "_2s9kVcpdFQQ",
        "colab": {
          "base_uri": "https://localhost:8080/"
        },
        "outputId": "54431866-42ed-462d-ec45-7d59109dd0bc"
      },
      "source": [
        "# Biblioteca para manipular json\n",
        "import json\n",
        "\n",
        "# Caminho e nome do arquivo\n",
        "nomearquivo = '/content/dados.json'\n",
        "\n",
        "# Carrega o json\n",
        "#json_decodificado = json.load(open(nomearquivo, 'r').read())\n",
        "\n",
        "json_decodificado = {}\n",
        "with open(nomearquivo) as arquivo:\n",
        "   json_decodificado = json.load(arquivo)\n",
        "\n",
        "# Recupera os dados dos campos\n",
        "for linha in json_decodificado:\n",
        "  id = linha['id']\n",
        "  nome = linha['nome']\n",
        "  genero = linha['genero']\n",
        "  idade = linha['idade']\n",
        "  salario = linha['salario']\n",
        "\n",
        "  # Mostra os dados\n",
        "  print(id, nome, genero, idade, salario)"
      ],
      "execution_count": 166,
      "outputs": [
        {
          "output_type": "stream",
          "text": [
            "1 joao M 33 10.5\n",
            "2 maria F 51 12.7\n",
            "3 pedro M 35 14.9\n"
          ],
          "name": "stdout"
        }
      ]
    },
    {
      "cell_type": "markdown",
      "metadata": {
        "id": "8qjLRCrFvNDm"
      },
      "source": [
        "###Lendo json de um request - não formatado\n",
        "\n",
        "Saída não formatada\n",
        "\n",
        "https://www.dataquest.io/blog/python-api-tutorial/"
      ]
    },
    {
      "cell_type": "code",
      "metadata": {
        "id": "34RDYa80vQj5",
        "colab": {
          "base_uri": "https://localhost:8080/"
        },
        "outputId": "502693f4-2683-4107-8421-f61640dfdf4d"
      },
      "source": [
        "import requests\n",
        "\n",
        "# Requisição de url\n",
        "response = requests.get(\"http://api.open-notify.org/astros.json\")\n",
        "\n",
        "# Exibe os dados\n",
        "print(response.json())"
      ],
      "execution_count": 167,
      "outputs": [
        {
          "output_type": "stream",
          "text": [
            "{'message': 'success', 'number': 7, 'people': [{'craft': 'ISS', 'name': 'Sergey Ryzhikov'}, {'craft': 'ISS', 'name': 'Kate Rubins'}, {'craft': 'ISS', 'name': 'Sergey Kud-Sverchkov'}, {'craft': 'ISS', 'name': 'Mike Hopkins'}, {'craft': 'ISS', 'name': 'Victor Glover'}, {'craft': 'ISS', 'name': 'Shannon Walker'}, {'craft': 'ISS', 'name': 'Soichi Noguchi'}]}\n"
          ],
          "name": "stdout"
        }
      ]
    },
    {
      "cell_type": "markdown",
      "metadata": {
        "id": "zzKHF2pqvelu"
      },
      "source": [
        "###Lendo json de um request - não formatado\n",
        "\n",
        "Saída não formatada"
      ]
    },
    {
      "cell_type": "code",
      "metadata": {
        "id": "-eYbPVlUvjXe",
        "colab": {
          "base_uri": "https://localhost:8080/"
        },
        "outputId": "44786c3a-6747-4a5b-bb04-9212d5397b07"
      },
      "source": [
        "import requests\n",
        "\n",
        "def jprint(obj):\n",
        "    # Cria uma string formatada de um object JSON\n",
        "    text = json.dumps(obj, sort_keys=True, indent=4)\n",
        "    print(text)\n",
        "\n",
        "# Requisição de url\n",
        "response = requests.get(\"http://api.open-notify.org/astros.json\")\n",
        "\n",
        "# Exibe os dados\n",
        "jprint(response.json())\n"
      ],
      "execution_count": 168,
      "outputs": [
        {
          "output_type": "stream",
          "text": [
            "{\n",
            "    \"message\": \"success\",\n",
            "    \"number\": 7,\n",
            "    \"people\": [\n",
            "        {\n",
            "            \"craft\": \"ISS\",\n",
            "            \"name\": \"Sergey Ryzhikov\"\n",
            "        },\n",
            "        {\n",
            "            \"craft\": \"ISS\",\n",
            "            \"name\": \"Kate Rubins\"\n",
            "        },\n",
            "        {\n",
            "            \"craft\": \"ISS\",\n",
            "            \"name\": \"Sergey Kud-Sverchkov\"\n",
            "        },\n",
            "        {\n",
            "            \"craft\": \"ISS\",\n",
            "            \"name\": \"Mike Hopkins\"\n",
            "        },\n",
            "        {\n",
            "            \"craft\": \"ISS\",\n",
            "            \"name\": \"Victor Glover\"\n",
            "        },\n",
            "        {\n",
            "            \"craft\": \"ISS\",\n",
            "            \"name\": \"Shannon Walker\"\n",
            "        },\n",
            "        {\n",
            "            \"craft\": \"ISS\",\n",
            "            \"name\": \"Soichi Noguchi\"\n",
            "        }\n",
            "    ]\n",
            "}\n"
          ],
          "name": "stdout"
        }
      ]
    },
    {
      "cell_type": "markdown",
      "metadata": {
        "id": "GAt_pTzUB1a1"
      },
      "source": [
        "##Usando a biblioteca pandas\n",
        "\n",
        "API:\n",
        "https://pandas.pydata.org/docs/reference/index.html\n",
        "\n",
        "Exemplos:\n",
        "https://medium.com/data-hackers/uma-introdu%C3%A7%C3%A3o-simples-ao-pandas-1e15eea37fa1\n",
        "\n",
        "Artigo original:\n",
        "https://pandas.pydata.org/pandas-docs/stable/getting_started/10min.html"
      ]
    },
    {
      "cell_type": "markdown",
      "metadata": {
        "id": "3cgmQqTyB7Pu"
      },
      "source": [
        "### Lendo json de arquivo"
      ]
    },
    {
      "cell_type": "code",
      "metadata": {
        "id": "j92kYbUHCD7S",
        "colab": {
          "base_uri": "https://localhost:8080/"
        },
        "outputId": "a8e89248-af09-474e-ac81-6087efbbc1a9"
      },
      "source": [
        "# Biblioteca de processamento de dados, I/O em arquivo json (ex. pd.read_json)\n",
        "import pandas as pd\n",
        "\n",
        "# Caminho e nome do arquivo\n",
        "nomearquivo = \"/content/dados.json\"\n",
        "\n",
        "# Abre o arquivo e retorna o leitor\n",
        "df = pd.read_json(nomearquivo)\n",
        "\n",
        "# Mostra os dados do cabeçalho do arquivo\n",
        "print(df.head())"
      ],
      "execution_count": 169,
      "outputs": [
        {
          "output_type": "stream",
          "text": [
            "   id   nome genero  idade  salario\n",
            "0   1   joao      M     33     10.5\n",
            "1   2  maria      F     51     12.7\n",
            "2   3  pedro      M     35     14.9\n"
          ],
          "name": "stdout"
        }
      ]
    },
    {
      "cell_type": "markdown",
      "metadata": {
        "id": "tEQD9qWktiZG"
      },
      "source": [
        "### Mostrando as colunas do arquivo json"
      ]
    },
    {
      "cell_type": "code",
      "metadata": {
        "id": "lI5CEO8ZtiZH",
        "colab": {
          "base_uri": "https://localhost:8080/"
        },
        "outputId": "e9a0034b-ca04-4485-9d2d-31cda574847c"
      },
      "source": [
        "# Biblioteca de processamento de dados, I/O em arquivo json (ex. pd.read_json)\n",
        "import pandas as pd\n",
        "\n",
        "# Caminho e nome do arquivo\n",
        "nomearquivo = \"/content/dados.json\"\n",
        "\n",
        "# Abre o arquivo e retorna o leitor\n",
        "df = pd.read_json(nomearquivo)\n",
        "\n",
        "# Mostra os colunas arquivo\n",
        "print(df.columns)"
      ],
      "execution_count": 170,
      "outputs": [
        {
          "output_type": "stream",
          "text": [
            "Index(['id', 'nome', 'genero', 'idade', 'salario'], dtype='object')\n"
          ],
          "name": "stdout"
        }
      ]
    },
    {
      "cell_type": "markdown",
      "metadata": {
        "id": "7shpO-ETuPC4"
      },
      "source": [
        "### Mostrando a soma das colunas do arquivo json"
      ]
    },
    {
      "cell_type": "code",
      "metadata": {
        "id": "DwLlDDmduPC5",
        "colab": {
          "base_uri": "https://localhost:8080/"
        },
        "outputId": "aa4e9a35-a406-48fb-accb-b8beca0dca85"
      },
      "source": [
        "# Biblioteca de processamento de dados, I/O em arquivo json (ex. pd.read_json)\n",
        "import pandas as pd\n",
        "\n",
        "# Caminho e nome do arquivo\n",
        "nomearquivo = \"/content/dados.json\"\n",
        "\n",
        "# Abre o arquivo e retorna o leitor\n",
        "df = pd.read_json(nomearquivo)\n",
        "\n",
        "# Mostra os colunas arquivo\n",
        "print(df.isna().sum())"
      ],
      "execution_count": 171,
      "outputs": [
        {
          "output_type": "stream",
          "text": [
            "id         0\n",
            "nome       0\n",
            "genero     0\n",
            "idade      0\n",
            "salario    0\n",
            "dtype: int64\n"
          ],
          "name": "stdout"
        }
      ]
    },
    {
      "cell_type": "markdown",
      "metadata": {
        "id": "lPGVN8p_FTd7"
      },
      "source": [
        "### Criando listas de propriedades do arquivo json\n",
        "\n",
        "O arquivo possui as propriedades:\n",
        "* \"id\"\n",
        "* \"nome\"\n",
        "* \"idade\""
      ]
    },
    {
      "cell_type": "code",
      "metadata": {
        "id": "PD7AaQK6FZ0_",
        "colab": {
          "base_uri": "https://localhost:8080/"
        },
        "outputId": "d517451f-9344-47ba-8b76-970df1f4990c"
      },
      "source": [
        "# Biblioteca de processamento de dados, I/O em arquivo json (ex. pd.read_json)\n",
        "import pandas as pd\n",
        "\n",
        "# Caminho e nome do arquivo\n",
        "nomearquivo = \"/content/dados.json\"\n",
        "\n",
        "# Abre o arquivo e retorna o leitor\n",
        "df = pd.read_json(nomearquivo)\n",
        "\n",
        "# Cria listas dos valores do arquivo json lido para a propriedade id\n",
        "ids = df.id.values\n",
        "print(ids)\n",
        "\n",
        "# Cria listas dos valores do arquivo json lido para a propriedade nome\n",
        "nomes = df.nome.values\n",
        "print(nomes)"
      ],
      "execution_count": 172,
      "outputs": [
        {
          "output_type": "stream",
          "text": [
            "[1 2 3]\n",
            "['joao' 'maria' 'pedro']\n"
          ],
          "name": "stdout"
        }
      ]
    },
    {
      "cell_type": "markdown",
      "metadata": {
        "id": "9Mj7PgMCkpY0"
      },
      "source": [
        "###Propriedades do json\n"
      ]
    },
    {
      "cell_type": "code",
      "metadata": {
        "id": "B5mxxDM-kpY2",
        "colab": {
          "base_uri": "https://localhost:8080/"
        },
        "outputId": "cb5710ac-4aea-441b-eed5-15a214e78abc"
      },
      "source": [
        "# Biblioteca de processamento de dados, I/O em arquivo json (ex. pd.read_json)\n",
        "import pandas as pd\n",
        "\n",
        "# Caminho e nome do arquivo\n",
        "nomearquivo = \"/content/dados.json\"\n",
        "\n",
        "# Abre o arquivo e retorna o leitor\n",
        "df = pd.read_json(nomearquivo)\n",
        "\n",
        "# Mostra as colunas\n",
        "print(df.columns)\n",
        "\n",
        "# Mostra os tipos das colunas\n",
        "print(df.dtypes)\n",
        "\n",
        "# Mostra um determinado registro do json pelo indice\n",
        "print(df.loc[0])\n",
        "\n",
        "# Mostra um determinado registro do json pelo indice e determinada coluna pelo indice\n",
        "print(df.loc[0][0])\n",
        "print(df.loc[0][1])\n",
        "print(df.loc[0][2])\n",
        "\n",
        "# Mostra um determinado registro do json pelo indice e determinada coluna pelo nome da coluna\n",
        "print(df.loc[0]['id'])"
      ],
      "execution_count": 173,
      "outputs": [
        {
          "output_type": "stream",
          "text": [
            "Index(['id', 'nome', 'genero', 'idade', 'salario'], dtype='object')\n",
            "id           int64\n",
            "nome        object\n",
            "genero      object\n",
            "idade        int64\n",
            "salario    float64\n",
            "dtype: object\n",
            "id            1\n",
            "nome       joao\n",
            "genero        M\n",
            "idade        33\n",
            "salario      10\n",
            "Name: 0, dtype: object\n",
            "1\n",
            "joao\n",
            "M\n",
            "1\n"
          ],
          "name": "stdout"
        }
      ]
    },
    {
      "cell_type": "markdown",
      "metadata": {
        "id": "Fxd_E6b_od2C"
      },
      "source": [
        "###Iterando sobre json \n",
        "\n",
        "https://thispointer.com/pandas-6-different-ways-to-iterate-over-rows-in-a-dataframe-update-while-iterating-row-by-row/"
      ]
    },
    {
      "cell_type": "code",
      "metadata": {
        "id": "OUGZefMVoeIa",
        "colab": {
          "base_uri": "https://localhost:8080/"
        },
        "outputId": "6e1abc29-38ab-469a-8966-09c48953dd5e"
      },
      "source": [
        "# Biblioteca de processamento de dados, I/O em arquivo json (ex. pd.read_json)\n",
        "import pandas as pd\n",
        "\n",
        "# Declara um array de 3 objetos json em memória\n",
        "json_memoria = '[ { \"id\": \"1\", \"nome\": \"joao\", \"idade\": \"33\" }, { \"id\": \"2\", \"nome\": \"maria\", \"idade\": \"34\" }, { \"id\": \"3\", \"nome\": \"pedro\", \"idade\": \"35\" } ]'\n",
        "\n",
        "# Carrega o json\n",
        "df = pd.read_json(json_memoria)\n",
        "\n",
        "# Percorre os dados recuperando um índice e uma linha\n",
        "for (indice, linha) in df.iterrows():\n",
        "  print('Índice da linha : ', indice)\n",
        "  print('Conteúdo da linha : ', linha.values)\n",
        "  print(linha.values[0], linha.values[1], linha.values[2])\n",
        "\n",
        "# Percorre os dados linha[0] é o índice\n",
        "for linha in df.itertuples():\n",
        "   print('Conteúdo da linha : ', linha)\n",
        "   print(linha[0], linha[1], linha[2], linha[3])"
      ],
      "execution_count": 174,
      "outputs": [
        {
          "output_type": "stream",
          "text": [
            "Índice da linha :  0\n",
            "Conteúdo da linha :  [1 'joao' 33]\n",
            "1 joao 33\n",
            "Índice da linha :  1\n",
            "Conteúdo da linha :  [2 'maria' 34]\n",
            "2 maria 34\n",
            "Índice da linha :  2\n",
            "Conteúdo da linha :  [3 'pedro' 35]\n",
            "3 pedro 35\n",
            "Conteúdo da linha :  Pandas(Index=0, id=1, nome='joao', idade=33)\n",
            "0 1 joao 33\n",
            "Conteúdo da linha :  Pandas(Index=1, id=2, nome='maria', idade=34)\n",
            "1 2 maria 34\n",
            "Conteúdo da linha :  Pandas(Index=2, id=3, nome='pedro', idade=35)\n",
            "2 3 pedro 35\n"
          ],
          "name": "stdout"
        }
      ]
    },
    {
      "cell_type": "markdown",
      "metadata": {
        "id": "KQGxwi1_2op9"
      },
      "source": [
        "### Concatenando dataFrames"
      ]
    },
    {
      "cell_type": "code",
      "metadata": {
        "id": "VJJTljJB2sy6",
        "colab": {
          "base_uri": "https://localhost:8080/"
        },
        "outputId": "836e8391-169c-4cff-9b4b-070eb77d416f"
      },
      "source": [
        "# Biblioteca de processamento de dados, I/O em arquivo json (ex. pd.read_json)\n",
        "import pandas as pd\n",
        "\n",
        "# Declara um array de 3 objetos json em memória\n",
        "json_memoria = '[ { \"id\": \"1\", \"nome\": \"joao\", \"idade\": \"33\" }, { \"id\": \"2\", \"nome\": \"maria\", \"idade\": \"34\" }, { \"id\": \"3\", \"nome\": \"pedro\", \"idade\": \"35\" } ]'\n",
        "\n",
        "# Carrega o json\n",
        "df = pd.read_json(json_memoria)\n",
        "\n",
        "# Cria o df1 e df2 com parte dos dados\n",
        "df1 = df[:1]\n",
        "df2 = df[-1:]\n",
        "\n",
        "# Concatena df1 e df2 em df3\n",
        "df3 = pd.concat([df1,df2])\n",
        "\n",
        "print(df3)"
      ],
      "execution_count": 175,
      "outputs": [
        {
          "output_type": "stream",
          "text": [
            "   id   nome  idade\n",
            "0   1   joao     33\n",
            "2   3  pedro     35\n"
          ],
          "name": "stdout"
        }
      ]
    },
    {
      "cell_type": "markdown",
      "metadata": {
        "id": "K022Tjl73gWL"
      },
      "source": [
        "###Contando ocorrência de valores"
      ]
    },
    {
      "cell_type": "code",
      "metadata": {
        "id": "k_MJKqKi3j1z",
        "colab": {
          "base_uri": "https://localhost:8080/"
        },
        "outputId": "7da688ff-204e-4e6b-8944-d833686c4103"
      },
      "source": [
        "# Biblioteca de processamento de dados, I/O em arquivo json (ex. pd.read_json)\n",
        "import pandas as pd\n",
        "\n",
        "# Declara um array de 3 objetos json em memória\n",
        "json_memoria = '[ { \"id\": \"1\", \"nome\": \"joao\", \"idade\": \"33\" }, { \"id\": \"2\", \"nome\": \"maria\", \"idade\": \"34\" }, { \"id\": \"3\", \"nome\": \"pedro\", \"idade\": \"35\" } ]'\n",
        "\n",
        "# Carrega o json\n",
        "df = pd.read_json(json_memoria)\n",
        "\n",
        "# Conta as ocorrências de determinado atributo do json\n",
        "print(df.idade.value_counts())"
      ],
      "execution_count": 176,
      "outputs": [
        {
          "output_type": "stream",
          "text": [
            "35    1\n",
            "34    1\n",
            "33    1\n",
            "Name: idade, dtype: int64\n"
          ],
          "name": "stdout"
        }
      ]
    },
    {
      "cell_type": "markdown",
      "metadata": {
        "id": "pE8YHqKysddn"
      },
      "source": [
        "# Manipulando dados com Pandas"
      ]
    },
    {
      "cell_type": "markdown",
      "metadata": {
        "id": "s7_qwpoEzTKe"
      },
      "source": [
        "## Criando o arquivo json"
      ]
    },
    {
      "cell_type": "code",
      "metadata": {
        "id": "l38xRXPWzTKf"
      },
      "source": [
        "# Biblioteca para manipular json\n",
        "import json\n",
        "\n",
        "# Dados do arquivo json\n",
        "dados = [\n",
        "  {\n",
        "    \"id\": \"1\",\n",
        "    \"nome\": \"joao da silva\",\n",
        "    \"estado_civil\": \"casado\",\n",
        "    \"genero\": \"M\",\n",
        "    \"idade\": 33,\n",
        "    \"salario\": 16.5, \n",
        "    \"tempo_estudo\" : 10\n",
        "  },\n",
        "  {\n",
        "    \"id\": \"2\",\n",
        "    \"nome\": \"maria da silva\",\n",
        "    \"estado_civil\": \"casado\",\n",
        "    \"genero\": \"F\",\n",
        "    \"idade\": 51,\n",
        "    \"salario\": 21.7, \n",
        "    \"tempo_estudo\" : 12\n",
        "  }, \n",
        "  { \n",
        "    \"id\": \"3\", \n",
        "    \"nome\": \"pedro pereira\", \n",
        "    \"estado_civil\": \"solteiro\",\n",
        "    \"genero\": \"M\",\n",
        "    \"idade\": 35,\n",
        "    \"salario\": 14.9, \n",
        "    \"tempo_estudo\" : 9 \n",
        "   },\n",
        "   { \n",
        "    \"id\": \"4\", \n",
        "    \"nome\": \"carlos pereira\", \n",
        "    \"estado_civil\": \"solteiro\",\n",
        "    \"genero\": \"M\",\n",
        "    \"idade\": 12,\n",
        "    \"salario\": 1.5, \n",
        "    \"tempo_estudo\" : 6    \n",
        "   },\n",
        "   { \n",
        "    \"id\": \"5\", \n",
        "    \"nome\": \"fernando da silva\", \n",
        "    \"estado_civil\": \"solteiro\",\n",
        "    \"genero\": \"M\",\n",
        "    \"idade\": 21,\n",
        "    \"salario\": 7.0, \n",
        "    \"tempo_estudo\" : 8 \n",
        "   },\n",
        "   { \n",
        "    \"id\": \"6\", \n",
        "    \"nome\": \"guilherme da silva\", \n",
        "    \"estado_civil\": \"solteiro\",\n",
        "    \"genero\": \"M\",\n",
        "    \"idade\": 16,\n",
        "    \"salario\": 3.0, \n",
        "    \"tempo_estudo\" : 6 \n",
        "   },\n",
        "   { \n",
        "    \"id\": \"7\", \n",
        "    \"nome\": \"marcia pereira\", \n",
        "    \"estado_civil\": \"casado\",\n",
        "    \"genero\": \"F\",\n",
        "    \"idade\": 24,\n",
        "    \"salario\": 10.3, \n",
        "    \"tempo_estudo\" : 9 \n",
        "   },\n",
        "   { \n",
        "    \"id\": \"8\", \n",
        "    \"nome\": \"antônio pereira\", \n",
        "    \"estado_civil\": \"casado\",\n",
        "    \"genero\": \"M\",\n",
        "    \"idade\": 25,\n",
        "    \"salario\": 9.2, \n",
        "    \"tempo_estudo\" : 11 \n",
        "   },\n",
        "   { \n",
        "    \"id\": \"9\", \n",
        "    \"nome\": \"isabel pereira\", \n",
        "    \"estado_civil\": \"solteiro\",\n",
        "    \"genero\": \"F\",\n",
        "    \"idade\": 24,\n",
        "    \"salario\": 9.2, \n",
        "    \"tempo_estudo\" : 11 \n",
        "   },\n",
        "   { \n",
        "    \"id\": \"10\", \n",
        "    \"nome\": \"julia pereira\", \n",
        "    \"estado_civil\": \"solteiro\",\n",
        "    \"genero\": \"F\",\n",
        "    \"idade\": 16,\n",
        "    \"salario\": 4.0, \n",
        "    \"tempo_estudo\" : 7 \n",
        "   },\n",
        "   { \n",
        "    \"id\": \"11\", \n",
        "    \"nome\": \"ana oliveira\", \n",
        "    \"estado_civil\": \"solteiro\",\n",
        "    \"genero\": \"F\",\n",
        "    \"idade\": 15,\n",
        "    \"salario\": 3.2, \n",
        "    \"tempo_estudo\" : 6 \n",
        "   },\n",
        "   { \n",
        "    \"id\": \"12\", \n",
        "    \"nome\": \"carla silveira\", \n",
        "    \"estado_civil\": \"solteiro\",\n",
        "    \"genero\": \"F\",\n",
        "    \"idade\": 18,\n",
        "    \"salario\": 6.4, \n",
        "    \"tempo_estudo\" : 9 \n",
        "   },\n",
        "   { \n",
        "    \"id\": \"13\", \n",
        "    \"nome\": \"julio silveira\", \n",
        "    \"estado_civil\": \"solteiro\",\n",
        "    \"genero\": \"M\",\n",
        "    \"idade\": 23,\n",
        "    \"salario\": 8.6, \n",
        "    \"tempo_estudo\" : 12 \n",
        "   },\n",
        "   { \n",
        "    \"id\": \"14\", \n",
        "    \"nome\": \"tiago silveira\", \n",
        "    \"estado_civil\": \"solteiro\",\n",
        "    \"genero\": \"M\",\n",
        "    \"idade\": 25,\n",
        "    \"salario\": 12.6, \n",
        "    \"tempo_estudo\" : 11 \n",
        "   },\n",
        "   { \n",
        "    \"id\": \"15\", \n",
        "    \"nome\": \"marcos silveira\", \n",
        "    \"estado_civil\": \"casado\",\n",
        "    \"genero\": \"F\",\n",
        "    \"idade\": 25,\n",
        "    \"salario\": 14.7, \n",
        "    \"tempo_estudo\" : 11\n",
        "   }\n",
        "]\n",
        "\n",
        "# Abre o arquivo\n",
        "with open('pessoas.json', 'w') as arquivo:\n",
        "\n",
        "  # Salva os dados no arquivo\n",
        "  json.dump(dados, arquivo)"
      ],
      "execution_count": 177,
      "outputs": []
    },
    {
      "cell_type": "markdown",
      "metadata": {
        "id": "2JtdEgdp0Y5A"
      },
      "source": [
        "## Carrega os dados"
      ]
    },
    {
      "cell_type": "code",
      "metadata": {
        "id": "RexKN1Eu0Z-G",
        "colab": {
          "base_uri": "https://localhost:8080/"
        },
        "outputId": "90785baf-907e-4f3d-81d3-26d24cf707cf"
      },
      "source": [
        "# Nome do arquivo\n",
        "nomearquivo = \"pessoas.json\"\n",
        "\n",
        "# Abre o arquivo e retorna o leitor\n",
        "df = pd.read_json(nomearquivo)\n",
        "\n",
        "# Mostra o arquivo\n",
        "print(df.head())\n",
        "\n",
        "# Formato do arquivo\n",
        "print(df.shape)\n",
        "\n",
        "# Colunas do arquivo\n",
        "print(df.columns)\n",
        "\n",
        "# Imprime os tipos das colunas\n",
        "print(df.dtypes)"
      ],
      "execution_count": 178,
      "outputs": [
        {
          "output_type": "stream",
          "text": [
            "   id               nome estado_civil genero  idade  salario  tempo_estudo\n",
            "0   1      joao da silva       casado      M     33     16.5            10\n",
            "1   2     maria da silva       casado      F     51     21.7            12\n",
            "2   3      pedro pereira     solteiro      M     35     14.9             9\n",
            "3   4     carlos pereira     solteiro      M     12      1.5             6\n",
            "4   5  fernando da silva     solteiro      M     21      7.0             8\n",
            "(15, 7)\n",
            "Index(['id', 'nome', 'estado_civil', 'genero', 'idade', 'salario',\n",
            "       'tempo_estudo'],\n",
            "      dtype='object')\n",
            "id                int64\n",
            "nome             object\n",
            "estado_civil     object\n",
            "genero           object\n",
            "idade             int64\n",
            "salario         float64\n",
            "tempo_estudo      int64\n",
            "dtype: object\n"
          ],
          "name": "stdout"
        }
      ]
    },
    {
      "cell_type": "markdown",
      "metadata": {
        "id": "Jz9rycgO_Ue-"
      },
      "source": [
        "## Gráficos"
      ]
    },
    {
      "cell_type": "markdown",
      "metadata": {
        "id": "UDJniMWi0JSG"
      },
      "source": [
        "Qual o gênero e estado civil da maioria das pessoas?\n"
      ]
    },
    {
      "cell_type": "code",
      "metadata": {
        "id": "tadk3L_bshPd",
        "colab": {
          "base_uri": "https://localhost:8080/",
          "height": 375
        },
        "outputId": "0f92e0cd-367a-42d6-f2ce-949a17cc7f82"
      },
      "source": [
        "# Bibliotecas\n",
        "import pandas as pd\n",
        "import numpy as np\n",
        "import matplotlib.pyplot as plt\n",
        "import seaborn as sns\n",
        "from sklearn.preprocessing import MinMaxScaler\n",
        "from sklearn.preprocessing import StandardScaler\n",
        "import warnings\n",
        "warnings.filterwarnings('ignore')\n",
        "\n",
        "# Título do relatório\n",
        "plt.title('Pessoas por genêro e estado civil');\n",
        "# Seleciona as colunas\n",
        "estadocivil_genero = df[['genero', 'estado_civil']]\n",
        "\n",
        "# Substitui M e F por Masculino e Feminino\n",
        "estadocivil_genero['genero'].replace(to_replace = [\"M\", \"F\"], value = ['Masculino', 'Feminino'], inplace=True)\n",
        "\n",
        "sns.set(style='whitegrid', palette = 'Paired', font_scale=1.1, rc={\"figure.figsize\": [12, 5]})\n",
        "sns.countplot(x='estado_civil', hue='genero', data=estadocivil_genero);\n",
        "\n",
        "# Rótulo dos eixos\n",
        "plt.xlabel('Estado Civil')\n",
        "plt.ylabel('Quantidades')\n"
      ],
      "execution_count": 179,
      "outputs": [
        {
          "output_type": "execute_result",
          "data": {
            "text/plain": [
              "Text(0, 0.5, 'Quantidades')"
            ]
          },
          "metadata": {
            "tags": []
          },
          "execution_count": 179
        },
        {
          "output_type": "display_data",
          "data": {
            "image/png": "[encoded data removed]",
            "text/plain": [
              "<Figure size 864x360 with 1 Axes>"
            ]
          },
          "metadata": {
            "tags": []
          }
        }
      ]
    },
    {
      "cell_type": "markdown",
      "metadata": {
        "id": "hSIPs_xr2fyR"
      },
      "source": [
        "Quatidade de pessoas pela faixa etária?"
      ]
    },
    {
      "cell_type": "code",
      "metadata": {
        "id": "zg0jpMjO2geu",
        "colab": {
          "base_uri": "https://localhost:8080/",
          "height": 375
        },
        "outputId": "05c7cf37-cb09-4453-b000-1cdf1636ba46"
      },
      "source": [
        "# Bibliotecas\n",
        "import pandas as pd\n",
        "import numpy as np\n",
        "import matplotlib.pyplot as plt\n",
        "import seaborn as sns\n",
        "from sklearn.preprocessing import MinMaxScaler\n",
        "from sklearn.preprocessing import StandardScaler\n",
        "import warnings\n",
        "warnings.filterwarnings('ignore')\n",
        "\n",
        "# Título do relatório\n",
        "plt.title('Pessoas por faixa etária');\n",
        "\n",
        "# Seleciona as idades unicas e ordenadas\n",
        "idade = sorted(df['idade'].unique())\n",
        "\n",
        "sns.countplot(x='idade', order=idade, data=df);\n",
        "plt.xlabel('Faixa etária')\n",
        "plt.ylabel('Quantidades')\n",
        "\n"
      ],
      "execution_count": 180,
      "outputs": [
        {
          "output_type": "execute_result",
          "data": {
            "text/plain": [
              "Text(0, 0.5, 'Quantidades')"
            ]
          },
          "metadata": {
            "tags": []
          },
          "execution_count": 180
        },
        {
          "output_type": "display_data",
          "data": {
            "image/png": "[encoded data removed]",
            "text/plain": [
              "<Figure size 864x360 with 1 Axes>"
            ]
          },
          "metadata": {
            "tags": []
          }
        }
      ]
    },
    {
      "cell_type": "markdown",
      "metadata": {
        "id": "GERY-AbV4T3a"
      },
      "source": [
        "Qual a faixa etária das pessoas que possuem o salário maior que o maior salário?\n"
      ]
    },
    {
      "cell_type": "code",
      "metadata": {
        "id": "2N0UF8Bk4UZ4",
        "colab": {
          "base_uri": "https://localhost:8080/",
          "height": 375
        },
        "outputId": "5854b8a0-b001-4811-ebed-dd65043a401f"
      },
      "source": [
        "# Título do relatório\n",
        "plt.title('Salário médio por faixa etária');\n",
        "\n",
        "# Agrupamento da idade pela média do salário\n",
        "idade_salario = df.groupby('idade')['salario'].mean()\n",
        "\n",
        "idade_salario = pd.DataFrame({'idade':idade_salario.index, 'media_salario':idade_salario.values})\n",
        "plt.plot('idade', 'media_salario', 'go-', data=idade_salario, );\n",
        "plt.xlabel('Faixa etária')\n",
        "plt.ylabel('Salário médio (R$)')\n"
      ],
      "execution_count": 181,
      "outputs": [
        {
          "output_type": "execute_result",
          "data": {
            "text/plain": [
              "Text(0, 0.5, 'Salário médio (R$)')"
            ]
          },
          "metadata": {
            "tags": []
          },
          "execution_count": 181
        },
        {
          "output_type": "display_data",
          "data": {
            "image/png": "[encoded data removed]",
            "text/plain": [
              "<Figure size 864x360 with 1 Axes>"
            ]
          },
          "metadata": {
            "tags": []
          }
        }
      ]
    },
    {
      "cell_type": "markdown",
      "metadata": {
        "id": "hfbEhlnx7a7d"
      },
      "source": [
        "Qual a relação entre as pessoas e tempo de estudo?\n"
      ]
    },
    {
      "cell_type": "code",
      "metadata": {
        "id": "rNt1l75h7bm4",
        "colab": {
          "base_uri": "https://localhost:8080/",
          "height": 375
        },
        "outputId": "0fd56983-76be-45cb-ae2e-67ee63a8b45b"
      },
      "source": [
        "# Bibliotecas\n",
        "import pandas as pd\n",
        "import numpy as np\n",
        "import matplotlib.pyplot as plt\n",
        "import seaborn as sns\n",
        "from sklearn.preprocessing import MinMaxScaler\n",
        "from sklearn.preprocessing import StandardScaler\n",
        "import warnings\n",
        "warnings.filterwarnings('ignore')\n",
        "\n",
        "# Título do relatório\n",
        "plt.title('Pessoas por tempo de estudo');\n",
        "\n",
        "# Carrega a lista de tempo de estudo único e ordenado\n",
        "tempo_estudo = sorted(df['tempo_estudo'].unique())\n",
        "\n",
        "sns.countplot(x='tempo_estudo', order=tempo_estudo, data=df);\n",
        "\n",
        "plt.xlabel('Tempo de estudo (anos)')\n",
        "plt.ylabel('Quantidades')"
      ],
      "execution_count": 182,
      "outputs": [
        {
          "output_type": "execute_result",
          "data": {
            "text/plain": [
              "Text(0, 0.5, 'Quantidades')"
            ]
          },
          "metadata": {
            "tags": []
          },
          "execution_count": 182
        },
        {
          "output_type": "display_data",
          "data": {
            "image/png": "[encoded data removed]",
            "text/plain": [
              "<Figure size 864x360 with 1 Axes>"
            ]
          },
          "metadata": {
            "tags": []
          }
        }
      ]
    },
    {
      "cell_type": "markdown",
      "metadata": {
        "id": "SZobKWSp9hJK"
      },
      "source": [
        "Qual o salário médio por tempo de estudo?"
      ]
    },
    {
      "cell_type": "code",
      "metadata": {
        "id": "eYECdqkb89Rv",
        "colab": {
          "base_uri": "https://localhost:8080/",
          "height": 375
        },
        "outputId": "4bcf57c1-87de-4123-a6fd-bba719d0d7ca"
      },
      "source": [
        "# Bibliotecas\n",
        "import pandas as pd\n",
        "import numpy as np\n",
        "import matplotlib.pyplot as plt\n",
        "import seaborn as sns\n",
        "from sklearn.preprocessing import MinMaxScaler\n",
        "from sklearn.preprocessing import StandardScaler\n",
        "import warnings\n",
        "warnings.filterwarnings('ignore')\n",
        "\n",
        "# Carrega a lista de tempo de estudo unico e ordenado\n",
        "tempo_estudo = df.groupby('tempo_estudo')['salario'].mean()\n",
        "\n",
        "tempo_estudo = pd.DataFrame({'tempo_estudo':tempo_estudo.index, 'media_salario':tempo_estudo.values})\n",
        "plt.plot('tempo_estudo', 'media_salario', 'bo-', data=tempo_estudo);\n",
        "\n",
        "# Título do relatório\n",
        "plt.title('Salário médio por tempo de estudo');\n",
        "\n",
        "plt.xlabel('Tempo de estudro (anos)')\n",
        "plt.ylabel('Salário médio(R$)')"
      ],
      "execution_count": 183,
      "outputs": [
        {
          "output_type": "execute_result",
          "data": {
            "text/plain": [
              "Text(0, 0.5, 'Salário médio(R$)')"
            ]
          },
          "metadata": {
            "tags": []
          },
          "execution_count": 183
        },
        {
          "output_type": "display_data",
          "data": {
            "image/png": "[encoded data removed]",
            "text/plain": [
              "<Figure size 864x360 with 1 Axes>"
            ]
          },
          "metadata": {
            "tags": []
          }
        }
      ]
    },
    {
      "cell_type": "markdown",
      "metadata": {
        "id": "tSdGTs4i_Xdh"
      },
      "source": [
        "## Consultas"
      ]
    },
    {
      "cell_type": "markdown",
      "metadata": {
        "id": "P67wDHGV_YfT"
      },
      "source": [
        "Quantas observações e quantas colunas há no dataset? \n",
        "Formato de uma tupla (n_obs, n_colun)"
      ]
    },
    {
      "cell_type": "code",
      "metadata": {
        "id": "K_YL6eQT_iX5",
        "colab": {
          "base_uri": "https://localhost:8080/"
        },
        "outputId": "3ec7a35c-0afe-42d1-a265-ada25bb51a1b"
      },
      "source": [
        "print(df.shape)"
      ],
      "execution_count": 184,
      "outputs": [
        {
          "output_type": "stream",
          "text": [
            "(15, 7)\n"
          ],
          "name": "stdout"
        }
      ]
    },
    {
      "cell_type": "markdown",
      "metadata": {
        "id": "GISIGjTv_nLy"
      },
      "source": [
        "Mulheres com idade entre 15 e 25 anos no dataset?"
      ]
    },
    {
      "cell_type": "code",
      "metadata": {
        "id": "iNtNrkFI_qy_",
        "colab": {
          "base_uri": "https://localhost:8080/"
        },
        "outputId": "85547a65-3698-4429-e117-6f28342ccae4"
      },
      "source": [
        "print(df.query(\"genero == 'F' & idade > 15 & idade < 25\").shape[0])"
      ],
      "execution_count": 185,
      "outputs": [
        {
          "output_type": "stream",
          "text": [
            "4\n"
          ],
          "name": "stdout"
        }
      ]
    },
    {
      "cell_type": "markdown",
      "metadata": {
        "id": "mheSuKdXHsOP"
      },
      "source": [
        "Quantas pessoas únicas há no dataset?"
      ]
    },
    {
      "cell_type": "code",
      "metadata": {
        "id": "0OyL3R5THuu8",
        "colab": {
          "base_uri": "https://localhost:8080/"
        },
        "outputId": "6ec69892-7b60-4f6e-ff58-fcbe9e88c473"
      },
      "source": [
        "print(len(df['id'].unique()))"
      ],
      "execution_count": 186,
      "outputs": [
        {
          "output_type": "stream",
          "text": [
            "15\n"
          ],
          "name": "stdout"
        }
      ]
    },
    {
      "cell_type": "markdown",
      "metadata": {
        "id": "_X9Vp6icH6xF"
      },
      "source": [
        "Quantos tipos de dados diferentes existem no dataset?"
      ]
    },
    {
      "cell_type": "code",
      "metadata": {
        "id": "bdu8w7X1H7Wu",
        "colab": {
          "base_uri": "https://localhost:8080/"
        },
        "outputId": "6d2e59d6-7d1e-4265-9c82-3fce8e691278"
      },
      "source": [
        "print(len(df.dtypes.unique()))"
      ],
      "execution_count": 187,
      "outputs": [
        {
          "output_type": "stream",
          "text": [
            "3\n"
          ],
          "name": "stdout"
        }
      ]
    },
    {
      "cell_type": "markdown",
      "metadata": {
        "id": "_Zanpwq_IFEE"
      },
      "source": [
        "Qual porcentagem dos registros possui ao menos um valor null (None, ǸaN etc)? Responda como um único escalar entre 0 e 1."
      ]
    },
    {
      "cell_type": "code",
      "metadata": {
        "id": "IEQRy2VsIFuH",
        "colab": {
          "base_uri": "https://localhost:8080/"
        },
        "outputId": "ca21bdcb-d3a8-4028-b630-78d2327729a3"
      },
      "source": [
        "print(df.isnull().sum().max() / df.shape[0])"
      ],
      "execution_count": 188,
      "outputs": [
        {
          "output_type": "stream",
          "text": [
            "0.0\n"
          ],
          "name": "stdout"
        }
      ]
    },
    {
      "cell_type": "markdown",
      "metadata": {
        "id": "tdP7_4KSI6bY"
      },
      "source": [
        "Qual o valor mais frequente (sem contar nulls) em idade? "
      ]
    },
    {
      "cell_type": "code",
      "metadata": {
        "id": "G1UNpBCqIzsv",
        "colab": {
          "base_uri": "https://localhost:8080/"
        },
        "outputId": "c935b3d9-2cd3-4e3c-ccb5-a4e6cb88ebc2"
      },
      "source": [
        "print(df['idade'].mode().values[0])"
      ],
      "execution_count": 189,
      "outputs": [
        {
          "output_type": "stream",
          "text": [
            "25\n"
          ],
          "name": "stdout"
        }
      ]
    },
    {
      "cell_type": "markdown",
      "metadata": {
        "id": "9taTvgWuI_Tu"
      },
      "source": [
        "Qual a maior idade de pessoa?"
      ]
    },
    {
      "cell_type": "code",
      "metadata": {
        "id": "NwcyGYBRI_ga",
        "colab": {
          "base_uri": "https://localhost:8080/"
        },
        "outputId": "f09b5491-2eff-4507-de44-dfcd5e5d255e"
      },
      "source": [
        "print(df['idade'].max())"
      ],
      "execution_count": 190,
      "outputs": [
        {
          "output_type": "stream",
          "text": [
            "51\n"
          ],
          "name": "stdout"
        }
      ]
    },
    {
      "cell_type": "markdown",
      "metadata": {
        "id": "2YNpelUcJMpz"
      },
      "source": [
        "Qual a menor idade de pessoa?"
      ]
    },
    {
      "cell_type": "code",
      "metadata": {
        "id": "0T2vSf3WJPna",
        "colab": {
          "base_uri": "https://localhost:8080/"
        },
        "outputId": "5d0434d3-5b85-4fd8-ab5c-62e8d2783140"
      },
      "source": [
        "print(df['idade'].min())"
      ],
      "execution_count": 191,
      "outputs": [
        {
          "output_type": "stream",
          "text": [
            "12\n"
          ],
          "name": "stdout"
        }
      ]
    },
    {
      "cell_type": "markdown",
      "metadata": {
        "id": "LxxYKFBNJSzM"
      },
      "source": [
        "Qual a soma dos salários pessoa?"
      ]
    },
    {
      "cell_type": "code",
      "metadata": {
        "id": "yP64EU_cJSzN",
        "colab": {
          "base_uri": "https://localhost:8080/"
        },
        "outputId": "ec2e230f-10f7-4f15-a023-2f75c99d00fa"
      },
      "source": [
        "print(df['salario'].sum())"
      ],
      "execution_count": 192,
      "outputs": [
        {
          "output_type": "stream",
          "text": [
            "142.79999999999998\n"
          ],
          "name": "stdout"
        }
      ]
    }
  ]
}