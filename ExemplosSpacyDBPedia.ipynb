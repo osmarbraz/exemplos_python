{
  "nbformat": 4,
  "nbformat_minor": 0,
  "metadata": {
    "colab": {
      "name": "ExemplosSpacyDBPedia.ipynb",
      "provenance": [],
      "collapsed_sections": [],
      "toc_visible": true,
      "authorship_tag": "ABX9TyM/foGhbZyGibQqL/QKgwb7",
      "include_colab_link": true
    },
    "kernelspec": {
      "name": "python3",
      "display_name": "Python 3"
    }
  },
  "cells": [
    {
      "cell_type": "markdown",
      "metadata": {
        "id": "view-in-github",
        "colab_type": "text"
      },
      "source": [
        "<a href=\"https://colab.research.google.com/github/osmarbraz/exemplos_python/blob/master/ExemplosSpacyDBPedia.ipynb\" target=\"_parent\"><img src=\"https://colab.research.google.com/assets/colab-badge.svg\" alt=\"Open In Colab\"/></a>"
      ]
    },
    {
      "cell_type": "markdown",
      "metadata": {
        "id": "hgLBRxBgun0C"
      },
      "source": [
        "# Exemplos de Reconhecimento Entidades com sPacyDBPedia\n",
        "\n",
        "https://pypi.org/project/spacy-dbpedia-spotlight/\n",
        "\n",
        "-----------------------------------------\n",
        "**Guia Colab Iniciante:**\n",
        "\n",
        "https://medium.com/machina-sapiens/google-colab-guia-do-iniciante-334d70aad531\n",
        "\n",
        "**Biblioteca:**\n",
        "https://colab.research.google.com/github/jakevdp/PythonDataScienceHandbook/blob/master/notebooks/01.01-Help-And-Documentation.ipynb\n",
        "\n",
        "**Características :**\n",
        "\n",
        "https://colab.research.google.com/notebooks/basic_features_overview.ipynb"
      ]
    },
    {
      "cell_type": "markdown",
      "metadata": {
        "id": "iAPVtRXQqDim"
      },
      "source": [
        "## Tratamento de logs"
      ]
    },
    {
      "cell_type": "code",
      "metadata": {
        "id": "DcopxbGZqDip"
      },
      "source": [
        "# Import das bibliotecas.\n",
        "import logging # Biblioteca de logging\n",
        "\n",
        "# Formatando a mensagem de logging\n",
        "logging.basicConfig(format=\"%(asctime)s : %(levelname)s : %(message)s\", level=logging.INFO)"
      ],
      "execution_count": 1,
      "outputs": []
    },
    {
      "cell_type": "markdown",
      "metadata": {
        "id": "oOd2MbBiDq93"
      },
      "source": [
        "## Instalação do spaCy\n",
        "\n",
        "https://spacy.io/\n",
        "\n",
        "Modelos do spaCy para português:\n",
        "https://spacy.io/models/pt"
      ]
    },
    {
      "cell_type": "code",
      "metadata": {
        "colab": {
          "base_uri": "https://localhost:8080/"
        },
        "id": "EaMM4WdxgvQ7",
        "outputId": "b7d754cc-d4b7-465f-c000-db08ab0dd16c"
      },
      "source": [
        "# Instala o spacy\n",
        "!pip install -U pip setuptools wheel"
      ],
      "execution_count": 2,
      "outputs": [
        {
          "output_type": "stream",
          "name": "stdout",
          "text": [
            "Looking in indexes: https://pypi.org/simple, https://us-python.pkg.dev/colab-wheels/public/simple/\n",
            "Requirement already satisfied: pip in /usr/local/lib/python3.7/dist-packages (22.2.2)\n",
            "Requirement already satisfied: setuptools in /usr/local/lib/python3.7/dist-packages (64.0.3)\n",
            "Requirement already satisfied: wheel in /usr/local/lib/python3.7/dist-packages (0.37.1)\n",
            "\u001b[33mWARNING: Running pip as the 'root' user can result in broken permissions and conflicting behaviour with the system package manager. It is recommended to use a virtual environment instead: https://pip.pypa.io/warnings/venv\u001b[0m\u001b[33m\n",
            "\u001b[0m"
          ]
        }
      ]
    },
    {
      "cell_type": "code",
      "source": [
        "# Instala uma versão específica\n",
        "!pip install -U spacy==3.2.0"
      ],
      "metadata": {
        "colab": {
          "base_uri": "https://localhost:8080/"
        },
        "id": "TxjH81qA6tTi",
        "outputId": "2b74d424-ffd7-4a9b-e2bf-730780362458"
      },
      "execution_count": 3,
      "outputs": [
        {
          "output_type": "stream",
          "name": "stdout",
          "text": [
            "Looking in indexes: https://pypi.org/simple, https://us-python.pkg.dev/colab-wheels/public/simple/\n",
            "Requirement already satisfied: spacy==3.2.0 in /usr/local/lib/python3.7/dist-packages (3.2.0)\n",
            "Requirement already satisfied: wasabi<1.1.0,>=0.8.1 in /usr/local/lib/python3.7/dist-packages (from spacy==3.2.0) (0.10.1)\n",
            "Requirement already satisfied: requests<3.0.0,>=2.13.0 in /usr/local/lib/python3.7/dist-packages (from spacy==3.2.0) (2.23.0)\n",
            "Requirement already satisfied: cymem<2.1.0,>=2.0.2 in /usr/local/lib/python3.7/dist-packages (from spacy==3.2.0) (2.0.6)\n",
            "Requirement already satisfied: pydantic!=1.8,!=1.8.1,<1.9.0,>=1.7.4 in /usr/local/lib/python3.7/dist-packages (from spacy==3.2.0) (1.8.2)\n",
            "Requirement already satisfied: pathy>=0.3.5 in /usr/local/lib/python3.7/dist-packages (from spacy==3.2.0) (0.6.2)\n",
            "Requirement already satisfied: jinja2 in /usr/local/lib/python3.7/dist-packages (from spacy==3.2.0) (2.11.3)\n",
            "Requirement already satisfied: typing-extensions<4.0.0.0,>=3.7.4 in /usr/local/lib/python3.7/dist-packages (from spacy==3.2.0) (3.10.0.2)\n",
            "Requirement already satisfied: blis<0.8.0,>=0.4.0 in /usr/local/lib/python3.7/dist-packages (from spacy==3.2.0) (0.7.8)\n",
            "Requirement already satisfied: preshed<3.1.0,>=3.0.2 in /usr/local/lib/python3.7/dist-packages (from spacy==3.2.0) (3.0.6)\n",
            "Requirement already satisfied: typer<0.5.0,>=0.3.0 in /usr/local/lib/python3.7/dist-packages (from spacy==3.2.0) (0.4.2)\n",
            "Requirement already satisfied: langcodes<4.0.0,>=3.2.0 in /usr/local/lib/python3.7/dist-packages (from spacy==3.2.0) (3.3.0)\n",
            "Requirement already satisfied: catalogue<2.1.0,>=2.0.6 in /usr/local/lib/python3.7/dist-packages (from spacy==3.2.0) (2.0.8)\n",
            "Requirement already satisfied: srsly<3.0.0,>=2.4.1 in /usr/local/lib/python3.7/dist-packages (from spacy==3.2.0) (2.4.4)\n",
            "Requirement already satisfied: setuptools in /usr/local/lib/python3.7/dist-packages (from spacy==3.2.0) (64.0.3)\n",
            "Requirement already satisfied: spacy-loggers<2.0.0,>=1.0.0 in /usr/local/lib/python3.7/dist-packages (from spacy==3.2.0) (1.0.3)\n",
            "Requirement already satisfied: numpy>=1.15.0 in /usr/local/lib/python3.7/dist-packages (from spacy==3.2.0) (1.21.6)\n",
            "Requirement already satisfied: murmurhash<1.1.0,>=0.28.0 in /usr/local/lib/python3.7/dist-packages (from spacy==3.2.0) (1.0.7)\n",
            "Requirement already satisfied: spacy-legacy<3.1.0,>=3.0.8 in /usr/local/lib/python3.7/dist-packages (from spacy==3.2.0) (3.0.9)\n",
            "Requirement already satisfied: thinc<8.1.0,>=8.0.12 in /usr/local/lib/python3.7/dist-packages (from spacy==3.2.0) (8.0.17)\n",
            "Requirement already satisfied: packaging>=20.0 in /usr/local/lib/python3.7/dist-packages (from spacy==3.2.0) (21.3)\n",
            "Requirement already satisfied: tqdm<5.0.0,>=4.38.0 in /usr/local/lib/python3.7/dist-packages (from spacy==3.2.0) (4.64.0)\n",
            "Requirement already satisfied: zipp>=0.5 in /usr/local/lib/python3.7/dist-packages (from catalogue<2.1.0,>=2.0.6->spacy==3.2.0) (3.8.1)\n",
            "Requirement already satisfied: pyparsing!=3.0.5,>=2.0.2 in /usr/local/lib/python3.7/dist-packages (from packaging>=20.0->spacy==3.2.0) (3.0.9)\n",
            "Requirement already satisfied: smart-open<6.0.0,>=5.2.1 in /usr/local/lib/python3.7/dist-packages (from pathy>=0.3.5->spacy==3.2.0) (5.2.1)\n",
            "Requirement already satisfied: urllib3!=1.25.0,!=1.25.1,<1.26,>=1.21.1 in /usr/local/lib/python3.7/dist-packages (from requests<3.0.0,>=2.13.0->spacy==3.2.0) (1.24.3)\n",
            "Requirement already satisfied: chardet<4,>=3.0.2 in /usr/local/lib/python3.7/dist-packages (from requests<3.0.0,>=2.13.0->spacy==3.2.0) (3.0.4)\n",
            "Requirement already satisfied: certifi>=2017.4.17 in /usr/local/lib/python3.7/dist-packages (from requests<3.0.0,>=2.13.0->spacy==3.2.0) (2022.6.15)\n",
            "Requirement already satisfied: idna<3,>=2.5 in /usr/local/lib/python3.7/dist-packages (from requests<3.0.0,>=2.13.0->spacy==3.2.0) (2.10)\n",
            "Requirement already satisfied: click<9.0.0,>=7.1.1 in /usr/local/lib/python3.7/dist-packages (from typer<0.5.0,>=0.3.0->spacy==3.2.0) (7.1.2)\n",
            "Requirement already satisfied: MarkupSafe>=0.23 in /usr/local/lib/python3.7/dist-packages (from jinja2->spacy==3.2.0) (2.0.1)\n",
            "\u001b[33mWARNING: Running pip as the 'root' user can result in broken permissions and conflicting behaviour with the system package manager. It is recommended to use a virtual environment instead: https://pip.pypa.io/warnings/venv\u001b[0m\u001b[33m\n",
            "\u001b[0m"
          ]
        }
      ]
    },
    {
      "cell_type": "markdown",
      "metadata": {
        "id": "35GwcgkOlWi3"
      },
      "source": [
        "## Download arquivo modelo\n",
        "\n",
        "https://spacy.io/models/pt"
      ]
    },
    {
      "cell_type": "markdown",
      "source": [
        "Realiza o download e um arquivo"
      ],
      "metadata": {
        "id": "yDCOeh2y5jOH"
      }
    },
    {
      "cell_type": "code",
      "source": [
        "# Import das bibliotecas.\n",
        "import requests # Biblioteca de download\n",
        "from tqdm.notebook import tqdm as tqdm_notebook # Biblioteca para barra de progresso\n",
        "import os # Biblioteca para manipular arquivos\n",
        "\n",
        "def downloadArquivo(url_arquivo, nome_arquivo_destino):\n",
        "    \"\"\"    \n",
        "      Realiza o download de um arquivo de uma url em salva em nome_arquivo_destino.\n",
        "    \n",
        "      Parâmetros:\n",
        "        `url_arquivo` - URL do arquivo a ser feito download.      \n",
        "        `nome_arquivo_destino` - Nome do arquivo a ser salvo.      \n",
        "    \"\"\"\n",
        "    \n",
        "    # Verifica se existe o diretório base\n",
        "    DIRETORIO_COHEBERT = '/content'\n",
        "    \n",
        "    # Realiza o download de um arquivo em uma url\n",
        "    data = requests.get(url_arquivo, stream=True)\n",
        "    \n",
        "    # Verifica se o arquivo existe\n",
        "    if data.status_code != 200:\n",
        "        logging.info(\"Exceção ao tentar realizar download {}. Response {}.\".format(url_arquivo, data.status_code))\n",
        "        data.raise_for_status()\n",
        "        return\n",
        "\n",
        "    # Recupera o nome do arquivo a ser realizado o download    \n",
        "    nome_arquivo = nome_arquivo_destino.split(\"/\")[-1]  \n",
        "\n",
        "    # Define o nome e caminho do arquivo temporário    \n",
        "    nome_arquivo_temporario = DIRETORIO_COHEBERT + \"/\" + nome_arquivo + \"_part\"\n",
        "    \n",
        "    logging.info(\"Download do arquivo: {}.\".format(nome_arquivo_destino))\n",
        "    \n",
        "    # Baixa o arquivo\n",
        "    with open(nome_arquivo_temporario, \"wb\") as arquivo_binario:        \n",
        "        tamanho_conteudo = data.headers.get(\"Content-Length\")        \n",
        "        total = int(tamanho_conteudo) if tamanho_conteudo is not None else None\n",
        "        # Barra de progresso de download\n",
        "        progresso_bar = tqdm_notebook(unit=\"B\", total=total, unit_scale=True)                \n",
        "        # Atualiza a barra de progresso\n",
        "        for chunk in data.iter_content(chunk_size=1024):        \n",
        "            if chunk:                \n",
        "                progresso_bar.update(len(chunk))\n",
        "                arquivo_binario.write(chunk)\n",
        "    \n",
        "    # Renomeia o arquivo temporário para o arquivo definitivo\n",
        "    os.rename(nome_arquivo_temporario, nome_arquivo_destino)\n",
        "    \n",
        "    # Fecha a barra de progresso.\n",
        "    progresso_bar.close()"
      ],
      "metadata": {
        "id": "5B1mvfAU5jZf"
      },
      "execution_count": 4,
      "outputs": []
    },
    {
      "cell_type": "markdown",
      "source": [
        "### Função download modelo spaCy"
      ],
      "metadata": {
        "id": "PWd_9X0nOYnF"
      }
    },
    {
      "cell_type": "code",
      "source": [
        "def downloadSpacy(modelo_spacy,versao_modelo_spacy):\n",
        "    \"\"\"\n",
        "      Realiza o download do arquivo do modelo para o diretório corrente.\n",
        "    \n",
        "      Parâmetros:\n",
        "        `modelo_spacy` - Modelo do space.\n",
        "        `versao_modelo_spacy` - Versão do modelo do space.       \n",
        "    \"\"\"\n",
        "    # Verifica se existe o diretório base\n",
        "    DIRETORIO_COHEBERT = '/content'\n",
        "        \n",
        "    # Nome arquivo spacy\n",
        "    ARQUIVO_MODELO_SPACY = modelo_spacy\n",
        "    # Versão spaCy\n",
        "    VERSAO_SPACY = \"-\" + versao_modelo_spacy\n",
        "    # Nome arquivo compactado\n",
        "    NOME_ARQUIVO_MODELO_COMPACTADO = ARQUIVO_MODELO_SPACY + VERSAO_SPACY + \".tar.gz\"\n",
        "    \n",
        "    # Url do arquivo\n",
        "    URL_ARQUIVO_MODELO_COMPACTADO = \"https://github.com/explosion/spacy-models/releases/download/\" + ARQUIVO_MODELO_SPACY + VERSAO_SPACY + \"/\" + NOME_ARQUIVO_MODELO_COMPACTADO\n",
        "\n",
        "    # Realiza o download do arquivo do modelo\n",
        "    logging.info(\"Download do arquivo do modelo do spaCy.\")\n",
        "    downloadArquivo(URL_ARQUIVO_MODELO_COMPACTADO, DIRETORIO_COHEBERT + \"/\" + NOME_ARQUIVO_MODELO_COMPACTADO)"
      ],
      "metadata": {
        "id": "DjWGu-9D5URZ"
      },
      "execution_count": 5,
      "outputs": []
    },
    {
      "cell_type": "markdown",
      "metadata": {
        "id": "Uu_LkF7Nfm8_"
      },
      "source": [
        "## Descompacta o arquivo do modelo"
      ]
    },
    {
      "cell_type": "markdown",
      "source": [
        "### Função descompacta modelo spaCy"
      ],
      "metadata": {
        "id": "XAc1tSwvOc4d"
      }
    },
    {
      "cell_type": "code",
      "source": [
        "# Import das bibliotecas.\n",
        "import tarfile # Biblioteca de descompactação\n",
        "\n",
        "def descompactaSpacy(modelo_spacy, versao_modelo_spacy):\n",
        "    \"\"\"\n",
        "      Descompacta o arquivo do modelo.\n",
        "    \n",
        "      Parâmetros:\n",
        "        `modelo_spacy` - Modelo do space.\n",
        "        `versao_modelo_spacy` - Versão do modelo do space.\n",
        "    \"\"\"\n",
        "    \n",
        "    # Verifica se existe o diretório base do cohebert e retorna o nome do diretório\n",
        "    DIRETORIO_COHEBERT = '/content'\n",
        "    \n",
        "    # Nome arquivo spacy\n",
        "    ARQUIVO_MODELO_SPACY = modelo_spacy\n",
        "    # Versão spaCy\n",
        "    VERSAO_SPACY = \"-\" + versao_modelo_spacy\n",
        "    \n",
        "    # Nome do arquivo a ser descompactado\n",
        "    NOME_ARQUIVO_MODELO_COMPACTADO = DIRETORIO_COHEBERT + \"/\" + ARQUIVO_MODELO_SPACY + VERSAO_SPACY + \".tar.gz\"\n",
        "    \n",
        "    logging.info(\"Descompactando o arquivo do modelo do spaCy.\")\n",
        "    arquivo_tar = tarfile.open(NOME_ARQUIVO_MODELO_COMPACTADO, \"r:gz\")    \n",
        "    arquivo_tar.extractall(DIRETORIO_COHEBERT)    \n",
        "    arquivo_tar.close()\n",
        "    \n",
        "    # Apaga o arquivo compactado\n",
        "    if os.path.isfile(NOME_ARQUIVO_MODELO_COMPACTADO):        \n",
        "        os.remove(NOME_ARQUIVO_MODELO_COMPACTADO)"
      ],
      "metadata": {
        "id": "Dq9PnXO77bPQ"
      },
      "execution_count": 6,
      "outputs": []
    },
    {
      "cell_type": "markdown",
      "metadata": {
        "id": "STHT2c89qvwK"
      },
      "source": [
        "## Carrega o modelo"
      ]
    },
    {
      "cell_type": "markdown",
      "source": [
        "### Função carrega modelo spaCy"
      ],
      "metadata": {
        "id": "3iFBoyWMOgKz"
      }
    },
    {
      "cell_type": "code",
      "source": [
        "# Import das bibliotecas.\n",
        "import spacy # Biblioteca do spaCy\n",
        "\n",
        "def carregaSpacy(modelo_spacy, versao_modelo_spacy):\n",
        "    \"\"\"\n",
        "    Realiza o carregamento do Spacy.\n",
        "    \n",
        "    Parâmetros:\n",
        "        `modelo_spacy` - Modelo do space.\n",
        "        `versao_modelo_spacy` - Versão do modelo do space.           \n",
        "    \"\"\"\n",
        "    \n",
        "    # Verifica se existe o diretório base\n",
        "    DIRETORIO_COHEBERT = \"/content\"\n",
        "                  \n",
        "    # Nome arquivo spacy\n",
        "    ARQUIVO_MODELO_SPACY = modelo_spacy\n",
        "    # Versão spaCy\n",
        "    VERSAO_SPACY = \"-\" + versao_modelo_spacy\n",
        "    # Caminho raoz do modelo do spaCy\n",
        "    DIRETORIO_MODELO_SPACY =  DIRETORIO_COHEBERT + \"/\" + ARQUIVO_MODELO_SPACY + VERSAO_SPACY\n",
        "\n",
        "    # Verifica se o diretório existe\n",
        "    if os.path.exists(DIRETORIO_MODELO_SPACY) == False:\n",
        "        # Realiza o download do arquivo modelo do spaCy\n",
        "        downloadSpacy(modelo_spacy, versao_modelo_spacy)\n",
        "        # Descompacta o spaCy\n",
        "        descompactaSpacy(modelo_spacy, versao_modelo_spacy)\n",
        "\n",
        "    # Diretório completo do spaCy\n",
        "    DIRETORIO_MODELO_SPACY = DIRETORIO_COHEBERT + \"/\" + ARQUIVO_MODELO_SPACY + VERSAO_SPACY + \"/\" + ARQUIVO_MODELO_SPACY + \"/\" + ARQUIVO_MODELO_SPACY + VERSAO_SPACY + \"/\"\n",
        "\n",
        "    # Carrega o spaCy. Necessário somente \"tagger\" para encontrar os substantivos\n",
        "    nlp = spacy.load(DIRETORIO_MODELO_SPACY)\n",
        "    logging.info(\"spaCy carregado.\")\n",
        "\n",
        "    # Retorna o spacy carregado\n",
        "    return nlp "
      ],
      "metadata": {
        "id": "ePOccj0s8WMg"
      },
      "execution_count": 7,
      "outputs": []
    },
    {
      "cell_type": "markdown",
      "source": [
        "### Carrega o modelo spaCy\n"
      ],
      "metadata": {
        "id": "cAk5hHx7OnHn"
      }
    },
    {
      "cell_type": "code",
      "metadata": {
        "id": "nbELnrpgA4T1"
      },
      "source": [
        "modelo_spacy = \"pt_core_news_lg\"\n",
        "#modelo_spacy = \"pt_core_news_md\"\n",
        "#modelo_spacy = \"pt_core_news_sm\"\n",
        "versao_modelo_spacy = \"3.2.0\"\n",
        "\n",
        "# Carrega o modelo spaCy\n",
        "nlp1 = carregaSpacy(modelo_spacy, versao_modelo_spacy)"
      ],
      "execution_count": 8,
      "outputs": []
    },
    {
      "cell_type": "markdown",
      "source": [
        "## SpaCy DBpedia Spotlight\n",
        "\n",
        "https://pypi.org/project/spacy-dbpedia-spotlight/"
      ],
      "metadata": {
        "id": "hN2UCgmf3wL6"
      }
    },
    {
      "cell_type": "markdown",
      "metadata": {
        "id": "jAxtSWWsxEHS"
      },
      "source": [
        "## Instalação\n",
        "\n",
        "https://github.com/aghie/pybabelfy"
      ]
    },
    {
      "cell_type": "code",
      "metadata": {
        "id": "l0IeT9U0uvfe",
        "colab": {
          "base_uri": "https://localhost:8080/"
        },
        "outputId": "7c3f76c3-ee6d-4c30-9d48-942e4bde8b0b"
      },
      "source": [
        "!pip install spacy-dbpedia-spotlight"
      ],
      "execution_count": 9,
      "outputs": [
        {
          "output_type": "stream",
          "name": "stdout",
          "text": [
            "Looking in indexes: https://pypi.org/simple, https://us-python.pkg.dev/colab-wheels/public/simple/\n",
            "Requirement already satisfied: spacy-dbpedia-spotlight in /usr/local/lib/python3.7/dist-packages (0.2.2)\n",
            "Requirement already satisfied: loguru in /usr/local/lib/python3.7/dist-packages (from spacy-dbpedia-spotlight) (0.6.0)\n",
            "Requirement already satisfied: spacy>=3 in /usr/local/lib/python3.7/dist-packages (from spacy-dbpedia-spotlight) (3.2.0)\n",
            "Requirement already satisfied: wasabi<1.1.0,>=0.8.1 in /usr/local/lib/python3.7/dist-packages (from spacy>=3->spacy-dbpedia-spotlight) (0.10.1)\n",
            "Requirement already satisfied: pathy>=0.3.5 in /usr/local/lib/python3.7/dist-packages (from spacy>=3->spacy-dbpedia-spotlight) (0.6.2)\n",
            "Requirement already satisfied: numpy>=1.15.0 in /usr/local/lib/python3.7/dist-packages (from spacy>=3->spacy-dbpedia-spotlight) (1.21.6)\n",
            "Requirement already satisfied: thinc<8.1.0,>=8.0.12 in /usr/local/lib/python3.7/dist-packages (from spacy>=3->spacy-dbpedia-spotlight) (8.0.17)\n",
            "Requirement already satisfied: pydantic!=1.8,!=1.8.1,<1.9.0,>=1.7.4 in /usr/local/lib/python3.7/dist-packages (from spacy>=3->spacy-dbpedia-spotlight) (1.8.2)\n",
            "Requirement already satisfied: spacy-loggers<2.0.0,>=1.0.0 in /usr/local/lib/python3.7/dist-packages (from spacy>=3->spacy-dbpedia-spotlight) (1.0.3)\n",
            "Requirement already satisfied: setuptools in /usr/local/lib/python3.7/dist-packages (from spacy>=3->spacy-dbpedia-spotlight) (64.0.3)\n",
            "Requirement already satisfied: srsly<3.0.0,>=2.4.1 in /usr/local/lib/python3.7/dist-packages (from spacy>=3->spacy-dbpedia-spotlight) (2.4.4)\n",
            "Requirement already satisfied: tqdm<5.0.0,>=4.38.0 in /usr/local/lib/python3.7/dist-packages (from spacy>=3->spacy-dbpedia-spotlight) (4.64.0)\n",
            "Requirement already satisfied: jinja2 in /usr/local/lib/python3.7/dist-packages (from spacy>=3->spacy-dbpedia-spotlight) (2.11.3)\n",
            "Requirement already satisfied: cymem<2.1.0,>=2.0.2 in /usr/local/lib/python3.7/dist-packages (from spacy>=3->spacy-dbpedia-spotlight) (2.0.6)\n",
            "Requirement already satisfied: packaging>=20.0 in /usr/local/lib/python3.7/dist-packages (from spacy>=3->spacy-dbpedia-spotlight) (21.3)\n",
            "Requirement already satisfied: preshed<3.1.0,>=3.0.2 in /usr/local/lib/python3.7/dist-packages (from spacy>=3->spacy-dbpedia-spotlight) (3.0.6)\n",
            "Requirement already satisfied: murmurhash<1.1.0,>=0.28.0 in /usr/local/lib/python3.7/dist-packages (from spacy>=3->spacy-dbpedia-spotlight) (1.0.7)\n",
            "Requirement already satisfied: typer<0.5.0,>=0.3.0 in /usr/local/lib/python3.7/dist-packages (from spacy>=3->spacy-dbpedia-spotlight) (0.4.2)\n",
            "Requirement already satisfied: blis<0.8.0,>=0.4.0 in /usr/local/lib/python3.7/dist-packages (from spacy>=3->spacy-dbpedia-spotlight) (0.7.8)\n",
            "Requirement already satisfied: requests<3.0.0,>=2.13.0 in /usr/local/lib/python3.7/dist-packages (from spacy>=3->spacy-dbpedia-spotlight) (2.23.0)\n",
            "Requirement already satisfied: typing-extensions<4.0.0.0,>=3.7.4 in /usr/local/lib/python3.7/dist-packages (from spacy>=3->spacy-dbpedia-spotlight) (3.10.0.2)\n",
            "Requirement already satisfied: catalogue<2.1.0,>=2.0.6 in /usr/local/lib/python3.7/dist-packages (from spacy>=3->spacy-dbpedia-spotlight) (2.0.8)\n",
            "Requirement already satisfied: spacy-legacy<3.1.0,>=3.0.8 in /usr/local/lib/python3.7/dist-packages (from spacy>=3->spacy-dbpedia-spotlight) (3.0.9)\n",
            "Requirement already satisfied: langcodes<4.0.0,>=3.2.0 in /usr/local/lib/python3.7/dist-packages (from spacy>=3->spacy-dbpedia-spotlight) (3.3.0)\n",
            "Requirement already satisfied: zipp>=0.5 in /usr/local/lib/python3.7/dist-packages (from catalogue<2.1.0,>=2.0.6->spacy>=3->spacy-dbpedia-spotlight) (3.8.1)\n",
            "Requirement already satisfied: pyparsing!=3.0.5,>=2.0.2 in /usr/local/lib/python3.7/dist-packages (from packaging>=20.0->spacy>=3->spacy-dbpedia-spotlight) (3.0.9)\n",
            "Requirement already satisfied: smart-open<6.0.0,>=5.2.1 in /usr/local/lib/python3.7/dist-packages (from pathy>=0.3.5->spacy>=3->spacy-dbpedia-spotlight) (5.2.1)\n",
            "Requirement already satisfied: urllib3!=1.25.0,!=1.25.1,<1.26,>=1.21.1 in /usr/local/lib/python3.7/dist-packages (from requests<3.0.0,>=2.13.0->spacy>=3->spacy-dbpedia-spotlight) (1.24.3)\n",
            "Requirement already satisfied: idna<3,>=2.5 in /usr/local/lib/python3.7/dist-packages (from requests<3.0.0,>=2.13.0->spacy>=3->spacy-dbpedia-spotlight) (2.10)\n",
            "Requirement already satisfied: chardet<4,>=3.0.2 in /usr/local/lib/python3.7/dist-packages (from requests<3.0.0,>=2.13.0->spacy>=3->spacy-dbpedia-spotlight) (3.0.4)\n",
            "Requirement already satisfied: certifi>=2017.4.17 in /usr/local/lib/python3.7/dist-packages (from requests<3.0.0,>=2.13.0->spacy>=3->spacy-dbpedia-spotlight) (2022.6.15)\n",
            "Requirement already satisfied: click<9.0.0,>=7.1.1 in /usr/local/lib/python3.7/dist-packages (from typer<0.5.0,>=0.3.0->spacy>=3->spacy-dbpedia-spotlight) (7.1.2)\n",
            "Requirement already satisfied: MarkupSafe>=0.23 in /usr/local/lib/python3.7/dist-packages (from jinja2->spacy>=3->spacy-dbpedia-spotlight) (2.0.1)\n",
            "\u001b[33mWARNING: Running pip as the 'root' user can result in broken permissions and conflicting behaviour with the system package manager. It is recommended to use a virtual environment instead: https://pip.pypa.io/warnings/venv\u001b[0m\u001b[33m\n",
            "\u001b[0m"
          ]
        }
      ]
    },
    {
      "cell_type": "markdown",
      "source": [
        "## Exemplos"
      ],
      "metadata": {
        "id": "2x1vNfSN4WbU"
      }
    },
    {
      "cell_type": "markdown",
      "source": [
        "### Adicionando a um modelo spaCy já carregado"
      ],
      "metadata": {
        "id": "hTpSraTYzwGo"
      }
    },
    {
      "cell_type": "code",
      "source": [
        "import spacy\n",
        "\n",
        "\n",
        "nlp1.add_pipe('dbpedia_spotlight')\n",
        "\n",
        "print(nlp1.pipe_names)"
      ],
      "metadata": {
        "colab": {
          "base_uri": "https://localhost:8080/"
        },
        "id": "r8um6F7INrvY",
        "outputId": "2683af5b-2226-44bd-dbeb-438821bd74c3"
      },
      "execution_count": 10,
      "outputs": [
        {
          "output_type": "stream",
          "name": "stdout",
          "text": [
            "['tok2vec', 'morphologizer', 'parser', 'attribute_ruler', 'lemmatizer', 'ner', 'dbpedia_spotlight']\n"
          ]
        }
      ]
    },
    {
      "cell_type": "code",
      "source": [
        "texto = \"Como empilhar e desempilhar elementos em uma estrutura de dados pilha ?\"\n",
        "\n",
        "doc = nlp1(texto)\n",
        "\n",
        "for ent in doc.ents:\n",
        "  print(ent.text, ent.kb_id_, ent._.dbpedia_raw_result)\n"
      ],
      "metadata": {
        "colab": {
          "base_uri": "https://localhost:8080/"
        },
        "id": "_59U3sUEN6fC",
        "outputId": "d1208598-d6c5-4935-84d9-fc19fcab6e70"
      },
      "execution_count": 11,
      "outputs": [
        {
          "output_type": "stream",
          "name": "stdout",
          "text": [
            "estrutura de dados http://pt.dbpedia.org/resource/Estrutura_de_dados {'@URI': 'http://pt.dbpedia.org/resource/Estrutura_de_dados', '@support': '194', '@types': '', '@surfaceForm': 'estrutura de dados', '@offset': '45', '@similarityScore': '0.9999999992349871', '@percentageOfSecondRank': '7.650195037466937E-10'}\n"
          ]
        }
      ]
    },
    {
      "cell_type": "markdown",
      "source": [
        "### Carregando um modelo em branco"
      ],
      "metadata": {
        "id": "H_LxCeDaOJ__"
      }
    },
    {
      "cell_type": "code",
      "source": [
        "import spacy_dbpedia_spotlight\n",
        "\n",
        "nlp = spacy_dbpedia_spotlight.create('pt')\n",
        "\n",
        "texto = \"Como empilhar e desempilhar elementos em uma estrutura de dados pilha ?\"\n",
        "\n",
        "doc = nlp(texto)\n",
        "\n",
        "for ent in doc.ents:\n",
        "  print(ent.text, ent.kb_id_, ent._.dbpedia_raw_result)"
      ],
      "metadata": {
        "id": "_HZ272-b4ZvO",
        "colab": {
          "base_uri": "https://localhost:8080/"
        },
        "outputId": "aa23991d-8b4c-4722-f155-b3660b3d02e3"
      },
      "execution_count": 12,
      "outputs": [
        {
          "output_type": "stream",
          "name": "stdout",
          "text": [
            "estrutura de dados http://pt.dbpedia.org/resource/Estrutura_de_dados {'@URI': 'http://pt.dbpedia.org/resource/Estrutura_de_dados', '@support': '194', '@types': '', '@surfaceForm': 'estrutura de dados', '@offset': '45', '@similarityScore': '0.9999999992349871', '@percentageOfSecondRank': '7.650195037466937E-10'}\n"
          ]
        }
      ]
    },
    {
      "cell_type": "code",
      "source": [
        "# Somente organizações\n",
        "nlp.get_pipe('dbpedia_spotlight').types = 'DBpedia:Organisation'\n",
        "\n",
        "# Recria o documento\n",
        "doc = nlp(texto)\n",
        "\n",
        "# Mostra a saída\n",
        "print([(ent.text, ent.kb_id_, ent._.dbpedia_raw_result['@similarityScore']) for ent in doc.ents])"
      ],
      "metadata": {
        "colab": {
          "base_uri": "https://localhost:8080/"
        },
        "id": "FHiCQsgEPZ40",
        "outputId": "279b03f0-ff58-4fed-8ba9-d4c04ea8eb81"
      },
      "execution_count": 13,
      "outputs": [
        {
          "output_type": "stream",
          "name": "stdout",
          "text": [
            "[]\n"
          ]
        }
      ]
    },
    {
      "cell_type": "code",
      "source": [
        "# Agora tudo junto\n",
        "nlp.get_pipe('dbpedia_spotlight').types = None\n",
        "\n",
        "# Recria o documento\n",
        "doc = nlp(texto)\n",
        "\n",
        "# Mostar a saída\n",
        "print([(ent.text, ent.kb_id_, ent._.dbpedia_raw_result['@similarityScore']) for ent in doc.ents])"
      ],
      "metadata": {
        "colab": {
          "base_uri": "https://localhost:8080/"
        },
        "id": "oD-Mm6VyPdy7",
        "outputId": "93d06938-7349-41e9-f031-16bfc2805985"
      },
      "execution_count": 14,
      "outputs": [
        {
          "output_type": "stream",
          "name": "stdout",
          "text": [
            "[('estrutura de dados', 'http://pt.dbpedia.org/resource/Estrutura_de_dados', '0.9999999992349871')]\n"
          ]
        }
      ]
    }
  ]
}