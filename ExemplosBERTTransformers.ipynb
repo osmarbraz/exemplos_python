{
  "nbformat": 4,
  "nbformat_minor": 0,
  "metadata": {
    "colab": {
      "name": "ExemplosBERTTransformers.ipynb",
      "provenance": [],
      "collapsed_sections": [],
      "toc_visible": true,
      "authorship_tag": "ABX9TyNe91J21vDqfgneSAolu/bB",
      "include_colab_link": true
    },
    "kernelspec": {
      "name": "python3",
      "display_name": "Python 3"
    },
    "widgets": {
      "application/vnd.jupyter.widget-state+json": {
        "5bdd612460a64ba2ae8f528f7aa0acc5": {
          "model_module": "@jupyter-widgets/controls",
          "model_name": "HBoxModel",
          "state": {
            "_view_name": "HBoxView",
            "_dom_classes": [],
            "_model_name": "HBoxModel",
            "_view_module": "@jupyter-widgets/controls",
            "_model_module_version": "1.5.0",
            "_view_count": null,
            "_view_module_version": "1.5.0",
            "box_style": "",
            "layout": "IPY_MODEL_e45ec1b0d2564491b8c39699a43a9fb6",
            "_model_module": "@jupyter-widgets/controls",
            "children": [
              "IPY_MODEL_d58bb2f4918d4e1fbdc3da828f77d617",
              "IPY_MODEL_4b045a6b3ca347e7b1279d5920bdedd4"
            ]
          }
        },
        "e45ec1b0d2564491b8c39699a43a9fb6": {
          "model_module": "@jupyter-widgets/base",
          "model_name": "LayoutModel",
          "state": {
            "_view_name": "LayoutView",
            "grid_template_rows": null,
            "right": null,
            "justify_content": null,
            "_view_module": "@jupyter-widgets/base",
            "overflow": null,
            "_model_module_version": "1.2.0",
            "_view_count": null,
            "flex_flow": null,
            "width": null,
            "min_width": null,
            "border": null,
            "align_items": null,
            "bottom": null,
            "_model_module": "@jupyter-widgets/base",
            "top": null,
            "grid_column": null,
            "overflow_y": null,
            "overflow_x": null,
            "grid_auto_flow": null,
            "grid_area": null,
            "grid_template_columns": null,
            "flex": null,
            "_model_name": "LayoutModel",
            "justify_items": null,
            "grid_row": null,
            "max_height": null,
            "align_content": null,
            "visibility": null,
            "align_self": null,
            "height": null,
            "min_height": null,
            "padding": null,
            "grid_auto_rows": null,
            "grid_gap": null,
            "max_width": null,
            "order": null,
            "_view_module_version": "1.2.0",
            "grid_template_areas": null,
            "object_position": null,
            "object_fit": null,
            "grid_auto_columns": null,
            "margin": null,
            "display": null,
            "left": null
          }
        },
        "d58bb2f4918d4e1fbdc3da828f77d617": {
          "model_module": "@jupyter-widgets/controls",
          "model_name": "FloatProgressModel",
          "state": {
            "_view_name": "ProgressView",
            "style": "IPY_MODEL_0835c8d754094c0e9f125a57974b3d49",
            "_dom_classes": [],
            "description": "Downloading: 100%",
            "_model_name": "FloatProgressModel",
            "bar_style": "success",
            "max": 647,
            "_view_module": "@jupyter-widgets/controls",
            "_model_module_version": "1.5.0",
            "value": 647,
            "_view_count": null,
            "_view_module_version": "1.5.0",
            "orientation": "horizontal",
            "min": 0,
            "description_tooltip": null,
            "_model_module": "@jupyter-widgets/controls",
            "layout": "IPY_MODEL_c18a3753278a44bdab2037c65e152ac0"
          }
        },
        "4b045a6b3ca347e7b1279d5920bdedd4": {
          "model_module": "@jupyter-widgets/controls",
          "model_name": "HTMLModel",
          "state": {
            "_view_name": "HTMLView",
            "style": "IPY_MODEL_197560874a09406ebccd84a076699830",
            "_dom_classes": [],
            "description": "",
            "_model_name": "HTMLModel",
            "placeholder": "​",
            "_view_module": "@jupyter-widgets/controls",
            "_model_module_version": "1.5.0",
            "value": " 647/647 [00:01&lt;00:00, 379B/s]",
            "_view_count": null,
            "_view_module_version": "1.5.0",
            "description_tooltip": null,
            "_model_module": "@jupyter-widgets/controls",
            "layout": "IPY_MODEL_7a9f0fea9d5d4ec8a75cc54544faa033"
          }
        },
        "0835c8d754094c0e9f125a57974b3d49": {
          "model_module": "@jupyter-widgets/controls",
          "model_name": "ProgressStyleModel",
          "state": {
            "_view_name": "StyleView",
            "_model_name": "ProgressStyleModel",
            "description_width": "initial",
            "_view_module": "@jupyter-widgets/base",
            "_model_module_version": "1.5.0",
            "_view_count": null,
            "_view_module_version": "1.2.0",
            "bar_color": null,
            "_model_module": "@jupyter-widgets/controls"
          }
        },
        "c18a3753278a44bdab2037c65e152ac0": {
          "model_module": "@jupyter-widgets/base",
          "model_name": "LayoutModel",
          "state": {
            "_view_name": "LayoutView",
            "grid_template_rows": null,
            "right": null,
            "justify_content": null,
            "_view_module": "@jupyter-widgets/base",
            "overflow": null,
            "_model_module_version": "1.2.0",
            "_view_count": null,
            "flex_flow": null,
            "width": null,
            "min_width": null,
            "border": null,
            "align_items": null,
            "bottom": null,
            "_model_module": "@jupyter-widgets/base",
            "top": null,
            "grid_column": null,
            "overflow_y": null,
            "overflow_x": null,
            "grid_auto_flow": null,
            "grid_area": null,
            "grid_template_columns": null,
            "flex": null,
            "_model_name": "LayoutModel",
            "justify_items": null,
            "grid_row": null,
            "max_height": null,
            "align_content": null,
            "visibility": null,
            "align_self": null,
            "height": null,
            "min_height": null,
            "padding": null,
            "grid_auto_rows": null,
            "grid_gap": null,
            "max_width": null,
            "order": null,
            "_view_module_version": "1.2.0",
            "grid_template_areas": null,
            "object_position": null,
            "object_fit": null,
            "grid_auto_columns": null,
            "margin": null,
            "display": null,
            "left": null
          }
        },
        "197560874a09406ebccd84a076699830": {
          "model_module": "@jupyter-widgets/controls",
          "model_name": "DescriptionStyleModel",
          "state": {
            "_view_name": "StyleView",
            "_model_name": "DescriptionStyleModel",
            "description_width": "",
            "_view_module": "@jupyter-widgets/base",
            "_model_module_version": "1.5.0",
            "_view_count": null,
            "_view_module_version": "1.2.0",
            "_model_module": "@jupyter-widgets/controls"
          }
        },
        "7a9f0fea9d5d4ec8a75cc54544faa033": {
          "model_module": "@jupyter-widgets/base",
          "model_name": "LayoutModel",
          "state": {
            "_view_name": "LayoutView",
            "grid_template_rows": null,
            "right": null,
            "justify_content": null,
            "_view_module": "@jupyter-widgets/base",
            "overflow": null,
            "_model_module_version": "1.2.0",
            "_view_count": null,
            "flex_flow": null,
            "width": null,
            "min_width": null,
            "border": null,
            "align_items": null,
            "bottom": null,
            "_model_module": "@jupyter-widgets/base",
            "top": null,
            "grid_column": null,
            "overflow_y": null,
            "overflow_x": null,
            "grid_auto_flow": null,
            "grid_area": null,
            "grid_template_columns": null,
            "flex": null,
            "_model_name": "LayoutModel",
            "justify_items": null,
            "grid_row": null,
            "max_height": null,
            "align_content": null,
            "visibility": null,
            "align_self": null,
            "height": null,
            "min_height": null,
            "padding": null,
            "grid_auto_rows": null,
            "grid_gap": null,
            "max_width": null,
            "order": null,
            "_view_module_version": "1.2.0",
            "grid_template_areas": null,
            "object_position": null,
            "object_fit": null,
            "grid_auto_columns": null,
            "margin": null,
            "display": null,
            "left": null
          }
        },
        "5c8cde28aafe47c28875d01b357fded3": {
          "model_module": "@jupyter-widgets/controls",
          "model_name": "HBoxModel",
          "state": {
            "_view_name": "HBoxView",
            "_dom_classes": [],
            "_model_name": "HBoxModel",
            "_view_module": "@jupyter-widgets/controls",
            "_model_module_version": "1.5.0",
            "_view_count": null,
            "_view_module_version": "1.5.0",
            "box_style": "",
            "layout": "IPY_MODEL_d5e63b00429a40458c7f4ff0ec714eb1",
            "_model_module": "@jupyter-widgets/controls",
            "children": [
              "IPY_MODEL_1411b0b8d204461096045948716cb58e",
              "IPY_MODEL_5b84c0db187e420c97c1bfb0d048f61f"
            ]
          }
        },
        "d5e63b00429a40458c7f4ff0ec714eb1": {
          "model_module": "@jupyter-widgets/base",
          "model_name": "LayoutModel",
          "state": {
            "_view_name": "LayoutView",
            "grid_template_rows": null,
            "right": null,
            "justify_content": null,
            "_view_module": "@jupyter-widgets/base",
            "overflow": null,
            "_model_module_version": "1.2.0",
            "_view_count": null,
            "flex_flow": null,
            "width": null,
            "min_width": null,
            "border": null,
            "align_items": null,
            "bottom": null,
            "_model_module": "@jupyter-widgets/base",
            "top": null,
            "grid_column": null,
            "overflow_y": null,
            "overflow_x": null,
            "grid_auto_flow": null,
            "grid_area": null,
            "grid_template_columns": null,
            "flex": null,
            "_model_name": "LayoutModel",
            "justify_items": null,
            "grid_row": null,
            "max_height": null,
            "align_content": null,
            "visibility": null,
            "align_self": null,
            "height": null,
            "min_height": null,
            "padding": null,
            "grid_auto_rows": null,
            "grid_gap": null,
            "max_width": null,
            "order": null,
            "_view_module_version": "1.2.0",
            "grid_template_areas": null,
            "object_position": null,
            "object_fit": null,
            "grid_auto_columns": null,
            "margin": null,
            "display": null,
            "left": null
          }
        },
        "1411b0b8d204461096045948716cb58e": {
          "model_module": "@jupyter-widgets/controls",
          "model_name": "FloatProgressModel",
          "state": {
            "_view_name": "ProgressView",
            "style": "IPY_MODEL_27cc25c6962849d786d90cf5ac6dcec4",
            "_dom_classes": [],
            "description": "Downloading: 100%",
            "_model_name": "FloatProgressModel",
            "bar_style": "success",
            "max": 209528,
            "_view_module": "@jupyter-widgets/controls",
            "_model_module_version": "1.5.0",
            "value": 209528,
            "_view_count": null,
            "_view_module_version": "1.5.0",
            "orientation": "horizontal",
            "min": 0,
            "description_tooltip": null,
            "_model_module": "@jupyter-widgets/controls",
            "layout": "IPY_MODEL_cfdf1a503d7f4a8ba9054d36077393b4"
          }
        },
        "5b84c0db187e420c97c1bfb0d048f61f": {
          "model_module": "@jupyter-widgets/controls",
          "model_name": "HTMLModel",
          "state": {
            "_view_name": "HTMLView",
            "style": "IPY_MODEL_4591146a3cc049a3884271324e1c908d",
            "_dom_classes": [],
            "description": "",
            "_model_name": "HTMLModel",
            "placeholder": "​",
            "_view_module": "@jupyter-widgets/controls",
            "_model_module_version": "1.5.0",
            "value": " 210k/210k [00:00&lt;00:00, 481kB/s]",
            "_view_count": null,
            "_view_module_version": "1.5.0",
            "description_tooltip": null,
            "_model_module": "@jupyter-widgets/controls",
            "layout": "IPY_MODEL_9763a1b5d20247ad953a327aba666dc5"
          }
        },
        "27cc25c6962849d786d90cf5ac6dcec4": {
          "model_module": "@jupyter-widgets/controls",
          "model_name": "ProgressStyleModel",
          "state": {
            "_view_name": "StyleView",
            "_model_name": "ProgressStyleModel",
            "description_width": "initial",
            "_view_module": "@jupyter-widgets/base",
            "_model_module_version": "1.5.0",
            "_view_count": null,
            "_view_module_version": "1.2.0",
            "bar_color": null,
            "_model_module": "@jupyter-widgets/controls"
          }
        },
        "cfdf1a503d7f4a8ba9054d36077393b4": {
          "model_module": "@jupyter-widgets/base",
          "model_name": "LayoutModel",
          "state": {
            "_view_name": "LayoutView",
            "grid_template_rows": null,
            "right": null,
            "justify_content": null,
            "_view_module": "@jupyter-widgets/base",
            "overflow": null,
            "_model_module_version": "1.2.0",
            "_view_count": null,
            "flex_flow": null,
            "width": null,
            "min_width": null,
            "border": null,
            "align_items": null,
            "bottom": null,
            "_model_module": "@jupyter-widgets/base",
            "top": null,
            "grid_column": null,
            "overflow_y": null,
            "overflow_x": null,
            "grid_auto_flow": null,
            "grid_area": null,
            "grid_template_columns": null,
            "flex": null,
            "_model_name": "LayoutModel",
            "justify_items": null,
            "grid_row": null,
            "max_height": null,
            "align_content": null,
            "visibility": null,
            "align_self": null,
            "height": null,
            "min_height": null,
            "padding": null,
            "grid_auto_rows": null,
            "grid_gap": null,
            "max_width": null,
            "order": null,
            "_view_module_version": "1.2.0",
            "grid_template_areas": null,
            "object_position": null,
            "object_fit": null,
            "grid_auto_columns": null,
            "margin": null,
            "display": null,
            "left": null
          }
        },
        "4591146a3cc049a3884271324e1c908d": {
          "model_module": "@jupyter-widgets/controls",
          "model_name": "DescriptionStyleModel",
          "state": {
            "_view_name": "StyleView",
            "_model_name": "DescriptionStyleModel",
            "description_width": "",
            "_view_module": "@jupyter-widgets/base",
            "_model_module_version": "1.5.0",
            "_view_count": null,
            "_view_module_version": "1.2.0",
            "_model_module": "@jupyter-widgets/controls"
          }
        },
        "9763a1b5d20247ad953a327aba666dc5": {
          "model_module": "@jupyter-widgets/base",
          "model_name": "LayoutModel",
          "state": {
            "_view_name": "LayoutView",
            "grid_template_rows": null,
            "right": null,
            "justify_content": null,
            "_view_module": "@jupyter-widgets/base",
            "overflow": null,
            "_model_module_version": "1.2.0",
            "_view_count": null,
            "flex_flow": null,
            "width": null,
            "min_width": null,
            "border": null,
            "align_items": null,
            "bottom": null,
            "_model_module": "@jupyter-widgets/base",
            "top": null,
            "grid_column": null,
            "overflow_y": null,
            "overflow_x": null,
            "grid_auto_flow": null,
            "grid_area": null,
            "grid_template_columns": null,
            "flex": null,
            "_model_name": "LayoutModel",
            "justify_items": null,
            "grid_row": null,
            "max_height": null,
            "align_content": null,
            "visibility": null,
            "align_self": null,
            "height": null,
            "min_height": null,
            "padding": null,
            "grid_auto_rows": null,
            "grid_gap": null,
            "max_width": null,
            "order": null,
            "_view_module_version": "1.2.0",
            "grid_template_areas": null,
            "object_position": null,
            "object_fit": null,
            "grid_auto_columns": null,
            "margin": null,
            "display": null,
            "left": null
          }
        },
        "974f479bf6464afd9fd96c8b38a63ea4": {
          "model_module": "@jupyter-widgets/controls",
          "model_name": "HBoxModel",
          "state": {
            "_view_name": "HBoxView",
            "_dom_classes": [],
            "_model_name": "HBoxModel",
            "_view_module": "@jupyter-widgets/controls",
            "_model_module_version": "1.5.0",
            "_view_count": null,
            "_view_module_version": "1.5.0",
            "box_style": "",
            "layout": "IPY_MODEL_73d8cbc721354624a6cc29ae22f88d55",
            "_model_module": "@jupyter-widgets/controls",
            "children": [
              "IPY_MODEL_f0f177e52aae4ed982cc287bda1b7381",
              "IPY_MODEL_c36bcca1d46b4952bb9e948769589ad4"
            ]
          }
        },
        "73d8cbc721354624a6cc29ae22f88d55": {
          "model_module": "@jupyter-widgets/base",
          "model_name": "LayoutModel",
          "state": {
            "_view_name": "LayoutView",
            "grid_template_rows": null,
            "right": null,
            "justify_content": null,
            "_view_module": "@jupyter-widgets/base",
            "overflow": null,
            "_model_module_version": "1.2.0",
            "_view_count": null,
            "flex_flow": null,
            "width": null,
            "min_width": null,
            "border": null,
            "align_items": null,
            "bottom": null,
            "_model_module": "@jupyter-widgets/base",
            "top": null,
            "grid_column": null,
            "overflow_y": null,
            "overflow_x": null,
            "grid_auto_flow": null,
            "grid_area": null,
            "grid_template_columns": null,
            "flex": null,
            "_model_name": "LayoutModel",
            "justify_items": null,
            "grid_row": null,
            "max_height": null,
            "align_content": null,
            "visibility": null,
            "align_self": null,
            "height": null,
            "min_height": null,
            "padding": null,
            "grid_auto_rows": null,
            "grid_gap": null,
            "max_width": null,
            "order": null,
            "_view_module_version": "1.2.0",
            "grid_template_areas": null,
            "object_position": null,
            "object_fit": null,
            "grid_auto_columns": null,
            "margin": null,
            "display": null,
            "left": null
          }
        },
        "f0f177e52aae4ed982cc287bda1b7381": {
          "model_module": "@jupyter-widgets/controls",
          "model_name": "FloatProgressModel",
          "state": {
            "_view_name": "ProgressView",
            "style": "IPY_MODEL_234607760ea547d2aea2266532e9259e",
            "_dom_classes": [],
            "description": "Downloading: 100%",
            "_model_name": "FloatProgressModel",
            "bar_style": "success",
            "max": 2,
            "_view_module": "@jupyter-widgets/controls",
            "_model_module_version": "1.5.0",
            "value": 2,
            "_view_count": null,
            "_view_module_version": "1.5.0",
            "orientation": "horizontal",
            "min": 0,
            "description_tooltip": null,
            "_model_module": "@jupyter-widgets/controls",
            "layout": "IPY_MODEL_4d590af053fa4d2b97e9e2b854f51060"
          }
        },
        "c36bcca1d46b4952bb9e948769589ad4": {
          "model_module": "@jupyter-widgets/controls",
          "model_name": "HTMLModel",
          "state": {
            "_view_name": "HTMLView",
            "style": "IPY_MODEL_7ad33e948ec04854baec1300f207250a",
            "_dom_classes": [],
            "description": "",
            "_model_name": "HTMLModel",
            "placeholder": "​",
            "_view_module": "@jupyter-widgets/controls",
            "_model_module_version": "1.5.0",
            "value": " 2.00/2.00 [00:00&lt;00:00, 2.24B/s]",
            "_view_count": null,
            "_view_module_version": "1.5.0",
            "description_tooltip": null,
            "_model_module": "@jupyter-widgets/controls",
            "layout": "IPY_MODEL_9a319478a5b241938434bddaa602bd83"
          }
        },
        "234607760ea547d2aea2266532e9259e": {
          "model_module": "@jupyter-widgets/controls",
          "model_name": "ProgressStyleModel",
          "state": {
            "_view_name": "StyleView",
            "_model_name": "ProgressStyleModel",
            "description_width": "initial",
            "_view_module": "@jupyter-widgets/base",
            "_model_module_version": "1.5.0",
            "_view_count": null,
            "_view_module_version": "1.2.0",
            "bar_color": null,
            "_model_module": "@jupyter-widgets/controls"
          }
        },
        "4d590af053fa4d2b97e9e2b854f51060": {
          "model_module": "@jupyter-widgets/base",
          "model_name": "LayoutModel",
          "state": {
            "_view_name": "LayoutView",
            "grid_template_rows": null,
            "right": null,
            "justify_content": null,
            "_view_module": "@jupyter-widgets/base",
            "overflow": null,
            "_model_module_version": "1.2.0",
            "_view_count": null,
            "flex_flow": null,
            "width": null,
            "min_width": null,
            "border": null,
            "align_items": null,
            "bottom": null,
            "_model_module": "@jupyter-widgets/base",
            "top": null,
            "grid_column": null,
            "overflow_y": null,
            "overflow_x": null,
            "grid_auto_flow": null,
            "grid_area": null,
            "grid_template_columns": null,
            "flex": null,
            "_model_name": "LayoutModel",
            "justify_items": null,
            "grid_row": null,
            "max_height": null,
            "align_content": null,
            "visibility": null,
            "align_self": null,
            "height": null,
            "min_height": null,
            "padding": null,
            "grid_auto_rows": null,
            "grid_gap": null,
            "max_width": null,
            "order": null,
            "_view_module_version": "1.2.0",
            "grid_template_areas": null,
            "object_position": null,
            "object_fit": null,
            "grid_auto_columns": null,
            "margin": null,
            "display": null,
            "left": null
          }
        },
        "7ad33e948ec04854baec1300f207250a": {
          "model_module": "@jupyter-widgets/controls",
          "model_name": "DescriptionStyleModel",
          "state": {
            "_view_name": "StyleView",
            "_model_name": "DescriptionStyleModel",
            "description_width": "",
            "_view_module": "@jupyter-widgets/base",
            "_model_module_version": "1.5.0",
            "_view_count": null,
            "_view_module_version": "1.2.0",
            "_model_module": "@jupyter-widgets/controls"
          }
        },
        "9a319478a5b241938434bddaa602bd83": {
          "model_module": "@jupyter-widgets/base",
          "model_name": "LayoutModel",
          "state": {
            "_view_name": "LayoutView",
            "grid_template_rows": null,
            "right": null,
            "justify_content": null,
            "_view_module": "@jupyter-widgets/base",
            "overflow": null,
            "_model_module_version": "1.2.0",
            "_view_count": null,
            "flex_flow": null,
            "width": null,
            "min_width": null,
            "border": null,
            "align_items": null,
            "bottom": null,
            "_model_module": "@jupyter-widgets/base",
            "top": null,
            "grid_column": null,
            "overflow_y": null,
            "overflow_x": null,
            "grid_auto_flow": null,
            "grid_area": null,
            "grid_template_columns": null,
            "flex": null,
            "_model_name": "LayoutModel",
            "justify_items": null,
            "grid_row": null,
            "max_height": null,
            "align_content": null,
            "visibility": null,
            "align_self": null,
            "height": null,
            "min_height": null,
            "padding": null,
            "grid_auto_rows": null,
            "grid_gap": null,
            "max_width": null,
            "order": null,
            "_view_module_version": "1.2.0",
            "grid_template_areas": null,
            "object_position": null,
            "object_fit": null,
            "grid_auto_columns": null,
            "margin": null,
            "display": null,
            "left": null
          }
        },
        "221a5ec8d1e3492f90cf22e9b75d9274": {
          "model_module": "@jupyter-widgets/controls",
          "model_name": "HBoxModel",
          "state": {
            "_view_name": "HBoxView",
            "_dom_classes": [],
            "_model_name": "HBoxModel",
            "_view_module": "@jupyter-widgets/controls",
            "_model_module_version": "1.5.0",
            "_view_count": null,
            "_view_module_version": "1.5.0",
            "box_style": "",
            "layout": "IPY_MODEL_3d8a618593bf47bca6f452da20e7cae0",
            "_model_module": "@jupyter-widgets/controls",
            "children": [
              "IPY_MODEL_20a3b2d8217241f48cef8a68045b076c",
              "IPY_MODEL_d0e28dd039584800a65859df5c1a7f06"
            ]
          }
        },
        "3d8a618593bf47bca6f452da20e7cae0": {
          "model_module": "@jupyter-widgets/base",
          "model_name": "LayoutModel",
          "state": {
            "_view_name": "LayoutView",
            "grid_template_rows": null,
            "right": null,
            "justify_content": null,
            "_view_module": "@jupyter-widgets/base",
            "overflow": null,
            "_model_module_version": "1.2.0",
            "_view_count": null,
            "flex_flow": null,
            "width": null,
            "min_width": null,
            "border": null,
            "align_items": null,
            "bottom": null,
            "_model_module": "@jupyter-widgets/base",
            "top": null,
            "grid_column": null,
            "overflow_y": null,
            "overflow_x": null,
            "grid_auto_flow": null,
            "grid_area": null,
            "grid_template_columns": null,
            "flex": null,
            "_model_name": "LayoutModel",
            "justify_items": null,
            "grid_row": null,
            "max_height": null,
            "align_content": null,
            "visibility": null,
            "align_self": null,
            "height": null,
            "min_height": null,
            "padding": null,
            "grid_auto_rows": null,
            "grid_gap": null,
            "max_width": null,
            "order": null,
            "_view_module_version": "1.2.0",
            "grid_template_areas": null,
            "object_position": null,
            "object_fit": null,
            "grid_auto_columns": null,
            "margin": null,
            "display": null,
            "left": null
          }
        },
        "20a3b2d8217241f48cef8a68045b076c": {
          "model_module": "@jupyter-widgets/controls",
          "model_name": "FloatProgressModel",
          "state": {
            "_view_name": "ProgressView",
            "style": "IPY_MODEL_3b771358f50c4dc08e6d56faf1538e56",
            "_dom_classes": [],
            "description": "Downloading: 100%",
            "_model_name": "FloatProgressModel",
            "bar_style": "success",
            "max": 112,
            "_view_module": "@jupyter-widgets/controls",
            "_model_module_version": "1.5.0",
            "value": 112,
            "_view_count": null,
            "_view_module_version": "1.5.0",
            "orientation": "horizontal",
            "min": 0,
            "description_tooltip": null,
            "_model_module": "@jupyter-widgets/controls",
            "layout": "IPY_MODEL_63a21a9cab3642e3b502a1df46b64532"
          }
        },
        "d0e28dd039584800a65859df5c1a7f06": {
          "model_module": "@jupyter-widgets/controls",
          "model_name": "HTMLModel",
          "state": {
            "_view_name": "HTMLView",
            "style": "IPY_MODEL_2f1fa90123b74faba7fae43c8eaf29d8",
            "_dom_classes": [],
            "description": "",
            "_model_name": "HTMLModel",
            "placeholder": "​",
            "_view_module": "@jupyter-widgets/controls",
            "_model_module_version": "1.5.0",
            "value": " 112/112 [00:00&lt;00:00, 206B/s]",
            "_view_count": null,
            "_view_module_version": "1.5.0",
            "description_tooltip": null,
            "_model_module": "@jupyter-widgets/controls",
            "layout": "IPY_MODEL_f3b991ced9c8420a8c5eb200a80ce3a0"
          }
        },
        "3b771358f50c4dc08e6d56faf1538e56": {
          "model_module": "@jupyter-widgets/controls",
          "model_name": "ProgressStyleModel",
          "state": {
            "_view_name": "StyleView",
            "_model_name": "ProgressStyleModel",
            "description_width": "initial",
            "_view_module": "@jupyter-widgets/base",
            "_model_module_version": "1.5.0",
            "_view_count": null,
            "_view_module_version": "1.2.0",
            "bar_color": null,
            "_model_module": "@jupyter-widgets/controls"
          }
        },
        "63a21a9cab3642e3b502a1df46b64532": {
          "model_module": "@jupyter-widgets/base",
          "model_name": "LayoutModel",
          "state": {
            "_view_name": "LayoutView",
            "grid_template_rows": null,
            "right": null,
            "justify_content": null,
            "_view_module": "@jupyter-widgets/base",
            "overflow": null,
            "_model_module_version": "1.2.0",
            "_view_count": null,
            "flex_flow": null,
            "width": null,
            "min_width": null,
            "border": null,
            "align_items": null,
            "bottom": null,
            "_model_module": "@jupyter-widgets/base",
            "top": null,
            "grid_column": null,
            "overflow_y": null,
            "overflow_x": null,
            "grid_auto_flow": null,
            "grid_area": null,
            "grid_template_columns": null,
            "flex": null,
            "_model_name": "LayoutModel",
            "justify_items": null,
            "grid_row": null,
            "max_height": null,
            "align_content": null,
            "visibility": null,
            "align_self": null,
            "height": null,
            "min_height": null,
            "padding": null,
            "grid_auto_rows": null,
            "grid_gap": null,
            "max_width": null,
            "order": null,
            "_view_module_version": "1.2.0",
            "grid_template_areas": null,
            "object_position": null,
            "object_fit": null,
            "grid_auto_columns": null,
            "margin": null,
            "display": null,
            "left": null
          }
        },
        "2f1fa90123b74faba7fae43c8eaf29d8": {
          "model_module": "@jupyter-widgets/controls",
          "model_name": "DescriptionStyleModel",
          "state": {
            "_view_name": "StyleView",
            "_model_name": "DescriptionStyleModel",
            "description_width": "",
            "_view_module": "@jupyter-widgets/base",
            "_model_module_version": "1.5.0",
            "_view_count": null,
            "_view_module_version": "1.2.0",
            "_model_module": "@jupyter-widgets/controls"
          }
        },
        "f3b991ced9c8420a8c5eb200a80ce3a0": {
          "model_module": "@jupyter-widgets/base",
          "model_name": "LayoutModel",
          "state": {
            "_view_name": "LayoutView",
            "grid_template_rows": null,
            "right": null,
            "justify_content": null,
            "_view_module": "@jupyter-widgets/base",
            "overflow": null,
            "_model_module_version": "1.2.0",
            "_view_count": null,
            "flex_flow": null,
            "width": null,
            "min_width": null,
            "border": null,
            "align_items": null,
            "bottom": null,
            "_model_module": "@jupyter-widgets/base",
            "top": null,
            "grid_column": null,
            "overflow_y": null,
            "overflow_x": null,
            "grid_auto_flow": null,
            "grid_area": null,
            "grid_template_columns": null,
            "flex": null,
            "_model_name": "LayoutModel",
            "justify_items": null,
            "grid_row": null,
            "max_height": null,
            "align_content": null,
            "visibility": null,
            "align_self": null,
            "height": null,
            "min_height": null,
            "padding": null,
            "grid_auto_rows": null,
            "grid_gap": null,
            "max_width": null,
            "order": null,
            "_view_module_version": "1.2.0",
            "grid_template_areas": null,
            "object_position": null,
            "object_fit": null,
            "grid_auto_columns": null,
            "margin": null,
            "display": null,
            "left": null
          }
        },
        "3019465b701f4ae489a981b3080d3d9d": {
          "model_module": "@jupyter-widgets/controls",
          "model_name": "HBoxModel",
          "state": {
            "_view_name": "HBoxView",
            "_dom_classes": [],
            "_model_name": "HBoxModel",
            "_view_module": "@jupyter-widgets/controls",
            "_model_module_version": "1.5.0",
            "_view_count": null,
            "_view_module_version": "1.5.0",
            "box_style": "",
            "layout": "IPY_MODEL_4292c93aa74d488c982b05b516017ed1",
            "_model_module": "@jupyter-widgets/controls",
            "children": [
              "IPY_MODEL_8370a68f487e4a7c9c2f2c6459dfd9f1",
              "IPY_MODEL_faa8c9afd8194fd48cc482709898c453"
            ]
          }
        },
        "4292c93aa74d488c982b05b516017ed1": {
          "model_module": "@jupyter-widgets/base",
          "model_name": "LayoutModel",
          "state": {
            "_view_name": "LayoutView",
            "grid_template_rows": null,
            "right": null,
            "justify_content": null,
            "_view_module": "@jupyter-widgets/base",
            "overflow": null,
            "_model_module_version": "1.2.0",
            "_view_count": null,
            "flex_flow": null,
            "width": null,
            "min_width": null,
            "border": null,
            "align_items": null,
            "bottom": null,
            "_model_module": "@jupyter-widgets/base",
            "top": null,
            "grid_column": null,
            "overflow_y": null,
            "overflow_x": null,
            "grid_auto_flow": null,
            "grid_area": null,
            "grid_template_columns": null,
            "flex": null,
            "_model_name": "LayoutModel",
            "justify_items": null,
            "grid_row": null,
            "max_height": null,
            "align_content": null,
            "visibility": null,
            "align_self": null,
            "height": null,
            "min_height": null,
            "padding": null,
            "grid_auto_rows": null,
            "grid_gap": null,
            "max_width": null,
            "order": null,
            "_view_module_version": "1.2.0",
            "grid_template_areas": null,
            "object_position": null,
            "object_fit": null,
            "grid_auto_columns": null,
            "margin": null,
            "display": null,
            "left": null
          }
        },
        "8370a68f487e4a7c9c2f2c6459dfd9f1": {
          "model_module": "@jupyter-widgets/controls",
          "model_name": "FloatProgressModel",
          "state": {
            "_view_name": "ProgressView",
            "style": "IPY_MODEL_ccaa49a618b844a892ed25d1206e73cf",
            "_dom_classes": [],
            "description": "Downloading: 100%",
            "_model_name": "FloatProgressModel",
            "bar_style": "success",
            "max": 43,
            "_view_module": "@jupyter-widgets/controls",
            "_model_module_version": "1.5.0",
            "value": 43,
            "_view_count": null,
            "_view_module_version": "1.5.0",
            "orientation": "horizontal",
            "min": 0,
            "description_tooltip": null,
            "_model_module": "@jupyter-widgets/controls",
            "layout": "IPY_MODEL_68588d47c690407b9a08a863a0b17f66"
          }
        },
        "faa8c9afd8194fd48cc482709898c453": {
          "model_module": "@jupyter-widgets/controls",
          "model_name": "HTMLModel",
          "state": {
            "_view_name": "HTMLView",
            "style": "IPY_MODEL_bb219610370a4ec084179ce9fbe39e3b",
            "_dom_classes": [],
            "description": "",
            "_model_name": "HTMLModel",
            "placeholder": "​",
            "_view_module": "@jupyter-widgets/controls",
            "_model_module_version": "1.5.0",
            "value": " 43.0/43.0 [00:00&lt;00:00, 213B/s]",
            "_view_count": null,
            "_view_module_version": "1.5.0",
            "description_tooltip": null,
            "_model_module": "@jupyter-widgets/controls",
            "layout": "IPY_MODEL_76b7725ee15f4b9cb1722a25dece0191"
          }
        },
        "ccaa49a618b844a892ed25d1206e73cf": {
          "model_module": "@jupyter-widgets/controls",
          "model_name": "ProgressStyleModel",
          "state": {
            "_view_name": "StyleView",
            "_model_name": "ProgressStyleModel",
            "description_width": "initial",
            "_view_module": "@jupyter-widgets/base",
            "_model_module_version": "1.5.0",
            "_view_count": null,
            "_view_module_version": "1.2.0",
            "bar_color": null,
            "_model_module": "@jupyter-widgets/controls"
          }
        },
        "68588d47c690407b9a08a863a0b17f66": {
          "model_module": "@jupyter-widgets/base",
          "model_name": "LayoutModel",
          "state": {
            "_view_name": "LayoutView",
            "grid_template_rows": null,
            "right": null,
            "justify_content": null,
            "_view_module": "@jupyter-widgets/base",
            "overflow": null,
            "_model_module_version": "1.2.0",
            "_view_count": null,
            "flex_flow": null,
            "width": null,
            "min_width": null,
            "border": null,
            "align_items": null,
            "bottom": null,
            "_model_module": "@jupyter-widgets/base",
            "top": null,
            "grid_column": null,
            "overflow_y": null,
            "overflow_x": null,
            "grid_auto_flow": null,
            "grid_area": null,
            "grid_template_columns": null,
            "flex": null,
            "_model_name": "LayoutModel",
            "justify_items": null,
            "grid_row": null,
            "max_height": null,
            "align_content": null,
            "visibility": null,
            "align_self": null,
            "height": null,
            "min_height": null,
            "padding": null,
            "grid_auto_rows": null,
            "grid_gap": null,
            "max_width": null,
            "order": null,
            "_view_module_version": "1.2.0",
            "grid_template_areas": null,
            "object_position": null,
            "object_fit": null,
            "grid_auto_columns": null,
            "margin": null,
            "display": null,
            "left": null
          }
        },
        "bb219610370a4ec084179ce9fbe39e3b": {
          "model_module": "@jupyter-widgets/controls",
          "model_name": "DescriptionStyleModel",
          "state": {
            "_view_name": "StyleView",
            "_model_name": "DescriptionStyleModel",
            "description_width": "",
            "_view_module": "@jupyter-widgets/base",
            "_model_module_version": "1.5.0",
            "_view_count": null,
            "_view_module_version": "1.2.0",
            "_model_module": "@jupyter-widgets/controls"
          }
        },
        "76b7725ee15f4b9cb1722a25dece0191": {
          "model_module": "@jupyter-widgets/base",
          "model_name": "LayoutModel",
          "state": {
            "_view_name": "LayoutView",
            "grid_template_rows": null,
            "right": null,
            "justify_content": null,
            "_view_module": "@jupyter-widgets/base",
            "overflow": null,
            "_model_module_version": "1.2.0",
            "_view_count": null,
            "flex_flow": null,
            "width": null,
            "min_width": null,
            "border": null,
            "align_items": null,
            "bottom": null,
            "_model_module": "@jupyter-widgets/base",
            "top": null,
            "grid_column": null,
            "overflow_y": null,
            "overflow_x": null,
            "grid_auto_flow": null,
            "grid_area": null,
            "grid_template_columns": null,
            "flex": null,
            "_model_name": "LayoutModel",
            "justify_items": null,
            "grid_row": null,
            "max_height": null,
            "align_content": null,
            "visibility": null,
            "align_self": null,
            "height": null,
            "min_height": null,
            "padding": null,
            "grid_auto_rows": null,
            "grid_gap": null,
            "max_width": null,
            "order": null,
            "_view_module_version": "1.2.0",
            "grid_template_areas": null,
            "object_position": null,
            "object_fit": null,
            "grid_auto_columns": null,
            "margin": null,
            "display": null,
            "left": null
          }
        },
        "007ccc98bc174fa5806673f38d50b2a4": {
          "model_module": "@jupyter-widgets/controls",
          "model_name": "HBoxModel",
          "state": {
            "_view_name": "HBoxView",
            "_dom_classes": [],
            "_model_name": "HBoxModel",
            "_view_module": "@jupyter-widgets/controls",
            "_model_module_version": "1.5.0",
            "_view_count": null,
            "_view_module_version": "1.5.0",
            "box_style": "",
            "layout": "IPY_MODEL_caf2734bb0504861b2dca8abbc65be8e",
            "_model_module": "@jupyter-widgets/controls",
            "children": [
              "IPY_MODEL_5ddca15bf10a43bc9c9c3f01843cc29f",
              "IPY_MODEL_cc8021ffebd543d99a0adb47d3954bea"
            ]
          }
        },
        "caf2734bb0504861b2dca8abbc65be8e": {
          "model_module": "@jupyter-widgets/base",
          "model_name": "LayoutModel",
          "state": {
            "_view_name": "LayoutView",
            "grid_template_rows": null,
            "right": null,
            "justify_content": null,
            "_view_module": "@jupyter-widgets/base",
            "overflow": null,
            "_model_module_version": "1.2.0",
            "_view_count": null,
            "flex_flow": null,
            "width": null,
            "min_width": null,
            "border": null,
            "align_items": null,
            "bottom": null,
            "_model_module": "@jupyter-widgets/base",
            "top": null,
            "grid_column": null,
            "overflow_y": null,
            "overflow_x": null,
            "grid_auto_flow": null,
            "grid_area": null,
            "grid_template_columns": null,
            "flex": null,
            "_model_name": "LayoutModel",
            "justify_items": null,
            "grid_row": null,
            "max_height": null,
            "align_content": null,
            "visibility": null,
            "align_self": null,
            "height": null,
            "min_height": null,
            "padding": null,
            "grid_auto_rows": null,
            "grid_gap": null,
            "max_width": null,
            "order": null,
            "_view_module_version": "1.2.0",
            "grid_template_areas": null,
            "object_position": null,
            "object_fit": null,
            "grid_auto_columns": null,
            "margin": null,
            "display": null,
            "left": null
          }
        },
        "5ddca15bf10a43bc9c9c3f01843cc29f": {
          "model_module": "@jupyter-widgets/controls",
          "model_name": "FloatProgressModel",
          "state": {
            "_view_name": "ProgressView",
            "style": "IPY_MODEL_a8ec3b158c1c43358085f80fd62ddc4f",
            "_dom_classes": [],
            "description": "Downloading: 100%",
            "_model_name": "FloatProgressModel",
            "bar_style": "success",
            "max": 438235074,
            "_view_module": "@jupyter-widgets/controls",
            "_model_module_version": "1.5.0",
            "value": 438235074,
            "_view_count": null,
            "_view_module_version": "1.5.0",
            "orientation": "horizontal",
            "min": 0,
            "description_tooltip": null,
            "_model_module": "@jupyter-widgets/controls",
            "layout": "IPY_MODEL_fd65f1fbb9eb49a7a3d3f3df85e00390"
          }
        },
        "cc8021ffebd543d99a0adb47d3954bea": {
          "model_module": "@jupyter-widgets/controls",
          "model_name": "HTMLModel",
          "state": {
            "_view_name": "HTMLView",
            "style": "IPY_MODEL_f4f4875d53404fc7bf27b3cce0778637",
            "_dom_classes": [],
            "description": "",
            "_model_name": "HTMLModel",
            "placeholder": "​",
            "_view_module": "@jupyter-widgets/controls",
            "_model_module_version": "1.5.0",
            "value": " 438M/438M [00:08&lt;00:00, 52.8MB/s]",
            "_view_count": null,
            "_view_module_version": "1.5.0",
            "description_tooltip": null,
            "_model_module": "@jupyter-widgets/controls",
            "layout": "IPY_MODEL_2e7bfa6e415544a6a95220acfdf3a22b"
          }
        },
        "a8ec3b158c1c43358085f80fd62ddc4f": {
          "model_module": "@jupyter-widgets/controls",
          "model_name": "ProgressStyleModel",
          "state": {
            "_view_name": "StyleView",
            "_model_name": "ProgressStyleModel",
            "description_width": "initial",
            "_view_module": "@jupyter-widgets/base",
            "_model_module_version": "1.5.0",
            "_view_count": null,
            "_view_module_version": "1.2.0",
            "bar_color": null,
            "_model_module": "@jupyter-widgets/controls"
          }
        },
        "fd65f1fbb9eb49a7a3d3f3df85e00390": {
          "model_module": "@jupyter-widgets/base",
          "model_name": "LayoutModel",
          "state": {
            "_view_name": "LayoutView",
            "grid_template_rows": null,
            "right": null,
            "justify_content": null,
            "_view_module": "@jupyter-widgets/base",
            "overflow": null,
            "_model_module_version": "1.2.0",
            "_view_count": null,
            "flex_flow": null,
            "width": null,
            "min_width": null,
            "border": null,
            "align_items": null,
            "bottom": null,
            "_model_module": "@jupyter-widgets/base",
            "top": null,
            "grid_column": null,
            "overflow_y": null,
            "overflow_x": null,
            "grid_auto_flow": null,
            "grid_area": null,
            "grid_template_columns": null,
            "flex": null,
            "_model_name": "LayoutModel",
            "justify_items": null,
            "grid_row": null,
            "max_height": null,
            "align_content": null,
            "visibility": null,
            "align_self": null,
            "height": null,
            "min_height": null,
            "padding": null,
            "grid_auto_rows": null,
            "grid_gap": null,
            "max_width": null,
            "order": null,
            "_view_module_version": "1.2.0",
            "grid_template_areas": null,
            "object_position": null,
            "object_fit": null,
            "grid_auto_columns": null,
            "margin": null,
            "display": null,
            "left": null
          }
        },
        "f4f4875d53404fc7bf27b3cce0778637": {
          "model_module": "@jupyter-widgets/controls",
          "model_name": "DescriptionStyleModel",
          "state": {
            "_view_name": "StyleView",
            "_model_name": "DescriptionStyleModel",
            "description_width": "",
            "_view_module": "@jupyter-widgets/base",
            "_model_module_version": "1.5.0",
            "_view_count": null,
            "_view_module_version": "1.2.0",
            "_model_module": "@jupyter-widgets/controls"
          }
        },
        "2e7bfa6e415544a6a95220acfdf3a22b": {
          "model_module": "@jupyter-widgets/base",
          "model_name": "LayoutModel",
          "state": {
            "_view_name": "LayoutView",
            "grid_template_rows": null,
            "right": null,
            "justify_content": null,
            "_view_module": "@jupyter-widgets/base",
            "overflow": null,
            "_model_module_version": "1.2.0",
            "_view_count": null,
            "flex_flow": null,
            "width": null,
            "min_width": null,
            "border": null,
            "align_items": null,
            "bottom": null,
            "_model_module": "@jupyter-widgets/base",
            "top": null,
            "grid_column": null,
            "overflow_y": null,
            "overflow_x": null,
            "grid_auto_flow": null,
            "grid_area": null,
            "grid_template_columns": null,
            "flex": null,
            "_model_name": "LayoutModel",
            "justify_items": null,
            "grid_row": null,
            "max_height": null,
            "align_content": null,
            "visibility": null,
            "align_self": null,
            "height": null,
            "min_height": null,
            "padding": null,
            "grid_auto_rows": null,
            "grid_gap": null,
            "max_width": null,
            "order": null,
            "_view_module_version": "1.2.0",
            "grid_template_areas": null,
            "object_position": null,
            "object_fit": null,
            "grid_auto_columns": null,
            "margin": null,
            "display": null,
            "left": null
          }
        },
        "090227bfa2034500862c23b06fa31077": {
          "model_module": "@jupyter-widgets/controls",
          "model_name": "HBoxModel",
          "state": {
            "_view_name": "HBoxView",
            "_dom_classes": [],
            "_model_name": "HBoxModel",
            "_view_module": "@jupyter-widgets/controls",
            "_model_module_version": "1.5.0",
            "_view_count": null,
            "_view_module_version": "1.5.0",
            "box_style": "",
            "layout": "IPY_MODEL_f5983d34ac8047ec82de46d3a8adc4c0",
            "_model_module": "@jupyter-widgets/controls",
            "children": [
              "IPY_MODEL_e60c9a35a90c4f5ea7b302ee18c8d3f5",
              "IPY_MODEL_6f0b43bd04ac474cab4174957affdde9"
            ]
          }
        },
        "f5983d34ac8047ec82de46d3a8adc4c0": {
          "model_module": "@jupyter-widgets/base",
          "model_name": "LayoutModel",
          "state": {
            "_view_name": "LayoutView",
            "grid_template_rows": null,
            "right": null,
            "justify_content": null,
            "_view_module": "@jupyter-widgets/base",
            "overflow": null,
            "_model_module_version": "1.2.0",
            "_view_count": null,
            "flex_flow": null,
            "width": null,
            "min_width": null,
            "border": null,
            "align_items": null,
            "bottom": null,
            "_model_module": "@jupyter-widgets/base",
            "top": null,
            "grid_column": null,
            "overflow_y": null,
            "overflow_x": null,
            "grid_auto_flow": null,
            "grid_area": null,
            "grid_template_columns": null,
            "flex": null,
            "_model_name": "LayoutModel",
            "justify_items": null,
            "grid_row": null,
            "max_height": null,
            "align_content": null,
            "visibility": null,
            "align_self": null,
            "height": null,
            "min_height": null,
            "padding": null,
            "grid_auto_rows": null,
            "grid_gap": null,
            "max_width": null,
            "order": null,
            "_view_module_version": "1.2.0",
            "grid_template_areas": null,
            "object_position": null,
            "object_fit": null,
            "grid_auto_columns": null,
            "margin": null,
            "display": null,
            "left": null
          }
        },
        "e60c9a35a90c4f5ea7b302ee18c8d3f5": {
          "model_module": "@jupyter-widgets/controls",
          "model_name": "FloatProgressModel",
          "state": {
            "_view_name": "ProgressView",
            "style": "IPY_MODEL_6c19537156bb4ac39396605ee59c84e2",
            "_dom_classes": [],
            "description": "Downloading: 100%",
            "_model_name": "FloatProgressModel",
            "bar_style": "success",
            "max": 209528,
            "_view_module": "@jupyter-widgets/controls",
            "_model_module_version": "1.5.0",
            "value": 209528,
            "_view_count": null,
            "_view_module_version": "1.5.0",
            "orientation": "horizontal",
            "min": 0,
            "description_tooltip": null,
            "_model_module": "@jupyter-widgets/controls",
            "layout": "IPY_MODEL_506b13b2ac9243c889d24a084af92cdb"
          }
        },
        "6f0b43bd04ac474cab4174957affdde9": {
          "model_module": "@jupyter-widgets/controls",
          "model_name": "HTMLModel",
          "state": {
            "_view_name": "HTMLView",
            "style": "IPY_MODEL_109001c0a1bf40c09d742d8347e19663",
            "_dom_classes": [],
            "description": "",
            "_model_name": "HTMLModel",
            "placeholder": "​",
            "_view_module": "@jupyter-widgets/controls",
            "_model_module_version": "1.5.0",
            "value": " 210k/210k [00:00&lt;00:00, 263kB/s]",
            "_view_count": null,
            "_view_module_version": "1.5.0",
            "description_tooltip": null,
            "_model_module": "@jupyter-widgets/controls",
            "layout": "IPY_MODEL_fe939bcacf3d45f0a8ee58c39b2ab43a"
          }
        },
        "6c19537156bb4ac39396605ee59c84e2": {
          "model_module": "@jupyter-widgets/controls",
          "model_name": "ProgressStyleModel",
          "state": {
            "_view_name": "StyleView",
            "_model_name": "ProgressStyleModel",
            "description_width": "initial",
            "_view_module": "@jupyter-widgets/base",
            "_model_module_version": "1.5.0",
            "_view_count": null,
            "_view_module_version": "1.2.0",
            "bar_color": null,
            "_model_module": "@jupyter-widgets/controls"
          }
        },
        "506b13b2ac9243c889d24a084af92cdb": {
          "model_module": "@jupyter-widgets/base",
          "model_name": "LayoutModel",
          "state": {
            "_view_name": "LayoutView",
            "grid_template_rows": null,
            "right": null,
            "justify_content": null,
            "_view_module": "@jupyter-widgets/base",
            "overflow": null,
            "_model_module_version": "1.2.0",
            "_view_count": null,
            "flex_flow": null,
            "width": null,
            "min_width": null,
            "border": null,
            "align_items": null,
            "bottom": null,
            "_model_module": "@jupyter-widgets/base",
            "top": null,
            "grid_column": null,
            "overflow_y": null,
            "overflow_x": null,
            "grid_auto_flow": null,
            "grid_area": null,
            "grid_template_columns": null,
            "flex": null,
            "_model_name": "LayoutModel",
            "justify_items": null,
            "grid_row": null,
            "max_height": null,
            "align_content": null,
            "visibility": null,
            "align_self": null,
            "height": null,
            "min_height": null,
            "padding": null,
            "grid_auto_rows": null,
            "grid_gap": null,
            "max_width": null,
            "order": null,
            "_view_module_version": "1.2.0",
            "grid_template_areas": null,
            "object_position": null,
            "object_fit": null,
            "grid_auto_columns": null,
            "margin": null,
            "display": null,
            "left": null
          }
        },
        "109001c0a1bf40c09d742d8347e19663": {
          "model_module": "@jupyter-widgets/controls",
          "model_name": "DescriptionStyleModel",
          "state": {
            "_view_name": "StyleView",
            "_model_name": "DescriptionStyleModel",
            "description_width": "",
            "_view_module": "@jupyter-widgets/base",
            "_model_module_version": "1.5.0",
            "_view_count": null,
            "_view_module_version": "1.2.0",
            "_model_module": "@jupyter-widgets/controls"
          }
        },
        "fe939bcacf3d45f0a8ee58c39b2ab43a": {
          "model_module": "@jupyter-widgets/base",
          "model_name": "LayoutModel",
          "state": {
            "_view_name": "LayoutView",
            "grid_template_rows": null,
            "right": null,
            "justify_content": null,
            "_view_module": "@jupyter-widgets/base",
            "overflow": null,
            "_model_module_version": "1.2.0",
            "_view_count": null,
            "flex_flow": null,
            "width": null,
            "min_width": null,
            "border": null,
            "align_items": null,
            "bottom": null,
            "_model_module": "@jupyter-widgets/base",
            "top": null,
            "grid_column": null,
            "overflow_y": null,
            "overflow_x": null,
            "grid_auto_flow": null,
            "grid_area": null,
            "grid_template_columns": null,
            "flex": null,
            "_model_name": "LayoutModel",
            "justify_items": null,
            "grid_row": null,
            "max_height": null,
            "align_content": null,
            "visibility": null,
            "align_self": null,
            "height": null,
            "min_height": null,
            "padding": null,
            "grid_auto_rows": null,
            "grid_gap": null,
            "max_width": null,
            "order": null,
            "_view_module_version": "1.2.0",
            "grid_template_areas": null,
            "object_position": null,
            "object_fit": null,
            "grid_auto_columns": null,
            "margin": null,
            "display": null,
            "left": null
          }
        },
        "003a5f057c984b5582200be80b824d4e": {
          "model_module": "@jupyter-widgets/controls",
          "model_name": "HBoxModel",
          "state": {
            "_view_name": "HBoxView",
            "_dom_classes": [],
            "_model_name": "HBoxModel",
            "_view_module": "@jupyter-widgets/controls",
            "_model_module_version": "1.5.0",
            "_view_count": null,
            "_view_module_version": "1.5.0",
            "box_style": "",
            "layout": "IPY_MODEL_dcd7bebfdaab418ca40beae010bc1461",
            "_model_module": "@jupyter-widgets/controls",
            "children": [
              "IPY_MODEL_b623e9c970fe4af197f0a3beb19130f7",
              "IPY_MODEL_cdd416e8e5f64fbfb31d21ae6b31ec76"
            ]
          }
        },
        "dcd7bebfdaab418ca40beae010bc1461": {
          "model_module": "@jupyter-widgets/base",
          "model_name": "LayoutModel",
          "state": {
            "_view_name": "LayoutView",
            "grid_template_rows": null,
            "right": null,
            "justify_content": null,
            "_view_module": "@jupyter-widgets/base",
            "overflow": null,
            "_model_module_version": "1.2.0",
            "_view_count": null,
            "flex_flow": null,
            "width": null,
            "min_width": null,
            "border": null,
            "align_items": null,
            "bottom": null,
            "_model_module": "@jupyter-widgets/base",
            "top": null,
            "grid_column": null,
            "overflow_y": null,
            "overflow_x": null,
            "grid_auto_flow": null,
            "grid_area": null,
            "grid_template_columns": null,
            "flex": null,
            "_model_name": "LayoutModel",
            "justify_items": null,
            "grid_row": null,
            "max_height": null,
            "align_content": null,
            "visibility": null,
            "align_self": null,
            "height": null,
            "min_height": null,
            "padding": null,
            "grid_auto_rows": null,
            "grid_gap": null,
            "max_width": null,
            "order": null,
            "_view_module_version": "1.2.0",
            "grid_template_areas": null,
            "object_position": null,
            "object_fit": null,
            "grid_auto_columns": null,
            "margin": null,
            "display": null,
            "left": null
          }
        },
        "b623e9c970fe4af197f0a3beb19130f7": {
          "model_module": "@jupyter-widgets/controls",
          "model_name": "FloatProgressModel",
          "state": {
            "_view_name": "ProgressView",
            "style": "IPY_MODEL_bfa0b24a340a4d46b825fe8d48c2216e",
            "_dom_classes": [],
            "description": "Downloading: 100%",
            "_model_name": "FloatProgressModel",
            "bar_style": "success",
            "max": 2,
            "_view_module": "@jupyter-widgets/controls",
            "_model_module_version": "1.5.0",
            "value": 2,
            "_view_count": null,
            "_view_module_version": "1.5.0",
            "orientation": "horizontal",
            "min": 0,
            "description_tooltip": null,
            "_model_module": "@jupyter-widgets/controls",
            "layout": "IPY_MODEL_7a20c9a01672423697696cedd4088dd9"
          }
        },
        "cdd416e8e5f64fbfb31d21ae6b31ec76": {
          "model_module": "@jupyter-widgets/controls",
          "model_name": "HTMLModel",
          "state": {
            "_view_name": "HTMLView",
            "style": "IPY_MODEL_96d6027368634cdda7e4d8e1e30d105c",
            "_dom_classes": [],
            "description": "",
            "_model_name": "HTMLModel",
            "placeholder": "​",
            "_view_module": "@jupyter-widgets/controls",
            "_model_module_version": "1.5.0",
            "value": " 2.00/2.00 [00:00&lt;00:00, 5.48B/s]",
            "_view_count": null,
            "_view_module_version": "1.5.0",
            "description_tooltip": null,
            "_model_module": "@jupyter-widgets/controls",
            "layout": "IPY_MODEL_3888055705f443a5b59665d017066d3d"
          }
        },
        "bfa0b24a340a4d46b825fe8d48c2216e": {
          "model_module": "@jupyter-widgets/controls",
          "model_name": "ProgressStyleModel",
          "state": {
            "_view_name": "StyleView",
            "_model_name": "ProgressStyleModel",
            "description_width": "initial",
            "_view_module": "@jupyter-widgets/base",
            "_model_module_version": "1.5.0",
            "_view_count": null,
            "_view_module_version": "1.2.0",
            "bar_color": null,
            "_model_module": "@jupyter-widgets/controls"
          }
        },
        "7a20c9a01672423697696cedd4088dd9": {
          "model_module": "@jupyter-widgets/base",
          "model_name": "LayoutModel",
          "state": {
            "_view_name": "LayoutView",
            "grid_template_rows": null,
            "right": null,
            "justify_content": null,
            "_view_module": "@jupyter-widgets/base",
            "overflow": null,
            "_model_module_version": "1.2.0",
            "_view_count": null,
            "flex_flow": null,
            "width": null,
            "min_width": null,
            "border": null,
            "align_items": null,
            "bottom": null,
            "_model_module": "@jupyter-widgets/base",
            "top": null,
            "grid_column": null,
            "overflow_y": null,
            "overflow_x": null,
            "grid_auto_flow": null,
            "grid_area": null,
            "grid_template_columns": null,
            "flex": null,
            "_model_name": "LayoutModel",
            "justify_items": null,
            "grid_row": null,
            "max_height": null,
            "align_content": null,
            "visibility": null,
            "align_self": null,
            "height": null,
            "min_height": null,
            "padding": null,
            "grid_auto_rows": null,
            "grid_gap": null,
            "max_width": null,
            "order": null,
            "_view_module_version": "1.2.0",
            "grid_template_areas": null,
            "object_position": null,
            "object_fit": null,
            "grid_auto_columns": null,
            "margin": null,
            "display": null,
            "left": null
          }
        },
        "96d6027368634cdda7e4d8e1e30d105c": {
          "model_module": "@jupyter-widgets/controls",
          "model_name": "DescriptionStyleModel",
          "state": {
            "_view_name": "StyleView",
            "_model_name": "DescriptionStyleModel",
            "description_width": "",
            "_view_module": "@jupyter-widgets/base",
            "_model_module_version": "1.5.0",
            "_view_count": null,
            "_view_module_version": "1.2.0",
            "_model_module": "@jupyter-widgets/controls"
          }
        },
        "3888055705f443a5b59665d017066d3d": {
          "model_module": "@jupyter-widgets/base",
          "model_name": "LayoutModel",
          "state": {
            "_view_name": "LayoutView",
            "grid_template_rows": null,
            "right": null,
            "justify_content": null,
            "_view_module": "@jupyter-widgets/base",
            "overflow": null,
            "_model_module_version": "1.2.0",
            "_view_count": null,
            "flex_flow": null,
            "width": null,
            "min_width": null,
            "border": null,
            "align_items": null,
            "bottom": null,
            "_model_module": "@jupyter-widgets/base",
            "top": null,
            "grid_column": null,
            "overflow_y": null,
            "overflow_x": null,
            "grid_auto_flow": null,
            "grid_area": null,
            "grid_template_columns": null,
            "flex": null,
            "_model_name": "LayoutModel",
            "justify_items": null,
            "grid_row": null,
            "max_height": null,
            "align_content": null,
            "visibility": null,
            "align_self": null,
            "height": null,
            "min_height": null,
            "padding": null,
            "grid_auto_rows": null,
            "grid_gap": null,
            "max_width": null,
            "order": null,
            "_view_module_version": "1.2.0",
            "grid_template_areas": null,
            "object_position": null,
            "object_fit": null,
            "grid_auto_columns": null,
            "margin": null,
            "display": null,
            "left": null
          }
        },
        "1ab79c8c0d9e4d28a3707c7572f88a40": {
          "model_module": "@jupyter-widgets/controls",
          "model_name": "HBoxModel",
          "state": {
            "_view_name": "HBoxView",
            "_dom_classes": [],
            "_model_name": "HBoxModel",
            "_view_module": "@jupyter-widgets/controls",
            "_model_module_version": "1.5.0",
            "_view_count": null,
            "_view_module_version": "1.5.0",
            "box_style": "",
            "layout": "IPY_MODEL_70f87793f4a34b909103ef66d3cb1904",
            "_model_module": "@jupyter-widgets/controls",
            "children": [
              "IPY_MODEL_70f0cfd68e0f46fca5daccba60c0d119",
              "IPY_MODEL_91e98af08c1d4d5d8033cda6ebfc8e0a"
            ]
          }
        },
        "70f87793f4a34b909103ef66d3cb1904": {
          "model_module": "@jupyter-widgets/base",
          "model_name": "LayoutModel",
          "state": {
            "_view_name": "LayoutView",
            "grid_template_rows": null,
            "right": null,
            "justify_content": null,
            "_view_module": "@jupyter-widgets/base",
            "overflow": null,
            "_model_module_version": "1.2.0",
            "_view_count": null,
            "flex_flow": null,
            "width": null,
            "min_width": null,
            "border": null,
            "align_items": null,
            "bottom": null,
            "_model_module": "@jupyter-widgets/base",
            "top": null,
            "grid_column": null,
            "overflow_y": null,
            "overflow_x": null,
            "grid_auto_flow": null,
            "grid_area": null,
            "grid_template_columns": null,
            "flex": null,
            "_model_name": "LayoutModel",
            "justify_items": null,
            "grid_row": null,
            "max_height": null,
            "align_content": null,
            "visibility": null,
            "align_self": null,
            "height": null,
            "min_height": null,
            "padding": null,
            "grid_auto_rows": null,
            "grid_gap": null,
            "max_width": null,
            "order": null,
            "_view_module_version": "1.2.0",
            "grid_template_areas": null,
            "object_position": null,
            "object_fit": null,
            "grid_auto_columns": null,
            "margin": null,
            "display": null,
            "left": null
          }
        },
        "70f0cfd68e0f46fca5daccba60c0d119": {
          "model_module": "@jupyter-widgets/controls",
          "model_name": "FloatProgressModel",
          "state": {
            "_view_name": "ProgressView",
            "style": "IPY_MODEL_0e6a59e707434e2c938168bffa1309fe",
            "_dom_classes": [],
            "description": "Downloading: 100%",
            "_model_name": "FloatProgressModel",
            "bar_style": "success",
            "max": 112,
            "_view_module": "@jupyter-widgets/controls",
            "_model_module_version": "1.5.0",
            "value": 112,
            "_view_count": null,
            "_view_module_version": "1.5.0",
            "orientation": "horizontal",
            "min": 0,
            "description_tooltip": null,
            "_model_module": "@jupyter-widgets/controls",
            "layout": "IPY_MODEL_21a1b209108741a38efcf6d0675ab051"
          }
        },
        "91e98af08c1d4d5d8033cda6ebfc8e0a": {
          "model_module": "@jupyter-widgets/controls",
          "model_name": "HTMLModel",
          "state": {
            "_view_name": "HTMLView",
            "style": "IPY_MODEL_2c505bb7c73a41ca9e1e97f6240d6b16",
            "_dom_classes": [],
            "description": "",
            "_model_name": "HTMLModel",
            "placeholder": "​",
            "_view_module": "@jupyter-widgets/controls",
            "_model_module_version": "1.5.0",
            "value": " 112/112 [00:00&lt;00:00, 193B/s]",
            "_view_count": null,
            "_view_module_version": "1.5.0",
            "description_tooltip": null,
            "_model_module": "@jupyter-widgets/controls",
            "layout": "IPY_MODEL_d4864830f92840dd8980d28946196aa5"
          }
        },
        "0e6a59e707434e2c938168bffa1309fe": {
          "model_module": "@jupyter-widgets/controls",
          "model_name": "ProgressStyleModel",
          "state": {
            "_view_name": "StyleView",
            "_model_name": "ProgressStyleModel",
            "description_width": "initial",
            "_view_module": "@jupyter-widgets/base",
            "_model_module_version": "1.5.0",
            "_view_count": null,
            "_view_module_version": "1.2.0",
            "bar_color": null,
            "_model_module": "@jupyter-widgets/controls"
          }
        },
        "21a1b209108741a38efcf6d0675ab051": {
          "model_module": "@jupyter-widgets/base",
          "model_name": "LayoutModel",
          "state": {
            "_view_name": "LayoutView",
            "grid_template_rows": null,
            "right": null,
            "justify_content": null,
            "_view_module": "@jupyter-widgets/base",
            "overflow": null,
            "_model_module_version": "1.2.0",
            "_view_count": null,
            "flex_flow": null,
            "width": null,
            "min_width": null,
            "border": null,
            "align_items": null,
            "bottom": null,
            "_model_module": "@jupyter-widgets/base",
            "top": null,
            "grid_column": null,
            "overflow_y": null,
            "overflow_x": null,
            "grid_auto_flow": null,
            "grid_area": null,
            "grid_template_columns": null,
            "flex": null,
            "_model_name": "LayoutModel",
            "justify_items": null,
            "grid_row": null,
            "max_height": null,
            "align_content": null,
            "visibility": null,
            "align_self": null,
            "height": null,
            "min_height": null,
            "padding": null,
            "grid_auto_rows": null,
            "grid_gap": null,
            "max_width": null,
            "order": null,
            "_view_module_version": "1.2.0",
            "grid_template_areas": null,
            "object_position": null,
            "object_fit": null,
            "grid_auto_columns": null,
            "margin": null,
            "display": null,
            "left": null
          }
        },
        "2c505bb7c73a41ca9e1e97f6240d6b16": {
          "model_module": "@jupyter-widgets/controls",
          "model_name": "DescriptionStyleModel",
          "state": {
            "_view_name": "StyleView",
            "_model_name": "DescriptionStyleModel",
            "description_width": "",
            "_view_module": "@jupyter-widgets/base",
            "_model_module_version": "1.5.0",
            "_view_count": null,
            "_view_module_version": "1.2.0",
            "_model_module": "@jupyter-widgets/controls"
          }
        },
        "d4864830f92840dd8980d28946196aa5": {
          "model_module": "@jupyter-widgets/base",
          "model_name": "LayoutModel",
          "state": {
            "_view_name": "LayoutView",
            "grid_template_rows": null,
            "right": null,
            "justify_content": null,
            "_view_module": "@jupyter-widgets/base",
            "overflow": null,
            "_model_module_version": "1.2.0",
            "_view_count": null,
            "flex_flow": null,
            "width": null,
            "min_width": null,
            "border": null,
            "align_items": null,
            "bottom": null,
            "_model_module": "@jupyter-widgets/base",
            "top": null,
            "grid_column": null,
            "overflow_y": null,
            "overflow_x": null,
            "grid_auto_flow": null,
            "grid_area": null,
            "grid_template_columns": null,
            "flex": null,
            "_model_name": "LayoutModel",
            "justify_items": null,
            "grid_row": null,
            "max_height": null,
            "align_content": null,
            "visibility": null,
            "align_self": null,
            "height": null,
            "min_height": null,
            "padding": null,
            "grid_auto_rows": null,
            "grid_gap": null,
            "max_width": null,
            "order": null,
            "_view_module_version": "1.2.0",
            "grid_template_areas": null,
            "object_position": null,
            "object_fit": null,
            "grid_auto_columns": null,
            "margin": null,
            "display": null,
            "left": null
          }
        },
        "97792c7f89df49d8a6ad4df096fda444": {
          "model_module": "@jupyter-widgets/controls",
          "model_name": "HBoxModel",
          "state": {
            "_view_name": "HBoxView",
            "_dom_classes": [],
            "_model_name": "HBoxModel",
            "_view_module": "@jupyter-widgets/controls",
            "_model_module_version": "1.5.0",
            "_view_count": null,
            "_view_module_version": "1.5.0",
            "box_style": "",
            "layout": "IPY_MODEL_3dd9b53390dc4833954ecb71a6200dd9",
            "_model_module": "@jupyter-widgets/controls",
            "children": [
              "IPY_MODEL_4fd40a78ab9546b7b5cba861daf44aec",
              "IPY_MODEL_f1c974cae19b4a30a2b5844a26293f0f"
            ]
          }
        },
        "3dd9b53390dc4833954ecb71a6200dd9": {
          "model_module": "@jupyter-widgets/base",
          "model_name": "LayoutModel",
          "state": {
            "_view_name": "LayoutView",
            "grid_template_rows": null,
            "right": null,
            "justify_content": null,
            "_view_module": "@jupyter-widgets/base",
            "overflow": null,
            "_model_module_version": "1.2.0",
            "_view_count": null,
            "flex_flow": null,
            "width": null,
            "min_width": null,
            "border": null,
            "align_items": null,
            "bottom": null,
            "_model_module": "@jupyter-widgets/base",
            "top": null,
            "grid_column": null,
            "overflow_y": null,
            "overflow_x": null,
            "grid_auto_flow": null,
            "grid_area": null,
            "grid_template_columns": null,
            "flex": null,
            "_model_name": "LayoutModel",
            "justify_items": null,
            "grid_row": null,
            "max_height": null,
            "align_content": null,
            "visibility": null,
            "align_self": null,
            "height": null,
            "min_height": null,
            "padding": null,
            "grid_auto_rows": null,
            "grid_gap": null,
            "max_width": null,
            "order": null,
            "_view_module_version": "1.2.0",
            "grid_template_areas": null,
            "object_position": null,
            "object_fit": null,
            "grid_auto_columns": null,
            "margin": null,
            "display": null,
            "left": null
          }
        },
        "4fd40a78ab9546b7b5cba861daf44aec": {
          "model_module": "@jupyter-widgets/controls",
          "model_name": "FloatProgressModel",
          "state": {
            "_view_name": "ProgressView",
            "style": "IPY_MODEL_4a3f77aad67d47d0abd736fda8a4f03b",
            "_dom_classes": [],
            "description": "Downloading: 100%",
            "_model_name": "FloatProgressModel",
            "bar_style": "success",
            "max": 155,
            "_view_module": "@jupyter-widgets/controls",
            "_model_module_version": "1.5.0",
            "value": 155,
            "_view_count": null,
            "_view_module_version": "1.5.0",
            "orientation": "horizontal",
            "min": 0,
            "description_tooltip": null,
            "_model_module": "@jupyter-widgets/controls",
            "layout": "IPY_MODEL_8848fdaf755b44c2a40b85a878bed817"
          }
        },
        "f1c974cae19b4a30a2b5844a26293f0f": {
          "model_module": "@jupyter-widgets/controls",
          "model_name": "HTMLModel",
          "state": {
            "_view_name": "HTMLView",
            "style": "IPY_MODEL_9ecef52de6604c3a95791289dd803233",
            "_dom_classes": [],
            "description": "",
            "_model_name": "HTMLModel",
            "placeholder": "​",
            "_view_module": "@jupyter-widgets/controls",
            "_model_module_version": "1.5.0",
            "value": " 155/155 [00:00&lt;00:00, 737B/s]",
            "_view_count": null,
            "_view_module_version": "1.5.0",
            "description_tooltip": null,
            "_model_module": "@jupyter-widgets/controls",
            "layout": "IPY_MODEL_7107fec5b27a460696a8150cc268325f"
          }
        },
        "4a3f77aad67d47d0abd736fda8a4f03b": {
          "model_module": "@jupyter-widgets/controls",
          "model_name": "ProgressStyleModel",
          "state": {
            "_view_name": "StyleView",
            "_model_name": "ProgressStyleModel",
            "description_width": "initial",
            "_view_module": "@jupyter-widgets/base",
            "_model_module_version": "1.5.0",
            "_view_count": null,
            "_view_module_version": "1.2.0",
            "bar_color": null,
            "_model_module": "@jupyter-widgets/controls"
          }
        },
        "8848fdaf755b44c2a40b85a878bed817": {
          "model_module": "@jupyter-widgets/base",
          "model_name": "LayoutModel",
          "state": {
            "_view_name": "LayoutView",
            "grid_template_rows": null,
            "right": null,
            "justify_content": null,
            "_view_module": "@jupyter-widgets/base",
            "overflow": null,
            "_model_module_version": "1.2.0",
            "_view_count": null,
            "flex_flow": null,
            "width": null,
            "min_width": null,
            "border": null,
            "align_items": null,
            "bottom": null,
            "_model_module": "@jupyter-widgets/base",
            "top": null,
            "grid_column": null,
            "overflow_y": null,
            "overflow_x": null,
            "grid_auto_flow": null,
            "grid_area": null,
            "grid_template_columns": null,
            "flex": null,
            "_model_name": "LayoutModel",
            "justify_items": null,
            "grid_row": null,
            "max_height": null,
            "align_content": null,
            "visibility": null,
            "align_self": null,
            "height": null,
            "min_height": null,
            "padding": null,
            "grid_auto_rows": null,
            "grid_gap": null,
            "max_width": null,
            "order": null,
            "_view_module_version": "1.2.0",
            "grid_template_areas": null,
            "object_position": null,
            "object_fit": null,
            "grid_auto_columns": null,
            "margin": null,
            "display": null,
            "left": null
          }
        },
        "9ecef52de6604c3a95791289dd803233": {
          "model_module": "@jupyter-widgets/controls",
          "model_name": "DescriptionStyleModel",
          "state": {
            "_view_name": "StyleView",
            "_model_name": "DescriptionStyleModel",
            "description_width": "",
            "_view_module": "@jupyter-widgets/base",
            "_model_module_version": "1.5.0",
            "_view_count": null,
            "_view_module_version": "1.2.0",
            "_model_module": "@jupyter-widgets/controls"
          }
        },
        "7107fec5b27a460696a8150cc268325f": {
          "model_module": "@jupyter-widgets/base",
          "model_name": "LayoutModel",
          "state": {
            "_view_name": "LayoutView",
            "grid_template_rows": null,
            "right": null,
            "justify_content": null,
            "_view_module": "@jupyter-widgets/base",
            "overflow": null,
            "_model_module_version": "1.2.0",
            "_view_count": null,
            "flex_flow": null,
            "width": null,
            "min_width": null,
            "border": null,
            "align_items": null,
            "bottom": null,
            "_model_module": "@jupyter-widgets/base",
            "top": null,
            "grid_column": null,
            "overflow_y": null,
            "overflow_x": null,
            "grid_auto_flow": null,
            "grid_area": null,
            "grid_template_columns": null,
            "flex": null,
            "_model_name": "LayoutModel",
            "justify_items": null,
            "grid_row": null,
            "max_height": null,
            "align_content": null,
            "visibility": null,
            "align_self": null,
            "height": null,
            "min_height": null,
            "padding": null,
            "grid_auto_rows": null,
            "grid_gap": null,
            "max_width": null,
            "order": null,
            "_view_module_version": "1.2.0",
            "grid_template_areas": null,
            "object_position": null,
            "object_fit": null,
            "grid_auto_columns": null,
            "margin": null,
            "display": null,
            "left": null
          }
        },
        "0239f991fe6b40dd9820f01ecf28cc4f": {
          "model_module": "@jupyter-widgets/controls",
          "model_name": "HBoxModel",
          "state": {
            "_view_name": "HBoxView",
            "_dom_classes": [],
            "_model_name": "HBoxModel",
            "_view_module": "@jupyter-widgets/controls",
            "_model_module_version": "1.5.0",
            "_view_count": null,
            "_view_module_version": "1.5.0",
            "box_style": "",
            "layout": "IPY_MODEL_384feb5d571449fbb4f85949136c272a",
            "_model_module": "@jupyter-widgets/controls",
            "children": [
              "IPY_MODEL_4409b3f9dc9d4cd1a539caafe8001c67",
              "IPY_MODEL_32dc4ef022e24c93aab241f68dd47624"
            ]
          }
        },
        "384feb5d571449fbb4f85949136c272a": {
          "model_module": "@jupyter-widgets/base",
          "model_name": "LayoutModel",
          "state": {
            "_view_name": "LayoutView",
            "grid_template_rows": null,
            "right": null,
            "justify_content": null,
            "_view_module": "@jupyter-widgets/base",
            "overflow": null,
            "_model_module_version": "1.2.0",
            "_view_count": null,
            "flex_flow": null,
            "width": null,
            "min_width": null,
            "border": null,
            "align_items": null,
            "bottom": null,
            "_model_module": "@jupyter-widgets/base",
            "top": null,
            "grid_column": null,
            "overflow_y": null,
            "overflow_x": null,
            "grid_auto_flow": null,
            "grid_area": null,
            "grid_template_columns": null,
            "flex": null,
            "_model_name": "LayoutModel",
            "justify_items": null,
            "grid_row": null,
            "max_height": null,
            "align_content": null,
            "visibility": null,
            "align_self": null,
            "height": null,
            "min_height": null,
            "padding": null,
            "grid_auto_rows": null,
            "grid_gap": null,
            "max_width": null,
            "order": null,
            "_view_module_version": "1.2.0",
            "grid_template_areas": null,
            "object_position": null,
            "object_fit": null,
            "grid_auto_columns": null,
            "margin": null,
            "display": null,
            "left": null
          }
        },
        "4409b3f9dc9d4cd1a539caafe8001c67": {
          "model_module": "@jupyter-widgets/controls",
          "model_name": "FloatProgressModel",
          "state": {
            "_view_name": "ProgressView",
            "style": "IPY_MODEL_53b1bb8b4656470ca579a337c750a698",
            "_dom_classes": [],
            "description": "Downloading: 100%",
            "_model_name": "FloatProgressModel",
            "bar_style": "success",
            "max": 231508,
            "_view_module": "@jupyter-widgets/controls",
            "_model_module_version": "1.5.0",
            "value": 231508,
            "_view_count": null,
            "_view_module_version": "1.5.0",
            "orientation": "horizontal",
            "min": 0,
            "description_tooltip": null,
            "_model_module": "@jupyter-widgets/controls",
            "layout": "IPY_MODEL_5a3b9832c9dd43f78e1234440a469ec7"
          }
        },
        "32dc4ef022e24c93aab241f68dd47624": {
          "model_module": "@jupyter-widgets/controls",
          "model_name": "HTMLModel",
          "state": {
            "_view_name": "HTMLView",
            "style": "IPY_MODEL_c8816dcbb705458c84a0959782e4922c",
            "_dom_classes": [],
            "description": "",
            "_model_name": "HTMLModel",
            "placeholder": "​",
            "_view_module": "@jupyter-widgets/controls",
            "_model_module_version": "1.5.0",
            "value": " 232k/232k [00:00&lt;00:00, 1.31MB/s]",
            "_view_count": null,
            "_view_module_version": "1.5.0",
            "description_tooltip": null,
            "_model_module": "@jupyter-widgets/controls",
            "layout": "IPY_MODEL_2642654ce57043eea57b3321d1f2d5b3"
          }
        },
        "53b1bb8b4656470ca579a337c750a698": {
          "model_module": "@jupyter-widgets/controls",
          "model_name": "ProgressStyleModel",
          "state": {
            "_view_name": "StyleView",
            "_model_name": "ProgressStyleModel",
            "description_width": "initial",
            "_view_module": "@jupyter-widgets/base",
            "_model_module_version": "1.5.0",
            "_view_count": null,
            "_view_module_version": "1.2.0",
            "bar_color": null,
            "_model_module": "@jupyter-widgets/controls"
          }
        },
        "5a3b9832c9dd43f78e1234440a469ec7": {
          "model_module": "@jupyter-widgets/base",
          "model_name": "LayoutModel",
          "state": {
            "_view_name": "LayoutView",
            "grid_template_rows": null,
            "right": null,
            "justify_content": null,
            "_view_module": "@jupyter-widgets/base",
            "overflow": null,
            "_model_module_version": "1.2.0",
            "_view_count": null,
            "flex_flow": null,
            "width": null,
            "min_width": null,
            "border": null,
            "align_items": null,
            "bottom": null,
            "_model_module": "@jupyter-widgets/base",
            "top": null,
            "grid_column": null,
            "overflow_y": null,
            "overflow_x": null,
            "grid_auto_flow": null,
            "grid_area": null,
            "grid_template_columns": null,
            "flex": null,
            "_model_name": "LayoutModel",
            "justify_items": null,
            "grid_row": null,
            "max_height": null,
            "align_content": null,
            "visibility": null,
            "align_self": null,
            "height": null,
            "min_height": null,
            "padding": null,
            "grid_auto_rows": null,
            "grid_gap": null,
            "max_width": null,
            "order": null,
            "_view_module_version": "1.2.0",
            "grid_template_areas": null,
            "object_position": null,
            "object_fit": null,
            "grid_auto_columns": null,
            "margin": null,
            "display": null,
            "left": null
          }
        },
        "c8816dcbb705458c84a0959782e4922c": {
          "model_module": "@jupyter-widgets/controls",
          "model_name": "DescriptionStyleModel",
          "state": {
            "_view_name": "StyleView",
            "_model_name": "DescriptionStyleModel",
            "description_width": "",
            "_view_module": "@jupyter-widgets/base",
            "_model_module_version": "1.5.0",
            "_view_count": null,
            "_view_module_version": "1.2.0",
            "_model_module": "@jupyter-widgets/controls"
          }
        },
        "2642654ce57043eea57b3321d1f2d5b3": {
          "model_module": "@jupyter-widgets/base",
          "model_name": "LayoutModel",
          "state": {
            "_view_name": "LayoutView",
            "grid_template_rows": null,
            "right": null,
            "justify_content": null,
            "_view_module": "@jupyter-widgets/base",
            "overflow": null,
            "_model_module_version": "1.2.0",
            "_view_count": null,
            "flex_flow": null,
            "width": null,
            "min_width": null,
            "border": null,
            "align_items": null,
            "bottom": null,
            "_model_module": "@jupyter-widgets/base",
            "top": null,
            "grid_column": null,
            "overflow_y": null,
            "overflow_x": null,
            "grid_auto_flow": null,
            "grid_area": null,
            "grid_template_columns": null,
            "flex": null,
            "_model_name": "LayoutModel",
            "justify_items": null,
            "grid_row": null,
            "max_height": null,
            "align_content": null,
            "visibility": null,
            "align_self": null,
            "height": null,
            "min_height": null,
            "padding": null,
            "grid_auto_rows": null,
            "grid_gap": null,
            "max_width": null,
            "order": null,
            "_view_module_version": "1.2.0",
            "grid_template_areas": null,
            "object_position": null,
            "object_fit": null,
            "grid_auto_columns": null,
            "margin": null,
            "display": null,
            "left": null
          }
        },
        "d872ca7c7061457b93fa2353b3460a58": {
          "model_module": "@jupyter-widgets/controls",
          "model_name": "HBoxModel",
          "state": {
            "_view_name": "HBoxView",
            "_dom_classes": [],
            "_model_name": "HBoxModel",
            "_view_module": "@jupyter-widgets/controls",
            "_model_module_version": "1.5.0",
            "_view_count": null,
            "_view_module_version": "1.5.0",
            "box_style": "",
            "layout": "IPY_MODEL_a170c42b9c294fd089f0ceb7b28930c2",
            "_model_module": "@jupyter-widgets/controls",
            "children": [
              "IPY_MODEL_abf49571c4e6425185cf2fc78cf1a9bc",
              "IPY_MODEL_249843f481e24a0a8bc853a335384fe2"
            ]
          }
        },
        "a170c42b9c294fd089f0ceb7b28930c2": {
          "model_module": "@jupyter-widgets/base",
          "model_name": "LayoutModel",
          "state": {
            "_view_name": "LayoutView",
            "grid_template_rows": null,
            "right": null,
            "justify_content": null,
            "_view_module": "@jupyter-widgets/base",
            "overflow": null,
            "_model_module_version": "1.2.0",
            "_view_count": null,
            "flex_flow": null,
            "width": null,
            "min_width": null,
            "border": null,
            "align_items": null,
            "bottom": null,
            "_model_module": "@jupyter-widgets/base",
            "top": null,
            "grid_column": null,
            "overflow_y": null,
            "overflow_x": null,
            "grid_auto_flow": null,
            "grid_area": null,
            "grid_template_columns": null,
            "flex": null,
            "_model_name": "LayoutModel",
            "justify_items": null,
            "grid_row": null,
            "max_height": null,
            "align_content": null,
            "visibility": null,
            "align_self": null,
            "height": null,
            "min_height": null,
            "padding": null,
            "grid_auto_rows": null,
            "grid_gap": null,
            "max_width": null,
            "order": null,
            "_view_module_version": "1.2.0",
            "grid_template_areas": null,
            "object_position": null,
            "object_fit": null,
            "grid_auto_columns": null,
            "margin": null,
            "display": null,
            "left": null
          }
        },
        "abf49571c4e6425185cf2fc78cf1a9bc": {
          "model_module": "@jupyter-widgets/controls",
          "model_name": "FloatProgressModel",
          "state": {
            "_view_name": "ProgressView",
            "style": "IPY_MODEL_b2ff695dfd2f49f1aebf6b415c3f48b1",
            "_dom_classes": [],
            "description": "Downloading: 100%",
            "_model_name": "FloatProgressModel",
            "bar_style": "success",
            "max": 231508,
            "_view_module": "@jupyter-widgets/controls",
            "_model_module_version": "1.5.0",
            "value": 231508,
            "_view_count": null,
            "_view_module_version": "1.5.0",
            "orientation": "horizontal",
            "min": 0,
            "description_tooltip": null,
            "_model_module": "@jupyter-widgets/controls",
            "layout": "IPY_MODEL_9efce8adef4f4f0f8d9e3ec6a01533a9"
          }
        },
        "249843f481e24a0a8bc853a335384fe2": {
          "model_module": "@jupyter-widgets/controls",
          "model_name": "HTMLModel",
          "state": {
            "_view_name": "HTMLView",
            "style": "IPY_MODEL_84ed142f17fe46cab07f8f12e249a411",
            "_dom_classes": [],
            "description": "",
            "_model_name": "HTMLModel",
            "placeholder": "​",
            "_view_module": "@jupyter-widgets/controls",
            "_model_module_version": "1.5.0",
            "value": " 232k/232k [00:00&lt;00:00, 1.37MB/s]",
            "_view_count": null,
            "_view_module_version": "1.5.0",
            "description_tooltip": null,
            "_model_module": "@jupyter-widgets/controls",
            "layout": "IPY_MODEL_d7358320f8564d59a0c0090790762fdd"
          }
        },
        "b2ff695dfd2f49f1aebf6b415c3f48b1": {
          "model_module": "@jupyter-widgets/controls",
          "model_name": "ProgressStyleModel",
          "state": {
            "_view_name": "StyleView",
            "_model_name": "ProgressStyleModel",
            "description_width": "initial",
            "_view_module": "@jupyter-widgets/base",
            "_model_module_version": "1.5.0",
            "_view_count": null,
            "_view_module_version": "1.2.0",
            "bar_color": null,
            "_model_module": "@jupyter-widgets/controls"
          }
        },
        "9efce8adef4f4f0f8d9e3ec6a01533a9": {
          "model_module": "@jupyter-widgets/base",
          "model_name": "LayoutModel",
          "state": {
            "_view_name": "LayoutView",
            "grid_template_rows": null,
            "right": null,
            "justify_content": null,
            "_view_module": "@jupyter-widgets/base",
            "overflow": null,
            "_model_module_version": "1.2.0",
            "_view_count": null,
            "flex_flow": null,
            "width": null,
            "min_width": null,
            "border": null,
            "align_items": null,
            "bottom": null,
            "_model_module": "@jupyter-widgets/base",
            "top": null,
            "grid_column": null,
            "overflow_y": null,
            "overflow_x": null,
            "grid_auto_flow": null,
            "grid_area": null,
            "grid_template_columns": null,
            "flex": null,
            "_model_name": "LayoutModel",
            "justify_items": null,
            "grid_row": null,
            "max_height": null,
            "align_content": null,
            "visibility": null,
            "align_self": null,
            "height": null,
            "min_height": null,
            "padding": null,
            "grid_auto_rows": null,
            "grid_gap": null,
            "max_width": null,
            "order": null,
            "_view_module_version": "1.2.0",
            "grid_template_areas": null,
            "object_position": null,
            "object_fit": null,
            "grid_auto_columns": null,
            "margin": null,
            "display": null,
            "left": null
          }
        },
        "84ed142f17fe46cab07f8f12e249a411": {
          "model_module": "@jupyter-widgets/controls",
          "model_name": "DescriptionStyleModel",
          "state": {
            "_view_name": "StyleView",
            "_model_name": "DescriptionStyleModel",
            "description_width": "",
            "_view_module": "@jupyter-widgets/base",
            "_model_module_version": "1.5.0",
            "_view_count": null,
            "_view_module_version": "1.2.0",
            "_model_module": "@jupyter-widgets/controls"
          }
        },
        "d7358320f8564d59a0c0090790762fdd": {
          "model_module": "@jupyter-widgets/base",
          "model_name": "LayoutModel",
          "state": {
            "_view_name": "LayoutView",
            "grid_template_rows": null,
            "right": null,
            "justify_content": null,
            "_view_module": "@jupyter-widgets/base",
            "overflow": null,
            "_model_module_version": "1.2.0",
            "_view_count": null,
            "flex_flow": null,
            "width": null,
            "min_width": null,
            "border": null,
            "align_items": null,
            "bottom": null,
            "_model_module": "@jupyter-widgets/base",
            "top": null,
            "grid_column": null,
            "overflow_y": null,
            "overflow_x": null,
            "grid_auto_flow": null,
            "grid_area": null,
            "grid_template_columns": null,
            "flex": null,
            "_model_name": "LayoutModel",
            "justify_items": null,
            "grid_row": null,
            "max_height": null,
            "align_content": null,
            "visibility": null,
            "align_self": null,
            "height": null,
            "min_height": null,
            "padding": null,
            "grid_auto_rows": null,
            "grid_gap": null,
            "max_width": null,
            "order": null,
            "_view_module_version": "1.2.0",
            "grid_template_areas": null,
            "object_position": null,
            "object_fit": null,
            "grid_auto_columns": null,
            "margin": null,
            "display": null,
            "left": null
          }
        },
        "047a27a96aaa4782b97cce5c83ca13da": {
          "model_module": "@jupyter-widgets/controls",
          "model_name": "HBoxModel",
          "state": {
            "_view_name": "HBoxView",
            "_dom_classes": [],
            "_model_name": "HBoxModel",
            "_view_module": "@jupyter-widgets/controls",
            "_model_module_version": "1.5.0",
            "_view_count": null,
            "_view_module_version": "1.5.0",
            "box_style": "",
            "layout": "IPY_MODEL_e02cc93676e84f80aa3a498a14f4e044",
            "_model_module": "@jupyter-widgets/controls",
            "children": [
              "IPY_MODEL_63c58fc5020546f9aebc4dab39b1d699",
              "IPY_MODEL_dd7c24e0d721467a9a08602f3f2479c6"
            ]
          }
        },
        "e02cc93676e84f80aa3a498a14f4e044": {
          "model_module": "@jupyter-widgets/base",
          "model_name": "LayoutModel",
          "state": {
            "_view_name": "LayoutView",
            "grid_template_rows": null,
            "right": null,
            "justify_content": null,
            "_view_module": "@jupyter-widgets/base",
            "overflow": null,
            "_model_module_version": "1.2.0",
            "_view_count": null,
            "flex_flow": null,
            "width": null,
            "min_width": null,
            "border": null,
            "align_items": null,
            "bottom": null,
            "_model_module": "@jupyter-widgets/base",
            "top": null,
            "grid_column": null,
            "overflow_y": null,
            "overflow_x": null,
            "grid_auto_flow": null,
            "grid_area": null,
            "grid_template_columns": null,
            "flex": null,
            "_model_name": "LayoutModel",
            "justify_items": null,
            "grid_row": null,
            "max_height": null,
            "align_content": null,
            "visibility": null,
            "align_self": null,
            "height": null,
            "min_height": null,
            "padding": null,
            "grid_auto_rows": null,
            "grid_gap": null,
            "max_width": null,
            "order": null,
            "_view_module_version": "1.2.0",
            "grid_template_areas": null,
            "object_position": null,
            "object_fit": null,
            "grid_auto_columns": null,
            "margin": null,
            "display": null,
            "left": null
          }
        },
        "63c58fc5020546f9aebc4dab39b1d699": {
          "model_module": "@jupyter-widgets/controls",
          "model_name": "FloatProgressModel",
          "state": {
            "_view_name": "ProgressView",
            "style": "IPY_MODEL_1277cf50cecd4c5197f2ead923a5bc47",
            "_dom_classes": [],
            "description": "Downloading: 100%",
            "_model_name": "FloatProgressModel",
            "bar_style": "success",
            "max": 648,
            "_view_module": "@jupyter-widgets/controls",
            "_model_module_version": "1.5.0",
            "value": 648,
            "_view_count": null,
            "_view_module_version": "1.5.0",
            "orientation": "horizontal",
            "min": 0,
            "description_tooltip": null,
            "_model_module": "@jupyter-widgets/controls",
            "layout": "IPY_MODEL_7ae2f859376e42beaf386f85e2288884"
          }
        },
        "dd7c24e0d721467a9a08602f3f2479c6": {
          "model_module": "@jupyter-widgets/controls",
          "model_name": "HTMLModel",
          "state": {
            "_view_name": "HTMLView",
            "style": "IPY_MODEL_b4f771cde5b0443c9bd845610ca6fa67",
            "_dom_classes": [],
            "description": "",
            "_model_name": "HTMLModel",
            "placeholder": "​",
            "_view_module": "@jupyter-widgets/controls",
            "_model_module_version": "1.5.0",
            "value": " 648/648 [00:24&lt;00:00, 25.9B/s]",
            "_view_count": null,
            "_view_module_version": "1.5.0",
            "description_tooltip": null,
            "_model_module": "@jupyter-widgets/controls",
            "layout": "IPY_MODEL_86fbff08134c4335868a24d561c1f469"
          }
        },
        "1277cf50cecd4c5197f2ead923a5bc47": {
          "model_module": "@jupyter-widgets/controls",
          "model_name": "ProgressStyleModel",
          "state": {
            "_view_name": "StyleView",
            "_model_name": "ProgressStyleModel",
            "description_width": "initial",
            "_view_module": "@jupyter-widgets/base",
            "_model_module_version": "1.5.0",
            "_view_count": null,
            "_view_module_version": "1.2.0",
            "bar_color": null,
            "_model_module": "@jupyter-widgets/controls"
          }
        },
        "7ae2f859376e42beaf386f85e2288884": {
          "model_module": "@jupyter-widgets/base",
          "model_name": "LayoutModel",
          "state": {
            "_view_name": "LayoutView",
            "grid_template_rows": null,
            "right": null,
            "justify_content": null,
            "_view_module": "@jupyter-widgets/base",
            "overflow": null,
            "_model_module_version": "1.2.0",
            "_view_count": null,
            "flex_flow": null,
            "width": null,
            "min_width": null,
            "border": null,
            "align_items": null,
            "bottom": null,
            "_model_module": "@jupyter-widgets/base",
            "top": null,
            "grid_column": null,
            "overflow_y": null,
            "overflow_x": null,
            "grid_auto_flow": null,
            "grid_area": null,
            "grid_template_columns": null,
            "flex": null,
            "_model_name": "LayoutModel",
            "justify_items": null,
            "grid_row": null,
            "max_height": null,
            "align_content": null,
            "visibility": null,
            "align_self": null,
            "height": null,
            "min_height": null,
            "padding": null,
            "grid_auto_rows": null,
            "grid_gap": null,
            "max_width": null,
            "order": null,
            "_view_module_version": "1.2.0",
            "grid_template_areas": null,
            "object_position": null,
            "object_fit": null,
            "grid_auto_columns": null,
            "margin": null,
            "display": null,
            "left": null
          }
        },
        "b4f771cde5b0443c9bd845610ca6fa67": {
          "model_module": "@jupyter-widgets/controls",
          "model_name": "DescriptionStyleModel",
          "state": {
            "_view_name": "StyleView",
            "_model_name": "DescriptionStyleModel",
            "description_width": "",
            "_view_module": "@jupyter-widgets/base",
            "_model_module_version": "1.5.0",
            "_view_count": null,
            "_view_module_version": "1.2.0",
            "_model_module": "@jupyter-widgets/controls"
          }
        },
        "86fbff08134c4335868a24d561c1f469": {
          "model_module": "@jupyter-widgets/base",
          "model_name": "LayoutModel",
          "state": {
            "_view_name": "LayoutView",
            "grid_template_rows": null,
            "right": null,
            "justify_content": null,
            "_view_module": "@jupyter-widgets/base",
            "overflow": null,
            "_model_module_version": "1.2.0",
            "_view_count": null,
            "flex_flow": null,
            "width": null,
            "min_width": null,
            "border": null,
            "align_items": null,
            "bottom": null,
            "_model_module": "@jupyter-widgets/base",
            "top": null,
            "grid_column": null,
            "overflow_y": null,
            "overflow_x": null,
            "grid_auto_flow": null,
            "grid_area": null,
            "grid_template_columns": null,
            "flex": null,
            "_model_name": "LayoutModel",
            "justify_items": null,
            "grid_row": null,
            "max_height": null,
            "align_content": null,
            "visibility": null,
            "align_self": null,
            "height": null,
            "min_height": null,
            "padding": null,
            "grid_auto_rows": null,
            "grid_gap": null,
            "max_width": null,
            "order": null,
            "_view_module_version": "1.2.0",
            "grid_template_areas": null,
            "object_position": null,
            "object_fit": null,
            "grid_auto_columns": null,
            "margin": null,
            "display": null,
            "left": null
          }
        },
        "be5c41704be3482ea543c1f7986d0ab3": {
          "model_module": "@jupyter-widgets/controls",
          "model_name": "HBoxModel",
          "state": {
            "_view_name": "HBoxView",
            "_dom_classes": [],
            "_model_name": "HBoxModel",
            "_view_module": "@jupyter-widgets/controls",
            "_model_module_version": "1.5.0",
            "_view_count": null,
            "_view_module_version": "1.5.0",
            "box_style": "",
            "layout": "IPY_MODEL_9021236616dc43d49b7878e3efd3fc89",
            "_model_module": "@jupyter-widgets/controls",
            "children": [
              "IPY_MODEL_a5ea36e6c1474d5eb1ff303e426bcc17",
              "IPY_MODEL_20cf34fb0b2740c4ba1ecdadc2cfd0ac"
            ]
          }
        },
        "9021236616dc43d49b7878e3efd3fc89": {
          "model_module": "@jupyter-widgets/base",
          "model_name": "LayoutModel",
          "state": {
            "_view_name": "LayoutView",
            "grid_template_rows": null,
            "right": null,
            "justify_content": null,
            "_view_module": "@jupyter-widgets/base",
            "overflow": null,
            "_model_module_version": "1.2.0",
            "_view_count": null,
            "flex_flow": null,
            "width": null,
            "min_width": null,
            "border": null,
            "align_items": null,
            "bottom": null,
            "_model_module": "@jupyter-widgets/base",
            "top": null,
            "grid_column": null,
            "overflow_y": null,
            "overflow_x": null,
            "grid_auto_flow": null,
            "grid_area": null,
            "grid_template_columns": null,
            "flex": null,
            "_model_name": "LayoutModel",
            "justify_items": null,
            "grid_row": null,
            "max_height": null,
            "align_content": null,
            "visibility": null,
            "align_self": null,
            "height": null,
            "min_height": null,
            "padding": null,
            "grid_auto_rows": null,
            "grid_gap": null,
            "max_width": null,
            "order": null,
            "_view_module_version": "1.2.0",
            "grid_template_areas": null,
            "object_position": null,
            "object_fit": null,
            "grid_auto_columns": null,
            "margin": null,
            "display": null,
            "left": null
          }
        },
        "a5ea36e6c1474d5eb1ff303e426bcc17": {
          "model_module": "@jupyter-widgets/controls",
          "model_name": "FloatProgressModel",
          "state": {
            "_view_name": "ProgressView",
            "style": "IPY_MODEL_e389fa8d249040598ba7fa36d217421a",
            "_dom_classes": [],
            "description": "Downloading: 100%",
            "_model_name": "FloatProgressModel",
            "bar_style": "success",
            "max": 1342014951,
            "_view_module": "@jupyter-widgets/controls",
            "_model_module_version": "1.5.0",
            "value": 1342014951,
            "_view_count": null,
            "_view_module_version": "1.5.0",
            "orientation": "horizontal",
            "min": 0,
            "description_tooltip": null,
            "_model_module": "@jupyter-widgets/controls",
            "layout": "IPY_MODEL_c6284450fbc24f5bbb5cd45d961ecd17"
          }
        },
        "20cf34fb0b2740c4ba1ecdadc2cfd0ac": {
          "model_module": "@jupyter-widgets/controls",
          "model_name": "HTMLModel",
          "state": {
            "_view_name": "HTMLView",
            "style": "IPY_MODEL_c7017d2a2831435fb3cdc5c1fbeb5bb1",
            "_dom_classes": [],
            "description": "",
            "_model_name": "HTMLModel",
            "placeholder": "​",
            "_view_module": "@jupyter-widgets/controls",
            "_model_module_version": "1.5.0",
            "value": " 1.34G/1.34G [00:24&lt;00:00, 55.6MB/s]",
            "_view_count": null,
            "_view_module_version": "1.5.0",
            "description_tooltip": null,
            "_model_module": "@jupyter-widgets/controls",
            "layout": "IPY_MODEL_d26849409cf84e8d818b146e6d8722d1"
          }
        },
        "e389fa8d249040598ba7fa36d217421a": {
          "model_module": "@jupyter-widgets/controls",
          "model_name": "ProgressStyleModel",
          "state": {
            "_view_name": "StyleView",
            "_model_name": "ProgressStyleModel",
            "description_width": "initial",
            "_view_module": "@jupyter-widgets/base",
            "_model_module_version": "1.5.0",
            "_view_count": null,
            "_view_module_version": "1.2.0",
            "bar_color": null,
            "_model_module": "@jupyter-widgets/controls"
          }
        },
        "c6284450fbc24f5bbb5cd45d961ecd17": {
          "model_module": "@jupyter-widgets/base",
          "model_name": "LayoutModel",
          "state": {
            "_view_name": "LayoutView",
            "grid_template_rows": null,
            "right": null,
            "justify_content": null,
            "_view_module": "@jupyter-widgets/base",
            "overflow": null,
            "_model_module_version": "1.2.0",
            "_view_count": null,
            "flex_flow": null,
            "width": null,
            "min_width": null,
            "border": null,
            "align_items": null,
            "bottom": null,
            "_model_module": "@jupyter-widgets/base",
            "top": null,
            "grid_column": null,
            "overflow_y": null,
            "overflow_x": null,
            "grid_auto_flow": null,
            "grid_area": null,
            "grid_template_columns": null,
            "flex": null,
            "_model_name": "LayoutModel",
            "justify_items": null,
            "grid_row": null,
            "max_height": null,
            "align_content": null,
            "visibility": null,
            "align_self": null,
            "height": null,
            "min_height": null,
            "padding": null,
            "grid_auto_rows": null,
            "grid_gap": null,
            "max_width": null,
            "order": null,
            "_view_module_version": "1.2.0",
            "grid_template_areas": null,
            "object_position": null,
            "object_fit": null,
            "grid_auto_columns": null,
            "margin": null,
            "display": null,
            "left": null
          }
        },
        "c7017d2a2831435fb3cdc5c1fbeb5bb1": {
          "model_module": "@jupyter-widgets/controls",
          "model_name": "DescriptionStyleModel",
          "state": {
            "_view_name": "StyleView",
            "_model_name": "DescriptionStyleModel",
            "description_width": "",
            "_view_module": "@jupyter-widgets/base",
            "_model_module_version": "1.5.0",
            "_view_count": null,
            "_view_module_version": "1.2.0",
            "_model_module": "@jupyter-widgets/controls"
          }
        },
        "d26849409cf84e8d818b146e6d8722d1": {
          "model_module": "@jupyter-widgets/base",
          "model_name": "LayoutModel",
          "state": {
            "_view_name": "LayoutView",
            "grid_template_rows": null,
            "right": null,
            "justify_content": null,
            "_view_module": "@jupyter-widgets/base",
            "overflow": null,
            "_model_module_version": "1.2.0",
            "_view_count": null,
            "flex_flow": null,
            "width": null,
            "min_width": null,
            "border": null,
            "align_items": null,
            "bottom": null,
            "_model_module": "@jupyter-widgets/base",
            "top": null,
            "grid_column": null,
            "overflow_y": null,
            "overflow_x": null,
            "grid_auto_flow": null,
            "grid_area": null,
            "grid_template_columns": null,
            "flex": null,
            "_model_name": "LayoutModel",
            "justify_items": null,
            "grid_row": null,
            "max_height": null,
            "align_content": null,
            "visibility": null,
            "align_self": null,
            "height": null,
            "min_height": null,
            "padding": null,
            "grid_auto_rows": null,
            "grid_gap": null,
            "max_width": null,
            "order": null,
            "_view_module_version": "1.2.0",
            "grid_template_areas": null,
            "object_position": null,
            "object_fit": null,
            "grid_auto_columns": null,
            "margin": null,
            "display": null,
            "left": null
          }
        },
        "c807f558303c43709022f458bb15a0a9": {
          "model_module": "@jupyter-widgets/controls",
          "model_name": "HBoxModel",
          "state": {
            "_view_name": "HBoxView",
            "_dom_classes": [],
            "_model_name": "HBoxModel",
            "_view_module": "@jupyter-widgets/controls",
            "_model_module_version": "1.5.0",
            "_view_count": null,
            "_view_module_version": "1.5.0",
            "box_style": "",
            "layout": "IPY_MODEL_83c1b9e017b04e86b89e85335aee23cb",
            "_model_module": "@jupyter-widgets/controls",
            "children": [
              "IPY_MODEL_30144a0f92964596869e820fa0d4b75a",
              "IPY_MODEL_8cc8732e749a47e7bb2592934c810721"
            ]
          }
        },
        "83c1b9e017b04e86b89e85335aee23cb": {
          "model_module": "@jupyter-widgets/base",
          "model_name": "LayoutModel",
          "state": {
            "_view_name": "LayoutView",
            "grid_template_rows": null,
            "right": null,
            "justify_content": null,
            "_view_module": "@jupyter-widgets/base",
            "overflow": null,
            "_model_module_version": "1.2.0",
            "_view_count": null,
            "flex_flow": null,
            "width": null,
            "min_width": null,
            "border": null,
            "align_items": null,
            "bottom": null,
            "_model_module": "@jupyter-widgets/base",
            "top": null,
            "grid_column": null,
            "overflow_y": null,
            "overflow_x": null,
            "grid_auto_flow": null,
            "grid_area": null,
            "grid_template_columns": null,
            "flex": null,
            "_model_name": "LayoutModel",
            "justify_items": null,
            "grid_row": null,
            "max_height": null,
            "align_content": null,
            "visibility": null,
            "align_self": null,
            "height": null,
            "min_height": null,
            "padding": null,
            "grid_auto_rows": null,
            "grid_gap": null,
            "max_width": null,
            "order": null,
            "_view_module_version": "1.2.0",
            "grid_template_areas": null,
            "object_position": null,
            "object_fit": null,
            "grid_auto_columns": null,
            "margin": null,
            "display": null,
            "left": null
          }
        },
        "30144a0f92964596869e820fa0d4b75a": {
          "model_module": "@jupyter-widgets/controls",
          "model_name": "FloatProgressModel",
          "state": {
            "_view_name": "ProgressView",
            "style": "IPY_MODEL_553ad448cbac463db1e50850e5d0c0e2",
            "_dom_classes": [],
            "description": "Downloading: 100%",
            "_model_name": "FloatProgressModel",
            "bar_style": "success",
            "max": 434,
            "_view_module": "@jupyter-widgets/controls",
            "_model_module_version": "1.5.0",
            "value": 434,
            "_view_count": null,
            "_view_module_version": "1.5.0",
            "orientation": "horizontal",
            "min": 0,
            "description_tooltip": null,
            "_model_module": "@jupyter-widgets/controls",
            "layout": "IPY_MODEL_fcba10eaf6bc4988a3fb162891606a4c"
          }
        },
        "8cc8732e749a47e7bb2592934c810721": {
          "model_module": "@jupyter-widgets/controls",
          "model_name": "HTMLModel",
          "state": {
            "_view_name": "HTMLView",
            "style": "IPY_MODEL_78916270b5724755bb756231bd3a3776",
            "_dom_classes": [],
            "description": "",
            "_model_name": "HTMLModel",
            "placeholder": "​",
            "_view_module": "@jupyter-widgets/controls",
            "_model_module_version": "1.5.0",
            "value": " 434/434 [00:47&lt;00:00, 9.20B/s]",
            "_view_count": null,
            "_view_module_version": "1.5.0",
            "description_tooltip": null,
            "_model_module": "@jupyter-widgets/controls",
            "layout": "IPY_MODEL_95a4eb2dee424ce6a825c46cbc1c1017"
          }
        },
        "553ad448cbac463db1e50850e5d0c0e2": {
          "model_module": "@jupyter-widgets/controls",
          "model_name": "ProgressStyleModel",
          "state": {
            "_view_name": "StyleView",
            "_model_name": "ProgressStyleModel",
            "description_width": "initial",
            "_view_module": "@jupyter-widgets/base",
            "_model_module_version": "1.5.0",
            "_view_count": null,
            "_view_module_version": "1.2.0",
            "bar_color": null,
            "_model_module": "@jupyter-widgets/controls"
          }
        },
        "fcba10eaf6bc4988a3fb162891606a4c": {
          "model_module": "@jupyter-widgets/base",
          "model_name": "LayoutModel",
          "state": {
            "_view_name": "LayoutView",
            "grid_template_rows": null,
            "right": null,
            "justify_content": null,
            "_view_module": "@jupyter-widgets/base",
            "overflow": null,
            "_model_module_version": "1.2.0",
            "_view_count": null,
            "flex_flow": null,
            "width": null,
            "min_width": null,
            "border": null,
            "align_items": null,
            "bottom": null,
            "_model_module": "@jupyter-widgets/base",
            "top": null,
            "grid_column": null,
            "overflow_y": null,
            "overflow_x": null,
            "grid_auto_flow": null,
            "grid_area": null,
            "grid_template_columns": null,
            "flex": null,
            "_model_name": "LayoutModel",
            "justify_items": null,
            "grid_row": null,
            "max_height": null,
            "align_content": null,
            "visibility": null,
            "align_self": null,
            "height": null,
            "min_height": null,
            "padding": null,
            "grid_auto_rows": null,
            "grid_gap": null,
            "max_width": null,
            "order": null,
            "_view_module_version": "1.2.0",
            "grid_template_areas": null,
            "object_position": null,
            "object_fit": null,
            "grid_auto_columns": null,
            "margin": null,
            "display": null,
            "left": null
          }
        },
        "78916270b5724755bb756231bd3a3776": {
          "model_module": "@jupyter-widgets/controls",
          "model_name": "DescriptionStyleModel",
          "state": {
            "_view_name": "StyleView",
            "_model_name": "DescriptionStyleModel",
            "description_width": "",
            "_view_module": "@jupyter-widgets/base",
            "_model_module_version": "1.5.0",
            "_view_count": null,
            "_view_module_version": "1.2.0",
            "_model_module": "@jupyter-widgets/controls"
          }
        },
        "95a4eb2dee424ce6a825c46cbc1c1017": {
          "model_module": "@jupyter-widgets/base",
          "model_name": "LayoutModel",
          "state": {
            "_view_name": "LayoutView",
            "grid_template_rows": null,
            "right": null,
            "justify_content": null,
            "_view_module": "@jupyter-widgets/base",
            "overflow": null,
            "_model_module_version": "1.2.0",
            "_view_count": null,
            "flex_flow": null,
            "width": null,
            "min_width": null,
            "border": null,
            "align_items": null,
            "bottom": null,
            "_model_module": "@jupyter-widgets/base",
            "top": null,
            "grid_column": null,
            "overflow_y": null,
            "overflow_x": null,
            "grid_auto_flow": null,
            "grid_area": null,
            "grid_template_columns": null,
            "flex": null,
            "_model_name": "LayoutModel",
            "justify_items": null,
            "grid_row": null,
            "max_height": null,
            "align_content": null,
            "visibility": null,
            "align_self": null,
            "height": null,
            "min_height": null,
            "padding": null,
            "grid_auto_rows": null,
            "grid_gap": null,
            "max_width": null,
            "order": null,
            "_view_module_version": "1.2.0",
            "grid_template_areas": null,
            "object_position": null,
            "object_fit": null,
            "grid_auto_columns": null,
            "margin": null,
            "display": null,
            "left": null
          }
        },
        "6fc873cb07c5437cb49e7b6f1a88093e": {
          "model_module": "@jupyter-widgets/controls",
          "model_name": "HBoxModel",
          "state": {
            "_view_name": "HBoxView",
            "_dom_classes": [],
            "_model_name": "HBoxModel",
            "_view_module": "@jupyter-widgets/controls",
            "_model_module_version": "1.5.0",
            "_view_count": null,
            "_view_module_version": "1.5.0",
            "box_style": "",
            "layout": "IPY_MODEL_507aa3ab69c140f2af2c25410e89c0ac",
            "_model_module": "@jupyter-widgets/controls",
            "children": [
              "IPY_MODEL_4c46d7eb05a0489ebbfbf96945c6fb7a",
              "IPY_MODEL_617796065bbf404e8aee0aad01177a61"
            ]
          }
        },
        "507aa3ab69c140f2af2c25410e89c0ac": {
          "model_module": "@jupyter-widgets/base",
          "model_name": "LayoutModel",
          "state": {
            "_view_name": "LayoutView",
            "grid_template_rows": null,
            "right": null,
            "justify_content": null,
            "_view_module": "@jupyter-widgets/base",
            "overflow": null,
            "_model_module_version": "1.2.0",
            "_view_count": null,
            "flex_flow": null,
            "width": null,
            "min_width": null,
            "border": null,
            "align_items": null,
            "bottom": null,
            "_model_module": "@jupyter-widgets/base",
            "top": null,
            "grid_column": null,
            "overflow_y": null,
            "overflow_x": null,
            "grid_auto_flow": null,
            "grid_area": null,
            "grid_template_columns": null,
            "flex": null,
            "_model_name": "LayoutModel",
            "justify_items": null,
            "grid_row": null,
            "max_height": null,
            "align_content": null,
            "visibility": null,
            "align_self": null,
            "height": null,
            "min_height": null,
            "padding": null,
            "grid_auto_rows": null,
            "grid_gap": null,
            "max_width": null,
            "order": null,
            "_view_module_version": "1.2.0",
            "grid_template_areas": null,
            "object_position": null,
            "object_fit": null,
            "grid_auto_columns": null,
            "margin": null,
            "display": null,
            "left": null
          }
        },
        "4c46d7eb05a0489ebbfbf96945c6fb7a": {
          "model_module": "@jupyter-widgets/controls",
          "model_name": "FloatProgressModel",
          "state": {
            "_view_name": "ProgressView",
            "style": "IPY_MODEL_ecf13d9a02ac4190b7d177e8310b5af0",
            "_dom_classes": [],
            "description": "Downloading: 100%",
            "_model_name": "FloatProgressModel",
            "bar_style": "success",
            "max": 1344997306,
            "_view_module": "@jupyter-widgets/controls",
            "_model_module_version": "1.5.0",
            "value": 1344997306,
            "_view_count": null,
            "_view_module_version": "1.5.0",
            "orientation": "horizontal",
            "min": 0,
            "description_tooltip": null,
            "_model_module": "@jupyter-widgets/controls",
            "layout": "IPY_MODEL_354a02a07858423e8d89f3ecded3f279"
          }
        },
        "617796065bbf404e8aee0aad01177a61": {
          "model_module": "@jupyter-widgets/controls",
          "model_name": "HTMLModel",
          "state": {
            "_view_name": "HTMLView",
            "style": "IPY_MODEL_6230f71bb07049fba11c2f25c2fdd7ea",
            "_dom_classes": [],
            "description": "",
            "_model_name": "HTMLModel",
            "placeholder": "​",
            "_view_module": "@jupyter-widgets/controls",
            "_model_module_version": "1.5.0",
            "value": " 1.34G/1.34G [00:46&lt;00:00, 28.7MB/s]",
            "_view_count": null,
            "_view_module_version": "1.5.0",
            "description_tooltip": null,
            "_model_module": "@jupyter-widgets/controls",
            "layout": "IPY_MODEL_6b38186427234590909c427b388f99dc"
          }
        },
        "ecf13d9a02ac4190b7d177e8310b5af0": {
          "model_module": "@jupyter-widgets/controls",
          "model_name": "ProgressStyleModel",
          "state": {
            "_view_name": "StyleView",
            "_model_name": "ProgressStyleModel",
            "description_width": "initial",
            "_view_module": "@jupyter-widgets/base",
            "_model_module_version": "1.5.0",
            "_view_count": null,
            "_view_module_version": "1.2.0",
            "bar_color": null,
            "_model_module": "@jupyter-widgets/controls"
          }
        },
        "354a02a07858423e8d89f3ecded3f279": {
          "model_module": "@jupyter-widgets/base",
          "model_name": "LayoutModel",
          "state": {
            "_view_name": "LayoutView",
            "grid_template_rows": null,
            "right": null,
            "justify_content": null,
            "_view_module": "@jupyter-widgets/base",
            "overflow": null,
            "_model_module_version": "1.2.0",
            "_view_count": null,
            "flex_flow": null,
            "width": null,
            "min_width": null,
            "border": null,
            "align_items": null,
            "bottom": null,
            "_model_module": "@jupyter-widgets/base",
            "top": null,
            "grid_column": null,
            "overflow_y": null,
            "overflow_x": null,
            "grid_auto_flow": null,
            "grid_area": null,
            "grid_template_columns": null,
            "flex": null,
            "_model_name": "LayoutModel",
            "justify_items": null,
            "grid_row": null,
            "max_height": null,
            "align_content": null,
            "visibility": null,
            "align_self": null,
            "height": null,
            "min_height": null,
            "padding": null,
            "grid_auto_rows": null,
            "grid_gap": null,
            "max_width": null,
            "order": null,
            "_view_module_version": "1.2.0",
            "grid_template_areas": null,
            "object_position": null,
            "object_fit": null,
            "grid_auto_columns": null,
            "margin": null,
            "display": null,
            "left": null
          }
        },
        "6230f71bb07049fba11c2f25c2fdd7ea": {
          "model_module": "@jupyter-widgets/controls",
          "model_name": "DescriptionStyleModel",
          "state": {
            "_view_name": "StyleView",
            "_model_name": "DescriptionStyleModel",
            "description_width": "",
            "_view_module": "@jupyter-widgets/base",
            "_model_module_version": "1.5.0",
            "_view_count": null,
            "_view_module_version": "1.2.0",
            "_model_module": "@jupyter-widgets/controls"
          }
        },
        "6b38186427234590909c427b388f99dc": {
          "model_module": "@jupyter-widgets/base",
          "model_name": "LayoutModel",
          "state": {
            "_view_name": "LayoutView",
            "grid_template_rows": null,
            "right": null,
            "justify_content": null,
            "_view_module": "@jupyter-widgets/base",
            "overflow": null,
            "_model_module_version": "1.2.0",
            "_view_count": null,
            "flex_flow": null,
            "width": null,
            "min_width": null,
            "border": null,
            "align_items": null,
            "bottom": null,
            "_model_module": "@jupyter-widgets/base",
            "top": null,
            "grid_column": null,
            "overflow_y": null,
            "overflow_x": null,
            "grid_auto_flow": null,
            "grid_area": null,
            "grid_template_columns": null,
            "flex": null,
            "_model_name": "LayoutModel",
            "justify_items": null,
            "grid_row": null,
            "max_height": null,
            "align_content": null,
            "visibility": null,
            "align_self": null,
            "height": null,
            "min_height": null,
            "padding": null,
            "grid_auto_rows": null,
            "grid_gap": null,
            "max_width": null,
            "order": null,
            "_view_module_version": "1.2.0",
            "grid_template_areas": null,
            "object_position": null,
            "object_fit": null,
            "grid_auto_columns": null,
            "margin": null,
            "display": null,
            "left": null
          }
        },
        "c7cf3ad121fd41e7b11a715ab8b3d8a8": {
          "model_module": "@jupyter-widgets/controls",
          "model_name": "HBoxModel",
          "state": {
            "_view_name": "HBoxView",
            "_dom_classes": [],
            "_model_name": "HBoxModel",
            "_view_module": "@jupyter-widgets/controls",
            "_model_module_version": "1.5.0",
            "_view_count": null,
            "_view_module_version": "1.5.0",
            "box_style": "",
            "layout": "IPY_MODEL_5be66919559847e5b769de3041bf67f2",
            "_model_module": "@jupyter-widgets/controls",
            "children": [
              "IPY_MODEL_19fb951c306646139ff8c520c6c82901",
              "IPY_MODEL_96b0d711b72e49338b6b4b7930d75078"
            ]
          }
        },
        "5be66919559847e5b769de3041bf67f2": {
          "model_module": "@jupyter-widgets/base",
          "model_name": "LayoutModel",
          "state": {
            "_view_name": "LayoutView",
            "grid_template_rows": null,
            "right": null,
            "justify_content": null,
            "_view_module": "@jupyter-widgets/base",
            "overflow": null,
            "_model_module_version": "1.2.0",
            "_view_count": null,
            "flex_flow": null,
            "width": null,
            "min_width": null,
            "border": null,
            "align_items": null,
            "bottom": null,
            "_model_module": "@jupyter-widgets/base",
            "top": null,
            "grid_column": null,
            "overflow_y": null,
            "overflow_x": null,
            "grid_auto_flow": null,
            "grid_area": null,
            "grid_template_columns": null,
            "flex": null,
            "_model_name": "LayoutModel",
            "justify_items": null,
            "grid_row": null,
            "max_height": null,
            "align_content": null,
            "visibility": null,
            "align_self": null,
            "height": null,
            "min_height": null,
            "padding": null,
            "grid_auto_rows": null,
            "grid_gap": null,
            "max_width": null,
            "order": null,
            "_view_module_version": "1.2.0",
            "grid_template_areas": null,
            "object_position": null,
            "object_fit": null,
            "grid_auto_columns": null,
            "margin": null,
            "display": null,
            "left": null
          }
        },
        "19fb951c306646139ff8c520c6c82901": {
          "model_module": "@jupyter-widgets/controls",
          "model_name": "FloatProgressModel",
          "state": {
            "_view_name": "ProgressView",
            "style": "IPY_MODEL_10c0f5e42ba142dcb06a354c0132a5db",
            "_dom_classes": [],
            "description": "Downloading: 100%",
            "_model_name": "FloatProgressModel",
            "bar_style": "success",
            "max": 433,
            "_view_module": "@jupyter-widgets/controls",
            "_model_module_version": "1.5.0",
            "value": 433,
            "_view_count": null,
            "_view_module_version": "1.5.0",
            "orientation": "horizontal",
            "min": 0,
            "description_tooltip": null,
            "_model_module": "@jupyter-widgets/controls",
            "layout": "IPY_MODEL_e51671f1af5f41289a077bac47b81345"
          }
        },
        "96b0d711b72e49338b6b4b7930d75078": {
          "model_module": "@jupyter-widgets/controls",
          "model_name": "HTMLModel",
          "state": {
            "_view_name": "HTMLView",
            "style": "IPY_MODEL_73e5cda652554bdab288320257d88ef6",
            "_dom_classes": [],
            "description": "",
            "_model_name": "HTMLModel",
            "placeholder": "​",
            "_view_module": "@jupyter-widgets/controls",
            "_model_module_version": "1.5.0",
            "value": " 433/433 [00:08&lt;00:00, 49.4B/s]",
            "_view_count": null,
            "_view_module_version": "1.5.0",
            "description_tooltip": null,
            "_model_module": "@jupyter-widgets/controls",
            "layout": "IPY_MODEL_f4b88efaabe64dd29fa74dbfa58b4838"
          }
        },
        "10c0f5e42ba142dcb06a354c0132a5db": {
          "model_module": "@jupyter-widgets/controls",
          "model_name": "ProgressStyleModel",
          "state": {
            "_view_name": "StyleView",
            "_model_name": "ProgressStyleModel",
            "description_width": "initial",
            "_view_module": "@jupyter-widgets/base",
            "_model_module_version": "1.5.0",
            "_view_count": null,
            "_view_module_version": "1.2.0",
            "bar_color": null,
            "_model_module": "@jupyter-widgets/controls"
          }
        },
        "e51671f1af5f41289a077bac47b81345": {
          "model_module": "@jupyter-widgets/base",
          "model_name": "LayoutModel",
          "state": {
            "_view_name": "LayoutView",
            "grid_template_rows": null,
            "right": null,
            "justify_content": null,
            "_view_module": "@jupyter-widgets/base",
            "overflow": null,
            "_model_module_version": "1.2.0",
            "_view_count": null,
            "flex_flow": null,
            "width": null,
            "min_width": null,
            "border": null,
            "align_items": null,
            "bottom": null,
            "_model_module": "@jupyter-widgets/base",
            "top": null,
            "grid_column": null,
            "overflow_y": null,
            "overflow_x": null,
            "grid_auto_flow": null,
            "grid_area": null,
            "grid_template_columns": null,
            "flex": null,
            "_model_name": "LayoutModel",
            "justify_items": null,
            "grid_row": null,
            "max_height": null,
            "align_content": null,
            "visibility": null,
            "align_self": null,
            "height": null,
            "min_height": null,
            "padding": null,
            "grid_auto_rows": null,
            "grid_gap": null,
            "max_width": null,
            "order": null,
            "_view_module_version": "1.2.0",
            "grid_template_areas": null,
            "object_position": null,
            "object_fit": null,
            "grid_auto_columns": null,
            "margin": null,
            "display": null,
            "left": null
          }
        },
        "73e5cda652554bdab288320257d88ef6": {
          "model_module": "@jupyter-widgets/controls",
          "model_name": "DescriptionStyleModel",
          "state": {
            "_view_name": "StyleView",
            "_model_name": "DescriptionStyleModel",
            "description_width": "",
            "_view_module": "@jupyter-widgets/base",
            "_model_module_version": "1.5.0",
            "_view_count": null,
            "_view_module_version": "1.2.0",
            "_model_module": "@jupyter-widgets/controls"
          }
        },
        "f4b88efaabe64dd29fa74dbfa58b4838": {
          "model_module": "@jupyter-widgets/base",
          "model_name": "LayoutModel",
          "state": {
            "_view_name": "LayoutView",
            "grid_template_rows": null,
            "right": null,
            "justify_content": null,
            "_view_module": "@jupyter-widgets/base",
            "overflow": null,
            "_model_module_version": "1.2.0",
            "_view_count": null,
            "flex_flow": null,
            "width": null,
            "min_width": null,
            "border": null,
            "align_items": null,
            "bottom": null,
            "_model_module": "@jupyter-widgets/base",
            "top": null,
            "grid_column": null,
            "overflow_y": null,
            "overflow_x": null,
            "grid_auto_flow": null,
            "grid_area": null,
            "grid_template_columns": null,
            "flex": null,
            "_model_name": "LayoutModel",
            "justify_items": null,
            "grid_row": null,
            "max_height": null,
            "align_content": null,
            "visibility": null,
            "align_self": null,
            "height": null,
            "min_height": null,
            "padding": null,
            "grid_auto_rows": null,
            "grid_gap": null,
            "max_width": null,
            "order": null,
            "_view_module_version": "1.2.0",
            "grid_template_areas": null,
            "object_position": null,
            "object_fit": null,
            "grid_auto_columns": null,
            "margin": null,
            "display": null,
            "left": null
          }
        },
        "d0007c73ab924ea4ba00ed69c1d55d7d": {
          "model_module": "@jupyter-widgets/controls",
          "model_name": "HBoxModel",
          "state": {
            "_view_name": "HBoxView",
            "_dom_classes": [],
            "_model_name": "HBoxModel",
            "_view_module": "@jupyter-widgets/controls",
            "_model_module_version": "1.5.0",
            "_view_count": null,
            "_view_module_version": "1.5.0",
            "box_style": "",
            "layout": "IPY_MODEL_2e232d29fa334d6ea595f710fe91c319",
            "_model_module": "@jupyter-widgets/controls",
            "children": [
              "IPY_MODEL_242f69c9150f4b37afc66605eddc372d",
              "IPY_MODEL_9bb944543da1452e87c9eebb9ee73107"
            ]
          }
        },
        "2e232d29fa334d6ea595f710fe91c319": {
          "model_module": "@jupyter-widgets/base",
          "model_name": "LayoutModel",
          "state": {
            "_view_name": "LayoutView",
            "grid_template_rows": null,
            "right": null,
            "justify_content": null,
            "_view_module": "@jupyter-widgets/base",
            "overflow": null,
            "_model_module_version": "1.2.0",
            "_view_count": null,
            "flex_flow": null,
            "width": null,
            "min_width": null,
            "border": null,
            "align_items": null,
            "bottom": null,
            "_model_module": "@jupyter-widgets/base",
            "top": null,
            "grid_column": null,
            "overflow_y": null,
            "overflow_x": null,
            "grid_auto_flow": null,
            "grid_area": null,
            "grid_template_columns": null,
            "flex": null,
            "_model_name": "LayoutModel",
            "justify_items": null,
            "grid_row": null,
            "max_height": null,
            "align_content": null,
            "visibility": null,
            "align_self": null,
            "height": null,
            "min_height": null,
            "padding": null,
            "grid_auto_rows": null,
            "grid_gap": null,
            "max_width": null,
            "order": null,
            "_view_module_version": "1.2.0",
            "grid_template_areas": null,
            "object_position": null,
            "object_fit": null,
            "grid_auto_columns": null,
            "margin": null,
            "display": null,
            "left": null
          }
        },
        "242f69c9150f4b37afc66605eddc372d": {
          "model_module": "@jupyter-widgets/controls",
          "model_name": "FloatProgressModel",
          "state": {
            "_view_name": "ProgressView",
            "style": "IPY_MODEL_dd92b36f74db474ab6bca2a9b411c9c5",
            "_dom_classes": [],
            "description": "Downloading: 100%",
            "_model_name": "FloatProgressModel",
            "bar_style": "success",
            "max": 440473133,
            "_view_module": "@jupyter-widgets/controls",
            "_model_module_version": "1.5.0",
            "value": 440473133,
            "_view_count": null,
            "_view_module_version": "1.5.0",
            "orientation": "horizontal",
            "min": 0,
            "description_tooltip": null,
            "_model_module": "@jupyter-widgets/controls",
            "layout": "IPY_MODEL_ba003ad2875e427d8cb98ac396ff69af"
          }
        },
        "9bb944543da1452e87c9eebb9ee73107": {
          "model_module": "@jupyter-widgets/controls",
          "model_name": "HTMLModel",
          "state": {
            "_view_name": "HTMLView",
            "style": "IPY_MODEL_0ff9011849e048b39b1d48797d1287bd",
            "_dom_classes": [],
            "description": "",
            "_model_name": "HTMLModel",
            "placeholder": "​",
            "_view_module": "@jupyter-widgets/controls",
            "_model_module_version": "1.5.0",
            "value": " 440M/440M [00:08&lt;00:00, 52.1MB/s]",
            "_view_count": null,
            "_view_module_version": "1.5.0",
            "description_tooltip": null,
            "_model_module": "@jupyter-widgets/controls",
            "layout": "IPY_MODEL_4cad9fd54a524097a788a3e77eda4489"
          }
        },
        "dd92b36f74db474ab6bca2a9b411c9c5": {
          "model_module": "@jupyter-widgets/controls",
          "model_name": "ProgressStyleModel",
          "state": {
            "_view_name": "StyleView",
            "_model_name": "ProgressStyleModel",
            "description_width": "initial",
            "_view_module": "@jupyter-widgets/base",
            "_model_module_version": "1.5.0",
            "_view_count": null,
            "_view_module_version": "1.2.0",
            "bar_color": null,
            "_model_module": "@jupyter-widgets/controls"
          }
        },
        "ba003ad2875e427d8cb98ac396ff69af": {
          "model_module": "@jupyter-widgets/base",
          "model_name": "LayoutModel",
          "state": {
            "_view_name": "LayoutView",
            "grid_template_rows": null,
            "right": null,
            "justify_content": null,
            "_view_module": "@jupyter-widgets/base",
            "overflow": null,
            "_model_module_version": "1.2.0",
            "_view_count": null,
            "flex_flow": null,
            "width": null,
            "min_width": null,
            "border": null,
            "align_items": null,
            "bottom": null,
            "_model_module": "@jupyter-widgets/base",
            "top": null,
            "grid_column": null,
            "overflow_y": null,
            "overflow_x": null,
            "grid_auto_flow": null,
            "grid_area": null,
            "grid_template_columns": null,
            "flex": null,
            "_model_name": "LayoutModel",
            "justify_items": null,
            "grid_row": null,
            "max_height": null,
            "align_content": null,
            "visibility": null,
            "align_self": null,
            "height": null,
            "min_height": null,
            "padding": null,
            "grid_auto_rows": null,
            "grid_gap": null,
            "max_width": null,
            "order": null,
            "_view_module_version": "1.2.0",
            "grid_template_areas": null,
            "object_position": null,
            "object_fit": null,
            "grid_auto_columns": null,
            "margin": null,
            "display": null,
            "left": null
          }
        },
        "0ff9011849e048b39b1d48797d1287bd": {
          "model_module": "@jupyter-widgets/controls",
          "model_name": "DescriptionStyleModel",
          "state": {
            "_view_name": "StyleView",
            "_model_name": "DescriptionStyleModel",
            "description_width": "",
            "_view_module": "@jupyter-widgets/base",
            "_model_module_version": "1.5.0",
            "_view_count": null,
            "_view_module_version": "1.2.0",
            "_model_module": "@jupyter-widgets/controls"
          }
        },
        "4cad9fd54a524097a788a3e77eda4489": {
          "model_module": "@jupyter-widgets/base",
          "model_name": "LayoutModel",
          "state": {
            "_view_name": "LayoutView",
            "grid_template_rows": null,
            "right": null,
            "justify_content": null,
            "_view_module": "@jupyter-widgets/base",
            "overflow": null,
            "_model_module_version": "1.2.0",
            "_view_count": null,
            "flex_flow": null,
            "width": null,
            "min_width": null,
            "border": null,
            "align_items": null,
            "bottom": null,
            "_model_module": "@jupyter-widgets/base",
            "top": null,
            "grid_column": null,
            "overflow_y": null,
            "overflow_x": null,
            "grid_auto_flow": null,
            "grid_area": null,
            "grid_template_columns": null,
            "flex": null,
            "_model_name": "LayoutModel",
            "justify_items": null,
            "grid_row": null,
            "max_height": null,
            "align_content": null,
            "visibility": null,
            "align_self": null,
            "height": null,
            "min_height": null,
            "padding": null,
            "grid_auto_rows": null,
            "grid_gap": null,
            "max_width": null,
            "order": null,
            "_view_module_version": "1.2.0",
            "grid_template_areas": null,
            "object_position": null,
            "object_fit": null,
            "grid_auto_columns": null,
            "margin": null,
            "display": null,
            "left": null
          }
        }
      }
    }
  },
  "cells": [
    {
      "cell_type": "markdown",
      "metadata": {
        "id": "view-in-github",
        "colab_type": "text"
      },
      "source": [
        "<a href=\"https://colab.research.google.com/github/osmarbraz/exemplos_python/blob/master/ExemplosBERTTransformers.ipynb\" target=\"_parent\"><img src=\"https://colab.research.google.com/assets/colab-badge.svg\" alt=\"Open In Colab\"/></a>"
      ]
    },
    {
      "cell_type": "markdown",
      "metadata": {
        "id": "9VTUgBXSzaGh"
      },
      "source": [
        "#Exemplos de uso do BERT in Transformers by Huggingface\n",
        "\n",
        "Exemplo de uso BERT através da biblioteca `Transformer` da [Huggingface](https://huggingface.co/transformers/).\n",
        "\n",
        "- Exemplo de carregamento do tokenizador e modelo através de diretório e da comunidade\n",
        "  - Download do arquivos do modelo \n",
        "- Função de retorno do tokenizador. \n",
        "- Função de retorno do modelo. \n",
        "- Função de retorno do tokenizador e do modelo. \n",
        "\n",
        "-----------------------------------------\n",
        "**Guia Colab Iniciante:**\n",
        "\n",
        "https://medium.com/machina-sapiens/google-colab-guia-do-iniciante-334d70aad531\n",
        "\n",
        "**Documentação oficial:**\n",
        "\n",
        "https://colab.research.google.com/github/jakevdp/PythonDataScienceHandbook/blob/master/notebooks/01.01-Help-And-Documentation.ipynb\n",
        "\n",
        "**Características :**\n",
        "\n",
        "https://colab.research.google.com/notebooks/basic_features_overview.ipynb\n"
      ]
    },
    {
      "cell_type": "markdown",
      "metadata": {
        "id": "WOwhoI1lzi-s"
      },
      "source": [
        "# 1 Instalação dos pacotes das biblioteca Transformer"
      ]
    },
    {
      "cell_type": "code",
      "metadata": {
        "id": "UNn1DGlMzNDa",
        "outputId": "e5d610f3-e46c-40cb-faf6-42dcdbc6c51d",
        "colab": {
          "base_uri": "https://localhost:8080/",
          "height": 655
        }
      },
      "source": [
        "!pip install transformers"
      ],
      "execution_count": 1,
      "outputs": [
        {
          "output_type": "stream",
          "text": [
            "Collecting transformers\n",
            "\u001b[?25l  Downloading https://files.pythonhosted.org/packages/19/22/aff234f4a841f8999e68a7a94bdd4b60b4cebcfeca5d67d61cd08c9179de/transformers-3.3.1-py3-none-any.whl (1.1MB)\n",
            "\u001b[K     |████████████████████████████████| 1.1MB 3.4MB/s \n",
            "\u001b[?25hCollecting sentencepiece!=0.1.92\n",
            "\u001b[?25l  Downloading https://files.pythonhosted.org/packages/d4/a4/d0a884c4300004a78cca907a6ff9a5e9fe4f090f5d95ab341c53d28cbc58/sentencepiece-0.1.91-cp36-cp36m-manylinux1_x86_64.whl (1.1MB)\n",
            "\u001b[K     |████████████████████████████████| 1.1MB 22.4MB/s \n",
            "\u001b[?25hRequirement already satisfied: tqdm>=4.27 in /usr/local/lib/python3.6/dist-packages (from transformers) (4.41.1)\n",
            "Requirement already satisfied: numpy in /usr/local/lib/python3.6/dist-packages (from transformers) (1.18.5)\n",
            "Requirement already satisfied: regex!=2019.12.17 in /usr/local/lib/python3.6/dist-packages (from transformers) (2019.12.20)\n",
            "Requirement already satisfied: filelock in /usr/local/lib/python3.6/dist-packages (from transformers) (3.0.12)\n",
            "Collecting tokenizers==0.8.1.rc2\n",
            "\u001b[?25l  Downloading https://files.pythonhosted.org/packages/80/83/8b9fccb9e48eeb575ee19179e2bdde0ee9a1904f97de5f02d19016b8804f/tokenizers-0.8.1rc2-cp36-cp36m-manylinux1_x86_64.whl (3.0MB)\n",
            "\u001b[K     |████████████████████████████████| 3.0MB 25.3MB/s \n",
            "\u001b[?25hRequirement already satisfied: packaging in /usr/local/lib/python3.6/dist-packages (from transformers) (20.4)\n",
            "Requirement already satisfied: requests in /usr/local/lib/python3.6/dist-packages (from transformers) (2.23.0)\n",
            "Collecting sacremoses\n",
            "\u001b[?25l  Downloading https://files.pythonhosted.org/packages/7d/34/09d19aff26edcc8eb2a01bed8e98f13a1537005d31e95233fd48216eed10/sacremoses-0.0.43.tar.gz (883kB)\n",
            "\u001b[K     |████████████████████████████████| 890kB 47.0MB/s \n",
            "\u001b[?25hRequirement already satisfied: dataclasses; python_version < \"3.7\" in /usr/local/lib/python3.6/dist-packages (from transformers) (0.7)\n",
            "Requirement already satisfied: pyparsing>=2.0.2 in /usr/local/lib/python3.6/dist-packages (from packaging->transformers) (2.4.7)\n",
            "Requirement already satisfied: six in /usr/local/lib/python3.6/dist-packages (from packaging->transformers) (1.15.0)\n",
            "Requirement already satisfied: chardet<4,>=3.0.2 in /usr/local/lib/python3.6/dist-packages (from requests->transformers) (3.0.4)\n",
            "Requirement already satisfied: urllib3!=1.25.0,!=1.25.1,<1.26,>=1.21.1 in /usr/local/lib/python3.6/dist-packages (from requests->transformers) (1.24.3)\n",
            "Requirement already satisfied: certifi>=2017.4.17 in /usr/local/lib/python3.6/dist-packages (from requests->transformers) (2020.6.20)\n",
            "Requirement already satisfied: idna<3,>=2.5 in /usr/local/lib/python3.6/dist-packages (from requests->transformers) (2.10)\n",
            "Requirement already satisfied: click in /usr/local/lib/python3.6/dist-packages (from sacremoses->transformers) (7.1.2)\n",
            "Requirement already satisfied: joblib in /usr/local/lib/python3.6/dist-packages (from sacremoses->transformers) (0.16.0)\n",
            "Building wheels for collected packages: sacremoses\n",
            "  Building wheel for sacremoses (setup.py) ... \u001b[?25l\u001b[?25hdone\n",
            "  Created wheel for sacremoses: filename=sacremoses-0.0.43-cp36-none-any.whl size=893257 sha256=a1e7f7064e983bc7fd3af80f5f531016c5d8b3af046abcf90324caaca2e3b578\n",
            "  Stored in directory: /root/.cache/pip/wheels/29/3c/fd/7ce5c3f0666dab31a50123635e6fb5e19ceb42ce38d4e58f45\n",
            "Successfully built sacremoses\n",
            "Installing collected packages: sentencepiece, tokenizers, sacremoses, transformers\n",
            "Successfully installed sacremoses-0.0.43 sentencepiece-0.1.91 tokenizers-0.8.1rc2 transformers-3.3.1\n"
          ],
          "name": "stdout"
        }
      ]
    },
    {
      "cell_type": "markdown",
      "metadata": {
        "id": "wsX_7pxMzvhS"
      },
      "source": [
        "# 2 Uso do BERT com Transfomer by Huggingface\n",
        "\n",
        "Os tokenizadores e os modelos PyTorch podem ser carregados diretamente da comunidade ou através do download de arquivos.\n",
        "\n",
        "Independente de onde foi carregado o tokenizador ou o modelo Pytorch existe a dpendência da instalação da biblioteca."
      ]
    },
    {
      "cell_type": "markdown",
      "metadata": {
        "id": "URuijJq7z7Kv"
      },
      "source": [
        "### Carregando BERT da comunidade\n",
        "\n",
        "Lista de **modelos da comunidade** podem ser consultadas em \n",
        "https://huggingface.co/models.\n",
        "\n",
        "Lista dos nomes dos modelos em **português** disponíveis na comunidade (https://github.com/neuralmind-ai/portuguese-bert):  \n",
        "* **'neuralmind/bert-base-portuguese-cased'**\n",
        "* **'neuralmind/bert-large-portuguese-cased'**\n",
        "\n",
        "Lista dos nomes dos modelos em **inglês** disponíveis na comunidade:\n",
        "* **'bert-base-uncased'**\n",
        "* **'bert-large-uncased'**\n",
        "\n",
        "O modelo do tokenizador pode ser acessado de duas formas, ou utilizando as AutoClasses ou Classes Específicas. A seguir as duas formas de carregar o modelo BERT."
      ]
    },
    {
      "cell_type": "markdown",
      "metadata": {
        "id": "0XwUuIioozUj"
      },
      "source": [
        "#### AutoClasses\n",
        "\n",
        "As `AutoClasses` recuperam automaticamente o modelo mais relevante, dado o nome/caminho para os pesos/configuração /vocabulário pré-treinados. A API destas classes podem ser consultadas [aqui](https://huggingface.co/transformers/model_doc/auto.html).\n",
        "\n",
        "A classe `AutoTokenizer` identifica a arquitetura a partir do nome ou do caminho do modelo pré-treinado que você está fornecendo ao método from_pretrained.\n",
        "\n",
        "Ao instanciar um  `AutoModel`, `AutoConfig` ou `AutoTokenizer` criará diretamente uma classe da arquitetura relevante, por exemplo:\n",
        "- `tokenizador = AutoTokenizer.from_pretrained('bert-base-cased')` \n",
        "  - criará uma instância de `BertTokenizerr`.\n",
        "- `model = AutoModel.from_pretrained('bert-base-cased')` \n",
        "  - criará uma instância de `BertModel`."
      ]
    },
    {
      "cell_type": "code",
      "metadata": {
        "id": "Jec62Nah0iQI",
        "outputId": "19eb6c4e-96d2-40a0-821a-86219108d08f",
        "colab": {
          "base_uri": "https://localhost:8080/",
          "height": 318,
          "referenced_widgets": [
            "5bdd612460a64ba2ae8f528f7aa0acc5",
            "e45ec1b0d2564491b8c39699a43a9fb6",
            "d58bb2f4918d4e1fbdc3da828f77d617",
            "4b045a6b3ca347e7b1279d5920bdedd4",
            "0835c8d754094c0e9f125a57974b3d49",
            "c18a3753278a44bdab2037c65e152ac0",
            "197560874a09406ebccd84a076699830",
            "7a9f0fea9d5d4ec8a75cc54544faa033",
            "5c8cde28aafe47c28875d01b357fded3",
            "d5e63b00429a40458c7f4ff0ec714eb1",
            "1411b0b8d204461096045948716cb58e",
            "5b84c0db187e420c97c1bfb0d048f61f",
            "27cc25c6962849d786d90cf5ac6dcec4",
            "cfdf1a503d7f4a8ba9054d36077393b4",
            "4591146a3cc049a3884271324e1c908d",
            "9763a1b5d20247ad953a327aba666dc5",
            "974f479bf6464afd9fd96c8b38a63ea4",
            "73d8cbc721354624a6cc29ae22f88d55",
            "f0f177e52aae4ed982cc287bda1b7381",
            "c36bcca1d46b4952bb9e948769589ad4",
            "234607760ea547d2aea2266532e9259e",
            "4d590af053fa4d2b97e9e2b854f51060",
            "7ad33e948ec04854baec1300f207250a",
            "9a319478a5b241938434bddaa602bd83",
            "221a5ec8d1e3492f90cf22e9b75d9274",
            "3d8a618593bf47bca6f452da20e7cae0",
            "20a3b2d8217241f48cef8a68045b076c",
            "d0e28dd039584800a65859df5c1a7f06",
            "3b771358f50c4dc08e6d56faf1538e56",
            "63a21a9cab3642e3b502a1df46b64532",
            "2f1fa90123b74faba7fae43c8eaf29d8",
            "f3b991ced9c8420a8c5eb200a80ce3a0",
            "3019465b701f4ae489a981b3080d3d9d",
            "4292c93aa74d488c982b05b516017ed1",
            "8370a68f487e4a7c9c2f2c6459dfd9f1",
            "faa8c9afd8194fd48cc482709898c453",
            "ccaa49a618b844a892ed25d1206e73cf",
            "68588d47c690407b9a08a863a0b17f66",
            "bb219610370a4ec084179ce9fbe39e3b",
            "76b7725ee15f4b9cb1722a25dece0191",
            "007ccc98bc174fa5806673f38d50b2a4",
            "caf2734bb0504861b2dca8abbc65be8e",
            "5ddca15bf10a43bc9c9c3f01843cc29f",
            "cc8021ffebd543d99a0adb47d3954bea",
            "a8ec3b158c1c43358085f80fd62ddc4f",
            "fd65f1fbb9eb49a7a3d3f3df85e00390",
            "f4f4875d53404fc7bf27b3cce0778637",
            "2e7bfa6e415544a6a95220acfdf3a22b"
          ]
        }
      },
      "source": [
        "# Importando as bibliotecas do Modelo e do Tokenizador\n",
        "from transformers import AutoModel, AutoTokenizer\n",
        "\n",
        "# Carregando o modelo do tokenizador o modelo do PyTorch da comunidade utilizando AutoClasses\n",
        "\n",
        "# Tokenizador do modelo utilizando as AutoClasses\n",
        "tokenizer = AutoTokenizer.from_pretrained('neuralmind/bert-base-portuguese-cased')\n",
        "\n",
        "# Modelo pré-treinado utilizando as AutoClasses\n",
        "model = AutoModel.from_pretrained('neuralmind/bert-base-portuguese-cased')"
      ],
      "execution_count": 2,
      "outputs": [
        {
          "output_type": "display_data",
          "data": {
            "application/vnd.jupyter.widget-view+json": {
              "model_id": "5bdd612460a64ba2ae8f528f7aa0acc5",
              "version_minor": 0,
              "version_major": 2
            },
            "text/plain": [
              "HBox(children=(FloatProgress(value=0.0, description='Downloading', max=647.0, style=ProgressStyle(description_…"
            ]
          },
          "metadata": {
            "tags": []
          }
        },
        {
          "output_type": "stream",
          "text": [
            "\n"
          ],
          "name": "stdout"
        },
        {
          "output_type": "display_data",
          "data": {
            "application/vnd.jupyter.widget-view+json": {
              "model_id": "5c8cde28aafe47c28875d01b357fded3",
              "version_minor": 0,
              "version_major": 2
            },
            "text/plain": [
              "HBox(children=(FloatProgress(value=0.0, description='Downloading', max=209528.0, style=ProgressStyle(descripti…"
            ]
          },
          "metadata": {
            "tags": []
          }
        },
        {
          "output_type": "stream",
          "text": [
            "\n"
          ],
          "name": "stdout"
        },
        {
          "output_type": "display_data",
          "data": {
            "application/vnd.jupyter.widget-view+json": {
              "model_id": "974f479bf6464afd9fd96c8b38a63ea4",
              "version_minor": 0,
              "version_major": 2
            },
            "text/plain": [
              "HBox(children=(FloatProgress(value=0.0, description='Downloading', max=2.0, style=ProgressStyle(description_wi…"
            ]
          },
          "metadata": {
            "tags": []
          }
        },
        {
          "output_type": "stream",
          "text": [
            "\n"
          ],
          "name": "stdout"
        },
        {
          "output_type": "display_data",
          "data": {
            "application/vnd.jupyter.widget-view+json": {
              "model_id": "221a5ec8d1e3492f90cf22e9b75d9274",
              "version_minor": 0,
              "version_major": 2
            },
            "text/plain": [
              "HBox(children=(FloatProgress(value=0.0, description='Downloading', max=112.0, style=ProgressStyle(description_…"
            ]
          },
          "metadata": {
            "tags": []
          }
        },
        {
          "output_type": "stream",
          "text": [
            "\n"
          ],
          "name": "stdout"
        },
        {
          "output_type": "display_data",
          "data": {
            "application/vnd.jupyter.widget-view+json": {
              "model_id": "3019465b701f4ae489a981b3080d3d9d",
              "version_minor": 0,
              "version_major": 2
            },
            "text/plain": [
              "HBox(children=(FloatProgress(value=0.0, description='Downloading', max=43.0, style=ProgressStyle(description_w…"
            ]
          },
          "metadata": {
            "tags": []
          }
        },
        {
          "output_type": "stream",
          "text": [
            "\n"
          ],
          "name": "stdout"
        },
        {
          "output_type": "display_data",
          "data": {
            "application/vnd.jupyter.widget-view+json": {
              "model_id": "007ccc98bc174fa5806673f38d50b2a4",
              "version_minor": 0,
              "version_major": 2
            },
            "text/plain": [
              "HBox(children=(FloatProgress(value=0.0, description='Downloading', max=438235074.0, style=ProgressStyle(descri…"
            ]
          },
          "metadata": {
            "tags": []
          }
        },
        {
          "output_type": "stream",
          "text": [
            "\n"
          ],
          "name": "stdout"
        }
      ]
    },
    {
      "cell_type": "markdown",
      "metadata": {
        "id": "u-gJlnkBo2U5"
      },
      "source": [
        "#### Classes específicas"
      ]
    },
    {
      "cell_type": "code",
      "metadata": {
        "id": "3oi8ez_FNWkR"
      },
      "source": [
        "# Importando as bibliotecas do Modelo e do Tokenizador\n",
        "from transformers import BertModel, BertTokenizer\n",
        "\n",
        "# Carregando o modelo do tokenizador o modelo do PyTorch da comunidade utilizando classes específicas\n",
        "\n",
        "# Tokenizador do modelo utilizando classe específica\n",
        "tokenizer = BertTokenizer.from_pretrained('neuralmind/bert-base-portuguese-cased')\n",
        "\n",
        "# Modelo pré-treinado utilizando classe específica\n",
        "model = BertModel.from_pretrained('neuralmind/bert-base-portuguese-cased')"
      ],
      "execution_count": 3,
      "outputs": []
    },
    {
      "cell_type": "markdown",
      "metadata": {
        "id": "Wrp2wwYytLDW"
      },
      "source": [
        "### Carregando BERT de diretório(arquivo)\n",
        "\n",
        "O carregamento do BERT a partir de um diretório com os arquivos do tokenizador e do modelo. "
      ]
    },
    {
      "cell_type": "markdown",
      "metadata": {
        "id": "c161Lh80z8T2"
      },
      "source": [
        "Os arquivo do modelo devem deve ser colocados na pasta '/content/modelo'.\n",
        "\n",
        "Este arquivo pode ser utilizado tanto pelas classes especificas ou pelas AutoClasses, conforme apresentado na seção 'AutoTokenizer'.\n",
        "\n",
        "Link dos arquivos do modelo BERT pré-treinado em português(pt-br) da neuralmind-ai chamado de [BERTTimbau](https://github.com/neuralmind-ai/portuguese-bert).\n",
        "\n",
        "O BERT em português édisponibilizado em dois tamanhos: **BASE** e **LARGE** e em dois formatos: checkpoint do **TensorFlow** ou do **Pytorch**.\n",
        "\n",
        "O arquivo do **Pytorch** é manipulado pela implementação da biblioteca torch disponível [aqui](https://pytorch.org/docs/stable/torch.html)\n",
        "\n",
        "**BERT Base: 1.1 Gbytes**\n",
        "* **Pytorch Checkpoint(Usado no exemplo)** - https://neuralmind-ai.s3.us-east-2.amazonaws.com/nlp/bert-base-portuguese-cased/bert-base-portuguese-cased_pytorch_checkpoint.zip\n",
        "\n",
        "* **Tensor Flow Checkpoint** - https://neuralmind-ai.s3.us-east-2.amazonaws.com/nlp/bert-base-portuguese-cased/bert-base-portuguese-cased_tensorflow_checkpoint.zip\n",
        "\n",
        "* **Vocabulário(Usado no exemplo)** - https://neuralmind-ai.s3.us-east-2.amazonaws.com/nlp/bert-base-portuguese-cased/vocab.txt\n",
        "\n",
        "\n",
        "**BERT Large: 3.2 Gbytes**\n",
        "* **Pytorch Checkpoint** - https://neuralmind-ai.s3.us-east-2.amazonaws.com/nlp/bert-large-portuguese-cased/bert-large-portuguese-cased_pytorch_checkpoint.zip\n",
        "\n",
        "* **Tensor Checkpoint** - https://neuralmind-ai.s3.us-east-2.amazonaws.com/nlp/bert-large-portuguese-cased/bert-large-portuguese-cased_tensorflow_checkpoint.zip\n",
        "\n",
        "* **Vocabulário** - https://neuralmind-ai.s3.us-east-2.amazonaws.com/nlp/bert-large-portuguese-cased/vocab.txt\n",
        "\n",
        "\n",
        "**Correção dos nomes dos arquivos para usar com o BERT as Service:**\n",
        "* 'large'\n",
        "    * model.ckpt-1000000.data-00000-of-00001 > bert_model.ckpt.data-00000-of-00001\n",
        "    * model.ckpt-1000000.index bert_model.ckpt.index\n",
        "    * model.ckpt-1000000.meta > bert_model.ckpt.meta\n",
        "\n",
        "* 'base'\n",
        "    * model.ckpt.data-00000-of-00001> bert_model.ckpt.data-00000-of-00001\n",
        "    * model.ckpt.index > bert_model.ckpt.index\n",
        "    * model.ckpt.meta > bert_model.ckpt.meta\n",
        "\n",
        "O modelo foi treinado com dados de **BrWaC** (Brazilian Web as Corpus):\n",
        "\n",
        "https://www.researchgate.net/publication/326303825_The_brWaC_Corpus_A_New_Open_Resource_for_Brazilian_Portuguese\n"
      ]
    },
    {
      "cell_type": "markdown",
      "metadata": {
        "id": "YZGdOSC_lLBh"
      },
      "source": [
        "#### Usando o BERT do diretório"
      ]
    },
    {
      "cell_type": "markdown",
      "metadata": {
        "id": "WyhoaQKNaNY7"
      },
      "source": [
        "##### Download do arquivo do Pytorch Checkpoint\n",
        "\n",
        "É necessário realizar o download do arquivo de checkpoint e do vocabulário.\n",
        "\n",
        "O arquivo do checkpoint precisa ser descompactado.\n",
        "\n",
        "Os arquivos do modelo e do vocabulário são movidos para o diretório `modelo`."
      ]
    },
    {
      "cell_type": "code",
      "metadata": {
        "id": "jYTujSE9aNY_",
        "outputId": "dfb134f1-106e-4c73-dedc-91ff006c2d18",
        "colab": {
          "base_uri": "https://localhost:8080/",
          "height": 619
        }
      },
      "source": [
        "# Importando as bibliotecas\n",
        "import os\n",
        "\n",
        "# Comente uma das urls para carregar modelo do BERT de tamanhos diferentes(base/large)\n",
        "# url do arquivo do modelo do Pytorch checkpoint\n",
        "\n",
        "# arquivo menor(base) 1.1 Gbytes\n",
        "# url = \"https://neuralmind-ai.s3.us-east-2.amazonaws.com/nlp/bert-base-portuguese-cased/bert-base-portuguese-cased_pytorch_checkpoint.zip\"\n",
        "\n",
        "# arquivo grande(large) 3.5 Gbytes\n",
        "url = \"https://neuralmind-ai.s3.us-east-2.amazonaws.com/nlp/bert-large-portuguese-cased/bert-large-portuguese-cased_pytorch_checkpoint.zip\"\n",
        "      \n",
        "# Recupera o nome do arquivo do modelo da url anterior\n",
        "arquivo = url.split(\"/\")[-1]\n",
        "\n",
        "# Nome do arquivo do vocabulário\n",
        "arquivo_vocab = \"vocab.txt\"\n",
        "\n",
        "# Caminho do arquivo na url\n",
        "caminho = url[0:len(url)-len(arquivo)]\n",
        "\n",
        "# Diretório descompactação do modelo\n",
        "diretorio = '/content/modelo'\n",
        "\n",
        "# Verifica se o diretório do modelo existe a partir do diretório corrente\n",
        "if not os.path.exists(diretorio):\n",
        "   \n",
        "    # Realiza o download do arquivo do tokenizador\n",
        "    !wget $url\n",
        "    \n",
        "    # Descompacta o arquivo no diretório do modelo\n",
        "    !unzip -o $arquivo -d $diretorio\n",
        "\n",
        "    # Realiza o download do arquivo do vocabulário\n",
        "    # O vocabulário não está no arquivo compactado acima\n",
        "    # Concatena o caminho do modelo mais o nome do arquivo do vocabulário\n",
        "    url_vocab = caminho + arquivo_vocab\n",
        "\n",
        "    # Realiza o download do arquivo do vocabulário\n",
        "    !wget $url_vocab\n",
        "    \n",
        "    # Move o arquivo do vocabulário para o diretório do modelo\n",
        "    !mv $arquivo_vocab $diretorio\n",
        "            \n",
        "    # Apaga o arquivo baixado\n",
        "    #!rm $arquivo\n",
        "    \n",
        "    # Move o arquivo do modelo para o diretório do modelo\n",
        "    !mv $arquivo $diretorio\n",
        "    \n",
        "    print('Diretório do modelo:\\'' + diretorio + '\\' pronta!')\n",
        "else:\n",
        "    print('Diretório do modelo:\\'' + diretorio + '\\' já existe!')\n",
        "\n",
        "# Lista o diretório corrente\n",
        "!ls -la"
      ],
      "execution_count": 4,
      "outputs": [
        {
          "output_type": "stream",
          "text": [
            "--2020-10-06 13:34:28--  https://neuralmind-ai.s3.us-east-2.amazonaws.com/nlp/bert-large-portuguese-cased/bert-large-portuguese-cased_pytorch_checkpoint.zip\n",
            "Resolving neuralmind-ai.s3.us-east-2.amazonaws.com (neuralmind-ai.s3.us-east-2.amazonaws.com)... 52.219.104.104\n",
            "Connecting to neuralmind-ai.s3.us-east-2.amazonaws.com (neuralmind-ai.s3.us-east-2.amazonaws.com)|52.219.104.104|:443... connected.\n",
            "HTTP request sent, awaiting response... 200 OK\n",
            "Length: 1244275810 (1.2G) [application/zip]\n",
            "Saving to: ‘bert-large-portuguese-cased_pytorch_checkpoint.zip’\n",
            "\n",
            "bert-large-portugue 100%[===================>]   1.16G   103MB/s    in 12s     \n",
            "\n",
            "2020-10-06 13:34:41 (95.6 MB/s) - ‘bert-large-portuguese-cased_pytorch_checkpoint.zip’ saved [1244275810/1244275810]\n",
            "\n",
            "Archive:  bert-large-portuguese-cased_pytorch_checkpoint.zip\n",
            "  inflating: /content/modelo/config.json  \n",
            "  inflating: /content/modelo/pytorch_model.bin  \n",
            "--2020-10-06 13:34:57--  https://neuralmind-ai.s3.us-east-2.amazonaws.com/nlp/bert-large-portuguese-cased/vocab.txt\n",
            "Resolving neuralmind-ai.s3.us-east-2.amazonaws.com (neuralmind-ai.s3.us-east-2.amazonaws.com)... 52.219.88.64\n",
            "Connecting to neuralmind-ai.s3.us-east-2.amazonaws.com (neuralmind-ai.s3.us-east-2.amazonaws.com)|52.219.88.64|:443... connected.\n",
            "HTTP request sent, awaiting response... 200 OK\n",
            "Length: 209528 (205K) [text/plain]\n",
            "Saving to: ‘vocab.txt’\n",
            "\n",
            "vocab.txt           100%[===================>] 204.62K  --.-KB/s    in 0.08s   \n",
            "\n",
            "2020-10-06 13:34:58 (2.47 MB/s) - ‘vocab.txt’ saved [209528/209528]\n",
            "\n",
            "Diretório do modelo:'/content/modelo' pronta!\n",
            "total 20\n",
            "drwxr-xr-x 1 root root 4096 Oct  6 13:34 .\n",
            "drwxr-xr-x 1 root root 4096 Oct  6 13:31 ..\n",
            "drwxr-xr-x 1 root root 4096 Oct  1 16:28 .config\n",
            "drwxr-xr-x 2 root root 4096 Oct  6 13:34 modelo\n",
            "drwxr-xr-x 1 root root 4096 Oct  1 16:28 sample_data\n"
          ],
          "name": "stdout"
        }
      ]
    },
    {
      "cell_type": "markdown",
      "metadata": {
        "id": "1gZ7lZaVaEk5"
      },
      "source": [
        "##### Carregando o BERT do diretório\n",
        "\n",
        "Carregando o **tokenizador** e **modelo** BERT do diretório '/content/modelo/' do diretório padrão.\n",
        "\n",
        "A implementação do huggingface pytorch inclui um conjunto de interfaces projetadas para uma variedade de tarefas de PNL. Embora essas interfaces sejam todas construídas sobre um modelo treinado de BERT, cada uma possui diferentes camadas superiores e tipos de saída projetados para acomodar suas tarefas específicas de PNL.\n",
        "\n",
        "Aqui está a lista atual de classes fornecidas para o ajuste fino:\n",
        "* BertModel\n",
        "* BertForPreTraining\n",
        "* BertForMaskedLM\n",
        "* BertForNextSentencePrediction\n",
        "* BertForSequenceClassification\n",
        "* BertForTokenClassification\n",
        "* BertForQuestionAnswering\n",
        "\n",
        "A documentação para estas pode ser encontrada em [aqui](https://huggingface.co/transformers/v2.2.0/model_doc/bert.html).\n"
      ]
    },
    {
      "cell_type": "code",
      "metadata": {
        "id": "pyA4PFN6aNZV",
        "outputId": "db9b5225-20d8-43fe-c9a0-76cd342ad41c",
        "colab": {
          "base_uri": "https://localhost:8080/",
          "height": 54
        }
      },
      "source": [
        "# Importando as bibliotecas do Modelo e do Tokenizador\n",
        "from transformers import BertModel, BertTokenizer\n",
        "\n",
        "# Carregando o modelo do tokenizador o modelo do PyTorch do diretório  utilizando classes específicas\n",
        "\n",
        "print('Carregando o tokenizador BERT do diretório \\'' + diretorio + '\\'...')\n",
        "\n",
        "# Tokenizador do modelo utilizando classe específica\n",
        "tokenizer = BertTokenizer.from_pretrained('/content/modelo/')\n",
        "\n",
        "print('Carregando o modelo BERT do diretório \\'' + diretorio + '\\'...')\n",
        "\n",
        "# Modelo pré-treinado utilizando classe específica\n",
        "model = BertModel.from_pretrained('/content/modelo/')"
      ],
      "execution_count": 5,
      "outputs": [
        {
          "output_type": "stream",
          "text": [
            "Carregando o tokenizador BERT do diretório '/content/modelo'...\n",
            "Carregando o modelo BERT do diretório '/content/modelo'...\n"
          ],
          "name": "stdout"
        }
      ]
    },
    {
      "cell_type": "markdown",
      "metadata": {
        "id": "KAm-Or2D0M0k"
      },
      "source": [
        "## Exemplos de formas de carregamento do BERT"
      ]
    },
    {
      "cell_type": "markdown",
      "metadata": {
        "id": "udxdl4qklY--"
      },
      "source": [
        "#### Usando o BERT da comunidade ou diretório v1\n",
        "\n",
        "Permite configurar a **fonte do modelo**.\n",
        "\n",
        "A variável `url` setada especifica que o BERT deve ser carregado de um diretório, caso contrário da comunidade."
      ]
    },
    {
      "cell_type": "markdown",
      "metadata": {
        "id": "VXm3x84klfRN"
      },
      "source": [
        "##### Download do arquivo do Pytorch Checkpoint\n",
        "\n",
        "É necessário realizar o download do arquivo de checkpoint e do vocabulário.\n",
        "\n",
        "O arquivo do checkpoint precisa ser descompactado.\n",
        "\n",
        "Os arquivos do modelo e do vocabulário são movidos para o diretório `modelo`."
      ]
    },
    {
      "cell_type": "code",
      "metadata": {
        "id": "JtzDkSAYlfs1",
        "outputId": "f43524bb-4656-42dd-d4cd-1ecfc540b4b9",
        "colab": {
          "base_uri": "https://localhost:8080/",
          "height": 35
        }
      },
      "source": [
        "# Importando as bibliotecas\n",
        "import os\n",
        "\n",
        "# Variável para setar o tamanho do arquivo do BERT(base ou large)\n",
        "url = None\n",
        "\n",
        "# Comente uma das urls para carregar modelo do BERT de tamanhos diferentes(base/large)\n",
        "# url do arquivo do modelo do Pytorch checkpoint\n",
        "\n",
        "# arquivo menor(base) 1.1 Gbytes\n",
        "# url = \"https://neuralmind-ai.s3.us-east-2.amazonaws.com/nlp/bert-base-portuguese-cased/bert-base-portuguese-cased_pytorch_checkpoint.zip\"\n",
        "\n",
        "# arquivo grande(large) 3.5 Gbytes\n",
        "# url = \"https://neuralmind-ai.s3.us-east-2.amazonaws.com/nlp/bert-large-portuguese-cased/bert-large-portuguese-cased_pytorch_checkpoint.zip\"\n",
        "\n",
        "# Se a variável foi setada\n",
        "if url:\n",
        "\n",
        "    # Diretório descompactação do modelo\n",
        "    diretorio = '/content/modelo'\n",
        "\n",
        "    # Recupera o nome do arquivo do modelo da url anterior\n",
        "    arquivo = url.split(\"/\")[-1]\n",
        "\n",
        "    # Nome do arquivo do vocabulário\n",
        "    arquivo_vocab = \"vocab.txt\"\n",
        "\n",
        "    # Caminho do arquivo na url\n",
        "    caminho = url[0:len(url)-len(arquivo)]\n",
        "\n",
        "    # Verifica se a pasta de descompactação existe no pasta corrente\n",
        "    if not os.path.exists(diretorio):\n",
        "   \n",
        "        # Realiza o download do arquivo do modelo\n",
        "        !wget $url\n",
        "    \n",
        "        # Descompacta o arquivo na pasta de destino\n",
        "        !unzip -o $arquivo -d $diretorio\n",
        "\n",
        "        # Realiza o download do arquivo do vocabulário\n",
        "        # O vocabulário não está no arquivo compactado acima\n",
        "        # Concatena o caminho do modelo mais o nome do arquivo do vocabulário\n",
        "        url_vocab = caminho + arquivo_vocab\n",
        "\n",
        "        # Realiza o download do arquivo do vocabulário\n",
        "        !wget $url_vocab\n",
        "    \n",
        "        # Move o arquivo do vocabulário para o diretório do modelo\n",
        "        !mv $arquivo_vocab $diretorio\n",
        "            \n",
        "        # Move o arquivo do modelo para o diretório do modelo\n",
        "        !mv $arquivo $diretorio\n",
        "        \n",
        "        print('Diretório do modelo:\\'' + diretorio + '\\' pronta!')\n",
        "    else:      \n",
        "      print('Diretório do modelo:\\'' + diretorio + '\\' já existe!')\n",
        "\n",
        "    #lista a pasta corrente\n",
        "    !ls -la $diretorio\n",
        "else:\n",
        "    print('Variável url não setada!')"
      ],
      "execution_count": 6,
      "outputs": [
        {
          "output_type": "stream",
          "text": [
            "Variável url não setada!\n"
          ],
          "name": "stdout"
        }
      ]
    },
    {
      "cell_type": "markdown",
      "metadata": {
        "id": "W2VmlSXMgUiU"
      },
      "source": [
        "##### Carregando o BERT\n",
        "\n"
      ]
    },
    {
      "cell_type": "code",
      "metadata": {
        "id": "IR3LKinp7GiI",
        "outputId": "a016e72b-dbd7-4b39-d9ea-73a32933c613",
        "colab": {
          "base_uri": "https://localhost:8080/",
          "height": 54
        }
      },
      "source": [
        "# Importando as bibliotecas do Modelo e do Tokenizador\n",
        "from transformers import BertModel, BertTokenizer\n",
        "\n",
        "# Se a variável url foi setada\n",
        "if url:\n",
        "    # Carregando o Tokenizador do diretório\n",
        "    print('Carregando o tokenizador BERT do diretório \\'' + diretorio + '\\'...')\n",
        "\n",
        "    tokenizer = BertTokenizer.from_pretrained(diretorio)\n",
        "\n",
        "    # Carregano o Modelo do diretório\n",
        "    print('Carregando o modelo BERT do diretório \\'' + diretorio + '\\'...')\n",
        "\n",
        "    model = BertModel.from_pretrained(diretorio)\n",
        "\n",
        "else:\n",
        "    # Carregando o Tokenizador da comunidade\n",
        "    print('Carregando o tokenizador BERT da comunidade...')\n",
        "\n",
        "    tokenizer = BertTokenizer.from_pretrained('neuralmind/bert-base-portuguese-cased')  \n",
        "\n",
        "    # Carregando o Modelo da comunidade\n",
        "    print('Carregando o modelo BERT da comunidade...')\n",
        "\n",
        "    model = BertModel.from_pretrained('neuralmind/bert-base-portuguese-cased')  \n"
      ],
      "execution_count": 7,
      "outputs": [
        {
          "output_type": "stream",
          "text": [
            "Carregando o tokenizador BERT da comunidade...\n",
            "Carregando o modelo BERT da comunidade...\n"
          ],
          "name": "stdout"
        }
      ]
    },
    {
      "cell_type": "markdown",
      "metadata": {
        "id": "snDFb_WBpItd"
      },
      "source": [
        "#### Usando o BERT da comunidade ou diretório v2\n",
        "\n",
        "Permite configurar o **tamanho do modelo** e a **fonte do modelo**.\n",
        "\n",
        "A variável `fonteBERT` com os valores `comunidade` ou `diretório` especifica se deve ser carregado o BERT de um diretório ou da comunidade.\n",
        "\n",
        "A variável `tamanhoBERT` com os valores `base` ou `large` especifica se o tamanho do modelo BERT a ser utilizado."
      ]
    },
    {
      "cell_type": "markdown",
      "metadata": {
        "id": "Nj1KS8xCpIte"
      },
      "source": [
        "##### Download do arquivo do Pytorch Checkpoint\n",
        "\n",
        "É necessário realizar o download do arquivo de checkpoint e do vocabulário.\n",
        "\n",
        "O arquivo do checkpoint precisa ser descompactado.\n",
        "\n",
        "Os arquivos do modelo e do vocabulário são movidos para o diretório `modelo`."
      ]
    },
    {
      "cell_type": "code",
      "metadata": {
        "id": "3gab02A0pIte",
        "outputId": "1f20c3e4-c198-47a3-95f3-d26a6b383bdd",
        "colab": {
          "base_uri": "https://localhost:8080/",
          "height": 163
        }
      },
      "source": [
        "# Importando as bibliotecas\n",
        "import os\n",
        "\n",
        "# Variável fonte especifica a origem do modelo(comunidade ou diretório)\n",
        "#fonteBERT = 'comunidade'\n",
        "fonteBERT = 'diretorio'\n",
        "\n",
        "# Especifica o tamanho do modelo a ser carregado(base ou large)\n",
        "tamanhoBERT = 'large'\n",
        "#tamanhoBERT = 'base'\n",
        "\n",
        "# Se a variável 'fonteBERT' foi setada para 'diretorio' faz o download dos arquivos modelo\n",
        "if fonteBERT == 'diretorio':\n",
        "    \n",
        "    # Se a variável 'tamanhoBERT' foi setada para 'base' faz o download do arquivo do tamanho base do BERT, caso contrário do large.\n",
        "    if tamanhoBERT == 'base':\n",
        "        # url do arquivo do modelo do Pytorch checkpoint\n",
        "        # arquivo menor(base) 1.1 Gbytes\n",
        "        url = \"https://neuralmind-ai.s3.us-east-2.amazonaws.com/nlp/bert-base-portuguese-cased/bert-base-portuguese-cased_pytorch_checkpoint.zip\"\n",
        "    else:\n",
        "        # url do arquivo do modelo do Pytorch checkpoint\n",
        "        # arquivo grande(large) 3.5 Gbytes\n",
        "        url = \"https://neuralmind-ai.s3.us-east-2.amazonaws.com/nlp/bert-large-portuguese-cased/bert-large-portuguese-cased_pytorch_checkpoint.zip\"\n",
        "\n",
        "    # Diretório descompactação do modelo\n",
        "    diretorio = '/content/modelo'\n",
        "\n",
        "    # Recupera o nome do arquivo do modelo da url anterior\n",
        "    arquivo = url.split(\"/\")[-1]\n",
        "\n",
        "    # Nome do arquivo do vocabulário\n",
        "    arquivo_vocab = \"vocab.txt\"\n",
        "\n",
        "    # Caminho do arquivo na url\n",
        "    caminho = url[0:len(url)-len(arquivo)]\n",
        "\n",
        "    # Verifica se a pasta de descompactação existe no pasta corrente\n",
        "    if not os.path.exists(diretorio):\n",
        "   \n",
        "        # Realiza o download do arquivo do modelo\n",
        "        !wget $url\n",
        "    \n",
        "        # Descompacta o arquivo na pasta de destino\n",
        "        !unzip -o $arquivo -d $diretorio\n",
        "\n",
        "        # Realiza o download do arquivo do vocabulário\n",
        "        # O vocabulário não está no arquivo compactado acima\n",
        "        # Concatena o caminho do modelo mais o nome do arquivo do vocabulário\n",
        "        url_vocab = caminho + arquivo_vocab\n",
        "\n",
        "        # Realiza o download do arquivo do vocabulário\n",
        "        !wget $url_vocab\n",
        "    \n",
        "        # Move o arquivo do vocabulário para o diretório do modelo\n",
        "        !mv $arquivo_vocab $diretorio\n",
        "            \n",
        "        # Move o arquivo do modelo para o diretório do modelo\n",
        "        !mv $arquivo $diretorio      \n",
        "                \n",
        "        print('Diretório do modelo:\\'' + diretorio + '\\' pronta!')\n",
        "    else:      \n",
        "      print('Diretório do modelo:\\'' + diretorio + '\\' já existe!')\n",
        "\n",
        "    #lista a pasta corrente\n",
        "    !ls -la $diretorio\n",
        "else:\n",
        "    print('Será carregado o BERT da comunidade')"
      ],
      "execution_count": 8,
      "outputs": [
        {
          "output_type": "stream",
          "text": [
            "Diretório do modelo:'/content/modelo' já existe!\n",
            "total 2525908\n",
            "drwxr-xr-x 2 root root       4096 Oct  6 13:34 .\n",
            "drwxr-xr-x 1 root root       4096 Oct  6 13:34 ..\n",
            "-rw-r--r-- 1 root root 1244275810 Jan 22  2020 bert-large-portuguese-cased_pytorch_checkpoint.zip\n",
            "-rw-rw-r-- 1 root root        874 Jan 12  2020 config.json\n",
            "-rw-rw-r-- 1 root root 1342014951 Jan 12  2020 pytorch_model.bin\n",
            "-rw-r--r-- 1 root root     209528 Jan 21  2020 vocab.txt\n"
          ],
          "name": "stdout"
        }
      ]
    },
    {
      "cell_type": "markdown",
      "metadata": {
        "id": "stZE-KdbpIti"
      },
      "source": [
        "##### Carregando o BERT\n",
        "\n",
        "Carregando o **tokenizador** e **modelo** BERT do diretório '/content/modelo/' do diretório padrão.\n"
      ]
    },
    {
      "cell_type": "code",
      "metadata": {
        "id": "Rbdpa5IzpItj",
        "outputId": "14d91cfa-7117-40c0-e512-a74abf935624",
        "colab": {
          "base_uri": "https://localhost:8080/",
          "height": 54
        }
      },
      "source": [
        "# Importando as bibliotecas do Modelo e do Tokenizador\n",
        "from transformers import BertModel, BertTokenizer\n",
        "\n",
        "# Se a variável 'fonteBERT' foi setada para 'diretorio' faz o download dos arquivos modelo\n",
        "if fonteBERT == 'diretorio':\n",
        "\n",
        "    # Carregando o Tokenizador do diretório\n",
        "    print('Carregando o tokenizador BERT_' + tamanhoBERT + ' do diretório ' + diretorio + '...')\n",
        "\n",
        "    tokenizer = BertTokenizer.from_pretrained(diretorio)\n",
        "\n",
        "    # Carregando o Modelo do diretório\n",
        "    print('Carregando o modelo BERT_' + tamanhoBERT + ' do diretório ' + diretorio + '...')\n",
        "\n",
        "    model = BertModel.from_pretrained(diretorio)\n",
        "\n",
        "else:\n",
        "    # Se a variável 'tamanhoBERT' foi setada para 'base' faz o carregamento do tamanho base do BERT, caso contrário do large.\n",
        "    if tamanhoBERT == 'base':\n",
        "        # Carregando o Tokenizador da comunidade\n",
        "        print('Carregando o tokenizador BERT_base da comunidade...')\n",
        "\n",
        "        tokenizer = BertTokenizer.from_pretrained('neuralmind/bert-base-portuguese-cased')  \n",
        "\n",
        "        # Carregando o Modelo da comunidade\n",
        "        print('Carregando o modelo BERT_base da comunidade...')\n",
        "\n",
        "        model = BertModel.from_pretrained('neuralmind/bert-base-portuguese-cased')  \n",
        "    else:\n",
        "        # Carregando o Tokenizador da comunidade  \n",
        "        print('Carregando o tokenizador BERT_large da comunidade...')\n",
        "\n",
        "        tokenizer = BertTokenizer.from_pretrained('neuralmind/bert-large-portuguese-cased')  \n",
        "\n",
        "        # Carregando o Modelo da comunidade\n",
        "        print('Carregando o modelo BERT_large da comunidade...')\n",
        "\n",
        "        model = BertModel.from_pretrained('neuralmind/bert-large-portuguese-cased')  \n"
      ],
      "execution_count": 9,
      "outputs": [
        {
          "output_type": "stream",
          "text": [
            "Carregando o tokenizador BERT_large do diretório /content/modelo...\n",
            "Carregando o modelo BERT_large do diretório /content/modelo...\n"
          ],
          "name": "stdout"
        }
      ]
    },
    {
      "cell_type": "markdown",
      "metadata": {
        "id": "T7NXsoTTC9rf"
      },
      "source": [
        "#### Usando o BERT da comunidade ou diretório  com uma função v3\n",
        "\n",
        "Função que retorna o tokenizador do BERT. permite configurar o tamanho do modelo e a fonte do modelo. \n",
        "\n",
        "A linguagem do modelo é especificada internamente na função.\n",
        "\n",
        "O parâmetro  `fonteBERT` com os valores `comunidade` ou `diretório` especifica se deve ser carregado o BERT de um diretório ou da comunidade.\n",
        "\n",
        "O parâmetro `tamanhoBERT` com os valores `base` ou `large` especifica se o tamanho do modelo BERT a ser utilizado.\n",
        "\n",
        "O parâmetro `lingua` com os valores `portugues` ou `ingles` especifica a lingua do modelo BERT a ser utilizado.\n",
        "\n",
        "A função retorna o **tokenizador** para os parâmetros especificado"
      ]
    },
    {
      "cell_type": "markdown",
      "metadata": {
        "id": "TCyv5sfgC9rg"
      },
      "source": [
        "##### Declarando uma função que retorna o tokenizador."
      ]
    },
    {
      "cell_type": "code",
      "metadata": {
        "id": "H1siflk0C9rh"
      },
      "source": [
        "# Valores default para os parâmetros da função\n",
        "def getTokenizadorBERT(fonteBERT = 'comunidade', \n",
        "                       tamanhoBERT = 'base', \n",
        "                       linguaBERT = 'portugues'):\n",
        "\n",
        "    \"\"\"Retorna o tokenizador BERT carregado.\n",
        "    De acordo com os parâmetros especificados ou carrega o BERT da comunidade \n",
        "    ou realiza o download dos arquivos do modelo.\n",
        "\n",
        "    Args:\n",
        "        fonteBERT: Especifica a origem do modelo do BERT 'comunidade' ou 'diretorio'.\n",
        "        tamanhoBERT: Especifica o tamanho do modelo do BERT 'large' ou 'base'.\n",
        "        linguaBERT: Especifica a língua do modelo do BERT 'portugues' ou 'ingles'.\n",
        "\n",
        "    Returns:\n",
        "        `tokenizador` com o tokenizador do modelo BERT carregado.       \n",
        "    \"\"\"\n",
        "    #======================================================================\n",
        "    # Verificação do idioma e tamanho do modelo\n",
        "    #======================================================================\n",
        "    # Verifica se a língua é português e o tamanho do modelo\n",
        "    if linguaBERT == 'portugues' and tamanhoBERT == 'base':\n",
        "        nome_modelo_bert = 'neuralmind/bert-base-portuguese-cased'\n",
        "    else:\n",
        "        if linguaBERT == 'portugues' and tamanhoBERT == 'large':\n",
        "            nome_modelo_bert = 'neuralmind/bert-large-portuguese-cased'\n",
        "        else:\n",
        "            # Verifica se a língua é inglés e o tamanho do modelo\n",
        "            if linguaBERT == 'ingles' and tamanhoBERT == 'base':\n",
        "                nome_modelo_bert = 'bert-base-uncased'\n",
        "            else:\n",
        "                if linguaBERT == 'ingles' and tamanhoBERT == 'large':\n",
        "                    nome_modelo_bert = 'bert-large-uncased'\n",
        "                else:\n",
        "                    print(\"Parâmetros \\'língua\\' e \\'tamanhoBERT\\' especificados incorretamente!\")\n",
        "                    return None, None\n",
        "\n",
        "    #======================================================================\n",
        "    # Download do arquivo do modelo\n",
        "    #======================================================================\n",
        "    #Se a variável 'fonteBERT' foi setada para 'diretorio' faz o download dos arquivos modelo\n",
        "    if fonteBERT == 'diretorio' and linguaBERT == 'portugues':\n",
        "    \n",
        "      # Se a variável 'tamanhoBERT' foi setada para 'base' faz o download do arquivo do tamanho base do BERT, caso contrário do large.\n",
        "      if tamanhoBERT == 'base':\n",
        "          # url do arquivo do modelo do Pytorch checkpoint\n",
        "          # arquivo menor(base) 1.1 Gbytes\n",
        "          url = \"https://neuralmind-ai.s3.us-east-2.amazonaws.com/nlp/bert-base-portuguese-cased/bert-base-portuguese-cased_pytorch_checkpoint.zip\"\n",
        "      else:\n",
        "          # url do arquivo do modelo do Pytorch checkpoint\n",
        "          # arquivo grande(large) 3.5 Gbytes\n",
        "          url = \"https://neuralmind-ai.s3.us-east-2.amazonaws.com/nlp/bert-large-portuguese-cased/bert-large-portuguese-cased_pytorch_checkpoint.zip\"\n",
        "\n",
        "      # Diretório descompactação do modelo\n",
        "      diretorio = '/content/modelo' + tamanhoBERT\n",
        "\n",
        "      # Recupera o nome do arquivo do modelo da url anterior\n",
        "      arquivo = url.split(\"/\")[-1]\n",
        "\n",
        "      # Nome do arquivo do vocabulário\n",
        "      arquivo_vocab = \"vocab.txt\"\n",
        "\n",
        "      # Caminho do arquivo na url\n",
        "      caminho = url[0:len(url)-len(arquivo)]\n",
        "\n",
        "      # Verifica se a pasta de descompactação existe no pasta corrente\n",
        "      if not os.path.exists(diretorio):\n",
        "   \n",
        "          # Realiza o download do arquivo do modelo\n",
        "          !wget $url\n",
        "    \n",
        "          # Descompacta o arquivo na pasta de destino\n",
        "          !unzip -o $arquivo -d $diretorio\n",
        "\n",
        "          # Realiza o download do arquivo do vocabulário\n",
        "          # O vocabulário não está no arquivo compactado acima\n",
        "          # Concatena o caminho do modelo mais o nome do arquivo do vocabulário\n",
        "          url_vocab = caminho + arquivo_vocab\n",
        "\n",
        "          # Realiza o download do arquivo do vocabulário\n",
        "          !wget $url_vocab\n",
        "    \n",
        "          # Move o arquivo do vocabulário para o diretório do modelo\n",
        "          !mv $arquivo_vocab $diretorio\n",
        "            \n",
        "          # Move o arquivo do modelo para o diretório do modelo\n",
        "          !mv $arquivo $diretorio      \n",
        "                \n",
        "          print('Diretório do modelo:\\'' + diretorio + '\\' pronta!')\n",
        "      else:      \n",
        "          print('Diretório do modelo:\\'' + diretorio + '\\' já existe!')\n",
        "      \n",
        "    else:\n",
        "        if linguaBERT == 'ingles':\n",
        "            print('O modelo BERT na língua inglesa deve ser carregado somente da comunidade.')\n",
        "       \n",
        "    #======================================================================\n",
        "    # Carregamento do tokenizador\n",
        "    #======================================================================\n",
        "\n",
        "    # Importando as bibliotecas do Tokenizador\n",
        "    from transformers import BertTokenizer\n",
        "\n",
        "    # Se a variável 'fonteBERT' foi setada para 'diretorio' faz o download dos arquivos modelo\n",
        "    # Carregamento de diretório somente para a língua portuguesa\n",
        "    if fonteBERT == 'diretorio' and linguaBERT == 'portugues':\n",
        "\n",
        "        # Carregando o Tokenizador do diretório\n",
        "        print('Carregando o tokenizador BERT_' + tamanhoBERT \n",
        "              + ' do diretório \\'' + diretorio \n",
        "              + '\\' em língua \\''+ linguaBERT + '\\'...')\n",
        "\n",
        "        tokenizer = BertTokenizer.from_pretrained(diretorio)\n",
        "    else:\n",
        "        # Carregando o Tokenizador da comunidade\n",
        "        print('Carregando o tokenizador BERT \\'' + nome_modelo_bert \n",
        "              + '\\' da comunidade em língua \\''+ linguaBERT + '\\'...')\n",
        "\n",
        "        tokenizer = BertTokenizer.from_pretrained(nome_modelo_bert)  \n",
        "\n",
        "    # Retorna o tokenizador BERT carregado           \n",
        "    return tokenizer"
      ],
      "execution_count": 10,
      "outputs": []
    },
    {
      "cell_type": "markdown",
      "metadata": {
        "id": "MemXlw5fC9rl"
      },
      "source": [
        "##### Usando a função **getTokenizadorBERT()**"
      ]
    },
    {
      "cell_type": "code",
      "metadata": {
        "id": "W2dSJJQsC9rl",
        "outputId": "89bc2237-b910-4dff-a087-36661c18f590",
        "colab": {
          "base_uri": "https://localhost:8080/",
          "height": 35
        }
      },
      "source": [
        "tokenizador = getTokenizadorBERT()\n",
        "\n",
        "del tokenizador"
      ],
      "execution_count": 11,
      "outputs": [
        {
          "output_type": "stream",
          "text": [
            "Carregando o tokenizador BERT 'neuralmind/bert-base-portuguese-cased' da comunidade em língua 'portugues'...\n"
          ],
          "name": "stdout"
        }
      ]
    },
    {
      "cell_type": "code",
      "metadata": {
        "id": "gK9EVQjTC9ro",
        "outputId": "bd3dafcc-8b90-4105-f0ef-046b24703ee0",
        "colab": {
          "base_uri": "https://localhost:8080/",
          "height": 235,
          "referenced_widgets": [
            "090227bfa2034500862c23b06fa31077",
            "f5983d34ac8047ec82de46d3a8adc4c0",
            "e60c9a35a90c4f5ea7b302ee18c8d3f5",
            "6f0b43bd04ac474cab4174957affdde9",
            "6c19537156bb4ac39396605ee59c84e2",
            "506b13b2ac9243c889d24a084af92cdb",
            "109001c0a1bf40c09d742d8347e19663",
            "fe939bcacf3d45f0a8ee58c39b2ab43a",
            "003a5f057c984b5582200be80b824d4e",
            "dcd7bebfdaab418ca40beae010bc1461",
            "b623e9c970fe4af197f0a3beb19130f7",
            "cdd416e8e5f64fbfb31d21ae6b31ec76",
            "bfa0b24a340a4d46b825fe8d48c2216e",
            "7a20c9a01672423697696cedd4088dd9",
            "96d6027368634cdda7e4d8e1e30d105c",
            "3888055705f443a5b59665d017066d3d",
            "1ab79c8c0d9e4d28a3707c7572f88a40",
            "70f87793f4a34b909103ef66d3cb1904",
            "70f0cfd68e0f46fca5daccba60c0d119",
            "91e98af08c1d4d5d8033cda6ebfc8e0a",
            "0e6a59e707434e2c938168bffa1309fe",
            "21a1b209108741a38efcf6d0675ab051",
            "2c505bb7c73a41ca9e1e97f6240d6b16",
            "d4864830f92840dd8980d28946196aa5",
            "97792c7f89df49d8a6ad4df096fda444",
            "3dd9b53390dc4833954ecb71a6200dd9",
            "4fd40a78ab9546b7b5cba861daf44aec",
            "f1c974cae19b4a30a2b5844a26293f0f",
            "4a3f77aad67d47d0abd736fda8a4f03b",
            "8848fdaf755b44c2a40b85a878bed817",
            "9ecef52de6604c3a95791289dd803233",
            "7107fec5b27a460696a8150cc268325f"
          ]
        }
      },
      "source": [
        "tokenizador = getTokenizadorBERT(tamanhoBERT='large')\n",
        "\n",
        "del tokenizador"
      ],
      "execution_count": 12,
      "outputs": [
        {
          "output_type": "stream",
          "text": [
            "Carregando o tokenizador BERT 'neuralmind/bert-large-portuguese-cased' da comunidade em língua 'portugues'...\n"
          ],
          "name": "stdout"
        },
        {
          "output_type": "display_data",
          "data": {
            "application/vnd.jupyter.widget-view+json": {
              "model_id": "090227bfa2034500862c23b06fa31077",
              "version_minor": 0,
              "version_major": 2
            },
            "text/plain": [
              "HBox(children=(FloatProgress(value=0.0, description='Downloading', max=209528.0, style=ProgressStyle(descripti…"
            ]
          },
          "metadata": {
            "tags": []
          }
        },
        {
          "output_type": "stream",
          "text": [
            "\n"
          ],
          "name": "stdout"
        },
        {
          "output_type": "display_data",
          "data": {
            "application/vnd.jupyter.widget-view+json": {
              "model_id": "003a5f057c984b5582200be80b824d4e",
              "version_minor": 0,
              "version_major": 2
            },
            "text/plain": [
              "HBox(children=(FloatProgress(value=0.0, description='Downloading', max=2.0, style=ProgressStyle(description_wi…"
            ]
          },
          "metadata": {
            "tags": []
          }
        },
        {
          "output_type": "stream",
          "text": [
            "\n"
          ],
          "name": "stdout"
        },
        {
          "output_type": "display_data",
          "data": {
            "application/vnd.jupyter.widget-view+json": {
              "model_id": "1ab79c8c0d9e4d28a3707c7572f88a40",
              "version_minor": 0,
              "version_major": 2
            },
            "text/plain": [
              "HBox(children=(FloatProgress(value=0.0, description='Downloading', max=112.0, style=ProgressStyle(description_…"
            ]
          },
          "metadata": {
            "tags": []
          }
        },
        {
          "output_type": "stream",
          "text": [
            "\n"
          ],
          "name": "stdout"
        },
        {
          "output_type": "display_data",
          "data": {
            "application/vnd.jupyter.widget-view+json": {
              "model_id": "97792c7f89df49d8a6ad4df096fda444",
              "version_minor": 0,
              "version_major": 2
            },
            "text/plain": [
              "HBox(children=(FloatProgress(value=0.0, description='Downloading', max=155.0, style=ProgressStyle(description_…"
            ]
          },
          "metadata": {
            "tags": []
          }
        },
        {
          "output_type": "stream",
          "text": [
            "\n"
          ],
          "name": "stdout"
        }
      ]
    },
    {
      "cell_type": "code",
      "metadata": {
        "id": "-pylw2QuC9rr",
        "outputId": "b751bdb8-8f60-4194-d2c1-f3b6fedab512",
        "colab": {
          "base_uri": "https://localhost:8080/",
          "height": 35
        }
      },
      "source": [
        "tokenizador = getTokenizadorBERT(tamanhoBERT='base')\n",
        "\n",
        "del tokenizador"
      ],
      "execution_count": 13,
      "outputs": [
        {
          "output_type": "stream",
          "text": [
            "Carregando o tokenizador BERT 'neuralmind/bert-base-portuguese-cased' da comunidade em língua 'portugues'...\n"
          ],
          "name": "stdout"
        }
      ]
    },
    {
      "cell_type": "code",
      "metadata": {
        "id": "8JZqO28VC9rt",
        "outputId": "a15e3ab8-39bc-4966-d248-2059f7bd1a55",
        "colab": {
          "base_uri": "https://localhost:8080/",
          "height": 528
        }
      },
      "source": [
        "tokenizador = getTokenizadorBERT(fonteBERT='diretorio', \n",
        "                      tamanhoBERT='base')\n",
        "\n",
        "del tokenizador"
      ],
      "execution_count": 14,
      "outputs": [
        {
          "output_type": "stream",
          "text": [
            "--2020-10-06 13:35:26--  https://neuralmind-ai.s3.us-east-2.amazonaws.com/nlp/bert-base-portuguese-cased/bert-base-portuguese-cased_pytorch_checkpoint.zip\n",
            "Resolving neuralmind-ai.s3.us-east-2.amazonaws.com (neuralmind-ai.s3.us-east-2.amazonaws.com)... 52.219.96.24\n",
            "Connecting to neuralmind-ai.s3.us-east-2.amazonaws.com (neuralmind-ai.s3.us-east-2.amazonaws.com)|52.219.96.24|:443... connected.\n",
            "HTTP request sent, awaiting response... 200 OK\n",
            "Length: 406220891 (387M) [application/zip]\n",
            "Saving to: ‘bert-base-portuguese-cased_pytorch_checkpoint.zip’\n",
            "\n",
            "bert-base-portugues 100%[===================>] 387.40M  15.0MB/s    in 94s     \n",
            "\n",
            "2020-10-06 13:37:00 (4.14 MB/s) - ‘bert-base-portuguese-cased_pytorch_checkpoint.zip’ saved [406220891/406220891]\n",
            "\n",
            "Archive:  bert-base-portuguese-cased_pytorch_checkpoint.zip\n",
            "  inflating: /content/modelobase/config.json  \n",
            "  inflating: /content/modelobase/pytorch_model.bin  \n",
            "--2020-10-06 13:37:06--  https://neuralmind-ai.s3.us-east-2.amazonaws.com/nlp/bert-base-portuguese-cased/vocab.txt\n",
            "Resolving neuralmind-ai.s3.us-east-2.amazonaws.com (neuralmind-ai.s3.us-east-2.amazonaws.com)... 52.219.88.120\n",
            "Connecting to neuralmind-ai.s3.us-east-2.amazonaws.com (neuralmind-ai.s3.us-east-2.amazonaws.com)|52.219.88.120|:443... connected.\n",
            "HTTP request sent, awaiting response... 200 OK\n",
            "Length: 209528 (205K) [text/plain]\n",
            "Saving to: ‘vocab.txt’\n",
            "\n",
            "vocab.txt           100%[===================>] 204.62K  --.-KB/s    in 0.1s    \n",
            "\n",
            "2020-10-06 13:37:06 (1.85 MB/s) - ‘vocab.txt’ saved [209528/209528]\n",
            "\n",
            "Diretório do modelo:'/content/modelobase' pronta!\n",
            "Carregando o tokenizador BERT_base do diretório '/content/modelobase' em língua 'portugues'...\n"
          ],
          "name": "stdout"
        }
      ]
    },
    {
      "cell_type": "code",
      "metadata": {
        "id": "SxPhkiHgC9rw",
        "outputId": "50938029-e73a-4003-94c4-b908c74e5631",
        "colab": {
          "base_uri": "https://localhost:8080/",
          "height": 528
        }
      },
      "source": [
        "tokenizador = getTokenizadorBERT(fonteBERT='diretorio', \n",
        "                      tamanhoBERT='large', \n",
        "                      linguaBERT='portugues')\n",
        "\n",
        "del tokenizador"
      ],
      "execution_count": 15,
      "outputs": [
        {
          "output_type": "stream",
          "text": [
            "--2020-10-06 13:37:07--  https://neuralmind-ai.s3.us-east-2.amazonaws.com/nlp/bert-large-portuguese-cased/bert-large-portuguese-cased_pytorch_checkpoint.zip\n",
            "Resolving neuralmind-ai.s3.us-east-2.amazonaws.com (neuralmind-ai.s3.us-east-2.amazonaws.com)... 52.219.104.184\n",
            "Connecting to neuralmind-ai.s3.us-east-2.amazonaws.com (neuralmind-ai.s3.us-east-2.amazonaws.com)|52.219.104.184|:443... connected.\n",
            "HTTP request sent, awaiting response... 200 OK\n",
            "Length: 1244275810 (1.2G) [application/zip]\n",
            "Saving to: ‘bert-large-portuguese-cased_pytorch_checkpoint.zip’\n",
            "\n",
            "bert-large-portugue 100%[===================>]   1.16G  95.6MB/s    in 12s     \n",
            "\n",
            "2020-10-06 13:37:19 (95.5 MB/s) - ‘bert-large-portuguese-cased_pytorch_checkpoint.zip’ saved [1244275810/1244275810]\n",
            "\n",
            "Archive:  bert-large-portuguese-cased_pytorch_checkpoint.zip\n",
            "  inflating: /content/modelolarge/config.json  \n",
            "  inflating: /content/modelolarge/pytorch_model.bin  \n",
            "--2020-10-06 13:37:36--  https://neuralmind-ai.s3.us-east-2.amazonaws.com/nlp/bert-large-portuguese-cased/vocab.txt\n",
            "Resolving neuralmind-ai.s3.us-east-2.amazonaws.com (neuralmind-ai.s3.us-east-2.amazonaws.com)... 52.219.97.90\n",
            "Connecting to neuralmind-ai.s3.us-east-2.amazonaws.com (neuralmind-ai.s3.us-east-2.amazonaws.com)|52.219.97.90|:443... connected.\n",
            "HTTP request sent, awaiting response... 200 OK\n",
            "Length: 209528 (205K) [text/plain]\n",
            "Saving to: ‘vocab.txt’\n",
            "\n",
            "vocab.txt           100%[===================>] 204.62K  --.-KB/s    in 0.08s   \n",
            "\n",
            "2020-10-06 13:37:36 (2.43 MB/s) - ‘vocab.txt’ saved [209528/209528]\n",
            "\n",
            "Diretório do modelo:'/content/modelolarge' pronta!\n",
            "Carregando o tokenizador BERT_large do diretório '/content/modelolarge' em língua 'portugues'...\n"
          ],
          "name": "stdout"
        }
      ]
    },
    {
      "cell_type": "code",
      "metadata": {
        "id": "ch9g2K7JC9ry",
        "outputId": "c0703ae6-2b96-44d1-99b6-a05bfb432f75",
        "colab": {
          "base_uri": "https://localhost:8080/",
          "height": 54
        }
      },
      "source": [
        "tokenizador = getTokenizadorBERT(fonteBERT='diretorio', \n",
        "                                 tamanhoBERT='base', \n",
        "                                 linguaBERT='portugues')\n",
        "\n",
        "del tokenizador"
      ],
      "execution_count": 16,
      "outputs": [
        {
          "output_type": "stream",
          "text": [
            "Diretório do modelo:'/content/modelobase' já existe!\n",
            "Carregando o tokenizador BERT_base do diretório '/content/modelobase' em língua 'portugues'...\n"
          ],
          "name": "stdout"
        }
      ]
    },
    {
      "cell_type": "code",
      "metadata": {
        "id": "wqAOEy4KC9r1",
        "outputId": "9fd3223d-2eae-493f-ed12-ff6baedb8479",
        "colab": {
          "base_uri": "https://localhost:8080/",
          "height": 35
        }
      },
      "source": [
        "tokenizador = getTokenizadorBERT(fonteBERT='comunidade', \n",
        "                      tamanhoBERT='large', \n",
        "                      linguaBERT='portugues')\n",
        "\n",
        "del tokenizador"
      ],
      "execution_count": 17,
      "outputs": [
        {
          "output_type": "stream",
          "text": [
            "Carregando o tokenizador BERT 'neuralmind/bert-large-portuguese-cased' da comunidade em língua 'portugues'...\n"
          ],
          "name": "stdout"
        }
      ]
    },
    {
      "cell_type": "code",
      "metadata": {
        "id": "7yZilzc7C9r3",
        "outputId": "1a875cc1-bf69-48de-a7a3-c22afb12aa57",
        "colab": {
          "base_uri": "https://localhost:8080/",
          "height": 35
        }
      },
      "source": [
        "tokenizador = getTokenizadorBERT(fonteBERT='comunidade', \n",
        "                                 tamanhoBERT='base', \n",
        "                                 linguaBERT='portugues')\n",
        "\n",
        "del tokenizador"
      ],
      "execution_count": 18,
      "outputs": [
        {
          "output_type": "stream",
          "text": [
            "Carregando o tokenizador BERT 'neuralmind/bert-base-portuguese-cased' da comunidade em língua 'portugues'...\n"
          ],
          "name": "stdout"
        }
      ]
    },
    {
      "cell_type": "code",
      "metadata": {
        "id": "wmcpd7bgC9r7",
        "outputId": "ee21ef69-76dd-4c1e-c085-d9dd4fb00866",
        "colab": {
          "base_uri": "https://localhost:8080/",
          "height": 104,
          "referenced_widgets": [
            "0239f991fe6b40dd9820f01ecf28cc4f",
            "384feb5d571449fbb4f85949136c272a",
            "4409b3f9dc9d4cd1a539caafe8001c67",
            "32dc4ef022e24c93aab241f68dd47624",
            "53b1bb8b4656470ca579a337c750a698",
            "5a3b9832c9dd43f78e1234440a469ec7",
            "c8816dcbb705458c84a0959782e4922c",
            "2642654ce57043eea57b3321d1f2d5b3"
          ]
        }
      },
      "source": [
        "tokenizador  = getTokenizadorBERT(tamanhoBERT='large', \n",
        "                                  linguaBERT='ingles')\n",
        "\n",
        "del tokenizador"
      ],
      "execution_count": 19,
      "outputs": [
        {
          "output_type": "stream",
          "text": [
            "O modelo BERT na língua inglesa deve ser carregado somente da comunidade.\n",
            "Carregando o tokenizador BERT 'bert-large-uncased' da comunidade em língua 'ingles'...\n"
          ],
          "name": "stdout"
        },
        {
          "output_type": "display_data",
          "data": {
            "application/vnd.jupyter.widget-view+json": {
              "model_id": "0239f991fe6b40dd9820f01ecf28cc4f",
              "version_minor": 0,
              "version_major": 2
            },
            "text/plain": [
              "HBox(children=(FloatProgress(value=0.0, description='Downloading', max=231508.0, style=ProgressStyle(descripti…"
            ]
          },
          "metadata": {
            "tags": []
          }
        },
        {
          "output_type": "stream",
          "text": [
            "\n"
          ],
          "name": "stdout"
        }
      ]
    },
    {
      "cell_type": "code",
      "metadata": {
        "id": "EtLgJEEGC9r-",
        "outputId": "ec0c57c4-a2dc-40ae-cac9-2a7163b98f87",
        "colab": {
          "base_uri": "https://localhost:8080/",
          "height": 104,
          "referenced_widgets": [
            "d872ca7c7061457b93fa2353b3460a58",
            "a170c42b9c294fd089f0ceb7b28930c2",
            "abf49571c4e6425185cf2fc78cf1a9bc",
            "249843f481e24a0a8bc853a335384fe2",
            "b2ff695dfd2f49f1aebf6b415c3f48b1",
            "9efce8adef4f4f0f8d9e3ec6a01533a9",
            "84ed142f17fe46cab07f8f12e249a411",
            "d7358320f8564d59a0c0090790762fdd"
          ]
        }
      },
      "source": [
        "tokenizador = getTokenizadorBERT(tamanhoBERT='base', \n",
        "                                 linguaBERT='ingles')\n",
        "\n",
        "del tokenizador"
      ],
      "execution_count": 20,
      "outputs": [
        {
          "output_type": "stream",
          "text": [
            "O modelo BERT na língua inglesa deve ser carregado somente da comunidade.\n",
            "Carregando o tokenizador BERT 'bert-base-uncased' da comunidade em língua 'ingles'...\n"
          ],
          "name": "stdout"
        },
        {
          "output_type": "display_data",
          "data": {
            "application/vnd.jupyter.widget-view+json": {
              "model_id": "d872ca7c7061457b93fa2353b3460a58",
              "version_minor": 0,
              "version_major": 2
            },
            "text/plain": [
              "HBox(children=(FloatProgress(value=0.0, description='Downloading', max=231508.0, style=ProgressStyle(descripti…"
            ]
          },
          "metadata": {
            "tags": []
          }
        },
        {
          "output_type": "stream",
          "text": [
            "\n"
          ],
          "name": "stdout"
        }
      ]
    },
    {
      "cell_type": "code",
      "metadata": {
        "id": "1IxywOwUC9sA",
        "outputId": "61a33d5d-4f38-4845-fca0-20c94044b68d",
        "colab": {
          "base_uri": "https://localhost:8080/",
          "height": 54
        }
      },
      "source": [
        "tokenizador = getTokenizadorBERT(fonteBERT='diretorio', \n",
        "                                tamanhoBERT='large', \n",
        "                                linguaBERT='ingles')\n",
        "\n",
        "del tokenizador"
      ],
      "execution_count": 22,
      "outputs": [
        {
          "output_type": "stream",
          "text": [
            "O modelo BERT na língua inglesa deve ser carregado somente da comunidade.\n",
            "Carregando o tokenizador BERT 'bert-large-uncased' da comunidade em língua 'ingles'...\n"
          ],
          "name": "stdout"
        }
      ]
    },
    {
      "cell_type": "code",
      "metadata": {
        "id": "aoH_mQBaC9sC",
        "outputId": "05a03b26-c428-4969-a8bb-eec272e18055",
        "colab": {
          "base_uri": "https://localhost:8080/",
          "height": 54
        }
      },
      "source": [
        "tokenizador = getTokenizadorBERT(fonteBERT='diretorio', \n",
        "                                 tamanhoBERT='base', \n",
        "                                 linguaBERT='ingles')\n",
        "\n",
        "del tokenizador"
      ],
      "execution_count": 23,
      "outputs": [
        {
          "output_type": "stream",
          "text": [
            "O modelo BERT na língua inglesa deve ser carregado somente da comunidade.\n",
            "Carregando o tokenizador BERT 'bert-base-uncased' da comunidade em língua 'ingles'...\n"
          ],
          "name": "stdout"
        }
      ]
    },
    {
      "cell_type": "code",
      "metadata": {
        "id": "PsVXks6PC9sE",
        "outputId": "2449e08e-aacd-42a9-c55b-d20315b2b708",
        "colab": {
          "base_uri": "https://localhost:8080/",
          "height": 54
        }
      },
      "source": [
        "tokenizador = getTokenizadorBERT(fonteBERT='comunidade', \n",
        "                                 tamanhoBERT='large', \n",
        "                                 linguaBERT='ingles')\n",
        "\n",
        "del tokenizador"
      ],
      "execution_count": 24,
      "outputs": [
        {
          "output_type": "stream",
          "text": [
            "O modelo BERT na língua inglesa deve ser carregado somente da comunidade.\n",
            "Carregando o tokenizador BERT 'bert-large-uncased' da comunidade em língua 'ingles'...\n"
          ],
          "name": "stdout"
        }
      ]
    },
    {
      "cell_type": "code",
      "metadata": {
        "id": "uJ1NiUxgC9sH",
        "outputId": "402d595a-afa2-4bfa-9691-a36c691708da",
        "colab": {
          "base_uri": "https://localhost:8080/",
          "height": 54
        }
      },
      "source": [
        "tokenizador = getTokenizadorBERT(fonteBERT='comunidade', \n",
        "                                 tamanhoBERT='base', \n",
        "                                 linguaBERT='ingles') \n",
        "\n",
        "del tokenizador"
      ],
      "execution_count": 26,
      "outputs": [
        {
          "output_type": "stream",
          "text": [
            "O modelo BERT na língua inglesa deve ser carregado somente da comunidade.\n",
            "Carregando o tokenizador BERT 'bert-base-uncased' da comunidade em língua 'ingles'...\n"
          ],
          "name": "stdout"
        }
      ]
    },
    {
      "cell_type": "code",
      "metadata": {
        "id": "EiwRA1m9C9sQ",
        "outputId": "2672e8be-ed39-4ec6-a1e8-64cba15ba013",
        "colab": {
          "base_uri": "https://localhost:8080/",
          "height": 35
        }
      },
      "source": [
        "import gc\n",
        "gc.collect()"
      ],
      "execution_count": 27,
      "outputs": [
        {
          "output_type": "execute_result",
          "data": {
            "text/plain": [
              "907"
            ]
          },
          "metadata": {
            "tags": []
          },
          "execution_count": 27
        }
      ]
    },
    {
      "cell_type": "markdown",
      "metadata": {
        "id": "TnCNWElNFi49"
      },
      "source": [
        "#### Usando o BERT da comunidade ou diretório  com uma função v4\n",
        "\n",
        "Função que retorna modelo do BERT. permite configurar o tamanho do modelo e a fonte do modelo. \n",
        "\n",
        "A linguagem do modelo é especificada internamente na função.\n",
        "\n",
        "O parâmetro  `fonteBERT` com os valores `comunidade` ou `diretório` especifica se deve ser carregado o BERT de um diretório ou da comunidade.\n",
        "\n",
        "O parâmetro `tamanhoBERT` com os valores `base` ou `large` especifica se o tamanho do modelo BERT a ser utilizado.\n",
        "\n",
        "O parâmetro `lingua` com os valores `portugues` ou `ingles` especifica a lingua do modelo BERT a ser utilizado.\n",
        "\n",
        "O parâmetro `pesosCamadasOcultas` com os valores `True` ou `False` especifica se é para gerar e retornar os pesos das camadas ocultas.\n",
        "\n",
        "A função retorna o **modelo** para os parâmetros especificado"
      ]
    },
    {
      "cell_type": "markdown",
      "metadata": {
        "id": "x_HNay2hFi49"
      },
      "source": [
        "##### Declarando uma função que retorna o tokenizador e o modelo."
      ]
    },
    {
      "cell_type": "code",
      "metadata": {
        "id": "qEu7UM89Fi4-"
      },
      "source": [
        "# Valores default para os parâmetros da função\n",
        "def getModeloBERT(fonteBERT = 'comunidade', \n",
        "                  tamanhoBERT = 'base', \n",
        "                  linguaBERT = 'portugues', \n",
        "                  pesosCamadasOcultas = False):\n",
        "\n",
        "    \"\"\"Retorna o modelo BERT carregado.\n",
        "    De acordo com os parâmetros especificados ou carrega o BERT da comunidade \n",
        "    ou realiza o download dos arquivos do modelo.\n",
        "\n",
        "    Args:\n",
        "        fonteBERT: Especifica a origem do modelo do BERT 'comunidade' ou 'diretorio'.\n",
        "        tamanhoBERT: Especifica o tamanho do modelo do BERT 'large' ou 'base'.\n",
        "        linguaBERT: Especifica a língua do modelo do BERT 'portugues' ou 'ingles'.\n",
        "        pesosCamadasOcultas: Especifica ao modelo para manter os pesos de todas as camadas \n",
        "            ocultas, caso contrário mantém somente a última. A avaliação do modelo retorna\n",
        "            um número de diferentes objetos com base em como é configurado na chamada do\n",
        "            método `from_pretrained`. O retorno de model quando output_hidden_states=True´ é:  \n",
        "                #outputs[0] = last_hidden_state, outputs[1] = pooler_output, outputs[2] = hidden_states            \n",
        "            Veja a documentação para mais detalhes:\n",
        "            https://huggingface.co/transformers/model_doc/bert.html#bertmodel\n",
        "\n",
        "    Returns:        \n",
        "        `modelo` com o modelo BERT carregado.\n",
        "    \"\"\"\n",
        "    #======================================================================\n",
        "    # Verificação do idioma e tamanho do modelo\n",
        "    #======================================================================\n",
        "    # Verifica se a língua é português e o tamanho do modelo\n",
        "    if linguaBERT == 'portugues' and tamanhoBERT == 'base':\n",
        "        nome_modelo_bert = 'neuralmind/bert-base-portuguese-cased'\n",
        "    else:\n",
        "        if linguaBERT == 'portugues' and tamanhoBERT == 'large':\n",
        "            nome_modelo_bert = 'neuralmind/bert-large-portuguese-cased'\n",
        "        else:\n",
        "            # Verifica se a língua é inglés e o tamanho do modelo\n",
        "            if linguaBERT == 'ingles' and tamanhoBERT == 'base':\n",
        "                nome_modelo_bert = 'bert-base-uncased'\n",
        "            else:\n",
        "                if linguaBERT == 'ingles' and tamanhoBERT == 'large':\n",
        "                    nome_modelo_bert = 'bert-large-uncased'\n",
        "                else:\n",
        "                    print(\"Parâmetros \\'língua\\' e \\'tamanhoBERT\\' especificados incorretamente!\")\n",
        "                    return None, None\n",
        "\n",
        "    #======================================================================\n",
        "    # Download do arquivo do modelo\n",
        "    #======================================================================\n",
        "    #Se a variável 'fonteBERT' foi setada para 'diretorio' faz o download dos arquivos modelo\n",
        "    if fonteBERT == 'diretorio' and linguaBERT == 'portugues':\n",
        "    \n",
        "      # Se a variável 'tamanhoBERT' foi setada para 'base' faz o download do arquivo do tamanho base do BERT, caso contrário do large.\n",
        "      if tamanhoBERT == 'base':\n",
        "          # url do arquivo do modelo do Pytorch checkpoint\n",
        "          # arquivo menor(base) 1.1 Gbytes\n",
        "          url = \"https://neuralmind-ai.s3.us-east-2.amazonaws.com/nlp/bert-base-portuguese-cased/bert-base-portuguese-cased_pytorch_checkpoint.zip\"\n",
        "      else:\n",
        "          # url do arquivo do modelo do Pytorch checkpoint\n",
        "          # arquivo grande(large) 3.5 Gbytes\n",
        "          url = \"https://neuralmind-ai.s3.us-east-2.amazonaws.com/nlp/bert-large-portuguese-cased/bert-large-portuguese-cased_pytorch_checkpoint.zip\"\n",
        "\n",
        "      # Diretório descompactação do modelo\n",
        "      diretorio = '/content/modelo' + tamanhoBERT\n",
        "\n",
        "      # Recupera o nome do arquivo do modelo da url anterior\n",
        "      arquivo = url.split(\"/\")[-1]\n",
        "\n",
        "      # Nome do arquivo do vocabulário\n",
        "      arquivo_vocab = \"vocab.txt\"\n",
        "\n",
        "      # Caminho do arquivo na url\n",
        "      caminho = url[0:len(url)-len(arquivo)]\n",
        "\n",
        "      # Verifica se a pasta de descompactação existe no pasta corrente\n",
        "      if not os.path.exists(diretorio):\n",
        "   \n",
        "          # Realiza o download do arquivo do modelo\n",
        "          !wget $url\n",
        "    \n",
        "          # Descompacta o arquivo na pasta de destino\n",
        "          !unzip -o $arquivo -d $diretorio\n",
        "\n",
        "          # Realiza o download do arquivo do vocabulário\n",
        "          # O vocabulário não está no arquivo compactado acima\n",
        "          # Concatena o caminho do modelo mais o nome do arquivo do vocabulário\n",
        "          url_vocab = caminho + arquivo_vocab\n",
        "\n",
        "          # Realiza o download do arquivo do vocabulário\n",
        "          !wget $url_vocab\n",
        "    \n",
        "          # Move o arquivo do vocabulário para o diretório do modelo\n",
        "          !mv $arquivo_vocab $diretorio\n",
        "            \n",
        "          # Move o arquivo do modelo para o diretório do modelo\n",
        "          !mv $arquivo $diretorio      \n",
        "                \n",
        "          print('Diretório do modelo:\\'' + diretorio + '\\' pronta!')\n",
        "      else:      \n",
        "          print('Diretório do modelo:\\'' + diretorio + '\\' já existe!')\n",
        "      \n",
        "    else:\n",
        "        if linguaBERT == 'ingles':\n",
        "            print('O modelo BERT na língua inglesa deve ser carregado somente da comunidade.')\n",
        "       \n",
        "    #======================================================================\n",
        "    # Carregamento do modelo\n",
        "    #======================================================================\n",
        "\n",
        "    # Importando as bibliotecas do Modelo\n",
        "    from transformers import BertModel\n",
        "\n",
        "    # Se a variável 'fonteBERT' foi setada para 'diretorio' faz o download dos arquivos modelo\n",
        "    # Carregamento de diretório somente para a língua portuguesa\n",
        "    if fonteBERT == 'diretorio' and linguaBERT == 'portugues':\n",
        "\n",
        "        # Carregando o Modelo do diretório\n",
        "        print('Carregando o modelo BERT_' + tamanhoBERT \n",
        "              + ' do diretório \\'' + diretorio \n",
        "              + '\\' em língua \\''+ linguaBERT \n",
        "              + '\\' com os pesos das camadas ocultas=' + str(pesosCamadasOcultas) + '...')\n",
        "\n",
        "        model = BertModel.from_pretrained(diretorio, output_hidden_states = pesosCamadasOcultas)\n",
        "\n",
        "    else:\n",
        "\n",
        "        # Carregando o Modelo da comunidade\n",
        "        print('Carregando o modelo BERT \\'' + nome_modelo_bert \n",
        "              + '\\' da comunidade em língua \\''+ linguaBERT \n",
        "              + '\\' com os pesos das camadas ocultas=' + str(pesosCamadasOcultas) + '...')\n",
        "\n",
        "        model = BertModel.from_pretrained(nome_modelo_bert, output_hidden_states = pesosCamadasOcultas)  \n",
        "    \n",
        "    # Retorna o modelo BERT carregado           \n",
        "    return  model"
      ],
      "execution_count": 28,
      "outputs": []
    },
    {
      "cell_type": "markdown",
      "metadata": {
        "id": "lQsZoz_0Fi5B"
      },
      "source": [
        "##### Usando a função getModeloBERT()"
      ]
    },
    {
      "cell_type": "code",
      "metadata": {
        "id": "Shpi5zYrFi5C",
        "outputId": "98c9d135-0be1-466f-cf64-d147d6120cd2",
        "colab": {
          "base_uri": "https://localhost:8080/",
          "height": 55
        }
      },
      "source": [
        "model = getModeloBERT()\n",
        "\n",
        "del model"
      ],
      "execution_count": 30,
      "outputs": [
        {
          "output_type": "stream",
          "text": [
            "Carregando o modelo BERT 'neuralmind/bert-base-portuguese-cased' da comunidade em língua 'portugues' com os pesos das camadas ocultas=False...\n"
          ],
          "name": "stdout"
        }
      ]
    },
    {
      "cell_type": "code",
      "metadata": {
        "id": "1vgrczx9Fi5F",
        "outputId": "d3510a3f-c445-410a-aaf6-c9894e159e57",
        "colab": {
          "base_uri": "https://localhost:8080/",
          "height": 155,
          "referenced_widgets": [
            "047a27a96aaa4782b97cce5c83ca13da",
            "e02cc93676e84f80aa3a498a14f4e044",
            "63c58fc5020546f9aebc4dab39b1d699",
            "dd7c24e0d721467a9a08602f3f2479c6",
            "1277cf50cecd4c5197f2ead923a5bc47",
            "7ae2f859376e42beaf386f85e2288884",
            "b4f771cde5b0443c9bd845610ca6fa67",
            "86fbff08134c4335868a24d561c1f469",
            "be5c41704be3482ea543c1f7986d0ab3",
            "9021236616dc43d49b7878e3efd3fc89",
            "a5ea36e6c1474d5eb1ff303e426bcc17",
            "20cf34fb0b2740c4ba1ecdadc2cfd0ac",
            "e389fa8d249040598ba7fa36d217421a",
            "c6284450fbc24f5bbb5cd45d961ecd17",
            "c7017d2a2831435fb3cdc5c1fbeb5bb1",
            "d26849409cf84e8d818b146e6d8722d1"
          ]
        }
      },
      "source": [
        "model = getModeloBERT(tamanhoBERT='large')\n",
        "\n",
        "del model"
      ],
      "execution_count": 31,
      "outputs": [
        {
          "output_type": "stream",
          "text": [
            "Carregando o modelo BERT 'neuralmind/bert-large-portuguese-cased' da comunidade em língua 'portugues' com os pesos das camadas ocultas=False...\n"
          ],
          "name": "stdout"
        },
        {
          "output_type": "display_data",
          "data": {
            "application/vnd.jupyter.widget-view+json": {
              "model_id": "047a27a96aaa4782b97cce5c83ca13da",
              "version_minor": 0,
              "version_major": 2
            },
            "text/plain": [
              "HBox(children=(FloatProgress(value=0.0, description='Downloading', max=648.0, style=ProgressStyle(description_…"
            ]
          },
          "metadata": {
            "tags": []
          }
        },
        {
          "output_type": "stream",
          "text": [
            "\n"
          ],
          "name": "stdout"
        },
        {
          "output_type": "display_data",
          "data": {
            "application/vnd.jupyter.widget-view+json": {
              "model_id": "be5c41704be3482ea543c1f7986d0ab3",
              "version_minor": 0,
              "version_major": 2
            },
            "text/plain": [
              "HBox(children=(FloatProgress(value=0.0, description='Downloading', max=1342014951.0, style=ProgressStyle(descr…"
            ]
          },
          "metadata": {
            "tags": []
          }
        },
        {
          "output_type": "stream",
          "text": [
            "\n"
          ],
          "name": "stdout"
        }
      ]
    },
    {
      "cell_type": "code",
      "metadata": {
        "id": "Ee7F6aJZFi5I",
        "outputId": "9a8d2eef-3031-4580-c5c7-1bf20b0a19b0",
        "colab": {
          "base_uri": "https://localhost:8080/",
          "height": 55
        }
      },
      "source": [
        "model = getModeloBERT(tamanhoBERT='base')\n",
        "\n",
        "del model"
      ],
      "execution_count": 32,
      "outputs": [
        {
          "output_type": "stream",
          "text": [
            "Carregando o modelo BERT 'neuralmind/bert-base-portuguese-cased' da comunidade em língua 'portugues' com os pesos das camadas ocultas=False...\n"
          ],
          "name": "stdout"
        }
      ]
    },
    {
      "cell_type": "code",
      "metadata": {
        "id": "0Ouj7SbLFi5M",
        "outputId": "aa04a86c-e5c3-4eee-8ac9-c20f53185e7a",
        "colab": {
          "base_uri": "https://localhost:8080/",
          "height": 74
        }
      },
      "source": [
        "model = getModeloBERT(fonteBERT='diretorio', \n",
        "                      tamanhoBERT='base')\n",
        "del model"
      ],
      "execution_count": 33,
      "outputs": [
        {
          "output_type": "stream",
          "text": [
            "Diretório do modelo:'/content/modelobase' já existe!\n",
            "Carregando o modelo BERT_base do diretório '/content/modelobase' em língua 'portugues' com os pesos das camadas ocultas=False...\n"
          ],
          "name": "stdout"
        }
      ]
    },
    {
      "cell_type": "code",
      "metadata": {
        "id": "Re0JeBNIFi5P",
        "outputId": "390038a3-dfd4-4c33-bae6-e6f21995625e",
        "colab": {
          "base_uri": "https://localhost:8080/",
          "height": 74
        }
      },
      "source": [
        "model = getModeloBERT(fonteBERT='diretorio', \n",
        "                      tamanhoBERT='large', \n",
        "                      linguaBERT='portugues')\n",
        "\n",
        "del model"
      ],
      "execution_count": 34,
      "outputs": [
        {
          "output_type": "stream",
          "text": [
            "Diretório do modelo:'/content/modelolarge' já existe!\n",
            "Carregando o modelo BERT_large do diretório '/content/modelolarge' em língua 'portugues' com os pesos das camadas ocultas=False...\n"
          ],
          "name": "stdout"
        }
      ]
    },
    {
      "cell_type": "code",
      "metadata": {
        "id": "D84OnvHPFi5R",
        "outputId": "a0d9c08d-27b3-4ca7-cae4-4eeb6b477941",
        "colab": {
          "base_uri": "https://localhost:8080/",
          "height": 74
        }
      },
      "source": [
        "model = getModeloBERT(fonteBERT='diretorio', \n",
        "                      tamanhoBERT='base', \n",
        "                      linguaBERT='portugues')\n",
        "\n",
        "del model"
      ],
      "execution_count": 35,
      "outputs": [
        {
          "output_type": "stream",
          "text": [
            "Diretório do modelo:'/content/modelobase' já existe!\n",
            "Carregando o modelo BERT_base do diretório '/content/modelobase' em língua 'portugues' com os pesos das camadas ocultas=False...\n"
          ],
          "name": "stdout"
        }
      ]
    },
    {
      "cell_type": "code",
      "metadata": {
        "id": "1x7bJqb4Fi5U",
        "outputId": "56e32e6d-1bd5-4223-faf4-52abb4f4580b",
        "colab": {
          "base_uri": "https://localhost:8080/",
          "height": 55
        }
      },
      "source": [
        "model = getModeloBERT(fonteBERT='comunidade', \n",
        "                      tamanhoBERT='large', \n",
        "                      linguaBERT='portugues')\n",
        "\n",
        "del model"
      ],
      "execution_count": 36,
      "outputs": [
        {
          "output_type": "stream",
          "text": [
            "Carregando o modelo BERT 'neuralmind/bert-large-portuguese-cased' da comunidade em língua 'portugues' com os pesos das camadas ocultas=False...\n"
          ],
          "name": "stdout"
        }
      ]
    },
    {
      "cell_type": "code",
      "metadata": {
        "id": "_QRBdDKMFi5W",
        "outputId": "ad546073-85cc-43e7-b751-a62e13080fce",
        "colab": {
          "base_uri": "https://localhost:8080/",
          "height": 55
        }
      },
      "source": [
        "model = getModeloBERT(fonteBERT='comunidade', \n",
        "                      tamanhoBERT='base', \n",
        "                      linguaBERT='portugues')\n",
        "\n",
        "del model"
      ],
      "execution_count": 37,
      "outputs": [
        {
          "output_type": "stream",
          "text": [
            "Carregando o modelo BERT 'neuralmind/bert-base-portuguese-cased' da comunidade em língua 'portugues' com os pesos das camadas ocultas=False...\n"
          ],
          "name": "stdout"
        }
      ]
    },
    {
      "cell_type": "code",
      "metadata": {
        "id": "nsoRCNwLFi5Y",
        "outputId": "82606d92-7598-4580-c64b-8be9d60b10e7",
        "colab": {
          "base_uri": "https://localhost:8080/",
          "height": 55
        }
      },
      "source": [
        "model =getModeloBERT(fonteBERT='comunidade', \n",
        "                     tamanhoBERT='base', \n",
        "                     linguaBERT='portugues',\n",
        "                     pesosCamadasOcultas = False)\n",
        "\n",
        "del model"
      ],
      "execution_count": 38,
      "outputs": [
        {
          "output_type": "stream",
          "text": [
            "Carregando o modelo BERT 'neuralmind/bert-base-portuguese-cased' da comunidade em língua 'portugues' com os pesos das camadas ocultas=False...\n"
          ],
          "name": "stdout"
        }
      ]
    },
    {
      "cell_type": "code",
      "metadata": {
        "id": "qkLHJXiUFi5c",
        "outputId": "c4e0fde8-bcf7-4a20-dc29-b1622cf10ccb",
        "colab": {
          "base_uri": "https://localhost:8080/",
          "height": 174,
          "referenced_widgets": [
            "c807f558303c43709022f458bb15a0a9",
            "83c1b9e017b04e86b89e85335aee23cb",
            "30144a0f92964596869e820fa0d4b75a",
            "8cc8732e749a47e7bb2592934c810721",
            "553ad448cbac463db1e50850e5d0c0e2",
            "fcba10eaf6bc4988a3fb162891606a4c",
            "78916270b5724755bb756231bd3a3776",
            "95a4eb2dee424ce6a825c46cbc1c1017",
            "6fc873cb07c5437cb49e7b6f1a88093e",
            "507aa3ab69c140f2af2c25410e89c0ac",
            "4c46d7eb05a0489ebbfbf96945c6fb7a",
            "617796065bbf404e8aee0aad01177a61",
            "ecf13d9a02ac4190b7d177e8310b5af0",
            "354a02a07858423e8d89f3ecded3f279",
            "6230f71bb07049fba11c2f25c2fdd7ea",
            "6b38186427234590909c427b388f99dc"
          ]
        }
      },
      "source": [
        "model = getModeloBERT(tamanhoBERT='large', \n",
        "                      linguaBERT='ingles')\n",
        "\n",
        "del model"
      ],
      "execution_count": 39,
      "outputs": [
        {
          "output_type": "stream",
          "text": [
            "O modelo BERT na língua inglesa deve ser carregado somente da comunidade.\n",
            "Carregando o modelo BERT 'bert-large-uncased' da comunidade em língua 'ingles' com os pesos das camadas ocultas=False...\n"
          ],
          "name": "stdout"
        },
        {
          "output_type": "display_data",
          "data": {
            "application/vnd.jupyter.widget-view+json": {
              "model_id": "c807f558303c43709022f458bb15a0a9",
              "version_minor": 0,
              "version_major": 2
            },
            "text/plain": [
              "HBox(children=(FloatProgress(value=0.0, description='Downloading', max=434.0, style=ProgressStyle(description_…"
            ]
          },
          "metadata": {
            "tags": []
          }
        },
        {
          "output_type": "stream",
          "text": [
            "\n"
          ],
          "name": "stdout"
        },
        {
          "output_type": "display_data",
          "data": {
            "application/vnd.jupyter.widget-view+json": {
              "model_id": "6fc873cb07c5437cb49e7b6f1a88093e",
              "version_minor": 0,
              "version_major": 2
            },
            "text/plain": [
              "HBox(children=(FloatProgress(value=0.0, description='Downloading', max=1344997306.0, style=ProgressStyle(descr…"
            ]
          },
          "metadata": {
            "tags": []
          }
        },
        {
          "output_type": "stream",
          "text": [
            "\n"
          ],
          "name": "stdout"
        }
      ]
    },
    {
      "cell_type": "code",
      "metadata": {
        "id": "-DWDVehwFi5g",
        "outputId": "8a244598-abd3-4bdb-e8e7-9559a7b51327",
        "colab": {
          "base_uri": "https://localhost:8080/",
          "height": 174,
          "referenced_widgets": [
            "c7cf3ad121fd41e7b11a715ab8b3d8a8",
            "5be66919559847e5b769de3041bf67f2",
            "19fb951c306646139ff8c520c6c82901",
            "96b0d711b72e49338b6b4b7930d75078",
            "10c0f5e42ba142dcb06a354c0132a5db",
            "e51671f1af5f41289a077bac47b81345",
            "73e5cda652554bdab288320257d88ef6",
            "f4b88efaabe64dd29fa74dbfa58b4838",
            "d0007c73ab924ea4ba00ed69c1d55d7d",
            "2e232d29fa334d6ea595f710fe91c319",
            "242f69c9150f4b37afc66605eddc372d",
            "9bb944543da1452e87c9eebb9ee73107",
            "dd92b36f74db474ab6bca2a9b411c9c5",
            "ba003ad2875e427d8cb98ac396ff69af",
            "0ff9011849e048b39b1d48797d1287bd",
            "4cad9fd54a524097a788a3e77eda4489"
          ]
        }
      },
      "source": [
        "model = getModeloBERT(tamanhoBERT='base', \n",
        "                     linguaBERT='ingles')\n",
        "\n",
        "del model"
      ],
      "execution_count": 40,
      "outputs": [
        {
          "output_type": "stream",
          "text": [
            "O modelo BERT na língua inglesa deve ser carregado somente da comunidade.\n",
            "Carregando o modelo BERT 'bert-base-uncased' da comunidade em língua 'ingles' com os pesos das camadas ocultas=False...\n"
          ],
          "name": "stdout"
        },
        {
          "output_type": "display_data",
          "data": {
            "application/vnd.jupyter.widget-view+json": {
              "model_id": "c7cf3ad121fd41e7b11a715ab8b3d8a8",
              "version_minor": 0,
              "version_major": 2
            },
            "text/plain": [
              "HBox(children=(FloatProgress(value=0.0, description='Downloading', max=433.0, style=ProgressStyle(description_…"
            ]
          },
          "metadata": {
            "tags": []
          }
        },
        {
          "output_type": "stream",
          "text": [
            "\n"
          ],
          "name": "stdout"
        },
        {
          "output_type": "display_data",
          "data": {
            "application/vnd.jupyter.widget-view+json": {
              "model_id": "d0007c73ab924ea4ba00ed69c1d55d7d",
              "version_minor": 0,
              "version_major": 2
            },
            "text/plain": [
              "HBox(children=(FloatProgress(value=0.0, description='Downloading', max=440473133.0, style=ProgressStyle(descri…"
            ]
          },
          "metadata": {
            "tags": []
          }
        },
        {
          "output_type": "stream",
          "text": [
            "\n"
          ],
          "name": "stdout"
        }
      ]
    },
    {
      "cell_type": "code",
      "metadata": {
        "id": "jaf7ha23Fi5j",
        "outputId": "bca2e91c-2dcb-4bee-dae2-874da317da20",
        "colab": {
          "base_uri": "https://localhost:8080/",
          "height": 74
        }
      },
      "source": [
        "model = getModeloBERT(fonteBERT='diretorio', \n",
        "                      tamanhoBERT='large', \n",
        "                      linguaBERT='ingles')\n",
        "\n",
        "del model"
      ],
      "execution_count": 41,
      "outputs": [
        {
          "output_type": "stream",
          "text": [
            "O modelo BERT na língua inglesa deve ser carregado somente da comunidade.\n",
            "Carregando o modelo BERT 'bert-large-uncased' da comunidade em língua 'ingles' com os pesos das camadas ocultas=False...\n"
          ],
          "name": "stdout"
        }
      ]
    },
    {
      "cell_type": "code",
      "metadata": {
        "id": "XhpOpsNcFi5m",
        "outputId": "8b38e938-4e40-4161-8b22-429132a22236",
        "colab": {
          "base_uri": "https://localhost:8080/",
          "height": 74
        }
      },
      "source": [
        "model = getModeloBERT(fonteBERT='diretorio', \n",
        "                      tamanhoBERT='base', \n",
        "                      linguaBERT='ingles')\n",
        "\n",
        "del model"
      ],
      "execution_count": 42,
      "outputs": [
        {
          "output_type": "stream",
          "text": [
            "O modelo BERT na língua inglesa deve ser carregado somente da comunidade.\n",
            "Carregando o modelo BERT 'bert-base-uncased' da comunidade em língua 'ingles' com os pesos das camadas ocultas=False...\n"
          ],
          "name": "stdout"
        }
      ]
    },
    {
      "cell_type": "code",
      "metadata": {
        "id": "IzLsTc5CFi5o",
        "outputId": "aee6575c-1ab0-4988-863f-cdc500f53f19",
        "colab": {
          "base_uri": "https://localhost:8080/",
          "height": 74
        }
      },
      "source": [
        "model = getModeloBERT(fonteBERT='comunidade', \n",
        "                      tamanhoBERT='large', \n",
        "                      linguaBERT='ingles')\n",
        "\n",
        "del model"
      ],
      "execution_count": 43,
      "outputs": [
        {
          "output_type": "stream",
          "text": [
            "O modelo BERT na língua inglesa deve ser carregado somente da comunidade.\n",
            "Carregando o modelo BERT 'bert-large-uncased' da comunidade em língua 'ingles' com os pesos das camadas ocultas=False...\n"
          ],
          "name": "stdout"
        }
      ]
    },
    {
      "cell_type": "code",
      "metadata": {
        "id": "TGpA4qAWFi5r",
        "outputId": "1039b8ad-a275-45a2-e8b1-c353ab708cf3",
        "colab": {
          "base_uri": "https://localhost:8080/",
          "height": 74
        }
      },
      "source": [
        "model = getModeloBERT(fonteBERT='comunidade', \n",
        "                      tamanhoBERT='base', \n",
        "                      linguaBERT='ingles') \n",
        "\n",
        "del model"
      ],
      "execution_count": 44,
      "outputs": [
        {
          "output_type": "stream",
          "text": [
            "O modelo BERT na língua inglesa deve ser carregado somente da comunidade.\n",
            "Carregando o modelo BERT 'bert-base-uncased' da comunidade em língua 'ingles' com os pesos das camadas ocultas=False...\n"
          ],
          "name": "stdout"
        }
      ]
    },
    {
      "cell_type": "code",
      "metadata": {
        "id": "ccq15D00Fi5t",
        "outputId": "69e7aa69-9377-488e-e427-bbc263ca5184",
        "colab": {
          "base_uri": "https://localhost:8080/",
          "height": 74
        }
      },
      "source": [
        "model = getModeloBERT(fonteBERT='comunidade', \n",
        "                      tamanhoBERT='base', \n",
        "                      linguaBERT='ingles', \n",
        "                      pesosCamadasOcultas = False)\n",
        "\n",
        "del model"
      ],
      "execution_count": 45,
      "outputs": [
        {
          "output_type": "stream",
          "text": [
            "O modelo BERT na língua inglesa deve ser carregado somente da comunidade.\n",
            "Carregando o modelo BERT 'bert-base-uncased' da comunidade em língua 'ingles' com os pesos das camadas ocultas=False...\n"
          ],
          "name": "stdout"
        }
      ]
    },
    {
      "cell_type": "code",
      "metadata": {
        "id": "AAmRY-IEFi5x",
        "outputId": "6e5179fc-6cba-44d9-da17-f473dd42b79a",
        "colab": {
          "base_uri": "https://localhost:8080/",
          "height": 35
        }
      },
      "source": [
        "import gc\n",
        "gc.collect()"
      ],
      "execution_count": 46,
      "outputs": [
        {
          "output_type": "execute_result",
          "data": {
            "text/plain": [
              "4859"
            ]
          },
          "metadata": {
            "tags": []
          },
          "execution_count": 46
        }
      ]
    },
    {
      "cell_type": "markdown",
      "metadata": {
        "id": "CxolJHbqz83c"
      },
      "source": [
        "#### Usando o BERT da comunidade ou diretório  com uma função v5\n",
        "\n",
        "Função que retorna o tokenizador e modelo do BERT. permite configurar o tamanho do modelo e a fonte do modelo. \n",
        "\n",
        "A linguagem do modelo é especificada internamente na função.\n",
        "\n",
        "O parâmetro  `fonteBERT` com os valores `comunidade` ou `diretório` especifica se deve ser carregado o BERT de um diretório ou da comunidade.\n",
        "\n",
        "O parâmetro `tamanhoBERT` com os valores `base` ou `large` especifica se o tamanho do modelo BERT a ser utilizado.\n",
        "\n",
        "O parâmetro `lingua` com os valores `portugues` ou `ingles` especifica a lingua do modelo BERT a ser utilizado.\n",
        "\n",
        "O parâmetro `pesosCamadasOcultas` com os valores `True` ou `False` especifica se é para gerar e retornar os pesos das camadas ocultas.\n",
        "\n",
        "\n",
        "\n",
        "A função retorna o **tokenizador** e o **modelo** para os parâmetros especificado"
      ]
    },
    {
      "cell_type": "markdown",
      "metadata": {
        "id": "EWC2y9At7PJo"
      },
      "source": [
        "##### Declarando uma função que retorna o tokenizador e o modelo."
      ]
    },
    {
      "cell_type": "code",
      "metadata": {
        "id": "snXme4uU1M7F"
      },
      "source": [
        "# Valores default para os parâmetros da função\n",
        "def getBERT(fonteBERT = 'comunidade', \n",
        "            tamanhoBERT = 'base', \n",
        "            linguaBERT = 'portugues', \n",
        "            pesosCamadasOcultas = False):\n",
        "\n",
        "    \"\"\"Retorna o tokenizador e modelo BERT carregado.\n",
        "    De acordo com os parâmetros especificados ou carrega o BERT da comunidade \n",
        "    ou realiza o download dos arquivos do modelo.\n",
        "\n",
        "    Args:\n",
        "        fonteBERT: Especifica a origem do modelo do BERT 'comunidade' ou 'diretorio'.\n",
        "        tamanhoBERT: Especifica o tamanho do modelo do BERT 'large' ou 'base'.\n",
        "        linguaBERT: Especifica a língua do modelo do BERT 'portugues' ou 'ingles'.\n",
        "        pesosCamadasOcultas: Especifica ao modelo para manter os pesos de todas as camadas \n",
        "            ocultas, caso contrário mantém somente a última. A avaliação do modelo retorna\n",
        "            um número de diferentes objetos com base em como é configurado na chamada do\n",
        "            método `from_pretrained`. O retorno de model quando output_hidden_states=True´ é:  \n",
        "                #outputs[0] = last_hidden_state, outputs[1] = pooler_output, outputs[2] = hidden_states            \n",
        "            Veja a documentação para mais detalhes:\n",
        "            https://huggingface.co/transformers/model_doc/bert.html#bertmodel\n",
        "\n",
        "    Returns:\n",
        "        `tokenizador` com o tokenizador do modelo BERT carregado.\n",
        "        `modelo` com o modelo BERT carregado.\n",
        "    \"\"\"\n",
        "    #======================================================================\n",
        "    # Verificação do idioma e tamanho do modelo\n",
        "    #======================================================================\n",
        "    # Verifica se a língua é português e o tamanho do modelo\n",
        "    if linguaBERT == 'portugues' and tamanhoBERT == 'base':\n",
        "        nome_modelo_bert = 'neuralmind/bert-base-portuguese-cased'\n",
        "    else:\n",
        "        if linguaBERT == 'portugues' and tamanhoBERT == 'large':\n",
        "            nome_modelo_bert = 'neuralmind/bert-large-portuguese-cased'\n",
        "        else:\n",
        "            # Verifica se a língua é inglés e o tamanho do modelo\n",
        "            if linguaBERT == 'ingles' and tamanhoBERT == 'base':\n",
        "                nome_modelo_bert = 'bert-base-uncased'\n",
        "            else:\n",
        "                if linguaBERT == 'ingles' and tamanhoBERT == 'large':\n",
        "                    nome_modelo_bert = 'bert-large-uncased'\n",
        "                else:\n",
        "                    print(\"Parâmetros \\'língua\\' e \\'tamanhoBERT\\' especificados incorretamente!\")\n",
        "                    return None, None\n",
        "\n",
        "    #======================================================================\n",
        "    # Download do arquivo do modelo\n",
        "    #======================================================================\n",
        "    #Se a variável 'fonteBERT' foi setada para 'diretorio' faz o download dos arquivos modelo\n",
        "    if fonteBERT == 'diretorio' and linguaBERT == 'portugues':\n",
        "    \n",
        "      # Se a variável 'tamanhoBERT' foi setada para 'base' faz o download do arquivo do tamanho base do BERT, caso contrário do large.\n",
        "      if tamanhoBERT == 'base':\n",
        "          # url do arquivo do modelo do Pytorch checkpoint\n",
        "          # arquivo menor(base) 1.1 Gbytes\n",
        "          url = \"https://neuralmind-ai.s3.us-east-2.amazonaws.com/nlp/bert-base-portuguese-cased/bert-base-portuguese-cased_pytorch_checkpoint.zip\"\n",
        "      else:\n",
        "          # url do arquivo do modelo do Pytorch checkpoint\n",
        "          # arquivo grande(large) 3.5 Gbytes\n",
        "          url = \"https://neuralmind-ai.s3.us-east-2.amazonaws.com/nlp/bert-large-portuguese-cased/bert-large-portuguese-cased_pytorch_checkpoint.zip\"\n",
        "\n",
        "      # Diretório descompactação do modelo\n",
        "      diretorio = '/content/modelo' + tamanhoBERT\n",
        "\n",
        "      # Recupera o nome do arquivo do modelo da url anterior\n",
        "      arquivo = url.split(\"/\")[-1]\n",
        "\n",
        "      # Nome do arquivo do vocabulário\n",
        "      arquivo_vocab = \"vocab.txt\"\n",
        "\n",
        "      # Caminho do arquivo na url\n",
        "      caminho = url[0:len(url)-len(arquivo)]\n",
        "\n",
        "      # Verifica se a pasta de descompactação existe no pasta corrente\n",
        "      if not os.path.exists(diretorio):\n",
        "   \n",
        "          # Realiza o download do arquivo do modelo\n",
        "          !wget $url\n",
        "    \n",
        "          # Descompacta o arquivo na pasta de destino\n",
        "          !unzip -o $arquivo -d $diretorio\n",
        "\n",
        "          # Realiza o download do arquivo do vocabulário\n",
        "          # O vocabulário não está no arquivo compactado acima\n",
        "          # Concatena o caminho do modelo mais o nome do arquivo do vocabulário\n",
        "          url_vocab = caminho + arquivo_vocab\n",
        "\n",
        "          # Realiza o download do arquivo do vocabulário\n",
        "          !wget $url_vocab\n",
        "    \n",
        "          # Move o arquivo do vocabulário para o diretório do modelo\n",
        "          !mv $arquivo_vocab $diretorio\n",
        "            \n",
        "          # Move o arquivo do modelo para o diretório do modelo\n",
        "          !mv $arquivo $diretorio      \n",
        "                \n",
        "          print('Diretório do modelo:\\'' + diretorio + '\\' pronta!')\n",
        "      else:      \n",
        "          print('Diretório do modelo:\\'' + diretorio + '\\' já existe!')\n",
        "      \n",
        "    else:\n",
        "        if linguaBERT == 'ingles':\n",
        "            print('O modelo BERT na língua inglesa deve ser carregado somente da comunidade.')\n",
        "       \n",
        "    #======================================================================\n",
        "    # Carregamento do tokenizador e do modelo \n",
        "    #======================================================================\n",
        "\n",
        "    # Importando as bibliotecas do Modelo e do Tokenizador\n",
        "    from transformers import BertModel, BertTokenizer\n",
        "\n",
        "    # Se a variável 'fonteBERT' foi setada para 'diretorio' faz o download dos arquivos modelo\n",
        "    # Carregamento de diretório somente para a língua portuguesa\n",
        "    if fonteBERT == 'diretorio' and linguaBERT == 'portugues':\n",
        "\n",
        "        # Carregando o Tokenizador do diretório\n",
        "        print('Carregando o tokenizador BERT_' + tamanhoBERT \n",
        "              + ' do diretório \\'' + diretorio \n",
        "              + '\\' em língua \\''+ linguaBERT + '\\'...')\n",
        "\n",
        "        tokenizer = BertTokenizer.from_pretrained(diretorio)\n",
        "\n",
        "        # Carregando o Modelo do diretório\n",
        "        print('Carregando o modelo BERT_' + tamanhoBERT \n",
        "              + ' do diretório \\'' + diretorio \n",
        "              + '\\' em língua \\''+ linguaBERT \n",
        "              + '\\' com os pesos das camadas ocultas=' + str(pesosCamadasOcultas) + '...')\n",
        "\n",
        "        model = BertModel.from_pretrained(diretorio, output_hidden_states = pesosCamadasOcultas)\n",
        "\n",
        "    else:\n",
        "        # Carregando o Tokenizador da comunidade\n",
        "        print('Carregando o tokenizador BERT \\'' + nome_modelo_bert \n",
        "              + '\\' da comunidade em língua \\''+ linguaBERT + '\\'...')\n",
        "\n",
        "        tokenizer = BertTokenizer.from_pretrained(nome_modelo_bert)  \n",
        "\n",
        "        # Carregando o Modelo da comunidade\n",
        "        print('Carregando o modelo BERT \\'' + nome_modelo_bert \n",
        "              + '\\' da comunidade em língua \\''+ linguaBERT \n",
        "              + '\\' com os pesos das camadas ocultas=' + str(pesosCamadasOcultas) + '...')\n",
        "\n",
        "        model = BertModel.from_pretrained(nome_modelo_bert, output_hidden_states = pesosCamadasOcultas)  \n",
        "    \n",
        "    # Retorna o tokenizador e o modelo BERT carregado           \n",
        "    return tokenizer, model"
      ],
      "execution_count": 47,
      "outputs": []
    },
    {
      "cell_type": "markdown",
      "metadata": {
        "id": "c2CgB02_2wJQ"
      },
      "source": [
        "##### Usando a função getBERT()"
      ]
    },
    {
      "cell_type": "code",
      "metadata": {
        "id": "e8ol9ckB9QPY",
        "outputId": "7a2039d3-02e1-4b11-fb88-84f3ee26fc67",
        "colab": {
          "base_uri": "https://localhost:8080/",
          "height": 74
        }
      },
      "source": [
        "tokenizador, model = getBERT()\n",
        "\n",
        "del tokenizador\n",
        "del model"
      ],
      "execution_count": 48,
      "outputs": [
        {
          "output_type": "stream",
          "text": [
            "Carregando o tokenizador BERT 'neuralmind/bert-base-portuguese-cased' da comunidade em língua 'portugues'...\n",
            "Carregando o modelo BERT 'neuralmind/bert-base-portuguese-cased' da comunidade em língua 'portugues' com os pesos das camadas ocultas=False...\n"
          ],
          "name": "stdout"
        }
      ]
    },
    {
      "cell_type": "code",
      "metadata": {
        "id": "rDkdnWDp9SI9",
        "outputId": "9136881a-0034-4b9f-b39f-0fb6f60dd62c",
        "colab": {
          "base_uri": "https://localhost:8080/",
          "height": 74
        }
      },
      "source": [
        "tokenizador, model = getBERT(tamanhoBERT='large')"
      ],
      "execution_count": 49,
      "outputs": [
        {
          "output_type": "stream",
          "text": [
            "Carregando o tokenizador BERT 'neuralmind/bert-large-portuguese-cased' da comunidade em língua 'portugues'...\n",
            "Carregando o modelo BERT 'neuralmind/bert-large-portuguese-cased' da comunidade em língua 'portugues' com os pesos das camadas ocultas=False...\n"
          ],
          "name": "stdout"
        }
      ]
    },
    {
      "cell_type": "code",
      "metadata": {
        "id": "Ib-_gNFj9WIu",
        "outputId": "a2a183ee-57f7-42dd-d9cd-cb6d02887a90",
        "colab": {
          "base_uri": "https://localhost:8080/",
          "height": 74
        }
      },
      "source": [
        "tokenizador, model = getBERT(tamanhoBERT='base')\n",
        "\n",
        "del tokenizador\n",
        "del model"
      ],
      "execution_count": 50,
      "outputs": [
        {
          "output_type": "stream",
          "text": [
            "Carregando o tokenizador BERT 'neuralmind/bert-base-portuguese-cased' da comunidade em língua 'portugues'...\n",
            "Carregando o modelo BERT 'neuralmind/bert-base-portuguese-cased' da comunidade em língua 'portugues' com os pesos das camadas ocultas=False...\n"
          ],
          "name": "stdout"
        }
      ]
    },
    {
      "cell_type": "code",
      "metadata": {
        "id": "6-QtCuOf9aOt",
        "outputId": "f976f826-8aae-4b4d-8fe2-bcc4d9fc20b2",
        "colab": {
          "base_uri": "https://localhost:8080/",
          "height": 92
        }
      },
      "source": [
        "tokenizador, model = getBERT(fonteBERT='diretorio', \n",
        "                             tamanhoBERT='base')\n",
        "\n",
        "del tokenizador\n",
        "del model"
      ],
      "execution_count": 51,
      "outputs": [
        {
          "output_type": "stream",
          "text": [
            "Diretório do modelo:'/content/modelobase' já existe!\n",
            "Carregando o tokenizador BERT_base do diretório '/content/modelobase' em língua 'portugues'...\n",
            "Carregando o modelo BERT_base do diretório '/content/modelobase' em língua 'portugues' com os pesos das camadas ocultas=False...\n"
          ],
          "name": "stdout"
        }
      ]
    },
    {
      "cell_type": "code",
      "metadata": {
        "id": "vAtFJaBS9eE-",
        "outputId": "346412ec-0e42-4de0-96ee-f71cc2fb11cf",
        "colab": {
          "base_uri": "https://localhost:8080/",
          "height": 92
        }
      },
      "source": [
        "tokenizador, model = getBERT(fonteBERT='diretorio', \n",
        "                             tamanhoBERT='large', \n",
        "                             linguaBERT='portugues')\n",
        "\n",
        "del tokenizador\n",
        "del model"
      ],
      "execution_count": 52,
      "outputs": [
        {
          "output_type": "stream",
          "text": [
            "Diretório do modelo:'/content/modelolarge' já existe!\n",
            "Carregando o tokenizador BERT_large do diretório '/content/modelolarge' em língua 'portugues'...\n",
            "Carregando o modelo BERT_large do diretório '/content/modelolarge' em língua 'portugues' com os pesos das camadas ocultas=False...\n"
          ],
          "name": "stdout"
        }
      ]
    },
    {
      "cell_type": "code",
      "metadata": {
        "id": "7_jYbPyr9hal",
        "outputId": "cad5c534-ec58-4d9b-b718-c77cbfa6d214",
        "colab": {
          "base_uri": "https://localhost:8080/",
          "height": 92
        }
      },
      "source": [
        "tokenizador, model = getBERT(fonteBERT='diretorio', \n",
        "                             tamanhoBERT='base', \n",
        "                             linguaBERT='portugues')\n",
        "\n",
        "del tokenizador\n",
        "del model"
      ],
      "execution_count": 53,
      "outputs": [
        {
          "output_type": "stream",
          "text": [
            "Diretório do modelo:'/content/modelobase' já existe!\n",
            "Carregando o tokenizador BERT_base do diretório '/content/modelobase' em língua 'portugues'...\n",
            "Carregando o modelo BERT_base do diretório '/content/modelobase' em língua 'portugues' com os pesos das camadas ocultas=False...\n"
          ],
          "name": "stdout"
        }
      ]
    },
    {
      "cell_type": "code",
      "metadata": {
        "id": "5ty684uT9kmi",
        "outputId": "8704ea5e-ca5b-4492-cafa-7ab4fdb29048",
        "colab": {
          "base_uri": "https://localhost:8080/",
          "height": 74
        }
      },
      "source": [
        "tokenizador, model = getBERT(fonteBERT='comunidade', \n",
        "                             tamanhoBERT='large', \n",
        "                             linguaBERT='portugues')\n",
        "\n",
        "del tokenizador\n",
        "del model"
      ],
      "execution_count": 54,
      "outputs": [
        {
          "output_type": "stream",
          "text": [
            "Carregando o tokenizador BERT 'neuralmind/bert-large-portuguese-cased' da comunidade em língua 'portugues'...\n",
            "Carregando o modelo BERT 'neuralmind/bert-large-portuguese-cased' da comunidade em língua 'portugues' com os pesos das camadas ocultas=False...\n"
          ],
          "name": "stdout"
        }
      ]
    },
    {
      "cell_type": "code",
      "metadata": {
        "id": "ddnIW3qs9nEP",
        "outputId": "474ffa66-aa99-4a12-88e5-8f110f56138b",
        "colab": {
          "base_uri": "https://localhost:8080/",
          "height": 74
        }
      },
      "source": [
        "tokenizador, model = getBERT(fonteBERT='comunidade', \n",
        "                             tamanhoBERT='base', \n",
        "                             linguaBERT='portugues')\n",
        "\n",
        "del tokenizador\n",
        "del model"
      ],
      "execution_count": 55,
      "outputs": [
        {
          "output_type": "stream",
          "text": [
            "Carregando o tokenizador BERT 'neuralmind/bert-base-portuguese-cased' da comunidade em língua 'portugues'...\n",
            "Carregando o modelo BERT 'neuralmind/bert-base-portuguese-cased' da comunidade em língua 'portugues' com os pesos das camadas ocultas=False...\n"
          ],
          "name": "stdout"
        }
      ]
    },
    {
      "cell_type": "code",
      "metadata": {
        "id": "dxRMvyCeY0Qi",
        "outputId": "0c91d150-d2b6-432c-d414-8b6862978e85",
        "colab": {
          "base_uri": "https://localhost:8080/",
          "height": 74
        }
      },
      "source": [
        "tokenizador, model = getBERT(fonteBERT='comunidade', \n",
        "                             tamanhoBERT='base', \n",
        "                             linguaBERT='portugues',\n",
        "                             pesosCamadasOcultas = False)\n",
        "\n",
        "del tokenizador\n",
        "del model"
      ],
      "execution_count": 56,
      "outputs": [
        {
          "output_type": "stream",
          "text": [
            "Carregando o tokenizador BERT 'neuralmind/bert-base-portuguese-cased' da comunidade em língua 'portugues'...\n",
            "Carregando o modelo BERT 'neuralmind/bert-base-portuguese-cased' da comunidade em língua 'portugues' com os pesos das camadas ocultas=False...\n"
          ],
          "name": "stdout"
        }
      ]
    },
    {
      "cell_type": "code",
      "metadata": {
        "id": "UGtEwUsz9bqm",
        "outputId": "c6cf790f-951f-447b-f3e3-5f273a2380d5",
        "colab": {
          "base_uri": "https://localhost:8080/",
          "height": 92
        }
      },
      "source": [
        "tokenizador, model = getBERT(tamanhoBERT='large', \n",
        "                             linguaBERT='ingles')\n",
        "\n",
        "del tokenizador\n",
        "del model"
      ],
      "execution_count": 57,
      "outputs": [
        {
          "output_type": "stream",
          "text": [
            "O modelo BERT na língua inglesa deve ser carregado somente da comunidade.\n",
            "Carregando o tokenizador BERT 'bert-large-uncased' da comunidade em língua 'ingles'...\n",
            "Carregando o modelo BERT 'bert-large-uncased' da comunidade em língua 'ingles' com os pesos das camadas ocultas=False...\n"
          ],
          "name": "stdout"
        }
      ]
    },
    {
      "cell_type": "code",
      "metadata": {
        "id": "L7RmGEJh2yVt",
        "outputId": "92f2fab1-be5e-437d-9600-024c01babb83",
        "colab": {
          "base_uri": "https://localhost:8080/",
          "height": 92
        }
      },
      "source": [
        "tokenizador, model = getBERT(tamanhoBERT='base', \n",
        "                             linguaBERT='ingles')\n",
        "\n",
        "del tokenizador\n",
        "del model"
      ],
      "execution_count": 58,
      "outputs": [
        {
          "output_type": "stream",
          "text": [
            "O modelo BERT na língua inglesa deve ser carregado somente da comunidade.\n",
            "Carregando o tokenizador BERT 'bert-base-uncased' da comunidade em língua 'ingles'...\n",
            "Carregando o modelo BERT 'bert-base-uncased' da comunidade em língua 'ingles' com os pesos das camadas ocultas=False...\n"
          ],
          "name": "stdout"
        }
      ]
    },
    {
      "cell_type": "code",
      "metadata": {
        "id": "BvCaohAg9spJ",
        "outputId": "713dd503-c66a-4145-d2ac-3a61c1cf8665",
        "colab": {
          "base_uri": "https://localhost:8080/",
          "height": 92
        }
      },
      "source": [
        "tokenizador, model = getBERT(fonteBERT='diretorio', \n",
        "                             tamanhoBERT='large', \n",
        "                             linguaBERT='ingles')\n",
        "\n",
        "del tokenizador\n",
        "del model"
      ],
      "execution_count": 59,
      "outputs": [
        {
          "output_type": "stream",
          "text": [
            "O modelo BERT na língua inglesa deve ser carregado somente da comunidade.\n",
            "Carregando o tokenizador BERT 'bert-large-uncased' da comunidade em língua 'ingles'...\n",
            "Carregando o modelo BERT 'bert-large-uncased' da comunidade em língua 'ingles' com os pesos das camadas ocultas=False...\n"
          ],
          "name": "stdout"
        }
      ]
    },
    {
      "cell_type": "code",
      "metadata": {
        "id": "-GmVk2Vs91vf",
        "outputId": "b9a358a1-fc27-4a2e-88b4-ca86de5ffec7",
        "colab": {
          "base_uri": "https://localhost:8080/",
          "height": 92
        }
      },
      "source": [
        "tokenizador, model = getBERT(fonteBERT='diretorio', \n",
        "                             tamanhoBERT='base', \n",
        "                             linguaBERT='ingles')\n",
        "\n",
        "del tokenizador\n",
        "del model"
      ],
      "execution_count": 60,
      "outputs": [
        {
          "output_type": "stream",
          "text": [
            "O modelo BERT na língua inglesa deve ser carregado somente da comunidade.\n",
            "Carregando o tokenizador BERT 'bert-base-uncased' da comunidade em língua 'ingles'...\n",
            "Carregando o modelo BERT 'bert-base-uncased' da comunidade em língua 'ingles' com os pesos das camadas ocultas=False...\n"
          ],
          "name": "stdout"
        }
      ]
    },
    {
      "cell_type": "code",
      "metadata": {
        "id": "kTlXm1iV9r6u",
        "outputId": "287a89d3-0410-449a-f1b2-d6e237bd2bf4",
        "colab": {
          "base_uri": "https://localhost:8080/",
          "height": 92
        }
      },
      "source": [
        "tokenizador, model = getBERT(fonteBERT='comunidade', \n",
        "                             tamanhoBERT='large', \n",
        "                             linguaBERT='ingles')\n",
        "\n",
        "del tokenizador\n",
        "del model"
      ],
      "execution_count": 61,
      "outputs": [
        {
          "output_type": "stream",
          "text": [
            "O modelo BERT na língua inglesa deve ser carregado somente da comunidade.\n",
            "Carregando o tokenizador BERT 'bert-large-uncased' da comunidade em língua 'ingles'...\n",
            "Carregando o modelo BERT 'bert-large-uncased' da comunidade em língua 'ingles' com os pesos das camadas ocultas=False...\n"
          ],
          "name": "stdout"
        }
      ]
    },
    {
      "cell_type": "code",
      "metadata": {
        "id": "u1LrfoJR93JA",
        "outputId": "efd2cc4c-e419-44b8-f30c-b2c74f364da2",
        "colab": {
          "base_uri": "https://localhost:8080/",
          "height": 92
        }
      },
      "source": [
        "tokenizador, model = getBERT(fonteBERT='comunidade', \n",
        "                             tamanhoBERT='base', \n",
        "                             linguaBERT='ingles') \n",
        "\n",
        "del tokenizador\n",
        "del model"
      ],
      "execution_count": 62,
      "outputs": [
        {
          "output_type": "stream",
          "text": [
            "O modelo BERT na língua inglesa deve ser carregado somente da comunidade.\n",
            "Carregando o tokenizador BERT 'bert-base-uncased' da comunidade em língua 'ingles'...\n",
            "Carregando o modelo BERT 'bert-base-uncased' da comunidade em língua 'ingles' com os pesos das camadas ocultas=False...\n"
          ],
          "name": "stdout"
        }
      ]
    },
    {
      "cell_type": "code",
      "metadata": {
        "id": "UE-nPaejYgZK",
        "outputId": "8107ce0c-0459-45bc-9946-76772f090898",
        "colab": {
          "base_uri": "https://localhost:8080/",
          "height": 92
        }
      },
      "source": [
        "tokenizador, model = getBERT(fonteBERT='comunidade', \n",
        "                             tamanhoBERT='base', \n",
        "                             linguaBERT='ingles', \n",
        "                             pesosCamadasOcultas = False)\n",
        "\n",
        "del tokenizador\n",
        "del model"
      ],
      "execution_count": 63,
      "outputs": [
        {
          "output_type": "stream",
          "text": [
            "O modelo BERT na língua inglesa deve ser carregado somente da comunidade.\n",
            "Carregando o tokenizador BERT 'bert-base-uncased' da comunidade em língua 'ingles'...\n",
            "Carregando o modelo BERT 'bert-base-uncased' da comunidade em língua 'ingles' com os pesos das camadas ocultas=False...\n"
          ],
          "name": "stdout"
        }
      ]
    },
    {
      "cell_type": "code",
      "metadata": {
        "id": "wJKkYninAk-j",
        "outputId": "fbb2f06f-cda0-4cb8-9e7a-415c37445bd1",
        "colab": {
          "base_uri": "https://localhost:8080/",
          "height": 35
        }
      },
      "source": [
        "import gc\n",
        "gc.collect()"
      ],
      "execution_count": 64,
      "outputs": [
        {
          "output_type": "execute_result",
          "data": {
            "text/plain": [
              "4998"
            ]
          },
          "metadata": {
            "tags": []
          },
          "execution_count": 64
        }
      ]
    },
    {
      "cell_type": "markdown",
      "metadata": {
        "id": "gci3FLLlLUJE"
      },
      "source": [
        "## Declarando uma função que recupera embeddings de frase"
      ]
    },
    {
      "cell_type": "code",
      "metadata": {
        "id": "oeaDaUvaLoC4"
      },
      "source": [
        "def getEmbedding(texto, tokenizadorBERT, modeloBERT):\n",
        "\n",
        "    \"\"\"\n",
        "    Retorna os embeddings de uma frase utilizando um tokenizador e modelo BERT carregado.\n",
        "    \n",
        "    Args:\n",
        "        texto: Texto a ser convertindo em embeddings utilizando o BERT.\n",
        "        tokenizadorBERT: Tokenizador BERT carregado.\n",
        "        modelBERT: Modelo BERT carregado.\n",
        "        \n",
        "    Returns:\n",
        "          0-texto_tokenizado, \n",
        "          1-input_ids, \n",
        "          2-attention_mask, \n",
        "          3-token_type_ids, \n",
        "          4-outputs \n",
        "              0-last_hidden_state,\n",
        "              1-pooler_output,\n",
        "              2-hidden_states\n",
        "    \"\"\"\n",
        "    # Importando a biblioteca\n",
        "    import torch\n",
        "\n",
        "    # Adiciona os tokens especiais\n",
        "    texto_marcado = \"[CLS] \" + texto + \" [SEP]\"\n",
        "\n",
        "    # Tokeniza o texto marcado\n",
        "    texto_tokenizado = tokenizer.tokenize(texto_marcado)\n",
        "    \n",
        "    # Recupera a quantidade tokens do texto tokenizado\n",
        "    qtdeTokens = len(texto_tokenizado)\n",
        "\n",
        "    #tokeniza o texto e retorna os tensores\n",
        "    dic_codificado = tokenizadorBERT.encode_plus(\n",
        "                        texto,                          # texto a ser codificado.\n",
        "                        add_special_tokens = True,      # Adiciona os tokens especiais '[CLS]' e '[SEP]'\n",
        "                        max_length = qtdeTokens,        # Define o tamanho máximo para preencheer ou truncar.\n",
        "                        truncation = True,              # Trunca o texto por max_length\n",
        "                        padding = 'max_length',         # Preenche o texto até max_length\n",
        "                        return_attention_mask = True,   # Constrói a máscara de atenção.\n",
        "                        return_tensors = 'pt'           # Retorna os dados como tensores pytorch.\n",
        "                   )                   \n",
        "\n",
        "    # Ids dos tokens de entrada mapeados em seus índices do vocabuário    \n",
        "    input_ids =  dic_codificado['input_ids']\n",
        "\n",
        "    # Máscara de atenção de cada um dos tokens como pertencentes à frase \"1\".\n",
        "    attention_mask = dic_codificado['attention_mask']\n",
        "\n",
        "    # Recupera os tensores dos segmentos\n",
        "    token_type_ids = dic_codificado['token_type_ids']\n",
        "\n",
        "    # Roda o texto através do BERT, e coleta todos os estados ocultos produzidos\n",
        "    # das 12 camadas. \n",
        "    with torch.no_grad():\n",
        "\n",
        "        # Passe para a frente, calcule as previsões outputs\n",
        "        outputs = modeloBERT(input_ids=input_ids, \n",
        "                             attention_mask=attention_mask)\n",
        "\n",
        "        # A avaliação do modelo retorna um número de diferentes objetos com base em\n",
        "        # como é configurado na chamada do método `from_pretrained` anterior. Nesse caso,\n",
        "        # porque definimos `output_hidden_states = True`, o terceiro item será o\n",
        "        # estados ocultos(hidden_states) de todas as camadas. Veja a documentação para mais detalhes:\n",
        "        # https://huggingface.co/transformers/model_doc/bert.html#bertmodel\n",
        "\n",
        "        #Retorno de model quando ´output_hidden_states=True´ é setado:    \n",
        "        #outputs[0] = last_hidden_state, outputs[1] = pooler_output, outputs[2] = hidden_states\n",
        "\n",
        "    # 0-texto_tokenizado, 1-input_ids, 2-attention_mask, 3-token_type_ids, 4-outputs(0=last_hidden_state,1=pooler_output,2=hidden_states)    \n",
        "    return texto_tokenizado, input_ids, attention_mask, token_type_ids, outputs"
      ],
      "execution_count": 65,
      "outputs": []
    },
    {
      "cell_type": "markdown",
      "metadata": {
        "id": "riR4jz8W-qk3"
      },
      "source": [
        "# 4 Teste do Tokenizador e Modelo BERT\n"
      ]
    },
    {
      "cell_type": "code",
      "metadata": {
        "id": "8QP-2tC8YOFW",
        "outputId": "616f6506-b561-447d-cda9-567ca88a7ea8",
        "colab": {
          "base_uri": "https://localhost:8080/",
          "height": 528
        }
      },
      "source": [
        "# Utiliza a função para retornar o tokenizador e o modelo\n",
        "tokenizer, model = getBERT(tamanhoBERT='base')\n",
        "\n",
        "# Define um sentença de exemplo com diversos siginificados da palavra  \"banco\"\n",
        "texto = \"Depois de roubar o cofre do banco,\"\\\n",
        "        \" o ladrão de banco foi visto \" \\\n",
        "        \"sentado no banco da praça central.\"\n",
        "\n",
        "# Adiciona os tokens especiais\n",
        "texto_marcado = \"[CLS] \" + texto + \" [SEP]\"\n",
        "\n",
        "# Divide a sentença em tokens\n",
        "texto_tokenizado = tokenizer.tokenize(texto_marcado)\n",
        "\n",
        "# Mapeia os tokens em seus índices do vocabuário\n",
        "tokens_indexados = tokenizer.convert_tokens_to_ids(texto_tokenizado)\n",
        "\n",
        "# Mostra os tokens com seus índices\n",
        "i = 0\n",
        "for tup in zip(texto_tokenizado, tokens_indexados):\n",
        "    print('{:>3} {:<12} {:>6,}'.format(i, tup[0], tup[1]))\n",
        "    i= i + 1"
      ],
      "execution_count": 66,
      "outputs": [
        {
          "output_type": "stream",
          "text": [
            "Carregando o tokenizador BERT 'neuralmind/bert-base-portuguese-cased' da comunidade em língua 'portugues'...\n",
            "Carregando o modelo BERT 'neuralmind/bert-base-portuguese-cased' da comunidade em língua 'portugues' com os pesos das camadas ocultas=False...\n",
            "  0 [CLS]           101\n",
            "  1 Depois        1,603\n",
            "  2 de              125\n",
            "  3 roubar       16,150\n",
            "  4 o               146\n",
            "  5 co              144\n",
            "  6 ##fre         1,198\n",
            "  7 do              171\n",
            "  8 banco         6,465\n",
            "  9 ,               117\n",
            " 10 o               146\n",
            " 11 lad          13,503\n",
            " 12 ##rão         1,759\n",
            " 13 de              125\n",
            " 14 banco         6,465\n",
            " 15 foi             262\n",
            " 16 visto         3,382\n",
            " 17 sentado      21,541\n",
            " 18 no              202\n",
            " 19 banco         6,465\n",
            " 20 da              180\n",
            " 21 praça         6,357\n",
            " 22 central       2,692\n",
            " 23 .               119\n",
            " 24 [SEP]           102\n"
          ],
          "name": "stdout"
        }
      ]
    },
    {
      "cell_type": "code",
      "metadata": {
        "id": "fUU1BIGiYs58"
      },
      "source": [
        "# Importa a bibliteca\n",
        "import torch\n",
        "\n",
        "# Marca cada um dos tokens como pertencentes à frase \"1\", pois só iremos analisar uma.\n",
        "segmentos_ids = [1] * len(texto_tokenizado)\n",
        "\n",
        "# Converte as entradas de listas para tensores do torch\n",
        "input_ids = torch.as_tensor([tokens_indexados])\n",
        "attention_mask = torch.as_tensor([segmentos_ids])"
      ],
      "execution_count": 67,
      "outputs": []
    },
    {
      "cell_type": "code",
      "metadata": {
        "id": "1-hYiWnRYs6B"
      },
      "source": [
        "# Prediz os atributos dos estados ocultos para cada camada\n",
        "with torch.no_grad():    \n",
        "  \n",
        "    # outputs[0] = last_hidden_state, outputs[1] = pooler_output, outputs[2] = hidden_states    \n",
        "    outputs = model(input_ids=input_ids, \n",
        "                    attention_mask=attention_mask)\n",
        "    \n",
        "    # Recupera a última camada oculta da saída\n",
        "    last_hidden_states = outputs[0]\n",
        "\n",
        "# Remove a dimensão 1, o lote \"batches\".\n",
        "# O método ´squeeze´ remove a primeira dimensão(0) pois possui tamanho 1\n",
        "token_embeddings = torch.squeeze(last_hidden_states, dim=0)    "
      ],
      "execution_count": 68,
      "outputs": []
    },
    {
      "cell_type": "markdown",
      "metadata": {
        "id": "-tnv1g2qIWKD"
      },
      "source": [
        "BASE em português:\n",
        "* banco tensor([ 0.2817, -0.2229,  0.4058, -0.1698,  0.4350])\n",
        "* banco tensor([ 0.3844, -0.2985,  0.1629, -0.2853,  0.4661])\n",
        "* banco tensor([ 0.0382, -0.1985,  0.0825,  0.1369,  0.6871])\n",
        "\n",
        "\n",
        "LARGE em português:\n",
        "* banco tensor([ 0.4261, -0.1251, -0.4406,  0.0736, -1.4059])\n",
        "* banco tensor([ 0.4835,  0.1447, -0.4306,  0.3436, -1.4682])\n",
        "* banco tensor([ 0.3631,  0.9212,  0.1919, -0.2493, -0.9418])"
      ]
    },
    {
      "cell_type": "code",
      "metadata": {
        "id": "2hrWa-RzZIFl",
        "outputId": "13769705-0768-4f0d-f23c-dbfcc1bc57b5",
        "colab": {
          "base_uri": "https://localhost:8080/",
          "height": 108
        }
      },
      "source": [
        "palavra1 = 8\n",
        "palavra2 = 14\n",
        "palavra3 = 19\n",
        "\n",
        "print('Os primeiros 5 valores de cada instância de \"banco\".')\n",
        "print('')\n",
        "print(texto_tokenizado[palavra1], str(token_embeddings[palavra1][:5]))\n",
        "print(texto_tokenizado[palavra2], str(token_embeddings[palavra2][:5]))\n",
        "print(texto_tokenizado[palavra3], str(token_embeddings[palavra3][:5]))"
      ],
      "execution_count": 69,
      "outputs": [
        {
          "output_type": "stream",
          "text": [
            "Os primeiros 5 valores de cada instância de \"banco\".\n",
            "\n",
            "banco tensor([ 0.2817, -0.2229,  0.4058, -0.1698,  0.4350])\n",
            "banco tensor([ 0.3844, -0.2985,  0.1629, -0.2853,  0.4661])\n",
            "banco tensor([ 0.0382, -0.1985,  0.0825,  0.1369,  0.6871])\n"
          ],
          "name": "stdout"
        }
      ]
    },
    {
      "cell_type": "markdown",
      "metadata": {
        "id": "neHWoJlxLe2z"
      },
      "source": [
        "BASE em português:\n",
        "* Vetor de similaridade  para diferentes significados( 14 , 19 ):  0.71\n",
        "* Vetor de similaridade  para mesmo significado( 14 , 8 ):  0.88\n",
        "* Vetor de similaridade  para diferentes significados( 19 , 8 ):  0.76\n",
        "\n",
        "LARGE em português:\n",
        "* Vetor de similaridade  para diferentes significados( 14 , 19 ):  0.78\n",
        "* Vetor de similaridade  para mesmo significado( 14 , 8 ):  0.92\n",
        "* Vetor de similaridade  para diferentes significados( 19 , 8 ):  0.77"
      ]
    },
    {
      "cell_type": "code",
      "metadata": {
        "id": "_0Wz7anjZIFp",
        "outputId": "9c415d63-33fe-429b-c37c-97ac6b47ffe5",
        "colab": {
          "base_uri": "https://localhost:8080/",
          "height": 145
        }
      },
      "source": [
        "from scipy.spatial.distance import cosine\n",
        "\n",
        "print(\"Período:\", texto)\n",
        "print(\"Palavra1= \", palavra1, \"=\", texto_tokenizado[palavra1], \"(instituição financeira)\")\n",
        "print(\"Palavra2=\", palavra2, \"=\", texto_tokenizado[palavra2], \"(instituição financeira)\")\n",
        "print(\"Palavra3=\", palavra3, \"=\", texto_tokenizado[palavra3], \"(assento)\")\n",
        "\n",
        "# Calcula a similaridade de coseno entre as palavras banco\n",
        "# Em \"ladrão de banco\" versus \"banco da praça\" (diferentes significados).\n",
        "banco_diferente = 1 - cosine(token_embeddings[palavra2], token_embeddings[palavra3])\n",
        "\n",
        "print('Vetor de similaridade  para diferentes significados(',palavra2,',',palavra3,'):  %.2f' % banco_diferente)\n",
        "\n",
        "# Calcula a similaridade de coseno entre as palavras banco\n",
        "# Em \"ladrão de banco\" versus \"cofre do banco\" (mesmo significado).\n",
        "mesmo_banco = 1 - cosine(token_embeddings[palavra2], token_embeddings[palavra1])\n",
        "\n",
        "print('Vetor de similaridade  para mesmo significado      (',palavra2,', ',palavra1,'):  %.2f' % mesmo_banco)\n",
        "\n",
        "# Calcula a similaridade de coseno entre as palavras banco\n",
        "# Em \"cofre do banco\" versus \"banco da praça\" (diferente significados).\n",
        "banco_diferente2 = 1 - cosine(token_embeddings[palavra3], token_embeddings[palavra1])\n",
        "\n",
        "print('Vetor de similaridade  para diferentes significados(',palavra3,', ',palavra1,'):  %.2f' % banco_diferente2)"
      ],
      "execution_count": 70,
      "outputs": [
        {
          "output_type": "stream",
          "text": [
            "Período: Depois de roubar o cofre do banco, o ladrão de banco foi visto sentado no banco da praça central.\n",
            "Palavra1=  8 = banco (instituição financeira)\n",
            "Palavra2= 14 = banco (instituição financeira)\n",
            "Palavra3= 19 = banco (assento)\n",
            "Vetor de similaridade  para diferentes significados( 14 , 19 ):  0.71\n",
            "Vetor de similaridade  para mesmo significado      ( 14 ,  8 ):  0.88\n",
            "Vetor de similaridade  para diferentes significados( 19 ,  8 ):  0.76\n"
          ],
          "name": "stdout"
        }
      ]
    },
    {
      "cell_type": "markdown",
      "metadata": {
        "id": "7JAFCSVopfFb"
      },
      "source": [
        "# 5 Teste da recuperação de embeddings de frase\n"
      ]
    },
    {
      "cell_type": "code",
      "metadata": {
        "id": "EmjHFQUttUtF",
        "outputId": "c46c6144-15ea-47b0-af42-9c2f1da1140a",
        "colab": {
          "base_uri": "https://localhost:8080/",
          "height": 74
        }
      },
      "source": [
        "# Utiliza a função para retornar o tokenizador e o modelo\n",
        "tokenizer, model = getBERT(tamanhoBERT='base')\n",
        "\n",
        "# Define um sentença de exemplo com diversos siginificados da palavra  \"banco\"\n",
        "texto = \"Depois de roubar o cofre do banco,\"\\\n",
        "        \" o ladrão de banco foi visto \" \\\n",
        "        \"sentado no banco da praça central.\"\n",
        "\n",
        "# 0-texto_tokenizado, 1-input_ids, 2-attention_mask, 3-token_type_ids, 4-outputs(0=last_hidden_state,1=pooler_output,2=hidden_states)\n",
        "outputs = getEmbedding(texto, tokenizer, model)        \n",
        "\n",
        "# Recupera a última camada oculta da saída\n",
        "# 4-outputs 0=last_hidden_state\n",
        "last_hidden_states = outputs[4][0]\n",
        "\n",
        "# Remove a dimensão 1, o lote \"batches\".\n",
        "# O método ´squeeze´ remove a primeira dimensão(0) pois possui tamanho 1\n",
        "token_embeddings = torch.squeeze(last_hidden_states, dim=0)    "
      ],
      "execution_count": 71,
      "outputs": [
        {
          "output_type": "stream",
          "text": [
            "Carregando o tokenizador BERT 'neuralmind/bert-base-portuguese-cased' da comunidade em língua 'portugues'...\n",
            "Carregando o modelo BERT 'neuralmind/bert-base-portuguese-cased' da comunidade em língua 'portugues' com os pesos das camadas ocultas=False...\n"
          ],
          "name": "stdout"
        }
      ]
    },
    {
      "cell_type": "code",
      "metadata": {
        "id": "Wd84LqC5tUtI",
        "outputId": "f77a66c5-a397-42ed-b83b-7e5e4e0dea69",
        "colab": {
          "base_uri": "https://localhost:8080/",
          "height": 472
        }
      },
      "source": [
        "# Divide a sentença em tokens\n",
        "texto_tokenizado = outputs[0]\n",
        "\n",
        "# Mapeia os tokens em seus índices do vocabuário\n",
        "tokens_indexados = outputs[1]\n",
        "\n",
        "# Mostra os tokens com seus índices\n",
        "for i, token in enumerate(texto_tokenizado):\n",
        "    print(i, token)"
      ],
      "execution_count": 72,
      "outputs": [
        {
          "output_type": "stream",
          "text": [
            "0 [CLS]\n",
            "1 Depois\n",
            "2 de\n",
            "3 roubar\n",
            "4 o\n",
            "5 co\n",
            "6 ##fre\n",
            "7 do\n",
            "8 banco\n",
            "9 ,\n",
            "10 o\n",
            "11 lad\n",
            "12 ##rão\n",
            "13 de\n",
            "14 banco\n",
            "15 foi\n",
            "16 visto\n",
            "17 sentado\n",
            "18 no\n",
            "19 banco\n",
            "20 da\n",
            "21 praça\n",
            "22 central\n",
            "23 .\n",
            "24 [SEP]\n"
          ],
          "name": "stdout"
        }
      ]
    },
    {
      "cell_type": "markdown",
      "metadata": {
        "id": "SDB9bYPpI-Oq"
      },
      "source": [
        "BASE em português:\n",
        "* banco tensor([ 0.2817, -0.2229,  0.4058, -0.1698,  0.4350])\n",
        "* banco tensor([ 0.3844, -0.2985,  0.1629, -0.2853,  0.4661])\n",
        "* banco tensor([ 0.0382, -0.1985,  0.0825,  0.1369,  0.6871])\n",
        "\n",
        "\n",
        "LARGE em português:\n",
        "* banco tensor([ 0.4261, -0.1251, -0.4406,  0.0736, -1.4059])\n",
        "* banco tensor([ 0.4835,  0.1447, -0.4306,  0.3436, -1.4682])\n",
        "* banco tensor([ 0.3631,  0.9212,  0.1919, -0.2493, -0.9418])"
      ]
    },
    {
      "cell_type": "code",
      "metadata": {
        "id": "ZhKpFWRrECOo",
        "outputId": "99a7b3a8-2091-4c11-c6ac-183f4975b894",
        "colab": {
          "base_uri": "https://localhost:8080/",
          "height": 108
        }
      },
      "source": [
        "palavra1 = 8\n",
        "palavra2 = 14\n",
        "palavra3 = 19\n",
        "\n",
        "print('Os primeiros 5 valores de cada instância de \"banco\".')\n",
        "print('')\n",
        "print(texto_tokenizado[palavra1], str(token_embeddings[palavra1][:5]))\n",
        "print(texto_tokenizado[palavra2], str(token_embeddings[palavra2][:5]))\n",
        "print(texto_tokenizado[palavra3], str(token_embeddings[palavra3][:5]))"
      ],
      "execution_count": 73,
      "outputs": [
        {
          "output_type": "stream",
          "text": [
            "Os primeiros 5 valores de cada instância de \"banco\".\n",
            "\n",
            "banco tensor([ 0.2817, -0.2229,  0.4058, -0.1698,  0.4350])\n",
            "banco tensor([ 0.3844, -0.2985,  0.1629, -0.2853,  0.4661])\n",
            "banco tensor([ 0.0382, -0.1985,  0.0825,  0.1369,  0.6871])\n"
          ],
          "name": "stdout"
        }
      ]
    },
    {
      "cell_type": "markdown",
      "metadata": {
        "id": "pgv05eUcECOs"
      },
      "source": [
        "BASE em português:\n",
        "* Vetor de similaridade  para diferentes significados( 14 , 19 ):  0.71\n",
        "* Vetor de similaridade  para mesmo significado( 14 , 8 ):  0.88\n",
        "* Vetor de similaridade  para diferentes significados( 19 , 8 ):  0.76\n",
        "\n",
        "LARGE em português:\n",
        "* Vetor de similaridade  para diferentes significados( 14 , 19 ):  0.78\n",
        "* Vetor de similaridade  para mesmo significado( 14 , 8 ):  0.92\n",
        "* Vetor de similaridade  para diferentes significados( 19 , 8 ):  0.77"
      ]
    },
    {
      "cell_type": "code",
      "metadata": {
        "id": "bYG9DKtCECOs",
        "outputId": "76a7a405-7e67-4877-f97f-2b00558a1bd9",
        "colab": {
          "base_uri": "https://localhost:8080/",
          "height": 145
        }
      },
      "source": [
        "from scipy.spatial.distance import cosine\n",
        "\n",
        "print(\"Período:\", texto)\n",
        "print(\"Palavra1= \", palavra1, \"=\", texto_tokenizado[palavra1], \"(instituição financeira)\")\n",
        "print(\"Palavra2=\", palavra2, \"=\", texto_tokenizado[palavra2], \"(instituição financeira)\")\n",
        "print(\"Palavra3=\", palavra3, \"=\", texto_tokenizado[palavra3], \"(assento)\")\n",
        "\n",
        "# Calcula a similaridade de coseno entre as palavras banco\n",
        "# Em \"ladrão de banco\" versus \"banco da praça\" (diferentes significados).\n",
        "banco_diferente = 1 - cosine(token_embeddings[palavra2], token_embeddings[palavra3])\n",
        "\n",
        "print('Vetor de similaridade  para diferentes significados(',palavra2,',',palavra3,'):  %.2f' % banco_diferente)\n",
        "\n",
        "# Calcula a similaridade de coseno entre as palavras banco\n",
        "# Em \"ladrão de banco\" versus \"cofre do banco\" (mesmo significado).\n",
        "mesmo_banco = 1 - cosine(token_embeddings[palavra2], token_embeddings[palavra1])\n",
        "\n",
        "print('Vetor de similaridade  para mesmo significado      (',palavra2,', ',palavra1,'):  %.2f' % mesmo_banco)\n",
        "\n",
        "# Calcula a similaridade de coseno entre as palavras banco\n",
        "# Em \"cofre do banco\" versus \"banco da praça\" (diferente significados).\n",
        "banco_diferente2 = 1 - cosine(token_embeddings[palavra3], token_embeddings[palavra1])\n",
        "\n",
        "print('Vetor de similaridade  para diferentes significados(',palavra3,', ',palavra1,'):  %.2f' % banco_diferente2)"
      ],
      "execution_count": 74,
      "outputs": [
        {
          "output_type": "stream",
          "text": [
            "Período: Depois de roubar o cofre do banco, o ladrão de banco foi visto sentado no banco da praça central.\n",
            "Palavra1=  8 = banco (instituição financeira)\n",
            "Palavra2= 14 = banco (instituição financeira)\n",
            "Palavra3= 19 = banco (assento)\n",
            "Vetor de similaridade  para diferentes significados( 14 , 19 ):  0.71\n",
            "Vetor de similaridade  para mesmo significado      ( 14 ,  8 ):  0.88\n",
            "Vetor de similaridade  para diferentes significados( 19 ,  8 ):  0.76\n"
          ],
          "name": "stdout"
        }
      ]
    }
  ]
}