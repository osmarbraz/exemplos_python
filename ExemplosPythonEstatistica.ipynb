{
  "nbformat": 4,
  "nbformat_minor": 0,
  "metadata": {
    "colab": {
      "provenance": [],
      "toc_visible": true,
      "include_colab_link": true
    },
    "kernelspec": {
      "name": "python3",
      "display_name": "Python 3"
    }
  },
  "cells": [
    {
      "cell_type": "markdown",
      "metadata": {
        "id": "view-in-github",
        "colab_type": "text"
      },
      "source": [
        "<a href=\"https://colab.research.google.com/github/osmarbraz/exemplos_python/blob/master/ExemplosPythonEstatistica.ipynb\" target=\"_parent\"><img src=\"https://colab.research.google.com/assets/colab-badge.svg\" alt=\"Open In Colab\"/></a>"
      ]
    },
    {
      "cell_type": "markdown",
      "metadata": {
        "id": "xY84ChCNzmQQ"
      },
      "source": [
        "# Exemplos Estatísticas Python no Google Colaboratory"
      ]
    },
    {
      "cell_type": "markdown",
      "metadata": {
        "id": "KoMscP0Jo5rw"
      },
      "source": [
        "Estatística é a parte da ciência responsável pela coleta, organização e interpretação de dados experimentais e pela extrapolação dos resultados da amostra para a população.\n",
        "\n",
        "Exemplos em python:\n",
        "- Medidas de tendência central\n",
        "- Medidas de dispersão\n",
        "- Medidas separatrizes\n",
        "- Correlação\n",
        "- Estatísticas com pandas describe\n",
        "- Mínimos quadrados\n",
        "- Estatísticas de conjuntos\n",
        "- Softmax\n",
        "- Métricas\n",
        "- Binary Cross-Entropy\n",
        "- Validação cruzada(K-folds sem classe)\n",
        "- Validação Cruzada(K-folds com classe)\n",
        "- Curva ROC\n",
        "- PCA\n",
        "\n",
        "-----------------------------------------\n",
        "**Guia Colab Iniciante:**\n",
        "\n",
        "https://medium.com/machina-sapiens/google-colab-guia-do-iniciante-334d70aad531\n",
        "\n",
        "**Documentação oficial:**\n",
        "\n",
        "https://colab.research.google.com/github/jakevdp/PythonDataScienceHandbook/blob/master/notebooks/01.01-Help-And-Documentation.ipynb\n",
        "\n",
        "**Características :**\n",
        "\n",
        "https://colab.research.google.com/notebooks/basic_features_overview.ipynb\n",
        "\n"
      ]
    },
    {
      "cell_type": "markdown",
      "metadata": {
        "id": "nrlMCnG3a6Lt"
      },
      "source": [
        "Precisão e acurácia\n",
        "\n",
        "https://medium.com/@vitorborbarodrigues/m%C3%A9tricas-de-avalia%C3%A7%C3%A3o-acur%C3%A1cia-precis%C3%A3o-recall-quais-as-diferen%C3%A7as-c8f05e0a513c"
      ]
    },
    {
      "cell_type": "markdown",
      "metadata": {
        "id": "S0izDto9A2Bi"
      },
      "source": [
        "## 1 - Medidas de tendência central\n",
        "\n",
        "Com as bibliotecas Numpy e Stats.\n",
        "\n",
        "https://medium.com/@naiaracerqueira/estat%C3%ADstica-descritiva-1-ed523dffb99f\n",
        "\n",
        "https://www.w3schools.com/python/python_ml_mean_median_mode.asp"
      ]
    },
    {
      "cell_type": "markdown",
      "metadata": {
        "id": "Y0xEWmb8Ca5-"
      },
      "source": [
        "###Valores"
      ]
    },
    {
      "cell_type": "code",
      "metadata": {
        "id": "iFZkzj_nA3zO",
        "colab": {
          "base_uri": "https://localhost:8080/"
        },
        "outputId": "5a2064bf-aa41-4a2d-8a3e-e63bbbcb0f32"
      },
      "source": [
        "# Declara uma lista com os valores dos números a serem analisados\n",
        "lista = [1,2,7,4,1,9,5,3,9,2,6,8,9,4,2,5,6,7,6,8]\n",
        "\n",
        "# Mostra a quantidade de elementos\n",
        "print(len(lista))"
      ],
      "execution_count": 73,
      "outputs": [
        {
          "output_type": "stream",
          "name": "stdout",
          "text": [
            "20\n"
          ]
        }
      ]
    },
    {
      "cell_type": "markdown",
      "metadata": {
        "id": "ClFiMjf-C2RE"
      },
      "source": [
        "###Média aritmética.\n",
        "\n",
        "Indica o valor onde estão concentrados os dados de um conjunto de valores.\n",
        "\n",
        "Representado por $\\mu$ quando se refere à população e por $\\bar{X}$ quando se refere à amostra.\n",
        "\n",
        "# $$\\mu = \\frac 1n\\sum_{i=1}^{n}X_i$$\n",
        "\n",
        "onde\n",
        "\n",
        "$n$ = número de observações (registros)\n",
        "\n",
        "$X_i$ = valor da i-ésima observação (registro)"
      ]
    },
    {
      "cell_type": "code",
      "metadata": {
        "id": "_ROnzDZuDvFw",
        "colab": {
          "base_uri": "https://localhost:8080/"
        },
        "outputId": "e55dd1b2-d662-41ea-e10d-424f5f2b8070"
      },
      "source": [
        "# Declara uma lista com os números a serem analisados\n",
        "lista = [1,2,7,4,1,9,5,3,9,2,6,8,9,4,2,5,6,7,6,8]\n",
        "\n",
        "# Somatório\n",
        "soma = 0\n",
        "# Percorre a lista\n",
        "for x in lista:\n",
        "  soma = soma + x\n",
        "\n",
        "# Calcula a média\n",
        "media = soma/len(lista)\n",
        "print(\"Média aritmética: \", media)"
      ],
      "execution_count": 74,
      "outputs": [
        {
          "output_type": "stream",
          "name": "stdout",
          "text": [
            "Média aritmética:  5.2\n"
          ]
        }
      ]
    },
    {
      "cell_type": "markdown",
      "metadata": {
        "id": "elgO1En-EQcB"
      },
      "source": [
        "usando numpy"
      ]
    },
    {
      "cell_type": "code",
      "metadata": {
        "id": "Fwg6NtasDvAa",
        "colab": {
          "base_uri": "https://localhost:8080/"
        },
        "outputId": "dbcf05e4-e676-4d3d-c974-48599ddebfc0"
      },
      "source": [
        "# Import das bibliotecas\n",
        "import numpy as np\n",
        "\n",
        "# Declara uma lista com os números a serem analisados\n",
        "lista = [1,2,7,4,1,9,5,3,9,2,6,8,9,4,2,5,6,7,6,8]\n",
        "\n",
        "# Usa o método mean do numpy\n",
        "media = np.mean(lista)\n",
        "\n",
        "print(\"Média aritmética: \", media)"
      ],
      "execution_count": 75,
      "outputs": [
        {
          "output_type": "stream",
          "name": "stdout",
          "text": [
            "Média aritmética:  5.2\n"
          ]
        }
      ]
    },
    {
      "cell_type": "markdown",
      "metadata": {
        "id": "IkevWqiATGoS"
      },
      "source": [
        "###Mediana\n",
        "\n",
        "Valor que separa a metade superior da metade inferior de uma distribuição de dados, ou o valor no centro da distribuição.\n",
        "\n",
        "Para obtermos a mediana:\n",
        "\n",
        "1. Ordenar o conjunto de dados;\n",
        "2. Identificar o número de observações do conjunto de dados ($n$);\n",
        "3. Identicar o elemento mediano:\n",
        "\n",
        "> Quando $n$ for ímpar, a posição do elemento mediano será obtida da seguinte forma:\n",
        "\n",
        "$$Elemento_{Md} = \\frac{n+1}2$$\n",
        "\n",
        "> Quando $n$ for par, a posição do elemento mediano será obtida da seguinte forma:\n",
        "\n",
        "$$Elemento_{Md} = \\frac{n}2$$\n",
        "\n",
        "4. Obter a mediana:\n",
        "\n",
        "> Quando $n$ for ímpar:\n",
        "\n",
        "$$Md = X_{Elemento_{Md}}$$\n",
        "\n",
        "> Quando $n$ for par:\n",
        "\n",
        "\n",
        "# $$Md = \\frac{X_{Elemento_{Md}} + X_{Elemento_{Md}+1}}2$$\n",
        "***"
      ]
    },
    {
      "cell_type": "code",
      "metadata": {
        "id": "X1bx9tnvTMly",
        "colab": {
          "base_uri": "https://localhost:8080/"
        },
        "outputId": "fc1cbd61-e647-49e8-e734-1df2179ae009"
      },
      "source": [
        "# Import das bibliotecas\n",
        "import numpy as np\n",
        "\n",
        "# Declara uma lista com os números a serem analisados\n",
        "lista = [1,2,7,4,1,9,5,3,9,2,6,8,9,4,2,5,6,7,6,8]\n",
        "\n",
        "# Usa o método median do numpy\n",
        "mediana = np.median(lista)\n",
        "\n",
        "print(\"Mediana: \", mediana)"
      ],
      "execution_count": 76,
      "outputs": [
        {
          "output_type": "stream",
          "name": "stdout",
          "text": [
            "Mediana:  5.5\n"
          ]
        }
      ]
    },
    {
      "cell_type": "markdown",
      "metadata": {
        "id": "bnVquzpyIyhp"
      },
      "source": [
        "###Moda\n",
        "\n",
        "O valor que mais se repete no conjunto de dados."
      ]
    },
    {
      "cell_type": "code",
      "metadata": {
        "id": "dUeGpiybIzqy",
        "colab": {
          "base_uri": "https://localhost:8080/"
        },
        "outputId": "4ba74e6f-fb1b-4453-ce2e-5a9c2915eb5c"
      },
      "source": [
        "# Import das bibliotecas\n",
        "import numpy as np\n",
        "from scipy import stats\n",
        "\n",
        "# Declara uma lista com os números a serem analisados\n",
        "lista = [1,2,7,4,1,9,5,3,9,2,6,8,9,4,2,5,6,7,6,8]\n",
        "\n",
        "# Usa o método mode do stats\n",
        "moda = stats.mode(lista)\n",
        "\n",
        "print(\"Moda: \", moda[0])"
      ],
      "execution_count": 77,
      "outputs": [
        {
          "output_type": "stream",
          "name": "stdout",
          "text": [
            "Moda:  [2]\n"
          ]
        },
        {
          "output_type": "stream",
          "name": "stderr",
          "text": [
            "<ipython-input-77-961736d9d34e>:9: FutureWarning: Unlike other reduction functions (e.g. `skew`, `kurtosis`), the default behavior of `mode` typically preserves the axis it acts along. In SciPy 1.11.0, this behavior will change: the default value of `keepdims` will become False, the `axis` over which the statistic is taken will be eliminated, and the value None will no longer be accepted. Set `keepdims` to True or False to avoid this warning.\n",
            "  moda = stats.mode(lista)\n"
          ]
        }
      ]
    },
    {
      "cell_type": "markdown",
      "metadata": {
        "id": "dnwL9bfKTaED"
      },
      "source": [
        "###Amplitude/Dispersão\n",
        "\n",
        "Diferença entre o maior e o menor valor de um conjunto de dados.\n",
        "\n",
        "Para fazer este cálculo no Pandas, usaremos as funções max() e min(), que obviamente, retornam o valor máximo e mínimo de um conjunto de dados, e depois subtrairemos um do outro:"
      ]
    },
    {
      "cell_type": "code",
      "metadata": {
        "id": "ENNUeRPnTbq6",
        "colab": {
          "base_uri": "https://localhost:8080/"
        },
        "outputId": "f3ad86bc-65ac-44f6-8466-acede69f9854"
      },
      "source": [
        "# Import das bibliotecas\n",
        "import numpy as np\n",
        "\n",
        "# Declara uma lista com os números a serem analisados\n",
        "lista = [1,2,7,4,1,9,5,3,9,2,6,8,9,4,2,5,6,7,6,8]\n",
        "\n",
        "# Usa o método max do stats\n",
        "maior = np.max(lista)\n",
        "# Usa o método min do stats\n",
        "menor = np.min(lista)\n",
        "\n",
        "# Calcula a amplitude\n",
        "amplitude = maior - menor\n",
        "\n",
        "print(\"Amplitude: \", amplitude)\n",
        "print(\"Maior: \", maior)\n",
        "print(\"Menor: \", menor)"
      ],
      "execution_count": 78,
      "outputs": [
        {
          "output_type": "stream",
          "name": "stdout",
          "text": [
            "Amplitude:  8\n",
            "Maior:  9\n",
            "Menor:  1\n"
          ]
        }
      ]
    },
    {
      "cell_type": "markdown",
      "metadata": {
        "id": "50ZU7evSdCXb"
      },
      "source": [
        "### Regra de Sturges\n",
        "\n",
        "É um critério usado para determinar o número de classes ou intervalos necessários para representar graficamente um conjunto de dados estatísticos. Esta regra foi enunciada em 1926 pelo matemático alemão Herbert Sturges.\n",
        "\n",
        "$k = 1 + \\frac {10}{3}\\log_{10}n$"
      ]
    },
    {
      "cell_type": "code",
      "metadata": {
        "id": "b_FjVunldEHs",
        "colab": {
          "base_uri": "https://localhost:8080/"
        },
        "outputId": "de7ebc10-8857-496b-cbb5-0cc02d2a3f73"
      },
      "source": [
        "# Import das bibliotecas\n",
        "import math\n",
        "\n",
        "# Declara uma lista com os números a serem analisados\n",
        "lista = [1,2,7,4,1,9,5,3,9,2,6,8,9,4,2,5,6,7,6,8]\n",
        "\n",
        "# Recupera a quantidade de elmeentos da lista\n",
        "n = len(lista)\n",
        "\n",
        "# Calcula k\n",
        "k = 1 + (10/3 * math.log10(n))\n",
        "\n",
        "print(\"k=\",k)"
      ],
      "execution_count": 79,
      "outputs": [
        {
          "output_type": "stream",
          "name": "stdout",
          "text": [
            "k= 5.336766652213271\n"
          ]
        }
      ]
    },
    {
      "cell_type": "markdown",
      "metadata": {
        "id": "64yz-HJNbXQW"
      },
      "source": [
        "## 2 - Medidas de dispersão"
      ]
    },
    {
      "cell_type": "markdown",
      "metadata": {
        "id": "FloVQTFCIiFl"
      },
      "source": [
        "###Variância\n",
        "\n",
        "Expressa quanto os dados de um conjunto estão afastados da sua média.\n",
        "\n",
        "Uma amostra é sempre um grupo menor ou um subconjunto dentro de uma população.\n",
        "\n",
        "* Variância populacional\n",
        "\n",
        "$$\\sigma^2 = \\frac 1n\\sum_{i=1}^{n}(X_i-\\mu)^2$$\n",
        "\n",
        "* Variância amostral\n",
        "\n",
        "$$S^2 = \\frac 1{n-1}\\sum_{i=1}^{n}(X_i-\\bar{X})^2$$"
      ]
    },
    {
      "cell_type": "code",
      "metadata": {
        "id": "2bDjwEGlIj9h",
        "colab": {
          "base_uri": "https://localhost:8080/"
        },
        "outputId": "272d1c5f-4533-4fa7-c554-171ae5f90630"
      },
      "source": [
        "# Import das bibliotecas\n",
        "import numpy as np\n",
        "\n",
        "# Declara uma lista com os números a serem analisados\n",
        "lista = [1,2,7,4,1,9,5,3,9,2,6,8,9,4,2,5,6,7,6,8]\n",
        "\n",
        "# Usa o método var do numpy\n",
        "media = np.mean(lista)\n",
        "\n",
        "# Usa o método var do numpy\n",
        "variancia = np.var(lista)\n",
        "\n",
        "print(\"Variância: \", variancia)\n",
        "print(\"Media: \", media)"
      ],
      "execution_count": 80,
      "outputs": [
        {
          "output_type": "stream",
          "name": "stdout",
          "text": [
            "Variância:  7.06\n",
            "Media:  5.2\n"
          ]
        }
      ]
    },
    {
      "cell_type": "markdown",
      "metadata": {
        "id": "6wKjLKKGVONQ"
      },
      "source": [
        "Quanto menor a variância mais próximo os valores estão em relação a média."
      ]
    },
    {
      "cell_type": "markdown",
      "metadata": {
        "id": "hZMsJIT6IQFz"
      },
      "source": [
        "### Desvio padrão\n",
        "\n",
        "Indica quanto os dados estão afastados da média. Um valor de desvio padrão alto indica que os valores estão mais espalhados, mais longe da média, e um desvio padrão baixo indica que os valores estão mais próximos da média.\n",
        "\n",
        "Raiz quadrada da variância.\n",
        "\n",
        "* Desvio padrão populacional\n",
        "\n",
        "$$\\sigma = \\sqrt{\\frac 1n\\sum_{i=1}^{n}(X_i-\\mu)^2} \\Longrightarrow \\sigma = \\sqrt{\\sigma^2}$$\n",
        "\n",
        "* Desvio padrão amostral\n",
        "\n",
        "$$S = \\sqrt{\\frac 1{n-1}\\sum_{i=1}^{n}(X_i-\\bar{X})^2} \\Longrightarrow S = \\sqrt{S^2}$$"
      ]
    },
    {
      "cell_type": "code",
      "metadata": {
        "id": "EbUnAt2zIRnx",
        "colab": {
          "base_uri": "https://localhost:8080/"
        },
        "outputId": "228ce08b-3b46-4f2c-9dc5-b2b3e313c824"
      },
      "source": [
        "# Import das bibliotecas\n",
        "import numpy as np\n",
        "\n",
        "# Declara uma lista com os números a serem analisados\n",
        "lista = [1,2,7,4,1,9,5,3,9,2,6,8,9,4,2,5,6,7,6,8]\n",
        "\n",
        "# Usa o método std do numpy\n",
        "desviopadrao = np.std(lista)\n",
        "\n",
        "print(\"Desvio padrão: \", desviopadrao)"
      ],
      "execution_count": 81,
      "outputs": [
        {
          "output_type": "stream",
          "name": "stdout",
          "text": [
            "Desvio padrão:  2.6570660511172846\n"
          ]
        }
      ]
    },
    {
      "cell_type": "markdown",
      "metadata": {
        "id": "MDYt4hKhR5BY"
      },
      "source": [
        "### Coeficiente de variação\n",
        "\n",
        "Utilizado para comparação entre amostras; é uma medida adimensional."
      ]
    },
    {
      "cell_type": "code",
      "metadata": {
        "id": "yY4soFBIR9zD",
        "colab": {
          "base_uri": "https://localhost:8080/"
        },
        "outputId": "232064cd-47db-4ec6-edad-e0cebbbc8e1f"
      },
      "source": [
        "# Import das bibliotecas\n",
        "import numpy as np\n",
        "\n",
        "# Declara uma lista com os números a serem analisados\n",
        "lista = [1,2,7,4,1,9,5,3,9,2,6,8,9,4,2,5,6,7,6,8]\n",
        "\n",
        "media = np.mean(lista)\n",
        "variancia = np.var(lista)\n",
        "\n",
        "coeficiente = variancia/media\n",
        "\n",
        "print(\"Coeficiente: \", coeficiente)"
      ],
      "execution_count": 82,
      "outputs": [
        {
          "output_type": "stream",
          "name": "stdout",
          "text": [
            "Coeficiente:  1.3576923076923075\n"
          ]
        }
      ]
    },
    {
      "cell_type": "markdown",
      "metadata": {
        "id": "_kzjO4q_bHdL"
      },
      "source": [
        "## 3 - Medidas separatrizes"
      ]
    },
    {
      "cell_type": "markdown",
      "metadata": {
        "id": "w5WXoYHVLrQZ"
      },
      "source": [
        "### Percentil\n",
        "\n",
        "Divide o conjunto de dados em 100 partes iguais, ou seja, em pedaços de tamanhos iguais que contêm 1% dos dado."
      ]
    },
    {
      "cell_type": "code",
      "metadata": {
        "id": "AyGLXr4vLs6E",
        "colab": {
          "base_uri": "https://localhost:8080/"
        },
        "outputId": "004b01c7-724e-492f-9865-65c8a49582db"
      },
      "source": [
        "# Import das bibliotecas\n",
        "import numpy as np\n",
        "\n",
        "# Declara uma lista com os números a serem analisados\n",
        "lista = [1,2,7,4,1,9,5,3,9,2,6,8,9,4,2,5,6,7,6,8]\n",
        "\n",
        "# Usa o método percentil do numpy\n",
        "P0 = np.percentile(lista, 0)\n",
        "P20 = np.percentile(lista, 20)\n",
        "P40 = np.percentile(lista, 40)\n",
        "P50 = np.percentile(lista, 50)\n",
        "P60 = np.percentile(lista, 60)\n",
        "P80 = np.percentile(lista, 80)\n",
        "P100 = np.percentile(lista, 100)\n",
        "\n",
        "print(\"P0: \", P0)\n",
        "print(\"P20: \", P20)\n",
        "print(\"P40: \", P40)\n",
        "print(\"P50: \", P50)\n",
        "print(\"P60: \", P60)\n",
        "print(\"P100: \", P100)"
      ],
      "execution_count": 83,
      "outputs": [
        {
          "output_type": "stream",
          "name": "stdout",
          "text": [
            "P0:  1.0\n",
            "P20:  2.0\n",
            "P40:  4.6000000000000005\n",
            "P50:  5.5\n",
            "P60:  6.0\n",
            "P100:  9.0\n"
          ]
        }
      ]
    },
    {
      "cell_type": "markdown",
      "metadata": {
        "id": "dLuBSNHBQQCS"
      },
      "source": [
        "### Quartil\n",
        "\n",
        "Divide o conjunto de dados em 4 partes iguais que contém 25% dos dados."
      ]
    },
    {
      "cell_type": "code",
      "metadata": {
        "id": "8GmAslRzQRTh",
        "colab": {
          "base_uri": "https://localhost:8080/"
        },
        "outputId": "44f725fe-16e6-4dbc-e21c-81390112a69e"
      },
      "source": [
        "# Import das bibliotecas\n",
        "import numpy as np\n",
        "\n",
        "# Declara uma lista com os números a serem analisados\n",
        "lista = [1,2,7,4,1,9,5,3,9,2,6,8,9,4,2,5,6,7,6,8]\n",
        "\n",
        "# Usa o método quantile do numpy\n",
        "Q1 = np.quantile(lista, 0.25)\n",
        "Q2 = np.quantile(lista, 0.50)\n",
        "Q3 = np.quantile(lista, 0.75)\n",
        "Q4 = np.quantile(lista, 1)\n",
        "\n",
        "print(\"Q1: \", Q1)\n",
        "print(\"Q2: \", Q2)\n",
        "print(\"Q3: \", Q3)\n",
        "print(\"Q4: \", Q4)"
      ],
      "execution_count": 84,
      "outputs": [
        {
          "output_type": "stream",
          "name": "stdout",
          "text": [
            "Q1:  2.75\n",
            "Q2:  5.5\n",
            "Q3:  7.25\n",
            "Q4:  9\n"
          ]
        }
      ]
    },
    {
      "cell_type": "markdown",
      "metadata": {
        "id": "QErar0OFMbD8"
      },
      "source": [
        "###Histograma\n",
        "\n",
        "É a representação gráfica de uma distribuição de frequências. É uma gráfico formado por um conjunto de retângulos colocados lado a lado, onde a área de cada retângulo é proporcional à frequência da classe que ele representa."
      ]
    },
    {
      "cell_type": "code",
      "metadata": {
        "id": "dvxaLoB1Mcn0",
        "colab": {
          "base_uri": "https://localhost:8080/",
          "height": 430
        },
        "outputId": "2b3c27da-feda-4d09-b901-31b8bb8e53ff"
      },
      "source": [
        "# Import da biblioteca\n",
        "import numpy as np\n",
        "import matplotlib.pyplot as plt\n",
        "\n",
        "# Declara uma lista com os números a serem analisados\n",
        "lista = [1,2,7,4,1,9,5,3,9,2,6,8,9,4,2,5,6,7,6,8]\n",
        "\n",
        "# Cria um histograma com 5 classes\n",
        "plt.hist(lista, bins=5)\n",
        "\n",
        "# Mostra o gráfico\n",
        "plt.show()"
      ],
      "execution_count": 85,
      "outputs": [
        {
          "output_type": "display_data",
          "data": {
            "text/plain": [
              "<Figure size 640x480 with 1 Axes>"
            ],
            "image/png": "[encoded data removed]"
          },
          "metadata": {}
        }
      ]
    },
    {
      "cell_type": "markdown",
      "metadata": {
        "id": "zGYbkbFLN-vY"
      },
      "source": [
        "###Assimetria\n",
        "\n",
        "Valores:\n",
        "* próxima de zero = normalmente distribuídos\n",
        "* valor > 0 = assimetria positiva, distribuição mais a direita.\n",
        "  * valores de moda < mediana < média\n",
        "* valor < 0 = assimetria negativa, distribuição mais a esquerda.\n",
        "  * valores de média < mediana < moda"
      ]
    },
    {
      "cell_type": "code",
      "metadata": {
        "id": "tDaRWa85OAh0",
        "colab": {
          "base_uri": "https://localhost:8080/"
        },
        "outputId": "a8a1808a-0a87-4cb8-9a51-3bcd4153e733"
      },
      "source": [
        "# Import das bibliotecas\n",
        "import numpy as np\n",
        "from scipy import stats\n",
        "\n",
        "# Declara uma lista com os números a serem analisados\n",
        "lista = [1,2,7,4,1,9,5,3,9,2,6,8,9,4,2,5,6,7,6,8]\n",
        "\n",
        "# Usa o método stats do scipy\n",
        "assimetria = stats.skew(lista)\n",
        "\n",
        "print(\"Assimetria: \", assimetria)"
      ],
      "execution_count": 86,
      "outputs": [
        {
          "output_type": "stream",
          "name": "stdout",
          "text": [
            "Assimetria:  -0.10363088547721301\n"
          ]
        }
      ]
    },
    {
      "cell_type": "markdown",
      "metadata": {
        "id": "oK9xoMYlOT90"
      },
      "source": [
        "###Curtose\n",
        "\n",
        "Grau de achatamento da curva, em relação a curva normal."
      ]
    },
    {
      "cell_type": "code",
      "metadata": {
        "id": "nNU-rGiIOYSH",
        "colab": {
          "base_uri": "https://localhost:8080/"
        },
        "outputId": "e46ddbe1-bf56-4691-e8d3-bc3c1ee47abe"
      },
      "source": [
        "# Import das bibliotecas\n",
        "import numpy as np\n",
        "from scipy import stats\n",
        "\n",
        "# Declara uma lista com os números a serem analisados\n",
        "lista = [1,2,7,4,1,9,5,3,9,2,6,8,9,4,2,5,6,7,6,8]\n",
        "\n",
        "# Usa o método kurtosis do stats\n",
        "curtose = stats.kurtosis(lista)\n",
        "\n",
        "print(\"Curtose: \", curtose)"
      ],
      "execution_count": 87,
      "outputs": [
        {
          "output_type": "stream",
          "name": "stdout",
          "text": [
            "Curtose:  -1.2593713134685296\n"
          ]
        }
      ]
    },
    {
      "cell_type": "markdown",
      "metadata": {
        "id": "U9aiefdPVf6F"
      },
      "source": [
        "###Covariância\n",
        "\n",
        "A variância é utilizada quando queremos calcular a dispersão dos dados em relação a uma única variável, quando queremos calcular a dispersão com base em duas variáveis diferentes utilizamos a covariância."
      ]
    },
    {
      "cell_type": "code",
      "metadata": {
        "id": "j4aTmffPVhKT",
        "colab": {
          "base_uri": "https://localhost:8080/"
        },
        "outputId": "8a0b7f97-bffd-4a46-94a0-2254d7220926"
      },
      "source": [
        "dados = np.matrix([[1,2,7,4,1,9,5,3,9,2],\n",
        "                   [6,8,9,4,2,5,6,7,6,8]])\n",
        "\n",
        "# Usa o método cov do numpy\n",
        "covariancia = np.cov(dados)\n",
        "\n",
        "print(\"Covariancia: \", covariancia)"
      ],
      "execution_count": 88,
      "outputs": [
        {
          "output_type": "stream",
          "name": "stdout",
          "text": [
            "Covariancia:  [[9.56666667 0.74444444]\n",
            " [0.74444444 4.32222222]]\n"
          ]
        }
      ]
    },
    {
      "cell_type": "markdown",
      "metadata": {
        "id": "CluORvGBVyvH"
      },
      "source": [
        "A coraviância indica que quando a variável da primeira linha aumenta, a variável da segunda linha também aumenta."
      ]
    },
    {
      "cell_type": "markdown",
      "source": [
        "## 4 - Correlação"
      ],
      "metadata": {
        "id": "-En9mrwh8Nb4"
      }
    },
    {
      "cell_type": "markdown",
      "metadata": {
        "id": "TggFBN02WMlV"
      },
      "source": [
        "\n",
        "\n",
        "Indica como uma variável está relacionada com outra variável."
      ]
    },
    {
      "cell_type": "code",
      "metadata": {
        "id": "jW6p5JzmWS0p",
        "colab": {
          "base_uri": "https://localhost:8080/"
        },
        "outputId": "646ce8cd-c780-4240-e5ac-2607f0124784"
      },
      "source": [
        "dados = np.matrix([[1,2,7,4,1,9,5,3,9,2],\n",
        "                   [6,8,9,4,2,5,6,7,6,8]])\n",
        "\n",
        "# Usa o método corrcoef do numpy\n",
        "correlacao = np.corrcoef(dados)\n",
        "\n",
        "print(\"Correlação: \", correlacao)"
      ],
      "execution_count": 89,
      "outputs": [
        {
          "output_type": "stream",
          "name": "stdout",
          "text": [
            "Correlação:  [[1.         0.11577064]\n",
            " [0.11577064 1.        ]]\n"
          ]
        }
      ]
    },
    {
      "cell_type": "markdown",
      "metadata": {
        "id": "6A31DxtXWk6o"
      },
      "source": [
        "Quanto mais próximo o valor for de 1, mais forte é a correlação entre as variáveis, se o valor for 0 então não há correlação e quanto mais próximo o valor for de -1, maior é a anticorrelação entre as variáveis."
      ]
    },
    {
      "cell_type": "markdown",
      "source": [
        "### Correlação de Pearson\n",
        "\n",
        "O coeficiente de correlação de Pearson pode ter um intervalo de valores de +1 a -1. Um valor de 0 indica que não há associação entre as duas variáveis. Um valor maior que 0 indica uma associação positiva. Isto é, à medida que o valor de uma variável aumenta, o mesmo acontece com o valor da outra variável. Um valor menor que 0 indica uma associação negativa. Isto é, à medida que o valor de uma variável aumenta, o valor da outra diminui.\n",
        "\n",
        "$$r = \\frac {\\sum_{i}^{n}{{x_i}*{y_i}} - \\sum_{i}^{n}{x_i}*\\sum_{i}^{n}{y_i}} { \\sqrt {n * \\sum_{i}^{n}{{x_i}^2*} - (\\sum_{i}^{n}{x_i})^2} *  \\sqrt {n * \\sum_{i}^{n}{{y_i}^2*} - (\\sum_{i}^{n}{y_i})^2}} $$\n",
        "\n",
        "Os dados de exemplo mostra a massa corporal (X) e o número de flexões (Y) realizadas em 30 segundos.\n",
        "\n",
        "Objetivo: calcular a correlação de Pearson entre X e Y.\n",
        "\n",
        "http://www.cpaqv.org/estatistica/correl_pearson.pdf"
      ],
      "metadata": {
        "id": "b7t8PD0G82tN"
      }
    },
    {
      "cell_type": "markdown",
      "source": [
        "#### Sem biblioteca"
      ],
      "metadata": {
        "id": "8TbIE4jhL6pX"
      }
    },
    {
      "cell_type": "code",
      "source": [
        "# Biblioteca matemática\n",
        "import math\n",
        "\n",
        "# Dados massa corporal\n",
        "x = [99, 66, 69, 71, 104, 117, 98, 83, 78, 65]\n",
        "# Dados número flexões\n",
        "y = [9 , 20, 22, 24,   4,   1, 10, 19, 24, 21]\n",
        "print(\"Tamanho lista dados:\", len(x), len(y))\n",
        "\n",
        "# Quantidade de elementos\n",
        "n = len(x)\n",
        "\n",
        "# Processamento\n",
        "soma_x = sum(x)\n",
        "print(\"soma x:\",soma_x)\n",
        "soma_x_sq = sum([xi * xi for xi in x])\n",
        "print(\"soma x**2:\",soma_x_sq)\n",
        "\n",
        "soma_y = sum(y)\n",
        "print(\"soma y:\",soma_y)\n",
        "soma_y_sq = sum(yi * yi for yi in y)\n",
        "print(\"soma y**2:\",soma_y_sq)\n",
        "\n",
        "soma_p_x_y = sum(xi * yi for xi,yi in zip(x,y))\n",
        "print(\"soma produto x.y:\",soma_p_x_y)\n",
        "\n",
        "numerador = soma_p_x_y - (soma_x * soma_y/n)\n",
        "print(\"numerador:\", numerador)\n",
        "denominador = math.sqrt((soma_x_sq - soma_x**2 / n) * (soma_y_sq - soma_y**2 / n))\n",
        "print(\"denominador:\", denominador)\n",
        "\n",
        "if denominador == 0:\n",
        "  correlacao = 0\n",
        "else:\n",
        "  correlacao = numerador / denominador\n",
        "\n",
        "print()\n",
        "print(\"Correlação de Pearson:\", correlacao)"
      ],
      "metadata": {
        "colab": {
          "base_uri": "https://localhost:8080/"
        },
        "id": "fu7EXWgn86XI",
        "outputId": "c15a13d6-3f35-4cdb-9f32-491c46189389"
      },
      "execution_count": 90,
      "outputs": [
        {
          "output_type": "stream",
          "name": "stdout",
          "text": [
            "Tamanho lista dados: 10 10\n",
            "soma x: 850\n",
            "soma x**2: 75266\n",
            "soma y: 154\n",
            "soma y**2: 3036\n",
            "soma produto x.y: 11760\n",
            "numerador: -1330.0\n",
            "denominador: 1415.5671654852695\n",
            "\n",
            "Correlação de Pearson: -0.9395527336522134\n"
          ]
        }
      ]
    },
    {
      "cell_type": "markdown",
      "source": [
        "Função de cálculo"
      ],
      "metadata": {
        "id": "M-xQ6ya3V9cA"
      }
    },
    {
      "cell_type": "code",
      "source": [
        "# Biblioteca matemática\n",
        "import math\n",
        "\n",
        "def pearsonr(x, y):\n",
        "  # Assume que len(x) == len(y)\n",
        "  n = len(x)\n",
        "\n",
        "  soma_x = float(sum(x))\n",
        "  soma_y = float(sum(y))\n",
        "\n",
        "  soma_x_sq = sum(xi*xi for xi in x)\n",
        "  soma_y_sq = sum(yi*yi for yi in y)\n",
        "  soma_p_x_y = sum(xi*yi for xi, yi in zip(x, y))\n",
        "\n",
        "  numerador = soma_p_x_y - (soma_x * soma_y/n)\n",
        "  denominador = math.sqrt((soma_x_sq - soma_x**2 / n) * (soma_y_sq - soma_y ** 2 / n))\n",
        "  if denominador == 0:\n",
        "    return 0\n",
        "  return numerador / denominador"
      ],
      "metadata": {
        "id": "EI2GfA_tTSnP"
      },
      "execution_count": 91,
      "outputs": []
    },
    {
      "cell_type": "code",
      "source": [
        "# Biblioteca matemática\n",
        "import math\n",
        "\n",
        "# Dados massa corporal\n",
        "x = [99, 66, 69, 71, 104, 117, 98, 83, 78, 65]\n",
        "# Dados número flexões\n",
        "y = [9 , 20, 22, 24,   4,   1, 10, 19, 24, 21]\n",
        "print(\"Tamanho lista dados:\", len(x), len(y))\n",
        "\n",
        "correlacao = pearsonr(x,y)\n",
        "print(\"Correlação de Pearson:\", correlacao)"
      ],
      "metadata": {
        "colab": {
          "base_uri": "https://localhost:8080/"
        },
        "id": "ZvnCiaU0U52K",
        "outputId": "fd28743d-ed18-4864-a44c-2f6190e02a63"
      },
      "execution_count": 92,
      "outputs": [
        {
          "output_type": "stream",
          "name": "stdout",
          "text": [
            "Tamanho lista dados: 10 10\n",
            "Correlação de Pearson: -0.9395527336522134\n"
          ]
        }
      ]
    },
    {
      "cell_type": "markdown",
      "source": [
        "#### Com a biblioteca numpy\n",
        "\n",
        "https://realpython.com/numpy-scipy-pandas-correlation-python/"
      ],
      "metadata": {
        "id": "MF4BSKpLL_9L"
      }
    },
    {
      "cell_type": "code",
      "source": [
        "# Biblioteca\n",
        "import numpy as np\n",
        "\n",
        "# Dados massa corporal\n",
        "X =  np.array([99, 66, 69, 71, 104, 117, 98, 83, 78, 65])\n",
        "# Dados número flexões\n",
        "Y =  np.array([9 , 20, 22, 24,   4,   1, 10, 19, 24, 21])\n",
        "print(\"Tamanho lista dados:\", len(X), len(Y))\n",
        "\n",
        "print()\n",
        "r = np.corrcoef(X, Y)\n",
        "print(\"r:\",r)"
      ],
      "metadata": {
        "colab": {
          "base_uri": "https://localhost:8080/"
        },
        "outputId": "11ef5215-7f77-4d38-b3e4-8a0b8a291778",
        "id": "pWELpdIFL_9L"
      },
      "execution_count": 93,
      "outputs": [
        {
          "output_type": "stream",
          "name": "stdout",
          "text": [
            "Tamanho lista dados: 10 10\n",
            "\n",
            "r: [[ 1.         -0.93955273]\n",
            " [-0.93955273  1.        ]]\n"
          ]
        }
      ]
    },
    {
      "cell_type": "markdown",
      "source": [
        "#### Com a biblioteca scipy\n",
        "\n",
        "https://realpython.com/numpy-scipy-pandas-correlation-python/\n",
        "\n",
        "\n",
        "https://docs.scipy.org/doc/scipy/reference/generated/scipy.stats.pearsonr.html"
      ],
      "metadata": {
        "id": "Nb6wfy0BOlMH"
      }
    },
    {
      "cell_type": "code",
      "source": [
        "import numpy as np\n",
        "import scipy.stats\n",
        "\n",
        "# Biblioteca\n",
        "import numpy as np\n",
        "import matplotlib.pyplot as plt\n",
        "\n",
        "# Dados massa corporal\n",
        "X =  np.array([99, 66, 69, 71, 104, 117, 98, 83, 78, 65])\n",
        "# Dados número flexões\n",
        "Y =  np.array([9 , 20, 22, 24,   4,   1, 10, 19, 24, 21])\n",
        "print(\"Tamanho lista dados:\", len(X), len(Y))\n",
        "\n",
        "# Pearson's r\n",
        "r,p = scipy.stats.pearsonr(X, Y)\n",
        "print(\"r:\",r)\n",
        "print(\"p:\",p)\n",
        "print()\n",
        "\n",
        "# Spearman's rho\n",
        "rho = scipy.stats.spearmanr(X, Y)\n",
        "print(\"rho:\",rho)\n",
        "print(rho[0])\n",
        "print()\n",
        "\n",
        "# Kendall's tau\n",
        "tau = scipy.stats.kendalltau(X, Y)\n",
        "print(\"tau:\",tau)\n",
        "print(tau[0])"
      ],
      "metadata": {
        "colab": {
          "base_uri": "https://localhost:8080/"
        },
        "id": "IHTA-6EJODSX",
        "outputId": "cf2aa9d2-bac1-4639-f4ff-0924e8df8dba"
      },
      "execution_count": 94,
      "outputs": [
        {
          "output_type": "stream",
          "name": "stdout",
          "text": [
            "Tamanho lista dados: 10 10\n",
            "r: -0.9395527336522135\n",
            "p: 5.427860909555034e-05\n",
            "\n",
            "rho: SignificanceResult(statistic=-0.7781190959104827, pvalue=0.00803313849599635)\n",
            "-0.7781190959104827\n",
            "\n",
            "tau: SignificanceResult(statistic=-0.6292532049656925, pvalue=0.011921001496914019)\n",
            "-0.6292532049656925\n"
          ]
        }
      ]
    },
    {
      "cell_type": "markdown",
      "source": [
        "### Correlação de Spearman\n",
        "\n",
        "É igual ao coeficiente de Pearson aplicado ao valores da ordem de duas variáveis. Pode ser usado na presença de outliers, já que considera a ordem e não os valores das variáveis.\n",
        "\n",
        "Em estatística, o coeficiente de correlação de postos de Spearman ou rô de Spearman, que recebe este nome em homenagem ao psicólogo e estatístico Charles Spearman, frequentemente denotado pela letra grega $\\rho (rô)$ ou ${\\displaystyle r_{s}}$, é uma medida não paramétrica de correlação de postos (dependência estatística entre a classificação de duas variáveis). O coeficiente avalia com que intensidade a relação entre duas variáveis pode ser descrita pelo uso de uma função monótona.\n",
        "\n",
        "$$r = 1 - \\frac {6 * \\sum_{i}^{n}{{d_i^2}}} { n * ({n^2 - 1)}} $$\n",
        "\n",
        "em que\n",
        "- $d_i = rg(X_i) - rg(Y_i)$ é a diferença entre os dois postos de cada observação;\n",
        "- $n$ é o número de observações."
      ],
      "metadata": {
        "id": "3-yCubf-TFu1"
      }
    },
    {
      "cell_type": "markdown",
      "source": [
        "#### Sem biblioteca"
      ],
      "metadata": {
        "id": "Bb_YPKh-VEyE"
      }
    },
    {
      "cell_type": "code",
      "source": [
        "# Biblioteca matemática\n",
        "import math\n",
        "\n",
        "# Dados massa corporal\n",
        "x = [99, 66, 69, 71, 104, 117, 98, 83, 78, 65]\n",
        "# Dados número flexões\n",
        "y = [9 , 20, 22, 24,   4,   1, 10, 19, 24, 21]\n",
        "print(\"Tamanho lista dados:\", len(x), len(y))\n",
        "\n",
        "# Recupera a ordem dos valores no conjunto\n",
        "x = [sorted(x).index(i)+1 for i in x]\n",
        "y = [sorted(y).index(i)+1 for i in y]\n",
        "\n",
        "# Quantidade de elementos\n",
        "n = len(x)\n",
        "\n",
        "# Processamento\n",
        "soma_x = sum(x)\n",
        "print(\"soma x:\",soma_x)\n",
        "soma_x_sq = sum([xi * xi for xi in x])\n",
        "print(\"soma x**2:\",soma_x_sq)\n",
        "\n",
        "soma_y = sum(y)\n",
        "print(\"soma y:\",soma_y)\n",
        "soma_y_sq = sum(yi * yi for yi in y)\n",
        "print(\"soma y**2:\",soma_y_sq)\n",
        "\n",
        "soma_p_x_y = sum(xi * yi for xi,yi in zip(x,y))\n",
        "print(\"soma produto x.y:\",soma_p_x_y)\n",
        "\n",
        "numerador = soma_p_x_y - (soma_x * soma_y/n)\n",
        "print(\"numerador:\", numerador)\n",
        "denominador = math.sqrt((soma_x_sq - soma_x**2 / n) * (soma_y_sq - soma_y**2 / n))\n",
        "print(\"denominador:\", denominador)\n",
        "\n",
        "if denominador == 0:\n",
        "  correlacao = 0\n",
        "else:\n",
        "  correlacao = numerador / denominador\n",
        "\n",
        "print()\n",
        "print(\"Correlação de Spearman:\", correlacao)"
      ],
      "metadata": {
        "colab": {
          "base_uri": "https://localhost:8080/"
        },
        "id": "5g30a-AYxdDq",
        "outputId": "05725718-fc28-4874-bd44-ee785fdadbe4"
      },
      "execution_count": 95,
      "outputs": [
        {
          "output_type": "stream",
          "name": "stdout",
          "text": [
            "Tamanho lista dados: 10 10\n",
            "soma x: 55\n",
            "soma x**2: 385\n",
            "soma y: 54\n",
            "soma y**2: 366\n",
            "soma produto x.y: 234\n",
            "numerador: -63.0\n",
            "denominador: 78.34538914320356\n",
            "\n",
            "Correlação de Spearman: -0.8041315601208578\n"
          ]
        }
      ]
    },
    {
      "cell_type": "markdown",
      "source": [
        "Função de cálculo"
      ],
      "metadata": {
        "id": "JzAggF8tmXam"
      }
    },
    {
      "cell_type": "code",
      "source": [
        "# Biblioteca matemática\n",
        "import math\n",
        "\n",
        "def spearman(x, y):\n",
        "  # Assume que len(x) == len(y)\n",
        "  n = len(x)\n",
        "\n",
        "  # Recupera a ordem dos valores no conjunto\n",
        "  x = [sorted(x).index(i)+1 for i in x]\n",
        "  y = [sorted(y).index(i)+1 for i in y]\n",
        "\n",
        "  soma_x = float(sum(x))\n",
        "  soma_y = float(sum(y))\n",
        "\n",
        "  soma_x_sq = sum(xi*xi for xi in x)\n",
        "  soma_y_sq = sum(yi*yi for yi in y)\n",
        "  soma_p_x_y = sum(xi*yi for xi, yi in zip(x, y))\n",
        "\n",
        "  numerador = soma_p_x_y - (soma_x * soma_y/n)\n",
        "  denominador = math.sqrt((soma_x_sq - soma_x**2 / n) * (soma_y_sq - soma_y ** 2 / n))\n",
        "  if denominador == 0:\n",
        "    return 0\n",
        "  return numerador / denominador"
      ],
      "metadata": {
        "id": "4_zo9MMkmXas"
      },
      "execution_count": 96,
      "outputs": []
    },
    {
      "cell_type": "code",
      "source": [
        "# Biblioteca matemática\n",
        "import math\n",
        "\n",
        "# Dados massa corporal\n",
        "x = [99, 66, 69, 71, 104, 117, 98, 83, 78, 65]\n",
        "# Dados número flexões\n",
        "y = [9 , 20, 22, 24,   4,   1, 10, 19, 24, 21]\n",
        "print(\"Tamanho lista dados:\", len(x), len(y))\n",
        "\n",
        "correlacao = spearman(x,y)\n",
        "print(\"Correlação de Spearman:\", correlacao)"
      ],
      "metadata": {
        "colab": {
          "base_uri": "https://localhost:8080/"
        },
        "outputId": "674204f4-e0e7-418a-edc8-65131d0a8952",
        "id": "2I1we1yvmXas"
      },
      "execution_count": 97,
      "outputs": [
        {
          "output_type": "stream",
          "name": "stdout",
          "text": [
            "Tamanho lista dados: 10 10\n",
            "Correlação de Spearman: -0.8041315601208578\n"
          ]
        }
      ]
    },
    {
      "cell_type": "markdown",
      "source": [
        "#### Com a biblioteca numpy"
      ],
      "metadata": {
        "id": "BuJW9pE2iB8H"
      }
    },
    {
      "cell_type": "code",
      "source": [
        "# Biblioteca\n",
        "from scipy import stats\n",
        "import numpy as np\n",
        "\n",
        "# Dados massa corporal\n",
        "x =  np.array([99, 66, 69, 71, 104, 117, 98, 83, 78, 65])\n",
        "# Dados número flexões\n",
        "y =  np.array([9 , 20, 22, 24,   4,   1, 10, 19, 24, 21])\n",
        "print(\"Tamanho lista dados:\", len(x), len(y))\n",
        "\n",
        "\n",
        "res = stats.spearmanr(x, y)\n",
        "print(\"Coefiênciente da correlação de Spearman:\", res.statistic)"
      ],
      "metadata": {
        "colab": {
          "base_uri": "https://localhost:8080/"
        },
        "id": "fBk_3mBKiEGn",
        "outputId": "55b82841-4e7a-43b9-bc78-9c99c2e975a7"
      },
      "execution_count": 98,
      "outputs": [
        {
          "output_type": "stream",
          "name": "stdout",
          "text": [
            "Tamanho lista dados: 10 10\n",
            "Coefiênciente da correlação de Spearman: -0.7781190959104827\n"
          ]
        }
      ]
    },
    {
      "cell_type": "markdown",
      "source": [
        "#### Com a biblioteca scipy"
      ],
      "metadata": {
        "id": "ysFhKAeWUpsd"
      }
    },
    {
      "cell_type": "code",
      "source": [
        "from scipy.stats import pearsonr, spearmanr\n",
        "\n",
        "# Dados massa corporal\n",
        "x = [99, 66, 69, 71, 104, 117, 98, 83, 78, 65]\n",
        "# Dados número flexões\n",
        "y = [9 , 20, 22, 24,   4,   1, 10, 19, 24, 21]\n",
        "print(\"Tamanho lista dados:\", len(x), len(y))\n",
        "\n",
        "# Cálculo da correlação\n",
        "pearson_corr, p_valor = pearsonr(x, y)\n",
        "print(\"Coefiênciente da correlação de Pearson:\", pearson_corr)\n",
        "print(\"Valor-p:\", p_valor)\n",
        "\n",
        "# Cálculo da correlação\n",
        "spearman_corr, p_valor = spearmanr(x, y)\n",
        "print(\"Coefiênciente da correlação de Spearman:\", spearman_corr)\n",
        "print(\"Valor-p:\", p_valor)"
      ],
      "metadata": {
        "colab": {
          "base_uri": "https://localhost:8080/"
        },
        "id": "FJRbRncuTIDX",
        "outputId": "4272184b-e7d5-4b81-d505-3b02df8fa198"
      },
      "execution_count": 99,
      "outputs": [
        {
          "output_type": "stream",
          "name": "stdout",
          "text": [
            "Tamanho lista dados: 10 10\n",
            "Coefiênciente da correlação de Pearson: -0.9395527336522135\n",
            "Valor-p: 5.427860909555034e-05\n",
            "Coefiênciente da correlação de Spearman: -0.7781190959104827\n",
            "Valor-p: 0.00803313849599635\n"
          ]
        }
      ]
    },
    {
      "cell_type": "markdown",
      "metadata": {
        "id": "FBrY6CxHXMux"
      },
      "source": [
        "## 5 - Estatística com pandas describe\n"
      ]
    },
    {
      "cell_type": "markdown",
      "metadata": {
        "id": "bjW1C9aNL05Y"
      },
      "source": [
        "### Simples"
      ]
    },
    {
      "cell_type": "code",
      "metadata": {
        "colab": {
          "base_uri": "https://localhost:8080/",
          "height": 394
        },
        "id": "5igyOYOOXT15",
        "outputId": "b80f80b7-d33e-4a45-b91a-70e0353d439e"
      },
      "source": [
        "# Import das bibliotecas\n",
        "import pandas as pd\n",
        "\n",
        "# Declara uma lista com os valores dos números a serem analisados\n",
        "lista = [1,2,7,4,1,9,5,3,9,2,6,8,9,4,2,5,6,7,6,8]\n",
        "grupo = [\"A\",\"A\",\"A\",\"B\",\"A\",\"A\",\"B\",\"A\",\"B\",\"A\",\"A\",\"B\",\"A\",\"B\",\"A\",\"A\",\"B\",\"A\",\"B\",\"A\"]\n",
        "\n",
        "# Formata os dados\n",
        "dados = {\"numero\": lista, \"grupo\": grupo}\n",
        "\n",
        "# Mostra somente com duas casas decimais os números reais\n",
        "pd.set_option(\"display.precision\", 2)\n",
        "\n",
        "# Exibe todas as linhas\n",
        "pd.set_option(\"display.max_rows\", None)\n",
        "\n",
        "# Exibe todas as linhas\n",
        "pd.set_option(\"display.max_columns\", None)\n",
        "\n",
        "# Cria um DataFrame das estatísticas a partir dos dados formatados\n",
        "df_stats = pd.DataFrame(data=dados)\n",
        "\n",
        "#Exibe as estatísticas\n",
        "df_stats.describe(include=\"all\")"
      ],
      "execution_count": 100,
      "outputs": [
        {
          "output_type": "execute_result",
          "data": {
            "text/plain": [
              "        numero grupo\n",
              "count    20.00    20\n",
              "unique     NaN     2\n",
              "top        NaN     A\n",
              "freq       NaN    13\n",
              "mean      5.20   NaN\n",
              "std       2.73   NaN\n",
              "min       1.00   NaN\n",
              "25%       2.75   NaN\n",
              "50%       5.50   NaN\n",
              "75%       7.25   NaN\n",
              "max       9.00   NaN"
            ],
            "text/html": [
              "\n",
              "  <div id=\"df-e8a2faa5-459b-4b62-9805-5e6a42a8e9f8\">\n",
              "    <div class=\"colab-df-container\">\n",
              "      <div>\n",
              "<style scoped>\n",
              "    .dataframe tbody tr th:only-of-type {\n",
              "        vertical-align: middle;\n",
              "    }\n",
              "\n",
              "    .dataframe tbody tr th {\n",
              "        vertical-align: top;\n",
              "    }\n",
              "\n",
              "    .dataframe thead th {\n",
              "        text-align: right;\n",
              "    }\n",
              "</style>\n",
              "<table border=\"1\" class=\"dataframe\">\n",
              "  <thead>\n",
              "    <tr style=\"text-align: right;\">\n",
              "      <th></th>\n",
              "      <th>numero</th>\n",
              "      <th>grupo</th>\n",
              "    </tr>\n",
              "  </thead>\n",
              "  <tbody>\n",
              "    <tr>\n",
              "      <th>count</th>\n",
              "      <td>20.00</td>\n",
              "      <td>20</td>\n",
              "    </tr>\n",
              "    <tr>\n",
              "      <th>unique</th>\n",
              "      <td>NaN</td>\n",
              "      <td>2</td>\n",
              "    </tr>\n",
              "    <tr>\n",
              "      <th>top</th>\n",
              "      <td>NaN</td>\n",
              "      <td>A</td>\n",
              "    </tr>\n",
              "    <tr>\n",
              "      <th>freq</th>\n",
              "      <td>NaN</td>\n",
              "      <td>13</td>\n",
              "    </tr>\n",
              "    <tr>\n",
              "      <th>mean</th>\n",
              "      <td>5.20</td>\n",
              "      <td>NaN</td>\n",
              "    </tr>\n",
              "    <tr>\n",
              "      <th>std</th>\n",
              "      <td>2.73</td>\n",
              "      <td>NaN</td>\n",
              "    </tr>\n",
              "    <tr>\n",
              "      <th>min</th>\n",
              "      <td>1.00</td>\n",
              "      <td>NaN</td>\n",
              "    </tr>\n",
              "    <tr>\n",
              "      <th>25%</th>\n",
              "      <td>2.75</td>\n",
              "      <td>NaN</td>\n",
              "    </tr>\n",
              "    <tr>\n",
              "      <th>50%</th>\n",
              "      <td>5.50</td>\n",
              "      <td>NaN</td>\n",
              "    </tr>\n",
              "    <tr>\n",
              "      <th>75%</th>\n",
              "      <td>7.25</td>\n",
              "      <td>NaN</td>\n",
              "    </tr>\n",
              "    <tr>\n",
              "      <th>max</th>\n",
              "      <td>9.00</td>\n",
              "      <td>NaN</td>\n",
              "    </tr>\n",
              "  </tbody>\n",
              "</table>\n",
              "</div>\n",
              "      <button class=\"colab-df-convert\" onclick=\"convertToInteractive('df-e8a2faa5-459b-4b62-9805-5e6a42a8e9f8')\"\n",
              "              title=\"Convert this dataframe to an interactive table.\"\n",
              "              style=\"display:none;\">\n",
              "        \n",
              "  <svg xmlns=\"http://www.w3.org/2000/svg\" height=\"24px\"viewBox=\"0 0 24 24\"\n",
              "       width=\"24px\">\n",
              "    <path d=\"M0 0h24v24H0V0z\" fill=\"none\"/>\n",
              "    <path d=\"M18.56 5.44l.94 2.06.94-2.06 2.06-.94-2.06-.94-.94-2.06-.94 2.06-2.06.94zm-11 1L8.5 8.5l.94-2.06 2.06-.94-2.06-.94L8.5 2.5l-.94 2.06-2.06.94zm10 10l.94 2.06.94-2.06 2.06-.94-2.06-.94-.94-2.06-.94 2.06-2.06.94z\"/><path d=\"M17.41 7.96l-1.37-1.37c-.4-.4-.92-.59-1.43-.59-.52 0-1.04.2-1.43.59L10.3 9.45l-7.72 7.72c-.78.78-.78 2.05 0 2.83L4 21.41c.39.39.9.59 1.41.59.51 0 1.02-.2 1.41-.59l7.78-7.78 2.81-2.81c.8-.78.8-2.07 0-2.86zM5.41 20L4 18.59l7.72-7.72 1.47 1.35L5.41 20z\"/>\n",
              "  </svg>\n",
              "      </button>\n",
              "      \n",
              "  <style>\n",
              "    .colab-df-container {\n",
              "      display:flex;\n",
              "      flex-wrap:wrap;\n",
              "      gap: 12px;\n",
              "    }\n",
              "\n",
              "    .colab-df-convert {\n",
              "      background-color: #E8F0FE;\n",
              "      border: none;\n",
              "      border-radius: 50%;\n",
              "      cursor: pointer;\n",
              "      display: none;\n",
              "      fill: #1967D2;\n",
              "      height: 32px;\n",
              "      padding: 0 0 0 0;\n",
              "      width: 32px;\n",
              "    }\n",
              "\n",
              "    .colab-df-convert:hover {\n",
              "      background-color: #E2EBFA;\n",
              "      box-shadow: 0px 1px 2px rgba(60, 64, 67, 0.3), 0px 1px 3px 1px rgba(60, 64, 67, 0.15);\n",
              "      fill: #174EA6;\n",
              "    }\n",
              "\n",
              "    [theme=dark] .colab-df-convert {\n",
              "      background-color: #3B4455;\n",
              "      fill: #D2E3FC;\n",
              "    }\n",
              "\n",
              "    [theme=dark] .colab-df-convert:hover {\n",
              "      background-color: #434B5C;\n",
              "      box-shadow: 0px 1px 3px 1px rgba(0, 0, 0, 0.15);\n",
              "      filter: drop-shadow(0px 1px 2px rgba(0, 0, 0, 0.3));\n",
              "      fill: #FFFFFF;\n",
              "    }\n",
              "  </style>\n",
              "\n",
              "      <script>\n",
              "        const buttonEl =\n",
              "          document.querySelector('#df-e8a2faa5-459b-4b62-9805-5e6a42a8e9f8 button.colab-df-convert');\n",
              "        buttonEl.style.display =\n",
              "          google.colab.kernel.accessAllowed ? 'block' : 'none';\n",
              "\n",
              "        async function convertToInteractive(key) {\n",
              "          const element = document.querySelector('#df-e8a2faa5-459b-4b62-9805-5e6a42a8e9f8');\n",
              "          const dataTable =\n",
              "            await google.colab.kernel.invokeFunction('convertToInteractive',\n",
              "                                                     [key], {});\n",
              "          if (!dataTable) return;\n",
              "\n",
              "          const docLinkHtml = 'Like what you see? Visit the ' +\n",
              "            '<a target=\"_blank\" href=https://colab.research.google.com/notebooks/data_table.ipynb>data table notebook</a>'\n",
              "            + ' to learn more about interactive tables.';\n",
              "          element.innerHTML = '';\n",
              "          dataTable['output_type'] = 'display_data';\n",
              "          await google.colab.output.renderOutput(dataTable, element);\n",
              "          const docLink = document.createElement('div');\n",
              "          docLink.innerHTML = docLinkHtml;\n",
              "          element.appendChild(docLink);\n",
              "        }\n",
              "      </script>\n",
              "    </div>\n",
              "  </div>\n",
              "  "
            ]
          },
          "metadata": {},
          "execution_count": 100
        }
      ]
    },
    {
      "cell_type": "markdown",
      "metadata": {
        "id": "C42qtzfMLrMS"
      },
      "source": [
        "### Especificando o tipo de dados das colunas\n"
      ]
    },
    {
      "cell_type": "code",
      "metadata": {
        "colab": {
          "base_uri": "https://localhost:8080/",
          "height": 300
        },
        "id": "veFgnRaPLrMS",
        "outputId": "41606114-216a-4666-eaee-83e469fe96b3"
      },
      "source": [
        "# Import das bibliotecas\n",
        "import pandas as pd\n",
        "\n",
        "# Declara uma lista com os valores dos números a serem analisados\n",
        "lista = [1,2,7,4,1,9,5,3,9,2,6,8,9,4,2,5,6,7,6,8]\n",
        "grupo = [\"A\",\"A\",\"A\",\"B\",\"A\",\"A\",\"B\",\"A\",\"B\",\"A\",\"A\",\"B\",\"A\",\"B\",\"A\",\"A\",\"B\",\"A\",\"B\",\"A\"]\n",
        "\n",
        "# Formata os dados\n",
        "dados = {\"numero\": lista, \"grupo\": grupo}\n",
        "\n",
        "# Mostra somente com duas casas decimais os números reais\n",
        "pd.set_option(\"display.precision\", 2)\n",
        "\n",
        "# Exibe todas as linhas\n",
        "pd.set_option(\"display.max_rows\", None)\n",
        "\n",
        "# Exibe todas as linhas\n",
        "pd.set_option(\"display.max_columns\", None)\n",
        "\n",
        "# Cria um DataFrame das estatísticas a partir dos dados formatados\n",
        "df_stats = pd.DataFrame(data=dados)\n",
        "\n",
        "#Exibe as estatísticas somente dos campos numéricos\n",
        "df_stats.describe(include=[\"float\", \"int\"])\n",
        "# ou\n",
        "# df_stats.describe(include=[np.number])"
      ],
      "execution_count": 101,
      "outputs": [
        {
          "output_type": "execute_result",
          "data": {
            "text/plain": [
              "       numero\n",
              "count   20.00\n",
              "mean     5.20\n",
              "std      2.73\n",
              "min      1.00\n",
              "25%      2.75\n",
              "50%      5.50\n",
              "75%      7.25\n",
              "max      9.00"
            ],
            "text/html": [
              "\n",
              "  <div id=\"df-bfcc6770-2d38-4956-9390-18a9347e2f24\">\n",
              "    <div class=\"colab-df-container\">\n",
              "      <div>\n",
              "<style scoped>\n",
              "    .dataframe tbody tr th:only-of-type {\n",
              "        vertical-align: middle;\n",
              "    }\n",
              "\n",
              "    .dataframe tbody tr th {\n",
              "        vertical-align: top;\n",
              "    }\n",
              "\n",
              "    .dataframe thead th {\n",
              "        text-align: right;\n",
              "    }\n",
              "</style>\n",
              "<table border=\"1\" class=\"dataframe\">\n",
              "  <thead>\n",
              "    <tr style=\"text-align: right;\">\n",
              "      <th></th>\n",
              "      <th>numero</th>\n",
              "    </tr>\n",
              "  </thead>\n",
              "  <tbody>\n",
              "    <tr>\n",
              "      <th>count</th>\n",
              "      <td>20.00</td>\n",
              "    </tr>\n",
              "    <tr>\n",
              "      <th>mean</th>\n",
              "      <td>5.20</td>\n",
              "    </tr>\n",
              "    <tr>\n",
              "      <th>std</th>\n",
              "      <td>2.73</td>\n",
              "    </tr>\n",
              "    <tr>\n",
              "      <th>min</th>\n",
              "      <td>1.00</td>\n",
              "    </tr>\n",
              "    <tr>\n",
              "      <th>25%</th>\n",
              "      <td>2.75</td>\n",
              "    </tr>\n",
              "    <tr>\n",
              "      <th>50%</th>\n",
              "      <td>5.50</td>\n",
              "    </tr>\n",
              "    <tr>\n",
              "      <th>75%</th>\n",
              "      <td>7.25</td>\n",
              "    </tr>\n",
              "    <tr>\n",
              "      <th>max</th>\n",
              "      <td>9.00</td>\n",
              "    </tr>\n",
              "  </tbody>\n",
              "</table>\n",
              "</div>\n",
              "      <button class=\"colab-df-convert\" onclick=\"convertToInteractive('df-bfcc6770-2d38-4956-9390-18a9347e2f24')\"\n",
              "              title=\"Convert this dataframe to an interactive table.\"\n",
              "              style=\"display:none;\">\n",
              "        \n",
              "  <svg xmlns=\"http://www.w3.org/2000/svg\" height=\"24px\"viewBox=\"0 0 24 24\"\n",
              "       width=\"24px\">\n",
              "    <path d=\"M0 0h24v24H0V0z\" fill=\"none\"/>\n",
              "    <path d=\"M18.56 5.44l.94 2.06.94-2.06 2.06-.94-2.06-.94-.94-2.06-.94 2.06-2.06.94zm-11 1L8.5 8.5l.94-2.06 2.06-.94-2.06-.94L8.5 2.5l-.94 2.06-2.06.94zm10 10l.94 2.06.94-2.06 2.06-.94-2.06-.94-.94-2.06-.94 2.06-2.06.94z\"/><path d=\"M17.41 7.96l-1.37-1.37c-.4-.4-.92-.59-1.43-.59-.52 0-1.04.2-1.43.59L10.3 9.45l-7.72 7.72c-.78.78-.78 2.05 0 2.83L4 21.41c.39.39.9.59 1.41.59.51 0 1.02-.2 1.41-.59l7.78-7.78 2.81-2.81c.8-.78.8-2.07 0-2.86zM5.41 20L4 18.59l7.72-7.72 1.47 1.35L5.41 20z\"/>\n",
              "  </svg>\n",
              "      </button>\n",
              "      \n",
              "  <style>\n",
              "    .colab-df-container {\n",
              "      display:flex;\n",
              "      flex-wrap:wrap;\n",
              "      gap: 12px;\n",
              "    }\n",
              "\n",
              "    .colab-df-convert {\n",
              "      background-color: #E8F0FE;\n",
              "      border: none;\n",
              "      border-radius: 50%;\n",
              "      cursor: pointer;\n",
              "      display: none;\n",
              "      fill: #1967D2;\n",
              "      height: 32px;\n",
              "      padding: 0 0 0 0;\n",
              "      width: 32px;\n",
              "    }\n",
              "\n",
              "    .colab-df-convert:hover {\n",
              "      background-color: #E2EBFA;\n",
              "      box-shadow: 0px 1px 2px rgba(60, 64, 67, 0.3), 0px 1px 3px 1px rgba(60, 64, 67, 0.15);\n",
              "      fill: #174EA6;\n",
              "    }\n",
              "\n",
              "    [theme=dark] .colab-df-convert {\n",
              "      background-color: #3B4455;\n",
              "      fill: #D2E3FC;\n",
              "    }\n",
              "\n",
              "    [theme=dark] .colab-df-convert:hover {\n",
              "      background-color: #434B5C;\n",
              "      box-shadow: 0px 1px 3px 1px rgba(0, 0, 0, 0.15);\n",
              "      filter: drop-shadow(0px 1px 2px rgba(0, 0, 0, 0.3));\n",
              "      fill: #FFFFFF;\n",
              "    }\n",
              "  </style>\n",
              "\n",
              "      <script>\n",
              "        const buttonEl =\n",
              "          document.querySelector('#df-bfcc6770-2d38-4956-9390-18a9347e2f24 button.colab-df-convert');\n",
              "        buttonEl.style.display =\n",
              "          google.colab.kernel.accessAllowed ? 'block' : 'none';\n",
              "\n",
              "        async function convertToInteractive(key) {\n",
              "          const element = document.querySelector('#df-bfcc6770-2d38-4956-9390-18a9347e2f24');\n",
              "          const dataTable =\n",
              "            await google.colab.kernel.invokeFunction('convertToInteractive',\n",
              "                                                     [key], {});\n",
              "          if (!dataTable) return;\n",
              "\n",
              "          const docLinkHtml = 'Like what you see? Visit the ' +\n",
              "            '<a target=\"_blank\" href=https://colab.research.google.com/notebooks/data_table.ipynb>data table notebook</a>'\n",
              "            + ' to learn more about interactive tables.';\n",
              "          element.innerHTML = '';\n",
              "          dataTable['output_type'] = 'display_data';\n",
              "          await google.colab.output.renderOutput(dataTable, element);\n",
              "          const docLink = document.createElement('div');\n",
              "          docLink.innerHTML = docLinkHtml;\n",
              "          element.appendChild(docLink);\n",
              "        }\n",
              "      </script>\n",
              "    </div>\n",
              "  </div>\n",
              "  "
            ]
          },
          "metadata": {},
          "execution_count": 101
        }
      ]
    },
    {
      "cell_type": "markdown",
      "metadata": {
        "id": "an7EoAosfB-T"
      },
      "source": [
        "### Gerando dados transpostos"
      ]
    },
    {
      "cell_type": "code",
      "metadata": {
        "colab": {
          "base_uri": "https://localhost:8080/",
          "height": 81
        },
        "id": "U6MbHVDcZ8jS",
        "outputId": "e03b1c8e-fc50-4082-f58d-699aa1390498"
      },
      "source": [
        "# Import das bibliotecas\n",
        "import pandas as pd\n",
        "\n",
        "# Declara uma lista com os valores dos números a serem analisados\n",
        "lista = [1,2,7,4,1,9,5,3,9,2,6,8,9,4,2,5,6,7,6,8]\n",
        "grupo = [\"A\",\"A\",\"A\",\"B\",\"A\",\"A\",\"B\",\"A\",\"B\",\"A\",\"A\",\"B\",\"A\",\"B\",\"A\",\"A\",\"B\",\"A\",\"B\",\"A\"]\n",
        "\n",
        "# Formata os dados\n",
        "dados = {\"numero\": lista, \"grupo\": grupo}\n",
        "\n",
        "# Mostra somente com duas casas decimais os números reais\n",
        "pd.set_option(\"display.precision\", 2)\n",
        "\n",
        "# Exibe todas as linhas\n",
        "pd.set_option(\"display.max_rows\", None)\n",
        "\n",
        "# Exibe todas as linhas\n",
        "pd.set_option(\"display.max_columns\", None)\n",
        "\n",
        "# Cria um DataFrame das estatísticas a partir dos dados formatados\n",
        "df_stats = pd.DataFrame(data=dados)\n",
        "\n",
        "#Exibe as estatísticas\n",
        "df_stats.describe(include=[\"float\", \"int\"]).transpose()"
      ],
      "execution_count": 102,
      "outputs": [
        {
          "output_type": "execute_result",
          "data": {
            "text/plain": [
              "        count  mean   std  min   25%  50%   75%  max\n",
              "numero   20.0   5.2  2.73  1.0  2.75  5.5  7.25  9.0"
            ],
            "text/html": [
              "\n",
              "  <div id=\"df-1d8317bc-1498-4e50-b2fa-82d1e2feea53\">\n",
              "    <div class=\"colab-df-container\">\n",
              "      <div>\n",
              "<style scoped>\n",
              "    .dataframe tbody tr th:only-of-type {\n",
              "        vertical-align: middle;\n",
              "    }\n",
              "\n",
              "    .dataframe tbody tr th {\n",
              "        vertical-align: top;\n",
              "    }\n",
              "\n",
              "    .dataframe thead th {\n",
              "        text-align: right;\n",
              "    }\n",
              "</style>\n",
              "<table border=\"1\" class=\"dataframe\">\n",
              "  <thead>\n",
              "    <tr style=\"text-align: right;\">\n",
              "      <th></th>\n",
              "      <th>count</th>\n",
              "      <th>mean</th>\n",
              "      <th>std</th>\n",
              "      <th>min</th>\n",
              "      <th>25%</th>\n",
              "      <th>50%</th>\n",
              "      <th>75%</th>\n",
              "      <th>max</th>\n",
              "    </tr>\n",
              "  </thead>\n",
              "  <tbody>\n",
              "    <tr>\n",
              "      <th>numero</th>\n",
              "      <td>20.0</td>\n",
              "      <td>5.2</td>\n",
              "      <td>2.73</td>\n",
              "      <td>1.0</td>\n",
              "      <td>2.75</td>\n",
              "      <td>5.5</td>\n",
              "      <td>7.25</td>\n",
              "      <td>9.0</td>\n",
              "    </tr>\n",
              "  </tbody>\n",
              "</table>\n",
              "</div>\n",
              "      <button class=\"colab-df-convert\" onclick=\"convertToInteractive('df-1d8317bc-1498-4e50-b2fa-82d1e2feea53')\"\n",
              "              title=\"Convert this dataframe to an interactive table.\"\n",
              "              style=\"display:none;\">\n",
              "        \n",
              "  <svg xmlns=\"http://www.w3.org/2000/svg\" height=\"24px\"viewBox=\"0 0 24 24\"\n",
              "       width=\"24px\">\n",
              "    <path d=\"M0 0h24v24H0V0z\" fill=\"none\"/>\n",
              "    <path d=\"M18.56 5.44l.94 2.06.94-2.06 2.06-.94-2.06-.94-.94-2.06-.94 2.06-2.06.94zm-11 1L8.5 8.5l.94-2.06 2.06-.94-2.06-.94L8.5 2.5l-.94 2.06-2.06.94zm10 10l.94 2.06.94-2.06 2.06-.94-2.06-.94-.94-2.06-.94 2.06-2.06.94z\"/><path d=\"M17.41 7.96l-1.37-1.37c-.4-.4-.92-.59-1.43-.59-.52 0-1.04.2-1.43.59L10.3 9.45l-7.72 7.72c-.78.78-.78 2.05 0 2.83L4 21.41c.39.39.9.59 1.41.59.51 0 1.02-.2 1.41-.59l7.78-7.78 2.81-2.81c.8-.78.8-2.07 0-2.86zM5.41 20L4 18.59l7.72-7.72 1.47 1.35L5.41 20z\"/>\n",
              "  </svg>\n",
              "      </button>\n",
              "      \n",
              "  <style>\n",
              "    .colab-df-container {\n",
              "      display:flex;\n",
              "      flex-wrap:wrap;\n",
              "      gap: 12px;\n",
              "    }\n",
              "\n",
              "    .colab-df-convert {\n",
              "      background-color: #E8F0FE;\n",
              "      border: none;\n",
              "      border-radius: 50%;\n",
              "      cursor: pointer;\n",
              "      display: none;\n",
              "      fill: #1967D2;\n",
              "      height: 32px;\n",
              "      padding: 0 0 0 0;\n",
              "      width: 32px;\n",
              "    }\n",
              "\n",
              "    .colab-df-convert:hover {\n",
              "      background-color: #E2EBFA;\n",
              "      box-shadow: 0px 1px 2px rgba(60, 64, 67, 0.3), 0px 1px 3px 1px rgba(60, 64, 67, 0.15);\n",
              "      fill: #174EA6;\n",
              "    }\n",
              "\n",
              "    [theme=dark] .colab-df-convert {\n",
              "      background-color: #3B4455;\n",
              "      fill: #D2E3FC;\n",
              "    }\n",
              "\n",
              "    [theme=dark] .colab-df-convert:hover {\n",
              "      background-color: #434B5C;\n",
              "      box-shadow: 0px 1px 3px 1px rgba(0, 0, 0, 0.15);\n",
              "      filter: drop-shadow(0px 1px 2px rgba(0, 0, 0, 0.3));\n",
              "      fill: #FFFFFF;\n",
              "    }\n",
              "  </style>\n",
              "\n",
              "      <script>\n",
              "        const buttonEl =\n",
              "          document.querySelector('#df-1d8317bc-1498-4e50-b2fa-82d1e2feea53 button.colab-df-convert');\n",
              "        buttonEl.style.display =\n",
              "          google.colab.kernel.accessAllowed ? 'block' : 'none';\n",
              "\n",
              "        async function convertToInteractive(key) {\n",
              "          const element = document.querySelector('#df-1d8317bc-1498-4e50-b2fa-82d1e2feea53');\n",
              "          const dataTable =\n",
              "            await google.colab.kernel.invokeFunction('convertToInteractive',\n",
              "                                                     [key], {});\n",
              "          if (!dataTable) return;\n",
              "\n",
              "          const docLinkHtml = 'Like what you see? Visit the ' +\n",
              "            '<a target=\"_blank\" href=https://colab.research.google.com/notebooks/data_table.ipynb>data table notebook</a>'\n",
              "            + ' to learn more about interactive tables.';\n",
              "          element.innerHTML = '';\n",
              "          dataTable['output_type'] = 'display_data';\n",
              "          await google.colab.output.renderOutput(dataTable, element);\n",
              "          const docLink = document.createElement('div');\n",
              "          docLink.innerHTML = docLinkHtml;\n",
              "          element.appendChild(docLink);\n",
              "        }\n",
              "      </script>\n",
              "    </div>\n",
              "  </div>\n",
              "  "
            ]
          },
          "metadata": {},
          "execution_count": 102
        }
      ]
    },
    {
      "cell_type": "markdown",
      "metadata": {
        "id": "UTDX4mYcKbgy"
      },
      "source": [
        "### Dados agrupados\n"
      ]
    },
    {
      "cell_type": "code",
      "metadata": {
        "colab": {
          "base_uri": "https://localhost:8080/",
          "height": 175
        },
        "id": "2jr_hcQmKbgz",
        "outputId": "644c60ab-0770-44c9-f3d8-8e739074e95c"
      },
      "source": [
        "# Import das bibliotecas\n",
        "import pandas as pd\n",
        "\n",
        "# Declara uma lista com os valores dos números a serem analisados\n",
        "lista = [1,2,7,4,1,9,5,3,9,2,6,8,9,4,2,5,6,7,6,8]\n",
        "grupo = [\"A\",\"A\",\"A\",\"B\",\"A\",\"A\",\"B\",\"A\",\"B\",\"A\",\"A\",\"B\",\"A\",\"B\",\"A\",\"A\",\"B\",\"A\",\"B\",\"A\"]\n",
        "\n",
        "# Formata os dados\n",
        "dados = {\"numero\": lista, \"grupo\": grupo}\n",
        "\n",
        "# Mostra somente com duas casas decimais os números reais\n",
        "pd.set_option(\"display.precision\", 2)\n",
        "\n",
        "# Exibe todas as linhas\n",
        "pd.set_option(\"display.max_rows\", None)\n",
        "\n",
        "# Exibe todas as linhas\n",
        "pd.set_option(\"display.max_columns\", None)\n",
        "\n",
        "# Cria um DataFrame das estatísticas a partir dos dados formatados\n",
        "df_stats = pd.DataFrame(data=dados)\n",
        "\n",
        "# Agrupa pelo grupo\n",
        "df_grupo = df_stats[[\"numero\",\"grupo\"]].groupby(\"grupo\")\n",
        "\n",
        "#Exibe as estatísticas\n",
        "df_grupo.describe(include=\"all\")"
      ],
      "execution_count": 103,
      "outputs": [
        {
          "output_type": "execute_result",
          "data": {
            "text/plain": [
              "      numero                                     \n",
              "       count  mean   std  min  25%  50%  75%  max\n",
              "grupo                                            \n",
              "A       13.0  4.77  3.06  1.0  2.0  5.0  7.0  9.0\n",
              "B        7.0  6.00  1.91  4.0  4.5  6.0  7.0  9.0"
            ],
            "text/html": [
              "\n",
              "  <div id=\"df-efed265e-fead-41a8-a48a-e7ea8bec5355\">\n",
              "    <div class=\"colab-df-container\">\n",
              "      <div>\n",
              "<style scoped>\n",
              "    .dataframe tbody tr th:only-of-type {\n",
              "        vertical-align: middle;\n",
              "    }\n",
              "\n",
              "    .dataframe tbody tr th {\n",
              "        vertical-align: top;\n",
              "    }\n",
              "\n",
              "    .dataframe thead tr th {\n",
              "        text-align: left;\n",
              "    }\n",
              "\n",
              "    .dataframe thead tr:last-of-type th {\n",
              "        text-align: right;\n",
              "    }\n",
              "</style>\n",
              "<table border=\"1\" class=\"dataframe\">\n",
              "  <thead>\n",
              "    <tr>\n",
              "      <th></th>\n",
              "      <th colspan=\"8\" halign=\"left\">numero</th>\n",
              "    </tr>\n",
              "    <tr>\n",
              "      <th></th>\n",
              "      <th>count</th>\n",
              "      <th>mean</th>\n",
              "      <th>std</th>\n",
              "      <th>min</th>\n",
              "      <th>25%</th>\n",
              "      <th>50%</th>\n",
              "      <th>75%</th>\n",
              "      <th>max</th>\n",
              "    </tr>\n",
              "    <tr>\n",
              "      <th>grupo</th>\n",
              "      <th></th>\n",
              "      <th></th>\n",
              "      <th></th>\n",
              "      <th></th>\n",
              "      <th></th>\n",
              "      <th></th>\n",
              "      <th></th>\n",
              "      <th></th>\n",
              "    </tr>\n",
              "  </thead>\n",
              "  <tbody>\n",
              "    <tr>\n",
              "      <th>A</th>\n",
              "      <td>13.0</td>\n",
              "      <td>4.77</td>\n",
              "      <td>3.06</td>\n",
              "      <td>1.0</td>\n",
              "      <td>2.0</td>\n",
              "      <td>5.0</td>\n",
              "      <td>7.0</td>\n",
              "      <td>9.0</td>\n",
              "    </tr>\n",
              "    <tr>\n",
              "      <th>B</th>\n",
              "      <td>7.0</td>\n",
              "      <td>6.00</td>\n",
              "      <td>1.91</td>\n",
              "      <td>4.0</td>\n",
              "      <td>4.5</td>\n",
              "      <td>6.0</td>\n",
              "      <td>7.0</td>\n",
              "      <td>9.0</td>\n",
              "    </tr>\n",
              "  </tbody>\n",
              "</table>\n",
              "</div>\n",
              "      <button class=\"colab-df-convert\" onclick=\"convertToInteractive('df-efed265e-fead-41a8-a48a-e7ea8bec5355')\"\n",
              "              title=\"Convert this dataframe to an interactive table.\"\n",
              "              style=\"display:none;\">\n",
              "        \n",
              "  <svg xmlns=\"http://www.w3.org/2000/svg\" height=\"24px\"viewBox=\"0 0 24 24\"\n",
              "       width=\"24px\">\n",
              "    <path d=\"M0 0h24v24H0V0z\" fill=\"none\"/>\n",
              "    <path d=\"M18.56 5.44l.94 2.06.94-2.06 2.06-.94-2.06-.94-.94-2.06-.94 2.06-2.06.94zm-11 1L8.5 8.5l.94-2.06 2.06-.94-2.06-.94L8.5 2.5l-.94 2.06-2.06.94zm10 10l.94 2.06.94-2.06 2.06-.94-2.06-.94-.94-2.06-.94 2.06-2.06.94z\"/><path d=\"M17.41 7.96l-1.37-1.37c-.4-.4-.92-.59-1.43-.59-.52 0-1.04.2-1.43.59L10.3 9.45l-7.72 7.72c-.78.78-.78 2.05 0 2.83L4 21.41c.39.39.9.59 1.41.59.51 0 1.02-.2 1.41-.59l7.78-7.78 2.81-2.81c.8-.78.8-2.07 0-2.86zM5.41 20L4 18.59l7.72-7.72 1.47 1.35L5.41 20z\"/>\n",
              "  </svg>\n",
              "      </button>\n",
              "      \n",
              "  <style>\n",
              "    .colab-df-container {\n",
              "      display:flex;\n",
              "      flex-wrap:wrap;\n",
              "      gap: 12px;\n",
              "    }\n",
              "\n",
              "    .colab-df-convert {\n",
              "      background-color: #E8F0FE;\n",
              "      border: none;\n",
              "      border-radius: 50%;\n",
              "      cursor: pointer;\n",
              "      display: none;\n",
              "      fill: #1967D2;\n",
              "      height: 32px;\n",
              "      padding: 0 0 0 0;\n",
              "      width: 32px;\n",
              "    }\n",
              "\n",
              "    .colab-df-convert:hover {\n",
              "      background-color: #E2EBFA;\n",
              "      box-shadow: 0px 1px 2px rgba(60, 64, 67, 0.3), 0px 1px 3px 1px rgba(60, 64, 67, 0.15);\n",
              "      fill: #174EA6;\n",
              "    }\n",
              "\n",
              "    [theme=dark] .colab-df-convert {\n",
              "      background-color: #3B4455;\n",
              "      fill: #D2E3FC;\n",
              "    }\n",
              "\n",
              "    [theme=dark] .colab-df-convert:hover {\n",
              "      background-color: #434B5C;\n",
              "      box-shadow: 0px 1px 3px 1px rgba(0, 0, 0, 0.15);\n",
              "      filter: drop-shadow(0px 1px 2px rgba(0, 0, 0, 0.3));\n",
              "      fill: #FFFFFF;\n",
              "    }\n",
              "  </style>\n",
              "\n",
              "      <script>\n",
              "        const buttonEl =\n",
              "          document.querySelector('#df-efed265e-fead-41a8-a48a-e7ea8bec5355 button.colab-df-convert');\n",
              "        buttonEl.style.display =\n",
              "          google.colab.kernel.accessAllowed ? 'block' : 'none';\n",
              "\n",
              "        async function convertToInteractive(key) {\n",
              "          const element = document.querySelector('#df-efed265e-fead-41a8-a48a-e7ea8bec5355');\n",
              "          const dataTable =\n",
              "            await google.colab.kernel.invokeFunction('convertToInteractive',\n",
              "                                                     [key], {});\n",
              "          if (!dataTable) return;\n",
              "\n",
              "          const docLinkHtml = 'Like what you see? Visit the ' +\n",
              "            '<a target=\"_blank\" href=https://colab.research.google.com/notebooks/data_table.ipynb>data table notebook</a>'\n",
              "            + ' to learn more about interactive tables.';\n",
              "          element.innerHTML = '';\n",
              "          dataTable['output_type'] = 'display_data';\n",
              "          await google.colab.output.renderOutput(dataTable, element);\n",
              "          const docLink = document.createElement('div');\n",
              "          docLink.innerHTML = docLinkHtml;\n",
              "          element.appendChild(docLink);\n",
              "        }\n",
              "      </script>\n",
              "    </div>\n",
              "  </div>\n",
              "  "
            ]
          },
          "metadata": {},
          "execution_count": 103
        }
      ]
    },
    {
      "cell_type": "markdown",
      "metadata": {
        "id": "d-er4JYgLWY1"
      },
      "source": [
        "### Dados agrupados transpostos\n"
      ]
    },
    {
      "cell_type": "code",
      "metadata": {
        "colab": {
          "base_uri": "https://localhost:8080/",
          "height": 300
        },
        "id": "i4p0T6MwLWY1",
        "outputId": "97bcdf28-f160-452b-8297-fc58e2d48fda"
      },
      "source": [
        "# Import das bibliotecas\n",
        "import pandas as pd\n",
        "\n",
        "# Declara uma lista com os valores dos números a serem analisados\n",
        "lista = [1,2,7,4,1,9,5,3,9,2,6,8,9,4,2,5,6,7,6,8]\n",
        "grupo = [\"A\",\"A\",\"A\",\"B\",\"A\",\"A\",\"B\",\"A\",\"B\",\"A\",\"A\",\"B\",\"A\",\"B\",\"A\",\"A\",\"B\",\"A\",\"B\",\"A\"]\n",
        "\n",
        "# Formata os dados\n",
        "dados = {\"numero\": lista, \"grupo\": grupo}\n",
        "\n",
        "# Mostra somente com duas casas decimais os números reais\n",
        "pd.set_option(\"display.precision\", 2)\n",
        "\n",
        "# Exibe todas as linhas\n",
        "pd.set_option(\"display.max_rows\", None)\n",
        "\n",
        "# Exibe todas as linhas\n",
        "pd.set_option(\"display.max_columns\", None)\n",
        "\n",
        "# Cria um DataFrame das estatísticas a partir dos dados formatados\n",
        "df_stats = pd.DataFrame(data=dados)\n",
        "\n",
        "# Agrupa pelo grupo\n",
        "df_grupo = df_stats[[\"numero\",\"grupo\"]].groupby(\"grupo\")\n",
        "\n",
        "#Exibe as estatísticas\n",
        "df_grupo.describe(include=\"all\").transpose()"
      ],
      "execution_count": 104,
      "outputs": [
        {
          "output_type": "execute_result",
          "data": {
            "text/plain": [
              "grupo             A     B\n",
              "numero count  13.00  7.00\n",
              "       mean    4.77  6.00\n",
              "       std     3.06  1.91\n",
              "       min     1.00  4.00\n",
              "       25%     2.00  4.50\n",
              "       50%     5.00  6.00\n",
              "       75%     7.00  7.00\n",
              "       max     9.00  9.00"
            ],
            "text/html": [
              "\n",
              "  <div id=\"df-09f3cfba-3ece-4566-9350-7b4bc62a447a\">\n",
              "    <div class=\"colab-df-container\">\n",
              "      <div>\n",
              "<style scoped>\n",
              "    .dataframe tbody tr th:only-of-type {\n",
              "        vertical-align: middle;\n",
              "    }\n",
              "\n",
              "    .dataframe tbody tr th {\n",
              "        vertical-align: top;\n",
              "    }\n",
              "\n",
              "    .dataframe thead th {\n",
              "        text-align: right;\n",
              "    }\n",
              "</style>\n",
              "<table border=\"1\" class=\"dataframe\">\n",
              "  <thead>\n",
              "    <tr style=\"text-align: right;\">\n",
              "      <th></th>\n",
              "      <th>grupo</th>\n",
              "      <th>A</th>\n",
              "      <th>B</th>\n",
              "    </tr>\n",
              "  </thead>\n",
              "  <tbody>\n",
              "    <tr>\n",
              "      <th rowspan=\"8\" valign=\"top\">numero</th>\n",
              "      <th>count</th>\n",
              "      <td>13.00</td>\n",
              "      <td>7.00</td>\n",
              "    </tr>\n",
              "    <tr>\n",
              "      <th>mean</th>\n",
              "      <td>4.77</td>\n",
              "      <td>6.00</td>\n",
              "    </tr>\n",
              "    <tr>\n",
              "      <th>std</th>\n",
              "      <td>3.06</td>\n",
              "      <td>1.91</td>\n",
              "    </tr>\n",
              "    <tr>\n",
              "      <th>min</th>\n",
              "      <td>1.00</td>\n",
              "      <td>4.00</td>\n",
              "    </tr>\n",
              "    <tr>\n",
              "      <th>25%</th>\n",
              "      <td>2.00</td>\n",
              "      <td>4.50</td>\n",
              "    </tr>\n",
              "    <tr>\n",
              "      <th>50%</th>\n",
              "      <td>5.00</td>\n",
              "      <td>6.00</td>\n",
              "    </tr>\n",
              "    <tr>\n",
              "      <th>75%</th>\n",
              "      <td>7.00</td>\n",
              "      <td>7.00</td>\n",
              "    </tr>\n",
              "    <tr>\n",
              "      <th>max</th>\n",
              "      <td>9.00</td>\n",
              "      <td>9.00</td>\n",
              "    </tr>\n",
              "  </tbody>\n",
              "</table>\n",
              "</div>\n",
              "      <button class=\"colab-df-convert\" onclick=\"convertToInteractive('df-09f3cfba-3ece-4566-9350-7b4bc62a447a')\"\n",
              "              title=\"Convert this dataframe to an interactive table.\"\n",
              "              style=\"display:none;\">\n",
              "        \n",
              "  <svg xmlns=\"http://www.w3.org/2000/svg\" height=\"24px\"viewBox=\"0 0 24 24\"\n",
              "       width=\"24px\">\n",
              "    <path d=\"M0 0h24v24H0V0z\" fill=\"none\"/>\n",
              "    <path d=\"M18.56 5.44l.94 2.06.94-2.06 2.06-.94-2.06-.94-.94-2.06-.94 2.06-2.06.94zm-11 1L8.5 8.5l.94-2.06 2.06-.94-2.06-.94L8.5 2.5l-.94 2.06-2.06.94zm10 10l.94 2.06.94-2.06 2.06-.94-2.06-.94-.94-2.06-.94 2.06-2.06.94z\"/><path d=\"M17.41 7.96l-1.37-1.37c-.4-.4-.92-.59-1.43-.59-.52 0-1.04.2-1.43.59L10.3 9.45l-7.72 7.72c-.78.78-.78 2.05 0 2.83L4 21.41c.39.39.9.59 1.41.59.51 0 1.02-.2 1.41-.59l7.78-7.78 2.81-2.81c.8-.78.8-2.07 0-2.86zM5.41 20L4 18.59l7.72-7.72 1.47 1.35L5.41 20z\"/>\n",
              "  </svg>\n",
              "      </button>\n",
              "      \n",
              "  <style>\n",
              "    .colab-df-container {\n",
              "      display:flex;\n",
              "      flex-wrap:wrap;\n",
              "      gap: 12px;\n",
              "    }\n",
              "\n",
              "    .colab-df-convert {\n",
              "      background-color: #E8F0FE;\n",
              "      border: none;\n",
              "      border-radius: 50%;\n",
              "      cursor: pointer;\n",
              "      display: none;\n",
              "      fill: #1967D2;\n",
              "      height: 32px;\n",
              "      padding: 0 0 0 0;\n",
              "      width: 32px;\n",
              "    }\n",
              "\n",
              "    .colab-df-convert:hover {\n",
              "      background-color: #E2EBFA;\n",
              "      box-shadow: 0px 1px 2px rgba(60, 64, 67, 0.3), 0px 1px 3px 1px rgba(60, 64, 67, 0.15);\n",
              "      fill: #174EA6;\n",
              "    }\n",
              "\n",
              "    [theme=dark] .colab-df-convert {\n",
              "      background-color: #3B4455;\n",
              "      fill: #D2E3FC;\n",
              "    }\n",
              "\n",
              "    [theme=dark] .colab-df-convert:hover {\n",
              "      background-color: #434B5C;\n",
              "      box-shadow: 0px 1px 3px 1px rgba(0, 0, 0, 0.15);\n",
              "      filter: drop-shadow(0px 1px 2px rgba(0, 0, 0, 0.3));\n",
              "      fill: #FFFFFF;\n",
              "    }\n",
              "  </style>\n",
              "\n",
              "      <script>\n",
              "        const buttonEl =\n",
              "          document.querySelector('#df-09f3cfba-3ece-4566-9350-7b4bc62a447a button.colab-df-convert');\n",
              "        buttonEl.style.display =\n",
              "          google.colab.kernel.accessAllowed ? 'block' : 'none';\n",
              "\n",
              "        async function convertToInteractive(key) {\n",
              "          const element = document.querySelector('#df-09f3cfba-3ece-4566-9350-7b4bc62a447a');\n",
              "          const dataTable =\n",
              "            await google.colab.kernel.invokeFunction('convertToInteractive',\n",
              "                                                     [key], {});\n",
              "          if (!dataTable) return;\n",
              "\n",
              "          const docLinkHtml = 'Like what you see? Visit the ' +\n",
              "            '<a target=\"_blank\" href=https://colab.research.google.com/notebooks/data_table.ipynb>data table notebook</a>'\n",
              "            + ' to learn more about interactive tables.';\n",
              "          element.innerHTML = '';\n",
              "          dataTable['output_type'] = 'display_data';\n",
              "          await google.colab.output.renderOutput(dataTable, element);\n",
              "          const docLink = document.createElement('div');\n",
              "          docLink.innerHTML = docLinkHtml;\n",
              "          element.appendChild(docLink);\n",
              "        }\n",
              "      </script>\n",
              "    </div>\n",
              "  </div>\n",
              "  "
            ]
          },
          "metadata": {},
          "execution_count": 104
        }
      ]
    },
    {
      "cell_type": "markdown",
      "source": [
        "### Concatenando estatísticas de dataframes"
      ],
      "metadata": {
        "id": "isB7GSZN09gC"
      }
    },
    {
      "cell_type": "code",
      "source": [
        "# Import das bibliotecas\n",
        "import pandas as pd\n",
        "\n",
        "# Declara uma lista com os valores dos números a serem analisados\n",
        "lista1 = [[\"A\",1],[\"A\",2],[\"A\",2],[\"A\",3],[\"B\",1],[\"B\",2],[\"B\",1],[\"C\",1]]\n",
        "\n",
        "# Converte em um dataFrame\n",
        "df1 = pd.DataFrame(lista1, columns=(\"nome\", \"valor\"))\n",
        "\n",
        "# Declara uma lista com os valores dos números a serem analisados\n",
        "lista2 = [[\"A\",2],[\"A\",3],[\"A\",4],[\"A\",3],[\"B\",1],[\"B\",4],[\"B\",1],[\"C\",1],[\"C\",2],[\"C\",3]]\n",
        "\n",
        "# Converte em um dataFrame\n",
        "df2 = pd.DataFrame(lista2, columns=(\"nome\", \"valor\"))\n",
        "\n",
        "#Concatena as estatísticas\n",
        "df_all = pd.concat([df1,\n",
        "                    df2\n",
        "                    ],\n",
        "                    axis=\"columns\",\n",
        "                   keys=[\"lista1\", \"lista2\"])\n",
        "\n",
        "#Exibe as estatísticas\n",
        "df_all.describe(include=[\"float\", \"int\"])"
      ],
      "metadata": {
        "colab": {
          "base_uri": "https://localhost:8080/",
          "height": 332
        },
        "id": "QuE3l_Kh0_x4",
        "outputId": "e9090576-68f2-44bf-a023-a425d610b3e0"
      },
      "execution_count": 105,
      "outputs": [
        {
          "output_type": "execute_result",
          "data": {
            "text/plain": [
              "      lista1 lista2\n",
              "       valor  valor\n",
              "count   8.00  10.00\n",
              "mean    1.62   2.40\n",
              "std     0.74   1.17\n",
              "min     1.00   1.00\n",
              "25%     1.00   1.25\n",
              "50%     1.50   2.50\n",
              "75%     2.00   3.00\n",
              "max     3.00   4.00"
            ],
            "text/html": [
              "\n",
              "  <div id=\"df-88a683dd-c6d1-4730-851c-ebb198202e45\">\n",
              "    <div class=\"colab-df-container\">\n",
              "      <div>\n",
              "<style scoped>\n",
              "    .dataframe tbody tr th:only-of-type {\n",
              "        vertical-align: middle;\n",
              "    }\n",
              "\n",
              "    .dataframe tbody tr th {\n",
              "        vertical-align: top;\n",
              "    }\n",
              "\n",
              "    .dataframe thead tr th {\n",
              "        text-align: left;\n",
              "    }\n",
              "</style>\n",
              "<table border=\"1\" class=\"dataframe\">\n",
              "  <thead>\n",
              "    <tr>\n",
              "      <th></th>\n",
              "      <th>lista1</th>\n",
              "      <th>lista2</th>\n",
              "    </tr>\n",
              "    <tr>\n",
              "      <th></th>\n",
              "      <th>valor</th>\n",
              "      <th>valor</th>\n",
              "    </tr>\n",
              "  </thead>\n",
              "  <tbody>\n",
              "    <tr>\n",
              "      <th>count</th>\n",
              "      <td>8.00</td>\n",
              "      <td>10.00</td>\n",
              "    </tr>\n",
              "    <tr>\n",
              "      <th>mean</th>\n",
              "      <td>1.62</td>\n",
              "      <td>2.40</td>\n",
              "    </tr>\n",
              "    <tr>\n",
              "      <th>std</th>\n",
              "      <td>0.74</td>\n",
              "      <td>1.17</td>\n",
              "    </tr>\n",
              "    <tr>\n",
              "      <th>min</th>\n",
              "      <td>1.00</td>\n",
              "      <td>1.00</td>\n",
              "    </tr>\n",
              "    <tr>\n",
              "      <th>25%</th>\n",
              "      <td>1.00</td>\n",
              "      <td>1.25</td>\n",
              "    </tr>\n",
              "    <tr>\n",
              "      <th>50%</th>\n",
              "      <td>1.50</td>\n",
              "      <td>2.50</td>\n",
              "    </tr>\n",
              "    <tr>\n",
              "      <th>75%</th>\n",
              "      <td>2.00</td>\n",
              "      <td>3.00</td>\n",
              "    </tr>\n",
              "    <tr>\n",
              "      <th>max</th>\n",
              "      <td>3.00</td>\n",
              "      <td>4.00</td>\n",
              "    </tr>\n",
              "  </tbody>\n",
              "</table>\n",
              "</div>\n",
              "      <button class=\"colab-df-convert\" onclick=\"convertToInteractive('df-88a683dd-c6d1-4730-851c-ebb198202e45')\"\n",
              "              title=\"Convert this dataframe to an interactive table.\"\n",
              "              style=\"display:none;\">\n",
              "        \n",
              "  <svg xmlns=\"http://www.w3.org/2000/svg\" height=\"24px\"viewBox=\"0 0 24 24\"\n",
              "       width=\"24px\">\n",
              "    <path d=\"M0 0h24v24H0V0z\" fill=\"none\"/>\n",
              "    <path d=\"M18.56 5.44l.94 2.06.94-2.06 2.06-.94-2.06-.94-.94-2.06-.94 2.06-2.06.94zm-11 1L8.5 8.5l.94-2.06 2.06-.94-2.06-.94L8.5 2.5l-.94 2.06-2.06.94zm10 10l.94 2.06.94-2.06 2.06-.94-2.06-.94-.94-2.06-.94 2.06-2.06.94z\"/><path d=\"M17.41 7.96l-1.37-1.37c-.4-.4-.92-.59-1.43-.59-.52 0-1.04.2-1.43.59L10.3 9.45l-7.72 7.72c-.78.78-.78 2.05 0 2.83L4 21.41c.39.39.9.59 1.41.59.51 0 1.02-.2 1.41-.59l7.78-7.78 2.81-2.81c.8-.78.8-2.07 0-2.86zM5.41 20L4 18.59l7.72-7.72 1.47 1.35L5.41 20z\"/>\n",
              "  </svg>\n",
              "      </button>\n",
              "      \n",
              "  <style>\n",
              "    .colab-df-container {\n",
              "      display:flex;\n",
              "      flex-wrap:wrap;\n",
              "      gap: 12px;\n",
              "    }\n",
              "\n",
              "    .colab-df-convert {\n",
              "      background-color: #E8F0FE;\n",
              "      border: none;\n",
              "      border-radius: 50%;\n",
              "      cursor: pointer;\n",
              "      display: none;\n",
              "      fill: #1967D2;\n",
              "      height: 32px;\n",
              "      padding: 0 0 0 0;\n",
              "      width: 32px;\n",
              "    }\n",
              "\n",
              "    .colab-df-convert:hover {\n",
              "      background-color: #E2EBFA;\n",
              "      box-shadow: 0px 1px 2px rgba(60, 64, 67, 0.3), 0px 1px 3px 1px rgba(60, 64, 67, 0.15);\n",
              "      fill: #174EA6;\n",
              "    }\n",
              "\n",
              "    [theme=dark] .colab-df-convert {\n",
              "      background-color: #3B4455;\n",
              "      fill: #D2E3FC;\n",
              "    }\n",
              "\n",
              "    [theme=dark] .colab-df-convert:hover {\n",
              "      background-color: #434B5C;\n",
              "      box-shadow: 0px 1px 3px 1px rgba(0, 0, 0, 0.15);\n",
              "      filter: drop-shadow(0px 1px 2px rgba(0, 0, 0, 0.3));\n",
              "      fill: #FFFFFF;\n",
              "    }\n",
              "  </style>\n",
              "\n",
              "      <script>\n",
              "        const buttonEl =\n",
              "          document.querySelector('#df-88a683dd-c6d1-4730-851c-ebb198202e45 button.colab-df-convert');\n",
              "        buttonEl.style.display =\n",
              "          google.colab.kernel.accessAllowed ? 'block' : 'none';\n",
              "\n",
              "        async function convertToInteractive(key) {\n",
              "          const element = document.querySelector('#df-88a683dd-c6d1-4730-851c-ebb198202e45');\n",
              "          const dataTable =\n",
              "            await google.colab.kernel.invokeFunction('convertToInteractive',\n",
              "                                                     [key], {});\n",
              "          if (!dataTable) return;\n",
              "\n",
              "          const docLinkHtml = 'Like what you see? Visit the ' +\n",
              "            '<a target=\"_blank\" href=https://colab.research.google.com/notebooks/data_table.ipynb>data table notebook</a>'\n",
              "            + ' to learn more about interactive tables.';\n",
              "          element.innerHTML = '';\n",
              "          dataTable['output_type'] = 'display_data';\n",
              "          await google.colab.output.renderOutput(dataTable, element);\n",
              "          const docLink = document.createElement('div');\n",
              "          docLink.innerHTML = docLinkHtml;\n",
              "          element.appendChild(docLink);\n",
              "        }\n",
              "      </script>\n",
              "    </div>\n",
              "  </div>\n",
              "  "
            ]
          },
          "metadata": {},
          "execution_count": 105
        }
      ]
    },
    {
      "cell_type": "markdown",
      "metadata": {
        "id": "28jKHSsvxTyD"
      },
      "source": [
        "## 6 - Mínimos quadrados\n",
        "\n",
        "https://medium.com/@bruno.dorneles/regress%C3%A3o-linear-conceitos-e-implementa%C3%A7%C3%A3o-com-python-232c19e00f03"
      ]
    },
    {
      "cell_type": "code",
      "metadata": {
        "id": "gYTk3ZdXxYnC",
        "colab": {
          "base_uri": "https://localhost:8080/",
          "height": 430
        },
        "outputId": "498cab14-9fd6-4752-f28e-121d0ecc2b49"
      },
      "source": [
        "# Import da biblioteca\n",
        "import numpy as np\n",
        "import matplotlib.pyplot as plt\n",
        "\n",
        "# Gera os dados do eixo X\n",
        "X = 2 * np.random.rand(100, 1)\n",
        "# Gera os dados do eixo y\n",
        "y = 4 + 3 * X + np.random.randn(100, 1)\n",
        "\n",
        "# Insere os dados no gráfico\n",
        "plt.plot(X, y, \"b.\")\n",
        "\n",
        "# Insere os rótulos do eixo x\n",
        "plt.axis([0, 2, 0, 15])\n",
        "\n",
        "# Mostra o gráfico\n",
        "plt.show()"
      ],
      "execution_count": 106,
      "outputs": [
        {
          "output_type": "display_data",
          "data": {
            "text/plain": [
              "<Figure size 640x480 with 1 Axes>"
            ],
            "image/png": "[encoded data removed]"
          },
          "metadata": {}
        }
      ]
    },
    {
      "cell_type": "code",
      "metadata": {
        "id": "gBW3ocwGzSay"
      },
      "source": [
        "X_b = np.c_[np.ones((100, 1)), X]\n",
        "theta_param = np.linalg.inv(X_b.T.dot(X_b)).dot(X_b.T).dot(y)"
      ],
      "execution_count": 107,
      "outputs": []
    },
    {
      "cell_type": "code",
      "metadata": {
        "id": "-Z4kdz3DzZV2",
        "colab": {
          "base_uri": "https://localhost:8080/",
          "height": 430
        },
        "outputId": "51ee2998-2deb-441f-8b61-58e422c5bd2b"
      },
      "source": [
        "# Import da biblioteca\n",
        "import numpy as np\n",
        "import matplotlib.pyplot as plt\n",
        "\n",
        "# Gera os dados do eixo X\n",
        "X_new = np.array([[0], [2]])\n",
        "X_new_b = np.c_[np.ones((2, 1)), X_new]\n",
        "\n",
        "# Gera os dados do eixo y\n",
        "y_predict = X_new_b.dot(theta_param)\n",
        "\n",
        "# Insere os dados no gráfico\n",
        "plt.plot(X_new, y_predict, \"r-\")\n",
        "plt.plot(X, y, \"b.\")\n",
        "\n",
        "# Insere os rótulos do eixo x\n",
        "plt.axis([0, 2, 0, 15])\n",
        "\n",
        "# Mostra o gráfico\n",
        "plt.show()"
      ],
      "execution_count": 108,
      "outputs": [
        {
          "output_type": "display_data",
          "data": {
            "text/plain": [
              "<Figure size 640x480 with 1 Axes>"
            ],
            "image/png": "[encoded data removed]"
          },
          "metadata": {}
        }
      ]
    },
    {
      "cell_type": "code",
      "metadata": {
        "id": "nUGjw-QVzgKv",
        "colab": {
          "base_uri": "https://localhost:8080/"
        },
        "outputId": "6e68e51f-0fbf-4c04-cc50-743ecf102eb6"
      },
      "source": [
        "from sklearn.linear_model import LinearRegression\n",
        "\n",
        "linear_reg = LinearRegression()\n",
        "linear_reg.fit(X, y)\n",
        "linear_reg.intercept_ #coeficiente linear\n",
        "linear_reg.coef_ #coeficiente angular\n",
        "linear_reg.predict(X_new)"
      ],
      "execution_count": 109,
      "outputs": [
        {
          "output_type": "execute_result",
          "data": {
            "text/plain": [
              "array([[4.26326673],\n",
              "       [9.72562878]])"
            ]
          },
          "metadata": {},
          "execution_count": 109
        }
      ]
    },
    {
      "cell_type": "markdown",
      "metadata": {
        "id": "Rg-1tAhfixOc"
      },
      "source": [
        "## 7 - Estatísticas de conjunto"
      ]
    },
    {
      "cell_type": "markdown",
      "metadata": {
        "id": "Ea3JlQiPUTn1"
      },
      "source": [
        "### Exemplo 1 - Números e classes"
      ]
    },
    {
      "cell_type": "markdown",
      "metadata": {
        "id": "JZ5Ewl9wZVfH"
      },
      "source": [
        "Precisão e Acurácia"
      ]
    },
    {
      "cell_type": "code",
      "metadata": {
        "id": "dS1J-ncjSfLu",
        "colab": {
          "base_uri": "https://localhost:8080/"
        },
        "outputId": "375b33db-c414-4d08-9e74-488f0c7be42d"
      },
      "source": [
        "from sklearn.metrics import classification_report\n",
        "\n",
        "X_alvo =     [ 1, 0 , 1, 0, 1, 0, 1, 0 , 1, 1]\n",
        "y_predicao = [ 0, 0 , 1, 0, 1, 0, 1, 0 , 1, 1]\n",
        "\n",
        "nome_alvos = [\"class 0\", \"class 1\"] #mesma quantidade de classes do alvo\n",
        "\n",
        "print(classification_report(X_alvo, y_predicao, target_names=nome_alvos))"
      ],
      "execution_count": 110,
      "outputs": [
        {
          "output_type": "stream",
          "name": "stdout",
          "text": [
            "              precision    recall  f1-score   support\n",
            "\n",
            "     class 0       0.80      1.00      0.89         4\n",
            "     class 1       1.00      0.83      0.91         6\n",
            "\n",
            "    accuracy                           0.90        10\n",
            "   macro avg       0.90      0.92      0.90        10\n",
            "weighted avg       0.92      0.90      0.90        10\n",
            "\n"
          ]
        }
      ]
    },
    {
      "cell_type": "markdown",
      "metadata": {
        "id": "WY17LddRZYG4"
      },
      "source": [
        "Matrix de confusão texto"
      ]
    },
    {
      "cell_type": "code",
      "metadata": {
        "id": "tqLWk7ScZZtl",
        "colab": {
          "base_uri": "https://localhost:8080/"
        },
        "outputId": "6c559764-e3ef-4932-ca3d-f9dac230c642"
      },
      "source": [
        "from sklearn.metrics import confusion_matrix\n",
        "\n",
        "print (confusion_matrix(X_alvo, y_predicao))"
      ],
      "execution_count": 111,
      "outputs": [
        {
          "output_type": "stream",
          "name": "stdout",
          "text": [
            "[[4 0]\n",
            " [1 5]]\n"
          ]
        }
      ]
    },
    {
      "cell_type": "markdown",
      "metadata": {
        "id": "oJcbQ_80K8NV"
      },
      "source": [
        "Matrix de confusão gráfico"
      ]
    },
    {
      "cell_type": "code",
      "metadata": {
        "colab": {
          "base_uri": "https://localhost:8080/",
          "height": 472
        },
        "id": "Kv-0RJb0K8as",
        "outputId": "86abd08a-9d23-48d8-d385-11914ea0e0af"
      },
      "source": [
        "import seaborn as sns\n",
        "from sklearn.metrics import confusion_matrix\n",
        "\n",
        "ax = sns.heatmap(confusion_matrix(X_alvo, y_predicao), cmap=\"Blues_r\", annot=True, fmt=\"d\")\n",
        "_ = ax.set(xlabel=\"Rótulos preditos\", ylabel=\"Rótulos verdadeiros\", title=\"Matriz de Confusão\")"
      ],
      "execution_count": 112,
      "outputs": [
        {
          "output_type": "display_data",
          "data": {
            "text/plain": [
              "<Figure size 640x480 with 2 Axes>"
            ],
            "image/png": "[encoded data removed]"
          },
          "metadata": {}
        }
      ]
    },
    {
      "cell_type": "markdown",
      "metadata": {
        "id": "n4874HBp8le3"
      },
      "source": [
        "### Exemplo 2 - Vetorização de frases"
      ]
    },
    {
      "cell_type": "code",
      "metadata": {
        "id": "BsefhtA43qLi",
        "colab": {
          "base_uri": "https://localhost:8080/"
        },
        "outputId": "de11a5a4-ee75-444a-b50a-602f2882e873"
      },
      "source": [
        "from keras.preprocessing.text import Tokenizer\n",
        "\n",
        "frases = [\"O gato no tapete.\", \"O cachorro comeu minha tarefa.\"]\n",
        "\n",
        "# Procura a frase com o maior número de palavras\n",
        "maior_frase = len(max(frases, key=lambda k: len(k.split())).split())\n",
        "print(\"Tamanho maior frase:\", maior_frase)\n",
        "\n",
        "# Cria o tokenizador\n",
        "tokenizador = Tokenizer(num_words=maior_frase)\n",
        "\n",
        "# Ajusta o tamanho\n",
        "tokenizador.fit_on_texts(frases)\n",
        "\n",
        "# Cria a matriz do texto\n",
        "matriz_texto = tokenizador.texts_to_matrix(frases, mode=\"binary\")\n",
        "\n",
        "# Índices das palavras\n",
        "indice_palavra = tokenizador.word_index\n",
        "\n",
        "# Mostra os dados\n",
        "print(\"Exemplo:\",frases)\n",
        "print(\"Índices:\", indice_palavra)\n",
        "print(\"Palavras unicas %s .\" % len(indice_palavra))\n",
        "\n",
        "# Mostra a matriz das frases\n",
        "print(\"Matriz das frases:\")\n",
        "for x in matriz_texto:\n",
        "   print(x)"
      ],
      "execution_count": 113,
      "outputs": [
        {
          "output_type": "stream",
          "name": "stdout",
          "text": [
            "Tamanho maior frase: 5\n",
            "Exemplo: ['O gato no tapete.', 'O cachorro comeu minha tarefa.']\n",
            "Índices: {'o': 1, 'gato': 2, 'no': 3, 'tapete': 4, 'cachorro': 5, 'comeu': 6, 'minha': 7, 'tarefa': 8}\n",
            "Palavras unicas 8 .\n",
            "Matriz das frases:\n",
            "[0. 1. 1. 1. 1.]\n",
            "[0. 1. 0. 0. 0.]\n"
          ]
        }
      ]
    },
    {
      "cell_type": "markdown",
      "metadata": {
        "id": "3NH4eq9tT98I"
      },
      "source": [
        "### Exemplo 3 - String e classes"
      ]
    },
    {
      "cell_type": "markdown",
      "metadata": {
        "id": "aDJGxFUFaLXZ"
      },
      "source": [
        "Precisão e acurácia"
      ]
    },
    {
      "cell_type": "code",
      "metadata": {
        "id": "AI6nf09BaSsy",
        "colab": {
          "base_uri": "https://localhost:8080/"
        },
        "outputId": "33657428-bb77-4750-8ee1-3b11e2c13fea"
      },
      "source": [
        "from sklearn.metrics import classification_report\n",
        "\n",
        "y_alvo1   = [\"Quem dia bonito.\", \"Vamos a feira\", \"Bom dia\"]\n",
        "y_alvo   = [\"S1\", \"S2\", \"S3\"]\n",
        "\n",
        "y_predicao1 = [\"Quem dia bonito.\", \"Vamos a feira Bom dia\"]\n",
        "VP = [\"SIM\",\"NAO\"]\n",
        "\n",
        "y_predicao = [\"S1\", \"\", \"S3\"]\n",
        "\n",
        "nome_alvos = [\"class 0\", \"class 1\", \"class 2\", \"class 3\"]\n",
        "\n",
        "print(classification_report(y_alvo, y_predicao, target_names=nome_alvos))"
      ],
      "execution_count": 114,
      "outputs": [
        {
          "output_type": "stream",
          "name": "stdout",
          "text": [
            "              precision    recall  f1-score   support\n",
            "\n",
            "     class 0       0.00      0.00      0.00         0\n",
            "     class 1       1.00      1.00      1.00         1\n",
            "     class 2       0.00      0.00      0.00         1\n",
            "     class 3       1.00      1.00      1.00         1\n",
            "\n",
            "    accuracy                           0.67         3\n",
            "   macro avg       0.50      0.50      0.50         3\n",
            "weighted avg       0.67      0.67      0.67         3\n",
            "\n"
          ]
        },
        {
          "output_type": "stream",
          "name": "stderr",
          "text": [
            "/usr/local/lib/python3.10/dist-packages/sklearn/metrics/_classification.py:1344: UndefinedMetricWarning: Precision and F-score are ill-defined and being set to 0.0 in labels with no predicted samples. Use `zero_division` parameter to control this behavior.\n",
            "  _warn_prf(average, modifier, msg_start, len(result))\n",
            "/usr/local/lib/python3.10/dist-packages/sklearn/metrics/_classification.py:1344: UndefinedMetricWarning: Recall and F-score are ill-defined and being set to 0.0 in labels with no true samples. Use `zero_division` parameter to control this behavior.\n",
            "  _warn_prf(average, modifier, msg_start, len(result))\n",
            "/usr/local/lib/python3.10/dist-packages/sklearn/metrics/_classification.py:1344: UndefinedMetricWarning: Precision and F-score are ill-defined and being set to 0.0 in labels with no predicted samples. Use `zero_division` parameter to control this behavior.\n",
            "  _warn_prf(average, modifier, msg_start, len(result))\n",
            "/usr/local/lib/python3.10/dist-packages/sklearn/metrics/_classification.py:1344: UndefinedMetricWarning: Recall and F-score are ill-defined and being set to 0.0 in labels with no true samples. Use `zero_division` parameter to control this behavior.\n",
            "  _warn_prf(average, modifier, msg_start, len(result))\n",
            "/usr/local/lib/python3.10/dist-packages/sklearn/metrics/_classification.py:1344: UndefinedMetricWarning: Precision and F-score are ill-defined and being set to 0.0 in labels with no predicted samples. Use `zero_division` parameter to control this behavior.\n",
            "  _warn_prf(average, modifier, msg_start, len(result))\n",
            "/usr/local/lib/python3.10/dist-packages/sklearn/metrics/_classification.py:1344: UndefinedMetricWarning: Recall and F-score are ill-defined and being set to 0.0 in labels with no true samples. Use `zero_division` parameter to control this behavior.\n",
            "  _warn_prf(average, modifier, msg_start, len(result))\n"
          ]
        }
      ]
    },
    {
      "cell_type": "markdown",
      "metadata": {
        "id": "vXQ_Ucdzc_qh"
      },
      "source": [
        "## 8 - Softmax\n",
        "\n",
        "Softmax é uma generalização da função sigmoide para casos não-binários. Ela não costuma ser aplicada às camadas escondidas da rede neural, mas sim na camada de saída de problemas de classificação multiclasse, já que sua característica é produzir valores no intervalo [0, 1] onde sua soma é igual a 1. Ou seja, num problema com 3 classes, por exemplo, a função softmax vai produzir 3 valores, que somam 1, onde cada valor representa a probabilidade da instância pertencer a uma das 3 possíveis classes."
      ]
    },
    {
      "cell_type": "markdown",
      "metadata": {
        "id": "wIckOA80dCH5"
      },
      "source": [
        "### Exemplo manual"
      ]
    },
    {
      "cell_type": "code",
      "metadata": {
        "id": "XtOa2kgodEG2",
        "colab": {
          "base_uri": "https://localhost:8080/"
        },
        "outputId": "057e88ba-17e4-42e5-bd08-47b7a362c3dd"
      },
      "source": [
        "entrada =  [1.2, 0.9, 0.75]\n",
        "\n",
        "print(\"Entrada = \", entrada)\n",
        "\n",
        "soma = sum(entrada)\n",
        "\n",
        "print(\"Soma = \" , soma)\n",
        "\n",
        "saida = []\n",
        "for x in entrada:\n",
        "   saida.append(x/soma)\n",
        "\n",
        "print(\"Saída = \", saida)"
      ],
      "execution_count": 115,
      "outputs": [
        {
          "output_type": "stream",
          "name": "stdout",
          "text": [
            "Entrada =  [1.2, 0.9, 0.75]\n",
            "Soma =  2.85\n",
            "Saída =  [0.42105263157894735, 0.3157894736842105, 0.2631578947368421]\n"
          ]
        }
      ]
    },
    {
      "cell_type": "markdown",
      "metadata": {
        "id": "rKFlfh2Ad2vX"
      },
      "source": [
        "### Exemplo NumPy"
      ]
    },
    {
      "cell_type": "code",
      "metadata": {
        "id": "uICnD_pTdwA_",
        "colab": {
          "base_uri": "https://localhost:8080/"
        },
        "outputId": "00f4d80c-dad0-4922-8963-523e07914ebb"
      },
      "source": [
        "import numpy as np\n",
        "\n",
        "def softmax(x):\n",
        "    return np.exp(x) / np.exp(x).sum(axis=0)\n",
        "\n",
        "entrada = [1.2, 0.9, 0.75]\n",
        "\n",
        "print(\"Entrada = \", entrada)\n",
        "\n",
        "saida = softmax(entrada)\n",
        "\n",
        "print(\"Saída = \", saida)"
      ],
      "execution_count": 116,
      "outputs": [
        {
          "output_type": "stream",
          "name": "stdout",
          "text": [
            "Entrada =  [1.2, 0.9, 0.75]\n",
            "Saída =  [0.42044253 0.31147148 0.26808599]\n"
          ]
        }
      ]
    },
    {
      "cell_type": "markdown",
      "metadata": {
        "id": "paDtTvj3e6cZ"
      },
      "source": [
        "### Exemplo sklearn"
      ]
    },
    {
      "cell_type": "code",
      "metadata": {
        "id": "G6BrnFHKeWOy",
        "colab": {
          "base_uri": "https://localhost:8080/"
        },
        "outputId": "88778061-2d96-40d1-a7bd-36c8fb3024a9"
      },
      "source": [
        "from sklearn.utils.extmath import softmax\n",
        "import numpy as np\n",
        "\n",
        "entrada =  [1.2, 0.9, 0.75]\n",
        "\n",
        "print(\"Entrada = \", entrada)\n",
        "\n",
        "saida = softmax(np.array([entrada]))\n",
        "\n",
        "print(\"Saída = \", saida)"
      ],
      "execution_count": 117,
      "outputs": [
        {
          "output_type": "stream",
          "name": "stdout",
          "text": [
            "Entrada =  [1.2, 0.9, 0.75]\n",
            "Saída =  [[0.42044253 0.31147148 0.26808599]]\n"
          ]
        }
      ]
    },
    {
      "cell_type": "markdown",
      "metadata": {
        "id": "cH7gHNo4NYTf"
      },
      "source": [
        "## 8 - Métricas\n",
        "\n",
        "https://www.youtube.com/watch?v=860F540KmkU\n",
        "\n",
        "https://medium.com/data-hackers/entendendo-o-que-%C3%A9-matriz-de-confus%C3%A3o-com-python-114e683ec509"
      ]
    },
    {
      "cell_type": "markdown",
      "metadata": {
        "id": "55nRCj12HwHS"
      },
      "source": [
        "### Acurácia\n",
        "\n",
        "Acurácia indica uma performance geral do modelo.\n",
        "Dentre todas as classificações, quantas o modelo classificou corretamente(vp=1 e vn=0)."
      ]
    },
    {
      "cell_type": "code",
      "metadata": {
        "id": "eWwJMVeTH3PL",
        "colab": {
          "base_uri": "https://localhost:8080/"
        },
        "outputId": "76c1b8cd-f7bc-4b6e-d16c-79356b8edafd"
      },
      "source": [
        "from sklearn.metrics import accuracy_score\n",
        "\n",
        "X_alvo =     [ 1, 0 , 1, 0, 1, 0, 1, 0 , 1, 1]\n",
        "y_predicao = [ 0, 0 , 1, 0, 1, 0, 1, 0 , 1, 1]\n",
        "\n",
        "acuracia = accuracy_score(y_predicao,X_alvo)\n",
        "\n",
        "print(\"X:\", X_alvo)\n",
        "print(\"y:\", y_predicao)\n",
        "\n",
        "print(\"Acurácia:\", acuracia)"
      ],
      "execution_count": 118,
      "outputs": [
        {
          "output_type": "stream",
          "name": "stdout",
          "text": [
            "X: [1, 0, 1, 0, 1, 0, 1, 0, 1, 1]\n",
            "y: [0, 0, 1, 0, 1, 0, 1, 0, 1, 1]\n",
            "Acurácia: 0.9\n"
          ]
        }
      ]
    },
    {
      "cell_type": "code",
      "source": [
        "X_alvo =     [ 1, 0 , 1, 0, 1, 0, 1, 0 , 1, 1]\n",
        "y_predicao = [ 0, 0 , 1, 0, 1, 0, 1, 0 , 1, 1]\n",
        "\n",
        "vp_s = 0\n",
        "vn_s = 0\n",
        "fp_s = 0\n",
        "fn_s = 0\n",
        "for i, x in enumerate(X_alvo):\n",
        "  if X_alvo[i] == 1 and y_predicao[i] == 1:\n",
        "    vp_s = vp_s + 1\n",
        "  if X_alvo[i] == 0 and y_predicao[i] == 0:\n",
        "    vn_s = vn_s + 1\n",
        "  if X_alvo[i] == 1 and y_predicao[i] == 0:\n",
        "    fp_s = fp_s + 1\n",
        "  if X_alvo[i] == 0 and y_predicao[i] == 1:\n",
        "    fn_s = fn_s + 1\n",
        "\n",
        "print(\"vp_s:\", vp_s)\n",
        "print(\"vn_s:\", vn_s)\n",
        "print(\"fp_s:\", fp_s)\n",
        "print(\"fn_s:\", fn_s)\n",
        "\n",
        "print(\"X:\", X_alvo)\n",
        "print(\"y:\", y_predicao)\n",
        "\n",
        "acuracia =  (vp_s+vn_s)/(vp_s+vn_s+fp_s+fn_s)\n",
        "print(\"Acurácia:\", acuracia)"
      ],
      "metadata": {
        "colab": {
          "base_uri": "https://localhost:8080/"
        },
        "id": "vmsoB4qZUs2X",
        "outputId": "a6c9e805-9875-4aa6-f838-7fd1fd9d78bf"
      },
      "execution_count": 119,
      "outputs": [
        {
          "output_type": "stream",
          "name": "stdout",
          "text": [
            "vp_s: 5\n",
            "vn_s: 4\n",
            "fp_s: 1\n",
            "fn_s: 0\n",
            "X: [1, 0, 1, 0, 1, 0, 1, 0, 1, 1]\n",
            "y: [0, 0, 1, 0, 1, 0, 1, 0, 1, 1]\n",
            "Acurácia: 0.9\n"
          ]
        }
      ]
    },
    {
      "cell_type": "markdown",
      "metadata": {
        "id": "6bfCCOLyIntr"
      },
      "source": [
        "### Precisão\n",
        "\n",
        "Precisão avalia as classificações da classe positivo(vp=1 e fp=0) que o modelo fez e quantas estão corretas."
      ]
    },
    {
      "cell_type": "code",
      "metadata": {
        "id": "tMpC7ehOInts",
        "colab": {
          "base_uri": "https://localhost:8080/"
        },
        "outputId": "2b7e9a53-967a-4462-8bc6-98bcd1125c4d"
      },
      "source": [
        "from sklearn.metrics import precision_score\n",
        "\n",
        "X_alvo =     [ 1, 0 , 1, 0, 1, 0, 1, 0 , 1, 1]\n",
        "y_predicao = [ 0, 0 , 1, 0, 1, 0, 1, 0 , 1, 1]\n",
        "\n",
        "precisao = precision_score(y_predicao,X_alvo)\n",
        "\n",
        "print(\"X:\", X_alvo)\n",
        "print(\"y:\", y_predicao)\n",
        "\n",
        "print(\"Precisão:\", precisao)"
      ],
      "execution_count": 120,
      "outputs": [
        {
          "output_type": "stream",
          "name": "stdout",
          "text": [
            "X: [1, 0, 1, 0, 1, 0, 1, 0, 1, 1]\n",
            "y: [0, 0, 1, 0, 1, 0, 1, 0, 1, 1]\n",
            "Precisão: 0.8333333333333334\n"
          ]
        }
      ]
    },
    {
      "cell_type": "code",
      "source": [
        "X_alvo =     [ 1, 0 , 1, 0, 1, 0, 1, 0 , 1, 1]\n",
        "y_predicao = [ 0, 0 , 1, 0, 1, 0, 1, 0 , 1, 1]\n",
        "\n",
        "vp_s = 0\n",
        "fp_s = 0\n",
        "for i, x in enumerate(X_alvo):\n",
        "  if X_alvo[i] == 1 and y_predicao[i] == 1:\n",
        "    vp_s = vp_s + 1\n",
        "  if X_alvo[i] == 1 and y_predicao[i] == 0:\n",
        "    fp_s = fp_s + 1\n",
        "\n",
        "print(\"vp_s:\", vp_s)\n",
        "print(\"fp_s:\", fp_s)\n",
        "\n",
        "print(\"X:\", X_alvo)\n",
        "print(\"y:\", y_predicao)\n",
        "\n",
        "precisao = (vp_s)/(vp_s+fp_s)\n",
        "print(\"Precisão:\", precisao)"
      ],
      "metadata": {
        "colab": {
          "base_uri": "https://localhost:8080/"
        },
        "id": "doDi7HIIQc50",
        "outputId": "752b7129-26ab-4a37-a4f1-b3ba7f117677"
      },
      "execution_count": 121,
      "outputs": [
        {
          "output_type": "stream",
          "name": "stdout",
          "text": [
            "vp_s: 5\n",
            "fp_s: 1\n",
            "X: [1, 0, 1, 0, 1, 0, 1, 0, 1, 1]\n",
            "y: [0, 0, 1, 0, 1, 0, 1, 0, 1, 1]\n",
            "Precisão: 0.8333333333333334\n"
          ]
        }
      ]
    },
    {
      "cell_type": "markdown",
      "metadata": {
        "id": "sfQGWcVGI4O5"
      },
      "source": [
        "### Recall\n",
        "\n",
        "Recall avalia todas as situações da classe Positivo(vp=1) com o valor esperado e quantas estão corretas."
      ]
    },
    {
      "cell_type": "code",
      "metadata": {
        "id": "gy_6SxQOI4O6",
        "colab": {
          "base_uri": "https://localhost:8080/"
        },
        "outputId": "d1f5bdfc-1e04-435e-9e69-61d511457050"
      },
      "source": [
        "from sklearn.metrics import recall_score\n",
        "\n",
        "X_alvo =     [ 1, 0 , 1, 0, 1, 0, 1, 0 , 1, 1]\n",
        "y_predicao = [ 0, 0 , 1, 0, 1, 0, 1, 0 , 1, 1]\n",
        "\n",
        "recall = recall_score(y_predicao,X_alvo)\n",
        "\n",
        "print(\"X:\", X_alvo)\n",
        "print(\"y:\", y_predicao)\n",
        "\n",
        "print(\"Recall:\", recall)"
      ],
      "execution_count": 122,
      "outputs": [
        {
          "output_type": "stream",
          "name": "stdout",
          "text": [
            "X: [1, 0, 1, 0, 1, 0, 1, 0, 1, 1]\n",
            "y: [0, 0, 1, 0, 1, 0, 1, 0, 1, 1]\n",
            "Recall: 1.0\n"
          ]
        }
      ]
    },
    {
      "cell_type": "code",
      "source": [
        "X_alvo =     [ 1, 0 , 1, 0, 1, 0, 1, 0 , 1, 1]\n",
        "y_predicao = [ 0, 0 , 1, 0, 1, 0, 1, 0 , 1, 1]\n",
        "\n",
        "vp_s = 0\n",
        "fn_s = 0\n",
        "for i, x in enumerate(X_alvo):\n",
        "  if X_alvo[i] == 1 and y_predicao[i] == 1:\n",
        "    vp_s = vp_s + 1\n",
        "  if X_alvo[i] == 0 and y_predicao[i] == 1:\n",
        "    fn_s = fn_s + 1\n",
        "\n",
        "print(\"vp_s:\", vp_s)\n",
        "print(\"fp_s:\", fn_s)\n",
        "\n",
        "print(\"X:\", X_alvo)\n",
        "print(\"y:\", y_predicao)\n",
        "\n",
        "recall = (vp_s)/(vp_s+fn_s)\n",
        "print(\"Recall:\", recall)"
      ],
      "metadata": {
        "colab": {
          "base_uri": "https://localhost:8080/"
        },
        "id": "s7CfNE1CSKFm",
        "outputId": "9969166d-3172-4c17-d2dc-12d317c91ab3"
      },
      "execution_count": 123,
      "outputs": [
        {
          "output_type": "stream",
          "name": "stdout",
          "text": [
            "vp_s: 5\n",
            "fp_s: 0\n",
            "X: [1, 0, 1, 0, 1, 0, 1, 0, 1, 1]\n",
            "y: [0, 0, 1, 0, 1, 0, 1, 0, 1, 1]\n",
            "Recall: 1.0\n"
          ]
        }
      ]
    },
    {
      "cell_type": "markdown",
      "metadata": {
        "id": "Dj658vPpJOW3"
      },
      "source": [
        "### F1 Score\n",
        "\n",
        "F1 é a média harmônica entre precisão e recall"
      ]
    },
    {
      "cell_type": "code",
      "metadata": {
        "id": "gtQ4Vc_mJOW4",
        "colab": {
          "base_uri": "https://localhost:8080/"
        },
        "outputId": "3a71b6b1-0e20-4ff3-c711-fe4eadd827d7"
      },
      "source": [
        "from sklearn.metrics import f1_score\n",
        "\n",
        "X_alvo =     [ 1, 0 , 1, 0, 1, 0, 1, 0 , 1, 1]\n",
        "y_predicao = [ 0, 0 , 1, 0, 1, 0, 1, 0 , 1, 1]\n",
        "\n",
        "f1 = f1_score(X_alvo,y_predicao)\n",
        "\n",
        "print(\"X:\", X_alvo)\n",
        "print(\"y:\", y_predicao)\n",
        "\n",
        "print(\"F1:\", f1)"
      ],
      "execution_count": 124,
      "outputs": [
        {
          "output_type": "stream",
          "name": "stdout",
          "text": [
            "X: [1, 0, 1, 0, 1, 0, 1, 0, 1, 1]\n",
            "y: [0, 0, 1, 0, 1, 0, 1, 0, 1, 1]\n",
            "F1: 0.9090909090909091\n"
          ]
        }
      ]
    },
    {
      "cell_type": "code",
      "source": [
        "F1 = 2 * ((precisao * recall)/(precisao + recall))\n",
        "\n",
        "print(\"F1:\", F1)"
      ],
      "metadata": {
        "colab": {
          "base_uri": "https://localhost:8080/"
        },
        "id": "UAEtmRNkUJoe",
        "outputId": "9cc3bebe-78dc-4477-f1af-d8bcfd296b17"
      },
      "execution_count": 125,
      "outputs": [
        {
          "output_type": "stream",
          "name": "stdout",
          "text": [
            "F1: 0.9090909090909091\n"
          ]
        }
      ]
    },
    {
      "cell_type": "markdown",
      "metadata": {
        "id": "V5X4Wem-JmY7"
      },
      "source": [
        "### Log loss\n",
        "\n",
        "https://www.youtube.com/watch?v=GdNmDQRdL2o"
      ]
    },
    {
      "cell_type": "code",
      "metadata": {
        "id": "qTqUaXDPJnpt",
        "colab": {
          "base_uri": "https://localhost:8080/"
        },
        "outputId": "6bc823de-e886-43f0-aeef-bb563b19c9ca"
      },
      "source": [
        "import random\n",
        "from sklearn.metrics import log_loss\n",
        "\n",
        "X_alvo =     [ 1, 0 , 1, 0, 1, 0, 1, 0 , 1, 1]\n",
        "\n",
        "X_alvo_random = [random.random() for i in range(10)]\n",
        "y_predicao = [ 1, 1 , 1, 0, 1, 0, 1, 0 , 1, 1]\n",
        "\n",
        "loss = log_loss(y_predicao, X_alvo_random)\n",
        "\n",
        "print(\"X:\", X_alvo)\n",
        "print(\"y:\", y_predicao)\n",
        "\n",
        "print(\"Log Loss:\", loss)"
      ],
      "execution_count": 126,
      "outputs": [
        {
          "output_type": "stream",
          "name": "stdout",
          "text": [
            "X: [1, 0, 1, 0, 1, 0, 1, 0, 1, 1]\n",
            "y: [1, 1, 1, 0, 1, 0, 1, 0, 1, 1]\n",
            "Log Loss: 1.0465044510213395\n"
          ]
        }
      ]
    },
    {
      "cell_type": "markdown",
      "metadata": {
        "id": "ZMOO51ljysN8"
      },
      "source": [
        "### Raiz Quadrada do Erro Quadrático Médio 1\n",
        "Root Mean Squared Error (RMSE)\n",
        "\n",
        "O erro quadrático médio é definido\n",
        "como sendo a média da diferença entre o valor do\n",
        "estimador e do parâmetro ao quadrado.\n",
        "\n",
        "https://medium.com/@bruno.dorneles/regress%C3%A3o-linear-conceitos-e-implementa%C3%A7%C3%A3o-com-python-232c19e00f03"
      ]
    },
    {
      "cell_type": "code",
      "metadata": {
        "id": "S7yi3asQyShC",
        "colab": {
          "base_uri": "https://localhost:8080/"
        },
        "outputId": "a6fdae79-8884-41cf-e9fc-a6c6bada51d0"
      },
      "source": [
        "from sklearn.metrics import mean_squared_error\n",
        "from math import sqrt\n",
        "\n",
        "X_alvo =     [ 1, 0 , 1, 0, 1, 0, 1, 0 , 1, 1]\n",
        "y_predicao = [ 0, 0 , 1, 0, 1, 0, 1, 0 , 1, 1]\n",
        "\n",
        "rmse = sqrt(mean_squared_error(X_alvo, y_predicao))\n",
        "\n",
        "print(\"X:\", X_alvo)\n",
        "print(\"y:\", y_predicao)\n",
        "\n",
        "print(\"Erro quadrático médio:\", rmse)"
      ],
      "execution_count": 127,
      "outputs": [
        {
          "output_type": "stream",
          "name": "stdout",
          "text": [
            "X: [1, 0, 1, 0, 1, 0, 1, 0, 1, 1]\n",
            "y: [0, 0, 1, 0, 1, 0, 1, 0, 1, 1]\n",
            "Erro quadrático médio: 0.31622776601683794\n"
          ]
        }
      ]
    },
    {
      "cell_type": "markdown",
      "metadata": {
        "id": "mFdPiXsI5WPi"
      },
      "source": [
        "### Raiz Quadrada do Erro Quadrático Médio 2\n",
        "Root Mean Squared Error (RMSE)\n",
        "\n",
        "https://qastack.com.br/programming/17197492/is-there-a-library-function-for-root-mean-square-error-rmse-in-python"
      ]
    },
    {
      "cell_type": "code",
      "metadata": {
        "id": "KoNF57SN5Vo5",
        "colab": {
          "base_uri": "https://localhost:8080/"
        },
        "outputId": "12e1e39f-af51-4b06-fd85-65417d094fee"
      },
      "source": [
        "import numpy as np\n",
        "\n",
        "X_alvo =     [ 1, 0 , 1, 0, 1, 0, 1, 0 , 1, 1]\n",
        "y_predicao = [ 0, 0 , 1, 0, 1, 0, 1, 0 , 1, 1]\n",
        "\n",
        "rmse = np.sqrt(((np.array(X_alvo) - np.array(y_predicao)) ** 2).mean())\n",
        "\n",
        "print(\"X:\", X_alvo)\n",
        "print(\"y:\", y_predicao)\n",
        "\n",
        "print(\"Erro quadrático médio:\", rmse)"
      ],
      "execution_count": 128,
      "outputs": [
        {
          "output_type": "stream",
          "name": "stdout",
          "text": [
            "X: [1, 0, 1, 0, 1, 0, 1, 0, 1, 1]\n",
            "y: [0, 0, 1, 0, 1, 0, 1, 0, 1, 1]\n",
            "Erro quadrático médio: 0.31622776601683794\n"
          ]
        }
      ]
    },
    {
      "cell_type": "markdown",
      "metadata": {
        "id": "-c_rLyc7xRGl"
      },
      "source": [
        " ### Coeficiente de correlação de Matthews (MCC)\n",
        "\n",
        "https://scikit-learn.org/stable/modules/generated/sklearn.metrics.matthews_corrcoef.html\n",
        "\n",
        "* 1.0 = Predição perfeita\n",
        "* 0.0 = Média\n",
        "* -1.0 = Predição inversa"
      ]
    },
    {
      "cell_type": "code",
      "metadata": {
        "id": "NPa5P5v3xOOb",
        "colab": {
          "base_uri": "https://localhost:8080/"
        },
        "outputId": "44197251-9b0b-46fb-d87c-72726a333c71"
      },
      "source": [
        "from sklearn.metrics import matthews_corrcoef\n",
        "\n",
        "X_alvo     = [ 1, 0 , 1, 0, 1, 0, 1, 0 , 1, 1]\n",
        "y_predicao = [ 0, 0 , 1, 0, 1, 0, 1, 0 , 1, 1]\n",
        "\n",
        "MCC = matthews_corrcoef(X_alvo, y_predicao)\n",
        "\n",
        "print(\"X:\", X_alvo)\n",
        "print(\"y:\", y_predicao)\n",
        "\n",
        "print(MCC)"
      ],
      "execution_count": 129,
      "outputs": [
        {
          "output_type": "stream",
          "name": "stdout",
          "text": [
            "X: [1, 0, 1, 0, 1, 0, 1, 0, 1, 1]\n",
            "y: [0, 0, 1, 0, 1, 0, 1, 0, 1, 1]\n",
            "0.816496580927726\n"
          ]
        }
      ]
    },
    {
      "cell_type": "markdown",
      "metadata": {
        "id": "RZyweh5FR04w"
      },
      "source": [
        "### Cálculo de métricas"
      ]
    },
    {
      "cell_type": "code",
      "metadata": {
        "colab": {
          "base_uri": "https://localhost:8080/"
        },
        "id": "PjBJtGZUR1CY",
        "outputId": "20d173be-0ffb-4068-dc4f-f4b68226cf39"
      },
      "source": [
        "X_alvo     =  np.array([ 1, 0 , 1, 0, 1, 0, 1, 0 , 1, 1])\n",
        "y_predicao =  np.array([ 0, 0 , 1, 0, 1, 0, 1, 0 , 1, 1])\n",
        "\n",
        "# Acumula os resultados dos testes\n",
        "vp = [] # Verdadeiro positivo\n",
        "vn = [] # Verdadeiro negativo\n",
        "fp = [] # Falso positivo\n",
        "fn = [] # Falso negativo\n",
        "\n",
        "# Verifica a predição realizada e o rótulo previsto\n",
        "vp.append(((y_predicao==1) & (X_alvo==1)).sum())\n",
        "vn.append(((y_predicao==0) & (X_alvo==0)).sum())\n",
        "fp.append(((y_predicao==1) & (X_alvo==0)).sum())\n",
        "fn.append(((y_predicao==0) & (X_alvo==1)).sum())\n",
        "\n",
        "vp_s, vn_s, fp_s, fn_s = sum(vp), sum(vn), sum(fp), sum(fn)\n",
        "acc = (vp_s+vn_s)/(vp_s+vn_s+fp_s+fn_s)\n",
        "if (vp_s+fn_s) != 0:\n",
        "  rec = (vp_s)/(vp_s+fn_s)\n",
        "else:\n",
        "  rec = 0\n",
        "if (vp_s+fp_s) != 0:\n",
        "  pre = (vp_s)/(vp_s+fp_s)\n",
        "else:\n",
        "  pre = 0\n",
        "if (pre + rec) != 0:\n",
        "  f1 = 2 * ((pre * rec)/(pre + rec))\n",
        "else:\n",
        "  f1 = 0\n",
        "\n",
        "print(\"Acurácia: {:.8f}; Recall: {:.8f}; Precisão: {:.8f}, F1:{:.8f}, vp: {}; vn: {}; fp: {}; fn: {}\".format(acc, rec, pre, f1, vp_s, vn_s, fp_s, fn_s))\n"
      ],
      "execution_count": 130,
      "outputs": [
        {
          "output_type": "stream",
          "name": "stdout",
          "text": [
            "Acurácia: 0.90000000; Recall: 0.83333333; Precisão: 1.00000000, F1:0.90909091, vp: 5; vn: 4; fp: 0; fn: 1\n"
          ]
        }
      ]
    },
    {
      "cell_type": "markdown",
      "metadata": {
        "id": "ymMo2aTaGYgK"
      },
      "source": [
        "###Função de cálculo de métricas"
      ]
    },
    {
      "cell_type": "code",
      "metadata": {
        "id": "hmbVrWkrIXVr"
      },
      "source": [
        "from sklearn.metrics import accuracy_score, precision_recall_fscore_support\n",
        "\n",
        "def calculaMetricas(predicoes, alvos):\n",
        "    precisao, recall, f1, _ = precision_recall_fscore_support(alvos, predicoes, average=\"binary\")\n",
        "    acuracia = accuracy_score(alvos, predicoes)\n",
        "    return {\n",
        "        \"Acurácia\": acuracia,\n",
        "        \"Recall\": recall,\n",
        "        \"Precisão\": precisao,\n",
        "        \"f1\": f1\n",
        "    }"
      ],
      "execution_count": 131,
      "outputs": []
    },
    {
      "cell_type": "code",
      "metadata": {
        "colab": {
          "base_uri": "https://localhost:8080/"
        },
        "id": "XyTnta2WGYtv",
        "outputId": "4e824879-bc8c-4210-a8e6-0b484380eba9"
      },
      "source": [
        "X_alvo =     [ 1, 0 , 1, 0, 1, 0, 1, 0 , 1, 1]\n",
        "y_predicao = [ 0, 0 , 1, 0, 1, 0, 1, 0 , 1, 1]\n",
        "\n",
        "metricas = calculaMetricas(y_predicao,X_alvo)\n",
        "\n",
        "print(\"Metricas:\", metricas)"
      ],
      "execution_count": 132,
      "outputs": [
        {
          "output_type": "stream",
          "name": "stdout",
          "text": [
            "Metricas: {'Acurácia': 0.9, 'Recall': 0.8333333333333334, 'Precisão': 1.0, 'f1': 0.9090909090909091}\n"
          ]
        }
      ]
    },
    {
      "cell_type": "markdown",
      "metadata": {
        "id": "0IWg0LivJW91"
      },
      "source": [
        "###Calculando métricas"
      ]
    },
    {
      "cell_type": "code",
      "metadata": {
        "colab": {
          "base_uri": "https://localhost:8080/"
        },
        "id": "QFe4qj2fJXHf",
        "outputId": "a7750baa-b390-430d-ed1b-9fd217abb74d"
      },
      "source": [
        "from sklearn.metrics import classification_report\n",
        "\n",
        "X_alvo =     [ 1, 0 , 1, 0, 1, 0, 1, 0 , 1, 1]\n",
        "y_predicao = [ 0, 0 , 1, 0, 1, 0, 1, 0 , 1, 1]\n",
        "\n",
        "print(classification_report(X_alvo, y_predicao))"
      ],
      "execution_count": 133,
      "outputs": [
        {
          "output_type": "stream",
          "name": "stdout",
          "text": [
            "              precision    recall  f1-score   support\n",
            "\n",
            "           0       0.80      1.00      0.89         4\n",
            "           1       1.00      0.83      0.91         6\n",
            "\n",
            "    accuracy                           0.90        10\n",
            "   macro avg       0.90      0.92      0.90        10\n",
            "weighted avg       0.92      0.90      0.90        10\n",
            "\n"
          ]
        }
      ]
    },
    {
      "cell_type": "markdown",
      "metadata": {
        "id": "OINFNbDtwv6G"
      },
      "source": [
        "### Matriz de confusão"
      ]
    },
    {
      "cell_type": "markdown",
      "metadata": {
        "id": "SXnmdcZFJ9Fk"
      },
      "source": [
        "#### Matriz de confusão valores absolutos\n",
        "\n",
        "https://medium.com/@dtuk81/confusion-matrix-visualization-fc31e3f30fea"
      ]
    },
    {
      "cell_type": "code",
      "metadata": {
        "colab": {
          "base_uri": "https://localhost:8080/",
          "height": 628
        },
        "id": "bRFlERQkJ9O4",
        "outputId": "ef6d67f4-eba4-4ff2-ca86-fb9c0da7f3cb"
      },
      "source": [
        "import seaborn as sns\n",
        "import matplotlib.pyplot as plt\n",
        "from sklearn.metrics import confusion_matrix\n",
        "from sklearn.metrics import classification_report\n",
        "\n",
        "X_alvo =     [ 1, 0 , 1, 0, 1, 0, 1, 0 , 1, 1]\n",
        "y_predicao = [ 0, 0 , 1, 0, 1, 0, 1, 0 , 1, 1]\n",
        "\n",
        "print(classification_report(X_alvo, y_predicao))\n",
        "\n",
        "# Insere os dados no gráfico\n",
        "ax = sns.heatmap(confusion_matrix(X_alvo, y_predicao), cmap=\"Blues_r\", annot=True, fmt=\"d\")\n",
        "\n",
        "# Título do gráfico\n",
        "ax.set_title(\"Matriz de confusão\")\n",
        "# Texto do eixo x\n",
        "ax.set_xlabel(\"Rótulos preditos\")\n",
        "# Texto do eixo y\n",
        "ax.set_ylabel(\"Rótulos verdadeiros\")\n",
        "# Rótulos adicionais\n",
        "ax.xaxis.set_ticklabels([\"Falso(0)\", \"Verdadeiro(1)\"])\n",
        "ax.yaxis.set_ticklabels([\"Falso(0)\", \"Verdadeiro(1)\"])\n",
        "\n",
        "# Mostra o gráfico\n",
        "plt.show()"
      ],
      "execution_count": 134,
      "outputs": [
        {
          "output_type": "stream",
          "name": "stdout",
          "text": [
            "              precision    recall  f1-score   support\n",
            "\n",
            "           0       0.80      1.00      0.89         4\n",
            "           1       1.00      0.83      0.91         6\n",
            "\n",
            "    accuracy                           0.90        10\n",
            "   macro avg       0.90      0.92      0.90        10\n",
            "weighted avg       0.92      0.90      0.90        10\n",
            "\n"
          ]
        },
        {
          "output_type": "display_data",
          "data": {
            "text/plain": [
              "<Figure size 640x480 with 2 Axes>"
            ],
            "image/png": "[encoded data removed]"
          },
          "metadata": {}
        }
      ]
    },
    {
      "cell_type": "markdown",
      "metadata": {
        "id": "xMwMCjZInSSX"
      },
      "source": [
        "#### Matriz de confusão em percentual"
      ]
    },
    {
      "cell_type": "code",
      "metadata": {
        "colab": {
          "base_uri": "https://localhost:8080/",
          "height": 628
        },
        "id": "TU8Jd5WHnSSb",
        "outputId": "dfccbd32-a67b-4025-c672-00fd39c4a64f"
      },
      "source": [
        "import seaborn as sns\n",
        "import matplotlib.pyplot as plt\n",
        "from sklearn.metrics import confusion_matrix\n",
        "from sklearn.metrics import classification_report\n",
        "import numpy as np\n",
        "\n",
        "X_alvo =     [ 1, 0 , 1, 0, 1, 0, 1, 0 , 1, 1]\n",
        "y_predicao = [ 0, 0 , 1, 0, 1, 0, 1, 0 , 1, 1]\n",
        "\n",
        "print(classification_report(X_alvo, y_predicao))\n",
        "\n",
        "# Insere os dados no gráfico\n",
        "cf_matrix = confusion_matrix(X_alvo, y_predicao)\n",
        "ax = sns.heatmap(cf_matrix/np.sum(cf_matrix), cmap=\"Blues_r\", annot=True, fmt=\".2%\")\n",
        "\n",
        "# Título do gráfico\n",
        "ax.set_title(\"Matriz de confusão\")\n",
        "# Texto do eixo x\n",
        "ax.set_xlabel(\"Rótulos preditos\")\n",
        "# Texto do eixo y\n",
        "ax.set_ylabel(\"Rótulos verdadeiros\")\n",
        "# Rótulos adicionais\n",
        "ax.xaxis.set_ticklabels([\"Falso(0)\", \"Verdadeiro(1)\"])\n",
        "ax.yaxis.set_ticklabels([\"Falso(0)\", \"Verdadeiro(1)\"])\n",
        "\n",
        "# Mostra o gráfico\n",
        "plt.show()"
      ],
      "execution_count": 135,
      "outputs": [
        {
          "output_type": "stream",
          "name": "stdout",
          "text": [
            "              precision    recall  f1-score   support\n",
            "\n",
            "           0       0.80      1.00      0.89         4\n",
            "           1       1.00      0.83      0.91         6\n",
            "\n",
            "    accuracy                           0.90        10\n",
            "   macro avg       0.90      0.92      0.90        10\n",
            "weighted avg       0.92      0.90      0.90        10\n",
            "\n"
          ]
        },
        {
          "output_type": "display_data",
          "data": {
            "text/plain": [
              "<Figure size 640x480 with 2 Axes>"
            ],
            "image/png": "[encoded data removed]"
          },
          "metadata": {}
        }
      ]
    },
    {
      "cell_type": "markdown",
      "metadata": {
        "id": "jp5MLFSdnzaZ"
      },
      "source": [
        "#### Matriz de confusão valores absolutos e percentual"
      ]
    },
    {
      "cell_type": "code",
      "metadata": {
        "colab": {
          "base_uri": "https://localhost:8080/",
          "height": 628
        },
        "id": "koAyZ8sXnzaa",
        "outputId": "71881bf1-7fe5-4fc8-a2e5-989142193188"
      },
      "source": [
        "import seaborn as sns\n",
        "import matplotlib.pyplot as plt\n",
        "from sklearn.metrics import confusion_matrix\n",
        "from sklearn.metrics import classification_report\n",
        "import numpy as np\n",
        "\n",
        "X_alvo =     [ 1, 0 , 1, 0, 1, 0, 1, 0 , 1, 1]\n",
        "y_predicao = [ 0, 0 , 1, 0, 1, 0, 1, 0 , 1, 1]\n",
        "\n",
        "print(classification_report(X_alvo, y_predicao))\n",
        "\n",
        "# Insere os dados no gráfico\n",
        "cf_matrix = confusion_matrix(X_alvo, y_predicao)\n",
        "quantidade_grupos = [\"{0:0.0f}\".format(valor) for valor in cf_matrix.flatten()]\n",
        "percentual_grupos = [\"{0:.2%}\".format(valor) for valor in cf_matrix.flatten()/np.sum(cf_matrix)]\n",
        "rotulos = [f\"{v1}\\n{v2}\" for v1, v2 in zip(quantidade_grupos,percentual_grupos)]\n",
        "rotulos = np.asarray(rotulos).reshape(2,2)\n",
        "ax = sns.heatmap(cf_matrix, annot=rotulos, fmt=\"\", cmap=\"Blues_r\")\n",
        "\n",
        "# Título do gráfico\n",
        "ax.set_title(\"Matriz de confusão\")\n",
        "# Texto do eixo x\n",
        "ax.set_xlabel(\"Rótulos preditos\")\n",
        "# Texto do eixo y\n",
        "ax.set_ylabel(\"Rótulos verdadeiros\")\n",
        "# Rótulos adicionais\n",
        "ax.xaxis.set_ticklabels([\"Falso(0)\", \"Verdadeiro(1)\"])\n",
        "ax.yaxis.set_ticklabels([\"Falso(0)\", \"Verdadeiro(1)\"])\n",
        "\n",
        "# Mostra o gráfico\n",
        "plt.show()"
      ],
      "execution_count": 136,
      "outputs": [
        {
          "output_type": "stream",
          "name": "stdout",
          "text": [
            "              precision    recall  f1-score   support\n",
            "\n",
            "           0       0.80      1.00      0.89         4\n",
            "           1       1.00      0.83      0.91         6\n",
            "\n",
            "    accuracy                           0.90        10\n",
            "   macro avg       0.90      0.92      0.90        10\n",
            "weighted avg       0.92      0.90      0.90        10\n",
            "\n"
          ]
        },
        {
          "output_type": "display_data",
          "data": {
            "text/plain": [
              "<Figure size 640x480 with 2 Axes>"
            ],
            "image/png": "[encoded data removed]"
          },
          "metadata": {}
        }
      ]
    },
    {
      "cell_type": "markdown",
      "metadata": {
        "id": "nO7j4Na88vr7"
      },
      "source": [
        "## Binary cross-entropy ou “log loss”\n",
        "\n",
        "https://medium.com/ensina-ai/uma-explica%C3%A7%C3%A3o-visual-para-fun%C3%A7%C3%A3o-de-custo-binary-cross-entropy-ou-log-loss-eaee662c396c"
      ]
    },
    {
      "cell_type": "code",
      "metadata": {
        "id": "CvtssQAg84A5",
        "colab": {
          "base_uri": "https://localhost:8080/"
        },
        "outputId": "15959185-31da-49ce-b983-26d20b2ee81a"
      },
      "source": [
        "from sklearn.linear_model import LogisticRegression\n",
        "from sklearn.metrics import log_loss\n",
        "import numpy as np\n",
        "\n",
        "#entrada\n",
        "X_alvo = np.array([-2.2, -1.4, -.8, .2, .4, .8, 1.2, 2.2, 2.9, 4.6])\n",
        "\n",
        "#rótulos\n",
        "y = np.array([0.0, 0.0, 1.0, 0.0, 1.0, 1.0, 1.0, 1.0, 1.0, 1.0])\n",
        "\n",
        "logr = LogisticRegression(solver=\"lbfgs\")\n",
        "logr.fit(X_alvo.reshape(-1, 1), y)\n",
        "\n",
        "y_predicao = logr.predict_proba(X_alvo.reshape(-1, 1))[:, 1].ravel()\n",
        "loss = log_loss(y, y_predicao)\n",
        "\n",
        "print(\"X:\", X_alvo)\n",
        "print(\"y:\", y)\n",
        "\n",
        "print(\"p(y) = {}\".format(np.round(y_predicao, 2)))\n",
        "print(\"Log Loss / Cross Entropy = {:.4f}\".format(loss))"
      ],
      "execution_count": 137,
      "outputs": [
        {
          "output_type": "stream",
          "name": "stdout",
          "text": [
            "X: [-2.2 -1.4 -0.8  0.2  0.4  0.8  1.2  2.2  2.9  4.6]\n",
            "y: [0. 0. 1. 0. 1. 1. 1. 1. 1. 1.]\n",
            "p(y) = [0.19 0.33 0.47 0.7  0.74 0.81 0.86 0.94 0.97 0.99]\n",
            "Log Loss / Cross Entropy = 0.3329\n"
          ]
        }
      ]
    },
    {
      "cell_type": "markdown",
      "source": [
        "## Validação Holdout sem classe\n",
        "\n",
        "https://scikit-learn.org/0.19/modules/generated/sklearn.model_selection.train_test_split.html\n",
        "\n",
        "https://medium.com/@eijaz/holdout-vs-cross-validation-in-machine-learning-7637112d3f8f"
      ],
      "metadata": {
        "id": "99VkZwuTyWNV"
      }
    },
    {
      "cell_type": "code",
      "source": [
        "# Import das bibliotecas\n",
        "import numpy as np\n",
        "from sklearn.model_selection import train_test_split\n",
        "\n",
        "#Conjunto de dados\n",
        "X =  np.array([\"a\", \"b\", \"c\", \"d\", \"e\", \"f\", \"g\", \"h\", \"i\", \"j\"])\n",
        "\n",
        "print(\"Total do conjunto de dados:\", len(X))\n",
        "print()\n",
        "\n",
        "# 30% de teste %70% de avaliação\n",
        "test_qtde = int(0.3*len(X))\n",
        "\n",
        "# Divide o conjunto de dados\n",
        "dados_train, dados_test = train_test_split(X, test_size=test_qtde)\n",
        "\n",
        "print(\"Dados de treino:\", len(dados_train))\n",
        "print(dados_train)\n",
        "\n",
        "print(\"Dados de teste:\", len(dados_test))\n",
        "print(dados_test)"
      ],
      "metadata": {
        "colab": {
          "base_uri": "https://localhost:8080/"
        },
        "id": "5pbN29NKyYk4",
        "outputId": "28100939-d401-464a-a450-0349e95c1dc3"
      },
      "execution_count": 138,
      "outputs": [
        {
          "output_type": "stream",
          "name": "stdout",
          "text": [
            "Total do conjunto de dados: 10\n",
            "\n",
            "Dados de treino: 7\n",
            "['g' 'd' 'f' 'i' 'j' 'h' 'b']\n",
            "Dados de teste: 3\n",
            "['e' 'c' 'a']\n"
          ]
        }
      ]
    },
    {
      "cell_type": "markdown",
      "source": [
        "## Validação Holdout com classe\n",
        "\n",
        "https://scikit-learn.org/0.19/modules/generated/sklearn.model_selection.train_test_split.html\n",
        "\n",
        "https://medium.com/@eijaz/holdout-vs-cross-validation-in-machine-learning-7637112d3f8f"
      ],
      "metadata": {
        "id": "fBwwjUw50Q9A"
      }
    },
    {
      "cell_type": "code",
      "source": [
        "# Import das bibliotecas\n",
        "import numpy as np\n",
        "from sklearn.model_selection import train_test_split\n",
        "\n",
        "#Conjunto de dados\n",
        "X =  np.array([\"a\", \"b\", \"c\", \"d\", \"e\", \"f\", \"g\", \"h\", \"i\", \"j\"])\n",
        "#Rótulos dos dados\n",
        "y =  np.array([\"0\", \"0\", \"1\", \"0\", \"0\", \"0\", \"1\", \"1\", \"1\", \"1\"])\n",
        "\n",
        "print(\"Total do conjunto de dados  :\", len(X))\n",
        "print(\"Total do conjunto de rótulos:\", len(y))\n",
        "print()\n",
        "\n",
        "# 30% de teste %70% de avaliação\n",
        "test_qtde = int(0.3*len(X))\n",
        "\n",
        "# Divide o conjunto de dados\n",
        "# parâmetro stratify faz uma divisão para que a proporção de valores na amostra produzida\n",
        "# seja igual à proporção de valores fornecidos ao parâmetro stratify.\n",
        "X_train, X_test, y_train, y_test = train_test_split(X, y, test_size=test_qtde, stratify=y)\n",
        "\n",
        "print(\"Dados X de treino  :\", len(X_train))\n",
        "print(X_train)\n",
        "print(\"Rótulos X de treino:\", len(y_train))\n",
        "print(y_train)\n",
        "print()\n",
        "print(\"Dados X de teste  :\", len(X_test))\n",
        "print(X_test)\n",
        "print(\"Rótulos y de teste:\", len(y_test))\n",
        "print(y_test)"
      ],
      "metadata": {
        "colab": {
          "base_uri": "https://localhost:8080/"
        },
        "outputId": "368841ef-c039-4361-83d6-1e0b64eb04cc",
        "id": "FLGhl0dz0Q9B"
      },
      "execution_count": 139,
      "outputs": [
        {
          "output_type": "stream",
          "name": "stdout",
          "text": [
            "Total do conjunto de dados  : 10\n",
            "Total do conjunto de rótulos: 10\n",
            "\n",
            "Dados X de treino  : 7\n",
            "['g' 'e' 'd' 'i' 'a' 'h' 'f']\n",
            "Rótulos X de treino: 7\n",
            "['1' '0' '0' '1' '0' '1' '0']\n",
            "\n",
            "Dados X de teste  : 3\n",
            "['b' 'j' 'c']\n",
            "Rótulos y de teste: 3\n",
            "['0' '1' '1']\n"
          ]
        }
      ]
    },
    {
      "cell_type": "markdown",
      "metadata": {
        "id": "gVTDlBBAT4DO"
      },
      "source": [
        "## Validação Cruzada k-folds sem classe\n",
        "\n",
        "https://scikit-learn.org/stable/modules/generated/sklearn.model_selection.KFold.html\n",
        "\n",
        "https://medium.com/@eijaz/holdout-vs-cross-validation-in-machine-learning-7637112d3f8f"
      ]
    },
    {
      "cell_type": "code",
      "metadata": {
        "id": "sf3KJzJvT6qM",
        "colab": {
          "base_uri": "https://localhost:8080/"
        },
        "outputId": "a7ed3622-e36c-465b-c11e-630ae67766df"
      },
      "source": [
        "# Import das bibliotecas\n",
        "import numpy as np\n",
        "from sklearn.model_selection import KFold\n",
        "\n",
        "#Conjunto de dados\n",
        "X =  np.array([\"a\", \"b\", \"c\", \"d\", \"e\", \"f\", \"g\", \"h\", \"i\", \"j\"])\n",
        "\n",
        "print(\"Total do conjunto de dados:\", len(X))\n",
        "print()\n",
        "\n",
        "# Divisão em k folds(n_splits)\n",
        "# shuffle, embaralha cada amostra\n",
        "# Quando shuffle igual True, random_state afeta a ordem dos índices,\n",
        "# que controla a aleatoriedade de cada dobra.\n",
        "kf = KFold(n_splits=5,  random_state=True, shuffle=True)\n",
        "print(kf)\n",
        "\n",
        "# Percorre os indices do conjunto de dados\n",
        "for train_index, test_index in kf.split(X):\n",
        "  print(\"Índices:\", train_index, test_index)\n",
        "\n",
        "  # Recupera os dados do fold\n",
        "  X_train, X_test = X[train_index], X[test_index]\n",
        "  print(\"Dados  :\", X_train, X_test)"
      ],
      "execution_count": 140,
      "outputs": [
        {
          "output_type": "stream",
          "name": "stdout",
          "text": [
            "Total do conjunto de dados: 10\n",
            "\n",
            "KFold(n_splits=5, random_state=True, shuffle=True)\n",
            "Índices: [0 1 3 4 5 6 7 8] [2 9]\n",
            "Dados  : ['a' 'b' 'd' 'e' 'f' 'g' 'h' 'i'] ['c' 'j']\n",
            "Índices: [0 1 2 3 5 7 8 9] [4 6]\n",
            "Dados  : ['a' 'b' 'c' 'd' 'f' 'h' 'i' 'j'] ['e' 'g']\n",
            "Índices: [1 2 4 5 6 7 8 9] [0 3]\n",
            "Dados  : ['b' 'c' 'e' 'f' 'g' 'h' 'i' 'j'] ['a' 'd']\n",
            "Índices: [0 2 3 4 5 6 8 9] [1 7]\n",
            "Dados  : ['a' 'c' 'd' 'e' 'f' 'g' 'i' 'j'] ['b' 'h']\n",
            "Índices: [0 1 2 3 4 6 7 9] [5 8]\n",
            "Dados  : ['a' 'b' 'c' 'd' 'e' 'g' 'h' 'j'] ['f' 'i']\n"
          ]
        }
      ]
    },
    {
      "cell_type": "markdown",
      "metadata": {
        "id": "HxwcNTkFaE89"
      },
      "source": [
        "## Validação Cruzada k-folds com classe\n",
        "\n",
        "https://scikit-learn.org/stable/modules/generated/sklearn.model_selection.StratifiedKFold.html\n",
        "\n",
        "https://medium.com/@eijaz/holdout-vs-cross-validation-in-machine-learning-7637112d3f8f"
      ]
    },
    {
      "cell_type": "code",
      "metadata": {
        "id": "1NP3PB4baFIY",
        "colab": {
          "base_uri": "https://localhost:8080/"
        },
        "outputId": "834e5390-a35d-4b49-84ef-411dbe3f079f"
      },
      "source": [
        "# Import das bibliotecas\n",
        "import numpy as np\n",
        "from sklearn.model_selection import StratifiedKFold\n",
        "\n",
        "#Conjunto de dados\n",
        "X =  np.array([\"a\", \"b\", \"c\", \"d\", \"e\", \"f\", \"g\", \"h\", \"i\", \"j\"])\n",
        "y =  np.array([\"0\", \"0\", \"1\", \"0\", \"0\", \"0\", \"1\", \"1\", \"1\", \"1\"])\n",
        "\n",
        "print(\"Total do conjunto de dados  :\", len(X))\n",
        "print(\"Total do conjunto de rótulos:\", len(y))\n",
        "print()\n",
        "\n",
        "# Divisão em k folds em quantidades semelhantes de y\n",
        "# shuffle, embaralha cada amostra\n",
        "# Quando shuffle igual True, random_state afeta a ordem dos índices,\n",
        "# que controla a aleatoriedade de cada dobra.\n",
        "skf = StratifiedKFold(n_splits=5,  random_state=True, shuffle=True)\n",
        "print(skf)\n",
        "\n",
        "# Percorre os indices do conjunto de dados\n",
        "for train_index, test_index in skf.split(X, y):\n",
        "  print(\"Índices:\", train_index, test_index)\n",
        "\n",
        "  # Recupera os dados do fold\n",
        "  X_train, X_test = X[train_index], X[test_index]\n",
        "  print(\"Dados  :\", X_train, X_test)\n",
        "  y_train, y_test = y[train_index], y[test_index]\n",
        "  print(\"Alvos  :\", y_train, y_test)"
      ],
      "execution_count": 141,
      "outputs": [
        {
          "output_type": "stream",
          "name": "stdout",
          "text": [
            "Total do conjunto de dados  : 10\n",
            "Total do conjunto de rótulos: 10\n",
            "\n",
            "StratifiedKFold(n_splits=5, random_state=True, shuffle=True)\n",
            "Índices: [0 1 3 5 6 7 8 9] [2 4]\n",
            "Dados  : ['a' 'b' 'd' 'f' 'g' 'h' 'i' 'j'] ['c' 'e']\n",
            "Alvos  : ['0' '0' '0' '0' '1' '1' '1' '1'] ['1' '0']\n",
            "Índices: [0 2 3 4 5 6 7 8] [1 9]\n",
            "Dados  : ['a' 'c' 'd' 'e' 'f' 'g' 'h' 'i'] ['b' 'j']\n",
            "Alvos  : ['0' '1' '0' '0' '0' '1' '1' '1'] ['0' '1']\n",
            "Índices: [1 2 3 4 5 7 8 9] [0 6]\n",
            "Dados  : ['b' 'c' 'd' 'e' 'f' 'h' 'i' 'j'] ['a' 'g']\n",
            "Alvos  : ['0' '1' '0' '0' '0' '1' '1' '1'] ['0' '1']\n",
            "Índices: [0 1 2 3 4 6 7 9] [5 8]\n",
            "Dados  : ['a' 'b' 'c' 'd' 'e' 'g' 'h' 'j'] ['f' 'i']\n",
            "Alvos  : ['0' '0' '1' '0' '0' '1' '1' '1'] ['0' '1']\n",
            "Índices: [0 1 2 4 5 6 8 9] [3 7]\n",
            "Dados  : ['a' 'b' 'c' 'e' 'f' 'g' 'i' 'j'] ['d' 'h']\n",
            "Alvos  : ['0' '0' '1' '0' '0' '1' '1' '1'] ['0' '1']\n"
          ]
        }
      ]
    },
    {
      "cell_type": "markdown",
      "metadata": {
        "id": "cuFkX947giY9"
      },
      "source": [
        "## Curva ROC\n",
        "\n",
        "https://www.iditect.com/how-to/53353923.html\n",
        "\n",
        "https://www.kaggle.com/nicholasgah/obtain-optimal-probability-threshold-using-roc\n",
        "\n",
        "https://stackoverflow.com/questions/28719067/roc-curve-and-cut-off-point-python"
      ]
    },
    {
      "cell_type": "markdown",
      "source": [
        "## Análise do Componente Principal, Principal Componente Analysis - PCA\n",
        "\n",
        "https://leandrocruvinel.medium.com/pca-na-m%C3%A3o-e-no-python-d559e9c8f053\n",
        "\n",
        "https://leandrocl2005.github.io/pca_na_mao_e_no_python/\n",
        "\n",
        "https://www.youtube.com/watch?v=p4bvCFygfW0"
      ],
      "metadata": {
        "id": "0p4R2IYV_3Bu"
      }
    },
    {
      "cell_type": "markdown",
      "source": [
        "### Calculando passo a passo"
      ],
      "metadata": {
        "id": "_uGj_sChI_JJ"
      }
    },
    {
      "cell_type": "code",
      "source": [
        "# Import das bibliotecas\n",
        "import pandas as pd\n",
        "import numpy as np\n",
        "import seaborn as sns\n",
        "import matplotlib.pyplot as plt\n",
        "\n",
        "# Matriz com os dados\n",
        "df = pd.DataFrame({\n",
        "    'var1':[1,3,1,2,2,1],\n",
        "    'var2':[2,4,3,4,3,4],\n",
        "    'alvo':[0,1,0,1,1,1]\n",
        "})\n",
        "\n",
        "X = df.drop(labels=\"alvo\",axis=1)\n",
        "y = df['alvo']\n",
        "\n",
        "# média por coluna de X\n",
        "mean_vec = np.mean(X, axis=0)\n",
        "print(mean_vec)\n",
        "\n",
        "# subtraindo a média da respectiva coluna de X\n",
        "M = X - mean_vec\n",
        "\n",
        "# calculando matriz de covariância\n",
        "C = M.T.dot(M) / (X.shape[0]-1)\n",
        "\n",
        "print(C)\n",
        "\n",
        "# determinando auto-valores e auto-vetores\n",
        "autovalores, autovetores = np.linalg.eig(C)\n",
        "\n",
        "# imprimindo auto-valores de C\n",
        "print(\"\\nAuto-valores:\")\n",
        "print(autovalores)\n",
        "print()\n",
        "\n",
        "# imprimindo autovetores\n",
        "print(\"Auto-vetores:\")\n",
        "print(autovetores)\n",
        "\n",
        "# ordenando em ordem descrecente\n",
        "pares_de_autos = [\n",
        "    (\n",
        "        np.abs(autovalores[i]),\n",
        "        autovetores[:,i]\n",
        "    ) for i in range(len(autovalores))\n",
        "]\n",
        "pares_de_autos.sort()\n",
        "pares_de_autos.reverse()\n",
        "\n",
        "# visualizando graficamente os dados originais\n",
        "sns.pairplot(\n",
        "    df,\n",
        "    vars = ['var1','var2'],\n",
        "    hue='alvo',\n",
        "    diag_kind=\"hist\"\n",
        ")\n",
        "plt.show()\n",
        "\n",
        "# calculando a variância explicada e a variância explicada cumulativa\n",
        "total = sum(autovalores)\n",
        "var_exp = [\n",
        "    (i / total)*100 for i in sorted(\n",
        "        autovalores, reverse=True\n",
        "    )\n",
        "]\n",
        "cum_var_exp = np.cumsum(var_exp)\n",
        "\n",
        "# visualizando as informações\n",
        "x = [\n",
        "    'PC %s' %i for i in range(\n",
        "        1,len(autovalores)+1\n",
        "    )\n",
        "]\n",
        "df_temp = pd.DataFrame(\n",
        "    {'auto-valores': autovalores,\n",
        "     'cum_var_exp':cum_var_exp,\n",
        "     'var_exp':var_exp,\n",
        "     'Componente':x}\n",
        ")\n",
        "print(df_temp)\n",
        "print()\n",
        "print(\"Auto-vetores\")\n",
        "for autovetor in [p[1] for p in pares_de_autos]:\n",
        "    print(autovetor)\n",
        "print()\n",
        "\n",
        "# visualizando graficamente os dados através da mudança de base\n",
        "# considerando base de auto-vetores\n",
        "n_componentes = 2 # projetamos nas 2 (duas) primeiras componentes\n",
        "autovetores = [p[1] for p in pares_de_autos]\n",
        "A = autovetores[0:n_componentes]\n",
        "X = np.dot(X,np.array(A).T)\n",
        "novo_df = pd.DataFrame(X,columns=['pc1','pc2'])\n",
        "novo_df['alvo'] = df['alvo']\n",
        "sns.pairplot(\n",
        "    novo_df, vars = ['pc1','pc2'], hue='alvo', diag_kind=\"hist\"\n",
        ")\n",
        "plt.show()"
      ],
      "metadata": {
        "colab": {
          "base_uri": "https://localhost:8080/",
          "height": 1000
        },
        "id": "4oAuOZ1AJB3G",
        "outputId": "b51f8fe1-d13b-491e-b357-626f7aeccbb1"
      },
      "execution_count": 142,
      "outputs": [
        {
          "output_type": "stream",
          "name": "stdout",
          "text": [
            "var1    1.67\n",
            "var2    3.33\n",
            "dtype: float64\n",
            "      var1  var2\n",
            "var1  0.67  0.33\n",
            "var2  0.33  0.67\n",
            "\n",
            "Auto-valores:\n",
            "[1.         0.33333333]\n",
            "\n",
            "Auto-vetores:\n",
            "[[ 0.70710678 -0.70710678]\n",
            " [ 0.70710678  0.70710678]]\n"
          ]
        },
        {
          "output_type": "display_data",
          "data": {
            "text/plain": [
              "<Figure size 558.875x500 with 6 Axes>"
            ],
            "image/png": "[encoded data removed]"
          },
          "metadata": {}
        },
        {
          "output_type": "stream",
          "name": "stdout",
          "text": [
            "   auto-valores  cum_var_exp  var_exp Componente\n",
            "0          1.00         75.0     75.0       PC 1\n",
            "1          0.33        100.0     25.0       PC 2\n",
            "\n",
            "Auto-vetores\n",
            "[0.70710678 0.70710678]\n",
            "[-0.70710678  0.70710678]\n",
            "\n"
          ]
        },
        {
          "output_type": "display_data",
          "data": {
            "text/plain": [
              "<Figure size 558.875x500 with 6 Axes>"
            ],
            "image/png": "[encoded data removed]"
          },
          "metadata": {}
        }
      ]
    },
    {
      "cell_type": "markdown",
      "source": [
        "### Utilizando a biblioteca sklearn"
      ],
      "metadata": {
        "id": "SypxYRloI6IX"
      }
    },
    {
      "cell_type": "code",
      "source": [
        "# Import das bibliotecas\n",
        "import pandas as pd\n",
        "import seaborn as sns\n",
        "import matplotlib.pyplot as plt\n",
        "from sklearn.decomposition import PCA\n",
        "\n",
        "# Matriz com os dados\n",
        "df = pd.DataFrame({\n",
        "    'var1':[1,3,1,2,2,1],\n",
        "    'var2':[2,4,3,4,3,4],\n",
        "    'alvo':[0,1,0,1,1,1]\n",
        "})\n",
        "\n",
        "X = df.drop(labels=\"alvo\",axis=1)\n",
        "y = df['alvo']\n",
        "\n",
        "# PCA\n",
        "pca = PCA(n_components = 2)\n",
        "pca.fit(X)\n",
        "\n",
        "print(\"Auto-valores:\")\n",
        "print(pca.explained_variance_)\n",
        "print()\n",
        "\n",
        "print(\"Auto-vetores:\")\n",
        "print(pca.components_)\n",
        "print()\n",
        "\n",
        "print(\"Variância explicada\")\n",
        "print(pca.explained_variance_ratio_)\n",
        "\n",
        "# Transformando X\n",
        "X = pca.transform(X)\n",
        "\n",
        "# Visualizando\n",
        "novo_df = pd.DataFrame(X, columns=['pc1', 'pc2'])\n",
        "novo_df['alvo'] = df['alvo']\n",
        "\n",
        "sns.pairplot(novo_df, vars = ['pc1','pc2'], hue ='alvo', diag_kind='hist')\n",
        "plt.show()"
      ],
      "metadata": {
        "colab": {
          "base_uri": "https://localhost:8080/",
          "height": 669
        },
        "id": "56mgEczcl7Gb",
        "outputId": "9a3c9076-523a-447e-95a2-027ce1832255"
      },
      "execution_count": 143,
      "outputs": [
        {
          "output_type": "stream",
          "name": "stdout",
          "text": [
            "Auto-valores:\n",
            "[1.         0.33333333]\n",
            "\n",
            "Auto-vetores:\n",
            "[[-0.70710678 -0.70710678]\n",
            " [-0.70710678  0.70710678]]\n",
            "\n",
            "Variância explicada\n",
            "[0.75 0.25]\n"
          ]
        },
        {
          "output_type": "display_data",
          "data": {
            "text/plain": [
              "<Figure size 558.875x500 with 6 Axes>"
            ],
            "image/png": "[encoded data removed]"
          },
          "metadata": {}
        }
      ]
    }
  ]
}