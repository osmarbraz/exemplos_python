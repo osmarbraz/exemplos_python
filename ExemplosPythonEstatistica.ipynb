{
  "nbformat": 4,
  "nbformat_minor": 0,
  "metadata": {
    "colab": {
      "name": "ExemplosPythonEstatistica.ipynb",
      "provenance": [],
      "collapsed_sections": [],
      "toc_visible": true,
      "include_colab_link": true
    },
    "kernelspec": {
      "name": "python3",
      "display_name": "Python 3"
    }
  },
  "cells": [
    {
      "cell_type": "markdown",
      "metadata": {
        "id": "view-in-github",
        "colab_type": "text"
      },
      "source": [
        "<a href=\"https://colab.research.google.com/github/osmarbraz/exemplos_python/blob/master/ExemplosPythonEstatistica.ipynb\" target=\"_parent\"><img src=\"https://colab.research.google.com/assets/colab-badge.svg\" alt=\"Open In Colab\"/></a>"
      ]
    },
    {
      "cell_type": "markdown",
      "metadata": {
        "id": "xY84ChCNzmQQ"
      },
      "source": [
        "# Exemplos Estatísticas Python no Google Colaboratory"
      ]
    },
    {
      "cell_type": "markdown",
      "metadata": {
        "id": "KoMscP0Jo5rw"
      },
      "source": [
        "Estatística é a parte da ciência responsável pela coleta, organização e interpretação de dados experimentais e pela extrapolação dos resultados da amostra para a população. \n",
        "\n",
        "Exemplos em python:\n",
        "- Medidas de tendência central;\n",
        "- Mínimos quadrados;\n",
        "- Estatísticas de conjuntos;\n",
        "- Softmax;\n",
        "- Métricas;\n",
        "- Binary Cross-Entropy;\n",
        "- Validação cruzada(K-folds sem classe);\n",
        "- Validação Cruzada(K-folds com classe).\n",
        "\n",
        "-----------------------------------------\n",
        "**Guia Colab Iniciante:**\n",
        "\n",
        "https://medium.com/machina-sapiens/google-colab-guia-do-iniciante-334d70aad531\n",
        "\n",
        "**Documentação oficial:**\n",
        "\n",
        "https://colab.research.google.com/github/jakevdp/PythonDataScienceHandbook/blob/master/notebooks/01.01-Help-And-Documentation.ipynb\n",
        "\n",
        "**Características :**\n",
        "\n",
        "https://colab.research.google.com/notebooks/basic_features_overview.ipynb\n",
        "\n"
      ]
    },
    {
      "cell_type": "markdown",
      "metadata": {
        "id": "nrlMCnG3a6Lt"
      },
      "source": [
        "Precisão e acurácia\n",
        "\n",
        "https://medium.com/@vitorborbarodrigues/m%C3%A9tricas-de-avalia%C3%A7%C3%A3o-acur%C3%A1cia-precis%C3%A3o-recall-quais-as-diferen%C3%A7as-c8f05e0a513c"
      ]
    },
    {
      "cell_type": "markdown",
      "metadata": {
        "id": "S0izDto9A2Bi"
      },
      "source": [
        "##Medidas de tendência central\n",
        "\n",
        "Com as bibliotecas Numpy e Stats.\n",
        "\n",
        "https://medium.com/@naiaracerqueira/estat%C3%ADstica-descritiva-1-ed523dffb99f\n",
        "\n",
        "https://www.w3schools.com/python/python_ml_mean_median_mode.asp"
      ]
    },
    {
      "cell_type": "markdown",
      "metadata": {
        "id": "Y0xEWmb8Ca5-"
      },
      "source": [
        "###Valores"
      ]
    },
    {
      "cell_type": "code",
      "metadata": {
        "id": "iFZkzj_nA3zO",
        "colab": {
          "base_uri": "https://localhost:8080/"
        },
        "outputId": "ad3b252b-bd46-400e-faae-9fe03ec4b0cd"
      },
      "source": [
        "# Declara uma lista com os valores dos números a serem analisados\n",
        "lista = [1,2,7,4,1,9,5,3,9,2,6,8,9,4,2,5,6,7,6,8]\n",
        "\n",
        "# Mostra a quantidade de elementos\n",
        "print(len(lista))"
      ],
      "execution_count": 1,
      "outputs": [
        {
          "output_type": "stream",
          "name": "stdout",
          "text": [
            "20\n"
          ]
        }
      ]
    },
    {
      "cell_type": "markdown",
      "metadata": {
        "id": "ClFiMjf-C2RE"
      },
      "source": [
        "###Média aritmética.\n",
        "\n",
        "Indica o valor onde estão concentrados os dados de um conjunto de valores.\n",
        "\n",
        "Representado por $\\mu$ quando se refere à população e por $\\bar{X}$ quando se refere à amostra.\n",
        "\n",
        "# $$\\mu = \\frac 1n\\sum_{i=1}^{n}X_i$$\n",
        "\n",
        "onde \n",
        "\n",
        "$n$ = número de observações (registros)\n",
        "\n",
        "$X_i$ = valor da i-ésima observação (registro)"
      ]
    },
    {
      "cell_type": "code",
      "metadata": {
        "id": "_ROnzDZuDvFw",
        "colab": {
          "base_uri": "https://localhost:8080/"
        },
        "outputId": "c048de7b-6793-43e4-b97f-a002c7e6ac6f"
      },
      "source": [
        "# Declara uma lista com os números a serem analisados\n",
        "lista = [1,2,7,4,1,9,5,3,9,2,6,8,9,4,2,5,6,7,6,8]\n",
        "\n",
        "# Somatório\n",
        "soma = 0\n",
        "# Percorre a lista\n",
        "for x in lista:\n",
        "  soma = soma + x\n",
        "\n",
        "# Calcula a média\n",
        "media = soma/len(lista)\n",
        "print(\"Média aritmética: \", media)"
      ],
      "execution_count": 2,
      "outputs": [
        {
          "output_type": "stream",
          "name": "stdout",
          "text": [
            "Média aritmética:  5.2\n"
          ]
        }
      ]
    },
    {
      "cell_type": "markdown",
      "metadata": {
        "id": "elgO1En-EQcB"
      },
      "source": [
        "usando numpy"
      ]
    },
    {
      "cell_type": "code",
      "metadata": {
        "id": "Fwg6NtasDvAa",
        "colab": {
          "base_uri": "https://localhost:8080/"
        },
        "outputId": "87a7642f-0a98-4e82-fa55-62bd54523243"
      },
      "source": [
        "# Import das bibliotecas\n",
        "import numpy as np\n",
        "\n",
        "# Declara uma lista com os números a serem analisados\n",
        "lista = [1,2,7,4,1,9,5,3,9,2,6,8,9,4,2,5,6,7,6,8]\n",
        "\n",
        "# Usa o método mean do numpy\n",
        "media = np.mean(lista)\n",
        "\n",
        "print(\"Média aritmética: \", media)"
      ],
      "execution_count": 3,
      "outputs": [
        {
          "output_type": "stream",
          "name": "stdout",
          "text": [
            "Média aritmética:  5.2\n"
          ]
        }
      ]
    },
    {
      "cell_type": "markdown",
      "metadata": {
        "id": "IkevWqiATGoS"
      },
      "source": [
        "###Mediana\n",
        "\n",
        "Valor que separa a metade superior da metade inferior de uma distribuição de dados, ou o valor no centro da distribuição. \n",
        "\n",
        "Para obtermos a mediana:\n",
        "\n",
        "1. Ordenar o conjunto de dados;\n",
        "2. Identificar o número de observações do conjunto de dados ($n$);\n",
        "3. Identicar o elemento mediano:\n",
        "\n",
        "> Quando $n$ for ímpar, a posição do elemento mediano será obtida da seguinte forma:\n",
        "\n",
        "$$Elemento_{Md} = \\frac{n+1}2$$\n",
        "\n",
        "> Quando $n$ for par, a posição do elemento mediano será obtida da seguinte forma:\n",
        "\n",
        "$$Elemento_{Md} = \\frac{n}2$$\n",
        "\n",
        "4. Obter a mediana:\n",
        "\n",
        "> Quando $n$ for ímpar:\n",
        "\n",
        "$$Md = X_{Elemento_{Md}}$$\n",
        "\n",
        "> Quando $n$ for par:\n",
        "\n",
        "\n",
        "# $$Md = \\frac{X_{Elemento_{Md}} + X_{Elemento_{Md}+1}}2$$\n",
        "***"
      ]
    },
    {
      "cell_type": "code",
      "metadata": {
        "id": "X1bx9tnvTMly",
        "colab": {
          "base_uri": "https://localhost:8080/"
        },
        "outputId": "c3221025-6f8f-4b82-c070-aaa933045525"
      },
      "source": [
        "# Import das bibliotecas\n",
        "import numpy as np\n",
        "\n",
        "# Declara uma lista com os números a serem analisados\n",
        "lista = [1,2,7,4,1,9,5,3,9,2,6,8,9,4,2,5,6,7,6,8]\n",
        "\n",
        "# Usa o método median do numpy\n",
        "mediana = np.median(lista)\n",
        "\n",
        "print(\"Mediana: \", mediana)"
      ],
      "execution_count": 4,
      "outputs": [
        {
          "output_type": "stream",
          "name": "stdout",
          "text": [
            "Mediana:  5.5\n"
          ]
        }
      ]
    },
    {
      "cell_type": "markdown",
      "metadata": {
        "id": "bnVquzpyIyhp"
      },
      "source": [
        "###Moda\n",
        "\n",
        "O valor que mais se repete no conjunto de dados."
      ]
    },
    {
      "cell_type": "code",
      "metadata": {
        "id": "dUeGpiybIzqy",
        "colab": {
          "base_uri": "https://localhost:8080/"
        },
        "outputId": "fda56add-eae5-44b8-8601-4bea814d0eb9"
      },
      "source": [
        "# Import das bibliotecas\n",
        "import numpy as np\n",
        "from scipy import stats\n",
        "\n",
        "# Declara uma lista com os números a serem analisados\n",
        "lista = [1,2,7,4,1,9,5,3,9,2,6,8,9,4,2,5,6,7,6,8]\n",
        "\n",
        "# Usa o método mode do stats\n",
        "moda = stats.mode(lista)\n",
        "\n",
        "print(\"Moda: \", moda[0])"
      ],
      "execution_count": 5,
      "outputs": [
        {
          "output_type": "stream",
          "name": "stdout",
          "text": [
            "Moda:  [2]\n"
          ]
        }
      ]
    },
    {
      "cell_type": "markdown",
      "metadata": {
        "id": "dnwL9bfKTaED"
      },
      "source": [
        "###Amplitude/Dispersão\n",
        "\n",
        "Diferença entre o maior e o menor valor de um conjunto de dados. \n",
        "\n",
        "Para fazer este cálculo no Pandas, usaremos as funções max() e min(), que obviamente, retornam o valor máximo e mínimo de um conjunto de dados, e depois subtrairemos um do outro:"
      ]
    },
    {
      "cell_type": "code",
      "metadata": {
        "id": "ENNUeRPnTbq6",
        "colab": {
          "base_uri": "https://localhost:8080/"
        },
        "outputId": "68ce1158-e055-4b03-f014-fb949e3a2c5c"
      },
      "source": [
        "# Import das bibliotecas\n",
        "import numpy as np\n",
        "\n",
        "# Declara uma lista com os números a serem analisados\n",
        "lista = [1,2,7,4,1,9,5,3,9,2,6,8,9,4,2,5,6,7,6,8]\n",
        "\n",
        "# Usa o método max do stats\n",
        "maior = np.max(lista)\n",
        "# Usa o método min do stats\n",
        "menor = np.min(lista)\n",
        "\n",
        "# Calcula a amplitude\n",
        "amplitude = maior - menor\n",
        "\n",
        "print(\"Amplitude: \", amplitude)\n",
        "print(\"Maior: \", maior)\n",
        "print(\"Menor: \", menor)"
      ],
      "execution_count": 6,
      "outputs": [
        {
          "output_type": "stream",
          "name": "stdout",
          "text": [
            "Amplitude:  8\n",
            "Maior:  9\n",
            "Menor:  1\n"
          ]
        }
      ]
    },
    {
      "cell_type": "markdown",
      "metadata": {
        "id": "50ZU7evSdCXb"
      },
      "source": [
        "### Regra de Sturges\n",
        "\n",
        "É um critério usado para determinar o número de classes ou intervalos necessários para representar graficamente um conjunto de dados estatísticos. Esta regra foi enunciada em 1926 pelo matemático alemão Herbert Sturges.\n",
        "\n",
        "$k = 1 + \\frac {10}{3}\\log_{10}n$"
      ]
    },
    {
      "cell_type": "code",
      "metadata": {
        "id": "b_FjVunldEHs",
        "colab": {
          "base_uri": "https://localhost:8080/"
        },
        "outputId": "a0556f81-9d21-4f57-8e46-5d2c3bd3d98c"
      },
      "source": [
        "# Import das bibliotecas\n",
        "import math\n",
        "\n",
        "# Declara uma lista com os números a serem analisados\n",
        "lista = [1,2,7,4,1,9,5,3,9,2,6,8,9,4,2,5,6,7,6,8]\n",
        "\n",
        "# Recupera a quantidade de elmeentos da lista\n",
        "n = len(lista)\n",
        "\n",
        "# Calcula k\n",
        "k = 1 + (10/3 * math.log10(n))\n",
        "\n",
        "print(\"k=\",k)"
      ],
      "execution_count": 7,
      "outputs": [
        {
          "output_type": "stream",
          "name": "stdout",
          "text": [
            "k= 5.336766652213271\n"
          ]
        }
      ]
    },
    {
      "cell_type": "markdown",
      "metadata": {
        "id": "64yz-HJNbXQW"
      },
      "source": [
        "###Medidas de dispersão"
      ]
    },
    {
      "cell_type": "markdown",
      "metadata": {
        "id": "FloVQTFCIiFl"
      },
      "source": [
        "####Variância\n",
        "\n",
        "Expressa quanto os dados de um conjunto estão afastados da sua média.\n",
        "\n",
        "Uma amostra é sempre um grupo menor ou um subconjunto dentro de uma população.\n",
        "\n",
        "* Variância populacional\n",
        "\n",
        "$$\\sigma^2 = \\frac 1n\\sum_{i=1}^{n}(X_i-\\mu)^2$$\n",
        "\n",
        "* Variância amostral\n",
        "\n",
        "$$S^2 = \\frac 1{n-1}\\sum_{i=1}^{n}(X_i-\\bar{X})^2$$"
      ]
    },
    {
      "cell_type": "code",
      "metadata": {
        "id": "2bDjwEGlIj9h",
        "colab": {
          "base_uri": "https://localhost:8080/"
        },
        "outputId": "8ee41d48-f1fc-441e-bae6-6354d5fad354"
      },
      "source": [
        "# Import das bibliotecas\n",
        "import numpy as np\n",
        "\n",
        "# Declara uma lista com os números a serem analisados\n",
        "lista = [1,2,7,4,1,9,5,3,9,2,6,8,9,4,2,5,6,7,6,8]\n",
        "\n",
        "# Usa o método var do numpy\n",
        "media = np.mean(lista)\n",
        "\n",
        "# Usa o método var do numpy\n",
        "variancia = np.var(lista)\n",
        "\n",
        "print(\"Variância: \", variancia)\n",
        "print(\"Media: \", media)"
      ],
      "execution_count": 8,
      "outputs": [
        {
          "output_type": "stream",
          "name": "stdout",
          "text": [
            "Variância:  7.06\n",
            "Media:  5.2\n"
          ]
        }
      ]
    },
    {
      "cell_type": "markdown",
      "metadata": {
        "id": "6wKjLKKGVONQ"
      },
      "source": [
        "Quanto menor a variância mais próximo os valores estão em relação a média."
      ]
    },
    {
      "cell_type": "markdown",
      "metadata": {
        "id": "hZMsJIT6IQFz"
      },
      "source": [
        "####Desvio padrão\n",
        "\n",
        "Indica quanto os dados estão afastados da média. Um valor de desvio padrão alto indica que os valores estão mais espalhados, mais longe da média, e um desvio padrão baixo indica que os valores estão mais próximos da média. \n",
        "\n",
        "Raiz quadrada da variância.\n",
        "\n",
        "* Desvio padrão populacional\n",
        "\n",
        "$$\\sigma = \\sqrt{\\frac 1n\\sum_{i=1}^{n}(X_i-\\mu)^2} \\Longrightarrow \\sigma = \\sqrt{\\sigma^2}$$\n",
        "\n",
        "* Desvio padrão amostral\n",
        "\n",
        "$$S = \\sqrt{\\frac 1{n-1}\\sum_{i=1}^{n}(X_i-\\bar{X})^2} \\Longrightarrow S = \\sqrt{S^2}$$"
      ]
    },
    {
      "cell_type": "code",
      "metadata": {
        "id": "EbUnAt2zIRnx",
        "colab": {
          "base_uri": "https://localhost:8080/"
        },
        "outputId": "a8c44a67-4b3d-4875-a9e3-8018837308f9"
      },
      "source": [
        "# Import das bibliotecas\n",
        "import numpy as np\n",
        "\n",
        "# Declara uma lista com os números a serem analisados\n",
        "lista = [1,2,7,4,1,9,5,3,9,2,6,8,9,4,2,5,6,7,6,8]\n",
        "\n",
        "# Usa o método std do numpy\n",
        "desviopadrao = np.std(lista)\n",
        "\n",
        "print(\"Desvio padrão: \", desviopadrao)"
      ],
      "execution_count": 9,
      "outputs": [
        {
          "output_type": "stream",
          "name": "stdout",
          "text": [
            "Desvio padrão:  2.6570660511172846\n"
          ]
        }
      ]
    },
    {
      "cell_type": "markdown",
      "metadata": {
        "id": "MDYt4hKhR5BY"
      },
      "source": [
        "####Coeficiente de variação\n",
        "\n",
        "Utilizado para comparação entre amostras; é uma medida adimensional."
      ]
    },
    {
      "cell_type": "code",
      "metadata": {
        "id": "yY4soFBIR9zD",
        "colab": {
          "base_uri": "https://localhost:8080/"
        },
        "outputId": "ddb5553b-3e9b-4b4c-afde-164364b0a47f"
      },
      "source": [
        "# Import das bibliotecas\n",
        "import numpy as np\n",
        "\n",
        "# Declara uma lista com os números a serem analisados\n",
        "lista = [1,2,7,4,1,9,5,3,9,2,6,8,9,4,2,5,6,7,6,8]\n",
        "\n",
        "media = np.mean(lista)\n",
        "variancia = np.var(lista)\n",
        "\n",
        "coeficiente = variancia/media\n",
        "\n",
        "print(\"Coeficiente: \", coeficiente)"
      ],
      "execution_count": 10,
      "outputs": [
        {
          "output_type": "stream",
          "name": "stdout",
          "text": [
            "Coeficiente:  1.3576923076923075\n"
          ]
        }
      ]
    },
    {
      "cell_type": "markdown",
      "metadata": {
        "id": "_kzjO4q_bHdL"
      },
      "source": [
        "###Medidas separatrizes"
      ]
    },
    {
      "cell_type": "markdown",
      "metadata": {
        "id": "w5WXoYHVLrQZ"
      },
      "source": [
        "####Percentil\n",
        "\n",
        "Divide o conjunto de dados em 100 partes iguais, ou seja, em pedaços de tamanhos iguais que contêm 1% dos dado."
      ]
    },
    {
      "cell_type": "code",
      "metadata": {
        "id": "AyGLXr4vLs6E",
        "colab": {
          "base_uri": "https://localhost:8080/"
        },
        "outputId": "890a7228-0f2c-40c1-9578-c64f05e8cbd9"
      },
      "source": [
        "# Import das bibliotecas\n",
        "import numpy as np\n",
        "\n",
        "# Declara uma lista com os números a serem analisados\n",
        "lista = [1,2,7,4,1,9,5,3,9,2,6,8,9,4,2,5,6,7,6,8]\n",
        "\n",
        "# Usa o método percentil do numpy\n",
        "P0 = np.percentile(lista, 0)\n",
        "P20 = np.percentile(lista, 20)\n",
        "P40 = np.percentile(lista, 40)\n",
        "P50 = np.percentile(lista, 50)\n",
        "P60 = np.percentile(lista, 60)\n",
        "P80 = np.percentile(lista, 80)\n",
        "P100 = np.percentile(lista, 100)\n",
        "\n",
        "print(\"P0: \", P0)\n",
        "print(\"P20: \", P20)\n",
        "print(\"P40: \", P40)\n",
        "print(\"P50: \", P50)\n",
        "print(\"P60: \", P60)\n",
        "print(\"P100: \", P100)"
      ],
      "execution_count": 11,
      "outputs": [
        {
          "output_type": "stream",
          "name": "stdout",
          "text": [
            "P0:  1.0\n",
            "P20:  2.0\n",
            "P40:  4.6000000000000005\n",
            "P50:  5.5\n",
            "P60:  6.0\n",
            "P100:  9.0\n"
          ]
        }
      ]
    },
    {
      "cell_type": "markdown",
      "metadata": {
        "id": "dLuBSNHBQQCS"
      },
      "source": [
        "####Quartil\n",
        "\n",
        "Divide o conjunto de dados em 4 partes iguais que contém 25% dos dados."
      ]
    },
    {
      "cell_type": "code",
      "metadata": {
        "id": "8GmAslRzQRTh",
        "colab": {
          "base_uri": "https://localhost:8080/"
        },
        "outputId": "eb0c88bd-2ac3-469c-e5c1-177ec1b33f9d"
      },
      "source": [
        "# Import das bibliotecas\n",
        "import numpy as np\n",
        "\n",
        "# Declara uma lista com os números a serem analisados\n",
        "lista = [1,2,7,4,1,9,5,3,9,2,6,8,9,4,2,5,6,7,6,8]\n",
        "\n",
        "# Usa o método quantile do numpy\n",
        "Q1 = np.quantile(lista, 0.25)\n",
        "Q2 = np.quantile(lista, 0.50)\n",
        "Q3 = np.quantile(lista, 0.75)\n",
        "Q4 = np.quantile(lista, 1)\n",
        "\n",
        "print(\"Q1: \", Q1)\n",
        "print(\"Q2: \", Q2)\n",
        "print(\"Q3: \", Q3)\n",
        "print(\"Q4: \", Q4)"
      ],
      "execution_count": 12,
      "outputs": [
        {
          "output_type": "stream",
          "name": "stdout",
          "text": [
            "Q1:  2.75\n",
            "Q2:  5.5\n",
            "Q3:  7.25\n",
            "Q4:  9\n"
          ]
        }
      ]
    },
    {
      "cell_type": "markdown",
      "metadata": {
        "id": "QErar0OFMbD8"
      },
      "source": [
        "###Histograma\n",
        "\n",
        "É a representação gráfica de uma distribuição de frequências. É uma gráfico formado por um conjunto de retângulos colocados lado a lado, onde a área de cada retângulo é proporcional à frequência da classe que ele representa."
      ]
    },
    {
      "cell_type": "code",
      "metadata": {
        "id": "dvxaLoB1Mcn0",
        "colab": {
          "base_uri": "https://localhost:8080/",
          "height": 265
        },
        "outputId": "fd04655e-43a9-46de-8b76-97338bdd7ac2"
      },
      "source": [
        "# Import da biblioteca\n",
        "import numpy as np\n",
        "import matplotlib.pyplot as plt\n",
        "\n",
        "# Declara uma lista com os números a serem analisados\n",
        "lista = [1,2,7,4,1,9,5,3,9,2,6,8,9,4,2,5,6,7,6,8]\n",
        "\n",
        "# Cria um histograma com 5 classes\n",
        "plt.hist(lista, bins=5)\n",
        "\n",
        "# Mostra o gráfico\n",
        "plt.show()"
      ],
      "execution_count": 13,
      "outputs": [
        {
          "output_type": "display_data",
          "data": {
            "image/png": "[encoded data removed]",
            "text/plain": [
              "<Figure size 432x288 with 1 Axes>"
            ]
          },
          "metadata": {
            "needs_background": "light"
          }
        }
      ]
    },
    {
      "cell_type": "markdown",
      "metadata": {
        "id": "zGYbkbFLN-vY"
      },
      "source": [
        "###Assimetria\n",
        "\n",
        "Valores:\n",
        "* próxima de zero = normalmente distribuídos\n",
        "* valor > 0 = assimetria positiva, distribuição mais a direita. \n",
        "  * valores de moda < mediana < média\n",
        "* valor < 0 = assimetria negativa, distribuição mais a esquerda.\n",
        "  * valores de média < mediana < moda"
      ]
    },
    {
      "cell_type": "code",
      "metadata": {
        "id": "tDaRWa85OAh0",
        "colab": {
          "base_uri": "https://localhost:8080/"
        },
        "outputId": "a7586be1-b55f-4d25-e6f8-c7578f354a11"
      },
      "source": [
        "# Import das bibliotecas\n",
        "import numpy as np\n",
        "from scipy import stats\n",
        "\n",
        "# Declara uma lista com os números a serem analisados\n",
        "lista = [1,2,7,4,1,9,5,3,9,2,6,8,9,4,2,5,6,7,6,8]\n",
        "\n",
        "# Usa o método stats do scipy\n",
        "assimetria = stats.skew(lista)\n",
        "\n",
        "print(\"Assimetria: \", assimetria)"
      ],
      "execution_count": 14,
      "outputs": [
        {
          "output_type": "stream",
          "name": "stdout",
          "text": [
            "Assimetria:  -0.10363088547721301\n"
          ]
        }
      ]
    },
    {
      "cell_type": "markdown",
      "metadata": {
        "id": "oK9xoMYlOT90"
      },
      "source": [
        "###Curtose\n",
        "\n",
        "Grau de achatamento da curva, em relação a curva normal."
      ]
    },
    {
      "cell_type": "code",
      "metadata": {
        "id": "nNU-rGiIOYSH",
        "colab": {
          "base_uri": "https://localhost:8080/"
        },
        "outputId": "a7d2dd6b-984b-4796-93fe-852e31ef9f46"
      },
      "source": [
        "# Import das bibliotecas\n",
        "import numpy as np\n",
        "from scipy import stats\n",
        "\n",
        "# Declara uma lista com os números a serem analisados\n",
        "lista = [1,2,7,4,1,9,5,3,9,2,6,8,9,4,2,5,6,7,6,8]\n",
        "\n",
        "# Usa o método kurtosis do stats\n",
        "curtose = stats.kurtosis(lista)\n",
        "\n",
        "print(\"Curtose: \", curtose)"
      ],
      "execution_count": 15,
      "outputs": [
        {
          "output_type": "stream",
          "name": "stdout",
          "text": [
            "Curtose:  -1.2593713134685296\n"
          ]
        }
      ]
    },
    {
      "cell_type": "markdown",
      "metadata": {
        "id": "U9aiefdPVf6F"
      },
      "source": [
        "###Covariância\n",
        "\n",
        "A variância é utilizada quando queremos calcular a dispersão dos dados em relação a uma única variável, quando queremos calcular a dispersão com base em duas variáveis diferentes utilizamos a covariância."
      ]
    },
    {
      "cell_type": "code",
      "metadata": {
        "id": "j4aTmffPVhKT",
        "colab": {
          "base_uri": "https://localhost:8080/"
        },
        "outputId": "6f2feef0-bdae-4f8c-a967-2f3759c93c6f"
      },
      "source": [
        "dados = np.matrix([[1,2,7,4,1,9,5,3,9,2],\n",
        "                   [6,8,9,4,2,5,6,7,6,8]])\n",
        "\n",
        "# Usa o método cov do numpy\n",
        "covariancia = np.cov(dados)    \n",
        "\n",
        "print(\"Covariancia: \", covariancia)"
      ],
      "execution_count": 16,
      "outputs": [
        {
          "output_type": "stream",
          "name": "stdout",
          "text": [
            "Covariancia:  [[9.56666667 0.74444444]\n",
            " [0.74444444 4.32222222]]\n"
          ]
        }
      ]
    },
    {
      "cell_type": "markdown",
      "metadata": {
        "id": "CluORvGBVyvH"
      },
      "source": [
        "A coraviância indica que quando a variável da primeira linha aumenta, a variável da segunda linha também aumenta."
      ]
    },
    {
      "cell_type": "markdown",
      "metadata": {
        "id": "TggFBN02WMlV"
      },
      "source": [
        "###Correlação\n",
        "\n",
        "Indica como uma variável está relacionada com outra variável. "
      ]
    },
    {
      "cell_type": "code",
      "metadata": {
        "id": "jW6p5JzmWS0p",
        "colab": {
          "base_uri": "https://localhost:8080/"
        },
        "outputId": "dfdf3bbf-24c6-4640-9c28-35e783f452b7"
      },
      "source": [
        "dados = np.matrix([[1,2,7,4,1,9,5,3,9,2],\n",
        "                   [6,8,9,4,2,5,6,7,6,8]])\n",
        "\n",
        "# Usa o método corrcoef do numpy\n",
        "correlacao = np.corrcoef(dados)    \n",
        "\n",
        "print(\"Correlação: \", correlacao)"
      ],
      "execution_count": 17,
      "outputs": [
        {
          "output_type": "stream",
          "name": "stdout",
          "text": [
            "Correlação:  [[1.         0.11577064]\n",
            " [0.11577064 1.        ]]\n"
          ]
        }
      ]
    },
    {
      "cell_type": "markdown",
      "metadata": {
        "id": "6A31DxtXWk6o"
      },
      "source": [
        "Quanto mais próximo o valor for de 1, mais forte é a correlação entre as variáveis, se o valor for 0 então não há correlação e quanto mais próximo o valor for de -1, maior é a anticorrelação entre as variáveis."
      ]
    },
    {
      "cell_type": "markdown",
      "metadata": {
        "id": "FBrY6CxHXMux"
      },
      "source": [
        "###Estatística com pandas describe\n"
      ]
    },
    {
      "cell_type": "markdown",
      "metadata": {
        "id": "bjW1C9aNL05Y"
      },
      "source": [
        "#### Simples "
      ]
    },
    {
      "cell_type": "code",
      "metadata": {
        "colab": {
          "base_uri": "https://localhost:8080/",
          "height": 390
        },
        "id": "5igyOYOOXT15",
        "outputId": "5a17b46a-acdc-4594-87d6-b64a7781422d"
      },
      "source": [
        "# Import das bibliotecas\n",
        "import pandas as pd\n",
        "\n",
        "# Declara uma lista com os valores dos números a serem analisados\n",
        "lista = [1,2,7,4,1,9,5,3,9,2,6,8,9,4,2,5,6,7,6,8]\n",
        "grupo = ['A','A','A','B','A','A','B','A','B','A','A','B','A','B','A','A','B','A','B','A']\n",
        "\n",
        "# Formata os dados\n",
        "dados = {'numero': lista, 'grupo': grupo}\n",
        "\n",
        "# Mostra somente com duas casas decimais os números reais\n",
        "pd.set_option('precision', 2)\n",
        "\n",
        "# Exibe todas as linhas\n",
        "pd.set_option('display.max_rows', None)\n",
        "\n",
        "# Exibe todas as linhas\n",
        "pd.set_option('display.max_columns', None)\n",
        "\n",
        "# Cria um DataFrame das estatísticas a partir dos dados formatados\n",
        "df_stats = pd.DataFrame(data=dados)\n",
        "\n",
        "#Exibe as estatísticas\n",
        "df_stats.describe(include='all') "
      ],
      "execution_count": 18,
      "outputs": [
        {
          "output_type": "execute_result",
          "data": {
            "text/html": [
              "<div>\n",
              "<style scoped>\n",
              "    .dataframe tbody tr th:only-of-type {\n",
              "        vertical-align: middle;\n",
              "    }\n",
              "\n",
              "    .dataframe tbody tr th {\n",
              "        vertical-align: top;\n",
              "    }\n",
              "\n",
              "    .dataframe thead th {\n",
              "        text-align: right;\n",
              "    }\n",
              "</style>\n",
              "<table border=\"1\" class=\"dataframe\">\n",
              "  <thead>\n",
              "    <tr style=\"text-align: right;\">\n",
              "      <th></th>\n",
              "      <th>numero</th>\n",
              "      <th>grupo</th>\n",
              "    </tr>\n",
              "  </thead>\n",
              "  <tbody>\n",
              "    <tr>\n",
              "      <th>count</th>\n",
              "      <td>20.00</td>\n",
              "      <td>20</td>\n",
              "    </tr>\n",
              "    <tr>\n",
              "      <th>unique</th>\n",
              "      <td>NaN</td>\n",
              "      <td>2</td>\n",
              "    </tr>\n",
              "    <tr>\n",
              "      <th>top</th>\n",
              "      <td>NaN</td>\n",
              "      <td>A</td>\n",
              "    </tr>\n",
              "    <tr>\n",
              "      <th>freq</th>\n",
              "      <td>NaN</td>\n",
              "      <td>13</td>\n",
              "    </tr>\n",
              "    <tr>\n",
              "      <th>mean</th>\n",
              "      <td>5.20</td>\n",
              "      <td>NaN</td>\n",
              "    </tr>\n",
              "    <tr>\n",
              "      <th>std</th>\n",
              "      <td>2.73</td>\n",
              "      <td>NaN</td>\n",
              "    </tr>\n",
              "    <tr>\n",
              "      <th>min</th>\n",
              "      <td>1.00</td>\n",
              "      <td>NaN</td>\n",
              "    </tr>\n",
              "    <tr>\n",
              "      <th>25%</th>\n",
              "      <td>2.75</td>\n",
              "      <td>NaN</td>\n",
              "    </tr>\n",
              "    <tr>\n",
              "      <th>50%</th>\n",
              "      <td>5.50</td>\n",
              "      <td>NaN</td>\n",
              "    </tr>\n",
              "    <tr>\n",
              "      <th>75%</th>\n",
              "      <td>7.25</td>\n",
              "      <td>NaN</td>\n",
              "    </tr>\n",
              "    <tr>\n",
              "      <th>max</th>\n",
              "      <td>9.00</td>\n",
              "      <td>NaN</td>\n",
              "    </tr>\n",
              "  </tbody>\n",
              "</table>\n",
              "</div>"
            ],
            "text/plain": [
              "        numero grupo\n",
              "count    20.00    20\n",
              "unique     NaN     2\n",
              "top        NaN     A\n",
              "freq       NaN    13\n",
              "mean      5.20   NaN\n",
              "std       2.73   NaN\n",
              "min       1.00   NaN\n",
              "25%       2.75   NaN\n",
              "50%       5.50   NaN\n",
              "75%       7.25   NaN\n",
              "max       9.00   NaN"
            ]
          },
          "metadata": {},
          "execution_count": 18
        }
      ]
    },
    {
      "cell_type": "markdown",
      "metadata": {
        "id": "C42qtzfMLrMS"
      },
      "source": [
        "#### Especificando o tipo de dados das colunas\n"
      ]
    },
    {
      "cell_type": "code",
      "metadata": {
        "colab": {
          "base_uri": "https://localhost:8080/",
          "height": 297
        },
        "id": "veFgnRaPLrMS",
        "outputId": "bfd356da-f87b-4863-d3e0-c77c23885add"
      },
      "source": [
        "# Import das bibliotecas\n",
        "import pandas as pd\n",
        "\n",
        "# Declara uma lista com os valores dos números a serem analisados\n",
        "lista = [1,2,7,4,1,9,5,3,9,2,6,8,9,4,2,5,6,7,6,8]\n",
        "grupo = ['A','A','A','B','A','A','B','A','B','A','A','B','A','B','A','A','B','A','B','A']\n",
        "\n",
        "# Formata os dados\n",
        "dados = {'numero': lista, 'grupo': grupo}\n",
        "\n",
        "# Mostra somente com duas casas decimais os números reais\n",
        "pd.set_option('precision', 2)\n",
        "\n",
        "# Exibe todas as linhas\n",
        "pd.set_option('display.max_rows', None)\n",
        "\n",
        "# Exibe todas as linhas\n",
        "pd.set_option('display.max_columns', None)\n",
        "\n",
        "# Cria um DataFrame das estatísticas a partir dos dados formatados\n",
        "df_stats = pd.DataFrame(data=dados)\n",
        "\n",
        "#Exibe as estatísticas\n",
        "df_stats.describe(include=['float', 'int']) "
      ],
      "execution_count": 19,
      "outputs": [
        {
          "output_type": "execute_result",
          "data": {
            "text/html": [
              "<div>\n",
              "<style scoped>\n",
              "    .dataframe tbody tr th:only-of-type {\n",
              "        vertical-align: middle;\n",
              "    }\n",
              "\n",
              "    .dataframe tbody tr th {\n",
              "        vertical-align: top;\n",
              "    }\n",
              "\n",
              "    .dataframe thead th {\n",
              "        text-align: right;\n",
              "    }\n",
              "</style>\n",
              "<table border=\"1\" class=\"dataframe\">\n",
              "  <thead>\n",
              "    <tr style=\"text-align: right;\">\n",
              "      <th></th>\n",
              "      <th>numero</th>\n",
              "    </tr>\n",
              "  </thead>\n",
              "  <tbody>\n",
              "    <tr>\n",
              "      <th>count</th>\n",
              "      <td>20.00</td>\n",
              "    </tr>\n",
              "    <tr>\n",
              "      <th>mean</th>\n",
              "      <td>5.20</td>\n",
              "    </tr>\n",
              "    <tr>\n",
              "      <th>std</th>\n",
              "      <td>2.73</td>\n",
              "    </tr>\n",
              "    <tr>\n",
              "      <th>min</th>\n",
              "      <td>1.00</td>\n",
              "    </tr>\n",
              "    <tr>\n",
              "      <th>25%</th>\n",
              "      <td>2.75</td>\n",
              "    </tr>\n",
              "    <tr>\n",
              "      <th>50%</th>\n",
              "      <td>5.50</td>\n",
              "    </tr>\n",
              "    <tr>\n",
              "      <th>75%</th>\n",
              "      <td>7.25</td>\n",
              "    </tr>\n",
              "    <tr>\n",
              "      <th>max</th>\n",
              "      <td>9.00</td>\n",
              "    </tr>\n",
              "  </tbody>\n",
              "</table>\n",
              "</div>"
            ],
            "text/plain": [
              "       numero\n",
              "count   20.00\n",
              "mean     5.20\n",
              "std      2.73\n",
              "min      1.00\n",
              "25%      2.75\n",
              "50%      5.50\n",
              "75%      7.25\n",
              "max      9.00"
            ]
          },
          "metadata": {},
          "execution_count": 19
        }
      ]
    },
    {
      "cell_type": "markdown",
      "metadata": {
        "id": "an7EoAosfB-T"
      },
      "source": [
        "#### Gerando dados transpostos"
      ]
    },
    {
      "cell_type": "code",
      "metadata": {
        "colab": {
          "base_uri": "https://localhost:8080/",
          "height": 80
        },
        "id": "U6MbHVDcZ8jS",
        "outputId": "4e5830a3-4ddf-45dc-a7c0-e788b1ae538f"
      },
      "source": [
        "# Import das bibliotecas\n",
        "import pandas as pd\n",
        "\n",
        "# Declara uma lista com os valores dos números a serem analisados\n",
        "lista = [1,2,7,4,1,9,5,3,9,2,6,8,9,4,2,5,6,7,6,8]\n",
        "grupo = ['A','A','A','B','A','A','B','A','B','A','A','B','A','B','A','A','B','A','B','A']\n",
        "\n",
        "# Formata os dados\n",
        "dados = {'numero': lista, 'grupo': grupo}\n",
        "\n",
        "# Mostra somente com duas casas decimais os números reais\n",
        "pd.set_option('precision', 2)\n",
        "\n",
        "# Exibe todas as linhas\n",
        "pd.set_option('display.max_rows', None)\n",
        "\n",
        "# Exibe todas as linhas\n",
        "pd.set_option('display.max_columns', None)\n",
        "\n",
        "# Cria um DataFrame das estatísticas a partir dos dados formatados\n",
        "df_stats = pd.DataFrame(data=dados)\n",
        "\n",
        "#Exibe as estatísticas\n",
        "df_stats.describe(include=['float', 'int']).transpose()"
      ],
      "execution_count": 20,
      "outputs": [
        {
          "output_type": "execute_result",
          "data": {
            "text/html": [
              "<div>\n",
              "<style scoped>\n",
              "    .dataframe tbody tr th:only-of-type {\n",
              "        vertical-align: middle;\n",
              "    }\n",
              "\n",
              "    .dataframe tbody tr th {\n",
              "        vertical-align: top;\n",
              "    }\n",
              "\n",
              "    .dataframe thead th {\n",
              "        text-align: right;\n",
              "    }\n",
              "</style>\n",
              "<table border=\"1\" class=\"dataframe\">\n",
              "  <thead>\n",
              "    <tr style=\"text-align: right;\">\n",
              "      <th></th>\n",
              "      <th>count</th>\n",
              "      <th>mean</th>\n",
              "      <th>std</th>\n",
              "      <th>min</th>\n",
              "      <th>25%</th>\n",
              "      <th>50%</th>\n",
              "      <th>75%</th>\n",
              "      <th>max</th>\n",
              "    </tr>\n",
              "  </thead>\n",
              "  <tbody>\n",
              "    <tr>\n",
              "      <th>numero</th>\n",
              "      <td>20.0</td>\n",
              "      <td>5.2</td>\n",
              "      <td>2.73</td>\n",
              "      <td>1.0</td>\n",
              "      <td>2.75</td>\n",
              "      <td>5.5</td>\n",
              "      <td>7.25</td>\n",
              "      <td>9.0</td>\n",
              "    </tr>\n",
              "  </tbody>\n",
              "</table>\n",
              "</div>"
            ],
            "text/plain": [
              "        count  mean   std  min   25%  50%   75%  max\n",
              "numero   20.0   5.2  2.73  1.0  2.75  5.5  7.25  9.0"
            ]
          },
          "metadata": {},
          "execution_count": 20
        }
      ]
    },
    {
      "cell_type": "markdown",
      "metadata": {
        "id": "UTDX4mYcKbgy"
      },
      "source": [
        "#### Dados agrupados\n"
      ]
    },
    {
      "cell_type": "code",
      "metadata": {
        "colab": {
          "base_uri": "https://localhost:8080/",
          "height": 173
        },
        "id": "2jr_hcQmKbgz",
        "outputId": "d1a9f61f-e985-49e9-a6b4-73633f9e01e0"
      },
      "source": [
        "# Import das bibliotecas\n",
        "import pandas as pd\n",
        "\n",
        "# Declara uma lista com os valores dos números a serem analisados\n",
        "lista = [1,2,7,4,1,9,5,3,9,2,6,8,9,4,2,5,6,7,6,8]\n",
        "grupo = ['A','A','A','B','A','A','B','A','B','A','A','B','A','B','A','A','B','A','B','A']\n",
        "\n",
        "# Formata os dados\n",
        "dados = {'numero': lista, 'grupo': grupo}\n",
        "\n",
        "# Mostra somente com duas casas decimais os números reais\n",
        "pd.set_option('precision', 2)\n",
        "\n",
        "# Exibe todas as linhas\n",
        "pd.set_option('display.max_rows', None)\n",
        "\n",
        "# Exibe todas as linhas\n",
        "pd.set_option('display.max_columns', None)\n",
        "\n",
        "# Cria um DataFrame das estatísticas a partir dos dados formatados\n",
        "df_stats = pd.DataFrame(data=dados)\n",
        "\n",
        "# Agrupa pelo grupo\n",
        "df_grupo = df_stats[['numero','grupo']].groupby('grupo')\n",
        "\n",
        "#Exibe as estatísticas\n",
        "df_grupo.describe(include='all') "
      ],
      "execution_count": 21,
      "outputs": [
        {
          "output_type": "execute_result",
          "data": {
            "text/html": [
              "<div>\n",
              "<style scoped>\n",
              "    .dataframe tbody tr th:only-of-type {\n",
              "        vertical-align: middle;\n",
              "    }\n",
              "\n",
              "    .dataframe tbody tr th {\n",
              "        vertical-align: top;\n",
              "    }\n",
              "\n",
              "    .dataframe thead tr th {\n",
              "        text-align: left;\n",
              "    }\n",
              "\n",
              "    .dataframe thead tr:last-of-type th {\n",
              "        text-align: right;\n",
              "    }\n",
              "</style>\n",
              "<table border=\"1\" class=\"dataframe\">\n",
              "  <thead>\n",
              "    <tr>\n",
              "      <th></th>\n",
              "      <th colspan=\"8\" halign=\"left\">numero</th>\n",
              "    </tr>\n",
              "    <tr>\n",
              "      <th></th>\n",
              "      <th>count</th>\n",
              "      <th>mean</th>\n",
              "      <th>std</th>\n",
              "      <th>min</th>\n",
              "      <th>25%</th>\n",
              "      <th>50%</th>\n",
              "      <th>75%</th>\n",
              "      <th>max</th>\n",
              "    </tr>\n",
              "    <tr>\n",
              "      <th>grupo</th>\n",
              "      <th></th>\n",
              "      <th></th>\n",
              "      <th></th>\n",
              "      <th></th>\n",
              "      <th></th>\n",
              "      <th></th>\n",
              "      <th></th>\n",
              "      <th></th>\n",
              "    </tr>\n",
              "  </thead>\n",
              "  <tbody>\n",
              "    <tr>\n",
              "      <th>A</th>\n",
              "      <td>13.0</td>\n",
              "      <td>4.77</td>\n",
              "      <td>3.06</td>\n",
              "      <td>1.0</td>\n",
              "      <td>2.0</td>\n",
              "      <td>5.0</td>\n",
              "      <td>7.0</td>\n",
              "      <td>9.0</td>\n",
              "    </tr>\n",
              "    <tr>\n",
              "      <th>B</th>\n",
              "      <td>7.0</td>\n",
              "      <td>6.00</td>\n",
              "      <td>1.91</td>\n",
              "      <td>4.0</td>\n",
              "      <td>4.5</td>\n",
              "      <td>6.0</td>\n",
              "      <td>7.0</td>\n",
              "      <td>9.0</td>\n",
              "    </tr>\n",
              "  </tbody>\n",
              "</table>\n",
              "</div>"
            ],
            "text/plain": [
              "      numero                                     \n",
              "       count  mean   std  min  25%  50%  75%  max\n",
              "grupo                                            \n",
              "A       13.0  4.77  3.06  1.0  2.0  5.0  7.0  9.0\n",
              "B        7.0  6.00  1.91  4.0  4.5  6.0  7.0  9.0"
            ]
          },
          "metadata": {},
          "execution_count": 21
        }
      ]
    },
    {
      "cell_type": "markdown",
      "metadata": {
        "id": "d-er4JYgLWY1"
      },
      "source": [
        "#### Dados agrupados transpostos\n"
      ]
    },
    {
      "cell_type": "code",
      "metadata": {
        "colab": {
          "base_uri": "https://localhost:8080/",
          "height": 297
        },
        "id": "i4p0T6MwLWY1",
        "outputId": "faf0537d-3c4a-4776-c5ed-06f6054cbf4a"
      },
      "source": [
        "# Import das bibliotecas\n",
        "import pandas as pd\n",
        "\n",
        "# Declara uma lista com os valores dos números a serem analisados\n",
        "lista = [1,2,7,4,1,9,5,3,9,2,6,8,9,4,2,5,6,7,6,8]\n",
        "grupo = ['A','A','A','B','A','A','B','A','B','A','A','B','A','B','A','A','B','A','B','A']\n",
        "\n",
        "# Formata os dados\n",
        "dados = {'numero': lista, 'grupo': grupo}\n",
        "\n",
        "# Mostra somente com duas casas decimais os números reais\n",
        "pd.set_option('precision', 2)\n",
        "\n",
        "# Exibe todas as linhas\n",
        "pd.set_option('display.max_rows', None)\n",
        "\n",
        "# Exibe todas as linhas\n",
        "pd.set_option('display.max_columns', None)\n",
        "\n",
        "# Cria um DataFrame das estatísticas a partir dos dados formatados\n",
        "df_stats = pd.DataFrame(data=dados)\n",
        "\n",
        "# Agrupa pelo grupo\n",
        "df_grupo = df_stats[['numero','grupo']].groupby('grupo')\n",
        "\n",
        "#Exibe as estatísticas\n",
        "df_grupo.describe(include='all').transpose()"
      ],
      "execution_count": 22,
      "outputs": [
        {
          "output_type": "execute_result",
          "data": {
            "text/html": [
              "<div>\n",
              "<style scoped>\n",
              "    .dataframe tbody tr th:only-of-type {\n",
              "        vertical-align: middle;\n",
              "    }\n",
              "\n",
              "    .dataframe tbody tr th {\n",
              "        vertical-align: top;\n",
              "    }\n",
              "\n",
              "    .dataframe thead th {\n",
              "        text-align: right;\n",
              "    }\n",
              "</style>\n",
              "<table border=\"1\" class=\"dataframe\">\n",
              "  <thead>\n",
              "    <tr style=\"text-align: right;\">\n",
              "      <th></th>\n",
              "      <th>grupo</th>\n",
              "      <th>A</th>\n",
              "      <th>B</th>\n",
              "    </tr>\n",
              "  </thead>\n",
              "  <tbody>\n",
              "    <tr>\n",
              "      <th rowspan=\"8\" valign=\"top\">numero</th>\n",
              "      <th>count</th>\n",
              "      <td>13.00</td>\n",
              "      <td>7.00</td>\n",
              "    </tr>\n",
              "    <tr>\n",
              "      <th>mean</th>\n",
              "      <td>4.77</td>\n",
              "      <td>6.00</td>\n",
              "    </tr>\n",
              "    <tr>\n",
              "      <th>std</th>\n",
              "      <td>3.06</td>\n",
              "      <td>1.91</td>\n",
              "    </tr>\n",
              "    <tr>\n",
              "      <th>min</th>\n",
              "      <td>1.00</td>\n",
              "      <td>4.00</td>\n",
              "    </tr>\n",
              "    <tr>\n",
              "      <th>25%</th>\n",
              "      <td>2.00</td>\n",
              "      <td>4.50</td>\n",
              "    </tr>\n",
              "    <tr>\n",
              "      <th>50%</th>\n",
              "      <td>5.00</td>\n",
              "      <td>6.00</td>\n",
              "    </tr>\n",
              "    <tr>\n",
              "      <th>75%</th>\n",
              "      <td>7.00</td>\n",
              "      <td>7.00</td>\n",
              "    </tr>\n",
              "    <tr>\n",
              "      <th>max</th>\n",
              "      <td>9.00</td>\n",
              "      <td>9.00</td>\n",
              "    </tr>\n",
              "  </tbody>\n",
              "</table>\n",
              "</div>"
            ],
            "text/plain": [
              "grupo             A     B\n",
              "numero count  13.00  7.00\n",
              "       mean    4.77  6.00\n",
              "       std     3.06  1.91\n",
              "       min     1.00  4.00\n",
              "       25%     2.00  4.50\n",
              "       50%     5.00  6.00\n",
              "       75%     7.00  7.00\n",
              "       max     9.00  9.00"
            ]
          },
          "metadata": {},
          "execution_count": 22
        }
      ]
    },
    {
      "cell_type": "markdown",
      "metadata": {
        "id": "28jKHSsvxTyD"
      },
      "source": [
        "## Mínimos quadrados\n",
        " \n",
        "https://medium.com/@bruno.dorneles/regress%C3%A3o-linear-conceitos-e-implementa%C3%A7%C3%A3o-com-python-232c19e00f03"
      ]
    },
    {
      "cell_type": "code",
      "metadata": {
        "id": "gYTk3ZdXxYnC",
        "colab": {
          "base_uri": "https://localhost:8080/",
          "height": 265
        },
        "outputId": "6b5e1fc5-d333-48b2-bef1-7d87abbb02d3"
      },
      "source": [
        "# Import da biblioteca\n",
        "import numpy as np\n",
        "import matplotlib.pyplot as plt\n",
        "\n",
        "# Gera os dados do eixo X\n",
        "X = 2 * np.random.rand(100, 1)\n",
        "# Gera os dados do eixo y\n",
        "y = 4 + 3 * X + np.random.randn(100, 1)\n",
        "\n",
        "# Insere os dados no gráfico\n",
        "plt.plot(X, y, \"b.\")\n",
        "\n",
        "# Insere os rótulos do eixo x\n",
        "plt.axis([0, 2, 0, 15])\n",
        "\n",
        "# Mostra o gráfico\n",
        "plt.show()"
      ],
      "execution_count": 23,
      "outputs": [
        {
          "output_type": "display_data",
          "data": {
            "image/png": "[encoded data removed]",
            "text/plain": [
              "<Figure size 432x288 with 1 Axes>"
            ]
          },
          "metadata": {
            "needs_background": "light"
          }
        }
      ]
    },
    {
      "cell_type": "code",
      "metadata": {
        "id": "gBW3ocwGzSay"
      },
      "source": [
        "X_b = np.c_[np.ones((100, 1)), X]\n",
        "theta_param = np.linalg.inv(X_b.T.dot(X_b)).dot(X_b.T).dot(y)"
      ],
      "execution_count": 24,
      "outputs": []
    },
    {
      "cell_type": "code",
      "metadata": {
        "id": "-Z4kdz3DzZV2",
        "colab": {
          "base_uri": "https://localhost:8080/",
          "height": 265
        },
        "outputId": "2c441ca0-c868-4e14-e2eb-eddf6e34333f"
      },
      "source": [
        "# Import da biblioteca\n",
        "import numpy as np\n",
        "import matplotlib.pyplot as plt\n",
        "\n",
        "# Gera os dados do eixo X\n",
        "X_new = np.array([[0], [2]])\n",
        "X_new_b = np.c_[np.ones((2, 1)), X_new]\n",
        "\n",
        "# Gera os dados do eixo y\n",
        "y_predict = X_new_b.dot(theta_param)\n",
        "\n",
        "# Insere os dados no gráfico\n",
        "plt.plot(X_new, y_predict, \"r-\")\n",
        "plt.plot(X, y, \"b.\")\n",
        "\n",
        "# Insere os rótulos do eixo x\n",
        "plt.axis([0, 2, 0, 15])\n",
        "\n",
        "# Mostra o gráfico\n",
        "plt.show()"
      ],
      "execution_count": 25,
      "outputs": [
        {
          "output_type": "display_data",
          "data": {
            "image/png": "[encoded data removed]",
            "text/plain": [
              "<Figure size 432x288 with 1 Axes>"
            ]
          },
          "metadata": {
            "needs_background": "light"
          }
        }
      ]
    },
    {
      "cell_type": "code",
      "metadata": {
        "id": "nUGjw-QVzgKv",
        "colab": {
          "base_uri": "https://localhost:8080/"
        },
        "outputId": "086cbe77-2827-4bda-cdf5-80f00db01b85"
      },
      "source": [
        "from sklearn.linear_model import LinearRegression\n",
        "\n",
        "linear_reg = LinearRegression()\n",
        "linear_reg.fit(X, y)\n",
        "linear_reg.intercept_ #coeficiente linear\n",
        "linear_reg.coef_ #coeficiente angular\n",
        "linear_reg.predict(X_new)"
      ],
      "execution_count": 26,
      "outputs": [
        {
          "output_type": "execute_result",
          "data": {
            "text/plain": [
              "array([[ 3.78997276],\n",
              "       [10.02791213]])"
            ]
          },
          "metadata": {},
          "execution_count": 26
        }
      ]
    },
    {
      "cell_type": "markdown",
      "metadata": {
        "id": "Rg-1tAhfixOc"
      },
      "source": [
        "## Estatísticas de conjunto"
      ]
    },
    {
      "cell_type": "markdown",
      "metadata": {
        "id": "Ea3JlQiPUTn1"
      },
      "source": [
        "### Exemplo 1 - Números e classes"
      ]
    },
    {
      "cell_type": "markdown",
      "metadata": {
        "id": "JZ5Ewl9wZVfH"
      },
      "source": [
        "Precisão e Acurácia"
      ]
    },
    {
      "cell_type": "code",
      "metadata": {
        "id": "dS1J-ncjSfLu",
        "colab": {
          "base_uri": "https://localhost:8080/"
        },
        "outputId": "37e10d13-bafc-40a9-c89a-9b032e89184d"
      },
      "source": [
        "from sklearn.metrics import classification_report\n",
        "\n",
        "X_alvo =     [ 1, 0 , 1, 0, 1, 0, 1, 0 , 1, 1]\n",
        "y_predicao = [ 0, 0 , 1, 0, 1, 0, 1, 0 , 1, 1]\n",
        "\n",
        "nome_alvos = ['class 0', 'class 1'] #mesma quantidade de classes do alvo\n",
        "\n",
        "print(classification_report(X_alvo, y_predicao, target_names=nome_alvos))"
      ],
      "execution_count": 27,
      "outputs": [
        {
          "output_type": "stream",
          "name": "stdout",
          "text": [
            "              precision    recall  f1-score   support\n",
            "\n",
            "     class 0       0.80      1.00      0.89         4\n",
            "     class 1       1.00      0.83      0.91         6\n",
            "\n",
            "    accuracy                           0.90        10\n",
            "   macro avg       0.90      0.92      0.90        10\n",
            "weighted avg       0.92      0.90      0.90        10\n",
            "\n"
          ]
        }
      ]
    },
    {
      "cell_type": "markdown",
      "metadata": {
        "id": "WY17LddRZYG4"
      },
      "source": [
        "Matrix de confusão texto"
      ]
    },
    {
      "cell_type": "code",
      "metadata": {
        "id": "tqLWk7ScZZtl",
        "colab": {
          "base_uri": "https://localhost:8080/"
        },
        "outputId": "3ba59efa-a644-4b53-a435-f17d998ce929"
      },
      "source": [
        "from sklearn.metrics import confusion_matrix\n",
        "\n",
        "print (confusion_matrix(X_alvo, y_predicao))"
      ],
      "execution_count": 28,
      "outputs": [
        {
          "output_type": "stream",
          "name": "stdout",
          "text": [
            "[[4 0]\n",
            " [1 5]]\n"
          ]
        }
      ]
    },
    {
      "cell_type": "markdown",
      "metadata": {
        "id": "oJcbQ_80K8NV"
      },
      "source": [
        "Matrix de confusão gráfico"
      ]
    },
    {
      "cell_type": "code",
      "metadata": {
        "colab": {
          "base_uri": "https://localhost:8080/",
          "height": 296
        },
        "id": "Kv-0RJb0K8as",
        "outputId": "741c546c-491d-4ebb-df8c-84a58a3aea5b"
      },
      "source": [
        "import seaborn as sns\n",
        "from sklearn.metrics import confusion_matrix\n",
        "\n",
        "ax = sns.heatmap(confusion_matrix(X_alvo, y_predicao), cmap='Blues_r', annot=True, fmt='d')\n",
        "_ = ax.set(xlabel='Rótulos preditos', ylabel='Rótulos verdadeiros', title='Matriz de Confusão')"
      ],
      "execution_count": 29,
      "outputs": [
        {
          "output_type": "display_data",
          "data": {
            "image/png": "[encoded data removed]",
            "text/plain": [
              "<Figure size 432x288 with 2 Axes>"
            ]
          },
          "metadata": {
            "needs_background": "light"
          }
        }
      ]
    },
    {
      "cell_type": "markdown",
      "metadata": {
        "id": "n4874HBp8le3"
      },
      "source": [
        "### Exemplo 2 - Vetorização de frases"
      ]
    },
    {
      "cell_type": "code",
      "metadata": {
        "id": "BsefhtA43qLi",
        "colab": {
          "base_uri": "https://localhost:8080/"
        },
        "outputId": "c8bcb9f5-e581-4705-f813-e0157be5533e"
      },
      "source": [
        "from keras.preprocessing.text import Tokenizer\n",
        "\n",
        "frases = ['O gato no tapete.', 'O cachorro comeu minha tarefa.']\n",
        "\n",
        "# Procura a frase com o maior número de palavras\n",
        "maior_frase = len(max(frases, key=lambda k: len(k.split())).split())\n",
        "print(\"Tamanho maior frase:\", maior_frase)\n",
        "\n",
        "# Cria o tokenizador\n",
        "tokenizador = Tokenizer(num_words=maior_frase)\n",
        "\n",
        "# Ajusta o tamanho\n",
        "tokenizador.fit_on_texts(frases)\n",
        "\n",
        "# Cria a matriz do texto\n",
        "matriz_texto = tokenizador.texts_to_matrix(frases, mode='binary')\n",
        "\n",
        "# Índices das palavras\n",
        "indice_palavra = tokenizador.word_index\n",
        "\n",
        "# Mostra os dados\n",
        "print(\"Exemplo:\",frases)\n",
        "print(\"Índices:\", indice_palavra)\n",
        "print('Palavras unicas %s .' % len(indice_palavra))\n",
        "\n",
        "# Mostra a matriz das frases\n",
        "print(\"Matriz das frases:\")\n",
        "for x in matriz_texto:\n",
        "   print(x)"
      ],
      "execution_count": 30,
      "outputs": [
        {
          "output_type": "stream",
          "name": "stdout",
          "text": [
            "Tamanho maior frase: 5\n",
            "Exemplo: ['O gato no tapete.', 'O cachorro comeu minha tarefa.']\n",
            "Índices: {'o': 1, 'gato': 2, 'no': 3, 'tapete': 4, 'cachorro': 5, 'comeu': 6, 'minha': 7, 'tarefa': 8}\n",
            "Palavras unicas 8 .\n",
            "Matriz das frases:\n",
            "[0. 1. 1. 1. 1.]\n",
            "[0. 1. 0. 0. 0.]\n"
          ]
        }
      ]
    },
    {
      "cell_type": "markdown",
      "metadata": {
        "id": "3NH4eq9tT98I"
      },
      "source": [
        "### Exemplo 3 - String e classes"
      ]
    },
    {
      "cell_type": "markdown",
      "metadata": {
        "id": "aDJGxFUFaLXZ"
      },
      "source": [
        "Precisão e acurácia"
      ]
    },
    {
      "cell_type": "code",
      "metadata": {
        "id": "AI6nf09BaSsy",
        "colab": {
          "base_uri": "https://localhost:8080/"
        },
        "outputId": "74ba8724-c168-406e-dac1-6b5d83b90342"
      },
      "source": [
        "from sklearn.metrics import classification_report\n",
        "\n",
        "y_alvo1   = [\"Quem dia bonito.\", \"Vamos a feira\", \"Bom dia\"]\n",
        "y_alvo   = [\"S1\", \"S2\", \"S3\"]\n",
        "\n",
        "y_predicao1 = [\"Quem dia bonito.\", \"Vamos a feira Bom dia\"]\n",
        "VP = ['SIM','NAO']\n",
        "\n",
        "y_predicao = [\"S1\", \"\", \"S3\"]\n",
        "\n",
        "nome_alvos = ['class 0', 'class 1', 'class 2', 'class 3']\n",
        "\n",
        "print(classification_report(y_alvo, y_predicao, target_names=nome_alvos))"
      ],
      "execution_count": 31,
      "outputs": [
        {
          "output_type": "stream",
          "name": "stdout",
          "text": [
            "              precision    recall  f1-score   support\n",
            "\n",
            "     class 0       0.00      0.00      0.00         0\n",
            "     class 1       1.00      1.00      1.00         1\n",
            "     class 2       0.00      0.00      0.00         1\n",
            "     class 3       1.00      1.00      1.00         1\n",
            "\n",
            "    accuracy                           0.67         3\n",
            "   macro avg       0.50      0.50      0.50         3\n",
            "weighted avg       0.67      0.67      0.67         3\n",
            "\n"
          ]
        },
        {
          "output_type": "stream",
          "name": "stderr",
          "text": [
            "/usr/local/lib/python3.7/dist-packages/sklearn/metrics/_classification.py:1272: UndefinedMetricWarning: Precision and F-score are ill-defined and being set to 0.0 in labels with no predicted samples. Use `zero_division` parameter to control this behavior.\n",
            "  _warn_prf(average, modifier, msg_start, len(result))\n",
            "/usr/local/lib/python3.7/dist-packages/sklearn/metrics/_classification.py:1272: UndefinedMetricWarning: Recall and F-score are ill-defined and being set to 0.0 in labels with no true samples. Use `zero_division` parameter to control this behavior.\n",
            "  _warn_prf(average, modifier, msg_start, len(result))\n"
          ]
        }
      ]
    },
    {
      "cell_type": "markdown",
      "metadata": {
        "id": "vXQ_Ucdzc_qh"
      },
      "source": [
        "## Softmax\n",
        "\n",
        "Softmax é uma generalização da função sigmoide para casos não-binários. Ela não costuma ser aplicada às camadas escondidas da rede neural, mas sim na camada de saída de problemas de classificação multiclasse, já que sua característica é produzir valores no intervalo [0, 1] onde sua soma é igual a 1. Ou seja, num problema com 3 classes, por exemplo, a função softmax vai produzir 3 valores, que somam 1, onde cada valor representa a probabilidade da instância pertencer a uma das 3 possíveis classes."
      ]
    },
    {
      "cell_type": "markdown",
      "metadata": {
        "id": "wIckOA80dCH5"
      },
      "source": [
        "### Exemplo manual"
      ]
    },
    {
      "cell_type": "code",
      "metadata": {
        "id": "XtOa2kgodEG2",
        "colab": {
          "base_uri": "https://localhost:8080/"
        },
        "outputId": "e4dded70-0ba6-42c9-9c34-439c29c4f178"
      },
      "source": [
        "entrada =  [1.2, 0.9, 0.75]\n",
        "\n",
        "print(\"Entrada = \", entrada)\n",
        "\n",
        "soma = sum(entrada)\n",
        "\n",
        "print(\"Soma = \" , soma)\n",
        "\n",
        "saida = []\n",
        "for x in entrada:\n",
        "   saida.append(x/soma)\n",
        "\n",
        "print(\"Saída = \", saida)   "
      ],
      "execution_count": 32,
      "outputs": [
        {
          "output_type": "stream",
          "name": "stdout",
          "text": [
            "Entrada =  [1.2, 0.9, 0.75]\n",
            "Soma =  2.85\n",
            "Saída =  [0.42105263157894735, 0.3157894736842105, 0.2631578947368421]\n"
          ]
        }
      ]
    },
    {
      "cell_type": "markdown",
      "metadata": {
        "id": "rKFlfh2Ad2vX"
      },
      "source": [
        "### Exemplo NumPy"
      ]
    },
    {
      "cell_type": "code",
      "metadata": {
        "id": "uICnD_pTdwA_",
        "colab": {
          "base_uri": "https://localhost:8080/"
        },
        "outputId": "3b72c155-ace8-494d-d56a-361960147957"
      },
      "source": [
        "import numpy as np\n",
        "\n",
        "def softmax(x):\n",
        "    return np.exp(x) / np.exp(x).sum(axis=0)\n",
        "\n",
        "entrada = [1.2, 0.9, 0.75]\n",
        "\n",
        "print(\"Entrada = \", entrada)\n",
        "\n",
        "saida = softmax(entrada)\n",
        "\n",
        "print(\"Saída = \", saida)   "
      ],
      "execution_count": 33,
      "outputs": [
        {
          "output_type": "stream",
          "name": "stdout",
          "text": [
            "Entrada =  [1.2, 0.9, 0.75]\n",
            "Saída =  [0.42044253 0.31147148 0.26808599]\n"
          ]
        }
      ]
    },
    {
      "cell_type": "markdown",
      "metadata": {
        "id": "paDtTvj3e6cZ"
      },
      "source": [
        "### Exemplo sklearn"
      ]
    },
    {
      "cell_type": "code",
      "metadata": {
        "id": "G6BrnFHKeWOy",
        "colab": {
          "base_uri": "https://localhost:8080/"
        },
        "outputId": "0d20ba64-a25b-415c-a2b1-8c0ba20590d5"
      },
      "source": [
        "from sklearn.utils.extmath import softmax\n",
        "import numpy as np\n",
        "\n",
        "entrada =  [1.2, 0.9, 0.75]\n",
        "\n",
        "print(\"Entrada = \", entrada)\n",
        "\n",
        "saida = softmax(np.array([entrada]))\n",
        "\n",
        "print(\"Saída = \", saida)   "
      ],
      "execution_count": 34,
      "outputs": [
        {
          "output_type": "stream",
          "name": "stdout",
          "text": [
            "Entrada =  [1.2, 0.9, 0.75]\n",
            "Saída =  [[0.42044253 0.31147148 0.26808599]]\n"
          ]
        }
      ]
    },
    {
      "cell_type": "markdown",
      "metadata": {
        "id": "cH7gHNo4NYTf"
      },
      "source": [
        "## Métricas\n",
        "\n",
        "https://www.youtube.com/watch?v=860F540KmkU\n",
        "\n",
        "https://medium.com/data-hackers/entendendo-o-que-%C3%A9-matriz-de-confus%C3%A3o-com-python-114e683ec509"
      ]
    },
    {
      "cell_type": "markdown",
      "metadata": {
        "id": "55nRCj12HwHS"
      },
      "source": [
        "### Acurácia\n",
        "\n",
        "Acurácia indica uma performance geral do modelo. \n",
        "Dentre todas as classificações, quantas o modelo classificou corretamente(vp=1 e vn=0)."
      ]
    },
    {
      "cell_type": "code",
      "metadata": {
        "id": "eWwJMVeTH3PL",
        "colab": {
          "base_uri": "https://localhost:8080/"
        },
        "outputId": "a30f88d2-64f7-4d29-a59e-fcaed14a62a9"
      },
      "source": [
        "from sklearn.metrics import accuracy_score\n",
        "\n",
        "X_alvo =     [ 1, 0 , 1, 0, 1, 0, 1, 0 , 1, 1]\n",
        "y_predicao = [ 0, 0 , 1, 0, 1, 0, 1, 0 , 1, 1]\n",
        "\n",
        "acuracia = accuracy_score(y_predicao,X_alvo)\n",
        "\n",
        "print(\"X:\", X_alvo)\n",
        "print(\"y:\", y_predicao)\n",
        "\n",
        "print(\"Acurácia:\", acuracia)"
      ],
      "execution_count": 35,
      "outputs": [
        {
          "output_type": "stream",
          "name": "stdout",
          "text": [
            "X: [1, 0, 1, 0, 1, 0, 1, 0, 1, 1]\n",
            "y: [0, 0, 1, 0, 1, 0, 1, 0, 1, 1]\n",
            "Acurácia: 0.9\n"
          ]
        }
      ]
    },
    {
      "cell_type": "markdown",
      "metadata": {
        "id": "6bfCCOLyIntr"
      },
      "source": [
        "### Precisão\n",
        "\n",
        "Precisão avalia as classificações da classe positivo(vp=1 e fp=0) que o modelo fez e quantas estão corretas."
      ]
    },
    {
      "cell_type": "code",
      "metadata": {
        "id": "tMpC7ehOInts",
        "colab": {
          "base_uri": "https://localhost:8080/"
        },
        "outputId": "7fd08c2b-75f1-4388-f4ab-fc664f5a481c"
      },
      "source": [
        "from sklearn.metrics import precision_score\n",
        "\n",
        "X_alvo =     [ 1, 0 , 1, 0, 1, 0, 1, 0 , 1, 1]\n",
        "y_predicao = [ 0, 1 , 1, 0, 1, 0, 1, 0 , 1, 1]\n",
        "\n",
        "precisao = precision_score(y_predicao,X_alvo)\n",
        "\n",
        "print(\"X:\", X_alvo)\n",
        "print(\"y:\", y_predicao)\n",
        "\n",
        "print(\"Precisão:\", precisao)"
      ],
      "execution_count": 36,
      "outputs": [
        {
          "output_type": "stream",
          "name": "stdout",
          "text": [
            "X: [1, 0, 1, 0, 1, 0, 1, 0, 1, 1]\n",
            "y: [0, 1, 1, 0, 1, 0, 1, 0, 1, 1]\n",
            "Precisão: 0.8333333333333334\n"
          ]
        }
      ]
    },
    {
      "cell_type": "markdown",
      "metadata": {
        "id": "sfQGWcVGI4O5"
      },
      "source": [
        "### Recall\n",
        "\n",
        "Recall avalia todas as situações da classe Positivo(vp=1) com o valor esperado e quantas estão corretas."
      ]
    },
    {
      "cell_type": "code",
      "metadata": {
        "id": "gy_6SxQOI4O6",
        "colab": {
          "base_uri": "https://localhost:8080/"
        },
        "outputId": "5cdd9dd7-7939-4b61-aeed-14429906fa85"
      },
      "source": [
        "from sklearn.metrics import recall_score\n",
        "\n",
        "X_alvo =     [ 1, 0 , 1, 0, 1, 0, 1, 0 , 1, 1]\n",
        "y_predicao = [ 1, 1 , 1, 0, 1, 0, 1, 0 , 1, 1]\n",
        "\n",
        "recall = recall_score(y_predicao,X_alvo)\n",
        "\n",
        "print(\"X:\", X_alvo)\n",
        "print(\"y:\", y_predicao)\n",
        "\n",
        "print(\"Recall:\", recall)"
      ],
      "execution_count": 37,
      "outputs": [
        {
          "output_type": "stream",
          "name": "stdout",
          "text": [
            "X: [1, 0, 1, 0, 1, 0, 1, 0, 1, 1]\n",
            "y: [1, 1, 1, 0, 1, 0, 1, 0, 1, 1]\n",
            "Recall: 0.8571428571428571\n"
          ]
        }
      ]
    },
    {
      "cell_type": "markdown",
      "metadata": {
        "id": "Dj658vPpJOW3"
      },
      "source": [
        "### F1 Score\n",
        "\n",
        "F1 é a média harmônica entre precisão e recall"
      ]
    },
    {
      "cell_type": "code",
      "metadata": {
        "id": "gtQ4Vc_mJOW4",
        "colab": {
          "base_uri": "https://localhost:8080/"
        },
        "outputId": "ffa2a32a-fe78-439b-c63f-16afadc6d257"
      },
      "source": [
        "from sklearn.metrics import f1_score\n",
        "\n",
        "X_alvo =     [ 1, 0 , 1, 0, 1, 0, 1, 0 , 1, 1]\n",
        "y_predicao = [ 1, 1 , 1, 0, 1, 0, 1, 0 , 1, 1]\n",
        "\n",
        "f1 = f1_score(X_alvo,y_predicao)\n",
        "\n",
        "print(\"X:\", X_alvo)\n",
        "print(\"y:\", y_predicao)\n",
        "\n",
        "print(\"F1:\", f1)"
      ],
      "execution_count": 38,
      "outputs": [
        {
          "output_type": "stream",
          "name": "stdout",
          "text": [
            "X: [1, 0, 1, 0, 1, 0, 1, 0, 1, 1]\n",
            "y: [1, 1, 1, 0, 1, 0, 1, 0, 1, 1]\n",
            "F1: 0.923076923076923\n"
          ]
        }
      ]
    },
    {
      "cell_type": "markdown",
      "metadata": {
        "id": "V5X4Wem-JmY7"
      },
      "source": [
        "### Log loss\n",
        "\n",
        "https://www.youtube.com/watch?v=GdNmDQRdL2o"
      ]
    },
    {
      "cell_type": "code",
      "metadata": {
        "id": "qTqUaXDPJnpt",
        "colab": {
          "base_uri": "https://localhost:8080/"
        },
        "outputId": "5d6690e7-c7ff-43d6-eb38-4f9b0a05d1d1"
      },
      "source": [
        "import random\n",
        "from sklearn.metrics import log_loss\n",
        "\n",
        "X_alvo =     [ 1, 0 , 1, 0, 1, 0, 1, 0 , 1, 1]\n",
        "\n",
        "X_alvo_random = [random.random() for i in range(10)]\n",
        "y_predicao = [ 1, 1 , 1, 0, 1, 0, 1, 0 , 1, 1]\n",
        "\n",
        "loss = log_loss(y_predicao, X_alvo_random)\n",
        "\n",
        "print(\"X:\", X_alvo)\n",
        "print(\"y:\", y_predicao)\n",
        "\n",
        "print(\"Log Loss:\", loss)"
      ],
      "execution_count": 39,
      "outputs": [
        {
          "output_type": "stream",
          "name": "stdout",
          "text": [
            "X: [1, 0, 1, 0, 1, 0, 1, 0, 1, 1]\n",
            "y: [1, 1, 1, 0, 1, 0, 1, 0, 1, 1]\n",
            "Log Loss: 1.031220771883285\n"
          ]
        }
      ]
    },
    {
      "cell_type": "markdown",
      "metadata": {
        "id": "ZMOO51ljysN8"
      },
      "source": [
        "### Raiz Quadrada do Erro Quadrático Médio 1\n",
        "Root Mean Squared Error (RMSE)\n",
        "\n",
        "O erro quadrático médio é definido\n",
        "como sendo a média da diferença entre o valor do\n",
        "estimador e do parâmetro ao quadrado.\n",
        "\n",
        "https://medium.com/@bruno.dorneles/regress%C3%A3o-linear-conceitos-e-implementa%C3%A7%C3%A3o-com-python-232c19e00f03"
      ]
    },
    {
      "cell_type": "code",
      "metadata": {
        "id": "S7yi3asQyShC",
        "colab": {
          "base_uri": "https://localhost:8080/"
        },
        "outputId": "9295411c-210f-4ef1-f10b-5d7e20af4c6c"
      },
      "source": [
        "from sklearn.metrics import mean_squared_error\n",
        "from math import sqrt\n",
        "\n",
        "X_alvo =     [ 1, 0 , 1, 0, 1, 0, 1, 0 , 1, 1]\n",
        "y_predicao = [ 0, 0 , 1, 0, 1, 0, 1, 0 , 1, 1]\n",
        "\n",
        "rmse = sqrt(mean_squared_error(X_alvo, y_predicao))\n",
        "\n",
        "print(\"X:\", X_alvo)\n",
        "print(\"y:\", y_predicao)\n",
        "\n",
        "print(\"Erro quadrático médio:\", rmse)"
      ],
      "execution_count": 40,
      "outputs": [
        {
          "output_type": "stream",
          "name": "stdout",
          "text": [
            "X: [1, 0, 1, 0, 1, 0, 1, 0, 1, 1]\n",
            "y: [0, 0, 1, 0, 1, 0, 1, 0, 1, 1]\n",
            "Erro quadrático médio: 0.31622776601683794\n"
          ]
        }
      ]
    },
    {
      "cell_type": "markdown",
      "metadata": {
        "id": "mFdPiXsI5WPi"
      },
      "source": [
        "### Raiz Quadrada do Erro Quadrático Médio 2\n",
        "Root Mean Squared Error (RMSE)\n",
        "\n",
        "https://qastack.com.br/programming/17197492/is-there-a-library-function-for-root-mean-square-error-rmse-in-python"
      ]
    },
    {
      "cell_type": "code",
      "metadata": {
        "id": "KoNF57SN5Vo5",
        "colab": {
          "base_uri": "https://localhost:8080/"
        },
        "outputId": "6c4fe92c-9034-47d4-dda7-865c154d16cb"
      },
      "source": [
        "import numpy as np\n",
        "\n",
        "X_alvo =     [ 1, 0 , 1, 0, 1, 0, 1, 0 , 1, 1]\n",
        "y_predicao = [ 0, 0 , 1, 0, 1, 0, 1, 0 , 1, 1]\n",
        "\n",
        "rmse = np.sqrt(((np.array(X_alvo) - np.array(y_predicao)) ** 2).mean())\n",
        "\n",
        "print(\"X:\", X_alvo)\n",
        "print(\"y:\", y_predicao)\n",
        "\n",
        "print(\"Erro quadrático médio:\", rmse)"
      ],
      "execution_count": 41,
      "outputs": [
        {
          "output_type": "stream",
          "name": "stdout",
          "text": [
            "X: [1, 0, 1, 0, 1, 0, 1, 0, 1, 1]\n",
            "y: [0, 0, 1, 0, 1, 0, 1, 0, 1, 1]\n",
            "Erro quadrático médio: 0.31622776601683794\n"
          ]
        }
      ]
    },
    {
      "cell_type": "markdown",
      "metadata": {
        "id": "-c_rLyc7xRGl"
      },
      "source": [
        " ### Coeficiente de correlação de Matthews (MCC)\n",
        "\n",
        "https://scikit-learn.org/stable/modules/generated/sklearn.metrics.matthews_corrcoef.html\n",
        "\n",
        "* 1.0 = Predição perfeita\n",
        "* 0.0 = Média\n",
        "* -1.0 = Predição inversa"
      ]
    },
    {
      "cell_type": "code",
      "metadata": {
        "id": "NPa5P5v3xOOb",
        "colab": {
          "base_uri": "https://localhost:8080/"
        },
        "outputId": "d0a59565-dcce-4b78-cbab-37afd922b2cb"
      },
      "source": [
        "from sklearn.metrics import matthews_corrcoef\n",
        "\n",
        "X_alvo     = [ 1, 0 , 1, 0, 1, 0, 1, 0 , 1, 1]\n",
        "y_predicao = [ 0, 0 , 1, 0, 1, 0, 1, 0 , 1, 1]\n",
        "\n",
        "MCC = matthews_corrcoef(X_alvo, y_predicao)\n",
        "\n",
        "print(\"X:\", X_alvo)\n",
        "print(\"y:\", y_predicao)\n",
        "\n",
        "print(MCC)"
      ],
      "execution_count": 42,
      "outputs": [
        {
          "output_type": "stream",
          "name": "stdout",
          "text": [
            "X: [1, 0, 1, 0, 1, 0, 1, 0, 1, 1]\n",
            "y: [0, 0, 1, 0, 1, 0, 1, 0, 1, 1]\n",
            "0.816496580927726\n"
          ]
        }
      ]
    },
    {
      "cell_type": "markdown",
      "metadata": {
        "id": "RZyweh5FR04w"
      },
      "source": [
        "### Cálculo de métricas"
      ]
    },
    {
      "cell_type": "code",
      "metadata": {
        "colab": {
          "base_uri": "https://localhost:8080/"
        },
        "id": "PjBJtGZUR1CY",
        "outputId": "6a220431-8abd-48d4-b93e-d7dfcac18d8d"
      },
      "source": [
        "X_alvo     =  np.array([ 1, 0 , 1, 0, 1, 0, 1, 0 , 1, 1])\n",
        "y_predicao =  np.array([ 0, 0 , 1, 0, 1, 0, 1, 0 , 1, 1])\n",
        "\n",
        "# Acumula os resultados dos testes         \n",
        "vp = [] # Verdadeiro positivo\n",
        "vn = [] # Verdadeiro negativo\n",
        "fp = [] # Falso positivo\n",
        "fn = [] # Falso negativo\n",
        "\n",
        "# Verifica a predição realizada e o rótulo previsto\n",
        "vp.append(((y_predicao==1) & (X_alvo==1)).sum())\n",
        "vn.append(((y_predicao==0) & (X_alvo==0)).sum())\n",
        "fp.append(((y_predicao==1) & (X_alvo==0)).sum())\n",
        "fn.append(((y_predicao==0) & (X_alvo==1)).sum())\n",
        "\n",
        "vp_s, vn_s, fp_s, fn_s = sum(vp), sum(vn), sum(fp), sum(fn)\n",
        "acc = (vp_s+vn_s)/(vp_s+vn_s+fp_s+fn_s)\n",
        "if (vp_s+fn_s) != 0:\n",
        "  rec = (vp_s)/(vp_s+fn_s)\n",
        "else:\n",
        "  rec = 0        \n",
        "if (vp_s+fp_s) != 0:\n",
        "  pre = (vp_s)/(vp_s+fp_s)\n",
        "else:\n",
        "  pre = 0        \n",
        "if (pre + rec) != 0:\n",
        "  f1 = 2 * ((pre * rec)/(pre + rec))\n",
        "else:\n",
        "  f1 = 0            \n",
        "        \n",
        "print('Acurácia: {:.8f}; Recall: {:.8f}; Precisão: {:.8f}, F1:{:.8f}, vp: {}; vn: {}; fp: {}; fn: {}'.format(acc, rec, pre, f1, vp_s, vn_s, fp_s, fn_s))\n"
      ],
      "execution_count": 43,
      "outputs": [
        {
          "output_type": "stream",
          "name": "stdout",
          "text": [
            "Acurácia: 0.90000000; Recall: 0.83333333; Precisão: 1.00000000, F1:0.90909091, vp: 5; vn: 4; fp: 0; fn: 1\n"
          ]
        }
      ]
    },
    {
      "cell_type": "markdown",
      "metadata": {
        "id": "ymMo2aTaGYgK"
      },
      "source": [
        "###Função de cálculo de métricas"
      ]
    },
    {
      "cell_type": "code",
      "metadata": {
        "id": "hmbVrWkrIXVr"
      },
      "source": [
        "from sklearn.metrics import accuracy_score, precision_recall_fscore_support\n",
        "\n",
        "def calculaMetricas(predicoes, alvos):\n",
        "    precisao, recall, f1, _ = precision_recall_fscore_support(alvos, predicoes, average='binary')\n",
        "    acuracia = accuracy_score(alvos, predicoes)\n",
        "    return {\n",
        "        'Acurácia': acuracia,\n",
        "        'Recall': recall,\n",
        "        'Precisão': precisao,\n",
        "        'f1': f1\n",
        "    }"
      ],
      "execution_count": 44,
      "outputs": []
    },
    {
      "cell_type": "code",
      "metadata": {
        "colab": {
          "base_uri": "https://localhost:8080/"
        },
        "id": "XyTnta2WGYtv",
        "outputId": "536ab92e-8623-4d26-ce9e-1870a54d85f7"
      },
      "source": [
        "X_alvo =     [ 1, 0 , 1, 0, 1, 0, 1, 0 , 1, 1]\n",
        "y_predicao = [ 0, 0 , 1, 0, 1, 0, 1, 0 , 1, 1]\n",
        "\n",
        "metricas = calculaMetricas(y_predicao,X_alvo)\n",
        "\n",
        "print(\"Metricas:\", metricas)"
      ],
      "execution_count": 45,
      "outputs": [
        {
          "output_type": "stream",
          "name": "stdout",
          "text": [
            "Metricas: {'Acurácia': 0.9, 'Recall': 0.8333333333333334, 'Precisão': 1.0, 'f1': 0.9090909090909091}\n"
          ]
        }
      ]
    },
    {
      "cell_type": "markdown",
      "metadata": {
        "id": "0IWg0LivJW91"
      },
      "source": [
        "###Calculando métricas"
      ]
    },
    {
      "cell_type": "code",
      "metadata": {
        "colab": {
          "base_uri": "https://localhost:8080/"
        },
        "id": "QFe4qj2fJXHf",
        "outputId": "92ebb08c-452c-4471-b024-41d83559017c"
      },
      "source": [
        "from sklearn.metrics import classification_report\n",
        "\n",
        "X_alvo =     [ 1, 0 , 1, 0, 1, 0, 1, 0 , 1, 1]\n",
        "y_predicao = [ 0, 0 , 1, 0, 1, 0, 1, 0 , 1, 1]\n",
        "\n",
        "print(classification_report(X_alvo, y_predicao))"
      ],
      "execution_count": 46,
      "outputs": [
        {
          "output_type": "stream",
          "name": "stdout",
          "text": [
            "              precision    recall  f1-score   support\n",
            "\n",
            "           0       0.80      1.00      0.89         4\n",
            "           1       1.00      0.83      0.91         6\n",
            "\n",
            "    accuracy                           0.90        10\n",
            "   macro avg       0.90      0.92      0.90        10\n",
            "weighted avg       0.92      0.90      0.90        10\n",
            "\n"
          ]
        }
      ]
    },
    {
      "cell_type": "markdown",
      "metadata": {
        "id": "OINFNbDtwv6G"
      },
      "source": [
        "### Matriz de confusão"
      ]
    },
    {
      "cell_type": "markdown",
      "metadata": {
        "id": "SXnmdcZFJ9Fk"
      },
      "source": [
        "#### Matriz de confusão valores absolutos\n",
        "\n",
        "https://medium.com/@dtuk81/confusion-matrix-visualization-fc31e3f30fea"
      ]
    },
    {
      "cell_type": "code",
      "metadata": {
        "colab": {
          "base_uri": "https://localhost:8080/",
          "height": 449
        },
        "id": "bRFlERQkJ9O4",
        "outputId": "4bdc6f7b-eb23-4f3f-9130-d866030c57f5"
      },
      "source": [
        "import seaborn as sns\n",
        "import matplotlib.pyplot as plt\n",
        "from sklearn.metrics import confusion_matrix\n",
        "from sklearn.metrics import classification_report\n",
        "\n",
        "X_alvo =     [ 1, 0 , 1, 0, 1, 0, 1, 0 , 1, 1]\n",
        "y_predicao = [ 0, 0 , 1, 0, 1, 0, 1, 0 , 1, 1]\n",
        "\n",
        "print(classification_report(X_alvo, y_predicao))\n",
        "\n",
        "# Insere os dados no gráfico\n",
        "ax = sns.heatmap(confusion_matrix(X_alvo, y_predicao), cmap='Blues_r', annot=True, fmt='d')\n",
        "\n",
        "# Título do gráfico\n",
        "ax.set_title('Matriz de confusão')\n",
        "# Texto do eixo x\n",
        "ax.set_xlabel('Rótulos preditos')\n",
        "# Texto do eixo y\n",
        "ax.set_ylabel('Rótulos verdadeiros')\n",
        "# Rótulos adicionais\n",
        "ax.xaxis.set_ticklabels(['Falso(0)', 'Verdadeiro(1)'])\n",
        "ax.yaxis.set_ticklabels(['Falso(0)', 'Verdadeiro(1)'])\n",
        "\n",
        "# Mostra o gráfico\n",
        "plt.show()"
      ],
      "execution_count": 47,
      "outputs": [
        {
          "output_type": "stream",
          "name": "stdout",
          "text": [
            "              precision    recall  f1-score   support\n",
            "\n",
            "           0       0.80      1.00      0.89         4\n",
            "           1       1.00      0.83      0.91         6\n",
            "\n",
            "    accuracy                           0.90        10\n",
            "   macro avg       0.90      0.92      0.90        10\n",
            "weighted avg       0.92      0.90      0.90        10\n",
            "\n"
          ]
        },
        {
          "output_type": "display_data",
          "data": {
            "image/png": "[encoded data removed]",
            "text/plain": [
              "<Figure size 432x288 with 2 Axes>"
            ]
          },
          "metadata": {
            "needs_background": "light"
          }
        }
      ]
    },
    {
      "cell_type": "markdown",
      "metadata": {
        "id": "xMwMCjZInSSX"
      },
      "source": [
        "#### Matriz de confusão em percentual"
      ]
    },
    {
      "cell_type": "code",
      "metadata": {
        "colab": {
          "base_uri": "https://localhost:8080/",
          "height": 449
        },
        "id": "TU8Jd5WHnSSb",
        "outputId": "56b9115c-00fc-4494-875a-facd866eee96"
      },
      "source": [
        "import seaborn as sns\n",
        "import matplotlib.pyplot as plt\n",
        "from sklearn.metrics import confusion_matrix\n",
        "from sklearn.metrics import classification_report\n",
        "import numpy as np\n",
        "\n",
        "X_alvo =     [ 1, 0 , 1, 0, 1, 0, 1, 0 , 1, 1]\n",
        "y_predicao = [ 0, 0 , 1, 0, 1, 0, 1, 0 , 1, 1]\n",
        "\n",
        "print(classification_report(X_alvo, y_predicao))\n",
        "\n",
        "# Insere os dados no gráfico\n",
        "cf_matrix = confusion_matrix(X_alvo, y_predicao)\n",
        "ax = sns.heatmap(cf_matrix/np.sum(cf_matrix), cmap='Blues_r', annot=True, fmt='.2%')\n",
        "\n",
        "# Título do gráfico\n",
        "ax.set_title('Matriz de confusão')\n",
        "# Texto do eixo x\n",
        "ax.set_xlabel('Rótulos preditos')\n",
        "# Texto do eixo y\n",
        "ax.set_ylabel('Rótulos verdadeiros')\n",
        "# Rótulos adicionais\n",
        "ax.xaxis.set_ticklabels(['Falso(0)', 'Verdadeiro(1)'])\n",
        "ax.yaxis.set_ticklabels(['Falso(0)', 'Verdadeiro(1)'])\n",
        "\n",
        "# Mostra o gráfico\n",
        "plt.show()"
      ],
      "execution_count": 48,
      "outputs": [
        {
          "output_type": "stream",
          "name": "stdout",
          "text": [
            "              precision    recall  f1-score   support\n",
            "\n",
            "           0       0.80      1.00      0.89         4\n",
            "           1       1.00      0.83      0.91         6\n",
            "\n",
            "    accuracy                           0.90        10\n",
            "   macro avg       0.90      0.92      0.90        10\n",
            "weighted avg       0.92      0.90      0.90        10\n",
            "\n"
          ]
        },
        {
          "output_type": "display_data",
          "data": {
            "image/png": "[encoded data removed]",
            "text/plain": [
              "<Figure size 432x288 with 2 Axes>"
            ]
          },
          "metadata": {
            "needs_background": "light"
          }
        }
      ]
    },
    {
      "cell_type": "markdown",
      "metadata": {
        "id": "jp5MLFSdnzaZ"
      },
      "source": [
        "#### Matriz de confusão valores absolutos e percentual"
      ]
    },
    {
      "cell_type": "code",
      "metadata": {
        "colab": {
          "base_uri": "https://localhost:8080/",
          "height": 449
        },
        "id": "koAyZ8sXnzaa",
        "outputId": "322829ba-2887-4b0f-e2bd-55028e94794a"
      },
      "source": [
        "import seaborn as sns\n",
        "import matplotlib.pyplot as plt\n",
        "from sklearn.metrics import confusion_matrix\n",
        "from sklearn.metrics import classification_report\n",
        "import numpy as np\n",
        "\n",
        "X_alvo =     [ 1, 0 , 1, 0, 1, 0, 1, 0 , 1, 1]\n",
        "y_predicao = [ 0, 0 , 1, 0, 1, 0, 1, 0 , 1, 1]\n",
        "\n",
        "print(classification_report(X_alvo, y_predicao))\n",
        "\n",
        "# Insere os dados no gráfico\n",
        "cf_matrix = confusion_matrix(X_alvo, y_predicao)\n",
        "quantidade_grupos = [\"{0:0.0f}\".format(valor) for valor in cf_matrix.flatten()]\n",
        "percentual_grupos = [\"{0:.2%}\".format(valor) for valor in cf_matrix.flatten()/np.sum(cf_matrix)]\n",
        "rotulos = [f\"{v1}\\n{v2}\" for v1, v2 in zip(quantidade_grupos,percentual_grupos)]\n",
        "rotulos = np.asarray(rotulos).reshape(2,2)\n",
        "ax = sns.heatmap(cf_matrix, annot=rotulos, fmt='', cmap='Blues_r')\n",
        "\n",
        "# Título do gráfico\n",
        "ax.set_title('Matriz de confusão')\n",
        "# Texto do eixo x\n",
        "ax.set_xlabel('Rótulos preditos')\n",
        "# Texto do eixo y\n",
        "ax.set_ylabel('Rótulos verdadeiros')\n",
        "# Rótulos adicionais\n",
        "ax.xaxis.set_ticklabels(['Falso(0)', 'Verdadeiro(1)'])\n",
        "ax.yaxis.set_ticklabels(['Falso(0)', 'Verdadeiro(1)'])\n",
        "\n",
        "# Mostra o gráfico\n",
        "plt.show()"
      ],
      "execution_count": 49,
      "outputs": [
        {
          "output_type": "stream",
          "name": "stdout",
          "text": [
            "              precision    recall  f1-score   support\n",
            "\n",
            "           0       0.80      1.00      0.89         4\n",
            "           1       1.00      0.83      0.91         6\n",
            "\n",
            "    accuracy                           0.90        10\n",
            "   macro avg       0.90      0.92      0.90        10\n",
            "weighted avg       0.92      0.90      0.90        10\n",
            "\n"
          ]
        },
        {
          "output_type": "display_data",
          "data": {
            "image/png": "[encoded data removed]",
            "text/plain": [
              "<Figure size 432x288 with 2 Axes>"
            ]
          },
          "metadata": {
            "needs_background": "light"
          }
        }
      ]
    },
    {
      "cell_type": "markdown",
      "metadata": {
        "id": "nO7j4Na88vr7"
      },
      "source": [
        "## Binary cross-entropy ou “log loss”\n",
        "\n",
        "https://medium.com/ensina-ai/uma-explica%C3%A7%C3%A3o-visual-para-fun%C3%A7%C3%A3o-de-custo-binary-cross-entropy-ou-log-loss-eaee662c396c"
      ]
    },
    {
      "cell_type": "code",
      "metadata": {
        "id": "CvtssQAg84A5",
        "colab": {
          "base_uri": "https://localhost:8080/"
        },
        "outputId": "a91105d5-4bce-475e-a4c0-a26ea95a6685"
      },
      "source": [
        "from sklearn.linear_model import LogisticRegression\n",
        "from sklearn.metrics import log_loss\n",
        "import numpy as np\n",
        "\n",
        "#entrada\n",
        "X_alvo = np.array([-2.2, -1.4, -.8, .2, .4, .8, 1.2, 2.2, 2.9, 4.6])\n",
        "\n",
        "#rótulos\n",
        "y = np.array([0.0, 0.0, 1.0, 0.0, 1.0, 1.0, 1.0, 1.0, 1.0, 1.0])\n",
        "\n",
        "logr = LogisticRegression(solver='lbfgs')\n",
        "logr.fit(X_alvo.reshape(-1, 1), y)\n",
        "\n",
        "y_predicao = logr.predict_proba(X_alvo.reshape(-1, 1))[:, 1].ravel()\n",
        "loss = log_loss(y, y_predicao)\n",
        "\n",
        "print(\"X:\", X_alvo)\n",
        "print(\"y:\", y)\n",
        "\n",
        "print('p(y) = {}'.format(np.round(y_predicao, 2)))\n",
        "print('Log Loss / Cross Entropy = {:.4f}'.format(loss))"
      ],
      "execution_count": 50,
      "outputs": [
        {
          "output_type": "stream",
          "name": "stdout",
          "text": [
            "X: [-2.2 -1.4 -0.8  0.2  0.4  0.8  1.2  2.2  2.9  4.6]\n",
            "y: [0. 0. 1. 0. 1. 1. 1. 1. 1. 1.]\n",
            "p(y) = [0.19 0.33 0.47 0.7  0.74 0.81 0.86 0.94 0.97 0.99]\n",
            "Log Loss / Cross Entropy = 0.3329\n"
          ]
        }
      ]
    },
    {
      "cell_type": "markdown",
      "metadata": {
        "id": "gVTDlBBAT4DO"
      },
      "source": [
        "## Validação Cruzada k-folds sem classe\n",
        "\n",
        "https://scikit-learn.org/stable/modules/generated/sklearn.model_selection.KFold.html"
      ]
    },
    {
      "cell_type": "code",
      "metadata": {
        "id": "sf3KJzJvT6qM",
        "colab": {
          "base_uri": "https://localhost:8080/"
        },
        "outputId": "0939b159-f2cd-48a3-ec73-4144f1cd7b19"
      },
      "source": [
        "# Import das bibliotecas\n",
        "import numpy as np\n",
        "from sklearn.model_selection import KFold\n",
        "\n",
        "#Conjunto de dados\n",
        "X =  np.array([\"a\", \"b\", \"c\", \"d\", \"e\", \"f\", \"g\", \"h\", \"i\", \"j\"])\n",
        "\n",
        "# Divisão em k folds(n_splits)\n",
        "# shuffle, embaralha cada amostra\n",
        "# Quando shuffle igual True, random_state afeta a ordem dos índices,\n",
        "# que controla a aleatoriedade de cada dobra.\n",
        "kf = KFold(n_splits=5,  random_state=True, shuffle=True)\n",
        "print(kf)\n",
        "\n",
        "# Percorre os indices do conjunto de dados\n",
        "for train_index, test_index in kf.split(X):\n",
        "  print(\"Índices:\", train_index, test_index)\n",
        "  \n",
        "  # Recupera os dados do fold\n",
        "  X_train, X_test = X[train_index], X[test_index]\n",
        "  print(\"Dados  :\", X_train, X_test)"
      ],
      "execution_count": 51,
      "outputs": [
        {
          "output_type": "stream",
          "name": "stdout",
          "text": [
            "KFold(n_splits=5, random_state=True, shuffle=True)\n",
            "Índices: [0 1 3 4 5 6 7 8] [2 9]\n",
            "Dados  : ['a' 'b' 'd' 'e' 'f' 'g' 'h' 'i'] ['c' 'j']\n",
            "Índices: [0 1 2 3 5 7 8 9] [4 6]\n",
            "Dados  : ['a' 'b' 'c' 'd' 'f' 'h' 'i' 'j'] ['e' 'g']\n",
            "Índices: [1 2 4 5 6 7 8 9] [0 3]\n",
            "Dados  : ['b' 'c' 'e' 'f' 'g' 'h' 'i' 'j'] ['a' 'd']\n",
            "Índices: [0 2 3 4 5 6 8 9] [1 7]\n",
            "Dados  : ['a' 'c' 'd' 'e' 'f' 'g' 'i' 'j'] ['b' 'h']\n",
            "Índices: [0 1 2 3 4 6 7 9] [5 8]\n",
            "Dados  : ['a' 'b' 'c' 'd' 'e' 'g' 'h' 'j'] ['f' 'i']\n"
          ]
        }
      ]
    },
    {
      "cell_type": "markdown",
      "metadata": {
        "id": "HxwcNTkFaE89"
      },
      "source": [
        "## Validação Cruzada k-folds com classe\n",
        "\n",
        "https://scikit-learn.org/stable/modules/generated/sklearn.model_selection.StratifiedKFold.html"
      ]
    },
    {
      "cell_type": "code",
      "metadata": {
        "id": "1NP3PB4baFIY",
        "colab": {
          "base_uri": "https://localhost:8080/"
        },
        "outputId": "69c3ee35-fb17-4973-9890-0556399d097d"
      },
      "source": [
        "# Import das bibliotecas\n",
        "import numpy as np\n",
        "from sklearn.model_selection import StratifiedKFold\n",
        "\n",
        "#Conjunto de dados\n",
        "X =  np.array([\"a\", \"b\", \"c\", \"d\", \"e\", \"f\", \"g\", \"h\", \"i\", \"j\"])\n",
        "y =  np.array([\"0\", \"0\", \"1\", \"0\", \"0\", \"0\", \"1\", \"1\", \"1\", \"1\"])\n",
        "\n",
        "# Divisão em k folds em quantidades semelhantes de y\n",
        "# shuffle, embaralha cada amostra\n",
        "# Quando shuffle igual True, random_state afeta a ordem dos índices,\n",
        "# que controla a aleatoriedade de cada dobra.\n",
        "skf = StratifiedKFold(n_splits=5,  random_state=True, shuffle=True)\n",
        "print(skf)\n",
        "\n",
        "# Percorre os indices do conjunto de dados\n",
        "for train_index, test_index in skf.split(X, y):\n",
        "  print(\"Índices:\", train_index, test_index)\n",
        "  \n",
        "  # Recupera os dados do fold\n",
        "  X_train, X_test = X[train_index], X[test_index]\n",
        "  print(\"Dados  :\", X_train, X_test) \n",
        "  y_train, y_test = y[train_index], y[test_index]\n",
        "  print(\"Alvos  :\", y_train, y_test) "
      ],
      "execution_count": 52,
      "outputs": [
        {
          "output_type": "stream",
          "name": "stdout",
          "text": [
            "StratifiedKFold(n_splits=5, random_state=True, shuffle=True)\n",
            "Índices: [0 1 3 5 6 7 8 9] [2 4]\n",
            "Dados  : ['a' 'b' 'd' 'f' 'g' 'h' 'i' 'j'] ['c' 'e']\n",
            "Alvos  : ['0' '0' '0' '0' '1' '1' '1' '1'] ['1' '0']\n",
            "Índices: [0 2 3 4 5 6 7 8] [1 9]\n",
            "Dados  : ['a' 'c' 'd' 'e' 'f' 'g' 'h' 'i'] ['b' 'j']\n",
            "Alvos  : ['0' '1' '0' '0' '0' '1' '1' '1'] ['0' '1']\n",
            "Índices: [1 2 3 4 5 7 8 9] [0 6]\n",
            "Dados  : ['b' 'c' 'd' 'e' 'f' 'h' 'i' 'j'] ['a' 'g']\n",
            "Alvos  : ['0' '1' '0' '0' '0' '1' '1' '1'] ['0' '1']\n",
            "Índices: [0 1 2 3 4 6 7 9] [5 8]\n",
            "Dados  : ['a' 'b' 'c' 'd' 'e' 'g' 'h' 'j'] ['f' 'i']\n",
            "Alvos  : ['0' '0' '1' '0' '0' '1' '1' '1'] ['0' '1']\n",
            "Índices: [0 1 2 4 5 6 8 9] [3 7]\n",
            "Dados  : ['a' 'b' 'c' 'e' 'f' 'g' 'i' 'j'] ['d' 'h']\n",
            "Alvos  : ['0' '0' '1' '0' '0' '1' '1' '1'] ['0' '1']\n"
          ]
        }
      ]
    },
    {
      "cell_type": "markdown",
      "metadata": {
        "id": "cuFkX947giY9"
      },
      "source": [
        "## Curva ROC\n",
        "\n",
        "https://www.iditect.com/how-to/53353923.html\n",
        "\n",
        "https://www.kaggle.com/nicholasgah/obtain-optimal-probability-threshold-using-roc\n",
        "\n",
        "https://stackoverflow.com/questions/28719067/roc-curve-and-cut-off-point-python"
      ]
    }
  ]
}