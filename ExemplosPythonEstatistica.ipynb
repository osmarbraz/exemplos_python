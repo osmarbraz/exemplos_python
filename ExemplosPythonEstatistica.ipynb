{
  "nbformat": 4,
  "nbformat_minor": 0,
  "metadata": {
    "colab": {
      "name": "ExemplosPythonEstatistica.ipynb",
      "provenance": [],
      "collapsed_sections": [],
      "toc_visible": true,
      "include_colab_link": true
    },
    "kernelspec": {
      "name": "python3",
      "display_name": "Python 3"
    }
  },
  "cells": [
    {
      "cell_type": "markdown",
      "metadata": {
        "id": "view-in-github",
        "colab_type": "text"
      },
      "source": [
        "<a href=\"https://colab.research.google.com/github/osmarbraz/exemplos_python/blob/master/ExemplosPythonEstatistica.ipynb\" target=\"_parent\"><img src=\"https://colab.research.google.com/assets/colab-badge.svg\" alt=\"Open In Colab\"/></a>"
      ]
    },
    {
      "cell_type": "markdown",
      "metadata": {
        "id": "xY84ChCNzmQQ",
        "colab_type": "text"
      },
      "source": [
        "# Exemplos Estatísticas Python no Google Colaboratory"
      ]
    },
    {
      "cell_type": "markdown",
      "metadata": {
        "id": "KoMscP0Jo5rw",
        "colab_type": "text"
      },
      "source": [
        "Estatística é a parte da ciência responsável pela coleta, organização e interpretação de dados experimentais e pela extrapolação dos resultados da amostra para a população. \n",
        "\n",
        "Exemplos em python:\n",
        "- Mínimos quadrados;\n",
        "- Estatísticas de conjuntos;\n",
        "- Softmax;\n",
        "- Métricas;\n",
        "- Binary Cross-Entropy.\n",
        "\n",
        "-----------------------------------------\n",
        "**Guia Colab Iniciante:**\n",
        "\n",
        "https://medium.com/machina-sapiens/google-colab-guia-do-iniciante-334d70aad531\n",
        "\n",
        "**Documentação oficial:**\n",
        "\n",
        "https://colab.research.google.com/github/jakevdp/PythonDataScienceHandbook/blob/master/notebooks/01.01-Help-And-Documentation.ipynb\n",
        "\n",
        "**Características :**\n",
        "\n",
        "https://colab.research.google.com/notebooks/basic_features_overview.ipynb\n",
        "\n"
      ]
    },
    {
      "cell_type": "markdown",
      "metadata": {
        "id": "nrlMCnG3a6Lt",
        "colab_type": "text"
      },
      "source": [
        "Precisão e acurácia\n",
        "\n",
        "https://medium.com/@vitorborbarodrigues/m%C3%A9tricas-de-avalia%C3%A7%C3%A3o-acur%C3%A1cia-precis%C3%A3o-recall-quais-as-diferen%C3%A7as-c8f05e0a513c"
      ]
    },
    {
      "cell_type": "markdown",
      "metadata": {
        "id": "28jKHSsvxTyD",
        "colab_type": "text"
      },
      "source": [
        "## Mínimos quadrados\n",
        " \n",
        "https://medium.com/@bruno.dorneles/regress%C3%A3o-linear-conceitos-e-implementa%C3%A7%C3%A3o-com-python-232c19e00f03"
      ]
    },
    {
      "cell_type": "code",
      "metadata": {
        "id": "gYTk3ZdXxYnC",
        "colab_type": "code",
        "colab": {
          "base_uri": "https://localhost:8080/",
          "height": 265
        },
        "outputId": "e699794e-6482-4492-a89e-a10cbf272d1b"
      },
      "source": [
        "import numpy as np\n",
        "import matplotlib.pyplot as plt\n",
        "\n",
        "X = 2 * np.random.rand(100, 1)\n",
        "y = 4 + 3 * X + np.random.randn(100, 1)\n",
        "\n",
        "plt.plot(X, y, \"b.\")\n",
        "plt.axis([0, 2, 0, 15])\n",
        "plt.show()"
      ],
      "execution_count": null,
      "outputs": [
        {
          "output_type": "display_data",
          "data": {
            "image/png": "[encoded data removed]",
            "text/plain": [
              "<Figure size 432x288 with 1 Axes>"
            ]
          },
          "metadata": {
            "tags": [],
            "needs_background": "light"
          }
        }
      ]
    },
    {
      "cell_type": "code",
      "metadata": {
        "id": "gBW3ocwGzSay",
        "colab_type": "code",
        "colab": {}
      },
      "source": [
        "X_b = np.c_[np.ones((100, 1)), X]\n",
        "theta_param = np.linalg.inv(X_b.T.dot(X_b)).dot(X_b.T).dot(y)"
      ],
      "execution_count": null,
      "outputs": []
    },
    {
      "cell_type": "code",
      "metadata": {
        "id": "-Z4kdz3DzZV2",
        "colab_type": "code",
        "colab": {
          "base_uri": "https://localhost:8080/",
          "height": 265
        },
        "outputId": "d5aa5b30-f1e8-4c7f-c5cb-4b0ddecc4439"
      },
      "source": [
        "X_new = np.array([[0], [2]])\n",
        "X_new_b = np.c_[np.ones((2, 1)), X_new]\n",
        "y_predict = X_new_b.dot(theta_param)\n",
        "\n",
        "plt.plot(X_new, y_predict, \"r-\")\n",
        "plt.plot(X, y, \"b.\")\n",
        "plt.axis([0, 2, 0, 15])\n",
        "plt.show()"
      ],
      "execution_count": null,
      "outputs": [
        {
          "output_type": "display_data",
          "data": {
            "image/png": "[encoded data removed]",
            "text/plain": [
              "<Figure size 432x288 with 1 Axes>"
            ]
          },
          "metadata": {
            "tags": [],
            "needs_background": "light"
          }
        }
      ]
    },
    {
      "cell_type": "code",
      "metadata": {
        "id": "nUGjw-QVzgKv",
        "colab_type": "code",
        "colab": {
          "base_uri": "https://localhost:8080/",
          "height": 51
        },
        "outputId": "5ea18bb9-bc86-4051-d675-9d777c18fb79"
      },
      "source": [
        "from sklearn.linear_model import LinearRegression\n",
        "\n",
        "linear_reg = LinearRegression()\n",
        "linear_reg.fit(X, y)\n",
        "linear_reg.intercept_ #coeficiente linear\n",
        "linear_reg.coef_ #coeficiente angular\n",
        "linear_reg.predict(X_new)"
      ],
      "execution_count": null,
      "outputs": [
        {
          "output_type": "execute_result",
          "data": {
            "text/plain": [
              "array([[3.99349044],\n",
              "       [9.97123942]])"
            ]
          },
          "metadata": {
            "tags": []
          },
          "execution_count": 4
        }
      ]
    },
    {
      "cell_type": "markdown",
      "metadata": {
        "id": "Rg-1tAhfixOc",
        "colab_type": "text"
      },
      "source": [
        "## Estatísticas de conjunto"
      ]
    },
    {
      "cell_type": "markdown",
      "metadata": {
        "colab_type": "text",
        "id": "Ea3JlQiPUTn1"
      },
      "source": [
        "### Exemplo 1 - Números e classes"
      ]
    },
    {
      "cell_type": "markdown",
      "metadata": {
        "id": "JZ5Ewl9wZVfH",
        "colab_type": "text"
      },
      "source": [
        "Precisão e Acurácia"
      ]
    },
    {
      "cell_type": "code",
      "metadata": {
        "id": "dS1J-ncjSfLu",
        "colab_type": "code",
        "colab": {
          "base_uri": "https://localhost:8080/",
          "height": 170
        },
        "outputId": "d348558e-e92b-4439-b674-ad2946b5b270"
      },
      "source": [
        "from sklearn.metrics import classification_report\n",
        "\n",
        "X_alvo =     [ 1, 0 , 1, 0, 1, 0, 1, 0 , 1, 1]\n",
        "y_predicao = [ 0, 0 , 1, 0, 1, 0, 1, 0 , 1, 1]\n",
        "\n",
        "nome_alvos = ['class 0', 'class 1'] #mesma quantidade de classes do alvo\n",
        "\n",
        "print(classification_report(X_alvo, y_predicao, target_names=nome_alvos))"
      ],
      "execution_count": null,
      "outputs": [
        {
          "output_type": "stream",
          "text": [
            "              precision    recall  f1-score   support\n",
            "\n",
            "     class 0       0.80      1.00      0.89         4\n",
            "     class 1       1.00      0.83      0.91         6\n",
            "\n",
            "    accuracy                           0.90        10\n",
            "   macro avg       0.90      0.92      0.90        10\n",
            "weighted avg       0.92      0.90      0.90        10\n",
            "\n"
          ],
          "name": "stdout"
        }
      ]
    },
    {
      "cell_type": "markdown",
      "metadata": {
        "id": "WY17LddRZYG4",
        "colab_type": "text"
      },
      "source": [
        "Matrix de confusão"
      ]
    },
    {
      "cell_type": "code",
      "metadata": {
        "id": "tqLWk7ScZZtl",
        "colab_type": "code",
        "colab": {
          "base_uri": "https://localhost:8080/",
          "height": 51
        },
        "outputId": "54b958a0-6f7d-428b-d1c6-24d573f554db"
      },
      "source": [
        "from sklearn.metrics import confusion_matrix\n",
        "\n",
        "print (confusion_matrix(X_alvo, y_predicao))"
      ],
      "execution_count": null,
      "outputs": [
        {
          "output_type": "stream",
          "text": [
            "[[4 0]\n",
            " [1 5]]\n"
          ],
          "name": "stdout"
        }
      ]
    },
    {
      "cell_type": "markdown",
      "metadata": {
        "id": "n4874HBp8le3",
        "colab_type": "text"
      },
      "source": [
        "### Exemplo 2 - Vetorização de frases"
      ]
    },
    {
      "cell_type": "code",
      "metadata": {
        "id": "BsefhtA43qLi",
        "colab_type": "code",
        "colab": {
          "base_uri": "https://localhost:8080/",
          "height": 136
        },
        "outputId": "3f22203b-664e-40d9-8af2-83c053d59169"
      },
      "source": [
        "from keras.preprocessing.text import Tokenizer\n",
        "\n",
        "frases = ['O gato no tapete.', 'O cachorro comeu minha tarefa.']\n",
        "\n",
        "#Procura a frase com o maior número de palavras\n",
        "maior_frase = len(max(frases, key=lambda k: len(k.split())).split())\n",
        "print(\"Tamanho maior frase:\", maior_frase)\n",
        "\n",
        "#cria o tokenizador\n",
        "tokenizador = Tokenizer(num_words=maior_frase)\n",
        "\n",
        "#Ajusta o tamanho\n",
        "tokenizador.fit_on_texts(frases)\n",
        "\n",
        "#cria a matriz do texto\n",
        "matriz_texto = tokenizador.texts_to_matrix(frases, mode='binary')\n",
        "\n",
        "#índices das palavras\n",
        "indice_palavra = tokenizador.word_index\n",
        "\n",
        "#Mostra os dados\n",
        "print(\"Exemplo:\",frases)\n",
        "print(\"Índices:\", indice_palavra)\n",
        "print('Palavras unicas %s .' % len(indice_palavra))\n",
        "\n",
        "#Mostra a matriz das frases\n",
        "print(\"Matriz das frases:\")\n",
        "for x in matriz_texto:\n",
        "   print(x)"
      ],
      "execution_count": null,
      "outputs": [
        {
          "output_type": "stream",
          "text": [
            "Tamanho maior frase: 5\n",
            "Exemplo: ['O gato no tapete.', 'O cachorro comeu minha tarefa.']\n",
            "Índices: {'o': 1, 'gato': 2, 'no': 3, 'tapete': 4, 'cachorro': 5, 'comeu': 6, 'minha': 7, 'tarefa': 8}\n",
            "Palavras unicas 8 .\n",
            "Matriz das frases:\n",
            "[0. 1. 1. 1. 1.]\n",
            "[0. 1. 0. 0. 0.]\n"
          ],
          "name": "stdout"
        }
      ]
    },
    {
      "cell_type": "markdown",
      "metadata": {
        "colab_type": "text",
        "id": "3NH4eq9tT98I"
      },
      "source": [
        "### Exemplo 3 - String e classes"
      ]
    },
    {
      "cell_type": "markdown",
      "metadata": {
        "id": "aDJGxFUFaLXZ",
        "colab_type": "text"
      },
      "source": [
        "Precisão e acurácia"
      ]
    },
    {
      "cell_type": "code",
      "metadata": {
        "colab_type": "code",
        "id": "AI6nf09BaSsy",
        "colab": {
          "base_uri": "https://localhost:8080/",
          "height": 292
        },
        "outputId": "694c7b1e-9ef5-4a56-b2d4-2e8c05a41448"
      },
      "source": [
        "from sklearn.metrics import classification_report\n",
        "\n",
        "y_alvo1   = [\"Quem dia bonito.\", \"Vamos a feira\", \"Bom dia\"]\n",
        "y_alvo   = [\"S1\", \"S2\", \"S3\"]\n",
        "\n",
        "y_predicao1 = [\"Quem dia bonito.\", \"Vamos a feira Bom dia\"]\n",
        "VP = ['SIM','NAO']\n",
        "\n",
        "y_predicao = [\"S1\", \"\", \"S3\"]\n",
        "\n",
        "nome_alvos = ['class 0', 'class 1', 'class 2', 'class 3']\n",
        "\n",
        "print(classification_report(y_alvo, y_predicao, target_names=nome_alvos))"
      ],
      "execution_count": null,
      "outputs": [
        {
          "output_type": "stream",
          "text": [
            "              precision    recall  f1-score   support\n",
            "\n",
            "     class 0       0.00      0.00      0.00         0\n",
            "     class 1       1.00      1.00      1.00         1\n",
            "     class 2       0.00      0.00      0.00         1\n",
            "     class 3       1.00      1.00      1.00         1\n",
            "\n",
            "    accuracy                           0.67         3\n",
            "   macro avg       0.50      0.50      0.50         3\n",
            "weighted avg       0.67      0.67      0.67         3\n",
            "\n"
          ],
          "name": "stdout"
        },
        {
          "output_type": "stream",
          "text": [
            "/usr/local/lib/python3.6/dist-packages/sklearn/metrics/_classification.py:1272: UndefinedMetricWarning: Precision and F-score are ill-defined and being set to 0.0 in labels with no predicted samples. Use `zero_division` parameter to control this behavior.\n",
            "  _warn_prf(average, modifier, msg_start, len(result))\n",
            "/usr/local/lib/python3.6/dist-packages/sklearn/metrics/_classification.py:1272: UndefinedMetricWarning: Recall and F-score are ill-defined and being set to 0.0 in labels with no true samples. Use `zero_division` parameter to control this behavior.\n",
            "  _warn_prf(average, modifier, msg_start, len(result))\n"
          ],
          "name": "stderr"
        }
      ]
    },
    {
      "cell_type": "markdown",
      "metadata": {
        "id": "vXQ_Ucdzc_qh",
        "colab_type": "text"
      },
      "source": [
        "## Softmax"
      ]
    },
    {
      "cell_type": "markdown",
      "metadata": {
        "id": "wIckOA80dCH5",
        "colab_type": "text"
      },
      "source": [
        "### Exemplo manual"
      ]
    },
    {
      "cell_type": "code",
      "metadata": {
        "id": "XtOa2kgodEG2",
        "colab_type": "code",
        "colab": {
          "base_uri": "https://localhost:8080/",
          "height": 68
        },
        "outputId": "60989dbd-dd54-416a-876f-e52e05196ae2"
      },
      "source": [
        "entrada =  [1.2, 0.9, 0.75]\n",
        "\n",
        "print(\"Entrada = \", entrada)\n",
        "\n",
        "soma = sum(entrada)\n",
        "\n",
        "print(\"Soma = \" , soma)\n",
        "\n",
        "saida = []\n",
        "for x in entrada:\n",
        "   saida.append(x/soma)\n",
        "\n",
        "print(\"Saída = \", saida)   "
      ],
      "execution_count": null,
      "outputs": [
        {
          "output_type": "stream",
          "text": [
            "Entrada =  [1.2, 0.9, 0.75]\n",
            "Soma =  2.85\n",
            "Saída =  [0.42105263157894735, 0.3157894736842105, 0.2631578947368421]\n"
          ],
          "name": "stdout"
        }
      ]
    },
    {
      "cell_type": "markdown",
      "metadata": {
        "id": "rKFlfh2Ad2vX",
        "colab_type": "text"
      },
      "source": [
        "### Exemplo NumPy"
      ]
    },
    {
      "cell_type": "code",
      "metadata": {
        "id": "uICnD_pTdwA_",
        "colab_type": "code",
        "colab": {
          "base_uri": "https://localhost:8080/",
          "height": 51
        },
        "outputId": "d7e3a183-d6a0-489c-cf19-14e5213d059a"
      },
      "source": [
        "import numpy as np\n",
        "\n",
        "def softmax(x):\n",
        "    return np.exp(x) / np.exp(x).sum(axis=0)\n",
        "\n",
        "entrada = [1.2, 0.9, 0.75]\n",
        "\n",
        "print(\"Entrada = \", entrada)\n",
        "\n",
        "saida = softmax(entrada)\n",
        "\n",
        "print(\"Saída = \", saida)   "
      ],
      "execution_count": null,
      "outputs": [
        {
          "output_type": "stream",
          "text": [
            "Entrada =  [1.2, 0.9, 0.75]\n",
            "Saída =  [0.42044253 0.31147148 0.26808599]\n"
          ],
          "name": "stdout"
        }
      ]
    },
    {
      "cell_type": "markdown",
      "metadata": {
        "id": "paDtTvj3e6cZ",
        "colab_type": "text"
      },
      "source": [
        "### Exemplo sklearn"
      ]
    },
    {
      "cell_type": "code",
      "metadata": {
        "id": "G6BrnFHKeWOy",
        "colab_type": "code",
        "colab": {
          "base_uri": "https://localhost:8080/",
          "height": 51
        },
        "outputId": "53d4fd99-8e6e-48aa-b0e6-9eb9c75abd8a"
      },
      "source": [
        "from sklearn.utils.extmath import softmax\n",
        "import numpy as np\n",
        "\n",
        "entrada =  [1.2, 0.9, 0.75]\n",
        "\n",
        "print(\"Entrada = \", entrada)\n",
        "\n",
        "saida = softmax(np.array([entrada]))\n",
        "\n",
        "print(\"Saída = \", saida)   "
      ],
      "execution_count": null,
      "outputs": [
        {
          "output_type": "stream",
          "text": [
            "Entrada =  [1.2, 0.9, 0.75]\n",
            "Saída =  [[0.42044253 0.31147148 0.26808599]]\n"
          ],
          "name": "stdout"
        }
      ]
    },
    {
      "cell_type": "markdown",
      "metadata": {
        "id": "cH7gHNo4NYTf",
        "colab_type": "text"
      },
      "source": [
        "## Métricas\n",
        "\n",
        "https://www.youtube.com/watch?v=860F540KmkU"
      ]
    },
    {
      "cell_type": "markdown",
      "metadata": {
        "id": "55nRCj12HwHS",
        "colab_type": "text"
      },
      "source": [
        "### Acurácia"
      ]
    },
    {
      "cell_type": "code",
      "metadata": {
        "id": "eWwJMVeTH3PL",
        "colab_type": "code",
        "colab": {
          "base_uri": "https://localhost:8080/",
          "height": 68
        },
        "outputId": "bffafc21-327c-4c69-910c-b02690a0bae8"
      },
      "source": [
        "from sklearn.metrics import accuracy_score\n",
        "\n",
        "X_alvo =     [ 1, 0 , 1, 0, 1, 0, 1, 0 , 1, 1]\n",
        "y_predicao = [ 0, 0 , 1, 0, 1, 0, 1, 0 , 1, 1]\n",
        "\n",
        "acuracia = accuracy_score(y_predicao,X_alvo)\n",
        "\n",
        "print(\"X:\", X_alvo)\n",
        "print(\"y:\", y_predicao)\n",
        "\n",
        "print(\"Acurácia:\", acuracia)"
      ],
      "execution_count": null,
      "outputs": [
        {
          "output_type": "stream",
          "text": [
            "X: [1, 0, 1, 0, 1, 0, 1, 0, 1, 1]\n",
            "y: [0, 0, 1, 0, 1, 0, 1, 0, 1, 1]\n",
            "Acurácia: 0.9\n"
          ],
          "name": "stdout"
        }
      ]
    },
    {
      "cell_type": "markdown",
      "metadata": {
        "colab_type": "text",
        "id": "6bfCCOLyIntr"
      },
      "source": [
        "### Precisão"
      ]
    },
    {
      "cell_type": "code",
      "metadata": {
        "colab_type": "code",
        "id": "tMpC7ehOInts",
        "colab": {
          "base_uri": "https://localhost:8080/",
          "height": 68
        },
        "outputId": "1b975576-5615-4c73-9a1d-399363d87e1e"
      },
      "source": [
        "from sklearn.metrics import precision_score\n",
        "\n",
        "X_alvo =     [ 1, 0 , 1, 0, 1, 0, 1, 0 , 1, 1]\n",
        "y_predicao = [ 0, 1 , 1, 0, 1, 0, 1, 0 , 1, 1]\n",
        "\n",
        "precisao = precision_score(y_predicao,X_alvo)\n",
        "\n",
        "print(\"X:\", X_alvo)\n",
        "print(\"y:\", y_predicao)\n",
        "\n",
        "print(\"Precisão:\", precisao)"
      ],
      "execution_count": null,
      "outputs": [
        {
          "output_type": "stream",
          "text": [
            "X: [1, 0, 1, 0, 1, 0, 1, 0, 1, 1]\n",
            "y: [0, 1, 1, 0, 1, 0, 1, 0, 1, 1]\n",
            "Precisão: 0.8333333333333334\n"
          ],
          "name": "stdout"
        }
      ]
    },
    {
      "cell_type": "markdown",
      "metadata": {
        "colab_type": "text",
        "id": "sfQGWcVGI4O5"
      },
      "source": [
        "### Recall"
      ]
    },
    {
      "cell_type": "code",
      "metadata": {
        "colab_type": "code",
        "id": "gy_6SxQOI4O6",
        "colab": {
          "base_uri": "https://localhost:8080/",
          "height": 68
        },
        "outputId": "96663886-4631-49ef-f981-cdd37dda71fe"
      },
      "source": [
        "from sklearn.metrics import recall_score\n",
        "\n",
        "X_alvo =     [ 1, 0 , 1, 0, 1, 0, 1, 0 , 1, 1]\n",
        "y_predicao = [ 1, 1 , 1, 0, 1, 0, 1, 0 , 1, 1]\n",
        "\n",
        "recall = recall_score(y_predicao,X_alvo)\n",
        "\n",
        "print(\"X:\", X_alvo)\n",
        "print(\"y:\", y_predicao)\n",
        "\n",
        "print(\"Recall:\", recall)"
      ],
      "execution_count": null,
      "outputs": [
        {
          "output_type": "stream",
          "text": [
            "X: [1, 0, 1, 0, 1, 0, 1, 0, 1, 1]\n",
            "y: [1, 1, 1, 0, 1, 0, 1, 0, 1, 1]\n",
            "Recall: 0.8571428571428571\n"
          ],
          "name": "stdout"
        }
      ]
    },
    {
      "cell_type": "markdown",
      "metadata": {
        "colab_type": "text",
        "id": "Dj658vPpJOW3"
      },
      "source": [
        "### F1 Score"
      ]
    },
    {
      "cell_type": "code",
      "metadata": {
        "colab_type": "code",
        "id": "gtQ4Vc_mJOW4",
        "colab": {
          "base_uri": "https://localhost:8080/",
          "height": 68
        },
        "outputId": "7b7cb1eb-b190-460e-e9dd-cb3a91aadbff"
      },
      "source": [
        "from sklearn.metrics import f1_score\n",
        "\n",
        "X_alvo =     [ 1, 0 , 1, 0, 1, 0, 1, 0 , 1, 1]\n",
        "y_predicao = [ 1, 1 , 1, 0, 1, 0, 1, 0 , 1, 1]\n",
        "\n",
        "f1 = f1_score(X_alvo,y_predicao)\n",
        "\n",
        "print(\"X:\", X_alvo)\n",
        "print(\"y:\", y_predicao)\n",
        "\n",
        "print(\"F1:\", f1)"
      ],
      "execution_count": null,
      "outputs": [
        {
          "output_type": "stream",
          "text": [
            "X: [1, 0, 1, 0, 1, 0, 1, 0, 1, 1]\n",
            "y: [1, 1, 1, 0, 1, 0, 1, 0, 1, 1]\n",
            "F1: 0.923076923076923\n"
          ],
          "name": "stdout"
        }
      ]
    },
    {
      "cell_type": "markdown",
      "metadata": {
        "id": "V5X4Wem-JmY7",
        "colab_type": "text"
      },
      "source": [
        "### Log loss\n",
        "\n",
        "https://www.youtube.com/watch?v=GdNmDQRdL2o"
      ]
    },
    {
      "cell_type": "code",
      "metadata": {
        "id": "qTqUaXDPJnpt",
        "colab_type": "code",
        "colab": {
          "base_uri": "https://localhost:8080/",
          "height": 68
        },
        "outputId": "e9e1d926-6feb-4554-bbde-5fc5ca5ac679"
      },
      "source": [
        "import random\n",
        "from sklearn.metrics import log_loss\n",
        "\n",
        "X_alvo =     [ 1, 0 , 1, 0, 1, 0, 1, 0 , 1, 1]\n",
        "\n",
        "X_alvo_random = [random.random() for i in range(10)]\n",
        "y_predicao = [ 1, 1 , 1, 0, 1, 0, 1, 0 , 1, 1]\n",
        "\n",
        "loss = log_loss(y_predicao, X_alvo_random)\n",
        "\n",
        "print(\"X:\", X_alvo)\n",
        "print(\"y:\", y_predicao)\n",
        "\n",
        "print(\"Log Loss:\", loss)"
      ],
      "execution_count": null,
      "outputs": [
        {
          "output_type": "stream",
          "text": [
            "X: [1, 0, 1, 0, 1, 0, 1, 0, 1, 1]\n",
            "y: [1, 1, 1, 0, 1, 0, 1, 0, 1, 1]\n",
            "Log Loss: 0.9137678517855733\n"
          ],
          "name": "stdout"
        }
      ]
    },
    {
      "cell_type": "markdown",
      "metadata": {
        "id": "ZMOO51ljysN8",
        "colab_type": "text"
      },
      "source": [
        "### Raiz Quadrada do Erro Quadrático Médio 1\n",
        "Root Mean Squared Error (RMSE)\n",
        "\n",
        "O erro quadrático médio é definido\n",
        "como sendo a média da diferença entre o valor do\n",
        "estimador e do parâmetro ao quadrado.\n",
        "\n",
        "https://medium.com/@bruno.dorneles/regress%C3%A3o-linear-conceitos-e-implementa%C3%A7%C3%A3o-com-python-232c19e00f03"
      ]
    },
    {
      "cell_type": "code",
      "metadata": {
        "id": "S7yi3asQyShC",
        "colab_type": "code",
        "colab": {
          "base_uri": "https://localhost:8080/",
          "height": 68
        },
        "outputId": "585a602a-ca5e-4c20-f8b4-44bd24b9988c"
      },
      "source": [
        "from sklearn.metrics import mean_squared_error\n",
        "from math import sqrt\n",
        "\n",
        "X_alvo =     [ 1, 0 , 1, 0, 1, 0, 1, 0 , 1, 1]\n",
        "y_predicao = [ 0, 0 , 1, 0, 1, 0, 1, 0 , 1, 1]\n",
        "\n",
        "rmse = sqrt(mean_squared_error(X_alvo, y_predicao))\n",
        "\n",
        "print(\"X:\", X_alvo)\n",
        "print(\"y:\", y_predicao)\n",
        "\n",
        "print(\"Erro quadrático médio:\", rmse)"
      ],
      "execution_count": null,
      "outputs": [
        {
          "output_type": "stream",
          "text": [
            "X: [1, 0, 1, 0, 1, 0, 1, 0, 1, 1]\n",
            "y: [0, 0, 1, 0, 1, 0, 1, 0, 1, 1]\n",
            "Erro quadrático médio: 0.31622776601683794\n"
          ],
          "name": "stdout"
        }
      ]
    },
    {
      "cell_type": "markdown",
      "metadata": {
        "id": "mFdPiXsI5WPi",
        "colab_type": "text"
      },
      "source": [
        "### Raiz Quadrada do Erro Quadrático Médio 2\n",
        "Root Mean Squared Error (RMSE)\n",
        "\n",
        "https://qastack.com.br/programming/17197492/is-there-a-library-function-for-root-mean-square-error-rmse-in-python"
      ]
    },
    {
      "cell_type": "code",
      "metadata": {
        "id": "KoNF57SN5Vo5",
        "colab_type": "code",
        "colab": {
          "base_uri": "https://localhost:8080/",
          "height": 68
        },
        "outputId": "8e77b41c-056f-4982-a027-b93bf35ad857"
      },
      "source": [
        "import numpy as np\n",
        "\n",
        "X_alvo =     [ 1, 0 , 1, 0, 1, 0, 1, 0 , 1, 1]\n",
        "y_predicao = [ 0, 0 , 1, 0, 1, 0, 1, 0 , 1, 1]\n",
        "\n",
        "rmse = np.sqrt(((np.array(X_alvo) - np.array(y_predicao)) ** 2).mean())\n",
        "\n",
        "print(\"X:\", X_alvo)\n",
        "print(\"y:\", y_predicao)\n",
        "\n",
        "print(\"Erro quadrático médio:\", rmse)"
      ],
      "execution_count": null,
      "outputs": [
        {
          "output_type": "stream",
          "text": [
            "X: [1, 0, 1, 0, 1, 0, 1, 0, 1, 1]\n",
            "y: [0, 0, 1, 0, 1, 0, 1, 0, 1, 1]\n",
            "Erro quadrático médio: 0.31622776601683794\n"
          ],
          "name": "stdout"
        }
      ]
    },
    {
      "cell_type": "markdown",
      "metadata": {
        "id": "-c_rLyc7xRGl",
        "colab_type": "text"
      },
      "source": [
        " ### Coeficiente de correlação de Matthews (MCC)\n",
        "\n",
        "https://scikit-learn.org/stable/modules/generated/sklearn.metrics.matthews_corrcoef.html\n",
        "\n",
        "* 1.0 = Predição perfeita\n",
        "* 0.0 = Média\n",
        "* -1.0 = Predição inversa"
      ]
    },
    {
      "cell_type": "code",
      "metadata": {
        "id": "NPa5P5v3xOOb",
        "colab_type": "code",
        "colab": {
          "base_uri": "https://localhost:8080/",
          "height": 68
        },
        "outputId": "ee0723b7-ed96-4be5-8f3f-43286d146eee"
      },
      "source": [
        "from sklearn.metrics import matthews_corrcoef\n",
        "\n",
        "X_alvo     = [ 1, 0 , 1, 0, 1, 0, 1, 0 , 1, 1]\n",
        "y_predicao = [ 0, 0 , 1, 0, 1, 0, 1, 0 , 1, 1]\n",
        "\n",
        "MCC = matthews_corrcoef(X_alvo, y_predicao)\n",
        "\n",
        "print(\"X:\", X_alvo)\n",
        "print(\"y:\", y_predicao)\n",
        "\n",
        "print(MCC)"
      ],
      "execution_count": null,
      "outputs": [
        {
          "output_type": "stream",
          "text": [
            "X: [1, 0, 1, 0, 1, 0, 1, 0, 1, 1]\n",
            "y: [0, 0, 1, 0, 1, 0, 1, 0, 1, 1]\n",
            "0.816496580927726\n"
          ],
          "name": "stdout"
        }
      ]
    },
    {
      "cell_type": "markdown",
      "metadata": {
        "id": "nO7j4Na88vr7",
        "colab_type": "text"
      },
      "source": [
        "## Binary cross-entropy” ou “log loss”\n",
        "\n",
        "https://medium.com/ensina-ai/uma-explica%C3%A7%C3%A3o-visual-para-fun%C3%A7%C3%A3o-de-custo-binary-cross-entropy-ou-log-loss-eaee662c396c"
      ]
    },
    {
      "cell_type": "code",
      "metadata": {
        "id": "CvtssQAg84A5",
        "colab_type": "code",
        "colab": {
          "base_uri": "https://localhost:8080/",
          "height": 85
        },
        "outputId": "0d9b2895-e080-4ea4-c785-1f8b384fa447"
      },
      "source": [
        "from sklearn.linear_model import LogisticRegression\n",
        "from sklearn.metrics import log_loss\n",
        "import numpy as np\n",
        "\n",
        "#entrada\n",
        "X_alvo = np.array([-2.2, -1.4, -.8, .2, .4, .8, 1.2, 2.2, 2.9, 4.6])\n",
        "\n",
        "#rótulos\n",
        "y = np.array([0.0, 0.0, 1.0, 0.0, 1.0, 1.0, 1.0, 1.0, 1.0, 1.0])\n",
        "\n",
        "logr = LogisticRegression(solver='lbfgs')\n",
        "logr.fit(X_alvo.reshape(-1, 1), y)\n",
        "\n",
        "y_predicao = logr.predict_proba(X_alvo.reshape(-1, 1))[:, 1].ravel()\n",
        "loss = log_loss(y, y_predicao)\n",
        "\n",
        "print(\"X:\", X_alvo)\n",
        "print(\"y:\", y)\n",
        "\n",
        "print('p(y) = {}'.format(np.round(y_predicao, 2)))\n",
        "print('Log Loss / Cross Entropy = {:.4f}'.format(loss))"
      ],
      "execution_count": null,
      "outputs": [
        {
          "output_type": "stream",
          "text": [
            "X: [-2.2 -1.4 -0.8  0.2  0.4  0.8  1.2  2.2  2.9  4.6]\n",
            "y: [0. 0. 1. 0. 1. 1. 1. 1. 1. 1.]\n",
            "p(y) = [0.19 0.33 0.47 0.7  0.74 0.81 0.86 0.94 0.97 0.99]\n",
            "Log Loss / Cross Entropy = 0.3329\n"
          ],
          "name": "stdout"
        }
      ]
    }
  ]
}