{
  "nbformat": 4,
  "nbformat_minor": 0,
  "metadata": {
    "colab": {
      "name": "ExemplosPythonEstatistica.ipynb",
      "provenance": [],
      "collapsed_sections": [],
      "toc_visible": true,
      "include_colab_link": true
    },
    "kernelspec": {
      "name": "python3",
      "display_name": "Python 3"
    }
  },
  "cells": [
    {
      "cell_type": "markdown",
      "metadata": {
        "id": "view-in-github",
        "colab_type": "text"
      },
      "source": [
        "<a href=\"https://colab.research.google.com/github/osmarbraz/exemplos_python/blob/master/ExemplosPythonEstatistica.ipynb\" target=\"_parent\"><img src=\"https://colab.research.google.com/assets/colab-badge.svg\" alt=\"Open In Colab\"/></a>"
      ]
    },
    {
      "cell_type": "markdown",
      "metadata": {
        "id": "xY84ChCNzmQQ"
      },
      "source": [
        "# Exemplos Estatísticas Python no Google Colaboratory"
      ]
    },
    {
      "cell_type": "markdown",
      "metadata": {
        "id": "KoMscP0Jo5rw"
      },
      "source": [
        "Estatística é a parte da ciência responsável pela coleta, organização e interpretação de dados experimentais e pela extrapolação dos resultados da amostra para a população. \n",
        "\n",
        "Exemplos em python:\n",
        "- Medidas de tendência central;\n",
        "- Mínimos quadrados;\n",
        "- Estatísticas de conjuntos;\n",
        "- Softmax;\n",
        "- Métricas;\n",
        "- Binary Cross-Entropy;\n",
        "- Validação cruzada(Cross Validation).\n",
        "\n",
        "-----------------------------------------\n",
        "**Guia Colab Iniciante:**\n",
        "\n",
        "https://medium.com/machina-sapiens/google-colab-guia-do-iniciante-334d70aad531\n",
        "\n",
        "**Documentação oficial:**\n",
        "\n",
        "https://colab.research.google.com/github/jakevdp/PythonDataScienceHandbook/blob/master/notebooks/01.01-Help-And-Documentation.ipynb\n",
        "\n",
        "**Características :**\n",
        "\n",
        "https://colab.research.google.com/notebooks/basic_features_overview.ipynb\n",
        "\n"
      ]
    },
    {
      "cell_type": "markdown",
      "metadata": {
        "id": "nrlMCnG3a6Lt"
      },
      "source": [
        "Precisão e acurácia\n",
        "\n",
        "https://medium.com/@vitorborbarodrigues/m%C3%A9tricas-de-avalia%C3%A7%C3%A3o-acur%C3%A1cia-precis%C3%A3o-recall-quais-as-diferen%C3%A7as-c8f05e0a513c"
      ]
    },
    {
      "cell_type": "markdown",
      "metadata": {
        "id": "S0izDto9A2Bi"
      },
      "source": [
        "##Medidas de tendência central\n",
        "\n",
        "Com as bibliotecas Numpy e Stats.\n",
        "\n",
        "https://medium.com/@naiaracerqueira/estat%C3%ADstica-descritiva-1-ed523dffb99f\n",
        "\n",
        "https://www.w3schools.com/python/python_ml_mean_median_mode.asp"
      ]
    },
    {
      "cell_type": "markdown",
      "metadata": {
        "id": "Y0xEWmb8Ca5-"
      },
      "source": [
        "###Valores"
      ]
    },
    {
      "cell_type": "code",
      "metadata": {
        "id": "iFZkzj_nA3zO",
        "colab": {
          "base_uri": "https://localhost:8080/"
        },
        "outputId": "4ae327b7-fd68-4268-ee58-d41ae848d668"
      },
      "source": [
        "# Declara uma lista com os valores dos números a serem analisados\n",
        "lista = [1,2,7,4,1,9,5,3,9,2,6,8,9,4,2,5,6,7,6,8]\n",
        "\n",
        "# Mostra a quantidade de elementos\n",
        "print(len(lista))"
      ],
      "execution_count": 1,
      "outputs": [
        {
          "output_type": "stream",
          "text": [
            "20\n"
          ],
          "name": "stdout"
        }
      ]
    },
    {
      "cell_type": "markdown",
      "metadata": {
        "id": "ClFiMjf-C2RE"
      },
      "source": [
        "###Média aritmética.\n",
        "\n",
        "Indica o valor onde estão concentrados os dados de um conjunto de valores.\n",
        "\n",
        "Representado por $\\mu$ quando se refere à população e por $\\bar{X}$ quando se refere à amostra.\n",
        "\n",
        "# $$\\mu = \\frac 1n\\sum_{i=1}^{n}X_i$$\n",
        "\n",
        "onde \n",
        "\n",
        "$n$ = número de observações (registros)\n",
        "\n",
        "$X_i$ = valor da i-ésima observação (registro)"
      ]
    },
    {
      "cell_type": "code",
      "metadata": {
        "id": "_ROnzDZuDvFw",
        "colab": {
          "base_uri": "https://localhost:8080/"
        },
        "outputId": "21593531-7b25-4d7c-fd95-5e46301d93cc"
      },
      "source": [
        "# Declara uma lista com os números a serem analisados\n",
        "lista = [1,2,7,4,1,9,5,3,9,2,6,8,9,4,2,5,6,7,6,8]\n",
        "\n",
        "# Somatório\n",
        "soma = 0\n",
        "# Percorre a lista\n",
        "for x in lista:\n",
        "  soma = soma + x\n",
        "\n",
        "# Calcula a média\n",
        "media = soma/len(lista)\n",
        "print(\"Média aritmética: \", media)"
      ],
      "execution_count": 2,
      "outputs": [
        {
          "output_type": "stream",
          "text": [
            "Média aritmética:  5.2\n"
          ],
          "name": "stdout"
        }
      ]
    },
    {
      "cell_type": "markdown",
      "metadata": {
        "id": "elgO1En-EQcB"
      },
      "source": [
        "usando numpy"
      ]
    },
    {
      "cell_type": "code",
      "metadata": {
        "id": "Fwg6NtasDvAa",
        "colab": {
          "base_uri": "https://localhost:8080/"
        },
        "outputId": "b2c74a92-f655-40f6-f7e8-fdb340e14f76"
      },
      "source": [
        "# Import das bibliotecas\n",
        "import numpy as np\n",
        "\n",
        "# Declara uma lista com os números a serem analisados\n",
        "lista = [1,2,7,4,1,9,5,3,9,2,6,8,9,4,2,5,6,7,6,8]\n",
        "\n",
        "# Usa o método mean do numpy\n",
        "media = np.mean(lista)\n",
        "\n",
        "print(\"Média aritmética: \", media)"
      ],
      "execution_count": 3,
      "outputs": [
        {
          "output_type": "stream",
          "text": [
            "Média aritmética:  5.2\n"
          ],
          "name": "stdout"
        }
      ]
    },
    {
      "cell_type": "markdown",
      "metadata": {
        "id": "IkevWqiATGoS"
      },
      "source": [
        "###Mediana\n",
        "\n",
        "Valor que separa a metade superior da metade inferior de uma distribuição de dados, ou o valor no centro da distribuição. \n",
        "\n",
        "Para obtermos a mediana:\n",
        "\n",
        "1. Ordenar o conjunto de dados;\n",
        "2. Identificar o número de observações do conjunto de dados ($n$);\n",
        "3. Identicar o elemento mediano:\n",
        "\n",
        "> Quando $n$ for ímpar, a posição do elemento mediano será obtida da seguinte forma:\n",
        "\n",
        "$$Elemento_{Md} = \\frac{n+1}2$$\n",
        "\n",
        "> Quando $n$ for par, a posição do elemento mediano será obtida da seguinte forma:\n",
        "\n",
        "$$Elemento_{Md} = \\frac{n}2$$\n",
        "\n",
        "4. Obter a mediana:\n",
        "\n",
        "> Quando $n$ for ímpar:\n",
        "\n",
        "$$Md = X_{Elemento_{Md}}$$\n",
        "\n",
        "> Quando $n$ for par:\n",
        "\n",
        "\n",
        "# $$Md = \\frac{X_{Elemento_{Md}} + X_{Elemento_{Md}+1}}2$$\n",
        "***"
      ]
    },
    {
      "cell_type": "code",
      "metadata": {
        "id": "X1bx9tnvTMly",
        "colab": {
          "base_uri": "https://localhost:8080/"
        },
        "outputId": "6d684410-222c-4820-d830-79c1d00c53d6"
      },
      "source": [
        "# Import das bibliotecas\n",
        "import numpy as np\n",
        "\n",
        "# Declara uma lista com os números a serem analisados\n",
        "lista = [1,2,7,4,1,9,5,3,9,2,6,8,9,4,2,5,6,7,6,8]\n",
        "\n",
        "# Usa o método median do numpy\n",
        "mediana = np.median(lista)\n",
        "\n",
        "print(\"Mediana: \", mediana)"
      ],
      "execution_count": 4,
      "outputs": [
        {
          "output_type": "stream",
          "text": [
            "Mediana:  5.5\n"
          ],
          "name": "stdout"
        }
      ]
    },
    {
      "cell_type": "markdown",
      "metadata": {
        "id": "bnVquzpyIyhp"
      },
      "source": [
        "###Moda\n",
        "\n",
        "O valor que mais se repete no conjunto de dados."
      ]
    },
    {
      "cell_type": "code",
      "metadata": {
        "id": "dUeGpiybIzqy",
        "colab": {
          "base_uri": "https://localhost:8080/"
        },
        "outputId": "f2ebfb42-f889-4723-e206-c086466468e9"
      },
      "source": [
        "# Import das bibliotecas\n",
        "import numpy as np\n",
        "from scipy import stats\n",
        "\n",
        "# Declara uma lista com os números a serem analisados\n",
        "lista = [1,2,7,4,1,9,5,3,9,2,6,8,9,4,2,5,6,7,6,8]\n",
        "\n",
        "# Usa o método mode do stats\n",
        "moda = stats.mode(lista)\n",
        "\n",
        "print(\"Moda: \", moda[0])"
      ],
      "execution_count": 5,
      "outputs": [
        {
          "output_type": "stream",
          "text": [
            "Moda:  [2]\n"
          ],
          "name": "stdout"
        }
      ]
    },
    {
      "cell_type": "markdown",
      "metadata": {
        "id": "dnwL9bfKTaED"
      },
      "source": [
        "###Amplitude/Dispersão\n",
        "\n",
        "Diferença entre o maior e o menor valor de um conjunto de dados. \n",
        "\n",
        "Para fazer este cálculo no Pandas, usaremos as funções max() e min(), que obviamente, retornam o valor máximo e mínimo de um conjunto de dados, e depois subtrairemos um do outro:"
      ]
    },
    {
      "cell_type": "code",
      "metadata": {
        "id": "ENNUeRPnTbq6",
        "colab": {
          "base_uri": "https://localhost:8080/"
        },
        "outputId": "cf6785ff-112b-452f-c176-f979cbcbda44"
      },
      "source": [
        "# Import das bibliotecas\n",
        "import numpy as np\n",
        "\n",
        "# Declara uma lista com os números a serem analisados\n",
        "lista = [1,2,7,4,1,9,5,3,9,2,6,8,9,4,2,5,6,7,6,8]\n",
        "\n",
        "# Usa o método max do stats\n",
        "maior = np.max(lista)\n",
        "# Usa o método min do stats\n",
        "menor = np.min(lista)\n",
        "\n",
        "# Calcula a amplitude\n",
        "amplitude = maior - menor\n",
        "\n",
        "print(\"Amplitude: \", amplitude)\n",
        "print(\"Maior: \", maior)\n",
        "print(\"Menor: \", menor)"
      ],
      "execution_count": 6,
      "outputs": [
        {
          "output_type": "stream",
          "text": [
            "Amplitude:  8\n",
            "Maior:  9\n",
            "Menor:  1\n"
          ],
          "name": "stdout"
        }
      ]
    },
    {
      "cell_type": "markdown",
      "metadata": {
        "id": "50ZU7evSdCXb"
      },
      "source": [
        "### Regra de Sturges\n",
        "\n",
        "É um critério usado para determinar o número de classes ou intervalos necessários para representar graficamente um conjunto de dados estatísticos. Esta regra foi enunciada em 1926 pelo matemático alemão Herbert Sturges.\n",
        "\n",
        "$k = 1 + \\frac {10}{3}\\log_{10}n$"
      ]
    },
    {
      "cell_type": "code",
      "metadata": {
        "id": "b_FjVunldEHs",
        "colab": {
          "base_uri": "https://localhost:8080/"
        },
        "outputId": "a3a2851a-5368-466e-82ac-f61a9cb91870"
      },
      "source": [
        "# Import das bibliotecas\n",
        "import math\n",
        "\n",
        "# Declara uma lista com os números a serem analisados\n",
        "lista = [1,2,7,4,1,9,5,3,9,2,6,8,9,4,2,5,6,7,6,8]\n",
        "\n",
        "# Recupera a quantidade de elmeentos da lista\n",
        "n = len(lista)\n",
        "\n",
        "# Calcula k\n",
        "k = 1 + (10/3 * math.log10(n))\n",
        "\n",
        "print(\"k=\",k)"
      ],
      "execution_count": 7,
      "outputs": [
        {
          "output_type": "stream",
          "text": [
            "k= 5.336766652213271\n"
          ],
          "name": "stdout"
        }
      ]
    },
    {
      "cell_type": "markdown",
      "metadata": {
        "id": "64yz-HJNbXQW"
      },
      "source": [
        "###Medidas de dispersão"
      ]
    },
    {
      "cell_type": "markdown",
      "metadata": {
        "id": "FloVQTFCIiFl"
      },
      "source": [
        "####Variância\n",
        "\n",
        "Expressa quanto os dados de um conjunto estão afastados da sua média.\n",
        "\n",
        "Uma amostra é sempre um grupo menor ou um subconjunto dentro de uma população.\n",
        "\n",
        "* Variância populacional\n",
        "\n",
        "$$\\sigma^2 = \\frac 1n\\sum_{i=1}^{n}(X_i-\\mu)^2$$\n",
        "\n",
        "* Variância amostral\n",
        "\n",
        "$$S^2 = \\frac 1{n-1}\\sum_{i=1}^{n}(X_i-\\bar{X})^2$$"
      ]
    },
    {
      "cell_type": "code",
      "metadata": {
        "id": "2bDjwEGlIj9h",
        "colab": {
          "base_uri": "https://localhost:8080/"
        },
        "outputId": "50ad4522-db37-4b64-a860-221ef41b33b3"
      },
      "source": [
        "# Import das bibliotecas\n",
        "import numpy as np\n",
        "\n",
        "# Declara uma lista com os números a serem analisados\n",
        "lista = [1,2,7,4,1,9,5,3,9,2,6,8,9,4,2,5,6,7,6,8]\n",
        "\n",
        "# Usa o método var do numpy\n",
        "media = np.mean(lista)\n",
        "\n",
        "# Usa o método var do numpy\n",
        "variancia = np.var(lista)\n",
        "\n",
        "print(\"Variância: \", variancia)\n",
        "print(\"Media: \", media)"
      ],
      "execution_count": 8,
      "outputs": [
        {
          "output_type": "stream",
          "text": [
            "Variância:  7.06\n",
            "Media:  5.2\n"
          ],
          "name": "stdout"
        }
      ]
    },
    {
      "cell_type": "markdown",
      "metadata": {
        "id": "6wKjLKKGVONQ"
      },
      "source": [
        "Quanto menor a variância mais próximo os valores estão em relação a média."
      ]
    },
    {
      "cell_type": "markdown",
      "metadata": {
        "id": "hZMsJIT6IQFz"
      },
      "source": [
        "####Desvio padrão\n",
        "\n",
        "Indica quanto os dados estão afastados da média. Um valor de desvio padrão alto indica que os valores estão mais espalhados, mais longe da média, e um desvio padrão baixo indica que os valores estão mais próximos da média. \n",
        "\n",
        "Raiz quadrada da variância.\n",
        "\n",
        "* Desvio padrão populacional\n",
        "\n",
        "$$\\sigma = \\sqrt{\\frac 1n\\sum_{i=1}^{n}(X_i-\\mu)^2} \\Longrightarrow \\sigma = \\sqrt{\\sigma^2}$$\n",
        "\n",
        "* Desvio padrão amostral\n",
        "\n",
        "$$S = \\sqrt{\\frac 1{n-1}\\sum_{i=1}^{n}(X_i-\\bar{X})^2} \\Longrightarrow S = \\sqrt{S^2}$$"
      ]
    },
    {
      "cell_type": "code",
      "metadata": {
        "id": "EbUnAt2zIRnx",
        "colab": {
          "base_uri": "https://localhost:8080/"
        },
        "outputId": "7cc91ee1-fc48-43fa-b9a8-f23fd11edfab"
      },
      "source": [
        "# Import das bibliotecas\n",
        "import numpy as np\n",
        "\n",
        "# Declara uma lista com os números a serem analisados\n",
        "lista = [1,2,7,4,1,9,5,3,9,2,6,8,9,4,2,5,6,7,6,8]\n",
        "\n",
        "# Usa o método std do numpy\n",
        "desviopadrao = np.std(lista)\n",
        "\n",
        "print(\"Desvio padrão: \", desviopadrao)"
      ],
      "execution_count": 9,
      "outputs": [
        {
          "output_type": "stream",
          "text": [
            "Desvio padrão:  2.6570660511172846\n"
          ],
          "name": "stdout"
        }
      ]
    },
    {
      "cell_type": "markdown",
      "metadata": {
        "id": "MDYt4hKhR5BY"
      },
      "source": [
        "####Coeficiente de variação\n",
        "\n",
        "Utilizado para comparação entre amostras; é uma medida adimensional."
      ]
    },
    {
      "cell_type": "code",
      "metadata": {
        "id": "yY4soFBIR9zD",
        "colab": {
          "base_uri": "https://localhost:8080/"
        },
        "outputId": "eb941521-943e-49e3-fe17-104b6a28f2be"
      },
      "source": [
        "# Import das bibliotecas\n",
        "import numpy as np\n",
        "\n",
        "# Declara uma lista com os números a serem analisados\n",
        "lista = [1,2,7,4,1,9,5,3,9,2,6,8,9,4,2,5,6,7,6,8]\n",
        "\n",
        "media = np.mean(lista)\n",
        "variancia = np.var(lista)\n",
        "\n",
        "coeficiente = variancia/media\n",
        "\n",
        "print(\"Coeficiente: \", coeficiente)"
      ],
      "execution_count": 10,
      "outputs": [
        {
          "output_type": "stream",
          "text": [
            "Coeficiente:  1.3576923076923075\n"
          ],
          "name": "stdout"
        }
      ]
    },
    {
      "cell_type": "markdown",
      "metadata": {
        "id": "_kzjO4q_bHdL"
      },
      "source": [
        "###Medidas separatrizes"
      ]
    },
    {
      "cell_type": "markdown",
      "metadata": {
        "id": "w5WXoYHVLrQZ"
      },
      "source": [
        "####Percentil\n",
        "\n",
        "Divide o conjunto de dados em 100 partes iguais, ou seja, em pedaços de tamanhos iguais que contêm 1% dos dado."
      ]
    },
    {
      "cell_type": "code",
      "metadata": {
        "id": "AyGLXr4vLs6E",
        "colab": {
          "base_uri": "https://localhost:8080/"
        },
        "outputId": "7e3f8026-b2da-4b8b-b424-d74bd1b0d4ec"
      },
      "source": [
        "# Import das bibliotecas\n",
        "import numpy as np\n",
        "\n",
        "# Declara uma lista com os números a serem analisados\n",
        "lista = [1,2,7,4,1,9,5,3,9,2,6,8,9,4,2,5,6,7,6,8]\n",
        "\n",
        "# Usa o método percentil do numpy\n",
        "P0 = np.percentile(lista, 0)\n",
        "P20 = np.percentile(lista, 20)\n",
        "P40 = np.percentile(lista, 40)\n",
        "P50 = np.percentile(lista, 50)\n",
        "P60 = np.percentile(lista, 60)\n",
        "P80 = np.percentile(lista, 80)\n",
        "P100 = np.percentile(lista, 100)\n",
        "\n",
        "print(\"P0: \", P0)\n",
        "print(\"P20: \", P20)\n",
        "print(\"P40: \", P40)\n",
        "print(\"P50: \", P50)\n",
        "print(\"P60: \", P60)\n",
        "print(\"P100: \", P100)"
      ],
      "execution_count": 11,
      "outputs": [
        {
          "output_type": "stream",
          "text": [
            "P0:  1.0\n",
            "P20:  2.0\n",
            "P40:  4.6000000000000005\n",
            "P50:  5.5\n",
            "P60:  6.0\n",
            "P100:  9.0\n"
          ],
          "name": "stdout"
        }
      ]
    },
    {
      "cell_type": "markdown",
      "metadata": {
        "id": "dLuBSNHBQQCS"
      },
      "source": [
        "####Quartil\n",
        "\n",
        "Divide o conjunto de dados em 4 partes iguais que contém 25% dos dados."
      ]
    },
    {
      "cell_type": "code",
      "metadata": {
        "id": "8GmAslRzQRTh",
        "colab": {
          "base_uri": "https://localhost:8080/"
        },
        "outputId": "1c35b824-c89d-4f24-f102-5dd2f40e6050"
      },
      "source": [
        "# Import das bibliotecas\n",
        "import numpy as np\n",
        "\n",
        "# Declara uma lista com os números a serem analisados\n",
        "lista = [1,2,7,4,1,9,5,3,9,2,6,8,9,4,2,5,6,7,6,8]\n",
        "\n",
        "# Usa o método quantile do numpy\n",
        "Q1 = np.quantile(lista, 0.25)\n",
        "Q2 = np.quantile(lista, 0.50)\n",
        "Q3 = np.quantile(lista, 0.75)\n",
        "Q4 = np.quantile(lista, 1)\n",
        "\n",
        "print(\"Q1: \", Q1)\n",
        "print(\"Q2: \", Q2)\n",
        "print(\"Q3: \", Q3)\n",
        "print(\"Q4: \", Q4)"
      ],
      "execution_count": 12,
      "outputs": [
        {
          "output_type": "stream",
          "text": [
            "Q1:  2.75\n",
            "Q2:  5.5\n",
            "Q3:  7.25\n",
            "Q4:  9\n"
          ],
          "name": "stdout"
        }
      ]
    },
    {
      "cell_type": "markdown",
      "metadata": {
        "id": "QErar0OFMbD8"
      },
      "source": [
        "###Histograma\n",
        "\n",
        "É a representação gráfica de uma distribuição de frequências. É uma gráfico formado por um conjunto de retângulos colocados lado a lado, onde a área de cada retângulo é proporcional à frequência da classe que ele representa."
      ]
    },
    {
      "cell_type": "code",
      "metadata": {
        "id": "dvxaLoB1Mcn0",
        "colab": {
          "base_uri": "https://localhost:8080/",
          "height": 265
        },
        "outputId": "51248e7f-599c-4a45-9c18-12b1ff45cb05"
      },
      "source": [
        "# Import da biblioteca\n",
        "import numpy as np\n",
        "import matplotlib.pyplot as plt\n",
        "\n",
        "# Declara uma lista com os números a serem analisados\n",
        "lista = [1,2,7,4,1,9,5,3,9,2,6,8,9,4,2,5,6,7,6,8]\n",
        "\n",
        "# Cria um histograma com 5 classes\n",
        "plt.hist(lista, bins=5)\n",
        "\n",
        "# Mostra o gráfico\n",
        "plt.show()"
      ],
      "execution_count": 13,
      "outputs": [
        {
          "output_type": "display_data",
          "data": {
            "image/png": "[encoded data removed]",
            "text/plain": [
              "<Figure size 432x288 with 1 Axes>"
            ]
          },
          "metadata": {
            "tags": [],
            "needs_background": "light"
          }
        }
      ]
    },
    {
      "cell_type": "markdown",
      "metadata": {
        "id": "zGYbkbFLN-vY"
      },
      "source": [
        "###Assimetria\n",
        "\n",
        "Valores:\n",
        "* próxima de zero = normalmente distribuídos\n",
        "* valor > 0 = assimetria positiva, distribuição mais a direita. \n",
        "  * valores de moda < mediana < média\n",
        "* valor < 0 = assimetria negativa, distribuição mais a esquerda.\n",
        "  * valores de média < mediana < moda"
      ]
    },
    {
      "cell_type": "code",
      "metadata": {
        "id": "tDaRWa85OAh0",
        "colab": {
          "base_uri": "https://localhost:8080/"
        },
        "outputId": "9ec06f08-37f0-4366-e825-4ca666a9b7bb"
      },
      "source": [
        "# Import das bibliotecas\n",
        "import numpy as np\n",
        "from scipy import stats\n",
        "\n",
        "# Declara uma lista com os números a serem analisados\n",
        "lista = [1,2,7,4,1,9,5,3,9,2,6,8,9,4,2,5,6,7,6,8]\n",
        "\n",
        "# Usa o método stats do scipy\n",
        "assimetria = stats.skew(lista)\n",
        "\n",
        "print(\"Assimetria: \", assimetria)"
      ],
      "execution_count": 14,
      "outputs": [
        {
          "output_type": "stream",
          "text": [
            "Assimetria:  -0.10363088547721301\n"
          ],
          "name": "stdout"
        }
      ]
    },
    {
      "cell_type": "markdown",
      "metadata": {
        "id": "oK9xoMYlOT90"
      },
      "source": [
        "###Curtose\n",
        "\n",
        "Grau de achatamento da curva, em relação a curva normal."
      ]
    },
    {
      "cell_type": "code",
      "metadata": {
        "id": "nNU-rGiIOYSH",
        "colab": {
          "base_uri": "https://localhost:8080/"
        },
        "outputId": "b66b1377-3bdb-49e6-f95d-63556d77e794"
      },
      "source": [
        "# Import das bibliotecas\n",
        "import numpy as np\n",
        "from scipy import stats\n",
        "\n",
        "# Declara uma lista com os números a serem analisados\n",
        "lista = [1,2,7,4,1,9,5,3,9,2,6,8,9,4,2,5,6,7,6,8]\n",
        "\n",
        "# Usa o método kurtosis do stats\n",
        "curtose = stats.kurtosis(lista)\n",
        "\n",
        "print(\"Curtose: \", curtose)"
      ],
      "execution_count": 15,
      "outputs": [
        {
          "output_type": "stream",
          "text": [
            "Curtose:  -1.2593713134685296\n"
          ],
          "name": "stdout"
        }
      ]
    },
    {
      "cell_type": "markdown",
      "metadata": {
        "id": "U9aiefdPVf6F"
      },
      "source": [
        "###Covariância\n",
        "\n",
        "A variância é utilizada quando queremos calcular a dispersão dos dados em relação a uma única variável, quando queremos calcular a dispersão com base em duas variáveis diferentes utilizamos a covariância."
      ]
    },
    {
      "cell_type": "code",
      "metadata": {
        "id": "j4aTmffPVhKT",
        "colab": {
          "base_uri": "https://localhost:8080/"
        },
        "outputId": "aed9756c-1fa9-4cc9-fb9d-aab0a7b14288"
      },
      "source": [
        "dados = np.matrix([[1,2,7,4,1,9,5,3,9,2],\n",
        "                   [6,8,9,4,2,5,6,7,6,8]])\n",
        "\n",
        "# Usa o método cov do numpy\n",
        "covariancia = np.cov(dados)    \n",
        "\n",
        "print(\"Covariancia: \", covariancia)"
      ],
      "execution_count": 16,
      "outputs": [
        {
          "output_type": "stream",
          "text": [
            "Covariancia:  [[9.56666667 0.74444444]\n",
            " [0.74444444 4.32222222]]\n"
          ],
          "name": "stdout"
        }
      ]
    },
    {
      "cell_type": "markdown",
      "metadata": {
        "id": "CluORvGBVyvH"
      },
      "source": [
        "A coraviância indica que quando a variável da primeira linha aumenta, a variável da segunda linha também aumenta."
      ]
    },
    {
      "cell_type": "markdown",
      "metadata": {
        "id": "TggFBN02WMlV"
      },
      "source": [
        "###Correlação\n",
        "\n",
        "Indica como uma variável está relacionada com outra variável. "
      ]
    },
    {
      "cell_type": "code",
      "metadata": {
        "id": "jW6p5JzmWS0p",
        "colab": {
          "base_uri": "https://localhost:8080/"
        },
        "outputId": "3c105a54-14ee-42bc-fff2-146593c27433"
      },
      "source": [
        "dados = np.matrix([[1,2,7,4,1,9,5,3,9,2],\n",
        "                   [6,8,9,4,2,5,6,7,6,8]])\n",
        "\n",
        "# Usa o método corrcoef do numpy\n",
        "correlacao = np.corrcoef(dados)    \n",
        "\n",
        "print(\"Correlação: \", correlacao)"
      ],
      "execution_count": 17,
      "outputs": [
        {
          "output_type": "stream",
          "text": [
            "Correlação:  [[1.         0.11577064]\n",
            " [0.11577064 1.        ]]\n"
          ],
          "name": "stdout"
        }
      ]
    },
    {
      "cell_type": "markdown",
      "metadata": {
        "id": "6A31DxtXWk6o"
      },
      "source": [
        "Quanto mais próximo o valor for de 1, mais forte é a correlação entre as variáveis, se o valor for 0 então não há correlação e quanto mais próximo o valor for de -1, maior é a anticorrelação entre as variáveis."
      ]
    },
    {
      "cell_type": "markdown",
      "metadata": {
        "id": "FBrY6CxHXMux"
      },
      "source": [
        "###Estatística com pandas describe\n"
      ]
    },
    {
      "cell_type": "markdown",
      "metadata": {
        "id": "bjW1C9aNL05Y"
      },
      "source": [
        "#### Simples "
      ]
    },
    {
      "cell_type": "code",
      "metadata": {
        "colab": {
          "base_uri": "https://localhost:8080/",
          "height": 390
        },
        "id": "5igyOYOOXT15",
        "outputId": "1e515776-a26d-438f-c9d0-c58a7a25dc24"
      },
      "source": [
        "# Import das bibliotecas\n",
        "import pandas as pd\n",
        "\n",
        "# Declara uma lista com os valores dos números a serem analisados\n",
        "lista = [1,2,7,4,1,9,5,3,9,2,6,8,9,4,2,5,6,7,6,8]\n",
        "grupo = ['A','A','A','B','A','A','B','A','B','A','A','B','A','B','A','A','B','A','B','A']\n",
        "\n",
        "# Formata os dados\n",
        "dados = {'numero': lista, 'grupo': grupo}\n",
        "\n",
        "# Mostra somente com duas casas decimais os números reais\n",
        "pd.set_option('precision', 2)\n",
        "\n",
        "# Exibe todas as linhas\n",
        "pd.set_option('display.max_rows', None)\n",
        "\n",
        "# Exibe todas as linhas\n",
        "pd.set_option('display.max_columns', None)\n",
        "\n",
        "# Cria um DataFrame das estatísticas a partir dos dados formatados\n",
        "df_stats = pd.DataFrame(data=dados)\n",
        "\n",
        "#Exibe as estatísticas\n",
        "df_stats.describe(include='all') "
      ],
      "execution_count": 18,
      "outputs": [
        {
          "output_type": "execute_result",
          "data": {
            "text/html": [
              "<div>\n",
              "<style scoped>\n",
              "    .dataframe tbody tr th:only-of-type {\n",
              "        vertical-align: middle;\n",
              "    }\n",
              "\n",
              "    .dataframe tbody tr th {\n",
              "        vertical-align: top;\n",
              "    }\n",
              "\n",
              "    .dataframe thead th {\n",
              "        text-align: right;\n",
              "    }\n",
              "</style>\n",
              "<table border=\"1\" class=\"dataframe\">\n",
              "  <thead>\n",
              "    <tr style=\"text-align: right;\">\n",
              "      <th></th>\n",
              "      <th>numero</th>\n",
              "      <th>grupo</th>\n",
              "    </tr>\n",
              "  </thead>\n",
              "  <tbody>\n",
              "    <tr>\n",
              "      <th>count</th>\n",
              "      <td>20.00</td>\n",
              "      <td>20</td>\n",
              "    </tr>\n",
              "    <tr>\n",
              "      <th>unique</th>\n",
              "      <td>NaN</td>\n",
              "      <td>2</td>\n",
              "    </tr>\n",
              "    <tr>\n",
              "      <th>top</th>\n",
              "      <td>NaN</td>\n",
              "      <td>A</td>\n",
              "    </tr>\n",
              "    <tr>\n",
              "      <th>freq</th>\n",
              "      <td>NaN</td>\n",
              "      <td>13</td>\n",
              "    </tr>\n",
              "    <tr>\n",
              "      <th>mean</th>\n",
              "      <td>5.20</td>\n",
              "      <td>NaN</td>\n",
              "    </tr>\n",
              "    <tr>\n",
              "      <th>std</th>\n",
              "      <td>2.73</td>\n",
              "      <td>NaN</td>\n",
              "    </tr>\n",
              "    <tr>\n",
              "      <th>min</th>\n",
              "      <td>1.00</td>\n",
              "      <td>NaN</td>\n",
              "    </tr>\n",
              "    <tr>\n",
              "      <th>25%</th>\n",
              "      <td>2.75</td>\n",
              "      <td>NaN</td>\n",
              "    </tr>\n",
              "    <tr>\n",
              "      <th>50%</th>\n",
              "      <td>5.50</td>\n",
              "      <td>NaN</td>\n",
              "    </tr>\n",
              "    <tr>\n",
              "      <th>75%</th>\n",
              "      <td>7.25</td>\n",
              "      <td>NaN</td>\n",
              "    </tr>\n",
              "    <tr>\n",
              "      <th>max</th>\n",
              "      <td>9.00</td>\n",
              "      <td>NaN</td>\n",
              "    </tr>\n",
              "  </tbody>\n",
              "</table>\n",
              "</div>"
            ],
            "text/plain": [
              "        numero grupo\n",
              "count    20.00    20\n",
              "unique     NaN     2\n",
              "top        NaN     A\n",
              "freq       NaN    13\n",
              "mean      5.20   NaN\n",
              "std       2.73   NaN\n",
              "min       1.00   NaN\n",
              "25%       2.75   NaN\n",
              "50%       5.50   NaN\n",
              "75%       7.25   NaN\n",
              "max       9.00   NaN"
            ]
          },
          "metadata": {
            "tags": []
          },
          "execution_count": 18
        }
      ]
    },
    {
      "cell_type": "markdown",
      "metadata": {
        "id": "C42qtzfMLrMS"
      },
      "source": [
        "#### Especificando o tipo de dados das colunas\n"
      ]
    },
    {
      "cell_type": "code",
      "metadata": {
        "colab": {
          "base_uri": "https://localhost:8080/",
          "height": 297
        },
        "id": "veFgnRaPLrMS",
        "outputId": "03a67a39-b0ed-409d-d7f5-f74e24fc526e"
      },
      "source": [
        "# Import das bibliotecas\n",
        "import pandas as pd\n",
        "\n",
        "# Declara uma lista com os valores dos números a serem analisados\n",
        "lista = [1,2,7,4,1,9,5,3,9,2,6,8,9,4,2,5,6,7,6,8]\n",
        "grupo = ['A','A','A','B','A','A','B','A','B','A','A','B','A','B','A','A','B','A','B','A']\n",
        "\n",
        "# Formata os dados\n",
        "dados = {'numero': lista, 'grupo': grupo}\n",
        "\n",
        "# Mostra somente com duas casas decimais os números reais\n",
        "pd.set_option('precision', 2)\n",
        "\n",
        "# Exibe todas as linhas\n",
        "pd.set_option('display.max_rows', None)\n",
        "\n",
        "# Exibe todas as linhas\n",
        "pd.set_option('display.max_columns', None)\n",
        "\n",
        "# Cria um DataFrame das estatísticas a partir dos dados formatados\n",
        "df_stats = pd.DataFrame(data=dados)\n",
        "\n",
        "#Exibe as estatísticas\n",
        "df_stats.describe(include=['float', 'int']) "
      ],
      "execution_count": 19,
      "outputs": [
        {
          "output_type": "execute_result",
          "data": {
            "text/html": [
              "<div>\n",
              "<style scoped>\n",
              "    .dataframe tbody tr th:only-of-type {\n",
              "        vertical-align: middle;\n",
              "    }\n",
              "\n",
              "    .dataframe tbody tr th {\n",
              "        vertical-align: top;\n",
              "    }\n",
              "\n",
              "    .dataframe thead th {\n",
              "        text-align: right;\n",
              "    }\n",
              "</style>\n",
              "<table border=\"1\" class=\"dataframe\">\n",
              "  <thead>\n",
              "    <tr style=\"text-align: right;\">\n",
              "      <th></th>\n",
              "      <th>numero</th>\n",
              "    </tr>\n",
              "  </thead>\n",
              "  <tbody>\n",
              "    <tr>\n",
              "      <th>count</th>\n",
              "      <td>20.00</td>\n",
              "    </tr>\n",
              "    <tr>\n",
              "      <th>mean</th>\n",
              "      <td>5.20</td>\n",
              "    </tr>\n",
              "    <tr>\n",
              "      <th>std</th>\n",
              "      <td>2.73</td>\n",
              "    </tr>\n",
              "    <tr>\n",
              "      <th>min</th>\n",
              "      <td>1.00</td>\n",
              "    </tr>\n",
              "    <tr>\n",
              "      <th>25%</th>\n",
              "      <td>2.75</td>\n",
              "    </tr>\n",
              "    <tr>\n",
              "      <th>50%</th>\n",
              "      <td>5.50</td>\n",
              "    </tr>\n",
              "    <tr>\n",
              "      <th>75%</th>\n",
              "      <td>7.25</td>\n",
              "    </tr>\n",
              "    <tr>\n",
              "      <th>max</th>\n",
              "      <td>9.00</td>\n",
              "    </tr>\n",
              "  </tbody>\n",
              "</table>\n",
              "</div>"
            ],
            "text/plain": [
              "       numero\n",
              "count   20.00\n",
              "mean     5.20\n",
              "std      2.73\n",
              "min      1.00\n",
              "25%      2.75\n",
              "50%      5.50\n",
              "75%      7.25\n",
              "max      9.00"
            ]
          },
          "metadata": {
            "tags": []
          },
          "execution_count": 19
        }
      ]
    },
    {
      "cell_type": "markdown",
      "metadata": {
        "id": "an7EoAosfB-T"
      },
      "source": [
        "#### Gerando dados transpostos"
      ]
    },
    {
      "cell_type": "code",
      "metadata": {
        "colab": {
          "base_uri": "https://localhost:8080/",
          "height": 80
        },
        "id": "U6MbHVDcZ8jS",
        "outputId": "bff7e5b1-e101-4284-aba4-ce96cca15371"
      },
      "source": [
        "# Import das bibliotecas\n",
        "import pandas as pd\n",
        "\n",
        "# Declara uma lista com os valores dos números a serem analisados\n",
        "lista = [1,2,7,4,1,9,5,3,9,2,6,8,9,4,2,5,6,7,6,8]\n",
        "grupo = ['A','A','A','B','A','A','B','A','B','A','A','B','A','B','A','A','B','A','B','A']\n",
        "\n",
        "# Formata os dados\n",
        "dados = {'numero': lista, 'grupo': grupo}\n",
        "\n",
        "# Mostra somente com duas casas decimais os números reais\n",
        "pd.set_option('precision', 2)\n",
        "\n",
        "# Exibe todas as linhas\n",
        "pd.set_option('display.max_rows', None)\n",
        "\n",
        "# Exibe todas as linhas\n",
        "pd.set_option('display.max_columns', None)\n",
        "\n",
        "# Cria um DataFrame das estatísticas a partir dos dados formatados\n",
        "df_stats = pd.DataFrame(data=dados)\n",
        "\n",
        "#Exibe as estatísticas\n",
        "df_stats.describe(include=['float', 'int']).transpose()"
      ],
      "execution_count": 20,
      "outputs": [
        {
          "output_type": "execute_result",
          "data": {
            "text/html": [
              "<div>\n",
              "<style scoped>\n",
              "    .dataframe tbody tr th:only-of-type {\n",
              "        vertical-align: middle;\n",
              "    }\n",
              "\n",
              "    .dataframe tbody tr th {\n",
              "        vertical-align: top;\n",
              "    }\n",
              "\n",
              "    .dataframe thead th {\n",
              "        text-align: right;\n",
              "    }\n",
              "</style>\n",
              "<table border=\"1\" class=\"dataframe\">\n",
              "  <thead>\n",
              "    <tr style=\"text-align: right;\">\n",
              "      <th></th>\n",
              "      <th>count</th>\n",
              "      <th>mean</th>\n",
              "      <th>std</th>\n",
              "      <th>min</th>\n",
              "      <th>25%</th>\n",
              "      <th>50%</th>\n",
              "      <th>75%</th>\n",
              "      <th>max</th>\n",
              "    </tr>\n",
              "  </thead>\n",
              "  <tbody>\n",
              "    <tr>\n",
              "      <th>numero</th>\n",
              "      <td>20.0</td>\n",
              "      <td>5.2</td>\n",
              "      <td>2.73</td>\n",
              "      <td>1.0</td>\n",
              "      <td>2.75</td>\n",
              "      <td>5.5</td>\n",
              "      <td>7.25</td>\n",
              "      <td>9.0</td>\n",
              "    </tr>\n",
              "  </tbody>\n",
              "</table>\n",
              "</div>"
            ],
            "text/plain": [
              "        count  mean   std  min   25%  50%   75%  max\n",
              "numero   20.0   5.2  2.73  1.0  2.75  5.5  7.25  9.0"
            ]
          },
          "metadata": {
            "tags": []
          },
          "execution_count": 20
        }
      ]
    },
    {
      "cell_type": "markdown",
      "metadata": {
        "id": "UTDX4mYcKbgy"
      },
      "source": [
        "#### Dados agrupados\n"
      ]
    },
    {
      "cell_type": "code",
      "metadata": {
        "colab": {
          "base_uri": "https://localhost:8080/",
          "height": 173
        },
        "id": "2jr_hcQmKbgz",
        "outputId": "b5a9258f-a186-4829-dc4c-b2203d8afa5b"
      },
      "source": [
        "# Import das bibliotecas\n",
        "import pandas as pd\n",
        "\n",
        "# Declara uma lista com os valores dos números a serem analisados\n",
        "lista = [1,2,7,4,1,9,5,3,9,2,6,8,9,4,2,5,6,7,6,8]\n",
        "grupo = ['A','A','A','B','A','A','B','A','B','A','A','B','A','B','A','A','B','A','B','A']\n",
        "\n",
        "# Formata os dados\n",
        "dados = {'numero': lista, 'grupo': grupo}\n",
        "\n",
        "# Mostra somente com duas casas decimais os números reais\n",
        "pd.set_option('precision', 2)\n",
        "\n",
        "# Exibe todas as linhas\n",
        "pd.set_option('display.max_rows', None)\n",
        "\n",
        "# Exibe todas as linhas\n",
        "pd.set_option('display.max_columns', None)\n",
        "\n",
        "# Cria um DataFrame das estatísticas a partir dos dados formatados\n",
        "df_stats = pd.DataFrame(data=dados)\n",
        "\n",
        "# Agrupa pelo grupo\n",
        "df_grupo = df_stats[['numero','grupo']].groupby('grupo')\n",
        "\n",
        "#Exibe as estatísticas\n",
        "df_grupo.describe(include='all') "
      ],
      "execution_count": 21,
      "outputs": [
        {
          "output_type": "execute_result",
          "data": {
            "text/html": [
              "<div>\n",
              "<style scoped>\n",
              "    .dataframe tbody tr th:only-of-type {\n",
              "        vertical-align: middle;\n",
              "    }\n",
              "\n",
              "    .dataframe tbody tr th {\n",
              "        vertical-align: top;\n",
              "    }\n",
              "\n",
              "    .dataframe thead tr th {\n",
              "        text-align: left;\n",
              "    }\n",
              "\n",
              "    .dataframe thead tr:last-of-type th {\n",
              "        text-align: right;\n",
              "    }\n",
              "</style>\n",
              "<table border=\"1\" class=\"dataframe\">\n",
              "  <thead>\n",
              "    <tr>\n",
              "      <th></th>\n",
              "      <th colspan=\"8\" halign=\"left\">numero</th>\n",
              "    </tr>\n",
              "    <tr>\n",
              "      <th></th>\n",
              "      <th>count</th>\n",
              "      <th>mean</th>\n",
              "      <th>std</th>\n",
              "      <th>min</th>\n",
              "      <th>25%</th>\n",
              "      <th>50%</th>\n",
              "      <th>75%</th>\n",
              "      <th>max</th>\n",
              "    </tr>\n",
              "    <tr>\n",
              "      <th>grupo</th>\n",
              "      <th></th>\n",
              "      <th></th>\n",
              "      <th></th>\n",
              "      <th></th>\n",
              "      <th></th>\n",
              "      <th></th>\n",
              "      <th></th>\n",
              "      <th></th>\n",
              "    </tr>\n",
              "  </thead>\n",
              "  <tbody>\n",
              "    <tr>\n",
              "      <th>A</th>\n",
              "      <td>13.0</td>\n",
              "      <td>4.77</td>\n",
              "      <td>3.06</td>\n",
              "      <td>1.0</td>\n",
              "      <td>2.0</td>\n",
              "      <td>5.0</td>\n",
              "      <td>7.0</td>\n",
              "      <td>9.0</td>\n",
              "    </tr>\n",
              "    <tr>\n",
              "      <th>B</th>\n",
              "      <td>7.0</td>\n",
              "      <td>6.00</td>\n",
              "      <td>1.91</td>\n",
              "      <td>4.0</td>\n",
              "      <td>4.5</td>\n",
              "      <td>6.0</td>\n",
              "      <td>7.0</td>\n",
              "      <td>9.0</td>\n",
              "    </tr>\n",
              "  </tbody>\n",
              "</table>\n",
              "</div>"
            ],
            "text/plain": [
              "      numero                                     \n",
              "       count  mean   std  min  25%  50%  75%  max\n",
              "grupo                                            \n",
              "A       13.0  4.77  3.06  1.0  2.0  5.0  7.0  9.0\n",
              "B        7.0  6.00  1.91  4.0  4.5  6.0  7.0  9.0"
            ]
          },
          "metadata": {
            "tags": []
          },
          "execution_count": 21
        }
      ]
    },
    {
      "cell_type": "markdown",
      "metadata": {
        "id": "d-er4JYgLWY1"
      },
      "source": [
        "#### Dados agrupados transpostos\n"
      ]
    },
    {
      "cell_type": "code",
      "metadata": {
        "colab": {
          "base_uri": "https://localhost:8080/",
          "height": 297
        },
        "id": "i4p0T6MwLWY1",
        "outputId": "98b422ef-08fc-4cb4-f320-36c4fbad0c00"
      },
      "source": [
        "# Import das bibliotecas\n",
        "import pandas as pd\n",
        "\n",
        "# Declara uma lista com os valores dos números a serem analisados\n",
        "lista = [1,2,7,4,1,9,5,3,9,2,6,8,9,4,2,5,6,7,6,8]\n",
        "grupo = ['A','A','A','B','A','A','B','A','B','A','A','B','A','B','A','A','B','A','B','A']\n",
        "\n",
        "# Formata os dados\n",
        "dados = {'numero': lista, 'grupo': grupo}\n",
        "\n",
        "# Mostra somente com duas casas decimais os números reais\n",
        "pd.set_option('precision', 2)\n",
        "\n",
        "# Exibe todas as linhas\n",
        "pd.set_option('display.max_rows', None)\n",
        "\n",
        "# Exibe todas as linhas\n",
        "pd.set_option('display.max_columns', None)\n",
        "\n",
        "# Cria um DataFrame das estatísticas a partir dos dados formatados\n",
        "df_stats = pd.DataFrame(data=dados)\n",
        "\n",
        "# Agrupa pelo grupo\n",
        "df_grupo = df_stats[['numero','grupo']].groupby('grupo')\n",
        "\n",
        "#Exibe as estatísticas\n",
        "df_grupo.describe(include='all').transpose()"
      ],
      "execution_count": 22,
      "outputs": [
        {
          "output_type": "execute_result",
          "data": {
            "text/html": [
              "<div>\n",
              "<style scoped>\n",
              "    .dataframe tbody tr th:only-of-type {\n",
              "        vertical-align: middle;\n",
              "    }\n",
              "\n",
              "    .dataframe tbody tr th {\n",
              "        vertical-align: top;\n",
              "    }\n",
              "\n",
              "    .dataframe thead th {\n",
              "        text-align: right;\n",
              "    }\n",
              "</style>\n",
              "<table border=\"1\" class=\"dataframe\">\n",
              "  <thead>\n",
              "    <tr style=\"text-align: right;\">\n",
              "      <th></th>\n",
              "      <th>grupo</th>\n",
              "      <th>A</th>\n",
              "      <th>B</th>\n",
              "    </tr>\n",
              "  </thead>\n",
              "  <tbody>\n",
              "    <tr>\n",
              "      <th rowspan=\"8\" valign=\"top\">numero</th>\n",
              "      <th>count</th>\n",
              "      <td>13.00</td>\n",
              "      <td>7.00</td>\n",
              "    </tr>\n",
              "    <tr>\n",
              "      <th>mean</th>\n",
              "      <td>4.77</td>\n",
              "      <td>6.00</td>\n",
              "    </tr>\n",
              "    <tr>\n",
              "      <th>std</th>\n",
              "      <td>3.06</td>\n",
              "      <td>1.91</td>\n",
              "    </tr>\n",
              "    <tr>\n",
              "      <th>min</th>\n",
              "      <td>1.00</td>\n",
              "      <td>4.00</td>\n",
              "    </tr>\n",
              "    <tr>\n",
              "      <th>25%</th>\n",
              "      <td>2.00</td>\n",
              "      <td>4.50</td>\n",
              "    </tr>\n",
              "    <tr>\n",
              "      <th>50%</th>\n",
              "      <td>5.00</td>\n",
              "      <td>6.00</td>\n",
              "    </tr>\n",
              "    <tr>\n",
              "      <th>75%</th>\n",
              "      <td>7.00</td>\n",
              "      <td>7.00</td>\n",
              "    </tr>\n",
              "    <tr>\n",
              "      <th>max</th>\n",
              "      <td>9.00</td>\n",
              "      <td>9.00</td>\n",
              "    </tr>\n",
              "  </tbody>\n",
              "</table>\n",
              "</div>"
            ],
            "text/plain": [
              "grupo             A     B\n",
              "numero count  13.00  7.00\n",
              "       mean    4.77  6.00\n",
              "       std     3.06  1.91\n",
              "       min     1.00  4.00\n",
              "       25%     2.00  4.50\n",
              "       50%     5.00  6.00\n",
              "       75%     7.00  7.00\n",
              "       max     9.00  9.00"
            ]
          },
          "metadata": {
            "tags": []
          },
          "execution_count": 22
        }
      ]
    },
    {
      "cell_type": "markdown",
      "metadata": {
        "id": "28jKHSsvxTyD"
      },
      "source": [
        "## Mínimos quadrados\n",
        " \n",
        "https://medium.com/@bruno.dorneles/regress%C3%A3o-linear-conceitos-e-implementa%C3%A7%C3%A3o-com-python-232c19e00f03"
      ]
    },
    {
      "cell_type": "code",
      "metadata": {
        "id": "gYTk3ZdXxYnC",
        "colab": {
          "base_uri": "https://localhost:8080/",
          "height": 265
        },
        "outputId": "fcb671ea-7016-4793-a08b-a2e6656a32bf"
      },
      "source": [
        "# Import da biblioteca\n",
        "import numpy as np\n",
        "import matplotlib.pyplot as plt\n",
        "\n",
        "# Gera os dados do eixo X\n",
        "X = 2 * np.random.rand(100, 1)\n",
        "# Gera os dados do eixo y\n",
        "y = 4 + 3 * X + np.random.randn(100, 1)\n",
        "\n",
        "# Insere os dados no gráfico\n",
        "plt.plot(X, y, \"b.\")\n",
        "\n",
        "# Insere os rótulos do eixo x\n",
        "plt.axis([0, 2, 0, 15])\n",
        "\n",
        "# Mostra o gráfico\n",
        "plt.show()"
      ],
      "execution_count": 23,
      "outputs": [
        {
          "output_type": "display_data",
          "data": {
            "image/png": "[encoded data removed]",
            "text/plain": [
              "<Figure size 432x288 with 1 Axes>"
            ]
          },
          "metadata": {
            "tags": [],
            "needs_background": "light"
          }
        }
      ]
    },
    {
      "cell_type": "code",
      "metadata": {
        "id": "gBW3ocwGzSay"
      },
      "source": [
        "X_b = np.c_[np.ones((100, 1)), X]\n",
        "theta_param = np.linalg.inv(X_b.T.dot(X_b)).dot(X_b.T).dot(y)"
      ],
      "execution_count": 24,
      "outputs": []
    },
    {
      "cell_type": "code",
      "metadata": {
        "id": "-Z4kdz3DzZV2",
        "colab": {
          "base_uri": "https://localhost:8080/",
          "height": 265
        },
        "outputId": "932575f1-1907-4142-eba5-587e51c3b7b4"
      },
      "source": [
        "# Import da biblioteca\n",
        "import numpy as np\n",
        "import matplotlib.pyplot as plt\n",
        "\n",
        "# Gera os dados do eixo X\n",
        "X_new = np.array([[0], [2]])\n",
        "X_new_b = np.c_[np.ones((2, 1)), X_new]\n",
        "\n",
        "# Gera os dados do eixo y\n",
        "y_predict = X_new_b.dot(theta_param)\n",
        "\n",
        "# Insere os dados no gráfico\n",
        "plt.plot(X_new, y_predict, \"r-\")\n",
        "plt.plot(X, y, \"b.\")\n",
        "\n",
        "# Insere os rótulos do eixo x\n",
        "plt.axis([0, 2, 0, 15])\n",
        "\n",
        "# Mostra o gráfico\n",
        "plt.show()"
      ],
      "execution_count": 25,
      "outputs": [
        {
          "output_type": "display_data",
          "data": {
            "image/png": "[encoded data removed]",
            "text/plain": [
              "<Figure size 432x288 with 1 Axes>"
            ]
          },
          "metadata": {
            "tags": [],
            "needs_background": "light"
          }
        }
      ]
    },
    {
      "cell_type": "code",
      "metadata": {
        "id": "nUGjw-QVzgKv",
        "colab": {
          "base_uri": "https://localhost:8080/"
        },
        "outputId": "c1c6eff2-14a6-471f-b19b-c611588e8c2f"
      },
      "source": [
        "from sklearn.linear_model import LinearRegression\n",
        "\n",
        "linear_reg = LinearRegression()\n",
        "linear_reg.fit(X, y)\n",
        "linear_reg.intercept_ #coeficiente linear\n",
        "linear_reg.coef_ #coeficiente angular\n",
        "linear_reg.predict(X_new)"
      ],
      "execution_count": 26,
      "outputs": [
        {
          "output_type": "execute_result",
          "data": {
            "text/plain": [
              "array([[4.09890621],\n",
              "       [9.57439471]])"
            ]
          },
          "metadata": {
            "tags": []
          },
          "execution_count": 26
        }
      ]
    },
    {
      "cell_type": "markdown",
      "metadata": {
        "id": "Rg-1tAhfixOc"
      },
      "source": [
        "## Estatísticas de conjunto"
      ]
    },
    {
      "cell_type": "markdown",
      "metadata": {
        "id": "Ea3JlQiPUTn1"
      },
      "source": [
        "### Exemplo 1 - Números e classes"
      ]
    },
    {
      "cell_type": "markdown",
      "metadata": {
        "id": "JZ5Ewl9wZVfH"
      },
      "source": [
        "Precisão e Acurácia"
      ]
    },
    {
      "cell_type": "code",
      "metadata": {
        "id": "dS1J-ncjSfLu",
        "colab": {
          "base_uri": "https://localhost:8080/"
        },
        "outputId": "29c17dec-3d43-40f4-cc3d-32332a37a53d"
      },
      "source": [
        "from sklearn.metrics import classification_report\n",
        "\n",
        "X_alvo =     [ 1, 0 , 1, 0, 1, 0, 1, 0 , 1, 1]\n",
        "y_predicao = [ 0, 0 , 1, 0, 1, 0, 1, 0 , 1, 1]\n",
        "\n",
        "nome_alvos = ['class 0', 'class 1'] #mesma quantidade de classes do alvo\n",
        "\n",
        "print(classification_report(X_alvo, y_predicao, target_names=nome_alvos))"
      ],
      "execution_count": 27,
      "outputs": [
        {
          "output_type": "stream",
          "text": [
            "              precision    recall  f1-score   support\n",
            "\n",
            "     class 0       0.80      1.00      0.89         4\n",
            "     class 1       1.00      0.83      0.91         6\n",
            "\n",
            "    accuracy                           0.90        10\n",
            "   macro avg       0.90      0.92      0.90        10\n",
            "weighted avg       0.92      0.90      0.90        10\n",
            "\n"
          ],
          "name": "stdout"
        }
      ]
    },
    {
      "cell_type": "markdown",
      "metadata": {
        "id": "WY17LddRZYG4"
      },
      "source": [
        "Matrix de confusão texto"
      ]
    },
    {
      "cell_type": "code",
      "metadata": {
        "id": "tqLWk7ScZZtl",
        "colab": {
          "base_uri": "https://localhost:8080/"
        },
        "outputId": "370be75b-a5b0-4d89-baed-e83fa7f9ec89"
      },
      "source": [
        "from sklearn.metrics import confusion_matrix\n",
        "\n",
        "print (confusion_matrix(X_alvo, y_predicao))"
      ],
      "execution_count": 28,
      "outputs": [
        {
          "output_type": "stream",
          "text": [
            "[[4 0]\n",
            " [1 5]]\n"
          ],
          "name": "stdout"
        }
      ]
    },
    {
      "cell_type": "markdown",
      "metadata": {
        "id": "oJcbQ_80K8NV"
      },
      "source": [
        "Matrix de confusão gráfico"
      ]
    },
    {
      "cell_type": "code",
      "metadata": {
        "colab": {
          "base_uri": "https://localhost:8080/",
          "height": 295
        },
        "id": "Kv-0RJb0K8as",
        "outputId": "900e5875-92c0-4afe-b437-83c796258981"
      },
      "source": [
        "import seaborn as sns\r\n",
        "from sklearn.metrics import confusion_matrix\r\n",
        "\r\n",
        "ax = sns.heatmap(confusion_matrix(X_alvo, y_predicao), cmap='Blues_r', annot=True, fmt='d')\r\n",
        "_ = ax.set(xlabel='Valores Preditos', ylabel='Valores Reais', title='Matriz de Confusão')"
      ],
      "execution_count": 29,
      "outputs": [
        {
          "output_type": "display_data",
          "data": {
            "image/png": "[encoded data removed]",
            "text/plain": [
              "<Figure size 432x288 with 2 Axes>"
            ]
          },
          "metadata": {
            "tags": [],
            "needs_background": "light"
          }
        }
      ]
    },
    {
      "cell_type": "markdown",
      "metadata": {
        "id": "n4874HBp8le3"
      },
      "source": [
        "### Exemplo 2 - Vetorização de frases"
      ]
    },
    {
      "cell_type": "code",
      "metadata": {
        "id": "BsefhtA43qLi",
        "colab": {
          "base_uri": "https://localhost:8080/"
        },
        "outputId": "5775b6b8-d32f-41cc-a9c6-424e09e011bf"
      },
      "source": [
        "from keras.preprocessing.text import Tokenizer\n",
        "\n",
        "frases = ['O gato no tapete.', 'O cachorro comeu minha tarefa.']\n",
        "\n",
        "# Procura a frase com o maior número de palavras\n",
        "maior_frase = len(max(frases, key=lambda k: len(k.split())).split())\n",
        "print(\"Tamanho maior frase:\", maior_frase)\n",
        "\n",
        "# Cria o tokenizador\n",
        "tokenizador = Tokenizer(num_words=maior_frase)\n",
        "\n",
        "# Ajusta o tamanho\n",
        "tokenizador.fit_on_texts(frases)\n",
        "\n",
        "# Cria a matriz do texto\n",
        "matriz_texto = tokenizador.texts_to_matrix(frases, mode='binary')\n",
        "\n",
        "# Índices das palavras\n",
        "indice_palavra = tokenizador.word_index\n",
        "\n",
        "# Mostra os dados\n",
        "print(\"Exemplo:\",frases)\n",
        "print(\"Índices:\", indice_palavra)\n",
        "print('Palavras unicas %s .' % len(indice_palavra))\n",
        "\n",
        "# Mostra a matriz das frases\n",
        "print(\"Matriz das frases:\")\n",
        "for x in matriz_texto:\n",
        "   print(x)"
      ],
      "execution_count": 30,
      "outputs": [
        {
          "output_type": "stream",
          "text": [
            "Tamanho maior frase: 5\n",
            "Exemplo: ['O gato no tapete.', 'O cachorro comeu minha tarefa.']\n",
            "Índices: {'o': 1, 'gato': 2, 'no': 3, 'tapete': 4, 'cachorro': 5, 'comeu': 6, 'minha': 7, 'tarefa': 8}\n",
            "Palavras unicas 8 .\n",
            "Matriz das frases:\n",
            "[0. 1. 1. 1. 1.]\n",
            "[0. 1. 0. 0. 0.]\n"
          ],
          "name": "stdout"
        }
      ]
    },
    {
      "cell_type": "markdown",
      "metadata": {
        "id": "3NH4eq9tT98I"
      },
      "source": [
        "### Exemplo 3 - String e classes"
      ]
    },
    {
      "cell_type": "markdown",
      "metadata": {
        "id": "aDJGxFUFaLXZ"
      },
      "source": [
        "Precisão e acurácia"
      ]
    },
    {
      "cell_type": "code",
      "metadata": {
        "id": "AI6nf09BaSsy",
        "colab": {
          "base_uri": "https://localhost:8080/"
        },
        "outputId": "707fdb8c-f280-45ff-ef52-3584dde07242"
      },
      "source": [
        "from sklearn.metrics import classification_report\n",
        "\n",
        "y_alvo1   = [\"Quem dia bonito.\", \"Vamos a feira\", \"Bom dia\"]\n",
        "y_alvo   = [\"S1\", \"S2\", \"S3\"]\n",
        "\n",
        "y_predicao1 = [\"Quem dia bonito.\", \"Vamos a feira Bom dia\"]\n",
        "VP = ['SIM','NAO']\n",
        "\n",
        "y_predicao = [\"S1\", \"\", \"S3\"]\n",
        "\n",
        "nome_alvos = ['class 0', 'class 1', 'class 2', 'class 3']\n",
        "\n",
        "print(classification_report(y_alvo, y_predicao, target_names=nome_alvos))"
      ],
      "execution_count": 31,
      "outputs": [
        {
          "output_type": "stream",
          "text": [
            "              precision    recall  f1-score   support\n",
            "\n",
            "     class 0       0.00      0.00      0.00         0\n",
            "     class 1       1.00      1.00      1.00         1\n",
            "     class 2       0.00      0.00      0.00         1\n",
            "     class 3       1.00      1.00      1.00         1\n",
            "\n",
            "    accuracy                           0.67         3\n",
            "   macro avg       0.50      0.50      0.50         3\n",
            "weighted avg       0.67      0.67      0.67         3\n",
            "\n"
          ],
          "name": "stdout"
        },
        {
          "output_type": "stream",
          "text": [
            "/usr/local/lib/python3.6/dist-packages/sklearn/metrics/_classification.py:1272: UndefinedMetricWarning: Precision and F-score are ill-defined and being set to 0.0 in labels with no predicted samples. Use `zero_division` parameter to control this behavior.\n",
            "  _warn_prf(average, modifier, msg_start, len(result))\n",
            "/usr/local/lib/python3.6/dist-packages/sklearn/metrics/_classification.py:1272: UndefinedMetricWarning: Recall and F-score are ill-defined and being set to 0.0 in labels with no true samples. Use `zero_division` parameter to control this behavior.\n",
            "  _warn_prf(average, modifier, msg_start, len(result))\n"
          ],
          "name": "stderr"
        }
      ]
    },
    {
      "cell_type": "markdown",
      "metadata": {
        "id": "vXQ_Ucdzc_qh"
      },
      "source": [
        "## Softmax"
      ]
    },
    {
      "cell_type": "markdown",
      "metadata": {
        "id": "wIckOA80dCH5"
      },
      "source": [
        "### Exemplo manual"
      ]
    },
    {
      "cell_type": "code",
      "metadata": {
        "id": "XtOa2kgodEG2",
        "colab": {
          "base_uri": "https://localhost:8080/"
        },
        "outputId": "b4678690-bae5-44e7-a528-14c2a3c9f663"
      },
      "source": [
        "entrada =  [1.2, 0.9, 0.75]\n",
        "\n",
        "print(\"Entrada = \", entrada)\n",
        "\n",
        "soma = sum(entrada)\n",
        "\n",
        "print(\"Soma = \" , soma)\n",
        "\n",
        "saida = []\n",
        "for x in entrada:\n",
        "   saida.append(x/soma)\n",
        "\n",
        "print(\"Saída = \", saida)   "
      ],
      "execution_count": 32,
      "outputs": [
        {
          "output_type": "stream",
          "text": [
            "Entrada =  [1.2, 0.9, 0.75]\n",
            "Soma =  2.85\n",
            "Saída =  [0.42105263157894735, 0.3157894736842105, 0.2631578947368421]\n"
          ],
          "name": "stdout"
        }
      ]
    },
    {
      "cell_type": "markdown",
      "metadata": {
        "id": "rKFlfh2Ad2vX"
      },
      "source": [
        "### Exemplo NumPy"
      ]
    },
    {
      "cell_type": "code",
      "metadata": {
        "id": "uICnD_pTdwA_",
        "colab": {
          "base_uri": "https://localhost:8080/"
        },
        "outputId": "156cfe86-a839-4e27-d1cf-779c5976e14a"
      },
      "source": [
        "import numpy as np\n",
        "\n",
        "def softmax(x):\n",
        "    return np.exp(x) / np.exp(x).sum(axis=0)\n",
        "\n",
        "entrada = [1.2, 0.9, 0.75]\n",
        "\n",
        "print(\"Entrada = \", entrada)\n",
        "\n",
        "saida = softmax(entrada)\n",
        "\n",
        "print(\"Saída = \", saida)   "
      ],
      "execution_count": 33,
      "outputs": [
        {
          "output_type": "stream",
          "text": [
            "Entrada =  [1.2, 0.9, 0.75]\n",
            "Saída =  [0.42044253 0.31147148 0.26808599]\n"
          ],
          "name": "stdout"
        }
      ]
    },
    {
      "cell_type": "markdown",
      "metadata": {
        "id": "paDtTvj3e6cZ"
      },
      "source": [
        "### Exemplo sklearn"
      ]
    },
    {
      "cell_type": "code",
      "metadata": {
        "id": "G6BrnFHKeWOy",
        "colab": {
          "base_uri": "https://localhost:8080/"
        },
        "outputId": "027c8d86-54d9-4814-a1a9-b530d0e50103"
      },
      "source": [
        "from sklearn.utils.extmath import softmax\n",
        "import numpy as np\n",
        "\n",
        "entrada =  [1.2, 0.9, 0.75]\n",
        "\n",
        "print(\"Entrada = \", entrada)\n",
        "\n",
        "saida = softmax(np.array([entrada]))\n",
        "\n",
        "print(\"Saída = \", saida)   "
      ],
      "execution_count": 34,
      "outputs": [
        {
          "output_type": "stream",
          "text": [
            "Entrada =  [1.2, 0.9, 0.75]\n",
            "Saída =  [[0.42044253 0.31147148 0.26808599]]\n"
          ],
          "name": "stdout"
        }
      ]
    },
    {
      "cell_type": "markdown",
      "metadata": {
        "id": "cH7gHNo4NYTf"
      },
      "source": [
        "## Métricas\n",
        "\n",
        "https://www.youtube.com/watch?v=860F540KmkU\n",
        "\n",
        "https://medium.com/data-hackers/entendendo-o-que-%C3%A9-matriz-de-confus%C3%A3o-com-python-114e683ec509"
      ]
    },
    {
      "cell_type": "markdown",
      "metadata": {
        "id": "55nRCj12HwHS"
      },
      "source": [
        "### Acurácia"
      ]
    },
    {
      "cell_type": "code",
      "metadata": {
        "id": "eWwJMVeTH3PL",
        "colab": {
          "base_uri": "https://localhost:8080/"
        },
        "outputId": "fd95cbf5-6c97-4200-81a3-b91e5e223438"
      },
      "source": [
        "from sklearn.metrics import accuracy_score\n",
        "\n",
        "X_alvo =     [ 1, 0 , 1, 0, 1, 0, 1, 0 , 1, 1]\n",
        "y_predicao = [ 0, 0 , 1, 0, 1, 0, 1, 0 , 1, 1]\n",
        "\n",
        "acuracia = accuracy_score(y_predicao,X_alvo)\n",
        "\n",
        "print(\"X:\", X_alvo)\n",
        "print(\"y:\", y_predicao)\n",
        "\n",
        "print(\"Acurácia:\", acuracia)"
      ],
      "execution_count": 35,
      "outputs": [
        {
          "output_type": "stream",
          "text": [
            "X: [1, 0, 1, 0, 1, 0, 1, 0, 1, 1]\n",
            "y: [0, 0, 1, 0, 1, 0, 1, 0, 1, 1]\n",
            "Acurácia: 0.9\n"
          ],
          "name": "stdout"
        }
      ]
    },
    {
      "cell_type": "markdown",
      "metadata": {
        "id": "6bfCCOLyIntr"
      },
      "source": [
        "### Precisão"
      ]
    },
    {
      "cell_type": "code",
      "metadata": {
        "id": "tMpC7ehOInts",
        "colab": {
          "base_uri": "https://localhost:8080/"
        },
        "outputId": "5c643d28-6445-4ee8-ba61-7c528bf70d62"
      },
      "source": [
        "from sklearn.metrics import precision_score\n",
        "\n",
        "X_alvo =     [ 1, 0 , 1, 0, 1, 0, 1, 0 , 1, 1]\n",
        "y_predicao = [ 0, 1 , 1, 0, 1, 0, 1, 0 , 1, 1]\n",
        "\n",
        "precisao = precision_score(y_predicao,X_alvo)\n",
        "\n",
        "print(\"X:\", X_alvo)\n",
        "print(\"y:\", y_predicao)\n",
        "\n",
        "print(\"Precisão:\", precisao)"
      ],
      "execution_count": 36,
      "outputs": [
        {
          "output_type": "stream",
          "text": [
            "X: [1, 0, 1, 0, 1, 0, 1, 0, 1, 1]\n",
            "y: [0, 1, 1, 0, 1, 0, 1, 0, 1, 1]\n",
            "Precisão: 0.8333333333333334\n"
          ],
          "name": "stdout"
        }
      ]
    },
    {
      "cell_type": "markdown",
      "metadata": {
        "id": "sfQGWcVGI4O5"
      },
      "source": [
        "### Recall"
      ]
    },
    {
      "cell_type": "code",
      "metadata": {
        "id": "gy_6SxQOI4O6",
        "colab": {
          "base_uri": "https://localhost:8080/"
        },
        "outputId": "1c1ce8f3-aa58-43af-8d10-2980a8767f02"
      },
      "source": [
        "from sklearn.metrics import recall_score\n",
        "\n",
        "X_alvo =     [ 1, 0 , 1, 0, 1, 0, 1, 0 , 1, 1]\n",
        "y_predicao = [ 1, 1 , 1, 0, 1, 0, 1, 0 , 1, 1]\n",
        "\n",
        "recall = recall_score(y_predicao,X_alvo)\n",
        "\n",
        "print(\"X:\", X_alvo)\n",
        "print(\"y:\", y_predicao)\n",
        "\n",
        "print(\"Recall:\", recall)"
      ],
      "execution_count": 37,
      "outputs": [
        {
          "output_type": "stream",
          "text": [
            "X: [1, 0, 1, 0, 1, 0, 1, 0, 1, 1]\n",
            "y: [1, 1, 1, 0, 1, 0, 1, 0, 1, 1]\n",
            "Recall: 0.8571428571428571\n"
          ],
          "name": "stdout"
        }
      ]
    },
    {
      "cell_type": "markdown",
      "metadata": {
        "id": "Dj658vPpJOW3"
      },
      "source": [
        "### F1 Score"
      ]
    },
    {
      "cell_type": "code",
      "metadata": {
        "id": "gtQ4Vc_mJOW4",
        "colab": {
          "base_uri": "https://localhost:8080/"
        },
        "outputId": "e8e50092-41c7-4ad2-9369-29daca2da650"
      },
      "source": [
        "from sklearn.metrics import f1_score\n",
        "\n",
        "X_alvo =     [ 1, 0 , 1, 0, 1, 0, 1, 0 , 1, 1]\n",
        "y_predicao = [ 1, 1 , 1, 0, 1, 0, 1, 0 , 1, 1]\n",
        "\n",
        "f1 = f1_score(X_alvo,y_predicao)\n",
        "\n",
        "print(\"X:\", X_alvo)\n",
        "print(\"y:\", y_predicao)\n",
        "\n",
        "print(\"F1:\", f1)"
      ],
      "execution_count": 38,
      "outputs": [
        {
          "output_type": "stream",
          "text": [
            "X: [1, 0, 1, 0, 1, 0, 1, 0, 1, 1]\n",
            "y: [1, 1, 1, 0, 1, 0, 1, 0, 1, 1]\n",
            "F1: 0.923076923076923\n"
          ],
          "name": "stdout"
        }
      ]
    },
    {
      "cell_type": "markdown",
      "metadata": {
        "id": "V5X4Wem-JmY7"
      },
      "source": [
        "### Log loss\n",
        "\n",
        "https://www.youtube.com/watch?v=GdNmDQRdL2o"
      ]
    },
    {
      "cell_type": "code",
      "metadata": {
        "id": "qTqUaXDPJnpt",
        "colab": {
          "base_uri": "https://localhost:8080/"
        },
        "outputId": "45c199c9-f656-4c26-aa87-d0c3d14f4f89"
      },
      "source": [
        "import random\n",
        "from sklearn.metrics import log_loss\n",
        "\n",
        "X_alvo =     [ 1, 0 , 1, 0, 1, 0, 1, 0 , 1, 1]\n",
        "\n",
        "X_alvo_random = [random.random() for i in range(10)]\n",
        "y_predicao = [ 1, 1 , 1, 0, 1, 0, 1, 0 , 1, 1]\n",
        "\n",
        "loss = log_loss(y_predicao, X_alvo_random)\n",
        "\n",
        "print(\"X:\", X_alvo)\n",
        "print(\"y:\", y_predicao)\n",
        "\n",
        "print(\"Log Loss:\", loss)"
      ],
      "execution_count": 39,
      "outputs": [
        {
          "output_type": "stream",
          "text": [
            "X: [1, 0, 1, 0, 1, 0, 1, 0, 1, 1]\n",
            "y: [1, 1, 1, 0, 1, 0, 1, 0, 1, 1]\n",
            "Log Loss: 0.8295711510297389\n"
          ],
          "name": "stdout"
        }
      ]
    },
    {
      "cell_type": "markdown",
      "metadata": {
        "id": "ZMOO51ljysN8"
      },
      "source": [
        "### Raiz Quadrada do Erro Quadrático Médio 1\n",
        "Root Mean Squared Error (RMSE)\n",
        "\n",
        "O erro quadrático médio é definido\n",
        "como sendo a média da diferença entre o valor do\n",
        "estimador e do parâmetro ao quadrado.\n",
        "\n",
        "https://medium.com/@bruno.dorneles/regress%C3%A3o-linear-conceitos-e-implementa%C3%A7%C3%A3o-com-python-232c19e00f03"
      ]
    },
    {
      "cell_type": "code",
      "metadata": {
        "id": "S7yi3asQyShC",
        "colab": {
          "base_uri": "https://localhost:8080/"
        },
        "outputId": "990f1fb1-cd48-45f9-f28e-fa679e25024b"
      },
      "source": [
        "from sklearn.metrics import mean_squared_error\n",
        "from math import sqrt\n",
        "\n",
        "X_alvo =     [ 1, 0 , 1, 0, 1, 0, 1, 0 , 1, 1]\n",
        "y_predicao = [ 0, 0 , 1, 0, 1, 0, 1, 0 , 1, 1]\n",
        "\n",
        "rmse = sqrt(mean_squared_error(X_alvo, y_predicao))\n",
        "\n",
        "print(\"X:\", X_alvo)\n",
        "print(\"y:\", y_predicao)\n",
        "\n",
        "print(\"Erro quadrático médio:\", rmse)"
      ],
      "execution_count": 40,
      "outputs": [
        {
          "output_type": "stream",
          "text": [
            "X: [1, 0, 1, 0, 1, 0, 1, 0, 1, 1]\n",
            "y: [0, 0, 1, 0, 1, 0, 1, 0, 1, 1]\n",
            "Erro quadrático médio: 0.31622776601683794\n"
          ],
          "name": "stdout"
        }
      ]
    },
    {
      "cell_type": "markdown",
      "metadata": {
        "id": "mFdPiXsI5WPi"
      },
      "source": [
        "### Raiz Quadrada do Erro Quadrático Médio 2\n",
        "Root Mean Squared Error (RMSE)\n",
        "\n",
        "https://qastack.com.br/programming/17197492/is-there-a-library-function-for-root-mean-square-error-rmse-in-python"
      ]
    },
    {
      "cell_type": "code",
      "metadata": {
        "id": "KoNF57SN5Vo5",
        "colab": {
          "base_uri": "https://localhost:8080/"
        },
        "outputId": "95961b39-a598-4754-d54e-665e92d501e2"
      },
      "source": [
        "import numpy as np\n",
        "\n",
        "X_alvo =     [ 1, 0 , 1, 0, 1, 0, 1, 0 , 1, 1]\n",
        "y_predicao = [ 0, 0 , 1, 0, 1, 0, 1, 0 , 1, 1]\n",
        "\n",
        "rmse = np.sqrt(((np.array(X_alvo) - np.array(y_predicao)) ** 2).mean())\n",
        "\n",
        "print(\"X:\", X_alvo)\n",
        "print(\"y:\", y_predicao)\n",
        "\n",
        "print(\"Erro quadrático médio:\", rmse)"
      ],
      "execution_count": 41,
      "outputs": [
        {
          "output_type": "stream",
          "text": [
            "X: [1, 0, 1, 0, 1, 0, 1, 0, 1, 1]\n",
            "y: [0, 0, 1, 0, 1, 0, 1, 0, 1, 1]\n",
            "Erro quadrático médio: 0.31622776601683794\n"
          ],
          "name": "stdout"
        }
      ]
    },
    {
      "cell_type": "markdown",
      "metadata": {
        "id": "-c_rLyc7xRGl"
      },
      "source": [
        " ### Coeficiente de correlação de Matthews (MCC)\n",
        "\n",
        "https://scikit-learn.org/stable/modules/generated/sklearn.metrics.matthews_corrcoef.html\n",
        "\n",
        "* 1.0 = Predição perfeita\n",
        "* 0.0 = Média\n",
        "* -1.0 = Predição inversa"
      ]
    },
    {
      "cell_type": "code",
      "metadata": {
        "id": "NPa5P5v3xOOb",
        "colab": {
          "base_uri": "https://localhost:8080/"
        },
        "outputId": "e22dc1f9-4679-4329-9244-a8cb8468a857"
      },
      "source": [
        "from sklearn.metrics import matthews_corrcoef\n",
        "\n",
        "X_alvo     = [ 1, 0 , 1, 0, 1, 0, 1, 0 , 1, 1]\n",
        "y_predicao = [ 0, 0 , 1, 0, 1, 0, 1, 0 , 1, 1]\n",
        "\n",
        "MCC = matthews_corrcoef(X_alvo, y_predicao)\n",
        "\n",
        "print(\"X:\", X_alvo)\n",
        "print(\"y:\", y_predicao)\n",
        "\n",
        "print(MCC)"
      ],
      "execution_count": 42,
      "outputs": [
        {
          "output_type": "stream",
          "text": [
            "X: [1, 0, 1, 0, 1, 0, 1, 0, 1, 1]\n",
            "y: [0, 0, 1, 0, 1, 0, 1, 0, 1, 1]\n",
            "0.816496580927726\n"
          ],
          "name": "stdout"
        }
      ]
    },
    {
      "cell_type": "markdown",
      "metadata": {
        "id": "RZyweh5FR04w"
      },
      "source": [
        "### Cálculo de métricas"
      ]
    },
    {
      "cell_type": "code",
      "metadata": {
        "colab": {
          "base_uri": "https://localhost:8080/"
        },
        "id": "PjBJtGZUR1CY",
        "outputId": "7718c61c-b851-41ea-c3e2-fa26629d1e44"
      },
      "source": [
        "X_alvo     =  np.array([ 1, 0 , 1, 0, 1, 0, 1, 0 , 1, 1])\r\n",
        "y_predicao =  np.array([ 0, 0 , 1, 0, 1, 0, 1, 0 , 1, 1])\r\n",
        "\r\n",
        "# Acumula os resultados dos testes         \r\n",
        "vp = [] # Verdadeiro positivo\r\n",
        "vn = [] # Verdadeiro negativo\r\n",
        "fp = [] # Falso positivo\r\n",
        "fn = [] # Falso negativo\r\n",
        "\r\n",
        "# Verifica a predição realizada e o rótulo previsto\r\n",
        "vp.append(((y_predicao==1) & (X_alvo==1)).sum())\r\n",
        "vn.append(((y_predicao==0) & (X_alvo==0)).sum())\r\n",
        "fp.append(((y_predicao==1) & (X_alvo==0)).sum())\r\n",
        "fn.append(((y_predicao==0) & (X_alvo==1)).sum())\r\n",
        "\r\n",
        "vp_s, vn_s, fp_s, fn_s = sum(vp), sum(vn), sum(fp), sum(fn)\r\n",
        "acc = (vp_s+vn_s)/(vp_s+vn_s+fp_s+fn_s)\r\n",
        "if (vp_s+fn_s) != 0:\r\n",
        "  rec = (vp_s)/(vp_s+fn_s)\r\n",
        "else:\r\n",
        "  rec = 0        \r\n",
        "if (vp_s+fp_s) != 0:\r\n",
        "  pre = (vp_s)/(vp_s+fp_s)\r\n",
        "else:\r\n",
        "  pre = 0        \r\n",
        "if (pre + rec) != 0:\r\n",
        "  f1 = 2 * ((pre * rec)/(pre + rec))\r\n",
        "else:\r\n",
        "  f1 = 0            \r\n",
        "        \r\n",
        "print('Acurácia: {:.8f}; Recall: {:.8f}; Precisão: {:.8f}, F1:{:.8f}, vp: {}; vn: {}; fp: {}; fn: {}'.format(acc, rec, pre, f1, vp_s, vn_s, fp_s, fn_s))\r\n"
      ],
      "execution_count": 43,
      "outputs": [
        {
          "output_type": "stream",
          "text": [
            "Acurácia: 0.90000000; Recall: 0.83333333; Precisão: 1.00000000, F1:0.90909091, vp: 5; vn: 4; fp: 0; fn: 1\n"
          ],
          "name": "stdout"
        }
      ]
    },
    {
      "cell_type": "markdown",
      "metadata": {
        "id": "ymMo2aTaGYgK"
      },
      "source": [
        "###Função de cálculo de métricas"
      ]
    },
    {
      "cell_type": "code",
      "metadata": {
        "id": "hmbVrWkrIXVr"
      },
      "source": [
        "from sklearn.metrics import accuracy_score, precision_recall_fscore_support\r\n",
        "\r\n",
        "def calculaMetricas(predicoes, alvos):\r\n",
        "    precisao, recall, f1, _ = precision_recall_fscore_support(alvos, predicoes, average='binary')\r\n",
        "    acuracia = accuracy_score(alvos, predicoes)\r\n",
        "    return {\r\n",
        "        'Acurácia': acuracia,\r\n",
        "        'Recall': recall,\r\n",
        "        'Precisão': precisao,\r\n",
        "        'f1': f1\r\n",
        "    }"
      ],
      "execution_count": 44,
      "outputs": []
    },
    {
      "cell_type": "code",
      "metadata": {
        "colab": {
          "base_uri": "https://localhost:8080/"
        },
        "id": "XyTnta2WGYtv",
        "outputId": "7301f85e-cd97-4afb-84e7-7a58b6d4d9f0"
      },
      "source": [
        "X_alvo =     [ 1, 0 , 1, 0, 1, 0, 1, 0 , 1, 1]\r\n",
        "y_predicao = [ 0, 0 , 1, 0, 1, 0, 1, 0 , 1, 1]\r\n",
        "\r\n",
        "metricas = calculaMetricas(y_predicao,X_alvo)\r\n",
        "\r\n",
        "print(\"Metricas:\", metricas)"
      ],
      "execution_count": 45,
      "outputs": [
        {
          "output_type": "stream",
          "text": [
            "Metricas: {'Acurácia': 0.9, 'Recall': 0.8333333333333334, 'Precisão': 1.0, 'f1': 0.9090909090909091}\n"
          ],
          "name": "stdout"
        }
      ]
    },
    {
      "cell_type": "markdown",
      "metadata": {
        "id": "0IWg0LivJW91"
      },
      "source": [
        "###Calculando métricas"
      ]
    },
    {
      "cell_type": "code",
      "metadata": {
        "colab": {
          "base_uri": "https://localhost:8080/"
        },
        "id": "QFe4qj2fJXHf",
        "outputId": "56ac2e4c-c822-4229-ee80-fcde41b89a80"
      },
      "source": [
        "from sklearn.metrics import classification_report\r\n",
        "\r\n",
        "X_alvo =     [ 1, 0 , 1, 0, 1, 0, 1, 0 , 1, 1]\r\n",
        "y_predicao = [ 0, 0 , 1, 0, 1, 0, 1, 0 , 1, 1]\r\n",
        "\r\n",
        "print(classification_report(X_alvo, y_predicao))"
      ],
      "execution_count": 46,
      "outputs": [
        {
          "output_type": "stream",
          "text": [
            "              precision    recall  f1-score   support\n",
            "\n",
            "           0       0.80      1.00      0.89         4\n",
            "           1       1.00      0.83      0.91         6\n",
            "\n",
            "    accuracy                           0.90        10\n",
            "   macro avg       0.90      0.92      0.90        10\n",
            "weighted avg       0.92      0.90      0.90        10\n",
            "\n"
          ],
          "name": "stdout"
        }
      ]
    },
    {
      "cell_type": "markdown",
      "metadata": {
        "id": "SXnmdcZFJ9Fk"
      },
      "source": [
        "### Matriz de confusão"
      ]
    },
    {
      "cell_type": "code",
      "metadata": {
        "colab": {
          "base_uri": "https://localhost:8080/",
          "height": 295
        },
        "id": "bRFlERQkJ9O4",
        "outputId": "e5f94e6d-2a6e-4cfc-9c2f-d350f84cf85f"
      },
      "source": [
        "import seaborn as sns\r\n",
        "from sklearn.metrics import confusion_matrix\r\n",
        "\r\n",
        "X_alvo =     [ 1, 0 , 1, 0, 1, 0, 1, 0 , 1, 1]\r\n",
        "y_predicao = [ 0, 0 , 1, 0, 1, 0, 1, 0 , 1, 1]\r\n",
        "\r\n",
        "ax = sns.heatmap(confusion_matrix(X_alvo, y_predicao), cmap='Blues_r', annot=True, fmt='d')\r\n",
        "_ = ax.set(xlabel='Valores Preditos', ylabel='Valores Reais', title='Matriz de Confusão')"
      ],
      "execution_count": 47,
      "outputs": [
        {
          "output_type": "display_data",
          "data": {
            "image/png": "[encoded data removed]",
            "text/plain": [
              "<Figure size 432x288 with 2 Axes>"
            ]
          },
          "metadata": {
            "tags": [],
            "needs_background": "light"
          }
        }
      ]
    },
    {
      "cell_type": "markdown",
      "metadata": {
        "id": "nO7j4Na88vr7"
      },
      "source": [
        "## Binary cross-entropy” ou “log loss”\n",
        "\n",
        "https://medium.com/ensina-ai/uma-explica%C3%A7%C3%A3o-visual-para-fun%C3%A7%C3%A3o-de-custo-binary-cross-entropy-ou-log-loss-eaee662c396c"
      ]
    },
    {
      "cell_type": "code",
      "metadata": {
        "id": "CvtssQAg84A5",
        "colab": {
          "base_uri": "https://localhost:8080/"
        },
        "outputId": "c130ba2b-8698-4794-e6a4-a61a214679ad"
      },
      "source": [
        "from sklearn.linear_model import LogisticRegression\n",
        "from sklearn.metrics import log_loss\n",
        "import numpy as np\n",
        "\n",
        "#entrada\n",
        "X_alvo = np.array([-2.2, -1.4, -.8, .2, .4, .8, 1.2, 2.2, 2.9, 4.6])\n",
        "\n",
        "#rótulos\n",
        "y = np.array([0.0, 0.0, 1.0, 0.0, 1.0, 1.0, 1.0, 1.0, 1.0, 1.0])\n",
        "\n",
        "logr = LogisticRegression(solver='lbfgs')\n",
        "logr.fit(X_alvo.reshape(-1, 1), y)\n",
        "\n",
        "y_predicao = logr.predict_proba(X_alvo.reshape(-1, 1))[:, 1].ravel()\n",
        "loss = log_loss(y, y_predicao)\n",
        "\n",
        "print(\"X:\", X_alvo)\n",
        "print(\"y:\", y)\n",
        "\n",
        "print('p(y) = {}'.format(np.round(y_predicao, 2)))\n",
        "print('Log Loss / Cross Entropy = {:.4f}'.format(loss))"
      ],
      "execution_count": 48,
      "outputs": [
        {
          "output_type": "stream",
          "text": [
            "X: [-2.2 -1.4 -0.8  0.2  0.4  0.8  1.2  2.2  2.9  4.6]\n",
            "y: [0. 0. 1. 0. 1. 1. 1. 1. 1. 1.]\n",
            "p(y) = [0.19 0.33 0.47 0.7  0.74 0.81 0.86 0.94 0.97 0.99]\n",
            "Log Loss / Cross Entropy = 0.3329\n"
          ],
          "name": "stdout"
        }
      ]
    },
    {
      "cell_type": "markdown",
      "metadata": {
        "id": "gVTDlBBAT4DO"
      },
      "source": [
        "## Validação Cruzada k-folds sem classe\r\n",
        "\r\n",
        "https://scikit-learn.org/stable/modules/generated/sklearn.model_selection.KFold.html"
      ]
    },
    {
      "cell_type": "code",
      "metadata": {
        "id": "sf3KJzJvT6qM",
        "colab": {
          "base_uri": "https://localhost:8080/"
        },
        "outputId": "ac340900-ae38-4ae8-92b7-9f43259febbc"
      },
      "source": [
        "# Import das bibliotecas\r\n",
        "import numpy as np\r\n",
        "from sklearn.model_selection import KFold\r\n",
        "\r\n",
        "#Conjunto de dados\r\n",
        "X =  np.array([\"a\", \"b\", \"c\", \"d\", \"e\", \"f\", \"g\", \"h\", \"i\", \"j\"])\r\n",
        "\r\n",
        "# Divisão em k folds(n_splits)\r\n",
        "# shuffle, embaralha cada amostra\r\n",
        "# Quando shuffle igual True, random_state afeta a ordem dos índices,\r\n",
        "# que controla a aleatoriedade de cada dobra.\r\n",
        "kf = KFold(n_splits=5,  random_state=True, shuffle=True)\r\n",
        "print(kf)\r\n",
        "\r\n",
        "# Percorre os indices do conjunto de dados\r\n",
        "for train_index, test_index in kf.split(X):\r\n",
        "  print(\"Índices:\", train_index, test_index)\r\n",
        "  \r\n",
        "  # Recupera os dados do fold\r\n",
        "  X_train, X_test = X[train_index], X[test_index]\r\n",
        "  print(\"Dados  :\", X_train, X_test)"
      ],
      "execution_count": 49,
      "outputs": [
        {
          "output_type": "stream",
          "text": [
            "KFold(n_splits=5, random_state=True, shuffle=True)\n",
            "Índices: [0 1 3 4 5 6 7 8] [2 9]\n",
            "Dados  : ['a' 'b' 'd' 'e' 'f' 'g' 'h' 'i'] ['c' 'j']\n",
            "Índices: [0 1 2 3 5 7 8 9] [4 6]\n",
            "Dados  : ['a' 'b' 'c' 'd' 'f' 'h' 'i' 'j'] ['e' 'g']\n",
            "Índices: [1 2 4 5 6 7 8 9] [0 3]\n",
            "Dados  : ['b' 'c' 'e' 'f' 'g' 'h' 'i' 'j'] ['a' 'd']\n",
            "Índices: [0 2 3 4 5 6 8 9] [1 7]\n",
            "Dados  : ['a' 'c' 'd' 'e' 'f' 'g' 'i' 'j'] ['b' 'h']\n",
            "Índices: [0 1 2 3 4 6 7 9] [5 8]\n",
            "Dados  : ['a' 'b' 'c' 'd' 'e' 'g' 'h' 'j'] ['f' 'i']\n"
          ],
          "name": "stdout"
        }
      ]
    },
    {
      "cell_type": "markdown",
      "metadata": {
        "id": "HxwcNTkFaE89"
      },
      "source": [
        "## Validação Cruzada k-folds com classe\r\n",
        "\r\n",
        "https://scikit-learn.org/stable/modules/generated/sklearn.model_selection.StratifiedKFold.html"
      ]
    },
    {
      "cell_type": "code",
      "metadata": {
        "id": "1NP3PB4baFIY",
        "colab": {
          "base_uri": "https://localhost:8080/"
        },
        "outputId": "1715ef7c-0d05-4816-c748-6aa802d142b2"
      },
      "source": [
        "# Import das bibliotecas\r\n",
        "import numpy as np\r\n",
        "from sklearn.model_selection import StratifiedKFold\r\n",
        "\r\n",
        "#Conjunto de dados\r\n",
        "X =  np.array([\"a\", \"b\", \"c\", \"d\", \"e\", \"f\", \"g\", \"h\", \"i\", \"j\"])\r\n",
        "y =  np.array([\"0\", \"0\", \"1\", \"0\", \"0\", \"0\", \"1\", \"1\", \"1\", \"1\"])\r\n",
        "\r\n",
        "# Divisão em k folds em quantidades semelhantes de y\r\n",
        "# shuffle, embaralha cada amostra\r\n",
        "# Quando shuffle igual True, random_state afeta a ordem dos índices,\r\n",
        "# que controla a aleatoriedade de cada dobra.\r\n",
        "skf = StratifiedKFold(n_splits=5,  random_state=True, shuffle=True)\r\n",
        "print(skf)\r\n",
        "\r\n",
        "# Percorre os indices do conjunto de dados\r\n",
        "for train_index, test_index in skf.split(X, y):\r\n",
        "  print(\"Índices:\", train_index, test_index)\r\n",
        "  \r\n",
        "  # Recupera os dados do fold\r\n",
        "  X_train, X_test = X[train_index], X[test_index]\r\n",
        "  print(\"Dados  :\", X_train, X_test) \r\n",
        "  y_train, y_test = y[train_index], y[test_index]\r\n",
        "  print(\"Alvos  :\", y_train, y_test) \r\n"
      ],
      "execution_count": 50,
      "outputs": [
        {
          "output_type": "stream",
          "text": [
            "StratifiedKFold(n_splits=5, random_state=True, shuffle=True)\n",
            "Índices: [0 1 3 5 6 7 8 9] [2 4]\n",
            "Dados  : ['a' 'b' 'd' 'f' 'g' 'h' 'i' 'j'] ['c' 'e']\n",
            "Alvos  : ['0' '0' '0' '0' '1' '1' '1' '1'] ['1' '0']\n",
            "Índices: [0 2 3 4 5 6 7 8] [1 9]\n",
            "Dados  : ['a' 'c' 'd' 'e' 'f' 'g' 'h' 'i'] ['b' 'j']\n",
            "Alvos  : ['0' '1' '0' '0' '0' '1' '1' '1'] ['0' '1']\n",
            "Índices: [1 2 3 4 5 7 8 9] [0 6]\n",
            "Dados  : ['b' 'c' 'd' 'e' 'f' 'h' 'i' 'j'] ['a' 'g']\n",
            "Alvos  : ['0' '1' '0' '0' '0' '1' '1' '1'] ['0' '1']\n",
            "Índices: [0 1 2 3 4 6 7 9] [5 8]\n",
            "Dados  : ['a' 'b' 'c' 'd' 'e' 'g' 'h' 'j'] ['f' 'i']\n",
            "Alvos  : ['0' '0' '1' '0' '0' '1' '1' '1'] ['0' '1']\n",
            "Índices: [0 1 2 4 5 6 8 9] [3 7]\n",
            "Dados  : ['a' 'b' 'c' 'e' 'f' 'g' 'i' 'j'] ['d' 'h']\n",
            "Alvos  : ['0' '0' '1' '0' '0' '1' '1' '1'] ['0' '1']\n"
          ],
          "name": "stdout"
        }
      ]
    }
  ]
}