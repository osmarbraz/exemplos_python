{
  "nbformat": 4,
  "nbformat_minor": 0,
  "metadata": {
    "colab": {
      "name": "ExemplosPythonSimilaridade.ipynb",
      "provenance": [],
      "collapsed_sections": [],
      "toc_visible": true,
      "include_colab_link": true
    },
    "kernelspec": {
      "name": "python3",
      "display_name": "Python 3"
    }
  },
  "cells": [
    {
      "cell_type": "markdown",
      "metadata": {
        "id": "view-in-github",
        "colab_type": "text"
      },
      "source": [
        "<a href=\"https://colab.research.google.com/github/osmarbraz/exemplos_python/blob/master/ExemplosPythonSimilaridade.ipynb\" target=\"_parent\"><img src=\"https://colab.research.google.com/assets/colab-badge.svg\" alt=\"Open In Colab\"/></a>"
      ]
    },
    {
      "cell_type": "markdown",
      "metadata": {
        "id": "xY84ChCNzmQQ"
      },
      "source": [
        "# Exemplos de Medidas de Similaridade e Distância em Python no Google Colaboratory\n",
        "\n",
        "-----------------------------------------\n",
        "**Guia Colab Iniciante:**\n",
        "\n",
        "https://medium.com/machina-sapiens/google-colab-guia-do-iniciante-334d70aad531\n",
        "\n",
        "**Documentação oficial:**\n",
        "\n",
        "https://colab.research.google.com/github/jakevdp/PythonDataScienceHandbook/blob/master/notebooks/01.01-Help-And-Documentation.ipynb\n",
        "\n",
        "**Características :**\n",
        "\n",
        "https://colab.research.google.com/notebooks/basic_features_overview.ipynb"
      ]
    },
    {
      "cell_type": "markdown",
      "source": [
        "# Medida (distância)\n",
        "\n",
        "Existe 4 condições para serem satisfeitas por uma medida d(A,B):\n",
        "\n",
        "- 1a - Não negatividade\n",
        "\n",
        " --> d(A,B) >= 0, para todo os A e B.\n",
        "\n",
        "- 2a - Identidade dos indiscerníveis(não pode ser distinguído)\n",
        "\n",
        " --> d(A,B) = 0, então A = B.\n",
        "\n",
        "- 3a - Simetria\n",
        "\n",
        " --> d(A,B) = d(B,A), para todos os A e B.\n",
        "\n",
        "- 4a - Desiguladade do triângulo\n",
        "\n",
        " --> d(A,B) <= d(A,C) + d(B,C), para todos os A, B e C.\n",
        "\n",
        " https://towardsdatascience.com/what-is-metric-74b0bf6e862"
      ],
      "metadata": {
        "id": "i4M6gHUHlTg_"
      }
    },
    {
      "cell_type": "markdown",
      "metadata": {
        "id": "3KGLa6aF4Mzb"
      },
      "source": [
        "# Medida de Similaridade\n",
        "\n",
        "Para ser uma medida de similaridade é necessário atender as seguintes propriedades.\n",
        "\n",
        "– 1a - s(A,B) = 1 somente se A = B (0 <= medida <= 1)\n",
        "\n",
        "– 2a - simetria - s(A,B) = s(B,A) para todo A e B\n",
        "\n",
        "– Não há uma propriedade análoga à desigualdade triangular para medidas de similaridade\n",
        "\n"
      ]
    },
    {
      "cell_type": "markdown",
      "metadata": {
        "id": "2r8qPqSQsdIM"
      },
      "source": [
        "## Similaridade do cosseno\n",
        "\n",
        "Mede o quanto dois vetores são similares. \n",
        "\n",
        "Considera apenas a orientação dos vetores, descartando a sua magnitude.\n",
        "\n",
        "A medida corresponde ao cálculo do cosseno do ângulo entre os vetores. \n",
        "\n",
        "Os valores estão limitado ao intervalo [−1,1] resultando em uma interpretação direta, independentemente das características do conjunto de dados utilizado.\n",
        "\n",
        "Similaridade em direção a 1 representam vetores próximos (similares) e similaridades em direção a −1 representam vetores afastados (diferentes).\n",
        "\n",
        "Similaridade cosseno não é uma métrica 'verdadeira'. Primeiro, não satisfaz a condição indiscernível. A distância cosseno de [1,1] e [2,2] é 0, mas [1,1] ≠ [2,2].\n",
        "\n",
        "Além disso, não satisfaz a desigualdade triangular. Suponha que d seja a distância do cosseno e A = [1,0], B = [0,1], C = [1,1] . Considere que d(A, B) = 1 e d(A, C) = d(B, C) ~ 0,3 , então d(A,B) > d(A,C) + d(B, C) não satisfaz a desigualdade triangular.\n"
      ]
    },
    {
      "cell_type": "markdown",
      "metadata": {
        "id": "OcVgVAIo9lMu"
      },
      "source": [
        "### Literais"
      ]
    },
    {
      "cell_type": "markdown",
      "metadata": {
        "id": "rfobZKdQK_a9"
      },
      "source": [
        "#### Manualmente 1 - sem TF-IDF\n",
        "\n",
        "Sem pesos(TF-IDF)"
      ]
    },
    {
      "cell_type": "code",
      "metadata": {
        "id": "sZjryzEkLB_h",
        "colab": {
          "base_uri": "https://localhost:8080/"
        },
        "outputId": "d9211dda-9f24-4620-f452-cf5b4381dc1d"
      },
      "source": [
        "# Strings\n",
        "str1 = \"ab ab cd\" \n",
        "str2 = \"cd ef\"\n",
        "\n",
        "# Cria a lista dos toquens da str1\n",
        "lista1 = []\n",
        "lista1 = str1.split();\n",
        "\n",
        "# Cria a lista dos toquens da str1\n",
        "lista2 = []\n",
        "lista2 = str2.split();\n",
        "\n",
        "# Adiciona a lista1 ao conjunto união com a lista2\n",
        "uniao = set(lista1).union(set(lista2))\n",
        "\n",
        "print(\"tokens:\" + str(uniao))\n",
        "\n",
        "# Conta as ocorrências dos tokens em A e B (bagofwords)\n",
        "vetorA = []\n",
        "vetorB = []\n",
        "for token in uniao:\n",
        "  conta = 0\n",
        "  for item in lista1:      \n",
        "      if (token == item):\n",
        "         conta = conta + 1\n",
        "  vetorA.append(conta)\n",
        "\n",
        "  conta = 0\n",
        "  for item in lista2:\n",
        "      if (token == item):\n",
        "         conta = conta + 1\n",
        "  vetorB.append(conta)\n",
        "\n",
        "print(\"vetorA:\" + str(vetorA))\n",
        "print(\"vetorB:\" + str(vetorB))\n",
        "\n",
        "somaProduto = 0.0\n",
        "quadradoSomaA = 0.0\n",
        "quadradoSomaB = 0.0\n",
        "\n",
        "# Percorre o vetor A e B\n",
        "for i in range(len(vetorA)):\n",
        "    somaProduto = somaProduto + (vetorA[i] * vetorB[i]);\n",
        "    quadradoSomaA = quadradoSomaA + (vetorA[i]**2)\n",
        "    quadradoSomaB = quadradoSomaB + (vetorB[i]**2)\n",
        "            \n",
        "# cos (A,B) = soma(Ai * Bi) / raiz(soma(A[i]^2) * soma(B[i]^2))        \n",
        "similaridade =  (somaProduto / ((quadradoSomaA * quadradoSomaB)**(1/2.0)))\n",
        "\n",
        "print (\"similaridade:\", similaridade)"
      ],
      "execution_count": 1,
      "outputs": [
        {
          "output_type": "stream",
          "name": "stdout",
          "text": [
            "tokens:{'cd', 'ab', 'ef'}\n",
            "vetorA:[1, 2, 0]\n",
            "vetorB:[1, 0, 1]\n",
            "similaridade: 0.31622776601683794\n"
          ]
        }
      ]
    },
    {
      "cell_type": "markdown",
      "metadata": {
        "id": "rwOaIA4HWXtD"
      },
      "source": [
        "##### Manualmente 1 - sem TF-IDF - resumida\n",
        "\n",
        "Sem pesos(TF-IDF)\n",
        "\n",
        "https://www.it-swarm.dev/pt/python/calcular-semelhanca-de-cosseno-com-duas-cadeias-de-frases/1070875781/"
      ]
    },
    {
      "cell_type": "code",
      "metadata": {
        "id": "NHeqoY2mS-Jq",
        "colab": {
          "base_uri": "https://localhost:8080/"
        },
        "outputId": "de6205f7-f2cf-4d92-952e-fca1db14012a"
      },
      "source": [
        "import re, math\n",
        "from collections import Counter\n",
        "\n",
        "# Strings\n",
        "str1 = \"ab ab cd\" \n",
        "str2 = \"cd ef\"\n",
        "\n",
        "Word = re.compile(r\"\\w+\")\n",
        "\n",
        "# Cria a um dicionário vetorA com os tokens e as ocorrências \n",
        "vetorA = Counter(Word.findall(str1))\n",
        "\n",
        "# Cria a um dicionário vetorB com os tokens e as ocorrências(bagofwords)\n",
        "vetorB = Counter(Word.findall(str2))\n",
        "\n",
        "print(\"vetorA:\" + str(vetorA))\n",
        "print(\"vetorB:\" + str(vetorB))\n",
        "\n",
        "# Adiciona a vetorA e vetorB ao conjunto união\n",
        "uniao = set(vetorA.keys()) | set(vetorB.keys())\n",
        "\n",
        "print(\"tokens:\" + str(uniao))\n",
        "\n",
        "# Calcula a similaridade\n",
        "somaProduto = sum([vetorA[i] * vetorB[i] for i in uniao])\n",
        "quadradoSomaA = sum([vetorA[i]**2 for i in vetorA.keys()])\n",
        "quadradoSomaB = sum([vetorB[i]**2 for i in vetorB.keys()])\n",
        "\n",
        "# cos (A,B) = soma(Ai * Bi) / raiz(soma(A[i]^2) * soma(B[i]^2))\n",
        "similaridade =  (somaProduto / ((quadradoSomaA * quadradoSomaB)**(1/2.0)))\n",
        "\n",
        "print (\"similaridade:\", similaridade)"
      ],
      "execution_count": 2,
      "outputs": [
        {
          "output_type": "stream",
          "name": "stdout",
          "text": [
            "vetorA:Counter({'ab': 2, 'cd': 1})\n",
            "vetorB:Counter({'cd': 1, 'ef': 1})\n",
            "tokens:{'cd', 'ab', 'ef'}\n",
            "similaridade: 0.31622776601683794\n"
          ]
        }
      ]
    },
    {
      "cell_type": "markdown",
      "metadata": {
        "id": "L1IKS-FboESV"
      },
      "source": [
        "#### Manualmente 2 - com TF-IDF\n",
        "\n",
        "Com pesos(TF-IDF)\n",
        "\n",
        "https://github.com/mayank408/TFIDF/blob/master/TFIDF.ipynb"
      ]
    },
    {
      "cell_type": "code",
      "metadata": {
        "id": "iJ4c8IINoEv_",
        "colab": {
          "base_uri": "https://localhost:8080/"
        },
        "outputId": "9bddca3f-90e6-4d72-9881-3cc8f56eafeb"
      },
      "source": [
        "import math\n",
        "import pandas as pd\n",
        "\n",
        "# Strings\n",
        "str1 = \"ab ab cd\" \n",
        "str2 = \"cd ef\"\n",
        "\n",
        "# Cria a lista dos toquens da str1\n",
        "lista1 = []\n",
        "lista1 = str1.split();\n",
        "\n",
        "# Cria a lista dos toquens da str1\n",
        "lista2 = []\n",
        "lista2 = str2.split();\n",
        "\n",
        "# Adiciona a lista1 ao conjunto união com a lista2\n",
        "uniao = set(lista1).union(set(lista2))\n",
        "\n",
        "print(\"tokens:\" + str(uniao))\n",
        "\n",
        "# Cria um dicionário para das chaves com 0 ocorrências\n",
        "vetorA = dict.fromkeys(uniao, 0) \n",
        "vetorB = dict.fromkeys(uniao, 0)\n",
        "\n",
        "# Conta as ocorrências dos tokens em A e B\n",
        "for token in lista1:\n",
        "    vetorA[token]+=1\n",
        "\n",
        "for token in lista2:\n",
        "    vetorB[token]+=1\n",
        "\n",
        "# Calcula FT\n",
        "# Frêquencia que um termo ocorre no documento\n",
        "# calcula ftVetorA\n",
        "tfVetorA = {}\n",
        "# Tamanho lista1\n",
        "tamLista1 = len(lista1)\n",
        "\n",
        "# Percorre o vetorA\n",
        "for token, qtde in vetorA.items():\n",
        "  tfVetorA[token] = qtde/float(tamLista1)\n",
        "\n",
        "# calcula ftVetorB\n",
        "tfVetorB = {}\n",
        "# Tamanho lista1\n",
        "tamLista2 = len(lista2)\n",
        "\n",
        "# Percorre o vetorB\n",
        "for token, qtde in vetorB.items():\n",
        "  tfVetorB[token] = qtde/float(tamLista2)\n",
        "\n",
        "# Calcula IDF\n",
        "# Calcula o score que cada token no corpus(todos os documentos). \n",
        "# Tokens que aparecem muitas vezes tem pouca importância. \n",
        "\n",
        "idfVetor = {}\n",
        "# Concatena os documentos\n",
        "listaDocumentos = ([vetorA,vetorB])\n",
        "\n",
        "print(listaDocumentos)\n",
        "\n",
        "# Quantidade de tokens do documento\n",
        "N = len(listaDocumentos)\n",
        "\n",
        "# Cria um dicionário com as chaves(tokens) do documento onde os valores são 0\n",
        "idfVetor = dict.fromkeys(listaDocumentos[0].keys(), 0)\n",
        "\n",
        "# Conta as ocorrências dos tokens nos documentos\n",
        "for doc in listaDocumentos:\n",
        "    for token, qtde in doc.items():\n",
        "        if qtde > 0:\n",
        "           idfVetor[token] += 1\n",
        "\n",
        "# Reduz os peso dos tokens que aparecem muito\n",
        "for token, qtde in idfVetor.items():\n",
        "    idfVetor[token] = math.log10(N / float(qtde))\n",
        "\n",
        "# Calcula TF-IDF\n",
        "tfidfVetorA = {}\n",
        "for token, qtde in tfVetorA.items():\n",
        "    tfidfVetorA[token] = qtde*idfVetor[token]\n",
        "\n",
        "tfidfVetorB = {}\n",
        "for token, qtde in tfVetorB.items():\n",
        "    tfidfVetorB[token] = qtde*idfVetor[token]\n",
        "\n",
        "print(pd.DataFrame([tfidfVetorA, tfidfVetorB]))"
      ],
      "execution_count": 3,
      "outputs": [
        {
          "output_type": "stream",
          "name": "stdout",
          "text": [
            "tokens:{'cd', 'ab', 'ef'}\n",
            "[{'cd': 1, 'ab': 2, 'ef': 0}, {'cd': 1, 'ab': 0, 'ef': 1}]\n",
            "    cd        ab        ef\n",
            "0  0.0  0.200687  0.000000\n",
            "1  0.0  0.000000  0.150515\n"
          ]
        }
      ]
    },
    {
      "cell_type": "markdown",
      "metadata": {
        "id": "OVUGOT7xK7V9"
      },
      "source": [
        "#### Usando sklearn\n",
        "\n",
        "https://kanoki.org/2018/12/27/text-matching-cosine-similarity/"
      ]
    },
    {
      "cell_type": "markdown",
      "metadata": {
        "id": "QGEExAvYsucX"
      },
      "source": [
        "Bag of Words(BOW)"
      ]
    },
    {
      "cell_type": "code",
      "metadata": {
        "id": "fGZv1Fa_r8FD",
        "colab": {
          "base_uri": "https://localhost:8080/",
          "height": 167
        },
        "outputId": "aa9d38da-88e9-4c4a-9923-117af569e809"
      },
      "source": [
        "from sklearn.feature_extraction.text import CountVectorizer\n",
        "import pandas as pd\n",
        "\n",
        "count_vect = CountVectorizer()\n",
        "\n",
        "str1 = \"ab ab cd\" \n",
        "str2 = \"cd ef\"\n",
        " \n",
        "corpus = [str1, str2]\n",
        "\n",
        "# Cria o bag of words\n",
        "bagofwords = count_vect.fit_transform(corpus)\n",
        "\n",
        "# Motra os vetores e as ocorrências \n",
        "pd.DataFrame(bagofwords.toarray(),columns=count_vect.get_feature_names(),index=[\"str1\",\"str2\"])"
      ],
      "execution_count": 4,
      "outputs": [
        {
          "output_type": "stream",
          "name": "stderr",
          "text": [
            "/usr/local/lib/python3.7/dist-packages/sklearn/utils/deprecation.py:87: FutureWarning: Function get_feature_names is deprecated; get_feature_names is deprecated in 1.0 and will be removed in 1.2. Please use get_feature_names_out instead.\n",
            "  warnings.warn(msg, category=FutureWarning)\n"
          ]
        },
        {
          "output_type": "execute_result",
          "data": {
            "text/plain": [
              "      ab  cd  ef\n",
              "str1   2   1   0\n",
              "str2   0   1   1"
            ],
            "text/html": [
              "\n",
              "  <div id=\"df-ab3e1f58-aee8-4a1a-b38a-78e6747a4bde\">\n",
              "    <div class=\"colab-df-container\">\n",
              "      <div>\n",
              "<style scoped>\n",
              "    .dataframe tbody tr th:only-of-type {\n",
              "        vertical-align: middle;\n",
              "    }\n",
              "\n",
              "    .dataframe tbody tr th {\n",
              "        vertical-align: top;\n",
              "    }\n",
              "\n",
              "    .dataframe thead th {\n",
              "        text-align: right;\n",
              "    }\n",
              "</style>\n",
              "<table border=\"1\" class=\"dataframe\">\n",
              "  <thead>\n",
              "    <tr style=\"text-align: right;\">\n",
              "      <th></th>\n",
              "      <th>ab</th>\n",
              "      <th>cd</th>\n",
              "      <th>ef</th>\n",
              "    </tr>\n",
              "  </thead>\n",
              "  <tbody>\n",
              "    <tr>\n",
              "      <th>str1</th>\n",
              "      <td>2</td>\n",
              "      <td>1</td>\n",
              "      <td>0</td>\n",
              "    </tr>\n",
              "    <tr>\n",
              "      <th>str2</th>\n",
              "      <td>0</td>\n",
              "      <td>1</td>\n",
              "      <td>1</td>\n",
              "    </tr>\n",
              "  </tbody>\n",
              "</table>\n",
              "</div>\n",
              "      <button class=\"colab-df-convert\" onclick=\"convertToInteractive('df-ab3e1f58-aee8-4a1a-b38a-78e6747a4bde')\"\n",
              "              title=\"Convert this dataframe to an interactive table.\"\n",
              "              style=\"display:none;\">\n",
              "        \n",
              "  <svg xmlns=\"http://www.w3.org/2000/svg\" height=\"24px\"viewBox=\"0 0 24 24\"\n",
              "       width=\"24px\">\n",
              "    <path d=\"M0 0h24v24H0V0z\" fill=\"none\"/>\n",
              "    <path d=\"M18.56 5.44l.94 2.06.94-2.06 2.06-.94-2.06-.94-.94-2.06-.94 2.06-2.06.94zm-11 1L8.5 8.5l.94-2.06 2.06-.94-2.06-.94L8.5 2.5l-.94 2.06-2.06.94zm10 10l.94 2.06.94-2.06 2.06-.94-2.06-.94-.94-2.06-.94 2.06-2.06.94z\"/><path d=\"M17.41 7.96l-1.37-1.37c-.4-.4-.92-.59-1.43-.59-.52 0-1.04.2-1.43.59L10.3 9.45l-7.72 7.72c-.78.78-.78 2.05 0 2.83L4 21.41c.39.39.9.59 1.41.59.51 0 1.02-.2 1.41-.59l7.78-7.78 2.81-2.81c.8-.78.8-2.07 0-2.86zM5.41 20L4 18.59l7.72-7.72 1.47 1.35L5.41 20z\"/>\n",
              "  </svg>\n",
              "      </button>\n",
              "      \n",
              "  <style>\n",
              "    .colab-df-container {\n",
              "      display:flex;\n",
              "      flex-wrap:wrap;\n",
              "      gap: 12px;\n",
              "    }\n",
              "\n",
              "    .colab-df-convert {\n",
              "      background-color: #E8F0FE;\n",
              "      border: none;\n",
              "      border-radius: 50%;\n",
              "      cursor: pointer;\n",
              "      display: none;\n",
              "      fill: #1967D2;\n",
              "      height: 32px;\n",
              "      padding: 0 0 0 0;\n",
              "      width: 32px;\n",
              "    }\n",
              "\n",
              "    .colab-df-convert:hover {\n",
              "      background-color: #E2EBFA;\n",
              "      box-shadow: 0px 1px 2px rgba(60, 64, 67, 0.3), 0px 1px 3px 1px rgba(60, 64, 67, 0.15);\n",
              "      fill: #174EA6;\n",
              "    }\n",
              "\n",
              "    [theme=dark] .colab-df-convert {\n",
              "      background-color: #3B4455;\n",
              "      fill: #D2E3FC;\n",
              "    }\n",
              "\n",
              "    [theme=dark] .colab-df-convert:hover {\n",
              "      background-color: #434B5C;\n",
              "      box-shadow: 0px 1px 3px 1px rgba(0, 0, 0, 0.15);\n",
              "      filter: drop-shadow(0px 1px 2px rgba(0, 0, 0, 0.3));\n",
              "      fill: #FFFFFF;\n",
              "    }\n",
              "  </style>\n",
              "\n",
              "      <script>\n",
              "        const buttonEl =\n",
              "          document.querySelector('#df-ab3e1f58-aee8-4a1a-b38a-78e6747a4bde button.colab-df-convert');\n",
              "        buttonEl.style.display =\n",
              "          google.colab.kernel.accessAllowed ? 'block' : 'none';\n",
              "\n",
              "        async function convertToInteractive(key) {\n",
              "          const element = document.querySelector('#df-ab3e1f58-aee8-4a1a-b38a-78e6747a4bde');\n",
              "          const dataTable =\n",
              "            await google.colab.kernel.invokeFunction('convertToInteractive',\n",
              "                                                     [key], {});\n",
              "          if (!dataTable) return;\n",
              "\n",
              "          const docLinkHtml = 'Like what you see? Visit the ' +\n",
              "            '<a target=\"_blank\" href=https://colab.research.google.com/notebooks/data_table.ipynb>data table notebook</a>'\n",
              "            + ' to learn more about interactive tables.';\n",
              "          element.innerHTML = '';\n",
              "          dataTable['output_type'] = 'display_data';\n",
              "          await google.colab.output.renderOutput(dataTable, element);\n",
              "          const docLink = document.createElement('div');\n",
              "          docLink.innerHTML = docLinkHtml;\n",
              "          element.appendChild(docLink);\n",
              "        }\n",
              "      </script>\n",
              "    </div>\n",
              "  </div>\n",
              "  "
            ]
          },
          "metadata": {},
          "execution_count": 4
        }
      ]
    },
    {
      "cell_type": "markdown",
      "metadata": {
        "id": "5uvUY25bsyLa"
      },
      "source": [
        " Term Frequency–Inverse Document Frequency (TF-IDF)"
      ]
    },
    {
      "cell_type": "code",
      "metadata": {
        "id": "h2W2VdFfsyy_",
        "colab": {
          "base_uri": "https://localhost:8080/"
        },
        "outputId": "4e9ff45d-64d1-40cb-e111-a253428637f1"
      },
      "source": [
        "from sklearn.feature_extraction.text import TfidfVectorizer\n",
        "vectorizer = TfidfVectorizer()\n",
        "\n",
        "# tf (w) * idf (w)\n",
        "# Onde, tf (w) = Número de vezes que a palavra aparece em um documento / Número total de palavras no documento\n",
        "# idf (w) = Número de documentos / Número de documentos que contêm a palavra w\n",
        "\n",
        "tfidf = vectorizer.fit_transform(corpus)\n",
        "print(tfidf.shape)\n",
        "print(tfidf)\n",
        "\n",
        "similaridade = pd.DataFrame(tfidf.toarray(),columns=vectorizer.get_feature_names(),index=[\"str1\",\"str2\"])\n",
        "print(similaridade)"
      ],
      "execution_count": 5,
      "outputs": [
        {
          "output_type": "stream",
          "name": "stdout",
          "text": [
            "(2, 3)\n",
            "  (0, 1)\t0.33517574332792605\n",
            "  (0, 0)\t0.9421556246632359\n",
            "  (1, 2)\t0.8148024746671689\n",
            "  (1, 1)\t0.5797386715376657\n",
            "            ab        cd        ef\n",
            "str1  0.942156  0.335176  0.000000\n",
            "str2  0.000000  0.579739  0.814802\n"
          ]
        },
        {
          "output_type": "stream",
          "name": "stderr",
          "text": [
            "/usr/local/lib/python3.7/dist-packages/sklearn/utils/deprecation.py:87: FutureWarning: Function get_feature_names is deprecated; get_feature_names is deprecated in 1.0 and will be removed in 1.2. Please use get_feature_names_out instead.\n",
            "  warnings.warn(msg, category=FutureWarning)\n"
          ]
        }
      ]
    },
    {
      "cell_type": "markdown",
      "metadata": {
        "id": "_rO_EN9xtEFu"
      },
      "source": [
        "Coseno\n",
        "* 1 = totalmente semelhantes\n",
        "* 0 = totalmente diferentes"
      ]
    },
    {
      "cell_type": "code",
      "metadata": {
        "id": "oRacyLrQtGWU",
        "colab": {
          "base_uri": "https://localhost:8080/"
        },
        "outputId": "d60e6f3f-1f5f-4013-b783-8be3300f2460"
      },
      "source": [
        "from sklearn.metrics.pairwise import cosine_similarity\n",
        "\n",
        "print(tfidf[0:1])\n",
        "\n",
        "print (\"\")\n",
        "\n",
        "similaridade = cosine_similarity(tfidf[0:1], tfidf)\n",
        "\n",
        "print(similaridade)\n",
        "print(similaridade[0][1])"
      ],
      "execution_count": 6,
      "outputs": [
        {
          "output_type": "stream",
          "name": "stdout",
          "text": [
            "  (0, 1)\t0.33517574332792605\n",
            "  (0, 0)\t0.9421556246632359\n",
            "\n",
            "[[1.         0.19431434]]\n",
            "0.19431434016858148\n"
          ]
        }
      ]
    },
    {
      "cell_type": "markdown",
      "metadata": {
        "id": "uzLdZry2_y_U"
      },
      "source": [
        "#### Exemplo TF-IDF com sklearn"
      ]
    },
    {
      "cell_type": "code",
      "metadata": {
        "id": "jvLf-Oqt_yfq",
        "colab": {
          "base_uri": "https://localhost:8080/"
        },
        "outputId": "4fbaf24d-f80a-4594-ac86-9574f95bf48b"
      },
      "source": [
        "from sklearn.feature_extraction.text import TfidfVectorizer\n",
        "\n",
        "docA = \"ab ab cd\" \n",
        "docB = \"cd ef\"\n",
        "\n",
        "tfidf = TfidfVectorizer()\n",
        "\n",
        "response = tfidf.fit_transform([docA, docB])\n",
        "\n",
        "feature_names = tfidf.get_feature_names()\n",
        "for col in response.nonzero()[1]:\n",
        "    print (feature_names[col], \" - \", response[0, col])"
      ],
      "execution_count": 7,
      "outputs": [
        {
          "output_type": "stream",
          "name": "stdout",
          "text": [
            "cd  -  0.33517574332792605\n",
            "ab  -  0.9421556246632359\n",
            "ef  -  0.0\n",
            "cd  -  0.33517574332792605\n"
          ]
        },
        {
          "output_type": "stream",
          "name": "stderr",
          "text": [
            "/usr/local/lib/python3.7/dist-packages/sklearn/utils/deprecation.py:87: FutureWarning: Function get_feature_names is deprecated; get_feature_names is deprecated in 1.0 and will be removed in 1.2. Please use get_feature_names_out instead.\n",
            "  warnings.warn(msg, category=FutureWarning)\n"
          ]
        }
      ]
    },
    {
      "cell_type": "markdown",
      "metadata": {
        "id": "2ZuLRDi9xdKx"
      },
      "source": [
        "#### Exemplo usando sklearn - similaridade\n",
        "\n",
        "https://scikit-learn.org/stable/modules/generated/sklearn.metrics.pairwise.paired_cosine_distances.html\n",
        "\n",
        "Intervalo de [-1,1]"
      ]
    },
    {
      "cell_type": "code",
      "source": [
        "import pandas as pd\n",
        "\n",
        "def create_dataframe(matrix, tokens):\n",
        "\n",
        "    doc_names = [f'Doc_{i+1}' for i, _ in enumerate(matrix)]\n",
        "    df = pd.DataFrame(data=matrix, index=doc_names, columns=tokens)\n",
        "    return(df)"
      ],
      "metadata": {
        "id": "7hnKydS60iqc"
      },
      "execution_count": 8,
      "outputs": []
    },
    {
      "cell_type": "code",
      "source": [
        "import numpy as np\n",
        "\n",
        "def similaridadeCoseno(x, y):\n",
        "    \n",
        "   # Certifique-se de que o comprimento de x e y seja o mesmo\n",
        "    if len(x) != len(y) :\n",
        "        return None\n",
        "    \n",
        "   # Calcula o produto escalar entre x e y\n",
        "    dot_product = np.dot(x, y)\n",
        "    \n",
        "    # Calcular as normas L2 (magnitudes) de x e y\n",
        "    magnitude_x = np.sqrt(np.sum(x**2)) \n",
        "    magnitude_y = np.sqrt(np.sum(y**2))\n",
        "    \n",
        "   # Calcula a similaridade do cosseno\n",
        "    cosine_similarity = dot_product / (magnitude_x * magnitude_y)\n",
        "    \n",
        "    return cosine_similarity"
      ],
      "metadata": {
        "id": "QXJZ1Y5SxpMy"
      },
      "execution_count": 9,
      "outputs": []
    },
    {
      "cell_type": "code",
      "metadata": {
        "colab": {
          "base_uri": "https://localhost:8080/"
        },
        "outputId": "9e111830-35f4-4a23-bb2d-d60b9a4be3b8",
        "id": "yoE7Nwt0xdKy"
      },
      "source": [
        "from sklearn.metrics.pairwise import cosine_similarity\n",
        "from sklearn.feature_extraction.text import CountVectorizer\n",
        " \n",
        "documentos = ['A ciência de dados é um campo importante da ciência.',\n",
        "              'A ciência de dados analisa dados.']\n",
        "\n",
        "# Cria uma matriz para representar o corpus\n",
        "vectorizer = CountVectorizer()\n",
        "X = vectorizer.fit_transform(documentos)\n",
        "tokens = vectorizer.get_feature_names_out()\n",
        "print(\"Matriz de representação do documento\")\n",
        "print(create_dataframe(X.toarray(),tokens))\n",
        "\n",
        "cos_sim_matrix = cosine_similarity(X)\n",
        "\n",
        "print('\\Matriz de sSimilaridade do coseno entre: ')\n",
        "print(create_dataframe(cos_sim_matrix,['Doc_1','Doc_2']))\n",
        "\n",
        "cos_sim = similaridadeCoseno(X.toarray()[0, :], X.toarray()[1, :])\n",
        "print('\\nSimilaridade do coseno entre: ')\n",
        "print(cos_sim)"
      ],
      "execution_count": 10,
      "outputs": [
        {
          "output_type": "stream",
          "name": "stdout",
          "text": [
            "Matriz de representação do documento\n",
            "       analisa  campo  ciência  da  dados  de  importante  um\n",
            "Doc_1        0      1        2   1      1   1           1   1\n",
            "Doc_2        1      0        1   0      2   1           0   0\n",
            "\\Matriz de sSimilaridade do coseno entre: \n",
            "          Doc_1     Doc_2\n",
            "Doc_1  1.000000  0.597614\n",
            "Doc_2  0.597614  1.000000\n",
            "\n",
            "Similaridade do coseno entre: \n",
            "0.5976143046671968\n"
          ]
        }
      ]
    },
    {
      "cell_type": "markdown",
      "metadata": {
        "id": "7e_TCRLI9u_7"
      },
      "source": [
        "### Vetores de números Reais"
      ]
    },
    {
      "cell_type": "markdown",
      "metadata": {
        "id": "taEYzcUnzX6M"
      },
      "source": [
        "#### Exemplo usando scipy - distância\n",
        "\n",
        "https://docs.scipy.org/doc/scipy/reference/generated/scipy.spatial.distance.cosine.html#scipy.spatial.distance.cosine\n",
        "\n",
        "Intervalo de [0,2]\n",
        "\n",
        "A função cosine já subtrai de 1 da medida similaridade, resultando em uma medida de distância."
      ]
    },
    {
      "cell_type": "code",
      "metadata": {
        "id": "tKw0WDr-zYWC",
        "colab": {
          "base_uri": "https://localhost:8080/"
        },
        "outputId": "4c0225d7-3dae-4c6a-a73b-ae23ff3c9937"
      },
      "source": [
        "# Biblioteca de álgebra linear(matrizes)\n",
        "import numpy as np\n",
        "\n",
        "from scipy.spatial.distance import cosine\n",
        "\n",
        "vetorA = [1.1, 2.3, 3.5, 4.6]\n",
        "#vetorB = [1.1, 2.3, 4.6, 5.1] # Parecidos\n",
        "vetorB = [-1.1, -2.3, -4.6, -5.1] # Bem diferentes\n",
        "\n",
        "# Transforma a lista em um vetor de numpy\n",
        "vetorA = np.array(vetorA)\n",
        "vetorB = np.array(vetorB)\n",
        "print(\"vetorA:\" + str(vetorA))\n",
        "print(\"vetorB:\" + str(vetorB))\n",
        "\n",
        "# Calcula a distância de vetores diferentes\n",
        "print(\"\\nVetores diferentes cosine(vetorA,VetorB) medida próxima de 2\")\n",
        "distancia = cosine(vetorA,vetorB) \n",
        "print(\"distância:\", distancia)\n",
        "\n",
        "# Calcula a distância de vetores iguais\n",
        "print(\"\\nVetores iguais cosine(vetorA,vetorA) medida igual a 0\")\n",
        "distancia = cosine(vetorA,vetorA) \n",
        "print(\"distância:\", distancia)"
      ],
      "execution_count": 11,
      "outputs": [
        {
          "output_type": "stream",
          "name": "stdout",
          "text": [
            "vetorA:[1.1 2.3 3.5 4.6]\n",
            "vetorB:[-1.1 -2.3 -4.6 -5.1]\n",
            "\n",
            "Vetores diferentes cosine(vetorA,VetorB) medida próxima de 2\n",
            "distância: 1.9952158225767782\n",
            "\n",
            "Vetores iguais cosine(vetorA,vetorA) medida igual a 0\n",
            "distância: 0.0\n"
          ]
        }
      ]
    },
    {
      "cell_type": "markdown",
      "metadata": {
        "id": "8Xbfhp5IaEfI"
      },
      "source": [
        "#### Exemplo usando scipy - similaridade\n",
        "\n",
        "https://docs.scipy.org/doc/scipy/reference/generated/scipy.spatial.distance.cosine.html#scipy.spatial.distance.cosine\n",
        "\n",
        "Intervalo de [-1,1]\n",
        "\n",
        "A função cosine já subtrai de 1 a medida similaridade, resultando em uma medida de distância."
      ]
    },
    {
      "cell_type": "code",
      "metadata": {
        "colab": {
          "base_uri": "https://localhost:8080/"
        },
        "outputId": "18c792e1-8572-441a-8acd-e0074a6a15c2",
        "id": "tH7G8Cz9aEfJ"
      },
      "source": [
        "# Biblioteca de álgebra linear(matrizes)\n",
        "import numpy as np\n",
        "\n",
        "from scipy.spatial.distance import cosine\n",
        "\n",
        "vetorA = [1.1, 2.3, 3.5, 4.6]\n",
        "#vetorB = [1.1, 2.3, 4.6, 5.1] # Parecidos\n",
        "vetorB = [-1.1, -2.3, -4.6, -5.1] # Bem diferentes\n",
        "\n",
        "# Transforma a lista em um vetor de numpy\n",
        "vetorA = np.array(vetorA)\n",
        "vetorB = np.array(vetorB)\n",
        "print(\"vetorA:\" + str(vetorA))\n",
        "print(\"vetorB:\" + str(vetorB))\n",
        "\n",
        "# Calcula a similaridade de vetores diferentes\n",
        "print(\"\\nVetores diferentes cosine(vetorA,vetorB) medida próxima de -1\")\n",
        "similaridade = 1 - cosine(vetorA,vetorB) \n",
        "print(\"similaridade:\", similaridade)\n",
        "\n",
        "# Calcula a similaridade de vetores iguais\n",
        "print(\"\\nVetores iguaiscosine(vetorA,vetorA) medida igual a 1\")\n",
        "similaridade = 1 - cosine(vetorA,vetorA) \n",
        "print(\"similaridade:\", similaridade)"
      ],
      "execution_count": 12,
      "outputs": [
        {
          "output_type": "stream",
          "name": "stdout",
          "text": [
            "vetorA:[1.1 2.3 3.5 4.6]\n",
            "vetorB:[-1.1 -2.3 -4.6 -5.1]\n",
            "\n",
            "Vetores diferentes cosine(vetorA,vetorB) medida próxima de -1\n",
            "similaridade: -0.9952158225767782\n",
            "\n",
            "Vetores iguaiscosine(vetorA,vetorA) medida igual a 1\n",
            "similaridade: 1.0\n"
          ]
        }
      ]
    },
    {
      "cell_type": "markdown",
      "metadata": {
        "id": "fc0Hk75ab01O"
      },
      "source": [
        "#### Exemplo usando scipy 2 - distância\n",
        "\n",
        "Intervalo de [0, 2]"
      ]
    },
    {
      "cell_type": "code",
      "metadata": {
        "id": "LLpGtErwb01O"
      },
      "source": [
        "# Biblioteca de álgebra linear(matrizes)\n",
        "import numpy as np\n",
        "\n",
        "def distanciaCoseno(vetorA, vetorB):\n",
        "  \n",
        "  dot_product = np.dot(vetorA, vetorB)\n",
        "  norm_a = np.linalg.norm(vetorA)\n",
        "  norm_b = np.linalg.norm(vetorB)\n",
        "  distancia = 1 - (dot_product / (norm_a * norm_b))\n",
        "  \n",
        "  return distancia"
      ],
      "execution_count": 13,
      "outputs": []
    },
    {
      "cell_type": "code",
      "metadata": {
        "colab": {
          "base_uri": "https://localhost:8080/"
        },
        "outputId": "a54f3399-7ff0-49bf-d116-08de3a7057c7",
        "id": "cvIPeh1xb01P"
      },
      "source": [
        "# Biblioteca de álgebra linear(matrizes)\n",
        "import numpy as np\n",
        "\n",
        "vetorA = [1.1, 2.3, 3.5, 4.6]\n",
        "#vetorB = [1.1, 2.3, 4.6, 5.1] # Parecidos\n",
        "vetorB = [-1.1, -2.3, -4.6, -5.1] # Bem diferentes\n",
        "\n",
        "# Transforma a lista em um vetor de numpy\n",
        "vetorA = np.array(vetorA)\n",
        "vetorB = np.array(vetorB)\n",
        "print(\"vetorA:\" + str(vetorA))\n",
        "print(\"vetorB:\" + str(vetorB))\n",
        "\n",
        "# Calcula a distância de vetores diferentes\n",
        "print(\"\\nVetores diferentes cosine(vetorA,vetorB) medida próxima de 2\")\n",
        "distancia = distanciaCoseno(vetorA,vetorB) \n",
        "print(\"distancia: %.20f\" % distancia)\n",
        "\n",
        "# Calcula a distância de vetores iguais\n",
        "print(\"\\nVetores iguais cosine(vetorA,vetorA) medida próxima a 0\")\n",
        "distancia = distanciaCoseno(vetorA,vetorA) \n",
        "print(\"similaridade: %.20f\" % distancia)"
      ],
      "execution_count": 14,
      "outputs": [
        {
          "output_type": "stream",
          "name": "stdout",
          "text": [
            "vetorA:[1.1 2.3 3.5 4.6]\n",
            "vetorB:[-1.1 -2.3 -4.6 -5.1]\n",
            "\n",
            "Vetores diferentes cosine(vetorA,vetorB) medida próxima de 2\n",
            "distancia: 1.99521582257677820849\n",
            "\n",
            "Vetores iguais cosine(vetorA,vetorA) medida próxima a 0\n",
            "similaridade: 0.00000000000000022204\n"
          ]
        }
      ]
    },
    {
      "cell_type": "markdown",
      "metadata": {
        "id": "jA-FTo52QOtX"
      },
      "source": [
        "#### Exemplo usando scipy 2 - similaridade\n",
        "\n",
        "Intervalo de [-1, 1]"
      ]
    },
    {
      "cell_type": "code",
      "metadata": {
        "id": "X9tbVdQ3QO8E"
      },
      "source": [
        "# Biblioteca de álgebra linear(matrizes)\n",
        "import numpy as np\n",
        "\n",
        "def similaridadeCoseno(vetorA, vetorB):\n",
        "  \n",
        "  dot_product = np.dot(vetorA, vetorB)\n",
        "  norm_a = np.linalg.norm(vetorA)\n",
        "  norm_b = np.linalg.norm(vetorB)\n",
        "  similaridade = (dot_product / (norm_a * norm_b))\n",
        "  \n",
        "  return similaridade"
      ],
      "execution_count": 15,
      "outputs": []
    },
    {
      "cell_type": "code",
      "metadata": {
        "colab": {
          "base_uri": "https://localhost:8080/"
        },
        "id": "fr8ACpE8QbdU",
        "outputId": "cd828b5b-bb00-46e2-de83-dc874bf58938"
      },
      "source": [
        "# Biblioteca de álgebra linear(matrizes)\n",
        "import numpy as np\n",
        "\n",
        "vetorA = [1.1, 2.3, 3.5, 4.6]\n",
        "#vetorB = [1.1, 2.3, 4.6, 5.1] # Parecidos\n",
        "vetorB = [-1.1, -2.3, -4.6, -5.1] # Bem diferentes\n",
        "\n",
        "# Transforma a lista em um vetor de numpy\n",
        "vetorA = np.array(vetorA)\n",
        "vetorB = np.array(vetorB)\n",
        "print(\"vetorA:\" + str(vetorA))\n",
        "print(\"vetorB:\" + str(vetorB))\n",
        "\n",
        "# Calcula a similaridade de vetores diferentes\n",
        "print(\"Vetores diferentes cosine(vetorA,vetorB) medida próxima de -1\")\n",
        "similaridade = similaridadeCoseno(vetorA,vetorB) \n",
        "print(\"similaridade:\", similaridade)\n",
        "\n",
        "# Calcula a similaridade de vetores iguais\n",
        "print(\"\\nVetores iguais cosine(vetorA,vetorA) medida igual a 1\")\n",
        "similaridade = similaridadeCoseno(vetorA,vetorA) \n",
        "print(\"vetorA:\" + str(vetorA))\n",
        "print(\"similaridade: %.20f\" % similaridade)"
      ],
      "execution_count": 16,
      "outputs": [
        {
          "output_type": "stream",
          "name": "stdout",
          "text": [
            "vetorA:[1.1 2.3 3.5 4.6]\n",
            "vetorB:[-1.1 -2.3 -4.6 -5.1]\n",
            "Vetores diferentes cosine(vetorA,vetorB) medida próxima de -1\n",
            "similaridade: -0.9952158225767781\n",
            "\n",
            "Vetores iguais cosine(vetorA,vetorA) medida igual a 1\n",
            "vetorA:[1.1 2.3 3.5 4.6]\n",
            "similaridade: 0.99999999999999977796\n"
          ]
        }
      ]
    },
    {
      "cell_type": "markdown",
      "metadata": {
        "id": "zPw2JFW2eVRd"
      },
      "source": [
        "#### Exemplo usando pytorch - distância\n",
        "\n",
        "Intervalo de [0, 2]"
      ]
    },
    {
      "cell_type": "code",
      "metadata": {
        "colab": {
          "base_uri": "https://localhost:8080/"
        },
        "outputId": "298fff48-55a8-48c9-8632-9b04927f2c0b",
        "id": "nZTYoTiQeVRk"
      },
      "source": [
        "import torch\n",
        " \n",
        "vetorA = [1.1, 2.3, 3.5, 4.6]\n",
        "#vetorB = [1.1, 2.3, 4.6, 5.1] # Parecidos\n",
        "vetorB = [-1.1, -2.3, -4.6, -5.1] # Bem diferentes\n",
        " \n",
        "# Converte para tensores\n",
        "vetorA = torch.tensor(vetorA)\n",
        "vetorB = torch.tensor(vetorB)\n",
        "\n",
        "if len(vetorA.shape) == 1:\n",
        "  vetorA = vetorA.unsqueeze(0)\n",
        "\n",
        "if len(vetorB.shape) == 1:\n",
        "  vetorB = vetorB.unsqueeze(0)\n",
        "\n",
        "# Calcula a distância\n",
        "vetorAnorm = torch.nn.functional.normalize(vetorA, p=2, dim=1)\n",
        "vetorBnorm = torch.nn.functional.normalize(vetorB, p=2, dim=1)\n",
        "print(\"vetorA:\" + str(vetorA))\n",
        "print(\"vetorB:\" + str(vetorB))\n",
        "\n",
        "# Calcula a distância de vetores diferentes\n",
        "print(\"\\nVetores diferentes cosine(vetorA,vetorB) medida próxima de 2\")\n",
        "distancia = torch.mm(vetorAnorm, vetorBnorm.transpose(0, 1))\n",
        "print(\"distância:\", 1 - distancia)\n",
        "\n",
        "# Calcula a distância de vetores iguais\n",
        "print(\"\\nVetores iguais cosine(vetorA,vetorA) medida igual a 0\")\n",
        "distancia = torch.mm(vetorAnorm, vetorAnorm.transpose(0, 1))\n",
        "print(\"distância:\", 1- distancia)"
      ],
      "execution_count": 17,
      "outputs": [
        {
          "output_type": "stream",
          "name": "stdout",
          "text": [
            "vetorA:tensor([[1.1000, 2.3000, 3.5000, 4.6000]])\n",
            "vetorB:tensor([[-1.1000, -2.3000, -4.6000, -5.1000]])\n",
            "\n",
            "Vetores diferentes cosine(vetorA,vetorB) medida próxima de 2\n",
            "distância: tensor([[1.9952]])\n",
            "\n",
            "Vetores iguais cosine(vetorA,vetorA) medida igual a 0\n",
            "distância: tensor([[0.]])\n"
          ]
        }
      ]
    },
    {
      "cell_type": "markdown",
      "metadata": {
        "id": "VaUbMp2A7ApX"
      },
      "source": [
        "#### Exemplo usando pytorch - similaridade\n",
        "\n",
        "Intervalo de [-1, 1]"
      ]
    },
    {
      "cell_type": "code",
      "metadata": {
        "colab": {
          "base_uri": "https://localhost:8080/"
        },
        "id": "2p78rh-E7Apc",
        "outputId": "333ed1a8-7c60-4fed-8bd7-90decef627ac"
      },
      "source": [
        "import torch\n",
        " \n",
        "vetorA = [1.1, 2.3, 3.5, 4.6]\n",
        "#vetorB = [1.1, 2.3, 4.6, 5.1] # Parecidos\n",
        "vetorB = [-1.1, -2.3, -4.6, -5.1] # Bem diferentes\n",
        " \n",
        "# Converte para tensores\n",
        "vetorA = torch.tensor(vetorA)\n",
        "vetorB = torch.tensor(vetorB)\n",
        "\n",
        "if len(vetorA.shape) == 1:\n",
        "  vetorA = vetorA.unsqueeze(0)\n",
        "\n",
        "if len(vetorB.shape) == 1:\n",
        "  vetorB = vetorB.unsqueeze(0)\n",
        "\n",
        "# Calcula a similaridade\n",
        "vetorAnorm = torch.nn.functional.normalize(vetorA, p=2, dim=1)\n",
        "vetorBnorm = torch.nn.functional.normalize(vetorB, p=2, dim=1)\n",
        "print(\"vetorA:\" + str(vetorA))\n",
        "print(\"vetorB:\" + str(vetorB))\n",
        "\n",
        "# Calcula a similaridade de vetores diferentes\n",
        "print(\"\\nVetores diferentes cosine(vetorA,vetorB) medida próxima de -1\")\n",
        "similaridade = torch.mm(vetorAnorm, vetorBnorm.transpose(0, 1))\n",
        "print(\"similaridade:\", similaridade)\n",
        "\n",
        "# Calcula a similaridade de vetores iguais\n",
        "print(\"\\nVetores iguais cosine(vetorA,vetorA) medida igual a 1\")\n",
        "similaridade = torch.mm(vetorAnorm, vetorAnorm.transpose(0, 1))\n",
        "print(\"similaridade:\", similaridade)"
      ],
      "execution_count": 18,
      "outputs": [
        {
          "output_type": "stream",
          "name": "stdout",
          "text": [
            "vetorA:tensor([[1.1000, 2.3000, 3.5000, 4.6000]])\n",
            "vetorB:tensor([[-1.1000, -2.3000, -4.6000, -5.1000]])\n",
            "\n",
            "Vetores diferentes cosine(vetorA,vetorB) medida próxima de -1\n",
            "similaridade: tensor([[-0.9952]])\n",
            "\n",
            "Vetores iguais cosine(vetorA,vetorA) medida igual a 1\n",
            "similaridade: tensor([[1.]])\n"
          ]
        }
      ]
    },
    {
      "cell_type": "markdown",
      "source": [
        "#### Exemplo usando pytorch2 - distância\n",
        "\n",
        "https://pytorch.org/docs/stable/generated/torch.nn.CosineSimilarity.html\n",
        "\n",
        "Intervalo de [0,2]"
      ],
      "metadata": {
        "id": "QfWqYnO2XzG-"
      }
    },
    {
      "cell_type": "code",
      "source": [
        "import torch\n",
        " \n",
        "vetorA = [1.1, 2.3, 3.5, 4.6]\n",
        "#vetorB = [1.1, 2.3, 4.6, 5.1] # Parecidos\n",
        "vetorB = [-1.1, -2.3, -4.6, -5.1] # Bem diferentes\n",
        "\n",
        "# Converte para tensores\n",
        "vetorA = torch.tensor(vetorA)\n",
        "vetorB = torch.tensor(vetorB)\n",
        "print(\"vetorA:\" + str(vetorA))\n",
        "print(\"vetorB:\" + str(vetorB))\n",
        "\n",
        "# Calcula a distância de vetores diferentes\n",
        "print(\"\\nVetores diferentes cosine(vetorA,vetorB) medida próxima de 2\")\n",
        "cos = torch.nn.CosineSimilarity(dim=0)\n",
        "distancia = 1 - cos(vetorA, vetorB)\n",
        "print(\"distância:\", distancia)\n",
        "\n",
        "# Calcula a distância de vetores iguais\n",
        "print(\"\\nVetores iguais cosine(vetorA,vetorA) medida igual a 0\")\n",
        "cos = torch.nn.CosineSimilarity(dim=0)\n",
        "distancia = 1 - cos(vetorA, vetorA)\n",
        "print(\"distância:\", distancia)"
      ],
      "metadata": {
        "colab": {
          "base_uri": "https://localhost:8080/"
        },
        "id": "YiMP-sPWXzOg",
        "outputId": "9b5f5785-7aa0-44b4-eb9a-3e58d7710835"
      },
      "execution_count": 19,
      "outputs": [
        {
          "output_type": "stream",
          "name": "stdout",
          "text": [
            "vetorA:tensor([1.1000, 2.3000, 3.5000, 4.6000])\n",
            "vetorB:tensor([-1.1000, -2.3000, -4.6000, -5.1000])\n",
            "\n",
            "Vetores diferentes cosine(vetorA,vetorB) medida próxima de 2\n",
            "distância: tensor(1.9952)\n",
            "\n",
            "Vetores iguais cosine(vetorA,vetorA) medida igual a 0\n",
            "distância: tensor(0.)\n"
          ]
        }
      ]
    },
    {
      "cell_type": "markdown",
      "source": [
        "#### Exemplo usando pytorch2 - similaridade\n",
        "\n",
        "https://pytorch.org/docs/stable/generated/torch.nn.CosineSimilarity.html\n",
        "\n",
        "Intervalo de [-1,1]"
      ],
      "metadata": {
        "id": "WhqscFp1gStx"
      }
    },
    {
      "cell_type": "code",
      "source": [
        "import torch\n",
        " \n",
        "vetorA = [1.1, 2.3, 3.5, 4.6]\n",
        "#vetorB = [1.1, 2.3, 4.6, 5.1] # Parecidos\n",
        "vetorB = [-1.1, -2.3, -4.6, -5.1] # Bem diferentes\n",
        " \n",
        "# Converte para tensores\n",
        "vetorA = torch.tensor(vetorA)\n",
        "vetorB = torch.tensor(vetorB)\n",
        "print(\"vetorA:\" + str(vetorA))\n",
        "print(\"vetorB:\" + str(vetorB))\n",
        "\n",
        "# Calcula a similaridade de vetores diferentes\n",
        "print(\"\\nVetores diferentes cosine(vetorA,vetorB) medida próxima de -1\")\n",
        "cos = torch.nn.CosineSimilarity(dim=0)\n",
        "similaridade = cos(vetorA, vetorB)\n",
        "print(\"similaridade:\", similaridade)\n",
        "\n",
        "# Calcula a similaridade de vetores iguais\n",
        "print(\"\\nVetores iguais cosine(vetorA,vetorA) medida igual a 1\")\n",
        "cos = torch.nn.CosineSimilarity(dim=0)\n",
        "similaridade = cos(vetorA, vetorA)\n",
        "print(\"similaridade:\", similaridade)"
      ],
      "metadata": {
        "colab": {
          "base_uri": "https://localhost:8080/"
        },
        "outputId": "3287315f-ea41-4ac4-aaa4-a0c3717119fe",
        "id": "tHFtWe8RgSt4"
      },
      "execution_count": 20,
      "outputs": [
        {
          "output_type": "stream",
          "name": "stdout",
          "text": [
            "vetorA:tensor([1.1000, 2.3000, 3.5000, 4.6000])\n",
            "vetorB:tensor([-1.1000, -2.3000, -4.6000, -5.1000])\n",
            "\n",
            "Vetores diferentes cosine(vetorA,vetorB) medida próxima de -1\n",
            "similaridade: tensor(-0.9952)\n",
            "\n",
            "Vetores iguais cosine(vetorA,vetorA) medida igual a 1\n",
            "similaridade: tensor(1.)\n"
          ]
        }
      ]
    },
    {
      "cell_type": "markdown",
      "metadata": {
        "id": "rhSVQ8E-Be92"
      },
      "source": [
        "#### Exemplo usando sklearn - distância\n",
        "\n",
        "https://scikit-learn.org/stable/modules/generated/sklearn.metrics.pairwise.paired_cosine_distances.html\n",
        "\n",
        "Intervalo de [0,2]"
      ]
    },
    {
      "cell_type": "code",
      "metadata": {
        "colab": {
          "base_uri": "https://localhost:8080/"
        },
        "id": "pYyiNiOgBe95",
        "outputId": "276b45ed-7541-44da-de09-1ac89945e74d"
      },
      "source": [
        "from sklearn.metrics.pairwise import paired_cosine_distances\n",
        " \n",
        "vetorA = [1.1, 2.3, 3.5, 4.6]\n",
        "#vetorB = [1.1, 2.3, 4.6, 5.1] # Parecidos\n",
        "vetorB = [-1.1, -2.3, -4.6, -5.1] # Bem diferentes\n",
        " \n",
        "# Converte para tensores\n",
        "vetorA = torch.tensor(vetorA)\n",
        "vetorB = torch.tensor(vetorB)\n",
        "print(\"vetorA:\" + str(vetorA))\n",
        "print(\"vetorB:\" + str(vetorB))\n",
        "\n",
        "if len(vetorA.shape) == 1:\n",
        "  vetorA = vetorA.unsqueeze(0)\n",
        "\n",
        "if len(vetorB.shape) == 1:\n",
        "  vetorB = vetorB.unsqueeze(0)\n",
        "\n",
        "# Calcula a distância de vetores diferentes\n",
        "print(\"\\nVetores diferentes cosine(vetorA,vetorB) medida próxima de 2\")\n",
        "cos = torch.nn.CosineSimilarity(dim=0)\n",
        "distancia = paired_cosine_distances(vetorA, vetorB)\n",
        "print(\"distância:\", distancia)\n",
        "\n",
        "# Calcula a distância de vetores iguais\n",
        "print(\"\\nVetores iguais cosine(vetorA,vetorA) medida igual a 0\")\n",
        "cos = torch.nn.CosineSimilarity(dim=0)\n",
        "distancia = paired_cosine_distances(vetorA, vetorA)\n",
        "print(\"distância:\", distancia)"
      ],
      "execution_count": 21,
      "outputs": [
        {
          "output_type": "stream",
          "name": "stdout",
          "text": [
            "vetorA:tensor([1.1000, 2.3000, 3.5000, 4.6000])\n",
            "vetorB:tensor([-1.1000, -2.3000, -4.6000, -5.1000])\n",
            "\n",
            "Vetores diferentes cosine(vetorA,vetorB) medida próxima de 2\n",
            "distância: [1.9952155]\n",
            "\n",
            "Vetores iguais cosine(vetorA,vetorA) medida igual a 0\n",
            "distância: [0.]\n"
          ]
        }
      ]
    },
    {
      "cell_type": "markdown",
      "metadata": {
        "id": "R-gEth5mjqX_"
      },
      "source": [
        "#### Exemplo usando sklearn - similaridade\n",
        "\n",
        "https://scikit-learn.org/stable/modules/generated/sklearn.metrics.pairwise.paired_cosine_distances.html\n",
        "\n",
        "Intervalo de [-1,1]"
      ]
    },
    {
      "cell_type": "code",
      "metadata": {
        "colab": {
          "base_uri": "https://localhost:8080/"
        },
        "outputId": "39aee531-419e-4250-80eb-a518bea52805",
        "id": "a9pXBQaAjqYG"
      },
      "source": [
        "from sklearn.metrics.pairwise import paired_cosine_distances\n",
        " \n",
        "vetorA = [1.1, 2.3, 3.5, 4.6]\n",
        "#vetorB = [1.1, 2.3, 4.6, 5.1] # Parecidos\n",
        "vetorB = [-1.1, -2.3, -4.6, -5.1] # Bem diferentes\n",
        " \n",
        "# Converte para tensores\n",
        "vetorA = torch.tensor(vetorA)\n",
        "vetorB = torch.tensor(vetorB)\n",
        "\n",
        "if len(vetorA.shape) == 1:\n",
        "  vetorA = vetorA.unsqueeze(0)\n",
        "\n",
        "if len(vetorB.shape) == 1:\n",
        "  vetorB = vetorB.unsqueeze(0)\n",
        "\n",
        "# Calcula a similaridade de vetores diferentes\n",
        "print(\"\\nVetores diferentes cosine(vetorA,vetorB) medida próxima de -1\")\n",
        "cos = torch.nn.CosineSimilarity(dim=0)\n",
        "similaridade = 1- paired_cosine_distances(vetorA, vetorB)\n",
        "print(\"similaridade:\", similaridade)\n",
        "\n",
        "# Calcula a similaridade de vetores iguais\n",
        "print(\"\\nVetores iguais cosine(vetorA,vetorA) medida igual a 1\")\n",
        "cos = torch.nn.CosineSimilarity(dim=0)\n",
        "similaridade = 1 - paired_cosine_distances(vetorA, vetorA)\n",
        "print(\"similaridade:\", similaridade)"
      ],
      "execution_count": 22,
      "outputs": [
        {
          "output_type": "stream",
          "name": "stdout",
          "text": [
            "\n",
            "Vetores diferentes cosine(vetorA,vetorB) medida próxima de -1\n",
            "similaridade: [-0.99521554]\n",
            "\n",
            "Vetores iguais cosine(vetorA,vetorA) medida igual a 1\n",
            "similaridade: [1.]\n"
          ]
        }
      ]
    },
    {
      "cell_type": "markdown",
      "metadata": {
        "id": "sDQaBOt5MM91"
      },
      "source": [
        "## Similaridade Jaccard"
      ]
    },
    {
      "cell_type": "markdown",
      "metadata": {
        "id": "j141dSTUNC2F"
      },
      "source": [
        "### Manualmente\n",
        "\n",
        "Mede o quanto dois vetores são similares. \n",
        "Quanto mais parecidas, maior o valor.\n",
        "Geralmente valor pertence ao intervalo [0, 1].\n",
        "\n",
        "Se igual a 1 os vetores são iguais."
      ]
    },
    {
      "cell_type": "code",
      "metadata": {
        "colab": {
          "base_uri": "https://localhost:8080/"
        },
        "id": "wlwl0ADYMPgv",
        "outputId": "3d88f0f4-b8fb-47a4-ba6d-5880e1f08c32"
      },
      "source": [
        "from math import *\n",
        " \n",
        "def jaccard_similarity(x,y): \n",
        "    interseccao = len(set.intersection(*[set(x), set(y)]))\n",
        "    uniao = len(set.union(*[set(x), set(y)]))\n",
        "    return interseccao/float(uniao)\n",
        " \n",
        "vetorA = [1.1, 2.3, 3.5, 4.6]\n",
        "vetorB = [1.1, 2.3, 4.6, 5.1]\n",
        "\n",
        "# Calcula a similaridade\n",
        "similaridade = jaccard_similarity(vetorA, vetorB)\n",
        "\n",
        "print(\"vetorA:\" + str(vetorA))\n",
        "print(\"vetorB:\" + str(vetorB))\n",
        "\n",
        "print(\"similaridade:\", similaridade)"
      ],
      "execution_count": 23,
      "outputs": [
        {
          "output_type": "stream",
          "name": "stdout",
          "text": [
            "vetorA:[1.1, 2.3, 3.5, 4.6]\n",
            "vetorB:[1.1, 2.3, 4.6, 5.1]\n",
            "similaridade: 0.6\n"
          ]
        }
      ]
    },
    {
      "cell_type": "markdown",
      "metadata": {
        "id": "PsebR5nXNE23"
      },
      "source": [
        "### Exemplo usando numpy\n",
        "\n",
        "https://scikit-learn.org/stable/modules/generated/sklearn.metrics.jaccard_score.html#:~:text=The%20Jaccard%20index%20%5B1%5D%2C,set%20of%20labels%20in%20y_true%20.&text=Ground%20truth%20(correct)%20labels."
      ]
    },
    {
      "cell_type": "code",
      "metadata": {
        "colab": {
          "base_uri": "https://localhost:8080/"
        },
        "id": "j74_TRHTNFMH",
        "outputId": "516723b7-5b66-4403-dffc-9fa44b57ad2f"
      },
      "source": [
        "import numpy as np\n",
        "from sklearn.metrics import jaccard_score\n",
        "\n",
        "vetorA = [1, 2, 3, 4]\n",
        "vetorB = [1, 2, 4, 5]\n",
        "\n",
        "# Transforma a lista em um vetor de numpy\n",
        "vetorA = np.array(vetorA)\n",
        "vetorB = np.array(vetorB)\n",
        "\n",
        "# Calcula a similaridade\n",
        "# average{None, ‘micro’, ‘macro’, ‘samples’, ‘weighted’, ‘binary’}, default=’binary’\n",
        "similaridade = jaccard_score(vetorA, vetorB, average=\"weighted\")\n",
        "\n",
        "print(\"vetorA:\" + str(vetorA))\n",
        "print(\"vetorB:\" + str(vetorB))\n",
        "\n",
        "print(\"similaridade:\", similaridade)"
      ],
      "execution_count": 24,
      "outputs": [
        {
          "output_type": "stream",
          "name": "stdout",
          "text": [
            "vetorA:[1 2 3 4]\n",
            "vetorB:[1 2 4 5]\n",
            "similaridade: 0.5\n"
          ]
        }
      ]
    },
    {
      "cell_type": "markdown",
      "metadata": {
        "id": "_WkOWqOb3aQn"
      },
      "source": [
        "### Exemplo usando scipy\n",
        "\n",
        "https://docs.scipy.org/doc/scipy/reference/spatial.distance.html"
      ]
    },
    {
      "cell_type": "code",
      "metadata": {
        "colab": {
          "base_uri": "https://localhost:8080/"
        },
        "id": "VqB_f6213ak-",
        "outputId": "51fb7932-ee64-4fd2-f4bf-970450e8a4f5"
      },
      "source": [
        "from scipy.spatial.distance import jaccard\n",
        "\n",
        "vetorA = [1.1, 2.3, 3.5, 4.6]\n",
        "vetorB = [1.1, 2.3, 4.6, 5.1]\n",
        "\n",
        "# Transforma a lista em um vetor de numpy\n",
        "vetorA = np.array(vetorA)\n",
        "vetorB = np.array(vetorB)\n",
        "\n",
        "# Calcula a similaridade\n",
        "similaridade = 1 - jaccard(vetorA, vetorB)\n",
        "\n",
        "print(\"vetorA:\" + str(vetorA))\n",
        "print(\"vetorB:\" + str(vetorB))\n",
        "\n",
        "print(\"similaridade:\", similaridade)"
      ],
      "execution_count": 25,
      "outputs": [
        {
          "output_type": "stream",
          "name": "stdout",
          "text": [
            "vetorA:[1.1 2.3 3.5 4.6]\n",
            "vetorB:[1.1 2.3 4.6 5.1]\n",
            "similaridade: 0.5\n"
          ]
        }
      ]
    },
    {
      "cell_type": "markdown",
      "metadata": {
        "id": "uKSeiJcR-Bf7"
      },
      "source": [
        "## Similaridade Produto Interno(dot product)"
      ]
    },
    {
      "cell_type": "markdown",
      "metadata": {
        "id": "jP1wIdXI-YMY"
      },
      "source": [
        "### Exemplo usando pytorch 1"
      ]
    },
    {
      "cell_type": "code",
      "metadata": {
        "colab": {
          "base_uri": "https://localhost:8080/"
        },
        "id": "BcRJ_hLM-Yb9",
        "outputId": "076fac66-fcab-460c-8202-a895ddcdd07c"
      },
      "source": [
        " import torch\n",
        " \n",
        "vetorA = [1.1, -2.3, 3.5, 4.6]\n",
        "vetorB = [1.1, 2.3, -4.6, 5.1]\n",
        " \n",
        "# Converte para tensores\n",
        "vetorA = torch.tensor(vetorA)\n",
        "vetorB = torch.tensor(vetorB)\n",
        "\n",
        "# unsqueeze retorna um novo tensor com uma dimensão de tamanho 1 inserido na posição especificada(0).\n",
        "if len(vetorA.shape) == 1:\n",
        "  vetorA = vetorA.unsqueeze(0)\n",
        "\n",
        "# unsqueeze retorna um novo tensor com uma dimensão de tamanho 1 inserido na posição especificada(0).\n",
        "if len(vetorB.shape) == 1:\n",
        "  vetorB = vetorB.unsqueeze(0)\n",
        "\n",
        "# Calcula a similaridade\n",
        "similaridade = torch.matmul(vetorA, vetorB.permute(1,0))    \n",
        "\n",
        "print(\"vetorA:\" + str(vetorA))\n",
        "print(\"vetorB:\" + str(vetorB))\n",
        "\n",
        "print(\"similaridade:\", similaridade)"
      ],
      "execution_count": 26,
      "outputs": [
        {
          "output_type": "stream",
          "name": "stdout",
          "text": [
            "vetorA:tensor([[ 1.1000, -2.3000,  3.5000,  4.6000]])\n",
            "vetorB:tensor([[ 1.1000,  2.3000, -4.6000,  5.1000]])\n",
            "similaridade: tensor([[3.2800]])\n"
          ]
        }
      ]
    },
    {
      "cell_type": "markdown",
      "metadata": {
        "id": "hUluLn1o-Ym-"
      },
      "source": [
        "### Exemplo usando pytorch 1"
      ]
    },
    {
      "cell_type": "code",
      "metadata": {
        "colab": {
          "base_uri": "https://localhost:8080/"
        },
        "id": "ws1-cwet-Ym-",
        "outputId": "86ea0c85-2bca-4059-83cf-8411a3874123"
      },
      "source": [
        "import torch\n",
        " \n",
        "vetorA = [1.1, -2.3, 3.5, 4.6]\n",
        "vetorB = [1.1, 2.3, -4.6, 5.1]\n",
        "\n",
        "# Converte para tensores\n",
        "vetorA = torch.tensor(vetorA)\n",
        "vetorB = torch.tensor(vetorB)\n",
        "\n",
        "# unsqueeze retorna um novo tensor com uma dimensão de tamanho 1 inserido na posição especificada(0).\n",
        "if len(vetorA.shape) == 1:\n",
        "  vetorA = vetorA.unsqueeze(0)\n",
        "\n",
        "# unsqueeze retorna um novo tensor com uma dimensão de tamanho 1 inserido na posição especificada(0).\n",
        "if len(vetorB.shape) == 1:\n",
        "  vetorB = vetorB.unsqueeze(0)\n",
        "\n",
        "# Calcula a similaridade\n",
        "similaridade = torch.mm(vetorA, vetorB.transpose(0, 1))\n",
        "\n",
        "print(\"vetorA:\" + str(vetorA))\n",
        "print(\"vetorB:\" + str(vetorB))\n",
        "\n",
        "print(\"similaridade:\", similaridade)"
      ],
      "execution_count": 27,
      "outputs": [
        {
          "output_type": "stream",
          "name": "stdout",
          "text": [
            "vetorA:tensor([[ 1.1000, -2.3000,  3.5000,  4.6000]])\n",
            "vetorB:tensor([[ 1.1000,  2.3000, -4.6000,  5.1000]])\n",
            "similaridade: tensor([[3.2800]])\n"
          ]
        }
      ]
    },
    {
      "cell_type": "markdown",
      "metadata": {
        "id": "G5J-eYud-7yB"
      },
      "source": [
        "### Exemplo usando pytorch 2"
      ]
    },
    {
      "cell_type": "code",
      "metadata": {
        "colab": {
          "base_uri": "https://localhost:8080/"
        },
        "id": "EN9biIhb-7yB",
        "outputId": "c01469de-7315-436a-bd20-3531668c6172"
      },
      "source": [
        "import torch\n",
        " \n",
        "vetorA = [1.1, -2.3, 3.5, 4.6]\n",
        "vetorB = [1.1, 2.3, -4.6, 5.1]\n",
        " \n",
        "# Converte para tensores\n",
        "vetorA = torch.tensor(vetorA)\n",
        "vetorB = torch.tensor(vetorB)\n",
        "\n",
        "# unsqueeze retorna um novo tensor com uma dimensão de tamanho 1 inserido na posição especificada(0).\n",
        "if len(vetorA.shape) == 1:\n",
        "  vetorA = vetorA.unsqueeze(0)\n",
        "\n",
        "if len(vetorB.shape) == 1:\n",
        "  vetorB = vetorB.unsqueeze(0)\n",
        "\n",
        "# Calcula a similaridade\n",
        "similaridade = abs(torch.mm(vetorA, vetorB.transpose(0, 1)))\n",
        "\n",
        "print(\"vetorA:\" + str(vetorA))\n",
        "print(\"vetorB:\" + str(vetorB))\n",
        "\n",
        "print(\"similaridade:\", similaridade)"
      ],
      "execution_count": 28,
      "outputs": [
        {
          "output_type": "stream",
          "name": "stdout",
          "text": [
            "vetorA:tensor([[ 1.1000, -2.3000,  3.5000,  4.6000]])\n",
            "vetorB:tensor([[ 1.1000,  2.3000, -4.6000,  5.1000]])\n",
            "similaridade: tensor([[3.2800]])\n"
          ]
        }
      ]
    },
    {
      "cell_type": "markdown",
      "metadata": {
        "id": "f3nzn9MJ_hpE"
      },
      "source": [
        "### Exemplo usando pytorch 3"
      ]
    },
    {
      "cell_type": "code",
      "metadata": {
        "colab": {
          "base_uri": "https://localhost:8080/"
        },
        "id": "vR87YGCy_hzc",
        "outputId": "163f67a0-f43b-4902-95c8-793d8dd790ae"
      },
      "source": [
        "import torch\n",
        " \n",
        "vetorA = [1.1, -2.3, 3.5, 4.6]\n",
        "vetorB = [1.1, 2.3, -4.6, 5.1]\n",
        "\n",
        "# Converte para tensores\n",
        "vetorA = torch.tensor(vetorA)\n",
        "vetorB = torch.tensor(vetorB)\n",
        "\n",
        "# unsqueeze retorna um novo tensor com uma dimensão de tamanho 1 inserido na posição especificada(0).\n",
        "if len(vetorA.shape) == 1:\n",
        "  vetorA = vetorA.unsqueeze(0)\n",
        "\n",
        "# unsqueeze retorna um novo tensor com uma dimensão de tamanho 1 inserido na posição especificada(0).\n",
        "if len(vetorB.shape) == 1:\n",
        "  vetorB = vetorB.unsqueeze(0)\n",
        "\n",
        "# Calcula a similaridade\n",
        "similaridade = torch.matmul(vetorA, vetorB.transpose(0, 1))\n",
        "\n",
        "print(\"vetorA:\" + str(vetorA))\n",
        "print(\"vetorB:\" + str(vetorB))\n",
        "\n",
        "print(\"similaridade:\", similaridade)"
      ],
      "execution_count": 29,
      "outputs": [
        {
          "output_type": "stream",
          "name": "stdout",
          "text": [
            "vetorA:tensor([[ 1.1000, -2.3000,  3.5000,  4.6000]])\n",
            "vetorB:tensor([[ 1.1000,  2.3000, -4.6000,  5.1000]])\n",
            "similaridade: tensor([[3.2800]])\n"
          ]
        }
      ]
    },
    {
      "cell_type": "markdown",
      "metadata": {
        "id": "uFn1fp5o-G8S"
      },
      "source": [
        "### Exemplo usando pytorch 4"
      ]
    },
    {
      "cell_type": "code",
      "metadata": {
        "colab": {
          "base_uri": "https://localhost:8080/"
        },
        "id": "oBr-r4Bt-GGj",
        "outputId": "bfee2f71-7712-4c23-aee7-f93c817a4f1f"
      },
      "source": [
        "import torch\n",
        " \n",
        "vetorA = [1.1, -2.3, 3.5, 4.6]\n",
        "vetorB = [1.1, 2.3, -4.6, 5.1]\n",
        " \n",
        "# Converte para tensores\n",
        "vetorA = torch.tensor(vetorA)\n",
        "vetorB = torch.tensor(vetorB)\n",
        "\n",
        "# unsqueeze retorna um novo tensor com uma dimensão de tamanho 1 inserido na posição especificada(0).\n",
        "if len(vetorA.shape) == 1:\n",
        "  vetorA = vetorA.unsqueeze(0)\n",
        "\n",
        "# unsqueeze retorna um novo tensor com uma dimensão de tamanho 1 inserido na posição especificada(0).\n",
        "if len(vetorB.shape) == 1:\n",
        "  vetorB = vetorB.unsqueeze(0)\n",
        "\n",
        "# Calcula a similaridade\n",
        "similaridade = torch.mm(vetorA, vetorB.transpose(0, 1))\n",
        "\n",
        "print(\"vetorA:\" + str(vetorA))\n",
        "print(\"vetorB:\" + str(vetorB))\n",
        "\n",
        "print(\"similaridade:\", similaridade)"
      ],
      "execution_count": 30,
      "outputs": [
        {
          "output_type": "stream",
          "name": "stdout",
          "text": [
            "vetorA:tensor([[ 1.1000, -2.3000,  3.5000,  4.6000]])\n",
            "vetorB:tensor([[ 1.1000,  2.3000, -4.6000,  5.1000]])\n",
            "similaridade: tensor([[3.2800]])\n"
          ]
        }
      ]
    },
    {
      "cell_type": "markdown",
      "metadata": {
        "id": "21kq3MGb3k16"
      },
      "source": [
        "# Medidas de Distância\n",
        "\n",
        "Para ser uma medida de distância é necessário atender as seguintes propriedades.\n",
        "- 1a - Positividade – d(A,B) >=0 para todo A e B e d(A,B)=0 somente se A = B \n",
        "- 2a - Simetria – d(A,C) = d(A,B) para todo A e B\n",
        "- 3a - Desigualdade triangular – d(A,B) <= d(A,B) + d(B,C) para todos os objetos A, B e C."
      ]
    },
    {
      "cell_type": "markdown",
      "metadata": {
        "id": "knc8DSSSG6kj"
      },
      "source": [
        "## Distância Levenshtein"
      ]
    },
    {
      "cell_type": "markdown",
      "metadata": {
        "id": "EFjwVl5g0nWq"
      },
      "source": [
        "### Exemplo com a biblioteca python-levenshtein"
      ]
    },
    {
      "cell_type": "code",
      "metadata": {
        "id": "ppItQ6WYGsO8",
        "colab": {
          "base_uri": "https://localhost:8080/"
        },
        "outputId": "38ab5397-98c7-4c12-ec5a-cca69dbc7cbb"
      },
      "source": [
        "!pip install python-levenshtein"
      ],
      "execution_count": 31,
      "outputs": [
        {
          "output_type": "stream",
          "name": "stdout",
          "text": [
            "Looking in indexes: https://pypi.org/simple, https://us-python.pkg.dev/colab-wheels/public/simple/\n",
            "Requirement already satisfied: python-levenshtein in /usr/local/lib/python3.7/dist-packages (0.12.2)\n",
            "Requirement already satisfied: setuptools in /usr/local/lib/python3.7/dist-packages (from python-levenshtein) (57.4.0)\n"
          ]
        }
      ]
    },
    {
      "cell_type": "code",
      "metadata": {
        "id": "Df0NczKQFaVR",
        "colab": {
          "base_uri": "https://localhost:8080/"
        },
        "outputId": "cba60b5d-6de7-4b06-fd43-9df9fd78640b"
      },
      "source": [
        "import Levenshtein \n",
        "\n",
        "str1 = \"ab ab cd\" \n",
        "str2 = \"cd ef\"\n",
        "\n",
        "# Calcula a distância\n",
        "distancia = Levenshtein.distance(str1, str2)\n",
        "\n",
        "print(\"str1:\" + str1)\n",
        "print(\"str2:\" + str2)\n",
        "\n",
        "print(\"distancia:\", distancia)"
      ],
      "execution_count": 32,
      "outputs": [
        {
          "output_type": "stream",
          "name": "stdout",
          "text": [
            "str1:ab ab cd\n",
            "str2:cd ef\n",
            "distancia: 7\n"
          ]
        }
      ]
    },
    {
      "cell_type": "markdown",
      "metadata": {
        "id": "olfzDkRoE0io"
      },
      "source": [
        "## Distância Euclidiana\n",
        "\n",
        "Mede o quanto dois vetores são diferentes(mais dissimilares). \n",
        "\n",
        "O intervalo varia de 0 a +infinito [0, +infinito].\n",
        "\n",
        "Vetores próximos apresentam distância próxima a 0 e cresce a medida que os vetores se afastam(são diferentes).\n",
        "\n",
        "Como não há um limite superior diferentes vetores podem apresentar diferentes valores máximos.\n",
        "\n",
        "Possui outros nomes como distância L2 ou norma L2."
      ]
    },
    {
      "cell_type": "markdown",
      "metadata": {
        "id": "WxDK0r_EE8Zk"
      },
      "source": [
        "### Manualmente"
      ]
    },
    {
      "cell_type": "code",
      "metadata": {
        "colab": {
          "base_uri": "https://localhost:8080/"
        },
        "id": "8OlvHizKE29N",
        "outputId": "a749e794-201d-48d8-fc3e-adb8c2938e66"
      },
      "source": [
        "import math\n",
        "\n",
        "vetorA = [1.1, 2.3, 3.5, 4.6]\n",
        "vetorB = [1.1, 2.3, 4.6, 5.1]\n",
        "\n",
        "tamanho = len(vetorA) \n",
        "soma = 0\n",
        "for i in range(tamanho):\n",
        "\tsoma += math.pow(vetorA[i] - vetorB[i], 2)\n",
        "\n",
        "# Calcula a distância\n",
        "distancia =  math.sqrt(soma)\n",
        "\n",
        "print(\"vetorA:\" + str(vetorA))\n",
        "print(\"vetorB:\" + str(vetorB))\n",
        "\n",
        "print(\"distância:\", distancia)"
      ],
      "execution_count": 33,
      "outputs": [
        {
          "output_type": "stream",
          "name": "stdout",
          "text": [
            "vetorA:[1.1, 2.3, 3.5, 4.6]\n",
            "vetorB:[1.1, 2.3, 4.6, 5.1]\n",
            "distância: 1.2083045973594568\n"
          ]
        }
      ]
    },
    {
      "cell_type": "markdown",
      "metadata": {
        "id": "9ipumGTdFAQM"
      },
      "source": [
        "### Exemplo usando numpy"
      ]
    },
    {
      "cell_type": "code",
      "metadata": {
        "colab": {
          "base_uri": "https://localhost:8080/"
        },
        "id": "MyJcRHqpFExm",
        "outputId": "a90840a4-ef9c-4ed5-955a-d5c8d3341b2b"
      },
      "source": [
        "import numpy as np\n",
        "\n",
        "vetorA = [1.1, 2.3, 3.5, 4.6]\n",
        "vetorB = [1.1, 2.3, 4.6, 5.1]\n",
        "\n",
        "# Transforma a lista em um vetor de numpy\n",
        "vetorA = np.array(vetorA)\n",
        "vetorB = np.array(vetorB)\n",
        "\n",
        "# Calcula a diferença de cada valor\n",
        "diferenca = vetorA - vetorB\n",
        "\n",
        "# Calcula o quadrado da diferença\n",
        "quadrado_diferenca = np.dot(diferenca, diferenca)\n",
        "\n",
        "# Raiz quadrada da diferença\n",
        "distancia =  math.sqrt(quadrado_diferenca)\n",
        "\n",
        "print(\"vetorA:\" + str(vetorA))\n",
        "print(\"vetorB:\" + str(vetorB))\n",
        "\n",
        "print(\"distância:\", distancia)"
      ],
      "execution_count": 34,
      "outputs": [
        {
          "output_type": "stream",
          "name": "stdout",
          "text": [
            "vetorA:[1.1 2.3 3.5 4.6]\n",
            "vetorB:[1.1 2.3 4.6 5.1]\n",
            "distância: 1.2083045973594568\n"
          ]
        }
      ]
    },
    {
      "cell_type": "markdown",
      "metadata": {
        "id": "7HPvEhfTHs6u"
      },
      "source": [
        "### Exemplo usando scipy\n",
        "\n",
        "https://docs.scipy.org/doc/scipy/reference/spatial.distance.html"
      ]
    },
    {
      "cell_type": "code",
      "metadata": {
        "colab": {
          "base_uri": "https://localhost:8080/"
        },
        "id": "nAcnuDPrHtD8",
        "outputId": "2f92de97-01b9-4278-84b3-717cc4bf5b13"
      },
      "source": [
        "from scipy.spatial import distance\n",
        "\n",
        "vetorA = [1.1, 2.3, 3.5, 4.6]\n",
        "vetorB = [1.1, 2.3, 4.6, 5.1]\n",
        "\n",
        "# Calcula a distância\n",
        "distancia = distance.euclidean(vetorA, vetorB)\n",
        "\n",
        "print(\"vetorA:\" + str(vetorA))\n",
        "print(\"vetorB:\" + str(vetorB))\n",
        "\n",
        "print(\"distância:\", distancia)"
      ],
      "execution_count": 35,
      "outputs": [
        {
          "output_type": "stream",
          "name": "stdout",
          "text": [
            "vetorA:[1.1, 2.3, 3.5, 4.6]\n",
            "vetorB:[1.1, 2.3, 4.6, 5.1]\n",
            "distância: 1.2083045973594568\n"
          ]
        }
      ]
    },
    {
      "cell_type": "markdown",
      "metadata": {
        "id": "08G6e1l6Ccq4"
      },
      "source": [
        "### Exemplo usando sklearn"
      ]
    },
    {
      "cell_type": "code",
      "metadata": {
        "colab": {
          "base_uri": "https://localhost:8080/"
        },
        "id": "Oxee5WbiCcq4",
        "outputId": "0bbe4923-f707-4105-9af4-53b3a54230f8"
      },
      "source": [
        "from sklearn.metrics.pairwise import euclidean_distances\n",
        " \n",
        "vetorA = [1.1, 2.3, 3.5, 4.6]\n",
        "vetorB = [1.1, 2.3, 4.6, 5.1]\n",
        " \n",
        "# Converte para tensores\n",
        "vetorA = torch.tensor(vetorA)\n",
        "vetorB = torch.tensor(vetorB)\n",
        "\n",
        "# unsqueeze retorna um novo tensor com uma dimensão de tamanho 1 inserido na posição especificada(0).\n",
        "if len(vetorA.shape) == 1:\n",
        "  vetorA = vetorA.unsqueeze(0)\n",
        "\n",
        "# unsqueeze retorna um novo tensor com uma dimensão de tamanho 1 inserido na posição especificada(0).\n",
        "if len(vetorB.shape) == 1:\n",
        "  vetorB = vetorB.unsqueeze(0)\n",
        "\n",
        "# Calcula a distância\n",
        "distancia = euclidean_distances(vetorA, vetorB)\n",
        "\n",
        "print(\"vetorA:\" + str(vetorA))\n",
        "print(\"vetorB:\" + str(vetorB))\n",
        "\n",
        "print(\"distância:\", distancia)"
      ],
      "execution_count": 36,
      "outputs": [
        {
          "output_type": "stream",
          "name": "stdout",
          "text": [
            "vetorA:tensor([[1.1000, 2.3000, 3.5000, 4.6000]])\n",
            "vetorB:tensor([[1.1000, 2.3000, 4.6000, 5.1000]])\n",
            "distância: [[1.2083045]]\n"
          ]
        }
      ]
    },
    {
      "cell_type": "markdown",
      "metadata": {
        "id": "mERi1w4zY43o"
      },
      "source": [
        "Distância euclidiana generalizado por Minkowski ou Norma L2"
      ]
    },
    {
      "cell_type": "code",
      "metadata": {
        "colab": {
          "base_uri": "https://localhost:8080/"
        },
        "id": "l2JG8FfbY5Az",
        "outputId": "b9402111-7342-416c-c974-98f2b4e52f57"
      },
      "source": [
        "from scipy.spatial import distance\n",
        " \n",
        "vetorA = [1.1, 2.3, 3.5, 4.6]\n",
        "vetorB = [1.1, 2.3, 4.6, 5.1]\n",
        " \n",
        "# Calcula a distância\n",
        "distancia = distance.minkowski(vetorA,vetorB,2)\n",
        "\n",
        "print(\"vetorA:\" + str(vetorA))\n",
        "print(\"vetorB:\" + str(vetorB))\n",
        "\n",
        "print(\"distância:\", distancia)"
      ],
      "execution_count": 37,
      "outputs": [
        {
          "output_type": "stream",
          "name": "stdout",
          "text": [
            "vetorA:[1.1, 2.3, 3.5, 4.6]\n",
            "vetorB:[1.1, 2.3, 4.6, 5.1]\n",
            "distância: 1.2083045973594568\n"
          ]
        }
      ]
    },
    {
      "cell_type": "markdown",
      "metadata": {
        "id": "3VYuI_nXKx1C"
      },
      "source": [
        "## Distância Manhattam\n",
        "\n",
        "Mede o quanto dois vetores são diferentes(mais dissimilares). \n",
        "\n",
        "O intervalo varia de 0 a +infinito [0, +infinito].\n",
        "\n",
        "Vetores próximos apresentam distância próxima a 0 e cresce a medida que os vetores se afastam(são diferentes).\n",
        "\n",
        "Como não há um limite superior diferentes vetores podem apresentar diferentes valores máximos.\n",
        "\n",
        "Possui outros nomes como distância Cityblock, distância L1, norma L1 e métrica do táxi."
      ]
    },
    {
      "cell_type": "markdown",
      "metadata": {
        "id": "QgHdRDPOK2d9"
      },
      "source": [
        "### Manualmente"
      ]
    },
    {
      "cell_type": "code",
      "metadata": {
        "colab": {
          "base_uri": "https://localhost:8080/"
        },
        "id": "3plq3IJlLGvt",
        "outputId": "3d552f44-dff1-4e29-86d2-2f90d3de5901"
      },
      "source": [
        "import math\n",
        " \n",
        "vetorA = [1.1, 2.3, 3.5, 4.6]\n",
        "vetorB = [1.1, 2.3, 4.6, 5.1]\n",
        "\n",
        "def manhattan_distance(x,y):\n",
        "    soma = 0\n",
        "    for a,b in zip(x,y):\n",
        "        soma = soma + abs(a-b)\n",
        "    return soma\n",
        "\n",
        "# Calcula a distância \n",
        "distancia =  manhattan_distance(vetorA,vetorB)\n",
        "\n",
        "print(\"vetorA:\" + str(vetorA))\n",
        "print(\"vetorB:\" + str(vetorB))\n",
        "\n",
        "print(\"distância:\", distancia)"
      ],
      "execution_count": 38,
      "outputs": [
        {
          "output_type": "stream",
          "name": "stdout",
          "text": [
            "vetorA:[1.1, 2.3, 3.5, 4.6]\n",
            "vetorB:[1.1, 2.3, 4.6, 5.1]\n",
            "distância: 1.5999999999999996\n"
          ]
        }
      ]
    },
    {
      "cell_type": "markdown",
      "metadata": {
        "id": "WJc1DPVHKzjm"
      },
      "source": [
        "### Exemplo usando scipy\n",
        "\n",
        "https://docs.scipy.org/doc/scipy/reference/spatial.distance.html\n",
        "\n"
      ]
    },
    {
      "cell_type": "code",
      "metadata": {
        "colab": {
          "base_uri": "https://localhost:8080/"
        },
        "id": "hvLpA7_QK0L5",
        "outputId": "693da407-f582-4f14-df77-c0d0026ef854"
      },
      "source": [
        "from scipy.spatial import distance\n",
        " \n",
        "vetorA = [1.1, 2.3, 3.5, 4.6]\n",
        "vetorB = [1.1, 2.3, 4.6, 5.1]\n",
        " \n",
        "# Calcula a distância\n",
        "distancia = distance.cityblock(vetorA,vetorB)\n",
        "\n",
        "print(\"vetorA:\" + str(vetorA))\n",
        "print(\"vetorB:\" + str(vetorB))\n",
        "\n",
        "print(\"distância:\", distancia)"
      ],
      "execution_count": 39,
      "outputs": [
        {
          "output_type": "stream",
          "name": "stdout",
          "text": [
            "vetorA:[1.1, 2.3, 3.5, 4.6]\n",
            "vetorB:[1.1, 2.3, 4.6, 5.1]\n",
            "distância: 1.5999999999999996\n"
          ]
        }
      ]
    },
    {
      "cell_type": "markdown",
      "metadata": {
        "id": "YyA5c12bYs_K"
      },
      "source": [
        "Distância de manhattan generalizado por Minkowski ou Norma L1"
      ]
    },
    {
      "cell_type": "code",
      "metadata": {
        "colab": {
          "base_uri": "https://localhost:8080/"
        },
        "id": "eruvsitlYbLy",
        "outputId": "88fff811-9aac-4a47-c013-628d9299ecea"
      },
      "source": [
        "from scipy.spatial import distance\n",
        " \n",
        "vetorA = [1.1, 2.3, 3.5, 4.6]\n",
        "vetorB = [1.1, 2.3, 4.6, 5.1]\n",
        " \n",
        "# Calcula a distância\n",
        "distancia = distance.minkowski(vetorA,vetorB,2)\n",
        "\n",
        "print(\"vetorA:\" + str(vetorA))\n",
        "print(\"vetorB:\" + str(vetorB))\n",
        "\n",
        "print(\"distância:\", distancia)"
      ],
      "execution_count": 40,
      "outputs": [
        {
          "output_type": "stream",
          "name": "stdout",
          "text": [
            "vetorA:[1.1, 2.3, 3.5, 4.6]\n",
            "vetorB:[1.1, 2.3, 4.6, 5.1]\n",
            "distância: 1.2083045973594568\n"
          ]
        }
      ]
    },
    {
      "cell_type": "markdown",
      "metadata": {
        "id": "xKzcizXELUwk"
      },
      "source": [
        "## Distância Hamming\n",
        "\n",
        "Mede o quanto dois vetores são diferentes(mais dissimilares). \n",
        "Quanto mais diferentes, maior o valor.\n",
        "Geralmente valor pertence ao intervalo [0, 1].\n",
        "\n",
        "Se igual a 0 os vetores são iguais."
      ]
    },
    {
      "cell_type": "markdown",
      "metadata": {
        "id": "YFPnmbiRMtvu"
      },
      "source": [
        "### Manualmente"
      ]
    },
    {
      "cell_type": "code",
      "metadata": {
        "colab": {
          "base_uri": "https://localhost:8080/"
        },
        "id": "s4ffG_LNLU5E",
        "outputId": "b09ff1a2-a833-4146-b45d-f63ef2971964"
      },
      "source": [
        "def hamming_distance(a, b):\n",
        "\treturn sum(abs(e1 - e2) for e1, e2 in zip(a, b)) / len(a)\n",
        " \n",
        "vetorA = [1.1, 2.3, 3.5, 4.6]\n",
        "vetorB = [1.1, 2.3, 4.6, 5.1]\n",
        "\n",
        "# Calcula a distância\n",
        "distancia = hamming_distance(vetorA, vetorB)\n",
        "\n",
        "print(\"vetorA:\" + str(vetorA))\n",
        "print(\"vetorB:\" + str(vetorB))\n",
        "\n",
        "print(\"distância:\", distancia)"
      ],
      "execution_count": 41,
      "outputs": [
        {
          "output_type": "stream",
          "name": "stdout",
          "text": [
            "vetorA:[1.1, 2.3, 3.5, 4.6]\n",
            "vetorB:[1.1, 2.3, 4.6, 5.1]\n",
            "distância: 0.3999999999999999\n"
          ]
        }
      ]
    },
    {
      "cell_type": "markdown",
      "metadata": {
        "id": "uImG8l1TONhs"
      },
      "source": [
        "### Exemplo usando scipy\n",
        "\n",
        "https://docs.scipy.org/doc/scipy/reference/spatial.distance.html\n"
      ]
    },
    {
      "cell_type": "code",
      "metadata": {
        "colab": {
          "base_uri": "https://localhost:8080/"
        },
        "id": "0kLG-aLcONh2",
        "outputId": "5fa0b119-193f-4c5c-8c0a-6522d4bcd6de"
      },
      "source": [
        "from scipy.spatial import distance\n",
        " \n",
        "vetorA = [1.1, 2.3, 3.5, 4.6]\n",
        "vetorB = [1.1, 2.3, 4.6, 5.1]\n",
        " \n",
        "# Calcula a distância\n",
        "distancia = distance.hamming(vetorA,vetorB)\n",
        "\n",
        "print(\"vetorA:\" + str(vetorA))\n",
        "print(\"vetorB:\" + str(vetorB))\n",
        "\n",
        "print(\"distância:\", distancia)"
      ],
      "execution_count": 42,
      "outputs": [
        {
          "output_type": "stream",
          "name": "stdout",
          "text": [
            "vetorA:[1.1, 2.3, 3.5, 4.6]\n",
            "vetorB:[1.1, 2.3, 4.6, 5.1]\n",
            "distância: 0.5\n"
          ]
        }
      ]
    },
    {
      "cell_type": "markdown",
      "metadata": {
        "id": "SilYGCPcLoqN"
      },
      "source": [
        "## Distância Minkowski\n",
        "\n",
        "Mede o quanto dois vetores são diferentes(mais dissimilares). \n",
        "Quanto mais diferentes, maior o valor.\n",
        "Geralmente valor pertence ao intervalo [0, 1].\n",
        "\n",
        "Se igual a 0 os vetores são iguais."
      ]
    },
    {
      "cell_type": "markdown",
      "metadata": {
        "id": "xYqgpkIQMrn-"
      },
      "source": [
        "### Manualmente"
      ]
    },
    {
      "cell_type": "code",
      "metadata": {
        "colab": {
          "base_uri": "https://localhost:8080/"
        },
        "id": "Oxc6RzEjLoz0",
        "outputId": "06af14a8-4e58-4fa4-a500-6561de679941"
      },
      "source": [
        "from math import*\n",
        "from decimal import Decimal\n",
        " \n",
        "def nth_root(value, n_root): \n",
        "    root_value = 1/float(n_root)\n",
        "    return round (Decimal(value) ** Decimal(root_value),16)\n",
        " \n",
        "def minkowski_distance(x,y,p_value): \n",
        "    return nth_root(sum(pow(abs(a-b),p_value) for a,b in zip(x, y)),p_value)\n",
        " \n",
        "vetorA = [1.1, 2.3, 3.5, 4.6]\n",
        "vetorB = [1.1, 2.3, 4.6, 5.1]\n",
        "\n",
        "# Calcula a distância\n",
        "distancia = minkowski_distance(vetorA,vetorB,3)\n",
        "\n",
        "print(\"vetorA:\" + str(vetorA))\n",
        "print(\"vetorB:\" + str(vetorB))\n",
        "\n",
        "print(\"distância:\", distancia)"
      ],
      "execution_count": 43,
      "outputs": [
        {
          "output_type": "stream",
          "name": "stdout",
          "text": [
            "vetorA:[1.1, 2.3, 3.5, 4.6]\n",
            "vetorB:[1.1, 2.3, 4.6, 5.1]\n",
            "distância: 1.1334102216194124\n"
          ]
        }
      ]
    },
    {
      "cell_type": "markdown",
      "metadata": {
        "id": "-W0rvBqXOlqT"
      },
      "source": [
        "### Exemplo usando scipy\n",
        "\n",
        "https://docs.scipy.org/doc/scipy/reference/spatial.distance.html\n"
      ]
    },
    {
      "cell_type": "code",
      "metadata": {
        "colab": {
          "base_uri": "https://localhost:8080/"
        },
        "id": "oKQ-9STUOlqT",
        "outputId": "52faa09a-19fb-4b27-ffae-5cc91496a05a"
      },
      "source": [
        "from scipy.spatial import distance\n",
        " \n",
        "vetorA = [1.1, 2.3, 3.5, 4.6]\n",
        "vetorB = [1.1, 2.3, 4.6, 5.1]\n",
        " \n",
        "# Calcula a distância\n",
        "distancia = distance.minkowski(vetorA,vetorB,3)\n",
        "\n",
        "print(\"vetorA:\" + str(vetorA))\n",
        "print(\"vetorB:\" + str(vetorB))\n",
        "\n",
        "print(\"distância:\", distancia)"
      ],
      "execution_count": 44,
      "outputs": [
        {
          "output_type": "stream",
          "name": "stdout",
          "text": [
            "vetorA:[1.1, 2.3, 3.5, 4.6]\n",
            "vetorB:[1.1, 2.3, 4.6, 5.1]\n",
            "distância: 1.1334102216194124\n"
          ]
        }
      ]
    },
    {
      "cell_type": "markdown",
      "metadata": {
        "id": "K4n35zaL3Phj"
      },
      "source": [
        "# Não é medida\n",
        "\n"
      ]
    },
    {
      "cell_type": "markdown",
      "metadata": {
        "id": "qmcvYiycVMsw"
      },
      "source": [
        "## Subtração"
      ]
    },
    {
      "cell_type": "code",
      "metadata": {
        "colab": {
          "base_uri": "https://localhost:8080/"
        },
        "id": "71Ow9p_x3Pqj",
        "outputId": "80224fab-6aa4-4d1c-adb2-360eb41df496"
      },
      "source": [
        "import math\n",
        " \n",
        "vetorA = [-1.1, 2.3, 3.5, -4.6]\n",
        "vetorB = [1.1, -2.3, 4.6, 5.1]\n",
        "#vetorB = vetorB\n",
        "\n",
        "def subtracao(x,y):\n",
        "    soma = 0\n",
        "    for a,b in zip(x,y):\n",
        "        soma = soma + a-b\n",
        "    return soma\n",
        "\n",
        "# Calcula a distância \n",
        "distancia1 =  subtracao(vetorA,vetorB)\n",
        "\n",
        "print(\"vetorA:\" + str(vetorA))\n",
        "print(\"vetorB:\" + str(vetorB))\n",
        "\n",
        "print(\"distância1:\", distancia1)\n",
        "\n",
        "# Calcula a distância \n",
        "distancia2 =  subtracao(vetorB,vetorA)\n",
        "\n",
        "print(\"distância2:\", distancia2)"
      ],
      "execution_count": 45,
      "outputs": [
        {
          "output_type": "stream",
          "name": "stdout",
          "text": [
            "vetorA:[-1.1, 2.3, 3.5, -4.6]\n",
            "vetorB:[1.1, -2.3, 4.6, 5.1]\n",
            "distância1: -8.399999999999999\n",
            "distância2: 8.399999999999999\n"
          ]
        }
      ]
    },
    {
      "cell_type": "markdown",
      "metadata": {
        "id": "gyMZycSkVPX9"
      },
      "source": [
        "## Produto"
      ]
    },
    {
      "cell_type": "code",
      "metadata": {
        "colab": {
          "base_uri": "https://localhost:8080/"
        },
        "id": "KGGgu2v9VPX-",
        "outputId": "9089913a-529b-4d6e-cf53-dad23161efe4"
      },
      "source": [
        "import math\n",
        " \n",
        "vetorA = [-1.1, 2.3, 3.5, -4.6]\n",
        "vetorB = [1.1, -2.3, 4.6, 5.1]\n",
        "#vetorB = vetorA\n",
        "\n",
        "def produto(x,y):\n",
        "    soma = 0\n",
        "    for a,b in zip(x,y):\n",
        "        soma = soma + (a* b)\n",
        "    return soma\n",
        "\n",
        "# Calcula a distância \n",
        "distancia1 =  produto(vetorA,vetorB)\n",
        "\n",
        "print(\"vetorA:\" + str(vetorA))\n",
        "print(\"vetorB:\" + str(vetorB))\n",
        "\n",
        "print(\"distância1:\", distancia1)\n",
        "\n",
        "# Calcula a distância \n",
        "distancia2 =  produto(vetorB,vetorA)\n",
        "\n",
        "print(\"distância2:\", distancia2)"
      ],
      "execution_count": 46,
      "outputs": [
        {
          "output_type": "stream",
          "name": "stdout",
          "text": [
            "vetorA:[-1.1, 2.3, 3.5, -4.6]\n",
            "vetorB:[1.1, -2.3, 4.6, 5.1]\n",
            "distância1: -13.86\n",
            "distância2: -13.86\n"
          ]
        }
      ]
    },
    {
      "cell_type": "markdown",
      "metadata": {
        "id": "xM4_UxZRVXPi"
      },
      "source": [
        "## Produto Absoluto"
      ]
    },
    {
      "cell_type": "code",
      "metadata": {
        "colab": {
          "base_uri": "https://localhost:8080/"
        },
        "id": "HWkWtn3QVXPj",
        "outputId": "4d6277ad-de9d-4011-e94f-944bc5b777c0"
      },
      "source": [
        "import math\n",
        " \n",
        "vetorA = [-1.1, 2.3, 3.5, -4.6]\n",
        "vetorB = [1.1, -2.3, 4.6, 5.1]\n",
        "#vetorB = vetorA\n",
        "\n",
        "def produtoabs(x,y):\n",
        "    soma = 0\n",
        "    for a,b in zip(x,y):\n",
        "        soma = soma + abs(a* b)\n",
        "    return soma\n",
        "\n",
        "# Calcula a distância \n",
        "distancia1 =  produtoabs(vetorA,vetorB)\n",
        "\n",
        "print(\"vetorA:\" + str(vetorA))\n",
        "print(\"vetorB:\" + str(vetorB))\n",
        "\n",
        "print(\"distância1:\", distancia1)\n",
        "\n",
        "# Calcula a distância \n",
        "distancia2 =  produtoabs(vetorB,vetorA)\n",
        "\n",
        "print(\"distância2:\", distancia2)"
      ],
      "execution_count": 47,
      "outputs": [
        {
          "output_type": "stream",
          "name": "stdout",
          "text": [
            "vetorA:[-1.1, 2.3, 3.5, -4.6]\n",
            "vetorB:[1.1, -2.3, 4.6, 5.1]\n",
            "distância1: 46.059999999999995\n",
            "distância2: 46.059999999999995\n"
          ]
        }
      ]
    }
  ]
}