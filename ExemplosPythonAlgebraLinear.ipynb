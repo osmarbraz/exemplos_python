{
  "nbformat": 4,
  "nbformat_minor": 0,
  "metadata": {
    "colab": {
      "name": "ExemplosPythonAlgebraLinear.ipynb",
      "provenance": [],
      "collapsed_sections": [],
      "toc_visible": true,
      "include_colab_link": true
    },
    "kernelspec": {
      "name": "python3",
      "display_name": "Python 3"
    }
  },
  "cells": [
    {
      "cell_type": "markdown",
      "metadata": {
        "id": "view-in-github",
        "colab_type": "text"
      },
      "source": [
        "<a href=\"https://colab.research.google.com/github/osmarbraz/exemplos_python/blob/master/ExemplosPythonAlgebraLinear.ipynb\" target=\"_parent\"><img src=\"https://colab.research.google.com/assets/colab-badge.svg\" alt=\"Open In Colab\"/></a>"
      ]
    },
    {
      "cell_type": "markdown",
      "metadata": {
        "id": "xY84ChCNzmQQ"
      },
      "source": [
        "# Exemplos Vetores, Matrizes e Álgebra Linear em Python no Google Colaboratory\n",
        "\n",
        "Álgebra linear é um ramo da matemática que surgiu do estudo detalhado de sistemas de equações lineares, sejam elas algébricas ou diferenciais. A álgebra linear utiliza alguns conceitos e estruturas fundamentais da matemática como vetores, espaços vetoriais, transformações lineares, sistemas de equações lineares e matrizes.\n",
        "\n",
        "Exemplos:\n",
        "- Vetor padrão;\n",
        "- Matriz padrão;\n",
        "\n",
        "-----------------------------------------\n",
        "**Guia Colab Iniciante:**\n",
        "\n",
        "https://medium.com/machina-sapiens/google-colab-guia-do-iniciante-334d70aad531\n",
        "\n",
        "**Documentação oficial:**\n",
        "\n",
        "https://colab.research.google.com/github/jakevdp/PythonDataScienceHandbook/blob/master/notebooks/01.01-Help-And-Documentation.ipynb\n",
        "\n",
        "**Características :**\n",
        "\n",
        "https://colab.research.google.com/notebooks/basic_features_overview.ipynb"
      ]
    },
    {
      "cell_type": "markdown",
      "metadata": {
        "id": "kgOIbiH4rUJN"
      },
      "source": [
        "# Vetor Padrão(list)"
      ]
    },
    {
      "cell_type": "markdown",
      "metadata": {
        "id": "2Z9DwoEkfwWv"
      },
      "source": [
        "Inicialização vetor"
      ]
    },
    {
      "cell_type": "code",
      "metadata": {
        "id": "qN4-4Ui5gMkD",
        "outputId": "ea10dd6b-6317-4da8-f62e-faa824b9221f",
        "colab": {
          "base_uri": "https://localhost:8080/"
        }
      },
      "source": [
        "# Declara um vetor\n",
        "A = [1,2,3]\n",
        "\n",
        "# Mostra o vetor\n",
        "print(A)"
      ],
      "execution_count": 1,
      "outputs": [
        {
          "output_type": "stream",
          "text": [
            "[1, 2, 3]\n"
          ],
          "name": "stdout"
        }
      ]
    },
    {
      "cell_type": "markdown",
      "metadata": {
        "id": "jIyN9queGP1O"
      },
      "source": [
        "Declarando e inicializando um vetor com uma constante"
      ]
    },
    {
      "cell_type": "code",
      "metadata": {
        "id": "3DiQIAj7GTFh",
        "outputId": "6764492d-52d7-4faf-8d3f-12d53dfcd2da",
        "colab": {
          "base_uri": "https://localhost:8080/"
        }
      },
      "source": [
        "# Gera um vetor de 10 posições com o valor 1\n",
        "A = [1] * 10\n",
        "\n",
        "# Mostra o tamanho do vetor\n",
        "print(len(A))\n",
        "\n",
        "# Mostra o vetor\n",
        "print(A)"
      ],
      "execution_count": 2,
      "outputs": [
        {
          "output_type": "stream",
          "text": [
            "10\n",
            "[1, 1, 1, 1, 1, 1, 1, 1, 1, 1]\n"
          ],
          "name": "stdout"
        }
      ]
    },
    {
      "cell_type": "markdown",
      "metadata": {
        "id": "UcJPJi63f3i7"
      },
      "source": [
        "Mutiplicando vetor por constante"
      ]
    },
    {
      "cell_type": "code",
      "metadata": {
        "id": "akMlhWM6cVTj",
        "outputId": "8a0f1367-843e-435b-e0dc-d1dfe1b7e378",
        "colab": {
          "base_uri": "https://localhost:8080/"
        }
      },
      "source": [
        "# Declara um vetor\n",
        "A = [1, 2]\n",
        "\n",
        "# Mutilica o vetor A por 3 e cria o vetor B\n",
        "B = A *  3\n",
        "\n",
        "# Mostra o vetor A\n",
        "print(A)\n",
        "print('A * 3 = ' + str(B))"
      ],
      "execution_count": 3,
      "outputs": [
        {
          "output_type": "stream",
          "text": [
            "[1, 2]\n",
            "A * 3 = [1, 2, 1, 2, 1, 2]\n"
          ],
          "name": "stdout"
        }
      ]
    },
    {
      "cell_type": "markdown",
      "metadata": {
        "id": "NmMnkrB_gnsb"
      },
      "source": [
        "Mutiplicando elementos do vetor por constante"
      ]
    },
    {
      "cell_type": "code",
      "metadata": {
        "id": "0wDYognJcHGu",
        "outputId": "c52f6241-64f0-4f3f-ec76-3e5cab05102b",
        "colab": {
          "base_uri": "https://localhost:8080/"
        }
      },
      "source": [
        "# Declara um vetor\n",
        "A = [1, 2]\n",
        "\n",
        "# Multiplica cada elemento da matriz A por 3\n",
        "B = [i * 3.0 for i in A]\n",
        "\n",
        "# Mostra a matriz\n",
        "print(A)\n",
        "print('A * 3 = ' + str(B))"
      ],
      "execution_count": 4,
      "outputs": [
        {
          "output_type": "stream",
          "text": [
            "[1, 2]\n",
            "A * 3 = [3.0, 6.0]\n"
          ],
          "name": "stdout"
        }
      ]
    },
    {
      "cell_type": "markdown",
      "metadata": {
        "id": "OFpN7AeXt_88"
      },
      "source": [
        "# Matriz Padrão(list de list)"
      ]
    },
    {
      "cell_type": "markdown",
      "metadata": {
        "id": "K2cG6rK1fztl"
      },
      "source": [
        "Inicialização matriz"
      ]
    },
    {
      "cell_type": "code",
      "metadata": {
        "id": "-xau9q9mgESC",
        "outputId": "938c241b-26b9-4779-d463-068b5ead1189",
        "colab": {
          "base_uri": "https://localhost:8080/"
        }
      },
      "source": [
        "# Declara uma matriz\n",
        "A = [\n",
        "      [1,2,3],\n",
        "      [4,5,6],\n",
        "      [7,8,9]\n",
        "    ]\n",
        "\n",
        "# Mostra a matriz\n",
        "print(A)\n",
        "# ou\n",
        "print(A[:])"
      ],
      "execution_count": 5,
      "outputs": [
        {
          "output_type": "stream",
          "text": [
            "[[1, 2, 3], [4, 5, 6], [7, 8, 9]]\n",
            "[[1, 2, 3], [4, 5, 6], [7, 8, 9]]\n"
          ],
          "name": "stdout"
        }
      ]
    },
    {
      "cell_type": "markdown",
      "metadata": {
        "id": "HiGqlWXagg36"
      },
      "source": [
        "Mutiplicando matriz por constante"
      ]
    },
    {
      "cell_type": "code",
      "metadata": {
        "id": "JmEZuzfmh3RT",
        "outputId": "10eeb8cf-d3c6-47d5-bfeb-b1b88bb17ca5",
        "colab": {
          "base_uri": "https://localhost:8080/"
        }
      },
      "source": [
        "# Declara uma matriz\n",
        "A = [\n",
        "      [1, 2],\n",
        "      [3, 4]\n",
        "    ]\n",
        "\n",
        "# Multiplica a matriz A por 3 e cria a matriz B\n",
        "B = A * 3\n",
        "\n",
        "# Mostra a matriz A\n",
        "print(A)\n",
        "print('A * 3 = ' + str(B))"
      ],
      "execution_count": 6,
      "outputs": [
        {
          "output_type": "stream",
          "text": [
            "[[1, 2], [3, 4]]\n",
            "A * 3 = [[1, 2], [3, 4], [1, 2], [3, 4], [1, 2], [3, 4]]\n"
          ],
          "name": "stdout"
        }
      ]
    },
    {
      "cell_type": "markdown",
      "metadata": {
        "id": "PeMG7XdzJUze"
      },
      "source": [
        "Acessando elementos da matriz"
      ]
    },
    {
      "cell_type": "code",
      "metadata": {
        "id": "5O1ro8KTJVBF",
        "outputId": "cfcfa8ea-c08c-41e0-d6ed-d47d29defe59",
        "colab": {
          "base_uri": "https://localhost:8080/"
        }
      },
      "source": [
        "# Declara uma matriz\n",
        "A = [\n",
        "      [1, 2],\n",
        "      [3, 4]\n",
        "    ]\n",
        "\n",
        "print(\">>> Matriz\")\n",
        "# Mostrando toda a matriz\n",
        "print(A) #imprime a matriz, sem especificar um intervalo\n",
        "#ou\n",
        "print(A[:]) #imprime a matriz, sem especificar um intervalo\n",
        "#ou\n",
        "print(A[::])#imprime a matriz, sem especificar um intervalo\n",
        "#ou\n",
        "print(A[0:2]) #imprime a matriz, especificando um intervalo\n",
        "\n",
        "# Mostrando linhas da matriz\n",
        "print(\">>> Linha 0\")\n",
        "print(A[0]) #imprime a linha 0, sem especificar um intervalo\n",
        "#ou\n",
        "print(A[0][:]) #imprime a linha 0, sem especificar o intervalo\n",
        "#ou\n",
        "print(A[0][0:2]) #imprime a linha 0, especificando um intervalo de 0 a 2\n",
        "\n",
        "# Mostrando colunas da matriz\n",
        "print(\">>> Coluna 0\")\n",
        "print([A[0][0],A[1][0]]) #imprime a coluna 0, especificando os elementos\n",
        "\n",
        "print(\">>> Elemento\")\n",
        "# Mostrando um elemento específico da matriz\n",
        "print(A[0][0]) #imprime coluna 0 linha 0\n",
        "print(A[0][1]) #imprime coluna 0 linha 1"
      ],
      "execution_count": 7,
      "outputs": [
        {
          "output_type": "stream",
          "text": [
            ">>> Matriz\n",
            "[[1, 2], [3, 4]]\n",
            "[[1, 2], [3, 4]]\n",
            "[[1, 2], [3, 4]]\n",
            "[[1, 2], [3, 4]]\n",
            ">>> Linha 0\n",
            "[1, 2]\n",
            "[1, 2]\n",
            "[1, 2]\n",
            ">>> Coluna 0\n",
            "[1, 3]\n",
            ">>> Elemento\n",
            "1\n",
            "2\n"
          ],
          "name": "stdout"
        }
      ]
    },
    {
      "cell_type": "markdown",
      "metadata": {
        "id": "oCAX2rS8Jrkp"
      },
      "source": [
        "Lista de matriz"
      ]
    },
    {
      "cell_type": "code",
      "metadata": {
        "id": "9QDG4hPKJuOR",
        "outputId": "d6636b84-c45d-4274-8c63-ea8980acd272",
        "colab": {
          "base_uri": "https://localhost:8080/"
        }
      },
      "source": [
        "# Declara uma matriz\n",
        "A = [\n",
        "      [\n",
        "        [1, 2],\n",
        "        [3, 4]\n",
        "      ],\n",
        "      [\n",
        "        [5, 6],\n",
        "        [7, 8]\n",
        "      ]\n",
        "    ]\n",
        "\n",
        "#imprime toda a lista de matriz\n",
        "print(\">>> Lista de matrizes\")\n",
        "print(A)\n",
        "print(A[:])\n",
        "print(A[::])\n",
        "print(A[:][:])\n",
        "print(A[0:2])\n",
        "print(A[0:2][0:2])\n",
        "\n",
        "#imprime matriz da posição 0 da lista \n",
        "print(\">>> Matriz\")\n",
        "print(A[0])\n",
        "print(A[0][:])\n",
        "print(A[0][0:2])\n",
        "\n",
        "# Mostrado a linha 0 da matriz da posição 0 da lista \n",
        "print(\">>> Linha\")\n",
        "print(A[0][0])\n",
        "print(A[0][:][0])\n",
        "print(A[0][0:2][0])\n",
        "print(A[0][0][:])\n",
        "\n",
        "# Mostrado a coluna 0 da matriz da posição 0 da lista \n",
        "print(\">>> Coluna\")\n",
        "print([A[0][0][0],A[0][1][0]]) #imprime a coluna 0, especificando os elementos\n",
        "\n",
        "# Mostra o elemento da linha 0 da coluna0 da linha 0 da matriz 0 da posição 0 da lista \n",
        "print(\">>> Elemento\")\n",
        "print(A[0][0][0])\n",
        "print(A[0][0][:][0])\n",
        "print(A[0][:][0][0])\n",
        "print(A[0][0:1][0][0])\n",
        "print(A[0][:][:][0][0])"
      ],
      "execution_count": 8,
      "outputs": [
        {
          "output_type": "stream",
          "text": [
            ">>> Lista de matrizes\n",
            "[[[1, 2], [3, 4]], [[5, 6], [7, 8]]]\n",
            "[[[1, 2], [3, 4]], [[5, 6], [7, 8]]]\n",
            "[[[1, 2], [3, 4]], [[5, 6], [7, 8]]]\n",
            "[[[1, 2], [3, 4]], [[5, 6], [7, 8]]]\n",
            "[[[1, 2], [3, 4]], [[5, 6], [7, 8]]]\n",
            "[[[1, 2], [3, 4]], [[5, 6], [7, 8]]]\n",
            ">>> Matriz\n",
            "[[1, 2], [3, 4]]\n",
            "[[1, 2], [3, 4]]\n",
            "[[1, 2], [3, 4]]\n",
            ">>> Linha\n",
            "[1, 2]\n",
            "[1, 2]\n",
            "[1, 2]\n",
            "[1, 2]\n",
            ">>> Coluna\n",
            "[1, 3]\n",
            ">>> Elemento\n",
            "1\n",
            "1\n",
            "1\n",
            "1\n",
            "1\n"
          ],
          "name": "stdout"
        }
      ]
    },
    {
      "cell_type": "markdown",
      "metadata": {
        "id": "zXDQGndfKU2P"
      },
      "source": [
        "Lista de Lista de matriz"
      ]
    },
    {
      "cell_type": "code",
      "metadata": {
        "id": "vTGN4MP6KU2Q",
        "outputId": "2315534e-51ad-4357-abff-d5267ca44f9c",
        "colab": {
          "base_uri": "https://localhost:8080/"
        }
      },
      "source": [
        "# Declara uma matriz\n",
        "A = [\n",
        "      [\n",
        "        [\n",
        "          [11, 12],\n",
        "          [13, 14]\n",
        "        ],\n",
        "        [\n",
        "          [21, 22],\n",
        "          [23, 24]],\n",
        "        [\n",
        "          [31, 32],\n",
        "          [33, 34]\n",
        "        ]\n",
        "      ],\n",
        "      [\n",
        "        [\n",
        "          [41, 42],\n",
        "          [43, 44]\n",
        "        ],\n",
        "        [\n",
        "          [51, 52],\n",
        "          [53, 54]\n",
        "        ],\n",
        "        [\n",
        "          [61, 62],\n",
        "          [63, 64]\n",
        "        ]\n",
        "      ]\n",
        "    ]\n",
        "\n",
        "print(\">>> Lista de lista de matriz\")\n",
        "print(A) #Imprime toda a matriz\n",
        "print(A[:]) #Imprime toda das dimensões da matriz\n",
        "print(A[::]) #Imprime toda das dimensões da matriz\n",
        "print(A[:][:]) #Imprime toda das dimensões da matriz\n",
        "print(A[:][:][:]) #Imprime toda das dimensões da matriz\n",
        "print(A[0:2]) #Imprime as dimensões 0 e 1 da matriz\n",
        "print(A[0:2][0:2]) #Imprime as dimensões de 0 e 1 de todas as dimensões\n",
        "print(A[0:2][0:2][0:2]) #Imprime as dimensões de 0 e 1 de todas as dimensões\n",
        "\n",
        "print(\">>> Lista de matriz\")\n",
        "print(A[0]) #Imprime a lista de matrizes da posição 0 da lista\n",
        "print(A[0][:]) #Imprime a lista de todas as matrizes da posição 0 da lista\n",
        "print(A[0][:][:]) #Imprime a lista de todas as matrizes da posição 0 da lista\n",
        "print(A[0][::]) #Imprime a lista de todas as matrizes da posição 0 da lista\n",
        "print(A[0][::][::]) #Imprime a lista de todas as matrizes da posição 0 da lista\n",
        "\n",
        "print(\">>> Matriz\")\n",
        "print(A[0][0]) #Imprime a matriz 0 da lista 0\n",
        "print(A[0][0][::]) #Imprime todos os elementos a matriz 0 da lista 0\n",
        "print(A[0][0][0:2]) #Imprime os elementos de 0 a 1 da matriz 0 da lista 0\n",
        "\n",
        "# Mostrado a linha 0 da matriz da posição 0 da lista \n",
        "print(\">>> Linha\")\n",
        "print(A[0][0][0])\n",
        "print(A[0][0][:][0])\n",
        "print(A[0][0][0:2][0])\n",
        "print(A[0][0][0][:])\n",
        "\n",
        "# Mostrado a coluna 0 da matriz da posição 0 da lista \n",
        "print(\">>> Coluna\")\n",
        "print([A[0][0][0][0],A[0][0][1][0]]) #imprime a coluna 0, especificando os elementos\n",
        "\n",
        "# Mostra o elemento da linha 0 da coluna0 da linha 0 da matriz 0 da posição 0 da posição 0 da lista \n",
        "print(\">>> Elemento\")\n",
        "print(A[0][0][0][0]) #Imprime o elemento da coluna 0 linha 0 da matriz 0, da lista 0 da lista 0\n",
        "print(A[0][0][0][0]) #Imprime o elemento da coluna 0 linha 0 da matriz 0, da lista 0 da lista 1"
      ],
      "execution_count": 9,
      "outputs": [
        {
          "output_type": "stream",
          "text": [
            ">>> Lista de lista de matriz\n",
            "[[[[11, 12], [13, 14]], [[21, 22], [23, 24]], [[31, 32], [33, 34]]], [[[41, 42], [43, 44]], [[51, 52], [53, 54]], [[61, 62], [63, 64]]]]\n",
            "[[[[11, 12], [13, 14]], [[21, 22], [23, 24]], [[31, 32], [33, 34]]], [[[41, 42], [43, 44]], [[51, 52], [53, 54]], [[61, 62], [63, 64]]]]\n",
            "[[[[11, 12], [13, 14]], [[21, 22], [23, 24]], [[31, 32], [33, 34]]], [[[41, 42], [43, 44]], [[51, 52], [53, 54]], [[61, 62], [63, 64]]]]\n",
            "[[[[11, 12], [13, 14]], [[21, 22], [23, 24]], [[31, 32], [33, 34]]], [[[41, 42], [43, 44]], [[51, 52], [53, 54]], [[61, 62], [63, 64]]]]\n",
            "[[[[11, 12], [13, 14]], [[21, 22], [23, 24]], [[31, 32], [33, 34]]], [[[41, 42], [43, 44]], [[51, 52], [53, 54]], [[61, 62], [63, 64]]]]\n",
            "[[[[11, 12], [13, 14]], [[21, 22], [23, 24]], [[31, 32], [33, 34]]], [[[41, 42], [43, 44]], [[51, 52], [53, 54]], [[61, 62], [63, 64]]]]\n",
            "[[[[11, 12], [13, 14]], [[21, 22], [23, 24]], [[31, 32], [33, 34]]], [[[41, 42], [43, 44]], [[51, 52], [53, 54]], [[61, 62], [63, 64]]]]\n",
            "[[[[11, 12], [13, 14]], [[21, 22], [23, 24]], [[31, 32], [33, 34]]], [[[41, 42], [43, 44]], [[51, 52], [53, 54]], [[61, 62], [63, 64]]]]\n",
            ">>> Lista de matriz\n",
            "[[[11, 12], [13, 14]], [[21, 22], [23, 24]], [[31, 32], [33, 34]]]\n",
            "[[[11, 12], [13, 14]], [[21, 22], [23, 24]], [[31, 32], [33, 34]]]\n",
            "[[[11, 12], [13, 14]], [[21, 22], [23, 24]], [[31, 32], [33, 34]]]\n",
            "[[[11, 12], [13, 14]], [[21, 22], [23, 24]], [[31, 32], [33, 34]]]\n",
            "[[[11, 12], [13, 14]], [[21, 22], [23, 24]], [[31, 32], [33, 34]]]\n",
            ">>> Matriz\n",
            "[[11, 12], [13, 14]]\n",
            "[[11, 12], [13, 14]]\n",
            "[[11, 12], [13, 14]]\n",
            ">>> Linha\n",
            "[11, 12]\n",
            "[11, 12]\n",
            "[11, 12]\n",
            "[11, 12]\n",
            ">>> Coluna\n",
            "[11, 13]\n",
            ">>> Elemento\n",
            "11\n",
            "11\n"
          ],
          "name": "stdout"
        }
      ]
    },
    {
      "cell_type": "markdown",
      "metadata": {
        "id": "Dgb8PDzIgdDf"
      },
      "source": [
        "# Matriz com NumPy\n",
        "\n",
        "É um pacote para linguagem Python que possibilita realizar diversas operação com vetores e matrizes de forma rápida e eficiente.\n",
        "\n",
        "http://www.estruturas.ufpr.br/disciplinas/pos-graduacao/introducao-a-computacao-cientifica-com-python/introducao-python/2-2-operacoes-numericas-com-arrays/"
      ]
    },
    {
      "cell_type": "markdown",
      "metadata": {
        "id": "pfNJKL7OuOd8"
      },
      "source": [
        "## Escalar\n",
        "\n",
        "São variáveis que aceitam apenas um valor específico, esse valor pode ser um número inteiro, real, natural ou complexo."
      ]
    },
    {
      "cell_type": "code",
      "metadata": {
        "id": "uxyU5Bs7uPur"
      },
      "source": [
        "#escalar que representa a tempetarura em graus Celsius\n",
        "Temperatura = 33 \n",
        "\n",
        "#escalar que representa a velocidade instantânea em m/s\n",
        "Velocidade = 100 \n",
        "\n",
        "#escalar que representa um valor monetário em R$ de um salário\n",
        "salario = 1500.00 "
      ],
      "execution_count": 10,
      "outputs": []
    },
    {
      "cell_type": "markdown",
      "metadata": {
        "id": "dhJchd6vug09"
      },
      "source": [
        "## Vetor\n",
        "\n",
        "Podem ser vistos como uma coleção de escalares, utilizados para representar dimensões mais elevadas."
      ]
    },
    {
      "cell_type": "markdown",
      "metadata": {
        "id": "dpcCiXJnpXy-"
      },
      "source": [
        "Declaração"
      ]
    },
    {
      "cell_type": "code",
      "metadata": {
        "id": "lMB3adY6umeD",
        "outputId": "9cc0d396-c943-49bd-9957-216d984bbabb",
        "colab": {
          "base_uri": "https://localhost:8080/"
        }
      },
      "source": [
        "# Biblioteca de álgebra linear(matrizes)\n",
        "import numpy as np\n",
        "\n",
        "# Vetor com duas dimensões\n",
        "VT = np.array([27, 37]) \n",
        "\n",
        "# Vetor com três dimensões\n",
        "VV = np.array([20, 15, 100]) \n",
        "\n",
        "# Vetor com quatro dimensões\n",
        "VM = np.array([100, 205, 777, 111]) \n",
        "\n",
        "type(VM)"
      ],
      "execution_count": 11,
      "outputs": [
        {
          "output_type": "execute_result",
          "data": {
            "text/plain": [
              "numpy.ndarray"
            ]
          },
          "metadata": {
            "tags": []
          },
          "execution_count": 11
        }
      ]
    },
    {
      "cell_type": "markdown",
      "metadata": {
        "id": "xs4QJSlBpcX4"
      },
      "source": [
        "Declaração e conversão com numpy"
      ]
    },
    {
      "cell_type": "code",
      "metadata": {
        "id": "N3op2mPcge4K",
        "outputId": "2b0d31dd-f581-42e4-f0ba-ec859131870d",
        "colab": {
          "base_uri": "https://localhost:8080/"
        }
      },
      "source": [
        "# Biblioteca de álgebra linear(matrizes)\n",
        "import numpy as np\n",
        "\n",
        "A = [[1,2],[3,4]]\n",
        "B = [[1],[2]]\n",
        "\n",
        "print (np.matrix(A))\n",
        "print\n",
        "print (np.matrix(B))"
      ],
      "execution_count": 12,
      "outputs": [
        {
          "output_type": "stream",
          "text": [
            "[[1 2]\n",
            " [3 4]]\n",
            "[[1]\n",
            " [2]]\n"
          ],
          "name": "stdout"
        }
      ]
    },
    {
      "cell_type": "markdown",
      "metadata": {
        "id": "UVIgdbh9kyXj"
      },
      "source": [
        "Somando elementos de 1 vetor."
      ]
    },
    {
      "cell_type": "code",
      "metadata": {
        "id": "d1N6C2q_jZW0",
        "outputId": "210f40bd-3334-4626-a4fb-48792eed11f3",
        "colab": {
          "base_uri": "https://localhost:8080/"
        }
      },
      "source": [
        "# Biblioteca de álgebra linear(matrizes)\n",
        "import numpy as np\n",
        "\n",
        "A = np.array([0, 1])\n",
        "\n",
        "B = np.sum(A)\n",
        "\n",
        "print(A)\n",
        "print(B)"
      ],
      "execution_count": 13,
      "outputs": [
        {
          "output_type": "stream",
          "text": [
            "[0 1]\n",
            "1\n"
          ],
          "name": "stdout"
        }
      ]
    },
    {
      "cell_type": "markdown",
      "metadata": {
        "id": "NzqQKxyH0nHe"
      },
      "source": [
        "## Operações com vetores e escalares"
      ]
    },
    {
      "cell_type": "markdown",
      "metadata": {
        "id": "9N4VK2Kp0x3X"
      },
      "source": [
        "Adição de escalar em um vetor"
      ]
    },
    {
      "cell_type": "code",
      "metadata": {
        "id": "knpT4sty04Mp",
        "outputId": "f7e811bc-6926-44a5-ef53-8e531f0eaa20",
        "colab": {
          "base_uri": "https://localhost:8080/"
        }
      },
      "source": [
        "# Biblioteca de álgebra linear(matrizes)\n",
        "import numpy as np\n",
        "\n",
        "A = np.array([10, 20, 30])\n",
        "\n",
        "print(A)\n",
        "\n",
        "# Adiciona o escalar 2 a cada elemento do vetor A gerando o vetor B\n",
        "B = A + 2\n",
        "\n",
        "print(np.matrix(B))"
      ],
      "execution_count": 14,
      "outputs": [
        {
          "output_type": "stream",
          "text": [
            "[10 20 30]\n",
            "[[12 22 32]]\n"
          ],
          "name": "stdout"
        }
      ]
    },
    {
      "cell_type": "markdown",
      "metadata": {
        "id": "qKEoaVjrkiWK"
      },
      "source": [
        "Multiplicação de vetores por escalar."
      ]
    },
    {
      "cell_type": "code",
      "metadata": {
        "id": "xJt7sbWRcc68",
        "outputId": "1a4465ec-67af-47b2-9b2c-ecf267e30b2d",
        "colab": {
          "base_uri": "https://localhost:8080/"
        }
      },
      "source": [
        "# Biblioteca de álgebra linear(matrizes)\n",
        "import numpy as np\n",
        "\n",
        "A = np.array([10, 20, 30])\n",
        "\n",
        "print(A)\n",
        "\n",
        "# Multiplica o escalar 3 a cada elemento do vetor A gerando o vetor B\n",
        "B = A *  3\n",
        "\n",
        "print(np.matrix(B))"
      ],
      "execution_count": 15,
      "outputs": [
        {
          "output_type": "stream",
          "text": [
            "[10 20 30]\n",
            "[[30 60 90]]\n"
          ],
          "name": "stdout"
        }
      ]
    },
    {
      "cell_type": "markdown",
      "metadata": {
        "id": "3jwDCsOu1PrA"
      },
      "source": [
        "## Operações entre vetores"
      ]
    },
    {
      "cell_type": "markdown",
      "metadata": {
        "id": "Sbn6A2J81zVX"
      },
      "source": [
        "Somando dois vetores"
      ]
    },
    {
      "cell_type": "code",
      "metadata": {
        "id": "WNb5xFpM1zq5",
        "outputId": "55567b20-b8c0-4d11-9c4e-27be11b346db",
        "colab": {
          "base_uri": "https://localhost:8080/"
        }
      },
      "source": [
        "# Biblioteca de álgebra linear(matrizes)\n",
        "import numpy as np\n",
        "\n",
        "A = np.array([1, 2, 3])\n",
        "B = np.array([3, 4, 5])\n",
        "\n",
        "# Soma o vetor A com o vetor B\n",
        "C = A + B\n",
        "\n",
        "print(C)"
      ],
      "execution_count": 16,
      "outputs": [
        {
          "output_type": "stream",
          "text": [
            "[4 6 8]\n"
          ],
          "name": "stdout"
        }
      ]
    },
    {
      "cell_type": "markdown",
      "metadata": {
        "id": "0-8lH_U-156Q"
      },
      "source": [
        "Produto de dois vetores"
      ]
    },
    {
      "cell_type": "code",
      "metadata": {
        "id": "H4caH9Gd1Siw",
        "outputId": "bf014ca7-1269-4fc1-9aaa-2c6830ef5bb8",
        "colab": {
          "base_uri": "https://localhost:8080/"
        }
      },
      "source": [
        "# Biblioteca de álgebra linear(matrizes)\n",
        "import numpy as np\n",
        "\n",
        "A = np.array([1, 2, 3])\n",
        "B = np.array([3, 4, 5])\n",
        "\n",
        "# Multiplica o vetor A pelo vetor B\n",
        "C= A * B\n",
        "\n",
        "print(C)"
      ],
      "execution_count": 17,
      "outputs": [
        {
          "output_type": "stream",
          "text": [
            "[ 3  8 15]\n"
          ],
          "name": "stdout"
        }
      ]
    },
    {
      "cell_type": "markdown",
      "metadata": {
        "id": "Isaq1YaSlMYq"
      },
      "source": [
        "Somando dois vetores."
      ]
    },
    {
      "cell_type": "code",
      "metadata": {
        "id": "fR6ZxVfUjfzg",
        "outputId": "3ab64255-681e-4688-cfad-efadd1fb15f0",
        "colab": {
          "base_uri": "https://localhost:8080/"
        }
      },
      "source": [
        "# Biblioteca de álgebra linear(matrizes)\n",
        "import numpy as np\n",
        "\n",
        "A = np.array([0,1])\n",
        "B = np.array([2,3]) \n",
        "\n",
        "C = np.sum(A + B)\n",
        "\n",
        "print(A)\n",
        "print(B)\n",
        "print(C)"
      ],
      "execution_count": 18,
      "outputs": [
        {
          "output_type": "stream",
          "text": [
            "[0 1]\n",
            "[2 3]\n",
            "6\n"
          ],
          "name": "stdout"
        }
      ]
    },
    {
      "cell_type": "markdown",
      "metadata": {
        "id": "uA2wjET9vHQF"
      },
      "source": [
        "## Matriz\n",
        "\n",
        "Permitem representar uma coleção de vetores. Os elementos das matrizes podem ser números reais, complexos, expressões algébricas ou funções. Chamamos de diagonal principal os elementos onde i=m.\n",
        "\n",
        "$$\n",
        "A = \\begin{bmatrix}\n",
        "a_{11} & a_{12} & a_{13} & \\cdots & a_{1n} \\\\\n",
        "a_{21} & a_{22} & a_{23} & \\cdots & a_{2n} \\\\\n",
        "a_{31} & a_{32} & a_{33} & \\cdots & a_{3n} \\\\\n",
        "\\vdots & \\vdots & \\vdots & \\ddots & \\vdots \\\\\n",
        "a_{m1} & a_{m2} & a_{m3} & \\cdots & a_{mn}\n",
        "\\end{bmatrix}\n",
        "$$\n"
      ]
    },
    {
      "cell_type": "markdown",
      "metadata": {
        "id": "xXRSc5zW0YHv"
      },
      "source": [
        "### Declaração de Matriz"
      ]
    },
    {
      "cell_type": "markdown",
      "metadata": {
        "id": "wimuQIz5v6SX"
      },
      "source": [
        "Declarando uma matriz 1\n"
      ]
    },
    {
      "cell_type": "code",
      "metadata": {
        "id": "WieIvtENv82M",
        "outputId": "215fcb7c-f6f6-46ec-f1ab-d18fa56ddf81",
        "colab": {
          "base_uri": "https://localhost:8080/"
        }
      },
      "source": [
        "# Biblioteca de álgebra linear(matrizes)\n",
        "import numpy as np\n",
        "\n",
        "A = np.array([[0,1],[2,3]])\n",
        "\n",
        "print(A)"
      ],
      "execution_count": 19,
      "outputs": [
        {
          "output_type": "stream",
          "text": [
            "[[0 1]\n",
            " [2 3]]\n"
          ],
          "name": "stdout"
        }
      ]
    },
    {
      "cell_type": "markdown",
      "metadata": {
        "id": "3l9Y9miXwF_R"
      },
      "source": [
        "Declarando uma matriz 2\n",
        "\n",
        "Outra forma de representar uma matriz seria através do método np.matrix().\n"
      ]
    },
    {
      "cell_type": "code",
      "metadata": {
        "id": "cwC8kyPVwF_T",
        "outputId": "96c86d25-f355-41ac-c68b-14ded4c59930",
        "colab": {
          "base_uri": "https://localhost:8080/"
        }
      },
      "source": [
        "# Biblioteca de álgebra linear(matrizes)\n",
        "import numpy as np\n",
        "\n",
        "A = np.matrix([[0,1],[2,3]])\n",
        "\n",
        "print(A)"
      ],
      "execution_count": 20,
      "outputs": [
        {
          "output_type": "stream",
          "text": [
            "[[0 1]\n",
            " [2 3]]\n"
          ],
          "name": "stdout"
        }
      ]
    },
    {
      "cell_type": "markdown",
      "metadata": {
        "id": "y7q3C_7UwSdT"
      },
      "source": [
        "Tipo da matriz"
      ]
    },
    {
      "cell_type": "code",
      "metadata": {
        "id": "bVfOpPt-wTp1",
        "outputId": "f33f86e6-12ca-4efc-e867-24a58b08bb73",
        "colab": {
          "base_uri": "https://localhost:8080/"
        }
      },
      "source": [
        "print(type(A))"
      ],
      "execution_count": 21,
      "outputs": [
        {
          "output_type": "stream",
          "text": [
            "<class 'numpy.matrix'>\n"
          ],
          "name": "stdout"
        }
      ]
    },
    {
      "cell_type": "markdown",
      "metadata": {
        "id": "7b-6lnwOBviV"
      },
      "source": [
        "### Manipulando a matriz"
      ]
    },
    {
      "cell_type": "markdown",
      "metadata": {
        "id": "8r2phIo4B5SV"
      },
      "source": [
        "acessando um elemento da matriz"
      ]
    },
    {
      "cell_type": "code",
      "metadata": {
        "id": "J3E54bgBBxit",
        "outputId": "685946c3-25f2-4bb5-934e-cb1feeae2fe5",
        "colab": {
          "base_uri": "https://localhost:8080/"
        }
      },
      "source": [
        "# Biblioteca de álgebra linear(matrizes)\n",
        "import numpy as np\n",
        "\n",
        "A = np.matrix([[0,1],[2,3]])\n",
        "\n",
        "a11 = A[0,0]\n",
        "\n",
        "print(a11)"
      ],
      "execution_count": 22,
      "outputs": [
        {
          "output_type": "stream",
          "text": [
            "0\n"
          ],
          "name": "stdout"
        }
      ]
    },
    {
      "cell_type": "markdown",
      "metadata": {
        "id": "RcxC8B-YB_9F"
      },
      "source": [
        "Retornando a primeira linha\n"
      ]
    },
    {
      "cell_type": "code",
      "metadata": {
        "id": "OKSygt0sCAdF",
        "outputId": "f14bd6ce-dbd5-40c4-9892-499a22a62f5d",
        "colab": {
          "base_uri": "https://localhost:8080/"
        }
      },
      "source": [
        "# Biblioteca de álgebra linear(matrizes)\n",
        "import numpy as np\n",
        "\n",
        "A = np.matrix([[0,1],[2,3]])\n",
        "\n",
        "A1n = A[0,:]\n",
        "\n",
        "print(A1n)"
      ],
      "execution_count": 23,
      "outputs": [
        {
          "output_type": "stream",
          "text": [
            "[[0 1]]\n"
          ],
          "name": "stdout"
        }
      ]
    },
    {
      "cell_type": "markdown",
      "metadata": {
        "id": "frdpiaJ-CC78"
      },
      "source": [
        " Retornando a segunda coluna"
      ]
    },
    {
      "cell_type": "code",
      "metadata": {
        "id": "-TWq4uylCDXZ",
        "outputId": "5c718bf2-b1aa-4ea5-a3f7-46112e9897ea",
        "colab": {
          "base_uri": "https://localhost:8080/"
        }
      },
      "source": [
        "# Biblioteca de álgebra linear(matrizes)\n",
        "import numpy as np\n",
        "\n",
        "A = np.matrix([[0,1],[2,3]])\n",
        "\n",
        "Am2 = A[:,1]\n",
        "\n",
        "print(Am2)"
      ],
      "execution_count": 24,
      "outputs": [
        {
          "output_type": "stream",
          "text": [
            "[[1]\n",
            " [3]]\n"
          ],
          "name": "stdout"
        }
      ]
    },
    {
      "cell_type": "markdown",
      "metadata": {
        "id": "3OS1hkyUwjHk"
      },
      "source": [
        "### Matriz quadrada\n",
        "\n",
        "Uma matriz é considerada quadrada quando o número de linhas for igual ao número de columas, ou seja, m=n."
      ]
    },
    {
      "cell_type": "code",
      "metadata": {
        "id": "i2DGQolXwkhN",
        "outputId": "652e8af0-423d-4dab-c819-bb53a978f395",
        "colab": {
          "base_uri": "https://localhost:8080/"
        }
      },
      "source": [
        "# Biblioteca de álgebra linear(matrizes)\n",
        "import numpy as np\n",
        "\n",
        "A = np.array([[0, 1], [2, 3]]) \n",
        "\n",
        "print(A)"
      ],
      "execution_count": 25,
      "outputs": [
        {
          "output_type": "stream",
          "text": [
            "[[0 1]\n",
            " [2 3]]\n"
          ],
          "name": "stdout"
        }
      ]
    },
    {
      "cell_type": "markdown",
      "metadata": {
        "id": "rLfYk8bKwuUT"
      },
      "source": [
        "### Matriz diagonal\n",
        "\n",
        "Uma matriz quadrada é considerada diagonal quando todos os elementos fora da diagonal principal forem nulos, ou seja, ij = 0 para todo i!=j.\n",
        "Podemos representar uma matriz diagonal em python utilizando o método diag()."
      ]
    },
    {
      "cell_type": "code",
      "metadata": {
        "id": "x9WA_T8Qwy8_",
        "outputId": "01d7d08d-8f9d-4563-f534-1e1e33820f3c",
        "colab": {
          "base_uri": "https://localhost:8080/"
        }
      },
      "source": [
        "# Biblioteca de álgebra linear(matrizes)\n",
        "import numpy as np\n",
        "\n",
        "A = np.diag([10, 20, 30, 40, 50])\n",
        "\n",
        "print(A)"
      ],
      "execution_count": 26,
      "outputs": [
        {
          "output_type": "stream",
          "text": [
            "[[10  0  0  0  0]\n",
            " [ 0 20  0  0  0]\n",
            " [ 0  0 30  0  0]\n",
            " [ 0  0  0 40  0]\n",
            " [ 0  0  0  0 50]]\n"
          ],
          "name": "stdout"
        }
      ]
    },
    {
      "cell_type": "markdown",
      "metadata": {
        "id": "ch-E2vgMxAV1"
      },
      "source": [
        "### Matriz triangular(superior e inferior)\n",
        "\n",
        "Uma matriz é considerada **triangular superior** se amn = 0 quando m > n, ou seja, quandos os elementos abaixo da diagonal principal forem iguais a zero.\n",
        "\n",
        "$$\n",
        "A = \\begin{bmatrix}\n",
        "a_{11} & a_{12} & a_{13} & a_{14}  & \\cdots & a_{1n} \\\\\n",
        "0 & a_{22} & a_{23} & a_{24} & \\cdots & a_{2n} \\\\\n",
        "0 & 0 & a_{33} & a_{34} & \\cdots & a_{3n} \\\\\n",
        "0 & 0 & 0 & a_{44} &\\cdots & a_{4n} \\\\\n",
        "\\vdots & \\vdots &a \\vdots & \\vdots & \\ddots & \\vdots \\\\\n",
        "0 & 0 & 0 & 0 & \\cdots & a_{nn}\n",
        "\\end{bmatrix}\n",
        "$$\n",
        "\n",
        "\n",
        "ma matriz é considerada **triangular inferior** se amn = 0 quando m < n, ou seja, quandos os elementos acima da diagonal principal forem iguais a zero.\n",
        "\n",
        "$$\n",
        "A = \\begin{bmatrix}\n",
        "a_{11} & 0 & 0 & 0  & \\cdots & 0 \\\\\n",
        "a_{21} & a_{22} & 0 & 0 & \\cdots & 0 \\\\\n",
        "a_{31} & a_{32} & a_{33} & 0 & \\cdots & 0 \\\\\n",
        "a_{41} & a_{42} & a_{43} & a_{44} &\\cdots & 0 \\\\\n",
        "\\vdots & \\vdots & \\vdots & \\vdots & \\ddots & \\vdots \\\\\n",
        "a_{n1} & a_{n2} & a_{n3} & a_{n4} & \\cdots & a_{nn}\n",
        "\\end{bmatrix}\n",
        "$$"
      ]
    },
    {
      "cell_type": "code",
      "metadata": {
        "id": "f05IOOMUxdke"
      },
      "source": [
        ""
      ],
      "execution_count": 26,
      "outputs": []
    },
    {
      "cell_type": "markdown",
      "metadata": {
        "id": "IW-OhhAGxhn-"
      },
      "source": [
        "### Matriz linha\n",
        "\n",
        "Podemos representar uma matriz linha por:"
      ]
    },
    {
      "cell_type": "code",
      "metadata": {
        "id": "5VSHbFr8xkj2",
        "outputId": "c1866a40-aad1-4de5-9b7f-cc41898ca63d",
        "colab": {
          "base_uri": "https://localhost:8080/"
        }
      },
      "source": [
        "# Biblioteca de álgebra linear(matrizes)\n",
        "import numpy as np\n",
        "\n",
        "#Utilizando um conjunto a mais de colchetes ou parênteses\n",
        "A = np.array([[10, 20, 30, -40]]) \n",
        "\n",
        "print(A)"
      ],
      "execution_count": 27,
      "outputs": [
        {
          "output_type": "stream",
          "text": [
            "[[ 10  20  30 -40]]\n"
          ],
          "name": "stdout"
        }
      ]
    },
    {
      "cell_type": "markdown",
      "metadata": {
        "id": "WzkCZ6T9xvWW"
      },
      "source": [
        "### Matriz coluna\n",
        "\n",
        "Podemos representar uma matriz coluna por:"
      ]
    },
    {
      "cell_type": "code",
      "metadata": {
        "id": "qPuRPCaEx_49",
        "outputId": "fc8f36b5-58bf-4729-e82f-d468e1078a70",
        "colab": {
          "base_uri": "https://localhost:8080/"
        }
      },
      "source": [
        "# Biblioteca de álgebra linear(matrizes)\n",
        "import numpy as np\n",
        "\n",
        "A = np.array([[10],[20],[30],[40]])\n",
        "\n",
        "print(A)"
      ],
      "execution_count": 28,
      "outputs": [
        {
          "output_type": "stream",
          "text": [
            "[[10]\n",
            " [20]\n",
            " [30]\n",
            " [40]]\n"
          ],
          "name": "stdout"
        }
      ]
    },
    {
      "cell_type": "markdown",
      "metadata": {
        "id": "3DtjWx04yKqg"
      },
      "source": [
        "Pode ser obtido a matriz coluna A obtendo a transposta da matriz linha B."
      ]
    },
    {
      "cell_type": "code",
      "metadata": {
        "id": "5PyQYeOSyQnH",
        "outputId": "fcac9ad8-fc33-48c5-d7a0-1169bd154b15",
        "colab": {
          "base_uri": "https://localhost:8080/"
        }
      },
      "source": [
        "# Biblioteca de álgebra linear(matrizes)\n",
        "import numpy as np\n",
        "\n",
        "# Utilizando um conjunto a mais de colchetes ou parênteses\n",
        "B = np.array([[10, 20, 30, -40]]) \n",
        "\n",
        "print(B)\n",
        "\n",
        "A = np.transpose(B)\n",
        "\n",
        "print(A)"
      ],
      "execution_count": 29,
      "outputs": [
        {
          "output_type": "stream",
          "text": [
            "[[ 10  20  30 -40]]\n",
            "[[ 10]\n",
            " [ 20]\n",
            " [ 30]\n",
            " [-40]]\n"
          ],
          "name": "stdout"
        }
      ]
    },
    {
      "cell_type": "markdown",
      "metadata": {
        "id": "E-EWwlFFyZY-"
      },
      "source": [
        "### Matriz nula\n",
        "\n",
        "É considerada nula se e somente se todos os seus elementos forem iguais a zero. Podemos definir uma matriz nula em python utilizando a função np.zeros passando a dimensão que desejamos."
      ]
    },
    {
      "cell_type": "code",
      "metadata": {
        "id": "Is5sEJQHyc33",
        "outputId": "bb294836-104e-4d8f-a595-50745923828b",
        "colab": {
          "base_uri": "https://localhost:8080/"
        }
      },
      "source": [
        "# Biblioteca de álgebra linear(matrizes)\n",
        "import numpy as np\n",
        "\n",
        "A = np.zeros([2,2])\n",
        "\n",
        "print(A)"
      ],
      "execution_count": 30,
      "outputs": [
        {
          "output_type": "stream",
          "text": [
            "[[0. 0.]\n",
            " [0. 0.]]\n"
          ],
          "name": "stdout"
        }
      ]
    },
    {
      "cell_type": "markdown",
      "metadata": {
        "id": "UElDhbzoyjYf"
      },
      "source": [
        "### Matriz identidade\n",
        "\n",
        "Uma matriz identidade é aquela na qual a diagonal principal possui todos os valores iguais a 1 e os demais valores iguais a zero. A matriz identidade é muito utilizada na resolução de sistemas de equações lineares. No python podemos representar uma matriz identidade através da função np.identity() passando como argumento a dimensão desejada."
      ]
    },
    {
      "cell_type": "code",
      "metadata": {
        "id": "Q1N-XYGqylOM",
        "outputId": "6d8e6dd6-a2ce-4b3e-c989-fa4ddffa70be",
        "colab": {
          "base_uri": "https://localhost:8080/"
        }
      },
      "source": [
        "# Biblioteca de álgebra linear(matrizes)\n",
        "import numpy as np\n",
        "\n",
        "ID = np.identity(5)\n",
        "\n",
        "print(ID)"
      ],
      "execution_count": 31,
      "outputs": [
        {
          "output_type": "stream",
          "text": [
            "[[1. 0. 0. 0. 0.]\n",
            " [0. 1. 0. 0. 0.]\n",
            " [0. 0. 1. 0. 0.]\n",
            " [0. 0. 0. 1. 0.]\n",
            " [0. 0. 0. 0. 1.]]\n"
          ],
          "name": "stdout"
        }
      ]
    },
    {
      "cell_type": "markdown",
      "metadata": {
        "id": "xbLBJcBHytC_"
      },
      "source": [
        "### Matriz transposta\n",
        "\n",
        "A matriz transposta é uma matriz obtida através da troca ordenada de linhas por colunas de uma dada matriz, essa operação pode ser realizada utilizando a função np.transpose. A transposição não altera a diagonal principal de uma matriz quadrada.\n",
        "\n",
        "Propriedades:\n",
        "\n",
        "1. $ (A^T)^T = A $\n",
        "2. $ (A + B)^T = A^T + B^T $\n",
        "3. $ (cA)^T = cA^T $\n",
        "4. $ (AB)^T = A^T B^T  $"
      ]
    },
    {
      "cell_type": "code",
      "metadata": {
        "id": "5jmo7lM1yuqE",
        "outputId": "eb06a484-11c8-4ae8-d688-dec132f765fa",
        "colab": {
          "base_uri": "https://localhost:8080/"
        }
      },
      "source": [
        "# Biblioteca de álgebra linear(matrizes)\n",
        "import numpy as np\n",
        "\n",
        "A = np.array([[10,20,30],[40,50,60]])\n",
        "\n",
        "# Mostra a matriz\n",
        "print(A)\n",
        "\n",
        "# Gera a transposta de A\n",
        "At = np.transpose(A)\n",
        "\n",
        "# Mostra transposta\n",
        "print(At)"
      ],
      "execution_count": 32,
      "outputs": [
        {
          "output_type": "stream",
          "text": [
            "[[10 20 30]\n",
            " [40 50 60]]\n",
            "[[10 40]\n",
            " [20 50]\n",
            " [30 60]]\n"
          ],
          "name": "stdout"
        }
      ]
    },
    {
      "cell_type": "markdown",
      "metadata": {
        "id": "53_8dRe3zGMo"
      },
      "source": [
        "A matriz transposta também pode ser obtidade através do método .T."
      ]
    },
    {
      "cell_type": "code",
      "metadata": {
        "id": "U7AU0MEWzHoF",
        "outputId": "aa78c387-7c4a-40f8-a494-a475ed633829",
        "colab": {
          "base_uri": "https://localhost:8080/"
        }
      },
      "source": [
        "# Biblioteca de álgebra linear(matrizes)\n",
        "import numpy as np\n",
        "\n",
        "A = np.array([[10,20,30],[40,50,60]])\n",
        "\n",
        "# Mostra a matriz\n",
        "print(A)\n",
        "\n",
        "# Gera a transposta de A\n",
        "At = A.T\n",
        "\n",
        "# Mostra transposta\n",
        "print(At)"
      ],
      "execution_count": 33,
      "outputs": [
        {
          "output_type": "stream",
          "text": [
            "[[10 20 30]\n",
            " [40 50 60]]\n",
            "[[10 40]\n",
            " [20 50]\n",
            " [30 60]]\n"
          ],
          "name": "stdout"
        }
      ]
    },
    {
      "cell_type": "markdown",
      "metadata": {
        "id": "vHskib3KzmAf"
      },
      "source": [
        "Vamos verificar a validação de cada uma das propriedades da transposta:"
      ]
    },
    {
      "cell_type": "code",
      "metadata": {
        "id": "NpRPO-FwzpIG",
        "outputId": "9ac28aea-c090-4c0f-c7e5-7eccbcf07d86",
        "colab": {
          "base_uri": "https://localhost:8080/"
        }
      },
      "source": [
        "# Biblioteca de álgebra linear(matrizes)\n",
        "import numpy as np\n",
        "\n",
        "A = np.array(([1,2],[3,4]))\n",
        "B = np.array(([5,6],[7,8]))\n",
        "\n",
        "print(A == B)\n",
        "\n",
        "# Propriedade 1\n",
        "print((A.T).T == A)\n",
        "\n",
        "# Propriedade 2\n",
        "print((A+B).T == A.T + B.T)\n",
        "\n",
        "# Propriedade 3\n",
        "print((7*A).T == 7*A.T)\n",
        "\n",
        "# Propriedade 4\n",
        "print((A*B).T == B.T*A.T)"
      ],
      "execution_count": 34,
      "outputs": [
        {
          "output_type": "stream",
          "text": [
            "[[False False]\n",
            " [False False]]\n",
            "[[ True  True]\n",
            " [ True  True]]\n",
            "[[ True  True]\n",
            " [ True  True]]\n",
            "[[ True  True]\n",
            " [ True  True]]\n",
            "[[ True  True]\n",
            " [ True  True]]\n"
          ],
          "name": "stdout"
        }
      ]
    },
    {
      "cell_type": "markdown",
      "metadata": {
        "id": "M5BiO3gox8wZ"
      },
      "source": [
        "### Operações com escalar"
      ]
    },
    {
      "cell_type": "markdown",
      "metadata": {
        "id": "xdQjTyAv2x3H"
      },
      "source": [
        "Soma de elemento da matrizes por um escalar."
      ]
    },
    {
      "cell_type": "code",
      "metadata": {
        "id": "PBUcKLUz2x3I",
        "outputId": "dabe81fd-83a6-4b09-ec0e-a7954472ad7e",
        "colab": {
          "base_uri": "https://localhost:8080/"
        }
      },
      "source": [
        "# Biblioteca de álgebra linear(matrizes)\n",
        "import numpy as np\n",
        "\n",
        "A = np.array([[0,1],[2,3]])\n",
        "\n",
        "print(A)\n",
        "\n",
        "B = A + 2\n",
        "\n",
        "print(B)"
      ],
      "execution_count": 35,
      "outputs": [
        {
          "output_type": "stream",
          "text": [
            "[[0 1]\n",
            " [2 3]]\n",
            "[[2 3]\n",
            " [4 5]]\n"
          ],
          "name": "stdout"
        }
      ]
    },
    {
      "cell_type": "markdown",
      "metadata": {
        "id": "kqsUQYwlkoHY"
      },
      "source": [
        "Multiplicação de elemento da matrizes por um escalar."
      ]
    },
    {
      "cell_type": "code",
      "metadata": {
        "id": "7bgj6jhakOKL",
        "outputId": "b4ddf4fb-d6d5-4454-fe36-5bebfe73988d",
        "colab": {
          "base_uri": "https://localhost:8080/"
        }
      },
      "source": [
        "# Biblioteca de álgebra linear(matrizes)\n",
        "import numpy as np\n",
        "\n",
        "A = np.array([[0,1],[2,3]])\n",
        "\n",
        "print(A)\n",
        "\n",
        "B = A * 3\n",
        "\n",
        "print(B)"
      ],
      "execution_count": 36,
      "outputs": [
        {
          "output_type": "stream",
          "text": [
            "[[0 1]\n",
            " [2 3]]\n",
            "[[0 3]\n",
            " [6 9]]\n"
          ],
          "name": "stdout"
        }
      ]
    },
    {
      "cell_type": "markdown",
      "metadata": {
        "id": "4TOzfEZU2tO5"
      },
      "source": [
        "### Operações entre matrizes e vetores\n",
        "\n"
      ]
    },
    {
      "cell_type": "markdown",
      "metadata": {
        "id": "fNWR58Up3LOY"
      },
      "source": [
        "Multiplicação de matriz e vetor\n",
        "\n",
        "Na multiplicação de um vetor por uma matriz, precisamos verificar se as dimensões são compatíveis, ou seja, se o número de colunas são iguais."
      ]
    },
    {
      "cell_type": "code",
      "metadata": {
        "id": "_r-pVHpv3MCa",
        "outputId": "3e809a93-118e-4e10-c4e4-e3422f8d82d5",
        "colab": {
          "base_uri": "https://localhost:8080/"
        }
      },
      "source": [
        "# Biblioteca de álgebra linear(matrizes)\n",
        "import numpy as np\n",
        "\n",
        "A = np.array([1, 2, 3]) # Vetor\n",
        "\n",
        "B = np.array(([10, 20, 30],[40, 50, 60]))\n",
        "\n",
        "print(A)\n",
        "print(B)\n",
        "\n",
        "# Multiplica o vetor A pela matriz B\n",
        "C = A * B\n",
        "\n",
        "print(C)"
      ],
      "execution_count": 37,
      "outputs": [
        {
          "output_type": "stream",
          "text": [
            "[1 2 3]\n",
            "[[10 20 30]\n",
            " [40 50 60]]\n",
            "[[ 10  40  90]\n",
            " [ 40 100 180]]\n"
          ],
          "name": "stdout"
        }
      ]
    },
    {
      "cell_type": "markdown",
      "metadata": {
        "id": "YmDv4qH93pxR"
      },
      "source": [
        "Somando matriz e vetor"
      ]
    },
    {
      "cell_type": "code",
      "metadata": {
        "id": "bURFMw6a3u1R",
        "outputId": "e7b44c61-aacf-4269-86fe-2fa2766eb0df",
        "colab": {
          "base_uri": "https://localhost:8080/"
        }
      },
      "source": [
        "# Biblioteca de álgebra linear(matrizes)\n",
        "import numpy as np\n",
        "\n",
        "A = np.array([1, 2, 3]) # Vetor\n",
        "\n",
        "B = np.array(([10, 20, 30],[40, 50, 60]))\n",
        "\n",
        "print(A)\n",
        "print(B)\n",
        "\n",
        "# Multiplica o vetor A pela matriz B\n",
        "C = B+A\n",
        "\n",
        "print(C)"
      ],
      "execution_count": 38,
      "outputs": [
        {
          "output_type": "stream",
          "text": [
            "[1 2 3]\n",
            "[[10 20 30]\n",
            " [40 50 60]]\n",
            "[[11 22 33]\n",
            " [41 52 63]]\n"
          ],
          "name": "stdout"
        }
      ]
    },
    {
      "cell_type": "markdown",
      "metadata": {
        "id": "QAjRvRvK37an"
      },
      "source": [
        "Subtraindo matriz e vetor"
      ]
    },
    {
      "cell_type": "code",
      "metadata": {
        "id": "ro2TfMFq37ao",
        "outputId": "cfd982be-d7cd-4881-e029-d16d46c65b21",
        "colab": {
          "base_uri": "https://localhost:8080/"
        }
      },
      "source": [
        "# Biblioteca de álgebra linear(matrizes)\n",
        "import numpy as np\n",
        "\n",
        "A = np.array([1, 2, 3]) # Vetor\n",
        "\n",
        "B = np.array(([10, 20, 30],[40, 50, 60]))\n",
        "\n",
        "print(A)\n",
        "print(B)\n",
        "\n",
        "# Multiplica o vetor A pela matriz B\n",
        "C = B-A\n",
        "\n",
        "print(C)"
      ],
      "execution_count": 39,
      "outputs": [
        {
          "output_type": "stream",
          "text": [
            "[1 2 3]\n",
            "[[10 20 30]\n",
            " [40 50 60]]\n",
            "[[ 9 18 27]\n",
            " [39 48 57]]\n"
          ],
          "name": "stdout"
        }
      ]
    },
    {
      "cell_type": "markdown",
      "metadata": {
        "id": "3vbGQS9e4H__"
      },
      "source": [
        "Dividindo matriz e vetor"
      ]
    },
    {
      "cell_type": "code",
      "metadata": {
        "id": "fnpx9Y8S4H__",
        "outputId": "b6efcc6a-d2d7-4ee5-f091-6efc124748a9",
        "colab": {
          "base_uri": "https://localhost:8080/"
        }
      },
      "source": [
        "# Biblioteca de álgebra linear(matrizes)\n",
        "import numpy as np\n",
        "\n",
        "A = np.array([1, 2, 3]) # Vetor\n",
        "\n",
        "B = np.array(([10, 20, 30],[40, 50, 60]))\n",
        "\n",
        "print(A)\n",
        "print(B)\n",
        "\n",
        "# Multiplica o vetor A pela matriz B\n",
        "C = B/A\n",
        "\n",
        "print(C)"
      ],
      "execution_count": 40,
      "outputs": [
        {
          "output_type": "stream",
          "text": [
            "[1 2 3]\n",
            "[[10 20 30]\n",
            " [40 50 60]]\n",
            "[[10. 10. 10.]\n",
            " [40. 25. 20.]]\n"
          ],
          "name": "stdout"
        }
      ]
    },
    {
      "cell_type": "markdown",
      "metadata": {
        "id": "BMWjgYgO8JLW"
      },
      "source": [
        "### Operações entre matrizes\n",
        "Precisamos conferir se as dimensões são compatíveis para efetuar as operações matemáticas."
      ]
    },
    {
      "cell_type": "markdown",
      "metadata": {
        "id": "4KeWMhv482cX"
      },
      "source": [
        "Somando duas matrizes"
      ]
    },
    {
      "cell_type": "code",
      "metadata": {
        "id": "RXLEajgv8xQ-",
        "outputId": "0648c832-d53f-411a-d54f-7e0a530e4abe",
        "colab": {
          "base_uri": "https://localhost:8080/"
        }
      },
      "source": [
        "# Biblioteca de álgebra linear(matrizes)\n",
        "import numpy as np\n",
        "\n",
        "A = np.array([[0, 1], [2, 3]]) \n",
        "B = np.array([[3, 4], [5, 6]]) \n",
        "\n",
        "print(A)\n",
        "print(B)\n",
        "\n",
        "C = A + B\n",
        "\n",
        "print(C)"
      ],
      "execution_count": 41,
      "outputs": [
        {
          "output_type": "stream",
          "text": [
            "[[0 1]\n",
            " [2 3]]\n",
            "[[3 4]\n",
            " [5 6]]\n",
            "[[3 5]\n",
            " [7 9]]\n"
          ],
          "name": "stdout"
        }
      ]
    },
    {
      "cell_type": "markdown",
      "metadata": {
        "id": "8ZpuYglq8-lF"
      },
      "source": [
        "Subtraindo duas matrizes"
      ]
    },
    {
      "cell_type": "code",
      "metadata": {
        "id": "-j6EoDj38-lI",
        "outputId": "835dcf11-a9fd-4a54-b51a-ab427eaaa59f",
        "colab": {
          "base_uri": "https://localhost:8080/"
        }
      },
      "source": [
        "# Biblioteca de álgebra linear(matrizes)\n",
        "import numpy as np\n",
        "\n",
        "A = np.array([[0, 1], [2, 3]]) \n",
        "B = np.array([[3, 4], [5, 6]]) \n",
        "\n",
        "print(A)\n",
        "print(B)\n",
        "\n",
        "C = B - A\n",
        "\n",
        "print(C)"
      ],
      "execution_count": 42,
      "outputs": [
        {
          "output_type": "stream",
          "text": [
            "[[0 1]\n",
            " [2 3]]\n",
            "[[3 4]\n",
            " [5 6]]\n",
            "[[3 3]\n",
            " [3 3]]\n"
          ],
          "name": "stdout"
        }
      ]
    },
    {
      "cell_type": "markdown",
      "metadata": {
        "id": "wvajgpHU9DBP"
      },
      "source": [
        "Multiplicando duas matrizes 1"
      ]
    },
    {
      "cell_type": "code",
      "metadata": {
        "id": "_TmPM9lw9DBQ",
        "outputId": "813f6b65-0ac2-4ba8-9f8d-6ce0ea0e59a8",
        "colab": {
          "base_uri": "https://localhost:8080/"
        }
      },
      "source": [
        "# Biblioteca de álgebra linear(matrizes)\n",
        "import numpy as np\n",
        "\n",
        "A = np.array([[0, 1], [2, 3]]) \n",
        "B = np.array([[3, 4], [5, 6]]) \n",
        "\n",
        "print(A)\n",
        "print(B)\n",
        "\n",
        "C = A * B\n",
        "\n",
        "print(C)"
      ],
      "execution_count": 43,
      "outputs": [
        {
          "output_type": "stream",
          "text": [
            "[[0 1]\n",
            " [2 3]]\n",
            "[[3 4]\n",
            " [5 6]]\n",
            "[[ 0  4]\n",
            " [10 18]]\n"
          ],
          "name": "stdout"
        }
      ]
    },
    {
      "cell_type": "markdown",
      "metadata": {
        "id": "FvHZmkk39acP"
      },
      "source": [
        "Multiplicando duas matrizes 2\n",
        " \n",
        "A multiplicação entre os elementos das matrizes pode ser realizada através da função np.multiply()."
      ]
    },
    {
      "cell_type": "code",
      "metadata": {
        "id": "AXkn6m9o9W6i",
        "outputId": "0be3bdf3-f3e1-4ab7-a704-f85d65d5bf9e",
        "colab": {
          "base_uri": "https://localhost:8080/"
        }
      },
      "source": [
        "# Biblioteca de álgebra linear(matrizes)\n",
        "import numpy as np\n",
        "\n",
        "A = np.array([[0, 1], [2, 3]]) \n",
        "B = np.array([[3, 4], [5, 6]]) \n",
        "\n",
        "print(A)\n",
        "print(B)\n",
        "\n",
        "C = np.multiply(A, B)\n",
        "\n",
        "print(C)"
      ],
      "execution_count": 44,
      "outputs": [
        {
          "output_type": "stream",
          "text": [
            "[[0 1]\n",
            " [2 3]]\n",
            "[[3 4]\n",
            " [5 6]]\n",
            "[[ 0  4]\n",
            " [10 18]]\n"
          ],
          "name": "stdout"
        }
      ]
    },
    {
      "cell_type": "markdown",
      "metadata": {
        "id": "6lzotXBo9rxn"
      },
      "source": [
        "\n",
        "Obs: Só é possível realizar o produto entre duas matrizes se o número de colunas da primeira matriz for igual ao número de linhas da segunda. O produto entre matrizes pode ser feito através do método np.dot(m1,m2).\n",
        "\n",
        "$$A_{mn} . B_{np} = (AB)_{mp}$$\n",
        "\n",
        "No produto entre matrizes, cada elemento da linha da primeira coluna deve ser multiplicado e somado pelos correspondentes elementos da coluna da segunda matriz."
      ]
    },
    {
      "cell_type": "code",
      "metadata": {
        "id": "SQqIZE3w9_ec",
        "outputId": "9e0b0427-05f1-48f8-f2a1-cc6df759f94d",
        "colab": {
          "base_uri": "https://localhost:8080/"
        }
      },
      "source": [
        "# Biblioteca de álgebra linear(matrizes)\n",
        "import numpy as np\n",
        "\n",
        "A = np.array([[0, 1], [2, 3]]) \n",
        "B = np.array([[3, 4], [5, 6]]) \n",
        "\n",
        "print(A)\n",
        "print(B)\n",
        "\n",
        "C = np.dot(A, B)\n",
        "\n",
        "print(C)"
      ],
      "execution_count": 45,
      "outputs": [
        {
          "output_type": "stream",
          "text": [
            "[[0 1]\n",
            " [2 3]]\n",
            "[[3 4]\n",
            " [5 6]]\n",
            "[[ 5  6]\n",
            " [21 26]]\n"
          ],
          "name": "stdout"
        }
      ]
    },
    {
      "cell_type": "markdown",
      "metadata": {
        "id": "LkIxTFbC-GtM"
      },
      "source": [
        "Não temos comutatividade no produto entre matrizes, a ordem importa!"
      ]
    },
    {
      "cell_type": "code",
      "metadata": {
        "id": "Jp9K0jav-KuQ",
        "outputId": "de41e562-5887-40b1-d994-9e23d436fb3a",
        "colab": {
          "base_uri": "https://localhost:8080/"
        }
      },
      "source": [
        "# Biblioteca de álgebra linear(matrizes)\n",
        "import numpy as np\n",
        "\n",
        "A = np.array([[0, 1], [2, 3]]) \n",
        "B = np.array([[3, 4], [5, 6]]) \n",
        "\n",
        "print(A)\n",
        "print(B)\n",
        "\n",
        "# Invertido\n",
        "C = np.dot(B, A)\n",
        "\n",
        "print(C)"
      ],
      "execution_count": 46,
      "outputs": [
        {
          "output_type": "stream",
          "text": [
            "[[0 1]\n",
            " [2 3]]\n",
            "[[3 4]\n",
            " [5 6]]\n",
            "[[ 8 15]\n",
            " [12 23]]\n"
          ],
          "name": "stdout"
        }
      ]
    },
    {
      "cell_type": "markdown",
      "metadata": {
        "id": "O1FNKyeG9KqP"
      },
      "source": [
        "Dividindo duas matrizes"
      ]
    },
    {
      "cell_type": "code",
      "metadata": {
        "id": "hHXTPyQV9KqQ",
        "outputId": "3030fa99-0903-4f6a-aba1-d0328b83441f",
        "colab": {
          "base_uri": "https://localhost:8080/"
        }
      },
      "source": [
        "# Biblioteca de álgebra linear(matrizes)\n",
        "import numpy as np\n",
        "\n",
        "A = np.array([[1, 1], [2, 3]]) \n",
        "B = np.array([[3, 4], [5, 6]]) \n",
        "\n",
        "print(A)\n",
        "print(B)\n",
        "\n",
        "C = B / A\n",
        "\n",
        "print(C)"
      ],
      "execution_count": 47,
      "outputs": [
        {
          "output_type": "stream",
          "text": [
            "[[1 1]\n",
            " [2 3]]\n",
            "[[3 4]\n",
            " [5 6]]\n",
            "[[3.  4. ]\n",
            " [2.5 2. ]]\n"
          ],
          "name": "stdout"
        }
      ]
    },
    {
      "cell_type": "markdown",
      "metadata": {
        "id": "pNBgCTvg8kwB"
      },
      "source": [
        "### Outras operações"
      ]
    },
    {
      "cell_type": "markdown",
      "metadata": {
        "id": "mzqDQ9dElHxB"
      },
      "source": [
        "Somando elementos de 1 matriz."
      ]
    },
    {
      "cell_type": "code",
      "metadata": {
        "id": "ofq1_jZkk6Qo",
        "outputId": "8356e698-e1e9-4033-ab76-f77bd8335444",
        "colab": {
          "base_uri": "https://localhost:8080/"
        }
      },
      "source": [
        "# Biblioteca de álgebra linear(matrizes)\n",
        "import numpy as np\n",
        "\n",
        "A = np.array([[0,1],[2,3]])\n",
        "\n",
        "B = np.sum(A)\n",
        "\n",
        "print(A)\n",
        "print(B)"
      ],
      "execution_count": 48,
      "outputs": [
        {
          "output_type": "stream",
          "text": [
            "[[0 1]\n",
            " [2 3]]\n",
            "6\n"
          ],
          "name": "stdout"
        }
      ]
    },
    {
      "cell_type": "markdown",
      "metadata": {
        "id": "z-QYK9ttld44"
      },
      "source": [
        "Multiplicando e somando 2 matrizes."
      ]
    },
    {
      "cell_type": "code",
      "metadata": {
        "id": "oWVa4tMtleL0",
        "outputId": "9dc4164b-665e-4e3b-88bd-5373282c3c53",
        "colab": {
          "base_uri": "https://localhost:8080/"
        }
      },
      "source": [
        "# Biblioteca de álgebra linear(matrizes)\n",
        "import numpy as np\n",
        "\n",
        "A = np.array([[0,1],[2,3]])\n",
        "B = np.array([[0,1],[2,3]]) \n",
        "\n",
        "C = np.sum(A * B)\n",
        "\n",
        "print(A)\n",
        "print(B)\n",
        "print(C)"
      ],
      "execution_count": 49,
      "outputs": [
        {
          "output_type": "stream",
          "text": [
            "[[0 1]\n",
            " [2 3]]\n",
            "[[0 1]\n",
            " [2 3]]\n",
            "14\n"
          ],
          "name": "stdout"
        }
      ]
    },
    {
      "cell_type": "markdown",
      "metadata": {
        "id": "zrV5-JqdmHvF"
      },
      "source": [
        "Retorna a convolução linear discreta de dois vetores."
      ]
    },
    {
      "cell_type": "code",
      "metadata": {
        "id": "01_qU3CicoS1",
        "outputId": "a17749af-fe67-494b-d771-acc8492c62c9",
        "colab": {
          "base_uri": "https://localhost:8080/"
        }
      },
      "source": [
        "# Biblioteca de álgebra linear(matrizes)\n",
        "import numpy as np\n",
        "\n",
        "A = np.array([1,2,3])        # 1 + 2x + 3x^2\n",
        "B = np.array([4,5,6])        # 4 + 5x + 6x^2\n",
        "\n",
        "C = np.convolve(A, B)        # (1 + 2x + 3x^2) * (4 + 5x + 6x^2)\n",
        "#array([ 4, 13, 28, 27, 18]) # 4 + 13x + 28x^2 + 27x^3 + 18x^4\n",
        "\n",
        "print(A)\n",
        "print(B)\n",
        "print(C)"
      ],
      "execution_count": 50,
      "outputs": [
        {
          "output_type": "stream",
          "text": [
            "[1 2 3]\n",
            "[4 5 6]\n",
            "[ 4 13 28 27 18]\n"
          ],
          "name": "stdout"
        }
      ]
    },
    {
      "cell_type": "markdown",
      "metadata": {
        "id": "oMqCOleanB62"
      },
      "source": [
        "Concatena duas matrizes."
      ]
    },
    {
      "cell_type": "code",
      "metadata": {
        "id": "s0lEHC14nCMo",
        "outputId": "49adc3ff-42ca-4455-b398-8e938d6f781e",
        "colab": {
          "base_uri": "https://localhost:8080/"
        }
      },
      "source": [
        "# Biblioteca de álgebra linear(matrizes)\n",
        "import numpy as np\n",
        "\n",
        "A = np.array([[0, 1], [2, 3]]) \n",
        "B = np.array([[3, 4], [5, 6]]) \n",
        "\n",
        "C = np.concatenate((A,B))\n",
        "\n",
        "print(A)\n",
        "print(B)\n",
        "print(C)"
      ],
      "execution_count": 51,
      "outputs": [
        {
          "output_type": "stream",
          "text": [
            "[[0 1]\n",
            " [2 3]]\n",
            "[[3 4]\n",
            " [5 6]]\n",
            "[[0 1]\n",
            " [2 3]\n",
            " [3 4]\n",
            " [5 6]]\n"
          ],
          "name": "stdout"
        }
      ]
    },
    {
      "cell_type": "markdown",
      "metadata": {
        "id": "cZiTlyUEmnvH"
      },
      "source": [
        "Concatena duas matrizes.\n",
        "\n",
        "Seleciona o eixo.\n",
        "\n",
        "axis = 0 eixo y.\n",
        "\n",
        "axis = 1 eixo x."
      ]
    },
    {
      "cell_type": "code",
      "metadata": {
        "id": "LnNuRNKGeX18",
        "outputId": "0213573d-c189-4049-a496-d5e4bfb335a1",
        "colab": {
          "base_uri": "https://localhost:8080/"
        }
      },
      "source": [
        "# Biblioteca de álgebra linear(matrizes)\n",
        "import numpy as np\n",
        "\n",
        "A = np.array([[0, 1], [2, 3]]) \n",
        "B = np.array([[3, 4], [5, 6]]) \n",
        "\n",
        "C = np.concatenate((A,B),axis=1)\n",
        "\n",
        "print(A)\n",
        "print(B)\n",
        "print(C)"
      ],
      "execution_count": 52,
      "outputs": [
        {
          "output_type": "stream",
          "text": [
            "[[0 1]\n",
            " [2 3]]\n",
            "[[3 4]\n",
            " [5 6]]\n",
            "[[0 1 3 4]\n",
            " [2 3 5 6]]\n"
          ],
          "name": "stdout"
        }
      ]
    },
    {
      "cell_type": "markdown",
      "metadata": {
        "id": "-AZsm3ymojbH"
      },
      "source": [
        "função é usada para calcular uma das oito normas matriciais ou uma das normas vetoriais."
      ]
    },
    {
      "cell_type": "code",
      "metadata": {
        "id": "_ztLOBDfn5t5",
        "outputId": "2fa014ce-0944-412d-f6b2-b18e84484e88",
        "colab": {
          "base_uri": "https://localhost:8080/"
        }
      },
      "source": [
        "# Biblioteca de álgebra linear(matrizes)\n",
        "import numpy as np\n",
        "\n",
        "A = np.array([[0, 1], [2, 3]]) \n",
        "\n",
        "B = np.linalg.norm(A, axis=0)\n",
        "\n",
        "print(A)\n",
        "print(B)\n",
        "\n",
        "B = np.linalg.norm(A, axis=1)\n",
        "\n",
        "print(A)\n",
        "print(B)"
      ],
      "execution_count": 53,
      "outputs": [
        {
          "output_type": "stream",
          "text": [
            "[[0 1]\n",
            " [2 3]]\n",
            "[2.         3.16227766]\n",
            "[[0 1]\n",
            " [2 3]]\n",
            "[1.         3.60555128]\n"
          ],
          "name": "stdout"
        }
      ]
    },
    {
      "cell_type": "code",
      "metadata": {
        "id": "jZDQTOTy8Nam"
      },
      "source": [
        "# Biblioteca de álgebra linear(matrizes)\n",
        "import numpy as np\n",
        "\n",
        "A = np.array([[0, 1], [2, 3]]) \n",
        "B = np.array([[3, 4], [5, 6]]) "
      ],
      "execution_count": 54,
      "outputs": []
    },
    {
      "cell_type": "markdown",
      "metadata": {
        "id": "agLxKNjQ-Yt7"
      },
      "source": [
        "Traço da matriz\n",
        "\n",
        "O traço de uma matriz quadrada é a soma dos elementos da sua diagonal principal, o traço pode ser obtido através da função np.trace()."
      ]
    },
    {
      "cell_type": "code",
      "metadata": {
        "id": "i6NIQTyR-fLc",
        "outputId": "718acc99-1e22-41cc-ac29-9e465d1cbcb4",
        "colab": {
          "base_uri": "https://localhost:8080/"
        }
      },
      "source": [
        "# Biblioteca de álgebra linear(matrizes)\n",
        "import numpy as np\n",
        "\n",
        "A = np.array([[1, 2], [3, 4]]) \n",
        "\n",
        "print(A)\n",
        "\n",
        "B = np.trace(A)\n",
        "\n",
        "print(B)"
      ],
      "execution_count": 55,
      "outputs": [
        {
          "output_type": "stream",
          "text": [
            "[[1 2]\n",
            " [3 4]]\n",
            "5\n"
          ],
          "name": "stdout"
        }
      ]
    },
    {
      "cell_type": "markdown",
      "metadata": {
        "id": "mYWzeuAo-pS5"
      },
      "source": [
        "No caso de uma matriz não quadrada, a soma será da parte da diagonal principal referente a uma matriz quadrada, exemplo:\n",
        "\n",
        "$$A_{23} = \n",
        "\\begin{bmatrix}\n",
        "{\\color{Red}1} & 2 & 3 \\\\\n",
        "3 & {\\color{Red}4} & 5\n",
        "\\end{bmatrix}\n",
        "$$"
      ]
    },
    {
      "cell_type": "code",
      "metadata": {
        "id": "vE1QZoJ1-qqe",
        "outputId": "8c5fe197-e1a3-4ca6-8140-eb7f18b88b12",
        "colab": {
          "base_uri": "https://localhost:8080/"
        }
      },
      "source": [
        "# Biblioteca de álgebra linear(matrizes)\n",
        "import numpy as np\n",
        "\n",
        "A = np.array([[1, 2, 3], [3, 4, 5]]) \n",
        "\n",
        "print(A)\n",
        "\n",
        "B = np.trace(A)\n",
        "\n",
        "print(B)"
      ],
      "execution_count": 56,
      "outputs": [
        {
          "output_type": "stream",
          "text": [
            "[[1 2 3]\n",
            " [3 4 5]]\n",
            "5\n"
          ],
          "name": "stdout"
        }
      ]
    },
    {
      "cell_type": "markdown",
      "metadata": {
        "id": "G6cF7ox7-4yk"
      },
      "source": [
        "Propriedade do traço:\n",
        "\n",
        "1. $tr(A+B) = tr(A) + tr(B)$;\n",
        "\n",
        "2. $tr(\\lambda . A) = \\lambda. tr(A)$;\n",
        "\n",
        "3. O traço de uma matriz quadrada é igual ao traço de sua transposta;\n",
        "\n",
        "4. $tr(AB) = tr(BA)$;\n",
        "\n",
        "5. O traço de uma matriz simétrica é igual a soma dos seus valores próprios (autovalores). Uma matriz A é dita simétrica se ela for igual a sua transposta.\n",
        "\n"
      ]
    },
    {
      "cell_type": "code",
      "metadata": {
        "id": "_KEF0UAd_OK_",
        "outputId": "51e48dd8-1ee3-4790-c861-d5abb1dee748",
        "colab": {
          "base_uri": "https://localhost:8080/"
        }
      },
      "source": [
        "# Biblioteca de álgebra linear(matrizes)\n",
        "import numpy as np\n",
        "\n",
        "A = np.array(([1,1],[2,2]))\n",
        "B = np.array(([3,3],[4,4]))\n",
        "\n",
        "# Propriedade 1\n",
        "np.trace(A+B) ==  np.trace(A) + np.trace(B)\n",
        "print(np.trace(A+B) ==  np.trace(A) + np.trace(B))\n",
        "\n",
        "# Propriedade 2\n",
        "print(np.trace(5*A) == 5 * np.trace(A))\n",
        "\n",
        "# Propriedade 3\n",
        "print(np.trace(A) == np.trace(np.transpose(A)))\n",
        "\n",
        "# Propriedade 4\n",
        "print(np.trace(A*B) == np.trace(B*A))"
      ],
      "execution_count": 57,
      "outputs": [
        {
          "output_type": "stream",
          "text": [
            "True\n",
            "True\n",
            "True\n",
            "True\n"
          ],
          "name": "stdout"
        }
      ]
    },
    {
      "cell_type": "markdown",
      "metadata": {
        "id": "ZuGzLCTB_fuM"
      },
      "source": [
        "### Inversa de uma matriz\n",
        "\n",
        "Se o produto de duas matrizes resulta em uma matriz identidade, essa matriz possui uma inversa. A biblioteca Numpy possuí um pacote específico para trabalhar com álgebra linear, se chama numpy.lialg, no qual possuí a função inv() para calcular a inversa de uma matriz."
      ]
    },
    {
      "cell_type": "code",
      "metadata": {
        "id": "kWbceG_2_hXc",
        "outputId": "098bb67c-57c8-4fc1-9db9-28ae48fc1a85",
        "colab": {
          "base_uri": "https://localhost:8080/"
        }
      },
      "source": [
        "# Biblioteca de álgebra linear(matrizes)\n",
        "import numpy as np\n",
        "\n",
        "from numpy.linalg import inv\n",
        "\n",
        "A = np.array(([1,2],[3,4]))\n",
        "print(A)\n",
        "\n",
        "B = inv(A)\n",
        "print(B)"
      ],
      "execution_count": 58,
      "outputs": [
        {
          "output_type": "stream",
          "text": [
            "[[1 2]\n",
            " [3 4]]\n",
            "[[-2.   1. ]\n",
            " [ 1.5 -0.5]]\n"
          ],
          "name": "stdout"
        }
      ]
    },
    {
      "cell_type": "markdown",
      "metadata": {
        "id": "k23DPLp5_tsv"
      },
      "source": [
        "Para verificar se a matriz B é inversa da matriz A:"
      ]
    },
    {
      "cell_type": "code",
      "metadata": {
        "id": "hCSrqN0s_vuH",
        "outputId": "34350943-2ef3-4598-b2ed-2a27df0f74cc",
        "colab": {
          "base_uri": "https://localhost:8080/"
        }
      },
      "source": [
        "print(np.dot(B,A))"
      ],
      "execution_count": 59,
      "outputs": [
        {
          "output_type": "stream",
          "text": [
            "[[1.00000000e+00 0.00000000e+00]\n",
            " [1.11022302e-16 1.00000000e+00]]\n"
          ],
          "name": "stdout"
        }
      ]
    },
    {
      "cell_type": "markdown",
      "metadata": {
        "id": "dzpwjSF6_77B"
      },
      "source": [
        "Propriedades da matriz inversa:\n",
        "\n",
        "1. Se A for uma matriz inversa, a inversa de A também será invertível:\n",
        "\n",
        "$$ (A^{-1})^{-1} = A $$"
      ]
    },
    {
      "cell_type": "code",
      "metadata": {
        "id": "snuwjPDTACA6",
        "outputId": "07a96bed-1e4b-4d29-8bb6-5ea1ca39056b",
        "colab": {
          "base_uri": "https://localhost:8080/"
        }
      },
      "source": [
        "# Biblioteca de álgebra linear(matrizes)\n",
        "import numpy as np\n",
        "\n",
        "A = np.array(([1.,2.],[3.,4.]))\n",
        "\n",
        "#o retorno é falso por motivos de arredondamento\n",
        "print(inv(inv(A)) == A)"
      ],
      "execution_count": 60,
      "outputs": [
        {
          "output_type": "stream",
          "text": [
            "[[False False]\n",
            " [False False]]\n"
          ],
          "name": "stdout"
        }
      ]
    },
    {
      "cell_type": "markdown",
      "metadata": {
        "id": "c7ZXX4OvAI3p"
      },
      "source": [
        "2. Se A e B forem matrizes invertíveis, então AB também é invertível:\n",
        "\n",
        "$$ (AB^{-1})^{-1} = A^{-1} B^{-1} $$"
      ]
    },
    {
      "cell_type": "code",
      "metadata": {
        "id": "8OUYIRYSAL8t",
        "outputId": "df6515ab-c959-4904-97ea-f2318266a686",
        "colab": {
          "base_uri": "https://localhost:8080/"
        }
      },
      "source": [
        "# Biblioteca de álgebra linear(matrizes)\n",
        "import numpy as np\n",
        "\n",
        "A = np.array(([1.,2.],[3.,4.]))\n",
        "print(\"A=\")\n",
        "print(A)\n",
        "\n",
        "B = inv(A)\n",
        "print(\"B=\")\n",
        "print(B)\n",
        "\n",
        "C = inv(A.dot(B))\n",
        "print(\"C=\")\n",
        "print(C)\n",
        "\n",
        "D = inv(B).dot(inv(A))\n",
        "print(\"D=\")\n",
        "print(D)"
      ],
      "execution_count": 61,
      "outputs": [
        {
          "output_type": "stream",
          "text": [
            "A=\n",
            "[[1. 2.]\n",
            " [3. 4.]]\n",
            "B=\n",
            "[[-2.   1. ]\n",
            " [ 1.5 -0.5]]\n",
            "C=\n",
            "[[ 1.0000000e+00  0.0000000e+00]\n",
            " [-8.8817842e-16  1.0000000e+00]]\n",
            "D=\n",
            "[[1.00000000e+00 9.86076132e-32]\n",
            " [8.88178420e-16 1.00000000e+00]]\n"
          ],
          "name": "stdout"
        }
      ]
    },
    {
      "cell_type": "markdown",
      "metadata": {
        "id": "aaXNOVKEBLzv"
      },
      "source": [
        "3. Se A é uma matriz invertível, então a seguinte propriedade é válida:\n",
        "\n",
        "$$ (A^T)^{-1} = (A^{-1})^T $$"
      ]
    },
    {
      "cell_type": "code",
      "metadata": {
        "id": "67ZZcSEsBOhK",
        "outputId": "c17cfb5c-f579-4043-b65d-71ffaefbef41",
        "colab": {
          "base_uri": "https://localhost:8080/"
        }
      },
      "source": [
        "# Biblioteca de álgebra linear(matrizes)\n",
        "import numpy as np\n",
        "\n",
        "A = np.array(([1.,2.],[3.,4.]))\n",
        "print(A)\n",
        "\n",
        "B = inv(A.T)\n",
        "print(B)\n",
        "\n",
        "C = (inv(A)).T\n",
        "\n",
        "print(C)"
      ],
      "execution_count": 62,
      "outputs": [
        {
          "output_type": "stream",
          "text": [
            "[[1. 2.]\n",
            " [3. 4.]]\n",
            "[[-2.   1.5]\n",
            " [ 1.  -0.5]]\n",
            "[[-2.   1.5]\n",
            " [ 1.  -0.5]]\n"
          ],
          "name": "stdout"
        }
      ]
    },
    {
      "cell_type": "markdown",
      "metadata": {
        "id": "lG53W_7wCXSa"
      },
      "source": [
        "### Determinante de uma matriz\n",
        "\n",
        "Para explicar o que são determinantes de matrizes, iremos analisar o sistema de equações lineares abaixo:\n",
        "\n",
        "$$\\begin{cases}\n",
        "  a_{11}x_{1} & + & a_{12}x_{2} = b_{1} \\\\ \n",
        "  a_{21}x_{1} & + & a_{22}x_{2} = b_{2}\\\\ \n",
        "\\end{cases}$$\n",
        "\n",
        "\n",
        "Estamos à procura das incógnitas do sistema, x1 e x2. Para isso devemos isolar uma das variáveis e substituir na outra equação, ao final do processo iremos chegar em duas equações:\n",
        "\n",
        "$$ x_{1} = \\dfrac{b_{1} a_{22} - b_{2} a_{12}}{a_{11} a_{22} - a_{12} a_{21}} \n",
        "$$\n",
        "-\n",
        "$$\n",
        "x_{2} = \\dfrac{b_{2} a_{11} - b_{1} a_{21}}{a_{11} a_{22} - a_{12} a_{21}}\n",
        "$$\n",
        "\n",
        "Podemos notar que o denominador das equações x1 e x2 são os mesmos. Essas constantes que aparecem no denominador das matrizes são chamadas de determinantes de uma matriz. O determinante só pode ser calculado em uma matriz quadrada.\n",
        "\n",
        "**Calculando o determinante**\n",
        "\n",
        "A determinante de uma matriz 1x1, ou seja, de um escalar é o próprio escalar;\n",
        "A determinante de uma matriz 2x2 é a multiplicação dos elementos da diagonal principal subtraído pela multiplicação dos elementos da diagonal secundária;\n",
        "Para uma matriz 3x3, pode ser utilizado o método de Sarrus, exemplificado abaixo:Método de Sarrus\n",
        "Podemos utilizar outros teoremas para encontrar a determinante de uma matriz, como por exemplo o teorema de Laplace, decomposição LU, eliminação gaussiana, entre outros.\n",
        "\n",
        "A linguagem Python nos permite encontrar determinantes de matrizes através da função ´det()´."
      ]
    },
    {
      "cell_type": "markdown",
      "metadata": {
        "id": "bRS-VrHKr5o-"
      },
      "source": [
        "Exemplo 1"
      ]
    },
    {
      "cell_type": "code",
      "metadata": {
        "id": "wE-G3qYzr5o_",
        "outputId": "97c105a5-56d1-4e74-8a49-fb6820bb9aca",
        "colab": {
          "base_uri": "https://localhost:8080/"
        }
      },
      "source": [
        "# Biblioteca de álgebra linear(matrizes)\n",
        "import numpy as np\n",
        "from numpy.linalg import det\n",
        "\n",
        "# Declara a matriz\n",
        "A = np.array(([1,5],[2,3]))\n",
        "\n",
        "# Calcula o determinante\n",
        "det_A = det(A)\n",
        "\n",
        "# Mostra o determinante\n",
        "print(det_A)"
      ],
      "execution_count": 63,
      "outputs": [
        {
          "output_type": "stream",
          "text": [
            "-7.000000000000001\n"
          ],
          "name": "stdout"
        }
      ]
    },
    {
      "cell_type": "markdown",
      "metadata": {
        "id": "uc7KZLi7r1Cu"
      },
      "source": [
        "Exemplo 2"
      ]
    },
    {
      "cell_type": "code",
      "metadata": {
        "id": "4WqYqxNMCZmE",
        "outputId": "02a23445-43b5-4b16-83b5-f59568dcea65",
        "colab": {
          "base_uri": "https://localhost:8080/"
        }
      },
      "source": [
        "# Biblioteca de álgebra linear(matrizes)\n",
        "import numpy as np\n",
        "from numpy.linalg import det\n",
        "\n",
        "# Declara a matriz\n",
        "A = np.array(([1,2,4],[5,3,-1],[7,2,0]))\n",
        "\n",
        "# Calcula o determinante\n",
        "det_A = det(A)\n",
        "\n",
        "# Mostra o determinante\n",
        "print(det_A)"
      ],
      "execution_count": 64,
      "outputs": [
        {
          "output_type": "stream",
          "text": [
            "-56.00000000000002\n"
          ],
          "name": "stdout"
        }
      ]
    },
    {
      "cell_type": "markdown",
      "metadata": {
        "id": "yGB6JkMrr2aW"
      },
      "source": [
        "Exemplo 3"
      ]
    },
    {
      "cell_type": "code",
      "metadata": {
        "id": "cFDf4NmYC8S1",
        "outputId": "041c0719-6b7f-4d38-dd1e-1b3ac0a48e93",
        "colab": {
          "base_uri": "https://localhost:8080/"
        }
      },
      "source": [
        "# Biblioteca de álgebra linear(matrizes)\n",
        "import numpy as np\n",
        "from numpy.linalg import det\n",
        "\n",
        "# Declara a matriz\n",
        "A = np.array(([1,2,4,5,6,7],\n",
        "              [5,3,-1,5,1,2],\n",
        "              [7,2,0,1,4,9],\n",
        "              [1,2,1,5,6,5],\n",
        "              [-7,2,4,-1,6,6],\n",
        "              [0,2,5,5,9,7]))\n",
        "\n",
        "# Calcula o determinante\n",
        "det_A = det(A)\n",
        "\n",
        "# Mostra o determinante\n",
        "print(det_A)"
      ],
      "execution_count": 65,
      "outputs": [
        {
          "output_type": "stream",
          "text": [
            "8184.000000000006\n"
          ],
          "name": "stdout"
        }
      ]
    },
    {
      "cell_type": "markdown",
      "metadata": {
        "id": "tVaL4lKeqGP8"
      },
      "source": [
        "### Coseno Matriz"
      ]
    },
    {
      "cell_type": "code",
      "metadata": {
        "id": "FuN-hD-uqH9Z",
        "outputId": "ab7ddc88-954e-4767-c954-919d19c98d11",
        "colab": {
          "base_uri": "https://localhost:8080/"
        }
      },
      "source": [
        "# Biblioteca de álgebra linear(matrizes)\n",
        "import numpy as np\n",
        "from sklearn.metrics.pairwise import cosine_similarity\n",
        "\n",
        "# Declara as matrizes\n",
        "A = np.array([[0, 1], [2, 3]]) \n",
        "B = np.array([[3, 4], [5, 6]]) \n",
        "\n",
        "# Calcula a similaridade\n",
        "C = cosine_similarity(A,B) \n",
        "\n",
        "print('A>')\n",
        "print(A)\n",
        "print('B>')\n",
        "print(B)\n",
        "print('C>', C)\n",
        "\n",
        "# Declara uma matriz\n",
        "D = np.array([[0, 1], [4, 5]]) \n",
        "\n",
        "# Calcula a similaridade\n",
        "E = cosine_similarity(A,D) \n",
        "\n",
        "print('A>')\n",
        "print(A)\n",
        "print('D>')\n",
        "print(D)\n",
        "print('E>', E)"
      ],
      "execution_count": 66,
      "outputs": [
        {
          "output_type": "stream",
          "text": [
            "A>\n",
            "[[0 1]\n",
            " [2 3]]\n",
            "B>\n",
            "[[3 4]\n",
            " [5 6]]\n",
            "C> [[0.8        0.76822128]\n",
            " [0.99846035 0.99430915]]\n",
            "A>\n",
            "[[0 1]\n",
            " [2 3]]\n",
            "D>\n",
            "[[0 1]\n",
            " [4 5]]\n",
            "E> [[1.         0.78086881]\n",
            " [0.83205029 0.99624059]]\n"
          ],
          "name": "stdout"
        }
      ]
    }
  ]
}