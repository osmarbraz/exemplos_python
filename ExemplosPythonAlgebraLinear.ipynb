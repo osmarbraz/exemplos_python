{
  "nbformat": 4,
  "nbformat_minor": 0,
  "metadata": {
    "colab": {
      "name": "ExemplosPythonAlgebraLinear.ipynb",
      "provenance": [],
      "collapsed_sections": [],
      "toc_visible": true,
      "include_colab_link": true
    },
    "kernelspec": {
      "name": "python3",
      "display_name": "Python 3"
    }
  },
  "cells": [
    {
      "cell_type": "markdown",
      "metadata": {
        "id": "view-in-github",
        "colab_type": "text"
      },
      "source": [
        "<a href=\"https://colab.research.google.com/github/osmarbraz/exemplos_python/blob/master/ExemplosPythonAlgebraLinear.ipynb\" target=\"_parent\"><img src=\"https://colab.research.google.com/assets/colab-badge.svg\" alt=\"Open In Colab\"/></a>"
      ]
    },
    {
      "cell_type": "markdown",
      "metadata": {
        "id": "xY84ChCNzmQQ",
        "colab_type": "text"
      },
      "source": [
        "# Exemplos Vetores, Matrizes e Álgebra Linear em Python no Google Colaboratory\n",
        "\n",
        "Álgebra linear é um ramo da matemática que surgiu do estudo detalhado de sistemas de equações lineares, sejam elas algébricas ou diferenciais. A álgebra linear utiliza alguns conceitos e estruturas fundamentais da matemática como vetores, espaços vetoriais, transformações lineares, sistemas de equações lineares e matrizes.\n",
        "\n",
        "Exemplos:\n",
        "- Vetor padrão;\n",
        "- Matriz padrão;\n",
        "- Matriz com NumPy.\n",
        "\n",
        "-----------------------------------------\n",
        "**Guia Colab Iniciante:**\n",
        "\n",
        "https://medium.com/machina-sapiens/google-colab-guia-do-iniciante-334d70aad531\n",
        "\n",
        "**Documentação oficial:**\n",
        "\n",
        "https://colab.research.google.com/github/jakevdp/PythonDataScienceHandbook/blob/master/notebooks/01.01-Help-And-Documentation.ipynb\n",
        "\n",
        "**Características :**\n",
        "\n",
        "https://colab.research.google.com/notebooks/basic_features_overview.ipynb"
      ]
    },
    {
      "cell_type": "markdown",
      "metadata": {
        "id": "kgOIbiH4rUJN",
        "colab_type": "text"
      },
      "source": [
        "# Vetor Padrão"
      ]
    },
    {
      "cell_type": "markdown",
      "metadata": {
        "id": "2Z9DwoEkfwWv",
        "colab_type": "text"
      },
      "source": [
        "Inicialização vetor"
      ]
    },
    {
      "cell_type": "code",
      "metadata": {
        "id": "qN4-4Ui5gMkD",
        "colab_type": "code",
        "colab": {
          "base_uri": "https://localhost:8080/",
          "height": 34
        },
        "outputId": "ffe4b588-67b9-4a37-bfb5-5b7a6d66d399"
      },
      "source": [
        "A = [1,2,3]\n",
        "\n",
        "print(A)"
      ],
      "execution_count": null,
      "outputs": [
        {
          "output_type": "stream",
          "text": [
            "[1, 2, 3]\n"
          ],
          "name": "stdout"
        }
      ]
    },
    {
      "cell_type": "markdown",
      "metadata": {
        "id": "UcJPJi63f3i7",
        "colab_type": "text"
      },
      "source": [
        "Mutiplicando vetor por constante"
      ]
    },
    {
      "cell_type": "code",
      "metadata": {
        "id": "akMlhWM6cVTj",
        "colab_type": "code",
        "colab": {
          "base_uri": "https://localhost:8080/",
          "height": 51
        },
        "outputId": "94461c23-eda2-44fe-982f-afa17f5cea31"
      },
      "source": [
        "A = [1, 2]\n",
        "\n",
        "B = A *  3\n",
        "\n",
        "print(A)\n",
        "print('A * 3 = ' + str(B))"
      ],
      "execution_count": null,
      "outputs": [
        {
          "output_type": "stream",
          "text": [
            "[1, 2]\n",
            "A * 3 = [1, 2, 1, 2, 1, 2]\n"
          ],
          "name": "stdout"
        }
      ]
    },
    {
      "cell_type": "markdown",
      "metadata": {
        "id": "OFpN7AeXt_88",
        "colab_type": "text"
      },
      "source": [
        "# Matriz Padrão"
      ]
    },
    {
      "cell_type": "markdown",
      "metadata": {
        "id": "K2cG6rK1fztl",
        "colab_type": "text"
      },
      "source": [
        "Inicialização matriz"
      ]
    },
    {
      "cell_type": "code",
      "metadata": {
        "id": "-xau9q9mgESC",
        "colab_type": "code",
        "colab": {
          "base_uri": "https://localhost:8080/",
          "height": 34
        },
        "outputId": "0340d203-553d-4df3-8148-0011440e60c6"
      },
      "source": [
        "A = [[1,2,3],[4,5,6],[7,8,9]]\n",
        "\n",
        "print(A)"
      ],
      "execution_count": null,
      "outputs": [
        {
          "output_type": "stream",
          "text": [
            "[[1, 2, 3], [4, 5, 6], [7, 8, 9]]\n"
          ],
          "name": "stdout"
        }
      ]
    },
    {
      "cell_type": "markdown",
      "metadata": {
        "id": "HiGqlWXagg36",
        "colab_type": "text"
      },
      "source": [
        "Mutiplicando matriz por constante"
      ]
    },
    {
      "cell_type": "code",
      "metadata": {
        "id": "JmEZuzfmh3RT",
        "colab_type": "code",
        "colab": {
          "base_uri": "https://localhost:8080/",
          "height": 51
        },
        "outputId": "448900a8-58ef-4a84-d7ad-92f540844c11"
      },
      "source": [
        "A = [[1,2],[3,4]]\n",
        "\n",
        "B = A * 3\n",
        "\n",
        "print(A)\n",
        "print('A * 3 = ' + str(B))"
      ],
      "execution_count": null,
      "outputs": [
        {
          "output_type": "stream",
          "text": [
            "[[1, 2], [3, 4]]\n",
            "A * 3 = [[1, 2], [3, 4], [1, 2], [3, 4], [1, 2], [3, 4]]\n"
          ],
          "name": "stdout"
        }
      ]
    },
    {
      "cell_type": "markdown",
      "metadata": {
        "id": "NmMnkrB_gnsb",
        "colab_type": "text"
      },
      "source": [
        "Mutiplicando elementos do vetor por constante"
      ]
    },
    {
      "cell_type": "code",
      "metadata": {
        "id": "0wDYognJcHGu",
        "colab_type": "code",
        "colab": {
          "base_uri": "https://localhost:8080/",
          "height": 51
        },
        "outputId": "51323eaa-a11b-4893-dffe-caa72f12d78c"
      },
      "source": [
        "A = [1 , 2]\n",
        "B = [i * 3.0 for i in A]\n",
        "\n",
        "print(A)\n",
        "print('A * 3 = ' + str(B))"
      ],
      "execution_count": null,
      "outputs": [
        {
          "output_type": "stream",
          "text": [
            "[1, 2]\n",
            "A * 3 = [3.0, 6.0]\n"
          ],
          "name": "stdout"
        }
      ]
    },
    {
      "cell_type": "markdown",
      "metadata": {
        "id": "Dgb8PDzIgdDf",
        "colab_type": "text"
      },
      "source": [
        "# Matriz com NumPy\n",
        "\n",
        "É um pacote para linguagem Python que possibilita realizar diversas operação com vetores e matrizes de forma rápida e eficiente.\n",
        "\n",
        "http://www.estruturas.ufpr.br/disciplinas/pos-graduacao/introducao-a-computacao-cientifica-com-python/introducao-python/2-2-operacoes-numericas-com-arrays/"
      ]
    },
    {
      "cell_type": "markdown",
      "metadata": {
        "id": "pfNJKL7OuOd8",
        "colab_type": "text"
      },
      "source": [
        "## Escalar\n",
        "\n",
        "São variáveis que aceitam apenas um valor específico, esse valor pode ser um número inteiro, real, natural ou complexo."
      ]
    },
    {
      "cell_type": "code",
      "metadata": {
        "id": "uxyU5Bs7uPur",
        "colab_type": "code",
        "colab": {}
      },
      "source": [
        "#escalar que representa a tempetarura em graus Celsius\n",
        "Temperatura = 33 \n",
        "#escalar que representa a velocidade instantânea em m/s\n",
        "Velocidade = 100 \n",
        "#escalar que representa um valor monetário em R$ de um salário\n",
        "salario = 1500.00 "
      ],
      "execution_count": null,
      "outputs": []
    },
    {
      "cell_type": "markdown",
      "metadata": {
        "id": "dhJchd6vug09",
        "colab_type": "text"
      },
      "source": [
        "## Vetor\n",
        "\n",
        "Podem ser vistos como uma coleção de escalares, utilizados para representar dimensões mais elevadas."
      ]
    },
    {
      "cell_type": "markdown",
      "metadata": {
        "id": "dpcCiXJnpXy-",
        "colab_type": "text"
      },
      "source": [
        "Declaração"
      ]
    },
    {
      "cell_type": "code",
      "metadata": {
        "id": "lMB3adY6umeD",
        "colab_type": "code",
        "colab": {
          "base_uri": "https://localhost:8080/",
          "height": 34
        },
        "outputId": "5e582ba2-0eb6-4889-fbac-49ca7bd89352"
      },
      "source": [
        "import numpy as np\n",
        "\n",
        "#vetor com duas dimensões\n",
        "VT = np.array([27, 37]) \n",
        "\n",
        "#vetor com três dimensões\n",
        "VV = np.array([20, 15, 100]) \n",
        "\n",
        "#vetor com quatro dimensões\n",
        "VM = np.array([100, 205, 777, 111]) \n",
        "\n",
        "type(VM)"
      ],
      "execution_count": null,
      "outputs": [
        {
          "output_type": "execute_result",
          "data": {
            "text/plain": [
              "numpy.ndarray"
            ]
          },
          "metadata": {
            "tags": []
          },
          "execution_count": 7
        }
      ]
    },
    {
      "cell_type": "markdown",
      "metadata": {
        "id": "xs4QJSlBpcX4",
        "colab_type": "text"
      },
      "source": [
        "Declaração e conversão com numpy"
      ]
    },
    {
      "cell_type": "code",
      "metadata": {
        "id": "N3op2mPcge4K",
        "colab_type": "code",
        "colab": {
          "base_uri": "https://localhost:8080/",
          "height": 85
        },
        "outputId": "ca286558-d3a9-4002-868e-795228547cdf"
      },
      "source": [
        "#biblioteca de álgebra linear(matrizes)\n",
        "import numpy as np\n",
        "\n",
        "A = [[1,2],[3,4]]\n",
        "B = [[1],[2]]\n",
        "\n",
        "print (np.matrix(A))\n",
        "print\n",
        "print (np.matrix(B))"
      ],
      "execution_count": null,
      "outputs": [
        {
          "output_type": "stream",
          "text": [
            "[[1 2]\n",
            " [3 4]]\n",
            "[[1]\n",
            " [2]]\n"
          ],
          "name": "stdout"
        }
      ]
    },
    {
      "cell_type": "markdown",
      "metadata": {
        "id": "UVIgdbh9kyXj",
        "colab_type": "text"
      },
      "source": [
        "Somando elementos de 1 vetor."
      ]
    },
    {
      "cell_type": "code",
      "metadata": {
        "id": "d1N6C2q_jZW0",
        "colab_type": "code",
        "colab": {
          "base_uri": "https://localhost:8080/",
          "height": 51
        },
        "outputId": "8231c4c3-154d-412c-a5fa-bdf89796d52c"
      },
      "source": [
        "#biblioteca de álgebra linear(matrizes)\n",
        "import numpy as np\n",
        "\n",
        "A = np.array([0, 1])\n",
        "\n",
        "B = np.sum(A)\n",
        "\n",
        "print(A)\n",
        "print(B)"
      ],
      "execution_count": null,
      "outputs": [
        {
          "output_type": "stream",
          "text": [
            "[0 1]\n",
            "1\n"
          ],
          "name": "stdout"
        }
      ]
    },
    {
      "cell_type": "markdown",
      "metadata": {
        "id": "NzqQKxyH0nHe",
        "colab_type": "text"
      },
      "source": [
        "## Operações com vetores e escalares"
      ]
    },
    {
      "cell_type": "markdown",
      "metadata": {
        "id": "9N4VK2Kp0x3X",
        "colab_type": "text"
      },
      "source": [
        "Adição de escalar em um vetor"
      ]
    },
    {
      "cell_type": "code",
      "metadata": {
        "id": "knpT4sty04Mp",
        "colab_type": "code",
        "colab": {
          "base_uri": "https://localhost:8080/",
          "height": 51
        },
        "outputId": "b682afad-69a3-48a3-98d2-90267d58aa0d"
      },
      "source": [
        "#biblioteca de álgebra linear(matrizes)\n",
        "import numpy as np\n",
        "\n",
        "A = np.array([10, 20, 30])\n",
        "\n",
        "print(A)\n",
        "\n",
        "#Adiciona o escalar 2 a cada elemento do vetor A gerando o vetor B\n",
        "B = A + 2\n",
        "\n",
        "print(np.matrix(B))"
      ],
      "execution_count": null,
      "outputs": [
        {
          "output_type": "stream",
          "text": [
            "[10 20 30]\n",
            "[[12 22 32]]\n"
          ],
          "name": "stdout"
        }
      ]
    },
    {
      "cell_type": "markdown",
      "metadata": {
        "id": "qKEoaVjrkiWK",
        "colab_type": "text"
      },
      "source": [
        "Multiplicação de vetores por escalar."
      ]
    },
    {
      "cell_type": "code",
      "metadata": {
        "id": "xJt7sbWRcc68",
        "colab_type": "code",
        "colab": {
          "base_uri": "https://localhost:8080/",
          "height": 51
        },
        "outputId": "02a2b851-af0f-4e04-bd24-5a916bb0e32f"
      },
      "source": [
        "#biblioteca de álgebra linear(matrizes)\n",
        "import numpy as np\n",
        "\n",
        "A = np.array([10, 20, 30])\n",
        "\n",
        "print(A)\n",
        "\n",
        "#Multiplica o escalar 3 a cada elemento do vetor A gerando o vetor B\n",
        "B = A *  3\n",
        "\n",
        "print(np.matrix(B))"
      ],
      "execution_count": null,
      "outputs": [
        {
          "output_type": "stream",
          "text": [
            "[10 20 30]\n",
            "[[30 60 90]]\n"
          ],
          "name": "stdout"
        }
      ]
    },
    {
      "cell_type": "markdown",
      "metadata": {
        "id": "3jwDCsOu1PrA",
        "colab_type": "text"
      },
      "source": [
        "## Operações entre vetores"
      ]
    },
    {
      "cell_type": "markdown",
      "metadata": {
        "id": "Sbn6A2J81zVX",
        "colab_type": "text"
      },
      "source": [
        "Somando dois vetores"
      ]
    },
    {
      "cell_type": "code",
      "metadata": {
        "id": "WNb5xFpM1zq5",
        "colab_type": "code",
        "colab": {
          "base_uri": "https://localhost:8080/",
          "height": 34
        },
        "outputId": "d438d970-b17e-4199-aa54-315299ee0880"
      },
      "source": [
        "#biblioteca de álgebra linear(matrizes)\n",
        "import numpy as np\n",
        "\n",
        "A = np.array([1, 2, 3])\n",
        "B = np.array([3, 4, 5])\n",
        "\n",
        "#soma o vetor A com o vetor B\n",
        "C = A + B\n",
        "\n",
        "print(C)"
      ],
      "execution_count": null,
      "outputs": [
        {
          "output_type": "stream",
          "text": [
            "[4 6 8]\n"
          ],
          "name": "stdout"
        }
      ]
    },
    {
      "cell_type": "markdown",
      "metadata": {
        "id": "0-8lH_U-156Q",
        "colab_type": "text"
      },
      "source": [
        "Produto de dois vetores"
      ]
    },
    {
      "cell_type": "code",
      "metadata": {
        "id": "H4caH9Gd1Siw",
        "colab_type": "code",
        "colab": {
          "base_uri": "https://localhost:8080/",
          "height": 34
        },
        "outputId": "b82f90fc-5e3e-4087-c0c6-8217b6724365"
      },
      "source": [
        "#biblioteca de álgebra linear(matrizes)\n",
        "import numpy as np\n",
        "\n",
        "A = np.array([1, 2, 3])\n",
        "B = np.array([3, 4, 5])\n",
        "\n",
        "#multiplica o vetor A pelo vetor B\n",
        "C= A * B\n",
        "\n",
        "print(C)"
      ],
      "execution_count": null,
      "outputs": [
        {
          "output_type": "stream",
          "text": [
            "[ 3  8 15]\n"
          ],
          "name": "stdout"
        }
      ]
    },
    {
      "cell_type": "markdown",
      "metadata": {
        "id": "Isaq1YaSlMYq",
        "colab_type": "text"
      },
      "source": [
        "Somando dois vetores."
      ]
    },
    {
      "cell_type": "code",
      "metadata": {
        "id": "fR6ZxVfUjfzg",
        "colab_type": "code",
        "colab": {
          "base_uri": "https://localhost:8080/",
          "height": 68
        },
        "outputId": "b297b4ba-5eef-4809-81ae-1d6e641d7875"
      },
      "source": [
        "#biblioteca de álgebra linear(matrizes)\n",
        "import numpy as np\n",
        "\n",
        "A = np.array([0,1])\n",
        "B = np.array([2,3]) \n",
        "\n",
        "C = np.sum(A + B)\n",
        "\n",
        "print(A)\n",
        "print(B)\n",
        "print(C)"
      ],
      "execution_count": null,
      "outputs": [
        {
          "output_type": "stream",
          "text": [
            "[0 1]\n",
            "[2 3]\n",
            "6\n"
          ],
          "name": "stdout"
        }
      ]
    },
    {
      "cell_type": "markdown",
      "metadata": {
        "id": "uA2wjET9vHQF",
        "colab_type": "text"
      },
      "source": [
        "## Matriz\n",
        "\n",
        "Permitem representar uma coleção de vetores. Os elementos das matrizes podem ser números reais, complexos, expressões algébricas ou funções. Chamamos de diagonal principal os elementos onde i=m.\n",
        "\n",
        "$$\n",
        "A = \\begin{bmatrix}\n",
        "a_{11} & a_{12} & a_{13} & \\cdots & a_{1n} \\\\\n",
        "a_{21} & a_{22} & a_{23} & \\cdots & a_{2n} \\\\\n",
        "a_{31} & a_{32} & a_{33} & \\cdots & a_{3n} \\\\\n",
        "\\vdots & \\vdots & \\vdots & \\ddots & \\vdots \\\\\n",
        "a_{m1} & a_{m2} & a_{m3} & \\cdots & a_{mn}\n",
        "\\end{bmatrix}\n",
        "$$\n"
      ]
    },
    {
      "cell_type": "markdown",
      "metadata": {
        "id": "xXRSc5zW0YHv",
        "colab_type": "text"
      },
      "source": [
        "### Declaração de Matriz"
      ]
    },
    {
      "cell_type": "markdown",
      "metadata": {
        "id": "wimuQIz5v6SX",
        "colab_type": "text"
      },
      "source": [
        "Declarando uma matriz 1\n"
      ]
    },
    {
      "cell_type": "code",
      "metadata": {
        "id": "WieIvtENv82M",
        "colab_type": "code",
        "colab": {
          "base_uri": "https://localhost:8080/",
          "height": 51
        },
        "outputId": "6c3f5f34-673d-4f0d-9122-b9764a9b0ced"
      },
      "source": [
        "#biblioteca de álgebra linear(matrizes)\n",
        "import numpy as np\n",
        "\n",
        "A = np.array([[0,1],[2,3]])\n",
        "\n",
        "print(A)"
      ],
      "execution_count": null,
      "outputs": [
        {
          "output_type": "stream",
          "text": [
            "[[0 1]\n",
            " [2 3]]\n"
          ],
          "name": "stdout"
        }
      ]
    },
    {
      "cell_type": "markdown",
      "metadata": {
        "colab_type": "text",
        "id": "3l9Y9miXwF_R"
      },
      "source": [
        "Declarando uma matriz 2\n",
        "\n",
        "Outra forma de representar uma matriz seria através do método np.matrix().\n"
      ]
    },
    {
      "cell_type": "code",
      "metadata": {
        "colab_type": "code",
        "id": "cwC8kyPVwF_T",
        "colab": {
          "base_uri": "https://localhost:8080/",
          "height": 51
        },
        "outputId": "7eff2cd6-04aa-4767-c36d-b905b9174590"
      },
      "source": [
        "#biblioteca de álgebra linear(matrizes)\n",
        "import numpy as np\n",
        "\n",
        "A = np.matrix([[0,1],[2,3]])\n",
        "\n",
        "print(A)"
      ],
      "execution_count": null,
      "outputs": [
        {
          "output_type": "stream",
          "text": [
            "[[0 1]\n",
            " [2 3]]\n"
          ],
          "name": "stdout"
        }
      ]
    },
    {
      "cell_type": "markdown",
      "metadata": {
        "id": "y7q3C_7UwSdT",
        "colab_type": "text"
      },
      "source": [
        "Tipo da matriz"
      ]
    },
    {
      "cell_type": "code",
      "metadata": {
        "id": "bVfOpPt-wTp1",
        "colab_type": "code",
        "colab": {
          "base_uri": "https://localhost:8080/",
          "height": 34
        },
        "outputId": "2ab6ff5b-8927-4f65-ddf5-620fbce2d413"
      },
      "source": [
        "print(type(A))"
      ],
      "execution_count": null,
      "outputs": [
        {
          "output_type": "stream",
          "text": [
            "<class 'numpy.matrix'>\n"
          ],
          "name": "stdout"
        }
      ]
    },
    {
      "cell_type": "markdown",
      "metadata": {
        "id": "7b-6lnwOBviV",
        "colab_type": "text"
      },
      "source": [
        "### Manipulando a matriz"
      ]
    },
    {
      "cell_type": "markdown",
      "metadata": {
        "id": "8r2phIo4B5SV",
        "colab_type": "text"
      },
      "source": [
        "acessando um elemento da matriz"
      ]
    },
    {
      "cell_type": "code",
      "metadata": {
        "id": "J3E54bgBBxit",
        "colab_type": "code",
        "colab": {
          "base_uri": "https://localhost:8080/",
          "height": 34
        },
        "outputId": "e45a25cc-4a2f-4ace-f902-18b083ed4844"
      },
      "source": [
        "#biblioteca de álgebra linear(matrizes)\n",
        "import numpy as np\n",
        "\n",
        "A = np.matrix([[0,1],[2,3]])\n",
        "\n",
        "a11 = A[0,0]\n",
        "\n",
        "print(a11)"
      ],
      "execution_count": null,
      "outputs": [
        {
          "output_type": "stream",
          "text": [
            "0\n"
          ],
          "name": "stdout"
        }
      ]
    },
    {
      "cell_type": "markdown",
      "metadata": {
        "id": "RcxC8B-YB_9F",
        "colab_type": "text"
      },
      "source": [
        "Retornando a primeira linha\n"
      ]
    },
    {
      "cell_type": "code",
      "metadata": {
        "id": "OKSygt0sCAdF",
        "colab_type": "code",
        "colab": {
          "base_uri": "https://localhost:8080/",
          "height": 34
        },
        "outputId": "08b3292a-1cc7-4307-ddd3-70a582d822a7"
      },
      "source": [
        "#biblioteca de álgebra linear(matrizes)\n",
        "import numpy as np\n",
        "\n",
        "A = np.matrix([[0,1],[2,3]])\n",
        "\n",
        "A1n = A[0,:]\n",
        "\n",
        "print(A1n)"
      ],
      "execution_count": null,
      "outputs": [
        {
          "output_type": "stream",
          "text": [
            "[[0 1]]\n"
          ],
          "name": "stdout"
        }
      ]
    },
    {
      "cell_type": "markdown",
      "metadata": {
        "id": "frdpiaJ-CC78",
        "colab_type": "text"
      },
      "source": [
        " Retornando a segunda coluna"
      ]
    },
    {
      "cell_type": "code",
      "metadata": {
        "id": "-TWq4uylCDXZ",
        "colab_type": "code",
        "colab": {
          "base_uri": "https://localhost:8080/",
          "height": 51
        },
        "outputId": "2e231840-705c-4ace-b3a5-2489b4081934"
      },
      "source": [
        "#biblioteca de álgebra linear(matrizes)\n",
        "import numpy as np\n",
        "\n",
        "A = np.matrix([[0,1],[2,3]])\n",
        "\n",
        "Am2 = A[:,1]\n",
        "\n",
        "print(Am2)"
      ],
      "execution_count": null,
      "outputs": [
        {
          "output_type": "stream",
          "text": [
            "[[1]\n",
            " [3]]\n"
          ],
          "name": "stdout"
        }
      ]
    },
    {
      "cell_type": "markdown",
      "metadata": {
        "id": "3OS1hkyUwjHk",
        "colab_type": "text"
      },
      "source": [
        "### Matriz quadrada\n",
        "\n",
        "Uma matriz é considerada quadrada quando o número de linhas for igual ao número de columas, ou seja, m=n."
      ]
    },
    {
      "cell_type": "code",
      "metadata": {
        "id": "i2DGQolXwkhN",
        "colab_type": "code",
        "colab": {
          "base_uri": "https://localhost:8080/",
          "height": 51
        },
        "outputId": "9e415f3d-32d8-4a40-82fd-0fb86f5216ae"
      },
      "source": [
        "#biblioteca de álgebra linear(matrizes)\n",
        "import numpy as np\n",
        "\n",
        "A = np.array([[0, 1], [2, 3]]) \n",
        "\n",
        "print(A)"
      ],
      "execution_count": null,
      "outputs": [
        {
          "output_type": "stream",
          "text": [
            "[[0 1]\n",
            " [2 3]]\n"
          ],
          "name": "stdout"
        }
      ]
    },
    {
      "cell_type": "markdown",
      "metadata": {
        "id": "rLfYk8bKwuUT",
        "colab_type": "text"
      },
      "source": [
        "### Matriz diagonal\n",
        "\n",
        "Uma matriz quadrada é considerada diagonal quando todos os elementos fora da diagonal principal forem nulos, ou seja, ij = 0 para todo i!=j.\n",
        "Podemos representar uma matriz diagonal em python utilizando o método diag()."
      ]
    },
    {
      "cell_type": "code",
      "metadata": {
        "id": "x9WA_T8Qwy8_",
        "colab_type": "code",
        "colab": {
          "base_uri": "https://localhost:8080/",
          "height": 102
        },
        "outputId": "3b7dd8d6-9caf-4223-96ce-0b6e12a24bf0"
      },
      "source": [
        "#biblioteca de álgebra linear(matrizes)\n",
        "import numpy as np\n",
        "\n",
        "A = np.diag([10, 20, 30, 40, 50])\n",
        "\n",
        "print(A)"
      ],
      "execution_count": null,
      "outputs": [
        {
          "output_type": "stream",
          "text": [
            "[[10  0  0  0  0]\n",
            " [ 0 20  0  0  0]\n",
            " [ 0  0 30  0  0]\n",
            " [ 0  0  0 40  0]\n",
            " [ 0  0  0  0 50]]\n"
          ],
          "name": "stdout"
        }
      ]
    },
    {
      "cell_type": "markdown",
      "metadata": {
        "id": "ch-E2vgMxAV1",
        "colab_type": "text"
      },
      "source": [
        "### Matriz triangular(superior e inferior)\n",
        "\n",
        "Uma matriz é considerada **triangular superior** se amn = 0 quando m > n, ou seja, quandos os elementos abaixo da diagonal principal forem iguais a zero.\n",
        "\n",
        "$$\n",
        "A = \\begin{bmatrix}\n",
        "a_{11} & a_{12} & a_{13} & a_{14}  & \\cdots & a_{1n} \\\\\n",
        "0 & a_{22} & a_{23} & a_{24} & \\cdots & a_{2n} \\\\\n",
        "0 & 0 & a_{33} & a_{34} & \\cdots & a_{3n} \\\\\n",
        "0 & 0 & 0 & a_{44} &\\cdots & a_{4n} \\\\\n",
        "\\vdots & \\vdots &a \\vdots & \\vdots & \\ddots & \\vdots \\\\\n",
        "0 & 0 & 0 & 0 & \\cdots & a_{nn}\n",
        "\\end{bmatrix}\n",
        "$$\n",
        "\n",
        "\n",
        "ma matriz é considerada **triangular inferior** se amn = 0 quando m < n, ou seja, quandos os elementos acima da diagonal principal forem iguais a zero.\n",
        "\n",
        "$$\n",
        "A = \\begin{bmatrix}\n",
        "a_{11} & 0 & 0 & 0  & \\cdots & 0 \\\\\n",
        "a_{21} & a_{22} & 0 & 0 & \\cdots & 0 \\\\\n",
        "a_{31} & a_{32} & a_{33} & 0 & \\cdots & 0 \\\\\n",
        "a_{41} & a_{42} & a_{43} & a_{44} &\\cdots & 0 \\\\\n",
        "\\vdots & \\vdots & \\vdots & \\vdots & \\ddots & \\vdots \\\\\n",
        "a_{n1} & a_{n2} & a_{n3} & a_{n4} & \\cdots & a_{nn}\n",
        "\\end{bmatrix}\n",
        "$$"
      ]
    },
    {
      "cell_type": "code",
      "metadata": {
        "id": "f05IOOMUxdke",
        "colab_type": "code",
        "colab": {}
      },
      "source": [
        ""
      ],
      "execution_count": null,
      "outputs": []
    },
    {
      "cell_type": "markdown",
      "metadata": {
        "id": "IW-OhhAGxhn-",
        "colab_type": "text"
      },
      "source": [
        "### Matriz linha\n",
        "\n",
        "Podemos representar uma matriz linha por:"
      ]
    },
    {
      "cell_type": "code",
      "metadata": {
        "id": "5VSHbFr8xkj2",
        "colab_type": "code",
        "colab": {
          "base_uri": "https://localhost:8080/",
          "height": 34
        },
        "outputId": "d174a44f-025d-4579-facc-58314be9ac1b"
      },
      "source": [
        "#biblioteca de álgebra linear(matrizes)\n",
        "import numpy as np\n",
        "\n",
        "#Utilizando um conjunto a mais de colchetes ou parênteses\n",
        "A = np.array([[10, 20, 30, -40]]) \n",
        "\n",
        "print(A)"
      ],
      "execution_count": null,
      "outputs": [
        {
          "output_type": "stream",
          "text": [
            "[[ 10  20  30 -40]]\n"
          ],
          "name": "stdout"
        }
      ]
    },
    {
      "cell_type": "markdown",
      "metadata": {
        "id": "WzkCZ6T9xvWW",
        "colab_type": "text"
      },
      "source": [
        "### Matriz coluna\n",
        "\n",
        "Podemos representar uma matriz coluna por:"
      ]
    },
    {
      "cell_type": "code",
      "metadata": {
        "id": "qPuRPCaEx_49",
        "colab_type": "code",
        "colab": {
          "base_uri": "https://localhost:8080/",
          "height": 85
        },
        "outputId": "b664956f-ef71-4f52-94d0-b8ec90babe5e"
      },
      "source": [
        "#biblioteca de álgebra linear(matrizes)\n",
        "import numpy as np\n",
        "\n",
        "A = np.array([[10],[20],[30],[40]])\n",
        "\n",
        "print(A)"
      ],
      "execution_count": null,
      "outputs": [
        {
          "output_type": "stream",
          "text": [
            "[[10]\n",
            " [20]\n",
            " [30]\n",
            " [40]]\n"
          ],
          "name": "stdout"
        }
      ]
    },
    {
      "cell_type": "markdown",
      "metadata": {
        "id": "3DtjWx04yKqg",
        "colab_type": "text"
      },
      "source": [
        "Pode ser obtido a matriz coluna A obtendo a transposta da matriz linha B."
      ]
    },
    {
      "cell_type": "code",
      "metadata": {
        "id": "5PyQYeOSyQnH",
        "colab_type": "code",
        "colab": {
          "base_uri": "https://localhost:8080/",
          "height": 102
        },
        "outputId": "a50087a1-3c9b-4a76-cdc7-b82a5457bb77"
      },
      "source": [
        "#biblioteca de álgebra linear(matrizes)\n",
        "import numpy as np\n",
        "\n",
        "#Utilizando um conjunto a mais de colchetes ou parênteses\n",
        "B = np.array([[10, 20, 30, -40]]) \n",
        "\n",
        "print(B)\n",
        "\n",
        "A = np.transpose(B)\n",
        "\n",
        "print(A)"
      ],
      "execution_count": null,
      "outputs": [
        {
          "output_type": "stream",
          "text": [
            "[[ 10  20  30 -40]]\n",
            "[[ 10]\n",
            " [ 20]\n",
            " [ 30]\n",
            " [-40]]\n"
          ],
          "name": "stdout"
        }
      ]
    },
    {
      "cell_type": "markdown",
      "metadata": {
        "id": "E-EWwlFFyZY-",
        "colab_type": "text"
      },
      "source": [
        "### Matriz nula\n",
        "\n",
        "É considerada nula se e somente se todos os seus elementos forem iguais a zero. Podemos definir uma matriz nula em python utilizando a função np.zeros passando a dimensão que desejamos."
      ]
    },
    {
      "cell_type": "code",
      "metadata": {
        "id": "Is5sEJQHyc33",
        "colab_type": "code",
        "colab": {
          "base_uri": "https://localhost:8080/",
          "height": 51
        },
        "outputId": "bbf94c57-9f2c-4c20-e243-8400703e6894"
      },
      "source": [
        "#biblioteca de álgebra linear(matrizes)\n",
        "import numpy as np\n",
        "\n",
        "A = np.zeros([2,2])\n",
        "\n",
        "print(A)"
      ],
      "execution_count": null,
      "outputs": [
        {
          "output_type": "stream",
          "text": [
            "[[0. 0.]\n",
            " [0. 0.]]\n"
          ],
          "name": "stdout"
        }
      ]
    },
    {
      "cell_type": "markdown",
      "metadata": {
        "id": "UElDhbzoyjYf",
        "colab_type": "text"
      },
      "source": [
        "### Matriz identidade\n",
        "\n",
        "Uma matriz identidade é aquela na qual a diagonal principal possui todos os valores iguais a 1 e os demais valores iguais a zero. A matriz identidade é muito utilizada na resolução de sistemas de equações lineares. No python podemos representar uma matriz identidade através da função np.identity() passando como argumento a dimensão desejada."
      ]
    },
    {
      "cell_type": "code",
      "metadata": {
        "id": "Q1N-XYGqylOM",
        "colab_type": "code",
        "colab": {
          "base_uri": "https://localhost:8080/",
          "height": 102
        },
        "outputId": "a4466748-e443-410a-cf1f-2b56c3df2c2b"
      },
      "source": [
        "#biblioteca de álgebra linear(matrizes)\n",
        "import numpy as np\n",
        "\n",
        "ID = np.identity(5)\n",
        "\n",
        "print(ID)"
      ],
      "execution_count": null,
      "outputs": [
        {
          "output_type": "stream",
          "text": [
            "[[1. 0. 0. 0. 0.]\n",
            " [0. 1. 0. 0. 0.]\n",
            " [0. 0. 1. 0. 0.]\n",
            " [0. 0. 0. 1. 0.]\n",
            " [0. 0. 0. 0. 1.]]\n"
          ],
          "name": "stdout"
        }
      ]
    },
    {
      "cell_type": "markdown",
      "metadata": {
        "id": "xbLBJcBHytC_",
        "colab_type": "text"
      },
      "source": [
        "### Matriz transposta\n",
        "\n",
        "A matriz transposta é uma matriz obtida através da troca ordenada de linhas por colunas de uma dada matriz, essa operação pode ser realizada utilizando a função np.transpose. A transposição não altera a diagonal principal de uma matriz quadrada.\n",
        "\n",
        "Propriedades:\n",
        "\n",
        "1. $ (A^T)^T = A $\n",
        "2. $ (A + B)^T = A^T + B^T $\n",
        "3. $ (cA)^T = cA^T $\n",
        "4. $ (AB)^T = A^T B^T  $"
      ]
    },
    {
      "cell_type": "code",
      "metadata": {
        "id": "5jmo7lM1yuqE",
        "colab_type": "code",
        "colab": {
          "base_uri": "https://localhost:8080/",
          "height": 102
        },
        "outputId": "f5404e69-40ad-4bfc-e329-2896802ce6ae"
      },
      "source": [
        "#biblioteca de álgebra linear(matrizes)\n",
        "import numpy as np\n",
        "\n",
        "A = np.array([[10,20,30],[40,50,60]])\n",
        "\n",
        "#mostra a matriz\n",
        "print(A)\n",
        "\n",
        "#Gera a transposta de A\n",
        "At = np.transpose(A)\n",
        "\n",
        "#mostra transposta\n",
        "print(At)"
      ],
      "execution_count": null,
      "outputs": [
        {
          "output_type": "stream",
          "text": [
            "[[10 20 30]\n",
            " [40 50 60]]\n",
            "[[10 40]\n",
            " [20 50]\n",
            " [30 60]]\n"
          ],
          "name": "stdout"
        }
      ]
    },
    {
      "cell_type": "markdown",
      "metadata": {
        "id": "53_8dRe3zGMo",
        "colab_type": "text"
      },
      "source": [
        "A matriz transposta também pode ser obtidade através do método .T."
      ]
    },
    {
      "cell_type": "code",
      "metadata": {
        "id": "U7AU0MEWzHoF",
        "colab_type": "code",
        "colab": {
          "base_uri": "https://localhost:8080/",
          "height": 102
        },
        "outputId": "a7845a53-3f0c-490c-a211-7c4796c9f1e5"
      },
      "source": [
        "#biblioteca de álgebra linear(matrizes)\n",
        "import numpy as np\n",
        "\n",
        "A = np.array([[10,20,30],[40,50,60]])\n",
        "\n",
        "#mostra a matriz\n",
        "print(A)\n",
        "\n",
        "#Gera a transposta de A\n",
        "At = A.T\n",
        "\n",
        "#mostra transposta\n",
        "print(At)"
      ],
      "execution_count": null,
      "outputs": [
        {
          "output_type": "stream",
          "text": [
            "[[10 20 30]\n",
            " [40 50 60]]\n",
            "[[10 40]\n",
            " [20 50]\n",
            " [30 60]]\n"
          ],
          "name": "stdout"
        }
      ]
    },
    {
      "cell_type": "markdown",
      "metadata": {
        "id": "vHskib3KzmAf",
        "colab_type": "text"
      },
      "source": [
        "Vamos verificar a validação de cada uma das propriedades da transposta:"
      ]
    },
    {
      "cell_type": "code",
      "metadata": {
        "id": "NpRPO-FwzpIG",
        "colab_type": "code",
        "colab": {
          "base_uri": "https://localhost:8080/",
          "height": 187
        },
        "outputId": "4250bb47-600e-45f1-d9a4-93ccfe31311f"
      },
      "source": [
        "#biblioteca de álgebra linear(matrizes)\n",
        "import numpy as np\n",
        "\n",
        "A = np.array(([1,2],[3,4]))\n",
        "B = np.array(([5,6],[7,8]))\n",
        "\n",
        "print(A == B)\n",
        "\n",
        "#Propriedade 1\n",
        "print((A.T).T == A)\n",
        "\n",
        "#Propriedade 2\n",
        "print((A+B).T == A.T + B.T)\n",
        "\n",
        "#Propriedade 3\n",
        "print((7*A).T == 7*A.T)\n",
        "\n",
        "#Propriedade 4\n",
        "print((A*B).T == B.T*A.T)"
      ],
      "execution_count": null,
      "outputs": [
        {
          "output_type": "stream",
          "text": [
            "[[False False]\n",
            " [False False]]\n",
            "[[ True  True]\n",
            " [ True  True]]\n",
            "[[ True  True]\n",
            " [ True  True]]\n",
            "[[ True  True]\n",
            " [ True  True]]\n",
            "[[ True  True]\n",
            " [ True  True]]\n"
          ],
          "name": "stdout"
        }
      ]
    },
    {
      "cell_type": "markdown",
      "metadata": {
        "id": "M5BiO3gox8wZ",
        "colab_type": "text"
      },
      "source": [
        "### Operações com escalar"
      ]
    },
    {
      "cell_type": "markdown",
      "metadata": {
        "colab_type": "text",
        "id": "xdQjTyAv2x3H"
      },
      "source": [
        "Soma de elemento da matrizes por um escalar."
      ]
    },
    {
      "cell_type": "code",
      "metadata": {
        "colab_type": "code",
        "id": "PBUcKLUz2x3I",
        "colab": {
          "base_uri": "https://localhost:8080/",
          "height": 85
        },
        "outputId": "b5655325-5d05-42dd-c114-29d58e12eded"
      },
      "source": [
        "#biblioteca de álgebra linear(matrizes)\n",
        "import numpy as np\n",
        "\n",
        "A = np.array([[0,1],[2,3]])\n",
        "\n",
        "print(A)\n",
        "\n",
        "B = A + 2\n",
        "\n",
        "print(B)"
      ],
      "execution_count": null,
      "outputs": [
        {
          "output_type": "stream",
          "text": [
            "[[0 1]\n",
            " [2 3]]\n",
            "[[2 3]\n",
            " [4 5]]\n"
          ],
          "name": "stdout"
        }
      ]
    },
    {
      "cell_type": "markdown",
      "metadata": {
        "id": "kqsUQYwlkoHY",
        "colab_type": "text"
      },
      "source": [
        "Multiplicação de elemento da matrizes por um escalar."
      ]
    },
    {
      "cell_type": "code",
      "metadata": {
        "id": "7bgj6jhakOKL",
        "colab_type": "code",
        "colab": {
          "base_uri": "https://localhost:8080/",
          "height": 85
        },
        "outputId": "7985bd01-e45a-454f-9942-2ab5c4616f3f"
      },
      "source": [
        "#biblioteca de álgebra linear(matrizes)\n",
        "import numpy as np\n",
        "\n",
        "A = np.array([[0,1],[2,3]])\n",
        "\n",
        "print(A)\n",
        "\n",
        "B = A * 3\n",
        "\n",
        "print(B)"
      ],
      "execution_count": null,
      "outputs": [
        {
          "output_type": "stream",
          "text": [
            "[[0 1]\n",
            " [2 3]]\n",
            "[[0 3]\n",
            " [6 9]]\n"
          ],
          "name": "stdout"
        }
      ]
    },
    {
      "cell_type": "markdown",
      "metadata": {
        "id": "4TOzfEZU2tO5",
        "colab_type": "text"
      },
      "source": [
        "### Operações entre matrizes e vetores\n",
        "\n"
      ]
    },
    {
      "cell_type": "markdown",
      "metadata": {
        "id": "fNWR58Up3LOY",
        "colab_type": "text"
      },
      "source": [
        "Multiplicação de matriz e vetor\n",
        "\n",
        "Na multiplicação de um vetor por uma matriz, precisamos verificar se as dimensões são compatíveis, ou seja, se o número de colunas são iguais."
      ]
    },
    {
      "cell_type": "code",
      "metadata": {
        "id": "_r-pVHpv3MCa",
        "colab_type": "code",
        "colab": {
          "base_uri": "https://localhost:8080/",
          "height": 102
        },
        "outputId": "756f22f0-36fb-488d-cb58-b719e63c4c6b"
      },
      "source": [
        "#biblioteca de álgebra linear(matrizes)\n",
        "import numpy as np\n",
        "\n",
        "A = np.array([1, 2, 3]) #vetor\n",
        "\n",
        "B = np.array(([10, 20, 30],[40, 50, 60]))\n",
        "\n",
        "print(A)\n",
        "print(B)\n",
        "\n",
        "#multiplica o vetor A pela matriz B\n",
        "C = A * B\n",
        "\n",
        "print(C)"
      ],
      "execution_count": null,
      "outputs": [
        {
          "output_type": "stream",
          "text": [
            "[1 2 3]\n",
            "[[10 20 30]\n",
            " [40 50 60]]\n",
            "[[ 10  40  90]\n",
            " [ 40 100 180]]\n"
          ],
          "name": "stdout"
        }
      ]
    },
    {
      "cell_type": "markdown",
      "metadata": {
        "id": "YmDv4qH93pxR",
        "colab_type": "text"
      },
      "source": [
        "Somando matriz e vetor"
      ]
    },
    {
      "cell_type": "code",
      "metadata": {
        "id": "bURFMw6a3u1R",
        "colab_type": "code",
        "colab": {
          "base_uri": "https://localhost:8080/",
          "height": 102
        },
        "outputId": "4f4181e9-b4ee-4150-bc5b-f9fee2583a12"
      },
      "source": [
        "#biblioteca de álgebra linear(matrizes)\n",
        "import numpy as np\n",
        "\n",
        "A = np.array([1, 2, 3]) #vetor\n",
        "\n",
        "B = np.array(([10, 20, 30],[40, 50, 60]))\n",
        "\n",
        "print(A)\n",
        "print(B)\n",
        "\n",
        "#multiplica o vetor A pela matriz B\n",
        "C = B+A\n",
        "\n",
        "print(C)"
      ],
      "execution_count": null,
      "outputs": [
        {
          "output_type": "stream",
          "text": [
            "[1 2 3]\n",
            "[[10 20 30]\n",
            " [40 50 60]]\n",
            "[[11 22 33]\n",
            " [41 52 63]]\n"
          ],
          "name": "stdout"
        }
      ]
    },
    {
      "cell_type": "markdown",
      "metadata": {
        "colab_type": "text",
        "id": "QAjRvRvK37an"
      },
      "source": [
        "Subtraindo matriz e vetor"
      ]
    },
    {
      "cell_type": "code",
      "metadata": {
        "colab_type": "code",
        "id": "ro2TfMFq37ao",
        "colab": {
          "base_uri": "https://localhost:8080/",
          "height": 102
        },
        "outputId": "71f88cb3-5e56-40c1-ede8-72ef03097e55"
      },
      "source": [
        "#biblioteca de álgebra linear(matrizes)\n",
        "import numpy as np\n",
        "\n",
        "A = np.array([1, 2, 3]) #vetor\n",
        "\n",
        "B = np.array(([10, 20, 30],[40, 50, 60]))\n",
        "\n",
        "print(A)\n",
        "print(B)\n",
        "\n",
        "#multiplica o vetor A pela matriz B\n",
        "C = B-A\n",
        "\n",
        "print(C)"
      ],
      "execution_count": null,
      "outputs": [
        {
          "output_type": "stream",
          "text": [
            "[1 2 3]\n",
            "[[10 20 30]\n",
            " [40 50 60]]\n",
            "[[ 9 18 27]\n",
            " [39 48 57]]\n"
          ],
          "name": "stdout"
        }
      ]
    },
    {
      "cell_type": "markdown",
      "metadata": {
        "colab_type": "text",
        "id": "3vbGQS9e4H__"
      },
      "source": [
        "Dividindo matriz e vetor"
      ]
    },
    {
      "cell_type": "code",
      "metadata": {
        "colab_type": "code",
        "id": "fnpx9Y8S4H__",
        "colab": {
          "base_uri": "https://localhost:8080/",
          "height": 102
        },
        "outputId": "51d96d70-c4b0-4c4d-a3dd-e3d9035ebf5e"
      },
      "source": [
        "#biblioteca de álgebra linear(matrizes)\n",
        "import numpy as np\n",
        "\n",
        "A = np.array([1, 2, 3]) #vetor\n",
        "\n",
        "B = np.array(([10, 20, 30],[40, 50, 60]))\n",
        "\n",
        "print(A)\n",
        "print(B)\n",
        "\n",
        "#multiplica o vetor A pela matriz B\n",
        "C = B/A\n",
        "\n",
        "print(C)"
      ],
      "execution_count": null,
      "outputs": [
        {
          "output_type": "stream",
          "text": [
            "[1 2 3]\n",
            "[[10 20 30]\n",
            " [40 50 60]]\n",
            "[[10. 10. 10.]\n",
            " [40. 25. 20.]]\n"
          ],
          "name": "stdout"
        }
      ]
    },
    {
      "cell_type": "markdown",
      "metadata": {
        "id": "BMWjgYgO8JLW",
        "colab_type": "text"
      },
      "source": [
        "### Operações entre matrizes\n",
        "Precisamos conferir se as dimensões são compatíveis para efetuar as operações matemáticas."
      ]
    },
    {
      "cell_type": "markdown",
      "metadata": {
        "id": "4KeWMhv482cX",
        "colab_type": "text"
      },
      "source": [
        "Somando duas matrizes"
      ]
    },
    {
      "cell_type": "code",
      "metadata": {
        "id": "RXLEajgv8xQ-",
        "colab_type": "code",
        "colab": {
          "base_uri": "https://localhost:8080/",
          "height": 119
        },
        "outputId": "ec39eb6f-f339-4277-96a7-2d0a46a658b6"
      },
      "source": [
        "#biblioteca de álgebra linear(matrizes)\n",
        "import numpy as np\n",
        "\n",
        "A = np.array([[0, 1], [2, 3]]) \n",
        "B = np.array([[3, 4], [5, 6]]) \n",
        "\n",
        "print(A)\n",
        "print(B)\n",
        "\n",
        "C = A + B\n",
        "\n",
        "print(C)"
      ],
      "execution_count": null,
      "outputs": [
        {
          "output_type": "stream",
          "text": [
            "[[0 1]\n",
            " [2 3]]\n",
            "[[3 4]\n",
            " [5 6]]\n",
            "[[3 5]\n",
            " [7 9]]\n"
          ],
          "name": "stdout"
        }
      ]
    },
    {
      "cell_type": "markdown",
      "metadata": {
        "colab_type": "text",
        "id": "8ZpuYglq8-lF"
      },
      "source": [
        "Subtraindo duas matrizes"
      ]
    },
    {
      "cell_type": "code",
      "metadata": {
        "colab_type": "code",
        "id": "-j6EoDj38-lI",
        "colab": {
          "base_uri": "https://localhost:8080/",
          "height": 119
        },
        "outputId": "ac23f6fb-43f6-49dc-a535-d7932e4b5535"
      },
      "source": [
        "#biblioteca de álgebra linear(matrizes)\n",
        "import numpy as np\n",
        "\n",
        "A = np.array([[0, 1], [2, 3]]) \n",
        "B = np.array([[3, 4], [5, 6]]) \n",
        "\n",
        "print(A)\n",
        "print(B)\n",
        "\n",
        "C = B - A\n",
        "\n",
        "print(C)"
      ],
      "execution_count": null,
      "outputs": [
        {
          "output_type": "stream",
          "text": [
            "[[0 1]\n",
            " [2 3]]\n",
            "[[3 4]\n",
            " [5 6]]\n",
            "[[3 3]\n",
            " [3 3]]\n"
          ],
          "name": "stdout"
        }
      ]
    },
    {
      "cell_type": "markdown",
      "metadata": {
        "colab_type": "text",
        "id": "wvajgpHU9DBP"
      },
      "source": [
        "Multiplicando duas matrizes 1"
      ]
    },
    {
      "cell_type": "code",
      "metadata": {
        "colab_type": "code",
        "id": "_TmPM9lw9DBQ",
        "colab": {
          "base_uri": "https://localhost:8080/",
          "height": 119
        },
        "outputId": "5ad2c766-79df-48bc-d953-f7453683fe50"
      },
      "source": [
        "#biblioteca de álgebra linear(matrizes)\n",
        "import numpy as np\n",
        "\n",
        "A = np.array([[0, 1], [2, 3]]) \n",
        "B = np.array([[3, 4], [5, 6]]) \n",
        "\n",
        "print(A)\n",
        "print(B)\n",
        "\n",
        "C = A * B\n",
        "\n",
        "print(C)"
      ],
      "execution_count": null,
      "outputs": [
        {
          "output_type": "stream",
          "text": [
            "[[0 1]\n",
            " [2 3]]\n",
            "[[3 4]\n",
            " [5 6]]\n",
            "[[ 0  4]\n",
            " [10 18]]\n"
          ],
          "name": "stdout"
        }
      ]
    },
    {
      "cell_type": "markdown",
      "metadata": {
        "id": "FvHZmkk39acP",
        "colab_type": "text"
      },
      "source": [
        "Multiplicando duas matrizes 2\n",
        " \n",
        "A multiplicação entre os elementos das matrizes pode ser realizada através da função np.multiply()."
      ]
    },
    {
      "cell_type": "code",
      "metadata": {
        "id": "AXkn6m9o9W6i",
        "colab_type": "code",
        "colab": {
          "base_uri": "https://localhost:8080/",
          "height": 119
        },
        "outputId": "137c50a7-7ddb-4bcc-9841-740dd3d163e8"
      },
      "source": [
        "#biblioteca de álgebra linear(matrizes)\n",
        "import numpy as np\n",
        "\n",
        "A = np.array([[0, 1], [2, 3]]) \n",
        "B = np.array([[3, 4], [5, 6]]) \n",
        "\n",
        "print(A)\n",
        "print(B)\n",
        "\n",
        "C = np.multiply(A, B)\n",
        "\n",
        "print(C)"
      ],
      "execution_count": null,
      "outputs": [
        {
          "output_type": "stream",
          "text": [
            "[[0 1]\n",
            " [2 3]]\n",
            "[[3 4]\n",
            " [5 6]]\n",
            "[[ 0  4]\n",
            " [10 18]]\n"
          ],
          "name": "stdout"
        }
      ]
    },
    {
      "cell_type": "markdown",
      "metadata": {
        "id": "6lzotXBo9rxn",
        "colab_type": "text"
      },
      "source": [
        "\n",
        "Obs: Só é possível realizar o produto entre duas matrizes se o número de colunas da primeira matriz for igual ao número de linhas da segunda. O produto entre matrizes pode ser feito através do método np.dot(m1,m2).\n",
        "\n",
        "$$A_{mn} . B_{np} = (AB)_{mp}$$\n",
        "\n",
        "No produto entre matrizes, cada elemento da linha da primeira coluna deve ser multiplicado e somado pelos correspondentes elementos da coluna da segunda matriz."
      ]
    },
    {
      "cell_type": "code",
      "metadata": {
        "id": "SQqIZE3w9_ec",
        "colab_type": "code",
        "colab": {
          "base_uri": "https://localhost:8080/",
          "height": 119
        },
        "outputId": "83b58835-438f-4327-f0b6-15f6b2a6044a"
      },
      "source": [
        "#biblioteca de álgebra linear(matrizes)\n",
        "import numpy as np\n",
        "\n",
        "A = np.array([[0, 1], [2, 3]]) \n",
        "B = np.array([[3, 4], [5, 6]]) \n",
        "\n",
        "print(A)\n",
        "print(B)\n",
        "\n",
        "C = np.dot(A, B)\n",
        "\n",
        "print(C)"
      ],
      "execution_count": null,
      "outputs": [
        {
          "output_type": "stream",
          "text": [
            "[[0 1]\n",
            " [2 3]]\n",
            "[[3 4]\n",
            " [5 6]]\n",
            "[[ 5  6]\n",
            " [21 26]]\n"
          ],
          "name": "stdout"
        }
      ]
    },
    {
      "cell_type": "markdown",
      "metadata": {
        "id": "LkIxTFbC-GtM",
        "colab_type": "text"
      },
      "source": [
        "Não temos comutatividade no produto entre matrizes, a ordem importa!"
      ]
    },
    {
      "cell_type": "code",
      "metadata": {
        "id": "Jp9K0jav-KuQ",
        "colab_type": "code",
        "colab": {
          "base_uri": "https://localhost:8080/",
          "height": 119
        },
        "outputId": "06a38529-8479-4791-fbd3-6f0eb264d828"
      },
      "source": [
        "#biblioteca de álgebra linear(matrizes)\n",
        "import numpy as np\n",
        "\n",
        "A = np.array([[0, 1], [2, 3]]) \n",
        "B = np.array([[3, 4], [5, 6]]) \n",
        "\n",
        "print(A)\n",
        "print(B)\n",
        "\n",
        "#invertido\n",
        "C = np.dot(B, A)\n",
        "\n",
        "print(C)"
      ],
      "execution_count": null,
      "outputs": [
        {
          "output_type": "stream",
          "text": [
            "[[0 1]\n",
            " [2 3]]\n",
            "[[3 4]\n",
            " [5 6]]\n",
            "[[ 8 15]\n",
            " [12 23]]\n"
          ],
          "name": "stdout"
        }
      ]
    },
    {
      "cell_type": "markdown",
      "metadata": {
        "colab_type": "text",
        "id": "O1FNKyeG9KqP"
      },
      "source": [
        "Dividindo duas matrizes"
      ]
    },
    {
      "cell_type": "code",
      "metadata": {
        "colab_type": "code",
        "id": "hHXTPyQV9KqQ",
        "colab": {
          "base_uri": "https://localhost:8080/",
          "height": 119
        },
        "outputId": "30201800-1a3b-44ac-b0cc-89a69cf71dc3"
      },
      "source": [
        "#biblioteca de álgebra linear(matrizes)\n",
        "import numpy as np\n",
        "\n",
        "A = np.array([[1, 1], [2, 3]]) \n",
        "B = np.array([[3, 4], [5, 6]]) \n",
        "\n",
        "print(A)\n",
        "print(B)\n",
        "\n",
        "C = B / A\n",
        "\n",
        "print(C)"
      ],
      "execution_count": null,
      "outputs": [
        {
          "output_type": "stream",
          "text": [
            "[[1 1]\n",
            " [2 3]]\n",
            "[[3 4]\n",
            " [5 6]]\n",
            "[[3.  4. ]\n",
            " [2.5 2. ]]\n"
          ],
          "name": "stdout"
        }
      ]
    },
    {
      "cell_type": "markdown",
      "metadata": {
        "id": "pNBgCTvg8kwB",
        "colab_type": "text"
      },
      "source": [
        "### Outras operações"
      ]
    },
    {
      "cell_type": "markdown",
      "metadata": {
        "id": "mzqDQ9dElHxB",
        "colab_type": "text"
      },
      "source": [
        "Somando elementos de 1 matriz."
      ]
    },
    {
      "cell_type": "code",
      "metadata": {
        "id": "ofq1_jZkk6Qo",
        "colab_type": "code",
        "colab": {
          "base_uri": "https://localhost:8080/",
          "height": 68
        },
        "outputId": "a785947e-2774-4708-9c39-90b5d39f9903"
      },
      "source": [
        "#biblioteca de álgebra linear(matrizes)\n",
        "import numpy as np\n",
        "\n",
        "A = np.array([[0,1],[2,3]])\n",
        "\n",
        "B = np.sum(A)\n",
        "\n",
        "print(A)\n",
        "print(B)"
      ],
      "execution_count": null,
      "outputs": [
        {
          "output_type": "stream",
          "text": [
            "[[0 1]\n",
            " [2 3]]\n",
            "6\n"
          ],
          "name": "stdout"
        }
      ]
    },
    {
      "cell_type": "markdown",
      "metadata": {
        "id": "z-QYK9ttld44",
        "colab_type": "text"
      },
      "source": [
        "Multiplicando e somando 2 matrizes."
      ]
    },
    {
      "cell_type": "code",
      "metadata": {
        "id": "oWVa4tMtleL0",
        "colab_type": "code",
        "colab": {
          "base_uri": "https://localhost:8080/",
          "height": 102
        },
        "outputId": "80a61d8e-8ddb-4840-e5bf-10b313b38272"
      },
      "source": [
        "#biblioteca de álgebra linear(matrizes)\n",
        "import numpy as np\n",
        "\n",
        "A = np.array([[0,1],[2,3]])\n",
        "B = np.array([[0,1],[2,3]]) \n",
        "\n",
        "C = np.sum(A * B)\n",
        "\n",
        "print(A)\n",
        "print(B)\n",
        "print(C)"
      ],
      "execution_count": null,
      "outputs": [
        {
          "output_type": "stream",
          "text": [
            "[[0 1]\n",
            " [2 3]]\n",
            "[[0 1]\n",
            " [2 3]]\n",
            "14\n"
          ],
          "name": "stdout"
        }
      ]
    },
    {
      "cell_type": "markdown",
      "metadata": {
        "id": "zrV5-JqdmHvF",
        "colab_type": "text"
      },
      "source": [
        "Retorna a convolução linear discreta de dois vetores."
      ]
    },
    {
      "cell_type": "code",
      "metadata": {
        "id": "01_qU3CicoS1",
        "colab_type": "code",
        "colab": {
          "base_uri": "https://localhost:8080/",
          "height": 68
        },
        "outputId": "6c55a58a-63c0-45b3-a452-41753b692cc5"
      },
      "source": [
        "#biblioteca de álgebra linear(matrizes)\n",
        "import numpy as np\n",
        "\n",
        "A = np.array([1,2,3])        # 1 + 2x + 3x^2\n",
        "B = np.array([4,5,6])        # 4 + 5x + 6x^2\n",
        "\n",
        "C = np.convolve(A, B)        # (1 + 2x + 3x^2) * (4 + 5x + 6x^2)\n",
        "#array([ 4, 13, 28, 27, 18]) # 4 + 13x + 28x^2 + 27x^3 + 18x^4\n",
        "\n",
        "print(A)\n",
        "print(B)\n",
        "print(C)"
      ],
      "execution_count": null,
      "outputs": [
        {
          "output_type": "stream",
          "text": [
            "[1 2 3]\n",
            "[4 5 6]\n",
            "[ 4 13 28 27 18]\n"
          ],
          "name": "stdout"
        }
      ]
    },
    {
      "cell_type": "markdown",
      "metadata": {
        "id": "oMqCOleanB62",
        "colab_type": "text"
      },
      "source": [
        "Concatena duas matrizes."
      ]
    },
    {
      "cell_type": "code",
      "metadata": {
        "id": "s0lEHC14nCMo",
        "colab_type": "code",
        "colab": {
          "base_uri": "https://localhost:8080/",
          "height": 153
        },
        "outputId": "4f93feb7-5127-4360-c66a-220306077769"
      },
      "source": [
        "#biblioteca de álgebra linear(matrizes)\n",
        "import numpy as np\n",
        "\n",
        "A = np.array([[0, 1], [2, 3]]) \n",
        "B = np.array([[3, 4], [5, 6]]) \n",
        "\n",
        "C = np.concatenate((A,B))\n",
        "\n",
        "print(A)\n",
        "print(B)\n",
        "print(C)"
      ],
      "execution_count": null,
      "outputs": [
        {
          "output_type": "stream",
          "text": [
            "[[0 1]\n",
            " [2 3]]\n",
            "[[3 4]\n",
            " [5 6]]\n",
            "[[0 1]\n",
            " [2 3]\n",
            " [3 4]\n",
            " [5 6]]\n"
          ],
          "name": "stdout"
        }
      ]
    },
    {
      "cell_type": "markdown",
      "metadata": {
        "id": "cZiTlyUEmnvH",
        "colab_type": "text"
      },
      "source": [
        "Concatena duas matrizes.\n",
        "\n",
        "Seleciona o eixo.\n",
        "\n",
        "axis = 0 eixo y.\n",
        "\n",
        "axis = 1 eixo x."
      ]
    },
    {
      "cell_type": "code",
      "metadata": {
        "id": "LnNuRNKGeX18",
        "colab_type": "code",
        "colab": {
          "base_uri": "https://localhost:8080/",
          "height": 119
        },
        "outputId": "41052d70-0451-4435-a9a1-0c7ee37f0954"
      },
      "source": [
        "#biblioteca de álgebra linear(matrizes)\n",
        "import numpy as np\n",
        "\n",
        "A = np.array([[0, 1], [2, 3]]) \n",
        "B = np.array([[3, 4], [5, 6]]) \n",
        "\n",
        "C = np.concatenate((A,B),axis=1)\n",
        "\n",
        "print(A)\n",
        "print(B)\n",
        "print(C)"
      ],
      "execution_count": null,
      "outputs": [
        {
          "output_type": "stream",
          "text": [
            "[[0 1]\n",
            " [2 3]]\n",
            "[[3 4]\n",
            " [5 6]]\n",
            "[[0 1 3 4]\n",
            " [2 3 5 6]]\n"
          ],
          "name": "stdout"
        }
      ]
    },
    {
      "cell_type": "markdown",
      "metadata": {
        "id": "-AZsm3ymojbH",
        "colab_type": "text"
      },
      "source": [
        "função é usada para calcular uma das oito normas matriciais ou uma das normas vetoriais."
      ]
    },
    {
      "cell_type": "code",
      "metadata": {
        "id": "_ztLOBDfn5t5",
        "colab_type": "code",
        "colab": {
          "base_uri": "https://localhost:8080/",
          "height": 119
        },
        "outputId": "cb06de0e-fb9b-412e-9213-c6cdac6f13d8"
      },
      "source": [
        "#biblioteca de álgebra linear(matrizes)\n",
        "import numpy as np\n",
        "\n",
        "A = np.array([[0, 1], [2, 3]]) \n",
        "\n",
        "B = np.linalg.norm(A, axis=0)\n",
        "\n",
        "print(A)\n",
        "print(B)\n",
        "\n",
        "B = np.linalg.norm(A, axis=1)\n",
        "\n",
        "print(A)\n",
        "print(B)"
      ],
      "execution_count": null,
      "outputs": [
        {
          "output_type": "stream",
          "text": [
            "[[0 1]\n",
            " [2 3]]\n",
            "[2.         3.16227766]\n",
            "[[0 1]\n",
            " [2 3]]\n",
            "[1.         3.60555128]\n"
          ],
          "name": "stdout"
        }
      ]
    },
    {
      "cell_type": "code",
      "metadata": {
        "id": "jZDQTOTy8Nam",
        "colab_type": "code",
        "colab": {}
      },
      "source": [
        "#biblioteca de álgebra linear(matrizes)\n",
        "import numpy as np\n",
        "\n",
        "A = np.array([[0, 1], [2, 3]]) \n",
        "B = np.array([[3, 4], [5, 6]]) "
      ],
      "execution_count": null,
      "outputs": []
    },
    {
      "cell_type": "markdown",
      "metadata": {
        "id": "agLxKNjQ-Yt7",
        "colab_type": "text"
      },
      "source": [
        "Traço da matriz\n",
        "\n",
        "O traço de uma matriz quadrada é a soma dos elementos da sua diagonal principal, o traço pode ser obtido através da função np.trace()."
      ]
    },
    {
      "cell_type": "code",
      "metadata": {
        "id": "i6NIQTyR-fLc",
        "colab_type": "code",
        "colab": {
          "base_uri": "https://localhost:8080/",
          "height": 68
        },
        "outputId": "19eca2e9-766a-4144-acb7-a21f22192727"
      },
      "source": [
        "#biblioteca de álgebra linear(matrizes)\n",
        "import numpy as np\n",
        "\n",
        "A = np.array([[1, 2], [3, 4]]) \n",
        "\n",
        "print(A)\n",
        "\n",
        "B = np.trace(A)\n",
        "\n",
        "print(B)"
      ],
      "execution_count": null,
      "outputs": [
        {
          "output_type": "stream",
          "text": [
            "[[1 2]\n",
            " [3 4]]\n",
            "5\n"
          ],
          "name": "stdout"
        }
      ]
    },
    {
      "cell_type": "markdown",
      "metadata": {
        "id": "mYWzeuAo-pS5",
        "colab_type": "text"
      },
      "source": [
        "No caso de uma matriz não quadrada, a soma será da parte da diagonal principal referente a uma matriz quadrada, exemplo:\n",
        "\n",
        "$$A_{23} = \n",
        "\\begin{bmatrix}\n",
        "{\\color{Red}1} & 2 & 3 \\\\\n",
        "3 & {\\color{Red}4} & 5\n",
        "\\end{bmatrix}\n",
        "$$"
      ]
    },
    {
      "cell_type": "code",
      "metadata": {
        "id": "vE1QZoJ1-qqe",
        "colab_type": "code",
        "colab": {
          "base_uri": "https://localhost:8080/",
          "height": 68
        },
        "outputId": "68305559-ac9e-48cf-ff62-12d2de58a7ed"
      },
      "source": [
        "#biblioteca de álgebra linear(matrizes)\n",
        "import numpy as np\n",
        "\n",
        "A = np.array([[1, 2, 3], [3, 4, 5]]) \n",
        "\n",
        "print(A)\n",
        "\n",
        "B = np.trace(A)\n",
        "\n",
        "print(B)"
      ],
      "execution_count": null,
      "outputs": [
        {
          "output_type": "stream",
          "text": [
            "[[1 2 3]\n",
            " [3 4 5]]\n",
            "5\n"
          ],
          "name": "stdout"
        }
      ]
    },
    {
      "cell_type": "markdown",
      "metadata": {
        "id": "G6cF7ox7-4yk",
        "colab_type": "text"
      },
      "source": [
        "Propriedade do traço:\n",
        "\n",
        "1. $tr(A+B) = tr(A) + tr(B)$;\n",
        "\n",
        "2. $tr(\\lambda . A) = \\lambda. tr(A)$;\n",
        "\n",
        "3. O traço de uma matriz quadrada é igual ao traço de sua transposta;\n",
        "\n",
        "4. $tr(AB) = tr(BA)$;\n",
        "\n",
        "5. O traço de uma matriz simétrica é igual a soma dos seus valores próprios (autovalores). Uma matriz A é dita simétrica se ela for igual a sua transposta.\n",
        "\n"
      ]
    },
    {
      "cell_type": "code",
      "metadata": {
        "id": "_KEF0UAd_OK_",
        "colab_type": "code",
        "colab": {
          "base_uri": "https://localhost:8080/",
          "height": 85
        },
        "outputId": "2de8cd87-b891-497d-e0fc-0fec28ec2ae9"
      },
      "source": [
        "#biblioteca de álgebra linear(matrizes)\n",
        "import numpy as np\n",
        "\n",
        "A = np.array(([1,1],[2,2]))\n",
        "B = np.array(([3,3],[4,4]))\n",
        "\n",
        "#Propriedade 1\n",
        "np.trace(A+B) ==  np.trace(A) + np.trace(B)\n",
        "print(np.trace(A+B) ==  np.trace(A) + np.trace(B))\n",
        "\n",
        "#Propriedade 2\n",
        "print(np.trace(5*A) == 5 * np.trace(A))\n",
        "\n",
        "#Propriedade 3\n",
        "print(np.trace(A) == np.trace(np.transpose(A)))\n",
        "\n",
        "#Propriedade 4\n",
        "print(np.trace(A*B) == np.trace(B*A))"
      ],
      "execution_count": null,
      "outputs": [
        {
          "output_type": "stream",
          "text": [
            "True\n",
            "True\n",
            "True\n",
            "True\n"
          ],
          "name": "stdout"
        }
      ]
    },
    {
      "cell_type": "markdown",
      "metadata": {
        "id": "ZuGzLCTB_fuM",
        "colab_type": "text"
      },
      "source": [
        "### Inversa de uma matriz\n",
        "\n",
        "Se o produto de duas matrizes resulta em uma matriz identidade, essa matriz possui uma inversa. A biblioteca Numpy possuí um pacote específico para trabalhar com álgebra linear, se chama numpy.lialg, no qual possuí a função inv() para calcular a inversa de uma matriz."
      ]
    },
    {
      "cell_type": "code",
      "metadata": {
        "id": "kWbceG_2_hXc",
        "colab_type": "code",
        "colab": {
          "base_uri": "https://localhost:8080/",
          "height": 85
        },
        "outputId": "9e38a4d4-fdeb-475f-a34b-dbeed191e967"
      },
      "source": [
        "#biblioteca de álgebra linear(matrizes)\n",
        "import numpy as np\n",
        "\n",
        "from numpy.linalg import inv\n",
        "\n",
        "A = np.array(([1,2],[3,4]))\n",
        "print(A)\n",
        "\n",
        "B = inv(A)\n",
        "print(B)"
      ],
      "execution_count": null,
      "outputs": [
        {
          "output_type": "stream",
          "text": [
            "[[1 2]\n",
            " [3 4]]\n",
            "[[-2.   1. ]\n",
            " [ 1.5 -0.5]]\n"
          ],
          "name": "stdout"
        }
      ]
    },
    {
      "cell_type": "markdown",
      "metadata": {
        "id": "k23DPLp5_tsv",
        "colab_type": "text"
      },
      "source": [
        "Para verificar se a matriz B é inversa da matriz A:"
      ]
    },
    {
      "cell_type": "code",
      "metadata": {
        "id": "hCSrqN0s_vuH",
        "colab_type": "code",
        "colab": {
          "base_uri": "https://localhost:8080/",
          "height": 51
        },
        "outputId": "ab057bbc-8f15-4410-d55a-f2601c3b1778"
      },
      "source": [
        "print(np.dot(B,A))"
      ],
      "execution_count": null,
      "outputs": [
        {
          "output_type": "stream",
          "text": [
            "[[1.00000000e+00 0.00000000e+00]\n",
            " [1.11022302e-16 1.00000000e+00]]\n"
          ],
          "name": "stdout"
        }
      ]
    },
    {
      "cell_type": "markdown",
      "metadata": {
        "id": "dzpwjSF6_77B",
        "colab_type": "text"
      },
      "source": [
        "Propriedades da matriz inversa:\n",
        "\n",
        "1. Se A for uma matriz inversa, a inversa de A também será invertível:\n",
        "\n",
        "$$ (A^{-1})^{-1} = A $$"
      ]
    },
    {
      "cell_type": "code",
      "metadata": {
        "id": "snuwjPDTACA6",
        "colab_type": "code",
        "colab": {
          "base_uri": "https://localhost:8080/",
          "height": 51
        },
        "outputId": "26957cb2-6b29-4d44-9754-90ac3c9d2911"
      },
      "source": [
        "#biblioteca de álgebra linear(matrizes)\n",
        "import numpy as np\n",
        "\n",
        "A = np.array(([1.,2.],[3.,4.]))\n",
        "\n",
        "#o retorno é falso por motivos de arredondamento\n",
        "print(inv(inv(A)) == A)"
      ],
      "execution_count": null,
      "outputs": [
        {
          "output_type": "stream",
          "text": [
            "[[False False]\n",
            " [False False]]\n"
          ],
          "name": "stdout"
        }
      ]
    },
    {
      "cell_type": "markdown",
      "metadata": {
        "id": "c7ZXX4OvAI3p",
        "colab_type": "text"
      },
      "source": [
        "2. Se A e B forem matrizes invertíveis, então AB também é invertível:\n",
        "\n",
        "$$ (AB^{-1})^{-1} = A^{-1} B^{-1} $$"
      ]
    },
    {
      "cell_type": "code",
      "metadata": {
        "id": "8OUYIRYSAL8t",
        "colab_type": "code",
        "colab": {
          "base_uri": "https://localhost:8080/",
          "height": 221
        },
        "outputId": "86729777-d6e1-4e3d-df12-f1bfd9438b26"
      },
      "source": [
        "#biblioteca de álgebra linear(matrizes)\n",
        "import numpy as np\n",
        "\n",
        "A = np.array(([1.,2.],[3.,4.]))\n",
        "print(\"A=\")\n",
        "print(A)\n",
        "\n",
        "B = inv(A)\n",
        "print(\"B=\")\n",
        "print(B)\n",
        "\n",
        "C = inv(A.dot(B))\n",
        "print(\"C=\")\n",
        "print(C)\n",
        "\n",
        "D = inv(B).dot(inv(A))\n",
        "print(\"D=\")\n",
        "print(D)"
      ],
      "execution_count": null,
      "outputs": [
        {
          "output_type": "stream",
          "text": [
            "A=\n",
            "[[1. 2.]\n",
            " [3. 4.]]\n",
            "B=\n",
            "[[-2.   1. ]\n",
            " [ 1.5 -0.5]]\n",
            "C=\n",
            "[[ 1.0000000e+00  0.0000000e+00]\n",
            " [-8.8817842e-16  1.0000000e+00]]\n",
            "D=\n",
            "[[1.00000000e+00 9.86076132e-32]\n",
            " [8.88178420e-16 1.00000000e+00]]\n"
          ],
          "name": "stdout"
        }
      ]
    },
    {
      "cell_type": "markdown",
      "metadata": {
        "id": "aaXNOVKEBLzv",
        "colab_type": "text"
      },
      "source": [
        "3. Se A é uma matriz invertível, então a seguinte propriedade é válida:\n",
        "\n",
        "$$ (A^T)^{-1} = (A^{-1})^T $$"
      ]
    },
    {
      "cell_type": "code",
      "metadata": {
        "id": "67ZZcSEsBOhK",
        "colab_type": "code",
        "colab": {
          "base_uri": "https://localhost:8080/",
          "height": 119
        },
        "outputId": "1feec932-7e23-4adc-c9af-e9b0024bee37"
      },
      "source": [
        "#biblioteca de álgebra linear(matrizes)\n",
        "import numpy as np\n",
        "\n",
        "A = np.array(([1.,2.],[3.,4.]))\n",
        "print(A)\n",
        "\n",
        "B = inv(A.T)\n",
        "print(B)\n",
        "\n",
        "C = (inv(A)).T\n",
        "\n",
        "print(C)"
      ],
      "execution_count": null,
      "outputs": [
        {
          "output_type": "stream",
          "text": [
            "[[1. 2.]\n",
            " [3. 4.]]\n",
            "[[-2.   1.5]\n",
            " [ 1.  -0.5]]\n",
            "[[-2.   1.5]\n",
            " [ 1.  -0.5]]\n"
          ],
          "name": "stdout"
        }
      ]
    },
    {
      "cell_type": "markdown",
      "metadata": {
        "id": "lG53W_7wCXSa",
        "colab_type": "text"
      },
      "source": [
        "### Determinante de uma matriz\n",
        "\n",
        "Para explicar o que são determinantes de matrizes, iremos analisar o sistema de equações lineares abaixo:\n",
        "\n",
        "$$\\begin{cases}\n",
        "  a_{11}x_{1} & + & a_{12}x_{2} = b_{1} \\\\ \n",
        "  a_{21}x_{1} & + & a_{22}x_{2} = b_{2}\\\\ \n",
        "\\end{cases}$$\n",
        "\n",
        "\n",
        "Estamos à procura das incógnitas do sistema, x1 e x2. Para isso devemos isolar uma das variáveis e substituir na outra equação, ao final do processo iremos chegar em duas equações:\n",
        "\n",
        "$$ x_{1} = \\dfrac{b_{1} a_{22} - b_{2} a_{12}}{a_{11} a_{22} - a_{12} a_{21}} \n",
        "$$\n",
        "-\n",
        "$$\n",
        "x_{2} = \\dfrac{b_{2} a_{11} - b_{1} a_{21}}{a_{11} a_{22} - a_{12} a_{21}}\n",
        "$$\n",
        "\n",
        "Podemos notar que o denominador das equações x1 e x2 são os mesmos. Essas constantes que aparecem no denominador das matrizes são chamadas de determinantes de uma matriz. O determinante só pode ser calculado em uma matriz quadrada.\n",
        "\n",
        "**Calculando o determinante**\n",
        "\n",
        "A determinante de uma matriz 1x1, ou seja, de um escalar é o próprio escalar;\n",
        "A determinante de uma matriz 2x2 é a multiplicação dos elementos da diagonal principal subtraído pela multiplicação dos elementos da diagonal secundária;\n",
        "Para uma matriz 3x3, pode ser utilizado o método de Sarrus, exemplificado abaixo:Método de Sarrus\n",
        "Podemos utilizar outros teoremas para encontrar a determinante de uma matriz, como por exemplo o teorema de Laplace, decomposição LU, eliminação gaussiana, entre outros.\n",
        "\n",
        "A linguagem Python nos permite encontrar determinantes de matrizes através da função det()."
      ]
    },
    {
      "cell_type": "markdown",
      "metadata": {
        "id": "TRB_QWCJr5fh",
        "colab_type": "text"
      },
      "source": [
        ""
      ]
    },
    {
      "cell_type": "markdown",
      "metadata": {
        "colab_type": "text",
        "id": "bRS-VrHKr5o-"
      },
      "source": [
        "Exemplo 1"
      ]
    },
    {
      "cell_type": "code",
      "metadata": {
        "colab_type": "code",
        "id": "wE-G3qYzr5o_",
        "colab": {
          "base_uri": "https://localhost:8080/",
          "height": 34
        },
        "outputId": "d81d3c0e-ffee-4b0d-a4ed-8c70c40d7114"
      },
      "source": [
        "#biblioteca de álgebra linear(matrizes)\n",
        "import numpy as np\n",
        "from numpy.linalg import det\n",
        "\n",
        "A = np.array(([1,5],[2,3]))\n",
        "\n",
        "det_A = det(A)\n",
        "\n",
        "print(det_A)"
      ],
      "execution_count": null,
      "outputs": [
        {
          "output_type": "stream",
          "text": [
            "-7.000000000000001\n"
          ],
          "name": "stdout"
        }
      ]
    },
    {
      "cell_type": "markdown",
      "metadata": {
        "id": "uc7KZLi7r1Cu",
        "colab_type": "text"
      },
      "source": [
        "Exemplo 2"
      ]
    },
    {
      "cell_type": "code",
      "metadata": {
        "id": "4WqYqxNMCZmE",
        "colab_type": "code",
        "colab": {
          "base_uri": "https://localhost:8080/",
          "height": 34
        },
        "outputId": "c782dd60-5279-43f5-87eb-b955b5dc89fd"
      },
      "source": [
        "#biblioteca de álgebra linear(matrizes)\n",
        "import numpy as np\n",
        "from numpy.linalg import det\n",
        "\n",
        "A = np.array(([1,2,4],[5,3,-1],[7,2,0]))\n",
        "\n",
        "det_A = det(A)\n",
        "\n",
        "print(det_A)"
      ],
      "execution_count": null,
      "outputs": [
        {
          "output_type": "stream",
          "text": [
            "-56.00000000000002\n"
          ],
          "name": "stdout"
        }
      ]
    },
    {
      "cell_type": "markdown",
      "metadata": {
        "id": "yGB6JkMrr2aW",
        "colab_type": "text"
      },
      "source": [
        "Exemplo 3"
      ]
    },
    {
      "cell_type": "code",
      "metadata": {
        "id": "cFDf4NmYC8S1",
        "colab_type": "code",
        "colab": {
          "base_uri": "https://localhost:8080/",
          "height": 34
        },
        "outputId": "8cf62ba5-a8b7-4ba0-f6fe-08440cf3be6f"
      },
      "source": [
        "#biblioteca de álgebra linear(matrizes)\n",
        "import numpy as np\n",
        "from numpy.linalg import det\n",
        "\n",
        "B = np.array(([1,2,4,5,6,7],\n",
        "              [5,3,-1,5,1,2],\n",
        "              [7,2,0,1,4,9],\n",
        "              [1,2,1,5,6,5],\n",
        "              [-7,2,4,-1,6,6],\n",
        "              [0,2,5,5,9,7]))\n",
        "\n",
        "det_B = det(B)\n",
        "\n",
        "print(det_B)"
      ],
      "execution_count": null,
      "outputs": [
        {
          "output_type": "stream",
          "text": [
            "8184.000000000006\n"
          ],
          "name": "stdout"
        }
      ]
    },
    {
      "cell_type": "markdown",
      "metadata": {
        "id": "tVaL4lKeqGP8",
        "colab_type": "text"
      },
      "source": [
        "### Coseno Matriz"
      ]
    },
    {
      "cell_type": "code",
      "metadata": {
        "id": "FuN-hD-uqH9Z",
        "colab_type": "code",
        "colab": {
          "base_uri": "https://localhost:8080/",
          "height": 289
        },
        "outputId": "837c5e6e-6035-4984-e008-ae1841491611"
      },
      "source": [
        "#biblioteca de álgebra linear(matrizes)\n",
        "import numpy as np\n",
        "\n",
        "from sklearn.metrics.pairwise import cosine_similarity\n",
        "\n",
        "A = np.array([[0, 1], [2, 3]]) \n",
        "B = np.array([[3, 4], [5, 6]]) \n",
        "\n",
        "C = cosine_similarity(A,B) \n",
        "\n",
        "print('A>')\n",
        "print(A)\n",
        "print('B>')\n",
        "print(B)\n",
        "print('C>', C)\n",
        "\n",
        "D = np.array([[0, 1], [4, 5]]) \n",
        "\n",
        "E = cosine_similarity(A,D) \n",
        "\n",
        "print('A>')\n",
        "print(A)\n",
        "print('D>')\n",
        "print(D)\n",
        "print('E>', E)"
      ],
      "execution_count": null,
      "outputs": [
        {
          "output_type": "stream",
          "text": [
            "A>\n",
            "[[0 1]\n",
            " [2 3]]\n",
            "B>\n",
            "[[3 4]\n",
            " [5 6]]\n",
            "C> [[0.8        0.76822128]\n",
            " [0.99846035 0.99430915]]\n",
            "A>\n",
            "[[0 1]\n",
            " [2 3]]\n",
            "D>\n",
            "[[0 1]\n",
            " [4 5]]\n",
            "E> [[1.         0.78086881]\n",
            " [0.83205029 0.99624059]]\n"
          ],
          "name": "stdout"
        }
      ]
    }
  ]
}