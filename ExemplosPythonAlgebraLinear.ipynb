{
  "nbformat": 4,
  "nbformat_minor": 0,
  "metadata": {
    "colab": {
      "name": "ExemplosPythonAlgebraLinear.ipynb",
      "provenance": [],
      "collapsed_sections": [],
      "toc_visible": true,
      "include_colab_link": true
    },
    "kernelspec": {
      "name": "python3",
      "display_name": "Python 3"
    }
  },
  "cells": [
    {
      "cell_type": "markdown",
      "metadata": {
        "id": "view-in-github",
        "colab_type": "text"
      },
      "source": [
        "<a href=\"https://colab.research.google.com/github/osmarbraz/exemplos_python/blob/master/ExemplosPythonAlgebraLinear.ipynb\" target=\"_parent\"><img src=\"https://colab.research.google.com/assets/colab-badge.svg\" alt=\"Open In Colab\"/></a>"
      ]
    },
    {
      "cell_type": "markdown",
      "metadata": {
        "id": "xY84ChCNzmQQ"
      },
      "source": [
        "# Exemplos Vetores, Matrizes e Álgebra Linear em Python no Google Colaboratory\n",
        "\n",
        "Álgebra linear é um ramo da matemática que surgiu do estudo detalhado de sistemas de equações lineares, sejam elas algébricas ou diferenciais. A álgebra linear utiliza alguns conceitos e estruturas fundamentais da matemática como vetores, espaços vetoriais, transformações lineares, sistemas de equações lineares e matrizes.\n",
        "\n",
        "Exemplos:\n",
        "- Vetor padrão;\n",
        "- Matriz padrão;\n",
        "- Matriz com NumPy.\n",
        "\n",
        "-----------------------------------------\n",
        "**Guia Colab Iniciante:**\n",
        "\n",
        "https://medium.com/machina-sapiens/google-colab-guia-do-iniciante-334d70aad531\n",
        "\n",
        "**Documentação oficial:**\n",
        "\n",
        "https://colab.research.google.com/github/jakevdp/PythonDataScienceHandbook/blob/master/notebooks/01.01-Help-And-Documentation.ipynb\n",
        "\n",
        "**Características :**\n",
        "\n",
        "https://colab.research.google.com/notebooks/basic_features_overview.ipynb"
      ]
    },
    {
      "cell_type": "markdown",
      "metadata": {
        "id": "kgOIbiH4rUJN"
      },
      "source": [
        "# Vetor Padrão(list)"
      ]
    },
    {
      "cell_type": "markdown",
      "metadata": {
        "id": "2Z9DwoEkfwWv"
      },
      "source": [
        "Inicialização vetor"
      ]
    },
    {
      "cell_type": "code",
      "metadata": {
        "id": "qN4-4Ui5gMkD",
        "outputId": "a146bb12-87c6-4ab8-89a1-d40f1e21a2d0",
        "colab": {
          "base_uri": "https://localhost:8080/",
          "height": 34
        }
      },
      "source": [
        "# Declara um vetor\n",
        "A = [1,2,3]\n",
        "\n",
        "# Mostra o vetor\n",
        "print(A)"
      ],
      "execution_count": 1,
      "outputs": [
        {
          "output_type": "stream",
          "text": [
            "[1, 2, 3]\n"
          ],
          "name": "stdout"
        }
      ]
    },
    {
      "cell_type": "markdown",
      "metadata": {
        "id": "jIyN9queGP1O"
      },
      "source": [
        "Declarando e inicializando um vetor com uma constante"
      ]
    },
    {
      "cell_type": "code",
      "metadata": {
        "id": "3DiQIAj7GTFh",
        "outputId": "daeb9a02-be3a-4f5e-8220-d5a6200a1e2f",
        "colab": {
          "base_uri": "https://localhost:8080/",
          "height": 51
        }
      },
      "source": [
        "# Gera um vetor de 10 posições com o valor 1\n",
        "A = [1] * 10\n",
        "\n",
        "# Mostra o tamanho do vetor\n",
        "print(len(A))\n",
        "\n",
        "# Mostra o vetor\n",
        "print(A)"
      ],
      "execution_count": 2,
      "outputs": [
        {
          "output_type": "stream",
          "text": [
            "10\n",
            "[1, 1, 1, 1, 1, 1, 1, 1, 1, 1]\n"
          ],
          "name": "stdout"
        }
      ]
    },
    {
      "cell_type": "markdown",
      "metadata": {
        "id": "UcJPJi63f3i7"
      },
      "source": [
        "Mutiplicando vetor por constante"
      ]
    },
    {
      "cell_type": "code",
      "metadata": {
        "id": "akMlhWM6cVTj",
        "outputId": "8e6c7822-254e-4e1a-e428-8291a540585d",
        "colab": {
          "base_uri": "https://localhost:8080/",
          "height": 51
        }
      },
      "source": [
        "# Declara um vetor\n",
        "A = [1, 2]\n",
        "\n",
        "# Mutilica o vetor A por 3 e cria o vetor B\n",
        "B = A *  3\n",
        "\n",
        "# Mostra o vetor A\n",
        "print(A)\n",
        "print('A * 3 = ' + str(B))"
      ],
      "execution_count": 3,
      "outputs": [
        {
          "output_type": "stream",
          "text": [
            "[1, 2]\n",
            "A * 3 = [1, 2, 1, 2, 1, 2]\n"
          ],
          "name": "stdout"
        }
      ]
    },
    {
      "cell_type": "markdown",
      "metadata": {
        "id": "NmMnkrB_gnsb"
      },
      "source": [
        "Mutiplicando elementos do vetor por constante"
      ]
    },
    {
      "cell_type": "code",
      "metadata": {
        "id": "0wDYognJcHGu",
        "outputId": "8d553819-c337-4d60-b989-fd63a09bb0ad",
        "colab": {
          "base_uri": "https://localhost:8080/",
          "height": 51
        }
      },
      "source": [
        "# Declara um vetor\n",
        "A = [1, 2]\n",
        "\n",
        "# Multiplica cada elemento da matriz A por 3\n",
        "B = [i * 3.0 for i in A]\n",
        "\n",
        "# Mostra a matriz\n",
        "print(A)\n",
        "print('A * 3 = ' + str(B))"
      ],
      "execution_count": 4,
      "outputs": [
        {
          "output_type": "stream",
          "text": [
            "[1, 2]\n",
            "A * 3 = [3.0, 6.0]\n"
          ],
          "name": "stdout"
        }
      ]
    },
    {
      "cell_type": "markdown",
      "metadata": {
        "id": "OFpN7AeXt_88"
      },
      "source": [
        "# Matriz Padrão(list de list)"
      ]
    },
    {
      "cell_type": "markdown",
      "metadata": {
        "id": "K2cG6rK1fztl"
      },
      "source": [
        "Inicialização matriz"
      ]
    },
    {
      "cell_type": "code",
      "metadata": {
        "id": "-xau9q9mgESC",
        "outputId": "86da5e77-2f72-4714-f86c-c89c19e4a367",
        "colab": {
          "base_uri": "https://localhost:8080/",
          "height": 51
        }
      },
      "source": [
        "# Declara uma matriz\n",
        "A = [\n",
        "      [1,2,3],\n",
        "      [4,5,6],\n",
        "      [7,8,9]\n",
        "    ]\n",
        "\n",
        "# Mostra a matriz\n",
        "print(A)\n",
        "# ou\n",
        "print(A[:])"
      ],
      "execution_count": 5,
      "outputs": [
        {
          "output_type": "stream",
          "text": [
            "[[1, 2, 3], [4, 5, 6], [7, 8, 9]]\n",
            "[[1, 2, 3], [4, 5, 6], [7, 8, 9]]\n"
          ],
          "name": "stdout"
        }
      ]
    },
    {
      "cell_type": "markdown",
      "metadata": {
        "id": "HiGqlWXagg36"
      },
      "source": [
        "Mutiplicando matriz por constante"
      ]
    },
    {
      "cell_type": "code",
      "metadata": {
        "id": "JmEZuzfmh3RT",
        "outputId": "99ddfec1-25a8-4766-e3b1-e1b13854e27e",
        "colab": {
          "base_uri": "https://localhost:8080/",
          "height": 51
        }
      },
      "source": [
        "# Declara uma matriz\n",
        "A = [\n",
        "      [1, 2],\n",
        "      [3, 4]\n",
        "    ]\n",
        "\n",
        "# Multiplica a matriz A por 3 e cria a matriz B\n",
        "B = A * 3\n",
        "\n",
        "# Mostra a matriz A\n",
        "print(A)\n",
        "print('A * 3 = ' + str(B))"
      ],
      "execution_count": 6,
      "outputs": [
        {
          "output_type": "stream",
          "text": [
            "[[1, 2], [3, 4]]\n",
            "A * 3 = [[1, 2], [3, 4], [1, 2], [3, 4], [1, 2], [3, 4]]\n"
          ],
          "name": "stdout"
        }
      ]
    },
    {
      "cell_type": "markdown",
      "metadata": {
        "id": "PeMG7XdzJUze"
      },
      "source": [
        "Acessando elementos da matriz"
      ]
    },
    {
      "cell_type": "code",
      "metadata": {
        "id": "5O1ro8KTJVBF",
        "outputId": "361c8ca8-14b3-4102-b67e-d899a2fffa61",
        "colab": {
          "base_uri": "https://localhost:8080/",
          "height": 255
        }
      },
      "source": [
        "# Declara uma matriz\n",
        "A = [\n",
        "      [1, 2],\n",
        "      [3, 4]\n",
        "    ]\n",
        "\n",
        "print(\">>> Matriz\")\n",
        "# Mostrando toda a matriz\n",
        "print(A) #imprime a matriz, sem especificar um intervalo\n",
        "#ou\n",
        "print(A[:]) #imprime a matriz, sem especificar um intervalo\n",
        "#ou\n",
        "print(A[::])#imprime a matriz, sem especificar um intervalo\n",
        "#ou\n",
        "print(A[0:2]) #imprime a matriz, especificando um intervalo\n",
        "\n",
        "# Mostrando linhas da matriz\n",
        "print(\">>> Linha 0\")\n",
        "print(A[0]) #imprime a linha 0, sem especificar um intervalo\n",
        "#ou\n",
        "print(A[0][:]) #imprime a linha 0, sem especificar o intervalo\n",
        "#ou\n",
        "print(A[0][0:2]) #imprime a linha 0, especificando um intervalo de 0 a 2\n",
        "\n",
        "# Mostrando colunas da matriz\n",
        "print(\">>> Coluna 0\")\n",
        "print([A[0][0],A[1][0]]) #imprime a coluna 0, especificando os elementos\n",
        "\n",
        "print(\">>> Elemento\")\n",
        "# Mostrando um elemento específico da matriz\n",
        "print(A[0][0]) #imprime coluna 0 linha 0\n",
        "print(A[0][1]) #imprime coluna 0 linha 1"
      ],
      "execution_count": 7,
      "outputs": [
        {
          "output_type": "stream",
          "text": [
            ">>> Matriz\n",
            "[[1, 2], [3, 4]]\n",
            "[[1, 2], [3, 4]]\n",
            "[[1, 2], [3, 4]]\n",
            "[[1, 2], [3, 4]]\n",
            ">>> Linha 0\n",
            "[1, 2]\n",
            "[1, 2]\n",
            "[1, 2]\n",
            ">>> Coluna 0\n",
            "[1, 3]\n",
            ">>> Elemento\n",
            "1\n",
            "2\n"
          ],
          "name": "stdout"
        }
      ]
    },
    {
      "cell_type": "markdown",
      "metadata": {
        "id": "oCAX2rS8Jrkp"
      },
      "source": [
        "Lista de matriz"
      ]
    },
    {
      "cell_type": "code",
      "metadata": {
        "id": "9QDG4hPKJuOR",
        "outputId": "338a930f-e7b5-49f3-e683-de42a1272b54",
        "colab": {
          "base_uri": "https://localhost:8080/",
          "height": 425
        }
      },
      "source": [
        "# Declara uma matriz\n",
        "A = [\n",
        "      [\n",
        "        [1, 2],\n",
        "        [3, 4]\n",
        "      ],\n",
        "      [\n",
        "        [5, 6],\n",
        "        [7, 8]\n",
        "      ]\n",
        "    ]\n",
        "\n",
        "#imprime toda a lista de matriz\n",
        "print(\">>> Lista de matrizes\")\n",
        "print(A)\n",
        "print(A[:])\n",
        "print(A[::])\n",
        "print(A[:][:])\n",
        "print(A[0:2])\n",
        "print(A[0:2][0:2])\n",
        "\n",
        "#imprime matriz da posição 0 da lista \n",
        "print(\">>> Matriz\")\n",
        "print(A[0])\n",
        "print(A[0][:])\n",
        "print(A[0][0:2])\n",
        "\n",
        "# Mostrado a linha 0 da matriz da posição 0 da lista \n",
        "print(\">>> Linha\")\n",
        "print(A[0][0])\n",
        "print(A[0][:][0])\n",
        "print(A[0][0:2][0])\n",
        "print(A[0][0][:])\n",
        "\n",
        "# Mostrado a coluna 0 da matriz da posição 0 da lista \n",
        "print(\">>> Coluna\")\n",
        "print([A[0][0][0],A[0][1][0]]) #imprime a coluna 0, especificando os elementos\n",
        "\n",
        "# Mostra o elemento da linha 0 da coluna0 da linha 0 da matriz 0 da posição 0 da lista \n",
        "print(\">>> Elemento\")\n",
        "print(A[0][0][0])\n",
        "print(A[0][0][:][0])\n",
        "print(A[0][:][0][0])\n",
        "print(A[0][0:1][0][0])\n",
        "print(A[0][:][:][0][0])"
      ],
      "execution_count": 8,
      "outputs": [
        {
          "output_type": "stream",
          "text": [
            ">>> Lista de matrizes\n",
            "[[[1, 2], [3, 4]], [[5, 6], [7, 8]]]\n",
            "[[[1, 2], [3, 4]], [[5, 6], [7, 8]]]\n",
            "[[[1, 2], [3, 4]], [[5, 6], [7, 8]]]\n",
            "[[[1, 2], [3, 4]], [[5, 6], [7, 8]]]\n",
            "[[[1, 2], [3, 4]], [[5, 6], [7, 8]]]\n",
            "[[[1, 2], [3, 4]], [[5, 6], [7, 8]]]\n",
            ">>> Matriz\n",
            "[[1, 2], [3, 4]]\n",
            "[[1, 2], [3, 4]]\n",
            "[[1, 2], [3, 4]]\n",
            ">>> Linha\n",
            "[1, 2]\n",
            "[1, 2]\n",
            "[1, 2]\n",
            "[1, 2]\n",
            ">>> Coluna\n",
            "[1, 3]\n",
            ">>> Elemento\n",
            "1\n",
            "1\n",
            "1\n",
            "1\n",
            "1\n"
          ],
          "name": "stdout"
        }
      ]
    },
    {
      "cell_type": "markdown",
      "metadata": {
        "id": "zXDQGndfKU2P"
      },
      "source": [
        "Lista de Lista de matriz"
      ]
    },
    {
      "cell_type": "code",
      "metadata": {
        "id": "vTGN4MP6KU2Q",
        "outputId": "d7c8910b-4fe3-4af9-afd0-545ebcce8616",
        "colab": {
          "base_uri": "https://localhost:8080/",
          "height": 530
        }
      },
      "source": [
        "# Declara uma matriz\n",
        "A = [\n",
        "      [\n",
        "        [\n",
        "          [11, 12],\n",
        "          [13, 14]\n",
        "        ],\n",
        "        [\n",
        "          [21, 22],\n",
        "          [23, 24]],\n",
        "        [\n",
        "          [31, 32],\n",
        "          [33, 34]\n",
        "        ]\n",
        "      ],\n",
        "      [\n",
        "        [\n",
        "          [41, 42],\n",
        "          [43, 44]\n",
        "        ],\n",
        "        [\n",
        "          [51, 52],\n",
        "          [53, 54]\n",
        "        ],\n",
        "        [\n",
        "          [61, 62],\n",
        "          [63, 64]\n",
        "        ]\n",
        "      ]\n",
        "    ]\n",
        "\n",
        "print(\">>> Lista de lista de matriz\")\n",
        "print(A) #Imprime toda a matriz\n",
        "print(A[:]) #Imprime toda das dimensões da matriz\n",
        "print(A[::]) #Imprime toda das dimensões da matriz\n",
        "print(A[:][:]) #Imprime toda das dimensões da matriz\n",
        "print(A[:][:][:]) #Imprime toda das dimensões da matriz\n",
        "print(A[0:2]) #Imprime as dimensões 0 e 1 da matriz\n",
        "print(A[0:2][0:2]) #Imprime as dimensões de 0 e 1 de todas as dimensões\n",
        "print(A[0:2][0:2][0:2]) #Imprime as dimensões de 0 e 1 de todas as dimensões\n",
        "\n",
        "print(\">>> Lista de matriz\")\n",
        "print(A[0]) #Imprime a lista de matrizes da posição 0 da lista\n",
        "print(A[0][:]) #Imprime a lista de todas as matrizes da posição 0 da lista\n",
        "print(A[0][:][:]) #Imprime a lista de todas as matrizes da posição 0 da lista\n",
        "print(A[0][::]) #Imprime a lista de todas as matrizes da posição 0 da lista\n",
        "print(A[0][::][::]) #Imprime a lista de todas as matrizes da posição 0 da lista\n",
        "\n",
        "print(\">>> Matriz\")\n",
        "print(A[0][0]) #Imprime a matriz 0 da lista 0\n",
        "print(A[0][0][::]) #Imprime todos os elementos a matriz 0 da lista 0\n",
        "print(A[0][0][0:2]) #Imprime os elementos de 0 a 1 da matriz 0 da lista 0\n",
        "\n",
        "# Mostrado a linha 0 da matriz da posição 0 da lista \n",
        "print(\">>> Linha\")\n",
        "print(A[0][0][0])\n",
        "print(A[0][0][:][0])\n",
        "print(A[0][0][0:2][0])\n",
        "print(A[0][0][0][:])\n",
        "\n",
        "# Mostrado a coluna 0 da matriz da posição 0 da lista \n",
        "print(\">>> Coluna\")\n",
        "print([A[0][0][0][0],A[0][0][1][0]]) #imprime a coluna 0, especificando os elementos\n",
        "\n",
        "# Mostra o elemento da linha 0 da coluna0 da linha 0 da matriz 0 da posição 0 da posição 0 da lista \n",
        "print(\">>> Elemento\")\n",
        "print(A[0][0][0][0]) #Imprime o elemento da coluna 0 linha 0 da matriz 0, da lista 0 da lista 0\n",
        "print(A[0][0][0][0]) #Imprime o elemento da coluna 0 linha 0 da matriz 0, da lista 0 da lista 1"
      ],
      "execution_count": 9,
      "outputs": [
        {
          "output_type": "stream",
          "text": [
            ">>> Lista de lista de matriz\n",
            "[[[[11, 12], [13, 14]], [[21, 22], [23, 24]], [[31, 32], [33, 34]]], [[[41, 42], [43, 44]], [[51, 52], [53, 54]], [[61, 62], [63, 64]]]]\n",
            "[[[[11, 12], [13, 14]], [[21, 22], [23, 24]], [[31, 32], [33, 34]]], [[[41, 42], [43, 44]], [[51, 52], [53, 54]], [[61, 62], [63, 64]]]]\n",
            "[[[[11, 12], [13, 14]], [[21, 22], [23, 24]], [[31, 32], [33, 34]]], [[[41, 42], [43, 44]], [[51, 52], [53, 54]], [[61, 62], [63, 64]]]]\n",
            "[[[[11, 12], [13, 14]], [[21, 22], [23, 24]], [[31, 32], [33, 34]]], [[[41, 42], [43, 44]], [[51, 52], [53, 54]], [[61, 62], [63, 64]]]]\n",
            "[[[[11, 12], [13, 14]], [[21, 22], [23, 24]], [[31, 32], [33, 34]]], [[[41, 42], [43, 44]], [[51, 52], [53, 54]], [[61, 62], [63, 64]]]]\n",
            "[[[[11, 12], [13, 14]], [[21, 22], [23, 24]], [[31, 32], [33, 34]]], [[[41, 42], [43, 44]], [[51, 52], [53, 54]], [[61, 62], [63, 64]]]]\n",
            "[[[[11, 12], [13, 14]], [[21, 22], [23, 24]], [[31, 32], [33, 34]]], [[[41, 42], [43, 44]], [[51, 52], [53, 54]], [[61, 62], [63, 64]]]]\n",
            "[[[[11, 12], [13, 14]], [[21, 22], [23, 24]], [[31, 32], [33, 34]]], [[[41, 42], [43, 44]], [[51, 52], [53, 54]], [[61, 62], [63, 64]]]]\n",
            ">>> Lista de matriz\n",
            "[[[11, 12], [13, 14]], [[21, 22], [23, 24]], [[31, 32], [33, 34]]]\n",
            "[[[11, 12], [13, 14]], [[21, 22], [23, 24]], [[31, 32], [33, 34]]]\n",
            "[[[11, 12], [13, 14]], [[21, 22], [23, 24]], [[31, 32], [33, 34]]]\n",
            "[[[11, 12], [13, 14]], [[21, 22], [23, 24]], [[31, 32], [33, 34]]]\n",
            "[[[11, 12], [13, 14]], [[21, 22], [23, 24]], [[31, 32], [33, 34]]]\n",
            ">>> Matriz\n",
            "[[11, 12], [13, 14]]\n",
            "[[11, 12], [13, 14]]\n",
            "[[11, 12], [13, 14]]\n",
            ">>> Linha\n",
            "[11, 12]\n",
            "[11, 12]\n",
            "[11, 12]\n",
            "[11, 12]\n",
            ">>> Coluna\n",
            "[11, 13]\n",
            ">>> Elemento\n",
            "11\n",
            "11\n"
          ],
          "name": "stdout"
        }
      ]
    },
    {
      "cell_type": "markdown",
      "metadata": {
        "id": "Dgb8PDzIgdDf"
      },
      "source": [
        "# Matriz com NumPy\n",
        "\n",
        "É um pacote para linguagem Python que possibilita realizar diversas operação com vetores e matrizes de forma rápida e eficiente.\n",
        "\n",
        "http://www.estruturas.ufpr.br/disciplinas/pos-graduacao/introducao-a-computacao-cientifica-com-python/introducao-python/2-2-operacoes-numericas-com-arrays/"
      ]
    },
    {
      "cell_type": "markdown",
      "metadata": {
        "id": "pfNJKL7OuOd8"
      },
      "source": [
        "## Escalar\n",
        "\n",
        "São variáveis que aceitam apenas um valor específico, esse valor pode ser um número inteiro, real, natural ou complexo."
      ]
    },
    {
      "cell_type": "code",
      "metadata": {
        "id": "uxyU5Bs7uPur"
      },
      "source": [
        "#escalar que representa a tempetarura em graus Celsius\n",
        "Temperatura = 33 \n",
        "\n",
        "#escalar que representa a velocidade instantânea em m/s\n",
        "Velocidade = 100 \n",
        "\n",
        "#escalar que representa um valor monetário em R$ de um salário\n",
        "salario = 1500.00 "
      ],
      "execution_count": 10,
      "outputs": []
    },
    {
      "cell_type": "markdown",
      "metadata": {
        "id": "dhJchd6vug09"
      },
      "source": [
        "## Vetor\n",
        "\n",
        "Podem ser vistos como uma coleção de escalares, utilizados para representar dimensões mais elevadas."
      ]
    },
    {
      "cell_type": "markdown",
      "metadata": {
        "id": "dpcCiXJnpXy-"
      },
      "source": [
        "Declaração"
      ]
    },
    {
      "cell_type": "code",
      "metadata": {
        "id": "lMB3adY6umeD",
        "outputId": "8dd0ae25-4264-44b3-c053-8a3c7a5f9f85",
        "colab": {
          "base_uri": "https://localhost:8080/",
          "height": 34
        }
      },
      "source": [
        "# Biblioteca de álgebra linear(matrizes)\n",
        "import numpy as np\n",
        "\n",
        "# Vetor com duas dimensões\n",
        "VT = np.array([27, 37]) \n",
        "\n",
        "# Vetor com três dimensões\n",
        "VV = np.array([20, 15, 100]) \n",
        "\n",
        "# Vetor com quatro dimensões\n",
        "VM = np.array([100, 205, 777, 111]) \n",
        "\n",
        "type(VM)"
      ],
      "execution_count": 11,
      "outputs": [
        {
          "output_type": "execute_result",
          "data": {
            "text/plain": [
              "numpy.ndarray"
            ]
          },
          "metadata": {
            "tags": []
          },
          "execution_count": 11
        }
      ]
    },
    {
      "cell_type": "markdown",
      "metadata": {
        "id": "xs4QJSlBpcX4"
      },
      "source": [
        "Declaração e conversão com numpy"
      ]
    },
    {
      "cell_type": "code",
      "metadata": {
        "id": "N3op2mPcge4K",
        "outputId": "cf4a95ab-c5a2-4980-9b3a-b88f8d6e76f4",
        "colab": {
          "base_uri": "https://localhost:8080/",
          "height": 85
        }
      },
      "source": [
        "# Biblioteca de álgebra linear(matrizes)\n",
        "import numpy as np\n",
        "\n",
        "A = [[1,2],[3,4]]\n",
        "B = [[1],[2]]\n",
        "\n",
        "print (np.matrix(A))\n",
        "print\n",
        "print (np.matrix(B))"
      ],
      "execution_count": 12,
      "outputs": [
        {
          "output_type": "stream",
          "text": [
            "[[1 2]\n",
            " [3 4]]\n",
            "[[1]\n",
            " [2]]\n"
          ],
          "name": "stdout"
        }
      ]
    },
    {
      "cell_type": "markdown",
      "metadata": {
        "id": "UVIgdbh9kyXj"
      },
      "source": [
        "Somando elementos de 1 vetor."
      ]
    },
    {
      "cell_type": "code",
      "metadata": {
        "id": "d1N6C2q_jZW0",
        "outputId": "5485e014-5a88-4ff6-8d55-0354a8249ad8",
        "colab": {
          "base_uri": "https://localhost:8080/",
          "height": 51
        }
      },
      "source": [
        "# Biblioteca de álgebra linear(matrizes)\n",
        "import numpy as np\n",
        "\n",
        "A = np.array([0, 1])\n",
        "\n",
        "B = np.sum(A)\n",
        "\n",
        "print(A)\n",
        "print(B)"
      ],
      "execution_count": 13,
      "outputs": [
        {
          "output_type": "stream",
          "text": [
            "[0 1]\n",
            "1\n"
          ],
          "name": "stdout"
        }
      ]
    },
    {
      "cell_type": "markdown",
      "metadata": {
        "id": "NzqQKxyH0nHe"
      },
      "source": [
        "## Operações com vetores e escalares"
      ]
    },
    {
      "cell_type": "markdown",
      "metadata": {
        "id": "9N4VK2Kp0x3X"
      },
      "source": [
        "Adição de escalar em um vetor"
      ]
    },
    {
      "cell_type": "code",
      "metadata": {
        "id": "knpT4sty04Mp",
        "outputId": "fd7c8a7b-6e33-4c5e-a9c6-af09327c1cd0",
        "colab": {
          "base_uri": "https://localhost:8080/",
          "height": 51
        }
      },
      "source": [
        "# Biblioteca de álgebra linear(matrizes)\n",
        "import numpy as np\n",
        "\n",
        "A = np.array([10, 20, 30])\n",
        "\n",
        "print(A)\n",
        "\n",
        "# Adiciona o escalar 2 a cada elemento do vetor A gerando o vetor B\n",
        "B = A + 2\n",
        "\n",
        "print(np.matrix(B))"
      ],
      "execution_count": 14,
      "outputs": [
        {
          "output_type": "stream",
          "text": [
            "[10 20 30]\n",
            "[[12 22 32]]\n"
          ],
          "name": "stdout"
        }
      ]
    },
    {
      "cell_type": "markdown",
      "metadata": {
        "id": "qKEoaVjrkiWK"
      },
      "source": [
        "Multiplicação de vetores por escalar."
      ]
    },
    {
      "cell_type": "code",
      "metadata": {
        "id": "xJt7sbWRcc68",
        "outputId": "8bcf1b04-e559-413d-d9c9-9f8d21f50c78",
        "colab": {
          "base_uri": "https://localhost:8080/",
          "height": 51
        }
      },
      "source": [
        "# Biblioteca de álgebra linear(matrizes)\n",
        "import numpy as np\n",
        "\n",
        "A = np.array([10, 20, 30])\n",
        "\n",
        "print(A)\n",
        "\n",
        "# Multiplica o escalar 3 a cada elemento do vetor A gerando o vetor B\n",
        "B = A *  3\n",
        "\n",
        "print(np.matrix(B))"
      ],
      "execution_count": 15,
      "outputs": [
        {
          "output_type": "stream",
          "text": [
            "[10 20 30]\n",
            "[[30 60 90]]\n"
          ],
          "name": "stdout"
        }
      ]
    },
    {
      "cell_type": "markdown",
      "metadata": {
        "id": "3jwDCsOu1PrA"
      },
      "source": [
        "## Operações entre vetores"
      ]
    },
    {
      "cell_type": "markdown",
      "metadata": {
        "id": "Sbn6A2J81zVX"
      },
      "source": [
        "Somando dois vetores"
      ]
    },
    {
      "cell_type": "code",
      "metadata": {
        "id": "WNb5xFpM1zq5",
        "outputId": "1a7f72a2-fc47-4f2e-fd0b-dfdfa0dcf680",
        "colab": {
          "base_uri": "https://localhost:8080/",
          "height": 34
        }
      },
      "source": [
        "# Biblioteca de álgebra linear(matrizes)\n",
        "import numpy as np\n",
        "\n",
        "A = np.array([1, 2, 3])\n",
        "B = np.array([3, 4, 5])\n",
        "\n",
        "# Soma o vetor A com o vetor B\n",
        "C = A + B\n",
        "\n",
        "print(C)"
      ],
      "execution_count": 16,
      "outputs": [
        {
          "output_type": "stream",
          "text": [
            "[4 6 8]\n"
          ],
          "name": "stdout"
        }
      ]
    },
    {
      "cell_type": "markdown",
      "metadata": {
        "id": "0-8lH_U-156Q"
      },
      "source": [
        "Produto de dois vetores"
      ]
    },
    {
      "cell_type": "code",
      "metadata": {
        "id": "H4caH9Gd1Siw",
        "outputId": "c92517f1-c800-4d9f-9294-d95aea673008",
        "colab": {
          "base_uri": "https://localhost:8080/",
          "height": 34
        }
      },
      "source": [
        "# Biblioteca de álgebra linear(matrizes)\n",
        "import numpy as np\n",
        "\n",
        "A = np.array([1, 2, 3])\n",
        "B = np.array([3, 4, 5])\n",
        "\n",
        "# Multiplica o vetor A pelo vetor B\n",
        "C= A * B\n",
        "\n",
        "print(C)"
      ],
      "execution_count": 17,
      "outputs": [
        {
          "output_type": "stream",
          "text": [
            "[ 3  8 15]\n"
          ],
          "name": "stdout"
        }
      ]
    },
    {
      "cell_type": "markdown",
      "metadata": {
        "id": "Isaq1YaSlMYq"
      },
      "source": [
        "Somando dois vetores."
      ]
    },
    {
      "cell_type": "code",
      "metadata": {
        "id": "fR6ZxVfUjfzg",
        "outputId": "29437301-ca99-4a37-cdc6-f847626dc335",
        "colab": {
          "base_uri": "https://localhost:8080/",
          "height": 68
        }
      },
      "source": [
        "# Biblioteca de álgebra linear(matrizes)\n",
        "import numpy as np\n",
        "\n",
        "A = np.array([0,1])\n",
        "B = np.array([2,3]) \n",
        "\n",
        "C = np.sum(A + B)\n",
        "\n",
        "print(A)\n",
        "print(B)\n",
        "print(C)"
      ],
      "execution_count": 18,
      "outputs": [
        {
          "output_type": "stream",
          "text": [
            "[0 1]\n",
            "[2 3]\n",
            "6\n"
          ],
          "name": "stdout"
        }
      ]
    },
    {
      "cell_type": "markdown",
      "metadata": {
        "id": "uA2wjET9vHQF"
      },
      "source": [
        "## Matriz\n",
        "\n",
        "Permitem representar uma coleção de vetores. Os elementos das matrizes podem ser números reais, complexos, expressões algébricas ou funções. Chamamos de diagonal principal os elementos onde i=m.\n",
        "\n",
        "$$\n",
        "A = \\begin{bmatrix}\n",
        "a_{11} & a_{12} & a_{13} & \\cdots & a_{1n} \\\\\n",
        "a_{21} & a_{22} & a_{23} & \\cdots & a_{2n} \\\\\n",
        "a_{31} & a_{32} & a_{33} & \\cdots & a_{3n} \\\\\n",
        "\\vdots & \\vdots & \\vdots & \\ddots & \\vdots \\\\\n",
        "a_{m1} & a_{m2} & a_{m3} & \\cdots & a_{mn}\n",
        "\\end{bmatrix}\n",
        "$$\n"
      ]
    },
    {
      "cell_type": "markdown",
      "metadata": {
        "id": "xXRSc5zW0YHv"
      },
      "source": [
        "### Declaração de Matriz"
      ]
    },
    {
      "cell_type": "markdown",
      "metadata": {
        "id": "wimuQIz5v6SX"
      },
      "source": [
        "Declarando uma matriz 1\n"
      ]
    },
    {
      "cell_type": "code",
      "metadata": {
        "id": "WieIvtENv82M",
        "outputId": "bf92c34a-929a-4f6c-ea7b-5b10767e9aca",
        "colab": {
          "base_uri": "https://localhost:8080/",
          "height": 51
        }
      },
      "source": [
        "# Biblioteca de álgebra linear(matrizes)\n",
        "import numpy as np\n",
        "\n",
        "A = np.array([[0,1],[2,3]])\n",
        "\n",
        "print(A)"
      ],
      "execution_count": 19,
      "outputs": [
        {
          "output_type": "stream",
          "text": [
            "[[0 1]\n",
            " [2 3]]\n"
          ],
          "name": "stdout"
        }
      ]
    },
    {
      "cell_type": "markdown",
      "metadata": {
        "id": "3l9Y9miXwF_R"
      },
      "source": [
        "Declarando uma matriz 2\n",
        "\n",
        "Outra forma de representar uma matriz seria através do método np.matrix().\n"
      ]
    },
    {
      "cell_type": "code",
      "metadata": {
        "id": "cwC8kyPVwF_T",
        "outputId": "8edfffaa-23a7-47a1-8cb1-2138504ce071",
        "colab": {
          "base_uri": "https://localhost:8080/",
          "height": 51
        }
      },
      "source": [
        "# Biblioteca de álgebra linear(matrizes)\n",
        "import numpy as np\n",
        "\n",
        "A = np.matrix([[0,1],[2,3]])\n",
        "\n",
        "print(A)"
      ],
      "execution_count": 20,
      "outputs": [
        {
          "output_type": "stream",
          "text": [
            "[[0 1]\n",
            " [2 3]]\n"
          ],
          "name": "stdout"
        }
      ]
    },
    {
      "cell_type": "markdown",
      "metadata": {
        "id": "y7q3C_7UwSdT"
      },
      "source": [
        "Tipo da matriz"
      ]
    },
    {
      "cell_type": "code",
      "metadata": {
        "id": "bVfOpPt-wTp1",
        "outputId": "f69d04d7-f078-4f30-db02-a10bb94a8028",
        "colab": {
          "base_uri": "https://localhost:8080/",
          "height": 34
        }
      },
      "source": [
        "print(type(A))"
      ],
      "execution_count": 21,
      "outputs": [
        {
          "output_type": "stream",
          "text": [
            "<class 'numpy.matrix'>\n"
          ],
          "name": "stdout"
        }
      ]
    },
    {
      "cell_type": "markdown",
      "metadata": {
        "id": "7b-6lnwOBviV"
      },
      "source": [
        "### Manipulando a matriz"
      ]
    },
    {
      "cell_type": "markdown",
      "metadata": {
        "id": "8r2phIo4B5SV"
      },
      "source": [
        "acessando um elemento da matriz"
      ]
    },
    {
      "cell_type": "code",
      "metadata": {
        "id": "J3E54bgBBxit",
        "outputId": "4b318a7e-beea-4ca2-ec18-269f233ab6d6",
        "colab": {
          "base_uri": "https://localhost:8080/",
          "height": 34
        }
      },
      "source": [
        "# Biblioteca de álgebra linear(matrizes)\n",
        "import numpy as np\n",
        "\n",
        "A = np.matrix([[0,1],[2,3]])\n",
        "\n",
        "a11 = A[0,0]\n",
        "\n",
        "print(a11)"
      ],
      "execution_count": 22,
      "outputs": [
        {
          "output_type": "stream",
          "text": [
            "0\n"
          ],
          "name": "stdout"
        }
      ]
    },
    {
      "cell_type": "markdown",
      "metadata": {
        "id": "RcxC8B-YB_9F"
      },
      "source": [
        "Retornando a primeira linha\n"
      ]
    },
    {
      "cell_type": "code",
      "metadata": {
        "id": "OKSygt0sCAdF",
        "outputId": "89253c61-aa5d-4f89-f529-73fc43cd162a",
        "colab": {
          "base_uri": "https://localhost:8080/",
          "height": 34
        }
      },
      "source": [
        "# Biblioteca de álgebra linear(matrizes)\n",
        "import numpy as np\n",
        "\n",
        "A = np.matrix([[0,1],[2,3]])\n",
        "\n",
        "A1n = A[0,:]\n",
        "\n",
        "print(A1n)"
      ],
      "execution_count": 23,
      "outputs": [
        {
          "output_type": "stream",
          "text": [
            "[[0 1]]\n"
          ],
          "name": "stdout"
        }
      ]
    },
    {
      "cell_type": "markdown",
      "metadata": {
        "id": "frdpiaJ-CC78"
      },
      "source": [
        " Retornando a segunda coluna"
      ]
    },
    {
      "cell_type": "code",
      "metadata": {
        "id": "-TWq4uylCDXZ",
        "outputId": "f0799567-37a8-42d7-c1cb-d5e0c7ff8f2d",
        "colab": {
          "base_uri": "https://localhost:8080/",
          "height": 51
        }
      },
      "source": [
        "# Biblioteca de álgebra linear(matrizes)\n",
        "import numpy as np\n",
        "\n",
        "A = np.matrix([[0,1],[2,3]])\n",
        "\n",
        "Am2 = A[:,1]\n",
        "\n",
        "print(Am2)"
      ],
      "execution_count": 24,
      "outputs": [
        {
          "output_type": "stream",
          "text": [
            "[[1]\n",
            " [3]]\n"
          ],
          "name": "stdout"
        }
      ]
    },
    {
      "cell_type": "markdown",
      "metadata": {
        "id": "3OS1hkyUwjHk"
      },
      "source": [
        "### Matriz quadrada\n",
        "\n",
        "Uma matriz é considerada quadrada quando o número de linhas for igual ao número de columas, ou seja, m=n."
      ]
    },
    {
      "cell_type": "code",
      "metadata": {
        "id": "i2DGQolXwkhN",
        "outputId": "474fe8be-381b-45cb-d0f5-b5b213ef7e0d",
        "colab": {
          "base_uri": "https://localhost:8080/",
          "height": 51
        }
      },
      "source": [
        "# Biblioteca de álgebra linear(matrizes)\n",
        "import numpy as np\n",
        "\n",
        "A = np.array([[0, 1], [2, 3]]) \n",
        "\n",
        "print(A)"
      ],
      "execution_count": 25,
      "outputs": [
        {
          "output_type": "stream",
          "text": [
            "[[0 1]\n",
            " [2 3]]\n"
          ],
          "name": "stdout"
        }
      ]
    },
    {
      "cell_type": "markdown",
      "metadata": {
        "id": "rLfYk8bKwuUT"
      },
      "source": [
        "### Matriz diagonal\n",
        "\n",
        "Uma matriz quadrada é considerada diagonal quando todos os elementos fora da diagonal principal forem nulos, ou seja, ij = 0 para todo i!=j.\n",
        "Podemos representar uma matriz diagonal em python utilizando o método diag()."
      ]
    },
    {
      "cell_type": "code",
      "metadata": {
        "id": "x9WA_T8Qwy8_",
        "outputId": "0517033d-fd10-469e-ec41-ba280dce2582",
        "colab": {
          "base_uri": "https://localhost:8080/",
          "height": 102
        }
      },
      "source": [
        "# Biblioteca de álgebra linear(matrizes)\n",
        "import numpy as np\n",
        "\n",
        "A = np.diag([10, 20, 30, 40, 50])\n",
        "\n",
        "print(A)"
      ],
      "execution_count": 26,
      "outputs": [
        {
          "output_type": "stream",
          "text": [
            "[[10  0  0  0  0]\n",
            " [ 0 20  0  0  0]\n",
            " [ 0  0 30  0  0]\n",
            " [ 0  0  0 40  0]\n",
            " [ 0  0  0  0 50]]\n"
          ],
          "name": "stdout"
        }
      ]
    },
    {
      "cell_type": "markdown",
      "metadata": {
        "id": "ch-E2vgMxAV1"
      },
      "source": [
        "### Matriz triangular(superior e inferior)\n",
        "\n",
        "Uma matriz é considerada **triangular superior** se amn = 0 quando m > n, ou seja, quandos os elementos abaixo da diagonal principal forem iguais a zero.\n",
        "\n",
        "$$\n",
        "A = \\begin{bmatrix}\n",
        "a_{11} & a_{12} & a_{13} & a_{14}  & \\cdots & a_{1n} \\\\\n",
        "0 & a_{22} & a_{23} & a_{24} & \\cdots & a_{2n} \\\\\n",
        "0 & 0 & a_{33} & a_{34} & \\cdots & a_{3n} \\\\\n",
        "0 & 0 & 0 & a_{44} &\\cdots & a_{4n} \\\\\n",
        "\\vdots & \\vdots &a \\vdots & \\vdots & \\ddots & \\vdots \\\\\n",
        "0 & 0 & 0 & 0 & \\cdots & a_{nn}\n",
        "\\end{bmatrix}\n",
        "$$\n",
        "\n",
        "\n",
        "ma matriz é considerada **triangular inferior** se amn = 0 quando m < n, ou seja, quandos os elementos acima da diagonal principal forem iguais a zero.\n",
        "\n",
        "$$\n",
        "A = \\begin{bmatrix}\n",
        "a_{11} & 0 & 0 & 0  & \\cdots & 0 \\\\\n",
        "a_{21} & a_{22} & 0 & 0 & \\cdots & 0 \\\\\n",
        "a_{31} & a_{32} & a_{33} & 0 & \\cdots & 0 \\\\\n",
        "a_{41} & a_{42} & a_{43} & a_{44} &\\cdots & 0 \\\\\n",
        "\\vdots & \\vdots & \\vdots & \\vdots & \\ddots & \\vdots \\\\\n",
        "a_{n1} & a_{n2} & a_{n3} & a_{n4} & \\cdots & a_{nn}\n",
        "\\end{bmatrix}\n",
        "$$"
      ]
    },
    {
      "cell_type": "code",
      "metadata": {
        "id": "f05IOOMUxdke"
      },
      "source": [
        ""
      ],
      "execution_count": 26,
      "outputs": []
    },
    {
      "cell_type": "markdown",
      "metadata": {
        "id": "IW-OhhAGxhn-"
      },
      "source": [
        "### Matriz linha\n",
        "\n",
        "Podemos representar uma matriz linha por:"
      ]
    },
    {
      "cell_type": "code",
      "metadata": {
        "id": "5VSHbFr8xkj2",
        "outputId": "0a817f1d-d7d5-48e4-d62a-a9045d6cefb2",
        "colab": {
          "base_uri": "https://localhost:8080/",
          "height": 34
        }
      },
      "source": [
        "# Biblioteca de álgebra linear(matrizes)\n",
        "import numpy as np\n",
        "\n",
        "#Utilizando um conjunto a mais de colchetes ou parênteses\n",
        "A = np.array([[10, 20, 30, -40]]) \n",
        "\n",
        "print(A)"
      ],
      "execution_count": 27,
      "outputs": [
        {
          "output_type": "stream",
          "text": [
            "[[ 10  20  30 -40]]\n"
          ],
          "name": "stdout"
        }
      ]
    },
    {
      "cell_type": "markdown",
      "metadata": {
        "id": "WzkCZ6T9xvWW"
      },
      "source": [
        "### Matriz coluna\n",
        "\n",
        "Podemos representar uma matriz coluna por:"
      ]
    },
    {
      "cell_type": "code",
      "metadata": {
        "id": "qPuRPCaEx_49",
        "outputId": "b315b8a7-8014-4ec9-9253-82508ed593f4",
        "colab": {
          "base_uri": "https://localhost:8080/",
          "height": 85
        }
      },
      "source": [
        "# Biblioteca de álgebra linear(matrizes)\n",
        "import numpy as np\n",
        "\n",
        "A = np.array([[10],[20],[30],[40]])\n",
        "\n",
        "print(A)"
      ],
      "execution_count": 28,
      "outputs": [
        {
          "output_type": "stream",
          "text": [
            "[[10]\n",
            " [20]\n",
            " [30]\n",
            " [40]]\n"
          ],
          "name": "stdout"
        }
      ]
    },
    {
      "cell_type": "markdown",
      "metadata": {
        "id": "3DtjWx04yKqg"
      },
      "source": [
        "Pode ser obtido a matriz coluna A obtendo a transposta da matriz linha B."
      ]
    },
    {
      "cell_type": "code",
      "metadata": {
        "id": "5PyQYeOSyQnH",
        "outputId": "c5b0fc97-611c-4f8c-eae4-b60a920ccd23",
        "colab": {
          "base_uri": "https://localhost:8080/",
          "height": 102
        }
      },
      "source": [
        "# Biblioteca de álgebra linear(matrizes)\n",
        "import numpy as np\n",
        "\n",
        "# Utilizando um conjunto a mais de colchetes ou parênteses\n",
        "B = np.array([[10, 20, 30, -40]]) \n",
        "\n",
        "print(B)\n",
        "\n",
        "A = np.transpose(B)\n",
        "\n",
        "print(A)"
      ],
      "execution_count": 29,
      "outputs": [
        {
          "output_type": "stream",
          "text": [
            "[[ 10  20  30 -40]]\n",
            "[[ 10]\n",
            " [ 20]\n",
            " [ 30]\n",
            " [-40]]\n"
          ],
          "name": "stdout"
        }
      ]
    },
    {
      "cell_type": "markdown",
      "metadata": {
        "id": "E-EWwlFFyZY-"
      },
      "source": [
        "### Matriz nula\n",
        "\n",
        "É considerada nula se e somente se todos os seus elementos forem iguais a zero. Podemos definir uma matriz nula em python utilizando a função np.zeros passando a dimensão que desejamos."
      ]
    },
    {
      "cell_type": "code",
      "metadata": {
        "id": "Is5sEJQHyc33",
        "outputId": "7929d266-8ca2-4043-dd75-bdd75aa0e6a0",
        "colab": {
          "base_uri": "https://localhost:8080/",
          "height": 51
        }
      },
      "source": [
        "# Biblioteca de álgebra linear(matrizes)\n",
        "import numpy as np\n",
        "\n",
        "A = np.zeros([2,2])\n",
        "\n",
        "print(A)"
      ],
      "execution_count": 30,
      "outputs": [
        {
          "output_type": "stream",
          "text": [
            "[[0. 0.]\n",
            " [0. 0.]]\n"
          ],
          "name": "stdout"
        }
      ]
    },
    {
      "cell_type": "markdown",
      "metadata": {
        "id": "UElDhbzoyjYf"
      },
      "source": [
        "### Matriz identidade\n",
        "\n",
        "Uma matriz identidade é aquela na qual a diagonal principal possui todos os valores iguais a 1 e os demais valores iguais a zero. A matriz identidade é muito utilizada na resolução de sistemas de equações lineares. No python podemos representar uma matriz identidade através da função np.identity() passando como argumento a dimensão desejada."
      ]
    },
    {
      "cell_type": "code",
      "metadata": {
        "id": "Q1N-XYGqylOM",
        "outputId": "e4c7b905-3473-4e49-a4a4-18a479f21580",
        "colab": {
          "base_uri": "https://localhost:8080/",
          "height": 102
        }
      },
      "source": [
        "# Biblioteca de álgebra linear(matrizes)\n",
        "import numpy as np\n",
        "\n",
        "ID = np.identity(5)\n",
        "\n",
        "print(ID)"
      ],
      "execution_count": 31,
      "outputs": [
        {
          "output_type": "stream",
          "text": [
            "[[1. 0. 0. 0. 0.]\n",
            " [0. 1. 0. 0. 0.]\n",
            " [0. 0. 1. 0. 0.]\n",
            " [0. 0. 0. 1. 0.]\n",
            " [0. 0. 0. 0. 1.]]\n"
          ],
          "name": "stdout"
        }
      ]
    },
    {
      "cell_type": "markdown",
      "metadata": {
        "id": "xbLBJcBHytC_"
      },
      "source": [
        "### Matriz transposta\n",
        "\n",
        "A matriz transposta é uma matriz obtida através da troca ordenada de linhas por colunas de uma dada matriz, essa operação pode ser realizada utilizando a função np.transpose. A transposição não altera a diagonal principal de uma matriz quadrada.\n",
        "\n",
        "Propriedades:\n",
        "\n",
        "1. $ (A^T)^T = A $\n",
        "2. $ (A + B)^T = A^T + B^T $\n",
        "3. $ (cA)^T = cA^T $\n",
        "4. $ (AB)^T = A^T B^T  $"
      ]
    },
    {
      "cell_type": "code",
      "metadata": {
        "id": "5jmo7lM1yuqE",
        "outputId": "87bf3061-97db-47a8-9a75-5f850c8b72d2",
        "colab": {
          "base_uri": "https://localhost:8080/",
          "height": 102
        }
      },
      "source": [
        "# Biblioteca de álgebra linear(matrizes)\n",
        "import numpy as np\n",
        "\n",
        "A = np.array([[10,20,30],[40,50,60]])\n",
        "\n",
        "# Mostra a matriz\n",
        "print(A)\n",
        "\n",
        "# Gera a transposta de A\n",
        "At = np.transpose(A)\n",
        "\n",
        "# Mostra transposta\n",
        "print(At)"
      ],
      "execution_count": 32,
      "outputs": [
        {
          "output_type": "stream",
          "text": [
            "[[10 20 30]\n",
            " [40 50 60]]\n",
            "[[10 40]\n",
            " [20 50]\n",
            " [30 60]]\n"
          ],
          "name": "stdout"
        }
      ]
    },
    {
      "cell_type": "markdown",
      "metadata": {
        "id": "53_8dRe3zGMo"
      },
      "source": [
        "A matriz transposta também pode ser obtidade através do método .T."
      ]
    },
    {
      "cell_type": "code",
      "metadata": {
        "id": "U7AU0MEWzHoF",
        "outputId": "9742b2d0-1157-4ede-a7e3-8faa912c15f0",
        "colab": {
          "base_uri": "https://localhost:8080/",
          "height": 102
        }
      },
      "source": [
        "# Biblioteca de álgebra linear(matrizes)\n",
        "import numpy as np\n",
        "\n",
        "A = np.array([[10,20,30],[40,50,60]])\n",
        "\n",
        "# Mostra a matriz\n",
        "print(A)\n",
        "\n",
        "# Gera a transposta de A\n",
        "At = A.T\n",
        "\n",
        "# Mostra transposta\n",
        "print(At)"
      ],
      "execution_count": 33,
      "outputs": [
        {
          "output_type": "stream",
          "text": [
            "[[10 20 30]\n",
            " [40 50 60]]\n",
            "[[10 40]\n",
            " [20 50]\n",
            " [30 60]]\n"
          ],
          "name": "stdout"
        }
      ]
    },
    {
      "cell_type": "markdown",
      "metadata": {
        "id": "vHskib3KzmAf"
      },
      "source": [
        "Vamos verificar a validação de cada uma das propriedades da transposta:"
      ]
    },
    {
      "cell_type": "code",
      "metadata": {
        "id": "NpRPO-FwzpIG",
        "outputId": "b58519d3-9c06-40ff-9bf0-da526bd63e49",
        "colab": {
          "base_uri": "https://localhost:8080/",
          "height": 187
        }
      },
      "source": [
        "# Biblioteca de álgebra linear(matrizes)\n",
        "import numpy as np\n",
        "\n",
        "A = np.array(([1,2],[3,4]))\n",
        "B = np.array(([5,6],[7,8]))\n",
        "\n",
        "print(A == B)\n",
        "\n",
        "# Propriedade 1\n",
        "print((A.T).T == A)\n",
        "\n",
        "# Propriedade 2\n",
        "print((A+B).T == A.T + B.T)\n",
        "\n",
        "# Propriedade 3\n",
        "print((7*A).T == 7*A.T)\n",
        "\n",
        "# Propriedade 4\n",
        "print((A*B).T == B.T*A.T)"
      ],
      "execution_count": 34,
      "outputs": [
        {
          "output_type": "stream",
          "text": [
            "[[False False]\n",
            " [False False]]\n",
            "[[ True  True]\n",
            " [ True  True]]\n",
            "[[ True  True]\n",
            " [ True  True]]\n",
            "[[ True  True]\n",
            " [ True  True]]\n",
            "[[ True  True]\n",
            " [ True  True]]\n"
          ],
          "name": "stdout"
        }
      ]
    },
    {
      "cell_type": "markdown",
      "metadata": {
        "id": "M5BiO3gox8wZ"
      },
      "source": [
        "### Operações com escalar"
      ]
    },
    {
      "cell_type": "markdown",
      "metadata": {
        "id": "xdQjTyAv2x3H"
      },
      "source": [
        "Soma de elemento da matrizes por um escalar."
      ]
    },
    {
      "cell_type": "code",
      "metadata": {
        "id": "PBUcKLUz2x3I",
        "outputId": "5841907b-8dc6-4d45-e9a0-33fcd8b1911b",
        "colab": {
          "base_uri": "https://localhost:8080/",
          "height": 85
        }
      },
      "source": [
        "# Biblioteca de álgebra linear(matrizes)\n",
        "import numpy as np\n",
        "\n",
        "A = np.array([[0,1],[2,3]])\n",
        "\n",
        "print(A)\n",
        "\n",
        "B = A + 2\n",
        "\n",
        "print(B)"
      ],
      "execution_count": 35,
      "outputs": [
        {
          "output_type": "stream",
          "text": [
            "[[0 1]\n",
            " [2 3]]\n",
            "[[2 3]\n",
            " [4 5]]\n"
          ],
          "name": "stdout"
        }
      ]
    },
    {
      "cell_type": "markdown",
      "metadata": {
        "id": "kqsUQYwlkoHY"
      },
      "source": [
        "Multiplicação de elemento da matrizes por um escalar."
      ]
    },
    {
      "cell_type": "code",
      "metadata": {
        "id": "7bgj6jhakOKL",
        "outputId": "b295b76b-7715-4201-ded3-df0c41604834",
        "colab": {
          "base_uri": "https://localhost:8080/",
          "height": 85
        }
      },
      "source": [
        "# Biblioteca de álgebra linear(matrizes)\n",
        "import numpy as np\n",
        "\n",
        "A = np.array([[0,1],[2,3]])\n",
        "\n",
        "print(A)\n",
        "\n",
        "B = A * 3\n",
        "\n",
        "print(B)"
      ],
      "execution_count": 36,
      "outputs": [
        {
          "output_type": "stream",
          "text": [
            "[[0 1]\n",
            " [2 3]]\n",
            "[[0 3]\n",
            " [6 9]]\n"
          ],
          "name": "stdout"
        }
      ]
    },
    {
      "cell_type": "markdown",
      "metadata": {
        "id": "4TOzfEZU2tO5"
      },
      "source": [
        "### Operações entre matrizes e vetores\n",
        "\n"
      ]
    },
    {
      "cell_type": "markdown",
      "metadata": {
        "id": "fNWR58Up3LOY"
      },
      "source": [
        "Multiplicação de matriz e vetor\n",
        "\n",
        "Na multiplicação de um vetor por uma matriz, precisamos verificar se as dimensões são compatíveis, ou seja, se o número de colunas são iguais."
      ]
    },
    {
      "cell_type": "code",
      "metadata": {
        "id": "_r-pVHpv3MCa",
        "outputId": "4ac49b70-fcf2-4fb3-cd50-487bfed61267",
        "colab": {
          "base_uri": "https://localhost:8080/",
          "height": 102
        }
      },
      "source": [
        "# Biblioteca de álgebra linear(matrizes)\n",
        "import numpy as np\n",
        "\n",
        "A = np.array([1, 2, 3]) # Vetor\n",
        "\n",
        "B = np.array(([10, 20, 30],[40, 50, 60]))\n",
        "\n",
        "print(A)\n",
        "print(B)\n",
        "\n",
        "# Multiplica o vetor A pela matriz B\n",
        "C = A * B\n",
        "\n",
        "print(C)"
      ],
      "execution_count": 37,
      "outputs": [
        {
          "output_type": "stream",
          "text": [
            "[1 2 3]\n",
            "[[10 20 30]\n",
            " [40 50 60]]\n",
            "[[ 10  40  90]\n",
            " [ 40 100 180]]\n"
          ],
          "name": "stdout"
        }
      ]
    },
    {
      "cell_type": "markdown",
      "metadata": {
        "id": "YmDv4qH93pxR"
      },
      "source": [
        "Somando matriz e vetor"
      ]
    },
    {
      "cell_type": "code",
      "metadata": {
        "id": "bURFMw6a3u1R",
        "outputId": "5602f78f-712c-4ca9-9689-e7f0bd226a52",
        "colab": {
          "base_uri": "https://localhost:8080/",
          "height": 102
        }
      },
      "source": [
        "# Biblioteca de álgebra linear(matrizes)\n",
        "import numpy as np\n",
        "\n",
        "A = np.array([1, 2, 3]) # Vetor\n",
        "\n",
        "B = np.array(([10, 20, 30],[40, 50, 60]))\n",
        "\n",
        "print(A)\n",
        "print(B)\n",
        "\n",
        "# Multiplica o vetor A pela matriz B\n",
        "C = B+A\n",
        "\n",
        "print(C)"
      ],
      "execution_count": 38,
      "outputs": [
        {
          "output_type": "stream",
          "text": [
            "[1 2 3]\n",
            "[[10 20 30]\n",
            " [40 50 60]]\n",
            "[[11 22 33]\n",
            " [41 52 63]]\n"
          ],
          "name": "stdout"
        }
      ]
    },
    {
      "cell_type": "markdown",
      "metadata": {
        "id": "QAjRvRvK37an"
      },
      "source": [
        "Subtraindo matriz e vetor"
      ]
    },
    {
      "cell_type": "code",
      "metadata": {
        "id": "ro2TfMFq37ao",
        "outputId": "b060038f-2b43-4809-c669-1cabf2f81303",
        "colab": {
          "base_uri": "https://localhost:8080/",
          "height": 102
        }
      },
      "source": [
        "# Biblioteca de álgebra linear(matrizes)\n",
        "import numpy as np\n",
        "\n",
        "A = np.array([1, 2, 3]) # Vetor\n",
        "\n",
        "B = np.array(([10, 20, 30],[40, 50, 60]))\n",
        "\n",
        "print(A)\n",
        "print(B)\n",
        "\n",
        "# Multiplica o vetor A pela matriz B\n",
        "C = B-A\n",
        "\n",
        "print(C)"
      ],
      "execution_count": 39,
      "outputs": [
        {
          "output_type": "stream",
          "text": [
            "[1 2 3]\n",
            "[[10 20 30]\n",
            " [40 50 60]]\n",
            "[[ 9 18 27]\n",
            " [39 48 57]]\n"
          ],
          "name": "stdout"
        }
      ]
    },
    {
      "cell_type": "markdown",
      "metadata": {
        "id": "3vbGQS9e4H__"
      },
      "source": [
        "Dividindo matriz e vetor"
      ]
    },
    {
      "cell_type": "code",
      "metadata": {
        "id": "fnpx9Y8S4H__",
        "outputId": "b367da5e-cb0b-45b4-868a-357044f0f65c",
        "colab": {
          "base_uri": "https://localhost:8080/",
          "height": 102
        }
      },
      "source": [
        "# Biblioteca de álgebra linear(matrizes)\n",
        "import numpy as np\n",
        "\n",
        "A = np.array([1, 2, 3]) # Vetor\n",
        "\n",
        "B = np.array(([10, 20, 30],[40, 50, 60]))\n",
        "\n",
        "print(A)\n",
        "print(B)\n",
        "\n",
        "# Multiplica o vetor A pela matriz B\n",
        "C = B/A\n",
        "\n",
        "print(C)"
      ],
      "execution_count": 40,
      "outputs": [
        {
          "output_type": "stream",
          "text": [
            "[1 2 3]\n",
            "[[10 20 30]\n",
            " [40 50 60]]\n",
            "[[10. 10. 10.]\n",
            " [40. 25. 20.]]\n"
          ],
          "name": "stdout"
        }
      ]
    },
    {
      "cell_type": "markdown",
      "metadata": {
        "id": "BMWjgYgO8JLW"
      },
      "source": [
        "### Operações entre matrizes\n",
        "Precisamos conferir se as dimensões são compatíveis para efetuar as operações matemáticas."
      ]
    },
    {
      "cell_type": "markdown",
      "metadata": {
        "id": "4KeWMhv482cX"
      },
      "source": [
        "Somando duas matrizes"
      ]
    },
    {
      "cell_type": "code",
      "metadata": {
        "id": "RXLEajgv8xQ-",
        "outputId": "11d18014-0714-4fa0-a924-52de619d45f6",
        "colab": {
          "base_uri": "https://localhost:8080/",
          "height": 119
        }
      },
      "source": [
        "# Biblioteca de álgebra linear(matrizes)\n",
        "import numpy as np\n",
        "\n",
        "A = np.array([[0, 1], [2, 3]]) \n",
        "B = np.array([[3, 4], [5, 6]]) \n",
        "\n",
        "print(A)\n",
        "print(B)\n",
        "\n",
        "C = A + B\n",
        "\n",
        "print(C)"
      ],
      "execution_count": 41,
      "outputs": [
        {
          "output_type": "stream",
          "text": [
            "[[0 1]\n",
            " [2 3]]\n",
            "[[3 4]\n",
            " [5 6]]\n",
            "[[3 5]\n",
            " [7 9]]\n"
          ],
          "name": "stdout"
        }
      ]
    },
    {
      "cell_type": "markdown",
      "metadata": {
        "id": "8ZpuYglq8-lF"
      },
      "source": [
        "Subtraindo duas matrizes"
      ]
    },
    {
      "cell_type": "code",
      "metadata": {
        "id": "-j6EoDj38-lI",
        "outputId": "1ba2a5a6-6051-4847-bdf4-645372f9f633",
        "colab": {
          "base_uri": "https://localhost:8080/",
          "height": 119
        }
      },
      "source": [
        "# Biblioteca de álgebra linear(matrizes)\n",
        "import numpy as np\n",
        "\n",
        "A = np.array([[0, 1], [2, 3]]) \n",
        "B = np.array([[3, 4], [5, 6]]) \n",
        "\n",
        "print(A)\n",
        "print(B)\n",
        "\n",
        "C = B - A\n",
        "\n",
        "print(C)"
      ],
      "execution_count": 42,
      "outputs": [
        {
          "output_type": "stream",
          "text": [
            "[[0 1]\n",
            " [2 3]]\n",
            "[[3 4]\n",
            " [5 6]]\n",
            "[[3 3]\n",
            " [3 3]]\n"
          ],
          "name": "stdout"
        }
      ]
    },
    {
      "cell_type": "markdown",
      "metadata": {
        "id": "wvajgpHU9DBP"
      },
      "source": [
        "Multiplicando duas matrizes 1"
      ]
    },
    {
      "cell_type": "code",
      "metadata": {
        "id": "_TmPM9lw9DBQ",
        "outputId": "15532c32-3985-468b-c3ac-fbf1922446c2",
        "colab": {
          "base_uri": "https://localhost:8080/",
          "height": 119
        }
      },
      "source": [
        "# Biblioteca de álgebra linear(matrizes)\n",
        "import numpy as np\n",
        "\n",
        "A = np.array([[0, 1], [2, 3]]) \n",
        "B = np.array([[3, 4], [5, 6]]) \n",
        "\n",
        "print(A)\n",
        "print(B)\n",
        "\n",
        "C = A * B\n",
        "\n",
        "print(C)"
      ],
      "execution_count": 43,
      "outputs": [
        {
          "output_type": "stream",
          "text": [
            "[[0 1]\n",
            " [2 3]]\n",
            "[[3 4]\n",
            " [5 6]]\n",
            "[[ 0  4]\n",
            " [10 18]]\n"
          ],
          "name": "stdout"
        }
      ]
    },
    {
      "cell_type": "markdown",
      "metadata": {
        "id": "FvHZmkk39acP"
      },
      "source": [
        "Multiplicando duas matrizes 2\n",
        " \n",
        "A multiplicação entre os elementos das matrizes pode ser realizada através da função np.multiply()."
      ]
    },
    {
      "cell_type": "code",
      "metadata": {
        "id": "AXkn6m9o9W6i",
        "outputId": "e277989b-015f-4bba-a726-cc620c6273fe",
        "colab": {
          "base_uri": "https://localhost:8080/",
          "height": 119
        }
      },
      "source": [
        "# Biblioteca de álgebra linear(matrizes)\n",
        "import numpy as np\n",
        "\n",
        "A = np.array([[0, 1], [2, 3]]) \n",
        "B = np.array([[3, 4], [5, 6]]) \n",
        "\n",
        "print(A)\n",
        "print(B)\n",
        "\n",
        "C = np.multiply(A, B)\n",
        "\n",
        "print(C)"
      ],
      "execution_count": 44,
      "outputs": [
        {
          "output_type": "stream",
          "text": [
            "[[0 1]\n",
            " [2 3]]\n",
            "[[3 4]\n",
            " [5 6]]\n",
            "[[ 0  4]\n",
            " [10 18]]\n"
          ],
          "name": "stdout"
        }
      ]
    },
    {
      "cell_type": "markdown",
      "metadata": {
        "id": "6lzotXBo9rxn"
      },
      "source": [
        "\n",
        "Obs: Só é possível realizar o produto entre duas matrizes se o número de colunas da primeira matriz for igual ao número de linhas da segunda. O produto entre matrizes pode ser feito através do método np.dot(m1,m2).\n",
        "\n",
        "$$A_{mn} . B_{np} = (AB)_{mp}$$\n",
        "\n",
        "No produto entre matrizes, cada elemento da linha da primeira coluna deve ser multiplicado e somado pelos correspondentes elementos da coluna da segunda matriz."
      ]
    },
    {
      "cell_type": "code",
      "metadata": {
        "id": "SQqIZE3w9_ec",
        "outputId": "f64429b7-a2d0-4b7f-baef-7060bcca8052",
        "colab": {
          "base_uri": "https://localhost:8080/",
          "height": 119
        }
      },
      "source": [
        "# Biblioteca de álgebra linear(matrizes)\n",
        "import numpy as np\n",
        "\n",
        "A = np.array([[0, 1], [2, 3]]) \n",
        "B = np.array([[3, 4], [5, 6]]) \n",
        "\n",
        "print(A)\n",
        "print(B)\n",
        "\n",
        "C = np.dot(A, B)\n",
        "\n",
        "print(C)"
      ],
      "execution_count": 45,
      "outputs": [
        {
          "output_type": "stream",
          "text": [
            "[[0 1]\n",
            " [2 3]]\n",
            "[[3 4]\n",
            " [5 6]]\n",
            "[[ 5  6]\n",
            " [21 26]]\n"
          ],
          "name": "stdout"
        }
      ]
    },
    {
      "cell_type": "markdown",
      "metadata": {
        "id": "LkIxTFbC-GtM"
      },
      "source": [
        "Não temos comutatividade no produto entre matrizes, a ordem importa!"
      ]
    },
    {
      "cell_type": "code",
      "metadata": {
        "id": "Jp9K0jav-KuQ",
        "outputId": "674a8bf8-8eee-46fb-e28a-5dad9c5289f5",
        "colab": {
          "base_uri": "https://localhost:8080/",
          "height": 119
        }
      },
      "source": [
        "# Biblioteca de álgebra linear(matrizes)\n",
        "import numpy as np\n",
        "\n",
        "A = np.array([[0, 1], [2, 3]]) \n",
        "B = np.array([[3, 4], [5, 6]]) \n",
        "\n",
        "print(A)\n",
        "print(B)\n",
        "\n",
        "# Invertido\n",
        "C = np.dot(B, A)\n",
        "\n",
        "print(C)"
      ],
      "execution_count": 46,
      "outputs": [
        {
          "output_type": "stream",
          "text": [
            "[[0 1]\n",
            " [2 3]]\n",
            "[[3 4]\n",
            " [5 6]]\n",
            "[[ 8 15]\n",
            " [12 23]]\n"
          ],
          "name": "stdout"
        }
      ]
    },
    {
      "cell_type": "markdown",
      "metadata": {
        "id": "O1FNKyeG9KqP"
      },
      "source": [
        "Dividindo duas matrizes"
      ]
    },
    {
      "cell_type": "code",
      "metadata": {
        "id": "hHXTPyQV9KqQ",
        "outputId": "f0af2c23-b6c6-46b3-e24d-295033569e84",
        "colab": {
          "base_uri": "https://localhost:8080/",
          "height": 119
        }
      },
      "source": [
        "# Biblioteca de álgebra linear(matrizes)\n",
        "import numpy as np\n",
        "\n",
        "A = np.array([[1, 1], [2, 3]]) \n",
        "B = np.array([[3, 4], [5, 6]]) \n",
        "\n",
        "print(A)\n",
        "print(B)\n",
        "\n",
        "C = B / A\n",
        "\n",
        "print(C)"
      ],
      "execution_count": 47,
      "outputs": [
        {
          "output_type": "stream",
          "text": [
            "[[1 1]\n",
            " [2 3]]\n",
            "[[3 4]\n",
            " [5 6]]\n",
            "[[3.  4. ]\n",
            " [2.5 2. ]]\n"
          ],
          "name": "stdout"
        }
      ]
    },
    {
      "cell_type": "markdown",
      "metadata": {
        "id": "pNBgCTvg8kwB"
      },
      "source": [
        "### Outras operações"
      ]
    },
    {
      "cell_type": "markdown",
      "metadata": {
        "id": "mzqDQ9dElHxB"
      },
      "source": [
        "Somando elementos de 1 matriz."
      ]
    },
    {
      "cell_type": "code",
      "metadata": {
        "id": "ofq1_jZkk6Qo",
        "outputId": "68433b31-d8c4-4c8a-b3cc-e182b52c9c52",
        "colab": {
          "base_uri": "https://localhost:8080/",
          "height": 68
        }
      },
      "source": [
        "# Biblioteca de álgebra linear(matrizes)\n",
        "import numpy as np\n",
        "\n",
        "A = np.array([[0,1],[2,3]])\n",
        "\n",
        "B = np.sum(A)\n",
        "\n",
        "print(A)\n",
        "print(B)"
      ],
      "execution_count": 48,
      "outputs": [
        {
          "output_type": "stream",
          "text": [
            "[[0 1]\n",
            " [2 3]]\n",
            "6\n"
          ],
          "name": "stdout"
        }
      ]
    },
    {
      "cell_type": "markdown",
      "metadata": {
        "id": "z-QYK9ttld44"
      },
      "source": [
        "Multiplicando e somando 2 matrizes."
      ]
    },
    {
      "cell_type": "code",
      "metadata": {
        "id": "oWVa4tMtleL0",
        "outputId": "7b3aefc3-2e4a-4831-8cee-0478205e00e8",
        "colab": {
          "base_uri": "https://localhost:8080/",
          "height": 102
        }
      },
      "source": [
        "# Biblioteca de álgebra linear(matrizes)\n",
        "import numpy as np\n",
        "\n",
        "A = np.array([[0,1],[2,3]])\n",
        "B = np.array([[0,1],[2,3]]) \n",
        "\n",
        "C = np.sum(A * B)\n",
        "\n",
        "print(A)\n",
        "print(B)\n",
        "print(C)"
      ],
      "execution_count": 49,
      "outputs": [
        {
          "output_type": "stream",
          "text": [
            "[[0 1]\n",
            " [2 3]]\n",
            "[[0 1]\n",
            " [2 3]]\n",
            "14\n"
          ],
          "name": "stdout"
        }
      ]
    },
    {
      "cell_type": "markdown",
      "metadata": {
        "id": "zrV5-JqdmHvF"
      },
      "source": [
        "Retorna a convolução linear discreta de dois vetores."
      ]
    },
    {
      "cell_type": "code",
      "metadata": {
        "id": "01_qU3CicoS1",
        "outputId": "55b5f59e-b00a-4db1-fad6-f41d59acd63d",
        "colab": {
          "base_uri": "https://localhost:8080/",
          "height": 68
        }
      },
      "source": [
        "# Biblioteca de álgebra linear(matrizes)\n",
        "import numpy as np\n",
        "\n",
        "A = np.array([1,2,3])        # 1 + 2x + 3x^2\n",
        "B = np.array([4,5,6])        # 4 + 5x + 6x^2\n",
        "\n",
        "C = np.convolve(A, B)        # (1 + 2x + 3x^2) * (4 + 5x + 6x^2)\n",
        "#array([ 4, 13, 28, 27, 18]) # 4 + 13x + 28x^2 + 27x^3 + 18x^4\n",
        "\n",
        "print(A)\n",
        "print(B)\n",
        "print(C)"
      ],
      "execution_count": 50,
      "outputs": [
        {
          "output_type": "stream",
          "text": [
            "[1 2 3]\n",
            "[4 5 6]\n",
            "[ 4 13 28 27 18]\n"
          ],
          "name": "stdout"
        }
      ]
    },
    {
      "cell_type": "markdown",
      "metadata": {
        "id": "oMqCOleanB62"
      },
      "source": [
        "Concatena duas matrizes."
      ]
    },
    {
      "cell_type": "code",
      "metadata": {
        "id": "s0lEHC14nCMo",
        "outputId": "e0445a0d-5582-4ad9-ed15-4f08764b5d7c",
        "colab": {
          "base_uri": "https://localhost:8080/",
          "height": 153
        }
      },
      "source": [
        "# Biblioteca de álgebra linear(matrizes)\n",
        "import numpy as np\n",
        "\n",
        "A = np.array([[0, 1], [2, 3]]) \n",
        "B = np.array([[3, 4], [5, 6]]) \n",
        "\n",
        "C = np.concatenate((A,B))\n",
        "\n",
        "print(A)\n",
        "print(B)\n",
        "print(C)"
      ],
      "execution_count": 51,
      "outputs": [
        {
          "output_type": "stream",
          "text": [
            "[[0 1]\n",
            " [2 3]]\n",
            "[[3 4]\n",
            " [5 6]]\n",
            "[[0 1]\n",
            " [2 3]\n",
            " [3 4]\n",
            " [5 6]]\n"
          ],
          "name": "stdout"
        }
      ]
    },
    {
      "cell_type": "markdown",
      "metadata": {
        "id": "cZiTlyUEmnvH"
      },
      "source": [
        "Concatena duas matrizes.\n",
        "\n",
        "Seleciona o eixo.\n",
        "\n",
        "axis = 0 eixo y.\n",
        "\n",
        "axis = 1 eixo x."
      ]
    },
    {
      "cell_type": "code",
      "metadata": {
        "id": "LnNuRNKGeX18",
        "outputId": "3e26be9b-3ba4-4f75-e34f-e383b4bc4bac",
        "colab": {
          "base_uri": "https://localhost:8080/",
          "height": 119
        }
      },
      "source": [
        "# Biblioteca de álgebra linear(matrizes)\n",
        "import numpy as np\n",
        "\n",
        "A = np.array([[0, 1], [2, 3]]) \n",
        "B = np.array([[3, 4], [5, 6]]) \n",
        "\n",
        "C = np.concatenate((A,B),axis=1)\n",
        "\n",
        "print(A)\n",
        "print(B)\n",
        "print(C)"
      ],
      "execution_count": 52,
      "outputs": [
        {
          "output_type": "stream",
          "text": [
            "[[0 1]\n",
            " [2 3]]\n",
            "[[3 4]\n",
            " [5 6]]\n",
            "[[0 1 3 4]\n",
            " [2 3 5 6]]\n"
          ],
          "name": "stdout"
        }
      ]
    },
    {
      "cell_type": "markdown",
      "metadata": {
        "id": "-AZsm3ymojbH"
      },
      "source": [
        "função é usada para calcular uma das oito normas matriciais ou uma das normas vetoriais."
      ]
    },
    {
      "cell_type": "code",
      "metadata": {
        "id": "_ztLOBDfn5t5",
        "outputId": "3eabfee0-813b-4354-a335-d81239ef0c73",
        "colab": {
          "base_uri": "https://localhost:8080/",
          "height": 119
        }
      },
      "source": [
        "# Biblioteca de álgebra linear(matrizes)\n",
        "import numpy as np\n",
        "\n",
        "A = np.array([[0, 1], [2, 3]]) \n",
        "\n",
        "B = np.linalg.norm(A, axis=0)\n",
        "\n",
        "print(A)\n",
        "print(B)\n",
        "\n",
        "B = np.linalg.norm(A, axis=1)\n",
        "\n",
        "print(A)\n",
        "print(B)"
      ],
      "execution_count": 53,
      "outputs": [
        {
          "output_type": "stream",
          "text": [
            "[[0 1]\n",
            " [2 3]]\n",
            "[2.         3.16227766]\n",
            "[[0 1]\n",
            " [2 3]]\n",
            "[1.         3.60555128]\n"
          ],
          "name": "stdout"
        }
      ]
    },
    {
      "cell_type": "code",
      "metadata": {
        "id": "jZDQTOTy8Nam"
      },
      "source": [
        "# Biblioteca de álgebra linear(matrizes)\n",
        "import numpy as np\n",
        "\n",
        "A = np.array([[0, 1], [2, 3]]) \n",
        "B = np.array([[3, 4], [5, 6]]) "
      ],
      "execution_count": 54,
      "outputs": []
    },
    {
      "cell_type": "markdown",
      "metadata": {
        "id": "agLxKNjQ-Yt7"
      },
      "source": [
        "Traço da matriz\n",
        "\n",
        "O traço de uma matriz quadrada é a soma dos elementos da sua diagonal principal, o traço pode ser obtido através da função np.trace()."
      ]
    },
    {
      "cell_type": "code",
      "metadata": {
        "id": "i6NIQTyR-fLc",
        "outputId": "eb9b49c9-f28b-481a-977e-42a34af3f8c7",
        "colab": {
          "base_uri": "https://localhost:8080/",
          "height": 68
        }
      },
      "source": [
        "# Biblioteca de álgebra linear(matrizes)\n",
        "import numpy as np\n",
        "\n",
        "A = np.array([[1, 2], [3, 4]]) \n",
        "\n",
        "print(A)\n",
        "\n",
        "B = np.trace(A)\n",
        "\n",
        "print(B)"
      ],
      "execution_count": 55,
      "outputs": [
        {
          "output_type": "stream",
          "text": [
            "[[1 2]\n",
            " [3 4]]\n",
            "5\n"
          ],
          "name": "stdout"
        }
      ]
    },
    {
      "cell_type": "markdown",
      "metadata": {
        "id": "mYWzeuAo-pS5"
      },
      "source": [
        "No caso de uma matriz não quadrada, a soma será da parte da diagonal principal referente a uma matriz quadrada, exemplo:\n",
        "\n",
        "$$A_{23} = \n",
        "\\begin{bmatrix}\n",
        "{\\color{Red}1} & 2 & 3 \\\\\n",
        "3 & {\\color{Red}4} & 5\n",
        "\\end{bmatrix}\n",
        "$$"
      ]
    },
    {
      "cell_type": "code",
      "metadata": {
        "id": "vE1QZoJ1-qqe",
        "outputId": "37f21c71-af1c-4003-ee1b-f9dd879bcff6",
        "colab": {
          "base_uri": "https://localhost:8080/",
          "height": 68
        }
      },
      "source": [
        "# Biblioteca de álgebra linear(matrizes)\n",
        "import numpy as np\n",
        "\n",
        "A = np.array([[1, 2, 3], [3, 4, 5]]) \n",
        "\n",
        "print(A)\n",
        "\n",
        "B = np.trace(A)\n",
        "\n",
        "print(B)"
      ],
      "execution_count": 56,
      "outputs": [
        {
          "output_type": "stream",
          "text": [
            "[[1 2 3]\n",
            " [3 4 5]]\n",
            "5\n"
          ],
          "name": "stdout"
        }
      ]
    },
    {
      "cell_type": "markdown",
      "metadata": {
        "id": "G6cF7ox7-4yk"
      },
      "source": [
        "Propriedade do traço:\n",
        "\n",
        "1. $tr(A+B) = tr(A) + tr(B)$;\n",
        "\n",
        "2. $tr(\\lambda . A) = \\lambda. tr(A)$;\n",
        "\n",
        "3. O traço de uma matriz quadrada é igual ao traço de sua transposta;\n",
        "\n",
        "4. $tr(AB) = tr(BA)$;\n",
        "\n",
        "5. O traço de uma matriz simétrica é igual a soma dos seus valores próprios (autovalores). Uma matriz A é dita simétrica se ela for igual a sua transposta.\n",
        "\n"
      ]
    },
    {
      "cell_type": "code",
      "metadata": {
        "id": "_KEF0UAd_OK_",
        "outputId": "13007c02-b022-44d1-95c2-b843e80ac0ca",
        "colab": {
          "base_uri": "https://localhost:8080/",
          "height": 85
        }
      },
      "source": [
        "# Biblioteca de álgebra linear(matrizes)\n",
        "import numpy as np\n",
        "\n",
        "A = np.array(([1,1],[2,2]))\n",
        "B = np.array(([3,3],[4,4]))\n",
        "\n",
        "# Propriedade 1\n",
        "np.trace(A+B) ==  np.trace(A) + np.trace(B)\n",
        "print(np.trace(A+B) ==  np.trace(A) + np.trace(B))\n",
        "\n",
        "# Propriedade 2\n",
        "print(np.trace(5*A) == 5 * np.trace(A))\n",
        "\n",
        "# Propriedade 3\n",
        "print(np.trace(A) == np.trace(np.transpose(A)))\n",
        "\n",
        "# Propriedade 4\n",
        "print(np.trace(A*B) == np.trace(B*A))"
      ],
      "execution_count": 57,
      "outputs": [
        {
          "output_type": "stream",
          "text": [
            "True\n",
            "True\n",
            "True\n",
            "True\n"
          ],
          "name": "stdout"
        }
      ]
    },
    {
      "cell_type": "markdown",
      "metadata": {
        "id": "ZuGzLCTB_fuM"
      },
      "source": [
        "### Inversa de uma matriz\n",
        "\n",
        "Se o produto de duas matrizes resulta em uma matriz identidade, essa matriz possui uma inversa. A biblioteca Numpy possuí um pacote específico para trabalhar com álgebra linear, se chama numpy.lialg, no qual possuí a função inv() para calcular a inversa de uma matriz."
      ]
    },
    {
      "cell_type": "code",
      "metadata": {
        "id": "kWbceG_2_hXc",
        "outputId": "18b81a83-8d8c-4878-97d2-a079dde33851",
        "colab": {
          "base_uri": "https://localhost:8080/",
          "height": 85
        }
      },
      "source": [
        "# Biblioteca de álgebra linear(matrizes)\n",
        "import numpy as np\n",
        "\n",
        "from numpy.linalg import inv\n",
        "\n",
        "A = np.array(([1,2],[3,4]))\n",
        "print(A)\n",
        "\n",
        "B = inv(A)\n",
        "print(B)"
      ],
      "execution_count": 58,
      "outputs": [
        {
          "output_type": "stream",
          "text": [
            "[[1 2]\n",
            " [3 4]]\n",
            "[[-2.   1. ]\n",
            " [ 1.5 -0.5]]\n"
          ],
          "name": "stdout"
        }
      ]
    },
    {
      "cell_type": "markdown",
      "metadata": {
        "id": "k23DPLp5_tsv"
      },
      "source": [
        "Para verificar se a matriz B é inversa da matriz A:"
      ]
    },
    {
      "cell_type": "code",
      "metadata": {
        "id": "hCSrqN0s_vuH",
        "outputId": "3eb8f084-a21b-42ef-a683-a8d2a335060f",
        "colab": {
          "base_uri": "https://localhost:8080/",
          "height": 51
        }
      },
      "source": [
        "print(np.dot(B,A))"
      ],
      "execution_count": 59,
      "outputs": [
        {
          "output_type": "stream",
          "text": [
            "[[1.00000000e+00 0.00000000e+00]\n",
            " [1.11022302e-16 1.00000000e+00]]\n"
          ],
          "name": "stdout"
        }
      ]
    },
    {
      "cell_type": "markdown",
      "metadata": {
        "id": "dzpwjSF6_77B"
      },
      "source": [
        "Propriedades da matriz inversa:\n",
        "\n",
        "1. Se A for uma matriz inversa, a inversa de A também será invertível:\n",
        "\n",
        "$$ (A^{-1})^{-1} = A $$"
      ]
    },
    {
      "cell_type": "code",
      "metadata": {
        "id": "snuwjPDTACA6",
        "outputId": "e55c4ce3-eab7-4f87-d32a-a30d2cceea5b",
        "colab": {
          "base_uri": "https://localhost:8080/",
          "height": 51
        }
      },
      "source": [
        "# Biblioteca de álgebra linear(matrizes)\n",
        "import numpy as np\n",
        "\n",
        "A = np.array(([1.,2.],[3.,4.]))\n",
        "\n",
        "#o retorno é falso por motivos de arredondamento\n",
        "print(inv(inv(A)) == A)"
      ],
      "execution_count": 60,
      "outputs": [
        {
          "output_type": "stream",
          "text": [
            "[[False False]\n",
            " [False False]]\n"
          ],
          "name": "stdout"
        }
      ]
    },
    {
      "cell_type": "markdown",
      "metadata": {
        "id": "c7ZXX4OvAI3p"
      },
      "source": [
        "2. Se A e B forem matrizes invertíveis, então AB também é invertível:\n",
        "\n",
        "$$ (AB^{-1})^{-1} = A^{-1} B^{-1} $$"
      ]
    },
    {
      "cell_type": "code",
      "metadata": {
        "id": "8OUYIRYSAL8t",
        "outputId": "6273a2c2-1558-4b46-e7cf-1ecb720e4b87",
        "colab": {
          "base_uri": "https://localhost:8080/",
          "height": 221
        }
      },
      "source": [
        "# Biblioteca de álgebra linear(matrizes)\n",
        "import numpy as np\n",
        "\n",
        "A = np.array(([1.,2.],[3.,4.]))\n",
        "print(\"A=\")\n",
        "print(A)\n",
        "\n",
        "B = inv(A)\n",
        "print(\"B=\")\n",
        "print(B)\n",
        "\n",
        "C = inv(A.dot(B))\n",
        "print(\"C=\")\n",
        "print(C)\n",
        "\n",
        "D = inv(B).dot(inv(A))\n",
        "print(\"D=\")\n",
        "print(D)"
      ],
      "execution_count": 61,
      "outputs": [
        {
          "output_type": "stream",
          "text": [
            "A=\n",
            "[[1. 2.]\n",
            " [3. 4.]]\n",
            "B=\n",
            "[[-2.   1. ]\n",
            " [ 1.5 -0.5]]\n",
            "C=\n",
            "[[ 1.0000000e+00  0.0000000e+00]\n",
            " [-8.8817842e-16  1.0000000e+00]]\n",
            "D=\n",
            "[[1.00000000e+00 9.86076132e-32]\n",
            " [8.88178420e-16 1.00000000e+00]]\n"
          ],
          "name": "stdout"
        }
      ]
    },
    {
      "cell_type": "markdown",
      "metadata": {
        "id": "aaXNOVKEBLzv"
      },
      "source": [
        "3. Se A é uma matriz invertível, então a seguinte propriedade é válida:\n",
        "\n",
        "$$ (A^T)^{-1} = (A^{-1})^T $$"
      ]
    },
    {
      "cell_type": "code",
      "metadata": {
        "id": "67ZZcSEsBOhK",
        "outputId": "b07d5b66-568b-45f4-8733-c0304607f1d0",
        "colab": {
          "base_uri": "https://localhost:8080/",
          "height": 119
        }
      },
      "source": [
        "# Biblioteca de álgebra linear(matrizes)\n",
        "import numpy as np\n",
        "\n",
        "A = np.array(([1.,2.],[3.,4.]))\n",
        "print(A)\n",
        "\n",
        "B = inv(A.T)\n",
        "print(B)\n",
        "\n",
        "C = (inv(A)).T\n",
        "\n",
        "print(C)"
      ],
      "execution_count": 62,
      "outputs": [
        {
          "output_type": "stream",
          "text": [
            "[[1. 2.]\n",
            " [3. 4.]]\n",
            "[[-2.   1.5]\n",
            " [ 1.  -0.5]]\n",
            "[[-2.   1.5]\n",
            " [ 1.  -0.5]]\n"
          ],
          "name": "stdout"
        }
      ]
    },
    {
      "cell_type": "markdown",
      "metadata": {
        "id": "lG53W_7wCXSa"
      },
      "source": [
        "### Determinante de uma matriz\n",
        "\n",
        "Para explicar o que são determinantes de matrizes, iremos analisar o sistema de equações lineares abaixo:\n",
        "\n",
        "$$\\begin{cases}\n",
        "  a_{11}x_{1} & + & a_{12}x_{2} = b_{1} \\\\ \n",
        "  a_{21}x_{1} & + & a_{22}x_{2} = b_{2}\\\\ \n",
        "\\end{cases}$$\n",
        "\n",
        "\n",
        "Estamos à procura das incógnitas do sistema, x1 e x2. Para isso devemos isolar uma das variáveis e substituir na outra equação, ao final do processo iremos chegar em duas equações:\n",
        "\n",
        "$$ x_{1} = \\dfrac{b_{1} a_{22} - b_{2} a_{12}}{a_{11} a_{22} - a_{12} a_{21}} \n",
        "$$\n",
        "-\n",
        "$$\n",
        "x_{2} = \\dfrac{b_{2} a_{11} - b_{1} a_{21}}{a_{11} a_{22} - a_{12} a_{21}}\n",
        "$$\n",
        "\n",
        "Podemos notar que o denominador das equações x1 e x2 são os mesmos. Essas constantes que aparecem no denominador das matrizes são chamadas de determinantes de uma matriz. O determinante só pode ser calculado em uma matriz quadrada.\n",
        "\n",
        "**Calculando o determinante**\n",
        "\n",
        "A determinante de uma matriz 1x1, ou seja, de um escalar é o próprio escalar;\n",
        "A determinante de uma matriz 2x2 é a multiplicação dos elementos da diagonal principal subtraído pela multiplicação dos elementos da diagonal secundária;\n",
        "Para uma matriz 3x3, pode ser utilizado o método de Sarrus, exemplificado abaixo:Método de Sarrus\n",
        "Podemos utilizar outros teoremas para encontrar a determinante de uma matriz, como por exemplo o teorema de Laplace, decomposição LU, eliminação gaussiana, entre outros.\n",
        "\n",
        "A linguagem Python nos permite encontrar determinantes de matrizes através da função ´det()´."
      ]
    },
    {
      "cell_type": "markdown",
      "metadata": {
        "id": "bRS-VrHKr5o-"
      },
      "source": [
        "Exemplo 1"
      ]
    },
    {
      "cell_type": "code",
      "metadata": {
        "id": "wE-G3qYzr5o_",
        "outputId": "1a51a638-cf7e-4451-f1b0-a5b5833a57d4",
        "colab": {
          "base_uri": "https://localhost:8080/",
          "height": 34
        }
      },
      "source": [
        "# Biblioteca de álgebra linear(matrizes)\n",
        "import numpy as np\n",
        "from numpy.linalg import det\n",
        "\n",
        "# Declara a matriz\n",
        "A = np.array(([1,5],[2,3]))\n",
        "\n",
        "# Calcula o determinante\n",
        "det_A = det(A)\n",
        "\n",
        "# Mostra o determinante\n",
        "print(det_A)"
      ],
      "execution_count": 63,
      "outputs": [
        {
          "output_type": "stream",
          "text": [
            "-7.000000000000001\n"
          ],
          "name": "stdout"
        }
      ]
    },
    {
      "cell_type": "markdown",
      "metadata": {
        "id": "uc7KZLi7r1Cu"
      },
      "source": [
        "Exemplo 2"
      ]
    },
    {
      "cell_type": "code",
      "metadata": {
        "id": "4WqYqxNMCZmE",
        "outputId": "7a627273-655e-4937-db03-6d513c364840",
        "colab": {
          "base_uri": "https://localhost:8080/",
          "height": 34
        }
      },
      "source": [
        "# Biblioteca de álgebra linear(matrizes)\n",
        "import numpy as np\n",
        "from numpy.linalg import det\n",
        "\n",
        "# Declara a matriz\n",
        "A = np.array(([1,2,4],[5,3,-1],[7,2,0]))\n",
        "\n",
        "# Calcula o determinante\n",
        "det_A = det(A)\n",
        "\n",
        "# Mostra o determinante\n",
        "print(det_A)"
      ],
      "execution_count": 64,
      "outputs": [
        {
          "output_type": "stream",
          "text": [
            "-56.00000000000002\n"
          ],
          "name": "stdout"
        }
      ]
    },
    {
      "cell_type": "markdown",
      "metadata": {
        "id": "yGB6JkMrr2aW"
      },
      "source": [
        "Exemplo 3"
      ]
    },
    {
      "cell_type": "code",
      "metadata": {
        "id": "cFDf4NmYC8S1",
        "outputId": "4cd9eb25-22fd-45de-84bd-0e9aef821e56",
        "colab": {
          "base_uri": "https://localhost:8080/",
          "height": 34
        }
      },
      "source": [
        "# Biblioteca de álgebra linear(matrizes)\n",
        "import numpy as np\n",
        "from numpy.linalg import det\n",
        "\n",
        "# Declara a matriz\n",
        "A = np.array(([1,2,4,5,6,7],\n",
        "              [5,3,-1,5,1,2],\n",
        "              [7,2,0,1,4,9],\n",
        "              [1,2,1,5,6,5],\n",
        "              [-7,2,4,-1,6,6],\n",
        "              [0,2,5,5,9,7]))\n",
        "\n",
        "# Calcula o determinante\n",
        "det_A = det(A)\n",
        "\n",
        "# Mostra o determinante\n",
        "print(det_A)"
      ],
      "execution_count": 65,
      "outputs": [
        {
          "output_type": "stream",
          "text": [
            "8184.000000000006\n"
          ],
          "name": "stdout"
        }
      ]
    },
    {
      "cell_type": "markdown",
      "metadata": {
        "id": "tVaL4lKeqGP8"
      },
      "source": [
        "### Coseno Matriz"
      ]
    },
    {
      "cell_type": "code",
      "metadata": {
        "id": "FuN-hD-uqH9Z",
        "outputId": "12681226-3896-417c-8896-21dd40e7a5d9",
        "colab": {
          "base_uri": "https://localhost:8080/",
          "height": 289
        }
      },
      "source": [
        "# Biblioteca de álgebra linear(matrizes)\n",
        "import numpy as np\n",
        "from sklearn.metrics.pairwise import cosine_similarity\n",
        "\n",
        "# Declara as matrizes\n",
        "A = np.array([[0, 1], [2, 3]]) \n",
        "B = np.array([[3, 4], [5, 6]]) \n",
        "\n",
        "# Calcula a similaridade\n",
        "C = cosine_similarity(A,B) \n",
        "\n",
        "print('A>')\n",
        "print(A)\n",
        "print('B>')\n",
        "print(B)\n",
        "print('C>', C)\n",
        "\n",
        "# Declara uma matriz\n",
        "D = np.array([[0, 1], [4, 5]]) \n",
        "\n",
        "# Calcula a similaridade\n",
        "E = cosine_similarity(A,D) \n",
        "\n",
        "print('A>')\n",
        "print(A)\n",
        "print('D>')\n",
        "print(D)\n",
        "print('E>', E)"
      ],
      "execution_count": 66,
      "outputs": [
        {
          "output_type": "stream",
          "text": [
            "A>\n",
            "[[0 1]\n",
            " [2 3]]\n",
            "B>\n",
            "[[3 4]\n",
            " [5 6]]\n",
            "C> [[0.8        0.76822128]\n",
            " [0.99846035 0.99430915]]\n",
            "A>\n",
            "[[0 1]\n",
            " [2 3]]\n",
            "D>\n",
            "[[0 1]\n",
            " [4 5]]\n",
            "E> [[1.         0.78086881]\n",
            " [0.83205029 0.99624059]]\n"
          ],
          "name": "stdout"
        }
      ]
    },
    {
      "cell_type": "markdown",
      "metadata": {
        "id": "lMRQmChvOw5z"
      },
      "source": [
        "#PyTorch\n",
        "\n",
        "O [PyTorch](https://en.wikipedia.org/wiki/PyTorch) tem  o objetivo de realizar cálculos em tensores. \n",
        "\n",
        "[Tensores](https://pt.wikipedia.org/wiki/Tensor) são arrays  que no PyTorch foram projetados com duas propriedades adicionais: eles podem carregar a informação de todas as operações realizadas neles, e podem ser operados em GPU.\n",
        "\n",
        "O PyTorch faz com tensores o que o Numpy faz com arrays, mas com a propriedade adicional de guardar o histórico das operações matemáticas nos próprios objetos manipulados, e de ser mais rápido pelo processamento em GPU.\n",
        "\n",
        "Essa característica do PyTorch o habilita para sua principal função: a de ser uma biblioteca para o desenvolvimento de redes neurais.\n",
        "\n",
        "\n"
      ]
    },
    {
      "cell_type": "markdown",
      "metadata": {
        "id": "NzzR8MN5LCV_"
      },
      "source": [
        "## Criando Tensor PyTorch de valor 0"
      ]
    },
    {
      "cell_type": "code",
      "metadata": {
        "id": "Bllxxch4LEdn",
        "outputId": "1ea5f82d-b4bb-4702-dc29-106d645fc394",
        "colab": {
          "base_uri": "https://localhost:8080/",
          "height": 102
        }
      },
      "source": [
        "# Bibliotecas\n",
        "import torch\n",
        "    \n",
        "# Cria um tensor de tamanho e 3 por 3 de valor 0\n",
        "A = torch.zeros(3,3)\n",
        "print(type(A))\n",
        "\n",
        "# Mostra os dados da matriz de Tensores\n",
        "print(\">>> Matriz\")\n",
        "print(A)"
      ],
      "execution_count": 67,
      "outputs": [
        {
          "output_type": "stream",
          "text": [
            "<class 'torch.Tensor'>\n",
            ">>> Matriz\n",
            "tensor([[0., 0., 0.],\n",
            "        [0., 0., 0.],\n",
            "        [0., 0., 0.]])\n"
          ],
          "name": "stdout"
        }
      ]
    },
    {
      "cell_type": "markdown",
      "metadata": {
        "id": "Rua2op0bF9yh"
      },
      "source": [
        "## Criando Tensor PyTorch de valor 1"
      ]
    },
    {
      "cell_type": "code",
      "metadata": {
        "id": "n3aO92JPF9yi",
        "outputId": "27f63deb-e434-48a8-d387-4da86e18c7f3",
        "colab": {
          "base_uri": "https://localhost:8080/",
          "height": 102
        }
      },
      "source": [
        "# Bibliotecas\n",
        "import torch\n",
        "    \n",
        "# Cria um tensor de tamanho e 3 por 3 de valor 1\n",
        "A = torch.ones(3,3)\n",
        "print(type(A))\n",
        "\n",
        "# Mostra os dados da matriz de Tensores\n",
        "print(\">>> Matriz\")\n",
        "print(A)"
      ],
      "execution_count": 68,
      "outputs": [
        {
          "output_type": "stream",
          "text": [
            "<class 'torch.Tensor'>\n",
            ">>> Matriz\n",
            "tensor([[1., 1., 1.],\n",
            "        [1., 1., 1.],\n",
            "        [1., 1., 1.]])\n"
          ],
          "name": "stdout"
        }
      ]
    },
    {
      "cell_type": "markdown",
      "metadata": {
        "id": "hcHfTeMpLwJv"
      },
      "source": [
        "## Criando tensor a partir de Numpy"
      ]
    },
    {
      "cell_type": "code",
      "metadata": {
        "id": "y4scGLayLwJw",
        "outputId": "346f7eb5-7e6d-405a-e8a4-acf60f4d9038",
        "colab": {
          "base_uri": "https://localhost:8080/",
          "height": 187
        }
      },
      "source": [
        "# Bibliotecas\n",
        "import torch\n",
        "import numpy as np\n",
        "    \n",
        "# Cria um nympy matriz de tamanho e 3 por 3 de valor 1\n",
        "A = np.ones((3,3))\n",
        "print(type(A))\n",
        "\n",
        "print(\">>> Matriz A\")\n",
        "print(A)\n",
        "\n",
        "# Converte a lista de lista de matriz em um tensor\n",
        "TA = torch.from_numpy(A)\n",
        "print(type(TA))\n",
        "\n",
        "# Mostra os dados da matriz de Tensores\n",
        "print(\">>> Matriz TA\")\n",
        "print(TA)\n"
      ],
      "execution_count": 69,
      "outputs": [
        {
          "output_type": "stream",
          "text": [
            "<class 'numpy.ndarray'>\n",
            ">>> Matriz A\n",
            "[[1. 1. 1.]\n",
            " [1. 1. 1.]\n",
            " [1. 1. 1.]]\n",
            "<class 'torch.Tensor'>\n",
            ">>> Matriz TA\n",
            "tensor([[1., 1., 1.],\n",
            "        [1., 1., 1.],\n",
            "        [1., 1., 1.]], dtype=torch.float64)\n"
          ],
          "name": "stdout"
        }
      ]
    },
    {
      "cell_type": "markdown",
      "metadata": {
        "id": "C6AU7gTuy4Cl"
      },
      "source": [
        "## Converte matriz de 2 dimensões para Tensores PyTorch\n",
        "\n",
        "`torch.tensor` cria uma cópia e `torch.as_tensor` retorna uma referência do tensor criado."
      ]
    },
    {
      "cell_type": "code",
      "metadata": {
        "id": "93aO7LK5y4Cn",
        "outputId": "d13e1bda-09ca-41f1-bbf3-83a2014c5b23",
        "colab": {
          "base_uri": "https://localhost:8080/",
          "height": 442
        }
      },
      "source": [
        "# Bibliotecas\n",
        "import torch\n",
        "\n",
        "A =  [\n",
        "        [11, 12, 13],\n",
        "        [14, 15, 16],\n",
        "        [17, 18, 19]\n",
        "     ]\n",
        "    \n",
        "# Converte a lista de lista de matriz em um tensor\n",
        "B = torch.as_tensor(A)\n",
        "print(type(B))\n",
        "\n",
        "# Mostra os dados da matriz de Tensores\n",
        "print(\">>> Matriz\")\n",
        "print(B)\n",
        "print(B[0:3,0:3])\n",
        "print(B[:,:])\n",
        "\n",
        "print(\">>> Linha\")\n",
        "print(B[0:1,0:3])\n",
        "print(B[0:1,:])\n",
        "print(B[0:1,0:3])\n",
        "\n",
        "print(\">> Coluna\")\n",
        "print(B[0:3,0:1])\n",
        "print(B[:,0:1])\n",
        "print(B[0:3,0:1])"
      ],
      "execution_count": 70,
      "outputs": [
        {
          "output_type": "stream",
          "text": [
            "<class 'torch.Tensor'>\n",
            ">>> Matriz\n",
            "tensor([[11, 12, 13],\n",
            "        [14, 15, 16],\n",
            "        [17, 18, 19]])\n",
            "tensor([[11, 12, 13],\n",
            "        [14, 15, 16],\n",
            "        [17, 18, 19]])\n",
            "tensor([[11, 12, 13],\n",
            "        [14, 15, 16],\n",
            "        [17, 18, 19]])\n",
            ">>> Linha\n",
            "tensor([[11, 12, 13]])\n",
            "tensor([[11, 12, 13]])\n",
            "tensor([[11, 12, 13]])\n",
            ">> Coluna\n",
            "tensor([[11],\n",
            "        [14],\n",
            "        [17]])\n",
            "tensor([[11],\n",
            "        [14],\n",
            "        [17]])\n",
            "tensor([[11],\n",
            "        [14],\n",
            "        [17]])\n"
          ],
          "name": "stdout"
        }
      ]
    },
    {
      "cell_type": "markdown",
      "metadata": {
        "id": "0B_ZYEh_uBxO"
      },
      "source": [
        "## Converte matriz de 3 dimensões para Tensores PyTorch"
      ]
    },
    {
      "cell_type": "code",
      "metadata": {
        "id": "nBxAG7dYuCSC",
        "outputId": "a205d309-8d99-4094-e027-f36f1b8744b0",
        "colab": {
          "base_uri": "https://localhost:8080/",
          "height": 1000
        }
      },
      "source": [
        "# Bibliotecas\n",
        "import torch\n",
        "\n",
        "A = [\n",
        "      [\n",
        "        [11, 12, 13],\n",
        "        [14, 15, 16],\n",
        "        [17, 18, 19]\n",
        "      ],\n",
        "      [\n",
        "        [21, 22, 23],\n",
        "        [24, 25, 26],\n",
        "        [27, 28, 29]\n",
        "      ],\n",
        "      [\n",
        "        [31, 32, 33],\n",
        "        [33, 34, 36],\n",
        "        [37, 38 ,39]\n",
        "      ]\n",
        "    ]\n",
        "    \n",
        "# Converte a lista de lista de matriz em um tensor\n",
        "B = torch.as_tensor(A)\n",
        "print(type(B))\n",
        "\n",
        "# Mostra os dados da matriz de Tensores\n",
        "print(\">>> Lista de matrizes\")\n",
        "print(B)\n",
        "print(B[0:3,0:3,0:3])\n",
        "print(B[:,:,:])\n",
        "\n",
        "print(\">>> Matrizes\")\n",
        "print(B[0])\n",
        "print(B[0][0:3,0:3])\n",
        "print(B[0,:,:])\n",
        "\n",
        "print(\">>> Linha\")\n",
        "print(B[0][0:1,0:3])\n",
        "print(B[0:1,0:1,:])\n",
        "print(B[0:1,0:1,0:3])\n",
        "\n",
        "print(\">> Coluna\")\n",
        "print(B[0][0:3,0:1])\n",
        "print(B[0][:,0:1])\n",
        "print(B[0:1,0:3,0:1])"
      ],
      "execution_count": 71,
      "outputs": [
        {
          "output_type": "stream",
          "text": [
            "<class 'torch.Tensor'>\n",
            ">>> Lista de matrizes\n",
            "tensor([[[11, 12, 13],\n",
            "         [14, 15, 16],\n",
            "         [17, 18, 19]],\n",
            "\n",
            "        [[21, 22, 23],\n",
            "         [24, 25, 26],\n",
            "         [27, 28, 29]],\n",
            "\n",
            "        [[31, 32, 33],\n",
            "         [33, 34, 36],\n",
            "         [37, 38, 39]]])\n",
            "tensor([[[11, 12, 13],\n",
            "         [14, 15, 16],\n",
            "         [17, 18, 19]],\n",
            "\n",
            "        [[21, 22, 23],\n",
            "         [24, 25, 26],\n",
            "         [27, 28, 29]],\n",
            "\n",
            "        [[31, 32, 33],\n",
            "         [33, 34, 36],\n",
            "         [37, 38, 39]]])\n",
            "tensor([[[11, 12, 13],\n",
            "         [14, 15, 16],\n",
            "         [17, 18, 19]],\n",
            "\n",
            "        [[21, 22, 23],\n",
            "         [24, 25, 26],\n",
            "         [27, 28, 29]],\n",
            "\n",
            "        [[31, 32, 33],\n",
            "         [33, 34, 36],\n",
            "         [37, 38, 39]]])\n",
            ">>> Matrizes\n",
            "tensor([[11, 12, 13],\n",
            "        [14, 15, 16],\n",
            "        [17, 18, 19]])\n",
            "tensor([[11, 12, 13],\n",
            "        [14, 15, 16],\n",
            "        [17, 18, 19]])\n",
            "tensor([[11, 12, 13],\n",
            "        [14, 15, 16],\n",
            "        [17, 18, 19]])\n",
            ">>> Linha\n",
            "tensor([[11, 12, 13]])\n",
            "tensor([[[11, 12, 13]]])\n",
            "tensor([[[11, 12, 13]]])\n",
            ">> Coluna\n",
            "tensor([[11],\n",
            "        [14],\n",
            "        [17]])\n",
            "tensor([[11],\n",
            "        [14],\n",
            "        [17]])\n",
            "tensor([[[11],\n",
            "         [14],\n",
            "         [17]]])\n"
          ],
          "name": "stdout"
        }
      ]
    },
    {
      "cell_type": "markdown",
      "metadata": {
        "id": "Y0Yvq1g9qhzv"
      },
      "source": [
        "## Converte matriz de 4 dimensões para Tensores PyTorch"
      ]
    },
    {
      "cell_type": "code",
      "metadata": {
        "id": "xYqfc8AyOy70",
        "outputId": "d5717868-d045-48d8-c974-0d1c2a276efb",
        "colab": {
          "base_uri": "https://localhost:8080/",
          "height": 1000
        }
      },
      "source": [
        "# Bibliotecas\n",
        "import torch\n",
        "\n",
        "A = [\n",
        "      [\n",
        "        [[11, 12, 13],[14, 15, 16],[17, 18, 19]],\n",
        "        [[21, 22, 23],[24, 25, 26],[27, 28, 29]],\n",
        "        [[31, 32, 33],[34, 35, 36],[37, 38, 39]]\n",
        "      ],\n",
        "\n",
        "      [\n",
        "        [[41, 42, 43],[44, 45, 46],[47, 48, 49]],\n",
        "        [[51, 52, 53],[54, 55, 56],[57, 58, 59]],\n",
        "        [[61, 62, 63],[64, 65, 66],[67, 68, 69]]\n",
        "      ]\n",
        "    ]\n",
        "\n",
        "# Converte a lista de lista de matriz em um tensor\n",
        "B = torch.as_tensor(A)\n",
        "print(type(B))\n",
        "\n",
        "# Mostra os dados da matriz de Tensores\n",
        "print(\">>> Lista de lista de matrizes\")\n",
        "print(B)\n",
        "print(B[0:3,0:3,0:3,0:3])\n",
        "print(B[:,:,:,:])\n",
        "\n",
        "print(\">>> Lista de matrizes\")\n",
        "print(B[0])\n",
        "print(B[0][0:3,0:3,0:3])\n",
        "print(B[0:1,0:3,0:3,0:3])\n",
        "print(B[0][:,:,:])\n",
        "\n",
        "print(\">>> Matrizes\")\n",
        "print(B[0][0])\n",
        "print(B[0][0][0:3,0:3])\n",
        "print(B[0][0,:,:])\n",
        "print(B[0,0,:,:])\n",
        "\n",
        "print(\">>> Linha\")\n",
        "print(B[0][0][0:1,0:3])\n",
        "print(B[0][0:1,0:1,:])\n",
        "print(B[0][0:1,0:1,0:3])\n",
        "print(B[0:1,0:1,0:1,0:3])\n",
        "print(B[0,0,0:1,0:3])\n",
        "\n",
        "print(\">> Coluna\")\n",
        "print(B[0][0][0:3,0:1])\n",
        "print(B[0][0][:,0:1])\n",
        "print(B[0][0:1,0:3,0:1])\n",
        "print(B[0:1,0:1,0:3,0:1])\n",
        "print(B[0,0,0:3,0:1])"
      ],
      "execution_count": 72,
      "outputs": [
        {
          "output_type": "stream",
          "text": [
            "<class 'torch.Tensor'>\n",
            ">>> Lista de lista de matrizes\n",
            "tensor([[[[11, 12, 13],\n",
            "          [14, 15, 16],\n",
            "          [17, 18, 19]],\n",
            "\n",
            "         [[21, 22, 23],\n",
            "          [24, 25, 26],\n",
            "          [27, 28, 29]],\n",
            "\n",
            "         [[31, 32, 33],\n",
            "          [34, 35, 36],\n",
            "          [37, 38, 39]]],\n",
            "\n",
            "\n",
            "        [[[41, 42, 43],\n",
            "          [44, 45, 46],\n",
            "          [47, 48, 49]],\n",
            "\n",
            "         [[51, 52, 53],\n",
            "          [54, 55, 56],\n",
            "          [57, 58, 59]],\n",
            "\n",
            "         [[61, 62, 63],\n",
            "          [64, 65, 66],\n",
            "          [67, 68, 69]]]])\n",
            "tensor([[[[11, 12, 13],\n",
            "          [14, 15, 16],\n",
            "          [17, 18, 19]],\n",
            "\n",
            "         [[21, 22, 23],\n",
            "          [24, 25, 26],\n",
            "          [27, 28, 29]],\n",
            "\n",
            "         [[31, 32, 33],\n",
            "          [34, 35, 36],\n",
            "          [37, 38, 39]]],\n",
            "\n",
            "\n",
            "        [[[41, 42, 43],\n",
            "          [44, 45, 46],\n",
            "          [47, 48, 49]],\n",
            "\n",
            "         [[51, 52, 53],\n",
            "          [54, 55, 56],\n",
            "          [57, 58, 59]],\n",
            "\n",
            "         [[61, 62, 63],\n",
            "          [64, 65, 66],\n",
            "          [67, 68, 69]]]])\n",
            "tensor([[[[11, 12, 13],\n",
            "          [14, 15, 16],\n",
            "          [17, 18, 19]],\n",
            "\n",
            "         [[21, 22, 23],\n",
            "          [24, 25, 26],\n",
            "          [27, 28, 29]],\n",
            "\n",
            "         [[31, 32, 33],\n",
            "          [34, 35, 36],\n",
            "          [37, 38, 39]]],\n",
            "\n",
            "\n",
            "        [[[41, 42, 43],\n",
            "          [44, 45, 46],\n",
            "          [47, 48, 49]],\n",
            "\n",
            "         [[51, 52, 53],\n",
            "          [54, 55, 56],\n",
            "          [57, 58, 59]],\n",
            "\n",
            "         [[61, 62, 63],\n",
            "          [64, 65, 66],\n",
            "          [67, 68, 69]]]])\n",
            ">>> Lista de matrizes\n",
            "tensor([[[11, 12, 13],\n",
            "         [14, 15, 16],\n",
            "         [17, 18, 19]],\n",
            "\n",
            "        [[21, 22, 23],\n",
            "         [24, 25, 26],\n",
            "         [27, 28, 29]],\n",
            "\n",
            "        [[31, 32, 33],\n",
            "         [34, 35, 36],\n",
            "         [37, 38, 39]]])\n",
            "tensor([[[11, 12, 13],\n",
            "         [14, 15, 16],\n",
            "         [17, 18, 19]],\n",
            "\n",
            "        [[21, 22, 23],\n",
            "         [24, 25, 26],\n",
            "         [27, 28, 29]],\n",
            "\n",
            "        [[31, 32, 33],\n",
            "         [34, 35, 36],\n",
            "         [37, 38, 39]]])\n",
            "tensor([[[[11, 12, 13],\n",
            "          [14, 15, 16],\n",
            "          [17, 18, 19]],\n",
            "\n",
            "         [[21, 22, 23],\n",
            "          [24, 25, 26],\n",
            "          [27, 28, 29]],\n",
            "\n",
            "         [[31, 32, 33],\n",
            "          [34, 35, 36],\n",
            "          [37, 38, 39]]]])\n",
            "tensor([[[11, 12, 13],\n",
            "         [14, 15, 16],\n",
            "         [17, 18, 19]],\n",
            "\n",
            "        [[21, 22, 23],\n",
            "         [24, 25, 26],\n",
            "         [27, 28, 29]],\n",
            "\n",
            "        [[31, 32, 33],\n",
            "         [34, 35, 36],\n",
            "         [37, 38, 39]]])\n",
            ">>> Matrizes\n",
            "tensor([[11, 12, 13],\n",
            "        [14, 15, 16],\n",
            "        [17, 18, 19]])\n",
            "tensor([[11, 12, 13],\n",
            "        [14, 15, 16],\n",
            "        [17, 18, 19]])\n",
            "tensor([[11, 12, 13],\n",
            "        [14, 15, 16],\n",
            "        [17, 18, 19]])\n",
            "tensor([[11, 12, 13],\n",
            "        [14, 15, 16],\n",
            "        [17, 18, 19]])\n",
            ">>> Linha\n",
            "tensor([[11, 12, 13]])\n",
            "tensor([[[11, 12, 13]]])\n",
            "tensor([[[11, 12, 13]]])\n",
            "tensor([[[[11, 12, 13]]]])\n",
            "tensor([[11, 12, 13]])\n",
            ">> Coluna\n",
            "tensor([[11],\n",
            "        [14],\n",
            "        [17]])\n",
            "tensor([[11],\n",
            "        [14],\n",
            "        [17]])\n",
            "tensor([[[11],\n",
            "         [14],\n",
            "         [17]]])\n",
            "tensor([[[[11],\n",
            "          [14],\n",
            "          [17]]]])\n",
            "tensor([[11],\n",
            "        [14],\n",
            "        [17]])\n"
          ],
          "name": "stdout"
        }
      ]
    },
    {
      "cell_type": "markdown",
      "metadata": {
        "id": "pY9dZOPsrxD6"
      },
      "source": [
        "## Operações com tensores\n",
        "\n",
        "https://s3-sa-east-1.amazonaws.com/thedevconf/presentations/TDC2019SP/machine/FMB-8122_2019-07-19T015516_Machine%20Learning%20-%20Uso%20de%20Pytorch%20para%20Aplica%C3%A7%C3%B5es%20de%20Vis%C3%A3o%20Computacional.pdf\n",
        "\n",
        "https://github.com/torch/torch7/blob/master/doc/maths.md#torcheqa-b\n"
      ]
    },
    {
      "cell_type": "markdown",
      "metadata": {
        "id": "utlhewNUEBPg"
      },
      "source": [
        "###Tamanho do tensor"
      ]
    },
    {
      "cell_type": "code",
      "metadata": {
        "id": "G_dX8BriEFEU",
        "outputId": "1048ab80-cd75-4833-d1a1-527e9bb713fb",
        "colab": {
          "base_uri": "https://localhost:8080/",
          "height": 170
        }
      },
      "source": [
        "# Bibliotecas\n",
        "import torch\n",
        "\n",
        "# Declaração da matriz\n",
        "A = [\n",
        "      [\n",
        "        [1, 2, 3],\n",
        "        [4, 5, 6],\n",
        "        [7, 8, 9]\n",
        "      ],\n",
        "      [\n",
        "        [10, 11, 12],\n",
        "        [13, 14, 15],\n",
        "        [16, 17, 18]\n",
        "      ]\n",
        "    ]\n",
        "\n",
        "# Converte a lista de lista de matriz em um tensor\n",
        "TA = torch.as_tensor(A)\n",
        "\n",
        "# Mostra o tamanho do tensor em todas as dimensões\n",
        "print(TA)\n",
        "print(type(TA))\n",
        "print(TA.size())"
      ],
      "execution_count": 73,
      "outputs": [
        {
          "output_type": "stream",
          "text": [
            "tensor([[[ 1,  2,  3],\n",
            "         [ 4,  5,  6],\n",
            "         [ 7,  8,  9]],\n",
            "\n",
            "        [[10, 11, 12],\n",
            "         [13, 14, 15],\n",
            "         [16, 17, 18]]])\n",
            "<class 'torch.Tensor'>\n",
            "torch.Size([2, 3, 3])\n"
          ],
          "name": "stdout"
        }
      ]
    },
    {
      "cell_type": "markdown",
      "metadata": {
        "id": "Xqh_SLl3FJnv"
      },
      "source": [
        "### Comparando"
      ]
    },
    {
      "cell_type": "code",
      "metadata": {
        "id": "7CtOQGp8FLQr",
        "outputId": "d35cc706-4d9f-42fe-f1a3-eccf11313aaa",
        "colab": {
          "base_uri": "https://localhost:8080/",
          "height": 408
        }
      },
      "source": [
        "# Bibliotecas\n",
        "import torch\n",
        "\n",
        "# Declaração da matriz\n",
        "A = [\n",
        "      [\n",
        "        [1, 2, 3],\n",
        "        [4, 5, 6],\n",
        "        [7, 8, 9]\n",
        "      ]\n",
        "    ]\n",
        "B = [\n",
        "      [\n",
        "        [1, 2, 3],\n",
        "        [4, 5, 6],\n",
        "        [7, 8, 9]\n",
        "      ]\n",
        "    ]\n",
        "\n",
        "C = [\n",
        "      [\n",
        "        [1, 2, 3],\n",
        "        [4, 5, 6],\n",
        "        [7, 8, -1]\n",
        "      ]\n",
        "    ]    \n",
        "\n",
        "# Converte a lista de lista de matriz em um tensor\n",
        "TA = torch.as_tensor(A)\n",
        "TB = torch.as_tensor(B)\n",
        "TC = torch.as_tensor(C)\n",
        "\n",
        "# Mostra o tamanho do tensor em todas as dimensões\n",
        "print(TA)\n",
        "print(type(TA))\n",
        "print(TA.size())\n",
        "\n",
        "print(TB)\n",
        "print(type(TB))\n",
        "print(TB.size())\n",
        "\n",
        "print(TC)\n",
        "print(type(TC))\n",
        "print(TC.size())\n",
        "\n",
        "# Mostra o resultado da comparação dos elementos dos tensores\n",
        "print(torch.eq(TA, TB))\n",
        "print(torch.eq(TA, TC))\n",
        "\n",
        "#if torch.all(torch.eq(TA, TB)):\n",
        "if TA.equal(TB):\n",
        "  print(\"Tensores TA e TB são iguais\")\n",
        "else:\n",
        "  print(\"Tensores TA e TB são diferentes\")\n",
        "\n",
        "#if torch.all(torch.eq(TA, TC)):\n",
        "if TA.equal(TC):\n",
        "  print(\"Tensores TA e TC são iguais\")\n",
        "else:\n",
        "  print(\"Tensores TA e TC são diferentes\")  "
      ],
      "execution_count": 74,
      "outputs": [
        {
          "output_type": "stream",
          "text": [
            "tensor([[[1, 2, 3],\n",
            "         [4, 5, 6],\n",
            "         [7, 8, 9]]])\n",
            "<class 'torch.Tensor'>\n",
            "torch.Size([1, 3, 3])\n",
            "tensor([[[1, 2, 3],\n",
            "         [4, 5, 6],\n",
            "         [7, 8, 9]]])\n",
            "<class 'torch.Tensor'>\n",
            "torch.Size([1, 3, 3])\n",
            "tensor([[[ 1,  2,  3],\n",
            "         [ 4,  5,  6],\n",
            "         [ 7,  8, -1]]])\n",
            "<class 'torch.Tensor'>\n",
            "torch.Size([1, 3, 3])\n",
            "tensor([[[True, True, True],\n",
            "         [True, True, True],\n",
            "         [True, True, True]]])\n",
            "tensor([[[ True,  True,  True],\n",
            "         [ True,  True,  True],\n",
            "         [ True,  True, False]]])\n",
            "Tensores TA e TB são iguais\n",
            "Tensores TA e TC são diferentes\n"
          ],
          "name": "stdout"
        }
      ]
    },
    {
      "cell_type": "markdown",
      "metadata": {
        "id": "Y9rNka2fMw0y"
      },
      "source": [
        "###Adição\n",
        "\n",
        "https://towardsdatascience.com/understanding-dimensions-in-pytorch-6edf9972d3be"
      ]
    },
    {
      "cell_type": "code",
      "metadata": {
        "id": "1HLNxAO7MyOh",
        "outputId": "f8420c1a-8d34-480e-d6aa-9a33de2a86a5",
        "colab": {
          "base_uri": "https://localhost:8080/",
          "height": 255
        }
      },
      "source": [
        "# Bibliotecas\n",
        "import torch\n",
        "\n",
        "# Declaração da matriz\n",
        "A =  [\n",
        "        [1.0, 2.0],\n",
        "        [3.0, 4.0]\n",
        "     ]\n",
        "    \n",
        "B =  [\n",
        "        [5.0, 6.0],\n",
        "        [7.0, 8.0]\n",
        "     ]\n",
        "\n",
        "# Converte a lista de lista de matriz em um tensor\n",
        "TA = torch.as_tensor(A)\n",
        "TB = torch.as_tensor(B)\n",
        "\n",
        "# Mostra os tensores\n",
        "print(TA)\n",
        "print(type(TA))\n",
        "print(TA.size())\n",
        "\n",
        "print(TB)\n",
        "print(type(TB))\n",
        "print(TB.size())\n",
        "\n",
        "# Soma os vetores\n",
        "C = TA + TB\n",
        "# ou\n",
        "D = torch.add(TA, TB)\n",
        "# ou\n",
        "E = TA.add(TB)\n",
        "\n",
        "# Mostra a soma\n",
        "print(C)\n",
        "print(D)\n",
        "print(E)"
      ],
      "execution_count": 75,
      "outputs": [
        {
          "output_type": "stream",
          "text": [
            "tensor([[1., 2.],\n",
            "        [3., 4.]])\n",
            "<class 'torch.Tensor'>\n",
            "torch.Size([2, 2])\n",
            "tensor([[5., 6.],\n",
            "        [7., 8.]])\n",
            "<class 'torch.Tensor'>\n",
            "torch.Size([2, 2])\n",
            "tensor([[ 6.,  8.],\n",
            "        [10., 12.]])\n",
            "tensor([[ 6.,  8.],\n",
            "        [10., 12.]])\n",
            "tensor([[ 6.,  8.],\n",
            "        [10., 12.]])\n"
          ],
          "name": "stdout"
        }
      ]
    },
    {
      "cell_type": "markdown",
      "metadata": {
        "id": "GjKd1x5ENTjF"
      },
      "source": [
        "###Subtração"
      ]
    },
    {
      "cell_type": "code",
      "metadata": {
        "id": "nXx9Zb8iNTjG",
        "outputId": "097e24a9-c1b8-4edd-b6dd-d32e70fecc15",
        "colab": {
          "base_uri": "https://localhost:8080/",
          "height": 255
        }
      },
      "source": [
        "# Bibliotecas\n",
        "import torch\n",
        "\n",
        "# Declaração da matriz\n",
        "A =  [\n",
        "        [1.0, 2.0],\n",
        "        [3.0, 4.0]\n",
        "     ]\n",
        "    \n",
        "B =  [\n",
        "        [5.0, 6.0],\n",
        "        [7.0, 8.0]\n",
        "     ]\n",
        "\n",
        "# Converte a lista de lista de matriz em um tensor\n",
        "TA = torch.as_tensor(A)\n",
        "TB = torch.as_tensor(B)\n",
        "\n",
        "# Mostra os tensores\n",
        "print(TA)\n",
        "print(type(TA))\n",
        "print(TA.size())\n",
        "print(TB)\n",
        "print(type(TB))\n",
        "print(TB.size())\n",
        "\n",
        "# Subtração os vetores\n",
        "C = TB - TA\n",
        "# ou\n",
        "D = torch.sub(TB, TA)\n",
        "# ou\n",
        "E = TB.sub(TA)\n",
        "\n",
        "# Mostra a subtração\n",
        "print(C)\n",
        "print(D)\n",
        "print(E)"
      ],
      "execution_count": 76,
      "outputs": [
        {
          "output_type": "stream",
          "text": [
            "tensor([[1., 2.],\n",
            "        [3., 4.]])\n",
            "<class 'torch.Tensor'>\n",
            "torch.Size([2, 2])\n",
            "tensor([[5., 6.],\n",
            "        [7., 8.]])\n",
            "<class 'torch.Tensor'>\n",
            "torch.Size([2, 2])\n",
            "tensor([[4., 4.],\n",
            "        [4., 4.]])\n",
            "tensor([[4., 4.],\n",
            "        [4., 4.]])\n",
            "tensor([[4., 4.],\n",
            "        [4., 4.]])\n"
          ],
          "name": "stdout"
        }
      ]
    },
    {
      "cell_type": "markdown",
      "metadata": {
        "id": "Xf0lEkM9N7-n"
      },
      "source": [
        "###Produto"
      ]
    },
    {
      "cell_type": "code",
      "metadata": {
        "id": "PyMJF7jrN7-o",
        "outputId": "3e113294-7172-4b02-edee-c5df0fc638c1",
        "colab": {
          "base_uri": "https://localhost:8080/",
          "height": 255
        }
      },
      "source": [
        "# Bibliotecas\n",
        "import torch\n",
        "\n",
        "# Declaração da matriz\n",
        "A =  [\n",
        "        [1.0, 2.0],\n",
        "        [3.0, 4.0]\n",
        "     ]\n",
        "    \n",
        "B =  [\n",
        "        [5.0, 6.0],\n",
        "        [7.0, 8.0]\n",
        "     ]\n",
        "\n",
        "# Converte a lista de lista de matriz em um tensor\n",
        "TA = torch.as_tensor(A)\n",
        "TB = torch.as_tensor(B)\n",
        "\n",
        "# Mostra os tensores\n",
        "print(TA)\n",
        "print(type(TA))\n",
        "print(TA.size())\n",
        "print(TB)\n",
        "print(type(TB))\n",
        "print(TB.size())\n",
        "\n",
        "# Mutiplicação os vetores\n",
        "C = TA * TB\n",
        "# ou\n",
        "D = torch.mul(TA, TB)\n",
        "# ou\n",
        "E = TA.mul(TB)\n",
        "\n",
        "# Mostra a multiplicação\n",
        "print(C)\n",
        "print(D)\n",
        "print(E)"
      ],
      "execution_count": 77,
      "outputs": [
        {
          "output_type": "stream",
          "text": [
            "tensor([[1., 2.],\n",
            "        [3., 4.]])\n",
            "<class 'torch.Tensor'>\n",
            "torch.Size([2, 2])\n",
            "tensor([[5., 6.],\n",
            "        [7., 8.]])\n",
            "<class 'torch.Tensor'>\n",
            "torch.Size([2, 2])\n",
            "tensor([[ 5., 12.],\n",
            "        [21., 32.]])\n",
            "tensor([[ 5., 12.],\n",
            "        [21., 32.]])\n",
            "tensor([[ 5., 12.],\n",
            "        [21., 32.]])\n"
          ],
          "name": "stdout"
        }
      ]
    },
    {
      "cell_type": "markdown",
      "metadata": {
        "id": "dOdYTfrgON1C"
      },
      "source": [
        "###Divisão"
      ]
    },
    {
      "cell_type": "code",
      "metadata": {
        "id": "wB6ppUGRON1D",
        "outputId": "798470b7-3db7-4fcf-b164-dab045e78a07",
        "colab": {
          "base_uri": "https://localhost:8080/",
          "height": 255
        }
      },
      "source": [
        "# Bibliotecas\n",
        "import torch\n",
        "\n",
        "# Declaração da matriz\n",
        "A =  [\n",
        "        [1.0, 2.0],\n",
        "        [3.0, 4.0]\n",
        "     ]\n",
        "    \n",
        "B =  [\n",
        "        [5.0, 6.0],\n",
        "        [7.0, 8.0]\n",
        "     ]\n",
        "\n",
        "# Converte a lista de lista de matriz em um tensor\n",
        "TA = torch.as_tensor(A)\n",
        "TB = torch.as_tensor(B)\n",
        "\n",
        "# Mostra os tensores\n",
        "print(TA)\n",
        "print(type(TA))\n",
        "print(TA.size())\n",
        "print(TB)\n",
        "print(type(TB))\n",
        "print(TB.size())\n",
        "\n",
        "# Divisão os vetores\n",
        "C = TB / TA\n",
        "# ou\n",
        "D = torch.div(TB, TA)\n",
        "# ou\n",
        "E = TB.div(TA)\n",
        "\n",
        "# Mostra a divisão\n",
        "print(C)\n",
        "print(D)\n",
        "print(E)"
      ],
      "execution_count": 78,
      "outputs": [
        {
          "output_type": "stream",
          "text": [
            "tensor([[1., 2.],\n",
            "        [3., 4.]])\n",
            "<class 'torch.Tensor'>\n",
            "torch.Size([2, 2])\n",
            "tensor([[5., 6.],\n",
            "        [7., 8.]])\n",
            "<class 'torch.Tensor'>\n",
            "torch.Size([2, 2])\n",
            "tensor([[5.0000, 3.0000],\n",
            "        [2.3333, 2.0000]])\n",
            "tensor([[5.0000, 3.0000],\n",
            "        [2.3333, 2.0000]])\n",
            "tensor([[5.0000, 3.0000],\n",
            "        [2.3333, 2.0000]])\n"
          ],
          "name": "stdout"
        }
      ]
    },
    {
      "cell_type": "markdown",
      "metadata": {
        "id": "uWCDr8HN6R85"
      },
      "source": [
        "###Concatenação\n",
        "\n",
        "Concatena a sequência fornecida de tensores na dimensão fornecida.\n",
        "\n",
        "https://pytorch.org/docs/stable/generated/torch.cat.html"
      ]
    },
    {
      "cell_type": "code",
      "metadata": {
        "id": "WQmY3Ax0rzPJ",
        "outputId": "efb33169-9d0b-4c55-c726-c216edff5e7e",
        "colab": {
          "base_uri": "https://localhost:8080/",
          "height": 289
        }
      },
      "source": [
        "# Bibliotecas\n",
        "import torch\n",
        "\n",
        "# Declaração da matriz\n",
        "A =  [\n",
        "        [1.0, 2.0],\n",
        "        [3.0, 4.0]\n",
        "     ]\n",
        "    \n",
        "B =  [\n",
        "        [5.0, 6.0],\n",
        "        [7.0, 8.0]\n",
        "     ]\n",
        "\n",
        "# Converte a lista de lista de matriz em um tensor\n",
        "TA = torch.as_tensor(A)\n",
        "TB = torch.as_tensor(B)\n",
        "\n",
        "# Mostra os tensores\n",
        "print(TA)\n",
        "print(type(TA))\n",
        "print(TA.size())\n",
        "print(TB)\n",
        "print(type(TB))\n",
        "print(TB.size())\n",
        "\n",
        "# Concatena os vetores (ou seja, juntando-os) \n",
        "TC0 = torch.cat((TA, TB), dim=0)\n",
        "TC1 = torch.cat((TA, TB), dim=1)\n",
        "\n",
        "# Mostra as concatenações\n",
        "print(\"Concatenação pela dimensão 0\")\n",
        "print(TC0)\n",
        "print(\"Concatenação pela dimensão 1\")\n",
        "print(TC1)"
      ],
      "execution_count": 79,
      "outputs": [
        {
          "output_type": "stream",
          "text": [
            "tensor([[1., 2.],\n",
            "        [3., 4.]])\n",
            "<class 'torch.Tensor'>\n",
            "torch.Size([2, 2])\n",
            "tensor([[5., 6.],\n",
            "        [7., 8.]])\n",
            "<class 'torch.Tensor'>\n",
            "torch.Size([2, 2])\n",
            "Concatenação pela dimensão 0\n",
            "tensor([[1., 2.],\n",
            "        [3., 4.],\n",
            "        [5., 6.],\n",
            "        [7., 8.]])\n",
            "Concatenação pela dimensão 1\n",
            "tensor([[1., 2., 5., 6.],\n",
            "        [3., 4., 7., 8.]])\n"
          ],
          "name": "stdout"
        }
      ]
    },
    {
      "cell_type": "markdown",
      "metadata": {
        "id": "B0mMbtqj6BRp"
      },
      "source": [
        "### Concatenação de uma lista de tensores"
      ]
    },
    {
      "cell_type": "code",
      "metadata": {
        "id": "UdAmRxAbzBX_",
        "outputId": "a5a8809e-87a8-4425-8dc4-7129c4da329d",
        "colab": {
          "base_uri": "https://localhost:8080/",
          "height": 408
        }
      },
      "source": [
        "# Bibliotecas\n",
        "import torch\n",
        "\n",
        "# Declaração da matriz\n",
        "A =  [\n",
        "        [\n",
        "          [1.0, 2.0],\n",
        "          [3.0, 4.0]\n",
        "        ],\n",
        "        [\n",
        "          [5.0, 6.0],\n",
        "          [7.0, 8.0]\n",
        "        ],\n",
        "        [\n",
        "          [9.0, 10.0],\n",
        "          [11.0,12.0]\n",
        "        ],\n",
        "        [\n",
        "          [13.0, 14.0],\n",
        "          [15.0, 16.0]\n",
        "        ]\n",
        "      ]\n",
        "\n",
        "# Converte a lista de lista de matriz em um tensor\n",
        "TA = torch.as_tensor(A)\n",
        "\n",
        "# Mostra os tensores\n",
        "print(TA)\n",
        "print(type(TA))\n",
        "print(TA.size())\n",
        "\n",
        "# Concatena os vetores da última e penúltima posição\n",
        "TC0 = torch.cat((TA[-1], TA[-2]), dim=0)\n",
        "\n",
        "#C Cria uma lista com os vetores do final para a posição\n",
        "posicao = 2\n",
        "lista = []\n",
        "for x in range(1,posicao+1):\n",
        "    lista.append(TA[-x])\n",
        "\n",
        "# Concatena os vetores da lista\n",
        "TC1 = torch.cat(lista, dim=0)\n",
        "\n",
        "# Mostra as concatenações\n",
        "print(\"Concatenação pela dimensão 0\")\n",
        "print(TC0)\n",
        "print(\"Concatenação pela dimensão 0\")\n",
        "print(TC1)"
      ],
      "execution_count": 80,
      "outputs": [
        {
          "output_type": "stream",
          "text": [
            "tensor([[[ 1.,  2.],\n",
            "         [ 3.,  4.]],\n",
            "\n",
            "        [[ 5.,  6.],\n",
            "         [ 7.,  8.]],\n",
            "\n",
            "        [[ 9., 10.],\n",
            "         [11., 12.]],\n",
            "\n",
            "        [[13., 14.],\n",
            "         [15., 16.]]])\n",
            "<class 'torch.Tensor'>\n",
            "torch.Size([4, 2, 2])\n",
            "Concatenação pela dimensão 0\n",
            "tensor([[13., 14.],\n",
            "        [15., 16.],\n",
            "        [ 9., 10.],\n",
            "        [11., 12.]])\n",
            "Concatenação pela dimensão 0\n",
            "tensor([[13., 14.],\n",
            "        [15., 16.],\n",
            "        [ 9., 10.],\n",
            "        [11., 12.]])\n"
          ],
          "name": "stdout"
        }
      ]
    },
    {
      "cell_type": "markdown",
      "metadata": {
        "id": "0FsTe73gYItk"
      },
      "source": [
        "### Stack\n",
        "\n",
        "Concatena a sequência de tensores ao longo de uma nova dimensão.\n",
        "\n",
        " * torch.stack(TA, TB], dim = 0) == torch.cat(TA.unsqueeze(0), TB.unsqueeze(0)], dim = 0)\n",
        " * torch.stack(TA).sum() == torch.cat(TA).sum()"
      ]
    },
    {
      "cell_type": "code",
      "metadata": {
        "id": "o_wrkfsRYJDY",
        "outputId": "096a54dd-6eb3-41c2-99a2-803e70032bc7",
        "colab": {
          "base_uri": "https://localhost:8080/",
          "height": 357
        }
      },
      "source": [
        "# Bibliotecas\n",
        "import torch\n",
        "\n",
        "# Declaração da matriz\n",
        "A =  [\n",
        "        [1.0, 2.0],\n",
        "        [3.0, 4.0]\n",
        "     ]\n",
        "    \n",
        "B =  [\n",
        "        [5.0, 6.0],\n",
        "        [7.0, 8.0]\n",
        "     ]\n",
        "\n",
        "# Converte a lista de lista de matriz em um tensor\n",
        "TA = torch.as_tensor(A)\n",
        "TB = torch.as_tensor(B)\n",
        "\n",
        "# Mostra os tensores\n",
        "print(TA)\n",
        "print(type(TA))\n",
        "print(TA.size())\n",
        "print(TB)\n",
        "print(type(TB))\n",
        "print(TB.size())\n",
        "\n",
        "# Stack dos vetores (ou seja, juntando-os) \n",
        "TC0 = torch.stack((TA, TB), dim=0)\n",
        "TC1 = torch.stack((TA, TB), dim=1)\n",
        "\n",
        "# Mostra os stacks\n",
        "print(\"Stack pela dimensão 0\")\n",
        "print(TC0)\n",
        "print(\"Stack pela dimensão 1\")\n",
        "print(TC1)"
      ],
      "execution_count": 81,
      "outputs": [
        {
          "output_type": "stream",
          "text": [
            "tensor([[1., 2.],\n",
            "        [3., 4.]])\n",
            "<class 'torch.Tensor'>\n",
            "torch.Size([2, 2])\n",
            "tensor([[5., 6.],\n",
            "        [7., 8.]])\n",
            "<class 'torch.Tensor'>\n",
            "torch.Size([2, 2])\n",
            "Stack pela dimensão 0\n",
            "tensor([[[1., 2.],\n",
            "         [3., 4.]],\n",
            "\n",
            "        [[5., 6.],\n",
            "         [7., 8.]]])\n",
            "Stack pela dimensão 1\n",
            "tensor([[[1., 2.],\n",
            "         [5., 6.]],\n",
            "\n",
            "        [[3., 4.],\n",
            "         [7., 8.]]])\n"
          ],
          "name": "stdout"
        }
      ]
    },
    {
      "cell_type": "markdown",
      "metadata": {
        "id": "zpBWJOLQ6t8A"
      },
      "source": [
        "### Somando em 2 dimensões"
      ]
    },
    {
      "cell_type": "code",
      "metadata": {
        "id": "V6prbfd36t8C",
        "outputId": "4985d43d-e8e1-411e-c532-abe13b70c297",
        "colab": {
          "base_uri": "https://localhost:8080/",
          "height": 153
        }
      },
      "source": [
        "# Bibliotecas\n",
        "import torch\n",
        "\n",
        "A =  [\n",
        "        [1.0, 2.0],\n",
        "        [3.0, 4.0]\n",
        "     ]\n",
        "    \n",
        "# Converte a lista de lista de matriz em um tensor\n",
        "TA = torch.as_tensor(A)\n",
        "\n",
        "# Mostra os tensores\n",
        "print(TA)\n",
        "print(type(TA))\n",
        "print(TA.size())\n",
        "\n",
        "# Soma os vetores\n",
        "TC0 = torch.sum(TA, dim=0)\n",
        "TC1 = torch.sum(TA, dim=1)\n",
        "\n",
        "# Mostra as somas\n",
        "print(\"Soma pela dimensão 0(linhas)\")\n",
        "print(TC0)\n",
        "print(\"Soma pela dimensão 1(colunas)\")\n",
        "print(TC1)"
      ],
      "execution_count": 82,
      "outputs": [
        {
          "output_type": "stream",
          "text": [
            "tensor([[1., 2.],\n",
            "        [3., 4.]])\n",
            "<class 'torch.Tensor'>\n",
            "torch.Size([2, 2])\n",
            "Soma pela dimensão 0(linhas)\n",
            "tensor([4., 6.])\n",
            "Soma pela dimensão 1(colunas)\n",
            "tensor([3., 7.])\n"
          ],
          "name": "stdout"
        }
      ]
    },
    {
      "cell_type": "markdown",
      "metadata": {
        "id": "Vx7_gguTgcVz"
      },
      "source": [
        "### Somando em 4 dimensões"
      ]
    },
    {
      "cell_type": "code",
      "metadata": {
        "id": "fRsGNDbXgcV0",
        "outputId": "613197be-cb95-4429-f966-b1c7dbbb5eb1",
        "colab": {
          "base_uri": "https://localhost:8080/",
          "height": 391
        }
      },
      "source": [
        "# Bibliotecas\n",
        "import torch\n",
        "\n",
        "A =   [\n",
        "        [ \n",
        "          [ \n",
        "            [1.0, 2.0, 3.0],\n",
        "            [4.0, 5.0, 6.0]               \n",
        "          ],\n",
        "          [ \n",
        "            [1.0, 2.0, 3.0],\n",
        "            [4.0, 5.0, 6.0]               \n",
        "          ]\n",
        "        ]\n",
        "      ]      \n",
        "    \n",
        "    \n",
        "# Converte a lista de lista de matriz em um tensor\n",
        "TA = torch.as_tensor(A)\n",
        "\n",
        "# Mostra os tensores\n",
        "print(TA)\n",
        "print(type(TA))\n",
        "print(TA.size())\n",
        "\n",
        "# Soma os vetores\n",
        "TC0 = torch.sum(TA, dim=0)\n",
        "TC1 = torch.sum(TA, dim=1)\n",
        "TC2 = torch.sum(TA, dim=2)\n",
        "TC3 = torch.sum(TA, dim=3)\n",
        "\n",
        "# Mostra as somas\n",
        "print(\"Soma pela dimensão 0\")\n",
        "print(TC0)\n",
        "print(\"Soma pela dimensão 1\")\n",
        "print(TC1)\n",
        "print(\"Soma pela dimensão 2\")\n",
        "print(TC2)\n",
        "print(\"Soma pela dimensão 3\")\n",
        "print(TC3)"
      ],
      "execution_count": 83,
      "outputs": [
        {
          "output_type": "stream",
          "text": [
            "tensor([[[[1., 2., 3.],\n",
            "          [4., 5., 6.]],\n",
            "\n",
            "         [[1., 2., 3.],\n",
            "          [4., 5., 6.]]]])\n",
            "<class 'torch.Tensor'>\n",
            "torch.Size([1, 2, 2, 3])\n",
            "Soma pela dimensão 0\n",
            "tensor([[[1., 2., 3.],\n",
            "         [4., 5., 6.]],\n",
            "\n",
            "        [[1., 2., 3.],\n",
            "         [4., 5., 6.]]])\n",
            "Soma pela dimensão 1\n",
            "tensor([[[ 2.,  4.,  6.],\n",
            "         [ 8., 10., 12.]]])\n",
            "Soma pela dimensão 2\n",
            "tensor([[[5., 7., 9.],\n",
            "         [5., 7., 9.]]])\n",
            "Soma pela dimensão 3\n",
            "tensor([[[ 6., 15.],\n",
            "         [ 6., 15.]]])\n"
          ],
          "name": "stdout"
        }
      ]
    },
    {
      "cell_type": "markdown",
      "metadata": {
        "id": "XtJ8x01JgDLQ"
      },
      "source": [
        "###Média em 2 dimensões"
      ]
    },
    {
      "cell_type": "code",
      "metadata": {
        "id": "Gb76B2dhgFAB",
        "outputId": "c5e44af8-591f-4f58-8603-25ed44757f98",
        "colab": {
          "base_uri": "https://localhost:8080/",
          "height": 187
        }
      },
      "source": [
        "# Bibliotecas\n",
        "import torch\n",
        "\n",
        "A =   [\n",
        "        [1.0, 2.0, 3.0],\n",
        "        [4.0, 5.0, 6.0]               \n",
        "      ]\n",
        "            \n",
        "    \n",
        "# Converte a lista de lista de matriz em um tensor\n",
        "TA = torch.as_tensor(A)\n",
        "\n",
        "# Mostra os tensores\n",
        "print(TA)\n",
        "print(type(TA))\n",
        "print(TA.size())\n",
        "\n",
        "# Média dos vetores\n",
        "TC0 = torch.mean(TA, dim=0)\n",
        "TC1 = torch.mean(TA, dim=1)\n",
        "\n",
        "# Mostra as médias\n",
        "print(\"Média pela dimensão 0\")\n",
        "print(TC0)\n",
        "print(TC0.size())\n",
        "\n",
        "print(\"Média pela dimensão 1\")\n",
        "print(TC1)\n",
        "print(TC1.size())"
      ],
      "execution_count": 84,
      "outputs": [
        {
          "output_type": "stream",
          "text": [
            "tensor([[1., 2., 3.],\n",
            "        [4., 5., 6.]])\n",
            "<class 'torch.Tensor'>\n",
            "torch.Size([2, 3])\n",
            "Média pela dimensão 0\n",
            "tensor([2.5000, 3.5000, 4.5000])\n",
            "torch.Size([3])\n",
            "Média pela dimensão 1\n",
            "tensor([2., 5.])\n",
            "torch.Size([2])\n"
          ],
          "name": "stdout"
        }
      ]
    },
    {
      "cell_type": "markdown",
      "metadata": {
        "id": "fxCcc8ZY-nuQ"
      },
      "source": [
        "###Média em 4 dimensões"
      ]
    },
    {
      "cell_type": "code",
      "metadata": {
        "id": "jvzBfSDSQ8Qy",
        "outputId": "689adf3d-03ef-4b11-ae86-c84c35fcaa11",
        "colab": {
          "base_uri": "https://localhost:8080/",
          "height": 459
        }
      },
      "source": [
        "# Bibliotecas\n",
        "import torch\n",
        "\n",
        "A =   [\n",
        "        [ \n",
        "          [ \n",
        "            [1.0, 2.0, 3.0],\n",
        "            [4.0, 5.0, 6.0]               \n",
        "          ],\n",
        "          [ \n",
        "            [1.0, 2.0, 3.0],\n",
        "            [4.0, 5.0, 6.0]               \n",
        "          ]\n",
        "        ]\n",
        "      ]      \n",
        "    \n",
        "# Converte a lista de lista de matriz em um tensor\n",
        "TA = torch.as_tensor(A)\n",
        "\n",
        "# Mostra os tensores\n",
        "print(TA)\n",
        "print(type(TA))\n",
        "print(TA.size())\n",
        "\n",
        "# Média dos vetores\n",
        "TC0 = torch.mean(TA, dim=0)\n",
        "TC1 = torch.mean(TA, dim=1)\n",
        "TC2 = torch.mean(TA, dim=2)\n",
        "TC3 = torch.mean(TA, dim=3)\n",
        "\n",
        "# Mostra as médias\n",
        "print(\"Média pela dimensão 0\")\n",
        "print(TC0)\n",
        "print(TC0.size())\n",
        "\n",
        "print(\"Média pela dimensão 1\")\n",
        "print(TC1)\n",
        "print(TC1.size())\n",
        "\n",
        "print(\"Média pela dimensão 2\")\n",
        "print(TC2)\n",
        "print(TC2.size())\n",
        "\n",
        "print(\"Média pela dimensão 3\")\n",
        "print(TC3)\n",
        "print(TC3.size())"
      ],
      "execution_count": 85,
      "outputs": [
        {
          "output_type": "stream",
          "text": [
            "tensor([[[[1., 2., 3.],\n",
            "          [4., 5., 6.]],\n",
            "\n",
            "         [[1., 2., 3.],\n",
            "          [4., 5., 6.]]]])\n",
            "<class 'torch.Tensor'>\n",
            "torch.Size([1, 2, 2, 3])\n",
            "Média pela dimensão 0\n",
            "tensor([[[1., 2., 3.],\n",
            "         [4., 5., 6.]],\n",
            "\n",
            "        [[1., 2., 3.],\n",
            "         [4., 5., 6.]]])\n",
            "torch.Size([2, 2, 3])\n",
            "Média pela dimensão 1\n",
            "tensor([[[1., 2., 3.],\n",
            "         [4., 5., 6.]]])\n",
            "torch.Size([1, 2, 3])\n",
            "Média pela dimensão 2\n",
            "tensor([[[2.5000, 3.5000, 4.5000],\n",
            "         [2.5000, 3.5000, 4.5000]]])\n",
            "torch.Size([1, 2, 3])\n",
            "Média pela dimensão 3\n",
            "tensor([[[2., 5.],\n",
            "         [2., 5.]]])\n",
            "torch.Size([1, 2, 2])\n"
          ],
          "name": "stdout"
        }
      ]
    },
    {
      "cell_type": "markdown",
      "metadata": {
        "id": "tklJhmcrCFS7"
      },
      "source": [
        "###Permute\n",
        "\n",
        "\n",
        "Troca a ordem das dimensões."
      ]
    },
    {
      "cell_type": "code",
      "metadata": {
        "id": "5Ayfdnw7CGVl",
        "outputId": "01773b03-00d4-4e81-f372-6d0cd3921b29",
        "colab": {
          "base_uri": "https://localhost:8080/",
          "height": 255
        }
      },
      "source": [
        "# Bibliotecas\n",
        "import torch\n",
        "\n",
        "A = [     \n",
        "      [\n",
        "        [1, 2, 3],\n",
        "        [4, 5, 6]\n",
        "      ]\n",
        "    ]\n",
        "\n",
        "# Converte a lista de lista de matriz em um tensor\n",
        "TA = torch.as_tensor(A)\n",
        "\n",
        "# Mostra os tensores\n",
        "print(TA)\n",
        "print(type(TA))\n",
        "print(TA.size())\n",
        "\n",
        "# Permute troca as dimensões 0, 1, 2 pelas dimensões 2, 1, 0\n",
        "TC0 = TA.permute(2, 1, 0)\n",
        "\n",
        "# Mostra o tensor modificado\n",
        "print(\"Permutação das dimensões 0, 1, 2 por 2, 1, 0\")\n",
        "print(TC0)\n",
        "print(TC0.size())"
      ],
      "execution_count": 86,
      "outputs": [
        {
          "output_type": "stream",
          "text": [
            "tensor([[[1, 2, 3],\n",
            "         [4, 5, 6]]])\n",
            "<class 'torch.Tensor'>\n",
            "torch.Size([1, 2, 3])\n",
            "Permutação das dimensões 0, 1, 2 por 2, 1, 0\n",
            "tensor([[[1],\n",
            "         [4]],\n",
            "\n",
            "        [[2],\n",
            "         [5]],\n",
            "\n",
            "        [[3],\n",
            "         [6]]])\n",
            "torch.Size([3, 2, 1])\n"
          ],
          "name": "stdout"
        }
      ]
    },
    {
      "cell_type": "markdown",
      "metadata": {
        "id": "_yQhjh0PAVDj"
      },
      "source": [
        "###Squeeze\n",
        "\n",
        "Remove as dimensões de tamanho 1 para a posição especificada.\n",
        "\n",
        "https://pytorch.org/docs/stable/generated/torch.squeeze.html"
      ]
    },
    {
      "cell_type": "code",
      "metadata": {
        "id": "m5MwtkgzAVDj",
        "outputId": "62727643-9d16-4954-8d35-61a1c8b288b9",
        "colab": {
          "base_uri": "https://localhost:8080/",
          "height": 102
        }
      },
      "source": [
        "# Bibliotecas\n",
        "import torch\n",
        "\n",
        "A = [\n",
        "      [     \n",
        "        [\n",
        "          [1, 2, 3],\n",
        "          [4, 5, 6]\n",
        "        ]\n",
        "      ]\n",
        "    ]\n",
        "    \n",
        "# Converte a lista de lista de matriz em um tensor\n",
        "TA = torch.as_tensor(A)\n",
        "\n",
        "# Mostra os tensores\n",
        "print(TA)\n",
        "print(\"Tamanho das dimensões:\", TA.size())\n",
        "\n",
        "# Remove primeira dimensão de tamanho 1\n",
        "TC0 = torch.squeeze(TA, dim=0)\n",
        "\n",
        "# Mostra o tensor com a dimensão removida\n",
        "print(\"Tamanho das dimensões:\", TC0.size())\n",
        "\n",
        "# Remove primeira dimensão de tamanho 1\n",
        "TC0 = torch.squeeze(TC0, dim=0)\n",
        "\n",
        "# Mostra o tensor com a dimensão removida\n",
        "print(\"Tamanho das dimensões:\", TC0.size())"
      ],
      "execution_count": 87,
      "outputs": [
        {
          "output_type": "stream",
          "text": [
            "tensor([[[[1, 2, 3],\n",
            "          [4, 5, 6]]]])\n",
            "Tamanho das dimensões: torch.Size([1, 1, 2, 3])\n",
            "Tamanho das dimensões: torch.Size([1, 2, 3])\n",
            "Tamanho das dimensões: torch.Size([2, 3])\n"
          ],
          "name": "stdout"
        }
      ]
    },
    {
      "cell_type": "markdown",
      "metadata": {
        "id": "8lV5P2WjZ_rZ"
      },
      "source": [
        "### Unsqueeze\n",
        "\n",
        "Insere uma dimensão de tamanho 1 na posição especificada.\n",
        "Inverso do squeeze.\n",
        "\n",
        "https://pytorch.org/docs/stable/generated/torch.unsqueeze.html"
      ]
    },
    {
      "cell_type": "code",
      "metadata": {
        "id": "PJ7ieZAyaADn",
        "outputId": "808e02ca-5c1a-481c-830a-9cd8f50f8aa1",
        "colab": {
          "base_uri": "https://localhost:8080/",
          "height": 102
        }
      },
      "source": [
        "# Bibliotecas\n",
        "import torch\n",
        "\n",
        "A =   [\n",
        "       [1, 2, 3],\n",
        "       [4, 5, 6]\n",
        "      ]\n",
        "    \n",
        "# Converte a lista de lista de matriz em um tensor\n",
        "TA = torch.as_tensor(A)\n",
        "\n",
        "# Mostra os tensores\n",
        "print(TA)\n",
        "print(\"Tamanho das dimensões:\", TA.size())\n",
        "\n",
        "# Insere primeira dimensão de tamanho 1\n",
        "TC0 = torch.unsqueeze(TA, dim=0)\n",
        "\n",
        "# Mostra o tensor com a dimensão inserida\n",
        "print(\"Tamanho das dimensões:\", TC0.size())\n",
        "\n",
        "# Insere primeira dimensão de tamanho 1\n",
        "TC0 = torch.unsqueeze(TC0, dim=0)\n",
        "\n",
        "# Mostra o tensor com a dimensão inserida\n",
        "print(\"Tamanho das dimensões:\", TC0.size())"
      ],
      "execution_count": 88,
      "outputs": [
        {
          "output_type": "stream",
          "text": [
            "tensor([[1, 2, 3],\n",
            "        [4, 5, 6]])\n",
            "Tamanho das dimensões: torch.Size([2, 3])\n",
            "Tamanho das dimensões: torch.Size([1, 2, 3])\n",
            "Tamanho das dimensões: torch.Size([1, 1, 2, 3])\n"
          ],
          "name": "stdout"
        }
      ]
    }
  ]
}