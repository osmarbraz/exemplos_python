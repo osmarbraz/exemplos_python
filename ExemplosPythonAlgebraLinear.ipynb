{
  "nbformat": 4,
  "nbformat_minor": 0,
  "metadata": {
    "colab": {
      "name": "ExemplosPythonAlgebraLinear.ipynb",
      "provenance": [],
      "collapsed_sections": [],
      "toc_visible": true,
      "include_colab_link": true
    },
    "kernelspec": {
      "name": "python3",
      "display_name": "Python 3"
    }
  },
  "cells": [
    {
      "cell_type": "markdown",
      "metadata": {
        "id": "view-in-github",
        "colab_type": "text"
      },
      "source": [
        "<a href=\"https://colab.research.google.com/github/osmarbraz/exemplos_python/blob/master/ExemplosPythonAlgebraLinear.ipynb\" target=\"_parent\"><img src=\"https://colab.research.google.com/assets/colab-badge.svg\" alt=\"Open In Colab\"/></a>"
      ]
    },
    {
      "cell_type": "markdown",
      "metadata": {
        "id": "xY84ChCNzmQQ"
      },
      "source": [
        "# Exemplos Vetores, Matrizes e Álgebra Linear em Python no Google Colaboratory\n",
        "\n",
        "Álgebra linear é um ramo da matemática que surgiu do estudo detalhado de sistemas de equações lineares, sejam elas algébricas ou diferenciais. A álgebra linear utiliza alguns conceitos e estruturas fundamentais da matemática como vetores, espaços vetoriais, transformações lineares, sistemas de equações lineares e matrizes.\n",
        "\n",
        "Exemplos:\n",
        "- Vetor padrão;\n",
        "- Matriz padrão;\n",
        "\n",
        "-----------------------------------------\n",
        "**Guia Colab Iniciante:**\n",
        "\n",
        "https://medium.com/machina-sapiens/google-colab-guia-do-iniciante-334d70aad531\n",
        "\n",
        "**Documentação oficial:**\n",
        "\n",
        "https://colab.research.google.com/github/jakevdp/PythonDataScienceHandbook/blob/master/notebooks/01.01-Help-And-Documentation.ipynb\n",
        "\n",
        "**Características :**\n",
        "\n",
        "https://colab.research.google.com/notebooks/basic_features_overview.ipynb"
      ]
    },
    {
      "cell_type": "markdown",
      "metadata": {
        "id": "kgOIbiH4rUJN"
      },
      "source": [
        "# Vetor Padrão(list)"
      ]
    },
    {
      "cell_type": "markdown",
      "metadata": {
        "id": "2Z9DwoEkfwWv"
      },
      "source": [
        "Inicialização vetor"
      ]
    },
    {
      "cell_type": "code",
      "metadata": {
        "id": "qN4-4Ui5gMkD",
        "outputId": "db92f017-2630-491f-df33-327094c53bdd",
        "colab": {
          "base_uri": "https://localhost:8080/",
          "height": 34
        }
      },
      "source": [
        "# Declara um vetor\n",
        "A = [1,2,3]\n",
        "\n",
        "# Mostra o vetor\n",
        "print(A)"
      ],
      "execution_count": 1,
      "outputs": [
        {
          "output_type": "stream",
          "text": [
            "[1, 2, 3]\n"
          ],
          "name": "stdout"
        }
      ]
    },
    {
      "cell_type": "markdown",
      "metadata": {
        "id": "jIyN9queGP1O"
      },
      "source": [
        "Declarando e inicializando um vetor com uma constante"
      ]
    },
    {
      "cell_type": "code",
      "metadata": {
        "id": "3DiQIAj7GTFh",
        "outputId": "53ae1c12-b65a-4c07-ea93-64524cfce0f7",
        "colab": {
          "base_uri": "https://localhost:8080/",
          "height": 51
        }
      },
      "source": [
        "# Gera um vetor de 10 posições com o valor 1\n",
        "A = [1] * 10\n",
        "\n",
        "# Mostra o tamanho do vetor\n",
        "print(len(A))\n",
        "\n",
        "# Mostra o vetor\n",
        "print(A)"
      ],
      "execution_count": 2,
      "outputs": [
        {
          "output_type": "stream",
          "text": [
            "10\n",
            "[1, 1, 1, 1, 1, 1, 1, 1, 1, 1]\n"
          ],
          "name": "stdout"
        }
      ]
    },
    {
      "cell_type": "markdown",
      "metadata": {
        "id": "UcJPJi63f3i7"
      },
      "source": [
        "Mutiplicando vetor por constante"
      ]
    },
    {
      "cell_type": "code",
      "metadata": {
        "id": "akMlhWM6cVTj",
        "outputId": "f272cfd4-a0cb-416e-e14b-a876a1f25675",
        "colab": {
          "base_uri": "https://localhost:8080/",
          "height": 51
        }
      },
      "source": [
        "# Declara um vetor\n",
        "A = [1, 2]\n",
        "\n",
        "# Mutilica o vetor A por 3 e cria o vetor B\n",
        "B = A *  3\n",
        "\n",
        "# Mostra o vetor A\n",
        "print(A)\n",
        "print('A * 3 = ' + str(B))"
      ],
      "execution_count": 3,
      "outputs": [
        {
          "output_type": "stream",
          "text": [
            "[1, 2]\n",
            "A * 3 = [1, 2, 1, 2, 1, 2]\n"
          ],
          "name": "stdout"
        }
      ]
    },
    {
      "cell_type": "markdown",
      "metadata": {
        "id": "NmMnkrB_gnsb"
      },
      "source": [
        "Mutiplicando elementos do vetor por constante"
      ]
    },
    {
      "cell_type": "code",
      "metadata": {
        "id": "0wDYognJcHGu",
        "outputId": "e690195c-7e83-4234-9976-5862394d13ec",
        "colab": {
          "base_uri": "https://localhost:8080/",
          "height": 51
        }
      },
      "source": [
        "# Declara um vetor\n",
        "A = [1, 2]\n",
        "\n",
        "# Multiplica cada elemento da matriz A por 3\n",
        "B = [i * 3.0 for i in A]\n",
        "\n",
        "# Mostra a matriz\n",
        "print(A)\n",
        "print('A * 3 = ' + str(B))"
      ],
      "execution_count": 4,
      "outputs": [
        {
          "output_type": "stream",
          "text": [
            "[1, 2]\n",
            "A * 3 = [3.0, 6.0]\n"
          ],
          "name": "stdout"
        }
      ]
    },
    {
      "cell_type": "markdown",
      "metadata": {
        "id": "OFpN7AeXt_88"
      },
      "source": [
        "# Matriz Padrão(list de list)"
      ]
    },
    {
      "cell_type": "markdown",
      "metadata": {
        "id": "K2cG6rK1fztl"
      },
      "source": [
        "Inicialização matriz"
      ]
    },
    {
      "cell_type": "code",
      "metadata": {
        "id": "-xau9q9mgESC",
        "outputId": "35b367ca-e85c-4447-f487-ffb4d748f332",
        "colab": {
          "base_uri": "https://localhost:8080/",
          "height": 51
        }
      },
      "source": [
        "# Declara uma matriz\n",
        "A = [\n",
        "      [1,2,3],\n",
        "      [4,5,6],\n",
        "      [7,8,9]\n",
        "    ]\n",
        "\n",
        "# Mostra a matriz\n",
        "print(A)\n",
        "# ou\n",
        "print(A[:])"
      ],
      "execution_count": 5,
      "outputs": [
        {
          "output_type": "stream",
          "text": [
            "[[1, 2, 3], [4, 5, 6], [7, 8, 9]]\n",
            "[[1, 2, 3], [4, 5, 6], [7, 8, 9]]\n"
          ],
          "name": "stdout"
        }
      ]
    },
    {
      "cell_type": "markdown",
      "metadata": {
        "id": "HiGqlWXagg36"
      },
      "source": [
        "Mutiplicando matriz por constante"
      ]
    },
    {
      "cell_type": "code",
      "metadata": {
        "id": "JmEZuzfmh3RT",
        "outputId": "5b2c7f70-ff80-4726-b4a6-9568bc960f97",
        "colab": {
          "base_uri": "https://localhost:8080/",
          "height": 51
        }
      },
      "source": [
        "# Declara uma matriz\n",
        "A = [\n",
        "      [1, 2],\n",
        "      [3, 4]\n",
        "    ]\n",
        "\n",
        "# Multiplica a matriz A por 3 e cria a matriz B\n",
        "B = A * 3\n",
        "\n",
        "# Mostra a matriz A\n",
        "print(A)\n",
        "print('A * 3 = ' + str(B))"
      ],
      "execution_count": 6,
      "outputs": [
        {
          "output_type": "stream",
          "text": [
            "[[1, 2], [3, 4]]\n",
            "A * 3 = [[1, 2], [3, 4], [1, 2], [3, 4], [1, 2], [3, 4]]\n"
          ],
          "name": "stdout"
        }
      ]
    },
    {
      "cell_type": "markdown",
      "metadata": {
        "id": "PeMG7XdzJUze"
      },
      "source": [
        "Acessando elementos da matriz"
      ]
    },
    {
      "cell_type": "code",
      "metadata": {
        "id": "5O1ro8KTJVBF",
        "outputId": "45615406-b292-4b06-eaa7-890a081f2c0c",
        "colab": {
          "base_uri": "https://localhost:8080/",
          "height": 255
        }
      },
      "source": [
        "# Declara uma matriz\n",
        "A = [\n",
        "      [1, 2],\n",
        "      [3, 4]\n",
        "    ]\n",
        "\n",
        "print(\">>> Matriz\")\n",
        "# Mostrando toda a matriz\n",
        "print(A) #imprime a matriz, sem especificar um intervalo\n",
        "#ou\n",
        "print(A[:]) #imprime a matriz, sem especificar um intervalo\n",
        "#ou\n",
        "print(A[::])#imprime a matriz, sem especificar um intervalo\n",
        "#ou\n",
        "print(A[0:2]) #imprime a matriz, especificando um intervalo\n",
        "\n",
        "# Mostrando linhas da matriz\n",
        "print(\">>> Linha 0\")\n",
        "print(A[0]) #imprime a linha 0, sem especificar um intervalo\n",
        "#ou\n",
        "print(A[0][:]) #imprime a linha 0, sem especificar o intervalo\n",
        "#ou\n",
        "print(A[0][0:2]) #imprime a linha 0, especificando um intervalo de 0 a 2\n",
        "\n",
        "# Mostrando colunas da matriz\n",
        "print(\">>> Coluna 0\")\n",
        "print([A[0][0],A[1][0]]) #imprime a coluna 0, especificando os elementos\n",
        "\n",
        "print(\">>> Elemento\")\n",
        "# Mostrando um elemento específico da matriz\n",
        "print(A[0][0]) #imprime coluna 0 linha 0\n",
        "print(A[0][1]) #imprime coluna 0 linha 1"
      ],
      "execution_count": 7,
      "outputs": [
        {
          "output_type": "stream",
          "text": [
            ">>> Matriz\n",
            "[[1, 2], [3, 4]]\n",
            "[[1, 2], [3, 4]]\n",
            "[[1, 2], [3, 4]]\n",
            "[[1, 2], [3, 4]]\n",
            ">>> Linha 0\n",
            "[1, 2]\n",
            "[1, 2]\n",
            "[1, 2]\n",
            ">>> Coluna 0\n",
            "[1, 3]\n",
            ">>> Elemento\n",
            "1\n",
            "2\n"
          ],
          "name": "stdout"
        }
      ]
    },
    {
      "cell_type": "markdown",
      "metadata": {
        "id": "oCAX2rS8Jrkp"
      },
      "source": [
        "Lista de matriz"
      ]
    },
    {
      "cell_type": "code",
      "metadata": {
        "id": "9QDG4hPKJuOR",
        "outputId": "0f2cd857-d599-4b23-930a-923f70c7bb91",
        "colab": {
          "base_uri": "https://localhost:8080/",
          "height": 425
        }
      },
      "source": [
        "# Declara uma matriz\n",
        "A = [\n",
        "      [\n",
        "        [1, 2],\n",
        "        [3, 4]\n",
        "      ],\n",
        "      [\n",
        "        [5, 6],\n",
        "        [7, 8]\n",
        "      ]\n",
        "    ]\n",
        "\n",
        "#imprime toda a lista de matriz\n",
        "print(\">>> Lista de matrizes\")\n",
        "print(A)\n",
        "print(A[:])\n",
        "print(A[::])\n",
        "print(A[:][:])\n",
        "print(A[0:2])\n",
        "print(A[0:2][0:2])\n",
        "\n",
        "#imprime matriz da posição 0 da lista \n",
        "print(\">>> Matriz\")\n",
        "print(A[0])\n",
        "print(A[0][:])\n",
        "print(A[0][0:2])\n",
        "\n",
        "# Mostrado a linha 0 da matriz da posição 0 da lista \n",
        "print(\">>> Linha\")\n",
        "print(A[0][0])\n",
        "print(A[0][:][0])\n",
        "print(A[0][0:2][0])\n",
        "print(A[0][0][:])\n",
        "\n",
        "# Mostrado a coluna 0 da matriz da posição 0 da lista \n",
        "print(\">>> Coluna\")\n",
        "print([A[0][0][0],A[0][1][0]]) #imprime a coluna 0, especificando os elementos\n",
        "\n",
        "# Mostra o elemento da linha 0 da coluna0 da linha 0 da matriz 0 da posição 0 da lista \n",
        "print(\">>> Elemento\")\n",
        "print(A[0][0][0])\n",
        "print(A[0][0][:][0])\n",
        "print(A[0][:][0][0])\n",
        "print(A[0][0:1][0][0])\n",
        "print(A[0][:][:][0][0])"
      ],
      "execution_count": 8,
      "outputs": [
        {
          "output_type": "stream",
          "text": [
            ">>> Lista de matrizes\n",
            "[[[1, 2], [3, 4]], [[5, 6], [7, 8]]]\n",
            "[[[1, 2], [3, 4]], [[5, 6], [7, 8]]]\n",
            "[[[1, 2], [3, 4]], [[5, 6], [7, 8]]]\n",
            "[[[1, 2], [3, 4]], [[5, 6], [7, 8]]]\n",
            "[[[1, 2], [3, 4]], [[5, 6], [7, 8]]]\n",
            "[[[1, 2], [3, 4]], [[5, 6], [7, 8]]]\n",
            ">>> Matriz\n",
            "[[1, 2], [3, 4]]\n",
            "[[1, 2], [3, 4]]\n",
            "[[1, 2], [3, 4]]\n",
            ">>> Linha\n",
            "[1, 2]\n",
            "[1, 2]\n",
            "[1, 2]\n",
            "[1, 2]\n",
            ">>> Coluna\n",
            "[1, 3]\n",
            ">>> Elemento\n",
            "1\n",
            "1\n",
            "1\n",
            "1\n",
            "1\n"
          ],
          "name": "stdout"
        }
      ]
    },
    {
      "cell_type": "markdown",
      "metadata": {
        "id": "zXDQGndfKU2P"
      },
      "source": [
        "Lista de Lista de matriz"
      ]
    },
    {
      "cell_type": "code",
      "metadata": {
        "id": "vTGN4MP6KU2Q",
        "outputId": "a61a48b8-75b8-4bbd-eb77-212e5be90c75",
        "colab": {
          "base_uri": "https://localhost:8080/",
          "height": 530
        }
      },
      "source": [
        "# Declara uma matriz\n",
        "A = [\n",
        "      [\n",
        "        [\n",
        "          [11, 12],\n",
        "          [13, 14]\n",
        "        ],\n",
        "        [\n",
        "          [21, 22],\n",
        "          [23, 24]],\n",
        "        [\n",
        "          [31, 32],\n",
        "          [33, 34]\n",
        "        ]\n",
        "      ],\n",
        "      [\n",
        "        [\n",
        "          [41, 42],\n",
        "          [43, 44]\n",
        "        ],\n",
        "        [\n",
        "          [51, 52],\n",
        "          [53, 54]\n",
        "        ],\n",
        "        [\n",
        "          [61, 62],\n",
        "          [63, 64]\n",
        "        ]\n",
        "      ]\n",
        "    ]\n",
        "\n",
        "print(\">>> Lista de lista de matriz\")\n",
        "print(A) #Imprime toda a matriz\n",
        "print(A[:]) #Imprime toda das dimensões da matriz\n",
        "print(A[::]) #Imprime toda das dimensões da matriz\n",
        "print(A[:][:]) #Imprime toda das dimensões da matriz\n",
        "print(A[:][:][:]) #Imprime toda das dimensões da matriz\n",
        "print(A[0:2]) #Imprime as dimensões 0 e 1 da matriz\n",
        "print(A[0:2][0:2]) #Imprime as dimensões de 0 e 1 de todas as dimensões\n",
        "print(A[0:2][0:2][0:2]) #Imprime as dimensões de 0 e 1 de todas as dimensões\n",
        "\n",
        "print(\">>> Lista de matriz\")\n",
        "print(A[0]) #Imprime a lista de matrizes da posição 0 da lista\n",
        "print(A[0][:]) #Imprime a lista de todas as matrizes da posição 0 da lista\n",
        "print(A[0][:][:]) #Imprime a lista de todas as matrizes da posição 0 da lista\n",
        "print(A[0][::]) #Imprime a lista de todas as matrizes da posição 0 da lista\n",
        "print(A[0][::][::]) #Imprime a lista de todas as matrizes da posição 0 da lista\n",
        "\n",
        "print(\">>> Matriz\")\n",
        "print(A[0][0]) #Imprime a matriz 0 da lista 0\n",
        "print(A[0][0][::]) #Imprime todos os elementos a matriz 0 da lista 0\n",
        "print(A[0][0][0:2]) #Imprime os elementos de 0 a 1 da matriz 0 da lista 0\n",
        "\n",
        "# Mostrado a linha 0 da matriz da posição 0 da lista \n",
        "print(\">>> Linha\")\n",
        "print(A[0][0][0])\n",
        "print(A[0][0][:][0])\n",
        "print(A[0][0][0:2][0])\n",
        "print(A[0][0][0][:])\n",
        "\n",
        "# Mostrado a coluna 0 da matriz da posição 0 da lista \n",
        "print(\">>> Coluna\")\n",
        "print([A[0][0][0][0],A[0][0][1][0]]) #imprime a coluna 0, especificando os elementos\n",
        "\n",
        "# Mostra o elemento da linha 0 da coluna0 da linha 0 da matriz 0 da posição 0 da posição 0 da lista \n",
        "print(\">>> Elemento\")\n",
        "print(A[0][0][0][0]) #Imprime o elemento da coluna 0 linha 0 da matriz 0, da lista 0 da lista 0\n",
        "print(A[0][0][0][0]) #Imprime o elemento da coluna 0 linha 0 da matriz 0, da lista 0 da lista 1"
      ],
      "execution_count": 9,
      "outputs": [
        {
          "output_type": "stream",
          "text": [
            ">>> Lista de lista de matriz\n",
            "[[[[11, 12], [13, 14]], [[21, 22], [23, 24]], [[31, 32], [33, 34]]], [[[41, 42], [43, 44]], [[51, 52], [53, 54]], [[61, 62], [63, 64]]]]\n",
            "[[[[11, 12], [13, 14]], [[21, 22], [23, 24]], [[31, 32], [33, 34]]], [[[41, 42], [43, 44]], [[51, 52], [53, 54]], [[61, 62], [63, 64]]]]\n",
            "[[[[11, 12], [13, 14]], [[21, 22], [23, 24]], [[31, 32], [33, 34]]], [[[41, 42], [43, 44]], [[51, 52], [53, 54]], [[61, 62], [63, 64]]]]\n",
            "[[[[11, 12], [13, 14]], [[21, 22], [23, 24]], [[31, 32], [33, 34]]], [[[41, 42], [43, 44]], [[51, 52], [53, 54]], [[61, 62], [63, 64]]]]\n",
            "[[[[11, 12], [13, 14]], [[21, 22], [23, 24]], [[31, 32], [33, 34]]], [[[41, 42], [43, 44]], [[51, 52], [53, 54]], [[61, 62], [63, 64]]]]\n",
            "[[[[11, 12], [13, 14]], [[21, 22], [23, 24]], [[31, 32], [33, 34]]], [[[41, 42], [43, 44]], [[51, 52], [53, 54]], [[61, 62], [63, 64]]]]\n",
            "[[[[11, 12], [13, 14]], [[21, 22], [23, 24]], [[31, 32], [33, 34]]], [[[41, 42], [43, 44]], [[51, 52], [53, 54]], [[61, 62], [63, 64]]]]\n",
            "[[[[11, 12], [13, 14]], [[21, 22], [23, 24]], [[31, 32], [33, 34]]], [[[41, 42], [43, 44]], [[51, 52], [53, 54]], [[61, 62], [63, 64]]]]\n",
            ">>> Lista de matriz\n",
            "[[[11, 12], [13, 14]], [[21, 22], [23, 24]], [[31, 32], [33, 34]]]\n",
            "[[[11, 12], [13, 14]], [[21, 22], [23, 24]], [[31, 32], [33, 34]]]\n",
            "[[[11, 12], [13, 14]], [[21, 22], [23, 24]], [[31, 32], [33, 34]]]\n",
            "[[[11, 12], [13, 14]], [[21, 22], [23, 24]], [[31, 32], [33, 34]]]\n",
            "[[[11, 12], [13, 14]], [[21, 22], [23, 24]], [[31, 32], [33, 34]]]\n",
            ">>> Matriz\n",
            "[[11, 12], [13, 14]]\n",
            "[[11, 12], [13, 14]]\n",
            "[[11, 12], [13, 14]]\n",
            ">>> Linha\n",
            "[11, 12]\n",
            "[11, 12]\n",
            "[11, 12]\n",
            "[11, 12]\n",
            ">>> Coluna\n",
            "[11, 13]\n",
            ">>> Elemento\n",
            "11\n",
            "11\n"
          ],
          "name": "stdout"
        }
      ]
    },
    {
      "cell_type": "markdown",
      "metadata": {
        "id": "Dgb8PDzIgdDf"
      },
      "source": [
        "# Matriz com NumPy\n",
        "\n",
        "É um pacote para linguagem Python que possibilita realizar diversas operação com vetores e matrizes de forma rápida e eficiente.\n",
        "\n",
        "http://www.estruturas.ufpr.br/disciplinas/pos-graduacao/introducao-a-computacao-cientifica-com-python/introducao-python/2-2-operacoes-numericas-com-arrays/"
      ]
    },
    {
      "cell_type": "markdown",
      "metadata": {
        "id": "pfNJKL7OuOd8"
      },
      "source": [
        "## Escalar\n",
        "\n",
        "São variáveis que aceitam apenas um valor específico, esse valor pode ser um número inteiro, real, natural ou complexo."
      ]
    },
    {
      "cell_type": "code",
      "metadata": {
        "id": "uxyU5Bs7uPur"
      },
      "source": [
        "#escalar que representa a tempetarura em graus Celsius\n",
        "Temperatura = 33 \n",
        "\n",
        "#escalar que representa a velocidade instantânea em m/s\n",
        "Velocidade = 100 \n",
        "\n",
        "#escalar que representa um valor monetário em R$ de um salário\n",
        "salario = 1500.00 "
      ],
      "execution_count": 10,
      "outputs": []
    },
    {
      "cell_type": "markdown",
      "metadata": {
        "id": "dhJchd6vug09"
      },
      "source": [
        "## Vetor\n",
        "\n",
        "Podem ser vistos como uma coleção de escalares, utilizados para representar dimensões mais elevadas."
      ]
    },
    {
      "cell_type": "markdown",
      "metadata": {
        "id": "dpcCiXJnpXy-"
      },
      "source": [
        "Declaração"
      ]
    },
    {
      "cell_type": "code",
      "metadata": {
        "id": "lMB3adY6umeD",
        "outputId": "2168b626-c7c0-4dd2-84af-f392691266a0",
        "colab": {
          "base_uri": "https://localhost:8080/",
          "height": 34
        }
      },
      "source": [
        "# Biblioteca de álgebra linear(matrizes)\n",
        "import numpy as np\n",
        "\n",
        "# Vetor com duas dimensões\n",
        "VT = np.array([27, 37]) \n",
        "\n",
        "# Vetor com três dimensões\n",
        "VV = np.array([20, 15, 100]) \n",
        "\n",
        "# Vetor com quatro dimensões\n",
        "VM = np.array([100, 205, 777, 111]) \n",
        "\n",
        "type(VM)"
      ],
      "execution_count": 11,
      "outputs": [
        {
          "output_type": "execute_result",
          "data": {
            "text/plain": [
              "numpy.ndarray"
            ]
          },
          "metadata": {
            "tags": []
          },
          "execution_count": 11
        }
      ]
    },
    {
      "cell_type": "markdown",
      "metadata": {
        "id": "xs4QJSlBpcX4"
      },
      "source": [
        "Declaração e conversão com numpy"
      ]
    },
    {
      "cell_type": "code",
      "metadata": {
        "id": "N3op2mPcge4K",
        "outputId": "d56ad2ce-8596-4dfc-d94c-a4d9a81af150",
        "colab": {
          "base_uri": "https://localhost:8080/",
          "height": 85
        }
      },
      "source": [
        "# Biblioteca de álgebra linear(matrizes)\n",
        "import numpy as np\n",
        "\n",
        "A = [[1,2],[3,4]]\n",
        "B = [[1],[2]]\n",
        "\n",
        "print (np.matrix(A))\n",
        "print\n",
        "print (np.matrix(B))"
      ],
      "execution_count": 12,
      "outputs": [
        {
          "output_type": "stream",
          "text": [
            "[[1 2]\n",
            " [3 4]]\n",
            "[[1]\n",
            " [2]]\n"
          ],
          "name": "stdout"
        }
      ]
    },
    {
      "cell_type": "markdown",
      "metadata": {
        "id": "UVIgdbh9kyXj"
      },
      "source": [
        "Somando elementos de 1 vetor."
      ]
    },
    {
      "cell_type": "code",
      "metadata": {
        "id": "d1N6C2q_jZW0",
        "outputId": "b2e9138e-e7aa-4c89-9abd-455dab99ebb7",
        "colab": {
          "base_uri": "https://localhost:8080/",
          "height": 51
        }
      },
      "source": [
        "# Biblioteca de álgebra linear(matrizes)\n",
        "import numpy as np\n",
        "\n",
        "A = np.array([0, 1])\n",
        "\n",
        "B = np.sum(A)\n",
        "\n",
        "print(A)\n",
        "print(B)"
      ],
      "execution_count": 13,
      "outputs": [
        {
          "output_type": "stream",
          "text": [
            "[0 1]\n",
            "1\n"
          ],
          "name": "stdout"
        }
      ]
    },
    {
      "cell_type": "markdown",
      "metadata": {
        "id": "NzqQKxyH0nHe"
      },
      "source": [
        "## Operações com vetores e escalares"
      ]
    },
    {
      "cell_type": "markdown",
      "metadata": {
        "id": "9N4VK2Kp0x3X"
      },
      "source": [
        "Adição de escalar em um vetor"
      ]
    },
    {
      "cell_type": "code",
      "metadata": {
        "id": "knpT4sty04Mp",
        "outputId": "cc541eaf-d635-458c-b5c0-1f5c0383644a",
        "colab": {
          "base_uri": "https://localhost:8080/",
          "height": 51
        }
      },
      "source": [
        "# Biblioteca de álgebra linear(matrizes)\n",
        "import numpy as np\n",
        "\n",
        "A = np.array([10, 20, 30])\n",
        "\n",
        "print(A)\n",
        "\n",
        "# Adiciona o escalar 2 a cada elemento do vetor A gerando o vetor B\n",
        "B = A + 2\n",
        "\n",
        "print(np.matrix(B))"
      ],
      "execution_count": 14,
      "outputs": [
        {
          "output_type": "stream",
          "text": [
            "[10 20 30]\n",
            "[[12 22 32]]\n"
          ],
          "name": "stdout"
        }
      ]
    },
    {
      "cell_type": "markdown",
      "metadata": {
        "id": "qKEoaVjrkiWK"
      },
      "source": [
        "Multiplicação de vetores por escalar."
      ]
    },
    {
      "cell_type": "code",
      "metadata": {
        "id": "xJt7sbWRcc68",
        "outputId": "c7e83d56-1ec5-43aa-c567-08abc6b6080d",
        "colab": {
          "base_uri": "https://localhost:8080/",
          "height": 51
        }
      },
      "source": [
        "# Biblioteca de álgebra linear(matrizes)\n",
        "import numpy as np\n",
        "\n",
        "A = np.array([10, 20, 30])\n",
        "\n",
        "print(A)\n",
        "\n",
        "# Multiplica o escalar 3 a cada elemento do vetor A gerando o vetor B\n",
        "B = A *  3\n",
        "\n",
        "print(np.matrix(B))"
      ],
      "execution_count": 15,
      "outputs": [
        {
          "output_type": "stream",
          "text": [
            "[10 20 30]\n",
            "[[30 60 90]]\n"
          ],
          "name": "stdout"
        }
      ]
    },
    {
      "cell_type": "markdown",
      "metadata": {
        "id": "3jwDCsOu1PrA"
      },
      "source": [
        "## Operações entre vetores"
      ]
    },
    {
      "cell_type": "markdown",
      "metadata": {
        "id": "Sbn6A2J81zVX"
      },
      "source": [
        "Somando dois vetores"
      ]
    },
    {
      "cell_type": "code",
      "metadata": {
        "id": "WNb5xFpM1zq5",
        "outputId": "0de2de4d-d38e-4f8c-b659-6ec0053d801a",
        "colab": {
          "base_uri": "https://localhost:8080/",
          "height": 34
        }
      },
      "source": [
        "# Biblioteca de álgebra linear(matrizes)\n",
        "import numpy as np\n",
        "\n",
        "A = np.array([1, 2, 3])\n",
        "B = np.array([3, 4, 5])\n",
        "\n",
        "# Soma o vetor A com o vetor B\n",
        "C = A + B\n",
        "\n",
        "print(C)"
      ],
      "execution_count": 16,
      "outputs": [
        {
          "output_type": "stream",
          "text": [
            "[4 6 8]\n"
          ],
          "name": "stdout"
        }
      ]
    },
    {
      "cell_type": "markdown",
      "metadata": {
        "id": "0-8lH_U-156Q"
      },
      "source": [
        "Produto de dois vetores"
      ]
    },
    {
      "cell_type": "code",
      "metadata": {
        "id": "H4caH9Gd1Siw",
        "outputId": "1f3cbe66-74ea-42f1-ae20-867dbbe990b7",
        "colab": {
          "base_uri": "https://localhost:8080/",
          "height": 34
        }
      },
      "source": [
        "# Biblioteca de álgebra linear(matrizes)\n",
        "import numpy as np\n",
        "\n",
        "A = np.array([1, 2, 3])\n",
        "B = np.array([3, 4, 5])\n",
        "\n",
        "# Multiplica o vetor A pelo vetor B\n",
        "C= A * B\n",
        "\n",
        "print(C)"
      ],
      "execution_count": 17,
      "outputs": [
        {
          "output_type": "stream",
          "text": [
            "[ 3  8 15]\n"
          ],
          "name": "stdout"
        }
      ]
    },
    {
      "cell_type": "markdown",
      "metadata": {
        "id": "Isaq1YaSlMYq"
      },
      "source": [
        "Somando dois vetores."
      ]
    },
    {
      "cell_type": "code",
      "metadata": {
        "id": "fR6ZxVfUjfzg",
        "outputId": "be95e430-1b26-4ad4-de8e-13968fedf860",
        "colab": {
          "base_uri": "https://localhost:8080/",
          "height": 68
        }
      },
      "source": [
        "# Biblioteca de álgebra linear(matrizes)\n",
        "import numpy as np\n",
        "\n",
        "A = np.array([0,1])\n",
        "B = np.array([2,3]) \n",
        "\n",
        "C = np.sum(A + B)\n",
        "\n",
        "print(A)\n",
        "print(B)\n",
        "print(C)"
      ],
      "execution_count": 18,
      "outputs": [
        {
          "output_type": "stream",
          "text": [
            "[0 1]\n",
            "[2 3]\n",
            "6\n"
          ],
          "name": "stdout"
        }
      ]
    },
    {
      "cell_type": "markdown",
      "metadata": {
        "id": "k67s1bJiQSpT"
      },
      "source": [
        "## Valores únicos do vetor"
      ]
    },
    {
      "cell_type": "code",
      "metadata": {
        "id": "YydTfpPbQVyI",
        "outputId": "41917ef1-bbc1-49ce-befc-6bfef6615b0e",
        "colab": {
          "base_uri": "https://localhost:8080/",
          "height": 51
        }
      },
      "source": [
        "# Biblioteca de álgebra linear(matrizes)\n",
        "import numpy as np\n",
        "\n",
        "A = np.array([0, 1, 1, 2, 3, 3, 3])\n",
        "\n",
        "# Recupera uma lista com os valores únicos do vetor\n",
        "C = np.unique(A)\n",
        "\n",
        "print(A)\n",
        "print(C)"
      ],
      "execution_count": 19,
      "outputs": [
        {
          "output_type": "stream",
          "text": [
            "[0 1 1 2 3 3 3]\n",
            "[0 1 2 3]\n"
          ],
          "name": "stdout"
        }
      ]
    },
    {
      "cell_type": "markdown",
      "metadata": {
        "id": "uA2wjET9vHQF"
      },
      "source": [
        "## Matriz\n",
        "\n",
        "Permitem representar uma coleção de vetores. Os elementos das matrizes podem ser números reais, complexos, expressões algébricas ou funções. Chamamos de diagonal principal os elementos onde i=m.\n",
        "\n",
        "$$\n",
        "A = \\begin{bmatrix}\n",
        "a_{11} & a_{12} & a_{13} & \\cdots & a_{1n} \\\\\n",
        "a_{21} & a_{22} & a_{23} & \\cdots & a_{2n} \\\\\n",
        "a_{31} & a_{32} & a_{33} & \\cdots & a_{3n} \\\\\n",
        "\\vdots & \\vdots & \\vdots & \\ddots & \\vdots \\\\\n",
        "a_{m1} & a_{m2} & a_{m3} & \\cdots & a_{mn}\n",
        "\\end{bmatrix}\n",
        "$$\n"
      ]
    },
    {
      "cell_type": "markdown",
      "metadata": {
        "id": "xXRSc5zW0YHv"
      },
      "source": [
        "### Declaração de Matriz"
      ]
    },
    {
      "cell_type": "markdown",
      "metadata": {
        "id": "wimuQIz5v6SX"
      },
      "source": [
        "Declarando uma matriz 1\n"
      ]
    },
    {
      "cell_type": "code",
      "metadata": {
        "id": "WieIvtENv82M",
        "outputId": "68aa93c0-f619-4d38-ff08-96536ed88081",
        "colab": {
          "base_uri": "https://localhost:8080/",
          "height": 51
        }
      },
      "source": [
        "# Biblioteca de álgebra linear(matrizes)\n",
        "import numpy as np\n",
        "\n",
        "A = np.array([[0,1],[2,3]])\n",
        "\n",
        "print(A)"
      ],
      "execution_count": 20,
      "outputs": [
        {
          "output_type": "stream",
          "text": [
            "[[0 1]\n",
            " [2 3]]\n"
          ],
          "name": "stdout"
        }
      ]
    },
    {
      "cell_type": "markdown",
      "metadata": {
        "id": "3l9Y9miXwF_R"
      },
      "source": [
        "Declarando uma matriz 2\n",
        "\n",
        "Outra forma de representar uma matriz seria através do método np.matrix().\n"
      ]
    },
    {
      "cell_type": "code",
      "metadata": {
        "id": "cwC8kyPVwF_T",
        "outputId": "64715a70-1290-426e-9099-21a2cdae99da",
        "colab": {
          "base_uri": "https://localhost:8080/",
          "height": 51
        }
      },
      "source": [
        "# Biblioteca de álgebra linear(matrizes)\n",
        "import numpy as np\n",
        "\n",
        "A = np.matrix([[0,1],[2,3]])\n",
        "\n",
        "print(A)"
      ],
      "execution_count": 21,
      "outputs": [
        {
          "output_type": "stream",
          "text": [
            "[[0 1]\n",
            " [2 3]]\n"
          ],
          "name": "stdout"
        }
      ]
    },
    {
      "cell_type": "markdown",
      "metadata": {
        "id": "y7q3C_7UwSdT"
      },
      "source": [
        "### Tipo da matriz"
      ]
    },
    {
      "cell_type": "code",
      "metadata": {
        "id": "bVfOpPt-wTp1",
        "outputId": "4337fe57-600c-4741-9d83-78baa9647399",
        "colab": {
          "base_uri": "https://localhost:8080/",
          "height": 34
        }
      },
      "source": [
        "# Biblioteca de álgebra linear(matrizes)\n",
        "import numpy as np\n",
        "\n",
        "A = np.matrix([[0,1],[2,3]])\n",
        "\n",
        "print(type(A))"
      ],
      "execution_count": 22,
      "outputs": [
        {
          "output_type": "stream",
          "text": [
            "<class 'numpy.matrix'>\n"
          ],
          "name": "stdout"
        }
      ]
    },
    {
      "cell_type": "markdown",
      "metadata": {
        "id": "nc_RkadvZMvv"
      },
      "source": [
        "### Formato da matriz"
      ]
    },
    {
      "cell_type": "code",
      "metadata": {
        "id": "g-YTymG9ZMvx",
        "outputId": "64eb0080-b75f-4ef6-d54a-223abb295e11",
        "colab": {
          "base_uri": "https://localhost:8080/",
          "height": 34
        }
      },
      "source": [
        "# Biblioteca de álgebra linear(matrizes)\n",
        "import numpy as np\n",
        "\n",
        "A = np.matrix([[0,1],[2,3]])\n",
        "\n",
        "print(np.shape(A))"
      ],
      "execution_count": 23,
      "outputs": [
        {
          "output_type": "stream",
          "text": [
            "(2, 2)\n"
          ],
          "name": "stdout"
        }
      ]
    },
    {
      "cell_type": "markdown",
      "metadata": {
        "id": "7b-6lnwOBviV"
      },
      "source": [
        "### Manipulando a matriz"
      ]
    },
    {
      "cell_type": "markdown",
      "metadata": {
        "id": "8r2phIo4B5SV"
      },
      "source": [
        "acessando um elemento da matriz"
      ]
    },
    {
      "cell_type": "code",
      "metadata": {
        "id": "J3E54bgBBxit",
        "outputId": "8c2d7492-fce5-4dcf-9a53-05158823367b",
        "colab": {
          "base_uri": "https://localhost:8080/",
          "height": 34
        }
      },
      "source": [
        "# Biblioteca de álgebra linear(matrizes)\n",
        "import numpy as np\n",
        "\n",
        "A = np.matrix([[0,1],[2,3]])\n",
        "\n",
        "a11 = A[0,0]\n",
        "\n",
        "print(a11)"
      ],
      "execution_count": 24,
      "outputs": [
        {
          "output_type": "stream",
          "text": [
            "0\n"
          ],
          "name": "stdout"
        }
      ]
    },
    {
      "cell_type": "markdown",
      "metadata": {
        "id": "RcxC8B-YB_9F"
      },
      "source": [
        "Retornando a primeira linha\n"
      ]
    },
    {
      "cell_type": "code",
      "metadata": {
        "id": "OKSygt0sCAdF",
        "outputId": "3e7b38cf-448b-4e8e-9018-f907f9adc585",
        "colab": {
          "base_uri": "https://localhost:8080/",
          "height": 34
        }
      },
      "source": [
        "# Biblioteca de álgebra linear(matrizes)\n",
        "import numpy as np\n",
        "\n",
        "A = np.matrix([[0,1],[2,3]])\n",
        "\n",
        "A1n = A[0,:]\n",
        "\n",
        "print(A1n)"
      ],
      "execution_count": 25,
      "outputs": [
        {
          "output_type": "stream",
          "text": [
            "[[0 1]]\n"
          ],
          "name": "stdout"
        }
      ]
    },
    {
      "cell_type": "markdown",
      "metadata": {
        "id": "frdpiaJ-CC78"
      },
      "source": [
        " Retornando a segunda coluna"
      ]
    },
    {
      "cell_type": "code",
      "metadata": {
        "id": "-TWq4uylCDXZ",
        "outputId": "342542cb-1977-4b53-8590-97c63b1c0a7f",
        "colab": {
          "base_uri": "https://localhost:8080/",
          "height": 51
        }
      },
      "source": [
        "# Biblioteca de álgebra linear(matrizes)\n",
        "import numpy as np\n",
        "\n",
        "A = np.matrix([[0,1],[2,3]])\n",
        "\n",
        "Am2 = A[:,1]\n",
        "\n",
        "print(Am2)"
      ],
      "execution_count": 26,
      "outputs": [
        {
          "output_type": "stream",
          "text": [
            "[[1]\n",
            " [3]]\n"
          ],
          "name": "stdout"
        }
      ]
    },
    {
      "cell_type": "markdown",
      "metadata": {
        "id": "3OS1hkyUwjHk"
      },
      "source": [
        "### Matriz quadrada\n",
        "\n",
        "Uma matriz é considerada quadrada quando o número de linhas for igual ao número de columas, ou seja, m=n."
      ]
    },
    {
      "cell_type": "code",
      "metadata": {
        "id": "i2DGQolXwkhN",
        "outputId": "e8ee7e7d-6afc-4864-bc5a-01a364536262",
        "colab": {
          "base_uri": "https://localhost:8080/",
          "height": 51
        }
      },
      "source": [
        "# Biblioteca de álgebra linear(matrizes)\n",
        "import numpy as np\n",
        "\n",
        "A = np.array([[0, 1], [2, 3]]) \n",
        "\n",
        "print(A)"
      ],
      "execution_count": 27,
      "outputs": [
        {
          "output_type": "stream",
          "text": [
            "[[0 1]\n",
            " [2 3]]\n"
          ],
          "name": "stdout"
        }
      ]
    },
    {
      "cell_type": "markdown",
      "metadata": {
        "id": "rLfYk8bKwuUT"
      },
      "source": [
        "### Matriz diagonal\n",
        "\n",
        "Uma matriz quadrada é considerada diagonal quando todos os elementos fora da diagonal principal forem nulos, ou seja, $ij = 0$ para todo $i != j$.\n",
        "Podemos representar uma matriz diagonal em python utilizando o método diag()."
      ]
    },
    {
      "cell_type": "code",
      "metadata": {
        "id": "x9WA_T8Qwy8_",
        "outputId": "4512236c-ffef-4206-8eb0-90d105caf3e9",
        "colab": {
          "base_uri": "https://localhost:8080/",
          "height": 102
        }
      },
      "source": [
        "# Biblioteca de álgebra linear(matrizes)\n",
        "import numpy as np\n",
        "\n",
        "A = np.diag([10, 20, 30, 40, 50])\n",
        "\n",
        "print(A)"
      ],
      "execution_count": 28,
      "outputs": [
        {
          "output_type": "stream",
          "text": [
            "[[10  0  0  0  0]\n",
            " [ 0 20  0  0  0]\n",
            " [ 0  0 30  0  0]\n",
            " [ 0  0  0 40  0]\n",
            " [ 0  0  0  0 50]]\n"
          ],
          "name": "stdout"
        }
      ]
    },
    {
      "cell_type": "markdown",
      "metadata": {
        "id": "ch-E2vgMxAV1"
      },
      "source": [
        "### Matriz triangular(superior e inferior)\n",
        "\n",
        "Uma matriz é considerada **triangular superior** se $a_{mn} = 0$ quando $m > n$, ou seja, quandos os elementos abaixo da diagonal principal forem iguais a zero.\n",
        "\n",
        "$$\n",
        "A = \\begin{bmatrix}\n",
        "a_{11} & a_{12} & a_{13} & a_{14}  & \\cdots & a_{1n} \\\\\n",
        "0 & a_{22} & a_{23} & a_{24} & \\cdots & a_{2n} \\\\\n",
        "0 & 0 & a_{33} & a_{34} & \\cdots & a_{3n} \\\\\n",
        "0 & 0 & 0 & a_{44} &\\cdots & a_{4n} \\\\\n",
        "\\vdots & \\vdots &a \\vdots & \\vdots & \\ddots & \\vdots \\\\\n",
        "0 & 0 & 0 & 0 & \\cdots & a_{nn}\n",
        "\\end{bmatrix}\n",
        "$$\n",
        "\n",
        "\n",
        "ma matriz é considerada **triangular inferior** se $a_{mn} = 0$ quando $m < n$, ou seja, quandos os elementos acima da diagonal principal forem iguais a zero.\n",
        "\n",
        "$$\n",
        "A = \\begin{bmatrix}\n",
        "a_{11} & 0 & 0 & 0  & \\cdots & 0 \\\\\n",
        "a_{21} & a_{22} & 0 & 0 & \\cdots & 0 \\\\\n",
        "a_{31} & a_{32} & a_{33} & 0 & \\cdots & 0 \\\\\n",
        "a_{41} & a_{42} & a_{43} & a_{44} &\\cdots & 0 \\\\\n",
        "\\vdots & \\vdots & \\vdots & \\vdots & \\ddots & \\vdots \\\\\n",
        "a_{n1} & a_{n2} & a_{n3} & a_{n4} & \\cdots & a_{nn}\n",
        "\\end{bmatrix}\n",
        "$$"
      ]
    },
    {
      "cell_type": "markdown",
      "metadata": {
        "id": "IW-OhhAGxhn-"
      },
      "source": [
        "### Matriz linha\n",
        "\n",
        "Podemos representar uma matriz linha por:"
      ]
    },
    {
      "cell_type": "code",
      "metadata": {
        "id": "5VSHbFr8xkj2",
        "outputId": "cd0aadc1-b3b5-4ac2-dc76-7ceb11dbfd4a",
        "colab": {
          "base_uri": "https://localhost:8080/",
          "height": 34
        }
      },
      "source": [
        "# Biblioteca de álgebra linear(matrizes)\n",
        "import numpy as np\n",
        "\n",
        "#Utilizando um conjunto a mais de colchetes ou parênteses\n",
        "A = np.array([[10, 20, 30, -40]]) \n",
        "\n",
        "print(A)"
      ],
      "execution_count": 29,
      "outputs": [
        {
          "output_type": "stream",
          "text": [
            "[[ 10  20  30 -40]]\n"
          ],
          "name": "stdout"
        }
      ]
    },
    {
      "cell_type": "markdown",
      "metadata": {
        "id": "WzkCZ6T9xvWW"
      },
      "source": [
        "### Matriz coluna\n",
        "\n",
        "Podemos representar uma matriz coluna por:"
      ]
    },
    {
      "cell_type": "code",
      "metadata": {
        "id": "qPuRPCaEx_49",
        "outputId": "41e24182-a7a8-4d0e-9c43-769dcec49987",
        "colab": {
          "base_uri": "https://localhost:8080/",
          "height": 85
        }
      },
      "source": [
        "# Biblioteca de álgebra linear(matrizes)\n",
        "import numpy as np\n",
        "\n",
        "A = np.array([[10],[20],[30],[40]])\n",
        "\n",
        "print(A)"
      ],
      "execution_count": 30,
      "outputs": [
        {
          "output_type": "stream",
          "text": [
            "[[10]\n",
            " [20]\n",
            " [30]\n",
            " [40]]\n"
          ],
          "name": "stdout"
        }
      ]
    },
    {
      "cell_type": "markdown",
      "metadata": {
        "id": "3DtjWx04yKqg"
      },
      "source": [
        "Pode ser obtido a matriz coluna A obtendo a transposta da matriz linha B."
      ]
    },
    {
      "cell_type": "code",
      "metadata": {
        "id": "5PyQYeOSyQnH",
        "outputId": "26d85dd3-6bd8-439c-b47e-688fd0aca309",
        "colab": {
          "base_uri": "https://localhost:8080/",
          "height": 102
        }
      },
      "source": [
        "# Biblioteca de álgebra linear(matrizes)\n",
        "import numpy as np\n",
        "\n",
        "# Utilizando um conjunto a mais de colchetes ou parênteses\n",
        "B = np.array([[10, 20, 30, -40]]) \n",
        "\n",
        "print(B)\n",
        "\n",
        "A = np.transpose(B)\n",
        "\n",
        "print(A)"
      ],
      "execution_count": 31,
      "outputs": [
        {
          "output_type": "stream",
          "text": [
            "[[ 10  20  30 -40]]\n",
            "[[ 10]\n",
            " [ 20]\n",
            " [ 30]\n",
            " [-40]]\n"
          ],
          "name": "stdout"
        }
      ]
    },
    {
      "cell_type": "markdown",
      "metadata": {
        "id": "E-EWwlFFyZY-"
      },
      "source": [
        "### Matriz nula\n",
        "\n",
        "É considerada nula se e somente se todos os seus elementos forem iguais a zero. Podemos definir uma matriz nula em python utilizando a função np.zeros passando a dimensão que desejamos."
      ]
    },
    {
      "cell_type": "code",
      "metadata": {
        "id": "Is5sEJQHyc33",
        "outputId": "80d060c8-6acd-4c32-8fa5-1b500e50e0c8",
        "colab": {
          "base_uri": "https://localhost:8080/",
          "height": 51
        }
      },
      "source": [
        "# Biblioteca de álgebra linear(matrizes)\n",
        "import numpy as np\n",
        "\n",
        "A = np.zeros([2,2])\n",
        "\n",
        "print(A)"
      ],
      "execution_count": 32,
      "outputs": [
        {
          "output_type": "stream",
          "text": [
            "[[0. 0.]\n",
            " [0. 0.]]\n"
          ],
          "name": "stdout"
        }
      ]
    },
    {
      "cell_type": "markdown",
      "metadata": {
        "id": "UElDhbzoyjYf"
      },
      "source": [
        "### Matriz identidade\n",
        "\n",
        "Uma matriz identidade é aquela na qual a diagonal principal possui todos os valores iguais a 1 e os demais valores iguais a zero. A matriz identidade é muito utilizada na resolução de sistemas de equações lineares. No python podemos representar uma matriz identidade através da função np.identity() passando como argumento a dimensão desejada."
      ]
    },
    {
      "cell_type": "code",
      "metadata": {
        "id": "Q1N-XYGqylOM",
        "outputId": "ed023d1e-02e2-4fbf-faad-4d9870cf6535",
        "colab": {
          "base_uri": "https://localhost:8080/",
          "height": 102
        }
      },
      "source": [
        "# Biblioteca de álgebra linear(matrizes)\n",
        "import numpy as np\n",
        "\n",
        "ID = np.identity(5)\n",
        "\n",
        "print(ID)"
      ],
      "execution_count": 33,
      "outputs": [
        {
          "output_type": "stream",
          "text": [
            "[[1. 0. 0. 0. 0.]\n",
            " [0. 1. 0. 0. 0.]\n",
            " [0. 0. 1. 0. 0.]\n",
            " [0. 0. 0. 1. 0.]\n",
            " [0. 0. 0. 0. 1.]]\n"
          ],
          "name": "stdout"
        }
      ]
    },
    {
      "cell_type": "markdown",
      "metadata": {
        "id": "xbLBJcBHytC_"
      },
      "source": [
        "### Matriz transposta\n",
        "\n",
        "A matriz transposta é uma matriz obtida através da troca ordenada de linhas por colunas de uma dada matriz, essa operação pode ser realizada utilizando a função np.transpose. A transposição não altera a diagonal principal de uma matriz quadrada.\n",
        "\n",
        "Propriedades:\n",
        "\n",
        "1. $ (A^T)^T = A $\n",
        "2. $ (A + B)^T = A^T + B^T $\n",
        "3. $ (cA)^T = cA^T $\n",
        "4. $ (AB)^T = A^T B^T  $"
      ]
    },
    {
      "cell_type": "code",
      "metadata": {
        "id": "5jmo7lM1yuqE",
        "outputId": "b637eae0-c28b-4f06-f57a-5b41c6d57cbc",
        "colab": {
          "base_uri": "https://localhost:8080/",
          "height": 102
        }
      },
      "source": [
        "# Biblioteca de álgebra linear(matrizes)\n",
        "import numpy as np\n",
        "\n",
        "A = np.array([[10,20,30],[40,50,60]])\n",
        "\n",
        "# Mostra a matriz\n",
        "print(A)\n",
        "\n",
        "# Gera a transposta de A\n",
        "At = np.transpose(A)\n",
        "\n",
        "# Mostra transposta\n",
        "print(At)"
      ],
      "execution_count": 34,
      "outputs": [
        {
          "output_type": "stream",
          "text": [
            "[[10 20 30]\n",
            " [40 50 60]]\n",
            "[[10 40]\n",
            " [20 50]\n",
            " [30 60]]\n"
          ],
          "name": "stdout"
        }
      ]
    },
    {
      "cell_type": "markdown",
      "metadata": {
        "id": "53_8dRe3zGMo"
      },
      "source": [
        "A matriz transposta também pode ser obtidade através do método .T."
      ]
    },
    {
      "cell_type": "code",
      "metadata": {
        "id": "U7AU0MEWzHoF",
        "outputId": "06ae83f9-69b4-4611-d3a0-3aebfb500a7e",
        "colab": {
          "base_uri": "https://localhost:8080/",
          "height": 102
        }
      },
      "source": [
        "# Biblioteca de álgebra linear(matrizes)\n",
        "import numpy as np\n",
        "\n",
        "A = np.array([[10,20,30],[40,50,60]])\n",
        "\n",
        "# Mostra a matriz\n",
        "print(A)\n",
        "\n",
        "# Gera a transposta de A\n",
        "At = A.T\n",
        "\n",
        "# Mostra transposta\n",
        "print(At)"
      ],
      "execution_count": 35,
      "outputs": [
        {
          "output_type": "stream",
          "text": [
            "[[10 20 30]\n",
            " [40 50 60]]\n",
            "[[10 40]\n",
            " [20 50]\n",
            " [30 60]]\n"
          ],
          "name": "stdout"
        }
      ]
    },
    {
      "cell_type": "markdown",
      "metadata": {
        "id": "vHskib3KzmAf"
      },
      "source": [
        "Vamos verificar a validação de cada uma das propriedades da transposta:"
      ]
    },
    {
      "cell_type": "code",
      "metadata": {
        "id": "NpRPO-FwzpIG",
        "outputId": "0a79a824-4653-46b1-df2a-90115808e766",
        "colab": {
          "base_uri": "https://localhost:8080/",
          "height": 187
        }
      },
      "source": [
        "# Biblioteca de álgebra linear(matrizes)\n",
        "import numpy as np\n",
        "\n",
        "A = np.array(([1,2],[3,4]))\n",
        "B = np.array(([5,6],[7,8]))\n",
        "\n",
        "print(A == B)\n",
        "\n",
        "# Propriedade 1\n",
        "print((A.T).T == A)\n",
        "\n",
        "# Propriedade 2\n",
        "print((A+B).T == A.T + B.T)\n",
        "\n",
        "# Propriedade 3\n",
        "print((7*A).T == 7*A.T)\n",
        "\n",
        "# Propriedade 4\n",
        "print((A*B).T == B.T*A.T)"
      ],
      "execution_count": 36,
      "outputs": [
        {
          "output_type": "stream",
          "text": [
            "[[False False]\n",
            " [False False]]\n",
            "[[ True  True]\n",
            " [ True  True]]\n",
            "[[ True  True]\n",
            " [ True  True]]\n",
            "[[ True  True]\n",
            " [ True  True]]\n",
            "[[ True  True]\n",
            " [ True  True]]\n"
          ],
          "name": "stdout"
        }
      ]
    },
    {
      "cell_type": "markdown",
      "metadata": {
        "id": "M5BiO3gox8wZ"
      },
      "source": [
        "### Operações com escalar"
      ]
    },
    {
      "cell_type": "markdown",
      "metadata": {
        "id": "xdQjTyAv2x3H"
      },
      "source": [
        "Soma de elemento da matrizes por um escalar."
      ]
    },
    {
      "cell_type": "code",
      "metadata": {
        "id": "PBUcKLUz2x3I",
        "outputId": "e829755d-3de2-401d-9cdd-6b13eab1e851",
        "colab": {
          "base_uri": "https://localhost:8080/",
          "height": 85
        }
      },
      "source": [
        "# Biblioteca de álgebra linear(matrizes)\n",
        "import numpy as np\n",
        "\n",
        "A = np.array([[0,1],[2,3]])\n",
        "\n",
        "print(A)\n",
        "\n",
        "B = A + 2\n",
        "\n",
        "print(B)"
      ],
      "execution_count": 37,
      "outputs": [
        {
          "output_type": "stream",
          "text": [
            "[[0 1]\n",
            " [2 3]]\n",
            "[[2 3]\n",
            " [4 5]]\n"
          ],
          "name": "stdout"
        }
      ]
    },
    {
      "cell_type": "markdown",
      "metadata": {
        "id": "kqsUQYwlkoHY"
      },
      "source": [
        "Multiplicação de elemento da matrizes por um escalar."
      ]
    },
    {
      "cell_type": "code",
      "metadata": {
        "id": "7bgj6jhakOKL",
        "outputId": "299627e7-7ac9-440d-b675-b58d80b8c35f",
        "colab": {
          "base_uri": "https://localhost:8080/",
          "height": 85
        }
      },
      "source": [
        "# Biblioteca de álgebra linear(matrizes)\n",
        "import numpy as np\n",
        "\n",
        "A = np.array([[0,1],[2,3]])\n",
        "\n",
        "print(A)\n",
        "\n",
        "B = A * 3\n",
        "\n",
        "print(B)"
      ],
      "execution_count": 38,
      "outputs": [
        {
          "output_type": "stream",
          "text": [
            "[[0 1]\n",
            " [2 3]]\n",
            "[[0 3]\n",
            " [6 9]]\n"
          ],
          "name": "stdout"
        }
      ]
    },
    {
      "cell_type": "markdown",
      "metadata": {
        "id": "4TOzfEZU2tO5"
      },
      "source": [
        "### Operações entre matrizes e vetores\n",
        "\n"
      ]
    },
    {
      "cell_type": "markdown",
      "metadata": {
        "id": "fNWR58Up3LOY"
      },
      "source": [
        "Multiplicação de matriz e vetor\n",
        "\n",
        "Na multiplicação de um vetor por uma matriz, precisamos verificar se as dimensões são compatíveis, ou seja, se o número de colunas são iguais."
      ]
    },
    {
      "cell_type": "code",
      "metadata": {
        "id": "_r-pVHpv3MCa",
        "outputId": "c281df37-8632-4fe5-997e-a9e0ff8e63dd",
        "colab": {
          "base_uri": "https://localhost:8080/",
          "height": 102
        }
      },
      "source": [
        "# Biblioteca de álgebra linear(matrizes)\n",
        "import numpy as np\n",
        "\n",
        "A = np.array([1, 2, 3]) # Vetor\n",
        "\n",
        "B = np.array(([10, 20, 30],[40, 50, 60]))\n",
        "\n",
        "print(A)\n",
        "print(B)\n",
        "\n",
        "# Multiplica o vetor A pela matriz B\n",
        "C = A * B\n",
        "\n",
        "print(C)"
      ],
      "execution_count": 39,
      "outputs": [
        {
          "output_type": "stream",
          "text": [
            "[1 2 3]\n",
            "[[10 20 30]\n",
            " [40 50 60]]\n",
            "[[ 10  40  90]\n",
            " [ 40 100 180]]\n"
          ],
          "name": "stdout"
        }
      ]
    },
    {
      "cell_type": "markdown",
      "metadata": {
        "id": "YmDv4qH93pxR"
      },
      "source": [
        "Somando matriz e vetor"
      ]
    },
    {
      "cell_type": "code",
      "metadata": {
        "id": "bURFMw6a3u1R",
        "outputId": "6895a468-a734-4fe9-ba88-4e549268f9c0",
        "colab": {
          "base_uri": "https://localhost:8080/",
          "height": 102
        }
      },
      "source": [
        "# Biblioteca de álgebra linear(matrizes)\n",
        "import numpy as np\n",
        "\n",
        "A = np.array([1, 2, 3]) # Vetor\n",
        "\n",
        "B = np.array(([10, 20, 30],[40, 50, 60]))\n",
        "\n",
        "print(A)\n",
        "print(B)\n",
        "\n",
        "# Multiplica o vetor A pela matriz B\n",
        "C = B+A\n",
        "\n",
        "print(C)"
      ],
      "execution_count": 40,
      "outputs": [
        {
          "output_type": "stream",
          "text": [
            "[1 2 3]\n",
            "[[10 20 30]\n",
            " [40 50 60]]\n",
            "[[11 22 33]\n",
            " [41 52 63]]\n"
          ],
          "name": "stdout"
        }
      ]
    },
    {
      "cell_type": "markdown",
      "metadata": {
        "id": "QAjRvRvK37an"
      },
      "source": [
        "Subtraindo matriz e vetor"
      ]
    },
    {
      "cell_type": "code",
      "metadata": {
        "id": "ro2TfMFq37ao",
        "outputId": "1671e38a-69a4-4eba-fcb2-3b927d78c62a",
        "colab": {
          "base_uri": "https://localhost:8080/",
          "height": 102
        }
      },
      "source": [
        "# Biblioteca de álgebra linear(matrizes)\n",
        "import numpy as np\n",
        "\n",
        "A = np.array([1, 2, 3]) # Vetor\n",
        "\n",
        "B = np.array(([10, 20, 30],[40, 50, 60]))\n",
        "\n",
        "print(A)\n",
        "print(B)\n",
        "\n",
        "# Multiplica o vetor A pela matriz B\n",
        "C = B-A\n",
        "\n",
        "print(C)"
      ],
      "execution_count": 41,
      "outputs": [
        {
          "output_type": "stream",
          "text": [
            "[1 2 3]\n",
            "[[10 20 30]\n",
            " [40 50 60]]\n",
            "[[ 9 18 27]\n",
            " [39 48 57]]\n"
          ],
          "name": "stdout"
        }
      ]
    },
    {
      "cell_type": "markdown",
      "metadata": {
        "id": "3vbGQS9e4H__"
      },
      "source": [
        "Dividindo matriz e vetor"
      ]
    },
    {
      "cell_type": "code",
      "metadata": {
        "id": "fnpx9Y8S4H__",
        "outputId": "457d3972-dfa4-4cd7-db25-cd7ecbb905e1",
        "colab": {
          "base_uri": "https://localhost:8080/",
          "height": 102
        }
      },
      "source": [
        "# Biblioteca de álgebra linear(matrizes)\n",
        "import numpy as np\n",
        "\n",
        "A = np.array([1, 2, 3]) # Vetor\n",
        "\n",
        "B = np.array(([10, 20, 30],[40, 50, 60]))\n",
        "\n",
        "print(A)\n",
        "print(B)\n",
        "\n",
        "# Multiplica o vetor A pela matriz B\n",
        "C = B/A\n",
        "\n",
        "print(C)"
      ],
      "execution_count": 42,
      "outputs": [
        {
          "output_type": "stream",
          "text": [
            "[1 2 3]\n",
            "[[10 20 30]\n",
            " [40 50 60]]\n",
            "[[10. 10. 10.]\n",
            " [40. 25. 20.]]\n"
          ],
          "name": "stdout"
        }
      ]
    },
    {
      "cell_type": "markdown",
      "metadata": {
        "id": "BMWjgYgO8JLW"
      },
      "source": [
        "### Operações entre matrizes\n",
        "Precisamos conferir se as dimensões são compatíveis para efetuar as operações matemáticas."
      ]
    },
    {
      "cell_type": "markdown",
      "metadata": {
        "id": "4KeWMhv482cX"
      },
      "source": [
        "Somando duas matrizes"
      ]
    },
    {
      "cell_type": "code",
      "metadata": {
        "id": "RXLEajgv8xQ-",
        "outputId": "b5120198-c8c5-4590-b85d-fbec6c1d0253",
        "colab": {
          "base_uri": "https://localhost:8080/",
          "height": 119
        }
      },
      "source": [
        "# Biblioteca de álgebra linear(matrizes)\n",
        "import numpy as np\n",
        "\n",
        "A = np.array([[0, 1], [2, 3]]) \n",
        "B = np.array([[3, 4], [5, 6]]) \n",
        "\n",
        "print(A)\n",
        "print(B)\n",
        "\n",
        "C = A + B\n",
        "\n",
        "print(C)"
      ],
      "execution_count": 43,
      "outputs": [
        {
          "output_type": "stream",
          "text": [
            "[[0 1]\n",
            " [2 3]]\n",
            "[[3 4]\n",
            " [5 6]]\n",
            "[[3 5]\n",
            " [7 9]]\n"
          ],
          "name": "stdout"
        }
      ]
    },
    {
      "cell_type": "markdown",
      "metadata": {
        "id": "8ZpuYglq8-lF"
      },
      "source": [
        "Subtraindo duas matrizes"
      ]
    },
    {
      "cell_type": "code",
      "metadata": {
        "id": "-j6EoDj38-lI",
        "outputId": "64061ca9-bb72-4fb7-fec2-7baa19690a6b",
        "colab": {
          "base_uri": "https://localhost:8080/",
          "height": 119
        }
      },
      "source": [
        "# Biblioteca de álgebra linear(matrizes)\n",
        "import numpy as np\n",
        "\n",
        "A = np.array([[0, 1], [2, 3]]) \n",
        "B = np.array([[3, 4], [5, 6]]) \n",
        "\n",
        "print(A)\n",
        "print(B)\n",
        "\n",
        "C = B - A\n",
        "\n",
        "print(C)"
      ],
      "execution_count": 44,
      "outputs": [
        {
          "output_type": "stream",
          "text": [
            "[[0 1]\n",
            " [2 3]]\n",
            "[[3 4]\n",
            " [5 6]]\n",
            "[[3 3]\n",
            " [3 3]]\n"
          ],
          "name": "stdout"
        }
      ]
    },
    {
      "cell_type": "markdown",
      "metadata": {
        "id": "wvajgpHU9DBP"
      },
      "source": [
        "Multiplicando duas matrizes 1"
      ]
    },
    {
      "cell_type": "code",
      "metadata": {
        "id": "_TmPM9lw9DBQ",
        "outputId": "f5102341-f5f4-451e-aae8-36556df80a9d",
        "colab": {
          "base_uri": "https://localhost:8080/",
          "height": 119
        }
      },
      "source": [
        "# Biblioteca de álgebra linear(matrizes)\n",
        "import numpy as np\n",
        "\n",
        "A = np.array([[0, 1], [2, 3]]) \n",
        "B = np.array([[3, 4], [5, 6]]) \n",
        "\n",
        "print(A)\n",
        "print(B)\n",
        "\n",
        "C = A * B\n",
        "\n",
        "print(C)"
      ],
      "execution_count": 45,
      "outputs": [
        {
          "output_type": "stream",
          "text": [
            "[[0 1]\n",
            " [2 3]]\n",
            "[[3 4]\n",
            " [5 6]]\n",
            "[[ 0  4]\n",
            " [10 18]]\n"
          ],
          "name": "stdout"
        }
      ]
    },
    {
      "cell_type": "markdown",
      "metadata": {
        "id": "FvHZmkk39acP"
      },
      "source": [
        "Multiplicando duas matrizes 2\n",
        " \n",
        "A multiplicação entre os elementos das matrizes pode ser realizada através da função np.multiply()."
      ]
    },
    {
      "cell_type": "code",
      "metadata": {
        "id": "AXkn6m9o9W6i",
        "outputId": "398f0f3d-46ed-4f1b-bf3c-b180958731c7",
        "colab": {
          "base_uri": "https://localhost:8080/",
          "height": 119
        }
      },
      "source": [
        "# Biblioteca de álgebra linear(matrizes)\n",
        "import numpy as np\n",
        "\n",
        "A = np.array([[0, 1], [2, 3]]) \n",
        "B = np.array([[3, 4], [5, 6]]) \n",
        "\n",
        "print(A)\n",
        "print(B)\n",
        "\n",
        "C = np.multiply(A, B)\n",
        "\n",
        "print(C)"
      ],
      "execution_count": 46,
      "outputs": [
        {
          "output_type": "stream",
          "text": [
            "[[0 1]\n",
            " [2 3]]\n",
            "[[3 4]\n",
            " [5 6]]\n",
            "[[ 0  4]\n",
            " [10 18]]\n"
          ],
          "name": "stdout"
        }
      ]
    },
    {
      "cell_type": "markdown",
      "metadata": {
        "id": "6lzotXBo9rxn"
      },
      "source": [
        "\n",
        "Obs: Só é possível realizar o produto entre duas matrizes se o número de colunas da primeira matriz for igual ao número de linhas da segunda. O produto entre matrizes pode ser feito através do método $np.dot(m1,m2)$.\n",
        "\n",
        "$$A_{mn} . B_{np} = (AB)_{mp}$$\n",
        "\n",
        "No produto entre matrizes, cada elemento da linha da primeira coluna deve ser multiplicado e somado pelos correspondentes elementos da coluna da segunda matriz."
      ]
    },
    {
      "cell_type": "code",
      "metadata": {
        "id": "SQqIZE3w9_ec",
        "outputId": "9aef10fb-db13-404a-8f33-0019598892f0",
        "colab": {
          "base_uri": "https://localhost:8080/",
          "height": 119
        }
      },
      "source": [
        "# Biblioteca de álgebra linear(matrizes)\n",
        "import numpy as np\n",
        "\n",
        "A = np.array([[0, 1], [2, 3]]) \n",
        "B = np.array([[3, 4], [5, 6]]) \n",
        "\n",
        "print(A)\n",
        "print(B)\n",
        "\n",
        "C = np.dot(A, B)\n",
        "\n",
        "print(C)"
      ],
      "execution_count": 47,
      "outputs": [
        {
          "output_type": "stream",
          "text": [
            "[[0 1]\n",
            " [2 3]]\n",
            "[[3 4]\n",
            " [5 6]]\n",
            "[[ 5  6]\n",
            " [21 26]]\n"
          ],
          "name": "stdout"
        }
      ]
    },
    {
      "cell_type": "markdown",
      "metadata": {
        "id": "LkIxTFbC-GtM"
      },
      "source": [
        "Não temos comutatividade no produto entre matrizes, a ordem importa!"
      ]
    },
    {
      "cell_type": "code",
      "metadata": {
        "id": "Jp9K0jav-KuQ",
        "outputId": "cbdca825-4a0f-4042-ad15-d87adaeb4e93",
        "colab": {
          "base_uri": "https://localhost:8080/",
          "height": 119
        }
      },
      "source": [
        "# Biblioteca de álgebra linear(matrizes)\n",
        "import numpy as np\n",
        "\n",
        "A = np.array([[0, 1], [2, 3]]) \n",
        "B = np.array([[3, 4], [5, 6]]) \n",
        "\n",
        "print(A)\n",
        "print(B)\n",
        "\n",
        "# Invertido\n",
        "C = np.dot(B, A)\n",
        "\n",
        "print(C)"
      ],
      "execution_count": 48,
      "outputs": [
        {
          "output_type": "stream",
          "text": [
            "[[0 1]\n",
            " [2 3]]\n",
            "[[3 4]\n",
            " [5 6]]\n",
            "[[ 8 15]\n",
            " [12 23]]\n"
          ],
          "name": "stdout"
        }
      ]
    },
    {
      "cell_type": "markdown",
      "metadata": {
        "id": "O1FNKyeG9KqP"
      },
      "source": [
        "Dividindo duas matrizes"
      ]
    },
    {
      "cell_type": "code",
      "metadata": {
        "id": "hHXTPyQV9KqQ",
        "outputId": "92c452ce-5e57-49cf-ef88-729a56dc3888",
        "colab": {
          "base_uri": "https://localhost:8080/",
          "height": 119
        }
      },
      "source": [
        "# Biblioteca de álgebra linear(matrizes)\n",
        "import numpy as np\n",
        "\n",
        "A = np.array([[1, 1], [2, 3]]) \n",
        "B = np.array([[3, 4], [5, 6]]) \n",
        "\n",
        "print(A)\n",
        "print(B)\n",
        "\n",
        "C = B / A\n",
        "\n",
        "print(C)"
      ],
      "execution_count": 49,
      "outputs": [
        {
          "output_type": "stream",
          "text": [
            "[[1 1]\n",
            " [2 3]]\n",
            "[[3 4]\n",
            " [5 6]]\n",
            "[[3.  4. ]\n",
            " [2.5 2. ]]\n"
          ],
          "name": "stdout"
        }
      ]
    },
    {
      "cell_type": "markdown",
      "metadata": {
        "id": "pNBgCTvg8kwB"
      },
      "source": [
        "### Outras operações"
      ]
    },
    {
      "cell_type": "markdown",
      "metadata": {
        "id": "mzqDQ9dElHxB"
      },
      "source": [
        "Somando elementos de 1 matriz."
      ]
    },
    {
      "cell_type": "code",
      "metadata": {
        "id": "ofq1_jZkk6Qo",
        "outputId": "fd21aaa9-73a3-4e38-b72f-2a6bc7d48257",
        "colab": {
          "base_uri": "https://localhost:8080/",
          "height": 68
        }
      },
      "source": [
        "# Biblioteca de álgebra linear(matrizes)\n",
        "import numpy as np\n",
        "\n",
        "A = np.array([[0,1],[2,3]])\n",
        "\n",
        "B = np.sum(A)\n",
        "\n",
        "print(A)\n",
        "print(B)"
      ],
      "execution_count": 50,
      "outputs": [
        {
          "output_type": "stream",
          "text": [
            "[[0 1]\n",
            " [2 3]]\n",
            "6\n"
          ],
          "name": "stdout"
        }
      ]
    },
    {
      "cell_type": "markdown",
      "metadata": {
        "id": "z-QYK9ttld44"
      },
      "source": [
        "Multiplicando e somando 2 matrizes."
      ]
    },
    {
      "cell_type": "code",
      "metadata": {
        "id": "oWVa4tMtleL0",
        "outputId": "87d465d1-6dda-458f-fe50-a5acde480f9d",
        "colab": {
          "base_uri": "https://localhost:8080/",
          "height": 102
        }
      },
      "source": [
        "# Biblioteca de álgebra linear(matrizes)\n",
        "import numpy as np\n",
        "\n",
        "A = np.array([[0,1],[2,3]])\n",
        "B = np.array([[0,1],[2,3]]) \n",
        "\n",
        "C = np.sum(A * B)\n",
        "\n",
        "print(A)\n",
        "print(B)\n",
        "print(C)"
      ],
      "execution_count": 51,
      "outputs": [
        {
          "output_type": "stream",
          "text": [
            "[[0 1]\n",
            " [2 3]]\n",
            "[[0 1]\n",
            " [2 3]]\n",
            "14\n"
          ],
          "name": "stdout"
        }
      ]
    },
    {
      "cell_type": "markdown",
      "metadata": {
        "id": "zrV5-JqdmHvF"
      },
      "source": [
        "Retorna a convolução linear discreta de dois vetores."
      ]
    },
    {
      "cell_type": "code",
      "metadata": {
        "id": "01_qU3CicoS1",
        "outputId": "605d62b6-af6b-443a-a697-3436045d6c12",
        "colab": {
          "base_uri": "https://localhost:8080/",
          "height": 68
        }
      },
      "source": [
        "# Biblioteca de álgebra linear(matrizes)\n",
        "import numpy as np\n",
        "\n",
        "A = np.array([1,2,3])        # 1 + 2x + 3x^2\n",
        "B = np.array([4,5,6])        # 4 + 5x + 6x^2\n",
        "\n",
        "C = np.convolve(A, B)        # (1 + 2x + 3x^2) * (4 + 5x + 6x^2)\n",
        "#array([ 4, 13, 28, 27, 18]) # 4 + 13x + 28x^2 + 27x^3 + 18x^4\n",
        "\n",
        "print(A)\n",
        "print(B)\n",
        "print(C)"
      ],
      "execution_count": 52,
      "outputs": [
        {
          "output_type": "stream",
          "text": [
            "[1 2 3]\n",
            "[4 5 6]\n",
            "[ 4 13 28 27 18]\n"
          ],
          "name": "stdout"
        }
      ]
    },
    {
      "cell_type": "markdown",
      "metadata": {
        "id": "oMqCOleanB62"
      },
      "source": [
        "Concatena duas matrizes."
      ]
    },
    {
      "cell_type": "code",
      "metadata": {
        "id": "s0lEHC14nCMo",
        "outputId": "4593bd27-85fc-4ad8-b626-260812ee2fe7",
        "colab": {
          "base_uri": "https://localhost:8080/",
          "height": 153
        }
      },
      "source": [
        "# Biblioteca de álgebra linear(matrizes)\n",
        "import numpy as np\n",
        "\n",
        "A = np.array([[0, 1], [2, 3]]) \n",
        "B = np.array([[3, 4], [5, 6]]) \n",
        "\n",
        "C = np.concatenate((A,B))\n",
        "\n",
        "print(A)\n",
        "print(B)\n",
        "print(C)"
      ],
      "execution_count": 53,
      "outputs": [
        {
          "output_type": "stream",
          "text": [
            "[[0 1]\n",
            " [2 3]]\n",
            "[[3 4]\n",
            " [5 6]]\n",
            "[[0 1]\n",
            " [2 3]\n",
            " [3 4]\n",
            " [5 6]]\n"
          ],
          "name": "stdout"
        }
      ]
    },
    {
      "cell_type": "markdown",
      "metadata": {
        "id": "cZiTlyUEmnvH"
      },
      "source": [
        "Concatena duas matrizes.\n",
        "\n",
        "Seleciona o eixo.\n",
        "\n",
        "axis = 0 eixo y.\n",
        "\n",
        "axis = 1 eixo x."
      ]
    },
    {
      "cell_type": "code",
      "metadata": {
        "id": "LnNuRNKGeX18",
        "outputId": "8224f20c-e360-4af4-def4-b20f796834ac",
        "colab": {
          "base_uri": "https://localhost:8080/",
          "height": 119
        }
      },
      "source": [
        "# Biblioteca de álgebra linear(matrizes)\n",
        "import numpy as np\n",
        "\n",
        "A = np.array([[0, 1], [2, 3]]) \n",
        "B = np.array([[3, 4], [5, 6]]) \n",
        "\n",
        "C = np.concatenate((A,B),axis=1)\n",
        "\n",
        "print(A)\n",
        "print(B)\n",
        "print(C)"
      ],
      "execution_count": 54,
      "outputs": [
        {
          "output_type": "stream",
          "text": [
            "[[0 1]\n",
            " [2 3]]\n",
            "[[3 4]\n",
            " [5 6]]\n",
            "[[0 1 3 4]\n",
            " [2 3 5 6]]\n"
          ],
          "name": "stdout"
        }
      ]
    },
    {
      "cell_type": "markdown",
      "metadata": {
        "id": "-AZsm3ymojbH"
      },
      "source": [
        "função é usada para calcular uma das oito normas matriciais ou uma das normas vetoriais."
      ]
    },
    {
      "cell_type": "code",
      "metadata": {
        "id": "_ztLOBDfn5t5",
        "outputId": "1f09b68b-1131-46a9-8f8e-a1a2a6673736",
        "colab": {
          "base_uri": "https://localhost:8080/",
          "height": 119
        }
      },
      "source": [
        "# Biblioteca de álgebra linear(matrizes)\n",
        "import numpy as np\n",
        "\n",
        "A = np.array([[0, 1], [2, 3]]) \n",
        "\n",
        "B = np.linalg.norm(A, axis=0)\n",
        "\n",
        "print(A)\n",
        "print(B)\n",
        "\n",
        "B = np.linalg.norm(A, axis=1)\n",
        "\n",
        "print(A)\n",
        "print(B)"
      ],
      "execution_count": 55,
      "outputs": [
        {
          "output_type": "stream",
          "text": [
            "[[0 1]\n",
            " [2 3]]\n",
            "[2.         3.16227766]\n",
            "[[0 1]\n",
            " [2 3]]\n",
            "[1.         3.60555128]\n"
          ],
          "name": "stdout"
        }
      ]
    },
    {
      "cell_type": "code",
      "metadata": {
        "id": "jZDQTOTy8Nam"
      },
      "source": [
        "# Biblioteca de álgebra linear(matrizes)\n",
        "import numpy as np\n",
        "\n",
        "A = np.array([[0, 1], [2, 3]]) \n",
        "B = np.array([[3, 4], [5, 6]]) "
      ],
      "execution_count": 56,
      "outputs": []
    },
    {
      "cell_type": "markdown",
      "metadata": {
        "id": "agLxKNjQ-Yt7"
      },
      "source": [
        "Traço da matriz\n",
        "\n",
        "O traço de uma matriz quadrada é a soma dos elementos da sua diagonal principal, o traço pode ser obtido através da função np.trace()."
      ]
    },
    {
      "cell_type": "code",
      "metadata": {
        "id": "i6NIQTyR-fLc",
        "outputId": "75f6ffea-df08-4c85-d130-9712d5a9d647",
        "colab": {
          "base_uri": "https://localhost:8080/",
          "height": 68
        }
      },
      "source": [
        "# Biblioteca de álgebra linear(matrizes)\n",
        "import numpy as np\n",
        "\n",
        "A = np.array([[1, 2], [3, 4]]) \n",
        "\n",
        "print(A)\n",
        "\n",
        "B = np.trace(A)\n",
        "\n",
        "print(B)"
      ],
      "execution_count": 57,
      "outputs": [
        {
          "output_type": "stream",
          "text": [
            "[[1 2]\n",
            " [3 4]]\n",
            "5\n"
          ],
          "name": "stdout"
        }
      ]
    },
    {
      "cell_type": "markdown",
      "metadata": {
        "id": "mYWzeuAo-pS5"
      },
      "source": [
        "No caso de uma matriz não quadrada, a soma será da parte da diagonal principal referente a uma matriz quadrada, exemplo:\n",
        "\n",
        "$$A_{23} = \n",
        "\\begin{bmatrix}\n",
        "{\\color{Red}1} & 2 & 3 \\\\\n",
        "3 & {\\color{Red}4} & 5\n",
        "\\end{bmatrix}\n",
        "$$"
      ]
    },
    {
      "cell_type": "code",
      "metadata": {
        "id": "vE1QZoJ1-qqe",
        "outputId": "fee1c9d6-7c72-441e-a4d1-6c3dd7326809",
        "colab": {
          "base_uri": "https://localhost:8080/",
          "height": 68
        }
      },
      "source": [
        "# Biblioteca de álgebra linear(matrizes)\n",
        "import numpy as np\n",
        "\n",
        "A = np.array([[1, 2, 3], [3, 4, 5]]) \n",
        "\n",
        "print(A)\n",
        "\n",
        "B = np.trace(A)\n",
        "\n",
        "print(B)"
      ],
      "execution_count": 58,
      "outputs": [
        {
          "output_type": "stream",
          "text": [
            "[[1 2 3]\n",
            " [3 4 5]]\n",
            "5\n"
          ],
          "name": "stdout"
        }
      ]
    },
    {
      "cell_type": "markdown",
      "metadata": {
        "id": "G6cF7ox7-4yk"
      },
      "source": [
        "Propriedade do traço:\n",
        "\n",
        "1. $tr(A+B) = tr(A) + tr(B)$;\n",
        "\n",
        "2. $tr(\\lambda . A) = \\lambda. tr(A)$;\n",
        "\n",
        "3. O traço de uma matriz quadrada é igual ao traço de sua transposta;\n",
        "\n",
        "4. $tr(AB) = tr(BA)$;\n",
        "\n",
        "5. O traço de uma matriz simétrica é igual a soma dos seus valores próprios (autovalores). Uma matriz A é dita simétrica se ela for igual a sua transposta.\n",
        "\n"
      ]
    },
    {
      "cell_type": "code",
      "metadata": {
        "id": "_KEF0UAd_OK_",
        "outputId": "e4a1e54b-a3d9-4545-eb6e-d54d56f98b6b",
        "colab": {
          "base_uri": "https://localhost:8080/",
          "height": 85
        }
      },
      "source": [
        "# Biblioteca de álgebra linear(matrizes)\n",
        "import numpy as np\n",
        "\n",
        "A = np.array(([1,1],[2,2]))\n",
        "B = np.array(([3,3],[4,4]))\n",
        "\n",
        "# Propriedade 1\n",
        "np.trace(A+B) ==  np.trace(A) + np.trace(B)\n",
        "print(np.trace(A+B) ==  np.trace(A) + np.trace(B))\n",
        "\n",
        "# Propriedade 2\n",
        "print(np.trace(5*A) == 5 * np.trace(A))\n",
        "\n",
        "# Propriedade 3\n",
        "print(np.trace(A) == np.trace(np.transpose(A)))\n",
        "\n",
        "# Propriedade 4\n",
        "print(np.trace(A*B) == np.trace(B*A))"
      ],
      "execution_count": 59,
      "outputs": [
        {
          "output_type": "stream",
          "text": [
            "True\n",
            "True\n",
            "True\n",
            "True\n"
          ],
          "name": "stdout"
        }
      ]
    },
    {
      "cell_type": "markdown",
      "metadata": {
        "id": "ZuGzLCTB_fuM"
      },
      "source": [
        "### Inversa de uma matriz\n",
        "\n",
        "Se o produto de duas matrizes resulta em uma matriz identidade, essa matriz possui uma inversa. A biblioteca Numpy possuí um pacote específico para trabalhar com álgebra linear, se chama numpy.lialg, no qual possuí a função inv() para calcular a inversa de uma matriz."
      ]
    },
    {
      "cell_type": "code",
      "metadata": {
        "id": "kWbceG_2_hXc",
        "outputId": "f7d48ec6-4ba2-42d7-e3c3-0b1b4ff77b6d",
        "colab": {
          "base_uri": "https://localhost:8080/",
          "height": 85
        }
      },
      "source": [
        "# Biblioteca de álgebra linear(matrizes)\n",
        "import numpy as np\n",
        "\n",
        "from numpy.linalg import inv\n",
        "\n",
        "A = np.array(([1,2],[3,4]))\n",
        "print(A)\n",
        "\n",
        "B = inv(A)\n",
        "print(B)"
      ],
      "execution_count": 60,
      "outputs": [
        {
          "output_type": "stream",
          "text": [
            "[[1 2]\n",
            " [3 4]]\n",
            "[[-2.   1. ]\n",
            " [ 1.5 -0.5]]\n"
          ],
          "name": "stdout"
        }
      ]
    },
    {
      "cell_type": "markdown",
      "metadata": {
        "id": "k23DPLp5_tsv"
      },
      "source": [
        "Para verificar se a matriz B é inversa da matriz A:"
      ]
    },
    {
      "cell_type": "code",
      "metadata": {
        "id": "hCSrqN0s_vuH",
        "outputId": "f7045e10-1b4d-40a3-eb8b-f950e568aa71",
        "colab": {
          "base_uri": "https://localhost:8080/",
          "height": 51
        }
      },
      "source": [
        "print(np.dot(B,A))"
      ],
      "execution_count": 61,
      "outputs": [
        {
          "output_type": "stream",
          "text": [
            "[[1.00000000e+00 0.00000000e+00]\n",
            " [1.11022302e-16 1.00000000e+00]]\n"
          ],
          "name": "stdout"
        }
      ]
    },
    {
      "cell_type": "markdown",
      "metadata": {
        "id": "dzpwjSF6_77B"
      },
      "source": [
        "Propriedades da matriz inversa:\n",
        "\n",
        "1. Se A for uma matriz inversa, a inversa de A também será invertível:\n",
        "\n",
        "$$ (A^{-1})^{-1} = A $$"
      ]
    },
    {
      "cell_type": "code",
      "metadata": {
        "id": "snuwjPDTACA6",
        "outputId": "0b0b5aa0-7f49-4bef-ace8-25e4a53692e3",
        "colab": {
          "base_uri": "https://localhost:8080/",
          "height": 51
        }
      },
      "source": [
        "# Biblioteca de álgebra linear(matrizes)\n",
        "import numpy as np\n",
        "\n",
        "A = np.array(([1.,2.],[3.,4.]))\n",
        "\n",
        "#o retorno é falso por motivos de arredondamento\n",
        "print(inv(inv(A)) == A)"
      ],
      "execution_count": 62,
      "outputs": [
        {
          "output_type": "stream",
          "text": [
            "[[False False]\n",
            " [False False]]\n"
          ],
          "name": "stdout"
        }
      ]
    },
    {
      "cell_type": "markdown",
      "metadata": {
        "id": "c7ZXX4OvAI3p"
      },
      "source": [
        "2. Se A e B forem matrizes invertíveis, então AB também é invertível:\n",
        "\n",
        "$$ (AB^{-1})^{-1} = A^{-1} B^{-1} $$"
      ]
    },
    {
      "cell_type": "code",
      "metadata": {
        "id": "8OUYIRYSAL8t",
        "outputId": "9d7fb530-2280-4022-a99e-0c00b5b2a1f5",
        "colab": {
          "base_uri": "https://localhost:8080/",
          "height": 221
        }
      },
      "source": [
        "# Biblioteca de álgebra linear(matrizes)\n",
        "import numpy as np\n",
        "\n",
        "A = np.array(([1.,2.],[3.,4.]))\n",
        "print(\"A=\")\n",
        "print(A)\n",
        "\n",
        "B = inv(A)\n",
        "print(\"B=\")\n",
        "print(B)\n",
        "\n",
        "C = inv(A.dot(B))\n",
        "print(\"C=\")\n",
        "print(C)\n",
        "\n",
        "D = inv(B).dot(inv(A))\n",
        "print(\"D=\")\n",
        "print(D)"
      ],
      "execution_count": 63,
      "outputs": [
        {
          "output_type": "stream",
          "text": [
            "A=\n",
            "[[1. 2.]\n",
            " [3. 4.]]\n",
            "B=\n",
            "[[-2.   1. ]\n",
            " [ 1.5 -0.5]]\n",
            "C=\n",
            "[[ 1.0000000e+00  0.0000000e+00]\n",
            " [-8.8817842e-16  1.0000000e+00]]\n",
            "D=\n",
            "[[1.00000000e+00 9.86076132e-32]\n",
            " [8.88178420e-16 1.00000000e+00]]\n"
          ],
          "name": "stdout"
        }
      ]
    },
    {
      "cell_type": "markdown",
      "metadata": {
        "id": "aaXNOVKEBLzv"
      },
      "source": [
        "3. Se A é uma matriz invertível, então a seguinte propriedade é válida:\n",
        "\n",
        "$$ (A^T)^{-1} = (A^{-1})^T $$"
      ]
    },
    {
      "cell_type": "code",
      "metadata": {
        "id": "67ZZcSEsBOhK",
        "outputId": "37f70515-eb9a-4bd4-8f67-ee884c18dece",
        "colab": {
          "base_uri": "https://localhost:8080/",
          "height": 119
        }
      },
      "source": [
        "# Biblioteca de álgebra linear(matrizes)\n",
        "import numpy as np\n",
        "\n",
        "A = np.array(([1.,2.],[3.,4.]))\n",
        "print(A)\n",
        "\n",
        "B = inv(A.T)\n",
        "print(B)\n",
        "\n",
        "C = (inv(A)).T\n",
        "\n",
        "print(C)"
      ],
      "execution_count": 64,
      "outputs": [
        {
          "output_type": "stream",
          "text": [
            "[[1. 2.]\n",
            " [3. 4.]]\n",
            "[[-2.   1.5]\n",
            " [ 1.  -0.5]]\n",
            "[[-2.   1.5]\n",
            " [ 1.  -0.5]]\n"
          ],
          "name": "stdout"
        }
      ]
    },
    {
      "cell_type": "markdown",
      "metadata": {
        "id": "lG53W_7wCXSa"
      },
      "source": [
        "### Determinante de uma matriz\n",
        "\n",
        "Para explicar o que são determinantes de matrizes, iremos analisar o sistema de equações lineares abaixo:\n",
        "\n",
        "$$\\begin{cases}\n",
        "  a_{11}x_{1} & + & a_{12}x_{2} = b_{1} \\\\ \n",
        "  a_{21}x_{1} & + & a_{22}x_{2} = b_{2}\\\\ \n",
        "\\end{cases}$$\n",
        "\n",
        "\n",
        "Estamos à procura das incógnitas do sistema, x1 e x2. Para isso devemos isolar uma das variáveis e substituir na outra equação, ao final do processo iremos chegar em duas equações:\n",
        "\n",
        "$$ x_{1} = \\dfrac{b_{1} a_{22} - b_{2} a_{12}}{a_{11} a_{22} - a_{12} a_{21}} \n",
        "$$\n",
        "-\n",
        "$$\n",
        "x_{2} = \\dfrac{b_{2} a_{11} - b_{1} a_{21}}{a_{11} a_{22} - a_{12} a_{21}}\n",
        "$$\n",
        "\n",
        "Podemos notar que o denominador das equações x1 e x2 são os mesmos. Essas constantes que aparecem no denominador das matrizes são chamadas de determinantes de uma matriz. O determinante só pode ser calculado em uma matriz quadrada.\n",
        "\n",
        "**Calculando o determinante**\n",
        "\n",
        "A determinante de uma matriz 1x1, ou seja, de um escalar é o próprio escalar;\n",
        "A determinante de uma matriz 2x2 é a multiplicação dos elementos da diagonal principal subtraído pela multiplicação dos elementos da diagonal secundária;\n",
        "Para uma matriz 3x3, pode ser utilizado o método de Sarrus, exemplificado abaixo:Método de Sarrus\n",
        "Podemos utilizar outros teoremas para encontrar a determinante de uma matriz, como por exemplo o teorema de Laplace, decomposição LU, eliminação gaussiana, entre outros.\n",
        "\n",
        "A linguagem Python nos permite encontrar determinantes de matrizes através da função ´det()´."
      ]
    },
    {
      "cell_type": "markdown",
      "metadata": {
        "id": "bRS-VrHKr5o-"
      },
      "source": [
        "Exemplo 1"
      ]
    },
    {
      "cell_type": "code",
      "metadata": {
        "id": "wE-G3qYzr5o_",
        "outputId": "c8dda560-dd85-4af6-feae-0ca8c82cc5c5",
        "colab": {
          "base_uri": "https://localhost:8080/",
          "height": 34
        }
      },
      "source": [
        "# Biblioteca de álgebra linear(matrizes)\n",
        "import numpy as np\n",
        "from numpy.linalg import det\n",
        "\n",
        "# Declara a matriz\n",
        "A = np.array(([1,5],[2,3]))\n",
        "\n",
        "# Calcula o determinante\n",
        "det_A = det(A)\n",
        "\n",
        "# Mostra o determinante\n",
        "print(det_A)"
      ],
      "execution_count": 65,
      "outputs": [
        {
          "output_type": "stream",
          "text": [
            "-7.000000000000001\n"
          ],
          "name": "stdout"
        }
      ]
    },
    {
      "cell_type": "markdown",
      "metadata": {
        "id": "uc7KZLi7r1Cu"
      },
      "source": [
        "Exemplo 2"
      ]
    },
    {
      "cell_type": "code",
      "metadata": {
        "id": "4WqYqxNMCZmE",
        "outputId": "ca500c31-f404-4183-94a2-f8a152e8a072",
        "colab": {
          "base_uri": "https://localhost:8080/",
          "height": 34
        }
      },
      "source": [
        "# Biblioteca de álgebra linear(matrizes)\n",
        "import numpy as np\n",
        "from numpy.linalg import det\n",
        "\n",
        "# Declara a matriz\n",
        "A = np.array(([1,2,4],[5,3,-1],[7,2,0]))\n",
        "\n",
        "# Calcula o determinante\n",
        "det_A = det(A)\n",
        "\n",
        "# Mostra o determinante\n",
        "print(det_A)"
      ],
      "execution_count": 66,
      "outputs": [
        {
          "output_type": "stream",
          "text": [
            "-56.00000000000002\n"
          ],
          "name": "stdout"
        }
      ]
    },
    {
      "cell_type": "markdown",
      "metadata": {
        "id": "yGB6JkMrr2aW"
      },
      "source": [
        "Exemplo 3"
      ]
    },
    {
      "cell_type": "code",
      "metadata": {
        "id": "cFDf4NmYC8S1",
        "outputId": "ec8c9f8b-5337-4641-c128-a618d748873c",
        "colab": {
          "base_uri": "https://localhost:8080/",
          "height": 34
        }
      },
      "source": [
        "# Biblioteca de álgebra linear(matrizes)\n",
        "import numpy as np\n",
        "from numpy.linalg import det\n",
        "\n",
        "# Declara a matriz\n",
        "A = np.array(([1,2,4,5,6,7],\n",
        "              [5,3,-1,5,1,2],\n",
        "              [7,2,0,1,4,9],\n",
        "              [1,2,1,5,6,5],\n",
        "              [-7,2,4,-1,6,6],\n",
        "              [0,2,5,5,9,7]))\n",
        "\n",
        "# Calcula o determinante\n",
        "det_A = det(A)\n",
        "\n",
        "# Mostra o determinante\n",
        "print(det_A)"
      ],
      "execution_count": 67,
      "outputs": [
        {
          "output_type": "stream",
          "text": [
            "8184.000000000006\n"
          ],
          "name": "stdout"
        }
      ]
    },
    {
      "cell_type": "markdown",
      "metadata": {
        "id": "tVaL4lKeqGP8"
      },
      "source": [
        "### Coseno Matriz"
      ]
    },
    {
      "cell_type": "code",
      "metadata": {
        "id": "FuN-hD-uqH9Z",
        "outputId": "59e92682-6655-4d63-8f97-e2ecf0caca9c",
        "colab": {
          "base_uri": "https://localhost:8080/",
          "height": 289
        }
      },
      "source": [
        "# Biblioteca de álgebra linear(matrizes)\n",
        "import numpy as np\n",
        "from sklearn.metrics.pairwise import cosine_similarity\n",
        "\n",
        "# Declara as matrizes\n",
        "A = np.array([[0, 1], [2, 3]]) \n",
        "B = np.array([[3, 4], [5, 6]]) \n",
        "\n",
        "# Calcula a similaridade\n",
        "C = cosine_similarity(A,B) \n",
        "\n",
        "print('A>')\n",
        "print(A)\n",
        "print('B>')\n",
        "print(B)\n",
        "print('C>', C)\n",
        "\n",
        "# Declara uma matriz\n",
        "D = np.array([[0, 1], [4, 5]]) \n",
        "\n",
        "# Calcula a similaridade\n",
        "E = cosine_similarity(A,D) \n",
        "\n",
        "print('A>')\n",
        "print(A)\n",
        "print('D>')\n",
        "print(D)\n",
        "print('E>', E)"
      ],
      "execution_count": 68,
      "outputs": [
        {
          "output_type": "stream",
          "text": [
            "A>\n",
            "[[0 1]\n",
            " [2 3]]\n",
            "B>\n",
            "[[3 4]\n",
            " [5 6]]\n",
            "C> [[0.8        0.76822128]\n",
            " [0.99846035 0.99430915]]\n",
            "A>\n",
            "[[0 1]\n",
            " [2 3]]\n",
            "D>\n",
            "[[0 1]\n",
            " [4 5]]\n",
            "E> [[1.         0.78086881]\n",
            " [0.83205029 0.99624059]]\n"
          ],
          "name": "stdout"
        }
      ]
    }
  ]
}