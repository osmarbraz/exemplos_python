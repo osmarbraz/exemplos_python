{
  "nbformat": 4,
  "nbformat_minor": 0,
  "metadata": {
    "colab": {
      "name": "ExemplosPythonDiversos.ipynb",
      "provenance": [],
      "collapsed_sections": [],
      "toc_visible": true,
      "authorship_tag": "ABX9TyMDSebfGqnqJ6Ori480ehgF",
      "include_colab_link": true
    },
    "kernelspec": {
      "name": "python3",
      "display_name": "Python 3"
    },
    "language_info": {
      "name": "python"
    }
  },
  "cells": [
    {
      "cell_type": "markdown",
      "metadata": {
        "id": "view-in-github",
        "colab_type": "text"
      },
      "source": [
        "<a href=\"https://colab.research.google.com/github/osmarbraz/exemplos_python/blob/master/ExemplosPythonDiversos.ipynb\" target=\"_parent\"><img src=\"https://colab.research.google.com/assets/colab-badge.svg\" alt=\"Open In Colab\"/></a>"
      ]
    },
    {
      "cell_type": "markdown",
      "metadata": {
        "id": "LAdVeG3Am41V"
      },
      "source": [
        "# Descobrindo o ip de um site"
      ]
    },
    {
      "cell_type": "code",
      "metadata": {
        "colab": {
          "base_uri": "https://localhost:8080/"
        },
        "id": "I6jDrmrim6sn",
        "outputId": "a663c537-9619-4ffb-83da-a52dff8a1bec"
      },
      "source": [
        "import socket as s\n",
        "\n",
        "host = 'www.google.com'\n",
        "\n",
        "Ip = s.gethostbyname(host)\n",
        "\n",
        "print(\"O ip do host \" , host , \" é \" , Ip)\n"
      ],
      "execution_count": 1,
      "outputs": [
        {
          "output_type": "stream",
          "text": [
            "O ip do host  www.google.com  é  173.194.216.147\n"
          ],
          "name": "stdout"
        }
      ]
    },
    {
      "cell_type": "markdown",
      "metadata": {
        "id": "iw2q5uJhnhpn"
      },
      "source": [
        "# Tranduzindo textos com python"
      ]
    },
    {
      "cell_type": "code",
      "metadata": {
        "colab": {
          "base_uri": "https://localhost:8080/"
        },
        "id": "MwTGtNhbnmg9",
        "outputId": "0337a24c-831c-4dcc-dae3-90b771e4c9f6"
      },
      "source": [
        "!pip install translate"
      ],
      "execution_count": 2,
      "outputs": [
        {
          "output_type": "stream",
          "text": [
            "Collecting translate\n",
            "  Downloading https://files.pythonhosted.org/packages/85/b2/2ea329a07bbc0c7227eef84ca89ffd6895e7ec237d6c0b26574d56103e53/translate-3.5.0-py2.py3-none-any.whl\n",
            "Requirement already satisfied: click in /usr/local/lib/python3.7/dist-packages (from translate) (7.1.2)\n",
            "Requirement already satisfied: requests in /usr/local/lib/python3.7/dist-packages (from translate) (2.23.0)\n",
            "Requirement already satisfied: lxml in /usr/local/lib/python3.7/dist-packages (from translate) (4.2.6)\n",
            "Collecting pre-commit\n",
            "\u001b[?25l  Downloading https://files.pythonhosted.org/packages/b2/38/3e5475cbd6921cd8208a06c113384a88bb19ce0cda1155f33d4f19183de1/pre_commit-2.13.0-py2.py3-none-any.whl (190kB)\n",
            "\u001b[K     |████████████████████████████████| 194kB 5.1MB/s \n",
            "\u001b[?25hCollecting tox\n",
            "\u001b[?25l  Downloading https://files.pythonhosted.org/packages/d8/63/2fa635ac1b8a22e960654b07c270dfb53eb873aba261006536de40327b18/tox-3.23.1-py2.py3-none-any.whl (85kB)\n",
            "\u001b[K     |████████████████████████████████| 92kB 9.1MB/s \n",
            "\u001b[?25hRequirement already satisfied: urllib3!=1.25.0,!=1.25.1,<1.26,>=1.21.1 in /usr/local/lib/python3.7/dist-packages (from requests->translate) (1.24.3)\n",
            "Requirement already satisfied: chardet<4,>=3.0.2 in /usr/local/lib/python3.7/dist-packages (from requests->translate) (3.0.4)\n",
            "Requirement already satisfied: idna<3,>=2.5 in /usr/local/lib/python3.7/dist-packages (from requests->translate) (2.10)\n",
            "Requirement already satisfied: certifi>=2017.4.17 in /usr/local/lib/python3.7/dist-packages (from requests->translate) (2020.12.5)\n",
            "Requirement already satisfied: toml in /usr/local/lib/python3.7/dist-packages (from pre-commit->translate) (0.10.2)\n",
            "Collecting pyyaml>=5.1\n",
            "\u001b[?25l  Downloading https://files.pythonhosted.org/packages/7a/a5/393c087efdc78091afa2af9f1378762f9821c9c1d7a22c5753fb5ac5f97a/PyYAML-5.4.1-cp37-cp37m-manylinux1_x86_64.whl (636kB)\n",
            "\u001b[K     |████████████████████████████████| 645kB 33.9MB/s \n",
            "\u001b[?25hRequirement already satisfied: importlib-metadata; python_version < \"3.8\" in /usr/local/lib/python3.7/dist-packages (from pre-commit->translate) (4.0.1)\n",
            "Collecting cfgv>=2.0.0\n",
            "  Downloading https://files.pythonhosted.org/packages/49/54/83bf9b6ba673bf7d5ebe3846a5f6d3a53925cfd331aa29ec6b5b9c42a850/cfgv-3.3.0-py2.py3-none-any.whl\n",
            "Collecting identify>=1.0.0\n",
            "\u001b[?25l  Downloading https://files.pythonhosted.org/packages/dc/db/900191341d7559aa97c75e5b1f093d2fe7a64b7a42a7b20a5341e794e5ab/identify-2.2.10-py2.py3-none-any.whl (98kB)\n",
            "\u001b[K     |████████████████████████████████| 102kB 9.2MB/s \n",
            "\u001b[?25hCollecting nodeenv>=0.11.1\n",
            "  Downloading https://files.pythonhosted.org/packages/54/73/56c89b343befb9c63e8117294d265458f0ff726fa2abcdc6bb5ec5e66a1a/nodeenv-1.6.0-py2.py3-none-any.whl\n",
            "Collecting virtualenv>=20.0.8\n",
            "\u001b[?25l  Downloading https://files.pythonhosted.org/packages/03/08/f819421002e85a71d58368f7bffbe0b1921325e0e8ca7857cb5fb0e1f7c1/virtualenv-20.4.7-py2.py3-none-any.whl (7.2MB)\n",
            "\u001b[K     |████████████████████████████████| 7.2MB 31.5MB/s \n",
            "\u001b[?25hRequirement already satisfied: py>=1.4.17 in /usr/local/lib/python3.7/dist-packages (from tox->translate) (1.10.0)\n",
            "Requirement already satisfied: filelock>=3.0.0 in /usr/local/lib/python3.7/dist-packages (from tox->translate) (3.0.12)\n",
            "Requirement already satisfied: six>=1.14.0 in /usr/local/lib/python3.7/dist-packages (from tox->translate) (1.15.0)\n",
            "Requirement already satisfied: packaging>=14 in /usr/local/lib/python3.7/dist-packages (from tox->translate) (20.9)\n",
            "Collecting pluggy>=0.12.0\n",
            "  Downloading https://files.pythonhosted.org/packages/a0/28/85c7aa31b80d150b772fbe4a229487bc6644da9ccb7e427dd8cc60cb8a62/pluggy-0.13.1-py2.py3-none-any.whl\n",
            "Requirement already satisfied: typing-extensions>=3.6.4; python_version < \"3.8\" in /usr/local/lib/python3.7/dist-packages (from importlib-metadata; python_version < \"3.8\"->pre-commit->translate) (3.7.4.3)\n",
            "Requirement already satisfied: zipp>=0.5 in /usr/local/lib/python3.7/dist-packages (from importlib-metadata; python_version < \"3.8\"->pre-commit->translate) (3.4.1)\n",
            "Requirement already satisfied: appdirs<2,>=1.4.3 in /usr/local/lib/python3.7/dist-packages (from virtualenv>=20.0.8->pre-commit->translate) (1.4.4)\n",
            "Collecting distlib<1,>=0.3.1\n",
            "\u001b[?25l  Downloading https://files.pythonhosted.org/packages/87/26/f6a23dd3e578132cf924e0dd5d4e055af0cd4ab43e2a9f10b7568bfb39d9/distlib-0.3.2-py2.py3-none-any.whl (338kB)\n",
            "\u001b[K     |████████████████████████████████| 348kB 39.8MB/s \n",
            "\u001b[?25hRequirement already satisfied: pyparsing>=2.0.2 in /usr/local/lib/python3.7/dist-packages (from packaging>=14->tox->translate) (2.4.7)\n",
            "\u001b[31mERROR: pytest 3.6.4 has requirement pluggy<0.8,>=0.5, but you'll have pluggy 0.13.1 which is incompatible.\u001b[0m\n",
            "\u001b[31mERROR: datascience 0.10.6 has requirement folium==0.2.1, but you'll have folium 0.8.3 which is incompatible.\u001b[0m\n",
            "Installing collected packages: pyyaml, cfgv, identify, nodeenv, distlib, virtualenv, pre-commit, pluggy, tox, translate\n",
            "  Found existing installation: PyYAML 3.13\n",
            "    Uninstalling PyYAML-3.13:\n",
            "      Successfully uninstalled PyYAML-3.13\n",
            "  Found existing installation: pluggy 0.7.1\n",
            "    Uninstalling pluggy-0.7.1:\n",
            "      Successfully uninstalled pluggy-0.7.1\n",
            "Successfully installed cfgv-3.3.0 distlib-0.3.2 identify-2.2.10 nodeenv-1.6.0 pluggy-0.13.1 pre-commit-2.13.0 pyyaml-5.4.1 tox-3.23.1 translate-3.5.0 virtualenv-20.4.7\n"
          ],
          "name": "stdout"
        }
      ]
    },
    {
      "cell_type": "code",
      "metadata": {
        "colab": {
          "base_uri": "https://localhost:8080/"
        },
        "id": "D5DzX76cnjpm",
        "outputId": "fd8ac4ad-e5f7-4c9a-c924-f9aa7730475a"
      },
      "source": [
        "from translate import Translator\n",
        "\n",
        "tradutor = Translator(from_lang=\"english\", to_lang=\"pt-br\")\n",
        "\n",
        "traducao = tradutor.translate(\"The book on the table\")\n",
        "\n",
        "print(traducao)"
      ],
      "execution_count": 3,
      "outputs": [
        {
          "output_type": "stream",
          "text": [
            "O livro está sobre a mesa.\n"
          ],
          "name": "stdout"
        }
      ]
    },
    {
      "cell_type": "markdown",
      "metadata": {
        "id": "X2o-4vcpoIBP"
      },
      "source": [
        "# Gerando QRCode"
      ]
    },
    {
      "cell_type": "code",
      "metadata": {
        "colab": {
          "base_uri": "https://localhost:8080/"
        },
        "id": "x2yMZxhpoKce",
        "outputId": "7aaa83f6-f39f-4ee2-9b9c-7e4a92ba7dc4"
      },
      "source": [
        "!pip install pyqrcode\n",
        "!pip install pypng"
      ],
      "execution_count": 4,
      "outputs": [
        {
          "output_type": "stream",
          "text": [
            "Collecting pyqrcode\n",
            "  Downloading https://files.pythonhosted.org/packages/37/61/f07226075c347897937d4086ef8e55f0a62ae535e28069884ac68d979316/PyQRCode-1.2.1.tar.gz\n",
            "Building wheels for collected packages: pyqrcode\n",
            "  Building wheel for pyqrcode (setup.py) ... \u001b[?25l\u001b[?25hdone\n",
            "  Created wheel for pyqrcode: filename=PyQRCode-1.2.1-cp37-none-any.whl size=36245 sha256=15876a442b547abef8a1af90dbc3d3bc754d34d5666956d85978f0bdd0b1e2c0\n",
            "  Stored in directory: /root/.cache/pip/wheels/54/61/2f/a4f51b09473db5737db0f654ed10eb9a4ee01f83a7412de349\n",
            "Successfully built pyqrcode\n",
            "Installing collected packages: pyqrcode\n",
            "Successfully installed pyqrcode-1.2.1\n",
            "Collecting pypng\n",
            "\u001b[?25l  Downloading https://files.pythonhosted.org/packages/bc/fb/f719f1ac965e2101aa6ea6f54ef8b40f8fbb033f6ad07c017663467f5147/pypng-0.0.20.tar.gz (649kB)\n",
            "\u001b[K     |████████████████████████████████| 655kB 5.2MB/s \n",
            "\u001b[?25hBuilding wheels for collected packages: pypng\n",
            "  Building wheel for pypng (setup.py) ... \u001b[?25l\u001b[?25hdone\n",
            "  Created wheel for pypng: filename=pypng-0.0.20-cp37-none-any.whl size=67179 sha256=2d934e103c21c5511b4d8aa6b4d121cc0f00d2cbcb4e4b710cc587e34b8c3600\n",
            "  Stored in directory: /root/.cache/pip/wheels/41/6b/ef/0493b536b6d4722c2ae9486691b1d49b922b9877922beeabb3\n",
            "Successfully built pypng\n",
            "Installing collected packages: pypng\n",
            "Successfully installed pypng-0.0.20\n"
          ],
          "name": "stdout"
        }
      ]
    },
    {
      "cell_type": "code",
      "metadata": {
        "colab": {
          "base_uri": "https://localhost:8080/",
          "height": 263
        },
        "id": "87AWy4nsoIKe",
        "outputId": "f120d8ac-dfd6-4cc3-ecf5-cf038edb1c56"
      },
      "source": [
        "import pyqrcode\n",
        "import png\n",
        "from pyqrcode import QRCode\n",
        "from PIL import Image\n",
        "\n",
        "QRSTring = \"www.instagram.com/pycodebr/\"\n",
        "\n",
        "url = pyqrcode.create(QRSTring)\n",
        "\n",
        "url.png(r\"qr.png\",scale=6)\n",
        "  \n",
        "imagem = Image.open(r\"qr.png\") \n",
        "  \n",
        "display(imagem)"
      ],
      "execution_count": 5,
      "outputs": [
        {
          "output_type": "display_data",
          "data": {
            "image/png": "[encoded data removed]",
            "text/plain": [
              "<PIL.PngImagePlugin.PngImageFile image mode=1 size=246x246 at 0x7F92CE05D510>"
            ]
          },
          "metadata": {
            "tags": []
          }
        }
      ]
    },
    {
      "cell_type": "markdown",
      "metadata": {
        "id": "FilLq-baJAA6"
      },
      "source": [
        "# Download arquivo"
      ]
    },
    {
      "cell_type": "code",
      "metadata": {
        "colab": {
          "base_uri": "https://localhost:8080/"
        },
        "id": "L-CrhCdnJaRI",
        "outputId": "c9fc08e5-0193-4016-9243-7a981694209a"
      },
      "source": [
        "!pip install wget"
      ],
      "execution_count": 6,
      "outputs": [
        {
          "output_type": "stream",
          "text": [
            "Collecting wget\n",
            "  Downloading https://files.pythonhosted.org/packages/47/6a/62e288da7bcda82b935ff0c6cfe542970f04e29c756b0e147251b2fb251f/wget-3.2.zip\n",
            "Building wheels for collected packages: wget\n",
            "  Building wheel for wget (setup.py) ... \u001b[?25l\u001b[?25hdone\n",
            "  Created wheel for wget: filename=wget-3.2-cp37-none-any.whl size=9675 sha256=29b3f9e4241c2c3e241ba7a5759309a8a501237102a7372581370e0e5109039e\n",
            "  Stored in directory: /root/.cache/pip/wheels/40/15/30/7d8f7cea2902b4db79e3fea550d7d7b85ecb27ef992b618f3f\n",
            "Successfully built wget\n",
            "Installing collected packages: wget\n",
            "Successfully installed wget-3.2\n"
          ],
          "name": "stdout"
        }
      ]
    },
    {
      "cell_type": "code",
      "metadata": {
        "colab": {
          "base_uri": "https://localhost:8080/",
          "height": 35
        },
        "id": "czJrxbbhJCCb",
        "outputId": "11eb8217-1323-4cf7-bf00-de70dccf8e76"
      },
      "source": [
        "import wget\n",
        "\n",
        "url = 'https://sourceforge.net/projects/osboxes/files/v/vb/55-U-u/21.04/64bit.7z/download'\n",
        "\n",
        "wget.download(url,'arquivo.zip')"
      ],
      "execution_count": 7,
      "outputs": [
        {
          "output_type": "execute_result",
          "data": {
            "application/vnd.google.colaboratory.intrinsic+json": {
              "type": "string"
            },
            "text/plain": [
              "'arquivo.zip'"
            ]
          },
          "metadata": {
            "tags": []
          },
          "execution_count": 7
        }
      ]
    },
    {
      "cell_type": "code",
      "metadata": {
        "colab": {
          "base_uri": "https://localhost:8080/"
        },
        "id": "SnJRFzpPJ6MY",
        "outputId": "e856c5f4-f5e5-4183-a67a-6d7c3d37ca10"
      },
      "source": [
        "!wget 'https://aka.ms/windev_VM_virtualbox'"
      ],
      "execution_count": 8,
      "outputs": [
        {
          "output_type": "stream",
          "text": [
            "--2021-06-08 16:56:15--  https://aka.ms/windev_VM_virtualbox\n",
            "Resolving aka.ms (aka.ms)... 23.36.85.183\n",
            "Connecting to aka.ms (aka.ms)|23.36.85.183|:443... connected.\n",
            "HTTP request sent, awaiting response... 301 Moved Permanently\n",
            "Location: https://download.microsoft.com/download/1/a/7/1a7d9b66-8903-4404-bcda-b695901eb9e8/WinDev2104Eval.VirtualBox.zip [following]\n",
            "--2021-06-08 16:56:15--  https://download.microsoft.com/download/1/a/7/1a7d9b66-8903-4404-bcda-b695901eb9e8/WinDev2104Eval.VirtualBox.zip\n",
            "Resolving download.microsoft.com (download.microsoft.com)... 23.220.188.106, 2600:1402:6800:297::e59, 2600:1402:6800:283::e59\n",
            "Connecting to download.microsoft.com (download.microsoft.com)|23.220.188.106|:443... connected.\n",
            "HTTP request sent, awaiting response... 200 OK\n",
            "Length: 20949300019 (20G) [application/octet-stream]\n",
            "Saving to: ‘windev_VM_virtualbox’\n",
            "\n",
            "windev_VM_virtualbo 100%[===================>]  19.51G   129MB/s    in 2m 44s  \n",
            "\n",
            "2021-06-08 16:59:00 (122 MB/s) - ‘windev_VM_virtualbox’ saved [20949300019/20949300019]\n",
            "\n"
          ],
          "name": "stdout"
        }
      ]
    },
    {
      "cell_type": "code",
      "metadata": {
        "colab": {
          "base_uri": "https://localhost:8080/"
        },
        "id": "IIRbFLy-KUM6",
        "outputId": "a54d2c90-4e22-41a8-d2e7-fec6f934a3bd"
      },
      "source": [
        "!wget 'https://sourceforge.net/projects/osboxes/files/v/vb/55-U-u/21.04/64bit.7z/download'"
      ],
      "execution_count": 9,
      "outputs": [
        {
          "output_type": "stream",
          "text": [
            "--2021-06-08 16:59:01--  https://sourceforge.net/projects/osboxes/files/v/vb/55-U-u/21.04/64bit.7z/download\n",
            "Resolving sourceforge.net (sourceforge.net)... 216.105.38.13\n",
            "Connecting to sourceforge.net (sourceforge.net)|216.105.38.13|:443... connected.\n",
            "HTTP request sent, awaiting response... 302 Found\n",
            "Location: https://downloads.sourceforge.net/project/osboxes/v/vb/55-U-u/21.04/64bit.7z?ts=gAAAAABgv6HVREQUHg773ghXloC-7sO9PGmZQ5TiMvcI-WV7oLVmmjr66rcbxcJ9qcHJJTxtUbEVZXbmbga22qWh9tupveA00g%3D%3D&use_mirror=iweb&r= [following]\n",
            "--2021-06-08 16:59:01--  https://downloads.sourceforge.net/project/osboxes/v/vb/55-U-u/21.04/64bit.7z?ts=gAAAAABgv6HVREQUHg773ghXloC-7sO9PGmZQ5TiMvcI-WV7oLVmmjr66rcbxcJ9qcHJJTxtUbEVZXbmbga22qWh9tupveA00g%3D%3D&use_mirror=iweb&r=\n",
            "Resolving downloads.sourceforge.net (downloads.sourceforge.net)... 216.105.38.13\n",
            "Connecting to downloads.sourceforge.net (downloads.sourceforge.net)|216.105.38.13|:443... connected.\n",
            "HTTP request sent, awaiting response... 302 Found\n",
            "Location: https://iweb.dl.sourceforge.net/project/osboxes/v/vb/55-U-u/21.04/64bit.7z [following]\n",
            "--2021-06-08 16:59:02--  https://iweb.dl.sourceforge.net/project/osboxes/v/vb/55-U-u/21.04/64bit.7z\n",
            "Resolving iweb.dl.sourceforge.net (iweb.dl.sourceforge.net)... 192.175.120.182, 2607:f748:10:12::5f:2\n",
            "Connecting to iweb.dl.sourceforge.net (iweb.dl.sourceforge.net)|192.175.120.182|:443... connected.\n",
            "HTTP request sent, awaiting response... 200 OK\n",
            "Length: 2183946920 (2.0G) [application/x-7z-compressed]\n",
            "Saving to: ‘download’\n",
            "\n",
            "download            100%[===================>]   2.03G  40.1MB/s    in 51s     \n",
            "\n",
            "2021-06-08 16:59:53 (40.9 MB/s) - ‘download’ saved [2183946920/2183946920]\n",
            "\n"
          ],
          "name": "stdout"
        }
      ]
    },
    {
      "cell_type": "markdown",
      "metadata": {
        "id": "vWCrVs29LlPu"
      },
      "source": [
        "# Convertendo texto em fala"
      ]
    },
    {
      "cell_type": "code",
      "metadata": {
        "colab": {
          "base_uri": "https://localhost:8080/"
        },
        "id": "HBJI6twNd-tT",
        "outputId": "29153e9d-af14-44c6-b4ac-69eb50a40ec9"
      },
      "source": [
        "!pip install gTTS"
      ],
      "execution_count": 10,
      "outputs": [
        {
          "output_type": "stream",
          "text": [
            "Requirement already satisfied: gTTS in /usr/local/lib/python3.7/dist-packages (2.2.2)\n",
            "Requirement already satisfied: six in /usr/local/lib/python3.7/dist-packages (from gTTS) (1.15.0)\n",
            "Requirement already satisfied: click in /usr/local/lib/python3.7/dist-packages (from gTTS) (7.1.2)\n",
            "Requirement already satisfied: requests in /usr/local/lib/python3.7/dist-packages (from gTTS) (2.23.0)\n",
            "Requirement already satisfied: urllib3!=1.25.0,!=1.25.1,<1.26,>=1.21.1 in /usr/local/lib/python3.7/dist-packages (from requests->gTTS) (1.24.3)\n",
            "Requirement already satisfied: certifi>=2017.4.17 in /usr/local/lib/python3.7/dist-packages (from requests->gTTS) (2020.12.5)\n",
            "Requirement already satisfied: chardet<4,>=3.0.2 in /usr/local/lib/python3.7/dist-packages (from requests->gTTS) (3.0.4)\n",
            "Requirement already satisfied: idna<3,>=2.5 in /usr/local/lib/python3.7/dist-packages (from requests->gTTS) (2.10)\n"
          ],
          "name": "stdout"
        }
      ]
    },
    {
      "cell_type": "code",
      "metadata": {
        "colab": {
          "base_uri": "https://localhost:8080/",
          "height": 75
        },
        "id": "arezatuueCBM",
        "outputId": "83359bad-033b-4996-a453-cefd0b6053c1"
      },
      "source": [
        "from gtts import gTTS\n",
        "from IPython.display import Audio\n",
        "\n",
        "tts = gTTS('The book on the table')\n",
        "\n",
        "arquivo_som = '1.wav'\n",
        "\n",
        "tts.save(arquivo_som)\n",
        "\n",
        "Audio(arquivo_som, autoplay=True)"
      ],
      "execution_count": 11,
      "outputs": [
        {
          "output_type": "execute_result",
          "data": {
            "text/html": [
              "\n",
              "                <audio controls=\"controls\" autoplay=\"autoplay\">\n",
              "                    <source src=\"data:audio/x-wav;base64,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\" type=\"audio/x-wav\" />\n",
              "                    Your browser does not support the audio element.\n",
              "                </audio>\n",
              "              "
            ],
            "text/plain": [
              "<IPython.lib.display.Audio object>"
            ]
          },
          "metadata": {
            "tags": []
          },
          "execution_count": 11
        }
      ]
    },
    {
      "cell_type": "markdown",
      "metadata": {
        "id": "-OI43ZNLjo5Y"
      },
      "source": [
        "# Baixando vídeos do youtube"
      ]
    },
    {
      "cell_type": "code",
      "metadata": {
        "colab": {
          "base_uri": "https://localhost:8080/"
        },
        "id": "MRbwtrrgjpXg",
        "outputId": "ec651bd2-7c5a-4ec9-805f-68ffac71c413"
      },
      "source": [
        "!pip3 install pytube "
      ],
      "execution_count": 13,
      "outputs": [
        {
          "output_type": "stream",
          "text": [
            "Collecting pytube\n",
            "\u001b[?25l  Downloading https://files.pythonhosted.org/packages/c0/d0/01b6936455527bdf7cf32f0fd32f7365bc7e3aa066ff3b16d45fa42c71f1/pytube-10.8.4-py3-none-any.whl (46kB)\n",
            "\u001b[K     |████████████████████████████████| 51kB 2.8MB/s \n",
            "\u001b[?25hInstalling collected packages: pytube\n",
            "Successfully installed pytube-10.8.4\n"
          ],
          "name": "stdout"
        }
      ]
    },
    {
      "cell_type": "code",
      "metadata": {
        "colab": {
          "base_uri": "https://localhost:8080/",
          "height": 35
        },
        "id": "ETlDqArOjtaP",
        "outputId": "84e5b84d-b42a-4f98-f3d0-ccc61448a005"
      },
      "source": [
        "import pytube\n",
        "\n",
        "url = 'https://www.youtube.com/watch?v=YyWMN_0g3BQ'\n",
        "\n",
        "youtube = pytube.YouTube(url)\n",
        "\n",
        "video = youtube.streams.first()\n",
        "\n",
        "video.download()"
      ],
      "execution_count": 23,
      "outputs": [
        {
          "output_type": "execute_result",
          "data": {
            "application/vnd.google.colaboratory.intrinsic+json": {
              "type": "string"
            },
            "text/plain": [
              "'/content/O que vem DEPOIS do Hello World  Consertando meu C.mp4'"
            ]
          },
          "metadata": {
            "tags": []
          },
          "execution_count": 23
        }
      ]
    }
  ]
}