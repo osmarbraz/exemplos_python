{
  "nbformat": 4,
  "nbformat_minor": 0,
  "metadata": {
    "colab": {
      "name": "ExemplosPythonDiversos.ipynb",
      "provenance": [],
      "collapsed_sections": [],
      "toc_visible": true,
      "authorship_tag": "ABX9TyNl8HA81h9reEn9Jv4O8LMf",
      "include_colab_link": true
    },
    "kernelspec": {
      "name": "python3",
      "display_name": "Python 3"
    },
    "language_info": {
      "name": "python"
    }
  },
  "cells": [
    {
      "cell_type": "markdown",
      "metadata": {
        "id": "view-in-github",
        "colab_type": "text"
      },
      "source": [
        "<a href=\"https://colab.research.google.com/github/osmarbraz/exemplos_python/blob/master/ExemplosPythonDiversos.ipynb\" target=\"_parent\"><img src=\"https://colab.research.google.com/assets/colab-badge.svg\" alt=\"Open In Colab\"/></a>"
      ]
    },
    {
      "cell_type": "markdown",
      "metadata": {
        "id": "LAdVeG3Am41V"
      },
      "source": [
        "# Descobrindo o ip de um site"
      ]
    },
    {
      "cell_type": "code",
      "metadata": {
        "colab": {
          "base_uri": "https://localhost:8080/"
        },
        "id": "I6jDrmrim6sn",
        "outputId": "1163ee0c-096a-4209-d09d-7f503669ae73"
      },
      "source": [
        "import socket as s\n",
        "\n",
        "host = 'www.google.com'\n",
        "\n",
        "ip = s.gethostbyname(host)\n",
        "\n",
        "print(\"O ip do host \" , host , \" é \" , ip)\n"
      ],
      "execution_count": 1,
      "outputs": [
        {
          "output_type": "stream",
          "text": [
            "O ip do host  www.google.com  é  108.177.126.104\n"
          ],
          "name": "stdout"
        }
      ]
    },
    {
      "cell_type": "markdown",
      "metadata": {
        "id": "iw2q5uJhnhpn"
      },
      "source": [
        "# Tranduzindo textos com python"
      ]
    },
    {
      "cell_type": "code",
      "metadata": {
        "colab": {
          "base_uri": "https://localhost:8080/"
        },
        "id": "aTVQoxuF_kbP",
        "outputId": "4ec132cb-ea71-47d5-e64d-001f762b3359"
      },
      "source": [
        "!pip install google_trans_new"
      ],
      "execution_count": 2,
      "outputs": [
        {
          "output_type": "stream",
          "text": [
            "Collecting google_trans_new\n",
            "  Downloading https://files.pythonhosted.org/packages/f9/7b/9f136106dc5824dc98185c97991d3cd9b53e70a197154dd49f7b899128f6/google_trans_new-1.1.9-py3-none-any.whl\n",
            "Installing collected packages: google-trans-new\n",
            "Successfully installed google-trans-new-1.1.9\n"
          ],
          "name": "stdout"
        }
      ]
    },
    {
      "cell_type": "code",
      "metadata": {
        "colab": {
          "base_uri": "https://localhost:8080/"
        },
        "id": "VN_WDVHyASEd",
        "outputId": "e7740894-d107-4ebd-a5a7-9239532b8c71"
      },
      "source": [
        "from google_trans_new import google_translator  \n",
        "\n",
        "translator = google_translator()  \n",
        "\n",
        "fraseEn = 'The sky is blue.'\n",
        "\n",
        "frasePtBR = translator.translate(fraseEn, lang_tgt='pt')  \n",
        "\n",
        "print(frasePtBR)"
      ],
      "execution_count": 3,
      "outputs": [
        {
          "output_type": "stream",
          "text": [
            "O céu é azul. \n"
          ],
          "name": "stdout"
        }
      ]
    },
    {
      "cell_type": "markdown",
      "metadata": {
        "id": "X2o-4vcpoIBP"
      },
      "source": [
        "# Gerando QRCode"
      ]
    },
    {
      "cell_type": "code",
      "metadata": {
        "colab": {
          "base_uri": "https://localhost:8080/"
        },
        "id": "x2yMZxhpoKce",
        "outputId": "a86726b1-21e2-45ea-b9a3-9844709e78a2"
      },
      "source": [
        "!pip install pyqrcode\n",
        "!pip install pypng"
      ],
      "execution_count": 4,
      "outputs": [
        {
          "output_type": "stream",
          "text": [
            "Collecting pyqrcode\n",
            "  Downloading https://files.pythonhosted.org/packages/37/61/f07226075c347897937d4086ef8e55f0a62ae535e28069884ac68d979316/PyQRCode-1.2.1.tar.gz\n",
            "Building wheels for collected packages: pyqrcode\n",
            "  Building wheel for pyqrcode (setup.py) ... \u001b[?25l\u001b[?25hdone\n",
            "  Created wheel for pyqrcode: filename=PyQRCode-1.2.1-cp37-none-any.whl size=36245 sha256=8c1f8dc1b00933ce3e4a8a967279a1418ab3073f854a3dfede60373b1bf72650\n",
            "  Stored in directory: /root/.cache/pip/wheels/54/61/2f/a4f51b09473db5737db0f654ed10eb9a4ee01f83a7412de349\n",
            "Successfully built pyqrcode\n",
            "Installing collected packages: pyqrcode\n",
            "Successfully installed pyqrcode-1.2.1\n",
            "Collecting pypng\n",
            "\u001b[?25l  Downloading https://files.pythonhosted.org/packages/bc/fb/f719f1ac965e2101aa6ea6f54ef8b40f8fbb033f6ad07c017663467f5147/pypng-0.0.20.tar.gz (649kB)\n",
            "\u001b[K     |████████████████████████████████| 655kB 16.2MB/s \n",
            "\u001b[?25hBuilding wheels for collected packages: pypng\n",
            "  Building wheel for pypng (setup.py) ... \u001b[?25l\u001b[?25hdone\n",
            "  Created wheel for pypng: filename=pypng-0.0.20-cp37-none-any.whl size=67179 sha256=d4bf25ed39331b4e46a5ed5dd6bde2d4e1c0ca9c8d3ae760c14aabe1c306ba1b\n",
            "  Stored in directory: /root/.cache/pip/wheels/41/6b/ef/0493b536b6d4722c2ae9486691b1d49b922b9877922beeabb3\n",
            "Successfully built pypng\n",
            "Installing collected packages: pypng\n",
            "Successfully installed pypng-0.0.20\n"
          ],
          "name": "stdout"
        }
      ]
    },
    {
      "cell_type": "code",
      "metadata": {
        "colab": {
          "base_uri": "https://localhost:8080/",
          "height": 263
        },
        "id": "87AWy4nsoIKe",
        "outputId": "481eb42f-7f04-4529-f2d3-8b115ecf86d6"
      },
      "source": [
        "import pyqrcode\n",
        "import png\n",
        "from pyqrcode import QRCode\n",
        "from PIL import Image\n",
        "\n",
        "QRSTring = \"www.instagram.com/pycodebr/\"\n",
        "\n",
        "url = pyqrcode.create(QRSTring)\n",
        "\n",
        "url.png(r\"qr.png\",scale=6)\n",
        "  \n",
        "imagem = Image.open(r\"qr.png\") \n",
        "  \n",
        "display(imagem)"
      ],
      "execution_count": 5,
      "outputs": [
        {
          "output_type": "display_data",
          "data": {
            "image/png": "[encoded data removed]",
            "text/plain": [
              "<PIL.PngImagePlugin.PngImageFile image mode=1 size=246x246 at 0x7F261FE67A90>"
            ]
          },
          "metadata": {
            "tags": []
          }
        }
      ]
    },
    {
      "cell_type": "markdown",
      "metadata": {
        "id": "FilLq-baJAA6"
      },
      "source": [
        "# Download arquivo"
      ]
    },
    {
      "cell_type": "code",
      "metadata": {
        "colab": {
          "base_uri": "https://localhost:8080/"
        },
        "id": "L-CrhCdnJaRI",
        "outputId": "33f0c64f-98b7-4511-f7ce-8a49b4a24826"
      },
      "source": [
        "!pip install wget"
      ],
      "execution_count": 6,
      "outputs": [
        {
          "output_type": "stream",
          "text": [
            "Collecting wget\n",
            "  Downloading https://files.pythonhosted.org/packages/47/6a/62e288da7bcda82b935ff0c6cfe542970f04e29c756b0e147251b2fb251f/wget-3.2.zip\n",
            "Building wheels for collected packages: wget\n",
            "  Building wheel for wget (setup.py) ... \u001b[?25l\u001b[?25hdone\n",
            "  Created wheel for wget: filename=wget-3.2-cp37-none-any.whl size=9675 sha256=55ce4cda160f3878b8d2d8e9e1c9842f8a0af561c933da3483b97fe377002ca3\n",
            "  Stored in directory: /root/.cache/pip/wheels/40/15/30/7d8f7cea2902b4db79e3fea550d7d7b85ecb27ef992b618f3f\n",
            "Successfully built wget\n",
            "Installing collected packages: wget\n",
            "Successfully installed wget-3.2\n"
          ],
          "name": "stdout"
        }
      ]
    },
    {
      "cell_type": "code",
      "metadata": {
        "colab": {
          "base_uri": "https://localhost:8080/",
          "height": 35
        },
        "id": "czJrxbbhJCCb",
        "outputId": "d45d4d0e-45b2-4a1f-f69a-5210eba1ff67"
      },
      "source": [
        "import wget\n",
        "\n",
        "url = 'https://sourceforge.net/projects/osboxes/files/v/vb/55-U-u/21.04/64bit.7z/download'\n",
        "\n",
        "wget.download(url,'arquivo.zip')"
      ],
      "execution_count": 7,
      "outputs": [
        {
          "output_type": "execute_result",
          "data": {
            "application/vnd.google.colaboratory.intrinsic+json": {
              "type": "string"
            },
            "text/plain": [
              "'arquivo.zip'"
            ]
          },
          "metadata": {
            "tags": []
          },
          "execution_count": 7
        }
      ]
    },
    {
      "cell_type": "code",
      "metadata": {
        "colab": {
          "base_uri": "https://localhost:8080/"
        },
        "id": "SnJRFzpPJ6MY",
        "outputId": "1f241520-8e6d-4f9e-fef9-faf0b83e72a7"
      },
      "source": [
        "!wget 'https://aka.ms/windev_VM_virtualbox'"
      ],
      "execution_count": 8,
      "outputs": [
        {
          "output_type": "stream",
          "text": [
            "--2021-06-08 17:29:30--  https://aka.ms/windev_VM_virtualbox\n",
            "Resolving aka.ms (aka.ms)... 88.221.62.148\n",
            "Connecting to aka.ms (aka.ms)|88.221.62.148|:443... connected.\n",
            "HTTP request sent, awaiting response... 301 Moved Permanently\n",
            "Location: https://download.microsoft.com/download/1/a/7/1a7d9b66-8903-4404-bcda-b695901eb9e8/WinDev2104Eval.VirtualBox.zip [following]\n",
            "--2021-06-08 17:29:30--  https://download.microsoft.com/download/1/a/7/1a7d9b66-8903-4404-bcda-b695901eb9e8/WinDev2104Eval.VirtualBox.zip\n",
            "Resolving download.microsoft.com (download.microsoft.com)... 80.67.92.138, 2a02:26f0:fe00:1af::e59, 2a02:26f0:fe00:1a1::e59\n",
            "Connecting to download.microsoft.com (download.microsoft.com)|80.67.92.138|:443... connected.\n",
            "HTTP request sent, awaiting response... 200 OK\n",
            "Length: 20949300019 (20G) [application/octet-stream]\n",
            "Saving to: ‘windev_VM_virtualbox’\n",
            "\n",
            "windev_VM_virtualbo 100%[===================>]  19.51G   125MB/s    in 2m 44s  \n",
            "\n",
            "2021-06-08 17:32:15 (122 MB/s) - ‘windev_VM_virtualbox’ saved [20949300019/20949300019]\n",
            "\n"
          ],
          "name": "stdout"
        }
      ]
    },
    {
      "cell_type": "code",
      "metadata": {
        "colab": {
          "base_uri": "https://localhost:8080/"
        },
        "id": "IIRbFLy-KUM6",
        "outputId": "a48b92c2-76b8-415e-b9f2-b80588d96e32"
      },
      "source": [
        "!wget 'https://sourceforge.net/projects/osboxes/files/v/vb/55-U-u/21.04/64bit.7z/download'"
      ],
      "execution_count": 9,
      "outputs": [
        {
          "output_type": "stream",
          "text": [
            "--2021-06-08 17:32:17--  https://sourceforge.net/projects/osboxes/files/v/vb/55-U-u/21.04/64bit.7z/download\n",
            "Resolving sourceforge.net (sourceforge.net)... 216.105.38.13\n",
            "Connecting to sourceforge.net (sourceforge.net)|216.105.38.13|:443... connected.\n",
            "HTTP request sent, awaiting response... 302 Found\n",
            "Location: https://downloads.sourceforge.net/project/osboxes/v/vb/55-U-u/21.04/64bit.7z?ts=gAAAAABgv6mg31835IEekaCgoUE_Rlr0oQ6YQGkryuZ9VM96ut7YleC7LQJA3mbtO2KHuOtZyUyU6UQB90gKZmHFt8En99k7WA%3D%3D&use_mirror=netcologne&r= [following]\n",
            "--2021-06-08 17:32:18--  https://downloads.sourceforge.net/project/osboxes/v/vb/55-U-u/21.04/64bit.7z?ts=gAAAAABgv6mg31835IEekaCgoUE_Rlr0oQ6YQGkryuZ9VM96ut7YleC7LQJA3mbtO2KHuOtZyUyU6UQB90gKZmHFt8En99k7WA%3D%3D&use_mirror=netcologne&r=\n",
            "Resolving downloads.sourceforge.net (downloads.sourceforge.net)... 216.105.38.13\n",
            "Connecting to downloads.sourceforge.net (downloads.sourceforge.net)|216.105.38.13|:443... connected.\n",
            "HTTP request sent, awaiting response... 302 Found\n",
            "Location: https://netcologne.dl.sourceforge.net/project/osboxes/v/vb/55-U-u/21.04/64bit.7z [following]\n",
            "--2021-06-08 17:32:18--  https://netcologne.dl.sourceforge.net/project/osboxes/v/vb/55-U-u/21.04/64bit.7z\n",
            "Resolving netcologne.dl.sourceforge.net (netcologne.dl.sourceforge.net)... 78.35.24.46, 2001:4dd0:1234:6::5f\n",
            "Connecting to netcologne.dl.sourceforge.net (netcologne.dl.sourceforge.net)|78.35.24.46|:443... connected.\n",
            "HTTP request sent, awaiting response... 200 OK\n",
            "Length: 2183946920 (2.0G) [application/x-7z-compressed]\n",
            "Saving to: ‘download’\n",
            "\n",
            "download            100%[===================>]   2.03G  80.7MB/s    in 25s     \n",
            "\n",
            "2021-06-08 17:32:43 (84.8 MB/s) - ‘download’ saved [2183946920/2183946920]\n",
            "\n"
          ],
          "name": "stdout"
        }
      ]
    },
    {
      "cell_type": "markdown",
      "metadata": {
        "id": "vWCrVs29LlPu"
      },
      "source": [
        "# Convertendo texto em fala"
      ]
    },
    {
      "cell_type": "code",
      "metadata": {
        "colab": {
          "base_uri": "https://localhost:8080/"
        },
        "id": "HBJI6twNd-tT",
        "outputId": "c628376e-f2d9-4c8a-e000-3e5619fe9e54"
      },
      "source": [
        "!pip install gTTS"
      ],
      "execution_count": 10,
      "outputs": [
        {
          "output_type": "stream",
          "text": [
            "Collecting gTTS\n",
            "  Downloading https://files.pythonhosted.org/packages/5f/b9/94e59337107be134b21ce395a29fc0715b707b560108d6797de2d93e1178/gTTS-2.2.2-py3-none-any.whl\n",
            "Requirement already satisfied: requests in /usr/local/lib/python3.7/dist-packages (from gTTS) (2.23.0)\n",
            "Requirement already satisfied: six in /usr/local/lib/python3.7/dist-packages (from gTTS) (1.15.0)\n",
            "Requirement already satisfied: click in /usr/local/lib/python3.7/dist-packages (from gTTS) (7.1.2)\n",
            "Requirement already satisfied: certifi>=2017.4.17 in /usr/local/lib/python3.7/dist-packages (from requests->gTTS) (2020.12.5)\n",
            "Requirement already satisfied: urllib3!=1.25.0,!=1.25.1,<1.26,>=1.21.1 in /usr/local/lib/python3.7/dist-packages (from requests->gTTS) (1.24.3)\n",
            "Requirement already satisfied: chardet<4,>=3.0.2 in /usr/local/lib/python3.7/dist-packages (from requests->gTTS) (3.0.4)\n",
            "Requirement already satisfied: idna<3,>=2.5 in /usr/local/lib/python3.7/dist-packages (from requests->gTTS) (2.10)\n",
            "Installing collected packages: gTTS\n",
            "Successfully installed gTTS-2.2.2\n"
          ],
          "name": "stdout"
        }
      ]
    },
    {
      "cell_type": "code",
      "metadata": {
        "colab": {
          "base_uri": "https://localhost:8080/",
          "height": 75
        },
        "id": "arezatuueCBM",
        "outputId": "5721c5d6-f448-48aa-efbf-9d9fbfcde9f5"
      },
      "source": [
        "from gtts import gTTS\n",
        "from IPython.display import Audio\n",
        "\n",
        "tts = gTTS('The book on the table')\n",
        "\n",
        "arquivo_som = '1.wav'\n",
        "\n",
        "tts.save(arquivo_som)\n",
        "\n",
        "Audio(arquivo_som, autoplay=True)"
      ],
      "execution_count": 11,
      "outputs": [
        {
          "output_type": "execute_result",
          "data": {
            "text/html": [
              "\n",
              "                <audio controls=\"controls\" autoplay=\"autoplay\">\n",
              "                    <source src=\"data:audio/x-wav;base64,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\" type=\"audio/x-wav\" />\n",
              "                    Your browser does not support the audio element.\n",
              "                </audio>\n",
              "              "
            ],
            "text/plain": [
              "<IPython.lib.display.Audio object>"
            ]
          },
          "metadata": {
            "tags": []
          },
          "execution_count": 11
        }
      ]
    },
    {
      "cell_type": "markdown",
      "metadata": {
        "id": "-OI43ZNLjo5Y"
      },
      "source": [
        "# Baixando vídeos do youtube"
      ]
    },
    {
      "cell_type": "code",
      "metadata": {
        "colab": {
          "base_uri": "https://localhost:8080/"
        },
        "id": "MRbwtrrgjpXg",
        "outputId": "4b4e1e16-a482-4d10-dab2-af545acaef23"
      },
      "source": [
        "!pip3 install pytube "
      ],
      "execution_count": 12,
      "outputs": [
        {
          "output_type": "stream",
          "text": [
            "Collecting pytube\n",
            "\u001b[?25l  Downloading https://files.pythonhosted.org/packages/c0/d0/01b6936455527bdf7cf32f0fd32f7365bc7e3aa066ff3b16d45fa42c71f1/pytube-10.8.4-py3-none-any.whl (46kB)\n",
            "\r\u001b[K     |███████                         | 10kB 17.8MB/s eta 0:00:01\r\u001b[K     |██████████████▏                 | 20kB 26.3MB/s eta 0:00:01\r\u001b[K     |█████████████████████▎          | 30kB 21.2MB/s eta 0:00:01\r\u001b[K     |████████████████████████████▎   | 40kB 18.3MB/s eta 0:00:01\r\u001b[K     |████████████████████████████████| 51kB 4.4MB/s \n",
            "\u001b[?25hInstalling collected packages: pytube\n",
            "Successfully installed pytube-10.8.4\n"
          ],
          "name": "stdout"
        }
      ]
    },
    {
      "cell_type": "code",
      "metadata": {
        "colab": {
          "base_uri": "https://localhost:8080/",
          "height": 35
        },
        "id": "ETlDqArOjtaP",
        "outputId": "49705103-4f8a-411c-a1c4-1625dc4b1dcc"
      },
      "source": [
        "import pytube\n",
        "\n",
        "url = 'https://www.youtube.com/watch?v=YyWMN_0g3BQ'\n",
        "\n",
        "youtube = pytube.YouTube(url)\n",
        "\n",
        "video = youtube.streams.first()\n",
        "\n",
        "video.download()"
      ],
      "execution_count": 13,
      "outputs": [
        {
          "output_type": "execute_result",
          "data": {
            "application/vnd.google.colaboratory.intrinsic+json": {
              "type": "string"
            },
            "text/plain": [
              "'/content/O que vem DEPOIS do Hello World  Consertando meu C.mp4'"
            ]
          },
          "metadata": {
            "tags": []
          },
          "execution_count": 13
        }
      ]
    }
  ]
}