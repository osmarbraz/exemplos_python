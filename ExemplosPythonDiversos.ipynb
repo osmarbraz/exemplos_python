{
  "nbformat": 4,
  "nbformat_minor": 0,
  "metadata": {
    "colab": {
      "name": "ExemplosPythonDiversos.ipynb",
      "provenance": [],
      "collapsed_sections": [],
      "toc_visible": true,
      "authorship_tag": "ABX9TyOcopqOWF240S0j0La7v3sy",
      "include_colab_link": true
    },
    "kernelspec": {
      "name": "python3",
      "display_name": "Python 3"
    },
    "language_info": {
      "name": "python"
    }
  },
  "cells": [
    {
      "cell_type": "markdown",
      "metadata": {
        "id": "view-in-github",
        "colab_type": "text"
      },
      "source": [
        "<a href=\"https://colab.research.google.com/github/osmarbraz/exemplos_python/blob/master/ExemplosPythonDiversos.ipynb\" target=\"_parent\"><img src=\"https://colab.research.google.com/assets/colab-badge.svg\" alt=\"Open In Colab\"/></a>"
      ]
    },
    {
      "cell_type": "markdown",
      "metadata": {
        "id": "LAdVeG3Am41V"
      },
      "source": [
        "# Descobrindo o ip de um site"
      ]
    },
    {
      "cell_type": "code",
      "metadata": {
        "colab": {
          "base_uri": "https://localhost:8080/"
        },
        "id": "I6jDrmrim6sn",
        "outputId": "b1bbe824-5465-49ae-aefe-724f06ea6a59"
      },
      "source": [
        "import socket as s\n",
        "\n",
        "host = 'www.google.com'\n",
        "\n",
        "ip = s.gethostbyname(host)\n",
        "\n",
        "print(\"O ip do host \" , host , \" é \" , ip)\n"
      ],
      "execution_count": 1,
      "outputs": [
        {
          "output_type": "stream",
          "name": "stdout",
          "text": [
            "O ip do host  www.google.com  é  173.194.210.105\n"
          ]
        }
      ]
    },
    {
      "cell_type": "markdown",
      "metadata": {
        "id": "iw2q5uJhnhpn"
      },
      "source": [
        "# Tranduzindo textos com python"
      ]
    },
    {
      "cell_type": "code",
      "metadata": {
        "colab": {
          "base_uri": "https://localhost:8080/"
        },
        "id": "aTVQoxuF_kbP",
        "outputId": "b75c2767-1fc7-459b-e94c-186d41d85688"
      },
      "source": [
        "!pip install googletrans==3.1.0a0 #Versão específica que funciona"
      ],
      "execution_count": 2,
      "outputs": [
        {
          "output_type": "stream",
          "name": "stdout",
          "text": [
            "Collecting googletrans==3.1.0a0\n",
            "  Downloading googletrans-3.1.0a0.tar.gz (19 kB)\n",
            "Collecting httpx==0.13.3\n",
            "  Downloading httpx-0.13.3-py3-none-any.whl (55 kB)\n",
            "\u001b[K     |████████████████████████████████| 55 kB 2.2 MB/s \n",
            "\u001b[?25hRequirement already satisfied: certifi in /usr/local/lib/python3.7/dist-packages (from httpx==0.13.3->googletrans==3.1.0a0) (2021.5.30)\n",
            "Collecting hstspreload\n",
            "  Downloading hstspreload-2021.10.1-py3-none-any.whl (1.2 MB)\n",
            "\u001b[K     |████████████████████████████████| 1.2 MB 9.8 MB/s \n",
            "\u001b[?25hCollecting sniffio\n",
            "  Downloading sniffio-1.2.0-py3-none-any.whl (10 kB)\n",
            "Collecting rfc3986<2,>=1.3\n",
            "  Downloading rfc3986-1.5.0-py2.py3-none-any.whl (31 kB)\n",
            "Collecting httpcore==0.9.*\n",
            "  Downloading httpcore-0.9.1-py3-none-any.whl (42 kB)\n",
            "\u001b[K     |████████████████████████████████| 42 kB 1.3 MB/s \n",
            "\u001b[?25hRequirement already satisfied: chardet==3.* in /usr/local/lib/python3.7/dist-packages (from httpx==0.13.3->googletrans==3.1.0a0) (3.0.4)\n",
            "Requirement already satisfied: idna==2.* in /usr/local/lib/python3.7/dist-packages (from httpx==0.13.3->googletrans==3.1.0a0) (2.10)\n",
            "Collecting h11<0.10,>=0.8\n",
            "  Downloading h11-0.9.0-py2.py3-none-any.whl (53 kB)\n",
            "\u001b[K     |████████████████████████████████| 53 kB 2.0 MB/s \n",
            "\u001b[?25hCollecting h2==3.*\n",
            "  Downloading h2-3.2.0-py2.py3-none-any.whl (65 kB)\n",
            "\u001b[K     |████████████████████████████████| 65 kB 3.4 MB/s \n",
            "\u001b[?25hCollecting hpack<4,>=3.0\n",
            "  Downloading hpack-3.0.0-py2.py3-none-any.whl (38 kB)\n",
            "Collecting hyperframe<6,>=5.2.0\n",
            "  Downloading hyperframe-5.2.0-py2.py3-none-any.whl (12 kB)\n",
            "Building wheels for collected packages: googletrans\n",
            "  Building wheel for googletrans (setup.py) ... \u001b[?25l\u001b[?25hdone\n",
            "  Created wheel for googletrans: filename=googletrans-3.1.0a0-py3-none-any.whl size=16367 sha256=c2a869d501b7ae1004a98201e649e84ce74d930e7929b3d5650048321690489f\n",
            "  Stored in directory: /root/.cache/pip/wheels/0c/be/fe/93a6a40ffe386e16089e44dad9018ebab9dc4cb9eb7eab65ae\n",
            "Successfully built googletrans\n",
            "Installing collected packages: hyperframe, hpack, sniffio, h2, h11, rfc3986, httpcore, hstspreload, httpx, googletrans\n",
            "Successfully installed googletrans-3.1.0a0 h11-0.9.0 h2-3.2.0 hpack-3.0.0 hstspreload-2021.10.1 httpcore-0.9.1 httpx-0.13.3 hyperframe-5.2.0 rfc3986-1.5.0 sniffio-1.2.0\n"
          ]
        }
      ]
    },
    {
      "cell_type": "code",
      "metadata": {
        "colab": {
          "base_uri": "https://localhost:8080/"
        },
        "id": "VN_WDVHyASEd",
        "outputId": "85119025-daa2-4fb2-a387-ac0183311fe2"
      },
      "source": [
        "from googletrans import Translator\n",
        "\n",
        "tradutor = Translator()\n",
        "\n",
        "fraseEn = 'The sky is blue.'\n",
        "\n",
        "frasePtBR = tradutor.translate(fraseEn, src='en', dest='pt') \n",
        "\n",
        "print(fraseEn)\n",
        "print(frasePtBR.text)"
      ],
      "execution_count": 3,
      "outputs": [
        {
          "output_type": "stream",
          "name": "stdout",
          "text": [
            "The sky is blue.\n",
            "O céu é azul.\n"
          ]
        }
      ]
    },
    {
      "cell_type": "markdown",
      "metadata": {
        "id": "X2o-4vcpoIBP"
      },
      "source": [
        "# Gerando QRCode"
      ]
    },
    {
      "cell_type": "code",
      "metadata": {
        "colab": {
          "base_uri": "https://localhost:8080/"
        },
        "id": "x2yMZxhpoKce",
        "outputId": "bf17dd1b-6f4c-4051-d5d1-12196909172e"
      },
      "source": [
        "!pip install pyqrcode\n",
        "!pip install pypng"
      ],
      "execution_count": 4,
      "outputs": [
        {
          "output_type": "stream",
          "name": "stdout",
          "text": [
            "Collecting pyqrcode\n",
            "  Downloading PyQRCode-1.2.1.zip (41 kB)\n",
            "\u001b[?25l\r\u001b[K     |███████▉                        | 10 kB 26.7 MB/s eta 0:00:01\r\u001b[K     |███████████████▋                | 20 kB 30.1 MB/s eta 0:00:01\r\u001b[K     |███████████████████████▌        | 30 kB 11.9 MB/s eta 0:00:01\r\u001b[K     |███████████████████████████████▎| 40 kB 9.2 MB/s eta 0:00:01\r\u001b[K     |████████████████████████████████| 41 kB 387 kB/s \n",
            "\u001b[?25hBuilding wheels for collected packages: pyqrcode\n",
            "  Building wheel for pyqrcode (setup.py) ... \u001b[?25l\u001b[?25hdone\n",
            "  Created wheel for pyqrcode: filename=PyQRCode-1.2.1-py3-none-any.whl size=36245 sha256=2ae19f8a8aeb5362f4a24b45b070f43080644effa536cfa8dcedc34790af5fd8\n",
            "  Stored in directory: /root/.cache/pip/wheels/aa/14/ad/f09824edf35fdc5fd8acc01b60ff57f858f212a2d5c41dddd2\n",
            "Successfully built pyqrcode\n",
            "Installing collected packages: pyqrcode\n",
            "Successfully installed pyqrcode-1.2.1\n",
            "Collecting pypng\n",
            "  Downloading pypng-0.0.21-py3-none-any.whl (48 kB)\n",
            "\u001b[K     |████████████████████████████████| 48 kB 2.2 MB/s \n",
            "\u001b[?25hInstalling collected packages: pypng\n",
            "Successfully installed pypng-0.0.21\n"
          ]
        }
      ]
    },
    {
      "cell_type": "code",
      "metadata": {
        "colab": {
          "base_uri": "https://localhost:8080/",
          "height": 263
        },
        "id": "87AWy4nsoIKe",
        "outputId": "59295642-2e10-43c0-979d-5db884a47329"
      },
      "source": [
        "import pyqrcode\n",
        "import png\n",
        "from pyqrcode import QRCode\n",
        "from PIL import Image\n",
        "\n",
        "QRSTring = \"www.instagram.com/pycodebr/\"\n",
        "\n",
        "url = pyqrcode.create(QRSTring)\n",
        "\n",
        "url.png(r\"qr.png\",scale=6)\n",
        "  \n",
        "imagem = Image.open(r\"qr.png\") \n",
        "  \n",
        "display(imagem)"
      ],
      "execution_count": 5,
      "outputs": [
        {
          "output_type": "display_data",
          "data": {
            "image/png": "[encoded data removed]",
            "text/plain": [
              "<PIL.PngImagePlugin.PngImageFile image mode=1 size=246x246 at 0x7F822C493590>"
            ]
          },
          "metadata": {}
        }
      ]
    },
    {
      "cell_type": "markdown",
      "metadata": {
        "id": "FilLq-baJAA6"
      },
      "source": [
        "# Download arquivo"
      ]
    },
    {
      "cell_type": "code",
      "metadata": {
        "colab": {
          "base_uri": "https://localhost:8080/"
        },
        "id": "L-CrhCdnJaRI",
        "outputId": "173a6b42-dbea-48dd-a5ff-16f3d4de90c2"
      },
      "source": [
        "!pip install wget"
      ],
      "execution_count": 6,
      "outputs": [
        {
          "output_type": "stream",
          "name": "stdout",
          "text": [
            "Collecting wget\n",
            "  Downloading wget-3.2.zip (10 kB)\n",
            "Building wheels for collected packages: wget\n",
            "  Building wheel for wget (setup.py) ... \u001b[?25l\u001b[?25hdone\n",
            "  Created wheel for wget: filename=wget-3.2-py3-none-any.whl size=9672 sha256=febd3cea944f79d723ec1b2dc5b360515f3e528e4249a4cbfa3781a1bcd66f44\n",
            "  Stored in directory: /root/.cache/pip/wheels/a1/b6/7c/0e63e34eb06634181c63adacca38b79ff8f35c37e3c13e3c02\n",
            "Successfully built wget\n",
            "Installing collected packages: wget\n",
            "Successfully installed wget-3.2\n"
          ]
        }
      ]
    },
    {
      "cell_type": "code",
      "metadata": {
        "colab": {
          "base_uri": "https://localhost:8080/",
          "height": 35
        },
        "id": "czJrxbbhJCCb",
        "outputId": "aaf308d5-2e85-45bf-8ec2-b3bdb16a025e"
      },
      "source": [
        "import wget\n",
        "\n",
        "url = 'https://sourceforge.net/projects/osboxes/files/v/vb/55-U-u/21.04/64bit.7z/download'\n",
        "\n",
        "wget.download(url,'arquivo.zip')"
      ],
      "execution_count": 7,
      "outputs": [
        {
          "output_type": "execute_result",
          "data": {
            "application/vnd.google.colaboratory.intrinsic+json": {
              "type": "string"
            },
            "text/plain": [
              "'arquivo.zip'"
            ]
          },
          "metadata": {},
          "execution_count": 7
        }
      ]
    },
    {
      "cell_type": "code",
      "metadata": {
        "colab": {
          "base_uri": "https://localhost:8080/"
        },
        "id": "SnJRFzpPJ6MY",
        "outputId": "d21128c4-3531-4214-f2bf-d6f9179a0f45"
      },
      "source": [
        "!wget 'https://aka.ms/windev_VM_virtualbox'"
      ],
      "execution_count": 8,
      "outputs": [
        {
          "output_type": "stream",
          "name": "stdout",
          "text": [
            "--2021-10-19 11:35:00--  https://aka.ms/windev_VM_virtualbox\n",
            "Resolving aka.ms (aka.ms)... 104.105.84.21\n",
            "Connecting to aka.ms (aka.ms)|104.105.84.21|:443... connected.\n",
            "HTTP request sent, awaiting response... 301 Moved Permanently\n",
            "Location: https://download.microsoft.com/download/1/8/c/18c400fa-91d3-4ab2-b232-5e2b0480da43/WinDev2108Eval.VirtualBox.zip [following]\n",
            "--2021-10-19 11:35:00--  https://download.microsoft.com/download/1/8/c/18c400fa-91d3-4ab2-b232-5e2b0480da43/WinDev2108Eval.VirtualBox.zip\n",
            "Resolving download.microsoft.com (download.microsoft.com)... 72.246.252.126, 2600:1402:6800:297::e59, 2600:1402:6800:283::e59\n",
            "Connecting to download.microsoft.com (download.microsoft.com)|72.246.252.126|:443... connected.\n",
            "HTTP request sent, awaiting response... 200 OK\n",
            "Length: 20806634113 (19G) [application/octet-stream]\n",
            "Saving to: ‘windev_VM_virtualbox’\n",
            "\n",
            "windev_VM_virtualbo 100%[===================>]  19.38G  54.3MB/s    in 6m 14s  \n",
            "\n",
            "2021-10-19 11:41:15 (53.0 MB/s) - ‘windev_VM_virtualbox’ saved [20806634113/20806634113]\n",
            "\n"
          ]
        }
      ]
    },
    {
      "cell_type": "code",
      "metadata": {
        "colab": {
          "base_uri": "https://localhost:8080/"
        },
        "id": "IIRbFLy-KUM6",
        "outputId": "a8136e3e-f0d8-4357-e14e-671feb6f79eb"
      },
      "source": [
        "!wget 'https://sourceforge.net/projects/osboxes/files/v/vb/55-U-u/21.04/64bit.7z/download'"
      ],
      "execution_count": 9,
      "outputs": [
        {
          "output_type": "stream",
          "name": "stdout",
          "text": [
            "--2021-10-19 11:41:15--  https://sourceforge.net/projects/osboxes/files/v/vb/55-U-u/21.04/64bit.7z/download\n",
            "Resolving sourceforge.net (sourceforge.net)... 204.68.111.105\n",
            "Connecting to sourceforge.net (sourceforge.net)|204.68.111.105|:443... connected.\n",
            "HTTP request sent, awaiting response... 302 Found\n",
            "Location: https://downloads.sourceforge.net/project/osboxes/v/vb/55-U-u/21.04/64bit.7z?ts=gAAAAABhbq7bPf12RrG1ekGgQ5WgEHGtuPU_kNa2Vip6uJkSLyf5MFCsiurskVRJMZdoZ1Sfacr_eFv8kzQmSaGO_fkVzpJSRg%3D%3D&use_mirror=iweb&r= [following]\n",
            "--2021-10-19 11:41:15--  https://downloads.sourceforge.net/project/osboxes/v/vb/55-U-u/21.04/64bit.7z?ts=gAAAAABhbq7bPf12RrG1ekGgQ5WgEHGtuPU_kNa2Vip6uJkSLyf5MFCsiurskVRJMZdoZ1Sfacr_eFv8kzQmSaGO_fkVzpJSRg%3D%3D&use_mirror=iweb&r=\n",
            "Resolving downloads.sourceforge.net (downloads.sourceforge.net)... 204.68.111.105\n",
            "Connecting to downloads.sourceforge.net (downloads.sourceforge.net)|204.68.111.105|:443... connected.\n",
            "HTTP request sent, awaiting response... 302 Found\n",
            "Location: https://iweb.dl.sourceforge.net/project/osboxes/v/vb/55-U-u/21.04/64bit.7z [following]\n",
            "--2021-10-19 11:41:16--  https://iweb.dl.sourceforge.net/project/osboxes/v/vb/55-U-u/21.04/64bit.7z\n",
            "Resolving iweb.dl.sourceforge.net (iweb.dl.sourceforge.net)... 192.175.120.182, 2607:f748:10:12::5f:2\n",
            "Connecting to iweb.dl.sourceforge.net (iweb.dl.sourceforge.net)|192.175.120.182|:443... connected.\n",
            "HTTP request sent, awaiting response... 200 OK\n",
            "Length: 2183946920 (2.0G) [application/x-7z-compressed]\n",
            "Saving to: ‘download’\n",
            "\n",
            "download            100%[===================>]   2.03G  39.6MB/s    in 48s     \n",
            "\n",
            "2021-10-19 11:42:04 (43.6 MB/s) - ‘download’ saved [2183946920/2183946920]\n",
            "\n"
          ]
        }
      ]
    },
    {
      "cell_type": "markdown",
      "metadata": {
        "id": "vWCrVs29LlPu"
      },
      "source": [
        "# Convertendo texto em fala"
      ]
    },
    {
      "cell_type": "code",
      "metadata": {
        "colab": {
          "base_uri": "https://localhost:8080/"
        },
        "id": "HBJI6twNd-tT",
        "outputId": "770f4060-141f-4451-916f-e11b2fd29f56"
      },
      "source": [
        "!pip install gTTS"
      ],
      "execution_count": 10,
      "outputs": [
        {
          "output_type": "stream",
          "name": "stdout",
          "text": [
            "Collecting gTTS\n",
            "  Downloading gTTS-2.2.3-py3-none-any.whl (25 kB)\n",
            "Requirement already satisfied: click in /usr/local/lib/python3.7/dist-packages (from gTTS) (7.1.2)\n",
            "Requirement already satisfied: requests in /usr/local/lib/python3.7/dist-packages (from gTTS) (2.23.0)\n",
            "Requirement already satisfied: six in /usr/local/lib/python3.7/dist-packages (from gTTS) (1.15.0)\n",
            "Requirement already satisfied: urllib3!=1.25.0,!=1.25.1,<1.26,>=1.21.1 in /usr/local/lib/python3.7/dist-packages (from requests->gTTS) (1.24.3)\n",
            "Requirement already satisfied: idna<3,>=2.5 in /usr/local/lib/python3.7/dist-packages (from requests->gTTS) (2.10)\n",
            "Requirement already satisfied: certifi>=2017.4.17 in /usr/local/lib/python3.7/dist-packages (from requests->gTTS) (2021.5.30)\n",
            "Requirement already satisfied: chardet<4,>=3.0.2 in /usr/local/lib/python3.7/dist-packages (from requests->gTTS) (3.0.4)\n",
            "Installing collected packages: gTTS\n",
            "Successfully installed gTTS-2.2.3\n"
          ]
        }
      ]
    },
    {
      "cell_type": "code",
      "metadata": {
        "colab": {
          "base_uri": "https://localhost:8080/",
          "height": 75
        },
        "id": "arezatuueCBM",
        "outputId": "920c7b89-b4bb-45bf-8caf-2666d002e283"
      },
      "source": [
        "from gtts import gTTS\n",
        "from IPython.display import Audio\n",
        "\n",
        "tts = gTTS('The book on the table')\n",
        "\n",
        "arquivo_som = '1.wav'\n",
        "\n",
        "tts.save(arquivo_som)\n",
        "\n",
        "Audio(arquivo_som, autoplay=True)"
      ],
      "execution_count": 11,
      "outputs": [
        {
          "output_type": "execute_result",
          "data": {
            "text/html": [
              "\n",
              "                <audio controls=\"controls\" autoplay=\"autoplay\">\n",
              "                    <source src=\"data:audio/x-wav;base64,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\" type=\"audio/x-wav\" />\n",
              "                    Your browser does not support the audio element.\n",
              "                </audio>\n",
              "              "
            ],
            "text/plain": [
              "<IPython.lib.display.Audio object>"
            ]
          },
          "metadata": {},
          "execution_count": 11
        }
      ]
    },
    {
      "cell_type": "markdown",
      "metadata": {
        "id": "-OI43ZNLjo5Y"
      },
      "source": [
        "# Baixando vídeos do youtube"
      ]
    },
    {
      "cell_type": "code",
      "metadata": {
        "colab": {
          "base_uri": "https://localhost:8080/"
        },
        "id": "MRbwtrrgjpXg",
        "outputId": "871770de-ea27-4ae1-c33c-2ffc61fd1fbc"
      },
      "source": [
        "!pip3 install pytube "
      ],
      "execution_count": 12,
      "outputs": [
        {
          "output_type": "stream",
          "name": "stdout",
          "text": [
            "Collecting pytube\n",
            "  Downloading pytube-11.0.1-py3-none-any.whl (56 kB)\n",
            "\u001b[?25l\r\u001b[K     |█████▉                          | 10 kB 27.6 MB/s eta 0:00:01\r\u001b[K     |███████████▋                    | 20 kB 27.6 MB/s eta 0:00:01\r\u001b[K     |█████████████████▌              | 30 kB 10.5 MB/s eta 0:00:01\r\u001b[K     |███████████████████████▎        | 40 kB 8.9 MB/s eta 0:00:01\r\u001b[K     |█████████████████████████████▏  | 51 kB 5.2 MB/s eta 0:00:01\r\u001b[K     |████████████████████████████████| 56 kB 1.9 MB/s \n",
            "\u001b[?25hInstalling collected packages: pytube\n",
            "Successfully installed pytube-11.0.1\n"
          ]
        }
      ]
    },
    {
      "cell_type": "code",
      "metadata": {
        "colab": {
          "base_uri": "https://localhost:8080/",
          "height": 35
        },
        "id": "ETlDqArOjtaP",
        "outputId": "77eb0c1b-04e9-4574-c6e6-b74fb5daed2a"
      },
      "source": [
        "import pytube\n",
        "\n",
        "url = 'https://www.youtube.com/watch?v=YyWMN_0g3BQ'\n",
        "\n",
        "youtube = pytube.YouTube(url)\n",
        "\n",
        "video = youtube.streams.first()\n",
        "\n",
        "video.download()"
      ],
      "execution_count": 13,
      "outputs": [
        {
          "output_type": "execute_result",
          "data": {
            "application/vnd.google.colaboratory.intrinsic+json": {
              "type": "string"
            },
            "text/plain": [
              "'/content/O que vem DEPOIS do Hello World  Consertando meu C.3gpp'"
            ]
          },
          "metadata": {},
          "execution_count": 13
        }
      ]
    },
    {
      "cell_type": "markdown",
      "metadata": {
        "id": "mom-OqcyQC1z"
      },
      "source": [
        "# Calendário"
      ]
    },
    {
      "cell_type": "code",
      "metadata": {
        "colab": {
          "base_uri": "https://localhost:8080/"
        },
        "id": "Cueets_hQC15",
        "outputId": "007f513f-aeed-484f-c6d5-e50cd2362f48"
      },
      "source": [
        "import calendar\n",
        "\n",
        "print(calendar.month(2021,10))"
      ],
      "execution_count": 14,
      "outputs": [
        {
          "output_type": "stream",
          "name": "stdout",
          "text": [
            "    October 2021\n",
            "Mo Tu We Th Fr Sa Su\n",
            "             1  2  3\n",
            " 4  5  6  7  8  9 10\n",
            "11 12 13 14 15 16 17\n",
            "18 19 20 21 22 23 24\n",
            "25 26 27 28 29 30 31\n",
            "\n"
          ]
        }
      ]
    }
  ]
}