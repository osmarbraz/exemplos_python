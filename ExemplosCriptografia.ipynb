{
  "nbformat": 4,
  "nbformat_minor": 0,
  "metadata": {
    "colab": {
      "provenance": [],
      "toc_visible": true,
      "authorship_tag": "ABX9TyNzGjVR8VJHoVPUw5a7b6Qg",
      "include_colab_link": true
    },
    "kernelspec": {
      "name": "python3",
      "display_name": "Python 3"
    },
    "language_info": {
      "name": "python"
    }
  },
  "cells": [
    {
      "cell_type": "markdown",
      "metadata": {
        "id": "view-in-github",
        "colab_type": "text"
      },
      "source": [
        "<a href=\"https://colab.research.google.com/github/osmarbraz/exemplos_python/blob/master/ExemplosCriptografia.ipynb\" target=\"_parent\"><img src=\"https://colab.research.google.com/assets/colab-badge.svg\" alt=\"Open In Colab\"/></a>"
      ]
    },
    {
      "cell_type": "markdown",
      "source": [
        "# Exemplos de criptografia"
      ],
      "metadata": {
        "id": "1CSfq4F75Ye8"
      }
    },
    {
      "cell_type": "markdown",
      "metadata": {
        "id": "rCauvICF5I2y"
      },
      "source": [
        "### Introdução a manipulação de string"
      ]
    },
    {
      "cell_type": "code",
      "metadata": {
        "colab": {
          "base_uri": "https://localhost:8080/"
        },
        "id": "poC_iu3s5JZn",
        "outputId": "f1dfb645-094e-4642-fd3a-b5f0791a2477"
      },
      "source": [
        "texto = \"Bom dia!\"\n",
        "\n",
        "# len retorna o tamanho do texto.\n",
        "print(len(texto))"
      ],
      "execution_count": 1,
      "outputs": [
        {
          "output_type": "stream",
          "name": "stdout",
          "text": [
            "8\n"
          ]
        }
      ]
    },
    {
      "cell_type": "code",
      "source": [
        "# Mostra toda a string\n",
        "print(texto)"
      ],
      "metadata": {
        "colab": {
          "base_uri": "https://localhost:8080/"
        },
        "id": "f3lxEa30G2qk",
        "outputId": "707be360-3dc3-45ec-d149-7c2858457d25"
      },
      "execution_count": 2,
      "outputs": [
        {
          "output_type": "stream",
          "name": "stdout",
          "text": [
            "Bom dia!\n"
          ]
        }
      ]
    },
    {
      "cell_type": "code",
      "source": [
        "# Mostra a letra da posição 0 do texto\n",
        "print(texto[0])"
      ],
      "metadata": {
        "colab": {
          "base_uri": "https://localhost:8080/"
        },
        "id": "iKuhr7EfG4yI",
        "outputId": "28f4df54-1176-45cd-dddd-1bcc8e03dec6"
      },
      "execution_count": 3,
      "outputs": [
        {
          "output_type": "stream",
          "name": "stdout",
          "text": [
            "B\n"
          ]
        }
      ]
    },
    {
      "cell_type": "code",
      "source": [
        "# Upper retorna todas as letras em maiúsculo\n",
        "print(texto.upper())"
      ],
      "metadata": {
        "colab": {
          "base_uri": "https://localhost:8080/"
        },
        "id": "E752YC2oPt0S",
        "outputId": "34719b38-22bc-402c-8e8f-d74cc927599d"
      },
      "execution_count": 4,
      "outputs": [
        {
          "output_type": "stream",
          "name": "stdout",
          "text": [
            "BOM DIA!\n"
          ]
        }
      ]
    },
    {
      "cell_type": "code",
      "source": [
        "# Lower retorna todas as letras em minúsculo\n",
        "print(texto.lower())"
      ],
      "metadata": {
        "colab": {
          "base_uri": "https://localhost:8080/"
        },
        "id": "veolStl1P0Ur",
        "outputId": "5989603f-3e6e-44cd-a13e-087ee4fbce5e"
      },
      "execution_count": 5,
      "outputs": [
        {
          "output_type": "stream",
          "name": "stdout",
          "text": [
            "bom dia!\n"
          ]
        }
      ]
    },
    {
      "cell_type": "markdown",
      "source": [
        "tabela ASCII\n",
        "\n",
        "https://www.ime.usp.br/~pf/algoritmos/apend/ascii.html"
      ],
      "metadata": {
        "id": "5_gkjrXC6ss1"
      }
    },
    {
      "cell_type": "code",
      "metadata": {
        "colab": {
          "base_uri": "https://localhost:8080/"
        },
        "id": "IEXo69aF5XhZ",
        "outputId": "f549cb2a-edb4-45e5-887b-16717a0c794d"
      },
      "source": [
        "# ord retorna o código ASCII da posição 0 do texto\n",
        "print(ord(texto[0]))\n",
        "\n",
        "# soma 3 ao código ASCII da posição 0 do texto\n",
        "print(ord(texto[0])+3)\n",
        "\n",
        "# ord mostra a letra da soma de 3 ao código ascii da posição 0 do texto\n",
        "print(chr(ord(texto[0])+3))"
      ],
      "execution_count": 6,
      "outputs": [
        {
          "output_type": "stream",
          "name": "stdout",
          "text": [
            "66\n",
            "69\n",
            "E\n"
          ]
        }
      ]
    },
    {
      "cell_type": "code",
      "metadata": {
        "colab": {
          "base_uri": "https://localhost:8080/"
        },
        "id": "LBKjWlbg5d8g",
        "outputId": "983b050c-6bbc-45af-cd9a-3cf979a45f5a"
      },
      "source": [
        "# Percorre todas as letras do texto\n",
        "for letra in texto:\n",
        "\n",
        "  # Mostra a letra, o código ASCII da letra, soma 3 ao códig ascii, mostra a letra do código ascii somado com 3\n",
        "  print(letra , ord(letra), ord(letra)+3, chr(ord(letra)+ 3))"
      ],
      "execution_count": 7,
      "outputs": [
        {
          "output_type": "stream",
          "name": "stdout",
          "text": [
            "B 66 69 E\n",
            "o 111 114 r\n",
            "m 109 112 p\n",
            "  32 35 #\n",
            "d 100 103 g\n",
            "i 105 108 l\n",
            "a 97 100 d\n",
            "! 33 36 $\n"
          ]
        }
      ]
    },
    {
      "cell_type": "markdown",
      "metadata": {
        "id": "RzYJYkx45OLn"
      },
      "source": [
        "https://www.tutorialspoint.com/cryptography_with_python/index.htm"
      ]
    },
    {
      "cell_type": "markdown",
      "source": [
        "## Cifra de cesar"
      ],
      "metadata": {
        "id": "TtCWVPyQ5Om7"
      }
    },
    {
      "cell_type": "markdown",
      "source": [
        "### Criptografando"
      ],
      "metadata": {
        "id": "Rn7_tVszIVwz"
      }
    },
    {
      "cell_type": "code",
      "source": [
        "def cifraCesar(deslocamento, texto):\n",
        "\n",
        "  # Alfabeto formado por 26 letras\n",
        "  alfabeto = 'ABCDEFGHIJKLMNOPQRSTUVWXYZ'\n",
        "\n",
        "  # Texto cifrado de retorno\n",
        "  textoCifrado = \"\"\n",
        "\n",
        "  # Coloca todas as letras em maiúsculo\n",
        "  texto = texto.upper()\n",
        "\n",
        "  # Percorre o texto da mensagem\n",
        "  for i in texto:\n",
        "\n",
        "    # Recupera a posição da letra da posição i do texto no alfabeto e soma com o deslocamento\n",
        "    # Divide a soma por 26 e recupera o resto\n",
        "    k = (alfabeto.index(i) + deslocamento) % 26\n",
        "\n",
        "    # Concatena o texto cifrado com a letra\n",
        "    textoCifrado = textoCifrado + alfabeto[k]\n",
        "\n",
        "  return textoCifrado"
      ],
      "metadata": {
        "id": "7LNO3XdEH6Bn"
      },
      "execution_count": 8,
      "outputs": []
    },
    {
      "cell_type": "code",
      "source": [
        "deslocamento = 3\n",
        "\n",
        "texto=\"CIFRADECESAR\"\n",
        "\n",
        "textoCifrado = cifraCesar(deslocamento, texto)\n",
        "\n",
        "print(\"Texto claro  :\", texto)\n",
        "print(\"Texto cifrado:\",textoCifrado)"
      ],
      "metadata": {
        "colab": {
          "base_uri": "https://localhost:8080/"
        },
        "id": "F0bap9NxHKiX",
        "outputId": "aca12fc6-e35b-4fe5-a63d-520844a8012d"
      },
      "execution_count": 9,
      "outputs": [
        {
          "output_type": "stream",
          "name": "stdout",
          "text": [
            "Texto claro  : CIFRADECESAR\n",
            "Texto cifrado: FLIUDGHFHVDU\n"
          ]
        }
      ]
    },
    {
      "cell_type": "markdown",
      "source": [
        "### Descriptografando"
      ],
      "metadata": {
        "id": "fPcFbJs0KUif"
      }
    },
    {
      "cell_type": "code",
      "source": [
        "deslocamento = -3\n",
        "\n",
        "texto=\"FLIUDGHFHVDU\"\n",
        "\n",
        "textoCifrado = cifraCesar(deslocamento, texto)\n",
        "\n",
        "print(\"Texto claro  :\", texto)\n",
        "print(\"Texto cifrado:\",textoCifrado)"
      ],
      "metadata": {
        "colab": {
          "base_uri": "https://localhost:8080/"
        },
        "id": "nl-DEx7uJspC",
        "outputId": "e154d4b4-eefe-440c-8298-4c8f09490eb3"
      },
      "execution_count": 10,
      "outputs": [
        {
          "output_type": "stream",
          "name": "stdout",
          "text": [
            "Texto claro  : FLIUDGHFHVDU\n",
            "Texto cifrado: CIFRADECESAR\n"
          ]
        }
      ]
    },
    {
      "cell_type": "markdown",
      "source": [
        "## Quadrado de vigenère"
      ],
      "metadata": {
        "id": "xBnZPrG1Hf2A"
      }
    },
    {
      "cell_type": "markdown",
      "source": [
        "### Criptografando"
      ],
      "metadata": {
        "id": "e7nenl8kOGMM"
      }
    },
    {
      "cell_type": "code",
      "source": [
        "texto = \"DESCUBRAMOMEUSEGREDO\"\n",
        "chave = \"SENHA\"\n",
        "\n",
        "alfabeto = 'ABCDEFGHIJKLMNOPQRSTUVWXYZ'\n",
        "\n",
        "# Repete a chave para o tamanho do texto\n",
        "novaChave = chave * int((len(texto)/len(chave)))\n",
        "novaChave += chave[:len(novaChave)]\n",
        "\n",
        "print (\"Texto claro       : \" + texto)\n",
        "print (\"Nova chave        : \" + novaChave)\n",
        "print (\"Alfabeto original : \" + alfabeto)\n",
        "\n",
        "textoCifrado = \"\"\n",
        "\n",
        "# Percore as letras do texto\n",
        "for i, letra in enumerate(texto):\n",
        "\n",
        "    # Procura o indice da letra da posição i da nova chave (novaChave[i]) no alfabeto\n",
        "    i_chave = alfabeto.find(novaChave[i])\n",
        "\n",
        "    # Gera o alfabeto cifrado\n",
        "    # As letras da posição i da chave até o fim é concatenado com as letras do início do alfabeto até a posição i da chave.\n",
        "    alfabeto_cifrado = alfabeto[i_chave:] + alfabeto[:i_chave]\n",
        "    print(\"\\n   Alfabeto crifrado:\", alfabeto_cifrado)\n",
        "\n",
        "    # Procura o índice da letra da mensagem no alfabeto cifrado\n",
        "    i_letra_cifrada = alfabeto.find(letra)\n",
        "\n",
        "    print(\"    Letra: \", letra, \" coluna \", alfabeto.find(letra)+1, \" linha \", alfabeto.find(novaChave[i])+1, \" cifrado para \" , alfabeto_cifrado[i_letra_cifrada])\n",
        "\n",
        "    # Concatena as letras cifradas\n",
        "    textoCifrado = textoCifrado + alfabeto_cifrado[i_letra_cifrada]\n",
        "\n",
        "print (\"Texto cifrado: \" + textoCifrado)"
      ],
      "metadata": {
        "colab": {
          "base_uri": "https://localhost:8080/"
        },
        "id": "KQM_pyFG8sf7",
        "outputId": "0ab0e177-b9d4-40e9-d5d8-957e1edbb79d"
      },
      "execution_count": 11,
      "outputs": [
        {
          "output_type": "stream",
          "name": "stdout",
          "text": [
            "Texto claro       : DESCUBRAMOMEUSEGREDO\n",
            "Nova chave        : SENHASENHASENHASENHASENHA\n",
            "Alfabeto original : ABCDEFGHIJKLMNOPQRSTUVWXYZ\n",
            "\n",
            "   Alfabeto crifrado: STUVWXYZABCDEFGHIJKLMNOPQR\n",
            "    Letra:  D  coluna  4  linha  19  cifrado para  V\n",
            "\n",
            "   Alfabeto crifrado: EFGHIJKLMNOPQRSTUVWXYZABCD\n",
            "    Letra:  E  coluna  5  linha  5  cifrado para  I\n",
            "\n",
            "   Alfabeto crifrado: NOPQRSTUVWXYZABCDEFGHIJKLM\n",
            "    Letra:  S  coluna  19  linha  14  cifrado para  F\n",
            "\n",
            "   Alfabeto crifrado: HIJKLMNOPQRSTUVWXYZABCDEFG\n",
            "    Letra:  C  coluna  3  linha  8  cifrado para  J\n",
            "\n",
            "   Alfabeto crifrado: ABCDEFGHIJKLMNOPQRSTUVWXYZ\n",
            "    Letra:  U  coluna  21  linha  1  cifrado para  U\n",
            "\n",
            "   Alfabeto crifrado: STUVWXYZABCDEFGHIJKLMNOPQR\n",
            "    Letra:  B  coluna  2  linha  19  cifrado para  T\n",
            "\n",
            "   Alfabeto crifrado: EFGHIJKLMNOPQRSTUVWXYZABCD\n",
            "    Letra:  R  coluna  18  linha  5  cifrado para  V\n",
            "\n",
            "   Alfabeto crifrado: NOPQRSTUVWXYZABCDEFGHIJKLM\n",
            "    Letra:  A  coluna  1  linha  14  cifrado para  N\n",
            "\n",
            "   Alfabeto crifrado: HIJKLMNOPQRSTUVWXYZABCDEFG\n",
            "    Letra:  M  coluna  13  linha  8  cifrado para  T\n",
            "\n",
            "   Alfabeto crifrado: ABCDEFGHIJKLMNOPQRSTUVWXYZ\n",
            "    Letra:  O  coluna  15  linha  1  cifrado para  O\n",
            "\n",
            "   Alfabeto crifrado: STUVWXYZABCDEFGHIJKLMNOPQR\n",
            "    Letra:  M  coluna  13  linha  19  cifrado para  E\n",
            "\n",
            "   Alfabeto crifrado: EFGHIJKLMNOPQRSTUVWXYZABCD\n",
            "    Letra:  E  coluna  5  linha  5  cifrado para  I\n",
            "\n",
            "   Alfabeto crifrado: NOPQRSTUVWXYZABCDEFGHIJKLM\n",
            "    Letra:  U  coluna  21  linha  14  cifrado para  H\n",
            "\n",
            "   Alfabeto crifrado: HIJKLMNOPQRSTUVWXYZABCDEFG\n",
            "    Letra:  S  coluna  19  linha  8  cifrado para  Z\n",
            "\n",
            "   Alfabeto crifrado: ABCDEFGHIJKLMNOPQRSTUVWXYZ\n",
            "    Letra:  E  coluna  5  linha  1  cifrado para  E\n",
            "\n",
            "   Alfabeto crifrado: STUVWXYZABCDEFGHIJKLMNOPQR\n",
            "    Letra:  G  coluna  7  linha  19  cifrado para  Y\n",
            "\n",
            "   Alfabeto crifrado: EFGHIJKLMNOPQRSTUVWXYZABCD\n",
            "    Letra:  R  coluna  18  linha  5  cifrado para  V\n",
            "\n",
            "   Alfabeto crifrado: NOPQRSTUVWXYZABCDEFGHIJKLM\n",
            "    Letra:  E  coluna  5  linha  14  cifrado para  R\n",
            "\n",
            "   Alfabeto crifrado: HIJKLMNOPQRSTUVWXYZABCDEFG\n",
            "    Letra:  D  coluna  4  linha  8  cifrado para  K\n",
            "\n",
            "   Alfabeto crifrado: ABCDEFGHIJKLMNOPQRSTUVWXYZ\n",
            "    Letra:  O  coluna  15  linha  1  cifrado para  O\n",
            "Texto cifrado: VIFJUTVNTOEIHZEYVRKO\n"
          ]
        }
      ]
    },
    {
      "cell_type": "markdown",
      "source": [
        "### Descriptografando"
      ],
      "metadata": {
        "id": "pn80OGWgOLzq"
      }
    },
    {
      "cell_type": "code",
      "source": [
        "texto = \"VIFJUTVNTOEIHZEYVRKO\"\n",
        "chave = \"SENHA\"\n",
        "\n",
        "alfabeto = 'ABCDEFGHIJKLMNOPQRSTUVWXYZ'\n",
        "\n",
        "# Repete a chave para o tamanho do texto\n",
        "novaChave = chave * int((len(texto)/len(chave)))\n",
        "novaChave += chave[:len(novaChave)]\n",
        "\n",
        "print (\"Texto claro       : \" + texto)\n",
        "print (\"Nova chave        : \" + novaChave)\n",
        "print (\"Alfabeto original : \" + alfabeto)\n",
        "\n",
        "textoCifrado = \"\"\n",
        "\n",
        "# Percore as letras do texto\n",
        "for i, letra in enumerate(texto):\n",
        "\n",
        "    # Procura o indice da letra da posição i da nova chave (novaChave[i]) no alfabeto\n",
        "    i_chave = alfabeto.find(novaChave[i])\n",
        "\n",
        "    # Gera o alfabeto cifrado\n",
        "    # As letras da posição i da chave até o fim é concatenado com as letras do início do alfabeto até a posição i da chave.\n",
        "    alfabeto_cifrado = alfabeto[i_chave:] + alfabeto[:i_chave]\n",
        "    print(\"\\n   Alfabeto crifrado:\", alfabeto_cifrado)\n",
        "\n",
        "    # Procura o índice da letra da mensagem no alfabeto cifrado\n",
        "    i_letra_cifrada = alfabeto_cifrado.find(letra)\n",
        "\n",
        "    print(\"    Letra: \", letra, \" coluna \", alfabeto.find(letra)+1, \" linha \", alfabeto.find(novaChave[i])+1, \" cifrado para \" , alfabeto[i_letra_cifrada])\n",
        "\n",
        "    # Concatena as letras cifradas\n",
        "    textoCifrado = textoCifrado + alfabeto[i_letra_cifrada]\n",
        "\n",
        "print (\"Texto cifrado: \" + textoCifrado)"
      ],
      "metadata": {
        "colab": {
          "base_uri": "https://localhost:8080/"
        },
        "id": "CpDvuVUcONAz",
        "outputId": "02ca7db1-49f9-403d-e0d0-3a49a5902b16"
      },
      "execution_count": 12,
      "outputs": [
        {
          "output_type": "stream",
          "name": "stdout",
          "text": [
            "Texto claro       : VIFJUTVNTOEIHZEYVRKO\n",
            "Nova chave        : SENHASENHASENHASENHASENHA\n",
            "Alfabeto original : ABCDEFGHIJKLMNOPQRSTUVWXYZ\n",
            "\n",
            "   Alfabeto crifrado: STUVWXYZABCDEFGHIJKLMNOPQR\n",
            "    Letra:  V  coluna  22  linha  19  cifrado para  D\n",
            "\n",
            "   Alfabeto crifrado: EFGHIJKLMNOPQRSTUVWXYZABCD\n",
            "    Letra:  I  coluna  9  linha  5  cifrado para  E\n",
            "\n",
            "   Alfabeto crifrado: NOPQRSTUVWXYZABCDEFGHIJKLM\n",
            "    Letra:  F  coluna  6  linha  14  cifrado para  S\n",
            "\n",
            "   Alfabeto crifrado: HIJKLMNOPQRSTUVWXYZABCDEFG\n",
            "    Letra:  J  coluna  10  linha  8  cifrado para  C\n",
            "\n",
            "   Alfabeto crifrado: ABCDEFGHIJKLMNOPQRSTUVWXYZ\n",
            "    Letra:  U  coluna  21  linha  1  cifrado para  U\n",
            "\n",
            "   Alfabeto crifrado: STUVWXYZABCDEFGHIJKLMNOPQR\n",
            "    Letra:  T  coluna  20  linha  19  cifrado para  B\n",
            "\n",
            "   Alfabeto crifrado: EFGHIJKLMNOPQRSTUVWXYZABCD\n",
            "    Letra:  V  coluna  22  linha  5  cifrado para  R\n",
            "\n",
            "   Alfabeto crifrado: NOPQRSTUVWXYZABCDEFGHIJKLM\n",
            "    Letra:  N  coluna  14  linha  14  cifrado para  A\n",
            "\n",
            "   Alfabeto crifrado: HIJKLMNOPQRSTUVWXYZABCDEFG\n",
            "    Letra:  T  coluna  20  linha  8  cifrado para  M\n",
            "\n",
            "   Alfabeto crifrado: ABCDEFGHIJKLMNOPQRSTUVWXYZ\n",
            "    Letra:  O  coluna  15  linha  1  cifrado para  O\n",
            "\n",
            "   Alfabeto crifrado: STUVWXYZABCDEFGHIJKLMNOPQR\n",
            "    Letra:  E  coluna  5  linha  19  cifrado para  M\n",
            "\n",
            "   Alfabeto crifrado: EFGHIJKLMNOPQRSTUVWXYZABCD\n",
            "    Letra:  I  coluna  9  linha  5  cifrado para  E\n",
            "\n",
            "   Alfabeto crifrado: NOPQRSTUVWXYZABCDEFGHIJKLM\n",
            "    Letra:  H  coluna  8  linha  14  cifrado para  U\n",
            "\n",
            "   Alfabeto crifrado: HIJKLMNOPQRSTUVWXYZABCDEFG\n",
            "    Letra:  Z  coluna  26  linha  8  cifrado para  S\n",
            "\n",
            "   Alfabeto crifrado: ABCDEFGHIJKLMNOPQRSTUVWXYZ\n",
            "    Letra:  E  coluna  5  linha  1  cifrado para  E\n",
            "\n",
            "   Alfabeto crifrado: STUVWXYZABCDEFGHIJKLMNOPQR\n",
            "    Letra:  Y  coluna  25  linha  19  cifrado para  G\n",
            "\n",
            "   Alfabeto crifrado: EFGHIJKLMNOPQRSTUVWXYZABCD\n",
            "    Letra:  V  coluna  22  linha  5  cifrado para  R\n",
            "\n",
            "   Alfabeto crifrado: NOPQRSTUVWXYZABCDEFGHIJKLM\n",
            "    Letra:  R  coluna  18  linha  14  cifrado para  E\n",
            "\n",
            "   Alfabeto crifrado: HIJKLMNOPQRSTUVWXYZABCDEFG\n",
            "    Letra:  K  coluna  11  linha  8  cifrado para  D\n",
            "\n",
            "   Alfabeto crifrado: ABCDEFGHIJKLMNOPQRSTUVWXYZ\n",
            "    Letra:  O  coluna  15  linha  1  cifrado para  O\n",
            "Texto cifrado: DESCUBRAMOMEUSEGREDO\n"
          ]
        }
      ]
    },
    {
      "cell_type": "markdown",
      "source": [
        "## Cifra Binária XOR(^)\n",
        "\n",
        "https://pt.khanacademy.org/computing/computer-science/cryptography/ciphers/a/xor-and-the-one-time-pad"
      ],
      "metadata": {
        "id": "hTTyiFghetV3"
      }
    },
    {
      "cell_type": "markdown",
      "source": [
        "### Criptografando"
      ],
      "metadata": {
        "id": "bSGm7QRAev6m"
      }
    },
    {
      "cell_type": "code",
      "source": [
        "texto = \"DESCUBRAMOMEUSEGREDO\"\n",
        "chave = \"SENHA\"\n",
        "\n",
        "# Repete a chave para o tamanho do texto\n",
        "novaChave = chave * int((len(texto)/len(chave)))\n",
        "novaChave += chave[:len(novaChave)]\n",
        "\n",
        "print (\"Texto claro       : \" , texto)\n",
        "print (\"Nova chave        : \" , novaChave)\n",
        "\n",
        "textoCifrado = \"\"\n",
        "\n",
        "# Percore as letras do texto\n",
        "for i, letra in enumerate(texto):\n",
        "\n",
        "    print(\"    \", bin(ord(letra)), \"^\" , bin(ord(novaChave[i])), \"=\" , bin(ord(letra) ^ ord(novaChave[i])))\n",
        "\n",
        "    # Concatena as letras cifradas\n",
        "    textoCifrado = textoCifrado + chr(ord(letra) ^ ord(novaChave[i]))\n",
        "\n",
        "print (\"Texto cifrado     : \" , textoCifrado)\n",
        "\n"
      ],
      "metadata": {
        "id": "i3I_rakkewJ_",
        "colab": {
          "base_uri": "https://localhost:8080/"
        },
        "outputId": "5ed65f7d-126f-4298-fe89-62eede56d725"
      },
      "execution_count": 13,
      "outputs": [
        {
          "output_type": "stream",
          "name": "stdout",
          "text": [
            "Texto claro       :  DESCUBRAMOMEUSEGREDO\n",
            "Nova chave        :  SENHASENHASENHASENHASENHA\n",
            "     0b1000100 ^ 0b1010011 = 0b10111\n",
            "     0b1000101 ^ 0b1000101 = 0b0\n",
            "     0b1010011 ^ 0b1001110 = 0b11101\n",
            "     0b1000011 ^ 0b1001000 = 0b1011\n",
            "     0b1010101 ^ 0b1000001 = 0b10100\n",
            "     0b1000010 ^ 0b1010011 = 0b10001\n",
            "     0b1010010 ^ 0b1000101 = 0b10111\n",
            "     0b1000001 ^ 0b1001110 = 0b1111\n",
            "     0b1001101 ^ 0b1001000 = 0b101\n",
            "     0b1001111 ^ 0b1000001 = 0b1110\n",
            "     0b1001101 ^ 0b1010011 = 0b11110\n",
            "     0b1000101 ^ 0b1000101 = 0b0\n",
            "     0b1010101 ^ 0b1001110 = 0b11011\n",
            "     0b1010011 ^ 0b1001000 = 0b11011\n",
            "     0b1000101 ^ 0b1000001 = 0b100\n",
            "     0b1000111 ^ 0b1010011 = 0b10100\n",
            "     0b1010010 ^ 0b1000101 = 0b10111\n",
            "     0b1000101 ^ 0b1001110 = 0b1011\n",
            "     0b1000100 ^ 0b1001000 = 0b1100\n",
            "     0b1001111 ^ 0b1000001 = 0b1110\n",
            "Texto cifrado     :  \u0017\u0000\u001d\u000b\u0014\u0011\u0017\u000f\u0005\u000e\u001e\u0000\u001b\u001b\u0004\u0014\u0017\u000b\f\u000e\n"
          ]
        }
      ]
    },
    {
      "cell_type": "markdown",
      "source": [
        "### Descriptografando"
      ],
      "metadata": {
        "id": "KLIl8ulHe2ww"
      }
    },
    {
      "cell_type": "code",
      "source": [
        "texto =  \"\u0017�\u001d\u000b\u0014\u0011\u0017\u000f\u0005\u000e\u001e�\u001b\u001b\u0004\u0014\u0017\u000b\f\u000e\"\n",
        "chave = \"SENHA\"\n",
        "\n",
        "# Repete a chave para o tamanho do texto\n",
        "novaChave = chave * int((len(texto)/len(chave)))\n",
        "novaChave += chave[:len(novaChave)]\n",
        "\n",
        "print (\"Texto cifrado     : \" , texto)\n",
        "print (\"Nova chave        : \" , novaChave)\n",
        "\n",
        "textoCifrado = \"\"\n",
        "\n",
        "# Percore as letras do texto\n",
        "for i, letra in enumerate(texto):\n",
        "\n",
        "    # Concatena as letras cifradas\n",
        "    textoCifrado = textoCifrado + (chr(ord(letra) ^ ord(novaChave[i])))\n",
        "\n",
        "print (\"Texto claro       : \" , textoCifrado)"
      ],
      "metadata": {
        "id": "N-usRMRSe3Go",
        "colab": {
          "base_uri": "https://localhost:8080/"
        },
        "outputId": "d8a19551-578b-4956-d84a-6520a80cf2a2"
      },
      "execution_count": 14,
      "outputs": [
        {
          "output_type": "stream",
          "name": "stdout",
          "text": [
            "Texto cifrado     :  \u0017�\u001d\u000b\u0014\u0011\u0017\u000f\u0005\u000e\u001e�\u001b\u001b\u0004\u0014\u0017\u000b\f\u000e\n",
            "Nova chave        :  SENHASENHASENHASENHASENHA\n",
            "Texto claro       :  DﾸSCUBRAMOMﾸUSEGREDO\n"
          ]
        },
        {
          "output_type": "stream",
          "name": "stderr",
          "text": [
            "/usr/local/lib/python3.10/dist-packages/IPython/core/inputtransformer2.py:478: UserWarning: `make_tokens_by_line` received a list of lines which do not have lineending markers ('\\n', '\\r', '\\r\\n', '\\x0b', '\\x0c'), behavior will be unspecified\n",
            "  warnings.warn(\"`make_tokens_by_line` received a list of lines which do not have lineending markers ('\\\\n', '\\\\r', '\\\\r\\\\n', '\\\\x0b', '\\\\x0c'), behavior will be unspecified\")\n"
          ]
        }
      ]
    },
    {
      "cell_type": "markdown",
      "source": [
        "## RSA"
      ],
      "metadata": {
        "id": "snpulnUACoQM"
      }
    },
    {
      "cell_type": "markdown",
      "source": [
        "### Gerando a chave pública e privada"
      ],
      "metadata": {
        "id": "N6zxmhZtM2SM"
      }
    },
    {
      "cell_type": "code",
      "source": [
        "# Import da biblioteca\n",
        "import rsa\n",
        "\n",
        "# gerar chaves públicas e privadas com\n",
        "# método rsa.newkeys, este método aceita\n",
        "# comprimento da chave como seu parâmetro\n",
        "# comprimento da chave deve ser pelo menos 16\n",
        "chavePublica, chavePrivada = rsa.newkeys(512)\n",
        "\n",
        "print(chavePublica)\n",
        "print(chavePrivada)"
      ],
      "metadata": {
        "colab": {
          "base_uri": "https://localhost:8080/"
        },
        "id": "HRunRsvyMzg_",
        "outputId": "c84ae08a-23cc-4cb8-c68d-6c7e3190fc7d"
      },
      "execution_count": 15,
      "outputs": [
        {
          "output_type": "stream",
          "name": "stdout",
          "text": [
            "PublicKey(8878517186655871786307118799279438997928140305265851073698783235400871261219504244696306656504130281710476404046862263904736134804376588600120346363182891, 65537)\n",
            "PrivateKey(8878517186655871786307118799279438997928140305265851073698783235400871261219504244696306656504130281710476404046862263904736134804376588600120346363182891, 65537, 6948699262064985819663163365009704214134461030222561808934769515085852089633635622837148696618773840466842786541383801432622369148678835886440884634408545, 6475692775379410101281281398126482602610814190687099785635451298550391330414397597, 1371052873356191682018925648477250011249107685695148387852706551309363303)\n"
          ]
        }
      ]
    },
    {
      "cell_type": "markdown",
      "source": [
        "### Criptografando"
      ],
      "metadata": {
        "id": "WFysRpK8M6N1"
      }
    },
    {
      "cell_type": "code",
      "source": [
        "# Mensagem a ser criptografada\n",
        "textoClaro = \"Bom dia\"\n",
        "\n",
        "# O método rsa.encrypt é usado para criptografar\n",
        "# string com string de chave pública deve ser\n",
        "# codifica para string de bytes antes da criptografia\n",
        "# com método de codificação\n",
        "textoCifrado = rsa.encrypt(textoClaro.encode(),  chavePublica)\n",
        "\n",
        "print(\"Texto claro  : \", textoClaro)\n",
        "print(\"Texto Cifrado: \", textoCifrado)"
      ],
      "metadata": {
        "colab": {
          "base_uri": "https://localhost:8080/"
        },
        "id": "oGQ4Vcc0CrWt",
        "outputId": "a70f37e8-a925-4a75-b5ef-227ef6d5b042"
      },
      "execution_count": 16,
      "outputs": [
        {
          "output_type": "stream",
          "name": "stdout",
          "text": [
            "Texto claro  :  Bom dia\n",
            "Texto Cifrado:  b'\\x94\\x06\\x9dv\\x14\\xbav\\x0b\\xe4h\\x81\\x16G\\x80,\\xfd\\x11\\x8emp=\\x8fQW\\xd4t%,Z\\x11\\xf0@)\\x11\\x80\\xa4\\xb9\\x95\\xeb\\x04\\xfb\\xe3\\xa4\\xd9\\xd6$x1\\xc4\\x87\\n\\xe1\\xaa\\x15\\xe5\\xb4I\\t\\xf3\\x02\\xe1\\x001\\xde'\n"
          ]
        }
      ]
    },
    {
      "cell_type": "markdown",
      "source": [
        "### Descriptografando"
      ],
      "metadata": {
        "id": "ns2wspVRNChO"
      }
    },
    {
      "cell_type": "code",
      "source": [
        "# a mensagem criptografada pode ser descriptografada\n",
        "# com método ras.decrypt e chave privada\n",
        "# o método decrypt retorna uma string de bytes codificada,\n",
        "# use o método decode para convertê-lo em string\n",
        "# chave pública não pode ser usada para descriptografia\n",
        "textoLimpo = rsa.decrypt(textoCifrado, chavePrivada).decode()\n",
        "\n",
        "print(\"Texto descriptografado: \", textoLimpo)"
      ],
      "metadata": {
        "colab": {
          "base_uri": "https://localhost:8080/"
        },
        "id": "RoQsL5YrC2Dw",
        "outputId": "b9dc04d7-fccc-49ac-eb0f-875e8982ab76"
      },
      "execution_count": 17,
      "outputs": [
        {
          "output_type": "stream",
          "name": "stdout",
          "text": [
            "Texto descriptografado:  Bom dia\n"
          ]
        }
      ]
    },
    {
      "cell_type": "markdown",
      "metadata": {
        "id": "WdxmhxrTHMEK"
      },
      "source": [
        "## Validação CPF"
      ]
    },
    {
      "cell_type": "code",
      "metadata": {
        "colab": {
          "base_uri": "https://localhost:8080/"
        },
        "id": "sn6WjGyeHNiw",
        "outputId": "b5c39edd-b3e5-44d4-cc20-802afc731f21"
      },
      "source": [
        "cpf1 = \"12345678912\" # é invalido\n",
        "cpf = \"52998224725\" # é válido!\n",
        "\n",
        "# 5 * 10 + 2 * 9 + 9 * 8\n",
        "\n",
        "# Recupera os nome primeiros caracteres\n",
        "cpf_verificado = cpf[0:9]\n",
        "\n",
        "# Base inicial para multiplicação\n",
        "base = 10\n",
        "\n",
        "while len(cpf_verificado) < 11:\n",
        "  soma = 0\n",
        "\n",
        "  # Percorre a string dos nove primeiro caracteres\n",
        "  for n in cpf_verificado:\n",
        "      # Converte n para inteiro e multiplica pela base\n",
        "      soma = soma + int(n) * base\n",
        "      # Decrementa a base\n",
        "      base = base - 1\n",
        "\n",
        "  # Pega o resto da divisão por 11\n",
        "  digito = soma % 11\n",
        "\n",
        "  if digito < 2:\n",
        "        digito = 0\n",
        "  else:\n",
        "        digito = 11 - digito\n",
        "\n",
        "  # Concatena o digito calculado aos 9 primeiros digitos\n",
        "  cpf_verificado = cpf_verificado  + str(digito)\n",
        "\n",
        "  # Base aumenta para 11 pois temos um digito adicional\n",
        "  base = 11\n",
        "\n",
        "if cpf_verificado == cpf:\n",
        "  print(\"CPF Válido:\", cpf_verificado)\n",
        "else:\n",
        "  print(\"CPF Inválido:\", cpf_verificado)"
      ],
      "execution_count": 18,
      "outputs": [
        {
          "output_type": "stream",
          "name": "stdout",
          "text": [
            "CPF Válido: 52998224725\n"
          ]
        }
      ]
    },
    {
      "cell_type": "markdown",
      "source": [
        "# Diversos"
      ],
      "metadata": {
        "id": "JrdKBh1AKIwi"
      }
    },
    {
      "cell_type": "markdown",
      "source": [
        "### Criptografando"
      ],
      "metadata": {
        "id": "dyNS9kQm6jWP"
      }
    },
    {
      "cell_type": "code",
      "metadata": {
        "colab": {
          "base_uri": "https://localhost:8080/"
        },
        "id": "9e3VVoxXBg2u",
        "outputId": "bf6d0d65-5dc6-4723-e00b-5357ee9417ae"
      },
      "source": [
        "# Criptografando\n",
        "texto = \"CIFRADECESAR\"\n",
        "deslocamento =3\n",
        "\n",
        "print (\"Texto claro : \" + texto)\n",
        "print (\"Deslocamento : \" + str(deslocamento))\n",
        "\n",
        "textoCifrado = \"\"\n",
        "\n",
        "# Percorre as letras do texto claro\n",
        "for letra in texto:\n",
        "\n",
        "    # Encripta letras maiúsculas no texto claro\n",
        "    if (letra.isupper()):\n",
        "      # 65 = A até 90 = Z\n",
        "      textoCifrado = textoCifrado + chr((ord(letra) + deslocamento-65) % 26 + 65)\n",
        "    # Encripta letras minúsculos no texto claro\n",
        "    else:\n",
        "      # 97 = a até 122 = z\n",
        "      textoCifrado = textoCifrado + chr((ord(letra) + deslocamento - 97) % 26 + 97)\n",
        "\n",
        "print (\"Texto cifrado: \" + textoCifrado)"
      ],
      "execution_count": 19,
      "outputs": [
        {
          "output_type": "stream",
          "name": "stdout",
          "text": [
            "Texto claro : CIFRADECESAR\n",
            "Deslocamento : 3\n",
            "Texto cifrado: FLIUDGHFHVDU\n"
          ]
        }
      ]
    },
    {
      "cell_type": "markdown",
      "source": [
        "### Descriptografando"
      ],
      "metadata": {
        "id": "8-ifAc9u6nO8"
      }
    },
    {
      "cell_type": "code",
      "source": [
        "# Descriptografando\n",
        "texto = \"FLIUDGHFHVDU\"\n",
        "deslocamento = -3\n",
        "\n",
        "print (\"Texto claro : \" + texto)\n",
        "print (\"Deslocamento : \" + str(deslocamento))\n",
        "\n",
        "textoCifrado = \"\"\n",
        "\n",
        "# Percorre as letras do texto claro\n",
        "for letra in texto:\n",
        "\n",
        "    # Encripta letras maiúsculas no texto claro\n",
        "    if (letra.isupper()):\n",
        "      # 65 = A\n",
        "      textoCifrado = textoCifrado  + chr((ord(letra) + deslocamento-65) % 26 + 65)\n",
        "    # Encripta letras minúsculos no texto claro\n",
        "    else:\n",
        "      # 97 = a\n",
        "      textoCifrado = textoCifrado + chr((ord(letra) + deslocamento - 97) % 26 + 97)\n",
        "\n",
        "print (\"Texto cifrado: \" + textoCifrado)"
      ],
      "metadata": {
        "colab": {
          "base_uri": "https://localhost:8080/"
        },
        "id": "WE6KDa4b5rq7",
        "outputId": "a1624f09-8d55-4609-f1eb-695fd3d00687"
      },
      "execution_count": 20,
      "outputs": [
        {
          "output_type": "stream",
          "name": "stdout",
          "text": [
            "Texto claro : FLIUDGHFHVDU\n",
            "Deslocamento : -3\n",
            "Texto cifrado: CIFRADECESAR\n"
          ]
        }
      ]
    }
  ]
}