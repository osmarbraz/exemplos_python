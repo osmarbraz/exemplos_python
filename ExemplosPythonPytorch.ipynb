{
  "nbformat": 4,
  "nbformat_minor": 0,
  "metadata": {
    "colab": {
      "name": "ExemplosPythonPytorch.ipynb",
      "provenance": [],
      "collapsed_sections": [],
      "toc_visible": true,
      "authorship_tag": "ABX9TyPohL2tnEYI74ZvK8F4uinC",
      "include_colab_link": true
    },
    "kernelspec": {
      "name": "python3",
      "display_name": "Python 3"
    }
  },
  "cells": [
    {
      "cell_type": "markdown",
      "metadata": {
        "id": "view-in-github",
        "colab_type": "text"
      },
      "source": [
        "<a href=\"https://colab.research.google.com/github/osmarbraz/exemplos_python/blob/master/ExemplosPythonPytorch.ipynb\" target=\"_parent\"><img src=\"https://colab.research.google.com/assets/colab-badge.svg\" alt=\"Open In Colab\"/></a>"
      ]
    },
    {
      "cell_type": "markdown",
      "metadata": {
        "id": "9VTUgBXSzaGh"
      },
      "source": [
        "#Exemplos de uso Pytorch\n",
        "\n",
        "O [PyTorch](https://en.wikipedia.org/wiki/PyTorch) tem  o objetivo de realizar cálculos em tensores sendo disponibilizado como uma biblioteca para o Python neste [link](https://pytorch.org/). \n",
        "\n",
        "[Tensores](https://pt.wikipedia.org/wiki/Tensor) são arrays  que no PyTorch foram projetados com duas propriedades adicionais: eles podem carregar a informação de todas as operações realizadas neles, e podem ser operados em GPU.\n",
        "\n",
        "O PyTorch faz com tensores o que o Numpy faz com arrays, mas com a propriedade adicional de guardar o histórico das operações matemáticas nos próprios objetos manipulados, e de ser mais rápido pelo processamento em GPU.\n",
        "\n",
        "Essa característica do PyTorch o habilita para sua principal função: a de ser uma biblioteca para o desenvolvimento de redes neurais.\n",
        "\n",
        "\n",
        "Exemplos de manipulação em tensores com o Pytorch.\n",
        "- Operações básicas com Tensores\n",
        "- Carregamento de dados com Pytorch\n",
        "  - Criando a Classe Dataset e DataLoader\n",
        "  - Utilizando TensorDataset e DataLoader\n",
        "\n",
        "Tutorial de introdução a tutores: https://www.tensorflow.org/guide/tensor\n",
        "\n",
        "-----------------------------------------\n",
        "**Guia Colab Iniciante:**\n",
        "\n",
        "https://medium.com/machina-sapiens/google-colab-guia-do-iniciante-334d70aad531\n",
        "\n",
        "**Documentação oficial:**\n",
        "\n",
        "https://colab.research.google.com/github/jakevdp/PythonDataScienceHandbook/blob/master/notebooks/01.01-Help-And-Documentation.ipynb\n",
        "\n",
        "**Características :**\n",
        "\n",
        "https://colab.research.google.com/notebooks/basic_features_overview.ipynb\n"
      ]
    },
    {
      "cell_type": "markdown",
      "metadata": {
        "id": "WOwhoI1lzi-s"
      },
      "source": [
        "# Instalação dos pacotes das biblioteca Pytorch\n",
        "\n",
        "Muitos ambientes com o Google Colaboratory já trazem o Pytorch instalado.\n",
        "\n",
        "Abaixo a instação da última versão no sistema operacional Linux com o instaldor pip e uso do Cuda versão 10.2"
      ]
    },
    {
      "cell_type": "code",
      "metadata": {
        "id": "UNn1DGlMzNDa",
        "outputId": "a68a1d91-fdf7-494e-bdce-07f29b32d193",
        "colab": {
          "base_uri": "https://localhost:8080/"
        }
      },
      "source": [
        "!pip install torch torchvision"
      ],
      "execution_count": 1,
      "outputs": [
        {
          "output_type": "stream",
          "text": [
            "Requirement already satisfied: torch in /usr/local/lib/python3.6/dist-packages (1.6.0+cu101)\n",
            "Requirement already satisfied: torchvision in /usr/local/lib/python3.6/dist-packages (0.7.0+cu101)\n",
            "Requirement already satisfied: future in /usr/local/lib/python3.6/dist-packages (from torch) (0.16.0)\n",
            "Requirement already satisfied: numpy in /usr/local/lib/python3.6/dist-packages (from torch) (1.18.5)\n",
            "Requirement already satisfied: pillow>=4.1.1 in /usr/local/lib/python3.6/dist-packages (from torchvision) (7.0.0)\n"
          ],
          "name": "stdout"
        }
      ]
    },
    {
      "cell_type": "markdown",
      "metadata": {
        "id": "oWcTZBPd2HeW"
      },
      "source": [
        "Versão do Pytorch instaladas"
      ]
    },
    {
      "cell_type": "code",
      "metadata": {
        "id": "W2S4S_K52JA3",
        "outputId": "7564692d-4e6c-4b86-cf72-436cfb6275c0",
        "colab": {
          "base_uri": "https://localhost:8080/"
        }
      },
      "source": [
        "import torch\n",
        "\n",
        "print(torch.__version__)"
      ],
      "execution_count": 2,
      "outputs": [
        {
          "output_type": "stream",
          "text": [
            "1.6.0+cu101\n"
          ],
          "name": "stdout"
        }
      ]
    },
    {
      "cell_type": "markdown",
      "metadata": {
        "id": "lMRQmChvOw5z"
      },
      "source": [
        "# Operações Básicas com Tensores em PyTorch\n"
      ]
    },
    {
      "cell_type": "markdown",
      "metadata": {
        "id": "NzzR8MN5LCV_"
      },
      "source": [
        "## Criando Tensor PyTorch de valor 0"
      ]
    },
    {
      "cell_type": "code",
      "metadata": {
        "id": "Bllxxch4LEdn",
        "outputId": "bfc41535-dc34-43a3-ad46-bb3055eb3952",
        "colab": {
          "base_uri": "https://localhost:8080/"
        }
      },
      "source": [
        "# Bibliotecas\n",
        "import torch\n",
        "    \n",
        "# Cria um tensor de tamanho e 3 por 3 de valor 0\n",
        "A = torch.zeros(3,3)\n",
        "print(type(A))\n",
        "\n",
        "# Mostra os dados da matriz de Tensores\n",
        "print(\">>> Matriz\")\n",
        "print(A)"
      ],
      "execution_count": 3,
      "outputs": [
        {
          "output_type": "stream",
          "text": [
            "<class 'torch.Tensor'>\n",
            ">>> Matriz\n",
            "tensor([[0., 0., 0.],\n",
            "        [0., 0., 0.],\n",
            "        [0., 0., 0.]])\n"
          ],
          "name": "stdout"
        }
      ]
    },
    {
      "cell_type": "markdown",
      "metadata": {
        "id": "Rua2op0bF9yh"
      },
      "source": [
        "## Criando Tensor PyTorch de valor 1"
      ]
    },
    {
      "cell_type": "code",
      "metadata": {
        "id": "n3aO92JPF9yi",
        "outputId": "1084ab8b-3a72-48a2-d57c-c8793158e692",
        "colab": {
          "base_uri": "https://localhost:8080/"
        }
      },
      "source": [
        "# Bibliotecas\n",
        "import torch\n",
        "    \n",
        "# Cria um tensor de tamanho e 3 por 3 de valor 1\n",
        "A = torch.ones(3,3)\n",
        "print(type(A))\n",
        "\n",
        "# Mostra os dados da matriz de Tensores\n",
        "print(\">>> Matriz\")\n",
        "print(A)"
      ],
      "execution_count": 4,
      "outputs": [
        {
          "output_type": "stream",
          "text": [
            "<class 'torch.Tensor'>\n",
            ">>> Matriz\n",
            "tensor([[1., 1., 1.],\n",
            "        [1., 1., 1.],\n",
            "        [1., 1., 1.]])\n"
          ],
          "name": "stdout"
        }
      ]
    },
    {
      "cell_type": "markdown",
      "metadata": {
        "id": "hcHfTeMpLwJv"
      },
      "source": [
        "## Criando tensor a partir de Numpy"
      ]
    },
    {
      "cell_type": "code",
      "metadata": {
        "id": "y4scGLayLwJw",
        "outputId": "0e341ab0-5222-45db-a1e5-40010b7d710d",
        "colab": {
          "base_uri": "https://localhost:8080/"
        }
      },
      "source": [
        "# Bibliotecas\n",
        "import torch\n",
        "import numpy as np\n",
        "    \n",
        "# Cria um nympy matriz de tamanho e 3 por 3 de valor 1\n",
        "A = np.ones((3,3))\n",
        "print(type(A))\n",
        "\n",
        "print(\">>> Matriz A\")\n",
        "print(A)\n",
        "\n",
        "# Converte a lista de lista de matriz em um tensor\n",
        "TA = torch.from_numpy(A)\n",
        "print(type(TA))\n",
        "\n",
        "# Mostra os dados da matriz de Tensores\n",
        "print(\">>> Matriz TA\")\n",
        "print(TA)\n"
      ],
      "execution_count": 5,
      "outputs": [
        {
          "output_type": "stream",
          "text": [
            "<class 'numpy.ndarray'>\n",
            ">>> Matriz A\n",
            "[[1. 1. 1.]\n",
            " [1. 1. 1.]\n",
            " [1. 1. 1.]]\n",
            "<class 'torch.Tensor'>\n",
            ">>> Matriz TA\n",
            "tensor([[1., 1., 1.],\n",
            "        [1., 1., 1.],\n",
            "        [1., 1., 1.]], dtype=torch.float64)\n"
          ],
          "name": "stdout"
        }
      ]
    },
    {
      "cell_type": "markdown",
      "metadata": {
        "id": "C6AU7gTuy4Cl"
      },
      "source": [
        "## Converte matriz de 2 dimensões para Tensores PyTorch\n",
        "\n",
        "`torch.tensor` cria uma cópia e `torch.as_tensor` retorna uma referência do tensor criado.\n",
        "\n",
        "https://medium.com/secure-and-private-ai-writing-challenge/introduction-to-tensors-2-using-pytorch-2b6270a838f"
      ]
    },
    {
      "cell_type": "code",
      "metadata": {
        "id": "93aO7LK5y4Cn",
        "outputId": "41c447ad-9ef7-44ea-ca05-0303d4573afd",
        "colab": {
          "base_uri": "https://localhost:8080/"
        }
      },
      "source": [
        "# Bibliotecas\n",
        "import torch\n",
        "\n",
        "A =  [\n",
        "        [11, 12, 13],\n",
        "        [14, 15, 16],\n",
        "        [17, 18, 19]\n",
        "     ]\n",
        "    \n",
        "# Converte a lista de lista de matriz em um tensor\n",
        "B = torch.as_tensor(A)\n",
        "print(type(B))\n",
        "\n",
        "# Mostra os dados da matriz de Tensores\n",
        "print(\">>> Matriz\")\n",
        "print(B)\n",
        "print(B[0:3,0:3])\n",
        "print(B[:,:])\n",
        "\n",
        "print(\">>> Linha\")\n",
        "print(B[0:1,0:3])\n",
        "print(B[0:1,:])\n",
        "print(B[0:1,0:3])\n",
        "\n",
        "print(\">> Coluna\")\n",
        "print(B[0:3,0:1])\n",
        "print(B[:,0:1])\n",
        "print(B[0:3,0:1])"
      ],
      "execution_count": 6,
      "outputs": [
        {
          "output_type": "stream",
          "text": [
            "<class 'torch.Tensor'>\n",
            ">>> Matriz\n",
            "tensor([[11, 12, 13],\n",
            "        [14, 15, 16],\n",
            "        [17, 18, 19]])\n",
            "tensor([[11, 12, 13],\n",
            "        [14, 15, 16],\n",
            "        [17, 18, 19]])\n",
            "tensor([[11, 12, 13],\n",
            "        [14, 15, 16],\n",
            "        [17, 18, 19]])\n",
            ">>> Linha\n",
            "tensor([[11, 12, 13]])\n",
            "tensor([[11, 12, 13]])\n",
            "tensor([[11, 12, 13]])\n",
            ">> Coluna\n",
            "tensor([[11],\n",
            "        [14],\n",
            "        [17]])\n",
            "tensor([[11],\n",
            "        [14],\n",
            "        [17]])\n",
            "tensor([[11],\n",
            "        [14],\n",
            "        [17]])\n"
          ],
          "name": "stdout"
        }
      ]
    },
    {
      "cell_type": "markdown",
      "metadata": {
        "id": "0B_ZYEh_uBxO"
      },
      "source": [
        "## Converte matriz de 3 dimensões para Tensores PyTorch"
      ]
    },
    {
      "cell_type": "code",
      "metadata": {
        "id": "nBxAG7dYuCSC",
        "outputId": "2174dada-3e85-4f09-af50-9888c3515928",
        "colab": {
          "base_uri": "https://localhost:8080/"
        }
      },
      "source": [
        "# Bibliotecas\n",
        "import torch\n",
        "\n",
        "A = [\n",
        "      [\n",
        "        [11, 12, 13],\n",
        "        [14, 15, 16],\n",
        "        [17, 18, 19]\n",
        "      ],\n",
        "      [\n",
        "        [21, 22, 23],\n",
        "        [24, 25, 26],\n",
        "        [27, 28, 29]\n",
        "      ],\n",
        "      [\n",
        "        [31, 32, 33],\n",
        "        [33, 34, 36],\n",
        "        [37, 38 ,39]\n",
        "      ]\n",
        "    ]\n",
        "    \n",
        "# Converte a lista de lista de matriz em um tensor\n",
        "B = torch.as_tensor(A)\n",
        "print(type(B))\n",
        "\n",
        "# Mostra os dados da matriz de Tensores\n",
        "print(\">>> Lista de matrizes\")\n",
        "print(B)\n",
        "print(B[0:3,0:3,0:3])\n",
        "print(B[:,:,:])\n",
        "\n",
        "print(\">>> Matrizes\")\n",
        "print(B[0])\n",
        "print(B[0][0:3,0:3])\n",
        "print(B[0,:,:])\n",
        "\n",
        "print(\">>> Linha\")\n",
        "print(B[0][0:1,0:3])\n",
        "print(B[0:1,0:1,:])\n",
        "print(B[0:1,0:1,0:3])\n",
        "\n",
        "print(\">> Coluna\")\n",
        "print(B[0][0:3,0:1])\n",
        "print(B[0][:,0:1])\n",
        "print(B[0:1,0:3,0:1])"
      ],
      "execution_count": 7,
      "outputs": [
        {
          "output_type": "stream",
          "text": [
            "<class 'torch.Tensor'>\n",
            ">>> Lista de matrizes\n",
            "tensor([[[11, 12, 13],\n",
            "         [14, 15, 16],\n",
            "         [17, 18, 19]],\n",
            "\n",
            "        [[21, 22, 23],\n",
            "         [24, 25, 26],\n",
            "         [27, 28, 29]],\n",
            "\n",
            "        [[31, 32, 33],\n",
            "         [33, 34, 36],\n",
            "         [37, 38, 39]]])\n",
            "tensor([[[11, 12, 13],\n",
            "         [14, 15, 16],\n",
            "         [17, 18, 19]],\n",
            "\n",
            "        [[21, 22, 23],\n",
            "         [24, 25, 26],\n",
            "         [27, 28, 29]],\n",
            "\n",
            "        [[31, 32, 33],\n",
            "         [33, 34, 36],\n",
            "         [37, 38, 39]]])\n",
            "tensor([[[11, 12, 13],\n",
            "         [14, 15, 16],\n",
            "         [17, 18, 19]],\n",
            "\n",
            "        [[21, 22, 23],\n",
            "         [24, 25, 26],\n",
            "         [27, 28, 29]],\n",
            "\n",
            "        [[31, 32, 33],\n",
            "         [33, 34, 36],\n",
            "         [37, 38, 39]]])\n",
            ">>> Matrizes\n",
            "tensor([[11, 12, 13],\n",
            "        [14, 15, 16],\n",
            "        [17, 18, 19]])\n",
            "tensor([[11, 12, 13],\n",
            "        [14, 15, 16],\n",
            "        [17, 18, 19]])\n",
            "tensor([[11, 12, 13],\n",
            "        [14, 15, 16],\n",
            "        [17, 18, 19]])\n",
            ">>> Linha\n",
            "tensor([[11, 12, 13]])\n",
            "tensor([[[11, 12, 13]]])\n",
            "tensor([[[11, 12, 13]]])\n",
            ">> Coluna\n",
            "tensor([[11],\n",
            "        [14],\n",
            "        [17]])\n",
            "tensor([[11],\n",
            "        [14],\n",
            "        [17]])\n",
            "tensor([[[11],\n",
            "         [14],\n",
            "         [17]]])\n"
          ],
          "name": "stdout"
        }
      ]
    },
    {
      "cell_type": "markdown",
      "metadata": {
        "id": "Y0Yvq1g9qhzv"
      },
      "source": [
        "## Converte matriz de 4 dimensões para Tensores PyTorch"
      ]
    },
    {
      "cell_type": "code",
      "metadata": {
        "id": "xYqfc8AyOy70",
        "outputId": "9368f765-46e9-48cf-89ce-59b2b3573b11",
        "colab": {
          "base_uri": "https://localhost:8080/"
        }
      },
      "source": [
        "# Bibliotecas\n",
        "import torch\n",
        "\n",
        "A = [\n",
        "      [\n",
        "        [[11, 12, 13],[14, 15, 16],[17, 18, 19]],\n",
        "        [[21, 22, 23],[24, 25, 26],[27, 28, 29]],\n",
        "        [[31, 32, 33],[34, 35, 36],[37, 38, 39]]\n",
        "      ],\n",
        "\n",
        "      [\n",
        "        [[41, 42, 43],[44, 45, 46],[47, 48, 49]],\n",
        "        [[51, 52, 53],[54, 55, 56],[57, 58, 59]],\n",
        "        [[61, 62, 63],[64, 65, 66],[67, 68, 69]]\n",
        "      ]\n",
        "    ]\n",
        "\n",
        "# Converte a lista de lista de matriz em um tensor\n",
        "B = torch.as_tensor(A)\n",
        "print(type(B))\n",
        "\n",
        "# Mostra os dados da matriz de Tensores\n",
        "print(\">>> Lista de lista de matrizes\")\n",
        "print(B)\n",
        "print(B[0:3,0:3,0:3,0:3])\n",
        "print(B[:,:,:,:])\n",
        "\n",
        "print(\">>> Lista de matrizes\")\n",
        "print(B[0])\n",
        "print(B[0][0:3,0:3,0:3])\n",
        "print(B[0:1,0:3,0:3,0:3])\n",
        "print(B[0][:,:,:])\n",
        "\n",
        "print(\">>> Matrizes\")\n",
        "print(B[0][0])\n",
        "print(B[0][0][0:3,0:3])\n",
        "print(B[0][0,:,:])\n",
        "print(B[0,0,:,:])\n",
        "\n",
        "print(\">>> Linha\")\n",
        "print(B[0][0][0:1,0:3])\n",
        "print(B[0][0:1,0:1,:])\n",
        "print(B[0][0:1,0:1,0:3])\n",
        "print(B[0:1,0:1,0:1,0:3])\n",
        "print(B[0,0,0:1,0:3])\n",
        "\n",
        "print(\">> Coluna\")\n",
        "print(B[0][0][0:3,0:1])\n",
        "print(B[0][0][:,0:1])\n",
        "print(B[0][0:1,0:3,0:1])\n",
        "print(B[0:1,0:1,0:3,0:1])\n",
        "print(B[0,0,0:3,0:1])"
      ],
      "execution_count": 8,
      "outputs": [
        {
          "output_type": "stream",
          "text": [
            "<class 'torch.Tensor'>\n",
            ">>> Lista de lista de matrizes\n",
            "tensor([[[[11, 12, 13],\n",
            "          [14, 15, 16],\n",
            "          [17, 18, 19]],\n",
            "\n",
            "         [[21, 22, 23],\n",
            "          [24, 25, 26],\n",
            "          [27, 28, 29]],\n",
            "\n",
            "         [[31, 32, 33],\n",
            "          [34, 35, 36],\n",
            "          [37, 38, 39]]],\n",
            "\n",
            "\n",
            "        [[[41, 42, 43],\n",
            "          [44, 45, 46],\n",
            "          [47, 48, 49]],\n",
            "\n",
            "         [[51, 52, 53],\n",
            "          [54, 55, 56],\n",
            "          [57, 58, 59]],\n",
            "\n",
            "         [[61, 62, 63],\n",
            "          [64, 65, 66],\n",
            "          [67, 68, 69]]]])\n",
            "tensor([[[[11, 12, 13],\n",
            "          [14, 15, 16],\n",
            "          [17, 18, 19]],\n",
            "\n",
            "         [[21, 22, 23],\n",
            "          [24, 25, 26],\n",
            "          [27, 28, 29]],\n",
            "\n",
            "         [[31, 32, 33],\n",
            "          [34, 35, 36],\n",
            "          [37, 38, 39]]],\n",
            "\n",
            "\n",
            "        [[[41, 42, 43],\n",
            "          [44, 45, 46],\n",
            "          [47, 48, 49]],\n",
            "\n",
            "         [[51, 52, 53],\n",
            "          [54, 55, 56],\n",
            "          [57, 58, 59]],\n",
            "\n",
            "         [[61, 62, 63],\n",
            "          [64, 65, 66],\n",
            "          [67, 68, 69]]]])\n",
            "tensor([[[[11, 12, 13],\n",
            "          [14, 15, 16],\n",
            "          [17, 18, 19]],\n",
            "\n",
            "         [[21, 22, 23],\n",
            "          [24, 25, 26],\n",
            "          [27, 28, 29]],\n",
            "\n",
            "         [[31, 32, 33],\n",
            "          [34, 35, 36],\n",
            "          [37, 38, 39]]],\n",
            "\n",
            "\n",
            "        [[[41, 42, 43],\n",
            "          [44, 45, 46],\n",
            "          [47, 48, 49]],\n",
            "\n",
            "         [[51, 52, 53],\n",
            "          [54, 55, 56],\n",
            "          [57, 58, 59]],\n",
            "\n",
            "         [[61, 62, 63],\n",
            "          [64, 65, 66],\n",
            "          [67, 68, 69]]]])\n",
            ">>> Lista de matrizes\n",
            "tensor([[[11, 12, 13],\n",
            "         [14, 15, 16],\n",
            "         [17, 18, 19]],\n",
            "\n",
            "        [[21, 22, 23],\n",
            "         [24, 25, 26],\n",
            "         [27, 28, 29]],\n",
            "\n",
            "        [[31, 32, 33],\n",
            "         [34, 35, 36],\n",
            "         [37, 38, 39]]])\n",
            "tensor([[[11, 12, 13],\n",
            "         [14, 15, 16],\n",
            "         [17, 18, 19]],\n",
            "\n",
            "        [[21, 22, 23],\n",
            "         [24, 25, 26],\n",
            "         [27, 28, 29]],\n",
            "\n",
            "        [[31, 32, 33],\n",
            "         [34, 35, 36],\n",
            "         [37, 38, 39]]])\n",
            "tensor([[[[11, 12, 13],\n",
            "          [14, 15, 16],\n",
            "          [17, 18, 19]],\n",
            "\n",
            "         [[21, 22, 23],\n",
            "          [24, 25, 26],\n",
            "          [27, 28, 29]],\n",
            "\n",
            "         [[31, 32, 33],\n",
            "          [34, 35, 36],\n",
            "          [37, 38, 39]]]])\n",
            "tensor([[[11, 12, 13],\n",
            "         [14, 15, 16],\n",
            "         [17, 18, 19]],\n",
            "\n",
            "        [[21, 22, 23],\n",
            "         [24, 25, 26],\n",
            "         [27, 28, 29]],\n",
            "\n",
            "        [[31, 32, 33],\n",
            "         [34, 35, 36],\n",
            "         [37, 38, 39]]])\n",
            ">>> Matrizes\n",
            "tensor([[11, 12, 13],\n",
            "        [14, 15, 16],\n",
            "        [17, 18, 19]])\n",
            "tensor([[11, 12, 13],\n",
            "        [14, 15, 16],\n",
            "        [17, 18, 19]])\n",
            "tensor([[11, 12, 13],\n",
            "        [14, 15, 16],\n",
            "        [17, 18, 19]])\n",
            "tensor([[11, 12, 13],\n",
            "        [14, 15, 16],\n",
            "        [17, 18, 19]])\n",
            ">>> Linha\n",
            "tensor([[11, 12, 13]])\n",
            "tensor([[[11, 12, 13]]])\n",
            "tensor([[[11, 12, 13]]])\n",
            "tensor([[[[11, 12, 13]]]])\n",
            "tensor([[11, 12, 13]])\n",
            ">> Coluna\n",
            "tensor([[11],\n",
            "        [14],\n",
            "        [17]])\n",
            "tensor([[11],\n",
            "        [14],\n",
            "        [17]])\n",
            "tensor([[[11],\n",
            "         [14],\n",
            "         [17]]])\n",
            "tensor([[[[11],\n",
            "          [14],\n",
            "          [17]]]])\n",
            "tensor([[11],\n",
            "        [14],\n",
            "        [17]])\n"
          ],
          "name": "stdout"
        }
      ]
    },
    {
      "cell_type": "markdown",
      "metadata": {
        "id": "pY9dZOPsrxD6"
      },
      "source": [
        "## Operações com tensores\n",
        "\n",
        "https://s3-sa-east-1.amazonaws.com/thedevconf/presentations/TDC2019SP/machine/FMB-8122_2019-07-19T015516_Machine%20Learning%20-%20Uso%20de%20Pytorch%20para%20Aplica%C3%A7%C3%B5es%20de%20Vis%C3%A3o%20Computacional.pdf\n",
        "\n",
        "https://github.com/torch/torch7/blob/master/doc/maths.md#torcheqa-b\n"
      ]
    },
    {
      "cell_type": "markdown",
      "metadata": {
        "id": "utlhewNUEBPg"
      },
      "source": [
        "###Tamanho do tensor"
      ]
    },
    {
      "cell_type": "code",
      "metadata": {
        "id": "G_dX8BriEFEU",
        "outputId": "caaa103e-b04c-47cb-9faa-6fc0bd3c14dd",
        "colab": {
          "base_uri": "https://localhost:8080/"
        }
      },
      "source": [
        "# Bibliotecas\n",
        "import torch\n",
        "\n",
        "# Declaração da matriz\n",
        "A = [\n",
        "      [\n",
        "        [1, 2, 3],\n",
        "        [4, 5, 6],\n",
        "        [7, 8, 9]\n",
        "      ],\n",
        "      [\n",
        "        [10, 11, 12],\n",
        "        [13, 14, 15],\n",
        "        [16, 17, 18]\n",
        "      ]\n",
        "    ]\n",
        "\n",
        "# Converte a lista de lista de matriz em um tensor\n",
        "TA = torch.as_tensor(A)\n",
        "\n",
        "# Mostra o tamanho do tensor em todas as dimensões\n",
        "print(TA)\n",
        "print(type(TA))\n",
        "print(TA.size())"
      ],
      "execution_count": 9,
      "outputs": [
        {
          "output_type": "stream",
          "text": [
            "tensor([[[ 1,  2,  3],\n",
            "         [ 4,  5,  6],\n",
            "         [ 7,  8,  9]],\n",
            "\n",
            "        [[10, 11, 12],\n",
            "         [13, 14, 15],\n",
            "         [16, 17, 18]]])\n",
            "<class 'torch.Tensor'>\n",
            "torch.Size([2, 3, 3])\n"
          ],
          "name": "stdout"
        }
      ]
    },
    {
      "cell_type": "markdown",
      "metadata": {
        "id": "Xqh_SLl3FJnv"
      },
      "source": [
        "### Comparando"
      ]
    },
    {
      "cell_type": "code",
      "metadata": {
        "id": "7CtOQGp8FLQr",
        "outputId": "06a9436b-6b06-490b-a2a6-7915d4542ab0",
        "colab": {
          "base_uri": "https://localhost:8080/"
        }
      },
      "source": [
        "# Bibliotecas\n",
        "import torch\n",
        "\n",
        "# Declaração da matriz\n",
        "A = [\n",
        "      [\n",
        "        [1, 2, 3],\n",
        "        [4, 5, 6],\n",
        "        [7, 8, 9]\n",
        "      ]\n",
        "    ]\n",
        "B = [\n",
        "      [\n",
        "        [1, 2, 3],\n",
        "        [4, 5, 6],\n",
        "        [7, 8, 9]\n",
        "      ]\n",
        "    ]\n",
        "\n",
        "C = [\n",
        "      [\n",
        "        [1, 2, 3],\n",
        "        [4, 5, 6],\n",
        "        [7, 8, -1]\n",
        "      ]\n",
        "    ]    \n",
        "\n",
        "# Converte a lista de lista de matriz em um tensor\n",
        "TA = torch.as_tensor(A)\n",
        "TB = torch.as_tensor(B)\n",
        "TC = torch.as_tensor(C)\n",
        "\n",
        "# Mostra o tamanho do tensor em todas as dimensões\n",
        "print(TA)\n",
        "print(type(TA))\n",
        "print(TA.size())\n",
        "\n",
        "print(TB)\n",
        "print(type(TB))\n",
        "print(TB.size())\n",
        "\n",
        "print(TC)\n",
        "print(type(TC))\n",
        "print(TC.size())\n",
        "\n",
        "# Mostra o resultado da comparação dos elementos dos tensores\n",
        "print(torch.eq(TA, TB))\n",
        "print(torch.eq(TA, TC))\n",
        "\n",
        "#if torch.all(torch.eq(TA, TB)):\n",
        "if TA.equal(TB):\n",
        "  print(\"Tensores TA e TB são iguais\")\n",
        "else:\n",
        "  print(\"Tensores TA e TB são diferentes\")\n",
        "\n",
        "#if torch.all(torch.eq(TA, TC)):\n",
        "if TA.equal(TC):\n",
        "  print(\"Tensores TA e TC são iguais\")\n",
        "else:\n",
        "  print(\"Tensores TA e TC são diferentes\")  "
      ],
      "execution_count": 10,
      "outputs": [
        {
          "output_type": "stream",
          "text": [
            "tensor([[[1, 2, 3],\n",
            "         [4, 5, 6],\n",
            "         [7, 8, 9]]])\n",
            "<class 'torch.Tensor'>\n",
            "torch.Size([1, 3, 3])\n",
            "tensor([[[1, 2, 3],\n",
            "         [4, 5, 6],\n",
            "         [7, 8, 9]]])\n",
            "<class 'torch.Tensor'>\n",
            "torch.Size([1, 3, 3])\n",
            "tensor([[[ 1,  2,  3],\n",
            "         [ 4,  5,  6],\n",
            "         [ 7,  8, -1]]])\n",
            "<class 'torch.Tensor'>\n",
            "torch.Size([1, 3, 3])\n",
            "tensor([[[True, True, True],\n",
            "         [True, True, True],\n",
            "         [True, True, True]]])\n",
            "tensor([[[ True,  True,  True],\n",
            "         [ True,  True,  True],\n",
            "         [ True,  True, False]]])\n",
            "Tensores TA e TB são iguais\n",
            "Tensores TA e TC são diferentes\n"
          ],
          "name": "stdout"
        }
      ]
    },
    {
      "cell_type": "markdown",
      "metadata": {
        "id": "Y9rNka2fMw0y"
      },
      "source": [
        "###Adição\n",
        "\n",
        "https://towardsdatascience.com/understanding-dimensions-in-pytorch-6edf9972d3be"
      ]
    },
    {
      "cell_type": "code",
      "metadata": {
        "id": "1HLNxAO7MyOh",
        "outputId": "2ea5ecad-1d2b-43ca-c9f5-07709c6bdb09",
        "colab": {
          "base_uri": "https://localhost:8080/"
        }
      },
      "source": [
        "# Bibliotecas\n",
        "import torch\n",
        "\n",
        "# Declaração da matriz\n",
        "A =  [\n",
        "        [1.0, 2.0],\n",
        "        [3.0, 4.0]\n",
        "     ]\n",
        "    \n",
        "B =  [\n",
        "        [5.0, 6.0],\n",
        "        [7.0, 8.0]\n",
        "     ]\n",
        "\n",
        "# Converte a lista de lista de matriz em um tensor\n",
        "TA = torch.as_tensor(A)\n",
        "TB = torch.as_tensor(B)\n",
        "\n",
        "# Mostra os tensores\n",
        "print(TA)\n",
        "print(type(TA))\n",
        "print(TA.size())\n",
        "\n",
        "print(TB)\n",
        "print(type(TB))\n",
        "print(TB.size())\n",
        "\n",
        "# Soma os vetores\n",
        "C = TA + TB\n",
        "# ou\n",
        "D = torch.add(TA, TB)\n",
        "# ou\n",
        "E = TA.add(TB)\n",
        "\n",
        "# Mostra a soma\n",
        "print(C)\n",
        "print(D)\n",
        "print(E)"
      ],
      "execution_count": 11,
      "outputs": [
        {
          "output_type": "stream",
          "text": [
            "tensor([[1., 2.],\n",
            "        [3., 4.]])\n",
            "<class 'torch.Tensor'>\n",
            "torch.Size([2, 2])\n",
            "tensor([[5., 6.],\n",
            "        [7., 8.]])\n",
            "<class 'torch.Tensor'>\n",
            "torch.Size([2, 2])\n",
            "tensor([[ 6.,  8.],\n",
            "        [10., 12.]])\n",
            "tensor([[ 6.,  8.],\n",
            "        [10., 12.]])\n",
            "tensor([[ 6.,  8.],\n",
            "        [10., 12.]])\n"
          ],
          "name": "stdout"
        }
      ]
    },
    {
      "cell_type": "markdown",
      "metadata": {
        "id": "GjKd1x5ENTjF"
      },
      "source": [
        "###Subtração"
      ]
    },
    {
      "cell_type": "code",
      "metadata": {
        "id": "nXx9Zb8iNTjG",
        "outputId": "bac136c2-420f-4dee-e6f0-59788b44d525",
        "colab": {
          "base_uri": "https://localhost:8080/"
        }
      },
      "source": [
        "# Bibliotecas\n",
        "import torch\n",
        "\n",
        "# Declaração da matriz\n",
        "A =  [\n",
        "        [1.0, 2.0],\n",
        "        [3.0, 4.0]\n",
        "     ]\n",
        "    \n",
        "B =  [\n",
        "        [5.0, 6.0],\n",
        "        [7.0, 8.0]\n",
        "     ]\n",
        "\n",
        "# Converte a lista de lista de matriz em um tensor\n",
        "TA = torch.as_tensor(A)\n",
        "TB = torch.as_tensor(B)\n",
        "\n",
        "# Mostra os tensores\n",
        "print(TA)\n",
        "print(type(TA))\n",
        "print(TA.size())\n",
        "print(TB)\n",
        "print(type(TB))\n",
        "print(TB.size())\n",
        "\n",
        "# Subtração os vetores\n",
        "C = TB - TA\n",
        "# ou\n",
        "D = torch.sub(TB, TA)\n",
        "# ou\n",
        "E = TB.sub(TA)\n",
        "\n",
        "# Mostra a subtração\n",
        "print(C)\n",
        "print(D)\n",
        "print(E)"
      ],
      "execution_count": 12,
      "outputs": [
        {
          "output_type": "stream",
          "text": [
            "tensor([[1., 2.],\n",
            "        [3., 4.]])\n",
            "<class 'torch.Tensor'>\n",
            "torch.Size([2, 2])\n",
            "tensor([[5., 6.],\n",
            "        [7., 8.]])\n",
            "<class 'torch.Tensor'>\n",
            "torch.Size([2, 2])\n",
            "tensor([[4., 4.],\n",
            "        [4., 4.]])\n",
            "tensor([[4., 4.],\n",
            "        [4., 4.]])\n",
            "tensor([[4., 4.],\n",
            "        [4., 4.]])\n"
          ],
          "name": "stdout"
        }
      ]
    },
    {
      "cell_type": "markdown",
      "metadata": {
        "id": "Xf0lEkM9N7-n"
      },
      "source": [
        "###Produto"
      ]
    },
    {
      "cell_type": "code",
      "metadata": {
        "id": "PyMJF7jrN7-o",
        "outputId": "54ae9623-c41b-4106-cc85-a855c1c382e1",
        "colab": {
          "base_uri": "https://localhost:8080/"
        }
      },
      "source": [
        "# Bibliotecas\n",
        "import torch\n",
        "\n",
        "# Declaração da matriz\n",
        "A =  [\n",
        "        [1.0, 2.0],\n",
        "        [3.0, 4.0]\n",
        "     ]\n",
        "    \n",
        "B =  [\n",
        "        [5.0, 6.0],\n",
        "        [7.0, 8.0]\n",
        "     ]\n",
        "\n",
        "# Converte a lista de lista de matriz em um tensor\n",
        "TA = torch.as_tensor(A)\n",
        "TB = torch.as_tensor(B)\n",
        "\n",
        "# Mostra os tensores\n",
        "print(TA)\n",
        "print(type(TA))\n",
        "print(TA.size())\n",
        "print(TB)\n",
        "print(type(TB))\n",
        "print(TB.size())\n",
        "\n",
        "# Mutiplicação os vetores\n",
        "C = TA * TB\n",
        "# ou\n",
        "D = torch.mul(TA, TB)\n",
        "# ou\n",
        "E = TA.mul(TB)\n",
        "\n",
        "# Mostra a multiplicação\n",
        "print(C)\n",
        "print(D)\n",
        "print(E)"
      ],
      "execution_count": 13,
      "outputs": [
        {
          "output_type": "stream",
          "text": [
            "tensor([[1., 2.],\n",
            "        [3., 4.]])\n",
            "<class 'torch.Tensor'>\n",
            "torch.Size([2, 2])\n",
            "tensor([[5., 6.],\n",
            "        [7., 8.]])\n",
            "<class 'torch.Tensor'>\n",
            "torch.Size([2, 2])\n",
            "tensor([[ 5., 12.],\n",
            "        [21., 32.]])\n",
            "tensor([[ 5., 12.],\n",
            "        [21., 32.]])\n",
            "tensor([[ 5., 12.],\n",
            "        [21., 32.]])\n"
          ],
          "name": "stdout"
        }
      ]
    },
    {
      "cell_type": "markdown",
      "metadata": {
        "id": "dOdYTfrgON1C"
      },
      "source": [
        "###Divisão"
      ]
    },
    {
      "cell_type": "code",
      "metadata": {
        "id": "wB6ppUGRON1D",
        "outputId": "b8631afa-5a44-494d-dc1b-1fc7e9533477",
        "colab": {
          "base_uri": "https://localhost:8080/"
        }
      },
      "source": [
        "# Bibliotecas\n",
        "import torch\n",
        "\n",
        "# Declaração da matriz\n",
        "A =  [\n",
        "        [1.0, 2.0],\n",
        "        [3.0, 4.0]\n",
        "     ]\n",
        "    \n",
        "B =  [\n",
        "        [5.0, 6.0],\n",
        "        [7.0, 8.0]\n",
        "     ]\n",
        "\n",
        "# Converte a lista de lista de matriz em um tensor\n",
        "TA = torch.as_tensor(A)\n",
        "TB = torch.as_tensor(B)\n",
        "\n",
        "# Mostra os tensores\n",
        "print(TA)\n",
        "print(type(TA))\n",
        "print(TA.size())\n",
        "print(TB)\n",
        "print(type(TB))\n",
        "print(TB.size())\n",
        "\n",
        "# Divisão os vetores\n",
        "C = TB / TA\n",
        "# ou\n",
        "D = torch.div(TB, TA)\n",
        "# ou\n",
        "E = TB.div(TA)\n",
        "\n",
        "# Mostra a divisão\n",
        "print(C)\n",
        "print(D)\n",
        "print(E)"
      ],
      "execution_count": 14,
      "outputs": [
        {
          "output_type": "stream",
          "text": [
            "tensor([[1., 2.],\n",
            "        [3., 4.]])\n",
            "<class 'torch.Tensor'>\n",
            "torch.Size([2, 2])\n",
            "tensor([[5., 6.],\n",
            "        [7., 8.]])\n",
            "<class 'torch.Tensor'>\n",
            "torch.Size([2, 2])\n",
            "tensor([[5.0000, 3.0000],\n",
            "        [2.3333, 2.0000]])\n",
            "tensor([[5.0000, 3.0000],\n",
            "        [2.3333, 2.0000]])\n",
            "tensor([[5.0000, 3.0000],\n",
            "        [2.3333, 2.0000]])\n"
          ],
          "name": "stdout"
        }
      ]
    },
    {
      "cell_type": "markdown",
      "metadata": {
        "id": "uWCDr8HN6R85"
      },
      "source": [
        "###Concatenação\n",
        "\n",
        "Concatena a sequência fornecida de tensores na dimensão fornecida.\n",
        "\n",
        "https://pytorch.org/docs/stable/generated/torch.cat.html"
      ]
    },
    {
      "cell_type": "code",
      "metadata": {
        "id": "WQmY3Ax0rzPJ",
        "outputId": "420e0302-8bbb-44e8-f302-692c078b95ca",
        "colab": {
          "base_uri": "https://localhost:8080/"
        }
      },
      "source": [
        "# Bibliotecas\n",
        "import torch\n",
        "\n",
        "# Declaração da matriz\n",
        "A =  [\n",
        "        [1.0, 2.0],\n",
        "        [3.0, 4.0]\n",
        "     ]\n",
        "    \n",
        "B =  [\n",
        "        [5.0, 6.0],\n",
        "        [7.0, 8.0]\n",
        "     ]\n",
        "\n",
        "# Converte a lista de lista de matriz em um tensor\n",
        "TA = torch.as_tensor(A)\n",
        "TB = torch.as_tensor(B)\n",
        "\n",
        "# Mostra os tensores\n",
        "print(TA)\n",
        "print(type(TA))\n",
        "print(TA.size())\n",
        "print(TB)\n",
        "print(type(TB))\n",
        "print(TB.size())\n",
        "\n",
        "# Concatena os vetores (ou seja, juntando-os) \n",
        "TC0 = torch.cat((TA, TB), dim=0)\n",
        "TC1 = torch.cat((TA, TB), dim=1)\n",
        "\n",
        "# Mostra as concatenações\n",
        "print(\"Concatenação pela dimensão 0\")\n",
        "print(TC0)\n",
        "print(\"Concatenação pela dimensão 1\")\n",
        "print(TC1)"
      ],
      "execution_count": 15,
      "outputs": [
        {
          "output_type": "stream",
          "text": [
            "tensor([[1., 2.],\n",
            "        [3., 4.]])\n",
            "<class 'torch.Tensor'>\n",
            "torch.Size([2, 2])\n",
            "tensor([[5., 6.],\n",
            "        [7., 8.]])\n",
            "<class 'torch.Tensor'>\n",
            "torch.Size([2, 2])\n",
            "Concatenação pela dimensão 0\n",
            "tensor([[1., 2.],\n",
            "        [3., 4.],\n",
            "        [5., 6.],\n",
            "        [7., 8.]])\n",
            "Concatenação pela dimensão 1\n",
            "tensor([[1., 2., 5., 6.],\n",
            "        [3., 4., 7., 8.]])\n"
          ],
          "name": "stdout"
        }
      ]
    },
    {
      "cell_type": "markdown",
      "metadata": {
        "id": "B0mMbtqj6BRp"
      },
      "source": [
        "### Concatenação de uma lista de tensores"
      ]
    },
    {
      "cell_type": "code",
      "metadata": {
        "id": "UdAmRxAbzBX_",
        "outputId": "d9371431-51a0-4087-8dc3-97d64067a25c",
        "colab": {
          "base_uri": "https://localhost:8080/"
        }
      },
      "source": [
        "# Bibliotecas\n",
        "import torch\n",
        "\n",
        "# Declaração da matriz\n",
        "A =  [\n",
        "        [\n",
        "          [1.0, 2.0],\n",
        "          [3.0, 4.0]\n",
        "        ],\n",
        "        [\n",
        "          [5.0, 6.0],\n",
        "          [7.0, 8.0]\n",
        "        ],\n",
        "        [\n",
        "          [9.0, 10.0],\n",
        "          [11.0,12.0]\n",
        "        ],\n",
        "        [\n",
        "          [13.0, 14.0],\n",
        "          [15.0, 16.0]\n",
        "        ]\n",
        "      ]\n",
        "\n",
        "# Converte a lista de lista de matriz em um tensor\n",
        "TA = torch.as_tensor(A)\n",
        "\n",
        "# Mostra os tensores\n",
        "print(TA)\n",
        "print(type(TA))\n",
        "print(TA.size())\n",
        "\n",
        "# Concatena os vetores da última e penúltima posição\n",
        "TC0 = torch.cat((TA[-1], TA[-2]), dim=0)\n",
        "\n",
        "#C Cria uma lista com os vetores do final para a posição\n",
        "posicao = 2\n",
        "lista = []\n",
        "for x in range(1,posicao+1):\n",
        "    lista.append(TA[-x])\n",
        "\n",
        "# Concatena os vetores da lista\n",
        "TC1 = torch.cat(lista, dim=0)\n",
        "\n",
        "# Mostra as concatenações\n",
        "print(\"Concatenação pela dimensão 0\")\n",
        "print(TC0)\n",
        "print(\"Concatenação pela dimensão 0\")\n",
        "print(TC1)"
      ],
      "execution_count": 16,
      "outputs": [
        {
          "output_type": "stream",
          "text": [
            "tensor([[[ 1.,  2.],\n",
            "         [ 3.,  4.]],\n",
            "\n",
            "        [[ 5.,  6.],\n",
            "         [ 7.,  8.]],\n",
            "\n",
            "        [[ 9., 10.],\n",
            "         [11., 12.]],\n",
            "\n",
            "        [[13., 14.],\n",
            "         [15., 16.]]])\n",
            "<class 'torch.Tensor'>\n",
            "torch.Size([4, 2, 2])\n",
            "Concatenação pela dimensão 0\n",
            "tensor([[13., 14.],\n",
            "        [15., 16.],\n",
            "        [ 9., 10.],\n",
            "        [11., 12.]])\n",
            "Concatenação pela dimensão 0\n",
            "tensor([[13., 14.],\n",
            "        [15., 16.],\n",
            "        [ 9., 10.],\n",
            "        [11., 12.]])\n"
          ],
          "name": "stdout"
        }
      ]
    },
    {
      "cell_type": "markdown",
      "metadata": {
        "id": "0FsTe73gYItk"
      },
      "source": [
        "### Stack\n",
        "\n",
        "Concatena a sequência de tensores ao longo de uma nova dimensão.\n",
        "\n",
        " * torch.stack(TA, TB], dim = 0) == torch.cat(TA.unsqueeze(0), TB.unsqueeze(0)], dim = 0)\n",
        " * torch.stack(TA).sum() == torch.cat(TA).sum()"
      ]
    },
    {
      "cell_type": "code",
      "metadata": {
        "id": "o_wrkfsRYJDY",
        "outputId": "b1f82cff-fde2-48e5-a5c4-10c7d0952d32",
        "colab": {
          "base_uri": "https://localhost:8080/"
        }
      },
      "source": [
        "# Bibliotecas\n",
        "import torch\n",
        "\n",
        "# Declaração da matriz\n",
        "A =  [\n",
        "        [1.0, 2.0],\n",
        "        [3.0, 4.0]\n",
        "     ]\n",
        "    \n",
        "B =  [\n",
        "        [5.0, 6.0],\n",
        "        [7.0, 8.0]\n",
        "     ]\n",
        "\n",
        "# Converte a lista de lista de matriz em um tensor\n",
        "TA = torch.as_tensor(A)\n",
        "TB = torch.as_tensor(B)\n",
        "\n",
        "# Mostra os tensores\n",
        "print(TA)\n",
        "print(type(TA))\n",
        "print(TA.size())\n",
        "print(TB)\n",
        "print(type(TB))\n",
        "print(TB.size())\n",
        "\n",
        "# Stack dos vetores (ou seja, juntando-os) \n",
        "TC0 = torch.stack((TA, TB), dim=0)\n",
        "TC1 = torch.stack((TA, TB), dim=1)\n",
        "\n",
        "# Mostra os stacks\n",
        "print(\"Stack pela dimensão 0\")\n",
        "print(TC0)\n",
        "print(\"Stack pela dimensão 1\")\n",
        "print(TC1)"
      ],
      "execution_count": 17,
      "outputs": [
        {
          "output_type": "stream",
          "text": [
            "tensor([[1., 2.],\n",
            "        [3., 4.]])\n",
            "<class 'torch.Tensor'>\n",
            "torch.Size([2, 2])\n",
            "tensor([[5., 6.],\n",
            "        [7., 8.]])\n",
            "<class 'torch.Tensor'>\n",
            "torch.Size([2, 2])\n",
            "Stack pela dimensão 0\n",
            "tensor([[[1., 2.],\n",
            "         [3., 4.]],\n",
            "\n",
            "        [[5., 6.],\n",
            "         [7., 8.]]])\n",
            "Stack pela dimensão 1\n",
            "tensor([[[1., 2.],\n",
            "         [5., 6.]],\n",
            "\n",
            "        [[3., 4.],\n",
            "         [7., 8.]]])\n"
          ],
          "name": "stdout"
        }
      ]
    },
    {
      "cell_type": "markdown",
      "metadata": {
        "id": "zpBWJOLQ6t8A"
      },
      "source": [
        "### Somando em 2 dimensões"
      ]
    },
    {
      "cell_type": "code",
      "metadata": {
        "id": "V6prbfd36t8C",
        "outputId": "dda0f3da-c253-4a3f-cb65-370920b8bf9b",
        "colab": {
          "base_uri": "https://localhost:8080/"
        }
      },
      "source": [
        "# Bibliotecas\n",
        "import torch\n",
        "\n",
        "A =  [\n",
        "        [1.0, 2.0],\n",
        "        [3.0, 4.0]\n",
        "     ]\n",
        "    \n",
        "# Converte a lista de lista de matriz em um tensor\n",
        "TA = torch.as_tensor(A)\n",
        "\n",
        "# Mostra os tensores\n",
        "print(TA)\n",
        "print(type(TA))\n",
        "print(TA.size())\n",
        "\n",
        "# Soma os vetores\n",
        "TC0 = torch.sum(TA, dim=0)\n",
        "TC1 = torch.sum(TA, dim=1)\n",
        "\n",
        "# Mostra as somas\n",
        "print(\"Soma pela dimensão 0(linhas)\")\n",
        "print(TC0)\n",
        "print(\"Soma pela dimensão 1(colunas)\")\n",
        "print(TC1)"
      ],
      "execution_count": 18,
      "outputs": [
        {
          "output_type": "stream",
          "text": [
            "tensor([[1., 2.],\n",
            "        [3., 4.]])\n",
            "<class 'torch.Tensor'>\n",
            "torch.Size([2, 2])\n",
            "Soma pela dimensão 0(linhas)\n",
            "tensor([4., 6.])\n",
            "Soma pela dimensão 1(colunas)\n",
            "tensor([3., 7.])\n"
          ],
          "name": "stdout"
        }
      ]
    },
    {
      "cell_type": "markdown",
      "metadata": {
        "id": "Vx7_gguTgcVz"
      },
      "source": [
        "### Somando em 4 dimensões"
      ]
    },
    {
      "cell_type": "code",
      "metadata": {
        "id": "fRsGNDbXgcV0",
        "outputId": "71b067a2-6858-48cb-a500-0419db36d02c",
        "colab": {
          "base_uri": "https://localhost:8080/"
        }
      },
      "source": [
        "# Bibliotecas\n",
        "import torch\n",
        "\n",
        "A =   [\n",
        "        [ \n",
        "          [ \n",
        "            [1.0, 2.0, 3.0],\n",
        "            [4.0, 5.0, 6.0]               \n",
        "          ],\n",
        "          [ \n",
        "            [1.0, 2.0, 3.0],\n",
        "            [4.0, 5.0, 6.0]               \n",
        "          ]\n",
        "        ]\n",
        "      ]      \n",
        "    \n",
        "    \n",
        "# Converte a lista de lista de matriz em um tensor\n",
        "TA = torch.as_tensor(A)\n",
        "\n",
        "# Mostra os tensores\n",
        "print(TA)\n",
        "print(type(TA))\n",
        "print(TA.size())\n",
        "\n",
        "# Soma os vetores\n",
        "TC0 = torch.sum(TA, dim=0)\n",
        "TC1 = torch.sum(TA, dim=1)\n",
        "TC2 = torch.sum(TA, dim=2)\n",
        "TC3 = torch.sum(TA, dim=3)\n",
        "\n",
        "# Mostra as somas\n",
        "print(\"Soma pela dimensão 0\")\n",
        "print(TC0)\n",
        "print(\"Soma pela dimensão 1\")\n",
        "print(TC1)\n",
        "print(\"Soma pela dimensão 2\")\n",
        "print(TC2)\n",
        "print(\"Soma pela dimensão 3\")\n",
        "print(TC3)"
      ],
      "execution_count": 19,
      "outputs": [
        {
          "output_type": "stream",
          "text": [
            "tensor([[[[1., 2., 3.],\n",
            "          [4., 5., 6.]],\n",
            "\n",
            "         [[1., 2., 3.],\n",
            "          [4., 5., 6.]]]])\n",
            "<class 'torch.Tensor'>\n",
            "torch.Size([1, 2, 2, 3])\n",
            "Soma pela dimensão 0\n",
            "tensor([[[1., 2., 3.],\n",
            "         [4., 5., 6.]],\n",
            "\n",
            "        [[1., 2., 3.],\n",
            "         [4., 5., 6.]]])\n",
            "Soma pela dimensão 1\n",
            "tensor([[[ 2.,  4.,  6.],\n",
            "         [ 8., 10., 12.]]])\n",
            "Soma pela dimensão 2\n",
            "tensor([[[5., 7., 9.],\n",
            "         [5., 7., 9.]]])\n",
            "Soma pela dimensão 3\n",
            "tensor([[[ 6., 15.],\n",
            "         [ 6., 15.]]])\n"
          ],
          "name": "stdout"
        }
      ]
    },
    {
      "cell_type": "markdown",
      "metadata": {
        "id": "XtJ8x01JgDLQ"
      },
      "source": [
        "###Média em 2 dimensões"
      ]
    },
    {
      "cell_type": "code",
      "metadata": {
        "id": "Gb76B2dhgFAB",
        "outputId": "ba5f2d20-47c2-4fd7-870f-d354333c6480",
        "colab": {
          "base_uri": "https://localhost:8080/"
        }
      },
      "source": [
        "# Bibliotecas\n",
        "import torch\n",
        "\n",
        "A =   [\n",
        "        [1.0, 2.0, 3.0],\n",
        "        [4.0, 5.0, 6.0]               \n",
        "      ]\n",
        "            \n",
        "    \n",
        "# Converte a lista de lista de matriz em um tensor\n",
        "TA = torch.as_tensor(A)\n",
        "\n",
        "# Mostra os tensores\n",
        "print(TA)\n",
        "print(type(TA))\n",
        "print(TA.size())\n",
        "\n",
        "# Média dos vetores\n",
        "TC0 = torch.mean(TA, dim=0)\n",
        "TC1 = torch.mean(TA, dim=1)\n",
        "\n",
        "# Mostra as médias\n",
        "print(\"Média pela dimensão 0\")\n",
        "print(TC0)\n",
        "print(TC0.size())\n",
        "\n",
        "print(\"Média pela dimensão 1\")\n",
        "print(TC1)\n",
        "print(TC1.size())"
      ],
      "execution_count": 20,
      "outputs": [
        {
          "output_type": "stream",
          "text": [
            "tensor([[1., 2., 3.],\n",
            "        [4., 5., 6.]])\n",
            "<class 'torch.Tensor'>\n",
            "torch.Size([2, 3])\n",
            "Média pela dimensão 0\n",
            "tensor([2.5000, 3.5000, 4.5000])\n",
            "torch.Size([3])\n",
            "Média pela dimensão 1\n",
            "tensor([2., 5.])\n",
            "torch.Size([2])\n"
          ],
          "name": "stdout"
        }
      ]
    },
    {
      "cell_type": "markdown",
      "metadata": {
        "id": "fxCcc8ZY-nuQ"
      },
      "source": [
        "###Média em 4 dimensões"
      ]
    },
    {
      "cell_type": "code",
      "metadata": {
        "id": "jvzBfSDSQ8Qy",
        "outputId": "1dff5890-269b-48f3-cfac-0881308f3327",
        "colab": {
          "base_uri": "https://localhost:8080/"
        }
      },
      "source": [
        "# Bibliotecas\n",
        "import torch\n",
        "\n",
        "A =   [\n",
        "        [ \n",
        "          [ \n",
        "            [1.0, 2.0, 3.0],\n",
        "            [4.0, 5.0, 6.0]               \n",
        "          ],\n",
        "          [ \n",
        "            [1.0, 2.0, 3.0],\n",
        "            [4.0, 5.0, 6.0]               \n",
        "          ]\n",
        "        ]\n",
        "      ]      \n",
        "    \n",
        "# Converte a lista de lista de matriz em um tensor\n",
        "TA = torch.as_tensor(A)\n",
        "\n",
        "# Mostra os tensores\n",
        "print(TA)\n",
        "print(type(TA))\n",
        "print(TA.size())\n",
        "\n",
        "# Média dos vetores\n",
        "TC0 = torch.mean(TA, dim=0)\n",
        "TC1 = torch.mean(TA, dim=1)\n",
        "TC2 = torch.mean(TA, dim=2)\n",
        "TC3 = torch.mean(TA, dim=3)\n",
        "\n",
        "# Mostra as médias\n",
        "print(\"Média pela dimensão 0\")\n",
        "print(TC0)\n",
        "print(TC0.size())\n",
        "\n",
        "print(\"Média pela dimensão 1\")\n",
        "print(TC1)\n",
        "print(TC1.size())\n",
        "\n",
        "print(\"Média pela dimensão 2\")\n",
        "print(TC2)\n",
        "print(TC2.size())\n",
        "\n",
        "print(\"Média pela dimensão 3\")\n",
        "print(TC3)\n",
        "print(TC3.size())"
      ],
      "execution_count": 21,
      "outputs": [
        {
          "output_type": "stream",
          "text": [
            "tensor([[[[1., 2., 3.],\n",
            "          [4., 5., 6.]],\n",
            "\n",
            "         [[1., 2., 3.],\n",
            "          [4., 5., 6.]]]])\n",
            "<class 'torch.Tensor'>\n",
            "torch.Size([1, 2, 2, 3])\n",
            "Média pela dimensão 0\n",
            "tensor([[[1., 2., 3.],\n",
            "         [4., 5., 6.]],\n",
            "\n",
            "        [[1., 2., 3.],\n",
            "         [4., 5., 6.]]])\n",
            "torch.Size([2, 2, 3])\n",
            "Média pela dimensão 1\n",
            "tensor([[[1., 2., 3.],\n",
            "         [4., 5., 6.]]])\n",
            "torch.Size([1, 2, 3])\n",
            "Média pela dimensão 2\n",
            "tensor([[[2.5000, 3.5000, 4.5000],\n",
            "         [2.5000, 3.5000, 4.5000]]])\n",
            "torch.Size([1, 2, 3])\n",
            "Média pela dimensão 3\n",
            "tensor([[[2., 5.],\n",
            "         [2., 5.]]])\n",
            "torch.Size([1, 2, 2])\n"
          ],
          "name": "stdout"
        }
      ]
    },
    {
      "cell_type": "markdown",
      "metadata": {
        "id": "tklJhmcrCFS7"
      },
      "source": [
        "###Permute\n",
        "\n",
        "\n",
        "Troca a ordem das dimensões."
      ]
    },
    {
      "cell_type": "code",
      "metadata": {
        "id": "5Ayfdnw7CGVl",
        "outputId": "888c891f-8b10-43f4-93c8-cb4c885dc94d",
        "colab": {
          "base_uri": "https://localhost:8080/"
        }
      },
      "source": [
        "# Bibliotecas\n",
        "import torch\n",
        "\n",
        "A = [     \n",
        "      [\n",
        "        [1, 2, 3],\n",
        "        [4, 5, 6]\n",
        "      ]\n",
        "    ]\n",
        "\n",
        "# Converte a lista de lista de matriz em um tensor\n",
        "TA = torch.as_tensor(A)\n",
        "\n",
        "# Mostra os tensores\n",
        "print(TA)\n",
        "print(type(TA))\n",
        "print(TA.size())\n",
        "\n",
        "# Permute troca as dimensões 0, 1, 2 pelas dimensões 2, 1, 0\n",
        "TC0 = TA.permute(2, 1, 0)\n",
        "\n",
        "# Mostra o tensor modificado\n",
        "print(\"Permutação das dimensões 0, 1, 2 por 2, 1, 0\")\n",
        "print(TC0)\n",
        "print(TC0.size())"
      ],
      "execution_count": 22,
      "outputs": [
        {
          "output_type": "stream",
          "text": [
            "tensor([[[1, 2, 3],\n",
            "         [4, 5, 6]]])\n",
            "<class 'torch.Tensor'>\n",
            "torch.Size([1, 2, 3])\n",
            "Permutação das dimensões 0, 1, 2 por 2, 1, 0\n",
            "tensor([[[1],\n",
            "         [4]],\n",
            "\n",
            "        [[2],\n",
            "         [5]],\n",
            "\n",
            "        [[3],\n",
            "         [6]]])\n",
            "torch.Size([3, 2, 1])\n"
          ],
          "name": "stdout"
        }
      ]
    },
    {
      "cell_type": "markdown",
      "metadata": {
        "id": "_yQhjh0PAVDj"
      },
      "source": [
        "###Squeeze\n",
        "\n",
        "Remove as dimensões de tamanho 1 para a posição especificada.\n",
        "\n",
        "https://pytorch.org/docs/stable/generated/torch.squeeze.html"
      ]
    },
    {
      "cell_type": "code",
      "metadata": {
        "id": "m5MwtkgzAVDj",
        "outputId": "50330166-fbf1-4e91-b94b-387641fed18c",
        "colab": {
          "base_uri": "https://localhost:8080/"
        }
      },
      "source": [
        "# Bibliotecas\n",
        "import torch\n",
        "\n",
        "A = [\n",
        "      [     \n",
        "        [\n",
        "          [1, 2, 3],\n",
        "          [4, 5, 6]\n",
        "        ]\n",
        "      ]\n",
        "    ]\n",
        "    \n",
        "# Converte a lista de lista de matriz em um tensor\n",
        "TA = torch.as_tensor(A)\n",
        "\n",
        "# Mostra os tensores\n",
        "print(TA)\n",
        "print(\"Tamanho das dimensões:\", TA.size())\n",
        "\n",
        "# Remove primeira dimensão de tamanho 1\n",
        "TC0 = torch.squeeze(TA, dim=0)\n",
        "\n",
        "# Mostra o tensor com a dimensão removida\n",
        "print(\"Tamanho das dimensões:\", TC0.size())\n",
        "\n",
        "# Remove primeira dimensão de tamanho 1\n",
        "TC0 = torch.squeeze(TC0, dim=0)\n",
        "\n",
        "# Mostra o tensor com a dimensão removida\n",
        "print(\"Tamanho das dimensões:\", TC0.size())"
      ],
      "execution_count": 23,
      "outputs": [
        {
          "output_type": "stream",
          "text": [
            "tensor([[[[1, 2, 3],\n",
            "          [4, 5, 6]]]])\n",
            "Tamanho das dimensões: torch.Size([1, 1, 2, 3])\n",
            "Tamanho das dimensões: torch.Size([1, 2, 3])\n",
            "Tamanho das dimensões: torch.Size([2, 3])\n"
          ],
          "name": "stdout"
        }
      ]
    },
    {
      "cell_type": "markdown",
      "metadata": {
        "id": "8lV5P2WjZ_rZ"
      },
      "source": [
        "### Unsqueeze\n",
        "\n",
        "Insere uma dimensão de tamanho 1 na posição especificada.\n",
        "Inverso do squeeze.\n",
        "\n",
        "https://pytorch.org/docs/stable/generated/torch.unsqueeze.html"
      ]
    },
    {
      "cell_type": "code",
      "metadata": {
        "id": "PJ7ieZAyaADn",
        "outputId": "e021c0d2-8fc4-44b4-e92d-785f3c2a2854",
        "colab": {
          "base_uri": "https://localhost:8080/"
        }
      },
      "source": [
        "# Bibliotecas\n",
        "import torch\n",
        "\n",
        "A =   [\n",
        "       [1, 2, 3],\n",
        "       [4, 5, 6]\n",
        "      ]\n",
        "    \n",
        "# Converte a lista de lista de matriz em um tensor\n",
        "TA = torch.as_tensor(A)\n",
        "\n",
        "# Mostra os tensores\n",
        "print(TA)\n",
        "print(\"Tamanho das dimensões:\", TA.size())\n",
        "\n",
        "# Insere primeira dimensão de tamanho 1\n",
        "TC0 = torch.unsqueeze(TA, dim=0)\n",
        "\n",
        "# Mostra o tensor com a dimensão inserida\n",
        "print(\"Tamanho das dimensões:\", TC0.size())\n",
        "\n",
        "# Insere primeira dimensão de tamanho 1\n",
        "TC0 = torch.unsqueeze(TC0, dim=0)\n",
        "\n",
        "# Mostra o tensor com a dimensão inserida\n",
        "print(\"Tamanho das dimensões:\", TC0.size())"
      ],
      "execution_count": 24,
      "outputs": [
        {
          "output_type": "stream",
          "text": [
            "tensor([[1, 2, 3],\n",
            "        [4, 5, 6]])\n",
            "Tamanho das dimensões: torch.Size([2, 3])\n",
            "Tamanho das dimensões: torch.Size([1, 2, 3])\n",
            "Tamanho das dimensões: torch.Size([1, 1, 2, 3])\n"
          ],
          "name": "stdout"
        }
      ]
    },
    {
      "cell_type": "markdown",
      "metadata": {
        "id": "fCTDRntI6Gb9"
      },
      "source": [
        "### max\n",
        "\n",
        "Retorna o valor máximo de todos os elementos de um tensor.\n",
        "\n",
        "https://pytorch.org/docs/stable/generated/torch.max.html\n",
        "\n",
        "https://www.journaldev.com/39463/pytorch-torch-max"
      ]
    },
    {
      "cell_type": "code",
      "metadata": {
        "id": "S-tPqc3m6Gb-",
        "outputId": "fd9cdb57-a881-4cb3-b9bb-7b489c00a884",
        "colab": {
          "base_uri": "https://localhost:8080/"
        }
      },
      "source": [
        "# Bibliotecas\n",
        "import torch\n",
        "\n",
        "A =   [\n",
        "       [1, 2, 3],\n",
        "       [4, 5, 6]\n",
        "      ]\n",
        "    \n",
        "# Converte a lista de lista de matriz em um tensor\n",
        "TA = torch.as_tensor(A)\n",
        "\n",
        "# Mostra os tensores\n",
        "print(TA)\n",
        "\n",
        "# Mostra o maior valor de tensor\n",
        "print(\"Maior valor de tensor:\", TA.max())\n",
        "\n",
        "# Mostra a linha com os maiores valores dos tensores\n",
        "maior, linha = torch.max(TA, 0) \n",
        "print(\"Maior linha tensor:\", maior, \" linha:\", linha)\n",
        "\n",
        "# Mostra a coluna com os maiores valores dos tensores\n",
        "maior, coluna = torch.max(TA, 1) \n",
        "print(\"Maior coluna tensor:\", maior, \" coluna:\", coluna)"
      ],
      "execution_count": 25,
      "outputs": [
        {
          "output_type": "stream",
          "text": [
            "tensor([[1, 2, 3],\n",
            "        [4, 5, 6]])\n",
            "Maior valor de tensor: tensor(6)\n",
            "Maior linha tensor: tensor([4, 5, 6])  linha: tensor([1, 1, 1])\n",
            "Maior coluna tensor: tensor([3, 6])  coluna: tensor([2, 2])\n"
          ],
          "name": "stdout"
        }
      ]
    },
    {
      "cell_type": "markdown",
      "metadata": {
        "id": "nlZ1Hu4s1vwn"
      },
      "source": [
        "# Carregamento de Dados dom Pytorch\n",
        "\n",
        "Cria um iterador para o conjunto de dados usando a classe `DataLoader` da Pytorch. Isso ajuda a economizar memória durante o treinamento, porque, diferentemente do for loop, com um iterador, o conjunto de dados inteiro não precisa ser carregado na memória."
      ]
    },
    {
      "cell_type": "markdown",
      "metadata": {
        "id": "1uHy02WZ10Qe"
      },
      "source": [
        "## Dataset e Dataloader\n",
        "\n",
        "https://www.youtube.com/watch?v=PXOzkkB5eH0"
      ]
    },
    {
      "cell_type": "markdown",
      "metadata": {
        "id": "jEFopSnd15tP"
      },
      "source": [
        "### Dados de exemplo"
      ]
    },
    {
      "cell_type": "markdown",
      "metadata": {
        "id": "aet1eHjGwwmR"
      },
      "source": [
        "#### Especifica o nome do arquivo de dados"
      ]
    },
    {
      "cell_type": "code",
      "metadata": {
        "id": "lJd-45cywwmS"
      },
      "source": [
        "# Nome do arquivo\n",
        "# Arquivo possui 49459 linhas\n",
        "\n",
        "nomearquivo = 'imdb-reviews-pt-br.csv'\n",
        "caminhoarquivo = '/content/' + nomearquivo"
      ],
      "execution_count": 26,
      "outputs": []
    },
    {
      "cell_type": "markdown",
      "metadata": {
        "id": "kUsFHhWewwmV"
      },
      "source": [
        "#### Download do arquivo de dados\n",
        "\n"
      ]
    },
    {
      "cell_type": "code",
      "metadata": {
        "id": "Ag_1FDxFwwmV",
        "outputId": "afcdce40-be5f-4617-f88e-1cf8f1ad2d86",
        "colab": {
          "base_uri": "https://localhost:8080/"
        }
      },
      "source": [
        "# Apaga o arquivo \n",
        "!rm $caminhoarquivo\n",
        "\n",
        "# Realiza o download do arquivo da url especificada\n",
        "!wget https://dados-ml-pln.s3-sa-east-1.amazonaws.com/$nomearquivo\n",
        "\n",
        "# Lista o diretório corrente e os arquivos.\n",
        "!pwd\n",
        "!ls -la"
      ],
      "execution_count": 27,
      "outputs": [
        {
          "output_type": "stream",
          "text": [
            "rm: cannot remove '/content/imdb-reviews-pt-br.csv': No such file or directory\n",
            "--2020-10-08 02:02:59--  https://dados-ml-pln.s3-sa-east-1.amazonaws.com/imdb-reviews-pt-br.csv\n",
            "Resolving dados-ml-pln.s3-sa-east-1.amazonaws.com (dados-ml-pln.s3-sa-east-1.amazonaws.com)... 52.95.163.15\n",
            "Connecting to dados-ml-pln.s3-sa-east-1.amazonaws.com (dados-ml-pln.s3-sa-east-1.amazonaws.com)|52.95.163.15|:443... connected.\n",
            "HTTP request sent, awaiting response... 200 OK\n",
            "Length: 127066935 (121M) [text/csv]\n",
            "Saving to: ‘imdb-reviews-pt-br.csv’\n",
            "\n",
            "imdb-reviews-pt-br. 100%[===================>] 121.18M  10.5MB/s    in 14s     \n",
            "\n",
            "2020-10-08 02:03:14 (8.97 MB/s) - ‘imdb-reviews-pt-br.csv’ saved [127066935/127066935]\n",
            "\n",
            "/content\n",
            "total 124108\n",
            "drwxr-xr-x 1 root root      4096 Oct  8 02:03 .\n",
            "drwxr-xr-x 1 root root      4096 Oct  8 01:52 ..\n",
            "drwxr-xr-x 1 root root      4096 Oct  5 16:31 .config\n",
            "-rw-r--r-- 1 root root 127066935 Mar 29  2020 imdb-reviews-pt-br.csv\n",
            "drwxr-xr-x 1 root root      4096 Oct  5 16:31 sample_data\n"
          ],
          "name": "stdout"
        }
      ]
    },
    {
      "cell_type": "markdown",
      "metadata": {
        "id": "08pO03Ff1BjI"
      },
      "source": [
        "Atributos do arquivo **imdb-reviews-pt-br.csv**:\n",
        "0. \"id\"\n",
        "1. \"text_en\"\n",
        "2. \"text_pt\"\n",
        "3. \"sentiment\""
      ]
    },
    {
      "cell_type": "code",
      "metadata": {
        "id": "_UkeC7SG2krJ",
        "outputId": "643fdca2-9c93-4839-cfe8-26413f424ca6",
        "colab": {
          "base_uri": "https://localhost:8080/"
        }
      },
      "source": [
        "import pandas as pd\n",
        "\n",
        "# Carrega o conjunto de dados em dataFrame pandas.\n",
        "df = pd.read_csv(caminhoarquivo,usecols=['text_pt','sentiment'])\n",
        "\n",
        "# Reduz a quantidade de registros\n",
        "df = df[-100:].append(df[0:100])\n",
        "\n",
        "# Mostra o número de registros\n",
        "print('Número de registros: {:,}\\n'.format(df.shape[0]))\n",
        "\n",
        "# Informações do DataFrame\n",
        "print(df.info())"
      ],
      "execution_count": 28,
      "outputs": [
        {
          "output_type": "stream",
          "text": [
            "Número de registros: 200\n",
            "\n",
            "<class 'pandas.core.frame.DataFrame'>\n",
            "Int64Index: 200 entries, 49359 to 99\n",
            "Data columns (total 2 columns):\n",
            " #   Column     Non-Null Count  Dtype \n",
            "---  ------     --------------  ----- \n",
            " 0   text_pt    200 non-null    object\n",
            " 1   sentiment  200 non-null    object\n",
            "dtypes: object(2)\n",
            "memory usage: 4.7+ KB\n",
            "None\n"
          ],
          "name": "stdout"
        }
      ]
    },
    {
      "cell_type": "code",
      "metadata": {
        "id": "wDrLZmg832bm"
      },
      "source": [
        "# Renomeia a coluna text_pt para sentence e sentiment para label\n",
        "df = df.rename(columns={'text_pt': 'sentence', 'sentiment': 'label'})"
      ],
      "execution_count": 29,
      "outputs": []
    },
    {
      "cell_type": "code",
      "metadata": {
        "id": "pqJrYFNcZ-rs",
        "outputId": "e6558722-07b3-4dd0-f203-cc4f967fbd7b",
        "colab": {
          "base_uri": "https://localhost:8080/",
          "height": 204
        }
      },
      "source": [
        "# Mostra 10 linhas aleatórias\n",
        "df.sample(5)"
      ],
      "execution_count": 30,
      "outputs": [
        {
          "output_type": "execute_result",
          "data": {
            "text/html": [
              "<div>\n",
              "<style scoped>\n",
              "    .dataframe tbody tr th:only-of-type {\n",
              "        vertical-align: middle;\n",
              "    }\n",
              "\n",
              "    .dataframe tbody tr th {\n",
              "        vertical-align: top;\n",
              "    }\n",
              "\n",
              "    .dataframe thead th {\n",
              "        text-align: right;\n",
              "    }\n",
              "</style>\n",
              "<table border=\"1\" class=\"dataframe\">\n",
              "  <thead>\n",
              "    <tr style=\"text-align: right;\">\n",
              "      <th></th>\n",
              "      <th>sentence</th>\n",
              "      <th>label</th>\n",
              "    </tr>\n",
              "  </thead>\n",
              "  <tbody>\n",
              "    <tr>\n",
              "      <th>49440</th>\n",
              "      <td>Eu vi este filme em Winnipeg recentemente - ap...</td>\n",
              "      <td>pos</td>\n",
              "    </tr>\n",
              "    <tr>\n",
              "      <th>49397</th>\n",
              "      <td>Dream Quest foi um filme surpreendentemente bo...</td>\n",
              "      <td>pos</td>\n",
              "    </tr>\n",
              "    <tr>\n",
              "      <th>49444</th>\n",
              "      <td>Eu tive a chance de ver uma exibição desse fil...</td>\n",
              "      <td>pos</td>\n",
              "    </tr>\n",
              "    <tr>\n",
              "      <th>79</th>\n",
              "      <td>As pessoas esperavam que o \"Jurassic Park 3\" f...</td>\n",
              "      <td>neg</td>\n",
              "    </tr>\n",
              "    <tr>\n",
              "      <th>49411</th>\n",
              "      <td>Bem, se você tem a mente aberta o suficiente p...</td>\n",
              "      <td>pos</td>\n",
              "    </tr>\n",
              "  </tbody>\n",
              "</table>\n",
              "</div>"
            ],
            "text/plain": [
              "                                                sentence label\n",
              "49440  Eu vi este filme em Winnipeg recentemente - ap...   pos\n",
              "49397  Dream Quest foi um filme surpreendentemente bo...   pos\n",
              "49444  Eu tive a chance de ver uma exibição desse fil...   pos\n",
              "79     As pessoas esperavam que o \"Jurassic Park 3\" f...   neg\n",
              "49411  Bem, se você tem a mente aberta o suficiente p...   pos"
            ]
          },
          "metadata": {
            "tags": []
          },
          "execution_count": 30
        }
      ]
    },
    {
      "cell_type": "markdown",
      "metadata": {
        "id": "QJCdTWQh2jj6"
      },
      "source": [
        "### Classe Dataset\n",
        "\n",
        "Criar a classe ConjuntoDados herdando a classe abstrata Dataset.\n",
        "\n",
        "Uma classe derivada da classe Dataset do Pytorch, precisa implementar os três métodos:  `__init__`, `__len__` e `__getitem__`.\n",
        "\n",
        "- `__init__`: O construtor da classe, executando quando a classe for instânciada, atribui alguns valores aos atributos.\n",
        "\n",
        "- `__len__`: Responsável por retornar o tamanho total do dataset quando chamamos len(dataset).\n",
        "\n",
        "- `__getitem__`: Retorna o item escolhido através do índice. Quando chamemos dataset[0] irá retornar o primeiro item do dataset.\n",
        "\n",
        "https://stanford.edu/~shervine/blog/pytorch-how-to-generate-data-parallel"
      ]
    },
    {
      "cell_type": "code",
      "metadata": {
        "id": "xbERTyTB2jwx"
      },
      "source": [
        "from torch.utils.data.dataset import Dataset\n",
        "import torch\n",
        "\n",
        "class ConjuntoDados(Dataset):\n",
        "        \n",
        "    # Construtor da classe\n",
        "    def __init__(self, dados):\n",
        "\n",
        "        # Cria uma cópia dos dados, caso contrário vira uma referência   \n",
        "        dados = dados.copy()\n",
        "    \n",
        "        # Converte a coluna sentence para inputs_ids\n",
        "        dados['input_ids'] = dados['sentence']\n",
        "        \n",
        "        # Converte a coluna labels para um valor inteiro\n",
        "        dados['labels'] = (dados['label'] == 'pos').astype(int)\n",
        "        \n",
        "         # Converte os dados de inputs_is e labels para uma lista de dicionário orientado a registros\n",
        "        self.dadosExemplo = dados[['input_ids', 'labels']].to_dict('records')\n",
        "    \n",
        "    # Facilita o acesso ao conteúdo dos dados de exemplo\n",
        "    def __getitem__(self, index):        \n",
        "        # Retorna um item expecifico dos dados de exemplo.\n",
        "        # A quantidade de itens retornandos depende da quantidade de elementos em exemplo\n",
        "        # que é dividido pelo tamanho de lotes do DataLoader.\n",
        "        return  {\n",
        "                  key: value for key, value in self.dadosExemplo[index].items()\n",
        "                }\n",
        "     \n",
        "    # Retorna a quantidade de dados de exemplo\n",
        "    def __len__(self):\n",
        "        return len(self.dadosExemplo)"
      ],
      "execution_count": 31,
      "outputs": []
    },
    {
      "cell_type": "markdown",
      "metadata": {
        "id": "u11UrqJQQIQh"
      },
      "source": [
        "### DataLoader utilizando a classe Dataset\n",
        "\n",
        "A quantidade elementos em DataLoader é o resultado da divisão inteira entre quantidade de registro do cojunto dividido pelo tamanho dos lotes(batch_size)."
      ]
    },
    {
      "cell_type": "code",
      "metadata": {
        "id": "Qp73jVaO5c_9",
        "outputId": "4a9680d8-31ce-411c-b73f-bc39d4d2f73a",
        "colab": {
          "base_uri": "https://localhost:8080/"
        }
      },
      "source": [
        "from torch.utils.data import DataLoader\n",
        "\n",
        "# Cria o conjunto de dados para o DataFrame\n",
        "conjunto_dados_treino = ConjuntoDados(df)\n",
        "\n",
        "# Mostra o tamanho do conjunto de dados(usa o método __len__)\n",
        "print(\"Existem \", len(conjunto_dados_treino), \" registros de dados\")\n",
        "\n",
        "# Cria o DataLoader para o conjunto de dados na classe ConjuntoDados(Dataset)\n",
        "# batch_size é o tamanho dos lotes criado pelo DataLoader\n",
        "carregador_treino = DataLoader(conjunto_dados_treino, batch_size = 3, num_workers = 2)\n",
        "\n",
        "# Tamanho e quantidade de lotes\n",
        "print(\"Existem \", carregador_treino.batch_size, \" registros por lotes\")\n",
        "print(\"Existem \", len(carregador_treino), \" lotes\")\n",
        "print(\"Total = \", (len(carregador_treino) * carregador_treino.batch_size ), \" registros nos lotes\")"
      ],
      "execution_count": 32,
      "outputs": [
        {
          "output_type": "stream",
          "text": [
            "Existem  200  registros de dados\n",
            "Existem  3  registros por lotes\n",
            "Existem  67  lotes\n",
            "Total =  201  registros nos lotes\n"
          ],
          "name": "stdout"
        }
      ]
    },
    {
      "cell_type": "code",
      "metadata": {
        "id": "JDGw-8XD79yC",
        "outputId": "b89b4366-a65b-41a8-df11-3695a1c55a29",
        "colab": {
          "base_uri": "https://localhost:8080/"
        }
      },
      "source": [
        "max_epoca = 1\n",
        "\n",
        "# Percorre as épocas\n",
        "for epoca in range(max_epoca):\n",
        "    # Treino\n",
        "    qtdeRegistros = 0\n",
        "    qtdeIteracoes = 0    \n",
        "    # Percorre os 67 lotes do carregador\n",
        "    # Cada lote tem o tamanho 3\n",
        "    for i, lote in enumerate(carregador_treino):\n",
        "        #print(i, lote)\n",
        "        # Conta a quantidade registros de cada lote\n",
        "        qtdeRegistros = qtdeRegistros + len(lote['labels'])\n",
        "        # Conta as iterações do carregador\n",
        "        qtdeIteracoes = qtdeIteracoes + 1\n",
        "\n",
        "    print(\"Época:\", epoca)\n",
        "    print(\"     Total registros:\", qtdeRegistros)\n",
        "    print(\"     Total iterações:\", qtdeIteracoes)"
      ],
      "execution_count": 33,
      "outputs": [
        {
          "output_type": "stream",
          "text": [
            "Época: 0\n",
            "     Total registros: 200\n",
            "     Total iterações: 67\n"
          ],
          "name": "stdout"
        }
      ]
    },
    {
      "cell_type": "markdown",
      "metadata": {
        "id": "wRHosacNRWi_"
      },
      "source": [
        "## TensorDataset e DataLoader\n",
        "\n",
        "Se não desejar criar a classe Dataset pode utilizar diretamente a classe TensorDataset e especificar os dados."
      ]
    },
    {
      "cell_type": "markdown",
      "metadata": {
        "id": "-dAuLm7rSrSX"
      },
      "source": [
        "### Dados de exemplo"
      ]
    },
    {
      "cell_type": "markdown",
      "metadata": {
        "id": "TVfFrAKaSrSY"
      },
      "source": [
        "#### Especifica o nome do arquivo de dados"
      ]
    },
    {
      "cell_type": "code",
      "metadata": {
        "id": "g2iDj08jSrSY"
      },
      "source": [
        "# Nome do arquivo\n",
        "# Arquivo possui 49459 linhas\n",
        "\n",
        "nomearquivo = 'imdb-reviews-pt-br.csv'\n",
        "caminhoarquivo = '/content/' + nomearquivo"
      ],
      "execution_count": 34,
      "outputs": []
    },
    {
      "cell_type": "markdown",
      "metadata": {
        "id": "MZtu3SvNSrSb"
      },
      "source": [
        "#### Download do arquivo de dados\n",
        "\n"
      ]
    },
    {
      "cell_type": "code",
      "metadata": {
        "id": "-36kyx-oSrSb",
        "outputId": "994018e6-df96-4f3b-8d44-9e0971d3cbf8",
        "colab": {
          "base_uri": "https://localhost:8080/"
        }
      },
      "source": [
        "# Apaga o arquivo \n",
        "!rm $caminhoarquivo\n",
        "\n",
        "# Realiza o download do arquivo da url especificada\n",
        "!wget https://dados-ml-pln.s3-sa-east-1.amazonaws.com/$nomearquivo\n",
        "\n",
        "# Lista o diretório corrente e os arquivos.\n",
        "!pwd\n",
        "!ls -la"
      ],
      "execution_count": 35,
      "outputs": [
        {
          "output_type": "stream",
          "text": [
            "--2020-10-08 02:03:16--  https://dados-ml-pln.s3-sa-east-1.amazonaws.com/imdb-reviews-pt-br.csv\n",
            "Resolving dados-ml-pln.s3-sa-east-1.amazonaws.com (dados-ml-pln.s3-sa-east-1.amazonaws.com)... 52.95.163.3\n",
            "Connecting to dados-ml-pln.s3-sa-east-1.amazonaws.com (dados-ml-pln.s3-sa-east-1.amazonaws.com)|52.95.163.3|:443... connected.\n",
            "HTTP request sent, awaiting response... 200 OK\n",
            "Length: 127066935 (121M) [text/csv]\n",
            "Saving to: ‘imdb-reviews-pt-br.csv’\n",
            "\n",
            "imdb-reviews-pt-br. 100%[===================>] 121.18M  10.6MB/s    in 13s     \n",
            "\n",
            "2020-10-08 02:03:31 (9.02 MB/s) - ‘imdb-reviews-pt-br.csv’ saved [127066935/127066935]\n",
            "\n",
            "/content\n",
            "total 124112\n",
            "drwxr-xr-x 1 root root      4096 Oct  8 02:03 .\n",
            "drwxr-xr-x 1 root root      4096 Oct  8 01:52 ..\n",
            "drwxr-xr-x 1 root root      4096 Oct  5 16:31 .config\n",
            "-rw-r--r-- 1 root root 127066935 Mar 29  2020 imdb-reviews-pt-br.csv\n",
            "drwxr-xr-x 1 root root      4096 Oct  5 16:31 sample_data\n"
          ],
          "name": "stdout"
        }
      ]
    },
    {
      "cell_type": "markdown",
      "metadata": {
        "id": "yKsVgHA_SrSg"
      },
      "source": [
        "Atributos do arquivo **imdb-reviews-pt-br.csv**:\n",
        "0. \"id\"\n",
        "1. \"text_en\"\n",
        "2. \"text_pt\"\n",
        "3. \"sentiment\""
      ]
    },
    {
      "cell_type": "code",
      "metadata": {
        "id": "DZkka8a4SrSg",
        "outputId": "c555aae3-e338-447d-d60b-bd613664c428",
        "colab": {
          "base_uri": "https://localhost:8080/"
        }
      },
      "source": [
        "import pandas as pd\n",
        "\n",
        "# Carrega o conjunto de dados em dataFrame pandas.\n",
        "df = pd.read_csv(caminhoarquivo,usecols=['text_pt','sentiment'])\n",
        "\n",
        "# Reduz a quantidade de registros\n",
        "df = df[-100:].append(df[0:100])\n",
        "\n",
        "# Mostra o número de registros\n",
        "print('Número de registros: {:,}\\n'.format(df.shape[0]))\n",
        "\n",
        "# Informações do DataFrame\n",
        "print(df.info())"
      ],
      "execution_count": 36,
      "outputs": [
        {
          "output_type": "stream",
          "text": [
            "Número de registros: 200\n",
            "\n",
            "<class 'pandas.core.frame.DataFrame'>\n",
            "Int64Index: 200 entries, 49359 to 99\n",
            "Data columns (total 2 columns):\n",
            " #   Column     Non-Null Count  Dtype \n",
            "---  ------     --------------  ----- \n",
            " 0   text_pt    200 non-null    object\n",
            " 1   sentiment  200 non-null    object\n",
            "dtypes: object(2)\n",
            "memory usage: 4.7+ KB\n",
            "None\n"
          ],
          "name": "stdout"
        }
      ]
    },
    {
      "cell_type": "code",
      "metadata": {
        "id": "Ba16tuSjSrSj"
      },
      "source": [
        "# Renomeia a coluna text_pt para sentence e sentiment para label\n",
        "df = df.rename(columns={'text_pt': 'sentence', 'sentiment': 'label'})"
      ],
      "execution_count": 37,
      "outputs": []
    },
    {
      "cell_type": "code",
      "metadata": {
        "id": "qteH-iuCSrSl",
        "outputId": "bcda3189-a34d-40b4-edac-4606fb97b36e",
        "colab": {
          "base_uri": "https://localhost:8080/",
          "height": 204
        }
      },
      "source": [
        "# Mostra 10 linhas aleatórias\n",
        "df.sample(5)"
      ],
      "execution_count": 38,
      "outputs": [
        {
          "output_type": "execute_result",
          "data": {
            "text/html": [
              "<div>\n",
              "<style scoped>\n",
              "    .dataframe tbody tr th:only-of-type {\n",
              "        vertical-align: middle;\n",
              "    }\n",
              "\n",
              "    .dataframe tbody tr th {\n",
              "        vertical-align: top;\n",
              "    }\n",
              "\n",
              "    .dataframe thead th {\n",
              "        text-align: right;\n",
              "    }\n",
              "</style>\n",
              "<table border=\"1\" class=\"dataframe\">\n",
              "  <thead>\n",
              "    <tr style=\"text-align: right;\">\n",
              "      <th></th>\n",
              "      <th>sentence</th>\n",
              "      <th>label</th>\n",
              "    </tr>\n",
              "  </thead>\n",
              "  <tbody>\n",
              "    <tr>\n",
              "      <th>49444</th>\n",
              "      <td>Eu tive a chance de ver uma exibição desse fil...</td>\n",
              "      <td>pos</td>\n",
              "    </tr>\n",
              "    <tr>\n",
              "      <th>39</th>\n",
              "      <td>Se alguém lhe disser que essa foto é ótima, pr...</td>\n",
              "      <td>neg</td>\n",
              "    </tr>\n",
              "    <tr>\n",
              "      <th>49447</th>\n",
              "      <td>Eu pensei que esse filme fosse histérico. Eu a...</td>\n",
              "      <td>pos</td>\n",
              "    </tr>\n",
              "    <tr>\n",
              "      <th>71</th>\n",
              "      <td>Aya! Se você está procurando por efeitos espec...</td>\n",
              "      <td>neg</td>\n",
              "    </tr>\n",
              "    <tr>\n",
              "      <th>27</th>\n",
              "      <td>Uhhh ... então, eles ainda têm escritores para...</td>\n",
              "      <td>neg</td>\n",
              "    </tr>\n",
              "  </tbody>\n",
              "</table>\n",
              "</div>"
            ],
            "text/plain": [
              "                                                sentence label\n",
              "49444  Eu tive a chance de ver uma exibição desse fil...   pos\n",
              "39     Se alguém lhe disser que essa foto é ótima, pr...   neg\n",
              "49447  Eu pensei que esse filme fosse histérico. Eu a...   pos\n",
              "71     Aya! Se você está procurando por efeitos espec...   neg\n",
              "27     Uhhh ... então, eles ainda têm escritores para...   neg"
            ]
          },
          "metadata": {
            "tags": []
          },
          "execution_count": 38
        }
      ]
    },
    {
      "cell_type": "code",
      "metadata": {
        "id": "Ud-yeKh8TQfX",
        "outputId": "3d04e69d-ba8d-4320-eede-7062af89b64b",
        "colab": {
          "base_uri": "https://localhost:8080/",
          "height": 204
        }
      },
      "source": [
        "df.head(5)"
      ],
      "execution_count": 39,
      "outputs": [
        {
          "output_type": "execute_result",
          "data": {
            "text/html": [
              "<div>\n",
              "<style scoped>\n",
              "    .dataframe tbody tr th:only-of-type {\n",
              "        vertical-align: middle;\n",
              "    }\n",
              "\n",
              "    .dataframe tbody tr th {\n",
              "        vertical-align: top;\n",
              "    }\n",
              "\n",
              "    .dataframe thead th {\n",
              "        text-align: right;\n",
              "    }\n",
              "</style>\n",
              "<table border=\"1\" class=\"dataframe\">\n",
              "  <thead>\n",
              "    <tr style=\"text-align: right;\">\n",
              "      <th></th>\n",
              "      <th>sentence</th>\n",
              "      <th>label</th>\n",
              "    </tr>\n",
              "  </thead>\n",
              "  <tbody>\n",
              "    <tr>\n",
              "      <th>49359</th>\n",
              "      <td>Tal como acontece com a maioria dos filmes de ...</td>\n",
              "      <td>pos</td>\n",
              "    </tr>\n",
              "    <tr>\n",
              "      <th>49360</th>\n",
              "      <td>Rosalind Russell executa uma performance de po...</td>\n",
              "      <td>pos</td>\n",
              "    </tr>\n",
              "    <tr>\n",
              "      <th>49361</th>\n",
              "      <td>Absolutamente drama maravilhoso e Ros é entalh...</td>\n",
              "      <td>pos</td>\n",
              "    </tr>\n",
              "    <tr>\n",
              "      <th>49362</th>\n",
              "      <td>Além de ser um filme extremamente divertido, p...</td>\n",
              "      <td>pos</td>\n",
              "    </tr>\n",
              "    <tr>\n",
              "      <th>49363</th>\n",
              "      <td>Revisado no World Premiere exibição em 9 de se...</td>\n",
              "      <td>pos</td>\n",
              "    </tr>\n",
              "  </tbody>\n",
              "</table>\n",
              "</div>"
            ],
            "text/plain": [
              "                                                sentence label\n",
              "49359  Tal como acontece com a maioria dos filmes de ...   pos\n",
              "49360  Rosalind Russell executa uma performance de po...   pos\n",
              "49361  Absolutamente drama maravilhoso e Ros é entalh...   pos\n",
              "49362  Além de ser um filme extremamente divertido, p...   pos\n",
              "49363  Revisado no World Premiere exibição em 9 de se...   pos"
            ]
          },
          "metadata": {
            "tags": []
          },
          "execution_count": 39
        }
      ]
    },
    {
      "cell_type": "markdown",
      "metadata": {
        "id": "diGbwrivSuQP"
      },
      "source": [
        "### Usando TensorDataset\n",
        "\n",
        "https://pytorch.org/cppdocs/api/structtorch_1_1data_1_1datasets_1_1_tensor_dataset.html"
      ]
    },
    {
      "cell_type": "code",
      "metadata": {
        "id": "QmzB78qISVrc",
        "outputId": "2d7b6e33-a67d-4f65-d4a5-33a5f54a7bb0",
        "colab": {
          "base_uri": "https://localhost:8080/"
        }
      },
      "source": [
        "# Converte a coluna labels para um valor inteiro\n",
        "df['labels'] = (df['label'] == 'pos').astype(int)\n",
        "\n",
        "# Converte a coluna labels em um tensor\n",
        "dados_treino_tensor = torch.as_tensor(df['labels'].values)\n",
        "\n",
        "len(conjunto_dados_treino)"
      ],
      "execution_count": 40,
      "outputs": [
        {
          "output_type": "execute_result",
          "data": {
            "text/plain": [
              "200"
            ]
          },
          "metadata": {
            "tags": []
          },
          "execution_count": 40
        }
      ]
    },
    {
      "cell_type": "markdown",
      "metadata": {
        "id": "BW8hDISAX_80"
      },
      "source": [
        "Cria o TensorDaset passando um tensor"
      ]
    },
    {
      "cell_type": "code",
      "metadata": {
        "id": "KVS8X0vhXaGP",
        "outputId": "b1d71346-ab93-47c9-803e-b41e3bd91e3d",
        "colab": {
          "base_uri": "https://localhost:8080/"
        }
      },
      "source": [
        "from torch.utils.data import TensorDataset\n",
        "\n",
        "# Cria o TensorDataset utilizando um Tensor\n",
        "conjunto_dados_treino = TensorDataset(dados_treino_tensor)\n",
        "\n",
        "len(conjunto_dados_treino)"
      ],
      "execution_count": 41,
      "outputs": [
        {
          "output_type": "execute_result",
          "data": {
            "text/plain": [
              "200"
            ]
          },
          "metadata": {
            "tags": []
          },
          "execution_count": 41
        }
      ]
    },
    {
      "cell_type": "markdown",
      "metadata": {
        "id": "dgccW1gKXDpM"
      },
      "source": [
        "### DataLoader utilizando a classe TensorDataset\n",
        "\n",
        "A quantidade elementos em DataLoader é o resultado da divisão inteira entre quantidade de registro do cojunto dividido pelo tamanho dos lotes(batch_size).\n",
        "\n",
        "O parâmetro `sampler` do DataLoader é uma instância opcional da classe` torch.utils.data.Sampler`. Define a estratégia para recuperar os dados - sequencial(`SequentialSampler`) ou aleatória(`RandomSampler`) ou de qualquer outra forma. "
      ]
    },
    {
      "cell_type": "code",
      "metadata": {
        "id": "1fkHXaA9SWRV",
        "outputId": "f55d4dea-f92b-444b-9150-bbb0872321fd",
        "colab": {
          "base_uri": "https://localhost:8080/"
        }
      },
      "source": [
        "from torch.utils.data import DataLoader\n",
        "from torch.utils.data import RandomSampler\n",
        "from torch.utils.data import SequentialSampler\n",
        "\n",
        "# Mostra o tamanho do conjunto de dados(usa o método __len__)\n",
        "print(\"Existem \", len(conjunto_dados_treino), \" registros de dados\")\n",
        "\n",
        "#treino_sampler = RandomSampler(conjunto_dados_treino)\n",
        "treino_sampler = SequentialSampler(conjunto_dados_treino)\n",
        "#treino_sampler = SubsetRandomSampler(conjunto_dados_treino)\n",
        "\n",
        "# Cria o DataLoader para o conjunto de dados em um TensorDataset\n",
        "# batch_size é o número de lotes criado pelo DataLoader\n",
        "carregador_treino = DataLoader(conjunto_dados_treino, sampler=treino_sampler, batch_size=3)\n",
        "\n",
        "print(\"Existem \", carregador_treino.batch_size, \" registros por lotes\")\n",
        "print(\"Existem \", len(carregador_treino), \" lotes\")\n",
        "print(\"Total = \", (len(carregador_treino) * carregador_treino.batch_size ), \" registros nos lotes\")"
      ],
      "execution_count": 42,
      "outputs": [
        {
          "output_type": "stream",
          "text": [
            "Existem  200  registros de dados\n",
            "Existem  3  registros por lotes\n",
            "Existem  67  lotes\n",
            "Total =  201  registros nos lotes\n"
          ],
          "name": "stdout"
        }
      ]
    },
    {
      "cell_type": "code",
      "metadata": {
        "id": "ckSO8Dq1VTIO",
        "outputId": "cfe6601a-fff4-458d-88e9-82d86c7cb894",
        "colab": {
          "base_uri": "https://localhost:8080/"
        }
      },
      "source": [
        "max_epoca = 4\n",
        "\n",
        "# Percorre as épocas\n",
        "for epoca in range(max_epoca):\n",
        "    # Treino\n",
        "    qtdeRegistros = 0\n",
        "    qtdeIteracoes = 0\n",
        "    # Percorre os 67 lotes do carregador        \n",
        "    # Cada lote tem o tamanho 3\n",
        "    for i, lote in enumerate(carregador_treino):\n",
        "        #print(i, lote)        \n",
        "        # Conta a quantidade registros de cada lote\n",
        "        qtdeRegistros = qtdeRegistros + len(lote[0])        \n",
        "        # Conta as iterações do carregador\n",
        "        qtdeIteracoes = qtdeIteracoes + 1\n",
        "            \n",
        "    print(\"Época:\", epoca)\n",
        "    print(\"     Total registros:\", qtdeRegistros)\n",
        "    print(\"     Total iterações:\", qtdeIteracoes)"
      ],
      "execution_count": 43,
      "outputs": [
        {
          "output_type": "stream",
          "text": [
            "Época: 0\n",
            "     Total registros: 200\n",
            "     Total iterações: 67\n",
            "Época: 1\n",
            "     Total registros: 200\n",
            "     Total iterações: 67\n",
            "Época: 2\n",
            "     Total registros: 200\n",
            "     Total iterações: 67\n",
            "Época: 3\n",
            "     Total registros: 200\n",
            "     Total iterações: 67\n"
          ],
          "name": "stdout"
        }
      ]
    }
  ]
}