{
  "nbformat": 4,
  "nbformat_minor": 0,
  "metadata": {
    "colab": {
      "provenance": [],
      "toc_visible": true,
      "authorship_tag": "ABX9TyMdICz6uwZAWldIQsQrr5ZA",
      "include_colab_link": true
    },
    "kernelspec": {
      "name": "python3",
      "display_name": "Python 3"
    }
  },
  "cells": [
    {
      "cell_type": "markdown",
      "metadata": {
        "id": "view-in-github",
        "colab_type": "text"
      },
      "source": [
        "<a href=\"https://colab.research.google.com/github/osmarbraz/exemplos_python/blob/master/ExemplosPythonPytorch.ipynb\" target=\"_parent\"><img src=\"https://colab.research.google.com/assets/colab-badge.svg\" alt=\"Open In Colab\"/></a>"
      ]
    },
    {
      "cell_type": "markdown",
      "metadata": {
        "id": "9VTUgBXSzaGh"
      },
      "source": [
        "#Exemplos de uso Pytorch\n",
        "\n",
        "O [PyTorch](https://en.wikipedia.org/wiki/PyTorch) tem  o objetivo de realizar cálculos em tensores sendo disponibilizado como uma biblioteca para o Python neste [link](https://pytorch.org/).\n",
        "\n",
        "[Tensores](https://pt.wikipedia.org/wiki/Tensor) são arrays  que no PyTorch foram projetados com duas propriedades adicionais: eles podem carregar a informação de todas as operações realizadas neles, e podem ser operados em GPU.\n",
        "\n",
        "O PyTorch faz com tensores o que o Numpy faz com arrays, mas com a propriedade adicional de guardar o histórico das operações matemáticas nos próprios objetos manipulados, e de ser mais rápido pelo processamento em GPU.\n",
        "\n",
        "Essa característica do PyTorch o habilita para sua principal função: a de ser uma biblioteca para o desenvolvimento de redes neurais.\n",
        "\n",
        "\n",
        "Exemplos de manipulação em tensores com o Pytorch.\n",
        "- Operações básicas com Tensores\n",
        "- Carregamento de dados com Pytorch\n",
        "  - Criando a Classe Dataset e DataLoader\n",
        "  - Utilizando TensorDataset e DataLoader\n",
        "\n",
        "Tutorial de introdução a tensores: https://www.tensorflow.org/guide/tensor\n",
        "\n",
        "https://www.slideshare.net/khsol92/pytorch-touch-to-pytorch\n",
        "\n",
        "-----------------------------------------\n",
        "**Guia Colab Iniciante:**\n",
        "\n",
        "https://medium.com/machina-sapiens/google-colab-guia-do-iniciante-334d70aad531\n",
        "\n",
        "**Documentação oficial:**\n",
        "\n",
        "https://colab.research.google.com/github/jakevdp/PythonDataScienceHandbook/blob/master/notebooks/01.01-Help-And-Documentation.ipynb\n",
        "\n",
        "**Características :**\n",
        "\n",
        "https://colab.research.google.com/notebooks/basic_features_overview.ipynb\n"
      ]
    },
    {
      "cell_type": "markdown",
      "metadata": {
        "id": "WOwhoI1lzi-s"
      },
      "source": [
        "# Instalação dos pacotes das biblioteca Pytorch\n",
        "\n",
        "Muitos ambientes com o Google Colaboratory já trazem o Pytorch instalado.\n",
        "\n",
        "Abaixo a instação da última versão no sistema operacional Linux com o instaldor pip e uso do Cuda versão 10.2"
      ]
    },
    {
      "cell_type": "code",
      "metadata": {
        "id": "UNn1DGlMzNDa",
        "colab": {
          "base_uri": "https://localhost:8080/"
        },
        "outputId": "81baca6e-755c-4a05-fa97-fa6737f77725"
      },
      "source": [
        "!pip install torch torchvision"
      ],
      "execution_count": 1,
      "outputs": [
        {
          "output_type": "stream",
          "name": "stdout",
          "text": [
            "Looking in indexes: https://pypi.org/simple, https://us-python.pkg.dev/colab-wheels/public/simple/\n",
            "Requirement already satisfied: torch in /usr/local/lib/python3.10/dist-packages (2.0.1+cu118)\n",
            "Requirement already satisfied: torchvision in /usr/local/lib/python3.10/dist-packages (0.15.2+cu118)\n",
            "Requirement already satisfied: filelock in /usr/local/lib/python3.10/dist-packages (from torch) (3.12.2)\n",
            "Requirement already satisfied: typing-extensions in /usr/local/lib/python3.10/dist-packages (from torch) (4.6.3)\n",
            "Requirement already satisfied: sympy in /usr/local/lib/python3.10/dist-packages (from torch) (1.11.1)\n",
            "Requirement already satisfied: networkx in /usr/local/lib/python3.10/dist-packages (from torch) (3.1)\n",
            "Requirement already satisfied: jinja2 in /usr/local/lib/python3.10/dist-packages (from torch) (3.1.2)\n",
            "Requirement already satisfied: triton==2.0.0 in /usr/local/lib/python3.10/dist-packages (from torch) (2.0.0)\n",
            "Requirement already satisfied: cmake in /usr/local/lib/python3.10/dist-packages (from triton==2.0.0->torch) (3.25.2)\n",
            "Requirement already satisfied: lit in /usr/local/lib/python3.10/dist-packages (from triton==2.0.0->torch) (16.0.6)\n",
            "Requirement already satisfied: numpy in /usr/local/lib/python3.10/dist-packages (from torchvision) (1.22.4)\n",
            "Requirement already satisfied: requests in /usr/local/lib/python3.10/dist-packages (from torchvision) (2.27.1)\n",
            "Requirement already satisfied: pillow!=8.3.*,>=5.3.0 in /usr/local/lib/python3.10/dist-packages (from torchvision) (8.4.0)\n",
            "Requirement already satisfied: MarkupSafe>=2.0 in /usr/local/lib/python3.10/dist-packages (from jinja2->torch) (2.1.3)\n",
            "Requirement already satisfied: urllib3<1.27,>=1.21.1 in /usr/local/lib/python3.10/dist-packages (from requests->torchvision) (1.26.16)\n",
            "Requirement already satisfied: certifi>=2017.4.17 in /usr/local/lib/python3.10/dist-packages (from requests->torchvision) (2023.5.7)\n",
            "Requirement already satisfied: charset-normalizer~=2.0.0 in /usr/local/lib/python3.10/dist-packages (from requests->torchvision) (2.0.12)\n",
            "Requirement already satisfied: idna<4,>=2.5 in /usr/local/lib/python3.10/dist-packages (from requests->torchvision) (3.4)\n",
            "Requirement already satisfied: mpmath>=0.19 in /usr/local/lib/python3.10/dist-packages (from sympy->torch) (1.3.0)\n"
          ]
        }
      ]
    },
    {
      "cell_type": "markdown",
      "metadata": {
        "id": "oWcTZBPd2HeW"
      },
      "source": [
        "Versão do Pytorch instaladas"
      ]
    },
    {
      "cell_type": "code",
      "metadata": {
        "id": "W2S4S_K52JA3",
        "colab": {
          "base_uri": "https://localhost:8080/"
        },
        "outputId": "7ff94d0b-6737-430a-bd26-a53ae90a4ab5"
      },
      "source": [
        "import torch\n",
        "\n",
        "print(torch.__version__)"
      ],
      "execution_count": 2,
      "outputs": [
        {
          "output_type": "stream",
          "name": "stdout",
          "text": [
            "2.0.1+cu118\n"
          ]
        }
      ]
    },
    {
      "cell_type": "markdown",
      "metadata": {
        "id": "lMRQmChvOw5z"
      },
      "source": [
        "# Operações Básicas com Tensores em PyTorch\n"
      ]
    },
    {
      "cell_type": "markdown",
      "metadata": {
        "id": "NzzR8MN5LCV_"
      },
      "source": [
        "## Criando Tensor PyTorch de valor 0"
      ]
    },
    {
      "cell_type": "code",
      "metadata": {
        "id": "Bllxxch4LEdn",
        "colab": {
          "base_uri": "https://localhost:8080/"
        },
        "outputId": "5c7713fe-2881-4662-c2bd-1e7b9e917712"
      },
      "source": [
        "# Bibliotecas\n",
        "import torch\n",
        "\n",
        "# Cria um tensor de tamanho e 3 por 3 de valor 0\n",
        "A = torch.zeros(3,3)\n",
        "print(type(A))\n",
        "\n",
        "# Mostra os dados da matriz de Tensores\n",
        "print(\">>> Matriz\")\n",
        "print(A)"
      ],
      "execution_count": 3,
      "outputs": [
        {
          "output_type": "stream",
          "name": "stdout",
          "text": [
            "<class 'torch.Tensor'>\n",
            ">>> Matriz\n",
            "tensor([[0., 0., 0.],\n",
            "        [0., 0., 0.],\n",
            "        [0., 0., 0.]])\n"
          ]
        }
      ]
    },
    {
      "cell_type": "markdown",
      "metadata": {
        "id": "Rua2op0bF9yh"
      },
      "source": [
        "## Criando Tensor PyTorch de valor 1"
      ]
    },
    {
      "cell_type": "code",
      "metadata": {
        "id": "n3aO92JPF9yi",
        "colab": {
          "base_uri": "https://localhost:8080/"
        },
        "outputId": "fca0984e-d6a0-4ded-da8c-05e187d5677a"
      },
      "source": [
        "# Bibliotecas\n",
        "import torch\n",
        "\n",
        "# Cria um tensor de tamanho e 3 por 3 de valor 1\n",
        "A = torch.ones(3,3)\n",
        "print(type(A))\n",
        "\n",
        "# Mostra os dados da matriz de Tensores\n",
        "print(\">>> Matriz\")\n",
        "print(A)"
      ],
      "execution_count": 4,
      "outputs": [
        {
          "output_type": "stream",
          "name": "stdout",
          "text": [
            "<class 'torch.Tensor'>\n",
            ">>> Matriz\n",
            "tensor([[1., 1., 1.],\n",
            "        [1., 1., 1.],\n",
            "        [1., 1., 1.]])\n"
          ]
        }
      ]
    },
    {
      "cell_type": "markdown",
      "metadata": {
        "id": "hcHfTeMpLwJv"
      },
      "source": [
        "## Criando tensor a partir de Numpy"
      ]
    },
    {
      "cell_type": "code",
      "metadata": {
        "id": "y4scGLayLwJw",
        "colab": {
          "base_uri": "https://localhost:8080/"
        },
        "outputId": "5f0f422d-f179-4daa-b14f-63ab70230fee"
      },
      "source": [
        "# Bibliotecas\n",
        "import torch\n",
        "import numpy as np\n",
        "\n",
        "# Cria um nympy matriz de tamanho e 3 por 3 de valor 1\n",
        "A = np.ones((3,3))\n",
        "print(type(A))\n",
        "\n",
        "print(\">>> Matriz A\")\n",
        "print(A)\n",
        "\n",
        "# Converte a lista de lista de matriz em um tensor\n",
        "TA = torch.from_numpy(A)\n",
        "print(type(TA))\n",
        "\n",
        "# Mostra os dados da matriz de Tensores\n",
        "print(\">>> Matriz TA\")\n",
        "print(TA)\n"
      ],
      "execution_count": 5,
      "outputs": [
        {
          "output_type": "stream",
          "name": "stdout",
          "text": [
            "<class 'numpy.ndarray'>\n",
            ">>> Matriz A\n",
            "[[1. 1. 1.]\n",
            " [1. 1. 1.]\n",
            " [1. 1. 1.]]\n",
            "<class 'torch.Tensor'>\n",
            ">>> Matriz TA\n",
            "tensor([[1., 1., 1.],\n",
            "        [1., 1., 1.],\n",
            "        [1., 1., 1.]], dtype=torch.float64)\n"
          ]
        }
      ]
    },
    {
      "cell_type": "markdown",
      "metadata": {
        "id": "C6AU7gTuy4Cl"
      },
      "source": [
        "## Converte matriz de 2 dimensões para Tensores PyTorch\n",
        "\n",
        "`torch.tensor` cria uma cópia e `torch.as_tensor` retorna uma referência do tensor criado.\n",
        "\n",
        "https://medium.com/secure-and-private-ai-writing-challenge/introduction-to-tensors-2-using-pytorch-2b6270a838f"
      ]
    },
    {
      "cell_type": "code",
      "metadata": {
        "id": "93aO7LK5y4Cn",
        "colab": {
          "base_uri": "https://localhost:8080/"
        },
        "outputId": "e2a9cd2a-7ba6-4fad-b622-8606edb3a2e6"
      },
      "source": [
        "# Bibliotecas\n",
        "import torch\n",
        "\n",
        "A =  [\n",
        "        [11, 12, 13],\n",
        "        [14, 15, 16],\n",
        "        [17, 18, 19]\n",
        "     ]\n",
        "\n",
        "# Converte a lista de lista de matriz em um tensor\n",
        "B = torch.as_tensor(A)\n",
        "print(type(B))\n",
        "\n",
        "# Mostra os dados da matriz de Tensores\n",
        "print(\">>> Matriz\")\n",
        "print(B)\n",
        "print(B[0:3,0:3])\n",
        "print(B[:,:])\n",
        "\n",
        "print(\">>> Linha\")\n",
        "print(B[0:1,0:3])\n",
        "print(B[0:1,:])\n",
        "print(B[0:1,0:3])\n",
        "\n",
        "print(\">> Coluna\")\n",
        "print(B[0:3,0:1])\n",
        "print(B[:,0:1])\n",
        "print(B[0:3,0:1])"
      ],
      "execution_count": 6,
      "outputs": [
        {
          "output_type": "stream",
          "name": "stdout",
          "text": [
            "<class 'torch.Tensor'>\n",
            ">>> Matriz\n",
            "tensor([[11, 12, 13],\n",
            "        [14, 15, 16],\n",
            "        [17, 18, 19]])\n",
            "tensor([[11, 12, 13],\n",
            "        [14, 15, 16],\n",
            "        [17, 18, 19]])\n",
            "tensor([[11, 12, 13],\n",
            "        [14, 15, 16],\n",
            "        [17, 18, 19]])\n",
            ">>> Linha\n",
            "tensor([[11, 12, 13]])\n",
            "tensor([[11, 12, 13]])\n",
            "tensor([[11, 12, 13]])\n",
            ">> Coluna\n",
            "tensor([[11],\n",
            "        [14],\n",
            "        [17]])\n",
            "tensor([[11],\n",
            "        [14],\n",
            "        [17]])\n",
            "tensor([[11],\n",
            "        [14],\n",
            "        [17]])\n"
          ]
        }
      ]
    },
    {
      "cell_type": "markdown",
      "metadata": {
        "id": "0B_ZYEh_uBxO"
      },
      "source": [
        "## Converte matriz de 3 dimensões para Tensores PyTorch"
      ]
    },
    {
      "cell_type": "code",
      "metadata": {
        "id": "nBxAG7dYuCSC",
        "colab": {
          "base_uri": "https://localhost:8080/"
        },
        "outputId": "3cfb2912-1dd2-4809-ab4b-1ee2d83ec107"
      },
      "source": [
        "# Bibliotecas\n",
        "import torch\n",
        "\n",
        "A = [\n",
        "      [\n",
        "        [11, 12, 13],\n",
        "        [14, 15, 16],\n",
        "        [17, 18, 19]\n",
        "      ],\n",
        "      [\n",
        "        [21, 22, 23],\n",
        "        [24, 25, 26],\n",
        "        [27, 28, 29]\n",
        "      ],\n",
        "      [\n",
        "        [31, 32, 33],\n",
        "        [33, 34, 36],\n",
        "        [37, 38 ,39]\n",
        "      ]\n",
        "    ]\n",
        "\n",
        "# Converte a lista de lista de matriz em um tensor\n",
        "B = torch.as_tensor(A)\n",
        "print(type(B))\n",
        "\n",
        "# Mostra os dados da matriz de Tensores\n",
        "print(\">>> Lista de matrizes\")\n",
        "print(B)\n",
        "print(B[0:3,0:3,0:3])\n",
        "print(B[:,:,:])\n",
        "\n",
        "print(\">>> Matrizes\")\n",
        "print(B[0])\n",
        "print(B[0][0:3,0:3])\n",
        "print(B[0,:,:])\n",
        "\n",
        "print(\">>> Linha\")\n",
        "print(B[0][0:1,0:3])\n",
        "print(B[0:1,0:1,:])\n",
        "print(B[0:1,0:1,0:3])\n",
        "\n",
        "print(\">> Coluna\")\n",
        "print(B[0][0:3,0:1])\n",
        "print(B[0][:,0:1])\n",
        "print(B[0:1,0:3,0:1])"
      ],
      "execution_count": 7,
      "outputs": [
        {
          "output_type": "stream",
          "name": "stdout",
          "text": [
            "<class 'torch.Tensor'>\n",
            ">>> Lista de matrizes\n",
            "tensor([[[11, 12, 13],\n",
            "         [14, 15, 16],\n",
            "         [17, 18, 19]],\n",
            "\n",
            "        [[21, 22, 23],\n",
            "         [24, 25, 26],\n",
            "         [27, 28, 29]],\n",
            "\n",
            "        [[31, 32, 33],\n",
            "         [33, 34, 36],\n",
            "         [37, 38, 39]]])\n",
            "tensor([[[11, 12, 13],\n",
            "         [14, 15, 16],\n",
            "         [17, 18, 19]],\n",
            "\n",
            "        [[21, 22, 23],\n",
            "         [24, 25, 26],\n",
            "         [27, 28, 29]],\n",
            "\n",
            "        [[31, 32, 33],\n",
            "         [33, 34, 36],\n",
            "         [37, 38, 39]]])\n",
            "tensor([[[11, 12, 13],\n",
            "         [14, 15, 16],\n",
            "         [17, 18, 19]],\n",
            "\n",
            "        [[21, 22, 23],\n",
            "         [24, 25, 26],\n",
            "         [27, 28, 29]],\n",
            "\n",
            "        [[31, 32, 33],\n",
            "         [33, 34, 36],\n",
            "         [37, 38, 39]]])\n",
            ">>> Matrizes\n",
            "tensor([[11, 12, 13],\n",
            "        [14, 15, 16],\n",
            "        [17, 18, 19]])\n",
            "tensor([[11, 12, 13],\n",
            "        [14, 15, 16],\n",
            "        [17, 18, 19]])\n",
            "tensor([[11, 12, 13],\n",
            "        [14, 15, 16],\n",
            "        [17, 18, 19]])\n",
            ">>> Linha\n",
            "tensor([[11, 12, 13]])\n",
            "tensor([[[11, 12, 13]]])\n",
            "tensor([[[11, 12, 13]]])\n",
            ">> Coluna\n",
            "tensor([[11],\n",
            "        [14],\n",
            "        [17]])\n",
            "tensor([[11],\n",
            "        [14],\n",
            "        [17]])\n",
            "tensor([[[11],\n",
            "         [14],\n",
            "         [17]]])\n"
          ]
        }
      ]
    },
    {
      "cell_type": "markdown",
      "metadata": {
        "id": "Y0Yvq1g9qhzv"
      },
      "source": [
        "## Converte matriz de 4 dimensões para Tensores PyTorch"
      ]
    },
    {
      "cell_type": "code",
      "metadata": {
        "id": "xYqfc8AyOy70",
        "colab": {
          "base_uri": "https://localhost:8080/"
        },
        "outputId": "00dad8f2-5fc7-4384-d50b-9a917dff9596"
      },
      "source": [
        "# Bibliotecas\n",
        "import torch\n",
        "\n",
        "A = [\n",
        "      [\n",
        "        [[11, 12, 13],[14, 15, 16],[17, 18, 19]],\n",
        "        [[21, 22, 23],[24, 25, 26],[27, 28, 29]],\n",
        "        [[31, 32, 33],[34, 35, 36],[37, 38, 39]]\n",
        "      ],\n",
        "\n",
        "      [\n",
        "        [[41, 42, 43],[44, 45, 46],[47, 48, 49]],\n",
        "        [[51, 52, 53],[54, 55, 56],[57, 58, 59]],\n",
        "        [[61, 62, 63],[64, 65, 66],[67, 68, 69]]\n",
        "      ]\n",
        "    ]\n",
        "\n",
        "# Converte a lista de lista de matriz em um tensor\n",
        "B = torch.as_tensor(A)\n",
        "print(type(B))\n",
        "\n",
        "# Mostra os dados da matriz de Tensores\n",
        "print(\">>> Lista de lista de matrizes\")\n",
        "print(B)\n",
        "print(B[0:3,0:3,0:3,0:3])\n",
        "print(B[:,:,:,:])\n",
        "\n",
        "print(\">>> Lista de matrizes\")\n",
        "print(B[0])\n",
        "print(B[0][0:3,0:3,0:3])\n",
        "print(B[0:1,0:3,0:3,0:3])\n",
        "print(B[0][:,:,:])\n",
        "\n",
        "print(\">>> Matrizes\")\n",
        "print(B[0][0])\n",
        "print(B[0][0][0:3,0:3])\n",
        "print(B[0][0,:,:])\n",
        "print(B[0,0,:,:])\n",
        "\n",
        "print(\">>> Linha\")\n",
        "print(B[0][0][0:1,0:3])\n",
        "print(B[0][0:1,0:1,:])\n",
        "print(B[0][0:1,0:1,0:3])\n",
        "print(B[0:1,0:1,0:1,0:3])\n",
        "print(B[0,0,0:1,0:3])\n",
        "\n",
        "print(\">> Coluna\")\n",
        "print(B[0][0][0:3,0:1])\n",
        "print(B[0][0][:,0:1])\n",
        "print(B[0][0:1,0:3,0:1])\n",
        "print(B[0:1,0:1,0:3,0:1])\n",
        "print(B[0,0,0:3,0:1])"
      ],
      "execution_count": 8,
      "outputs": [
        {
          "output_type": "stream",
          "name": "stdout",
          "text": [
            "<class 'torch.Tensor'>\n",
            ">>> Lista de lista de matrizes\n",
            "tensor([[[[11, 12, 13],\n",
            "          [14, 15, 16],\n",
            "          [17, 18, 19]],\n",
            "\n",
            "         [[21, 22, 23],\n",
            "          [24, 25, 26],\n",
            "          [27, 28, 29]],\n",
            "\n",
            "         [[31, 32, 33],\n",
            "          [34, 35, 36],\n",
            "          [37, 38, 39]]],\n",
            "\n",
            "\n",
            "        [[[41, 42, 43],\n",
            "          [44, 45, 46],\n",
            "          [47, 48, 49]],\n",
            "\n",
            "         [[51, 52, 53],\n",
            "          [54, 55, 56],\n",
            "          [57, 58, 59]],\n",
            "\n",
            "         [[61, 62, 63],\n",
            "          [64, 65, 66],\n",
            "          [67, 68, 69]]]])\n",
            "tensor([[[[11, 12, 13],\n",
            "          [14, 15, 16],\n",
            "          [17, 18, 19]],\n",
            "\n",
            "         [[21, 22, 23],\n",
            "          [24, 25, 26],\n",
            "          [27, 28, 29]],\n",
            "\n",
            "         [[31, 32, 33],\n",
            "          [34, 35, 36],\n",
            "          [37, 38, 39]]],\n",
            "\n",
            "\n",
            "        [[[41, 42, 43],\n",
            "          [44, 45, 46],\n",
            "          [47, 48, 49]],\n",
            "\n",
            "         [[51, 52, 53],\n",
            "          [54, 55, 56],\n",
            "          [57, 58, 59]],\n",
            "\n",
            "         [[61, 62, 63],\n",
            "          [64, 65, 66],\n",
            "          [67, 68, 69]]]])\n",
            "tensor([[[[11, 12, 13],\n",
            "          [14, 15, 16],\n",
            "          [17, 18, 19]],\n",
            "\n",
            "         [[21, 22, 23],\n",
            "          [24, 25, 26],\n",
            "          [27, 28, 29]],\n",
            "\n",
            "         [[31, 32, 33],\n",
            "          [34, 35, 36],\n",
            "          [37, 38, 39]]],\n",
            "\n",
            "\n",
            "        [[[41, 42, 43],\n",
            "          [44, 45, 46],\n",
            "          [47, 48, 49]],\n",
            "\n",
            "         [[51, 52, 53],\n",
            "          [54, 55, 56],\n",
            "          [57, 58, 59]],\n",
            "\n",
            "         [[61, 62, 63],\n",
            "          [64, 65, 66],\n",
            "          [67, 68, 69]]]])\n",
            ">>> Lista de matrizes\n",
            "tensor([[[11, 12, 13],\n",
            "         [14, 15, 16],\n",
            "         [17, 18, 19]],\n",
            "\n",
            "        [[21, 22, 23],\n",
            "         [24, 25, 26],\n",
            "         [27, 28, 29]],\n",
            "\n",
            "        [[31, 32, 33],\n",
            "         [34, 35, 36],\n",
            "         [37, 38, 39]]])\n",
            "tensor([[[11, 12, 13],\n",
            "         [14, 15, 16],\n",
            "         [17, 18, 19]],\n",
            "\n",
            "        [[21, 22, 23],\n",
            "         [24, 25, 26],\n",
            "         [27, 28, 29]],\n",
            "\n",
            "        [[31, 32, 33],\n",
            "         [34, 35, 36],\n",
            "         [37, 38, 39]]])\n",
            "tensor([[[[11, 12, 13],\n",
            "          [14, 15, 16],\n",
            "          [17, 18, 19]],\n",
            "\n",
            "         [[21, 22, 23],\n",
            "          [24, 25, 26],\n",
            "          [27, 28, 29]],\n",
            "\n",
            "         [[31, 32, 33],\n",
            "          [34, 35, 36],\n",
            "          [37, 38, 39]]]])\n",
            "tensor([[[11, 12, 13],\n",
            "         [14, 15, 16],\n",
            "         [17, 18, 19]],\n",
            "\n",
            "        [[21, 22, 23],\n",
            "         [24, 25, 26],\n",
            "         [27, 28, 29]],\n",
            "\n",
            "        [[31, 32, 33],\n",
            "         [34, 35, 36],\n",
            "         [37, 38, 39]]])\n",
            ">>> Matrizes\n",
            "tensor([[11, 12, 13],\n",
            "        [14, 15, 16],\n",
            "        [17, 18, 19]])\n",
            "tensor([[11, 12, 13],\n",
            "        [14, 15, 16],\n",
            "        [17, 18, 19]])\n",
            "tensor([[11, 12, 13],\n",
            "        [14, 15, 16],\n",
            "        [17, 18, 19]])\n",
            "tensor([[11, 12, 13],\n",
            "        [14, 15, 16],\n",
            "        [17, 18, 19]])\n",
            ">>> Linha\n",
            "tensor([[11, 12, 13]])\n",
            "tensor([[[11, 12, 13]]])\n",
            "tensor([[[11, 12, 13]]])\n",
            "tensor([[[[11, 12, 13]]]])\n",
            "tensor([[11, 12, 13]])\n",
            ">> Coluna\n",
            "tensor([[11],\n",
            "        [14],\n",
            "        [17]])\n",
            "tensor([[11],\n",
            "        [14],\n",
            "        [17]])\n",
            "tensor([[[11],\n",
            "         [14],\n",
            "         [17]]])\n",
            "tensor([[[[11],\n",
            "          [14],\n",
            "          [17]]]])\n",
            "tensor([[11],\n",
            "        [14],\n",
            "        [17]])\n"
          ]
        }
      ]
    },
    {
      "cell_type": "markdown",
      "metadata": {
        "id": "pY9dZOPsrxD6"
      },
      "source": [
        "## Operações com tensores\n",
        "\n",
        "https://s3-sa-east-1.amazonaws.com/thedevconf/presentations/TDC2019SP/machine/FMB-8122_2019-07-19T015516_Machine%20Learning%20-%20Uso%20de%20Pytorch%20para%20Aplica%C3%A7%C3%B5es%20de%20Vis%C3%A3o%20Computacional.pdf\n",
        "\n",
        "https://github.com/torch/torch7/blob/master/doc/maths.md#torcheqa-b\n",
        "\n",
        "https://adriangcoder.medium.com/pytorch-tensor-operations-b52b87ad94da"
      ]
    },
    {
      "cell_type": "markdown",
      "metadata": {
        "id": "utlhewNUEBPg"
      },
      "source": [
        "###Tamanho do tensor"
      ]
    },
    {
      "cell_type": "code",
      "metadata": {
        "id": "G_dX8BriEFEU",
        "colab": {
          "base_uri": "https://localhost:8080/"
        },
        "outputId": "ecef1c29-777f-4fde-f6af-281b1b3e934a"
      },
      "source": [
        "# Bibliotecas\n",
        "import torch\n",
        "\n",
        "# Declaração da matriz\n",
        "A = [\n",
        "      [\n",
        "        [1, 2, 3],\n",
        "        [4, 5, 6],\n",
        "        [7, 8, 9]\n",
        "      ],\n",
        "      [\n",
        "        [10, 11, 12],\n",
        "        [13, 14, 15],\n",
        "        [16, 17, 18]\n",
        "      ]\n",
        "    ]\n",
        "\n",
        "# Converte a lista de lista de matriz em um tensor\n",
        "TA = torch.as_tensor(A)\n",
        "\n",
        "# Mostra o tamanho do tensor em todas as dimensões\n",
        "print(TA)\n",
        "print(type(TA))\n",
        "print(TA.size())"
      ],
      "execution_count": 9,
      "outputs": [
        {
          "output_type": "stream",
          "name": "stdout",
          "text": [
            "tensor([[[ 1,  2,  3],\n",
            "         [ 4,  5,  6],\n",
            "         [ 7,  8,  9]],\n",
            "\n",
            "        [[10, 11, 12],\n",
            "         [13, 14, 15],\n",
            "         [16, 17, 18]]])\n",
            "<class 'torch.Tensor'>\n",
            "torch.Size([2, 3, 3])\n"
          ]
        }
      ]
    },
    {
      "cell_type": "markdown",
      "metadata": {
        "id": "Xqh_SLl3FJnv"
      },
      "source": [
        "### Comparando"
      ]
    },
    {
      "cell_type": "code",
      "metadata": {
        "id": "7CtOQGp8FLQr",
        "colab": {
          "base_uri": "https://localhost:8080/"
        },
        "outputId": "60295c0c-3ec1-4684-c021-15b485ea3a3c"
      },
      "source": [
        "# Bibliotecas\n",
        "import torch\n",
        "\n",
        "# Declaração da matriz\n",
        "A = [\n",
        "      [\n",
        "        [1, 2, 3],\n",
        "        [4, 5, 6],\n",
        "        [7, 8, 9]\n",
        "      ]\n",
        "    ]\n",
        "B = [\n",
        "      [\n",
        "        [1, 2, 3],\n",
        "        [4, 5, 6],\n",
        "        [7, 8, 9]\n",
        "      ]\n",
        "    ]\n",
        "\n",
        "C = [\n",
        "      [\n",
        "        [1, 2, 3],\n",
        "        [4, 5, 6],\n",
        "        [7, 8, -1]\n",
        "      ]\n",
        "    ]\n",
        "\n",
        "# Converte a lista de lista de matriz em um tensor\n",
        "TA = torch.as_tensor(A)\n",
        "TB = torch.as_tensor(B)\n",
        "TC = torch.as_tensor(C)\n",
        "\n",
        "# Mostra o tamanho do tensor em todas as dimensões\n",
        "print(TA)\n",
        "print(type(TA))\n",
        "print(TA.size())\n",
        "\n",
        "print(TB)\n",
        "print(type(TB))\n",
        "print(TB.size())\n",
        "\n",
        "print(TC)\n",
        "print(type(TC))\n",
        "print(TC.size())\n",
        "\n",
        "# Mostra o resultado da comparação dos elementos dos tensores\n",
        "print(torch.eq(TA, TB))\n",
        "print(torch.eq(TA, TC))\n",
        "\n",
        "#if torch.all(torch.eq(TA, TB)):\n",
        "if TA.equal(TB):\n",
        "  print(\"Tensores TA e TB são iguais\")\n",
        "else:\n",
        "  print(\"Tensores TA e TB são diferentes\")\n",
        "\n",
        "#if torch.all(torch.eq(TA, TC)):\n",
        "if TA.equal(TC):\n",
        "  print(\"Tensores TA e TC são iguais\")\n",
        "else:\n",
        "  print(\"Tensores TA e TC são diferentes\")"
      ],
      "execution_count": 10,
      "outputs": [
        {
          "output_type": "stream",
          "name": "stdout",
          "text": [
            "tensor([[[1, 2, 3],\n",
            "         [4, 5, 6],\n",
            "         [7, 8, 9]]])\n",
            "<class 'torch.Tensor'>\n",
            "torch.Size([1, 3, 3])\n",
            "tensor([[[1, 2, 3],\n",
            "         [4, 5, 6],\n",
            "         [7, 8, 9]]])\n",
            "<class 'torch.Tensor'>\n",
            "torch.Size([1, 3, 3])\n",
            "tensor([[[ 1,  2,  3],\n",
            "         [ 4,  5,  6],\n",
            "         [ 7,  8, -1]]])\n",
            "<class 'torch.Tensor'>\n",
            "torch.Size([1, 3, 3])\n",
            "tensor([[[True, True, True],\n",
            "         [True, True, True],\n",
            "         [True, True, True]]])\n",
            "tensor([[[ True,  True,  True],\n",
            "         [ True,  True,  True],\n",
            "         [ True,  True, False]]])\n",
            "Tensores TA e TB são iguais\n",
            "Tensores TA e TC são diferentes\n"
          ]
        }
      ]
    },
    {
      "cell_type": "markdown",
      "metadata": {
        "id": "jZSo9GXkpDFE"
      },
      "source": [
        "### Acessando um tensor"
      ]
    },
    {
      "cell_type": "code",
      "metadata": {
        "colab": {
          "base_uri": "https://localhost:8080/"
        },
        "id": "j8gfHZx-pFP4",
        "outputId": "b2d00f6a-1eb4-4188-e26f-d93cd638b8a2"
      },
      "source": [
        "# Bibliotecas\n",
        "import torch\n",
        "\n",
        "# Declaração da matriz\n",
        "A = [\n",
        "      [1.0, 2, 3],\n",
        "      [4 , 5, 6],\n",
        "      [7 , 8, 9],\n",
        "      [10,11,12]\n",
        "    ]\n",
        "\n",
        "# Converte a lista de lista de matriz em um tensor\n",
        "TA = torch.as_tensor(A)\n",
        "\n",
        "# Mostra o tamanho do tensor em todas as dimensões\n",
        "print(TA)\n",
        "print(type(TA))\n",
        "print(TA.size())\n",
        "\n",
        "print(\"Todo o tensor:\", TA[:])\n",
        "print(\"A primeira linha do tensor:\", TA[0])\n",
        "print(\"A última linha do tensor:\", TA[-1])\n",
        "print(\"Os dois elementos primeiros elementos da segunda linha do tensor:\", TA[1][:2])"
      ],
      "execution_count": 11,
      "outputs": [
        {
          "output_type": "stream",
          "name": "stdout",
          "text": [
            "tensor([[ 1.,  2.,  3.],\n",
            "        [ 4.,  5.,  6.],\n",
            "        [ 7.,  8.,  9.],\n",
            "        [10., 11., 12.]])\n",
            "<class 'torch.Tensor'>\n",
            "torch.Size([4, 3])\n",
            "Todo o tensor: tensor([[ 1.,  2.,  3.],\n",
            "        [ 4.,  5.,  6.],\n",
            "        [ 7.,  8.,  9.],\n",
            "        [10., 11., 12.]])\n",
            "A primeira linha do tensor: tensor([1., 2., 3.])\n",
            "A última linha do tensor: tensor([10., 11., 12.])\n",
            "Os dois elementos primeiros elementos da segunda linha do tensor: tensor([4., 5.])\n"
          ]
        }
      ]
    },
    {
      "cell_type": "markdown",
      "metadata": {
        "id": "Y9rNka2fMw0y"
      },
      "source": [
        "###Adição\n",
        "\n",
        "Realiza a adição de um vetor a outro vetor.\n",
        "\n",
        "https://towardsdatascience.com/understanding-dimensions-in-pytorch-6edf9972d3be"
      ]
    },
    {
      "cell_type": "markdown",
      "metadata": {
        "id": "vX_Zt0gTdPDD"
      },
      "source": [
        "#### Adição de um valor"
      ]
    },
    {
      "cell_type": "code",
      "metadata": {
        "colab": {
          "base_uri": "https://localhost:8080/"
        },
        "id": "ExwpP5lPdPDD",
        "outputId": "9df0ff7b-10d0-45eb-ec6a-b19d89e50d1a"
      },
      "source": [
        "# Bibliotecas\n",
        "import torch\n",
        "\n",
        "# Declaração da matriz\n",
        "A =  [\n",
        "        [1.0, 2.0],\n",
        "        [3.0, 4.0]\n",
        "     ]\n",
        "\n",
        "# Converte a lista de lista de matriz em um tensor\n",
        "TA = torch.as_tensor(A)\n",
        "\n",
        "# Mostra os tensores\n",
        "print(TA)\n",
        "print(type(TA))\n",
        "print(TA.size())\n",
        "\n",
        "# Soma os vetores\n",
        "C = TA + 2\n",
        "# ou\n",
        "D = torch.add(TA, 2)\n",
        "# ou\n",
        "E = TA.add(2)\n",
        "\n",
        "# Mostra a soma\n",
        "print(C)\n",
        "print(D)\n",
        "print(E)"
      ],
      "execution_count": 12,
      "outputs": [
        {
          "output_type": "stream",
          "name": "stdout",
          "text": [
            "tensor([[1., 2.],\n",
            "        [3., 4.]])\n",
            "<class 'torch.Tensor'>\n",
            "torch.Size([2, 2])\n",
            "tensor([[3., 4.],\n",
            "        [5., 6.]])\n",
            "tensor([[3., 4.],\n",
            "        [5., 6.]])\n",
            "tensor([[3., 4.],\n",
            "        [5., 6.]])\n"
          ]
        }
      ]
    },
    {
      "cell_type": "markdown",
      "metadata": {
        "id": "p-r8fEiUWjQH"
      },
      "source": [
        "#### Adição de dois tensores diferentes"
      ]
    },
    {
      "cell_type": "code",
      "metadata": {
        "id": "1HLNxAO7MyOh",
        "colab": {
          "base_uri": "https://localhost:8080/"
        },
        "outputId": "ef1343f8-a5bd-4f7e-cced-67df3c044b4c"
      },
      "source": [
        "# Bibliotecas\n",
        "import torch\n",
        "\n",
        "# Declaração da matriz\n",
        "A =  [\n",
        "        [1.0, 2.0],\n",
        "        [3.0, 4.0]\n",
        "     ]\n",
        "\n",
        "B =  [\n",
        "        [5.0, 6.0],\n",
        "        [7.0, 8.0]\n",
        "     ]\n",
        "\n",
        "# Converte a lista de lista de matriz em um tensor\n",
        "TA = torch.as_tensor(A)\n",
        "TB = torch.as_tensor(B)\n",
        "\n",
        "# Mostra os tensores\n",
        "print(TA)\n",
        "print(type(TA))\n",
        "print(TA.size())\n",
        "\n",
        "print(TB)\n",
        "print(type(TB))\n",
        "print(TB.size())\n",
        "\n",
        "# Soma os vetores\n",
        "C = TA + TB\n",
        "# ou\n",
        "D = torch.add(TA, TB)\n",
        "# ou\n",
        "E = TA.add(TB)\n",
        "\n",
        "# Mostra a soma\n",
        "print(C)\n",
        "print(D)\n",
        "print(E)"
      ],
      "execution_count": 13,
      "outputs": [
        {
          "output_type": "stream",
          "name": "stdout",
          "text": [
            "tensor([[1., 2.],\n",
            "        [3., 4.]])\n",
            "<class 'torch.Tensor'>\n",
            "torch.Size([2, 2])\n",
            "tensor([[5., 6.],\n",
            "        [7., 8.]])\n",
            "<class 'torch.Tensor'>\n",
            "torch.Size([2, 2])\n",
            "tensor([[ 6.,  8.],\n",
            "        [10., 12.]])\n",
            "tensor([[ 6.,  8.],\n",
            "        [10., 12.]])\n",
            "tensor([[ 6.,  8.],\n",
            "        [10., 12.]])\n"
          ]
        }
      ]
    },
    {
      "cell_type": "markdown",
      "metadata": {
        "id": "tZfDG3TneJ5J"
      },
      "source": [
        "#### Adição de duas ou mais dimensões de um mesmo tensor"
      ]
    },
    {
      "cell_type": "code",
      "metadata": {
        "id": "rbfLTMIBeNZi",
        "colab": {
          "base_uri": "https://localhost:8080/"
        },
        "outputId": "86f27162-7569-4b0e-fa49-7a2d21497f3e"
      },
      "source": [
        "# Bibliotecas\n",
        "import torch\n",
        "\n",
        "# Declaração da matriz\n",
        "A =  [\n",
        "        [\n",
        "          [1.0, 1.0],\n",
        "          [1.0, 2.0],\n",
        "          [1.0, 3.0]\n",
        "        ],\n",
        "        [\n",
        "          [2.0, 2.0],\n",
        "          [2.0, 1.0],\n",
        "          [2.0, 0.0]\n",
        "        ],\n",
        "        [\n",
        "          [3.0, 3.0],\n",
        "          [3.0, 2.0],\n",
        "          [3.0, 1.0]\n",
        "        ]\n",
        "     ]\n",
        "\n",
        "# Converte a lista de lista de matriz em um tensor\n",
        "TA = torch.as_tensor(A)\n",
        "\n",
        "# Mostra os tensores\n",
        "print(TA)\n",
        "print(type(TA))\n",
        "print(TA.size())\n",
        "\n",
        "# Soma os tensores por linha das duas últimas dimensões\n",
        "C = torch.sum(TA[-2::], dim=0)\n",
        "\n",
        "# Mostra a soma das linhas\n",
        "print(\"Soma pela dimensão 0(linhas)\")\n",
        "print(C)\n",
        "\n",
        "# Soma os tensores por coluna das duas últimas dimensões\n",
        "D = torch.sum(TA[-2::], dim=1)\n",
        "\n",
        "# Mostra a soma das colunas\n",
        "print(\"Soma pela dimensão 1(colunas)\")\n",
        "print(D)"
      ],
      "execution_count": 14,
      "outputs": [
        {
          "output_type": "stream",
          "name": "stdout",
          "text": [
            "tensor([[[1., 1.],\n",
            "         [1., 2.],\n",
            "         [1., 3.]],\n",
            "\n",
            "        [[2., 2.],\n",
            "         [2., 1.],\n",
            "         [2., 0.]],\n",
            "\n",
            "        [[3., 3.],\n",
            "         [3., 2.],\n",
            "         [3., 1.]]])\n",
            "<class 'torch.Tensor'>\n",
            "torch.Size([3, 3, 2])\n",
            "Soma pela dimensão 0(linhas)\n",
            "tensor([[5., 5.],\n",
            "        [5., 3.],\n",
            "        [5., 1.]])\n",
            "Soma pela dimensão 1(colunas)\n",
            "tensor([[6., 3.],\n",
            "        [9., 6.]])\n"
          ]
        }
      ]
    },
    {
      "cell_type": "markdown",
      "metadata": {
        "id": "o0hbDyiNPgSd"
      },
      "source": [
        "#### Adição de quatro ou mais dimensões de um mesmo tensor"
      ]
    },
    {
      "cell_type": "code",
      "metadata": {
        "id": "fRsGNDbXgcV0",
        "colab": {
          "base_uri": "https://localhost:8080/"
        },
        "outputId": "3ab58f8d-c368-4cce-f982-6ed8d8164899"
      },
      "source": [
        "# Bibliotecas\n",
        "import torch\n",
        "\n",
        "A =   [\n",
        "        [\n",
        "          [\n",
        "            [1.0, 2.0, 3.0],\n",
        "            [4.0, 5.0, 6.0]\n",
        "          ],\n",
        "          [\n",
        "            [1.0, 2.0, 3.0],\n",
        "            [4.0, 5.0, 6.0]\n",
        "          ]\n",
        "        ]\n",
        "      ]\n",
        "\n",
        "\n",
        "# Converte a lista de lista de matriz em um tensor\n",
        "TA = torch.as_tensor(A)\n",
        "\n",
        "# Mostra os tensores\n",
        "print(TA)\n",
        "print(type(TA))\n",
        "print(TA.size())\n",
        "\n",
        "# Soma os vetores\n",
        "TC0 = torch.sum(TA, dim=0)\n",
        "TC1 = torch.sum(TA, dim=1)\n",
        "TC2 = torch.sum(TA, dim=2)\n",
        "TC3 = torch.sum(TA, dim=3)\n",
        "\n",
        "# Mostra as somas\n",
        "print(\"Soma pela dimensão 0\")\n",
        "print(TC0)\n",
        "print(\"Soma pela dimensão 1\")\n",
        "print(TC1)\n",
        "print(\"Soma pela dimensão 2\")\n",
        "print(TC2)\n",
        "print(\"Soma pela dimensão 3\")\n",
        "print(TC3)"
      ],
      "execution_count": 15,
      "outputs": [
        {
          "output_type": "stream",
          "name": "stdout",
          "text": [
            "tensor([[[[1., 2., 3.],\n",
            "          [4., 5., 6.]],\n",
            "\n",
            "         [[1., 2., 3.],\n",
            "          [4., 5., 6.]]]])\n",
            "<class 'torch.Tensor'>\n",
            "torch.Size([1, 2, 2, 3])\n",
            "Soma pela dimensão 0\n",
            "tensor([[[1., 2., 3.],\n",
            "         [4., 5., 6.]],\n",
            "\n",
            "        [[1., 2., 3.],\n",
            "         [4., 5., 6.]]])\n",
            "Soma pela dimensão 1\n",
            "tensor([[[ 2.,  4.,  6.],\n",
            "         [ 8., 10., 12.]]])\n",
            "Soma pela dimensão 2\n",
            "tensor([[[5., 7., 9.],\n",
            "         [5., 7., 9.]]])\n",
            "Soma pela dimensão 3\n",
            "tensor([[[ 6., 15.],\n",
            "         [ 6., 15.]]])\n"
          ]
        }
      ]
    },
    {
      "cell_type": "markdown",
      "metadata": {
        "id": "t_3hw6cvc2PL"
      },
      "source": [
        "### Soma\n",
        "\n",
        "Soma os valores de um tensor.\n",
        "\n",
        "https://pytorch.org/docs/stable/generated/torch.sum.html"
      ]
    },
    {
      "cell_type": "code",
      "metadata": {
        "colab": {
          "base_uri": "https://localhost:8080/"
        },
        "id": "UXXhFCr1c3f1",
        "outputId": "fe44efcd-5595-4986-d2af-f511f081a606"
      },
      "source": [
        "# Bibliotecas\n",
        "import torch\n",
        "\n",
        "# Declaração da matriz\n",
        "A =  [\n",
        "        [\n",
        "          [1.0, 1.0],\n",
        "          [2.0, 2.0],\n",
        "        ],\n",
        "        [\n",
        "          [2.0, 2.0],\n",
        "          [4.0, 4.0],\n",
        "        ],\n",
        "        [\n",
        "          [1.0, 1.0],\n",
        "          [1.0, 1.0],\n",
        "        ],\n",
        "    ]\n",
        "\n",
        "# Converte a lista de lista de matriz em um tensor\n",
        "TA = torch.as_tensor(A)\n",
        "\n",
        "# Mostra o tensor\n",
        "print(TA)\n",
        "print(type(TA))\n",
        "print(TA.size())\n",
        "\n",
        "# Soma os elementos do vetor\n",
        "TC0 = torch.sum(TA)\n",
        "# ou\n",
        "# TC0 = TA.sum()\n",
        "\n",
        "TC1 = torch.sum(TA, dim=0)\n",
        "# ou\n",
        "# TC1 = TA.sum(0)\n",
        "\n",
        "TC2 = torch.sum(TA, dim=1)\n",
        "# ou\n",
        "# TC2 = TA.sum(1)\n",
        "\n",
        "# Mostra as somas\n",
        "print(\"Soma sem dimensão\")\n",
        "print(TC0)\n",
        "print(\"Soma pela dimensão 0\")\n",
        "print(TC1)\n",
        "print(\"Soma pela dimensão 1\")\n",
        "print(TC2)"
      ],
      "execution_count": 16,
      "outputs": [
        {
          "output_type": "stream",
          "name": "stdout",
          "text": [
            "tensor([[[1., 1.],\n",
            "         [2., 2.]],\n",
            "\n",
            "        [[2., 2.],\n",
            "         [4., 4.]],\n",
            "\n",
            "        [[1., 1.],\n",
            "         [1., 1.]]])\n",
            "<class 'torch.Tensor'>\n",
            "torch.Size([3, 2, 2])\n",
            "Soma sem dimensão\n",
            "tensor(22.)\n",
            "Soma pela dimensão 0\n",
            "tensor([[4., 4.],\n",
            "        [7., 7.]])\n",
            "Soma pela dimensão 1\n",
            "tensor([[3., 3.],\n",
            "        [6., 6.],\n",
            "        [2., 2.]])\n"
          ]
        }
      ]
    },
    {
      "cell_type": "code",
      "metadata": {
        "colab": {
          "base_uri": "https://localhost:8080/"
        },
        "id": "Aw8mlN5EgKpN",
        "outputId": "acab5f00-5f8b-4607-ea24-926df9972c55"
      },
      "source": [
        "# Bibliotecas\n",
        "import torch\n",
        "\n",
        "# Declaração da matriz\n",
        "A =  [\n",
        "        [\n",
        "          [1.0, 1.0],\n",
        "          [2.0, 2.0],\n",
        "        ],\n",
        "        [\n",
        "          [2.0, 2.0],\n",
        "          [4.0, 4.0],\n",
        "        ],\n",
        "        [\n",
        "          [1.0, 1.0],\n",
        "          [1.0, 1.0],\n",
        "        ],\n",
        "    ]\n",
        "\n",
        "# Converte a lista de lista de matriz em um tensor\n",
        "TA = torch.as_tensor(A)\n",
        "\n",
        "# Mostra o tensor\n",
        "print(TA)\n",
        "print(type(TA))\n",
        "print(TA.size())\n",
        "\n",
        "# Soma os elementos do vetor\n",
        "TC0 = TA.sum(0)\n",
        "\n",
        "# Mostra as somas\n",
        "print(\"Soma sem dimensão\")\n",
        "print(TC0)\n"
      ],
      "execution_count": 17,
      "outputs": [
        {
          "output_type": "stream",
          "name": "stdout",
          "text": [
            "tensor([[[1., 1.],\n",
            "         [2., 2.]],\n",
            "\n",
            "        [[2., 2.],\n",
            "         [4., 4.]],\n",
            "\n",
            "        [[1., 1.],\n",
            "         [1., 1.]]])\n",
            "<class 'torch.Tensor'>\n",
            "torch.Size([3, 2, 2])\n",
            "Soma sem dimensão\n",
            "tensor([[4., 4.],\n",
            "        [7., 7.]])\n"
          ]
        }
      ]
    },
    {
      "cell_type": "markdown",
      "metadata": {
        "id": "GjKd1x5ENTjF"
      },
      "source": [
        "###Subtração"
      ]
    },
    {
      "cell_type": "code",
      "metadata": {
        "id": "nXx9Zb8iNTjG",
        "colab": {
          "base_uri": "https://localhost:8080/"
        },
        "outputId": "746760eb-6b58-40e7-939b-9eefad7d7e9a"
      },
      "source": [
        "# Bibliotecas\n",
        "import torch\n",
        "\n",
        "# Declaração da matriz\n",
        "A =  [\n",
        "        [1.0, 2.0],\n",
        "        [3.0, 4.0]\n",
        "     ]\n",
        "\n",
        "B =  [\n",
        "        [5.0, 6.0],\n",
        "        [7.0, 8.0]\n",
        "     ]\n",
        "\n",
        "# Converte a lista de lista de matriz em um tensor\n",
        "TA = torch.as_tensor(A)\n",
        "TB = torch.as_tensor(B)\n",
        "\n",
        "# Mostra os tensores\n",
        "print(TA)\n",
        "print(type(TA))\n",
        "print(TA.size())\n",
        "print(TB)\n",
        "print(type(TB))\n",
        "print(TB.size())\n",
        "\n",
        "# Subtração os vetores\n",
        "C = TB - TA\n",
        "# ou\n",
        "D = torch.sub(TB, TA)\n",
        "# ou\n",
        "E = TB.sub(TA)\n",
        "\n",
        "# Mostra a subtração\n",
        "print(C)\n",
        "print(D)\n",
        "print(E)"
      ],
      "execution_count": 18,
      "outputs": [
        {
          "output_type": "stream",
          "name": "stdout",
          "text": [
            "tensor([[1., 2.],\n",
            "        [3., 4.]])\n",
            "<class 'torch.Tensor'>\n",
            "torch.Size([2, 2])\n",
            "tensor([[5., 6.],\n",
            "        [7., 8.]])\n",
            "<class 'torch.Tensor'>\n",
            "torch.Size([2, 2])\n",
            "tensor([[4., 4.],\n",
            "        [4., 4.]])\n",
            "tensor([[4., 4.],\n",
            "        [4., 4.]])\n",
            "tensor([[4., 4.],\n",
            "        [4., 4.]])\n"
          ]
        }
      ]
    },
    {
      "cell_type": "markdown",
      "metadata": {
        "id": "Xf0lEkM9N7-n"
      },
      "source": [
        "###Produto"
      ]
    },
    {
      "cell_type": "code",
      "metadata": {
        "id": "PyMJF7jrN7-o",
        "colab": {
          "base_uri": "https://localhost:8080/"
        },
        "outputId": "22e1feb9-3799-41cc-aeab-dd246f1ff211"
      },
      "source": [
        "# Bibliotecas\n",
        "import torch\n",
        "\n",
        "# Declaração da matriz\n",
        "A =  [\n",
        "        [1.0, 2.0],\n",
        "        [3.0, 4.0]\n",
        "     ]\n",
        "\n",
        "B =  [\n",
        "        [5.0, 6.0],\n",
        "        [7.0, 8.0]\n",
        "     ]\n",
        "\n",
        "# Converte a lista de lista de matriz em um tensor\n",
        "TA = torch.as_tensor(A)\n",
        "TB = torch.as_tensor(B)\n",
        "\n",
        "# Mostra os tensores\n",
        "print(TA)\n",
        "print(type(TA))\n",
        "print(TA.size())\n",
        "print(TB)\n",
        "print(type(TB))\n",
        "print(TB.size())\n",
        "\n",
        "# Mutiplicação os vetores\n",
        "C = TA * TB\n",
        "# ou\n",
        "D = torch.mul(TA, TB)\n",
        "# ou\n",
        "E = TA.mul(TB)\n",
        "\n",
        "# Mostra a multiplicação\n",
        "print(C)\n",
        "print(D)\n",
        "print(E)"
      ],
      "execution_count": 19,
      "outputs": [
        {
          "output_type": "stream",
          "name": "stdout",
          "text": [
            "tensor([[1., 2.],\n",
            "        [3., 4.]])\n",
            "<class 'torch.Tensor'>\n",
            "torch.Size([2, 2])\n",
            "tensor([[5., 6.],\n",
            "        [7., 8.]])\n",
            "<class 'torch.Tensor'>\n",
            "torch.Size([2, 2])\n",
            "tensor([[ 5., 12.],\n",
            "        [21., 32.]])\n",
            "tensor([[ 5., 12.],\n",
            "        [21., 32.]])\n",
            "tensor([[ 5., 12.],\n",
            "        [21., 32.]])\n"
          ]
        }
      ]
    },
    {
      "cell_type": "markdown",
      "metadata": {
        "id": "3ddMM2usIubS"
      },
      "source": [
        "###Produto de matrizes de ordem diferente"
      ]
    },
    {
      "cell_type": "code",
      "metadata": {
        "colab": {
          "base_uri": "https://localhost:8080/"
        },
        "id": "KjyhCWVC-u3o",
        "outputId": "52e077d6-0ab8-47c2-9932-a565a6866c9d"
      },
      "source": [
        "# Bibliotecas\n",
        "import torch\n",
        "\n",
        "# Declaração da matriz\n",
        "A =  [\n",
        "        [1.0, 2.0],\n",
        "        [3.0, 4.0],\n",
        "        [5.0, 6.0]\n",
        "     ]\n",
        "\n",
        "B =  [\n",
        "        [5.0, 6.0],\n",
        "        [7.0, 8.0]\n",
        "     ]\n",
        "\n",
        "# Converte a lista de lista de matriz em um tensor\n",
        "TA = torch.as_tensor(A)\n",
        "TB = torch.as_tensor(B)\n",
        "\n",
        "# Mostra os tensores\n",
        "print(TA)\n",
        "print(type(TA))\n",
        "print(TA.size())\n",
        "print(TB)\n",
        "print(type(TB))\n",
        "print(TB.size())\n",
        "\n",
        "# Mutiplicação os vetores\n",
        "C = torch.matmul(TA, TB)\n",
        "# ou\n",
        "D = TA.matmul(TB)\n",
        "\n",
        "# Mostra a multiplicação\n",
        "print(\"Resultado:\\n\",C)\n",
        "print(C.size())\n",
        "print(\"Resultado:\\n\",D)\n",
        "print(D.size())"
      ],
      "execution_count": 20,
      "outputs": [
        {
          "output_type": "stream",
          "name": "stdout",
          "text": [
            "tensor([[1., 2.],\n",
            "        [3., 4.],\n",
            "        [5., 6.]])\n",
            "<class 'torch.Tensor'>\n",
            "torch.Size([3, 2])\n",
            "tensor([[5., 6.],\n",
            "        [7., 8.]])\n",
            "<class 'torch.Tensor'>\n",
            "torch.Size([2, 2])\n",
            "Resultado:\n",
            " tensor([[19., 22.],\n",
            "        [43., 50.],\n",
            "        [67., 78.]])\n",
            "torch.Size([3, 2])\n",
            "Resultado:\n",
            " tensor([[19., 22.],\n",
            "        [43., 50.],\n",
            "        [67., 78.]])\n",
            "torch.Size([3, 2])\n"
          ]
        }
      ]
    },
    {
      "cell_type": "markdown",
      "metadata": {
        "id": "ccJjH8UV92j2"
      },
      "source": [
        "###Produto escalar\n",
        "\n",
        "dot(a, b)[i,j,k,m] = sum(a[i,j,:] * b[k,:,m])\n",
        "\n",
        "https://pytorch.org/docs/stable/generated/torch.dot.html"
      ]
    },
    {
      "cell_type": "code",
      "metadata": {
        "id": "KapG5JCNRusn"
      },
      "source": [
        "def getLinha(matriz, n):\n",
        "    return [i for i in matriz[n]]  # ou simplesmente return matriz[n]\n",
        "\n",
        "def getColuna(matriz, n):\n",
        "    return [i[n] for i in matriz]\n",
        "\n",
        "def produtoEscalar(A, B):\n",
        "  matRes = []                        # deverá ser uma matriz 2x3\n",
        "  for i in range(A.shape[0]):\n",
        "    matRes.append([])\n",
        "    for j in range(B.shape[1]):\n",
        "        # multiplica cada linha de mat1 por cada coluna de mat2;\n",
        "        produto = [x*y for x, y in zip(getLinha(A, i), getColuna(B, j))]\n",
        "        #print(i,j, \" = \", getLinha(A, i), \"*\", getColuna(B, j))\n",
        "        #print(produto)\n",
        "        matRes[i].append(sum(torch.as_tensor(produto)))\n",
        "  return torch.as_tensor(matRes)"
      ],
      "execution_count": 21,
      "outputs": []
    },
    {
      "cell_type": "code",
      "metadata": {
        "colab": {
          "base_uri": "https://localhost:8080/"
        },
        "id": "RO_NV9LX92j5",
        "outputId": "4320d78e-77ea-41d4-8a46-dc8d7373993a"
      },
      "source": [
        "# Bibliotecas\n",
        "import torch\n",
        "\n",
        "# Declaração da matriz\n",
        "A =  [\n",
        "        [1.0, 2.0],\n",
        "        [3.0, 4.0],\n",
        "        [5.0, 6.0]\n",
        "     ]\n",
        "\n",
        "B =  [\n",
        "        [5.0, 6.0],\n",
        "        [7.0, 8.0]\n",
        "     ]\n",
        "\n",
        "# Converte a lista de lista de matriz em um tensor\n",
        "TA = torch.as_tensor(A)\n",
        "TB = torch.as_tensor(B)\n",
        "\n",
        "# Mostra os tensores\n",
        "print(TA)\n",
        "print(type(TA))\n",
        "print(TA.size())\n",
        "print(TB)\n",
        "print(type(TB))\n",
        "print(TB.size())\n",
        "\n",
        "MatrizResultante = []\n",
        "for i in range(TA.shape[0]):\n",
        "    MatrizResultante.append([])\n",
        "    for j in range(TB.shape[1]):\n",
        "        # Multiplica cada linha de A por cada coluna de B;\n",
        "        produto = [x*y for x, y in zip(getLinha(A, i), getColuna(B, j))]\n",
        "        # Guarda a soma do produto\n",
        "        MatrizResultante[i].append(sum(produto))\n",
        "C = torch.as_tensor(MatrizResultante)\n",
        "\n",
        "print(\"Resultado:\\n\",C)\n",
        "print(C.size())\n",
        "D = produtoEscalar(TA,TB)\n",
        "print(\"Resultado da função:\\n\", D)\n",
        "print(D.size())"
      ],
      "execution_count": 22,
      "outputs": [
        {
          "output_type": "stream",
          "name": "stdout",
          "text": [
            "tensor([[1., 2.],\n",
            "        [3., 4.],\n",
            "        [5., 6.]])\n",
            "<class 'torch.Tensor'>\n",
            "torch.Size([3, 2])\n",
            "tensor([[5., 6.],\n",
            "        [7., 8.]])\n",
            "<class 'torch.Tensor'>\n",
            "torch.Size([2, 2])\n",
            "Resultado:\n",
            " tensor([[19., 22.],\n",
            "        [43., 50.],\n",
            "        [67., 78.]])\n",
            "torch.Size([3, 2])\n",
            "Resultado da função:\n",
            " tensor([[19., 22.],\n",
            "        [43., 50.],\n",
            "        [67., 78.]])\n",
            "torch.Size([3, 2])\n"
          ]
        }
      ]
    },
    {
      "cell_type": "markdown",
      "metadata": {
        "id": "dOdYTfrgON1C"
      },
      "source": [
        "###Divisão"
      ]
    },
    {
      "cell_type": "code",
      "metadata": {
        "id": "wB6ppUGRON1D",
        "colab": {
          "base_uri": "https://localhost:8080/"
        },
        "outputId": "bb0bf7af-5d55-4d9c-a615-02223a6d7a10"
      },
      "source": [
        "# Bibliotecas\n",
        "import torch\n",
        "\n",
        "# Declaração da matriz\n",
        "A =  [\n",
        "        [1.0, 2.0],\n",
        "        [3.0, 4.0]\n",
        "     ]\n",
        "\n",
        "B =  [\n",
        "        [5.0, 6.0],\n",
        "        [7.0, 8.0]\n",
        "     ]\n",
        "\n",
        "# Converte a lista de lista de matriz em um tensor\n",
        "TA = torch.as_tensor(A)\n",
        "TB = torch.as_tensor(B)\n",
        "\n",
        "# Mostra os tensores\n",
        "print(TA)\n",
        "print(type(TA))\n",
        "print(TA.size())\n",
        "print(TB)\n",
        "print(type(TB))\n",
        "print(TB.size())\n",
        "\n",
        "# Divisão os vetores\n",
        "C = TB / TA\n",
        "# ou\n",
        "D = torch.div(TB, TA)\n",
        "# ou\n",
        "E = TB.div(TA)\n",
        "\n",
        "# Mostra a divisão\n",
        "print(C)\n",
        "print(D)\n",
        "print(E)"
      ],
      "execution_count": 23,
      "outputs": [
        {
          "output_type": "stream",
          "name": "stdout",
          "text": [
            "tensor([[1., 2.],\n",
            "        [3., 4.]])\n",
            "<class 'torch.Tensor'>\n",
            "torch.Size([2, 2])\n",
            "tensor([[5., 6.],\n",
            "        [7., 8.]])\n",
            "<class 'torch.Tensor'>\n",
            "torch.Size([2, 2])\n",
            "tensor([[5.0000, 3.0000],\n",
            "        [2.3333, 2.0000]])\n",
            "tensor([[5.0000, 3.0000],\n",
            "        [2.3333, 2.0000]])\n",
            "tensor([[5.0000, 3.0000],\n",
            "        [2.3333, 2.0000]])\n"
          ]
        }
      ]
    },
    {
      "cell_type": "markdown",
      "metadata": {
        "id": "uWCDr8HN6R85"
      },
      "source": [
        "###Concatenação\n",
        "\n",
        "Concatena a sequência fornecida de tensores na dimensão fornecida.\n",
        "\n",
        "https://pytorch.org/docs/stable/generated/torch.cat.html"
      ]
    },
    {
      "cell_type": "code",
      "metadata": {
        "id": "WQmY3Ax0rzPJ",
        "colab": {
          "base_uri": "https://localhost:8080/"
        },
        "outputId": "8cfa6447-18df-4355-91b2-4a0a2d5c33b7"
      },
      "source": [
        "# Bibliotecas\n",
        "import torch\n",
        "\n",
        "# Declaração da matriz\n",
        "A =  [\n",
        "        [1.0, 2.0],\n",
        "        [3.0, 4.0]\n",
        "     ]\n",
        "\n",
        "B =  [\n",
        "        [5.0, 6.0],\n",
        "        [7.0, 8.0]\n",
        "     ]\n",
        "\n",
        "# Converte a lista de lista de matriz em um tensor\n",
        "TA = torch.as_tensor(A)\n",
        "TB = torch.as_tensor(B)\n",
        "\n",
        "# Mostra os tensores\n",
        "print(TA)\n",
        "print(type(TA))\n",
        "print(TA.size())\n",
        "print(TB)\n",
        "print(type(TB))\n",
        "print(TB.size())\n",
        "\n",
        "# Concatena os vetores (ou seja, juntando-os)\n",
        "TC0 = torch.cat((TA, TB), dim=0)\n",
        "TC1 = torch.cat((TA, TB), dim=1)\n",
        "\n",
        "# Mostra as concatenações\n",
        "print(\"\\nConcatenação pela dimensão 0\")\n",
        "print(TC0)\n",
        "print(TC0.size())\n",
        "\n",
        "print(\"\\nConcatenação pela dimensão 1\")\n",
        "print(TC1)\n",
        "print(TC1.size())"
      ],
      "execution_count": 24,
      "outputs": [
        {
          "output_type": "stream",
          "name": "stdout",
          "text": [
            "tensor([[1., 2.],\n",
            "        [3., 4.]])\n",
            "<class 'torch.Tensor'>\n",
            "torch.Size([2, 2])\n",
            "tensor([[5., 6.],\n",
            "        [7., 8.]])\n",
            "<class 'torch.Tensor'>\n",
            "torch.Size([2, 2])\n",
            "\n",
            "Concatenação pela dimensão 0\n",
            "tensor([[1., 2.],\n",
            "        [3., 4.],\n",
            "        [5., 6.],\n",
            "        [7., 8.]])\n",
            "torch.Size([4, 2])\n",
            "\n",
            "Concatenação pela dimensão 1\n",
            "tensor([[1., 2., 5., 6.],\n",
            "        [3., 4., 7., 8.]])\n",
            "torch.Size([2, 4])\n"
          ]
        }
      ]
    },
    {
      "cell_type": "markdown",
      "metadata": {
        "id": "B0mMbtqj6BRp"
      },
      "source": [
        "### Concatenação de uma lista de tensores"
      ]
    },
    {
      "cell_type": "code",
      "metadata": {
        "id": "UdAmRxAbzBX_",
        "colab": {
          "base_uri": "https://localhost:8080/"
        },
        "outputId": "88ccec82-8628-4526-e091-72f3e2e7868d"
      },
      "source": [
        "# Bibliotecas\n",
        "import torch\n",
        "\n",
        "# Declaração da matriz\n",
        "A =  [\n",
        "        [\n",
        "          [1.0, 2.0],\n",
        "          [3.0, 4.0]\n",
        "        ],\n",
        "        [\n",
        "          [5.0, 6.0],\n",
        "          [7.0, 8.0]\n",
        "        ],\n",
        "        [\n",
        "          [9.0, 10.0],\n",
        "          [11.0,12.0]\n",
        "        ],\n",
        "        [\n",
        "          [13.0, 14.0],\n",
        "          [15.0, 16.0]\n",
        "        ]\n",
        "      ]\n",
        "\n",
        "# Converte a lista de lista de matriz em um tensor\n",
        "TA = torch.as_tensor(A)\n",
        "\n",
        "# Mostra os tensores\n",
        "print(TA)\n",
        "print(type(TA))\n",
        "print(TA.size())\n",
        "\n",
        "# Concatena os vetores da última e penúltima posição\n",
        "TC0 = torch.cat((TA[-1], TA[-2]), dim=0)\n",
        "TC1 = torch.cat((TA[-1], TA[-2]), dim=1)\n",
        "\n",
        "#Cria uma lista com os vetores do final para a posição\n",
        "posicao = 2\n",
        "lista = []\n",
        "for x in range(1,posicao+1):\n",
        "    lista.append(TA[-x])\n",
        "\n",
        "# Concatena os vetores da lista pela dimensão 0\n",
        "TC2 = torch.cat(lista, dim=0)\n",
        "\n",
        "# Concatena os vetores da lista pela dimensão 1\n",
        "TC3 = torch.cat(lista, dim=1)\n",
        "\n",
        "# Mostra as concatenações\n",
        "print(\"\\nConcatenação dos dois últimos vetores pela dimensão 0\")\n",
        "print(TC0)\n",
        "print(TC0.size())\n",
        "\n",
        "print(\"\\nConcatenação dos dois últimos vetores pela dimensão 1\")\n",
        "print(TC1)\n",
        "print(TC1.size())\n",
        "\n",
        "print(\"\\nConcatenação da lista pela dimensão 0\")\n",
        "print(TC2)\n",
        "print(TC2.size())\n",
        "\n",
        "print(\"\\nConcatenação da lista pela dimensão 1\")\n",
        "print(TC3)\n",
        "print(TC3.size())"
      ],
      "execution_count": 25,
      "outputs": [
        {
          "output_type": "stream",
          "name": "stdout",
          "text": [
            "tensor([[[ 1.,  2.],\n",
            "         [ 3.,  4.]],\n",
            "\n",
            "        [[ 5.,  6.],\n",
            "         [ 7.,  8.]],\n",
            "\n",
            "        [[ 9., 10.],\n",
            "         [11., 12.]],\n",
            "\n",
            "        [[13., 14.],\n",
            "         [15., 16.]]])\n",
            "<class 'torch.Tensor'>\n",
            "torch.Size([4, 2, 2])\n",
            "\n",
            "Concatenação dos dois últimos vetores pela dimensão 0\n",
            "tensor([[13., 14.],\n",
            "        [15., 16.],\n",
            "        [ 9., 10.],\n",
            "        [11., 12.]])\n",
            "torch.Size([4, 2])\n",
            "\n",
            "Concatenação dos dois últimos vetores pela dimensão 1\n",
            "tensor([[13., 14.,  9., 10.],\n",
            "        [15., 16., 11., 12.]])\n",
            "torch.Size([2, 4])\n",
            "\n",
            "Concatenação da lista pela dimensão 0\n",
            "tensor([[13., 14.],\n",
            "        [15., 16.],\n",
            "        [ 9., 10.],\n",
            "        [11., 12.]])\n",
            "torch.Size([4, 2])\n",
            "\n",
            "Concatenação da lista pela dimensão 1\n",
            "tensor([[13., 14.,  9., 10.],\n",
            "        [15., 16., 11., 12.]])\n",
            "torch.Size([2, 4])\n"
          ]
        }
      ]
    },
    {
      "cell_type": "markdown",
      "metadata": {
        "id": "0FsTe73gYItk"
      },
      "source": [
        "### Stack\n",
        "\n",
        "Concatena a sequência de tensores ao longo de uma nova dimensão. **Cria uma nova dimensão.**\n",
        "\n",
        " * torch.stack(TA, TB], dim = 0) == torch.cat(TA.unsqueeze(0), TB.unsqueeze(0)], dim = 0)\n",
        " * torch.stack(TA).sum() == torch.cat(TA).sum()"
      ]
    },
    {
      "cell_type": "code",
      "metadata": {
        "id": "o_wrkfsRYJDY",
        "colab": {
          "base_uri": "https://localhost:8080/"
        },
        "outputId": "c976e071-e9a2-4f83-f9b6-7de5cb74a78a"
      },
      "source": [
        "# Bibliotecas\n",
        "import torch\n",
        "\n",
        "# Declaração da matriz\n",
        "A =  [\n",
        "        [1.0, 2.0],\n",
        "        [3.0, 4.0]\n",
        "     ]\n",
        "\n",
        "B =  [\n",
        "        [5.0, 6.0],\n",
        "        [7.0, 8.0]\n",
        "     ]\n",
        "\n",
        "# Converte a lista de lista de matriz em um tensor\n",
        "TA = torch.as_tensor(A)\n",
        "TB = torch.as_tensor(B)\n",
        "\n",
        "# Mostra os tensores\n",
        "print(TA)\n",
        "print(type(TA))\n",
        "print(TA.size())\n",
        "print(TB)\n",
        "print(type(TB))\n",
        "print(TB.size())\n",
        "\n",
        "# Stack dos vetores (ou seja, juntando-os)\n",
        "TC0 = torch.stack((TA, TB), dim=0)\n",
        "TC1 = torch.stack((TA, TB), dim=1)\n",
        "\n",
        "# Mostra os stacks\n",
        "print(\"Stack pela dimensão 0\")\n",
        "print(TC0)\n",
        "print(TC0.shape)\n",
        "print(\"Stack pela dimensão 1\")\n",
        "print(TC1)\n",
        "print(TC1.shape)"
      ],
      "execution_count": 26,
      "outputs": [
        {
          "output_type": "stream",
          "name": "stdout",
          "text": [
            "tensor([[1., 2.],\n",
            "        [3., 4.]])\n",
            "<class 'torch.Tensor'>\n",
            "torch.Size([2, 2])\n",
            "tensor([[5., 6.],\n",
            "        [7., 8.]])\n",
            "<class 'torch.Tensor'>\n",
            "torch.Size([2, 2])\n",
            "Stack pela dimensão 0\n",
            "tensor([[[1., 2.],\n",
            "         [3., 4.]],\n",
            "\n",
            "        [[5., 6.],\n",
            "         [7., 8.]]])\n",
            "torch.Size([2, 2, 2])\n",
            "Stack pela dimensão 1\n",
            "tensor([[[1., 2.],\n",
            "         [5., 6.]],\n",
            "\n",
            "        [[3., 4.],\n",
            "         [7., 8.]]])\n",
            "torch.Size([2, 2, 2])\n"
          ]
        }
      ]
    },
    {
      "cell_type": "markdown",
      "metadata": {
        "id": "hswf7dnjSEbL"
      },
      "source": [
        "### Cat\n",
        "\n",
        "Concatena a sequência de tensores dada na dimensão fornecida. **Não cria uma nova dimensão.**"
      ]
    },
    {
      "cell_type": "code",
      "metadata": {
        "id": "T8FlbQWlSJmJ",
        "colab": {
          "base_uri": "https://localhost:8080/"
        },
        "outputId": "b6f13b6b-b14a-474d-ffb0-eb388e5e33c8"
      },
      "source": [
        "# Bibliotecas\n",
        "import torch\n",
        "\n",
        "# Declaração da matriz\n",
        "A =  [\n",
        "        [1.0, 2.0],\n",
        "        [3.0, 4.0]\n",
        "     ]\n",
        "\n",
        "B =  [\n",
        "        [5.0, 6.0],\n",
        "        [7.0, 8.0]\n",
        "     ]\n",
        "\n",
        "# Converte a lista de lista de matriz em um tensor\n",
        "TA = torch.as_tensor(A)\n",
        "TB = torch.as_tensor(B)\n",
        "\n",
        "# Mostra os tensores\n",
        "print(TA)\n",
        "print(type(TA))\n",
        "print(TA.size())\n",
        "print(TB)\n",
        "print(type(TB))\n",
        "print(TB.size())\n",
        "\n",
        "# Stack dos vetores (ou seja, juntando-os)\n",
        "TC0 = torch.cat((TA, TB), dim=0)\n",
        "TC1 = torch.cat((TA, TB), dim=1)\n",
        "\n",
        "# Mostra os stacks\n",
        "print(\"Cat pela dimensão 0\")\n",
        "print(TC0)\n",
        "print(TC0.shape)\n",
        "print(\"Cat pela dimensão 1\")\n",
        "print(TC1)\n",
        "print(TC1.shape)"
      ],
      "execution_count": 27,
      "outputs": [
        {
          "output_type": "stream",
          "name": "stdout",
          "text": [
            "tensor([[1., 2.],\n",
            "        [3., 4.]])\n",
            "<class 'torch.Tensor'>\n",
            "torch.Size([2, 2])\n",
            "tensor([[5., 6.],\n",
            "        [7., 8.]])\n",
            "<class 'torch.Tensor'>\n",
            "torch.Size([2, 2])\n",
            "Cat pela dimensão 0\n",
            "tensor([[1., 2.],\n",
            "        [3., 4.],\n",
            "        [5., 6.],\n",
            "        [7., 8.]])\n",
            "torch.Size([4, 2])\n",
            "Cat pela dimensão 1\n",
            "tensor([[1., 2., 5., 6.],\n",
            "        [3., 4., 7., 8.]])\n",
            "torch.Size([2, 4])\n"
          ]
        }
      ]
    },
    {
      "cell_type": "markdown",
      "metadata": {
        "id": "XtJ8x01JgDLQ"
      },
      "source": [
        "###Média"
      ]
    },
    {
      "cell_type": "markdown",
      "metadata": {
        "id": "f6Vk887QWr4a"
      },
      "source": [
        "####Média de um tensor"
      ]
    },
    {
      "cell_type": "code",
      "metadata": {
        "id": "Gb76B2dhgFAB",
        "colab": {
          "base_uri": "https://localhost:8080/"
        },
        "outputId": "a5d8d2b4-72ff-4458-a4c6-668f117cf374"
      },
      "source": [
        "# Bibliotecas\n",
        "import torch\n",
        "\n",
        "A =   [\n",
        "        [1.0, 2.0, 3.0],\n",
        "        [4.0, 5.0, 6.0]\n",
        "      ]\n",
        "\n",
        "\n",
        "# Converte a lista de lista de matriz em um tensor\n",
        "TA = torch.as_tensor(A)\n",
        "\n",
        "# Mostra os tensores\n",
        "print(TA)\n",
        "print(type(TA))\n",
        "print(TA.size())\n",
        "\n",
        "# Média dos vetores por coluna\n",
        "TC0 = torch.mean(TA, dim=0)\n",
        "\n",
        "# Média dos vetores por coluna\n",
        "TC1 = torch.mean(TA, dim=1)\n",
        "\n",
        "# Mostra as médias\n",
        "print(\"Média pela dimensão 0(coluna)\")\n",
        "print(TC0)\n",
        "print(TC0.size())\n",
        "\n",
        "print(\"Média pela dimensão 1(linha)\")\n",
        "print(TC1)\n",
        "print(TC1.size())"
      ],
      "execution_count": 28,
      "outputs": [
        {
          "output_type": "stream",
          "name": "stdout",
          "text": [
            "tensor([[1., 2., 3.],\n",
            "        [4., 5., 6.]])\n",
            "<class 'torch.Tensor'>\n",
            "torch.Size([2, 3])\n",
            "Média pela dimensão 0(coluna)\n",
            "tensor([2.5000, 3.5000, 4.5000])\n",
            "torch.Size([3])\n",
            "Média pela dimensão 1(linha)\n",
            "tensor([2., 5.])\n",
            "torch.Size([2])\n"
          ]
        }
      ]
    },
    {
      "cell_type": "markdown",
      "metadata": {
        "id": "fxCcc8ZY-nuQ"
      },
      "source": [
        "####Média de duas ou mais dimensões de um mesmo tensor"
      ]
    },
    {
      "cell_type": "code",
      "metadata": {
        "id": "jvzBfSDSQ8Qy",
        "colab": {
          "base_uri": "https://localhost:8080/"
        },
        "outputId": "15a61ade-28da-43f9-fc7f-3a5b15b157e3"
      },
      "source": [
        "# Bibliotecas\n",
        "import torch\n",
        "\n",
        "A =   [\n",
        "        [\n",
        "          [\n",
        "            [1.0, 2.0, 3.0],\n",
        "            [4.0, 5.0, 6.0]\n",
        "          ],\n",
        "          [\n",
        "            [1.0, 2.0, 3.0],\n",
        "            [4.0, 5.0, 6.0]\n",
        "          ]\n",
        "        ]\n",
        "      ]\n",
        "\n",
        "# Converte a lista de lista de matriz em um tensor\n",
        "TA = torch.as_tensor(A)\n",
        "\n",
        "# Mostra os tensores\n",
        "print(TA)\n",
        "print(type(TA))\n",
        "print(TA.size())\n",
        "\n",
        "# Média dos vetores\n",
        "TC0 = torch.mean(TA, dim=0)\n",
        "TC1 = torch.mean(TA, dim=1)\n",
        "TC2 = torch.mean(TA, dim=2)\n",
        "TC3 = torch.mean(TA, dim=3)\n",
        "\n",
        "# Mostra as médias\n",
        "print(\"Média pela dimensão 0\")\n",
        "print(TC0)\n",
        "print(TC0.size())\n",
        "\n",
        "print(\"Média pela dimensão 1\")\n",
        "print(TC1)\n",
        "print(TC1.size())\n",
        "\n",
        "print(\"Média pela dimensão 2\")\n",
        "print(TC2)\n",
        "print(TC2.size())\n",
        "\n",
        "print(\"Média pela dimensão 3\")\n",
        "print(TC3)\n",
        "print(TC3.size())"
      ],
      "execution_count": 29,
      "outputs": [
        {
          "output_type": "stream",
          "name": "stdout",
          "text": [
            "tensor([[[[1., 2., 3.],\n",
            "          [4., 5., 6.]],\n",
            "\n",
            "         [[1., 2., 3.],\n",
            "          [4., 5., 6.]]]])\n",
            "<class 'torch.Tensor'>\n",
            "torch.Size([1, 2, 2, 3])\n",
            "Média pela dimensão 0\n",
            "tensor([[[1., 2., 3.],\n",
            "         [4., 5., 6.]],\n",
            "\n",
            "        [[1., 2., 3.],\n",
            "         [4., 5., 6.]]])\n",
            "torch.Size([2, 2, 3])\n",
            "Média pela dimensão 1\n",
            "tensor([[[1., 2., 3.],\n",
            "         [4., 5., 6.]]])\n",
            "torch.Size([1, 2, 3])\n",
            "Média pela dimensão 2\n",
            "tensor([[[2.5000, 3.5000, 4.5000],\n",
            "         [2.5000, 3.5000, 4.5000]]])\n",
            "torch.Size([1, 2, 3])\n",
            "Média pela dimensão 3\n",
            "tensor([[[2., 5.],\n",
            "         [2., 5.]]])\n",
            "torch.Size([1, 2, 2])\n"
          ]
        }
      ]
    },
    {
      "cell_type": "markdown",
      "metadata": {
        "id": "VI3IgiJArfw1"
      },
      "source": [
        "#### Média de dois tensores"
      ]
    },
    {
      "cell_type": "code",
      "metadata": {
        "colab": {
          "base_uri": "https://localhost:8080/"
        },
        "id": "UfMDU3Turiy5",
        "outputId": "68cd1387-d085-45c8-9c41-f46a14333940"
      },
      "source": [
        "# Bibliotecas\n",
        "import torch\n",
        "\n",
        "# Declaração da matriz\n",
        "A = [\n",
        "      [1.0, 2.0],\n",
        "      [3.0, 4.0]\n",
        "    ]\n",
        "\n",
        "B = [\n",
        "      [5.0, 6.0],\n",
        "      [7.0, 8.0]\n",
        "    ]\n",
        "\n",
        "# Converte a lista de lista de matriz em um tensor\n",
        "TA = torch.as_tensor(A)\n",
        "TB = torch.as_tensor(B)\n",
        "\n",
        "\n",
        "# Mostra o tamanho do tensor em todas as dimensões\n",
        "print(TA)\n",
        "print(type(TA))\n",
        "print(TA.size())\n",
        "print(TB)\n",
        "print(type(TB))\n",
        "print(TA.size())\n",
        "\n",
        "TC = torch.add(TA, TB)/2\n",
        "print(TC)\n",
        "\n",
        "TC = (TA + TB)/2\n",
        "print(TC)\n",
        "\n",
        "TC = torch.mean(torch.stack([TA,TB]), dim=0)\n",
        "print(TC)"
      ],
      "execution_count": 30,
      "outputs": [
        {
          "output_type": "stream",
          "name": "stdout",
          "text": [
            "tensor([[1., 2.],\n",
            "        [3., 4.]])\n",
            "<class 'torch.Tensor'>\n",
            "torch.Size([2, 2])\n",
            "tensor([[5., 6.],\n",
            "        [7., 8.]])\n",
            "<class 'torch.Tensor'>\n",
            "torch.Size([2, 2])\n",
            "tensor([[3., 4.],\n",
            "        [5., 6.]])\n",
            "tensor([[3., 4.],\n",
            "        [5., 6.]])\n",
            "tensor([[3., 4.],\n",
            "        [5., 6.]])\n"
          ]
        }
      ]
    },
    {
      "cell_type": "markdown",
      "metadata": {
        "id": "tklJhmcrCFS7"
      },
      "source": [
        "###Permute\n",
        "\n",
        "\n",
        "Troca a ordem das dimensões."
      ]
    },
    {
      "cell_type": "code",
      "metadata": {
        "id": "5Ayfdnw7CGVl",
        "colab": {
          "base_uri": "https://localhost:8080/"
        },
        "outputId": "82fd8207-7945-44e6-a374-243cc7abd264"
      },
      "source": [
        "# Bibliotecas\n",
        "import torch\n",
        "\n",
        "A = [\n",
        "      [\n",
        "        [1, 2, 3],\n",
        "        [4, 5, 6]\n",
        "      ]\n",
        "    ]\n",
        "\n",
        "# Converte a lista de lista de matriz em um tensor\n",
        "TA = torch.as_tensor(A)\n",
        "\n",
        "# Mostra os tensores\n",
        "print(TA)\n",
        "print(type(TA))\n",
        "print(TA.size())\n",
        "\n",
        "# Permute troca as dimensões 0, 1, 2 pelas dimensões 2, 1, 0\n",
        "TC0 = TA.permute(2, 1, 0)\n",
        "\n",
        "# Mostra o tensor modificado\n",
        "print(\"Permutação das dimensões 0, 1, 2 por 2, 1, 0\")\n",
        "print(TC0)\n",
        "print(TC0.size())"
      ],
      "execution_count": 31,
      "outputs": [
        {
          "output_type": "stream",
          "name": "stdout",
          "text": [
            "tensor([[[1, 2, 3],\n",
            "         [4, 5, 6]]])\n",
            "<class 'torch.Tensor'>\n",
            "torch.Size([1, 2, 3])\n",
            "Permutação das dimensões 0, 1, 2 por 2, 1, 0\n",
            "tensor([[[1],\n",
            "         [4]],\n",
            "\n",
            "        [[2],\n",
            "         [5]],\n",
            "\n",
            "        [[3],\n",
            "         [6]]])\n",
            "torch.Size([3, 2, 1])\n"
          ]
        }
      ]
    },
    {
      "cell_type": "markdown",
      "metadata": {
        "id": "_yQhjh0PAVDj"
      },
      "source": [
        "###Squeeze\n",
        "\n",
        "Remove as dimensões de tamanho 1 para a posição especificada.\n",
        "\n",
        "https://pytorch.org/docs/stable/generated/torch.squeeze.html"
      ]
    },
    {
      "cell_type": "code",
      "metadata": {
        "id": "m5MwtkgzAVDj",
        "colab": {
          "base_uri": "https://localhost:8080/"
        },
        "outputId": "f7513f5f-3a52-4a3b-833a-5433db996144"
      },
      "source": [
        "# Bibliotecas\n",
        "import torch\n",
        "\n",
        "A = [\n",
        "      [\n",
        "        [\n",
        "          [1, 2, 3],\n",
        "          [4, 5, 6]\n",
        "        ]\n",
        "      ]\n",
        "    ]\n",
        "\n",
        "# Converte a lista de lista de matriz em um tensor\n",
        "TA = torch.as_tensor(A)\n",
        "\n",
        "# Mostra os tensores\n",
        "print(TA)\n",
        "print(\"Tamanho das dimensões:\", TA.size())\n",
        "\n",
        "# Remove primeira dimensão de tamanho 1\n",
        "TC0 = torch.squeeze(TA, dim=0)\n",
        "\n",
        "# Mostra o tensor com a dimensão removida\n",
        "print(\"Tamanho das dimensões:\", TC0.size())\n",
        "\n",
        "# Remove primeira dimensão de tamanho 1\n",
        "TC0 = torch.squeeze(TC0, dim=0)\n",
        "\n",
        "# Mostra o tensor com a dimensão removida\n",
        "print(\"Tamanho das dimensões:\", TC0.size())"
      ],
      "execution_count": 32,
      "outputs": [
        {
          "output_type": "stream",
          "name": "stdout",
          "text": [
            "tensor([[[[1, 2, 3],\n",
            "          [4, 5, 6]]]])\n",
            "Tamanho das dimensões: torch.Size([1, 1, 2, 3])\n",
            "Tamanho das dimensões: torch.Size([1, 2, 3])\n",
            "Tamanho das dimensões: torch.Size([2, 3])\n"
          ]
        }
      ]
    },
    {
      "cell_type": "markdown",
      "metadata": {
        "id": "8lV5P2WjZ_rZ"
      },
      "source": [
        "### Unsqueeze\n",
        "\n",
        "Insere uma dimensão de tamanho 1 na posição especificada.\n",
        "Inverso do squeeze.\n",
        "\n",
        "https://pytorch.org/docs/stable/generated/torch.unsqueeze.html"
      ]
    },
    {
      "cell_type": "code",
      "metadata": {
        "id": "PJ7ieZAyaADn",
        "colab": {
          "base_uri": "https://localhost:8080/"
        },
        "outputId": "99e1ecad-e418-4a8e-b18d-0ea1e8f53253"
      },
      "source": [
        "# Bibliotecas\n",
        "import torch\n",
        "\n",
        "A =   [\n",
        "       [1, 2, 3],\n",
        "       [4, 5, 6]\n",
        "      ]\n",
        "\n",
        "# Converte a lista de lista de matriz em um tensor\n",
        "TA = torch.as_tensor(A)\n",
        "\n",
        "# Mostra os tensores\n",
        "print(TA)\n",
        "print(\"Tamanho das dimensões:\", TA.size())\n",
        "\n",
        "# Insere primeira dimensão de tamanho 1\n",
        "TC0 = torch.unsqueeze(TA, dim=0)\n",
        "\n",
        "# Mostra o tensor com a dimensão inserida\n",
        "print(\"Tamanho das dimensões:\", TC0.size())\n",
        "\n",
        "# Insere primeira dimensão de tamanho 1\n",
        "TC0 = torch.unsqueeze(TC0, dim=0)\n",
        "\n",
        "# Mostra o tensor com a dimensão inserida\n",
        "print(\"Tamanho das dimensões:\", TC0.size())"
      ],
      "execution_count": 33,
      "outputs": [
        {
          "output_type": "stream",
          "name": "stdout",
          "text": [
            "tensor([[1, 2, 3],\n",
            "        [4, 5, 6]])\n",
            "Tamanho das dimensões: torch.Size([2, 3])\n",
            "Tamanho das dimensões: torch.Size([1, 2, 3])\n",
            "Tamanho das dimensões: torch.Size([1, 1, 2, 3])\n"
          ]
        }
      ]
    },
    {
      "cell_type": "markdown",
      "metadata": {
        "id": "fCTDRntI6Gb9"
      },
      "source": [
        "### max\n",
        "\n",
        "Retorna o valor máximo de todos os elementos de um tensor.\n",
        "\n",
        "https://pytorch.org/docs/stable/generated/torch.max.html\n",
        "\n",
        "https://www.journaldev.com/39463/pytorch-torch-max"
      ]
    },
    {
      "cell_type": "code",
      "metadata": {
        "id": "S-tPqc3m6Gb-",
        "colab": {
          "base_uri": "https://localhost:8080/"
        },
        "outputId": "70a88c77-a583-4d3d-c3ed-3c2ad2d6f310"
      },
      "source": [
        "# Bibliotecas\n",
        "import torch\n",
        "\n",
        "A =   [\n",
        "       [4, 2, 6],\n",
        "       [1, 5, 3]\n",
        "      ]\n",
        "\n",
        "# Converte a lista de lista de matriz em um tensor\n",
        "TA = torch.as_tensor(A)\n",
        "\n",
        "# Mostra os tensores\n",
        "print(TA)\n",
        "print(\"Formato:\", TA.shape)\n",
        "\n",
        "# Mostra o maior valor de tensor\n",
        "print(\"Maior valor de tensor:\", TA.max())\n",
        "\n",
        "# Mostra a linha com os maiores valores dos tensores\n",
        "maior, linha = torch.max(TA, 0)\n",
        "print(\"Maior valores das linhas do tensor:\", maior, \" linhas:\", linha)\n",
        "\n",
        "# Mostra a coluna com os maiores valores dos tensores\n",
        "maior, coluna = torch.max(TA, 1)\n",
        "print(\"Maior valores das colunas do tensor:\", maior, \" coluna:\", coluna)"
      ],
      "execution_count": 34,
      "outputs": [
        {
          "output_type": "stream",
          "name": "stdout",
          "text": [
            "tensor([[4, 2, 6],\n",
            "        [1, 5, 3]])\n",
            "Formato: torch.Size([2, 3])\n",
            "Maior valor de tensor: tensor(6)\n",
            "Maior valores das linhas do tensor: tensor([4, 5, 6])  linhas: tensor([0, 1, 0])\n",
            "Maior valores das colunas do tensor: tensor([6, 5])  coluna: tensor([2, 1])\n"
          ]
        }
      ]
    },
    {
      "cell_type": "markdown",
      "metadata": {
        "id": "G20PO7NBF-UF"
      },
      "source": [
        "### maximum\n",
        "\n",
        "Os maiores valores entre dois tensores.\n",
        "\n",
        "https://pytorch.org/docs/stable/generated/torch.maximum.html"
      ]
    },
    {
      "cell_type": "code",
      "metadata": {
        "colab": {
          "base_uri": "https://localhost:8080/"
        },
        "id": "9NaT0JEFGA14",
        "outputId": "4c4abcd9-867a-4192-b8f8-37c4b6ecfbbb"
      },
      "source": [
        "# Bibliotecas\n",
        "import torch\n",
        "\n",
        "A =   [\n",
        "       [4, 2, 6],\n",
        "       [1, 5, 3]\n",
        "      ]\n",
        "\n",
        "B =   [\n",
        "       [1, 7, 3],\n",
        "       [4, 4, 6]\n",
        "      ]\n",
        "\n",
        "# Converte a lista de lista de matriz em um tensor\n",
        "TA = torch.as_tensor(A)\n",
        "TB = torch.as_tensor(B)\n",
        "\n",
        "# Mostra os tensores\n",
        "print(TA)\n",
        "print(TB)\n",
        "\n",
        "# Localiza os maiores valores entre os dois tensores\n",
        "MAIOR = torch.maximum(TA, TB)\n",
        "\n",
        "# Mostra o tensor\n",
        "print(\"Maior tensor:\\n\", MAIOR)"
      ],
      "execution_count": 35,
      "outputs": [
        {
          "output_type": "stream",
          "name": "stdout",
          "text": [
            "tensor([[4, 2, 6],\n",
            "        [1, 5, 3]])\n",
            "tensor([[1, 7, 3],\n",
            "        [4, 4, 6]])\n",
            "Maior tensor:\n",
            " tensor([[4, 7, 6],\n",
            "        [4, 5, 6]])\n"
          ]
        }
      ]
    },
    {
      "cell_type": "markdown",
      "metadata": {
        "id": "ZE7YNYq0EHtU"
      },
      "source": [
        "### min\n",
        "\n",
        "Retorna o valor mínimo de todos os elementos de um tensor.\n",
        "\n",
        "https://pytorch.org/docs/stable/generated/torch.min.html\n",
        "\n",
        "https://www.journaldev.com/39463/pytorch-torch-min"
      ]
    },
    {
      "cell_type": "code",
      "metadata": {
        "colab": {
          "base_uri": "https://localhost:8080/"
        },
        "id": "ofDdwnq3EHtV",
        "outputId": "bf370dfb-5226-4bc9-bdd1-64bbfd56cdae"
      },
      "source": [
        "# Bibliotecas\n",
        "import torch\n",
        "\n",
        "A =   [\n",
        "       [4, 2, 6],\n",
        "       [1, 5, 3]\n",
        "      ]\n",
        "\n",
        "# Converte a lista de lista de matriz em um tensor\n",
        "TA = torch.as_tensor(A)\n",
        "\n",
        "# Mostra os tensores\n",
        "print(TA)\n",
        "print(\"Formato:\", TA.shape)\n",
        "\n",
        "# Mostra o maior valor de tensor\n",
        "print(\"Menor valor de tensor:\", TA.max())\n",
        "\n",
        "# Mostra a linha com os maiores valores dos tensores\n",
        "maior, linha = torch.max(TA, 0)\n",
        "print(\"Menor valores das linhas do tensor:\", maior, \" linhas:\", linha)\n",
        "\n",
        "# Mostra a coluna com os maiores valores dos tensores\n",
        "maior, coluna = torch.max(TA, 1)\n",
        "print(\"Menor valores das colunas do tensor:\", maior, \" coluna:\", coluna)"
      ],
      "execution_count": 36,
      "outputs": [
        {
          "output_type": "stream",
          "name": "stdout",
          "text": [
            "tensor([[4, 2, 6],\n",
            "        [1, 5, 3]])\n",
            "Formato: torch.Size([2, 3])\n",
            "Menor valor de tensor: tensor(6)\n",
            "Menor valores das linhas do tensor: tensor([4, 5, 6])  linhas: tensor([0, 1, 0])\n",
            "Menor valores das colunas do tensor: tensor([6, 5])  coluna: tensor([2, 1])\n"
          ]
        }
      ]
    },
    {
      "cell_type": "markdown",
      "metadata": {
        "id": "osgd8RMMHjpR"
      },
      "source": [
        "### minimum\n",
        "\n",
        "Os menores valores entre dois tensores.\n",
        "\n",
        "https://pytorch.org/docs/stable/generated/torch.minimum.html"
      ]
    },
    {
      "cell_type": "code",
      "metadata": {
        "colab": {
          "base_uri": "https://localhost:8080/"
        },
        "id": "04WnQQ3HHjpS",
        "outputId": "d8a01b26-ad97-4b42-d77b-99b3a2c6d412"
      },
      "source": [
        "# Bibliotecas\n",
        "import torch\n",
        "\n",
        "A =   [\n",
        "       [4, 2, 6],\n",
        "       [1, 5, 3]\n",
        "      ]\n",
        "\n",
        "B =   [\n",
        "       [1, 7, 3],\n",
        "       [4, 4, 6]\n",
        "      ]\n",
        "\n",
        "# Converte a lista de lista de matriz em um tensor\n",
        "TA = torch.as_tensor(A)\n",
        "TB = torch.as_tensor(B)\n",
        "\n",
        "# Mostra os tensores\n",
        "print(TA)\n",
        "print(TB)\n",
        "\n",
        "# Localiza os menores valores entre os dois tensores\n",
        "MENOR = torch.minimum(TA, TB)\n",
        "\n",
        "# Mostra o tensor\n",
        "print(\"Menor tensor:\\n\", MENOR)"
      ],
      "execution_count": 37,
      "outputs": [
        {
          "output_type": "stream",
          "name": "stdout",
          "text": [
            "tensor([[4, 2, 6],\n",
            "        [1, 5, 3]])\n",
            "tensor([[1, 7, 3],\n",
            "        [4, 4, 6]])\n",
            "Menor tensor:\n",
            " tensor([[1, 2, 3],\n",
            "        [1, 4, 3]])\n"
          ]
        }
      ]
    },
    {
      "cell_type": "markdown",
      "metadata": {
        "id": "6pzErpQZoZz3"
      },
      "source": [
        "### flatten\n",
        "\n",
        "Retorne uma cópia da do tensor em uma dimensão.\n",
        "\n",
        "https://pytorch.org/docs/stable/generated/torch.flatten.html"
      ]
    },
    {
      "cell_type": "code",
      "metadata": {
        "id": "vvE_IqWJoZz4",
        "colab": {
          "base_uri": "https://localhost:8080/"
        },
        "outputId": "9e2d9847-abe5-438c-fd02-9348dc06d645"
      },
      "source": [
        "# Bibliotecas\n",
        "import torch\n",
        "\n",
        "A =   [\n",
        "        [\n",
        "          [1, 2, 3],\n",
        "          [4, 5, 6]\n",
        "        ],\n",
        "        [\n",
        "          [7, 8, 9],\n",
        "          [10, 11, 12]\n",
        "        ]\n",
        "      ]\n",
        "\n",
        "# Converte a lista de lista de matriz em um tensor\n",
        "TA = torch.as_tensor(A)\n",
        "\n",
        "# Mostra o tensor\n",
        "print(TA)\n",
        "print(TA.shape)\n",
        "\n",
        "# Reduz o tensor A a uma dimensão\n",
        "# TA.flatten(start_dim=0)\n",
        "TB = TA.flatten()\n",
        "\n",
        "# Mostra o tensor\n",
        "print(TB)\n",
        "print(TB.shape)\n",
        "\n",
        "# Reduz o tensor A a duas dimensões\n",
        "TC = TA.flatten(start_dim=1)\n",
        "\n",
        "# Mostra o tensor\n",
        "print(TC)\n",
        "print(TC.shape)\n"
      ],
      "execution_count": 38,
      "outputs": [
        {
          "output_type": "stream",
          "name": "stdout",
          "text": [
            "tensor([[[ 1,  2,  3],\n",
            "         [ 4,  5,  6]],\n",
            "\n",
            "        [[ 7,  8,  9],\n",
            "         [10, 11, 12]]])\n",
            "torch.Size([2, 2, 3])\n",
            "tensor([ 1,  2,  3,  4,  5,  6,  7,  8,  9, 10, 11, 12])\n",
            "torch.Size([12])\n",
            "tensor([[ 1,  2,  3,  4,  5,  6],\n",
            "        [ 7,  8,  9, 10, 11, 12]])\n",
            "torch.Size([2, 6])\n"
          ]
        }
      ]
    },
    {
      "cell_type": "markdown",
      "metadata": {
        "id": "9kqn2LRw-Ux6"
      },
      "source": [
        "### pad_sequence\n",
        "\n",
        "Cria um lista de tensores a partir de tensores de dimensões diferentes preenchendo os valores faltantes com o valor de \"padding_value\"."
      ]
    },
    {
      "cell_type": "code",
      "metadata": {
        "id": "7Bkriwmf-WuV",
        "colab": {
          "base_uri": "https://localhost:8080/"
        },
        "outputId": "588641d5-cde3-4fac-d0f9-366d9736c0af"
      },
      "source": [
        "# Bibliotecas\n",
        "import torch\n",
        "from torch.nn.utils.rnn import pad_sequence\n",
        "\n",
        "# Declaração da matriz\n",
        "A =  [\n",
        "        [1.0, 2.0],\n",
        "        [3.0, 4.0],\n",
        "        [5.0, 6.0]\n",
        "     ]\n",
        "\n",
        "B =  [\n",
        "        [7.0, 8.0],\n",
        "        [9.0, 10.0]\n",
        "     ]\n",
        "\n",
        "C =  [\n",
        "        [11.0, 12.0]\n",
        "     ]\n",
        "\n",
        "# Converte a lista de lista de matriz em um tensor\n",
        "TA = torch.as_tensor(A)\n",
        "TB = torch.as_tensor(B)\n",
        "TC = torch.as_tensor(C)\n",
        "\n",
        "# Mostra os tensores\n",
        "print(TA)\n",
        "print(TB)\n",
        "print(TC)\n",
        "\n",
        "# Preenche os tensores com o valor de padding_value.\n",
        "# batch_first=True diz para concatenar na ordem os tensores.\n",
        "# Utiliza o maior tensor como referência.\n",
        "TC0 = pad_sequence([TA, TB, TC], batch_first=True, padding_value=0)\n",
        "\n",
        "# Mostra o preenchimento\n",
        "print(\"\\nMostra o preenchimento dos tensores\")\n",
        "print(TC0)"
      ],
      "execution_count": 39,
      "outputs": [
        {
          "output_type": "stream",
          "name": "stdout",
          "text": [
            "tensor([[1., 2.],\n",
            "        [3., 4.],\n",
            "        [5., 6.]])\n",
            "tensor([[ 7.,  8.],\n",
            "        [ 9., 10.]])\n",
            "tensor([[11., 12.]])\n",
            "\n",
            "Mostra o preenchimento dos tensores\n",
            "tensor([[[ 1.,  2.],\n",
            "         [ 3.,  4.],\n",
            "         [ 5.,  6.]],\n",
            "\n",
            "        [[ 7.,  8.],\n",
            "         [ 9., 10.],\n",
            "         [ 0.,  0.]],\n",
            "\n",
            "        [[11., 12.],\n",
            "         [ 0.,  0.],\n",
            "         [ 0.,  0.]]])\n"
          ]
        }
      ]
    },
    {
      "cell_type": "markdown",
      "metadata": {
        "id": "AbuqSCLrrcV2"
      },
      "source": [
        "### coseno"
      ]
    },
    {
      "cell_type": "code",
      "metadata": {
        "id": "2h15R-b5rdQ4",
        "colab": {
          "base_uri": "https://localhost:8080/"
        },
        "outputId": "19e0ce44-aa47-4fd2-a914-3f396998989b"
      },
      "source": [
        "# Bibliotecas\n",
        "import torch\n",
        "from scipy.spatial.distance import cosine\n",
        "\n",
        "# Declaração da matriz\n",
        "A =  [1.0, 2.0]\n",
        "\n",
        "B =  [1.0, 3.0]\n",
        "\n",
        "# Converte a lista de lista de matriz em um tensor\n",
        "TA = torch.as_tensor(A)\n",
        "TB = torch.as_tensor(B)\n",
        "\n",
        "# Mostra os tensores\n",
        "print(TA)\n",
        "print(TA.shape)\n",
        "print(TB)\n",
        "print(TB.shape)\n",
        "\n",
        "# Similaridade dos vetores\n",
        "C = 1 - cosine(TA, TB)\n",
        "\n",
        "# Mostra a similaridade\n",
        "print(C)"
      ],
      "execution_count": 40,
      "outputs": [
        {
          "output_type": "stream",
          "name": "stdout",
          "text": [
            "tensor([1., 2.])\n",
            "torch.Size([2])\n",
            "tensor([1., 3.])\n",
            "torch.Size([2])\n",
            "0.9899494647979736\n"
          ]
        }
      ]
    },
    {
      "cell_type": "markdown",
      "source": [
        "### normalização vetor"
      ],
      "metadata": {
        "id": "qlpAbVTVb58a"
      }
    },
    {
      "cell_type": "code",
      "source": [
        "# Bibliotecas\n",
        "import torch\n",
        "import numpy\n",
        "\n",
        "# Declaração da matriz\n",
        "A = [1.0, 2.0, 3.0, 4.0]\n",
        "B = [1.0, 2.0, 3.0, 100.0]\n",
        "\n",
        "# Converte a lista de lista de matriz em um tensor\n",
        "TA = torch.tensor(A)\n",
        "TB = torch.tensor(B)\n",
        "\n",
        "# Mostra os tensores\n",
        "print(TA)\n",
        "print(TA.shape)\n",
        "print(TB)\n",
        "print(TB.shape)\n",
        "\n",
        "# Adiciona uma dimensão\n",
        "TA = TA.unsqueeze(0)\n",
        "TB = TB.unsqueeze(0)\n",
        "\n",
        "# Mostra os tensores\n",
        "print(\"\\nunsqueeze\")\n",
        "print(TA)\n",
        "print(TA.shape)\n",
        "print(TB)\n",
        "print(TB.shape)\n",
        "\n",
        "# Normaliza\n",
        "TA_norm = torch.nn.functional.normalize(TA, p=2, dim=1)\n",
        "TB_norm = torch.nn.functional.normalize(TB, p=2, dim=1)\n",
        "\n",
        "print(\"\\nnormaliza\")\n",
        "# Mostra os tensores\n",
        "print(TA_norm)\n",
        "print(TA_norm.shape)\n",
        "print(TB_norm)\n",
        "print(TB_norm.shape)"
      ],
      "metadata": {
        "colab": {
          "base_uri": "https://localhost:8080/"
        },
        "outputId": "2e01f857-41b1-48a8-8467-da10137e5a77",
        "id": "4tziIWfub58g"
      },
      "execution_count": 41,
      "outputs": [
        {
          "output_type": "stream",
          "name": "stdout",
          "text": [
            "tensor([1., 2., 3., 4.])\n",
            "torch.Size([4])\n",
            "tensor([  1.,   2.,   3., 100.])\n",
            "torch.Size([4])\n",
            "\n",
            "unsqueeze\n",
            "tensor([[1., 2., 3., 4.]])\n",
            "torch.Size([1, 4])\n",
            "tensor([[  1.,   2.,   3., 100.]])\n",
            "torch.Size([1, 4])\n",
            "\n",
            "normaliza\n",
            "tensor([[0.1826, 0.3651, 0.5477, 0.7303]])\n",
            "torch.Size([1, 4])\n",
            "tensor([[0.0100, 0.0200, 0.0300, 0.9993]])\n",
            "torch.Size([1, 4])\n"
          ]
        }
      ]
    },
    {
      "cell_type": "markdown",
      "source": [
        "### normalização matriz"
      ],
      "metadata": {
        "id": "y9Brbf4MWlEy"
      }
    },
    {
      "cell_type": "code",
      "source": [
        "# Bibliotecas\n",
        "import torch\n",
        "import numpy\n",
        "\n",
        "# Declaração da matriz\n",
        "A = [[1.0, 2.0, 3.0, 4.0],[1.0, 2.0, 5.0, 6.0]]\n",
        "B = [[1.0, 2.0, 3.0, 4.0],[1.0, 2.0, 5.0, 100.0]]\n",
        "\n",
        "# Converte a lista de lista de matriz em um tensor\n",
        "TA = torch.tensor(A)\n",
        "TB = torch.tensor(B)\n",
        "\n",
        "# Mostra os tensores\n",
        "print(TA)\n",
        "print(TA.shape)\n",
        "print(TB)\n",
        "print(TB.shape)\n",
        "\n",
        "# Normaliza\n",
        "TA_norm = torch.nn.functional.normalize(TA, p=2, dim=1)\n",
        "TB_norm = torch.nn.functional.normalize(TB, p=2, dim=1)\n",
        "\n",
        "print(\"\\nnormaliza\")\n",
        "# Mostra os tensores\n",
        "print(TA_norm)\n",
        "print(TA_norm.shape)\n",
        "print(TB_norm)\n",
        "print(TB_norm.shape)"
      ],
      "metadata": {
        "colab": {
          "base_uri": "https://localhost:8080/"
        },
        "id": "jkdA92H4WngQ",
        "outputId": "0440b3f9-877f-4c5b-a7a8-c976efd5968d"
      },
      "execution_count": 42,
      "outputs": [
        {
          "output_type": "stream",
          "name": "stdout",
          "text": [
            "tensor([[1., 2., 3., 4.],\n",
            "        [1., 2., 5., 6.]])\n",
            "torch.Size([2, 4])\n",
            "tensor([[  1.,   2.,   3.,   4.],\n",
            "        [  1.,   2.,   5., 100.]])\n",
            "torch.Size([2, 4])\n",
            "\n",
            "normaliza\n",
            "tensor([[0.1826, 0.3651, 0.5477, 0.7303],\n",
            "        [0.1231, 0.2462, 0.6155, 0.7385]])\n",
            "torch.Size([2, 4])\n",
            "tensor([[0.1826, 0.3651, 0.5477, 0.7303],\n",
            "        [0.0100, 0.0200, 0.0499, 0.9985]])\n",
            "torch.Size([2, 4])\n"
          ]
        }
      ]
    },
    {
      "cell_type": "markdown",
      "metadata": {
        "id": "nlZ1Hu4s1vwn"
      },
      "source": [
        "# Carregamento de Dados dom Pytorch\n",
        "\n",
        "Cria um iterador para o conjunto de dados usando a classe `DataLoader` da Pytorch. Isso ajuda a economizar memória durante o treinamento, porque, diferentemente do for loop, com um iterador, o conjunto de dados inteiro não precisa ser carregado na memória.\n",
        "\n",
        "https://www.journaldev.com/36576/pytorch-dataloader\n",
        "\n",
        "https://www.youtube.com/watch?v=PXOzkkB5eH0"
      ]
    },
    {
      "cell_type": "markdown",
      "metadata": {
        "id": "1uHy02WZ10Qe"
      },
      "source": [
        "## Dataset e Dataloader\n",
        "\n"
      ]
    },
    {
      "cell_type": "markdown",
      "metadata": {
        "id": "jEFopSnd15tP"
      },
      "source": [
        "### Dados de exemplo\n",
        "\n",
        "Dados de https://www.kaggle.com/datasets/luisfredgs/imdb-ptbr\n",
        "\n",
        "Atributos:\n",
        "0. \"id\"\n",
        "1. \"text_en\"\n",
        "2. \"text_pt\"\n",
        "3. \"sentiment\""
      ]
    },
    {
      "cell_type": "code",
      "source": [
        "# Bibliotecas\n",
        "import pandas as pd\n",
        "from io import StringIO\n",
        "\n",
        "# String com os dados\n",
        "csv_data = '''\n",
        "\"id\",\"text_en\",\"text_pt\",\"sentiment\"\n",
        "\"1\",\"Once again Mr. Costner has dragged out a movie for far longer than necessary. Aside from the terrific sea rescue sequences, of which there are very few I just did not care about any of the characters. Most of us have ghosts in the closet, and Costners character are realized early on, and then forgotten until much later, by which time I did not care. The character we should really care about is a very cocky, overconfident Ashton Kutcher. The problem is he comes off as kid who thinks hes better than anyone else around him and shows no signs of a cluttered closet. His only obstacle appears to be winning over Costner. Finally when we are well past the half way point of this stinker, Costner tells us all about Kutchers ghosts. We are told why Kutcher is driven to be the best with no prior inkling or foreshadowing. No magic here, it was all I could do to keep from turning it off an hour in.\",\"Mais uma vez, o Sr. Costner arrumou um filme por muito mais tempo do que o necessário. Além das terríveis seqüências de resgate no mar, das quais há muito poucas, eu simplesmente não me importei com nenhum dos personagens. A maioria de nós tem fantasmas no armário, e o personagem Costers é realizado logo no início, e depois esquecido até muito mais tarde, quando eu não me importava. O personagem com o qual deveríamos nos importar é muito arrogante e superconfiante, Ashton Kutcher. O problema é que ele sai como um garoto que pensa que é melhor do que qualquer outra pessoa ao seu redor e não mostra sinais de um armário desordenado. Seu único obstáculo parece estar vencendo Costner. Finalmente, quando estamos bem além do meio do caminho, Costner nos conta sobre os fantasmas dos Kutchers. Somos informados de por que Kutcher é levado a ser o melhor sem pressentimentos ou presságios anteriores. Nenhuma mágica aqui, era tudo que eu podia fazer para não desligar uma hora.\",\"neg\"\n",
        "\"2\",\"This is an example of why the majority of action films are the same. Generic and boring, theres really nothing worth watching here. A complete waste of the then barely-tapped talents of Ice-T and Ice Cube, whove each proven many times over that they are capable of acting, and acting well. Dont bother with this one, go see New Jack City, Ricochet or watch New York Undercover for Ice-T, or Boyz n the Hood, Higher Learning or Friday for Ice Cube and see the real deal. Ice-Ts horribly cliched dialogue alone makes this film grate at the teeth, and Im still wondering what the heck Bill Paxton was doing in this film? And why the heck does he always play the exact same character? From Aliens onward, every film Ive seen with Bill Paxton has him playing the exact same irritating character, and at least in Aliens his character died, which made it somewhat gratifying...Overall, this is second-rate action trash. There are countless better films to see, and if you really want to see this one, watch Judgement Night, which is practically a carbon copy but has better acting and a better script. The only thing that made this at all worth watching was a decent hand on the camera - the cinematography was almost refreshing, which comes close to making up for the horrible film itself - but not quite. 4/10.\",\"Este é um exemplo do motivo pelo qual a maioria dos filmes de ação são os mesmos. Genérico e chato, não há nada que valha a pena assistir aqui. Um completo desperdício dos talentos de Ice-T e Cubo de Gelo que foram mal aproveitados, cada um comprovando que são capazes de atuar e agir bem. Não se incomode com este, vá ver New Jack City, Ricochet ou assistir New York Undercover para Ice-T, ou Boyz no Hood, Higher Learning ou Friday for Ice Cube e ver o negócio real. Ice-Ts horrivelmente clichê diálogo sozinho faz este filme ralar os dentes, e eu ainda estou me perguntando o que diabos Bill Paxton estava fazendo neste filme? E por que diabos ele sempre interpreta exatamente o mesmo personagem? Dos extraterrestres em diante, todos os filmes que eu vi com Bill Paxton o fizeram interpretar exatamente o mesmo personagem irritante, e pelo menos em Aliens seu personagem morreu, o que o tornou um pouco gratificante ... No geral, esse é lixo de ação de segunda classe. Existem incontáveis ​​filmes melhores para ver, e se você realmente quiser ver esse filme, assista a Judgment Night, que é praticamente uma cópia carbono, mas tem melhor atuação e um roteiro melhor. A única coisa que fez isso valer a pena assistir foi uma mão decente na câmera - a cinematografia era quase refrescante, o que chega perto de compensar o horrível filme em si - mas não é bem assim. 4/10\",\"neg\"\n",
        "\"3\",\"First of all I hate those moronic rappers, who couldnt act if they had a gun pressed against their foreheads. All they do is curse and shoot each other and acting like clichÃ©e version of gangsters.The movie doesnt take more than five minutes to explain what is going on before were already at the warehouse There is not a single sympathetic character in this movie, except for the homeless guy, who is also the only one with half a brain.Bill Paxton and William Sadler are both hill billies and Sadlers character is just as much a villain as the gangsters. I didnt like him right from the start.The movie is filled with pointless violence and Walter Hills specialty: people falling through windows with glass flying everywhere. There is pretty much no plot and it is a big problem when you root for no-one. Everybody dies, except from Paxton and the homeless guy and everybody get what they deserve.The only two black people that can act is the homeless guy and the junkie but theyre actors by profession, not annoying ugly brain dead rappers.Stay away from this crap and watch 48 hours 1 and 2 instead. At lest they have characters you care about, a sense of humor and nothing but real actors in the cast.\",\"Primeiro de tudo eu odeio esses raps imbecis, que não poderiam agir se tivessem uma arma pressionada contra suas testas. Tudo o que eles fazem é amaldiçoar e atirar um no outro e agir como uma versão clichê de gangsters. O filme não leva mais de cinco minutos para explicar o que está acontecendo antes que já estivessem no armazém. Não há um único personagem simpático nesse filme, com exceção do sem-teto, que também é o único com metade do cérebro. William Paxton e William Sadler são ambos \"\"hill billies\"\" e Sadler é tão vilão quanto os gângsteres. Eu não gostava dele desde o começo. O filme está cheio de violência sem sentido e especialidade de Walter Hills: pessoas caindo de janelas com vidros voando por toda parte. Não há praticamente nenhum enredo e é um grande problema quando você torce por ninguém. Todo mundo morre, exceto Paxton e o sem-teto e todos recebem o que merecem. Os dois únicos negros que podem atuar são o sem-teto e o viciado, mas são atores de profissão, não irritantes rappers feios. Fique longe dessa porcaria. e observe 48 horas 1 e 2 em vez disso. No mínimo, eles têm personagens de que você gosta, senso de humor e nada além de atores reais no elenco.\",\"neg\"\n",
        "\"4\",\"Not even the Beatles could write songs everyone liked, and although Walter Hill is no mop-top hes second to none when it comes to thought provoking action movies. The nineties came and social platforms were changing in music and film, the emergence of the Rapper turned movie star was in full swing, the acting took a back seat to each mans overpowering regional accent and transparent acting. This was one of the many ice-t movies i saw as a kid and loved, only to watch them later and cringe. Bill Paxton and William Sadler are firemen with basic lives until a burning building tenant about to go up in flames hands over a map with gold implications. I hand it to Walter for quickly and neatly setting up the main characters and location. But i fault everyone involved for turning out Lame-o performances. Ice-t and cube must have been red hot at this time, and while Ive enjoyed both their careers as rappers, in my opinion they fell flat in this movie. Its about ninety minutes of one guy ridiculously turning his back on the other guy to the point you find yourself locked in multiple states of disbelief. Now this is a movie, its not a documentary so i wont waste my time recounting all the stupid plot twists in this movie, but there were many, and they led nowhere. I got the feeling watching this that everyone on set was sord of confused and just playing things off the cuff. There are two things i still enjoy about it, one involves a scene with a needle and the other is Sadlers huge 45 pistol. Bottom line this movie is like dominos pizza. Yeah ill eat it if Im hungry and i dont feel like cooking, But Im well aware it tastes like crap. 3 stars, meh.\",\"Nem mesmo os Beatles puderam escrever músicas que todos gostassem, e embora Walter Hill não seja um mop-top, ele é incomparável quando se trata de filmes de ação instigantes. Os anos noventa chegaram e as plataformas sociais estavam mudando em música e cinema, o surgimento da estrela de cinema do Rapper estava em pleno andamento, a atuação ficou em segundo plano para cada homem dominar o sotaque regional e a atuação transparente. Este foi um dos muitos filmes de ice-t que eu vi quando criança e amei, só para assisti-los mais tarde e me encolher. Bill Paxton e William Sadler são bombeiros com vidas básicas até que um inquilino em chamas prestes a pegar fogo com um mapa com implicações douradas. Eu entrego a Walter para rapidamente e ordenadamente configurar os personagens principais e localização. Mas eu culpo todos os envolvidos por produzir performances do Lame-o. O gelo e o cubo devem ter ficado muito quentes neste momento, e embora eu tenha gostado de suas carreiras como rappers, na minha opinião, eles ficaram insatisfeitos com esse filme. São cerca de noventa minutos de um cara ridiculamente virando as costas para o outro cara até o ponto em que você se encontra bloqueado em múltiplos estados de descrença. Agora este é um filme, não é um documentário, então eu não vou perder meu tempo recontando todas as reviravoltas estúpidas neste filme, mas havia muitos, e eles não levaram a lugar nenhum. Eu tenho a sensação de ver isso que todo mundo no set era sordeto de confuso e apenas jogando as coisas fora do punho. Há duas coisas que eu ainda gosto, uma envolve uma cena com uma agulha e a outra é uma enorme pistola 45 Sadlers. Bottom line este filme é como pizza de dominó. Sim, eu comeria se estivesse com fome e eu não estivesse com vontade de cozinhar, mas eu estou bem ciente que tem gosto de porcaria. 3 estrelas, meh.\",\"neg\"\n",
        "\"5\",\"Brass pictures movies is not a fitting word for them really are somewhat brassy. Their alluring visual qualities are reminiscent of expensive high class TV commercials. But unfortunately Brass pictures are feature films with the pretense of wanting to entertain viewers for over two hours! In this they fail miserably, their undeniable, but rather soft and flabby than steamy, erotic qualities non withstanding.Senso 45 is a remake of a film by Luchino Visconti with the same title and Alida Valli and Farley Granger in the lead. The original tells a story of senseless love and lust in and around Venice during the Italian wars of independence. Brass moved the action from the 19th into the 20th century, 1945 to be exact, so there are Mussolini murals, men in black shirts, German uniforms or the tattered garb of the partisans. But it is just window dressing, the historic context is completely negligible.Anna Galiena plays the attractive aristocratic woman who falls for the amoral SS guy who always puts on too much lipstick. She is an attractive, versatile, well trained Italian actress and clearly above the material. Her wide range of facial expressions signalling boredom, loathing, delight, fear, hate ... and ecstasy are the best reason to watch this picture and worth two stars. She endures this basically trashy stuff with an astonishing amount of dignity. I wish some really good parts come along for her. She really deserves it.\",\"Filmes de fotos de latão não é uma palavra apropriada para eles, na verdade, são um tanto ousados. Suas qualidades visuais atraentes são reminiscentes de comerciais de TV caros de alta classe. Mas, infelizmente, as imagens de Brass são longas-metragens com o pretexto de querer entreter os telespectadores durante mais de duas horas! Nisto eles falham miseravelmente, suas qualidades eróticas inegáveis, mas bastante suaves e flácidas que vaporosas, não resistentes.Senso 45 é um remake de um filme de Luchino Visconti com o mesmo título e Alida Valli e Farley Granger na liderança. O original conta uma história de amor sem sentido e luxúria em Veneza e arredores durante as guerras italianas de independência. Brass moveu a ação do século 19 para o século 20, em 1945, para ser exato, então há murais de Mussolini, homens de camisa preta, uniformes alemães ou o traje esfarrapado dos partidários. Mas é apenas fachada, o contexto histórico é completamente insignificante. Anna Galiena interpreta a atraente mulher aristocrática que se apaixona pelo cara amoral da SS que sempre usa muito batom. Ela é uma atriz italiana atraente, versátil e bem treinada e claramente acima do material. Sua ampla gama de expressões faciais sinalizando tédio, aversão, prazer, medo, ódio ... e êxtase são a melhor razão para assistir a esta foto e vale duas estrelas. Ela suporta este material basicamente inútil com uma quantidade impressionante de dignidade. Desejo que algumas partes realmente boas apareçam para ela. Ela realmente merece isso.\",\"neg\"\n",
        "\"6\",\"A funny thing happened to me while watching \"\"Mosquito\"\": on the one hand, the hero is a deaf-mute and the director is totally unable to make us understand why he does what he does mutilating mannequins...er, excuse me, corpses through his images. On the other hand, the English version at least is very badly dubbed. So I found myself wishing there had been both more AND less dialogue at the same time! This film is stupid funny how this guy has access to every graveyard and mortuary in his town and lurid where would we be in a 70s exploitationer without our gratuitous lesbian scene?. Not to mention the \"\"romantic\"\" aspect oh, how sweet!...Miss it.\",\"Uma coisa engraçada aconteceu comigo enquanto assistia \"\"Mosquito\"\": por um lado, o herói é surdo-mudo e o diretor é totalmente incapaz de nos fazer entender por que ele faz o que ele faz com manequins mutilantes ... er, desculpe-me, cadáveres através de suas imagens. Por outro lado, a versão em inglês, pelo menos, é muito mal dublada. Então eu me encontrei desejando que houvesse tanto mais E menos diálogo ao mesmo tempo! Este filme é estúpido como esse cara tem acesso a todos os cemitérios e necrotérios de sua cidade, e onde é que estaríamos em um explorador dos anos 70 sem a nossa cena lésbica gratuita ?. Sem mencionar o aspecto \"\"romântico\"\", oh, que doce!\",\"neg\"\n",
        "\"7\",\"This German horror film has to be one of the weirdest I have seen.I was not aware of any connection between child abuse and vampirism, but this is supposed based upon a true character.Our hero is deaf and mute as a result of repeated beatings at the hands of his father. he also has a doll fetish, but I cannot figure out where that came from. His co-workers find out and tease him terribly.During the day a mild-manner accountant, and at night he breaks into cemeteries and funeral homes and drinks the blood of dead girls. They are all attractive, of course, else we wouldnt care about the fact that he usually tears their clothing down to the waist. He graduates eventually to actually killing, and that is what gets him caught.Like I said, a very strange movie that is dark and very slow as Werner Pochath never talks and just spends his time drinking blood.\",\"Este filme de terror alemão tem que ser um dos mais estranhos que eu já vi. Eu não estava ciente de qualquer conexão entre abuso infantil e vampirismo, mas isso é supostamente baseado em um verdadeiro personagem. Nosso herói é surdo e mudo como resultado de espancamentos repetidos. nas mãos de seu pai. ele também tem um fetiche de bonecas, mas não consigo descobrir de onde veio isso. Seus colegas de trabalho descobrem e provocam-no terrivelmente.Durante o dia um contador de maneira suave, e à noite ele invade cemitérios e funerárias e bebe o sangue de garotas mortas. Eles são todos atraentes, é claro, senão não nos importamos com o fato de que ele geralmente rasga suas roupas até a cintura. Ele se forma eventualmente para matar, e é isso que o faz ser pego. Como eu disse, um filme muito estranho que é sombrio e muito lento, já que Werner Pochath nunca fala e apenas gasta seu tempo bebendo sangue.\",\"neg\"\n",
        "\"8\",\"Being a long-time fan of Japanese film, I expected more than this. I cant really be bothered to write to much, as this movie is just so poor. The story might be the cutest romantic little something ever, pity I couldnt stand the awful acting, the mess they called pacing, and the standard \"\"quirky\"\" Japanese story. If youve noticed how many Japanese movies use characters, plots and twists that seem too \"\"different\"\", forcedly so, then steer clear of this movie. Seriously, a 12-year old could have told you how this movie was going to move along, and thats not a good thing in my book.Fans of \"\"Beat\"\" Takeshi: his part in this movie is not really more than a cameo, and unless youre a rabid fan, you dont need to suffer through this waste of film.2/10\",\"Sendo um fã de longa data do cinema japonês, eu esperava mais do que isso. Eu realmente não posso ser incomodado para escrever muito, como este filme é tão pobre. A história pode ser a coisa mais fofa e romântica de todos os tempos, pena que eu não poderia suportar a atuação horrível, a bagunça que eles chamavam de ritmo, e a história japonesa \"\"peculiar\"\". Se você notou quantos filmes japoneses usam personagens, gráficos e reviravoltas que parecem muito \"\"diferentes\"\", forçosamente, então evite esse filme. Sério, um garoto de 12 anos poderia ter dito a você como esse filme iria continuar, e isso não é uma coisa boa no meu livro. Fãs de \"\"Beat\"\" Takeshi: sua parte neste filme não é mais do que uma aparição, e a menos que você seja um fã fanático, você não precisa sofrer com esse desperdício de filme.2 / 10\",\"neg\"\n",
        "\"9\",\"\"\"Tokyo Eyes\"\" tells of a 17 year old Japanese girl who falls in like with a man being hunted by her big bro who is a cop. This lame flick is about 50% filler and 50% talk, talk, and more talk. Youll get to see the less than stellar cast of three as they talk on the bus, talk and play video games, talk and get a haircut, talk and walk and walk and talk, talk on cell phones, hang out and talk, etc. as you read subtitles waiting for something to happen. The thin wisp of a story is not sufficient to support a film with low end production value, a meager cast, and no action, no romance, no sex or nudity, no heavy drama...just incessant yadayadayadaing. C-\",\"\"\"Tokyo Eyes\"\" fala de uma menina japonesa de 17 anos que cai como um homem sendo caçado por seu irmão mais velho que é um policial. Este filme manco é de cerca de 50% de enchimento e 50% de conversas, conversas e mais conversas. Você verá o elenco estelar de menos de três pessoas enquanto eles conversam no ônibus, conversam e jogam videogames, conversam e cortam o cabelo, conversam e andam e andam e conversam, conversam no celular, passam o tempo conversando etc. enquanto você lê legendas esperando que algo aconteça. O fino fio de uma história não é suficiente para sustentar um filme com baixo valor de produção final, um elenco escasso, e sem ação, sem romance, sem sexo ou nudez, sem drama pesado ... apenas incessante yadayadayadaing. C-\",\"neg\"\n",
        "\"10\",\"Wealthy horse ranchers in Buenos Aires have a long-standing no-trading policy with the Crawfords of Manhattan, but what happens when the mustachioed Latin son falls for a certain Crawford with bright eyes, blonde hair, and some perky moves on the dance floor? 20th Century-Fox musical has a glossy veneer yet seems a bit tatty around the edges. It is very heavy on the frenetic, gymnastic-like dancing, exceedingly thin on story. Betty Grable an eleventh hour replacement for Alice Faye gives it a boost, even though shes paired with leaden Don Ameche in tan make-up and slick hair. Also good: Charlotte Greenwood as Bettys pithy aunt, a limousine driver whos constantly asleep on the job, and Carmen Miranda playing herself who else?. The stock shots of Argentina far outclass the action filmed on the Fox backlot, and some of the supporting performances are quite awful. By the time of the big horserace finale, most viewers will have had enough. 1/2 from\",\"Fazendeiros ricos em Buenos Aires têm uma longa política de não-comércio com os Crawford de Manhattan, mas o que acontece quando o filho latino de bigode cai por um certo Crawford com olhos brilhantes, cabelos loiros e alguns movimentos alegres na pista de dança? O musical da 20th Century-Fox tem um verniz brilhante, mas parece um pouco ultrapassado nas bordas. É muito pesado na dança frenética, como ginástica, extremamente fina na história. Betty Grable, uma substituta de décima primeira hora de Alice Faye, dá um impulso, apesar de ela estar emparelhada com Don Ameche, de pele castanha e magricela. Também é bom: Charlotte Greenwood como Bettys tia, uma motorista de limusine que constantemente adormece no trabalho, e Carmen Miranda interpretando quem mais ?. As filmagens de ações da Argentina superam de longe a ação filmada no backlot da Fox, e algumas das performances de apoio são bastante terríveis. Até o final do grande final de corrida de cavalos, a maioria dos espectadores terá o suficiente. 1/2 de\",\"neg\"\n",
        "\"11\",\"Cage plays a drunk and gets high critically praise. Elizabeth Shue Actually has to do a love seen with the most unattractive and overrated piece of dung flesh in Hollywood. I literally vomited while watching this film. Of course I had the flu, but that does not mean this film did not contribute to the vomit in the kamode. Why cant Nick Cage play something he can really pull off like a bad actor. Nick Cage who be brilliant in a role as a bad actor. Heck nobody could do it better.The search begins for Nicks contract with Lucifer or was it Lou Cipher from \"\"Night Train To Terror\"\".\",\"Cage interpreta um bêbado e é elogiado pela crítica. Elizabeth Shue Na verdade, tem que fazer um amor com a parte mais desprezível e superestimada de estrume em Hollywood. Eu literalmente vomitei enquanto assistia a esse filme. Claro que tive gripe, mas isso não significa que este filme não tenha contribuído para o vômito no kamode. Por que Nick Cage não pode tocar em algo que ele pode realmente fazer como um ator ruim? Nick Cage, que é brilhante em um papel de mau ator. Parreira ninguém poderia fazer melhor. A busca começa por Nicks contrato com Lúcifer ou Lou Cipher de \"\"Night Train To Terror\"\".\",\"neg\"\n",
        "\"12\",\"First of all, I would like to say that I am a fan of all of the actors that appear in this film and at the time that I rented it, I wanted to like it.I think that the main reason that I was so disappointed was that the outside box promised me a suspense thriller. In my eyes, a suspense thriller for British movies is like something out of a Ruth Rendell novel, something that has a lot of dark twist and turns and leaves the viewer with an ending that is unlikely to be forgotten anytime soon.This movie started out with the promising note of being such a film. We have our main character, that suspects a man that he does not like, of being involved in a hit and run that killed the husband of one of his servants.His notions prove to be right, but the idea that his wife might be involved, does not occur to him until that she confesses to him that she was a part of the crime.The elements of a good suspense thriller were in place, at this point, but from there, I felt that the film took a different direction and became almost some sort of a mild soap opera about who wants to be with who and what the love of a real relationship is. The film might have been enjoyable to me, if the outside box had talked of a twisted lovers triangle and had not been labeled as suspense thriller.This seemed to be more of a soap opera story and the beginning setting seemed to be a mild distraction to the true content of the film. I felt like this film could have done a whole lot better than it did. I felt like it kept leading the viewer up to a big event that never materialized. So, I have to give it a lower rating than I would have liked to and say that it fell short of my expectations.\",\"Primeiro de tudo, eu gostaria de dizer que sou fã de todos os atores que aparecem neste filme e na época que eu aluguei, eu queria gostar. Acho que a principal razão pela qual eu estava tão desapontado foi que o camarote exterior me prometeu um thriller de suspense. Aos meus olhos, um thriller de suspense para filmes britânicos é como algo saído de um romance de Ruth Rendell, algo que tem muitas mudanças e reviravoltas obscuras e deixa o espectador com um final que provavelmente não será esquecido tão cedo.Este filme começou com a nota promissora de ser tal filme. Nós temos o nosso personagem principal, que suspeita de um homem que ele não gosta, de estar envolvido em um ataque e execução que matou o marido de um de seus servos. Suas noções provam estar certas, mas a ideia de que sua esposa pode estar envolvida , não lhe ocorre até que ela confesse a ele que ela era uma parte do crime.Os elementos de um suspense de suspense bom estavam em lugar, neste momento, mas de lá, eu sentia que o filme tomou uma direção diferente e tornou-se quase uma espécie de novela sobre quem quer estar com quem e o que é o amor de um relacionamento real. O filme poderia ter sido agradável para mim, se a caixa externa tivesse falado de um triângulo de amantes retorcidos e não tivesse sido rotulada como thriller de suspense. Isso parecia ser mais uma história de novela e o cenário inicial parecia ser uma leve distração para o verdadeiro conteúdo do filme. Eu senti que este filme poderia ter feito muito melhor do que isso. Eu senti como se continuasse levando o espectador para um grande evento que nunca se concretizou. Então, eu tenho que dar uma classificação mais baixa do que eu teria gostado e dizer que ficou aquém das minhas expectativas.\",\"neg\"\n",
        "\"13\",\"So tell me - what serious boozer drinks Budweiser? How many suicidally-obsessed drinkers house a fully stocked and barely touched range of drinks in their lonely motel room that a millionaire playboys bachelor-pad bar would be proud to boast? And what kind of an alcoholic tends to drink with the bottle held about 8 inches from his hungry mouth so that the contents generally spill all over his face? Not to mention wasting good whisky by dousing your girlfriends tits with it, just so the cinema audience can get a good eyeful of Elisabeth Shues assets.Cage seems to be portraying the most attention-seeking look-at-me alcoholic ever to have graced the screen while Shue looks more like a Berkely preppy slumming it for a summer than some seasoned street-walker. She is humiliated and subjugated as often as possible in this revolting movie with beatings, skin lacerations, anal rape and graphic verbal abuse - all of it completely implausible and included apparently only to convey a sense of her horribly demeaned state and offer the male viewers an astonishingly clichÃ©d sentimental sexual fantasy of the tart-with-a-heart.Still - I did watch it to the end, by which time I was actually laughing out loud as Shues tough street hooker chopped carrots in the kitchen wanly, pathetically smiling while Cage - all eyes popping and shaking like like a man operating a road drill in an earthquake - grimaced and mugged his way through the final half-hour...\",\"Então me diga - que boozer sério bebe a Budweiser? Quantos bebedores obcecados por suicidas abrigam uma gama de bebidas totalmente abastecida e mal tocada em seu quarto de motel solitário, que um bar de bacharel playboys milionário teria orgulho de ostentar? E que tipo de alcoólatra tende a beber com a garrafa a cerca de 20 centímetros de sua boca faminta, de modo que o conteúdo geralmente se espalha por todo o rosto? Para não mencionar o desperdício de uísque bom por dousing suas namoradas mamas com ele, apenas para o público de cinema pode obter um bom olho de ativos de Elisabeth Shues.Cage parece estar retratando o alcoólatra look-at-me mais atenção-seeking sempre ter agraciado o tela enquanto Shue se parece mais com uma palhaçada de Berkely por um verão do que com um experiente street-walker. Ela é humilhada e subjugada tantas vezes quanto possível neste filme revoltante com espancamentos, lacerações de pele, estupro anal e abuso verbal gráfico - tudo isso completamente implausível e incluído aparentemente apenas para transmitir uma sensação de seu estado terrivelmente degradado e oferecer aos espectadores masculinos um surpreendentemente clichê fantasia sexual sentimental do tart-com-um-coração.Ainda - eu assisti-lo até o fim, altura em que eu estava realmente a rir em voz alta como Shues prostituta rua difícil picada cenouras na cozinha wanly, pateticamente sorridente enquanto Cage - todos os olhos estalando e tremendo como um homem operando uma perfuratriz num terremoto - fez uma careta e assaltou a meia hora final ...\",\"neg\"\n",
        "\"14\",\"A big disappointment for what was touted as an incredible film. Incredibly bad. Very pretentious. It would be nice if just once someone would create a high profile role for a young woman that was not a prostitute. We dont really learn anything about this character, except that he seems to be a hopeless alcoholic. We dont know why. Nicholas Cage turns in an excellent performance as usual, but I feel that this role and this script let him down. And how, after not being able to perform for the whole film, can he have an erection on his deathbed? Really terrible and I felt like I needed a bath.\",\"Uma grande decepção para o que foi apresentado como um filme incrível. Incrivelmente ruim. Muito pretensioso. Seria bom se apenas uma vez alguém criasse um papel importante para uma jovem que não fosse uma prostituta. Nós realmente não aprendemos nada sobre esse personagem, exceto que ele parece ser um alcoólatra sem esperança. Nós não sabemos porque. Nicholas Cage faz um excelente desempenho como sempre, mas eu sinto que esse papel e esse roteiro o decepcionaram. E como, depois de não poder se apresentar para o filme todo, ele pode ter uma ereção em seu leito de morte? Realmente terrível e eu senti que precisava de um banho.\",\"neg\"\n",
        "\"15\",\"This film is absolutely appalling and awful. Its not low budget, its a no budget film that makes Ed Woods movies look like art. The acting is abysmal but sets and props are worse then anything I have ever seen. An ordinary subway train is used to transport people to the evil zone of killer mutants, Woddy Strode has one bullet and the fight scenes are shot in a disused gravel pit. There is sadism as you would expect from an 80s Italian video nasty. No talent was used to make this film. And the female love interest has a huge bhind- Italian taste maybe. Even for 80s Italian standards this film is pretty damn awful but I guess it came out at a time when there werent so many films available on video or viewers werent really discerning. This piece of crap has no entertainment value whatsoever and its not even funny, just boring and extremely cheap. Its actually and insult to the most stupid audience. I just wonder how on earth an actor like Woody Strode ended up ia a turkey like this?\",\"Este filme é absolutamente terrível e horrível. Não é um orçamento baixo, é um filme sem orçamento que faz com que os filmes de Ed Woods pareçam arte. A atuação é péssima, mas sets e adereços são piores do que qualquer coisa que eu já vi. Um trem de metrô comum é usado para transportar pessoas para a zona do mal de mutantes assassinos, Woddy Strode tem uma bala e as cenas de luta são disparadas em um poço de cascalho em desuso. Há sadismo como você esperaria de um vídeo italiano dos anos 80 desagradável. Nenhum talento foi usado para fazer este filme. E o interesse amoroso do sexo feminino tem um enorme sabor bunda- italiano talvez. Mesmo para os padrões italianos dos anos 80, esse filme é muito ruim, mas eu acho que foi lançado em um momento em que não havia tantos filmes disponíveis em vídeo ou os espectadores não estavam muito perspicazes. Este pedaço de porcaria não tem qualquer valor de entretenimento e nem sequer é engraçado, apenas chato e extremamente barato. É realmente e insultar o público mais estúpido. Eu só me pergunto como na terra um ator como Woody Strode acabou em um peru como este?\",\"neg\"\n",
        "\"16\",\"Heres a decidedly average Italian post apocalyptic take on the hunting/killing humans for sport theme ala The Most Dangerous Game, Turkey Shoot, Gymkata and The Running Man.Certainly the film reviewed here is nowhere near as much fun as the other listed entries and is furthermore dragged down by poor voice over work, generally bland action sequences, a number of entirely tasteless scenes such as a prolonged rape sequence and some truly stupid and illogical points throughout.Take for example towards the end of the film, when our hero manages to infiltrate the compound of the villains. He initially kills a sentry and leaves him in his jeep. Upon discovery of the said corpse, the villains response? bearing in mind that our hero has come to brutally murder them all Â? They resolve to wait until the next morning to look for the culprit !!!!!!!!!!However, I suppose to be fair the film remains nonetheless about watchable if you can suspend your disbelief during such stupid scenes and does benefit immensely by the presence of the always excellent Woody Strode even if his screen time is very limitedNot a classic by any stretch of the imagination but still just about worthy of a watch for Italian B-Movie enthusiasts.\",\"Heres um decididamente médio post italiano apocalíptico assumir a caça / matar seres humanos para o tema do esporte ala The Most Dangerous Game, Turkey Shoot, Gymkata e The Running Man.Certainly o filme revisto aqui é longe de ser tão divertido quanto as outras entradas listadas e é Além disso, arrastado para baixo por voz pobre sobre o trabalho, seqüências de ação geralmente branda, um número de cenas totalmente sem gosto, como uma seqüência prolongada de estupro e alguns pontos verdadeiramente estúpidos e ilógicos por toda parte.Tome, por exemplo, no final do filme, quando o nosso herói consegue infiltrar o composto dos vilões. Ele inicialmente mata um sentinela e deixa-o em seu jipe. Após a descoberta do dito cadáver, a resposta dos vilões? tendo em conta que o nosso herói chegou a assassinar todos eles brutalmente? Eles resolvem esperar até a manhã seguinte para procurar o culpado !!!!!!!!!! No entanto, eu suponho que seja justo o filme permanece, no entanto, sobre assistível se você pode suspender sua descrença durante tais cenas estúpidas e se beneficiar imensamente pela presença do sempre excelente Woody Strode, mesmo que seu tempo na tela seja muito limitado. Não é um clássico por qualquer extensão da imaginação, mas ainda assim merecedor de um relógio para os entusiastas italianos do B-Movie.\",\"neg\"\n",
        "\"17\",\"At the bottom end of the apocalypse movie scale is this piece of pish called The Final Executioner.. at least where I come from. A bloke is trained by an ex-cop to seek vengeance on those that killed his woman and friends in cold blood.. and thats about it. Lots of fake explosions and repetitive shootings ensue. Has one of the weirdest array of costumes Ive seen in a film for a while, and a massive fortress which is apparently only run by 7 people. GREAT job on the dubbing too guys! Best moment: when our hero loses a swordfight and is about to be skewered through the neck, he just gets out his gun and BANG! Why not do that earlier? Its a mystery. As is why anyone would want to sit through this in the first place. Im still puzzling over that one myself now.. 2/10\",\"Na parte inferior da escala de filmes do apocalipse está este pedaço de pish chamado The Final Executioner .. pelo menos de onde eu venho. Um cara é treinado por um ex-policial para se vingar daqueles que mataram sua mulher e amigos a sangue frio ... e é isso. Muitas explosões falsas e tiroteios repetitivos acontecem. Tem um dos trajes mais estranhos que eu já vi em um filme por um tempo, e uma enorme fortaleza que aparentemente é dirigida por apenas 7 pessoas. Ótimo trabalho na dublagem também galera! Melhor momento: quando nosso herói perde uma luta de espadas e está prestes a ser espetado no pescoço, ele apenas pega sua arma e BANG! Por que não fazer isso antes? É um mistério. É por isso que alguém iria querer sentar com isso em primeiro lugar. Eu ainda estou intrigado com isso agora .. 2/10\",\"neg\"\n",
        "\"18\",\"Earth has been destroyed in a nuclear holocaust. Well, parts of the Earth, because somewhere in Italy, a band of purebred survivors--those without radioactive contamination--are holed up in a massive mansion surrounded by lush grounds, waiting for the next opportunity to go hunting for those with polluted blood. The Final Executioner is the story of one of their would be victims, Alan William Mang, who looks, not surprisingly, a lot like Kurt Russell, and his efforts to take down the legally sanctioned hunters, who are led by Edra Marina Costa and Erasmus Harrison Muller Jr. . Alan has been trained to kill by former NYPD cop Sam Woody Strode who mostly hangs around giving his pupil moral support and mooching for tinned meat. Strode is by far the best thing about the film, though he doesnt look at all well and only appears for about a third of the running time. As for the story, its a blending of elements from better films and stories, including Ten Little Indians, The Most Dangerous Game, and Escape From New York. The Final Executioner moves along at a fair pace and provides reasonable entertainment for less discriminate action fans.\",\"A terra foi destruída em um holocausto nuclear. Bem, partes da Terra, porque em algum lugar na Itália, um bando de sobreviventes de raça pura - aqueles sem contaminação radioativa - estão escondidos em uma enorme mansão cercada por jardins exuberantes, esperando pela próxima oportunidade de caçar aqueles com sangue poluído. . The Final Executioner é a história de um deles seria vítima, Alan William Mang, que parece, não surpreendentemente, muito parecido com Kurt Russell, e seus esforços para derrubar os caçadores legalmente sancionados, que são liderados por Edra Marina Costa e Erasmus. Harrison Muller Jr. Alan foi treinado para matar pelo ex-policial da NYPD, Sam Woody Strode, que fica mais tempo dando apoio moral a seus pupilos e dando carne enlatada. Strode é de longe a melhor coisa sobre o filme, embora ele não pareça muito bem e só apareça por cerca de um terço do tempo de execução. Quanto à história, é uma mistura de elementos de melhores filmes e histórias, incluindo Dez Pequenos Índios, The Most Dangerous Game e Escape From New York. O executor final se movimenta a um ritmo razoável e oferece entretenimento razoável para os fãs de ação menos discriminadores.\",\"neg\"\n",
        "\"19\",\"Many people are standing in front of the house n some women are crying... Men standing in close groups and speaking in hushed up tone... a couple of guys come in and they are discussing how sexy the daughter might look today... soon u will know someone in the house has died... The dead persons wife is worried about preparing food for so many people, her friend sitting beside her gives an idea of making the matters easy by preparing simple roti sabji... One of the dead persons son is speaking with someone over the mobile, Daughter is busy with her makeup... her mother suggests her to wear salwar kameej, but the daughter is more interested in looking good when so many people will be visiting their house and hence prefers jeans and T shirt over salwar kameez... another son asks her mom to finish all the kriyas and also indicates to her that he should not be expected to come early from the office... Then the camera slowly focuses on the dead person... the white cloth covering the face is displaced slightly due to the wind, revealing the face ... Its Anupam Kher... suddenly alarm rings and he gets up from the bed... Is it his dream or a flash back? U wont get an answer until the end of the movie...Well, This is wat comedy is for the director Dibakar Banerjee!!!!! Later u find out this scene has nothing to do with the actual movie and hence making everything obvious that the still described earlier was a dream. Is this a film comedy? Well it is supposed to belong to that category... But it actually does not!!! there is nothing that can be remotely associated with comedy in the movie!!! More over the director gives the message that no one will get justice from Police!!! so everyone must cheat the cheats!!!! or forget about Justice!!!! Music by Bapi-Tutul & Dhruv Dhalla is OK... Nothing much to tell about other sectors... Bad script destroys everything... not even Anupam Khers performance succeeds in making it at least a paisa vasool...\",\"Muitas pessoas estão em pé na frente da casa n algumas mulheres estão chorando ... Homens de pé em grupos próximos e falando em tom abafado ... um casal de caras entrar e eles estão discutindo o quão sexy a filha pode parecer hoje .. em breve você vai saber que alguém na casa morreu ... A esposa morta está preocupada em preparar comida para tantas pessoas, a amiga sentada ao lado dela dá uma idéia de facilitar as coisas preparando simples roti sabji ... do filho de pessoas mortas está falando com alguém sobre o celular, Filha está ocupada com sua maquiagem ... sua mãe sugere que ela use kameej, mas a filha está mais interessada em parecer bem quando tantas pessoas estarão visitando sua casa e por isso prefere jeans e camiseta sobre salwar kameez ... outro filho pede que sua mãe termine todos os kriyas e também indica a ela que ele não deve vir cedo do escritório ... Então a câmera foca lentamente os mortos pessoa ... o pano branco cobrindo o rosto é d é ligeiramente deslocado devido ao vento, revelando o rosto ... Sua Anupam Kher ... de repente, o alarme toca e ele se levanta da cama ... É seu sonho ou um flashback? U não vai ter uma resposta até o final do filme ... Bem, isso é comédia de wat é para o diretor Dibakar Banerjee !!!!! Mais tarde, você descobre que esta cena não tem nada a ver com o filme real e, portanto, tornar tudo óbvio que o ainda descrito anteriormente era um sonho. Isto é uma comédia de cinema? Bem, é suposto que pertence a essa categoria ... Mas na verdade não faz !!! não há nada que possa ser remotamente associado à comédia no filme !!! Mais sobre o diretor dá a mensagem de que ninguém vai conseguir justiça da polícia !!! então todos devem enganar as fraudes !!!! ou esquecer a justiça !!!! Música de Bapi-Tutul e Dhruv Dhalla é OK ... Nada muito a dizer sobre outros setores ... Roteiro ruim destrói tudo ... nem mesmo o desempenho do Anupam Khers consegue fazer com que pelo menos um vasool paisa ...\",\"neg\"\n",
        "\"20\",\"New York family is the last in their neighborhood to get a television set, which nearly ruins David Nivens marriage to Mitzi Gaynor. Bedroom comedy that rarely ventures into the bedroomand nothing sexy happens there anyway. Gaynor as an actress has about as much range as an oven--she turns on, she turns off. Films sole compensation is a supporting performance by perky Patty Duke, pre-\"\"Miracle Worker\"\", as Nivens daughter. Shes delightful; \"\"Happy Anniversary\"\" is not.  from\",\"A família de Nova York é a última em seu bairro a conseguir um aparelho de televisão, o que quase arruína o casamento de David Nivens com Mitzi Gaynor. Comédia de quarto que raramente arrisca no bedroomand nada sexy acontece lá de qualquer maneira. Gaynor como atriz tem tanto alcance quanto um forno - ela liga, desliga. A única compensação dos filmes é uma performance de apoio da empolgada Patty Duke, pré- \"\"Miracle Worker\"\", como filha de Nivens. Ela é deliciosa; \"\"Feliz Aniversário\"\" não é. a partir de\",\"neg\"\n",
        "\"21\",\"The best thing about \"\"The Prey\"\" is the tag line...\"\"Its not human and its got an axe\"\"! The movie itself is a padded stinkaroo....endless insect and wildlife shots make the viewer wanna die! No slasher fan will like this garbage.....Watch \"\"Friday the 13th\"\" again and burn any copy of this film you find! It also rates as one of the 25 worst films ever made!\",\"A melhor coisa sobre \"\"The Prey\"\" é o slogan ... \"\"Não é humano e tem um machado\"\"! O filme em si é um stinkaroo acolchoado ... intermináveis ​​fotos de insetos e vida selvagem fazem o espectador querer morrer! Nenhum fã de slasher vai gostar desse lixo ..... Assista \"\"Friday the 13th\"\" novamente e grave qualquer cópia deste filme que você encontrar! Também é considerado um dos 25 piores filmes já feitos!\",\"neg\"\n",
        "\"22\",\"This is truly, without exaggerating, one of the worst Slasher movies ever made. I know, it came out in the 80s following a tendency started by \"\"Friday the 13th\"\". \"\"The Prey\"\" copies the fore-mentioned movie in many aspects. The woods setting, the killer, the dumb teens, the gore, etc.But \"\"The Prey\"\" is as bad as you might expect. I didnt even remember about it if it wasnt for coincidence.Well, the killer is in fact human so dont expect a supernatural killer in the likes of Jason. The situations rather boring and lack of tension, gore, violence, etc. It just does not works for a slasher flick.The acting is simply horrid. The score is horrible! a combination of boring instruments with cheesy 80s tunes?! I wont even mention the technical aspects of the movie because believe me, it seems that it cost only 20 dollars.Please avoid this one like the plague. Its one of the worst movies Ive ever seen, and thats something to say. Thank God it seems to have vanished from earth.\",\"Isto é verdadeiramente, sem exagerar, um dos piores filmes de Slasher já feitos. Eu sei, saiu nos anos 80 seguindo uma tendência iniciada por \"\"Friday the 13th\"\". \"\"The Prey\"\" copia o filme mencionado em vários aspectos. O cenário das florestas, o assassino, os adolescentes burros, o sangue, etc. Mas \"\"A Presa\"\" é tão ruim quanto você poderia esperar. Eu nem me lembro sobre isso, se não fosse por coincidência. Bem, o assassino é de fato humano, então não espere um assassino sobrenatural nos gostos de Jason. As situações são bastante chatas e falta de tensão, sangue, violência, etc. Ele simplesmente não funciona para um filme de terror. A atuação é simplesmente horrível. A pontuação é horrível! uma combinação de instrumentos chatos com melodias 80s de queijo ?! Eu nem vou mencionar os aspectos técnicos do filme, porque acredite em mim, parece que custou apenas 20 dólares.Por favor, evite esse como a peste. É um dos piores filmes que eu já vi, e isso é algo a dizer. Graças a Deus parece ter desaparecido da terra.\",\"neg\"\n",
        "\"23\",\"Im a huge fan of both Emily Watson Breaking The Waves and Tom Wilkinson Normal and was amused to see them upstaged by Rupert Everett Dellamorte Dellamore in this shockingly rather minor movie that had all the ingredients to be so much more. The too brief scenes in which he portrays a languid, infinitely entitled, worthless son of a rich Lord are spot-on and entertaining. But for a love triangle there was remarkably little chemistry to speak of between anyone. The music was annoyingly movie-of-the-week quality, and the voice-over jarring and totally unnecessary. Clearly the work of a first-time director with a small budget who either lacked or didnt sufficiently heed good advice. Too bad.I can appreciate how the people you kind of hate at the beginning are the ones you kind of like at the end, and vice-versa, so there is some sort of character arc, at least in terms of perception. For example, Watsons character, while refreshingly honest to her husband about her feelings for another man, began to grate on me near the end, particularly when she announced to her husband that she simply had absolutely no control over her actions, and later when she simply declared that she would be moving back into their marital flat, with no asking of permission, no apologies offered. And I went from disliking Wilkinsons control freak / moral relativist character to sort of understanding him and not really wanting him to change unlike his wife.This movie awkwardly morphed from a whodunit to a \"\"Love Story\"\" or \"\"Steel Magnolias\"\" illness drama without sufficiently informing me of the fact, so I was left distractedly guessing what the next plot twist might be long after they had all been revealed Was it the Lord driving the car? The Lords dog?. The scene where the Lord visits Wilkinson and relates how brave Watson is, the bestest nurse any dying boyfriend could ever ask for, Florence Nightingale incarnate, etc. was OK until he started over-the-top sobbing like a baby. Good God! If you ask me shes just another flitty rich person with way too much time on her hands, and so she drives her hard working, well providing spouse crazy with unnecessary drama. Her screwing around was just another way to occupy her empty life; the dying guy thing was an added bonus for her as it somehow made her previous actions completely above reproach.Look, everyone would have been better off if Wilkinson had just left her for his secretary, who seemed to appreciate him for who he was. Instead he acted like an abused dog, his open craving for his wifes affection increasing with every kick she gives him. Im not anti PC or anything, it just didnt ring true, even after taking into account all of the harsh realities of middle age we all tend to face. The ending for me was and not the directors intention I am certain depressing. The movie spent the last 80 minutes convincing me that these two people just dont belong together, so I found no joy in the promise of their relationship continuing. Im not above wanting my emotions manipulated by a story, it just has to be somewhat plausible and not hackneyed. Is that asking too much?My score: 4/10\",\"Sou um grande fã de Emily Watson, Breaking The Waves e Tom Wilkinson Normal, e me diverti ao vê-los sendo ofuscados por Rupert Everett Dellamorte Dellamore neste filme chocantemente pequeno que teve todos os ingredientes para ser muito mais. As cenas muito breves em que ele retrata um filho lânguido, infinitamente direito, sem valor, de um Lorde rico são autênticas e divertidas. Mas para um triângulo amoroso havia notavelmente pouca química para falar entre qualquer um. A música era irritantemente a qualidade do filme da semana, e a narração estridente e totalmente desnecessária. Claramente o trabalho de um diretor de primeira viagem com um orçamento pequeno que ou não tinha ou não prestava bastante atenção a bons conselhos. Que pena. Eu posso apreciar como as pessoas que você odeia no começo são aquelas que você gosta no final, e vice-versa, então existe algum tipo de personagem, pelo menos em termos de percepção. Por exemplo, a personagem de Watson, embora refrescantemente honesta para o marido sobre seus sentimentos por outro homem, começou a me irritar no final, particularmente quando anunciou ao marido que simplesmente não tinha absolutamente nenhum controle sobre suas ações e, mais tarde, quando simplesmente declarou que voltaria a seu apartamento civil, sem pedir permissão, sem pedir desculpas. E eu passei de não gostar de Wilkinsons control freak / moral relativist character para o entender e não querer que ele mudasse ao contrário de sua esposa.Este filme desajeitadamente transformou-se de um whodunit para um drama de doença \"\"Love Story\"\" ou \"\"Steel Magnolias\"\" sem suficientemente me informando do fato, então fiquei distraidamente adivinhando qual seria a próxima reviravolta na trama depois de todos terem sido revelados. Era o Senhor dirigindo o carro? O cão dos lordes? A cena em que o Senhor visita Wilkinson e conta como o bravo Watson é, a melhor enfermeira que qualquer namorado que morre poderia pedir, Florence Nightingale encarnada, etc., estava bem até começar a soluçar como um bebê. Bom Deus! Se você me perguntar, ela é apenas mais uma pessoa rica e enlouquecida com muito tempo em suas mãos, e por isso ela dirige seu trabalho árduo, proporcionando ao cônjuge uma loucura desnecessária. Ela transando era apenas outra maneira de ocupar sua vida vazia; a coisa moribunda era um bônus adicional para ela, pois de alguma forma ela tornava suas ações anteriores completamente acima de qualquer reprovação. Olha, todo mundo teria ficado melhor se Wilkinson tivesse acabado de deixá-la por sua secretária, que parecia apreciá-lo por quem ele era. Em vez disso, ele agiu como um cão abusado, seu desejo de abrir o afeto da esposa aumentando a cada pontapé que ela lhe dá. Eu não sou anti PC ou qualquer coisa, só não soou verdadeiro, mesmo depois de levar em conta todas as duras realidades da meia-idade, todos nós tendemos a enfrentar. O final para mim foi e não a intenção dos diretores, estou certo de deprimente. O filme passou os últimos 80 minutos me convencendo de que essas duas pessoas simplesmente não pertencem a elas, então não encontrei nenhuma alegria na promessa de seu relacionamento continuar. Eu não estou acima de querer minhas emoções manipuladas por uma história, isso só tem que ser um pouco plausível e não banal. Isso é pedir demais? Minha pontuação: 4/10\",\"neg\"\n",
        "\"24\",\"Sure, most of the slasher films of the 1980s were not worth thecelluloid they were filmed on, but this video nightmare may well bethe dullest produced.Six horny pot smoking students decide to go camping. Of course,and you know this already, they begin getting killed one by one by amysterious stranger. The climax has a hunky forest ranger trying toget to the teens in time before the last cute girl becomes buzzardbait.John Carl Buechler, my least favorite B-movie guy, did the lousymakeup effects here. The cast features Carel Struycken, of \"\"TheWitches of Eastwick\"\" and the Addams family movies. Sadly, hedoes not pop up until the very end of the film, and is covered inburn makeup, rendering him unrecognizable. Steve Bond anyoneremember him? is here in an early role as a victim.Browns direction, and the script he cowrote, both smell like thepresents brown bears leave in the woods. He pads the film withso much stock wilderness footage, I thought I accidentally rented aspecial episode of Mutual of Omahas Wild Kingdom. Much of thecast sits around the campfire and eats, then walk, and sit and eatagain. The forest ranger is involved in the strangest scene ever putin a slasher film: he tells a joke about a wide mouthed frog to ababy deer. Jackie Coogan, who must have forgot he once workedwith the legends of silent cinema, has two scenes, and is involvedin the second strangest scene ever put in a slasher film: he andthe hunky forest ranger have a conversation about cucumber andcream cheese sandwiches on oatmeal bread...yeah.There is not one minute of suspense here. The killer, a forest firesurvivor looking for a mate, watches the students from behindtrees. We know it is the killer because the film makers havedubbed in a heart beat sound effect that helpfully serves to wakethe viewer up every few minutes. Skip this pile of pine sap and rent\"\"Halloween,\"\" instead.This is rated R for physical violence, mild gun violence, gore,some profanity, brief female nudity, mild sexual content, sexualreferences, and drug abuse.\",\"Claro, a maioria dos filmes de terror da década de 1980 não valeu a pena que eles foram filmados, mas esse pesadelo em vídeo pode muito bem ser o mais tedioso produzido. Seis garotos que fumam maconha decidem ir acampar. Claro, e você já sabe disso, eles começam a ser mortos um por um por um estranho. O clímax tem um guarda-florestal bonitão tentando acompanhar os adolescentes a tempo, antes que a última garota fofa se torne buzzardbait. John Carl Buechler, meu cara favorito de filme B, fez os péssimos efeitos aqui. O elenco conta com Carel Struycken, de \"\"The Witches of Eastwick\"\" e os filmes da família Addams. Infelizmente, ele não aparece até o final do filme, e é coberto por maquiagem queimada, tornando-o irreconhecível. Steve Bond não se lembra dele? está aqui em um papel adiantado como uma vítima. A direção das bordas, e o roteiro que cowrote, ambos cheiram como os ursos marrons atuais saem na floresta. Ele acompanha o filme com tantas filmagens de animais selvagens, eu pensei que eu acidentalmente aluguei um episódio especial de Mutual of Omahas Wild Kingdom. Grande parte do thecast senta-se ao redor da fogueira e come, depois anda, senta e come novamente. O guarda florestal está envolvido na cena mais estranha que já fez um filme de terror: ele conta uma piada sobre um sapo de boca larga para um cervo abadre. Jackie Coogan, que deve ter esquecido que trabalhou uma vez com as lendas do cinema mudo, tem duas cenas, e está envolvido na segunda cena mais estranha já feita em um filme de terror: ele e o bonitão florestal conversam sobre sanduíches de queijo e pepino com pão de aveia ... sim. Não há um minuto de suspense aqui. O assassino, um sobrevivente do incêndio florestal à procura de um companheiro, observa os alunos de trás das árvores. Sabemos que é o assassino porque os cineastas tiveram um efeito de batimento cardíaco que serve para despertar o espectador a cada poucos minutos. Pule esta pilha de seiva de pinho e alugue o \"\"Halloween\"\", em vez disso.Este é classificado como R por violência física, violência moderada, violência, algumas palavrões, nudez breve, conteúdo sexual moderado, referências sexuais e abuso de drogas.\",\"neg\"\n",
        "\"25\",\"I think that would have been a more appropriate title for this film, since it is padded to hell and back with stock footage of various bugs and animals. I recently found The Prey in its original VHS big box form and was very excited. I just LOVE finding old slasher films on VHS because the cover artwork is fantastic. Usually though, it turns out that the film itself is less than fantastic. The Prey is one of those films.To be fair, it started off OK, with the killer stalking the clichÃ© teenagers in the woods. The heartbeat sounds used are a great effect that make you tense as you watch. This film is basically a big fat clichÃ©, and when the \"\"campfire stories\"\" section rolls in, the film takes a new direction and spends almost half of the running time on the back-story of the killer. I actually thought this was quite an original idea. However, the back-story ends abruptly and shows us some stock-footage of a burning woodland the lack of budget really starts to show now. After this, we are returned to the dumb teenagers being picked off in the woods. The killer himself isnt shown until the end, which is a shame because he actually makes an effective looking killer. Sort of like Cropsy from The Burning, but better. As for gore, there isnt too much, although theres an OK face squishing moment at the end. Overall, I wouldnt recommend this film to anyone other than slasher completists - it really is a big mess.\",\"Eu acho que teria sido um título mais apropriado para este filme, já que ele está repleto de cenas de vários insetos e animais. Eu encontrei recentemente a presa em sua forma original de caixa grande VHS e estava muito animado. Eu adoro encontrar filmes de terror em VHS porque a capa é fantástica. Normalmente, no entanto, o filme em si é menos que fantástico. A presa é um desses filmes. Para ser justo, tudo começou bem, com o assassino perseguindo os adolescentes clichê na floresta. Os sons de batimentos cardíacos usados ​​são um ótimo efeito que deixa você tenso enquanto assiste. Este filme é basicamente um grande clichê gordo, e quando a seção de \"\"histórias de fogueira\"\" entra, o filme toma uma nova direção e gasta quase metade do tempo de corrida na história do assassino. Eu realmente pensei que esta era uma ideia bastante original. No entanto, a história de fundo termina abruptamente e nos mostra algumas cenas de estoque de uma floresta em chamas, a falta de orçamento realmente começa a mostrar agora. Depois disso, somos devolvidos aos adolescentes burros sendo apanhados na floresta. O assassino não é mostrado até o final, o que é uma pena, porque ele realmente faz um assassino eficaz. Mais ou menos como Cropsy from The Burning, mas melhor. Quanto ao sangue, não há muito, embora haja um momento de esmagamento da face OK no final. No geral, eu não recomendaria esse filme para ninguém além de especialistas em slasher - é realmente uma grande bagunça.\",\"neg\"\n",
        "\"26\",\"1980 was certainly a year for bad backwoods slasher movies. \"\"Friday The 13th\"\" and \"\"The Burning\"\" may have been the best ones but there were like always a couple of stinkers not far behind like \"\"Dont Go Into The Woods Alone\"\" and this one. But in all fairness \"\"The Prey\"\" is nowhere near as bad as \"\"Dont Go Into The Woods\"\" but its still not great either. One thing is that its just boring and acting isnt very good but much better than \"\"DGITW\"\" and this movie actually has some attractive looking females to look at, all three of the female leads were stunning. One thing what is up with all that pointless wildlife footage it just seemed pointless and it looked as the director used that to just used that to fill up some time space.So, what was there to like about this movie? Well, there were a few laugh out loud cheese moments- I couldnt contain a fit of giggles when the final girl did a bizarre type of backwards moon-walk to get away from the kille and there were a few good kill scenes- my favourites being the girl suffocated to death with the sleeping bag; and the phoney looking.All in all The Prey is dumb, boring and the killer I didnt find scary at all, this movie could have been a whole lot better.\",\"1980 foi certamente um ano para maus filmes de terror. \"\"Friday The 13th\"\" e \"\"The Burning\"\" podem ter sido os melhores, mas sempre houve alguns fãs que não ficaram muito atrás, como \"\"Dont Go Into The Woods Alone\"\" e esse. Mas com toda a justiça \"\"The Prey\"\" está longe de ser tão ruim quanto \"\"Não vá para o bosque\"\", mas ainda não é grande. Uma coisa é que é apenas chato e agindo não é muito bom, mas muito melhor do que \"\"DGITW\"\" e este filme realmente tem algumas mulheres atraentes olhar para, todos os três clientes do sexo feminino foram impressionantes. Uma coisa, o que está acontecendo com toda aquela insensata vida selvagem, parecia inútil e parecia que o diretor usava isso para usar isso para preencher um espaço de tempo. Então, o que havia para gostar desse filme? Bem, houve algumas gargalhadas em momentos de queijo - eu não pude conter um ataque de risos quando a garota final fez um tipo bizarro de caminhar pela lua para se afastar do kille e havia algumas boas cenas de matança - minhas favoritas sendo a garota sufocou até a morte com o saco de dormir; e o olhar falso.Em tudo, The Prey é burro, chato e assassino que eu não achei assustador, esse filme poderia ter sido muito melhor.\",\"neg\"\n",
        "\"27\",\"Everything everyone has said already pretty much rings true when it comes to The Prey. Endless nature footage, bad acting - Aside from these elements, this is a watchable film for slasher fans that in some cases, is considered a cult classic.Jackson Bostwick and Jackie Coogan play pretty well off each other. Theres also a three minute banjo solo that shows off Bostwicks skill behind the instrument. Not too bad if I do say so myself.The last ten minutes of the film are its saving grace. The ending still haunts me to this day. This can also sport a short lived plus in that an early John Carl Bucheler does the special effects. Some may know him from films like Troll and Friday the 13th part 7 - He directed both these films All in all, this isnt a movie everyone will find something redeeming in. In fact, on a Hollywood level, this can rank right up there with one of the businesses most amateurish efforts, but for that handful yet very loyal of slasher movie fans in the world, even the bad acting and atrocious nature footage can be forgiven.\",\"Tudo o que todo mundo já disse é verdade quando se trata de The Prey. Filmagens da natureza sem fim, atuação ruim - Além desses elementos, este é um filme assistível para fãs de slasher que, em alguns casos, é considerado um clássico cult. Jackson Bostwick e Jackie Coogan jogam muito bem um com o outro. Há também um solo de banjo de três minutos que mostra a habilidade de Bostwicks por trás do instrumento. Não é muito ruim se eu disser isso mesmo. Os últimos dez minutos do filme são sua graça salvadora. O final ainda me persegue até hoje. Isso também pode durar um pouco mais, já que um dos primeiros John Carl Bucheler faz os efeitos especiais. Alguns podem conhecê-lo de filmes como Troll e sexta-feira 13 parte 7 - Ele dirigiu ambos os filmes Apesar de tudo, este não é um filme todo mundo vai encontrar algo redentora dentro De fato, em um nível de Hollywood, isso pode classificar lá em cima com uma das empresas mais amadores esforços, mas para aquele punhado ainda muito leal de fãs de filmes de terror no mundo, até mesmo a má atuação e imagens de natureza atroz podem ser perdoados.\",\"neg\"\n",
        "\"28\",\"Uhhh ... so, did they even have writers for this? Maybe Im picky, but I like a little dialog with my movies. And, as far as slasher films go, just a sliver of character development will suffice.Unfortunately, The Prey provides neitherÂ?and if you think Im being hyperbolic, youll just have to see it for yourself. Scene after scene, we just get actors standing around, looking forlorn and awkward, abandoned by any sense of a script. Outside of calling out each others names when they get separated in the woods natch, the only instances where these people say something substantive is when one character explains the constellation Orion clearly plagiarized from Funk & Wagnalls; scintillating slasher fare, no? and another rehashes an old campfire tale that doesnt even have anything to do with the plot wait, what IS the plot? At other times, The Prey actually has the gall to film its characters with the boom mic just far away enough so that we cant exactly hear what theyre saying. So we get entire scenes wherein the actors are murmuring! Deliberately! Seriously, Ive seen more dialog in a silent film. Its as if the filmmakers sat down at a bar somewhere in Rancho Cucamonga in the heyday of the 80s slasher craze and one looked at the other and said, \"\"Hey, I gotta really sweet idea for a gory decapitation gag. Lets somehow pad an entire feature around it.\"\" And ... well, they did. To be fair, The Prey probably had some sort of writer on board. I mean, somebody had to jot down the scene sequence and label the dailies. However, I am fully convinced that this film did not have an editor of any kind whatsoever. There are glaring pauses, boring tableaux, and zero sense of pacing throughout. The filmmakers dont have anything else in the \"\"script\"\" to film, so they fill out the running time with exhaustive taxonomies of the flora and fauna that inhabit the forest in which our wild and crazy teens are getting sliced and diced. These critters are all filmed in straightforward, noontime daylight in a completely reserved fashion and with no attempt at atmospheric photography. If it feels like a science film, thats because it is. Im pretty sure this is all nature show stock footageÂ?all thats missing is a stuffy narration from some National Geographic alderman.More exciting footage that was graciously spared from the cutting room floor: a scene in which two men discuss cucumber and cream cheese sandwiches, and another scene wherein a supporting character strums away on a banjo for what feels like an entire minute-and-a- half! A minute-and-a-half! Thats a lot of banjoing to commit to celluloid to begin with, let alone insert into the final cut of the film! Way to go, guys! Brevity and concision are the real victims of this slaughterfest.Admittedly, the film picks up quite a bit of steam comparatively in the last 25 minutes, into which much of the carnage is condensed and where a rip-off of BÃ©la BartÃ³ks \"\"Music for Strings, Percussion and Celesta\"\" cuts in. Vaudeville great Jackie Coogan makes a fun appearance as a tubby, bumbly park ranger this was his last role, if you can believe it. And there are some nice gory moments, including a splattery neck tearing and the aforementioned decapitation. The make-up used for the killer Carel Struycken, aka \"\"Lurch\"\" from the Addams Family movies is also quite effective, and makes him look like a strange hybrid of young Jason Voorhees and Freddy Krueger. Plus, if you love wacky, straight-outta-left-field endings, you need to check out how they wrap this puppy up. Youll do a spit take, I promise.Usually, I love films that are on this level of ineptitude, but the first three-quarters of The Prey are just so interminably boring that they pretty much spoil the rest. Overall, this is a largely pallid and tedious affair, and, while it aint all bad, it should really only be seen by debilitated slasher completists. Why do we do this to ourselves, anyway?\",\"Uhhh ... então, eles ainda têm escritores para isso? Talvez eu seja exigente, mas gosto de um pequeno diálogo com meus filmes. E, no que diz respeito a filmes slasher, apenas um pouco de desenvolvimento de personagem será suficiente. Infelizmente, The Prey não oferece nenhum dos dois e se você acha que eu estou sendo hiperbólico, você apenas terá que ver por si mesmo. Cena após cena, apenas pegamos atores parados, parecendo desamparados e desajeitados, abandonados por qualquer senso de roteiro. Fora de chamar os nomes uns dos outros quando se separam na floresta, os únicos casos em que essas pessoas dizem algo substantivo são quando um personagem explica a constelação de Orion claramente plagiada de Funk & Wagnalls; tarifa slasher cintilante, não? e outro relembra um antigo conto de fogueira que nem tem nada a ver com a trama esperar, qual é o enredo? Em outras ocasiões, The Prey realmente tem a ousadia de filmar seus personagens com o microfone boom bem longe o suficiente para que não possamos ouvir exatamente o que eles estão dizendo. Então, temos cenas inteiras em que os atores estão murmurando! Deliberadamente! Sério, eu vi mais diálogo em um filme mudo. É como se os cineastas sentassem em um bar em algum lugar de Rancho Cucamonga no auge da loucura dos anos 80 e um olhasse para o outro e dissesse: \"\"Ei, eu tenho uma ótima idéia para uma mordaça sangrenta de decapitação. Vamos de alguma forma recurso em torno dele \"\". E bem, eles fizeram. Para ser justo, The Prey provavelmente tinha algum tipo de escritor a bordo. Quero dizer, alguém teve que anotar a sequência da cena e rotular os diários. No entanto, estou totalmente convencido de que este filme não tem um editor de qualquer tipo. Há pausas gritantes, tableaux chatos e zero senso de ritmo por toda parte. Os cineastas não têm mais nada no roteiro para filmar, então eles preenchem o tempo de execução com taxonomias exaustivas da flora e da fauna que habitam a floresta na qual nossos adolescentes loucos e loucos estão sendo fatiados e picados. Estas criaturas são todas filmadas à luz do dia, de forma completamente reservada e sem nenhuma tentativa de fotografar a atmosfera. Se parece um filme de ciência, é porque é. Eu tenho certeza que isso é tudo natureza show metragem? Tudo o que está faltando é uma narração abafada de alguns vereador da National Geographic.More emocionante que foi graciosamente poupado do chão da sala de corte: uma cena em que dois homens discutem pepino e cream cheese sanduíches, e outra cena em que um personagem de apoio se afasta em um banjo pelo que parece um minuto e meio inteiro! Um minuto e meio! Isso é muito banjo para se comprometer com celulóide para começar, muito menos inserir no corte final do filme! Muito bem, pessoal! Brevidade e concisão são as verdadeiras vítimas deste massacre. Admitidamente, o filme pega um pouco de vapor comparativamente nos últimos 25 minutos, no qual grande parte da carnificina é condensada e onde um roubo de Béla Bartóks \"\"Música para Strings, Percussion e Celesta \"\"corta. Vaudeville grande Jackie Coogan faz uma aparência divertida como um ranger parque tubby, bumbly este foi seu último papel, se você pode acreditar. E há alguns bons momentos sangrentos, incluindo um rasgão no pescoço e a decapitação acima mencionada. A maquiagem usada para o assassino Carel Struycken, também conhecido como \"\"Lurch\"\" dos filmes da Família Addams, também é bastante eficaz, e faz com que ele pareça um estranho híbrido do jovem Jason Voorhees e Freddy Krueger. Além disso, se você gosta de finais malucos e retos, você precisa verificar como eles envolvem esse filhote. Você vai fazer um cuspe, eu prometo. Geralmente, eu amo filmes que estão nesse nível de inépcia, mas os primeiros três quartos de The Prey são tão interminavelmente chatos que eles praticamente estragam o resto. No geral, esse é um assunto amplamente pálido e tedioso e, embora não seja ruim, deve ser visto apenas por especialistas em slasher debilitados. Por que fazemos isso para nós mesmos, afinal?\",\"neg\"\n",
        "\"29\",\"Oh yeah, this one is definitely a strong contender to win the questionable award of \"\"worst 80s slasher ever made\"\". \"\"The Prey\"\" has got everything you usually want to avoid in a horror flick: a routine, derivative plot that youve seen a thousand times before and better, insufferable characters and terrible performances, a complete lack of gore and suspense, fuzzy photography and unoriginal locations and Â? most irritating of all Â? the largest amount of pointless padding footage youve ever encountered in your life and thats not an exaggeration but a guarantee!. Apart from the seemingly endless amount of National Geographic stock footage, which Ill expand upon later, this film is shameless enough to include a complete banjo interlude ! and two occasions where characters tell dillydally jokes that arent even remotely funny! The set-up is as rudimentary as it gets, with the intro showing images of a devastating forest fire with OTT voice-over human screams. Fast forward nearly forty years later, when an elderly couple out camping in that same area get axe-whacked by something that breathes heavily off-screen. This ought to be enough information for you to derive that someone survived the fire all these years ago and remained prowling around ever since. Enter three intolerable twenty something couples heading up to the danger zone with exclusively sex on their minds, unaware of course they are sitting ducks for the stalking and panting killer. \"\"The Prey\"\" is an irredeemable boring film. Apparently it was shot in 1978 already, but nobody wanted to distribute it up until 1984 and it isnt too hard to see why. In case you would filter out all the content that is actually relevant, this would only be a short movie with a running time of 30 minutes; possibly even less. Theres an unimaginably large of nature and wildlife footage, sometimes of animals that I think dont even live in that type of area, and they seem to go on forever. The only thing missing, in fact, is the typical National Geographic narration providing educational information regarding the animals habits. Animals in their own natural biotope are undeniably nice to look at, but not in a supposedly vile and cheesy 80s slasher movie, for crying out loud. The last fifteen minutes are finally somewhat worthwhile, with some potent killing sequences and fine make-up effects on the monster who turns out to be Lurch from \"\"The Addams Family\"\" movies, but still silliness overrules Â? the scene with the vultures is too stupid Â? and the final shot is just laugh-out-loud retarded. As mentioned above, \"\"The Prey\"\" easily makes my own personal list of worst 80s slashers, alongside \"\"Appointment with Fear\"\", \"\"Berserker\"\", \"\"Deadly Games\"\", \"\"Dont Go in the Woods\"\", \"\"Hollow Gate\"\", \"\"The Stay Awake\"\" and \"\"Curfew\"\".\",\"Ah, sim, este é definitivamente um forte candidato para ganhar o prêmio questionável de \"\"pior slasher dos anos 80 já feito\"\". \"\"The Prey\"\" tem tudo que você normalmente quer evitar em um filme de terror: uma rotina, uma trama derivada que você já viu milhares de vezes antes e melhores, personagens insuportáveis ​​e performances terríveis, uma completa falta de sangue e suspense, fotografia difusa e não original. localizações e? mais irritante de todos? a maior quantidade de imagens de preenchimento inútil que você já encontrou em sua vida e isso não é um exagero, mas uma garantia !. Além da quantidade aparentemente infinita de imagens da National Geographic, que eu vou expandir mais tarde, este filme é desavergonhado o suficiente para incluir um interlúdio de banjo completo! e duas ocasiões em que os personagens contam piadas que não são nem um pouco engraçadas! A configuração é tão rudimentar quanto possível, com a introdução mostrando imagens de um incêndio florestal devastador com gritos humanos de voz sobre OTT. Avançando quase quarenta anos depois, quando um casal idoso acampando naquela mesma área é atingido por algo que respira pesadamente fora da tela. Isso deve ser informação suficiente para você deduzir que alguém sobreviveu ao fogo todos esses anos atrás e permaneceu rondando desde então. Entra três intoleráveis ​​casais de vinte pessoas que se dirigem para a zona de perigo com exclusivamente sexo em suas mentes, inconsciente, é claro, que eles são patos sentados para o assassino que espreita e ofega. \"\"The Prey\"\" é um filme chato irremediável. Aparentemente já foi filmado em 1978, mas ninguém quis distribuí-lo até 1984 e não é difícil entender por quê. No caso de você filtrar todo o conteúdo relevante, isso seria apenas um filme curto com um tempo de execução de 30 minutos; possivelmente menos ainda. Há uma quantidade inimaginável de cenas da natureza e vida selvagem, às vezes de animais que eu acho que não vivem nesse tipo de área, e eles parecem durar para sempre. A única coisa que falta, na verdade, é a típica narração da National Geographic que fornece informações educacionais sobre os hábitos dos animais. Animais em seu próprio biótopo natural são inegavelmente legais de se ver, mas não em um filme de terror supostamente vil e brega dos anos 80, por chorar em voz alta. Os últimos quinze minutos são finalmente um pouco valiosos, com algumas sequências de matar potentes e efeitos de maquiagem no monstro que acaba por ser Lurch de filmes \"\"The Addams Family\"\", mas ainda assim tolice overrules? a cena com os abutres é muito estúpida? e o tiro final é apenas retardado. Como mencionado acima, \"\"The Prey\"\" facilmente faz a minha própria lista pessoal dos piores slashers dos anos 80, ao lado de \"\"Appointment with Fear\"\", \"\"Berserker\"\", \"\"Jogos Mortais\"\", \"\"Não Vá nos Bosques\"\", \"\"Hollow Gate\"\", \"\"The Fique acordado \"\"e\"\" toque de recolher \"\".\",\"neg\"\n",
        "\"30\",\"Supercraptastic slasher fare, which feels overly long at 80 minutes. Years ago, a bunch of \"\"gypsies\"\" who lived in the caves of a mountain, were burned up in a forest fire. Years later, campers are going missing from the area of the fire. A bunch of horny kids are, of course, en route to this area for a debaucherous camping trip of there own. Despite an ominous welcome from the forest ranger Jackson Bostwick the kids troop up to the mountain any way. Before long, the kids start to get picked off by the monster, who remains unseen to the very end of the movie, probably because the makeup was so embarrassingly bad. No surprises to speak of: they get killed in the exact order that the formula for these movies dictates, leaving the \"\"final girl\"\" to fend for herself, although in a refreshingly downbeat denouement, the final girl ends up imprisoned and impregnated by the monster.The story itself couldnt hold the weight of feature length, so it was padded out by seemingly endless shots of wildlife and insects, which were obviously shot for another film and inserted here haphazardously as a means of making the movie long enough for a video release. On the plus side, the wildlife footage is rather nice. Also among the highlights are Bostwick talking to a baby deer, a decent rock-climbing death sequence, OK gore, and the Great Jackie Coogan in his final film role, as the bumbling local sheriff. This is a far cry from Charlie Chaplin, but it was still nice to see him. This is for slasher completists only.\",\"Receita de slash supercraptástico, que parece excessivamente longa aos 80 minutos. Anos atrás, um bando de \"\"ciganos\"\" que viviam nas cavernas de uma montanha, foram queimados em um incêndio florestal. Anos depois, os campistas desaparecem da área do incêndio. Um bando de crianças com tesão é, naturalmente, a caminho desta área para uma viagem de acampamento debochado de lá próprio. Apesar de uma saudação sinistra do guarda florestal Jackson Bostwick, as crianças chegam à montanha de qualquer jeito. Em pouco tempo, as crianças começam a ser pegas pelo monstro, que permanece invisível até o final do filme, provavelmente porque a maquiagem era tão embaraçosamente ruim. Não há surpresas em falar: elas são mortas na ordem exata que a fórmula para esses filmes dita, deixando a \"\"garota final\"\" para se defender sozinha, embora em um desenlace refrescantemente pessimista, a garota final acabe aprisionada e impregnada pelo monstro. A história em si não poderia ter o peso do comprimento do recurso, então foi preenchida por imagens aparentemente intermináveis ​​de vida selvagem e insetos, que obviamente foram filmadas para outro filme e inseridas aqui como forma de tornar o filme longo o suficiente para um lançamento em vídeo. . No lado positivo, a filmagem da vida selvagem é bastante boa. Entre os destaques estão Bostwick conversando com um filhote de cervo, uma decente seqüência de morte escalando, OK gore, e o Grande Jackie Coogan em seu papel no cinema final, como o xerife local desastrado. Isso está muito longe de Charlie Chaplin, mas ainda assim foi legal vê-lo. Isto é apenas para completistas de slasher.\",\"neg\"\n",
        "'''\n",
        "\n",
        "# Create a StringIO object from the CSV data string\n",
        "csv_io = StringIO(csv_data)\n",
        "\n",
        "# Read the CSV data using pandas.read_csv()\n",
        "df = pd.read_csv(csv_io,usecols=[\"text_pt\",\"sentiment\"])\n",
        "\n",
        "# Print the DataFrame\n",
        "print(df)"
      ],
      "metadata": {
        "colab": {
          "base_uri": "https://localhost:8080/"
        },
        "id": "f4BDgoeV5LFd",
        "outputId": "52c839cb-7e34-4864-e542-070e123c6d38"
      },
      "execution_count": 43,
      "outputs": [
        {
          "output_type": "stream",
          "name": "stdout",
          "text": [
            "                                              text_pt sentiment\n",
            "0   Mais uma vez, o Sr. Costner arrumou um filme p...       neg\n",
            "1   Este é um exemplo do motivo pelo qual a maiori...       neg\n",
            "2   Primeiro de tudo eu odeio esses raps imbecis, ...       neg\n",
            "3   Nem mesmo os Beatles puderam escrever músicas ...       neg\n",
            "4   Filmes de fotos de latão não é uma palavra apr...       neg\n",
            "5   Uma coisa engraçada aconteceu comigo enquanto ...       neg\n",
            "6   Este filme de terror alemão tem que ser um dos...       neg\n",
            "7   Sendo um fã de longa data do cinema japonês, e...       neg\n",
            "8   \"Tokyo Eyes\" fala de uma menina japonesa de 17...       neg\n",
            "9   Fazendeiros ricos em Buenos Aires têm uma long...       neg\n",
            "10  Cage interpreta um bêbado e é elogiado pela cr...       neg\n",
            "11  Primeiro de tudo, eu gostaria de dizer que sou...       neg\n",
            "12  Então me diga - que boozer sério bebe a Budwei...       neg\n",
            "13  Uma grande decepção para o que foi apresentado...       neg\n",
            "14  Este filme é absolutamente terrível e horrível...       neg\n",
            "15  Heres um decididamente médio post italiano apo...       neg\n",
            "16  Na parte inferior da escala de filmes do apoca...       neg\n",
            "17  A terra foi destruída em um holocausto nuclear...       neg\n",
            "18  Muitas pessoas estão em pé na frente da casa n...       neg\n",
            "19  A família de Nova York é a última em seu bairr...       neg\n",
            "20  A melhor coisa sobre \"The Prey\" é o slogan ......       neg\n",
            "21  Isto é verdadeiramente, sem exagerar, um dos p...       neg\n",
            "22  Sou um grande fã de Emily Watson, Breaking The...       neg\n",
            "23  Claro, a maioria dos filmes de terror da décad...       neg\n",
            "24  Eu acho que teria sido um título mais apropria...       neg\n",
            "25  1980 foi certamente um ano para maus filmes de...       neg\n",
            "26  Tudo o que todo mundo já disse é verdade quand...       neg\n",
            "27  Uhhh ... então, eles ainda têm escritores para...       neg\n",
            "28  Ah, sim, este é definitivamente um forte candi...       neg\n",
            "29  Receita de slash supercraptástico, que parece ...       neg\n"
          ]
        }
      ]
    },
    {
      "cell_type": "code",
      "metadata": {
        "id": "wDrLZmg832bm"
      },
      "source": [
        "# Renomeia a coluna text_pt para sentence e sentiment para label\n",
        "df = df.rename(columns={\"text_pt\": \"sentence\", \"sentiment\": \"label\"})"
      ],
      "execution_count": 44,
      "outputs": []
    },
    {
      "cell_type": "code",
      "metadata": {
        "id": "pqJrYFNcZ-rs",
        "colab": {
          "base_uri": "https://localhost:8080/",
          "height": 206
        },
        "outputId": "24237b9c-9aa1-4467-c31d-31630eb14a77"
      },
      "source": [
        "# Mostra 10 linhas aleatórias\n",
        "df.sample(5)"
      ],
      "execution_count": 45,
      "outputs": [
        {
          "output_type": "execute_result",
          "data": {
            "text/plain": [
              "                                             sentence label\n",
              "9   Fazendeiros ricos em Buenos Aires têm uma long...   neg\n",
              "8   \"Tokyo Eyes\" fala de uma menina japonesa de 17...   neg\n",
              "5   Uma coisa engraçada aconteceu comigo enquanto ...   neg\n",
              "14  Este filme é absolutamente terrível e horrível...   neg\n",
              "23  Claro, a maioria dos filmes de terror da décad...   neg"
            ],
            "text/html": [
              "\n",
              "  <div id=\"df-2abba376-5538-452b-8f32-5aed2064205a\">\n",
              "    <div class=\"colab-df-container\">\n",
              "      <div>\n",
              "<style scoped>\n",
              "    .dataframe tbody tr th:only-of-type {\n",
              "        vertical-align: middle;\n",
              "    }\n",
              "\n",
              "    .dataframe tbody tr th {\n",
              "        vertical-align: top;\n",
              "    }\n",
              "\n",
              "    .dataframe thead th {\n",
              "        text-align: right;\n",
              "    }\n",
              "</style>\n",
              "<table border=\"1\" class=\"dataframe\">\n",
              "  <thead>\n",
              "    <tr style=\"text-align: right;\">\n",
              "      <th></th>\n",
              "      <th>sentence</th>\n",
              "      <th>label</th>\n",
              "    </tr>\n",
              "  </thead>\n",
              "  <tbody>\n",
              "    <tr>\n",
              "      <th>9</th>\n",
              "      <td>Fazendeiros ricos em Buenos Aires têm uma long...</td>\n",
              "      <td>neg</td>\n",
              "    </tr>\n",
              "    <tr>\n",
              "      <th>8</th>\n",
              "      <td>\"Tokyo Eyes\" fala de uma menina japonesa de 17...</td>\n",
              "      <td>neg</td>\n",
              "    </tr>\n",
              "    <tr>\n",
              "      <th>5</th>\n",
              "      <td>Uma coisa engraçada aconteceu comigo enquanto ...</td>\n",
              "      <td>neg</td>\n",
              "    </tr>\n",
              "    <tr>\n",
              "      <th>14</th>\n",
              "      <td>Este filme é absolutamente terrível e horrível...</td>\n",
              "      <td>neg</td>\n",
              "    </tr>\n",
              "    <tr>\n",
              "      <th>23</th>\n",
              "      <td>Claro, a maioria dos filmes de terror da décad...</td>\n",
              "      <td>neg</td>\n",
              "    </tr>\n",
              "  </tbody>\n",
              "</table>\n",
              "</div>\n",
              "      <button class=\"colab-df-convert\" onclick=\"convertToInteractive('df-2abba376-5538-452b-8f32-5aed2064205a')\"\n",
              "              title=\"Convert this dataframe to an interactive table.\"\n",
              "              style=\"display:none;\">\n",
              "        \n",
              "  <svg xmlns=\"http://www.w3.org/2000/svg\" height=\"24px\"viewBox=\"0 0 24 24\"\n",
              "       width=\"24px\">\n",
              "    <path d=\"M0 0h24v24H0V0z\" fill=\"none\"/>\n",
              "    <path d=\"M18.56 5.44l.94 2.06.94-2.06 2.06-.94-2.06-.94-.94-2.06-.94 2.06-2.06.94zm-11 1L8.5 8.5l.94-2.06 2.06-.94-2.06-.94L8.5 2.5l-.94 2.06-2.06.94zm10 10l.94 2.06.94-2.06 2.06-.94-2.06-.94-.94-2.06-.94 2.06-2.06.94z\"/><path d=\"M17.41 7.96l-1.37-1.37c-.4-.4-.92-.59-1.43-.59-.52 0-1.04.2-1.43.59L10.3 9.45l-7.72 7.72c-.78.78-.78 2.05 0 2.83L4 21.41c.39.39.9.59 1.41.59.51 0 1.02-.2 1.41-.59l7.78-7.78 2.81-2.81c.8-.78.8-2.07 0-2.86zM5.41 20L4 18.59l7.72-7.72 1.47 1.35L5.41 20z\"/>\n",
              "  </svg>\n",
              "      </button>\n",
              "      \n",
              "  <style>\n",
              "    .colab-df-container {\n",
              "      display:flex;\n",
              "      flex-wrap:wrap;\n",
              "      gap: 12px;\n",
              "    }\n",
              "\n",
              "    .colab-df-convert {\n",
              "      background-color: #E8F0FE;\n",
              "      border: none;\n",
              "      border-radius: 50%;\n",
              "      cursor: pointer;\n",
              "      display: none;\n",
              "      fill: #1967D2;\n",
              "      height: 32px;\n",
              "      padding: 0 0 0 0;\n",
              "      width: 32px;\n",
              "    }\n",
              "\n",
              "    .colab-df-convert:hover {\n",
              "      background-color: #E2EBFA;\n",
              "      box-shadow: 0px 1px 2px rgba(60, 64, 67, 0.3), 0px 1px 3px 1px rgba(60, 64, 67, 0.15);\n",
              "      fill: #174EA6;\n",
              "    }\n",
              "\n",
              "    [theme=dark] .colab-df-convert {\n",
              "      background-color: #3B4455;\n",
              "      fill: #D2E3FC;\n",
              "    }\n",
              "\n",
              "    [theme=dark] .colab-df-convert:hover {\n",
              "      background-color: #434B5C;\n",
              "      box-shadow: 0px 1px 3px 1px rgba(0, 0, 0, 0.15);\n",
              "      filter: drop-shadow(0px 1px 2px rgba(0, 0, 0, 0.3));\n",
              "      fill: #FFFFFF;\n",
              "    }\n",
              "  </style>\n",
              "\n",
              "      <script>\n",
              "        const buttonEl =\n",
              "          document.querySelector('#df-2abba376-5538-452b-8f32-5aed2064205a button.colab-df-convert');\n",
              "        buttonEl.style.display =\n",
              "          google.colab.kernel.accessAllowed ? 'block' : 'none';\n",
              "\n",
              "        async function convertToInteractive(key) {\n",
              "          const element = document.querySelector('#df-2abba376-5538-452b-8f32-5aed2064205a');\n",
              "          const dataTable =\n",
              "            await google.colab.kernel.invokeFunction('convertToInteractive',\n",
              "                                                     [key], {});\n",
              "          if (!dataTable) return;\n",
              "\n",
              "          const docLinkHtml = 'Like what you see? Visit the ' +\n",
              "            '<a target=\"_blank\" href=https://colab.research.google.com/notebooks/data_table.ipynb>data table notebook</a>'\n",
              "            + ' to learn more about interactive tables.';\n",
              "          element.innerHTML = '';\n",
              "          dataTable['output_type'] = 'display_data';\n",
              "          await google.colab.output.renderOutput(dataTable, element);\n",
              "          const docLink = document.createElement('div');\n",
              "          docLink.innerHTML = docLinkHtml;\n",
              "          element.appendChild(docLink);\n",
              "        }\n",
              "      </script>\n",
              "    </div>\n",
              "  </div>\n",
              "  "
            ]
          },
          "metadata": {},
          "execution_count": 45
        }
      ]
    },
    {
      "cell_type": "markdown",
      "metadata": {
        "id": "QJCdTWQh2jj6"
      },
      "source": [
        "### Classe Dataset\n",
        "\n",
        "Criar a classe ConjuntoDados herdando a classe abstrata Dataset.\n",
        "\n",
        "Uma classe derivada da classe Dataset do Pytorch, precisa implementar os três métodos:  `__init__`, `__len__` e `__getitem__`.\n",
        "\n",
        "- `__init__`: O construtor da classe, executando quando a classe for instânciada, atribui alguns valores aos atributos.\n",
        "\n",
        "- `__len__`: Responsável por retornar o tamanho total do dataset quando chamamos len(dataset).\n",
        "\n",
        "- `__getitem__`: Retorna o item escolhido através do índice. Quando chamemos dataset[0] irá retornar o primeiro item do dataset.\n",
        "\n",
        "https://stanford.edu/~shervine/blog/pytorch-how-to-generate-data-parallel"
      ]
    },
    {
      "cell_type": "code",
      "metadata": {
        "id": "xbERTyTB2jwx"
      },
      "source": [
        "from torch.utils.data.dataset import Dataset\n",
        "import torch\n",
        "\n",
        "class ConjuntoDados(Dataset):\n",
        "\n",
        "    # Construtor da classe\n",
        "    def __init__(self, dados):\n",
        "\n",
        "        # Cria uma cópia dos dados, caso contrário vira uma referência\n",
        "        dados = dados.copy()\n",
        "\n",
        "        # Converte a coluna sentence para inputs_ids\n",
        "        dados[\"input_ids\"] = dados[\"sentence\"]\n",
        "\n",
        "        # Converte a coluna labels para um valor inteiro\n",
        "        dados[\"labels\"] = (dados[\"label\"] == \"pos\").astype(int)\n",
        "\n",
        "         # Converte os dados de inputs_is e labels para uma lista de dicionário orientado a registros\n",
        "        self.dadosExemplo = dados[[\"input_ids\", \"labels\"]].to_dict(\"records\")\n",
        "\n",
        "    # Facilita o acesso ao conteúdo dos dados de exemplo\n",
        "    def __getitem__(self, index):\n",
        "        # Retorna um item expecifico dos dados de exemplo.\n",
        "        # A quantidade de itens retornandos depende da quantidade de elementos em exemplo\n",
        "        # que é dividido pelo tamanho de lotes do DataLoader.\n",
        "        return  {\n",
        "                  key: value for key, value in self.dadosExemplo[index].items()\n",
        "                }\n",
        "\n",
        "    # Retorna a quantidade de dados de exemplo\n",
        "    def __len__(self):\n",
        "        return len(self.dadosExemplo)"
      ],
      "execution_count": 46,
      "outputs": []
    },
    {
      "cell_type": "markdown",
      "metadata": {
        "id": "u11UrqJQQIQh"
      },
      "source": [
        "### DataLoader utilizando a classe Dataset\n",
        "\n",
        "A quantidade elementos em DataLoader é o resultado da divisão inteira entre quantidade de registro do cojunto dividido pelo tamanho dos lotes(batch_size)."
      ]
    },
    {
      "cell_type": "code",
      "metadata": {
        "id": "Qp73jVaO5c_9",
        "colab": {
          "base_uri": "https://localhost:8080/"
        },
        "outputId": "de87538e-d48d-4a80-aca5-f9ef2c78c575"
      },
      "source": [
        "from torch.utils.data import DataLoader\n",
        "\n",
        "# Cria o conjunto de dados para o DataFrame\n",
        "conjunto_dados_treino = ConjuntoDados(df)\n",
        "\n",
        "# Mostra o tamanho do conjunto de dados(usa o método __len__)\n",
        "print(\"Existem \", len(conjunto_dados_treino), \" registros de dados\")\n",
        "\n",
        "# Cria o DataLoader para o conjunto de dados na classe ConjuntoDados(Dataset)\n",
        "# batch_size é o tamanho dos lotes criado pelo DataLoader\n",
        "carregador_treino = DataLoader(conjunto_dados_treino, batch_size = 3, num_workers = 2)\n",
        "\n",
        "# Tamanho e quantidade de lotes\n",
        "print(\"Existem \", carregador_treino.batch_size, \" registros por lotes\")\n",
        "print(\"Existem \", len(carregador_treino), \" lotes\")\n",
        "print(\"Total = \", (len(carregador_treino) * carregador_treino.batch_size ), \" registros nos lotes\")"
      ],
      "execution_count": 47,
      "outputs": [
        {
          "output_type": "stream",
          "name": "stdout",
          "text": [
            "Existem  30  registros de dados\n",
            "Existem  3  registros por lotes\n",
            "Existem  10  lotes\n",
            "Total =  30  registros nos lotes\n"
          ]
        }
      ]
    },
    {
      "cell_type": "code",
      "metadata": {
        "id": "JDGw-8XD79yC",
        "colab": {
          "base_uri": "https://localhost:8080/"
        },
        "outputId": "67977490-eb16-4bb5-de2c-17f26457e425"
      },
      "source": [
        "max_epoca = 1\n",
        "\n",
        "# Percorre as épocas\n",
        "for epoca in range(max_epoca):\n",
        "    # Treino\n",
        "    qtdeRegistros = 0\n",
        "    qtdeIteracoes = 0\n",
        "    # Percorre os 67 lotes do carregador\n",
        "    # Cada lote tem o tamanho 3\n",
        "    for i, lote in enumerate(carregador_treino):\n",
        "        #print(i, lote)\n",
        "        # Conta a quantidade registros de cada lote\n",
        "        qtdeRegistros = qtdeRegistros + len(lote[\"labels\"])\n",
        "        # Conta as iterações do carregador\n",
        "        qtdeIteracoes = qtdeIteracoes + 1\n",
        "\n",
        "    print(\"Época:\", epoca)\n",
        "    print(\"     Total registros:\", qtdeRegistros)\n",
        "    print(\"     Total iterações:\", qtdeIteracoes)"
      ],
      "execution_count": 48,
      "outputs": [
        {
          "output_type": "stream",
          "name": "stdout",
          "text": [
            "Época: 0\n",
            "     Total registros: 30\n",
            "     Total iterações: 10\n"
          ]
        }
      ]
    },
    {
      "cell_type": "markdown",
      "metadata": {
        "id": "wRHosacNRWi_"
      },
      "source": [
        "## TensorDataset e DataLoader\n",
        "\n",
        "Se não desejar criar a classe Dataset pode utilizar diretamente a classe TensorDataset e especificar os dados."
      ]
    },
    {
      "cell_type": "markdown",
      "metadata": {
        "id": "y9AlL6aZ7-ro"
      },
      "source": [
        "### Dados de exemplo\n",
        "\n",
        "Dados de https://www.kaggle.com/datasets/luisfredgs/imdb-ptbr\n",
        "\n",
        "Atributos:\n",
        "0. \"id\"\n",
        "1. \"text_en\"\n",
        "2. \"text_pt\"\n",
        "3. \"sentiment\""
      ]
    },
    {
      "cell_type": "code",
      "source": [
        "# Bibliotecas\n",
        "import pandas as pd\n",
        "from io import StringIO\n",
        "\n",
        "# String com os dados\n",
        "csv_data = '''\n",
        "\"id\",\"text_en\",\"text_pt\",\"sentiment\"\n",
        "\"1\",\"Once again Mr. Costner has dragged out a movie for far longer than necessary. Aside from the terrific sea rescue sequences, of which there are very few I just did not care about any of the characters. Most of us have ghosts in the closet, and Costners character are realized early on, and then forgotten until much later, by which time I did not care. The character we should really care about is a very cocky, overconfident Ashton Kutcher. The problem is he comes off as kid who thinks hes better than anyone else around him and shows no signs of a cluttered closet. His only obstacle appears to be winning over Costner. Finally when we are well past the half way point of this stinker, Costner tells us all about Kutchers ghosts. We are told why Kutcher is driven to be the best with no prior inkling or foreshadowing. No magic here, it was all I could do to keep from turning it off an hour in.\",\"Mais uma vez, o Sr. Costner arrumou um filme por muito mais tempo do que o necessário. Além das terríveis seqüências de resgate no mar, das quais há muito poucas, eu simplesmente não me importei com nenhum dos personagens. A maioria de nós tem fantasmas no armário, e o personagem Costers é realizado logo no início, e depois esquecido até muito mais tarde, quando eu não me importava. O personagem com o qual deveríamos nos importar é muito arrogante e superconfiante, Ashton Kutcher. O problema é que ele sai como um garoto que pensa que é melhor do que qualquer outra pessoa ao seu redor e não mostra sinais de um armário desordenado. Seu único obstáculo parece estar vencendo Costner. Finalmente, quando estamos bem além do meio do caminho, Costner nos conta sobre os fantasmas dos Kutchers. Somos informados de por que Kutcher é levado a ser o melhor sem pressentimentos ou presságios anteriores. Nenhuma mágica aqui, era tudo que eu podia fazer para não desligar uma hora.\",\"neg\"\n",
        "\"2\",\"This is an example of why the majority of action films are the same. Generic and boring, theres really nothing worth watching here. A complete waste of the then barely-tapped talents of Ice-T and Ice Cube, whove each proven many times over that they are capable of acting, and acting well. Dont bother with this one, go see New Jack City, Ricochet or watch New York Undercover for Ice-T, or Boyz n the Hood, Higher Learning or Friday for Ice Cube and see the real deal. Ice-Ts horribly cliched dialogue alone makes this film grate at the teeth, and Im still wondering what the heck Bill Paxton was doing in this film? And why the heck does he always play the exact same character? From Aliens onward, every film Ive seen with Bill Paxton has him playing the exact same irritating character, and at least in Aliens his character died, which made it somewhat gratifying...Overall, this is second-rate action trash. There are countless better films to see, and if you really want to see this one, watch Judgement Night, which is practically a carbon copy but has better acting and a better script. The only thing that made this at all worth watching was a decent hand on the camera - the cinematography was almost refreshing, which comes close to making up for the horrible film itself - but not quite. 4/10.\",\"Este é um exemplo do motivo pelo qual a maioria dos filmes de ação são os mesmos. Genérico e chato, não há nada que valha a pena assistir aqui. Um completo desperdício dos talentos de Ice-T e Cubo de Gelo que foram mal aproveitados, cada um comprovando que são capazes de atuar e agir bem. Não se incomode com este, vá ver New Jack City, Ricochet ou assistir New York Undercover para Ice-T, ou Boyz no Hood, Higher Learning ou Friday for Ice Cube e ver o negócio real. Ice-Ts horrivelmente clichê diálogo sozinho faz este filme ralar os dentes, e eu ainda estou me perguntando o que diabos Bill Paxton estava fazendo neste filme? E por que diabos ele sempre interpreta exatamente o mesmo personagem? Dos extraterrestres em diante, todos os filmes que eu vi com Bill Paxton o fizeram interpretar exatamente o mesmo personagem irritante, e pelo menos em Aliens seu personagem morreu, o que o tornou um pouco gratificante ... No geral, esse é lixo de ação de segunda classe. Existem incontáveis ​​filmes melhores para ver, e se você realmente quiser ver esse filme, assista a Judgment Night, que é praticamente uma cópia carbono, mas tem melhor atuação e um roteiro melhor. A única coisa que fez isso valer a pena assistir foi uma mão decente na câmera - a cinematografia era quase refrescante, o que chega perto de compensar o horrível filme em si - mas não é bem assim. 4/10\",\"neg\"\n",
        "\"3\",\"First of all I hate those moronic rappers, who couldnt act if they had a gun pressed against their foreheads. All they do is curse and shoot each other and acting like clichÃ©e version of gangsters.The movie doesnt take more than five minutes to explain what is going on before were already at the warehouse There is not a single sympathetic character in this movie, except for the homeless guy, who is also the only one with half a brain.Bill Paxton and William Sadler are both hill billies and Sadlers character is just as much a villain as the gangsters. I didnt like him right from the start.The movie is filled with pointless violence and Walter Hills specialty: people falling through windows with glass flying everywhere. There is pretty much no plot and it is a big problem when you root for no-one. Everybody dies, except from Paxton and the homeless guy and everybody get what they deserve.The only two black people that can act is the homeless guy and the junkie but theyre actors by profession, not annoying ugly brain dead rappers.Stay away from this crap and watch 48 hours 1 and 2 instead. At lest they have characters you care about, a sense of humor and nothing but real actors in the cast.\",\"Primeiro de tudo eu odeio esses raps imbecis, que não poderiam agir se tivessem uma arma pressionada contra suas testas. Tudo o que eles fazem é amaldiçoar e atirar um no outro e agir como uma versão clichê de gangsters. O filme não leva mais de cinco minutos para explicar o que está acontecendo antes que já estivessem no armazém. Não há um único personagem simpático nesse filme, com exceção do sem-teto, que também é o único com metade do cérebro. William Paxton e William Sadler são ambos \"\"hill billies\"\" e Sadler é tão vilão quanto os gângsteres. Eu não gostava dele desde o começo. O filme está cheio de violência sem sentido e especialidade de Walter Hills: pessoas caindo de janelas com vidros voando por toda parte. Não há praticamente nenhum enredo e é um grande problema quando você torce por ninguém. Todo mundo morre, exceto Paxton e o sem-teto e todos recebem o que merecem. Os dois únicos negros que podem atuar são o sem-teto e o viciado, mas são atores de profissão, não irritantes rappers feios. Fique longe dessa porcaria. e observe 48 horas 1 e 2 em vez disso. No mínimo, eles têm personagens de que você gosta, senso de humor e nada além de atores reais no elenco.\",\"neg\"\n",
        "\"4\",\"Not even the Beatles could write songs everyone liked, and although Walter Hill is no mop-top hes second to none when it comes to thought provoking action movies. The nineties came and social platforms were changing in music and film, the emergence of the Rapper turned movie star was in full swing, the acting took a back seat to each mans overpowering regional accent and transparent acting. This was one of the many ice-t movies i saw as a kid and loved, only to watch them later and cringe. Bill Paxton and William Sadler are firemen with basic lives until a burning building tenant about to go up in flames hands over a map with gold implications. I hand it to Walter for quickly and neatly setting up the main characters and location. But i fault everyone involved for turning out Lame-o performances. Ice-t and cube must have been red hot at this time, and while Ive enjoyed both their careers as rappers, in my opinion they fell flat in this movie. Its about ninety minutes of one guy ridiculously turning his back on the other guy to the point you find yourself locked in multiple states of disbelief. Now this is a movie, its not a documentary so i wont waste my time recounting all the stupid plot twists in this movie, but there were many, and they led nowhere. I got the feeling watching this that everyone on set was sord of confused and just playing things off the cuff. There are two things i still enjoy about it, one involves a scene with a needle and the other is Sadlers huge 45 pistol. Bottom line this movie is like dominos pizza. Yeah ill eat it if Im hungry and i dont feel like cooking, But Im well aware it tastes like crap. 3 stars, meh.\",\"Nem mesmo os Beatles puderam escrever músicas que todos gostassem, e embora Walter Hill não seja um mop-top, ele é incomparável quando se trata de filmes de ação instigantes. Os anos noventa chegaram e as plataformas sociais estavam mudando em música e cinema, o surgimento da estrela de cinema do Rapper estava em pleno andamento, a atuação ficou em segundo plano para cada homem dominar o sotaque regional e a atuação transparente. Este foi um dos muitos filmes de ice-t que eu vi quando criança e amei, só para assisti-los mais tarde e me encolher. Bill Paxton e William Sadler são bombeiros com vidas básicas até que um inquilino em chamas prestes a pegar fogo com um mapa com implicações douradas. Eu entrego a Walter para rapidamente e ordenadamente configurar os personagens principais e localização. Mas eu culpo todos os envolvidos por produzir performances do Lame-o. O gelo e o cubo devem ter ficado muito quentes neste momento, e embora eu tenha gostado de suas carreiras como rappers, na minha opinião, eles ficaram insatisfeitos com esse filme. São cerca de noventa minutos de um cara ridiculamente virando as costas para o outro cara até o ponto em que você se encontra bloqueado em múltiplos estados de descrença. Agora este é um filme, não é um documentário, então eu não vou perder meu tempo recontando todas as reviravoltas estúpidas neste filme, mas havia muitos, e eles não levaram a lugar nenhum. Eu tenho a sensação de ver isso que todo mundo no set era sordeto de confuso e apenas jogando as coisas fora do punho. Há duas coisas que eu ainda gosto, uma envolve uma cena com uma agulha e a outra é uma enorme pistola 45 Sadlers. Bottom line este filme é como pizza de dominó. Sim, eu comeria se estivesse com fome e eu não estivesse com vontade de cozinhar, mas eu estou bem ciente que tem gosto de porcaria. 3 estrelas, meh.\",\"neg\"\n",
        "\"5\",\"Brass pictures movies is not a fitting word for them really are somewhat brassy. Their alluring visual qualities are reminiscent of expensive high class TV commercials. But unfortunately Brass pictures are feature films with the pretense of wanting to entertain viewers for over two hours! In this they fail miserably, their undeniable, but rather soft and flabby than steamy, erotic qualities non withstanding.Senso 45 is a remake of a film by Luchino Visconti with the same title and Alida Valli and Farley Granger in the lead. The original tells a story of senseless love and lust in and around Venice during the Italian wars of independence. Brass moved the action from the 19th into the 20th century, 1945 to be exact, so there are Mussolini murals, men in black shirts, German uniforms or the tattered garb of the partisans. But it is just window dressing, the historic context is completely negligible.Anna Galiena plays the attractive aristocratic woman who falls for the amoral SS guy who always puts on too much lipstick. She is an attractive, versatile, well trained Italian actress and clearly above the material. Her wide range of facial expressions signalling boredom, loathing, delight, fear, hate ... and ecstasy are the best reason to watch this picture and worth two stars. She endures this basically trashy stuff with an astonishing amount of dignity. I wish some really good parts come along for her. She really deserves it.\",\"Filmes de fotos de latão não é uma palavra apropriada para eles, na verdade, são um tanto ousados. Suas qualidades visuais atraentes são reminiscentes de comerciais de TV caros de alta classe. Mas, infelizmente, as imagens de Brass são longas-metragens com o pretexto de querer entreter os telespectadores durante mais de duas horas! Nisto eles falham miseravelmente, suas qualidades eróticas inegáveis, mas bastante suaves e flácidas que vaporosas, não resistentes.Senso 45 é um remake de um filme de Luchino Visconti com o mesmo título e Alida Valli e Farley Granger na liderança. O original conta uma história de amor sem sentido e luxúria em Veneza e arredores durante as guerras italianas de independência. Brass moveu a ação do século 19 para o século 20, em 1945, para ser exato, então há murais de Mussolini, homens de camisa preta, uniformes alemães ou o traje esfarrapado dos partidários. Mas é apenas fachada, o contexto histórico é completamente insignificante. Anna Galiena interpreta a atraente mulher aristocrática que se apaixona pelo cara amoral da SS que sempre usa muito batom. Ela é uma atriz italiana atraente, versátil e bem treinada e claramente acima do material. Sua ampla gama de expressões faciais sinalizando tédio, aversão, prazer, medo, ódio ... e êxtase são a melhor razão para assistir a esta foto e vale duas estrelas. Ela suporta este material basicamente inútil com uma quantidade impressionante de dignidade. Desejo que algumas partes realmente boas apareçam para ela. Ela realmente merece isso.\",\"neg\"\n",
        "\"6\",\"A funny thing happened to me while watching \"\"Mosquito\"\": on the one hand, the hero is a deaf-mute and the director is totally unable to make us understand why he does what he does mutilating mannequins...er, excuse me, corpses through his images. On the other hand, the English version at least is very badly dubbed. So I found myself wishing there had been both more AND less dialogue at the same time! This film is stupid funny how this guy has access to every graveyard and mortuary in his town and lurid where would we be in a 70s exploitationer without our gratuitous lesbian scene?. Not to mention the \"\"romantic\"\" aspect oh, how sweet!...Miss it.\",\"Uma coisa engraçada aconteceu comigo enquanto assistia \"\"Mosquito\"\": por um lado, o herói é surdo-mudo e o diretor é totalmente incapaz de nos fazer entender por que ele faz o que ele faz com manequins mutilantes ... er, desculpe-me, cadáveres através de suas imagens. Por outro lado, a versão em inglês, pelo menos, é muito mal dublada. Então eu me encontrei desejando que houvesse tanto mais E menos diálogo ao mesmo tempo! Este filme é estúpido como esse cara tem acesso a todos os cemitérios e necrotérios de sua cidade, e onde é que estaríamos em um explorador dos anos 70 sem a nossa cena lésbica gratuita ?. Sem mencionar o aspecto \"\"romântico\"\", oh, que doce!\",\"neg\"\n",
        "\"7\",\"This German horror film has to be one of the weirdest I have seen.I was not aware of any connection between child abuse and vampirism, but this is supposed based upon a true character.Our hero is deaf and mute as a result of repeated beatings at the hands of his father. he also has a doll fetish, but I cannot figure out where that came from. His co-workers find out and tease him terribly.During the day a mild-manner accountant, and at night he breaks into cemeteries and funeral homes and drinks the blood of dead girls. They are all attractive, of course, else we wouldnt care about the fact that he usually tears their clothing down to the waist. He graduates eventually to actually killing, and that is what gets him caught.Like I said, a very strange movie that is dark and very slow as Werner Pochath never talks and just spends his time drinking blood.\",\"Este filme de terror alemão tem que ser um dos mais estranhos que eu já vi. Eu não estava ciente de qualquer conexão entre abuso infantil e vampirismo, mas isso é supostamente baseado em um verdadeiro personagem. Nosso herói é surdo e mudo como resultado de espancamentos repetidos. nas mãos de seu pai. ele também tem um fetiche de bonecas, mas não consigo descobrir de onde veio isso. Seus colegas de trabalho descobrem e provocam-no terrivelmente.Durante o dia um contador de maneira suave, e à noite ele invade cemitérios e funerárias e bebe o sangue de garotas mortas. Eles são todos atraentes, é claro, senão não nos importamos com o fato de que ele geralmente rasga suas roupas até a cintura. Ele se forma eventualmente para matar, e é isso que o faz ser pego. Como eu disse, um filme muito estranho que é sombrio e muito lento, já que Werner Pochath nunca fala e apenas gasta seu tempo bebendo sangue.\",\"neg\"\n",
        "\"8\",\"Being a long-time fan of Japanese film, I expected more than this. I cant really be bothered to write to much, as this movie is just so poor. The story might be the cutest romantic little something ever, pity I couldnt stand the awful acting, the mess they called pacing, and the standard \"\"quirky\"\" Japanese story. If youve noticed how many Japanese movies use characters, plots and twists that seem too \"\"different\"\", forcedly so, then steer clear of this movie. Seriously, a 12-year old could have told you how this movie was going to move along, and thats not a good thing in my book.Fans of \"\"Beat\"\" Takeshi: his part in this movie is not really more than a cameo, and unless youre a rabid fan, you dont need to suffer through this waste of film.2/10\",\"Sendo um fã de longa data do cinema japonês, eu esperava mais do que isso. Eu realmente não posso ser incomodado para escrever muito, como este filme é tão pobre. A história pode ser a coisa mais fofa e romântica de todos os tempos, pena que eu não poderia suportar a atuação horrível, a bagunça que eles chamavam de ritmo, e a história japonesa \"\"peculiar\"\". Se você notou quantos filmes japoneses usam personagens, gráficos e reviravoltas que parecem muito \"\"diferentes\"\", forçosamente, então evite esse filme. Sério, um garoto de 12 anos poderia ter dito a você como esse filme iria continuar, e isso não é uma coisa boa no meu livro. Fãs de \"\"Beat\"\" Takeshi: sua parte neste filme não é mais do que uma aparição, e a menos que você seja um fã fanático, você não precisa sofrer com esse desperdício de filme.2 / 10\",\"neg\"\n",
        "\"9\",\"\"\"Tokyo Eyes\"\" tells of a 17 year old Japanese girl who falls in like with a man being hunted by her big bro who is a cop. This lame flick is about 50% filler and 50% talk, talk, and more talk. Youll get to see the less than stellar cast of three as they talk on the bus, talk and play video games, talk and get a haircut, talk and walk and walk and talk, talk on cell phones, hang out and talk, etc. as you read subtitles waiting for something to happen. The thin wisp of a story is not sufficient to support a film with low end production value, a meager cast, and no action, no romance, no sex or nudity, no heavy drama...just incessant yadayadayadaing. C-\",\"\"\"Tokyo Eyes\"\" fala de uma menina japonesa de 17 anos que cai como um homem sendo caçado por seu irmão mais velho que é um policial. Este filme manco é de cerca de 50% de enchimento e 50% de conversas, conversas e mais conversas. Você verá o elenco estelar de menos de três pessoas enquanto eles conversam no ônibus, conversam e jogam videogames, conversam e cortam o cabelo, conversam e andam e andam e conversam, conversam no celular, passam o tempo conversando etc. enquanto você lê legendas esperando que algo aconteça. O fino fio de uma história não é suficiente para sustentar um filme com baixo valor de produção final, um elenco escasso, e sem ação, sem romance, sem sexo ou nudez, sem drama pesado ... apenas incessante yadayadayadaing. C-\",\"neg\"\n",
        "\"10\",\"Wealthy horse ranchers in Buenos Aires have a long-standing no-trading policy with the Crawfords of Manhattan, but what happens when the mustachioed Latin son falls for a certain Crawford with bright eyes, blonde hair, and some perky moves on the dance floor? 20th Century-Fox musical has a glossy veneer yet seems a bit tatty around the edges. It is very heavy on the frenetic, gymnastic-like dancing, exceedingly thin on story. Betty Grable an eleventh hour replacement for Alice Faye gives it a boost, even though shes paired with leaden Don Ameche in tan make-up and slick hair. Also good: Charlotte Greenwood as Bettys pithy aunt, a limousine driver whos constantly asleep on the job, and Carmen Miranda playing herself who else?. The stock shots of Argentina far outclass the action filmed on the Fox backlot, and some of the supporting performances are quite awful. By the time of the big horserace finale, most viewers will have had enough. 1/2 from\",\"Fazendeiros ricos em Buenos Aires têm uma longa política de não-comércio com os Crawford de Manhattan, mas o que acontece quando o filho latino de bigode cai por um certo Crawford com olhos brilhantes, cabelos loiros e alguns movimentos alegres na pista de dança? O musical da 20th Century-Fox tem um verniz brilhante, mas parece um pouco ultrapassado nas bordas. É muito pesado na dança frenética, como ginástica, extremamente fina na história. Betty Grable, uma substituta de décima primeira hora de Alice Faye, dá um impulso, apesar de ela estar emparelhada com Don Ameche, de pele castanha e magricela. Também é bom: Charlotte Greenwood como Bettys tia, uma motorista de limusine que constantemente adormece no trabalho, e Carmen Miranda interpretando quem mais ?. As filmagens de ações da Argentina superam de longe a ação filmada no backlot da Fox, e algumas das performances de apoio são bastante terríveis. Até o final do grande final de corrida de cavalos, a maioria dos espectadores terá o suficiente. 1/2 de\",\"neg\"\n",
        "\"11\",\"Cage plays a drunk and gets high critically praise. Elizabeth Shue Actually has to do a love seen with the most unattractive and overrated piece of dung flesh in Hollywood. I literally vomited while watching this film. Of course I had the flu, but that does not mean this film did not contribute to the vomit in the kamode. Why cant Nick Cage play something he can really pull off like a bad actor. Nick Cage who be brilliant in a role as a bad actor. Heck nobody could do it better.The search begins for Nicks contract with Lucifer or was it Lou Cipher from \"\"Night Train To Terror\"\".\",\"Cage interpreta um bêbado e é elogiado pela crítica. Elizabeth Shue Na verdade, tem que fazer um amor com a parte mais desprezível e superestimada de estrume em Hollywood. Eu literalmente vomitei enquanto assistia a esse filme. Claro que tive gripe, mas isso não significa que este filme não tenha contribuído para o vômito no kamode. Por que Nick Cage não pode tocar em algo que ele pode realmente fazer como um ator ruim? Nick Cage, que é brilhante em um papel de mau ator. Parreira ninguém poderia fazer melhor. A busca começa por Nicks contrato com Lúcifer ou Lou Cipher de \"\"Night Train To Terror\"\".\",\"neg\"\n",
        "\"12\",\"First of all, I would like to say that I am a fan of all of the actors that appear in this film and at the time that I rented it, I wanted to like it.I think that the main reason that I was so disappointed was that the outside box promised me a suspense thriller. In my eyes, a suspense thriller for British movies is like something out of a Ruth Rendell novel, something that has a lot of dark twist and turns and leaves the viewer with an ending that is unlikely to be forgotten anytime soon.This movie started out with the promising note of being such a film. We have our main character, that suspects a man that he does not like, of being involved in a hit and run that killed the husband of one of his servants.His notions prove to be right, but the idea that his wife might be involved, does not occur to him until that she confesses to him that she was a part of the crime.The elements of a good suspense thriller were in place, at this point, but from there, I felt that the film took a different direction and became almost some sort of a mild soap opera about who wants to be with who and what the love of a real relationship is. The film might have been enjoyable to me, if the outside box had talked of a twisted lovers triangle and had not been labeled as suspense thriller.This seemed to be more of a soap opera story and the beginning setting seemed to be a mild distraction to the true content of the film. I felt like this film could have done a whole lot better than it did. I felt like it kept leading the viewer up to a big event that never materialized. So, I have to give it a lower rating than I would have liked to and say that it fell short of my expectations.\",\"Primeiro de tudo, eu gostaria de dizer que sou fã de todos os atores que aparecem neste filme e na época que eu aluguei, eu queria gostar. Acho que a principal razão pela qual eu estava tão desapontado foi que o camarote exterior me prometeu um thriller de suspense. Aos meus olhos, um thriller de suspense para filmes britânicos é como algo saído de um romance de Ruth Rendell, algo que tem muitas mudanças e reviravoltas obscuras e deixa o espectador com um final que provavelmente não será esquecido tão cedo.Este filme começou com a nota promissora de ser tal filme. Nós temos o nosso personagem principal, que suspeita de um homem que ele não gosta, de estar envolvido em um ataque e execução que matou o marido de um de seus servos. Suas noções provam estar certas, mas a ideia de que sua esposa pode estar envolvida , não lhe ocorre até que ela confesse a ele que ela era uma parte do crime.Os elementos de um suspense de suspense bom estavam em lugar, neste momento, mas de lá, eu sentia que o filme tomou uma direção diferente e tornou-se quase uma espécie de novela sobre quem quer estar com quem e o que é o amor de um relacionamento real. O filme poderia ter sido agradável para mim, se a caixa externa tivesse falado de um triângulo de amantes retorcidos e não tivesse sido rotulada como thriller de suspense. Isso parecia ser mais uma história de novela e o cenário inicial parecia ser uma leve distração para o verdadeiro conteúdo do filme. Eu senti que este filme poderia ter feito muito melhor do que isso. Eu senti como se continuasse levando o espectador para um grande evento que nunca se concretizou. Então, eu tenho que dar uma classificação mais baixa do que eu teria gostado e dizer que ficou aquém das minhas expectativas.\",\"neg\"\n",
        "\"13\",\"So tell me - what serious boozer drinks Budweiser? How many suicidally-obsessed drinkers house a fully stocked and barely touched range of drinks in their lonely motel room that a millionaire playboys bachelor-pad bar would be proud to boast? And what kind of an alcoholic tends to drink with the bottle held about 8 inches from his hungry mouth so that the contents generally spill all over his face? Not to mention wasting good whisky by dousing your girlfriends tits with it, just so the cinema audience can get a good eyeful of Elisabeth Shues assets.Cage seems to be portraying the most attention-seeking look-at-me alcoholic ever to have graced the screen while Shue looks more like a Berkely preppy slumming it for a summer than some seasoned street-walker. She is humiliated and subjugated as often as possible in this revolting movie with beatings, skin lacerations, anal rape and graphic verbal abuse - all of it completely implausible and included apparently only to convey a sense of her horribly demeaned state and offer the male viewers an astonishingly clichÃ©d sentimental sexual fantasy of the tart-with-a-heart.Still - I did watch it to the end, by which time I was actually laughing out loud as Shues tough street hooker chopped carrots in the kitchen wanly, pathetically smiling while Cage - all eyes popping and shaking like like a man operating a road drill in an earthquake - grimaced and mugged his way through the final half-hour...\",\"Então me diga - que boozer sério bebe a Budweiser? Quantos bebedores obcecados por suicidas abrigam uma gama de bebidas totalmente abastecida e mal tocada em seu quarto de motel solitário, que um bar de bacharel playboys milionário teria orgulho de ostentar? E que tipo de alcoólatra tende a beber com a garrafa a cerca de 20 centímetros de sua boca faminta, de modo que o conteúdo geralmente se espalha por todo o rosto? Para não mencionar o desperdício de uísque bom por dousing suas namoradas mamas com ele, apenas para o público de cinema pode obter um bom olho de ativos de Elisabeth Shues.Cage parece estar retratando o alcoólatra look-at-me mais atenção-seeking sempre ter agraciado o tela enquanto Shue se parece mais com uma palhaçada de Berkely por um verão do que com um experiente street-walker. Ela é humilhada e subjugada tantas vezes quanto possível neste filme revoltante com espancamentos, lacerações de pele, estupro anal e abuso verbal gráfico - tudo isso completamente implausível e incluído aparentemente apenas para transmitir uma sensação de seu estado terrivelmente degradado e oferecer aos espectadores masculinos um surpreendentemente clichê fantasia sexual sentimental do tart-com-um-coração.Ainda - eu assisti-lo até o fim, altura em que eu estava realmente a rir em voz alta como Shues prostituta rua difícil picada cenouras na cozinha wanly, pateticamente sorridente enquanto Cage - todos os olhos estalando e tremendo como um homem operando uma perfuratriz num terremoto - fez uma careta e assaltou a meia hora final ...\",\"neg\"\n",
        "\"14\",\"A big disappointment for what was touted as an incredible film. Incredibly bad. Very pretentious. It would be nice if just once someone would create a high profile role for a young woman that was not a prostitute. We dont really learn anything about this character, except that he seems to be a hopeless alcoholic. We dont know why. Nicholas Cage turns in an excellent performance as usual, but I feel that this role and this script let him down. And how, after not being able to perform for the whole film, can he have an erection on his deathbed? Really terrible and I felt like I needed a bath.\",\"Uma grande decepção para o que foi apresentado como um filme incrível. Incrivelmente ruim. Muito pretensioso. Seria bom se apenas uma vez alguém criasse um papel importante para uma jovem que não fosse uma prostituta. Nós realmente não aprendemos nada sobre esse personagem, exceto que ele parece ser um alcoólatra sem esperança. Nós não sabemos porque. Nicholas Cage faz um excelente desempenho como sempre, mas eu sinto que esse papel e esse roteiro o decepcionaram. E como, depois de não poder se apresentar para o filme todo, ele pode ter uma ereção em seu leito de morte? Realmente terrível e eu senti que precisava de um banho.\",\"neg\"\n",
        "\"15\",\"This film is absolutely appalling and awful. Its not low budget, its a no budget film that makes Ed Woods movies look like art. The acting is abysmal but sets and props are worse then anything I have ever seen. An ordinary subway train is used to transport people to the evil zone of killer mutants, Woddy Strode has one bullet and the fight scenes are shot in a disused gravel pit. There is sadism as you would expect from an 80s Italian video nasty. No talent was used to make this film. And the female love interest has a huge bhind- Italian taste maybe. Even for 80s Italian standards this film is pretty damn awful but I guess it came out at a time when there werent so many films available on video or viewers werent really discerning. This piece of crap has no entertainment value whatsoever and its not even funny, just boring and extremely cheap. Its actually and insult to the most stupid audience. I just wonder how on earth an actor like Woody Strode ended up ia a turkey like this?\",\"Este filme é absolutamente terrível e horrível. Não é um orçamento baixo, é um filme sem orçamento que faz com que os filmes de Ed Woods pareçam arte. A atuação é péssima, mas sets e adereços são piores do que qualquer coisa que eu já vi. Um trem de metrô comum é usado para transportar pessoas para a zona do mal de mutantes assassinos, Woddy Strode tem uma bala e as cenas de luta são disparadas em um poço de cascalho em desuso. Há sadismo como você esperaria de um vídeo italiano dos anos 80 desagradável. Nenhum talento foi usado para fazer este filme. E o interesse amoroso do sexo feminino tem um enorme sabor bunda- italiano talvez. Mesmo para os padrões italianos dos anos 80, esse filme é muito ruim, mas eu acho que foi lançado em um momento em que não havia tantos filmes disponíveis em vídeo ou os espectadores não estavam muito perspicazes. Este pedaço de porcaria não tem qualquer valor de entretenimento e nem sequer é engraçado, apenas chato e extremamente barato. É realmente e insultar o público mais estúpido. Eu só me pergunto como na terra um ator como Woody Strode acabou em um peru como este?\",\"neg\"\n",
        "\"16\",\"Heres a decidedly average Italian post apocalyptic take on the hunting/killing humans for sport theme ala The Most Dangerous Game, Turkey Shoot, Gymkata and The Running Man.Certainly the film reviewed here is nowhere near as much fun as the other listed entries and is furthermore dragged down by poor voice over work, generally bland action sequences, a number of entirely tasteless scenes such as a prolonged rape sequence and some truly stupid and illogical points throughout.Take for example towards the end of the film, when our hero manages to infiltrate the compound of the villains. He initially kills a sentry and leaves him in his jeep. Upon discovery of the said corpse, the villains response? bearing in mind that our hero has come to brutally murder them all Â? They resolve to wait until the next morning to look for the culprit !!!!!!!!!!However, I suppose to be fair the film remains nonetheless about watchable if you can suspend your disbelief during such stupid scenes and does benefit immensely by the presence of the always excellent Woody Strode even if his screen time is very limitedNot a classic by any stretch of the imagination but still just about worthy of a watch for Italian B-Movie enthusiasts.\",\"Heres um decididamente médio post italiano apocalíptico assumir a caça / matar seres humanos para o tema do esporte ala The Most Dangerous Game, Turkey Shoot, Gymkata e The Running Man.Certainly o filme revisto aqui é longe de ser tão divertido quanto as outras entradas listadas e é Além disso, arrastado para baixo por voz pobre sobre o trabalho, seqüências de ação geralmente branda, um número de cenas totalmente sem gosto, como uma seqüência prolongada de estupro e alguns pontos verdadeiramente estúpidos e ilógicos por toda parte.Tome, por exemplo, no final do filme, quando o nosso herói consegue infiltrar o composto dos vilões. Ele inicialmente mata um sentinela e deixa-o em seu jipe. Após a descoberta do dito cadáver, a resposta dos vilões? tendo em conta que o nosso herói chegou a assassinar todos eles brutalmente? Eles resolvem esperar até a manhã seguinte para procurar o culpado !!!!!!!!!! No entanto, eu suponho que seja justo o filme permanece, no entanto, sobre assistível se você pode suspender sua descrença durante tais cenas estúpidas e se beneficiar imensamente pela presença do sempre excelente Woody Strode, mesmo que seu tempo na tela seja muito limitado. Não é um clássico por qualquer extensão da imaginação, mas ainda assim merecedor de um relógio para os entusiastas italianos do B-Movie.\",\"neg\"\n",
        "\"17\",\"At the bottom end of the apocalypse movie scale is this piece of pish called The Final Executioner.. at least where I come from. A bloke is trained by an ex-cop to seek vengeance on those that killed his woman and friends in cold blood.. and thats about it. Lots of fake explosions and repetitive shootings ensue. Has one of the weirdest array of costumes Ive seen in a film for a while, and a massive fortress which is apparently only run by 7 people. GREAT job on the dubbing too guys! Best moment: when our hero loses a swordfight and is about to be skewered through the neck, he just gets out his gun and BANG! Why not do that earlier? Its a mystery. As is why anyone would want to sit through this in the first place. Im still puzzling over that one myself now.. 2/10\",\"Na parte inferior da escala de filmes do apocalipse está este pedaço de pish chamado The Final Executioner .. pelo menos de onde eu venho. Um cara é treinado por um ex-policial para se vingar daqueles que mataram sua mulher e amigos a sangue frio ... e é isso. Muitas explosões falsas e tiroteios repetitivos acontecem. Tem um dos trajes mais estranhos que eu já vi em um filme por um tempo, e uma enorme fortaleza que aparentemente é dirigida por apenas 7 pessoas. Ótimo trabalho na dublagem também galera! Melhor momento: quando nosso herói perde uma luta de espadas e está prestes a ser espetado no pescoço, ele apenas pega sua arma e BANG! Por que não fazer isso antes? É um mistério. É por isso que alguém iria querer sentar com isso em primeiro lugar. Eu ainda estou intrigado com isso agora .. 2/10\",\"neg\"\n",
        "\"18\",\"Earth has been destroyed in a nuclear holocaust. Well, parts of the Earth, because somewhere in Italy, a band of purebred survivors--those without radioactive contamination--are holed up in a massive mansion surrounded by lush grounds, waiting for the next opportunity to go hunting for those with polluted blood. The Final Executioner is the story of one of their would be victims, Alan William Mang, who looks, not surprisingly, a lot like Kurt Russell, and his efforts to take down the legally sanctioned hunters, who are led by Edra Marina Costa and Erasmus Harrison Muller Jr. . Alan has been trained to kill by former NYPD cop Sam Woody Strode who mostly hangs around giving his pupil moral support and mooching for tinned meat. Strode is by far the best thing about the film, though he doesnt look at all well and only appears for about a third of the running time. As for the story, its a blending of elements from better films and stories, including Ten Little Indians, The Most Dangerous Game, and Escape From New York. The Final Executioner moves along at a fair pace and provides reasonable entertainment for less discriminate action fans.\",\"A terra foi destruída em um holocausto nuclear. Bem, partes da Terra, porque em algum lugar na Itália, um bando de sobreviventes de raça pura - aqueles sem contaminação radioativa - estão escondidos em uma enorme mansão cercada por jardins exuberantes, esperando pela próxima oportunidade de caçar aqueles com sangue poluído. . The Final Executioner é a história de um deles seria vítima, Alan William Mang, que parece, não surpreendentemente, muito parecido com Kurt Russell, e seus esforços para derrubar os caçadores legalmente sancionados, que são liderados por Edra Marina Costa e Erasmus. Harrison Muller Jr. Alan foi treinado para matar pelo ex-policial da NYPD, Sam Woody Strode, que fica mais tempo dando apoio moral a seus pupilos e dando carne enlatada. Strode é de longe a melhor coisa sobre o filme, embora ele não pareça muito bem e só apareça por cerca de um terço do tempo de execução. Quanto à história, é uma mistura de elementos de melhores filmes e histórias, incluindo Dez Pequenos Índios, The Most Dangerous Game e Escape From New York. O executor final se movimenta a um ritmo razoável e oferece entretenimento razoável para os fãs de ação menos discriminadores.\",\"neg\"\n",
        "\"19\",\"Many people are standing in front of the house n some women are crying... Men standing in close groups and speaking in hushed up tone... a couple of guys come in and they are discussing how sexy the daughter might look today... soon u will know someone in the house has died... The dead persons wife is worried about preparing food for so many people, her friend sitting beside her gives an idea of making the matters easy by preparing simple roti sabji... One of the dead persons son is speaking with someone over the mobile, Daughter is busy with her makeup... her mother suggests her to wear salwar kameej, but the daughter is more interested in looking good when so many people will be visiting their house and hence prefers jeans and T shirt over salwar kameez... another son asks her mom to finish all the kriyas and also indicates to her that he should not be expected to come early from the office... Then the camera slowly focuses on the dead person... the white cloth covering the face is displaced slightly due to the wind, revealing the face ... Its Anupam Kher... suddenly alarm rings and he gets up from the bed... Is it his dream or a flash back? U wont get an answer until the end of the movie...Well, This is wat comedy is for the director Dibakar Banerjee!!!!! Later u find out this scene has nothing to do with the actual movie and hence making everything obvious that the still described earlier was a dream. Is this a film comedy? Well it is supposed to belong to that category... But it actually does not!!! there is nothing that can be remotely associated with comedy in the movie!!! More over the director gives the message that no one will get justice from Police!!! so everyone must cheat the cheats!!!! or forget about Justice!!!! Music by Bapi-Tutul & Dhruv Dhalla is OK... Nothing much to tell about other sectors... Bad script destroys everything... not even Anupam Khers performance succeeds in making it at least a paisa vasool...\",\"Muitas pessoas estão em pé na frente da casa n algumas mulheres estão chorando ... Homens de pé em grupos próximos e falando em tom abafado ... um casal de caras entrar e eles estão discutindo o quão sexy a filha pode parecer hoje .. em breve você vai saber que alguém na casa morreu ... A esposa morta está preocupada em preparar comida para tantas pessoas, a amiga sentada ao lado dela dá uma idéia de facilitar as coisas preparando simples roti sabji ... do filho de pessoas mortas está falando com alguém sobre o celular, Filha está ocupada com sua maquiagem ... sua mãe sugere que ela use kameej, mas a filha está mais interessada em parecer bem quando tantas pessoas estarão visitando sua casa e por isso prefere jeans e camiseta sobre salwar kameez ... outro filho pede que sua mãe termine todos os kriyas e também indica a ela que ele não deve vir cedo do escritório ... Então a câmera foca lentamente os mortos pessoa ... o pano branco cobrindo o rosto é d é ligeiramente deslocado devido ao vento, revelando o rosto ... Sua Anupam Kher ... de repente, o alarme toca e ele se levanta da cama ... É seu sonho ou um flashback? U não vai ter uma resposta até o final do filme ... Bem, isso é comédia de wat é para o diretor Dibakar Banerjee !!!!! Mais tarde, você descobre que esta cena não tem nada a ver com o filme real e, portanto, tornar tudo óbvio que o ainda descrito anteriormente era um sonho. Isto é uma comédia de cinema? Bem, é suposto que pertence a essa categoria ... Mas na verdade não faz !!! não há nada que possa ser remotamente associado à comédia no filme !!! Mais sobre o diretor dá a mensagem de que ninguém vai conseguir justiça da polícia !!! então todos devem enganar as fraudes !!!! ou esquecer a justiça !!!! Música de Bapi-Tutul e Dhruv Dhalla é OK ... Nada muito a dizer sobre outros setores ... Roteiro ruim destrói tudo ... nem mesmo o desempenho do Anupam Khers consegue fazer com que pelo menos um vasool paisa ...\",\"neg\"\n",
        "\"20\",\"New York family is the last in their neighborhood to get a television set, which nearly ruins David Nivens marriage to Mitzi Gaynor. Bedroom comedy that rarely ventures into the bedroomand nothing sexy happens there anyway. Gaynor as an actress has about as much range as an oven--she turns on, she turns off. Films sole compensation is a supporting performance by perky Patty Duke, pre-\"\"Miracle Worker\"\", as Nivens daughter. Shes delightful; \"\"Happy Anniversary\"\" is not.  from\",\"A família de Nova York é a última em seu bairro a conseguir um aparelho de televisão, o que quase arruína o casamento de David Nivens com Mitzi Gaynor. Comédia de quarto que raramente arrisca no bedroomand nada sexy acontece lá de qualquer maneira. Gaynor como atriz tem tanto alcance quanto um forno - ela liga, desliga. A única compensação dos filmes é uma performance de apoio da empolgada Patty Duke, pré- \"\"Miracle Worker\"\", como filha de Nivens. Ela é deliciosa; \"\"Feliz Aniversário\"\" não é. a partir de\",\"neg\"\n",
        "\"21\",\"The best thing about \"\"The Prey\"\" is the tag line...\"\"Its not human and its got an axe\"\"! The movie itself is a padded stinkaroo....endless insect and wildlife shots make the viewer wanna die! No slasher fan will like this garbage.....Watch \"\"Friday the 13th\"\" again and burn any copy of this film you find! It also rates as one of the 25 worst films ever made!\",\"A melhor coisa sobre \"\"The Prey\"\" é o slogan ... \"\"Não é humano e tem um machado\"\"! O filme em si é um stinkaroo acolchoado ... intermináveis ​​fotos de insetos e vida selvagem fazem o espectador querer morrer! Nenhum fã de slasher vai gostar desse lixo ..... Assista \"\"Friday the 13th\"\" novamente e grave qualquer cópia deste filme que você encontrar! Também é considerado um dos 25 piores filmes já feitos!\",\"neg\"\n",
        "\"22\",\"This is truly, without exaggerating, one of the worst Slasher movies ever made. I know, it came out in the 80s following a tendency started by \"\"Friday the 13th\"\". \"\"The Prey\"\" copies the fore-mentioned movie in many aspects. The woods setting, the killer, the dumb teens, the gore, etc.But \"\"The Prey\"\" is as bad as you might expect. I didnt even remember about it if it wasnt for coincidence.Well, the killer is in fact human so dont expect a supernatural killer in the likes of Jason. The situations rather boring and lack of tension, gore, violence, etc. It just does not works for a slasher flick.The acting is simply horrid. The score is horrible! a combination of boring instruments with cheesy 80s tunes?! I wont even mention the technical aspects of the movie because believe me, it seems that it cost only 20 dollars.Please avoid this one like the plague. Its one of the worst movies Ive ever seen, and thats something to say. Thank God it seems to have vanished from earth.\",\"Isto é verdadeiramente, sem exagerar, um dos piores filmes de Slasher já feitos. Eu sei, saiu nos anos 80 seguindo uma tendência iniciada por \"\"Friday the 13th\"\". \"\"The Prey\"\" copia o filme mencionado em vários aspectos. O cenário das florestas, o assassino, os adolescentes burros, o sangue, etc. Mas \"\"A Presa\"\" é tão ruim quanto você poderia esperar. Eu nem me lembro sobre isso, se não fosse por coincidência. Bem, o assassino é de fato humano, então não espere um assassino sobrenatural nos gostos de Jason. As situações são bastante chatas e falta de tensão, sangue, violência, etc. Ele simplesmente não funciona para um filme de terror. A atuação é simplesmente horrível. A pontuação é horrível! uma combinação de instrumentos chatos com melodias 80s de queijo ?! Eu nem vou mencionar os aspectos técnicos do filme, porque acredite em mim, parece que custou apenas 20 dólares.Por favor, evite esse como a peste. É um dos piores filmes que eu já vi, e isso é algo a dizer. Graças a Deus parece ter desaparecido da terra.\",\"neg\"\n",
        "\"23\",\"Im a huge fan of both Emily Watson Breaking The Waves and Tom Wilkinson Normal and was amused to see them upstaged by Rupert Everett Dellamorte Dellamore in this shockingly rather minor movie that had all the ingredients to be so much more. The too brief scenes in which he portrays a languid, infinitely entitled, worthless son of a rich Lord are spot-on and entertaining. But for a love triangle there was remarkably little chemistry to speak of between anyone. The music was annoyingly movie-of-the-week quality, and the voice-over jarring and totally unnecessary. Clearly the work of a first-time director with a small budget who either lacked or didnt sufficiently heed good advice. Too bad.I can appreciate how the people you kind of hate at the beginning are the ones you kind of like at the end, and vice-versa, so there is some sort of character arc, at least in terms of perception. For example, Watsons character, while refreshingly honest to her husband about her feelings for another man, began to grate on me near the end, particularly when she announced to her husband that she simply had absolutely no control over her actions, and later when she simply declared that she would be moving back into their marital flat, with no asking of permission, no apologies offered. And I went from disliking Wilkinsons control freak / moral relativist character to sort of understanding him and not really wanting him to change unlike his wife.This movie awkwardly morphed from a whodunit to a \"\"Love Story\"\" or \"\"Steel Magnolias\"\" illness drama without sufficiently informing me of the fact, so I was left distractedly guessing what the next plot twist might be long after they had all been revealed Was it the Lord driving the car? The Lords dog?. The scene where the Lord visits Wilkinson and relates how brave Watson is, the bestest nurse any dying boyfriend could ever ask for, Florence Nightingale incarnate, etc. was OK until he started over-the-top sobbing like a baby. Good God! If you ask me shes just another flitty rich person with way too much time on her hands, and so she drives her hard working, well providing spouse crazy with unnecessary drama. Her screwing around was just another way to occupy her empty life; the dying guy thing was an added bonus for her as it somehow made her previous actions completely above reproach.Look, everyone would have been better off if Wilkinson had just left her for his secretary, who seemed to appreciate him for who he was. Instead he acted like an abused dog, his open craving for his wifes affection increasing with every kick she gives him. Im not anti PC or anything, it just didnt ring true, even after taking into account all of the harsh realities of middle age we all tend to face. The ending for me was and not the directors intention I am certain depressing. The movie spent the last 80 minutes convincing me that these two people just dont belong together, so I found no joy in the promise of their relationship continuing. Im not above wanting my emotions manipulated by a story, it just has to be somewhat plausible and not hackneyed. Is that asking too much?My score: 4/10\",\"Sou um grande fã de Emily Watson, Breaking The Waves e Tom Wilkinson Normal, e me diverti ao vê-los sendo ofuscados por Rupert Everett Dellamorte Dellamore neste filme chocantemente pequeno que teve todos os ingredientes para ser muito mais. As cenas muito breves em que ele retrata um filho lânguido, infinitamente direito, sem valor, de um Lorde rico são autênticas e divertidas. Mas para um triângulo amoroso havia notavelmente pouca química para falar entre qualquer um. A música era irritantemente a qualidade do filme da semana, e a narração estridente e totalmente desnecessária. Claramente o trabalho de um diretor de primeira viagem com um orçamento pequeno que ou não tinha ou não prestava bastante atenção a bons conselhos. Que pena. Eu posso apreciar como as pessoas que você odeia no começo são aquelas que você gosta no final, e vice-versa, então existe algum tipo de personagem, pelo menos em termos de percepção. Por exemplo, a personagem de Watson, embora refrescantemente honesta para o marido sobre seus sentimentos por outro homem, começou a me irritar no final, particularmente quando anunciou ao marido que simplesmente não tinha absolutamente nenhum controle sobre suas ações e, mais tarde, quando simplesmente declarou que voltaria a seu apartamento civil, sem pedir permissão, sem pedir desculpas. E eu passei de não gostar de Wilkinsons control freak / moral relativist character para o entender e não querer que ele mudasse ao contrário de sua esposa.Este filme desajeitadamente transformou-se de um whodunit para um drama de doença \"\"Love Story\"\" ou \"\"Steel Magnolias\"\" sem suficientemente me informando do fato, então fiquei distraidamente adivinhando qual seria a próxima reviravolta na trama depois de todos terem sido revelados. Era o Senhor dirigindo o carro? O cão dos lordes? A cena em que o Senhor visita Wilkinson e conta como o bravo Watson é, a melhor enfermeira que qualquer namorado que morre poderia pedir, Florence Nightingale encarnada, etc., estava bem até começar a soluçar como um bebê. Bom Deus! Se você me perguntar, ela é apenas mais uma pessoa rica e enlouquecida com muito tempo em suas mãos, e por isso ela dirige seu trabalho árduo, proporcionando ao cônjuge uma loucura desnecessária. Ela transando era apenas outra maneira de ocupar sua vida vazia; a coisa moribunda era um bônus adicional para ela, pois de alguma forma ela tornava suas ações anteriores completamente acima de qualquer reprovação. Olha, todo mundo teria ficado melhor se Wilkinson tivesse acabado de deixá-la por sua secretária, que parecia apreciá-lo por quem ele era. Em vez disso, ele agiu como um cão abusado, seu desejo de abrir o afeto da esposa aumentando a cada pontapé que ela lhe dá. Eu não sou anti PC ou qualquer coisa, só não soou verdadeiro, mesmo depois de levar em conta todas as duras realidades da meia-idade, todos nós tendemos a enfrentar. O final para mim foi e não a intenção dos diretores, estou certo de deprimente. O filme passou os últimos 80 minutos me convencendo de que essas duas pessoas simplesmente não pertencem a elas, então não encontrei nenhuma alegria na promessa de seu relacionamento continuar. Eu não estou acima de querer minhas emoções manipuladas por uma história, isso só tem que ser um pouco plausível e não banal. Isso é pedir demais? Minha pontuação: 4/10\",\"neg\"\n",
        "\"24\",\"Sure, most of the slasher films of the 1980s were not worth thecelluloid they were filmed on, but this video nightmare may well bethe dullest produced.Six horny pot smoking students decide to go camping. Of course,and you know this already, they begin getting killed one by one by amysterious stranger. The climax has a hunky forest ranger trying toget to the teens in time before the last cute girl becomes buzzardbait.John Carl Buechler, my least favorite B-movie guy, did the lousymakeup effects here. The cast features Carel Struycken, of \"\"TheWitches of Eastwick\"\" and the Addams family movies. Sadly, hedoes not pop up until the very end of the film, and is covered inburn makeup, rendering him unrecognizable. Steve Bond anyoneremember him? is here in an early role as a victim.Browns direction, and the script he cowrote, both smell like thepresents brown bears leave in the woods. He pads the film withso much stock wilderness footage, I thought I accidentally rented aspecial episode of Mutual of Omahas Wild Kingdom. Much of thecast sits around the campfire and eats, then walk, and sit and eatagain. The forest ranger is involved in the strangest scene ever putin a slasher film: he tells a joke about a wide mouthed frog to ababy deer. Jackie Coogan, who must have forgot he once workedwith the legends of silent cinema, has two scenes, and is involvedin the second strangest scene ever put in a slasher film: he andthe hunky forest ranger have a conversation about cucumber andcream cheese sandwiches on oatmeal bread...yeah.There is not one minute of suspense here. The killer, a forest firesurvivor looking for a mate, watches the students from behindtrees. We know it is the killer because the film makers havedubbed in a heart beat sound effect that helpfully serves to wakethe viewer up every few minutes. Skip this pile of pine sap and rent\"\"Halloween,\"\" instead.This is rated R for physical violence, mild gun violence, gore,some profanity, brief female nudity, mild sexual content, sexualreferences, and drug abuse.\",\"Claro, a maioria dos filmes de terror da década de 1980 não valeu a pena que eles foram filmados, mas esse pesadelo em vídeo pode muito bem ser o mais tedioso produzido. Seis garotos que fumam maconha decidem ir acampar. Claro, e você já sabe disso, eles começam a ser mortos um por um por um estranho. O clímax tem um guarda-florestal bonitão tentando acompanhar os adolescentes a tempo, antes que a última garota fofa se torne buzzardbait. John Carl Buechler, meu cara favorito de filme B, fez os péssimos efeitos aqui. O elenco conta com Carel Struycken, de \"\"The Witches of Eastwick\"\" e os filmes da família Addams. Infelizmente, ele não aparece até o final do filme, e é coberto por maquiagem queimada, tornando-o irreconhecível. Steve Bond não se lembra dele? está aqui em um papel adiantado como uma vítima. A direção das bordas, e o roteiro que cowrote, ambos cheiram como os ursos marrons atuais saem na floresta. Ele acompanha o filme com tantas filmagens de animais selvagens, eu pensei que eu acidentalmente aluguei um episódio especial de Mutual of Omahas Wild Kingdom. Grande parte do thecast senta-se ao redor da fogueira e come, depois anda, senta e come novamente. O guarda florestal está envolvido na cena mais estranha que já fez um filme de terror: ele conta uma piada sobre um sapo de boca larga para um cervo abadre. Jackie Coogan, que deve ter esquecido que trabalhou uma vez com as lendas do cinema mudo, tem duas cenas, e está envolvido na segunda cena mais estranha já feita em um filme de terror: ele e o bonitão florestal conversam sobre sanduíches de queijo e pepino com pão de aveia ... sim. Não há um minuto de suspense aqui. O assassino, um sobrevivente do incêndio florestal à procura de um companheiro, observa os alunos de trás das árvores. Sabemos que é o assassino porque os cineastas tiveram um efeito de batimento cardíaco que serve para despertar o espectador a cada poucos minutos. Pule esta pilha de seiva de pinho e alugue o \"\"Halloween\"\", em vez disso.Este é classificado como R por violência física, violência moderada, violência, algumas palavrões, nudez breve, conteúdo sexual moderado, referências sexuais e abuso de drogas.\",\"neg\"\n",
        "\"25\",\"I think that would have been a more appropriate title for this film, since it is padded to hell and back with stock footage of various bugs and animals. I recently found The Prey in its original VHS big box form and was very excited. I just LOVE finding old slasher films on VHS because the cover artwork is fantastic. Usually though, it turns out that the film itself is less than fantastic. The Prey is one of those films.To be fair, it started off OK, with the killer stalking the clichÃ© teenagers in the woods. The heartbeat sounds used are a great effect that make you tense as you watch. This film is basically a big fat clichÃ©, and when the \"\"campfire stories\"\" section rolls in, the film takes a new direction and spends almost half of the running time on the back-story of the killer. I actually thought this was quite an original idea. However, the back-story ends abruptly and shows us some stock-footage of a burning woodland the lack of budget really starts to show now. After this, we are returned to the dumb teenagers being picked off in the woods. The killer himself isnt shown until the end, which is a shame because he actually makes an effective looking killer. Sort of like Cropsy from The Burning, but better. As for gore, there isnt too much, although theres an OK face squishing moment at the end. Overall, I wouldnt recommend this film to anyone other than slasher completists - it really is a big mess.\",\"Eu acho que teria sido um título mais apropriado para este filme, já que ele está repleto de cenas de vários insetos e animais. Eu encontrei recentemente a presa em sua forma original de caixa grande VHS e estava muito animado. Eu adoro encontrar filmes de terror em VHS porque a capa é fantástica. Normalmente, no entanto, o filme em si é menos que fantástico. A presa é um desses filmes. Para ser justo, tudo começou bem, com o assassino perseguindo os adolescentes clichê na floresta. Os sons de batimentos cardíacos usados ​​são um ótimo efeito que deixa você tenso enquanto assiste. Este filme é basicamente um grande clichê gordo, e quando a seção de \"\"histórias de fogueira\"\" entra, o filme toma uma nova direção e gasta quase metade do tempo de corrida na história do assassino. Eu realmente pensei que esta era uma ideia bastante original. No entanto, a história de fundo termina abruptamente e nos mostra algumas cenas de estoque de uma floresta em chamas, a falta de orçamento realmente começa a mostrar agora. Depois disso, somos devolvidos aos adolescentes burros sendo apanhados na floresta. O assassino não é mostrado até o final, o que é uma pena, porque ele realmente faz um assassino eficaz. Mais ou menos como Cropsy from The Burning, mas melhor. Quanto ao sangue, não há muito, embora haja um momento de esmagamento da face OK no final. No geral, eu não recomendaria esse filme para ninguém além de especialistas em slasher - é realmente uma grande bagunça.\",\"neg\"\n",
        "\"26\",\"1980 was certainly a year for bad backwoods slasher movies. \"\"Friday The 13th\"\" and \"\"The Burning\"\" may have been the best ones but there were like always a couple of stinkers not far behind like \"\"Dont Go Into The Woods Alone\"\" and this one. But in all fairness \"\"The Prey\"\" is nowhere near as bad as \"\"Dont Go Into The Woods\"\" but its still not great either. One thing is that its just boring and acting isnt very good but much better than \"\"DGITW\"\" and this movie actually has some attractive looking females to look at, all three of the female leads were stunning. One thing what is up with all that pointless wildlife footage it just seemed pointless and it looked as the director used that to just used that to fill up some time space.So, what was there to like about this movie? Well, there were a few laugh out loud cheese moments- I couldnt contain a fit of giggles when the final girl did a bizarre type of backwards moon-walk to get away from the kille and there were a few good kill scenes- my favourites being the girl suffocated to death with the sleeping bag; and the phoney looking.All in all The Prey is dumb, boring and the killer I didnt find scary at all, this movie could have been a whole lot better.\",\"1980 foi certamente um ano para maus filmes de terror. \"\"Friday The 13th\"\" e \"\"The Burning\"\" podem ter sido os melhores, mas sempre houve alguns fãs que não ficaram muito atrás, como \"\"Dont Go Into The Woods Alone\"\" e esse. Mas com toda a justiça \"\"The Prey\"\" está longe de ser tão ruim quanto \"\"Não vá para o bosque\"\", mas ainda não é grande. Uma coisa é que é apenas chato e agindo não é muito bom, mas muito melhor do que \"\"DGITW\"\" e este filme realmente tem algumas mulheres atraentes olhar para, todos os três clientes do sexo feminino foram impressionantes. Uma coisa, o que está acontecendo com toda aquela insensata vida selvagem, parecia inútil e parecia que o diretor usava isso para usar isso para preencher um espaço de tempo. Então, o que havia para gostar desse filme? Bem, houve algumas gargalhadas em momentos de queijo - eu não pude conter um ataque de risos quando a garota final fez um tipo bizarro de caminhar pela lua para se afastar do kille e havia algumas boas cenas de matança - minhas favoritas sendo a garota sufocou até a morte com o saco de dormir; e o olhar falso.Em tudo, The Prey é burro, chato e assassino que eu não achei assustador, esse filme poderia ter sido muito melhor.\",\"neg\"\n",
        "\"27\",\"Everything everyone has said already pretty much rings true when it comes to The Prey. Endless nature footage, bad acting - Aside from these elements, this is a watchable film for slasher fans that in some cases, is considered a cult classic.Jackson Bostwick and Jackie Coogan play pretty well off each other. Theres also a three minute banjo solo that shows off Bostwicks skill behind the instrument. Not too bad if I do say so myself.The last ten minutes of the film are its saving grace. The ending still haunts me to this day. This can also sport a short lived plus in that an early John Carl Bucheler does the special effects. Some may know him from films like Troll and Friday the 13th part 7 - He directed both these films All in all, this isnt a movie everyone will find something redeeming in. In fact, on a Hollywood level, this can rank right up there with one of the businesses most amateurish efforts, but for that handful yet very loyal of slasher movie fans in the world, even the bad acting and atrocious nature footage can be forgiven.\",\"Tudo o que todo mundo já disse é verdade quando se trata de The Prey. Filmagens da natureza sem fim, atuação ruim - Além desses elementos, este é um filme assistível para fãs de slasher que, em alguns casos, é considerado um clássico cult. Jackson Bostwick e Jackie Coogan jogam muito bem um com o outro. Há também um solo de banjo de três minutos que mostra a habilidade de Bostwicks por trás do instrumento. Não é muito ruim se eu disser isso mesmo. Os últimos dez minutos do filme são sua graça salvadora. O final ainda me persegue até hoje. Isso também pode durar um pouco mais, já que um dos primeiros John Carl Bucheler faz os efeitos especiais. Alguns podem conhecê-lo de filmes como Troll e sexta-feira 13 parte 7 - Ele dirigiu ambos os filmes Apesar de tudo, este não é um filme todo mundo vai encontrar algo redentora dentro De fato, em um nível de Hollywood, isso pode classificar lá em cima com uma das empresas mais amadores esforços, mas para aquele punhado ainda muito leal de fãs de filmes de terror no mundo, até mesmo a má atuação e imagens de natureza atroz podem ser perdoados.\",\"neg\"\n",
        "\"28\",\"Uhhh ... so, did they even have writers for this? Maybe Im picky, but I like a little dialog with my movies. And, as far as slasher films go, just a sliver of character development will suffice.Unfortunately, The Prey provides neitherÂ?and if you think Im being hyperbolic, youll just have to see it for yourself. Scene after scene, we just get actors standing around, looking forlorn and awkward, abandoned by any sense of a script. Outside of calling out each others names when they get separated in the woods natch, the only instances where these people say something substantive is when one character explains the constellation Orion clearly plagiarized from Funk & Wagnalls; scintillating slasher fare, no? and another rehashes an old campfire tale that doesnt even have anything to do with the plot wait, what IS the plot? At other times, The Prey actually has the gall to film its characters with the boom mic just far away enough so that we cant exactly hear what theyre saying. So we get entire scenes wherein the actors are murmuring! Deliberately! Seriously, Ive seen more dialog in a silent film. Its as if the filmmakers sat down at a bar somewhere in Rancho Cucamonga in the heyday of the 80s slasher craze and one looked at the other and said, \"\"Hey, I gotta really sweet idea for a gory decapitation gag. Lets somehow pad an entire feature around it.\"\" And ... well, they did. To be fair, The Prey probably had some sort of writer on board. I mean, somebody had to jot down the scene sequence and label the dailies. However, I am fully convinced that this film did not have an editor of any kind whatsoever. There are glaring pauses, boring tableaux, and zero sense of pacing throughout. The filmmakers dont have anything else in the \"\"script\"\" to film, so they fill out the running time with exhaustive taxonomies of the flora and fauna that inhabit the forest in which our wild and crazy teens are getting sliced and diced. These critters are all filmed in straightforward, noontime daylight in a completely reserved fashion and with no attempt at atmospheric photography. If it feels like a science film, thats because it is. Im pretty sure this is all nature show stock footageÂ?all thats missing is a stuffy narration from some National Geographic alderman.More exciting footage that was graciously spared from the cutting room floor: a scene in which two men discuss cucumber and cream cheese sandwiches, and another scene wherein a supporting character strums away on a banjo for what feels like an entire minute-and-a- half! A minute-and-a-half! Thats a lot of banjoing to commit to celluloid to begin with, let alone insert into the final cut of the film! Way to go, guys! Brevity and concision are the real victims of this slaughterfest.Admittedly, the film picks up quite a bit of steam comparatively in the last 25 minutes, into which much of the carnage is condensed and where a rip-off of BÃ©la BartÃ³ks \"\"Music for Strings, Percussion and Celesta\"\" cuts in. Vaudeville great Jackie Coogan makes a fun appearance as a tubby, bumbly park ranger this was his last role, if you can believe it. And there are some nice gory moments, including a splattery neck tearing and the aforementioned decapitation. The make-up used for the killer Carel Struycken, aka \"\"Lurch\"\" from the Addams Family movies is also quite effective, and makes him look like a strange hybrid of young Jason Voorhees and Freddy Krueger. Plus, if you love wacky, straight-outta-left-field endings, you need to check out how they wrap this puppy up. Youll do a spit take, I promise.Usually, I love films that are on this level of ineptitude, but the first three-quarters of The Prey are just so interminably boring that they pretty much spoil the rest. Overall, this is a largely pallid and tedious affair, and, while it aint all bad, it should really only be seen by debilitated slasher completists. Why do we do this to ourselves, anyway?\",\"Uhhh ... então, eles ainda têm escritores para isso? Talvez eu seja exigente, mas gosto de um pequeno diálogo com meus filmes. E, no que diz respeito a filmes slasher, apenas um pouco de desenvolvimento de personagem será suficiente. Infelizmente, The Prey não oferece nenhum dos dois e se você acha que eu estou sendo hiperbólico, você apenas terá que ver por si mesmo. Cena após cena, apenas pegamos atores parados, parecendo desamparados e desajeitados, abandonados por qualquer senso de roteiro. Fora de chamar os nomes uns dos outros quando se separam na floresta, os únicos casos em que essas pessoas dizem algo substantivo são quando um personagem explica a constelação de Orion claramente plagiada de Funk & Wagnalls; tarifa slasher cintilante, não? e outro relembra um antigo conto de fogueira que nem tem nada a ver com a trama esperar, qual é o enredo? Em outras ocasiões, The Prey realmente tem a ousadia de filmar seus personagens com o microfone boom bem longe o suficiente para que não possamos ouvir exatamente o que eles estão dizendo. Então, temos cenas inteiras em que os atores estão murmurando! Deliberadamente! Sério, eu vi mais diálogo em um filme mudo. É como se os cineastas sentassem em um bar em algum lugar de Rancho Cucamonga no auge da loucura dos anos 80 e um olhasse para o outro e dissesse: \"\"Ei, eu tenho uma ótima idéia para uma mordaça sangrenta de decapitação. Vamos de alguma forma recurso em torno dele \"\". E bem, eles fizeram. Para ser justo, The Prey provavelmente tinha algum tipo de escritor a bordo. Quero dizer, alguém teve que anotar a sequência da cena e rotular os diários. No entanto, estou totalmente convencido de que este filme não tem um editor de qualquer tipo. Há pausas gritantes, tableaux chatos e zero senso de ritmo por toda parte. Os cineastas não têm mais nada no roteiro para filmar, então eles preenchem o tempo de execução com taxonomias exaustivas da flora e da fauna que habitam a floresta na qual nossos adolescentes loucos e loucos estão sendo fatiados e picados. Estas criaturas são todas filmadas à luz do dia, de forma completamente reservada e sem nenhuma tentativa de fotografar a atmosfera. Se parece um filme de ciência, é porque é. Eu tenho certeza que isso é tudo natureza show metragem? Tudo o que está faltando é uma narração abafada de alguns vereador da National Geographic.More emocionante que foi graciosamente poupado do chão da sala de corte: uma cena em que dois homens discutem pepino e cream cheese sanduíches, e outra cena em que um personagem de apoio se afasta em um banjo pelo que parece um minuto e meio inteiro! Um minuto e meio! Isso é muito banjo para se comprometer com celulóide para começar, muito menos inserir no corte final do filme! Muito bem, pessoal! Brevidade e concisão são as verdadeiras vítimas deste massacre. Admitidamente, o filme pega um pouco de vapor comparativamente nos últimos 25 minutos, no qual grande parte da carnificina é condensada e onde um roubo de Béla Bartóks \"\"Música para Strings, Percussion e Celesta \"\"corta. Vaudeville grande Jackie Coogan faz uma aparência divertida como um ranger parque tubby, bumbly este foi seu último papel, se você pode acreditar. E há alguns bons momentos sangrentos, incluindo um rasgão no pescoço e a decapitação acima mencionada. A maquiagem usada para o assassino Carel Struycken, também conhecido como \"\"Lurch\"\" dos filmes da Família Addams, também é bastante eficaz, e faz com que ele pareça um estranho híbrido do jovem Jason Voorhees e Freddy Krueger. Além disso, se você gosta de finais malucos e retos, você precisa verificar como eles envolvem esse filhote. Você vai fazer um cuspe, eu prometo. Geralmente, eu amo filmes que estão nesse nível de inépcia, mas os primeiros três quartos de The Prey são tão interminavelmente chatos que eles praticamente estragam o resto. No geral, esse é um assunto amplamente pálido e tedioso e, embora não seja ruim, deve ser visto apenas por especialistas em slasher debilitados. Por que fazemos isso para nós mesmos, afinal?\",\"neg\"\n",
        "\"29\",\"Oh yeah, this one is definitely a strong contender to win the questionable award of \"\"worst 80s slasher ever made\"\". \"\"The Prey\"\" has got everything you usually want to avoid in a horror flick: a routine, derivative plot that youve seen a thousand times before and better, insufferable characters and terrible performances, a complete lack of gore and suspense, fuzzy photography and unoriginal locations and Â? most irritating of all Â? the largest amount of pointless padding footage youve ever encountered in your life and thats not an exaggeration but a guarantee!. Apart from the seemingly endless amount of National Geographic stock footage, which Ill expand upon later, this film is shameless enough to include a complete banjo interlude ! and two occasions where characters tell dillydally jokes that arent even remotely funny! The set-up is as rudimentary as it gets, with the intro showing images of a devastating forest fire with OTT voice-over human screams. Fast forward nearly forty years later, when an elderly couple out camping in that same area get axe-whacked by something that breathes heavily off-screen. This ought to be enough information for you to derive that someone survived the fire all these years ago and remained prowling around ever since. Enter three intolerable twenty something couples heading up to the danger zone with exclusively sex on their minds, unaware of course they are sitting ducks for the stalking and panting killer. \"\"The Prey\"\" is an irredeemable boring film. Apparently it was shot in 1978 already, but nobody wanted to distribute it up until 1984 and it isnt too hard to see why. In case you would filter out all the content that is actually relevant, this would only be a short movie with a running time of 30 minutes; possibly even less. Theres an unimaginably large of nature and wildlife footage, sometimes of animals that I think dont even live in that type of area, and they seem to go on forever. The only thing missing, in fact, is the typical National Geographic narration providing educational information regarding the animals habits. Animals in their own natural biotope are undeniably nice to look at, but not in a supposedly vile and cheesy 80s slasher movie, for crying out loud. The last fifteen minutes are finally somewhat worthwhile, with some potent killing sequences and fine make-up effects on the monster who turns out to be Lurch from \"\"The Addams Family\"\" movies, but still silliness overrules Â? the scene with the vultures is too stupid Â? and the final shot is just laugh-out-loud retarded. As mentioned above, \"\"The Prey\"\" easily makes my own personal list of worst 80s slashers, alongside \"\"Appointment with Fear\"\", \"\"Berserker\"\", \"\"Deadly Games\"\", \"\"Dont Go in the Woods\"\", \"\"Hollow Gate\"\", \"\"The Stay Awake\"\" and \"\"Curfew\"\".\",\"Ah, sim, este é definitivamente um forte candidato para ganhar o prêmio questionável de \"\"pior slasher dos anos 80 já feito\"\". \"\"The Prey\"\" tem tudo que você normalmente quer evitar em um filme de terror: uma rotina, uma trama derivada que você já viu milhares de vezes antes e melhores, personagens insuportáveis ​​e performances terríveis, uma completa falta de sangue e suspense, fotografia difusa e não original. localizações e? mais irritante de todos? a maior quantidade de imagens de preenchimento inútil que você já encontrou em sua vida e isso não é um exagero, mas uma garantia !. Além da quantidade aparentemente infinita de imagens da National Geographic, que eu vou expandir mais tarde, este filme é desavergonhado o suficiente para incluir um interlúdio de banjo completo! e duas ocasiões em que os personagens contam piadas que não são nem um pouco engraçadas! A configuração é tão rudimentar quanto possível, com a introdução mostrando imagens de um incêndio florestal devastador com gritos humanos de voz sobre OTT. Avançando quase quarenta anos depois, quando um casal idoso acampando naquela mesma área é atingido por algo que respira pesadamente fora da tela. Isso deve ser informação suficiente para você deduzir que alguém sobreviveu ao fogo todos esses anos atrás e permaneceu rondando desde então. Entra três intoleráveis ​​casais de vinte pessoas que se dirigem para a zona de perigo com exclusivamente sexo em suas mentes, inconsciente, é claro, que eles são patos sentados para o assassino que espreita e ofega. \"\"The Prey\"\" é um filme chato irremediável. Aparentemente já foi filmado em 1978, mas ninguém quis distribuí-lo até 1984 e não é difícil entender por quê. No caso de você filtrar todo o conteúdo relevante, isso seria apenas um filme curto com um tempo de execução de 30 minutos; possivelmente menos ainda. Há uma quantidade inimaginável de cenas da natureza e vida selvagem, às vezes de animais que eu acho que não vivem nesse tipo de área, e eles parecem durar para sempre. A única coisa que falta, na verdade, é a típica narração da National Geographic que fornece informações educacionais sobre os hábitos dos animais. Animais em seu próprio biótopo natural são inegavelmente legais de se ver, mas não em um filme de terror supostamente vil e brega dos anos 80, por chorar em voz alta. Os últimos quinze minutos são finalmente um pouco valiosos, com algumas sequências de matar potentes e efeitos de maquiagem no monstro que acaba por ser Lurch de filmes \"\"The Addams Family\"\", mas ainda assim tolice overrules? a cena com os abutres é muito estúpida? e o tiro final é apenas retardado. Como mencionado acima, \"\"The Prey\"\" facilmente faz a minha própria lista pessoal dos piores slashers dos anos 80, ao lado de \"\"Appointment with Fear\"\", \"\"Berserker\"\", \"\"Jogos Mortais\"\", \"\"Não Vá nos Bosques\"\", \"\"Hollow Gate\"\", \"\"The Fique acordado \"\"e\"\" toque de recolher \"\".\",\"neg\"\n",
        "\"30\",\"Supercraptastic slasher fare, which feels overly long at 80 minutes. Years ago, a bunch of \"\"gypsies\"\" who lived in the caves of a mountain, were burned up in a forest fire. Years later, campers are going missing from the area of the fire. A bunch of horny kids are, of course, en route to this area for a debaucherous camping trip of there own. Despite an ominous welcome from the forest ranger Jackson Bostwick the kids troop up to the mountain any way. Before long, the kids start to get picked off by the monster, who remains unseen to the very end of the movie, probably because the makeup was so embarrassingly bad. No surprises to speak of: they get killed in the exact order that the formula for these movies dictates, leaving the \"\"final girl\"\" to fend for herself, although in a refreshingly downbeat denouement, the final girl ends up imprisoned and impregnated by the monster.The story itself couldnt hold the weight of feature length, so it was padded out by seemingly endless shots of wildlife and insects, which were obviously shot for another film and inserted here haphazardously as a means of making the movie long enough for a video release. On the plus side, the wildlife footage is rather nice. Also among the highlights are Bostwick talking to a baby deer, a decent rock-climbing death sequence, OK gore, and the Great Jackie Coogan in his final film role, as the bumbling local sheriff. This is a far cry from Charlie Chaplin, but it was still nice to see him. This is for slasher completists only.\",\"Receita de slash supercraptástico, que parece excessivamente longa aos 80 minutos. Anos atrás, um bando de \"\"ciganos\"\" que viviam nas cavernas de uma montanha, foram queimados em um incêndio florestal. Anos depois, os campistas desaparecem da área do incêndio. Um bando de crianças com tesão é, naturalmente, a caminho desta área para uma viagem de acampamento debochado de lá próprio. Apesar de uma saudação sinistra do guarda florestal Jackson Bostwick, as crianças chegam à montanha de qualquer jeito. Em pouco tempo, as crianças começam a ser pegas pelo monstro, que permanece invisível até o final do filme, provavelmente porque a maquiagem era tão embaraçosamente ruim. Não há surpresas em falar: elas são mortas na ordem exata que a fórmula para esses filmes dita, deixando a \"\"garota final\"\" para se defender sozinha, embora em um desenlace refrescantemente pessimista, a garota final acabe aprisionada e impregnada pelo monstro. A história em si não poderia ter o peso do comprimento do recurso, então foi preenchida por imagens aparentemente intermináveis ​​de vida selvagem e insetos, que obviamente foram filmadas para outro filme e inseridas aqui como forma de tornar o filme longo o suficiente para um lançamento em vídeo. . No lado positivo, a filmagem da vida selvagem é bastante boa. Entre os destaques estão Bostwick conversando com um filhote de cervo, uma decente seqüência de morte escalando, OK gore, e o Grande Jackie Coogan em seu papel no cinema final, como o xerife local desastrado. Isso está muito longe de Charlie Chaplin, mas ainda assim foi legal vê-lo. Isto é apenas para completistas de slasher.\",\"neg\"\n",
        "'''\n",
        "\n",
        "# Create a StringIO object from the CSV data string\n",
        "csv_io = StringIO(csv_data)\n",
        "\n",
        "# Read the CSV data using pandas.read_csv()\n",
        "df = pd.read_csv(csv_io,usecols=[\"text_pt\",\"sentiment\"])\n",
        "\n",
        "# Print the DataFrame\n",
        "print(df)"
      ],
      "metadata": {
        "colab": {
          "base_uri": "https://localhost:8080/"
        },
        "outputId": "f2d163ac-8856-46bd-9ae4-957371f398f8",
        "id": "HAlxnWSm7-rp"
      },
      "execution_count": 49,
      "outputs": [
        {
          "output_type": "stream",
          "name": "stdout",
          "text": [
            "                                              text_pt sentiment\n",
            "0   Mais uma vez, o Sr. Costner arrumou um filme p...       neg\n",
            "1   Este é um exemplo do motivo pelo qual a maiori...       neg\n",
            "2   Primeiro de tudo eu odeio esses raps imbecis, ...       neg\n",
            "3   Nem mesmo os Beatles puderam escrever músicas ...       neg\n",
            "4   Filmes de fotos de latão não é uma palavra apr...       neg\n",
            "5   Uma coisa engraçada aconteceu comigo enquanto ...       neg\n",
            "6   Este filme de terror alemão tem que ser um dos...       neg\n",
            "7   Sendo um fã de longa data do cinema japonês, e...       neg\n",
            "8   \"Tokyo Eyes\" fala de uma menina japonesa de 17...       neg\n",
            "9   Fazendeiros ricos em Buenos Aires têm uma long...       neg\n",
            "10  Cage interpreta um bêbado e é elogiado pela cr...       neg\n",
            "11  Primeiro de tudo, eu gostaria de dizer que sou...       neg\n",
            "12  Então me diga - que boozer sério bebe a Budwei...       neg\n",
            "13  Uma grande decepção para o que foi apresentado...       neg\n",
            "14  Este filme é absolutamente terrível e horrível...       neg\n",
            "15  Heres um decididamente médio post italiano apo...       neg\n",
            "16  Na parte inferior da escala de filmes do apoca...       neg\n",
            "17  A terra foi destruída em um holocausto nuclear...       neg\n",
            "18  Muitas pessoas estão em pé na frente da casa n...       neg\n",
            "19  A família de Nova York é a última em seu bairr...       neg\n",
            "20  A melhor coisa sobre \"The Prey\" é o slogan ......       neg\n",
            "21  Isto é verdadeiramente, sem exagerar, um dos p...       neg\n",
            "22  Sou um grande fã de Emily Watson, Breaking The...       neg\n",
            "23  Claro, a maioria dos filmes de terror da décad...       neg\n",
            "24  Eu acho que teria sido um título mais apropria...       neg\n",
            "25  1980 foi certamente um ano para maus filmes de...       neg\n",
            "26  Tudo o que todo mundo já disse é verdade quand...       neg\n",
            "27  Uhhh ... então, eles ainda têm escritores para...       neg\n",
            "28  Ah, sim, este é definitivamente um forte candi...       neg\n",
            "29  Receita de slash supercraptástico, que parece ...       neg\n"
          ]
        }
      ]
    },
    {
      "cell_type": "code",
      "metadata": {
        "id": "vrrDclRo7-rt"
      },
      "source": [
        "# Renomeia a coluna text_pt para sentence e sentiment para label\n",
        "df = df.rename(columns={\"text_pt\": \"sentence\", \"sentiment\": \"label\"})"
      ],
      "execution_count": 50,
      "outputs": []
    },
    {
      "cell_type": "code",
      "metadata": {
        "colab": {
          "base_uri": "https://localhost:8080/",
          "height": 206
        },
        "outputId": "09f27651-e636-4226-d166-72d506f5d37e",
        "id": "P_6QEmK77-rt"
      },
      "source": [
        "# Mostra 10 linhas aleatórias\n",
        "df.sample(5)"
      ],
      "execution_count": 51,
      "outputs": [
        {
          "output_type": "execute_result",
          "data": {
            "text/plain": [
              "                                             sentence label\n",
              "0   Mais uma vez, o Sr. Costner arrumou um filme p...   neg\n",
              "6   Este filme de terror alemão tem que ser um dos...   neg\n",
              "7   Sendo um fã de longa data do cinema japonês, e...   neg\n",
              "23  Claro, a maioria dos filmes de terror da décad...   neg\n",
              "21  Isto é verdadeiramente, sem exagerar, um dos p...   neg"
            ],
            "text/html": [
              "\n",
              "  <div id=\"df-dd67ea0a-1da0-41da-a1b7-77ac9a595d7e\">\n",
              "    <div class=\"colab-df-container\">\n",
              "      <div>\n",
              "<style scoped>\n",
              "    .dataframe tbody tr th:only-of-type {\n",
              "        vertical-align: middle;\n",
              "    }\n",
              "\n",
              "    .dataframe tbody tr th {\n",
              "        vertical-align: top;\n",
              "    }\n",
              "\n",
              "    .dataframe thead th {\n",
              "        text-align: right;\n",
              "    }\n",
              "</style>\n",
              "<table border=\"1\" class=\"dataframe\">\n",
              "  <thead>\n",
              "    <tr style=\"text-align: right;\">\n",
              "      <th></th>\n",
              "      <th>sentence</th>\n",
              "      <th>label</th>\n",
              "    </tr>\n",
              "  </thead>\n",
              "  <tbody>\n",
              "    <tr>\n",
              "      <th>0</th>\n",
              "      <td>Mais uma vez, o Sr. Costner arrumou um filme p...</td>\n",
              "      <td>neg</td>\n",
              "    </tr>\n",
              "    <tr>\n",
              "      <th>6</th>\n",
              "      <td>Este filme de terror alemão tem que ser um dos...</td>\n",
              "      <td>neg</td>\n",
              "    </tr>\n",
              "    <tr>\n",
              "      <th>7</th>\n",
              "      <td>Sendo um fã de longa data do cinema japonês, e...</td>\n",
              "      <td>neg</td>\n",
              "    </tr>\n",
              "    <tr>\n",
              "      <th>23</th>\n",
              "      <td>Claro, a maioria dos filmes de terror da décad...</td>\n",
              "      <td>neg</td>\n",
              "    </tr>\n",
              "    <tr>\n",
              "      <th>21</th>\n",
              "      <td>Isto é verdadeiramente, sem exagerar, um dos p...</td>\n",
              "      <td>neg</td>\n",
              "    </tr>\n",
              "  </tbody>\n",
              "</table>\n",
              "</div>\n",
              "      <button class=\"colab-df-convert\" onclick=\"convertToInteractive('df-dd67ea0a-1da0-41da-a1b7-77ac9a595d7e')\"\n",
              "              title=\"Convert this dataframe to an interactive table.\"\n",
              "              style=\"display:none;\">\n",
              "        \n",
              "  <svg xmlns=\"http://www.w3.org/2000/svg\" height=\"24px\"viewBox=\"0 0 24 24\"\n",
              "       width=\"24px\">\n",
              "    <path d=\"M0 0h24v24H0V0z\" fill=\"none\"/>\n",
              "    <path d=\"M18.56 5.44l.94 2.06.94-2.06 2.06-.94-2.06-.94-.94-2.06-.94 2.06-2.06.94zm-11 1L8.5 8.5l.94-2.06 2.06-.94-2.06-.94L8.5 2.5l-.94 2.06-2.06.94zm10 10l.94 2.06.94-2.06 2.06-.94-2.06-.94-.94-2.06-.94 2.06-2.06.94z\"/><path d=\"M17.41 7.96l-1.37-1.37c-.4-.4-.92-.59-1.43-.59-.52 0-1.04.2-1.43.59L10.3 9.45l-7.72 7.72c-.78.78-.78 2.05 0 2.83L4 21.41c.39.39.9.59 1.41.59.51 0 1.02-.2 1.41-.59l7.78-7.78 2.81-2.81c.8-.78.8-2.07 0-2.86zM5.41 20L4 18.59l7.72-7.72 1.47 1.35L5.41 20z\"/>\n",
              "  </svg>\n",
              "      </button>\n",
              "      \n",
              "  <style>\n",
              "    .colab-df-container {\n",
              "      display:flex;\n",
              "      flex-wrap:wrap;\n",
              "      gap: 12px;\n",
              "    }\n",
              "\n",
              "    .colab-df-convert {\n",
              "      background-color: #E8F0FE;\n",
              "      border: none;\n",
              "      border-radius: 50%;\n",
              "      cursor: pointer;\n",
              "      display: none;\n",
              "      fill: #1967D2;\n",
              "      height: 32px;\n",
              "      padding: 0 0 0 0;\n",
              "      width: 32px;\n",
              "    }\n",
              "\n",
              "    .colab-df-convert:hover {\n",
              "      background-color: #E2EBFA;\n",
              "      box-shadow: 0px 1px 2px rgba(60, 64, 67, 0.3), 0px 1px 3px 1px rgba(60, 64, 67, 0.15);\n",
              "      fill: #174EA6;\n",
              "    }\n",
              "\n",
              "    [theme=dark] .colab-df-convert {\n",
              "      background-color: #3B4455;\n",
              "      fill: #D2E3FC;\n",
              "    }\n",
              "\n",
              "    [theme=dark] .colab-df-convert:hover {\n",
              "      background-color: #434B5C;\n",
              "      box-shadow: 0px 1px 3px 1px rgba(0, 0, 0, 0.15);\n",
              "      filter: drop-shadow(0px 1px 2px rgba(0, 0, 0, 0.3));\n",
              "      fill: #FFFFFF;\n",
              "    }\n",
              "  </style>\n",
              "\n",
              "      <script>\n",
              "        const buttonEl =\n",
              "          document.querySelector('#df-dd67ea0a-1da0-41da-a1b7-77ac9a595d7e button.colab-df-convert');\n",
              "        buttonEl.style.display =\n",
              "          google.colab.kernel.accessAllowed ? 'block' : 'none';\n",
              "\n",
              "        async function convertToInteractive(key) {\n",
              "          const element = document.querySelector('#df-dd67ea0a-1da0-41da-a1b7-77ac9a595d7e');\n",
              "          const dataTable =\n",
              "            await google.colab.kernel.invokeFunction('convertToInteractive',\n",
              "                                                     [key], {});\n",
              "          if (!dataTable) return;\n",
              "\n",
              "          const docLinkHtml = 'Like what you see? Visit the ' +\n",
              "            '<a target=\"_blank\" href=https://colab.research.google.com/notebooks/data_table.ipynb>data table notebook</a>'\n",
              "            + ' to learn more about interactive tables.';\n",
              "          element.innerHTML = '';\n",
              "          dataTable['output_type'] = 'display_data';\n",
              "          await google.colab.output.renderOutput(dataTable, element);\n",
              "          const docLink = document.createElement('div');\n",
              "          docLink.innerHTML = docLinkHtml;\n",
              "          element.appendChild(docLink);\n",
              "        }\n",
              "      </script>\n",
              "    </div>\n",
              "  </div>\n",
              "  "
            ]
          },
          "metadata": {},
          "execution_count": 51
        }
      ]
    },
    {
      "cell_type": "markdown",
      "metadata": {
        "id": "diGbwrivSuQP"
      },
      "source": [
        "### Usando TensorDataset\n",
        "\n",
        "https://pytorch.org/cppdocs/api/structtorch_1_1data_1_1datasets_1_1_tensor_dataset.html"
      ]
    },
    {
      "cell_type": "code",
      "metadata": {
        "id": "QmzB78qISVrc",
        "colab": {
          "base_uri": "https://localhost:8080/"
        },
        "outputId": "a224930a-6ca3-4cbb-e7ca-04a790040203"
      },
      "source": [
        "# Converte a coluna labels para um valor inteiro\n",
        "df[\"labels\"] = (df[\"label\"] == \"pos\").astype(int)\n",
        "\n",
        "# Converte a coluna labels em um tensor\n",
        "dados_treino_tensor = torch.as_tensor(df[\"labels\"].values)\n",
        "\n",
        "len(conjunto_dados_treino)"
      ],
      "execution_count": 52,
      "outputs": [
        {
          "output_type": "execute_result",
          "data": {
            "text/plain": [
              "30"
            ]
          },
          "metadata": {},
          "execution_count": 52
        }
      ]
    },
    {
      "cell_type": "markdown",
      "metadata": {
        "id": "BW8hDISAX_80"
      },
      "source": [
        "Cria o TensorDaset passando um tensor"
      ]
    },
    {
      "cell_type": "code",
      "metadata": {
        "id": "KVS8X0vhXaGP",
        "colab": {
          "base_uri": "https://localhost:8080/"
        },
        "outputId": "ca647e1b-057b-46e5-deda-4038f58c2715"
      },
      "source": [
        "from torch.utils.data import TensorDataset\n",
        "\n",
        "# Cria o TensorDataset utilizando um Tensor\n",
        "conjunto_dados_treino = TensorDataset(dados_treino_tensor)\n",
        "\n",
        "len(conjunto_dados_treino)"
      ],
      "execution_count": 53,
      "outputs": [
        {
          "output_type": "execute_result",
          "data": {
            "text/plain": [
              "30"
            ]
          },
          "metadata": {},
          "execution_count": 53
        }
      ]
    },
    {
      "cell_type": "markdown",
      "metadata": {
        "id": "dgccW1gKXDpM"
      },
      "source": [
        "### DataLoader utilizando a classe TensorDataset\n",
        "\n",
        "A quantidade elementos em DataLoader é o resultado da divisão inteira entre quantidade de registro do cojunto dividido pelo tamanho dos lotes(batch_size).\n",
        "\n",
        "O parâmetro `sampler` do DataLoader é uma instância opcional da classe` torch.utils.data.Sampler`. Define a estratégia para recuperar os dados - sequencial(`SequentialSampler`) ou aleatória(`RandomSampler`) ou de qualquer outra forma."
      ]
    },
    {
      "cell_type": "code",
      "metadata": {
        "id": "1fkHXaA9SWRV",
        "colab": {
          "base_uri": "https://localhost:8080/"
        },
        "outputId": "3737f03f-f1e8-47e3-be4c-78c06f2cb92a"
      },
      "source": [
        "from torch.utils.data import DataLoader\n",
        "from torch.utils.data import RandomSampler\n",
        "from torch.utils.data import SequentialSampler\n",
        "\n",
        "# Mostra o tamanho do conjunto de dados(usa o método __len__)\n",
        "print(\"Existem \", len(conjunto_dados_treino), \" registros de dados\")\n",
        "\n",
        "#treino_sampler = RandomSampler(conjunto_dados_treino)\n",
        "treino_sampler = SequentialSampler(conjunto_dados_treino)\n",
        "#treino_sampler = SubsetRandomSampler(conjunto_dados_treino)\n",
        "\n",
        "# Cria o DataLoader para o conjunto de dados em um TensorDataset\n",
        "# batch_size é o número de lotes criado pelo DataLoader\n",
        "carregador_treino = DataLoader(conjunto_dados_treino, sampler=treino_sampler, batch_size=3)\n",
        "\n",
        "print(\"Existem \", carregador_treino.batch_size, \" registros por lotes\")\n",
        "print(\"Existem \", len(carregador_treino), \" lotes\")\n",
        "print(\"Total = \", (len(carregador_treino) * carregador_treino.batch_size ), \" registros nos lotes\")"
      ],
      "execution_count": 54,
      "outputs": [
        {
          "output_type": "stream",
          "name": "stdout",
          "text": [
            "Existem  30  registros de dados\n",
            "Existem  3  registros por lotes\n",
            "Existem  10  lotes\n",
            "Total =  30  registros nos lotes\n"
          ]
        }
      ]
    },
    {
      "cell_type": "code",
      "metadata": {
        "id": "ckSO8Dq1VTIO",
        "colab": {
          "base_uri": "https://localhost:8080/"
        },
        "outputId": "c42c46cd-cecd-4cbe-f32e-22cdadd7363c"
      },
      "source": [
        "max_epoca = 4\n",
        "\n",
        "# Percorre as épocas\n",
        "for epoca in range(max_epoca):\n",
        "    # Treino\n",
        "    qtdeRegistros = 0\n",
        "    qtdeIteracoes = 0\n",
        "    # Percorre os 67 lotes do carregador\n",
        "    # Cada lote tem o tamanho 3\n",
        "    for i, lote in enumerate(carregador_treino):\n",
        "        #print(i, lote)\n",
        "        # Conta a quantidade registros de cada lote\n",
        "        qtdeRegistros = qtdeRegistros + len(lote[0])\n",
        "        # Conta as iterações do carregador\n",
        "        qtdeIteracoes = qtdeIteracoes + 1\n",
        "\n",
        "    print(\"Época:\", epoca)\n",
        "    print(\"     Total registros:\", qtdeRegistros)\n",
        "    print(\"     Total iterações:\", qtdeIteracoes)"
      ],
      "execution_count": 55,
      "outputs": [
        {
          "output_type": "stream",
          "name": "stdout",
          "text": [
            "Época: 0\n",
            "     Total registros: 30\n",
            "     Total iterações: 10\n",
            "Época: 1\n",
            "     Total registros: 30\n",
            "     Total iterações: 10\n",
            "Época: 2\n",
            "     Total registros: 30\n",
            "     Total iterações: 10\n",
            "Época: 3\n",
            "     Total registros: 30\n",
            "     Total iterações: 10\n"
          ]
        }
      ]
    }
  ]
}