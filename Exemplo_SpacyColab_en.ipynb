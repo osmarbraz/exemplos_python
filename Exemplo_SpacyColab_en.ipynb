{
  "nbformat": 4,
  "nbformat_minor": 0,
  "metadata": {
    "colab": {
      "name": "Exemplo_SpacyColab_en.ipynb",
      "provenance": [],
      "collapsed_sections": [],
      "toc_visible": true,
      "include_colab_link": true
    },
    "kernelspec": {
      "name": "python3",
      "display_name": "Python 3"
    },
    "accelerator": "TPU"
  },
  "cells": [
    {
      "cell_type": "markdown",
      "metadata": {
        "id": "view-in-github",
        "colab_type": "text"
      },
      "source": [
        "<a href=\"https://colab.research.google.com/github/osmarbraz/exemplos_python/blob/master/Exemplo_SpacyColab_en.ipynb\" target=\"_parent\"><img src=\"https://colab.research.google.com/assets/colab-badge.svg\" alt=\"Open In Colab\"/></a>"
      ]
    },
    {
      "cell_type": "markdown",
      "metadata": {
        "id": "IziPWVaeGlWk"
      },
      "source": [
        "# Exemplo uso Spacy com Modelo em Inglês\n",
        "Exemplo do uso Spacy Python Library com execução através do Google Colaboratory.<br>\n",
        "Site ferramenta: https://spacy.io/\n",
        "\n",
        "Tutorial<br>\n",
        "https://medium.com/@van3ssabandeira/o-famoso-spacy-90afb683b6fe\n"
      ]
    },
    {
      "cell_type": "markdown",
      "metadata": {
        "id": "rCk1PJ6Uwpu3"
      },
      "source": [
        "# 0 Preparação do ambiente\n",
        "Preparação do ambiente para executar o spacy."
      ]
    },
    {
      "cell_type": "markdown",
      "metadata": {
        "id": "4w0iMqLMwx5Q"
      },
      "source": [
        "##Tratamento de logs"
      ]
    },
    {
      "cell_type": "code",
      "metadata": {
        "id": "tlN4O-0gwzSN"
      },
      "source": [
        "#biblioteca de logging\n",
        "import logging\n",
        "\n",
        "#Formado da mensagem\n",
        "logging.basicConfig(format='%(asctime)s : %(levelname)s : %(message)s', level=logging.INFO)"
      ],
      "execution_count": null,
      "outputs": []
    },
    {
      "cell_type": "markdown",
      "metadata": {
        "id": "YgkRcED5w7_L"
      },
      "source": [
        "## Parâmetros\n",
        "\n",
        "Parâmetros da execução do teste\n",
        "\n",
        "* sm = small model (não possui vocabulário de palavras)\n",
        "* md = medium model\n",
        "* lg = large model\n",
        "\n",
        "https://spacy.io/models/en"
      ]
    },
    {
      "cell_type": "code",
      "metadata": {
        "id": "Rbk9_hJ-yc1L",
        "colab": {
          "base_uri": "https://localhost:8080/"
        },
        "outputId": "b64987ea-1038-47f6-d481-8c8dc0ade2c2"
      },
      "source": [
        "#definição do nome do arquivo do modelo\n",
        "#arquivoModelo = 'en_core_web_sm'\n",
        "#arquivoModelo = 'en_core_web_md'\n",
        "ARQUIVOMODELOSPACY = 'en_core_web_lg'\n",
        "\n",
        "logging.info('Parâmetros definidos!')"
      ],
      "execution_count": null,
      "outputs": [
        {
          "output_type": "stream",
          "text": [
            "2021-06-18 10:39:27,944 : INFO : Parâmetros definidos!\n"
          ],
          "name": "stderr"
        }
      ]
    },
    {
      "cell_type": "markdown",
      "metadata": {
        "id": "ku3JQLuL3jCe"
      },
      "source": [
        "# 1 Instalação"
      ]
    },
    {
      "cell_type": "markdown",
      "metadata": {
        "id": "1MNQcVUH9Pqv"
      },
      "source": [
        "Instala o spacy no notebook. O site para instalação está em https://spacy.io/usage.\n",
        "\n",
        "No Jupiter Notebook executar através \"Anaconda Prompt\"."
      ]
    },
    {
      "cell_type": "code",
      "metadata": {
        "id": "F9luAEBK9do5",
        "colab": {
          "base_uri": "https://localhost:8080/"
        },
        "outputId": "7cf2010e-a037-409d-c2b2-2c008ca1e057"
      },
      "source": [
        "# Instala a última versão disponível\n",
        "#!pip install -U spacy\n",
        "\n",
        "# Instala uma versão específica\n",
        "!pip install -U spacy==3.0.6"
      ],
      "execution_count": null,
      "outputs": [
        {
          "output_type": "stream",
          "text": [
            "Collecting spacy==3.0.6\n",
            "\u001b[?25l  Downloading https://files.pythonhosted.org/packages/1b/d8/0361bbaf7a1ff56b44dca04dace54c82d63dad7475b7d25ea1baefafafb2/spacy-3.0.6-cp37-cp37m-manylinux2014_x86_64.whl (12.8MB)\n",
            "\u001b[K     |████████████████████████████████| 12.8MB 6.6MB/s \n",
            "\u001b[?25hCollecting pathy>=0.3.5\n",
            "\u001b[?25l  Downloading https://files.pythonhosted.org/packages/13/87/5991d87be8ed60beb172b4062dbafef18b32fa559635a8e2b633c2974f85/pathy-0.5.2-py3-none-any.whl (42kB)\n",
            "\u001b[K     |████████████████████████████████| 51kB 5.1MB/s \n",
            "\u001b[?25hRequirement already satisfied, skipping upgrade: packaging>=20.0 in /usr/local/lib/python3.7/dist-packages (from spacy==3.0.6) (20.9)\n",
            "Collecting srsly<3.0.0,>=2.4.1\n",
            "\u001b[?25l  Downloading https://files.pythonhosted.org/packages/c3/84/dfdfc9f6f04f6b88207d96d9520b911e5fec0c67ff47a0dea31ab5429a1e/srsly-2.4.1-cp37-cp37m-manylinux2014_x86_64.whl (456kB)\n",
            "\u001b[K     |████████████████████████████████| 460kB 32.9MB/s \n",
            "\u001b[?25hRequirement already satisfied, skipping upgrade: jinja2 in /usr/local/lib/python3.7/dist-packages (from spacy==3.0.6) (2.11.3)\n",
            "Requirement already satisfied, skipping upgrade: blis<0.8.0,>=0.4.0 in /usr/local/lib/python3.7/dist-packages (from spacy==3.0.6) (0.4.1)\n",
            "Requirement already satisfied, skipping upgrade: setuptools in /usr/local/lib/python3.7/dist-packages (from spacy==3.0.6) (57.0.0)\n",
            "Collecting pydantic<1.8.0,>=1.7.1\n",
            "\u001b[?25l  Downloading https://files.pythonhosted.org/packages/ca/fa/d43f31874e1f2a9633e4c025be310f2ce7a8350017579e9e837a62630a7e/pydantic-1.7.4-cp37-cp37m-manylinux2014_x86_64.whl (9.1MB)\n",
            "\u001b[K     |████████████████████████████████| 9.1MB 36.2MB/s \n",
            "\u001b[?25hCollecting catalogue<2.1.0,>=2.0.3\n",
            "  Downloading https://files.pythonhosted.org/packages/9c/10/dbc1203a4b1367c7b02fddf08cb2981d9aa3e688d398f587cea0ab9e3bec/catalogue-2.0.4-py3-none-any.whl\n",
            "Collecting thinc<8.1.0,>=8.0.3\n",
            "\u001b[?25l  Downloading https://files.pythonhosted.org/packages/39/82/b0f35c2013da8a372bb2948dc3fa0b840f71a8ed02bfe0b7809ae13271bc/thinc-8.0.5-cp37-cp37m-manylinux_2_17_x86_64.manylinux2014_x86_64.whl (618kB)\n",
            "\u001b[K     |████████████████████████████████| 624kB 30.5MB/s \n",
            "\u001b[?25hRequirement already satisfied, skipping upgrade: murmurhash<1.1.0,>=0.28.0 in /usr/local/lib/python3.7/dist-packages (from spacy==3.0.6) (1.0.5)\n",
            "Collecting spacy-legacy<3.1.0,>=3.0.4\n",
            "  Downloading https://files.pythonhosted.org/packages/fa/a5/a727792d000b2a7bfcccbad03b292cd4c2d567d271fc3cab91250c2461e8/spacy_legacy-3.0.6-py2.py3-none-any.whl\n",
            "Requirement already satisfied, skipping upgrade: tqdm<5.0.0,>=4.38.0 in /usr/local/lib/python3.7/dist-packages (from spacy==3.0.6) (4.41.1)\n",
            "Requirement already satisfied, skipping upgrade: cymem<2.1.0,>=2.0.2 in /usr/local/lib/python3.7/dist-packages (from spacy==3.0.6) (2.0.5)\n",
            "Collecting typer<0.4.0,>=0.3.0\n",
            "  Downloading https://files.pythonhosted.org/packages/90/34/d138832f6945432c638f32137e6c79a3b682f06a63c488dcfaca6b166c64/typer-0.3.2-py3-none-any.whl\n",
            "Requirement already satisfied, skipping upgrade: numpy>=1.15.0 in /usr/local/lib/python3.7/dist-packages (from spacy==3.0.6) (1.19.5)\n",
            "Requirement already satisfied, skipping upgrade: typing-extensions<4.0.0.0,>=3.7.4; python_version < \"3.8\" in /usr/local/lib/python3.7/dist-packages (from spacy==3.0.6) (3.7.4.3)\n",
            "Requirement already satisfied, skipping upgrade: preshed<3.1.0,>=3.0.2 in /usr/local/lib/python3.7/dist-packages (from spacy==3.0.6) (3.0.5)\n",
            "Requirement already satisfied, skipping upgrade: wasabi<1.1.0,>=0.8.1 in /usr/local/lib/python3.7/dist-packages (from spacy==3.0.6) (0.8.2)\n",
            "Requirement already satisfied, skipping upgrade: requests<3.0.0,>=2.13.0 in /usr/local/lib/python3.7/dist-packages (from spacy==3.0.6) (2.23.0)\n",
            "Collecting smart-open<4.0.0,>=2.2.0\n",
            "\u001b[?25l  Downloading https://files.pythonhosted.org/packages/11/9a/ba2d5f67f25e8d5bbf2fcec7a99b1e38428e83cb715f64dd179ca43a11bb/smart_open-3.0.0.tar.gz (113kB)\n",
            "\u001b[K     |████████████████████████████████| 122kB 43.3MB/s \n",
            "\u001b[?25hRequirement already satisfied, skipping upgrade: pyparsing>=2.0.2 in /usr/local/lib/python3.7/dist-packages (from packaging>=20.0->spacy==3.0.6) (2.4.7)\n",
            "Requirement already satisfied, skipping upgrade: MarkupSafe>=0.23 in /usr/local/lib/python3.7/dist-packages (from jinja2->spacy==3.0.6) (2.0.1)\n",
            "Requirement already satisfied, skipping upgrade: zipp>=0.5; python_version < \"3.8\" in /usr/local/lib/python3.7/dist-packages (from catalogue<2.1.0,>=2.0.3->spacy==3.0.6) (3.4.1)\n",
            "Requirement already satisfied, skipping upgrade: click<7.2.0,>=7.1.1 in /usr/local/lib/python3.7/dist-packages (from typer<0.4.0,>=0.3.0->spacy==3.0.6) (7.1.2)\n",
            "Requirement already satisfied, skipping upgrade: urllib3!=1.25.0,!=1.25.1,<1.26,>=1.21.1 in /usr/local/lib/python3.7/dist-packages (from requests<3.0.0,>=2.13.0->spacy==3.0.6) (1.24.3)\n",
            "Requirement already satisfied, skipping upgrade: chardet<4,>=3.0.2 in /usr/local/lib/python3.7/dist-packages (from requests<3.0.0,>=2.13.0->spacy==3.0.6) (3.0.4)\n",
            "Requirement already satisfied, skipping upgrade: idna<3,>=2.5 in /usr/local/lib/python3.7/dist-packages (from requests<3.0.0,>=2.13.0->spacy==3.0.6) (2.10)\n",
            "Requirement already satisfied, skipping upgrade: certifi>=2017.4.17 in /usr/local/lib/python3.7/dist-packages (from requests<3.0.0,>=2.13.0->spacy==3.0.6) (2021.5.30)\n",
            "Building wheels for collected packages: smart-open\n",
            "  Building wheel for smart-open (setup.py) ... \u001b[?25l\u001b[?25hdone\n",
            "  Created wheel for smart-open: filename=smart_open-3.0.0-cp37-none-any.whl size=107107 sha256=9e7c49079fec6cc5ac04d705bcbc3b90ddad26e971ebd238c45e7a1a323352c2\n",
            "  Stored in directory: /root/.cache/pip/wheels/18/88/7c/f06dabd5e9cabe02d2269167bcacbbf9b47d0c0ff7d6ebcb78\n",
            "Successfully built smart-open\n",
            "Installing collected packages: smart-open, typer, pathy, catalogue, srsly, pydantic, thinc, spacy-legacy, spacy\n",
            "  Found existing installation: smart-open 5.1.0\n",
            "    Uninstalling smart-open-5.1.0:\n",
            "      Successfully uninstalled smart-open-5.1.0\n",
            "  Found existing installation: catalogue 1.0.0\n",
            "    Uninstalling catalogue-1.0.0:\n",
            "      Successfully uninstalled catalogue-1.0.0\n",
            "  Found existing installation: srsly 1.0.5\n",
            "    Uninstalling srsly-1.0.5:\n",
            "      Successfully uninstalled srsly-1.0.5\n",
            "  Found existing installation: thinc 7.4.0\n",
            "    Uninstalling thinc-7.4.0:\n",
            "      Successfully uninstalled thinc-7.4.0\n",
            "  Found existing installation: spacy 2.2.4\n",
            "    Uninstalling spacy-2.2.4:\n",
            "      Successfully uninstalled spacy-2.2.4\n",
            "Successfully installed catalogue-2.0.4 pathy-0.5.2 pydantic-1.7.4 smart-open-3.0.0 spacy-3.0.6 spacy-legacy-3.0.6 srsly-2.4.1 thinc-8.0.5 typer-0.3.2\n"
          ],
          "name": "stdout"
        }
      ]
    },
    {
      "cell_type": "markdown",
      "metadata": {
        "id": "oN_oynsK3nRF"
      },
      "source": [
        "# 2 Execução"
      ]
    },
    {
      "cell_type": "markdown",
      "metadata": {
        "id": "9D9S3cvz9c4X"
      },
      "source": [
        "##Baixa o modelo em inglês.\n",
        "\n",
        "Outras linguagens podem ser consultadas em:<br> \n",
        "https://spacy.io/usage/models#languages"
      ]
    },
    {
      "cell_type": "code",
      "metadata": {
        "colab": {
          "base_uri": "https://localhost:8080/"
        },
        "id": "NjNxNcvqa1AP",
        "outputId": "7d18933d-8f58-47e4-ec4a-d1a49b0f80ac"
      },
      "source": [
        "!python -m spacy download $ARQUIVOMODELOSPACY"
      ],
      "execution_count": null,
      "outputs": [
        {
          "output_type": "stream",
          "text": [
            "2021-06-18 10:39:51.868599: I tensorflow/stream_executor/platform/default/dso_loader.cc:53] Successfully opened dynamic library libcudart.so.11.0\n",
            "Collecting en-core-web-lg==3.0.0\n",
            "\u001b[?25l  Downloading https://github.com/explosion/spacy-models/releases/download/en_core_web_lg-3.0.0/en_core_web_lg-3.0.0-py3-none-any.whl (778.8MB)\n",
            "\u001b[K     |████████████████████████████████| 778.8MB 22kB/s \n",
            "\u001b[?25hRequirement already satisfied: spacy<3.1.0,>=3.0.0 in /usr/local/lib/python3.7/dist-packages (from en-core-web-lg==3.0.0) (3.0.6)\n",
            "Requirement already satisfied: spacy-legacy<3.1.0,>=3.0.4 in /usr/local/lib/python3.7/dist-packages (from spacy<3.1.0,>=3.0.0->en-core-web-lg==3.0.0) (3.0.6)\n",
            "Requirement already satisfied: srsly<3.0.0,>=2.4.1 in /usr/local/lib/python3.7/dist-packages (from spacy<3.1.0,>=3.0.0->en-core-web-lg==3.0.0) (2.4.1)\n",
            "Requirement already satisfied: packaging>=20.0 in /usr/local/lib/python3.7/dist-packages (from spacy<3.1.0,>=3.0.0->en-core-web-lg==3.0.0) (20.9)\n",
            "Requirement already satisfied: cymem<2.1.0,>=2.0.2 in /usr/local/lib/python3.7/dist-packages (from spacy<3.1.0,>=3.0.0->en-core-web-lg==3.0.0) (2.0.5)\n",
            "Requirement already satisfied: requests<3.0.0,>=2.13.0 in /usr/local/lib/python3.7/dist-packages (from spacy<3.1.0,>=3.0.0->en-core-web-lg==3.0.0) (2.23.0)\n",
            "Requirement already satisfied: thinc<8.1.0,>=8.0.3 in /usr/local/lib/python3.7/dist-packages (from spacy<3.1.0,>=3.0.0->en-core-web-lg==3.0.0) (8.0.5)\n",
            "Requirement already satisfied: murmurhash<1.1.0,>=0.28.0 in /usr/local/lib/python3.7/dist-packages (from spacy<3.1.0,>=3.0.0->en-core-web-lg==3.0.0) (1.0.5)\n",
            "Requirement already satisfied: typing-extensions<4.0.0.0,>=3.7.4; python_version < \"3.8\" in /usr/local/lib/python3.7/dist-packages (from spacy<3.1.0,>=3.0.0->en-core-web-lg==3.0.0) (3.7.4.3)\n",
            "Requirement already satisfied: blis<0.8.0,>=0.4.0 in /usr/local/lib/python3.7/dist-packages (from spacy<3.1.0,>=3.0.0->en-core-web-lg==3.0.0) (0.4.1)\n",
            "Requirement already satisfied: pydantic<1.8.0,>=1.7.1 in /usr/local/lib/python3.7/dist-packages (from spacy<3.1.0,>=3.0.0->en-core-web-lg==3.0.0) (1.7.4)\n",
            "Requirement already satisfied: setuptools in /usr/local/lib/python3.7/dist-packages (from spacy<3.1.0,>=3.0.0->en-core-web-lg==3.0.0) (57.0.0)\n",
            "Requirement already satisfied: catalogue<2.1.0,>=2.0.3 in /usr/local/lib/python3.7/dist-packages (from spacy<3.1.0,>=3.0.0->en-core-web-lg==3.0.0) (2.0.4)\n",
            "Requirement already satisfied: numpy>=1.15.0 in /usr/local/lib/python3.7/dist-packages (from spacy<3.1.0,>=3.0.0->en-core-web-lg==3.0.0) (1.19.5)\n",
            "Requirement already satisfied: jinja2 in /usr/local/lib/python3.7/dist-packages (from spacy<3.1.0,>=3.0.0->en-core-web-lg==3.0.0) (2.11.3)\n",
            "Requirement already satisfied: typer<0.4.0,>=0.3.0 in /usr/local/lib/python3.7/dist-packages (from spacy<3.1.0,>=3.0.0->en-core-web-lg==3.0.0) (0.3.2)\n",
            "Requirement already satisfied: tqdm<5.0.0,>=4.38.0 in /usr/local/lib/python3.7/dist-packages (from spacy<3.1.0,>=3.0.0->en-core-web-lg==3.0.0) (4.41.1)\n",
            "Requirement already satisfied: preshed<3.1.0,>=3.0.2 in /usr/local/lib/python3.7/dist-packages (from spacy<3.1.0,>=3.0.0->en-core-web-lg==3.0.0) (3.0.5)\n",
            "Requirement already satisfied: wasabi<1.1.0,>=0.8.1 in /usr/local/lib/python3.7/dist-packages (from spacy<3.1.0,>=3.0.0->en-core-web-lg==3.0.0) (0.8.2)\n",
            "Requirement already satisfied: pathy>=0.3.5 in /usr/local/lib/python3.7/dist-packages (from spacy<3.1.0,>=3.0.0->en-core-web-lg==3.0.0) (0.5.2)\n",
            "Requirement already satisfied: pyparsing>=2.0.2 in /usr/local/lib/python3.7/dist-packages (from packaging>=20.0->spacy<3.1.0,>=3.0.0->en-core-web-lg==3.0.0) (2.4.7)\n",
            "Requirement already satisfied: certifi>=2017.4.17 in /usr/local/lib/python3.7/dist-packages (from requests<3.0.0,>=2.13.0->spacy<3.1.0,>=3.0.0->en-core-web-lg==3.0.0) (2021.5.30)\n",
            "Requirement already satisfied: idna<3,>=2.5 in /usr/local/lib/python3.7/dist-packages (from requests<3.0.0,>=2.13.0->spacy<3.1.0,>=3.0.0->en-core-web-lg==3.0.0) (2.10)\n",
            "Requirement already satisfied: urllib3!=1.25.0,!=1.25.1,<1.26,>=1.21.1 in /usr/local/lib/python3.7/dist-packages (from requests<3.0.0,>=2.13.0->spacy<3.1.0,>=3.0.0->en-core-web-lg==3.0.0) (1.24.3)\n",
            "Requirement already satisfied: chardet<4,>=3.0.2 in /usr/local/lib/python3.7/dist-packages (from requests<3.0.0,>=2.13.0->spacy<3.1.0,>=3.0.0->en-core-web-lg==3.0.0) (3.0.4)\n",
            "Requirement already satisfied: zipp>=0.5; python_version < \"3.8\" in /usr/local/lib/python3.7/dist-packages (from catalogue<2.1.0,>=2.0.3->spacy<3.1.0,>=3.0.0->en-core-web-lg==3.0.0) (3.4.1)\n",
            "Requirement already satisfied: MarkupSafe>=0.23 in /usr/local/lib/python3.7/dist-packages (from jinja2->spacy<3.1.0,>=3.0.0->en-core-web-lg==3.0.0) (2.0.1)\n",
            "Requirement already satisfied: click<7.2.0,>=7.1.1 in /usr/local/lib/python3.7/dist-packages (from typer<0.4.0,>=0.3.0->spacy<3.1.0,>=3.0.0->en-core-web-lg==3.0.0) (7.1.2)\n",
            "Requirement already satisfied: smart-open<4.0.0,>=2.2.0 in /usr/local/lib/python3.7/dist-packages (from pathy>=0.3.5->spacy<3.1.0,>=3.0.0->en-core-web-lg==3.0.0) (3.0.0)\n",
            "Installing collected packages: en-core-web-lg\n",
            "Successfully installed en-core-web-lg-3.0.0\n",
            "\u001b[38;5;2m✔ Download and installation successful\u001b[0m\n",
            "You can now load the package via spacy.load('en_core_web_lg')\n"
          ],
          "name": "stdout"
        }
      ]
    },
    {
      "cell_type": "markdown",
      "metadata": {
        "id": "IZzqQLfH8xV7"
      },
      "source": [
        "## Importa as bibliotecas"
      ]
    },
    {
      "cell_type": "code",
      "metadata": {
        "id": "BGFVnIzQGrEH",
        "colab": {
          "base_uri": "https://localhost:8080/"
        },
        "outputId": "4acb9cec-8f78-472c-c7c8-8eb034fa8ebc"
      },
      "source": [
        "# Importando as bibliotecas.\n",
        "import spacy \n",
        "from spacy  import displacy\n",
        "\n",
        "logging.info('Import realizado!')"
      ],
      "execution_count": null,
      "outputs": [
        {
          "output_type": "stream",
          "text": [
            "2021-06-18 10:41:01,814 : INFO : Import realizado!\n"
          ],
          "name": "stderr"
        }
      ]
    },
    {
      "cell_type": "markdown",
      "metadata": {
        "id": "_DCJI8rd-YY0"
      },
      "source": [
        "##Carrega o modelo em inglês. \n",
        "\n",
        "Outros modelos estão disponíveis em https://spacy.io/models\n",
        "\n",
        "Para tornar os modelos compactos e rápidos, os modelos pequenos do spaCy (todos os pacotes que terminam em **sm**(small) não contêm  vetores de palavras e incluem apenas tensores sensíveis ao contexto. \n"
      ]
    },
    {
      "cell_type": "code",
      "metadata": {
        "id": "sarerq3C-b5B",
        "colab": {
          "base_uri": "https://localhost:8080/"
        },
        "outputId": "d20c9a28-510d-434f-f095-77cf592e241f"
      },
      "source": [
        "# Instala somente os pipelines necessários \n",
        "#nlp = spacy.load(ARQUIVOMODELOSPACY, disable=['tokenizer', 'lemmatizer', 'ner', 'parser', 'textcat', 'custom'])\n",
        "\n",
        "nlp = spacy.load(ARQUIVOMODELOSPACY) \n",
        "\n",
        "logging.info('Modelo carregado !')"
      ],
      "execution_count": null,
      "outputs": [
        {
          "output_type": "stream",
          "text": [
            "2021-06-18 10:41:03,985 : INFO : Modelo carregado !\n"
          ],
          "name": "stderr"
        }
      ]
    },
    {
      "cell_type": "markdown",
      "metadata": {
        "id": "lIjF4JyJVbdr"
      },
      "source": [
        "# 3 Frase a ser analisada"
      ]
    },
    {
      "cell_type": "code",
      "metadata": {
        "id": "DpdLO64TVObM"
      },
      "source": [
        "sentence = u\"Wall Street Journal just published an interesting piece on crypto currencies. What is crypto currencies?\""
      ],
      "execution_count": null,
      "outputs": []
    },
    {
      "cell_type": "markdown",
      "metadata": {
        "id": "g771s17Cjr6Q"
      },
      "source": [
        "##Armazena um texto.\n",
        "\n",
        "Com duas frases(sentenças)."
      ]
    },
    {
      "cell_type": "code",
      "metadata": {
        "id": "8FEGlAMwjuQy",
        "colab": {
          "base_uri": "https://localhost:8080/"
        },
        "outputId": "33a675c3-d5d2-4471-a1b1-70a38e798a94"
      },
      "source": [
        "doc = nlp(sentence)\n",
        "logging.info('Texto armazenado!')"
      ],
      "execution_count": null,
      "outputs": [
        {
          "output_type": "stream",
          "text": [
            "2021-06-18 10:41:04,050 : INFO : Texto armazenado!\n"
          ],
          "name": "stderr"
        }
      ]
    },
    {
      "cell_type": "markdown",
      "metadata": {
        "id": "Tu8rmnCEjzhE"
      },
      "source": [
        "##Separando o texto em uma lista de tokens.\n",
        "\n"
      ]
    },
    {
      "cell_type": "code",
      "metadata": {
        "id": "B5UhFBLoj0GK",
        "colab": {
          "base_uri": "https://localhost:8080/"
        },
        "outputId": "18636fc4-c02a-4133-800a-35c1f78f09b6"
      },
      "source": [
        ">>> [token.orth_ for token in doc]"
      ],
      "execution_count": null,
      "outputs": [
        {
          "output_type": "execute_result",
          "data": {
            "text/plain": [
              "['Wall',\n",
              " 'Street',\n",
              " 'Journal',\n",
              " 'just',\n",
              " 'published',\n",
              " 'an',\n",
              " 'interesting',\n",
              " 'piece',\n",
              " 'on',\n",
              " 'crypto',\n",
              " 'currencies',\n",
              " '.',\n",
              " 'What',\n",
              " 'is',\n",
              " 'crypto',\n",
              " 'currencies',\n",
              " '?']"
            ]
          },
          "metadata": {
            "tags": []
          },
          "execution_count": 9
        }
      ]
    },
    {
      "cell_type": "markdown",
      "metadata": {
        "id": "FHd7CqIHWVrs"
      },
      "source": [
        "##Separando o texto em uma lista de palavras"
      ]
    },
    {
      "cell_type": "code",
      "metadata": {
        "id": "xhL5CexYWU08",
        "colab": {
          "base_uri": "https://localhost:8080/"
        },
        "outputId": "cb7a18f2-dcb7-48c3-e865-5f740fb7aff3"
      },
      "source": [
        "doc.text.split()"
      ],
      "execution_count": null,
      "outputs": [
        {
          "output_type": "execute_result",
          "data": {
            "text/plain": [
              "['Wall',\n",
              " 'Street',\n",
              " 'Journal',\n",
              " 'just',\n",
              " 'published',\n",
              " 'an',\n",
              " 'interesting',\n",
              " 'piece',\n",
              " 'on',\n",
              " 'crypto',\n",
              " 'currencies.',\n",
              " 'What',\n",
              " 'is',\n",
              " 'crypto',\n",
              " 'currencies?']"
            ]
          },
          "metadata": {
            "tags": []
          },
          "execution_count": 10
        }
      ]
    },
    {
      "cell_type": "markdown",
      "metadata": {
        "id": "yvGrdfchknQt"
      },
      "source": [
        "##Verificando se a palavra é um verbo."
      ]
    },
    {
      "cell_type": "code",
      "metadata": {
        "id": "Tq0jKcd7kp-n",
        "colab": {
          "base_uri": "https://localhost:8080/"
        },
        "outputId": "5a03a82e-033f-481a-bfc1-f955a7a776be"
      },
      "source": [
        "[(token.text, token.pos_ == 'VERB') for token in doc]"
      ],
      "execution_count": null,
      "outputs": [
        {
          "output_type": "execute_result",
          "data": {
            "text/plain": [
              "[('Wall', False),\n",
              " ('Street', False),\n",
              " ('Journal', False),\n",
              " ('just', False),\n",
              " ('published', True),\n",
              " ('an', False),\n",
              " ('interesting', False),\n",
              " ('piece', False),\n",
              " ('on', False),\n",
              " ('crypto', False),\n",
              " ('currencies', False),\n",
              " ('.', False),\n",
              " ('What', False),\n",
              " ('is', False),\n",
              " ('crypto', False),\n",
              " ('currencies', False),\n",
              " ('?', False)]"
            ]
          },
          "metadata": {
            "tags": []
          },
          "execution_count": 11
        }
      ]
    },
    {
      "cell_type": "markdown",
      "metadata": {
        "id": "x7QqVueRkyOS"
      },
      "source": [
        "##Identificando o infinitivo dos verbos."
      ]
    },
    {
      "cell_type": "code",
      "metadata": {
        "id": "2bzgquPBky1x",
        "colab": {
          "base_uri": "https://localhost:8080/"
        },
        "outputId": "77769e80-8a97-4e0f-bfc2-03b66d8245c4"
      },
      "source": [
        "[(token.text, token.lemma_) for token in doc if token.pos_ == 'VERB']"
      ],
      "execution_count": null,
      "outputs": [
        {
          "output_type": "execute_result",
          "data": {
            "text/plain": [
              "[('published', 'publish')]"
            ]
          },
          "metadata": {
            "tags": []
          },
          "execution_count": 12
        }
      ]
    },
    {
      "cell_type": "markdown",
      "metadata": {
        "id": "yazH-uzZk8vQ"
      },
      "source": [
        "##Verificando se a palavra da frase é uma pontuação."
      ]
    },
    {
      "cell_type": "code",
      "metadata": {
        "id": "427rrsWek_-x",
        "colab": {
          "base_uri": "https://localhost:8080/"
        },
        "outputId": "c31fe312-2587-43cf-b243-5afb5911a45e"
      },
      "source": [
        "[(token.text, token.is_punct) for token in doc]"
      ],
      "execution_count": null,
      "outputs": [
        {
          "output_type": "execute_result",
          "data": {
            "text/plain": [
              "[('Wall', False),\n",
              " ('Street', False),\n",
              " ('Journal', False),\n",
              " ('just', False),\n",
              " ('published', False),\n",
              " ('an', False),\n",
              " ('interesting', False),\n",
              " ('piece', False),\n",
              " ('on', False),\n",
              " ('crypto', False),\n",
              " ('currencies', False),\n",
              " ('.', True),\n",
              " ('What', False),\n",
              " ('is', False),\n",
              " ('crypto', False),\n",
              " ('currencies', False),\n",
              " ('?', True)]"
            ]
          },
          "metadata": {
            "tags": []
          },
          "execution_count": 13
        }
      ]
    },
    {
      "cell_type": "markdown",
      "metadata": {
        "id": "DvRTdi50lLrX"
      },
      "source": [
        "##Identificando as classes gramaticais das palavras.\n",
        "\n",
        "O significado das classes estão em: https://spacy.io/api/annotation#pos-tagging\n"
      ]
    },
    {
      "cell_type": "code",
      "metadata": {
        "id": "5YhWKL4ilNoc",
        "colab": {
          "base_uri": "https://localhost:8080/"
        },
        "outputId": "b7a10508-bb24-48b6-c605-7cb99d02f1cb"
      },
      "source": [
        "[(token.text, token.pos_) for token in doc]"
      ],
      "execution_count": null,
      "outputs": [
        {
          "output_type": "execute_result",
          "data": {
            "text/plain": [
              "[('Wall', 'PROPN'),\n",
              " ('Street', 'PROPN'),\n",
              " ('Journal', 'PROPN'),\n",
              " ('just', 'ADV'),\n",
              " ('published', 'VERB'),\n",
              " ('an', 'DET'),\n",
              " ('interesting', 'ADJ'),\n",
              " ('piece', 'NOUN'),\n",
              " ('on', 'ADP'),\n",
              " ('crypto', 'ADJ'),\n",
              " ('currencies', 'NOUN'),\n",
              " ('.', 'PUNCT'),\n",
              " ('What', 'PRON'),\n",
              " ('is', 'AUX'),\n",
              " ('crypto', 'ADJ'),\n",
              " ('currencies', 'NOUN'),\n",
              " ('?', 'PUNCT')]"
            ]
          },
          "metadata": {
            "tags": []
          },
          "execution_count": 14
        }
      ]
    },
    {
      "cell_type": "markdown",
      "metadata": {
        "id": "rd6sIh0bXQuP"
      },
      "source": [
        "## Ancestrais"
      ]
    },
    {
      "cell_type": "code",
      "metadata": {
        "id": "S8wvoA4HXSIj",
        "colab": {
          "base_uri": "https://localhost:8080/"
        },
        "outputId": "b6bf737b-dd1f-4c56-84f4-938aa4caca4d"
      },
      "source": [
        "tokens = [token for token in doc]\n",
        "tokens[0].is_ancestor(tokens[2])"
      ],
      "execution_count": null,
      "outputs": [
        {
          "output_type": "execute_result",
          "data": {
            "text/plain": [
              "False"
            ]
          },
          "metadata": {
            "tags": []
          },
          "execution_count": 15
        }
      ]
    },
    {
      "cell_type": "markdown",
      "metadata": {
        "id": "xFqMaIEolR2T"
      },
      "source": [
        "##Identificando as sentenças em um texto."
      ]
    },
    {
      "cell_type": "markdown",
      "metadata": {
        "id": "KfqTTg4TC2z7"
      },
      "source": [
        "Mostra as frases de um texto."
      ]
    },
    {
      "cell_type": "code",
      "metadata": {
        "id": "05o-JE5RlUCQ",
        "colab": {
          "base_uri": "https://localhost:8080/"
        },
        "outputId": "2850418f-1a58-47f7-f556-c4c23270efc1"
      },
      "source": [
        "for sentencas in doc.sents:\n",
        "    print(sentencas)"
      ],
      "execution_count": null,
      "outputs": [
        {
          "output_type": "stream",
          "text": [
            "Wall Street Journal just published an interesting piece on crypto currencies.\n",
            "What is crypto currencies?\n"
          ],
          "name": "stdout"
        }
      ]
    },
    {
      "cell_type": "markdown",
      "metadata": {
        "id": "xwml1YkDlXPf"
      },
      "source": [
        "##Identificando as entidades. (NER/Named Entity Recognition)\n",
        "\n",
        "**Text**: o texto original da entidade.<br>\n",
        "**Start**: Índice de início da entidade no Doc.<br>\n",
        "**End**: Índice do fim da entidade no Doc.<br>\n",
        "**Label**: rótulo da entidade, ou seja, tipo.<br>\n",
        "\n",
        "https://medium.com/botsbrasil/como-reconhecer-entidades-na-l%C3%ADngua-portuguesa-usando-spacy-8a5ca6f42c4f"
      ]
    },
    {
      "cell_type": "markdown",
      "metadata": {
        "id": "3NRQb-Gp5EAP"
      },
      "source": [
        "### Listando as entidades identificadas"
      ]
    },
    {
      "cell_type": "code",
      "metadata": {
        "id": "OCUsoS4En0JK",
        "colab": {
          "base_uri": "https://localhost:8080/"
        },
        "outputId": "ef0be2b9-f49e-4b9a-b01d-ed798d95ab18"
      },
      "source": [
        "for ent in doc.ents:\n",
        "   print(ent.text, ent.start_char, ent.end_char, ent.label_)"
      ],
      "execution_count": null,
      "outputs": [
        {
          "output_type": "stream",
          "text": [
            "Wall Street Journal 0 19 ORG\n"
          ],
          "name": "stdout"
        }
      ]
    },
    {
      "cell_type": "markdown",
      "metadata": {
        "id": "ww1JVrsEn2ck"
      },
      "source": [
        "ou"
      ]
    },
    {
      "cell_type": "code",
      "metadata": {
        "id": "gIytTFrXlZOU",
        "colab": {
          "base_uri": "https://localhost:8080/"
        },
        "outputId": "1646cab4-6f25-4d6c-bd06-5223e98e4e9d"
      },
      "source": [
        "[(entity, entity.label_) for entity in doc.ents]"
      ],
      "execution_count": null,
      "outputs": [
        {
          "output_type": "execute_result",
          "data": {
            "text/plain": [
              "[(Wall Street Journal, 'ORG')]"
            ]
          },
          "metadata": {
            "tags": []
          },
          "execution_count": 18
        }
      ]
    },
    {
      "cell_type": "markdown",
      "metadata": {
        "id": "p0YyQMqVlcb3"
      },
      "source": [
        "###Checando similaridade entre as entidades."
      ]
    },
    {
      "cell_type": "code",
      "metadata": {
        "id": "5PjI4zm6lpTB",
        "colab": {
          "base_uri": "https://localhost:8080/"
        },
        "outputId": "24ad7fe5-ecc6-4454-bc9b-566db5eaa25d"
      },
      "source": [
        "#retorna as entidades de doc\n",
        "entities = [entity for entity in doc.ents]\n",
        "\n",
        "if len(doc.ents) > 1:\n",
        "  print('Similaridade entre entities[0]=[' + str(entities[0]) + '] e entities[0]=[' + str(entities[0]) + ']: %.4g'%(entities[0].similarity(entities[0]) * 100), \"%\")\n",
        "  print('Similaridade entre entities[0]=[' + str(entities[0]) + '] e entities[1]=[' + str(entities[1]) + ']: %.4g'%(entities[0].similarity(entities[1]) * 100), \"%\")\n",
        "else:\n",
        "  print('Similaridade entre entities[0]=[' + str(entities[0]) + '] e entities[0]=[' + str(entities[0]) + ']: %.4g'%(entities[0].similarity(entities[0]) * 100), \"%\")"
      ],
      "execution_count": null,
      "outputs": [
        {
          "output_type": "stream",
          "text": [
            "Similaridade entre entities[0]=[Wall Street Journal] e entities[0]=[Wall Street Journal]: 100 %\n"
          ],
          "name": "stdout"
        }
      ]
    },
    {
      "cell_type": "markdown",
      "metadata": {
        "id": "hsNEv69c-sms"
      },
      "source": [
        "##POS tagging / Analisando a frase\n",
        "\n",
        "https://medium.com/greyatom/learning-pos-tagging-chunking-in-nlp-85f7f811a8cb\n",
        "\n",
        "**Text**: o texto original da palavra.<br>\n",
        "**Lema**: A forma base da palavra.<br>\n",
        "**POS**: A tag simples da parte do discurso. O significado das classes estão em: https://spacy.io/api/annotation#pos-tagging<br>\n",
        "**Tag**: A etiqueta detalhada da parte do discurso.<br>\n",
        "**Dep**: Dependência sintática, ou seja, a relação entre tokens.<br>\n",
        "**Shape**: A forma da palavra - letras maiúsculas, pontuação e dígitos.<br>\n",
        "**is alpha**: o token é um caractere alfa?<br>\n",
        "**is stop**: o token faz parte de uma lista de paradas, ou seja, as palavras mais comuns do idioma?<br> "
      ]
    },
    {
      "cell_type": "code",
      "metadata": {
        "id": "T7pDkLR--rtj",
        "colab": {
          "base_uri": "https://localhost:8080/"
        },
        "outputId": "e952c061-3c05-42a9-aa10-4957413218be"
      },
      "source": [
        "for token in doc:\n",
        "    print(token.text, token.lemma_, token.pos_, token.tag_, token.dep_,token.shape_,token.is_alpha, token.is_stop)"
      ],
      "execution_count": null,
      "outputs": [
        {
          "output_type": "stream",
          "text": [
            "Wall Wall PROPN NNP compound Xxxx True False\n",
            "Street Street PROPN NNP compound Xxxxx True False\n",
            "Journal Journal PROPN NNP nsubj Xxxxx True False\n",
            "just just ADV RB advmod xxxx True True\n",
            "published publish VERB VBD ROOT xxxx True False\n",
            "an an DET DT det xx True True\n",
            "interesting interesting ADJ JJ amod xxxx True False\n",
            "piece piece NOUN NN dobj xxxx True False\n",
            "on on ADP IN prep xx True True\n",
            "crypto crypto ADJ JJ amod xxxx True False\n",
            "currencies currency NOUN NNS pobj xxxx True False\n",
            ". . PUNCT . punct . False False\n",
            "What what PRON WP attr Xxxx True True\n",
            "is be AUX VBZ ROOT xx True True\n",
            "crypto crypto ADJ JJ amod xxxx True False\n",
            "currencies currency NOUN NNS nsubj xxxx True False\n",
            "? ? PUNCT . punct ? False False\n"
          ],
          "name": "stdout"
        }
      ]
    },
    {
      "cell_type": "markdown",
      "metadata": {
        "id": "8qZjNop31a0H"
      },
      "source": [
        "ou partes"
      ]
    },
    {
      "cell_type": "code",
      "metadata": {
        "id": "_GXoEH00uWuD",
        "colab": {
          "base_uri": "https://localhost:8080/"
        },
        "outputId": "5f9801b5-3b80-4263-fc51-fecaa3132e1d"
      },
      "source": [
        "print([(token.text, token.tag_) for token in doc])"
      ],
      "execution_count": null,
      "outputs": [
        {
          "output_type": "stream",
          "text": [
            "[('Wall', 'NNP'), ('Street', 'NNP'), ('Journal', 'NNP'), ('just', 'RB'), ('published', 'VBD'), ('an', 'DT'), ('interesting', 'JJ'), ('piece', 'NN'), ('on', 'IN'), ('crypto', 'JJ'), ('currencies', 'NNS'), ('.', '.'), ('What', 'WP'), ('is', 'VBZ'), ('crypto', 'JJ'), ('currencies', 'NNS'), ('?', '.')]\n"
          ],
          "name": "stdout"
        }
      ]
    },
    {
      "cell_type": "markdown",
      "metadata": {
        "id": "b_S7dH_Fuhzc"
      },
      "source": [
        "##Noun Chunking / Substantivos\n",
        "\n",
        "Os substantivos são \"frases substantivas de base\" - frases simples que têm um substantivo como principal. Você pode pensar em blocos de substantivos como um substantivo, além das palavras que descrevem o substantivo - por exemplo, \"a luxuosa grama verde\" ou \"o maior fundo de tecnologia do mundo\". \n",
        "\n",
        "**Text**: o texto original do pedaço do substantivo.<br>\n",
        "**Root text**: o texto original da palavra que conecta o pedaço do substantivo ao restante da análise.<br>\n",
        "**Root dep**: relação de dependência que conecta a raiz à sua cabeça.<br>\n",
        "**Root head text**: o texto do cabeçalho do token raiz.<br>\n",
        "\n",
        "https://medium.com/greyatom/learning-pos-tagging-chunking-in-nlp-85f7f811a8cb"
      ]
    },
    {
      "cell_type": "code",
      "metadata": {
        "id": "m0-La0BCt1Y_",
        "colab": {
          "base_uri": "https://localhost:8080/"
        },
        "outputId": "140bf5bc-3875-44d2-ce96-a57d1cb0cade"
      },
      "source": [
        "for chunk in doc.noun_chunks:    \n",
        "    print(chunk.text, chunk.label_, chunk.root.text, chunk.root.dep_,chunk.root.head.text)"
      ],
      "execution_count": null,
      "outputs": [
        {
          "output_type": "stream",
          "text": [
            "Wall Street Journal NP Journal nsubj published\n",
            "an interesting piece NP piece dobj published\n",
            "crypto currencies NP currencies pobj on\n",
            "What NP What attr is\n",
            "crypto currencies NP currencies nsubj is\n"
          ],
          "name": "stdout"
        }
      ]
    },
    {
      "cell_type": "markdown",
      "metadata": {
        "id": "FRK6pMzJ-ypZ"
      },
      "source": [
        "##Visualizando as dependências\n",
        "\n",
        "Éo processo de representar as dependências do texto através das relações entre os tokens. Por exemplo: um artigo está ligado a um substantivo, um advérbio modifica um verbo, e assim por diante.\n",
        "\n",
        "O significado das classes estão em: https://spacy.io/api/annotation#pos-tagging"
      ]
    },
    {
      "cell_type": "code",
      "metadata": {
        "id": "O4lMhC2L-0Ip",
        "colab": {
          "base_uri": "https://localhost:8080/",
          "height": 306
        },
        "outputId": "1367d755-d2d0-44e0-91f5-ab8a69e0664a"
      },
      "source": [
        "displacy.render(doc, style='dep', jupyter=True, options={'distance': 85})\n"
      ],
      "execution_count": null,
      "outputs": [
        {
          "output_type": "display_data",
          "data": {
            "text/html": [
              "<span class=\"tex2jax_ignore\"><svg xmlns=\"http://www.w3.org/2000/svg\" xmlns:xlink=\"http://www.w3.org/1999/xlink\" xml:lang=\"en\" id=\"679e9a722a98414e812aecc7e3ef7788-0\" class=\"displacy\" width=\"1325\" height=\"264.5\" direction=\"ltr\" style=\"max-width: none; height: 264.5px; color: #000000; background: #ffffff; font-family: Arial; direction: ltr\">\n",
              "<text class=\"displacy-token\" fill=\"currentColor\" text-anchor=\"middle\" y=\"174.5\">\n",
              "    <tspan class=\"displacy-word\" fill=\"currentColor\" x=\"50\">Wall</tspan>\n",
              "    <tspan class=\"displacy-tag\" dy=\"2em\" fill=\"currentColor\" x=\"50\">PROPN</tspan>\n",
              "</text>\n",
              "\n",
              "<text class=\"displacy-token\" fill=\"currentColor\" text-anchor=\"middle\" y=\"174.5\">\n",
              "    <tspan class=\"displacy-word\" fill=\"currentColor\" x=\"135\">Street</tspan>\n",
              "    <tspan class=\"displacy-tag\" dy=\"2em\" fill=\"currentColor\" x=\"135\">PROPN</tspan>\n",
              "</text>\n",
              "\n",
              "<text class=\"displacy-token\" fill=\"currentColor\" text-anchor=\"middle\" y=\"174.5\">\n",
              "    <tspan class=\"displacy-word\" fill=\"currentColor\" x=\"220\">Journal</tspan>\n",
              "    <tspan class=\"displacy-tag\" dy=\"2em\" fill=\"currentColor\" x=\"220\">PROPN</tspan>\n",
              "</text>\n",
              "\n",
              "<text class=\"displacy-token\" fill=\"currentColor\" text-anchor=\"middle\" y=\"174.5\">\n",
              "    <tspan class=\"displacy-word\" fill=\"currentColor\" x=\"305\">just</tspan>\n",
              "    <tspan class=\"displacy-tag\" dy=\"2em\" fill=\"currentColor\" x=\"305\">ADV</tspan>\n",
              "</text>\n",
              "\n",
              "<text class=\"displacy-token\" fill=\"currentColor\" text-anchor=\"middle\" y=\"174.5\">\n",
              "    <tspan class=\"displacy-word\" fill=\"currentColor\" x=\"390\">published</tspan>\n",
              "    <tspan class=\"displacy-tag\" dy=\"2em\" fill=\"currentColor\" x=\"390\">VERB</tspan>\n",
              "</text>\n",
              "\n",
              "<text class=\"displacy-token\" fill=\"currentColor\" text-anchor=\"middle\" y=\"174.5\">\n",
              "    <tspan class=\"displacy-word\" fill=\"currentColor\" x=\"475\">an</tspan>\n",
              "    <tspan class=\"displacy-tag\" dy=\"2em\" fill=\"currentColor\" x=\"475\">DET</tspan>\n",
              "</text>\n",
              "\n",
              "<text class=\"displacy-token\" fill=\"currentColor\" text-anchor=\"middle\" y=\"174.5\">\n",
              "    <tspan class=\"displacy-word\" fill=\"currentColor\" x=\"560\">interesting</tspan>\n",
              "    <tspan class=\"displacy-tag\" dy=\"2em\" fill=\"currentColor\" x=\"560\">ADJ</tspan>\n",
              "</text>\n",
              "\n",
              "<text class=\"displacy-token\" fill=\"currentColor\" text-anchor=\"middle\" y=\"174.5\">\n",
              "    <tspan class=\"displacy-word\" fill=\"currentColor\" x=\"645\">piece</tspan>\n",
              "    <tspan class=\"displacy-tag\" dy=\"2em\" fill=\"currentColor\" x=\"645\">NOUN</tspan>\n",
              "</text>\n",
              "\n",
              "<text class=\"displacy-token\" fill=\"currentColor\" text-anchor=\"middle\" y=\"174.5\">\n",
              "    <tspan class=\"displacy-word\" fill=\"currentColor\" x=\"730\">on</tspan>\n",
              "    <tspan class=\"displacy-tag\" dy=\"2em\" fill=\"currentColor\" x=\"730\">ADP</tspan>\n",
              "</text>\n",
              "\n",
              "<text class=\"displacy-token\" fill=\"currentColor\" text-anchor=\"middle\" y=\"174.5\">\n",
              "    <tspan class=\"displacy-word\" fill=\"currentColor\" x=\"815\">crypto</tspan>\n",
              "    <tspan class=\"displacy-tag\" dy=\"2em\" fill=\"currentColor\" x=\"815\">ADJ</tspan>\n",
              "</text>\n",
              "\n",
              "<text class=\"displacy-token\" fill=\"currentColor\" text-anchor=\"middle\" y=\"174.5\">\n",
              "    <tspan class=\"displacy-word\" fill=\"currentColor\" x=\"900\">currencies.</tspan>\n",
              "    <tspan class=\"displacy-tag\" dy=\"2em\" fill=\"currentColor\" x=\"900\">NOUN</tspan>\n",
              "</text>\n",
              "\n",
              "<text class=\"displacy-token\" fill=\"currentColor\" text-anchor=\"middle\" y=\"174.5\">\n",
              "    <tspan class=\"displacy-word\" fill=\"currentColor\" x=\"985\">What</tspan>\n",
              "    <tspan class=\"displacy-tag\" dy=\"2em\" fill=\"currentColor\" x=\"985\">PRON</tspan>\n",
              "</text>\n",
              "\n",
              "<text class=\"displacy-token\" fill=\"currentColor\" text-anchor=\"middle\" y=\"174.5\">\n",
              "    <tspan class=\"displacy-word\" fill=\"currentColor\" x=\"1070\">is</tspan>\n",
              "    <tspan class=\"displacy-tag\" dy=\"2em\" fill=\"currentColor\" x=\"1070\">AUX</tspan>\n",
              "</text>\n",
              "\n",
              "<text class=\"displacy-token\" fill=\"currentColor\" text-anchor=\"middle\" y=\"174.5\">\n",
              "    <tspan class=\"displacy-word\" fill=\"currentColor\" x=\"1155\">crypto</tspan>\n",
              "    <tspan class=\"displacy-tag\" dy=\"2em\" fill=\"currentColor\" x=\"1155\">ADJ</tspan>\n",
              "</text>\n",
              "\n",
              "<text class=\"displacy-token\" fill=\"currentColor\" text-anchor=\"middle\" y=\"174.5\">\n",
              "    <tspan class=\"displacy-word\" fill=\"currentColor\" x=\"1240\">currencies?</tspan>\n",
              "    <tspan class=\"displacy-tag\" dy=\"2em\" fill=\"currentColor\" x=\"1240\">NOUN</tspan>\n",
              "</text>\n",
              "\n",
              "<g class=\"displacy-arrow\">\n",
              "    <path class=\"displacy-arc\" id=\"arrow-679e9a722a98414e812aecc7e3ef7788-0-0\" stroke-width=\"2px\" d=\"M70,129.5 C70,87.0 125.0,87.0 125.0,129.5\" fill=\"none\" stroke=\"currentColor\"/>\n",
              "    <text dy=\"1.25em\" style=\"font-size: 0.8em; letter-spacing: 1px\">\n",
              "        <textPath xlink:href=\"#arrow-679e9a722a98414e812aecc7e3ef7788-0-0\" class=\"displacy-label\" startOffset=\"50%\" side=\"left\" fill=\"currentColor\" text-anchor=\"middle\">compound</textPath>\n",
              "    </text>\n",
              "    <path class=\"displacy-arrowhead\" d=\"M70,131.5 L62,119.5 78,119.5\" fill=\"currentColor\"/>\n",
              "</g>\n",
              "\n",
              "<g class=\"displacy-arrow\">\n",
              "    <path class=\"displacy-arc\" id=\"arrow-679e9a722a98414e812aecc7e3ef7788-0-1\" stroke-width=\"2px\" d=\"M155,129.5 C155,87.0 210.0,87.0 210.0,129.5\" fill=\"none\" stroke=\"currentColor\"/>\n",
              "    <text dy=\"1.25em\" style=\"font-size: 0.8em; letter-spacing: 1px\">\n",
              "        <textPath xlink:href=\"#arrow-679e9a722a98414e812aecc7e3ef7788-0-1\" class=\"displacy-label\" startOffset=\"50%\" side=\"left\" fill=\"currentColor\" text-anchor=\"middle\">compound</textPath>\n",
              "    </text>\n",
              "    <path class=\"displacy-arrowhead\" d=\"M155,131.5 L147,119.5 163,119.5\" fill=\"currentColor\"/>\n",
              "</g>\n",
              "\n",
              "<g class=\"displacy-arrow\">\n",
              "    <path class=\"displacy-arc\" id=\"arrow-679e9a722a98414e812aecc7e3ef7788-0-2\" stroke-width=\"2px\" d=\"M240,129.5 C240,44.5 385.0,44.5 385.0,129.5\" fill=\"none\" stroke=\"currentColor\"/>\n",
              "    <text dy=\"1.25em\" style=\"font-size: 0.8em; letter-spacing: 1px\">\n",
              "        <textPath xlink:href=\"#arrow-679e9a722a98414e812aecc7e3ef7788-0-2\" class=\"displacy-label\" startOffset=\"50%\" side=\"left\" fill=\"currentColor\" text-anchor=\"middle\">nsubj</textPath>\n",
              "    </text>\n",
              "    <path class=\"displacy-arrowhead\" d=\"M240,131.5 L232,119.5 248,119.5\" fill=\"currentColor\"/>\n",
              "</g>\n",
              "\n",
              "<g class=\"displacy-arrow\">\n",
              "    <path class=\"displacy-arc\" id=\"arrow-679e9a722a98414e812aecc7e3ef7788-0-3\" stroke-width=\"2px\" d=\"M325,129.5 C325,87.0 380.0,87.0 380.0,129.5\" fill=\"none\" stroke=\"currentColor\"/>\n",
              "    <text dy=\"1.25em\" style=\"font-size: 0.8em; letter-spacing: 1px\">\n",
              "        <textPath xlink:href=\"#arrow-679e9a722a98414e812aecc7e3ef7788-0-3\" class=\"displacy-label\" startOffset=\"50%\" side=\"left\" fill=\"currentColor\" text-anchor=\"middle\">advmod</textPath>\n",
              "    </text>\n",
              "    <path class=\"displacy-arrowhead\" d=\"M325,131.5 L317,119.5 333,119.5\" fill=\"currentColor\"/>\n",
              "</g>\n",
              "\n",
              "<g class=\"displacy-arrow\">\n",
              "    <path class=\"displacy-arc\" id=\"arrow-679e9a722a98414e812aecc7e3ef7788-0-4\" stroke-width=\"2px\" d=\"M495,129.5 C495,44.5 640.0,44.5 640.0,129.5\" fill=\"none\" stroke=\"currentColor\"/>\n",
              "    <text dy=\"1.25em\" style=\"font-size: 0.8em; letter-spacing: 1px\">\n",
              "        <textPath xlink:href=\"#arrow-679e9a722a98414e812aecc7e3ef7788-0-4\" class=\"displacy-label\" startOffset=\"50%\" side=\"left\" fill=\"currentColor\" text-anchor=\"middle\">det</textPath>\n",
              "    </text>\n",
              "    <path class=\"displacy-arrowhead\" d=\"M495,131.5 L487,119.5 503,119.5\" fill=\"currentColor\"/>\n",
              "</g>\n",
              "\n",
              "<g class=\"displacy-arrow\">\n",
              "    <path class=\"displacy-arc\" id=\"arrow-679e9a722a98414e812aecc7e3ef7788-0-5\" stroke-width=\"2px\" d=\"M580,129.5 C580,87.0 635.0,87.0 635.0,129.5\" fill=\"none\" stroke=\"currentColor\"/>\n",
              "    <text dy=\"1.25em\" style=\"font-size: 0.8em; letter-spacing: 1px\">\n",
              "        <textPath xlink:href=\"#arrow-679e9a722a98414e812aecc7e3ef7788-0-5\" class=\"displacy-label\" startOffset=\"50%\" side=\"left\" fill=\"currentColor\" text-anchor=\"middle\">amod</textPath>\n",
              "    </text>\n",
              "    <path class=\"displacy-arrowhead\" d=\"M580,131.5 L572,119.5 588,119.5\" fill=\"currentColor\"/>\n",
              "</g>\n",
              "\n",
              "<g class=\"displacy-arrow\">\n",
              "    <path class=\"displacy-arc\" id=\"arrow-679e9a722a98414e812aecc7e3ef7788-0-6\" stroke-width=\"2px\" d=\"M410,129.5 C410,2.0 645.0,2.0 645.0,129.5\" fill=\"none\" stroke=\"currentColor\"/>\n",
              "    <text dy=\"1.25em\" style=\"font-size: 0.8em; letter-spacing: 1px\">\n",
              "        <textPath xlink:href=\"#arrow-679e9a722a98414e812aecc7e3ef7788-0-6\" class=\"displacy-label\" startOffset=\"50%\" side=\"left\" fill=\"currentColor\" text-anchor=\"middle\">dobj</textPath>\n",
              "    </text>\n",
              "    <path class=\"displacy-arrowhead\" d=\"M645.0,131.5 L653.0,119.5 637.0,119.5\" fill=\"currentColor\"/>\n",
              "</g>\n",
              "\n",
              "<g class=\"displacy-arrow\">\n",
              "    <path class=\"displacy-arc\" id=\"arrow-679e9a722a98414e812aecc7e3ef7788-0-7\" stroke-width=\"2px\" d=\"M665,129.5 C665,87.0 720.0,87.0 720.0,129.5\" fill=\"none\" stroke=\"currentColor\"/>\n",
              "    <text dy=\"1.25em\" style=\"font-size: 0.8em; letter-spacing: 1px\">\n",
              "        <textPath xlink:href=\"#arrow-679e9a722a98414e812aecc7e3ef7788-0-7\" class=\"displacy-label\" startOffset=\"50%\" side=\"left\" fill=\"currentColor\" text-anchor=\"middle\">prep</textPath>\n",
              "    </text>\n",
              "    <path class=\"displacy-arrowhead\" d=\"M720.0,131.5 L728.0,119.5 712.0,119.5\" fill=\"currentColor\"/>\n",
              "</g>\n",
              "\n",
              "<g class=\"displacy-arrow\">\n",
              "    <path class=\"displacy-arc\" id=\"arrow-679e9a722a98414e812aecc7e3ef7788-0-8\" stroke-width=\"2px\" d=\"M835,129.5 C835,87.0 890.0,87.0 890.0,129.5\" fill=\"none\" stroke=\"currentColor\"/>\n",
              "    <text dy=\"1.25em\" style=\"font-size: 0.8em; letter-spacing: 1px\">\n",
              "        <textPath xlink:href=\"#arrow-679e9a722a98414e812aecc7e3ef7788-0-8\" class=\"displacy-label\" startOffset=\"50%\" side=\"left\" fill=\"currentColor\" text-anchor=\"middle\">amod</textPath>\n",
              "    </text>\n",
              "    <path class=\"displacy-arrowhead\" d=\"M835,131.5 L827,119.5 843,119.5\" fill=\"currentColor\"/>\n",
              "</g>\n",
              "\n",
              "<g class=\"displacy-arrow\">\n",
              "    <path class=\"displacy-arc\" id=\"arrow-679e9a722a98414e812aecc7e3ef7788-0-9\" stroke-width=\"2px\" d=\"M750,129.5 C750,44.5 895.0,44.5 895.0,129.5\" fill=\"none\" stroke=\"currentColor\"/>\n",
              "    <text dy=\"1.25em\" style=\"font-size: 0.8em; letter-spacing: 1px\">\n",
              "        <textPath xlink:href=\"#arrow-679e9a722a98414e812aecc7e3ef7788-0-9\" class=\"displacy-label\" startOffset=\"50%\" side=\"left\" fill=\"currentColor\" text-anchor=\"middle\">pobj</textPath>\n",
              "    </text>\n",
              "    <path class=\"displacy-arrowhead\" d=\"M895.0,131.5 L903.0,119.5 887.0,119.5\" fill=\"currentColor\"/>\n",
              "</g>\n",
              "\n",
              "<g class=\"displacy-arrow\">\n",
              "    <path class=\"displacy-arc\" id=\"arrow-679e9a722a98414e812aecc7e3ef7788-0-10\" stroke-width=\"2px\" d=\"M1005,129.5 C1005,87.0 1060.0,87.0 1060.0,129.5\" fill=\"none\" stroke=\"currentColor\"/>\n",
              "    <text dy=\"1.25em\" style=\"font-size: 0.8em; letter-spacing: 1px\">\n",
              "        <textPath xlink:href=\"#arrow-679e9a722a98414e812aecc7e3ef7788-0-10\" class=\"displacy-label\" startOffset=\"50%\" side=\"left\" fill=\"currentColor\" text-anchor=\"middle\">attr</textPath>\n",
              "    </text>\n",
              "    <path class=\"displacy-arrowhead\" d=\"M1005,131.5 L997,119.5 1013,119.5\" fill=\"currentColor\"/>\n",
              "</g>\n",
              "\n",
              "<g class=\"displacy-arrow\">\n",
              "    <path class=\"displacy-arc\" id=\"arrow-679e9a722a98414e812aecc7e3ef7788-0-11\" stroke-width=\"2px\" d=\"M1175,129.5 C1175,87.0 1230.0,87.0 1230.0,129.5\" fill=\"none\" stroke=\"currentColor\"/>\n",
              "    <text dy=\"1.25em\" style=\"font-size: 0.8em; letter-spacing: 1px\">\n",
              "        <textPath xlink:href=\"#arrow-679e9a722a98414e812aecc7e3ef7788-0-11\" class=\"displacy-label\" startOffset=\"50%\" side=\"left\" fill=\"currentColor\" text-anchor=\"middle\">amod</textPath>\n",
              "    </text>\n",
              "    <path class=\"displacy-arrowhead\" d=\"M1175,131.5 L1167,119.5 1183,119.5\" fill=\"currentColor\"/>\n",
              "</g>\n",
              "\n",
              "<g class=\"displacy-arrow\">\n",
              "    <path class=\"displacy-arc\" id=\"arrow-679e9a722a98414e812aecc7e3ef7788-0-12\" stroke-width=\"2px\" d=\"M1090,129.5 C1090,44.5 1235.0,44.5 1235.0,129.5\" fill=\"none\" stroke=\"currentColor\"/>\n",
              "    <text dy=\"1.25em\" style=\"font-size: 0.8em; letter-spacing: 1px\">\n",
              "        <textPath xlink:href=\"#arrow-679e9a722a98414e812aecc7e3ef7788-0-12\" class=\"displacy-label\" startOffset=\"50%\" side=\"left\" fill=\"currentColor\" text-anchor=\"middle\">nsubj</textPath>\n",
              "    </text>\n",
              "    <path class=\"displacy-arrowhead\" d=\"M1235.0,131.5 L1243.0,119.5 1227.0,119.5\" fill=\"currentColor\"/>\n",
              "</g>\n",
              "</svg></span>"
            ],
            "text/plain": [
              "<IPython.core.display.HTML object>"
            ]
          },
          "metadata": {
            "tags": []
          }
        }
      ]
    },
    {
      "cell_type": "markdown",
      "metadata": {
        "id": "W6alLd-DiG0g"
      },
      "source": [
        "# 4 Árvore de Análise"
      ]
    },
    {
      "cell_type": "code",
      "metadata": {
        "id": "Jzezf2lmhyaV",
        "colab": {
          "base_uri": "https://localhost:8080/"
        },
        "outputId": "e5848254-44b4-4173-bbbc-353ad2eb588c"
      },
      "source": [
        "from nltk import Tree\n",
        "\n",
        "def to_nltk_tree(node):\n",
        "    if node.n_lefts + node.n_rights > 0:\n",
        "        return Tree(node.orth_, [to_nltk_tree(child) for child in node.children])\n",
        "    else:\n",
        "        return node.orth_\n",
        "\n",
        "[to_nltk_tree(sent.root).pretty_print() for sent in doc.sents]"
      ],
      "execution_count": null,
      "outputs": [
        {
          "output_type": "stream",
          "text": [
            "         published                           \n",
            "  ___________|______________                  \n",
            " |    |      |            piece              \n",
            " |    |      |       _______|__________       \n",
            " |    |   Journal   |       |          on    \n",
            " |    |      |      |       |          |      \n",
            " |    |    Street   |       |      currencies\n",
            " |    |      |      |       |          |      \n",
            "just  .     Wall    an interesting   crypto  \n",
            "\n",
            "      is           \n",
            "  ____|______       \n",
            " |    |  currencies\n",
            " |    |      |      \n",
            "What  ?    crypto  \n",
            "\n"
          ],
          "name": "stdout"
        },
        {
          "output_type": "execute_result",
          "data": {
            "text/plain": [
              "[None, None]"
            ]
          },
          "metadata": {
            "tags": []
          },
          "execution_count": 24
        }
      ]
    },
    {
      "cell_type": "markdown",
      "metadata": {
        "id": "FLRCeu_ormZF"
      },
      "source": [
        "# 5 Frase substantiva\n",
        "\n",
        "https://realpython.com/natural-language-processing-spacy-python/"
      ]
    },
    {
      "cell_type": "code",
      "metadata": {
        "id": "wB5NTb8MroUc",
        "colab": {
          "base_uri": "https://localhost:8080/"
        },
        "outputId": "0ea5d7de-929c-485f-e0af-290545eee90f"
      },
      "source": [
        "doc = nlp(sentence)\n",
        "\n",
        "# Extrai a frase substantiva\n",
        "for chunk in doc.noun_chunks:\n",
        "   print (chunk)"
      ],
      "execution_count": null,
      "outputs": [
        {
          "output_type": "stream",
          "text": [
            "Wall Street Journal\n",
            "an interesting piece\n",
            "crypto currencies\n",
            "What\n",
            "crypto currencies\n"
          ],
          "name": "stdout"
        }
      ]
    },
    {
      "cell_type": "markdown",
      "metadata": {
        "id": "KAj24RXQKIzK"
      },
      "source": [
        "## Outros Exemplos"
      ]
    },
    {
      "cell_type": "markdown",
      "metadata": {
        "id": "aAYU5iNSJtqq"
      },
      "source": [
        "Visualiza o vetor que representa a palavra 'Journal'."
      ]
    },
    {
      "cell_type": "code",
      "metadata": {
        "id": "OdIXJ6KuJ63h",
        "colab": {
          "base_uri": "https://localhost:8080/"
        },
        "outputId": "006b9f43-d2cf-4929-8cc8-7fffe6a1abda"
      },
      "source": [
        "print(nlp.vocab[u'and'].vector)"
      ],
      "execution_count": null,
      "outputs": [
        {
          "output_type": "stream",
          "text": [
            "[-1.8567e-01  6.6008e-02 -2.5209e-01 -1.1725e-01  2.6513e-01  6.4908e-02\n",
            "  1.2291e-01 -9.3979e-02  2.4321e-02  2.4926e+00 -1.7916e-02 -7.1218e-02\n",
            " -2.4782e-01 -2.6237e-01 -2.2460e-01 -2.1961e-01 -1.2927e-01  1.0867e+00\n",
            " -6.6072e-01 -3.1617e-02 -5.7328e-02  5.6903e-02 -2.7939e-01 -3.9825e-01\n",
            "  1.4251e-01 -8.5146e-02 -1.4779e-01  5.5067e-02 -2.8687e-03 -2.0917e-01\n",
            " -7.0735e-02  2.2577e-01 -1.5881e-01 -1.0395e-01  9.7110e-02 -5.6251e-01\n",
            " -3.2929e-01 -2.0853e-01  9.8711e-03  4.9777e-02  1.4883e-03  1.5884e-01\n",
            "  4.2771e-02 -2.6956e-03 -2.4620e-02 -1.9213e-01 -2.2556e-01  1.0838e-01\n",
            "  9.0086e-02 -1.3291e-01  3.2559e-01 -1.7038e-01 -1.0990e-01 -2.3986e-01\n",
            " -2.4289e-02  1.4656e-02 -2.3700e-01  8.4828e-02 -3.5982e-01 -7.6746e-02\n",
            "  4.8909e-02  1.1431e-01 -2.1013e-01  2.4765e-01 -1.7531e-02 -1.4028e-01\n",
            "  4.6191e-02  2.2972e-01  1.1750e-01  1.2724e-01  1.2992e-02  4.5870e-01\n",
            "  4.1085e-01  3.9106e-02  1.5713e-01 -1.8376e-01  2.6834e-01  5.6662e-02\n",
            "  1.6844e-01 -5.3788e-02 -9.1892e-02  1.1193e-01 -8.6810e-02 -1.3324e-01\n",
            "  1.5062e-01 -3.1733e-01 -2.2078e-01  2.5038e-01  3.4131e-01  3.6419e-01\n",
            " -8.9514e-02 -2.2193e-01  2.4471e-01  4.0091e-02  4.7798e-01 -2.9996e-02\n",
            "  1.9212e-03  6.3511e-02 -2.0417e-01 -2.6478e-01  2.0649e-01  1.5573e-02\n",
            " -2.7722e-01 -1.8861e-01 -1.0289e-01 -4.9773e-01  1.4986e-01 -1.0877e-02\n",
            "  2.5085e-01 -2.8117e-01  1.8966e-01 -6.5879e-02  9.4753e-02 -1.5338e-01\n",
            " -5.5071e-02 -3.6747e-01  2.4993e-01  9.6527e-02  2.3538e-01  1.8405e-01\n",
            "  5.2859e-02  2.2967e-01  1.2582e-01  1.5536e-01 -1.7275e-01  3.3946e-01\n",
            " -1.0049e-01  7.4948e-02 -9.3575e-02 -4.0490e-02 -1.6922e-02 -5.8039e-03\n",
            " -1.8108e-01  1.9537e-01  4.5178e-01  1.0965e-01  2.3370e-01 -9.9050e-02\n",
            " -7.8633e-02  2.1678e-01 -7.1231e-01 -9.9759e-02  3.3333e-01 -1.6460e-01\n",
            " -9.1688e-02  2.1056e-01  2.3669e-02  2.8922e-02  1.1990e-01 -1.2512e-01\n",
            " -2.6037e-02 -6.2217e-02  5.5816e-01  5.0273e-03 -3.0888e-01  3.8611e-02\n",
            "  1.7568e-01 -1.1163e-01 -1.0815e-01 -1.9444e-01  2.9433e-01  1.4519e-01\n",
            " -4.2878e-02  1.8534e-01  1.8891e-02 -6.1883e-01  1.3352e-01  3.6007e-02\n",
            "  3.3995e-01  2.2109e-01 -7.9328e-02  7.1319e-02  1.7678e-01  1.6378e-01\n",
            " -2.3142e-01 -1.4340e-01 -9.8122e-02 -1.9286e-02  2.3560e-01 -3.4013e-01\n",
            " -6.1007e-02 -2.3208e-01 -3.1152e-01  1.0063e-01 -1.5957e-01  2.0183e-01\n",
            " -1.6345e-02 -1.2303e-01  2.2667e-02 -2.0986e-01 -2.0127e-01 -8.7883e-02\n",
            "  6.4731e-02  1.0195e-01 -1.7860e-01  3.3056e-01  2.1407e-01 -3.2165e-01\n",
            " -1.7106e-01  1.9407e-01 -3.8618e-01 -2.1480e-01 -5.2254e-02  2.3175e-02\n",
            "  4.7389e-01  1.8612e-01  1.2711e-01  2.0855e-01 -1.0256e-01 -1.2016e-01\n",
            " -4.0488e-01  2.9695e-02 -2.7419e-02 -8.5227e-03 -1.1415e-01  8.1134e-02\n",
            " -1.7228e-01  1.9142e-01  2.6514e-02  4.3789e-02 -1.2399e-01  1.3354e-01\n",
            "  1.0112e-01  8.1682e-02 -1.5085e-01  7.5806e-03 -1.8971e-01  2.4669e-01\n",
            "  2.2491e-01  3.5553e-01 -3.2770e-01 -2.1821e-01  1.4020e-01  2.8604e-01\n",
            "  5.5226e-02 -8.6544e-02  2.1110e-02 -1.9236e-01  7.4245e-02  7.6782e-02\n",
            "  8.1666e-04  3.4097e-02 -5.7719e-01  1.0657e-01  2.8134e-01 -1.1964e-01\n",
            " -6.8281e-01 -3.2893e-01 -2.4442e-01 -2.5847e-02  9.1273e-03  2.0250e-01\n",
            " -5.0959e-02 -1.1042e-01  1.0962e-02  7.6773e-02  4.0048e-01 -4.0739e-01\n",
            " -4.4773e-01  3.1954e-01 -3.6326e-02 -1.2789e-02 -1.7282e-01  1.4760e-01\n",
            "  2.3560e-01  8.0642e-02 -3.6528e-01 -8.3443e-03  6.2390e-01 -2.4379e-01\n",
            "  1.9917e-02 -2.8803e-01 -1.0494e-02  3.8412e-02 -1.1718e-01 -7.2462e-02\n",
            "  1.6381e-01  3.8488e-01 -2.9783e-02  2.3444e-01  4.5320e-01  1.4815e-01\n",
            " -2.7021e-02 -7.3181e-02 -1.1470e-01 -5.4545e-03  4.7796e-01  9.0912e-02\n",
            "  9.4489e-02 -3.6882e-01 -5.9396e-01 -9.7729e-02  2.0072e-01  1.7055e-01\n",
            " -4.7356e-03 -3.9709e-02  3.2498e-01 -2.3452e-02  1.2302e-01  3.3120e-01]\n"
          ],
          "name": "stdout"
        }
      ]
    },
    {
      "cell_type": "markdown",
      "metadata": {
        "id": "Hp4KXhZNyVNh"
      },
      "source": [
        "Import para apresentação dos dados"
      ]
    },
    {
      "cell_type": "code",
      "metadata": {
        "id": "sQqDa6lgfqJX",
        "colab": {
          "base_uri": "https://localhost:8080/"
        },
        "outputId": "8a028920-8702-42d8-e227-b540451022f0"
      },
      "source": [
        "from scipy import spatial\n",
        "from jinja2 import Template\n",
        "from IPython.display import display, HTML\n",
        "\n",
        "logging.info('Import realizado!')"
      ],
      "execution_count": null,
      "outputs": [
        {
          "output_type": "stream",
          "text": [
            "2021-06-18 10:41:06,786 : INFO : Import realizado!\n"
          ],
          "name": "stderr"
        }
      ]
    },
    {
      "cell_type": "markdown",
      "metadata": {
        "id": "QWhQ6U9WyYQK"
      },
      "source": [
        "Função para calcular a similaridade e apresentação dos dados."
      ]
    },
    {
      "cell_type": "code",
      "metadata": {
        "id": "9atJadP_VvJr",
        "colab": {
          "base_uri": "https://localhost:8080/"
        },
        "outputId": "1efaee50-ef7a-4c22-b04a-6ee8120a82b1"
      },
      "source": [
        "#template de apresentação dos dados\n",
        "table_list_template = \"\"\" \n",
        "<table> \n",
        "        <tr>  \n",
        "           <th>Palavra</th>   \n",
        "           <th>Similaridade</th>   \n",
        "        </tr>  \n",
        "        {% for item in items%}  \n",
        "        <TR>     \n",
        "           <TD class=\"c1\">{{item[0].text}}</TD>     \n",
        "           <TD class=\"c2\">{{item[1]}}</TD>   \n",
        "        </TR>   \n",
        "        {% endfor %}\n",
        "</table> \n",
        "\"\"\"\n",
        "\n",
        "#função de cálculo da das palavras\n",
        "def most_similar(positive, negative):\n",
        "    cosine_similarity = lambda x, y: 1 - spatial.distance.cosine(x, y)\n",
        " \n",
        "    #recupera o cálculo das palavras\n",
        "    positivo1 = nlp.vocab[positive[0]].vector \n",
        "    positivo2 = nlp.vocab[positive[1]].vector\n",
        "    negativo1 = nlp.vocab[negative[0]].vector\n",
        " \n",
        "    # Agora precisamos encontrar o vetor mais próximo no vocabulário do resultado de \"man\" - \"woman\" + \"queen\"\n",
        "    diferenca = negativo1 - positivo2 + positivo1\n",
        "  \n",
        "    cs = [] \n",
        "    for word in nlp.vocab:\n",
        "        # Ignore palavras sem vetor\n",
        "        if not word.has_vector:\n",
        "            continue\n",
        " \n",
        "        similarity = cosine_similarity(diferenca, word.vector)\n",
        "        cs.append((word, similarity))\n",
        "  \n",
        "    cs = sorted(cs, key=lambda item: -item[1])\n",
        "\n",
        "    tmpl = Template(table_list_template)\n",
        "    output_html = tmpl.render(items=cs[:10])\n",
        "    return HTML(output_html) \n",
        "\n",
        "logging.info('Função criada!')"
      ],
      "execution_count": null,
      "outputs": [
        {
          "output_type": "stream",
          "text": [
            "2021-06-18 10:41:06,824 : INFO : Função criada!\n"
          ],
          "name": "stderr"
        }
      ]
    },
    {
      "cell_type": "markdown",
      "metadata": {
        "id": "OZfBgX9FUo-T"
      },
      "source": [
        "Similaridade de \"queen\" e \"king\"<br>\n",
        "Rainha + Mulher – Homem = ?"
      ]
    },
    {
      "cell_type": "code",
      "metadata": {
        "id": "Q-9qOEEIV7h9",
        "colab": {
          "base_uri": "https://localhost:8080/",
          "height": 250
        },
        "outputId": "868ee148-f38c-48a1-d4be-3747a8df3cd4"
      },
      "source": [
        "most_similar(positive=[u'Queen',u'Woman'], negative=[u'Man'])\n",
        "#['Queen', 'QUEEN', 'queen', 'King', 'KING', 'king', 'KIng', 'Kings', 'KINGS', 'kings']"
      ],
      "execution_count": null,
      "outputs": [
        {
          "output_type": "execute_result",
          "data": {
            "text/html": [
              " \n",
              "<table> \n",
              "        <tr>  \n",
              "           <th>Palavra</th>   \n",
              "           <th>Similaridade</th>   \n",
              "        </tr>  \n",
              "          \n",
              "        <TR>     \n",
              "           <TD class=\"c1\">Queen</TD>     \n",
              "           <TD class=\"c2\">0.7754250764846802</TD>   \n",
              "        </TR>   \n",
              "          \n",
              "        <TR>     \n",
              "           <TD class=\"c1\">Man</TD>     \n",
              "           <TD class=\"c2\">0.41803106665611267</TD>   \n",
              "        </TR>   \n",
              "          \n",
              "        <TR>     \n",
              "           <TD class=\"c1\">Mr</TD>     \n",
              "           <TD class=\"c2\">0.35803136229515076</TD>   \n",
              "        </TR>   \n",
              "          \n",
              "        <TR>     \n",
              "           <TD class=\"c1\">Mr.</TD>     \n",
              "           <TD class=\"c2\">0.3538039028644562</TD>   \n",
              "        </TR>   \n",
              "          \n",
              "        <TR>     \n",
              "           <TD class=\"c1\">He</TD>     \n",
              "           <TD class=\"c2\">0.34886226058006287</TD>   \n",
              "        </TR>   \n",
              "          \n",
              "        <TR>     \n",
              "           <TD class=\"c1\">he</TD>     \n",
              "           <TD class=\"c2\">0.34886226058006287</TD>   \n",
              "        </TR>   \n",
              "          \n",
              "        <TR>     \n",
              "           <TD class=\"c1\">cuz</TD>     \n",
              "           <TD class=\"c2\">0.33034539222717285</TD>   \n",
              "        </TR>   \n",
              "          \n",
              "        <TR>     \n",
              "           <TD class=\"c1\">Cuz</TD>     \n",
              "           <TD class=\"c2\">0.33034539222717285</TD>   \n",
              "        </TR>   \n",
              "          \n",
              "        <TR>     \n",
              "           <TD class=\"c1\">Let</TD>     \n",
              "           <TD class=\"c2\">0.3161923289299011</TD>   \n",
              "        </TR>   \n",
              "          \n",
              "        <TR>     \n",
              "           <TD class=\"c1\">let</TD>     \n",
              "           <TD class=\"c2\">0.3161923289299011</TD>   \n",
              "        </TR>   \n",
              "        \n",
              "</table> "
            ],
            "text/plain": [
              "<IPython.core.display.HTML object>"
            ]
          },
          "metadata": {
            "tags": []
          },
          "execution_count": 29
        }
      ]
    },
    {
      "cell_type": "markdown",
      "metadata": {
        "id": "9iKAtTiKxkDM"
      },
      "source": [
        "\n",
        "Rainha + Homem – Mulher = ?"
      ]
    },
    {
      "cell_type": "code",
      "metadata": {
        "id": "f59RMra0xlKT",
        "colab": {
          "base_uri": "https://localhost:8080/",
          "height": 250
        },
        "outputId": "acb28527-80b7-4920-fe01-f356a9853d8b"
      },
      "source": [
        "most_similar(positive=[u'queen',u'man'], negative=[u'woman'])"
      ],
      "execution_count": null,
      "outputs": [
        {
          "output_type": "execute_result",
          "data": {
            "text/html": [
              " \n",
              "<table> \n",
              "        <tr>  \n",
              "           <th>Palavra</th>   \n",
              "           <th>Similaridade</th>   \n",
              "        </tr>  \n",
              "          \n",
              "        <TR>     \n",
              "           <TD class=\"c1\">queen</TD>     \n",
              "           <TD class=\"c2\">0.8607285618782043</TD>   \n",
              "        </TR>   \n",
              "          \n",
              "        <TR>     \n",
              "           <TD class=\"c1\">Queen</TD>     \n",
              "           <TD class=\"c2\">0.8607285618782043</TD>   \n",
              "        </TR>   \n",
              "          \n",
              "        <TR>     \n",
              "           <TD class=\"c1\">woman</TD>     \n",
              "           <TD class=\"c2\">0.5410138368606567</TD>   \n",
              "        </TR>   \n",
              "          \n",
              "        <TR>     \n",
              "           <TD class=\"c1\">Woman</TD>     \n",
              "           <TD class=\"c2\">0.5410138368606567</TD>   \n",
              "        </TR>   \n",
              "          \n",
              "        <TR>     \n",
              "           <TD class=\"c1\">she</TD>     \n",
              "           <TD class=\"c2\">0.44051575660705566</TD>   \n",
              "        </TR>   \n",
              "          \n",
              "        <TR>     \n",
              "           <TD class=\"c1\">She</TD>     \n",
              "           <TD class=\"c2\">0.44051575660705566</TD>   \n",
              "        </TR>   \n",
              "          \n",
              "        <TR>     \n",
              "           <TD class=\"c1\">Mrs</TD>     \n",
              "           <TD class=\"c2\">0.25844788551330566</TD>   \n",
              "        </TR>   \n",
              "          \n",
              "        <TR>     \n",
              "           <TD class=\"c1\">dare</TD>     \n",
              "           <TD class=\"c2\">0.24624815583229065</TD>   \n",
              "        </TR>   \n",
              "          \n",
              "        <TR>     \n",
              "           <TD class=\"c1\">Dare</TD>     \n",
              "           <TD class=\"c2\">0.24624815583229065</TD>   \n",
              "        </TR>   \n",
              "          \n",
              "        <TR>     \n",
              "           <TD class=\"c1\">Mrs.</TD>     \n",
              "           <TD class=\"c2\">0.23954209685325623</TD>   \n",
              "        </TR>   \n",
              "        \n",
              "</table> "
            ],
            "text/plain": [
              "<IPython.core.display.HTML object>"
            ]
          },
          "metadata": {
            "tags": []
          },
          "execution_count": 30
        }
      ]
    },
    {
      "cell_type": "markdown",
      "metadata": {
        "id": "Sw-Avpb0zL9b"
      },
      "source": [
        "Rei + Mulher – Homem = ?"
      ]
    },
    {
      "cell_type": "code",
      "metadata": {
        "id": "H1v8VY6DzMJK",
        "colab": {
          "base_uri": "https://localhost:8080/",
          "height": 250
        },
        "outputId": "ecf89e19-fa73-426e-e199-abf1b4cda0fa"
      },
      "source": [
        "most_similar(positive=[u'king',u'woman'], negative=[u'man'])"
      ],
      "execution_count": null,
      "outputs": [
        {
          "output_type": "execute_result",
          "data": {
            "text/html": [
              " \n",
              "<table> \n",
              "        <tr>  \n",
              "           <th>Palavra</th>   \n",
              "           <th>Similaridade</th>   \n",
              "        </tr>  \n",
              "          \n",
              "        <TR>     \n",
              "           <TD class=\"c1\">king</TD>     \n",
              "           <TD class=\"c2\">0.8575966358184814</TD>   \n",
              "        </TR>   \n",
              "          \n",
              "        <TR>     \n",
              "           <TD class=\"c1\">Man</TD>     \n",
              "           <TD class=\"c2\">0.45190149545669556</TD>   \n",
              "        </TR>   \n",
              "          \n",
              "        <TR>     \n",
              "           <TD class=\"c1\">man</TD>     \n",
              "           <TD class=\"c2\">0.45190149545669556</TD>   \n",
              "        </TR>   \n",
              "          \n",
              "        <TR>     \n",
              "           <TD class=\"c1\">queen</TD>     \n",
              "           <TD class=\"c2\">0.44433581829071045</TD>   \n",
              "        </TR>   \n",
              "          \n",
              "        <TR>     \n",
              "           <TD class=\"c1\">Queen</TD>     \n",
              "           <TD class=\"c2\">0.44433581829071045</TD>   \n",
              "        </TR>   \n",
              "          \n",
              "        <TR>     \n",
              "           <TD class=\"c1\">He</TD>     \n",
              "           <TD class=\"c2\">0.4102647602558136</TD>   \n",
              "        </TR>   \n",
              "          \n",
              "        <TR>     \n",
              "           <TD class=\"c1\">he</TD>     \n",
              "           <TD class=\"c2\">0.4102647602558136</TD>   \n",
              "        </TR>   \n",
              "          \n",
              "        <TR>     \n",
              "           <TD class=\"c1\">Jr</TD>     \n",
              "           <TD class=\"c2\">0.3726416826248169</TD>   \n",
              "        </TR>   \n",
              "          \n",
              "        <TR>     \n",
              "           <TD class=\"c1\">Mr</TD>     \n",
              "           <TD class=\"c2\">0.3702760934829712</TD>   \n",
              "        </TR>   \n",
              "          \n",
              "        <TR>     \n",
              "           <TD class=\"c1\">Mr.</TD>     \n",
              "           <TD class=\"c2\">0.3435118794441223</TD>   \n",
              "        </TR>   \n",
              "        \n",
              "</table> "
            ],
            "text/plain": [
              "<IPython.core.display.HTML object>"
            ]
          },
          "metadata": {
            "tags": []
          },
          "execution_count": 31
        }
      ]
    },
    {
      "cell_type": "markdown",
      "metadata": {
        "id": "lmW-B5JO0SqG"
      },
      "source": [
        "Rei + Homem – Mulher = ?"
      ]
    },
    {
      "cell_type": "code",
      "metadata": {
        "id": "yKyR2bi-0L7K",
        "colab": {
          "base_uri": "https://localhost:8080/",
          "height": 250
        },
        "outputId": "e9fd6b4d-f98e-4873-e120-84102834b667"
      },
      "source": [
        "most_similar(positive=[u'king',u'man'], negative=[u'woman'])"
      ],
      "execution_count": null,
      "outputs": [
        {
          "output_type": "execute_result",
          "data": {
            "text/html": [
              " \n",
              "<table> \n",
              "        <tr>  \n",
              "           <th>Palavra</th>   \n",
              "           <th>Similaridade</th>   \n",
              "        </tr>  \n",
              "          \n",
              "        <TR>     \n",
              "           <TD class=\"c1\">king</TD>     \n",
              "           <TD class=\"c2\">0.8024259805679321</TD>   \n",
              "        </TR>   \n",
              "          \n",
              "        <TR>     \n",
              "           <TD class=\"c1\">queen</TD>     \n",
              "           <TD class=\"c2\">0.7880843877792358</TD>   \n",
              "        </TR>   \n",
              "          \n",
              "        <TR>     \n",
              "           <TD class=\"c1\">Queen</TD>     \n",
              "           <TD class=\"c2\">0.7880843877792358</TD>   \n",
              "        </TR>   \n",
              "          \n",
              "        <TR>     \n",
              "           <TD class=\"c1\">woman</TD>     \n",
              "           <TD class=\"c2\">0.5150813460350037</TD>   \n",
              "        </TR>   \n",
              "          \n",
              "        <TR>     \n",
              "           <TD class=\"c1\">Woman</TD>     \n",
              "           <TD class=\"c2\">0.5150813460350037</TD>   \n",
              "        </TR>   \n",
              "          \n",
              "        <TR>     \n",
              "           <TD class=\"c1\">she</TD>     \n",
              "           <TD class=\"c2\">0.3956184387207031</TD>   \n",
              "        </TR>   \n",
              "          \n",
              "        <TR>     \n",
              "           <TD class=\"c1\">She</TD>     \n",
              "           <TD class=\"c2\">0.3956184387207031</TD>   \n",
              "        </TR>   \n",
              "          \n",
              "        <TR>     \n",
              "           <TD class=\"c1\">Who</TD>     \n",
              "           <TD class=\"c2\">0.3159499764442444</TD>   \n",
              "        </TR>   \n",
              "          \n",
              "        <TR>     \n",
              "           <TD class=\"c1\">who</TD>     \n",
              "           <TD class=\"c2\">0.3159499764442444</TD>   \n",
              "        </TR>   \n",
              "          \n",
              "        <TR>     \n",
              "           <TD class=\"c1\">r.</TD>     \n",
              "           <TD class=\"c2\">0.29805222153663635</TD>   \n",
              "        </TR>   \n",
              "        \n",
              "</table> "
            ],
            "text/plain": [
              "<IPython.core.display.HTML object>"
            ]
          },
          "metadata": {
            "tags": []
          },
          "execution_count": 32
        }
      ]
    },
    {
      "cell_type": "markdown",
      "metadata": {
        "id": "YE9O7fM-y5Zc"
      },
      "source": [
        "Função de cálculo da similaridade de palavras."
      ]
    },
    {
      "cell_type": "code",
      "metadata": {
        "id": "UuHoa2MJUp4R",
        "colab": {
          "base_uri": "https://localhost:8080/"
        },
        "outputId": "becb180d-7ecd-4ead-89f2-1c156585c609"
      },
      "source": [
        "#Matemática de Word Embeding\n",
        "from scipy import spatial\n",
        " \n",
        "cosine_similarity = lambda x, y: 1 - spatial.distance.cosine(x, y)\n",
        " \n",
        "#recupera o cálculo das palavras\n",
        "man = nlp.vocab[u'man'].vector\n",
        "woman = nlp.vocab[u'woman'].vector\n",
        "queen = nlp.vocab[u'queen'].vector\n",
        "#king = nlp.vocab[u'king'].vector\n",
        " \n",
        "# Agora precisamos encontrar o vetor mais próximo no vocabulário do resultado de \"man\" - \"woman\" + \"queen\"\n",
        "maybe_king = man - woman + queen\n",
        "computed_similarities = []\n",
        " \n",
        "for word in nlp.vocab:\n",
        "    # Ignore palavras sem vetor\n",
        "    if not word.has_vector:\n",
        "        continue\n",
        " \n",
        "    similarity = cosine_similarity(maybe_king, word.vector)\n",
        "    computed_similarities.append((word, similarity))\n",
        " \n",
        "computed_similarities = sorted(computed_similarities, key=lambda item: -item[1])\n",
        "\n",
        "#mostra o resultado\n",
        "print([w[0].text for w in computed_similarities[:10]])"
      ],
      "execution_count": null,
      "outputs": [
        {
          "output_type": "stream",
          "text": [
            "['queen', 'Queen', 'king', 'Man', 'man', 'Mr', 'Mr.', 'He', 'he', 'cuz']\n"
          ],
          "name": "stdout"
        }
      ]
    },
    {
      "cell_type": "markdown",
      "metadata": {
        "id": "-zBBKEgCzCW9"
      },
      "source": [
        "Calculando a similaridade"
      ]
    },
    {
      "cell_type": "code",
      "metadata": {
        "id": "9f4GU-FVzCrK",
        "colab": {
          "base_uri": "https://localhost:8080/"
        },
        "outputId": "f577bd89-45fa-4ec8-9dc6-aa9ab7dec71a"
      },
      "source": [
        "banana = nlp.vocab[u'banana']\n",
        "dog = nlp.vocab[u'dog']\n",
        "fruit = nlp.vocab[u'fruit']\n",
        "animal = nlp.vocab[u'animal']\n",
        " \n",
        "print(dog.similarity(animal), dog.similarity(fruit))\n",
        "print(banana.similarity(fruit), banana.similarity(animal))"
      ],
      "execution_count": null,
      "outputs": [
        {
          "output_type": "stream",
          "text": [
            "0.66185343 0.23552851\n",
            "0.67148364 0.24272855\n"
          ],
          "name": "stdout"
        }
      ]
    },
    {
      "cell_type": "markdown",
      "metadata": {
        "id": "UFuZc9Sk0ZMp"
      },
      "source": [
        "Calculando a similaridade entre textos"
      ]
    },
    {
      "cell_type": "code",
      "metadata": {
        "id": "mMWSQxnQ0ZZC",
        "colab": {
          "base_uri": "https://localhost:8080/"
        },
        "outputId": "c25ba2f1-c185-4af6-81b5-aaa13ed95bae"
      },
      "source": [
        "destino = nlp(u'Cats are beautiful animals.')\n",
        " \n",
        "doc1 = nlp(u'Dogs are awesome.')\n",
        "doc2 = nlp(u'Some gorgeous creatures are felines.')\n",
        "doc3 = nlp(u'Dolphins are swimming mammals.')\n",
        " \n",
        "print(destino.similarity(doc1))\n",
        "print(destino.similarity(doc2)) \n",
        "print(destino.similarity(doc3))"
      ],
      "execution_count": null,
      "outputs": [
        {
          "output_type": "stream",
          "text": [
            "0.8901766262114666\n",
            "0.9115828449161616\n",
            "0.7822956256736615\n"
          ],
          "name": "stdout"
        }
      ]
    }
  ]
}