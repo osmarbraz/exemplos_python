{
  "nbformat": 4,
  "nbformat_minor": 0,
  "metadata": {
    "colab": {
      "name": "ExemplosPythonEstruturasDeDados.ipynb",
      "provenance": [],
      "collapsed_sections": [],
      "toc_visible": true,
      "include_colab_link": true
    },
    "kernelspec": {
      "name": "python3",
      "display_name": "Python 3"
    }
  },
  "cells": [
    {
      "cell_type": "markdown",
      "metadata": {
        "id": "view-in-github",
        "colab_type": "text"
      },
      "source": [
        "<a href=\"https://colab.research.google.com/github/osmarbraz/exemplos_python/blob/master/ExemplosPythonEstruturasDeDados.ipynb\" target=\"_parent\"><img src=\"https://colab.research.google.com/assets/colab-badge.svg\" alt=\"Open In Colab\"/></a>"
      ]
    },
    {
      "cell_type": "markdown",
      "metadata": {
        "id": "xY84ChCNzmQQ",
        "colab_type": "text"
      },
      "source": [
        "# Exemplos de Estruturas de Dados em Python no Google Colaboratory\n",
        "\n",
        "- Listas;\n",
        "- Enumerações(Enumerate);\n",
        "- Tuplas;\n",
        "- Conjuntos(Sets);\n",
        "- Dicionários;\n",
        "- Classificação(Ordenação);\n",
        "- Classes de Estrutura de Dados.\n",
        "\n",
        "-----------------------------------------\n",
        "**Guia Colab Iniciante:**\n",
        "\n",
        "https://medium.com/machina-sapiens/google-colab-guia-do-iniciante-334d70aad531\n",
        "\n",
        "**Documentação oficial:**\n",
        "\n",
        "https://colab.research.google.com/github/jakevdp/PythonDataScienceHandbook/blob/master/notebooks/01.01-Help-And-Documentation.ipynb\n",
        "\n",
        "**Características :**\n",
        "\n",
        "https://colab.research.google.com/notebooks/basic_features_overview.ipynb"
      ]
    },
    {
      "cell_type": "markdown",
      "metadata": {
        "id": "8-yh61Cp3W_0",
        "colab_type": "text"
      },
      "source": [
        "# Listas(Vetores)"
      ]
    },
    {
      "cell_type": "markdown",
      "metadata": {
        "id": "_F96dx_gpm2Y",
        "colab_type": "text"
      },
      "source": [
        "Uma lista é a estrutura de dados mais básica do Python e armazena os dados em sequência, onde cada elemento possui sua posição na lista, denominada de índice. O primeiro elemento é sempre o índice zero e a cada elemento inserido na lista esse valor é incrementado.\n",
        "\n",
        "No Python, uma lista pode armazenar qualquer tipo de dado primitivo (string, inteiro, float, etc). \n",
        "\n",
        "Listas são equivalentes a vetores.\n",
        "\n",
        "* São ordenadas;\n",
        "* Podem ser iteradas;\n",
        "* São mutáveis (podemos adicionar, mover, mudar ou remover elementos);\n",
        "* Aceitam diversos tipos de elementos.\n",
        "\n",
        "https://railsware.com/blog/python-for-machine-learning-indexing-and-slicing-for-lists-tuples-strings-and-other-sequential-types/"
      ]
    },
    {
      "cell_type": "markdown",
      "metadata": {
        "id": "U9yrljlxiyFk",
        "colab_type": "text"
      },
      "source": [
        "## Declarando e criando listas"
      ]
    },
    {
      "cell_type": "code",
      "metadata": {
        "colab_type": "code",
        "id": "CRP2Snaki3N4",
        "colab": {
          "base_uri": "https://localhost:8080/",
          "height": 34
        },
        "outputId": "7beaa1d8-e64d-4c1d-9cff-732ed11f00c1"
      },
      "source": [
        "#declara e inicializa uma lista de cores\n",
        "cores = ['vermelho', 'azul', 'verde', 'amarelo', 'rosa', 'branco']\n",
        "\n",
        "#mostra lista\n",
        "print(cores)"
      ],
      "execution_count": null,
      "outputs": [
        {
          "output_type": "stream",
          "text": [
            "['vermelho', 'azul', 'verde', 'amarelo', 'rosa', 'branco']\n"
          ],
          "name": "stdout"
        }
      ]
    },
    {
      "cell_type": "markdown",
      "metadata": {
        "id": "aO6beiJqk9Wz",
        "colab_type": "text"
      },
      "source": [
        "## Acessando elementos"
      ]
    },
    {
      "cell_type": "code",
      "metadata": {
        "id": "tWTdt6UHlBLt",
        "colab_type": "code",
        "colab": {
          "base_uri": "https://localhost:8080/",
          "height": 51
        },
        "outputId": "ef186084-1450-46d0-858f-14a0e47b4ccb"
      },
      "source": [
        "#declara e inicializa uma lista de cores\n",
        "cores = ['vermelho', 'azul', 'verde', 'amarelo', 'rosa', 'branco']\n",
        "\n",
        "#acessando o primeiro(índice=0) elemento da lista\n",
        "print(\"Primeiro:\",cores[0])\n",
        "\n",
        "#acessando o terceiro(índice=3) elemento da lista\n",
        "print(\"Terceiro:\", cores[2])"
      ],
      "execution_count": null,
      "outputs": [
        {
          "output_type": "stream",
          "text": [
            "Primeiro: vermelho\n",
            "Terceiro: verde\n"
          ],
          "name": "stdout"
        }
      ]
    },
    {
      "cell_type": "markdown",
      "metadata": {
        "id": "Mr6-JwsfjQ_w",
        "colab_type": "text"
      },
      "source": [
        "## Índices negativos"
      ]
    },
    {
      "cell_type": "code",
      "metadata": {
        "id": "KIzfpb_2jYBK",
        "colab_type": "code",
        "colab": {
          "base_uri": "https://localhost:8080/",
          "height": 68
        },
        "outputId": "4bdc5dba-39d2-4de7-f7b7-fb13925dbf96"
      },
      "source": [
        "#declara e inicializa uma lista de cores\n",
        "cores = ['vermelho', 'azul', 'verde', 'amarelo', 'rosa', 'branco']\n",
        "\n",
        "#acessando o primeiro(índice=0) elemento da lista\n",
        "print(\"Primeiro:\", cores[0])\n",
        "\n",
        "#acessando o último elemento da lista\n",
        "print(\"Último:\",cores[-1])\n",
        "\n",
        "#acessando o penúltimo elemento da lista\n",
        "print(\"Penúltimo:\",cores[-2])"
      ],
      "execution_count": null,
      "outputs": [
        {
          "output_type": "stream",
          "text": [
            "Primeiro: vermelho\n",
            "Último: branco\n",
            "Penúltimo: rosa\n"
          ],
          "name": "stdout"
        }
      ]
    },
    {
      "cell_type": "markdown",
      "metadata": {
        "id": "L6p_1m9vk2Eo",
        "colab_type": "text"
      },
      "source": [
        "## Atribuindo valores"
      ]
    },
    {
      "cell_type": "code",
      "metadata": {
        "id": "OUyBCzp8lKFZ",
        "colab_type": "code",
        "colab": {
          "base_uri": "https://localhost:8080/",
          "height": 34
        },
        "outputId": "ad5bedbf-f25e-4e58-e714-2f5f6871c0bd"
      },
      "source": [
        "#declara e inicializa uma lista de cores\n",
        "cores = ['vermelho', 'azul', 'verde', 'amarelo', 'rosa', 'branco']\n",
        "\n",
        "#atribuindo um novo valor para o primeiro elemento índice=0\n",
        "cores[0]  = 'marron'\n",
        "\n",
        "#atribuíndo um novo valor para o último elemento índice=-1\n",
        "cores[-1] = 'preto'\n",
        "\n",
        "#mostra a lista\n",
        "print(cores)"
      ],
      "execution_count": null,
      "outputs": [
        {
          "output_type": "stream",
          "text": [
            "['marron', 'azul', 'verde', 'amarelo', 'rosa', 'preto']\n"
          ],
          "name": "stdout"
        }
      ]
    },
    {
      "cell_type": "markdown",
      "metadata": {
        "id": "TS6fenV9yyHP",
        "colab_type": "text"
      },
      "source": [
        "##Max e Min dos elementos das listas"
      ]
    },
    {
      "cell_type": "code",
      "metadata": {
        "id": "q-YPfwsayyZF",
        "colab_type": "code",
        "colab": {
          "base_uri": "https://localhost:8080/",
          "height": 51
        },
        "outputId": "be9a9b8f-2373-46ad-ebcc-b5bfff1644ea"
      },
      "source": [
        "#declara e inicializa uma lista de número\n",
        "lista = [10, 20, 30 , 40 , 50 , 60]\n",
        "\n",
        "menor = min(lista)\n",
        "maior = max(lista)\n",
        "\n",
        "#mostra o menor\n",
        "print(menor)\n",
        "\n",
        "#mostra o maior\n",
        "print(maior)"
      ],
      "execution_count": null,
      "outputs": [
        {
          "output_type": "stream",
          "text": [
            "10\n",
            "60\n"
          ],
          "name": "stdout"
        }
      ]
    },
    {
      "cell_type": "markdown",
      "metadata": {
        "id": "gKgypxOH8-kS",
        "colab_type": "text"
      },
      "source": [
        "##Tamanho das listas"
      ]
    },
    {
      "cell_type": "code",
      "metadata": {
        "id": "mZjI2Xsx9EpS",
        "colab_type": "code",
        "colab": {
          "base_uri": "https://localhost:8080/",
          "height": 34
        },
        "outputId": "fa318d2b-a4e3-4527-cbe3-6f38eee8a738"
      },
      "source": [
        "#declara e inicializa uma lista de número\n",
        "lista = [10, 20, 30 , 40 , 50 , 60]\n",
        "\n",
        "#len retorna a quantidade de elementos da lista\n",
        "tamanho = len(lista)\n",
        "\n",
        "#mostra o tamanho\n",
        "print(tamanho)\n"
      ],
      "execution_count": null,
      "outputs": [
        {
          "output_type": "stream",
          "text": [
            "6\n"
          ],
          "name": "stdout"
        }
      ]
    },
    {
      "cell_type": "markdown",
      "metadata": {
        "id": "ymqzP7bp3z8Q",
        "colab_type": "text"
      },
      "source": [
        "## Exibindo listas"
      ]
    },
    {
      "cell_type": "markdown",
      "metadata": {
        "id": "VnCf0nAjkiaJ",
        "colab_type": "text"
      },
      "source": [
        "### Listando tudo"
      ]
    },
    {
      "cell_type": "code",
      "metadata": {
        "id": "bhJ3cCYsGE6m",
        "colab_type": "code",
        "colab": {
          "base_uri": "https://localhost:8080/",
          "height": 119
        },
        "outputId": "9eb78da0-791e-47d3-c0c1-a812426bb03e"
      },
      "source": [
        "#declara e inicializa uma lista de cores\n",
        "cores = ['vermelho', 'azul', 'verde', 'amarelo', 'rosa', 'branco']\n",
        "\n",
        "#percorre a lista de cores, o valor atual está em cor\n",
        "for cor in cores:\n",
        "    print(cor)"
      ],
      "execution_count": null,
      "outputs": [
        {
          "output_type": "stream",
          "text": [
            "vermelho\n",
            "azul\n",
            "verde\n",
            "amarelo\n",
            "rosa\n",
            "branco\n"
          ],
          "name": "stdout"
        }
      ]
    },
    {
      "cell_type": "markdown",
      "metadata": {
        "colab_type": "text",
        "id": "2KuGRyZlG8G0"
      },
      "source": [
        "###  Percorre sem exibir o primeiro e último elemento"
      ]
    },
    {
      "cell_type": "code",
      "metadata": {
        "colab_type": "code",
        "id": "PUk23g8CG8G1",
        "colab": {
          "base_uri": "https://localhost:8080/",
          "height": 85
        },
        "outputId": "ac6df11d-9166-4881-8cbe-008e989410b2"
      },
      "source": [
        "#declara e inicializa uma lista de cores\n",
        "cores = ['vermelho', 'azul', 'verde', 'amarelo', 'rosa', 'branco']\n",
        "\n",
        "#percorre a lista de cores, o valor atual está em cor\n",
        "for cor in cores[1:-1]:\n",
        "    print(cor)"
      ],
      "execution_count": null,
      "outputs": [
        {
          "output_type": "stream",
          "text": [
            "azul\n",
            "verde\n",
            "amarelo\n",
            "rosa\n"
          ],
          "name": "stdout"
        }
      ]
    },
    {
      "cell_type": "markdown",
      "metadata": {
        "id": "Ebgjd9kM85hp",
        "colab_type": "text"
      },
      "source": [
        "### Percorre as listas de forma invertida"
      ]
    },
    {
      "cell_type": "code",
      "metadata": {
        "id": "88o8wdC68woL",
        "colab_type": "code",
        "colab": {
          "base_uri": "https://localhost:8080/",
          "height": 119
        },
        "outputId": "ea2f87b8-9499-413c-d116-1bf722073341"
      },
      "source": [
        "#declara e inicializa uma lista de cores\n",
        "cores = ['vermelho', 'azul', 'verde', 'amarelo', 'rosa', 'branco']\n",
        "\n",
        "#percorre a lista de cores, o valor atual está em cor\n",
        "for cor in cores[::-1]:\n",
        "    print(cor)"
      ],
      "execution_count": null,
      "outputs": [
        {
          "output_type": "stream",
          "text": [
            "branco\n",
            "rosa\n",
            "amarelo\n",
            "verde\n",
            "azul\n",
            "vermelho\n"
          ],
          "name": "stdout"
        }
      ]
    },
    {
      "cell_type": "markdown",
      "metadata": {
        "id": "okzpNteU3uhs",
        "colab_type": "text"
      },
      "source": [
        "### Limitando a exibição sem índice"
      ]
    },
    {
      "cell_type": "code",
      "metadata": {
        "id": "tylksppD399H",
        "colab_type": "code",
        "colab": {
          "base_uri": "https://localhost:8080/",
          "height": 51
        },
        "outputId": "a624ad63-f8eb-429d-d28f-6feaff29b733"
      },
      "source": [
        "#biblioteca para iteragir\n",
        "import itertools\n",
        "\n",
        "#declara e inicializa uma lista de cores\n",
        "cores = ['vermelho', 'azul', 'verde', 'amarelo', 'rosa', 'branco']\n",
        "\n",
        "#limite de dados a serem exibidos\n",
        "limite = 2\n",
        "\n",
        "#percorre a lista de cores até o limite, o valor atual está em cor\n",
        "for cor in itertools.islice(cores, 0, limite):    \n",
        "    print(cor)"
      ],
      "execution_count": null,
      "outputs": [
        {
          "output_type": "stream",
          "text": [
            "vermelho\n",
            "azul\n"
          ],
          "name": "stdout"
        }
      ]
    },
    {
      "cell_type": "markdown",
      "metadata": {
        "id": "YocA-8PD5FV7",
        "colab_type": "text"
      },
      "source": [
        "### Limitando a exibição com índice 1\n",
        "\n",
        "Exemplo usando zip"
      ]
    },
    {
      "cell_type": "code",
      "metadata": {
        "id": "hYYeCwVI5HaB",
        "colab_type": "code",
        "colab": {
          "base_uri": "https://localhost:8080/",
          "height": 51
        },
        "outputId": "0978f318-ca77-465f-e17b-3321ae275a70"
      },
      "source": [
        "#declara e inicializa uma lista de cores\n",
        "cores = ['vermelho', 'azul', 'verde', 'amarelo', 'rosa', 'branco']\n",
        "\n",
        "#limite de dados a serem exibidos\n",
        "limite = 2\n",
        "\n",
        "#percorre a lista de cores até o limite, o valor atual está em cor\n",
        "for index, cor in zip(range(limite), cores):\n",
        "    print(index, cor)"
      ],
      "execution_count": null,
      "outputs": [
        {
          "output_type": "stream",
          "text": [
            "0 vermelho\n",
            "1 azul\n"
          ],
          "name": "stdout"
        }
      ]
    },
    {
      "cell_type": "markdown",
      "metadata": {
        "id": "qHhSY51t4dsr",
        "colab_type": "text"
      },
      "source": [
        "### Limitando a exibição com índice 2\n",
        "\n",
        "Exemplo usando islice, necessita de import itertools"
      ]
    },
    {
      "cell_type": "code",
      "metadata": {
        "id": "dKfGDpaO4gbZ",
        "colab_type": "code",
        "colab": {
          "base_uri": "https://localhost:8080/",
          "height": 51
        },
        "outputId": "aff6c769-e6cd-450a-99cc-8ac0ba24b089"
      },
      "source": [
        "#biblioteca para iteragir\n",
        "import itertools\n",
        "\n",
        "#declara e inicializa uma lista de cores\n",
        "cores = ['vermelho', 'azul', 'verde', 'amarelo', 'rosa', 'branco']\n",
        "\n",
        "#limite de dados a serem exibidos\n",
        "limite = 2\n",
        "\n",
        "#percorre a lista de cores até o limite, o valor atual está em cor\n",
        "for index, cor in enumerate(itertools.islice(cores, limite)):\n",
        "    print(index, cor)"
      ],
      "execution_count": null,
      "outputs": [
        {
          "output_type": "stream",
          "text": [
            "0 vermelho\n",
            "1 azul\n"
          ],
          "name": "stdout"
        }
      ]
    },
    {
      "cell_type": "markdown",
      "metadata": {
        "id": "yzlq0V-mzAHt",
        "colab_type": "text"
      },
      "source": [
        "## Similaridade de coseno com listas"
      ]
    },
    {
      "cell_type": "code",
      "metadata": {
        "colab_type": "code",
        "id": "2eCu5fl_zAxj",
        "colab": {
          "base_uri": "https://localhost:8080/",
          "height": 119
        },
        "outputId": "4cf12aae-60be-4d80-f884-846faf6262f8"
      },
      "source": [
        "#biblioteca de álgebra linear(matrizes)\n",
        "import numpy as np\n",
        "\n",
        "from scipy.spatial.distance import cosine\n",
        "\n",
        "A = np.array([0, 1, 2, 3]) \n",
        "B = np.array([0, 1, 2, 3]) \n",
        "\n",
        "C = cosine(A,B) \n",
        "\n",
        "print('A>', A)\n",
        "print('B>', B)\n",
        "print('C>', C)\n",
        "\n",
        "D = np.array([0, 1, 4, 5]) \n",
        "E = cosine(A,D) \n",
        "\n",
        "print('A>', A)\n",
        "print('D>', D)\n",
        "print('E>', E)"
      ],
      "execution_count": null,
      "outputs": [
        {
          "output_type": "stream",
          "text": [
            "A> [0 1 2 3]\n",
            "B> [0 1 2 3]\n",
            "C> 0.0\n",
            "A> [0 1 2 3]\n",
            "D> [0 1 4 5]\n",
            "E> 0.010256681389212985\n"
          ],
          "name": "stdout"
        }
      ]
    },
    {
      "cell_type": "markdown",
      "metadata": {
        "id": "Bo5nSHcHkr5E",
        "colab_type": "text"
      },
      "source": [
        "## Manutenção de listas\n",
        "\n",
        "http://excript.com/python/incluindo-alterando-excluindo-elementos-lista-python.html\n"
      ]
    },
    {
      "cell_type": "markdown",
      "metadata": {
        "id": "CZw2JxftmdGI",
        "colab_type": "text"
      },
      "source": [
        "### Adicionando elementos"
      ]
    },
    {
      "cell_type": "code",
      "metadata": {
        "id": "mvaex6wOme4u",
        "colab_type": "code",
        "colab": {
          "base_uri": "https://localhost:8080/",
          "height": 51
        },
        "outputId": "93d905ac-601f-48f3-dcf6-dfd8a43748d3"
      },
      "source": [
        "#declara e inicializa uma lista de cores\n",
        "cores = ['vermelho', 'azul', 'verde', 'amarelo', 'rosa', 'branco']\n",
        "\n",
        "#mostra a lista\n",
        "print(cores)\n",
        "\n",
        "#adicionando no final\n",
        "cores.append('marron')\n",
        "\n",
        "#mostra a lista\n",
        "print(cores)"
      ],
      "execution_count": null,
      "outputs": [
        {
          "output_type": "stream",
          "text": [
            "['vermelho', 'azul', 'verde', 'amarelo', 'rosa', 'branco']\n",
            "['vermelho', 'azul', 'verde', 'amarelo', 'rosa', 'branco', 'marron']\n"
          ],
          "name": "stdout"
        }
      ]
    },
    {
      "cell_type": "markdown",
      "metadata": {
        "id": "Z9DHKSrtmrVR",
        "colab_type": "text"
      },
      "source": [
        "### Inserindo elementos"
      ]
    },
    {
      "cell_type": "code",
      "metadata": {
        "id": "OkUXgF2zmryo",
        "colab_type": "code",
        "colab": {
          "base_uri": "https://localhost:8080/",
          "height": 51
        },
        "outputId": "807acbe3-7368-4dc1-8bf8-4cfb1e9dfe89"
      },
      "source": [
        "#declara e inicializa uma lista de cores\n",
        "cores = ['vermelho', 'azul', 'verde', 'amarelo', 'rosa', 'branco']\n",
        "\n",
        "#mostra a lista\n",
        "print(cores)\n",
        "\n",
        "#adicionando na segunda posição(índice=1)\n",
        "cores.insert(1, 'marron')\n",
        "\n",
        "#mostra a lista\n",
        "print(cores)"
      ],
      "execution_count": null,
      "outputs": [
        {
          "output_type": "stream",
          "text": [
            "['vermelho', 'azul', 'verde', 'amarelo', 'rosa', 'branco']\n",
            "['vermelho', 'marron', 'azul', 'verde', 'amarelo', 'rosa', 'branco']\n"
          ],
          "name": "stdout"
        }
      ]
    },
    {
      "cell_type": "markdown",
      "metadata": {
        "id": "JTZNNWl49XZf",
        "colab_type": "text"
      },
      "source": [
        "### Adicionando múltiplos elementos"
      ]
    },
    {
      "cell_type": "code",
      "metadata": {
        "id": "MaCBet729Z7s",
        "colab_type": "code",
        "colab": {
          "base_uri": "https://localhost:8080/",
          "height": 51
        },
        "outputId": "027a03f7-9a70-4fb3-dc1d-b36b10b5503a"
      },
      "source": [
        "#declara e inicializa uma lista de cores\n",
        "cores = ['vermelho', 'azul', 'verde', 'amarelo', 'rosa', 'branco']\n",
        "\n",
        "#mostra a lista\n",
        "print(cores)\n",
        "\n",
        "#adicionando na 2 elementos\n",
        "cores.extend(['bege','cinza'])\n",
        "\n",
        "#mostra a lista\n",
        "print(cores)"
      ],
      "execution_count": null,
      "outputs": [
        {
          "output_type": "stream",
          "text": [
            "['vermelho', 'azul', 'verde', 'amarelo', 'rosa', 'branco']\n",
            "['vermelho', 'azul', 'verde', 'amarelo', 'rosa', 'branco', 'bege', 'cinza']\n"
          ],
          "name": "stdout"
        }
      ]
    },
    {
      "cell_type": "markdown",
      "metadata": {
        "id": "MHsbWu8Nm7FP",
        "colab_type": "text"
      },
      "source": [
        "### Alterando elementos"
      ]
    },
    {
      "cell_type": "code",
      "metadata": {
        "id": "HiEcY0Irm9CM",
        "colab_type": "code",
        "colab": {
          "base_uri": "https://localhost:8080/",
          "height": 51
        },
        "outputId": "c7f294c2-bb3a-4787-e2a5-4e7497ea99b0"
      },
      "source": [
        "#declara e inicializa uma lista de cores\n",
        "cores = ['vermelho', 'azul', 'verde', 'amarelo', 'rosa', 'branco']\n",
        "\n",
        "#mostra a lista\n",
        "print(cores)\n",
        "\n",
        "#Alterando o conteúdo da segunda posição(índice=1)\n",
        "cores[1] = 'marron'\n",
        "\n",
        "#mostra a lista\n",
        "print(cores)"
      ],
      "execution_count": null,
      "outputs": [
        {
          "output_type": "stream",
          "text": [
            "['vermelho', 'azul', 'verde', 'amarelo', 'rosa', 'branco']\n",
            "['vermelho', 'marron', 'verde', 'amarelo', 'rosa', 'branco']\n"
          ],
          "name": "stdout"
        }
      ]
    },
    {
      "cell_type": "markdown",
      "metadata": {
        "id": "4QtUxGfIkulC",
        "colab_type": "text"
      },
      "source": [
        "### Excluindo elementos pela índice\n"
      ]
    },
    {
      "cell_type": "code",
      "metadata": {
        "id": "r0O8ZTAllwLa",
        "colab_type": "code",
        "colab": {
          "base_uri": "https://localhost:8080/",
          "height": 51
        },
        "outputId": "3852d759-4843-4cd8-ca3b-80febf0c3588"
      },
      "source": [
        "#declara e inicializa uma lista de cores\n",
        "cores = ['vermelho', 'azul', 'verde', 'amarelo', 'rosa', 'branco']\n",
        "\n",
        "#apagando primeiro\n",
        "del cores[0]\n",
        "\n",
        "#mostra a lista\n",
        "print(cores)\n",
        "\n",
        "#apagando último\n",
        "del cores[-1]\n",
        "\n",
        "#mostra a lista\n",
        "print(cores)"
      ],
      "execution_count": null,
      "outputs": [
        {
          "output_type": "stream",
          "text": [
            "['azul', 'verde', 'amarelo', 'rosa', 'branco']\n",
            "['azul', 'verde', 'amarelo', 'rosa']\n"
          ],
          "name": "stdout"
        }
      ]
    },
    {
      "cell_type": "markdown",
      "metadata": {
        "id": "SRyyiQV199MM",
        "colab_type": "text"
      },
      "source": [
        "### Excluindo elementos pelo valor"
      ]
    },
    {
      "cell_type": "code",
      "metadata": {
        "id": "sRIBu3xZ99h8",
        "colab_type": "code",
        "colab": {
          "base_uri": "https://localhost:8080/",
          "height": 51
        },
        "outputId": "39dc480d-b1c4-400a-96e4-180987d197b0"
      },
      "source": [
        "#declara e inicializa uma lista de cores\n",
        "cores = ['vermelho', 'azul', 'verde', 'amarelo', 'rosa', 'branco']\n",
        "\n",
        "#mostra a lista\n",
        "print(cores)\n",
        "\n",
        "#apagando o elemento azul\n",
        "cores.remove('azul')\n",
        "\n",
        "#mostra a lista\n",
        "print(cores)"
      ],
      "execution_count": null,
      "outputs": [
        {
          "output_type": "stream",
          "text": [
            "['vermelho', 'azul', 'verde', 'amarelo', 'rosa', 'branco']\n",
            "['vermelho', 'verde', 'amarelo', 'rosa', 'branco']\n"
          ],
          "name": "stdout"
        }
      ]
    },
    {
      "cell_type": "markdown",
      "metadata": {
        "id": "TXEVFZgLnaNX",
        "colab_type": "text"
      },
      "source": [
        "### Excluindo intervalo de elementos"
      ]
    },
    {
      "cell_type": "code",
      "metadata": {
        "id": "XVuE5GTMnclH",
        "colab_type": "code",
        "colab": {
          "base_uri": "https://localhost:8080/",
          "height": 51
        },
        "outputId": "afd3a4a6-367c-45d8-d867-dbc1721db79c"
      },
      "source": [
        "#declara e inicializa uma lista de cores\n",
        "cores = ['vermelho', 'azul', 'verde', 'amarelo', 'rosa', 'branco']\n",
        "\n",
        "#mostra a lista\n",
        "print(cores)\n",
        "\n",
        "#apagando os elementos do intervalo de 1(segundo) até 4(quinto)\n",
        "del (cores[1:4])\n",
        "\n",
        "#mostra a lista\n",
        "print(cores)"
      ],
      "execution_count": null,
      "outputs": [
        {
          "output_type": "stream",
          "text": [
            "['vermelho', 'azul', 'verde', 'amarelo', 'rosa', 'branco']\n",
            "['vermelho', 'rosa', 'branco']\n"
          ],
          "name": "stdout"
        }
      ]
    },
    {
      "cell_type": "markdown",
      "metadata": {
        "id": "X8nv8tl4nLG1",
        "colab_type": "text"
      },
      "source": [
        "### Excluindo todos os elementos"
      ]
    },
    {
      "cell_type": "code",
      "metadata": {
        "id": "fdSYfk-NnQHQ",
        "colab_type": "code",
        "colab": {
          "base_uri": "https://localhost:8080/",
          "height": 51
        },
        "outputId": "012ecffe-e574-4749-940a-66fcbbdf5d31"
      },
      "source": [
        "#declara e inicializa uma lista de cores\n",
        "cores = ['vermelho', 'azul', 'verde', 'amarelo', 'rosa', 'branco']\n",
        "\n",
        "#mostra a lista\n",
        "print(cores)\n",
        "\n",
        "#apagando todos os elementos\n",
        "cores.clear()\n",
        "\n",
        "#mostra a lista\n",
        "print(cores)"
      ],
      "execution_count": null,
      "outputs": [
        {
          "output_type": "stream",
          "text": [
            "['vermelho', 'azul', 'verde', 'amarelo', 'rosa', 'branco']\n",
            "[]\n"
          ],
          "name": "stdout"
        }
      ]
    },
    {
      "cell_type": "markdown",
      "metadata": {
        "colab_type": "text",
        "id": "MBhRrcqhZQcZ"
      },
      "source": [
        "### Concatenando duas listas"
      ]
    },
    {
      "cell_type": "code",
      "metadata": {
        "colab_type": "code",
        "id": "mzXpt4p2ZQca",
        "colab": {
          "base_uri": "https://localhost:8080/",
          "height": 68
        },
        "outputId": "9c36668b-1b19-43d7-f435-9b8f2efa6507"
      },
      "source": [
        "#declara e inicializa uma lista de cores\n",
        "cores1 = ['vermelho', 'azul', 'verde']\n",
        "cores2 = ['amarelo', 'rosa', 'branco']\n",
        "\n",
        "#mostra as listas\n",
        "print(cores1)\n",
        "print(cores2)\n",
        "\n",
        "#concatena as duas listas\n",
        "soma = cores1 + cores2\n",
        "\n",
        "#mostra a lista\n",
        "print(soma)"
      ],
      "execution_count": null,
      "outputs": [
        {
          "output_type": "stream",
          "text": [
            "['vermelho', 'azul', 'verde']\n",
            "['amarelo', 'rosa', 'branco']\n",
            "['vermelho', 'azul', 'verde', 'amarelo', 'rosa', 'branco']\n"
          ],
          "name": "stdout"
        }
      ]
    },
    {
      "cell_type": "markdown",
      "metadata": {
        "id": "OTKzy2EOb5tw",
        "colab_type": "text"
      },
      "source": [
        "### Ordenando listas de números"
      ]
    },
    {
      "cell_type": "code",
      "metadata": {
        "colab_type": "code",
        "id": "eewTzk0Xb58D",
        "colab": {
          "base_uri": "https://localhost:8080/",
          "height": 51
        },
        "outputId": "b6312231-7063-4693-b639-98fd4dd0f4e3"
      },
      "source": [
        "#declara e inicializa uma lista de números\n",
        "lista = [50, 40, 30, 20, 10]\n",
        "\n",
        "#mostra a lista\n",
        "print(lista)\n",
        "\n",
        "#ordena a lista\n",
        "lista.sort()\n",
        "\n",
        "#mostra a lista\n",
        "print(lista)"
      ],
      "execution_count": null,
      "outputs": [
        {
          "output_type": "stream",
          "text": [
            "[50, 40, 30, 20, 10]\n",
            "[10, 20, 30, 40, 50]\n"
          ],
          "name": "stdout"
        }
      ]
    },
    {
      "cell_type": "markdown",
      "metadata": {
        "colab_type": "text",
        "id": "Zu4gSAyzcPlB"
      },
      "source": [
        "### Ordenando listas de literais"
      ]
    },
    {
      "cell_type": "code",
      "metadata": {
        "colab_type": "code",
        "id": "fH6BPGBqcPlB",
        "colab": {
          "base_uri": "https://localhost:8080/",
          "height": 51
        },
        "outputId": "bcce2cc3-cbe3-45cb-8bf8-c6173bcc1ca9"
      },
      "source": [
        "#declara e inicializa uma lista de literais\n",
        "lista = ['cinquenta', 'quarenta', 'trinta', 'vinta', 'dez']\n",
        "\n",
        "#mostra a lista\n",
        "print(lista)\n",
        "\n",
        "#ordena a lista\n",
        "lista.sort()\n",
        "\n",
        "#mostra a lista\n",
        "print(lista)"
      ],
      "execution_count": null,
      "outputs": [
        {
          "output_type": "stream",
          "text": [
            "['cinquenta', 'quarenta', 'trinta', 'vinta', 'dez']\n",
            "['cinquenta', 'dez', 'quarenta', 'trinta', 'vinta']\n"
          ],
          "name": "stdout"
        }
      ]
    },
    {
      "cell_type": "markdown",
      "metadata": {
        "colab_type": "text",
        "id": "QFJLexjRdMVy"
      },
      "source": [
        "### Procurando valores nas listas"
      ]
    },
    {
      "cell_type": "code",
      "metadata": {
        "colab_type": "code",
        "id": "6dNlQ3OSdMVz",
        "colab": {
          "base_uri": "https://localhost:8080/",
          "height": 68
        },
        "outputId": "5d53e3ed-6f3b-4931-d5c9-dc043da3da95"
      },
      "source": [
        "#declara e inicializa uma lista de números\n",
        "lista = [10, 20, 30, 40, 50]\n",
        "\n",
        "#mostra a lista\n",
        "print(lista)\n",
        "\n",
        "#verifica a existência de 10 na lista\n",
        "print(10 in lista)\n",
        "\n",
        "#verifica a existência de 20 na lista\n",
        "if (20 in lista):\n",
        "  print(\"20 existe na lista\")"
      ],
      "execution_count": null,
      "outputs": [
        {
          "output_type": "stream",
          "text": [
            "[10, 20, 30, 40, 50]\n",
            "True\n",
            "20 existe na lista\n"
          ],
          "name": "stdout"
        }
      ]
    },
    {
      "cell_type": "markdown",
      "metadata": {
        "colab_type": "text",
        "id": "IPU46C_Dd1QP"
      },
      "source": [
        "### Criando lista com determinados valores"
      ]
    },
    {
      "cell_type": "code",
      "metadata": {
        "colab_type": "code",
        "id": "oK7nObo9d1QQ",
        "colab": {
          "base_uri": "https://localhost:8080/",
          "height": 51
        },
        "outputId": "6a47025a-b99f-47c8-9488-2e3cc4e8fea9"
      },
      "source": [
        "#declara e inicializa uma lista de números\n",
        "lista = [1, 2, 3, 4, 5]\n",
        "\n",
        "#mostra a lista\n",
        "print(lista)\n",
        "\n",
        "#Cria uma outra lista com os números pares\n",
        "lista_par = [elemento for elemento in lista if elemento % 2 == 0]\n",
        "\n",
        "#mostra a lista par\n",
        "print(lista_par)\n"
      ],
      "execution_count": null,
      "outputs": [
        {
          "output_type": "stream",
          "text": [
            "[1, 2, 3, 4, 5]\n",
            "[2, 4]\n"
          ],
          "name": "stdout"
        }
      ]
    },
    {
      "cell_type": "markdown",
      "metadata": {
        "id": "wGYnCtY1kp3j",
        "colab_type": "text"
      },
      "source": [
        "## Lista de lista"
      ]
    },
    {
      "cell_type": "markdown",
      "metadata": {
        "id": "gecruyNzkv-t",
        "colab_type": "text"
      },
      "source": [
        "### declarando e listando"
      ]
    },
    {
      "cell_type": "code",
      "metadata": {
        "id": "aFGwLBdokzoc",
        "colab_type": "code",
        "colab": {
          "base_uri": "https://localhost:8080/",
          "height": 238
        },
        "outputId": "3e15c1b9-65bc-4995-e508-d23e0d86afb0"
      },
      "source": [
        "#declaração\n",
        "lista = [[1,'joão'],[2,'maria'],[3,'pedro'],[4,'josé']]\n",
        "\n",
        "#tamanho da lista\n",
        "print('Tamanho da lista:', len(lista))\n",
        "\n",
        "#mostrando a lista\n",
        "for linha1 in lista:\n",
        "   print(linha1[0], linha1[1])\n",
        "   for linha2 in linha1:\n",
        "      print(\"   \", linha2)"
      ],
      "execution_count": null,
      "outputs": [
        {
          "output_type": "stream",
          "text": [
            "Tamanho da lista: 4\n",
            "1 joão\n",
            "    1\n",
            "    joão\n",
            "2 maria\n",
            "    2\n",
            "    maria\n",
            "3 pedro\n",
            "    3\n",
            "    pedro\n",
            "4 josé\n",
            "    4\n",
            "    josé\n"
          ],
          "name": "stdout"
        }
      ]
    },
    {
      "cell_type": "markdown",
      "metadata": {
        "id": "-gu3kOqmlVeP",
        "colab_type": "text"
      },
      "source": [
        "### Criando listas condicionadas\n",
        "\n",
        "Cria uma lista nova com as condições especificadas"
      ]
    },
    {
      "cell_type": "code",
      "metadata": {
        "id": "fu2ONDiulQtQ",
        "colab_type": "code",
        "colab": {
          "base_uri": "https://localhost:8080/",
          "height": 85
        },
        "outputId": "f8a2eecc-0e24-4bb8-c687-5a1050ff15be"
      },
      "source": [
        "#declaração\n",
        "lista = [[1,'joão'],[2,'maria'],[3,'pedro'],[4,'josé']]\n",
        "\n",
        "#tamanho da lista\n",
        "print('Tamanho da lista:', len(lista))\n",
        "\n",
        "#Cria uma lista dos valores com a posição 0 maior que 2\n",
        "lista_nova = [linha for linha in lista if linha[0] > 2]\n",
        "\n",
        "#tamanho da lista nova\n",
        "print('Tamanho da lista nova:', len(lista_nova))\n",
        "\n",
        "#mostrando a lista nova\n",
        "for linha in lista_nova:\n",
        "   print(linha[0], linha[1])"
      ],
      "execution_count": null,
      "outputs": [
        {
          "output_type": "stream",
          "text": [
            "Tamanho da lista: 4\n",
            "Tamanho da lista nova: 2\n",
            "3 pedro\n",
            "4 josé\n"
          ],
          "name": "stdout"
        }
      ]
    },
    {
      "cell_type": "markdown",
      "metadata": {
        "colab_type": "text",
        "id": "FEkyfiGil7j1"
      },
      "source": [
        "### Criando listas de elementos\n",
        "\n",
        "Cria uma lista com os elementos que atendem  as condições especificadas"
      ]
    },
    {
      "cell_type": "code",
      "metadata": {
        "colab_type": "code",
        "id": "VdT8yqizl7j3",
        "colab": {
          "base_uri": "https://localhost:8080/",
          "height": 68
        },
        "outputId": "eaa19c38-798f-4bf8-a3f4-d68a0fd2f140"
      },
      "source": [
        "#declaração\n",
        "lista = [[1,'joão'],[2,'maria'],[3,'pedro'],[4,'josé']]\n",
        "\n",
        "#tamanho da lista\n",
        "print('Tamanho da lista:', len(lista))\n",
        "\n",
        "#cria uma lista dos valores de linha[0] com a posição 0 maior que 2\n",
        "lista_nova = [linha[0] for linha in lista if linha[0] > 2]\n",
        "\n",
        "#tamanho da lista nova com linha[0]\n",
        "print('Tamanho da lista nova(linha[0]):', len(lista_nova))\n",
        "\n",
        "#mostrando a lista nova\n",
        "print(lista_nova)"
      ],
      "execution_count": null,
      "outputs": [
        {
          "output_type": "stream",
          "text": [
            "Tamanho da lista: 4\n",
            "Tamanho da lista nova(linha[0]): 2\n",
            "[3, 4]\n"
          ],
          "name": "stdout"
        }
      ]
    },
    {
      "cell_type": "markdown",
      "metadata": {
        "colab_type": "text",
        "id": "TahJABonrLty"
      },
      "source": [
        "### Criando lista de elementos\n",
        "Cria uma lista com os elementos que atendem  as condições especificadas"
      ]
    },
    {
      "cell_type": "code",
      "metadata": {
        "colab_type": "code",
        "id": "KKlYBLSOrLt0",
        "colab": {
          "base_uri": "https://localhost:8080/",
          "height": 85
        },
        "outputId": "2f1afa6d-4996-4601-ec27-c0a25224d31a"
      },
      "source": [
        "#declaração\n",
        "lista = [[1,'joão'],[2,'maria'],[3,'pedro'],[4,'josé']]\n",
        "\n",
        "#tamanho da lista\n",
        "print('Tamanho da lista:', len(lista))\n",
        "\n",
        "#cria uma lista dos valores de linha[0] com a posição 0 maior que 2\n",
        "lista_nova = [linha[0] for linha in lista if linha[0] > 2]\n",
        "\n",
        "#cria a lista com os valores que estão no conjunto anterior\n",
        "lista = [linha for linha in lista if linha[0] in lista_nova]\n",
        "\n",
        "#tamanho da lista nova\n",
        "print('Tamanho da lista nova:', len(lista_nova))\n",
        "\n",
        "#mostrando a lista nova\n",
        "print(lista_nova)\n",
        "\n",
        "#nova lista\n",
        "print(lista)"
      ],
      "execution_count": null,
      "outputs": [
        {
          "output_type": "stream",
          "text": [
            "Tamanho da lista: 4\n",
            "Tamanho da lista nova: 2\n",
            "[3, 4]\n",
            "[[3, 'pedro'], [4, 'josé']]\n"
          ],
          "name": "stdout"
        }
      ]
    },
    {
      "cell_type": "markdown",
      "metadata": {
        "id": "gsxfvsSUf7Ud",
        "colab_type": "text"
      },
      "source": [
        "## Convertendo listas sem dataFrames\n",
        "\n",
        "Converte uma lista de dados em um pandas dataFrame."
      ]
    },
    {
      "cell_type": "code",
      "metadata": {
        "id": "x14TDRvBgANW",
        "colab_type": "code",
        "colab": {
          "base_uri": "https://localhost:8080/",
          "height": 315
        },
        "outputId": "187e0871-a167-491b-e5d4-630a80934488"
      },
      "source": [
        "#biblioteca de processamento de dados, I/O em arquivo csv (ex. pd.DataFrame.from_records)\n",
        "import pandas as pd\n",
        "\n",
        "#lista com os dados\n",
        "lista = [[1,'joão'],[2,'maria'],[3,'pedro'],[4,'josé']]\n",
        "\n",
        "#mostrando a lista\n",
        "for linha in lista:\n",
        "   print(linha[0], linha[1])\n",
        "\n",
        "print(\"\\n Depois da conversão\\n\")\n",
        "\n",
        "#converte a lista de lista em um dataframe\n",
        "df = pd.DataFrame.from_records(lista, columns=[\"id\", \"nome\"])\n",
        "\n",
        "#mostra os dados\n",
        "print(df)\n",
        "\n",
        "#mostra 2 dados aleatórios\n",
        "df.sample(2)"
      ],
      "execution_count": null,
      "outputs": [
        {
          "output_type": "stream",
          "text": [
            "1 joão\n",
            "2 maria\n",
            "3 pedro\n",
            "4 josé\n",
            "\n",
            " Depois da conversão\n",
            "\n",
            "   id   nome\n",
            "0   1   joão\n",
            "1   2  maria\n",
            "2   3  pedro\n",
            "3   4   josé\n"
          ],
          "name": "stdout"
        },
        {
          "output_type": "execute_result",
          "data": {
            "text/html": [
              "<div>\n",
              "<style scoped>\n",
              "    .dataframe tbody tr th:only-of-type {\n",
              "        vertical-align: middle;\n",
              "    }\n",
              "\n",
              "    .dataframe tbody tr th {\n",
              "        vertical-align: top;\n",
              "    }\n",
              "\n",
              "    .dataframe thead th {\n",
              "        text-align: right;\n",
              "    }\n",
              "</style>\n",
              "<table border=\"1\" class=\"dataframe\">\n",
              "  <thead>\n",
              "    <tr style=\"text-align: right;\">\n",
              "      <th></th>\n",
              "      <th>id</th>\n",
              "      <th>nome</th>\n",
              "    </tr>\n",
              "  </thead>\n",
              "  <tbody>\n",
              "    <tr>\n",
              "      <th>0</th>\n",
              "      <td>1</td>\n",
              "      <td>joão</td>\n",
              "    </tr>\n",
              "    <tr>\n",
              "      <th>3</th>\n",
              "      <td>4</td>\n",
              "      <td>josé</td>\n",
              "    </tr>\n",
              "  </tbody>\n",
              "</table>\n",
              "</div>"
            ],
            "text/plain": [
              "   id  nome\n",
              "0   1  joão\n",
              "3   4  josé"
            ]
          },
          "metadata": {
            "tags": []
          },
          "execution_count": 31
        }
      ]
    },
    {
      "cell_type": "markdown",
      "metadata": {
        "id": "uLE3MLcXGhQ9",
        "colab_type": "text"
      },
      "source": [
        "# Enumerações/Enumerate\n",
        "\n",
        "É uma função que atribui um índice a cada item em um objeto iterável(e.g. list) que pode ser usado para fazer referência ao item posteriormente. \n",
        "\n",
        "https://www.w3schools.com/python/ref_func_enumerate.asp"
      ]
    },
    {
      "cell_type": "markdown",
      "metadata": {
        "id": "zOjloyYSG2lQ",
        "colab_type": "text"
      },
      "source": [
        "##Declaração 1"
      ]
    },
    {
      "cell_type": "code",
      "metadata": {
        "id": "sKW9oQLoGjhs",
        "colab_type": "code",
        "colab": {
          "base_uri": "https://localhost:8080/",
          "height": 119
        },
        "outputId": "dc087637-0354-48ab-bf32-0c8280b3a896"
      },
      "source": [
        "#declara e inicializa uma lista de cores\n",
        "cores = ['vermelho', 'azul', 'verde', 'amarelo', 'rosa', 'branco']\n",
        "\n",
        "#mostra a enumeração e suas chaves\n",
        "list(enumerate(cores))"
      ],
      "execution_count": null,
      "outputs": [
        {
          "output_type": "execute_result",
          "data": {
            "text/plain": [
              "[(0, 'vermelho'),\n",
              " (1, 'azul'),\n",
              " (2, 'verde'),\n",
              " (3, 'amarelo'),\n",
              " (4, 'rosa'),\n",
              " (5, 'branco')]"
            ]
          },
          "metadata": {
            "tags": []
          },
          "execution_count": 32
        }
      ]
    },
    {
      "cell_type": "markdown",
      "metadata": {
        "id": "lamTvwbCG5Rh",
        "colab_type": "text"
      },
      "source": [
        "##Decleração 2"
      ]
    },
    {
      "cell_type": "code",
      "metadata": {
        "id": "BxsfH0h5HB04",
        "colab_type": "code",
        "colab": {
          "base_uri": "https://localhost:8080/",
          "height": 119
        },
        "outputId": "539916f7-7134-4b96-b791-ad9ff87c0e69"
      },
      "source": [
        "#declara e inicializa uma lista de cores\n",
        "cores = ['vermelho', 'azul', 'verde', 'amarelo', 'rosa', 'branco']\n",
        "\n",
        "#mostra a enumeração e suas chaves\n",
        "for (index, item) in enumerate(cores):\n",
        "    print (index, item)"
      ],
      "execution_count": null,
      "outputs": [
        {
          "output_type": "stream",
          "text": [
            "0 vermelho\n",
            "1 azul\n",
            "2 verde\n",
            "3 amarelo\n",
            "4 rosa\n",
            "5 branco\n"
          ],
          "name": "stdout"
        }
      ]
    },
    {
      "cell_type": "markdown",
      "metadata": {
        "id": "P8LmNS8E0WvA",
        "colab_type": "text"
      },
      "source": [
        "# Tuplas"
      ]
    },
    {
      "cell_type": "markdown",
      "metadata": {
        "id": "QdUHj8lA0Yz-",
        "colab_type": "text"
      },
      "source": [
        "Uma tupla é uma estrutura bastante similar a uma lista, com apenas uma diferença: os elementos inseridos em uma tupla não podem ser alterados, diferente de uma lista onde podem ser alterados livremente. \n",
        "\n",
        "As tuplas possuem algumas vantagens com relação às listas, que são:\n",
        "\n",
        "* Como as tuplas são imutáveis, a iteração sobre elas é mais rápida e, consequentemente, possuem um ganho de desempenho com relação às listas;\n",
        "* Tuplas podem ser utilizadas como chave para um dicionário, já que seus elementos são imutáveis. Já com a lista, isso não é possível;\n",
        "* Se for necessário armazenar dados que não serão alterados, utilize uma tupla. Isso garantirá que esses sejam protegidos de alterações posteriores"
      ]
    },
    {
      "cell_type": "markdown",
      "metadata": {
        "id": "2-pHJRqf1URh",
        "colab_type": "text"
      },
      "source": [
        "## Declaração\n",
        "\n",
        "Utiliza parênteses ou invés de colchetes(listas) para declarar"
      ]
    },
    {
      "cell_type": "code",
      "metadata": {
        "id": "NzeeNyx70kWw",
        "colab_type": "code",
        "colab": {
          "base_uri": "https://localhost:8080/",
          "height": 51
        },
        "outputId": "f8006d09-7db6-4e83-d252-e24aebbb61fb"
      },
      "source": [
        "#declaração de tupla de inteiros homogênea\n",
        "tupla1 = (1, 2, 3) \n",
        "print(tupla1)\n",
        "\n",
        "#declaração de tupla heterogênea\n",
        "tupla2 = (1, \"joao\", 3.14) \n",
        "print(tupla2)"
      ],
      "execution_count": null,
      "outputs": [
        {
          "output_type": "stream",
          "text": [
            "(1, 2, 3)\n",
            "(1, 'joao', 3.14)\n"
          ],
          "name": "stdout"
        }
      ]
    },
    {
      "cell_type": "markdown",
      "metadata": {
        "id": "Eo87pvVo1ayG",
        "colab_type": "text"
      },
      "source": [
        "## Acessando elementos"
      ]
    },
    {
      "cell_type": "code",
      "metadata": {
        "id": "uKhiIDTm1cgY",
        "colab_type": "code",
        "colab": {
          "base_uri": "https://localhost:8080/",
          "height": 119
        },
        "outputId": "d9e58574-88a7-4e65-9be0-965fb860904f"
      },
      "source": [
        "#declara e inicializa tuplas de cores\n",
        "cores = ('vermelho', 'azul', 'verde', 'amarelo', 'rosa', 'branco')\n",
        "\n",
        "#percorre a tuplas de cores, o valor atual está em cor\n",
        "for cor in cores:\n",
        "    print(cor)"
      ],
      "execution_count": null,
      "outputs": [
        {
          "output_type": "stream",
          "text": [
            "vermelho\n",
            "azul\n",
            "verde\n",
            "amarelo\n",
            "rosa\n",
            "branco\n"
          ],
          "name": "stdout"
        }
      ]
    },
    {
      "cell_type": "markdown",
      "metadata": {
        "id": "QqXNyM0F1zPW",
        "colab_type": "text"
      },
      "source": [
        "# Sets(Conjuntos)\n",
        "São uma coleção de itens desordenada, parcialmente imutável e que **não** podem conter elementos duplicados. Por ser parcialmente imutável, os sets possuem permissão de adição e remoção de elementos.\n",
        "\n",
        "Usados normalmente com operações matemáticas de união, interseção e diferença simétrica.\n",
        "\n",
        "https://www.treinaweb.com.br/blog/principais-estruturas-de-dados-no-python/"
      ]
    },
    {
      "cell_type": "markdown",
      "metadata": {
        "id": "uTscD4yb10iK",
        "colab_type": "text"
      },
      "source": [
        "## Declaração 1"
      ]
    },
    {
      "cell_type": "code",
      "metadata": {
        "id": "3sdPVrxP2Kjq",
        "colab_type": "code",
        "colab": {
          "base_uri": "https://localhost:8080/",
          "height": 51
        },
        "outputId": "218594c8-9e39-452b-a162-a263e5d33110"
      },
      "source": [
        "#declara o conjunto 1\n",
        "conjunto1 = {1, 2, 3, 3}\n",
        "print(conjunto1)\n",
        "\n",
        "#declara o conjunto 2\n",
        "conjunto2 = {1, 2, 3, 4}\n",
        "print(conjunto2)"
      ],
      "execution_count": null,
      "outputs": [
        {
          "output_type": "stream",
          "text": [
            "{1, 2, 3}\n",
            "{1, 2, 3, 4}\n"
          ],
          "name": "stdout"
        }
      ]
    },
    {
      "cell_type": "markdown",
      "metadata": {
        "id": "TuE7MaeY2UCc",
        "colab_type": "text"
      },
      "source": [
        "## Declaração 2"
      ]
    },
    {
      "cell_type": "code",
      "metadata": {
        "id": "wrgjkNYO2VWR",
        "colab_type": "code",
        "colab": {
          "base_uri": "https://localhost:8080/",
          "height": 51
        },
        "outputId": "994017d2-25ef-489d-ad2d-cb07d5cfacea"
      },
      "source": [
        "#declara o conjunto 1\n",
        "conjunto1 = set([1, 2, 3, 3])\n",
        "print(conjunto1)\n",
        "\n",
        "#declara o conjunto 2\n",
        "conjunto2 = set([1, 2, 3, 4])\n",
        "print(conjunto2)"
      ],
      "execution_count": null,
      "outputs": [
        {
          "output_type": "stream",
          "text": [
            "{1, 2, 3}\n",
            "{1, 2, 3, 4}\n"
          ],
          "name": "stdout"
        }
      ]
    },
    {
      "cell_type": "markdown",
      "metadata": {
        "colab_type": "text",
        "id": "gi4CaK8f2oVA"
      },
      "source": [
        "## Acessando elementos"
      ]
    },
    {
      "cell_type": "code",
      "metadata": {
        "colab_type": "code",
        "id": "KJcAUXgG2oVE",
        "colab": {
          "base_uri": "https://localhost:8080/",
          "height": 102
        },
        "outputId": "9f39b588-7268-4eb7-abfa-86935f4992e3"
      },
      "source": [
        "#declara e inicializa conjunto de cores\n",
        "cores = set(['vermelho', 'azul', 'verde', 'amarelo', 'branco', 'branco'])\n",
        "\n",
        "#percorre o elementos do conjunto de cores, o valor atual está em cor\n",
        "for cor in cores:\n",
        "    print(cor)"
      ],
      "execution_count": null,
      "outputs": [
        {
          "output_type": "stream",
          "text": [
            "verde\n",
            "amarelo\n",
            "vermelho\n",
            "branco\n",
            "azul\n"
          ],
          "name": "stdout"
        }
      ]
    },
    {
      "cell_type": "markdown",
      "metadata": {
        "id": "N_iBHL1p20ea",
        "colab_type": "text"
      },
      "source": [
        "## Adicionando elementos"
      ]
    },
    {
      "cell_type": "code",
      "metadata": {
        "id": "U9UqchRv23LI",
        "colab_type": "code",
        "colab": {
          "base_uri": "https://localhost:8080/",
          "height": 51
        },
        "outputId": "aad3fbeb-ad22-411a-a094-e94701eb61e2"
      },
      "source": [
        "#declara o conjunto 1\n",
        "conjunto1 = {1, 2, 3, 3}\n",
        "\n",
        "#adicionando elementos sem repetição\n",
        "conjunto1.add(4)\n",
        "print(\"Adição\", conjunto1)\n",
        "\n",
        "#adicionando elementos com repetição\n",
        "conjunto1.add(1)\n",
        "print(\"Adição\", conjunto1)"
      ],
      "execution_count": null,
      "outputs": [
        {
          "output_type": "stream",
          "text": [
            "Adição {1, 2, 3, 4}\n",
            "Adição {1, 2, 3, 4}\n"
          ],
          "name": "stdout"
        }
      ]
    },
    {
      "cell_type": "markdown",
      "metadata": {
        "id": "aadxRNTP3IA3",
        "colab_type": "text"
      },
      "source": [
        "## Atualizando elementos"
      ]
    },
    {
      "cell_type": "code",
      "metadata": {
        "id": "c4cBHmLI3Luj",
        "colab_type": "code",
        "colab": {
          "base_uri": "https://localhost:8080/",
          "height": 34
        },
        "outputId": "9cfce0da-c874-45ad-984b-871e44f9a57b"
      },
      "source": [
        "#declara o conjunto 1\n",
        "conjunto1 = {1, 2, 3, 3}\n",
        "\n",
        "#atualizando set\n",
        "conjunto1.update([3, 4, 5, 6])\n",
        "print(\"Atualição\", conjunto1)"
      ],
      "execution_count": null,
      "outputs": [
        {
          "output_type": "stream",
          "text": [
            "Atualição {1, 2, 3, 4, 5, 6}\n"
          ],
          "name": "stdout"
        }
      ]
    },
    {
      "cell_type": "markdown",
      "metadata": {
        "id": "5iH6rnD83VMw",
        "colab_type": "text"
      },
      "source": [
        "## Removendo elementos"
      ]
    },
    {
      "cell_type": "code",
      "metadata": {
        "id": "gfU5yOtk20pg",
        "colab_type": "code",
        "colab": {
          "base_uri": "https://localhost:8080/",
          "height": 34
        },
        "outputId": "a619aef8-f50b-4e59-da2f-083bad5282c8"
      },
      "source": [
        "#declara o conjunto 1\n",
        "conjunto1 = {1, 2, 3, 3}\n",
        "\n",
        "#removendo elemento\n",
        "conjunto1.discard(2)\n",
        "print(\"Remoção\", conjunto1)"
      ],
      "execution_count": null,
      "outputs": [
        {
          "output_type": "stream",
          "text": [
            "Remoção {1, 3}\n"
          ],
          "name": "stdout"
        }
      ]
    },
    {
      "cell_type": "markdown",
      "metadata": {
        "id": "ZWMqhaYL34Mx",
        "colab_type": "text"
      },
      "source": [
        "## Operações matemáticas"
      ]
    },
    {
      "cell_type": "markdown",
      "metadata": {
        "id": "mVVvOQ4F354I",
        "colab_type": "text"
      },
      "source": [
        "### União\n",
        "\n",
        "União (|), todos os elementos dos dois conjuntos(sets) serão “unidos”, formando um único conjunto(set) com todos os elementos, sem repetí-los."
      ]
    },
    {
      "cell_type": "code",
      "metadata": {
        "id": "lS4DnVBI3_iC",
        "colab_type": "code",
        "colab": {
          "base_uri": "https://localhost:8080/",
          "height": 68
        },
        "outputId": "e4168636-0b8d-46f1-b999-7f07be6ea75e"
      },
      "source": [
        "#declara o conjunto 1\n",
        "conjunto1 = set([1, 2, 3, 4, 4])\n",
        "#declara o conjunto 2\n",
        "conjunto2 = set([3, 4, 5, 6, 7])\n",
        "\n",
        "# União\n",
        "print(\"União\")\n",
        "\n",
        "#usando operador |\n",
        "print(conjunto1 | conjunto2)\n",
        "\n",
        "#ou com método union\n",
        "print(conjunto1.union(conjunto2))"
      ],
      "execution_count": null,
      "outputs": [
        {
          "output_type": "stream",
          "text": [
            "União\n",
            "{1, 2, 3, 4, 5, 6, 7}\n",
            "{1, 2, 3, 4, 5, 6, 7}\n"
          ],
          "name": "stdout"
        }
      ]
    },
    {
      "cell_type": "markdown",
      "metadata": {
        "id": "A6x1nmV04bMq",
        "colab_type": "text"
      },
      "source": [
        "### Interseção\n",
        "\n",
        "Interseção (&), apenas os elementos que estiverem nos dois conjuntos(sets) serão considerados."
      ]
    },
    {
      "cell_type": "code",
      "metadata": {
        "id": "piGwo8Gl4aqw",
        "colab_type": "code",
        "colab": {
          "base_uri": "https://localhost:8080/",
          "height": 68
        },
        "outputId": "5caa0197-6779-4346-bdd2-8fec21c4db92"
      },
      "source": [
        "#declara o conjunto 1\n",
        "conjunto1 = set([1, 2, 3, 4, 4])\n",
        "#declara o conjunto 2\n",
        "conjunto2 = set([3, 4, 5, 6, 7])\n",
        "\n",
        "#interseção\n",
        "print(\"Interseção\")\n",
        "\n",
        "#usando operador &\n",
        "print(conjunto1 & conjunto2)\n",
        "\n",
        "#ou com método intersection\n",
        "print(conjunto1.intersection(conjunto2))"
      ],
      "execution_count": null,
      "outputs": [
        {
          "output_type": "stream",
          "text": [
            "Interseção\n",
            "{3, 4}\n",
            "{3, 4}\n"
          ],
          "name": "stdout"
        }
      ]
    },
    {
      "cell_type": "markdown",
      "metadata": {
        "id": "aDIesbKa403f",
        "colab_type": "text"
      },
      "source": [
        "### Diferença\n",
        "\n",
        "Diferença (–), restarão apenas os elementos que estiverem em um dos conjuntos(set), mas não no segundo."
      ]
    },
    {
      "cell_type": "code",
      "metadata": {
        "id": "JMgK-Lpc43EZ",
        "colab_type": "code",
        "colab": {
          "base_uri": "https://localhost:8080/",
          "height": 68
        },
        "outputId": "26f7736f-0453-44f9-9609-267ff2c94777"
      },
      "source": [
        "#declara o conjunto 1\n",
        "conjunto1 = set([1, 2, 3, 4, 4])\n",
        "#declara o conjunto 2\n",
        "conjunto2 = set([3, 4, 5, 6, 7])\n",
        "\n",
        "#diferença\n",
        "print(\"Diferença\")\n",
        "\n",
        "#usando operador -\n",
        "print(conjunto1 -conjunto2)\n",
        "\n",
        "#ou com método difference\n",
        "print(conjunto1.difference(conjunto2))\n"
      ],
      "execution_count": null,
      "outputs": [
        {
          "output_type": "stream",
          "text": [
            "Diferença\n",
            "{1, 2}\n",
            "{1, 2}\n"
          ],
          "name": "stdout"
        }
      ]
    },
    {
      "cell_type": "markdown",
      "metadata": {
        "id": "WP75Wkez5FCj",
        "colab_type": "text"
      },
      "source": [
        "### Diferença simétrica\n",
        "\n",
        "Diferença simétrica (^), apenas os elementos que estiverem nos dois conjuntos(sets), porém que não se repitam, serão exibidos."
      ]
    },
    {
      "cell_type": "code",
      "metadata": {
        "id": "iYgwEwVI36Co",
        "colab_type": "code",
        "colab": {
          "base_uri": "https://localhost:8080/",
          "height": 68
        },
        "outputId": "847752c4-0a88-4777-8534-38b786af1449"
      },
      "source": [
        "#declara o conjunto 1\n",
        "conjunto1 = set([1, 2, 3, 4, 4])\n",
        "#declara o conjunto 2\n",
        "conjunto2 = set([3, 4, 5, 6, 7])\n",
        "\n",
        "#diferença simétrica\n",
        "print(\"Diferença Simétrica\")\n",
        "\n",
        "#usando operador ^\n",
        "print(conjunto1 ^ conjunto2)\n",
        "\n",
        "#ou com método symmetric_difference\n",
        "print(conjunto1.symmetric_difference(conjunto2))"
      ],
      "execution_count": null,
      "outputs": [
        {
          "output_type": "stream",
          "text": [
            "Diferença Simétrica\n",
            "{1, 2, 5, 6, 7}\n",
            "{1, 2, 5, 6, 7}\n"
          ],
          "name": "stdout"
        }
      ]
    },
    {
      "cell_type": "markdown",
      "metadata": {
        "id": "bWfk655zF1Tm",
        "colab_type": "text"
      },
      "source": [
        "## Converter Lista em Set"
      ]
    },
    {
      "cell_type": "code",
      "metadata": {
        "id": "x3BbZSZEF3rK",
        "colab_type": "code",
        "colab": {
          "base_uri": "https://localhost:8080/",
          "height": 34
        },
        "outputId": "d5cef816-0dc5-4e4c-b27a-9e1a6d5366af"
      },
      "source": [
        "#declara uma lista\n",
        "lista = [ 10, 20, 30, 10, 40, 50, 50]\n",
        "\n",
        "#converte a lista para um conjunto\n",
        "conjunto = set(lista)\n",
        "\n",
        "#mostra o conjunto criada\n",
        "print(conjunto)"
      ],
      "execution_count": null,
      "outputs": [
        {
          "output_type": "stream",
          "text": [
            "{40, 10, 50, 20, 30}\n"
          ],
          "name": "stdout"
        }
      ]
    },
    {
      "cell_type": "markdown",
      "metadata": {
        "id": "659vCoXLHkLO",
        "colab_type": "text"
      },
      "source": [
        "# Dicionário\n",
        "\n",
        "No Python, os dicionários são coleções de itens desordenados com uma diferença bem grande quando comparados às outras coleções: um elemento dentro de um dicionário possui uma chave associada a ele, uma espécie de identificador. Sendo assim, é muito utilizado quando queremos armazenar dados de forma organizada e que possuem identificação única (como em um banco de dados).\n",
        "\n",
        "https://www.treinaweb.com.br/blog/manipulando-dicionarios-no-python/\n",
        "\n",
        "https://www.alura.com.br/artigos/trabalhando-com-o-dicionario-no-python"
      ]
    },
    {
      "cell_type": "markdown",
      "metadata": {
        "id": "w6kx3_9D6YLb",
        "colab_type": "text"
      },
      "source": [
        "## Declaração 1 - Chave numérica\n",
        "\n",
        "\n"
      ]
    },
    {
      "cell_type": "code",
      "metadata": {
        "id": "NRm3F43B6Xqx",
        "colab_type": "code",
        "colab": {
          "base_uri": "https://localhost:8080/",
          "height": 34
        },
        "outputId": "3c32b560-bd09-4d84-cd97-c2527566e6c7"
      },
      "source": [
        "#declara e inicializa um dicionário de cores com chave númerica com {}\n",
        "dicionario = {1:'vermelho', 2:'azul', 3:'verde', 4:'amarelo', 5:'rosa', 6:'branco'}\n",
        "\n",
        "print(dicionario)"
      ],
      "execution_count": null,
      "outputs": [
        {
          "output_type": "stream",
          "text": [
            "{1: 'vermelho', 2: 'azul', 3: 'verde', 4: 'amarelo', 5: 'rosa', 6: 'branco'}\n"
          ],
          "name": "stdout"
        }
      ]
    },
    {
      "cell_type": "markdown",
      "metadata": {
        "colab_type": "text",
        "id": "kGkKx1-w7Fz4"
      },
      "source": [
        "## Declaração 2 - Chave numérica\n"
      ]
    },
    {
      "cell_type": "code",
      "metadata": {
        "colab_type": "code",
        "id": "mSLO01r27Fz5",
        "colab": {
          "base_uri": "https://localhost:8080/",
          "height": 34
        },
        "outputId": "67fa2b4a-daa2-4434-cdf5-714a5b45d10f"
      },
      "source": [
        "#declara e inicializa um dicionário de cores com chave númerica com o método dict\n",
        "dicionario = dict({1:'vermelho', 2:'azul', 3:'verde', 4:'amarelo', 5:'rosa', 6:'branco'})\n",
        "\n",
        "print(dicionario)"
      ],
      "execution_count": null,
      "outputs": [
        {
          "output_type": "stream",
          "text": [
            "{1: 'vermelho', 2: 'azul', 3: 'verde', 4: 'amarelo', 5: 'rosa', 6: 'branco'}\n"
          ],
          "name": "stdout"
        }
      ]
    },
    {
      "cell_type": "markdown",
      "metadata": {
        "id": "LfMQ7wuD95UQ",
        "colab_type": "text"
      },
      "source": [
        "## Declaração 3 - Chave Literal"
      ]
    },
    {
      "cell_type": "code",
      "metadata": {
        "id": "BWuzl00K94Ut",
        "colab_type": "code",
        "colab": {
          "base_uri": "https://localhost:8080/",
          "height": 51
        },
        "outputId": "5a1c62c3-ff27-4c39-932a-deede5a8fefe"
      },
      "source": [
        "#declara e inicializa um dicionário de cores com chave literal\n",
        "dicionario = {'um':'vermelho', 'dois':'azul', 'tres':'verde', 'quatro':'amarelo', 'cinco':'rosa'}\n",
        "\n",
        "print(dicionario)\n",
        "\n",
        "#recuperando valores com colchetes\n",
        "print(dicionario['um'])"
      ],
      "execution_count": null,
      "outputs": [
        {
          "output_type": "stream",
          "text": [
            "{'um': 'vermelho', 'dois': 'azul', 'tres': 'verde', 'quatro': 'amarelo', 'cinco': 'rosa'}\n",
            "vermelho\n"
          ],
          "name": "stdout"
        }
      ]
    },
    {
      "cell_type": "markdown",
      "metadata": {
        "id": "Lva_kXo6HnJa",
        "colab_type": "text"
      },
      "source": [
        "## Recuperando valores com colchetes 1\n",
        "\n",
        "\n"
      ]
    },
    {
      "cell_type": "code",
      "metadata": {
        "id": "ZqfznTJsHok7",
        "colab_type": "code",
        "colab": {
          "base_uri": "https://localhost:8080/",
          "height": 34
        },
        "outputId": "f5364ca6-7f29-4e4a-a37d-9c982d5b1528"
      },
      "source": [
        "#declara e inicializa um dicionário de cores\n",
        "dicionario = {1:'vermelho', 2:'azul', 3:'verde', 4:'amarelo', 5:'rosa', 6:'branco'}\n",
        "\n",
        "#recuperando um valor pela chave e colchetes\n",
        "try:\n",
        "    valor = dicionario[1]     \n",
        "except KeyError:\n",
        "    valor = None\n",
        "\n",
        "#mostra o valor\n",
        "print(valor)"
      ],
      "execution_count": null,
      "outputs": [
        {
          "output_type": "stream",
          "text": [
            "vermelho\n"
          ],
          "name": "stdout"
        }
      ]
    },
    {
      "cell_type": "markdown",
      "metadata": {
        "id": "D7t1bOT6JIYx",
        "colab_type": "text"
      },
      "source": [
        "## Recuperando valores com get 2"
      ]
    },
    {
      "cell_type": "code",
      "metadata": {
        "id": "pdFs8u8eJIlZ",
        "colab_type": "code",
        "colab": {
          "base_uri": "https://localhost:8080/",
          "height": 34
        },
        "outputId": "9de9d22d-c522-4821-da0a-dcfe01df9460"
      },
      "source": [
        "#declara e inicializa um dicionário de cores\n",
        "dicionario = {1:'vermelho', 2:'azul', 3:'verde', 4:'amarelo', 5:'rosa', 6:'branco'}\n",
        "\n",
        "#recuperando um valor pela chave com get sem valor padrão\n",
        "valor = dicionario.get(1)\n",
        "\n",
        "#mostra o valor\n",
        "print(valor)"
      ],
      "execution_count": null,
      "outputs": [
        {
          "output_type": "stream",
          "text": [
            "vermelho\n"
          ],
          "name": "stdout"
        }
      ]
    },
    {
      "cell_type": "markdown",
      "metadata": {
        "id": "HO6bkS68JdKN",
        "colab_type": "text"
      },
      "source": [
        "## Recuperando valores com get e valor default 3"
      ]
    },
    {
      "cell_type": "code",
      "metadata": {
        "id": "YL0Vdr6UJhfd",
        "colab_type": "code",
        "colab": {
          "base_uri": "https://localhost:8080/",
          "height": 34
        },
        "outputId": "d1b81198-c3cd-485b-d21b-ad8503f05cb3"
      },
      "source": [
        "#declara e inicializa um dicionário de cores\n",
        "dicionario = {1:'vermelho', 2:'azul', 3:'verde', 4:'amarelo', 5:'rosa', 6:'branco'}\n",
        "\n",
        "#recuperando um valor pela chave com get com valor padrão\n",
        "valor = dicionario.get(10,'sem cor')\n",
        "\n",
        "#mostra o valor\n",
        "print(valor)"
      ],
      "execution_count": null,
      "outputs": [
        {
          "output_type": "stream",
          "text": [
            "sem cor\n"
          ],
          "name": "stdout"
        }
      ]
    },
    {
      "cell_type": "markdown",
      "metadata": {
        "id": "zvP-bofD7j3A",
        "colab_type": "text"
      },
      "source": [
        "## Tamanho do dicionário"
      ]
    },
    {
      "cell_type": "code",
      "metadata": {
        "id": "kNGceH3S7lkA",
        "colab_type": "code",
        "colab": {
          "base_uri": "https://localhost:8080/",
          "height": 34
        },
        "outputId": "71bdc060-2242-4e87-f836-e069befaae74"
      },
      "source": [
        "#declara e inicializa um dicionário de cores\n",
        "dicionario = {1:'vermelho', 2:'azul', 3:'verde', 4:'amarelo', 5:'rosa', 6:'branco'}\n",
        "\n",
        "print(len(dicionario))"
      ],
      "execution_count": null,
      "outputs": [
        {
          "output_type": "stream",
          "text": [
            "6\n"
          ],
          "name": "stdout"
        }
      ]
    },
    {
      "cell_type": "markdown",
      "metadata": {
        "id": "uzOziKk57u5K",
        "colab_type": "text"
      },
      "source": [
        "## Adicionado elementos"
      ]
    },
    {
      "cell_type": "code",
      "metadata": {
        "id": "EnmtqHmw7wby",
        "colab_type": "code",
        "colab": {
          "base_uri": "https://localhost:8080/",
          "height": 68
        },
        "outputId": "87a0391c-8e3f-4f96-85ae-36f716d5ee2f"
      },
      "source": [
        "#declara e inicializa um dicionário de cores\n",
        "dicionario = {1:'vermelho', 2:'azul', 3:'verde', 4:'amarelo', 5:'rosa', 6:'branco'}\n",
        "\n",
        "print(dicionario)\n",
        "\n",
        "#especificando a posiçãp\n",
        "dicionario[8] = 'cinza'\n",
        "print(dicionario)\n",
        "\n",
        "#usando  método update\n",
        "dicionario.update({7: 'purpura'})\n",
        "print(dicionario)"
      ],
      "execution_count": null,
      "outputs": [
        {
          "output_type": "stream",
          "text": [
            "{1: 'vermelho', 2: 'azul', 3: 'verde', 4: 'amarelo', 5: 'rosa', 6: 'branco'}\n",
            "{1: 'vermelho', 2: 'azul', 3: 'verde', 4: 'amarelo', 5: 'rosa', 6: 'branco', 8: 'cinza'}\n",
            "{1: 'vermelho', 2: 'azul', 3: 'verde', 4: 'amarelo', 5: 'rosa', 6: 'branco', 8: 'cinza', 7: 'purpura'}\n"
          ],
          "name": "stdout"
        }
      ]
    },
    {
      "cell_type": "markdown",
      "metadata": {
        "colab_type": "text",
        "id": "nH26cd0_eY4J"
      },
      "source": [
        "## Concatenando dois dicionários"
      ]
    },
    {
      "cell_type": "code",
      "metadata": {
        "colab_type": "code",
        "id": "skOTMPdeeY4J",
        "colab": {
          "base_uri": "https://localhost:8080/",
          "height": 68
        },
        "outputId": "6b5bc41d-a170-41a0-d5e8-4c2a3e10a8bd"
      },
      "source": [
        "#declara e inicializa um dicionário de cores\n",
        "dicionario1 = {1:'vermelho', 2:'azul', 3:'verde', 4:'amarelo'}\n",
        "dicionario2 = {4:'amarelo', 5:'rosa', 6:'branco'}\n",
        "\n",
        "print(dicionario1)\n",
        "print(dicionario2)\n",
        "\n",
        "#concatena os dicionários()\n",
        "dicionario1.update(dicionario2)\n",
        "\n",
        "print(dicionario1)"
      ],
      "execution_count": null,
      "outputs": [
        {
          "output_type": "stream",
          "text": [
            "{1: 'vermelho', 2: 'azul', 3: 'verde', 4: 'amarelo'}\n",
            "{4: 'amarelo', 5: 'rosa', 6: 'branco'}\n",
            "{1: 'vermelho', 2: 'azul', 3: 'verde', 4: 'amarelo', 5: 'rosa', 6: 'branco'}\n"
          ],
          "name": "stdout"
        }
      ]
    },
    {
      "cell_type": "markdown",
      "metadata": {
        "id": "17YaYR888L14",
        "colab_type": "text"
      },
      "source": [
        "## Removendo elementos (pop)\n",
        "\n",
        "Remove um elemento pela chave do dicionário e retorna a chave do elemento. Use quando quiser conhecer o elemento removido."
      ]
    },
    {
      "cell_type": "code",
      "metadata": {
        "id": "YcHSjgad8NN4",
        "colab_type": "code",
        "colab": {
          "base_uri": "https://localhost:8080/",
          "height": 68
        },
        "outputId": "a087c251-332e-463f-e776-f314c115971f"
      },
      "source": [
        "#declara e inicializa um dicionário de cores\n",
        "dicionario = {1:'vermelho', 2:'azul', 3:'verde', 4:'amarelo', 5:'rosa', 6:'branco'}\n",
        "\n",
        "print(dicionario)\n",
        "\n",
        "#pop()\n",
        "apagado = dicionario.pop(2)\n",
        "print(dicionario)\n",
        "\n",
        "#elemento removido\n",
        "print(apagado)"
      ],
      "execution_count": null,
      "outputs": [
        {
          "output_type": "stream",
          "text": [
            "{1: 'vermelho', 2: 'azul', 3: 'verde', 4: 'amarelo', 5: 'rosa', 6: 'branco'}\n",
            "{1: 'vermelho', 3: 'verde', 4: 'amarelo', 5: 'rosa', 6: 'branco'}\n",
            "azul\n"
          ],
          "name": "stdout"
        }
      ]
    },
    {
      "cell_type": "markdown",
      "metadata": {
        "colab_type": "text",
        "id": "uBTTs67ZfKz9"
      },
      "source": [
        "## Removendo elementos (del)\n",
        "\n",
        "Remove um elemento pela chave do dicionário."
      ]
    },
    {
      "cell_type": "code",
      "metadata": {
        "colab_type": "code",
        "id": "VFG3qfUpfKz-",
        "colab": {
          "base_uri": "https://localhost:8080/",
          "height": 51
        },
        "outputId": "c9caf3d1-2c55-4f06-8d85-7bf62b19385b"
      },
      "source": [
        "#declara e inicializa um dicionário de cores\n",
        "dicionario = {1:'vermelho', 2:'azul', 3:'verde', 4:'amarelo', 5:'rosa', 6:'branco'}\n",
        "\n",
        "print(dicionario)\n",
        "\n",
        "#del\n",
        "del dicionario[1]\n",
        "\n",
        "print(dicionario)"
      ],
      "execution_count": null,
      "outputs": [
        {
          "output_type": "stream",
          "text": [
            "{1: 'vermelho', 2: 'azul', 3: 'verde', 4: 'amarelo', 5: 'rosa', 6: 'branco'}\n",
            "{2: 'azul', 3: 'verde', 4: 'amarelo', 5: 'rosa', 6: 'branco'}\n"
          ],
          "name": "stdout"
        }
      ]
    },
    {
      "cell_type": "markdown",
      "metadata": {
        "colab_type": "text",
        "id": "JF2sOdM3e65C"
      },
      "source": [
        "## Apagando dicionário"
      ]
    },
    {
      "cell_type": "code",
      "metadata": {
        "colab_type": "code",
        "id": "5tv1wJpoe65C",
        "colab": {
          "base_uri": "https://localhost:8080/",
          "height": 51
        },
        "outputId": "872fe7c8-f39f-49f0-c880-a2596ca44d10"
      },
      "source": [
        "#declara e inicializa um dicionário de cores\n",
        "dicionario = {1:'vermelho', 2:'azul', 3:'verde', 4:'amarelo', 5:'rosa', 6:'branco'}\n",
        "\n",
        "print(dicionario)\n",
        "\n",
        "#clear()\n",
        "dicionario.clear()\n",
        "\n",
        "print(dicionario)"
      ],
      "execution_count": null,
      "outputs": [
        {
          "output_type": "stream",
          "text": [
            "{1: 'vermelho', 2: 'azul', 3: 'verde', 4: 'amarelo', 5: 'rosa', 6: 'branco'}\n",
            "{}\n"
          ],
          "name": "stdout"
        }
      ]
    },
    {
      "cell_type": "markdown",
      "metadata": {
        "id": "1LJiRi52_wii",
        "colab_type": "text"
      },
      "source": [
        "## Listando os elementos"
      ]
    },
    {
      "cell_type": "code",
      "metadata": {
        "id": "tlsb5HpQ_yy5",
        "colab_type": "code",
        "colab": {
          "base_uri": "https://localhost:8080/",
          "height": 323
        },
        "outputId": "4190f4c1-30f5-46ce-bf5c-c9c3f6427a9d"
      },
      "source": [
        "#declara e inicializa um dicionário de cores\n",
        "dicionario = {1:'vermelho', 2:'azul', 3:'verde', 4:'amarelo', 5:'rosa', 6:'branco'}\n",
        "\n",
        "#Lista as chaves do dicionario(método keys())\n",
        "for linha in dicionario.keys():\n",
        "  print(linha)\n",
        "\n",
        "#Lista os valores do dicionário(método values())\n",
        "for linha in dicionario.values():\n",
        "  print(linha)\n",
        "\n",
        "#Lista chave e valores do dicionário(método items())\n",
        "for chave, valor in dicionario.items():\n",
        "  print(\"chave=\",chave,\" valor=\", valor)\n"
      ],
      "execution_count": null,
      "outputs": [
        {
          "output_type": "stream",
          "text": [
            "1\n",
            "2\n",
            "3\n",
            "4\n",
            "5\n",
            "6\n",
            "vermelho\n",
            "azul\n",
            "verde\n",
            "amarelo\n",
            "rosa\n",
            "branco\n",
            "chave= 1  valor= vermelho\n",
            "chave= 2  valor= azul\n",
            "chave= 3  valor= verde\n",
            "chave= 4  valor= amarelo\n",
            "chave= 5  valor= rosa\n",
            "chave= 6  valor= branco\n"
          ],
          "name": "stdout"
        }
      ]
    },
    {
      "cell_type": "markdown",
      "metadata": {
        "id": "NGIkQkn79K04",
        "colab_type": "text"
      },
      "source": [
        "## Dicionário de Dicionário"
      ]
    },
    {
      "cell_type": "code",
      "metadata": {
        "id": "KtIwBy529UBh",
        "colab_type": "code",
        "colab": {
          "base_uri": "https://localhost:8080/",
          "height": 204
        },
        "outputId": "ff5a209d-8ac3-45e7-8e5a-6281dc1f80fa"
      },
      "source": [
        "#declara e inicializa um dicionário de cores com chave númerica com {}\n",
        "dicionario = {1:{11:{'onze'}, 12:{'doze'}},\n",
        "              2:{21:{'vinte um'}, 22:{'vinte dois'}},\n",
        "              3:{31:{'trinta e um'}, 32:{'trinta e dois'}}}\n",
        "\n",
        "#Recupera o valor do primeiro dicionário\n",
        "print(dicionario[1])\n",
        "\n",
        "#Recupera o valor do segundo dicionário\n",
        "print(dicionario[1][11])\n",
        "\n",
        "#Lista chave e valores do dicionário(método items())\n",
        "for chave1, valor1 in dicionario.items():\n",
        "  print(\"chave1=\",chave1,\" valor1=\", valor1)\n",
        "  #Lista os valores do dicionário interno \n",
        "  for chave2, valor2 in valor1.items():\n",
        "    print(\"    chave2=\",chave2,\" valor2=\", valor2)\n"
      ],
      "execution_count": null,
      "outputs": [
        {
          "output_type": "stream",
          "text": [
            "{11: {'onze'}, 12: {'doze'}}\n",
            "{'onze'}\n",
            "chave1= 1  valor1= {11: {'onze'}, 12: {'doze'}}\n",
            "    chave2= 11  valor2= {'onze'}\n",
            "    chave2= 12  valor2= {'doze'}\n",
            "chave1= 2  valor1= {21: {'vinte um'}, 22: {'vinte dois'}}\n",
            "    chave2= 21  valor2= {'vinte um'}\n",
            "    chave2= 22  valor2= {'vinte dois'}\n",
            "chave1= 3  valor1= {31: {'trinta e um'}, 32: {'trinta e dois'}}\n",
            "    chave2= 31  valor2= {'trinta e um'}\n",
            "    chave2= 32  valor2= {'trinta e dois'}\n"
          ],
          "name": "stdout"
        }
      ]
    },
    {
      "cell_type": "markdown",
      "metadata": {
        "id": "HoJtFntzzq0Q",
        "colab_type": "text"
      },
      "source": [
        "# Classificação / Ordenação"
      ]
    },
    {
      "cell_type": "markdown",
      "metadata": {
        "id": "S3lURBdBzxuQ",
        "colab_type": "text"
      },
      "source": [
        "## Método da bolha"
      ]
    },
    {
      "cell_type": "code",
      "metadata": {
        "id": "dkS6JT-iz1gc",
        "colab_type": "code",
        "colab": {
          "base_uri": "https://localhost:8080/",
          "height": 34
        },
        "outputId": "8f08e5ae-f188-436b-862a-3d04b2f2dd93"
      },
      "source": [
        "#Inicialização das variáveis\n",
        "vetor = [60, 50, 40, 30, 20, 10]\n",
        "\n",
        "#Processamento\n",
        "for i in range(0, len(vetor)-1):\n",
        "    for j in range(i+1, len(vetor)):        \n",
        "        if(vetor[i] > vetor[j]):            \n",
        "            aux = vetor[i]\n",
        "            vetor[i] = vetor[j]\n",
        "            vetor[j] = aux\n",
        "            \n",
        "#Saída\n",
        "print(vetor)"
      ],
      "execution_count": null,
      "outputs": [
        {
          "output_type": "stream",
          "text": [
            "[10, 20, 30, 40, 50, 60]\n"
          ],
          "name": "stdout"
        }
      ]
    },
    {
      "cell_type": "markdown",
      "metadata": {
        "id": "0Q4NM9va2mWB",
        "colab_type": "text"
      },
      "source": [
        "## Sort Ascendente"
      ]
    },
    {
      "cell_type": "code",
      "metadata": {
        "id": "AMS9-fng2qjb",
        "colab_type": "code",
        "colab": {
          "base_uri": "https://localhost:8080/",
          "height": 34
        },
        "outputId": "38a63759-9326-4f1c-ffad-315eee18f1fa"
      },
      "source": [
        "#Inicialização das variáveis\n",
        "vetor = [60, 50, 40, 30, 20, 10]\n",
        "\n",
        "#Processamento\n",
        "vetor.sort()\n",
        "            \n",
        "#Saída\n",
        "print(vetor)"
      ],
      "execution_count": null,
      "outputs": [
        {
          "output_type": "stream",
          "text": [
            "[10, 20, 30, 40, 50, 60]\n"
          ],
          "name": "stdout"
        }
      ]
    },
    {
      "cell_type": "markdown",
      "metadata": {
        "id": "2Y0uyvPf24zG",
        "colab_type": "text"
      },
      "source": [
        "## Sort Descendente"
      ]
    },
    {
      "cell_type": "code",
      "metadata": {
        "id": "1-_tKRnC3CdR",
        "colab_type": "code",
        "colab": {
          "base_uri": "https://localhost:8080/",
          "height": 34
        },
        "outputId": "8b6d6872-73ca-4236-f599-6a4b3816536d"
      },
      "source": [
        "#Inicialização das variáveis\n",
        "vetor = [10, 20, 30, 40, 50, 60]\n",
        "\n",
        "#Processamento\n",
        "vetor.sort(reverse=True)\n",
        "            \n",
        "#Saída\n",
        "print(vetor)"
      ],
      "execution_count": null,
      "outputs": [
        {
          "output_type": "stream",
          "text": [
            "[60, 50, 40, 30, 20, 10]\n"
          ],
          "name": "stdout"
        }
      ]
    },
    {
      "cell_type": "markdown",
      "metadata": {
        "id": "KfESLnXVs2zM",
        "colab_type": "text"
      },
      "source": [
        "# Implementações de estruturas de dados"
      ]
    },
    {
      "cell_type": "markdown",
      "metadata": {
        "id": "P6-IKLWDkEKc",
        "colab_type": "text"
      },
      "source": [
        "## Classe Pilha\n",
        "\n",
        "LIFO (Last In First Out)\n",
        "\n",
        "A inserção e remoção é realizada sempre no fim da lista, denominada topo."
      ]
    },
    {
      "cell_type": "code",
      "metadata": {
        "id": "6XoLTXvYkLf-",
        "colab_type": "code",
        "colab": {}
      },
      "source": [
        "class Pilha:\n",
        "  \n",
        "    #construtor da classe\n",
        "    def __init__(self):\n",
        "        #lista para armazenar os elementos da pilha\n",
        "        self.pilha = []\n",
        "        #inicializa o contador de elementos da pilha\n",
        "        self.qtde = 0 \n",
        "        \n",
        "    #empilhar(push)\n",
        "    def empilhar(self, elemento):\n",
        "        #adiciona o elemento a pilha\n",
        "        self.pilha.append(elemento)\n",
        "        #incrementa o contador de elementos da pilha\n",
        "        self.qtde += 1\n",
        "    \n",
        "    #desempilhar(pop)\n",
        "    def desempilhar(self): \n",
        "        #se não estiver vazia\n",
        "        if not self.vazia():\n",
        "            #mensagem mostrando o elemento removido\n",
        "            print(\"Elemento removido: \", self.pilha[len(self.pilha) - 1])\n",
        "            #remove o elemento do topo da pilha\n",
        "            self.pilha.pop(len(self.pilha) - 1)\n",
        "            #decrementa o contador de elementos da pilha\n",
        "            self.qtde -= 1\n",
        "\n",
        "    #verifica a situação da pilha\n",
        "    def vazia(self):\n",
        "        #verifica o tamanho da lista\n",
        "        if self.qtde == 0:\n",
        "            return True\n",
        "        return False\n",
        "    \n",
        "    #mostra os elementos da pilha\n",
        "    def mostraPilha(self):\n",
        "        #percorre os elementos da pilha\n",
        "        for i in range(self.qtde - 1, -1, -1): #Range de (Tamanho Fila até 0)\n",
        "            print(self.pilha[i])"
      ],
      "execution_count": null,
      "outputs": []
    },
    {
      "cell_type": "markdown",
      "metadata": {
        "id": "03hwiVMLkhue",
        "colab_type": "text"
      },
      "source": [
        "Exemplo uso:"
      ]
    },
    {
      "cell_type": "code",
      "metadata": {
        "id": "YVbsZehSkjJ4",
        "colab_type": "code",
        "colab": {
          "base_uri": "https://localhost:8080/",
          "height": 153
        },
        "outputId": "96a9e583-f865-41ec-e44d-670d5f3d4e9a"
      },
      "source": [
        "#declara a pilha\n",
        "p = Pilha()\n",
        "\n",
        "#adiciona \n",
        "p.empilhar(10)\n",
        "p.empilhar(20)\n",
        "p.empilhar(30)\n",
        "\n",
        "#mostra a pilha\n",
        "p.mostraPilha()\n",
        "\n",
        "#remove \n",
        "p.desempilhar()\n",
        "\n",
        "#mostra a pilha\n",
        "p.mostraPilha()\n",
        "\n",
        "#remove \n",
        "p.desempilhar()\n",
        "\n",
        "#situação da pilha\n",
        "print(p.vazia())"
      ],
      "execution_count": null,
      "outputs": [
        {
          "output_type": "stream",
          "text": [
            "30\n",
            "20\n",
            "10\n",
            "Elemento removido:  30\n",
            "20\n",
            "10\n",
            "Elemento removido:  20\n",
            "False\n"
          ],
          "name": "stdout"
        }
      ]
    },
    {
      "cell_type": "markdown",
      "metadata": {
        "id": "oP0Tf9dEnB9x",
        "colab_type": "text"
      },
      "source": [
        "## Classe Fila\n",
        "\n",
        "FIFO (First In First Out)\n",
        "\n",
        "A inclusão ocorre no fim e a exclusão ocorre no início."
      ]
    },
    {
      "cell_type": "code",
      "metadata": {
        "id": "aRCMn1i0nMx2",
        "colab_type": "code",
        "colab": {}
      },
      "source": [
        "class Fila:\n",
        "\n",
        "    #construtor da classe\n",
        "    def __init__(self):\n",
        "        #lista para armazenar os elementos da pilha\n",
        "        self.fila = []\n",
        "        #inicializa contador de elementos da fila\n",
        "        self.qtde = 0\n",
        "        \n",
        "    #enfileirar(enqueue)\n",
        "    def enfileirar(self, elemento):\n",
        "        #adiciona o elemento no final da fila\n",
        "        self.fila.append(elemento)\n",
        "        #incrementa o contador de elementos da fila\n",
        "        self.qtde += 1\n",
        "    \n",
        "    #desenfileirar(dequeue)\n",
        "    def desenfileirar(self):\n",
        "        #se não estiver vazia\n",
        "        if not self.vazia():\n",
        "            #mensagem mostrando o elemento removido          \n",
        "            print(\"Elemento removido: \", self.fila[0])\n",
        "            #remove o elemento do início da fila\n",
        "            self.fila.pop(0)\n",
        "            #decrementa o contador de elementos da fila\n",
        "            self.qtde -= 1\n",
        "\n",
        "    #verifica a situação da fila\n",
        "    def vazia(self):\n",
        "        if self.qtde == 0:\n",
        "            return True\n",
        "        return False\n",
        "    \n",
        "    #mostra os elementos da fila\n",
        "    def mostraFila(self):\n",
        "        #percorre os elementos da fila\n",
        "        for i in range(self.qtde):\n",
        "            print(self.fila[i])"
      ],
      "execution_count": null,
      "outputs": []
    },
    {
      "cell_type": "markdown",
      "metadata": {
        "id": "YzhngxoToGFc",
        "colab_type": "text"
      },
      "source": [
        "Exemplo uso:"
      ]
    },
    {
      "cell_type": "code",
      "metadata": {
        "id": "lLpYAooroGfN",
        "colab_type": "code",
        "colab": {
          "base_uri": "https://localhost:8080/",
          "height": 204
        },
        "outputId": "858e953a-ddb5-485b-e05b-d9f7f0f509d6"
      },
      "source": [
        "#declara a fila\n",
        "q = Fila()\n",
        "\n",
        "#adiciona \n",
        "q.enfileirar(10)\n",
        "q.enfileirar(20)\n",
        "q.enfileirar(30)\n",
        "\n",
        "#mostra a fila\n",
        "q.mostraFila()\n",
        "\n",
        "#remove\n",
        "q.desenfileirar()\n",
        "\n",
        "#mostra a fila\n",
        "q.mostraFila()\n",
        "\n",
        "#enfileirar\n",
        "print(\"Enfileirando: 40\")\n",
        "q.enfileirar(40)\n",
        "\n",
        "#mostra a fila\n",
        "q.mostraFila()\n",
        "\n",
        "#situação da fila\n",
        "print(q.vazia())"
      ],
      "execution_count": null,
      "outputs": [
        {
          "output_type": "stream",
          "text": [
            "10\n",
            "20\n",
            "30\n",
            "Elemento removido:  10\n",
            "20\n",
            "30\n",
            "Enfileirando: 40\n",
            "20\n",
            "30\n",
            "40\n",
            "False\n"
          ],
          "name": "stdout"
        }
      ]
    },
    {
      "cell_type": "markdown",
      "metadata": {
        "id": "T3Ko8MjHowD-",
        "colab_type": "text"
      },
      "source": [
        "## Classe Deque\n",
        "\n",
        "Os elementos podem ser removidos ou inseridos no início ou fim da fila."
      ]
    },
    {
      "cell_type": "code",
      "metadata": {
        "id": "hAota5TYozCF",
        "colab_type": "code",
        "colab": {}
      },
      "source": [
        "class Deque:\n",
        "\n",
        "    #construtor da classe    \n",
        "    def __init__(self):\n",
        "        #lista para armazenar os elementos do deque\n",
        "        self.deque = []\n",
        "        #inicializa contador de elementos do deque\n",
        "        self.qtde = 0\n",
        "    \n",
        "    #insere no início(insertFront)\n",
        "    def inserirInicio(self, elemento):\n",
        "        #adiciona o elemento no início do deque\n",
        "        self.deque.insert(0, elemento)\n",
        "        #incrementa o contador de elementos do deque\n",
        "        self.qtde += 1\n",
        "            \n",
        "    #insere no fim(insertBack)\n",
        "    def inserirFim(self, elemento):\n",
        "        #adiciona o elemento no fim do deque\n",
        "        self.deque.append(elemento)\n",
        "        #incrementa o contador de elementos do deque\n",
        "        self.qtde += 1\n",
        "        \n",
        "    #remove do início(removeFront)\n",
        "    def removerInicio(self):\n",
        "        #mensagem mostrando o elemento removido\n",
        "        print(\"Elemento removido: \", self.deque[0])\n",
        "        #remove o elemento do início\n",
        "        self.deque.pop(0)\n",
        "        #decrementa o contador de elementos do deque\n",
        "        self.qtde -= 1\n",
        "    \n",
        "    #remove do fim(removeBack)\n",
        "    def removerFim(self):\n",
        "        #mensagem mostrando o elemento removido\n",
        "        print(\"Elemento removido: \", self.deque[-1])\n",
        "        #remove o elemento do fim\n",
        "        self.deque.pop(-1)\n",
        "        #decrementa o contador de elementos\n",
        "        self.qtde -= 1\n",
        "        \n",
        "    #verifica a situação do deque\n",
        "    def vazia(self):\n",
        "        if self.qtde == 0:\n",
        "            return True\n",
        "        return False\n",
        "\n",
        "    #mostra os elementos do deque\n",
        "    def mostraDeque(self):\n",
        "        #percorre os elementos do deque\n",
        "        for i in range(self.qtde):\n",
        "            print(self.deque[i])"
      ],
      "execution_count": null,
      "outputs": []
    },
    {
      "cell_type": "markdown",
      "metadata": {
        "id": "yHWYdDQip7jA",
        "colab_type": "text"
      },
      "source": [
        "Exemplo de uso:"
      ]
    },
    {
      "cell_type": "code",
      "metadata": {
        "id": "n2h1HLW5p8p6",
        "colab_type": "code",
        "colab": {
          "base_uri": "https://localhost:8080/",
          "height": 136
        },
        "outputId": "4dc22075-6610-4f5e-cb2d-a3a2bf9a0fc0"
      },
      "source": [
        "#declara o deque\n",
        "d = Deque()\n",
        "\n",
        "#inserindo no início\n",
        "d.inserirInicio(10)\n",
        "d.inserirInicio(20)\n",
        "d.inserirInicio(30)\n",
        "\n",
        "#mostra o deque\n",
        "d.mostraDeque()\n",
        "\n",
        "#remove do fim\n",
        "d.removerFim()\n",
        "\n",
        "#reove do início\n",
        "d.removerInicio()\n",
        "\n",
        "#mostra o deque\n",
        "d.mostraDeque()\n",
        "\n",
        "#situação do deque\n",
        "print(d.vazia())"
      ],
      "execution_count": null,
      "outputs": [
        {
          "output_type": "stream",
          "text": [
            "30\n",
            "20\n",
            "10\n",
            "Elemento removido:  10\n",
            "Elemento removido:  30\n",
            "20\n",
            "False\n"
          ],
          "name": "stdout"
        }
      ]
    },
    {
      "cell_type": "markdown",
      "metadata": {
        "id": "_TDiScCgqUIW",
        "colab_type": "text"
      },
      "source": [
        "## Deque com collections.deque\n",
        "\n",
        "Implementação do Deque do pacote colletions"
      ]
    },
    {
      "cell_type": "code",
      "metadata": {
        "id": "DoW65JTIqYBi",
        "colab_type": "code",
        "colab": {
          "base_uri": "https://localhost:8080/",
          "height": 34
        },
        "outputId": "437d248f-31b7-413a-8996-7771ce6546c0"
      },
      "source": [
        "from collections import deque\n",
        "\n",
        "#declara o deque\n",
        "d = deque()\n",
        "\n",
        "#Adiciona ao fim do deque\n",
        "d.append(10) \n",
        "#Adiciona ao início ao deque\n",
        "d.appendleft(20) \n",
        "#Adiciona ao fim do deque\n",
        "d.append(30)\n",
        "\n",
        "#Mostra o deque\n",
        "for i in d:\n",
        "    print(i, end=' ')\n",
        "\n",
        "#Remove do fim\n",
        "d.pop() \n",
        "\n",
        "#Remove do início\n",
        "d.popleft()\n",
        "\n",
        "#Mostra o deque\n",
        "for i in d:\n",
        "    print(i, end=' ')"
      ],
      "execution_count": null,
      "outputs": [
        {
          "output_type": "stream",
          "text": [
            "20 10 30 10 "
          ],
          "name": "stdout"
        }
      ]
    },
    {
      "cell_type": "markdown",
      "metadata": {
        "colab_type": "text",
        "id": "REh3q0uBfVFE"
      },
      "source": [
        "## Classe ListaSimplesmenteEncadeada\n",
        "\n",
        "Os elementos podem ser removidos ou inseridos no início ou fim da fila. Existe uma classe para armazenar os dados e o ponteiro do próximo elemento."
      ]
    },
    {
      "cell_type": "code",
      "metadata": {
        "id": "P6-bYxTIflWT",
        "colab_type": "code",
        "colab": {}
      },
      "source": [
        "class No:\n",
        "\n",
        "    #construtor da classe    \n",
        "    def __init__(self, elemento=None, proximo=None):\n",
        "        self.elemento = elemento\n",
        "        self.proximo = proximo\n",
        "    \n",
        "    #retorna os dados do nó\n",
        "    def __str__(self):\n",
        "        return str(self.elemento)"
      ],
      "execution_count": null,
      "outputs": []
    },
    {
      "cell_type": "code",
      "metadata": {
        "colab_type": "code",
        "id": "i-UowY2SfVFF",
        "colab": {}
      },
      "source": [
        "class ListaSimplesmenteEncadeada:\n",
        "\n",
        "    #construtor da classe    \n",
        "    def __init__(self):\n",
        "        #guarda o início da lista simplesmente encadeada\n",
        "        self.inicio = None\n",
        "        #inicializa contador de elementos da lista simplesmente encadeada\n",
        "        self.qtde = 0\n",
        "    \n",
        "    #insere no início(insertFront)\n",
        "    def inserirInicio(self, elemento):\n",
        "        #instancia um novo nó\n",
        "        novo = No(elemento, self.inicio)\n",
        "        #adiciona o elemento no início da lista simplesmente encadeada\n",
        "        self.inicio = novo\n",
        "        #incrementa o contador de elementos da lista simplesmente encadeada\n",
        "        self.qtde += 1\n",
        "                    \n",
        "    #insere no fim(insertBack)\n",
        "    def inserirFim(self, elemento):\n",
        "        #se diferente de vazio procura a última posição\n",
        "        if self.inicio:\n",
        "          aux = self.inicio\n",
        "          #percorre os elementos da lista simplesmente encadeada\n",
        "          while aux.proximo:            \n",
        "            aux = aux.proximo\n",
        "          #instancia um novo nó\n",
        "          novo = No(elemento)\n",
        "          #adiciona ao final da lista\n",
        "          aux.proximo = novo\n",
        "          #incrementa o contador de elementos do deque\n",
        "          self.qtde += 1\n",
        "        else:\n",
        "          self.inserirInicio(elemento)      \n",
        "        \n",
        "    #remove do início(removeFront)\n",
        "    def removerInicio(self):\n",
        "        #Verifica se a lista não está vazia\n",
        "        if self.inicio:\n",
        "            #mensagem mostrando o elemento removido\n",
        "            print(\"Elemento removido: \", self.inicio.elemento)\n",
        "            #remove o elemento do início\n",
        "            self.inicio = self.inicio.proximo\n",
        "            #decrementa o contador de elementos da lista simplesmente encadeada\n",
        "            self.qtde -= 1\n",
        "        else:\n",
        "            print(\"Lista vazia!\")\n",
        "    \n",
        "    #remove do fim(removeBack)\n",
        "    def removerFim(self):\n",
        "        #verifica se a lista não está vazia\n",
        "        if self.inicio:\n",
        "            #com mais de um nó\n",
        "            if self.inicio.proximo:\n",
        "                #Recupera o início da lista\n",
        "                atual = self.inicio \n",
        "                anterior = None;\n",
        "                while atual.proximo:\n",
        "                    anterior = atual\n",
        "                    atual = atual.proximo                                \n",
        "                #mensagem mostrando o elemento removido\n",
        "                print(\"Elemento removido: \", atual.elemento)\n",
        "                #pula o elemento a ser removido\n",
        "                anterior.proximo = atual.proximo \n",
        "                #decrementa o contador de elementos da lista simplesmente encadeada\n",
        "                self.qtde -= 1                \n",
        "            else:\n",
        "                #remove do início                \n",
        "                self.removerInicio()            \n",
        "        else:\n",
        "            print(\"Lista vazia!\")        \n",
        "        \n",
        "    #verifica a situação da lista simplesmente encadeada\n",
        "    def vazia(self):\n",
        "        if self.qtde == 0:\n",
        "            return True\n",
        "        return False\n",
        "\n",
        "    #mostra os elementos da lista simplesmente encadeada\n",
        "    def mostraLista(self):\n",
        "        aux = self.inicio\n",
        "        #percorre os elementos da lista simplesmente encadeada\n",
        "        while aux:\n",
        "          print(aux)\n",
        "          aux = aux.proximo\n",
        "          "
      ],
      "execution_count": null,
      "outputs": []
    },
    {
      "cell_type": "markdown",
      "metadata": {
        "colab_type": "text",
        "id": "shcXxUVsfVFJ"
      },
      "source": [
        "Exemplo de uso:"
      ]
    },
    {
      "cell_type": "code",
      "metadata": {
        "colab_type": "code",
        "id": "sMVMGH_ZfVFK",
        "colab": {
          "base_uri": "https://localhost:8080/",
          "height": 238
        },
        "outputId": "ea47274f-dca9-4cb6-8260-f06ce0ccf304"
      },
      "source": [
        "#declara a lista simplesmente encadeada\n",
        "l = ListaSimplesmenteEncadeada()\n",
        "\n",
        "#inserindo no início\n",
        "l.inserirFim(30)\n",
        "l.inserirFim(40)\n",
        "\n",
        "#inserindo no fim\n",
        "l.inserirInicio(20)\n",
        "l.inserirInicio(10)\n",
        "\n",
        "#mostra a lista simplesmente encadeada\n",
        "l.mostraLista()\n",
        "\n",
        "#remove do início\n",
        "l.removerInicio()\n",
        "\n",
        "#mostra a lista simplesmente encadeada\n",
        "l.mostraLista()\n",
        "\n",
        "#remove do fim\n",
        "l.removerFim()\n",
        "l.removerFim()\n",
        "l.removerFim()\n",
        "l.removerFim()\n",
        "\n",
        "#mostra a lista simplesmente encadeada\n",
        "l.mostraLista()\n",
        "\n",
        "#situação da lista simplesmente encadeada\n",
        "print(l.vazia())"
      ],
      "execution_count": null,
      "outputs": [
        {
          "output_type": "stream",
          "text": [
            "10\n",
            "20\n",
            "30\n",
            "40\n",
            "Elemento removido:  10\n",
            "20\n",
            "30\n",
            "40\n",
            "Elemento removido:  40\n",
            "Elemento removido:  30\n",
            "Elemento removido:  20\n",
            "Lista vazia!\n",
            "True\n"
          ],
          "name": "stdout"
        }
      ]
    }
  ]
}