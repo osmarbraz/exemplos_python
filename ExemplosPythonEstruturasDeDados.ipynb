{
  "nbformat": 4,
  "nbformat_minor": 0,
  "metadata": {
    "colab": {
      "name": "ExemplosPythonEstruturasDeDados.ipynb",
      "provenance": [],
      "collapsed_sections": [],
      "toc_visible": true,
      "include_colab_link": true
    },
    "kernelspec": {
      "name": "python3",
      "display_name": "Python 3"
    }
  },
  "cells": [
    {
      "cell_type": "markdown",
      "metadata": {
        "id": "view-in-github",
        "colab_type": "text"
      },
      "source": [
        "<a href=\"https://colab.research.google.com/github/osmarbraz/exemplos_python/blob/master/ExemplosPythonEstruturasDeDados.ipynb\" target=\"_parent\"><img src=\"https://colab.research.google.com/assets/colab-badge.svg\" alt=\"Open In Colab\"/></a>"
      ]
    },
    {
      "cell_type": "markdown",
      "metadata": {
        "id": "xY84ChCNzmQQ"
      },
      "source": [
        "# Exemplos de Estruturas de Dados em Python no Google Colaboratory\n",
        "\n",
        "- Listas(List);\n",
        "- Enumerações(Enumerate);\n",
        "- Tuplas(Tuple);\n",
        "- Intervalos(Range)\n",
        "- Conjuntos(Sets);\n",
        "- Dicionários(Dict);\n",
        "- Classificação(Ordenação);\n",
        "- Classes de Estrutura de Dados.\n",
        "\n",
        "-----------------------------------------\n",
        "**Guia Colab Iniciante:**\n",
        "\n",
        "https://medium.com/machina-sapiens/google-colab-guia-do-iniciante-334d70aad531\n",
        "\n",
        "**Documentação oficial:**\n",
        "\n",
        "https://colab.research.google.com/github/jakevdp/PythonDataScienceHandbook/blob/master/notebooks/01.01-Help-And-Documentation.ipynb\n",
        "\n",
        "**Características :**\n",
        "\n",
        "https://colab.research.google.com/notebooks/basic_features_overview.ipynb"
      ]
    },
    {
      "cell_type": "markdown",
      "metadata": {
        "id": "8-yh61Cp3W_0"
      },
      "source": [
        "# Listas/List"
      ]
    },
    {
      "cell_type": "markdown",
      "metadata": {
        "id": "_F96dx_gpm2Y"
      },
      "source": [
        "Uma lista é a estrutura de dados mais básica do Python e armazena os dados em sequência, onde cada elemento possui sua posição na lista, denominada de índice. O primeiro elemento é sempre o índice zero e a cada elemento inserido na lista esse valor é incrementado.\n",
        "\n",
        "No Python, uma lista pode armazenar qualquer tipo de dado primitivo (string, inteiro, float, etc). \n",
        "\n",
        "Listas são equivalentes a vetores.\n",
        "\n",
        "* São ordenadas;\n",
        "* Podem ser iteradas;\n",
        "* São mutáveis (podemos adicionar, mover, mudar ou remover elementos);\n",
        "* Aceitam diversos tipos de elementos.\n",
        "\n",
        "https://railsware.com/blog/python-for-machine-learning-indexing-and-slicing-for-lists-tuples-strings-and-other-sequential-types/"
      ]
    },
    {
      "cell_type": "markdown",
      "metadata": {
        "id": "U9yrljlxiyFk"
      },
      "source": [
        "## Declarando e criando listas"
      ]
    },
    {
      "cell_type": "code",
      "metadata": {
        "id": "CRP2Snaki3N4",
        "colab": {
          "base_uri": "https://localhost:8080/"
        },
        "outputId": "c5663797-1773-444a-c9a8-9638e890b49b"
      },
      "source": [
        "# Declara e inicializa uma lista de cores\n",
        "cores = ['vermelho', 'azul', 'verde', 'amarelo', 'rosa', 'branco']\n",
        "\n",
        "# Mostra lista\n",
        "print(cores)"
      ],
      "execution_count": 1,
      "outputs": [
        {
          "output_type": "stream",
          "text": [
            "['vermelho', 'azul', 'verde', 'amarelo', 'rosa', 'branco']\n"
          ],
          "name": "stdout"
        }
      ]
    },
    {
      "cell_type": "markdown",
      "metadata": {
        "id": "jIyN9queGP1O"
      },
      "source": [
        "## Declarando e inicializando uma listacom uma constante"
      ]
    },
    {
      "cell_type": "code",
      "metadata": {
        "id": "3DiQIAj7GTFh",
        "colab": {
          "base_uri": "https://localhost:8080/"
        },
        "outputId": "8f06e3ff-4b65-41b4-999a-f5d0e045aafc"
      },
      "source": [
        "#gera um vetor de 10 posições com o valor 'sem cor'\n",
        "cores = ['sem cor'] * 10\n",
        "\n",
        "print(len(cores))\n",
        "print(cores)"
      ],
      "execution_count": 2,
      "outputs": [
        {
          "output_type": "stream",
          "text": [
            "10\n",
            "['sem cor', 'sem cor', 'sem cor', 'sem cor', 'sem cor', 'sem cor', 'sem cor', 'sem cor', 'sem cor', 'sem cor']\n"
          ],
          "name": "stdout"
        }
      ]
    },
    {
      "cell_type": "markdown",
      "metadata": {
        "id": "aO6beiJqk9Wz"
      },
      "source": [
        "## Acessando elementos da lista"
      ]
    },
    {
      "cell_type": "markdown",
      "metadata": {
        "id": "fL1p2TUaoZ87"
      },
      "source": [
        "### Acessando elementos por índice\n",
        "\n",
        "ATENÇÃO: Início em 0(zero)!"
      ]
    },
    {
      "cell_type": "code",
      "metadata": {
        "id": "tWTdt6UHlBLt",
        "colab": {
          "base_uri": "https://localhost:8080/"
        },
        "outputId": "67b73bfb-bea2-4861-af70-cab9bea2291a"
      },
      "source": [
        "# Declara e inicializa uma lista de cores\n",
        "cores = ['vermelho', 'azul', 'verde', 'amarelo', 'rosa', 'branco']\n",
        "\n",
        "# Acessando o primeiro(índice=0) elemento da lista\n",
        "print(\"Primeiro:\",cores[0])\n",
        "\n",
        "# Acessando o terceiro(índice=3) elemento da lista\n",
        "print(\"Terceiro:\", cores[2])"
      ],
      "execution_count": 3,
      "outputs": [
        {
          "output_type": "stream",
          "text": [
            "Primeiro: vermelho\n",
            "Terceiro: verde\n"
          ],
          "name": "stdout"
        }
      ]
    },
    {
      "cell_type": "markdown",
      "metadata": {
        "id": "Mr6-JwsfjQ_w"
      },
      "source": [
        "### Últilizando índices negativos"
      ]
    },
    {
      "cell_type": "code",
      "metadata": {
        "id": "KIzfpb_2jYBK",
        "colab": {
          "base_uri": "https://localhost:8080/"
        },
        "outputId": "15e92d71-ef70-4d2b-8394-9f486ef12ec1"
      },
      "source": [
        "# Declara e inicializa uma lista de cores\n",
        "cores = ['vermelho', 'azul', 'verde', 'amarelo', 'rosa', 'branco']\n",
        "\n",
        "# Acessando o último elemento da lista\n",
        "print(\"Último:\",cores[-1])\n",
        "\n",
        "# Acessando o penúltimo elemento da lista\n",
        "print(\"Penúltimo:\",cores[-2])"
      ],
      "execution_count": 4,
      "outputs": [
        {
          "output_type": "stream",
          "text": [
            "Último: branco\n",
            "Penúltimo: rosa\n"
          ],
          "name": "stdout"
        }
      ]
    },
    {
      "cell_type": "markdown",
      "metadata": {
        "id": "BmgjxxGupDTv"
      },
      "source": [
        "### Acessando intervalos [:]"
      ]
    },
    {
      "cell_type": "code",
      "metadata": {
        "id": "_MXZ1qJ9pDTw",
        "colab": {
          "base_uri": "https://localhost:8080/"
        },
        "outputId": "e9eec752-ffca-423a-f0b8-05f2eb7dace6"
      },
      "source": [
        "# Declara e inicializa uma lista de cores\n",
        "cores = ['vermelho', 'azul', 'verde', 'amarelo', 'rosa', 'branco']\n",
        "\n",
        "# Acessando o intervalo de todos\n",
        "print(\"Intervalo de de todos(cores[:])                 :\", cores[:])\n",
        "\n",
        "# Acessando o intervalo de 2 a 4\n",
        "print(\"Intervalo de 2 até 4(cores[2:4])                :\", cores[2:4])\n",
        "\n",
        "# Acessando o intervalo do primeiro até o 2\n",
        "print(\"Intervalo do início até 2(cores[:2])            :\", cores[:2])\n",
        "\n",
        "# Acessando do início até o penúltimo elemento da lista\n",
        "print(\"Intervalo início até o último(cores[:-1])       :\",cores[:-1])\n",
        "\n",
        "# Acessando do 0 até o penúltimo elemento da lista\n",
        "print(\"Intervalo 0 até o último(cores[0:-1])           :\",cores[0:-1])\n",
        "\n",
        "# Acessando do início até o penúltimo elemento da lista\n",
        "print(\"Intervalo de início até o penúltimo(cores[:-2]) :\",cores[:-2])\n",
        "\n",
        "# Acessando do 0 até o penúltimo elemento da lista\n",
        "print(\"Intervalo de 0 até o penúltimo(cores[:-2])      :\",cores[:-2])\n",
        "\n",
        "# Acessando do 0 até o penúltimo elemento da lista\n",
        "print(\"Intervalo de 0 até o penúltimo(cores[0:-2])     :\",cores[0:-2])\n",
        "\n",
        "# Acessando do segundo até o penúltimo elemento da lista\n",
        "print(\"Intervalo de 2 até o penúltimo(cores[2:-2])     :\",cores[2:-2])\n",
        "\n",
        "# Acessando o último elemento da lista\n",
        "print(\"Intervalo de fim até o último(cores[-1:])       :\",cores[-1:])\n",
        "\n",
        "# Acessando os dois últimos elementos da lista\n",
        "print(\"Intervalo de fim até os dois últimos(cores[-2:]):\",cores[-2:])"
      ],
      "execution_count": 5,
      "outputs": [
        {
          "output_type": "stream",
          "text": [
            "Intervalo de de todos(cores[:])                 : ['vermelho', 'azul', 'verde', 'amarelo', 'rosa', 'branco']\n",
            "Intervalo de 2 até 4(cores[2:4])                : ['verde', 'amarelo']\n",
            "Intervalo do início até 2(cores[:2])            : ['vermelho', 'azul']\n",
            "Intervalo início até o último(cores[:-1])       : ['vermelho', 'azul', 'verde', 'amarelo', 'rosa']\n",
            "Intervalo 0 até o último(cores[0:-1])           : ['vermelho', 'azul', 'verde', 'amarelo', 'rosa']\n",
            "Intervalo de início até o penúltimo(cores[:-2]) : ['vermelho', 'azul', 'verde', 'amarelo']\n",
            "Intervalo de 0 até o penúltimo(cores[:-2])      : ['vermelho', 'azul', 'verde', 'amarelo']\n",
            "Intervalo de 0 até o penúltimo(cores[0:-2])     : ['vermelho', 'azul', 'verde', 'amarelo']\n",
            "Intervalo de 2 até o penúltimo(cores[2:-2])     : ['verde', 'amarelo']\n",
            "Intervalo de fim até o último(cores[-1:])       : ['branco']\n",
            "Intervalo de fim até os dois últimos(cores[-2:]): ['rosa', 'branco']\n"
          ],
          "name": "stdout"
        }
      ]
    },
    {
      "cell_type": "markdown",
      "metadata": {
        "id": "L6p_1m9vk2Eo"
      },
      "source": [
        "## Atribuindo valores"
      ]
    },
    {
      "cell_type": "code",
      "metadata": {
        "id": "OUyBCzp8lKFZ",
        "colab": {
          "base_uri": "https://localhost:8080/"
        },
        "outputId": "fa5e7ca9-6470-4196-f084-9a6f553a5627"
      },
      "source": [
        "# Declara e inicializa uma lista de cores\n",
        "cores = ['vermelho', 'azul', 'verde', 'amarelo', 'rosa', 'branco']\n",
        "\n",
        "# Atribuindo um novo valor para o primeiro elemento índice=0\n",
        "cores[0]  = 'marron'\n",
        "\n",
        "# Atribuindo um novo valor para o último elemento índice=-1\n",
        "cores[-1] = 'preto'\n",
        "\n",
        "# Mostra a lista\n",
        "print(cores)"
      ],
      "execution_count": 6,
      "outputs": [
        {
          "output_type": "stream",
          "text": [
            "['marron', 'azul', 'verde', 'amarelo', 'rosa', 'preto']\n"
          ],
          "name": "stdout"
        }
      ]
    },
    {
      "cell_type": "markdown",
      "metadata": {
        "id": "TS6fenV9yyHP"
      },
      "source": [
        "##Max e Min dos elementos das listas"
      ]
    },
    {
      "cell_type": "code",
      "metadata": {
        "id": "q-YPfwsayyZF",
        "colab": {
          "base_uri": "https://localhost:8080/"
        },
        "outputId": "1139ff8f-5263-4d37-cfc8-d2519a28a702"
      },
      "source": [
        "# Declara e inicializa uma lista de número\n",
        "lista = [10, 20, 30 , 40 , 50 , 60]\n",
        "\n",
        "menor = min(lista)\n",
        "maior = max(lista)\n",
        "\n",
        "# Mostra o menor\n",
        "print(menor)\n",
        "\n",
        "# Mostra o maior\n",
        "print(maior)"
      ],
      "execution_count": 7,
      "outputs": [
        {
          "output_type": "stream",
          "text": [
            "10\n",
            "60\n"
          ],
          "name": "stdout"
        }
      ]
    },
    {
      "cell_type": "markdown",
      "metadata": {
        "id": "gKgypxOH8-kS"
      },
      "source": [
        "## Tamanho das listas"
      ]
    },
    {
      "cell_type": "code",
      "metadata": {
        "id": "mZjI2Xsx9EpS",
        "colab": {
          "base_uri": "https://localhost:8080/"
        },
        "outputId": "6b07f30d-8af8-4cf7-a112-222336c8e950"
      },
      "source": [
        "# Declara e inicializa uma lista de número\n",
        "lista = [10, 20, 30 , 40 , 50 , 60]\n",
        "\n",
        "# O método len retorna a quantidade de elementos da lista\n",
        "tamanho = len(lista)\n",
        "\n",
        "# Mostra o tamanho\n",
        "print(tamanho)\n"
      ],
      "execution_count": 8,
      "outputs": [
        {
          "output_type": "stream",
          "text": [
            "6\n"
          ],
          "name": "stdout"
        }
      ]
    },
    {
      "cell_type": "markdown",
      "metadata": {
        "id": "ymqzP7bp3z8Q"
      },
      "source": [
        "## Exibindo listas"
      ]
    },
    {
      "cell_type": "markdown",
      "metadata": {
        "id": "VnCf0nAjkiaJ"
      },
      "source": [
        "### Listando tudo"
      ]
    },
    {
      "cell_type": "code",
      "metadata": {
        "id": "bhJ3cCYsGE6m",
        "colab": {
          "base_uri": "https://localhost:8080/"
        },
        "outputId": "13f60b31-c636-4ce9-b621-1754ba2a5eb8"
      },
      "source": [
        "# Declara e inicializa uma lista de cores\n",
        "cores = ['vermelho', 'azul', 'verde', 'amarelo', 'rosa', 'branco']\n",
        "\n",
        "# Percorre a lista de cores, o valor atual está em cor\n",
        "for cor in cores:\n",
        "    print(cor)"
      ],
      "execution_count": 9,
      "outputs": [
        {
          "output_type": "stream",
          "text": [
            "vermelho\n",
            "azul\n",
            "verde\n",
            "amarelo\n",
            "rosa\n",
            "branco\n"
          ],
          "name": "stdout"
        }
      ]
    },
    {
      "cell_type": "markdown",
      "metadata": {
        "id": "2KuGRyZlG8G0"
      },
      "source": [
        "###  Percorre sem exibir o primeiro e último elemento"
      ]
    },
    {
      "cell_type": "code",
      "metadata": {
        "id": "PUk23g8CG8G1",
        "colab": {
          "base_uri": "https://localhost:8080/"
        },
        "outputId": "e9456179-a8d6-4687-d869-bd3fff57854f"
      },
      "source": [
        "# Declara e inicializa uma lista de cores\n",
        "cores = ['vermelho', 'azul', 'verde', 'amarelo', 'rosa', 'branco']\n",
        "\n",
        "# Percorre a lista de cores, o valor atual está em cor\n",
        "for cor in cores[1:-1]:\n",
        "    print(cor)"
      ],
      "execution_count": 10,
      "outputs": [
        {
          "output_type": "stream",
          "text": [
            "azul\n",
            "verde\n",
            "amarelo\n",
            "rosa\n"
          ],
          "name": "stdout"
        }
      ]
    },
    {
      "cell_type": "markdown",
      "metadata": {
        "id": "Ebgjd9kM85hp"
      },
      "source": [
        "### Percorre as listas de forma invertida"
      ]
    },
    {
      "cell_type": "code",
      "metadata": {
        "id": "88o8wdC68woL",
        "colab": {
          "base_uri": "https://localhost:8080/"
        },
        "outputId": "f14338fd-1447-4e76-905a-29dfa0790eae"
      },
      "source": [
        "# Declara e inicializa uma lista de cores\n",
        "cores = ['vermelho', 'azul', 'verde', 'amarelo', 'rosa', 'branco']\n",
        "\n",
        "# Percorre a lista de cores, o valor atual está em cor\n",
        "for cor in cores[::-1]:\n",
        "    print(cor)"
      ],
      "execution_count": 11,
      "outputs": [
        {
          "output_type": "stream",
          "text": [
            "branco\n",
            "rosa\n",
            "amarelo\n",
            "verde\n",
            "azul\n",
            "vermelho\n"
          ],
          "name": "stdout"
        }
      ]
    },
    {
      "cell_type": "markdown",
      "metadata": {
        "id": "okzpNteU3uhs"
      },
      "source": [
        "### Limitando a exibição sem índice"
      ]
    },
    {
      "cell_type": "code",
      "metadata": {
        "id": "tylksppD399H",
        "colab": {
          "base_uri": "https://localhost:8080/"
        },
        "outputId": "be0fd993-ffee-435e-ae8e-e3bb897e0d1f"
      },
      "source": [
        "# Biblioteca para iteragir\n",
        "import itertools\n",
        "\n",
        "# Declara e inicializa uma lista de cores\n",
        "cores = ['vermelho', 'azul', 'verde', 'amarelo', 'rosa', 'branco']\n",
        "\n",
        "# Limite de dados a serem exibidos\n",
        "limite = 2\n",
        "\n",
        "# Percorre a lista de cores até o limite, o valor atual está em cor\n",
        "for cor in itertools.islice(cores, 0, limite):    \n",
        "    print(cor)"
      ],
      "execution_count": 12,
      "outputs": [
        {
          "output_type": "stream",
          "text": [
            "vermelho\n",
            "azul\n"
          ],
          "name": "stdout"
        }
      ]
    },
    {
      "cell_type": "markdown",
      "metadata": {
        "id": "YocA-8PD5FV7"
      },
      "source": [
        "### Limitando a exibição com índice 1\n",
        "\n",
        "Exemplo usando zip"
      ]
    },
    {
      "cell_type": "code",
      "metadata": {
        "id": "hYYeCwVI5HaB",
        "colab": {
          "base_uri": "https://localhost:8080/"
        },
        "outputId": "e402b763-9d45-452f-8a1c-200cec812ebc"
      },
      "source": [
        "# Declara e inicializa uma lista de cores\n",
        "cores = ['vermelho', 'azul', 'verde', 'amarelo', 'rosa', 'branco']\n",
        "\n",
        "# Limite de dados a serem exibidos\n",
        "limite = 2\n",
        "\n",
        "# Percorre a lista de cores até o limite, o valor atual está em cor\n",
        "for index, cor in zip(range(limite), cores):\n",
        "    print(index, cor)"
      ],
      "execution_count": 13,
      "outputs": [
        {
          "output_type": "stream",
          "text": [
            "0 vermelho\n",
            "1 azul\n"
          ],
          "name": "stdout"
        }
      ]
    },
    {
      "cell_type": "markdown",
      "metadata": {
        "id": "qHhSY51t4dsr"
      },
      "source": [
        "### Limitando a exibição com índice 2\n",
        "\n",
        "Exemplo usando islice, necessita de import itertools"
      ]
    },
    {
      "cell_type": "code",
      "metadata": {
        "id": "dKfGDpaO4gbZ",
        "colab": {
          "base_uri": "https://localhost:8080/"
        },
        "outputId": "cadc4e5d-c1ea-45b1-ebb9-c9ae5c584a38"
      },
      "source": [
        "# Biblioteca para iteragir\n",
        "import itertools\n",
        "\n",
        "# Declara e inicializa uma lista de cores\n",
        "cores = ['vermelho', 'azul', 'verde', 'amarelo', 'rosa', 'branco']\n",
        "\n",
        "# Limite de dados a serem exibidos\n",
        "limite = 2\n",
        "\n",
        "# Percorre a lista de cores até o limite, o valor atual está em cor\n",
        "for index, cor in enumerate(itertools.islice(cores, limite)):\n",
        "    print(index, cor)"
      ],
      "execution_count": 14,
      "outputs": [
        {
          "output_type": "stream",
          "text": [
            "0 vermelho\n",
            "1 azul\n"
          ],
          "name": "stdout"
        }
      ]
    },
    {
      "cell_type": "markdown",
      "metadata": {
        "id": "yzlq0V-mzAHt"
      },
      "source": [
        "## Similaridade de coseno com listas"
      ]
    },
    {
      "cell_type": "code",
      "metadata": {
        "id": "2eCu5fl_zAxj",
        "colab": {
          "base_uri": "https://localhost:8080/"
        },
        "outputId": "c7dd7e86-bd1d-4c8e-fe39-0fe3ff1a1ec2"
      },
      "source": [
        "# Biblioteca de álgebra linear(matrizes)\n",
        "import numpy as np\n",
        "\n",
        "from scipy.spatial.distance import cosine\n",
        "\n",
        "A = np.array([0, 1, 2, 3]) \n",
        "B = np.array([0, 1, 2, 3]) \n",
        "\n",
        "C = cosine(A,B) \n",
        "\n",
        "print('A>', A)\n",
        "print('B>', B)\n",
        "print('C>', C)\n",
        "\n",
        "D = np.array([0, 1, 4, 5]) \n",
        "E = cosine(A,D) \n",
        "\n",
        "print('A>', A)\n",
        "print('D>', D)\n",
        "print('E>', E)"
      ],
      "execution_count": 15,
      "outputs": [
        {
          "output_type": "stream",
          "text": [
            "A> [0 1 2 3]\n",
            "B> [0 1 2 3]\n",
            "C> 0.0\n",
            "A> [0 1 2 3]\n",
            "D> [0 1 4 5]\n",
            "E> 0.010256681389212985\n"
          ],
          "name": "stdout"
        }
      ]
    },
    {
      "cell_type": "markdown",
      "metadata": {
        "id": "Bo5nSHcHkr5E"
      },
      "source": [
        "## Manutenção de listas\n",
        "\n",
        "http://excript.com/python/incluindo-alterando-excluindo-elementos-lista-python.html\n"
      ]
    },
    {
      "cell_type": "markdown",
      "metadata": {
        "id": "CZw2JxftmdGI"
      },
      "source": [
        "### Adicionando elementos"
      ]
    },
    {
      "cell_type": "code",
      "metadata": {
        "id": "mvaex6wOme4u",
        "colab": {
          "base_uri": "https://localhost:8080/"
        },
        "outputId": "839ab92b-fe3d-4285-885d-445369ae3421"
      },
      "source": [
        "# Declara e inicializa uma lista de cores\n",
        "cores = ['vermelho', 'azul', 'verde', 'amarelo', 'rosa', 'branco']\n",
        "\n",
        "# Mostra a lista\n",
        "print(cores)\n",
        "\n",
        "# Adicionando no final\n",
        "cores.append('marron')\n",
        "\n",
        "# Mostra a lista\n",
        "print(cores)"
      ],
      "execution_count": 16,
      "outputs": [
        {
          "output_type": "stream",
          "text": [
            "['vermelho', 'azul', 'verde', 'amarelo', 'rosa', 'branco']\n",
            "['vermelho', 'azul', 'verde', 'amarelo', 'rosa', 'branco', 'marron']\n"
          ],
          "name": "stdout"
        }
      ]
    },
    {
      "cell_type": "markdown",
      "metadata": {
        "id": "Z9DHKSrtmrVR"
      },
      "source": [
        "### Inserindo elementos"
      ]
    },
    {
      "cell_type": "code",
      "metadata": {
        "id": "OkUXgF2zmryo",
        "colab": {
          "base_uri": "https://localhost:8080/"
        },
        "outputId": "3edde87a-4852-4bc7-e60a-5115476d2ba9"
      },
      "source": [
        "# Declara e inicializa uma lista de cores\n",
        "cores = ['vermelho', 'azul', 'verde', 'amarelo', 'rosa', 'branco']\n",
        "\n",
        "# Mostra a lista\n",
        "print(cores)\n",
        "\n",
        "# Adicionando na segunda posição(índice=1)\n",
        "cores.insert(1, 'marron')\n",
        "\n",
        "# Mostra a lista\n",
        "print(cores)"
      ],
      "execution_count": 17,
      "outputs": [
        {
          "output_type": "stream",
          "text": [
            "['vermelho', 'azul', 'verde', 'amarelo', 'rosa', 'branco']\n",
            "['vermelho', 'marron', 'azul', 'verde', 'amarelo', 'rosa', 'branco']\n"
          ],
          "name": "stdout"
        }
      ]
    },
    {
      "cell_type": "markdown",
      "metadata": {
        "id": "JTZNNWl49XZf"
      },
      "source": [
        "### Adicionando múltiplos elementos"
      ]
    },
    {
      "cell_type": "code",
      "metadata": {
        "id": "MaCBet729Z7s",
        "colab": {
          "base_uri": "https://localhost:8080/"
        },
        "outputId": "701d8bc3-3543-426d-facc-a0cdfaf4fe76"
      },
      "source": [
        "# Declara e inicializa uma lista de cores\n",
        "cores = ['vermelho', 'azul', 'verde', 'amarelo', 'rosa', 'branco']\n",
        "\n",
        "# Mostra a lista\n",
        "print(cores)\n",
        "\n",
        "# Adicionando na 2 elementos\n",
        "cores.extend(['bege','cinza'])\n",
        "\n",
        "# Mostra a lista\n",
        "print(cores)"
      ],
      "execution_count": 18,
      "outputs": [
        {
          "output_type": "stream",
          "text": [
            "['vermelho', 'azul', 'verde', 'amarelo', 'rosa', 'branco']\n",
            "['vermelho', 'azul', 'verde', 'amarelo', 'rosa', 'branco', 'bege', 'cinza']\n"
          ],
          "name": "stdout"
        }
      ]
    },
    {
      "cell_type": "markdown",
      "metadata": {
        "id": "MHsbWu8Nm7FP"
      },
      "source": [
        "### Alterando elementos"
      ]
    },
    {
      "cell_type": "code",
      "metadata": {
        "id": "HiEcY0Irm9CM",
        "colab": {
          "base_uri": "https://localhost:8080/"
        },
        "outputId": "bde69a80-6ee9-4433-b61b-617d2d72b639"
      },
      "source": [
        "# Declara e inicializa uma lista de cores\n",
        "cores = ['vermelho', 'azul', 'verde', 'amarelo', 'rosa', 'branco']\n",
        "\n",
        "# Mostra a lista\n",
        "print(cores)\n",
        "\n",
        "# Alterando o conteúdo da segunda posição(índice=1)\n",
        "cores[1] = 'marron'\n",
        "\n",
        "# Mostra a lista\n",
        "print(cores)"
      ],
      "execution_count": 19,
      "outputs": [
        {
          "output_type": "stream",
          "text": [
            "['vermelho', 'azul', 'verde', 'amarelo', 'rosa', 'branco']\n",
            "['vermelho', 'marron', 'verde', 'amarelo', 'rosa', 'branco']\n"
          ],
          "name": "stdout"
        }
      ]
    },
    {
      "cell_type": "markdown",
      "metadata": {
        "id": "4QtUxGfIkulC"
      },
      "source": [
        "### Excluindo elementos pela índice\n"
      ]
    },
    {
      "cell_type": "code",
      "metadata": {
        "id": "r0O8ZTAllwLa",
        "colab": {
          "base_uri": "https://localhost:8080/"
        },
        "outputId": "605f424f-075d-4931-86ce-a748426038cd"
      },
      "source": [
        "# Declara e inicializa uma lista de cores\n",
        "cores = ['vermelho', 'azul', 'verde', 'amarelo', 'rosa', 'branco']\n",
        "\n",
        "# Apagando primeiro\n",
        "del cores[0]\n",
        "\n",
        "# Mostra a lista\n",
        "print(cores)\n",
        "\n",
        "# Apagando último\n",
        "del cores[-1]\n",
        "\n",
        "# Mostra a lista\n",
        "print(cores)"
      ],
      "execution_count": 20,
      "outputs": [
        {
          "output_type": "stream",
          "text": [
            "['azul', 'verde', 'amarelo', 'rosa', 'branco']\n",
            "['azul', 'verde', 'amarelo', 'rosa']\n"
          ],
          "name": "stdout"
        }
      ]
    },
    {
      "cell_type": "markdown",
      "metadata": {
        "id": "SRyyiQV199MM"
      },
      "source": [
        "### Excluindo elementos pelo valor"
      ]
    },
    {
      "cell_type": "code",
      "metadata": {
        "id": "sRIBu3xZ99h8",
        "colab": {
          "base_uri": "https://localhost:8080/"
        },
        "outputId": "39ffb76a-8fdb-4dbb-9c4e-f590a3ef7904"
      },
      "source": [
        "# Declara e inicializa uma lista de cores\n",
        "cores = ['vermelho', 'azul', 'verde', 'amarelo', 'rosa', 'branco']\n",
        "\n",
        "# Mostra a lista\n",
        "print(cores)\n",
        "\n",
        "# Apagando o elemento azul\n",
        "cores.remove('azul')\n",
        "\n",
        "# Mostra a lista\n",
        "print(cores)"
      ],
      "execution_count": 21,
      "outputs": [
        {
          "output_type": "stream",
          "text": [
            "['vermelho', 'azul', 'verde', 'amarelo', 'rosa', 'branco']\n",
            "['vermelho', 'verde', 'amarelo', 'rosa', 'branco']\n"
          ],
          "name": "stdout"
        }
      ]
    },
    {
      "cell_type": "markdown",
      "metadata": {
        "id": "TXEVFZgLnaNX"
      },
      "source": [
        "### Excluindo intervalo de elementos"
      ]
    },
    {
      "cell_type": "code",
      "metadata": {
        "id": "XVuE5GTMnclH",
        "colab": {
          "base_uri": "https://localhost:8080/"
        },
        "outputId": "26f37808-495e-457f-a405-015286d6c7e5"
      },
      "source": [
        "# Declara e inicializa uma lista de cores\n",
        "cores = ['vermelho', 'azul', 'verde', 'amarelo', 'rosa', 'branco']\n",
        "\n",
        "# Mostra a lista\n",
        "print(cores)\n",
        "\n",
        "# Apagando os elementos do intervalo de 1(segundo) até 4(quinto)\n",
        "del (cores[1:4])\n",
        "\n",
        "# Mostra a lista\n",
        "print(cores)"
      ],
      "execution_count": 22,
      "outputs": [
        {
          "output_type": "stream",
          "text": [
            "['vermelho', 'azul', 'verde', 'amarelo', 'rosa', 'branco']\n",
            "['vermelho', 'rosa', 'branco']\n"
          ],
          "name": "stdout"
        }
      ]
    },
    {
      "cell_type": "markdown",
      "metadata": {
        "id": "X8nv8tl4nLG1"
      },
      "source": [
        "### Excluindo todos os elementos"
      ]
    },
    {
      "cell_type": "code",
      "metadata": {
        "id": "fdSYfk-NnQHQ",
        "colab": {
          "base_uri": "https://localhost:8080/"
        },
        "outputId": "30a5c897-9369-4e45-b4d4-c9313f812024"
      },
      "source": [
        "# Declara e inicializa uma lista de cores\n",
        "cores = ['vermelho', 'azul', 'verde', 'amarelo', 'rosa', 'branco']\n",
        "\n",
        "# Mostra a lista\n",
        "print(cores)\n",
        "\n",
        "# Apagando todos os elementos\n",
        "cores.clear()\n",
        "\n",
        "# Mostra a lista\n",
        "print(cores)"
      ],
      "execution_count": 23,
      "outputs": [
        {
          "output_type": "stream",
          "text": [
            "['vermelho', 'azul', 'verde', 'amarelo', 'rosa', 'branco']\n",
            "[]\n"
          ],
          "name": "stdout"
        }
      ]
    },
    {
      "cell_type": "markdown",
      "metadata": {
        "id": "QB3leiM6g9BU"
      },
      "source": [
        "### Concatenando os dados de uma lista"
      ]
    },
    {
      "cell_type": "code",
      "metadata": {
        "colab": {
          "base_uri": "https://localhost:8080/"
        },
        "id": "PFK6VIZohDl_",
        "outputId": "dc35d9a5-998d-42a1-fece-791f9e0cffd9"
      },
      "source": [
        "# Declara e inicializa uma lista de cores\n",
        "cores = ['vermelho', 'azul', 'verde']\n",
        "\n",
        "# Mostra a lista\n",
        "print(cores)\n",
        "\n",
        "# Concatena os dados da listas\n",
        "soma = \" \".join(cores)\n",
        "\n",
        "# Mostra a lista\n",
        "print(soma)"
      ],
      "execution_count": 24,
      "outputs": [
        {
          "output_type": "stream",
          "text": [
            "['vermelho', 'azul', 'verde']\n",
            "vermelho azul verde\n"
          ],
          "name": "stdout"
        }
      ]
    },
    {
      "cell_type": "markdown",
      "metadata": {
        "id": "MBhRrcqhZQcZ"
      },
      "source": [
        "### Concatenando duas listas"
      ]
    },
    {
      "cell_type": "code",
      "metadata": {
        "id": "mzXpt4p2ZQca",
        "colab": {
          "base_uri": "https://localhost:8080/"
        },
        "outputId": "ff8ba948-ac18-4caf-9d49-aab12043f363"
      },
      "source": [
        "# Declara e inicializa uma lista de cores\n",
        "cores1 = ['vermelho', 'azul', 'verde']\n",
        "cores2 = ['amarelo', 'rosa', 'branco']\n",
        "\n",
        "# Mostra as listas\n",
        "print(cores1)\n",
        "print(cores2)\n",
        "\n",
        "# Concatena as duas listas\n",
        "soma = cores1 + cores2\n",
        "\n",
        "# Mostra a lista\n",
        "print(soma)"
      ],
      "execution_count": 25,
      "outputs": [
        {
          "output_type": "stream",
          "text": [
            "['vermelho', 'azul', 'verde']\n",
            "['amarelo', 'rosa', 'branco']\n",
            "['vermelho', 'azul', 'verde', 'amarelo', 'rosa', 'branco']\n"
          ],
          "name": "stdout"
        }
      ]
    },
    {
      "cell_type": "markdown",
      "metadata": {
        "id": "OTKzy2EOb5tw"
      },
      "source": [
        "### Ordenando listas de números(sort)"
      ]
    },
    {
      "cell_type": "code",
      "metadata": {
        "id": "eewTzk0Xb58D",
        "colab": {
          "base_uri": "https://localhost:8080/"
        },
        "outputId": "236ac9fa-b02f-4456-ad53-3cf18937bd8a"
      },
      "source": [
        "# Declara e inicializa uma lista de números\n",
        "lista = [50, 40, 30, 20, 10]\n",
        "\n",
        "# Mostra a lista\n",
        "print(lista)\n",
        "\n",
        "#ordena a lista\n",
        "lista.sort()\n",
        "\n",
        "# Mostra a lista\n",
        "print(lista)"
      ],
      "execution_count": 26,
      "outputs": [
        {
          "output_type": "stream",
          "text": [
            "[50, 40, 30, 20, 10]\n",
            "[10, 20, 30, 40, 50]\n"
          ],
          "name": "stdout"
        }
      ]
    },
    {
      "cell_type": "markdown",
      "metadata": {
        "id": "BFb7QnQ9Du1b"
      },
      "source": [
        "### Ordenando listas de números(sorted)"
      ]
    },
    {
      "cell_type": "code",
      "metadata": {
        "colab": {
          "base_uri": "https://localhost:8080/"
        },
        "id": "TUG1y7JmDu1b",
        "outputId": "7c9799d5-83c0-4c5b-82db-c40efb2a9014"
      },
      "source": [
        "# Declara e inicializa uma lista de números\n",
        "lista = [50, 40, 30, 20, 10]\n",
        "\n",
        "# Mostra a lista\n",
        "print(lista)\n",
        "\n",
        "#ordena a lista\n",
        "listaOrdenada = sorted(lista)\n",
        "\n",
        "# Mostra a lista ordenada\n",
        "print(listaOrdenada)"
      ],
      "execution_count": 27,
      "outputs": [
        {
          "output_type": "stream",
          "text": [
            "[50, 40, 30, 20, 10]\n",
            "[10, 20, 30, 40, 50]\n"
          ],
          "name": "stdout"
        }
      ]
    },
    {
      "cell_type": "markdown",
      "metadata": {
        "id": "Zu4gSAyzcPlB"
      },
      "source": [
        "### Ordenando listas de literais (sort)"
      ]
    },
    {
      "cell_type": "code",
      "metadata": {
        "id": "fH6BPGBqcPlB",
        "colab": {
          "base_uri": "https://localhost:8080/"
        },
        "outputId": "7f60d753-34d5-4ab3-a7d0-92855728a25b"
      },
      "source": [
        "# Declara e inicializa uma lista de literais\n",
        "lista = ['cinquenta', 'quarenta', 'trinta', 'vinta', 'dez']\n",
        "\n",
        "# Mostra a lista\n",
        "print(lista)\n",
        "\n",
        "#ordena a lista\n",
        "lista.sort()\n",
        "\n",
        "# Mostra a lista\n",
        "print(lista)"
      ],
      "execution_count": 28,
      "outputs": [
        {
          "output_type": "stream",
          "text": [
            "['cinquenta', 'quarenta', 'trinta', 'vinta', 'dez']\n",
            "['cinquenta', 'dez', 'quarenta', 'trinta', 'vinta']\n"
          ],
          "name": "stdout"
        }
      ]
    },
    {
      "cell_type": "markdown",
      "metadata": {
        "id": "5o1MsVkIDhdE"
      },
      "source": [
        "### Ordenando listas de literais (sorted)"
      ]
    },
    {
      "cell_type": "code",
      "metadata": {
        "colab": {
          "base_uri": "https://localhost:8080/"
        },
        "id": "HALsAB0-DhdF",
        "outputId": "e30c8b38-c386-4bd0-8ce1-21dc4508fb2b"
      },
      "source": [
        "# Declara e inicializa uma lista de literais\n",
        "lista = ['cinquenta', 'quarenta', 'trinta', 'vinta', 'dez']\n",
        "\n",
        "# Mostra a lista\n",
        "print(lista)\n",
        "\n",
        "#ordena a lista\n",
        "listaOrdenada = sorted(lista)\n",
        "\n",
        "# Mostra a lista ordenada\n",
        "print(listaOrdenada)"
      ],
      "execution_count": 29,
      "outputs": [
        {
          "output_type": "stream",
          "text": [
            "['cinquenta', 'quarenta', 'trinta', 'vinta', 'dez']\n",
            "['cinquenta', 'dez', 'quarenta', 'trinta', 'vinta']\n"
          ],
          "name": "stdout"
        }
      ]
    },
    {
      "cell_type": "markdown",
      "metadata": {
        "id": "QFJLexjRdMVy"
      },
      "source": [
        "### Procurando valores nas listas"
      ]
    },
    {
      "cell_type": "code",
      "metadata": {
        "id": "6dNlQ3OSdMVz",
        "colab": {
          "base_uri": "https://localhost:8080/"
        },
        "outputId": "7423c3d4-07b1-4a21-da84-59fc54081394"
      },
      "source": [
        "# Declara e inicializa uma lista de números\n",
        "lista = [10, 20, 30, 40, 50]\n",
        "\n",
        "# Mostra a lista\n",
        "print(lista)\n",
        "\n",
        "# Verifica a existência de 10 na lista\n",
        "print(10 in lista)\n",
        "\n",
        "# Verifica a existência de 20 na lista\n",
        "if (20 in lista):\n",
        "  print(\"20 existe na lista\")"
      ],
      "execution_count": 30,
      "outputs": [
        {
          "output_type": "stream",
          "text": [
            "[10, 20, 30, 40, 50]\n",
            "True\n",
            "20 existe na lista\n"
          ],
          "name": "stdout"
        }
      ]
    },
    {
      "cell_type": "markdown",
      "metadata": {
        "id": "IPU46C_Dd1QP"
      },
      "source": [
        "### Criando lista com determinados valores"
      ]
    },
    {
      "cell_type": "code",
      "metadata": {
        "id": "oK7nObo9d1QQ",
        "colab": {
          "base_uri": "https://localhost:8080/"
        },
        "outputId": "904aa6fb-0cfa-4d5c-eea8-1849b999021b"
      },
      "source": [
        "# Declara e inicializa uma lista de números\n",
        "lista = [1, 2, 3, 4, 5]\n",
        "\n",
        "# Mostra a lista\n",
        "print(lista)\n",
        "\n",
        "# Cria uma outra lista com os números pares\n",
        "lista_par = [elemento for elemento in lista if elemento % 2 == 0]\n",
        "\n",
        "# Mostra a lista par\n",
        "print(lista_par)\n"
      ],
      "execution_count": 31,
      "outputs": [
        {
          "output_type": "stream",
          "text": [
            "[1, 2, 3, 4, 5]\n",
            "[2, 4]\n"
          ],
          "name": "stdout"
        }
      ]
    },
    {
      "cell_type": "markdown",
      "metadata": {
        "id": "VzBkqboX6FuR"
      },
      "source": [
        "### Criando cópias de listas"
      ]
    },
    {
      "cell_type": "code",
      "metadata": {
        "id": "uuvkEn2t6FuU",
        "colab": {
          "base_uri": "https://localhost:8080/"
        },
        "outputId": "0f254b9d-51e6-4165-c53a-79efa3eab729"
      },
      "source": [
        "# Declara e inicializa uma lista de números\n",
        "lista1 = [1, 2, 3, 4, 5]\n",
        "\n",
        "# Mostra a lista\n",
        "print(\"Lista1 antes da cópia com '=' :\\n\",lista1)\n",
        "\n",
        "# A cópia com \"=\" cria uma referência para lista1 em lista2\n",
        "lista2 = lista1\n",
        "\n",
        "# Apagando primeiro da lista1 é a mesma coisa que apagar da lista2\n",
        "del lista1[0]\n",
        "\n",
        "# Mostra a lista1\n",
        "print(\"Lista1:\\n\",lista1)\n",
        "\n",
        "# Mostra a lista2\n",
        "print(\"Lista2:\\n\",lista2)\n",
        "\n",
        "#======================================================\n",
        "# Declara e inicializa uma lista de números\n",
        "lista1 = [1, 2, 3, 4, 5]\n",
        "\n",
        "# Mostra a lista\n",
        "print(\"Lista1 antes da cópia com 'copy()' :\\n\",lista1)\n",
        "\n",
        "# Para copiar uma lista é necessário utilizar o método copy\n",
        "lista2 = lista1.copy()\n",
        "\n",
        "# Apagando primeiro da lista1 \n",
        "del lista1[0]\n",
        "\n",
        "# Mostra a lista1\n",
        "print(\"Lista1:\\n\",lista1)\n",
        "\n",
        "# Mostra a lista2\n",
        "print(\"Lista2:\\n\",lista2)"
      ],
      "execution_count": 32,
      "outputs": [
        {
          "output_type": "stream",
          "text": [
            "Lista1 antes da cópia com '=' :\n",
            " [1, 2, 3, 4, 5]\n",
            "Lista1:\n",
            " [2, 3, 4, 5]\n",
            "Lista2:\n",
            " [2, 3, 4, 5]\n",
            "Lista1 antes da cópia com 'copy()' :\n",
            " [1, 2, 3, 4, 5]\n",
            "Lista1:\n",
            " [2, 3, 4, 5]\n",
            "Lista2:\n",
            " [1, 2, 3, 4, 5]\n"
          ],
          "name": "stdout"
        }
      ]
    },
    {
      "cell_type": "markdown",
      "metadata": {
        "id": "Uo7TghpB_itL"
      },
      "source": [
        "### Criando lista preenchida com números\n",
        "\n",
        "0 - início do intervalo\n",
        "10 - final do intervalo"
      ]
    },
    {
      "cell_type": "code",
      "metadata": {
        "colab": {
          "base_uri": "https://localhost:8080/"
        },
        "id": "NgoS0PEH_itM",
        "outputId": "d5d6fe73-a9db-49d5-fd74-127a7d0b940f"
      },
      "source": [
        "# Declara e inicializa uma lista de números\n",
        "lista1 = list(range(0, 10))\n",
        "\n",
        "# Mostra a lista1\n",
        "print(\"Lista1:\\n\",lista1)"
      ],
      "execution_count": 33,
      "outputs": [
        {
          "output_type": "stream",
          "text": [
            "Lista1:\n",
            " [0, 1, 2, 3, 4, 5, 6, 7, 8, 9]\n"
          ],
          "name": "stdout"
        }
      ]
    },
    {
      "cell_type": "markdown",
      "metadata": {
        "id": "pummAH-dM1c7"
      },
      "source": [
        "### Gerando as permutações de uma lista de inteiros\n",
        "\n"
      ]
    },
    {
      "cell_type": "code",
      "metadata": {
        "colab": {
          "base_uri": "https://localhost:8080/"
        },
        "id": "QV5i_8N2M1dG",
        "outputId": "90456ccd-3e0b-4a4d-936a-ab165f500644"
      },
      "source": [
        "# Biblioteca para gerar as permutações\n",
        "import itertools\n",
        "\n",
        "# Declara e inicializa uma lista de números\n",
        "lista1 = [1,2,3]\n",
        "\n",
        "# Retorna uma lista com as permutações da lista1\n",
        "permutacao = list(itertools.permutations(lista1))\n",
        "\n",
        "# Mostra a lista1\n",
        "print(\"Lista1:\\n\",lista1)\n",
        "\n",
        "# Mostra a permutacao\n",
        "print(\"Permutacao:\\n\",permutacao)"
      ],
      "execution_count": 34,
      "outputs": [
        {
          "output_type": "stream",
          "text": [
            "Lista1:\n",
            " [1, 2, 3]\n",
            "Permutacao:\n",
            " [(1, 2, 3), (1, 3, 2), (2, 1, 3), (2, 3, 1), (3, 1, 2), (3, 2, 1)]\n"
          ],
          "name": "stdout"
        }
      ]
    },
    {
      "cell_type": "markdown",
      "metadata": {
        "id": "N0R-kd5hNa7A"
      },
      "source": [
        "### Gerando as permutações de uma lista de strings\n",
        "\n"
      ]
    },
    {
      "cell_type": "code",
      "metadata": {
        "colab": {
          "base_uri": "https://localhost:8080/"
        },
        "id": "PU0IAjixNa7A",
        "outputId": "b0808231-1399-46ff-af74-38cbd6e71149"
      },
      "source": [
        "# Biblioteca para gerar as permutações\n",
        "import itertools\n",
        "\n",
        "# Declara e inicializa uma lista de strings\n",
        "lista1 = ['uva','laranja','banana']\n",
        "\n",
        "# Retorna uma lista com as permutações da lista1\n",
        "permutacao = list(itertools.permutations(lista1))\n",
        "\n",
        "# Mostra a lista1\n",
        "print(\"Lista1:\\n\",lista1)\n",
        "\n",
        "# Mostra a permutacao\n",
        "print(\"Permutacao:\\n\",permutacao)"
      ],
      "execution_count": 35,
      "outputs": [
        {
          "output_type": "stream",
          "text": [
            "Lista1:\n",
            " ['uva', 'laranja', 'banana']\n",
            "Permutacao:\n",
            " [('uva', 'laranja', 'banana'), ('uva', 'banana', 'laranja'), ('laranja', 'uva', 'banana'), ('laranja', 'banana', 'uva'), ('banana', 'uva', 'laranja'), ('banana', 'laranja', 'uva')]\n"
          ],
          "name": "stdout"
        }
      ]
    },
    {
      "cell_type": "markdown",
      "metadata": {
        "id": "yETUcyIrjOKf"
      },
      "source": [
        "### Gerando as permutações de uma lista de strings com função"
      ]
    },
    {
      "cell_type": "code",
      "metadata": {
        "colab": {
          "base_uri": "https://localhost:8080/"
        },
        "id": "tqOyIUXhjZwN",
        "outputId": "301a246a-0bbb-48a5-e663-edb7696554b6"
      },
      "source": [
        "# Biblioteca para gerar números aleatórios\n",
        "import random\n",
        "import math\n",
        "\n",
        "def geraPermutacao(lista):\n",
        "    # Conjunto para tratar as repetições\n",
        "    conjunto = set()\n",
        "    # Tamanho da lista\n",
        "    tamanhoLista = len(lista)\n",
        "    # Adiciona o conjunto inicial \n",
        "    inicio = tuple(lista)\n",
        "    while True:\n",
        "        # Gera uma permutação aleatória da lista\n",
        "        permutado = tuple(random.sample(lista, tamanhoLista))\n",
        "        # Permutado diferente de qualquer elemento do conjunto ou da lista\n",
        "        if permutado not in conjunto and permutado != inicio:\n",
        "            # Adiciona no conjunto\n",
        "            conjunto.add(permutado)         \n",
        "            yield permutado\n",
        "\n",
        "def geradorPermutacao(lista, qtde):\n",
        "    # Lista para retornar as permutações\n",
        "    listaR = []\n",
        "    # Verifica a quantidade de permutações possíveis\n",
        "    if qtde <= math.factorial(len(lista)):\n",
        "      # Gera as permutações    \n",
        "      listaP = geraPermutacao(lista)\n",
        "      # Seleciona qtde-1 permutações\n",
        "      listaP = [next(listaP) for _ in range(qtde-1)]\n",
        "      # Converte em uma lista de lista, pois é uma lista de tuplas\n",
        "      listaR = [list(x) for x in listaP]\n",
        "      # Adiciona o primeiro elemento na lista\n",
        "      listaR.insert(0,lista)\n",
        "    else:\n",
        "      print(\"A quantidade de permutações deve ser menor ou igual ao fatorial do tamanho da lista\")\n",
        "    return listaR\n",
        "\n",
        "# Declara e inicializa uma lista de strings\n",
        "lista1 = ['uva','laranja','banana']\n",
        "\n",
        "# Retorna uma lista com as permutações da lista1\n",
        "permutacao = geradorPermutacao(lista1,6)\n",
        "\n",
        "# Mostra a lista1\n",
        "print(\"Lista1:\\n\",lista1)\n",
        "\n",
        "# Mostra a permutacao\n",
        "print(\"Permutacao:\\n\",permutacao)"
      ],
      "execution_count": 36,
      "outputs": [
        {
          "output_type": "stream",
          "text": [
            "Lista1:\n",
            " ['uva', 'laranja', 'banana']\n",
            "Permutacao:\n",
            " [['uva', 'laranja', 'banana'], ['banana', 'laranja', 'uva'], ['laranja', 'banana', 'uva'], ['uva', 'banana', 'laranja'], ['banana', 'uva', 'laranja'], ['laranja', 'uva', 'banana']]\n"
          ],
          "name": "stdout"
        }
      ]
    },
    {
      "cell_type": "code",
      "metadata": {
        "id": "6Jz_7q8GmBqi"
      },
      "source": [
        ""
      ],
      "execution_count": 36,
      "outputs": []
    },
    {
      "cell_type": "markdown",
      "metadata": {
        "id": "0IIpfGj-T5jF"
      },
      "source": [
        "Encontrando uma sublista em uma lista"
      ]
    },
    {
      "cell_type": "code",
      "metadata": {
        "id": "eZKAgdjgT5wP"
      },
      "source": [
        "# Localiza os índices de início e fim de uma sublista em uma lista\n",
        "def encontrarIndiceSubLista(lista, sublista):\n",
        "    # https://en.wikipedia.org/wiki/Boyer%E2%80%93Moore%E2%80%93Horspool_algorithm\n",
        "    h = len(lista)\n",
        "    n = len(sublista)\n",
        "    skip = {sublista[i]: n - i - 1 for i in range(n - 1)}\n",
        "    i = n - 1\n",
        "    while i < h:\n",
        "        for j in range(n):\n",
        "            if lista[i - j] != sublista[-j - 1]:\n",
        "                i += skip.get(lista[i], n)\n",
        "                break\n",
        "        else:\n",
        "            indiceInicio = i - n + 1\n",
        "            indiceFim = indiceInicio + len(sublista)-1\n",
        "            return indiceInicio, indiceFim\n",
        "    return -1, -1"
      ],
      "execution_count": 37,
      "outputs": []
    },
    {
      "cell_type": "markdown",
      "metadata": {
        "id": "h-tCU1iqlfMP"
      },
      "source": [
        "## Frequência de elementos em uma lista"
      ]
    },
    {
      "cell_type": "code",
      "metadata": {
        "colab": {
          "base_uri": "https://localhost:8080/"
        },
        "id": "0f6mJbqelfVW",
        "outputId": "1b1f8807-ce2e-43e4-fba7-967411740555"
      },
      "source": [
        "# Biblioteca para gerar a frequência\n",
        "import collections\n",
        "\n",
        "# Lista dos dados\n",
        "lista = [1,1,1,1,2,2,2,3,3,3]\n",
        "\n",
        "# Recupera a frequência da lista retornando um dicionario\n",
        "contador = collections.Counter(lista)\n",
        "print(contador)\n",
        "\n",
        "# Lista os valores e a frequência\n",
        "for chave, valor in contador.items():\n",
        "  print(\"chave=\",chave,\" valor=\", valor)"
      ],
      "execution_count": 38,
      "outputs": [
        {
          "output_type": "stream",
          "text": [
            "Counter({1: 4, 2: 3, 3: 3})\n",
            "chave= 1  valor= 4\n",
            "chave= 2  valor= 3\n",
            "chave= 3  valor= 3\n"
          ],
          "name": "stdout"
        }
      ]
    },
    {
      "cell_type": "markdown",
      "metadata": {
        "id": "wGYnCtY1kp3j"
      },
      "source": [
        "## Lista de lista"
      ]
    },
    {
      "cell_type": "markdown",
      "metadata": {
        "id": "gecruyNzkv-t"
      },
      "source": [
        "### Declarando e listando"
      ]
    },
    {
      "cell_type": "code",
      "metadata": {
        "id": "aFGwLBdokzoc",
        "colab": {
          "base_uri": "https://localhost:8080/"
        },
        "outputId": "c9dc1808-8463-46a4-a150-f488ca57b60d"
      },
      "source": [
        "# Declaração\n",
        "lista = [[1,'joão'],[2,'maria'],[3,'pedro'],[4,'josé']]\n",
        "\n",
        "# Tamanho da lista\n",
        "print('Tamanho da lista:', len(lista))\n",
        "\n",
        "# Mostrando a lista\n",
        "for linha1 in lista:\n",
        "   print(linha1[0], linha1[1])\n",
        "   for linha2 in linha1:\n",
        "      print(\"   \", linha2)"
      ],
      "execution_count": 39,
      "outputs": [
        {
          "output_type": "stream",
          "text": [
            "Tamanho da lista: 4\n",
            "1 joão\n",
            "    1\n",
            "    joão\n",
            "2 maria\n",
            "    2\n",
            "    maria\n",
            "3 pedro\n",
            "    3\n",
            "    pedro\n",
            "4 josé\n",
            "    4\n",
            "    josé\n"
          ],
          "name": "stdout"
        }
      ]
    },
    {
      "cell_type": "markdown",
      "metadata": {
        "id": "-gu3kOqmlVeP"
      },
      "source": [
        "### Criando listas condicionadas\n",
        "\n",
        "Cria uma lista nova com as condições especificadas"
      ]
    },
    {
      "cell_type": "code",
      "metadata": {
        "id": "fu2ONDiulQtQ",
        "colab": {
          "base_uri": "https://localhost:8080/"
        },
        "outputId": "b19e9e26-bf7a-4dcc-afe6-a19cb7e45add"
      },
      "source": [
        "# Declaração\n",
        "lista = [[1,'joão'],[2,'maria'],[3,'pedro'],[4,'josé']]\n",
        "\n",
        "# Tamanho da lista\n",
        "print('Tamanho da lista:', len(lista))\n",
        "\n",
        "# Cria uma lista dos valores com a posição 0 maior que 2\n",
        "lista_nova = [linha for linha in lista if linha[0] > 2]\n",
        "\n",
        "# Tamanho da lista nova\n",
        "print('Tamanho da lista nova:', len(lista_nova))\n",
        "\n",
        "# Mostrando a lista nova\n",
        "for linha in lista_nova:\n",
        "   print(linha[0], linha[1])"
      ],
      "execution_count": 40,
      "outputs": [
        {
          "output_type": "stream",
          "text": [
            "Tamanho da lista: 4\n",
            "Tamanho da lista nova: 2\n",
            "3 pedro\n",
            "4 josé\n"
          ],
          "name": "stdout"
        }
      ]
    },
    {
      "cell_type": "markdown",
      "metadata": {
        "id": "FEkyfiGil7j1"
      },
      "source": [
        "### Criando listas de elementos\n",
        "\n",
        "Cria uma lista com os elementos que atendem  as condições especificadas"
      ]
    },
    {
      "cell_type": "code",
      "metadata": {
        "id": "VdT8yqizl7j3",
        "colab": {
          "base_uri": "https://localhost:8080/"
        },
        "outputId": "0cdc7d0b-b37d-4562-e4f8-e2bca838e895"
      },
      "source": [
        "# Declaração\n",
        "lista = [[1,'joão'],[2,'maria'],[3,'pedro'],[4,'josé']]\n",
        "\n",
        "# Tamanho da lista\n",
        "print('Tamanho da lista:', len(lista))\n",
        "\n",
        "# Cria uma lista dos valores de linha[0] com a posição 0 maior que 2\n",
        "lista_nova = [linha[0] for linha in lista if linha[0] > 2]\n",
        "\n",
        "# Tamanho da lista nova com linha[0]\n",
        "print('Tamanho da lista nova(linha[0]):', len(lista_nova))\n",
        "\n",
        "# Mostrando a lista nova\n",
        "print(lista_nova)"
      ],
      "execution_count": 41,
      "outputs": [
        {
          "output_type": "stream",
          "text": [
            "Tamanho da lista: 4\n",
            "Tamanho da lista nova(linha[0]): 2\n",
            "[3, 4]\n"
          ],
          "name": "stdout"
        }
      ]
    },
    {
      "cell_type": "markdown",
      "metadata": {
        "id": "TahJABonrLty"
      },
      "source": [
        "### Criando lista de elementos\n",
        "Cria uma lista com os elementos que atendem  as condições especificadas"
      ]
    },
    {
      "cell_type": "code",
      "metadata": {
        "id": "KKlYBLSOrLt0",
        "colab": {
          "base_uri": "https://localhost:8080/"
        },
        "outputId": "a7662d58-1ccc-45f9-e68b-9e0cc79f0bbc"
      },
      "source": [
        "# Declaração\n",
        "lista = [[1,'joão'],[2,'maria'],[3,'pedro'],[4,'josé']]\n",
        "\n",
        "# Tamanho da lista\n",
        "print('Tamanho da lista:', len(lista))\n",
        "\n",
        "# Cria uma lista dos valores de linha[0] com a posição 0 maior que 2\n",
        "lista_nova = [linha[0] for linha in lista if linha[0] > 2]\n",
        "\n",
        "# Cria a lista com os valores que estão no conjunto anterior\n",
        "lista = [linha for linha in lista if linha[0] in lista_nova]\n",
        "\n",
        "# Tamanho da lista nova\n",
        "print('Tamanho da lista nova:', len(lista_nova))\n",
        "\n",
        "# Mostrando a lista nova\n",
        "print(lista_nova)\n",
        "\n",
        "# Mostra a lista\n",
        "print(lista)"
      ],
      "execution_count": 42,
      "outputs": [
        {
          "output_type": "stream",
          "text": [
            "Tamanho da lista: 4\n",
            "Tamanho da lista nova: 2\n",
            "[3, 4]\n",
            "[[3, 'pedro'], [4, 'josé']]\n"
          ],
          "name": "stdout"
        }
      ]
    },
    {
      "cell_type": "markdown",
      "metadata": {
        "id": "gsxfvsSUf7Ud"
      },
      "source": [
        "## Convertendo listas sem dataFrames\n",
        "\n",
        "Converte uma lista de dados em um pandas dataFrame."
      ]
    },
    {
      "cell_type": "code",
      "metadata": {
        "id": "x14TDRvBgANW",
        "colab": {
          "base_uri": "https://localhost:8080/",
          "height": 315
        },
        "outputId": "06d6c5a7-b1d9-4cb4-e4ab-fe5b3ed01cac"
      },
      "source": [
        "# Biblioteca de processamento de dados, I/O em arquivo csv (ex. pd.DataFrame.from_records)\n",
        "import pandas as pd\n",
        "\n",
        "# Lista com os dados\n",
        "lista = [[1,'joão'],[2,'maria'],[3,'pedro'],[4,'josé']]\n",
        "\n",
        "# Mostrando a lista\n",
        "for linha in lista:\n",
        "   print(linha[0], linha[1])\n",
        "\n",
        "print(\"\\n Depois da conversão\\n\")\n",
        "\n",
        "# Converte a lista de lista em um dataframe\n",
        "df = pd.DataFrame.from_records(lista, columns=[\"id\", \"nome\"])\n",
        "\n",
        "# Mostra os dados\n",
        "print(df)\n",
        "\n",
        "# Mostra 2 dados aleatórios\n",
        "df.sample(2)"
      ],
      "execution_count": 43,
      "outputs": [
        {
          "output_type": "stream",
          "text": [
            "1 joão\n",
            "2 maria\n",
            "3 pedro\n",
            "4 josé\n",
            "\n",
            " Depois da conversão\n",
            "\n",
            "   id   nome\n",
            "0   1   joão\n",
            "1   2  maria\n",
            "2   3  pedro\n",
            "3   4   josé\n"
          ],
          "name": "stdout"
        },
        {
          "output_type": "execute_result",
          "data": {
            "text/html": [
              "<div>\n",
              "<style scoped>\n",
              "    .dataframe tbody tr th:only-of-type {\n",
              "        vertical-align: middle;\n",
              "    }\n",
              "\n",
              "    .dataframe tbody tr th {\n",
              "        vertical-align: top;\n",
              "    }\n",
              "\n",
              "    .dataframe thead th {\n",
              "        text-align: right;\n",
              "    }\n",
              "</style>\n",
              "<table border=\"1\" class=\"dataframe\">\n",
              "  <thead>\n",
              "    <tr style=\"text-align: right;\">\n",
              "      <th></th>\n",
              "      <th>id</th>\n",
              "      <th>nome</th>\n",
              "    </tr>\n",
              "  </thead>\n",
              "  <tbody>\n",
              "    <tr>\n",
              "      <th>1</th>\n",
              "      <td>2</td>\n",
              "      <td>maria</td>\n",
              "    </tr>\n",
              "    <tr>\n",
              "      <th>3</th>\n",
              "      <td>4</td>\n",
              "      <td>josé</td>\n",
              "    </tr>\n",
              "  </tbody>\n",
              "</table>\n",
              "</div>"
            ],
            "text/plain": [
              "   id   nome\n",
              "1   2  maria\n",
              "3   4   josé"
            ]
          },
          "metadata": {
            "tags": []
          },
          "execution_count": 43
        }
      ]
    },
    {
      "cell_type": "markdown",
      "metadata": {
        "id": "uLE3MLcXGhQ9"
      },
      "source": [
        "# Enumerações/Enumerate\n",
        "\n",
        "É uma função que atribui um índice a cada item em um objeto iterável(e.g. list) que pode ser usado para fazer referência ao item posteriormente. \n",
        "\n",
        "https://www.w3schools.com/python/ref_func_enumerate.asp"
      ]
    },
    {
      "cell_type": "markdown",
      "metadata": {
        "id": "zOjloyYSG2lQ"
      },
      "source": [
        "## Declaração 1"
      ]
    },
    {
      "cell_type": "code",
      "metadata": {
        "id": "sKW9oQLoGjhs",
        "colab": {
          "base_uri": "https://localhost:8080/"
        },
        "outputId": "6336c670-722a-44c6-a7bb-f4309d58aa9d"
      },
      "source": [
        "# Declara e inicializa uma lista de cores\n",
        "cores = ['vermelho', 'azul', 'verde', 'amarelo', 'rosa', 'branco']\n",
        "\n",
        "# Mostra a enumeração e suas chaves\n",
        "list(enumerate(cores))"
      ],
      "execution_count": 44,
      "outputs": [
        {
          "output_type": "execute_result",
          "data": {
            "text/plain": [
              "[(0, 'vermelho'),\n",
              " (1, 'azul'),\n",
              " (2, 'verde'),\n",
              " (3, 'amarelo'),\n",
              " (4, 'rosa'),\n",
              " (5, 'branco')]"
            ]
          },
          "metadata": {
            "tags": []
          },
          "execution_count": 44
        }
      ]
    },
    {
      "cell_type": "markdown",
      "metadata": {
        "id": "lamTvwbCG5Rh"
      },
      "source": [
        "##Decleração 2"
      ]
    },
    {
      "cell_type": "code",
      "metadata": {
        "id": "BxsfH0h5HB04",
        "colab": {
          "base_uri": "https://localhost:8080/"
        },
        "outputId": "7f466ddd-6897-4715-874a-6819588ed4e1"
      },
      "source": [
        "# Declara e inicializa uma lista de cores\n",
        "cores = ['vermelho', 'azul', 'verde', 'amarelo', 'rosa', 'branco']\n",
        "\n",
        "# Mostra a enumeração e suas chaves\n",
        "for (index, item) in enumerate(cores):\n",
        "    print (index, item)"
      ],
      "execution_count": 45,
      "outputs": [
        {
          "output_type": "stream",
          "text": [
            "0 vermelho\n",
            "1 azul\n",
            "2 verde\n",
            "3 amarelo\n",
            "4 rosa\n",
            "5 branco\n"
          ],
          "name": "stdout"
        }
      ]
    },
    {
      "cell_type": "markdown",
      "metadata": {
        "id": "P8LmNS8E0WvA"
      },
      "source": [
        "# Tupla/Tuple"
      ]
    },
    {
      "cell_type": "markdown",
      "metadata": {
        "id": "QdUHj8lA0Yz-"
      },
      "source": [
        "Uma tupla é uma estrutura bastante similar a uma lista, com apenas uma diferença: os elementos inseridos em uma tupla não podem ser alterados, diferente de uma lista onde podem ser alterados livremente. \n",
        "\n",
        "As tuplas possuem algumas vantagens com relação às listas, que são:\n",
        "\n",
        "* Como as tuplas são imutáveis, a iteração sobre elas é mais rápida e, consequentemente, possuem um ganho de desempenho com relação às listas;\n",
        "* Tuplas podem ser utilizadas como chave para um dicionário, já que seus elementos são imutáveis. Já com a lista, isso não é possível;\n",
        "* Se for necessário armazenar dados que não serão alterados, utilize uma tupla. Isso garantirá que esses sejam protegidos de alterações posteriores"
      ]
    },
    {
      "cell_type": "markdown",
      "metadata": {
        "id": "2-pHJRqf1URh"
      },
      "source": [
        "## Declaração tupla homogênea\n",
        "\n",
        "Utiliza parênteses ou invés de colchetes(listas) para declarar"
      ]
    },
    {
      "cell_type": "code",
      "metadata": {
        "id": "NzeeNyx70kWw",
        "colab": {
          "base_uri": "https://localhost:8080/"
        },
        "outputId": "51c48215-3fd6-40b9-9a7d-91911f72a27a"
      },
      "source": [
        "# Declaração de tupla de inteiros homogênea\n",
        "tupla1 = (1, 2, 3) \n",
        "print(tupla1)\n",
        "\n",
        "# Mostra o tipo da tupla1\n",
        "print(type(tupla1))"
      ],
      "execution_count": 46,
      "outputs": [
        {
          "output_type": "stream",
          "text": [
            "(1, 2, 3)\n",
            "<class 'tuple'>\n"
          ],
          "name": "stdout"
        }
      ]
    },
    {
      "cell_type": "markdown",
      "metadata": {
        "id": "fPU8dq8TdKAl"
      },
      "source": [
        "## Declaração tupla heterogênea"
      ]
    },
    {
      "cell_type": "code",
      "metadata": {
        "id": "HM3_r3hkdKYc",
        "colab": {
          "base_uri": "https://localhost:8080/"
        },
        "outputId": "c3e096e4-6dbf-4a01-c61b-f0a699e8111b"
      },
      "source": [
        "# Declaração de tupla heterogênea\n",
        "tupla = (1, \"joao\", 3.14) \n",
        "print(tupla)\n",
        "\n",
        "# Mostra o tipo da tupla2\n",
        "print(type(tupla))"
      ],
      "execution_count": 47,
      "outputs": [
        {
          "output_type": "stream",
          "text": [
            "(1, 'joao', 3.14)\n",
            "<class 'tuple'>\n"
          ],
          "name": "stdout"
        }
      ]
    },
    {
      "cell_type": "markdown",
      "metadata": {
        "id": "p6shuEqrdS7w"
      },
      "source": [
        "## Declaração tupla sem parênteses\n",
        "\n",
        "Tuplas podem ser declaradas sem parênteses"
      ]
    },
    {
      "cell_type": "code",
      "metadata": {
        "id": "zzggf1sXdTHl",
        "colab": {
          "base_uri": "https://localhost:8080/"
        },
        "outputId": "164d3998-e676-4ed7-95d2-666d75f95127"
      },
      "source": [
        "# Declaração de tupla de inteiros homogênea\n",
        "tupla = 1, 2, 3 \n",
        "print(tupla)\n",
        "\n",
        "# Mostra o tipo da tupla1\n",
        "print(type(tupla))"
      ],
      "execution_count": 48,
      "outputs": [
        {
          "output_type": "stream",
          "text": [
            "(1, 2, 3)\n",
            "<class 'tuple'>\n"
          ],
          "name": "stdout"
        }
      ]
    },
    {
      "cell_type": "markdown",
      "metadata": {
        "id": "B6Pf8GDddiai"
      },
      "source": [
        "### Declaração tuple()\n",
        "\n",
        "Podemos usar uma função tuple() para criar uma tupla passando um tipo que pode ser iterável como uma string ou uma lista:"
      ]
    },
    {
      "cell_type": "code",
      "metadata": {
        "id": "cvRCw1rGdlv7",
        "colab": {
          "base_uri": "https://localhost:8080/"
        },
        "outputId": "5f2489c3-9870-430a-bc2d-5f1845be1a2a"
      },
      "source": [
        "# Declaração de lista de inteiros\n",
        "lista = [1, 2, 3]\n",
        "print(lista)\n",
        "# Mostra o tipo da lista\n",
        "print(type(lista))\n",
        "\n",
        "# Declaração de tupla de inteiros homogênea\n",
        "tupla = tuple(lista)\n",
        "print(tupla)\n",
        "# Mostra o tipo da lista\n",
        "print(type(tupla))"
      ],
      "execution_count": 49,
      "outputs": [
        {
          "output_type": "stream",
          "text": [
            "[1, 2, 3]\n",
            "<class 'list'>\n",
            "(1, 2, 3)\n",
            "<class 'tuple'>\n"
          ],
          "name": "stdout"
        }
      ]
    },
    {
      "cell_type": "markdown",
      "metadata": {
        "id": "Eo87pvVo1ayG"
      },
      "source": [
        "## Acessando elementos"
      ]
    },
    {
      "cell_type": "code",
      "metadata": {
        "id": "uKhiIDTm1cgY",
        "colab": {
          "base_uri": "https://localhost:8080/"
        },
        "outputId": "94e5aec3-af91-433e-8cb5-e02ac0abf194"
      },
      "source": [
        "# Declara e inicializa tuplas de cores\n",
        "cores = ('vermelho', 'azul', 'verde', 'amarelo', 'rosa', 'branco')\n",
        "\n",
        "# Percorre a tuplas de cores, o valor atual está em cor\n",
        "for cor in cores:\n",
        "    print(cor)"
      ],
      "execution_count": 50,
      "outputs": [
        {
          "output_type": "stream",
          "text": [
            "vermelho\n",
            "azul\n",
            "verde\n",
            "amarelo\n",
            "rosa\n",
            "branco\n"
          ],
          "name": "stdout"
        }
      ]
    },
    {
      "cell_type": "markdown",
      "metadata": {
        "id": "H6089vabiWTJ"
      },
      "source": [
        "## Convertendo uma lista de tuplas em uma lista de lista"
      ]
    },
    {
      "cell_type": "code",
      "metadata": {
        "colab": {
          "base_uri": "https://localhost:8080/"
        },
        "id": "8ZTHgejficU3",
        "outputId": "1fc378f6-3fb0-47be-c4a5-e2641fa2900d"
      },
      "source": [
        "listaTupla = [(1,2), (3,4)] \n",
        "\n",
        "print(listaTupla)\n",
        "\n",
        "listaLista = [list(x) for x in listaTupla]\n",
        "\n",
        "print(listaLista)"
      ],
      "execution_count": 51,
      "outputs": [
        {
          "output_type": "stream",
          "text": [
            "[(1, 2), (3, 4)]\n",
            "[[1, 2], [3, 4]]\n"
          ],
          "name": "stdout"
        }
      ]
    },
    {
      "cell_type": "markdown",
      "metadata": {
        "id": "vQt9ynoueprN"
      },
      "source": [
        "# Intervalo/Range\n",
        "\n",
        "É um tipo de  imutável de números e é comumente usado para looping de um número específico de vezes em um comando for já que representam um intervalo. O comando range gera um valor contendo números inteiros sequenciais com um determinado incremendo."
      ]
    },
    {
      "cell_type": "markdown",
      "metadata": {
        "id": "pSyHqFx8e_KG"
      },
      "source": [
        "## Declaração\n",
        "\n",
        "Não gera o valores do intervalo, somente armazena o início e fim."
      ]
    },
    {
      "cell_type": "code",
      "metadata": {
        "id": "k6kkW50oe_b6",
        "colab": {
          "base_uri": "https://localhost:8080/"
        },
        "outputId": "77aa6ac6-44a0-464f-d143-4e1fe9e9d78d"
      },
      "source": [
        "# Declara um intervalo\n",
        "intervalo = range(1, 4)\n",
        "\n",
        "# Mostra o intervalo\n",
        "print(intervalo)"
      ],
      "execution_count": 52,
      "outputs": [
        {
          "output_type": "stream",
          "text": [
            "range(1, 4)\n"
          ],
          "name": "stdout"
        }
      ]
    },
    {
      "cell_type": "markdown",
      "metadata": {
        "id": "_PNGztVPfZkx"
      },
      "source": [
        "## Percorrendo o range"
      ]
    },
    {
      "cell_type": "code",
      "metadata": {
        "id": "qHvbE5defZwK",
        "colab": {
          "base_uri": "https://localhost:8080/"
        },
        "outputId": "017f3224-cc13-4cfb-b30b-1264c0d37bcf"
      },
      "source": [
        "# Percorre o range\n",
        "for valor in range(1, 4):\n",
        "    print(valor)"
      ],
      "execution_count": 53,
      "outputs": [
        {
          "output_type": "stream",
          "text": [
            "1\n",
            "2\n",
            "3\n"
          ],
          "name": "stdout"
        }
      ]
    },
    {
      "cell_type": "markdown",
      "metadata": {
        "id": "aYCcx2cFflhg"
      },
      "source": [
        "## Percorrendo o range com incremento\n",
        "\n",
        "O terceiro parâmetro é o passo do range.\n",
        "\n"
      ]
    },
    {
      "cell_type": "code",
      "metadata": {
        "id": "S-2SS1Leflhh",
        "colab": {
          "base_uri": "https://localhost:8080/"
        },
        "outputId": "76367208-e37c-415d-df81-eb60296a421a"
      },
      "source": [
        "# Percorre o range\n",
        "for valor in range(1, 10, 2):\n",
        "    print(valor)"
      ],
      "execution_count": 54,
      "outputs": [
        {
          "output_type": "stream",
          "text": [
            "1\n",
            "3\n",
            "5\n",
            "7\n",
            "9\n"
          ],
          "name": "stdout"
        }
      ]
    },
    {
      "cell_type": "markdown",
      "metadata": {
        "id": "2iIHTA10f7dy"
      },
      "source": [
        "## Percorrendo o range com descrescente"
      ]
    },
    {
      "cell_type": "code",
      "metadata": {
        "id": "4fepShCCf76N",
        "colab": {
          "base_uri": "https://localhost:8080/"
        },
        "outputId": "393ba396-0e21-474f-a156-13c48105123c"
      },
      "source": [
        "# Percorre o range\n",
        "for valor in range(10, 1, -2):\n",
        "    print(valor)"
      ],
      "execution_count": 55,
      "outputs": [
        {
          "output_type": "stream",
          "text": [
            "10\n",
            "8\n",
            "6\n",
            "4\n",
            "2\n"
          ],
          "name": "stdout"
        }
      ]
    },
    {
      "cell_type": "markdown",
      "metadata": {
        "id": "YL3bLO6vht9G"
      },
      "source": [
        "#Contadores/Counter\n",
        "\n",
        "Contador e permite contar as ocorrências de um determinado item em uma estrutura de dados.\n",
        "\n",
        "\n",
        "O resultado é um dicicionário(dict) e pode receber um objeto iterável ou um mapa como argumento para realizar a contagem de seus elementos."
      ]
    },
    {
      "cell_type": "code",
      "metadata": {
        "id": "Q5vrCCFChxCQ",
        "colab": {
          "base_uri": "https://localhost:8080/"
        },
        "outputId": "a2cc50b0-c718-4edd-94bb-ce1048627ec5"
      },
      "source": [
        "# Biblioteca counter de collections\n",
        "from collections import Counter\n",
        "\n",
        "# Declara uma lista de cores\n",
        "cores = ['branco', 'azul', 'azul', 'branco', 'marrom', 'branco', 'vermelho', 'verde']\n",
        "\n",
        "# contador a lista\n",
        "contador = Counter(cores)\n",
        "\n",
        "# Mostra o contador\n",
        "print(contador)"
      ],
      "execution_count": 56,
      "outputs": [
        {
          "output_type": "stream",
          "text": [
            "Counter({'branco': 3, 'azul': 2, 'marrom': 1, 'vermelho': 1, 'verde': 1})\n"
          ],
          "name": "stdout"
        }
      ]
    },
    {
      "cell_type": "markdown",
      "metadata": {
        "id": "QqXNyM0F1zPW"
      },
      "source": [
        "# Conjuntos/Sets\n",
        "\n",
        "São uma coleção de itens desordenada, parcialmente imutável e que **não** podem conter elementos duplicados. Por ser parcialmente imutável, os sets possuem permissão de adição e remoção de elementos.\n",
        "\n",
        "Usados normalmente com operações matemáticas de união, interseção e diferença simétrica.\n",
        "\n",
        "https://www.treinaweb.com.br/blog/principais-estruturas-de-dados-no-python/"
      ]
    },
    {
      "cell_type": "markdown",
      "metadata": {
        "id": "uTscD4yb10iK"
      },
      "source": [
        "## Declaração 1"
      ]
    },
    {
      "cell_type": "code",
      "metadata": {
        "id": "3sdPVrxP2Kjq",
        "colab": {
          "base_uri": "https://localhost:8080/"
        },
        "outputId": "2632c56a-093b-4353-cb40-0cad6a73a92a"
      },
      "source": [
        "# Declara o conjunto 1\n",
        "conjunto1 = {1, 2, 3, 3}\n",
        "print(conjunto1)\n",
        "print(type(conjunto1))\n",
        "\n",
        "# Declara o conjunto 2\n",
        "conjunto2 = {1, 2, 3, 4}\n",
        "print(conjunto2)\n",
        "print(type(conjunto2))"
      ],
      "execution_count": 57,
      "outputs": [
        {
          "output_type": "stream",
          "text": [
            "{1, 2, 3}\n",
            "<class 'set'>\n",
            "{1, 2, 3, 4}\n",
            "<class 'set'>\n"
          ],
          "name": "stdout"
        }
      ]
    },
    {
      "cell_type": "markdown",
      "metadata": {
        "id": "TuE7MaeY2UCc"
      },
      "source": [
        "## Declaração 2"
      ]
    },
    {
      "cell_type": "code",
      "metadata": {
        "id": "wrgjkNYO2VWR",
        "colab": {
          "base_uri": "https://localhost:8080/"
        },
        "outputId": "c400292b-83c9-4f42-f43f-36ae642b2dcc"
      },
      "source": [
        "# Declara o conjunto 1\n",
        "conjunto1 = set([1, 2, 3, 3])\n",
        "print(conjunto1)\n",
        "\n",
        "# Declara o conjunto 2\n",
        "conjunto2 = set([1, 2, 3, 4])\n",
        "print(conjunto2)"
      ],
      "execution_count": 58,
      "outputs": [
        {
          "output_type": "stream",
          "text": [
            "{1, 2, 3}\n",
            "{1, 2, 3, 4}\n"
          ],
          "name": "stdout"
        }
      ]
    },
    {
      "cell_type": "markdown",
      "metadata": {
        "id": "gi4CaK8f2oVA"
      },
      "source": [
        "## Acessando elementos"
      ]
    },
    {
      "cell_type": "code",
      "metadata": {
        "id": "KJcAUXgG2oVE",
        "colab": {
          "base_uri": "https://localhost:8080/"
        },
        "outputId": "010ed918-ff0d-4229-91c4-5a9373668f60"
      },
      "source": [
        "# Declara e inicializa conjunto de cores\n",
        "cores = set(['vermelho', 'azul', 'verde', 'amarelo', 'branco', 'branco'])\n",
        "\n",
        "# Percorre o elementos do conjunto de cores, o valor atual está em cor\n",
        "for cor in cores:\n",
        "    print(cor)"
      ],
      "execution_count": 59,
      "outputs": [
        {
          "output_type": "stream",
          "text": [
            "vermelho\n",
            "verde\n",
            "branco\n",
            "amarelo\n",
            "azul\n"
          ],
          "name": "stdout"
        }
      ]
    },
    {
      "cell_type": "markdown",
      "metadata": {
        "id": "N_iBHL1p20ea"
      },
      "source": [
        "## Adicionando elementos"
      ]
    },
    {
      "cell_type": "code",
      "metadata": {
        "id": "U9UqchRv23LI",
        "colab": {
          "base_uri": "https://localhost:8080/"
        },
        "outputId": "7136cda5-8509-4f60-f98b-161ec87b8cbf"
      },
      "source": [
        "# Declara o conjunto 1\n",
        "conjunto1 = {1, 2, 3, 3}\n",
        "\n",
        "# Adicionando elementos sem repetição\n",
        "conjunto1.add(4)\n",
        "print(\"Adição\", conjunto1)\n",
        "\n",
        "# Adicionando elementos com repetição\n",
        "conjunto1.add(1)\n",
        "print(\"Adição\", conjunto1)"
      ],
      "execution_count": 60,
      "outputs": [
        {
          "output_type": "stream",
          "text": [
            "Adição {1, 2, 3, 4}\n",
            "Adição {1, 2, 3, 4}\n"
          ],
          "name": "stdout"
        }
      ]
    },
    {
      "cell_type": "markdown",
      "metadata": {
        "id": "aadxRNTP3IA3"
      },
      "source": [
        "## Atualizando elementos"
      ]
    },
    {
      "cell_type": "code",
      "metadata": {
        "id": "c4cBHmLI3Luj",
        "colab": {
          "base_uri": "https://localhost:8080/"
        },
        "outputId": "dc3790f7-dd1f-47e6-bd59-6a429ece589c"
      },
      "source": [
        "# Declara o conjunto 1\n",
        "conjunto1 = {1, 2, 3, 3}\n",
        "\n",
        "#atualizando set\n",
        "conjunto1.update([3, 4, 5, 6])\n",
        "print(\"Atualição\", conjunto1)"
      ],
      "execution_count": 61,
      "outputs": [
        {
          "output_type": "stream",
          "text": [
            "Atualição {1, 2, 3, 4, 5, 6}\n"
          ],
          "name": "stdout"
        }
      ]
    },
    {
      "cell_type": "markdown",
      "metadata": {
        "id": "5iH6rnD83VMw"
      },
      "source": [
        "## Removendo elementos"
      ]
    },
    {
      "cell_type": "code",
      "metadata": {
        "id": "gfU5yOtk20pg",
        "colab": {
          "base_uri": "https://localhost:8080/"
        },
        "outputId": "b95380c7-197a-48fc-fc60-1bfec4b82fa1"
      },
      "source": [
        "# Declara o conjunto 1\n",
        "conjunto1 = {1, 2, 3, 3}\n",
        "\n",
        "# Removendo elemento\n",
        "conjunto1.discard(2)\n",
        "print(\"Remoção\", conjunto1)"
      ],
      "execution_count": 62,
      "outputs": [
        {
          "output_type": "stream",
          "text": [
            "Remoção {1, 3}\n"
          ],
          "name": "stdout"
        }
      ]
    },
    {
      "cell_type": "markdown",
      "metadata": {
        "id": "ZWMqhaYL34Mx"
      },
      "source": [
        "## Operações matemáticas"
      ]
    },
    {
      "cell_type": "markdown",
      "metadata": {
        "id": "mVVvOQ4F354I"
      },
      "source": [
        "### União\n",
        "\n",
        "União (|), todos os elementos dos dois conjuntos(sets) serão “unidos”, formando um único conjunto(set) com todos os elementos, sem repetí-los."
      ]
    },
    {
      "cell_type": "code",
      "metadata": {
        "id": "lS4DnVBI3_iC",
        "colab": {
          "base_uri": "https://localhost:8080/"
        },
        "outputId": "ca3b7092-3fc0-4737-c49b-61b366e52096"
      },
      "source": [
        "# Declara o conjunto 1\n",
        "conjunto1 = set([1, 2, 3, 4, 4])\n",
        "# Declara o conjunto 2\n",
        "conjunto2 = set([3, 4, 5, 6, 7])\n",
        "\n",
        "# União\n",
        "print(\"União\")\n",
        "\n",
        "# Usando operador |\n",
        "print(conjunto1 | conjunto2)\n",
        "\n",
        "# ou com método union\n",
        "print(conjunto1.union(conjunto2))"
      ],
      "execution_count": 63,
      "outputs": [
        {
          "output_type": "stream",
          "text": [
            "União\n",
            "{1, 2, 3, 4, 5, 6, 7}\n",
            "{1, 2, 3, 4, 5, 6, 7}\n"
          ],
          "name": "stdout"
        }
      ]
    },
    {
      "cell_type": "markdown",
      "metadata": {
        "id": "A6x1nmV04bMq"
      },
      "source": [
        "### Interseção\n",
        "\n",
        "Interseção (&), apenas os elementos que estiverem nos dois conjuntos(sets) serão considerados."
      ]
    },
    {
      "cell_type": "code",
      "metadata": {
        "id": "piGwo8Gl4aqw",
        "colab": {
          "base_uri": "https://localhost:8080/"
        },
        "outputId": "adc3442e-93dd-4543-f376-7306a24c1310"
      },
      "source": [
        "# Declara o conjunto 1\n",
        "conjunto1 = set([1, 2, 3, 4, 4])\n",
        "# Declara o conjunto 2\n",
        "conjunto2 = set([3, 4, 5, 6, 7])\n",
        "\n",
        "# Interseção\n",
        "print(\"Interseção\")\n",
        "\n",
        "# Usando operador &\n",
        "print(conjunto1 & conjunto2)\n",
        "\n",
        "# ou com método intersection\n",
        "print(conjunto1.intersection(conjunto2))"
      ],
      "execution_count": 64,
      "outputs": [
        {
          "output_type": "stream",
          "text": [
            "Interseção\n",
            "{3, 4}\n",
            "{3, 4}\n"
          ],
          "name": "stdout"
        }
      ]
    },
    {
      "cell_type": "markdown",
      "metadata": {
        "id": "aDIesbKa403f"
      },
      "source": [
        "### Diferença\n",
        "\n",
        "Diferença (–), restarão apenas os elementos que estiverem em um dos conjuntos(set), mas não no segundo."
      ]
    },
    {
      "cell_type": "code",
      "metadata": {
        "id": "JMgK-Lpc43EZ",
        "colab": {
          "base_uri": "https://localhost:8080/"
        },
        "outputId": "5867d2c6-1873-4ada-98f1-99fd1bb5c7d0"
      },
      "source": [
        "# Declara o conjunto 1\n",
        "conjunto1 = set([1, 2, 3, 4, 4])\n",
        "# Declara o conjunto 2\n",
        "conjunto2 = set([3, 4, 5, 6, 7])\n",
        "\n",
        "# Diferença\n",
        "print(\"Diferença\")\n",
        "\n",
        "# Usando operador -\n",
        "print(conjunto1 -conjunto2)\n",
        "\n",
        "# ou com método difference\n",
        "print(conjunto1.difference(conjunto2))\n"
      ],
      "execution_count": 65,
      "outputs": [
        {
          "output_type": "stream",
          "text": [
            "Diferença\n",
            "{1, 2}\n",
            "{1, 2}\n"
          ],
          "name": "stdout"
        }
      ]
    },
    {
      "cell_type": "markdown",
      "metadata": {
        "id": "WP75Wkez5FCj"
      },
      "source": [
        "### Diferença simétrica\n",
        "\n",
        "Diferença simétrica (^), apenas os elementos que estiverem nos dois conjuntos(sets), porém que não se repitam, serão exibidos."
      ]
    },
    {
      "cell_type": "code",
      "metadata": {
        "id": "iYgwEwVI36Co",
        "colab": {
          "base_uri": "https://localhost:8080/"
        },
        "outputId": "7f6ba7e3-2a66-4037-9ede-f4e271851aaa"
      },
      "source": [
        "# Declara o conjunto 1\n",
        "conjunto1 = set([1, 2, 3, 4, 4])\n",
        "# Declara o conjunto 2\n",
        "conjunto2 = set([3, 4, 5, 6, 7])\n",
        "\n",
        "# Diferença simétrica\n",
        "print(\"Diferença Simétrica\")\n",
        "\n",
        "# Usando operador ^\n",
        "print(conjunto1 ^ conjunto2)\n",
        "\n",
        "# ou com método symmetric_difference\n",
        "print(conjunto1.symmetric_difference(conjunto2))"
      ],
      "execution_count": 66,
      "outputs": [
        {
          "output_type": "stream",
          "text": [
            "Diferença Simétrica\n",
            "{1, 2, 5, 6, 7}\n",
            "{1, 2, 5, 6, 7}\n"
          ],
          "name": "stdout"
        }
      ]
    },
    {
      "cell_type": "markdown",
      "metadata": {
        "id": "bWfk655zF1Tm"
      },
      "source": [
        "## Converter Lista em Set"
      ]
    },
    {
      "cell_type": "code",
      "metadata": {
        "id": "x3BbZSZEF3rK",
        "colab": {
          "base_uri": "https://localhost:8080/"
        },
        "outputId": "fae72676-e780-4d02-86e0-54c07de73d64"
      },
      "source": [
        "# Declara uma lista\n",
        "lista = [ 10, 20, 30, 10, 40, 50, 50]\n",
        "\n",
        "# Converte a lista para um conjunto\n",
        "conjunto = set(lista)\n",
        "\n",
        "# Mostra o conjunto criada\n",
        "print(conjunto)"
      ],
      "execution_count": 67,
      "outputs": [
        {
          "output_type": "stream",
          "text": [
            "{40, 10, 50, 20, 30}\n"
          ],
          "name": "stdout"
        }
      ]
    },
    {
      "cell_type": "markdown",
      "metadata": {
        "id": "659vCoXLHkLO"
      },
      "source": [
        "# Dicionário/Dict\n",
        "\n",
        "No Python, os dicionários são coleções de itens desordenados com uma diferença bem grande quando comparados às outras coleções: um elemento dentro de um dicionário possui uma chave associada a ele, uma espécie de identificador. Sendo assim, é muito utilizado quando queremos armazenar dados de forma organizada e que possuem identificação única (como em um banco de dados).\n",
        "\n",
        "https://www.treinaweb.com.br/blog/manipulando-dicionarios-no-python/\n",
        "\n",
        "https://www.alura.com.br/artigos/trabalhando-com-o-dicionario-no-python"
      ]
    },
    {
      "cell_type": "markdown",
      "metadata": {
        "id": "gfKqb-IUBrdH"
      },
      "source": [
        "## Declaração \n",
        "\n",
        "\n"
      ]
    },
    {
      "cell_type": "code",
      "metadata": {
        "colab": {
          "base_uri": "https://localhost:8080/"
        },
        "id": "6RO6mOSqBrdM",
        "outputId": "10693a63-e5d2-4499-82ea-df8965ea5ecd"
      },
      "source": [
        "# Declara um dicionário vazio com {}\n",
        "dicionario = {}\n",
        "\n",
        "# Usando  método update\n",
        "dicionario.update({1: 'vermelho'})\n",
        "dicionario.update({2: 'azul'})\n",
        "dicionario.update({3: 'verde'})\n",
        "dicionario.update({4: 'amarelo'})\n",
        "dicionario.update({5: 'rosa'})\n",
        "dicionario.update({6: 'branco'})\n",
        "\n",
        "print(dicionario)"
      ],
      "execution_count": 68,
      "outputs": [
        {
          "output_type": "stream",
          "text": [
            "{1: 'vermelho', 2: 'azul', 3: 'verde', 4: 'amarelo', 5: 'rosa', 6: 'branco'}\n"
          ],
          "name": "stdout"
        }
      ]
    },
    {
      "cell_type": "markdown",
      "metadata": {
        "id": "w6kx3_9D6YLb"
      },
      "source": [
        "## Declaração 1 - Chave numérica\n",
        "\n",
        "\n"
      ]
    },
    {
      "cell_type": "code",
      "metadata": {
        "id": "NRm3F43B6Xqx",
        "colab": {
          "base_uri": "https://localhost:8080/"
        },
        "outputId": "c1009244-3fa4-4e42-a7b0-fd93a46814b9"
      },
      "source": [
        "# Declara e inicializa um dicionário de cores com chave númerica com {}\n",
        "dicionario = {1:'vermelho', 2:'azul', 3:'verde', 4:'amarelo', 5:'rosa', 6:'branco'}\n",
        "\n",
        "print(dicionario)"
      ],
      "execution_count": 69,
      "outputs": [
        {
          "output_type": "stream",
          "text": [
            "{1: 'vermelho', 2: 'azul', 3: 'verde', 4: 'amarelo', 5: 'rosa', 6: 'branco'}\n"
          ],
          "name": "stdout"
        }
      ]
    },
    {
      "cell_type": "markdown",
      "metadata": {
        "id": "kGkKx1-w7Fz4"
      },
      "source": [
        "## Declaração 2 - Chave numérica\n"
      ]
    },
    {
      "cell_type": "code",
      "metadata": {
        "id": "mSLO01r27Fz5",
        "colab": {
          "base_uri": "https://localhost:8080/"
        },
        "outputId": "f43be3bb-9887-4b16-b273-d65a6caf8345"
      },
      "source": [
        "# Declara e inicializa um dicionário de cores com chave númerica com o método dict\n",
        "dicionario = dict({1:'vermelho', 2:'azul', 3:'verde', 4:'amarelo', 5:'rosa', 6:'branco'})\n",
        "\n",
        "print(dicionario)"
      ],
      "execution_count": 70,
      "outputs": [
        {
          "output_type": "stream",
          "text": [
            "{1: 'vermelho', 2: 'azul', 3: 'verde', 4: 'amarelo', 5: 'rosa', 6: 'branco'}\n"
          ],
          "name": "stdout"
        }
      ]
    },
    {
      "cell_type": "markdown",
      "metadata": {
        "id": "LfMQ7wuD95UQ"
      },
      "source": [
        "## Declaração 3 - Chave Literal"
      ]
    },
    {
      "cell_type": "code",
      "metadata": {
        "id": "BWuzl00K94Ut",
        "colab": {
          "base_uri": "https://localhost:8080/"
        },
        "outputId": "4aa1c9ce-8fb7-49c5-ee54-5989f22797f6"
      },
      "source": [
        "# Declara e inicializa um dicionário de cores com chave literal\n",
        "dicionario = {'um':'vermelho', 'dois':'azul', 'tres':'verde', 'quatro':'amarelo', 'cinco':'rosa'}\n",
        "\n",
        "print(dicionario)\n",
        "\n",
        "# Recuperando valores com colchetes\n",
        "print(dicionario['um'])"
      ],
      "execution_count": 71,
      "outputs": [
        {
          "output_type": "stream",
          "text": [
            "{'um': 'vermelho', 'dois': 'azul', 'tres': 'verde', 'quatro': 'amarelo', 'cinco': 'rosa'}\n",
            "vermelho\n"
          ],
          "name": "stdout"
        }
      ]
    },
    {
      "cell_type": "markdown",
      "metadata": {
        "id": "Lva_kXo6HnJa"
      },
      "source": [
        "## Recuperando valores com colchetes 1\n",
        "\n",
        "\n"
      ]
    },
    {
      "cell_type": "code",
      "metadata": {
        "id": "ZqfznTJsHok7",
        "colab": {
          "base_uri": "https://localhost:8080/"
        },
        "outputId": "59980dfd-52fc-4e10-fc05-44c5d820d847"
      },
      "source": [
        "# Declara e inicializa um dicionário de cores\n",
        "dicionario = {1:'vermelho', 2:'azul', 3:'verde', 4:'amarelo', 5:'rosa', 6:'branco'}\n",
        "\n",
        "# Recuperando um valor pela chave e colchetes\n",
        "try:\n",
        "    valor = dicionario[1]     \n",
        "except KeyError:\n",
        "    valor = None\n",
        "\n",
        "# Mostra o valor\n",
        "print(valor)"
      ],
      "execution_count": 72,
      "outputs": [
        {
          "output_type": "stream",
          "text": [
            "vermelho\n"
          ],
          "name": "stdout"
        }
      ]
    },
    {
      "cell_type": "markdown",
      "metadata": {
        "id": "D7t1bOT6JIYx"
      },
      "source": [
        "## Recuperando valores com get 2"
      ]
    },
    {
      "cell_type": "code",
      "metadata": {
        "id": "pdFs8u8eJIlZ",
        "colab": {
          "base_uri": "https://localhost:8080/"
        },
        "outputId": "6daec0e8-c52a-4fe4-c1d4-cc6d7a90f240"
      },
      "source": [
        "# Declara e inicializa um dicionário de cores\n",
        "dicionario = {1:'vermelho', 2:'azul', 3:'verde', 4:'amarelo', 5:'rosa', 6:'branco'}\n",
        "\n",
        "# Recuperando um valor pela chave com get sem valor padrão\n",
        "valor = dicionario.get(1)\n",
        "\n",
        "# Mostra o valor\n",
        "print(valor)"
      ],
      "execution_count": 73,
      "outputs": [
        {
          "output_type": "stream",
          "text": [
            "vermelho\n"
          ],
          "name": "stdout"
        }
      ]
    },
    {
      "cell_type": "markdown",
      "metadata": {
        "id": "HO6bkS68JdKN"
      },
      "source": [
        "## Recuperando valores com get e valor default 3"
      ]
    },
    {
      "cell_type": "code",
      "metadata": {
        "id": "YL0Vdr6UJhfd",
        "colab": {
          "base_uri": "https://localhost:8080/"
        },
        "outputId": "a180788a-c099-4c1e-cefa-ee6acf88739e"
      },
      "source": [
        "# Declara e inicializa um dicionário de cores\n",
        "dicionario = {1:'vermelho', 2:'azul', 3:'verde', 4:'amarelo', 5:'rosa', 6:'branco'}\n",
        "\n",
        "# Recuperando um valor pela chave com get com valor padrão\n",
        "valor = dicionario.get(10,'sem cor')\n",
        "\n",
        "# Mostra o valor\n",
        "print(valor)"
      ],
      "execution_count": 74,
      "outputs": [
        {
          "output_type": "stream",
          "text": [
            "sem cor\n"
          ],
          "name": "stdout"
        }
      ]
    },
    {
      "cell_type": "markdown",
      "metadata": {
        "id": "zvP-bofD7j3A"
      },
      "source": [
        "## Tamanho do dicionário"
      ]
    },
    {
      "cell_type": "code",
      "metadata": {
        "id": "kNGceH3S7lkA",
        "colab": {
          "base_uri": "https://localhost:8080/"
        },
        "outputId": "0154d8ca-db83-45fa-be6a-9d4fb61c2a3b"
      },
      "source": [
        "# Declara e inicializa um dicionário de cores\n",
        "dicionario = {1:'vermelho', 2:'azul', 3:'verde', 4:'amarelo', 5:'rosa', 6:'branco'}\n",
        "\n",
        "print(len(dicionario))"
      ],
      "execution_count": 75,
      "outputs": [
        {
          "output_type": "stream",
          "text": [
            "6\n"
          ],
          "name": "stdout"
        }
      ]
    },
    {
      "cell_type": "markdown",
      "metadata": {
        "id": "uzOziKk57u5K"
      },
      "source": [
        "## Adicionado elementos"
      ]
    },
    {
      "cell_type": "code",
      "metadata": {
        "id": "EnmtqHmw7wby",
        "colab": {
          "base_uri": "https://localhost:8080/"
        },
        "outputId": "84d81c09-b000-4a30-f5ef-5f2d95b2f3ae"
      },
      "source": [
        "# Declara e inicializa um dicionário de cores\n",
        "dicionario = {1:'vermelho', 2:'azul', 3:'verde', 4:'amarelo', 5:'rosa', 6:'branco'}\n",
        "\n",
        "print(dicionario)\n",
        "\n",
        "# Especificando a posiçãp\n",
        "dicionario[8] = 'cinza'\n",
        "print(dicionario)\n",
        "\n",
        "# Usando  método update\n",
        "dicionario.update({7: 'purpura'})\n",
        "print(dicionario)"
      ],
      "execution_count": 76,
      "outputs": [
        {
          "output_type": "stream",
          "text": [
            "{1: 'vermelho', 2: 'azul', 3: 'verde', 4: 'amarelo', 5: 'rosa', 6: 'branco'}\n",
            "{1: 'vermelho', 2: 'azul', 3: 'verde', 4: 'amarelo', 5: 'rosa', 6: 'branco', 8: 'cinza'}\n",
            "{1: 'vermelho', 2: 'azul', 3: 'verde', 4: 'amarelo', 5: 'rosa', 6: 'branco', 8: 'cinza', 7: 'purpura'}\n"
          ],
          "name": "stdout"
        }
      ]
    },
    {
      "cell_type": "markdown",
      "metadata": {
        "id": "nH26cd0_eY4J"
      },
      "source": [
        "## Concatenando dois dicionários"
      ]
    },
    {
      "cell_type": "code",
      "metadata": {
        "id": "skOTMPdeeY4J",
        "colab": {
          "base_uri": "https://localhost:8080/"
        },
        "outputId": "b8ffe45f-54da-4a4f-b57a-25afd616c0fe"
      },
      "source": [
        "# Declara e inicializa um dicionário de cores\n",
        "dicionario1 = {1:'vermelho', 2:'azul', 3:'verde', 4:'amarelo'}\n",
        "dicionario2 = {4:'amarelo', 5:'rosa', 6:'branco'}\n",
        "\n",
        "print(dicionario1)\n",
        "print(dicionario2)\n",
        "\n",
        "# Concatena os dicionários()\n",
        "dicionario1.update(dicionario2)\n",
        "\n",
        "print(dicionario1)"
      ],
      "execution_count": 77,
      "outputs": [
        {
          "output_type": "stream",
          "text": [
            "{1: 'vermelho', 2: 'azul', 3: 'verde', 4: 'amarelo'}\n",
            "{4: 'amarelo', 5: 'rosa', 6: 'branco'}\n",
            "{1: 'vermelho', 2: 'azul', 3: 'verde', 4: 'amarelo', 5: 'rosa', 6: 'branco'}\n"
          ],
          "name": "stdout"
        }
      ]
    },
    {
      "cell_type": "markdown",
      "metadata": {
        "id": "17YaYR888L14"
      },
      "source": [
        "## Removendo elementos (pop)\n",
        "\n",
        "Remove um elemento pela chave do dicionário e retorna a chave do elemento. Use quando quiser conhecer o elemento removido."
      ]
    },
    {
      "cell_type": "code",
      "metadata": {
        "id": "YcHSjgad8NN4",
        "colab": {
          "base_uri": "https://localhost:8080/"
        },
        "outputId": "9b2d1143-2d79-4789-9a7a-43a19bc81814"
      },
      "source": [
        "# Declara e inicializa um dicionário de cores\n",
        "dicionario = {1:'vermelho', 2:'azul', 3:'verde', 4:'amarelo', 5:'rosa', 6:'branco'}\n",
        "\n",
        "print(dicionario)\n",
        "\n",
        "# pop()\n",
        "apagado = dicionario.pop(2)\n",
        "print(dicionario)\n",
        "\n",
        "# Elemento removido\n",
        "print(apagado)"
      ],
      "execution_count": 78,
      "outputs": [
        {
          "output_type": "stream",
          "text": [
            "{1: 'vermelho', 2: 'azul', 3: 'verde', 4: 'amarelo', 5: 'rosa', 6: 'branco'}\n",
            "{1: 'vermelho', 3: 'verde', 4: 'amarelo', 5: 'rosa', 6: 'branco'}\n",
            "azul\n"
          ],
          "name": "stdout"
        }
      ]
    },
    {
      "cell_type": "markdown",
      "metadata": {
        "id": "uBTTs67ZfKz9"
      },
      "source": [
        "## Removendo elementos (del)\n",
        "\n",
        "Remove um elemento pela chave do dicionário."
      ]
    },
    {
      "cell_type": "code",
      "metadata": {
        "id": "VFG3qfUpfKz-",
        "colab": {
          "base_uri": "https://localhost:8080/"
        },
        "outputId": "2e9338b3-dfcc-4761-b0ba-12adac58ce6d"
      },
      "source": [
        "# Declara e inicializa um dicionário de cores\n",
        "dicionario = {1:'vermelho', 2:'azul', 3:'verde', 4:'amarelo', 5:'rosa', 6:'branco'}\n",
        "\n",
        "print(dicionario)\n",
        "\n",
        "# del\n",
        "del dicionario[1]\n",
        "\n",
        "print(dicionario)"
      ],
      "execution_count": 79,
      "outputs": [
        {
          "output_type": "stream",
          "text": [
            "{1: 'vermelho', 2: 'azul', 3: 'verde', 4: 'amarelo', 5: 'rosa', 6: 'branco'}\n",
            "{2: 'azul', 3: 'verde', 4: 'amarelo', 5: 'rosa', 6: 'branco'}\n"
          ],
          "name": "stdout"
        }
      ]
    },
    {
      "cell_type": "markdown",
      "metadata": {
        "id": "JF2sOdM3e65C"
      },
      "source": [
        "## Apagando dicionário"
      ]
    },
    {
      "cell_type": "code",
      "metadata": {
        "id": "5tv1wJpoe65C",
        "colab": {
          "base_uri": "https://localhost:8080/"
        },
        "outputId": "c98af910-3eca-4349-a9b7-c1e13ad7421b"
      },
      "source": [
        "# Declara e inicializa um dicionário de cores\n",
        "dicionario = {1:'vermelho', 2:'azul', 3:'verde', 4:'amarelo', 5:'rosa', 6:'branco'}\n",
        "\n",
        "print(dicionario)\n",
        "\n",
        "# clear()\n",
        "dicionario.clear()\n",
        "\n",
        "print(dicionario)"
      ],
      "execution_count": 80,
      "outputs": [
        {
          "output_type": "stream",
          "text": [
            "{1: 'vermelho', 2: 'azul', 3: 'verde', 4: 'amarelo', 5: 'rosa', 6: 'branco'}\n",
            "{}\n"
          ],
          "name": "stdout"
        }
      ]
    },
    {
      "cell_type": "markdown",
      "metadata": {
        "id": "1LJiRi52_wii"
      },
      "source": [
        "## Listando os elementos"
      ]
    },
    {
      "cell_type": "code",
      "metadata": {
        "id": "tlsb5HpQ_yy5",
        "colab": {
          "base_uri": "https://localhost:8080/"
        },
        "outputId": "84b3ea8a-f15f-4161-8d4c-c915d029ff83"
      },
      "source": [
        "# Declara e inicializa um dicionário de cores\n",
        "dicionario = {1:'vermelho', 2:'azul', 3:'verde', 4:'amarelo', 5:'rosa', 6:'branco'}\n",
        "\n",
        "# Lista as chaves do dicionario(método keys())\n",
        "for linha in dicionario.keys():\n",
        "  print(linha)\n",
        "\n",
        "# Lista os valores do dicionário(método values())\n",
        "for linha in dicionario.values():\n",
        "  print(linha)\n",
        "\n",
        "# Lista chave e valores do dicionário(método items())\n",
        "for chave, valor in dicionario.items():\n",
        "  print(\"chave=\",chave,\" valor=\", valor)\n"
      ],
      "execution_count": 81,
      "outputs": [
        {
          "output_type": "stream",
          "text": [
            "1\n",
            "2\n",
            "3\n",
            "4\n",
            "5\n",
            "6\n",
            "vermelho\n",
            "azul\n",
            "verde\n",
            "amarelo\n",
            "rosa\n",
            "branco\n",
            "chave= 1  valor= vermelho\n",
            "chave= 2  valor= azul\n",
            "chave= 3  valor= verde\n",
            "chave= 4  valor= amarelo\n",
            "chave= 5  valor= rosa\n",
            "chave= 6  valor= branco\n"
          ],
          "name": "stdout"
        }
      ]
    },
    {
      "cell_type": "markdown",
      "metadata": {
        "id": "NGIkQkn79K04"
      },
      "source": [
        "## Dicionário de Dicionário"
      ]
    },
    {
      "cell_type": "code",
      "metadata": {
        "id": "KtIwBy529UBh",
        "colab": {
          "base_uri": "https://localhost:8080/"
        },
        "outputId": "218094a6-148f-4017-edae-24f7b9481dfd"
      },
      "source": [
        "# Declara e inicializa um dicionário de cores com chave númerica com {}\n",
        "dicionario = {1:{11:{'onze'}, 12:{'doze'}},\n",
        "              2:{21:{'vinte um'}, 22:{'vinte dois'}},\n",
        "              3:{31:{'trinta e um'}, 32:{'trinta e dois'}}}\n",
        "\n",
        "# Recupera o valor do primeiro dicionário\n",
        "print(dicionario[1])\n",
        "\n",
        "# Recupera o valor do segundo dicionário\n",
        "print(dicionario[1][11])\n",
        "\n",
        "# Lista chave e valores do dicionário(método items())\n",
        "for chave1, valor1 in dicionario.items():\n",
        "  print(\"chave1=\",chave1,\" valor1=\", valor1)\n",
        "  # Lista os valores do dicionário interno \n",
        "  for chave2, valor2 in valor1.items():\n",
        "    print(\"    chave2=\",chave2,\" valor2=\", valor2)\n"
      ],
      "execution_count": 82,
      "outputs": [
        {
          "output_type": "stream",
          "text": [
            "{11: {'onze'}, 12: {'doze'}}\n",
            "{'onze'}\n",
            "chave1= 1  valor1= {11: {'onze'}, 12: {'doze'}}\n",
            "    chave2= 11  valor2= {'onze'}\n",
            "    chave2= 12  valor2= {'doze'}\n",
            "chave1= 2  valor1= {21: {'vinte um'}, 22: {'vinte dois'}}\n",
            "    chave2= 21  valor2= {'vinte um'}\n",
            "    chave2= 22  valor2= {'vinte dois'}\n",
            "chave1= 3  valor1= {31: {'trinta e um'}, 32: {'trinta e dois'}}\n",
            "    chave2= 31  valor2= {'trinta e um'}\n",
            "    chave2= 32  valor2= {'trinta e dois'}\n"
          ],
          "name": "stdout"
        }
      ]
    },
    {
      "cell_type": "markdown",
      "metadata": {
        "id": "HoJtFntzzq0Q"
      },
      "source": [
        "# Classificação / Ordenação"
      ]
    },
    {
      "cell_type": "markdown",
      "metadata": {
        "id": "S3lURBdBzxuQ"
      },
      "source": [
        "## Método da bolha"
      ]
    },
    {
      "cell_type": "code",
      "metadata": {
        "id": "dkS6JT-iz1gc",
        "colab": {
          "base_uri": "https://localhost:8080/"
        },
        "outputId": "1d8eb66c-9729-4b1d-8667-0e3aa22be065"
      },
      "source": [
        "# Inicialização das variáveis\n",
        "vetor = [60, 50, 40, 30, 20, 10]\n",
        "\n",
        "# Processamento\n",
        "for i in range(0, len(vetor)-1):\n",
        "    for j in range(i+1, len(vetor)):        \n",
        "        if(vetor[i] > vetor[j]):            \n",
        "            aux = vetor[i]\n",
        "            vetor[i] = vetor[j]\n",
        "            vetor[j] = aux\n",
        "            \n",
        "# Saída\n",
        "print(vetor)"
      ],
      "execution_count": 83,
      "outputs": [
        {
          "output_type": "stream",
          "text": [
            "[10, 20, 30, 40, 50, 60]\n"
          ],
          "name": "stdout"
        }
      ]
    },
    {
      "cell_type": "markdown",
      "metadata": {
        "id": "nMLw-_l8gqPI"
      },
      "source": [
        "## Método Quicksort"
      ]
    },
    {
      "cell_type": "code",
      "metadata": {
        "id": "qLLMntLZgsaU",
        "colab": {
          "base_uri": "https://localhost:8080/"
        },
        "outputId": "6d0e0b1e-52fe-47f6-b07e-a73ee856e857"
      },
      "source": [
        "# Função quicksort\n",
        "def quicksort(vetor):\n",
        "    if len(vetor) <= 1:\n",
        "        return vetor\n",
        "    pivo = vetor[len(vetor) // 2] #Divisão inteira (//)\n",
        "    esquerda = [x for x in vetor if x < pivo]\n",
        "    meio = [x for x in vetor if x == pivo]\n",
        "    direita = [x for x in vetor if x > pivo]\n",
        "    return quicksort(esquerda) + meio + quicksort(direita)\n",
        "\n",
        "# Inicialização das variáveis\n",
        "vetor = [10, 20, 30, 40, 50, 60]\n",
        "\n",
        "# Processamento\n",
        "vetorOrdenado = quicksort(vetor)\n",
        "            \n",
        "# Saída\n",
        "print(vetor)"
      ],
      "execution_count": 84,
      "outputs": [
        {
          "output_type": "stream",
          "text": [
            "[10, 20, 30, 40, 50, 60]\n"
          ],
          "name": "stdout"
        }
      ]
    },
    {
      "cell_type": "markdown",
      "metadata": {
        "id": "0Q4NM9va2mWB"
      },
      "source": [
        "## Sort Ascendente"
      ]
    },
    {
      "cell_type": "code",
      "metadata": {
        "id": "AMS9-fng2qjb",
        "colab": {
          "base_uri": "https://localhost:8080/"
        },
        "outputId": "06f47757-25fb-4394-cff9-05de53c75c91"
      },
      "source": [
        "# Inicialização das variáveis\n",
        "vetor = [60, 50, 40, 30, 20, 10]\n",
        "\n",
        "# Processamento\n",
        "vetor.sort()\n",
        "            \n",
        "# Saída\n",
        "print(vetor)"
      ],
      "execution_count": 85,
      "outputs": [
        {
          "output_type": "stream",
          "text": [
            "[10, 20, 30, 40, 50, 60]\n"
          ],
          "name": "stdout"
        }
      ]
    },
    {
      "cell_type": "markdown",
      "metadata": {
        "id": "2Y0uyvPf24zG"
      },
      "source": [
        "## Sort Descendente"
      ]
    },
    {
      "cell_type": "code",
      "metadata": {
        "id": "1-_tKRnC3CdR",
        "colab": {
          "base_uri": "https://localhost:8080/"
        },
        "outputId": "e387d80e-d87a-4c4f-b580-f8fcb5726ca6"
      },
      "source": [
        "# Inicialização das variáveis\n",
        "vetor = [10, 20, 30, 40, 50, 60]\n",
        "\n",
        "# Processamento\n",
        "vetor.sort(reverse=True)\n",
        "            \n",
        "# Saída\n",
        "print(vetor)"
      ],
      "execution_count": 86,
      "outputs": [
        {
          "output_type": "stream",
          "text": [
            "[60, 50, 40, 30, 20, 10]\n"
          ],
          "name": "stdout"
        }
      ]
    },
    {
      "cell_type": "markdown",
      "metadata": {
        "id": "KfESLnXVs2zM"
      },
      "source": [
        "# Implementações de estruturas de dados"
      ]
    },
    {
      "cell_type": "markdown",
      "metadata": {
        "id": "P6-IKLWDkEKc"
      },
      "source": [
        "## Classe Pilha\n",
        "\n",
        "LIFO (Last In First Out)\n",
        "\n",
        "A inserção e remoção é realizada sempre no fim da lista, denominada topo."
      ]
    },
    {
      "cell_type": "code",
      "metadata": {
        "id": "6XoLTXvYkLf-"
      },
      "source": [
        "class Pilha:\n",
        "  \n",
        "    # Construtor da classe\n",
        "    def __init__(self):\n",
        "        # Lista para armazenar os elementos da pilha\n",
        "        self.pilha = []\n",
        "        #inicializa o contador de elementos da pilha\n",
        "        self.qtde = 0 \n",
        "        \n",
        "    # Empilhar(push)\n",
        "    def empilhar(self, elemento):\n",
        "        # Adiciona o elemento a pilha\n",
        "        self.pilha.append(elemento)\n",
        "        # Incrementa o contador de elementos da pilha\n",
        "        self.qtde += 1\n",
        "    \n",
        "    # Desempilhar(pop)\n",
        "    def desempilhar(self): \n",
        "        # Se não estiver vazia\n",
        "        if not self.vazia():\n",
        "            # Mensagem mostrando o elemento removido\n",
        "            print(\"Elemento removido: \", self.pilha[len(self.pilha) - 1])\n",
        "            # Remove o elemento do topo da pilha\n",
        "            self.pilha.pop(len(self.pilha) - 1)\n",
        "            # Decrementa o contador de elementos da pilha\n",
        "            self.qtde -= 1\n",
        "\n",
        "    # Verifica a situação da pilha\n",
        "    def vazia(self):\n",
        "        # Verifica o tamanho da lista\n",
        "        if self.qtde == 0:\n",
        "            return True\n",
        "        return False\n",
        "    \n",
        "    # Mostra os elementos da pilha\n",
        "    def mostraPilha(self):\n",
        "        # Percorre os elementos da pilha\n",
        "        for i in range(self.qtde - 1, -1, -1): #Range de (Tamanho Fila até 0)\n",
        "            print(self.pilha[i])"
      ],
      "execution_count": 87,
      "outputs": []
    },
    {
      "cell_type": "markdown",
      "metadata": {
        "id": "03hwiVMLkhue"
      },
      "source": [
        "Exemplo uso:"
      ]
    },
    {
      "cell_type": "code",
      "metadata": {
        "id": "YVbsZehSkjJ4",
        "colab": {
          "base_uri": "https://localhost:8080/"
        },
        "outputId": "bf158782-9b11-4800-bc1b-c61ab95e4cd4"
      },
      "source": [
        "# Declara a pilha\n",
        "p = Pilha()\n",
        "\n",
        "# Adiciona \n",
        "p.empilhar(10)\n",
        "p.empilhar(20)\n",
        "p.empilhar(30)\n",
        "\n",
        "# Mostra a pilha\n",
        "p.mostraPilha()\n",
        "\n",
        "# Remove \n",
        "p.desempilhar()\n",
        "\n",
        "# Mostra a pilha\n",
        "p.mostraPilha()\n",
        "\n",
        "# Remove \n",
        "p.desempilhar()\n",
        "\n",
        "# Situação da pilha\n",
        "print(p.vazia())"
      ],
      "execution_count": 88,
      "outputs": [
        {
          "output_type": "stream",
          "text": [
            "30\n",
            "20\n",
            "10\n",
            "Elemento removido:  30\n",
            "20\n",
            "10\n",
            "Elemento removido:  20\n",
            "False\n"
          ],
          "name": "stdout"
        }
      ]
    },
    {
      "cell_type": "markdown",
      "metadata": {
        "id": "oP0Tf9dEnB9x"
      },
      "source": [
        "## Classe Fila\n",
        "\n",
        "FIFO (First In First Out)\n",
        "\n",
        "A inclusão ocorre no fim e a exclusão ocorre no início."
      ]
    },
    {
      "cell_type": "code",
      "metadata": {
        "id": "aRCMn1i0nMx2"
      },
      "source": [
        "class Fila:\n",
        "\n",
        "    # Construtor da classe\n",
        "    def __init__(self):\n",
        "        # Lista para armazenar os elementos da pilha\n",
        "        self.fila = []\n",
        "        #inicializa contador de elementos da fila\n",
        "        self.qtde = 0\n",
        "        \n",
        "    # Enfileirar(enqueue)\n",
        "    def enfileirar(self, elemento):\n",
        "        # Adiciona o elemento no final da fila\n",
        "        self.fila.append(elemento)\n",
        "        # Incrementa o contador de elementos da fila\n",
        "        self.qtde += 1\n",
        "    \n",
        "    # Desenfileirar(dequeue)\n",
        "    def desenfileirar(self):\n",
        "        # Se não estiver vazia\n",
        "        if not self.vazia():\n",
        "            # Mensagem mostrando o elemento removido          \n",
        "            print(\"Elemento removido: \", self.fila[0])\n",
        "            # Remove o elemento do início da fila\n",
        "            self.fila.pop(0)\n",
        "            # Decrementa o contador de elementos da fila\n",
        "            self.qtde -= 1\n",
        "\n",
        "    # Verifica a situação da fila\n",
        "    def vazia(self):\n",
        "        if self.qtde == 0:\n",
        "            return True\n",
        "        return False\n",
        "    \n",
        "    # Mostra os elementos da fila\n",
        "    def mostraFila(self):\n",
        "        # Percorre os elementos da fila\n",
        "        for i in range(self.qtde):\n",
        "            print(self.fila[i])"
      ],
      "execution_count": 89,
      "outputs": []
    },
    {
      "cell_type": "markdown",
      "metadata": {
        "id": "YzhngxoToGFc"
      },
      "source": [
        "Exemplo uso:"
      ]
    },
    {
      "cell_type": "code",
      "metadata": {
        "id": "lLpYAooroGfN",
        "colab": {
          "base_uri": "https://localhost:8080/"
        },
        "outputId": "53a82145-9426-4621-92b1-b0d78b61dd48"
      },
      "source": [
        "# Declara a fila\n",
        "q = Fila()\n",
        "\n",
        "# Adiciona \n",
        "q.enfileirar(10)\n",
        "q.enfileirar(20)\n",
        "q.enfileirar(30)\n",
        "\n",
        "# Mostra a fila\n",
        "q.mostraFila()\n",
        "\n",
        "# Remove\n",
        "q.desenfileirar()\n",
        "\n",
        "# Mostra a fila\n",
        "q.mostraFila()\n",
        "\n",
        "# Enfileirar\n",
        "print(\"Enfileirando: 40\")\n",
        "q.enfileirar(40)\n",
        "\n",
        "# Mostra a fila\n",
        "q.mostraFila()\n",
        "\n",
        "# Situação da fila\n",
        "print(q.vazia())"
      ],
      "execution_count": 90,
      "outputs": [
        {
          "output_type": "stream",
          "text": [
            "10\n",
            "20\n",
            "30\n",
            "Elemento removido:  10\n",
            "20\n",
            "30\n",
            "Enfileirando: 40\n",
            "20\n",
            "30\n",
            "40\n",
            "False\n"
          ],
          "name": "stdout"
        }
      ]
    },
    {
      "cell_type": "markdown",
      "metadata": {
        "id": "T3Ko8MjHowD-"
      },
      "source": [
        "## Classe Deque\n",
        "\n",
        "Os elementos podem ser removidos ou inseridos no início ou fim da fila."
      ]
    },
    {
      "cell_type": "code",
      "metadata": {
        "id": "hAota5TYozCF"
      },
      "source": [
        "class Deque:\n",
        "\n",
        "    # Construtor da classe    \n",
        "    def __init__(self):\n",
        "        # Lista para armazenar os elementos do deque\n",
        "        self.deque = []\n",
        "        # Inicializa contador de elementos do deque\n",
        "        self.qtde = 0\n",
        "    \n",
        "    # Insere no início(insertFront)\n",
        "    def inserirInicio(self, elemento):\n",
        "        # Adiciona o elemento no início do deque\n",
        "        self.deque.insert(0, elemento)\n",
        "        # Incrementa o contador de elementos do deque\n",
        "        self.qtde += 1\n",
        "            \n",
        "    # Insere no fim(insertBack)\n",
        "    def inserirFim(self, elemento):\n",
        "        # Adiciona o elemento no fim do deque\n",
        "        self.deque.append(elemento)\n",
        "        # Incrementa o contador de elementos do deque\n",
        "        self.qtde += 1\n",
        "        \n",
        "    # Remove do início(removeFront)\n",
        "    def removerInicio(self):\n",
        "        # Mensagem mostrando o elemento removido\n",
        "        print(\"Elemento removido: \", self.deque[0])\n",
        "        # Remove o elemento do início\n",
        "        self.deque.pop(0)\n",
        "        # Decrementa o contador de elementos do deque\n",
        "        self.qtde -= 1\n",
        "    \n",
        "    # Remove do fim(removeBack)\n",
        "    def removerFim(self):\n",
        "        # Mensagem mostrando o elemento removido\n",
        "        print(\"Elemento removido: \", self.deque[-1])\n",
        "        # Remove o elemento do fim\n",
        "        self.deque.pop(-1)\n",
        "        # Decrementa o contador de elementos\n",
        "        self.qtde -= 1\n",
        "        \n",
        "    # Verifica a situação do deque\n",
        "    def vazia(self):\n",
        "        if self.qtde == 0:\n",
        "            return True\n",
        "        return False\n",
        "\n",
        "    # Mostra os elementos do deque\n",
        "    def mostraDeque(self):\n",
        "        # Percorre os elementos do deque\n",
        "        for i in range(self.qtde):\n",
        "            print(self.deque[i])"
      ],
      "execution_count": 91,
      "outputs": []
    },
    {
      "cell_type": "markdown",
      "metadata": {
        "id": "yHWYdDQip7jA"
      },
      "source": [
        "Exemplo de uso:"
      ]
    },
    {
      "cell_type": "code",
      "metadata": {
        "id": "n2h1HLW5p8p6",
        "colab": {
          "base_uri": "https://localhost:8080/"
        },
        "outputId": "78dfbf9d-5e92-440d-e64b-9b8e35658cc1"
      },
      "source": [
        "# Declara o deque\n",
        "d = Deque()\n",
        "\n",
        "# Inserindo no início\n",
        "d.inserirInicio(10)\n",
        "d.inserirInicio(20)\n",
        "d.inserirInicio(30)\n",
        "\n",
        "# Mostra o deque\n",
        "d.mostraDeque()\n",
        "\n",
        "# Remove do fim\n",
        "d.removerFim()\n",
        "\n",
        "# Remove do início\n",
        "d.removerInicio()\n",
        "\n",
        "# Mostra o deque\n",
        "d.mostraDeque()\n",
        "\n",
        "# Situação do deque\n",
        "print(d.vazia())"
      ],
      "execution_count": 92,
      "outputs": [
        {
          "output_type": "stream",
          "text": [
            "30\n",
            "20\n",
            "10\n",
            "Elemento removido:  10\n",
            "Elemento removido:  30\n",
            "20\n",
            "False\n"
          ],
          "name": "stdout"
        }
      ]
    },
    {
      "cell_type": "markdown",
      "metadata": {
        "id": "_TDiScCgqUIW"
      },
      "source": [
        "## Deque com collections.deque\n",
        "\n",
        "Implementação do Deque do pacote colletions"
      ]
    },
    {
      "cell_type": "code",
      "metadata": {
        "id": "DoW65JTIqYBi",
        "colab": {
          "base_uri": "https://localhost:8080/"
        },
        "outputId": "335d31a7-7912-4f69-bdcd-4734340824a0"
      },
      "source": [
        "from collections import deque\n",
        "\n",
        "# Declara o deque\n",
        "d = deque()\n",
        "\n",
        "# Adiciona ao fim do deque\n",
        "d.append(10) \n",
        "# Adiciona ao início ao deque\n",
        "d.appendleft(20) \n",
        "# Adiciona ao fim do deque\n",
        "d.append(30)\n",
        "\n",
        "# Mostra o deque\n",
        "for i in d:\n",
        "    print(i, end=' ')\n",
        "\n",
        "# Remove do fim\n",
        "d.pop() \n",
        "\n",
        "# Remove do início\n",
        "d.popleft()\n",
        "\n",
        "# Mostra o deque\n",
        "for i in d:\n",
        "    print(i, end=' ')"
      ],
      "execution_count": 93,
      "outputs": [
        {
          "output_type": "stream",
          "text": [
            "20 10 30 10 "
          ],
          "name": "stdout"
        }
      ]
    },
    {
      "cell_type": "markdown",
      "metadata": {
        "id": "REh3q0uBfVFE"
      },
      "source": [
        "## Classe ListaSimplesmenteEncadeada\n",
        "\n",
        "Os elementos podem ser removidos ou inseridos no início ou fim da fila. Existe uma classe para armazenar os dados e o ponteiro do próximo elemento."
      ]
    },
    {
      "cell_type": "code",
      "metadata": {
        "id": "P6-bYxTIflWT"
      },
      "source": [
        "class No:\n",
        "\n",
        "    # Construtor da classe    \n",
        "    def __init__(self, elemento=None, proximo=None):\n",
        "        self.elemento = elemento\n",
        "        self.proximo = proximo\n",
        "    \n",
        "    # Retorna os dados do nó\n",
        "    def __str__(self):\n",
        "        return str(self.elemento)"
      ],
      "execution_count": 94,
      "outputs": []
    },
    {
      "cell_type": "code",
      "metadata": {
        "id": "i-UowY2SfVFF"
      },
      "source": [
        "class ListaSimplesmenteEncadeada:\n",
        "\n",
        "    # Construtor da classe    \n",
        "    def __init__(self):\n",
        "        # Guarda o início da lista simplesmente encadeada\n",
        "        self.inicio = None\n",
        "        #inicializa contador de elementos da lista simplesmente encadeada\n",
        "        self.qtde = 0\n",
        "    \n",
        "    # Insere no início(insertFront)\n",
        "    def inserirInicio(self, elemento):\n",
        "        # Instancia um novo nó\n",
        "        novo = No(elemento, self.inicio)\n",
        "        # Adiciona o elemento no início da lista simplesmente encadeada\n",
        "        self.inicio = novo\n",
        "        # Incrementa o contador de elementos da lista simplesmente encadeada\n",
        "        self.qtde += 1\n",
        "                    \n",
        "    # Insere no fim(insertBack)\n",
        "    def inserirFim(self, elemento):\n",
        "        # Se diferente de vazio procura a última posição\n",
        "        if self.inicio:\n",
        "          aux = self.inicio\n",
        "          # Percorre os elementos da lista simplesmente encadeada\n",
        "          while aux.proximo:            \n",
        "            aux = aux.proximo\n",
        "          # Instancia um novo nó\n",
        "          novo = No(elemento)\n",
        "          # Adiciona ao final da lista\n",
        "          aux.proximo = novo\n",
        "          # Incrementa o contador de elementos do deque\n",
        "          self.qtde += 1\n",
        "        else:\n",
        "          self.inserirInicio(elemento)      \n",
        "        \n",
        "    # Remove do início(removeFront)\n",
        "    def removerInicio(self):\n",
        "        # Verifica se a lista não está vazia\n",
        "        if self.inicio:\n",
        "            # Mensagem mostrando o elemento removido\n",
        "            print(\"Elemento removido: \", self.inicio.elemento)\n",
        "            # Remove o elemento do início\n",
        "            self.inicio = self.inicio.proximo\n",
        "            # Decrementa o contador de elementos da lista simplesmente encadeada\n",
        "            self.qtde -= 1\n",
        "        else:\n",
        "            print(\"Lista vazia!\")\n",
        "    \n",
        "    # Remove do fim(removeBack)\n",
        "    def removerFim(self):\n",
        "        # Verifica se a lista não está vazia\n",
        "        if self.inicio:\n",
        "            # Com mais de um nó\n",
        "            if self.inicio.proximo:\n",
        "                # Recupera o início da lista\n",
        "                atual = self.inicio \n",
        "                anterior = None;\n",
        "                while atual.proximo:\n",
        "                    anterior = atual\n",
        "                    atual = atual.proximo                                \n",
        "                # Mensagem mostrando o elemento removido\n",
        "                print(\"Elemento removido: \", atual.elemento)\n",
        "                # Pula o elemento a ser removido\n",
        "                anterior.proximo = atual.proximo \n",
        "                # Decrementa o contador de elementos da lista simplesmente encadeada\n",
        "                self.qtde -= 1                \n",
        "            else:\n",
        "                # Remove do início                \n",
        "                self.removerInicio()            \n",
        "        else:\n",
        "            print(\"Lista vazia!\")        \n",
        "        \n",
        "    # Verifica a situação da lista simplesmente encadeada\n",
        "    def vazia(self):\n",
        "        if self.qtde == 0:\n",
        "            return True\n",
        "        return False\n",
        "\n",
        "    # Mostra os elementos da lista simplesmente encadeada\n",
        "    def mostraLista(self):\n",
        "        aux = self.inicio\n",
        "        # Percorre os elementos da lista simplesmente encadeada\n",
        "        while aux:\n",
        "          print(aux)\n",
        "          aux = aux.proximo\n",
        "          "
      ],
      "execution_count": 95,
      "outputs": []
    },
    {
      "cell_type": "markdown",
      "metadata": {
        "id": "shcXxUVsfVFJ"
      },
      "source": [
        "Exemplo de uso:"
      ]
    },
    {
      "cell_type": "code",
      "metadata": {
        "id": "sMVMGH_ZfVFK",
        "colab": {
          "base_uri": "https://localhost:8080/"
        },
        "outputId": "c8e746d8-dc88-4a23-fde0-c72e6aac1ac7"
      },
      "source": [
        "# Declara a lista simplesmente encadeada\n",
        "l = ListaSimplesmenteEncadeada()\n",
        "\n",
        "# Inserindo no início\n",
        "l.inserirFim(30)\n",
        "l.inserirFim(40)\n",
        "\n",
        "# Inserindo no fim\n",
        "l.inserirInicio(20)\n",
        "l.inserirInicio(10)\n",
        "\n",
        "# Mostra a lista simplesmente encadeada\n",
        "l.mostraLista()\n",
        "\n",
        "# Remove do início\n",
        "l.removerInicio()\n",
        "\n",
        "# Mostra a lista simplesmente encadeada\n",
        "l.mostraLista()\n",
        "\n",
        "# Remove do fim\n",
        "l.removerFim()\n",
        "l.removerFim()\n",
        "l.removerFim()\n",
        "l.removerFim()\n",
        "\n",
        "# Mostra a lista simplesmente encadeada\n",
        "l.mostraLista()\n",
        "\n",
        "# Situação da lista simplesmente encadeada\n",
        "print(l.vazia())"
      ],
      "execution_count": 96,
      "outputs": [
        {
          "output_type": "stream",
          "text": [
            "10\n",
            "20\n",
            "30\n",
            "40\n",
            "Elemento removido:  10\n",
            "20\n",
            "30\n",
            "40\n",
            "Elemento removido:  40\n",
            "Elemento removido:  30\n",
            "Elemento removido:  20\n",
            "Lista vazia!\n",
            "True\n"
          ],
          "name": "stdout"
        }
      ]
    }
  ]
}