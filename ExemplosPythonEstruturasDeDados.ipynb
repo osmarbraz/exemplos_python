{
  "nbformat": 4,
  "nbformat_minor": 0,
  "metadata": {
    "colab": {
      "name": "ExemplosPythonEstruturasDeDados.ipynb",
      "provenance": [],
      "collapsed_sections": [],
      "toc_visible": true,
      "include_colab_link": true
    },
    "kernelspec": {
      "name": "python3",
      "display_name": "Python 3"
    }
  },
  "cells": [
    {
      "cell_type": "markdown",
      "metadata": {
        "id": "view-in-github",
        "colab_type": "text"
      },
      "source": [
        "<a href=\"https://colab.research.google.com/github/osmarbraz/exemplos_python/blob/master/ExemplosPythonEstruturasDeDados.ipynb\" target=\"_parent\"><img src=\"https://colab.research.google.com/assets/colab-badge.svg\" alt=\"Open In Colab\"/></a>"
      ]
    },
    {
      "cell_type": "markdown",
      "metadata": {
        "id": "xY84ChCNzmQQ"
      },
      "source": [
        "# Exemplos de Estruturas de Dados em Python no Google Colaboratory\n",
        "\n",
        "- Listas(List),\n",
        "- Enumerações(Enumerate),\n",
        "- Tuplas(Tuple),\n",
        "- Intervalos(Range),\n",
        "- Conjuntos(Sets),\n",
        "- Dicionários(Dict),\n",
        "- Classificação(Ordenação),\n",
        "- Classes de Estrutura de Dados.\n",
        "\n",
        "-----------------------------------------\n",
        "**Guia Colab Iniciante:**\n",
        "\n",
        "https://medium.com/machina-sapiens/google-colab-guia-do-iniciante-334d70aad531\n",
        "\n",
        "**Documentação oficial:**\n",
        "\n",
        "https://colab.research.google.com/github/jakevdp/PythonDataScienceHandbook/blob/master/notebooks/01.01-Help-And-Documentation.ipynb\n",
        "\n",
        "**Características :**\n",
        "\n",
        "https://colab.research.google.com/notebooks/basic_features_overview.ipynb"
      ]
    },
    {
      "cell_type": "markdown",
      "metadata": {
        "id": "8-yh61Cp3W_0"
      },
      "source": [
        "# Listas/List"
      ]
    },
    {
      "cell_type": "markdown",
      "metadata": {
        "id": "_F96dx_gpm2Y"
      },
      "source": [
        "Uma lista é a estrutura de dados mais básica do Python e armazena os dados em sequência, onde cada elemento possui sua posição na lista, denominada de índice. O primeiro elemento é sempre o índice zero e a cada elemento inserido na lista esse valor é incrementado.\n",
        "\n",
        "No Python, uma lista pode armazenar qualquer tipo de dado primitivo (string, inteiro, float, etc). \n",
        "\n",
        "Listas são equivalentes a vetores.\n",
        "\n",
        "* São ordenadas;\n",
        "* Podem ser iteradas;\n",
        "* São mutáveis (podemos adicionar, mover, mudar ou remover elementos);\n",
        "* Aceitam diversos tipos de elementos.\n",
        "\n",
        "https://railsware.com/blog/python-for-machine-learning-indexing-and-slicing-for-lists-tuples-strings-and-other-sequential-types/"
      ]
    },
    {
      "cell_type": "markdown",
      "metadata": {
        "id": "U9yrljlxiyFk"
      },
      "source": [
        "## Declarando e criando listas"
      ]
    },
    {
      "cell_type": "code",
      "metadata": {
        "id": "CRP2Snaki3N4",
        "colab": {
          "base_uri": "https://localhost:8080/"
        },
        "outputId": "f5f00585-37a3-46ab-b5f0-3634ca075083"
      },
      "source": [
        "# Declara e inicializa uma lista de cores\n",
        "cores = [\"vermelho\", \"azul\", \"verde\", \"amarelo\", \"rosa\", \"branco\"]\n",
        "\n",
        "# Mostra lista\n",
        "print(cores)"
      ],
      "execution_count": 1,
      "outputs": [
        {
          "output_type": "stream",
          "name": "stdout",
          "text": [
            "['vermelho', 'azul', 'verde', 'amarelo', 'rosa', 'branco']\n"
          ]
        }
      ]
    },
    {
      "cell_type": "markdown",
      "metadata": {
        "id": "jIyN9queGP1O"
      },
      "source": [
        "## Declarando e inicializando uma listacom uma constante"
      ]
    },
    {
      "cell_type": "code",
      "metadata": {
        "id": "3DiQIAj7GTFh",
        "colab": {
          "base_uri": "https://localhost:8080/"
        },
        "outputId": "158c4982-8e92-4db5-d19a-ddfc759a7f2d"
      },
      "source": [
        "#gera um vetor de 10 posições com o valor \"sem cor\"\n",
        "cores = [\"sem cor\"] * 10\n",
        "\n",
        "print(len(cores))\n",
        "print(cores)"
      ],
      "execution_count": 2,
      "outputs": [
        {
          "output_type": "stream",
          "name": "stdout",
          "text": [
            "10\n",
            "['sem cor', 'sem cor', 'sem cor', 'sem cor', 'sem cor', 'sem cor', 'sem cor', 'sem cor', 'sem cor', 'sem cor']\n"
          ]
        }
      ]
    },
    {
      "cell_type": "markdown",
      "metadata": {
        "id": "aO6beiJqk9Wz"
      },
      "source": [
        "## Acessando elementos da lista"
      ]
    },
    {
      "cell_type": "markdown",
      "metadata": {
        "id": "fL1p2TUaoZ87"
      },
      "source": [
        "### Acessando elementos por índice\n",
        "\n",
        "ATENÇÃO: Início em 0(zero)!"
      ]
    },
    {
      "cell_type": "code",
      "metadata": {
        "id": "tWTdt6UHlBLt",
        "colab": {
          "base_uri": "https://localhost:8080/"
        },
        "outputId": "2fbec7fd-37ee-48eb-c945-1bb85e4cba62"
      },
      "source": [
        "# Declara e inicializa uma lista de cores\n",
        "cores = [\"vermelho\", \"azul\", \"verde\", \"amarelo\", \"rosa\", \"branco\"]\n",
        "\n",
        "# Acessando o primeiro(índice=0) elemento da lista\n",
        "print(\"Primeiro:\",cores[0])\n",
        "\n",
        "# Acessando o terceiro(índice=3) elemento da lista\n",
        "print(\"Terceiro:\", cores[2])"
      ],
      "execution_count": 3,
      "outputs": [
        {
          "output_type": "stream",
          "name": "stdout",
          "text": [
            "Primeiro: vermelho\n",
            "Terceiro: verde\n"
          ]
        }
      ]
    },
    {
      "cell_type": "markdown",
      "metadata": {
        "id": "Mr6-JwsfjQ_w"
      },
      "source": [
        "### Últilizando índices negativos"
      ]
    },
    {
      "cell_type": "code",
      "metadata": {
        "id": "KIzfpb_2jYBK",
        "colab": {
          "base_uri": "https://localhost:8080/"
        },
        "outputId": "2caebc8a-7c42-4c8d-f44d-208e83e1adbc"
      },
      "source": [
        "# Declara e inicializa uma lista de cores\n",
        "cores = [\"vermelho\", \"azul\", \"verde\", \"amarelo\", \"rosa\", \"branco\"]\n",
        "\n",
        "# Acessando o último elemento da lista\n",
        "print(\"Último:\",cores[-1])\n",
        "\n",
        "# Acessando o penúltimo elemento da lista\n",
        "print(\"Penúltimo:\",cores[-2])"
      ],
      "execution_count": 4,
      "outputs": [
        {
          "output_type": "stream",
          "name": "stdout",
          "text": [
            "Último: branco\n",
            "Penúltimo: rosa\n"
          ]
        }
      ]
    },
    {
      "cell_type": "markdown",
      "metadata": {
        "id": "BmgjxxGupDTv"
      },
      "source": [
        "### Acessando intervalos [:]"
      ]
    },
    {
      "cell_type": "code",
      "metadata": {
        "id": "_MXZ1qJ9pDTw",
        "colab": {
          "base_uri": "https://localhost:8080/"
        },
        "outputId": "4044aa46-46b3-46a8-bb9f-0fabaa3b0572"
      },
      "source": [
        "# Declara e inicializa uma lista de cores\n",
        "cores = [\"vermelho\", \"azul\", \"verde\", \"amarelo\", \"rosa\", \"branco\"]\n",
        "\n",
        "# Acessando o intervalo de todos\n",
        "print(\"Intervalo de de todos(cores[:])                 :\", cores[:])\n",
        "\n",
        "# Acessando o intervalo de 2 a 4\n",
        "print(\"Intervalo de 2 até 4(cores[2:4])                :\", cores[2:4])\n",
        "\n",
        "# Acessando o intervalo do primeiro até o 2\n",
        "print(\"Intervalo do início até 2(cores[:2])            :\", cores[:2])\n",
        "\n",
        "# Acessando do início até o penúltimo elemento da lista\n",
        "print(\"Intervalo início até o último(cores[:-1])       :\",cores[:-1])\n",
        "\n",
        "# Acessando do 0 até o penúltimo elemento da lista\n",
        "print(\"Intervalo 0 até o último(cores[0:-1])           :\",cores[0:-1])\n",
        "\n",
        "# Acessando do início até o penúltimo elemento da lista\n",
        "print(\"Intervalo de início até o penúltimo(cores[:-2]) :\",cores[:-2])\n",
        "\n",
        "# Acessando do 0 até o penúltimo elemento da lista\n",
        "print(\"Intervalo de 0 até o penúltimo(cores[:-2])      :\",cores[:-2])\n",
        "\n",
        "# Acessando do 0 até o penúltimo elemento da lista\n",
        "print(\"Intervalo de 0 até o penúltimo(cores[0:-2])     :\",cores[0:-2])\n",
        "\n",
        "# Acessando do segundo até o penúltimo elemento da lista\n",
        "print(\"Intervalo de 2 até o penúltimo(cores[2:-2])     :\",cores[2:-2])\n",
        "\n",
        "# Acessando o último elemento da lista\n",
        "print(\"Intervalo de fim até o último(cores[-1:])       :\",cores[-1:])\n",
        "\n",
        "# Acessando os dois últimos elementos da lista\n",
        "print(\"Intervalo de fim até os dois últimos(cores[-2:]):\",cores[-2:])"
      ],
      "execution_count": 5,
      "outputs": [
        {
          "output_type": "stream",
          "name": "stdout",
          "text": [
            "Intervalo de de todos(cores[:])                 : ['vermelho', 'azul', 'verde', 'amarelo', 'rosa', 'branco']\n",
            "Intervalo de 2 até 4(cores[2:4])                : ['verde', 'amarelo']\n",
            "Intervalo do início até 2(cores[:2])            : ['vermelho', 'azul']\n",
            "Intervalo início até o último(cores[:-1])       : ['vermelho', 'azul', 'verde', 'amarelo', 'rosa']\n",
            "Intervalo 0 até o último(cores[0:-1])           : ['vermelho', 'azul', 'verde', 'amarelo', 'rosa']\n",
            "Intervalo de início até o penúltimo(cores[:-2]) : ['vermelho', 'azul', 'verde', 'amarelo']\n",
            "Intervalo de 0 até o penúltimo(cores[:-2])      : ['vermelho', 'azul', 'verde', 'amarelo']\n",
            "Intervalo de 0 até o penúltimo(cores[0:-2])     : ['vermelho', 'azul', 'verde', 'amarelo']\n",
            "Intervalo de 2 até o penúltimo(cores[2:-2])     : ['verde', 'amarelo']\n",
            "Intervalo de fim até o último(cores[-1:])       : ['branco']\n",
            "Intervalo de fim até os dois últimos(cores[-2:]): ['rosa', 'branco']\n"
          ]
        }
      ]
    },
    {
      "cell_type": "markdown",
      "metadata": {
        "id": "L6p_1m9vk2Eo"
      },
      "source": [
        "## Atribuindo valores"
      ]
    },
    {
      "cell_type": "code",
      "metadata": {
        "id": "OUyBCzp8lKFZ",
        "colab": {
          "base_uri": "https://localhost:8080/"
        },
        "outputId": "c679ddf4-adc5-47d5-a4cb-2a5400a40831"
      },
      "source": [
        "# Declara e inicializa uma lista de cores\n",
        "cores = [\"vermelho\", \"azul\", \"verde\", \"amarelo\", \"rosa\", \"branco\"]\n",
        "\n",
        "# Atribuindo um novo valor para o primeiro elemento índice=0\n",
        "cores[0]  = \"marron\"\n",
        "\n",
        "# Atribuindo um novo valor para o último elemento índice=-1\n",
        "cores[-1] = \"preto\"\n",
        "\n",
        "# Mostra a lista\n",
        "print(cores)"
      ],
      "execution_count": 6,
      "outputs": [
        {
          "output_type": "stream",
          "name": "stdout",
          "text": [
            "['marron', 'azul', 'verde', 'amarelo', 'rosa', 'preto']\n"
          ]
        }
      ]
    },
    {
      "cell_type": "markdown",
      "metadata": {
        "id": "TS6fenV9yyHP"
      },
      "source": [
        "##Max e Min dos elementos das listas"
      ]
    },
    {
      "cell_type": "code",
      "metadata": {
        "id": "q-YPfwsayyZF",
        "colab": {
          "base_uri": "https://localhost:8080/"
        },
        "outputId": "1d766107-cbcc-44a3-f5c7-caff48ec6169"
      },
      "source": [
        "# Declara e inicializa uma lista de número\n",
        "lista = [10, 20, 30 , 40 , 50 , 60]\n",
        "\n",
        "menor = min(lista)\n",
        "maior = max(lista)\n",
        "\n",
        "# Mostra o menor\n",
        "print(menor)\n",
        "\n",
        "# Mostra o maior\n",
        "print(maior)"
      ],
      "execution_count": 7,
      "outputs": [
        {
          "output_type": "stream",
          "name": "stdout",
          "text": [
            "10\n",
            "60\n"
          ]
        }
      ]
    },
    {
      "cell_type": "markdown",
      "metadata": {
        "id": "gKgypxOH8-kS"
      },
      "source": [
        "## Tamanho das listas"
      ]
    },
    {
      "cell_type": "code",
      "metadata": {
        "id": "mZjI2Xsx9EpS",
        "colab": {
          "base_uri": "https://localhost:8080/"
        },
        "outputId": "6fb399ee-eb61-4efd-cedc-291a70054b56"
      },
      "source": [
        "# Declara e inicializa uma lista de número\n",
        "lista = [10, 20, 30 , 40 , 50 , 60]\n",
        "\n",
        "# O método len retorna a quantidade de elementos da lista\n",
        "tamanho = len(lista)\n",
        "\n",
        "# Mostra o tamanho\n",
        "print(tamanho)\n"
      ],
      "execution_count": 8,
      "outputs": [
        {
          "output_type": "stream",
          "name": "stdout",
          "text": [
            "6\n"
          ]
        }
      ]
    },
    {
      "cell_type": "markdown",
      "metadata": {
        "id": "ymqzP7bp3z8Q"
      },
      "source": [
        "## Exibindo listas"
      ]
    },
    {
      "cell_type": "markdown",
      "metadata": {
        "id": "VnCf0nAjkiaJ"
      },
      "source": [
        "### Listando tudo"
      ]
    },
    {
      "cell_type": "code",
      "metadata": {
        "id": "bhJ3cCYsGE6m",
        "colab": {
          "base_uri": "https://localhost:8080/"
        },
        "outputId": "8ce47a66-a07b-4ebc-f219-552a9db07272"
      },
      "source": [
        "# Declara e inicializa uma lista de cores\n",
        "cores = [\"vermelho\", \"azul\", \"verde\", \"amarelo\", \"rosa\", \"branco\"]\n",
        "\n",
        "# Percorre a lista de cores, o valor atual está em cor\n",
        "for cor in cores:\n",
        "    print(cor)"
      ],
      "execution_count": 9,
      "outputs": [
        {
          "output_type": "stream",
          "name": "stdout",
          "text": [
            "vermelho\n",
            "azul\n",
            "verde\n",
            "amarelo\n",
            "rosa\n",
            "branco\n"
          ]
        }
      ]
    },
    {
      "cell_type": "markdown",
      "metadata": {
        "id": "2KuGRyZlG8G0"
      },
      "source": [
        "###  Percorre sem exibir o primeiro e último elemento"
      ]
    },
    {
      "cell_type": "code",
      "metadata": {
        "id": "PUk23g8CG8G1",
        "colab": {
          "base_uri": "https://localhost:8080/"
        },
        "outputId": "094b394d-db49-42a7-83be-9e9591e10f31"
      },
      "source": [
        "# Declara e inicializa uma lista de cores\n",
        "cores = [\"vermelho\", \"azul\", \"verde\", \"amarelo\", \"rosa\", \"branco\"]\n",
        "\n",
        "# Percorre a lista de cores, o valor atual está em cor\n",
        "for cor in cores[1:-1]:\n",
        "    print(cor)"
      ],
      "execution_count": 10,
      "outputs": [
        {
          "output_type": "stream",
          "name": "stdout",
          "text": [
            "azul\n",
            "verde\n",
            "amarelo\n",
            "rosa\n"
          ]
        }
      ]
    },
    {
      "cell_type": "markdown",
      "metadata": {
        "id": "Ebgjd9kM85hp"
      },
      "source": [
        "### Percorre as listas de forma invertida"
      ]
    },
    {
      "cell_type": "code",
      "metadata": {
        "id": "88o8wdC68woL",
        "colab": {
          "base_uri": "https://localhost:8080/"
        },
        "outputId": "ca2e1d2b-f049-4c59-e262-57989253c5e8"
      },
      "source": [
        "# Declara e inicializa uma lista de cores\n",
        "cores = [\"vermelho\", \"azul\", \"verde\", \"amarelo\", \"rosa\", \"branco\"]\n",
        "\n",
        "# Percorre a lista de cores, o valor atual está em cor\n",
        "for cor in cores[::-1]:\n",
        "    print(cor)"
      ],
      "execution_count": 11,
      "outputs": [
        {
          "output_type": "stream",
          "name": "stdout",
          "text": [
            "branco\n",
            "rosa\n",
            "amarelo\n",
            "verde\n",
            "azul\n",
            "vermelho\n"
          ]
        }
      ]
    },
    {
      "cell_type": "markdown",
      "metadata": {
        "id": "okzpNteU3uhs"
      },
      "source": [
        "### Limitando a exibição sem índice"
      ]
    },
    {
      "cell_type": "code",
      "metadata": {
        "id": "tylksppD399H",
        "colab": {
          "base_uri": "https://localhost:8080/"
        },
        "outputId": "bf38a5e5-17e9-41fd-82f0-aa32ac6ac982"
      },
      "source": [
        "# Biblioteca para iteragir\n",
        "import itertools\n",
        "\n",
        "# Declara e inicializa uma lista de cores\n",
        "cores = [\"vermelho\", \"azul\", \"verde\", \"amarelo\", \"rosa\", \"branco\"]\n",
        "\n",
        "# Limite de dados a serem exibidos\n",
        "limite = 2\n",
        "\n",
        "# Percorre a lista de cores até o limite, o valor atual está em cor\n",
        "for cor in itertools.islice(cores, 0, limite):    \n",
        "    print(cor)"
      ],
      "execution_count": 12,
      "outputs": [
        {
          "output_type": "stream",
          "name": "stdout",
          "text": [
            "vermelho\n",
            "azul\n"
          ]
        }
      ]
    },
    {
      "cell_type": "markdown",
      "metadata": {
        "id": "YocA-8PD5FV7"
      },
      "source": [
        "### Limitando a exibição com índice 1\n",
        "\n",
        "Exemplo usando zip"
      ]
    },
    {
      "cell_type": "code",
      "metadata": {
        "id": "hYYeCwVI5HaB",
        "colab": {
          "base_uri": "https://localhost:8080/"
        },
        "outputId": "d5b88251-be55-481b-9b2f-31fe0c5e72a2"
      },
      "source": [
        "# Declara e inicializa uma lista de cores\n",
        "cores = [\"vermelho\", \"azul\", \"verde\", \"amarelo\", \"rosa\", \"branco\"]\n",
        "\n",
        "# Limite de dados a serem exibidos\n",
        "limite = 2\n",
        "\n",
        "# Percorre a lista de cores até o limite, o valor atual está em cor\n",
        "for index, cor in zip(range(limite), cores):\n",
        "    print(index, cor)"
      ],
      "execution_count": 13,
      "outputs": [
        {
          "output_type": "stream",
          "name": "stdout",
          "text": [
            "0 vermelho\n",
            "1 azul\n"
          ]
        }
      ]
    },
    {
      "cell_type": "markdown",
      "metadata": {
        "id": "qHhSY51t4dsr"
      },
      "source": [
        "### Limitando a exibição com índice 2\n",
        "\n",
        "Exemplo usando islice, necessita de import itertools"
      ]
    },
    {
      "cell_type": "code",
      "metadata": {
        "id": "dKfGDpaO4gbZ",
        "colab": {
          "base_uri": "https://localhost:8080/"
        },
        "outputId": "134f4d09-8bd0-4d23-f4fd-862e74f2e91a"
      },
      "source": [
        "# Biblioteca para iteragir\n",
        "import itertools\n",
        "\n",
        "# Declara e inicializa uma lista de cores\n",
        "cores = [\"vermelho\", \"azul\", \"verde\", \"amarelo\", \"rosa\", \"branco\"]\n",
        "\n",
        "# Limite de dados a serem exibidos\n",
        "limite = 2\n",
        "\n",
        "# Percorre a lista de cores até o limite, o valor atual está em cor\n",
        "for index, cor in enumerate(itertools.islice(cores, limite)):\n",
        "    print(index, cor)"
      ],
      "execution_count": 14,
      "outputs": [
        {
          "output_type": "stream",
          "name": "stdout",
          "text": [
            "0 vermelho\n",
            "1 azul\n"
          ]
        }
      ]
    },
    {
      "cell_type": "markdown",
      "metadata": {
        "id": "yzlq0V-mzAHt"
      },
      "source": [
        "## Similaridade de coseno com listas"
      ]
    },
    {
      "cell_type": "code",
      "metadata": {
        "id": "2eCu5fl_zAxj",
        "colab": {
          "base_uri": "https://localhost:8080/"
        },
        "outputId": "70b57bec-ed5a-4e8c-9804-04f4d662aca4"
      },
      "source": [
        "# Biblioteca de álgebra linear(matrizes)\n",
        "import numpy as np\n",
        "\n",
        "from scipy.spatial.distance import cosine\n",
        "\n",
        "A = np.array([0, 1, 2, 3]) \n",
        "B = np.array([0, 1, 2, 3]) \n",
        "\n",
        "C = cosine(A,B) \n",
        "\n",
        "print(\"A>\", A)\n",
        "print(\"B>\", B)\n",
        "print(\"C>\", C)\n",
        "\n",
        "D = np.array([0, 1, 4, 5]) \n",
        "E = cosine(A,D) \n",
        "\n",
        "print(\"A>\", A)\n",
        "print(\"D>\", D)\n",
        "print(\"E>\", E)"
      ],
      "execution_count": 15,
      "outputs": [
        {
          "output_type": "stream",
          "name": "stdout",
          "text": [
            "A> [0 1 2 3]\n",
            "B> [0 1 2 3]\n",
            "C> 0.0\n",
            "A> [0 1 2 3]\n",
            "D> [0 1 4 5]\n",
            "E> 0.010256681389212985\n"
          ]
        }
      ]
    },
    {
      "cell_type": "markdown",
      "metadata": {
        "id": "Bo5nSHcHkr5E"
      },
      "source": [
        "## Manutenção de listas\n",
        "\n",
        "http://excript.com/python/incluindo-alterando-excluindo-elementos-lista-python.html\n"
      ]
    },
    {
      "cell_type": "markdown",
      "metadata": {
        "id": "CZw2JxftmdGI"
      },
      "source": [
        "### Adicionando elementos"
      ]
    },
    {
      "cell_type": "code",
      "metadata": {
        "id": "mvaex6wOme4u",
        "colab": {
          "base_uri": "https://localhost:8080/"
        },
        "outputId": "35012511-8c5c-4935-e61f-350258f7fcef"
      },
      "source": [
        "# Declara e inicializa uma lista de cores\n",
        "cores = [\"vermelho\", \"azul\", \"verde\", \"amarelo\", \"rosa\", \"branco\"]\n",
        "\n",
        "# Mostra a lista\n",
        "print(cores)\n",
        "\n",
        "# Adicionando no final\n",
        "cores.append(\"marron\")\n",
        "\n",
        "# Mostra a lista\n",
        "print(cores)"
      ],
      "execution_count": 16,
      "outputs": [
        {
          "output_type": "stream",
          "name": "stdout",
          "text": [
            "['vermelho', 'azul', 'verde', 'amarelo', 'rosa', 'branco']\n",
            "['vermelho', 'azul', 'verde', 'amarelo', 'rosa', 'branco', 'marron']\n"
          ]
        }
      ]
    },
    {
      "cell_type": "markdown",
      "metadata": {
        "id": "Z9DHKSrtmrVR"
      },
      "source": [
        "### Inserindo elementos"
      ]
    },
    {
      "cell_type": "code",
      "metadata": {
        "id": "OkUXgF2zmryo",
        "colab": {
          "base_uri": "https://localhost:8080/"
        },
        "outputId": "63e1c7af-7995-49e4-8e75-61a86ee1b7a2"
      },
      "source": [
        "# Declara e inicializa uma lista de cores\n",
        "cores = [\"vermelho\", \"azul\", \"verde\", \"amarelo\", \"rosa\", \"branco\"]\n",
        "\n",
        "# Mostra a lista\n",
        "print(cores)\n",
        "\n",
        "# Adicionando na segunda posição(índice=1)\n",
        "cores.insert(1, \"marron\")\n",
        "\n",
        "# Mostra a lista\n",
        "print(cores)"
      ],
      "execution_count": 17,
      "outputs": [
        {
          "output_type": "stream",
          "name": "stdout",
          "text": [
            "['vermelho', 'azul', 'verde', 'amarelo', 'rosa', 'branco']\n",
            "['vermelho', 'marron', 'azul', 'verde', 'amarelo', 'rosa', 'branco']\n"
          ]
        }
      ]
    },
    {
      "cell_type": "markdown",
      "metadata": {
        "id": "JTZNNWl49XZf"
      },
      "source": [
        "### Adicionando múltiplos elementos"
      ]
    },
    {
      "cell_type": "code",
      "metadata": {
        "id": "MaCBet729Z7s",
        "colab": {
          "base_uri": "https://localhost:8080/"
        },
        "outputId": "75ec0784-5e03-4421-b59d-10caacb2f5b7"
      },
      "source": [
        "# Declara e inicializa uma lista de cores\n",
        "cores = [\"vermelho\", \"azul\", \"verde\", \"amarelo\", \"rosa\", \"branco\"]\n",
        "\n",
        "# Mostra a lista\n",
        "print(cores)\n",
        "\n",
        "# Adicionando na 2 elementos\n",
        "cores.extend([\"bege\",\"cinza\"])\n",
        "\n",
        "# Mostra a lista\n",
        "print(cores)"
      ],
      "execution_count": 18,
      "outputs": [
        {
          "output_type": "stream",
          "name": "stdout",
          "text": [
            "['vermelho', 'azul', 'verde', 'amarelo', 'rosa', 'branco']\n",
            "['vermelho', 'azul', 'verde', 'amarelo', 'rosa', 'branco', 'bege', 'cinza']\n"
          ]
        }
      ]
    },
    {
      "cell_type": "markdown",
      "metadata": {
        "id": "MHsbWu8Nm7FP"
      },
      "source": [
        "### Alterando elementos"
      ]
    },
    {
      "cell_type": "code",
      "metadata": {
        "id": "HiEcY0Irm9CM",
        "colab": {
          "base_uri": "https://localhost:8080/"
        },
        "outputId": "59cb9504-e9f6-47f9-a87d-3cfc86a3e441"
      },
      "source": [
        "# Declara e inicializa uma lista de cores\n",
        "cores = [\"vermelho\", \"azul\", \"verde\", \"amarelo\", \"rosa\", \"branco\"]\n",
        "\n",
        "# Mostra a lista\n",
        "print(cores)\n",
        "\n",
        "# Alterando o conteúdo da segunda posição(índice=1)\n",
        "cores[1] = \"marron\"\n",
        "\n",
        "# Mostra a lista\n",
        "print(cores)"
      ],
      "execution_count": 19,
      "outputs": [
        {
          "output_type": "stream",
          "name": "stdout",
          "text": [
            "['vermelho', 'azul', 'verde', 'amarelo', 'rosa', 'branco']\n",
            "['vermelho', 'marron', 'verde', 'amarelo', 'rosa', 'branco']\n"
          ]
        }
      ]
    },
    {
      "cell_type": "markdown",
      "metadata": {
        "id": "4QtUxGfIkulC"
      },
      "source": [
        "### Excluindo elementos pela índice\n"
      ]
    },
    {
      "cell_type": "code",
      "metadata": {
        "id": "r0O8ZTAllwLa",
        "colab": {
          "base_uri": "https://localhost:8080/"
        },
        "outputId": "c6331efe-f2b8-40e2-bd5b-ad67f114f18a"
      },
      "source": [
        "# Declara e inicializa uma lista de cores\n",
        "cores = [\"vermelho\", \"azul\", \"verde\", \"amarelo\", \"rosa\", \"branco\"]\n",
        "\n",
        "# Apagando primeiro\n",
        "del cores[0]\n",
        "\n",
        "# Mostra a lista\n",
        "print(cores)\n",
        "\n",
        "# Apagando último\n",
        "del cores[-1]\n",
        "\n",
        "# Mostra a lista\n",
        "print(cores)"
      ],
      "execution_count": 20,
      "outputs": [
        {
          "output_type": "stream",
          "name": "stdout",
          "text": [
            "['azul', 'verde', 'amarelo', 'rosa', 'branco']\n",
            "['azul', 'verde', 'amarelo', 'rosa']\n"
          ]
        }
      ]
    },
    {
      "cell_type": "markdown",
      "metadata": {
        "id": "SRyyiQV199MM"
      },
      "source": [
        "### Excluindo elementos pelo valor"
      ]
    },
    {
      "cell_type": "code",
      "metadata": {
        "id": "sRIBu3xZ99h8",
        "colab": {
          "base_uri": "https://localhost:8080/"
        },
        "outputId": "605c6e87-f831-432c-bbe5-52d2a89fcf88"
      },
      "source": [
        "# Declara e inicializa uma lista de cores\n",
        "cores = [\"vermelho\", \"azul\", \"verde\", \"amarelo\", \"rosa\", \"branco\"]\n",
        "\n",
        "# Mostra a lista\n",
        "print(cores)\n",
        "\n",
        "# Apagando o elemento azul\n",
        "cores.remove(\"azul\")\n",
        "\n",
        "# Mostra a lista\n",
        "print(cores)"
      ],
      "execution_count": 21,
      "outputs": [
        {
          "output_type": "stream",
          "name": "stdout",
          "text": [
            "['vermelho', 'azul', 'verde', 'amarelo', 'rosa', 'branco']\n",
            "['vermelho', 'verde', 'amarelo', 'rosa', 'branco']\n"
          ]
        }
      ]
    },
    {
      "cell_type": "markdown",
      "metadata": {
        "id": "TXEVFZgLnaNX"
      },
      "source": [
        "### Excluindo intervalo de elementos"
      ]
    },
    {
      "cell_type": "code",
      "metadata": {
        "id": "XVuE5GTMnclH",
        "colab": {
          "base_uri": "https://localhost:8080/"
        },
        "outputId": "fa33f449-cbe1-44c0-cd1b-fabb33c9c557"
      },
      "source": [
        "# Declara e inicializa uma lista de cores\n",
        "cores = [\"vermelho\", \"azul\", \"verde\", \"amarelo\", \"rosa\", \"branco\"]\n",
        "\n",
        "# Mostra a lista\n",
        "print(cores)\n",
        "\n",
        "# Apagando os elementos do intervalo de 1(segundo) até 4(quinto)\n",
        "del (cores[1:4])\n",
        "\n",
        "# Mostra a lista\n",
        "print(cores)"
      ],
      "execution_count": 22,
      "outputs": [
        {
          "output_type": "stream",
          "name": "stdout",
          "text": [
            "['vermelho', 'azul', 'verde', 'amarelo', 'rosa', 'branco']\n",
            "['vermelho', 'rosa', 'branco']\n"
          ]
        }
      ]
    },
    {
      "cell_type": "markdown",
      "metadata": {
        "id": "X8nv8tl4nLG1"
      },
      "source": [
        "### Excluindo todos os elementos"
      ]
    },
    {
      "cell_type": "code",
      "metadata": {
        "id": "fdSYfk-NnQHQ",
        "colab": {
          "base_uri": "https://localhost:8080/"
        },
        "outputId": "1fa645bf-4605-419d-cda5-41ba232249f7"
      },
      "source": [
        "# Declara e inicializa uma lista de cores\n",
        "cores = [\"vermelho\", \"azul\", \"verde\", \"amarelo\", \"rosa\", \"branco\"]\n",
        "\n",
        "# Mostra a lista\n",
        "print(cores)\n",
        "\n",
        "# Apagando todos os elementos\n",
        "cores.clear()\n",
        "\n",
        "# Mostra a lista\n",
        "print(cores)"
      ],
      "execution_count": 23,
      "outputs": [
        {
          "output_type": "stream",
          "name": "stdout",
          "text": [
            "['vermelho', 'azul', 'verde', 'amarelo', 'rosa', 'branco']\n",
            "[]\n"
          ]
        }
      ]
    },
    {
      "cell_type": "markdown",
      "metadata": {
        "id": "QB3leiM6g9BU"
      },
      "source": [
        "### Concatenando os dados de uma lista"
      ]
    },
    {
      "cell_type": "code",
      "metadata": {
        "colab": {
          "base_uri": "https://localhost:8080/"
        },
        "id": "PFK6VIZohDl_",
        "outputId": "cf27be2e-2e73-4119-e7e4-00ed3aec17cf"
      },
      "source": [
        "# Declara e inicializa uma lista de cores\n",
        "cores = [\"vermelho\", \"azul\", \"verde\"]\n",
        "\n",
        "# Mostra a lista\n",
        "print(cores)\n",
        "\n",
        "# Concatena os dados da listas\n",
        "soma = \" \".join(cores)\n",
        "\n",
        "# Mostra a lista\n",
        "print(soma)"
      ],
      "execution_count": 24,
      "outputs": [
        {
          "output_type": "stream",
          "name": "stdout",
          "text": [
            "['vermelho', 'azul', 'verde']\n",
            "vermelho azul verde\n"
          ]
        }
      ]
    },
    {
      "cell_type": "markdown",
      "metadata": {
        "id": "MBhRrcqhZQcZ"
      },
      "source": [
        "### Concatenando duas listas"
      ]
    },
    {
      "cell_type": "code",
      "metadata": {
        "id": "mzXpt4p2ZQca",
        "colab": {
          "base_uri": "https://localhost:8080/"
        },
        "outputId": "0900929e-648f-4c6a-daee-f4f8c29765f9"
      },
      "source": [
        "# Declara e inicializa uma lista de cores\n",
        "cores1 = [\"vermelho\", \"azul\", \"verde\"]\n",
        "cores2 = [\"amarelo\", \"rosa\", \"branco\"]\n",
        "\n",
        "# Mostra as listas\n",
        "print(cores1)\n",
        "print(cores2)\n",
        "\n",
        "# Concatena as duas listas\n",
        "soma = cores1 + cores2\n",
        "\n",
        "# Mostra a lista\n",
        "print(soma)"
      ],
      "execution_count": 25,
      "outputs": [
        {
          "output_type": "stream",
          "name": "stdout",
          "text": [
            "['vermelho', 'azul', 'verde']\n",
            "['amarelo', 'rosa', 'branco']\n",
            "['vermelho', 'azul', 'verde', 'amarelo', 'rosa', 'branco']\n"
          ]
        }
      ]
    },
    {
      "cell_type": "markdown",
      "metadata": {
        "id": "OTKzy2EOb5tw"
      },
      "source": [
        "### Ordenando listas de números(sort)"
      ]
    },
    {
      "cell_type": "code",
      "metadata": {
        "id": "eewTzk0Xb58D",
        "colab": {
          "base_uri": "https://localhost:8080/"
        },
        "outputId": "4e55accc-3cd5-47ae-bbc6-edc7bf09c32b"
      },
      "source": [
        "# Declara e inicializa uma lista de números\n",
        "lista = [50, 40, 30, 20, 10]\n",
        "\n",
        "# Mostra a lista\n",
        "print(lista)\n",
        "\n",
        "#ordena a lista\n",
        "lista.sort()\n",
        "\n",
        "# Mostra a lista\n",
        "print(lista)"
      ],
      "execution_count": 26,
      "outputs": [
        {
          "output_type": "stream",
          "name": "stdout",
          "text": [
            "[50, 40, 30, 20, 10]\n",
            "[10, 20, 30, 40, 50]\n"
          ]
        }
      ]
    },
    {
      "cell_type": "markdown",
      "metadata": {
        "id": "BFb7QnQ9Du1b"
      },
      "source": [
        "### Ordenando listas de números(sorted)"
      ]
    },
    {
      "cell_type": "code",
      "metadata": {
        "colab": {
          "base_uri": "https://localhost:8080/"
        },
        "id": "TUG1y7JmDu1b",
        "outputId": "7480a183-db50-4995-a25b-dc4782c80e04"
      },
      "source": [
        "# Declara e inicializa uma lista de números\n",
        "lista = [50, 40, 30, 20, 10]\n",
        "\n",
        "# Mostra a lista\n",
        "print(lista)\n",
        "\n",
        "#ordena a lista\n",
        "listaOrdenada = sorted(lista)\n",
        "\n",
        "# Mostra a lista ordenada\n",
        "print(listaOrdenada)"
      ],
      "execution_count": 27,
      "outputs": [
        {
          "output_type": "stream",
          "name": "stdout",
          "text": [
            "[50, 40, 30, 20, 10]\n",
            "[10, 20, 30, 40, 50]\n"
          ]
        }
      ]
    },
    {
      "cell_type": "markdown",
      "metadata": {
        "id": "Zu4gSAyzcPlB"
      },
      "source": [
        "### Ordenando listas de literais (sort)"
      ]
    },
    {
      "cell_type": "code",
      "metadata": {
        "id": "fH6BPGBqcPlB",
        "colab": {
          "base_uri": "https://localhost:8080/"
        },
        "outputId": "c1bcee44-36d3-4b9d-bfe3-0aad1175f4d1"
      },
      "source": [
        "# Declara e inicializa uma lista de literais\n",
        "lista = [\"cinquenta\", \"quarenta\", \"trinta\", \"vinta\", \"dez\"]\n",
        "\n",
        "# Mostra a lista\n",
        "print(lista)\n",
        "\n",
        "#ordena a lista\n",
        "lista.sort()\n",
        "\n",
        "# Mostra a lista\n",
        "print(lista)"
      ],
      "execution_count": 28,
      "outputs": [
        {
          "output_type": "stream",
          "name": "stdout",
          "text": [
            "['cinquenta', 'quarenta', 'trinta', 'vinta', 'dez']\n",
            "['cinquenta', 'dez', 'quarenta', 'trinta', 'vinta']\n"
          ]
        }
      ]
    },
    {
      "cell_type": "markdown",
      "metadata": {
        "id": "5o1MsVkIDhdE"
      },
      "source": [
        "### Ordenando listas de literais (sorted)"
      ]
    },
    {
      "cell_type": "code",
      "metadata": {
        "colab": {
          "base_uri": "https://localhost:8080/"
        },
        "id": "HALsAB0-DhdF",
        "outputId": "2baba70d-4eb4-4ccd-8cb9-cfe8318610a8"
      },
      "source": [
        "# Declara e inicializa uma lista de literais\n",
        "lista = [\"cinquenta\", \"quarenta\", \"trinta\", \"vinta\", \"dez\"]\n",
        "\n",
        "# Mostra a lista\n",
        "print(lista)\n",
        "\n",
        "#ordena a lista\n",
        "listaOrdenada = sorted(lista)\n",
        "\n",
        "# Mostra a lista ordenada\n",
        "print(listaOrdenada)"
      ],
      "execution_count": 29,
      "outputs": [
        {
          "output_type": "stream",
          "name": "stdout",
          "text": [
            "['cinquenta', 'quarenta', 'trinta', 'vinta', 'dez']\n",
            "['cinquenta', 'dez', 'quarenta', 'trinta', 'vinta']\n"
          ]
        }
      ]
    },
    {
      "cell_type": "markdown",
      "metadata": {
        "id": "wq1-VV1KEhUK"
      },
      "source": [
        "### Ordenando listas de listas (sorted)\n",
        "\n",
        "Ordena uma lista por determinado valor de uma sublista"
      ]
    },
    {
      "cell_type": "code",
      "metadata": {
        "colab": {
          "base_uri": "https://localhost:8080/"
        },
        "outputId": "20c74ad8-e693-47e6-854e-03f620b16526",
        "id": "99kpY1YlEhUL"
      },
      "source": [
        "# Declara e inicializa uma lista de literais\n",
        "lista = [[2,\"João\", 130],\n",
        "         [3,\"Pedro\", 420],\n",
        "         [1,\"Maria\", 520],\n",
        "         [5,\"Luiz\", 100],\n",
        "         [4,\"Antônio\", 80],\n",
        "        ]\n",
        "\n",
        "# Mostra a lista\n",
        "print(lista)\n",
        "\n",
        "#ordena a lista pelo id (0), \"reverse=False\" é opcional\n",
        "listaOrdenada = sorted(lista, key=lambda x: x[0], reverse=False)\n",
        "\n",
        "# Mostra a lista ordenada\n",
        "print(listaOrdenada)\n",
        "\n",
        "#ordena a lista pelo valor (2), \"reverse=False\" é opcional\n",
        "listaOrdenada = sorted(lista, key=lambda x: x[2], reverse=False)\n",
        "\n",
        "# Mostra a lista ordenada\n",
        "print(listaOrdenada)"
      ],
      "execution_count": 30,
      "outputs": [
        {
          "output_type": "stream",
          "name": "stdout",
          "text": [
            "[[2, 'João', 130], [3, 'Pedro', 420], [1, 'Maria', 520], [5, 'Luiz', 100], [4, 'Antônio', 80]]\n",
            "[[1, 'Maria', 520], [2, 'João', 130], [3, 'Pedro', 420], [4, 'Antônio', 80], [5, 'Luiz', 100]]\n",
            "[[4, 'Antônio', 80], [5, 'Luiz', 100], [2, 'João', 130], [3, 'Pedro', 420], [1, 'Maria', 520]]\n"
          ]
        }
      ]
    },
    {
      "cell_type": "markdown",
      "metadata": {
        "id": "QFJLexjRdMVy"
      },
      "source": [
        "### Procurando valores nas listas"
      ]
    },
    {
      "cell_type": "code",
      "metadata": {
        "id": "6dNlQ3OSdMVz",
        "colab": {
          "base_uri": "https://localhost:8080/"
        },
        "outputId": "0412e2a2-a0c9-4b08-f114-b77f7b2ab9c3"
      },
      "source": [
        "# Declara e inicializa uma lista de números\n",
        "lista = [10, 20, 30, 40, 50]\n",
        "\n",
        "# Mostra a lista\n",
        "print(lista)\n",
        "\n",
        "# Verifica a existência de 10 na lista\n",
        "print(10 in lista)\n",
        "\n",
        "# Verifica a existência de 20 na lista\n",
        "if (20 in lista):\n",
        "  print(\"20 existe na lista\")"
      ],
      "execution_count": 31,
      "outputs": [
        {
          "output_type": "stream",
          "name": "stdout",
          "text": [
            "[10, 20, 30, 40, 50]\n",
            "True\n",
            "20 existe na lista\n"
          ]
        }
      ]
    },
    {
      "cell_type": "markdown",
      "metadata": {
        "id": "IPU46C_Dd1QP"
      },
      "source": [
        "### Criando lista com determinados valores"
      ]
    },
    {
      "cell_type": "code",
      "metadata": {
        "id": "oK7nObo9d1QQ",
        "colab": {
          "base_uri": "https://localhost:8080/"
        },
        "outputId": "451701e9-e3d5-4fda-9c0a-78f479e21255"
      },
      "source": [
        "# Declara e inicializa uma lista de números\n",
        "lista = [1, 2, 3, 4, 5]\n",
        "\n",
        "# Mostra a lista\n",
        "print(lista)\n",
        "\n",
        "# Cria uma outra lista com os números pares\n",
        "lista_par = [elemento for elemento in lista if elemento % 2 == 0]\n",
        "\n",
        "# Mostra a lista par\n",
        "print(lista_par)\n"
      ],
      "execution_count": 32,
      "outputs": [
        {
          "output_type": "stream",
          "name": "stdout",
          "text": [
            "[1, 2, 3, 4, 5]\n",
            "[2, 4]\n"
          ]
        }
      ]
    },
    {
      "cell_type": "markdown",
      "metadata": {
        "id": "VzBkqboX6FuR"
      },
      "source": [
        "### Criando cópias de listas"
      ]
    },
    {
      "cell_type": "code",
      "metadata": {
        "id": "uuvkEn2t6FuU",
        "colab": {
          "base_uri": "https://localhost:8080/"
        },
        "outputId": "ba053ed5-e236-4a69-9b3a-c313aabbdca3"
      },
      "source": [
        "# Declara e inicializa uma lista de números\n",
        "lista1 = [1, 2, 3, 4, 5]\n",
        "\n",
        "# Mostra a lista\n",
        "print(\"Lista1 antes da cópia com \\\"=\\\" :\\n\",lista1)\n",
        "\n",
        "# A cópia com \"=\" cria uma referência para lista1 em lista2\n",
        "lista2 = lista1\n",
        "\n",
        "# Apagando primeiro da lista1 é a mesma coisa que apagar da lista2\n",
        "del lista1[0]\n",
        "\n",
        "# Mostra a lista1\n",
        "print(\"Lista1:\\n\",lista1)\n",
        "\n",
        "# Mostra a lista2\n",
        "print(\"Lista2:\\n\",lista2)\n",
        "\n",
        "#======================================================\n",
        "# Declara e inicializa uma lista de números\n",
        "lista1 = [1, 2, 3, 4, 5]\n",
        "\n",
        "# Mostra a lista\n",
        "print(\"Lista1 antes da cópia com \\\"copy()\\\" :\\n\",lista1)\n",
        "\n",
        "# Para copiar uma lista é necessário utilizar o método copy\n",
        "lista2 = lista1.copy()\n",
        "\n",
        "# Apagando primeiro da lista1 \n",
        "del lista1[0]\n",
        "\n",
        "# Mostra a lista1\n",
        "print(\"Lista1:\\n\",lista1)\n",
        "\n",
        "# Mostra a lista2\n",
        "print(\"Lista2:\\n\",lista2)"
      ],
      "execution_count": 33,
      "outputs": [
        {
          "output_type": "stream",
          "name": "stdout",
          "text": [
            "Lista1 antes da cópia com \"=\" :\n",
            " [1, 2, 3, 4, 5]\n",
            "Lista1:\n",
            " [2, 3, 4, 5]\n",
            "Lista2:\n",
            " [2, 3, 4, 5]\n",
            "Lista1 antes da cópia com \"copy()\" :\n",
            " [1, 2, 3, 4, 5]\n",
            "Lista1:\n",
            " [2, 3, 4, 5]\n",
            "Lista2:\n",
            " [1, 2, 3, 4, 5]\n"
          ]
        }
      ]
    },
    {
      "cell_type": "markdown",
      "metadata": {
        "id": "Uo7TghpB_itL"
      },
      "source": [
        "### Criando lista preenchida com números\n",
        "\n",
        "0 - início do intervalo\n",
        "10 - final do intervalo"
      ]
    },
    {
      "cell_type": "code",
      "metadata": {
        "colab": {
          "base_uri": "https://localhost:8080/"
        },
        "id": "NgoS0PEH_itM",
        "outputId": "152cb2fc-7549-4d48-c8ac-b43260c996c2"
      },
      "source": [
        "# Declara e inicializa uma lista de números\n",
        "lista1 = list(range(0, 10))\n",
        "\n",
        "# Mostra a lista1\n",
        "print(\"Lista1:\\n\",lista1)"
      ],
      "execution_count": 34,
      "outputs": [
        {
          "output_type": "stream",
          "name": "stdout",
          "text": [
            "Lista1:\n",
            " [0, 1, 2, 3, 4, 5, 6, 7, 8, 9]\n"
          ]
        }
      ]
    },
    {
      "cell_type": "markdown",
      "metadata": {
        "id": "pummAH-dM1c7"
      },
      "source": [
        "### Gerando as permutações de uma lista de inteiros\n",
        "\n"
      ]
    },
    {
      "cell_type": "code",
      "metadata": {
        "colab": {
          "base_uri": "https://localhost:8080/"
        },
        "id": "QV5i_8N2M1dG",
        "outputId": "19ded7e5-7579-423f-9fb7-490042a13ec9"
      },
      "source": [
        "# Biblioteca para gerar as permutações\n",
        "import itertools\n",
        "\n",
        "# Declara e inicializa uma lista de números\n",
        "lista1 = [1,2,3]\n",
        "\n",
        "# Retorna uma lista com as permutações da lista1\n",
        "permutacao = list(itertools.permutations(lista1))\n",
        "\n",
        "# Mostra a lista1\n",
        "print(\"Lista1:\\n\",lista1)\n",
        "\n",
        "# Mostra a permutacao\n",
        "print(\"Permutacao:\\n\",permutacao)"
      ],
      "execution_count": 35,
      "outputs": [
        {
          "output_type": "stream",
          "name": "stdout",
          "text": [
            "Lista1:\n",
            " [1, 2, 3]\n",
            "Permutacao:\n",
            " [(1, 2, 3), (1, 3, 2), (2, 1, 3), (2, 3, 1), (3, 1, 2), (3, 2, 1)]\n"
          ]
        }
      ]
    },
    {
      "cell_type": "markdown",
      "metadata": {
        "id": "N0R-kd5hNa7A"
      },
      "source": [
        "### Gerando as permutações de uma lista de strings\n",
        "\n"
      ]
    },
    {
      "cell_type": "code",
      "metadata": {
        "colab": {
          "base_uri": "https://localhost:8080/"
        },
        "id": "PU0IAjixNa7A",
        "outputId": "5ecd417f-f55e-49fe-92c4-86af1e722296"
      },
      "source": [
        "# Biblioteca para gerar as permutações\n",
        "import itertools\n",
        "\n",
        "# Declara e inicializa uma lista de strings\n",
        "lista1 = [\"uva\",\"laranja\",\"banana\"]\n",
        "\n",
        "# Retorna uma lista com as permutações da lista1\n",
        "permutacao = list(itertools.permutations(lista1))\n",
        "\n",
        "# Mostra a lista1\n",
        "print(\"Lista1:\\n\",lista1)\n",
        "\n",
        "# Mostra a permutacao\n",
        "print(\"Permutacao:\\n\",permutacao)"
      ],
      "execution_count": 36,
      "outputs": [
        {
          "output_type": "stream",
          "name": "stdout",
          "text": [
            "Lista1:\n",
            " ['uva', 'laranja', 'banana']\n",
            "Permutacao:\n",
            " [('uva', 'laranja', 'banana'), ('uva', 'banana', 'laranja'), ('laranja', 'uva', 'banana'), ('laranja', 'banana', 'uva'), ('banana', 'uva', 'laranja'), ('banana', 'laranja', 'uva')]\n"
          ]
        }
      ]
    },
    {
      "cell_type": "markdown",
      "metadata": {
        "id": "yETUcyIrjOKf"
      },
      "source": [
        "### Gerando as permutações de uma lista de strings com função"
      ]
    },
    {
      "cell_type": "code",
      "metadata": {
        "colab": {
          "base_uri": "https://localhost:8080/"
        },
        "id": "tqOyIUXhjZwN",
        "outputId": "4d4259e2-54fd-4a0f-809f-dfff59ff8223"
      },
      "source": [
        "# Biblioteca para gerar números aleatórios\n",
        "import random\n",
        "import math\n",
        "\n",
        "def geraPermutacao(lista):\n",
        "    # Conjunto para tratar as repetições\n",
        "    conjunto = set()\n",
        "    # Tamanho da lista\n",
        "    tamanhoLista = len(lista)\n",
        "    # Adiciona o conjunto inicial \n",
        "    inicio = tuple(lista)\n",
        "    while True:\n",
        "        # Gera uma permutação aleatória da lista\n",
        "        permutado = tuple(random.sample(lista, tamanhoLista))\n",
        "        # Permutado diferente de qualquer elemento do conjunto ou da lista\n",
        "        if permutado not in conjunto and permutado != inicio:\n",
        "            # Adiciona no conjunto\n",
        "            conjunto.add(permutado)         \n",
        "            yield permutado\n",
        "\n",
        "def geradorPermutacao(lista, qtde):\n",
        "    # Lista para retornar as permutações\n",
        "    listaR = []\n",
        "    # Verifica a quantidade de permutações possíveis\n",
        "    if qtde <= math.factorial(len(lista)):\n",
        "      # Gera as permutações    \n",
        "      listaP = geraPermutacao(lista)\n",
        "      # Seleciona qtde-1 permutações\n",
        "      listaP = [next(listaP) for _ in range(qtde-1)]\n",
        "      # Converte em uma lista de lista, pois é uma lista de tuplas\n",
        "      listaR = [list(x) for x in listaP]\n",
        "      # Adiciona o primeiro elemento na lista\n",
        "      listaR.insert(0,lista)\n",
        "    else:\n",
        "      print(\"A quantidade de permutações deve ser menor ou igual ao fatorial do tamanho da lista\")\n",
        "    return listaR\n",
        "\n",
        "# Declara e inicializa uma lista de strings\n",
        "lista1 = [\"uva\",\"laranja\",\"banana\"]\n",
        "\n",
        "# Retorna uma lista com as permutações da lista1\n",
        "permutacao = geradorPermutacao(lista1,6)\n",
        "\n",
        "# Mostra a lista1\n",
        "print(\"Lista1:\\n\",lista1)\n",
        "\n",
        "# Mostra a permutacao\n",
        "print(\"Permutacao:\\n\",permutacao)"
      ],
      "execution_count": 37,
      "outputs": [
        {
          "output_type": "stream",
          "name": "stdout",
          "text": [
            "Lista1:\n",
            " ['uva', 'laranja', 'banana']\n",
            "Permutacao:\n",
            " [['uva', 'laranja', 'banana'], ['banana', 'laranja', 'uva'], ['laranja', 'banana', 'uva'], ['laranja', 'uva', 'banana'], ['uva', 'banana', 'laranja'], ['banana', 'uva', 'laranja']]\n"
          ]
        }
      ]
    },
    {
      "cell_type": "markdown",
      "metadata": {
        "id": "0IIpfGj-T5jF"
      },
      "source": [
        "### Encontrando uma sublista em uma lista"
      ]
    },
    {
      "cell_type": "code",
      "metadata": {
        "id": "eZKAgdjgT5wP"
      },
      "source": [
        "# Localiza os índices de início e fim de uma sublista em uma lista\n",
        "def encontrarIndiceSubLista(lista, sublista):\n",
        "    # https://en.wikipedia.org/wiki/Boyer%E2%80%93Moore%E2%80%93Horspool_algorithm\n",
        "    h = len(lista)\n",
        "    n = len(sublista)\n",
        "    skip = {sublista[i]: n - i - 1 for i in range(n - 1)}\n",
        "    i = n - 1\n",
        "    while i < h:\n",
        "        for j in range(n):\n",
        "            if lista[i - j] != sublista[-j - 1]:\n",
        "                i += skip.get(lista[i], n)\n",
        "                break\n",
        "        else:\n",
        "            indiceInicio = i - n + 1\n",
        "            indiceFim = indiceInicio + len(sublista)-1\n",
        "            return indiceInicio, indiceFim\n",
        "    return -1, -1"
      ],
      "execution_count": 38,
      "outputs": []
    },
    {
      "cell_type": "code",
      "source": [
        "lista = [1,2,3,4,5,6,7]\n",
        "sublista = [3,4,5]\n",
        "\n",
        "indiceInicio, indiceFim = encontrarIndiceSubLista(lista, sublista)\n",
        "\n",
        "print(indiceInicio, indiceFim)"
      ],
      "metadata": {
        "colab": {
          "base_uri": "https://localhost:8080/"
        },
        "id": "sxHQ5M98QWlh",
        "outputId": "28734daa-1e32-4952-d0de-a9d00fa293f8"
      },
      "execution_count": 39,
      "outputs": [
        {
          "output_type": "stream",
          "name": "stdout",
          "text": [
            "2 4\n"
          ]
        }
      ]
    },
    {
      "cell_type": "markdown",
      "source": [
        "### Conta um determinado elemento em uma lista"
      ],
      "metadata": {
        "id": "YzUwbLg0QsEm"
      }
    },
    {
      "cell_type": "code",
      "source": [
        "def contaElemento(lista, elemento):\n",
        "    \"\"\" \n",
        "      Conta o número de ocorrências do elemento na lista.\n",
        "          \n",
        "      Parâmetros:\n",
        "        `lista` - Lista com os elementos.\n",
        "        `elemento` - Elemento a ser contado a ocorrência na lista.\n",
        "\n",
        "      Retorno:    \n",
        "        `cont` - Quantidade de ocorrências de elmento na lista.\n",
        "    \"\"\"\n",
        "    cont = 0\n",
        "    # Percorre a lista\n",
        "    for i, linha in enumerate(lista):      \n",
        "      # Verifica se o elemento existe na lista\n",
        "      if linha in elemento:\n",
        "        # conta o elemento\n",
        "        cont = cont + 1\n",
        "    return cont"
      ],
      "metadata": {
        "id": "ER-hypv9QyBh"
      },
      "execution_count": 40,
      "outputs": []
    },
    {
      "cell_type": "code",
      "source": [
        "lista = [1,2,2,3,3,3,4,4,5]\n",
        "\n",
        "conta = contaElemento(lista, [2])\n",
        "\n",
        "print(conta)"
      ],
      "metadata": {
        "colab": {
          "base_uri": "https://localhost:8080/"
        },
        "id": "hnlqcbDAQyNQ",
        "outputId": "6800e190-cc96-495a-fe8a-1363c54a4689"
      },
      "execution_count": 41,
      "outputs": [
        {
          "output_type": "stream",
          "name": "stdout",
          "text": [
            "2\n"
          ]
        }
      ]
    },
    {
      "cell_type": "markdown",
      "metadata": {
        "id": "h-tCU1iqlfMP"
      },
      "source": [
        "## Frequência de elementos em uma lista gerando dicionário"
      ]
    },
    {
      "cell_type": "code",
      "metadata": {
        "colab": {
          "base_uri": "https://localhost:8080/"
        },
        "id": "0f6mJbqelfVW",
        "outputId": "960e26a5-939b-4ec2-b4f2-1a3c4a86b8fc"
      },
      "source": [
        "# Biblioteca para gerar a frequência\n",
        "import collections\n",
        "\n",
        "# Lista dos dados\n",
        "lista = [1,1,1,1,2,2,2,3,3,3]\n",
        "\n",
        "# Recupera a frequência da lista retornando um dicionario\n",
        "conjunto = collections.Counter(lista)\n",
        "print(conjunto)\n",
        "\n",
        "# Lista os valores e a frequência\n",
        "for chave, valor in conjunto.items():\n",
        "  print(\"chave=\",chave,\" valor=\", valor)"
      ],
      "execution_count": 42,
      "outputs": [
        {
          "output_type": "stream",
          "name": "stdout",
          "text": [
            "Counter({1: 4, 2: 3, 3: 3})\n",
            "chave= 1  valor= 4\n",
            "chave= 2  valor= 3\n",
            "chave= 3  valor= 3\n"
          ]
        }
      ]
    },
    {
      "cell_type": "markdown",
      "metadata": {
        "id": "Xx3TA_qEZ-dD"
      },
      "source": [
        "## Frequência de elementos em uma lista gerando lista\n",
        "\n"
      ]
    },
    {
      "cell_type": "code",
      "metadata": {
        "colab": {
          "base_uri": "https://localhost:8080/"
        },
        "id": "T2qN7wxcZ-dF",
        "outputId": "b92429ac-f22f-40a5-c391-d265c809896e"
      },
      "source": [
        "# Biblioteca para gerar a frequência\n",
        "import collections\n",
        "\n",
        "# Lista dos dados\n",
        "lista = [1,1,1,1,2,2,2,3,3,3]\n",
        "\n",
        "# Recupera a frequência da lista retornando um dicionario\n",
        "conjunto = collections.Counter(lista)\n",
        "print(conjunto)\n",
        "\n",
        "lista_frequencia = []\n",
        "# Lista os valores e a frequência\n",
        "for chave, valor in conjunto.items():\n",
        "  lista_frequencia.append([chave,valor])\n",
        "  \n",
        "# Lista os valores e a frequência\n",
        "for i, linha in enumerate(lista_frequencia):\n",
        "  print(linha)"
      ],
      "execution_count": 43,
      "outputs": [
        {
          "output_type": "stream",
          "name": "stdout",
          "text": [
            "Counter({1: 4, 2: 3, 3: 3})\n",
            "[1, 4]\n",
            "[2, 3]\n",
            "[3, 3]\n"
          ]
        }
      ]
    },
    {
      "cell_type": "markdown",
      "metadata": {
        "id": "u87Nm6Tue0Az"
      },
      "source": [
        "## Frequência de elementos em uma lista com base fixa\n",
        "\n",
        "Conta a frequência dos elementos de uma lista e gera um dicionário com as quantidades.\n",
        "Usa um conjunto base para chaves para identificar o valor."
      ]
    },
    {
      "cell_type": "code",
      "metadata": {
        "colab": {
          "base_uri": "https://localhost:8080/"
        },
        "outputId": "fdaf89a1-0cd0-4dd8-a977-2c790f1311d7",
        "id": "o4Kk1EJ0e0Az"
      },
      "source": [
        "# Biblioteca para gerar a frequência\n",
        "import collections\n",
        "\n",
        "# Lista dos dados\n",
        "lista = [1,1,1,1,2,2,2,3,3,3]\n",
        "\n",
        "# Conjunto base\n",
        "conjunto = {1:0, 2:0, 3:0, 4:0}\n",
        "\n",
        "for x in lista:\n",
        "  valor = conjunto.get(x)\n",
        "  conjunto[x] = valor + 1\n",
        "\n",
        "print(conjunto)\n",
        "\n",
        "# Lista os valores e a frequência\n",
        "for chave, valor in conjunto.items():\n",
        "  print(\"chave=\",chave,\" valor=\", valor)"
      ],
      "execution_count": 44,
      "outputs": [
        {
          "output_type": "stream",
          "name": "stdout",
          "text": [
            "{1: 4, 2: 3, 3: 3, 4: 0}\n",
            "chave= 1  valor= 4\n",
            "chave= 2  valor= 3\n",
            "chave= 3  valor= 3\n",
            "chave= 4  valor= 0\n"
          ]
        }
      ]
    },
    {
      "cell_type": "markdown",
      "metadata": {
        "id": "wGYnCtY1kp3j"
      },
      "source": [
        "## Lista de lista"
      ]
    },
    {
      "cell_type": "markdown",
      "metadata": {
        "id": "gecruyNzkv-t"
      },
      "source": [
        "### Declarando e listando"
      ]
    },
    {
      "cell_type": "code",
      "metadata": {
        "id": "aFGwLBdokzoc",
        "colab": {
          "base_uri": "https://localhost:8080/"
        },
        "outputId": "66a4670f-bbc4-4167-f1d1-750541120dfa"
      },
      "source": [
        "# Declaração\n",
        "lista = [[1,\"joão\"],[2,\"maria\"],[3,\"pedro\"],[4,\"josé\"]]\n",
        "\n",
        "# Tamanho da lista\n",
        "print(\"Tamanho da lista:\", len(lista))\n",
        "\n",
        "# Mostrando a lista\n",
        "for linha1 in lista:\n",
        "   print(linha1[0], linha1[1])\n",
        "   for linha2 in linha1:\n",
        "      print(\"   \", linha2)"
      ],
      "execution_count": 45,
      "outputs": [
        {
          "output_type": "stream",
          "name": "stdout",
          "text": [
            "Tamanho da lista: 4\n",
            "1 joão\n",
            "    1\n",
            "    joão\n",
            "2 maria\n",
            "    2\n",
            "    maria\n",
            "3 pedro\n",
            "    3\n",
            "    pedro\n",
            "4 josé\n",
            "    4\n",
            "    josé\n"
          ]
        }
      ]
    },
    {
      "cell_type": "markdown",
      "metadata": {
        "id": "-gu3kOqmlVeP"
      },
      "source": [
        "### Criando listas condicionadas\n",
        "\n",
        "Cria uma lista nova com as condições especificadas"
      ]
    },
    {
      "cell_type": "code",
      "metadata": {
        "id": "fu2ONDiulQtQ",
        "colab": {
          "base_uri": "https://localhost:8080/"
        },
        "outputId": "384b17d5-4331-426d-cf9a-bb5df333bbb6"
      },
      "source": [
        "# Declaração\n",
        "lista = [[1,\"joão\"],[2,\"maria\"],[3,\"pedro\"],[4,\"josé\"]]\n",
        "\n",
        "# Tamanho da lista\n",
        "print(\"Tamanho da lista:\", len(lista))\n",
        "\n",
        "# Cria uma lista dos valores com a posição 0 maior que 2\n",
        "lista_nova = [linha for linha in lista if linha[0] > 2]\n",
        "\n",
        "# Tamanho da lista nova\n",
        "print(\"Tamanho da lista nova:\", len(lista_nova))\n",
        "\n",
        "# Mostrando a lista nova\n",
        "for linha in lista_nova:\n",
        "   print(linha[0], linha[1])"
      ],
      "execution_count": 46,
      "outputs": [
        {
          "output_type": "stream",
          "name": "stdout",
          "text": [
            "Tamanho da lista: 4\n",
            "Tamanho da lista nova: 2\n",
            "3 pedro\n",
            "4 josé\n"
          ]
        }
      ]
    },
    {
      "cell_type": "markdown",
      "metadata": {
        "id": "FEkyfiGil7j1"
      },
      "source": [
        "### Criando listas de elementos\n",
        "\n",
        "Cria uma lista com os elementos que atendem  as condições especificadas"
      ]
    },
    {
      "cell_type": "code",
      "metadata": {
        "id": "VdT8yqizl7j3",
        "colab": {
          "base_uri": "https://localhost:8080/"
        },
        "outputId": "7fd0df74-063e-4763-aa69-1633001c4b9d"
      },
      "source": [
        "# Declaração\n",
        "lista = [[1,\"joão\"],[2,\"maria\"],[3,\"pedro\"],[4,\"josé\"]]\n",
        "\n",
        "# Tamanho da lista\n",
        "print(\"Tamanho da lista:\", len(lista))\n",
        "\n",
        "# Cria uma lista dos valores de linha[0] com a posição 0 maior que 2\n",
        "lista_nova = [linha[0] for linha in lista if linha[0] > 2]\n",
        "\n",
        "# Tamanho da lista nova com linha[0]\n",
        "print(\"Tamanho da lista nova(linha[0]):\", len(lista_nova))\n",
        "\n",
        "# Mostrando a lista nova\n",
        "print(lista_nova)"
      ],
      "execution_count": 47,
      "outputs": [
        {
          "output_type": "stream",
          "name": "stdout",
          "text": [
            "Tamanho da lista: 4\n",
            "Tamanho da lista nova(linha[0]): 2\n",
            "[3, 4]\n"
          ]
        }
      ]
    },
    {
      "cell_type": "markdown",
      "metadata": {
        "id": "TahJABonrLty"
      },
      "source": [
        "### Criando lista de elementos\n",
        "Cria uma lista com os elementos que atendem  as condições especificadas"
      ]
    },
    {
      "cell_type": "code",
      "metadata": {
        "id": "KKlYBLSOrLt0",
        "colab": {
          "base_uri": "https://localhost:8080/"
        },
        "outputId": "fadd3b0e-04f6-4b1b-832f-e6e34496064d"
      },
      "source": [
        "# Declaração\n",
        "lista = [[1,\"joão\"],[2,\"maria\"],[3,\"pedro\"],[4,\"josé\"]]\n",
        "\n",
        "# Tamanho da lista\n",
        "print(\"Tamanho da lista:\", len(lista))\n",
        "\n",
        "# Cria uma lista dos valores de linha[0] com a posição 0 maior que 2\n",
        "lista_nova = [linha[0] for linha in lista if linha[0] > 2]\n",
        "\n",
        "# Cria a lista com os valores que estão no conjunto anterior\n",
        "lista = [linha for linha in lista if linha[0] in lista_nova]\n",
        "\n",
        "# Tamanho da lista nova\n",
        "print(\"Tamanho da lista nova:\", len(lista_nova))\n",
        "\n",
        "# Mostrando a lista nova\n",
        "print(lista_nova)\n",
        "\n",
        "# Mostra a lista\n",
        "print(lista)"
      ],
      "execution_count": 48,
      "outputs": [
        {
          "output_type": "stream",
          "name": "stdout",
          "text": [
            "Tamanho da lista: 4\n",
            "Tamanho da lista nova: 2\n",
            "[3, 4]\n",
            "[[3, 'pedro'], [4, 'josé']]\n"
          ]
        }
      ]
    },
    {
      "cell_type": "markdown",
      "metadata": {
        "id": "gsxfvsSUf7Ud"
      },
      "source": [
        "## Convertendo listas em dataFrames\n",
        "\n",
        "Converte uma lista de dados em um pandas dataFrame."
      ]
    },
    {
      "cell_type": "code",
      "metadata": {
        "id": "x14TDRvBgANW",
        "colab": {
          "base_uri": "https://localhost:8080/",
          "height": 320
        },
        "outputId": "430386e1-f3e4-4aca-e3ff-4d44e78794a2"
      },
      "source": [
        "# Biblioteca de processamento de dados, I/O em arquivo csv (ex. pd.DataFrame.from_records)\n",
        "import pandas as pd\n",
        "\n",
        "# Lista com os dados\n",
        "lista = [[1,\"joão\"],[2,\"maria\"],[3,\"pedro\"],[4,\"josé\"]]\n",
        "\n",
        "# Mostrando a lista\n",
        "for linha in lista:\n",
        "   print(linha[0], linha[1])\n",
        "\n",
        "print(\"\\n Depois da conversão\\n\")\n",
        "\n",
        "# Converte a lista de lista em um dataframe\n",
        "df = pd.DataFrame.from_records(lista, columns=[\"id\", \"nome\"])\n",
        "\n",
        "# Mostra os dados\n",
        "print(df)\n",
        "\n",
        "# Mostra 2 dados aleatórios\n",
        "df.sample(2)"
      ],
      "execution_count": 49,
      "outputs": [
        {
          "output_type": "stream",
          "name": "stdout",
          "text": [
            "1 joão\n",
            "2 maria\n",
            "3 pedro\n",
            "4 josé\n",
            "\n",
            " Depois da conversão\n",
            "\n",
            "   id   nome\n",
            "0   1   joão\n",
            "1   2  maria\n",
            "2   3  pedro\n",
            "3   4   josé\n"
          ]
        },
        {
          "output_type": "execute_result",
          "data": {
            "text/html": [
              "\n",
              "  <div id=\"df-d60c1a07-d763-4618-a431-ebaf484bfc19\">\n",
              "    <div class=\"colab-df-container\">\n",
              "      <div>\n",
              "<style scoped>\n",
              "    .dataframe tbody tr th:only-of-type {\n",
              "        vertical-align: middle;\n",
              "    }\n",
              "\n",
              "    .dataframe tbody tr th {\n",
              "        vertical-align: top;\n",
              "    }\n",
              "\n",
              "    .dataframe thead th {\n",
              "        text-align: right;\n",
              "    }\n",
              "</style>\n",
              "<table border=\"1\" class=\"dataframe\">\n",
              "  <thead>\n",
              "    <tr style=\"text-align: right;\">\n",
              "      <th></th>\n",
              "      <th>id</th>\n",
              "      <th>nome</th>\n",
              "    </tr>\n",
              "  </thead>\n",
              "  <tbody>\n",
              "    <tr>\n",
              "      <th>3</th>\n",
              "      <td>4</td>\n",
              "      <td>josé</td>\n",
              "    </tr>\n",
              "    <tr>\n",
              "      <th>2</th>\n",
              "      <td>3</td>\n",
              "      <td>pedro</td>\n",
              "    </tr>\n",
              "  </tbody>\n",
              "</table>\n",
              "</div>\n",
              "      <button class=\"colab-df-convert\" onclick=\"convertToInteractive('df-d60c1a07-d763-4618-a431-ebaf484bfc19')\"\n",
              "              title=\"Convert this dataframe to an interactive table.\"\n",
              "              style=\"display:none;\">\n",
              "        \n",
              "  <svg xmlns=\"http://www.w3.org/2000/svg\" height=\"24px\"viewBox=\"0 0 24 24\"\n",
              "       width=\"24px\">\n",
              "    <path d=\"M0 0h24v24H0V0z\" fill=\"none\"/>\n",
              "    <path d=\"M18.56 5.44l.94 2.06.94-2.06 2.06-.94-2.06-.94-.94-2.06-.94 2.06-2.06.94zm-11 1L8.5 8.5l.94-2.06 2.06-.94-2.06-.94L8.5 2.5l-.94 2.06-2.06.94zm10 10l.94 2.06.94-2.06 2.06-.94-2.06-.94-.94-2.06-.94 2.06-2.06.94z\"/><path d=\"M17.41 7.96l-1.37-1.37c-.4-.4-.92-.59-1.43-.59-.52 0-1.04.2-1.43.59L10.3 9.45l-7.72 7.72c-.78.78-.78 2.05 0 2.83L4 21.41c.39.39.9.59 1.41.59.51 0 1.02-.2 1.41-.59l7.78-7.78 2.81-2.81c.8-.78.8-2.07 0-2.86zM5.41 20L4 18.59l7.72-7.72 1.47 1.35L5.41 20z\"/>\n",
              "  </svg>\n",
              "      </button>\n",
              "      \n",
              "  <style>\n",
              "    .colab-df-container {\n",
              "      display:flex;\n",
              "      flex-wrap:wrap;\n",
              "      gap: 12px;\n",
              "    }\n",
              "\n",
              "    .colab-df-convert {\n",
              "      background-color: #E8F0FE;\n",
              "      border: none;\n",
              "      border-radius: 50%;\n",
              "      cursor: pointer;\n",
              "      display: none;\n",
              "      fill: #1967D2;\n",
              "      height: 32px;\n",
              "      padding: 0 0 0 0;\n",
              "      width: 32px;\n",
              "    }\n",
              "\n",
              "    .colab-df-convert:hover {\n",
              "      background-color: #E2EBFA;\n",
              "      box-shadow: 0px 1px 2px rgba(60, 64, 67, 0.3), 0px 1px 3px 1px rgba(60, 64, 67, 0.15);\n",
              "      fill: #174EA6;\n",
              "    }\n",
              "\n",
              "    [theme=dark] .colab-df-convert {\n",
              "      background-color: #3B4455;\n",
              "      fill: #D2E3FC;\n",
              "    }\n",
              "\n",
              "    [theme=dark] .colab-df-convert:hover {\n",
              "      background-color: #434B5C;\n",
              "      box-shadow: 0px 1px 3px 1px rgba(0, 0, 0, 0.15);\n",
              "      filter: drop-shadow(0px 1px 2px rgba(0, 0, 0, 0.3));\n",
              "      fill: #FFFFFF;\n",
              "    }\n",
              "  </style>\n",
              "\n",
              "      <script>\n",
              "        const buttonEl =\n",
              "          document.querySelector('#df-d60c1a07-d763-4618-a431-ebaf484bfc19 button.colab-df-convert');\n",
              "        buttonEl.style.display =\n",
              "          google.colab.kernel.accessAllowed ? 'block' : 'none';\n",
              "\n",
              "        async function convertToInteractive(key) {\n",
              "          const element = document.querySelector('#df-d60c1a07-d763-4618-a431-ebaf484bfc19');\n",
              "          const dataTable =\n",
              "            await google.colab.kernel.invokeFunction('convertToInteractive',\n",
              "                                                     [key], {});\n",
              "          if (!dataTable) return;\n",
              "\n",
              "          const docLinkHtml = 'Like what you see? Visit the ' +\n",
              "            '<a target=\"_blank\" href=https://colab.research.google.com/notebooks/data_table.ipynb>data table notebook</a>'\n",
              "            + ' to learn more about interactive tables.';\n",
              "          element.innerHTML = '';\n",
              "          dataTable['output_type'] = 'display_data';\n",
              "          await google.colab.output.renderOutput(dataTable, element);\n",
              "          const docLink = document.createElement('div');\n",
              "          docLink.innerHTML = docLinkHtml;\n",
              "          element.appendChild(docLink);\n",
              "        }\n",
              "      </script>\n",
              "    </div>\n",
              "  </div>\n",
              "  "
            ],
            "text/plain": [
              "   id   nome\n",
              "3   4   josé\n",
              "2   3  pedro"
            ]
          },
          "metadata": {},
          "execution_count": 49
        }
      ]
    },
    {
      "cell_type": "markdown",
      "metadata": {
        "id": "9ynOje_Jw-4e"
      },
      "source": [
        "## Convertendo uma string lista em list\n",
        "\n",
        "Converte uma string que representa uma lista em uma lista."
      ]
    },
    {
      "cell_type": "code",
      "metadata": {
        "colab": {
          "base_uri": "https://localhost:8080/"
        },
        "id": "YIbU15Usw_fG",
        "outputId": "653a8f44-0d95-422d-ab51-06469321f153"
      },
      "source": [
        "# Biblioteca de conversão\n",
        "import ast\n",
        "  \n",
        "# Uma string que representa uma lista\n",
        "lista_string = \"[\\\"azul\\\",\\\"verde\\\",\\\"amarelo\\\",\\\"verde\\\"]\"\n",
        "  \n",
        "# Mostra a a string  \n",
        "print(\"Lista string:\", lista_string)\n",
        "print(type(lista_string))\n",
        "  \n",
        "# Converte a string em uma lista\n",
        "lista = ast.literal_eval(lista_string)\n",
        "  \n",
        "# Mostra a lista\n",
        "print(\"Lista list:\", lista)\n",
        "print(type(lista))"
      ],
      "execution_count": 50,
      "outputs": [
        {
          "output_type": "stream",
          "name": "stdout",
          "text": [
            "Lista string: [\"azul\",\"verde\",\"amarelo\",\"verde\"]\n",
            "<class 'str'>\n",
            "Lista list: ['azul', 'verde', 'amarelo', 'verde']\n",
            "<class 'list'>\n"
          ]
        }
      ]
    },
    {
      "cell_type": "markdown",
      "metadata": {
        "id": "uLE3MLcXGhQ9"
      },
      "source": [
        "# Enumerações/Enumerate\n",
        "\n",
        "É uma função que atribui um índice a cada item em um objeto iterável(e.g. list) que pode ser usado para fazer referência ao item posteriormente. \n",
        "\n",
        "https://www.w3schools.com/python/ref_func_enumerate.asp"
      ]
    },
    {
      "cell_type": "markdown",
      "metadata": {
        "id": "zOjloyYSG2lQ"
      },
      "source": [
        "## Declaração 1"
      ]
    },
    {
      "cell_type": "code",
      "metadata": {
        "id": "sKW9oQLoGjhs",
        "colab": {
          "base_uri": "https://localhost:8080/"
        },
        "outputId": "49555c61-8395-4283-8691-f9b92564c51d"
      },
      "source": [
        "# Declara e inicializa uma lista de cores\n",
        "cores = [\"vermelho\", \"azul\", \"verde\", \"amarelo\", \"rosa\", \"branco\"]\n",
        "\n",
        "# Mostra a enumeração e suas chaves\n",
        "list(enumerate(cores))"
      ],
      "execution_count": 51,
      "outputs": [
        {
          "output_type": "execute_result",
          "data": {
            "text/plain": [
              "[(0, 'vermelho'),\n",
              " (1, 'azul'),\n",
              " (2, 'verde'),\n",
              " (3, 'amarelo'),\n",
              " (4, 'rosa'),\n",
              " (5, 'branco')]"
            ]
          },
          "metadata": {},
          "execution_count": 51
        }
      ]
    },
    {
      "cell_type": "markdown",
      "metadata": {
        "id": "lamTvwbCG5Rh"
      },
      "source": [
        "## Declaração 2"
      ]
    },
    {
      "cell_type": "code",
      "metadata": {
        "id": "BxsfH0h5HB04",
        "colab": {
          "base_uri": "https://localhost:8080/"
        },
        "outputId": "9d963158-508e-4920-e05f-56c3dc204a8b"
      },
      "source": [
        "# Declara e inicializa uma lista de cores\n",
        "cores = [\"vermelho\", \"azul\", \"verde\", \"amarelo\", \"rosa\", \"branco\"]\n",
        "\n",
        "# Mostra a enumeração e suas chaves\n",
        "for (index, item) in enumerate(cores):\n",
        "    print (index, item)"
      ],
      "execution_count": 52,
      "outputs": [
        {
          "output_type": "stream",
          "name": "stdout",
          "text": [
            "0 vermelho\n",
            "1 azul\n",
            "2 verde\n",
            "3 amarelo\n",
            "4 rosa\n",
            "5 branco\n"
          ]
        }
      ]
    },
    {
      "cell_type": "markdown",
      "metadata": {
        "id": "10bGHLJTBvtB"
      },
      "source": [
        "## Classe Enum\n",
        "\n",
        "https://www.python.org/dev/peps/pep-0435/"
      ]
    },
    {
      "cell_type": "code",
      "metadata": {
        "colab": {
          "base_uri": "https://localhost:8080/"
        },
        "id": "MfQrV1chBz3S",
        "outputId": "68f44456-eca4-4e20-d3f7-b497df2a7971"
      },
      "source": [
        "# Biblioteca Enum\n",
        "from enum import Enum\n",
        "\n",
        "class DiaSemana(Enum):\n",
        "    DOMINGO = 0\n",
        "    SEGUNDA = 1\n",
        "    TERCA = 2\n",
        "    QUARTA = 3\n",
        "    QUINTA = 4\n",
        "    SEXTA = 5\n",
        "    SABADO = 6\n",
        "\n",
        "# Mostra o valor\n",
        "print(DiaSemana.QUARTA.value)\n",
        "\n",
        "# Mostra o nome\n",
        "print(DiaSemana.QUARTA.name)\n",
        "\n",
        "# Percorre os dias da semana\n",
        "for dia in DiaSemana:\n",
        "  print(dia)\n",
        "\n",
        "# Imprime a lista\n",
        "print(list(DiaSemana))\n",
        "\n",
        "# Imprime os valores\n",
        "print([dia.value for dia in DiaSemana])\n",
        "\n",
        "# Verifica se está na enumeração\n",
        "print(DiaSemana.TERCA in DiaSemana)\n",
        "\n",
        "# Verifica se o nome(name) está entre os membros do enum\n",
        "if \"TERÇA\" in DiaSemana._member_names_: \n",
        "    print(\"Nome está no enum!\")\n",
        "else:\n",
        "    print(\"Nome não está no enum!\")\n",
        "\n",
        "# Verifica se o nome(name) está entre os membros do enum\n",
        "if \"TERÇA\" in DiaSemana.__members__: \n",
        "    print(\"Nome está no enum!\")\n",
        "else:\n",
        "    print(\"Nome não está no enum!\")\n",
        "\n",
        "# Verifica se o valor(value) está entre os valores do enum\n",
        "if 10 in DiaSemana.__members__.values():\n",
        "  print(\"Valor está no enum!\")\n",
        "else:\n",
        "    print(\"Valor não está no enum!\")"
      ],
      "execution_count": 53,
      "outputs": [
        {
          "output_type": "stream",
          "name": "stdout",
          "text": [
            "3\n",
            "QUARTA\n",
            "DiaSemana.DOMINGO\n",
            "DiaSemana.SEGUNDA\n",
            "DiaSemana.TERCA\n",
            "DiaSemana.QUARTA\n",
            "DiaSemana.QUINTA\n",
            "DiaSemana.SEXTA\n",
            "DiaSemana.SABADO\n",
            "[<DiaSemana.DOMINGO: 0>, <DiaSemana.SEGUNDA: 1>, <DiaSemana.TERCA: 2>, <DiaSemana.QUARTA: 3>, <DiaSemana.QUINTA: 4>, <DiaSemana.SEXTA: 5>, <DiaSemana.SABADO: 6>]\n",
            "[0, 1, 2, 3, 4, 5, 6]\n",
            "True\n",
            "Nome não está no enum!\n",
            "Nome não está no enum!\n",
            "Valor não está no enum!\n"
          ]
        }
      ]
    },
    {
      "cell_type": "markdown",
      "metadata": {
        "id": "P8LmNS8E0WvA"
      },
      "source": [
        "# Tupla/Tuple"
      ]
    },
    {
      "cell_type": "markdown",
      "metadata": {
        "id": "QdUHj8lA0Yz-"
      },
      "source": [
        "Uma tupla é uma estrutura bastante similar a uma lista, com apenas uma diferença: os elementos inseridos em uma tupla não podem ser alterados, diferente de uma lista onde podem ser alterados livremente. \n",
        "\n",
        "As tuplas possuem algumas vantagens com relação às listas, que são:\n",
        "\n",
        "* Como as tuplas são imutáveis, a iteração sobre elas é mais rápida e, consequentemente, possuem um ganho de desempenho com relação às listas;\n",
        "* Tuplas podem ser utilizadas como chave para um dicionário, já que seus elementos são imutáveis. Já com a lista, isso não é possível;\n",
        "* Se for necessário armazenar dados que não serão alterados, utilize uma tupla. Isso garantirá que esses sejam protegidos de alterações posteriores"
      ]
    },
    {
      "cell_type": "markdown",
      "metadata": {
        "id": "2-pHJRqf1URh"
      },
      "source": [
        "## Declaração tupla homogênea\n",
        "\n",
        "Utiliza parênteses ou invés de colchetes(listas) para declarar"
      ]
    },
    {
      "cell_type": "code",
      "metadata": {
        "id": "NzeeNyx70kWw",
        "colab": {
          "base_uri": "https://localhost:8080/"
        },
        "outputId": "72188b7d-463f-4432-8fdc-003f13bf40ae"
      },
      "source": [
        "# Declaração de tupla de inteiros homogênea\n",
        "tupla1 = (1, 2, 3) \n",
        "print(tupla1)\n",
        "\n",
        "# Mostra o tipo da tupla1\n",
        "print(type(tupla1))"
      ],
      "execution_count": 54,
      "outputs": [
        {
          "output_type": "stream",
          "name": "stdout",
          "text": [
            "(1, 2, 3)\n",
            "<class 'tuple'>\n"
          ]
        }
      ]
    },
    {
      "cell_type": "markdown",
      "metadata": {
        "id": "fPU8dq8TdKAl"
      },
      "source": [
        "## Declaração tupla heterogênea"
      ]
    },
    {
      "cell_type": "code",
      "metadata": {
        "id": "HM3_r3hkdKYc",
        "colab": {
          "base_uri": "https://localhost:8080/"
        },
        "outputId": "ec4b8959-24eb-4543-fb8e-e73b7ccc6406"
      },
      "source": [
        "# Declaração de tupla heterogênea\n",
        "tupla = (1, \"joao\", 3.14) \n",
        "print(tupla)\n",
        "\n",
        "# Mostra o tipo da tupla2\n",
        "print(type(tupla))"
      ],
      "execution_count": 55,
      "outputs": [
        {
          "output_type": "stream",
          "name": "stdout",
          "text": [
            "(1, 'joao', 3.14)\n",
            "<class 'tuple'>\n"
          ]
        }
      ]
    },
    {
      "cell_type": "markdown",
      "metadata": {
        "id": "p6shuEqrdS7w"
      },
      "source": [
        "## Declaração tupla sem parênteses\n",
        "\n",
        "Tuplas podem ser declaradas sem parênteses"
      ]
    },
    {
      "cell_type": "code",
      "metadata": {
        "id": "zzggf1sXdTHl",
        "colab": {
          "base_uri": "https://localhost:8080/"
        },
        "outputId": "98e6b5d6-b56d-4f31-e4ed-787bd40cd503"
      },
      "source": [
        "# Declaração de tupla de inteiros homogênea\n",
        "tupla = 1, 2, 3 \n",
        "print(tupla)\n",
        "\n",
        "# Mostra o tipo da tupla1\n",
        "print(type(tupla))"
      ],
      "execution_count": 56,
      "outputs": [
        {
          "output_type": "stream",
          "name": "stdout",
          "text": [
            "(1, 2, 3)\n",
            "<class 'tuple'>\n"
          ]
        }
      ]
    },
    {
      "cell_type": "markdown",
      "metadata": {
        "id": "B6Pf8GDddiai"
      },
      "source": [
        "### Declaração tuple()\n",
        "\n",
        "Podemos usar uma função tuple() para criar uma tupla passando um tipo que pode ser iterável como uma string ou uma lista:"
      ]
    },
    {
      "cell_type": "code",
      "metadata": {
        "id": "cvRCw1rGdlv7",
        "colab": {
          "base_uri": "https://localhost:8080/"
        },
        "outputId": "2b8d34e5-c181-4c60-a752-64aa76f34922"
      },
      "source": [
        "# Declaração de lista de inteiros\n",
        "lista = [1, 2, 3]\n",
        "print(lista)\n",
        "# Mostra o tipo da lista\n",
        "print(type(lista))\n",
        "\n",
        "# Declaração de tupla de inteiros homogênea\n",
        "tupla = tuple(lista)\n",
        "print(tupla)\n",
        "# Mostra o tipo da lista\n",
        "print(type(tupla))"
      ],
      "execution_count": 57,
      "outputs": [
        {
          "output_type": "stream",
          "name": "stdout",
          "text": [
            "[1, 2, 3]\n",
            "<class 'list'>\n",
            "(1, 2, 3)\n",
            "<class 'tuple'>\n"
          ]
        }
      ]
    },
    {
      "cell_type": "markdown",
      "metadata": {
        "id": "Eo87pvVo1ayG"
      },
      "source": [
        "## Acessando elementos"
      ]
    },
    {
      "cell_type": "code",
      "metadata": {
        "id": "uKhiIDTm1cgY",
        "colab": {
          "base_uri": "https://localhost:8080/"
        },
        "outputId": "02ba7f54-f080-4126-ff80-891398df8895"
      },
      "source": [
        "# Declara e inicializa tuplas de cores\n",
        "cores = (\"vermelho\", \"azul\", \"verde\", \"amarelo\", \"rosa\", \"branco\")\n",
        "\n",
        "# Percorre a tuplas de cores, o valor atual está em cor\n",
        "for cor in cores:\n",
        "    print(cor)"
      ],
      "execution_count": 58,
      "outputs": [
        {
          "output_type": "stream",
          "name": "stdout",
          "text": [
            "vermelho\n",
            "azul\n",
            "verde\n",
            "amarelo\n",
            "rosa\n",
            "branco\n"
          ]
        }
      ]
    },
    {
      "cell_type": "markdown",
      "metadata": {
        "id": "H6089vabiWTJ"
      },
      "source": [
        "## Convertendo uma lista de tuplas em uma lista de lista"
      ]
    },
    {
      "cell_type": "code",
      "metadata": {
        "colab": {
          "base_uri": "https://localhost:8080/"
        },
        "id": "8ZTHgejficU3",
        "outputId": "ad2f8aad-7c78-4604-f6c9-90fa94180809"
      },
      "source": [
        "listaTupla = [(1,2), (3,4)] \n",
        "\n",
        "print(listaTupla)\n",
        "\n",
        "listaLista = [list(x) for x in listaTupla]\n",
        "\n",
        "print(listaLista)"
      ],
      "execution_count": 59,
      "outputs": [
        {
          "output_type": "stream",
          "name": "stdout",
          "text": [
            "[(1, 2), (3, 4)]\n",
            "[[1, 2], [3, 4]]\n"
          ]
        }
      ]
    },
    {
      "cell_type": "markdown",
      "metadata": {
        "id": "vQt9ynoueprN"
      },
      "source": [
        "# Intervalo/Range\n",
        "\n",
        "É um tipo de  imutável de números e é comumente usado para looping de um número específico de vezes em um comando for já que representam um intervalo. O comando range gera um valor contendo números inteiros sequenciais com um determinado incremendo."
      ]
    },
    {
      "cell_type": "markdown",
      "metadata": {
        "id": "pSyHqFx8e_KG"
      },
      "source": [
        "## Declaração\n",
        "\n",
        "Não gera o valores do intervalo, somente armazena o início e fim."
      ]
    },
    {
      "cell_type": "code",
      "metadata": {
        "id": "k6kkW50oe_b6",
        "colab": {
          "base_uri": "https://localhost:8080/"
        },
        "outputId": "2e10ec0e-692a-43a5-c8ec-65c6e55cb69b"
      },
      "source": [
        "# Declara um intervalo\n",
        "intervalo = range(1, 4)\n",
        "\n",
        "# Mostra o intervalo\n",
        "print(intervalo)"
      ],
      "execution_count": 60,
      "outputs": [
        {
          "output_type": "stream",
          "name": "stdout",
          "text": [
            "range(1, 4)\n"
          ]
        }
      ]
    },
    {
      "cell_type": "markdown",
      "metadata": {
        "id": "_PNGztVPfZkx"
      },
      "source": [
        "## Percorrendo o range"
      ]
    },
    {
      "cell_type": "code",
      "metadata": {
        "id": "qHvbE5defZwK",
        "colab": {
          "base_uri": "https://localhost:8080/"
        },
        "outputId": "bf9c87ab-d54a-4b50-e570-107274468d5a"
      },
      "source": [
        "# Percorre o range\n",
        "for valor in range(1, 4):\n",
        "    print(valor)"
      ],
      "execution_count": 61,
      "outputs": [
        {
          "output_type": "stream",
          "name": "stdout",
          "text": [
            "1\n",
            "2\n",
            "3\n"
          ]
        }
      ]
    },
    {
      "cell_type": "markdown",
      "metadata": {
        "id": "aYCcx2cFflhg"
      },
      "source": [
        "## Percorrendo o range com incremento\n",
        "\n",
        "O terceiro parâmetro é o passo do range.\n",
        "\n"
      ]
    },
    {
      "cell_type": "code",
      "metadata": {
        "id": "S-2SS1Leflhh",
        "colab": {
          "base_uri": "https://localhost:8080/"
        },
        "outputId": "a388550b-2eaf-4f6d-cbc1-3c02b3a3a1f1"
      },
      "source": [
        "# Percorre o range\n",
        "for valor in range(1, 10, 2):\n",
        "    print(valor)"
      ],
      "execution_count": 62,
      "outputs": [
        {
          "output_type": "stream",
          "name": "stdout",
          "text": [
            "1\n",
            "3\n",
            "5\n",
            "7\n",
            "9\n"
          ]
        }
      ]
    },
    {
      "cell_type": "markdown",
      "metadata": {
        "id": "2iIHTA10f7dy"
      },
      "source": [
        "## Percorrendo o range com descrescente"
      ]
    },
    {
      "cell_type": "code",
      "metadata": {
        "id": "4fepShCCf76N",
        "colab": {
          "base_uri": "https://localhost:8080/"
        },
        "outputId": "757f58ef-f4c4-4919-9439-266acbac789e"
      },
      "source": [
        "# Percorre o range\n",
        "for valor in range(10, 1, -2):\n",
        "    print(valor)"
      ],
      "execution_count": 63,
      "outputs": [
        {
          "output_type": "stream",
          "name": "stdout",
          "text": [
            "10\n",
            "8\n",
            "6\n",
            "4\n",
            "2\n"
          ]
        }
      ]
    },
    {
      "cell_type": "markdown",
      "metadata": {
        "id": "YL3bLO6vht9G"
      },
      "source": [
        "#Contadores/Counter\n",
        "\n",
        "Contador e permite contar as ocorrências de um determinado item em uma estrutura de dados.\n",
        "\n",
        "\n",
        "O resultado é um dicicionário(dict) e pode receber um objeto iterável ou um mapa como argumento para realizar a contagem de seus elementos."
      ]
    },
    {
      "cell_type": "code",
      "metadata": {
        "id": "Q5vrCCFChxCQ",
        "colab": {
          "base_uri": "https://localhost:8080/"
        },
        "outputId": "49b5637b-010d-42bb-be11-2957b3287a09"
      },
      "source": [
        "# Biblioteca counter de collections\n",
        "from collections import Counter\n",
        "\n",
        "# Declara uma lista de cores\n",
        "cores = [\"branco\", \"azul\", \"azul\", \"branco\", \"marrom\", \"branco\", \"vermelho\", \"verde\"]\n",
        "\n",
        "# contador a lista\n",
        "contador = Counter(cores)\n",
        "\n",
        "# Mostra o contador\n",
        "print(contador)"
      ],
      "execution_count": 64,
      "outputs": [
        {
          "output_type": "stream",
          "name": "stdout",
          "text": [
            "Counter({'branco': 3, 'azul': 2, 'marrom': 1, 'vermelho': 1, 'verde': 1})\n"
          ]
        }
      ]
    },
    {
      "cell_type": "markdown",
      "metadata": {
        "id": "QqXNyM0F1zPW"
      },
      "source": [
        "# Conjuntos/Sets\n",
        "\n",
        "São uma coleção de itens desordenada, parcialmente imutável e que **não** podem conter elementos duplicados. Por ser parcialmente imutável, os sets possuem permissão de adição e remoção de elementos.\n",
        "\n",
        "Usados normalmente com operações matemáticas de união, interseção e diferença simétrica.\n",
        "\n",
        "https://www.treinaweb.com.br/blog/principais-estruturas-de-dados-no-python/"
      ]
    },
    {
      "cell_type": "markdown",
      "metadata": {
        "id": "uTscD4yb10iK"
      },
      "source": [
        "## Declaração 1"
      ]
    },
    {
      "cell_type": "code",
      "metadata": {
        "id": "3sdPVrxP2Kjq",
        "colab": {
          "base_uri": "https://localhost:8080/"
        },
        "outputId": "4bfb7b12-a910-489c-ab70-0328e06e34c6"
      },
      "source": [
        "# Declara o conjunto 1\n",
        "conjunto1 = {1, 2, 3, 3}\n",
        "print(conjunto1)\n",
        "print(type(conjunto1))\n",
        "\n",
        "# Declara o conjunto 2\n",
        "conjunto2 = {1, 2, 3, 4}\n",
        "print(conjunto2)\n",
        "print(type(conjunto2))"
      ],
      "execution_count": 65,
      "outputs": [
        {
          "output_type": "stream",
          "name": "stdout",
          "text": [
            "{1, 2, 3}\n",
            "<class 'set'>\n",
            "{1, 2, 3, 4}\n",
            "<class 'set'>\n"
          ]
        }
      ]
    },
    {
      "cell_type": "markdown",
      "metadata": {
        "id": "TuE7MaeY2UCc"
      },
      "source": [
        "## Declaração 2"
      ]
    },
    {
      "cell_type": "code",
      "metadata": {
        "id": "wrgjkNYO2VWR",
        "colab": {
          "base_uri": "https://localhost:8080/"
        },
        "outputId": "25e7bfd3-0002-4d0f-9bc2-c6f695e95fe3"
      },
      "source": [
        "# Declara o conjunto 1\n",
        "conjunto1 = set([1, 2, 3, 3])\n",
        "print(conjunto1)\n",
        "\n",
        "# Declara o conjunto 2\n",
        "conjunto2 = set([1, 2, 3, 4])\n",
        "print(conjunto2)"
      ],
      "execution_count": 66,
      "outputs": [
        {
          "output_type": "stream",
          "name": "stdout",
          "text": [
            "{1, 2, 3}\n",
            "{1, 2, 3, 4}\n"
          ]
        }
      ]
    },
    {
      "cell_type": "markdown",
      "metadata": {
        "id": "gi4CaK8f2oVA"
      },
      "source": [
        "## Acessando elementos"
      ]
    },
    {
      "cell_type": "code",
      "metadata": {
        "id": "KJcAUXgG2oVE",
        "colab": {
          "base_uri": "https://localhost:8080/"
        },
        "outputId": "0a701150-b73a-4bba-f0da-5945171011dd"
      },
      "source": [
        "# Declara e inicializa conjunto de cores\n",
        "cores = set([\"vermelho\", \"azul\", \"verde\", \"amarelo\", \"branco\", \"branco\"])\n",
        "\n",
        "# Percorre o elementos do conjunto de cores, o valor atual está em cor\n",
        "for cor in cores:\n",
        "    print(cor)"
      ],
      "execution_count": 67,
      "outputs": [
        {
          "output_type": "stream",
          "name": "stdout",
          "text": [
            "amarelo\n",
            "verde\n",
            "vermelho\n",
            "azul\n",
            "branco\n"
          ]
        }
      ]
    },
    {
      "cell_type": "markdown",
      "metadata": {
        "id": "N_iBHL1p20ea"
      },
      "source": [
        "## Adicionando elementos"
      ]
    },
    {
      "cell_type": "code",
      "metadata": {
        "id": "U9UqchRv23LI",
        "colab": {
          "base_uri": "https://localhost:8080/"
        },
        "outputId": "fa0091a7-60ab-4977-9f2e-c394cc2d680d"
      },
      "source": [
        "# Declara o conjunto 1\n",
        "conjunto1 = {1, 2, 3, 3}\n",
        "\n",
        "# Adicionando elementos sem repetição\n",
        "conjunto1.add(4)\n",
        "print(\"Adição\", conjunto1)\n",
        "\n",
        "# Adicionando elementos com repetição\n",
        "conjunto1.add(1)\n",
        "print(\"Adição\", conjunto1)"
      ],
      "execution_count": 68,
      "outputs": [
        {
          "output_type": "stream",
          "name": "stdout",
          "text": [
            "Adição {1, 2, 3, 4}\n",
            "Adição {1, 2, 3, 4}\n"
          ]
        }
      ]
    },
    {
      "cell_type": "markdown",
      "metadata": {
        "id": "aadxRNTP3IA3"
      },
      "source": [
        "## Atualizando elementos"
      ]
    },
    {
      "cell_type": "code",
      "metadata": {
        "id": "c4cBHmLI3Luj",
        "colab": {
          "base_uri": "https://localhost:8080/"
        },
        "outputId": "08731ae3-42b5-41fc-9e6e-e4c049c46056"
      },
      "source": [
        "# Declara o conjunto 1\n",
        "conjunto1 = {1, 2, 3, 3}\n",
        "\n",
        "#atualizando set\n",
        "conjunto1.update([3, 4, 5, 6])\n",
        "print(\"Atualição\", conjunto1)"
      ],
      "execution_count": 69,
      "outputs": [
        {
          "output_type": "stream",
          "name": "stdout",
          "text": [
            "Atualição {1, 2, 3, 4, 5, 6}\n"
          ]
        }
      ]
    },
    {
      "cell_type": "markdown",
      "metadata": {
        "id": "5iH6rnD83VMw"
      },
      "source": [
        "## Removendo elementos"
      ]
    },
    {
      "cell_type": "code",
      "metadata": {
        "id": "gfU5yOtk20pg",
        "colab": {
          "base_uri": "https://localhost:8080/"
        },
        "outputId": "b8325ce8-4a54-49cc-fa4f-ce618632d389"
      },
      "source": [
        "# Declara o conjunto 1\n",
        "conjunto1 = {1, 2, 3, 3}\n",
        "\n",
        "# Removendo elemento\n",
        "conjunto1.discard(2)\n",
        "print(\"Remoção\", conjunto1)"
      ],
      "execution_count": 70,
      "outputs": [
        {
          "output_type": "stream",
          "name": "stdout",
          "text": [
            "Remoção {1, 3}\n"
          ]
        }
      ]
    },
    {
      "cell_type": "markdown",
      "metadata": {
        "id": "ZWMqhaYL34Mx"
      },
      "source": [
        "## Operações matemáticas"
      ]
    },
    {
      "cell_type": "markdown",
      "metadata": {
        "id": "mVVvOQ4F354I"
      },
      "source": [
        "### União\n",
        "\n",
        "União (|), todos os elementos dos dois conjuntos(sets) serão “unidos”, formando um único conjunto(set) com todos os elementos, sem repetí-los."
      ]
    },
    {
      "cell_type": "code",
      "metadata": {
        "id": "lS4DnVBI3_iC",
        "colab": {
          "base_uri": "https://localhost:8080/"
        },
        "outputId": "12f6137a-ce9f-4cb4-d4fe-69e25dd97fb9"
      },
      "source": [
        "# Declara o conjunto 1\n",
        "conjunto1 = set([1, 2, 3, 4, 4])\n",
        "# Declara o conjunto 2\n",
        "conjunto2 = set([3, 4, 5, 6, 7])\n",
        "\n",
        "# União\n",
        "print(\"União\")\n",
        "\n",
        "# Usando operador |\n",
        "print(conjunto1 | conjunto2)\n",
        "\n",
        "# ou com método union\n",
        "print(conjunto1.union(conjunto2))"
      ],
      "execution_count": 71,
      "outputs": [
        {
          "output_type": "stream",
          "name": "stdout",
          "text": [
            "União\n",
            "{1, 2, 3, 4, 5, 6, 7}\n",
            "{1, 2, 3, 4, 5, 6, 7}\n"
          ]
        }
      ]
    },
    {
      "cell_type": "markdown",
      "metadata": {
        "id": "A6x1nmV04bMq"
      },
      "source": [
        "### Interseção\n",
        "\n",
        "Interseção (&), apenas os elementos que estiverem nos dois conjuntos(sets) serão considerados."
      ]
    },
    {
      "cell_type": "code",
      "metadata": {
        "id": "piGwo8Gl4aqw",
        "colab": {
          "base_uri": "https://localhost:8080/"
        },
        "outputId": "7b8d596b-1bdc-408f-e37a-c2cd12ade890"
      },
      "source": [
        "# Declara o conjunto 1\n",
        "conjunto1 = set([1, 2, 3, 4, 4])\n",
        "# Declara o conjunto 2\n",
        "conjunto2 = set([3, 4, 5, 6, 7])\n",
        "\n",
        "# Interseção\n",
        "print(\"Interseção\")\n",
        "\n",
        "# Usando operador &\n",
        "print(conjunto1 & conjunto2)\n",
        "\n",
        "# ou com método intersection\n",
        "print(conjunto1.intersection(conjunto2))"
      ],
      "execution_count": 72,
      "outputs": [
        {
          "output_type": "stream",
          "name": "stdout",
          "text": [
            "Interseção\n",
            "{3, 4}\n",
            "{3, 4}\n"
          ]
        }
      ]
    },
    {
      "cell_type": "markdown",
      "metadata": {
        "id": "aDIesbKa403f"
      },
      "source": [
        "### Diferença\n",
        "\n",
        "Diferença (–), restarão apenas os elementos que estiverem em um dos conjuntos(set), mas não no segundo."
      ]
    },
    {
      "cell_type": "code",
      "metadata": {
        "id": "JMgK-Lpc43EZ",
        "colab": {
          "base_uri": "https://localhost:8080/"
        },
        "outputId": "7006fad1-9747-404c-f3c1-d561ff281dca"
      },
      "source": [
        "# Declara o conjunto 1\n",
        "conjunto1 = set([1, 2, 3, 4, 4])\n",
        "# Declara o conjunto 2\n",
        "conjunto2 = set([3, 4, 5, 6, 7])\n",
        "\n",
        "# Diferença\n",
        "print(\"Diferença\")\n",
        "\n",
        "# Usando operador -\n",
        "print(conjunto1 -conjunto2)\n",
        "\n",
        "# ou com método difference\n",
        "print(conjunto1.difference(conjunto2))\n"
      ],
      "execution_count": 73,
      "outputs": [
        {
          "output_type": "stream",
          "name": "stdout",
          "text": [
            "Diferença\n",
            "{1, 2}\n",
            "{1, 2}\n"
          ]
        }
      ]
    },
    {
      "cell_type": "markdown",
      "metadata": {
        "id": "WP75Wkez5FCj"
      },
      "source": [
        "### Diferença simétrica\n",
        "\n",
        "Diferença simétrica (^), apenas os elementos que estiverem nos dois conjuntos(sets), porém que não se repitam, serão exibidos."
      ]
    },
    {
      "cell_type": "code",
      "metadata": {
        "id": "iYgwEwVI36Co",
        "colab": {
          "base_uri": "https://localhost:8080/"
        },
        "outputId": "004f0b8f-d3a7-44cc-9d28-16ba4c9f3da8"
      },
      "source": [
        "# Declara o conjunto 1\n",
        "conjunto1 = set([1, 2, 3, 4, 4])\n",
        "# Declara o conjunto 2\n",
        "conjunto2 = set([3, 4, 5, 6, 7])\n",
        "\n",
        "# Diferença simétrica\n",
        "print(\"Diferença Simétrica\")\n",
        "\n",
        "# Usando operador ^\n",
        "print(conjunto1 ^ conjunto2)\n",
        "\n",
        "# ou com método symmetric_difference\n",
        "print(conjunto1.symmetric_difference(conjunto2))"
      ],
      "execution_count": 74,
      "outputs": [
        {
          "output_type": "stream",
          "name": "stdout",
          "text": [
            "Diferença Simétrica\n",
            "{1, 2, 5, 6, 7}\n",
            "{1, 2, 5, 6, 7}\n"
          ]
        }
      ]
    },
    {
      "cell_type": "markdown",
      "metadata": {
        "id": "bWfk655zF1Tm"
      },
      "source": [
        "## Converter Lista em Set"
      ]
    },
    {
      "cell_type": "code",
      "metadata": {
        "id": "x3BbZSZEF3rK",
        "colab": {
          "base_uri": "https://localhost:8080/"
        },
        "outputId": "5f991737-21d9-4d0a-a09d-d5fc27b29b6e"
      },
      "source": [
        "# Declara uma lista\n",
        "lista = [ 10, 20, 30, 10, 40, 50, 50]\n",
        "\n",
        "# Converte a lista para um conjunto\n",
        "conjunto = set(lista)\n",
        "\n",
        "# Mostra o conjunto criada\n",
        "print(conjunto)"
      ],
      "execution_count": 75,
      "outputs": [
        {
          "output_type": "stream",
          "name": "stdout",
          "text": [
            "{40, 10, 50, 20, 30}\n"
          ]
        }
      ]
    },
    {
      "cell_type": "markdown",
      "metadata": {
        "id": "659vCoXLHkLO"
      },
      "source": [
        "# Dicionário/Dict\n",
        "\n",
        "No Python, os dicionários são coleções de itens desordenados com uma diferença bem grande quando comparados às outras coleções: um elemento dentro de um dicionário possui uma chave associada a ele, uma espécie de identificador. Sendo assim, é muito utilizado quando queremos armazenar dados de forma organizada e que possuem identificação única (como em um banco de dados).\n",
        "\n",
        "https://www.treinaweb.com.br/blog/manipulando-dicionarios-no-python/\n",
        "\n",
        "https://www.alura.com.br/artigos/trabalhando-com-o-dicionario-no-python"
      ]
    },
    {
      "cell_type": "markdown",
      "metadata": {
        "id": "gfKqb-IUBrdH"
      },
      "source": [
        "## Declaração \n",
        "\n",
        "\n"
      ]
    },
    {
      "cell_type": "code",
      "metadata": {
        "colab": {
          "base_uri": "https://localhost:8080/"
        },
        "id": "6RO6mOSqBrdM",
        "outputId": "f95b157e-8411-47e8-fd67-5e0204dc8a8a"
      },
      "source": [
        "# Declara um dicionário vazio com {}\n",
        "dicionario = {}\n",
        "\n",
        "# Usando  método update\n",
        "dicionario.update({1: \"vermelho\"})\n",
        "dicionario.update({2: \"azul\"})\n",
        "dicionario.update({3: \"verde\"})\n",
        "dicionario.update({4: \"amarelo\"})\n",
        "dicionario.update({5: \"rosa\"})\n",
        "dicionario.update({6: \"branco\"})\n",
        "\n",
        "print(dicionario)"
      ],
      "execution_count": 76,
      "outputs": [
        {
          "output_type": "stream",
          "name": "stdout",
          "text": [
            "{1: 'vermelho', 2: 'azul', 3: 'verde', 4: 'amarelo', 5: 'rosa', 6: 'branco'}\n"
          ]
        }
      ]
    },
    {
      "cell_type": "markdown",
      "metadata": {
        "id": "w6kx3_9D6YLb"
      },
      "source": [
        "## Declaração 1 - Chave numérica\n",
        "\n",
        "\n"
      ]
    },
    {
      "cell_type": "code",
      "metadata": {
        "id": "NRm3F43B6Xqx",
        "colab": {
          "base_uri": "https://localhost:8080/"
        },
        "outputId": "0bb821b7-56c3-437d-dc66-1582dd825a03"
      },
      "source": [
        "# Declara e inicializa um dicionário de cores com chave númerica com {}\n",
        "dicionario = {1:\"vermelho\", 2:\"azul\", 3:\"verde\", 4:\"amarelo\", 5:\"rosa\", 6:\"branco\"}\n",
        "\n",
        "print(dicionario)"
      ],
      "execution_count": 77,
      "outputs": [
        {
          "output_type": "stream",
          "name": "stdout",
          "text": [
            "{1: 'vermelho', 2: 'azul', 3: 'verde', 4: 'amarelo', 5: 'rosa', 6: 'branco'}\n"
          ]
        }
      ]
    },
    {
      "cell_type": "markdown",
      "metadata": {
        "id": "kGkKx1-w7Fz4"
      },
      "source": [
        "## Declaração 2 - Chave numérica\n"
      ]
    },
    {
      "cell_type": "code",
      "metadata": {
        "id": "mSLO01r27Fz5",
        "colab": {
          "base_uri": "https://localhost:8080/"
        },
        "outputId": "9398d038-6ede-40c1-a059-5a74c58fd826"
      },
      "source": [
        "# Declara e inicializa um dicionário de cores com chave númerica com o método dict\n",
        "dicionario = dict({1:\"vermelho\", 2:\"azul\", 3:\"verde\", 4:\"amarelo\", 5:\"rosa\", 6:\"branco\"})\n",
        "\n",
        "print(dicionario)"
      ],
      "execution_count": 78,
      "outputs": [
        {
          "output_type": "stream",
          "name": "stdout",
          "text": [
            "{1: 'vermelho', 2: 'azul', 3: 'verde', 4: 'amarelo', 5: 'rosa', 6: 'branco'}\n"
          ]
        }
      ]
    },
    {
      "cell_type": "markdown",
      "metadata": {
        "id": "LfMQ7wuD95UQ"
      },
      "source": [
        "## Declaração 3 - Chave Literal"
      ]
    },
    {
      "cell_type": "code",
      "metadata": {
        "id": "BWuzl00K94Ut",
        "colab": {
          "base_uri": "https://localhost:8080/"
        },
        "outputId": "3c9253b8-ed08-4346-fce0-6491d144b6ff"
      },
      "source": [
        "# Declara e inicializa um dicionário de cores com chave literal\n",
        "dicionario = {\"um\":\"vermelho\", \"dois\":\"azul\", \"tres\":\"verde\", \"quatro\":\"amarelo\", \"cinco\":\"rosa\"}\n",
        "\n",
        "print(dicionario)\n",
        "\n",
        "# Recuperando valores com colchetes\n",
        "print(dicionario[\"um\"])"
      ],
      "execution_count": 79,
      "outputs": [
        {
          "output_type": "stream",
          "name": "stdout",
          "text": [
            "{'um': 'vermelho', 'dois': 'azul', 'tres': 'verde', 'quatro': 'amarelo', 'cinco': 'rosa'}\n",
            "vermelho\n"
          ]
        }
      ]
    },
    {
      "cell_type": "markdown",
      "metadata": {
        "id": "Lva_kXo6HnJa"
      },
      "source": [
        "## Recuperando valores com colchetes 1\n",
        "\n",
        "\n"
      ]
    },
    {
      "cell_type": "code",
      "metadata": {
        "id": "ZqfznTJsHok7",
        "colab": {
          "base_uri": "https://localhost:8080/"
        },
        "outputId": "f5442375-d6fb-474a-f40f-243068f787dd"
      },
      "source": [
        "# Declara e inicializa um dicionário de cores\n",
        "dicionario = {1:\"vermelho\", 2:\"azul\", 3:\"verde\", 4:\"amarelo\", 5:\"rosa\", 6:\"branco\"}\n",
        "\n",
        "# Recuperando um valor pela chave e colchetes\n",
        "try:\n",
        "    valor = dicionario[1]     \n",
        "except KeyError:\n",
        "    valor = None\n",
        "\n",
        "# Mostra o valor\n",
        "print(valor)"
      ],
      "execution_count": 80,
      "outputs": [
        {
          "output_type": "stream",
          "name": "stdout",
          "text": [
            "vermelho\n"
          ]
        }
      ]
    },
    {
      "cell_type": "markdown",
      "metadata": {
        "id": "D7t1bOT6JIYx"
      },
      "source": [
        "## Recuperando valores com get 2"
      ]
    },
    {
      "cell_type": "code",
      "metadata": {
        "id": "pdFs8u8eJIlZ",
        "colab": {
          "base_uri": "https://localhost:8080/"
        },
        "outputId": "b04eb459-7e89-4137-efe4-3d52c902e860"
      },
      "source": [
        "# Declara e inicializa um dicionário de cores\n",
        "dicionario = {1:\"vermelho\", 2:\"azul\", 3:\"verde\", 4:\"amarelo\", 5:\"rosa\", 6:\"branco\"}\n",
        "\n",
        "# Recuperando um valor pela chave com get sem valor padrão\n",
        "valor = dicionario.get(1)\n",
        "\n",
        "# Mostra o valor\n",
        "print(valor)"
      ],
      "execution_count": 81,
      "outputs": [
        {
          "output_type": "stream",
          "name": "stdout",
          "text": [
            "vermelho\n"
          ]
        }
      ]
    },
    {
      "cell_type": "markdown",
      "metadata": {
        "id": "HO6bkS68JdKN"
      },
      "source": [
        "## Recuperando valores com get e valor default 3"
      ]
    },
    {
      "cell_type": "code",
      "metadata": {
        "id": "YL0Vdr6UJhfd",
        "colab": {
          "base_uri": "https://localhost:8080/"
        },
        "outputId": "2d53b68f-2e13-4dfe-c413-28e24396d16f"
      },
      "source": [
        "# Declara e inicializa um dicionário de cores\n",
        "dicionario = {1:\"vermelho\", 2:\"azul\", 3:\"verde\", 4:\"amarelo\", 5:\"rosa\", 6:\"branco\"}\n",
        "\n",
        "# Recuperando um valor pela chave com get com valor padrão\n",
        "valor = dicionario.get(10,\"sem cor\")\n",
        "\n",
        "# Mostra o valor\n",
        "print(valor)"
      ],
      "execution_count": 82,
      "outputs": [
        {
          "output_type": "stream",
          "name": "stdout",
          "text": [
            "sem cor\n"
          ]
        }
      ]
    },
    {
      "cell_type": "markdown",
      "metadata": {
        "id": "zvP-bofD7j3A"
      },
      "source": [
        "## Tamanho do dicionário"
      ]
    },
    {
      "cell_type": "code",
      "metadata": {
        "id": "kNGceH3S7lkA",
        "colab": {
          "base_uri": "https://localhost:8080/"
        },
        "outputId": "95acb384-229d-4038-bd14-f085305794c3"
      },
      "source": [
        "# Declara e inicializa um dicionário de cores\n",
        "dicionario = {1:\"vermelho\", 2:\"azul\", 3:\"verde\", 4:\"amarelo\", 5:\"rosa\", 6:\"branco\"}\n",
        "\n",
        "print(len(dicionario))"
      ],
      "execution_count": 83,
      "outputs": [
        {
          "output_type": "stream",
          "name": "stdout",
          "text": [
            "6\n"
          ]
        }
      ]
    },
    {
      "cell_type": "markdown",
      "metadata": {
        "id": "uzOziKk57u5K"
      },
      "source": [
        "## Adicionado elementos"
      ]
    },
    {
      "cell_type": "code",
      "metadata": {
        "id": "EnmtqHmw7wby",
        "colab": {
          "base_uri": "https://localhost:8080/"
        },
        "outputId": "f3516d41-a212-45a2-aeca-ce99aeeca698"
      },
      "source": [
        "# Declara e inicializa um dicionário de cores\n",
        "dicionario = {1:\"vermelho\", 2:\"azul\", 3:\"verde\", 4:\"amarelo\", 5:\"rosa\", 6:\"branco\"}\n",
        "\n",
        "print(dicionario)\n",
        "\n",
        "# Especificando a posição\n",
        "dicionario[8] = \"cinza\"\n",
        "print(dicionario)\n",
        "\n",
        "# Usando método update\n",
        "dicionario.update({7: \"purpura\"})\n",
        "print(dicionario)"
      ],
      "execution_count": 84,
      "outputs": [
        {
          "output_type": "stream",
          "name": "stdout",
          "text": [
            "{1: 'vermelho', 2: 'azul', 3: 'verde', 4: 'amarelo', 5: 'rosa', 6: 'branco'}\n",
            "{1: 'vermelho', 2: 'azul', 3: 'verde', 4: 'amarelo', 5: 'rosa', 6: 'branco', 8: 'cinza'}\n",
            "{1: 'vermelho', 2: 'azul', 3: 'verde', 4: 'amarelo', 5: 'rosa', 6: 'branco', 8: 'cinza', 7: 'purpura'}\n"
          ]
        }
      ]
    },
    {
      "cell_type": "markdown",
      "metadata": {
        "id": "nH26cd0_eY4J"
      },
      "source": [
        "## Concatenando dois dicionários"
      ]
    },
    {
      "cell_type": "code",
      "metadata": {
        "id": "skOTMPdeeY4J",
        "colab": {
          "base_uri": "https://localhost:8080/"
        },
        "outputId": "e8db6e86-05df-4fcf-9724-6fb9755d98df"
      },
      "source": [
        "# Declara e inicializa um dicionário de cores\n",
        "dicionario1 = {1:\"vermelho\", 2:\"azul\", 3:\"verde\", 4:\"amarelo\"}\n",
        "dicionario2 = {4:\"amarelo\", 5:\"rosa\", 6:\"branco\"}\n",
        "\n",
        "print(dicionario1)\n",
        "print(dicionario2)\n",
        "\n",
        "# Concatena os dicionários()\n",
        "dicionario1.update(dicionario2)\n",
        "\n",
        "print(dicionario1)"
      ],
      "execution_count": 85,
      "outputs": [
        {
          "output_type": "stream",
          "name": "stdout",
          "text": [
            "{1: 'vermelho', 2: 'azul', 3: 'verde', 4: 'amarelo'}\n",
            "{4: 'amarelo', 5: 'rosa', 6: 'branco'}\n",
            "{1: 'vermelho', 2: 'azul', 3: 'verde', 4: 'amarelo', 5: 'rosa', 6: 'branco'}\n"
          ]
        }
      ]
    },
    {
      "cell_type": "markdown",
      "metadata": {
        "id": "17YaYR888L14"
      },
      "source": [
        "## Removendo elementos (pop)\n",
        "\n",
        "Remove um elemento pela chave do dicionário e retorna a chave do elemento. Use quando quiser conhecer o elemento removido."
      ]
    },
    {
      "cell_type": "code",
      "metadata": {
        "id": "YcHSjgad8NN4",
        "colab": {
          "base_uri": "https://localhost:8080/"
        },
        "outputId": "172a4306-7c71-48c8-b371-ec216064d36e"
      },
      "source": [
        "# Declara e inicializa um dicionário de cores\n",
        "dicionario = {1:\"vermelho\", 2:\"azul\", 3:\"verde\", 4:\"amarelo\", 5:\"rosa\", 6:\"branco\"}\n",
        "\n",
        "print(dicionario)\n",
        "\n",
        "# pop()\n",
        "apagado = dicionario.pop(2)\n",
        "print(dicionario)\n",
        "\n",
        "# Elemento removido\n",
        "print(apagado)"
      ],
      "execution_count": 86,
      "outputs": [
        {
          "output_type": "stream",
          "name": "stdout",
          "text": [
            "{1: 'vermelho', 2: 'azul', 3: 'verde', 4: 'amarelo', 5: 'rosa', 6: 'branco'}\n",
            "{1: 'vermelho', 3: 'verde', 4: 'amarelo', 5: 'rosa', 6: 'branco'}\n",
            "azul\n"
          ]
        }
      ]
    },
    {
      "cell_type": "markdown",
      "metadata": {
        "id": "uBTTs67ZfKz9"
      },
      "source": [
        "## Removendo elementos (del)\n",
        "\n",
        "Remove um elemento pela chave do dicionário."
      ]
    },
    {
      "cell_type": "code",
      "metadata": {
        "id": "VFG3qfUpfKz-",
        "colab": {
          "base_uri": "https://localhost:8080/"
        },
        "outputId": "46fd2e58-f810-4e5e-cea2-40bbf6fd5790"
      },
      "source": [
        "# Declara e inicializa um dicionário de cores\n",
        "dicionario = {1:\"vermelho\", 2:\"azul\", 3:\"verde\", 4:\"amarelo\", 5:\"rosa\", 6:\"branco\"}\n",
        "\n",
        "print(dicionario)\n",
        "\n",
        "# del\n",
        "del dicionario[1]\n",
        "\n",
        "print(dicionario)"
      ],
      "execution_count": 87,
      "outputs": [
        {
          "output_type": "stream",
          "name": "stdout",
          "text": [
            "{1: 'vermelho', 2: 'azul', 3: 'verde', 4: 'amarelo', 5: 'rosa', 6: 'branco'}\n",
            "{2: 'azul', 3: 'verde', 4: 'amarelo', 5: 'rosa', 6: 'branco'}\n"
          ]
        }
      ]
    },
    {
      "cell_type": "markdown",
      "metadata": {
        "id": "JF2sOdM3e65C"
      },
      "source": [
        "## Apagando dicionário"
      ]
    },
    {
      "cell_type": "code",
      "metadata": {
        "id": "5tv1wJpoe65C",
        "colab": {
          "base_uri": "https://localhost:8080/"
        },
        "outputId": "cbf88e6d-c5ac-4661-fefd-0830fc6c9733"
      },
      "source": [
        "# Declara e inicializa um dicionário de cores\n",
        "dicionario = {1:\"vermelho\", 2:\"azul\", 3:\"verde\", 4:\"amarelo\", 5:\"rosa\", 6:\"branco\"}\n",
        "\n",
        "print(dicionario)\n",
        "\n",
        "# clear()\n",
        "dicionario.clear()\n",
        "\n",
        "print(dicionario)"
      ],
      "execution_count": 88,
      "outputs": [
        {
          "output_type": "stream",
          "name": "stdout",
          "text": [
            "{1: 'vermelho', 2: 'azul', 3: 'verde', 4: 'amarelo', 5: 'rosa', 6: 'branco'}\n",
            "{}\n"
          ]
        }
      ]
    },
    {
      "cell_type": "markdown",
      "metadata": {
        "id": "1LJiRi52_wii"
      },
      "source": [
        "## Listando os elementos"
      ]
    },
    {
      "cell_type": "code",
      "metadata": {
        "id": "tlsb5HpQ_yy5",
        "colab": {
          "base_uri": "https://localhost:8080/"
        },
        "outputId": "59bc8beb-ce99-4474-b46a-1647266f96c5"
      },
      "source": [
        "# Declara e inicializa um dicionário de cores\n",
        "dicionario = {1:\"vermelho\", 2:\"azul\", 3:\"verde\", 4:\"amarelo\", 5:\"rosa\", 6:\"branco\"}\n",
        "\n",
        "# Lista as chaves do dicionario(método keys())\n",
        "for linha in dicionario.keys():\n",
        "  print(linha)\n",
        "\n",
        "# Lista os valores do dicionário(método values())\n",
        "for linha in dicionario.values():\n",
        "  print(linha)\n",
        "\n",
        "# Lista chave e valores do dicionário(método items())\n",
        "for chave, valor in dicionario.items():\n",
        "  print(\"chave=\",chave,\" valor=\", valor)"
      ],
      "execution_count": 89,
      "outputs": [
        {
          "output_type": "stream",
          "name": "stdout",
          "text": [
            "1\n",
            "2\n",
            "3\n",
            "4\n",
            "5\n",
            "6\n",
            "vermelho\n",
            "azul\n",
            "verde\n",
            "amarelo\n",
            "rosa\n",
            "branco\n",
            "chave= 1  valor= vermelho\n",
            "chave= 2  valor= azul\n",
            "chave= 3  valor= verde\n",
            "chave= 4  valor= amarelo\n",
            "chave= 5  valor= rosa\n",
            "chave= 6  valor= branco\n"
          ]
        }
      ]
    },
    {
      "cell_type": "markdown",
      "metadata": {
        "id": "emPC9iVRbY-A"
      },
      "source": [
        "## Ordenando os elementos pelo valor"
      ]
    },
    {
      "cell_type": "code",
      "metadata": {
        "colab": {
          "base_uri": "https://localhost:8080/"
        },
        "id": "6PWaEuwvcalv",
        "outputId": "ed85be7e-3a3f-4929-b22d-ee61f654c8b4"
      },
      "source": [
        "# Declara e inicializa um dicionário de quantidade cores\n",
        "dicionario = {\"vermelho\": 3, \"azul\": 2 , \"verde\": 6, \"amarelo\": 5, \"rosa\": 1, \"branco\":4}\n",
        "\n",
        "# Lista as chaves do dicionário ordenados crescentemente\n",
        "print(sorted(dicionario))"
      ],
      "execution_count": 90,
      "outputs": [
        {
          "output_type": "stream",
          "name": "stdout",
          "text": [
            "['amarelo', 'azul', 'branco', 'rosa', 'verde', 'vermelho']\n"
          ]
        }
      ]
    },
    {
      "cell_type": "markdown",
      "metadata": {
        "id": "RORPIc64o9Rq"
      },
      "source": [
        "## Ordenando os elementos pela chave\n",
        "\n",
        "Ordem crescente"
      ]
    },
    {
      "cell_type": "code",
      "metadata": {
        "colab": {
          "base_uri": "https://localhost:8080/"
        },
        "id": "rol09AimbY-B",
        "outputId": "62a31412-c735-44be-c3f3-90886b99fd76"
      },
      "source": [
        "# Declara e inicializa um dicionário de quantidade cores\n",
        "dicionario = {\"vermelho\": 3, \"azul\": 2 , \"verde\": 6, \"amarelo\": 5, \"rosa\": 1, \"branco\":4}\n",
        "\n",
        "# Lista as chaves do dicionário ordenados crescentemente\n",
        "for valor in sorted(dicionario, key = dicionario.get):\n",
        "    print(valor, dicionario[valor])"
      ],
      "execution_count": 91,
      "outputs": [
        {
          "output_type": "stream",
          "name": "stdout",
          "text": [
            "rosa 1\n",
            "azul 2\n",
            "vermelho 3\n",
            "branco 4\n",
            "amarelo 5\n",
            "verde 6\n"
          ]
        }
      ]
    },
    {
      "cell_type": "markdown",
      "metadata": {
        "id": "xJKznimXo6Ll"
      },
      "source": [
        "Ordem descrente"
      ]
    },
    {
      "cell_type": "code",
      "metadata": {
        "colab": {
          "base_uri": "https://localhost:8080/"
        },
        "id": "fhgb7A8McLHN",
        "outputId": "ca3bd90f-2974-4eb1-bc90-3fd6e67f22ee"
      },
      "source": [
        "# Declara e inicializa um dicionário de quantidade cores\n",
        "dicionario = {\"vermelho\": 3, \"azul\": 2 , \"verde\": 6, \"amarelo\": 5, \"rosa\": 1, \"branco\":4}\n",
        "\n",
        "# Lista as chaves do dicionário ordenados descrescentemente\n",
        "for valor in sorted(dicionario, key = dicionario.get, reverse=True):\n",
        "    print(valor, dicionario[valor])"
      ],
      "execution_count": 92,
      "outputs": [
        {
          "output_type": "stream",
          "name": "stdout",
          "text": [
            "verde 6\n",
            "amarelo 5\n",
            "branco 4\n",
            "vermelho 3\n",
            "azul 2\n",
            "rosa 1\n"
          ]
        }
      ]
    },
    {
      "cell_type": "markdown",
      "metadata": {
        "id": "NGIkQkn79K04"
      },
      "source": [
        "## Dicionário de Dicionário"
      ]
    },
    {
      "cell_type": "code",
      "metadata": {
        "id": "KtIwBy529UBh",
        "colab": {
          "base_uri": "https://localhost:8080/"
        },
        "outputId": "c2a32072-8bb6-4dfb-c4c1-50c4af258c81"
      },
      "source": [
        "# Declara e inicializa um dicionário de cores com chave númerica com {}\n",
        "dicionario = {1:{11:{\"onze\"}, 12:{\"doze\"}},\n",
        "              2:{21:{\"vinte um\"}, 22:{\"vinte dois\"}},\n",
        "              3:{31:{\"trinta e um\"}, 32:{\"trinta e dois\"}}}\n",
        "\n",
        "# Recupera o valor do primeiro dicionário\n",
        "print(dicionario[1])\n",
        "\n",
        "# Recupera o valor do segundo dicionário\n",
        "print(dicionario[1][11])\n",
        "\n",
        "# Lista chave e valores do dicionário(método items())\n",
        "for chave1, valor1 in dicionario.items():\n",
        "  print(\"chave1=\",chave1,\" valor1=\", valor1)\n",
        "  # Lista os valores do dicionário interno \n",
        "  for chave2, valor2 in valor1.items():\n",
        "    print(\"    chave2=\",chave2,\" valor2=\", valor2)"
      ],
      "execution_count": 93,
      "outputs": [
        {
          "output_type": "stream",
          "name": "stdout",
          "text": [
            "{11: {'onze'}, 12: {'doze'}}\n",
            "{'onze'}\n",
            "chave1= 1  valor1= {11: {'onze'}, 12: {'doze'}}\n",
            "    chave2= 11  valor2= {'onze'}\n",
            "    chave2= 12  valor2= {'doze'}\n",
            "chave1= 2  valor1= {21: {'vinte um'}, 22: {'vinte dois'}}\n",
            "    chave2= 21  valor2= {'vinte um'}\n",
            "    chave2= 22  valor2= {'vinte dois'}\n",
            "chave1= 3  valor1= {31: {'trinta e um'}, 32: {'trinta e dois'}}\n",
            "    chave2= 31  valor2= {'trinta e um'}\n",
            "    chave2= 32  valor2= {'trinta e dois'}\n"
          ]
        }
      ]
    },
    {
      "cell_type": "markdown",
      "metadata": {
        "id": "QZPMCLpGwf9E"
      },
      "source": [
        "## Concatenando 2 dicionários"
      ]
    },
    {
      "cell_type": "code",
      "metadata": {
        "colab": {
          "base_uri": "https://localhost:8080/"
        },
        "id": "nVYBgxbtwgIC",
        "outputId": "97316a8b-60a3-4be1-8ce1-2856c210d853"
      },
      "source": [
        "# Declara e inicializa um dicionário de cores\n",
        "dicionario1 = {4:\"amarelo\", 5:\"rosa\", 6:\"branco\"}\n",
        "dicionario2 = {1:\"vermelho\", 2:\"azul\", 3:\"verde\"}\n",
        "\n",
        "# Adiciona o dicionário1 no dicionario2\n",
        "for chave in dicionario1:\n",
        "    dicionario2[chave] = dicionario1[chave]\n",
        "\n",
        "print(dicionario2)"
      ],
      "execution_count": 94,
      "outputs": [
        {
          "output_type": "stream",
          "name": "stdout",
          "text": [
            "{1: 'vermelho', 2: 'azul', 3: 'verde', 4: 'amarelo', 5: 'rosa', 6: 'branco'}\n"
          ]
        }
      ]
    },
    {
      "cell_type": "markdown",
      "metadata": {
        "id": "HoJtFntzzq0Q"
      },
      "source": [
        "# Classificação / Ordenação"
      ]
    },
    {
      "cell_type": "markdown",
      "metadata": {
        "id": "S3lURBdBzxuQ"
      },
      "source": [
        "## Método da bolha"
      ]
    },
    {
      "cell_type": "code",
      "metadata": {
        "id": "dkS6JT-iz1gc",
        "colab": {
          "base_uri": "https://localhost:8080/"
        },
        "outputId": "985e7494-fa78-400d-f8f7-5dd1140706f9"
      },
      "source": [
        "# Inicialização das variáveis\n",
        "vetor = [60, 50, 40, 30, 20, 10]\n",
        "\n",
        "# Processamento\n",
        "for i in range(0, len(vetor)-1):\n",
        "    for j in range(i+1, len(vetor)):        \n",
        "        if(vetor[i] > vetor[j]):            \n",
        "            aux = vetor[i]\n",
        "            vetor[i] = vetor[j]\n",
        "            vetor[j] = aux\n",
        "            \n",
        "# Saída\n",
        "print(vetor)"
      ],
      "execution_count": 95,
      "outputs": [
        {
          "output_type": "stream",
          "name": "stdout",
          "text": [
            "[10, 20, 30, 40, 50, 60]\n"
          ]
        }
      ]
    },
    {
      "cell_type": "markdown",
      "metadata": {
        "id": "nMLw-_l8gqPI"
      },
      "source": [
        "## Método Quicksort"
      ]
    },
    {
      "cell_type": "code",
      "metadata": {
        "id": "qLLMntLZgsaU",
        "colab": {
          "base_uri": "https://localhost:8080/"
        },
        "outputId": "363b511e-a41d-47a2-9dde-2bd077dd2529"
      },
      "source": [
        "# Função quicksort\n",
        "def quicksort(vetor):\n",
        "    if len(vetor) <= 1:\n",
        "        return vetor\n",
        "    pivo = vetor[len(vetor) // 2] #Divisão inteira (//)\n",
        "    esquerda = [x for x in vetor if x < pivo]\n",
        "    meio = [x for x in vetor if x == pivo]\n",
        "    direita = [x for x in vetor if x > pivo]\n",
        "    return quicksort(esquerda) + meio + quicksort(direita)\n",
        "\n",
        "# Inicialização das variáveis\n",
        "vetor = [10, 20, 30, 40, 50, 60]\n",
        "\n",
        "# Processamento\n",
        "vetorOrdenado = quicksort(vetor)\n",
        "            \n",
        "# Saída\n",
        "print(vetor)"
      ],
      "execution_count": 96,
      "outputs": [
        {
          "output_type": "stream",
          "name": "stdout",
          "text": [
            "[10, 20, 30, 40, 50, 60]\n"
          ]
        }
      ]
    },
    {
      "cell_type": "markdown",
      "metadata": {
        "id": "0Q4NM9va2mWB"
      },
      "source": [
        "## Sort Ascendente"
      ]
    },
    {
      "cell_type": "code",
      "metadata": {
        "id": "AMS9-fng2qjb",
        "colab": {
          "base_uri": "https://localhost:8080/"
        },
        "outputId": "f6654c79-9533-442e-f703-bf098db510ae"
      },
      "source": [
        "# Inicialização das variáveis\n",
        "vetor = [60, 50, 40, 30, 20, 10]\n",
        "\n",
        "# Processamento\n",
        "vetor.sort()\n",
        "            \n",
        "# Saída\n",
        "print(vetor)"
      ],
      "execution_count": 97,
      "outputs": [
        {
          "output_type": "stream",
          "name": "stdout",
          "text": [
            "[10, 20, 30, 40, 50, 60]\n"
          ]
        }
      ]
    },
    {
      "cell_type": "markdown",
      "metadata": {
        "id": "2Y0uyvPf24zG"
      },
      "source": [
        "## Sort Descendente"
      ]
    },
    {
      "cell_type": "code",
      "metadata": {
        "id": "1-_tKRnC3CdR",
        "colab": {
          "base_uri": "https://localhost:8080/"
        },
        "outputId": "28450437-66cd-4434-f20a-c46774c920b3"
      },
      "source": [
        "# Inicialização das variáveis\n",
        "vetor = [10, 20, 30, 40, 50, 60]\n",
        "\n",
        "# Processamento\n",
        "vetor.sort(reverse=True)\n",
        "            \n",
        "# Saída\n",
        "print(vetor)"
      ],
      "execution_count": 98,
      "outputs": [
        {
          "output_type": "stream",
          "name": "stdout",
          "text": [
            "[60, 50, 40, 30, 20, 10]\n"
          ]
        }
      ]
    },
    {
      "cell_type": "markdown",
      "metadata": {
        "id": "KfESLnXVs2zM"
      },
      "source": [
        "# Implementações de estruturas de dados"
      ]
    },
    {
      "cell_type": "markdown",
      "metadata": {
        "id": "P6-IKLWDkEKc"
      },
      "source": [
        "## Classe Pilha\n",
        "\n",
        "LIFO (Last In First Out)\n",
        "\n",
        "A inserção e remoção é realizada sempre no fim da lista, denominada topo."
      ]
    },
    {
      "cell_type": "code",
      "metadata": {
        "id": "6XoLTXvYkLf-"
      },
      "source": [
        "class Pilha:\n",
        "  \n",
        "    # Construtor da classe\n",
        "    def __init__(self):\n",
        "        # Lista para armazenar os elementos da pilha\n",
        "        self.pilha = []\n",
        "        #inicializa o contador de elementos da pilha\n",
        "        self.qtde = 0 \n",
        "        \n",
        "    # Empilhar(push)\n",
        "    def empilhar(self, elemento):\n",
        "        # Adiciona o elemento a pilha\n",
        "        self.pilha.append(elemento)\n",
        "        # Incrementa o contador de elementos da pilha\n",
        "        self.qtde += 1\n",
        "    \n",
        "    # Desempilhar(pop)\n",
        "    def desempilhar(self): \n",
        "        # Se não estiver vazia\n",
        "        if not self.vazia():\n",
        "            # Mensagem mostrando o elemento removido\n",
        "            print(\"Elemento removido: \", self.pilha[len(self.pilha) - 1])\n",
        "            # Remove o elemento do topo da pilha\n",
        "            self.pilha.pop(len(self.pilha) - 1)\n",
        "            # Decrementa o contador de elementos da pilha\n",
        "            self.qtde -= 1\n",
        "\n",
        "    # Verifica a situação da pilha\n",
        "    def vazia(self):\n",
        "        # Verifica o tamanho da lista\n",
        "        if self.qtde == 0:\n",
        "            return True\n",
        "        return False\n",
        "    \n",
        "    # Mostra os elementos da pilha\n",
        "    def mostraPilha(self):\n",
        "        # Percorre os elementos da pilha\n",
        "        for i in range(self.qtde - 1, -1, -1): #Range de (Tamanho Fila até 0)\n",
        "            print(self.pilha[i])"
      ],
      "execution_count": 99,
      "outputs": []
    },
    {
      "cell_type": "markdown",
      "metadata": {
        "id": "03hwiVMLkhue"
      },
      "source": [
        "Exemplo uso:"
      ]
    },
    {
      "cell_type": "code",
      "metadata": {
        "id": "YVbsZehSkjJ4",
        "colab": {
          "base_uri": "https://localhost:8080/"
        },
        "outputId": "35557644-098c-4b87-b97d-cf422200c42a"
      },
      "source": [
        "# Declara a pilha\n",
        "p = Pilha()\n",
        "\n",
        "# Adiciona \n",
        "p.empilhar(10)\n",
        "p.empilhar(20)\n",
        "p.empilhar(30)\n",
        "\n",
        "# Mostra a pilha\n",
        "p.mostraPilha()\n",
        "\n",
        "# Remove \n",
        "p.desempilhar()\n",
        "\n",
        "# Mostra a pilha\n",
        "p.mostraPilha()\n",
        "\n",
        "# Remove \n",
        "p.desempilhar()\n",
        "\n",
        "# Situação da pilha\n",
        "print(p.vazia())"
      ],
      "execution_count": 100,
      "outputs": [
        {
          "output_type": "stream",
          "name": "stdout",
          "text": [
            "30\n",
            "20\n",
            "10\n",
            "Elemento removido:  30\n",
            "20\n",
            "10\n",
            "Elemento removido:  20\n",
            "False\n"
          ]
        }
      ]
    },
    {
      "cell_type": "markdown",
      "metadata": {
        "id": "oP0Tf9dEnB9x"
      },
      "source": [
        "## Classe Fila\n",
        "\n",
        "FIFO (First In First Out)\n",
        "\n",
        "A inclusão ocorre no fim e a exclusão ocorre no início."
      ]
    },
    {
      "cell_type": "code",
      "metadata": {
        "id": "aRCMn1i0nMx2"
      },
      "source": [
        "class Fila:\n",
        "\n",
        "    # Construtor da classe\n",
        "    def __init__(self):\n",
        "        # Lista para armazenar os elementos da pilha\n",
        "        self.fila = []\n",
        "        #inicializa contador de elementos da fila\n",
        "        self.qtde = 0\n",
        "        \n",
        "    # Enfileirar(enqueue)\n",
        "    def enfileirar(self, elemento):\n",
        "        # Adiciona o elemento no final da fila\n",
        "        self.fila.append(elemento)\n",
        "        # Incrementa o contador de elementos da fila\n",
        "        self.qtde += 1\n",
        "    \n",
        "    # Desenfileirar(dequeue)\n",
        "    def desenfileirar(self):\n",
        "        # Se não estiver vazia\n",
        "        if not self.vazia():\n",
        "            # Mensagem mostrando o elemento removido          \n",
        "            print(\"Elemento removido: \", self.fila[0])\n",
        "            # Remove o elemento do início da fila\n",
        "            self.fila.pop(0)\n",
        "            # Decrementa o contador de elementos da fila\n",
        "            self.qtde -= 1\n",
        "\n",
        "    # Verifica a situação da fila\n",
        "    def vazia(self):\n",
        "        if self.qtde == 0:\n",
        "            return True\n",
        "        return False\n",
        "    \n",
        "    # Mostra os elementos da fila\n",
        "    def mostraFila(self):\n",
        "        # Percorre os elementos da fila\n",
        "        for i in range(self.qtde):\n",
        "            print(self.fila[i])"
      ],
      "execution_count": 101,
      "outputs": []
    },
    {
      "cell_type": "markdown",
      "metadata": {
        "id": "YzhngxoToGFc"
      },
      "source": [
        "Exemplo uso:"
      ]
    },
    {
      "cell_type": "code",
      "metadata": {
        "id": "lLpYAooroGfN",
        "colab": {
          "base_uri": "https://localhost:8080/"
        },
        "outputId": "0eebab8a-8a81-44d9-91a3-dc9cd47eb18b"
      },
      "source": [
        "# Declara a fila\n",
        "q = Fila()\n",
        "\n",
        "# Adiciona \n",
        "q.enfileirar(10)\n",
        "q.enfileirar(20)\n",
        "q.enfileirar(30)\n",
        "\n",
        "# Mostra a fila\n",
        "q.mostraFila()\n",
        "\n",
        "# Remove\n",
        "q.desenfileirar()\n",
        "\n",
        "# Mostra a fila\n",
        "q.mostraFila()\n",
        "\n",
        "# Enfileirar\n",
        "print(\"Enfileirando: 40\")\n",
        "q.enfileirar(40)\n",
        "\n",
        "# Mostra a fila\n",
        "q.mostraFila()\n",
        "\n",
        "# Situação da fila\n",
        "print(q.vazia())"
      ],
      "execution_count": 102,
      "outputs": [
        {
          "output_type": "stream",
          "name": "stdout",
          "text": [
            "10\n",
            "20\n",
            "30\n",
            "Elemento removido:  10\n",
            "20\n",
            "30\n",
            "Enfileirando: 40\n",
            "20\n",
            "30\n",
            "40\n",
            "False\n"
          ]
        }
      ]
    },
    {
      "cell_type": "markdown",
      "metadata": {
        "id": "T3Ko8MjHowD-"
      },
      "source": [
        "## Classe Deque\n",
        "\n",
        "Os elementos podem ser removidos ou inseridos no início ou fim da fila."
      ]
    },
    {
      "cell_type": "code",
      "metadata": {
        "id": "hAota5TYozCF"
      },
      "source": [
        "class Deque:\n",
        "\n",
        "    # Construtor da classe    \n",
        "    def __init__(self):\n",
        "        # Lista para armazenar os elementos do deque\n",
        "        self.deque = []\n",
        "        # Inicializa contador de elementos do deque\n",
        "        self.qtde = 0\n",
        "    \n",
        "    # Insere no início(insertFront)\n",
        "    def inserirInicio(self, elemento):\n",
        "        # Adiciona o elemento no início do deque\n",
        "        self.deque.insert(0, elemento)\n",
        "        # Incrementa o contador de elementos do deque\n",
        "        self.qtde += 1\n",
        "            \n",
        "    # Insere no fim(insertBack)\n",
        "    def inserirFim(self, elemento):\n",
        "        # Adiciona o elemento no fim do deque\n",
        "        self.deque.append(elemento)\n",
        "        # Incrementa o contador de elementos do deque\n",
        "        self.qtde += 1\n",
        "        \n",
        "    # Remove do início(removeFront)\n",
        "    def removerInicio(self):\n",
        "        # Mensagem mostrando o elemento removido\n",
        "        print(\"Elemento removido: \", self.deque[0])\n",
        "        # Remove o elemento do início\n",
        "        self.deque.pop(0)\n",
        "        # Decrementa o contador de elementos do deque\n",
        "        self.qtde -= 1\n",
        "    \n",
        "    # Remove do fim(removeBack)\n",
        "    def removerFim(self):\n",
        "        # Mensagem mostrando o elemento removido\n",
        "        print(\"Elemento removido: \", self.deque[-1])\n",
        "        # Remove o elemento do fim\n",
        "        self.deque.pop(-1)\n",
        "        # Decrementa o contador de elementos\n",
        "        self.qtde -= 1\n",
        "        \n",
        "    # Verifica a situação do deque\n",
        "    def vazia(self):\n",
        "        if self.qtde == 0:\n",
        "            return True\n",
        "        return False\n",
        "\n",
        "    # Mostra os elementos do deque\n",
        "    def mostraDeque(self):\n",
        "        # Percorre os elementos do deque\n",
        "        for i in range(self.qtde):\n",
        "            print(self.deque[i])"
      ],
      "execution_count": 103,
      "outputs": []
    },
    {
      "cell_type": "markdown",
      "metadata": {
        "id": "yHWYdDQip7jA"
      },
      "source": [
        "Exemplo de uso:"
      ]
    },
    {
      "cell_type": "code",
      "metadata": {
        "id": "n2h1HLW5p8p6",
        "colab": {
          "base_uri": "https://localhost:8080/"
        },
        "outputId": "662e28f6-2a08-4b2d-d983-39e697f9f462"
      },
      "source": [
        "# Declara o deque\n",
        "d = Deque()\n",
        "\n",
        "# Inserindo no início\n",
        "d.inserirInicio(10)\n",
        "d.inserirInicio(20)\n",
        "d.inserirInicio(30)\n",
        "\n",
        "# Mostra o deque\n",
        "d.mostraDeque()\n",
        "\n",
        "# Remove do fim\n",
        "d.removerFim()\n",
        "\n",
        "# Remove do início\n",
        "d.removerInicio()\n",
        "\n",
        "# Mostra o deque\n",
        "d.mostraDeque()\n",
        "\n",
        "# Situação do deque\n",
        "print(d.vazia())"
      ],
      "execution_count": 104,
      "outputs": [
        {
          "output_type": "stream",
          "name": "stdout",
          "text": [
            "30\n",
            "20\n",
            "10\n",
            "Elemento removido:  10\n",
            "Elemento removido:  30\n",
            "20\n",
            "False\n"
          ]
        }
      ]
    },
    {
      "cell_type": "markdown",
      "metadata": {
        "id": "_TDiScCgqUIW"
      },
      "source": [
        "## Deque com collections.deque\n",
        "\n",
        "Implementação do Deque do pacote colletions"
      ]
    },
    {
      "cell_type": "code",
      "metadata": {
        "id": "DoW65JTIqYBi",
        "colab": {
          "base_uri": "https://localhost:8080/"
        },
        "outputId": "89a327b6-cb06-45c3-eb28-ce37ce513ac5"
      },
      "source": [
        "from collections import deque\n",
        "\n",
        "# Declara o deque\n",
        "d = deque()\n",
        "\n",
        "# Adiciona ao fim do deque\n",
        "d.append(10) \n",
        "# Adiciona ao início ao deque\n",
        "d.appendleft(20) \n",
        "# Adiciona ao fim do deque\n",
        "d.append(30)\n",
        "\n",
        "# Mostra o deque\n",
        "for i in d:\n",
        "    print(i, end=\" \")\n",
        "\n",
        "# Remove do fim\n",
        "d.pop() \n",
        "\n",
        "# Remove do início\n",
        "d.popleft()\n",
        "\n",
        "# Mostra o deque\n",
        "for i in d:\n",
        "    print(i, end=\" \")"
      ],
      "execution_count": 105,
      "outputs": [
        {
          "output_type": "stream",
          "name": "stdout",
          "text": [
            "20 10 30 10 "
          ]
        }
      ]
    },
    {
      "cell_type": "markdown",
      "metadata": {
        "id": "REh3q0uBfVFE"
      },
      "source": [
        "## Classe ListaSimplesmenteEncadeada\n",
        "\n",
        "Os elementos podem ser removidos ou inseridos no início ou fim da fila. Existe uma classe para armazenar os dados e o ponteiro do próximo elemento."
      ]
    },
    {
      "cell_type": "code",
      "metadata": {
        "id": "P6-bYxTIflWT"
      },
      "source": [
        "class No:\n",
        "\n",
        "    # Construtor da classe    \n",
        "    def __init__(self, elemento=None, proximo=None):\n",
        "        self.elemento = elemento\n",
        "        self.proximo = proximo\n",
        "    \n",
        "    # Retorna os dados do nó\n",
        "    def __str__(self):\n",
        "        return str(self.elemento)"
      ],
      "execution_count": 106,
      "outputs": []
    },
    {
      "cell_type": "code",
      "metadata": {
        "id": "i-UowY2SfVFF"
      },
      "source": [
        "class ListaSimplesmenteEncadeada:\n",
        "\n",
        "    # Construtor da classe    \n",
        "    def __init__(self):\n",
        "        # Guarda o início da lista simplesmente encadeada\n",
        "        self.inicio = None\n",
        "        #inicializa contador de elementos da lista simplesmente encadeada\n",
        "        self.qtde = 0\n",
        "    \n",
        "    # Insere no início(insertFront)\n",
        "    def inserirInicio(self, elemento):\n",
        "        # Instancia um novo nó\n",
        "        novo = No(elemento, self.inicio)\n",
        "        # Adiciona o elemento no início da lista simplesmente encadeada\n",
        "        self.inicio = novo\n",
        "        # Incrementa o contador de elementos da lista simplesmente encadeada\n",
        "        self.qtde += 1\n",
        "                    \n",
        "    # Insere no fim(insertBack)\n",
        "    def inserirFim(self, elemento):\n",
        "        # Se diferente de vazio procura a última posição\n",
        "        if self.inicio:\n",
        "          aux = self.inicio\n",
        "          # Percorre os elementos da lista simplesmente encadeada\n",
        "          while aux.proximo:            \n",
        "            aux = aux.proximo\n",
        "          # Instancia um novo nó\n",
        "          novo = No(elemento)\n",
        "          # Adiciona ao final da lista\n",
        "          aux.proximo = novo\n",
        "          # Incrementa o contador de elementos do deque\n",
        "          self.qtde += 1\n",
        "        else:\n",
        "          self.inserirInicio(elemento)      \n",
        "        \n",
        "    # Remove do início(removeFront)\n",
        "    def removerInicio(self):\n",
        "        # Verifica se a lista não está vazia\n",
        "        if self.inicio:\n",
        "            # Mensagem mostrando o elemento removido\n",
        "            print(\"Elemento removido: \", self.inicio.elemento)\n",
        "            # Remove o elemento do início\n",
        "            self.inicio = self.inicio.proximo\n",
        "            # Decrementa o contador de elementos da lista simplesmente encadeada\n",
        "            self.qtde -= 1\n",
        "        else:\n",
        "            print(\"Lista vazia!\")\n",
        "    \n",
        "    # Remove do fim(removeBack)\n",
        "    def removerFim(self):\n",
        "        # Verifica se a lista não está vazia\n",
        "        if self.inicio:\n",
        "            # Com mais de um nó\n",
        "            if self.inicio.proximo:\n",
        "                # Recupera o início da lista\n",
        "                atual = self.inicio \n",
        "                anterior = None;\n",
        "                while atual.proximo:\n",
        "                    anterior = atual\n",
        "                    atual = atual.proximo                                \n",
        "                # Mensagem mostrando o elemento removido\n",
        "                print(\"Elemento removido: \", atual.elemento)\n",
        "                # Pula o elemento a ser removido\n",
        "                anterior.proximo = atual.proximo \n",
        "                # Decrementa o contador de elementos da lista simplesmente encadeada\n",
        "                self.qtde -= 1                \n",
        "            else:\n",
        "                # Remove do início                \n",
        "                self.removerInicio()            \n",
        "        else:\n",
        "            print(\"Lista vazia!\")        \n",
        "        \n",
        "    # Verifica a situação da lista simplesmente encadeada\n",
        "    def vazia(self):\n",
        "        if self.qtde == 0:\n",
        "            return True\n",
        "        return False\n",
        "\n",
        "    # Mostra os elementos da lista simplesmente encadeada\n",
        "    def mostraLista(self):\n",
        "        aux = self.inicio\n",
        "        # Percorre os elementos da lista simplesmente encadeada\n",
        "        while aux:\n",
        "          print(aux)\n",
        "          aux = aux.proximo\n",
        "          "
      ],
      "execution_count": 107,
      "outputs": []
    },
    {
      "cell_type": "markdown",
      "metadata": {
        "id": "shcXxUVsfVFJ"
      },
      "source": [
        "Exemplo de uso:"
      ]
    },
    {
      "cell_type": "code",
      "metadata": {
        "id": "sMVMGH_ZfVFK",
        "colab": {
          "base_uri": "https://localhost:8080/"
        },
        "outputId": "f2b5e2c4-1b04-4bd8-a0bc-e3b24b811442"
      },
      "source": [
        "# Declara a lista simplesmente encadeada\n",
        "l = ListaSimplesmenteEncadeada()\n",
        "\n",
        "# Inserindo no início\n",
        "l.inserirFim(30)\n",
        "l.inserirFim(40)\n",
        "\n",
        "# Inserindo no fim\n",
        "l.inserirInicio(20)\n",
        "l.inserirInicio(10)\n",
        "\n",
        "# Mostra a lista simplesmente encadeada\n",
        "l.mostraLista()\n",
        "\n",
        "# Remove do início\n",
        "l.removerInicio()\n",
        "\n",
        "# Mostra a lista simplesmente encadeada\n",
        "l.mostraLista()\n",
        "\n",
        "# Remove do fim\n",
        "l.removerFim()\n",
        "l.removerFim()\n",
        "l.removerFim()\n",
        "l.removerFim()\n",
        "\n",
        "# Mostra a lista simplesmente encadeada\n",
        "l.mostraLista()\n",
        "\n",
        "# Situação da lista simplesmente encadeada\n",
        "print(l.vazia())"
      ],
      "execution_count": 108,
      "outputs": [
        {
          "output_type": "stream",
          "name": "stdout",
          "text": [
            "10\n",
            "20\n",
            "30\n",
            "40\n",
            "Elemento removido:  10\n",
            "20\n",
            "30\n",
            "40\n",
            "Elemento removido:  40\n",
            "Elemento removido:  30\n",
            "Elemento removido:  20\n",
            "Lista vazia!\n",
            "True\n"
          ]
        }
      ]
    }
  ]
}