{
  "nbformat": 4,
  "nbformat_minor": 0,
  "metadata": {
    "colab": {
      "provenance": [],
      "toc_visible": true,
      "include_colab_link": true
    },
    "kernelspec": {
      "name": "python3",
      "display_name": "Python 3"
    }
  },
  "cells": [
    {
      "cell_type": "markdown",
      "metadata": {
        "id": "view-in-github",
        "colab_type": "text"
      },
      "source": [
        "<a href=\"https://colab.research.google.com/github/osmarbraz/exemplos_python/blob/master/ExemplosPythonEstruturasDeDados.ipynb\" target=\"_parent\"><img src=\"https://colab.research.google.com/assets/colab-badge.svg\" alt=\"Open In Colab\"/></a>"
      ]
    },
    {
      "cell_type": "markdown",
      "metadata": {
        "id": "xY84ChCNzmQQ"
      },
      "source": [
        "# Exemplos de Estruturas de Dados em Python no Google Colaboratory\n",
        "\n",
        "- Listas(List),\n",
        "- Enumerações(Enumerate),\n",
        "- Tuplas(Tuple),\n",
        "- Intervalos(Range),\n",
        "- Conjuntos(Sets),\n",
        "- Dicionários(Dict),\n",
        "- Classificação(Ordenação),\n",
        "- Classes de Estrutura de Dados.\n",
        "\n",
        "-----------------------------------------\n",
        "**Guia Colab Iniciante:**\n",
        "\n",
        "https://medium.com/machina-sapiens/google-colab-guia-do-iniciante-334d70aad531\n",
        "\n",
        "**Documentação oficial:**\n",
        "\n",
        "https://colab.research.google.com/github/jakevdp/PythonDataScienceHandbook/blob/master/notebooks/01.01-Help-And-Documentation.ipynb\n",
        "\n",
        "**Características :**\n",
        "\n",
        "https://colab.research.google.com/notebooks/basic_features_overview.ipynb"
      ]
    },
    {
      "cell_type": "markdown",
      "metadata": {
        "id": "8-yh61Cp3W_0"
      },
      "source": [
        "# Listas/List"
      ]
    },
    {
      "cell_type": "markdown",
      "metadata": {
        "id": "_F96dx_gpm2Y"
      },
      "source": [
        "Uma lista é a estrutura de dados mais básica do Python e armazena os dados em sequência, onde cada elemento possui sua posição na lista, denominada de índice. O primeiro elemento é sempre o índice zero e a cada elemento inserido na lista esse valor é incrementado.\n",
        "\n",
        "No Python, uma lista pode armazenar qualquer tipo de dado primitivo (string, inteiro, float, etc). \n",
        "\n",
        "Listas são equivalentes a vetores.\n",
        "\n",
        "* São ordenadas;\n",
        "* Podem ser iteradas;\n",
        "* São mutáveis (podemos adicionar, mover, mudar ou remover elementos);\n",
        "* Aceitam diversos tipos de elementos.\n",
        "\n",
        "https://railsware.com/blog/python-for-machine-learning-indexing-and-slicing-for-lists-tuples-strings-and-other-sequential-types/"
      ]
    },
    {
      "cell_type": "markdown",
      "metadata": {
        "id": "U9yrljlxiyFk"
      },
      "source": [
        "## Declarando e criando listas"
      ]
    },
    {
      "cell_type": "code",
      "metadata": {
        "id": "CRP2Snaki3N4",
        "colab": {
          "base_uri": "https://localhost:8080/"
        },
        "outputId": "8177f4f9-83cd-4fbf-a5ae-b8c92a8aca3d"
      },
      "source": [
        "# Declara e inicializa uma lista de cores\n",
        "cores = [\"vermelho\", \"azul\", \"verde\", \"amarelo\", \"rosa\", \"branco\"]\n",
        "\n",
        "# Mostra lista\n",
        "print(cores)"
      ],
      "execution_count": 120,
      "outputs": [
        {
          "output_type": "stream",
          "name": "stdout",
          "text": [
            "['vermelho', 'azul', 'verde', 'amarelo', 'rosa', 'branco']\n"
          ]
        }
      ]
    },
    {
      "cell_type": "markdown",
      "metadata": {
        "id": "jIyN9queGP1O"
      },
      "source": [
        "## Declarando e inicializando uma listacom uma constante"
      ]
    },
    {
      "cell_type": "code",
      "metadata": {
        "id": "3DiQIAj7GTFh",
        "colab": {
          "base_uri": "https://localhost:8080/"
        },
        "outputId": "d4bea4dd-c70b-4a8c-a99d-5476f7be3324"
      },
      "source": [
        "#gera um vetor de 10 posições com o valor \"sem cor\"\n",
        "cores = [\"sem cor\"] * 10\n",
        "\n",
        "print(len(cores))\n",
        "print(cores)"
      ],
      "execution_count": 121,
      "outputs": [
        {
          "output_type": "stream",
          "name": "stdout",
          "text": [
            "10\n",
            "['sem cor', 'sem cor', 'sem cor', 'sem cor', 'sem cor', 'sem cor', 'sem cor', 'sem cor', 'sem cor', 'sem cor']\n"
          ]
        }
      ]
    },
    {
      "cell_type": "markdown",
      "metadata": {
        "id": "aO6beiJqk9Wz"
      },
      "source": [
        "## Acessando elementos da lista"
      ]
    },
    {
      "cell_type": "markdown",
      "metadata": {
        "id": "fL1p2TUaoZ87"
      },
      "source": [
        "### Acessando elementos por índice\n",
        "\n",
        "ATENÇÃO: Início em 0(zero)!"
      ]
    },
    {
      "cell_type": "code",
      "metadata": {
        "id": "tWTdt6UHlBLt",
        "colab": {
          "base_uri": "https://localhost:8080/"
        },
        "outputId": "994a2eb1-280a-4c64-b137-d270347d4d49"
      },
      "source": [
        "# Declara e inicializa uma lista de cores\n",
        "cores = [\"vermelho\", \"azul\", \"verde\", \"amarelo\", \"rosa\", \"branco\"]\n",
        "\n",
        "# Acessando o primeiro(índice=0) elemento da lista\n",
        "print(\"Primeiro:\",cores[0])\n",
        "\n",
        "# Acessando o terceiro(índice=3) elemento da lista\n",
        "print(\"Terceiro:\", cores[2])"
      ],
      "execution_count": 122,
      "outputs": [
        {
          "output_type": "stream",
          "name": "stdout",
          "text": [
            "Primeiro: vermelho\n",
            "Terceiro: verde\n"
          ]
        }
      ]
    },
    {
      "cell_type": "markdown",
      "metadata": {
        "id": "Mr6-JwsfjQ_w"
      },
      "source": [
        "### Últilizando índices negativos"
      ]
    },
    {
      "cell_type": "code",
      "metadata": {
        "id": "KIzfpb_2jYBK",
        "colab": {
          "base_uri": "https://localhost:8080/"
        },
        "outputId": "38e28420-ad16-440b-cc8e-a02f0ffd54b9"
      },
      "source": [
        "# Declara e inicializa uma lista de cores\n",
        "cores = [\"vermelho\", \"azul\", \"verde\", \"amarelo\", \"rosa\", \"branco\"]\n",
        "\n",
        "# Acessando o último elemento da lista\n",
        "print(\"Último:\",cores[-1])\n",
        "\n",
        "# Acessando o penúltimo elemento da lista\n",
        "print(\"Penúltimo:\",cores[-2])"
      ],
      "execution_count": 123,
      "outputs": [
        {
          "output_type": "stream",
          "name": "stdout",
          "text": [
            "Último: branco\n",
            "Penúltimo: rosa\n"
          ]
        }
      ]
    },
    {
      "cell_type": "markdown",
      "metadata": {
        "id": "BmgjxxGupDTv"
      },
      "source": [
        "### Acessando intervalos [:]"
      ]
    },
    {
      "cell_type": "code",
      "metadata": {
        "id": "_MXZ1qJ9pDTw",
        "colab": {
          "base_uri": "https://localhost:8080/"
        },
        "outputId": "1b0ab8c5-b91a-49f0-e71c-b9e25fa8f1a3"
      },
      "source": [
        "# Declara e inicializa uma lista de cores\n",
        "cores = [\"vermelho\", \"azul\", \"verde\", \"amarelo\", \"rosa\", \"branco\"]\n",
        "\n",
        "# Acessando o intervalo de todos\n",
        "print(\"Intervalo de todos(cores[:])                    :\", cores[:])\n",
        "\n",
        "# Acessando o intervalo de 2 a 4\n",
        "print(\"Intervalo de 2 até 4(cores[2:4])                :\", cores[2:4])\n",
        "\n",
        "# Acessando o intervalo do primeiro até o 2\n",
        "print(\"Intervalo do início até 2(cores[:2])            :\", cores[:2])\n",
        "\n",
        "# Acessando do início até o penúltimo elemento da lista\n",
        "print(\"Intervalo início até o último(cores[:-1])       :\",cores[:-1])\n",
        "\n",
        "# Acessando do 0 até o penúltimo elemento da lista\n",
        "print(\"Intervalo 0 até o último(cores[0:-1])           :\",cores[0:-1])\n",
        "\n",
        "# Acessando do início até o penúltimo elemento da lista\n",
        "print(\"Intervalo de início até o penúltimo(cores[:-2]) :\",cores[:-2])\n",
        "\n",
        "# Acessando do 0 até o penúltimo elemento da lista\n",
        "print(\"Intervalo de 0 até o penúltimo(cores[:-2])      :\",cores[:-2])\n",
        "\n",
        "# Acessando do 0 até o penúltimo elemento da lista\n",
        "print(\"Intervalo de 0 até o penúltimo(cores[0:-2])     :\",cores[0:-2])\n",
        "\n",
        "# Acessando do segundo até o penúltimo elemento da lista\n",
        "print(\"Intervalo de 2 até o penúltimo(cores[2:-2])     :\",cores[2:-2])\n",
        "\n",
        "# Acessando o último elemento da lista\n",
        "print(\"Intervalo de fim até o último(cores[-1:])       :\",cores[-1:])\n",
        "\n",
        "# Acessando os dois últimos elementos da lista\n",
        "print(\"Intervalo de fim até os dois últimos(cores[-2:]):\",cores[-2:])"
      ],
      "execution_count": 124,
      "outputs": [
        {
          "output_type": "stream",
          "name": "stdout",
          "text": [
            "Intervalo de todos(cores[:])                    : ['vermelho', 'azul', 'verde', 'amarelo', 'rosa', 'branco']\n",
            "Intervalo de 2 até 4(cores[2:4])                : ['verde', 'amarelo']\n",
            "Intervalo do início até 2(cores[:2])            : ['vermelho', 'azul']\n",
            "Intervalo início até o último(cores[:-1])       : ['vermelho', 'azul', 'verde', 'amarelo', 'rosa']\n",
            "Intervalo 0 até o último(cores[0:-1])           : ['vermelho', 'azul', 'verde', 'amarelo', 'rosa']\n",
            "Intervalo de início até o penúltimo(cores[:-2]) : ['vermelho', 'azul', 'verde', 'amarelo']\n",
            "Intervalo de 0 até o penúltimo(cores[:-2])      : ['vermelho', 'azul', 'verde', 'amarelo']\n",
            "Intervalo de 0 até o penúltimo(cores[0:-2])     : ['vermelho', 'azul', 'verde', 'amarelo']\n",
            "Intervalo de 2 até o penúltimo(cores[2:-2])     : ['verde', 'amarelo']\n",
            "Intervalo de fim até o último(cores[-1:])       : ['branco']\n",
            "Intervalo de fim até os dois últimos(cores[-2:]): ['rosa', 'branco']\n"
          ]
        }
      ]
    },
    {
      "cell_type": "markdown",
      "metadata": {
        "id": "L6p_1m9vk2Eo"
      },
      "source": [
        "## Atribuindo valores"
      ]
    },
    {
      "cell_type": "code",
      "metadata": {
        "id": "OUyBCzp8lKFZ",
        "colab": {
          "base_uri": "https://localhost:8080/"
        },
        "outputId": "5fe00a6b-a000-4e40-e2d6-3b703b9ee88e"
      },
      "source": [
        "# Declara e inicializa uma lista de cores\n",
        "cores = [\"vermelho\", \"azul\", \"verde\", \"amarelo\", \"rosa\", \"branco\"]\n",
        "\n",
        "# Atribuindo um novo valor para o primeiro elemento índice=0\n",
        "cores[0]  = \"marron\"\n",
        "\n",
        "# Atribuindo um novo valor para o último elemento índice=-1\n",
        "cores[-1] = \"preto\"\n",
        "\n",
        "# Mostra a lista\n",
        "print(cores)"
      ],
      "execution_count": 125,
      "outputs": [
        {
          "output_type": "stream",
          "name": "stdout",
          "text": [
            "['marron', 'azul', 'verde', 'amarelo', 'rosa', 'preto']\n"
          ]
        }
      ]
    },
    {
      "cell_type": "markdown",
      "metadata": {
        "id": "TS6fenV9yyHP"
      },
      "source": [
        "##Max e Min dos elementos das listas"
      ]
    },
    {
      "cell_type": "code",
      "metadata": {
        "id": "q-YPfwsayyZF",
        "colab": {
          "base_uri": "https://localhost:8080/"
        },
        "outputId": "c7925f52-2b9d-4546-c377-b79819c4dc04"
      },
      "source": [
        "# Declara e inicializa uma lista de número\n",
        "lista = [10, 20, 30 , 40 , 50 , 60]\n",
        "\n",
        "menor = min(lista)\n",
        "maior = max(lista)\n",
        "\n",
        "# Mostra o menor\n",
        "print(menor)\n",
        "\n",
        "# Mostra o maior\n",
        "print(maior)"
      ],
      "execution_count": 126,
      "outputs": [
        {
          "output_type": "stream",
          "name": "stdout",
          "text": [
            "10\n",
            "60\n"
          ]
        }
      ]
    },
    {
      "cell_type": "markdown",
      "metadata": {
        "id": "gKgypxOH8-kS"
      },
      "source": [
        "## Tamanho das listas"
      ]
    },
    {
      "cell_type": "code",
      "metadata": {
        "id": "mZjI2Xsx9EpS",
        "colab": {
          "base_uri": "https://localhost:8080/"
        },
        "outputId": "5713282a-4cad-465c-b26c-bdec419042bd"
      },
      "source": [
        "# Declara e inicializa uma lista de número\n",
        "lista = [10, 20, 30 , 40 , 50 , 60]\n",
        "\n",
        "# O método len retorna a quantidade de elementos da lista\n",
        "tamanho = len(lista)\n",
        "\n",
        "# Mostra o tamanho\n",
        "print(tamanho)\n"
      ],
      "execution_count": 127,
      "outputs": [
        {
          "output_type": "stream",
          "name": "stdout",
          "text": [
            "6\n"
          ]
        }
      ]
    },
    {
      "cell_type": "markdown",
      "metadata": {
        "id": "ymqzP7bp3z8Q"
      },
      "source": [
        "## Exibindo listas"
      ]
    },
    {
      "cell_type": "markdown",
      "metadata": {
        "id": "VnCf0nAjkiaJ"
      },
      "source": [
        "### Listando tudo"
      ]
    },
    {
      "cell_type": "code",
      "metadata": {
        "id": "bhJ3cCYsGE6m",
        "colab": {
          "base_uri": "https://localhost:8080/"
        },
        "outputId": "25957771-0b7a-4ca8-ba16-7de05fdbad49"
      },
      "source": [
        "# Declara e inicializa uma lista de cores\n",
        "cores = [\"vermelho\", \"azul\", \"verde\", \"amarelo\", \"rosa\", \"branco\"]\n",
        "\n",
        "# Percorre a lista de cores, o valor atual está em cor\n",
        "for cor in cores:\n",
        "    print(cor)"
      ],
      "execution_count": 128,
      "outputs": [
        {
          "output_type": "stream",
          "name": "stdout",
          "text": [
            "vermelho\n",
            "azul\n",
            "verde\n",
            "amarelo\n",
            "rosa\n",
            "branco\n"
          ]
        }
      ]
    },
    {
      "cell_type": "markdown",
      "metadata": {
        "id": "2KuGRyZlG8G0"
      },
      "source": [
        "###  Percorre sem exibir o primeiro e último elemento"
      ]
    },
    {
      "cell_type": "code",
      "metadata": {
        "id": "PUk23g8CG8G1",
        "colab": {
          "base_uri": "https://localhost:8080/"
        },
        "outputId": "78f3cabc-be09-4a27-f738-40b984433ae1"
      },
      "source": [
        "# Declara e inicializa uma lista de cores\n",
        "cores = [\"vermelho\", \"azul\", \"verde\", \"amarelo\", \"rosa\", \"branco\"]\n",
        "\n",
        "# Percorre a lista de cores, o valor atual está em cor\n",
        "for cor in cores[1:-1]:\n",
        "    print(cor)"
      ],
      "execution_count": 129,
      "outputs": [
        {
          "output_type": "stream",
          "name": "stdout",
          "text": [
            "azul\n",
            "verde\n",
            "amarelo\n",
            "rosa\n"
          ]
        }
      ]
    },
    {
      "cell_type": "markdown",
      "metadata": {
        "id": "Ebgjd9kM85hp"
      },
      "source": [
        "### Percorre as listas de forma invertida"
      ]
    },
    {
      "cell_type": "code",
      "metadata": {
        "id": "88o8wdC68woL",
        "colab": {
          "base_uri": "https://localhost:8080/"
        },
        "outputId": "395d0b38-167a-48cc-a366-c1d5c122ab0b"
      },
      "source": [
        "# Declara e inicializa uma lista de cores\n",
        "cores = [\"vermelho\", \"azul\", \"verde\", \"amarelo\", \"rosa\", \"branco\"]\n",
        "\n",
        "# Percorre a lista de cores, o valor atual está em cor\n",
        "for cor in cores[::-1]:\n",
        "    print(cor)"
      ],
      "execution_count": 130,
      "outputs": [
        {
          "output_type": "stream",
          "name": "stdout",
          "text": [
            "branco\n",
            "rosa\n",
            "amarelo\n",
            "verde\n",
            "azul\n",
            "vermelho\n"
          ]
        }
      ]
    },
    {
      "cell_type": "markdown",
      "metadata": {
        "id": "okzpNteU3uhs"
      },
      "source": [
        "### Limitando a exibição sem índice"
      ]
    },
    {
      "cell_type": "code",
      "metadata": {
        "id": "tylksppD399H",
        "colab": {
          "base_uri": "https://localhost:8080/"
        },
        "outputId": "75ff5f1a-967c-42d2-dd2e-6c7c5758cefe"
      },
      "source": [
        "# Biblioteca para iteragir\n",
        "import itertools\n",
        "\n",
        "# Declara e inicializa uma lista de cores\n",
        "cores = [\"vermelho\", \"azul\", \"verde\", \"amarelo\", \"rosa\", \"branco\"]\n",
        "\n",
        "# Limite de dados a serem exibidos\n",
        "limite = 2\n",
        "\n",
        "# Percorre a lista de cores até o limite, o valor atual está em cor\n",
        "for cor in itertools.islice(cores, 0, limite):    \n",
        "    print(cor)"
      ],
      "execution_count": 131,
      "outputs": [
        {
          "output_type": "stream",
          "name": "stdout",
          "text": [
            "vermelho\n",
            "azul\n"
          ]
        }
      ]
    },
    {
      "cell_type": "markdown",
      "metadata": {
        "id": "YocA-8PD5FV7"
      },
      "source": [
        "### Limitando a exibição com índice 1\n",
        "\n",
        "Exemplo usando zip"
      ]
    },
    {
      "cell_type": "code",
      "metadata": {
        "id": "hYYeCwVI5HaB",
        "colab": {
          "base_uri": "https://localhost:8080/"
        },
        "outputId": "ab11be13-db03-4cd0-ec1c-ee8f7025dad7"
      },
      "source": [
        "# Declara e inicializa uma lista de cores\n",
        "cores = [\"vermelho\", \"azul\", \"verde\", \"amarelo\", \"rosa\", \"branco\"]\n",
        "\n",
        "# Limite de dados a serem exibidos\n",
        "limite = 2\n",
        "\n",
        "# Percorre a lista de cores até o limite, o valor atual está em cor\n",
        "for index, cor in zip(range(limite), cores):\n",
        "    print(index, cor)"
      ],
      "execution_count": 132,
      "outputs": [
        {
          "output_type": "stream",
          "name": "stdout",
          "text": [
            "0 vermelho\n",
            "1 azul\n"
          ]
        }
      ]
    },
    {
      "cell_type": "markdown",
      "metadata": {
        "id": "qHhSY51t4dsr"
      },
      "source": [
        "### Limitando a exibição com índice 2\n",
        "\n",
        "Exemplo usando islice, necessita de import itertools"
      ]
    },
    {
      "cell_type": "code",
      "metadata": {
        "id": "dKfGDpaO4gbZ",
        "colab": {
          "base_uri": "https://localhost:8080/"
        },
        "outputId": "52ee59e2-633c-4351-b139-3277c9b240b3"
      },
      "source": [
        "# Biblioteca para iteragir\n",
        "import itertools\n",
        "\n",
        "# Declara e inicializa uma lista de cores\n",
        "cores = [\"vermelho\", \"azul\", \"verde\", \"amarelo\", \"rosa\", \"branco\"]\n",
        "\n",
        "# Limite de dados a serem exibidos\n",
        "limite = 2\n",
        "\n",
        "# Percorre a lista de cores até o limite, o valor atual está em cor\n",
        "for index, cor in enumerate(itertools.islice(cores, limite)):\n",
        "    print(index, cor)"
      ],
      "execution_count": 133,
      "outputs": [
        {
          "output_type": "stream",
          "name": "stdout",
          "text": [
            "0 vermelho\n",
            "1 azul\n"
          ]
        }
      ]
    },
    {
      "cell_type": "markdown",
      "source": [
        "### Exibindo dados de lista em janela\n",
        "\n",
        "Exemplo de exibindo dados de lista em janelas cresente."
      ],
      "metadata": {
        "id": "Rvli26jRCw9p"
      }
    },
    {
      "cell_type": "code",
      "source": [
        "lista = [\"zero\", \"primeiro\",\"segundo\",\"terceiro\",\"quarto\",\"quinto\",\"sexto\",\"sétimo\",\"oitavo\"]\n",
        "print(\"Lista               :\", lista)\n",
        "\n",
        "# Quantidade elementos da lista\n",
        "n = len(lista)\n",
        "print(\"Quantidade de tokens: \", n)\n",
        "\n",
        "# posição\n",
        "alvo = 2 #terceiro\n",
        "print(\"alvo                : \", alvo)\n",
        "print(\"palavra alvo        : \", lista[alvo])\n",
        "\n",
        "# posição do intervalo de início\n",
        "i = alvo\n",
        "# posição do intervalo de fim\n",
        "j = alvo\n",
        "inicio = 0\n",
        "fim = n - 1 # Desconta 1 pois a lista começa no índice 0\n",
        "janela = lista[alvo]\n",
        "#Contador de janela\n",
        "iJanela = 0\n",
        "\n",
        "print(\"\\nLista das janelas:\")\n",
        "# Enquanto no for o ínicio do documento ou o fim\n",
        "while (i > inicio) or (j <= fim):\n",
        "    \n",
        "    print(\"Janela({}) de [{}:{}]:\".format(iJanela, i, j))    \n",
        "    print(\"  string:\", janela)\n",
        "    print(\"  lista:\", lista[i:j+1])\n",
        "        \n",
        "    # Decrementa i se não chegou no início do documento\n",
        "    #print(\"*i:\", i, \" início:\", inicio)      \n",
        "    antes = \"\"\n",
        "    if i > inicio:\n",
        "      i = i - 1 \n",
        "      #print(\"i:\", i, \" início:\", inicio)      \n",
        "      antes = lista[i]\n",
        "      # print(\"antes:\", antes)\n",
        "    \n",
        "    # Incrementa j se não chegou no fim do documento\n",
        "    depois = \"\"\n",
        "    if j <= fim:\n",
        "      j = j + 1     \n",
        "      #print(\"j:\", j, \" fim:\", fim)      \n",
        "      if j <= fim:\n",
        "        depois = lista[j]\n",
        "      #print(\"depois:\", depois)\n",
        "    \n",
        "    # Concatena a string da janela\n",
        "    janela = (antes + \" \" + janela + \" \" + depois).strip()    \n",
        "    \n",
        "    # Contador de janelas\n",
        "    iJanela = iJanela + 1\n",
        "\n",
        "    print()"
      ],
      "metadata": {
        "colab": {
          "base_uri": "https://localhost:8080/"
        },
        "id": "O6C5jVEWdzcF",
        "outputId": "c29ab409-10da-4b27-8eab-be0c407e2695"
      },
      "execution_count": 134,
      "outputs": [
        {
          "output_type": "stream",
          "name": "stdout",
          "text": [
            "Lista               : ['zero', 'primeiro', 'segundo', 'terceiro', 'quarto', 'quinto', 'sexto', 'sétimo', 'oitavo']\n",
            "Quantidade de tokens:  9\n",
            "alvo                :  2\n",
            "palavra alvo        :  segundo\n",
            "\n",
            "Lista das janelas:\n",
            "Janela(0) de [2:2]:\n",
            "  string: segundo\n",
            "  lista: ['segundo']\n",
            "\n",
            "Janela(1) de [1:3]:\n",
            "  string: primeiro segundo terceiro\n",
            "  lista: ['primeiro', 'segundo', 'terceiro']\n",
            "\n",
            "Janela(2) de [0:4]:\n",
            "  string: zero primeiro segundo terceiro quarto\n",
            "  lista: ['zero', 'primeiro', 'segundo', 'terceiro', 'quarto']\n",
            "\n",
            "Janela(3) de [0:5]:\n",
            "  string: zero primeiro segundo terceiro quarto quinto\n",
            "  lista: ['zero', 'primeiro', 'segundo', 'terceiro', 'quarto', 'quinto']\n",
            "\n",
            "Janela(4) de [0:6]:\n",
            "  string: zero primeiro segundo terceiro quarto quinto sexto\n",
            "  lista: ['zero', 'primeiro', 'segundo', 'terceiro', 'quarto', 'quinto', 'sexto']\n",
            "\n",
            "Janela(5) de [0:7]:\n",
            "  string: zero primeiro segundo terceiro quarto quinto sexto sétimo\n",
            "  lista: ['zero', 'primeiro', 'segundo', 'terceiro', 'quarto', 'quinto', 'sexto', 'sétimo']\n",
            "\n",
            "Janela(6) de [0:8]:\n",
            "  string: zero primeiro segundo terceiro quarto quinto sexto sétimo oitavo\n",
            "  lista: ['zero', 'primeiro', 'segundo', 'terceiro', 'quarto', 'quinto', 'sexto', 'sétimo', 'oitavo']\n",
            "\n"
          ]
        }
      ]
    },
    {
      "cell_type": "markdown",
      "metadata": {
        "id": "yzlq0V-mzAHt"
      },
      "source": [
        "## Similaridade de coseno com listas"
      ]
    },
    {
      "cell_type": "code",
      "metadata": {
        "id": "2eCu5fl_zAxj",
        "colab": {
          "base_uri": "https://localhost:8080/"
        },
        "outputId": "24b8d920-acda-46c1-b46a-493c33b14ee7"
      },
      "source": [
        "# Biblioteca de álgebra linear(matrizes)\n",
        "import numpy as np\n",
        "\n",
        "from scipy.spatial.distance import cosine\n",
        "\n",
        "A = np.array([0, 1, 2, 3]) \n",
        "B = np.array([0, 1, 2, 3]) \n",
        "\n",
        "C = cosine(A,B) \n",
        "\n",
        "print(\"A>\", A)\n",
        "print(\"B>\", B)\n",
        "print(\"C>\", C)\n",
        "\n",
        "D = np.array([0, 1, 4, 5]) \n",
        "E = cosine(A,D) \n",
        "\n",
        "print(\"A>\", A)\n",
        "print(\"D>\", D)\n",
        "print(\"E>\", E)"
      ],
      "execution_count": 135,
      "outputs": [
        {
          "output_type": "stream",
          "name": "stdout",
          "text": [
            "A> [0 1 2 3]\n",
            "B> [0 1 2 3]\n",
            "C> 0\n",
            "A> [0 1 2 3]\n",
            "D> [0 1 4 5]\n",
            "E> 0.010256681389212985\n"
          ]
        }
      ]
    },
    {
      "cell_type": "markdown",
      "metadata": {
        "id": "Bo5nSHcHkr5E"
      },
      "source": [
        "## Manutenção de listas\n",
        "\n",
        "http://excript.com/python/incluindo-alterando-excluindo-elementos-lista-python.html\n"
      ]
    },
    {
      "cell_type": "markdown",
      "metadata": {
        "id": "CZw2JxftmdGI"
      },
      "source": [
        "### Adicionando elementos"
      ]
    },
    {
      "cell_type": "code",
      "metadata": {
        "id": "mvaex6wOme4u",
        "colab": {
          "base_uri": "https://localhost:8080/"
        },
        "outputId": "7bb771d2-89e4-49a7-cc4e-efb31697679e"
      },
      "source": [
        "# Declara e inicializa uma lista de cores\n",
        "cores = [\"vermelho\", \"azul\", \"verde\", \"amarelo\", \"rosa\", \"branco\"]\n",
        "\n",
        "# Mostra a lista\n",
        "print(cores)\n",
        "\n",
        "# Adicionando no final\n",
        "cores.append(\"marron\")\n",
        "\n",
        "# Mostra a lista\n",
        "print(cores)"
      ],
      "execution_count": 136,
      "outputs": [
        {
          "output_type": "stream",
          "name": "stdout",
          "text": [
            "['vermelho', 'azul', 'verde', 'amarelo', 'rosa', 'branco']\n",
            "['vermelho', 'azul', 'verde', 'amarelo', 'rosa', 'branco', 'marron']\n"
          ]
        }
      ]
    },
    {
      "cell_type": "markdown",
      "metadata": {
        "id": "Z9DHKSrtmrVR"
      },
      "source": [
        "### Inserindo elementos"
      ]
    },
    {
      "cell_type": "code",
      "metadata": {
        "id": "OkUXgF2zmryo",
        "colab": {
          "base_uri": "https://localhost:8080/"
        },
        "outputId": "194f05ba-a563-40ba-f048-3285130d6bbf"
      },
      "source": [
        "# Declara e inicializa uma lista de cores\n",
        "cores = [\"vermelho\", \"azul\", \"verde\", \"amarelo\", \"rosa\", \"branco\"]\n",
        "\n",
        "# Mostra a lista\n",
        "print(cores)\n",
        "\n",
        "# Adicionando na segunda posição(índice=1)\n",
        "cores.insert(1, \"marron\")\n",
        "\n",
        "# Mostra a lista\n",
        "print(cores)"
      ],
      "execution_count": 137,
      "outputs": [
        {
          "output_type": "stream",
          "name": "stdout",
          "text": [
            "['vermelho', 'azul', 'verde', 'amarelo', 'rosa', 'branco']\n",
            "['vermelho', 'marron', 'azul', 'verde', 'amarelo', 'rosa', 'branco']\n"
          ]
        }
      ]
    },
    {
      "cell_type": "markdown",
      "metadata": {
        "id": "JTZNNWl49XZf"
      },
      "source": [
        "### Adicionando múltiplos elementos"
      ]
    },
    {
      "cell_type": "code",
      "metadata": {
        "id": "MaCBet729Z7s",
        "colab": {
          "base_uri": "https://localhost:8080/"
        },
        "outputId": "c50a0911-3b5d-4002-c332-73fb65981267"
      },
      "source": [
        "# Declara e inicializa uma lista de cores\n",
        "cores = [\"vermelho\", \"azul\", \"verde\", \"amarelo\", \"rosa\", \"branco\"]\n",
        "\n",
        "# Mostra a lista\n",
        "print(cores)\n",
        "\n",
        "# Adicionando na 2 elementos\n",
        "cores.extend([\"bege\",\"cinza\"])\n",
        "\n",
        "# Mostra a lista\n",
        "print(cores)"
      ],
      "execution_count": 138,
      "outputs": [
        {
          "output_type": "stream",
          "name": "stdout",
          "text": [
            "['vermelho', 'azul', 'verde', 'amarelo', 'rosa', 'branco']\n",
            "['vermelho', 'azul', 'verde', 'amarelo', 'rosa', 'branco', 'bege', 'cinza']\n"
          ]
        }
      ]
    },
    {
      "cell_type": "markdown",
      "metadata": {
        "id": "MHsbWu8Nm7FP"
      },
      "source": [
        "### Alterando elementos"
      ]
    },
    {
      "cell_type": "code",
      "metadata": {
        "id": "HiEcY0Irm9CM",
        "colab": {
          "base_uri": "https://localhost:8080/"
        },
        "outputId": "06e80b4a-04a0-4470-ecb5-1cc6ca75b663"
      },
      "source": [
        "# Declara e inicializa uma lista de cores\n",
        "cores = [\"vermelho\", \"azul\", \"verde\", \"amarelo\", \"rosa\", \"branco\"]\n",
        "\n",
        "# Mostra a lista\n",
        "print(cores)\n",
        "\n",
        "# Alterando o conteúdo da segunda posição(índice=1)\n",
        "cores[1] = \"marron\"\n",
        "\n",
        "# Mostra a lista\n",
        "print(cores)"
      ],
      "execution_count": 139,
      "outputs": [
        {
          "output_type": "stream",
          "name": "stdout",
          "text": [
            "['vermelho', 'azul', 'verde', 'amarelo', 'rosa', 'branco']\n",
            "['vermelho', 'marron', 'verde', 'amarelo', 'rosa', 'branco']\n"
          ]
        }
      ]
    },
    {
      "cell_type": "markdown",
      "metadata": {
        "id": "4QtUxGfIkulC"
      },
      "source": [
        "### Excluindo elementos pela índice\n"
      ]
    },
    {
      "cell_type": "code",
      "metadata": {
        "id": "r0O8ZTAllwLa",
        "colab": {
          "base_uri": "https://localhost:8080/"
        },
        "outputId": "55cecb86-96ca-44b5-8f19-a34a8ebc2cb8"
      },
      "source": [
        "# Declara e inicializa uma lista de cores\n",
        "cores = [\"vermelho\", \"azul\", \"verde\", \"amarelo\", \"rosa\", \"branco\"]\n",
        "\n",
        "# Apagando primeiro\n",
        "del cores[0]\n",
        "\n",
        "# Mostra a lista\n",
        "print(cores)\n",
        "\n",
        "# Apagando último\n",
        "del cores[-1]\n",
        "\n",
        "# Mostra a lista\n",
        "print(cores)"
      ],
      "execution_count": 140,
      "outputs": [
        {
          "output_type": "stream",
          "name": "stdout",
          "text": [
            "['azul', 'verde', 'amarelo', 'rosa', 'branco']\n",
            "['azul', 'verde', 'amarelo', 'rosa']\n"
          ]
        }
      ]
    },
    {
      "cell_type": "markdown",
      "metadata": {
        "id": "SRyyiQV199MM"
      },
      "source": [
        "### Excluindo elementos pelo valor"
      ]
    },
    {
      "cell_type": "code",
      "metadata": {
        "id": "sRIBu3xZ99h8",
        "colab": {
          "base_uri": "https://localhost:8080/"
        },
        "outputId": "0537370f-7717-419a-b6dd-b9a3f1a59201"
      },
      "source": [
        "# Declara e inicializa uma lista de cores\n",
        "cores = [\"vermelho\", \"azul\", \"verde\", \"amarelo\", \"rosa\", \"branco\"]\n",
        "\n",
        "# Mostra a lista\n",
        "print(cores)\n",
        "\n",
        "# Apagando o elemento azul\n",
        "cores.remove(\"azul\")\n",
        "\n",
        "# Mostra a lista\n",
        "print(cores)"
      ],
      "execution_count": 141,
      "outputs": [
        {
          "output_type": "stream",
          "name": "stdout",
          "text": [
            "['vermelho', 'azul', 'verde', 'amarelo', 'rosa', 'branco']\n",
            "['vermelho', 'verde', 'amarelo', 'rosa', 'branco']\n"
          ]
        }
      ]
    },
    {
      "cell_type": "markdown",
      "metadata": {
        "id": "TXEVFZgLnaNX"
      },
      "source": [
        "### Excluindo intervalo de elementos"
      ]
    },
    {
      "cell_type": "code",
      "metadata": {
        "id": "XVuE5GTMnclH",
        "colab": {
          "base_uri": "https://localhost:8080/"
        },
        "outputId": "e35576c6-79d5-4842-e41a-c20855f3fa3c"
      },
      "source": [
        "# Declara e inicializa uma lista de cores\n",
        "cores = [\"vermelho\", \"azul\", \"verde\", \"amarelo\", \"rosa\", \"branco\"]\n",
        "\n",
        "# Mostra a lista\n",
        "print(cores)\n",
        "\n",
        "# Apagando os elementos do intervalo de 1(segundo) até 4(quinto)\n",
        "del (cores[1:4])\n",
        "\n",
        "# Mostra a lista\n",
        "print(cores)"
      ],
      "execution_count": 142,
      "outputs": [
        {
          "output_type": "stream",
          "name": "stdout",
          "text": [
            "['vermelho', 'azul', 'verde', 'amarelo', 'rosa', 'branco']\n",
            "['vermelho', 'rosa', 'branco']\n"
          ]
        }
      ]
    },
    {
      "cell_type": "markdown",
      "metadata": {
        "id": "X8nv8tl4nLG1"
      },
      "source": [
        "### Excluindo todos os elementos"
      ]
    },
    {
      "cell_type": "code",
      "metadata": {
        "id": "fdSYfk-NnQHQ",
        "colab": {
          "base_uri": "https://localhost:8080/"
        },
        "outputId": "d3041667-7793-49bd-e728-9966ce8df0fa"
      },
      "source": [
        "# Declara e inicializa uma lista de cores\n",
        "cores = [\"vermelho\", \"azul\", \"verde\", \"amarelo\", \"rosa\", \"branco\"]\n",
        "\n",
        "# Mostra a lista\n",
        "print(cores)\n",
        "\n",
        "# Apagando todos os elementos\n",
        "cores.clear()\n",
        "\n",
        "# Mostra a lista\n",
        "print(cores)"
      ],
      "execution_count": 143,
      "outputs": [
        {
          "output_type": "stream",
          "name": "stdout",
          "text": [
            "['vermelho', 'azul', 'verde', 'amarelo', 'rosa', 'branco']\n",
            "[]\n"
          ]
        }
      ]
    },
    {
      "cell_type": "markdown",
      "metadata": {
        "id": "QB3leiM6g9BU"
      },
      "source": [
        "### Concatenando os dados de uma lista"
      ]
    },
    {
      "cell_type": "code",
      "metadata": {
        "colab": {
          "base_uri": "https://localhost:8080/"
        },
        "id": "PFK6VIZohDl_",
        "outputId": "90557139-6886-42fd-e6aa-876d50c742b8"
      },
      "source": [
        "# Declara e inicializa uma lista de cores\n",
        "cores = [\"vermelho\", \"azul\", \"verde\"]\n",
        "\n",
        "# Mostra a lista\n",
        "print(cores)\n",
        "\n",
        "# Concatena os dados da listas\n",
        "soma = \" \".join(cores)\n",
        "\n",
        "# Mostra a lista\n",
        "print(soma)"
      ],
      "execution_count": 144,
      "outputs": [
        {
          "output_type": "stream",
          "name": "stdout",
          "text": [
            "['vermelho', 'azul', 'verde']\n",
            "vermelho azul verde\n"
          ]
        }
      ]
    },
    {
      "cell_type": "markdown",
      "metadata": {
        "id": "MBhRrcqhZQcZ"
      },
      "source": [
        "### Concatenando duas listas"
      ]
    },
    {
      "cell_type": "code",
      "metadata": {
        "id": "mzXpt4p2ZQca",
        "colab": {
          "base_uri": "https://localhost:8080/"
        },
        "outputId": "9b6bdf75-cb9a-4bd7-e4c5-7338f39f4cbf"
      },
      "source": [
        "# Declara e inicializa uma lista de cores\n",
        "cores1 = [\"vermelho\", \"azul\", \"verde\"]\n",
        "cores2 = [\"amarelo\", \"rosa\", \"branco\"]\n",
        "\n",
        "# Mostra as listas\n",
        "print(cores1)\n",
        "print(cores2)\n",
        "\n",
        "# Concatena as duas listas\n",
        "soma = cores1 + cores2\n",
        "\n",
        "# Mostra a lista\n",
        "print(soma)"
      ],
      "execution_count": 145,
      "outputs": [
        {
          "output_type": "stream",
          "name": "stdout",
          "text": [
            "['vermelho', 'azul', 'verde']\n",
            "['amarelo', 'rosa', 'branco']\n",
            "['vermelho', 'azul', 'verde', 'amarelo', 'rosa', 'branco']\n"
          ]
        }
      ]
    },
    {
      "cell_type": "markdown",
      "metadata": {
        "id": "5WF2f6JJ-nGD"
      },
      "source": [
        "### Concatenando lista de listas"
      ]
    },
    {
      "cell_type": "code",
      "metadata": {
        "colab": {
          "base_uri": "https://localhost:8080/"
        },
        "outputId": "ed49360e-3302-4322-b918-9a62991ae637",
        "id": "4clZ-f49-nGE"
      },
      "source": [
        "# Declara e inicializa uma lista de cores\n",
        "cores = [[\"vermelho\", \"azul\"], [\"verde\", \"amarelo\"], [\"rosa\", \"branco\"]]\n",
        "\n",
        "# Mostra a lista\n",
        "print(cores1)\n",
        "\n",
        "# Concatena as listas\n",
        "soma = [item for l in cores for item in l]\n",
        "\n",
        "# Mostra a lista\n",
        "print(soma)"
      ],
      "execution_count": 146,
      "outputs": [
        {
          "output_type": "stream",
          "name": "stdout",
          "text": [
            "['vermelho', 'azul', 'verde']\n",
            "['vermelho', 'azul', 'verde', 'amarelo', 'rosa', 'branco']\n"
          ]
        }
      ]
    },
    {
      "cell_type": "markdown",
      "metadata": {
        "id": "OTKzy2EOb5tw"
      },
      "source": [
        "### Ordenando listas de números(sort)"
      ]
    },
    {
      "cell_type": "code",
      "metadata": {
        "id": "eewTzk0Xb58D",
        "colab": {
          "base_uri": "https://localhost:8080/"
        },
        "outputId": "dcacfa7f-1064-44cf-b645-abec09c9092d"
      },
      "source": [
        "# Declara e inicializa uma lista de números\n",
        "lista = [50, 40, 30, 20, 10]\n",
        "\n",
        "# Mostra a lista\n",
        "print(lista)\n",
        "\n",
        "#ordena a lista\n",
        "lista.sort()\n",
        "\n",
        "# Mostra a lista\n",
        "print(lista)"
      ],
      "execution_count": 147,
      "outputs": [
        {
          "output_type": "stream",
          "name": "stdout",
          "text": [
            "[50, 40, 30, 20, 10]\n",
            "[10, 20, 30, 40, 50]\n"
          ]
        }
      ]
    },
    {
      "cell_type": "markdown",
      "metadata": {
        "id": "BFb7QnQ9Du1b"
      },
      "source": [
        "### Ordenando listas de números(sorted)"
      ]
    },
    {
      "cell_type": "code",
      "metadata": {
        "colab": {
          "base_uri": "https://localhost:8080/"
        },
        "id": "TUG1y7JmDu1b",
        "outputId": "c2d2821d-cf74-46b1-b12d-87263dfb7e91"
      },
      "source": [
        "# Declara e inicializa uma lista de números\n",
        "lista = [50, 40, 30, 20, 10]\n",
        "\n",
        "# Mostra a lista\n",
        "print(lista)\n",
        "\n",
        "#ordena a lista\n",
        "listaOrdenada = sorted(lista)\n",
        "\n",
        "# Mostra a lista ordenada\n",
        "print(listaOrdenada)"
      ],
      "execution_count": 148,
      "outputs": [
        {
          "output_type": "stream",
          "name": "stdout",
          "text": [
            "[50, 40, 30, 20, 10]\n",
            "[10, 20, 30, 40, 50]\n"
          ]
        }
      ]
    },
    {
      "cell_type": "markdown",
      "metadata": {
        "id": "Fuck6ImQJZDr"
      },
      "source": [
        "### Ordenando listas por dois valores(sorted)"
      ]
    },
    {
      "cell_type": "code",
      "metadata": {
        "colab": {
          "base_uri": "https://localhost:8080/"
        },
        "outputId": "a8399712-7d33-4f39-c120-d97ae185e88b",
        "id": "TCXbUnxNJZDr"
      },
      "source": [
        "# Declara e inicializa uma lista de números\n",
        "lista = [[2, 3],[2, 2], [2, 1],[1, 3], [1, 2], [1, 1]]\n",
        "\n",
        "# Mostra a lista\n",
        "print(lista)\n",
        "\n",
        "#ordena a lista\n",
        "listaOrdenada = sorted(lista, key = lambda x: (x[0], x[1]))\n",
        "\n",
        "# Mostra a lista ordenada\n",
        "print(listaOrdenada)"
      ],
      "execution_count": 149,
      "outputs": [
        {
          "output_type": "stream",
          "name": "stdout",
          "text": [
            "[[2, 3], [2, 2], [2, 1], [1, 3], [1, 2], [1, 1]]\n",
            "[[1, 1], [1, 2], [1, 3], [2, 1], [2, 2], [2, 3]]\n"
          ]
        }
      ]
    },
    {
      "cell_type": "markdown",
      "metadata": {
        "id": "Zu4gSAyzcPlB"
      },
      "source": [
        "### Ordenando listas de literais (sort)"
      ]
    },
    {
      "cell_type": "code",
      "metadata": {
        "id": "fH6BPGBqcPlB",
        "colab": {
          "base_uri": "https://localhost:8080/"
        },
        "outputId": "c204d2ba-6605-41e7-bb69-8cf4bcd63dd5"
      },
      "source": [
        "# Declara e inicializa uma lista de literais\n",
        "lista = [\"cinquenta\", \"quarenta\", \"trinta\", \"vinta\", \"dez\"]\n",
        "\n",
        "# Mostra a lista\n",
        "print(lista)\n",
        "\n",
        "#ordena a lista\n",
        "lista.sort()\n",
        "\n",
        "# Mostra a lista\n",
        "print(lista)"
      ],
      "execution_count": 150,
      "outputs": [
        {
          "output_type": "stream",
          "name": "stdout",
          "text": [
            "['cinquenta', 'quarenta', 'trinta', 'vinta', 'dez']\n",
            "['cinquenta', 'dez', 'quarenta', 'trinta', 'vinta']\n"
          ]
        }
      ]
    },
    {
      "cell_type": "markdown",
      "metadata": {
        "id": "5o1MsVkIDhdE"
      },
      "source": [
        "### Ordenando listas de literais (sorted)"
      ]
    },
    {
      "cell_type": "code",
      "metadata": {
        "colab": {
          "base_uri": "https://localhost:8080/"
        },
        "id": "HALsAB0-DhdF",
        "outputId": "186d8f47-2c4a-4c61-b8f7-a640da508abd"
      },
      "source": [
        "# Declara e inicializa uma lista de literais\n",
        "lista = [\"cinquenta\", \"quarenta\", \"trinta\", \"vinta\", \"dez\"]\n",
        "\n",
        "# Mostra a lista\n",
        "print(lista)\n",
        "\n",
        "#ordena a lista\n",
        "listaOrdenada = sorted(lista)\n",
        "\n",
        "# Mostra a lista ordenada\n",
        "print(listaOrdenada)"
      ],
      "execution_count": 151,
      "outputs": [
        {
          "output_type": "stream",
          "name": "stdout",
          "text": [
            "['cinquenta', 'quarenta', 'trinta', 'vinta', 'dez']\n",
            "['cinquenta', 'dez', 'quarenta', 'trinta', 'vinta']\n"
          ]
        }
      ]
    },
    {
      "cell_type": "markdown",
      "metadata": {
        "id": "wq1-VV1KEhUK"
      },
      "source": [
        "### Ordenando listas de listas (sorted)\n",
        "\n",
        "Ordena uma lista por determinado valor de uma sublista"
      ]
    },
    {
      "cell_type": "code",
      "metadata": {
        "colab": {
          "base_uri": "https://localhost:8080/"
        },
        "outputId": "c445d628-0590-4089-e6f2-f442ed5b5e45",
        "id": "99kpY1YlEhUL"
      },
      "source": [
        "# Declara e inicializa uma lista de literais\n",
        "lista = [[2,\"João\", 130],\n",
        "         [3,\"Pedro\", 420],\n",
        "         [1,\"Maria\", 520],\n",
        "         [5,\"Luiz\", 100],\n",
        "         [4,\"Antônio\", 80],\n",
        "        ]\n",
        "\n",
        "# Mostra a lista\n",
        "print(lista)\n",
        "\n",
        "#ordena a lista pelo id (0), \"reverse=False\" é opcional\n",
        "listaOrdenada = sorted(lista, key=lambda x: x[0], reverse=False)\n",
        "\n",
        "# Mostra a lista ordenada\n",
        "print(listaOrdenada)\n",
        "\n",
        "#ordena a lista pelo valor (2), \"reverse=False\" é opcional\n",
        "listaOrdenada = sorted(lista, key=lambda x: x[2], reverse=False)\n",
        "\n",
        "# Mostra a lista ordenada\n",
        "print(listaOrdenada)"
      ],
      "execution_count": 152,
      "outputs": [
        {
          "output_type": "stream",
          "name": "stdout",
          "text": [
            "[[2, 'João', 130], [3, 'Pedro', 420], [1, 'Maria', 520], [5, 'Luiz', 100], [4, 'Antônio', 80]]\n",
            "[[1, 'Maria', 520], [2, 'João', 130], [3, 'Pedro', 420], [4, 'Antônio', 80], [5, 'Luiz', 100]]\n",
            "[[4, 'Antônio', 80], [5, 'Luiz', 100], [2, 'João', 130], [3, 'Pedro', 420], [1, 'Maria', 520]]\n"
          ]
        }
      ]
    },
    {
      "cell_type": "markdown",
      "metadata": {
        "id": "QFJLexjRdMVy"
      },
      "source": [
        "### Procurando valores nas listas"
      ]
    },
    {
      "cell_type": "code",
      "metadata": {
        "id": "6dNlQ3OSdMVz",
        "colab": {
          "base_uri": "https://localhost:8080/"
        },
        "outputId": "0d06ffe8-40aa-488b-c5e6-d7d10134e5e4"
      },
      "source": [
        "# Declara e inicializa uma lista de números\n",
        "lista = [10, 20, 30, 40, 50]\n",
        "\n",
        "# Mostra a lista\n",
        "print(lista)\n",
        "\n",
        "# Verifica a existência de 10 na lista\n",
        "print(10 in lista)\n",
        "\n",
        "# Verifica a existência de 20 na lista\n",
        "if (20 in lista):\n",
        "  print(\"20 existe na lista\")"
      ],
      "execution_count": 153,
      "outputs": [
        {
          "output_type": "stream",
          "name": "stdout",
          "text": [
            "[10, 20, 30, 40, 50]\n",
            "True\n",
            "20 existe na lista\n"
          ]
        }
      ]
    },
    {
      "cell_type": "markdown",
      "metadata": {
        "id": "IPU46C_Dd1QP"
      },
      "source": [
        "### Criando lista com determinados valores"
      ]
    },
    {
      "cell_type": "code",
      "metadata": {
        "id": "oK7nObo9d1QQ",
        "colab": {
          "base_uri": "https://localhost:8080/"
        },
        "outputId": "0cf4b778-cc2a-4632-b590-50a5f2cf55e3"
      },
      "source": [
        "# Declara e inicializa uma lista de números\n",
        "lista = [1, 2, 3, 4, 5]\n",
        "\n",
        "# Mostra a lista\n",
        "print(lista)\n",
        "\n",
        "# Cria uma outra lista com os números pares\n",
        "lista_par = [elemento for elemento in lista if elemento % 2 == 0]\n",
        "\n",
        "# Mostra a lista par\n",
        "print(lista_par)\n"
      ],
      "execution_count": 154,
      "outputs": [
        {
          "output_type": "stream",
          "name": "stdout",
          "text": [
            "[1, 2, 3, 4, 5]\n",
            "[2, 4]\n"
          ]
        }
      ]
    },
    {
      "cell_type": "markdown",
      "metadata": {
        "id": "VzBkqboX6FuR"
      },
      "source": [
        "### Criando cópias de listas"
      ]
    },
    {
      "cell_type": "code",
      "metadata": {
        "id": "uuvkEn2t6FuU",
        "colab": {
          "base_uri": "https://localhost:8080/"
        },
        "outputId": "204ff21c-6b08-4ca9-ea74-4302d4c05ed3"
      },
      "source": [
        "# Declara e inicializa uma lista de números\n",
        "lista1 = [1, 2, 3, 4, 5]\n",
        "\n",
        "# Mostra a lista\n",
        "print(\"Lista1 antes da cópia com \\\"=\\\" :\\n\",lista1)\n",
        "\n",
        "# A cópia com \"=\" cria uma referência para lista1 em lista2\n",
        "lista2 = lista1\n",
        "\n",
        "# Apagando primeiro da lista1 é a mesma coisa que apagar da lista2\n",
        "del lista1[0]\n",
        "\n",
        "# Mostra a lista1\n",
        "print(\"Lista1:\\n\",lista1)\n",
        "\n",
        "# Mostra a lista2\n",
        "print(\"Lista2:\\n\",lista2)\n",
        "\n",
        "#======================================================\n",
        "# Declara e inicializa uma lista de números\n",
        "lista1 = [1, 2, 3, 4, 5]\n",
        "\n",
        "# Mostra a lista\n",
        "print(\"Lista1 antes da cópia com \\\"copy()\\\" :\\n\",lista1)\n",
        "\n",
        "# Para copiar uma lista é necessário utilizar o método copy\n",
        "lista2 = lista1.copy()\n",
        "\n",
        "# Apagando primeiro da lista1 \n",
        "del lista1[0]\n",
        "\n",
        "# Mostra a lista1\n",
        "print(\"Lista1:\\n\",lista1)\n",
        "\n",
        "# Mostra a lista2\n",
        "print(\"Lista2:\\n\",lista2)"
      ],
      "execution_count": 155,
      "outputs": [
        {
          "output_type": "stream",
          "name": "stdout",
          "text": [
            "Lista1 antes da cópia com \"=\" :\n",
            " [1, 2, 3, 4, 5]\n",
            "Lista1:\n",
            " [2, 3, 4, 5]\n",
            "Lista2:\n",
            " [2, 3, 4, 5]\n",
            "Lista1 antes da cópia com \"copy()\" :\n",
            " [1, 2, 3, 4, 5]\n",
            "Lista1:\n",
            " [2, 3, 4, 5]\n",
            "Lista2:\n",
            " [1, 2, 3, 4, 5]\n"
          ]
        }
      ]
    },
    {
      "cell_type": "markdown",
      "metadata": {
        "id": "Uo7TghpB_itL"
      },
      "source": [
        "### Criando lista preenchida com números\n",
        "\n",
        "0 - início do intervalo\n",
        "10 - final do intervalo"
      ]
    },
    {
      "cell_type": "code",
      "metadata": {
        "colab": {
          "base_uri": "https://localhost:8080/"
        },
        "id": "NgoS0PEH_itM",
        "outputId": "24700bdf-c65c-4a1d-c288-471d968a5d1d"
      },
      "source": [
        "# Declara e inicializa uma lista de números\n",
        "lista1 = list(range(0, 10))\n",
        "\n",
        "# Mostra a lista1\n",
        "print(\"Lista1:\\n\",lista1)"
      ],
      "execution_count": 156,
      "outputs": [
        {
          "output_type": "stream",
          "name": "stdout",
          "text": [
            "Lista1:\n",
            " [0, 1, 2, 3, 4, 5, 6, 7, 8, 9]\n"
          ]
        }
      ]
    },
    {
      "cell_type": "markdown",
      "metadata": {
        "id": "pummAH-dM1c7"
      },
      "source": [
        "### Gerando as permutações de uma lista de inteiros\n",
        "\n"
      ]
    },
    {
      "cell_type": "code",
      "metadata": {
        "colab": {
          "base_uri": "https://localhost:8080/"
        },
        "id": "QV5i_8N2M1dG",
        "outputId": "bcdf2295-e750-4e10-e1cc-802a09dd2167"
      },
      "source": [
        "# Biblioteca para gerar as permutações\n",
        "import itertools\n",
        "\n",
        "# Declara e inicializa uma lista de números\n",
        "lista1 = [1,2,3]\n",
        "\n",
        "# Retorna uma lista com as permutações da lista1\n",
        "permutacao = list(itertools.permutations(lista1))\n",
        "\n",
        "# Mostra a lista1\n",
        "print(\"Lista1:\\n\",lista1)\n",
        "\n",
        "# Mostra a permutacao\n",
        "print(\"Permutacao:\\n\",permutacao)"
      ],
      "execution_count": 157,
      "outputs": [
        {
          "output_type": "stream",
          "name": "stdout",
          "text": [
            "Lista1:\n",
            " [1, 2, 3]\n",
            "Permutacao:\n",
            " [(1, 2, 3), (1, 3, 2), (2, 1, 3), (2, 3, 1), (3, 1, 2), (3, 2, 1)]\n"
          ]
        }
      ]
    },
    {
      "cell_type": "markdown",
      "metadata": {
        "id": "N0R-kd5hNa7A"
      },
      "source": [
        "### Gerando as permutações de uma lista de strings\n",
        "\n"
      ]
    },
    {
      "cell_type": "code",
      "metadata": {
        "colab": {
          "base_uri": "https://localhost:8080/"
        },
        "id": "PU0IAjixNa7A",
        "outputId": "1d82b299-d749-4515-ad01-287363325a23"
      },
      "source": [
        "# Biblioteca para gerar as permutações\n",
        "import itertools\n",
        "\n",
        "# Declara e inicializa uma lista de strings\n",
        "lista1 = [\"uva\",\"laranja\",\"banana\"]\n",
        "\n",
        "# Retorna uma lista com as permutações da lista1\n",
        "permutacao = list(itertools.permutations(lista1))\n",
        "\n",
        "# Mostra a lista1\n",
        "print(\"Lista1:\\n\",lista1)\n",
        "\n",
        "# Mostra a permutacao\n",
        "print(\"Permutacao:\\n\",permutacao)"
      ],
      "execution_count": 158,
      "outputs": [
        {
          "output_type": "stream",
          "name": "stdout",
          "text": [
            "Lista1:\n",
            " ['uva', 'laranja', 'banana']\n",
            "Permutacao:\n",
            " [('uva', 'laranja', 'banana'), ('uva', 'banana', 'laranja'), ('laranja', 'uva', 'banana'), ('laranja', 'banana', 'uva'), ('banana', 'uva', 'laranja'), ('banana', 'laranja', 'uva')]\n"
          ]
        }
      ]
    },
    {
      "cell_type": "markdown",
      "metadata": {
        "id": "yETUcyIrjOKf"
      },
      "source": [
        "### Gerando as permutações de uma lista de strings com função"
      ]
    },
    {
      "cell_type": "code",
      "metadata": {
        "colab": {
          "base_uri": "https://localhost:8080/"
        },
        "id": "tqOyIUXhjZwN",
        "outputId": "902bac6e-6e60-4eb0-ff1c-c00e57a96f18"
      },
      "source": [
        "# Biblioteca para gerar números aleatórios\n",
        "import random\n",
        "import math\n",
        "\n",
        "def geraPermutacao(lista):\n",
        "    # Conjunto para tratar as repetições\n",
        "    conjunto = set()\n",
        "    # Tamanho da lista\n",
        "    tamanhoLista = len(lista)\n",
        "    # Adiciona o conjunto inicial \n",
        "    inicio = tuple(lista)\n",
        "    while True:\n",
        "        # Gera uma permutação aleatória da lista\n",
        "        permutado = tuple(random.sample(lista, tamanhoLista))\n",
        "        # Permutado diferente de qualquer elemento do conjunto ou da lista\n",
        "        if permutado not in conjunto and permutado != inicio:\n",
        "            # Adiciona no conjunto\n",
        "            conjunto.add(permutado)         \n",
        "            yield permutado\n",
        "\n",
        "def geradorPermutacao(lista, qtde):\n",
        "    # Lista para retornar as permutações\n",
        "    listaR = []\n",
        "    # Verifica a quantidade de permutações possíveis\n",
        "    if qtde <= math.factorial(len(lista)):\n",
        "      # Gera as permutações    \n",
        "      listaP = geraPermutacao(lista)\n",
        "      # Seleciona qtde-1 permutações\n",
        "      listaP = [next(listaP) for _ in range(qtde-1)]\n",
        "      # Converte em uma lista de lista, pois é uma lista de tuplas\n",
        "      listaR = [list(x) for x in listaP]\n",
        "      # Adiciona o primeiro elemento na lista\n",
        "      listaR.insert(0,lista)\n",
        "    else:\n",
        "      print(\"A quantidade de permutações deve ser menor ou igual ao fatorial do tamanho da lista\")\n",
        "    return listaR\n",
        "\n",
        "# Declara e inicializa uma lista de strings\n",
        "lista1 = [\"uva\",\"laranja\",\"banana\"]\n",
        "\n",
        "# Retorna uma lista com as permutações da lista1\n",
        "permutacao = geradorPermutacao(lista1,6)\n",
        "\n",
        "# Mostra a lista1\n",
        "print(\"Lista1:\\n\",lista1)\n",
        "\n",
        "# Mostra a permutacao\n",
        "print(\"Permutacao:\\n\",permutacao)"
      ],
      "execution_count": 159,
      "outputs": [
        {
          "output_type": "stream",
          "name": "stdout",
          "text": [
            "Lista1:\n",
            " ['uva', 'laranja', 'banana']\n",
            "Permutacao:\n",
            " [['uva', 'laranja', 'banana'], ['uva', 'banana', 'laranja'], ['banana', 'uva', 'laranja'], ['laranja', 'banana', 'uva'], ['banana', 'laranja', 'uva'], ['laranja', 'uva', 'banana']]\n"
          ]
        }
      ]
    },
    {
      "cell_type": "markdown",
      "metadata": {
        "id": "0IIpfGj-T5jF"
      },
      "source": [
        "### Encontrando uma sublista em uma lista"
      ]
    },
    {
      "cell_type": "code",
      "metadata": {
        "id": "eZKAgdjgT5wP"
      },
      "source": [
        "# Localiza os índices de início e fim de uma sublista em uma lista\n",
        "def encontrarIndiceSubLista(lista, sublista):\n",
        "    # https://en.wikipedia.org/wiki/Boyer%E2%80%93Moore%E2%80%93Horspool_algorithm\n",
        "    h = len(lista)\n",
        "    n = len(sublista)\n",
        "    skip = {sublista[i]: n - i - 1 for i in range(n - 1)}\n",
        "    i = n - 1\n",
        "    while i < h:\n",
        "        for j in range(n):\n",
        "            if lista[i - j] != sublista[-j - 1]:\n",
        "                i += skip.get(lista[i], n)\n",
        "                break\n",
        "        else:\n",
        "            indiceInicio = i - n + 1\n",
        "            indiceFim = indiceInicio + len(sublista)-1\n",
        "            return indiceInicio, indiceFim\n",
        "    return -1, -1"
      ],
      "execution_count": 160,
      "outputs": []
    },
    {
      "cell_type": "code",
      "source": [
        "lista = [1,2,3,4,5,6,7]\n",
        "sublista = [3,4,5]\n",
        "\n",
        "indiceInicio, indiceFim = encontrarIndiceSubLista(lista, sublista)\n",
        "\n",
        "print(indiceInicio, indiceFim)"
      ],
      "metadata": {
        "colab": {
          "base_uri": "https://localhost:8080/"
        },
        "id": "sxHQ5M98QWlh",
        "outputId": "f26f20c3-ff80-47cf-e1ee-17b375b36f9c"
      },
      "execution_count": 161,
      "outputs": [
        {
          "output_type": "stream",
          "name": "stdout",
          "text": [
            "2 4\n"
          ]
        }
      ]
    },
    {
      "cell_type": "markdown",
      "source": [
        "### Conta um determinado elemento em uma lista"
      ],
      "metadata": {
        "id": "YzUwbLg0QsEm"
      }
    },
    {
      "cell_type": "code",
      "source": [
        "def contaElemento(lista, elemento):\n",
        "    \"\"\" \n",
        "      Conta o número de ocorrências do elemento na lista.\n",
        "          \n",
        "      Parâmetros:\n",
        "        `lista` - Lista com os elementos.\n",
        "        `elemento` - Elemento a ser contado a ocorrência na lista.\n",
        "\n",
        "      Retorno:    \n",
        "        `cont` - Quantidade de ocorrências de elmento na lista.\n",
        "    \"\"\"\n",
        "    cont = 0\n",
        "    # Percorre a lista\n",
        "    for i, linha in enumerate(lista):      \n",
        "      # Verifica se o elemento existe na lista\n",
        "      if linha in elemento:\n",
        "        # conta o elemento\n",
        "        cont = cont + 1\n",
        "    return cont"
      ],
      "metadata": {
        "id": "ER-hypv9QyBh"
      },
      "execution_count": 162,
      "outputs": []
    },
    {
      "cell_type": "code",
      "source": [
        "lista = [1,2,2,3,3,3,4,4,5]\n",
        "\n",
        "conta = contaElemento(lista, [2])\n",
        "\n",
        "print(conta)"
      ],
      "metadata": {
        "colab": {
          "base_uri": "https://localhost:8080/"
        },
        "id": "hnlqcbDAQyNQ",
        "outputId": "17f7e499-925b-4832-c07a-a7e3a3437129"
      },
      "execution_count": 163,
      "outputs": [
        {
          "output_type": "stream",
          "name": "stdout",
          "text": [
            "2\n"
          ]
        }
      ]
    },
    {
      "cell_type": "markdown",
      "source": [
        "### Percorrendo uma lista considerando uma quantidade(janela) de elementos antes e depois. "
      ],
      "metadata": {
        "id": "NQpUx9M7T11J"
      }
    },
    {
      "cell_type": "code",
      "source": [
        "def getJanelaSentenca(lista, janela, indice_sentenca):\n",
        "  \"\"\" \n",
        "     Cria janelas de itens de uma lista\n",
        "         \n",
        "     Parâmetros:\n",
        "       `lista` - Lista com os elementos.\n",
        "       `janela` - Tamanho da janela a ser montada.\n",
        "       `indice_sentenca` - Índice da sentença que se deseja a janela.\n",
        "\n",
        "     Retorno:    \n",
        "       `listaRetorno` - Lista com os itens em janelas\n",
        "  \"\"\"\n",
        "\n",
        "  # Percorre a lista  \n",
        "  #for i, sentenca in enumerate(lista):\n",
        "  # Dentro do intervalo das sentenças\n",
        "  if indice_sentenca >= 0 and indice_sentenca < len(lista):\n",
        "      # Seleciona a sentença que se deseja a janela de \n",
        "      i == indice_sentenca\n",
        "      #print(\"\\nJanela :\", i)\n",
        "      \n",
        "      # Guarda os itens da janela\n",
        "      lista_janela = []   \n",
        "\n",
        "      # Inicio da lista sem janelas completas antes\n",
        "      if i < janela:  \n",
        "\n",
        "        #print(\"Inicio da lista\") \n",
        "        # Sentenças anteriores\n",
        "        #Evita estourar o início da lista\n",
        "        inicio = 0\n",
        "        fim = i\n",
        "        for j in range(inicio, fim):        \n",
        "          #print(\"  \", lista[j])\n",
        "          lista_janela.append(lista[j])\n",
        "\n",
        "        # Sentença central\n",
        "        #print(\"  >\", i, lista[i])\n",
        "        lista_janela.append(lista[i])\n",
        "        \n",
        "        # Sentenças posteriores\n",
        "        inicio = i + 1\n",
        "        fim = i + janela + 1\n",
        "        for j in range(inicio,fim):        \n",
        "          #print(\"  \", lista[j])\n",
        "          lista_janela.append(lista[j])\n",
        "          \n",
        "      else:\n",
        "        # Meio da lista com janelas completas antes e depois\n",
        "        if i < len(lista)-janela:\n",
        "          #lista_janela = []\n",
        "          #print(\" Meio da lista\")\n",
        "\n",
        "          # Sentenças anteriores\n",
        "          inicio = i - janela         \n",
        "          fim = i\n",
        "          for j in range(inicio, fim):          \n",
        "            #print(\"  \", lista[j])\n",
        "            lista_janela.append(lista[j])\n",
        "                        \n",
        "          # Sentença central\n",
        "          #print(\"  >\", i, lista[i])\n",
        "          lista_janela.append(lista[i])\n",
        "          \n",
        "          # Sentenças posteriores\n",
        "          inicio = i + 1\n",
        "          fim = i + 1 + janela\n",
        "          for j in range(inicio,fim):      \n",
        "            #print(\"  \", lista[j])\n",
        "            lista_janela.append(lista[j])\n",
        "\n",
        "        else:\n",
        "          # Fim da lista sem janelas completas depois\n",
        "          if i >= len(lista)-janela:            \n",
        "            #print(\"Fim da lista\")    \n",
        "            \n",
        "            # Sentenças anteriores\n",
        "            inicio = i - janela\n",
        "            fim = i\n",
        "            for j in range(inicio, fim):\n",
        "              #print(\"  \", lista[j])\n",
        "              lista_janela.append(lista[j])\n",
        "\n",
        "            # Sentença central\n",
        "            #print(\"  >\", i, lista[i])\n",
        "            lista_janela.append(lista[i])\n",
        "\n",
        "            # Sentenças posteriores\n",
        "            inicio = i + 1\n",
        "            fim = i + 1 + janela \n",
        "            # Evita o extrapolar o limite da lista de sentenças\n",
        "            if fim > len(lista):\n",
        "              fim = len(lista)\n",
        "            for j in range(inicio,fim):\n",
        "              #print(\"  \", lista[j])\n",
        "              lista_janela.append(lista[j])              \n",
        "            \n",
        "  return lista_janela, \" \".join(lista_janela)"
      ],
      "metadata": {
        "id": "KdewX1TlIXAv"
      },
      "execution_count": 164,
      "outputs": []
    },
    {
      "cell_type": "code",
      "source": [
        "lista = [\"Sentença 0.\",\n",
        "         \"Sentença 1.\",\n",
        "         \"Sentença 2.\",\n",
        "         \"Sentença 3.\",\n",
        "         \"Sentença 4.\",\n",
        "         \"Sentença 5.\",\n",
        "         \"Sentença 6.\",]\n",
        "\n",
        "janela = 2\n",
        "\n",
        "for i, x in enumerate(lista):\n",
        "  print(i, x)\n",
        "  listaRetorno, stringRetorno = getJanelaSentenca(lista, janela, i)        \n",
        "  print(\"  \",listaRetorno)\n",
        "  print(\"  \",stringRetorno)  "
      ],
      "metadata": {
        "colab": {
          "base_uri": "https://localhost:8080/"
        },
        "id": "sQsTRL-WL0tf",
        "outputId": "6770d3b7-ce43-47cb-abbd-85fbf8c4672e"
      },
      "execution_count": 165,
      "outputs": [
        {
          "output_type": "stream",
          "name": "stdout",
          "text": [
            "0 Sentença 0.\n",
            "   ['Sentença 0.', 'Sentença 1.', 'Sentença 2.']\n",
            "   Sentença 0. Sentença 1. Sentença 2.\n",
            "1 Sentença 1.\n",
            "   ['Sentença 0.', 'Sentença 1.', 'Sentença 2.', 'Sentença 3.']\n",
            "   Sentença 0. Sentença 1. Sentença 2. Sentença 3.\n",
            "2 Sentença 2.\n",
            "   ['Sentença 0.', 'Sentença 1.', 'Sentença 2.', 'Sentença 3.', 'Sentença 4.']\n",
            "   Sentença 0. Sentença 1. Sentença 2. Sentença 3. Sentença 4.\n",
            "3 Sentença 3.\n",
            "   ['Sentença 1.', 'Sentença 2.', 'Sentença 3.', 'Sentença 4.', 'Sentença 5.']\n",
            "   Sentença 1. Sentença 2. Sentença 3. Sentença 4. Sentença 5.\n",
            "4 Sentença 4.\n",
            "   ['Sentença 2.', 'Sentença 3.', 'Sentença 4.', 'Sentença 5.', 'Sentença 6.']\n",
            "   Sentença 2. Sentença 3. Sentença 4. Sentença 5. Sentença 6.\n",
            "5 Sentença 5.\n",
            "   ['Sentença 3.', 'Sentença 4.', 'Sentença 5.', 'Sentença 6.']\n",
            "   Sentença 3. Sentença 4. Sentença 5. Sentença 6.\n",
            "6 Sentença 6.\n",
            "   ['Sentença 4.', 'Sentença 5.', 'Sentença 6.']\n",
            "   Sentença 4. Sentença 5. Sentença 6.\n"
          ]
        }
      ]
    },
    {
      "cell_type": "markdown",
      "metadata": {
        "id": "JLckm-nT-aV8"
      },
      "source": [
        "### Removendo elementos repetidos de uma lista"
      ]
    },
    {
      "cell_type": "code",
      "metadata": {
        "colab": {
          "base_uri": "https://localhost:8080/"
        },
        "outputId": "90bdb4b3-71fe-4b4c-c2d4-32461c3f901e",
        "id": "kxWjXbg3-aV8"
      },
      "source": [
        "# Declara e inicializa uma lista de números\n",
        "lista = [1, 1, 2, 3, 3, 3, 4, 5]\n",
        "\n",
        "# Mostra a lista\n",
        "print(lista)\n",
        "\n",
        "# Cria uma outra lista sem as repetições\n",
        "lista_sem_repeticao = list(dict.fromkeys(lista))\n",
        "\n",
        "# Mostra a lista par\n",
        "print(lista_sem_repeticao)\n"
      ],
      "execution_count": 166,
      "outputs": [
        {
          "output_type": "stream",
          "name": "stdout",
          "text": [
            "[1, 1, 2, 3, 3, 3, 4, 5]\n",
            "[1, 2, 3, 4, 5]\n"
          ]
        }
      ]
    },
    {
      "cell_type": "markdown",
      "metadata": {
        "id": "h-tCU1iqlfMP"
      },
      "source": [
        "## Frequência de elementos em uma lista gerando dicionário"
      ]
    },
    {
      "cell_type": "code",
      "metadata": {
        "colab": {
          "base_uri": "https://localhost:8080/"
        },
        "id": "0f6mJbqelfVW",
        "outputId": "ff215189-a02e-4dd1-b2af-09917b082002"
      },
      "source": [
        "# Biblioteca para gerar a frequência\n",
        "import collections\n",
        "\n",
        "# Lista dos dados\n",
        "lista = [1,1,1,1,2,2,2,3,3,3]\n",
        "\n",
        "# Recupera a frequência da lista retornando um dicionario\n",
        "conjunto = collections.Counter(lista)\n",
        "print(conjunto)\n",
        "\n",
        "# Lista os valores e a frequência\n",
        "for chave, valor in conjunto.items():\n",
        "  print(\"chave=\",chave,\" valor=\", valor)"
      ],
      "execution_count": 167,
      "outputs": [
        {
          "output_type": "stream",
          "name": "stdout",
          "text": [
            "Counter({1: 4, 2: 3, 3: 3})\n",
            "chave= 1  valor= 4\n",
            "chave= 2  valor= 3\n",
            "chave= 3  valor= 3\n"
          ]
        }
      ]
    },
    {
      "cell_type": "markdown",
      "metadata": {
        "id": "Xx3TA_qEZ-dD"
      },
      "source": [
        "## Frequência de elementos em uma lista gerando lista\n",
        "\n"
      ]
    },
    {
      "cell_type": "code",
      "metadata": {
        "colab": {
          "base_uri": "https://localhost:8080/"
        },
        "id": "T2qN7wxcZ-dF",
        "outputId": "78790f58-79ad-4eda-8315-1aa9e4b5ef36"
      },
      "source": [
        "# Biblioteca para gerar a frequência\n",
        "import collections\n",
        "\n",
        "# Lista dos dados\n",
        "lista = [1,1,1,1,2,2,2,3,3,3]\n",
        "\n",
        "# Recupera a frequência da lista retornando um dicionario\n",
        "conjunto = collections.Counter(lista)\n",
        "print(conjunto)\n",
        "\n",
        "lista_frequencia = []\n",
        "# Lista os valores e a frequência\n",
        "for chave, valor in conjunto.items():\n",
        "  lista_frequencia.append([chave,valor])\n",
        "  \n",
        "# Lista os valores e a frequência\n",
        "for i, linha in enumerate(lista_frequencia):\n",
        "  print(linha)"
      ],
      "execution_count": 168,
      "outputs": [
        {
          "output_type": "stream",
          "name": "stdout",
          "text": [
            "Counter({1: 4, 2: 3, 3: 3})\n",
            "[1, 4]\n",
            "[2, 3]\n",
            "[3, 3]\n"
          ]
        }
      ]
    },
    {
      "cell_type": "markdown",
      "metadata": {
        "id": "u87Nm6Tue0Az"
      },
      "source": [
        "## Frequência de elementos em uma lista com base fixa\n",
        "\n",
        "Conta a frequência dos elementos de uma lista e gera um dicionário com as quantidades.\n",
        "Usa um conjunto base para chaves para identificar o valor."
      ]
    },
    {
      "cell_type": "code",
      "metadata": {
        "colab": {
          "base_uri": "https://localhost:8080/"
        },
        "outputId": "d54a7baf-ef81-45d1-c36a-40d7f808aeb2",
        "id": "o4Kk1EJ0e0Az"
      },
      "source": [
        "# Biblioteca para gerar a frequência\n",
        "import collections\n",
        "\n",
        "# Lista dos dados\n",
        "lista = [1,1,1,1,2,2,2,3,3,3]\n",
        "\n",
        "# Conjunto base\n",
        "conjunto = {1:0, 2:0, 3:0, 4:0}\n",
        "\n",
        "for x in lista:\n",
        "  valor = conjunto.get(x)\n",
        "  conjunto[x] = valor + 1\n",
        "\n",
        "print(conjunto)\n",
        "\n",
        "# Lista os valores e a frequência\n",
        "for chave, valor in conjunto.items():\n",
        "  print(\"chave=\",chave,\" valor=\", valor)"
      ],
      "execution_count": 169,
      "outputs": [
        {
          "output_type": "stream",
          "name": "stdout",
          "text": [
            "{1: 4, 2: 3, 3: 3, 4: 0}\n",
            "chave= 1  valor= 4\n",
            "chave= 2  valor= 3\n",
            "chave= 3  valor= 3\n",
            "chave= 4  valor= 0\n"
          ]
        }
      ]
    },
    {
      "cell_type": "markdown",
      "metadata": {
        "id": "wGYnCtY1kp3j"
      },
      "source": [
        "## Lista de lista"
      ]
    },
    {
      "cell_type": "markdown",
      "metadata": {
        "id": "gecruyNzkv-t"
      },
      "source": [
        "### Declarando e listando"
      ]
    },
    {
      "cell_type": "code",
      "metadata": {
        "id": "aFGwLBdokzoc",
        "colab": {
          "base_uri": "https://localhost:8080/"
        },
        "outputId": "2d7dcb50-2b5b-4b21-a63f-b576c228c09e"
      },
      "source": [
        "# Declaração\n",
        "lista = [[1,\"joão\"],[2,\"maria\"],[3,\"pedro\"],[4,\"josé\"]]\n",
        "\n",
        "# Tamanho da lista\n",
        "print(\"Tamanho da lista:\", len(lista))\n",
        "\n",
        "# Mostrando a lista\n",
        "for linha1 in lista:\n",
        "   print(linha1[0], linha1[1])\n",
        "   for linha2 in linha1:\n",
        "      print(\"   \", linha2)"
      ],
      "execution_count": 170,
      "outputs": [
        {
          "output_type": "stream",
          "name": "stdout",
          "text": [
            "Tamanho da lista: 4\n",
            "1 joão\n",
            "    1\n",
            "    joão\n",
            "2 maria\n",
            "    2\n",
            "    maria\n",
            "3 pedro\n",
            "    3\n",
            "    pedro\n",
            "4 josé\n",
            "    4\n",
            "    josé\n"
          ]
        }
      ]
    },
    {
      "cell_type": "markdown",
      "metadata": {
        "id": "-gu3kOqmlVeP"
      },
      "source": [
        "### Criando listas condicionadas\n",
        "\n",
        "Cria uma lista nova com as condições especificadas"
      ]
    },
    {
      "cell_type": "code",
      "metadata": {
        "id": "fu2ONDiulQtQ",
        "colab": {
          "base_uri": "https://localhost:8080/"
        },
        "outputId": "5a99cc9b-5ce7-421b-f538-afdaa5a078fa"
      },
      "source": [
        "# Declaração\n",
        "lista = [[1,\"joão\"],[2,\"maria\"],[3,\"pedro\"],[4,\"josé\"]]\n",
        "\n",
        "# Tamanho da lista\n",
        "print(\"Tamanho da lista:\", len(lista))\n",
        "\n",
        "# Cria uma lista dos valores com a posição 0 maior que 2\n",
        "lista_nova = [linha for linha in lista if linha[0] > 2]\n",
        "\n",
        "# Tamanho da lista nova\n",
        "print(\"Tamanho da lista nova:\", len(lista_nova))\n",
        "\n",
        "# Mostrando a lista nova\n",
        "for linha in lista_nova:\n",
        "   print(linha[0], linha[1])"
      ],
      "execution_count": 171,
      "outputs": [
        {
          "output_type": "stream",
          "name": "stdout",
          "text": [
            "Tamanho da lista: 4\n",
            "Tamanho da lista nova: 2\n",
            "3 pedro\n",
            "4 josé\n"
          ]
        }
      ]
    },
    {
      "cell_type": "markdown",
      "metadata": {
        "id": "FEkyfiGil7j1"
      },
      "source": [
        "### Criando listas de elementos\n",
        "\n",
        "Cria uma lista com os elementos que atendem  as condições especificadas"
      ]
    },
    {
      "cell_type": "code",
      "metadata": {
        "id": "VdT8yqizl7j3",
        "colab": {
          "base_uri": "https://localhost:8080/"
        },
        "outputId": "0b22c1b8-7f0c-4db0-c8f5-cb9d1e853ea1"
      },
      "source": [
        "# Declaração\n",
        "lista = [[1,\"joão\"],[2,\"maria\"],[3,\"pedro\"],[4,\"josé\"]]\n",
        "\n",
        "# Tamanho da lista\n",
        "print(\"Tamanho da lista:\", len(lista))\n",
        "\n",
        "# Cria uma lista dos valores de linha[0] com a posição 0 maior que 2\n",
        "lista_nova = [linha[0] for linha in lista if linha[0] > 2]\n",
        "\n",
        "# Tamanho da lista nova com linha[0]\n",
        "print(\"Tamanho da lista nova(linha[0]):\", len(lista_nova))\n",
        "\n",
        "# Mostrando a lista nova\n",
        "print(lista_nova)"
      ],
      "execution_count": 172,
      "outputs": [
        {
          "output_type": "stream",
          "name": "stdout",
          "text": [
            "Tamanho da lista: 4\n",
            "Tamanho da lista nova(linha[0]): 2\n",
            "[3, 4]\n"
          ]
        }
      ]
    },
    {
      "cell_type": "markdown",
      "metadata": {
        "id": "TahJABonrLty"
      },
      "source": [
        "### Criando lista de elementos\n",
        "Cria uma lista com os elementos que atendem  as condições especificadas"
      ]
    },
    {
      "cell_type": "code",
      "metadata": {
        "id": "KKlYBLSOrLt0",
        "colab": {
          "base_uri": "https://localhost:8080/"
        },
        "outputId": "54cb8b9b-34b8-4295-9cf8-ca363453305c"
      },
      "source": [
        "# Declaração\n",
        "lista = [[1,\"joão\"],[2,\"maria\"],[3,\"pedro\"],[4,\"josé\"]]\n",
        "\n",
        "# Tamanho da lista\n",
        "print(\"Tamanho da lista:\", len(lista))\n",
        "\n",
        "# Cria uma lista dos valores de linha[0] com a posição 0 maior que 2\n",
        "lista_nova = [linha[0] for linha in lista if linha[0] > 2]\n",
        "\n",
        "# Cria a lista com os valores que estão no conjunto anterior\n",
        "lista = [linha for linha in lista if linha[0] in lista_nova]\n",
        "\n",
        "# Tamanho da lista nova\n",
        "print(\"Tamanho da lista nova:\", len(lista_nova))\n",
        "\n",
        "# Mostrando a lista nova\n",
        "print(lista_nova)\n",
        "\n",
        "# Mostra a lista\n",
        "print(lista)"
      ],
      "execution_count": 173,
      "outputs": [
        {
          "output_type": "stream",
          "name": "stdout",
          "text": [
            "Tamanho da lista: 4\n",
            "Tamanho da lista nova: 2\n",
            "[3, 4]\n",
            "[[3, 'pedro'], [4, 'josé']]\n"
          ]
        }
      ]
    },
    {
      "cell_type": "markdown",
      "metadata": {
        "id": "gsxfvsSUf7Ud"
      },
      "source": [
        "## Convertendo listas em dataFrames\n",
        "\n",
        "Converte uma lista de dados em um pandas dataFrame."
      ]
    },
    {
      "cell_type": "code",
      "metadata": {
        "id": "x14TDRvBgANW",
        "colab": {
          "base_uri": "https://localhost:8080/",
          "height": 320
        },
        "outputId": "36ef3973-2800-456a-ea61-8b89fc3c6d75"
      },
      "source": [
        "# Biblioteca de processamento de dados, I/O em arquivo csv (ex. pd.DataFrame.from_records)\n",
        "import pandas as pd\n",
        "\n",
        "# Lista com os dados\n",
        "lista = [[1,\"joão\"],[2,\"maria\"],[3,\"pedro\"],[4,\"josé\"]]\n",
        "\n",
        "# Mostrando a lista\n",
        "for linha in lista:\n",
        "   print(linha[0], linha[1])\n",
        "\n",
        "print(\"\\n Depois da conversão\\n\")\n",
        "\n",
        "# Converte a lista de lista em um dataframe\n",
        "df = pd.DataFrame.from_records(lista, columns=[\"id\", \"nome\"])\n",
        "\n",
        "# Mostra os dados\n",
        "print(df)\n",
        "\n",
        "# Mostra 2 dados aleatórios\n",
        "df.sample(2)"
      ],
      "execution_count": 174,
      "outputs": [
        {
          "output_type": "stream",
          "name": "stdout",
          "text": [
            "1 joão\n",
            "2 maria\n",
            "3 pedro\n",
            "4 josé\n",
            "\n",
            " Depois da conversão\n",
            "\n",
            "   id   nome\n",
            "0   1   joão\n",
            "1   2  maria\n",
            "2   3  pedro\n",
            "3   4   josé\n"
          ]
        },
        {
          "output_type": "execute_result",
          "data": {
            "text/plain": [
              "   id  nome\n",
              "3   4  josé\n",
              "0   1  joão"
            ],
            "text/html": [
              "\n",
              "  <div id=\"df-c3a055b6-8c4b-4175-9846-633b56b27094\">\n",
              "    <div class=\"colab-df-container\">\n",
              "      <div>\n",
              "<style scoped>\n",
              "    .dataframe tbody tr th:only-of-type {\n",
              "        vertical-align: middle;\n",
              "    }\n",
              "\n",
              "    .dataframe tbody tr th {\n",
              "        vertical-align: top;\n",
              "    }\n",
              "\n",
              "    .dataframe thead th {\n",
              "        text-align: right;\n",
              "    }\n",
              "</style>\n",
              "<table border=\"1\" class=\"dataframe\">\n",
              "  <thead>\n",
              "    <tr style=\"text-align: right;\">\n",
              "      <th></th>\n",
              "      <th>id</th>\n",
              "      <th>nome</th>\n",
              "    </tr>\n",
              "  </thead>\n",
              "  <tbody>\n",
              "    <tr>\n",
              "      <th>3</th>\n",
              "      <td>4</td>\n",
              "      <td>josé</td>\n",
              "    </tr>\n",
              "    <tr>\n",
              "      <th>0</th>\n",
              "      <td>1</td>\n",
              "      <td>joão</td>\n",
              "    </tr>\n",
              "  </tbody>\n",
              "</table>\n",
              "</div>\n",
              "      <button class=\"colab-df-convert\" onclick=\"convertToInteractive('df-c3a055b6-8c4b-4175-9846-633b56b27094')\"\n",
              "              title=\"Convert this dataframe to an interactive table.\"\n",
              "              style=\"display:none;\">\n",
              "        \n",
              "  <svg xmlns=\"http://www.w3.org/2000/svg\" height=\"24px\"viewBox=\"0 0 24 24\"\n",
              "       width=\"24px\">\n",
              "    <path d=\"M0 0h24v24H0V0z\" fill=\"none\"/>\n",
              "    <path d=\"M18.56 5.44l.94 2.06.94-2.06 2.06-.94-2.06-.94-.94-2.06-.94 2.06-2.06.94zm-11 1L8.5 8.5l.94-2.06 2.06-.94-2.06-.94L8.5 2.5l-.94 2.06-2.06.94zm10 10l.94 2.06.94-2.06 2.06-.94-2.06-.94-.94-2.06-.94 2.06-2.06.94z\"/><path d=\"M17.41 7.96l-1.37-1.37c-.4-.4-.92-.59-1.43-.59-.52 0-1.04.2-1.43.59L10.3 9.45l-7.72 7.72c-.78.78-.78 2.05 0 2.83L4 21.41c.39.39.9.59 1.41.59.51 0 1.02-.2 1.41-.59l7.78-7.78 2.81-2.81c.8-.78.8-2.07 0-2.86zM5.41 20L4 18.59l7.72-7.72 1.47 1.35L5.41 20z\"/>\n",
              "  </svg>\n",
              "      </button>\n",
              "      \n",
              "  <style>\n",
              "    .colab-df-container {\n",
              "      display:flex;\n",
              "      flex-wrap:wrap;\n",
              "      gap: 12px;\n",
              "    }\n",
              "\n",
              "    .colab-df-convert {\n",
              "      background-color: #E8F0FE;\n",
              "      border: none;\n",
              "      border-radius: 50%;\n",
              "      cursor: pointer;\n",
              "      display: none;\n",
              "      fill: #1967D2;\n",
              "      height: 32px;\n",
              "      padding: 0 0 0 0;\n",
              "      width: 32px;\n",
              "    }\n",
              "\n",
              "    .colab-df-convert:hover {\n",
              "      background-color: #E2EBFA;\n",
              "      box-shadow: 0px 1px 2px rgba(60, 64, 67, 0.3), 0px 1px 3px 1px rgba(60, 64, 67, 0.15);\n",
              "      fill: #174EA6;\n",
              "    }\n",
              "\n",
              "    [theme=dark] .colab-df-convert {\n",
              "      background-color: #3B4455;\n",
              "      fill: #D2E3FC;\n",
              "    }\n",
              "\n",
              "    [theme=dark] .colab-df-convert:hover {\n",
              "      background-color: #434B5C;\n",
              "      box-shadow: 0px 1px 3px 1px rgba(0, 0, 0, 0.15);\n",
              "      filter: drop-shadow(0px 1px 2px rgba(0, 0, 0, 0.3));\n",
              "      fill: #FFFFFF;\n",
              "    }\n",
              "  </style>\n",
              "\n",
              "      <script>\n",
              "        const buttonEl =\n",
              "          document.querySelector('#df-c3a055b6-8c4b-4175-9846-633b56b27094 button.colab-df-convert');\n",
              "        buttonEl.style.display =\n",
              "          google.colab.kernel.accessAllowed ? 'block' : 'none';\n",
              "\n",
              "        async function convertToInteractive(key) {\n",
              "          const element = document.querySelector('#df-c3a055b6-8c4b-4175-9846-633b56b27094');\n",
              "          const dataTable =\n",
              "            await google.colab.kernel.invokeFunction('convertToInteractive',\n",
              "                                                     [key], {});\n",
              "          if (!dataTable) return;\n",
              "\n",
              "          const docLinkHtml = 'Like what you see? Visit the ' +\n",
              "            '<a target=\"_blank\" href=https://colab.research.google.com/notebooks/data_table.ipynb>data table notebook</a>'\n",
              "            + ' to learn more about interactive tables.';\n",
              "          element.innerHTML = '';\n",
              "          dataTable['output_type'] = 'display_data';\n",
              "          await google.colab.output.renderOutput(dataTable, element);\n",
              "          const docLink = document.createElement('div');\n",
              "          docLink.innerHTML = docLinkHtml;\n",
              "          element.appendChild(docLink);\n",
              "        }\n",
              "      </script>\n",
              "    </div>\n",
              "  </div>\n",
              "  "
            ]
          },
          "metadata": {},
          "execution_count": 174
        }
      ]
    },
    {
      "cell_type": "markdown",
      "metadata": {
        "id": "9ynOje_Jw-4e"
      },
      "source": [
        "## Convertendo uma string lista em list\n",
        "\n",
        "Converte uma string que representa uma lista em uma lista."
      ]
    },
    {
      "cell_type": "code",
      "metadata": {
        "colab": {
          "base_uri": "https://localhost:8080/"
        },
        "id": "YIbU15Usw_fG",
        "outputId": "1705b866-34cb-4704-c206-3c2ba64515fd"
      },
      "source": [
        "# Biblioteca de conversão\n",
        "import ast\n",
        "  \n",
        "# Uma string que representa uma lista\n",
        "lista_string = \"[\\\"azul\\\",\\\"verde\\\",\\\"amarelo\\\",\\\"verde\\\"]\"\n",
        "  \n",
        "# Mostra a a string  \n",
        "print(\"Lista string:\", lista_string)\n",
        "print(type(lista_string))\n",
        "  \n",
        "# Converte a string em uma lista\n",
        "lista = ast.literal_eval(lista_string)\n",
        "  \n",
        "# Mostra a lista\n",
        "print(\"Lista list:\", lista)\n",
        "print(type(lista))"
      ],
      "execution_count": 175,
      "outputs": [
        {
          "output_type": "stream",
          "name": "stdout",
          "text": [
            "Lista string: [\"azul\",\"verde\",\"amarelo\",\"verde\"]\n",
            "<class 'str'>\n",
            "Lista list: ['azul', 'verde', 'amarelo', 'verde']\n",
            "<class 'list'>\n"
          ]
        }
      ]
    },
    {
      "cell_type": "markdown",
      "metadata": {
        "id": "uLE3MLcXGhQ9"
      },
      "source": [
        "# Enumerações/Enumerate\n",
        "\n",
        "É uma função que atribui um índice a cada item em um objeto iterável(e.g. list) que pode ser usado para fazer referência ao item posteriormente. \n",
        "\n",
        "https://www.w3schools.com/python/ref_func_enumerate.asp"
      ]
    },
    {
      "cell_type": "markdown",
      "metadata": {
        "id": "zOjloyYSG2lQ"
      },
      "source": [
        "## Declaração 1"
      ]
    },
    {
      "cell_type": "code",
      "metadata": {
        "id": "sKW9oQLoGjhs",
        "colab": {
          "base_uri": "https://localhost:8080/"
        },
        "outputId": "f08cea29-9eee-4eda-e9d2-2366a10a2cd8"
      },
      "source": [
        "# Declara e inicializa uma lista de cores\n",
        "cores = [\"vermelho\", \"azul\", \"verde\", \"amarelo\", \"rosa\", \"branco\"]\n",
        "\n",
        "# Mostra a enumeração e suas chaves\n",
        "list(enumerate(cores))"
      ],
      "execution_count": 176,
      "outputs": [
        {
          "output_type": "execute_result",
          "data": {
            "text/plain": [
              "[(0, 'vermelho'),\n",
              " (1, 'azul'),\n",
              " (2, 'verde'),\n",
              " (3, 'amarelo'),\n",
              " (4, 'rosa'),\n",
              " (5, 'branco')]"
            ]
          },
          "metadata": {},
          "execution_count": 176
        }
      ]
    },
    {
      "cell_type": "markdown",
      "metadata": {
        "id": "lamTvwbCG5Rh"
      },
      "source": [
        "## Declaração 2"
      ]
    },
    {
      "cell_type": "code",
      "metadata": {
        "id": "BxsfH0h5HB04",
        "colab": {
          "base_uri": "https://localhost:8080/"
        },
        "outputId": "9f0e2406-6f18-4593-aee5-fbbe79bbf9e8"
      },
      "source": [
        "# Declara e inicializa uma lista de cores\n",
        "cores = [\"vermelho\", \"azul\", \"verde\", \"amarelo\", \"rosa\", \"branco\"]\n",
        "\n",
        "# Mostra a enumeração e suas chaves\n",
        "for (index, item) in enumerate(cores):\n",
        "    print (index, item)"
      ],
      "execution_count": 177,
      "outputs": [
        {
          "output_type": "stream",
          "name": "stdout",
          "text": [
            "0 vermelho\n",
            "1 azul\n",
            "2 verde\n",
            "3 amarelo\n",
            "4 rosa\n",
            "5 branco\n"
          ]
        }
      ]
    },
    {
      "cell_type": "markdown",
      "metadata": {
        "id": "10bGHLJTBvtB"
      },
      "source": [
        "## Classe Enum\n",
        "\n",
        "https://www.python.org/dev/peps/pep-0435/"
      ]
    },
    {
      "cell_type": "code",
      "metadata": {
        "colab": {
          "base_uri": "https://localhost:8080/"
        },
        "id": "MfQrV1chBz3S",
        "outputId": "f96f7fa5-d716-48c5-9f97-c9e59b957fbb"
      },
      "source": [
        "# Biblioteca Enum\n",
        "from enum import Enum\n",
        "\n",
        "class DiaSemana(Enum):\n",
        "    DOMINGO = 0\n",
        "    SEGUNDA = 1\n",
        "    TERCA = 2\n",
        "    QUARTA = 3\n",
        "    QUINTA = 4\n",
        "    SEXTA = 5\n",
        "    SABADO = 6\n",
        "\n",
        "# Mostra o valor\n",
        "print(DiaSemana.QUARTA.value)\n",
        "\n",
        "# Mostra o nome\n",
        "print(DiaSemana.QUARTA.name)\n",
        "\n",
        "# Percorre os dias da semana\n",
        "for dia in DiaSemana:\n",
        "  print(dia)\n",
        "\n",
        "# Imprime a lista\n",
        "print(list(DiaSemana))\n",
        "\n",
        "# Imprime os valores\n",
        "print([dia.value for dia in DiaSemana])\n",
        "\n",
        "# Verifica se está na enumeração\n",
        "print(DiaSemana.TERCA in DiaSemana)\n",
        "\n",
        "# Verifica se o nome(name) está entre os membros do enum\n",
        "if \"TERÇA\" in DiaSemana._member_names_: \n",
        "    print(\"Nome está no enum!\")\n",
        "else:\n",
        "    print(\"Nome não está no enum!\")\n",
        "\n",
        "# Verifica se o nome(name) está entre os membros do enum\n",
        "if \"TERÇA\" in DiaSemana.__members__: \n",
        "    print(\"Nome está no enum!\")\n",
        "else:\n",
        "    print(\"Nome não está no enum!\")\n",
        "\n",
        "# Verifica se o valor(value) está entre os valores do enum\n",
        "if 10 in DiaSemana.__members__.values():\n",
        "  print(\"Valor está no enum!\")\n",
        "else:\n",
        "    print(\"Valor não está no enum!\")"
      ],
      "execution_count": 178,
      "outputs": [
        {
          "output_type": "stream",
          "name": "stdout",
          "text": [
            "3\n",
            "QUARTA\n",
            "DiaSemana.DOMINGO\n",
            "DiaSemana.SEGUNDA\n",
            "DiaSemana.TERCA\n",
            "DiaSemana.QUARTA\n",
            "DiaSemana.QUINTA\n",
            "DiaSemana.SEXTA\n",
            "DiaSemana.SABADO\n",
            "[<DiaSemana.DOMINGO: 0>, <DiaSemana.SEGUNDA: 1>, <DiaSemana.TERCA: 2>, <DiaSemana.QUARTA: 3>, <DiaSemana.QUINTA: 4>, <DiaSemana.SEXTA: 5>, <DiaSemana.SABADO: 6>]\n",
            "[0, 1, 2, 3, 4, 5, 6]\n",
            "True\n",
            "Nome não está no enum!\n",
            "Nome não está no enum!\n",
            "Valor não está no enum!\n"
          ]
        }
      ]
    },
    {
      "cell_type": "markdown",
      "metadata": {
        "id": "P8LmNS8E0WvA"
      },
      "source": [
        "# Tupla/Tuple"
      ]
    },
    {
      "cell_type": "markdown",
      "metadata": {
        "id": "QdUHj8lA0Yz-"
      },
      "source": [
        "Uma tupla é uma estrutura bastante similar a uma lista, com apenas uma diferença: os elementos inseridos em uma tupla não podem ser alterados, diferente de uma lista onde podem ser alterados livremente. \n",
        "\n",
        "As tuplas possuem algumas vantagens com relação às listas, que são:\n",
        "\n",
        "* Como as tuplas são imutáveis, a iteração sobre elas é mais rápida e, consequentemente, possuem um ganho de desempenho com relação às listas;\n",
        "* Tuplas podem ser utilizadas como chave para um dicionário, já que seus elementos são imutáveis. Já com a lista, isso não é possível;\n",
        "* Se for necessário armazenar dados que não serão alterados, utilize uma tupla. Isso garantirá que esses sejam protegidos de alterações posteriores"
      ]
    },
    {
      "cell_type": "markdown",
      "metadata": {
        "id": "2-pHJRqf1URh"
      },
      "source": [
        "## Declaração tupla homogênea\n",
        "\n",
        "Utiliza parênteses ou invés de colchetes(listas) para declarar"
      ]
    },
    {
      "cell_type": "code",
      "metadata": {
        "id": "NzeeNyx70kWw",
        "colab": {
          "base_uri": "https://localhost:8080/"
        },
        "outputId": "9b89bc75-be1d-4d3c-c4a0-9aef6cec0b5c"
      },
      "source": [
        "# Declaração de tupla de inteiros homogênea\n",
        "tupla1 = (1, 2, 3) \n",
        "print(tupla1)\n",
        "\n",
        "# Mostra o tipo da tupla1\n",
        "print(type(tupla1))"
      ],
      "execution_count": 179,
      "outputs": [
        {
          "output_type": "stream",
          "name": "stdout",
          "text": [
            "(1, 2, 3)\n",
            "<class 'tuple'>\n"
          ]
        }
      ]
    },
    {
      "cell_type": "markdown",
      "metadata": {
        "id": "fPU8dq8TdKAl"
      },
      "source": [
        "## Declaração tupla heterogênea"
      ]
    },
    {
      "cell_type": "code",
      "metadata": {
        "id": "HM3_r3hkdKYc",
        "colab": {
          "base_uri": "https://localhost:8080/"
        },
        "outputId": "46613e46-e585-45d7-dc22-9b52a810aead"
      },
      "source": [
        "# Declaração de tupla heterogênea\n",
        "tupla = (1, \"joao\", 3.14) \n",
        "print(tupla)\n",
        "\n",
        "# Mostra o tipo da tupla2\n",
        "print(type(tupla))"
      ],
      "execution_count": 180,
      "outputs": [
        {
          "output_type": "stream",
          "name": "stdout",
          "text": [
            "(1, 'joao', 3.14)\n",
            "<class 'tuple'>\n"
          ]
        }
      ]
    },
    {
      "cell_type": "markdown",
      "metadata": {
        "id": "p6shuEqrdS7w"
      },
      "source": [
        "## Declaração tupla sem parênteses\n",
        "\n",
        "Tuplas podem ser declaradas sem parênteses"
      ]
    },
    {
      "cell_type": "code",
      "metadata": {
        "id": "zzggf1sXdTHl",
        "colab": {
          "base_uri": "https://localhost:8080/"
        },
        "outputId": "ccbe7b05-2f2c-4238-b8ee-89dd15b65d4e"
      },
      "source": [
        "# Declaração de tupla de inteiros homogênea\n",
        "tupla = 1, 2, 3 \n",
        "print(tupla)\n",
        "\n",
        "# Mostra o tipo da tupla1\n",
        "print(type(tupla))"
      ],
      "execution_count": 181,
      "outputs": [
        {
          "output_type": "stream",
          "name": "stdout",
          "text": [
            "(1, 2, 3)\n",
            "<class 'tuple'>\n"
          ]
        }
      ]
    },
    {
      "cell_type": "markdown",
      "metadata": {
        "id": "B6Pf8GDddiai"
      },
      "source": [
        "### Declaração tuple()\n",
        "\n",
        "Podemos usar uma função tuple() para criar uma tupla passando um tipo que pode ser iterável como uma string ou uma lista:"
      ]
    },
    {
      "cell_type": "code",
      "metadata": {
        "id": "cvRCw1rGdlv7",
        "colab": {
          "base_uri": "https://localhost:8080/"
        },
        "outputId": "dc5cd7f1-8c91-4899-c99e-d97b717a9173"
      },
      "source": [
        "# Declaração de lista de inteiros\n",
        "lista = [1, 2, 3]\n",
        "print(lista)\n",
        "# Mostra o tipo da lista\n",
        "print(type(lista))\n",
        "\n",
        "# Declaração de tupla de inteiros homogênea\n",
        "tupla = tuple(lista)\n",
        "print(tupla)\n",
        "# Mostra o tipo da lista\n",
        "print(type(tupla))"
      ],
      "execution_count": 182,
      "outputs": [
        {
          "output_type": "stream",
          "name": "stdout",
          "text": [
            "[1, 2, 3]\n",
            "<class 'list'>\n",
            "(1, 2, 3)\n",
            "<class 'tuple'>\n"
          ]
        }
      ]
    },
    {
      "cell_type": "markdown",
      "metadata": {
        "id": "Eo87pvVo1ayG"
      },
      "source": [
        "## Acessando elementos"
      ]
    },
    {
      "cell_type": "code",
      "metadata": {
        "id": "uKhiIDTm1cgY",
        "colab": {
          "base_uri": "https://localhost:8080/"
        },
        "outputId": "0cbf9746-d634-45c4-b1db-6fd27e89b0d8"
      },
      "source": [
        "# Declara e inicializa tuplas de cores\n",
        "cores = (\"vermelho\", \"azul\", \"verde\", \"amarelo\", \"rosa\", \"branco\")\n",
        "\n",
        "# Percorre a tuplas de cores, o valor atual está em cor\n",
        "for cor in cores:\n",
        "    print(cor)"
      ],
      "execution_count": 183,
      "outputs": [
        {
          "output_type": "stream",
          "name": "stdout",
          "text": [
            "vermelho\n",
            "azul\n",
            "verde\n",
            "amarelo\n",
            "rosa\n",
            "branco\n"
          ]
        }
      ]
    },
    {
      "cell_type": "markdown",
      "metadata": {
        "id": "H6089vabiWTJ"
      },
      "source": [
        "## Convertendo uma lista de tuplas em uma lista de lista"
      ]
    },
    {
      "cell_type": "code",
      "metadata": {
        "colab": {
          "base_uri": "https://localhost:8080/"
        },
        "id": "8ZTHgejficU3",
        "outputId": "1ff0573b-b143-4753-92d9-d51b02dcd7bf"
      },
      "source": [
        "listaTupla = [(1,2), (3,4)] \n",
        "\n",
        "print(listaTupla)\n",
        "\n",
        "listaLista = [list(x) for x in listaTupla]\n",
        "\n",
        "print(listaLista)"
      ],
      "execution_count": 184,
      "outputs": [
        {
          "output_type": "stream",
          "name": "stdout",
          "text": [
            "[(1, 2), (3, 4)]\n",
            "[[1, 2], [3, 4]]\n"
          ]
        }
      ]
    },
    {
      "cell_type": "markdown",
      "metadata": {
        "id": "vQt9ynoueprN"
      },
      "source": [
        "# Intervalo/Range\n",
        "\n",
        "É um tipo de  imutável de números e é comumente usado para looping de um número específico de vezes em um comando for já que representam um intervalo. O comando range gera um valor contendo números inteiros sequenciais com um determinado incremendo."
      ]
    },
    {
      "cell_type": "markdown",
      "metadata": {
        "id": "pSyHqFx8e_KG"
      },
      "source": [
        "## Declaração\n",
        "\n",
        "Não gera o valores do intervalo, somente armazena o início e fim."
      ]
    },
    {
      "cell_type": "code",
      "metadata": {
        "id": "k6kkW50oe_b6",
        "colab": {
          "base_uri": "https://localhost:8080/"
        },
        "outputId": "fa48da53-9538-4b2c-cfdb-fb9c0a227c25"
      },
      "source": [
        "# Declara um intervalo\n",
        "intervalo = range(1, 4)\n",
        "\n",
        "# Mostra o intervalo\n",
        "print(intervalo)"
      ],
      "execution_count": 185,
      "outputs": [
        {
          "output_type": "stream",
          "name": "stdout",
          "text": [
            "range(1, 4)\n"
          ]
        }
      ]
    },
    {
      "cell_type": "markdown",
      "metadata": {
        "id": "_PNGztVPfZkx"
      },
      "source": [
        "## Percorrendo o range"
      ]
    },
    {
      "cell_type": "code",
      "metadata": {
        "id": "qHvbE5defZwK",
        "colab": {
          "base_uri": "https://localhost:8080/"
        },
        "outputId": "da54e8d6-a5db-4ba0-dc3f-1381e064e08c"
      },
      "source": [
        "# Percorre o range\n",
        "for valor in range(1, 4):\n",
        "    print(valor)"
      ],
      "execution_count": 186,
      "outputs": [
        {
          "output_type": "stream",
          "name": "stdout",
          "text": [
            "1\n",
            "2\n",
            "3\n"
          ]
        }
      ]
    },
    {
      "cell_type": "markdown",
      "metadata": {
        "id": "aYCcx2cFflhg"
      },
      "source": [
        "## Percorrendo o range com incremento\n",
        "\n",
        "O terceiro parâmetro é o passo do range.\n",
        "\n"
      ]
    },
    {
      "cell_type": "code",
      "metadata": {
        "id": "S-2SS1Leflhh",
        "colab": {
          "base_uri": "https://localhost:8080/"
        },
        "outputId": "0e0ccfb2-09f5-4bc3-b064-ff2d593dfa0b"
      },
      "source": [
        "# Percorre o range\n",
        "for valor in range(1, 10, 2):\n",
        "    print(valor)"
      ],
      "execution_count": 187,
      "outputs": [
        {
          "output_type": "stream",
          "name": "stdout",
          "text": [
            "1\n",
            "3\n",
            "5\n",
            "7\n",
            "9\n"
          ]
        }
      ]
    },
    {
      "cell_type": "markdown",
      "metadata": {
        "id": "2iIHTA10f7dy"
      },
      "source": [
        "## Percorrendo o range com descrescente"
      ]
    },
    {
      "cell_type": "code",
      "metadata": {
        "id": "4fepShCCf76N",
        "colab": {
          "base_uri": "https://localhost:8080/"
        },
        "outputId": "4a45eff0-423a-422b-a2e9-22a926188b66"
      },
      "source": [
        "# Percorre o range\n",
        "for valor in range(10, 1, -2):\n",
        "    print(valor)"
      ],
      "execution_count": 188,
      "outputs": [
        {
          "output_type": "stream",
          "name": "stdout",
          "text": [
            "10\n",
            "8\n",
            "6\n",
            "4\n",
            "2\n"
          ]
        }
      ]
    },
    {
      "cell_type": "markdown",
      "metadata": {
        "id": "EmsDlm5FMr_E"
      },
      "source": [
        "## Gerando uma lista de range"
      ]
    },
    {
      "cell_type": "code",
      "metadata": {
        "colab": {
          "base_uri": "https://localhost:8080/"
        },
        "outputId": "7c0333ab-5a2e-4d74-945d-8c46395db72e",
        "id": "waaUVRlkMr_G"
      },
      "source": [
        "lista_range = [*range(0,5)]\n",
        "\n",
        "print(lista_range)"
      ],
      "execution_count": 189,
      "outputs": [
        {
          "output_type": "stream",
          "name": "stdout",
          "text": [
            "[0, 1, 2, 3, 4]\n"
          ]
        }
      ]
    },
    {
      "cell_type": "markdown",
      "metadata": {
        "id": "YL3bLO6vht9G"
      },
      "source": [
        "#Contadores/Counter\n",
        "\n",
        "Contador e permite contar as ocorrências de um determinado item em uma estrutura de dados.\n",
        "\n",
        "\n",
        "O resultado é um dicicionário(dict) e pode receber um objeto iterável ou um mapa como argumento para realizar a contagem de seus elementos."
      ]
    },
    {
      "cell_type": "code",
      "metadata": {
        "id": "Q5vrCCFChxCQ",
        "colab": {
          "base_uri": "https://localhost:8080/"
        },
        "outputId": "25695863-ceb8-40b4-cc4d-3f4ea8d7ab8a"
      },
      "source": [
        "# Biblioteca counter de collections\n",
        "from collections import Counter\n",
        "\n",
        "# Declara uma lista de cores\n",
        "cores = [\"branco\", \"azul\", \"azul\", \"branco\", \"marrom\", \"branco\", \"vermelho\", \"verde\"]\n",
        "\n",
        "# contador a lista\n",
        "contador = Counter(cores)\n",
        "\n",
        "# Mostra o contador\n",
        "print(contador)"
      ],
      "execution_count": 190,
      "outputs": [
        {
          "output_type": "stream",
          "name": "stdout",
          "text": [
            "Counter({'branco': 3, 'azul': 2, 'marrom': 1, 'vermelho': 1, 'verde': 1})\n"
          ]
        }
      ]
    },
    {
      "cell_type": "markdown",
      "metadata": {
        "id": "QqXNyM0F1zPW"
      },
      "source": [
        "# Conjuntos/Sets\n",
        "\n",
        "São uma coleção de itens desordenada, parcialmente imutável e que **não** podem conter elementos duplicados. Por ser parcialmente imutável, os sets possuem permissão de adição e remoção de elementos.\n",
        "\n",
        "Usados normalmente com operações matemáticas de união, interseção e diferença simétrica.\n",
        "\n",
        "https://www.treinaweb.com.br/blog/principais-estruturas-de-dados-no-python/"
      ]
    },
    {
      "cell_type": "markdown",
      "metadata": {
        "id": "uTscD4yb10iK"
      },
      "source": [
        "## Declaração 1"
      ]
    },
    {
      "cell_type": "code",
      "metadata": {
        "id": "3sdPVrxP2Kjq",
        "colab": {
          "base_uri": "https://localhost:8080/"
        },
        "outputId": "b515c91c-deeb-47b1-ad37-e1571a15ddda"
      },
      "source": [
        "# Declara o conjunto 1\n",
        "conjunto1 = {1, 2, 3, 3}\n",
        "print(conjunto1)\n",
        "print(type(conjunto1))\n",
        "\n",
        "# Declara o conjunto 2\n",
        "conjunto2 = {1, 2, 3, 4}\n",
        "print(conjunto2)\n",
        "print(type(conjunto2))"
      ],
      "execution_count": 191,
      "outputs": [
        {
          "output_type": "stream",
          "name": "stdout",
          "text": [
            "{1, 2, 3}\n",
            "<class 'set'>\n",
            "{1, 2, 3, 4}\n",
            "<class 'set'>\n"
          ]
        }
      ]
    },
    {
      "cell_type": "markdown",
      "metadata": {
        "id": "TuE7MaeY2UCc"
      },
      "source": [
        "## Declaração 2"
      ]
    },
    {
      "cell_type": "code",
      "metadata": {
        "id": "wrgjkNYO2VWR",
        "colab": {
          "base_uri": "https://localhost:8080/"
        },
        "outputId": "a16c1fba-e84e-4e61-9f2c-0b33bc5eafcd"
      },
      "source": [
        "# Declara o conjunto 1\n",
        "conjunto1 = set([1, 2, 3, 3])\n",
        "print(conjunto1)\n",
        "\n",
        "# Declara o conjunto 2\n",
        "conjunto2 = set([1, 2, 3, 4])\n",
        "print(conjunto2)"
      ],
      "execution_count": 192,
      "outputs": [
        {
          "output_type": "stream",
          "name": "stdout",
          "text": [
            "{1, 2, 3}\n",
            "{1, 2, 3, 4}\n"
          ]
        }
      ]
    },
    {
      "cell_type": "markdown",
      "metadata": {
        "id": "gi4CaK8f2oVA"
      },
      "source": [
        "## Acessando elementos"
      ]
    },
    {
      "cell_type": "code",
      "metadata": {
        "id": "KJcAUXgG2oVE",
        "colab": {
          "base_uri": "https://localhost:8080/"
        },
        "outputId": "1e3735a0-096e-406f-fea2-bf7894d838c1"
      },
      "source": [
        "# Declara e inicializa conjunto de cores\n",
        "cores = set([\"vermelho\", \"azul\", \"verde\", \"amarelo\", \"branco\", \"branco\"])\n",
        "\n",
        "# Percorre o elementos do conjunto de cores, o valor atual está em cor\n",
        "for cor in cores:\n",
        "    print(cor)"
      ],
      "execution_count": 193,
      "outputs": [
        {
          "output_type": "stream",
          "name": "stdout",
          "text": [
            "branco\n",
            "verde\n",
            "amarelo\n",
            "azul\n",
            "vermelho\n"
          ]
        }
      ]
    },
    {
      "cell_type": "markdown",
      "metadata": {
        "id": "N_iBHL1p20ea"
      },
      "source": [
        "## Adicionando elementos"
      ]
    },
    {
      "cell_type": "code",
      "metadata": {
        "id": "U9UqchRv23LI",
        "colab": {
          "base_uri": "https://localhost:8080/"
        },
        "outputId": "cb14ad16-e48f-4184-f34e-493148a85ea4"
      },
      "source": [
        "# Declara o conjunto 1\n",
        "conjunto1 = {1, 2, 3, 3}\n",
        "\n",
        "# Adicionando elementos sem repetição\n",
        "conjunto1.add(4)\n",
        "print(\"Adição\", conjunto1)\n",
        "\n",
        "# Adicionando elementos com repetição\n",
        "conjunto1.add(1)\n",
        "print(\"Adição\", conjunto1)"
      ],
      "execution_count": 194,
      "outputs": [
        {
          "output_type": "stream",
          "name": "stdout",
          "text": [
            "Adição {1, 2, 3, 4}\n",
            "Adição {1, 2, 3, 4}\n"
          ]
        }
      ]
    },
    {
      "cell_type": "markdown",
      "metadata": {
        "id": "aadxRNTP3IA3"
      },
      "source": [
        "## Atualizando elementos"
      ]
    },
    {
      "cell_type": "code",
      "metadata": {
        "id": "c4cBHmLI3Luj",
        "colab": {
          "base_uri": "https://localhost:8080/"
        },
        "outputId": "aa171874-7539-4259-81a5-d7c4b313033c"
      },
      "source": [
        "# Declara o conjunto 1\n",
        "conjunto1 = {1, 2, 3, 3}\n",
        "\n",
        "#atualizando set\n",
        "conjunto1.update([3, 4, 5, 6])\n",
        "print(\"Atualição\", conjunto1)"
      ],
      "execution_count": 195,
      "outputs": [
        {
          "output_type": "stream",
          "name": "stdout",
          "text": [
            "Atualição {1, 2, 3, 4, 5, 6}\n"
          ]
        }
      ]
    },
    {
      "cell_type": "markdown",
      "metadata": {
        "id": "5iH6rnD83VMw"
      },
      "source": [
        "## Removendo elementos"
      ]
    },
    {
      "cell_type": "code",
      "metadata": {
        "id": "gfU5yOtk20pg",
        "colab": {
          "base_uri": "https://localhost:8080/"
        },
        "outputId": "207bf1a0-c73b-4610-e766-a89df5cf38d4"
      },
      "source": [
        "# Declara o conjunto 1\n",
        "conjunto1 = {1, 2, 3, 3}\n",
        "\n",
        "# Removendo elemento\n",
        "conjunto1.discard(2)\n",
        "print(\"Remoção\", conjunto1)"
      ],
      "execution_count": 196,
      "outputs": [
        {
          "output_type": "stream",
          "name": "stdout",
          "text": [
            "Remoção {1, 3}\n"
          ]
        }
      ]
    },
    {
      "cell_type": "markdown",
      "metadata": {
        "id": "ZWMqhaYL34Mx"
      },
      "source": [
        "## Operações em conjuntos\n",
        "\n",
        "Conjuntos fornecem métodos para as operações\n",
        "mais conhecidas de teoria dos conjuntos, como\n",
        "união, interseção e diferença, entre outras.\n",
        "\n",
        "Método | Descrição | Exemplo\n",
        ":----- | :-------- | :------\n",
        "union | Retorna a união entre 2 conjuntos | `conj1.union(conj2)`\n",
        "intersection | Retorna o conjunto de elementos presentes tanto em conj1 quanto em conj2 | `conj1.intersection(conj2)`\n",
        "difference | Retorna o conjunto de elementos de conj1 que não pertencem a conj2 | `conj1.difference(conj2)`\n",
        "difference simétrica | Retorna o conjunto de elementos de conj1 que não pertencem a conj2 sem repetição| `conj1.difference_simetric(conj2)`\n",
        "isdisjoint | Retorna True se conj1 e conj2 forem disjuntos (ou seja, não possuem elementos em comum) | `conj1.isdisjoint(conj2)`\n",
        "issubset | Retorna True se conj1 for um subconjunto de conj2 (conj1 está contido em conj2) | `conj1.issubset(conj2)`\n",
        "issuperset | Retorna True se conj1 for um superconjunto de conj2 (conj1 contém conj2) | `conj1.issuperset(conj2)`\n",
        "\n"
      ]
    },
    {
      "cell_type": "markdown",
      "metadata": {
        "id": "mVVvOQ4F354I"
      },
      "source": [
        "### União\n",
        "\n",
        "União (|), todos os elementos dos dois conjuntos(sets) serão “unidos”, formando um único conjunto(set) com todos os elementos, sem repetí-los."
      ]
    },
    {
      "cell_type": "code",
      "metadata": {
        "id": "lS4DnVBI3_iC",
        "colab": {
          "base_uri": "https://localhost:8080/"
        },
        "outputId": "5741eb26-4357-4ae9-ab21-814d687ff12d"
      },
      "source": [
        "# Declara o conjunto 1\n",
        "conjunto1 = set([1, 2, 3, 4, 4])\n",
        "# Declara o conjunto 2\n",
        "conjunto2 = set([3, 4, 5, 6, 7])\n",
        "\n",
        "# União\n",
        "print(\"União\")\n",
        "\n",
        "# Usando operador |\n",
        "print(conjunto1 | conjunto2)\n",
        "\n",
        "# ou com método union\n",
        "print(conjunto1.union(conjunto2))"
      ],
      "execution_count": 197,
      "outputs": [
        {
          "output_type": "stream",
          "name": "stdout",
          "text": [
            "União\n",
            "{1, 2, 3, 4, 5, 6, 7}\n",
            "{1, 2, 3, 4, 5, 6, 7}\n"
          ]
        }
      ]
    },
    {
      "cell_type": "markdown",
      "metadata": {
        "id": "A6x1nmV04bMq"
      },
      "source": [
        "### Interseção\n",
        "\n",
        "Interseção (&), apenas os elementos que estiverem nos dois conjuntos(sets) serão considerados."
      ]
    },
    {
      "cell_type": "code",
      "metadata": {
        "id": "piGwo8Gl4aqw",
        "colab": {
          "base_uri": "https://localhost:8080/"
        },
        "outputId": "e23efff2-c168-454a-fee5-c9ddfe739812"
      },
      "source": [
        "# Declara o conjunto 1\n",
        "conjunto1 = set([1, 2, 3, 4, 4])\n",
        "# Declara o conjunto 2\n",
        "conjunto2 = set([3, 4, 5, 6, 7])\n",
        "\n",
        "# Interseção\n",
        "print(\"Interseção\")\n",
        "\n",
        "# Usando operador &\n",
        "print(conjunto1 & conjunto2)\n",
        "\n",
        "# ou com método intersection\n",
        "print(conjunto1.intersection(conjunto2))"
      ],
      "execution_count": 198,
      "outputs": [
        {
          "output_type": "stream",
          "name": "stdout",
          "text": [
            "Interseção\n",
            "{3, 4}\n",
            "{3, 4}\n"
          ]
        }
      ]
    },
    {
      "cell_type": "markdown",
      "metadata": {
        "id": "aDIesbKa403f"
      },
      "source": [
        "### Diferença\n",
        "\n",
        "Diferença (–), restarão apenas os elementos que estiverem em um dos conjuntos(set), mas não no segundo."
      ]
    },
    {
      "cell_type": "code",
      "metadata": {
        "id": "JMgK-Lpc43EZ",
        "colab": {
          "base_uri": "https://localhost:8080/"
        },
        "outputId": "bb7eb2b1-c85c-4dd4-8433-867f14d4f78c"
      },
      "source": [
        "# Declara o conjunto 1\n",
        "conjunto1 = set([1, 2, 3, 4, 4])\n",
        "# Declara o conjunto 2\n",
        "conjunto2 = set([3, 4, 5, 6, 7])\n",
        "\n",
        "# Diferença\n",
        "print(\"Diferença\")\n",
        "\n",
        "# Usando operador -\n",
        "print(conjunto1 -conjunto2)\n",
        "\n",
        "# ou com método difference\n",
        "print(conjunto1.difference(conjunto2))"
      ],
      "execution_count": 199,
      "outputs": [
        {
          "output_type": "stream",
          "name": "stdout",
          "text": [
            "Diferença\n",
            "{1, 2}\n",
            "{1, 2}\n"
          ]
        }
      ]
    },
    {
      "cell_type": "markdown",
      "metadata": {
        "id": "WP75Wkez5FCj"
      },
      "source": [
        "### Diferença simétrica\n",
        "\n",
        "Diferença simétrica (^), apenas os elementos que estiverem nos dois conjuntos(sets), porém que não se repitam, serão exibidos."
      ]
    },
    {
      "cell_type": "code",
      "metadata": {
        "id": "iYgwEwVI36Co",
        "colab": {
          "base_uri": "https://localhost:8080/"
        },
        "outputId": "10962972-8b4c-4b96-8846-252defb21a76"
      },
      "source": [
        "# Declara o conjunto 1\n",
        "conjunto1 = set([1, 2, 3, 4, 4])\n",
        "# Declara o conjunto 2\n",
        "conjunto2 = set([3, 4, 5, 6, 7])\n",
        "\n",
        "# Diferença simétrica\n",
        "print(\"Diferença Simétrica\")\n",
        "\n",
        "# Usando operador ^\n",
        "print(conjunto1 ^ conjunto2)\n",
        "\n",
        "# ou com método symmetric_difference\n",
        "print(conjunto1.symmetric_difference(conjunto2))"
      ],
      "execution_count": 200,
      "outputs": [
        {
          "output_type": "stream",
          "name": "stdout",
          "text": [
            "Diferença Simétrica\n",
            "{1, 2, 5, 6, 7}\n",
            "{1, 2, 5, 6, 7}\n"
          ]
        }
      ]
    },
    {
      "cell_type": "markdown",
      "source": [
        "### Disjunção"
      ],
      "metadata": {
        "id": "fWeusKGp9SS2"
      }
    },
    {
      "cell_type": "code",
      "source": [
        "# Declara o conjunto 1\n",
        "conjunto1 = set([1, 2, 3, 4, 4])\n",
        "# Declara o conjunto 2\n",
        "conjunto2 = set([3, 4, 5, 6, 7])\n",
        "\n",
        "# Disjunção\n",
        "print(\"Disjunção\")\n",
        "\n",
        "# ou com método isdisjoint\n",
        "print(conjunto1.isdisjoint(conjunto2))"
      ],
      "metadata": {
        "colab": {
          "base_uri": "https://localhost:8080/"
        },
        "id": "3JqudjeA9ToE",
        "outputId": "5ede5abf-471a-420a-a43f-c8e60849a5dd"
      },
      "execution_count": 201,
      "outputs": [
        {
          "output_type": "stream",
          "name": "stdout",
          "text": [
            "Disjunção\n",
            "False\n"
          ]
        }
      ]
    },
    {
      "cell_type": "markdown",
      "source": [
        "### Subconjunto"
      ],
      "metadata": {
        "id": "rVXOE5XN9lIV"
      }
    },
    {
      "cell_type": "code",
      "source": [
        "# Declara o conjunto 1\n",
        "conjunto1 = set([1, 2, 3])\n",
        "# Declara o conjunto 2\n",
        "conjunto2 = set([1, 2, 3, 4, 5])\n",
        "\n",
        "# Disjunção\n",
        "print(\"Subconjunto\")\n",
        "\n",
        "# ou com método issubset\n",
        "print(conjunto1.issubset(conjunto2))"
      ],
      "metadata": {
        "colab": {
          "base_uri": "https://localhost:8080/"
        },
        "id": "raqqVKUm9nss",
        "outputId": "8cfdc8d3-9a25-47d9-edd2-43abaa669e3e"
      },
      "execution_count": 202,
      "outputs": [
        {
          "output_type": "stream",
          "name": "stdout",
          "text": [
            "Subconjunto\n",
            "True\n"
          ]
        }
      ]
    },
    {
      "cell_type": "markdown",
      "source": [
        "### Superconjunto"
      ],
      "metadata": {
        "id": "1lBIPzG29_s2"
      }
    },
    {
      "cell_type": "code",
      "source": [
        "# Declara o conjunto 1\n",
        "conjunto1 = set([1, 2, 3])\n",
        "# Declara o conjunto 2\n",
        "conjunto2 = set([1, 2, 3, 4, 5])\n",
        "\n",
        "# Superconjunto\n",
        "print(\"Superconjunto\")\n",
        "\n",
        "# ou com método issuperset\n",
        "print(conjunto2.issuperset(conjunto1))"
      ],
      "metadata": {
        "colab": {
          "base_uri": "https://localhost:8080/"
        },
        "id": "CmV93_OZ-DTm",
        "outputId": "013a8145-37fb-4a36-8580-a27b39806ba8"
      },
      "execution_count": 203,
      "outputs": [
        {
          "output_type": "stream",
          "name": "stdout",
          "text": [
            "Superconjunto\n",
            "True\n"
          ]
        }
      ]
    },
    {
      "cell_type": "markdown",
      "metadata": {
        "id": "bWfk655zF1Tm"
      },
      "source": [
        "## Converter Lista em Set"
      ]
    },
    {
      "cell_type": "code",
      "metadata": {
        "id": "x3BbZSZEF3rK",
        "colab": {
          "base_uri": "https://localhost:8080/"
        },
        "outputId": "22914201-f791-43f9-ebf2-85c8e9593cfb"
      },
      "source": [
        "# Declara uma lista\n",
        "lista = [ 10, 20, 30, 10, 40, 50, 50]\n",
        "\n",
        "# Converte a lista para um conjunto\n",
        "conjunto = set(lista)\n",
        "\n",
        "# Mostra o conjunto criada\n",
        "print(conjunto)"
      ],
      "execution_count": 204,
      "outputs": [
        {
          "output_type": "stream",
          "name": "stdout",
          "text": [
            "{40, 10, 50, 20, 30}\n"
          ]
        }
      ]
    },
    {
      "cell_type": "markdown",
      "metadata": {
        "id": "659vCoXLHkLO"
      },
      "source": [
        "# Dicionário/Dict\n",
        "\n",
        "No Python, os dicionários são coleções de itens desordenados com uma diferença bem grande quando comparados às outras coleções: um elemento dentro de um dicionário possui uma chave associada a ele, uma espécie de identificador. Sendo assim, é muito utilizado quando queremos armazenar dados de forma organizada e que possuem identificação única (como em um banco de dados).\n",
        "\n",
        "https://www.treinaweb.com.br/blog/manipulando-dicionarios-no-python/\n",
        "\n",
        "https://www.alura.com.br/artigos/trabalhando-com-o-dicionario-no-python"
      ]
    },
    {
      "cell_type": "markdown",
      "metadata": {
        "id": "gfKqb-IUBrdH"
      },
      "source": [
        "## Declaração \n",
        "\n",
        "\n"
      ]
    },
    {
      "cell_type": "code",
      "metadata": {
        "colab": {
          "base_uri": "https://localhost:8080/"
        },
        "id": "6RO6mOSqBrdM",
        "outputId": "082492ce-05c7-4b72-da93-3c7fcbd6124f"
      },
      "source": [
        "# Declara um dicionário vazio com {}\n",
        "dicionario = {}\n",
        "\n",
        "# Usando  método update\n",
        "dicionario.update({1: \"vermelho\"})\n",
        "dicionario.update({2: \"azul\"})\n",
        "dicionario.update({3: \"verde\"})\n",
        "dicionario.update({4: \"amarelo\"})\n",
        "dicionario.update({5: \"rosa\"})\n",
        "dicionario.update({6: \"branco\"})\n",
        "\n",
        "print(dicionario)"
      ],
      "execution_count": 205,
      "outputs": [
        {
          "output_type": "stream",
          "name": "stdout",
          "text": [
            "{1: 'vermelho', 2: 'azul', 3: 'verde', 4: 'amarelo', 5: 'rosa', 6: 'branco'}\n"
          ]
        }
      ]
    },
    {
      "cell_type": "markdown",
      "metadata": {
        "id": "w6kx3_9D6YLb"
      },
      "source": [
        "## Declaração 1 - Chave numérica\n",
        "\n",
        "\n"
      ]
    },
    {
      "cell_type": "code",
      "metadata": {
        "id": "NRm3F43B6Xqx",
        "colab": {
          "base_uri": "https://localhost:8080/"
        },
        "outputId": "06217970-1373-4de0-b0c2-a1bfb8275968"
      },
      "source": [
        "# Declara e inicializa um dicionário de cores com chave númerica com {}\n",
        "dicionario = {1:\"vermelho\", 2:\"azul\", 3:\"verde\", 4:\"amarelo\", 5:\"rosa\", 6:\"branco\"}\n",
        "\n",
        "print(dicionario)"
      ],
      "execution_count": 206,
      "outputs": [
        {
          "output_type": "stream",
          "name": "stdout",
          "text": [
            "{1: 'vermelho', 2: 'azul', 3: 'verde', 4: 'amarelo', 5: 'rosa', 6: 'branco'}\n"
          ]
        }
      ]
    },
    {
      "cell_type": "markdown",
      "metadata": {
        "id": "kGkKx1-w7Fz4"
      },
      "source": [
        "## Declaração 2 - Chave numérica\n"
      ]
    },
    {
      "cell_type": "code",
      "metadata": {
        "id": "mSLO01r27Fz5",
        "colab": {
          "base_uri": "https://localhost:8080/"
        },
        "outputId": "64a2e5ba-8e94-4164-9d0a-50f795f49ff9"
      },
      "source": [
        "# Declara e inicializa um dicionário de cores com chave númerica com o método dict\n",
        "dicionario = dict({1:\"vermelho\", 2:\"azul\", 3:\"verde\", 4:\"amarelo\", 5:\"rosa\", 6:\"branco\"})\n",
        "\n",
        "print(dicionario)"
      ],
      "execution_count": 207,
      "outputs": [
        {
          "output_type": "stream",
          "name": "stdout",
          "text": [
            "{1: 'vermelho', 2: 'azul', 3: 'verde', 4: 'amarelo', 5: 'rosa', 6: 'branco'}\n"
          ]
        }
      ]
    },
    {
      "cell_type": "markdown",
      "metadata": {
        "id": "LfMQ7wuD95UQ"
      },
      "source": [
        "## Declaração 3 - Chave Literal"
      ]
    },
    {
      "cell_type": "code",
      "metadata": {
        "id": "BWuzl00K94Ut",
        "colab": {
          "base_uri": "https://localhost:8080/"
        },
        "outputId": "08de4b2b-16ae-4fb7-bc55-60de3d2ae7c8"
      },
      "source": [
        "# Declara e inicializa um dicionário de cores com chave literal\n",
        "dicionario = {\"um\":\"vermelho\", \"dois\":\"azul\", \"tres\":\"verde\", \"quatro\":\"amarelo\", \"cinco\":\"rosa\"}\n",
        "\n",
        "print(dicionario)\n",
        "\n",
        "# Recuperando valores com colchetes\n",
        "print(dicionario[\"um\"])"
      ],
      "execution_count": 208,
      "outputs": [
        {
          "output_type": "stream",
          "name": "stdout",
          "text": [
            "{'um': 'vermelho', 'dois': 'azul', 'tres': 'verde', 'quatro': 'amarelo', 'cinco': 'rosa'}\n",
            "vermelho\n"
          ]
        }
      ]
    },
    {
      "cell_type": "markdown",
      "metadata": {
        "id": "Lva_kXo6HnJa"
      },
      "source": [
        "## Recuperando valores com colchetes 1\n",
        "\n",
        "\n"
      ]
    },
    {
      "cell_type": "code",
      "metadata": {
        "id": "ZqfznTJsHok7",
        "colab": {
          "base_uri": "https://localhost:8080/"
        },
        "outputId": "14a843cb-25f6-4aaa-e5a7-fed0b00f3b1e"
      },
      "source": [
        "# Declara e inicializa um dicionário de cores\n",
        "dicionario = {1:\"vermelho\", 2:\"azul\", 3:\"verde\", 4:\"amarelo\", 5:\"rosa\", 6:\"branco\"}\n",
        "\n",
        "# Recuperando um valor pela chave e colchetes\n",
        "try:\n",
        "    valor = dicionario[1]     \n",
        "except KeyError:\n",
        "    valor = None\n",
        "\n",
        "# Mostra o valor\n",
        "print(valor)"
      ],
      "execution_count": 209,
      "outputs": [
        {
          "output_type": "stream",
          "name": "stdout",
          "text": [
            "vermelho\n"
          ]
        }
      ]
    },
    {
      "cell_type": "markdown",
      "metadata": {
        "id": "D7t1bOT6JIYx"
      },
      "source": [
        "## Recuperando valores com get 2"
      ]
    },
    {
      "cell_type": "code",
      "metadata": {
        "id": "pdFs8u8eJIlZ",
        "colab": {
          "base_uri": "https://localhost:8080/"
        },
        "outputId": "65fa5099-bcb9-4d06-b07d-beee8f5f4811"
      },
      "source": [
        "# Declara e inicializa um dicionário de cores\n",
        "dicionario = {1:\"vermelho\", 2:\"azul\", 3:\"verde\", 4:\"amarelo\", 5:\"rosa\", 6:\"branco\"}\n",
        "\n",
        "# Recuperando um valor pela chave com get sem valor padrão\n",
        "valor = dicionario.get(1)\n",
        "\n",
        "# Mostra o valor\n",
        "print(valor)"
      ],
      "execution_count": 210,
      "outputs": [
        {
          "output_type": "stream",
          "name": "stdout",
          "text": [
            "vermelho\n"
          ]
        }
      ]
    },
    {
      "cell_type": "markdown",
      "metadata": {
        "id": "HO6bkS68JdKN"
      },
      "source": [
        "## Recuperando valores com get e valor default 3"
      ]
    },
    {
      "cell_type": "code",
      "metadata": {
        "id": "YL0Vdr6UJhfd",
        "colab": {
          "base_uri": "https://localhost:8080/"
        },
        "outputId": "a6f6e18f-e424-40fc-a204-aabffbc03cc8"
      },
      "source": [
        "# Declara e inicializa um dicionário de cores\n",
        "dicionario = {1:\"vermelho\", 2:\"azul\", 3:\"verde\", 4:\"amarelo\", 5:\"rosa\", 6:\"branco\"}\n",
        "\n",
        "# Recuperando um valor pela chave com get com valor padrão\n",
        "valor = dicionario.get(10,\"sem cor\")\n",
        "\n",
        "# Mostra o valor\n",
        "print(valor)"
      ],
      "execution_count": 211,
      "outputs": [
        {
          "output_type": "stream",
          "name": "stdout",
          "text": [
            "sem cor\n"
          ]
        }
      ]
    },
    {
      "cell_type": "markdown",
      "metadata": {
        "id": "zvP-bofD7j3A"
      },
      "source": [
        "## Tamanho do dicionário"
      ]
    },
    {
      "cell_type": "code",
      "metadata": {
        "id": "kNGceH3S7lkA",
        "colab": {
          "base_uri": "https://localhost:8080/"
        },
        "outputId": "471cc55a-6501-49b2-cb03-56f4df05c5b8"
      },
      "source": [
        "# Declara e inicializa um dicionário de cores\n",
        "dicionario = {1:\"vermelho\", 2:\"azul\", 3:\"verde\", 4:\"amarelo\", 5:\"rosa\", 6:\"branco\"}\n",
        "\n",
        "print(len(dicionario))"
      ],
      "execution_count": 212,
      "outputs": [
        {
          "output_type": "stream",
          "name": "stdout",
          "text": [
            "6\n"
          ]
        }
      ]
    },
    {
      "cell_type": "markdown",
      "metadata": {
        "id": "uzOziKk57u5K"
      },
      "source": [
        "## Adicionado elementos"
      ]
    },
    {
      "cell_type": "code",
      "metadata": {
        "id": "EnmtqHmw7wby",
        "colab": {
          "base_uri": "https://localhost:8080/"
        },
        "outputId": "89cc8f20-6aa9-49af-d376-8ba081504e06"
      },
      "source": [
        "# Declara e inicializa um dicionário de cores\n",
        "dicionario = {1:\"vermelho\", 2:\"azul\", 3:\"verde\", 4:\"amarelo\", 5:\"rosa\", 6:\"branco\"}\n",
        "\n",
        "print(dicionario)\n",
        "\n",
        "# Especificando a posição\n",
        "dicionario[8] = \"cinza\"\n",
        "print(dicionario)\n",
        "\n",
        "# Usando método update\n",
        "dicionario.update({7: \"purpura\"})\n",
        "print(dicionario)"
      ],
      "execution_count": 213,
      "outputs": [
        {
          "output_type": "stream",
          "name": "stdout",
          "text": [
            "{1: 'vermelho', 2: 'azul', 3: 'verde', 4: 'amarelo', 5: 'rosa', 6: 'branco'}\n",
            "{1: 'vermelho', 2: 'azul', 3: 'verde', 4: 'amarelo', 5: 'rosa', 6: 'branco', 8: 'cinza'}\n",
            "{1: 'vermelho', 2: 'azul', 3: 'verde', 4: 'amarelo', 5: 'rosa', 6: 'branco', 8: 'cinza', 7: 'purpura'}\n"
          ]
        }
      ]
    },
    {
      "cell_type": "markdown",
      "metadata": {
        "id": "nH26cd0_eY4J"
      },
      "source": [
        "## Concatenando dois dicionários"
      ]
    },
    {
      "cell_type": "code",
      "metadata": {
        "id": "skOTMPdeeY4J",
        "colab": {
          "base_uri": "https://localhost:8080/"
        },
        "outputId": "2e2b884f-5437-47f8-ba3c-84a07e576bcf"
      },
      "source": [
        "# Declara e inicializa um dicionário de cores\n",
        "dicionario1 = {1:\"vermelho\", 2:\"azul\", 3:\"verde\", 4:\"amarelo\"}\n",
        "dicionario2 = {4:\"amarelo\", 5:\"rosa\", 6:\"branco\"}\n",
        "\n",
        "print(dicionario1)\n",
        "print(dicionario2)\n",
        "\n",
        "# Concatena os dicionários()\n",
        "dicionario1.update(dicionario2)\n",
        "\n",
        "print(dicionario1)"
      ],
      "execution_count": 214,
      "outputs": [
        {
          "output_type": "stream",
          "name": "stdout",
          "text": [
            "{1: 'vermelho', 2: 'azul', 3: 'verde', 4: 'amarelo'}\n",
            "{4: 'amarelo', 5: 'rosa', 6: 'branco'}\n",
            "{1: 'vermelho', 2: 'azul', 3: 'verde', 4: 'amarelo', 5: 'rosa', 6: 'branco'}\n"
          ]
        }
      ]
    },
    {
      "cell_type": "markdown",
      "metadata": {
        "id": "17YaYR888L14"
      },
      "source": [
        "## Removendo elementos (pop)\n",
        "\n",
        "Remove um elemento pela chave do dicionário e retorna a chave do elemento. Use quando quiser conhecer o elemento removido."
      ]
    },
    {
      "cell_type": "code",
      "metadata": {
        "id": "YcHSjgad8NN4",
        "colab": {
          "base_uri": "https://localhost:8080/"
        },
        "outputId": "32b96b78-fcd2-4ded-d5fc-c1d50e8bbbec"
      },
      "source": [
        "# Declara e inicializa um dicionário de cores\n",
        "dicionario = {1:\"vermelho\", 2:\"azul\", 3:\"verde\", 4:\"amarelo\", 5:\"rosa\", 6:\"branco\"}\n",
        "\n",
        "print(dicionario)\n",
        "\n",
        "# pop()\n",
        "apagado = dicionario.pop(2)\n",
        "print(dicionario)\n",
        "\n",
        "# Elemento removido\n",
        "print(apagado)"
      ],
      "execution_count": 215,
      "outputs": [
        {
          "output_type": "stream",
          "name": "stdout",
          "text": [
            "{1: 'vermelho', 2: 'azul', 3: 'verde', 4: 'amarelo', 5: 'rosa', 6: 'branco'}\n",
            "{1: 'vermelho', 3: 'verde', 4: 'amarelo', 5: 'rosa', 6: 'branco'}\n",
            "azul\n"
          ]
        }
      ]
    },
    {
      "cell_type": "markdown",
      "metadata": {
        "id": "uBTTs67ZfKz9"
      },
      "source": [
        "## Removendo elementos (del)\n",
        "\n",
        "Remove um elemento pela chave do dicionário."
      ]
    },
    {
      "cell_type": "code",
      "metadata": {
        "id": "VFG3qfUpfKz-",
        "colab": {
          "base_uri": "https://localhost:8080/"
        },
        "outputId": "b58b0325-a656-4262-d151-f7879a5314b8"
      },
      "source": [
        "# Declara e inicializa um dicionário de cores\n",
        "dicionario = {1:\"vermelho\", 2:\"azul\", 3:\"verde\", 4:\"amarelo\", 5:\"rosa\", 6:\"branco\"}\n",
        "\n",
        "print(dicionario)\n",
        "\n",
        "# del\n",
        "del dicionario[1]\n",
        "\n",
        "print(dicionario)"
      ],
      "execution_count": 216,
      "outputs": [
        {
          "output_type": "stream",
          "name": "stdout",
          "text": [
            "{1: 'vermelho', 2: 'azul', 3: 'verde', 4: 'amarelo', 5: 'rosa', 6: 'branco'}\n",
            "{2: 'azul', 3: 'verde', 4: 'amarelo', 5: 'rosa', 6: 'branco'}\n"
          ]
        }
      ]
    },
    {
      "cell_type": "markdown",
      "metadata": {
        "id": "JF2sOdM3e65C"
      },
      "source": [
        "## Apagando dicionário"
      ]
    },
    {
      "cell_type": "code",
      "metadata": {
        "id": "5tv1wJpoe65C",
        "colab": {
          "base_uri": "https://localhost:8080/"
        },
        "outputId": "bfd2cb02-e600-4687-ef4b-1fe79916246f"
      },
      "source": [
        "# Declara e inicializa um dicionário de cores\n",
        "dicionario = {1:\"vermelho\", 2:\"azul\", 3:\"verde\", 4:\"amarelo\", 5:\"rosa\", 6:\"branco\"}\n",
        "\n",
        "print(dicionario)\n",
        "\n",
        "# clear()\n",
        "dicionario.clear()\n",
        "\n",
        "print(dicionario)"
      ],
      "execution_count": 217,
      "outputs": [
        {
          "output_type": "stream",
          "name": "stdout",
          "text": [
            "{1: 'vermelho', 2: 'azul', 3: 'verde', 4: 'amarelo', 5: 'rosa', 6: 'branco'}\n",
            "{}\n"
          ]
        }
      ]
    },
    {
      "cell_type": "markdown",
      "metadata": {
        "id": "1LJiRi52_wii"
      },
      "source": [
        "## Listando os elementos"
      ]
    },
    {
      "cell_type": "code",
      "metadata": {
        "id": "tlsb5HpQ_yy5",
        "colab": {
          "base_uri": "https://localhost:8080/"
        },
        "outputId": "03e36294-b789-434a-9b56-84f5ee39baf1"
      },
      "source": [
        "# Declara e inicializa um dicionário de cores\n",
        "dicionario = {1:\"vermelho\", 2:\"azul\", 3:\"verde\", 4:\"amarelo\", 5:\"rosa\", 6:\"branco\"}\n",
        "\n",
        "# Lista as chaves do dicionario(método keys())\n",
        "for linha in dicionario.keys():\n",
        "  print(linha)\n",
        "\n",
        "# Lista os valores do dicionário(método values())\n",
        "for linha in dicionario.values():\n",
        "  print(linha)\n",
        "\n",
        "# Lista chave e valores do dicionário(método items())\n",
        "for chave, valor in dicionario.items():\n",
        "  print(\"chave=\",chave,\" valor=\", valor)"
      ],
      "execution_count": 218,
      "outputs": [
        {
          "output_type": "stream",
          "name": "stdout",
          "text": [
            "1\n",
            "2\n",
            "3\n",
            "4\n",
            "5\n",
            "6\n",
            "vermelho\n",
            "azul\n",
            "verde\n",
            "amarelo\n",
            "rosa\n",
            "branco\n",
            "chave= 1  valor= vermelho\n",
            "chave= 2  valor= azul\n",
            "chave= 3  valor= verde\n",
            "chave= 4  valor= amarelo\n",
            "chave= 5  valor= rosa\n",
            "chave= 6  valor= branco\n"
          ]
        }
      ]
    },
    {
      "cell_type": "markdown",
      "metadata": {
        "id": "emPC9iVRbY-A"
      },
      "source": [
        "## Ordenando os elementos pelo valor"
      ]
    },
    {
      "cell_type": "code",
      "metadata": {
        "colab": {
          "base_uri": "https://localhost:8080/"
        },
        "id": "6PWaEuwvcalv",
        "outputId": "e1f9ae6a-dec5-4f9e-c58e-c237808518a9"
      },
      "source": [
        "# Declara e inicializa um dicionário de quantidade cores\n",
        "dicionario = {\"vermelho\": 3, \"azul\": 2 , \"verde\": 6, \"amarelo\": 5, \"rosa\": 1, \"branco\":4}\n",
        "\n",
        "# Lista as chaves do dicionário ordenados crescentemente\n",
        "print(sorted(dicionario))"
      ],
      "execution_count": 219,
      "outputs": [
        {
          "output_type": "stream",
          "name": "stdout",
          "text": [
            "['amarelo', 'azul', 'branco', 'rosa', 'verde', 'vermelho']\n"
          ]
        }
      ]
    },
    {
      "cell_type": "markdown",
      "metadata": {
        "id": "RORPIc64o9Rq"
      },
      "source": [
        "## Ordenando os elementos pela chave\n",
        "\n",
        "Ordem crescente"
      ]
    },
    {
      "cell_type": "code",
      "metadata": {
        "colab": {
          "base_uri": "https://localhost:8080/"
        },
        "id": "rol09AimbY-B",
        "outputId": "6fb9d445-bee3-4ff5-ea46-5fa754a08ab9"
      },
      "source": [
        "# Declara e inicializa um dicionário de quantidade cores\n",
        "dicionario = {\"vermelho\": 3, \"azul\": 2 , \"verde\": 6, \"amarelo\": 5, \"rosa\": 1, \"branco\":4}\n",
        "\n",
        "# Lista as chaves do dicionário ordenados crescentemente\n",
        "for chave in sorted(dicionario, key = dicionario.get):\n",
        "    print(chave, dicionario[chave])"
      ],
      "execution_count": 220,
      "outputs": [
        {
          "output_type": "stream",
          "name": "stdout",
          "text": [
            "rosa 1\n",
            "azul 2\n",
            "vermelho 3\n",
            "branco 4\n",
            "amarelo 5\n",
            "verde 6\n"
          ]
        }
      ]
    },
    {
      "cell_type": "markdown",
      "metadata": {
        "id": "xJKznimXo6Ll"
      },
      "source": [
        "Ordem descrente"
      ]
    },
    {
      "cell_type": "code",
      "metadata": {
        "colab": {
          "base_uri": "https://localhost:8080/"
        },
        "id": "fhgb7A8McLHN",
        "outputId": "2fe9a4a3-8532-4ca8-f139-0ac8f8b68191"
      },
      "source": [
        "# Declara e inicializa um dicionário de quantidade cores\n",
        "dicionario = {\"vermelho\": 3, \"azul\": 2 , \"verde\": 6, \"amarelo\": 5, \"rosa\": 1, \"branco\":4}\n",
        "\n",
        "# Lista as chaves do dicionário ordenados descrescentemente\n",
        "for valor in sorted(dicionario, key = dicionario.get, reverse=True):\n",
        "    print(valor, dicionario[valor])"
      ],
      "execution_count": 221,
      "outputs": [
        {
          "output_type": "stream",
          "name": "stdout",
          "text": [
            "verde 6\n",
            "amarelo 5\n",
            "branco 4\n",
            "vermelho 3\n",
            "azul 2\n",
            "rosa 1\n"
          ]
        }
      ]
    },
    {
      "cell_type": "markdown",
      "metadata": {
        "id": "NGIkQkn79K04"
      },
      "source": [
        "## Dicionário de Dicionário"
      ]
    },
    {
      "cell_type": "code",
      "metadata": {
        "id": "KtIwBy529UBh",
        "colab": {
          "base_uri": "https://localhost:8080/"
        },
        "outputId": "242c42c7-d588-4f01-e434-5e8244dd3feb"
      },
      "source": [
        "# Declara e inicializa um dicionário de cores com chave númerica com {}\n",
        "dicionario = {1:{11:{\"onze\"}, 12:{\"doze\"}},\n",
        "              2:{21:{\"vinte um\"}, 22:{\"vinte dois\"}},\n",
        "              3:{31:{\"trinta e um\"}, 32:{\"trinta e dois\"}}}\n",
        "\n",
        "# Recupera o valor do primeiro dicionário\n",
        "print(dicionario[1])\n",
        "\n",
        "# Recupera o valor do segundo dicionário\n",
        "print(dicionario[1][11])\n",
        "\n",
        "# Lista chave e valores do dicionário(método items())\n",
        "for chave1, valor1 in dicionario.items():\n",
        "  print(\"chave1=\",chave1,\" valor1=\", valor1)\n",
        "  # Lista os valores do dicionário interno \n",
        "  for chave2, valor2 in valor1.items():\n",
        "    print(\"    chave2=\",chave2,\" valor2=\", valor2)"
      ],
      "execution_count": 222,
      "outputs": [
        {
          "output_type": "stream",
          "name": "stdout",
          "text": [
            "{11: {'onze'}, 12: {'doze'}}\n",
            "{'onze'}\n",
            "chave1= 1  valor1= {11: {'onze'}, 12: {'doze'}}\n",
            "    chave2= 11  valor2= {'onze'}\n",
            "    chave2= 12  valor2= {'doze'}\n",
            "chave1= 2  valor1= {21: {'vinte um'}, 22: {'vinte dois'}}\n",
            "    chave2= 21  valor2= {'vinte um'}\n",
            "    chave2= 22  valor2= {'vinte dois'}\n",
            "chave1= 3  valor1= {31: {'trinta e um'}, 32: {'trinta e dois'}}\n",
            "    chave2= 31  valor2= {'trinta e um'}\n",
            "    chave2= 32  valor2= {'trinta e dois'}\n"
          ]
        }
      ]
    },
    {
      "cell_type": "markdown",
      "metadata": {
        "id": "QZPMCLpGwf9E"
      },
      "source": [
        "## Concatenando 2 dicionários"
      ]
    },
    {
      "cell_type": "code",
      "metadata": {
        "colab": {
          "base_uri": "https://localhost:8080/"
        },
        "id": "nVYBgxbtwgIC",
        "outputId": "cbbba662-9b95-4fc5-a1ba-69dad16b4c04"
      },
      "source": [
        "# Declara e inicializa um dicionário de cores\n",
        "dicionario1 = {4:\"amarelo\", 5:\"rosa\", 6:\"branco\"}\n",
        "dicionario2 = {1:\"vermelho\", 2:\"azul\", 3:\"verde\"}\n",
        "\n",
        "# Adiciona o dicionário1 no dicionario2\n",
        "for chave in dicionario1:\n",
        "    dicionario2[chave] = dicionario1[chave]\n",
        "\n",
        "print(dicionario2)"
      ],
      "execution_count": 223,
      "outputs": [
        {
          "output_type": "stream",
          "name": "stdout",
          "text": [
            "{1: 'vermelho', 2: 'azul', 3: 'verde', 4: 'amarelo', 5: 'rosa', 6: 'branco'}\n"
          ]
        }
      ]
    },
    {
      "cell_type": "markdown",
      "source": [
        "## Convertendo um dicionário em uma lista"
      ],
      "metadata": {
        "id": "ug5o5pqQLgbE"
      }
    },
    {
      "cell_type": "code",
      "source": [
        "# Declara e inicializa um dicionário\n",
        "dicionario = {1:\"vermelho\", 2:\"azul\", 3:\"verde\", 4:\"amarelo\", 5:\"rosa\", 6:\"branco\"}\n",
        "\n",
        "print(dicionario)\n",
        "\n",
        "# Cria a lista do dicionário\n",
        "lista = [[chave, valor] for chave, valor in dicionario.items()] \n",
        "\n",
        "print(lista)"
      ],
      "metadata": {
        "colab": {
          "base_uri": "https://localhost:8080/"
        },
        "id": "QsAyPJ-eLkJp",
        "outputId": "8463c9fb-e4b6-4185-ea7b-81472dad14fb"
      },
      "execution_count": 224,
      "outputs": [
        {
          "output_type": "stream",
          "name": "stdout",
          "text": [
            "{1: 'vermelho', 2: 'azul', 3: 'verde', 4: 'amarelo', 5: 'rosa', 6: 'branco'}\n",
            "[[1, 'vermelho'], [2, 'azul'], [3, 'verde'], [4, 'amarelo'], [5, 'rosa'], [6, 'branco']]\n"
          ]
        }
      ]
    },
    {
      "cell_type": "markdown",
      "metadata": {
        "id": "HoJtFntzzq0Q"
      },
      "source": [
        "# Classificação / Ordenação"
      ]
    },
    {
      "cell_type": "markdown",
      "metadata": {
        "id": "S3lURBdBzxuQ"
      },
      "source": [
        "## Método da bolha"
      ]
    },
    {
      "cell_type": "code",
      "metadata": {
        "id": "dkS6JT-iz1gc",
        "colab": {
          "base_uri": "https://localhost:8080/"
        },
        "outputId": "8610890a-23b3-4161-f4d8-155d19c12a8f"
      },
      "source": [
        "# Inicialização das variáveis\n",
        "vetor = [60, 50, 40, 30, 20, 10]\n",
        "\n",
        "# Processamento\n",
        "for i in range(0, len(vetor)-1):\n",
        "    for j in range(i+1, len(vetor)):        \n",
        "        if(vetor[i] > vetor[j]):            \n",
        "            aux = vetor[i]\n",
        "            vetor[i] = vetor[j]\n",
        "            vetor[j] = aux\n",
        "            \n",
        "# Saída\n",
        "print(vetor)"
      ],
      "execution_count": 225,
      "outputs": [
        {
          "output_type": "stream",
          "name": "stdout",
          "text": [
            "[10, 20, 30, 40, 50, 60]\n"
          ]
        }
      ]
    },
    {
      "cell_type": "markdown",
      "metadata": {
        "id": "nMLw-_l8gqPI"
      },
      "source": [
        "## Método Quicksort"
      ]
    },
    {
      "cell_type": "code",
      "metadata": {
        "id": "qLLMntLZgsaU",
        "colab": {
          "base_uri": "https://localhost:8080/"
        },
        "outputId": "5e994767-b8bd-48ab-b07e-11da4d45f8e8"
      },
      "source": [
        "# Função quicksort\n",
        "def quicksort(vetor):\n",
        "    if len(vetor) <= 1:\n",
        "        return vetor\n",
        "    pivo = vetor[len(vetor) // 2] #Divisão inteira (//)\n",
        "    esquerda = [x for x in vetor if x < pivo]\n",
        "    meio = [x for x in vetor if x == pivo]\n",
        "    direita = [x for x in vetor if x > pivo]\n",
        "    return quicksort(esquerda) + meio + quicksort(direita)\n",
        "\n",
        "# Inicialização das variáveis\n",
        "vetor = [10, 20, 30, 40, 50, 60]\n",
        "\n",
        "# Processamento\n",
        "vetorOrdenado = quicksort(vetor)\n",
        "            \n",
        "# Saída\n",
        "print(vetor)"
      ],
      "execution_count": 226,
      "outputs": [
        {
          "output_type": "stream",
          "name": "stdout",
          "text": [
            "[10, 20, 30, 40, 50, 60]\n"
          ]
        }
      ]
    },
    {
      "cell_type": "markdown",
      "metadata": {
        "id": "0Q4NM9va2mWB"
      },
      "source": [
        "## Sort Ascendente"
      ]
    },
    {
      "cell_type": "code",
      "metadata": {
        "id": "AMS9-fng2qjb",
        "colab": {
          "base_uri": "https://localhost:8080/"
        },
        "outputId": "4f4a368e-7ffb-45c1-f489-658162c31344"
      },
      "source": [
        "# Inicialização das variáveis\n",
        "vetor = [60, 50, 40, 30, 20, 10]\n",
        "\n",
        "# Processamento\n",
        "vetor.sort()\n",
        "            \n",
        "# Saída\n",
        "print(vetor)"
      ],
      "execution_count": 227,
      "outputs": [
        {
          "output_type": "stream",
          "name": "stdout",
          "text": [
            "[10, 20, 30, 40, 50, 60]\n"
          ]
        }
      ]
    },
    {
      "cell_type": "markdown",
      "metadata": {
        "id": "2Y0uyvPf24zG"
      },
      "source": [
        "## Sort Descendente"
      ]
    },
    {
      "cell_type": "code",
      "metadata": {
        "id": "1-_tKRnC3CdR",
        "colab": {
          "base_uri": "https://localhost:8080/"
        },
        "outputId": "b7505269-b5d4-41fa-d4b3-d79d12965fd3"
      },
      "source": [
        "# Inicialização das variáveis\n",
        "vetor = [10, 20, 30, 40, 50, 60]\n",
        "\n",
        "# Processamento\n",
        "vetor.sort(reverse=True)\n",
        "            \n",
        "# Saída\n",
        "print(vetor)"
      ],
      "execution_count": 228,
      "outputs": [
        {
          "output_type": "stream",
          "name": "stdout",
          "text": [
            "[60, 50, 40, 30, 20, 10]\n"
          ]
        }
      ]
    },
    {
      "cell_type": "markdown",
      "metadata": {
        "id": "KfESLnXVs2zM"
      },
      "source": [
        "# Implementações de estruturas de dados"
      ]
    },
    {
      "cell_type": "markdown",
      "metadata": {
        "id": "P6-IKLWDkEKc"
      },
      "source": [
        "## Classe Pilha\n",
        "\n",
        "LIFO (Last In First Out)\n",
        "\n",
        "A inserção e remoção é realizada sempre no fim da lista, denominada topo."
      ]
    },
    {
      "cell_type": "code",
      "metadata": {
        "id": "6XoLTXvYkLf-"
      },
      "source": [
        "class Pilha:\n",
        "  \n",
        "    # Construtor da classe\n",
        "    def __init__(self):\n",
        "        # Lista para armazenar os elementos da pilha\n",
        "        self.pilha = []\n",
        "        #inicializa o contador de elementos da pilha\n",
        "        self.qtde = 0 \n",
        "        \n",
        "    # Empilhar(push)\n",
        "    def empilhar(self, elemento):\n",
        "        # Adiciona o elemento a pilha\n",
        "        self.pilha.append(elemento)\n",
        "        # Incrementa o contador de elementos da pilha\n",
        "        self.qtde += 1\n",
        "    \n",
        "    # Desempilhar(pop)\n",
        "    def desempilhar(self): \n",
        "        # Se não estiver vazia\n",
        "        if not self.vazia():\n",
        "            # Mensagem mostrando o elemento removido\n",
        "            print(\"Elemento removido: \", self.pilha[len(self.pilha) - 1])\n",
        "            # Remove o elemento do topo da pilha\n",
        "            self.pilha.pop(len(self.pilha) - 1)\n",
        "            # Decrementa o contador de elementos da pilha\n",
        "            self.qtde -= 1\n",
        "\n",
        "    # Verifica a situação da pilha\n",
        "    def vazia(self):\n",
        "        # Verifica o tamanho da lista\n",
        "        if self.qtde == 0:\n",
        "            return True\n",
        "        return False\n",
        "    \n",
        "    # Mostra os elementos da pilha\n",
        "    def mostraPilha(self):\n",
        "        # Percorre os elementos da pilha\n",
        "        for i in range(self.qtde - 1, -1, -1): #Range de (Tamanho Fila até 0)\n",
        "            print(self.pilha[i])"
      ],
      "execution_count": 229,
      "outputs": []
    },
    {
      "cell_type": "markdown",
      "metadata": {
        "id": "03hwiVMLkhue"
      },
      "source": [
        "Exemplo uso:"
      ]
    },
    {
      "cell_type": "code",
      "metadata": {
        "id": "YVbsZehSkjJ4",
        "colab": {
          "base_uri": "https://localhost:8080/"
        },
        "outputId": "862a6e06-aae7-49b9-ff14-756f0813b311"
      },
      "source": [
        "# Declara a pilha\n",
        "p = Pilha()\n",
        "\n",
        "# Adiciona \n",
        "p.empilhar(10)\n",
        "p.empilhar(20)\n",
        "p.empilhar(30)\n",
        "\n",
        "# Mostra a pilha\n",
        "p.mostraPilha()\n",
        "\n",
        "# Remove \n",
        "p.desempilhar()\n",
        "\n",
        "# Mostra a pilha\n",
        "p.mostraPilha()\n",
        "\n",
        "# Remove \n",
        "p.desempilhar()\n",
        "\n",
        "# Situação da pilha\n",
        "print(p.vazia())"
      ],
      "execution_count": 230,
      "outputs": [
        {
          "output_type": "stream",
          "name": "stdout",
          "text": [
            "30\n",
            "20\n",
            "10\n",
            "Elemento removido:  30\n",
            "20\n",
            "10\n",
            "Elemento removido:  20\n",
            "False\n"
          ]
        }
      ]
    },
    {
      "cell_type": "markdown",
      "metadata": {
        "id": "oP0Tf9dEnB9x"
      },
      "source": [
        "## Classe Fila\n",
        "\n",
        "FIFO (First In First Out)\n",
        "\n",
        "A inclusão ocorre no fim e a exclusão ocorre no início."
      ]
    },
    {
      "cell_type": "code",
      "metadata": {
        "id": "aRCMn1i0nMx2"
      },
      "source": [
        "class Fila:\n",
        "\n",
        "    # Construtor da classe\n",
        "    def __init__(self):\n",
        "        # Lista para armazenar os elementos da pilha\n",
        "        self.fila = []\n",
        "        #inicializa contador de elementos da fila\n",
        "        self.qtde = 0\n",
        "        \n",
        "    # Enfileirar(enqueue)\n",
        "    def enfileirar(self, elemento):\n",
        "        # Adiciona o elemento no final da fila\n",
        "        self.fila.append(elemento)\n",
        "        # Incrementa o contador de elementos da fila\n",
        "        self.qtde += 1\n",
        "    \n",
        "    # Desenfileirar(dequeue)\n",
        "    def desenfileirar(self):\n",
        "        # Se não estiver vazia\n",
        "        if not self.vazia():\n",
        "            # Mensagem mostrando o elemento removido          \n",
        "            print(\"Elemento removido: \", self.fila[0])\n",
        "            # Remove o elemento do início da fila\n",
        "            self.fila.pop(0)\n",
        "            # Decrementa o contador de elementos da fila\n",
        "            self.qtde -= 1\n",
        "\n",
        "    # Verifica a situação da fila\n",
        "    def vazia(self):\n",
        "        if self.qtde == 0:\n",
        "            return True\n",
        "        return False\n",
        "    \n",
        "    # Mostra os elementos da fila\n",
        "    def mostraFila(self):\n",
        "        # Percorre os elementos da fila\n",
        "        for i in range(self.qtde):\n",
        "            print(self.fila[i])"
      ],
      "execution_count": 231,
      "outputs": []
    },
    {
      "cell_type": "markdown",
      "metadata": {
        "id": "YzhngxoToGFc"
      },
      "source": [
        "Exemplo uso:"
      ]
    },
    {
      "cell_type": "code",
      "metadata": {
        "id": "lLpYAooroGfN",
        "colab": {
          "base_uri": "https://localhost:8080/"
        },
        "outputId": "87085e4e-56bd-40eb-cde0-8050fe70957c"
      },
      "source": [
        "# Declara a fila\n",
        "q = Fila()\n",
        "\n",
        "# Adiciona \n",
        "q.enfileirar(10)\n",
        "q.enfileirar(20)\n",
        "q.enfileirar(30)\n",
        "\n",
        "# Mostra a fila\n",
        "q.mostraFila()\n",
        "\n",
        "# Remove\n",
        "q.desenfileirar()\n",
        "\n",
        "# Mostra a fila\n",
        "q.mostraFila()\n",
        "\n",
        "# Enfileirar\n",
        "print(\"Enfileirando: 40\")\n",
        "q.enfileirar(40)\n",
        "\n",
        "# Mostra a fila\n",
        "q.mostraFila()\n",
        "\n",
        "# Situação da fila\n",
        "print(q.vazia())"
      ],
      "execution_count": 232,
      "outputs": [
        {
          "output_type": "stream",
          "name": "stdout",
          "text": [
            "10\n",
            "20\n",
            "30\n",
            "Elemento removido:  10\n",
            "20\n",
            "30\n",
            "Enfileirando: 40\n",
            "20\n",
            "30\n",
            "40\n",
            "False\n"
          ]
        }
      ]
    },
    {
      "cell_type": "markdown",
      "metadata": {
        "id": "T3Ko8MjHowD-"
      },
      "source": [
        "## Classe Deque\n",
        "\n",
        "Os elementos podem ser removidos ou inseridos no início ou fim da fila."
      ]
    },
    {
      "cell_type": "code",
      "metadata": {
        "id": "hAota5TYozCF"
      },
      "source": [
        "class Deque:\n",
        "\n",
        "    # Construtor da classe    \n",
        "    def __init__(self):\n",
        "        # Lista para armazenar os elementos do deque\n",
        "        self.deque = []\n",
        "        # Inicializa contador de elementos do deque\n",
        "        self.qtde = 0\n",
        "    \n",
        "    # Insere no início(insertFront)\n",
        "    def inserirInicio(self, elemento):\n",
        "        # Adiciona o elemento no início do deque\n",
        "        self.deque.insert(0, elemento)\n",
        "        # Incrementa o contador de elementos do deque\n",
        "        self.qtde += 1\n",
        "            \n",
        "    # Insere no fim(insertBack)\n",
        "    def inserirFim(self, elemento):\n",
        "        # Adiciona o elemento no fim do deque\n",
        "        self.deque.append(elemento)\n",
        "        # Incrementa o contador de elementos do deque\n",
        "        self.qtde += 1\n",
        "        \n",
        "    # Remove do início(removeFront)\n",
        "    def removerInicio(self):\n",
        "        # Mensagem mostrando o elemento removido\n",
        "        print(\"Elemento removido: \", self.deque[0])\n",
        "        # Remove o elemento do início\n",
        "        self.deque.pop(0)\n",
        "        # Decrementa o contador de elementos do deque\n",
        "        self.qtde -= 1\n",
        "    \n",
        "    # Remove do fim(removeBack)\n",
        "    def removerFim(self):\n",
        "        # Mensagem mostrando o elemento removido\n",
        "        print(\"Elemento removido: \", self.deque[-1])\n",
        "        # Remove o elemento do fim\n",
        "        self.deque.pop(-1)\n",
        "        # Decrementa o contador de elementos\n",
        "        self.qtde -= 1\n",
        "        \n",
        "    # Verifica a situação do deque\n",
        "    def vazia(self):\n",
        "        if self.qtde == 0:\n",
        "            return True\n",
        "        return False\n",
        "\n",
        "    # Mostra os elementos do deque\n",
        "    def mostraDeque(self):\n",
        "        # Percorre os elementos do deque\n",
        "        for i in range(self.qtde):\n",
        "            print(self.deque[i])"
      ],
      "execution_count": 233,
      "outputs": []
    },
    {
      "cell_type": "markdown",
      "metadata": {
        "id": "yHWYdDQip7jA"
      },
      "source": [
        "Exemplo de uso:"
      ]
    },
    {
      "cell_type": "code",
      "metadata": {
        "id": "n2h1HLW5p8p6",
        "colab": {
          "base_uri": "https://localhost:8080/"
        },
        "outputId": "34969aac-d9fe-4e3e-bafa-89a99b5fdb6d"
      },
      "source": [
        "# Declara o deque\n",
        "d = Deque()\n",
        "\n",
        "# Inserindo no início\n",
        "d.inserirInicio(10)\n",
        "d.inserirInicio(20)\n",
        "d.inserirInicio(30)\n",
        "\n",
        "# Mostra o deque\n",
        "d.mostraDeque()\n",
        "\n",
        "# Remove do fim\n",
        "d.removerFim()\n",
        "\n",
        "# Remove do início\n",
        "d.removerInicio()\n",
        "\n",
        "# Mostra o deque\n",
        "d.mostraDeque()\n",
        "\n",
        "# Situação do deque\n",
        "print(d.vazia())"
      ],
      "execution_count": 234,
      "outputs": [
        {
          "output_type": "stream",
          "name": "stdout",
          "text": [
            "30\n",
            "20\n",
            "10\n",
            "Elemento removido:  10\n",
            "Elemento removido:  30\n",
            "20\n",
            "False\n"
          ]
        }
      ]
    },
    {
      "cell_type": "markdown",
      "metadata": {
        "id": "_TDiScCgqUIW"
      },
      "source": [
        "## Deque com collections.deque\n",
        "\n",
        "Implementação do Deque do pacote colletions"
      ]
    },
    {
      "cell_type": "code",
      "metadata": {
        "id": "DoW65JTIqYBi",
        "colab": {
          "base_uri": "https://localhost:8080/"
        },
        "outputId": "bae5de5c-6b57-4b5d-bb85-5b5ea06b8e37"
      },
      "source": [
        "from collections import deque\n",
        "\n",
        "# Declara o deque\n",
        "d = deque()\n",
        "\n",
        "# Adiciona ao fim do deque\n",
        "d.append(10) \n",
        "# Adiciona ao início ao deque\n",
        "d.appendleft(20) \n",
        "# Adiciona ao fim do deque\n",
        "d.append(30)\n",
        "\n",
        "# Mostra o deque\n",
        "for i in d:\n",
        "    print(i, end=\" \")\n",
        "\n",
        "# Remove do fim\n",
        "d.pop() \n",
        "\n",
        "# Remove do início\n",
        "d.popleft()\n",
        "\n",
        "# Mostra o deque\n",
        "for i in d:\n",
        "    print(i, end=\" \")"
      ],
      "execution_count": 235,
      "outputs": [
        {
          "output_type": "stream",
          "name": "stdout",
          "text": [
            "20 10 30 10 "
          ]
        }
      ]
    },
    {
      "cell_type": "markdown",
      "metadata": {
        "id": "REh3q0uBfVFE"
      },
      "source": [
        "## Classe ListaSimplesmenteEncadeada\n",
        "\n",
        "Os elementos podem ser removidos ou inseridos no início ou fim da fila. Existe uma classe para armazenar os dados e o ponteiro do próximo elemento."
      ]
    },
    {
      "cell_type": "code",
      "metadata": {
        "id": "P6-bYxTIflWT"
      },
      "source": [
        "class No:\n",
        "\n",
        "    # Construtor da classe    \n",
        "    def __init__(self, elemento=None, proximo=None):\n",
        "        self.elemento = elemento\n",
        "        self.proximo = proximo\n",
        "    \n",
        "    # Retorna os dados do nó\n",
        "    def __str__(self):\n",
        "        return str(self.elemento)"
      ],
      "execution_count": 236,
      "outputs": []
    },
    {
      "cell_type": "code",
      "metadata": {
        "id": "i-UowY2SfVFF"
      },
      "source": [
        "class ListaSimplesmenteEncadeada:\n",
        "\n",
        "    # Construtor da classe    \n",
        "    def __init__(self):\n",
        "        # Guarda o início da lista simplesmente encadeada\n",
        "        self.inicio = None\n",
        "        #inicializa contador de elementos da lista simplesmente encadeada\n",
        "        self.qtde = 0\n",
        "    \n",
        "    # Insere no início(insertFront)\n",
        "    def inserirInicio(self, elemento):\n",
        "        # Instancia um novo nó\n",
        "        novo = No(elemento, self.inicio)\n",
        "        # Adiciona o elemento no início da lista simplesmente encadeada\n",
        "        self.inicio = novo\n",
        "        # Incrementa o contador de elementos da lista simplesmente encadeada\n",
        "        self.qtde += 1\n",
        "                    \n",
        "    # Insere no fim(insertBack)\n",
        "    def inserirFim(self, elemento):\n",
        "        # Se diferente de vazio procura a última posição\n",
        "        if self.inicio:\n",
        "          aux = self.inicio\n",
        "          # Percorre os elementos da lista simplesmente encadeada\n",
        "          while aux.proximo:            \n",
        "            aux = aux.proximo\n",
        "          # Instancia um novo nó\n",
        "          novo = No(elemento)\n",
        "          # Adiciona ao final da lista\n",
        "          aux.proximo = novo\n",
        "          # Incrementa o contador de elementos do deque\n",
        "          self.qtde += 1\n",
        "        else:\n",
        "          self.inserirInicio(elemento)      \n",
        "        \n",
        "    # Remove do início(removeFront)\n",
        "    def removerInicio(self):\n",
        "        # Verifica se a lista não está vazia\n",
        "        if self.inicio:\n",
        "            # Mensagem mostrando o elemento removido\n",
        "            print(\"Elemento removido: \", self.inicio.elemento)\n",
        "            # Remove o elemento do início\n",
        "            self.inicio = self.inicio.proximo\n",
        "            # Decrementa o contador de elementos da lista simplesmente encadeada\n",
        "            self.qtde -= 1\n",
        "        else:\n",
        "            print(\"Lista vazia!\")\n",
        "    \n",
        "    # Remove do fim(removeBack)\n",
        "    def removerFim(self):\n",
        "        # Verifica se a lista não está vazia\n",
        "        if self.inicio:\n",
        "            # Com mais de um nó\n",
        "            if self.inicio.proximo:\n",
        "                # Recupera o início da lista\n",
        "                atual = self.inicio \n",
        "                anterior = None;\n",
        "                while atual.proximo:\n",
        "                    anterior = atual\n",
        "                    atual = atual.proximo                                \n",
        "                # Mensagem mostrando o elemento removido\n",
        "                print(\"Elemento removido: \", atual.elemento)\n",
        "                # Pula o elemento a ser removido\n",
        "                anterior.proximo = atual.proximo \n",
        "                # Decrementa o contador de elementos da lista simplesmente encadeada\n",
        "                self.qtde -= 1                \n",
        "            else:\n",
        "                # Remove do início                \n",
        "                self.removerInicio()            \n",
        "        else:\n",
        "            print(\"Lista vazia!\")        \n",
        "        \n",
        "    # Verifica a situação da lista simplesmente encadeada\n",
        "    def vazia(self):\n",
        "        if self.qtde == 0:\n",
        "            return True\n",
        "        return False\n",
        "\n",
        "    # Mostra os elementos da lista simplesmente encadeada\n",
        "    def mostraLista(self):\n",
        "        aux = self.inicio\n",
        "        # Percorre os elementos da lista simplesmente encadeada\n",
        "        while aux:\n",
        "          print(aux)\n",
        "          aux = aux.proximo\n",
        "          "
      ],
      "execution_count": 237,
      "outputs": []
    },
    {
      "cell_type": "markdown",
      "metadata": {
        "id": "shcXxUVsfVFJ"
      },
      "source": [
        "Exemplo de uso:"
      ]
    },
    {
      "cell_type": "code",
      "metadata": {
        "id": "sMVMGH_ZfVFK",
        "colab": {
          "base_uri": "https://localhost:8080/"
        },
        "outputId": "6ad7ddb8-189f-459e-9fe2-01dcde15b5a0"
      },
      "source": [
        "# Declara a lista simplesmente encadeada\n",
        "l = ListaSimplesmenteEncadeada()\n",
        "\n",
        "# Inserindo no início\n",
        "l.inserirFim(30)\n",
        "l.inserirFim(40)\n",
        "\n",
        "# Inserindo no fim\n",
        "l.inserirInicio(20)\n",
        "l.inserirInicio(10)\n",
        "\n",
        "# Mostra a lista simplesmente encadeada\n",
        "l.mostraLista()\n",
        "\n",
        "# Remove do início\n",
        "l.removerInicio()\n",
        "\n",
        "# Mostra a lista simplesmente encadeada\n",
        "l.mostraLista()\n",
        "\n",
        "# Remove do fim\n",
        "l.removerFim()\n",
        "l.removerFim()\n",
        "l.removerFim()\n",
        "l.removerFim()\n",
        "\n",
        "# Mostra a lista simplesmente encadeada\n",
        "l.mostraLista()\n",
        "\n",
        "# Situação da lista simplesmente encadeada\n",
        "print(l.vazia())"
      ],
      "execution_count": 238,
      "outputs": [
        {
          "output_type": "stream",
          "name": "stdout",
          "text": [
            "10\n",
            "20\n",
            "30\n",
            "40\n",
            "Elemento removido:  10\n",
            "20\n",
            "30\n",
            "40\n",
            "Elemento removido:  40\n",
            "Elemento removido:  30\n",
            "Elemento removido:  20\n",
            "Lista vazia!\n",
            "True\n"
          ]
        }
      ]
    }
  ]
}