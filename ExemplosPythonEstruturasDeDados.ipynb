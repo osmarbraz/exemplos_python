{
  "nbformat": 4,
  "nbformat_minor": 0,
  "metadata": {
    "colab": {
      "name": "ExemplosPythonEstruturasDeDados.ipynb",
      "provenance": [],
      "collapsed_sections": [],
      "toc_visible": true,
      "include_colab_link": true
    },
    "kernelspec": {
      "name": "python3",
      "display_name": "Python 3"
    }
  },
  "cells": [
    {
      "cell_type": "markdown",
      "metadata": {
        "id": "view-in-github",
        "colab_type": "text"
      },
      "source": [
        "<a href=\"https://colab.research.google.com/github/osmarbraz/exemplos_python/blob/master/ExemplosPythonEstruturasDeDados.ipynb\" target=\"_parent\"><img src=\"https://colab.research.google.com/assets/colab-badge.svg\" alt=\"Open In Colab\"/></a>"
      ]
    },
    {
      "cell_type": "markdown",
      "metadata": {
        "id": "xY84ChCNzmQQ"
      },
      "source": [
        "# Exemplos de Estruturas de Dados em Python no Google Colaboratory\n",
        "\n",
        "- Listas(List),\n",
        "- Enumerações(Enumerate),\n",
        "- Tuplas(Tuple),\n",
        "- Intervalos(Range),\n",
        "- Conjuntos(Sets),\n",
        "- Dicionários(Dict),\n",
        "- Classificação(Ordenação),\n",
        "- Classes de Estrutura de Dados.\n",
        "\n",
        "-----------------------------------------\n",
        "**Guia Colab Iniciante:**\n",
        "\n",
        "https://medium.com/machina-sapiens/google-colab-guia-do-iniciante-334d70aad531\n",
        "\n",
        "**Documentação oficial:**\n",
        "\n",
        "https://colab.research.google.com/github/jakevdp/PythonDataScienceHandbook/blob/master/notebooks/01.01-Help-And-Documentation.ipynb\n",
        "\n",
        "**Características :**\n",
        "\n",
        "https://colab.research.google.com/notebooks/basic_features_overview.ipynb"
      ]
    },
    {
      "cell_type": "markdown",
      "metadata": {
        "id": "8-yh61Cp3W_0"
      },
      "source": [
        "# Listas/List"
      ]
    },
    {
      "cell_type": "markdown",
      "metadata": {
        "id": "_F96dx_gpm2Y"
      },
      "source": [
        "Uma lista é a estrutura de dados mais básica do Python e armazena os dados em sequência, onde cada elemento possui sua posição na lista, denominada de índice. O primeiro elemento é sempre o índice zero e a cada elemento inserido na lista esse valor é incrementado.\n",
        "\n",
        "No Python, uma lista pode armazenar qualquer tipo de dado primitivo (string, inteiro, float, etc). \n",
        "\n",
        "Listas são equivalentes a vetores.\n",
        "\n",
        "* São ordenadas;\n",
        "* Podem ser iteradas;\n",
        "* São mutáveis (podemos adicionar, mover, mudar ou remover elementos);\n",
        "* Aceitam diversos tipos de elementos.\n",
        "\n",
        "https://railsware.com/blog/python-for-machine-learning-indexing-and-slicing-for-lists-tuples-strings-and-other-sequential-types/"
      ]
    },
    {
      "cell_type": "markdown",
      "metadata": {
        "id": "U9yrljlxiyFk"
      },
      "source": [
        "## Declarando e criando listas"
      ]
    },
    {
      "cell_type": "code",
      "metadata": {
        "id": "CRP2Snaki3N4",
        "colab": {
          "base_uri": "https://localhost:8080/"
        },
        "outputId": "6288ed98-0b72-4ae3-d373-aaa2a18421bb"
      },
      "source": [
        "# Declara e inicializa uma lista de cores\n",
        "cores = [\"vermelho\", \"azul\", \"verde\", \"amarelo\", \"rosa\", \"branco\"]\n",
        "\n",
        "# Mostra lista\n",
        "print(cores)"
      ],
      "execution_count": 1,
      "outputs": [
        {
          "output_type": "stream",
          "name": "stdout",
          "text": [
            "['vermelho', 'azul', 'verde', 'amarelo', 'rosa', 'branco']\n"
          ]
        }
      ]
    },
    {
      "cell_type": "markdown",
      "metadata": {
        "id": "jIyN9queGP1O"
      },
      "source": [
        "## Declarando e inicializando uma listacom uma constante"
      ]
    },
    {
      "cell_type": "code",
      "metadata": {
        "id": "3DiQIAj7GTFh",
        "colab": {
          "base_uri": "https://localhost:8080/"
        },
        "outputId": "f392271a-9e9d-4825-8c0e-63ff175d7fd4"
      },
      "source": [
        "#gera um vetor de 10 posições com o valor \"sem cor\"\n",
        "cores = [\"sem cor\"] * 10\n",
        "\n",
        "print(len(cores))\n",
        "print(cores)"
      ],
      "execution_count": 2,
      "outputs": [
        {
          "output_type": "stream",
          "name": "stdout",
          "text": [
            "10\n",
            "['sem cor', 'sem cor', 'sem cor', 'sem cor', 'sem cor', 'sem cor', 'sem cor', 'sem cor', 'sem cor', 'sem cor']\n"
          ]
        }
      ]
    },
    {
      "cell_type": "markdown",
      "metadata": {
        "id": "aO6beiJqk9Wz"
      },
      "source": [
        "## Acessando elementos da lista"
      ]
    },
    {
      "cell_type": "markdown",
      "metadata": {
        "id": "fL1p2TUaoZ87"
      },
      "source": [
        "### Acessando elementos por índice\n",
        "\n",
        "ATENÇÃO: Início em 0(zero)!"
      ]
    },
    {
      "cell_type": "code",
      "metadata": {
        "id": "tWTdt6UHlBLt",
        "colab": {
          "base_uri": "https://localhost:8080/"
        },
        "outputId": "bb13bba4-45db-4e00-b15f-ef8d921f0c1e"
      },
      "source": [
        "# Declara e inicializa uma lista de cores\n",
        "cores = [\"vermelho\", \"azul\", \"verde\", \"amarelo\", \"rosa\", \"branco\"]\n",
        "\n",
        "# Acessando o primeiro(índice=0) elemento da lista\n",
        "print(\"Primeiro:\",cores[0])\n",
        "\n",
        "# Acessando o terceiro(índice=3) elemento da lista\n",
        "print(\"Terceiro:\", cores[2])"
      ],
      "execution_count": 3,
      "outputs": [
        {
          "output_type": "stream",
          "name": "stdout",
          "text": [
            "Primeiro: vermelho\n",
            "Terceiro: verde\n"
          ]
        }
      ]
    },
    {
      "cell_type": "markdown",
      "metadata": {
        "id": "Mr6-JwsfjQ_w"
      },
      "source": [
        "### Últilizando índices negativos"
      ]
    },
    {
      "cell_type": "code",
      "metadata": {
        "id": "KIzfpb_2jYBK",
        "colab": {
          "base_uri": "https://localhost:8080/"
        },
        "outputId": "787d62e3-46b8-44eb-a40b-b8faec21df2c"
      },
      "source": [
        "# Declara e inicializa uma lista de cores\n",
        "cores = [\"vermelho\", \"azul\", \"verde\", \"amarelo\", \"rosa\", \"branco\"]\n",
        "\n",
        "# Acessando o último elemento da lista\n",
        "print(\"Último:\",cores[-1])\n",
        "\n",
        "# Acessando o penúltimo elemento da lista\n",
        "print(\"Penúltimo:\",cores[-2])"
      ],
      "execution_count": 4,
      "outputs": [
        {
          "output_type": "stream",
          "name": "stdout",
          "text": [
            "Último: branco\n",
            "Penúltimo: rosa\n"
          ]
        }
      ]
    },
    {
      "cell_type": "markdown",
      "metadata": {
        "id": "BmgjxxGupDTv"
      },
      "source": [
        "### Acessando intervalos [:]"
      ]
    },
    {
      "cell_type": "code",
      "metadata": {
        "id": "_MXZ1qJ9pDTw",
        "colab": {
          "base_uri": "https://localhost:8080/"
        },
        "outputId": "0acf572c-b0ed-4e17-bc14-52d969045aac"
      },
      "source": [
        "# Declara e inicializa uma lista de cores\n",
        "cores = [\"vermelho\", \"azul\", \"verde\", \"amarelo\", \"rosa\", \"branco\"]\n",
        "\n",
        "# Acessando o intervalo de todos\n",
        "print(\"Intervalo de de todos(cores[:])                 :\", cores[:])\n",
        "\n",
        "# Acessando o intervalo de 2 a 4\n",
        "print(\"Intervalo de 2 até 4(cores[2:4])                :\", cores[2:4])\n",
        "\n",
        "# Acessando o intervalo do primeiro até o 2\n",
        "print(\"Intervalo do início até 2(cores[:2])            :\", cores[:2])\n",
        "\n",
        "# Acessando do início até o penúltimo elemento da lista\n",
        "print(\"Intervalo início até o último(cores[:-1])       :\",cores[:-1])\n",
        "\n",
        "# Acessando do 0 até o penúltimo elemento da lista\n",
        "print(\"Intervalo 0 até o último(cores[0:-1])           :\",cores[0:-1])\n",
        "\n",
        "# Acessando do início até o penúltimo elemento da lista\n",
        "print(\"Intervalo de início até o penúltimo(cores[:-2]) :\",cores[:-2])\n",
        "\n",
        "# Acessando do 0 até o penúltimo elemento da lista\n",
        "print(\"Intervalo de 0 até o penúltimo(cores[:-2])      :\",cores[:-2])\n",
        "\n",
        "# Acessando do 0 até o penúltimo elemento da lista\n",
        "print(\"Intervalo de 0 até o penúltimo(cores[0:-2])     :\",cores[0:-2])\n",
        "\n",
        "# Acessando do segundo até o penúltimo elemento da lista\n",
        "print(\"Intervalo de 2 até o penúltimo(cores[2:-2])     :\",cores[2:-2])\n",
        "\n",
        "# Acessando o último elemento da lista\n",
        "print(\"Intervalo de fim até o último(cores[-1:])       :\",cores[-1:])\n",
        "\n",
        "# Acessando os dois últimos elementos da lista\n",
        "print(\"Intervalo de fim até os dois últimos(cores[-2:]):\",cores[-2:])"
      ],
      "execution_count": 5,
      "outputs": [
        {
          "output_type": "stream",
          "name": "stdout",
          "text": [
            "Intervalo de de todos(cores[:])                 : ['vermelho', 'azul', 'verde', 'amarelo', 'rosa', 'branco']\n",
            "Intervalo de 2 até 4(cores[2:4])                : ['verde', 'amarelo']\n",
            "Intervalo do início até 2(cores[:2])            : ['vermelho', 'azul']\n",
            "Intervalo início até o último(cores[:-1])       : ['vermelho', 'azul', 'verde', 'amarelo', 'rosa']\n",
            "Intervalo 0 até o último(cores[0:-1])           : ['vermelho', 'azul', 'verde', 'amarelo', 'rosa']\n",
            "Intervalo de início até o penúltimo(cores[:-2]) : ['vermelho', 'azul', 'verde', 'amarelo']\n",
            "Intervalo de 0 até o penúltimo(cores[:-2])      : ['vermelho', 'azul', 'verde', 'amarelo']\n",
            "Intervalo de 0 até o penúltimo(cores[0:-2])     : ['vermelho', 'azul', 'verde', 'amarelo']\n",
            "Intervalo de 2 até o penúltimo(cores[2:-2])     : ['verde', 'amarelo']\n",
            "Intervalo de fim até o último(cores[-1:])       : ['branco']\n",
            "Intervalo de fim até os dois últimos(cores[-2:]): ['rosa', 'branco']\n"
          ]
        }
      ]
    },
    {
      "cell_type": "markdown",
      "metadata": {
        "id": "L6p_1m9vk2Eo"
      },
      "source": [
        "## Atribuindo valores"
      ]
    },
    {
      "cell_type": "code",
      "metadata": {
        "id": "OUyBCzp8lKFZ",
        "colab": {
          "base_uri": "https://localhost:8080/"
        },
        "outputId": "9a487fab-7872-48fd-c161-702ca4964b07"
      },
      "source": [
        "# Declara e inicializa uma lista de cores\n",
        "cores = [\"vermelho\", \"azul\", \"verde\", \"amarelo\", \"rosa\", \"branco\"]\n",
        "\n",
        "# Atribuindo um novo valor para o primeiro elemento índice=0\n",
        "cores[0]  = \"marron\"\n",
        "\n",
        "# Atribuindo um novo valor para o último elemento índice=-1\n",
        "cores[-1] = \"preto\"\n",
        "\n",
        "# Mostra a lista\n",
        "print(cores)"
      ],
      "execution_count": 6,
      "outputs": [
        {
          "output_type": "stream",
          "name": "stdout",
          "text": [
            "['marron', 'azul', 'verde', 'amarelo', 'rosa', 'preto']\n"
          ]
        }
      ]
    },
    {
      "cell_type": "markdown",
      "metadata": {
        "id": "TS6fenV9yyHP"
      },
      "source": [
        "##Max e Min dos elementos das listas"
      ]
    },
    {
      "cell_type": "code",
      "metadata": {
        "id": "q-YPfwsayyZF",
        "colab": {
          "base_uri": "https://localhost:8080/"
        },
        "outputId": "616112f2-5f90-4cf1-8681-78eeeae9de3a"
      },
      "source": [
        "# Declara e inicializa uma lista de número\n",
        "lista = [10, 20, 30 , 40 , 50 , 60]\n",
        "\n",
        "menor = min(lista)\n",
        "maior = max(lista)\n",
        "\n",
        "# Mostra o menor\n",
        "print(menor)\n",
        "\n",
        "# Mostra o maior\n",
        "print(maior)"
      ],
      "execution_count": 7,
      "outputs": [
        {
          "output_type": "stream",
          "name": "stdout",
          "text": [
            "10\n",
            "60\n"
          ]
        }
      ]
    },
    {
      "cell_type": "markdown",
      "metadata": {
        "id": "gKgypxOH8-kS"
      },
      "source": [
        "## Tamanho das listas"
      ]
    },
    {
      "cell_type": "code",
      "metadata": {
        "id": "mZjI2Xsx9EpS",
        "colab": {
          "base_uri": "https://localhost:8080/"
        },
        "outputId": "33b12dec-4b75-416e-bcf9-4326c140c248"
      },
      "source": [
        "# Declara e inicializa uma lista de número\n",
        "lista = [10, 20, 30 , 40 , 50 , 60]\n",
        "\n",
        "# O método len retorna a quantidade de elementos da lista\n",
        "tamanho = len(lista)\n",
        "\n",
        "# Mostra o tamanho\n",
        "print(tamanho)\n"
      ],
      "execution_count": 8,
      "outputs": [
        {
          "output_type": "stream",
          "name": "stdout",
          "text": [
            "6\n"
          ]
        }
      ]
    },
    {
      "cell_type": "markdown",
      "metadata": {
        "id": "ymqzP7bp3z8Q"
      },
      "source": [
        "## Exibindo listas"
      ]
    },
    {
      "cell_type": "markdown",
      "metadata": {
        "id": "VnCf0nAjkiaJ"
      },
      "source": [
        "### Listando tudo"
      ]
    },
    {
      "cell_type": "code",
      "metadata": {
        "id": "bhJ3cCYsGE6m",
        "colab": {
          "base_uri": "https://localhost:8080/"
        },
        "outputId": "838ca1e0-fc73-4ac8-e80e-08c8bd54db22"
      },
      "source": [
        "# Declara e inicializa uma lista de cores\n",
        "cores = [\"vermelho\", \"azul\", \"verde\", \"amarelo\", \"rosa\", \"branco\"]\n",
        "\n",
        "# Percorre a lista de cores, o valor atual está em cor\n",
        "for cor in cores:\n",
        "    print(cor)"
      ],
      "execution_count": 9,
      "outputs": [
        {
          "output_type": "stream",
          "name": "stdout",
          "text": [
            "vermelho\n",
            "azul\n",
            "verde\n",
            "amarelo\n",
            "rosa\n",
            "branco\n"
          ]
        }
      ]
    },
    {
      "cell_type": "markdown",
      "metadata": {
        "id": "2KuGRyZlG8G0"
      },
      "source": [
        "###  Percorre sem exibir o primeiro e último elemento"
      ]
    },
    {
      "cell_type": "code",
      "metadata": {
        "id": "PUk23g8CG8G1",
        "colab": {
          "base_uri": "https://localhost:8080/"
        },
        "outputId": "e7ef49a6-3219-410e-9eb5-840de29adf2a"
      },
      "source": [
        "# Declara e inicializa uma lista de cores\n",
        "cores = [\"vermelho\", \"azul\", \"verde\", \"amarelo\", \"rosa\", \"branco\"]\n",
        "\n",
        "# Percorre a lista de cores, o valor atual está em cor\n",
        "for cor in cores[1:-1]:\n",
        "    print(cor)"
      ],
      "execution_count": 10,
      "outputs": [
        {
          "output_type": "stream",
          "name": "stdout",
          "text": [
            "azul\n",
            "verde\n",
            "amarelo\n",
            "rosa\n"
          ]
        }
      ]
    },
    {
      "cell_type": "markdown",
      "metadata": {
        "id": "Ebgjd9kM85hp"
      },
      "source": [
        "### Percorre as listas de forma invertida"
      ]
    },
    {
      "cell_type": "code",
      "metadata": {
        "id": "88o8wdC68woL",
        "colab": {
          "base_uri": "https://localhost:8080/"
        },
        "outputId": "8a6918c1-8394-40b5-acb4-fe0c87cdc960"
      },
      "source": [
        "# Declara e inicializa uma lista de cores\n",
        "cores = [\"vermelho\", \"azul\", \"verde\", \"amarelo\", \"rosa\", \"branco\"]\n",
        "\n",
        "# Percorre a lista de cores, o valor atual está em cor\n",
        "for cor in cores[::-1]:\n",
        "    print(cor)"
      ],
      "execution_count": 11,
      "outputs": [
        {
          "output_type": "stream",
          "name": "stdout",
          "text": [
            "branco\n",
            "rosa\n",
            "amarelo\n",
            "verde\n",
            "azul\n",
            "vermelho\n"
          ]
        }
      ]
    },
    {
      "cell_type": "markdown",
      "metadata": {
        "id": "okzpNteU3uhs"
      },
      "source": [
        "### Limitando a exibição sem índice"
      ]
    },
    {
      "cell_type": "code",
      "metadata": {
        "id": "tylksppD399H",
        "colab": {
          "base_uri": "https://localhost:8080/"
        },
        "outputId": "3c0aacb2-ea64-4acc-eb6d-cf5e3b657063"
      },
      "source": [
        "# Biblioteca para iteragir\n",
        "import itertools\n",
        "\n",
        "# Declara e inicializa uma lista de cores\n",
        "cores = [\"vermelho\", \"azul\", \"verde\", \"amarelo\", \"rosa\", \"branco\"]\n",
        "\n",
        "# Limite de dados a serem exibidos\n",
        "limite = 2\n",
        "\n",
        "# Percorre a lista de cores até o limite, o valor atual está em cor\n",
        "for cor in itertools.islice(cores, 0, limite):    \n",
        "    print(cor)"
      ],
      "execution_count": 12,
      "outputs": [
        {
          "output_type": "stream",
          "name": "stdout",
          "text": [
            "vermelho\n",
            "azul\n"
          ]
        }
      ]
    },
    {
      "cell_type": "markdown",
      "metadata": {
        "id": "YocA-8PD5FV7"
      },
      "source": [
        "### Limitando a exibição com índice 1\n",
        "\n",
        "Exemplo usando zip"
      ]
    },
    {
      "cell_type": "code",
      "metadata": {
        "id": "hYYeCwVI5HaB",
        "colab": {
          "base_uri": "https://localhost:8080/"
        },
        "outputId": "db0bf59b-a015-4ae7-f27b-750a220fb0a8"
      },
      "source": [
        "# Declara e inicializa uma lista de cores\n",
        "cores = [\"vermelho\", \"azul\", \"verde\", \"amarelo\", \"rosa\", \"branco\"]\n",
        "\n",
        "# Limite de dados a serem exibidos\n",
        "limite = 2\n",
        "\n",
        "# Percorre a lista de cores até o limite, o valor atual está em cor\n",
        "for index, cor in zip(range(limite), cores):\n",
        "    print(index, cor)"
      ],
      "execution_count": 13,
      "outputs": [
        {
          "output_type": "stream",
          "name": "stdout",
          "text": [
            "0 vermelho\n",
            "1 azul\n"
          ]
        }
      ]
    },
    {
      "cell_type": "markdown",
      "metadata": {
        "id": "qHhSY51t4dsr"
      },
      "source": [
        "### Limitando a exibição com índice 2\n",
        "\n",
        "Exemplo usando islice, necessita de import itertools"
      ]
    },
    {
      "cell_type": "code",
      "metadata": {
        "id": "dKfGDpaO4gbZ",
        "colab": {
          "base_uri": "https://localhost:8080/"
        },
        "outputId": "67a66cf5-5938-459f-e90b-1cd6c5242153"
      },
      "source": [
        "# Biblioteca para iteragir\n",
        "import itertools\n",
        "\n",
        "# Declara e inicializa uma lista de cores\n",
        "cores = [\"vermelho\", \"azul\", \"verde\", \"amarelo\", \"rosa\", \"branco\"]\n",
        "\n",
        "# Limite de dados a serem exibidos\n",
        "limite = 2\n",
        "\n",
        "# Percorre a lista de cores até o limite, o valor atual está em cor\n",
        "for index, cor in enumerate(itertools.islice(cores, limite)):\n",
        "    print(index, cor)"
      ],
      "execution_count": 14,
      "outputs": [
        {
          "output_type": "stream",
          "name": "stdout",
          "text": [
            "0 vermelho\n",
            "1 azul\n"
          ]
        }
      ]
    },
    {
      "cell_type": "markdown",
      "metadata": {
        "id": "yzlq0V-mzAHt"
      },
      "source": [
        "## Similaridade de coseno com listas"
      ]
    },
    {
      "cell_type": "code",
      "metadata": {
        "id": "2eCu5fl_zAxj",
        "colab": {
          "base_uri": "https://localhost:8080/"
        },
        "outputId": "729fbb1f-4178-4a9c-9fa9-1639520995f4"
      },
      "source": [
        "# Biblioteca de álgebra linear(matrizes)\n",
        "import numpy as np\n",
        "\n",
        "from scipy.spatial.distance import cosine\n",
        "\n",
        "A = np.array([0, 1, 2, 3]) \n",
        "B = np.array([0, 1, 2, 3]) \n",
        "\n",
        "C = cosine(A,B) \n",
        "\n",
        "print(\"A>\", A)\n",
        "print(\"B>\", B)\n",
        "print(\"C>\", C)\n",
        "\n",
        "D = np.array([0, 1, 4, 5]) \n",
        "E = cosine(A,D) \n",
        "\n",
        "print(\"A>\", A)\n",
        "print(\"D>\", D)\n",
        "print(\"E>\", E)"
      ],
      "execution_count": 15,
      "outputs": [
        {
          "output_type": "stream",
          "name": "stdout",
          "text": [
            "A> [0 1 2 3]\n",
            "B> [0 1 2 3]\n",
            "C> 0.0\n",
            "A> [0 1 2 3]\n",
            "D> [0 1 4 5]\n",
            "E> 0.010256681389212985\n"
          ]
        }
      ]
    },
    {
      "cell_type": "markdown",
      "metadata": {
        "id": "Bo5nSHcHkr5E"
      },
      "source": [
        "## Manutenção de listas\n",
        "\n",
        "http://excript.com/python/incluindo-alterando-excluindo-elementos-lista-python.html\n"
      ]
    },
    {
      "cell_type": "markdown",
      "metadata": {
        "id": "CZw2JxftmdGI"
      },
      "source": [
        "### Adicionando elementos"
      ]
    },
    {
      "cell_type": "code",
      "metadata": {
        "id": "mvaex6wOme4u",
        "colab": {
          "base_uri": "https://localhost:8080/"
        },
        "outputId": "93d32f5d-a858-4078-ec6f-565ee7b9cbee"
      },
      "source": [
        "# Declara e inicializa uma lista de cores\n",
        "cores = [\"vermelho\", \"azul\", \"verde\", \"amarelo\", \"rosa\", \"branco\"]\n",
        "\n",
        "# Mostra a lista\n",
        "print(cores)\n",
        "\n",
        "# Adicionando no final\n",
        "cores.append(\"marron\")\n",
        "\n",
        "# Mostra a lista\n",
        "print(cores)"
      ],
      "execution_count": 16,
      "outputs": [
        {
          "output_type": "stream",
          "name": "stdout",
          "text": [
            "['vermelho', 'azul', 'verde', 'amarelo', 'rosa', 'branco']\n",
            "['vermelho', 'azul', 'verde', 'amarelo', 'rosa', 'branco', 'marron']\n"
          ]
        }
      ]
    },
    {
      "cell_type": "markdown",
      "metadata": {
        "id": "Z9DHKSrtmrVR"
      },
      "source": [
        "### Inserindo elementos"
      ]
    },
    {
      "cell_type": "code",
      "metadata": {
        "id": "OkUXgF2zmryo",
        "colab": {
          "base_uri": "https://localhost:8080/"
        },
        "outputId": "0531878e-08bf-4bfa-d5bc-cdaf30e89e0d"
      },
      "source": [
        "# Declara e inicializa uma lista de cores\n",
        "cores = [\"vermelho\", \"azul\", \"verde\", \"amarelo\", \"rosa\", \"branco\"]\n",
        "\n",
        "# Mostra a lista\n",
        "print(cores)\n",
        "\n",
        "# Adicionando na segunda posição(índice=1)\n",
        "cores.insert(1, \"marron\")\n",
        "\n",
        "# Mostra a lista\n",
        "print(cores)"
      ],
      "execution_count": 17,
      "outputs": [
        {
          "output_type": "stream",
          "name": "stdout",
          "text": [
            "['vermelho', 'azul', 'verde', 'amarelo', 'rosa', 'branco']\n",
            "['vermelho', 'marron', 'azul', 'verde', 'amarelo', 'rosa', 'branco']\n"
          ]
        }
      ]
    },
    {
      "cell_type": "markdown",
      "metadata": {
        "id": "JTZNNWl49XZf"
      },
      "source": [
        "### Adicionando múltiplos elementos"
      ]
    },
    {
      "cell_type": "code",
      "metadata": {
        "id": "MaCBet729Z7s",
        "colab": {
          "base_uri": "https://localhost:8080/"
        },
        "outputId": "d78d7515-e569-4271-fbaa-f63c7bf49c3d"
      },
      "source": [
        "# Declara e inicializa uma lista de cores\n",
        "cores = [\"vermelho\", \"azul\", \"verde\", \"amarelo\", \"rosa\", \"branco\"]\n",
        "\n",
        "# Mostra a lista\n",
        "print(cores)\n",
        "\n",
        "# Adicionando na 2 elementos\n",
        "cores.extend([\"bege\",\"cinza\"])\n",
        "\n",
        "# Mostra a lista\n",
        "print(cores)"
      ],
      "execution_count": 18,
      "outputs": [
        {
          "output_type": "stream",
          "name": "stdout",
          "text": [
            "['vermelho', 'azul', 'verde', 'amarelo', 'rosa', 'branco']\n",
            "['vermelho', 'azul', 'verde', 'amarelo', 'rosa', 'branco', 'bege', 'cinza']\n"
          ]
        }
      ]
    },
    {
      "cell_type": "markdown",
      "metadata": {
        "id": "MHsbWu8Nm7FP"
      },
      "source": [
        "### Alterando elementos"
      ]
    },
    {
      "cell_type": "code",
      "metadata": {
        "id": "HiEcY0Irm9CM",
        "colab": {
          "base_uri": "https://localhost:8080/"
        },
        "outputId": "67245bfe-546b-45f6-8ccb-440b63f11a7a"
      },
      "source": [
        "# Declara e inicializa uma lista de cores\n",
        "cores = [\"vermelho\", \"azul\", \"verde\", \"amarelo\", \"rosa\", \"branco\"]\n",
        "\n",
        "# Mostra a lista\n",
        "print(cores)\n",
        "\n",
        "# Alterando o conteúdo da segunda posição(índice=1)\n",
        "cores[1] = \"marron\"\n",
        "\n",
        "# Mostra a lista\n",
        "print(cores)"
      ],
      "execution_count": 19,
      "outputs": [
        {
          "output_type": "stream",
          "name": "stdout",
          "text": [
            "['vermelho', 'azul', 'verde', 'amarelo', 'rosa', 'branco']\n",
            "['vermelho', 'marron', 'verde', 'amarelo', 'rosa', 'branco']\n"
          ]
        }
      ]
    },
    {
      "cell_type": "markdown",
      "metadata": {
        "id": "4QtUxGfIkulC"
      },
      "source": [
        "### Excluindo elementos pela índice\n"
      ]
    },
    {
      "cell_type": "code",
      "metadata": {
        "id": "r0O8ZTAllwLa",
        "colab": {
          "base_uri": "https://localhost:8080/"
        },
        "outputId": "3cbf3a14-848f-4196-a8db-90c5f11fbf79"
      },
      "source": [
        "# Declara e inicializa uma lista de cores\n",
        "cores = [\"vermelho\", \"azul\", \"verde\", \"amarelo\", \"rosa\", \"branco\"]\n",
        "\n",
        "# Apagando primeiro\n",
        "del cores[0]\n",
        "\n",
        "# Mostra a lista\n",
        "print(cores)\n",
        "\n",
        "# Apagando último\n",
        "del cores[-1]\n",
        "\n",
        "# Mostra a lista\n",
        "print(cores)"
      ],
      "execution_count": 20,
      "outputs": [
        {
          "output_type": "stream",
          "name": "stdout",
          "text": [
            "['azul', 'verde', 'amarelo', 'rosa', 'branco']\n",
            "['azul', 'verde', 'amarelo', 'rosa']\n"
          ]
        }
      ]
    },
    {
      "cell_type": "markdown",
      "metadata": {
        "id": "SRyyiQV199MM"
      },
      "source": [
        "### Excluindo elementos pelo valor"
      ]
    },
    {
      "cell_type": "code",
      "metadata": {
        "id": "sRIBu3xZ99h8",
        "colab": {
          "base_uri": "https://localhost:8080/"
        },
        "outputId": "d202cd82-f8d6-4e77-9604-9e6497fa471c"
      },
      "source": [
        "# Declara e inicializa uma lista de cores\n",
        "cores = [\"vermelho\", \"azul\", \"verde\", \"amarelo\", \"rosa\", \"branco\"]\n",
        "\n",
        "# Mostra a lista\n",
        "print(cores)\n",
        "\n",
        "# Apagando o elemento azul\n",
        "cores.remove(\"azul\")\n",
        "\n",
        "# Mostra a lista\n",
        "print(cores)"
      ],
      "execution_count": 21,
      "outputs": [
        {
          "output_type": "stream",
          "name": "stdout",
          "text": [
            "['vermelho', 'azul', 'verde', 'amarelo', 'rosa', 'branco']\n",
            "['vermelho', 'verde', 'amarelo', 'rosa', 'branco']\n"
          ]
        }
      ]
    },
    {
      "cell_type": "markdown",
      "metadata": {
        "id": "TXEVFZgLnaNX"
      },
      "source": [
        "### Excluindo intervalo de elementos"
      ]
    },
    {
      "cell_type": "code",
      "metadata": {
        "id": "XVuE5GTMnclH",
        "colab": {
          "base_uri": "https://localhost:8080/"
        },
        "outputId": "b2a4fabe-d2c8-4d87-f314-9b0583b26413"
      },
      "source": [
        "# Declara e inicializa uma lista de cores\n",
        "cores = [\"vermelho\", \"azul\", \"verde\", \"amarelo\", \"rosa\", \"branco\"]\n",
        "\n",
        "# Mostra a lista\n",
        "print(cores)\n",
        "\n",
        "# Apagando os elementos do intervalo de 1(segundo) até 4(quinto)\n",
        "del (cores[1:4])\n",
        "\n",
        "# Mostra a lista\n",
        "print(cores)"
      ],
      "execution_count": 22,
      "outputs": [
        {
          "output_type": "stream",
          "name": "stdout",
          "text": [
            "['vermelho', 'azul', 'verde', 'amarelo', 'rosa', 'branco']\n",
            "['vermelho', 'rosa', 'branco']\n"
          ]
        }
      ]
    },
    {
      "cell_type": "markdown",
      "metadata": {
        "id": "X8nv8tl4nLG1"
      },
      "source": [
        "### Excluindo todos os elementos"
      ]
    },
    {
      "cell_type": "code",
      "metadata": {
        "id": "fdSYfk-NnQHQ",
        "colab": {
          "base_uri": "https://localhost:8080/"
        },
        "outputId": "5f76e301-4dab-4f30-dfe2-6e3cd6af399e"
      },
      "source": [
        "# Declara e inicializa uma lista de cores\n",
        "cores = [\"vermelho\", \"azul\", \"verde\", \"amarelo\", \"rosa\", \"branco\"]\n",
        "\n",
        "# Mostra a lista\n",
        "print(cores)\n",
        "\n",
        "# Apagando todos os elementos\n",
        "cores.clear()\n",
        "\n",
        "# Mostra a lista\n",
        "print(cores)"
      ],
      "execution_count": 23,
      "outputs": [
        {
          "output_type": "stream",
          "name": "stdout",
          "text": [
            "['vermelho', 'azul', 'verde', 'amarelo', 'rosa', 'branco']\n",
            "[]\n"
          ]
        }
      ]
    },
    {
      "cell_type": "markdown",
      "metadata": {
        "id": "QB3leiM6g9BU"
      },
      "source": [
        "### Concatenando os dados de uma lista"
      ]
    },
    {
      "cell_type": "code",
      "metadata": {
        "colab": {
          "base_uri": "https://localhost:8080/"
        },
        "id": "PFK6VIZohDl_",
        "outputId": "0e15e282-d63a-452a-eae2-b3227b321034"
      },
      "source": [
        "# Declara e inicializa uma lista de cores\n",
        "cores = [\"vermelho\", \"azul\", \"verde\"]\n",
        "\n",
        "# Mostra a lista\n",
        "print(cores)\n",
        "\n",
        "# Concatena os dados da listas\n",
        "soma = \" \".join(cores)\n",
        "\n",
        "# Mostra a lista\n",
        "print(soma)"
      ],
      "execution_count": 24,
      "outputs": [
        {
          "output_type": "stream",
          "name": "stdout",
          "text": [
            "['vermelho', 'azul', 'verde']\n",
            "vermelho azul verde\n"
          ]
        }
      ]
    },
    {
      "cell_type": "markdown",
      "metadata": {
        "id": "MBhRrcqhZQcZ"
      },
      "source": [
        "### Concatenando duas listas"
      ]
    },
    {
      "cell_type": "code",
      "metadata": {
        "id": "mzXpt4p2ZQca",
        "colab": {
          "base_uri": "https://localhost:8080/"
        },
        "outputId": "59b8eb0f-1644-4077-cb02-182b9d0d3476"
      },
      "source": [
        "# Declara e inicializa uma lista de cores\n",
        "cores1 = [\"vermelho\", \"azul\", \"verde\"]\n",
        "cores2 = [\"amarelo\", \"rosa\", \"branco\"]\n",
        "\n",
        "# Mostra as listas\n",
        "print(cores1)\n",
        "print(cores2)\n",
        "\n",
        "# Concatena as duas listas\n",
        "soma = cores1 + cores2\n",
        "\n",
        "# Mostra a lista\n",
        "print(soma)"
      ],
      "execution_count": 25,
      "outputs": [
        {
          "output_type": "stream",
          "name": "stdout",
          "text": [
            "['vermelho', 'azul', 'verde']\n",
            "['amarelo', 'rosa', 'branco']\n",
            "['vermelho', 'azul', 'verde', 'amarelo', 'rosa', 'branco']\n"
          ]
        }
      ]
    },
    {
      "cell_type": "markdown",
      "metadata": {
        "id": "OTKzy2EOb5tw"
      },
      "source": [
        "### Ordenando listas de números(sort)"
      ]
    },
    {
      "cell_type": "code",
      "metadata": {
        "id": "eewTzk0Xb58D",
        "colab": {
          "base_uri": "https://localhost:8080/"
        },
        "outputId": "9043576c-345e-48f2-e3c0-d398b974a935"
      },
      "source": [
        "# Declara e inicializa uma lista de números\n",
        "lista = [50, 40, 30, 20, 10]\n",
        "\n",
        "# Mostra a lista\n",
        "print(lista)\n",
        "\n",
        "#ordena a lista\n",
        "lista.sort()\n",
        "\n",
        "# Mostra a lista\n",
        "print(lista)"
      ],
      "execution_count": 26,
      "outputs": [
        {
          "output_type": "stream",
          "name": "stdout",
          "text": [
            "[50, 40, 30, 20, 10]\n",
            "[10, 20, 30, 40, 50]\n"
          ]
        }
      ]
    },
    {
      "cell_type": "markdown",
      "metadata": {
        "id": "BFb7QnQ9Du1b"
      },
      "source": [
        "### Ordenando listas de números(sorted)"
      ]
    },
    {
      "cell_type": "code",
      "metadata": {
        "colab": {
          "base_uri": "https://localhost:8080/"
        },
        "id": "TUG1y7JmDu1b",
        "outputId": "428f3d76-7efa-47f1-dbdc-388deed2e0d8"
      },
      "source": [
        "# Declara e inicializa uma lista de números\n",
        "lista = [50, 40, 30, 20, 10]\n",
        "\n",
        "# Mostra a lista\n",
        "print(lista)\n",
        "\n",
        "#ordena a lista\n",
        "listaOrdenada = sorted(lista)\n",
        "\n",
        "# Mostra a lista ordenada\n",
        "print(listaOrdenada)"
      ],
      "execution_count": 27,
      "outputs": [
        {
          "output_type": "stream",
          "name": "stdout",
          "text": [
            "[50, 40, 30, 20, 10]\n",
            "[10, 20, 30, 40, 50]\n"
          ]
        }
      ]
    },
    {
      "cell_type": "markdown",
      "metadata": {
        "id": "Zu4gSAyzcPlB"
      },
      "source": [
        "### Ordenando listas de literais (sort)"
      ]
    },
    {
      "cell_type": "code",
      "metadata": {
        "id": "fH6BPGBqcPlB",
        "colab": {
          "base_uri": "https://localhost:8080/"
        },
        "outputId": "8ac0d32e-324c-4c3e-9a44-4a1cf110840d"
      },
      "source": [
        "# Declara e inicializa uma lista de literais\n",
        "lista = [\"cinquenta\", \"quarenta\", \"trinta\", \"vinta\", \"dez\"]\n",
        "\n",
        "# Mostra a lista\n",
        "print(lista)\n",
        "\n",
        "#ordena a lista\n",
        "lista.sort()\n",
        "\n",
        "# Mostra a lista\n",
        "print(lista)"
      ],
      "execution_count": 28,
      "outputs": [
        {
          "output_type": "stream",
          "name": "stdout",
          "text": [
            "['cinquenta', 'quarenta', 'trinta', 'vinta', 'dez']\n",
            "['cinquenta', 'dez', 'quarenta', 'trinta', 'vinta']\n"
          ]
        }
      ]
    },
    {
      "cell_type": "markdown",
      "metadata": {
        "id": "5o1MsVkIDhdE"
      },
      "source": [
        "### Ordenando listas de literais (sorted)"
      ]
    },
    {
      "cell_type": "code",
      "metadata": {
        "colab": {
          "base_uri": "https://localhost:8080/"
        },
        "id": "HALsAB0-DhdF",
        "outputId": "6a5ea9b5-0d99-4463-fe52-86aa8c4aef36"
      },
      "source": [
        "# Declara e inicializa uma lista de literais\n",
        "lista = [\"cinquenta\", \"quarenta\", \"trinta\", \"vinta\", \"dez\"]\n",
        "\n",
        "# Mostra a lista\n",
        "print(lista)\n",
        "\n",
        "#ordena a lista\n",
        "listaOrdenada = sorted(lista)\n",
        "\n",
        "# Mostra a lista ordenada\n",
        "print(listaOrdenada)"
      ],
      "execution_count": 29,
      "outputs": [
        {
          "output_type": "stream",
          "name": "stdout",
          "text": [
            "['cinquenta', 'quarenta', 'trinta', 'vinta', 'dez']\n",
            "['cinquenta', 'dez', 'quarenta', 'trinta', 'vinta']\n"
          ]
        }
      ]
    },
    {
      "cell_type": "markdown",
      "metadata": {
        "id": "wq1-VV1KEhUK"
      },
      "source": [
        "### Ordenando listas de listas (sorted)\n",
        "\n",
        "Ordena uma lista por determinado valor de uma sublista"
      ]
    },
    {
      "cell_type": "code",
      "metadata": {
        "colab": {
          "base_uri": "https://localhost:8080/"
        },
        "outputId": "993d6aea-939b-4be5-e469-c4a60b8a72e9",
        "id": "99kpY1YlEhUL"
      },
      "source": [
        "# Declara e inicializa uma lista de literais\n",
        "lista = [[2,\"João\", 130],\n",
        "         [3,\"Pedro\", 420],\n",
        "         [1,\"Maria\", 520],\n",
        "         [5,\"Luiz\", 100],\n",
        "         [4,\"Antônio\", 80],\n",
        "        ]\n",
        "\n",
        "# Mostra a lista\n",
        "print(lista)\n",
        "\n",
        "#ordena a lista pelo id (0), \"reverse=False\" é opcional\n",
        "listaOrdenada = sorted(lista, key=lambda x: x[0], reverse=False)\n",
        "\n",
        "# Mostra a lista ordenada\n",
        "print(listaOrdenada)\n",
        "\n",
        "#ordena a lista pelo valor (2), \"reverse=False\" é opcional\n",
        "listaOrdenada = sorted(lista, key=lambda x: x[2], reverse=False)\n",
        "\n",
        "# Mostra a lista ordenada\n",
        "print(listaOrdenada)"
      ],
      "execution_count": 30,
      "outputs": [
        {
          "output_type": "stream",
          "name": "stdout",
          "text": [
            "[[2, 'João', 130], [3, 'Pedro', 420], [1, 'Maria', 520], [5, 'Luiz', 100], [4, 'Antônio', 80]]\n",
            "[[1, 'Maria', 520], [2, 'João', 130], [3, 'Pedro', 420], [4, 'Antônio', 80], [5, 'Luiz', 100]]\n",
            "[[4, 'Antônio', 80], [5, 'Luiz', 100], [2, 'João', 130], [3, 'Pedro', 420], [1, 'Maria', 520]]\n"
          ]
        }
      ]
    },
    {
      "cell_type": "markdown",
      "metadata": {
        "id": "QFJLexjRdMVy"
      },
      "source": [
        "### Procurando valores nas listas"
      ]
    },
    {
      "cell_type": "code",
      "metadata": {
        "id": "6dNlQ3OSdMVz",
        "colab": {
          "base_uri": "https://localhost:8080/"
        },
        "outputId": "a7a1d3c8-0f03-4723-c8f1-b39ef923b25c"
      },
      "source": [
        "# Declara e inicializa uma lista de números\n",
        "lista = [10, 20, 30, 40, 50]\n",
        "\n",
        "# Mostra a lista\n",
        "print(lista)\n",
        "\n",
        "# Verifica a existência de 10 na lista\n",
        "print(10 in lista)\n",
        "\n",
        "# Verifica a existência de 20 na lista\n",
        "if (20 in lista):\n",
        "  print(\"20 existe na lista\")"
      ],
      "execution_count": 31,
      "outputs": [
        {
          "output_type": "stream",
          "name": "stdout",
          "text": [
            "[10, 20, 30, 40, 50]\n",
            "True\n",
            "20 existe na lista\n"
          ]
        }
      ]
    },
    {
      "cell_type": "markdown",
      "metadata": {
        "id": "IPU46C_Dd1QP"
      },
      "source": [
        "### Criando lista com determinados valores"
      ]
    },
    {
      "cell_type": "code",
      "metadata": {
        "id": "oK7nObo9d1QQ",
        "colab": {
          "base_uri": "https://localhost:8080/"
        },
        "outputId": "d488a2f8-5d9f-4723-b550-a9ea6dfcf5cb"
      },
      "source": [
        "# Declara e inicializa uma lista de números\n",
        "lista = [1, 2, 3, 4, 5]\n",
        "\n",
        "# Mostra a lista\n",
        "print(lista)\n",
        "\n",
        "# Cria uma outra lista com os números pares\n",
        "lista_par = [elemento for elemento in lista if elemento % 2 == 0]\n",
        "\n",
        "# Mostra a lista par\n",
        "print(lista_par)\n"
      ],
      "execution_count": 32,
      "outputs": [
        {
          "output_type": "stream",
          "name": "stdout",
          "text": [
            "[1, 2, 3, 4, 5]\n",
            "[2, 4]\n"
          ]
        }
      ]
    },
    {
      "cell_type": "markdown",
      "metadata": {
        "id": "VzBkqboX6FuR"
      },
      "source": [
        "### Criando cópias de listas"
      ]
    },
    {
      "cell_type": "code",
      "metadata": {
        "id": "uuvkEn2t6FuU",
        "colab": {
          "base_uri": "https://localhost:8080/"
        },
        "outputId": "fc0cbda8-7d08-45e1-a333-b5e6cadecc9a"
      },
      "source": [
        "# Declara e inicializa uma lista de números\n",
        "lista1 = [1, 2, 3, 4, 5]\n",
        "\n",
        "# Mostra a lista\n",
        "print(\"Lista1 antes da cópia com \\\"=\\\" :\\n\",lista1)\n",
        "\n",
        "# A cópia com \"=\" cria uma referência para lista1 em lista2\n",
        "lista2 = lista1\n",
        "\n",
        "# Apagando primeiro da lista1 é a mesma coisa que apagar da lista2\n",
        "del lista1[0]\n",
        "\n",
        "# Mostra a lista1\n",
        "print(\"Lista1:\\n\",lista1)\n",
        "\n",
        "# Mostra a lista2\n",
        "print(\"Lista2:\\n\",lista2)\n",
        "\n",
        "#======================================================\n",
        "# Declara e inicializa uma lista de números\n",
        "lista1 = [1, 2, 3, 4, 5]\n",
        "\n",
        "# Mostra a lista\n",
        "print(\"Lista1 antes da cópia com \\\"copy()\\\" :\\n\",lista1)\n",
        "\n",
        "# Para copiar uma lista é necessário utilizar o método copy\n",
        "lista2 = lista1.copy()\n",
        "\n",
        "# Apagando primeiro da lista1 \n",
        "del lista1[0]\n",
        "\n",
        "# Mostra a lista1\n",
        "print(\"Lista1:\\n\",lista1)\n",
        "\n",
        "# Mostra a lista2\n",
        "print(\"Lista2:\\n\",lista2)"
      ],
      "execution_count": 33,
      "outputs": [
        {
          "output_type": "stream",
          "name": "stdout",
          "text": [
            "Lista1 antes da cópia com \"=\" :\n",
            " [1, 2, 3, 4, 5]\n",
            "Lista1:\n",
            " [2, 3, 4, 5]\n",
            "Lista2:\n",
            " [2, 3, 4, 5]\n",
            "Lista1 antes da cópia com \"copy()\" :\n",
            " [1, 2, 3, 4, 5]\n",
            "Lista1:\n",
            " [2, 3, 4, 5]\n",
            "Lista2:\n",
            " [1, 2, 3, 4, 5]\n"
          ]
        }
      ]
    },
    {
      "cell_type": "markdown",
      "metadata": {
        "id": "Uo7TghpB_itL"
      },
      "source": [
        "### Criando lista preenchida com números\n",
        "\n",
        "0 - início do intervalo\n",
        "10 - final do intervalo"
      ]
    },
    {
      "cell_type": "code",
      "metadata": {
        "colab": {
          "base_uri": "https://localhost:8080/"
        },
        "id": "NgoS0PEH_itM",
        "outputId": "890913d6-4fc4-4bed-e9df-2d4e7c208fb6"
      },
      "source": [
        "# Declara e inicializa uma lista de números\n",
        "lista1 = list(range(0, 10))\n",
        "\n",
        "# Mostra a lista1\n",
        "print(\"Lista1:\\n\",lista1)"
      ],
      "execution_count": 34,
      "outputs": [
        {
          "output_type": "stream",
          "name": "stdout",
          "text": [
            "Lista1:\n",
            " [0, 1, 2, 3, 4, 5, 6, 7, 8, 9]\n"
          ]
        }
      ]
    },
    {
      "cell_type": "markdown",
      "metadata": {
        "id": "pummAH-dM1c7"
      },
      "source": [
        "### Gerando as permutações de uma lista de inteiros\n",
        "\n"
      ]
    },
    {
      "cell_type": "code",
      "metadata": {
        "colab": {
          "base_uri": "https://localhost:8080/"
        },
        "id": "QV5i_8N2M1dG",
        "outputId": "b06c912f-2d4b-4cfd-e1ca-4fe33ffc6018"
      },
      "source": [
        "# Biblioteca para gerar as permutações\n",
        "import itertools\n",
        "\n",
        "# Declara e inicializa uma lista de números\n",
        "lista1 = [1,2,3]\n",
        "\n",
        "# Retorna uma lista com as permutações da lista1\n",
        "permutacao = list(itertools.permutations(lista1))\n",
        "\n",
        "# Mostra a lista1\n",
        "print(\"Lista1:\\n\",lista1)\n",
        "\n",
        "# Mostra a permutacao\n",
        "print(\"Permutacao:\\n\",permutacao)"
      ],
      "execution_count": 35,
      "outputs": [
        {
          "output_type": "stream",
          "name": "stdout",
          "text": [
            "Lista1:\n",
            " [1, 2, 3]\n",
            "Permutacao:\n",
            " [(1, 2, 3), (1, 3, 2), (2, 1, 3), (2, 3, 1), (3, 1, 2), (3, 2, 1)]\n"
          ]
        }
      ]
    },
    {
      "cell_type": "markdown",
      "metadata": {
        "id": "N0R-kd5hNa7A"
      },
      "source": [
        "### Gerando as permutações de uma lista de strings\n",
        "\n"
      ]
    },
    {
      "cell_type": "code",
      "metadata": {
        "colab": {
          "base_uri": "https://localhost:8080/"
        },
        "id": "PU0IAjixNa7A",
        "outputId": "853bff4a-b310-4ea4-a9a4-0b4513abe294"
      },
      "source": [
        "# Biblioteca para gerar as permutações\n",
        "import itertools\n",
        "\n",
        "# Declara e inicializa uma lista de strings\n",
        "lista1 = [\"uva\",\"laranja\",\"banana\"]\n",
        "\n",
        "# Retorna uma lista com as permutações da lista1\n",
        "permutacao = list(itertools.permutations(lista1))\n",
        "\n",
        "# Mostra a lista1\n",
        "print(\"Lista1:\\n\",lista1)\n",
        "\n",
        "# Mostra a permutacao\n",
        "print(\"Permutacao:\\n\",permutacao)"
      ],
      "execution_count": 36,
      "outputs": [
        {
          "output_type": "stream",
          "name": "stdout",
          "text": [
            "Lista1:\n",
            " ['uva', 'laranja', 'banana']\n",
            "Permutacao:\n",
            " [('uva', 'laranja', 'banana'), ('uva', 'banana', 'laranja'), ('laranja', 'uva', 'banana'), ('laranja', 'banana', 'uva'), ('banana', 'uva', 'laranja'), ('banana', 'laranja', 'uva')]\n"
          ]
        }
      ]
    },
    {
      "cell_type": "markdown",
      "metadata": {
        "id": "yETUcyIrjOKf"
      },
      "source": [
        "### Gerando as permutações de uma lista de strings com função"
      ]
    },
    {
      "cell_type": "code",
      "metadata": {
        "colab": {
          "base_uri": "https://localhost:8080/"
        },
        "id": "tqOyIUXhjZwN",
        "outputId": "e13392f6-9f1d-4369-9809-b8529acfb428"
      },
      "source": [
        "# Biblioteca para gerar números aleatórios\n",
        "import random\n",
        "import math\n",
        "\n",
        "def geraPermutacao(lista):\n",
        "    # Conjunto para tratar as repetições\n",
        "    conjunto = set()\n",
        "    # Tamanho da lista\n",
        "    tamanhoLista = len(lista)\n",
        "    # Adiciona o conjunto inicial \n",
        "    inicio = tuple(lista)\n",
        "    while True:\n",
        "        # Gera uma permutação aleatória da lista\n",
        "        permutado = tuple(random.sample(lista, tamanhoLista))\n",
        "        # Permutado diferente de qualquer elemento do conjunto ou da lista\n",
        "        if permutado not in conjunto and permutado != inicio:\n",
        "            # Adiciona no conjunto\n",
        "            conjunto.add(permutado)         \n",
        "            yield permutado\n",
        "\n",
        "def geradorPermutacao(lista, qtde):\n",
        "    # Lista para retornar as permutações\n",
        "    listaR = []\n",
        "    # Verifica a quantidade de permutações possíveis\n",
        "    if qtde <= math.factorial(len(lista)):\n",
        "      # Gera as permutações    \n",
        "      listaP = geraPermutacao(lista)\n",
        "      # Seleciona qtde-1 permutações\n",
        "      listaP = [next(listaP) for _ in range(qtde-1)]\n",
        "      # Converte em uma lista de lista, pois é uma lista de tuplas\n",
        "      listaR = [list(x) for x in listaP]\n",
        "      # Adiciona o primeiro elemento na lista\n",
        "      listaR.insert(0,lista)\n",
        "    else:\n",
        "      print(\"A quantidade de permutações deve ser menor ou igual ao fatorial do tamanho da lista\")\n",
        "    return listaR\n",
        "\n",
        "# Declara e inicializa uma lista de strings\n",
        "lista1 = [\"uva\",\"laranja\",\"banana\"]\n",
        "\n",
        "# Retorna uma lista com as permutações da lista1\n",
        "permutacao = geradorPermutacao(lista1,6)\n",
        "\n",
        "# Mostra a lista1\n",
        "print(\"Lista1:\\n\",lista1)\n",
        "\n",
        "# Mostra a permutacao\n",
        "print(\"Permutacao:\\n\",permutacao)"
      ],
      "execution_count": 37,
      "outputs": [
        {
          "output_type": "stream",
          "name": "stdout",
          "text": [
            "Lista1:\n",
            " ['uva', 'laranja', 'banana']\n",
            "Permutacao:\n",
            " [['uva', 'laranja', 'banana'], ['banana', 'uva', 'laranja'], ['uva', 'banana', 'laranja'], ['banana', 'laranja', 'uva'], ['laranja', 'uva', 'banana'], ['laranja', 'banana', 'uva']]\n"
          ]
        }
      ]
    },
    {
      "cell_type": "markdown",
      "metadata": {
        "id": "0IIpfGj-T5jF"
      },
      "source": [
        "### Encontrando uma sublista em uma lista"
      ]
    },
    {
      "cell_type": "code",
      "metadata": {
        "id": "eZKAgdjgT5wP"
      },
      "source": [
        "# Localiza os índices de início e fim de uma sublista em uma lista\n",
        "def encontrarIndiceSubLista(lista, sublista):\n",
        "    # https://en.wikipedia.org/wiki/Boyer%E2%80%93Moore%E2%80%93Horspool_algorithm\n",
        "    h = len(lista)\n",
        "    n = len(sublista)\n",
        "    skip = {sublista[i]: n - i - 1 for i in range(n - 1)}\n",
        "    i = n - 1\n",
        "    while i < h:\n",
        "        for j in range(n):\n",
        "            if lista[i - j] != sublista[-j - 1]:\n",
        "                i += skip.get(lista[i], n)\n",
        "                break\n",
        "        else:\n",
        "            indiceInicio = i - n + 1\n",
        "            indiceFim = indiceInicio + len(sublista)-1\n",
        "            return indiceInicio, indiceFim\n",
        "    return -1, -1"
      ],
      "execution_count": 38,
      "outputs": []
    },
    {
      "cell_type": "code",
      "source": [
        "lista = [1,2,3,4,5,6,7]\n",
        "sublista = [3,4,5]\n",
        "\n",
        "indiceInicio, indiceFim = encontrarIndiceSubLista(lista, sublista)\n",
        "\n",
        "print(indiceInicio, indiceFim)"
      ],
      "metadata": {
        "colab": {
          "base_uri": "https://localhost:8080/"
        },
        "id": "sxHQ5M98QWlh",
        "outputId": "4196d4a8-62f4-49d8-e651-781bea1d325f"
      },
      "execution_count": 39,
      "outputs": [
        {
          "output_type": "stream",
          "name": "stdout",
          "text": [
            "2 4\n"
          ]
        }
      ]
    },
    {
      "cell_type": "markdown",
      "source": [
        "### Conta um determinado elemento em uma lista"
      ],
      "metadata": {
        "id": "YzUwbLg0QsEm"
      }
    },
    {
      "cell_type": "code",
      "source": [
        "def contaElemento(lista, elemento):\n",
        "    \"\"\" \n",
        "      Conta o número de ocorrências do elemento na lista.\n",
        "          \n",
        "      Parâmetros:\n",
        "        `lista` - Lista com os elementos.\n",
        "        `elemento` - Elemento a ser contado a ocorrência na lista.\n",
        "\n",
        "      Retorno:    \n",
        "        `cont` - Quantidade de ocorrências de elmento na lista.\n",
        "    \"\"\"\n",
        "    cont = 0\n",
        "    # Percorre a lista\n",
        "    for i, linha in enumerate(lista):      \n",
        "      # Verifica se o elemento existe na lista\n",
        "      if linha in elemento:\n",
        "        # conta o elemento\n",
        "        cont = cont + 1\n",
        "    return cont"
      ],
      "metadata": {
        "id": "ER-hypv9QyBh"
      },
      "execution_count": 40,
      "outputs": []
    },
    {
      "cell_type": "code",
      "source": [
        "lista = [1,2,2,3,3,3,4,4,5]\n",
        "\n",
        "conta = contaElemento(lista, [2])\n",
        "\n",
        "print(conta)"
      ],
      "metadata": {
        "colab": {
          "base_uri": "https://localhost:8080/"
        },
        "id": "hnlqcbDAQyNQ",
        "outputId": "1ce1c92f-fc5f-44f8-f44f-d5a30788ff07"
      },
      "execution_count": 41,
      "outputs": [
        {
          "output_type": "stream",
          "name": "stdout",
          "text": [
            "2\n"
          ]
        }
      ]
    },
    {
      "cell_type": "markdown",
      "source": [
        "### Percorrendo uma lista considerando uma quantidade(janela) de elementos antes é depois. "
      ],
      "metadata": {
        "id": "NQpUx9M7T11J"
      }
    },
    {
      "cell_type": "code",
      "source": [
        "def getJanelasLista(lista, janela):\n",
        "  \"\"\" \n",
        "     Cria janelas de itens de uma lista\n",
        "         \n",
        "     Parâmetros:\n",
        "       `lista` - Lista com os elementos.\n",
        "       `janela` - Tamanho da janela a ser montada.\n",
        "\n",
        "     Retorno:    \n",
        "       `listaRetorno` - Lista com os itens em janelas\n",
        "  \"\"\"\n",
        "  listaRetorno = []\n",
        "\n",
        "  # Percorre a lista\n",
        "  for i, sentenca in enumerate(lista):\n",
        "    #print(\"\\nJanela :\", i)\n",
        "    \n",
        "    # Guarda os itens da janela\n",
        "    listaJanela = []    \n",
        "    # Inicio da lista sem janelas completas antes\n",
        "    if i < janela:  \n",
        "\n",
        "      #print(\"Inicio da lista\") \n",
        "      # Sentenças anteriores\n",
        "      #Evita estourar o início da lista\n",
        "      inicio = 0\n",
        "      fim = i\n",
        "      for j in range(inicio, fim):        \n",
        "        #print(\"  \", lista[j])\n",
        "        listaJanela.append(lista[j])\n",
        "\n",
        "      # Sentença central\n",
        "      #print(\"  >\", i, lista[i])\n",
        "      listaJanela.append(lista[i])\n",
        "\n",
        "      # Sentenças posteriores\n",
        "      inicio = i + 1\n",
        "      fim = i + janela + 1\n",
        "      for j in range(inicio,fim):        \n",
        "        #print(\"  \", lista[j])\n",
        "        listaJanela.append(lista[j])\n",
        "        \n",
        "    else:\n",
        "      # Meio da lista com janelas completas antes e depois\n",
        "      if i < len(lista)-janela:\n",
        "        #listaJanela = []\n",
        "        #print(\" Meio da lista\")\n",
        "\n",
        "        # Sentenças anteriores\n",
        "        inicio = i - janela         \n",
        "        fim = i\n",
        "        for j in range(inicio, fim):          \n",
        "          #print(\"  \", lista[j])\n",
        "          listaJanela.append(lista[j])\n",
        "          \n",
        "        # Sentença central\n",
        "        #print(\"  >\", i, lista[i])\n",
        "        listaJanela.append(lista[i])\n",
        "\n",
        "        # Sentenças posteriores\n",
        "        inicio = i + 1\n",
        "        fim = i + 1 + janela\n",
        "        for j in range(inicio,fim):      \n",
        "          #print(\"  \", lista[j])\n",
        "          listaJanela.append(lista[j])\n",
        "\n",
        "      else:\n",
        "        # Fim da lista sem janelas completas depois\n",
        "        if i >= len(lista)-janela:\n",
        "          #listaJanela = []\n",
        "          #print(\"Fim da lista\")    \n",
        "          \n",
        "          # Sentenças anteriores\n",
        "          inicio = i - janela\n",
        "          fim = i\n",
        "          for j in range(inicio, fim):\n",
        "              #print(\"  \", lista[j])\n",
        "              listaJanela.append(lista[j])\n",
        "\n",
        "          # Sentença central\n",
        "          #print(\"  >\", i, lista[i])\n",
        "          listaJanela.append(lista[i])\n",
        "\n",
        "          # Sentenças posteriores\n",
        "          inicio = i + 1\n",
        "          fim = i + 1 + janela \n",
        "          # Evita o extrapolar o limite da lista de sentenças\n",
        "          if fim > len(lista):\n",
        "            fim = len(lista)\n",
        "          for j in range(inicio,fim):\n",
        "            #print(\"  \", lista[j])\n",
        "            listaJanela.append(lista[j])\n",
        "    \n",
        "    # Guardando janela    \n",
        "    listaRetorno.append(listaJanela)\n",
        "\n",
        "  return listaRetorno   "
      ],
      "metadata": {
        "id": "KdewX1TlIXAv"
      },
      "execution_count": 42,
      "outputs": []
    },
    {
      "cell_type": "code",
      "source": [
        "lista = [\"Sentença 0\",\n",
        "         \"Sentença 1\",\n",
        "         \"Sentença 2\",\n",
        "         \"Sentença 3\",\n",
        "         \"Sentença 4\",\n",
        "         \"Sentença 5\",\n",
        "         \"Sentença 6\",]\n",
        "\n",
        "janela = 2\n",
        "\n",
        "listaJanelas = getJanelasLista(lista, janela)        \n",
        "\n",
        "for i, x in enumerate(listaJanelas):\n",
        "  print(i, x)"
      ],
      "metadata": {
        "colab": {
          "base_uri": "https://localhost:8080/"
        },
        "id": "sQsTRL-WL0tf",
        "outputId": "4b3020ab-fb44-4aac-c02a-10d18a73b9ae"
      },
      "execution_count": 43,
      "outputs": [
        {
          "output_type": "stream",
          "name": "stdout",
          "text": [
            "0 ['Sentença 0', 'Sentença 1', 'Sentença 2']\n",
            "1 ['Sentença 0', 'Sentença 1', 'Sentença 2', 'Sentença 3']\n",
            "2 ['Sentença 0', 'Sentença 1', 'Sentença 2', 'Sentença 3', 'Sentença 4']\n",
            "3 ['Sentença 1', 'Sentença 2', 'Sentença 3', 'Sentença 4', 'Sentença 5']\n",
            "4 ['Sentença 2', 'Sentença 3', 'Sentença 4', 'Sentença 5', 'Sentença 6']\n",
            "5 ['Sentença 3', 'Sentença 4', 'Sentença 5', 'Sentença 6']\n",
            "6 ['Sentença 4', 'Sentença 5', 'Sentença 6']\n"
          ]
        }
      ]
    },
    {
      "cell_type": "markdown",
      "metadata": {
        "id": "h-tCU1iqlfMP"
      },
      "source": [
        "## Frequência de elementos em uma lista gerando dicionário"
      ]
    },
    {
      "cell_type": "code",
      "metadata": {
        "colab": {
          "base_uri": "https://localhost:8080/"
        },
        "id": "0f6mJbqelfVW",
        "outputId": "13fc74f7-9be0-44f2-f878-943b29b2158b"
      },
      "source": [
        "# Biblioteca para gerar a frequência\n",
        "import collections\n",
        "\n",
        "# Lista dos dados\n",
        "lista = [1,1,1,1,2,2,2,3,3,3]\n",
        "\n",
        "# Recupera a frequência da lista retornando um dicionario\n",
        "conjunto = collections.Counter(lista)\n",
        "print(conjunto)\n",
        "\n",
        "# Lista os valores e a frequência\n",
        "for chave, valor in conjunto.items():\n",
        "  print(\"chave=\",chave,\" valor=\", valor)"
      ],
      "execution_count": 44,
      "outputs": [
        {
          "output_type": "stream",
          "name": "stdout",
          "text": [
            "Counter({1: 4, 2: 3, 3: 3})\n",
            "chave= 1  valor= 4\n",
            "chave= 2  valor= 3\n",
            "chave= 3  valor= 3\n"
          ]
        }
      ]
    },
    {
      "cell_type": "markdown",
      "metadata": {
        "id": "Xx3TA_qEZ-dD"
      },
      "source": [
        "## Frequência de elementos em uma lista gerando lista\n",
        "\n"
      ]
    },
    {
      "cell_type": "code",
      "metadata": {
        "colab": {
          "base_uri": "https://localhost:8080/"
        },
        "id": "T2qN7wxcZ-dF",
        "outputId": "f88b5869-7cc9-41d6-d753-7c509254f88a"
      },
      "source": [
        "# Biblioteca para gerar a frequência\n",
        "import collections\n",
        "\n",
        "# Lista dos dados\n",
        "lista = [1,1,1,1,2,2,2,3,3,3]\n",
        "\n",
        "# Recupera a frequência da lista retornando um dicionario\n",
        "conjunto = collections.Counter(lista)\n",
        "print(conjunto)\n",
        "\n",
        "lista_frequencia = []\n",
        "# Lista os valores e a frequência\n",
        "for chave, valor in conjunto.items():\n",
        "  lista_frequencia.append([chave,valor])\n",
        "  \n",
        "# Lista os valores e a frequência\n",
        "for i, linha in enumerate(lista_frequencia):\n",
        "  print(linha)"
      ],
      "execution_count": 45,
      "outputs": [
        {
          "output_type": "stream",
          "name": "stdout",
          "text": [
            "Counter({1: 4, 2: 3, 3: 3})\n",
            "[1, 4]\n",
            "[2, 3]\n",
            "[3, 3]\n"
          ]
        }
      ]
    },
    {
      "cell_type": "markdown",
      "metadata": {
        "id": "u87Nm6Tue0Az"
      },
      "source": [
        "## Frequência de elementos em uma lista com base fixa\n",
        "\n",
        "Conta a frequência dos elementos de uma lista e gera um dicionário com as quantidades.\n",
        "Usa um conjunto base para chaves para identificar o valor."
      ]
    },
    {
      "cell_type": "code",
      "metadata": {
        "colab": {
          "base_uri": "https://localhost:8080/"
        },
        "outputId": "6aaf67ee-11e9-4e21-beba-4a80d9c00a34",
        "id": "o4Kk1EJ0e0Az"
      },
      "source": [
        "# Biblioteca para gerar a frequência\n",
        "import collections\n",
        "\n",
        "# Lista dos dados\n",
        "lista = [1,1,1,1,2,2,2,3,3,3]\n",
        "\n",
        "# Conjunto base\n",
        "conjunto = {1:0, 2:0, 3:0, 4:0}\n",
        "\n",
        "for x in lista:\n",
        "  valor = conjunto.get(x)\n",
        "  conjunto[x] = valor + 1\n",
        "\n",
        "print(conjunto)\n",
        "\n",
        "# Lista os valores e a frequência\n",
        "for chave, valor in conjunto.items():\n",
        "  print(\"chave=\",chave,\" valor=\", valor)"
      ],
      "execution_count": 46,
      "outputs": [
        {
          "output_type": "stream",
          "name": "stdout",
          "text": [
            "{1: 4, 2: 3, 3: 3, 4: 0}\n",
            "chave= 1  valor= 4\n",
            "chave= 2  valor= 3\n",
            "chave= 3  valor= 3\n",
            "chave= 4  valor= 0\n"
          ]
        }
      ]
    },
    {
      "cell_type": "markdown",
      "metadata": {
        "id": "wGYnCtY1kp3j"
      },
      "source": [
        "## Lista de lista"
      ]
    },
    {
      "cell_type": "markdown",
      "metadata": {
        "id": "gecruyNzkv-t"
      },
      "source": [
        "### Declarando e listando"
      ]
    },
    {
      "cell_type": "code",
      "metadata": {
        "id": "aFGwLBdokzoc",
        "colab": {
          "base_uri": "https://localhost:8080/"
        },
        "outputId": "37da08df-67ff-4922-ee14-ae2ea4610dc2"
      },
      "source": [
        "# Declaração\n",
        "lista = [[1,\"joão\"],[2,\"maria\"],[3,\"pedro\"],[4,\"josé\"]]\n",
        "\n",
        "# Tamanho da lista\n",
        "print(\"Tamanho da lista:\", len(lista))\n",
        "\n",
        "# Mostrando a lista\n",
        "for linha1 in lista:\n",
        "   print(linha1[0], linha1[1])\n",
        "   for linha2 in linha1:\n",
        "      print(\"   \", linha2)"
      ],
      "execution_count": 47,
      "outputs": [
        {
          "output_type": "stream",
          "name": "stdout",
          "text": [
            "Tamanho da lista: 4\n",
            "1 joão\n",
            "    1\n",
            "    joão\n",
            "2 maria\n",
            "    2\n",
            "    maria\n",
            "3 pedro\n",
            "    3\n",
            "    pedro\n",
            "4 josé\n",
            "    4\n",
            "    josé\n"
          ]
        }
      ]
    },
    {
      "cell_type": "markdown",
      "metadata": {
        "id": "-gu3kOqmlVeP"
      },
      "source": [
        "### Criando listas condicionadas\n",
        "\n",
        "Cria uma lista nova com as condições especificadas"
      ]
    },
    {
      "cell_type": "code",
      "metadata": {
        "id": "fu2ONDiulQtQ",
        "colab": {
          "base_uri": "https://localhost:8080/"
        },
        "outputId": "0bad733b-f796-4c8d-e6aa-0fc69b1faa8e"
      },
      "source": [
        "# Declaração\n",
        "lista = [[1,\"joão\"],[2,\"maria\"],[3,\"pedro\"],[4,\"josé\"]]\n",
        "\n",
        "# Tamanho da lista\n",
        "print(\"Tamanho da lista:\", len(lista))\n",
        "\n",
        "# Cria uma lista dos valores com a posição 0 maior que 2\n",
        "lista_nova = [linha for linha in lista if linha[0] > 2]\n",
        "\n",
        "# Tamanho da lista nova\n",
        "print(\"Tamanho da lista nova:\", len(lista_nova))\n",
        "\n",
        "# Mostrando a lista nova\n",
        "for linha in lista_nova:\n",
        "   print(linha[0], linha[1])"
      ],
      "execution_count": 48,
      "outputs": [
        {
          "output_type": "stream",
          "name": "stdout",
          "text": [
            "Tamanho da lista: 4\n",
            "Tamanho da lista nova: 2\n",
            "3 pedro\n",
            "4 josé\n"
          ]
        }
      ]
    },
    {
      "cell_type": "markdown",
      "metadata": {
        "id": "FEkyfiGil7j1"
      },
      "source": [
        "### Criando listas de elementos\n",
        "\n",
        "Cria uma lista com os elementos que atendem  as condições especificadas"
      ]
    },
    {
      "cell_type": "code",
      "metadata": {
        "id": "VdT8yqizl7j3",
        "colab": {
          "base_uri": "https://localhost:8080/"
        },
        "outputId": "afa11698-0909-43e8-d133-fdf1fa1fc757"
      },
      "source": [
        "# Declaração\n",
        "lista = [[1,\"joão\"],[2,\"maria\"],[3,\"pedro\"],[4,\"josé\"]]\n",
        "\n",
        "# Tamanho da lista\n",
        "print(\"Tamanho da lista:\", len(lista))\n",
        "\n",
        "# Cria uma lista dos valores de linha[0] com a posição 0 maior que 2\n",
        "lista_nova = [linha[0] for linha in lista if linha[0] > 2]\n",
        "\n",
        "# Tamanho da lista nova com linha[0]\n",
        "print(\"Tamanho da lista nova(linha[0]):\", len(lista_nova))\n",
        "\n",
        "# Mostrando a lista nova\n",
        "print(lista_nova)"
      ],
      "execution_count": 49,
      "outputs": [
        {
          "output_type": "stream",
          "name": "stdout",
          "text": [
            "Tamanho da lista: 4\n",
            "Tamanho da lista nova(linha[0]): 2\n",
            "[3, 4]\n"
          ]
        }
      ]
    },
    {
      "cell_type": "markdown",
      "metadata": {
        "id": "TahJABonrLty"
      },
      "source": [
        "### Criando lista de elementos\n",
        "Cria uma lista com os elementos que atendem  as condições especificadas"
      ]
    },
    {
      "cell_type": "code",
      "metadata": {
        "id": "KKlYBLSOrLt0",
        "colab": {
          "base_uri": "https://localhost:8080/"
        },
        "outputId": "ef6e759b-6921-4755-cf29-7a21a4a0ed20"
      },
      "source": [
        "# Declaração\n",
        "lista = [[1,\"joão\"],[2,\"maria\"],[3,\"pedro\"],[4,\"josé\"]]\n",
        "\n",
        "# Tamanho da lista\n",
        "print(\"Tamanho da lista:\", len(lista))\n",
        "\n",
        "# Cria uma lista dos valores de linha[0] com a posição 0 maior que 2\n",
        "lista_nova = [linha[0] for linha in lista if linha[0] > 2]\n",
        "\n",
        "# Cria a lista com os valores que estão no conjunto anterior\n",
        "lista = [linha for linha in lista if linha[0] in lista_nova]\n",
        "\n",
        "# Tamanho da lista nova\n",
        "print(\"Tamanho da lista nova:\", len(lista_nova))\n",
        "\n",
        "# Mostrando a lista nova\n",
        "print(lista_nova)\n",
        "\n",
        "# Mostra a lista\n",
        "print(lista)"
      ],
      "execution_count": 50,
      "outputs": [
        {
          "output_type": "stream",
          "name": "stdout",
          "text": [
            "Tamanho da lista: 4\n",
            "Tamanho da lista nova: 2\n",
            "[3, 4]\n",
            "[[3, 'pedro'], [4, 'josé']]\n"
          ]
        }
      ]
    },
    {
      "cell_type": "markdown",
      "metadata": {
        "id": "gsxfvsSUf7Ud"
      },
      "source": [
        "## Convertendo listas em dataFrames\n",
        "\n",
        "Converte uma lista de dados em um pandas dataFrame."
      ]
    },
    {
      "cell_type": "code",
      "metadata": {
        "id": "x14TDRvBgANW",
        "colab": {
          "base_uri": "https://localhost:8080/",
          "height": 320
        },
        "outputId": "7c28276d-1544-4282-802b-11d26ab9a4c3"
      },
      "source": [
        "# Biblioteca de processamento de dados, I/O em arquivo csv (ex. pd.DataFrame.from_records)\n",
        "import pandas as pd\n",
        "\n",
        "# Lista com os dados\n",
        "lista = [[1,\"joão\"],[2,\"maria\"],[3,\"pedro\"],[4,\"josé\"]]\n",
        "\n",
        "# Mostrando a lista\n",
        "for linha in lista:\n",
        "   print(linha[0], linha[1])\n",
        "\n",
        "print(\"\\n Depois da conversão\\n\")\n",
        "\n",
        "# Converte a lista de lista em um dataframe\n",
        "df = pd.DataFrame.from_records(lista, columns=[\"id\", \"nome\"])\n",
        "\n",
        "# Mostra os dados\n",
        "print(df)\n",
        "\n",
        "# Mostra 2 dados aleatórios\n",
        "df.sample(2)"
      ],
      "execution_count": 51,
      "outputs": [
        {
          "output_type": "stream",
          "name": "stdout",
          "text": [
            "1 joão\n",
            "2 maria\n",
            "3 pedro\n",
            "4 josé\n",
            "\n",
            " Depois da conversão\n",
            "\n",
            "   id   nome\n",
            "0   1   joão\n",
            "1   2  maria\n",
            "2   3  pedro\n",
            "3   4   josé\n"
          ]
        },
        {
          "output_type": "execute_result",
          "data": {
            "text/html": [
              "\n",
              "  <div id=\"df-7f9ca031-3031-46d4-a40a-44ec110e0214\">\n",
              "    <div class=\"colab-df-container\">\n",
              "      <div>\n",
              "<style scoped>\n",
              "    .dataframe tbody tr th:only-of-type {\n",
              "        vertical-align: middle;\n",
              "    }\n",
              "\n",
              "    .dataframe tbody tr th {\n",
              "        vertical-align: top;\n",
              "    }\n",
              "\n",
              "    .dataframe thead th {\n",
              "        text-align: right;\n",
              "    }\n",
              "</style>\n",
              "<table border=\"1\" class=\"dataframe\">\n",
              "  <thead>\n",
              "    <tr style=\"text-align: right;\">\n",
              "      <th></th>\n",
              "      <th>id</th>\n",
              "      <th>nome</th>\n",
              "    </tr>\n",
              "  </thead>\n",
              "  <tbody>\n",
              "    <tr>\n",
              "      <th>2</th>\n",
              "      <td>3</td>\n",
              "      <td>pedro</td>\n",
              "    </tr>\n",
              "    <tr>\n",
              "      <th>1</th>\n",
              "      <td>2</td>\n",
              "      <td>maria</td>\n",
              "    </tr>\n",
              "  </tbody>\n",
              "</table>\n",
              "</div>\n",
              "      <button class=\"colab-df-convert\" onclick=\"convertToInteractive('df-7f9ca031-3031-46d4-a40a-44ec110e0214')\"\n",
              "              title=\"Convert this dataframe to an interactive table.\"\n",
              "              style=\"display:none;\">\n",
              "        \n",
              "  <svg xmlns=\"http://www.w3.org/2000/svg\" height=\"24px\"viewBox=\"0 0 24 24\"\n",
              "       width=\"24px\">\n",
              "    <path d=\"M0 0h24v24H0V0z\" fill=\"none\"/>\n",
              "    <path d=\"M18.56 5.44l.94 2.06.94-2.06 2.06-.94-2.06-.94-.94-2.06-.94 2.06-2.06.94zm-11 1L8.5 8.5l.94-2.06 2.06-.94-2.06-.94L8.5 2.5l-.94 2.06-2.06.94zm10 10l.94 2.06.94-2.06 2.06-.94-2.06-.94-.94-2.06-.94 2.06-2.06.94z\"/><path d=\"M17.41 7.96l-1.37-1.37c-.4-.4-.92-.59-1.43-.59-.52 0-1.04.2-1.43.59L10.3 9.45l-7.72 7.72c-.78.78-.78 2.05 0 2.83L4 21.41c.39.39.9.59 1.41.59.51 0 1.02-.2 1.41-.59l7.78-7.78 2.81-2.81c.8-.78.8-2.07 0-2.86zM5.41 20L4 18.59l7.72-7.72 1.47 1.35L5.41 20z\"/>\n",
              "  </svg>\n",
              "      </button>\n",
              "      \n",
              "  <style>\n",
              "    .colab-df-container {\n",
              "      display:flex;\n",
              "      flex-wrap:wrap;\n",
              "      gap: 12px;\n",
              "    }\n",
              "\n",
              "    .colab-df-convert {\n",
              "      background-color: #E8F0FE;\n",
              "      border: none;\n",
              "      border-radius: 50%;\n",
              "      cursor: pointer;\n",
              "      display: none;\n",
              "      fill: #1967D2;\n",
              "      height: 32px;\n",
              "      padding: 0 0 0 0;\n",
              "      width: 32px;\n",
              "    }\n",
              "\n",
              "    .colab-df-convert:hover {\n",
              "      background-color: #E2EBFA;\n",
              "      box-shadow: 0px 1px 2px rgba(60, 64, 67, 0.3), 0px 1px 3px 1px rgba(60, 64, 67, 0.15);\n",
              "      fill: #174EA6;\n",
              "    }\n",
              "\n",
              "    [theme=dark] .colab-df-convert {\n",
              "      background-color: #3B4455;\n",
              "      fill: #D2E3FC;\n",
              "    }\n",
              "\n",
              "    [theme=dark] .colab-df-convert:hover {\n",
              "      background-color: #434B5C;\n",
              "      box-shadow: 0px 1px 3px 1px rgba(0, 0, 0, 0.15);\n",
              "      filter: drop-shadow(0px 1px 2px rgba(0, 0, 0, 0.3));\n",
              "      fill: #FFFFFF;\n",
              "    }\n",
              "  </style>\n",
              "\n",
              "      <script>\n",
              "        const buttonEl =\n",
              "          document.querySelector('#df-7f9ca031-3031-46d4-a40a-44ec110e0214 button.colab-df-convert');\n",
              "        buttonEl.style.display =\n",
              "          google.colab.kernel.accessAllowed ? 'block' : 'none';\n",
              "\n",
              "        async function convertToInteractive(key) {\n",
              "          const element = document.querySelector('#df-7f9ca031-3031-46d4-a40a-44ec110e0214');\n",
              "          const dataTable =\n",
              "            await google.colab.kernel.invokeFunction('convertToInteractive',\n",
              "                                                     [key], {});\n",
              "          if (!dataTable) return;\n",
              "\n",
              "          const docLinkHtml = 'Like what you see? Visit the ' +\n",
              "            '<a target=\"_blank\" href=https://colab.research.google.com/notebooks/data_table.ipynb>data table notebook</a>'\n",
              "            + ' to learn more about interactive tables.';\n",
              "          element.innerHTML = '';\n",
              "          dataTable['output_type'] = 'display_data';\n",
              "          await google.colab.output.renderOutput(dataTable, element);\n",
              "          const docLink = document.createElement('div');\n",
              "          docLink.innerHTML = docLinkHtml;\n",
              "          element.appendChild(docLink);\n",
              "        }\n",
              "      </script>\n",
              "    </div>\n",
              "  </div>\n",
              "  "
            ],
            "text/plain": [
              "   id   nome\n",
              "2   3  pedro\n",
              "1   2  maria"
            ]
          },
          "metadata": {},
          "execution_count": 51
        }
      ]
    },
    {
      "cell_type": "markdown",
      "metadata": {
        "id": "9ynOje_Jw-4e"
      },
      "source": [
        "## Convertendo uma string lista em list\n",
        "\n",
        "Converte uma string que representa uma lista em uma lista."
      ]
    },
    {
      "cell_type": "code",
      "metadata": {
        "colab": {
          "base_uri": "https://localhost:8080/"
        },
        "id": "YIbU15Usw_fG",
        "outputId": "a8074b70-e11b-4618-d426-8ec5eea73eb1"
      },
      "source": [
        "# Biblioteca de conversão\n",
        "import ast\n",
        "  \n",
        "# Uma string que representa uma lista\n",
        "lista_string = \"[\\\"azul\\\",\\\"verde\\\",\\\"amarelo\\\",\\\"verde\\\"]\"\n",
        "  \n",
        "# Mostra a a string  \n",
        "print(\"Lista string:\", lista_string)\n",
        "print(type(lista_string))\n",
        "  \n",
        "# Converte a string em uma lista\n",
        "lista = ast.literal_eval(lista_string)\n",
        "  \n",
        "# Mostra a lista\n",
        "print(\"Lista list:\", lista)\n",
        "print(type(lista))"
      ],
      "execution_count": 52,
      "outputs": [
        {
          "output_type": "stream",
          "name": "stdout",
          "text": [
            "Lista string: [\"azul\",\"verde\",\"amarelo\",\"verde\"]\n",
            "<class 'str'>\n",
            "Lista list: ['azul', 'verde', 'amarelo', 'verde']\n",
            "<class 'list'>\n"
          ]
        }
      ]
    },
    {
      "cell_type": "markdown",
      "metadata": {
        "id": "uLE3MLcXGhQ9"
      },
      "source": [
        "# Enumerações/Enumerate\n",
        "\n",
        "É uma função que atribui um índice a cada item em um objeto iterável(e.g. list) que pode ser usado para fazer referência ao item posteriormente. \n",
        "\n",
        "https://www.w3schools.com/python/ref_func_enumerate.asp"
      ]
    },
    {
      "cell_type": "markdown",
      "metadata": {
        "id": "zOjloyYSG2lQ"
      },
      "source": [
        "## Declaração 1"
      ]
    },
    {
      "cell_type": "code",
      "metadata": {
        "id": "sKW9oQLoGjhs",
        "colab": {
          "base_uri": "https://localhost:8080/"
        },
        "outputId": "f606d758-9012-412a-daeb-863fb146d539"
      },
      "source": [
        "# Declara e inicializa uma lista de cores\n",
        "cores = [\"vermelho\", \"azul\", \"verde\", \"amarelo\", \"rosa\", \"branco\"]\n",
        "\n",
        "# Mostra a enumeração e suas chaves\n",
        "list(enumerate(cores))"
      ],
      "execution_count": 53,
      "outputs": [
        {
          "output_type": "execute_result",
          "data": {
            "text/plain": [
              "[(0, 'vermelho'),\n",
              " (1, 'azul'),\n",
              " (2, 'verde'),\n",
              " (3, 'amarelo'),\n",
              " (4, 'rosa'),\n",
              " (5, 'branco')]"
            ]
          },
          "metadata": {},
          "execution_count": 53
        }
      ]
    },
    {
      "cell_type": "markdown",
      "metadata": {
        "id": "lamTvwbCG5Rh"
      },
      "source": [
        "## Declaração 2"
      ]
    },
    {
      "cell_type": "code",
      "metadata": {
        "id": "BxsfH0h5HB04",
        "colab": {
          "base_uri": "https://localhost:8080/"
        },
        "outputId": "6d44c672-1457-47fd-9488-6efbb848ef42"
      },
      "source": [
        "# Declara e inicializa uma lista de cores\n",
        "cores = [\"vermelho\", \"azul\", \"verde\", \"amarelo\", \"rosa\", \"branco\"]\n",
        "\n",
        "# Mostra a enumeração e suas chaves\n",
        "for (index, item) in enumerate(cores):\n",
        "    print (index, item)"
      ],
      "execution_count": 54,
      "outputs": [
        {
          "output_type": "stream",
          "name": "stdout",
          "text": [
            "0 vermelho\n",
            "1 azul\n",
            "2 verde\n",
            "3 amarelo\n",
            "4 rosa\n",
            "5 branco\n"
          ]
        }
      ]
    },
    {
      "cell_type": "markdown",
      "metadata": {
        "id": "10bGHLJTBvtB"
      },
      "source": [
        "## Classe Enum\n",
        "\n",
        "https://www.python.org/dev/peps/pep-0435/"
      ]
    },
    {
      "cell_type": "code",
      "metadata": {
        "colab": {
          "base_uri": "https://localhost:8080/"
        },
        "id": "MfQrV1chBz3S",
        "outputId": "5ea463c0-8346-4e31-e9b4-524164c0c214"
      },
      "source": [
        "# Biblioteca Enum\n",
        "from enum import Enum\n",
        "\n",
        "class DiaSemana(Enum):\n",
        "    DOMINGO = 0\n",
        "    SEGUNDA = 1\n",
        "    TERCA = 2\n",
        "    QUARTA = 3\n",
        "    QUINTA = 4\n",
        "    SEXTA = 5\n",
        "    SABADO = 6\n",
        "\n",
        "# Mostra o valor\n",
        "print(DiaSemana.QUARTA.value)\n",
        "\n",
        "# Mostra o nome\n",
        "print(DiaSemana.QUARTA.name)\n",
        "\n",
        "# Percorre os dias da semana\n",
        "for dia in DiaSemana:\n",
        "  print(dia)\n",
        "\n",
        "# Imprime a lista\n",
        "print(list(DiaSemana))\n",
        "\n",
        "# Imprime os valores\n",
        "print([dia.value for dia in DiaSemana])\n",
        "\n",
        "# Verifica se está na enumeração\n",
        "print(DiaSemana.TERCA in DiaSemana)\n",
        "\n",
        "# Verifica se o nome(name) está entre os membros do enum\n",
        "if \"TERÇA\" in DiaSemana._member_names_: \n",
        "    print(\"Nome está no enum!\")\n",
        "else:\n",
        "    print(\"Nome não está no enum!\")\n",
        "\n",
        "# Verifica se o nome(name) está entre os membros do enum\n",
        "if \"TERÇA\" in DiaSemana.__members__: \n",
        "    print(\"Nome está no enum!\")\n",
        "else:\n",
        "    print(\"Nome não está no enum!\")\n",
        "\n",
        "# Verifica se o valor(value) está entre os valores do enum\n",
        "if 10 in DiaSemana.__members__.values():\n",
        "  print(\"Valor está no enum!\")\n",
        "else:\n",
        "    print(\"Valor não está no enum!\")"
      ],
      "execution_count": 55,
      "outputs": [
        {
          "output_type": "stream",
          "name": "stdout",
          "text": [
            "3\n",
            "QUARTA\n",
            "DiaSemana.DOMINGO\n",
            "DiaSemana.SEGUNDA\n",
            "DiaSemana.TERCA\n",
            "DiaSemana.QUARTA\n",
            "DiaSemana.QUINTA\n",
            "DiaSemana.SEXTA\n",
            "DiaSemana.SABADO\n",
            "[<DiaSemana.DOMINGO: 0>, <DiaSemana.SEGUNDA: 1>, <DiaSemana.TERCA: 2>, <DiaSemana.QUARTA: 3>, <DiaSemana.QUINTA: 4>, <DiaSemana.SEXTA: 5>, <DiaSemana.SABADO: 6>]\n",
            "[0, 1, 2, 3, 4, 5, 6]\n",
            "True\n",
            "Nome não está no enum!\n",
            "Nome não está no enum!\n",
            "Valor não está no enum!\n"
          ]
        }
      ]
    },
    {
      "cell_type": "markdown",
      "metadata": {
        "id": "P8LmNS8E0WvA"
      },
      "source": [
        "# Tupla/Tuple"
      ]
    },
    {
      "cell_type": "markdown",
      "metadata": {
        "id": "QdUHj8lA0Yz-"
      },
      "source": [
        "Uma tupla é uma estrutura bastante similar a uma lista, com apenas uma diferença: os elementos inseridos em uma tupla não podem ser alterados, diferente de uma lista onde podem ser alterados livremente. \n",
        "\n",
        "As tuplas possuem algumas vantagens com relação às listas, que são:\n",
        "\n",
        "* Como as tuplas são imutáveis, a iteração sobre elas é mais rápida e, consequentemente, possuem um ganho de desempenho com relação às listas;\n",
        "* Tuplas podem ser utilizadas como chave para um dicionário, já que seus elementos são imutáveis. Já com a lista, isso não é possível;\n",
        "* Se for necessário armazenar dados que não serão alterados, utilize uma tupla. Isso garantirá que esses sejam protegidos de alterações posteriores"
      ]
    },
    {
      "cell_type": "markdown",
      "metadata": {
        "id": "2-pHJRqf1URh"
      },
      "source": [
        "## Declaração tupla homogênea\n",
        "\n",
        "Utiliza parênteses ou invés de colchetes(listas) para declarar"
      ]
    },
    {
      "cell_type": "code",
      "metadata": {
        "id": "NzeeNyx70kWw",
        "colab": {
          "base_uri": "https://localhost:8080/"
        },
        "outputId": "d2491148-9adb-45ca-9366-b4a663efa8c2"
      },
      "source": [
        "# Declaração de tupla de inteiros homogênea\n",
        "tupla1 = (1, 2, 3) \n",
        "print(tupla1)\n",
        "\n",
        "# Mostra o tipo da tupla1\n",
        "print(type(tupla1))"
      ],
      "execution_count": 56,
      "outputs": [
        {
          "output_type": "stream",
          "name": "stdout",
          "text": [
            "(1, 2, 3)\n",
            "<class 'tuple'>\n"
          ]
        }
      ]
    },
    {
      "cell_type": "markdown",
      "metadata": {
        "id": "fPU8dq8TdKAl"
      },
      "source": [
        "## Declaração tupla heterogênea"
      ]
    },
    {
      "cell_type": "code",
      "metadata": {
        "id": "HM3_r3hkdKYc",
        "colab": {
          "base_uri": "https://localhost:8080/"
        },
        "outputId": "a8457c9c-d88b-4fc0-8ad2-52402a62770d"
      },
      "source": [
        "# Declaração de tupla heterogênea\n",
        "tupla = (1, \"joao\", 3.14) \n",
        "print(tupla)\n",
        "\n",
        "# Mostra o tipo da tupla2\n",
        "print(type(tupla))"
      ],
      "execution_count": 57,
      "outputs": [
        {
          "output_type": "stream",
          "name": "stdout",
          "text": [
            "(1, 'joao', 3.14)\n",
            "<class 'tuple'>\n"
          ]
        }
      ]
    },
    {
      "cell_type": "markdown",
      "metadata": {
        "id": "p6shuEqrdS7w"
      },
      "source": [
        "## Declaração tupla sem parênteses\n",
        "\n",
        "Tuplas podem ser declaradas sem parênteses"
      ]
    },
    {
      "cell_type": "code",
      "metadata": {
        "id": "zzggf1sXdTHl",
        "colab": {
          "base_uri": "https://localhost:8080/"
        },
        "outputId": "6c9221e8-84e8-49cb-b188-bf084305cb62"
      },
      "source": [
        "# Declaração de tupla de inteiros homogênea\n",
        "tupla = 1, 2, 3 \n",
        "print(tupla)\n",
        "\n",
        "# Mostra o tipo da tupla1\n",
        "print(type(tupla))"
      ],
      "execution_count": 58,
      "outputs": [
        {
          "output_type": "stream",
          "name": "stdout",
          "text": [
            "(1, 2, 3)\n",
            "<class 'tuple'>\n"
          ]
        }
      ]
    },
    {
      "cell_type": "markdown",
      "metadata": {
        "id": "B6Pf8GDddiai"
      },
      "source": [
        "### Declaração tuple()\n",
        "\n",
        "Podemos usar uma função tuple() para criar uma tupla passando um tipo que pode ser iterável como uma string ou uma lista:"
      ]
    },
    {
      "cell_type": "code",
      "metadata": {
        "id": "cvRCw1rGdlv7",
        "colab": {
          "base_uri": "https://localhost:8080/"
        },
        "outputId": "7929f14b-ada2-4e86-8ec9-cfe473cb5d4f"
      },
      "source": [
        "# Declaração de lista de inteiros\n",
        "lista = [1, 2, 3]\n",
        "print(lista)\n",
        "# Mostra o tipo da lista\n",
        "print(type(lista))\n",
        "\n",
        "# Declaração de tupla de inteiros homogênea\n",
        "tupla = tuple(lista)\n",
        "print(tupla)\n",
        "# Mostra o tipo da lista\n",
        "print(type(tupla))"
      ],
      "execution_count": 59,
      "outputs": [
        {
          "output_type": "stream",
          "name": "stdout",
          "text": [
            "[1, 2, 3]\n",
            "<class 'list'>\n",
            "(1, 2, 3)\n",
            "<class 'tuple'>\n"
          ]
        }
      ]
    },
    {
      "cell_type": "markdown",
      "metadata": {
        "id": "Eo87pvVo1ayG"
      },
      "source": [
        "## Acessando elementos"
      ]
    },
    {
      "cell_type": "code",
      "metadata": {
        "id": "uKhiIDTm1cgY",
        "colab": {
          "base_uri": "https://localhost:8080/"
        },
        "outputId": "0c016d94-39f8-4c52-f593-41148ea60c78"
      },
      "source": [
        "# Declara e inicializa tuplas de cores\n",
        "cores = (\"vermelho\", \"azul\", \"verde\", \"amarelo\", \"rosa\", \"branco\")\n",
        "\n",
        "# Percorre a tuplas de cores, o valor atual está em cor\n",
        "for cor in cores:\n",
        "    print(cor)"
      ],
      "execution_count": 60,
      "outputs": [
        {
          "output_type": "stream",
          "name": "stdout",
          "text": [
            "vermelho\n",
            "azul\n",
            "verde\n",
            "amarelo\n",
            "rosa\n",
            "branco\n"
          ]
        }
      ]
    },
    {
      "cell_type": "markdown",
      "metadata": {
        "id": "H6089vabiWTJ"
      },
      "source": [
        "## Convertendo uma lista de tuplas em uma lista de lista"
      ]
    },
    {
      "cell_type": "code",
      "metadata": {
        "colab": {
          "base_uri": "https://localhost:8080/"
        },
        "id": "8ZTHgejficU3",
        "outputId": "7efab3ce-b280-4dc7-8ade-4c6d1e0300dc"
      },
      "source": [
        "listaTupla = [(1,2), (3,4)] \n",
        "\n",
        "print(listaTupla)\n",
        "\n",
        "listaLista = [list(x) for x in listaTupla]\n",
        "\n",
        "print(listaLista)"
      ],
      "execution_count": 61,
      "outputs": [
        {
          "output_type": "stream",
          "name": "stdout",
          "text": [
            "[(1, 2), (3, 4)]\n",
            "[[1, 2], [3, 4]]\n"
          ]
        }
      ]
    },
    {
      "cell_type": "markdown",
      "metadata": {
        "id": "vQt9ynoueprN"
      },
      "source": [
        "# Intervalo/Range\n",
        "\n",
        "É um tipo de  imutável de números e é comumente usado para looping de um número específico de vezes em um comando for já que representam um intervalo. O comando range gera um valor contendo números inteiros sequenciais com um determinado incremendo."
      ]
    },
    {
      "cell_type": "markdown",
      "metadata": {
        "id": "pSyHqFx8e_KG"
      },
      "source": [
        "## Declaração\n",
        "\n",
        "Não gera o valores do intervalo, somente armazena o início e fim."
      ]
    },
    {
      "cell_type": "code",
      "metadata": {
        "id": "k6kkW50oe_b6",
        "colab": {
          "base_uri": "https://localhost:8080/"
        },
        "outputId": "2a6c9371-9ab6-4089-ae71-4387b8c3929e"
      },
      "source": [
        "# Declara um intervalo\n",
        "intervalo = range(1, 4)\n",
        "\n",
        "# Mostra o intervalo\n",
        "print(intervalo)"
      ],
      "execution_count": 62,
      "outputs": [
        {
          "output_type": "stream",
          "name": "stdout",
          "text": [
            "range(1, 4)\n"
          ]
        }
      ]
    },
    {
      "cell_type": "markdown",
      "metadata": {
        "id": "_PNGztVPfZkx"
      },
      "source": [
        "## Percorrendo o range"
      ]
    },
    {
      "cell_type": "code",
      "metadata": {
        "id": "qHvbE5defZwK",
        "colab": {
          "base_uri": "https://localhost:8080/"
        },
        "outputId": "01984b93-956b-42c1-9167-35c86d919b50"
      },
      "source": [
        "# Percorre o range\n",
        "for valor in range(1, 4):\n",
        "    print(valor)"
      ],
      "execution_count": 63,
      "outputs": [
        {
          "output_type": "stream",
          "name": "stdout",
          "text": [
            "1\n",
            "2\n",
            "3\n"
          ]
        }
      ]
    },
    {
      "cell_type": "markdown",
      "metadata": {
        "id": "aYCcx2cFflhg"
      },
      "source": [
        "## Percorrendo o range com incremento\n",
        "\n",
        "O terceiro parâmetro é o passo do range.\n",
        "\n"
      ]
    },
    {
      "cell_type": "code",
      "metadata": {
        "id": "S-2SS1Leflhh",
        "colab": {
          "base_uri": "https://localhost:8080/"
        },
        "outputId": "16664289-7459-48a8-a058-4f4e814215cf"
      },
      "source": [
        "# Percorre o range\n",
        "for valor in range(1, 10, 2):\n",
        "    print(valor)"
      ],
      "execution_count": 64,
      "outputs": [
        {
          "output_type": "stream",
          "name": "stdout",
          "text": [
            "1\n",
            "3\n",
            "5\n",
            "7\n",
            "9\n"
          ]
        }
      ]
    },
    {
      "cell_type": "markdown",
      "metadata": {
        "id": "2iIHTA10f7dy"
      },
      "source": [
        "## Percorrendo o range com descrescente"
      ]
    },
    {
      "cell_type": "code",
      "metadata": {
        "id": "4fepShCCf76N",
        "colab": {
          "base_uri": "https://localhost:8080/"
        },
        "outputId": "f133228a-11e4-4013-901b-7f675347eb1a"
      },
      "source": [
        "# Percorre o range\n",
        "for valor in range(10, 1, -2):\n",
        "    print(valor)"
      ],
      "execution_count": 65,
      "outputs": [
        {
          "output_type": "stream",
          "name": "stdout",
          "text": [
            "10\n",
            "8\n",
            "6\n",
            "4\n",
            "2\n"
          ]
        }
      ]
    },
    {
      "cell_type": "markdown",
      "metadata": {
        "id": "YL3bLO6vht9G"
      },
      "source": [
        "#Contadores/Counter\n",
        "\n",
        "Contador e permite contar as ocorrências de um determinado item em uma estrutura de dados.\n",
        "\n",
        "\n",
        "O resultado é um dicicionário(dict) e pode receber um objeto iterável ou um mapa como argumento para realizar a contagem de seus elementos."
      ]
    },
    {
      "cell_type": "code",
      "metadata": {
        "id": "Q5vrCCFChxCQ",
        "colab": {
          "base_uri": "https://localhost:8080/"
        },
        "outputId": "c6f407bb-177f-42cd-bf4c-67d6b7902b09"
      },
      "source": [
        "# Biblioteca counter de collections\n",
        "from collections import Counter\n",
        "\n",
        "# Declara uma lista de cores\n",
        "cores = [\"branco\", \"azul\", \"azul\", \"branco\", \"marrom\", \"branco\", \"vermelho\", \"verde\"]\n",
        "\n",
        "# contador a lista\n",
        "contador = Counter(cores)\n",
        "\n",
        "# Mostra o contador\n",
        "print(contador)"
      ],
      "execution_count": 66,
      "outputs": [
        {
          "output_type": "stream",
          "name": "stdout",
          "text": [
            "Counter({'branco': 3, 'azul': 2, 'marrom': 1, 'vermelho': 1, 'verde': 1})\n"
          ]
        }
      ]
    },
    {
      "cell_type": "markdown",
      "metadata": {
        "id": "QqXNyM0F1zPW"
      },
      "source": [
        "# Conjuntos/Sets\n",
        "\n",
        "São uma coleção de itens desordenada, parcialmente imutável e que **não** podem conter elementos duplicados. Por ser parcialmente imutável, os sets possuem permissão de adição e remoção de elementos.\n",
        "\n",
        "Usados normalmente com operações matemáticas de união, interseção e diferença simétrica.\n",
        "\n",
        "https://www.treinaweb.com.br/blog/principais-estruturas-de-dados-no-python/"
      ]
    },
    {
      "cell_type": "markdown",
      "metadata": {
        "id": "uTscD4yb10iK"
      },
      "source": [
        "## Declaração 1"
      ]
    },
    {
      "cell_type": "code",
      "metadata": {
        "id": "3sdPVrxP2Kjq",
        "colab": {
          "base_uri": "https://localhost:8080/"
        },
        "outputId": "3e2ec091-80a9-4158-df68-d642bdb74390"
      },
      "source": [
        "# Declara o conjunto 1\n",
        "conjunto1 = {1, 2, 3, 3}\n",
        "print(conjunto1)\n",
        "print(type(conjunto1))\n",
        "\n",
        "# Declara o conjunto 2\n",
        "conjunto2 = {1, 2, 3, 4}\n",
        "print(conjunto2)\n",
        "print(type(conjunto2))"
      ],
      "execution_count": 67,
      "outputs": [
        {
          "output_type": "stream",
          "name": "stdout",
          "text": [
            "{1, 2, 3}\n",
            "<class 'set'>\n",
            "{1, 2, 3, 4}\n",
            "<class 'set'>\n"
          ]
        }
      ]
    },
    {
      "cell_type": "markdown",
      "metadata": {
        "id": "TuE7MaeY2UCc"
      },
      "source": [
        "## Declaração 2"
      ]
    },
    {
      "cell_type": "code",
      "metadata": {
        "id": "wrgjkNYO2VWR",
        "colab": {
          "base_uri": "https://localhost:8080/"
        },
        "outputId": "dc50d592-5f22-4906-d6d5-024989d90a2e"
      },
      "source": [
        "# Declara o conjunto 1\n",
        "conjunto1 = set([1, 2, 3, 3])\n",
        "print(conjunto1)\n",
        "\n",
        "# Declara o conjunto 2\n",
        "conjunto2 = set([1, 2, 3, 4])\n",
        "print(conjunto2)"
      ],
      "execution_count": 68,
      "outputs": [
        {
          "output_type": "stream",
          "name": "stdout",
          "text": [
            "{1, 2, 3}\n",
            "{1, 2, 3, 4}\n"
          ]
        }
      ]
    },
    {
      "cell_type": "markdown",
      "metadata": {
        "id": "gi4CaK8f2oVA"
      },
      "source": [
        "## Acessando elementos"
      ]
    },
    {
      "cell_type": "code",
      "metadata": {
        "id": "KJcAUXgG2oVE",
        "colab": {
          "base_uri": "https://localhost:8080/"
        },
        "outputId": "d505b020-71b1-494a-f05a-b895e525e023"
      },
      "source": [
        "# Declara e inicializa conjunto de cores\n",
        "cores = set([\"vermelho\", \"azul\", \"verde\", \"amarelo\", \"branco\", \"branco\"])\n",
        "\n",
        "# Percorre o elementos do conjunto de cores, o valor atual está em cor\n",
        "for cor in cores:\n",
        "    print(cor)"
      ],
      "execution_count": 69,
      "outputs": [
        {
          "output_type": "stream",
          "name": "stdout",
          "text": [
            "verde\n",
            "amarelo\n",
            "vermelho\n",
            "azul\n",
            "branco\n"
          ]
        }
      ]
    },
    {
      "cell_type": "markdown",
      "metadata": {
        "id": "N_iBHL1p20ea"
      },
      "source": [
        "## Adicionando elementos"
      ]
    },
    {
      "cell_type": "code",
      "metadata": {
        "id": "U9UqchRv23LI",
        "colab": {
          "base_uri": "https://localhost:8080/"
        },
        "outputId": "016af61d-672a-4082-97e2-d6c27344697c"
      },
      "source": [
        "# Declara o conjunto 1\n",
        "conjunto1 = {1, 2, 3, 3}\n",
        "\n",
        "# Adicionando elementos sem repetição\n",
        "conjunto1.add(4)\n",
        "print(\"Adição\", conjunto1)\n",
        "\n",
        "# Adicionando elementos com repetição\n",
        "conjunto1.add(1)\n",
        "print(\"Adição\", conjunto1)"
      ],
      "execution_count": 70,
      "outputs": [
        {
          "output_type": "stream",
          "name": "stdout",
          "text": [
            "Adição {1, 2, 3, 4}\n",
            "Adição {1, 2, 3, 4}\n"
          ]
        }
      ]
    },
    {
      "cell_type": "markdown",
      "metadata": {
        "id": "aadxRNTP3IA3"
      },
      "source": [
        "## Atualizando elementos"
      ]
    },
    {
      "cell_type": "code",
      "metadata": {
        "id": "c4cBHmLI3Luj",
        "colab": {
          "base_uri": "https://localhost:8080/"
        },
        "outputId": "8d701049-e5e1-467a-efb6-2964d3b883a4"
      },
      "source": [
        "# Declara o conjunto 1\n",
        "conjunto1 = {1, 2, 3, 3}\n",
        "\n",
        "#atualizando set\n",
        "conjunto1.update([3, 4, 5, 6])\n",
        "print(\"Atualição\", conjunto1)"
      ],
      "execution_count": 71,
      "outputs": [
        {
          "output_type": "stream",
          "name": "stdout",
          "text": [
            "Atualição {1, 2, 3, 4, 5, 6}\n"
          ]
        }
      ]
    },
    {
      "cell_type": "markdown",
      "metadata": {
        "id": "5iH6rnD83VMw"
      },
      "source": [
        "## Removendo elementos"
      ]
    },
    {
      "cell_type": "code",
      "metadata": {
        "id": "gfU5yOtk20pg",
        "colab": {
          "base_uri": "https://localhost:8080/"
        },
        "outputId": "f07ed96f-1a80-4451-de85-d55566496444"
      },
      "source": [
        "# Declara o conjunto 1\n",
        "conjunto1 = {1, 2, 3, 3}\n",
        "\n",
        "# Removendo elemento\n",
        "conjunto1.discard(2)\n",
        "print(\"Remoção\", conjunto1)"
      ],
      "execution_count": 72,
      "outputs": [
        {
          "output_type": "stream",
          "name": "stdout",
          "text": [
            "Remoção {1, 3}\n"
          ]
        }
      ]
    },
    {
      "cell_type": "markdown",
      "metadata": {
        "id": "ZWMqhaYL34Mx"
      },
      "source": [
        "## Operações matemáticas"
      ]
    },
    {
      "cell_type": "markdown",
      "metadata": {
        "id": "mVVvOQ4F354I"
      },
      "source": [
        "### União\n",
        "\n",
        "União (|), todos os elementos dos dois conjuntos(sets) serão “unidos”, formando um único conjunto(set) com todos os elementos, sem repetí-los."
      ]
    },
    {
      "cell_type": "code",
      "metadata": {
        "id": "lS4DnVBI3_iC",
        "colab": {
          "base_uri": "https://localhost:8080/"
        },
        "outputId": "f9848585-dce9-41dd-d124-9c2a93da5f18"
      },
      "source": [
        "# Declara o conjunto 1\n",
        "conjunto1 = set([1, 2, 3, 4, 4])\n",
        "# Declara o conjunto 2\n",
        "conjunto2 = set([3, 4, 5, 6, 7])\n",
        "\n",
        "# União\n",
        "print(\"União\")\n",
        "\n",
        "# Usando operador |\n",
        "print(conjunto1 | conjunto2)\n",
        "\n",
        "# ou com método union\n",
        "print(conjunto1.union(conjunto2))"
      ],
      "execution_count": 73,
      "outputs": [
        {
          "output_type": "stream",
          "name": "stdout",
          "text": [
            "União\n",
            "{1, 2, 3, 4, 5, 6, 7}\n",
            "{1, 2, 3, 4, 5, 6, 7}\n"
          ]
        }
      ]
    },
    {
      "cell_type": "markdown",
      "metadata": {
        "id": "A6x1nmV04bMq"
      },
      "source": [
        "### Interseção\n",
        "\n",
        "Interseção (&), apenas os elementos que estiverem nos dois conjuntos(sets) serão considerados."
      ]
    },
    {
      "cell_type": "code",
      "metadata": {
        "id": "piGwo8Gl4aqw",
        "colab": {
          "base_uri": "https://localhost:8080/"
        },
        "outputId": "1bd8e2ce-3f0d-48b9-a7f2-f177fcc37d2e"
      },
      "source": [
        "# Declara o conjunto 1\n",
        "conjunto1 = set([1, 2, 3, 4, 4])\n",
        "# Declara o conjunto 2\n",
        "conjunto2 = set([3, 4, 5, 6, 7])\n",
        "\n",
        "# Interseção\n",
        "print(\"Interseção\")\n",
        "\n",
        "# Usando operador &\n",
        "print(conjunto1 & conjunto2)\n",
        "\n",
        "# ou com método intersection\n",
        "print(conjunto1.intersection(conjunto2))"
      ],
      "execution_count": 74,
      "outputs": [
        {
          "output_type": "stream",
          "name": "stdout",
          "text": [
            "Interseção\n",
            "{3, 4}\n",
            "{3, 4}\n"
          ]
        }
      ]
    },
    {
      "cell_type": "markdown",
      "metadata": {
        "id": "aDIesbKa403f"
      },
      "source": [
        "### Diferença\n",
        "\n",
        "Diferença (–), restarão apenas os elementos que estiverem em um dos conjuntos(set), mas não no segundo."
      ]
    },
    {
      "cell_type": "code",
      "metadata": {
        "id": "JMgK-Lpc43EZ",
        "colab": {
          "base_uri": "https://localhost:8080/"
        },
        "outputId": "dd3c36af-c72a-4eff-82d3-251459b3aa5e"
      },
      "source": [
        "# Declara o conjunto 1\n",
        "conjunto1 = set([1, 2, 3, 4, 4])\n",
        "# Declara o conjunto 2\n",
        "conjunto2 = set([3, 4, 5, 6, 7])\n",
        "\n",
        "# Diferença\n",
        "print(\"Diferença\")\n",
        "\n",
        "# Usando operador -\n",
        "print(conjunto1 -conjunto2)\n",
        "\n",
        "# ou com método difference\n",
        "print(conjunto1.difference(conjunto2))\n"
      ],
      "execution_count": 75,
      "outputs": [
        {
          "output_type": "stream",
          "name": "stdout",
          "text": [
            "Diferença\n",
            "{1, 2}\n",
            "{1, 2}\n"
          ]
        }
      ]
    },
    {
      "cell_type": "markdown",
      "metadata": {
        "id": "WP75Wkez5FCj"
      },
      "source": [
        "### Diferença simétrica\n",
        "\n",
        "Diferença simétrica (^), apenas os elementos que estiverem nos dois conjuntos(sets), porém que não se repitam, serão exibidos."
      ]
    },
    {
      "cell_type": "code",
      "metadata": {
        "id": "iYgwEwVI36Co",
        "colab": {
          "base_uri": "https://localhost:8080/"
        },
        "outputId": "35974cd4-bf39-49f8-a367-43c41e69f12b"
      },
      "source": [
        "# Declara o conjunto 1\n",
        "conjunto1 = set([1, 2, 3, 4, 4])\n",
        "# Declara o conjunto 2\n",
        "conjunto2 = set([3, 4, 5, 6, 7])\n",
        "\n",
        "# Diferença simétrica\n",
        "print(\"Diferença Simétrica\")\n",
        "\n",
        "# Usando operador ^\n",
        "print(conjunto1 ^ conjunto2)\n",
        "\n",
        "# ou com método symmetric_difference\n",
        "print(conjunto1.symmetric_difference(conjunto2))"
      ],
      "execution_count": 76,
      "outputs": [
        {
          "output_type": "stream",
          "name": "stdout",
          "text": [
            "Diferença Simétrica\n",
            "{1, 2, 5, 6, 7}\n",
            "{1, 2, 5, 6, 7}\n"
          ]
        }
      ]
    },
    {
      "cell_type": "markdown",
      "metadata": {
        "id": "bWfk655zF1Tm"
      },
      "source": [
        "## Converter Lista em Set"
      ]
    },
    {
      "cell_type": "code",
      "metadata": {
        "id": "x3BbZSZEF3rK",
        "colab": {
          "base_uri": "https://localhost:8080/"
        },
        "outputId": "b706b1c1-0874-4787-e02a-2dc7b940058f"
      },
      "source": [
        "# Declara uma lista\n",
        "lista = [ 10, 20, 30, 10, 40, 50, 50]\n",
        "\n",
        "# Converte a lista para um conjunto\n",
        "conjunto = set(lista)\n",
        "\n",
        "# Mostra o conjunto criada\n",
        "print(conjunto)"
      ],
      "execution_count": 77,
      "outputs": [
        {
          "output_type": "stream",
          "name": "stdout",
          "text": [
            "{40, 10, 50, 20, 30}\n"
          ]
        }
      ]
    },
    {
      "cell_type": "markdown",
      "metadata": {
        "id": "659vCoXLHkLO"
      },
      "source": [
        "# Dicionário/Dict\n",
        "\n",
        "No Python, os dicionários são coleções de itens desordenados com uma diferença bem grande quando comparados às outras coleções: um elemento dentro de um dicionário possui uma chave associada a ele, uma espécie de identificador. Sendo assim, é muito utilizado quando queremos armazenar dados de forma organizada e que possuem identificação única (como em um banco de dados).\n",
        "\n",
        "https://www.treinaweb.com.br/blog/manipulando-dicionarios-no-python/\n",
        "\n",
        "https://www.alura.com.br/artigos/trabalhando-com-o-dicionario-no-python"
      ]
    },
    {
      "cell_type": "markdown",
      "metadata": {
        "id": "gfKqb-IUBrdH"
      },
      "source": [
        "## Declaração \n",
        "\n",
        "\n"
      ]
    },
    {
      "cell_type": "code",
      "metadata": {
        "colab": {
          "base_uri": "https://localhost:8080/"
        },
        "id": "6RO6mOSqBrdM",
        "outputId": "eb41a832-8b66-49e9-8c68-515507ec04a1"
      },
      "source": [
        "# Declara um dicionário vazio com {}\n",
        "dicionario = {}\n",
        "\n",
        "# Usando  método update\n",
        "dicionario.update({1: \"vermelho\"})\n",
        "dicionario.update({2: \"azul\"})\n",
        "dicionario.update({3: \"verde\"})\n",
        "dicionario.update({4: \"amarelo\"})\n",
        "dicionario.update({5: \"rosa\"})\n",
        "dicionario.update({6: \"branco\"})\n",
        "\n",
        "print(dicionario)"
      ],
      "execution_count": 78,
      "outputs": [
        {
          "output_type": "stream",
          "name": "stdout",
          "text": [
            "{1: 'vermelho', 2: 'azul', 3: 'verde', 4: 'amarelo', 5: 'rosa', 6: 'branco'}\n"
          ]
        }
      ]
    },
    {
      "cell_type": "markdown",
      "metadata": {
        "id": "w6kx3_9D6YLb"
      },
      "source": [
        "## Declaração 1 - Chave numérica\n",
        "\n",
        "\n"
      ]
    },
    {
      "cell_type": "code",
      "metadata": {
        "id": "NRm3F43B6Xqx",
        "colab": {
          "base_uri": "https://localhost:8080/"
        },
        "outputId": "1f2d5208-e31c-49e4-ac48-f6d8d80d6e35"
      },
      "source": [
        "# Declara e inicializa um dicionário de cores com chave númerica com {}\n",
        "dicionario = {1:\"vermelho\", 2:\"azul\", 3:\"verde\", 4:\"amarelo\", 5:\"rosa\", 6:\"branco\"}\n",
        "\n",
        "print(dicionario)"
      ],
      "execution_count": 79,
      "outputs": [
        {
          "output_type": "stream",
          "name": "stdout",
          "text": [
            "{1: 'vermelho', 2: 'azul', 3: 'verde', 4: 'amarelo', 5: 'rosa', 6: 'branco'}\n"
          ]
        }
      ]
    },
    {
      "cell_type": "markdown",
      "metadata": {
        "id": "kGkKx1-w7Fz4"
      },
      "source": [
        "## Declaração 2 - Chave numérica\n"
      ]
    },
    {
      "cell_type": "code",
      "metadata": {
        "id": "mSLO01r27Fz5",
        "colab": {
          "base_uri": "https://localhost:8080/"
        },
        "outputId": "b5fbff85-b7f4-4c3f-e920-39324e845586"
      },
      "source": [
        "# Declara e inicializa um dicionário de cores com chave númerica com o método dict\n",
        "dicionario = dict({1:\"vermelho\", 2:\"azul\", 3:\"verde\", 4:\"amarelo\", 5:\"rosa\", 6:\"branco\"})\n",
        "\n",
        "print(dicionario)"
      ],
      "execution_count": 80,
      "outputs": [
        {
          "output_type": "stream",
          "name": "stdout",
          "text": [
            "{1: 'vermelho', 2: 'azul', 3: 'verde', 4: 'amarelo', 5: 'rosa', 6: 'branco'}\n"
          ]
        }
      ]
    },
    {
      "cell_type": "markdown",
      "metadata": {
        "id": "LfMQ7wuD95UQ"
      },
      "source": [
        "## Declaração 3 - Chave Literal"
      ]
    },
    {
      "cell_type": "code",
      "metadata": {
        "id": "BWuzl00K94Ut",
        "colab": {
          "base_uri": "https://localhost:8080/"
        },
        "outputId": "22420cef-5d0c-496e-9083-f46cfc8e29a8"
      },
      "source": [
        "# Declara e inicializa um dicionário de cores com chave literal\n",
        "dicionario = {\"um\":\"vermelho\", \"dois\":\"azul\", \"tres\":\"verde\", \"quatro\":\"amarelo\", \"cinco\":\"rosa\"}\n",
        "\n",
        "print(dicionario)\n",
        "\n",
        "# Recuperando valores com colchetes\n",
        "print(dicionario[\"um\"])"
      ],
      "execution_count": 81,
      "outputs": [
        {
          "output_type": "stream",
          "name": "stdout",
          "text": [
            "{'um': 'vermelho', 'dois': 'azul', 'tres': 'verde', 'quatro': 'amarelo', 'cinco': 'rosa'}\n",
            "vermelho\n"
          ]
        }
      ]
    },
    {
      "cell_type": "markdown",
      "metadata": {
        "id": "Lva_kXo6HnJa"
      },
      "source": [
        "## Recuperando valores com colchetes 1\n",
        "\n",
        "\n"
      ]
    },
    {
      "cell_type": "code",
      "metadata": {
        "id": "ZqfznTJsHok7",
        "colab": {
          "base_uri": "https://localhost:8080/"
        },
        "outputId": "ed7d421a-ccad-449f-93ba-048c7d2c544d"
      },
      "source": [
        "# Declara e inicializa um dicionário de cores\n",
        "dicionario = {1:\"vermelho\", 2:\"azul\", 3:\"verde\", 4:\"amarelo\", 5:\"rosa\", 6:\"branco\"}\n",
        "\n",
        "# Recuperando um valor pela chave e colchetes\n",
        "try:\n",
        "    valor = dicionario[1]     \n",
        "except KeyError:\n",
        "    valor = None\n",
        "\n",
        "# Mostra o valor\n",
        "print(valor)"
      ],
      "execution_count": 82,
      "outputs": [
        {
          "output_type": "stream",
          "name": "stdout",
          "text": [
            "vermelho\n"
          ]
        }
      ]
    },
    {
      "cell_type": "markdown",
      "metadata": {
        "id": "D7t1bOT6JIYx"
      },
      "source": [
        "## Recuperando valores com get 2"
      ]
    },
    {
      "cell_type": "code",
      "metadata": {
        "id": "pdFs8u8eJIlZ",
        "colab": {
          "base_uri": "https://localhost:8080/"
        },
        "outputId": "80391e6b-6062-480a-cd2e-b0dcb23bebf6"
      },
      "source": [
        "# Declara e inicializa um dicionário de cores\n",
        "dicionario = {1:\"vermelho\", 2:\"azul\", 3:\"verde\", 4:\"amarelo\", 5:\"rosa\", 6:\"branco\"}\n",
        "\n",
        "# Recuperando um valor pela chave com get sem valor padrão\n",
        "valor = dicionario.get(1)\n",
        "\n",
        "# Mostra o valor\n",
        "print(valor)"
      ],
      "execution_count": 83,
      "outputs": [
        {
          "output_type": "stream",
          "name": "stdout",
          "text": [
            "vermelho\n"
          ]
        }
      ]
    },
    {
      "cell_type": "markdown",
      "metadata": {
        "id": "HO6bkS68JdKN"
      },
      "source": [
        "## Recuperando valores com get e valor default 3"
      ]
    },
    {
      "cell_type": "code",
      "metadata": {
        "id": "YL0Vdr6UJhfd",
        "colab": {
          "base_uri": "https://localhost:8080/"
        },
        "outputId": "e04b9e2a-28d0-40fa-f2b8-0a6ddd083040"
      },
      "source": [
        "# Declara e inicializa um dicionário de cores\n",
        "dicionario = {1:\"vermelho\", 2:\"azul\", 3:\"verde\", 4:\"amarelo\", 5:\"rosa\", 6:\"branco\"}\n",
        "\n",
        "# Recuperando um valor pela chave com get com valor padrão\n",
        "valor = dicionario.get(10,\"sem cor\")\n",
        "\n",
        "# Mostra o valor\n",
        "print(valor)"
      ],
      "execution_count": 84,
      "outputs": [
        {
          "output_type": "stream",
          "name": "stdout",
          "text": [
            "sem cor\n"
          ]
        }
      ]
    },
    {
      "cell_type": "markdown",
      "metadata": {
        "id": "zvP-bofD7j3A"
      },
      "source": [
        "## Tamanho do dicionário"
      ]
    },
    {
      "cell_type": "code",
      "metadata": {
        "id": "kNGceH3S7lkA",
        "colab": {
          "base_uri": "https://localhost:8080/"
        },
        "outputId": "ca5e63df-b49a-4008-8557-2166c71a8d59"
      },
      "source": [
        "# Declara e inicializa um dicionário de cores\n",
        "dicionario = {1:\"vermelho\", 2:\"azul\", 3:\"verde\", 4:\"amarelo\", 5:\"rosa\", 6:\"branco\"}\n",
        "\n",
        "print(len(dicionario))"
      ],
      "execution_count": 85,
      "outputs": [
        {
          "output_type": "stream",
          "name": "stdout",
          "text": [
            "6\n"
          ]
        }
      ]
    },
    {
      "cell_type": "markdown",
      "metadata": {
        "id": "uzOziKk57u5K"
      },
      "source": [
        "## Adicionado elementos"
      ]
    },
    {
      "cell_type": "code",
      "metadata": {
        "id": "EnmtqHmw7wby",
        "colab": {
          "base_uri": "https://localhost:8080/"
        },
        "outputId": "9f0dd408-f8a4-4bce-d009-472a10dea48b"
      },
      "source": [
        "# Declara e inicializa um dicionário de cores\n",
        "dicionario = {1:\"vermelho\", 2:\"azul\", 3:\"verde\", 4:\"amarelo\", 5:\"rosa\", 6:\"branco\"}\n",
        "\n",
        "print(dicionario)\n",
        "\n",
        "# Especificando a posição\n",
        "dicionario[8] = \"cinza\"\n",
        "print(dicionario)\n",
        "\n",
        "# Usando método update\n",
        "dicionario.update({7: \"purpura\"})\n",
        "print(dicionario)"
      ],
      "execution_count": 86,
      "outputs": [
        {
          "output_type": "stream",
          "name": "stdout",
          "text": [
            "{1: 'vermelho', 2: 'azul', 3: 'verde', 4: 'amarelo', 5: 'rosa', 6: 'branco'}\n",
            "{1: 'vermelho', 2: 'azul', 3: 'verde', 4: 'amarelo', 5: 'rosa', 6: 'branco', 8: 'cinza'}\n",
            "{1: 'vermelho', 2: 'azul', 3: 'verde', 4: 'amarelo', 5: 'rosa', 6: 'branco', 8: 'cinza', 7: 'purpura'}\n"
          ]
        }
      ]
    },
    {
      "cell_type": "markdown",
      "metadata": {
        "id": "nH26cd0_eY4J"
      },
      "source": [
        "## Concatenando dois dicionários"
      ]
    },
    {
      "cell_type": "code",
      "metadata": {
        "id": "skOTMPdeeY4J",
        "colab": {
          "base_uri": "https://localhost:8080/"
        },
        "outputId": "c6743a20-59d6-479a-c06c-72da0378c82b"
      },
      "source": [
        "# Declara e inicializa um dicionário de cores\n",
        "dicionario1 = {1:\"vermelho\", 2:\"azul\", 3:\"verde\", 4:\"amarelo\"}\n",
        "dicionario2 = {4:\"amarelo\", 5:\"rosa\", 6:\"branco\"}\n",
        "\n",
        "print(dicionario1)\n",
        "print(dicionario2)\n",
        "\n",
        "# Concatena os dicionários()\n",
        "dicionario1.update(dicionario2)\n",
        "\n",
        "print(dicionario1)"
      ],
      "execution_count": 87,
      "outputs": [
        {
          "output_type": "stream",
          "name": "stdout",
          "text": [
            "{1: 'vermelho', 2: 'azul', 3: 'verde', 4: 'amarelo'}\n",
            "{4: 'amarelo', 5: 'rosa', 6: 'branco'}\n",
            "{1: 'vermelho', 2: 'azul', 3: 'verde', 4: 'amarelo', 5: 'rosa', 6: 'branco'}\n"
          ]
        }
      ]
    },
    {
      "cell_type": "markdown",
      "metadata": {
        "id": "17YaYR888L14"
      },
      "source": [
        "## Removendo elementos (pop)\n",
        "\n",
        "Remove um elemento pela chave do dicionário e retorna a chave do elemento. Use quando quiser conhecer o elemento removido."
      ]
    },
    {
      "cell_type": "code",
      "metadata": {
        "id": "YcHSjgad8NN4",
        "colab": {
          "base_uri": "https://localhost:8080/"
        },
        "outputId": "d54f1b85-e6da-409f-ba30-cd32d3ef2146"
      },
      "source": [
        "# Declara e inicializa um dicionário de cores\n",
        "dicionario = {1:\"vermelho\", 2:\"azul\", 3:\"verde\", 4:\"amarelo\", 5:\"rosa\", 6:\"branco\"}\n",
        "\n",
        "print(dicionario)\n",
        "\n",
        "# pop()\n",
        "apagado = dicionario.pop(2)\n",
        "print(dicionario)\n",
        "\n",
        "# Elemento removido\n",
        "print(apagado)"
      ],
      "execution_count": 88,
      "outputs": [
        {
          "output_type": "stream",
          "name": "stdout",
          "text": [
            "{1: 'vermelho', 2: 'azul', 3: 'verde', 4: 'amarelo', 5: 'rosa', 6: 'branco'}\n",
            "{1: 'vermelho', 3: 'verde', 4: 'amarelo', 5: 'rosa', 6: 'branco'}\n",
            "azul\n"
          ]
        }
      ]
    },
    {
      "cell_type": "markdown",
      "metadata": {
        "id": "uBTTs67ZfKz9"
      },
      "source": [
        "## Removendo elementos (del)\n",
        "\n",
        "Remove um elemento pela chave do dicionário."
      ]
    },
    {
      "cell_type": "code",
      "metadata": {
        "id": "VFG3qfUpfKz-",
        "colab": {
          "base_uri": "https://localhost:8080/"
        },
        "outputId": "e7a7a0b9-2727-43a6-bb33-12fd8405a046"
      },
      "source": [
        "# Declara e inicializa um dicionário de cores\n",
        "dicionario = {1:\"vermelho\", 2:\"azul\", 3:\"verde\", 4:\"amarelo\", 5:\"rosa\", 6:\"branco\"}\n",
        "\n",
        "print(dicionario)\n",
        "\n",
        "# del\n",
        "del dicionario[1]\n",
        "\n",
        "print(dicionario)"
      ],
      "execution_count": 89,
      "outputs": [
        {
          "output_type": "stream",
          "name": "stdout",
          "text": [
            "{1: 'vermelho', 2: 'azul', 3: 'verde', 4: 'amarelo', 5: 'rosa', 6: 'branco'}\n",
            "{2: 'azul', 3: 'verde', 4: 'amarelo', 5: 'rosa', 6: 'branco'}\n"
          ]
        }
      ]
    },
    {
      "cell_type": "markdown",
      "metadata": {
        "id": "JF2sOdM3e65C"
      },
      "source": [
        "## Apagando dicionário"
      ]
    },
    {
      "cell_type": "code",
      "metadata": {
        "id": "5tv1wJpoe65C",
        "colab": {
          "base_uri": "https://localhost:8080/"
        },
        "outputId": "e544c721-7128-4f83-c0d6-0aeaaad9aef3"
      },
      "source": [
        "# Declara e inicializa um dicionário de cores\n",
        "dicionario = {1:\"vermelho\", 2:\"azul\", 3:\"verde\", 4:\"amarelo\", 5:\"rosa\", 6:\"branco\"}\n",
        "\n",
        "print(dicionario)\n",
        "\n",
        "# clear()\n",
        "dicionario.clear()\n",
        "\n",
        "print(dicionario)"
      ],
      "execution_count": 90,
      "outputs": [
        {
          "output_type": "stream",
          "name": "stdout",
          "text": [
            "{1: 'vermelho', 2: 'azul', 3: 'verde', 4: 'amarelo', 5: 'rosa', 6: 'branco'}\n",
            "{}\n"
          ]
        }
      ]
    },
    {
      "cell_type": "markdown",
      "metadata": {
        "id": "1LJiRi52_wii"
      },
      "source": [
        "## Listando os elementos"
      ]
    },
    {
      "cell_type": "code",
      "metadata": {
        "id": "tlsb5HpQ_yy5",
        "colab": {
          "base_uri": "https://localhost:8080/"
        },
        "outputId": "c6a4ed30-9422-4ee9-9da8-3baee2f914e5"
      },
      "source": [
        "# Declara e inicializa um dicionário de cores\n",
        "dicionario = {1:\"vermelho\", 2:\"azul\", 3:\"verde\", 4:\"amarelo\", 5:\"rosa\", 6:\"branco\"}\n",
        "\n",
        "# Lista as chaves do dicionario(método keys())\n",
        "for linha in dicionario.keys():\n",
        "  print(linha)\n",
        "\n",
        "# Lista os valores do dicionário(método values())\n",
        "for linha in dicionario.values():\n",
        "  print(linha)\n",
        "\n",
        "# Lista chave e valores do dicionário(método items())\n",
        "for chave, valor in dicionario.items():\n",
        "  print(\"chave=\",chave,\" valor=\", valor)"
      ],
      "execution_count": 91,
      "outputs": [
        {
          "output_type": "stream",
          "name": "stdout",
          "text": [
            "1\n",
            "2\n",
            "3\n",
            "4\n",
            "5\n",
            "6\n",
            "vermelho\n",
            "azul\n",
            "verde\n",
            "amarelo\n",
            "rosa\n",
            "branco\n",
            "chave= 1  valor= vermelho\n",
            "chave= 2  valor= azul\n",
            "chave= 3  valor= verde\n",
            "chave= 4  valor= amarelo\n",
            "chave= 5  valor= rosa\n",
            "chave= 6  valor= branco\n"
          ]
        }
      ]
    },
    {
      "cell_type": "markdown",
      "metadata": {
        "id": "emPC9iVRbY-A"
      },
      "source": [
        "## Ordenando os elementos pelo valor"
      ]
    },
    {
      "cell_type": "code",
      "metadata": {
        "colab": {
          "base_uri": "https://localhost:8080/"
        },
        "id": "6PWaEuwvcalv",
        "outputId": "737a2024-1024-45ee-a102-1b8bb6f24fe5"
      },
      "source": [
        "# Declara e inicializa um dicionário de quantidade cores\n",
        "dicionario = {\"vermelho\": 3, \"azul\": 2 , \"verde\": 6, \"amarelo\": 5, \"rosa\": 1, \"branco\":4}\n",
        "\n",
        "# Lista as chaves do dicionário ordenados crescentemente\n",
        "print(sorted(dicionario))"
      ],
      "execution_count": 92,
      "outputs": [
        {
          "output_type": "stream",
          "name": "stdout",
          "text": [
            "['amarelo', 'azul', 'branco', 'rosa', 'verde', 'vermelho']\n"
          ]
        }
      ]
    },
    {
      "cell_type": "markdown",
      "metadata": {
        "id": "RORPIc64o9Rq"
      },
      "source": [
        "## Ordenando os elementos pela chave\n",
        "\n",
        "Ordem crescente"
      ]
    },
    {
      "cell_type": "code",
      "metadata": {
        "colab": {
          "base_uri": "https://localhost:8080/"
        },
        "id": "rol09AimbY-B",
        "outputId": "e27ae4e4-6434-4436-f8ff-3a7fc565f67c"
      },
      "source": [
        "# Declara e inicializa um dicionário de quantidade cores\n",
        "dicionario = {\"vermelho\": 3, \"azul\": 2 , \"verde\": 6, \"amarelo\": 5, \"rosa\": 1, \"branco\":4}\n",
        "\n",
        "# Lista as chaves do dicionário ordenados crescentemente\n",
        "for valor in sorted(dicionario, key = dicionario.get):\n",
        "    print(valor, dicionario[valor])"
      ],
      "execution_count": 93,
      "outputs": [
        {
          "output_type": "stream",
          "name": "stdout",
          "text": [
            "rosa 1\n",
            "azul 2\n",
            "vermelho 3\n",
            "branco 4\n",
            "amarelo 5\n",
            "verde 6\n"
          ]
        }
      ]
    },
    {
      "cell_type": "markdown",
      "metadata": {
        "id": "xJKznimXo6Ll"
      },
      "source": [
        "Ordem descrente"
      ]
    },
    {
      "cell_type": "code",
      "metadata": {
        "colab": {
          "base_uri": "https://localhost:8080/"
        },
        "id": "fhgb7A8McLHN",
        "outputId": "920e06a5-3fec-4993-c291-523f01a1848a"
      },
      "source": [
        "# Declara e inicializa um dicionário de quantidade cores\n",
        "dicionario = {\"vermelho\": 3, \"azul\": 2 , \"verde\": 6, \"amarelo\": 5, \"rosa\": 1, \"branco\":4}\n",
        "\n",
        "# Lista as chaves do dicionário ordenados descrescentemente\n",
        "for valor in sorted(dicionario, key = dicionario.get, reverse=True):\n",
        "    print(valor, dicionario[valor])"
      ],
      "execution_count": 94,
      "outputs": [
        {
          "output_type": "stream",
          "name": "stdout",
          "text": [
            "verde 6\n",
            "amarelo 5\n",
            "branco 4\n",
            "vermelho 3\n",
            "azul 2\n",
            "rosa 1\n"
          ]
        }
      ]
    },
    {
      "cell_type": "markdown",
      "metadata": {
        "id": "NGIkQkn79K04"
      },
      "source": [
        "## Dicionário de Dicionário"
      ]
    },
    {
      "cell_type": "code",
      "metadata": {
        "id": "KtIwBy529UBh",
        "colab": {
          "base_uri": "https://localhost:8080/"
        },
        "outputId": "6f784793-c600-4c8b-f80c-be6fc7f73f36"
      },
      "source": [
        "# Declara e inicializa um dicionário de cores com chave númerica com {}\n",
        "dicionario = {1:{11:{\"onze\"}, 12:{\"doze\"}},\n",
        "              2:{21:{\"vinte um\"}, 22:{\"vinte dois\"}},\n",
        "              3:{31:{\"trinta e um\"}, 32:{\"trinta e dois\"}}}\n",
        "\n",
        "# Recupera o valor do primeiro dicionário\n",
        "print(dicionario[1])\n",
        "\n",
        "# Recupera o valor do segundo dicionário\n",
        "print(dicionario[1][11])\n",
        "\n",
        "# Lista chave e valores do dicionário(método items())\n",
        "for chave1, valor1 in dicionario.items():\n",
        "  print(\"chave1=\",chave1,\" valor1=\", valor1)\n",
        "  # Lista os valores do dicionário interno \n",
        "  for chave2, valor2 in valor1.items():\n",
        "    print(\"    chave2=\",chave2,\" valor2=\", valor2)"
      ],
      "execution_count": 95,
      "outputs": [
        {
          "output_type": "stream",
          "name": "stdout",
          "text": [
            "{11: {'onze'}, 12: {'doze'}}\n",
            "{'onze'}\n",
            "chave1= 1  valor1= {11: {'onze'}, 12: {'doze'}}\n",
            "    chave2= 11  valor2= {'onze'}\n",
            "    chave2= 12  valor2= {'doze'}\n",
            "chave1= 2  valor1= {21: {'vinte um'}, 22: {'vinte dois'}}\n",
            "    chave2= 21  valor2= {'vinte um'}\n",
            "    chave2= 22  valor2= {'vinte dois'}\n",
            "chave1= 3  valor1= {31: {'trinta e um'}, 32: {'trinta e dois'}}\n",
            "    chave2= 31  valor2= {'trinta e um'}\n",
            "    chave2= 32  valor2= {'trinta e dois'}\n"
          ]
        }
      ]
    },
    {
      "cell_type": "markdown",
      "metadata": {
        "id": "QZPMCLpGwf9E"
      },
      "source": [
        "## Concatenando 2 dicionários"
      ]
    },
    {
      "cell_type": "code",
      "metadata": {
        "colab": {
          "base_uri": "https://localhost:8080/"
        },
        "id": "nVYBgxbtwgIC",
        "outputId": "e4150a38-461f-4783-e658-d38aa4ebfec6"
      },
      "source": [
        "# Declara e inicializa um dicionário de cores\n",
        "dicionario1 = {4:\"amarelo\", 5:\"rosa\", 6:\"branco\"}\n",
        "dicionario2 = {1:\"vermelho\", 2:\"azul\", 3:\"verde\"}\n",
        "\n",
        "# Adiciona o dicionário1 no dicionario2\n",
        "for chave in dicionario1:\n",
        "    dicionario2[chave] = dicionario1[chave]\n",
        "\n",
        "print(dicionario2)"
      ],
      "execution_count": 96,
      "outputs": [
        {
          "output_type": "stream",
          "name": "stdout",
          "text": [
            "{1: 'vermelho', 2: 'azul', 3: 'verde', 4: 'amarelo', 5: 'rosa', 6: 'branco'}\n"
          ]
        }
      ]
    },
    {
      "cell_type": "markdown",
      "metadata": {
        "id": "HoJtFntzzq0Q"
      },
      "source": [
        "# Classificação / Ordenação"
      ]
    },
    {
      "cell_type": "markdown",
      "metadata": {
        "id": "S3lURBdBzxuQ"
      },
      "source": [
        "## Método da bolha"
      ]
    },
    {
      "cell_type": "code",
      "metadata": {
        "id": "dkS6JT-iz1gc",
        "colab": {
          "base_uri": "https://localhost:8080/"
        },
        "outputId": "cdac45bc-4c38-46dc-aced-4eb183d20e99"
      },
      "source": [
        "# Inicialização das variáveis\n",
        "vetor = [60, 50, 40, 30, 20, 10]\n",
        "\n",
        "# Processamento\n",
        "for i in range(0, len(vetor)-1):\n",
        "    for j in range(i+1, len(vetor)):        \n",
        "        if(vetor[i] > vetor[j]):            \n",
        "            aux = vetor[i]\n",
        "            vetor[i] = vetor[j]\n",
        "            vetor[j] = aux\n",
        "            \n",
        "# Saída\n",
        "print(vetor)"
      ],
      "execution_count": 97,
      "outputs": [
        {
          "output_type": "stream",
          "name": "stdout",
          "text": [
            "[10, 20, 30, 40, 50, 60]\n"
          ]
        }
      ]
    },
    {
      "cell_type": "markdown",
      "metadata": {
        "id": "nMLw-_l8gqPI"
      },
      "source": [
        "## Método Quicksort"
      ]
    },
    {
      "cell_type": "code",
      "metadata": {
        "id": "qLLMntLZgsaU",
        "colab": {
          "base_uri": "https://localhost:8080/"
        },
        "outputId": "55167f38-227a-4b14-8327-9ecb1d4ae8cf"
      },
      "source": [
        "# Função quicksort\n",
        "def quicksort(vetor):\n",
        "    if len(vetor) <= 1:\n",
        "        return vetor\n",
        "    pivo = vetor[len(vetor) // 2] #Divisão inteira (//)\n",
        "    esquerda = [x for x in vetor if x < pivo]\n",
        "    meio = [x for x in vetor if x == pivo]\n",
        "    direita = [x for x in vetor if x > pivo]\n",
        "    return quicksort(esquerda) + meio + quicksort(direita)\n",
        "\n",
        "# Inicialização das variáveis\n",
        "vetor = [10, 20, 30, 40, 50, 60]\n",
        "\n",
        "# Processamento\n",
        "vetorOrdenado = quicksort(vetor)\n",
        "            \n",
        "# Saída\n",
        "print(vetor)"
      ],
      "execution_count": 98,
      "outputs": [
        {
          "output_type": "stream",
          "name": "stdout",
          "text": [
            "[10, 20, 30, 40, 50, 60]\n"
          ]
        }
      ]
    },
    {
      "cell_type": "markdown",
      "metadata": {
        "id": "0Q4NM9va2mWB"
      },
      "source": [
        "## Sort Ascendente"
      ]
    },
    {
      "cell_type": "code",
      "metadata": {
        "id": "AMS9-fng2qjb",
        "colab": {
          "base_uri": "https://localhost:8080/"
        },
        "outputId": "03688429-92fa-45b6-b446-f302fb296408"
      },
      "source": [
        "# Inicialização das variáveis\n",
        "vetor = [60, 50, 40, 30, 20, 10]\n",
        "\n",
        "# Processamento\n",
        "vetor.sort()\n",
        "            \n",
        "# Saída\n",
        "print(vetor)"
      ],
      "execution_count": 99,
      "outputs": [
        {
          "output_type": "stream",
          "name": "stdout",
          "text": [
            "[10, 20, 30, 40, 50, 60]\n"
          ]
        }
      ]
    },
    {
      "cell_type": "markdown",
      "metadata": {
        "id": "2Y0uyvPf24zG"
      },
      "source": [
        "## Sort Descendente"
      ]
    },
    {
      "cell_type": "code",
      "metadata": {
        "id": "1-_tKRnC3CdR",
        "colab": {
          "base_uri": "https://localhost:8080/"
        },
        "outputId": "7195804a-2c36-4a19-e66b-513c3b879150"
      },
      "source": [
        "# Inicialização das variáveis\n",
        "vetor = [10, 20, 30, 40, 50, 60]\n",
        "\n",
        "# Processamento\n",
        "vetor.sort(reverse=True)\n",
        "            \n",
        "# Saída\n",
        "print(vetor)"
      ],
      "execution_count": 100,
      "outputs": [
        {
          "output_type": "stream",
          "name": "stdout",
          "text": [
            "[60, 50, 40, 30, 20, 10]\n"
          ]
        }
      ]
    },
    {
      "cell_type": "markdown",
      "metadata": {
        "id": "KfESLnXVs2zM"
      },
      "source": [
        "# Implementações de estruturas de dados"
      ]
    },
    {
      "cell_type": "markdown",
      "metadata": {
        "id": "P6-IKLWDkEKc"
      },
      "source": [
        "## Classe Pilha\n",
        "\n",
        "LIFO (Last In First Out)\n",
        "\n",
        "A inserção e remoção é realizada sempre no fim da lista, denominada topo."
      ]
    },
    {
      "cell_type": "code",
      "metadata": {
        "id": "6XoLTXvYkLf-"
      },
      "source": [
        "class Pilha:\n",
        "  \n",
        "    # Construtor da classe\n",
        "    def __init__(self):\n",
        "        # Lista para armazenar os elementos da pilha\n",
        "        self.pilha = []\n",
        "        #inicializa o contador de elementos da pilha\n",
        "        self.qtde = 0 \n",
        "        \n",
        "    # Empilhar(push)\n",
        "    def empilhar(self, elemento):\n",
        "        # Adiciona o elemento a pilha\n",
        "        self.pilha.append(elemento)\n",
        "        # Incrementa o contador de elementos da pilha\n",
        "        self.qtde += 1\n",
        "    \n",
        "    # Desempilhar(pop)\n",
        "    def desempilhar(self): \n",
        "        # Se não estiver vazia\n",
        "        if not self.vazia():\n",
        "            # Mensagem mostrando o elemento removido\n",
        "            print(\"Elemento removido: \", self.pilha[len(self.pilha) - 1])\n",
        "            # Remove o elemento do topo da pilha\n",
        "            self.pilha.pop(len(self.pilha) - 1)\n",
        "            # Decrementa o contador de elementos da pilha\n",
        "            self.qtde -= 1\n",
        "\n",
        "    # Verifica a situação da pilha\n",
        "    def vazia(self):\n",
        "        # Verifica o tamanho da lista\n",
        "        if self.qtde == 0:\n",
        "            return True\n",
        "        return False\n",
        "    \n",
        "    # Mostra os elementos da pilha\n",
        "    def mostraPilha(self):\n",
        "        # Percorre os elementos da pilha\n",
        "        for i in range(self.qtde - 1, -1, -1): #Range de (Tamanho Fila até 0)\n",
        "            print(self.pilha[i])"
      ],
      "execution_count": 101,
      "outputs": []
    },
    {
      "cell_type": "markdown",
      "metadata": {
        "id": "03hwiVMLkhue"
      },
      "source": [
        "Exemplo uso:"
      ]
    },
    {
      "cell_type": "code",
      "metadata": {
        "id": "YVbsZehSkjJ4",
        "colab": {
          "base_uri": "https://localhost:8080/"
        },
        "outputId": "a580d8c4-43ee-4251-987c-1ef198552aa8"
      },
      "source": [
        "# Declara a pilha\n",
        "p = Pilha()\n",
        "\n",
        "# Adiciona \n",
        "p.empilhar(10)\n",
        "p.empilhar(20)\n",
        "p.empilhar(30)\n",
        "\n",
        "# Mostra a pilha\n",
        "p.mostraPilha()\n",
        "\n",
        "# Remove \n",
        "p.desempilhar()\n",
        "\n",
        "# Mostra a pilha\n",
        "p.mostraPilha()\n",
        "\n",
        "# Remove \n",
        "p.desempilhar()\n",
        "\n",
        "# Situação da pilha\n",
        "print(p.vazia())"
      ],
      "execution_count": 102,
      "outputs": [
        {
          "output_type": "stream",
          "name": "stdout",
          "text": [
            "30\n",
            "20\n",
            "10\n",
            "Elemento removido:  30\n",
            "20\n",
            "10\n",
            "Elemento removido:  20\n",
            "False\n"
          ]
        }
      ]
    },
    {
      "cell_type": "markdown",
      "metadata": {
        "id": "oP0Tf9dEnB9x"
      },
      "source": [
        "## Classe Fila\n",
        "\n",
        "FIFO (First In First Out)\n",
        "\n",
        "A inclusão ocorre no fim e a exclusão ocorre no início."
      ]
    },
    {
      "cell_type": "code",
      "metadata": {
        "id": "aRCMn1i0nMx2"
      },
      "source": [
        "class Fila:\n",
        "\n",
        "    # Construtor da classe\n",
        "    def __init__(self):\n",
        "        # Lista para armazenar os elementos da pilha\n",
        "        self.fila = []\n",
        "        #inicializa contador de elementos da fila\n",
        "        self.qtde = 0\n",
        "        \n",
        "    # Enfileirar(enqueue)\n",
        "    def enfileirar(self, elemento):\n",
        "        # Adiciona o elemento no final da fila\n",
        "        self.fila.append(elemento)\n",
        "        # Incrementa o contador de elementos da fila\n",
        "        self.qtde += 1\n",
        "    \n",
        "    # Desenfileirar(dequeue)\n",
        "    def desenfileirar(self):\n",
        "        # Se não estiver vazia\n",
        "        if not self.vazia():\n",
        "            # Mensagem mostrando o elemento removido          \n",
        "            print(\"Elemento removido: \", self.fila[0])\n",
        "            # Remove o elemento do início da fila\n",
        "            self.fila.pop(0)\n",
        "            # Decrementa o contador de elementos da fila\n",
        "            self.qtde -= 1\n",
        "\n",
        "    # Verifica a situação da fila\n",
        "    def vazia(self):\n",
        "        if self.qtde == 0:\n",
        "            return True\n",
        "        return False\n",
        "    \n",
        "    # Mostra os elementos da fila\n",
        "    def mostraFila(self):\n",
        "        # Percorre os elementos da fila\n",
        "        for i in range(self.qtde):\n",
        "            print(self.fila[i])"
      ],
      "execution_count": 103,
      "outputs": []
    },
    {
      "cell_type": "markdown",
      "metadata": {
        "id": "YzhngxoToGFc"
      },
      "source": [
        "Exemplo uso:"
      ]
    },
    {
      "cell_type": "code",
      "metadata": {
        "id": "lLpYAooroGfN",
        "colab": {
          "base_uri": "https://localhost:8080/"
        },
        "outputId": "ee0ba7ac-09b6-4043-cd1a-a2468de7b478"
      },
      "source": [
        "# Declara a fila\n",
        "q = Fila()\n",
        "\n",
        "# Adiciona \n",
        "q.enfileirar(10)\n",
        "q.enfileirar(20)\n",
        "q.enfileirar(30)\n",
        "\n",
        "# Mostra a fila\n",
        "q.mostraFila()\n",
        "\n",
        "# Remove\n",
        "q.desenfileirar()\n",
        "\n",
        "# Mostra a fila\n",
        "q.mostraFila()\n",
        "\n",
        "# Enfileirar\n",
        "print(\"Enfileirando: 40\")\n",
        "q.enfileirar(40)\n",
        "\n",
        "# Mostra a fila\n",
        "q.mostraFila()\n",
        "\n",
        "# Situação da fila\n",
        "print(q.vazia())"
      ],
      "execution_count": 104,
      "outputs": [
        {
          "output_type": "stream",
          "name": "stdout",
          "text": [
            "10\n",
            "20\n",
            "30\n",
            "Elemento removido:  10\n",
            "20\n",
            "30\n",
            "Enfileirando: 40\n",
            "20\n",
            "30\n",
            "40\n",
            "False\n"
          ]
        }
      ]
    },
    {
      "cell_type": "markdown",
      "metadata": {
        "id": "T3Ko8MjHowD-"
      },
      "source": [
        "## Classe Deque\n",
        "\n",
        "Os elementos podem ser removidos ou inseridos no início ou fim da fila."
      ]
    },
    {
      "cell_type": "code",
      "metadata": {
        "id": "hAota5TYozCF"
      },
      "source": [
        "class Deque:\n",
        "\n",
        "    # Construtor da classe    \n",
        "    def __init__(self):\n",
        "        # Lista para armazenar os elementos do deque\n",
        "        self.deque = []\n",
        "        # Inicializa contador de elementos do deque\n",
        "        self.qtde = 0\n",
        "    \n",
        "    # Insere no início(insertFront)\n",
        "    def inserirInicio(self, elemento):\n",
        "        # Adiciona o elemento no início do deque\n",
        "        self.deque.insert(0, elemento)\n",
        "        # Incrementa o contador de elementos do deque\n",
        "        self.qtde += 1\n",
        "            \n",
        "    # Insere no fim(insertBack)\n",
        "    def inserirFim(self, elemento):\n",
        "        # Adiciona o elemento no fim do deque\n",
        "        self.deque.append(elemento)\n",
        "        # Incrementa o contador de elementos do deque\n",
        "        self.qtde += 1\n",
        "        \n",
        "    # Remove do início(removeFront)\n",
        "    def removerInicio(self):\n",
        "        # Mensagem mostrando o elemento removido\n",
        "        print(\"Elemento removido: \", self.deque[0])\n",
        "        # Remove o elemento do início\n",
        "        self.deque.pop(0)\n",
        "        # Decrementa o contador de elementos do deque\n",
        "        self.qtde -= 1\n",
        "    \n",
        "    # Remove do fim(removeBack)\n",
        "    def removerFim(self):\n",
        "        # Mensagem mostrando o elemento removido\n",
        "        print(\"Elemento removido: \", self.deque[-1])\n",
        "        # Remove o elemento do fim\n",
        "        self.deque.pop(-1)\n",
        "        # Decrementa o contador de elementos\n",
        "        self.qtde -= 1\n",
        "        \n",
        "    # Verifica a situação do deque\n",
        "    def vazia(self):\n",
        "        if self.qtde == 0:\n",
        "            return True\n",
        "        return False\n",
        "\n",
        "    # Mostra os elementos do deque\n",
        "    def mostraDeque(self):\n",
        "        # Percorre os elementos do deque\n",
        "        for i in range(self.qtde):\n",
        "            print(self.deque[i])"
      ],
      "execution_count": 105,
      "outputs": []
    },
    {
      "cell_type": "markdown",
      "metadata": {
        "id": "yHWYdDQip7jA"
      },
      "source": [
        "Exemplo de uso:"
      ]
    },
    {
      "cell_type": "code",
      "metadata": {
        "id": "n2h1HLW5p8p6",
        "colab": {
          "base_uri": "https://localhost:8080/"
        },
        "outputId": "f0608360-4e4d-4c69-ef2a-612fc03f7141"
      },
      "source": [
        "# Declara o deque\n",
        "d = Deque()\n",
        "\n",
        "# Inserindo no início\n",
        "d.inserirInicio(10)\n",
        "d.inserirInicio(20)\n",
        "d.inserirInicio(30)\n",
        "\n",
        "# Mostra o deque\n",
        "d.mostraDeque()\n",
        "\n",
        "# Remove do fim\n",
        "d.removerFim()\n",
        "\n",
        "# Remove do início\n",
        "d.removerInicio()\n",
        "\n",
        "# Mostra o deque\n",
        "d.mostraDeque()\n",
        "\n",
        "# Situação do deque\n",
        "print(d.vazia())"
      ],
      "execution_count": 106,
      "outputs": [
        {
          "output_type": "stream",
          "name": "stdout",
          "text": [
            "30\n",
            "20\n",
            "10\n",
            "Elemento removido:  10\n",
            "Elemento removido:  30\n",
            "20\n",
            "False\n"
          ]
        }
      ]
    },
    {
      "cell_type": "markdown",
      "metadata": {
        "id": "_TDiScCgqUIW"
      },
      "source": [
        "## Deque com collections.deque\n",
        "\n",
        "Implementação do Deque do pacote colletions"
      ]
    },
    {
      "cell_type": "code",
      "metadata": {
        "id": "DoW65JTIqYBi",
        "colab": {
          "base_uri": "https://localhost:8080/"
        },
        "outputId": "cc3d1998-1a5d-4393-f42a-f452bbfa2983"
      },
      "source": [
        "from collections import deque\n",
        "\n",
        "# Declara o deque\n",
        "d = deque()\n",
        "\n",
        "# Adiciona ao fim do deque\n",
        "d.append(10) \n",
        "# Adiciona ao início ao deque\n",
        "d.appendleft(20) \n",
        "# Adiciona ao fim do deque\n",
        "d.append(30)\n",
        "\n",
        "# Mostra o deque\n",
        "for i in d:\n",
        "    print(i, end=\" \")\n",
        "\n",
        "# Remove do fim\n",
        "d.pop() \n",
        "\n",
        "# Remove do início\n",
        "d.popleft()\n",
        "\n",
        "# Mostra o deque\n",
        "for i in d:\n",
        "    print(i, end=\" \")"
      ],
      "execution_count": 107,
      "outputs": [
        {
          "output_type": "stream",
          "name": "stdout",
          "text": [
            "20 10 30 10 "
          ]
        }
      ]
    },
    {
      "cell_type": "markdown",
      "metadata": {
        "id": "REh3q0uBfVFE"
      },
      "source": [
        "## Classe ListaSimplesmenteEncadeada\n",
        "\n",
        "Os elementos podem ser removidos ou inseridos no início ou fim da fila. Existe uma classe para armazenar os dados e o ponteiro do próximo elemento."
      ]
    },
    {
      "cell_type": "code",
      "metadata": {
        "id": "P6-bYxTIflWT"
      },
      "source": [
        "class No:\n",
        "\n",
        "    # Construtor da classe    \n",
        "    def __init__(self, elemento=None, proximo=None):\n",
        "        self.elemento = elemento\n",
        "        self.proximo = proximo\n",
        "    \n",
        "    # Retorna os dados do nó\n",
        "    def __str__(self):\n",
        "        return str(self.elemento)"
      ],
      "execution_count": 108,
      "outputs": []
    },
    {
      "cell_type": "code",
      "metadata": {
        "id": "i-UowY2SfVFF"
      },
      "source": [
        "class ListaSimplesmenteEncadeada:\n",
        "\n",
        "    # Construtor da classe    \n",
        "    def __init__(self):\n",
        "        # Guarda o início da lista simplesmente encadeada\n",
        "        self.inicio = None\n",
        "        #inicializa contador de elementos da lista simplesmente encadeada\n",
        "        self.qtde = 0\n",
        "    \n",
        "    # Insere no início(insertFront)\n",
        "    def inserirInicio(self, elemento):\n",
        "        # Instancia um novo nó\n",
        "        novo = No(elemento, self.inicio)\n",
        "        # Adiciona o elemento no início da lista simplesmente encadeada\n",
        "        self.inicio = novo\n",
        "        # Incrementa o contador de elementos da lista simplesmente encadeada\n",
        "        self.qtde += 1\n",
        "                    \n",
        "    # Insere no fim(insertBack)\n",
        "    def inserirFim(self, elemento):\n",
        "        # Se diferente de vazio procura a última posição\n",
        "        if self.inicio:\n",
        "          aux = self.inicio\n",
        "          # Percorre os elementos da lista simplesmente encadeada\n",
        "          while aux.proximo:            \n",
        "            aux = aux.proximo\n",
        "          # Instancia um novo nó\n",
        "          novo = No(elemento)\n",
        "          # Adiciona ao final da lista\n",
        "          aux.proximo = novo\n",
        "          # Incrementa o contador de elementos do deque\n",
        "          self.qtde += 1\n",
        "        else:\n",
        "          self.inserirInicio(elemento)      \n",
        "        \n",
        "    # Remove do início(removeFront)\n",
        "    def removerInicio(self):\n",
        "        # Verifica se a lista não está vazia\n",
        "        if self.inicio:\n",
        "            # Mensagem mostrando o elemento removido\n",
        "            print(\"Elemento removido: \", self.inicio.elemento)\n",
        "            # Remove o elemento do início\n",
        "            self.inicio = self.inicio.proximo\n",
        "            # Decrementa o contador de elementos da lista simplesmente encadeada\n",
        "            self.qtde -= 1\n",
        "        else:\n",
        "            print(\"Lista vazia!\")\n",
        "    \n",
        "    # Remove do fim(removeBack)\n",
        "    def removerFim(self):\n",
        "        # Verifica se a lista não está vazia\n",
        "        if self.inicio:\n",
        "            # Com mais de um nó\n",
        "            if self.inicio.proximo:\n",
        "                # Recupera o início da lista\n",
        "                atual = self.inicio \n",
        "                anterior = None;\n",
        "                while atual.proximo:\n",
        "                    anterior = atual\n",
        "                    atual = atual.proximo                                \n",
        "                # Mensagem mostrando o elemento removido\n",
        "                print(\"Elemento removido: \", atual.elemento)\n",
        "                # Pula o elemento a ser removido\n",
        "                anterior.proximo = atual.proximo \n",
        "                # Decrementa o contador de elementos da lista simplesmente encadeada\n",
        "                self.qtde -= 1                \n",
        "            else:\n",
        "                # Remove do início                \n",
        "                self.removerInicio()            \n",
        "        else:\n",
        "            print(\"Lista vazia!\")        \n",
        "        \n",
        "    # Verifica a situação da lista simplesmente encadeada\n",
        "    def vazia(self):\n",
        "        if self.qtde == 0:\n",
        "            return True\n",
        "        return False\n",
        "\n",
        "    # Mostra os elementos da lista simplesmente encadeada\n",
        "    def mostraLista(self):\n",
        "        aux = self.inicio\n",
        "        # Percorre os elementos da lista simplesmente encadeada\n",
        "        while aux:\n",
        "          print(aux)\n",
        "          aux = aux.proximo\n",
        "          "
      ],
      "execution_count": 109,
      "outputs": []
    },
    {
      "cell_type": "markdown",
      "metadata": {
        "id": "shcXxUVsfVFJ"
      },
      "source": [
        "Exemplo de uso:"
      ]
    },
    {
      "cell_type": "code",
      "metadata": {
        "id": "sMVMGH_ZfVFK",
        "colab": {
          "base_uri": "https://localhost:8080/"
        },
        "outputId": "3268c472-3e5a-42e3-b506-163df9632157"
      },
      "source": [
        "# Declara a lista simplesmente encadeada\n",
        "l = ListaSimplesmenteEncadeada()\n",
        "\n",
        "# Inserindo no início\n",
        "l.inserirFim(30)\n",
        "l.inserirFim(40)\n",
        "\n",
        "# Inserindo no fim\n",
        "l.inserirInicio(20)\n",
        "l.inserirInicio(10)\n",
        "\n",
        "# Mostra a lista simplesmente encadeada\n",
        "l.mostraLista()\n",
        "\n",
        "# Remove do início\n",
        "l.removerInicio()\n",
        "\n",
        "# Mostra a lista simplesmente encadeada\n",
        "l.mostraLista()\n",
        "\n",
        "# Remove do fim\n",
        "l.removerFim()\n",
        "l.removerFim()\n",
        "l.removerFim()\n",
        "l.removerFim()\n",
        "\n",
        "# Mostra a lista simplesmente encadeada\n",
        "l.mostraLista()\n",
        "\n",
        "# Situação da lista simplesmente encadeada\n",
        "print(l.vazia())"
      ],
      "execution_count": 110,
      "outputs": [
        {
          "output_type": "stream",
          "name": "stdout",
          "text": [
            "10\n",
            "20\n",
            "30\n",
            "40\n",
            "Elemento removido:  10\n",
            "20\n",
            "30\n",
            "40\n",
            "Elemento removido:  40\n",
            "Elemento removido:  30\n",
            "Elemento removido:  20\n",
            "Lista vazia!\n",
            "True\n"
          ]
        }
      ]
    }
  ]
}