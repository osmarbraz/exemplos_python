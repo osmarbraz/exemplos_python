{
  "nbformat": 4,
  "nbformat_minor": 0,
  "metadata": {
    "colab": {
      "name": "ExemplosPythonEstruturasDeDados.ipynb",
      "provenance": [],
      "collapsed_sections": [],
      "toc_visible": true,
      "include_colab_link": true
    },
    "kernelspec": {
      "name": "python3",
      "display_name": "Python 3"
    }
  },
  "cells": [
    {
      "cell_type": "markdown",
      "metadata": {
        "id": "view-in-github",
        "colab_type": "text"
      },
      "source": [
        "<a href=\"https://colab.research.google.com/github/osmarbraz/exemplos_python/blob/master/ExemplosPythonEstruturasDeDados.ipynb\" target=\"_parent\"><img src=\"https://colab.research.google.com/assets/colab-badge.svg\" alt=\"Open In Colab\"/></a>"
      ]
    },
    {
      "cell_type": "markdown",
      "metadata": {
        "id": "xY84ChCNzmQQ"
      },
      "source": [
        "# Exemplos de Estruturas de Dados em Python no Google Colaboratory\n",
        "\n",
        "- Listas(List);\n",
        "- Enumerações(Enumerate);\n",
        "- Tuplas(Tuple);\n",
        "- Intervalos(Range)\n",
        "- Conjuntos(Sets);\n",
        "- Dicionários(Dict);\n",
        "- Classificação(Ordenação);\n",
        "- Classes de Estrutura de Dados.\n",
        "\n",
        "-----------------------------------------\n",
        "**Guia Colab Iniciante:**\n",
        "\n",
        "https://medium.com/machina-sapiens/google-colab-guia-do-iniciante-334d70aad531\n",
        "\n",
        "**Documentação oficial:**\n",
        "\n",
        "https://colab.research.google.com/github/jakevdp/PythonDataScienceHandbook/blob/master/notebooks/01.01-Help-And-Documentation.ipynb\n",
        "\n",
        "**Características :**\n",
        "\n",
        "https://colab.research.google.com/notebooks/basic_features_overview.ipynb"
      ]
    },
    {
      "cell_type": "markdown",
      "metadata": {
        "id": "8-yh61Cp3W_0"
      },
      "source": [
        "# Listas/List"
      ]
    },
    {
      "cell_type": "markdown",
      "metadata": {
        "id": "_F96dx_gpm2Y"
      },
      "source": [
        "Uma lista é a estrutura de dados mais básica do Python e armazena os dados em sequência, onde cada elemento possui sua posição na lista, denominada de índice. O primeiro elemento é sempre o índice zero e a cada elemento inserido na lista esse valor é incrementado.\n",
        "\n",
        "No Python, uma lista pode armazenar qualquer tipo de dado primitivo (string, inteiro, float, etc). \n",
        "\n",
        "Listas são equivalentes a vetores.\n",
        "\n",
        "* São ordenadas;\n",
        "* Podem ser iteradas;\n",
        "* São mutáveis (podemos adicionar, mover, mudar ou remover elementos);\n",
        "* Aceitam diversos tipos de elementos.\n",
        "\n",
        "https://railsware.com/blog/python-for-machine-learning-indexing-and-slicing-for-lists-tuples-strings-and-other-sequential-types/"
      ]
    },
    {
      "cell_type": "markdown",
      "metadata": {
        "id": "U9yrljlxiyFk"
      },
      "source": [
        "## Declarando e criando listas"
      ]
    },
    {
      "cell_type": "code",
      "metadata": {
        "id": "CRP2Snaki3N4",
        "colab": {
          "base_uri": "https://localhost:8080/"
        },
        "outputId": "a11b08c3-8019-47e4-b182-7b8769824580"
      },
      "source": [
        "# Declara e inicializa uma lista de cores\n",
        "cores = ['vermelho', 'azul', 'verde', 'amarelo', 'rosa', 'branco']\n",
        "\n",
        "# Mostra lista\n",
        "print(cores)"
      ],
      "execution_count": 1,
      "outputs": [
        {
          "output_type": "stream",
          "name": "stdout",
          "text": [
            "['vermelho', 'azul', 'verde', 'amarelo', 'rosa', 'branco']\n"
          ]
        }
      ]
    },
    {
      "cell_type": "markdown",
      "metadata": {
        "id": "jIyN9queGP1O"
      },
      "source": [
        "## Declarando e inicializando uma listacom uma constante"
      ]
    },
    {
      "cell_type": "code",
      "metadata": {
        "id": "3DiQIAj7GTFh",
        "colab": {
          "base_uri": "https://localhost:8080/"
        },
        "outputId": "4665c008-7fc4-4c09-cb48-391c48458c71"
      },
      "source": [
        "#gera um vetor de 10 posições com o valor 'sem cor'\n",
        "cores = ['sem cor'] * 10\n",
        "\n",
        "print(len(cores))\n",
        "print(cores)"
      ],
      "execution_count": 2,
      "outputs": [
        {
          "output_type": "stream",
          "name": "stdout",
          "text": [
            "10\n",
            "['sem cor', 'sem cor', 'sem cor', 'sem cor', 'sem cor', 'sem cor', 'sem cor', 'sem cor', 'sem cor', 'sem cor']\n"
          ]
        }
      ]
    },
    {
      "cell_type": "markdown",
      "metadata": {
        "id": "aO6beiJqk9Wz"
      },
      "source": [
        "## Acessando elementos da lista"
      ]
    },
    {
      "cell_type": "markdown",
      "metadata": {
        "id": "fL1p2TUaoZ87"
      },
      "source": [
        "### Acessando elementos por índice\n",
        "\n",
        "ATENÇÃO: Início em 0(zero)!"
      ]
    },
    {
      "cell_type": "code",
      "metadata": {
        "id": "tWTdt6UHlBLt",
        "colab": {
          "base_uri": "https://localhost:8080/"
        },
        "outputId": "9faefc85-4666-489c-d6a2-37d8e4757f05"
      },
      "source": [
        "# Declara e inicializa uma lista de cores\n",
        "cores = ['vermelho', 'azul', 'verde', 'amarelo', 'rosa', 'branco']\n",
        "\n",
        "# Acessando o primeiro(índice=0) elemento da lista\n",
        "print(\"Primeiro:\",cores[0])\n",
        "\n",
        "# Acessando o terceiro(índice=3) elemento da lista\n",
        "print(\"Terceiro:\", cores[2])"
      ],
      "execution_count": 3,
      "outputs": [
        {
          "output_type": "stream",
          "name": "stdout",
          "text": [
            "Primeiro: vermelho\n",
            "Terceiro: verde\n"
          ]
        }
      ]
    },
    {
      "cell_type": "markdown",
      "metadata": {
        "id": "Mr6-JwsfjQ_w"
      },
      "source": [
        "### Últilizando índices negativos"
      ]
    },
    {
      "cell_type": "code",
      "metadata": {
        "id": "KIzfpb_2jYBK",
        "colab": {
          "base_uri": "https://localhost:8080/"
        },
        "outputId": "d891d6fd-45da-4591-fc59-b66f8ddd9e91"
      },
      "source": [
        "# Declara e inicializa uma lista de cores\n",
        "cores = ['vermelho', 'azul', 'verde', 'amarelo', 'rosa', 'branco']\n",
        "\n",
        "# Acessando o último elemento da lista\n",
        "print(\"Último:\",cores[-1])\n",
        "\n",
        "# Acessando o penúltimo elemento da lista\n",
        "print(\"Penúltimo:\",cores[-2])"
      ],
      "execution_count": 4,
      "outputs": [
        {
          "output_type": "stream",
          "name": "stdout",
          "text": [
            "Último: branco\n",
            "Penúltimo: rosa\n"
          ]
        }
      ]
    },
    {
      "cell_type": "markdown",
      "metadata": {
        "id": "BmgjxxGupDTv"
      },
      "source": [
        "### Acessando intervalos [:]"
      ]
    },
    {
      "cell_type": "code",
      "metadata": {
        "id": "_MXZ1qJ9pDTw",
        "colab": {
          "base_uri": "https://localhost:8080/"
        },
        "outputId": "88d93185-aa0d-4d9b-99bc-0fbe749cce9c"
      },
      "source": [
        "# Declara e inicializa uma lista de cores\n",
        "cores = ['vermelho', 'azul', 'verde', 'amarelo', 'rosa', 'branco']\n",
        "\n",
        "# Acessando o intervalo de todos\n",
        "print(\"Intervalo de de todos(cores[:])                 :\", cores[:])\n",
        "\n",
        "# Acessando o intervalo de 2 a 4\n",
        "print(\"Intervalo de 2 até 4(cores[2:4])                :\", cores[2:4])\n",
        "\n",
        "# Acessando o intervalo do primeiro até o 2\n",
        "print(\"Intervalo do início até 2(cores[:2])            :\", cores[:2])\n",
        "\n",
        "# Acessando do início até o penúltimo elemento da lista\n",
        "print(\"Intervalo início até o último(cores[:-1])       :\",cores[:-1])\n",
        "\n",
        "# Acessando do 0 até o penúltimo elemento da lista\n",
        "print(\"Intervalo 0 até o último(cores[0:-1])           :\",cores[0:-1])\n",
        "\n",
        "# Acessando do início até o penúltimo elemento da lista\n",
        "print(\"Intervalo de início até o penúltimo(cores[:-2]) :\",cores[:-2])\n",
        "\n",
        "# Acessando do 0 até o penúltimo elemento da lista\n",
        "print(\"Intervalo de 0 até o penúltimo(cores[:-2])      :\",cores[:-2])\n",
        "\n",
        "# Acessando do 0 até o penúltimo elemento da lista\n",
        "print(\"Intervalo de 0 até o penúltimo(cores[0:-2])     :\",cores[0:-2])\n",
        "\n",
        "# Acessando do segundo até o penúltimo elemento da lista\n",
        "print(\"Intervalo de 2 até o penúltimo(cores[2:-2])     :\",cores[2:-2])\n",
        "\n",
        "# Acessando o último elemento da lista\n",
        "print(\"Intervalo de fim até o último(cores[-1:])       :\",cores[-1:])\n",
        "\n",
        "# Acessando os dois últimos elementos da lista\n",
        "print(\"Intervalo de fim até os dois últimos(cores[-2:]):\",cores[-2:])"
      ],
      "execution_count": 5,
      "outputs": [
        {
          "output_type": "stream",
          "name": "stdout",
          "text": [
            "Intervalo de de todos(cores[:])                 : ['vermelho', 'azul', 'verde', 'amarelo', 'rosa', 'branco']\n",
            "Intervalo de 2 até 4(cores[2:4])                : ['verde', 'amarelo']\n",
            "Intervalo do início até 2(cores[:2])            : ['vermelho', 'azul']\n",
            "Intervalo início até o último(cores[:-1])       : ['vermelho', 'azul', 'verde', 'amarelo', 'rosa']\n",
            "Intervalo 0 até o último(cores[0:-1])           : ['vermelho', 'azul', 'verde', 'amarelo', 'rosa']\n",
            "Intervalo de início até o penúltimo(cores[:-2]) : ['vermelho', 'azul', 'verde', 'amarelo']\n",
            "Intervalo de 0 até o penúltimo(cores[:-2])      : ['vermelho', 'azul', 'verde', 'amarelo']\n",
            "Intervalo de 0 até o penúltimo(cores[0:-2])     : ['vermelho', 'azul', 'verde', 'amarelo']\n",
            "Intervalo de 2 até o penúltimo(cores[2:-2])     : ['verde', 'amarelo']\n",
            "Intervalo de fim até o último(cores[-1:])       : ['branco']\n",
            "Intervalo de fim até os dois últimos(cores[-2:]): ['rosa', 'branco']\n"
          ]
        }
      ]
    },
    {
      "cell_type": "markdown",
      "metadata": {
        "id": "L6p_1m9vk2Eo"
      },
      "source": [
        "## Atribuindo valores"
      ]
    },
    {
      "cell_type": "code",
      "metadata": {
        "id": "OUyBCzp8lKFZ",
        "colab": {
          "base_uri": "https://localhost:8080/"
        },
        "outputId": "4fd65032-5a97-49de-ba0d-e70ccd55fc3b"
      },
      "source": [
        "# Declara e inicializa uma lista de cores\n",
        "cores = ['vermelho', 'azul', 'verde', 'amarelo', 'rosa', 'branco']\n",
        "\n",
        "# Atribuindo um novo valor para o primeiro elemento índice=0\n",
        "cores[0]  = 'marron'\n",
        "\n",
        "# Atribuindo um novo valor para o último elemento índice=-1\n",
        "cores[-1] = 'preto'\n",
        "\n",
        "# Mostra a lista\n",
        "print(cores)"
      ],
      "execution_count": 6,
      "outputs": [
        {
          "output_type": "stream",
          "name": "stdout",
          "text": [
            "['marron', 'azul', 'verde', 'amarelo', 'rosa', 'preto']\n"
          ]
        }
      ]
    },
    {
      "cell_type": "markdown",
      "metadata": {
        "id": "TS6fenV9yyHP"
      },
      "source": [
        "##Max e Min dos elementos das listas"
      ]
    },
    {
      "cell_type": "code",
      "metadata": {
        "id": "q-YPfwsayyZF",
        "colab": {
          "base_uri": "https://localhost:8080/"
        },
        "outputId": "f105abdf-dfbe-4721-8f9a-85e68479eb06"
      },
      "source": [
        "# Declara e inicializa uma lista de número\n",
        "lista = [10, 20, 30 , 40 , 50 , 60]\n",
        "\n",
        "menor = min(lista)\n",
        "maior = max(lista)\n",
        "\n",
        "# Mostra o menor\n",
        "print(menor)\n",
        "\n",
        "# Mostra o maior\n",
        "print(maior)"
      ],
      "execution_count": 7,
      "outputs": [
        {
          "output_type": "stream",
          "name": "stdout",
          "text": [
            "10\n",
            "60\n"
          ]
        }
      ]
    },
    {
      "cell_type": "markdown",
      "metadata": {
        "id": "gKgypxOH8-kS"
      },
      "source": [
        "## Tamanho das listas"
      ]
    },
    {
      "cell_type": "code",
      "metadata": {
        "id": "mZjI2Xsx9EpS",
        "colab": {
          "base_uri": "https://localhost:8080/"
        },
        "outputId": "e2ee1c37-a501-4afc-ea6b-fe1a86406fa9"
      },
      "source": [
        "# Declara e inicializa uma lista de número\n",
        "lista = [10, 20, 30 , 40 , 50 , 60]\n",
        "\n",
        "# O método len retorna a quantidade de elementos da lista\n",
        "tamanho = len(lista)\n",
        "\n",
        "# Mostra o tamanho\n",
        "print(tamanho)\n"
      ],
      "execution_count": 8,
      "outputs": [
        {
          "output_type": "stream",
          "name": "stdout",
          "text": [
            "6\n"
          ]
        }
      ]
    },
    {
      "cell_type": "markdown",
      "metadata": {
        "id": "ymqzP7bp3z8Q"
      },
      "source": [
        "## Exibindo listas"
      ]
    },
    {
      "cell_type": "markdown",
      "metadata": {
        "id": "VnCf0nAjkiaJ"
      },
      "source": [
        "### Listando tudo"
      ]
    },
    {
      "cell_type": "code",
      "metadata": {
        "id": "bhJ3cCYsGE6m",
        "colab": {
          "base_uri": "https://localhost:8080/"
        },
        "outputId": "56115c9c-8493-4b14-e15d-659019cc208b"
      },
      "source": [
        "# Declara e inicializa uma lista de cores\n",
        "cores = ['vermelho', 'azul', 'verde', 'amarelo', 'rosa', 'branco']\n",
        "\n",
        "# Percorre a lista de cores, o valor atual está em cor\n",
        "for cor in cores:\n",
        "    print(cor)"
      ],
      "execution_count": 9,
      "outputs": [
        {
          "output_type": "stream",
          "name": "stdout",
          "text": [
            "vermelho\n",
            "azul\n",
            "verde\n",
            "amarelo\n",
            "rosa\n",
            "branco\n"
          ]
        }
      ]
    },
    {
      "cell_type": "markdown",
      "metadata": {
        "id": "2KuGRyZlG8G0"
      },
      "source": [
        "###  Percorre sem exibir o primeiro e último elemento"
      ]
    },
    {
      "cell_type": "code",
      "metadata": {
        "id": "PUk23g8CG8G1",
        "colab": {
          "base_uri": "https://localhost:8080/"
        },
        "outputId": "08cf73c8-d80b-4807-98b7-098da1e31afb"
      },
      "source": [
        "# Declara e inicializa uma lista de cores\n",
        "cores = ['vermelho', 'azul', 'verde', 'amarelo', 'rosa', 'branco']\n",
        "\n",
        "# Percorre a lista de cores, o valor atual está em cor\n",
        "for cor in cores[1:-1]:\n",
        "    print(cor)"
      ],
      "execution_count": 10,
      "outputs": [
        {
          "output_type": "stream",
          "name": "stdout",
          "text": [
            "azul\n",
            "verde\n",
            "amarelo\n",
            "rosa\n"
          ]
        }
      ]
    },
    {
      "cell_type": "markdown",
      "metadata": {
        "id": "Ebgjd9kM85hp"
      },
      "source": [
        "### Percorre as listas de forma invertida"
      ]
    },
    {
      "cell_type": "code",
      "metadata": {
        "id": "88o8wdC68woL",
        "colab": {
          "base_uri": "https://localhost:8080/"
        },
        "outputId": "076990f8-7114-42f6-949c-ebec5b942a8b"
      },
      "source": [
        "# Declara e inicializa uma lista de cores\n",
        "cores = ['vermelho', 'azul', 'verde', 'amarelo', 'rosa', 'branco']\n",
        "\n",
        "# Percorre a lista de cores, o valor atual está em cor\n",
        "for cor in cores[::-1]:\n",
        "    print(cor)"
      ],
      "execution_count": 11,
      "outputs": [
        {
          "output_type": "stream",
          "name": "stdout",
          "text": [
            "branco\n",
            "rosa\n",
            "amarelo\n",
            "verde\n",
            "azul\n",
            "vermelho\n"
          ]
        }
      ]
    },
    {
      "cell_type": "markdown",
      "metadata": {
        "id": "okzpNteU3uhs"
      },
      "source": [
        "### Limitando a exibição sem índice"
      ]
    },
    {
      "cell_type": "code",
      "metadata": {
        "id": "tylksppD399H",
        "colab": {
          "base_uri": "https://localhost:8080/"
        },
        "outputId": "b2efaa76-4a78-4560-be78-d00ab70acea1"
      },
      "source": [
        "# Biblioteca para iteragir\n",
        "import itertools\n",
        "\n",
        "# Declara e inicializa uma lista de cores\n",
        "cores = ['vermelho', 'azul', 'verde', 'amarelo', 'rosa', 'branco']\n",
        "\n",
        "# Limite de dados a serem exibidos\n",
        "limite = 2\n",
        "\n",
        "# Percorre a lista de cores até o limite, o valor atual está em cor\n",
        "for cor in itertools.islice(cores, 0, limite):    \n",
        "    print(cor)"
      ],
      "execution_count": 12,
      "outputs": [
        {
          "output_type": "stream",
          "name": "stdout",
          "text": [
            "vermelho\n",
            "azul\n"
          ]
        }
      ]
    },
    {
      "cell_type": "markdown",
      "metadata": {
        "id": "YocA-8PD5FV7"
      },
      "source": [
        "### Limitando a exibição com índice 1\n",
        "\n",
        "Exemplo usando zip"
      ]
    },
    {
      "cell_type": "code",
      "metadata": {
        "id": "hYYeCwVI5HaB",
        "colab": {
          "base_uri": "https://localhost:8080/"
        },
        "outputId": "7a009d45-de75-44f8-83ab-4e83ded7f7b2"
      },
      "source": [
        "# Declara e inicializa uma lista de cores\n",
        "cores = ['vermelho', 'azul', 'verde', 'amarelo', 'rosa', 'branco']\n",
        "\n",
        "# Limite de dados a serem exibidos\n",
        "limite = 2\n",
        "\n",
        "# Percorre a lista de cores até o limite, o valor atual está em cor\n",
        "for index, cor in zip(range(limite), cores):\n",
        "    print(index, cor)"
      ],
      "execution_count": 13,
      "outputs": [
        {
          "output_type": "stream",
          "name": "stdout",
          "text": [
            "0 vermelho\n",
            "1 azul\n"
          ]
        }
      ]
    },
    {
      "cell_type": "markdown",
      "metadata": {
        "id": "qHhSY51t4dsr"
      },
      "source": [
        "### Limitando a exibição com índice 2\n",
        "\n",
        "Exemplo usando islice, necessita de import itertools"
      ]
    },
    {
      "cell_type": "code",
      "metadata": {
        "id": "dKfGDpaO4gbZ",
        "colab": {
          "base_uri": "https://localhost:8080/"
        },
        "outputId": "5004d052-0c5c-454f-ef84-77d1262cd7be"
      },
      "source": [
        "# Biblioteca para iteragir\n",
        "import itertools\n",
        "\n",
        "# Declara e inicializa uma lista de cores\n",
        "cores = ['vermelho', 'azul', 'verde', 'amarelo', 'rosa', 'branco']\n",
        "\n",
        "# Limite de dados a serem exibidos\n",
        "limite = 2\n",
        "\n",
        "# Percorre a lista de cores até o limite, o valor atual está em cor\n",
        "for index, cor in enumerate(itertools.islice(cores, limite)):\n",
        "    print(index, cor)"
      ],
      "execution_count": 14,
      "outputs": [
        {
          "output_type": "stream",
          "name": "stdout",
          "text": [
            "0 vermelho\n",
            "1 azul\n"
          ]
        }
      ]
    },
    {
      "cell_type": "markdown",
      "metadata": {
        "id": "yzlq0V-mzAHt"
      },
      "source": [
        "## Similaridade de coseno com listas"
      ]
    },
    {
      "cell_type": "code",
      "metadata": {
        "id": "2eCu5fl_zAxj",
        "colab": {
          "base_uri": "https://localhost:8080/"
        },
        "outputId": "9a633be6-f594-4c52-f33b-c4119f0b90ff"
      },
      "source": [
        "# Biblioteca de álgebra linear(matrizes)\n",
        "import numpy as np\n",
        "\n",
        "from scipy.spatial.distance import cosine\n",
        "\n",
        "A = np.array([0, 1, 2, 3]) \n",
        "B = np.array([0, 1, 2, 3]) \n",
        "\n",
        "C = cosine(A,B) \n",
        "\n",
        "print('A>', A)\n",
        "print('B>', B)\n",
        "print('C>', C)\n",
        "\n",
        "D = np.array([0, 1, 4, 5]) \n",
        "E = cosine(A,D) \n",
        "\n",
        "print('A>', A)\n",
        "print('D>', D)\n",
        "print('E>', E)"
      ],
      "execution_count": 15,
      "outputs": [
        {
          "output_type": "stream",
          "name": "stdout",
          "text": [
            "A> [0 1 2 3]\n",
            "B> [0 1 2 3]\n",
            "C> 0.0\n",
            "A> [0 1 2 3]\n",
            "D> [0 1 4 5]\n",
            "E> 0.010256681389212985\n"
          ]
        }
      ]
    },
    {
      "cell_type": "markdown",
      "metadata": {
        "id": "Bo5nSHcHkr5E"
      },
      "source": [
        "## Manutenção de listas\n",
        "\n",
        "http://excript.com/python/incluindo-alterando-excluindo-elementos-lista-python.html\n"
      ]
    },
    {
      "cell_type": "markdown",
      "metadata": {
        "id": "CZw2JxftmdGI"
      },
      "source": [
        "### Adicionando elementos"
      ]
    },
    {
      "cell_type": "code",
      "metadata": {
        "id": "mvaex6wOme4u",
        "colab": {
          "base_uri": "https://localhost:8080/"
        },
        "outputId": "271ba0c2-1846-46ea-e295-f5d4234cf388"
      },
      "source": [
        "# Declara e inicializa uma lista de cores\n",
        "cores = ['vermelho', 'azul', 'verde', 'amarelo', 'rosa', 'branco']\n",
        "\n",
        "# Mostra a lista\n",
        "print(cores)\n",
        "\n",
        "# Adicionando no final\n",
        "cores.append('marron')\n",
        "\n",
        "# Mostra a lista\n",
        "print(cores)"
      ],
      "execution_count": 16,
      "outputs": [
        {
          "output_type": "stream",
          "name": "stdout",
          "text": [
            "['vermelho', 'azul', 'verde', 'amarelo', 'rosa', 'branco']\n",
            "['vermelho', 'azul', 'verde', 'amarelo', 'rosa', 'branco', 'marron']\n"
          ]
        }
      ]
    },
    {
      "cell_type": "markdown",
      "metadata": {
        "id": "Z9DHKSrtmrVR"
      },
      "source": [
        "### Inserindo elementos"
      ]
    },
    {
      "cell_type": "code",
      "metadata": {
        "id": "OkUXgF2zmryo",
        "colab": {
          "base_uri": "https://localhost:8080/"
        },
        "outputId": "5f5d8821-0f50-4dc5-f4cd-ae45b7c25050"
      },
      "source": [
        "# Declara e inicializa uma lista de cores\n",
        "cores = ['vermelho', 'azul', 'verde', 'amarelo', 'rosa', 'branco']\n",
        "\n",
        "# Mostra a lista\n",
        "print(cores)\n",
        "\n",
        "# Adicionando na segunda posição(índice=1)\n",
        "cores.insert(1, 'marron')\n",
        "\n",
        "# Mostra a lista\n",
        "print(cores)"
      ],
      "execution_count": 17,
      "outputs": [
        {
          "output_type": "stream",
          "name": "stdout",
          "text": [
            "['vermelho', 'azul', 'verde', 'amarelo', 'rosa', 'branco']\n",
            "['vermelho', 'marron', 'azul', 'verde', 'amarelo', 'rosa', 'branco']\n"
          ]
        }
      ]
    },
    {
      "cell_type": "markdown",
      "metadata": {
        "id": "JTZNNWl49XZf"
      },
      "source": [
        "### Adicionando múltiplos elementos"
      ]
    },
    {
      "cell_type": "code",
      "metadata": {
        "id": "MaCBet729Z7s",
        "colab": {
          "base_uri": "https://localhost:8080/"
        },
        "outputId": "656a30f3-ba67-4361-a913-392a6d907df5"
      },
      "source": [
        "# Declara e inicializa uma lista de cores\n",
        "cores = ['vermelho', 'azul', 'verde', 'amarelo', 'rosa', 'branco']\n",
        "\n",
        "# Mostra a lista\n",
        "print(cores)\n",
        "\n",
        "# Adicionando na 2 elementos\n",
        "cores.extend(['bege','cinza'])\n",
        "\n",
        "# Mostra a lista\n",
        "print(cores)"
      ],
      "execution_count": 18,
      "outputs": [
        {
          "output_type": "stream",
          "name": "stdout",
          "text": [
            "['vermelho', 'azul', 'verde', 'amarelo', 'rosa', 'branco']\n",
            "['vermelho', 'azul', 'verde', 'amarelo', 'rosa', 'branco', 'bege', 'cinza']\n"
          ]
        }
      ]
    },
    {
      "cell_type": "markdown",
      "metadata": {
        "id": "MHsbWu8Nm7FP"
      },
      "source": [
        "### Alterando elementos"
      ]
    },
    {
      "cell_type": "code",
      "metadata": {
        "id": "HiEcY0Irm9CM",
        "colab": {
          "base_uri": "https://localhost:8080/"
        },
        "outputId": "cc7490c2-fdd2-4770-89fa-11b94c826210"
      },
      "source": [
        "# Declara e inicializa uma lista de cores\n",
        "cores = ['vermelho', 'azul', 'verde', 'amarelo', 'rosa', 'branco']\n",
        "\n",
        "# Mostra a lista\n",
        "print(cores)\n",
        "\n",
        "# Alterando o conteúdo da segunda posição(índice=1)\n",
        "cores[1] = 'marron'\n",
        "\n",
        "# Mostra a lista\n",
        "print(cores)"
      ],
      "execution_count": 19,
      "outputs": [
        {
          "output_type": "stream",
          "name": "stdout",
          "text": [
            "['vermelho', 'azul', 'verde', 'amarelo', 'rosa', 'branco']\n",
            "['vermelho', 'marron', 'verde', 'amarelo', 'rosa', 'branco']\n"
          ]
        }
      ]
    },
    {
      "cell_type": "markdown",
      "metadata": {
        "id": "4QtUxGfIkulC"
      },
      "source": [
        "### Excluindo elementos pela índice\n"
      ]
    },
    {
      "cell_type": "code",
      "metadata": {
        "id": "r0O8ZTAllwLa",
        "colab": {
          "base_uri": "https://localhost:8080/"
        },
        "outputId": "5253efd5-7af7-4b6a-f108-0a518ab48314"
      },
      "source": [
        "# Declara e inicializa uma lista de cores\n",
        "cores = ['vermelho', 'azul', 'verde', 'amarelo', 'rosa', 'branco']\n",
        "\n",
        "# Apagando primeiro\n",
        "del cores[0]\n",
        "\n",
        "# Mostra a lista\n",
        "print(cores)\n",
        "\n",
        "# Apagando último\n",
        "del cores[-1]\n",
        "\n",
        "# Mostra a lista\n",
        "print(cores)"
      ],
      "execution_count": 20,
      "outputs": [
        {
          "output_type": "stream",
          "name": "stdout",
          "text": [
            "['azul', 'verde', 'amarelo', 'rosa', 'branco']\n",
            "['azul', 'verde', 'amarelo', 'rosa']\n"
          ]
        }
      ]
    },
    {
      "cell_type": "markdown",
      "metadata": {
        "id": "SRyyiQV199MM"
      },
      "source": [
        "### Excluindo elementos pelo valor"
      ]
    },
    {
      "cell_type": "code",
      "metadata": {
        "id": "sRIBu3xZ99h8",
        "colab": {
          "base_uri": "https://localhost:8080/"
        },
        "outputId": "ef7764a9-05d3-4528-e9f9-bd16e1ed2abd"
      },
      "source": [
        "# Declara e inicializa uma lista de cores\n",
        "cores = ['vermelho', 'azul', 'verde', 'amarelo', 'rosa', 'branco']\n",
        "\n",
        "# Mostra a lista\n",
        "print(cores)\n",
        "\n",
        "# Apagando o elemento azul\n",
        "cores.remove('azul')\n",
        "\n",
        "# Mostra a lista\n",
        "print(cores)"
      ],
      "execution_count": 21,
      "outputs": [
        {
          "output_type": "stream",
          "name": "stdout",
          "text": [
            "['vermelho', 'azul', 'verde', 'amarelo', 'rosa', 'branco']\n",
            "['vermelho', 'verde', 'amarelo', 'rosa', 'branco']\n"
          ]
        }
      ]
    },
    {
      "cell_type": "markdown",
      "metadata": {
        "id": "TXEVFZgLnaNX"
      },
      "source": [
        "### Excluindo intervalo de elementos"
      ]
    },
    {
      "cell_type": "code",
      "metadata": {
        "id": "XVuE5GTMnclH",
        "colab": {
          "base_uri": "https://localhost:8080/"
        },
        "outputId": "070d6214-1efc-48ad-9725-9ad48c156330"
      },
      "source": [
        "# Declara e inicializa uma lista de cores\n",
        "cores = ['vermelho', 'azul', 'verde', 'amarelo', 'rosa', 'branco']\n",
        "\n",
        "# Mostra a lista\n",
        "print(cores)\n",
        "\n",
        "# Apagando os elementos do intervalo de 1(segundo) até 4(quinto)\n",
        "del (cores[1:4])\n",
        "\n",
        "# Mostra a lista\n",
        "print(cores)"
      ],
      "execution_count": 22,
      "outputs": [
        {
          "output_type": "stream",
          "name": "stdout",
          "text": [
            "['vermelho', 'azul', 'verde', 'amarelo', 'rosa', 'branco']\n",
            "['vermelho', 'rosa', 'branco']\n"
          ]
        }
      ]
    },
    {
      "cell_type": "markdown",
      "metadata": {
        "id": "X8nv8tl4nLG1"
      },
      "source": [
        "### Excluindo todos os elementos"
      ]
    },
    {
      "cell_type": "code",
      "metadata": {
        "id": "fdSYfk-NnQHQ",
        "colab": {
          "base_uri": "https://localhost:8080/"
        },
        "outputId": "951c8a59-f8d4-45d0-e46e-fc8d30477f29"
      },
      "source": [
        "# Declara e inicializa uma lista de cores\n",
        "cores = ['vermelho', 'azul', 'verde', 'amarelo', 'rosa', 'branco']\n",
        "\n",
        "# Mostra a lista\n",
        "print(cores)\n",
        "\n",
        "# Apagando todos os elementos\n",
        "cores.clear()\n",
        "\n",
        "# Mostra a lista\n",
        "print(cores)"
      ],
      "execution_count": 23,
      "outputs": [
        {
          "output_type": "stream",
          "name": "stdout",
          "text": [
            "['vermelho', 'azul', 'verde', 'amarelo', 'rosa', 'branco']\n",
            "[]\n"
          ]
        }
      ]
    },
    {
      "cell_type": "markdown",
      "metadata": {
        "id": "QB3leiM6g9BU"
      },
      "source": [
        "### Concatenando os dados de uma lista"
      ]
    },
    {
      "cell_type": "code",
      "metadata": {
        "colab": {
          "base_uri": "https://localhost:8080/"
        },
        "id": "PFK6VIZohDl_",
        "outputId": "61403a1d-f222-42c3-c263-a7fbdb62e530"
      },
      "source": [
        "# Declara e inicializa uma lista de cores\n",
        "cores = ['vermelho', 'azul', 'verde']\n",
        "\n",
        "# Mostra a lista\n",
        "print(cores)\n",
        "\n",
        "# Concatena os dados da listas\n",
        "soma = \" \".join(cores)\n",
        "\n",
        "# Mostra a lista\n",
        "print(soma)"
      ],
      "execution_count": 24,
      "outputs": [
        {
          "output_type": "stream",
          "name": "stdout",
          "text": [
            "['vermelho', 'azul', 'verde']\n",
            "vermelho azul verde\n"
          ]
        }
      ]
    },
    {
      "cell_type": "markdown",
      "metadata": {
        "id": "MBhRrcqhZQcZ"
      },
      "source": [
        "### Concatenando duas listas"
      ]
    },
    {
      "cell_type": "code",
      "metadata": {
        "id": "mzXpt4p2ZQca",
        "colab": {
          "base_uri": "https://localhost:8080/"
        },
        "outputId": "f6cdee24-b9a5-490d-91ec-c3d1631fa34c"
      },
      "source": [
        "# Declara e inicializa uma lista de cores\n",
        "cores1 = ['vermelho', 'azul', 'verde']\n",
        "cores2 = ['amarelo', 'rosa', 'branco']\n",
        "\n",
        "# Mostra as listas\n",
        "print(cores1)\n",
        "print(cores2)\n",
        "\n",
        "# Concatena as duas listas\n",
        "soma = cores1 + cores2\n",
        "\n",
        "# Mostra a lista\n",
        "print(soma)"
      ],
      "execution_count": 25,
      "outputs": [
        {
          "output_type": "stream",
          "name": "stdout",
          "text": [
            "['vermelho', 'azul', 'verde']\n",
            "['amarelo', 'rosa', 'branco']\n",
            "['vermelho', 'azul', 'verde', 'amarelo', 'rosa', 'branco']\n"
          ]
        }
      ]
    },
    {
      "cell_type": "markdown",
      "metadata": {
        "id": "OTKzy2EOb5tw"
      },
      "source": [
        "### Ordenando listas de números(sort)"
      ]
    },
    {
      "cell_type": "code",
      "metadata": {
        "id": "eewTzk0Xb58D",
        "colab": {
          "base_uri": "https://localhost:8080/"
        },
        "outputId": "bb94d05e-bdf6-45f9-e70f-ca964a1f3619"
      },
      "source": [
        "# Declara e inicializa uma lista de números\n",
        "lista = [50, 40, 30, 20, 10]\n",
        "\n",
        "# Mostra a lista\n",
        "print(lista)\n",
        "\n",
        "#ordena a lista\n",
        "lista.sort()\n",
        "\n",
        "# Mostra a lista\n",
        "print(lista)"
      ],
      "execution_count": 26,
      "outputs": [
        {
          "output_type": "stream",
          "name": "stdout",
          "text": [
            "[50, 40, 30, 20, 10]\n",
            "[10, 20, 30, 40, 50]\n"
          ]
        }
      ]
    },
    {
      "cell_type": "markdown",
      "metadata": {
        "id": "BFb7QnQ9Du1b"
      },
      "source": [
        "### Ordenando listas de números(sorted)"
      ]
    },
    {
      "cell_type": "code",
      "metadata": {
        "colab": {
          "base_uri": "https://localhost:8080/"
        },
        "id": "TUG1y7JmDu1b",
        "outputId": "c549e2e6-b69d-4d68-8689-73c94f2d1e75"
      },
      "source": [
        "# Declara e inicializa uma lista de números\n",
        "lista = [50, 40, 30, 20, 10]\n",
        "\n",
        "# Mostra a lista\n",
        "print(lista)\n",
        "\n",
        "#ordena a lista\n",
        "listaOrdenada = sorted(lista)\n",
        "\n",
        "# Mostra a lista ordenada\n",
        "print(listaOrdenada)"
      ],
      "execution_count": 27,
      "outputs": [
        {
          "output_type": "stream",
          "name": "stdout",
          "text": [
            "[50, 40, 30, 20, 10]\n",
            "[10, 20, 30, 40, 50]\n"
          ]
        }
      ]
    },
    {
      "cell_type": "markdown",
      "metadata": {
        "id": "Zu4gSAyzcPlB"
      },
      "source": [
        "### Ordenando listas de literais (sort)"
      ]
    },
    {
      "cell_type": "code",
      "metadata": {
        "id": "fH6BPGBqcPlB",
        "colab": {
          "base_uri": "https://localhost:8080/"
        },
        "outputId": "f90f358d-9a16-4c28-d9b4-892085c3d99d"
      },
      "source": [
        "# Declara e inicializa uma lista de literais\n",
        "lista = ['cinquenta', 'quarenta', 'trinta', 'vinta', 'dez']\n",
        "\n",
        "# Mostra a lista\n",
        "print(lista)\n",
        "\n",
        "#ordena a lista\n",
        "lista.sort()\n",
        "\n",
        "# Mostra a lista\n",
        "print(lista)"
      ],
      "execution_count": 28,
      "outputs": [
        {
          "output_type": "stream",
          "name": "stdout",
          "text": [
            "['cinquenta', 'quarenta', 'trinta', 'vinta', 'dez']\n",
            "['cinquenta', 'dez', 'quarenta', 'trinta', 'vinta']\n"
          ]
        }
      ]
    },
    {
      "cell_type": "markdown",
      "metadata": {
        "id": "5o1MsVkIDhdE"
      },
      "source": [
        "### Ordenando listas de literais (sorted)"
      ]
    },
    {
      "cell_type": "code",
      "metadata": {
        "colab": {
          "base_uri": "https://localhost:8080/"
        },
        "id": "HALsAB0-DhdF",
        "outputId": "02c3a844-1414-4e11-e3c5-e91cfaf77b2f"
      },
      "source": [
        "# Declara e inicializa uma lista de literais\n",
        "lista = ['cinquenta', 'quarenta', 'trinta', 'vinta', 'dez']\n",
        "\n",
        "# Mostra a lista\n",
        "print(lista)\n",
        "\n",
        "#ordena a lista\n",
        "listaOrdenada = sorted(lista)\n",
        "\n",
        "# Mostra a lista ordenada\n",
        "print(listaOrdenada)"
      ],
      "execution_count": 29,
      "outputs": [
        {
          "output_type": "stream",
          "name": "stdout",
          "text": [
            "['cinquenta', 'quarenta', 'trinta', 'vinta', 'dez']\n",
            "['cinquenta', 'dez', 'quarenta', 'trinta', 'vinta']\n"
          ]
        }
      ]
    },
    {
      "cell_type": "markdown",
      "metadata": {
        "id": "QFJLexjRdMVy"
      },
      "source": [
        "### Procurando valores nas listas"
      ]
    },
    {
      "cell_type": "code",
      "metadata": {
        "id": "6dNlQ3OSdMVz",
        "colab": {
          "base_uri": "https://localhost:8080/"
        },
        "outputId": "2f2803a8-c8f4-4163-be6a-26643f12809b"
      },
      "source": [
        "# Declara e inicializa uma lista de números\n",
        "lista = [10, 20, 30, 40, 50]\n",
        "\n",
        "# Mostra a lista\n",
        "print(lista)\n",
        "\n",
        "# Verifica a existência de 10 na lista\n",
        "print(10 in lista)\n",
        "\n",
        "# Verifica a existência de 20 na lista\n",
        "if (20 in lista):\n",
        "  print(\"20 existe na lista\")"
      ],
      "execution_count": 30,
      "outputs": [
        {
          "output_type": "stream",
          "name": "stdout",
          "text": [
            "[10, 20, 30, 40, 50]\n",
            "True\n",
            "20 existe na lista\n"
          ]
        }
      ]
    },
    {
      "cell_type": "markdown",
      "metadata": {
        "id": "IPU46C_Dd1QP"
      },
      "source": [
        "### Criando lista com determinados valores"
      ]
    },
    {
      "cell_type": "code",
      "metadata": {
        "id": "oK7nObo9d1QQ",
        "colab": {
          "base_uri": "https://localhost:8080/"
        },
        "outputId": "7f888daa-b65b-490d-91e3-9db389c5d3d0"
      },
      "source": [
        "# Declara e inicializa uma lista de números\n",
        "lista = [1, 2, 3, 4, 5]\n",
        "\n",
        "# Mostra a lista\n",
        "print(lista)\n",
        "\n",
        "# Cria uma outra lista com os números pares\n",
        "lista_par = [elemento for elemento in lista if elemento % 2 == 0]\n",
        "\n",
        "# Mostra a lista par\n",
        "print(lista_par)\n"
      ],
      "execution_count": 31,
      "outputs": [
        {
          "output_type": "stream",
          "name": "stdout",
          "text": [
            "[1, 2, 3, 4, 5]\n",
            "[2, 4]\n"
          ]
        }
      ]
    },
    {
      "cell_type": "markdown",
      "metadata": {
        "id": "VzBkqboX6FuR"
      },
      "source": [
        "### Criando cópias de listas"
      ]
    },
    {
      "cell_type": "code",
      "metadata": {
        "id": "uuvkEn2t6FuU",
        "colab": {
          "base_uri": "https://localhost:8080/"
        },
        "outputId": "913be31b-4887-4a14-a9e8-0202ba124efc"
      },
      "source": [
        "# Declara e inicializa uma lista de números\n",
        "lista1 = [1, 2, 3, 4, 5]\n",
        "\n",
        "# Mostra a lista\n",
        "print(\"Lista1 antes da cópia com '=' :\\n\",lista1)\n",
        "\n",
        "# A cópia com \"=\" cria uma referência para lista1 em lista2\n",
        "lista2 = lista1\n",
        "\n",
        "# Apagando primeiro da lista1 é a mesma coisa que apagar da lista2\n",
        "del lista1[0]\n",
        "\n",
        "# Mostra a lista1\n",
        "print(\"Lista1:\\n\",lista1)\n",
        "\n",
        "# Mostra a lista2\n",
        "print(\"Lista2:\\n\",lista2)\n",
        "\n",
        "#======================================================\n",
        "# Declara e inicializa uma lista de números\n",
        "lista1 = [1, 2, 3, 4, 5]\n",
        "\n",
        "# Mostra a lista\n",
        "print(\"Lista1 antes da cópia com 'copy()' :\\n\",lista1)\n",
        "\n",
        "# Para copiar uma lista é necessário utilizar o método copy\n",
        "lista2 = lista1.copy()\n",
        "\n",
        "# Apagando primeiro da lista1 \n",
        "del lista1[0]\n",
        "\n",
        "# Mostra a lista1\n",
        "print(\"Lista1:\\n\",lista1)\n",
        "\n",
        "# Mostra a lista2\n",
        "print(\"Lista2:\\n\",lista2)"
      ],
      "execution_count": 32,
      "outputs": [
        {
          "output_type": "stream",
          "name": "stdout",
          "text": [
            "Lista1 antes da cópia com '=' :\n",
            " [1, 2, 3, 4, 5]\n",
            "Lista1:\n",
            " [2, 3, 4, 5]\n",
            "Lista2:\n",
            " [2, 3, 4, 5]\n",
            "Lista1 antes da cópia com 'copy()' :\n",
            " [1, 2, 3, 4, 5]\n",
            "Lista1:\n",
            " [2, 3, 4, 5]\n",
            "Lista2:\n",
            " [1, 2, 3, 4, 5]\n"
          ]
        }
      ]
    },
    {
      "cell_type": "markdown",
      "metadata": {
        "id": "Uo7TghpB_itL"
      },
      "source": [
        "### Criando lista preenchida com números\n",
        "\n",
        "0 - início do intervalo\n",
        "10 - final do intervalo"
      ]
    },
    {
      "cell_type": "code",
      "metadata": {
        "colab": {
          "base_uri": "https://localhost:8080/"
        },
        "id": "NgoS0PEH_itM",
        "outputId": "6851434a-813d-47db-fd63-b7992cc78b46"
      },
      "source": [
        "# Declara e inicializa uma lista de números\n",
        "lista1 = list(range(0, 10))\n",
        "\n",
        "# Mostra a lista1\n",
        "print(\"Lista1:\\n\",lista1)"
      ],
      "execution_count": 33,
      "outputs": [
        {
          "output_type": "stream",
          "name": "stdout",
          "text": [
            "Lista1:\n",
            " [0, 1, 2, 3, 4, 5, 6, 7, 8, 9]\n"
          ]
        }
      ]
    },
    {
      "cell_type": "markdown",
      "metadata": {
        "id": "pummAH-dM1c7"
      },
      "source": [
        "### Gerando as permutações de uma lista de inteiros\n",
        "\n"
      ]
    },
    {
      "cell_type": "code",
      "metadata": {
        "colab": {
          "base_uri": "https://localhost:8080/"
        },
        "id": "QV5i_8N2M1dG",
        "outputId": "70bc4558-ca04-4914-fbd3-3116a6d2e44b"
      },
      "source": [
        "# Biblioteca para gerar as permutações\n",
        "import itertools\n",
        "\n",
        "# Declara e inicializa uma lista de números\n",
        "lista1 = [1,2,3]\n",
        "\n",
        "# Retorna uma lista com as permutações da lista1\n",
        "permutacao = list(itertools.permutations(lista1))\n",
        "\n",
        "# Mostra a lista1\n",
        "print(\"Lista1:\\n\",lista1)\n",
        "\n",
        "# Mostra a permutacao\n",
        "print(\"Permutacao:\\n\",permutacao)"
      ],
      "execution_count": 34,
      "outputs": [
        {
          "output_type": "stream",
          "name": "stdout",
          "text": [
            "Lista1:\n",
            " [1, 2, 3]\n",
            "Permutacao:\n",
            " [(1, 2, 3), (1, 3, 2), (2, 1, 3), (2, 3, 1), (3, 1, 2), (3, 2, 1)]\n"
          ]
        }
      ]
    },
    {
      "cell_type": "markdown",
      "metadata": {
        "id": "N0R-kd5hNa7A"
      },
      "source": [
        "### Gerando as permutações de uma lista de strings\n",
        "\n"
      ]
    },
    {
      "cell_type": "code",
      "metadata": {
        "colab": {
          "base_uri": "https://localhost:8080/"
        },
        "id": "PU0IAjixNa7A",
        "outputId": "5518af44-9678-4e96-f8f6-843c21b288ff"
      },
      "source": [
        "# Biblioteca para gerar as permutações\n",
        "import itertools\n",
        "\n",
        "# Declara e inicializa uma lista de strings\n",
        "lista1 = ['uva','laranja','banana']\n",
        "\n",
        "# Retorna uma lista com as permutações da lista1\n",
        "permutacao = list(itertools.permutations(lista1))\n",
        "\n",
        "# Mostra a lista1\n",
        "print(\"Lista1:\\n\",lista1)\n",
        "\n",
        "# Mostra a permutacao\n",
        "print(\"Permutacao:\\n\",permutacao)"
      ],
      "execution_count": 35,
      "outputs": [
        {
          "output_type": "stream",
          "name": "stdout",
          "text": [
            "Lista1:\n",
            " ['uva', 'laranja', 'banana']\n",
            "Permutacao:\n",
            " [('uva', 'laranja', 'banana'), ('uva', 'banana', 'laranja'), ('laranja', 'uva', 'banana'), ('laranja', 'banana', 'uva'), ('banana', 'uva', 'laranja'), ('banana', 'laranja', 'uva')]\n"
          ]
        }
      ]
    },
    {
      "cell_type": "markdown",
      "metadata": {
        "id": "yETUcyIrjOKf"
      },
      "source": [
        "### Gerando as permutações de uma lista de strings com função"
      ]
    },
    {
      "cell_type": "code",
      "metadata": {
        "colab": {
          "base_uri": "https://localhost:8080/"
        },
        "id": "tqOyIUXhjZwN",
        "outputId": "c7ecee8b-fc66-4a10-d31f-90a41d4e8704"
      },
      "source": [
        "# Biblioteca para gerar números aleatórios\n",
        "import random\n",
        "import math\n",
        "\n",
        "def geraPermutacao(lista):\n",
        "    # Conjunto para tratar as repetições\n",
        "    conjunto = set()\n",
        "    # Tamanho da lista\n",
        "    tamanhoLista = len(lista)\n",
        "    # Adiciona o conjunto inicial \n",
        "    inicio = tuple(lista)\n",
        "    while True:\n",
        "        # Gera uma permutação aleatória da lista\n",
        "        permutado = tuple(random.sample(lista, tamanhoLista))\n",
        "        # Permutado diferente de qualquer elemento do conjunto ou da lista\n",
        "        if permutado not in conjunto and permutado != inicio:\n",
        "            # Adiciona no conjunto\n",
        "            conjunto.add(permutado)         \n",
        "            yield permutado\n",
        "\n",
        "def geradorPermutacao(lista, qtde):\n",
        "    # Lista para retornar as permutações\n",
        "    listaR = []\n",
        "    # Verifica a quantidade de permutações possíveis\n",
        "    if qtde <= math.factorial(len(lista)):\n",
        "      # Gera as permutações    \n",
        "      listaP = geraPermutacao(lista)\n",
        "      # Seleciona qtde-1 permutações\n",
        "      listaP = [next(listaP) for _ in range(qtde-1)]\n",
        "      # Converte em uma lista de lista, pois é uma lista de tuplas\n",
        "      listaR = [list(x) for x in listaP]\n",
        "      # Adiciona o primeiro elemento na lista\n",
        "      listaR.insert(0,lista)\n",
        "    else:\n",
        "      print(\"A quantidade de permutações deve ser menor ou igual ao fatorial do tamanho da lista\")\n",
        "    return listaR\n",
        "\n",
        "# Declara e inicializa uma lista de strings\n",
        "lista1 = ['uva','laranja','banana']\n",
        "\n",
        "# Retorna uma lista com as permutações da lista1\n",
        "permutacao = geradorPermutacao(lista1,6)\n",
        "\n",
        "# Mostra a lista1\n",
        "print(\"Lista1:\\n\",lista1)\n",
        "\n",
        "# Mostra a permutacao\n",
        "print(\"Permutacao:\\n\",permutacao)"
      ],
      "execution_count": 36,
      "outputs": [
        {
          "output_type": "stream",
          "name": "stdout",
          "text": [
            "Lista1:\n",
            " ['uva', 'laranja', 'banana']\n",
            "Permutacao:\n",
            " [['uva', 'laranja', 'banana'], ['laranja', 'uva', 'banana'], ['banana', 'laranja', 'uva'], ['uva', 'banana', 'laranja'], ['banana', 'uva', 'laranja'], ['laranja', 'banana', 'uva']]\n"
          ]
        }
      ]
    },
    {
      "cell_type": "code",
      "metadata": {
        "id": "6Jz_7q8GmBqi"
      },
      "source": [
        ""
      ],
      "execution_count": 36,
      "outputs": []
    },
    {
      "cell_type": "markdown",
      "metadata": {
        "id": "0IIpfGj-T5jF"
      },
      "source": [
        "Encontrando uma sublista em uma lista"
      ]
    },
    {
      "cell_type": "code",
      "metadata": {
        "id": "eZKAgdjgT5wP"
      },
      "source": [
        "# Localiza os índices de início e fim de uma sublista em uma lista\n",
        "def encontrarIndiceSubLista(lista, sublista):\n",
        "    # https://en.wikipedia.org/wiki/Boyer%E2%80%93Moore%E2%80%93Horspool_algorithm\n",
        "    h = len(lista)\n",
        "    n = len(sublista)\n",
        "    skip = {sublista[i]: n - i - 1 for i in range(n - 1)}\n",
        "    i = n - 1\n",
        "    while i < h:\n",
        "        for j in range(n):\n",
        "            if lista[i - j] != sublista[-j - 1]:\n",
        "                i += skip.get(lista[i], n)\n",
        "                break\n",
        "        else:\n",
        "            indiceInicio = i - n + 1\n",
        "            indiceFim = indiceInicio + len(sublista)-1\n",
        "            return indiceInicio, indiceFim\n",
        "    return -1, -1"
      ],
      "execution_count": 37,
      "outputs": []
    },
    {
      "cell_type": "markdown",
      "metadata": {
        "id": "h-tCU1iqlfMP"
      },
      "source": [
        "## Frequência de elementos em uma lista"
      ]
    },
    {
      "cell_type": "code",
      "metadata": {
        "colab": {
          "base_uri": "https://localhost:8080/"
        },
        "id": "0f6mJbqelfVW",
        "outputId": "b2201439-46e3-48bf-8909-4ba921e1ef60"
      },
      "source": [
        "# Biblioteca para gerar a frequência\n",
        "import collections\n",
        "\n",
        "# Lista dos dados\n",
        "lista = [1,1,1,1,2,2,2,3,3,3]\n",
        "\n",
        "# Recupera a frequência da lista retornando um dicionario\n",
        "conjunto = collections.Counter(lista)\n",
        "print(conjunto)\n",
        "\n",
        "# Lista os valores e a frequência\n",
        "for chave, valor in conjunto.items():\n",
        "  print(\"chave=\",chave,\" valor=\", valor)"
      ],
      "execution_count": 38,
      "outputs": [
        {
          "output_type": "stream",
          "name": "stdout",
          "text": [
            "Counter({1: 4, 2: 3, 3: 3})\n",
            "chave= 1  valor= 4\n",
            "chave= 2  valor= 3\n",
            "chave= 3  valor= 3\n"
          ]
        }
      ]
    },
    {
      "cell_type": "markdown",
      "metadata": {
        "id": "Xx3TA_qEZ-dD"
      },
      "source": [
        "## Frequência de elementos em uma lista com base fixa\n",
        "\n",
        "Conta a frequência dos elementos de uma lista e gera um dicionário com as quantidades.\n",
        "Usa um conjunto base para chaves para identificar o valor."
      ]
    },
    {
      "cell_type": "code",
      "metadata": {
        "colab": {
          "base_uri": "https://localhost:8080/"
        },
        "id": "T2qN7wxcZ-dF",
        "outputId": "589a4f05-89e9-4f68-9626-2b87dc5cd848"
      },
      "source": [
        "# Biblioteca para gerar a frequência\n",
        "import collections\n",
        "\n",
        "# Lista dos dados\n",
        "lista = [1,1,1,1,2,2,2,3,3,3]\n",
        "\n",
        "# Conjunto base\n",
        "conjunto = {1:0, 2:0, 3:0, 4:0}\n",
        "\n",
        "for x in lista:\n",
        "  valor = conjunto.get(x)\n",
        "  conjunto[x] = valor + 1\n",
        "\n",
        "print(conjunto)\n",
        "\n",
        "# Lista os valores e a frequência\n",
        "for chave, valor in conjunto.items():\n",
        "  print(\"chave=\",chave,\" valor=\", valor)"
      ],
      "execution_count": 39,
      "outputs": [
        {
          "output_type": "stream",
          "name": "stdout",
          "text": [
            "{1: 4, 2: 3, 3: 3, 4: 0}\n",
            "chave= 1  valor= 4\n",
            "chave= 2  valor= 3\n",
            "chave= 3  valor= 3\n",
            "chave= 4  valor= 0\n"
          ]
        }
      ]
    },
    {
      "cell_type": "markdown",
      "metadata": {
        "id": "wGYnCtY1kp3j"
      },
      "source": [
        "## Lista de lista"
      ]
    },
    {
      "cell_type": "markdown",
      "metadata": {
        "id": "gecruyNzkv-t"
      },
      "source": [
        "### Declarando e listando"
      ]
    },
    {
      "cell_type": "code",
      "metadata": {
        "id": "aFGwLBdokzoc",
        "colab": {
          "base_uri": "https://localhost:8080/"
        },
        "outputId": "7593477e-36fe-4dff-8a59-3f8f77783fd8"
      },
      "source": [
        "# Declaração\n",
        "lista = [[1,'joão'],[2,'maria'],[3,'pedro'],[4,'josé']]\n",
        "\n",
        "# Tamanho da lista\n",
        "print('Tamanho da lista:', len(lista))\n",
        "\n",
        "# Mostrando a lista\n",
        "for linha1 in lista:\n",
        "   print(linha1[0], linha1[1])\n",
        "   for linha2 in linha1:\n",
        "      print(\"   \", linha2)"
      ],
      "execution_count": 40,
      "outputs": [
        {
          "output_type": "stream",
          "name": "stdout",
          "text": [
            "Tamanho da lista: 4\n",
            "1 joão\n",
            "    1\n",
            "    joão\n",
            "2 maria\n",
            "    2\n",
            "    maria\n",
            "3 pedro\n",
            "    3\n",
            "    pedro\n",
            "4 josé\n",
            "    4\n",
            "    josé\n"
          ]
        }
      ]
    },
    {
      "cell_type": "markdown",
      "metadata": {
        "id": "-gu3kOqmlVeP"
      },
      "source": [
        "### Criando listas condicionadas\n",
        "\n",
        "Cria uma lista nova com as condições especificadas"
      ]
    },
    {
      "cell_type": "code",
      "metadata": {
        "id": "fu2ONDiulQtQ",
        "colab": {
          "base_uri": "https://localhost:8080/"
        },
        "outputId": "d4f72abe-adc4-45b7-b84d-57160035e3b6"
      },
      "source": [
        "# Declaração\n",
        "lista = [[1,'joão'],[2,'maria'],[3,'pedro'],[4,'josé']]\n",
        "\n",
        "# Tamanho da lista\n",
        "print('Tamanho da lista:', len(lista))\n",
        "\n",
        "# Cria uma lista dos valores com a posição 0 maior que 2\n",
        "lista_nova = [linha for linha in lista if linha[0] > 2]\n",
        "\n",
        "# Tamanho da lista nova\n",
        "print('Tamanho da lista nova:', len(lista_nova))\n",
        "\n",
        "# Mostrando a lista nova\n",
        "for linha in lista_nova:\n",
        "   print(linha[0], linha[1])"
      ],
      "execution_count": 41,
      "outputs": [
        {
          "output_type": "stream",
          "name": "stdout",
          "text": [
            "Tamanho da lista: 4\n",
            "Tamanho da lista nova: 2\n",
            "3 pedro\n",
            "4 josé\n"
          ]
        }
      ]
    },
    {
      "cell_type": "markdown",
      "metadata": {
        "id": "FEkyfiGil7j1"
      },
      "source": [
        "### Criando listas de elementos\n",
        "\n",
        "Cria uma lista com os elementos que atendem  as condições especificadas"
      ]
    },
    {
      "cell_type": "code",
      "metadata": {
        "id": "VdT8yqizl7j3",
        "colab": {
          "base_uri": "https://localhost:8080/"
        },
        "outputId": "c0cc290e-8fe5-47cb-a77c-e85ab408d916"
      },
      "source": [
        "# Declaração\n",
        "lista = [[1,'joão'],[2,'maria'],[3,'pedro'],[4,'josé']]\n",
        "\n",
        "# Tamanho da lista\n",
        "print('Tamanho da lista:', len(lista))\n",
        "\n",
        "# Cria uma lista dos valores de linha[0] com a posição 0 maior que 2\n",
        "lista_nova = [linha[0] for linha in lista if linha[0] > 2]\n",
        "\n",
        "# Tamanho da lista nova com linha[0]\n",
        "print('Tamanho da lista nova(linha[0]):', len(lista_nova))\n",
        "\n",
        "# Mostrando a lista nova\n",
        "print(lista_nova)"
      ],
      "execution_count": 42,
      "outputs": [
        {
          "output_type": "stream",
          "name": "stdout",
          "text": [
            "Tamanho da lista: 4\n",
            "Tamanho da lista nova(linha[0]): 2\n",
            "[3, 4]\n"
          ]
        }
      ]
    },
    {
      "cell_type": "markdown",
      "metadata": {
        "id": "TahJABonrLty"
      },
      "source": [
        "### Criando lista de elementos\n",
        "Cria uma lista com os elementos que atendem  as condições especificadas"
      ]
    },
    {
      "cell_type": "code",
      "metadata": {
        "id": "KKlYBLSOrLt0",
        "colab": {
          "base_uri": "https://localhost:8080/"
        },
        "outputId": "5a371005-3c2a-4191-a437-f7d446e785f3"
      },
      "source": [
        "# Declaração\n",
        "lista = [[1,'joão'],[2,'maria'],[3,'pedro'],[4,'josé']]\n",
        "\n",
        "# Tamanho da lista\n",
        "print('Tamanho da lista:', len(lista))\n",
        "\n",
        "# Cria uma lista dos valores de linha[0] com a posição 0 maior que 2\n",
        "lista_nova = [linha[0] for linha in lista if linha[0] > 2]\n",
        "\n",
        "# Cria a lista com os valores que estão no conjunto anterior\n",
        "lista = [linha for linha in lista if linha[0] in lista_nova]\n",
        "\n",
        "# Tamanho da lista nova\n",
        "print('Tamanho da lista nova:', len(lista_nova))\n",
        "\n",
        "# Mostrando a lista nova\n",
        "print(lista_nova)\n",
        "\n",
        "# Mostra a lista\n",
        "print(lista)"
      ],
      "execution_count": 43,
      "outputs": [
        {
          "output_type": "stream",
          "name": "stdout",
          "text": [
            "Tamanho da lista: 4\n",
            "Tamanho da lista nova: 2\n",
            "[3, 4]\n",
            "[[3, 'pedro'], [4, 'josé']]\n"
          ]
        }
      ]
    },
    {
      "cell_type": "markdown",
      "metadata": {
        "id": "gsxfvsSUf7Ud"
      },
      "source": [
        "## Convertendo listas em dataFrames\n",
        "\n",
        "Converte uma lista de dados em um pandas dataFrame."
      ]
    },
    {
      "cell_type": "code",
      "metadata": {
        "id": "x14TDRvBgANW",
        "colab": {
          "base_uri": "https://localhost:8080/",
          "height": 320
        },
        "outputId": "17d266bb-bdda-480b-b7db-f8df4b76af20"
      },
      "source": [
        "# Biblioteca de processamento de dados, I/O em arquivo csv (ex. pd.DataFrame.from_records)\n",
        "import pandas as pd\n",
        "\n",
        "# Lista com os dados\n",
        "lista = [[1,'joão'],[2,'maria'],[3,'pedro'],[4,'josé']]\n",
        "\n",
        "# Mostrando a lista\n",
        "for linha in lista:\n",
        "   print(linha[0], linha[1])\n",
        "\n",
        "print(\"\\n Depois da conversão\\n\")\n",
        "\n",
        "# Converte a lista de lista em um dataframe\n",
        "df = pd.DataFrame.from_records(lista, columns=[\"id\", \"nome\"])\n",
        "\n",
        "# Mostra os dados\n",
        "print(df)\n",
        "\n",
        "# Mostra 2 dados aleatórios\n",
        "df.sample(2)"
      ],
      "execution_count": 44,
      "outputs": [
        {
          "output_type": "stream",
          "name": "stdout",
          "text": [
            "1 joão\n",
            "2 maria\n",
            "3 pedro\n",
            "4 josé\n",
            "\n",
            " Depois da conversão\n",
            "\n",
            "   id   nome\n",
            "0   1   joão\n",
            "1   2  maria\n",
            "2   3  pedro\n",
            "3   4   josé\n"
          ]
        },
        {
          "output_type": "execute_result",
          "data": {
            "text/html": [
              "<div>\n",
              "<style scoped>\n",
              "    .dataframe tbody tr th:only-of-type {\n",
              "        vertical-align: middle;\n",
              "    }\n",
              "\n",
              "    .dataframe tbody tr th {\n",
              "        vertical-align: top;\n",
              "    }\n",
              "\n",
              "    .dataframe thead th {\n",
              "        text-align: right;\n",
              "    }\n",
              "</style>\n",
              "<table border=\"1\" class=\"dataframe\">\n",
              "  <thead>\n",
              "    <tr style=\"text-align: right;\">\n",
              "      <th></th>\n",
              "      <th>id</th>\n",
              "      <th>nome</th>\n",
              "    </tr>\n",
              "  </thead>\n",
              "  <tbody>\n",
              "    <tr>\n",
              "      <th>2</th>\n",
              "      <td>3</td>\n",
              "      <td>pedro</td>\n",
              "    </tr>\n",
              "    <tr>\n",
              "      <th>1</th>\n",
              "      <td>2</td>\n",
              "      <td>maria</td>\n",
              "    </tr>\n",
              "  </tbody>\n",
              "</table>\n",
              "</div>"
            ],
            "text/plain": [
              "   id   nome\n",
              "2   3  pedro\n",
              "1   2  maria"
            ]
          },
          "metadata": {},
          "execution_count": 44
        }
      ]
    },
    {
      "cell_type": "markdown",
      "metadata": {
        "id": "9ynOje_Jw-4e"
      },
      "source": [
        "## Convertendo uma string lista em list\n",
        "\n",
        "Converte uma string que representa uma lista em uma lista."
      ]
    },
    {
      "cell_type": "code",
      "metadata": {
        "colab": {
          "base_uri": "https://localhost:8080/"
        },
        "id": "YIbU15Usw_fG",
        "outputId": "595f2dad-00ec-4500-f72e-173c3c45f9c0"
      },
      "source": [
        "# Biblioteca de conversão\n",
        "import ast\n",
        "  \n",
        "# Uma string que representa uma lista\n",
        "lista_string = \"['azul','verde','amarelo','verde']\"\n",
        "  \n",
        "# Mostra a a string  \n",
        "print(\"Lista string:\", lista_string)\n",
        "print(type(lista_string))\n",
        "  \n",
        "# Converte a string em uma lista\n",
        "lista = ast.literal_eval(lista_string)\n",
        "  \n",
        "# Mostra a lista\n",
        "print(\"Lista list:\", lista)\n",
        "print(type(lista))"
      ],
      "execution_count": 45,
      "outputs": [
        {
          "output_type": "stream",
          "name": "stdout",
          "text": [
            "Lista string: ['azul','verde','amarelo','verde']\n",
            "<class 'str'>\n",
            "Lista list: ['azul', 'verde', 'amarelo', 'verde']\n",
            "<class 'list'>\n"
          ]
        }
      ]
    },
    {
      "cell_type": "markdown",
      "metadata": {
        "id": "uLE3MLcXGhQ9"
      },
      "source": [
        "# Enumerações/Enumerate\n",
        "\n",
        "É uma função que atribui um índice a cada item em um objeto iterável(e.g. list) que pode ser usado para fazer referência ao item posteriormente. \n",
        "\n",
        "https://www.w3schools.com/python/ref_func_enumerate.asp"
      ]
    },
    {
      "cell_type": "markdown",
      "metadata": {
        "id": "zOjloyYSG2lQ"
      },
      "source": [
        "## Declaração 1"
      ]
    },
    {
      "cell_type": "code",
      "metadata": {
        "id": "sKW9oQLoGjhs",
        "colab": {
          "base_uri": "https://localhost:8080/"
        },
        "outputId": "dc116491-f525-4be4-98a1-f3783e40a605"
      },
      "source": [
        "# Declara e inicializa uma lista de cores\n",
        "cores = ['vermelho', 'azul', 'verde', 'amarelo', 'rosa', 'branco']\n",
        "\n",
        "# Mostra a enumeração e suas chaves\n",
        "list(enumerate(cores))"
      ],
      "execution_count": 46,
      "outputs": [
        {
          "output_type": "execute_result",
          "data": {
            "text/plain": [
              "[(0, 'vermelho'),\n",
              " (1, 'azul'),\n",
              " (2, 'verde'),\n",
              " (3, 'amarelo'),\n",
              " (4, 'rosa'),\n",
              " (5, 'branco')]"
            ]
          },
          "metadata": {},
          "execution_count": 46
        }
      ]
    },
    {
      "cell_type": "markdown",
      "metadata": {
        "id": "lamTvwbCG5Rh"
      },
      "source": [
        "## Declaração 2"
      ]
    },
    {
      "cell_type": "code",
      "metadata": {
        "id": "BxsfH0h5HB04",
        "colab": {
          "base_uri": "https://localhost:8080/"
        },
        "outputId": "358e7cf4-c967-4976-cbc3-195c170ae96f"
      },
      "source": [
        "# Declara e inicializa uma lista de cores\n",
        "cores = ['vermelho', 'azul', 'verde', 'amarelo', 'rosa', 'branco']\n",
        "\n",
        "# Mostra a enumeração e suas chaves\n",
        "for (index, item) in enumerate(cores):\n",
        "    print (index, item)"
      ],
      "execution_count": 47,
      "outputs": [
        {
          "output_type": "stream",
          "name": "stdout",
          "text": [
            "0 vermelho\n",
            "1 azul\n",
            "2 verde\n",
            "3 amarelo\n",
            "4 rosa\n",
            "5 branco\n"
          ]
        }
      ]
    },
    {
      "cell_type": "markdown",
      "metadata": {
        "id": "10bGHLJTBvtB"
      },
      "source": [
        "## Classe Enum\n",
        "\n",
        "https://www.python.org/dev/peps/pep-0435/"
      ]
    },
    {
      "cell_type": "code",
      "metadata": {
        "colab": {
          "base_uri": "https://localhost:8080/"
        },
        "id": "MfQrV1chBz3S",
        "outputId": "5df6015f-04d7-4485-8e0f-1a9bbd984931"
      },
      "source": [
        "# Biblioteca Enum\n",
        "from enum import Enum\n",
        "\n",
        "class DiaSemana(Enum):\n",
        "    DOMINGO = 0\n",
        "    SEGUNDA = 1\n",
        "    TERCA = 2\n",
        "    QUARTA = 3\n",
        "    QUINTA = 4\n",
        "    SEXTA = 5\n",
        "    SABADO = 6\n",
        "\n",
        "# Mostra o valor\n",
        "print(DiaSemana.QUARTA.value)\n",
        "\n",
        "# Mostra o nome\n",
        "print(DiaSemana.QUARTA.name)\n",
        "\n",
        "# Percorre os dias da semana\n",
        "for dia in DiaSemana:\n",
        "  print(dia)\n",
        "\n",
        "# Imprime a lista\n",
        "print(list(DiaSemana))\n",
        "\n",
        "# Imprime os valores\n",
        "print([dia.value for dia in DiaSemana])\n",
        "\n",
        "# Verifica se está na enumeração\n",
        "print(DiaSemana.TERCA in DiaSemana)\n",
        "\n",
        "# Verifica se o nome(name) está entre os membros do enum\n",
        "if 'TERÇA' in DiaSemana._member_names_: \n",
        "    print(\"Nome está no enum!\")\n",
        "else:\n",
        "    print(\"Nome não está no enum!\")\n",
        "\n",
        "# Verifica se o nome(name) está entre os membros do enum\n",
        "if 'TERÇA' in DiaSemana.__members__: \n",
        "    print(\"Nome está no enum!\")\n",
        "else:\n",
        "    print(\"Nome não está no enum!\")\n",
        "\n",
        "# Verifica se o valor(value) está entre os valores do enum\n",
        "if 10 in DiaSemana.__members__.values():\n",
        "  print(\"Valor está no enum!\")\n",
        "else:\n",
        "    print(\"Valor não está no enum!\")"
      ],
      "execution_count": 48,
      "outputs": [
        {
          "output_type": "stream",
          "name": "stdout",
          "text": [
            "3\n",
            "QUARTA\n",
            "DiaSemana.DOMINGO\n",
            "DiaSemana.SEGUNDA\n",
            "DiaSemana.TERCA\n",
            "DiaSemana.QUARTA\n",
            "DiaSemana.QUINTA\n",
            "DiaSemana.SEXTA\n",
            "DiaSemana.SABADO\n",
            "[<DiaSemana.DOMINGO: 0>, <DiaSemana.SEGUNDA: 1>, <DiaSemana.TERCA: 2>, <DiaSemana.QUARTA: 3>, <DiaSemana.QUINTA: 4>, <DiaSemana.SEXTA: 5>, <DiaSemana.SABADO: 6>]\n",
            "[0, 1, 2, 3, 4, 5, 6]\n",
            "True\n",
            "Nome não está no enum!\n",
            "Nome não está no enum!\n",
            "Valor não está no enum!\n"
          ]
        }
      ]
    },
    {
      "cell_type": "markdown",
      "metadata": {
        "id": "P8LmNS8E0WvA"
      },
      "source": [
        "# Tupla/Tuple"
      ]
    },
    {
      "cell_type": "markdown",
      "metadata": {
        "id": "QdUHj8lA0Yz-"
      },
      "source": [
        "Uma tupla é uma estrutura bastante similar a uma lista, com apenas uma diferença: os elementos inseridos em uma tupla não podem ser alterados, diferente de uma lista onde podem ser alterados livremente. \n",
        "\n",
        "As tuplas possuem algumas vantagens com relação às listas, que são:\n",
        "\n",
        "* Como as tuplas são imutáveis, a iteração sobre elas é mais rápida e, consequentemente, possuem um ganho de desempenho com relação às listas;\n",
        "* Tuplas podem ser utilizadas como chave para um dicionário, já que seus elementos são imutáveis. Já com a lista, isso não é possível;\n",
        "* Se for necessário armazenar dados que não serão alterados, utilize uma tupla. Isso garantirá que esses sejam protegidos de alterações posteriores"
      ]
    },
    {
      "cell_type": "markdown",
      "metadata": {
        "id": "2-pHJRqf1URh"
      },
      "source": [
        "## Declaração tupla homogênea\n",
        "\n",
        "Utiliza parênteses ou invés de colchetes(listas) para declarar"
      ]
    },
    {
      "cell_type": "code",
      "metadata": {
        "id": "NzeeNyx70kWw",
        "colab": {
          "base_uri": "https://localhost:8080/"
        },
        "outputId": "8aa2f78e-58d7-49e8-fb50-2ccf39b6bf4b"
      },
      "source": [
        "# Declaração de tupla de inteiros homogênea\n",
        "tupla1 = (1, 2, 3) \n",
        "print(tupla1)\n",
        "\n",
        "# Mostra o tipo da tupla1\n",
        "print(type(tupla1))"
      ],
      "execution_count": 49,
      "outputs": [
        {
          "output_type": "stream",
          "name": "stdout",
          "text": [
            "(1, 2, 3)\n",
            "<class 'tuple'>\n"
          ]
        }
      ]
    },
    {
      "cell_type": "markdown",
      "metadata": {
        "id": "fPU8dq8TdKAl"
      },
      "source": [
        "## Declaração tupla heterogênea"
      ]
    },
    {
      "cell_type": "code",
      "metadata": {
        "id": "HM3_r3hkdKYc",
        "colab": {
          "base_uri": "https://localhost:8080/"
        },
        "outputId": "05daf66f-9f68-4ee5-db20-b35bdfcc5fe2"
      },
      "source": [
        "# Declaração de tupla heterogênea\n",
        "tupla = (1, \"joao\", 3.14) \n",
        "print(tupla)\n",
        "\n",
        "# Mostra o tipo da tupla2\n",
        "print(type(tupla))"
      ],
      "execution_count": 50,
      "outputs": [
        {
          "output_type": "stream",
          "name": "stdout",
          "text": [
            "(1, 'joao', 3.14)\n",
            "<class 'tuple'>\n"
          ]
        }
      ]
    },
    {
      "cell_type": "markdown",
      "metadata": {
        "id": "p6shuEqrdS7w"
      },
      "source": [
        "## Declaração tupla sem parênteses\n",
        "\n",
        "Tuplas podem ser declaradas sem parênteses"
      ]
    },
    {
      "cell_type": "code",
      "metadata": {
        "id": "zzggf1sXdTHl",
        "colab": {
          "base_uri": "https://localhost:8080/"
        },
        "outputId": "4c027400-185e-4c45-c6f1-3bb4020b576f"
      },
      "source": [
        "# Declaração de tupla de inteiros homogênea\n",
        "tupla = 1, 2, 3 \n",
        "print(tupla)\n",
        "\n",
        "# Mostra o tipo da tupla1\n",
        "print(type(tupla))"
      ],
      "execution_count": 51,
      "outputs": [
        {
          "output_type": "stream",
          "name": "stdout",
          "text": [
            "(1, 2, 3)\n",
            "<class 'tuple'>\n"
          ]
        }
      ]
    },
    {
      "cell_type": "markdown",
      "metadata": {
        "id": "B6Pf8GDddiai"
      },
      "source": [
        "### Declaração tuple()\n",
        "\n",
        "Podemos usar uma função tuple() para criar uma tupla passando um tipo que pode ser iterável como uma string ou uma lista:"
      ]
    },
    {
      "cell_type": "code",
      "metadata": {
        "id": "cvRCw1rGdlv7",
        "colab": {
          "base_uri": "https://localhost:8080/"
        },
        "outputId": "a87811fa-6002-4da2-b60a-4c9751eb4b62"
      },
      "source": [
        "# Declaração de lista de inteiros\n",
        "lista = [1, 2, 3]\n",
        "print(lista)\n",
        "# Mostra o tipo da lista\n",
        "print(type(lista))\n",
        "\n",
        "# Declaração de tupla de inteiros homogênea\n",
        "tupla = tuple(lista)\n",
        "print(tupla)\n",
        "# Mostra o tipo da lista\n",
        "print(type(tupla))"
      ],
      "execution_count": 52,
      "outputs": [
        {
          "output_type": "stream",
          "name": "stdout",
          "text": [
            "[1, 2, 3]\n",
            "<class 'list'>\n",
            "(1, 2, 3)\n",
            "<class 'tuple'>\n"
          ]
        }
      ]
    },
    {
      "cell_type": "markdown",
      "metadata": {
        "id": "Eo87pvVo1ayG"
      },
      "source": [
        "## Acessando elementos"
      ]
    },
    {
      "cell_type": "code",
      "metadata": {
        "id": "uKhiIDTm1cgY",
        "colab": {
          "base_uri": "https://localhost:8080/"
        },
        "outputId": "f9916588-196d-4664-e973-99669fc6d74e"
      },
      "source": [
        "# Declara e inicializa tuplas de cores\n",
        "cores = ('vermelho', 'azul', 'verde', 'amarelo', 'rosa', 'branco')\n",
        "\n",
        "# Percorre a tuplas de cores, o valor atual está em cor\n",
        "for cor in cores:\n",
        "    print(cor)"
      ],
      "execution_count": 53,
      "outputs": [
        {
          "output_type": "stream",
          "name": "stdout",
          "text": [
            "vermelho\n",
            "azul\n",
            "verde\n",
            "amarelo\n",
            "rosa\n",
            "branco\n"
          ]
        }
      ]
    },
    {
      "cell_type": "markdown",
      "metadata": {
        "id": "H6089vabiWTJ"
      },
      "source": [
        "## Convertendo uma lista de tuplas em uma lista de lista"
      ]
    },
    {
      "cell_type": "code",
      "metadata": {
        "colab": {
          "base_uri": "https://localhost:8080/"
        },
        "id": "8ZTHgejficU3",
        "outputId": "30930ebf-122b-4137-c88f-0ac8111afa7c"
      },
      "source": [
        "listaTupla = [(1,2), (3,4)] \n",
        "\n",
        "print(listaTupla)\n",
        "\n",
        "listaLista = [list(x) for x in listaTupla]\n",
        "\n",
        "print(listaLista)"
      ],
      "execution_count": 54,
      "outputs": [
        {
          "output_type": "stream",
          "name": "stdout",
          "text": [
            "[(1, 2), (3, 4)]\n",
            "[[1, 2], [3, 4]]\n"
          ]
        }
      ]
    },
    {
      "cell_type": "markdown",
      "metadata": {
        "id": "vQt9ynoueprN"
      },
      "source": [
        "# Intervalo/Range\n",
        "\n",
        "É um tipo de  imutável de números e é comumente usado para looping de um número específico de vezes em um comando for já que representam um intervalo. O comando range gera um valor contendo números inteiros sequenciais com um determinado incremendo."
      ]
    },
    {
      "cell_type": "markdown",
      "metadata": {
        "id": "pSyHqFx8e_KG"
      },
      "source": [
        "## Declaração\n",
        "\n",
        "Não gera o valores do intervalo, somente armazena o início e fim."
      ]
    },
    {
      "cell_type": "code",
      "metadata": {
        "id": "k6kkW50oe_b6",
        "colab": {
          "base_uri": "https://localhost:8080/"
        },
        "outputId": "50f2d050-62e6-463e-95a4-804a4ef8be71"
      },
      "source": [
        "# Declara um intervalo\n",
        "intervalo = range(1, 4)\n",
        "\n",
        "# Mostra o intervalo\n",
        "print(intervalo)"
      ],
      "execution_count": 55,
      "outputs": [
        {
          "output_type": "stream",
          "name": "stdout",
          "text": [
            "range(1, 4)\n"
          ]
        }
      ]
    },
    {
      "cell_type": "markdown",
      "metadata": {
        "id": "_PNGztVPfZkx"
      },
      "source": [
        "## Percorrendo o range"
      ]
    },
    {
      "cell_type": "code",
      "metadata": {
        "id": "qHvbE5defZwK",
        "colab": {
          "base_uri": "https://localhost:8080/"
        },
        "outputId": "0af8e8a7-d7c3-4ccc-832c-7e9bc67425ff"
      },
      "source": [
        "# Percorre o range\n",
        "for valor in range(1, 4):\n",
        "    print(valor)"
      ],
      "execution_count": 56,
      "outputs": [
        {
          "output_type": "stream",
          "name": "stdout",
          "text": [
            "1\n",
            "2\n",
            "3\n"
          ]
        }
      ]
    },
    {
      "cell_type": "markdown",
      "metadata": {
        "id": "aYCcx2cFflhg"
      },
      "source": [
        "## Percorrendo o range com incremento\n",
        "\n",
        "O terceiro parâmetro é o passo do range.\n",
        "\n"
      ]
    },
    {
      "cell_type": "code",
      "metadata": {
        "id": "S-2SS1Leflhh",
        "colab": {
          "base_uri": "https://localhost:8080/"
        },
        "outputId": "43890f24-252c-4058-9ceb-722eb32e8ce0"
      },
      "source": [
        "# Percorre o range\n",
        "for valor in range(1, 10, 2):\n",
        "    print(valor)"
      ],
      "execution_count": 57,
      "outputs": [
        {
          "output_type": "stream",
          "name": "stdout",
          "text": [
            "1\n",
            "3\n",
            "5\n",
            "7\n",
            "9\n"
          ]
        }
      ]
    },
    {
      "cell_type": "markdown",
      "metadata": {
        "id": "2iIHTA10f7dy"
      },
      "source": [
        "## Percorrendo o range com descrescente"
      ]
    },
    {
      "cell_type": "code",
      "metadata": {
        "id": "4fepShCCf76N",
        "colab": {
          "base_uri": "https://localhost:8080/"
        },
        "outputId": "4b9b5e9c-acd0-4873-f28b-7f70f005c44f"
      },
      "source": [
        "# Percorre o range\n",
        "for valor in range(10, 1, -2):\n",
        "    print(valor)"
      ],
      "execution_count": 58,
      "outputs": [
        {
          "output_type": "stream",
          "name": "stdout",
          "text": [
            "10\n",
            "8\n",
            "6\n",
            "4\n",
            "2\n"
          ]
        }
      ]
    },
    {
      "cell_type": "markdown",
      "metadata": {
        "id": "YL3bLO6vht9G"
      },
      "source": [
        "#Contadores/Counter\n",
        "\n",
        "Contador e permite contar as ocorrências de um determinado item em uma estrutura de dados.\n",
        "\n",
        "\n",
        "O resultado é um dicicionário(dict) e pode receber um objeto iterável ou um mapa como argumento para realizar a contagem de seus elementos."
      ]
    },
    {
      "cell_type": "code",
      "metadata": {
        "id": "Q5vrCCFChxCQ",
        "colab": {
          "base_uri": "https://localhost:8080/"
        },
        "outputId": "e877178a-8cda-4440-ddc9-2e8728fd9c97"
      },
      "source": [
        "# Biblioteca counter de collections\n",
        "from collections import Counter\n",
        "\n",
        "# Declara uma lista de cores\n",
        "cores = ['branco', 'azul', 'azul', 'branco', 'marrom', 'branco', 'vermelho', 'verde']\n",
        "\n",
        "# contador a lista\n",
        "contador = Counter(cores)\n",
        "\n",
        "# Mostra o contador\n",
        "print(contador)"
      ],
      "execution_count": 59,
      "outputs": [
        {
          "output_type": "stream",
          "name": "stdout",
          "text": [
            "Counter({'branco': 3, 'azul': 2, 'marrom': 1, 'vermelho': 1, 'verde': 1})\n"
          ]
        }
      ]
    },
    {
      "cell_type": "markdown",
      "metadata": {
        "id": "QqXNyM0F1zPW"
      },
      "source": [
        "# Conjuntos/Sets\n",
        "\n",
        "São uma coleção de itens desordenada, parcialmente imutável e que **não** podem conter elementos duplicados. Por ser parcialmente imutável, os sets possuem permissão de adição e remoção de elementos.\n",
        "\n",
        "Usados normalmente com operações matemáticas de união, interseção e diferença simétrica.\n",
        "\n",
        "https://www.treinaweb.com.br/blog/principais-estruturas-de-dados-no-python/"
      ]
    },
    {
      "cell_type": "markdown",
      "metadata": {
        "id": "uTscD4yb10iK"
      },
      "source": [
        "## Declaração 1"
      ]
    },
    {
      "cell_type": "code",
      "metadata": {
        "id": "3sdPVrxP2Kjq",
        "colab": {
          "base_uri": "https://localhost:8080/"
        },
        "outputId": "69692b12-057c-4dd0-a744-c96907511ace"
      },
      "source": [
        "# Declara o conjunto 1\n",
        "conjunto1 = {1, 2, 3, 3}\n",
        "print(conjunto1)\n",
        "print(type(conjunto1))\n",
        "\n",
        "# Declara o conjunto 2\n",
        "conjunto2 = {1, 2, 3, 4}\n",
        "print(conjunto2)\n",
        "print(type(conjunto2))"
      ],
      "execution_count": 60,
      "outputs": [
        {
          "output_type": "stream",
          "name": "stdout",
          "text": [
            "{1, 2, 3}\n",
            "<class 'set'>\n",
            "{1, 2, 3, 4}\n",
            "<class 'set'>\n"
          ]
        }
      ]
    },
    {
      "cell_type": "markdown",
      "metadata": {
        "id": "TuE7MaeY2UCc"
      },
      "source": [
        "## Declaração 2"
      ]
    },
    {
      "cell_type": "code",
      "metadata": {
        "id": "wrgjkNYO2VWR",
        "colab": {
          "base_uri": "https://localhost:8080/"
        },
        "outputId": "56859d7e-13c3-4709-a908-72ce224394a6"
      },
      "source": [
        "# Declara o conjunto 1\n",
        "conjunto1 = set([1, 2, 3, 3])\n",
        "print(conjunto1)\n",
        "\n",
        "# Declara o conjunto 2\n",
        "conjunto2 = set([1, 2, 3, 4])\n",
        "print(conjunto2)"
      ],
      "execution_count": 61,
      "outputs": [
        {
          "output_type": "stream",
          "name": "stdout",
          "text": [
            "{1, 2, 3}\n",
            "{1, 2, 3, 4}\n"
          ]
        }
      ]
    },
    {
      "cell_type": "markdown",
      "metadata": {
        "id": "gi4CaK8f2oVA"
      },
      "source": [
        "## Acessando elementos"
      ]
    },
    {
      "cell_type": "code",
      "metadata": {
        "id": "KJcAUXgG2oVE",
        "colab": {
          "base_uri": "https://localhost:8080/"
        },
        "outputId": "0e078e8e-51b0-4949-ab4d-089468d10bd4"
      },
      "source": [
        "# Declara e inicializa conjunto de cores\n",
        "cores = set(['vermelho', 'azul', 'verde', 'amarelo', 'branco', 'branco'])\n",
        "\n",
        "# Percorre o elementos do conjunto de cores, o valor atual está em cor\n",
        "for cor in cores:\n",
        "    print(cor)"
      ],
      "execution_count": 62,
      "outputs": [
        {
          "output_type": "stream",
          "name": "stdout",
          "text": [
            "azul\n",
            "amarelo\n",
            "branco\n",
            "vermelho\n",
            "verde\n"
          ]
        }
      ]
    },
    {
      "cell_type": "markdown",
      "metadata": {
        "id": "N_iBHL1p20ea"
      },
      "source": [
        "## Adicionando elementos"
      ]
    },
    {
      "cell_type": "code",
      "metadata": {
        "id": "U9UqchRv23LI",
        "colab": {
          "base_uri": "https://localhost:8080/"
        },
        "outputId": "74ec5149-a16c-4769-bffd-bcd800b3b2a7"
      },
      "source": [
        "# Declara o conjunto 1\n",
        "conjunto1 = {1, 2, 3, 3}\n",
        "\n",
        "# Adicionando elementos sem repetição\n",
        "conjunto1.add(4)\n",
        "print(\"Adição\", conjunto1)\n",
        "\n",
        "# Adicionando elementos com repetição\n",
        "conjunto1.add(1)\n",
        "print(\"Adição\", conjunto1)"
      ],
      "execution_count": 63,
      "outputs": [
        {
          "output_type": "stream",
          "name": "stdout",
          "text": [
            "Adição {1, 2, 3, 4}\n",
            "Adição {1, 2, 3, 4}\n"
          ]
        }
      ]
    },
    {
      "cell_type": "markdown",
      "metadata": {
        "id": "aadxRNTP3IA3"
      },
      "source": [
        "## Atualizando elementos"
      ]
    },
    {
      "cell_type": "code",
      "metadata": {
        "id": "c4cBHmLI3Luj",
        "colab": {
          "base_uri": "https://localhost:8080/"
        },
        "outputId": "855838d3-eeb9-4e01-a165-b7f8bfdcb868"
      },
      "source": [
        "# Declara o conjunto 1\n",
        "conjunto1 = {1, 2, 3, 3}\n",
        "\n",
        "#atualizando set\n",
        "conjunto1.update([3, 4, 5, 6])\n",
        "print(\"Atualição\", conjunto1)"
      ],
      "execution_count": 64,
      "outputs": [
        {
          "output_type": "stream",
          "name": "stdout",
          "text": [
            "Atualição {1, 2, 3, 4, 5, 6}\n"
          ]
        }
      ]
    },
    {
      "cell_type": "markdown",
      "metadata": {
        "id": "5iH6rnD83VMw"
      },
      "source": [
        "## Removendo elementos"
      ]
    },
    {
      "cell_type": "code",
      "metadata": {
        "id": "gfU5yOtk20pg",
        "colab": {
          "base_uri": "https://localhost:8080/"
        },
        "outputId": "b6f6e77a-a04e-42ea-fb87-3b3a1bbd9093"
      },
      "source": [
        "# Declara o conjunto 1\n",
        "conjunto1 = {1, 2, 3, 3}\n",
        "\n",
        "# Removendo elemento\n",
        "conjunto1.discard(2)\n",
        "print(\"Remoção\", conjunto1)"
      ],
      "execution_count": 65,
      "outputs": [
        {
          "output_type": "stream",
          "name": "stdout",
          "text": [
            "Remoção {1, 3}\n"
          ]
        }
      ]
    },
    {
      "cell_type": "markdown",
      "metadata": {
        "id": "ZWMqhaYL34Mx"
      },
      "source": [
        "## Operações matemáticas"
      ]
    },
    {
      "cell_type": "markdown",
      "metadata": {
        "id": "mVVvOQ4F354I"
      },
      "source": [
        "### União\n",
        "\n",
        "União (|), todos os elementos dos dois conjuntos(sets) serão “unidos”, formando um único conjunto(set) com todos os elementos, sem repetí-los."
      ]
    },
    {
      "cell_type": "code",
      "metadata": {
        "id": "lS4DnVBI3_iC",
        "colab": {
          "base_uri": "https://localhost:8080/"
        },
        "outputId": "3889e22f-04cf-44ae-c3bc-e7ff3ea101e6"
      },
      "source": [
        "# Declara o conjunto 1\n",
        "conjunto1 = set([1, 2, 3, 4, 4])\n",
        "# Declara o conjunto 2\n",
        "conjunto2 = set([3, 4, 5, 6, 7])\n",
        "\n",
        "# União\n",
        "print(\"União\")\n",
        "\n",
        "# Usando operador |\n",
        "print(conjunto1 | conjunto2)\n",
        "\n",
        "# ou com método union\n",
        "print(conjunto1.union(conjunto2))"
      ],
      "execution_count": 66,
      "outputs": [
        {
          "output_type": "stream",
          "name": "stdout",
          "text": [
            "União\n",
            "{1, 2, 3, 4, 5, 6, 7}\n",
            "{1, 2, 3, 4, 5, 6, 7}\n"
          ]
        }
      ]
    },
    {
      "cell_type": "markdown",
      "metadata": {
        "id": "A6x1nmV04bMq"
      },
      "source": [
        "### Interseção\n",
        "\n",
        "Interseção (&), apenas os elementos que estiverem nos dois conjuntos(sets) serão considerados."
      ]
    },
    {
      "cell_type": "code",
      "metadata": {
        "id": "piGwo8Gl4aqw",
        "colab": {
          "base_uri": "https://localhost:8080/"
        },
        "outputId": "d56ccddf-84fb-4741-e2b9-9d5501b366a0"
      },
      "source": [
        "# Declara o conjunto 1\n",
        "conjunto1 = set([1, 2, 3, 4, 4])\n",
        "# Declara o conjunto 2\n",
        "conjunto2 = set([3, 4, 5, 6, 7])\n",
        "\n",
        "# Interseção\n",
        "print(\"Interseção\")\n",
        "\n",
        "# Usando operador &\n",
        "print(conjunto1 & conjunto2)\n",
        "\n",
        "# ou com método intersection\n",
        "print(conjunto1.intersection(conjunto2))"
      ],
      "execution_count": 67,
      "outputs": [
        {
          "output_type": "stream",
          "name": "stdout",
          "text": [
            "Interseção\n",
            "{3, 4}\n",
            "{3, 4}\n"
          ]
        }
      ]
    },
    {
      "cell_type": "markdown",
      "metadata": {
        "id": "aDIesbKa403f"
      },
      "source": [
        "### Diferença\n",
        "\n",
        "Diferença (–), restarão apenas os elementos que estiverem em um dos conjuntos(set), mas não no segundo."
      ]
    },
    {
      "cell_type": "code",
      "metadata": {
        "id": "JMgK-Lpc43EZ",
        "colab": {
          "base_uri": "https://localhost:8080/"
        },
        "outputId": "fd24bc67-ca70-432f-b731-3d2623f247c9"
      },
      "source": [
        "# Declara o conjunto 1\n",
        "conjunto1 = set([1, 2, 3, 4, 4])\n",
        "# Declara o conjunto 2\n",
        "conjunto2 = set([3, 4, 5, 6, 7])\n",
        "\n",
        "# Diferença\n",
        "print(\"Diferença\")\n",
        "\n",
        "# Usando operador -\n",
        "print(conjunto1 -conjunto2)\n",
        "\n",
        "# ou com método difference\n",
        "print(conjunto1.difference(conjunto2))\n"
      ],
      "execution_count": 68,
      "outputs": [
        {
          "output_type": "stream",
          "name": "stdout",
          "text": [
            "Diferença\n",
            "{1, 2}\n",
            "{1, 2}\n"
          ]
        }
      ]
    },
    {
      "cell_type": "markdown",
      "metadata": {
        "id": "WP75Wkez5FCj"
      },
      "source": [
        "### Diferença simétrica\n",
        "\n",
        "Diferença simétrica (^), apenas os elementos que estiverem nos dois conjuntos(sets), porém que não se repitam, serão exibidos."
      ]
    },
    {
      "cell_type": "code",
      "metadata": {
        "id": "iYgwEwVI36Co",
        "colab": {
          "base_uri": "https://localhost:8080/"
        },
        "outputId": "54782d96-b65f-4b46-e829-323141d69777"
      },
      "source": [
        "# Declara o conjunto 1\n",
        "conjunto1 = set([1, 2, 3, 4, 4])\n",
        "# Declara o conjunto 2\n",
        "conjunto2 = set([3, 4, 5, 6, 7])\n",
        "\n",
        "# Diferença simétrica\n",
        "print(\"Diferença Simétrica\")\n",
        "\n",
        "# Usando operador ^\n",
        "print(conjunto1 ^ conjunto2)\n",
        "\n",
        "# ou com método symmetric_difference\n",
        "print(conjunto1.symmetric_difference(conjunto2))"
      ],
      "execution_count": 69,
      "outputs": [
        {
          "output_type": "stream",
          "name": "stdout",
          "text": [
            "Diferença Simétrica\n",
            "{1, 2, 5, 6, 7}\n",
            "{1, 2, 5, 6, 7}\n"
          ]
        }
      ]
    },
    {
      "cell_type": "markdown",
      "metadata": {
        "id": "bWfk655zF1Tm"
      },
      "source": [
        "## Converter Lista em Set"
      ]
    },
    {
      "cell_type": "code",
      "metadata": {
        "id": "x3BbZSZEF3rK",
        "colab": {
          "base_uri": "https://localhost:8080/"
        },
        "outputId": "4d330b28-e414-4f74-b7cc-c6cf50f367c0"
      },
      "source": [
        "# Declara uma lista\n",
        "lista = [ 10, 20, 30, 10, 40, 50, 50]\n",
        "\n",
        "# Converte a lista para um conjunto\n",
        "conjunto = set(lista)\n",
        "\n",
        "# Mostra o conjunto criada\n",
        "print(conjunto)"
      ],
      "execution_count": 70,
      "outputs": [
        {
          "output_type": "stream",
          "name": "stdout",
          "text": [
            "{40, 10, 50, 20, 30}\n"
          ]
        }
      ]
    },
    {
      "cell_type": "markdown",
      "metadata": {
        "id": "659vCoXLHkLO"
      },
      "source": [
        "# Dicionário/Dict\n",
        "\n",
        "No Python, os dicionários são coleções de itens desordenados com uma diferença bem grande quando comparados às outras coleções: um elemento dentro de um dicionário possui uma chave associada a ele, uma espécie de identificador. Sendo assim, é muito utilizado quando queremos armazenar dados de forma organizada e que possuem identificação única (como em um banco de dados).\n",
        "\n",
        "https://www.treinaweb.com.br/blog/manipulando-dicionarios-no-python/\n",
        "\n",
        "https://www.alura.com.br/artigos/trabalhando-com-o-dicionario-no-python"
      ]
    },
    {
      "cell_type": "markdown",
      "metadata": {
        "id": "gfKqb-IUBrdH"
      },
      "source": [
        "## Declaração \n",
        "\n",
        "\n"
      ]
    },
    {
      "cell_type": "code",
      "metadata": {
        "colab": {
          "base_uri": "https://localhost:8080/"
        },
        "id": "6RO6mOSqBrdM",
        "outputId": "c9e4841c-53d8-49e9-a423-8c597932db40"
      },
      "source": [
        "# Declara um dicionário vazio com {}\n",
        "dicionario = {}\n",
        "\n",
        "# Usando  método update\n",
        "dicionario.update({1: 'vermelho'})\n",
        "dicionario.update({2: 'azul'})\n",
        "dicionario.update({3: 'verde'})\n",
        "dicionario.update({4: 'amarelo'})\n",
        "dicionario.update({5: 'rosa'})\n",
        "dicionario.update({6: 'branco'})\n",
        "\n",
        "print(dicionario)"
      ],
      "execution_count": 71,
      "outputs": [
        {
          "output_type": "stream",
          "name": "stdout",
          "text": [
            "{1: 'vermelho', 2: 'azul', 3: 'verde', 4: 'amarelo', 5: 'rosa', 6: 'branco'}\n"
          ]
        }
      ]
    },
    {
      "cell_type": "markdown",
      "metadata": {
        "id": "w6kx3_9D6YLb"
      },
      "source": [
        "## Declaração 1 - Chave numérica\n",
        "\n",
        "\n"
      ]
    },
    {
      "cell_type": "code",
      "metadata": {
        "id": "NRm3F43B6Xqx",
        "colab": {
          "base_uri": "https://localhost:8080/"
        },
        "outputId": "e77bd8ef-290e-4231-9fce-0ca2b71f9023"
      },
      "source": [
        "# Declara e inicializa um dicionário de cores com chave númerica com {}\n",
        "dicionario = {1:'vermelho', 2:'azul', 3:'verde', 4:'amarelo', 5:'rosa', 6:'branco'}\n",
        "\n",
        "print(dicionario)"
      ],
      "execution_count": 72,
      "outputs": [
        {
          "output_type": "stream",
          "name": "stdout",
          "text": [
            "{1: 'vermelho', 2: 'azul', 3: 'verde', 4: 'amarelo', 5: 'rosa', 6: 'branco'}\n"
          ]
        }
      ]
    },
    {
      "cell_type": "markdown",
      "metadata": {
        "id": "kGkKx1-w7Fz4"
      },
      "source": [
        "## Declaração 2 - Chave numérica\n"
      ]
    },
    {
      "cell_type": "code",
      "metadata": {
        "id": "mSLO01r27Fz5",
        "colab": {
          "base_uri": "https://localhost:8080/"
        },
        "outputId": "aee77c8e-db03-428d-f512-33d622004dfd"
      },
      "source": [
        "# Declara e inicializa um dicionário de cores com chave númerica com o método dict\n",
        "dicionario = dict({1:'vermelho', 2:'azul', 3:'verde', 4:'amarelo', 5:'rosa', 6:'branco'})\n",
        "\n",
        "print(dicionario)"
      ],
      "execution_count": 73,
      "outputs": [
        {
          "output_type": "stream",
          "name": "stdout",
          "text": [
            "{1: 'vermelho', 2: 'azul', 3: 'verde', 4: 'amarelo', 5: 'rosa', 6: 'branco'}\n"
          ]
        }
      ]
    },
    {
      "cell_type": "markdown",
      "metadata": {
        "id": "LfMQ7wuD95UQ"
      },
      "source": [
        "## Declaração 3 - Chave Literal"
      ]
    },
    {
      "cell_type": "code",
      "metadata": {
        "id": "BWuzl00K94Ut",
        "colab": {
          "base_uri": "https://localhost:8080/"
        },
        "outputId": "6c74c89b-f45c-4f22-9c66-9cf1ea952c7e"
      },
      "source": [
        "# Declara e inicializa um dicionário de cores com chave literal\n",
        "dicionario = {'um':'vermelho', 'dois':'azul', 'tres':'verde', 'quatro':'amarelo', 'cinco':'rosa'}\n",
        "\n",
        "print(dicionario)\n",
        "\n",
        "# Recuperando valores com colchetes\n",
        "print(dicionario['um'])"
      ],
      "execution_count": 74,
      "outputs": [
        {
          "output_type": "stream",
          "name": "stdout",
          "text": [
            "{'um': 'vermelho', 'dois': 'azul', 'tres': 'verde', 'quatro': 'amarelo', 'cinco': 'rosa'}\n",
            "vermelho\n"
          ]
        }
      ]
    },
    {
      "cell_type": "markdown",
      "metadata": {
        "id": "Lva_kXo6HnJa"
      },
      "source": [
        "## Recuperando valores com colchetes 1\n",
        "\n",
        "\n"
      ]
    },
    {
      "cell_type": "code",
      "metadata": {
        "id": "ZqfznTJsHok7",
        "colab": {
          "base_uri": "https://localhost:8080/"
        },
        "outputId": "6693390e-dd4a-4a02-9c82-b3dae3d547bf"
      },
      "source": [
        "# Declara e inicializa um dicionário de cores\n",
        "dicionario = {1:'vermelho', 2:'azul', 3:'verde', 4:'amarelo', 5:'rosa', 6:'branco'}\n",
        "\n",
        "# Recuperando um valor pela chave e colchetes\n",
        "try:\n",
        "    valor = dicionario[1]     \n",
        "except KeyError:\n",
        "    valor = None\n",
        "\n",
        "# Mostra o valor\n",
        "print(valor)"
      ],
      "execution_count": 75,
      "outputs": [
        {
          "output_type": "stream",
          "name": "stdout",
          "text": [
            "vermelho\n"
          ]
        }
      ]
    },
    {
      "cell_type": "markdown",
      "metadata": {
        "id": "D7t1bOT6JIYx"
      },
      "source": [
        "## Recuperando valores com get 2"
      ]
    },
    {
      "cell_type": "code",
      "metadata": {
        "id": "pdFs8u8eJIlZ",
        "colab": {
          "base_uri": "https://localhost:8080/"
        },
        "outputId": "e2f3ee89-b669-4116-cfd9-c613b6c8ea7a"
      },
      "source": [
        "# Declara e inicializa um dicionário de cores\n",
        "dicionario = {1:'vermelho', 2:'azul', 3:'verde', 4:'amarelo', 5:'rosa', 6:'branco'}\n",
        "\n",
        "# Recuperando um valor pela chave com get sem valor padrão\n",
        "valor = dicionario.get(1)\n",
        "\n",
        "# Mostra o valor\n",
        "print(valor)"
      ],
      "execution_count": 76,
      "outputs": [
        {
          "output_type": "stream",
          "name": "stdout",
          "text": [
            "vermelho\n"
          ]
        }
      ]
    },
    {
      "cell_type": "markdown",
      "metadata": {
        "id": "HO6bkS68JdKN"
      },
      "source": [
        "## Recuperando valores com get e valor default 3"
      ]
    },
    {
      "cell_type": "code",
      "metadata": {
        "id": "YL0Vdr6UJhfd",
        "colab": {
          "base_uri": "https://localhost:8080/"
        },
        "outputId": "9b19b4c1-4ce0-4b91-c69b-13ea4d534aba"
      },
      "source": [
        "# Declara e inicializa um dicionário de cores\n",
        "dicionario = {1:'vermelho', 2:'azul', 3:'verde', 4:'amarelo', 5:'rosa', 6:'branco'}\n",
        "\n",
        "# Recuperando um valor pela chave com get com valor padrão\n",
        "valor = dicionario.get(10,'sem cor')\n",
        "\n",
        "# Mostra o valor\n",
        "print(valor)"
      ],
      "execution_count": 77,
      "outputs": [
        {
          "output_type": "stream",
          "name": "stdout",
          "text": [
            "sem cor\n"
          ]
        }
      ]
    },
    {
      "cell_type": "markdown",
      "metadata": {
        "id": "zvP-bofD7j3A"
      },
      "source": [
        "## Tamanho do dicionário"
      ]
    },
    {
      "cell_type": "code",
      "metadata": {
        "id": "kNGceH3S7lkA",
        "colab": {
          "base_uri": "https://localhost:8080/"
        },
        "outputId": "ba9bd2c6-fb4d-4b6e-c57c-42b3234e1272"
      },
      "source": [
        "# Declara e inicializa um dicionário de cores\n",
        "dicionario = {1:'vermelho', 2:'azul', 3:'verde', 4:'amarelo', 5:'rosa', 6:'branco'}\n",
        "\n",
        "print(len(dicionario))"
      ],
      "execution_count": 78,
      "outputs": [
        {
          "output_type": "stream",
          "name": "stdout",
          "text": [
            "6\n"
          ]
        }
      ]
    },
    {
      "cell_type": "markdown",
      "metadata": {
        "id": "uzOziKk57u5K"
      },
      "source": [
        "## Adicionado elementos"
      ]
    },
    {
      "cell_type": "code",
      "metadata": {
        "id": "EnmtqHmw7wby",
        "colab": {
          "base_uri": "https://localhost:8080/"
        },
        "outputId": "e3710f50-ef90-4a00-bef9-43aac09b2c90"
      },
      "source": [
        "# Declara e inicializa um dicionário de cores\n",
        "dicionario = {1:'vermelho', 2:'azul', 3:'verde', 4:'amarelo', 5:'rosa', 6:'branco'}\n",
        "\n",
        "print(dicionario)\n",
        "\n",
        "# Especificando a posição\n",
        "dicionario[8] = 'cinza'\n",
        "print(dicionario)\n",
        "\n",
        "# Usando método update\n",
        "dicionario.update({7: 'purpura'})\n",
        "print(dicionario)"
      ],
      "execution_count": 79,
      "outputs": [
        {
          "output_type": "stream",
          "name": "stdout",
          "text": [
            "{1: 'vermelho', 2: 'azul', 3: 'verde', 4: 'amarelo', 5: 'rosa', 6: 'branco'}\n",
            "{1: 'vermelho', 2: 'azul', 3: 'verde', 4: 'amarelo', 5: 'rosa', 6: 'branco', 8: 'cinza'}\n",
            "{1: 'vermelho', 2: 'azul', 3: 'verde', 4: 'amarelo', 5: 'rosa', 6: 'branco', 8: 'cinza', 7: 'purpura'}\n"
          ]
        }
      ]
    },
    {
      "cell_type": "markdown",
      "metadata": {
        "id": "nH26cd0_eY4J"
      },
      "source": [
        "## Concatenando dois dicionários"
      ]
    },
    {
      "cell_type": "code",
      "metadata": {
        "id": "skOTMPdeeY4J",
        "colab": {
          "base_uri": "https://localhost:8080/"
        },
        "outputId": "153925f2-2014-41b1-d56e-87a82e891b43"
      },
      "source": [
        "# Declara e inicializa um dicionário de cores\n",
        "dicionario1 = {1:'vermelho', 2:'azul', 3:'verde', 4:'amarelo'}\n",
        "dicionario2 = {4:'amarelo', 5:'rosa', 6:'branco'}\n",
        "\n",
        "print(dicionario1)\n",
        "print(dicionario2)\n",
        "\n",
        "# Concatena os dicionários()\n",
        "dicionario1.update(dicionario2)\n",
        "\n",
        "print(dicionario1)"
      ],
      "execution_count": 80,
      "outputs": [
        {
          "output_type": "stream",
          "name": "stdout",
          "text": [
            "{1: 'vermelho', 2: 'azul', 3: 'verde', 4: 'amarelo'}\n",
            "{4: 'amarelo', 5: 'rosa', 6: 'branco'}\n",
            "{1: 'vermelho', 2: 'azul', 3: 'verde', 4: 'amarelo', 5: 'rosa', 6: 'branco'}\n"
          ]
        }
      ]
    },
    {
      "cell_type": "markdown",
      "metadata": {
        "id": "17YaYR888L14"
      },
      "source": [
        "## Removendo elementos (pop)\n",
        "\n",
        "Remove um elemento pela chave do dicionário e retorna a chave do elemento. Use quando quiser conhecer o elemento removido."
      ]
    },
    {
      "cell_type": "code",
      "metadata": {
        "id": "YcHSjgad8NN4",
        "colab": {
          "base_uri": "https://localhost:8080/"
        },
        "outputId": "691662b1-fd7b-4720-f063-dd5b5d114e2c"
      },
      "source": [
        "# Declara e inicializa um dicionário de cores\n",
        "dicionario = {1:'vermelho', 2:'azul', 3:'verde', 4:'amarelo', 5:'rosa', 6:'branco'}\n",
        "\n",
        "print(dicionario)\n",
        "\n",
        "# pop()\n",
        "apagado = dicionario.pop(2)\n",
        "print(dicionario)\n",
        "\n",
        "# Elemento removido\n",
        "print(apagado)"
      ],
      "execution_count": 81,
      "outputs": [
        {
          "output_type": "stream",
          "name": "stdout",
          "text": [
            "{1: 'vermelho', 2: 'azul', 3: 'verde', 4: 'amarelo', 5: 'rosa', 6: 'branco'}\n",
            "{1: 'vermelho', 3: 'verde', 4: 'amarelo', 5: 'rosa', 6: 'branco'}\n",
            "azul\n"
          ]
        }
      ]
    },
    {
      "cell_type": "markdown",
      "metadata": {
        "id": "uBTTs67ZfKz9"
      },
      "source": [
        "## Removendo elementos (del)\n",
        "\n",
        "Remove um elemento pela chave do dicionário."
      ]
    },
    {
      "cell_type": "code",
      "metadata": {
        "id": "VFG3qfUpfKz-",
        "colab": {
          "base_uri": "https://localhost:8080/"
        },
        "outputId": "f9d13454-7653-49b7-aa7d-318859de68b4"
      },
      "source": [
        "# Declara e inicializa um dicionário de cores\n",
        "dicionario = {1:'vermelho', 2:'azul', 3:'verde', 4:'amarelo', 5:'rosa', 6:'branco'}\n",
        "\n",
        "print(dicionario)\n",
        "\n",
        "# del\n",
        "del dicionario[1]\n",
        "\n",
        "print(dicionario)"
      ],
      "execution_count": 82,
      "outputs": [
        {
          "output_type": "stream",
          "name": "stdout",
          "text": [
            "{1: 'vermelho', 2: 'azul', 3: 'verde', 4: 'amarelo', 5: 'rosa', 6: 'branco'}\n",
            "{2: 'azul', 3: 'verde', 4: 'amarelo', 5: 'rosa', 6: 'branco'}\n"
          ]
        }
      ]
    },
    {
      "cell_type": "markdown",
      "metadata": {
        "id": "JF2sOdM3e65C"
      },
      "source": [
        "## Apagando dicionário"
      ]
    },
    {
      "cell_type": "code",
      "metadata": {
        "id": "5tv1wJpoe65C",
        "colab": {
          "base_uri": "https://localhost:8080/"
        },
        "outputId": "3537bd19-f583-40d3-8224-13cbe3479b21"
      },
      "source": [
        "# Declara e inicializa um dicionário de cores\n",
        "dicionario = {1:'vermelho', 2:'azul', 3:'verde', 4:'amarelo', 5:'rosa', 6:'branco'}\n",
        "\n",
        "print(dicionario)\n",
        "\n",
        "# clear()\n",
        "dicionario.clear()\n",
        "\n",
        "print(dicionario)"
      ],
      "execution_count": 83,
      "outputs": [
        {
          "output_type": "stream",
          "name": "stdout",
          "text": [
            "{1: 'vermelho', 2: 'azul', 3: 'verde', 4: 'amarelo', 5: 'rosa', 6: 'branco'}\n",
            "{}\n"
          ]
        }
      ]
    },
    {
      "cell_type": "markdown",
      "metadata": {
        "id": "1LJiRi52_wii"
      },
      "source": [
        "## Listando os elementos"
      ]
    },
    {
      "cell_type": "code",
      "metadata": {
        "id": "tlsb5HpQ_yy5",
        "colab": {
          "base_uri": "https://localhost:8080/"
        },
        "outputId": "327687d4-e866-4fc0-e480-dc69cb18e84e"
      },
      "source": [
        "# Declara e inicializa um dicionário de cores\n",
        "dicionario = {1:'vermelho', 2:'azul', 3:'verde', 4:'amarelo', 5:'rosa', 6:'branco'}\n",
        "\n",
        "# Lista as chaves do dicionario(método keys())\n",
        "for linha in dicionario.keys():\n",
        "  print(linha)\n",
        "\n",
        "# Lista os valores do dicionário(método values())\n",
        "for linha in dicionario.values():\n",
        "  print(linha)\n",
        "\n",
        "# Lista chave e valores do dicionário(método items())\n",
        "for chave, valor in dicionario.items():\n",
        "  print(\"chave=\",chave,\" valor=\", valor)"
      ],
      "execution_count": 84,
      "outputs": [
        {
          "output_type": "stream",
          "name": "stdout",
          "text": [
            "1\n",
            "2\n",
            "3\n",
            "4\n",
            "5\n",
            "6\n",
            "vermelho\n",
            "azul\n",
            "verde\n",
            "amarelo\n",
            "rosa\n",
            "branco\n",
            "chave= 1  valor= vermelho\n",
            "chave= 2  valor= azul\n",
            "chave= 3  valor= verde\n",
            "chave= 4  valor= amarelo\n",
            "chave= 5  valor= rosa\n",
            "chave= 6  valor= branco\n"
          ]
        }
      ]
    },
    {
      "cell_type": "markdown",
      "metadata": {
        "id": "emPC9iVRbY-A"
      },
      "source": [
        "## Ordenando os elementos"
      ]
    },
    {
      "cell_type": "code",
      "metadata": {
        "colab": {
          "base_uri": "https://localhost:8080/"
        },
        "id": "6PWaEuwvcalv",
        "outputId": "87a523c8-7f87-4cf5-936b-26ee293628ee"
      },
      "source": [
        "# Declara e inicializa um dicionário de quantidade cores\n",
        "dicionario = {'vermelho': 3, 'azul': 2 , 'verde': 6, 'amarelo': 5, 'rosa': 1, 'branco':4}\n",
        "\n",
        "# Lista as chaves do dicionário ordenados crescentemente\n",
        "print(sorted(dicionario))"
      ],
      "execution_count": 85,
      "outputs": [
        {
          "output_type": "stream",
          "name": "stdout",
          "text": [
            "['amarelo', 'azul', 'branco', 'rosa', 'verde', 'vermelho']\n"
          ]
        }
      ]
    },
    {
      "cell_type": "code",
      "metadata": {
        "colab": {
          "base_uri": "https://localhost:8080/"
        },
        "id": "rol09AimbY-B",
        "outputId": "761bcf2f-c5d3-4ece-ad41-628aa7575bd6"
      },
      "source": [
        "# Declara e inicializa um dicionário de quantidade cores\n",
        "dicionario = {'vermelho': 3, 'azul': 2 , 'verde': 6, 'amarelo': 5, 'rosa': 1, 'branco':4}\n",
        "\n",
        "# Lista as chaves do dicionário ordenados crescentemente\n",
        "for valor in sorted(dicionario, key = dicionario.get):\n",
        "    print(valor, dicionario[valor])"
      ],
      "execution_count": 86,
      "outputs": [
        {
          "output_type": "stream",
          "name": "stdout",
          "text": [
            "rosa 1\n",
            "azul 2\n",
            "vermelho 3\n",
            "branco 4\n",
            "amarelo 5\n",
            "verde 6\n"
          ]
        }
      ]
    },
    {
      "cell_type": "code",
      "metadata": {
        "colab": {
          "base_uri": "https://localhost:8080/"
        },
        "id": "fhgb7A8McLHN",
        "outputId": "74ca5509-bbb3-4cce-f7ab-aacf8627fce1"
      },
      "source": [
        "# Declara e inicializa um dicionário de quantidade cores\n",
        "dicionario = {'vermelho': 3, 'azul': 2 , 'verde': 6, 'amarelo': 5, 'rosa': 1, 'branco':4}\n",
        "\n",
        "# Lista as chaves do dicionário ordenados descrescentemente\n",
        "for valor in sorted(dicionario, key = dicionario.get, reverse=True):\n",
        "    print(valor, dicionario[valor])"
      ],
      "execution_count": 87,
      "outputs": [
        {
          "output_type": "stream",
          "name": "stdout",
          "text": [
            "verde 6\n",
            "amarelo 5\n",
            "branco 4\n",
            "vermelho 3\n",
            "azul 2\n",
            "rosa 1\n"
          ]
        }
      ]
    },
    {
      "cell_type": "markdown",
      "metadata": {
        "id": "NGIkQkn79K04"
      },
      "source": [
        "## Dicionário de Dicionário"
      ]
    },
    {
      "cell_type": "code",
      "metadata": {
        "id": "KtIwBy529UBh",
        "colab": {
          "base_uri": "https://localhost:8080/"
        },
        "outputId": "d8b47686-02cc-41e4-9082-dc4a512f7469"
      },
      "source": [
        "# Declara e inicializa um dicionário de cores com chave númerica com {}\n",
        "dicionario = {1:{11:{'onze'}, 12:{'doze'}},\n",
        "              2:{21:{'vinte um'}, 22:{'vinte dois'}},\n",
        "              3:{31:{'trinta e um'}, 32:{'trinta e dois'}}}\n",
        "\n",
        "# Recupera o valor do primeiro dicionário\n",
        "print(dicionario[1])\n",
        "\n",
        "# Recupera o valor do segundo dicionário\n",
        "print(dicionario[1][11])\n",
        "\n",
        "# Lista chave e valores do dicionário(método items())\n",
        "for chave1, valor1 in dicionario.items():\n",
        "  print(\"chave1=\",chave1,\" valor1=\", valor1)\n",
        "  # Lista os valores do dicionário interno \n",
        "  for chave2, valor2 in valor1.items():\n",
        "    print(\"    chave2=\",chave2,\" valor2=\", valor2)"
      ],
      "execution_count": 88,
      "outputs": [
        {
          "output_type": "stream",
          "name": "stdout",
          "text": [
            "{11: {'onze'}, 12: {'doze'}}\n",
            "{'onze'}\n",
            "chave1= 1  valor1= {11: {'onze'}, 12: {'doze'}}\n",
            "    chave2= 11  valor2= {'onze'}\n",
            "    chave2= 12  valor2= {'doze'}\n",
            "chave1= 2  valor1= {21: {'vinte um'}, 22: {'vinte dois'}}\n",
            "    chave2= 21  valor2= {'vinte um'}\n",
            "    chave2= 22  valor2= {'vinte dois'}\n",
            "chave1= 3  valor1= {31: {'trinta e um'}, 32: {'trinta e dois'}}\n",
            "    chave2= 31  valor2= {'trinta e um'}\n",
            "    chave2= 32  valor2= {'trinta e dois'}\n"
          ]
        }
      ]
    },
    {
      "cell_type": "markdown",
      "metadata": {
        "id": "HoJtFntzzq0Q"
      },
      "source": [
        "# Classificação / Ordenação"
      ]
    },
    {
      "cell_type": "markdown",
      "metadata": {
        "id": "S3lURBdBzxuQ"
      },
      "source": [
        "## Método da bolha"
      ]
    },
    {
      "cell_type": "code",
      "metadata": {
        "id": "dkS6JT-iz1gc",
        "colab": {
          "base_uri": "https://localhost:8080/"
        },
        "outputId": "04cc9c86-882b-4fd5-f641-3e13dba0ebaa"
      },
      "source": [
        "# Inicialização das variáveis\n",
        "vetor = [60, 50, 40, 30, 20, 10]\n",
        "\n",
        "# Processamento\n",
        "for i in range(0, len(vetor)-1):\n",
        "    for j in range(i+1, len(vetor)):        \n",
        "        if(vetor[i] > vetor[j]):            \n",
        "            aux = vetor[i]\n",
        "            vetor[i] = vetor[j]\n",
        "            vetor[j] = aux\n",
        "            \n",
        "# Saída\n",
        "print(vetor)"
      ],
      "execution_count": 89,
      "outputs": [
        {
          "output_type": "stream",
          "name": "stdout",
          "text": [
            "[10, 20, 30, 40, 50, 60]\n"
          ]
        }
      ]
    },
    {
      "cell_type": "markdown",
      "metadata": {
        "id": "nMLw-_l8gqPI"
      },
      "source": [
        "## Método Quicksort"
      ]
    },
    {
      "cell_type": "code",
      "metadata": {
        "id": "qLLMntLZgsaU",
        "colab": {
          "base_uri": "https://localhost:8080/"
        },
        "outputId": "9fd70e3c-4c14-4f47-e006-a280335f0ef4"
      },
      "source": [
        "# Função quicksort\n",
        "def quicksort(vetor):\n",
        "    if len(vetor) <= 1:\n",
        "        return vetor\n",
        "    pivo = vetor[len(vetor) // 2] #Divisão inteira (//)\n",
        "    esquerda = [x for x in vetor if x < pivo]\n",
        "    meio = [x for x in vetor if x == pivo]\n",
        "    direita = [x for x in vetor if x > pivo]\n",
        "    return quicksort(esquerda) + meio + quicksort(direita)\n",
        "\n",
        "# Inicialização das variáveis\n",
        "vetor = [10, 20, 30, 40, 50, 60]\n",
        "\n",
        "# Processamento\n",
        "vetorOrdenado = quicksort(vetor)\n",
        "            \n",
        "# Saída\n",
        "print(vetor)"
      ],
      "execution_count": 90,
      "outputs": [
        {
          "output_type": "stream",
          "name": "stdout",
          "text": [
            "[10, 20, 30, 40, 50, 60]\n"
          ]
        }
      ]
    },
    {
      "cell_type": "markdown",
      "metadata": {
        "id": "0Q4NM9va2mWB"
      },
      "source": [
        "## Sort Ascendente"
      ]
    },
    {
      "cell_type": "code",
      "metadata": {
        "id": "AMS9-fng2qjb",
        "colab": {
          "base_uri": "https://localhost:8080/"
        },
        "outputId": "3069a63d-daf5-4662-f147-7b241b53baa1"
      },
      "source": [
        "# Inicialização das variáveis\n",
        "vetor = [60, 50, 40, 30, 20, 10]\n",
        "\n",
        "# Processamento\n",
        "vetor.sort()\n",
        "            \n",
        "# Saída\n",
        "print(vetor)"
      ],
      "execution_count": 91,
      "outputs": [
        {
          "output_type": "stream",
          "name": "stdout",
          "text": [
            "[10, 20, 30, 40, 50, 60]\n"
          ]
        }
      ]
    },
    {
      "cell_type": "markdown",
      "metadata": {
        "id": "2Y0uyvPf24zG"
      },
      "source": [
        "## Sort Descendente"
      ]
    },
    {
      "cell_type": "code",
      "metadata": {
        "id": "1-_tKRnC3CdR",
        "colab": {
          "base_uri": "https://localhost:8080/"
        },
        "outputId": "f56c7083-5e5b-4ded-a1b0-876d744f1c86"
      },
      "source": [
        "# Inicialização das variáveis\n",
        "vetor = [10, 20, 30, 40, 50, 60]\n",
        "\n",
        "# Processamento\n",
        "vetor.sort(reverse=True)\n",
        "            \n",
        "# Saída\n",
        "print(vetor)"
      ],
      "execution_count": 92,
      "outputs": [
        {
          "output_type": "stream",
          "name": "stdout",
          "text": [
            "[60, 50, 40, 30, 20, 10]\n"
          ]
        }
      ]
    },
    {
      "cell_type": "markdown",
      "metadata": {
        "id": "KfESLnXVs2zM"
      },
      "source": [
        "# Implementações de estruturas de dados"
      ]
    },
    {
      "cell_type": "markdown",
      "metadata": {
        "id": "P6-IKLWDkEKc"
      },
      "source": [
        "## Classe Pilha\n",
        "\n",
        "LIFO (Last In First Out)\n",
        "\n",
        "A inserção e remoção é realizada sempre no fim da lista, denominada topo."
      ]
    },
    {
      "cell_type": "code",
      "metadata": {
        "id": "6XoLTXvYkLf-"
      },
      "source": [
        "class Pilha:\n",
        "  \n",
        "    # Construtor da classe\n",
        "    def __init__(self):\n",
        "        # Lista para armazenar os elementos da pilha\n",
        "        self.pilha = []\n",
        "        #inicializa o contador de elementos da pilha\n",
        "        self.qtde = 0 \n",
        "        \n",
        "    # Empilhar(push)\n",
        "    def empilhar(self, elemento):\n",
        "        # Adiciona o elemento a pilha\n",
        "        self.pilha.append(elemento)\n",
        "        # Incrementa o contador de elementos da pilha\n",
        "        self.qtde += 1\n",
        "    \n",
        "    # Desempilhar(pop)\n",
        "    def desempilhar(self): \n",
        "        # Se não estiver vazia\n",
        "        if not self.vazia():\n",
        "            # Mensagem mostrando o elemento removido\n",
        "            print(\"Elemento removido: \", self.pilha[len(self.pilha) - 1])\n",
        "            # Remove o elemento do topo da pilha\n",
        "            self.pilha.pop(len(self.pilha) - 1)\n",
        "            # Decrementa o contador de elementos da pilha\n",
        "            self.qtde -= 1\n",
        "\n",
        "    # Verifica a situação da pilha\n",
        "    def vazia(self):\n",
        "        # Verifica o tamanho da lista\n",
        "        if self.qtde == 0:\n",
        "            return True\n",
        "        return False\n",
        "    \n",
        "    # Mostra os elementos da pilha\n",
        "    def mostraPilha(self):\n",
        "        # Percorre os elementos da pilha\n",
        "        for i in range(self.qtde - 1, -1, -1): #Range de (Tamanho Fila até 0)\n",
        "            print(self.pilha[i])"
      ],
      "execution_count": 93,
      "outputs": []
    },
    {
      "cell_type": "markdown",
      "metadata": {
        "id": "03hwiVMLkhue"
      },
      "source": [
        "Exemplo uso:"
      ]
    },
    {
      "cell_type": "code",
      "metadata": {
        "id": "YVbsZehSkjJ4",
        "colab": {
          "base_uri": "https://localhost:8080/"
        },
        "outputId": "a896aac3-c093-43b0-c89d-2db1c949d2ef"
      },
      "source": [
        "# Declara a pilha\n",
        "p = Pilha()\n",
        "\n",
        "# Adiciona \n",
        "p.empilhar(10)\n",
        "p.empilhar(20)\n",
        "p.empilhar(30)\n",
        "\n",
        "# Mostra a pilha\n",
        "p.mostraPilha()\n",
        "\n",
        "# Remove \n",
        "p.desempilhar()\n",
        "\n",
        "# Mostra a pilha\n",
        "p.mostraPilha()\n",
        "\n",
        "# Remove \n",
        "p.desempilhar()\n",
        "\n",
        "# Situação da pilha\n",
        "print(p.vazia())"
      ],
      "execution_count": 94,
      "outputs": [
        {
          "output_type": "stream",
          "name": "stdout",
          "text": [
            "30\n",
            "20\n",
            "10\n",
            "Elemento removido:  30\n",
            "20\n",
            "10\n",
            "Elemento removido:  20\n",
            "False\n"
          ]
        }
      ]
    },
    {
      "cell_type": "markdown",
      "metadata": {
        "id": "oP0Tf9dEnB9x"
      },
      "source": [
        "## Classe Fila\n",
        "\n",
        "FIFO (First In First Out)\n",
        "\n",
        "A inclusão ocorre no fim e a exclusão ocorre no início."
      ]
    },
    {
      "cell_type": "code",
      "metadata": {
        "id": "aRCMn1i0nMx2"
      },
      "source": [
        "class Fila:\n",
        "\n",
        "    # Construtor da classe\n",
        "    def __init__(self):\n",
        "        # Lista para armazenar os elementos da pilha\n",
        "        self.fila = []\n",
        "        #inicializa contador de elementos da fila\n",
        "        self.qtde = 0\n",
        "        \n",
        "    # Enfileirar(enqueue)\n",
        "    def enfileirar(self, elemento):\n",
        "        # Adiciona o elemento no final da fila\n",
        "        self.fila.append(elemento)\n",
        "        # Incrementa o contador de elementos da fila\n",
        "        self.qtde += 1\n",
        "    \n",
        "    # Desenfileirar(dequeue)\n",
        "    def desenfileirar(self):\n",
        "        # Se não estiver vazia\n",
        "        if not self.vazia():\n",
        "            # Mensagem mostrando o elemento removido          \n",
        "            print(\"Elemento removido: \", self.fila[0])\n",
        "            # Remove o elemento do início da fila\n",
        "            self.fila.pop(0)\n",
        "            # Decrementa o contador de elementos da fila\n",
        "            self.qtde -= 1\n",
        "\n",
        "    # Verifica a situação da fila\n",
        "    def vazia(self):\n",
        "        if self.qtde == 0:\n",
        "            return True\n",
        "        return False\n",
        "    \n",
        "    # Mostra os elementos da fila\n",
        "    def mostraFila(self):\n",
        "        # Percorre os elementos da fila\n",
        "        for i in range(self.qtde):\n",
        "            print(self.fila[i])"
      ],
      "execution_count": 95,
      "outputs": []
    },
    {
      "cell_type": "markdown",
      "metadata": {
        "id": "YzhngxoToGFc"
      },
      "source": [
        "Exemplo uso:"
      ]
    },
    {
      "cell_type": "code",
      "metadata": {
        "id": "lLpYAooroGfN",
        "colab": {
          "base_uri": "https://localhost:8080/"
        },
        "outputId": "37e614d8-6a4b-4a3f-bacb-f80543383700"
      },
      "source": [
        "# Declara a fila\n",
        "q = Fila()\n",
        "\n",
        "# Adiciona \n",
        "q.enfileirar(10)\n",
        "q.enfileirar(20)\n",
        "q.enfileirar(30)\n",
        "\n",
        "# Mostra a fila\n",
        "q.mostraFila()\n",
        "\n",
        "# Remove\n",
        "q.desenfileirar()\n",
        "\n",
        "# Mostra a fila\n",
        "q.mostraFila()\n",
        "\n",
        "# Enfileirar\n",
        "print(\"Enfileirando: 40\")\n",
        "q.enfileirar(40)\n",
        "\n",
        "# Mostra a fila\n",
        "q.mostraFila()\n",
        "\n",
        "# Situação da fila\n",
        "print(q.vazia())"
      ],
      "execution_count": 96,
      "outputs": [
        {
          "output_type": "stream",
          "name": "stdout",
          "text": [
            "10\n",
            "20\n",
            "30\n",
            "Elemento removido:  10\n",
            "20\n",
            "30\n",
            "Enfileirando: 40\n",
            "20\n",
            "30\n",
            "40\n",
            "False\n"
          ]
        }
      ]
    },
    {
      "cell_type": "markdown",
      "metadata": {
        "id": "T3Ko8MjHowD-"
      },
      "source": [
        "## Classe Deque\n",
        "\n",
        "Os elementos podem ser removidos ou inseridos no início ou fim da fila."
      ]
    },
    {
      "cell_type": "code",
      "metadata": {
        "id": "hAota5TYozCF"
      },
      "source": [
        "class Deque:\n",
        "\n",
        "    # Construtor da classe    \n",
        "    def __init__(self):\n",
        "        # Lista para armazenar os elementos do deque\n",
        "        self.deque = []\n",
        "        # Inicializa contador de elementos do deque\n",
        "        self.qtde = 0\n",
        "    \n",
        "    # Insere no início(insertFront)\n",
        "    def inserirInicio(self, elemento):\n",
        "        # Adiciona o elemento no início do deque\n",
        "        self.deque.insert(0, elemento)\n",
        "        # Incrementa o contador de elementos do deque\n",
        "        self.qtde += 1\n",
        "            \n",
        "    # Insere no fim(insertBack)\n",
        "    def inserirFim(self, elemento):\n",
        "        # Adiciona o elemento no fim do deque\n",
        "        self.deque.append(elemento)\n",
        "        # Incrementa o contador de elementos do deque\n",
        "        self.qtde += 1\n",
        "        \n",
        "    # Remove do início(removeFront)\n",
        "    def removerInicio(self):\n",
        "        # Mensagem mostrando o elemento removido\n",
        "        print(\"Elemento removido: \", self.deque[0])\n",
        "        # Remove o elemento do início\n",
        "        self.deque.pop(0)\n",
        "        # Decrementa o contador de elementos do deque\n",
        "        self.qtde -= 1\n",
        "    \n",
        "    # Remove do fim(removeBack)\n",
        "    def removerFim(self):\n",
        "        # Mensagem mostrando o elemento removido\n",
        "        print(\"Elemento removido: \", self.deque[-1])\n",
        "        # Remove o elemento do fim\n",
        "        self.deque.pop(-1)\n",
        "        # Decrementa o contador de elementos\n",
        "        self.qtde -= 1\n",
        "        \n",
        "    # Verifica a situação do deque\n",
        "    def vazia(self):\n",
        "        if self.qtde == 0:\n",
        "            return True\n",
        "        return False\n",
        "\n",
        "    # Mostra os elementos do deque\n",
        "    def mostraDeque(self):\n",
        "        # Percorre os elementos do deque\n",
        "        for i in range(self.qtde):\n",
        "            print(self.deque[i])"
      ],
      "execution_count": 97,
      "outputs": []
    },
    {
      "cell_type": "markdown",
      "metadata": {
        "id": "yHWYdDQip7jA"
      },
      "source": [
        "Exemplo de uso:"
      ]
    },
    {
      "cell_type": "code",
      "metadata": {
        "id": "n2h1HLW5p8p6",
        "colab": {
          "base_uri": "https://localhost:8080/"
        },
        "outputId": "dc035f29-df8f-4c5c-c3bd-00ef25639515"
      },
      "source": [
        "# Declara o deque\n",
        "d = Deque()\n",
        "\n",
        "# Inserindo no início\n",
        "d.inserirInicio(10)\n",
        "d.inserirInicio(20)\n",
        "d.inserirInicio(30)\n",
        "\n",
        "# Mostra o deque\n",
        "d.mostraDeque()\n",
        "\n",
        "# Remove do fim\n",
        "d.removerFim()\n",
        "\n",
        "# Remove do início\n",
        "d.removerInicio()\n",
        "\n",
        "# Mostra o deque\n",
        "d.mostraDeque()\n",
        "\n",
        "# Situação do deque\n",
        "print(d.vazia())"
      ],
      "execution_count": 98,
      "outputs": [
        {
          "output_type": "stream",
          "name": "stdout",
          "text": [
            "30\n",
            "20\n",
            "10\n",
            "Elemento removido:  10\n",
            "Elemento removido:  30\n",
            "20\n",
            "False\n"
          ]
        }
      ]
    },
    {
      "cell_type": "markdown",
      "metadata": {
        "id": "_TDiScCgqUIW"
      },
      "source": [
        "## Deque com collections.deque\n",
        "\n",
        "Implementação do Deque do pacote colletions"
      ]
    },
    {
      "cell_type": "code",
      "metadata": {
        "id": "DoW65JTIqYBi",
        "colab": {
          "base_uri": "https://localhost:8080/"
        },
        "outputId": "ca186c08-4295-4f2a-d082-152b74920648"
      },
      "source": [
        "from collections import deque\n",
        "\n",
        "# Declara o deque\n",
        "d = deque()\n",
        "\n",
        "# Adiciona ao fim do deque\n",
        "d.append(10) \n",
        "# Adiciona ao início ao deque\n",
        "d.appendleft(20) \n",
        "# Adiciona ao fim do deque\n",
        "d.append(30)\n",
        "\n",
        "# Mostra o deque\n",
        "for i in d:\n",
        "    print(i, end=' ')\n",
        "\n",
        "# Remove do fim\n",
        "d.pop() \n",
        "\n",
        "# Remove do início\n",
        "d.popleft()\n",
        "\n",
        "# Mostra o deque\n",
        "for i in d:\n",
        "    print(i, end=' ')"
      ],
      "execution_count": 99,
      "outputs": [
        {
          "output_type": "stream",
          "name": "stdout",
          "text": [
            "20 10 30 10 "
          ]
        }
      ]
    },
    {
      "cell_type": "markdown",
      "metadata": {
        "id": "REh3q0uBfVFE"
      },
      "source": [
        "## Classe ListaSimplesmenteEncadeada\n",
        "\n",
        "Os elementos podem ser removidos ou inseridos no início ou fim da fila. Existe uma classe para armazenar os dados e o ponteiro do próximo elemento."
      ]
    },
    {
      "cell_type": "code",
      "metadata": {
        "id": "P6-bYxTIflWT"
      },
      "source": [
        "class No:\n",
        "\n",
        "    # Construtor da classe    \n",
        "    def __init__(self, elemento=None, proximo=None):\n",
        "        self.elemento = elemento\n",
        "        self.proximo = proximo\n",
        "    \n",
        "    # Retorna os dados do nó\n",
        "    def __str__(self):\n",
        "        return str(self.elemento)"
      ],
      "execution_count": 100,
      "outputs": []
    },
    {
      "cell_type": "code",
      "metadata": {
        "id": "i-UowY2SfVFF"
      },
      "source": [
        "class ListaSimplesmenteEncadeada:\n",
        "\n",
        "    # Construtor da classe    \n",
        "    def __init__(self):\n",
        "        # Guarda o início da lista simplesmente encadeada\n",
        "        self.inicio = None\n",
        "        #inicializa contador de elementos da lista simplesmente encadeada\n",
        "        self.qtde = 0\n",
        "    \n",
        "    # Insere no início(insertFront)\n",
        "    def inserirInicio(self, elemento):\n",
        "        # Instancia um novo nó\n",
        "        novo = No(elemento, self.inicio)\n",
        "        # Adiciona o elemento no início da lista simplesmente encadeada\n",
        "        self.inicio = novo\n",
        "        # Incrementa o contador de elementos da lista simplesmente encadeada\n",
        "        self.qtde += 1\n",
        "                    \n",
        "    # Insere no fim(insertBack)\n",
        "    def inserirFim(self, elemento):\n",
        "        # Se diferente de vazio procura a última posição\n",
        "        if self.inicio:\n",
        "          aux = self.inicio\n",
        "          # Percorre os elementos da lista simplesmente encadeada\n",
        "          while aux.proximo:            \n",
        "            aux = aux.proximo\n",
        "          # Instancia um novo nó\n",
        "          novo = No(elemento)\n",
        "          # Adiciona ao final da lista\n",
        "          aux.proximo = novo\n",
        "          # Incrementa o contador de elementos do deque\n",
        "          self.qtde += 1\n",
        "        else:\n",
        "          self.inserirInicio(elemento)      \n",
        "        \n",
        "    # Remove do início(removeFront)\n",
        "    def removerInicio(self):\n",
        "        # Verifica se a lista não está vazia\n",
        "        if self.inicio:\n",
        "            # Mensagem mostrando o elemento removido\n",
        "            print(\"Elemento removido: \", self.inicio.elemento)\n",
        "            # Remove o elemento do início\n",
        "            self.inicio = self.inicio.proximo\n",
        "            # Decrementa o contador de elementos da lista simplesmente encadeada\n",
        "            self.qtde -= 1\n",
        "        else:\n",
        "            print(\"Lista vazia!\")\n",
        "    \n",
        "    # Remove do fim(removeBack)\n",
        "    def removerFim(self):\n",
        "        # Verifica se a lista não está vazia\n",
        "        if self.inicio:\n",
        "            # Com mais de um nó\n",
        "            if self.inicio.proximo:\n",
        "                # Recupera o início da lista\n",
        "                atual = self.inicio \n",
        "                anterior = None;\n",
        "                while atual.proximo:\n",
        "                    anterior = atual\n",
        "                    atual = atual.proximo                                \n",
        "                # Mensagem mostrando o elemento removido\n",
        "                print(\"Elemento removido: \", atual.elemento)\n",
        "                # Pula o elemento a ser removido\n",
        "                anterior.proximo = atual.proximo \n",
        "                # Decrementa o contador de elementos da lista simplesmente encadeada\n",
        "                self.qtde -= 1                \n",
        "            else:\n",
        "                # Remove do início                \n",
        "                self.removerInicio()            \n",
        "        else:\n",
        "            print(\"Lista vazia!\")        \n",
        "        \n",
        "    # Verifica a situação da lista simplesmente encadeada\n",
        "    def vazia(self):\n",
        "        if self.qtde == 0:\n",
        "            return True\n",
        "        return False\n",
        "\n",
        "    # Mostra os elementos da lista simplesmente encadeada\n",
        "    def mostraLista(self):\n",
        "        aux = self.inicio\n",
        "        # Percorre os elementos da lista simplesmente encadeada\n",
        "        while aux:\n",
        "          print(aux)\n",
        "          aux = aux.proximo\n",
        "          "
      ],
      "execution_count": 101,
      "outputs": []
    },
    {
      "cell_type": "markdown",
      "metadata": {
        "id": "shcXxUVsfVFJ"
      },
      "source": [
        "Exemplo de uso:"
      ]
    },
    {
      "cell_type": "code",
      "metadata": {
        "id": "sMVMGH_ZfVFK",
        "colab": {
          "base_uri": "https://localhost:8080/"
        },
        "outputId": "75704807-dc0c-4b44-a00d-c9e1c7cbbeca"
      },
      "source": [
        "# Declara a lista simplesmente encadeada\n",
        "l = ListaSimplesmenteEncadeada()\n",
        "\n",
        "# Inserindo no início\n",
        "l.inserirFim(30)\n",
        "l.inserirFim(40)\n",
        "\n",
        "# Inserindo no fim\n",
        "l.inserirInicio(20)\n",
        "l.inserirInicio(10)\n",
        "\n",
        "# Mostra a lista simplesmente encadeada\n",
        "l.mostraLista()\n",
        "\n",
        "# Remove do início\n",
        "l.removerInicio()\n",
        "\n",
        "# Mostra a lista simplesmente encadeada\n",
        "l.mostraLista()\n",
        "\n",
        "# Remove do fim\n",
        "l.removerFim()\n",
        "l.removerFim()\n",
        "l.removerFim()\n",
        "l.removerFim()\n",
        "\n",
        "# Mostra a lista simplesmente encadeada\n",
        "l.mostraLista()\n",
        "\n",
        "# Situação da lista simplesmente encadeada\n",
        "print(l.vazia())"
      ],
      "execution_count": 102,
      "outputs": [
        {
          "output_type": "stream",
          "name": "stdout",
          "text": [
            "10\n",
            "20\n",
            "30\n",
            "40\n",
            "Elemento removido:  10\n",
            "20\n",
            "30\n",
            "40\n",
            "Elemento removido:  40\n",
            "Elemento removido:  30\n",
            "Elemento removido:  20\n",
            "Lista vazia!\n",
            "True\n"
          ]
        }
      ]
    }
  ]
}