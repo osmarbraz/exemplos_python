{
  "nbformat": 4,
  "nbformat_minor": 0,
  "metadata": {
    "colab": {
      "name": "ExemplosPythonRedesNeurais.ipynb",
      "provenance": [],
      "collapsed_sections": [],
      "toc_visible": true,
      "authorship_tag": "ABX9TyMv8KypD30bMYAU9vFwf+6/",
      "include_colab_link": true
    },
    "kernelspec": {
      "name": "python3",
      "display_name": "Python 3"
    }
  },
  "cells": [
    {
      "cell_type": "markdown",
      "metadata": {
        "id": "view-in-github",
        "colab_type": "text"
      },
      "source": [
        "<a href=\"https://colab.research.google.com/github/osmarbraz/exemplos_python/blob/master/ExemplosPythonRedesNeurais.ipynb\" target=\"_parent\"><img src=\"https://colab.research.google.com/assets/colab-badge.svg\" alt=\"Open In Colab\"/></a>"
      ]
    },
    {
      "cell_type": "markdown",
      "metadata": {
        "id": "gsUtsp6HBO4j"
      },
      "source": [
        "# Redes Neurais em Python no Google Colaboratory\n",
        "\n",
        "https://medium.com/@lucasoliveiras/introdu%C3%A7%C3%A3o-a-deep-learning-redes-neurais-e-tensorflow-77d8618464e6\n",
        "\n",
        "-----------------------------------------\n",
        "**Guia Colab Iniciante:**\n",
        "\n",
        "https://medium.com/machina-sapiens/google-colab-guia-do-iniciante-334d70aad531\n",
        "\n",
        "**Documentação oficial:**\n",
        "\n",
        "https://colab.research.google.com/github/jakevdp/PythonDataScienceHandbook/blob/master/notebooks/01.01-Help-And-Documentation.ipynb\n",
        "\n",
        "**Características :**\n",
        "\n",
        "https://colab.research.google.com/notebooks/basic_features_overview.ipynb"
      ]
    },
    {
      "cell_type": "markdown",
      "metadata": {
        "id": "-3dRlUmiBRQk"
      },
      "source": [
        "## Exemplo 1 XOR\n",
        "\n",
        "![alt text](https://miro.medium.com/max/788/1*ep_f4c9ppMoAtnLLaVF-yw.png)"
      ]
    },
    {
      "cell_type": "markdown",
      "metadata": {
        "id": "USSzcUFNBZbN"
      },
      "source": [
        "Importando as bibliotecas"
      ]
    },
    {
      "cell_type": "code",
      "metadata": {
        "id": "ravdYZKkBL6t",
        "outputId": "7110f95a-ac9a-4731-b51a-f0f25a20de36",
        "colab": {
          "base_uri": "https://localhost:8080/",
          "height": 110
        }
      },
      "source": [
        "%tensorflow_version 1.x \n",
        "import tensorflow.compat.v1 as tf\n",
        "tf.disable_v2_behavior()\n",
        "\n",
        "import numpy as np"
      ],
      "execution_count": null,
      "outputs": [
        {
          "output_type": "stream",
          "text": [
            "TensorFlow 1.x selected.\n",
            "WARNING:tensorflow:From /tensorflow-1.15.2/python3.6/tensorflow_core/python/compat/v2_compat.py:68: disable_resource_variables (from tensorflow.python.ops.variable_scope) is deprecated and will be removed in a future version.\n",
            "Instructions for updating:\n",
            "non-resource variables are not supported in the long term\n"
          ],
          "name": "stdout"
        }
      ]
    },
    {
      "cell_type": "code",
      "metadata": {
        "id": "_-rwCYnuBbWI"
      },
      "source": [
        "# Entrada\n",
        "binary_i = np.array([[0,0], [0,1], [1,0], [1,1]])\n",
        "\n",
        "# Saída\n",
        "binary_o = np.array([[0], [1], [1], [0]])"
      ],
      "execution_count": null,
      "outputs": []
    },
    {
      "cell_type": "markdown",
      "metadata": {
        "id": "mgUwBJMOB4e3"
      },
      "source": [
        "Temos que criar dois tensores, que serão alimentados durante o treino com os valores de entrada e saída."
      ]
    },
    {
      "cell_type": "code",
      "metadata": {
        "id": "vABFHX25B4r6"
      },
      "source": [
        "X = tf.placeholder(tf.float32, shape=(None, 2), name=\"X\")\n",
        "y = tf.placeholder(tf.float32, shape=(None, 1), name=\"y\")"
      ],
      "execution_count": null,
      "outputs": []
    },
    {
      "cell_type": "markdown",
      "metadata": {
        "id": "6zzTDFDiB_9J"
      },
      "source": [
        "Podemos agora definir a estrutura da nossa rede neural.\n",
        "\n",
        "![alt text](https://miro.medium.com/max/1016/1*X8HY2i7s02Zsy7Lr4jomtA.png)"
      ]
    },
    {
      "cell_type": "code",
      "metadata": {
        "id": "V9uWfH5LCAFw",
        "outputId": "be88baaf-bb80-47fd-c773-93615f3ac5a4",
        "colab": {
          "base_uri": "https://localhost:8080/",
          "height": 146
        }
      },
      "source": [
        "# Arquitetura da rede\n",
        "n_inputs = 2\n",
        "n_hidden1 = 3\n",
        "n_outputs = 1\n",
        "\n",
        "hidden1 = tf.layers.dense(X, n_hidden1, name=\"hidden1-new\", activation=tf.nn.sigmoid)\n",
        "logits = tf.layers.dense(hidden1, n_outputs, name=\"outputs-new\")"
      ],
      "execution_count": null,
      "outputs": [
        {
          "output_type": "stream",
          "text": [
            "WARNING:tensorflow:From <ipython-input-4-abd98115fe45>:8: dense (from tensorflow.python.layers.core) is deprecated and will be removed in a future version.\n",
            "Instructions for updating:\n",
            "Use keras.layers.Dense instead.\n",
            "WARNING:tensorflow:From /tensorflow-1.15.2/python3.6/tensorflow_core/python/layers/core.py:187: Layer.apply (from tensorflow.python.keras.engine.base_layer) is deprecated and will be removed in a future version.\n",
            "Instructions for updating:\n",
            "Please use `layer.__call__` method instead.\n"
          ],
          "name": "stdout"
        }
      ]
    },
    {
      "cell_type": "markdown",
      "metadata": {
        "id": "NriyKCUiC-fT"
      },
      "source": [
        "Acredito que o treinamento da rede neural é um dos passos mais importantes, portanto, vamos definir qual algoritmo será usado."
      ]
    },
    {
      "cell_type": "code",
      "metadata": {
        "id": "nQAYSxzyC-nS",
        "outputId": "96f42397-2a40-48d7-9a9d-40618b6a73c3",
        "colab": {
          "base_uri": "https://localhost:8080/",
          "height": 92
        }
      },
      "source": [
        "erroestimado = 0.1\n",
        "numero_epocas = 1000\n",
        "\n",
        "custo = tf.reduce_mean(tf.nn.sigmoid_cross_entropy_with_logits(logits=logits, labels=y))\n",
        "otimizador = tf.train.AdamOptimizer(erroestimado)\n",
        "training_op = otimizador.minimize(custo)"
      ],
      "execution_count": null,
      "outputs": [
        {
          "output_type": "stream",
          "text": [
            "WARNING:tensorflow:From /tensorflow-1.15.2/python3.6/tensorflow_core/python/ops/nn_impl.py:183: where (from tensorflow.python.ops.array_ops) is deprecated and will be removed in a future version.\n",
            "Instructions for updating:\n",
            "Use tf.where in 2.0, which has the same broadcast rule as np.where\n"
          ],
          "name": "stdout"
        }
      ]
    },
    {
      "cell_type": "markdown",
      "metadata": {
        "id": "RGp7NJP9DE4z"
      },
      "source": [
        " Agora podemos realizar o treinamento da rede."
      ]
    },
    {
      "cell_type": "code",
      "metadata": {
        "id": "szrqfleODFMt",
        "outputId": "aa014206-612c-442a-8b8e-7785f773372d",
        "colab": {
          "base_uri": "https://localhost:8080/",
          "height": 217
        }
      },
      "source": [
        "predicao = tf.nn.sigmoid(logits)\n",
        "init = tf.global_variables_initializer()\n",
        "cont = 1\n",
        "with tf.Session() as sessao:\n",
        "    \n",
        "    # Inicia a sessao de treinamento\n",
        "    sessao.run(init)\n",
        "    for i in range(numero_epocas):\n",
        "        sessao.run(training_op, feed_dict={X: binary_i, y: binary_o})\n",
        "    \n",
        "    print(\"Treino completo!\")\n",
        "    \n",
        "    # Mostra a predição\n",
        "    predicao = sessao.run(predicao, feed_dict={X: binary_i})\n",
        "    print(\"Predição: \")\n",
        "    print(predicao)\n",
        "    print(\"Arredondando\")\n",
        "    print(np.round(predicao))"
      ],
      "execution_count": null,
      "outputs": [
        {
          "output_type": "stream",
          "text": [
            "Treino completo!\n",
            "Predição: \n",
            "[[4.0942457e-05]\n",
            " [9.9938893e-01]\n",
            " [9.9928027e-01]\n",
            " [1.7779801e-03]]\n",
            "Arredondando\n",
            "[[0.]\n",
            " [1.]\n",
            " [1.]\n",
            " [0.]]\n"
          ],
          "name": "stdout"
        }
      ]
    },
    {
      "cell_type": "markdown",
      "metadata": {
        "id": "ftHkCQ4PzYVd"
      },
      "source": [
        "## Exemplo 2 XOR - Sem momentum\n",
        "\n",
        "![alt text](https://miro.medium.com/max/788/1*ep_f4c9ppMoAtnLLaVF-yw.png)\n",
        "\n",
        "https://github.com/vbrodrigues/Backpropagation-in-Numpy-XOR-"
      ]
    },
    {
      "cell_type": "markdown",
      "metadata": {
        "id": "goujZWho5SKm"
      },
      "source": [
        "Importando as bibliotecas"
      ]
    },
    {
      "cell_type": "code",
      "metadata": {
        "id": "rTR_Fonx5Rr0"
      },
      "source": [
        "import numpy as np"
      ],
      "execution_count": null,
      "outputs": []
    },
    {
      "cell_type": "markdown",
      "metadata": {
        "id": "HzLrjQXJ6T9g"
      },
      "source": [
        "Funções auxiliares de ajuda"
      ]
    },
    {
      "cell_type": "code",
      "metadata": {
        "id": "YhQNRaXJ3jmR"
      },
      "source": [
        "# Funções de ajuda\n",
        "def sigmoid(z):\n",
        "    return 1 / (1 + np.e ** (-z))\n",
        "\n",
        "def sigmoid_prime(a):\n",
        "    # Estamos considerando que \"a\" já passou pela sigmoide, então a derivada se dá por:\n",
        "    return (a) * (1 - (a))"
      ],
      "execution_count": null,
      "outputs": []
    },
    {
      "cell_type": "markdown",
      "metadata": {
        "id": "UYKd92t85mG-"
      },
      "source": [
        "Precisamos passar a tabela contendo os valores de entrada e saída para o código."
      ]
    },
    {
      "cell_type": "code",
      "metadata": {
        "id": "UPeiR5cx5mgC"
      },
      "source": [
        "# Dados de entrada\n",
        "binary_i = np.array([[1, 0], [0, 1], [1, 1], [0, 0]])\n",
        "\n",
        "# Dados de saída\n",
        "binary_o  = np.array([[1], [1], [0], [0]])"
      ],
      "execution_count": null,
      "outputs": []
    },
    {
      "cell_type": "markdown",
      "metadata": {
        "id": "wctfDHlV3jzq"
      },
      "source": [
        "Podemos agora definir a estrutura da nossa rede neural.\n",
        "\n",
        "![alt text](https://miro.medium.com/max/1016/1*X8HY2i7s02Zsy7Lr4jomtA.png)"
      ]
    },
    {
      "cell_type": "code",
      "metadata": {
        "id": "s8R8n-fa3qLl"
      },
      "source": [
        "# Arquitetura da rede\n",
        "n_inputs = 2\n",
        "n_hidden1 = 4\n",
        "n_outputs = 1"
      ],
      "execution_count": null,
      "outputs": []
    },
    {
      "cell_type": "code",
      "metadata": {
        "id": "_yHf6dU84guP"
      },
      "source": [
        "# Inicialização aleatória dos pesos e bias\n",
        "w1 = np.random.randn(n_hidden1, n_inputs)\n",
        "w2 = np.random.randn(n_outputs, n_hidden1)\n",
        "b1 = np.ones((n_hidden1, 1))\n",
        "b2 = np.ones((n_outputs, 1))"
      ],
      "execution_count": null,
      "outputs": []
    },
    {
      "cell_type": "markdown",
      "metadata": {
        "id": "M9xbRg7bfbbJ"
      },
      "source": [
        "Função de treinamento da rede"
      ]
    },
    {
      "cell_type": "code",
      "metadata": {
        "id": "r97qOHM9zXQq"
      },
      "source": [
        "def treino(lr, X, y, w1, w2, b1, b2):\n",
        "\n",
        "    # FORWARD\n",
        "    X = X.reshape((n_inputs, 1))\n",
        "    y = y.reshape((n_outputs, 1))\n",
        "    z1 = np.matmul(w1, X) + b1\n",
        "    a1 = sigmoid(z1)\n",
        "    z2 = np.matmul(w2, a1) + b2\n",
        "    a2 = sigmoid(z2)\n",
        "    \n",
        "    # BACK\n",
        "    '''\n",
        "    Calculamos o erro na última camada e distribuímos esse erro nos pesos das camadas anteriores. \n",
        "    O erro da saída será a2 - y. Lembrando, Cost = sum(error ** 2). Calculamos o gradiente do output multiplicando dC/derror * derror/da2 * da2/dz2. Esse \n",
        "    gradiente será multiplicado por dz2/dW2 transposta (já que é um passo backpropagation) para achar o update vector em seguida. \n",
        "    \n",
        "    dC/derror = d(error ** 2)/derror = 2*error = error = erro_saida.\n",
        "    derror/da2 = d(a2 - y)/da2 = 1\n",
        "    da2/dz2 = sigmoid_prime(a2)\n",
        "    dz2/dW2 = d(W2*a1 + b2)/dW2 = a1\n",
        "    '''\n",
        "    erro_saida = a2 - y\n",
        "    gradient2 = erro_saida * sigmoid_prime(a2) \n",
        "    update_vector_2 = np.matmul(gradient2, a1.T)\n",
        "\n",
        "    '''Enquanto as duas primeiras derivadas são element-wise, a última é uma matmul dos gradientes com a transposta da ativação anterior\n",
        "    dCost/da2 * da2/dz2 x dz2/dw2 = erro_saida * sigmoid_prime(a2) x a1.T\n",
        "    Assim, achamos o quanto os weights tem que ser ajustados para diminuir o cost.'''\n",
        "    \n",
        "    '''\n",
        "    Agora precisamos calcular o hidden error. Podemos pensar no hidden error de cada node em hidden como uma parcela que os pesos de cada hidden_node contribuem\n",
        "    para o erro_saida. Pensando assim, podemos multiplicar os pesos de cada hidden_node, ou seja W2, pelo output_error. O certo seria dividir cada W pela soma\n",
        "    de todos os W em W2 para termos realmente uma proporção (ex.: w0,0 / (w0,0 + w0,1) * output_error), mas podemos ignorar esse denominador já que iremos \n",
        "    multiplicar tudo por um learning_rate de qualquer maneira.\n",
        "    Outra maneira é pensar nas derivadas parciais. Agora que temos o gradient2, podemos calcular o quanto a camada hidden influencia nesse gradient2, lembrando\n",
        "    que o próprio gradient2 influencia no erro final. Então precisamos calcular dC/dz1, que pela regra da cadeia se dá por:\n",
        "    dC/derror * derror/da2 * da2/dz2 * dz2/da1 * da1/dz1\n",
        "    Já temos quase todas as parcelas dessa conta vindas de gradient2, então temos gradient2 * dz2/da1 * da1/dz1, onde:\n",
        "    dz2/da1 = d(W2*a1 + b2)/da1 = W2\n",
        "    da1/dz1 = sigmoid_prime(a1)\n",
        "    No fim, organizando para as dimensões fecharem, temos que hidden_error é igual a W2.T * gradient2 * sigmoid_prime(a1). Substituíndo gradient2, ficamos\n",
        "    com:\n",
        "    erro_camada_oculta = W2.T * erro_saida * sigmoid_prime(a2) * sigmoid_prime(a1)\n",
        "    Aqui, consideraremos os 3 primeiros termos como erro_camada_oculta e calcularemos a multiplicação por sigmoid_prime(a1) para acharmos gradient1\n",
        "    Como é um passo no backprop, transpomos a matriz dos weights. \n",
        "    Agora que temos gradient1, multiplicamos por dz1/dW1 para finalmente acharmos o update vector, sabendo que:\n",
        "    dz1/dW1 = d(W1*X + b1)/dW1 = X\n",
        "    Como é um passo backprop, transpomos a matriz de input X.\n",
        "    '''\n",
        "    erro_camada_oculta = np.matmul(w2.T, erro_saida) * sigmoid_prime(a2)\n",
        "    gradient1 = erro_camada_oculta * sigmoid_prime(a1)\n",
        "    update_vector_1 = np.matmul(gradient1, X.T)\n",
        "    \n",
        "    '''\n",
        "    Para os biases, o delta (o quanto devem ser ajustados) é simplesmente o gradiente já calculado, pois dz2/db2 = 1.\n",
        "    '''\n",
        "    \n",
        "    #AJUSTAR PARÂMETROS\n",
        "    w1 -= lr * update_vector_1\n",
        "    w2 -= lr * update_vector_2\n",
        "    b1 -= lr * gradient1\n",
        "    b2 -= lr * gradient2\n",
        "    \n",
        "    return erro_saida"
      ],
      "execution_count": null,
      "outputs": []
    },
    {
      "cell_type": "markdown",
      "metadata": {
        "id": "l39dIDWL5eZM"
      },
      "source": [
        "Execução do Treinamento"
      ]
    },
    {
      "cell_type": "code",
      "metadata": {
        "id": "69rASTce4XC-"
      },
      "source": [
        "# Execução do treinamento\n",
        "numero_epocas = 100000\n",
        "erros = []\n",
        "custo = []\n",
        "passo = []\n",
        "# Hiperparâmetros(taxa de aprendizagem/learning rate)\n",
        "lr = .1\n",
        "\n",
        "for i in range(numero_epocas):\n",
        "    index = np.random.randint(len(binary_i))\n",
        "    treino(lr, binary_i[index], binary_o[index], w1, w2, b1, b2)\n",
        "    \n",
        "    if i % 1000 == 0:\n",
        "        erro_exemplo = treino(lr, binary_i[index], binary_o[index], w1, w2, b1, b2)\n",
        "        erros.append(erro_exemplo[0][0])\n",
        "        custo.append(sum(np.square(erros)) / len(erros))\n",
        "        passo.append(i)"
      ],
      "execution_count": null,
      "outputs": []
    },
    {
      "cell_type": "markdown",
      "metadata": {
        "id": "v77I4hnFLpcZ"
      },
      "source": [
        "Gráfico do custo ao longo da sessão de treino"
      ]
    },
    {
      "cell_type": "code",
      "metadata": {
        "id": "a8vmuBcY5cg2",
        "outputId": "354cec2a-9e0e-4ab6-8f7a-544a14d34594",
        "colab": {
          "base_uri": "https://localhost:8080/",
          "height": 504
        }
      },
      "source": [
        "import matplotlib.pyplot as plt\n",
        "\n",
        "# Plot do custo total\n",
        "plt.style.use(\"ggplot\")\n",
        "plt.figure(figsize = (14, 8))\n",
        "plt.plot(passo, custo)\n",
        "plt.ylim(0, 0.4)\n",
        "plt.title(\"Custo ao longo da sessão de treino\")\n",
        "plt.ylabel(\"Custo\")\n",
        "plt.xlabel(\"Passo de treinamento\")\n",
        "plt.text(0, 0.35, \"Custo no fim do treino: {:f}\".format(custo[-1]))\n",
        "plt.show()"
      ],
      "execution_count": null,
      "outputs": [
        {
          "output_type": "display_data",
          "data": {
            "image/png": "[encoded data removed]",
            "text/plain": [
              "<Figure size 1008x576 with 1 Axes>"
            ]
          },
          "metadata": {
            "tags": []
          }
        }
      ]
    },
    {
      "cell_type": "markdown",
      "metadata": {
        "id": "jAC-Xf1wgA5J"
      },
      "source": [
        "Execução dos testes"
      ]
    },
    {
      "cell_type": "code",
      "metadata": {
        "id": "oYwo8XU4S3MX"
      },
      "source": [
        "def forward(X, y, w1, w2, b1, b2):\n",
        "    for index in range(len(X)):\n",
        "        X_i = X[index].reshape((n_inputs, 1))\n",
        "        y_i = y[index].reshape((n_outputs, 1))\n",
        "        z1 = np.matmul(w1, X_i) + b1\n",
        "        a1 = sigmoid(z1)\n",
        "        z2 = np.matmul(w2, a1) + b2\n",
        "        a2 = sigmoid(z2)\n",
        "        print(\"Teste:\", X[index],\"/alvo =\", y[index], \" Predição= \", a2[0][0], \" Arredondado=\", np.round(a2[0][0]))\n"
      ],
      "execution_count": null,
      "outputs": []
    },
    {
      "cell_type": "code",
      "metadata": {
        "id": "jaJAcGSTMI6H",
        "outputId": "65def743-7ef7-44a1-e03c-ddc1fede51e2",
        "colab": {
          "base_uri": "https://localhost:8080/",
          "height": 90
        }
      },
      "source": [
        "# Teste\n",
        "forward(binary_i, binary_o, w1, w2, b1, b2)"
      ],
      "execution_count": null,
      "outputs": [
        {
          "output_type": "stream",
          "text": [
            "Teste: [1 0] /alvo = [1]  Predição =  0.9770776246250463  Arredondado= 1.0\n",
            "Teste: [0 1] /alvo = [1]  Predição =  0.97720612386328  Arredondado= 1.0\n",
            "Teste: [1 1] /alvo = [0]  Predição =  0.02782196638103838  Arredondado= 0.0\n",
            "Teste: [0 0] /alvo = [0]  Predição =  0.01357904217689329  Arredondado= 0.0\n"
          ],
          "name": "stdout"
        }
      ]
    },
    {
      "cell_type": "markdown",
      "metadata": {
        "id": "ci0M2vrpMPqM"
      },
      "source": [
        "# Perceptron"
      ]
    },
    {
      "cell_type": "markdown",
      "metadata": {
        "id": "apQiEzZEMXKL"
      },
      "source": [
        "Código base."
      ]
    },
    {
      "cell_type": "code",
      "metadata": {
        "id": "C6mJDkGVMWqs"
      },
      "source": [
        "import numpy as np\n",
        "\n",
        "def funcaoativacao(v):\n",
        "\t  \"\"\" Função de ativação. v deve ser um escalar \"\"\"  \n",
        "\t  if v >= 0:\n",
        "\t\t   return 1\n",
        "\t  else:\n",
        "\t\t   return 0\n",
        "\n",
        "def perceptron(x, peso, bias):\n",
        "    \"\"\" Função que implementa um perceptron com vetor de pessos w e bias b \"\"\"\n",
        "    v = np.dot(peso, x) + bias\n",
        "    # Converte para binário\n",
        "    y = funcaoativacao(v)    \n",
        "    return y"
      ],
      "execution_count": null,
      "outputs": []
    },
    {
      "cell_type": "markdown",
      "metadata": {
        "id": "P3vaORJZKGca"
      },
      "source": [
        "## Not\n",
        "\n",
        "https://towardsdatascience.com/perceptrons-logical-functions-and-the-xor-problem-37ca5025790a"
      ]
    },
    {
      "cell_type": "code",
      "metadata": {
        "id": "zyUkLpOiKH7A",
        "outputId": "d968c4ef-783b-4db7-8320-ef17e0dea4fb",
        "colab": {
          "base_uri": "https://localhost:8080/",
          "height": 51
        }
      },
      "source": [
        "def NOT_percep(entrada):\n",
        "\treturn perceptron(entrada, peso=-1, bias=0.5)\n",
        "\n",
        "print(\"NOT(0) = {}\".format(NOT_percep(0)))\n",
        "print(\"NOT(1) = {}\".format(NOT_percep(1)))"
      ],
      "execution_count": null,
      "outputs": [
        {
          "output_type": "stream",
          "text": [
            "NOT(0) = 1\n",
            "NOT(1) = 0\n"
          ],
          "name": "stdout"
        }
      ]
    },
    {
      "cell_type": "markdown",
      "metadata": {
        "id": "9FDkMYqwLk01"
      },
      "source": [
        "## And"
      ]
    },
    {
      "cell_type": "code",
      "metadata": {
        "id": "KrJBuf9ZLmD2",
        "outputId": "535829b9-512d-4236-d90b-6249e44f2f1b",
        "colab": {
          "base_uri": "https://localhost:8080/",
          "height": 85
        }
      },
      "source": [
        "def AND_percep(entrada):\n",
        "    peso = np.array([1, 1])    \n",
        "    bias = -1.5\n",
        "    return perceptron(entrada, peso, bias)\n",
        "\n",
        "# Teste\n",
        "example1 = np.array([1, 1])\n",
        "example2 = np.array([1, 0])\n",
        "example3 = np.array([0, 1])\n",
        "example4 = np.array([0, 0])\n",
        "\n",
        "print(\"AND({}, {}) = {}\".format(1, 1, AND_percep(example1)))\n",
        "print(\"AND({}, {}) = {}\".format(1, 0, AND_percep(example2)))\n",
        "print(\"AND({}, {}) = {}\".format(0, 1, AND_percep(example3)))\n",
        "print(\"AND({}, {}) = {}\".format(0, 0, AND_percep(example4)))"
      ],
      "execution_count": null,
      "outputs": [
        {
          "output_type": "stream",
          "text": [
            "AND(1, 1) = 1\n",
            "AND(1, 0) = 0\n",
            "AND(0, 1) = 0\n",
            "AND(0, 0) = 0\n"
          ],
          "name": "stdout"
        }
      ]
    },
    {
      "cell_type": "markdown",
      "metadata": {
        "id": "63LHE1ZGLts3"
      },
      "source": [
        "## Or"
      ]
    },
    {
      "cell_type": "code",
      "metadata": {
        "id": "w281K_diLuqJ",
        "outputId": "26cc2a45-8e35-40c9-efe1-ef88444ad9df",
        "colab": {
          "base_uri": "https://localhost:8080/",
          "height": 85
        }
      },
      "source": [
        "def OR_percep(x):\n",
        "    w = np.array([1, 1])\n",
        "    b = -0.5\n",
        "    return perceptron(x, w, b)\n",
        "\n",
        "# Test\n",
        "example1 = np.array([1, 1])\n",
        "example2 = np.array([1, 0])\n",
        "example3 = np.array([0, 1])\n",
        "example4 = np.array([0, 0])\n",
        "\n",
        "print(\"OR({}, {}) = {}\".format(1, 1, OR_percep(example1)))\n",
        "print(\"OR({}, {}) = {}\".format(1, 0, OR_percep(example2)))\n",
        "print(\"OR({}, {}) = {}\".format(0, 1, OR_percep(example3)))\n",
        "print(\"OR({}, {}) = {}\".format(0, 0, OR_percep(example4)))\n",
        "\n"
      ],
      "execution_count": null,
      "outputs": [
        {
          "output_type": "stream",
          "text": [
            "OR(1, 1) = 1\n",
            "OR(1, 0) = 1\n",
            "OR(0, 1) = 1\n",
            "OR(0, 0) = 0\n"
          ],
          "name": "stdout"
        }
      ]
    },
    {
      "cell_type": "markdown",
      "metadata": {
        "id": "EJ_SSrsaMGf4"
      },
      "source": [
        "## XOR"
      ]
    },
    {
      "cell_type": "code",
      "metadata": {
        "id": "OzarHw6oMH45",
        "outputId": "3a3adef8-c7cb-4538-bc38-3afebc03715f",
        "colab": {
          "base_uri": "https://localhost:8080/",
          "height": 85
        }
      },
      "source": [
        "def XOR_net(x):\n",
        "    gate_1 = AND_percep(x)\n",
        "    gate_2 = NOT_percep(gate_1)\n",
        "    gate_3 = OR_percep(x)\n",
        "    novox = np.array([gate_2, gate_3])\n",
        "    saida = AND_percep(novox)\n",
        "    return saida\n",
        "\n",
        "print(\"XOR({}, {}) = {}\".format(1, 1, XOR_net(example1)))\n",
        "print(\"XOR({}, {}) = {}\".format(1, 0, XOR_net(example2)))\n",
        "print(\"XOR({}, {}) = {}\".format(0, 1, XOR_net(example3)))\n",
        "print(\"XOR({}, {}) = {}\".format(0, 0, XOR_net(example4)))"
      ],
      "execution_count": null,
      "outputs": [
        {
          "output_type": "stream",
          "text": [
            "XOR(1, 1) = 0\n",
            "XOR(1, 0) = 1\n",
            "XOR(0, 1) = 1\n",
            "XOR(0, 0) = 0\n"
          ],
          "name": "stdout"
        }
      ]
    }
  ]
}